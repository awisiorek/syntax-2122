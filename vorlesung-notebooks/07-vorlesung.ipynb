{
 "cells": [
  {
   "cell_type": "markdown",
   "metadata": {},
   "source": [
    "***Vorlesung 'Syntax natürlicher Sprachen'***\n",
    "\n",
    "--- \n",
    "# Vorlesung 07: Subkategorisierung, Invertierung, Gap-Features"
   ]
  },
  {
   "cell_type": "code",
   "execution_count": 1,
   "metadata": {},
   "outputs": [],
   "source": [
    "import nltk\n",
    "from nltk import Tree\n",
    "from nltk.featstruct import FeatStruct"
   ]
  },
  {
   "cell_type": "code",
   "execution_count": 2,
   "metadata": {},
   "outputs": [],
   "source": [
    "def test_fcfg_grammar(gramstring, sent, draw=0, tracing=0):\n",
    "    grammar = nltk.grammar.FeatureGrammar.fromstring(gramstring)\n",
    "    parser = nltk.parse.FeatureChartParser(grammar,trace=tracing)\n",
    "    analyzed = False\n",
    "    for tree in parser.parse(sent):\n",
    "        if not draw: print(tree)\n",
    "        if draw: \n",
    "            tree = Tree.fromstring(str(tree).replace(\", \",\",\"))\n",
    "            #tree.pretty_print(unicodelines=True)\n",
    "            display(tree)\n",
    "        analyzed = True\n",
    "    if not analyzed:\n",
    "        print(\"Keine Analyse möglich\")    \n",
    "\n",
    "def test_cfg_grammar(grammar, sent, tracing=0):\n",
    "    parser = nltk.ChartParser(grammar,trace=tracing)\n",
    "    analyzed = False\n",
    "    for tree in parser.parse(sent):\n",
    "        tree.pretty_print(unicodelines=True)\n",
    "        analyzed = True\n",
    "    if not analyzed:\n",
    "        print(\"Keine Analyse möglich\")"
   ]
  },
  {
   "cell_type": "markdown",
   "metadata": {},
   "source": [
    "---\n",
    "## 1. Modellierung von Kasus, Agreement und Subkategorisierung (german.fcfg)\n",
    "\n",
    "\n",
    "### A) Übergenerierende CFG:"
   ]
  },
  {
   "cell_type": "code",
   "execution_count": 3,
   "metadata": {},
   "outputs": [],
   "source": [
    "grammar = nltk.CFG.fromstring(\"\"\"\n",
    "S -> NP VP\n",
    "NP -> Det N\n",
    "VP -> V\n",
    "VP -> V NP\n",
    "\n",
    "Det -> 'der' | 'dem' | 'den' | 'die'\n",
    "N -> 'Hund' | 'Hunde' |'Hunden' |'Katze' |'Katzen'\n",
    "V -> 'sieht' | 'sehen' | 'hilft' | 'helfen' | 'läuft' | 'laufen'\n",
    "\"\"\")"
   ]
  },
  {
   "cell_type": "code",
   "execution_count": 4,
   "metadata": {},
   "outputs": [
    {
     "name": "stdout",
     "output_type": "stream",
     "text": [
      "               S                \n",
      "     ┌─────────┴────┐            \n",
      "     │              VP          \n",
      "     │         ┌────┴───┐        \n",
      "     NP        │        NP      \n",
      " ┌───┴───┐     │    ┌───┴────┐   \n",
      "Det      N     V   Det       N  \n",
      " │       │     │    │        │   \n",
      "der     Hund sieht die     Katze\n",
      "\n"
     ]
    }
   ],
   "source": [
    "sent = 'der Hund sieht die Katze'.split()\n",
    "test_cfg_grammar(grammar, sent)"
   ]
  },
  {
   "cell_type": "code",
   "execution_count": 5,
   "metadata": {},
   "outputs": [
    {
     "name": "stdout",
     "output_type": "stream",
     "text": [
      "         S        \n",
      "     ┌───┴─────┐   \n",
      "     NP        VP \n",
      " ┌───┴───┐     │   \n",
      "Det      N     V  \n",
      " │       │     │   \n",
      "der     Hund sieht\n",
      "\n"
     ]
    }
   ],
   "source": [
    "#VERLETZUNG SUBKATEGORISIERUNG:\n",
    "sent = 'der Hund sieht'.split()\n",
    "test_cfg_grammar(grammar, sent)\n",
    "#Übergenerierung!"
   ]
  },
  {
   "cell_type": "code",
   "execution_count": 6,
   "metadata": {},
   "outputs": [
    {
     "name": "stdout",
     "output_type": "stream",
     "text": [
      "               S                \n",
      "     ┌─────────┴────┐            \n",
      "     │              VP          \n",
      "     │         ┌────┴───┐        \n",
      "     NP        │        NP      \n",
      " ┌───┴───┐     │    ┌───┴────┐   \n",
      "Det      N     V   Det       N  \n",
      " │       │     │    │        │   \n",
      "der     Hund sehen die     Katze\n",
      "\n"
     ]
    }
   ],
   "source": [
    "#VERLETZUNG SUBJEKT-KONGRUENZ:\n",
    "sent = 'der Hund sehen die Katze'.split()\n",
    "test_cfg_grammar(grammar, sent)\n",
    "#Übergenerierung!"
   ]
  },
  {
   "cell_type": "code",
   "execution_count": 7,
   "metadata": {},
   "outputs": [
    {
     "name": "stdout",
     "output_type": "stream",
     "text": [
      "               S                \n",
      "     ┌─────────┴────┐            \n",
      "     │              VP          \n",
      "     │         ┌────┴───┐        \n",
      "     NP        │        NP      \n",
      " ┌───┴───┐     │    ┌───┴────┐   \n",
      "Det      N     V   Det       N  \n",
      " │       │     │    │        │   \n",
      "dem     Hund sieht der     Katze\n",
      "\n"
     ]
    }
   ],
   "source": [
    "#VERLETZUNG KASUS-REKTION:\n",
    "sent = 'dem Hund sieht der Katze'.split()\n",
    "test_cfg_grammar(grammar, sent)\n",
    "#Übergenerierung!"
   ]
  },
  {
   "cell_type": "markdown",
   "metadata": {},
   "source": [
    "---\n",
    "### B) FCFG mit Constraints zur Verhinderung der Übergenerierung:\n",
    "\n",
    "- https://www.nltk.org/book/ch09.html#case-and-gender-in-german\n",
    "- vgl. https://www.nltk.org/book/ch09.html#subcategorization"
   ]
  },
  {
   "cell_type": "code",
   "execution_count": 8,
   "metadata": {},
   "outputs": [],
   "source": [
    "gramstring = r\"\"\"\n",
    "% start S\n",
    "\n",
    "S -> NP[CASE=nom, AGR=?a] VP[AGR=?a]\n",
    "\n",
    "NP[CASE=?c, AGR=?n] -> Det[CASE=?c, AGR=?n] N[CASE=?c, AGR=?n]\n",
    "\n",
    "VP[AGR=?v] -> V[AGR=?v, SUBCAT=0]\n",
    "VP[AGR=?v] -> V[OBJCASE=?c, AGR=?v, SUBCAT=1] NP[CASE=?c]\n",
    "\n",
    "## Übersicht Constraints (als Pfadgleichungen):\n",
    "    ## Subjekt-Kasusrektion = Zeile 4: <NP CASE> = nom \n",
    "    ## Objekt-Kasusrektion = Zeile 9: <V OBJCASE> = <NP CASE>\n",
    "    ## Subjektkongruenz = Zeile 4: <NP AGR> = <VP AGR>\n",
    "    ## Subkategorisierung = Zeilen 8,9: <V SUBCAT>= 0/1\n",
    "\n",
    "    ## nominale Kongruenz = Zeile 6: <Det AGR> = <N AGR>\n",
    "\n",
    "# masc\n",
    "Det[CASE=nom, AGR=[GND=masc,PER=3,NUM=sg]] -> 'der' \n",
    "Det[CASE=dat, AGR=[GND=masc,PER=3,NUM=sg]] -> 'dem'\n",
    "Det[CASE=acc, AGR=[GND=masc,PER=3,NUM=sg]] -> 'den'\n",
    "\n",
    "# fem\n",
    "Det[CASE=nom, AGR=[GND=fem,PER=3,NUM=sg]] -> 'die' \n",
    "Det[CASE=dat, AGR=[GND=fem,PER=3,NUM=sg]] -> 'der'\n",
    "Det[CASE=acc, AGR=[GND=fem,PER=3,NUM=sg]] -> 'die' \n",
    "\n",
    "\n",
    "# Plural determiners\n",
    "Det[CASE=nom, AGR=[PER=3,NUM=pl]] -> 'die' \n",
    "Det[CASE=dat, AGR=[PER=3,NUM=pl]] -> 'den' \n",
    "Det[CASE=acc, AGR=[PER=3,NUM=pl]] -> 'die' \n",
    "\n",
    "# Nouns\n",
    "N[AGR=[GND=masc,PER=3,NUM=sg]] -> 'Hund'\n",
    "N[CASE=nom, AGR=[GND=masc,PER=3,NUM=pl]] -> 'Hunde'\n",
    "N[CASE=dat, AGR=[GND=masc,PER=3,NUM=pl]] -> 'Hunden'\n",
    "N[CASE=acc, AGR=[GND=masc,PER=3,NUM=pl]] -> 'Hunde'\n",
    "\n",
    "N[AGR=[GND=fem,PER=3,NUM=sg]] -> 'Katze'\n",
    "N[AGR=[GND=fem,PER=3,NUM=pl]] -> 'Katzen'\n",
    "\n",
    "# Verbs\n",
    "V[OBJCASE=acc, AGR=[NUM=sg,PER=3], SUBCAT=1] -> 'sieht'\n",
    "V[OBJCASE=acc, AGR=[NUM=pl,PER=3], SUBCAT=1] -> 'sehen'\n",
    "V[OBJCASE=dat, AGR=[NUM=sg,PER=3], SUBCAT=1] -> 'hilft'\n",
    "V[OBJCASE=dat, AGR=[NUM=pl,PER=3], SUBCAT=1] -> 'helfen'\n",
    "V[AGR=[NUM=sg,PER=3], SUBCAT=0] -> 'läuft'\n",
    "V[AGR=[NUM=pl,PER=3], SUBCAT=0] -> 'laufen' \n",
    "\"\"\""
   ]
  },
  {
   "cell_type": "code",
   "execution_count": 9,
   "metadata": {},
   "outputs": [
    {
     "data": {
      "image/png": "[encoded data removed]",
      "text/plain": [
       "Tree('S[]', [Tree(\"NP[AGR=[GND='masc',NUM='pl',PER=3],CASE='nom']\", [Tree(\"Det[AGR=[NUM='pl',PER=3],CASE='nom']\", ['die']), Tree(\"N[AGR=[GND='masc',NUM='pl',PER=3],CASE='nom']\", ['Hunde'])]), Tree(\"VP[AGR=[NUM='pl',PER=3]]\", [Tree(\"V[AGR=[NUM='pl',PER=3],SUBCAT=0]\", ['laufen'])])])"
      ]
     },
     "metadata": {},
     "output_type": "display_data"
    }
   ],
   "source": [
    "sent = 'die Hunde laufen'.split()\n",
    "test_fcfg_grammar(gramstring, sent, draw=1)"
   ]
  },
  {
   "cell_type": "code",
   "execution_count": 10,
   "metadata": {},
   "outputs": [
    {
     "data": {
      "image/png": "[encoded data removed]",
      "text/plain": [
       "Tree('S[]', [Tree(\"NP[AGR=[GND='masc',NUM='sg',PER=3],CASE='nom']\", [Tree(\"Det[AGR=[GND='masc',NUM='sg',PER=3],CASE='nom']\", ['der']), Tree(\"N[AGR=[GND='masc',NUM='sg',PER=3]]\", ['Hund'])]), Tree(\"VP[AGR=[NUM='sg',PER=3]]\", [Tree(\"V[AGR=[NUM='sg',PER=3],OBJCASE='acc',SUBCAT=1]\", ['sieht']), Tree(\"NP[AGR=[GND='fem',NUM='sg',PER=3],CASE='acc']\", [Tree(\"Det[AGR=[GND='fem',NUM='sg',PER=3],CASE='acc']\", ['die']), Tree(\"N[AGR=[GND='fem',NUM='sg',PER=3]]\", ['Katze'])])])])"
      ]
     },
     "metadata": {},
     "output_type": "display_data"
    }
   ],
   "source": [
    "sent = 'der Hund sieht die Katze'.split()\n",
    "test_fcfg_grammar(gramstring, sent, draw=1)"
   ]
  },
  {
   "cell_type": "code",
   "execution_count": 11,
   "metadata": {},
   "outputs": [
    {
     "name": "stdout",
     "output_type": "stream",
     "text": [
      "Keine Analyse möglich\n"
     ]
    }
   ],
   "source": [
    "#VERLETZUNG SUBKATEGORISIERUNG:\n",
    "sent = 'der Hund sieht'.split()\n",
    "test_fcfg_grammar(gramstring, sent)"
   ]
  },
  {
   "cell_type": "code",
   "execution_count": 12,
   "metadata": {},
   "outputs": [
    {
     "name": "stdout",
     "output_type": "stream",
     "text": [
      "Keine Analyse möglich\n"
     ]
    }
   ],
   "source": [
    "#VERLETZUNG SUBJEKT-KONGRUENZ:\n",
    "sent = 'der Hund sehen die Katze'.split()\n",
    "test_fcfg_grammar(gramstring, sent)"
   ]
  },
  {
   "cell_type": "code",
   "execution_count": 13,
   "metadata": {},
   "outputs": [
    {
     "name": "stdout",
     "output_type": "stream",
     "text": [
      "Keine Analyse möglich\n"
     ]
    }
   ],
   "source": [
    "#VERLETZUNG KASUS-REKTION:\n",
    "sent = 'dem Hund sieht der Katze'.split()\n",
    "test_fcfg_grammar(gramstring, sent)"
   ]
  },
  {
   "cell_type": "markdown",
   "metadata": {},
   "source": [
    "---\n",
    "### mit Tracing:"
   ]
  },
  {
   "cell_type": "code",
   "execution_count": 14,
   "metadata": {},
   "outputs": [
    {
     "name": "stdout",
     "output_type": "stream",
     "text": [
      "|.der .Hund.läuf.|\n",
      "Leaf Init Rule:\n",
      "|[----]    .    .| [0:1] 'der'\n",
      "|.    [----]    .| [1:2] 'Hund'\n",
      "|.    .    [----]| [2:3] 'läuft'\n",
      "Feature Bottom Up Predict Combine Rule:\n",
      "|[----]    .    .| [0:1] Det[AGR=[GND='masc', NUM='sg', PER=3], CASE='nom'] -> 'der' *\n",
      "|[----]    .    .| [0:1] Det[AGR=[GND='fem', NUM='sg', PER=3], CASE='dat'] -> 'der' *\n",
      "Feature Bottom Up Predict Combine Rule:\n",
      "|[---->    .    .| [0:1] NP[AGR=?n, CASE=?c] -> Det[AGR=?n, CASE=?c] * N[AGR=?n, CASE=?c] {?c: 'dat', ?n: [GND='fem', NUM='sg', PER=3]}\n",
      "Feature Bottom Up Predict Combine Rule:\n",
      "|[---->    .    .| [0:1] NP[AGR=?n, CASE=?c] -> Det[AGR=?n, CASE=?c] * N[AGR=?n, CASE=?c] {?c: 'nom', ?n: [GND='masc', NUM='sg', PER=3]}\n",
      "Feature Bottom Up Predict Combine Rule:\n",
      "|.    [----]    .| [1:2] N[AGR=[GND='masc', NUM='sg', PER=3]] -> 'Hund' *\n",
      "Feature Single Edge Fundamental Rule:\n",
      "|[---------]    .| [0:2] NP[AGR=[GND='masc', NUM='sg', PER=3], CASE='nom'] -> Det[AGR=[GND='masc', NUM='sg', PER=3], CASE='nom'] N[AGR=[GND='masc', NUM='sg', PER=3], CASE='nom'] *\n",
      "Feature Bottom Up Predict Combine Rule:\n",
      "|[--------->    .| [0:2] S[] -> NP[AGR=?a, CASE='nom'] * VP[AGR=?a] {?a: [GND='masc', NUM='sg', PER=3]}\n",
      "Feature Bottom Up Predict Combine Rule:\n",
      "|.    .    [----]| [2:3] V[AGR=[NUM='sg', PER=3], SUBCAT=0] -> 'läuft' *\n",
      "Feature Bottom Up Predict Combine Rule:\n",
      "|.    .    [----]| [2:3] VP[AGR=[NUM='sg', PER=3]] -> V[AGR=[NUM='sg', PER=3], SUBCAT=0] *\n",
      "Feature Single Edge Fundamental Rule:\n",
      "|[==============]| [0:3] S[] -> NP[AGR=[GND='masc', NUM='sg', PER=3], CASE='nom'] VP[AGR=[GND='masc', NUM='sg', PER=3]] *\n"
     ]
    },
    {
     "data": {
      "image/png": "[encoded data removed]",
      "text/plain": [
       "Tree('S[]', [Tree(\"NP[AGR=[GND='masc',NUM='sg',PER=3],CASE='nom']\", [Tree(\"Det[AGR=[GND='masc',NUM='sg',PER=3],CASE='nom']\", ['der']), Tree(\"N[AGR=[GND='masc',NUM='sg',PER=3]]\", ['Hund'])]), Tree(\"VP[AGR=[NUM='sg',PER=3]]\", [Tree(\"V[AGR=[NUM='sg',PER=3],SUBCAT=0]\", ['läuft'])])])"
      ]
     },
     "metadata": {},
     "output_type": "display_data"
    }
   ],
   "source": [
    "#Positivbeispiel:\n",
    "sent = 'der Hund läuft'.split()\n",
    "test_fcfg_grammar(gramstring, sent, draw=1,tracing=2)"
   ]
  },
  {
   "cell_type": "code",
   "execution_count": 15,
   "metadata": {},
   "outputs": [
    {
     "name": "stdout",
     "output_type": "stream",
     "text": [
      "|.der .Hund.lauf.|\n",
      "Leaf Init Rule:\n",
      "|[----]    .    .| [0:1] 'der'\n",
      "|.    [----]    .| [1:2] 'Hund'\n",
      "|.    .    [----]| [2:3] 'laufen'\n",
      "Feature Bottom Up Predict Combine Rule:\n",
      "|[----]    .    .| [0:1] Det[AGR=[GND='masc', NUM='sg', PER=3], CASE='nom'] -> 'der' *\n",
      "|[----]    .    .| [0:1] Det[AGR=[GND='fem', NUM='sg', PER=3], CASE='dat'] -> 'der' *\n",
      "Feature Bottom Up Predict Combine Rule:\n",
      "|[---->    .    .| [0:1] NP[AGR=?n, CASE=?c] -> Det[AGR=?n, CASE=?c] * N[AGR=?n, CASE=?c] {?c: 'dat', ?n: [GND='fem', NUM='sg', PER=3]}\n",
      "Feature Bottom Up Predict Combine Rule:\n",
      "|[---->    .    .| [0:1] NP[AGR=?n, CASE=?c] -> Det[AGR=?n, CASE=?c] * N[AGR=?n, CASE=?c] {?c: 'nom', ?n: [GND='masc', NUM='sg', PER=3]}\n",
      "Feature Bottom Up Predict Combine Rule:\n",
      "|.    [----]    .| [1:2] N[AGR=[GND='masc', NUM='sg', PER=3]] -> 'Hund' *\n",
      "Feature Single Edge Fundamental Rule:\n",
      "|[---------]    .| [0:2] NP[AGR=[GND='masc', NUM='sg', PER=3], CASE='nom'] -> Det[AGR=[GND='masc', NUM='sg', PER=3], CASE='nom'] N[AGR=[GND='masc', NUM='sg', PER=3], CASE='nom'] *\n",
      "Feature Bottom Up Predict Combine Rule:\n",
      "|[--------->    .| [0:2] S[] -> NP[AGR=?a, CASE='nom'] * VP[AGR=?a] {?a: [GND='masc', NUM='sg', PER=3]}\n",
      "Feature Bottom Up Predict Combine Rule:\n",
      "|.    .    [----]| [2:3] V[AGR=[NUM='pl', PER=3], SUBCAT=0] -> 'laufen' *\n",
      "Feature Bottom Up Predict Combine Rule:\n",
      "|.    .    [----]| [2:3] VP[AGR=[NUM='pl', PER=3]] -> V[AGR=[NUM='pl', PER=3], SUBCAT=0] *\n",
      "Keine Analyse möglich\n"
     ]
    }
   ],
   "source": [
    "#VERLETZUNG SUBJEKT-KONGRUENZ:\n",
    "sent = 'der Hund laufen'.split()\n",
    "test_fcfg_grammar(gramstring, sent, draw=0,tracing=2)"
   ]
  },
  {
   "cell_type": "markdown",
   "metadata": {},
   "source": [
    "---\n",
    "## 2. Verhinderung Überproduktion durch invertierte NP - V -Regel für Auxiliarkonstruktion\n",
    "\n",
    "- https://www.nltk.org/book/ch09.html#auxiliary-verbs-and-inversion\n"
   ]
  },
  {
   "cell_type": "markdown",
   "metadata": {},
   "source": [
    "### A) CFG mit Übergenerierung bei AUX-Konstruktion:"
   ]
  },
  {
   "cell_type": "code",
   "execution_count": 16,
   "metadata": {},
   "outputs": [],
   "source": [
    "grammar = nltk.CFG.fromstring(\"\"\"\n",
    "    S   -> NP VP\n",
    "    \n",
    "    VP  -> VERBAL  \n",
    "    VERBAL -> V NP\n",
    "    \n",
    "    VP -> AUX VERBAL\n",
    " #invertierte NP-V-Regeln für AUX-VP:\n",
    "    VERBAL -> NP V\n",
    "\n",
    "    NP  -> DET NOM\n",
    "    NOM -> N\n",
    " \n",
    "    DET -> \"der\" | \"den\"\n",
    "    N   -> \"Hund\" | \"Briefträger\"\n",
    "    V   -> \"übergibt\"\n",
    "    AUX -> \"hat\"\n",
    "    V -> \"übergeben\"\n",
    "\"\"\")"
   ]
  },
  {
   "cell_type": "code",
   "execution_count": 17,
   "metadata": {},
   "outputs": [
    {
     "name": "stdout",
     "output_type": "stream",
     "text": [
      "                       S                    \n",
      "     ┌─────────────────┴───────┐             \n",
      "     │                         VP           \n",
      "     │                         │             \n",
      "     │                       VERBAL         \n",
      "     │                 ┌───────┴─────┐       \n",
      "     NP                │             NP     \n",
      " ┌───┴───────┐         │       ┌─────┴───┐   \n",
      " │          NOM        │       │        NOM \n",
      " │           │         │       │         │   \n",
      "DET          N         V      DET        N  \n",
      " │           │         │       │         │   \n",
      "der     Briefträger übergibt  den       Hund\n",
      "\n"
     ]
    }
   ],
   "source": [
    "#Positivbeispiel Präsens:\n",
    "sent = 'der Briefträger übergibt den Hund'.split()\n",
    "test_cfg_grammar(grammar, sent)"
   ]
  },
  {
   "cell_type": "code",
   "execution_count": 18,
   "metadata": {},
   "outputs": [
    {
     "name": "stdout",
     "output_type": "stream",
     "text": [
      "                     S                          \n",
      "     ┌───────────────┴───────┐                   \n",
      "     │                       VP                 \n",
      "     │               ┌───────┴────┐              \n",
      "     │               │          VERBAL          \n",
      "     │               │       ┌────┴────────┐     \n",
      "     NP              │       NP            │    \n",
      " ┌───┴───────┐       │   ┌───┴────┐        │     \n",
      " │          NOM      │   │       NOM       │    \n",
      " │           │       │   │        │        │     \n",
      "DET          N      AUX DET       N        V    \n",
      " │           │       │   │        │        │     \n",
      "der     Briefträger hat den      Hund  übergeben\n",
      "\n"
     ]
    }
   ],
   "source": [
    "#Positivbeispiel Perfekt:\n",
    "sent = 'der Briefträger hat den Hund übergeben'.split()\n",
    "test_cfg_grammar(grammar, sent)"
   ]
  },
  {
   "cell_type": "code",
   "execution_count": 19,
   "metadata": {},
   "outputs": [
    {
     "name": "stdout",
     "output_type": "stream",
     "text": [
      "                     S                     \n",
      "     ┌───────────────┴────────┐             \n",
      "     │                        VP           \n",
      "     │                        │             \n",
      "     │                      VERBAL         \n",
      "     │                   ┌────┴───────┐     \n",
      "     NP                  NP           │    \n",
      " ┌───┴───────┐       ┌───┴────┐       │     \n",
      " │          NOM      │       NOM      │    \n",
      " │           │       │        │       │     \n",
      "DET          N      DET       N       V    \n",
      " │           │       │        │       │     \n",
      "der     Briefträger den      Hund  übergibt\n",
      "\n"
     ]
    }
   ],
   "source": [
    "#Negativbeispiel Präsens (mit Perfektregel):\n",
    "sent = 'der Briefträger den Hund übergibt'.split()\n",
    "test_cfg_grammar(grammar, sent)\n",
    "#Übergenerierung!"
   ]
  },
  {
   "cell_type": "code",
   "execution_count": 20,
   "metadata": {
    "scrolled": true
   },
   "outputs": [
    {
     "name": "stdout",
     "output_type": "stream",
     "text": [
      "                     S                               \n",
      "     ┌───────────────┴─────────────┐                  \n",
      "     │                             VP                \n",
      "     │               ┌─────────────┴────┐             \n",
      "     │               │                VERBAL         \n",
      "     │               │      ┌───────────┴─────┐       \n",
      "     NP              │      │                 NP     \n",
      " ┌───┴───────┐       │      │           ┌─────┴───┐   \n",
      " │          NOM      │      │           │        NOM \n",
      " │           │       │      │           │         │   \n",
      "DET          N      AUX     V          DET        N  \n",
      " │           │       │      │           │         │   \n",
      "der     Briefträger hat übergeben      den       Hund\n",
      "\n"
     ]
    }
   ],
   "source": [
    "#Negativbeispiel Perfekt (mit Präsensregel):\n",
    "sent = 'der Briefträger hat übergeben den Hund'.split()\n",
    "test_cfg_grammar(grammar, sent)\n",
    "#Übergenerierung!"
   ]
  },
  {
   "cell_type": "markdown",
   "metadata": {},
   "source": [
    "--- \n",
    "### B) Lösung Übergenerierung mit binärem PP-Feature:\n",
    "\n",
    "##### PP = Partizip Perfekt"
   ]
  },
  {
   "cell_type": "code",
   "execution_count": 21,
   "metadata": {},
   "outputs": [],
   "source": [
    "gramstring = r\"\"\"\n",
    "% start S\n",
    "\n",
    "    S   -> NP VP\n",
    "    \n",
    "    VP[-INV]  -> VERBAL\n",
    "    VERBAL -> V[-PP] NP\n",
    "    \n",
    "    VP[+INV] -> V[+AUX] VERBAL\n",
    " #invertierte NP-V-Regeln für AUX-VP:    \n",
    "    VERBAL -> NP V[-AUX,+PP]\n",
    "\n",
    "    NP  -> DET NOM\n",
    "    NOM -> N\n",
    " \n",
    "    DET -> \"der\" | \"den\"\n",
    "    N   -> \"Hund\" | \"Briefträger\"\n",
    "    V[-AUX,-PP]   -> \"übergibt\"\n",
    "    V[+AUX] -> \"hat\"\n",
    "    V[-AUX,+PP] -> \"übergeben\"\n",
    "\"\"\""
   ]
  },
  {
   "cell_type": "code",
   "execution_count": 22,
   "metadata": {},
   "outputs": [
    {
     "data": {
      "image/png": "[encoded data removed]",
      "text/plain": [
       "Tree('S[]', [Tree('NP[]', [Tree('DET[]', ['der']), Tree('NOM[]', [Tree('N[]', ['Briefträger'])])]), Tree('VP[-INV]', [Tree('VERBAL[]', [Tree('V[-AUX,-PP]', ['übergibt']), Tree('NP[]', [Tree('DET[]', ['den']), Tree('NOM[]', [Tree('N[]', ['Hund'])])])])])])"
      ]
     },
     "metadata": {},
     "output_type": "display_data"
    }
   ],
   "source": [
    "#Positivbeispiel Präsens:\n",
    "sent = 'der Briefträger übergibt den Hund'.split()\n",
    "test_fcfg_grammar(gramstring, sent, draw=1)"
   ]
  },
  {
   "cell_type": "code",
   "execution_count": 23,
   "metadata": {},
   "outputs": [
    {
     "data": {
      "image/png": "[encoded data removed]",
      "text/plain": [
       "Tree('S[]', [Tree('NP[]', [Tree('DET[]', ['der']), Tree('NOM[]', [Tree('N[]', ['Briefträger'])])]), Tree('VP[+INV]', [Tree('V[+AUX]', ['hat']), Tree('VERBAL[]', [Tree('NP[]', [Tree('DET[]', ['den']), Tree('NOM[]', [Tree('N[]', ['Hund'])])]), Tree('V[-AUX,+PP]', ['übergeben'])])])])"
      ]
     },
     "metadata": {},
     "output_type": "display_data"
    }
   ],
   "source": [
    "#Positivbeispiel Perfekt:\n",
    "sent = 'der Briefträger hat den Hund übergeben'.split()\n",
    "test_fcfg_grammar(gramstring, sent, draw=1)"
   ]
  },
  {
   "cell_type": "code",
   "execution_count": 24,
   "metadata": {},
   "outputs": [
    {
     "name": "stdout",
     "output_type": "stream",
     "text": [
      "Keine Analyse möglich\n"
     ]
    }
   ],
   "source": [
    "#Negativbeispiel Präsens (mit Perfektregel):\n",
    "sent = 'der Briefträger den Hund übergibt'.split()\n",
    "test_fcfg_grammar(gramstring, sent, draw=1)"
   ]
  },
  {
   "cell_type": "code",
   "execution_count": 25,
   "metadata": {
    "scrolled": true
   },
   "outputs": [
    {
     "name": "stdout",
     "output_type": "stream",
     "text": [
      "Keine Analyse möglich\n"
     ]
    }
   ],
   "source": [
    "#Negativbeispiel Perfekt (mit Präsensregel):\n",
    "sent = 'der Briefträger hat übergeben den Hund'.split()\n",
    "test_fcfg_grammar(gramstring, sent, draw=1)"
   ]
  },
  {
   "cell_type": "markdown",
   "metadata": {},
   "source": [
    "\n",
    "--- \n",
    "\n",
    "\n",
    "## 3. FCFG mit Gap-Introduction (*Long Distance Dependencies*)\n",
    "\n",
    "- https://www.nltk.org/book/ch09.html#unbounded-dependency-constructions\n"
   ]
  },
  {
   "cell_type": "markdown",
   "metadata": {},
   "source": [
    "### A) Ausgangsgrammatik ohne Inversionsregel und Gap-Introduction:"
   ]
  },
  {
   "cell_type": "code",
   "execution_count": 26,
   "metadata": {},
   "outputs": [],
   "source": [
    "gramstring = r\"\"\"\n",
    "% start S\n",
    "\n",
    "    S -> NP VP\n",
    "    VP  -> V[+AUX] NP V[+PP]    \n",
    "    NP -> PRON\n",
    "\n",
    "    PRON   -> \"sie\"\n",
    "    PRON   -> \"ihn\"\n",
    "    QUEST   -> \"wen\"\n",
    "    V[+AUX] -> \"hat\"\n",
    "    V[+PP]   -> \"gesehen\" \n",
    "\"\"\""
   ]
  },
  {
   "cell_type": "code",
   "execution_count": 27,
   "metadata": {},
   "outputs": [
    {
     "data": {
      "image/png": "[encoded data removed]",
      "text/plain": [
       "Tree('S[]', [Tree('NP[]', [Tree('PRON[]', ['sie'])]), Tree('VP[]', [Tree('V[+AUX]', ['hat']), Tree('NP[]', [Tree('PRON[]', ['ihn'])]), Tree('V[+PP]', ['gesehen'])])])"
      ]
     },
     "metadata": {},
     "output_type": "display_data"
    }
   ],
   "source": [
    "sent = 'sie hat ihn gesehen'.split()\n",
    "test_fcfg_grammar(gramstring, sent, draw=1)"
   ]
  },
  {
   "cell_type": "code",
   "execution_count": 28,
   "metadata": {},
   "outputs": [
    {
     "name": "stdout",
     "output_type": "stream",
     "text": [
      "Keine Analyse möglich\n"
     ]
    }
   ],
   "source": [
    "#Entscheidungsfragesatz: Regeln fehlen noch!\n",
    "sent = 'hat sie ihn gesehen'.split()\n",
    "test_fcfg_grammar(gramstring, sent, draw=1)"
   ]
  },
  {
   "cell_type": "code",
   "execution_count": 29,
   "metadata": {},
   "outputs": [
    {
     "name": "stdout",
     "output_type": "stream",
     "text": [
      "Keine Analyse möglich\n"
     ]
    }
   ],
   "source": [
    "#Ergänzungsfragesatz (nach Objekt): Regeln fehlen noch!\n",
    "sent = 'wen hat sie gesehen'.split()\n",
    "test_fcfg_grammar(gramstring, sent, draw=1)"
   ]
  },
  {
   "cell_type": "markdown",
   "metadata": {},
   "source": [
    "---\n",
    "\n",
    "### B) Regeln für Auxiliar-Subjekt-NP-Inversion im Entscheidungsfragesatz:\n"
   ]
  },
  {
   "cell_type": "code",
   "execution_count": 30,
   "metadata": {},
   "outputs": [],
   "source": [
    "gramstring = r\"\"\"\n",
    "% start S\n",
    "    \n",
    "    S[-INV] -> NP VP\n",
    "    VP -> V[+AUX] NP V[+PP]\n",
    "    NP -> PRON\n",
    "    \n",
    "#Invertierter Satz:   \n",
    "    S[+INV] -> V[+AUX] NP VP\n",
    "\n",
    "#VP-Regel für invertierten Satz:\n",
    "    VP -> NP V[+PP]\n",
    "\n",
    "\n",
    "    PRON   -> \"sie\"\n",
    "    PRON   -> \"ihn\"\n",
    "    QUEST   -> \"wen\"    \n",
    "    V[+AUX] -> \"hat\"\n",
    "    V[+PP]   -> \"gesehen\" \n",
    "\"\"\""
   ]
  },
  {
   "cell_type": "code",
   "execution_count": 31,
   "metadata": {},
   "outputs": [
    {
     "data": {
      "image/png": "[encoded data removed]",
      "text/plain": [
       "Tree('S[+INV]', [Tree('V[+AUX]', ['hat']), Tree('NP[]', [Tree('PRON[]', ['sie'])]), Tree('VP[]', [Tree('NP[]', [Tree('PRON[]', ['ihn'])]), Tree('V[+PP]', ['gesehen'])])])"
      ]
     },
     "metadata": {},
     "output_type": "display_data"
    }
   ],
   "source": [
    "#Entscheidungsfragesatz: AUX NP (NP V)=VP \n",
    "#Inversion AUX-Subjekt-NP\n",
    "sent = 'hat sie ihn gesehen'.split()\n",
    "test_fcfg_grammar(gramstring, sent, draw=1)"
   ]
  },
  {
   "cell_type": "code",
   "execution_count": 32,
   "metadata": {},
   "outputs": [
    {
     "data": {
      "image/png": "[encoded data removed]",
      "text/plain": [
       "Tree('S[-INV]', [Tree('NP[]', [Tree('PRON[]', ['sie'])]), Tree('VP[]', [Tree('V[+AUX]', ['hat']), Tree('NP[]', [Tree('PRON[]', ['ihn'])]), Tree('V[+PP]', ['gesehen'])])])"
      ]
     },
     "metadata": {},
     "output_type": "display_data"
    }
   ],
   "source": [
    "#Aussagesatz: NP (AUX NP V)=VP \n",
    "sent = 'sie hat ihn gesehen'.split()\n",
    "test_fcfg_grammar(gramstring, sent, draw=1)"
   ]
  },
  {
   "cell_type": "markdown",
   "metadata": {},
   "source": [
    "---\n",
    "\n",
    "### C) Erweiterung um Gap-Feature mit Slash-Syntax für Ergänzungsfragesatz:\n",
    "\n",
    "- `VP/NP` entspricht `VP[SLASH=NP]` (NLTK verarbeitet Slash als Merkmal)  \n",
    "- `VP/NP` = *VP ohne NP / mit NP-Lücke*\n",
    "- `NP/NP -> ` = Realisierung *NP ohne NP* als leeren String (ε)"
   ]
  },
  {
   "cell_type": "code",
   "execution_count": 33,
   "metadata": {},
   "outputs": [],
   "source": [
    "gramstring = r\"\"\"\n",
    "% start S\n",
    "    \n",
    "    S[-INV] -> NP VP[+INV]\n",
    "    VP[+INV] -> V[+AUX] NP V[+PP]\n",
    "    NP -> PRON\n",
    "\n",
    "    S[+INV] -> V[+AUX] NP VP\n",
    "    VP -> NP V[+PP]\n",
    "\n",
    "#Movement Objekt (Gap-Introduction):\n",
    "    S[+MOVEMENT]  -> QUEST S[+INV]/NP\n",
    "\n",
    "#Gap-Informationen herunterreichen: \n",
    "    S[+INV]/?x -> V[+AUX] NP VP/?x\n",
    "    VP/?x  -> NP/?x V[+PP] \n",
    "\n",
    "#Gap-Realisierung:\n",
    "    NP/NP ->\n",
    "\n",
    "    PRON   -> \"sie\"\n",
    "    PRON   -> \"ihn\"\n",
    "    QUEST   -> \"wen\"    \n",
    "    V[+AUX] -> \"hat\"\n",
    "    V[+PP]   -> \"gesehen\" \n",
    "\"\"\""
   ]
  },
  {
   "cell_type": "code",
   "execution_count": 34,
   "metadata": {},
   "outputs": [
    {
     "data": {
      "image/png": "[encoded data removed]",
      "text/plain": [
       "Tree('S[+MOVEMENT]', [Tree('QUEST[]', ['wen']), Tree('S[+INV]/NP[]', [Tree('V[+AUX]', ['hat']), Tree('NP[]', [Tree('PRON[]', ['sie'])]), Tree('VP[]/NP[]', [Tree('NP[]/NP[]', []), Tree('V[+PP]', ['gesehen'])])])])"
      ]
     },
     "metadata": {},
     "output_type": "display_data"
    }
   ],
   "source": [
    "#Ergänzungsfragesatz (nach Objekt): NP AUX NP (_GAP_ V)=VP/NP \n",
    "#Movement Objekt-NP\n",
    "sent = 'wen hat sie gesehen'.split()\n",
    "test_fcfg_grammar(gramstring, sent, draw=1)"
   ]
  },
  {
   "cell_type": "markdown",
   "metadata": {},
   "source": [
    "\n",
    "--- \n",
    "\n",
    "\n",
    "## 4. FCFG mit direkter Valenzkodierung\n",
    "\n",
    "#### im NLTK über `TYPE`-Feature:"
   ]
  },
  {
   "cell_type": "code",
   "execution_count": 35,
   "metadata": {},
   "outputs": [
    {
     "name": "stdout",
     "output_type": "stream",
     "text": [
      "None\n"
     ]
    }
   ],
   "source": [
    "#Beispiel aus Vorlesungsfolien, Seite 13: Ablehnung intransitives Verb (SUBCAT=[TYPE=None]) + [TYPE=[CAT=NP]]:\n",
    "from nltk import FeatStruct\n",
    "\n",
    "subcat_verb = FeatStruct('[TYPE=None]') #SUBCAT-Wert intransitives Verb\n",
    "complement = FeatStruct('[TYPE=[CAT=NP]]') #NP\n",
    "\n",
    "print(subcat_verb.unify(complement))\n",
    "#None = Unifikation fehlgeschlagen!"
   ]
  },
  {
   "cell_type": "markdown",
   "metadata": {},
   "source": [
    "Unifikation entspricht Constraint-Überprüfung zwischen `SUBCAT`-Wert des Verbs (gefordertes Komplement) und gegebener zweiter Konstituente in der VP-Regel für transitive Verben:\n",
    "\n",
    "`VP  ->  V[SUBCAT=?s]  [TYPE=?s]`\n"
   ]
  },
  {
   "cell_type": "markdown",
   "metadata": {},
   "source": [
    "### A) Modellierung Subkategorisierung über Komplementtypen als Merkmale\n"
   ]
  },
  {
   "cell_type": "code",
   "execution_count": 36,
   "metadata": {},
   "outputs": [],
   "source": [
    "#Hinweis: NLTK benötigt CFG-Kategorie, also im Folgenden COMPL[TYPE=[CAT=NP]] statt [TYPE=[CAT=NP]]:\n",
    "gramstring = r\"\"\"\n",
    "% start S\n",
    "    \n",
    "    S   -> COMPL[CAT=NP] VP\n",
    "    VP  -> V[SUBCAT=?s] COMPL[TYPE=?s]    \n",
    "   \n",
    "    COMPL[TYPE=[CAT=NP]]   -> \"sie\"\n",
    "    COMPL[TYPE=[CAT=NP, CASE=acc]]   -> \"ihn\"\n",
    "    COMPL[TYPE=None]   ->\n",
    "\n",
    "    V[SUBCAT=[CAT=NP,CASE=acc]]   -> \"sieht\"\n",
    "    V[SUBCAT=None]   -> \"träumt\"\n",
    "\"\"\""
   ]
  },
  {
   "cell_type": "code",
   "execution_count": 37,
   "metadata": {},
   "outputs": [
    {
     "data": {
      "image/png": "[encoded data removed]",
      "text/plain": [
       "Tree('S[]', [Tree(\"COMPL[TYPE=[CAT='NP']]\", ['sie']), Tree('VP[]', [Tree(\"V[SUBCAT=[CASE='acc',CAT='NP']]\", ['sieht']), Tree(\"COMPL[TYPE=[CASE='acc',CAT='NP']]\", ['ihn'])])])"
      ]
     },
     "metadata": {},
     "output_type": "display_data"
    }
   ],
   "source": [
    "sent = 'sie sieht ihn'.split()\n",
    "test_fcfg_grammar(gramstring, sent, draw=1)"
   ]
  },
  {
   "cell_type": "code",
   "execution_count": 38,
   "metadata": {},
   "outputs": [
    {
     "data": {
      "image/png": "[encoded data removed]",
      "text/plain": [
       "Tree('S[]', [Tree(\"COMPL[TYPE=[CAT='NP']]\", ['sie']), Tree('VP[]', [Tree('V[SUBCAT=None]', ['träumt']), Tree('COMPL[TYPE=None]', [])])])"
      ]
     },
     "metadata": {},
     "output_type": "display_data"
    }
   ],
   "source": [
    "sent = 'sie träumt'.split()\n",
    "test_fcfg_grammar(gramstring, sent, draw=1)"
   ]
  },
  {
   "cell_type": "code",
   "execution_count": 39,
   "metadata": {},
   "outputs": [
    {
     "name": "stdout",
     "output_type": "stream",
     "text": [
      "Keine Analyse möglich\n"
     ]
    }
   ],
   "source": [
    "#NEGATIVBEISPIEL:\n",
    "sent = 'sie sieht'.split()\n",
    "test_fcfg_grammar(gramstring, sent, draw=1)    "
   ]
  },
  {
   "cell_type": "code",
   "execution_count": 40,
   "metadata": {},
   "outputs": [
    {
     "name": "stdout",
     "output_type": "stream",
     "text": [
      "Keine Analyse möglich\n"
     ]
    }
   ],
   "source": [
    "#NEGATIVBEISPIEL:\n",
    "sent = 'sie träumt ihn'.split()\n",
    "test_fcfg_grammar(gramstring, sent, draw=1)"
   ]
  },
  {
   "cell_type": "markdown",
   "metadata": {},
   "source": [
    "### B) Ergänzung um Regeln für Objektkomplementsatz (`SBAR`):"
   ]
  },
  {
   "cell_type": "code",
   "execution_count": 41,
   "metadata": {},
   "outputs": [],
   "source": [
    "gramstring = r\"\"\"\n",
    "% start S\n",
    "    \n",
    "    S   -> COMPL[CAT=NP] VP\n",
    "    VP  -> V[SUBCAT=?s] COMPL[TYPE=?s]\n",
    "\n",
    "    COMPL[TYPE=[CAT=SBAR]] -> COMP S\n",
    "    \n",
    "   \n",
    "    COMPL[TYPE=[CAT=NP]]   -> \"sie\"\n",
    "    COMPL[TYPE=[CAT=NP, CASE=acc]]   -> \"ihn\"\n",
    "    COMPL[TYPE=None]   ->\n",
    "\n",
    "    V[SUBCAT=[CAT=NP,CASE=acc]]   -> \"sieht\"\n",
    "    V[SUBCAT=None]   -> \"träumt\"\n",
    "\n",
    "    V[SUBCAT=[CAT=SBAR]]   -> \"glaubt\"\n",
    "    COMP   -> \"dass\"\n",
    "\"\"\""
   ]
  },
  {
   "cell_type": "code",
   "execution_count": 42,
   "metadata": {},
   "outputs": [
    {
     "data": {
      "image/png": "[encoded data removed]",
      "text/plain": [
       "Tree('S[]', [Tree(\"COMPL[TYPE=[CAT='NP']]\", ['sie']), Tree('VP[]', [Tree(\"V[SUBCAT=[CAT='SBAR']]\", ['glaubt']), Tree(\"COMPL[TYPE=[CAT='SBAR']]\", [Tree('COMP[]', ['dass']), Tree('S[]', [Tree(\"COMPL[TYPE=[CAT='NP']]\", ['sie']), Tree('VP[]', [Tree('V[SUBCAT=None]', ['träumt']), Tree('COMPL[TYPE=None]', [])])])])])])"
      ]
     },
     "metadata": {},
     "output_type": "display_data"
    }
   ],
   "source": [
    "sent = 'sie glaubt dass sie träumt'.split()\n",
    "test_fcfg_grammar(gramstring, sent, draw=1)"
   ]
  }
 ],
 "metadata": {
  "kernelspec": {
   "display_name": "Python 3",
   "language": "python",
   "name": "python3"
  },
  "language_info": {
   "codemirror_mode": {
    "name": "ipython",
    "version": 3
   },
   "file_extension": ".py",
   "mimetype": "text/x-python",
   "name": "python",
   "nbconvert_exporter": "python",
   "pygments_lexer": "ipython3",
   "version": "3.6.1"
  },
  "widgets": {
   "application/vnd.jupyter.widget-state+json": {
    "state": {
     "098dd75f65594c0f992ddeffeb8523e3": {
      "model_module": "@jupyter-widgets/controls",
      "model_module_version": "1.2.0",
      "model_name": "SliderStyleModel",
      "state": {
       "description_width": ""
      }
     },
     "0ccfa5129ab64950adda077f6ac8f44a": {
      "model_module": "@jupyter-widgets/controls",
      "model_module_version": "1.2.0",
      "model_name": "IntSliderModel",
      "state": {
       "layout": "IPY_MODEL_641f3cf31a334ee6810a9a92f93e89a7",
       "style": "IPY_MODEL_63aadafcc3504a3b8b15fdea9d4ec244",
       "value": 50
      }
     },
     "1b37a149a74c40c68d34c61b481048f8": {
      "model_module": "@jupyter-widgets/base",
      "model_module_version": "1.0.0",
      "model_name": "LayoutModel",
      "state": {}
     },
     "367694b2ecc94715a20952236f9ced88": {
      "model_module": "@jupyter-widgets/base",
      "model_module_version": "1.0.0",
      "model_name": "LayoutModel",
      "state": {}
     },
     "3d6ebd239fc84a8e95b3007988e38134": {
      "model_module": "@jupyter-widgets/controls",
      "model_module_version": "1.2.0",
      "model_name": "SliderStyleModel",
      "state": {
       "description_width": ""
      }
     },
     "63aadafcc3504a3b8b15fdea9d4ec244": {
      "model_module": "@jupyter-widgets/controls",
      "model_module_version": "1.2.0",
      "model_name": "SliderStyleModel",
      "state": {
       "description_width": ""
      }
     },
     "641f3cf31a334ee6810a9a92f93e89a7": {
      "model_module": "@jupyter-widgets/base",
      "model_module_version": "1.0.0",
      "model_name": "LayoutModel",
      "state": {}
     },
     "993ec756027845c19085347ca5f9f6ce": {
      "model_module": "@jupyter-widgets/controls",
      "model_module_version": "1.2.0",
      "model_name": "SliderStyleModel",
      "state": {
       "description_width": ""
      }
     },
     "bb743dc2dd2d4bb08dd2c5255e1d87c6": {
      "model_module": "@jupyter-widgets/controls",
      "model_module_version": "1.2.0",
      "model_name": "SliderStyleModel",
      "state": {
       "description_width": ""
      }
     },
     "cb4a4abdac584f78ac3b37579ac33b10": {
      "model_module": "@jupyter-widgets/controls",
      "model_module_version": "1.2.0",
      "model_name": "IntSliderModel",
      "state": {
       "layout": "IPY_MODEL_f25c2eb22704411b9981f8047a2c0182",
       "style": "IPY_MODEL_993ec756027845c19085347ca5f9f6ce",
       "value": 50
      }
     },
     "cfbb8ba5969a49e18a1733c50e6b73e4": {
      "model_module": "@jupyter-widgets/controls",
      "model_module_version": "1.2.0",
      "model_name": "IntSliderModel",
      "state": {
       "layout": "IPY_MODEL_1b37a149a74c40c68d34c61b481048f8",
       "style": "IPY_MODEL_3d6ebd239fc84a8e95b3007988e38134",
       "value": 50
      }
     },
     "da2e37629b7141b8a194c275f89ccef5": {
      "model_module": "@jupyter-widgets/base",
      "model_module_version": "1.0.0",
      "model_name": "LayoutModel",
      "state": {}
     },
     "eafa48b852af4f40b414b8d4f0b90c7a": {
      "model_module": "@jupyter-widgets/controls",
      "model_module_version": "1.2.0",
      "model_name": "IntSliderModel",
      "state": {
       "layout": "IPY_MODEL_da2e37629b7141b8a194c275f89ccef5",
       "style": "IPY_MODEL_bb743dc2dd2d4bb08dd2c5255e1d87c6"
      }
     },
     "f196171317cf493fabedf854f59c1d44": {
      "model_module": "@jupyter-widgets/controls",
      "model_module_version": "1.2.0",
      "model_name": "IntSliderModel",
      "state": {
       "layout": "IPY_MODEL_367694b2ecc94715a20952236f9ced88",
       "style": "IPY_MODEL_098dd75f65594c0f992ddeffeb8523e3"
      }
     },
     "f25c2eb22704411b9981f8047a2c0182": {
      "model_module": "@jupyter-widgets/base",
      "model_module_version": "1.0.0",
      "model_name": "LayoutModel",
      "state": {}
     }
    },
    "version_major": 2,
    "version_minor": 0
   }
  }
 },
 "nbformat": 4,
 "nbformat_minor": 2
}
