{
 "cells": [
  {
   "cell_type": "markdown",
   "metadata": {},
   "source": [
    "***Vorlesung 'Syntax natürlicher Sprachen'***\n",
    "\n",
    "--- \n",
    "# Vorlesung 6: Intro Feature-Based Grammars\n"
   ]
  },
  {
   "cell_type": "code",
   "execution_count": 1,
   "metadata": {},
   "outputs": [],
   "source": [
    "import nltk\n",
    "from nltk import Tree"
   ]
  },
  {
   "cell_type": "markdown",
   "metadata": {},
   "source": [
    "---\n",
    "## 1. Feature-Modellierung von Subjekt-Kasus"
   ]
  },
  {
   "cell_type": "markdown",
   "metadata": {},
   "source": [
    "### Feature-Grammar ohne Constraints (Variablen zum Hochreichen der Kasus-Information):"
   ]
  },
  {
   "cell_type": "code",
   "execution_count": 2,
   "metadata": {
    "scrolled": false
   },
   "outputs": [],
   "source": [
    "#Feature-Grammar ohne Constraints:\n",
    "gramstring = r\"\"\"\n",
    "% start S\n",
    "    S   -> NP VP\n",
    "    \n",
    "    VP  -> VERBAL \n",
    "    VERBAL -> V NP\n",
    "    VERBAL -> V\n",
    "\n",
    "    NP[CASE=?x]  -> DET[CASE=?x] NOM\n",
    "    NOM -> N    \n",
    "    NOM -> N NP\n",
    " \n",
    "    DET[CASE=NOM] -> \"der\"\n",
    "    DET[CASE=AKK] -> \"den\"\n",
    "    DET[CASE=DAT] -> \"dem\"    \n",
    "    N   -> \"Hund\" | \"Briefträger\"\n",
    "    V   -> \"schläft\" | \"jagt\" | \"gehört\"\n",
    "\n",
    "\"\"\"\n",
    "\n",
    "grammar = nltk.grammar.FeatureGrammar.fromstring(gramstring)\n",
    "parser = nltk.parse.FeatureChartParser(grammar,trace=0)"
   ]
  },
  {
   "cell_type": "code",
   "execution_count": 3,
   "metadata": {},
   "outputs": [
    {
     "name": "stdout",
     "output_type": "stream",
     "text": [
      "1\n",
      "                                S[]          \n",
      "                      ┌──────────┴──────┐     \n",
      "                NP[CASE='AKK']         VP[]  \n",
      "       ┌──────────────┴──────────┐      │     \n",
      "       │                       NOM[] VERBAL[]\n",
      "       │                         │      │     \n",
      "DET[CASE='AKK']                 N[]    V[]   \n",
      "       │                         │      │     \n",
      "      den                       Hund schläft \n",
      "\n"
     ]
    }
   ],
   "source": [
    "#Negativbeispiel Subjektkasus:\n",
    "sent = 'den Hund schläft'.split()\n",
    "print(len(list(parser.parse(sent))))\n",
    "\n",
    "for tree in parser.parse(sent):\n",
    "    tree = Tree.fromstring(str(tree).replace(\", \",\",\"))\n",
    "    tree.pretty_print(unicodelines=True)\n",
    "    #Übergenerierung!"
   ]
  },
  {
   "cell_type": "markdown",
   "metadata": {},
   "source": [
    "---\n",
    "### Lösung Übergenerierung durch Subjekt-Kasus-Constraint:"
   ]
  },
  {
   "cell_type": "code",
   "execution_count": 4,
   "metadata": {},
   "outputs": [],
   "source": [
    "gramstring = r\"\"\"\n",
    "% start S\n",
    "\n",
    "#Subjekt-Kasus-Constraint\n",
    "    S   -> NP[CASE=NOM] VP\n",
    "    \n",
    "    VP  -> VERBAL \n",
    "    VERBAL -> V NP\n",
    "    VERBAL -> V\n",
    "\n",
    "    NP[CASE=?x]  -> DET[CASE=?x] NOM\n",
    "    NOM -> N    \n",
    "    NOM -> N NP\n",
    " \n",
    "    DET[CASE=NOM] -> \"der\"\n",
    "    DET[CASE=AKK] -> \"den\"\n",
    "    DET[CASE=DAT] -> \"dem\"    \n",
    "    N   -> \"Hund\" | \"Briefträger\"\n",
    "    V   -> \"schläft\" | \"jagt\" | \"gehört\"\n",
    "\"\"\"\n",
    "\n",
    "grammar = nltk.grammar.FeatureGrammar.fromstring(gramstring)\n",
    "parser = nltk.parse.FeatureChartParser(grammar,trace=0)"
   ]
  },
  {
   "cell_type": "code",
   "execution_count": 5,
   "metadata": {},
   "outputs": [
    {
     "name": "stdout",
     "output_type": "stream",
     "text": [
      "0\n"
     ]
    }
   ],
   "source": [
    "#Negativbeispiel Subjektkasus:\n",
    "sent = 'den Hund schläft'.split()\n",
    "print(len(list(parser.parse(sent))))\n",
    "\n",
    "for tree in parser.parse(sent):\n",
    "    tree = Tree.fromstring(str(tree).replace(\", \",\",\"))\n",
    "    tree.pretty_print(unicodelines=True)\n",
    "    #kein Parse"
   ]
  },
  {
   "cell_type": "code",
   "execution_count": 6,
   "metadata": {
    "scrolled": true
   },
   "outputs": [
    {
     "name": "stdout",
     "output_type": "stream",
     "text": [
      "1\n",
      "                                S[]          \n",
      "                      ┌──────────┴──────┐     \n",
      "                NP[CASE='NOM']         VP[]  \n",
      "       ┌──────────────┴──────────┐      │     \n",
      "       │                       NOM[] VERBAL[]\n",
      "       │                         │      │     \n",
      "DET[CASE='NOM']                 N[]    V[]   \n",
      "       │                         │      │     \n",
      "      der                       Hund schläft \n",
      "\n"
     ]
    }
   ],
   "source": [
    "sent = 'der Hund schläft'.split()\n",
    "print(len(list(parser.parse(sent))))\n",
    "\n",
    "for tree in parser.parse(sent):\n",
    "    tree = Tree.fromstring(str(tree).replace(\", \",\",\"))\n",
    "    tree.pretty_print(unicodelines=True)"
   ]
  },
  {
   "cell_type": "markdown",
   "metadata": {},
   "source": [
    "---\n",
    "## 2. Feature-Modellierung von Objekt-Kasus"
   ]
  },
  {
   "cell_type": "code",
   "execution_count": 7,
   "metadata": {
    "scrolled": false
   },
   "outputs": [],
   "source": [
    "#Feature-Grammar ohne Constraints:\n",
    "gramstring = r\"\"\"\n",
    "% start S\n",
    "    S   -> NP VP\n",
    "    \n",
    "    VP  -> VERBAL \n",
    "    VERBAL -> V NP\n",
    "    VERBAL -> V\n",
    "\n",
    "    NP[CASE=?x]  -> DET[CASE=?x] NOM\n",
    "    NOM -> N    \n",
    "    NOM -> N NP\n",
    " \n",
    "    DET[CASE=NOM] -> \"der\"\n",
    "    DET[CASE=AKK] -> \"den\"\n",
    "    DET[CASE=DAT] -> \"dem\"    \n",
    "    N   -> \"Hund\" | \"Briefträger\"\n",
    "    V   -> \"schläft\" | \"jagt\" | \"gehört\"\n",
    "\n",
    "\"\"\"\n",
    "\n",
    "grammar = nltk.grammar.FeatureGrammar.fromstring(gramstring)\n",
    "parser = nltk.parse.FeatureChartParser(grammar,trace=0)"
   ]
  },
  {
   "cell_type": "code",
   "execution_count": 8,
   "metadata": {},
   "outputs": [
    {
     "name": "stdout",
     "output_type": "stream",
     "text": [
      "1\n",
      "                                     S[]                                            \n",
      "                      ┌───────────────┴──────────┐                                   \n",
      "                      │                         VP[]                                \n",
      "                      │                          │                                   \n",
      "                      │                       VERBAL[]                              \n",
      "                      │               ┌──────────┴──────────────┐                    \n",
      "                NP[CASE='NOM']        │                   NP[CASE='DAT']            \n",
      "       ┌──────────────┴──────────┐    │          ┌──────────────┴─────────────┐      \n",
      "       │                       NOM[]  │          │                          NOM[]   \n",
      "       │                         │    │          │                            │      \n",
      "DET[CASE='NOM']                 N[]  V[]  DET[CASE='DAT']                    N[]    \n",
      "       │                         │    │          │                            │      \n",
      "      der                       Hund jagt       dem                      Briefträger\n",
      "\n"
     ]
    }
   ],
   "source": [
    "#Negativbeispiel Objektkasus:\n",
    "sent = 'der Hund jagt dem Briefträger'.split()\n",
    "print(len(list(parser.parse(sent))))\n",
    "\n",
    "for tree in parser.parse(sent):\n",
    "    tree = Tree.fromstring(str(tree).replace(\", \",\",\"))\n",
    "    tree.pretty_print(unicodelines=True)\n",
    "    #Übergenerierung!"
   ]
  },
  {
   "cell_type": "markdown",
   "metadata": {},
   "source": [
    "---\n",
    "### Lösung Übergenerierung durch Objekt-Kasus-Constraint:"
   ]
  },
  {
   "cell_type": "code",
   "execution_count": 9,
   "metadata": {},
   "outputs": [],
   "source": [
    "gramstring = r\"\"\"\n",
    "% start S\n",
    "    S   -> NP VP\n",
    "    \n",
    "    VP  -> VERBAL \n",
    "    VERBAL -> V[OBJCASE=?y] NP[CASE=?y]\n",
    "    VERBAL -> V\n",
    "\n",
    "    NP[CASE=?x]  -> DET[CASE=?x] NOM\n",
    "    NOM -> N    \n",
    "    NOM -> N NP\n",
    " \n",
    "    DET[CASE=NOM] -> \"der\"\n",
    "    DET[CASE=AKK] -> \"den\"\n",
    "    DET[CASE=DAT] -> \"dem\"\n",
    "    N   -> \"Hund\" | \"Briefträger\"\n",
    "    V   -> \"schläft\"\n",
    "    V[OBJCASE=AKK]   -> \"jagt\"\n",
    "    V[OBJCASE=DAT]   -> \"gehört\"\n",
    "\n",
    "\"\"\"\n",
    "\n",
    "grammar = nltk.grammar.FeatureGrammar.fromstring(gramstring)\n",
    "parser = nltk.parse.FeatureChartParser(grammar,trace=0)"
   ]
  },
  {
   "cell_type": "code",
   "execution_count": 10,
   "metadata": {},
   "outputs": [
    {
     "name": "stdout",
     "output_type": "stream",
     "text": [
      "0\n"
     ]
    }
   ],
   "source": [
    "#Negativbeispiel Objektkasus:\n",
    "sent = 'der Hund jagt der Briefträger'.split()\n",
    "print(len(list(parser.parse(sent))))\n",
    "\n",
    "for tree in parser.parse(sent):\n",
    "    tree = Tree.fromstring(str(tree).replace(\", \",\",\"))\n",
    "    tree.pretty_print(unicodelines=True)\n",
    "    #kein Parse"
   ]
  },
  {
   "cell_type": "code",
   "execution_count": 11,
   "metadata": {},
   "outputs": [
    {
     "name": "stdout",
     "output_type": "stream",
     "text": [
      "1\n",
      "                                           S[]                                                  \n",
      "                      ┌─────────────────────┴────────────────┐                                   \n",
      "                      │                                     VP[]                                \n",
      "                      │                                      │                                   \n",
      "                      │                                   VERBAL[]                              \n",
      "                      │                     ┌────────────────┴──────────────┐                    \n",
      "                NP[CASE='NOM']              │                         NP[CASE='AKK']            \n",
      "       ┌──────────────┴──────────┐          │                ┌──────────────┴─────────────┐      \n",
      "       │                       NOM[]        │                │                          NOM[]   \n",
      "       │                         │          │                │                            │      \n",
      "DET[CASE='NOM']                 N[]  V[OBJCASE='AKK'] DET[CASE='AKK']                    N[]    \n",
      "       │                         │          │                │                            │      \n",
      "      der                       Hund       jagt             den                      Briefträger\n",
      "\n"
     ]
    }
   ],
   "source": [
    "sent = 'der Hund jagt den Briefträger'.split()\n",
    "print(len(list(parser.parse(sent))))\n",
    "\n",
    "for tree in parser.parse(sent):\n",
    "    tree = Tree.fromstring(str(tree).replace(\", \",\",\"))\n",
    "    tree.pretty_print(unicodelines=True)"
   ]
  },
  {
   "cell_type": "code",
   "execution_count": 12,
   "metadata": {},
   "outputs": [
    {
     "name": "stdout",
     "output_type": "stream",
     "text": [
      "1\n",
      "                                           S[]                                                  \n",
      "                      ┌─────────────────────┴────────────────┐                                   \n",
      "                      │                                     VP[]                                \n",
      "                      │                                      │                                   \n",
      "                      │                                   VERBAL[]                              \n",
      "                      │                     ┌────────────────┴──────────────┐                    \n",
      "                NP[CASE='NOM']              │                         NP[CASE='DAT']            \n",
      "       ┌──────────────┴──────────┐          │                ┌──────────────┴─────────────┐      \n",
      "       │                       NOM[]        │                │                          NOM[]   \n",
      "       │                         │          │                │                            │      \n",
      "DET[CASE='NOM']                 N[]  V[OBJCASE='DAT'] DET[CASE='DAT']                    N[]    \n",
      "       │                         │          │                │                            │      \n",
      "      der                       Hund      gehört            dem                      Briefträger\n",
      "\n"
     ]
    }
   ],
   "source": [
    "sent = 'der Hund gehört dem Briefträger'.split()\n",
    "print(len(list(parser.parse(sent))))\n",
    "\n",
    "for tree in parser.parse(sent):\n",
    "    tree = Tree.fromstring(str(tree).replace(\", \",\",\"))\n",
    "    tree.pretty_print(unicodelines=True)"
   ]
  },
  {
   "cell_type": "markdown",
   "metadata": {},
   "source": [
    "---\n",
    "## 3. Verhinderung Überproduktion durch invertierte NP - V -Regel für Auxiliarkonstruktion:"
   ]
  },
  {
   "cell_type": "markdown",
   "metadata": {},
   "source": [
    "### Übergenerierung bei AUX-Konstruktion:"
   ]
  },
  {
   "cell_type": "code",
   "execution_count": 13,
   "metadata": {},
   "outputs": [],
   "source": [
    "grammar = nltk.CFG.fromstring(\"\"\"\n",
    "    S   -> NP VP\n",
    "    \n",
    "    VP  -> VERBAL \n",
    "    VERBAL -> V NP\n",
    "    VP -> AUX VERBAL\n",
    " #invertierte NP-V-Regeln für AUX-VP:\n",
    "    VERBAL -> NP V\n",
    "\n",
    "    NP  -> DET NOM\n",
    "    NOM -> N\n",
    " \n",
    "    DET -> \"der\" | \"den\"\n",
    "    N   -> \"Hund\" | \"Briefträger\"\n",
    "    V   -> \"übergibt\"\n",
    "    AUX -> \"hat\"\n",
    "    V -> \"übergeben\"\n",
    "\"\"\")\n",
    "\n",
    "parser = nltk.ChartParser(grammar,trace=0)"
   ]
  },
  {
   "cell_type": "code",
   "execution_count": 14,
   "metadata": {},
   "outputs": [
    {
     "name": "stdout",
     "output_type": "stream",
     "text": [
      "1\n",
      "                     S                               \n",
      "     ┌───────────────┴─────────────┐                  \n",
      "     │                             VP                \n",
      "     │               ┌─────────────┴────┐             \n",
      "     │               │                VERBAL         \n",
      "     │               │      ┌───────────┴─────┐       \n",
      "     NP              │      │                 NP     \n",
      " ┌───┴───────┐       │      │           ┌─────┴───┐   \n",
      " │          NOM      │      │           │        NOM \n",
      " │           │       │      │           │         │   \n",
      "DET          N      AUX     V          DET        N  \n",
      " │           │       │      │           │         │   \n",
      "der     Briefträger hat übergeben      den       Hund\n",
      "\n"
     ]
    }
   ],
   "source": [
    "#Negativbeispiel:\n",
    "sent = 'der Briefträger hat übergeben den Hund'.split()\n",
    "print(len(list(parser.parse(sent))))\n",
    "\n",
    "for tree in parser.parse(sent):\n",
    "    tree = Tree.fromstring(str(tree).replace(\", \",\",\"))\n",
    "    tree.pretty_print(unicodelines=True)\n",
    "    #Übergenerierung!"
   ]
  },
  {
   "cell_type": "markdown",
   "metadata": {},
   "source": [
    "--- \n",
    "### Lösung Übergenerierung mit binärem AUX-Feature:"
   ]
  },
  {
   "cell_type": "code",
   "execution_count": 15,
   "metadata": {},
   "outputs": [],
   "source": [
    "gramstring = r\"\"\"\n",
    "% start S\n",
    "\n",
    "    S   -> NP VP\n",
    "    \n",
    "    VP  -> VERBAL \n",
    "    VERBAL -> V[-AUX] NP\n",
    "    VP -> AUX VERBAL\n",
    "    VERBAL -> NP V[+AUX]\n",
    "\n",
    "    NP  -> DET NOM\n",
    "    NOM -> N\n",
    " \n",
    "    DET -> \"der\" | \"den\"\n",
    "    N   -> \"Hund\" | \"Briefträger\"\n",
    "    V[-AUX]   -> \"übergibt\"\n",
    "    AUX -> \"hat\"\n",
    "    V[+AUX] -> \"übergeben\"\n",
    "\"\"\"\n",
    "\n",
    "grammar = nltk.grammar.FeatureGrammar.fromstring(gramstring)\n",
    "parser = nltk.parse.FeatureChartParser(grammar,trace=0)"
   ]
  },
  {
   "cell_type": "code",
   "execution_count": 16,
   "metadata": {},
   "outputs": [
    {
     "name": "stdout",
     "output_type": "stream",
     "text": [
      "0\n"
     ]
    }
   ],
   "source": [
    "#Negativbeispiel:\n",
    "sent = 'der Briefträger hat übergeben den Hund'.split()\n",
    "print(len(list(parser.parse(sent))))\n",
    "\n",
    "for tree in parser.parse(sent):\n",
    "    tree = Tree.fromstring(str(tree).replace(\", \",\",\"))\n",
    "    tree.pretty_print(unicodelines=True)\n",
    "    #kein Parse"
   ]
  },
  {
   "cell_type": "code",
   "execution_count": 17,
   "metadata": {},
   "outputs": [
    {
     "name": "stdout",
     "output_type": "stream",
     "text": [
      "1\n",
      "                        S[]                               \n",
      "       ┌─────────────────┴──────────┐                      \n",
      "       │                           VP[]                   \n",
      "       │                 ┌──────────┴──────┐               \n",
      "       │                 │              VERBAL[]          \n",
      "       │                 │          ┌──────┴─────────┐     \n",
      "      NP[]               │         NP[]              │    \n",
      "  ┌────┴────────┐        │     ┌────┴──────┐         │     \n",
      "  │           NOM[]      │     │         NOM[]       │    \n",
      "  │             │        │     │           │         │     \n",
      "DET[]          N[]     AUX[] DET[]        N[]     V[+AUX] \n",
      "  │             │        │     │           │         │     \n",
      " der       Briefträger  hat   den         Hund   übergeben\n",
      "\n"
     ]
    }
   ],
   "source": [
    "sent = 'der Briefträger hat den Hund übergeben'.split()\n",
    "print(len(list(parser.parse(sent))))\n",
    "\n",
    "for tree in parser.parse(sent):\n",
    "    tree = Tree.fromstring(str(tree).replace(\", \",\",\"))\n",
    "    tree.pretty_print(unicodelines=True)"
   ]
  },
  {
   "cell_type": "code",
   "execution_count": 18,
   "metadata": {},
   "outputs": [
    {
     "name": "stdout",
     "output_type": "stream",
     "text": [
      "1\n",
      "                         S[]                       \n",
      "       ┌──────────────────┴────────┐                \n",
      "       │                          VP[]             \n",
      "       │                           │                \n",
      "       │                        VERBAL[]           \n",
      "       │                  ┌────────┴──────┐         \n",
      "      NP[]                │              NP[]      \n",
      "  ┌────┴────────┐         │        ┌──────┴─────┐   \n",
      "  │           NOM[]       │        │          NOM[]\n",
      "  │             │         │        │            │   \n",
      "DET[]          N[]     V[-AUX]   DET[]         N[] \n",
      "  │             │         │        │            │   \n",
      " der       Briefträger übergibt   den          Hund\n",
      "\n"
     ]
    }
   ],
   "source": [
    "sent = 'der Briefträger übergibt den Hund'.split()\n",
    "print(len(list(parser.parse(sent))))\n",
    "\n",
    "for tree in parser.parse(sent):\n",
    "    tree = Tree.fromstring(str(tree).replace(\", \",\",\"))\n",
    "    tree.pretty_print(unicodelines=True)"
   ]
  },
  {
   "cell_type": "code",
   "execution_count": 19,
   "metadata": {},
   "outputs": [
    {
     "name": "stdout",
     "output_type": "stream",
     "text": [
      "0\n"
     ]
    }
   ],
   "source": [
    "#Negativbeispiel:\n",
    "sent = 'der Briefträger den Hund übergibt'.split()\n",
    "print(len(list(parser.parse(sent))))\n",
    "\n",
    "for tree in parser.parse(sent):\n",
    "    tree = Tree.fromstring(str(tree).replace(\", \",\",\"))\n",
    "    tree.pretty_print(unicodelines=True)\n",
    "    #kein Parse"
   ]
  }
 ],
 "metadata": {
  "kernelspec": {
   "display_name": "Python 3",
   "language": "python",
   "name": "python3"
  },
  "language_info": {
   "codemirror_mode": {
    "name": "ipython",
    "version": 3
   },
   "file_extension": ".py",
   "mimetype": "text/x-python",
   "name": "python",
   "nbconvert_exporter": "python",
   "pygments_lexer": "ipython3",
   "version": "3.6.1"
  },
  "widgets": {
   "application/vnd.jupyter.widget-state+json": {
    "state": {
     "098dd75f65594c0f992ddeffeb8523e3": {
      "model_module": "@jupyter-widgets/controls",
      "model_module_version": "1.2.0",
      "model_name": "SliderStyleModel",
      "state": {
       "description_width": ""
      }
     },
     "0ccfa5129ab64950adda077f6ac8f44a": {
      "model_module": "@jupyter-widgets/controls",
      "model_module_version": "1.2.0",
      "model_name": "IntSliderModel",
      "state": {
       "layout": "IPY_MODEL_641f3cf31a334ee6810a9a92f93e89a7",
       "style": "IPY_MODEL_63aadafcc3504a3b8b15fdea9d4ec244",
       "value": 50
      }
     },
     "1b37a149a74c40c68d34c61b481048f8": {
      "model_module": "@jupyter-widgets/base",
      "model_module_version": "1.0.0",
      "model_name": "LayoutModel",
      "state": {}
     },
     "367694b2ecc94715a20952236f9ced88": {
      "model_module": "@jupyter-widgets/base",
      "model_module_version": "1.0.0",
      "model_name": "LayoutModel",
      "state": {}
     },
     "3d6ebd239fc84a8e95b3007988e38134": {
      "model_module": "@jupyter-widgets/controls",
      "model_module_version": "1.2.0",
      "model_name": "SliderStyleModel",
      "state": {
       "description_width": ""
      }
     },
     "63aadafcc3504a3b8b15fdea9d4ec244": {
      "model_module": "@jupyter-widgets/controls",
      "model_module_version": "1.2.0",
      "model_name": "SliderStyleModel",
      "state": {
       "description_width": ""
      }
     },
     "641f3cf31a334ee6810a9a92f93e89a7": {
      "model_module": "@jupyter-widgets/base",
      "model_module_version": "1.0.0",
      "model_name": "LayoutModel",
      "state": {}
     },
     "993ec756027845c19085347ca5f9f6ce": {
      "model_module": "@jupyter-widgets/controls",
      "model_module_version": "1.2.0",
      "model_name": "SliderStyleModel",
      "state": {
       "description_width": ""
      }
     },
     "bb743dc2dd2d4bb08dd2c5255e1d87c6": {
      "model_module": "@jupyter-widgets/controls",
      "model_module_version": "1.2.0",
      "model_name": "SliderStyleModel",
      "state": {
       "description_width": ""
      }
     },
     "cb4a4abdac584f78ac3b37579ac33b10": {
      "model_module": "@jupyter-widgets/controls",
      "model_module_version": "1.2.0",
      "model_name": "IntSliderModel",
      "state": {
       "layout": "IPY_MODEL_f25c2eb22704411b9981f8047a2c0182",
       "style": "IPY_MODEL_993ec756027845c19085347ca5f9f6ce",
       "value": 50
      }
     },
     "cfbb8ba5969a49e18a1733c50e6b73e4": {
      "model_module": "@jupyter-widgets/controls",
      "model_module_version": "1.2.0",
      "model_name": "IntSliderModel",
      "state": {
       "layout": "IPY_MODEL_1b37a149a74c40c68d34c61b481048f8",
       "style": "IPY_MODEL_3d6ebd239fc84a8e95b3007988e38134",
       "value": 50
      }
     },
     "da2e37629b7141b8a194c275f89ccef5": {
      "model_module": "@jupyter-widgets/base",
      "model_module_version": "1.0.0",
      "model_name": "LayoutModel",
      "state": {}
     },
     "eafa48b852af4f40b414b8d4f0b90c7a": {
      "model_module": "@jupyter-widgets/controls",
      "model_module_version": "1.2.0",
      "model_name": "IntSliderModel",
      "state": {
       "layout": "IPY_MODEL_da2e37629b7141b8a194c275f89ccef5",
       "style": "IPY_MODEL_bb743dc2dd2d4bb08dd2c5255e1d87c6"
      }
     },
     "f196171317cf493fabedf854f59c1d44": {
      "model_module": "@jupyter-widgets/controls",
      "model_module_version": "1.2.0",
      "model_name": "IntSliderModel",
      "state": {
       "layout": "IPY_MODEL_367694b2ecc94715a20952236f9ced88",
       "style": "IPY_MODEL_098dd75f65594c0f992ddeffeb8523e3"
      }
     },
     "f25c2eb22704411b9981f8047a2c0182": {
      "model_module": "@jupyter-widgets/base",
      "model_module_version": "1.0.0",
      "model_name": "LayoutModel",
      "state": {}
     }
    },
    "version_major": 2,
    "version_minor": 0
   }
  }
 },
 "nbformat": 4,
 "nbformat_minor": 2
}
