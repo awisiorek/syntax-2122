{
 "cells": [
  {
   "cell_type": "markdown",
   "metadata": {},
   "source": [
    "***Vorlesung 'Syntax natürlicher Sprachen'***\n",
    "\n",
    "--- \n",
    "# Vorlesung 9:Verarbeitungsprobleme CFG-Parsingalgorithmen\n"
   ]
  },
  {
   "cell_type": "code",
   "execution_count": 1,
   "metadata": {},
   "outputs": [],
   "source": [
    "import nltk"
   ]
  },
  {
   "cell_type": "markdown",
   "metadata": {},
   "source": [
    "---\n",
    "\n",
    "## 1. Verbarbeitung Linksrekursion: nicht mit RecursiveDescent-Parser möglich\n",
    "\n",
    "- linksrekursive Regeln: `NP -> NP PP`, `VP -> VP PP`"
   ]
  },
  {
   "cell_type": "code",
   "execution_count": 2,
   "metadata": {},
   "outputs": [],
   "source": [
    "grammar = nltk.CFG.fromstring(\"\"\"\n",
    "## Syntaktische Regeln:\n",
    "    S -> NP VP\n",
    "    PP -> P NP\n",
    "    NP -> Det N \n",
    "#rekursive Regel:\n",
    "    NP -> NP PP\n",
    "    NP -> Pron\n",
    "    VP -> V NP\n",
    "#rekursive Regel:    \n",
    "    VP -> VP PP\n",
    "##Lexikalische Regeln:\n",
    "    Pron -> 'I'      \n",
    "    Det -> 'an' | 'my'\n",
    "    N -> 'elephant' | 'pajamas'\n",
    "    V -> 'shot'\n",
    "    P -> 'in'\n",
    "\"\"\")"
   ]
  },
  {
   "cell_type": "code",
   "execution_count": 3,
   "metadata": {},
   "outputs": [
    {
     "name": "stdout",
     "output_type": "stream",
     "text": [
      "['I', 'shot', 'an', 'elephant']\n"
     ]
    }
   ],
   "source": [
    "sent = 'I shot an elephant'.split()\n",
    "print(sent)"
   ]
  },
  {
   "cell_type": "markdown",
   "metadata": {},
   "source": [
    "---\n",
    "### 1.1 Recursive-Descent-Parser (einfacher top-down-Parser)\n",
    "- https://www.nltk.org/book/ch08.html#recursive-descent-parsing\n",
    "\n",
    "##### *Endlosschleife bei linksrekursiver Regel!*"
   ]
  },
  {
   "cell_type": "code",
   "execution_count": 4,
   "metadata": {},
   "outputs": [],
   "source": [
    "#parser = nltk.RecursiveDescentParser(grammar,trace=2)\n",
    "#for tree in parser.parse(sent):\n",
    "#    print(tree)\n",
    "#    tree.pretty_print(unicodelines=True)"
   ]
  },
  {
   "cell_type": "markdown",
   "metadata": {},
   "source": [
    "```\n",
    "Parsing 'I shot an elephant'\n",
    "    [ * S ]\n",
    "  E [ * NP VP ]\n",
    "  E [ * Det N VP ]\n",
    "  E [ * 'an' N VP ]\n",
    "  E [ * 'my' N VP ]\n",
    "  E [ * NP PP VP ]\n",
    "  E [ * Det N PP VP ]\n",
    "  E [ * 'an' N PP VP ]\n",
    "  E [ * 'my' N PP VP ]\n",
    "  E [ * NP PP PP VP ]\n",
    "  E [ * Det N PP PP VP ]\n",
    "  E [ * 'an' N PP PP VP ]\n",
    "  E [ * 'my' N PP PP VP ]\n",
    "  E [ * NP PP PP PP VP ]\n",
    "  E [ * Det N PP PP PP VP ]\n",
    "  E [ * 'an' N PP PP PP VP ]\n",
    "  E [ * 'my' N PP PP PP VP ]\n",
    "  E [ * NP PP PP PP PP VP ]\n",
    "  E [ * Det N PP PP PP PP VP ]\n",
    "  E [ * 'an' N PP PP PP PP VP ]\n",
    "  E [ * 'my' N PP PP PP PP VP ]\n",
    "  E [ * NP PP PP PP PP PP VP ]\n",
    "  E [ * Det N PP PP PP PP PP VP ]\n",
    "  E [ * 'an' N PP PP PP PP PP VP ]\n",
    "  E [ * 'my' N PP PP PP PP PP VP ]\n",
    "  E [ * NP PP PP PP PP PP PP VP ]\n",
    "  E [ * Det N PP PP PP PP PP PP VP ]\n",
    "  E [ * 'an' N PP PP PP PP PP PP VP ]\n",
    "  E [ * 'my' N PP PP PP PP PP PP VP ]\n",
    "  ...\n",
    "```"
   ]
  },
  {
   "cell_type": "markdown",
   "metadata": {},
   "source": [
    "---\n",
    "### 1.2 Parsing möglich z.B. mit Shift-Reduce-Parser (bottom-up)\n",
    "- https://www.nltk.org/book/ch08.html#shift-reduce-parsing"
   ]
  },
  {
   "cell_type": "code",
   "execution_count": 5,
   "metadata": {},
   "outputs": [
    {
     "name": "stdout",
     "output_type": "stream",
     "text": [
      "Parsing 'I shot an elephant'\n",
      "    [ * I shot an elephant]\n",
      "  S [ 'I' * shot an elephant]\n",
      "  R [ Pron * shot an elephant]\n",
      "  R [ NP * shot an elephant]\n",
      "  S [ NP 'shot' * an elephant]\n",
      "  R [ NP V * an elephant]\n",
      "  S [ NP V 'an' * elephant]\n",
      "  R [ NP V Det * elephant]\n",
      "  S [ NP V Det 'elephant' * ]\n",
      "  R [ NP V Det N * ]\n",
      "  R [ NP V NP * ]\n",
      "  R [ NP VP * ]\n",
      "  R [ S * ]\n",
      "(S (NP (Pron I)) (VP (V shot) (NP (Det an) (N elephant))))\n",
      "           S                  \n",
      "  _________|___                \n",
      " |             VP             \n",
      " |     ________|___            \n",
      " NP   |            NP         \n",
      " |    |         ___|_____      \n",
      "Pron  V       Det        N    \n",
      " |    |        |         |     \n",
      " I   shot      an     elephant\n",
      "\n"
     ]
    }
   ],
   "source": [
    "parser = nltk.ShiftReduceParser(grammar,trace=2)\n",
    "for tree in parser.parse(sent):\n",
    "    print(tree)\n",
    "    tree.pretty_print()"
   ]
  },
  {
   "cell_type": "markdown",
   "metadata": {},
   "source": [
    "---\n",
    "\n",
    "### 1.3 ebenso möglich mit Chart-Parser (Parser mit dynamischer Programmierung)\n",
    "\n",
    "https://www.nltk.org/book/ch08-extras.html#chart-parsing\n",
    "\n",
    "#### 2 Strategien im NLTK:\n",
    "- `BU_STRATEGY` (bottom-up)\n",
    "- `TD_STRATEGY` (top-down)\n",
    "\n",
    "> NLTK defines a simple yet flexible chart parser, `ChartParser`. A new chart parser is constructed from a grammar and a strategy. The strategy is applied until no new edges are added to the chart. NLTK defines two ready-made strategies: `TD_STRATEGY`, a basic top-down strategy; and `BU_STRATEGY`, a basic bottom-up strategy. When constructing a chart parser, you can use either of these strategies, or create your own. [...] `parser = nltk.ChartParser(groucho_grammar, nltk.parse.BU_STRATEGY)`(https://www.nltk.org/book/ch08-extras.html#chart-parsing)\n",
    "\n",
    "\n",
    "- s. https://www.nltk.org/howto/parse.html"
   ]
  },
  {
   "cell_type": "code",
   "execution_count": 6,
   "metadata": {},
   "outputs": [
    {
     "name": "stdout",
     "output_type": "stream",
     "text": [
      "|.    I    .   shot  .    an   . elephant.|\n",
      "|[---------]         .         .         .| [0:1] 'I'\n",
      "|.         [---------]         .         .| [1:2] 'shot'\n",
      "|.         .         [---------]         .| [2:3] 'an'\n",
      "|.         .         .         [---------]| [3:4] 'elephant'\n",
      "|[---------]         .         .         .| [0:1] Pron -> 'I' *\n",
      "|[---------]         .         .         .| [0:1] NP -> Pron *\n",
      "|[--------->         .         .         .| [0:1] S  -> NP * VP\n",
      "|[--------->         .         .         .| [0:1] NP -> NP * PP\n",
      "|.         [---------]         .         .| [1:2] V  -> 'shot' *\n",
      "|.         [--------->         .         .| [1:2] VP -> V * NP\n",
      "|.         .         [---------]         .| [2:3] Det -> 'an' *\n",
      "|.         .         [--------->         .| [2:3] NP -> Det * N\n",
      "|.         .         .         [---------]| [3:4] N  -> 'elephant' *\n",
      "|.         .         [-------------------]| [2:4] NP -> Det N *\n",
      "|.         .         [------------------->| [2:4] S  -> NP * VP\n",
      "|.         .         [------------------->| [2:4] NP -> NP * PP\n",
      "|.         [-----------------------------]| [1:4] VP -> V NP *\n",
      "|.         [----------------------------->| [1:4] VP -> VP * PP\n",
      "|[=======================================]| [0:4] S  -> NP VP *\n",
      "(S (NP (Pron I)) (VP (V shot) (NP (Det an) (N elephant))))\n",
      "           S                  \n",
      "  _________|___                \n",
      " |             VP             \n",
      " |     ________|___            \n",
      " NP   |            NP         \n",
      " |    |         ___|_____      \n",
      "Pron  V       Det        N    \n",
      " |    |        |         |     \n",
      " I   shot      an     elephant\n",
      "\n"
     ]
    }
   ],
   "source": [
    "parser = nltk.ChartParser(grammar, trace=1) #Default Strategie = BottomUpChartParser\n",
    "for tree in parser.parse(sent):\n",
    "    print(tree)\n",
    "    tree.pretty_print()"
   ]
  },
  {
   "cell_type": "code",
   "execution_count": 7,
   "metadata": {},
   "outputs": [
    {
     "name": "stdout",
     "output_type": "stream",
     "text": [
      "|.    I    .   shot  .    an   . elephant.|\n",
      "|[---------]         .         .         .| [0:1] 'I'\n",
      "|.         [---------]         .         .| [1:2] 'shot'\n",
      "|.         .         [---------]         .| [2:3] 'an'\n",
      "|.         .         .         [---------]| [3:4] 'elephant'\n",
      "|>         .         .         .         .| [0:0] S  -> * NP VP\n",
      "|>         .         .         .         .| [0:0] NP -> * Det N\n",
      "|>         .         .         .         .| [0:0] NP -> * NP PP\n",
      "|>         .         .         .         .| [0:0] NP -> * Pron\n",
      "|>         .         .         .         .| [0:0] Pron -> * 'I'\n",
      "|[---------]         .         .         .| [0:1] Pron -> 'I' *\n",
      "|[---------]         .         .         .| [0:1] NP -> Pron *\n",
      "|[--------->         .         .         .| [0:1] S  -> NP * VP\n",
      "|[--------->         .         .         .| [0:1] NP -> NP * PP\n",
      "|.         >         .         .         .| [1:1] PP -> * P NP\n",
      "|.         >         .         .         .| [1:1] VP -> * V NP\n",
      "|.         >         .         .         .| [1:1] VP -> * VP PP\n",
      "|.         >         .         .         .| [1:1] V  -> * 'shot'\n",
      "|.         [---------]         .         .| [1:2] V  -> 'shot' *\n",
      "|.         [--------->         .         .| [1:2] VP -> V * NP\n",
      "|.         .         >         .         .| [2:2] NP -> * Det N\n",
      "|.         .         >         .         .| [2:2] NP -> * NP PP\n",
      "|.         .         >         .         .| [2:2] NP -> * Pron\n",
      "|.         .         >         .         .| [2:2] Det -> * 'an'\n",
      "|.         .         [---------]         .| [2:3] Det -> 'an' *\n",
      "|.         .         [--------->         .| [2:3] NP -> Det * N\n",
      "|.         .         .         >         .| [3:3] N  -> * 'elephant'\n",
      "|.         .         .         [---------]| [3:4] N  -> 'elephant' *\n",
      "|.         .         [-------------------]| [2:4] NP -> Det N *\n",
      "|.         [-----------------------------]| [1:4] VP -> V NP *\n",
      "|.         .         [------------------->| [2:4] NP -> NP * PP\n",
      "|.         .         .         .         >| [4:4] PP -> * P NP\n",
      "|[=======================================]| [0:4] S  -> NP VP *\n",
      "|.         [----------------------------->| [1:4] VP -> VP * PP\n",
      "(S (NP (Pron I)) (VP (V shot) (NP (Det an) (N elephant))))\n",
      "           S                  \n",
      "  _________|___                \n",
      " |             VP             \n",
      " |     ________|___            \n",
      " NP   |            NP         \n",
      " |    |         ___|_____      \n",
      "Pron  V       Det        N    \n",
      " |    |        |         |     \n",
      " I   shot      an     elephant\n",
      "\n"
     ]
    }
   ],
   "source": [
    "parser = nltk.parse.EarleyChartParser(grammar, trace=1)\n",
    "#parser = nltk.parse.TopDownChartParser(grammar, trace=1)\n",
    "for tree in parser.parse(sent):\n",
    "    print(tree)\n",
    "    tree.pretty_print()"
   ]
  },
  {
   "cell_type": "markdown",
   "metadata": {},
   "source": [
    "---\n",
    "## 2. Verarbeitungsproblem Backtracking\n",
    "\n",
    "- z.B. notwendig bei Sätzen mit temporaler Ambiguität\n",
    "\n",
    "##### nicht in allen Parsern implementiert!"
   ]
  },
  {
   "cell_type": "code",
   "execution_count": 8,
   "metadata": {},
   "outputs": [],
   "source": [
    "sent = 'the old man the boat'.split()\n",
    "\n",
    "grammar = nltk.CFG.fromstring(\"\"\"\n",
    "## Syntaktische Regeln:\n",
    "    S -> NP VP\n",
    "    NP -> Det Adj N\n",
    "    NP -> Det N\n",
    "    VP -> V NP\n",
    "##Lexikalische Regeln:\n",
    "    Det -> 'the'\n",
    "    Adj -> 'old'    \n",
    "    N -> 'man' | 'boat' | 'old'\n",
    "    V -> 'man'\n",
    "\"\"\")\n"
   ]
  },
  {
   "cell_type": "markdown",
   "metadata": {},
   "source": [
    "---\n",
    "### 2.1 ShiftReduceParser im NLTK: ohne Backtracking implementiert\n",
    "\n",
    "##### findet keinen Parse!"
   ]
  },
  {
   "cell_type": "code",
   "execution_count": 9,
   "metadata": {},
   "outputs": [
    {
     "name": "stdout",
     "output_type": "stream",
     "text": [
      "Warning: Adj -> 'old' will never be used\n",
      "Warning: N -> 'man' will never be used\n",
      "Parsing 'the old man the boat'\n",
      "    [ * the old man the boat]\n",
      "  S [ 'the' * old man the boat]\n",
      "  R [ Det * old man the boat]\n",
      "  S [ Det 'old' * man the boat]\n",
      "  R [ Det Adj * man the boat]\n",
      "  S [ Det Adj 'man' * the boat]\n",
      "  R [ Det Adj N * the boat]\n",
      "  R [ NP * the boat]\n",
      "  S [ NP 'the' * boat]\n",
      "  R [ NP Det * boat]\n",
      "  S [ NP Det 'boat' * ]\n",
      "  R [ NP Det N * ]\n",
      "  R [ NP NP * ]\n"
     ]
    }
   ],
   "source": [
    "#NLTK-ShiftReduceParser (bottom-up-Parser): kein Backtracking! \n",
    "#bleibt bei Analyse NP NP ((the old man) (the boat)) stehen, findet keinen vollständigen Parse\n",
    "\n",
    "parser = nltk.ShiftReduceParser(grammar,trace=2)\n",
    "\n",
    "for tree in parser.parse(sent):\n",
    "    print(tree)\n",
    "    tree.pretty_print(unicodelines=True)"
   ]
  },
  {
   "cell_type": "markdown",
   "metadata": {},
   "source": [
    "### 2.2 RecursiveDescentParser im NLTK mit Backtracking implementiert"
   ]
  },
  {
   "cell_type": "code",
   "execution_count": 10,
   "metadata": {
    "scrolled": false
   },
   "outputs": [
    {
     "name": "stdout",
     "output_type": "stream",
     "text": [
      "Parsing 'the old man the boat'\n",
      "Start:\n",
      "    [ * S ]\n",
      "Expand: S -> NP VP\n",
      "    [ * NP VP ]\n",
      "Expand: NP -> Det Adj N\n",
      "    [ * Det Adj N VP ]\n",
      "Expand: Det -> 'the'\n",
      "    [ * 'the' Adj N VP ]\n",
      "Match: 'the'\n",
      "    [ 'the' * Adj N VP ]\n",
      "Expand: Adj -> 'old'\n",
      "    [ 'the' * 'old' N VP ]\n",
      "Match: 'old'\n",
      "    [ 'the' 'old' * N VP ]\n",
      "Expand: N -> 'man'\n",
      "    [ 'the' 'old' * 'man' VP ]\n",
      "Match: 'man'\n",
      "    [ 'the' 'old' 'man' * VP ]\n",
      "Expand: VP -> V NP\n",
      "    [ 'the' 'old' 'man' * V NP ]\n",
      "Expand: V -> 'man'\n",
      "    [ 'the' 'old' 'man' * 'man' NP ]\n",
      "Backtrack: 'the' match failed\n",
      "Expand: N -> 'boat'\n",
      "    [ 'the' 'old' * 'boat' VP ]\n",
      "Backtrack: 'man' match failed\n",
      "Expand: N -> 'old'\n",
      "    [ 'the' 'old' * 'old' VP ]\n",
      "Backtrack: 'man' match failed\n",
      "Expand: NP -> Det N\n",
      "    [ * Det N VP ]\n",
      "Expand: Det -> 'the'\n",
      "    [ * 'the' N VP ]\n",
      "Match: 'the'\n",
      "    [ 'the' * N VP ]\n",
      "Expand: N -> 'man'\n",
      "    [ 'the' * 'man' VP ]\n",
      "Backtrack: 'old' match failed\n",
      "Expand: N -> 'boat'\n",
      "    [ 'the' * 'boat' VP ]\n",
      "Backtrack: 'old' match failed\n",
      "Expand: N -> 'old'\n",
      "    [ 'the' * 'old' VP ]\n",
      "Match: 'old'\n",
      "    [ 'the' 'old' * VP ]\n",
      "Expand: VP -> V NP\n",
      "    [ 'the' 'old' * V NP ]\n",
      "Expand: V -> 'man'\n",
      "    [ 'the' 'old' * 'man' NP ]\n",
      "Match: 'man'\n",
      "    [ 'the' 'old' 'man' * NP ]\n",
      "Expand: NP -> Det Adj N\n",
      "    [ 'the' 'old' 'man' * Det Adj N ]\n",
      "Expand: Det -> 'the'\n",
      "    [ 'the' 'old' 'man' * 'the' Adj N ]\n",
      "Match: 'the'\n",
      "    [ 'the' 'old' 'man' 'the' * Adj N ]\n",
      "Expand: Adj -> 'old'\n",
      "    [ 'the' 'old' 'man' 'the' * 'old' N ]\n",
      "Backtrack: 'boat' match failed\n",
      "Expand: NP -> Det N\n",
      "    [ 'the' 'old' 'man' * Det N ]\n",
      "Expand: Det -> 'the'\n",
      "    [ 'the' 'old' 'man' * 'the' N ]\n",
      "Match: 'the'\n",
      "    [ 'the' 'old' 'man' 'the' * N ]\n",
      "Expand: N -> 'man'\n",
      "    [ 'the' 'old' 'man' 'the' * 'man' ]\n",
      "Backtrack: 'boat' match failed\n",
      "Expand: N -> 'boat'\n",
      "    [ 'the' 'old' 'man' 'the' * 'boat' ]\n",
      "Match: 'boat'\n",
      "    [ 'the' 'old' 'man' 'the' 'boat' ]\n",
      "GOOD PARSE:\n",
      "    [ 'the' 'old' 'man' 'the' 'boat' ]\n",
      "(S (NP (Det the) (N old)) (VP (V man) (NP (Det the) (N boat))))\n",
      "             S              \n",
      "     ┌───────┴───┐           \n",
      "     │           VP         \n",
      "     │       ┌───┴───┐       \n",
      "     NP      │       NP     \n",
      " ┌───┴───┐   │   ┌───┴───┐   \n",
      "Det      N   V  Det      N  \n",
      " │       │   │   │       │   \n",
      "the     old man the     boat\n",
      "\n",
      "Expand: N -> 'old'\n",
      "    [ 'the' 'old' 'man' 'the' * 'old' ]\n",
      "Backtrack: 'boat' match failed\n"
     ]
    }
   ],
   "source": [
    "##NLTK-RecursiveDescentParser (top-down-Parser): Backtracking implementiert \n",
    "## Backtracking ermöglicht Reanalyse der Struktur\n",
    "\n",
    "parser = nltk.RecursiveDescentParser(grammar,trace=3)\n",
    "\n",
    "for tree in parser.parse(sent):\n",
    "    print(tree)\n",
    "    tree.pretty_print(unicodelines=True)\n",
    "    "
   ]
  }
 ],
 "metadata": {
  "kernelspec": {
   "display_name": "Python 3",
   "language": "python",
   "name": "python3"
  },
  "language_info": {
   "codemirror_mode": {
    "name": "ipython",
    "version": 3
   },
   "file_extension": ".py",
   "mimetype": "text/x-python",
   "name": "python",
   "nbconvert_exporter": "python",
   "pygments_lexer": "ipython3",
   "version": "3.6.1"
  },
  "widgets": {
   "application/vnd.jupyter.widget-state+json": {
    "state": {
     "098dd75f65594c0f992ddeffeb8523e3": {
      "model_module": "@jupyter-widgets/controls",
      "model_module_version": "1.2.0",
      "model_name": "SliderStyleModel",
      "state": {
       "description_width": ""
      }
     },
     "0ccfa5129ab64950adda077f6ac8f44a": {
      "model_module": "@jupyter-widgets/controls",
      "model_module_version": "1.2.0",
      "model_name": "IntSliderModel",
      "state": {
       "layout": "IPY_MODEL_641f3cf31a334ee6810a9a92f93e89a7",
       "style": "IPY_MODEL_63aadafcc3504a3b8b15fdea9d4ec244",
       "value": 50
      }
     },
     "1b37a149a74c40c68d34c61b481048f8": {
      "model_module": "@jupyter-widgets/base",
      "model_module_version": "1.0.0",
      "model_name": "LayoutModel",
      "state": {}
     },
     "367694b2ecc94715a20952236f9ced88": {
      "model_module": "@jupyter-widgets/base",
      "model_module_version": "1.0.0",
      "model_name": "LayoutModel",
      "state": {}
     },
     "3d6ebd239fc84a8e95b3007988e38134": {
      "model_module": "@jupyter-widgets/controls",
      "model_module_version": "1.2.0",
      "model_name": "SliderStyleModel",
      "state": {
       "description_width": ""
      }
     },
     "63aadafcc3504a3b8b15fdea9d4ec244": {
      "model_module": "@jupyter-widgets/controls",
      "model_module_version": "1.2.0",
      "model_name": "SliderStyleModel",
      "state": {
       "description_width": ""
      }
     },
     "641f3cf31a334ee6810a9a92f93e89a7": {
      "model_module": "@jupyter-widgets/base",
      "model_module_version": "1.0.0",
      "model_name": "LayoutModel",
      "state": {}
     },
     "993ec756027845c19085347ca5f9f6ce": {
      "model_module": "@jupyter-widgets/controls",
      "model_module_version": "1.2.0",
      "model_name": "SliderStyleModel",
      "state": {
       "description_width": ""
      }
     },
     "bb743dc2dd2d4bb08dd2c5255e1d87c6": {
      "model_module": "@jupyter-widgets/controls",
      "model_module_version": "1.2.0",
      "model_name": "SliderStyleModel",
      "state": {
       "description_width": ""
      }
     },
     "cb4a4abdac584f78ac3b37579ac33b10": {
      "model_module": "@jupyter-widgets/controls",
      "model_module_version": "1.2.0",
      "model_name": "IntSliderModel",
      "state": {
       "layout": "IPY_MODEL_f25c2eb22704411b9981f8047a2c0182",
       "style": "IPY_MODEL_993ec756027845c19085347ca5f9f6ce",
       "value": 50
      }
     },
     "cfbb8ba5969a49e18a1733c50e6b73e4": {
      "model_module": "@jupyter-widgets/controls",
      "model_module_version": "1.2.0",
      "model_name": "IntSliderModel",
      "state": {
       "layout": "IPY_MODEL_1b37a149a74c40c68d34c61b481048f8",
       "style": "IPY_MODEL_3d6ebd239fc84a8e95b3007988e38134",
       "value": 50
      }
     },
     "da2e37629b7141b8a194c275f89ccef5": {
      "model_module": "@jupyter-widgets/base",
      "model_module_version": "1.0.0",
      "model_name": "LayoutModel",
      "state": {}
     },
     "eafa48b852af4f40b414b8d4f0b90c7a": {
      "model_module": "@jupyter-widgets/controls",
      "model_module_version": "1.2.0",
      "model_name": "IntSliderModel",
      "state": {
       "layout": "IPY_MODEL_da2e37629b7141b8a194c275f89ccef5",
       "style": "IPY_MODEL_bb743dc2dd2d4bb08dd2c5255e1d87c6"
      }
     },
     "f196171317cf493fabedf854f59c1d44": {
      "model_module": "@jupyter-widgets/controls",
      "model_module_version": "1.2.0",
      "model_name": "IntSliderModel",
      "state": {
       "layout": "IPY_MODEL_367694b2ecc94715a20952236f9ced88",
       "style": "IPY_MODEL_098dd75f65594c0f992ddeffeb8523e3"
      }
     },
     "f25c2eb22704411b9981f8047a2c0182": {
      "model_module": "@jupyter-widgets/base",
      "model_module_version": "1.0.0",
      "model_name": "LayoutModel",
      "state": {}
     }
    },
    "version_major": 2,
    "version_minor": 0
   }
  }
 },
 "nbformat": 4,
 "nbformat_minor": 2
}
