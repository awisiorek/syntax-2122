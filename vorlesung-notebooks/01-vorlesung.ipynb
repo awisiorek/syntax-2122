{
 "cells": [
  {
   "cell_type": "markdown",
   "metadata": {},
   "source": [
    "***Vorlesung 'Syntax natürlicher Sprachen'***\n",
    "\n",
    "--- \n",
    "# Vorlesung 1: Automatische Syntaxanalyse"
   ]
  },
  {
   "cell_type": "markdown",
   "metadata": {},
   "source": [
    "## 1. Parsing mit NLP-Systemen"
   ]
  },
  {
   "cell_type": "markdown",
   "metadata": {},
   "source": [
    "\n",
    "### 1.1 spaCy (Dependency Parser)"
   ]
  },
  {
   "cell_type": "code",
   "execution_count": 1,
   "metadata": {},
   "outputs": [],
   "source": [
    "import spacy\n",
    "nlp = spacy.load('en_core_web_sm')"
   ]
  },
  {
   "cell_type": "code",
   "execution_count": 2,
   "metadata": {},
   "outputs": [],
   "source": [
    "doc = nlp('I shot an elephant in my pajamas.')"
   ]
  },
  {
   "cell_type": "code",
   "execution_count": 3,
   "metadata": {},
   "outputs": [
    {
     "data": {
      "text/html": [
       "<svg xmlns=\"http://www.w3.org/2000/svg\" xmlns:xlink=\"http://www.w3.org/1999/xlink\" xml:lang=\"en\" id=\"798e80542a194606b90f280b4e408e3d-0\" class=\"displacy\" width=\"750\" height=\"287.0\" direction=\"ltr\" style=\"max-width: none; height: 287.0px; color: #000000; background: #ffffff; font-family: Arial; direction: ltr\">\n",
       "<text class=\"displacy-token\" fill=\"currentColor\" text-anchor=\"middle\" y=\"197.0\">\n",
       "    <tspan class=\"displacy-word\" fill=\"currentColor\" x=\"50\">I</tspan>\n",
       "    <tspan class=\"displacy-tag\" dy=\"2em\" fill=\"currentColor\" x=\"50\">PRON</tspan>\n",
       "</text>\n",
       "\n",
       "<text class=\"displacy-token\" fill=\"currentColor\" text-anchor=\"middle\" y=\"197.0\">\n",
       "    <tspan class=\"displacy-word\" fill=\"currentColor\" x=\"150\">shot</tspan>\n",
       "    <tspan class=\"displacy-tag\" dy=\"2em\" fill=\"currentColor\" x=\"150\">VERB</tspan>\n",
       "</text>\n",
       "\n",
       "<text class=\"displacy-token\" fill=\"currentColor\" text-anchor=\"middle\" y=\"197.0\">\n",
       "    <tspan class=\"displacy-word\" fill=\"currentColor\" x=\"250\">an</tspan>\n",
       "    <tspan class=\"displacy-tag\" dy=\"2em\" fill=\"currentColor\" x=\"250\">DET</tspan>\n",
       "</text>\n",
       "\n",
       "<text class=\"displacy-token\" fill=\"currentColor\" text-anchor=\"middle\" y=\"197.0\">\n",
       "    <tspan class=\"displacy-word\" fill=\"currentColor\" x=\"350\">elephant</tspan>\n",
       "    <tspan class=\"displacy-tag\" dy=\"2em\" fill=\"currentColor\" x=\"350\">NOUN</tspan>\n",
       "</text>\n",
       "\n",
       "<text class=\"displacy-token\" fill=\"currentColor\" text-anchor=\"middle\" y=\"197.0\">\n",
       "    <tspan class=\"displacy-word\" fill=\"currentColor\" x=\"450\">in</tspan>\n",
       "    <tspan class=\"displacy-tag\" dy=\"2em\" fill=\"currentColor\" x=\"450\">ADP</tspan>\n",
       "</text>\n",
       "\n",
       "<text class=\"displacy-token\" fill=\"currentColor\" text-anchor=\"middle\" y=\"197.0\">\n",
       "    <tspan class=\"displacy-word\" fill=\"currentColor\" x=\"550\">my</tspan>\n",
       "    <tspan class=\"displacy-tag\" dy=\"2em\" fill=\"currentColor\" x=\"550\">PRON</tspan>\n",
       "</text>\n",
       "\n",
       "<text class=\"displacy-token\" fill=\"currentColor\" text-anchor=\"middle\" y=\"197.0\">\n",
       "    <tspan class=\"displacy-word\" fill=\"currentColor\" x=\"650\">pajamas.</tspan>\n",
       "    <tspan class=\"displacy-tag\" dy=\"2em\" fill=\"currentColor\" x=\"650\">NOUN</tspan>\n",
       "</text>\n",
       "\n",
       "<g class=\"displacy-arrow\">\n",
       "    <path class=\"displacy-arc\" id=\"arrow-798e80542a194606b90f280b4e408e3d-0-0\" stroke-width=\"2px\" d=\"M70,152.0 C70,102.0 140.0,102.0 140.0,152.0\" fill=\"none\" stroke=\"currentColor\"/>\n",
       "    <text dy=\"1.25em\" style=\"font-size: 0.8em; letter-spacing: 1px\">\n",
       "        <textPath xlink:href=\"#arrow-798e80542a194606b90f280b4e408e3d-0-0\" class=\"displacy-label\" startOffset=\"50%\" side=\"left\" fill=\"currentColor\" text-anchor=\"middle\">nsubj</textPath>\n",
       "    </text>\n",
       "    <path class=\"displacy-arrowhead\" d=\"M70,154.0 L62,142.0 78,142.0\" fill=\"currentColor\"/>\n",
       "</g>\n",
       "\n",
       "<g class=\"displacy-arrow\">\n",
       "    <path class=\"displacy-arc\" id=\"arrow-798e80542a194606b90f280b4e408e3d-0-1\" stroke-width=\"2px\" d=\"M270,152.0 C270,102.0 340.0,102.0 340.0,152.0\" fill=\"none\" stroke=\"currentColor\"/>\n",
       "    <text dy=\"1.25em\" style=\"font-size: 0.8em; letter-spacing: 1px\">\n",
       "        <textPath xlink:href=\"#arrow-798e80542a194606b90f280b4e408e3d-0-1\" class=\"displacy-label\" startOffset=\"50%\" side=\"left\" fill=\"currentColor\" text-anchor=\"middle\">det</textPath>\n",
       "    </text>\n",
       "    <path class=\"displacy-arrowhead\" d=\"M270,154.0 L262,142.0 278,142.0\" fill=\"currentColor\"/>\n",
       "</g>\n",
       "\n",
       "<g class=\"displacy-arrow\">\n",
       "    <path class=\"displacy-arc\" id=\"arrow-798e80542a194606b90f280b4e408e3d-0-2\" stroke-width=\"2px\" d=\"M170,152.0 C170,52.0 345.0,52.0 345.0,152.0\" fill=\"none\" stroke=\"currentColor\"/>\n",
       "    <text dy=\"1.25em\" style=\"font-size: 0.8em; letter-spacing: 1px\">\n",
       "        <textPath xlink:href=\"#arrow-798e80542a194606b90f280b4e408e3d-0-2\" class=\"displacy-label\" startOffset=\"50%\" side=\"left\" fill=\"currentColor\" text-anchor=\"middle\">dobj</textPath>\n",
       "    </text>\n",
       "    <path class=\"displacy-arrowhead\" d=\"M345.0,154.0 L353.0,142.0 337.0,142.0\" fill=\"currentColor\"/>\n",
       "</g>\n",
       "\n",
       "<g class=\"displacy-arrow\">\n",
       "    <path class=\"displacy-arc\" id=\"arrow-798e80542a194606b90f280b4e408e3d-0-3\" stroke-width=\"2px\" d=\"M170,152.0 C170,2.0 450.0,2.0 450.0,152.0\" fill=\"none\" stroke=\"currentColor\"/>\n",
       "    <text dy=\"1.25em\" style=\"font-size: 0.8em; letter-spacing: 1px\">\n",
       "        <textPath xlink:href=\"#arrow-798e80542a194606b90f280b4e408e3d-0-3\" class=\"displacy-label\" startOffset=\"50%\" side=\"left\" fill=\"currentColor\" text-anchor=\"middle\">prep</textPath>\n",
       "    </text>\n",
       "    <path class=\"displacy-arrowhead\" d=\"M450.0,154.0 L458.0,142.0 442.0,142.0\" fill=\"currentColor\"/>\n",
       "</g>\n",
       "\n",
       "<g class=\"displacy-arrow\">\n",
       "    <path class=\"displacy-arc\" id=\"arrow-798e80542a194606b90f280b4e408e3d-0-4\" stroke-width=\"2px\" d=\"M570,152.0 C570,102.0 640.0,102.0 640.0,152.0\" fill=\"none\" stroke=\"currentColor\"/>\n",
       "    <text dy=\"1.25em\" style=\"font-size: 0.8em; letter-spacing: 1px\">\n",
       "        <textPath xlink:href=\"#arrow-798e80542a194606b90f280b4e408e3d-0-4\" class=\"displacy-label\" startOffset=\"50%\" side=\"left\" fill=\"currentColor\" text-anchor=\"middle\">poss</textPath>\n",
       "    </text>\n",
       "    <path class=\"displacy-arrowhead\" d=\"M570,154.0 L562,142.0 578,142.0\" fill=\"currentColor\"/>\n",
       "</g>\n",
       "\n",
       "<g class=\"displacy-arrow\">\n",
       "    <path class=\"displacy-arc\" id=\"arrow-798e80542a194606b90f280b4e408e3d-0-5\" stroke-width=\"2px\" d=\"M470,152.0 C470,52.0 645.0,52.0 645.0,152.0\" fill=\"none\" stroke=\"currentColor\"/>\n",
       "    <text dy=\"1.25em\" style=\"font-size: 0.8em; letter-spacing: 1px\">\n",
       "        <textPath xlink:href=\"#arrow-798e80542a194606b90f280b4e408e3d-0-5\" class=\"displacy-label\" startOffset=\"50%\" side=\"left\" fill=\"currentColor\" text-anchor=\"middle\">pobj</textPath>\n",
       "    </text>\n",
       "    <path class=\"displacy-arrowhead\" d=\"M645.0,154.0 L653.0,142.0 637.0,142.0\" fill=\"currentColor\"/>\n",
       "</g>\n",
       "</svg>"
      ],
      "text/plain": [
       "<IPython.core.display.HTML object>"
      ]
     },
     "metadata": {},
     "output_type": "display_data"
    }
   ],
   "source": [
    "from spacy import displacy\n",
    "displacy.render(doc, style=\"dep\", options={'distance':100})"
   ]
  },
  {
   "cell_type": "markdown",
   "metadata": {},
   "source": [
    "---\n",
    "### 1.2 Stanford-Parser (PCFG-Analyse mit Transformation in Universal Dependencies)"
   ]
  },
  {
   "cell_type": "markdown",
   "metadata": {},
   "source": [
    "- Output von https://corenlp.run \n"
   ]
  },
  {
   "cell_type": "markdown",
   "metadata": {},
   "source": [
    "<img width=\"70%\" src=\"data:image/png;base64,\n",
    "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\">"
   ]
  },
  {
   "cell_type": "markdown",
   "metadata": {},
   "source": [
    "- vgl. Output http://nlp.stanford.edu:8080/parser/index.jsp\n",
    "        \n",
    "**Parse:**\n",
    "```\n",
    "(ROOT\n",
    "  (S\n",
    "    (NP (PRP I))\n",
    "    (VP (VBD shot)\n",
    "      (NP (DT an) (NN elephant))\n",
    "      (PP (IN in)\n",
    "        (NP (PRP$ my) (NNS pajamas))))\n",
    "    (. .)))\n",
    "```\n",
    "\n",
    "\n",
    "**Universal dependencies:**\n",
    "```\n",
    "nsubj(shot-2, I-1)\n",
    "root(ROOT-0, shot-2)\n",
    "det(elephant-4, an-3)\n",
    "obj(shot-2, elephant-4)\n",
    "case(pajamas-7, in-5)\n",
    "nmod:poss(pajamas-7, my-6)\n",
    "obl(shot-2, pajamas-7)\n",
    "```"
   ]
  },
  {
   "cell_type": "markdown",
   "metadata": {},
   "source": [
    "---\n",
    "#### BEACHTE: Unterschiedliche Analyse der PP (Präpositionalphrase)!\n",
    "\n",
    "- **spaCy**: Präposition als **Kopf** der PP (*pajamas* als `pobj`-Dependent)\n",
    "- **Stanford**: Präposition als `case`-**Dependent** innerhalb der PP (UD: \"*primacy of content words*\")"
   ]
  },
  {
   "cell_type": "markdown",
   "metadata": {},
   "source": [
    "---\n",
    "### 1.3 spaCy (deutsches Modell)"
   ]
  },
  {
   "cell_type": "code",
   "execution_count": 4,
   "metadata": {},
   "outputs": [],
   "source": [
    "nlp = spacy.load('de_core_news_sm')"
   ]
  },
  {
   "cell_type": "code",
   "execution_count": 5,
   "metadata": {},
   "outputs": [],
   "source": [
    "doc = nlp('Ich erschoss einen Elefanten in meinem Pyjama.')\n",
    "#doc = nlp('Ich habe einen Elefanten in meinem Pyjama erschossen.')"
   ]
  },
  {
   "cell_type": "code",
   "execution_count": 6,
   "metadata": {
    "scrolled": false
   },
   "outputs": [
    {
     "data": {
      "text/html": [
       "<svg xmlns=\"http://www.w3.org/2000/svg\" xmlns:xlink=\"http://www.w3.org/1999/xlink\" xml:lang=\"de\" id=\"109742703ade45c89f32f4bdcefb665a-0\" class=\"displacy\" width=\"750\" height=\"237.0\" direction=\"ltr\" style=\"max-width: none; height: 237.0px; color: #000000; background: #ffffff; font-family: Arial; direction: ltr\">\n",
       "<text class=\"displacy-token\" fill=\"currentColor\" text-anchor=\"middle\" y=\"147.0\">\n",
       "    <tspan class=\"displacy-word\" fill=\"currentColor\" x=\"50\">Ich</tspan>\n",
       "    <tspan class=\"displacy-tag\" dy=\"2em\" fill=\"currentColor\" x=\"50\">PRON</tspan>\n",
       "</text>\n",
       "\n",
       "<text class=\"displacy-token\" fill=\"currentColor\" text-anchor=\"middle\" y=\"147.0\">\n",
       "    <tspan class=\"displacy-word\" fill=\"currentColor\" x=\"150\">erschoss</tspan>\n",
       "    <tspan class=\"displacy-tag\" dy=\"2em\" fill=\"currentColor\" x=\"150\">VERB</tspan>\n",
       "</text>\n",
       "\n",
       "<text class=\"displacy-token\" fill=\"currentColor\" text-anchor=\"middle\" y=\"147.0\">\n",
       "    <tspan class=\"displacy-word\" fill=\"currentColor\" x=\"250\">einen</tspan>\n",
       "    <tspan class=\"displacy-tag\" dy=\"2em\" fill=\"currentColor\" x=\"250\">DET</tspan>\n",
       "</text>\n",
       "\n",
       "<text class=\"displacy-token\" fill=\"currentColor\" text-anchor=\"middle\" y=\"147.0\">\n",
       "    <tspan class=\"displacy-word\" fill=\"currentColor\" x=\"350\">Elefanten</tspan>\n",
       "    <tspan class=\"displacy-tag\" dy=\"2em\" fill=\"currentColor\" x=\"350\">NOUN</tspan>\n",
       "</text>\n",
       "\n",
       "<text class=\"displacy-token\" fill=\"currentColor\" text-anchor=\"middle\" y=\"147.0\">\n",
       "    <tspan class=\"displacy-word\" fill=\"currentColor\" x=\"450\">in</tspan>\n",
       "    <tspan class=\"displacy-tag\" dy=\"2em\" fill=\"currentColor\" x=\"450\">ADP</tspan>\n",
       "</text>\n",
       "\n",
       "<text class=\"displacy-token\" fill=\"currentColor\" text-anchor=\"middle\" y=\"147.0\">\n",
       "    <tspan class=\"displacy-word\" fill=\"currentColor\" x=\"550\">meinem</tspan>\n",
       "    <tspan class=\"displacy-tag\" dy=\"2em\" fill=\"currentColor\" x=\"550\">DET</tspan>\n",
       "</text>\n",
       "\n",
       "<text class=\"displacy-token\" fill=\"currentColor\" text-anchor=\"middle\" y=\"147.0\">\n",
       "    <tspan class=\"displacy-word\" fill=\"currentColor\" x=\"650\">Pyjama.</tspan>\n",
       "    <tspan class=\"displacy-tag\" dy=\"2em\" fill=\"currentColor\" x=\"650\">NOUN</tspan>\n",
       "</text>\n",
       "\n",
       "<g class=\"displacy-arrow\">\n",
       "    <path class=\"displacy-arc\" id=\"arrow-109742703ade45c89f32f4bdcefb665a-0-0\" stroke-width=\"2px\" d=\"M70,102.0 C70,52.0 145.0,52.0 145.0,102.0\" fill=\"none\" stroke=\"currentColor\"/>\n",
       "    <text dy=\"1.25em\" style=\"font-size: 0.8em; letter-spacing: 1px\">\n",
       "        <textPath xlink:href=\"#arrow-109742703ade45c89f32f4bdcefb665a-0-0\" class=\"displacy-label\" startOffset=\"50%\" side=\"left\" fill=\"currentColor\" text-anchor=\"middle\">sb</textPath>\n",
       "    </text>\n",
       "    <path class=\"displacy-arrowhead\" d=\"M70,104.0 L62,92.0 78,92.0\" fill=\"currentColor\"/>\n",
       "</g>\n",
       "\n",
       "<g class=\"displacy-arrow\">\n",
       "    <path class=\"displacy-arc\" id=\"arrow-109742703ade45c89f32f4bdcefb665a-0-1\" stroke-width=\"2px\" d=\"M270,102.0 C270,52.0 345.0,52.0 345.0,102.0\" fill=\"none\" stroke=\"currentColor\"/>\n",
       "    <text dy=\"1.25em\" style=\"font-size: 0.8em; letter-spacing: 1px\">\n",
       "        <textPath xlink:href=\"#arrow-109742703ade45c89f32f4bdcefb665a-0-1\" class=\"displacy-label\" startOffset=\"50%\" side=\"left\" fill=\"currentColor\" text-anchor=\"middle\">nk</textPath>\n",
       "    </text>\n",
       "    <path class=\"displacy-arrowhead\" d=\"M270,104.0 L262,92.0 278,92.0\" fill=\"currentColor\"/>\n",
       "</g>\n",
       "\n",
       "<g class=\"displacy-arrow\">\n",
       "    <path class=\"displacy-arc\" id=\"arrow-109742703ade45c89f32f4bdcefb665a-0-2\" stroke-width=\"2px\" d=\"M170,102.0 C170,2.0 350.0,2.0 350.0,102.0\" fill=\"none\" stroke=\"currentColor\"/>\n",
       "    <text dy=\"1.25em\" style=\"font-size: 0.8em; letter-spacing: 1px\">\n",
       "        <textPath xlink:href=\"#arrow-109742703ade45c89f32f4bdcefb665a-0-2\" class=\"displacy-label\" startOffset=\"50%\" side=\"left\" fill=\"currentColor\" text-anchor=\"middle\">oa</textPath>\n",
       "    </text>\n",
       "    <path class=\"displacy-arrowhead\" d=\"M350.0,104.0 L358.0,92.0 342.0,92.0\" fill=\"currentColor\"/>\n",
       "</g>\n",
       "\n",
       "<g class=\"displacy-arrow\">\n",
       "    <path class=\"displacy-arc\" id=\"arrow-109742703ade45c89f32f4bdcefb665a-0-3\" stroke-width=\"2px\" d=\"M370,102.0 C370,52.0 445.0,52.0 445.0,102.0\" fill=\"none\" stroke=\"currentColor\"/>\n",
       "    <text dy=\"1.25em\" style=\"font-size: 0.8em; letter-spacing: 1px\">\n",
       "        <textPath xlink:href=\"#arrow-109742703ade45c89f32f4bdcefb665a-0-3\" class=\"displacy-label\" startOffset=\"50%\" side=\"left\" fill=\"currentColor\" text-anchor=\"middle\">mnr</textPath>\n",
       "    </text>\n",
       "    <path class=\"displacy-arrowhead\" d=\"M445.0,104.0 L453.0,92.0 437.0,92.0\" fill=\"currentColor\"/>\n",
       "</g>\n",
       "\n",
       "<g class=\"displacy-arrow\">\n",
       "    <path class=\"displacy-arc\" id=\"arrow-109742703ade45c89f32f4bdcefb665a-0-4\" stroke-width=\"2px\" d=\"M570,102.0 C570,52.0 645.0,52.0 645.0,102.0\" fill=\"none\" stroke=\"currentColor\"/>\n",
       "    <text dy=\"1.25em\" style=\"font-size: 0.8em; letter-spacing: 1px\">\n",
       "        <textPath xlink:href=\"#arrow-109742703ade45c89f32f4bdcefb665a-0-4\" class=\"displacy-label\" startOffset=\"50%\" side=\"left\" fill=\"currentColor\" text-anchor=\"middle\">nk</textPath>\n",
       "    </text>\n",
       "    <path class=\"displacy-arrowhead\" d=\"M570,104.0 L562,92.0 578,92.0\" fill=\"currentColor\"/>\n",
       "</g>\n",
       "\n",
       "<g class=\"displacy-arrow\">\n",
       "    <path class=\"displacy-arc\" id=\"arrow-109742703ade45c89f32f4bdcefb665a-0-5\" stroke-width=\"2px\" d=\"M470,102.0 C470,2.0 650.0,2.0 650.0,102.0\" fill=\"none\" stroke=\"currentColor\"/>\n",
       "    <text dy=\"1.25em\" style=\"font-size: 0.8em; letter-spacing: 1px\">\n",
       "        <textPath xlink:href=\"#arrow-109742703ade45c89f32f4bdcefb665a-0-5\" class=\"displacy-label\" startOffset=\"50%\" side=\"left\" fill=\"currentColor\" text-anchor=\"middle\">nk</textPath>\n",
       "    </text>\n",
       "    <path class=\"displacy-arrowhead\" d=\"M650.0,104.0 L658.0,92.0 642.0,92.0\" fill=\"currentColor\"/>\n",
       "</g>\n",
       "</svg>"
      ],
      "text/plain": [
       "<IPython.core.display.HTML object>"
      ]
     },
     "metadata": {},
     "output_type": "display_data"
    }
   ],
   "source": [
    "displacy.render(doc, style='dep', options={'distance':100})"
   ]
  },
  {
   "cell_type": "code",
   "execution_count": 7,
   "metadata": {},
   "outputs": [
    {
     "name": "stdout",
     "output_type": "stream",
     "text": [
      "postnominal modifier\n",
      "noun kernel element\n"
     ]
    }
   ],
   "source": [
    "print(spacy.explain('mnr'), spacy.explain('nk'), sep=\"\\n\")"
   ]
  },
  {
   "cell_type": "markdown",
   "metadata": {},
   "source": [
    "\n",
    "#### BEACHTE: unterschiedliches PP-Attachment englisches vs. deutsches Modell! \n",
    "\n",
    "- `en`: PP als Dependent vom Kopf der VP (*shot*)\n",
    "- `de`: PP als Dependent vom Kopf der NP (*Elefanten*)\n",
    "\n",
    "##### Grund: strukturelle Ambiguität! (Modelle favorisieren jeweils andere Attachment-Art)"
   ]
  },
  {
   "cell_type": "markdown",
   "metadata": {},
   "source": [
    "---\n",
    "## 2. NLTK: Syntaxanalyse mit formalen Grammatiken"
   ]
  },
  {
   "cell_type": "code",
   "execution_count": 8,
   "metadata": {},
   "outputs": [],
   "source": [
    "import nltk"
   ]
  },
  {
   "cell_type": "code",
   "execution_count": 9,
   "metadata": {},
   "outputs": [
    {
     "name": "stdout",
     "output_type": "stream",
     "text": [
      "['I', 'shot', 'an', 'elephant', 'in', 'my', 'pajamas']\n"
     ]
    }
   ],
   "source": [
    "sent = 'I shot an elephant in my pajamas'.split()\n",
    "print(sent)"
   ]
  },
  {
   "cell_type": "markdown",
   "metadata": {},
   "source": [
    "---\n",
    "### 2.1 CFG (Kontextfreie Grammatik)"
   ]
  },
  {
   "cell_type": "code",
   "execution_count": 10,
   "metadata": {},
   "outputs": [],
   "source": [
    "#CFG:\n",
    "grammar = nltk.CFG.fromstring(\"\"\"\n",
    "    S -> NP VP\n",
    "    PP -> P NP\n",
    "    NP -> Det N | Det N PP | Pron\n",
    "    VP -> V NP | VP PP\n",
    "    Pron -> 'I'\n",
    "    Det -> 'an' | 'my'\n",
    "    N -> 'elephant' | 'pajamas'\n",
    "    V -> 'shot'\n",
    "    P -> 'in'\n",
    "    \"\"\")\n"
   ]
  },
  {
   "cell_type": "code",
   "execution_count": 11,
   "metadata": {},
   "outputs": [
    {
     "name": "stdout",
     "output_type": "stream",
     "text": [
      "(S\n",
      "  (NP (Pron I))\n",
      "  (VP\n",
      "    (VP (V shot) (NP (Det an) (N elephant)))\n",
      "    (PP (P in) (NP (Det my) (N pajamas)))))\n",
      "      S                                       \n",
      " ┌────┴──────────────┐                         \n",
      " │                   VP                       \n",
      " │         ┌─────────┴──────────┐              \n",
      " │         VP                   PP            \n",
      " │    ┌────┴───┐            ┌───┴───┐          \n",
      " NP   │        NP           │       NP        \n",
      " │    │    ┌───┴─────┐      │   ┌───┴─────┐    \n",
      "Pron  V   Det        N      P  Det        N   \n",
      " │    │    │         │      │   │         │    \n",
      " I   shot  an     elephant  in  my     pajamas\n",
      "\n",
      "(S\n",
      "  (NP (Pron I))\n",
      "  (VP\n",
      "    (V shot)\n",
      "    (NP (Det an) (N elephant) (PP (P in) (NP (Det my) (N pajamas))))))\n",
      "      S                                   \n",
      " ┌────┴──────────┐                         \n",
      " │               VP                       \n",
      " │    ┌──────────┴──────┐                  \n",
      " │    │                 NP                \n",
      " │    │    ┌─────┬──────┴───┐              \n",
      " │    │    │     │          PP            \n",
      " │    │    │     │      ┌───┴───┐          \n",
      " NP   │    │     │      │       NP        \n",
      " │    │    │     │      │   ┌───┴─────┐    \n",
      "Pron  V   Det    N      P  Det        N   \n",
      " │    │    │     │      │   │         │    \n",
      " I   shot  an elephant  in  my     pajamas\n",
      "\n"
     ]
    }
   ],
   "source": [
    "parser = nltk.ChartParser(grammar,trace=0)\n",
    "\n",
    "for tree in parser.parse(sent):\n",
    "    print(tree)\n",
    "    tree.pretty_print(unicodelines=True)\n",
    "    \n",
    "# Konstituentenstruktur    "
   ]
  },
  {
   "cell_type": "markdown",
   "metadata": {},
   "source": [
    "---\n",
    "\n",
    "### 2.2 Dependenzgrammatik"
   ]
  },
  {
   "cell_type": "code",
   "execution_count": 12,
   "metadata": {},
   "outputs": [],
   "source": [
    "#Dependency Grammar (unlabeled):\n",
    "grammar = nltk.DependencyGrammar.fromstring(\"\"\"\n",
    "    'shot' -> 'I' | 'elephant' | 'in'\n",
    "    'elephant' -> 'an' | 'in'\n",
    "    'in' -> 'pajamas'\n",
    "    'pajamas' -> 'my'\n",
    "    \"\"\")"
   ]
  },
  {
   "cell_type": "code",
   "execution_count": 13,
   "metadata": {},
   "outputs": [
    {
     "name": "stdout",
     "output_type": "stream",
     "text": [
      "(shot I (elephant an (in (pajamas my))))\n",
      "    shot                 \n",
      " ┌───┴──────┐             \n",
      " │       elephant        \n",
      " │   ┌──────┴────────┐    \n",
      " │   │               in  \n",
      " │   │               │    \n",
      " │   │            pajamas\n",
      " │   │               │    \n",
      " I   an              my  \n",
      "\n",
      "(shot I (elephant an) (in (pajamas my)))\n",
      "      shot          \n",
      " ┌─────┼────────┐    \n",
      " │     │        in  \n",
      " │     │        │    \n",
      " │  elephant pajamas\n",
      " │     │        │    \n",
      " I     an       my  \n",
      "\n"
     ]
    }
   ],
   "source": [
    "parser = nltk.ProjectiveDependencyParser(grammar)\n",
    "\n",
    "for tree in parser.parse(sent):\n",
    "    print(tree)\n",
    "    tree.pretty_print(unicodelines=True)\n",
    "    \n",
    "# Dependenzstruktur     "
   ]
  },
  {
   "cell_type": "markdown",
   "metadata": {},
   "source": [
    "---\n",
    "### 2.3 PCFG (Probabilistische CFG)"
   ]
  },
  {
   "cell_type": "code",
   "execution_count": 14,
   "metadata": {},
   "outputs": [],
   "source": [
    "# PCFG:\n",
    "grammar1 = nltk.PCFG.fromstring(\"\"\"\n",
    "    S -> NP VP [1.0]\n",
    "    PP -> P NP [1.0]\n",
    "    NP -> Det N  [0.8] | Det N PP  [0.1] | Pron  [0.1]\n",
    "    VP -> V NP [0.8] | VP PP [0.2]\n",
    "    Pron -> 'I' [1.0]\n",
    "    Det -> 'an' [0.7] | 'my' [0.3]\n",
    "    N -> 'elephant' [0.5] | 'pajamas' [0.5]\n",
    "    V -> 'shot' [1.0]\n",
    "    P -> 'in' [1.0]\n",
    "    \"\"\")"
   ]
  },
  {
   "cell_type": "code",
   "execution_count": 15,
   "metadata": {},
   "outputs": [
    {
     "name": "stdout",
     "output_type": "stream",
     "text": [
      "(S\n",
      "  (NP (Pron I))\n",
      "  (VP\n",
      "    (VP (V shot) (NP (Det an) (N elephant)))\n",
      "    (PP (P in) (NP (Det my) (N pajamas))))) (p=0.0005376)\n",
      "      S                                       \n",
      " ┌────┴──────────────┐                         \n",
      " │                   VP                       \n",
      " │         ┌─────────┴──────────┐              \n",
      " │         VP                   PP            \n",
      " │    ┌────┴───┐            ┌───┴───┐          \n",
      " NP   │        NP           │       NP        \n",
      " │    │    ┌───┴─────┐      │   ┌───┴─────┐    \n",
      "Pron  V   Det        N      P  Det        N   \n",
      " │    │    │         │      │   │         │    \n",
      " I   shot  an     elephant  in  my     pajamas\n",
      "\n"
     ]
    }
   ],
   "source": [
    "parser = nltk.ViterbiParser(grammar1)\n",
    "\n",
    "for tree in parser.parse(sent):\n",
    "    print(tree)\n",
    "    tree.pretty_print(unicodelines=True)\n",
    "\n",
    "#PP-Attachment an VP (höhere Wahrscheinlichkeit dieses Syntaxbaums) \n",
    "# Disambiguierung! "
   ]
  },
  {
   "cell_type": "code",
   "execution_count": 16,
   "metadata": {},
   "outputs": [],
   "source": [
    "# Grammatik mit höherer Gewichtung für Det N PP - Regel:\n",
    "\n",
    "grammar2 = nltk.PCFG.fromstring(\"\"\"\n",
    "    S -> NP VP [1.0]\n",
    "    PP -> P NP [1.0]\n",
    "    NP -> Det N  [0.7] | Det N PP  [0.2] | Pron  [0.1] \n",
    "    VP -> V NP [0.8] | VP PP [0.2]\n",
    "    Pron -> 'I' [1.0]\n",
    "    Det -> 'an' [0.7] | 'my' [0.3]\n",
    "    N -> 'elephant' [0.5] | 'pajamas' [0.5]\n",
    "    V -> 'shot' [1.0]\n",
    "    P -> 'in' [1.0]\n",
    "    \"\"\")"
   ]
  },
  {
   "cell_type": "code",
   "execution_count": 17,
   "metadata": {},
   "outputs": [
    {
     "name": "stdout",
     "output_type": "stream",
     "text": [
      "(S\n",
      "  (NP (Pron I))\n",
      "  (VP\n",
      "    (V shot)\n",
      "    (NP\n",
      "      (Det an)\n",
      "      (N elephant)\n",
      "      (PP (P in) (NP (Det my) (N pajamas)))))) (p=0.000588)\n",
      "      S                                   \n",
      " ┌────┴──────────┐                         \n",
      " │               VP                       \n",
      " │    ┌──────────┴──────┐                  \n",
      " │    │                 NP                \n",
      " │    │    ┌─────┬──────┴───┐              \n",
      " │    │    │     │          PP            \n",
      " │    │    │     │      ┌───┴───┐          \n",
      " NP   │    │     │      │       NP        \n",
      " │    │    │     │      │   ┌───┴─────┐    \n",
      "Pron  V   Det    N      P  Det        N   \n",
      " │    │    │     │      │   │         │    \n",
      " I   shot  an elephant  in  my     pajamas\n",
      "\n"
     ]
    }
   ],
   "source": [
    "parser = nltk.ViterbiParser(grammar2)\n",
    "\n",
    "for tree in parser.parse(sent):\n",
    "    print(tree)\n",
    "    tree.pretty_print(unicodelines=True)\n",
    "    \n",
    "#PP-Attachment an NP"
   ]
  },
  {
   "cell_type": "markdown",
   "metadata": {},
   "source": [
    "---\n",
    "### 2.4 *Feature-based* CFG"
   ]
  },
  {
   "cell_type": "code",
   "execution_count": 18,
   "metadata": {},
   "outputs": [],
   "source": [
    "# Ausgangspunkt: mehr Regeln in CFG (führt zu Übergenerierung)\n",
    "grammar = nltk.CFG.fromstring(\"\"\"\n",
    "    S -> NP VP\n",
    "    PP -> P NP\n",
    "    NP -> Det N | Det N PP | Pron\n",
    "    VP -> V NP | VP PP\n",
    "    Pron -> 'I' | 'He'\n",
    "    Det -> 'an' | 'my'\n",
    "    N -> 'elephant' | 'pajamas'\n",
    "    V -> 'shoot' | 'shoots'\n",
    "    P -> 'in'\n",
    "    \"\"\")\n",
    "\n",
    "parser = nltk.ChartParser(grammar,trace=0)"
   ]
  },
  {
   "cell_type": "code",
   "execution_count": 19,
   "metadata": {},
   "outputs": [
    {
     "name": "stdout",
     "output_type": "stream",
     "text": [
      "(S (NP (Pron He)) (VP (V shoots) (NP (Det an) (N elephant))))\n",
      "             S                  \n",
      " ┌───────────┴───┐               \n",
      " │               VP             \n",
      " │     ┌─────────┴───┐           \n",
      " NP    │             NP         \n",
      " │     │         ┌───┴─────┐     \n",
      "Pron   V        Det        N    \n",
      " │     │         │         │     \n",
      " He  shoots      an     elephant\n",
      "\n"
     ]
    }
   ],
   "source": [
    "sent = 'He shoots an elephant'.split()\n",
    "\n",
    "for tree in parser.parse(sent):\n",
    "    print(tree)\n",
    "    tree.pretty_print(unicodelines=True)"
   ]
  },
  {
   "cell_type": "code",
   "execution_count": 20,
   "metadata": {},
   "outputs": [
    {
     "name": "stdout",
     "output_type": "stream",
     "text": [
      "(S (NP (Pron He)) (VP (V shoot) (NP (Det an) (N elephant))))\n",
      "            S                  \n",
      " ┌──────────┴───┐               \n",
      " │              VP             \n",
      " │     ┌────────┴───┐           \n",
      " NP    │            NP         \n",
      " │     │        ┌───┴─────┐     \n",
      "Pron   V       Det        N    \n",
      " │     │        │         │     \n",
      " He  shoot      an     elephant\n",
      "\n"
     ]
    }
   ],
   "source": [
    "#Negativbeispiel (ungrammatischer Satz):\n",
    "sent = 'He shoot an elephant'.split()\n",
    "\n",
    "for tree in parser.parse(sent):\n",
    "    print(tree)\n",
    "    tree.pretty_print(unicodelines=True)\n",
    "\n",
    "#Übergenerierung durch neue CFG-Regeln!"
   ]
  },
  {
   "cell_type": "code",
   "execution_count": 21,
   "metadata": {},
   "outputs": [],
   "source": [
    "# Feature-Based Grammar (PER-Agreement-Constraint):\n",
    "gramstring = r\"\"\"\n",
    "% start S\n",
    "    S -> NP[PER=?x] VP[PER=?x]\n",
    "    PP -> P NP\n",
    "    NP[PER=?x] -> Det N | Det N PP | Pron[PER=?x]\n",
    "    VP[PER=?x] -> V[PER=?x] NP | VP PP\n",
    "    Pron[PER=1] -> 'I'\n",
    "    Pron[PER=3] -> 'He'\n",
    "    Det -> 'an' | 'my'\n",
    "    N -> 'elephant' | 'pajamas'\n",
    "    V[PER=1] -> 'shoot'\n",
    "    V[PER=3] -> 'shoots'\n",
    "    P -> 'in'\n",
    "\"\"\"\n",
    "\n",
    "grammar = nltk.grammar.FeatureGrammar.fromstring(gramstring)\n",
    "parser = nltk.parse.FeatureChartParser(grammar, trace=1)"
   ]
  },
  {
   "cell_type": "code",
   "execution_count": 22,
   "metadata": {},
   "outputs": [
    {
     "name": "stdout",
     "output_type": "stream",
     "text": [
      "|. He.sho. an.ele.|\n",
      "|[---]   .   .   .| [0:1] 'He'\n",
      "|.   [---]   .   .| [1:2] 'shoot'\n",
      "|.   .   [---]   .| [2:3] 'an'\n",
      "|.   .   .   [---]| [3:4] 'elephant'\n",
      "|[---]   .   .   .| [0:1] Pron[PER=3] -> 'He' *\n",
      "|[---]   .   .   .| [0:1] NP[PER=3] -> Pron[PER=3] *\n",
      "|[--->   .   .   .| [0:1] S[] -> NP[PER=?x] * VP[PER=?x] {?x: 3}\n",
      "|.   [---]   .   .| [1:2] V[PER=1] -> 'shoot' *\n",
      "|.   [--->   .   .| [1:2] VP[PER=?x] -> V[PER=?x] * NP[] {?x: 1}\n",
      "|.   .   [---]   .| [2:3] Det[] -> 'an' *\n",
      "|.   .   [--->   .| [2:3] NP[PER=?x] -> Det[] * N[] {}\n",
      "|.   .   [--->   .| [2:3] NP[PER=?x] -> Det[] * N[] PP[] {}\n",
      "|.   .   .   [---]| [3:4] N[] -> 'elephant' *\n",
      "|.   .   [-------]| [2:4] NP[PER=?x] -> Det[] N[] *\n",
      "|.   .   [------->| [2:4] NP[PER=?x] -> Det[] N[] * PP[] {}\n",
      "|.   .   [------->| [2:4] S[] -> NP[PER=?x] * VP[PER=?x] {?x2: Variable('?x')}\n",
      "|.   [-----------]| [1:4] VP[PER=1] -> V[PER=1] NP[] *\n",
      "|.   [----------->| [1:4] VP[PER=?x] -> VP[] * PP[] {}\n"
     ]
    }
   ],
   "source": [
    "#Negativbeispiel (ungrammatischer Satz):\n",
    "sent = 'He shoot an elephant'.split()\n",
    "\n",
    "for tree in parser.parse(sent):\n",
    "    print(tree)\n",
    "\n",
    "#kein Parse gefunden (siehe Trace-Output!)\n",
    "# PER-Feature-Constraint verhindert Übergenerierung!"
   ]
  },
  {
   "cell_type": "code",
   "execution_count": 23,
   "metadata": {},
   "outputs": [
    {
     "name": "stdout",
     "output_type": "stream",
     "text": [
      "|. He.sho. an.ele.|\n",
      "|[---]   .   .   .| [0:1] 'He'\n",
      "|.   [---]   .   .| [1:2] 'shoots'\n",
      "|.   .   [---]   .| [2:3] 'an'\n",
      "|.   .   .   [---]| [3:4] 'elephant'\n",
      "|[---]   .   .   .| [0:1] Pron[PER=3] -> 'He' *\n",
      "|[---]   .   .   .| [0:1] NP[PER=3] -> Pron[PER=3] *\n",
      "|[--->   .   .   .| [0:1] S[] -> NP[PER=?x] * VP[PER=?x] {?x: 3}\n",
      "|.   [---]   .   .| [1:2] V[PER=3] -> 'shoots' *\n",
      "|.   [--->   .   .| [1:2] VP[PER=?x] -> V[PER=?x] * NP[] {?x: 3}\n",
      "|.   .   [---]   .| [2:3] Det[] -> 'an' *\n",
      "|.   .   [--->   .| [2:3] NP[PER=?x] -> Det[] * N[] {}\n",
      "|.   .   [--->   .| [2:3] NP[PER=?x] -> Det[] * N[] PP[] {}\n",
      "|.   .   .   [---]| [3:4] N[] -> 'elephant' *\n",
      "|.   .   [-------]| [2:4] NP[PER=?x] -> Det[] N[] *\n",
      "|.   .   [------->| [2:4] NP[PER=?x] -> Det[] N[] * PP[] {}\n",
      "|.   .   [------->| [2:4] S[] -> NP[PER=?x] * VP[PER=?x] {?x2: Variable('?x')}\n",
      "|.   [-----------]| [1:4] VP[PER=3] -> V[PER=3] NP[] *\n",
      "|.   [----------->| [1:4] VP[PER=?x] -> VP[] * PP[] {}\n",
      "|[===============]| [0:4] S[] -> NP[PER=3] VP[PER=3] *\n",
      "(S[]\n",
      "  (NP[PER=3] (Pron[PER=3] He))\n",
      "  (VP[PER=3]\n",
      "    (V[PER=3] shoots)\n",
      "    (NP[PER=?x] (Det[] an) (N[] elephant))))\n"
     ]
    },
    {
     "data": {
      "image/png": "[encoded data removed]",
      "text/plain": [
       "Tree(S[], [Tree(NP[PER=3], [Tree(Pron[PER=3], ['He'])]), Tree(VP[PER=3], [Tree(V[PER=3], ['shoots']), Tree(NP[PER=?x], [Tree(Det[], ['an']), Tree(N[], ['elephant'])])])])"
      ]
     },
     "metadata": {},
     "output_type": "display_data"
    }
   ],
   "source": [
    "#Positivbeispiel (grammatischer Satz):\n",
    "sent = 'He shoots an elephant'.split()\n",
    "\n",
    "for tree in parser.parse(sent):\n",
    "    print(tree)\n",
    "    display(tree)\n",
    "    \n",
    "#Parse gefunden (siehe Trace-Output!)"
   ]
  },
  {
   "cell_type": "markdown",
   "metadata": {},
   "source": [
    "---\n",
    "### 2.5 Partielles Parsing mit regulärer Grammatik (Chunking)"
   ]
  },
  {
   "cell_type": "code",
   "execution_count": 24,
   "metadata": {},
   "outputs": [
    {
     "name": "stdout",
     "output_type": "stream",
     "text": [
      "(S\n",
      "  (NP I/PRON)\n",
      "  shot/V\n",
      "  (NP an/DET elephant/N)\n",
      "  (PP in/P)\n",
      "  (NP my/DET pajamas/N))\n"
     ]
    },
    {
     "data": {
      "image/png": "[encoded data removed]",
      "text/plain": [
       "Tree('S', [Tree('NP', [('I', 'PRON')]), ('shot', 'V'), Tree('NP', [('an', 'DET'), ('elephant', 'N')]), Tree('PP', [('in', 'P')]), Tree('NP', [('my', 'DET'), ('pajamas', 'N')])])"
      ]
     },
     "execution_count": 24,
     "metadata": {},
     "output_type": "execute_result"
    }
   ],
   "source": [
    "#flache PP-Analyse:\n",
    "grammar = r\"\"\"\n",
    "    NP: {<DET>?<ADJ>*<N>} \n",
    "        {<PRON>}  \n",
    "    PP: {<P>}\n",
    "\"\"\"\n",
    "\n",
    "sent = [(\"I\", \"PRON\"), (\"shot\", \"V\"), (\"an\", \"DET\"), (\"elephant\", \"N\"), \n",
    "        (\"in\", \"P\"), (\"my\", \"DET\"), (\"pajamas\", \"N\")]\n",
    "\n",
    "parser = nltk.RegexpParser(grammar)\n",
    "\n",
    "tree = parser.parse(sent) \n",
    "print(tree)\n",
    "tree"
   ]
  },
  {
   "cell_type": "code",
   "execution_count": 25,
   "metadata": {},
   "outputs": [
    {
     "name": "stdout",
     "output_type": "stream",
     "text": [
      "(S\n",
      "  (NP I/PRON)\n",
      "  shot/V\n",
      "  (NP an/DET elephant/N)\n",
      "  (PP in/P (NP my/DET pajamas/N)))\n"
     ]
    },
    {
     "data": {
      "image/png": "[encoded data removed]",
      "text/plain": [
       "Tree('S', [Tree('NP', [('I', 'PRON')]), ('shot', 'V'), Tree('NP', [('an', 'DET'), ('elephant', 'N')]), Tree('PP', [('in', 'P'), Tree('NP', [('my', 'DET'), ('pajamas', 'N')])])])"
      ]
     },
     "execution_count": 25,
     "metadata": {},
     "output_type": "execute_result"
    }
   ],
   "source": [
    "#hierarchische PP-Analyse:\n",
    "# (kaskadierende Regeln: Output der NP-Regel als Input für folgende Regel)\n",
    "grammar = r\"\"\"\n",
    "    NP: {<DET>?<ADJ>*<N>} \n",
    "        {<PRON>}  \n",
    "    PP: {<P><NP>}\n",
    "\"\"\"\n",
    "\n",
    "sent = [(\"I\", \"PRON\"), (\"shot\", \"V\"), (\"an\", \"DET\"), (\"elephant\", \"N\"), \n",
    "        (\"in\", \"P\"), (\"my\", \"DET\"), (\"pajamas\", \"N\")]\n",
    "\n",
    "parser = nltk.RegexpParser(grammar, loop=1)\n",
    "\n",
    "tree = parser.parse(sent) \n",
    "print(tree)\n",
    "tree"
   ]
  }
 ],
 "metadata": {
  "kernelspec": {
   "display_name": "Python 3",
   "language": "python",
   "name": "python3"
  },
  "language_info": {
   "codemirror_mode": {
    "name": "ipython",
    "version": 3
   },
   "file_extension": ".py",
   "mimetype": "text/x-python",
   "name": "python",
   "nbconvert_exporter": "python",
   "pygments_lexer": "ipython3",
   "version": "3.6.1"
  },
  "widgets": {
   "application/vnd.jupyter.widget-state+json": {
    "state": {
     "098dd75f65594c0f992ddeffeb8523e3": {
      "model_module": "@jupyter-widgets/controls",
      "model_module_version": "1.2.0",
      "model_name": "SliderStyleModel",
      "state": {
       "description_width": ""
      }
     },
     "0ccfa5129ab64950adda077f6ac8f44a": {
      "model_module": "@jupyter-widgets/controls",
      "model_module_version": "1.2.0",
      "model_name": "IntSliderModel",
      "state": {
       "layout": "IPY_MODEL_641f3cf31a334ee6810a9a92f93e89a7",
       "style": "IPY_MODEL_63aadafcc3504a3b8b15fdea9d4ec244",
       "value": 50
      }
     },
     "1b37a149a74c40c68d34c61b481048f8": {
      "model_module": "@jupyter-widgets/base",
      "model_module_version": "1.0.0",
      "model_name": "LayoutModel",
      "state": {}
     },
     "367694b2ecc94715a20952236f9ced88": {
      "model_module": "@jupyter-widgets/base",
      "model_module_version": "1.0.0",
      "model_name": "LayoutModel",
      "state": {}
     },
     "3d6ebd239fc84a8e95b3007988e38134": {
      "model_module": "@jupyter-widgets/controls",
      "model_module_version": "1.2.0",
      "model_name": "SliderStyleModel",
      "state": {
       "description_width": ""
      }
     },
     "63aadafcc3504a3b8b15fdea9d4ec244": {
      "model_module": "@jupyter-widgets/controls",
      "model_module_version": "1.2.0",
      "model_name": "SliderStyleModel",
      "state": {
       "description_width": ""
      }
     },
     "641f3cf31a334ee6810a9a92f93e89a7": {
      "model_module": "@jupyter-widgets/base",
      "model_module_version": "1.0.0",
      "model_name": "LayoutModel",
      "state": {}
     },
     "993ec756027845c19085347ca5f9f6ce": {
      "model_module": "@jupyter-widgets/controls",
      "model_module_version": "1.2.0",
      "model_name": "SliderStyleModel",
      "state": {
       "description_width": ""
      }
     },
     "bb743dc2dd2d4bb08dd2c5255e1d87c6": {
      "model_module": "@jupyter-widgets/controls",
      "model_module_version": "1.2.0",
      "model_name": "SliderStyleModel",
      "state": {
       "description_width": ""
      }
     },
     "cb4a4abdac584f78ac3b37579ac33b10": {
      "model_module": "@jupyter-widgets/controls",
      "model_module_version": "1.2.0",
      "model_name": "IntSliderModel",
      "state": {
       "layout": "IPY_MODEL_f25c2eb22704411b9981f8047a2c0182",
       "style": "IPY_MODEL_993ec756027845c19085347ca5f9f6ce",
       "value": 50
      }
     },
     "cfbb8ba5969a49e18a1733c50e6b73e4": {
      "model_module": "@jupyter-widgets/controls",
      "model_module_version": "1.2.0",
      "model_name": "IntSliderModel",
      "state": {
       "layout": "IPY_MODEL_1b37a149a74c40c68d34c61b481048f8",
       "style": "IPY_MODEL_3d6ebd239fc84a8e95b3007988e38134",
       "value": 50
      }
     },
     "da2e37629b7141b8a194c275f89ccef5": {
      "model_module": "@jupyter-widgets/base",
      "model_module_version": "1.0.0",
      "model_name": "LayoutModel",
      "state": {}
     },
     "eafa48b852af4f40b414b8d4f0b90c7a": {
      "model_module": "@jupyter-widgets/controls",
      "model_module_version": "1.2.0",
      "model_name": "IntSliderModel",
      "state": {
       "layout": "IPY_MODEL_da2e37629b7141b8a194c275f89ccef5",
       "style": "IPY_MODEL_bb743dc2dd2d4bb08dd2c5255e1d87c6"
      }
     },
     "f196171317cf493fabedf854f59c1d44": {
      "model_module": "@jupyter-widgets/controls",
      "model_module_version": "1.2.0",
      "model_name": "IntSliderModel",
      "state": {
       "layout": "IPY_MODEL_367694b2ecc94715a20952236f9ced88",
       "style": "IPY_MODEL_098dd75f65594c0f992ddeffeb8523e3"
      }
     },
     "f25c2eb22704411b9981f8047a2c0182": {
      "model_module": "@jupyter-widgets/base",
      "model_module_version": "1.0.0",
      "model_name": "LayoutModel",
      "state": {}
     }
    },
    "version_major": 2,
    "version_minor": 0
   }
  }
 },
 "nbformat": 4,
 "nbformat_minor": 2
}
