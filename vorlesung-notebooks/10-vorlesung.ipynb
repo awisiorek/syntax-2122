{
 "cells": [
  {
   "cell_type": "markdown",
   "metadata": {
    "slideshow": {
     "slide_type": "slide"
    }
   },
   "source": [
    "***Vorlesung 'Syntax natürlicher Sprachen'***\n",
    "\n",
    "--- \n",
    "# Vorlesung 10: Unifikation, Subsumption und getypte hierarchische Features"
   ]
  },
  {
   "cell_type": "code",
   "execution_count": 1,
   "metadata": {},
   "outputs": [],
   "source": [
    "import nltk\n",
    "\n",
    "from nltk.featstruct import Feature, UnificationFailure, FeatStructReader, FeatStruct\n",
    "import itertools\n",
    "from collections import defaultdict\n",
    "\n",
    "\n",
    "def check_sanity_constraints(th):\n",
    "    for type1, type2 in itertools.product(th, th):\n",
    "        if type1 in th[type2] and type2 in th[type1]:\n",
    "            if type1 != type2:\n",
    "                raise ValueError(\n",
    "                    \"The type hierarchy is not antisymmetric! \" +\n",
    "                    \"{} subsumes {} and vice versa!\".format(\n",
    "                        type1, type2\n",
    "                    )\n",
    "                )\n",
    "\n",
    "\n",
    "def refl_trans_closure(type_hierarchy):\n",
    "    # make everything a set\n",
    "    # and compute reflexive closure\n",
    "    closure = defaultdict(set)\n",
    "    for t in type_hierarchy:\n",
    "        closure[t] = set(type_hierarchy[t])\n",
    "        closure[t].add(t)\n",
    "\n",
    "    # compute transitive closure\n",
    "    still_changes = True\n",
    "    while still_changes:\n",
    "        still_changes = False\n",
    "        for x in closure:\n",
    "            new_for_x = set()\n",
    "            for y in closure[x]:\n",
    "                for z in closure[y]:\n",
    "                    new_for_x.add(z)\n",
    "            len_before = len(closure[x])\n",
    "            closure[x].update(new_for_x)\n",
    "            still_changes |= len(closure[x]) > len_before\n",
    "\n",
    "    return closure\n",
    "\n",
    "\n",
    "class HierarchicalFeature(Feature):\n",
    "    def __init__(self, name, type_hierarchy, **kwargs):\n",
    "        super(HierarchicalFeature, self).__init__(name, **kwargs)\n",
    "\n",
    "        self.hierarchy = refl_trans_closure(type_hierarchy)\n",
    "        check_sanity_constraints(self.hierarchy)\n",
    "\n",
    "    def unify_base_values(self, fval1, fval2, bindings):\n",
    "        candidates = self.hierarchy[fval1].intersection(self.hierarchy[fval2])\n",
    "        score = {t: 0 for t in candidates}\n",
    "        for type1, type2 in itertools.product(candidates, candidates):\n",
    "            if type1 in self.hierarchy[type2]:\n",
    "                score[type1] += 1\n",
    "\n",
    "        return min(candidates, key=score.__getitem__, default=UnificationFailure)"
   ]
  },
  {
   "cell_type": "markdown",
   "metadata": {},
   "source": [
    "---\n",
    "## 1. Subsumption und Unifikation: Beispiel komplexes AGR-Feature"
   ]
  },
  {
   "cell_type": "markdown",
   "metadata": {},
   "source": [
    "---\n",
    "### Beispiel 1.1: unifizierende AGR-Merkmale"
   ]
  },
  {
   "cell_type": "code",
   "execution_count": 2,
   "metadata": {},
   "outputs": [],
   "source": [
    "f0 = FeatStruct(\"[AGR=[NUM=sg]]\") #allgemeiner\n",
    "f1 = FeatStruct(\"[AGR=[NUM=sg, PERS=3]]\") #spezifischer, mehr Informationen"
   ]
  },
  {
   "cell_type": "markdown",
   "metadata": {},
   "source": [
    "### *$\\to$ Subsumption (f0 ⊑ f1): jede Information in f0 ist auch in f1 enthalten*\n",
    "\n",
    "***information ordering relation of feature structures* (ähnlich Teilmengenbeziehung)**\n",
    "\n",
    "- https://cs.union.edu/~striegnk/courses/nlp-with-prolog/html/node82.html#l11.sec.subsumption"
   ]
  },
  {
   "cell_type": "code",
   "execution_count": 3,
   "metadata": {},
   "outputs": [
    {
     "data": {
      "text/plain": [
       "True"
      ]
     },
     "execution_count": 3,
     "metadata": {},
     "output_type": "execute_result"
    }
   ],
   "source": [
    "#Subsumption (f0 ⊑ f1)\n",
    "f0.subsumes(f1)"
   ]
  },
  {
   "cell_type": "code",
   "execution_count": 4,
   "metadata": {},
   "outputs": [
    {
     "data": {
      "text/plain": [
       "False"
      ]
     },
     "execution_count": 4,
     "metadata": {},
     "output_type": "execute_result"
    }
   ],
   "source": [
    "#Subsumption (f1 ⊑ f0)\n",
    "f1.subsumes(f0)"
   ]
  },
  {
   "cell_type": "markdown",
   "metadata": {},
   "source": [
    "### *$\\to$  Unifikation (f0 ⊔ f1): Kombination der Informationen aus f0 und f1 (aber keine widersprüchlichen Informationen!)*\n",
    "\n",
    "***information combination operation* (ähnlich Vereinigung von Mengen)**\n",
    "\n",
    "- https://cs.union.edu/~striegnk/courses/nlp-with-prolog/html/node83.html#l11.fsu\n",
    "\n",
    "\n",
    "#### bei Feature Structures in Subsumptionsbeziehung entspricht das Ergebnis der Unifikation der spezielleren (subsumierten): "
   ]
  },
  {
   "cell_type": "code",
   "execution_count": 5,
   "metadata": {},
   "outputs": [
    {
     "name": "stdout",
     "output_type": "stream",
     "text": [
      "[ AGR = [ NUM  = 'sg' ] ]\n",
      "[       [ PERS = 3    ] ]\n"
     ]
    }
   ],
   "source": [
    "#Unification (f0 ⊔ f1)\n",
    "print(f0.unify(f1))  # f0 ⊔ f1 = f1 (da f0 ⊑ f1)"
   ]
  },
  {
   "cell_type": "markdown",
   "metadata": {},
   "source": [
    "--- \n",
    "### Beispiel 1.2: auch Feature Structures, die nicht in Subsumption-Beziehung stehen, können unifizieren\n",
    "\n",
    "##### im Beispiel sind in f0 auch Informationen enthalten (CASE=nom), die nicht in f1 enthalten sind:"
   ]
  },
  {
   "cell_type": "code",
   "execution_count": 6,
   "metadata": {},
   "outputs": [],
   "source": [
    "f0 = FeatStruct(\"[AGR=[NUM=sg, CASE=nom]]\") \n",
    "f1 = FeatStruct(\"[AGR=[NUM=sg, PERS=3]]\") "
   ]
  },
  {
   "cell_type": "code",
   "execution_count": 7,
   "metadata": {},
   "outputs": [
    {
     "data": {
      "text/plain": [
       "False"
      ]
     },
     "execution_count": 7,
     "metadata": {},
     "output_type": "execute_result"
    }
   ],
   "source": [
    "#Subsumption (f0 ⊑ f1)\n",
    "f0.subsumes(f1)"
   ]
  },
  {
   "cell_type": "markdown",
   "metadata": {},
   "source": [
    "##### aber: Unifikation funktioniert, da Informationen nicht widersprüchlich:"
   ]
  },
  {
   "cell_type": "code",
   "execution_count": 8,
   "metadata": {},
   "outputs": [
    {
     "name": "stdout",
     "output_type": "stream",
     "text": [
      "[       [ CASE = 'nom' ] ]\n",
      "[ AGR = [ NUM  = 'sg'  ] ]\n",
      "[       [ PERS = 3     ] ]\n"
     ]
    }
   ],
   "source": [
    "#Unification (f0 ⊔ f1)\n",
    "print(f0.unify(f1))"
   ]
  },
  {
   "cell_type": "markdown",
   "metadata": {},
   "source": [
    "### Unifikation als kleinste obere Schranke in der Subsumptionsbeziehung:\n",
    "\n",
    "> The unification of two feature structures F and G (if it exists) is the smallest feature structure that is subsumed by both F and G. (https://cs.union.edu/~striegnk/courses/nlp-with-prolog/html/node83.html#l11.fsu)"
   ]
  },
  {
   "cell_type": "code",
   "execution_count": 9,
   "metadata": {},
   "outputs": [
    {
     "data": {
      "text/plain": [
       "True"
      ]
     },
     "execution_count": 9,
     "metadata": {},
     "output_type": "execute_result"
    }
   ],
   "source": [
    "# f0 ⊑ (f0 ⊔ f1)\n",
    "f0.subsumes(f0.unify(f1))"
   ]
  },
  {
   "cell_type": "code",
   "execution_count": 10,
   "metadata": {},
   "outputs": [
    {
     "data": {
      "text/plain": [
       "True"
      ]
     },
     "execution_count": 10,
     "metadata": {},
     "output_type": "execute_result"
    }
   ],
   "source": [
    "# f1 ⊑ (f0 ⊔ f1)\n",
    "f1.subsumes(f0.unify(f1))"
   ]
  },
  {
   "cell_type": "markdown",
   "metadata": {},
   "source": [
    "---\n",
    "### Beispiel 1.3: nicht-unifizierende AGR-Merkmale\n",
    "\n",
    "#### Unifikation nur partielle Ordnung, nicht immer definiert bei widersprüchlichen/unvereinbaren Werten ($\\to$ `NONE`):"
   ]
  },
  {
   "cell_type": "code",
   "execution_count": 11,
   "metadata": {},
   "outputs": [],
   "source": [
    "f0 = FeatStruct(\"[AGR=[NUM=pl]]\") \n",
    "f1 = FeatStruct(\"[AGR=[NUM=sg, PERS=3]]\")"
   ]
  },
  {
   "cell_type": "code",
   "execution_count": 12,
   "metadata": {},
   "outputs": [
    {
     "data": {
      "text/plain": [
       "False"
      ]
     },
     "execution_count": 12,
     "metadata": {},
     "output_type": "execute_result"
    }
   ],
   "source": [
    "#Subsumption (f0 ⊑ f1)\n",
    "f0.subsumes(f1)"
   ]
  },
  {
   "cell_type": "code",
   "execution_count": 13,
   "metadata": {},
   "outputs": [
    {
     "data": {
      "text/plain": [
       "False"
      ]
     },
     "execution_count": 13,
     "metadata": {},
     "output_type": "execute_result"
    }
   ],
   "source": [
    "#Subsumption (f1 ⊑ f0)\n",
    "f1.subsumes(f0)"
   ]
  },
  {
   "cell_type": "code",
   "execution_count": 14,
   "metadata": {
    "scrolled": true
   },
   "outputs": [
    {
     "name": "stdout",
     "output_type": "stream",
     "text": [
      "None\n"
     ]
    }
   ],
   "source": [
    "#Unification (f0 ⊔ f1)\n",
    "print(f0.unify(f1))"
   ]
  },
  {
   "cell_type": "markdown",
   "metadata": {},
   "source": [
    "---\n",
    "## 2. Agreement-Typhierarchie (`*AGR*`)\n",
    "\n",
    "#### Feature-Structure mit hierarchisch durch Subsumptionsbeziehung gegliederten Features ([1] ⊑ [1sg] usw.)\n",
    "\n",
    "-  `*AGR*` als Beispiel für ein hierarchisches Feature (atomare Werte mit Angabe Subsumptionsbeziehungen) \n",
    "- hier: alternativ zu komplexem AGR-Feature-Wert mit Person-Numerus-Feature-Structure\n",
    "\n"
   ]
  },
  {
   "cell_type": "code",
   "execution_count": 15,
   "metadata": {},
   "outputs": [],
   "source": [
    "type_hierarchy = {\n",
    "    \"1\": [\"1sg\",\"1pl\"],\n",
    "    \"2\": [\"2sg\", \"2pl\"],\n",
    "    \"3\": [\"3sg\", \"3pl\"],\n",
    "    \"sg\": [\"1sg\", \"2sg\", \"3sg\"],\n",
    "    \"pl\": [\"1pl\", \"2pl\", \"3pl\"],\n",
    "    \"1sg\": [],\n",
    "    \"1pl\": [],\n",
    "    \"2sg\": [],\n",
    "    \"2pl\": [],\n",
    "    \"3sg\": [],\n",
    "    \"3pl\": [],\n",
    "}\n",
    "AGR = HierarchicalFeature(\"AGR\", type_hierarchy)\n",
    "reader = FeatStructReader(features=(AGR,))"
   ]
  },
  {
   "cell_type": "markdown",
   "metadata": {},
   "source": [
    "---\n",
    "### Beispiel 2.1"
   ]
  },
  {
   "cell_type": "code",
   "execution_count": 16,
   "metadata": {},
   "outputs": [],
   "source": [
    "f0 = reader.fromstring(\"[*AGR*='1']\") #strings containing numbers have to be marked as strings\n",
    "f1 = reader.fromstring(\"[*AGR*='1sg']\") "
   ]
  },
  {
   "cell_type": "code",
   "execution_count": 17,
   "metadata": {},
   "outputs": [
    {
     "data": {
      "text/plain": [
       "True"
      ]
     },
     "execution_count": 17,
     "metadata": {},
     "output_type": "execute_result"
    }
   ],
   "source": [
    "#Subsumption (f0 ⊑ f1)\n",
    "f0.subsumes(f1)"
   ]
  },
  {
   "cell_type": "code",
   "execution_count": 18,
   "metadata": {},
   "outputs": [
    {
     "data": {
      "text/plain": [
       "False"
      ]
     },
     "execution_count": 18,
     "metadata": {},
     "output_type": "execute_result"
    }
   ],
   "source": [
    "#Subsumption (f1 ⊑ f0)\n",
    "f1.subsumes(f0)"
   ]
  },
  {
   "cell_type": "code",
   "execution_count": 19,
   "metadata": {},
   "outputs": [
    {
     "name": "stdout",
     "output_type": "stream",
     "text": [
      "[ *AGR* = '1sg' ]\n"
     ]
    }
   ],
   "source": [
    "#Unification (f0 ⊔ f1)\n",
    "print(f0.unify(f1))"
   ]
  },
  {
   "cell_type": "markdown",
   "metadata": {},
   "source": [
    "---\n",
    "### Beispiel 2.2: Unifikation von Typen, die sich nicht subsumieren, aber auch nicht unvereinbar sind"
   ]
  },
  {
   "cell_type": "code",
   "execution_count": 20,
   "metadata": {},
   "outputs": [],
   "source": [
    "f0 = reader.fromstring(\"[*AGR*='1']\")\n",
    "f1 = reader.fromstring(\"[*AGR*=sg]\")"
   ]
  },
  {
   "cell_type": "code",
   "execution_count": 21,
   "metadata": {},
   "outputs": [
    {
     "data": {
      "text/plain": [
       "False"
      ]
     },
     "execution_count": 21,
     "metadata": {},
     "output_type": "execute_result"
    }
   ],
   "source": [
    "#Subsumption (f0 ⊑ f1)\n",
    "f0.subsumes(f1)"
   ]
  },
  {
   "cell_type": "code",
   "execution_count": 22,
   "metadata": {},
   "outputs": [
    {
     "data": {
      "text/plain": [
       "False"
      ]
     },
     "execution_count": 22,
     "metadata": {},
     "output_type": "execute_result"
    }
   ],
   "source": [
    "#Subsumption (f1 ⊑ f0)\n",
    "f1.subsumes(f0)"
   ]
  },
  {
   "cell_type": "markdown",
   "metadata": {},
   "source": [
    "#### Unifikation als kleinste obere Schranke in der Subsumptionsbeziehung:"
   ]
  },
  {
   "cell_type": "code",
   "execution_count": 23,
   "metadata": {},
   "outputs": [
    {
     "name": "stdout",
     "output_type": "stream",
     "text": [
      "[ *AGR* = '1sg' ]\n"
     ]
    }
   ],
   "source": [
    "#Unification (f0 ⊔ f1)\n",
    "print(f0.unify(f1))"
   ]
  },
  {
   "cell_type": "code",
   "execution_count": null,
   "metadata": {},
   "outputs": [],
   "source": [
    "#f0 ⊑ (f0 ⊔ f1), hier: 1 ⊑ (1sg)\n",
    "#f1 ⊑ (f0 ⊔ f1), hier: sg ⊑ (1sg)"
   ]
  },
  {
   "cell_type": "markdown",
   "metadata": {},
   "source": [
    "---\n",
    "## 3. Numerus-Typhierarchie\n",
    "\n",
    "$$\\bot \\sqsubseteq \\text{Singular}$$\n",
    "$$\\bot \\sqsubseteq \\text{nonSingular}$$\n",
    "$$\\text{nonSingular} \\sqsubseteq \\text{Plural}$$\n",
    "$$\\text{nonSingular} \\sqsubseteq \\text{Dual}$$\n"
   ]
  },
  {
   "cell_type": "code",
   "execution_count": 24,
   "metadata": {},
   "outputs": [],
   "source": [
    "type_hierarchy = {\n",
    "    \"nonSingular\": [\"Plural\", \"Dual\"], \n",
    "    \"Singular\": [],\n",
    "    \"Plural\": [],\n",
    "    \"Dual\": [],\n",
    "}\n",
    "NUMBER = HierarchicalFeature(\"NUMBER\", type_hierarchy)\n",
    "reader = FeatStructReader(features=(NUMBER,))"
   ]
  },
  {
   "cell_type": "markdown",
   "metadata": {},
   "source": [
    "---\n",
    "### Beispiel 3.1"
   ]
  },
  {
   "cell_type": "code",
   "execution_count": 25,
   "metadata": {},
   "outputs": [],
   "source": [
    "f0 = reader.fromstring(\"[*NUMBER*=nonSingular]\") #allgemeiner (Plural | Dual, not Singular)\n",
    "f1 = reader.fromstring(\"[*NUMBER*=Dual]\") #spezifischer, mehr Informationen (Dual, not Plural, not Singular)"
   ]
  },
  {
   "cell_type": "code",
   "execution_count": 26,
   "metadata": {},
   "outputs": [
    {
     "data": {
      "text/plain": [
       "True"
      ]
     },
     "execution_count": 26,
     "metadata": {},
     "output_type": "execute_result"
    }
   ],
   "source": [
    "#Subsumption (f0 ⊑ f1)\n",
    "f0.subsumes(f1)"
   ]
  },
  {
   "cell_type": "code",
   "execution_count": 27,
   "metadata": {},
   "outputs": [
    {
     "data": {
      "text/plain": [
       "False"
      ]
     },
     "execution_count": 27,
     "metadata": {},
     "output_type": "execute_result"
    }
   ],
   "source": [
    "#Subsumption (f1 ⊑ f0)\n",
    "f1.subsumes(f0)"
   ]
  },
  {
   "cell_type": "code",
   "execution_count": 28,
   "metadata": {},
   "outputs": [
    {
     "name": "stdout",
     "output_type": "stream",
     "text": [
      "[ *NUMBER* = 'Dual' ]\n"
     ]
    }
   ],
   "source": [
    "#Unification\n",
    "print(f0.unify(f1))"
   ]
  },
  {
   "cell_type": "markdown",
   "metadata": {},
   "source": [
    "---\n",
    "### Beispiel 3.2"
   ]
  },
  {
   "cell_type": "code",
   "execution_count": 29,
   "metadata": {},
   "outputs": [],
   "source": [
    "f0 = reader.fromstring(\"[*NUMBER*=Singular]\")\n",
    "f1 = reader.fromstring(\"[*NUMBER*=nonSingular]\")"
   ]
  },
  {
   "cell_type": "code",
   "execution_count": 30,
   "metadata": {},
   "outputs": [
    {
     "data": {
      "text/plain": [
       "False"
      ]
     },
     "execution_count": 30,
     "metadata": {},
     "output_type": "execute_result"
    }
   ],
   "source": [
    "#Subsumption (f0 ⊑ f1)\n",
    "f0.subsumes(f1)"
   ]
  },
  {
   "cell_type": "code",
   "execution_count": 31,
   "metadata": {},
   "outputs": [
    {
     "data": {
      "text/plain": [
       "False"
      ]
     },
     "execution_count": 31,
     "metadata": {},
     "output_type": "execute_result"
    }
   ],
   "source": [
    "#Subsumption (f1 ⊑ f0)\n",
    "f1.subsumes(f0)"
   ]
  },
  {
   "cell_type": "code",
   "execution_count": 32,
   "metadata": {},
   "outputs": [
    {
     "name": "stdout",
     "output_type": "stream",
     "text": [
      "None\n"
     ]
    }
   ],
   "source": [
    "#Unification\n",
    "print(f0.unify(f1))  #unvereinbare Merkmale"
   ]
  },
  {
   "cell_type": "markdown",
   "metadata": {},
   "source": [
    "---\n",
    "### Beispiel 3.3"
   ]
  },
  {
   "cell_type": "code",
   "execution_count": 33,
   "metadata": {},
   "outputs": [],
   "source": [
    "f0 = reader.fromstring(\"[*NUMBER*=Singular]\")\n",
    "f1 = reader.fromstring(\"[*NUMBER*=Singular]\")"
   ]
  },
  {
   "cell_type": "code",
   "execution_count": 34,
   "metadata": {},
   "outputs": [
    {
     "data": {
      "text/plain": [
       "True"
      ]
     },
     "execution_count": 34,
     "metadata": {},
     "output_type": "execute_result"
    }
   ],
   "source": [
    "#Subsumption (f0 ⊑ f1)\n",
    "f0.subsumes(f1)"
   ]
  },
  {
   "cell_type": "code",
   "execution_count": 35,
   "metadata": {},
   "outputs": [
    {
     "data": {
      "text/plain": [
       "True"
      ]
     },
     "execution_count": 35,
     "metadata": {},
     "output_type": "execute_result"
    }
   ],
   "source": [
    "#Subsumption (f1 ⊑ f0)\n",
    "f1.subsumes(f0)"
   ]
  },
  {
   "cell_type": "code",
   "execution_count": 36,
   "metadata": {},
   "outputs": [
    {
     "name": "stdout",
     "output_type": "stream",
     "text": [
      "[ *NUMBER* = 'Singular' ]\n"
     ]
    }
   ],
   "source": [
    "#Unification\n",
    "print(f0.unify(f1))"
   ]
  }
 ],
 "metadata": {
  "kernelspec": {
   "display_name": "Python 3",
   "language": "python",
   "name": "python3"
  },
  "language_info": {
   "codemirror_mode": {
    "name": "ipython",
    "version": 3
   },
   "file_extension": ".py",
   "mimetype": "text/x-python",
   "name": "python",
   "nbconvert_exporter": "python",
   "pygments_lexer": "ipython3",
   "version": "3.6.1"
  }
 },
 "nbformat": 4,
 "nbformat_minor": 2
}
