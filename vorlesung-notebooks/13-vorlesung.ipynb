{
 "cells": [
  {
   "cell_type": "markdown",
   "metadata": {
    "slideshow": {
     "slide_type": "slide"
    }
   },
   "source": [
    "***Vorlesung 'Syntax natürlicher Sprachen'***\n",
    "\n",
    "--- \n",
    "# Vorlesung 13: Partielles Parsing\n"
   ]
  },
  {
   "cell_type": "code",
   "execution_count": 1,
   "metadata": {},
   "outputs": [],
   "source": [
    "import nltk\n",
    "from nltk.corpus import conll2000 "
   ]
  },
  {
   "cell_type": "markdown",
   "metadata": {},
   "source": [
    "---\n",
    "## 1. IOB-Chunk-Tags\n",
    "\n",
    "#### Auszeichnung von flachen, nicht-hierarchischen Chunks über entsprechende Tags (IOB = *Inside-Outside-Beginning*):\n",
    "\n",
    "#### Beispiel: \n",
    "\n",
    "| Wort | Chunk-Tag \n",
    "| :- |-------------: | :-:\n",
    "| *der* | `B-NP` \n",
    "| *Hund* | `I-NP` \n",
    "| *läuft* | `B-VP` \n",
    "| *.* | `O`\n",
    "\n",
    "#### Chunk-Types in conll2000-Korpus:\n",
    "    - NP\n",
    "    - PP\n",
    "    - ADJP\n",
    "    - VP"
   ]
  },
  {
   "cell_type": "code",
   "execution_count": 50,
   "metadata": {},
   "outputs": [],
   "source": [
    "sent = conll2000.chunked_sents('train.txt')[99]"
   ]
  },
  {
   "cell_type": "code",
   "execution_count": 51,
   "metadata": {},
   "outputs": [
    {
     "data": {
      "text/plain": [
       "[('Over', 'IN', 'B-PP'),\n",
       " ('a', 'DT', 'B-NP'),\n",
       " ('cup', 'NN', 'I-NP'),\n",
       " ('of', 'IN', 'B-PP'),\n",
       " ('coffee', 'NN', 'B-NP'),\n",
       " (',', ',', 'O'),\n",
       " ('Mr.', 'NNP', 'B-NP'),\n",
       " ('Stone', 'NNP', 'I-NP'),\n",
       " ('told', 'VBD', 'B-VP'),\n",
       " ('his', 'PRP$', 'B-NP'),\n",
       " ('story', 'NN', 'I-NP'),\n",
       " ('.', '.', 'O')]"
      ]
     },
     "execution_count": 51,
     "metadata": {},
     "output_type": "execute_result"
    }
   ],
   "source": [
    "nltk.chunk.tree2conlltags(sent)"
   ]
  },
  {
   "cell_type": "code",
   "execution_count": 52,
   "metadata": {},
   "outputs": [
    {
     "data": {
      "image/png": "[encoded data removed]",
      "text/plain": [
       "Tree('S', [Tree('PP', [('Over', 'IN')]), Tree('NP', [('a', 'DT'), ('cup', 'NN')]), Tree('PP', [('of', 'IN')]), Tree('NP', [('coffee', 'NN')]), (',', ','), Tree('NP', [('Mr.', 'NNP'), ('Stone', 'NNP')]), Tree('VP', [('told', 'VBD')]), Tree('NP', [('his', 'PRP$'), ('story', 'NN')]), ('.', '.')])"
      ]
     },
     "execution_count": 52,
     "metadata": {},
     "output_type": "execute_result"
    }
   ],
   "source": [
    "sent"
   ]
  },
  {
   "cell_type": "markdown",
   "metadata": {},
   "source": [
    "---\n",
    "## 2. RegExp-Chunk-Parser"
   ]
  },
  {
   "cell_type": "code",
   "execution_count": 6,
   "metadata": {},
   "outputs": [],
   "source": [
    "sent = [(\"Rapunzel\", \"NNP\"), (\"let\", \"VBD\"), (\"down\", \"RP\"), (\"her\", \"PP$\"), (\"long\", \"JJ\"), (\"golden\", \"JJ\"), (\"hair\", \"NN\")]"
   ]
  },
  {
   "cell_type": "markdown",
   "metadata": {},
   "source": [
    "### 2.1 NP-Chunk-Parser\n",
    "\n",
    "#### Angabe von POS-Tag-Pattern-Regeln für Chunks "
   ]
  },
  {
   "cell_type": "code",
   "execution_count": 7,
   "metadata": {},
   "outputs": [
    {
     "data": {
      "image/png": "[encoded data removed]",
      "text/plain": [
       "Tree('S', [Tree('NP', [('Rapunzel', 'NNP')]), ('let', 'VBD'), ('down', 'RP'), Tree('NP', [('her', 'PP$'), ('long', 'JJ'), ('golden', 'JJ'), ('hair', 'NN')])])"
      ]
     },
     "execution_count": 7,
     "metadata": {},
     "output_type": "execute_result"
    }
   ],
   "source": [
    "grammar = r\"\"\"\n",
    "NP: {<DT|PP\\$>?<JJ>*<NN>}  #chunk DET/POSS ADJ NOUN    \n",
    "{<NN.?>+}                  #chunk sequences of NOUNS/PROPER NOUNS\n",
    "\"\"\"\n",
    "\n",
    "parser = nltk.RegexpParser(grammar)\n",
    "tree = parser.parse(sent)\n",
    "tree"
   ]
  },
  {
   "cell_type": "markdown",
   "metadata": {},
   "source": [
    "---\n",
    "### 2.2 invertierte Regelreihenfolge\n",
    "##### Reihenfolge der Regelanwendung relevant!"
   ]
  },
  {
   "cell_type": "code",
   "execution_count": 8,
   "metadata": {},
   "outputs": [
    {
     "data": {
      "image/png": "[encoded data removed]",
      "text/plain": [
       "Tree('S', [Tree('NP', [('Rapunzel', 'NNP')]), ('let', 'VBD'), ('down', 'RP'), ('her', 'PP$'), ('long', 'JJ'), ('golden', 'JJ'), Tree('NP', [('hair', 'NN')])])"
      ]
     },
     "execution_count": 8,
     "metadata": {},
     "output_type": "execute_result"
    }
   ],
   "source": [
    "grammar = r\"\"\"\n",
    "NP: {<NN.?>+}          #chunk sequences of NOUNS/PROPER NOUNS\n",
    "{<DT|PP\\$>?<JJ>*<NN>}  #chunk DET/POSS ADJ NOUN    \n",
    "\"\"\"\n",
    "\n",
    "parser = nltk.RegexpParser(grammar)\n",
    "tree = parser.parse(sent)\n",
    "tree"
   ]
  },
  {
   "cell_type": "markdown",
   "metadata": {},
   "source": [
    "---\n",
    "## 3. Chinking und Splitting"
   ]
  },
  {
   "cell_type": "markdown",
   "metadata": {},
   "source": [
    "### 3.1 Chunking mit anschließendem Chinking\n"
   ]
  },
  {
   "cell_type": "code",
   "execution_count": 9,
   "metadata": {},
   "outputs": [],
   "source": [
    "sent = [(\"the\", \"DT\"), (\"little\", \"JJ\"), (\"yellow\", \"JJ\"),(\"dog\", \"NN\"), (\"barked\", \"VBD\"), (\"at\", \"IN\"),  (\"the\", \"DT\"), (\"cat\", \"NN\")]"
   ]
  },
  {
   "cell_type": "code",
   "execution_count": 10,
   "metadata": {},
   "outputs": [
    {
     "data": {
      "image/png": "[encoded data removed]",
      "text/plain": [
       "Tree('S', [Tree('NP', [('the', 'DT'), ('little', 'JJ'), ('yellow', 'JJ'), ('dog', 'NN')]), ('barked', 'VBD'), ('at', 'IN'), Tree('NP', [('the', 'DT'), ('cat', 'NN')])])"
      ]
     },
     "execution_count": 10,
     "metadata": {},
     "output_type": "execute_result"
    }
   ],
   "source": [
    "grammar = r\"\"\"\n",
    "  NP:\n",
    "    {<.*>+}      # Chunk everything\n",
    "    }<VBD|IN>+{  # Chink sequences of VBD and IN\n",
    "  \"\"\"\n",
    "\n",
    "parser = nltk.RegexpParser(grammar)\n",
    "tree = parser.parse(sent) \n",
    "tree"
   ]
  },
  {
   "cell_type": "markdown",
   "metadata": {},
   "source": [
    "---\n",
    "\n",
    "### 3.2 Split-Regeln"
   ]
  },
  {
   "cell_type": "code",
   "execution_count": 11,
   "metadata": {},
   "outputs": [],
   "source": [
    "sent = [(\"the\", \"DT\"), (\"cat\", \"NN\"),(\"the\", \"DT\"), (\"dog\", \"NN\"),(\"chased\", \"V\")]"
   ]
  },
  {
   "cell_type": "markdown",
   "metadata": {},
   "source": [
    "#### 3.2.1 ohne Split-Regel:"
   ]
  },
  {
   "cell_type": "code",
   "execution_count": 12,
   "metadata": {},
   "outputs": [
    {
     "data": {
      "image/png": "[encoded data removed]",
      "text/plain": [
       "Tree('S', [Tree('NP', [('the', 'DT'), ('cat', 'NN'), ('the', 'DT'), ('dog', 'NN')]), ('chased', 'V')])"
      ]
     },
     "execution_count": 12,
     "metadata": {},
     "output_type": "execute_result"
    }
   ],
   "source": [
    "grammar = r\"\"\"\n",
    "  NP: {<DT|NN>+}  #chunk sequences of DETs and NOUNs         \n",
    "  \"\"\"\n",
    "  \n",
    "parser = nltk.RegexpParser(grammar)\n",
    "tree = parser.parse(sent) \n",
    "tree"
   ]
  },
  {
   "cell_type": "markdown",
   "metadata": {},
   "source": [
    "#### 3.2.2 mit Split-Regel:"
   ]
  },
  {
   "cell_type": "code",
   "execution_count": 13,
   "metadata": {},
   "outputs": [
    {
     "data": {
      "image/png": "[encoded data removed]",
      "text/plain": [
       "Tree('S', [Tree('NP', [('the', 'DT'), ('cat', 'NN')]), Tree('NP', [('the', 'DT'), ('dog', 'NN')]), ('chased', 'V')])"
      ]
     },
     "execution_count": 13,
     "metadata": {},
     "output_type": "execute_result"
    }
   ],
   "source": [
    "grammar = r\"\"\"\n",
    "  NP: {<DT|NN>+}  #chunk sequences of DETs and NOUNs      \n",
    "  <.*>}{<DT>      #split chunks\n",
    "  \"\"\"\n",
    "parser = nltk.RegexpParser(grammar)\n",
    "tree = parser.parse(sent) \n",
    "tree"
   ]
  },
  {
   "cell_type": "markdown",
   "metadata": {},
   "source": [
    "---\n",
    "## 4. Kaskadierende Chunk-Parser"
   ]
  },
  {
   "cell_type": "markdown",
   "metadata": {},
   "source": [
    "### 4.1 Hintereinandergeschaltete Chunk-Parser\n",
    "\n",
    "- **Chunk-Tags in Tag-Pattern**\n",
    "\n",
    "#### Beispiel: Analyse hierarchischer PP-Struktur\n",
    "##### kaskadierende Regeln: Output der NP-Regel als Input für folgende Regel"
   ]
  },
  {
   "cell_type": "code",
   "execution_count": 15,
   "metadata": {},
   "outputs": [],
   "source": [
    "sent = [(\"I\", \"PRON\"), (\"shot\", \"V\"), (\"an\", \"DET\"), (\"elephant\", \"N\"), (\"in\", \"P\"), (\"my\", \"DET\"), (\"pajamas\", \"N\")]"
   ]
  },
  {
   "cell_type": "code",
   "execution_count": 16,
   "metadata": {},
   "outputs": [
    {
     "data": {
      "image/png": "[encoded data removed]",
      "text/plain": [
       "Tree('S', [Tree('NP', [('I', 'PRON')]), ('shot', 'V'), Tree('NP', [('an', 'DET'), ('elephant', 'N')]), Tree('PP', [('in', 'P'), Tree('NP', [('my', 'DET'), ('pajamas', 'N')])])])"
      ]
     },
     "execution_count": 16,
     "metadata": {},
     "output_type": "execute_result"
    }
   ],
   "source": [
    "grammar = r\"\"\"\n",
    "    NP: {<DET>?<ADJ>*<N>} \n",
    "        {<PRON>}  \n",
    "    PP: {<P><NP>}\n",
    "\"\"\"\n",
    "\n",
    "parser = nltk.RegexpParser(grammar, loop=1)\n",
    "tree = parser.parse(sent) \n",
    "tree"
   ]
  },
  {
   "cell_type": "markdown",
   "metadata": {},
   "source": [
    "---\n",
    "### 4.2 Loopen über Chunk-Grammatik\n",
    "\n",
    "#### Loopen eines 4-stufigen Chunk-Parsers erkennt im zweiten Durchgang *(saw, VBD)* als VP eines Objektsatzes"
   ]
  },
  {
   "cell_type": "code",
   "execution_count": 17,
   "metadata": {},
   "outputs": [],
   "source": [
    "sent = [(\"John\", \"NNP\"), (\"thinks\", \"VBZ\"), (\"Mary\", \"NN\"), (\"saw\", \"VBD\"), (\"the\", \"DT\"), (\"cat\", \"NN\"), (\"sit\", \"VB\"), (\"on\", \"IN\"), (\"the\", \"DT\"), (\"mat\", \"NN\")]"
   ]
  },
  {
   "cell_type": "markdown",
   "metadata": {},
   "source": [
    "#### 4.2.1 ohne Looping:"
   ]
  },
  {
   "cell_type": "code",
   "execution_count": 18,
   "metadata": {},
   "outputs": [
    {
     "data": {
      "image/png": "[encoded data removed]",
      "text/plain": [
       "Tree('S', [Tree('NP', [('John', 'NNP')]), ('thinks', 'VBZ'), Tree('NP', [('Mary', 'NN')]), ('saw', 'VBD'), Tree('CLAUSE', [Tree('NP', [('the', 'DT'), ('cat', 'NN')]), Tree('VP', [('sit', 'VB'), Tree('PP', [('on', 'IN'), Tree('NP', [('the', 'DT'), ('mat', 'NN')])])])])])"
      ]
     },
     "execution_count": 18,
     "metadata": {},
     "output_type": "execute_result"
    }
   ],
   "source": [
    "grammar = r\"\"\"\n",
    "  NP: {<DT|JJ|NN.*>+}          # Chunk sequences of DT, JJ, NN\n",
    "  PP: {<IN><NP>}               # Chunk prepositions followed by NP\n",
    "  VP: {<VB.*><NP|PP|CLAUSE>+$} # Chunk verbs and their arguments\n",
    "  CLAUSE: {<NP><VP>}           # Chunk NP, VP\n",
    "  \"\"\"\n",
    "\n",
    "parser = nltk.RegexpParser(grammar, loop=1)\n",
    "tree = parser.parse(sent)\n",
    "tree"
   ]
  },
  {
   "cell_type": "markdown",
   "metadata": {},
   "source": [
    "#### 4.2.2 mit Looping:"
   ]
  },
  {
   "cell_type": "code",
   "execution_count": 19,
   "metadata": {},
   "outputs": [
    {
     "data": {
      "image/png": "[encoded data removed]",
      "text/plain": [
       "Tree('S', [Tree('NP', [('John', 'NNP')]), ('thinks', 'VBZ'), Tree('CLAUSE', [Tree('NP', [('Mary', 'NN')]), Tree('VP', [('saw', 'VBD'), Tree('CLAUSE', [Tree('NP', [('the', 'DT'), ('cat', 'NN')]), Tree('VP', [('sit', 'VB'), Tree('PP', [('on', 'IN'), Tree('NP', [('the', 'DT'), ('mat', 'NN')])])])])])])])"
      ]
     },
     "execution_count": 19,
     "metadata": {},
     "output_type": "execute_result"
    }
   ],
   "source": [
    "parser = nltk.RegexpParser(grammar, loop=2)\n",
    "tree = parser.parse(sent)\n",
    "#print(tree)\n",
    "tree"
   ]
  },
  {
   "cell_type": "markdown",
   "metadata": {},
   "source": [
    "---\n",
    "## 5. Evaluation von Chunk-Parsern \n",
    "\n",
    "#### Grundlage: conll2000-Chunk-Korpus, eingeschränkt auf Chunk-Typ(en) des Chunk-Parsers"
   ]
  },
  {
   "cell_type": "code",
   "execution_count": 20,
   "metadata": {},
   "outputs": [
    {
     "data": {
      "text/plain": [
       "[('Over', 'IN', 'O'),\n",
       " ('a', 'DT', 'B-NP'),\n",
       " ('cup', 'NN', 'I-NP'),\n",
       " ('of', 'IN', 'O'),\n",
       " ('coffee', 'NN', 'B-NP'),\n",
       " (',', ',', 'O'),\n",
       " ('Mr.', 'NNP', 'B-NP'),\n",
       " ('Stone', 'NNP', 'I-NP'),\n",
       " ('told', 'VBD', 'O'),\n",
       " ('his', 'PRP$', 'B-NP'),\n",
       " ('story', 'NN', 'I-NP'),\n",
       " ('.', '.', 'O')]"
      ]
     },
     "execution_count": 20,
     "metadata": {},
     "output_type": "execute_result"
    }
   ],
   "source": [
    "nltk.chunk.tree2conlltags(conll2000.chunked_sents('train.txt', chunk_types=['NP'])[99])"
   ]
  },
  {
   "cell_type": "code",
   "execution_count": 21,
   "metadata": {},
   "outputs": [
    {
     "name": "stdout",
     "output_type": "stream",
     "text": [
      "ChunkParse score:\n",
      "    IOB Accuracy:  59.7%%\n",
      "    Precision:     45.3%%\n",
      "    Recall:        24.2%%\n",
      "    F-Measure:     31.6%%\n"
     ]
    }
   ],
   "source": [
    "test_sents = conll2000.chunked_sents('test.txt', chunk_types=['NP'])\n",
    "grammar = \"NP: {<DT>?<JJ>*<NN>}\" \n",
    "parser = nltk.RegexpParser(grammar) \n",
    "print(parser.evaluate(test_sents))"
   ]
  },
  {
   "cell_type": "code",
   "execution_count": 22,
   "metadata": {},
   "outputs": [
    {
     "name": "stdout",
     "output_type": "stream",
     "text": [
      "ChunkParse score:\n",
      "    IOB Accuracy:  69.6%%\n",
      "    Precision:     43.5%%\n",
      "    Recall:        43.8%%\n",
      "    F-Measure:     43.6%%\n"
     ]
    }
   ],
   "source": [
    "test_sents = conll2000.chunked_sents('test.txt', chunk_types=['NP'])\n",
    "grammar = \"\"\"NP: {<DT>?<JJ>*<NN>} \n",
    "{<NN.?>+}\"\"\"\n",
    "parser = nltk.RegexpParser(grammar) \n",
    "print(parser.evaluate(test_sents))"
   ]
  },
  {
   "cell_type": "markdown",
   "metadata": {},
   "source": [
    "--- \n",
    "## 6. Training eines datenbasierten IOB-Chunk-Tagger für PPs\n"
   ]
  },
  {
   "cell_type": "code",
   "execution_count": 45,
   "metadata": {},
   "outputs": [
    {
     "data": {
      "text/plain": [
       "[('Chancellor', 'NNP', 'O'),\n",
       " ('of', 'IN', 'B-PP'),\n",
       " ('the', 'DT', 'O'),\n",
       " ('Exchequer', 'NNP', 'O'),\n",
       " ('Nigel', 'NNP', 'O'),\n",
       " ('Lawson', 'NNP', 'O'),\n",
       " (\"'s\", 'POS', 'O'),\n",
       " ('restated', 'VBN', 'O'),\n",
       " ('commitment', 'NN', 'O'),\n",
       " ('to', 'TO', 'B-PP'),\n",
       " ('a', 'DT', 'O'),\n",
       " ('firm', 'NN', 'O'),\n",
       " ('monetary', 'JJ', 'O'),\n",
       " ('policy', 'NN', 'O'),\n",
       " ('has', 'VBZ', 'O'),\n",
       " ('helped', 'VBN', 'O'),\n",
       " ('to', 'TO', 'O'),\n",
       " ('prevent', 'VB', 'O'),\n",
       " ('a', 'DT', 'O'),\n",
       " ('freefall', 'NN', 'O'),\n",
       " ('in', 'IN', 'B-PP'),\n",
       " ('sterling', 'NN', 'O'),\n",
       " ('over', 'IN', 'B-PP'),\n",
       " ('the', 'DT', 'O'),\n",
       " ('past', 'JJ', 'O'),\n",
       " ('week', 'NN', 'O'),\n",
       " ('.', '.', 'O')]"
      ]
     },
     "execution_count": 45,
     "metadata": {},
     "output_type": "execute_result"
    }
   ],
   "source": [
    "nltk.chunk.tree2conlltags(conll2000.chunked_sents('train.txt', chunk_types=['PP'])[1])"
   ]
  },
  {
   "cell_type": "markdown",
   "metadata": {},
   "source": [
    "### Unigram-Tagger\n",
    "\n",
    "\n",
    "siehe https://www.nltk.org/book/ch07.html#simple-evaluation-and-baselines\n",
    "\n",
    "\n",
    "#### Chunker, der für jedes POS-Tag das wahrscheinlichste Chunk-Tag berechnet (Training) und dieses dann zur Testzeit ausgibt:"
   ]
  },
  {
   "cell_type": "code",
   "execution_count": 46,
   "metadata": {},
   "outputs": [],
   "source": [
    "#https://www.nltk.org/book/pylisting/code_unigram_chunker.py\n",
    "    \n",
    "class UnigramChunker(nltk.ChunkParserI):\n",
    "    def __init__(self, train_sents):\n",
    "        train_data = [\n",
    "            [\n",
    "                (t,c)\n",
    "                for w,t,c in nltk.chunk.tree2conlltags(sent)\n",
    "            ]\n",
    "            for sent in train_sents\n",
    "        ]\n",
    "        self.tagger = nltk.UnigramTagger(train_data)\n",
    "\n",
    "    def parse(self, sentence):\n",
    "        pos_tags = [pos for (word,pos) in sentence]\n",
    "        tagged_pos_tags = self.tagger.tag(pos_tags)\n",
    "        chunktags = [\n",
    "            chunktag for (pos, chunktag) in tagged_pos_tags\n",
    "        ]\n",
    "        conlltags = [\n",
    "            (word, pos, chunktag)\n",
    "            for ((word, pos), chunktag)\n",
    "            in zip(sentence, chunktags)\n",
    "        ]\n",
    "        return nltk.chunk.conlltags2tree(conlltags)"
   ]
  },
  {
   "cell_type": "markdown",
   "metadata": {},
   "source": [
    "#### Training  des UnigramChunkers auf dem CoNLL 2000 Korpus:"
   ]
  },
  {
   "cell_type": "code",
   "execution_count": 47,
   "metadata": {},
   "outputs": [],
   "source": [
    "train_sents = conll2000.chunked_sents('train.txt', chunk_types=['PP'])\n",
    "uc = UnigramChunker(train_sents)"
   ]
  },
  {
   "cell_type": "markdown",
   "metadata": {},
   "source": [
    "#### Um uns einen Überblick darüber zu verschaffen, was der Chunker gelernt hat, können wir ihn für jedes mögliche POS-Tag eine Vorhersage treffen lassen:\n"
   ]
  },
  {
   "cell_type": "code",
   "execution_count": 48,
   "metadata": {
    "scrolled": true
   },
   "outputs": [
    {
     "data": {
      "text/plain": [
       "[('#', 'O'),\n",
       " ('$', 'O'),\n",
       " (\"''\", 'O'),\n",
       " ('(', 'O'),\n",
       " (')', 'O'),\n",
       " (',', 'O'),\n",
       " ('.', 'O'),\n",
       " (':', 'O'),\n",
       " ('CC', 'O'),\n",
       " ('CD', 'O'),\n",
       " ('DT', 'O'),\n",
       " ('EX', 'O'),\n",
       " ('FW', 'O'),\n",
       " ('IN', 'B-PP'),\n",
       " ('JJ', 'O'),\n",
       " ('JJR', 'O'),\n",
       " ('JJS', 'O'),\n",
       " ('MD', 'O'),\n",
       " ('NN', 'O'),\n",
       " ('NNP', 'O'),\n",
       " ('NNPS', 'O'),\n",
       " ('NNS', 'O'),\n",
       " ('PDT', 'O'),\n",
       " ('POS', 'O'),\n",
       " ('PRP', 'O'),\n",
       " ('PRP$', 'O'),\n",
       " ('RB', 'O'),\n",
       " ('RBR', 'O'),\n",
       " ('RBS', 'O'),\n",
       " ('RP', 'O'),\n",
       " ('SYM', 'O'),\n",
       " ('TO', 'O'),\n",
       " ('UH', 'O'),\n",
       " ('VB', 'O'),\n",
       " ('VBD', 'O'),\n",
       " ('VBG', 'O'),\n",
       " ('VBN', 'O'),\n",
       " ('VBP', 'O'),\n",
       " ('VBZ', 'O'),\n",
       " ('WDT', 'O'),\n",
       " ('WP', 'O'),\n",
       " ('WP$', 'O'),\n",
       " ('WRB', 'O'),\n",
       " ('``', 'O')]"
      ]
     },
     "execution_count": 48,
     "metadata": {},
     "output_type": "execute_result"
    }
   ],
   "source": [
    "postags = sorted(set(pos for sent in train_sents for (word,pos) in sent.leaves()))\n",
    "uc.tagger.tag(postags)"
   ]
  },
  {
   "cell_type": "markdown",
   "metadata": {},
   "source": [
    "#### Evaluation des UnigramChunkers:"
   ]
  },
  {
   "cell_type": "code",
   "execution_count": 49,
   "metadata": {},
   "outputs": [
    {
     "name": "stdout",
     "output_type": "stream",
     "text": [
      "ChunkParse score:\n",
      "    IOB Accuracy:  96.7%%\n",
      "    Precision:     81.8%%\n",
      "    Recall:        86.3%%\n",
      "    F-Measure:     84.0%%\n"
     ]
    }
   ],
   "source": [
    "test_sents = conll2000.chunked_sents('test.txt', chunk_types=['PP'])\n",
    "print(uc.evaluate(test_sents))"
   ]
  }
 ],
 "metadata": {
  "kernelspec": {
   "display_name": "Python 3",
   "language": "python",
   "name": "python3"
  },
  "language_info": {
   "codemirror_mode": {
    "name": "ipython",
    "version": 3
   },
   "file_extension": ".py",
   "mimetype": "text/x-python",
   "name": "python",
   "nbconvert_exporter": "python",
   "pygments_lexer": "ipython3",
   "version": "3.6.1"
  }
 },
 "nbformat": 4,
 "nbformat_minor": 2
}
