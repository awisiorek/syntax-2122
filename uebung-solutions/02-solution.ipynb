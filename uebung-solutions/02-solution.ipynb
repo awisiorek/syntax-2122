{
 "cells": [
  {
   "cell_type": "markdown",
   "metadata": {},
   "source": [
    "***Syntax natürlicher Sprachen, WS 2021/22***\n",
    "\n",
    "---\n",
    "# Übung 2 (Lösung)"
   ]
  },
  {
   "cell_type": "markdown",
   "metadata": {},
   "source": [
    "---\n",
    "## Aufgabe 1:  Eine erste syntaktische Analyse\n",
    "\n",
    "#### Kreieren Sie Ihre ersten Syntaxbäume, indem Sie das folgende Python-Skript ausführen. Beantworten Sie im Anschluss die zugehörigen Fragen!"
   ]
  },
  {
   "cell_type": "code",
   "execution_count": 6,
   "metadata": {},
   "outputs": [
    {
     "name": "stdout",
     "output_type": "stream",
     "text": [
      "(S\n",
      "  (NP I)\n",
      "  (VP\n",
      "    (VP (V shot) (NP (Det an) (N elephant)))\n",
      "    (PP (P in) (NP (Det my) (N pajamas)))))\n",
      "     S                                       \n",
      " ┌───┴──────────────┐                         \n",
      " │                  VP                       \n",
      " │        ┌─────────┴──────────┐              \n",
      " │        VP                   PP            \n",
      " │   ┌────┴───┐            ┌───┴───┐          \n",
      " │   │        NP           │       NP        \n",
      " │   │    ┌───┴─────┐      │   ┌───┴─────┐    \n",
      " NP  V   Det        N      P  Det        N   \n",
      " │   │    │         │      │   │         │    \n",
      " I  shot  an     elephant  in  my     pajamas\n",
      "\n",
      "(S\n",
      "  (NP I)\n",
      "  (VP\n",
      "    (V shot)\n",
      "    (NP (Det an) (N elephant) (PP (P in) (NP (Det my) (N pajamas))))))\n",
      "     S                                   \n",
      " ┌───┴──────────┐                         \n",
      " │              VP                       \n",
      " │   ┌──────────┴──────┐                  \n",
      " │   │                 NP                \n",
      " │   │    ┌─────┬──────┴───┐              \n",
      " │   │    │     │          PP            \n",
      " │   │    │     │      ┌───┴───┐          \n",
      " │   │    │     │      │       NP        \n",
      " │   │    │     │      │   ┌───┴─────┐    \n",
      " NP  V   Det    N      P  Det        N   \n",
      " │   │    │     │      │   │         │    \n",
      " I  shot  an elephant  in  my     pajamas\n",
      "\n"
     ]
    }
   ],
   "source": [
    "import nltk\n",
    "\n",
    "grammar = nltk.CFG.fromstring(\"\"\"\n",
    "    S -> NP VP\n",
    "    PP -> P NP\n",
    "    NP -> Det N | Det N PP | 'I'\n",
    "    VP -> V NP | VP PP\n",
    "    Det -> 'an' | 'my'\n",
    "    N -> 'elephant' | 'pajamas'\n",
    "    V -> 'shot'\n",
    "    P -> 'in'\n",
    "\"\"\")\n",
    "\n",
    "parser = nltk.ChartParser(grammar)\n",
    "sent = \"I shot an elephant in my pajamas\".split()\n",
    "for tree in parser.parse(sent):\n",
    "    print(tree)\n",
    "    tree.pretty_print(unicodelines=True)"
   ]
  },
  {
   "cell_type": "markdown",
   "metadata": {},
   "source": [
    "### Fragen zu Aufgabe 1\n",
    "\n",
    "---\n",
    "#### Aufgabe 1 a: Warum gibt die parse-Funktion des Skripts vermutlich eine Sequenz zurück?\n",
    "\n",
    "Ambiguität! Daher ist im Allgemeinen mehr als nur ein Parse-Tree möglich.\n",
    "\n",
    "\n",
    "---\n",
    "#### Aufgabe 1b: Worin liegen die Unterschiede zwischen den ausgegebenen Bäumen?\n",
    "\n",
    "Die Präpositionalphrase „in my pajamas“ ist einmal Teil der Verbalphrase und einmal Teil der Nominalphrase.\n",
    "\n",
    "___\n",
    "#### Aufgabe 1 c: Warum ist der gegebene Satz \"I shot an elephant in my pajamas\" syntaktisch ambig?\n",
    "\n",
    "Aus der Oberflächensyntax ist nicht ersichtlich, welche syntakische Funktion die PP in my pajamas einnimmt. Handel es sich um ein Adverbial oder um ein Attribut? Ist Ersteres der Fall, modifiziert die PP die im Verb ausgedrückete Tätigkeit. Im zweiten Fall stellt die PP eine Beifügung zum Substantiv dar.\n",
    "\n"
   ]
  },
  {
   "cell_type": "markdown",
   "metadata": {},
   "source": [
    "---\n",
    "## Aufgabe 2: Dependenzgrammatik\n",
    "\n",
    "#### Schreiben Sie zu dem Satz aus Aufgabe 1 eine Dependenzgrammatik, die die syntaktische Ambiguität der Satzanalyse erhält.\n",
    "\n",
    "#### Verwenden Sie dabei die *Primacy-of-Content-Words*-Maxime des Universal-Dependencies-Schemas für die PP-Analyse (https://universaldependencies.org/u/overview/syntax.html#the-primacy-of-content-words)."
   ]
  },
  {
   "cell_type": "code",
   "execution_count": 2,
   "metadata": {},
   "outputs": [
    {
     "name": "stdout",
     "output_type": "stream",
     "text": [
      "(shot I (elephant an) (pajamas in my))\n",
      "      shot                  \n",
      " ┌─────┼────────────┐        \n",
      " │  elephant     pajamas    \n",
      " │     │      ┌─────┴─────┐  \n",
      " I     an     in          my\n",
      "\n",
      "(shot I (elephant an (pajamas in my)))\n",
      "        shot                     \n",
      " ┌───────┴──────┐                 \n",
      " │           elephant            \n",
      " │   ┌──────────┴────────┐        \n",
      " │   │                pajamas    \n",
      " │   │          ┌────────┴─────┐  \n",
      " I   an         in             my\n",
      "\n"
     ]
    }
   ],
   "source": [
    "grammar = nltk.DependencyGrammar.fromstring(\"\"\"\n",
    "    'shot' -> 'I' | 'elephant' | 'pajamas'\n",
    "    'elephant' -> 'an' | 'pajamas'\n",
    "    'pajamas' -> 'in' | 'my'\n",
    "    \"\"\")\n",
    "\n",
    "parser = nltk.ProjectiveDependencyParser(grammar)\n",
    "\n",
    "for tree in parser.parse(sent):\n",
    "    print(tree)\n",
    "    tree.pretty_print(unicodelines=True)"
   ]
  },
  {
   "cell_type": "markdown",
   "metadata": {},
   "source": [
    "---\n",
    "## Aufgabe 3: Ambiguität\n",
    "\n",
    "#### Sehen Sie sich die folgenden englischen Sätze an. Können Sie sich jeweils zwei unterschiedliche Interpretationen vorstellen?\n",
    "\n",
    "- *Fighting animals could be dangerous.*\n",
    "- *Visiting relatives can be tiresome.*\n"
   ]
  },
  {
   "cell_type": "markdown",
   "metadata": {},
   "source": [
    "#### Erweitern Sie die gegebene Grammatik, so dass für den zweiten Satz linguistisch korrekte Syntaxanalysen beider Interpretationen ausgegeben werden.\n",
    "\n",
    "- `VBG`: *Verb, gerund or present participle* (Penn Treebank)\n",
    "- `SBAR`: *Embedded subordinate clause* (Penn Treebank)"
   ]
  },
  {
   "cell_type": "code",
   "execution_count": 7,
   "metadata": {},
   "outputs": [],
   "source": [
    "sent = 'visiting relatives can be tiresome'.split()"
   ]
  },
  {
   "cell_type": "code",
   "execution_count": 8,
   "metadata": {},
   "outputs": [
    {
     "name": "stdout",
     "output_type": "stream",
     "text": [
      "(S\n",
      "  (NP (VBG visiting) (N relatives))\n",
      "  (VP (AUX can) (VP (COP be) (ADJ tiresome))))\n",
      "                        S                  \n",
      "          ┌─────────────┴───┐               \n",
      "          │                 VP             \n",
      "          │             ┌───┴───┐           \n",
      "          NP            │       VP         \n",
      "   ┌──────┴──────┐      │   ┌───┴─────┐     \n",
      "  VBG            N     AUX COP       ADJ   \n",
      "   │             │      │   │         │     \n",
      "visiting     relatives can  be     tiresome\n",
      "\n",
      "(S\n",
      "  (SBAR (VP (VBG visiting) (NP (N relatives))))\n",
      "  (VP (AUX can) (VP (COP be) (ADJ tiresome))))\n",
      "                         S                  \n",
      "          ┌──────────────┴───┐               \n",
      "         SBAR                │              \n",
      "          │                  │               \n",
      "          VP                 VP             \n",
      "   ┌──────┴───────┐      ┌───┴───┐           \n",
      "   │              NP     │       VP         \n",
      "   │              │      │   ┌───┴─────┐     \n",
      "  VBG             N     AUX COP       ADJ   \n",
      "   │              │      │   │         │     \n",
      "visiting      relatives can  be     tiresome\n",
      "\n"
     ]
    }
   ],
   "source": [
    "grammar = nltk.CFG.fromstring(\"\"\"\n",
    "    S -> NP VP\n",
    "    S -> SBAR VP\n",
    "    NP -> VBG N | N\n",
    "    SBAR -> VP    \n",
    "    VP -> AUX VP | COP ADJ | VBG NP\n",
    "    VBG -> 'visiting'\n",
    "    N -> 'relatives'\n",
    "    AUX -> 'can'\n",
    "    COP -> 'be'\n",
    "    ADJ -> 'tiresome'\n",
    "\"\"\")\n",
    "    \n",
    "parser = nltk.ChartParser(grammar,trace=0)\n",
    "\n",
    "for tree in parser.parse(sent):\n",
    "    print(tree)\n",
    "    tree.pretty_print(unicodelines=True)"
   ]
  },
  {
   "cell_type": "markdown",
   "metadata": {},
   "source": [
    "---\n",
    "### Fragen zu Aufgabe 3\n",
    "\n",
    "---\n",
    "#### Was ist der Ursprung der Ambiguität?  (Lexikalische Ambiguität der einzelnen Wörter? Morphologisch ambige Formen? Andere Gründe?)\n",
    "\n",
    "\n",
    "Weder Einzelwörter noch Formen sind (im Kontext) ambig. Die Ambiguität liegt in der Beziehung zwischen Gerund (*fighting*, *visiting*) und nachfolgendem Nomen:\n",
    "\n",
    "1. Subjekt: Kämpfende Tiere / Verwandte, die zu Besuch sind\n",
    "2. direktes Objekt: Tiere zu bekämpfen / Verwandte zu besuchen\n",
    "\n",
    "Es liegt also eine strukturelle Ambiguität vor: im ersten Fall ist das Nomen Kopf einer NP-Phrase, im zweiten Fall ist das Gerund Kopf eines nichtfiniten Teilsatzes.\n",
    "\n",
    "\n",
    "---\n",
    "#### In welcher Beziehung können Gerund und nachfolgendes Nomen stehen?\n",
    "\n",
    "1. Gerund ist Dependent von Nomen als Kopf einer NP-Phrase\n",
    "2. Nomen ist Dependent von Gerund als Kopf eines nichtfiniten Teilsatzes\n"
   ]
  },
  {
   "cell_type": "markdown",
   "metadata": {},
   "source": [
    "## Analyse der beiden Varianten mit SpaCy:"
   ]
  },
  {
   "cell_type": "code",
   "execution_count": 3,
   "metadata": {},
   "outputs": [],
   "source": [
    "import spacy\n",
    "nlp = spacy.load('en_core_web_sm')\n",
    "from spacy import displacy"
   ]
  },
  {
   "cell_type": "code",
   "execution_count": 4,
   "metadata": {},
   "outputs": [
    {
     "data": {
      "text/html": [
       "<svg xmlns=\"http://www.w3.org/2000/svg\" xmlns:xlink=\"http://www.w3.org/1999/xlink\" xml:lang=\"en\" id=\"f6802b9be48c463a8613a934f2f7c295-0\" class=\"displacy\" width=\"550\" height=\"237.0\" direction=\"ltr\" style=\"max-width: none; height: 237.0px; color: #000000; background: #ffffff; font-family: Arial; direction: ltr\">\n",
       "<text class=\"displacy-token\" fill=\"currentColor\" text-anchor=\"middle\" y=\"147.0\">\n",
       "    <tspan class=\"displacy-word\" fill=\"currentColor\" x=\"50\">Visiting</tspan>\n",
       "    <tspan class=\"displacy-tag\" dy=\"2em\" fill=\"currentColor\" x=\"50\">VERB</tspan>\n",
       "</text>\n",
       "\n",
       "<text class=\"displacy-token\" fill=\"currentColor\" text-anchor=\"middle\" y=\"147.0\">\n",
       "    <tspan class=\"displacy-word\" fill=\"currentColor\" x=\"150\">relatives</tspan>\n",
       "    <tspan class=\"displacy-tag\" dy=\"2em\" fill=\"currentColor\" x=\"150\">NOUN</tspan>\n",
       "</text>\n",
       "\n",
       "<text class=\"displacy-token\" fill=\"currentColor\" text-anchor=\"middle\" y=\"147.0\">\n",
       "    <tspan class=\"displacy-word\" fill=\"currentColor\" x=\"250\">can</tspan>\n",
       "    <tspan class=\"displacy-tag\" dy=\"2em\" fill=\"currentColor\" x=\"250\">AUX</tspan>\n",
       "</text>\n",
       "\n",
       "<text class=\"displacy-token\" fill=\"currentColor\" text-anchor=\"middle\" y=\"147.0\">\n",
       "    <tspan class=\"displacy-word\" fill=\"currentColor\" x=\"350\">be</tspan>\n",
       "    <tspan class=\"displacy-tag\" dy=\"2em\" fill=\"currentColor\" x=\"350\">AUX</tspan>\n",
       "</text>\n",
       "\n",
       "<text class=\"displacy-token\" fill=\"currentColor\" text-anchor=\"middle\" y=\"147.0\">\n",
       "    <tspan class=\"displacy-word\" fill=\"currentColor\" x=\"450\">tiresome.</tspan>\n",
       "    <tspan class=\"displacy-tag\" dy=\"2em\" fill=\"currentColor\" x=\"450\">ADJ</tspan>\n",
       "</text>\n",
       "\n",
       "<g class=\"displacy-arrow\">\n",
       "    <path class=\"displacy-arc\" id=\"arrow-f6802b9be48c463a8613a934f2f7c295-0-0\" stroke-width=\"2px\" d=\"M70,102.0 C70,52.0 145.0,52.0 145.0,102.0\" fill=\"none\" stroke=\"currentColor\"/>\n",
       "    <text dy=\"1.25em\" style=\"font-size: 0.8em; letter-spacing: 1px\">\n",
       "        <textPath xlink:href=\"#arrow-f6802b9be48c463a8613a934f2f7c295-0-0\" class=\"displacy-label\" startOffset=\"50%\" side=\"left\" fill=\"currentColor\" text-anchor=\"middle\">amod</textPath>\n",
       "    </text>\n",
       "    <path class=\"displacy-arrowhead\" d=\"M70,104.0 L62,92.0 78,92.0\" fill=\"currentColor\"/>\n",
       "</g>\n",
       "\n",
       "<g class=\"displacy-arrow\">\n",
       "    <path class=\"displacy-arc\" id=\"arrow-f6802b9be48c463a8613a934f2f7c295-0-1\" stroke-width=\"2px\" d=\"M170,102.0 C170,2.0 350.0,2.0 350.0,102.0\" fill=\"none\" stroke=\"currentColor\"/>\n",
       "    <text dy=\"1.25em\" style=\"font-size: 0.8em; letter-spacing: 1px\">\n",
       "        <textPath xlink:href=\"#arrow-f6802b9be48c463a8613a934f2f7c295-0-1\" class=\"displacy-label\" startOffset=\"50%\" side=\"left\" fill=\"currentColor\" text-anchor=\"middle\">nsubj</textPath>\n",
       "    </text>\n",
       "    <path class=\"displacy-arrowhead\" d=\"M170,104.0 L162,92.0 178,92.0\" fill=\"currentColor\"/>\n",
       "</g>\n",
       "\n",
       "<g class=\"displacy-arrow\">\n",
       "    <path class=\"displacy-arc\" id=\"arrow-f6802b9be48c463a8613a934f2f7c295-0-2\" stroke-width=\"2px\" d=\"M270,102.0 C270,52.0 345.0,52.0 345.0,102.0\" fill=\"none\" stroke=\"currentColor\"/>\n",
       "    <text dy=\"1.25em\" style=\"font-size: 0.8em; letter-spacing: 1px\">\n",
       "        <textPath xlink:href=\"#arrow-f6802b9be48c463a8613a934f2f7c295-0-2\" class=\"displacy-label\" startOffset=\"50%\" side=\"left\" fill=\"currentColor\" text-anchor=\"middle\">aux</textPath>\n",
       "    </text>\n",
       "    <path class=\"displacy-arrowhead\" d=\"M270,104.0 L262,92.0 278,92.0\" fill=\"currentColor\"/>\n",
       "</g>\n",
       "\n",
       "<g class=\"displacy-arrow\">\n",
       "    <path class=\"displacy-arc\" id=\"arrow-f6802b9be48c463a8613a934f2f7c295-0-3\" stroke-width=\"2px\" d=\"M370,102.0 C370,52.0 445.0,52.0 445.0,102.0\" fill=\"none\" stroke=\"currentColor\"/>\n",
       "    <text dy=\"1.25em\" style=\"font-size: 0.8em; letter-spacing: 1px\">\n",
       "        <textPath xlink:href=\"#arrow-f6802b9be48c463a8613a934f2f7c295-0-3\" class=\"displacy-label\" startOffset=\"50%\" side=\"left\" fill=\"currentColor\" text-anchor=\"middle\">acomp</textPath>\n",
       "    </text>\n",
       "    <path class=\"displacy-arrowhead\" d=\"M445.0,104.0 L453.0,92.0 437.0,92.0\" fill=\"currentColor\"/>\n",
       "</g>\n",
       "</svg>"
      ],
      "text/plain": [
       "<IPython.core.display.HTML object>"
      ]
     },
     "metadata": {},
     "output_type": "display_data"
    }
   ],
   "source": [
    "doc = nlp('Visiting relatives can be tiresome.')\n",
    "displacy.render(doc, style=\"dep\", options={'distance':100})\n",
    "\n",
    "# Nomen ist Kopf, Gerund ist Dependent (adjektivisches Attribut)"
   ]
  },
  {
   "cell_type": "code",
   "execution_count": 5,
   "metadata": {},
   "outputs": [
    {
     "data": {
      "text/html": [
       "<svg xmlns=\"http://www.w3.org/2000/svg\" xmlns:xlink=\"http://www.w3.org/1999/xlink\" xml:lang=\"en\" id=\"5eb09e0b73564091bc75c4d27b8d819e-0\" class=\"displacy\" width=\"550\" height=\"237.0\" direction=\"ltr\" style=\"max-width: none; height: 237.0px; color: #000000; background: #ffffff; font-family: Arial; direction: ltr\">\n",
       "<text class=\"displacy-token\" fill=\"currentColor\" text-anchor=\"middle\" y=\"147.0\">\n",
       "    <tspan class=\"displacy-word\" fill=\"currentColor\" x=\"50\">Seeing</tspan>\n",
       "    <tspan class=\"displacy-tag\" dy=\"2em\" fill=\"currentColor\" x=\"50\">VERB</tspan>\n",
       "</text>\n",
       "\n",
       "<text class=\"displacy-token\" fill=\"currentColor\" text-anchor=\"middle\" y=\"147.0\">\n",
       "    <tspan class=\"displacy-word\" fill=\"currentColor\" x=\"150\">relatives</tspan>\n",
       "    <tspan class=\"displacy-tag\" dy=\"2em\" fill=\"currentColor\" x=\"150\">NOUN</tspan>\n",
       "</text>\n",
       "\n",
       "<text class=\"displacy-token\" fill=\"currentColor\" text-anchor=\"middle\" y=\"147.0\">\n",
       "    <tspan class=\"displacy-word\" fill=\"currentColor\" x=\"250\">can</tspan>\n",
       "    <tspan class=\"displacy-tag\" dy=\"2em\" fill=\"currentColor\" x=\"250\">AUX</tspan>\n",
       "</text>\n",
       "\n",
       "<text class=\"displacy-token\" fill=\"currentColor\" text-anchor=\"middle\" y=\"147.0\">\n",
       "    <tspan class=\"displacy-word\" fill=\"currentColor\" x=\"350\">be</tspan>\n",
       "    <tspan class=\"displacy-tag\" dy=\"2em\" fill=\"currentColor\" x=\"350\">AUX</tspan>\n",
       "</text>\n",
       "\n",
       "<text class=\"displacy-token\" fill=\"currentColor\" text-anchor=\"middle\" y=\"147.0\">\n",
       "    <tspan class=\"displacy-word\" fill=\"currentColor\" x=\"450\">tiresome.</tspan>\n",
       "    <tspan class=\"displacy-tag\" dy=\"2em\" fill=\"currentColor\" x=\"450\">ADJ</tspan>\n",
       "</text>\n",
       "\n",
       "<g class=\"displacy-arrow\">\n",
       "    <path class=\"displacy-arc\" id=\"arrow-5eb09e0b73564091bc75c4d27b8d819e-0-0\" stroke-width=\"2px\" d=\"M70,102.0 C70,2.0 350.0,2.0 350.0,102.0\" fill=\"none\" stroke=\"currentColor\"/>\n",
       "    <text dy=\"1.25em\" style=\"font-size: 0.8em; letter-spacing: 1px\">\n",
       "        <textPath xlink:href=\"#arrow-5eb09e0b73564091bc75c4d27b8d819e-0-0\" class=\"displacy-label\" startOffset=\"50%\" side=\"left\" fill=\"currentColor\" text-anchor=\"middle\">csubj</textPath>\n",
       "    </text>\n",
       "    <path class=\"displacy-arrowhead\" d=\"M70,104.0 L62,92.0 78,92.0\" fill=\"currentColor\"/>\n",
       "</g>\n",
       "\n",
       "<g class=\"displacy-arrow\">\n",
       "    <path class=\"displacy-arc\" id=\"arrow-5eb09e0b73564091bc75c4d27b8d819e-0-1\" stroke-width=\"2px\" d=\"M70,102.0 C70,52.0 145.0,52.0 145.0,102.0\" fill=\"none\" stroke=\"currentColor\"/>\n",
       "    <text dy=\"1.25em\" style=\"font-size: 0.8em; letter-spacing: 1px\">\n",
       "        <textPath xlink:href=\"#arrow-5eb09e0b73564091bc75c4d27b8d819e-0-1\" class=\"displacy-label\" startOffset=\"50%\" side=\"left\" fill=\"currentColor\" text-anchor=\"middle\">dobj</textPath>\n",
       "    </text>\n",
       "    <path class=\"displacy-arrowhead\" d=\"M145.0,104.0 L153.0,92.0 137.0,92.0\" fill=\"currentColor\"/>\n",
       "</g>\n",
       "\n",
       "<g class=\"displacy-arrow\">\n",
       "    <path class=\"displacy-arc\" id=\"arrow-5eb09e0b73564091bc75c4d27b8d819e-0-2\" stroke-width=\"2px\" d=\"M270,102.0 C270,52.0 345.0,52.0 345.0,102.0\" fill=\"none\" stroke=\"currentColor\"/>\n",
       "    <text dy=\"1.25em\" style=\"font-size: 0.8em; letter-spacing: 1px\">\n",
       "        <textPath xlink:href=\"#arrow-5eb09e0b73564091bc75c4d27b8d819e-0-2\" class=\"displacy-label\" startOffset=\"50%\" side=\"left\" fill=\"currentColor\" text-anchor=\"middle\">aux</textPath>\n",
       "    </text>\n",
       "    <path class=\"displacy-arrowhead\" d=\"M270,104.0 L262,92.0 278,92.0\" fill=\"currentColor\"/>\n",
       "</g>\n",
       "\n",
       "<g class=\"displacy-arrow\">\n",
       "    <path class=\"displacy-arc\" id=\"arrow-5eb09e0b73564091bc75c4d27b8d819e-0-3\" stroke-width=\"2px\" d=\"M370,102.0 C370,52.0 445.0,52.0 445.0,102.0\" fill=\"none\" stroke=\"currentColor\"/>\n",
       "    <text dy=\"1.25em\" style=\"font-size: 0.8em; letter-spacing: 1px\">\n",
       "        <textPath xlink:href=\"#arrow-5eb09e0b73564091bc75c4d27b8d819e-0-3\" class=\"displacy-label\" startOffset=\"50%\" side=\"left\" fill=\"currentColor\" text-anchor=\"middle\">acomp</textPath>\n",
       "    </text>\n",
       "    <path class=\"displacy-arrowhead\" d=\"M445.0,104.0 L453.0,92.0 437.0,92.0\" fill=\"currentColor\"/>\n",
       "</g>\n",
       "</svg>"
      ],
      "text/plain": [
       "<IPython.core.display.HTML object>"
      ]
     },
     "metadata": {},
     "output_type": "display_data"
    }
   ],
   "source": [
    "doc = nlp('Seeing relatives can be tiresome.')\n",
    "displacy.render(doc, style=\"dep\", options={'distance':100})\n",
    "\n",
    "# Gerund ist Kopf, Nomen ist Dependent (direktes Objekt)"
   ]
  },
  {
   "cell_type": "markdown",
   "metadata": {},
   "source": [
    "\n",
    "---\n",
    "#### Welche Funktion im Satz nimmt das Nomen ein, wenn es Kopf der Gerund-Nomen-Konstituente ist?\n",
    "\n",
    "Subjekt (`nsubj`)\n",
    "\n",
    "---\n",
    "#### Welche Funktion innerhalb der Gerund-Nomen-Konstituente nimmt das Nomen ein, wenn das Gerund Kopf dieser Phrase ist?\n",
    "\n",
    "Objekt (`dobj`)\n",
    "\n",
    "---\n",
    "#### Welche Funktion im Hauptsatz nimmt das Gerund ein, wenn es Kopf der Gerund-Nomen-Konstituente ist?\n",
    "\n",
    "Subjekt (`csubj`)\n",
    "\n",
    "---\n",
    "#### Welche Funktion nimmt das Gerund ein, wenn das Nomen Kopf der Gerund-Nomen-Konstituente ist?\n",
    "\n",
    "Attribut (`amod`)"
   ]
  },
  {
   "cell_type": "markdown",
   "metadata": {},
   "source": [
    "---\n",
    "# Hausaufgaben"
   ]
  },
  {
   "cell_type": "markdown",
   "metadata": {},
   "source": [
    "---\n",
    "## Aufgabe 4: Darstellung syntaktischer Strukturen"
   ]
  },
  {
   "cell_type": "markdown",
   "metadata": {},
   "source": [
    "---\n",
    "### Aufgabe 4 a:\n",
    " \n",
    "#### Geben Sie zu folgendem Syntaxbaum den Klammerausdruck an (für den Fall, dass der Elefant den Pyjama trägt):"
   ]
  },
  {
   "cell_type": "code",
   "execution_count": 5,
   "metadata": {},
   "outputs": [
    {
     "name": "stdout",
     "output_type": "stream",
     "text": [
      "         I-shot-an_elepha                                              \n",
      "         nt-in_my_pajamas                                              \n",
      " ┌──────────────┴─────────────────┐                                     \n",
      " │                        shot-an_elephant-                            \n",
      " │                          in_my_pajamas                              \n",
      " │   ┌────────────────────────────┴───────────────┐                     \n",
      " │   │                                       an_elephant-              \n",
      " │   │                                      in_my_pajamas              \n",
      " │   │                            ┌───────────────┴─────────────┐       \n",
      " I  shot                     an_elephant                  in_my_pajamas\n",
      "\n"
     ]
    }
   ],
   "source": [
    "from nltk import Tree\n",
    "tree = Tree.fromstring(\"\"\"\n",
    "(I-shot-an_elephant-in_my_pajamas\n",
    "  I\n",
    "  (shot-an_elephant-in_my_pajamas\n",
    "    shot\n",
    "    (an_elephant-in_my_pajamas\n",
    "      an_elephant\n",
    "      in_my_pajamas\n",
    "    )\n",
    "  )\n",
    ")\n",
    "\"\"\")\n",
    "tree.pretty_print(unicodelines=True)"
   ]
  },
  {
   "cell_type": "code",
   "execution_count": 6,
   "metadata": {},
   "outputs": [
    {
     "name": "stdout",
     "output_type": "stream",
     "text": [
      "         ROOT                              \n",
      " ┌────────┴────────┐                        \n",
      " │                                         \n",
      " │   ┌─────────────┴───────┐                \n",
      " │   │                                     \n",
      " │   │             ┌───────┴────────┐       \n",
      " I  shot      an_elephant     in_my_pajamas\n",
      " │   │             │                │       \n",
      "... ...           ...              ...     \n",
      "\n"
     ]
    }
   ],
   "source": [
    "# hier den Klammerausdruck angeben:\n",
    "\n",
    "tree = Tree.fromstring(\"\"\"\n",
    "(ROOT\n",
    "    (I) ((shot) ((an_elephant) (in_my_pajamas)))\n",
    ")\n",
    "\"\"\")\n",
    "\n",
    "tree.pretty_print(unicodelines=True)"
   ]
  },
  {
   "cell_type": "markdown",
   "metadata": {},
   "source": [
    "---\n",
    "### Aufgabe 4 b:\n",
    "\n",
    "#### Geben Sie zu folgendem Klammerausdruck den Syntaxbaum an (wer trägt hier den Pyjama?)\n"
   ]
  },
  {
   "cell_type": "code",
   "execution_count": 9,
   "metadata": {},
   "outputs": [],
   "source": [
    "#[ [I] [ [ [shot] [an elephant] ] [in my pajamas] ] ]"
   ]
  },
  {
   "cell_type": "markdown",
   "metadata": {},
   "source": [
    "#### Klammern Sie dazu zunächst den Klammerausdruck aus 3a um:"
   ]
  },
  {
   "cell_type": "code",
   "execution_count": 7,
   "metadata": {},
   "outputs": [
    {
     "name": "stdout",
     "output_type": "stream",
     "text": [
      "         ROOT                          \n",
      " ┌────────┴────────┐                    \n",
      " │                                     \n",
      " │        ┌────────┴────────────┐       \n",
      " │                              │      \n",
      " │   ┌────┴────────┐            │       \n",
      " I  shot      an_elephant in_my_pajamas\n",
      " │   │             │            │       \n",
      "... ...           ...          ...     \n",
      "\n"
     ]
    }
   ],
   "source": [
    "# hier von 3a herunterkopieren und umklammern:\n",
    "\n",
    "tree = Tree.fromstring(\"\"\"\n",
    "(ROOT\n",
    "(I) (((shot) (an_elephant)) (in_my_pajamas))\n",
    ")\n",
    "\"\"\")\n",
    "\n",
    "tree.pretty_print(unicodelines=True)"
   ]
  },
  {
   "cell_type": "markdown",
   "metadata": {},
   "source": [
    "#### Geben Sie dann den entsprechende Syntaxbaum an, indem Sie den Satz in seine Subkonstituenten zerlegen:"
   ]
  },
  {
   "cell_type": "code",
   "execution_count": 8,
   "metadata": {},
   "outputs": [
    {
     "name": "stdout",
     "output_type": "stream",
     "text": [
      "         I-shot-an_elepha                                \n",
      "         nt-in_my_pajamas                                \n",
      " ┌──────────────┴─────────────────┐                       \n",
      " │                        shot-an_elephant-              \n",
      " │                          in_my_pajamas                \n",
      " │              ┌─────────────────┴───────────────┐       \n",
      " │       shot-an_elephant                         │      \n",
      " │   ┌──────────┴─────────────────┐               │       \n",
      " I  shot                     an_elephant    in_my_pajamas\n",
      " │   │                            │               │       \n",
      "... ...                          ...             ...     \n",
      "\n"
     ]
    }
   ],
   "source": [
    "# hier den Syntaxbaum angeben:\n",
    "\n",
    "tree = Tree.fromstring(\"\"\"\n",
    "(I-shot-an_elephant-in_my_pajamas\n",
    "    (I)\n",
    "    (shot-an_elephant-in_my_pajamas\n",
    "        (shot-an_elephant\n",
    "            (shot)\n",
    "            (an_elephant)\n",
    "        )\n",
    "        (in_my_pajamas)\n",
    "    )\n",
    ")\n",
    "\"\"\")\n",
    "\n",
    "tree.pretty_print(unicodelines=True)"
   ]
  }
 ],
 "metadata": {
  "kernelspec": {
   "display_name": "Python 3",
   "language": "python",
   "name": "python3"
  },
  "language_info": {
   "codemirror_mode": {
    "name": "ipython",
    "version": 3
   },
   "file_extension": ".py",
   "mimetype": "text/x-python",
   "name": "python",
   "nbconvert_exporter": "python",
   "pygments_lexer": "ipython3",
   "version": "3.6.1"
  },
  "widgets": {
   "application/vnd.jupyter.widget-state+json": {
    "state": {
     "005e9d3db89c42bab2046673f1525a46": {
      "model_module": "@jupyter-widgets/controls",
      "model_module_version": "1.2.0",
      "model_name": "VBoxModel",
      "state": {
       "children": [
        "IPY_MODEL_d14ddc11182742fb86712d4970aaa920",
        "IPY_MODEL_b2fd8ce5308446b1a9b71781501737fe",
        "IPY_MODEL_5dd93ccd541f40c880f979f777cbb78a"
       ],
       "layout": "IPY_MODEL_a47fd54ad7944096bed1ebefd4f86cba"
      }
     },
     "0067b34aa05f44b4b10594496bce8ef1": {
      "model_module": "@jupyter-widgets/base",
      "model_module_version": "1.0.0",
      "model_name": "LayoutModel",
      "state": {
       "width": "250px"
      }
     },
     "009c7acaf2604c2381324c6ed6becb86": {
      "model_module": "@jupyter-widgets/base",
      "model_module_version": "1.0.0",
      "model_name": "LayoutModel",
      "state": {
       "width": "600px"
      }
     },
     "010b316bf8da493fbb1892a32b3de01a": {
      "model_module": "@jupyter-widgets/controls",
      "model_module_version": "1.2.0",
      "model_name": "ButtonModel",
      "state": {
       "description": "formale Grammatik",
       "layout": "IPY_MODEL_29a9e617b150462baf8d9a2fc1c49b9a",
       "style": "IPY_MODEL_495b9ca64fbd44efb0331bc80c22e821"
      }
     },
     "0127676875d84ee6914661b485e3ebf8": {
      "model_module": "@jupyter-widgets/controls",
      "model_module_version": "1.2.0",
      "model_name": "VBoxModel",
      "state": {
       "children": [
        "IPY_MODEL_d5f92484d4864215a818d69a785eb160",
        "IPY_MODEL_b8a5a1c8b18c4b20b8b853c25e6ca8d1",
        "IPY_MODEL_fcf2b8cfdc96490d9b7906cdb716d5b9",
        "IPY_MODEL_c865d500a54d4459995a07c9e0e61ebb"
       ],
       "layout": "IPY_MODEL_2d632bd9727d4eaea3c3b5f7419a5f4e"
      }
     },
     "017f6b4747744760a8fec23242cdc820": {
      "model_module": "@jupyter-widgets/base",
      "model_module_version": "1.0.0",
      "model_name": "LayoutModel",
      "state": {
       "width": "250px"
      }
     },
     "029477edd59e4da7b8080429ec532cdb": {
      "model_module": "@jupyter-widgets/controls",
      "model_module_version": "1.2.0",
      "model_name": "DescriptionStyleModel",
      "state": {
       "description_width": ""
      }
     },
     "03a4b60b21824aafb76382f184248e5f": {
      "model_module": "@jupyter-widgets/base",
      "model_module_version": "1.0.0",
      "model_name": "LayoutModel",
      "state": {
       "width": "600px"
      }
     },
     "03fa2e3f8b364ff6ac93b112c2bd61d2": {
      "model_module": "@jupyter-widgets/controls",
      "model_module_version": "1.2.0",
      "model_name": "ButtonStyleModel",
      "state": {}
     },
     "0429bbc1ad08445e856fe2f8d423747d": {
      "model_module": "@jupyter-widgets/controls",
      "model_module_version": "1.2.0",
      "model_name": "ButtonStyleModel",
      "state": {}
     },
     "051aa8a703894c43875c583227ec7253": {
      "model_module": "@jupyter-widgets/base",
      "model_module_version": "1.0.0",
      "model_name": "LayoutModel",
      "state": {
       "justify_content": "center"
      }
     },
     "055a5ed1a10647489b0bebee220d04bf": {
      "model_module": "@jupyter-widgets/base",
      "model_module_version": "1.0.0",
      "model_name": "LayoutModel",
      "state": {
       "justify_content": "center"
      }
     },
     "055e47fb543746b694d497f87856f4ab": {
      "model_module": "@jupyter-widgets/controls",
      "model_module_version": "1.2.0",
      "model_name": "HBoxModel",
      "state": {
       "children": [
        "IPY_MODEL_5be2751332394e7fa4ecfa53135275b5",
        "IPY_MODEL_4d713a0d0f9d46a9b7a84eb196f4f01c"
       ],
       "layout": "IPY_MODEL_e4202b89bd8a49b09eaa216d47da492f"
      }
     },
     "058259e52eb6425183fd20b3dbf42aa8": {
      "model_module": "@jupyter-widgets/controls",
      "model_module_version": "1.2.0",
      "model_name": "ButtonModel",
      "state": {
       "description": "Übergenerierung",
       "layout": "IPY_MODEL_e950fc7efdf3432c83207afd36ba9c1d",
       "style": "IPY_MODEL_4371440da3e643a6874b40b5e4c22ef9"
      }
     },
     "065fbbc75b444f6b9e503d288e575f06": {
      "model_module": "@jupyter-widgets/controls",
      "model_module_version": "1.2.0",
      "model_name": "VBoxModel",
      "state": {
       "children": [
        "IPY_MODEL_10bb21683b9a4447b3c9514f6299542a",
        "IPY_MODEL_82f3624f1c1b465082889fdc1944134a",
        "IPY_MODEL_e318468ffef347418f4c975a9a685de4",
        "IPY_MODEL_5f0d7cb1fd8842e48d176997ea7d25af"
       ],
       "layout": "IPY_MODEL_53c959841a2147fda90f8d3c971b6580"
      }
     },
     "074897fda68341b0b9e14003481cee3c": {
      "model_module": "@jupyter-widgets/controls",
      "model_module_version": "1.2.0",
      "model_name": "ButtonStyleModel",
      "state": {
       "button_color": "lightgreen"
      }
     },
     "089674efebb24f19ae0a7739ba7d70d8": {
      "model_module": "@jupyter-widgets/base",
      "model_module_version": "1.0.0",
      "model_name": "LayoutModel",
      "state": {
       "width": "600px"
      }
     },
     "096f454f2ff54f5fa91d8299cb8e5063": {
      "model_module": "@jupyter-widgets/controls",
      "model_module_version": "1.2.0",
      "model_name": "CheckboxModel",
      "state": {
       "description": "semantische",
       "disabled": false,
       "layout": "IPY_MODEL_b951612deb2142aca8429d48daca7f68",
       "style": "IPY_MODEL_1eaf71704725470db95788401fa2b74d",
       "value": false
      }
     },
     "09c614ea518e4b889e8035d988a1bd26": {
      "model_module": "@jupyter-widgets/controls",
      "model_module_version": "1.2.0",
      "model_name": "VBoxModel",
      "state": {
       "children": [
        "IPY_MODEL_a762c9da18ab498cb2529daa6b9b2be1",
        "IPY_MODEL_c2f2641d2f67477783cdef976883ce1e",
        "IPY_MODEL_e7e755f300924e26b5cb6f22876fe8d0",
        "IPY_MODEL_26de8bd882454892b16ba172e37f0e5d"
       ],
       "layout": "IPY_MODEL_d500b11aef1647299677802f33e0bdbb"
      }
     },
     "09ffd50b427b4eaca8d5086c9db86ed9": {
      "model_module": "@jupyter-widgets/base",
      "model_module_version": "1.0.0",
      "model_name": "LayoutModel",
      "state": {
       "width": "600px"
      }
     },
     "0a2fafaf073d4ce79d115e972226225d": {
      "model_module": "@jupyter-widgets/controls",
      "model_module_version": "1.2.0",
      "model_name": "ButtonStyleModel",
      "state": {}
     },
     "0a83a0a708ce447e87c5dc81b6bdd57c": {
      "model_module": "@jupyter-widgets/controls",
      "model_module_version": "1.2.0",
      "model_name": "HTMLModel",
      "state": {
       "layout": "IPY_MODEL_9f36b18254124ebb869f84dc337637ee",
       "style": "IPY_MODEL_e51c6af1ae6a48e1ba31b4a9e58ea3b9",
       "value": "<h4 style=\"font-size:14px;\">In welcher Form wird die syntaktische Struktur eines Satzes beim Aufruf von NLTK print(tree) erstellt?</h4>"
      }
     },
     "0b92644107da48c2a147c50f02b8aeb9": {
      "model_module": "@jupyter-widgets/base",
      "model_module_version": "1.0.0",
      "model_name": "LayoutModel",
      "state": {
       "justify_content": "center"
      }
     },
     "0bb32229da9441b89f42b010754071a8": {
      "model_module": "@jupyter-widgets/base",
      "model_module_version": "1.0.0",
      "model_name": "LayoutModel",
      "state": {
       "width": "250px"
      }
     },
     "0c5e17b29d4c4a0281b55f3aa466960e": {
      "model_module": "@jupyter-widgets/base",
      "model_module_version": "1.0.0",
      "model_name": "LayoutModel",
      "state": {
       "justify_content": "center"
      }
     },
     "0c9c41e6962b44b7beacccaae52fe2f4": {
      "model_module": "@jupyter-widgets/controls",
      "model_module_version": "1.2.0",
      "model_name": "DescriptionStyleModel",
      "state": {
       "description_width": ""
      }
     },
     "0cb869439c10473988c4fed21335d653": {
      "model_module": "@jupyter-widgets/controls",
      "model_module_version": "1.2.0",
      "model_name": "DescriptionStyleModel",
      "state": {
       "description_width": ""
      }
     },
     "0cc18d45e013436fb16cb7e0d6410c08": {
      "model_module": "@jupyter-widgets/base",
      "model_module_version": "1.0.0",
      "model_name": "LayoutModel",
      "state": {
       "width": "250px"
      }
     },
     "0e9cafe71edf441b9d077dd9778c1857": {
      "model_module": "@jupyter-widgets/controls",
      "model_module_version": "1.2.0",
      "model_name": "ButtonModel",
      "state": {
       "description": "Parser",
       "layout": "IPY_MODEL_dc7aa6cb98c44031919c7c9bc5280170",
       "style": "IPY_MODEL_4db63b9979ef4d2ab747e1c5ba3554b8"
      }
     },
     "0f50e62f9a984e0fbfc1abab1e2885d6": {
      "model_module": "@jupyter-widgets/base",
      "model_module_version": "1.0.0",
      "model_name": "LayoutModel",
      "state": {}
     },
     "0f5c6d5781d74d4aa733802ea70e0151": {
      "model_module": "@jupyter-widgets/controls",
      "model_module_version": "1.2.0",
      "model_name": "ButtonModel",
      "state": {
       "description": "formale Grammatik",
       "layout": "IPY_MODEL_9ce5ca1b3f614251adc4405f71668819",
       "style": "IPY_MODEL_501efc1f1f1a4ca4a8d129b75569fe8c"
      }
     },
     "0fe3cb774fd8480a8787f775584cec15": {
      "model_module": "@jupyter-widgets/base",
      "model_module_version": "1.0.0",
      "model_name": "LayoutModel",
      "state": {
       "align_content": "stretch",
       "align_items": "stretch",
       "display": "inline-flex",
       "flex": "flex-grow",
       "flex_flow": "row wrap",
       "justify_content": "flex-start"
      }
     },
     "103fd8124f744469906f705713e074ad": {
      "model_module": "@jupyter-widgets/controls",
      "model_module_version": "1.2.0",
      "model_name": "ButtonModel",
      "state": {
       "description": "Korrekt?",
       "layout": "IPY_MODEL_1fdf55d2683a490c921fea4c2fbb05e0",
       "style": "IPY_MODEL_ab2f19b3823f4bd5a42e6da11df96aca"
      }
     },
     "1099ca64a6564285b5244ccb15f7685a": {
      "model_module": "@jupyter-widgets/base",
      "model_module_version": "1.0.0",
      "model_name": "LayoutModel",
      "state": {}
     },
     "10bb21683b9a4447b3c9514f6299542a": {
      "model_module": "@jupyter-widgets/controls",
      "model_module_version": "1.2.0",
      "model_name": "HTMLModel",
      "state": {
       "layout": "IPY_MODEL_5d4c7cd4dcd84196b7a6d2b1c81a8c2f",
       "style": "IPY_MODEL_14f794bbb972495a98390e7f206fabab",
       "value": "<h4 style=\"font-size:14px;\">In welcher Form wird die syntaktische Struktur eines Satzes beim Aufruf von NLTK tree.draw() erstellt?</h4>"
      }
     },
     "10cbf9bdf2cb4395879cf78fd4e812a3": {
      "model_module": "@jupyter-widgets/controls",
      "model_module_version": "1.2.0",
      "model_name": "HBoxModel",
      "state": {
       "children": [
        "IPY_MODEL_c07d453aa34d4e559936520bfb89aa73",
        "IPY_MODEL_981859649b5646eb80ceed045007654c"
       ],
       "layout": "IPY_MODEL_43b626b5518b43438206139737664777"
      }
     },
     "11c6cca1e41a47efb30f30f3c650cb08": {
      "model_module": "@jupyter-widgets/controls",
      "model_module_version": "1.2.0",
      "model_name": "DescriptionStyleModel",
      "state": {
       "description_width": ""
      }
     },
     "11c84db697684b2796cc95d378262dd0": {
      "model_module": "@jupyter-widgets/base",
      "model_module_version": "1.0.0",
      "model_name": "LayoutModel",
      "state": {
       "width": "250px"
      }
     },
     "11db17d93e8849869df6cdf567404ff4": {
      "model_module": "@jupyter-widgets/controls",
      "model_module_version": "1.2.0",
      "model_name": "HTMLModel",
      "state": {
       "layout": "IPY_MODEL_5dd491538d9648a6a6df0cd9280484a9",
       "style": "IPY_MODEL_53632ddece244c8093f7f2f16f21153f",
       "value": "<h4 style=\"font-size:14px;\">der Grammatik, der sich auf die</h4>"
      }
     },
     "12dcc5e614fe4a88a61b3301fe95021f": {
      "model_module": "@jupyter-widgets/base",
      "model_module_version": "1.0.0",
      "model_name": "LayoutModel",
      "state": {}
     },
     "12df7b15bfac4c2a99db5b9f2e31c7b8": {
      "model_module": "@jupyter-widgets/controls",
      "model_module_version": "1.2.0",
      "model_name": "ButtonStyleModel",
      "state": {}
     },
     "134a15b16f8641bca98ffa24a5461a62": {
      "model_module": "@jupyter-widgets/base",
      "model_module_version": "1.0.0",
      "model_name": "LayoutModel",
      "state": {}
     },
     "13e64b36aacc4505bc62995821f4dafe": {
      "model_module": "@jupyter-widgets/base",
      "model_module_version": "1.0.0",
      "model_name": "LayoutModel",
      "state": {
       "width": "250px"
      }
     },
     "1416e4104fb243648b1b99d25a932657": {
      "model_module": "@jupyter-widgets/controls",
      "model_module_version": "1.2.0",
      "model_name": "VBoxModel",
      "state": {
       "children": [
        "IPY_MODEL_74479edcfdd440f28f6b3ac216bdac4b",
        "IPY_MODEL_d8060f959e3242579d261bd7b738e7f1",
        "IPY_MODEL_8d395269f7614c668dd16ad30d936c33",
        "IPY_MODEL_10cbf9bdf2cb4395879cf78fd4e812a3",
        "IPY_MODEL_e5fa1a0de63c430f9ea50de9320667a1"
       ],
       "layout": "IPY_MODEL_876a10678047437488066bf789ada780"
      }
     },
     "14285e0e11134c6abe569c64487625e8": {
      "model_module": "@jupyter-widgets/controls",
      "model_module_version": "1.2.0",
      "model_name": "DescriptionStyleModel",
      "state": {
       "description_width": ""
      }
     },
     "145a2d6091c2412dba8e0bd4ac010b39": {
      "model_module": "@jupyter-widgets/base",
      "model_module_version": "1.0.0",
      "model_name": "LayoutModel",
      "state": {
       "width": "250px"
      }
     },
     "1494d8f6d9f644728f69743ad482c95d": {
      "model_module": "@jupyter-widgets/controls",
      "model_module_version": "1.2.0",
      "model_name": "HBoxModel",
      "state": {
       "children": [
        "IPY_MODEL_72212dc1e54649b9978ad6e04d6d54da",
        "IPY_MODEL_debb80f4d1e94971ac00e4d82552b8c5"
       ],
       "layout": "IPY_MODEL_77726f5b9747436cbdce1b580e1c0682"
      }
     },
     "14e92831803542029496555f7c237bbd": {
      "model_module": "@jupyter-widgets/base",
      "model_module_version": "1.0.0",
      "model_name": "LayoutModel",
      "state": {}
     },
     "14f794bbb972495a98390e7f206fabab": {
      "model_module": "@jupyter-widgets/controls",
      "model_module_version": "1.2.0",
      "model_name": "DescriptionStyleModel",
      "state": {
       "description_width": ""
      }
     },
     "14fe3e610e2c4c3b888778af869bfe61": {
      "model_module": "@jupyter-widgets/controls",
      "model_module_version": "1.2.0",
      "model_name": "DescriptionStyleModel",
      "state": {
       "description_width": ""
      }
     },
     "155d69a44a754e8b87f413e78c4f768f": {
      "model_module": "@jupyter-widgets/base",
      "model_module_version": "1.0.0",
      "model_name": "LayoutModel",
      "state": {
       "justify_content": "center"
      }
     },
     "15c4a27074ad4529ba79d973b497573a": {
      "model_module": "@jupyter-widgets/controls",
      "model_module_version": "1.2.0",
      "model_name": "VBoxModel",
      "state": {
       "children": [
        "IPY_MODEL_6848ebc5b5b24989953d7dfd6a402df2",
        "IPY_MODEL_77364546eb2847019743b8fa7d5b5fc1",
        "IPY_MODEL_3e873c58fae948cea410dc71a5054580",
        "IPY_MODEL_7710eade74294561a7f0f2a91446eb7f"
       ],
       "layout": "IPY_MODEL_5b77b9c69a3b46f1823b06b5c35c6000"
      }
     },
     "16dd07161bdf4fad976b6d4b8cd8e58e": {
      "model_module": "@jupyter-widgets/controls",
      "model_module_version": "1.2.0",
      "model_name": "ButtonModel",
      "state": {
       "description": "Keine der anderen Möglichkeiten",
       "layout": "IPY_MODEL_cf0af1964ef44c26bc2d3270c90ef9c1",
       "style": "IPY_MODEL_e21473ab567f408698f8df9adaafa42b"
      }
     },
     "17b456d011da4b3ca8a6f2549bd97740": {
      "model_module": "@jupyter-widgets/controls",
      "model_module_version": "1.2.0",
      "model_name": "HTMLModel",
      "state": {
       "layout": "IPY_MODEL_0b92644107da48c2a147c50f02b8aeb9",
       "style": "IPY_MODEL_9a03a37ce35b47e0afb15260cfcd150d",
       "value": "<h4 style=\"font-size:14px;\">Welcher Grammatikbegriff liegt Satz 2 zugrunde?</h4>"
      }
     },
     "17bf6fadda004616915b721c08e95d74": {
      "model_module": "@jupyter-widgets/controls",
      "model_module_version": "1.2.0",
      "model_name": "DropdownModel",
      "state": {
       "_options_labels": [
        "Keine der Alternativen",
        "der Ort des Geschehens wird festgelegt",
        "die PP wird dem Substantiv beigefügt",
        "die im Verb ausgedrückte Tätigkeit wird modifiziert"
       ],
       "description": "Antwort:",
       "index": 0,
       "layout": "IPY_MODEL_c8ea7d526fc341ee80ae693151f07fdb",
       "style": "IPY_MODEL_622cc5c415374f8ea04d3d0df4adc9dc"
      }
     },
     "1840eb9ef5a842b8b33058da3d0e7d65": {
      "model_module": "@jupyter-widgets/controls",
      "model_module_version": "1.2.0",
      "model_name": "ButtonStyleModel",
      "state": {}
     },
     "18a90e94f7d04a058c763bc1bd56addb": {
      "model_module": "@jupyter-widgets/controls",
      "model_module_version": "1.2.0",
      "model_name": "DescriptionStyleModel",
      "state": {
       "description_width": ""
      }
     },
     "19054afd932a40ec98e005e3b22f9c3c": {
      "model_module": "@jupyter-widgets/controls",
      "model_module_version": "1.2.0",
      "model_name": "HBoxModel",
      "state": {
       "children": [
        "IPY_MODEL_058259e52eb6425183fd20b3dbf42aa8",
        "IPY_MODEL_57d09445acfc44e19814cb9c7b4dc0cf"
       ],
       "layout": "IPY_MODEL_d9728f6befc94671907f4772e9ba6883"
      }
     },
     "19604275eb0b4e42abd28be19106713c": {
      "model_module": "@jupyter-widgets/controls",
      "model_module_version": "1.2.0",
      "model_name": "VBoxModel",
      "state": {
       "children": [
        "IPY_MODEL_373b9c55a829417793836a063e0c31a1",
        "IPY_MODEL_ed7e907895cd48d79c2820ac0b935add",
        "IPY_MODEL_e0734ab6b7ce426f9dd71cf930af8e19"
       ],
       "layout": "IPY_MODEL_5be33dcec7b04a0e8d36c7ac43645d3d"
      }
     },
     "19b48c7e223d4785a2611fd7a65fffd4": {
      "model_module": "@jupyter-widgets/controls",
      "model_module_version": "1.2.0",
      "model_name": "DescriptionStyleModel",
      "state": {
       "description_width": ""
      }
     },
     "1a54ab11878f4ebf89bc2b95c2f182b5": {
      "model_module": "@jupyter-widgets/controls",
      "model_module_version": "1.2.0",
      "model_name": "DescriptionStyleModel",
      "state": {
       "description_width": ""
      }
     },
     "1ab818cf820a4a01b48f2a1f59d14d93": {
      "model_module": "@jupyter-widgets/base",
      "model_module_version": "1.0.0",
      "model_name": "LayoutModel",
      "state": {
       "width": "250px"
      }
     },
     "1b2dde9efb684b35b89b1069b265cad5": {
      "model_module": "@jupyter-widgets/base",
      "model_module_version": "1.0.0",
      "model_name": "LayoutModel",
      "state": {}
     },
     "1b4de9928c0442b9990b52074d1ca478": {
      "model_module": "@jupyter-widgets/base",
      "model_module_version": "1.0.0",
      "model_name": "LayoutModel",
      "state": {
       "width": "250px"
      }
     },
     "1c66a0f781104b8db9cf4422ff943f4f": {
      "model_module": "@jupyter-widgets/base",
      "model_module_version": "1.0.0",
      "model_name": "LayoutModel",
      "state": {
       "justify_content": "center"
      }
     },
     "1d6764cd47f44ba89bbe9c31ddf36f46": {
      "model_module": "@jupyter-widgets/controls",
      "model_module_version": "1.2.0",
      "model_name": "DescriptionStyleModel",
      "state": {
       "description_width": ""
      }
     },
     "1eaf71704725470db95788401fa2b74d": {
      "model_module": "@jupyter-widgets/controls",
      "model_module_version": "1.2.0",
      "model_name": "DescriptionStyleModel",
      "state": {
       "description_width": "initial"
      }
     },
     "1ece0b6f5be341f9b9aeb48f3da189c2": {
      "model_module": "@jupyter-widgets/controls",
      "model_module_version": "1.2.0",
      "model_name": "HTMLModel",
      "state": {
       "layout": "IPY_MODEL_94b29706400948a3be75baf36418bcbb",
       "style": "IPY_MODEL_86c1b662bb8e4025b15c3753932ac513",
       "value": "<h4 style=\"font-size:14px;\">Welche Funktion im Hauptsatz nimmt das Gerund ein, wenn es Kopf der Gerund-Nomen-Phrase ist?</h4>"
      }
     },
     "1fdf55d2683a490c921fea4c2fbb05e0": {
      "model_module": "@jupyter-widgets/base",
      "model_module_version": "1.0.0",
      "model_name": "LayoutModel",
      "state": {
       "width": "250px"
      }
     },
     "200793e2c15d453a972f08f1a3114411": {
      "model_module": "@jupyter-widgets/controls",
      "model_module_version": "1.2.0",
      "model_name": "HTMLModel",
      "state": {
       "layout": "IPY_MODEL_c4b48066019f4847b331045403c4dd90",
       "style": "IPY_MODEL_c217556cf8d5444780cd41af831dcb11",
       "value": "<h4 style=\"font-size:14px;\">Warum gibt die parse-Funktion des Skripts vermutlich eine Sequenz zurück?</h4>"
      }
     },
     "206841ab75684935904ce059ad6261fd": {
      "model_module": "@jupyter-widgets/base",
      "model_module_version": "1.0.0",
      "model_name": "LayoutModel",
      "state": {}
     },
     "20d2d52b9a0e4369a92b2777e5d0aed4": {
      "model_module": "@jupyter-widgets/base",
      "model_module_version": "1.0.0",
      "model_name": "LayoutModel",
      "state": {}
     },
     "21a261137b1b44bab4076799c0175668": {
      "model_module": "@jupyter-widgets/base",
      "model_module_version": "1.0.0",
      "model_name": "LayoutModel",
      "state": {
       "width": "600px"
      }
     },
     "22ea6dc61a954c588457bd254c49a1cf": {
      "model_module": "@jupyter-widgets/controls",
      "model_module_version": "1.2.0",
      "model_name": "CheckboxModel",
      "state": {
       "description": "Dependenzgraph mit Phrasenlabels als Knoten",
       "disabled": false,
       "layout": "IPY_MODEL_e90ab807d1a44e558d6393245f809129",
       "style": "IPY_MODEL_e1e1a837e6044f3eb46265749c88ab88",
       "value": false
      }
     },
     "238a0718aea94aa7b494c6f2e975a231": {
      "model_module": "@jupyter-widgets/controls",
      "model_module_version": "1.2.0",
      "model_name": "HTMLModel",
      "state": {
       "layout": "IPY_MODEL_0c5e17b29d4c4a0281b55f3aa466960e",
       "style": "IPY_MODEL_51b19681991b46f6a06af787b8496260",
       "value": "<i>Markieren Sie <ins>alle</ins> passenden Antworten: </i>"
      }
     },
     "23dd715b6e6d4bab8655af8942018190": {
      "model_module": "@jupyter-widgets/base",
      "model_module_version": "1.0.0",
      "model_name": "LayoutModel",
      "state": {
       "width": "250px"
      }
     },
     "23f688d76cf04177adf43e44570d4a04": {
      "model_module": "@jupyter-widgets/controls",
      "model_module_version": "1.2.0",
      "model_name": "ButtonStyleModel",
      "state": {}
     },
     "24050d407215433b81d5b6df06b96fc5": {
      "model_module": "@jupyter-widgets/controls",
      "model_module_version": "1.2.0",
      "model_name": "HTMLModel",
      "state": {
       "layout": "IPY_MODEL_5b3bf580090f4fd8ab2e3ef5ef0f0909",
       "style": "IPY_MODEL_4f89e98408f144dbbc273bb45ab48074",
       "value": "<i>Wählen Sie die <ins>eine</ins> korrekte Antwort aus: </i>"
      }
     },
     "243d4bdd16df4bef87fe85625dee9bc9": {
      "model_module": "@jupyter-widgets/controls",
      "model_module_version": "1.2.0",
      "model_name": "DescriptionStyleModel",
      "state": {
       "description_width": "initial"
      }
     },
     "249af919e222421bb8218e5ea601a154": {
      "model_module": "@jupyter-widgets/controls",
      "model_module_version": "1.2.0",
      "model_name": "DescriptionStyleModel",
      "state": {
       "description_width": ""
      }
     },
     "24b4f8d281134caf8e8498f63d365cb6": {
      "model_module": "@jupyter-widgets/controls",
      "model_module_version": "1.2.0",
      "model_name": "DescriptionStyleModel",
      "state": {
       "description_width": ""
      }
     },
     "25d36b9b4e144e12975a70cc82339bb9": {
      "model_module": "@jupyter-widgets/controls",
      "model_module_version": "1.2.0",
      "model_name": "ButtonStyleModel",
      "state": {}
     },
     "25dd903105d84fb9a9e41814064da174": {
      "model_module": "@jupyter-widgets/controls",
      "model_module_version": "1.2.0",
      "model_name": "DescriptionStyleModel",
      "state": {
       "description_width": "initial"
      }
     },
     "263b23f9c1a0465dabad68a830802db8": {
      "model_module": "@jupyter-widgets/controls",
      "model_module_version": "1.2.0",
      "model_name": "HTMLModel",
      "state": {
       "layout": "IPY_MODEL_409fb8774d934f92997f5ae701636256",
       "style": "IPY_MODEL_8aeb065e07ea418d8bc11461649c53ec",
       "value": "<h4 style=\"font-size:14px;\">Welche Funktion im Satz nimmt das Nomen ein, wenn es Kopf der Gerund-Nomen-Phrase ist?</h4>"
      }
     },
     "26bc2067205b43308a99513cbabf6b65": {
      "model_module": "@jupyter-widgets/base",
      "model_module_version": "1.0.0",
      "model_name": "LayoutModel",
      "state": {}
     },
     "26de8bd882454892b16ba172e37f0e5d": {
      "model_module": "@jupyter-widgets/controls",
      "model_module_version": "1.2.0",
      "model_name": "ButtonModel",
      "state": {
       "description": "Korrekt?",
       "layout": "IPY_MODEL_fe2cb38f1ec04dd4bbffce50fe8e4292",
       "style": "IPY_MODEL_bfce68bb81de4a67bcde45a5a57cdb73"
      }
     },
     "27896634902340529c90603751607e8a": {
      "model_module": "@jupyter-widgets/controls",
      "model_module_version": "1.2.0",
      "model_name": "CheckboxModel",
      "state": {
       "description": "Sinnhaftigkeit",
       "disabled": false,
       "layout": "IPY_MODEL_e9b448b0a9644c0ebd395c2d4d8e675b",
       "style": "IPY_MODEL_5ddb58512e9c429485e2e2c906632cfd",
       "value": false
      }
     },
     "27ddeaa797b14edda8885000921fbaf3": {
      "model_module": "@jupyter-widgets/controls",
      "model_module_version": "1.2.0",
      "model_name": "ButtonModel",
      "state": {
       "description": "Theorie der Sprachstruktur",
       "layout": "IPY_MODEL_b46a13f265844919bd38fab9c2729985",
       "style": "IPY_MODEL_a5896055b6774c319d11254af152c39f"
      }
     },
     "2858f29b1878479fba7a5fe717daad46": {
      "model_module": "@jupyter-widgets/controls",
      "model_module_version": "1.2.0",
      "model_name": "HTMLModel",
      "state": {
       "layout": "IPY_MODEL_dadf1e4ae46747a9a9c2513037b58c69",
       "style": "IPY_MODEL_1d6764cd47f44ba89bbe9c31ddf36f46",
       "value": "<h4 style=\"font-size:14px;\">Zu welcher Phrase kann die Präpositionalphrase \"in my pajamas\" gehören?</h4>"
      }
     },
     "285f9c3e728f45fd9f93d337060be5f7": {
      "model_module": "@jupyter-widgets/controls",
      "model_module_version": "1.2.0",
      "model_name": "ButtonStyleModel",
      "state": {}
     },
     "289ad826dacc4b948a6b463a7c450efc": {
      "model_module": "@jupyter-widgets/controls",
      "model_module_version": "1.2.0",
      "model_name": "DescriptionStyleModel",
      "state": {
       "description_width": ""
      }
     },
     "29a59f8f2bca4026b6dafa8ce734e0da": {
      "model_module": "@jupyter-widgets/controls",
      "model_module_version": "1.2.0",
      "model_name": "HTMLModel",
      "state": {
       "layout": "IPY_MODEL_26bc2067205b43308a99513cbabf6b65",
       "style": "IPY_MODEL_ac77ec911410471f8364276616c5a647",
       "value": "<h4 style=\"font-size:14px;\">Was sind die 3 grundlegenden Beschreibungsebenen der Grammatik natürlicher Sprachen?</h4>"
      }
     },
     "29a9e617b150462baf8d9a2fc1c49b9a": {
      "model_module": "@jupyter-widgets/base",
      "model_module_version": "1.0.0",
      "model_name": "LayoutModel",
      "state": {
       "width": "250px"
      }
     },
     "29c57bb7f09940baa9973f71ebcf77b3": {
      "model_module": "@jupyter-widgets/controls",
      "model_module_version": "1.2.0",
      "model_name": "DescriptionStyleModel",
      "state": {
       "description_width": ""
      }
     },
     "2a8ab84315da46b2b90149a60d4b85fd": {
      "model_module": "@jupyter-widgets/base",
      "model_module_version": "1.0.0",
      "model_name": "LayoutModel",
      "state": {
       "justify_content": "center"
      }
     },
     "2aaef2613c03437aaeddf316fbb7b675": {
      "model_module": "@jupyter-widgets/controls",
      "model_module_version": "1.2.0",
      "model_name": "DescriptionStyleModel",
      "state": {
       "description_width": ""
      }
     },
     "2ba060f213c24e4eabf951e206e7783d": {
      "model_module": "@jupyter-widgets/controls",
      "model_module_version": "1.2.0",
      "model_name": "VBoxModel",
      "state": {
       "children": [
        "IPY_MODEL_29a59f8f2bca4026b6dafa8ce734e0da",
        "IPY_MODEL_ef8bd930bf204729982ce5e9b0ff6494",
        "IPY_MODEL_005e9d3db89c42bab2046673f1525a46",
        "IPY_MODEL_4f62898cb9bb4205acbfb7d4454dc7a2"
       ],
       "layout": "IPY_MODEL_f8d848360e3c4c479071378aed62fad8"
      }
     },
     "2bb6473093fa4744bbf21a59ab585258": {
      "model_module": "@jupyter-widgets/controls",
      "model_module_version": "1.2.0",
      "model_name": "HTMLModel",
      "state": {
       "layout": "IPY_MODEL_206841ab75684935904ce059ad6261fd",
       "style": "IPY_MODEL_19b48c7e223d4785a2611fd7a65fffd4",
       "value": "<h4 style=\"font-size:14px;\">In welcher Beziehung können Gerund und nachfolgendes Nomen stehen?</h4>"
      }
     },
     "2bbd7bc3ebf642cfb34016818c9a300a": {
      "model_module": "@jupyter-widgets/controls",
      "model_module_version": "1.2.0",
      "model_name": "ButtonStyleModel",
      "state": {}
     },
     "2c5a3f9a2ff84de9b56d7b2826afab02": {
      "model_module": "@jupyter-widgets/controls",
      "model_module_version": "1.2.0",
      "model_name": "ButtonStyleModel",
      "state": {}
     },
     "2d632bd9727d4eaea3c3b5f7419a5f4e": {
      "model_module": "@jupyter-widgets/base",
      "model_module_version": "1.0.0",
      "model_name": "LayoutModel",
      "state": {}
     },
     "2d817c85d6534b3eaca78c777abdff31": {
      "model_module": "@jupyter-widgets/controls",
      "model_module_version": "1.2.0",
      "model_name": "HTMLModel",
      "state": {
       "layout": "IPY_MODEL_b151c3dac35c4ad9b01e2e40a6966187",
       "style": "IPY_MODEL_14fe3e610e2c4c3b888778af869bfe61",
       "value": "<i>Wählen Sie die <ins>eine</ins> korrekte Antwort aus: </i>"
      }
     },
     "2de83b9572b64c12bcd2291ed305269a": {
      "model_module": "@jupyter-widgets/controls",
      "model_module_version": "1.2.0",
      "model_name": "VBoxModel",
      "state": {
       "children": [
        "IPY_MODEL_f3444976a4674527bff7ae7243a529b1",
        "IPY_MODEL_4fa30a3f5f46421f8efe928ab1174a6e",
        "IPY_MODEL_b6162b2cf71b49e28ce351313899634c"
       ],
       "layout": "IPY_MODEL_eef3e282120e4efc9bb7e8a76c0760d0"
      }
     },
     "2e1afaf4d5cd457c9c5e687779cf7838": {
      "model_module": "@jupyter-widgets/base",
      "model_module_version": "1.0.0",
      "model_name": "LayoutModel",
      "state": {
       "width": "250px"
      }
     },
     "2e1e152c3daf419ca713c850b3e57fbb": {
      "model_module": "@jupyter-widgets/base",
      "model_module_version": "1.0.0",
      "model_name": "LayoutModel",
      "state": {}
     },
     "2f2162464769488cbe9d6cf0d448312a": {
      "model_module": "@jupyter-widgets/base",
      "model_module_version": "1.0.0",
      "model_name": "LayoutModel",
      "state": {
       "justify_content": "center"
      }
     },
     "305dddd07dff47caaf25ad59e5039417": {
      "model_module": "@jupyter-widgets/controls",
      "model_module_version": "1.2.0",
      "model_name": "ButtonModel",
      "state": {
       "description": "Keine der anderen Möglichkeiten",
       "layout": "IPY_MODEL_48871f2126eb4d73b16022625d7fb55f",
       "style": "IPY_MODEL_45941ae4112e4e66a3e2dd141692f0f4"
      }
     },
     "31a53be331484cf3bc613db3bbb8ed15": {
      "model_module": "@jupyter-widgets/controls",
      "model_module_version": "1.2.0",
      "model_name": "ButtonStyleModel",
      "state": {}
     },
     "31bddde90a934ce69006702a766c4dd4": {
      "model_module": "@jupyter-widgets/base",
      "model_module_version": "1.0.0",
      "model_name": "LayoutModel",
      "state": {}
     },
     "31f2a08ee60c477a93ca83b35afbcfd9": {
      "model_module": "@jupyter-widgets/base",
      "model_module_version": "1.0.0",
      "model_name": "LayoutModel",
      "state": {
       "justify_content": "center"
      }
     },
     "329c1b19003d4ba6918b8f6f9f338216": {
      "model_module": "@jupyter-widgets/base",
      "model_module_version": "1.0.0",
      "model_name": "LayoutModel",
      "state": {
       "justify_content": "center"
      }
     },
     "32dbe93bba394ff9b9362f6a77bea13f": {
      "model_module": "@jupyter-widgets/base",
      "model_module_version": "1.0.0",
      "model_name": "LayoutModel",
      "state": {
       "width": "250px"
      }
     },
     "32f08a365bf3482f8292e01a7be0d0e4": {
      "model_module": "@jupyter-widgets/base",
      "model_module_version": "1.0.0",
      "model_name": "LayoutModel",
      "state": {
       "width": "600px"
      }
     },
     "3481ff9cf3d245e58bd408a37893294c": {
      "model_module": "@jupyter-widgets/controls",
      "model_module_version": "1.2.0",
      "model_name": "HTMLModel",
      "state": {
       "layout": "IPY_MODEL_55d478e74de84d3086f061ba42545d86",
       "style": "IPY_MODEL_c279e763d11f4740ad1e785f88836a5c",
       "value": "<h4 style=\"font-size:14px;\">Konstituenz ist synonym zu:</h4>"
      }
     },
     "348d49209ee74ee7a1b51dfe7514a22f": {
      "model_module": "@jupyter-widgets/controls",
      "model_module_version": "1.2.0",
      "model_name": "VBoxModel",
      "state": {
       "children": [
        "IPY_MODEL_ab5b4590c09b41a6b4c35fdb62749175",
        "IPY_MODEL_9314d05859a6407586bad82f86368bb2",
        "IPY_MODEL_fbf0721175224071a95cb040205fb50d",
        "IPY_MODEL_9f530ea448314914ae3488c1b4dc8938"
       ],
       "layout": "IPY_MODEL_20d2d52b9a0e4369a92b2777e5d0aed4"
      }
     },
     "34ac45b445ff405bb7f82a4c80b35104": {
      "model_module": "@jupyter-widgets/controls",
      "model_module_version": "1.2.0",
      "model_name": "CheckboxModel",
      "state": {
       "description": "Nomen ist Dependent in einem nichtfiniten Teilsatz",
       "disabled": false,
       "layout": "IPY_MODEL_7020157c04904da7abf7e1bf9968e2e0",
       "style": "IPY_MODEL_abf1b515b0834d26ad6aef7342f70ce5",
       "value": false
      }
     },
     "3500f31e0d034aa08dc67e5f993328dd": {
      "model_module": "@jupyter-widgets/base",
      "model_module_version": "1.0.0",
      "model_name": "LayoutModel",
      "state": {
       "width": "600px"
      }
     },
     "3610981d34034a0c8db109cd237b40ca": {
      "model_module": "@jupyter-widgets/base",
      "model_module_version": "1.0.0",
      "model_name": "LayoutModel",
      "state": {}
     },
     "3644e501d7714677bd5a744e732e0102": {
      "model_module": "@jupyter-widgets/base",
      "model_module_version": "1.0.0",
      "model_name": "LayoutModel",
      "state": {
       "justify_content": "center"
      }
     },
     "372c1a37de434a1fa0c4ec043ed8357d": {
      "model_module": "@jupyter-widgets/controls",
      "model_module_version": "1.2.0",
      "model_name": "ButtonStyleModel",
      "state": {}
     },
     "373b9c55a829417793836a063e0c31a1": {
      "model_module": "@jupyter-widgets/controls",
      "model_module_version": "1.2.0",
      "model_name": "HTMLModel",
      "state": {
       "layout": "IPY_MODEL_5d8c20d1adbf447f91caa08efc9bb29a",
       "style": "IPY_MODEL_efc421b418254285a1a1cbfcc772f5d6",
       "value": "<h4 style=\"font-size:14px;\">Welche Funktion nimmt das Gerund ein, wenn das Nomen Kopf der Gerund-Nomen-Phrase ist?</h4>"
      }
     },
     "37bf89e13ab34d5989d28418a7dfb4dc": {
      "model_module": "@jupyter-widgets/base",
      "model_module_version": "1.0.0",
      "model_name": "LayoutModel",
      "state": {
       "width": "250px"
      }
     },
     "383be6dd49bd46e280ed7df9b11c6d4a": {
      "model_module": "@jupyter-widgets/controls",
      "model_module_version": "1.2.0",
      "model_name": "DescriptionStyleModel",
      "state": {
       "description_width": "initial"
      }
     },
     "39011c5359754a0fb1516a4baf0b48e1": {
      "model_module": "@jupyter-widgets/base",
      "model_module_version": "1.0.0",
      "model_name": "LayoutModel",
      "state": {}
     },
     "391cbe2696404d09b8feb8d5e9d9440f": {
      "model_module": "@jupyter-widgets/controls",
      "model_module_version": "1.2.0",
      "model_name": "ButtonStyleModel",
      "state": {}
     },
     "3985e73d80934d77b4872101c9325d0d": {
      "model_module": "@jupyter-widgets/base",
      "model_module_version": "1.0.0",
      "model_name": "LayoutModel",
      "state": {}
     },
     "398989bf55514be6975e0304fadb8df1": {
      "model_module": "@jupyter-widgets/controls",
      "model_module_version": "1.2.0",
      "model_name": "CheckboxModel",
      "state": {
       "description": "Konstituentenbaum mit Phrasenlabels als Knoten",
       "disabled": false,
       "layout": "IPY_MODEL_542abb997dee466596975cf5098d6b3b",
       "style": "IPY_MODEL_fb372a528f614107899c812da24ab102",
       "value": false
      }
     },
     "39cc4f959a8f414f92c2098a36b5bc17": {
      "model_module": "@jupyter-widgets/base",
      "model_module_version": "1.0.0",
      "model_name": "LayoutModel",
      "state": {}
     },
     "3a9632c769604d119d6fbd47fc1da2f5": {
      "model_module": "@jupyter-widgets/controls",
      "model_module_version": "1.2.0",
      "model_name": "ButtonModel",
      "state": {
       "description": "lexikalische Ambiguität",
       "layout": "IPY_MODEL_943c3d95c33048a485fe4fe0cce4865c",
       "style": "IPY_MODEL_81ada12da4b94887a23f8f5e409386f7"
      }
     },
     "3b5190841a2442389227ab9c548b1a4c": {
      "model_module": "@jupyter-widgets/controls",
      "model_module_version": "1.2.0",
      "model_name": "HBoxModel",
      "state": {
       "children": [
        "IPY_MODEL_83ce17d1b8a84ee8917924000705a56c",
        "IPY_MODEL_43eaad3f5d4749fc97c971c0719b3b51"
       ],
       "layout": "IPY_MODEL_39cc4f959a8f414f92c2098a36b5bc17"
      }
     },
     "3b55566a80ce411d9357cdafc73f28d9": {
      "model_module": "@jupyter-widgets/controls",
      "model_module_version": "1.2.0",
      "model_name": "DescriptionStyleModel",
      "state": {
       "description_width": ""
      }
     },
     "3c06f25ee5f6408186a0505f034e569e": {
      "model_module": "@jupyter-widgets/controls",
      "model_module_version": "1.2.0",
      "model_name": "CheckboxModel",
      "state": {
       "description": "Wohlgeformtheit",
       "disabled": false,
       "layout": "IPY_MODEL_089674efebb24f19ae0a7739ba7d70d8",
       "style": "IPY_MODEL_f8eb111b87774d5d9cba7f54c4d0890b",
       "value": false
      }
     },
     "3c584131ae824a09a84f5d0376dc7341": {
      "model_module": "@jupyter-widgets/controls",
      "model_module_version": "1.2.0",
      "model_name": "ButtonModel",
      "state": {
       "description": "Attribut",
       "layout": "IPY_MODEL_fc2d0a598cb34506be9a5d16733d7961",
       "style": "IPY_MODEL_999f766cc53d45f4a14ca8cf393938c6"
      }
     },
     "3c95ca9099d941ab92251aafeb8f9d57": {
      "model_module": "@jupyter-widgets/controls",
      "model_module_version": "1.2.0",
      "model_name": "ButtonStyleModel",
      "state": {
       "button_color": "lightgreen"
      }
     },
     "3cf8e41b5b804c30bfef9f6dcffb460c": {
      "model_module": "@jupyter-widgets/base",
      "model_module_version": "1.0.0",
      "model_name": "LayoutModel",
      "state": {
       "justify_content": "center"
      }
     },
     "3e21c8bbe5e54bd1ba7aadb3cfc99495": {
      "model_module": "@jupyter-widgets/base",
      "model_module_version": "1.0.0",
      "model_name": "LayoutModel",
      "state": {
       "width": "250px"
      }
     },
     "3e59fba67e2948c884ea774db9f9044b": {
      "model_module": "@jupyter-widgets/base",
      "model_module_version": "1.0.0",
      "model_name": "LayoutModel",
      "state": {}
     },
     "3e873c58fae948cea410dc71a5054580": {
      "model_module": "@jupyter-widgets/controls",
      "model_module_version": "1.2.0",
      "model_name": "VBoxModel",
      "state": {
       "children": [
        "IPY_MODEL_8fe04ec97f704fd29d30fa28b810103b",
        "IPY_MODEL_fa8d67b3355b4e65a5c39cb1277867fa",
        "IPY_MODEL_91eccdc1032742539f5181cadc085c93"
       ],
       "layout": "IPY_MODEL_f399c94d32e04d3c984dfc9299a20937"
      }
     },
     "3ee896f06eba4aaa91d83b38288c6ade": {
      "model_module": "@jupyter-widgets/controls",
      "model_module_version": "1.2.0",
      "model_name": "DropdownModel",
      "state": {
       "_options_labels": [
        "morphologischen",
        "phonologischen",
        "semantischen",
        "syntaktischen",
        " "
       ],
       "index": 4,
       "layout": "IPY_MODEL_ee6d751aab92489283d03bc24b0ab5ed",
       "style": "IPY_MODEL_0cb869439c10473988c4fed21335d653"
      }
     },
     "3f581b0a3c1b454c81a04e1aea6fc650": {
      "model_module": "@jupyter-widgets/controls",
      "model_module_version": "1.2.0",
      "model_name": "HTMLModel",
      "state": {
       "layout": "IPY_MODEL_155d69a44a754e8b87f413e78c4f768f",
       "style": "IPY_MODEL_c9e3fe8b68914847b41d21f49938c931",
       "value": "<i>Wählen Sie die <ins>eine</ins> korrekte Antwort aus: </i>"
      }
     },
     "401bc15c64f247bdbbbd8369e4167a2d": {
      "model_module": "@jupyter-widgets/base",
      "model_module_version": "1.0.0",
      "model_name": "LayoutModel",
      "state": {
       "width": "250px"
      }
     },
     "402570169f1c4daf82a2a612d3e28fb0": {
      "model_module": "@jupyter-widgets/controls",
      "model_module_version": "1.2.0",
      "model_name": "ButtonStyleModel",
      "state": {}
     },
     "40876dabeeaa41718c79e6a551b861c7": {
      "model_module": "@jupyter-widgets/controls",
      "model_module_version": "1.2.0",
      "model_name": "ButtonModel",
      "state": {
       "description": "Korrekt?",
       "layout": "IPY_MODEL_b7fe9fcad2094dd1b5cb5c7a428e8358",
       "style": "IPY_MODEL_7910c9b8fd214390b17c0a5306360b6a"
      }
     },
     "409fb8774d934f92997f5ae701636256": {
      "model_module": "@jupyter-widgets/base",
      "model_module_version": "1.0.0",
      "model_name": "LayoutModel",
      "state": {
       "justify_content": "center"
      }
     },
     "40e9f840bcf243aeb9dea09bcceecd40": {
      "model_module": "@jupyter-widgets/base",
      "model_module_version": "1.0.0",
      "model_name": "LayoutModel",
      "state": {
       "width": "250px"
      }
     },
     "41323f1d0bd749e3921df88f66329ade": {
      "model_module": "@jupyter-widgets/base",
      "model_module_version": "1.0.0",
      "model_name": "LayoutModel",
      "state": {
       "width": "250px"
      }
     },
     "4204dc609c6d433bbab903146b08879b": {
      "model_module": "@jupyter-widgets/base",
      "model_module_version": "1.0.0",
      "model_name": "LayoutModel",
      "state": {}
     },
     "4225302676ea47f29ce79a2b752067da": {
      "model_module": "@jupyter-widgets/controls",
      "model_module_version": "1.2.0",
      "model_name": "DescriptionStyleModel",
      "state": {
       "description_width": ""
      }
     },
     "425e308017184f94b59ddbe763a5770d": {
      "model_module": "@jupyter-widgets/controls",
      "model_module_version": "1.2.0",
      "model_name": "DescriptionStyleModel",
      "state": {
       "description_width": "initial"
      }
     },
     "4371440da3e643a6874b40b5e4c22ef9": {
      "model_module": "@jupyter-widgets/controls",
      "model_module_version": "1.2.0",
      "model_name": "ButtonStyleModel",
      "state": {}
     },
     "4391b628b0d64bd9b2be0d66cac2e169": {
      "model_module": "@jupyter-widgets/base",
      "model_module_version": "1.0.0",
      "model_name": "LayoutModel",
      "state": {
       "width": "600px"
      }
     },
     "43b626b5518b43438206139737664777": {
      "model_module": "@jupyter-widgets/base",
      "model_module_version": "1.0.0",
      "model_name": "LayoutModel",
      "state": {}
     },
     "43eaad3f5d4749fc97c971c0719b3b51": {
      "model_module": "@jupyter-widgets/controls",
      "model_module_version": "1.2.0",
      "model_name": "ButtonModel",
      "state": {
       "description": "Regelsystem",
       "layout": "IPY_MODEL_1ab818cf820a4a01b48f2a1f59d14d93",
       "style": "IPY_MODEL_6004d4919fc84aec941a6a24cc41aa1c"
      }
     },
     "450484974256449a8355240a7860c051": {
      "model_module": "@jupyter-widgets/controls",
      "model_module_version": "1.2.0",
      "model_name": "DescriptionStyleModel",
      "state": {
       "description_width": ""
      }
     },
     "45199538c31b4ee393617f05e79bc796": {
      "model_module": "@jupyter-widgets/controls",
      "model_module_version": "1.2.0",
      "model_name": "HTMLModel",
      "state": {
       "layout": "IPY_MODEL_97c55c0b82314a38b09f78efffb5081f",
       "style": "IPY_MODEL_d04233234b684675854b8613e4d3d774",
       "value": "<i>Wählen Sie die <ins>eine</ins> korrekte Antwort aus: </i>"
      }
     },
     "45941ae4112e4e66a3e2dd141692f0f4": {
      "model_module": "@jupyter-widgets/controls",
      "model_module_version": "1.2.0",
      "model_name": "ButtonStyleModel",
      "state": {}
     },
     "45a95c6841eb46f0aab7f1ffe550c063": {
      "model_module": "@jupyter-widgets/controls",
      "model_module_version": "1.2.0",
      "model_name": "VBoxModel",
      "state": {
       "children": [
        "IPY_MODEL_22ea6dc61a954c588457bd254c49a1cf",
        "IPY_MODEL_4f172b39b50c433d9da671c9cb05a0bb",
        "IPY_MODEL_398989bf55514be6975e0304fadb8df1",
        "IPY_MODEL_72d7ff01a07d44b299bfa6e0ffe4369f"
       ],
       "layout": "IPY_MODEL_2e1e152c3daf419ca713c850b3e57fbb"
      }
     },
     "45f46518b2364f13860991c819995b1d": {
      "model_module": "@jupyter-widgets/base",
      "model_module_version": "1.0.0",
      "model_name": "LayoutModel",
      "state": {
       "width": "600px"
      }
     },
     "45fd63e9db1b4d3b944917cc29707cd7": {
      "model_module": "@jupyter-widgets/controls",
      "model_module_version": "1.2.0",
      "model_name": "DescriptionStyleModel",
      "state": {
       "description_width": "initial"
      }
     },
     "464a7f61eab24094bcb4bc19e9f0613e": {
      "model_module": "@jupyter-widgets/controls",
      "model_module_version": "1.2.0",
      "model_name": "DescriptionStyleModel",
      "state": {
       "description_width": ""
      }
     },
     "482caaf73af7411da66240a21cad9497": {
      "model_module": "@jupyter-widgets/controls",
      "model_module_version": "1.2.0",
      "model_name": "HBoxModel",
      "state": {
       "children": [
        "IPY_MODEL_27ddeaa797b14edda8885000921fbaf3",
        "IPY_MODEL_b7242ccf07aa416186a2755eb9e46424"
       ],
       "layout": "IPY_MODEL_92b38cac43814836920fa55c37e80b46"
      }
     },
     "48871f2126eb4d73b16022625d7fb55f": {
      "model_module": "@jupyter-widgets/base",
      "model_module_version": "1.0.0",
      "model_name": "LayoutModel",
      "state": {
       "width": "250px"
      }
     },
     "4900eb5bf38f4e1d9e5b0378f7d18db2": {
      "model_module": "@jupyter-widgets/controls",
      "model_module_version": "1.2.0",
      "model_name": "HTMLModel",
      "state": {
       "layout": "IPY_MODEL_055a5ed1a10647489b0bebee220d04bf",
       "style": "IPY_MODEL_4c1d5ed0b8c24c12af46822b76deeacd",
       "value": "<i>Markieren Sie <ins>alle</ins> passenden Antworten: </i>"
      }
     },
     "495b9ca64fbd44efb0331bc80c22e821": {
      "model_module": "@jupyter-widgets/controls",
      "model_module_version": "1.2.0",
      "model_name": "ButtonStyleModel",
      "state": {}
     },
     "49f15e7978f748ae9eae074c26f0eaee": {
      "model_module": "@jupyter-widgets/base",
      "model_module_version": "1.0.0",
      "model_name": "LayoutModel",
      "state": {}
     },
     "4a390e86f88c4162b0669abe40bc1b48": {
      "model_module": "@jupyter-widgets/controls",
      "model_module_version": "1.2.0",
      "model_name": "ButtonStyleModel",
      "state": {}
     },
     "4bcd4903a8e941db8709621e249545b5": {
      "model_module": "@jupyter-widgets/controls",
      "model_module_version": "1.2.0",
      "model_name": "CheckboxModel",
      "state": {
       "description": "syntaktische",
       "disabled": false,
       "layout": "IPY_MODEL_54fb8ea14d5143e092e19ec2362ae120",
       "style": "IPY_MODEL_a3009ee36a1e4d6280f6fedad2998afa",
       "value": false
      }
     },
     "4bf389f9470a403186cd7ff858da9a61": {
      "model_module": "@jupyter-widgets/controls",
      "model_module_version": "1.2.0",
      "model_name": "VBoxModel",
      "state": {
       "children": [
        "IPY_MODEL_1ece0b6f5be341f9b9aeb48f3da189c2",
        "IPY_MODEL_caf73b9f9f3a400e9eac730a8657e8c7",
        "IPY_MODEL_672db6b03bd34a62a4215dffcac80b7b"
       ],
       "layout": "IPY_MODEL_d5f5a9114165418186fcf50d45de0e4a"
      }
     },
     "4c063a181d47415bbe000dac46b2be76": {
      "model_module": "@jupyter-widgets/base",
      "model_module_version": "1.0.0",
      "model_name": "LayoutModel",
      "state": {}
     },
     "4c1d5ed0b8c24c12af46822b76deeacd": {
      "model_module": "@jupyter-widgets/controls",
      "model_module_version": "1.2.0",
      "model_name": "DescriptionStyleModel",
      "state": {
       "description_width": ""
      }
     },
     "4c517d9790134bdb995673f6a4f445a1": {
      "model_module": "@jupyter-widgets/controls",
      "model_module_version": "1.2.0",
      "model_name": "ButtonModel",
      "state": {
       "description": "Keine der anderen Möglichkeiten",
       "layout": "IPY_MODEL_145a2d6091c2412dba8e0bd4ac010b39",
       "style": "IPY_MODEL_8c1dd64e3b1843b6a3f2fe94e5094e8f"
      }
     },
     "4c92eb99a06b437fade03da7942a9d05": {
      "model_module": "@jupyter-widgets/controls",
      "model_module_version": "1.2.0",
      "model_name": "ButtonStyleModel",
      "state": {}
     },
     "4d4c2452eee1436ea514deed03643429": {
      "model_module": "@jupyter-widgets/controls",
      "model_module_version": "1.2.0",
      "model_name": "HBoxModel",
      "state": {
       "children": [
        "IPY_MODEL_d7203e7ce4a44f4dac972fae0362d8fe"
       ],
       "layout": "IPY_MODEL_92f4fc427c894238850cc387e3e085a2"
      }
     },
     "4d713a0d0f9d46a9b7a84eb196f4f01c": {
      "model_module": "@jupyter-widgets/controls",
      "model_module_version": "1.2.0",
      "model_name": "ButtonModel",
      "state": {
       "description": "Wissen um Sprachstruktur",
       "layout": "IPY_MODEL_3e21c8bbe5e54bd1ba7aadb3cfc99495",
       "style": "IPY_MODEL_af64be45a5af43b1acd0aa219cc5fd57"
      }
     },
     "4db63b9979ef4d2ab747e1c5ba3554b8": {
      "model_module": "@jupyter-widgets/controls",
      "model_module_version": "1.2.0",
      "model_name": "ButtonStyleModel",
      "state": {}
     },
     "4de1263f553045fdbcefe862f3be0308": {
      "model_module": "@jupyter-widgets/base",
      "model_module_version": "1.0.0",
      "model_name": "LayoutModel",
      "state": {}
     },
     "4f02c8800b044638b859054e9ced77e3": {
      "model_module": "@jupyter-widgets/controls",
      "model_module_version": "1.2.0",
      "model_name": "HBoxModel",
      "state": {
       "children": [
        "IPY_MODEL_e3f3214ce6414e9b9c0f6a7e732469fd",
        "IPY_MODEL_efe21fd888e541e78941884af7d66461"
       ],
       "layout": "IPY_MODEL_134a15b16f8641bca98ffa24a5461a62"
      }
     },
     "4f172b39b50c433d9da671c9cb05a0bb": {
      "model_module": "@jupyter-widgets/controls",
      "model_module_version": "1.2.0",
      "model_name": "CheckboxModel",
      "state": {
       "description": "Dependenzgraph mit gelabelten Kanten",
       "disabled": false,
       "layout": "IPY_MODEL_4391b628b0d64bd9b2be0d66cac2e169",
       "style": "IPY_MODEL_c99d17d15d7847599d84e55c82861dd6",
       "value": false
      }
     },
     "4f532161e5474dddb4d9c998a0ee2cfb": {
      "model_module": "@jupyter-widgets/base",
      "model_module_version": "1.0.0",
      "model_name": "LayoutModel",
      "state": {
       "width": "250px"
      }
     },
     "4f62898cb9bb4205acbfb7d4454dc7a2": {
      "model_module": "@jupyter-widgets/controls",
      "model_module_version": "1.2.0",
      "model_name": "ButtonModel",
      "state": {
       "description": "Korrekt?",
       "layout": "IPY_MODEL_fb13507dc1404c34ab8346f6120679e9",
       "style": "IPY_MODEL_7423cae8a18c43acba09e7fb70f49177"
      }
     },
     "4f89e98408f144dbbc273bb45ab48074": {
      "model_module": "@jupyter-widgets/controls",
      "model_module_version": "1.2.0",
      "model_name": "DescriptionStyleModel",
      "state": {
       "description_width": ""
      }
     },
     "4f9d3c80390a49feb1d0e8e5acbdd3a8": {
      "model_module": "@jupyter-widgets/base",
      "model_module_version": "1.0.0",
      "model_name": "LayoutModel",
      "state": {
       "width": "250px"
      }
     },
     "4fa30a3f5f46421f8efe928ab1174a6e": {
      "model_module": "@jupyter-widgets/controls",
      "model_module_version": "1.2.0",
      "model_name": "HTMLModel",
      "state": {
       "layout": "IPY_MODEL_cfc96239d64b4aac993b18d968032593",
       "style": "IPY_MODEL_c448628057b946cb8f0c4cef625f4119",
       "value": "<i>Wählen Sie die <ins>eine</ins> korrekte Antwort aus: </i>"
      }
     },
     "501efc1f1f1a4ca4a8d129b75569fe8c": {
      "model_module": "@jupyter-widgets/controls",
      "model_module_version": "1.2.0",
      "model_name": "ButtonStyleModel",
      "state": {}
     },
     "5083900e87434e6999fec3f9334268b4": {
      "model_module": "@jupyter-widgets/base",
      "model_module_version": "1.0.0",
      "model_name": "LayoutModel",
      "state": {}
     },
     "50a90b4975304df281e96a3a96d3056b": {
      "model_module": "@jupyter-widgets/controls",
      "model_module_version": "1.2.0",
      "model_name": "ButtonStyleModel",
      "state": {}
     },
     "510dfc3a05834a978f3536958dfe3832": {
      "model_module": "@jupyter-widgets/base",
      "model_module_version": "1.0.0",
      "model_name": "LayoutModel",
      "state": {
       "width": "250px"
      }
     },
     "51210bc21ea345bcb0608f2e10a76b73": {
      "model_module": "@jupyter-widgets/controls",
      "model_module_version": "1.2.0",
      "model_name": "HTMLModel",
      "state": {
       "layout": "IPY_MODEL_85a4175c3b504b1c9c73d91cdbb0ed4b",
       "style": "IPY_MODEL_b4729094bba743e1b58b36091752ad80",
       "value": "<h4 style=\"font-size:14px;\">Was ist der Fall, wenn die PP ein Attribut ist?</h4>"
      }
     },
     "51b19681991b46f6a06af787b8496260": {
      "model_module": "@jupyter-widgets/controls",
      "model_module_version": "1.2.0",
      "model_name": "DescriptionStyleModel",
      "state": {
       "description_width": ""
      }
     },
     "51f38e52aeb44d9d98a8a10886b7c8f4": {
      "model_module": "@jupyter-widgets/controls",
      "model_module_version": "1.2.0",
      "model_name": "DescriptionStyleModel",
      "state": {
       "description_width": ""
      }
     },
     "52ea0c775fae43b0909f690f0dafc8e1": {
      "model_module": "@jupyter-widgets/controls",
      "model_module_version": "1.2.0",
      "model_name": "ButtonModel",
      "state": {
       "description": "Klammernotation",
       "layout": "IPY_MODEL_f4fb4a70c5e646239f6865894634a3d1",
       "style": "IPY_MODEL_7f986a8123f545ceb22d9b7832cc716c"
      }
     },
     "531463b5a80746ae8872249610f9aecc": {
      "model_module": "@jupyter-widgets/controls",
      "model_module_version": "1.2.0",
      "model_name": "DescriptionStyleModel",
      "state": {
       "description_width": ""
      }
     },
     "5330833245774c90b0315b143fc61fd2": {
      "model_module": "@jupyter-widgets/controls",
      "model_module_version": "1.2.0",
      "model_name": "DescriptionStyleModel",
      "state": {
       "description_width": "initial"
      }
     },
     "53632ddece244c8093f7f2f16f21153f": {
      "model_module": "@jupyter-widgets/controls",
      "model_module_version": "1.2.0",
      "model_name": "DescriptionStyleModel",
      "state": {
       "description_width": ""
      }
     },
     "53a4b4ac79bf4b6ebaffe16d02356219": {
      "model_module": "@jupyter-widgets/controls",
      "model_module_version": "1.2.0",
      "model_name": "ButtonStyleModel",
      "state": {}
     },
     "53c959841a2147fda90f8d3c971b6580": {
      "model_module": "@jupyter-widgets/base",
      "model_module_version": "1.0.0",
      "model_name": "LayoutModel",
      "state": {}
     },
     "542abb997dee466596975cf5098d6b3b": {
      "model_module": "@jupyter-widgets/base",
      "model_module_version": "1.0.0",
      "model_name": "LayoutModel",
      "state": {
       "width": "600px"
      }
     },
     "54fb8ea14d5143e092e19ec2362ae120": {
      "model_module": "@jupyter-widgets/base",
      "model_module_version": "1.0.0",
      "model_name": "LayoutModel",
      "state": {
       "width": "600px"
      }
     },
     "5575dd7d96f344068a1ea8a77c8dc44a": {
      "model_module": "@jupyter-widgets/controls",
      "model_module_version": "1.2.0",
      "model_name": "ButtonStyleModel",
      "state": {}
     },
     "55d478e74de84d3086f061ba42545d86": {
      "model_module": "@jupyter-widgets/base",
      "model_module_version": "1.0.0",
      "model_name": "LayoutModel",
      "state": {
       "justify_content": "center"
      }
     },
     "56253d07afb646f3baf28c49e1af8eb1": {
      "model_module": "@jupyter-widgets/controls",
      "model_module_version": "1.2.0",
      "model_name": "VBoxModel",
      "state": {
       "children": [
        "IPY_MODEL_263b23f9c1a0465dabad68a830802db8",
        "IPY_MODEL_b818d757401145caa629251106f0c9b4",
        "IPY_MODEL_4f02c8800b044638b859054e9ced77e3"
       ],
       "layout": "IPY_MODEL_f910518f8c0c48a9923dcbbe65b7de88"
      }
     },
     "57978fb605af41e7b804ccc6f1e6d3de": {
      "model_module": "@jupyter-widgets/base",
      "model_module_version": "1.0.0",
      "model_name": "LayoutModel",
      "state": {
       "width": "600px"
      }
     },
     "57a339a910e143c082a6d5b790e4e303": {
      "model_module": "@jupyter-widgets/base",
      "model_module_version": "1.0.0",
      "model_name": "LayoutModel",
      "state": {
       "justify_content": "center"
      }
     },
     "57d09445acfc44e19814cb9c7b4dc0cf": {
      "model_module": "@jupyter-widgets/controls",
      "model_module_version": "1.2.0",
      "model_name": "ButtonModel",
      "state": {
       "description": "Keine der anderen Möglichkeiten",
       "layout": "IPY_MODEL_c087f77853b4442698bfeb927fae809c",
       "style": "IPY_MODEL_391cbe2696404d09b8feb8d5e9d9440f"
      }
     },
     "5843bb9b498f4f4aae1989d23ffda278": {
      "model_module": "@jupyter-widgets/controls",
      "model_module_version": "1.2.0",
      "model_name": "DescriptionStyleModel",
      "state": {
       "description_width": ""
      }
     },
     "5892e02609bf4f42bafa0d6a9932eb4c": {
      "model_module": "@jupyter-widgets/base",
      "model_module_version": "1.0.0",
      "model_name": "LayoutModel",
      "state": {
       "width": "250px"
      }
     },
     "58a894e1ba0e442381a1c4f71b68ad9f": {
      "model_module": "@jupyter-widgets/base",
      "model_module_version": "1.0.0",
      "model_name": "LayoutModel",
      "state": {
       "justify_content": "center"
      }
     },
     "59b8229225bc4eedacc4cc9fa8baec7e": {
      "model_module": "@jupyter-widgets/base",
      "model_module_version": "1.0.0",
      "model_name": "LayoutModel",
      "state": {
       "width": "250px"
      }
     },
     "5b3bf580090f4fd8ab2e3ef5ef0f0909": {
      "model_module": "@jupyter-widgets/base",
      "model_module_version": "1.0.0",
      "model_name": "LayoutModel",
      "state": {
       "justify_content": "center"
      }
     },
     "5b77b9c69a3b46f1823b06b5c35c6000": {
      "model_module": "@jupyter-widgets/base",
      "model_module_version": "1.0.0",
      "model_name": "LayoutModel",
      "state": {}
     },
     "5b9099625143493fadc99b5cab0d6f38": {
      "model_module": "@jupyter-widgets/controls",
      "model_module_version": "1.2.0",
      "model_name": "HTMLModel",
      "state": {
       "layout": "IPY_MODEL_1c66a0f781104b8db9cf4422ff943f4f",
       "style": "IPY_MODEL_5d890ef0bdd54560a96dfb197bc44e85",
       "value": "<i>Markieren Sie <ins>alle</ins> passenden Antworten: </i>"
      }
     },
     "5ba0acc0374d469dbc5cc572d5fed2ad": {
      "model_module": "@jupyter-widgets/controls",
      "model_module_version": "1.2.0",
      "model_name": "HBoxModel",
      "state": {
       "children": [
        "IPY_MODEL_83eabd3685e54919b55616ee7e30bd39",
        "IPY_MODEL_e5c3400c2168431790497479585db027"
       ],
       "layout": "IPY_MODEL_7e57dada9dca430baf11d5c5c16271df"
      }
     },
     "5bb5dba413b24f68b8bdcde08ce4717f": {
      "model_module": "@jupyter-widgets/controls",
      "model_module_version": "1.2.0",
      "model_name": "ButtonModel",
      "state": {
       "description": "Wortart des Phrasenkopfes",
       "layout": "IPY_MODEL_a2cdf283974b45238474da745727cf75",
       "style": "IPY_MODEL_8f787a97a7044954b1d4330a0c49c28f"
      }
     },
     "5be2751332394e7fa4ecfa53135275b5": {
      "model_module": "@jupyter-widgets/controls",
      "model_module_version": "1.2.0",
      "model_name": "ButtonModel",
      "state": {
       "description": "Theorie der Sprachstruktur",
       "layout": "IPY_MODEL_e846870cdf394939aebb49622c04f57b",
       "style": "IPY_MODEL_fea06ee31c7746288aa80a52422e0610"
      }
     },
     "5be33dcec7b04a0e8d36c7ac43645d3d": {
      "model_module": "@jupyter-widgets/base",
      "model_module_version": "1.0.0",
      "model_name": "LayoutModel",
      "state": {}
     },
     "5cc056e29fdd490ba94f73b0b9be2c7a": {
      "model_module": "@jupyter-widgets/controls",
      "model_module_version": "1.2.0",
      "model_name": "VBoxModel",
      "state": {
       "children": [
        "IPY_MODEL_200793e2c15d453a972f08f1a3114411",
        "IPY_MODEL_d7a078a48cbc40bfb0710f3106281742",
        "IPY_MODEL_6c789c1bf61b4030a22ecb79e1647242",
        "IPY_MODEL_19054afd932a40ec98e005e3b22f9c3c"
       ],
       "layout": "IPY_MODEL_cbc39992d9ec4d118c47152471324e18"
      }
     },
     "5d4c7cd4dcd84196b7a6d2b1c81a8c2f": {
      "model_module": "@jupyter-widgets/base",
      "model_module_version": "1.0.0",
      "model_name": "LayoutModel",
      "state": {
       "justify_content": "center"
      }
     },
     "5d890ef0bdd54560a96dfb197bc44e85": {
      "model_module": "@jupyter-widgets/controls",
      "model_module_version": "1.2.0",
      "model_name": "DescriptionStyleModel",
      "state": {
       "description_width": ""
      }
     },
     "5d8c20d1adbf447f91caa08efc9bb29a": {
      "model_module": "@jupyter-widgets/base",
      "model_module_version": "1.0.0",
      "model_name": "LayoutModel",
      "state": {
       "justify_content": "center"
      }
     },
     "5dadf4cc5462492f943d22de20bf0ba3": {
      "model_module": "@jupyter-widgets/controls",
      "model_module_version": "1.2.0",
      "model_name": "ButtonModel",
      "state": {
       "description": "Wissen um Sprachstruktur",
       "layout": "IPY_MODEL_d1e60ed91dad4399a7bc9bf73de55643",
       "style": "IPY_MODEL_b20db54257a94f41aa8a064bb909dc9a"
      }
     },
     "5dd491538d9648a6a6df0cd9280484a9": {
      "model_module": "@jupyter-widgets/base",
      "model_module_version": "1.0.0",
      "model_name": "LayoutModel",
      "state": {}
     },
     "5dd93ccd541f40c880f979f777cbb78a": {
      "model_module": "@jupyter-widgets/controls",
      "model_module_version": "1.2.0",
      "model_name": "CheckboxModel",
      "state": {
       "description": "Satzebene, Textebene, Bedeutungsebene",
       "disabled": false,
       "layout": "IPY_MODEL_21a261137b1b44bab4076799c0175668",
       "style": "IPY_MODEL_a003eda5f1bc41788b6a0461bc23e3f4",
       "value": false
      }
     },
     "5ddb58512e9c429485e2e2c906632cfd": {
      "model_module": "@jupyter-widgets/controls",
      "model_module_version": "1.2.0",
      "model_name": "DescriptionStyleModel",
      "state": {
       "description_width": "initial"
      }
     },
     "5e9eca0bb67f4479b72db60f5bcdabb0": {
      "model_module": "@jupyter-widgets/controls",
      "model_module_version": "1.2.0",
      "model_name": "CheckboxModel",
      "state": {
       "description": "Synonymie",
       "disabled": false,
       "layout": "IPY_MODEL_7ec5480063b242c4ab52051fb6663002",
       "style": "IPY_MODEL_aa4314d038254541a0b989012bb0c9a7",
       "value": false
      }
     },
     "5f0d7cb1fd8842e48d176997ea7d25af": {
      "model_module": "@jupyter-widgets/controls",
      "model_module_version": "1.2.0",
      "model_name": "HBoxModel",
      "state": {
       "children": [
        "IPY_MODEL_4c517d9790134bdb995673f6a4f445a1"
       ],
       "layout": "IPY_MODEL_14e92831803542029496555f7c237bbd"
      }
     },
     "5f0db41c8d514344b5b59b89b86a0f6e": {
      "model_module": "@jupyter-widgets/base",
      "model_module_version": "1.0.0",
      "model_name": "LayoutModel",
      "state": {}
     },
     "5f29bf4671b94a31bdb091fa4a28d4a3": {
      "model_module": "@jupyter-widgets/base",
      "model_module_version": "1.0.0",
      "model_name": "LayoutModel",
      "state": {
       "width": "600px"
      }
     },
     "5f77a0bb34444e5a8e82a05aea033750": {
      "model_module": "@jupyter-widgets/controls",
      "model_module_version": "1.2.0",
      "model_name": "DescriptionStyleModel",
      "state": {
       "description_width": ""
      }
     },
     "6004d4919fc84aec941a6a24cc41aa1c": {
      "model_module": "@jupyter-widgets/controls",
      "model_module_version": "1.2.0",
      "model_name": "ButtonStyleModel",
      "state": {}
     },
     "60594a358cdc4ae3b8157b38826c86c3": {
      "model_module": "@jupyter-widgets/controls",
      "model_module_version": "1.2.0",
      "model_name": "ButtonStyleModel",
      "state": {}
     },
     "608ee2999d7847088b002ac06c1f4344": {
      "model_module": "@jupyter-widgets/base",
      "model_module_version": "1.0.0",
      "model_name": "LayoutModel",
      "state": {
       "width": "250px"
      }
     },
     "6091e440af61475783dbee34f876ef64": {
      "model_module": "@jupyter-widgets/controls",
      "model_module_version": "1.2.0",
      "model_name": "DescriptionStyleModel",
      "state": {
       "description_width": ""
      }
     },
     "61ed6de496234804bfd412b5fd7bcb3f": {
      "model_module": "@jupyter-widgets/controls",
      "model_module_version": "1.2.0",
      "model_name": "VBoxModel",
      "state": {
       "children": [
        "IPY_MODEL_2bb6473093fa4744bbf21a59ab585258",
        "IPY_MODEL_80a5d2872d01447f88474e3f1f13494d",
        "IPY_MODEL_f71b16b5712045beabd5a8750f9ad68a",
        "IPY_MODEL_103fd8124f744469906f705713e074ad"
       ],
       "layout": "IPY_MODEL_86efefb539414ca39fc4c16b0a16ed68"
      }
     },
     "622cc5c415374f8ea04d3d0df4adc9dc": {
      "model_module": "@jupyter-widgets/controls",
      "model_module_version": "1.2.0",
      "model_name": "DescriptionStyleModel",
      "state": {
       "description_width": ""
      }
     },
     "650608cd14df4da5a829764a60079a9b": {
      "model_module": "@jupyter-widgets/controls",
      "model_module_version": "1.2.0",
      "model_name": "ButtonModel",
      "state": {
       "description": "Wortstruktur",
       "layout": "IPY_MODEL_ad6a1fff4ed04967a12408f75bc241bc",
       "style": "IPY_MODEL_53a4b4ac79bf4b6ebaffe16d02356219"
      }
     },
     "6576e1232477428d9ddb0dbab2862353": {
      "model_module": "@jupyter-widgets/controls",
      "model_module_version": "1.2.0",
      "model_name": "CheckboxModel",
      "state": {
       "description": "Subjekt-Nominalphrase",
       "disabled": false,
       "layout": "IPY_MODEL_009c7acaf2604c2381324c6ed6becb86",
       "style": "IPY_MODEL_243d4bdd16df4bef87fe85625dee9bc9",
       "value": false
      }
     },
     "6665623179024c4b80cd1567958ada88": {
      "model_module": "@jupyter-widgets/controls",
      "model_module_version": "1.2.0",
      "model_name": "ButtonModel",
      "state": {
       "description": "Subjekt",
       "layout": "IPY_MODEL_0067b34aa05f44b4b10594496bce8ef1",
       "style": "IPY_MODEL_f2b83f823c1642d691726b621a72b6f6"
      }
     },
     "66668a4c96034d0a8025c49fb2dfb750": {
      "model_module": "@jupyter-widgets/base",
      "model_module_version": "1.0.0",
      "model_name": "LayoutModel",
      "state": {}
     },
     "6709c206481a4292b6023c0586c1b7fd": {
      "model_module": "@jupyter-widgets/base",
      "model_module_version": "1.0.0",
      "model_name": "LayoutModel",
      "state": {}
     },
     "672db6b03bd34a62a4215dffcac80b7b": {
      "model_module": "@jupyter-widgets/controls",
      "model_module_version": "1.2.0",
      "model_name": "HBoxModel",
      "state": {
       "children": [
        "IPY_MODEL_a56ae8c31c6c41e6a989e71d9f18667d",
        "IPY_MODEL_6665623179024c4b80cd1567958ada88"
       ],
       "layout": "IPY_MODEL_ea07a80474ba4e0b9c34a7a6ede3734d"
      }
     },
     "674f4b224e2e4af1bcc7e8e688bd8984": {
      "model_module": "@jupyter-widgets/controls",
      "model_module_version": "1.2.0",
      "model_name": "DescriptionStyleModel",
      "state": {
       "description_width": "initial"
      }
     },
     "6781cfaf738f43589c18d49e1d4692bb": {
      "model_module": "@jupyter-widgets/controls",
      "model_module_version": "1.2.0",
      "model_name": "VBoxModel",
      "state": {
       "children": [
        "IPY_MODEL_f6eb9fc1b5454924b4f1a0732ade5b19",
        "IPY_MODEL_24050d407215433b81d5b6df06b96fc5",
        "IPY_MODEL_a0c82cf5647c4e91b85d3693666610fa",
        "IPY_MODEL_86637c9acb2e4e3abbd0c6800f48f6df"
       ],
       "layout": "IPY_MODEL_12dcc5e614fe4a88a61b3301fe95021f"
      }
     },
     "6848ebc5b5b24989953d7dfd6a402df2": {
      "model_module": "@jupyter-widgets/controls",
      "model_module_version": "1.2.0",
      "model_name": "HTMLModel",
      "state": {
       "layout": "IPY_MODEL_af0c8c5a59264aa7bf87bd102f1fe2ce",
       "style": "IPY_MODEL_2aaef2613c03437aaeddf316fbb7b675",
       "value": "<h4 style=\"font-size:14px;\">Welche Vorteile hat die Modellierung der Satzstruktur mit Hilfe einer formalen Grammatik?</h4>"
      }
     },
     "686649dabef04778965f28d9de055d46": {
      "model_module": "@jupyter-widgets/controls",
      "model_module_version": "1.2.0",
      "model_name": "ButtonModel",
      "state": {
       "description": "Baumdiagramm",
       "layout": "IPY_MODEL_6edf4c04a054424b937f628e694ba232",
       "style": "IPY_MODEL_b4814db9181a4285a27a18ef6330470b"
      }
     },
     "68d9bd67c1774864baa4ea7099472f67": {
      "model_module": "@jupyter-widgets/base",
      "model_module_version": "1.0.0",
      "model_name": "LayoutModel",
      "state": {
       "width": "600px"
      }
     },
     "695afd5853f942f2a5a7109f1d08768e": {
      "model_module": "@jupyter-widgets/controls",
      "model_module_version": "1.2.0",
      "model_name": "HTMLModel",
      "state": {
       "layout": "IPY_MODEL_3985e73d80934d77b4872101c9325d0d",
       "style": "IPY_MODEL_9af18d20740748dd8d15f84fd0d73639",
       "value": "<h4 style=\"font-size:14px;\">Welche Typen von Syntaxbäumen (auch: Parsebäume, Ableitungsbäume) wurden gezeigt?</h4>"
      }
     },
     "6970d2fc1e8d497a80e3671b8afe412c": {
      "model_module": "@jupyter-widgets/controls",
      "model_module_version": "1.2.0",
      "model_name": "HTMLModel",
      "state": {
       "layout": "IPY_MODEL_72d3d5a73ee348c9a6f8ac194a5785bf",
       "style": "IPY_MODEL_b3962ffa850943d59a6ed18702569c5d",
       "value": "<h4 style=\"font-size:14px;\">Welcher Grammatikbegriff liegt Satz 3 zugrunde?</h4>"
      }
     },
     "69ed53e26f504f6f806711a601e17212": {
      "model_module": "@jupyter-widgets/base",
      "model_module_version": "1.0.0",
      "model_name": "LayoutModel",
      "state": {
       "justify_content": "center"
      }
     },
     "6b0b0f70b84a41b48aca25986447c6f3": {
      "model_module": "@jupyter-widgets/controls",
      "model_module_version": "1.2.0",
      "model_name": "DescriptionStyleModel",
      "state": {
       "description_width": ""
      }
     },
     "6c789c1bf61b4030a22ecb79e1647242": {
      "model_module": "@jupyter-widgets/controls",
      "model_module_version": "1.2.0",
      "model_name": "HBoxModel",
      "state": {
       "children": [
        "IPY_MODEL_d8b6a71f4e54453093a52904eeeec57d",
        "IPY_MODEL_70b40c63b8d941109ee3288757117450"
       ],
       "layout": "IPY_MODEL_8a56ce0fbf4a4e678f2ac6bb6ab17652"
      }
     },
     "6c9e42d1bf2b4277b4dd960597940aad": {
      "model_module": "@jupyter-widgets/controls",
      "model_module_version": "1.2.0",
      "model_name": "DescriptionStyleModel",
      "state": {
       "description_width": "initial"
      }
     },
     "6d5e9a3c141a4327a9401d9057eafddc": {
      "model_module": "@jupyter-widgets/controls",
      "model_module_version": "1.2.0",
      "model_name": "DescriptionStyleModel",
      "state": {
       "description_width": ""
      }
     },
     "6d7944bddb4048afb66235905f8af09b": {
      "model_module": "@jupyter-widgets/base",
      "model_module_version": "1.0.0",
      "model_name": "LayoutModel",
      "state": {
       "width": "600px"
      }
     },
     "6d80bbb164e1480b874cba34e2ec5b72": {
      "model_module": "@jupyter-widgets/controls",
      "model_module_version": "1.2.0",
      "model_name": "VBoxModel",
      "state": {
       "children": [
        "IPY_MODEL_17b456d011da4b3ca8a6f2549bd97740",
        "IPY_MODEL_3f581b0a3c1b454c81a04e1aea6fc650",
        "IPY_MODEL_d6074a49c76a456ba7eff362634d8836",
        "IPY_MODEL_055e47fb543746b694d497f87856f4ab",
        "IPY_MODEL_d4b42e813cb44f4baca67244c6fbcc13"
       ],
       "layout": "IPY_MODEL_bb27de2ca3554441b31c29764e373dbc"
      }
     },
     "6dbf0a457e564cb4babd729248f050ca": {
      "model_module": "@jupyter-widgets/controls",
      "model_module_version": "1.2.0",
      "model_name": "CheckboxModel",
      "state": {
       "description": "Gerund ist Kopf eines nichtfiniten Teilsatzes",
       "disabled": false,
       "layout": "IPY_MODEL_d5c34ac41d6e4bbaad4470387881b3d9",
       "style": "IPY_MODEL_b9f682e0e70d4dff99e6768c7b1494a8",
       "value": false
      }
     },
     "6e570faecb2648b1824c70562f2bb95c": {
      "model_module": "@jupyter-widgets/controls",
      "model_module_version": "1.2.0",
      "model_name": "HBoxModel",
      "state": {
       "children": [
        "IPY_MODEL_a7cb5f61aab04eea96691345fb4c40a3",
        "IPY_MODEL_5bb5dba413b24f68b8bdcde08ce4717f"
       ],
       "layout": "IPY_MODEL_49f15e7978f748ae9eae074c26f0eaee"
      }
     },
     "6e7d14000ad34c6094410b598de2b48d": {
      "model_module": "@jupyter-widgets/controls",
      "model_module_version": "1.2.0",
      "model_name": "CheckboxModel",
      "state": {
       "description": "Korrektheit",
       "disabled": false,
       "layout": "IPY_MODEL_99d706d5a09c4a66933416bae6f3c9fa",
       "style": "IPY_MODEL_6c9e42d1bf2b4277b4dd960597940aad",
       "value": false
      }
     },
     "6e952de5241d4fdbbe8e4a6f7c79189e": {
      "model_module": "@jupyter-widgets/base",
      "model_module_version": "1.0.0",
      "model_name": "LayoutModel",
      "state": {}
     },
     "6eb7f70c16844008aa7b677a127b4642": {
      "model_module": "@jupyter-widgets/controls",
      "model_module_version": "1.2.0",
      "model_name": "ButtonStyleModel",
      "state": {}
     },
     "6edf4c04a054424b937f628e694ba232": {
      "model_module": "@jupyter-widgets/base",
      "model_module_version": "1.0.0",
      "model_name": "LayoutModel",
      "state": {
       "width": "250px"
      }
     },
     "7020157c04904da7abf7e1bf9968e2e0": {
      "model_module": "@jupyter-widgets/base",
      "model_module_version": "1.0.0",
      "model_name": "LayoutModel",
      "state": {
       "width": "600px"
      }
     },
     "703b833a876b45d596fcdac529a222f9": {
      "model_module": "@jupyter-widgets/controls",
      "model_module_version": "1.2.0",
      "model_name": "ButtonStyleModel",
      "state": {}
     },
     "706bebb7789b4ccc9faaddc10b18074d": {
      "model_module": "@jupyter-widgets/controls",
      "model_module_version": "1.2.0",
      "model_name": "ButtonModel",
      "state": {
       "description": "mehr als ein",
       "layout": "IPY_MODEL_017f6b4747744760a8fec23242cdc820",
       "style": "IPY_MODEL_3c95ca9099d941ab92251aafeb8f9d57"
      }
     },
     "70acafba5d3148cdbdbbba7296fb5c47": {
      "model_module": "@jupyter-widgets/controls",
      "model_module_version": "1.2.0",
      "model_name": "ButtonStyleModel",
      "state": {}
     },
     "70b40c63b8d941109ee3288757117450": {
      "model_module": "@jupyter-widgets/controls",
      "model_module_version": "1.2.0",
      "model_name": "ButtonModel",
      "state": {
       "description": "strukturelle Ambiguität",
       "layout": "IPY_MODEL_a9c19acc65354ced8d03d20cb472619d",
       "style": "IPY_MODEL_074897fda68341b0b9e14003481cee3c"
      }
     },
     "7159668e149f47108de9ab3074dae3b9": {
      "model_module": "@jupyter-widgets/controls",
      "model_module_version": "1.2.0",
      "model_name": "ButtonModel",
      "state": {
       "description": "Korrekt?",
       "layout": "IPY_MODEL_1b4de9928c0442b9990b52074d1ca478",
       "style": "IPY_MODEL_2c5a3f9a2ff84de9b56d7b2826afab02"
      }
     },
     "71cbec809f974089b9e20a183c927176": {
      "model_module": "@jupyter-widgets/controls",
      "model_module_version": "1.2.0",
      "model_name": "HBoxModel",
      "state": {
       "children": [
        "IPY_MODEL_74b355b57ab84457ac5de022d55d8e5d",
        "IPY_MODEL_cd85fd6f42d54a94909a0d7ebdb1ca44"
       ],
       "layout": "IPY_MODEL_3e59fba67e2948c884ea774db9f9044b"
      }
     },
     "71e95134caf44f2a923eeb20b02cf23d": {
      "model_module": "@jupyter-widgets/controls",
      "model_module_version": "1.2.0",
      "model_name": "HTMLModel",
      "state": {
       "layout": "IPY_MODEL_ebc3a56672844d708d7af86de4f3f40e",
       "style": "IPY_MODEL_ce46db570b0040d78df0b82078126729",
       "value": "<i>Vervollständigen Sie den Lückentext: </i>"
      }
     },
     "72161fe8e13245f3ab38790ac736e07f": {
      "model_module": "@jupyter-widgets/controls",
      "model_module_version": "1.2.0",
      "model_name": "ButtonStyleModel",
      "state": {}
     },
     "72212dc1e54649b9978ad6e04d6d54da": {
      "model_module": "@jupyter-widgets/controls",
      "model_module_version": "1.2.0",
      "model_name": "ButtonModel",
      "state": {
       "description": "Baumdiagramm",
       "layout": "IPY_MODEL_9cbe7875255d42c9aec910e6762da5fc",
       "style": "IPY_MODEL_af93fc9f31c44127b803694e6411f62d"
      }
     },
     "72b9e87b12a64dcd9cabc078e41dd1b5": {
      "model_module": "@jupyter-widgets/base",
      "model_module_version": "1.0.0",
      "model_name": "LayoutModel",
      "state": {
       "width": "600px"
      }
     },
     "72d3d5a73ee348c9a6f8ac194a5785bf": {
      "model_module": "@jupyter-widgets/base",
      "model_module_version": "1.0.0",
      "model_name": "LayoutModel",
      "state": {
       "justify_content": "center"
      }
     },
     "72d7ff01a07d44b299bfa6e0ffe4369f": {
      "model_module": "@jupyter-widgets/controls",
      "model_module_version": "1.2.0",
      "model_name": "CheckboxModel",
      "state": {
       "description": "Konstituentenbaum mit gelabelten Kanten",
       "disabled": false,
       "layout": "IPY_MODEL_9abda0a36c3f4eaebaee77a48d5c1bdd",
       "style": "IPY_MODEL_c5aee5a4fd6042d992544dbc805244fb",
       "value": false
      }
     },
     "7301f35f0e884ca6875de8d0159f8947": {
      "model_module": "@jupyter-widgets/base",
      "model_module_version": "1.0.0",
      "model_name": "LayoutModel",
      "state": {
       "width": "250px"
      }
     },
     "734d7a6fd38640c6a823edb70ff3ac18": {
      "model_module": "@jupyter-widgets/base",
      "model_module_version": "1.0.0",
      "model_name": "LayoutModel",
      "state": {
       "width": "250px"
      }
     },
     "7423cae8a18c43acba09e7fb70f49177": {
      "model_module": "@jupyter-widgets/controls",
      "model_module_version": "1.2.0",
      "model_name": "ButtonStyleModel",
      "state": {}
     },
     "74479edcfdd440f28f6b3ac216bdac4b": {
      "model_module": "@jupyter-widgets/controls",
      "model_module_version": "1.2.0",
      "model_name": "HTMLModel",
      "state": {
       "layout": "IPY_MODEL_e7aca49d2146421a945f5fc71821fd48",
       "style": "IPY_MODEL_464a7f61eab24094bcb4bc19e9f0613e",
       "value": "<h4 style=\"font-size:14px;\">Dependenz ist synonym zu:</h4>"
      }
     },
     "74b355b57ab84457ac5de022d55d8e5d": {
      "model_module": "@jupyter-widgets/controls",
      "model_module_version": "1.2.0",
      "model_name": "ButtonModel",
      "state": {
       "description": "Objekt",
       "layout": "IPY_MODEL_40e9f840bcf243aeb9dea09bcceecd40",
       "style": "IPY_MODEL_9fbc1a6dfc3b41b58289fb630b26174f"
      }
     },
     "7710eade74294561a7f0f2a91446eb7f": {
      "model_module": "@jupyter-widgets/controls",
      "model_module_version": "1.2.0",
      "model_name": "ButtonModel",
      "state": {
       "description": "Korrekt?",
       "layout": "IPY_MODEL_bad1715a308442f8ad69ffbfc42fa1ce",
       "style": "IPY_MODEL_12df7b15bfac4c2a99db5b9f2e31c7b8"
      }
     },
     "77364546eb2847019743b8fa7d5b5fc1": {
      "model_module": "@jupyter-widgets/controls",
      "model_module_version": "1.2.0",
      "model_name": "HTMLModel",
      "state": {
       "layout": "IPY_MODEL_bb15730c03cd4fe7bf501cdb4a6ea649",
       "style": "IPY_MODEL_a312686f7e0f435591f3476274147f71",
       "value": "<i>Markieren Sie <ins>alle</ins> passenden Antworten: </i>"
      }
     },
     "77726f5b9747436cbdce1b580e1c0682": {
      "model_module": "@jupyter-widgets/base",
      "model_module_version": "1.0.0",
      "model_name": "LayoutModel",
      "state": {}
     },
     "7790cda9ae7245898c4b59b4abb04714": {
      "model_module": "@jupyter-widgets/controls",
      "model_module_version": "1.2.0",
      "model_name": "ButtonStyleModel",
      "state": {}
     },
     "7795a6cb8e80427a8771c8638f3ab693": {
      "model_module": "@jupyter-widgets/controls",
      "model_module_version": "1.2.0",
      "model_name": "DescriptionStyleModel",
      "state": {
       "description_width": "initial"
      }
     },
     "78678398e64443d29cf7a82224aa07cb": {
      "model_module": "@jupyter-widgets/base",
      "model_module_version": "1.0.0",
      "model_name": "LayoutModel",
      "state": {
       "width": "250px"
      }
     },
     "7910c9b8fd214390b17c0a5306360b6a": {
      "model_module": "@jupyter-widgets/controls",
      "model_module_version": "1.2.0",
      "model_name": "ButtonStyleModel",
      "state": {}
     },
     "79fa79ebab6649cc8e12958560f843a1": {
      "model_module": "@jupyter-widgets/controls",
      "model_module_version": "1.2.0",
      "model_name": "DescriptionStyleModel",
      "state": {
       "description_width": ""
      }
     },
     "7a013513943f4fd1a8100d7373995019": {
      "model_module": "@jupyter-widgets/controls",
      "model_module_version": "1.2.0",
      "model_name": "DescriptionStyleModel",
      "state": {
       "description_width": "initial"
      }
     },
     "7a215f310eb5439096e8abad40b887d6": {
      "model_module": "@jupyter-widgets/controls",
      "model_module_version": "1.2.0",
      "model_name": "HBoxModel",
      "state": {
       "children": [
        "IPY_MODEL_0f5c6d5781d74d4aa733802ea70e0151"
       ],
       "layout": "IPY_MODEL_c342c306c3e44062aaee28506effc713"
      }
     },
     "7a53c43d0ccd423e81e102af86281f9f": {
      "model_module": "@jupyter-widgets/controls",
      "model_module_version": "1.2.0",
      "model_name": "ButtonModel",
      "state": {
       "description": "Theorie der Sprachstruktur",
       "layout": "IPY_MODEL_7301f35f0e884ca6875de8d0159f8947",
       "style": "IPY_MODEL_f28b168722d34bbb832c65024367d31e"
      }
     },
     "7a61d06bde064c158d8c20144df37aaf": {
      "model_module": "@jupyter-widgets/base",
      "model_module_version": "1.0.0",
      "model_name": "LayoutModel",
      "state": {}
     },
     "7abde13476274ed4b754285827f91c1a": {
      "model_module": "@jupyter-widgets/base",
      "model_module_version": "1.0.0",
      "model_name": "LayoutModel",
      "state": {}
     },
     "7b1076f851374e5a851fa0f26e4a1e5f": {
      "model_module": "@jupyter-widgets/controls",
      "model_module_version": "1.2.0",
      "model_name": "DescriptionStyleModel",
      "state": {
       "description_width": ""
      }
     },
     "7b7e1027b66048209923202f0fc4fd3f": {
      "model_module": "@jupyter-widgets/base",
      "model_module_version": "1.0.0",
      "model_name": "LayoutModel",
      "state": {
       "justify_content": "center"
      }
     },
     "7d027f6b7d424310a7e05d35985251bd": {
      "model_module": "@jupyter-widgets/controls",
      "model_module_version": "1.2.0",
      "model_name": "ButtonStyleModel",
      "state": {}
     },
     "7d8dae3c4b344241bbcb704ef837cac8": {
      "model_module": "@jupyter-widgets/base",
      "model_module_version": "1.0.0",
      "model_name": "LayoutModel",
      "state": {}
     },
     "7e57dada9dca430baf11d5c5c16271df": {
      "model_module": "@jupyter-widgets/base",
      "model_module_version": "1.0.0",
      "model_name": "LayoutModel",
      "state": {}
     },
     "7e6b2c4d95524f64a2ba7a76d0c01c69": {
      "model_module": "@jupyter-widgets/controls",
      "model_module_version": "1.2.0",
      "model_name": "DescriptionStyleModel",
      "state": {
       "description_width": "initial"
      }
     },
     "7e6d283fd84e4ebb92ec0434d05e248d": {
      "model_module": "@jupyter-widgets/controls",
      "model_module_version": "1.2.0",
      "model_name": "BoxModel",
      "state": {
       "children": [
        "IPY_MODEL_d3d0dd5f69d043259a9e7abe41a63207",
        "IPY_MODEL_f60f23f551da40ad88346bb588b618ac",
        "IPY_MODEL_11db17d93e8849869df6cdf567404ff4",
        "IPY_MODEL_3ee896f06eba4aaa91d83b38288c6ade",
        "IPY_MODEL_809e5b9061314109887e7003c3ab68e1"
       ],
       "layout": "IPY_MODEL_e3366b6bdde94743842a551e65afd7d6"
      }
     },
     "7ebe78539f5b45cfa35253f3be2c2c12": {
      "model_module": "@jupyter-widgets/controls",
      "model_module_version": "1.2.0",
      "model_name": "HTMLModel",
      "state": {
       "layout": "IPY_MODEL_ec5981613a9847feb722cad67f2310f0",
       "style": "IPY_MODEL_289ad826dacc4b948a6b463a7c450efc",
       "value": "<h4 style=\"font-size:14px;\">Was ist der Fall, wenn die PP ein Adverbial ist?</h4>"
      }
     },
     "7ec5480063b242c4ab52051fb6663002": {
      "model_module": "@jupyter-widgets/base",
      "model_module_version": "1.0.0",
      "model_name": "LayoutModel",
      "state": {
       "width": "600px"
      }
     },
     "7f986a8123f545ceb22d9b7832cc716c": {
      "model_module": "@jupyter-widgets/controls",
      "model_module_version": "1.2.0",
      "model_name": "ButtonStyleModel",
      "state": {}
     },
     "7ffebb06c1f849dfb41ac4374ae4a41d": {
      "model_module": "@jupyter-widgets/controls",
      "model_module_version": "1.2.0",
      "model_name": "HBoxModel",
      "state": {
       "children": [
        "IPY_MODEL_9e603fa82d7549e4840f1b087c6d4281",
        "IPY_MODEL_c1398d1df7fc45e9868982a5bd44b8da"
       ],
       "layout": "IPY_MODEL_66668a4c96034d0a8025c49fb2dfb750"
      }
     },
     "809e5b9061314109887e7003c3ab68e1": {
      "model_module": "@jupyter-widgets/controls",
      "model_module_version": "1.2.0",
      "model_name": "HTMLModel",
      "state": {
       "layout": "IPY_MODEL_0f50e62f9a984e0fbfc1abab1e2885d6",
       "style": "IPY_MODEL_f7c653d2adcc4f479c7a00b4e820fe5b",
       "value": "<h4 style=\"font-size:14px;\">Regularitäten bezieht.</h4>"
      }
     },
     "80a5d2872d01447f88474e3f1f13494d": {
      "model_module": "@jupyter-widgets/controls",
      "model_module_version": "1.2.0",
      "model_name": "HTMLModel",
      "state": {
       "layout": "IPY_MODEL_95a37f17a6fd4a7cbcdf7ff44083df8e",
       "style": "IPY_MODEL_531463b5a80746ae8872249610f9aecc",
       "value": "<i>Markieren Sie <ins>alle</ins> passenden Antworten: </i>"
      }
     },
     "81ada12da4b94887a23f8f5e409386f7": {
      "model_module": "@jupyter-widgets/controls",
      "model_module_version": "1.2.0",
      "model_name": "ButtonStyleModel",
      "state": {}
     },
     "8242ad8f3e4349c5a49bc19fd8d0d33b": {
      "model_module": "@jupyter-widgets/controls",
      "model_module_version": "1.2.0",
      "model_name": "HTMLModel",
      "state": {
       "layout": "IPY_MODEL_69ed53e26f504f6f806711a601e17212",
       "style": "IPY_MODEL_8c0b3504a6fc4d5da966724dd28422fa",
       "value": "<h4 style=\"font-size:14px;\">Bzgl. welcher (nicht an der Oberflächensyntax ersichtlichen) Eigenschaft unterscheiden sich die PPs in den beiden Analysen?</h4>"
      }
     },
     "8245e6cf2dc7410c9c1d1cd0812e9449": {
      "model_module": "@jupyter-widgets/base",
      "model_module_version": "1.0.0",
      "model_name": "LayoutModel",
      "state": {
       "width": "250px"
      }
     },
     "82f3624f1c1b465082889fdc1944134a": {
      "model_module": "@jupyter-widgets/controls",
      "model_module_version": "1.2.0",
      "model_name": "HTMLModel",
      "state": {
       "layout": "IPY_MODEL_ffb32c42c90446fda3e070275eafd3d1",
       "style": "IPY_MODEL_450484974256449a8355240a7860c051",
       "value": "<i>Wählen Sie die <ins>eine</ins> korrekte Antwort aus: </i>"
      }
     },
     "830e5f75225e41a09daba1d864b0e623": {
      "model_module": "@jupyter-widgets/controls",
      "model_module_version": "1.2.0",
      "model_name": "DescriptionStyleModel",
      "state": {
       "description_width": "initial"
      }
     },
     "83439826e3e84a7aa925036b811d4276": {
      "model_module": "@jupyter-widgets/controls",
      "model_module_version": "1.2.0",
      "model_name": "ButtonModel",
      "state": {
       "description": "formale Grammatik + Parser",
       "layout": "IPY_MODEL_eaa881b1ddb346adb10f22e01f04c748",
       "style": "IPY_MODEL_4c92eb99a06b437fade03da7942a9d05"
      }
     },
     "8344f13241674e23ae09ee8b2866902a": {
      "model_module": "@jupyter-widgets/base",
      "model_module_version": "1.0.0",
      "model_name": "LayoutModel",
      "state": {}
     },
     "83ce17d1b8a84ee8917924000705a56c": {
      "model_module": "@jupyter-widgets/controls",
      "model_module_version": "1.2.0",
      "model_name": "ButtonModel",
      "state": {
       "description": "Regelbuch",
       "layout": "IPY_MODEL_fa0e4da700204700ad85dfc44ca26e37",
       "style": "IPY_MODEL_72161fe8e13245f3ab38790ac736e07f"
      }
     },
     "83eabd3685e54919b55616ee7e30bd39": {
      "model_module": "@jupyter-widgets/controls",
      "model_module_version": "1.2.0",
      "model_name": "ButtonModel",
      "state": {
       "description": "Abhängigkeitsstruktur",
       "layout": "IPY_MODEL_4f9d3c80390a49feb1d0e8e5acbdd3a8",
       "style": "IPY_MODEL_4a390e86f88c4162b0669abe40bc1b48"
      }
     },
     "85a4175c3b504b1c9c73d91cdbb0ed4b": {
      "model_module": "@jupyter-widgets/base",
      "model_module_version": "1.0.0",
      "model_name": "LayoutModel",
      "state": {}
     },
     "85b5d44af0d44a83a14e929794d420b2": {
      "model_module": "@jupyter-widgets/controls",
      "model_module_version": "1.2.0",
      "model_name": "ButtonModel",
      "state": {
       "description": "Regelsystem",
       "layout": "IPY_MODEL_9989e8c69be04de8be93d0f3f4232640",
       "style": "IPY_MODEL_25d36b9b4e144e12975a70cc82339bb9"
      }
     },
     "86637c9acb2e4e3abbd0c6800f48f6df": {
      "model_module": "@jupyter-widgets/controls",
      "model_module_version": "1.2.0",
      "model_name": "HBoxModel",
      "state": {
       "children": [
        "IPY_MODEL_f65a9970a92349b1a43d4d1836be58a2",
        "IPY_MODEL_83439826e3e84a7aa925036b811d4276"
       ],
       "layout": "IPY_MODEL_ebdb218cf11e4482ac0e376733fe5ea6"
      }
     },
     "86c1b662bb8e4025b15c3753932ac513": {
      "model_module": "@jupyter-widgets/controls",
      "model_module_version": "1.2.0",
      "model_name": "DescriptionStyleModel",
      "state": {
       "description_width": ""
      }
     },
     "86efefb539414ca39fc4c16b0a16ed68": {
      "model_module": "@jupyter-widgets/base",
      "model_module_version": "1.0.0",
      "model_name": "LayoutModel",
      "state": {}
     },
     "8735da01fac6411e936b7c0715f6e827": {
      "model_module": "@jupyter-widgets/base",
      "model_module_version": "1.0.0",
      "model_name": "LayoutModel",
      "state": {
       "width": "600px"
      }
     },
     "876a10678047437488066bf789ada780": {
      "model_module": "@jupyter-widgets/base",
      "model_module_version": "1.0.0",
      "model_name": "LayoutModel",
      "state": {}
     },
     "878a28d22f8c452aa3e69e17b90fc2ff": {
      "model_module": "@jupyter-widgets/controls",
      "model_module_version": "1.2.0",
      "model_name": "DescriptionStyleModel",
      "state": {
       "description_width": ""
      }
     },
     "889b9bb5c1bc4f9799b40d83e35980ef": {
      "model_module": "@jupyter-widgets/controls",
      "model_module_version": "1.2.0",
      "model_name": "VBoxModel",
      "state": {
       "children": [
        "IPY_MODEL_3481ff9cf3d245e58bd408a37893294c",
        "IPY_MODEL_beb040c256e745a6b9395084feba0e38",
        "IPY_MODEL_5ba0acc0374d469dbc5cc572d5fed2ad",
        "IPY_MODEL_8e71b31d55e946c69e7e1db328df4af3",
        "IPY_MODEL_fb358efd841042a097393445eea2570b"
       ],
       "layout": "IPY_MODEL_990162eb29084b9ab589889958e0df44"
      }
     },
     "88d1cc8c71e4490c81901656a1223724": {
      "model_module": "@jupyter-widgets/controls",
      "model_module_version": "1.2.0",
      "model_name": "ButtonStyleModel",
      "state": {}
     },
     "8a56ce0fbf4a4e678f2ac6bb6ab17652": {
      "model_module": "@jupyter-widgets/base",
      "model_module_version": "1.0.0",
      "model_name": "LayoutModel",
      "state": {}
     },
     "8aeb065e07ea418d8bc11461649c53ec": {
      "model_module": "@jupyter-widgets/controls",
      "model_module_version": "1.2.0",
      "model_name": "DescriptionStyleModel",
      "state": {
       "description_width": ""
      }
     },
     "8ba364f6933643739ce395bf7215a3f2": {
      "model_module": "@jupyter-widgets/controls",
      "model_module_version": "1.2.0",
      "model_name": "DescriptionStyleModel",
      "state": {
       "description_width": "initial"
      }
     },
     "8bc5655ccd6f4bb7acc1639938fa6a4e": {
      "model_module": "@jupyter-widgets/controls",
      "model_module_version": "1.2.0",
      "model_name": "VBoxModel",
      "state": {
       "children": [
        "IPY_MODEL_e8598f0d291746d0a4157a3d606392d0",
        "IPY_MODEL_b51adf7d59d24fdc9ebda43e88932bac",
        "IPY_MODEL_90a3225ca5db4dbdbc5dff5137ccf02a",
        "IPY_MODEL_6576e1232477428d9ddb0dbab2862353",
        "IPY_MODEL_e4a6096e22c94353bf231e6726cd0e32"
       ],
       "layout": "IPY_MODEL_ace824667db54ca2b27d07d8bc0f3c0d"
      }
     },
     "8bf0b1b8c53146259c694c81cba4c357": {
      "model_module": "@jupyter-widgets/base",
      "model_module_version": "1.0.0",
      "model_name": "LayoutModel",
      "state": {
       "width": "250px"
      }
     },
     "8c0b3504a6fc4d5da966724dd28422fa": {
      "model_module": "@jupyter-widgets/controls",
      "model_module_version": "1.2.0",
      "model_name": "DescriptionStyleModel",
      "state": {
       "description_width": ""
      }
     },
     "8c1dd64e3b1843b6a3f2fe94e5094e8f": {
      "model_module": "@jupyter-widgets/controls",
      "model_module_version": "1.2.0",
      "model_name": "ButtonStyleModel",
      "state": {}
     },
     "8c925bb4d170449cafcdb3007607445b": {
      "model_module": "@jupyter-widgets/base",
      "model_module_version": "1.0.0",
      "model_name": "LayoutModel",
      "state": {}
     },
     "8d387f08beb24a7e9b30dc58d583661c": {
      "model_module": "@jupyter-widgets/controls",
      "model_module_version": "1.2.0",
      "model_name": "VBoxModel",
      "state": {
       "children": [
        "IPY_MODEL_e209f1dc6d304d379b901880a23c505b",
        "IPY_MODEL_af76afe522a744b0a2e9bd48d345a426",
        "IPY_MODEL_6e7d14000ad34c6094410b598de2b48d",
        "IPY_MODEL_5e9eca0bb67f4479b72db60f5bcdabb0"
       ],
       "layout": "IPY_MODEL_b7edccec2c084ef780a7739fd96ca986"
      }
     },
     "8d395269f7614c668dd16ad30d936c33": {
      "model_module": "@jupyter-widgets/controls",
      "model_module_version": "1.2.0",
      "model_name": "HBoxModel",
      "state": {
       "children": [
        "IPY_MODEL_adc809496c1d4b8fbcd0a8eb86cb9212",
        "IPY_MODEL_a4901034e5ec476a95c5f7d998f5eb9b"
       ],
       "layout": "IPY_MODEL_8c925bb4d170449cafcdb3007607445b"
      }
     },
     "8e71b31d55e946c69e7e1db328df4af3": {
      "model_module": "@jupyter-widgets/controls",
      "model_module_version": "1.2.0",
      "model_name": "HBoxModel",
      "state": {
       "children": [
        "IPY_MODEL_b1a8d8e57d3a4f7097328cc163c7d1a1",
        "IPY_MODEL_650608cd14df4da5a829764a60079a9b"
       ],
       "layout": "IPY_MODEL_1b2dde9efb684b35b89b1069b265cad5"
      }
     },
     "8e959a4d6b9b440992ac4ea9f38583d4": {
      "model_module": "@jupyter-widgets/base",
      "model_module_version": "1.0.0",
      "model_name": "LayoutModel",
      "state": {
       "justify_content": "center"
      }
     },
     "8f787a97a7044954b1d4330a0c49c28f": {
      "model_module": "@jupyter-widgets/controls",
      "model_module_version": "1.2.0",
      "model_name": "ButtonStyleModel",
      "state": {}
     },
     "8fe04ec97f704fd29d30fa28b810103b": {
      "model_module": "@jupyter-widgets/controls",
      "model_module_version": "1.2.0",
      "model_name": "CheckboxModel",
      "state": {
       "description": "Eine automatische Strukturanalyse wird möglich.",
       "disabled": false,
       "layout": "IPY_MODEL_6d7944bddb4048afb66235905f8af09b",
       "style": "IPY_MODEL_25dd903105d84fb9a9e41814064da174",
       "value": false
      }
     },
     "901070fef2d4458bbbb48c45b3d8c79d": {
      "model_module": "@jupyter-widgets/base",
      "model_module_version": "1.0.0",
      "model_name": "LayoutModel",
      "state": {
       "justify_content": "center"
      }
     },
     "903457527f18490ea63852f647d6936d": {
      "model_module": "@jupyter-widgets/controls",
      "model_module_version": "1.2.0",
      "model_name": "HTMLModel",
      "state": {
       "layout": "IPY_MODEL_2a8ab84315da46b2b90149a60d4b85fd",
       "style": "IPY_MODEL_18a90e94f7d04a058c763bc1bd56addb",
       "value": "<i>Vervollständigen Sie den Lückentext: </i>"
      }
     },
     "905b358223254fad969b2ee5573f48d1": {
      "model_module": "@jupyter-widgets/controls",
      "model_module_version": "1.2.0",
      "model_name": "DescriptionStyleModel",
      "state": {
       "description_width": ""
      }
     },
     "90a3225ca5db4dbdbc5dff5137ccf02a": {
      "model_module": "@jupyter-widgets/controls",
      "model_module_version": "1.2.0",
      "model_name": "CheckboxModel",
      "state": {
       "description": "Objekt-Nominalphrase",
       "disabled": false,
       "layout": "IPY_MODEL_e710519fac9e47718b9611c36c383067",
       "style": "IPY_MODEL_8ba364f6933643739ce395bf7215a3f2",
       "value": false
      }
     },
     "90eb3c203b0c4051b14613847b0acc7c": {
      "model_module": "@jupyter-widgets/controls",
      "model_module_version": "1.2.0",
      "model_name": "DescriptionStyleModel",
      "state": {
       "description_width": ""
      }
     },
     "91eccdc1032742539f5181cadc085c93": {
      "model_module": "@jupyter-widgets/controls",
      "model_module_version": "1.2.0",
      "model_name": "CheckboxModel",
      "state": {
       "description": "Eine unendliche Menge an Sätzen kann mit endlichen Mitteln beschrieben werden.",
       "disabled": false,
       "layout": "IPY_MODEL_68d9bd67c1774864baa4ea7099472f67",
       "style": "IPY_MODEL_5330833245774c90b0315b143fc61fd2",
       "value": false
      }
     },
     "92b38cac43814836920fa55c37e80b46": {
      "model_module": "@jupyter-widgets/base",
      "model_module_version": "1.0.0",
      "model_name": "LayoutModel",
      "state": {}
     },
     "92f4fc427c894238850cc387e3e085a2": {
      "model_module": "@jupyter-widgets/base",
      "model_module_version": "1.0.0",
      "model_name": "LayoutModel",
      "state": {}
     },
     "9314d05859a6407586bad82f86368bb2": {
      "model_module": "@jupyter-widgets/controls",
      "model_module_version": "1.2.0",
      "model_name": "HTMLModel",
      "state": {
       "layout": "IPY_MODEL_9ab6b42aa3f042d9aa1240b669663e39",
       "style": "IPY_MODEL_9641ba5bc4ed4310aa6a54935988b7f9",
       "value": "<i>Wählen Sie die <ins>eine</ins> korrekte Antwort aus: </i>"
      }
     },
     "93ac31b125074bfc9ca6e9c9c185e6d6": {
      "model_module": "@jupyter-widgets/base",
      "model_module_version": "1.0.0",
      "model_name": "LayoutModel",
      "state": {
       "width": "600px"
      }
     },
     "93be531b66b14236a27b25bd18b79a2f": {
      "model_module": "@jupyter-widgets/controls",
      "model_module_version": "1.2.0",
      "model_name": "DropdownModel",
      "state": {
       "_options_labels": [
        "Grundsymbole",
        "Nicht-Terminale",
        " "
       ],
       "index": 2,
       "layout": "IPY_MODEL_b18cf0f51c2f4a0eb9be25b1976d627a",
       "style": "IPY_MODEL_11c6cca1e41a47efb30f30f3c650cb08"
      }
     },
     "943c3d95c33048a485fe4fe0cce4865c": {
      "model_module": "@jupyter-widgets/base",
      "model_module_version": "1.0.0",
      "model_name": "LayoutModel",
      "state": {
       "width": "250px"
      }
     },
     "94b29706400948a3be75baf36418bcbb": {
      "model_module": "@jupyter-widgets/base",
      "model_module_version": "1.0.0",
      "model_name": "LayoutModel",
      "state": {
       "justify_content": "center"
      }
     },
     "9514bc57e4f54fa38aa270c0a912454c": {
      "model_module": "@jupyter-widgets/controls",
      "model_module_version": "1.2.0",
      "model_name": "ButtonModel",
      "state": {
       "description": "strukturelle Ambiguität",
       "layout": "IPY_MODEL_ae4aa145d71a489b9891139167cfb18e",
       "style": "IPY_MODEL_b2e318b001f9403185254ac3586b55ee"
      }
     },
     "955618519d5b4578ab43f3a6f4c9a5c5": {
      "model_module": "@jupyter-widgets/base",
      "model_module_version": "1.0.0",
      "model_name": "LayoutModel",
      "state": {}
     },
     "95a37f17a6fd4a7cbcdf7ff44083df8e": {
      "model_module": "@jupyter-widgets/base",
      "model_module_version": "1.0.0",
      "model_name": "LayoutModel",
      "state": {
       "justify_content": "center"
      }
     },
     "9641ba5bc4ed4310aa6a54935988b7f9": {
      "model_module": "@jupyter-widgets/controls",
      "model_module_version": "1.2.0",
      "model_name": "DescriptionStyleModel",
      "state": {
       "description_width": ""
      }
     },
     "9643188eba0145f4b9c49684fc87b25f": {
      "model_module": "@jupyter-widgets/controls",
      "model_module_version": "1.2.0",
      "model_name": "ButtonStyleModel",
      "state": {}
     },
     "9702598485b846188631d3c553ade5db": {
      "model_module": "@jupyter-widgets/base",
      "model_module_version": "1.0.0",
      "model_name": "LayoutModel",
      "state": {}
     },
     "97c55c0b82314a38b09f78efffb5081f": {
      "model_module": "@jupyter-widgets/base",
      "model_module_version": "1.0.0",
      "model_name": "LayoutModel",
      "state": {
       "justify_content": "center"
      }
     },
     "981859649b5646eb80ceed045007654c": {
      "model_module": "@jupyter-widgets/controls",
      "model_module_version": "1.2.0",
      "model_name": "ButtonModel",
      "state": {
       "description": "Wortstruktur",
       "layout": "IPY_MODEL_78678398e64443d29cf7a82224aa07cb",
       "style": "IPY_MODEL_e6be94c99a7a45d099a2f3d6d2a2d590"
      }
     },
     "982a119db2ec452eae9929a870c2d58c": {
      "model_module": "@jupyter-widgets/controls",
      "model_module_version": "1.2.0",
      "model_name": "HTMLModel",
      "state": {
       "layout": "IPY_MODEL_955618519d5b4578ab43f3a6f4c9a5c5",
       "style": "IPY_MODEL_6b0b0f70b84a41b48aca25986447c6f3",
       "value": "<h4 style=\"font-size:14px;\">Hinsichtlich welcher syntaktischen Grundprinzipien werden natürliche Sprachen mit formalen Methoden analysiert?</h4>"
      }
     },
     "984911c873d74a8d8fa6265e3ce5992b": {
      "model_module": "@jupyter-widgets/controls",
      "model_module_version": "1.2.0",
      "model_name": "HBoxModel",
      "state": {
       "children": [
        "IPY_MODEL_e800d5c987e0415cb9e693cc459afb1c"
       ],
       "layout": "IPY_MODEL_ce34d13b1efb4359b99e718967c7eb84"
      }
     },
     "986344f0c520427ba3df015ecec8fdbd": {
      "model_module": "@jupyter-widgets/controls",
      "model_module_version": "1.2.0",
      "model_name": "ButtonModel",
      "state": {
       "description": "Regelsystem",
       "layout": "IPY_MODEL_8245e6cf2dc7410c9c1d1cd0812e9449",
       "style": "IPY_MODEL_703b833a876b45d596fcdac529a222f9"
      }
     },
     "990162eb29084b9ab589889958e0df44": {
      "model_module": "@jupyter-widgets/base",
      "model_module_version": "1.0.0",
      "model_name": "LayoutModel",
      "state": {}
     },
     "9989e8c69be04de8be93d0f3f4232640": {
      "model_module": "@jupyter-widgets/base",
      "model_module_version": "1.0.0",
      "model_name": "LayoutModel",
      "state": {
       "width": "250px"
      }
     },
     "999f766cc53d45f4a14ca8cf393938c6": {
      "model_module": "@jupyter-widgets/controls",
      "model_module_version": "1.2.0",
      "model_name": "ButtonStyleModel",
      "state": {}
     },
     "99d706d5a09c4a66933416bae6f3c9fa": {
      "model_module": "@jupyter-widgets/base",
      "model_module_version": "1.0.0",
      "model_name": "LayoutModel",
      "state": {
       "width": "600px"
      }
     },
     "9a03a37ce35b47e0afb15260cfcd150d": {
      "model_module": "@jupyter-widgets/controls",
      "model_module_version": "1.2.0",
      "model_name": "DescriptionStyleModel",
      "state": {
       "description_width": ""
      }
     },
     "9ab6b42aa3f042d9aa1240b669663e39": {
      "model_module": "@jupyter-widgets/base",
      "model_module_version": "1.0.0",
      "model_name": "LayoutModel",
      "state": {
       "justify_content": "center"
      }
     },
     "9abda0a36c3f4eaebaee77a48d5c1bdd": {
      "model_module": "@jupyter-widgets/base",
      "model_module_version": "1.0.0",
      "model_name": "LayoutModel",
      "state": {
       "width": "600px"
      }
     },
     "9af18d20740748dd8d15f84fd0d73639": {
      "model_module": "@jupyter-widgets/controls",
      "model_module_version": "1.2.0",
      "model_name": "DescriptionStyleModel",
      "state": {
       "description_width": ""
      }
     },
     "9b66546b2f6b4110af16d2e179cadd43": {
      "model_module": "@jupyter-widgets/controls",
      "model_module_version": "1.2.0",
      "model_name": "DropdownModel",
      "state": {
       "_options_labels": [
        "Morphem",
        "Symbol",
        "Wort",
        " "
       ],
       "index": 3,
       "layout": "IPY_MODEL_ab5c60dd14424eec9df70addf3de2cbb",
       "style": "IPY_MODEL_14285e0e11134c6abe569c64487625e8"
      }
     },
     "9b85b1e263f342c6a9f1d851fddc7b73": {
      "model_module": "@jupyter-widgets/base",
      "model_module_version": "1.0.0",
      "model_name": "LayoutModel",
      "state": {
       "width": "250px"
      }
     },
     "9c6d87ff9301418d8d5a11f806fd1df4": {
      "model_module": "@jupyter-widgets/controls",
      "model_module_version": "1.2.0",
      "model_name": "DescriptionStyleModel",
      "state": {
       "description_width": "initial"
      }
     },
     "9c9b4a9db5d5453bae8032a8afa1b3e9": {
      "model_module": "@jupyter-widgets/controls",
      "model_module_version": "1.2.0",
      "model_name": "DescriptionStyleModel",
      "state": {
       "description_width": "initial"
      }
     },
     "9cbe7875255d42c9aec910e6762da5fc": {
      "model_module": "@jupyter-widgets/base",
      "model_module_version": "1.0.0",
      "model_name": "LayoutModel",
      "state": {
       "width": "250px"
      }
     },
     "9ce5ca1b3f614251adc4405f71668819": {
      "model_module": "@jupyter-widgets/base",
      "model_module_version": "1.0.0",
      "model_name": "LayoutModel",
      "state": {
       "width": "250px"
      }
     },
     "9dc3f7fd435e4ed7bceafbaf3b6b2fb2": {
      "model_module": "@jupyter-widgets/controls",
      "model_module_version": "1.2.0",
      "model_name": "DescriptionStyleModel",
      "state": {
       "description_width": ""
      }
     },
     "9e603fa82d7549e4840f1b087c6d4281": {
      "model_module": "@jupyter-widgets/controls",
      "model_module_version": "1.2.0",
      "model_name": "ButtonModel",
      "state": {
       "description": "syntaktische Funktion",
       "layout": "IPY_MODEL_fd9ae1ff5cfc4eea8eec7fa57ab09727",
       "style": "IPY_MODEL_88d1cc8c71e4490c81901656a1223724"
      }
     },
     "9eb4e5a007db494c862d43442cf8610b": {
      "model_module": "@jupyter-widgets/controls",
      "model_module_version": "1.2.0",
      "model_name": "ButtonStyleModel",
      "state": {}
     },
     "9f36b18254124ebb869f84dc337637ee": {
      "model_module": "@jupyter-widgets/base",
      "model_module_version": "1.0.0",
      "model_name": "LayoutModel",
      "state": {
       "justify_content": "center"
      }
     },
     "9f4a8a8340e04fdb95ae78a3ad7bc34d": {
      "model_module": "@jupyter-widgets/controls",
      "model_module_version": "1.2.0",
      "model_name": "ButtonModel",
      "state": {
       "description": "Regelbuch",
       "layout": "IPY_MODEL_11c84db697684b2796cc95d378262dd0",
       "style": "IPY_MODEL_f8943b319f82423086a2c5321f35df23"
      }
     },
     "9f530ea448314914ae3488c1b4dc8938": {
      "model_module": "@jupyter-widgets/controls",
      "model_module_version": "1.2.0",
      "model_name": "HBoxModel",
      "state": {
       "children": [
        "IPY_MODEL_9514bc57e4f54fa38aa270c0a912454c",
        "IPY_MODEL_fdf72fa0a3af413d87aa9ec5fdde4398"
       ],
       "layout": "IPY_MODEL_4de1263f553045fdbcefe862f3be0308"
      }
     },
     "9fbc1a6dfc3b41b58289fb630b26174f": {
      "model_module": "@jupyter-widgets/controls",
      "model_module_version": "1.2.0",
      "model_name": "ButtonStyleModel",
      "state": {}
     },
     "9fc817fc59384ad182f5e8f79541a5b2": {
      "model_module": "@jupyter-widgets/controls",
      "model_module_version": "1.2.0",
      "model_name": "CheckboxModel",
      "state": {
       "description": "morphologische",
       "disabled": false,
       "layout": "IPY_MODEL_8735da01fac6411e936b7c0715f6e827",
       "style": "IPY_MODEL_f5c7dce3150442fc8456b42c3f44f57d",
       "value": false
      }
     },
     "a003eda5f1bc41788b6a0461bc23e3f4": {
      "model_module": "@jupyter-widgets/controls",
      "model_module_version": "1.2.0",
      "model_name": "DescriptionStyleModel",
      "state": {
       "description_width": "initial"
      }
     },
     "a063c3ab2461410aba800ef9ce47fc4e": {
      "model_module": "@jupyter-widgets/base",
      "model_module_version": "1.0.0",
      "model_name": "LayoutModel",
      "state": {
       "justify_content": "center"
      }
     },
     "a0c82cf5647c4e91b85d3693666610fa": {
      "model_module": "@jupyter-widgets/controls",
      "model_module_version": "1.2.0",
      "model_name": "HBoxModel",
      "state": {
       "children": [
        "IPY_MODEL_fc84c2d1cde9467bbd24bab391c40bf4",
        "IPY_MODEL_0e9cafe71edf441b9d077dd9778c1857"
       ],
       "layout": "IPY_MODEL_31bddde90a934ce69006702a766c4dd4"
      }
     },
     "a1224064cb9f44d3a0f6b06df4debeb0": {
      "model_module": "@jupyter-widgets/controls",
      "model_module_version": "1.2.0",
      "model_name": "HTMLModel",
      "state": {
       "layout": "IPY_MODEL_3cf8e41b5b804c30bfef9f6dcffb460c",
       "style": "IPY_MODEL_3b55566a80ce411d9357cdafc73f28d9",
       "value": "<i>Wählen Sie die <ins>eine</ins> korrekte Antwort aus: </i>"
      }
     },
     "a2b1c4c23bee4dc788484c85b16e2267": {
      "model_module": "@jupyter-widgets/base",
      "model_module_version": "1.0.0",
      "model_name": "LayoutModel",
      "state": {}
     },
     "a2cdf283974b45238474da745727cf75": {
      "model_module": "@jupyter-widgets/base",
      "model_module_version": "1.0.0",
      "model_name": "LayoutModel",
      "state": {
       "width": "250px"
      }
     },
     "a3009ee36a1e4d6280f6fedad2998afa": {
      "model_module": "@jupyter-widgets/controls",
      "model_module_version": "1.2.0",
      "model_name": "DescriptionStyleModel",
      "state": {
       "description_width": "initial"
      }
     },
     "a312686f7e0f435591f3476274147f71": {
      "model_module": "@jupyter-widgets/controls",
      "model_module_version": "1.2.0",
      "model_name": "DescriptionStyleModel",
      "state": {
       "description_width": ""
      }
     },
     "a330ed2c54b94cc69053e7f19296a851": {
      "model_module": "@jupyter-widgets/controls",
      "model_module_version": "1.2.0",
      "model_name": "ButtonStyleModel",
      "state": {}
     },
     "a342322a69564fd7a6ac1600d90ab911": {
      "model_module": "@jupyter-widgets/controls",
      "model_module_version": "1.2.0",
      "model_name": "CheckboxModel",
      "state": {
       "description": "Grammatikalität",
       "disabled": false,
       "layout": "IPY_MODEL_3500f31e0d034aa08dc67e5f993328dd",
       "style": "IPY_MODEL_7a013513943f4fd1a8100d7373995019",
       "value": false
      }
     },
     "a3d9832ddefd4d51a0e4ad156c4149a9": {
      "model_module": "@jupyter-widgets/controls",
      "model_module_version": "1.2.0",
      "model_name": "CheckboxModel",
      "state": {
       "description": "Nomen ist Kopf einer NP-Phrase",
       "disabled": false,
       "layout": "IPY_MODEL_5f29bf4671b94a31bdb091fa4a28d4a3",
       "style": "IPY_MODEL_9c9b4a9db5d5453bae8032a8afa1b3e9",
       "value": false
      }
     },
     "a463ea4b1b9243229a02538aa9a65b3d": {
      "model_module": "@jupyter-widgets/base",
      "model_module_version": "1.0.0",
      "model_name": "LayoutModel",
      "state": {
       "justify_content": "center"
      }
     },
     "a47fd54ad7944096bed1ebefd4f86cba": {
      "model_module": "@jupyter-widgets/base",
      "model_module_version": "1.0.0",
      "model_name": "LayoutModel",
      "state": {}
     },
     "a4901034e5ec476a95c5f7d998f5eb9b": {
      "model_module": "@jupyter-widgets/controls",
      "model_module_version": "1.2.0",
      "model_name": "ButtonModel",
      "state": {
       "description": "Konstituenz",
       "layout": "IPY_MODEL_401bc15c64f247bdbbbd8369e4167a2d",
       "style": "IPY_MODEL_0429bbc1ad08445e856fe2f8d423747d"
      }
     },
     "a56ae8c31c6c41e6a989e71d9f18667d": {
      "model_module": "@jupyter-widgets/controls",
      "model_module_version": "1.2.0",
      "model_name": "ButtonModel",
      "state": {
       "description": "Objekt",
       "layout": "IPY_MODEL_e531b721eb1e44d685683440a5cca127",
       "style": "IPY_MODEL_285f9c3e728f45fd9f93d337060be5f7"
      }
     },
     "a5896055b6774c319d11254af152c39f": {
      "model_module": "@jupyter-widgets/controls",
      "model_module_version": "1.2.0",
      "model_name": "ButtonStyleModel",
      "state": {}
     },
     "a5e419f8f8a84cffa261ddc6beab4071": {
      "model_module": "@jupyter-widgets/base",
      "model_module_version": "1.0.0",
      "model_name": "LayoutModel",
      "state": {
       "width": "150px"
      }
     },
     "a762c9da18ab498cb2529daa6b9b2be1": {
      "model_module": "@jupyter-widgets/controls",
      "model_module_version": "1.2.0",
      "model_name": "HTMLModel",
      "state": {
       "layout": "IPY_MODEL_a2b1c4c23bee4dc788484c85b16e2267",
       "style": "IPY_MODEL_0c9c41e6962b44b7beacccaae52fe2f4",
       "value": "<h4 style=\"font-size:14px;\">Welche Gesetzmäßigkeiten umfasst die Grammatik als Regelsystem?</h4>"
      }
     },
     "a7c7c6ccd4f247b79c05a333c7fdba4c": {
      "model_module": "@jupyter-widgets/controls",
      "model_module_version": "1.2.0",
      "model_name": "ButtonStyleModel",
      "state": {}
     },
     "a7cb5f61aab04eea96691345fb4c40a3": {
      "model_module": "@jupyter-widgets/controls",
      "model_module_version": "1.2.0",
      "model_name": "ButtonModel",
      "state": {
       "description": "Phrasentyp",
       "layout": "IPY_MODEL_9b85b1e263f342c6a9f1d851fddc7b73",
       "style": "IPY_MODEL_e62a42e1d4db4a6fad5ef1cd441bd0a8"
      }
     },
     "a9c19acc65354ced8d03d20cb472619d": {
      "model_module": "@jupyter-widgets/base",
      "model_module_version": "1.0.0",
      "model_name": "LayoutModel",
      "state": {
       "width": "250px"
      }
     },
     "aa037d0634514bb688e1eb0248d531cc": {
      "model_module": "@jupyter-widgets/controls",
      "model_module_version": "1.2.0",
      "model_name": "HTMLModel",
      "state": {
       "layout": "IPY_MODEL_58a894e1ba0e442381a1c4f71b68ad9f",
       "style": "IPY_MODEL_6d5e9a3c141a4327a9401d9057eafddc",
       "value": "<i>Wählen Sie die <ins>eine</ins> korrekte Antwort aus: </i>"
      }
     },
     "aa4314d038254541a0b989012bb0c9a7": {
      "model_module": "@jupyter-widgets/controls",
      "model_module_version": "1.2.0",
      "model_name": "DescriptionStyleModel",
      "state": {
       "description_width": "initial"
      }
     },
     "ab2f19b3823f4bd5a42e6da11df96aca": {
      "model_module": "@jupyter-widgets/controls",
      "model_module_version": "1.2.0",
      "model_name": "ButtonStyleModel",
      "state": {}
     },
     "ab5b4590c09b41a6b4c35fdb62749175": {
      "model_module": "@jupyter-widgets/controls",
      "model_module_version": "1.2.0",
      "model_name": "HTMLModel",
      "state": {
       "layout": "IPY_MODEL_2f2162464769488cbe9d6cf0d448312a",
       "style": "IPY_MODEL_b7772ee2c8ef45dca4cbe036dad46a7c",
       "value": "<h4 style=\"font-size:14px;\">Was ist der Ursprung der Ambiguität?</h4>"
      }
     },
     "ab5c3f68c6f14ff58c6f346feb9ca681": {
      "model_module": "@jupyter-widgets/controls",
      "model_module_version": "1.2.0",
      "model_name": "VBoxModel",
      "state": {
       "children": [
        "IPY_MODEL_b97b1b9c1ae6446ab5e2cef58f9749e7",
        "IPY_MODEL_aa037d0634514bb688e1eb0248d531cc",
        "IPY_MODEL_71cbec809f974089b9e20a183c927176"
       ],
       "layout": "IPY_MODEL_e46f8762e9fd4bed90405183face7078"
      }
     },
     "ab5c60dd14424eec9df70addf3de2cbb": {
      "model_module": "@jupyter-widgets/base",
      "model_module_version": "1.0.0",
      "model_name": "LayoutModel",
      "state": {
       "width": "150px"
      }
     },
     "abf1b515b0834d26ad6aef7342f70ce5": {
      "model_module": "@jupyter-widgets/controls",
      "model_module_version": "1.2.0",
      "model_name": "DescriptionStyleModel",
      "state": {
       "description_width": "initial"
      }
     },
     "ac77ec911410471f8364276616c5a647": {
      "model_module": "@jupyter-widgets/controls",
      "model_module_version": "1.2.0",
      "model_name": "DescriptionStyleModel",
      "state": {
       "description_width": ""
      }
     },
     "ace824667db54ca2b27d07d8bc0f3c0d": {
      "model_module": "@jupyter-widgets/base",
      "model_module_version": "1.0.0",
      "model_name": "LayoutModel",
      "state": {}
     },
     "ad6a1fff4ed04967a12408f75bc241bc": {
      "model_module": "@jupyter-widgets/base",
      "model_module_version": "1.0.0",
      "model_name": "LayoutModel",
      "state": {
       "width": "250px"
      }
     },
     "adc809496c1d4b8fbcd0a8eb86cb9212": {
      "model_module": "@jupyter-widgets/controls",
      "model_module_version": "1.2.0",
      "model_name": "ButtonModel",
      "state": {
       "description": "Abhängigkeitsstruktur",
       "layout": "IPY_MODEL_4f532161e5474dddb4d9c998a0ee2cfb",
       "style": "IPY_MODEL_b57fc188a5d64405b13915937a930fbb"
      }
     },
     "ae4aa145d71a489b9891139167cfb18e": {
      "model_module": "@jupyter-widgets/base",
      "model_module_version": "1.0.0",
      "model_name": "LayoutModel",
      "state": {
       "width": "250px"
      }
     },
     "ae584b5dcf3849aebdcd252d1fa22287": {
      "model_module": "@jupyter-widgets/controls",
      "model_module_version": "1.2.0",
      "model_name": "VBoxModel",
      "state": {
       "children": [
        "IPY_MODEL_8242ad8f3e4349c5a49bc19fd8d0d33b",
        "IPY_MODEL_a1224064cb9f44d3a0f6b06df4debeb0",
        "IPY_MODEL_6e570faecb2648b1824c70562f2bb95c",
        "IPY_MODEL_7ffebb06c1f849dfb41ac4374ae4a41d"
       ],
       "layout": "IPY_MODEL_9702598485b846188631d3c553ade5db"
      }
     },
     "aee7a8e4875641d28fb3748e0a019d38": {
      "model_module": "@jupyter-widgets/controls",
      "model_module_version": "1.2.0",
      "model_name": "DescriptionStyleModel",
      "state": {
       "description_width": ""
      }
     },
     "af06cf5a47d3425c95f086dc93532c05": {
      "model_module": "@jupyter-widgets/base",
      "model_module_version": "1.0.0",
      "model_name": "LayoutModel",
      "state": {
       "width": "250px"
      }
     },
     "af0c8c5a59264aa7bf87bd102f1fe2ce": {
      "model_module": "@jupyter-widgets/base",
      "model_module_version": "1.0.0",
      "model_name": "LayoutModel",
      "state": {}
     },
     "af64be45a5af43b1acd0aa219cc5fd57": {
      "model_module": "@jupyter-widgets/controls",
      "model_module_version": "1.2.0",
      "model_name": "ButtonStyleModel",
      "state": {}
     },
     "af76afe522a744b0a2e9bd48d345a426": {
      "model_module": "@jupyter-widgets/controls",
      "model_module_version": "1.2.0",
      "model_name": "CheckboxModel",
      "state": {
       "description": "Konstituenz",
       "disabled": false,
       "layout": "IPY_MODEL_f790b03a9c6643809421cde083d588da",
       "style": "IPY_MODEL_383be6dd49bd46e280ed7df9b11c6d4a",
       "value": false
      }
     },
     "af93fc9f31c44127b803694e6411f62d": {
      "model_module": "@jupyter-widgets/controls",
      "model_module_version": "1.2.0",
      "model_name": "ButtonStyleModel",
      "state": {}
     },
     "af96b27052354b17ad6adc79095f22bb": {
      "model_module": "@jupyter-widgets/base",
      "model_module_version": "1.0.0",
      "model_name": "LayoutModel",
      "state": {
       "width": "250px"
      }
     },
     "b1083577a9f64751a086e5ce30f1f6e8": {
      "model_module": "@jupyter-widgets/base",
      "model_module_version": "1.0.0",
      "model_name": "LayoutModel",
      "state": {
       "justify_content": "center"
      }
     },
     "b151c3dac35c4ad9b01e2e40a6966187": {
      "model_module": "@jupyter-widgets/base",
      "model_module_version": "1.0.0",
      "model_name": "LayoutModel",
      "state": {
       "justify_content": "center"
      }
     },
     "b18cf0f51c2f4a0eb9be25b1976d627a": {
      "model_module": "@jupyter-widgets/base",
      "model_module_version": "1.0.0",
      "model_name": "LayoutModel",
      "state": {
       "width": "150px"
      }
     },
     "b1a8d8e57d3a4f7097328cc163c7d1a1": {
      "model_module": "@jupyter-widgets/controls",
      "model_module_version": "1.2.0",
      "model_name": "ButtonModel",
      "state": {
       "description": "Phrasenstruktur",
       "layout": "IPY_MODEL_734d7a6fd38640c6a823edb70ff3ac18",
       "style": "IPY_MODEL_7790cda9ae7245898c4b59b4abb04714"
      }
     },
     "b20db54257a94f41aa8a064bb909dc9a": {
      "model_module": "@jupyter-widgets/controls",
      "model_module_version": "1.2.0",
      "model_name": "ButtonStyleModel",
      "state": {}
     },
     "b2e318b001f9403185254ac3586b55ee": {
      "model_module": "@jupyter-widgets/controls",
      "model_module_version": "1.2.0",
      "model_name": "ButtonStyleModel",
      "state": {}
     },
     "b2fd8ce5308446b1a9b71781501737fe": {
      "model_module": "@jupyter-widgets/controls",
      "model_module_version": "1.2.0",
      "model_name": "CheckboxModel",
      "state": {
       "description": "Morphemebene, Phrasenebene, Satzebene",
       "disabled": false,
       "layout": "IPY_MODEL_72b9e87b12a64dcd9cabc078e41dd1b5",
       "style": "IPY_MODEL_830e5f75225e41a09daba1d864b0e623",
       "value": false
      }
     },
     "b3962ffa850943d59a6ed18702569c5d": {
      "model_module": "@jupyter-widgets/controls",
      "model_module_version": "1.2.0",
      "model_name": "DescriptionStyleModel",
      "state": {
       "description_width": ""
      }
     },
     "b46a13f265844919bd38fab9c2729985": {
      "model_module": "@jupyter-widgets/base",
      "model_module_version": "1.0.0",
      "model_name": "LayoutModel",
      "state": {
       "width": "250px"
      }
     },
     "b4729094bba743e1b58b36091752ad80": {
      "model_module": "@jupyter-widgets/controls",
      "model_module_version": "1.2.0",
      "model_name": "DescriptionStyleModel",
      "state": {
       "description_width": ""
      }
     },
     "b4814db9181a4285a27a18ef6330470b": {
      "model_module": "@jupyter-widgets/controls",
      "model_module_version": "1.2.0",
      "model_name": "ButtonStyleModel",
      "state": {}
     },
     "b51adf7d59d24fdc9ebda43e88932bac": {
      "model_module": "@jupyter-widgets/controls",
      "model_module_version": "1.2.0",
      "model_name": "CheckboxModel",
      "state": {
       "description": "Attributphrase",
       "disabled": false,
       "layout": "IPY_MODEL_ec71ea7494d34bc3adb0050f15611f44",
       "style": "IPY_MODEL_7e6b2c4d95524f64a2ba7a76d0c01c69",
       "value": false
      }
     },
     "b565607a6c4f4a439dae00c74d914d3b": {
      "model_module": "@jupyter-widgets/base",
      "model_module_version": "1.0.0",
      "model_name": "LayoutModel",
      "state": {}
     },
     "b57fc188a5d64405b13915937a930fbb": {
      "model_module": "@jupyter-widgets/controls",
      "model_module_version": "1.2.0",
      "model_name": "ButtonStyleModel",
      "state": {}
     },
     "b601cafa396349bea8e16f41763aba43": {
      "model_module": "@jupyter-widgets/base",
      "model_module_version": "1.0.0",
      "model_name": "LayoutModel",
      "state": {
       "width": "250px"
      }
     },
     "b6162b2cf71b49e28ce351313899634c": {
      "model_module": "@jupyter-widgets/controls",
      "model_module_version": "1.2.0",
      "model_name": "HBoxModel",
      "state": {
       "children": [
        "IPY_MODEL_fb87979e71514d56ac486bcac113ed85",
        "IPY_MODEL_706bebb7789b4ccc9faaddc10b18074d"
       ],
       "layout": "IPY_MODEL_c257f6dcb5634a7bbab223100990818f"
      }
     },
     "b7242ccf07aa416186a2755eb9e46424": {
      "model_module": "@jupyter-widgets/controls",
      "model_module_version": "1.2.0",
      "model_name": "ButtonModel",
      "state": {
       "description": "Wissen um Sprachstruktur",
       "layout": "IPY_MODEL_b601cafa396349bea8e16f41763aba43",
       "style": "IPY_MODEL_31a53be331484cf3bc613db3bbb8ed15"
      }
     },
     "b7772ee2c8ef45dca4cbe036dad46a7c": {
      "model_module": "@jupyter-widgets/controls",
      "model_module_version": "1.2.0",
      "model_name": "DescriptionStyleModel",
      "state": {
       "description_width": ""
      }
     },
     "b77f201eb3504225b600aa2bc53ff8a4": {
      "model_module": "@jupyter-widgets/controls",
      "model_module_version": "1.2.0",
      "model_name": "VBoxModel",
      "state": {
       "children": [
        "IPY_MODEL_51210bc21ea345bcb0608f2e10a76b73",
        "IPY_MODEL_45199538c31b4ee393617f05e79bc796",
        "IPY_MODEL_d7f29a34ecbc4136ab720e4a95370c9e",
        "IPY_MODEL_c5d22bab668b4ac487f3f4a8f5adf4ff"
       ],
       "layout": "IPY_MODEL_7a61d06bde064c158d8c20144df37aaf"
      }
     },
     "b7edccec2c084ef780a7739fd96ca986": {
      "model_module": "@jupyter-widgets/base",
      "model_module_version": "1.0.0",
      "model_name": "LayoutModel",
      "state": {}
     },
     "b7fe9fcad2094dd1b5cb5c7a428e8358": {
      "model_module": "@jupyter-widgets/base",
      "model_module_version": "1.0.0",
      "model_name": "LayoutModel",
      "state": {
       "width": "250px"
      }
     },
     "b818d757401145caa629251106f0c9b4": {
      "model_module": "@jupyter-widgets/controls",
      "model_module_version": "1.2.0",
      "model_name": "HTMLModel",
      "state": {
       "layout": "IPY_MODEL_b9367d25e4a041b78ee2b567f83ac1bc",
       "style": "IPY_MODEL_5f77a0bb34444e5a8e82a05aea033750",
       "value": "<i>Wählen Sie die <ins>eine</ins> korrekte Antwort aus: </i>"
      }
     },
     "b8a5a1c8b18c4b20b8b853c25e6ca8d1": {
      "model_module": "@jupyter-widgets/controls",
      "model_module_version": "1.2.0",
      "model_name": "HTMLModel",
      "state": {
       "layout": "IPY_MODEL_a063c3ab2461410aba800ef9ce47fc4e",
       "style": "IPY_MODEL_1a54ab11878f4ebf89bc2b95c2f182b5",
       "value": "<i>Markieren Sie <ins>alle</ins> passenden Antworten: </i>"
      }
     },
     "b92b6a9032a74f8d92cebdfb15c8eb87": {
      "model_module": "@jupyter-widgets/base",
      "model_module_version": "1.0.0",
      "model_name": "LayoutModel",
      "state": {}
     },
     "b9367d25e4a041b78ee2b567f83ac1bc": {
      "model_module": "@jupyter-widgets/base",
      "model_module_version": "1.0.0",
      "model_name": "LayoutModel",
      "state": {
       "justify_content": "center"
      }
     },
     "b951612deb2142aca8429d48daca7f68": {
      "model_module": "@jupyter-widgets/base",
      "model_module_version": "1.0.0",
      "model_name": "LayoutModel",
      "state": {
       "width": "600px"
      }
     },
     "b97b1b9c1ae6446ab5e2cef58f9749e7": {
      "model_module": "@jupyter-widgets/controls",
      "model_module_version": "1.2.0",
      "model_name": "HTMLModel",
      "state": {
       "layout": "IPY_MODEL_a463ea4b1b9243229a02538aa9a65b3d",
       "style": "IPY_MODEL_4225302676ea47f29ce79a2b752067da",
       "value": "<h4 style=\"font-size:14px;\">Welche Funktion innerhalb der Gerund-Nomen-Phrase nimmt das Nomen ein, wenn das Gerund Kopf dieser Phrase ist?</h4>"
      }
     },
     "b9f682e0e70d4dff99e6768c7b1494a8": {
      "model_module": "@jupyter-widgets/controls",
      "model_module_version": "1.2.0",
      "model_name": "DescriptionStyleModel",
      "state": {
       "description_width": "initial"
      }
     },
     "bac53c037bbc4bff86b8098c0520f185": {
      "model_module": "@jupyter-widgets/controls",
      "model_module_version": "1.2.0",
      "model_name": "ButtonModel",
      "state": {
       "description": "Korrekt?",
       "layout": "IPY_MODEL_59b8229225bc4eedacc4cc9fa8baec7e",
       "style": "IPY_MODEL_70acafba5d3148cdbdbbba7296fb5c47"
      }
     },
     "bad1715a308442f8ad69ffbfc42fa1ce": {
      "model_module": "@jupyter-widgets/base",
      "model_module_version": "1.0.0",
      "model_name": "LayoutModel",
      "state": {
       "width": "250px"
      }
     },
     "bb15730c03cd4fe7bf501cdb4a6ea649": {
      "model_module": "@jupyter-widgets/base",
      "model_module_version": "1.0.0",
      "model_name": "LayoutModel",
      "state": {
       "justify_content": "center"
      }
     },
     "bb27de2ca3554441b31c29764e373dbc": {
      "model_module": "@jupyter-widgets/base",
      "model_module_version": "1.0.0",
      "model_name": "LayoutModel",
      "state": {}
     },
     "bc5b32f3fad1425288a845eac07e944e": {
      "model_module": "@jupyter-widgets/controls",
      "model_module_version": "1.2.0",
      "model_name": "ButtonStyleModel",
      "state": {}
     },
     "bd249664cd21445da84e0100735b3b1d": {
      "model_module": "@jupyter-widgets/controls",
      "model_module_version": "1.2.0",
      "model_name": "HBoxModel",
      "state": {
       "children": [
        "IPY_MODEL_9f4a8a8340e04fdb95ae78a3ad7bc34d",
        "IPY_MODEL_986344f0c520427ba3df015ecec8fdbd"
       ],
       "layout": "IPY_MODEL_6709c206481a4292b6023c0586c1b7fd"
      }
     },
     "bd583976d7a944e5986519646e633ffb": {
      "model_module": "@jupyter-widgets/base",
      "model_module_version": "1.0.0",
      "model_name": "LayoutModel",
      "state": {}
     },
     "be78e3ce58d4409fb40e089e11ff608e": {
      "model_module": "@jupyter-widgets/base",
      "model_module_version": "1.0.0",
      "model_name": "LayoutModel",
      "state": {
       "width": "250px"
      }
     },
     "beb040c256e745a6b9395084feba0e38": {
      "model_module": "@jupyter-widgets/controls",
      "model_module_version": "1.2.0",
      "model_name": "HTMLModel",
      "state": {
       "layout": "IPY_MODEL_bfaee042c0b54ae0beef8234c4d91f6b",
       "style": "IPY_MODEL_249af919e222421bb8218e5ea601a154",
       "value": "<i>Wählen Sie die <ins>eine</ins> korrekte Antwort aus: </i>"
      }
     },
     "bfaee042c0b54ae0beef8234c4d91f6b": {
      "model_module": "@jupyter-widgets/base",
      "model_module_version": "1.0.0",
      "model_name": "LayoutModel",
      "state": {
       "justify_content": "center"
      }
     },
     "bfce68bb81de4a67bcde45a5a57cdb73": {
      "model_module": "@jupyter-widgets/controls",
      "model_module_version": "1.2.0",
      "model_name": "ButtonStyleModel",
      "state": {}
     },
     "bfde8314bd294cf9a3a0402d29b089e4": {
      "model_module": "@jupyter-widgets/base",
      "model_module_version": "1.0.0",
      "model_name": "LayoutModel",
      "state": {}
     },
     "c07d453aa34d4e559936520bfb89aa73": {
      "model_module": "@jupyter-widgets/controls",
      "model_module_version": "1.2.0",
      "model_name": "ButtonModel",
      "state": {
       "description": "Phrasenstruktur",
       "layout": "IPY_MODEL_ea6a73a593e346edbaccf43a4de2e4aa",
       "style": "IPY_MODEL_50a90b4975304df281e96a3a96d3056b"
      }
     },
     "c087f77853b4442698bfeb927fae809c": {
      "model_module": "@jupyter-widgets/base",
      "model_module_version": "1.0.0",
      "model_name": "LayoutModel",
      "state": {
       "width": "250px"
      }
     },
     "c1398d1df7fc45e9868982a5bd44b8da": {
      "model_module": "@jupyter-widgets/controls",
      "model_module_version": "1.2.0",
      "model_name": "ButtonModel",
      "state": {
       "description": "Keine der anderen Möglichkeiten",
       "layout": "IPY_MODEL_f4875e217e90468bb7708c1dbfc2b2c5",
       "style": "IPY_MODEL_a330ed2c54b94cc69053e7f19296a851"
      }
     },
     "c217556cf8d5444780cd41af831dcb11": {
      "model_module": "@jupyter-widgets/controls",
      "model_module_version": "1.2.0",
      "model_name": "DescriptionStyleModel",
      "state": {
       "description_width": ""
      }
     },
     "c257f6dcb5634a7bbab223100990818f": {
      "model_module": "@jupyter-widgets/base",
      "model_module_version": "1.0.0",
      "model_name": "LayoutModel",
      "state": {}
     },
     "c279e763d11f4740ad1e785f88836a5c": {
      "model_module": "@jupyter-widgets/controls",
      "model_module_version": "1.2.0",
      "model_name": "DescriptionStyleModel",
      "state": {
       "description_width": ""
      }
     },
     "c2b39f21b733409e917d18a37327798e": {
      "model_module": "@jupyter-widgets/controls",
      "model_module_version": "1.2.0",
      "model_name": "VBoxModel",
      "state": {
       "children": [
        "IPY_MODEL_2858f29b1878479fba7a5fe717daad46",
        "IPY_MODEL_5b9099625143493fadc99b5cab0d6f38",
        "IPY_MODEL_8bc5655ccd6f4bb7acc1639938fa6a4e",
        "IPY_MODEL_7159668e149f47108de9ab3074dae3b9"
       ],
       "layout": "IPY_MODEL_fead638efe8a404aaec6609f9273ea9e"
      }
     },
     "c2f2641d2f67477783cdef976883ce1e": {
      "model_module": "@jupyter-widgets/controls",
      "model_module_version": "1.2.0",
      "model_name": "HTMLModel",
      "state": {
       "layout": "IPY_MODEL_b1083577a9f64751a086e5ce30f1f6e8",
       "style": "IPY_MODEL_f20efd032cab4df68333a5d54a904c12",
       "value": "<i>Markieren Sie <ins>alle</ins> passenden Antworten: </i>"
      }
     },
     "c33e3a71c92e4bc09b641ac240afc101": {
      "model_module": "@jupyter-widgets/controls",
      "model_module_version": "1.2.0",
      "model_name": "DescriptionStyleModel",
      "state": {
       "description_width": ""
      }
     },
     "c342c306c3e44062aaee28506effc713": {
      "model_module": "@jupyter-widgets/base",
      "model_module_version": "1.0.0",
      "model_name": "LayoutModel",
      "state": {}
     },
     "c448628057b946cb8f0c4cef625f4119": {
      "model_module": "@jupyter-widgets/controls",
      "model_module_version": "1.2.0",
      "model_name": "DescriptionStyleModel",
      "state": {
       "description_width": ""
      }
     },
     "c4b48066019f4847b331045403c4dd90": {
      "model_module": "@jupyter-widgets/base",
      "model_module_version": "1.0.0",
      "model_name": "LayoutModel",
      "state": {
       "justify_content": "center"
      }
     },
     "c5aee5a4fd6042d992544dbc805244fb": {
      "model_module": "@jupyter-widgets/controls",
      "model_module_version": "1.2.0",
      "model_name": "DescriptionStyleModel",
      "state": {
       "description_width": "initial"
      }
     },
     "c5d22bab668b4ac487f3f4a8f5adf4ff": {
      "model_module": "@jupyter-widgets/controls",
      "model_module_version": "1.2.0",
      "model_name": "ButtonModel",
      "state": {
       "description": "Korrekt?",
       "layout": "IPY_MODEL_f75bcc1440c14fd5a89a1aae84870655",
       "style": "IPY_MODEL_372c1a37de434a1fa0c4ec043ed8357d"
      }
     },
     "c7aa5ddf6b7e4bf4a1bc00a441be7e4e": {
      "model_module": "@jupyter-widgets/controls",
      "model_module_version": "1.2.0",
      "model_name": "ButtonModel",
      "state": {
       "description": "Objekt",
       "layout": "IPY_MODEL_0cc18d45e013436fb16cb7e0d6410c08",
       "style": "IPY_MODEL_7d027f6b7d424310a7e05d35985251bd"
      }
     },
     "c807fde4892f4e38add2a1f0dc53c676": {
      "model_module": "@jupyter-widgets/controls",
      "model_module_version": "1.2.0",
      "model_name": "DescriptionStyleModel",
      "state": {
       "description_width": "initial"
      }
     },
     "c8276a3111e743edb0c6a7f47e0fd453": {
      "model_module": "@jupyter-widgets/base",
      "model_module_version": "1.0.0",
      "model_name": "LayoutModel",
      "state": {}
     },
     "c865d500a54d4459995a07c9e0e61ebb": {
      "model_module": "@jupyter-widgets/controls",
      "model_module_version": "1.2.0",
      "model_name": "ButtonModel",
      "state": {
       "description": "Korrekt?",
       "layout": "IPY_MODEL_fc923ad0deb64db0a7803490e18f9047",
       "style": "IPY_MODEL_2bbd7bc3ebf642cfb34016818c9a300a"
      }
     },
     "c8ea7d526fc341ee80ae693151f07fdb": {
      "model_module": "@jupyter-widgets/base",
      "model_module_version": "1.0.0",
      "model_name": "LayoutModel",
      "state": {
       "width": "500px"
      }
     },
     "c9751523854a4d1d9376562850344971": {
      "model_module": "@jupyter-widgets/controls",
      "model_module_version": "1.2.0",
      "model_name": "DescriptionStyleModel",
      "state": {
       "description_width": ""
      }
     },
     "c99d17d15d7847599d84e55c82861dd6": {
      "model_module": "@jupyter-widgets/controls",
      "model_module_version": "1.2.0",
      "model_name": "DescriptionStyleModel",
      "state": {
       "description_width": "initial"
      }
     },
     "c9e3fe8b68914847b41d21f49938c931": {
      "model_module": "@jupyter-widgets/controls",
      "model_module_version": "1.2.0",
      "model_name": "DescriptionStyleModel",
      "state": {
       "description_width": ""
      }
     },
     "c9fbfb3956c44fc2846944f1bdc21a61": {
      "model_module": "@jupyter-widgets/controls",
      "model_module_version": "1.2.0",
      "model_name": "DescriptionStyleModel",
      "state": {
       "description_width": ""
      }
     },
     "caf73b9f9f3a400e9eac730a8657e8c7": {
      "model_module": "@jupyter-widgets/controls",
      "model_module_version": "1.2.0",
      "model_name": "HTMLModel",
      "state": {
       "layout": "IPY_MODEL_3644e501d7714677bd5a744e732e0102",
       "style": "IPY_MODEL_905b358223254fad969b2ee5573f48d1",
       "value": "<i>Wählen Sie die <ins>eine</ins> korrekte Antwort aus: </i>"
      }
     },
     "cbc39992d9ec4d118c47152471324e18": {
      "model_module": "@jupyter-widgets/base",
      "model_module_version": "1.0.0",
      "model_name": "LayoutModel",
      "state": {}
     },
     "cc72761b38c4427cae3b6799bd7372c0": {
      "model_module": "@jupyter-widgets/controls",
      "model_module_version": "1.2.0",
      "model_name": "ButtonStyleModel",
      "state": {}
     },
     "cd85fd6f42d54a94909a0d7ebdb1ca44": {
      "model_module": "@jupyter-widgets/controls",
      "model_module_version": "1.2.0",
      "model_name": "ButtonModel",
      "state": {
       "description": "Subjekt",
       "layout": "IPY_MODEL_af06cf5a47d3425c95f086dc93532c05",
       "style": "IPY_MODEL_23f688d76cf04177adf43e44570d4a04"
      }
     },
     "ce34d13b1efb4359b99e718967c7eb84": {
      "model_module": "@jupyter-widgets/base",
      "model_module_version": "1.0.0",
      "model_name": "LayoutModel",
      "state": {}
     },
     "ce46db570b0040d78df0b82078126729": {
      "model_module": "@jupyter-widgets/controls",
      "model_module_version": "1.2.0",
      "model_name": "DescriptionStyleModel",
      "state": {
       "description_width": ""
      }
     },
     "ce64abe93d80400fb9e997ba748b345e": {
      "model_module": "@jupyter-widgets/controls",
      "model_module_version": "1.2.0",
      "model_name": "ButtonStyleModel",
      "state": {}
     },
     "ced66405fdc84b019fd82b83526a712d": {
      "model_module": "@jupyter-widgets/controls",
      "model_module_version": "1.2.0",
      "model_name": "ButtonModel",
      "state": {
       "description": "Regelbuch",
       "layout": "IPY_MODEL_37bf89e13ab34d5989d28418a7dfb4dc",
       "style": "IPY_MODEL_dfe8cedac7ae4964a2238ce8e19610a0"
      }
     },
     "cf0af1964ef44c26bc2d3270c90ef9c1": {
      "model_module": "@jupyter-widgets/base",
      "model_module_version": "1.0.0",
      "model_name": "LayoutModel",
      "state": {
       "width": "250px"
      }
     },
     "cfa4ffe0917c4030b41e74b153ae76c0": {
      "model_module": "@jupyter-widgets/base",
      "model_module_version": "1.0.0",
      "model_name": "LayoutModel",
      "state": {
       "width": "250px"
      }
     },
     "cfc96239d64b4aac993b18d968032593": {
      "model_module": "@jupyter-widgets/base",
      "model_module_version": "1.0.0",
      "model_name": "LayoutModel",
      "state": {
       "justify_content": "center"
      }
     },
     "d04233234b684675854b8613e4d3d774": {
      "model_module": "@jupyter-widgets/controls",
      "model_module_version": "1.2.0",
      "model_name": "DescriptionStyleModel",
      "state": {
       "description_width": ""
      }
     },
     "d14ddc11182742fb86712d4970aaa920": {
      "model_module": "@jupyter-widgets/controls",
      "model_module_version": "1.2.0",
      "model_name": "CheckboxModel",
      "state": {
       "description": "Lautebene, Wortebene, Satzebene",
       "disabled": false,
       "layout": "IPY_MODEL_09ffd50b427b4eaca8d5086c9db86ed9",
       "style": "IPY_MODEL_e68955c8d76a4ce4b613def4555fed06",
       "value": false
      }
     },
     "d17b3100fa804102a6b9d167b7100054": {
      "model_module": "@jupyter-widgets/base",
      "model_module_version": "1.0.0",
      "model_name": "LayoutModel",
      "state": {}
     },
     "d1cc7d19c4014ec2834748189419d3bf": {
      "model_module": "@jupyter-widgets/base",
      "model_module_version": "1.0.0",
      "model_name": "LayoutModel",
      "state": {}
     },
     "d1e60ed91dad4399a7bc9bf73de55643": {
      "model_module": "@jupyter-widgets/base",
      "model_module_version": "1.0.0",
      "model_name": "LayoutModel",
      "state": {
       "width": "250px"
      }
     },
     "d2550bd1f44d4f2793edd721a38af371": {
      "model_module": "@jupyter-widgets/controls",
      "model_module_version": "1.2.0",
      "model_name": "VBoxModel",
      "state": {
       "children": [
        "IPY_MODEL_903457527f18490ea63852f647d6936d",
        "IPY_MODEL_e7a384ee9c604d3da535738289e15cc2",
        "IPY_MODEL_f90ba616d8a6419c9dc5b1309ee2e7c8"
       ],
       "layout": "IPY_MODEL_d17b3100fa804102a6b9d167b7100054"
      }
     },
     "d306f55deba8469abe1f960eaf475cbe": {
      "model_module": "@jupyter-widgets/controls",
      "model_module_version": "1.2.0",
      "model_name": "ButtonModel",
      "state": {
       "description": "Korrekt?",
       "layout": "IPY_MODEL_5892e02609bf4f42bafa0d6a9932eb4c",
       "style": "IPY_MODEL_402570169f1c4daf82a2a612d3e28fb0"
      }
     },
     "d33498e9d1974cb6b49ae4c5fc798126": {
      "model_module": "@jupyter-widgets/base",
      "model_module_version": "1.0.0",
      "model_name": "LayoutModel",
      "state": {
       "width": "600px"
      }
     },
     "d3d0dd5f69d043259a9e7abe41a63207": {
      "model_module": "@jupyter-widgets/controls",
      "model_module_version": "1.2.0",
      "model_name": "HTMLModel",
      "state": {
       "layout": "IPY_MODEL_3610981d34034a0c8db109cd237b40ca",
       "style": "IPY_MODEL_c9751523854a4d1d9376562850344971",
       "value": "<h4 style=\"font-size:14px;\">Die Syntax ist ein</h4>"
      }
     },
     "d4b42e813cb44f4baca67244c6fbcc13": {
      "model_module": "@jupyter-widgets/controls",
      "model_module_version": "1.2.0",
      "model_name": "HBoxModel",
      "state": {
       "children": [
        "IPY_MODEL_010b316bf8da493fbb1892a32b3de01a"
       ],
       "layout": "IPY_MODEL_ee8a5cc3b860421abded5825a62e4dce"
      }
     },
     "d4b5d43ce4fe4cf2b489b8bdffc98404": {
      "model_module": "@jupyter-widgets/controls",
      "model_module_version": "1.2.0",
      "model_name": "VBoxModel",
      "state": {
       "children": [
        "IPY_MODEL_ebf9b9825a364f1d8b61b2ace13de542",
        "IPY_MODEL_edbeb4dc52c843229d3583ae0f712663",
        "IPY_MODEL_3b5190841a2442389227ab9c548b1a4c",
        "IPY_MODEL_482caaf73af7411da66240a21cad9497",
        "IPY_MODEL_4d4c2452eee1436ea514deed03643429"
       ],
       "layout": "IPY_MODEL_b565607a6c4f4a439dae00c74d914d3b"
      }
     },
     "d500b11aef1647299677802f33e0bdbb": {
      "model_module": "@jupyter-widgets/base",
      "model_module_version": "1.0.0",
      "model_name": "LayoutModel",
      "state": {}
     },
     "d51aa3c4835c49aeafee83644cfc69e8": {
      "model_module": "@jupyter-widgets/base",
      "model_module_version": "1.0.0",
      "model_name": "LayoutModel",
      "state": {
       "width": "250px"
      }
     },
     "d5c34ac41d6e4bbaad4470387881b3d9": {
      "model_module": "@jupyter-widgets/base",
      "model_module_version": "1.0.0",
      "model_name": "LayoutModel",
      "state": {
       "width": "600px"
      }
     },
     "d5f5a9114165418186fcf50d45de0e4a": {
      "model_module": "@jupyter-widgets/base",
      "model_module_version": "1.0.0",
      "model_name": "LayoutModel",
      "state": {}
     },
     "d5f92484d4864215a818d69a785eb160": {
      "model_module": "@jupyter-widgets/controls",
      "model_module_version": "1.2.0",
      "model_name": "HTMLModel",
      "state": {
       "layout": "IPY_MODEL_eda402affc3f4accb13481e86e2edff6",
       "style": "IPY_MODEL_9dc3f7fd435e4ed7bceafbaf3b6b2fb2",
       "value": "<h4 style=\"font-size:14px;\">Die ________ eines Satzes bzgl. der formalen Grammatik wird erkannt.</h4>"
      }
     },
     "d6074a49c76a456ba7eff362634d8836": {
      "model_module": "@jupyter-widgets/controls",
      "model_module_version": "1.2.0",
      "model_name": "HBoxModel",
      "state": {
       "children": [
        "IPY_MODEL_ced66405fdc84b019fd82b83526a712d",
        "IPY_MODEL_85b5d44af0d44a83a14e929794d420b2"
       ],
       "layout": "IPY_MODEL_eff75494184f41fa87c536fc348c895c"
      }
     },
     "d7203e7ce4a44f4dac972fae0362d8fe": {
      "model_module": "@jupyter-widgets/controls",
      "model_module_version": "1.2.0",
      "model_name": "ButtonModel",
      "state": {
       "description": "formale Grammatik",
       "layout": "IPY_MODEL_23dd715b6e6d4bab8655af8942018190",
       "style": "IPY_MODEL_e0a9caaa4a514dc4b06ba6922e7a3968"
      }
     },
     "d77608969db34e2285ab191c6d68afaa": {
      "model_module": "@jupyter-widgets/controls",
      "model_module_version": "1.2.0",
      "model_name": "HTMLModel",
      "state": {
       "layout": "IPY_MODEL_fd36241037604093ab5c851626f5b087",
       "style": "IPY_MODEL_aee7a8e4875641d28fb3748e0a019d38",
       "value": "<h4 style=\"font-size:14px;\">der formalen Sprache; ein analysierter natürlichsprachlicher Satz ist ein in der formalen Grammatik ableitbares</h4>"
      }
     },
     "d7a078a48cbc40bfb0710f3106281742": {
      "model_module": "@jupyter-widgets/controls",
      "model_module_version": "1.2.0",
      "model_name": "HTMLModel",
      "state": {
       "layout": "IPY_MODEL_901070fef2d4458bbbb48c45b3d8c79d",
       "style": "IPY_MODEL_90eb3c203b0c4051b14613847b0acc7c",
       "value": "<i>Wählen Sie die <ins>eine</ins> korrekte Antwort aus: </i>"
      }
     },
     "d7c6a01d08514b1bb7eb19848c2b442b": {
      "model_module": "@jupyter-widgets/controls",
      "model_module_version": "1.2.0",
      "model_name": "VBoxModel",
      "state": {
       "children": [
        "IPY_MODEL_6970d2fc1e8d497a80e3671b8afe412c",
        "IPY_MODEL_e36c09ffe7d4449a8f07a32528c9503d",
        "IPY_MODEL_bd249664cd21445da84e0100735b3b1d",
        "IPY_MODEL_f10992267e4c42e78309d186e9f3edc7",
        "IPY_MODEL_7a215f310eb5439096e8abad40b887d6"
       ],
       "layout": "IPY_MODEL_bd583976d7a944e5986519646e633ffb"
      }
     },
     "d7f29a34ecbc4136ab720e4a95370c9e": {
      "model_module": "@jupyter-widgets/controls",
      "model_module_version": "1.2.0",
      "model_name": "DropdownModel",
      "state": {
       "_options_labels": [
        "Keine der Alternativen",
        "der Ort des Geschehens wird festgelegt",
        "die PP wird dem Substantiv beigefügt",
        "die im Verb ausgedrückte Tätigkeit wird modifiziert"
       ],
       "description": "Antwort:",
       "index": 0,
       "layout": "IPY_MODEL_d8df4f09f7794b3fa8540e311b5f7323",
       "style": "IPY_MODEL_fb001648ba9d467788c43abe83539580"
      }
     },
     "d8060f959e3242579d261bd7b738e7f1": {
      "model_module": "@jupyter-widgets/controls",
      "model_module_version": "1.2.0",
      "model_name": "HTMLModel",
      "state": {
       "layout": "IPY_MODEL_329c1b19003d4ba6918b8f6f9f338216",
       "style": "IPY_MODEL_51f38e52aeb44d9d98a8a10886b7c8f4",
       "value": "<i>Wählen Sie die <ins>eine</ins> korrekte Antwort aus: </i>"
      }
     },
     "d8b6a71f4e54453093a52904eeeec57d": {
      "model_module": "@jupyter-widgets/controls",
      "model_module_version": "1.2.0",
      "model_name": "ButtonModel",
      "state": {
       "description": "lexikalische Ambiguität",
       "layout": "IPY_MODEL_608ee2999d7847088b002ac06c1f4344",
       "style": "IPY_MODEL_ce64abe93d80400fb9e997ba748b345e"
      }
     },
     "d8df4f09f7794b3fa8540e311b5f7323": {
      "model_module": "@jupyter-widgets/base",
      "model_module_version": "1.0.0",
      "model_name": "LayoutModel",
      "state": {
       "width": "500px"
      }
     },
     "d9728f6befc94671907f4772e9ba6883": {
      "model_module": "@jupyter-widgets/base",
      "model_module_version": "1.0.0",
      "model_name": "LayoutModel",
      "state": {}
     },
     "d9effca8ced446b1a398fe6ed8009e11": {
      "model_module": "@jupyter-widgets/controls",
      "model_module_version": "1.2.0",
      "model_name": "CheckboxModel",
      "state": {
       "description": "phonologische",
       "disabled": false,
       "layout": "IPY_MODEL_03a4b60b21824aafb76382f184248e5f",
       "style": "IPY_MODEL_9c6d87ff9301418d8d5a11f806fd1df4",
       "value": false
      }
     },
     "daa2d4c5a7334440a70fc3f580142799": {
      "model_module": "@jupyter-widgets/controls",
      "model_module_version": "1.2.0",
      "model_name": "CheckboxModel",
      "state": {
       "description": "Nomen ist Dependent einer NP-Phrase",
       "disabled": false,
       "layout": "IPY_MODEL_45f46518b2364f13860991c819995b1d",
       "style": "IPY_MODEL_674f4b224e2e4af1bcc7e8e688bd8984",
       "value": false
      }
     },
     "dadf1e4ae46747a9a9c2513037b58c69": {
      "model_module": "@jupyter-widgets/base",
      "model_module_version": "1.0.0",
      "model_name": "LayoutModel",
      "state": {}
     },
     "db305e7fdbdf4664a1308edd453fb4be": {
      "model_module": "@jupyter-widgets/base",
      "model_module_version": "1.0.0",
      "model_name": "LayoutModel",
      "state": {
       "width": "250px"
      }
     },
     "dc7aa6cb98c44031919c7c9bc5280170": {
      "model_module": "@jupyter-widgets/base",
      "model_module_version": "1.0.0",
      "model_name": "LayoutModel",
      "state": {
       "width": "250px"
      }
     },
     "dd6c20f936ab471a9706dc1632d8df5f": {
      "model_module": "@jupyter-widgets/controls",
      "model_module_version": "1.2.0",
      "model_name": "VBoxModel",
      "state": {
       "children": [
        "IPY_MODEL_982a119db2ec452eae9929a870c2d58c",
        "IPY_MODEL_4900eb5bf38f4e1d9e5b0378f7d18db2",
        "IPY_MODEL_8d387f08beb24a7e9b30dc58d583661c",
        "IPY_MODEL_bac53c037bbc4bff86b8098c0520f185"
       ],
       "layout": "IPY_MODEL_8344f13241674e23ae09ee8b2866902a"
      }
     },
     "dd830c7ae94848fe8886e355390675e6": {
      "model_module": "@jupyter-widgets/controls",
      "model_module_version": "1.2.0",
      "model_name": "VBoxModel",
      "state": {
       "children": [
        "IPY_MODEL_7ebe78539f5b45cfa35253f3be2c2c12",
        "IPY_MODEL_faf889bff8db43efb432e6a3e2801fc3",
        "IPY_MODEL_17bf6fadda004616915b721c08e95d74",
        "IPY_MODEL_40876dabeeaa41718c79e6a551b861c7"
       ],
       "layout": "IPY_MODEL_b92b6a9032a74f8d92cebdfb15c8eb87"
      }
     },
     "debb80f4d1e94971ac00e4d82552b8c5": {
      "model_module": "@jupyter-widgets/controls",
      "model_module_version": "1.2.0",
      "model_name": "ButtonModel",
      "state": {
       "description": "Klammernotation",
       "layout": "IPY_MODEL_db305e7fdbdf4664a1308edd453fb4be",
       "style": "IPY_MODEL_bc5b32f3fad1425288a845eac07e944e"
      }
     },
     "debd025a5d794d3c9f878eade9bd7a5f": {
      "model_module": "@jupyter-widgets/base",
      "model_module_version": "1.0.0",
      "model_name": "LayoutModel",
      "state": {}
     },
     "df0b0d5292f14e0e9ddaf50ae59c48e3": {
      "model_module": "@jupyter-widgets/controls",
      "model_module_version": "1.2.0",
      "model_name": "ButtonModel",
      "state": {
       "description": "Korrekt?",
       "layout": "IPY_MODEL_cfa4ffe0917c4030b41e74b153ae76c0",
       "style": "IPY_MODEL_a7c7c6ccd4f247b79c05a333c7fdba4c"
      }
     },
     "dfe8cedac7ae4964a2238ce8e19610a0": {
      "model_module": "@jupyter-widgets/controls",
      "model_module_version": "1.2.0",
      "model_name": "ButtonStyleModel",
      "state": {}
     },
     "e03812c8310e495fb061e08296b9a8c2": {
      "model_module": "@jupyter-widgets/base",
      "model_module_version": "1.0.0",
      "model_name": "LayoutModel",
      "state": {}
     },
     "e04f85091a20426c8eaeced3a7a414c4": {
      "model_module": "@jupyter-widgets/controls",
      "model_module_version": "1.2.0",
      "model_name": "VBoxModel",
      "state": {
       "children": [
        "IPY_MODEL_0a83a0a708ce447e87c5dc81b6bdd57c",
        "IPY_MODEL_2d817c85d6534b3eaca78c777abdff31",
        "IPY_MODEL_1494d8f6d9f644728f69743ad482c95d",
        "IPY_MODEL_984911c873d74a8d8fa6265e3ce5992b"
       ],
       "layout": "IPY_MODEL_4c063a181d47415bbe000dac46b2be76"
      }
     },
     "e0734ab6b7ce426f9dd71cf930af8e19": {
      "model_module": "@jupyter-widgets/controls",
      "model_module_version": "1.2.0",
      "model_name": "HBoxModel",
      "state": {
       "children": [
        "IPY_MODEL_3c584131ae824a09a84f5d0376dc7341",
        "IPY_MODEL_c7aa5ddf6b7e4bf4a1bc00a441be7e4e"
       ],
       "layout": "IPY_MODEL_5083900e87434e6999fec3f9334268b4"
      }
     },
     "e0a9caaa4a514dc4b06ba6922e7a3968": {
      "model_module": "@jupyter-widgets/controls",
      "model_module_version": "1.2.0",
      "model_name": "ButtonStyleModel",
      "state": {}
     },
     "e1e1a837e6044f3eb46265749c88ab88": {
      "model_module": "@jupyter-widgets/controls",
      "model_module_version": "1.2.0",
      "model_name": "DescriptionStyleModel",
      "state": {
       "description_width": "initial"
      }
     },
     "e209f1dc6d304d379b901880a23c505b": {
      "model_module": "@jupyter-widgets/controls",
      "model_module_version": "1.2.0",
      "model_name": "CheckboxModel",
      "state": {
       "description": "Dependenz",
       "disabled": false,
       "layout": "IPY_MODEL_32f08a365bf3482f8292e01a7be0d0e4",
       "style": "IPY_MODEL_425e308017184f94b59ddbe763a5770d",
       "value": false
      }
     },
     "e21473ab567f408698f8df9adaafa42b": {
      "model_module": "@jupyter-widgets/controls",
      "model_module_version": "1.2.0",
      "model_name": "ButtonStyleModel",
      "state": {}
     },
     "e27b524d432b4488997f8dd1d565ccda": {
      "model_module": "@jupyter-widgets/controls",
      "model_module_version": "1.2.0",
      "model_name": "HTMLModel",
      "state": {
       "layout": "IPY_MODEL_c8276a3111e743edb0c6a7f47e0fd453",
       "style": "IPY_MODEL_6091e440af61475783dbee34f876ef64",
       "value": "<h4 style=\"font-size:14px;\">Für die Blätter gilt: natürlichsprachliche Wörter sind eine Teilmenge aus dem Alphabet der</h4>"
      }
     },
     "e318468ffef347418f4c975a9a685de4": {
      "model_module": "@jupyter-widgets/controls",
      "model_module_version": "1.2.0",
      "model_name": "HBoxModel",
      "state": {
       "children": [
        "IPY_MODEL_686649dabef04778965f28d9de055d46",
        "IPY_MODEL_52ea0c775fae43b0909f690f0dafc8e1"
       ],
       "layout": "IPY_MODEL_7abde13476274ed4b754285827f91c1a"
      }
     },
     "e3366b6bdde94743842a551e65afd7d6": {
      "model_module": "@jupyter-widgets/base",
      "model_module_version": "1.0.0",
      "model_name": "LayoutModel",
      "state": {
       "align_content": "stretch",
       "align_items": "stretch",
       "display": "inline-flex",
       "flex": "flex-grow",
       "flex_flow": "row wrap",
       "justify_content": "flex-start"
      }
     },
     "e36c09ffe7d4449a8f07a32528c9503d": {
      "model_module": "@jupyter-widgets/controls",
      "model_module_version": "1.2.0",
      "model_name": "HTMLModel",
      "state": {
       "layout": "IPY_MODEL_8e959a4d6b9b440992ac4ea9f38583d4",
       "style": "IPY_MODEL_c33e3a71c92e4bc09b641ac240afc101",
       "value": "<i>Wählen Sie die <ins>eine</ins> korrekte Antwort aus: </i>"
      }
     },
     "e3e6e905be0343df9a40306de555b2b1": {
      "model_module": "@jupyter-widgets/base",
      "model_module_version": "1.0.0",
      "model_name": "LayoutModel",
      "state": {
       "width": "600px"
      }
     },
     "e3f3214ce6414e9b9c0f6a7e732469fd": {
      "model_module": "@jupyter-widgets/controls",
      "model_module_version": "1.2.0",
      "model_name": "ButtonModel",
      "state": {
       "description": "Objekt",
       "layout": "IPY_MODEL_510dfc3a05834a978f3536958dfe3832",
       "style": "IPY_MODEL_0a2fafaf073d4ce79d115e972226225d"
      }
     },
     "e4202b89bd8a49b09eaa216d47da492f": {
      "model_module": "@jupyter-widgets/base",
      "model_module_version": "1.0.0",
      "model_name": "LayoutModel",
      "state": {}
     },
     "e46f8762e9fd4bed90405183face7078": {
      "model_module": "@jupyter-widgets/base",
      "model_module_version": "1.0.0",
      "model_name": "LayoutModel",
      "state": {}
     },
     "e4a6096e22c94353bf231e6726cd0e32": {
      "model_module": "@jupyter-widgets/controls",
      "model_module_version": "1.2.0",
      "model_name": "CheckboxModel",
      "state": {
       "description": "Verbalphrase",
       "disabled": false,
       "layout": "IPY_MODEL_e3e6e905be0343df9a40306de555b2b1",
       "style": "IPY_MODEL_fe92156771594b95b99db59975e8d0e2",
       "value": false
      }
     },
     "e51c6af1ae6a48e1ba31b4a9e58ea3b9": {
      "model_module": "@jupyter-widgets/controls",
      "model_module_version": "1.2.0",
      "model_name": "DescriptionStyleModel",
      "state": {
       "description_width": ""
      }
     },
     "e531b721eb1e44d685683440a5cca127": {
      "model_module": "@jupyter-widgets/base",
      "model_module_version": "1.0.0",
      "model_name": "LayoutModel",
      "state": {
       "width": "250px"
      }
     },
     "e5c3400c2168431790497479585db027": {
      "model_module": "@jupyter-widgets/controls",
      "model_module_version": "1.2.0",
      "model_name": "ButtonModel",
      "state": {
       "description": "Dependenz",
       "layout": "IPY_MODEL_2e1afaf4d5cd457c9c5e687779cf7838",
       "style": "IPY_MODEL_03fa2e3f8b364ff6ac93b112c2bd61d2"
      }
     },
     "e5fa1a0de63c430f9ea50de9320667a1": {
      "model_module": "@jupyter-widgets/controls",
      "model_module_version": "1.2.0",
      "model_name": "HBoxModel",
      "state": {
       "children": [
        "IPY_MODEL_16dd07161bdf4fad976b6d4b8cd8e58e"
       ],
       "layout": "IPY_MODEL_e03812c8310e495fb061e08296b9a8c2"
      }
     },
     "e62a42e1d4db4a6fad5ef1cd441bd0a8": {
      "model_module": "@jupyter-widgets/controls",
      "model_module_version": "1.2.0",
      "model_name": "ButtonStyleModel",
      "state": {}
     },
     "e68955c8d76a4ce4b613def4555fed06": {
      "model_module": "@jupyter-widgets/controls",
      "model_module_version": "1.2.0",
      "model_name": "DescriptionStyleModel",
      "state": {
       "description_width": "initial"
      }
     },
     "e6be94c99a7a45d099a2f3d6d2a2d590": {
      "model_module": "@jupyter-widgets/controls",
      "model_module_version": "1.2.0",
      "model_name": "ButtonStyleModel",
      "state": {}
     },
     "e710519fac9e47718b9611c36c383067": {
      "model_module": "@jupyter-widgets/base",
      "model_module_version": "1.0.0",
      "model_name": "LayoutModel",
      "state": {
       "width": "600px"
      }
     },
     "e73ab268840f407da06ad82ac71c03e4": {
      "model_module": "@jupyter-widgets/base",
      "model_module_version": "1.0.0",
      "model_name": "LayoutModel",
      "state": {
       "justify_content": "center"
      }
     },
     "e7a384ee9c604d3da535738289e15cc2": {
      "model_module": "@jupyter-widgets/controls",
      "model_module_version": "1.2.0",
      "model_name": "BoxModel",
      "state": {
       "children": [
        "IPY_MODEL_e27b524d432b4488997f8dd1d565ccda",
        "IPY_MODEL_93be531b66b14236a27b25bd18b79a2f",
        "IPY_MODEL_d77608969db34e2285ab191c6d68afaa",
        "IPY_MODEL_9b66546b2f6b4110af16d2e179cadd43",
        "IPY_MODEL_e8b4f62acc9e4764b935f715870d8bb0"
       ],
       "layout": "IPY_MODEL_0fe3cb774fd8480a8787f775584cec15"
      }
     },
     "e7aca49d2146421a945f5fc71821fd48": {
      "model_module": "@jupyter-widgets/base",
      "model_module_version": "1.0.0",
      "model_name": "LayoutModel",
      "state": {
       "justify_content": "center"
      }
     },
     "e7e755f300924e26b5cb6f22876fe8d0": {
      "model_module": "@jupyter-widgets/controls",
      "model_module_version": "1.2.0",
      "model_name": "VBoxModel",
      "state": {
       "children": [
        "IPY_MODEL_9fc817fc59384ad182f5e8f79541a5b2",
        "IPY_MODEL_d9effca8ced446b1a398fe6ed8009e11",
        "IPY_MODEL_ea4e9e67537c4de3b8047ef59b568628",
        "IPY_MODEL_096f454f2ff54f5fa91d8299cb8e5063",
        "IPY_MODEL_4bcd4903a8e941db8709621e249545b5"
       ],
       "layout": "IPY_MODEL_debd025a5d794d3c9f878eade9bd7a5f"
      }
     },
     "e800d5c987e0415cb9e693cc459afb1c": {
      "model_module": "@jupyter-widgets/controls",
      "model_module_version": "1.2.0",
      "model_name": "ButtonModel",
      "state": {
       "description": "Keine der anderen Möglichkeiten",
       "layout": "IPY_MODEL_be78e3ce58d4409fb40e089e11ff608e",
       "style": "IPY_MODEL_1840eb9ef5a842b8b33058da3d0e7d65"
      }
     },
     "e846870cdf394939aebb49622c04f57b": {
      "model_module": "@jupyter-widgets/base",
      "model_module_version": "1.0.0",
      "model_name": "LayoutModel",
      "state": {
       "width": "250px"
      }
     },
     "e8598f0d291746d0a4157a3d606392d0": {
      "model_module": "@jupyter-widgets/controls",
      "model_module_version": "1.2.0",
      "model_name": "CheckboxModel",
      "state": {
       "description": "Adverbialphrase",
       "disabled": false,
       "layout": "IPY_MODEL_d33498e9d1974cb6b49ae4c5fc798126",
       "style": "IPY_MODEL_45fd63e9db1b4d3b944917cc29707cd7",
       "value": false
      }
     },
     "e8b4f62acc9e4764b935f715870d8bb0": {
      "model_module": "@jupyter-widgets/controls",
      "model_module_version": "1.2.0",
      "model_name": "HTMLModel",
      "state": {
       "layout": "IPY_MODEL_39011c5359754a0fb1516a4baf0b48e1",
       "style": "IPY_MODEL_79fa79ebab6649cc8e12958560f843a1",
       "value": "<h4 style=\"font-size:14px;\">der formalen Sprache.</h4>"
      }
     },
     "e90ab807d1a44e558d6393245f809129": {
      "model_module": "@jupyter-widgets/base",
      "model_module_version": "1.0.0",
      "model_name": "LayoutModel",
      "state": {
       "width": "600px"
      }
     },
     "e950fc7efdf3432c83207afd36ba9c1d": {
      "model_module": "@jupyter-widgets/base",
      "model_module_version": "1.0.0",
      "model_name": "LayoutModel",
      "state": {
       "width": "250px"
      }
     },
     "e9b448b0a9644c0ebd395c2d4d8e675b": {
      "model_module": "@jupyter-widgets/base",
      "model_module_version": "1.0.0",
      "model_name": "LayoutModel",
      "state": {
       "width": "600px"
      }
     },
     "ea07a80474ba4e0b9c34a7a6ede3734d": {
      "model_module": "@jupyter-widgets/base",
      "model_module_version": "1.0.0",
      "model_name": "LayoutModel",
      "state": {}
     },
     "ea4d78c477b14a1b8ee278b4b3976c8a": {
      "model_module": "@jupyter-widgets/base",
      "model_module_version": "1.0.0",
      "model_name": "LayoutModel",
      "state": {
       "justify_content": "center"
      }
     },
     "ea4e9e67537c4de3b8047ef59b568628": {
      "model_module": "@jupyter-widgets/controls",
      "model_module_version": "1.2.0",
      "model_name": "CheckboxModel",
      "state": {
       "description": "pragmatische",
       "disabled": false,
       "layout": "IPY_MODEL_93ac31b125074bfc9ca6e9c9c185e6d6",
       "style": "IPY_MODEL_7795a6cb8e80427a8771c8638f3ab693",
       "value": false
      }
     },
     "ea6a73a593e346edbaccf43a4de2e4aa": {
      "model_module": "@jupyter-widgets/base",
      "model_module_version": "1.0.0",
      "model_name": "LayoutModel",
      "state": {
       "width": "250px"
      }
     },
     "eaa881b1ddb346adb10f22e01f04c748": {
      "model_module": "@jupyter-widgets/base",
      "model_module_version": "1.0.0",
      "model_name": "LayoutModel",
      "state": {
       "width": "250px"
      }
     },
     "ebc3a56672844d708d7af86de4f3f40e": {
      "model_module": "@jupyter-widgets/base",
      "model_module_version": "1.0.0",
      "model_name": "LayoutModel",
      "state": {
       "justify_content": "center"
      }
     },
     "ebdb218cf11e4482ac0e376733fe5ea6": {
      "model_module": "@jupyter-widgets/base",
      "model_module_version": "1.0.0",
      "model_name": "LayoutModel",
      "state": {}
     },
     "ebf9b9825a364f1d8b61b2ace13de542": {
      "model_module": "@jupyter-widgets/controls",
      "model_module_version": "1.2.0",
      "model_name": "HTMLModel",
      "state": {
       "layout": "IPY_MODEL_ea4d78c477b14a1b8ee278b4b3976c8a",
       "style": "IPY_MODEL_24b4f8d281134caf8e8498f63d365cb6",
       "value": "<h4 style=\"font-size:14px;\">Welcher Grammatikbegriff liegt Satz 1 zugrunde?</h4>"
      }
     },
     "ec5981613a9847feb722cad67f2310f0": {
      "model_module": "@jupyter-widgets/base",
      "model_module_version": "1.0.0",
      "model_name": "LayoutModel",
      "state": {}
     },
     "ec71ea7494d34bc3adb0050f15611f44": {
      "model_module": "@jupyter-widgets/base",
      "model_module_version": "1.0.0",
      "model_name": "LayoutModel",
      "state": {
       "width": "600px"
      }
     },
     "ed7e907895cd48d79c2820ac0b935add": {
      "model_module": "@jupyter-widgets/controls",
      "model_module_version": "1.2.0",
      "model_name": "HTMLModel",
      "state": {
       "layout": "IPY_MODEL_7b7e1027b66048209923202f0fc4fd3f",
       "style": "IPY_MODEL_029477edd59e4da7b8080429ec532cdb",
       "value": "<i>Wählen Sie die <ins>eine</ins> korrekte Antwort aus: </i>"
      }
     },
     "eda402affc3f4accb13481e86e2edff6": {
      "model_module": "@jupyter-widgets/base",
      "model_module_version": "1.0.0",
      "model_name": "LayoutModel",
      "state": {}
     },
     "edbeb4dc52c843229d3583ae0f712663": {
      "model_module": "@jupyter-widgets/controls",
      "model_module_version": "1.2.0",
      "model_name": "HTMLModel",
      "state": {
       "layout": "IPY_MODEL_31f2a08ee60c477a93ca83b35afbcfd9",
       "style": "IPY_MODEL_5843bb9b498f4f4aae1989d23ffda278",
       "value": "<i>Wählen Sie die <ins>eine</ins> korrekte Antwort aus: </i>"
      }
     },
     "ee6d751aab92489283d03bc24b0ab5ed": {
      "model_module": "@jupyter-widgets/base",
      "model_module_version": "1.0.0",
      "model_name": "LayoutModel",
      "state": {
       "width": "150px"
      }
     },
     "ee8a5cc3b860421abded5825a62e4dce": {
      "model_module": "@jupyter-widgets/base",
      "model_module_version": "1.0.0",
      "model_name": "LayoutModel",
      "state": {}
     },
     "eef3e282120e4efc9bb7e8a76c0760d0": {
      "model_module": "@jupyter-widgets/base",
      "model_module_version": "1.0.0",
      "model_name": "LayoutModel",
      "state": {}
     },
     "ef8bd930bf204729982ce5e9b0ff6494": {
      "model_module": "@jupyter-widgets/controls",
      "model_module_version": "1.2.0",
      "model_name": "HTMLModel",
      "state": {
       "layout": "IPY_MODEL_051aa8a703894c43875c583227ec7253",
       "style": "IPY_MODEL_29c57bb7f09940baa9973f71ebcf77b3",
       "value": "<i>Wählen Sie die <ins>eine</ins> korrekte Antwort aus: </i>"
      }
     },
     "efc421b418254285a1a1cbfcc772f5d6": {
      "model_module": "@jupyter-widgets/controls",
      "model_module_version": "1.2.0",
      "model_name": "DescriptionStyleModel",
      "state": {
       "description_width": ""
      }
     },
     "efe21fd888e541e78941884af7d66461": {
      "model_module": "@jupyter-widgets/controls",
      "model_module_version": "1.2.0",
      "model_name": "ButtonModel",
      "state": {
       "description": "Subjekt",
       "layout": "IPY_MODEL_13e64b36aacc4505bc62995821f4dafe",
       "style": "IPY_MODEL_9643188eba0145f4b9c49684fc87b25f"
      }
     },
     "eff75494184f41fa87c536fc348c895c": {
      "model_module": "@jupyter-widgets/base",
      "model_module_version": "1.0.0",
      "model_name": "LayoutModel",
      "state": {}
     },
     "f10992267e4c42e78309d186e9f3edc7": {
      "model_module": "@jupyter-widgets/controls",
      "model_module_version": "1.2.0",
      "model_name": "HBoxModel",
      "state": {
       "children": [
        "IPY_MODEL_7a53c43d0ccd423e81e102af86281f9f",
        "IPY_MODEL_5dadf4cc5462492f943d22de20bf0ba3"
       ],
       "layout": "IPY_MODEL_4204dc609c6d433bbab903146b08879b"
      }
     },
     "f20efd032cab4df68333a5d54a904c12": {
      "model_module": "@jupyter-widgets/controls",
      "model_module_version": "1.2.0",
      "model_name": "DescriptionStyleModel",
      "state": {
       "description_width": ""
      }
     },
     "f28b168722d34bbb832c65024367d31e": {
      "model_module": "@jupyter-widgets/controls",
      "model_module_version": "1.2.0",
      "model_name": "ButtonStyleModel",
      "state": {}
     },
     "f2b83f823c1642d691726b621a72b6f6": {
      "model_module": "@jupyter-widgets/controls",
      "model_module_version": "1.2.0",
      "model_name": "ButtonStyleModel",
      "state": {}
     },
     "f32e674d573144dab83afd30de0b235b": {
      "model_module": "@jupyter-widgets/controls",
      "model_module_version": "1.2.0",
      "model_name": "ButtonStyleModel",
      "state": {}
     },
     "f3444976a4674527bff7ae7243a529b1": {
      "model_module": "@jupyter-widgets/controls",
      "model_module_version": "1.2.0",
      "model_name": "HTMLModel",
      "state": {
       "layout": "IPY_MODEL_e73ab268840f407da06ad82ac71c03e4",
       "style": "IPY_MODEL_fafca3bbca894a9b9bbb0872a44403a5",
       "value": "<h4 style=\"font-size:14px;\">Die Alternative <code>tree = parser.parse(sent)</code> ist weniger wünschenswert, da im Allgemeinen ________ Parse-Tree möglich ist.</h4>"
      }
     },
     "f399c94d32e04d3c984dfc9299a20937": {
      "model_module": "@jupyter-widgets/base",
      "model_module_version": "1.0.0",
      "model_name": "LayoutModel",
      "state": {}
     },
     "f4875e217e90468bb7708c1dbfc2b2c5": {
      "model_module": "@jupyter-widgets/base",
      "model_module_version": "1.0.0",
      "model_name": "LayoutModel",
      "state": {
       "width": "250px"
      }
     },
     "f4fb4a70c5e646239f6865894634a3d1": {
      "model_module": "@jupyter-widgets/base",
      "model_module_version": "1.0.0",
      "model_name": "LayoutModel",
      "state": {
       "width": "250px"
      }
     },
     "f5c7dce3150442fc8456b42c3f44f57d": {
      "model_module": "@jupyter-widgets/controls",
      "model_module_version": "1.2.0",
      "model_name": "DescriptionStyleModel",
      "state": {
       "description_width": "initial"
      }
     },
     "f604efe4c27a4943b160616784e61740": {
      "model_module": "@jupyter-widgets/controls",
      "model_module_version": "1.2.0",
      "model_name": "ButtonModel",
      "state": {
       "description": "morphologisch ambige Formen",
       "layout": "IPY_MODEL_8bf0b1b8c53146259c694c81cba4c357",
       "style": "IPY_MODEL_f32e674d573144dab83afd30de0b235b"
      }
     },
     "f60f23f551da40ad88346bb588b618ac": {
      "model_module": "@jupyter-widgets/controls",
      "model_module_version": "1.2.0",
      "model_name": "DropdownModel",
      "state": {
       "_options_labels": [
        "Oberbegriff",
        "Synonym",
        "Teilbereich",
        " "
       ],
       "index": 3,
       "layout": "IPY_MODEL_a5e419f8f8a84cffa261ddc6beab4071",
       "style": "IPY_MODEL_878a28d22f8c452aa3e69e17b90fc2ff"
      }
     },
     "f65a9970a92349b1a43d4d1836be58a2": {
      "model_module": "@jupyter-widgets/controls",
      "model_module_version": "1.2.0",
      "model_name": "ButtonModel",
      "state": {
       "description": "formale Grammatik",
       "layout": "IPY_MODEL_41323f1d0bd749e3921df88f66329ade",
       "style": "IPY_MODEL_6eb7f70c16844008aa7b677a127b4642"
      }
     },
     "f6eb9fc1b5454924b4f1a0732ade5b19": {
      "model_module": "@jupyter-widgets/controls",
      "model_module_version": "1.2.0",
      "model_name": "HTMLModel",
      "state": {
       "layout": "IPY_MODEL_57a339a910e143c082a6d5b790e4e303",
       "style": "IPY_MODEL_c9fbfb3956c44fc2846944f1bdc21a61",
       "value": "<h4 style=\"font-size:14px;\">Welche Mittel kommen in einer formalen Syntaxanalyse zum Einsatz?</h4>"
      }
     },
     "f71b16b5712045beabd5a8750f9ad68a": {
      "model_module": "@jupyter-widgets/controls",
      "model_module_version": "1.2.0",
      "model_name": "VBoxModel",
      "state": {
       "children": [
        "IPY_MODEL_6dbf0a457e564cb4babd729248f050ca",
        "IPY_MODEL_daa2d4c5a7334440a70fc3f580142799",
        "IPY_MODEL_34ac45b445ff405bb7f82a4c80b35104",
        "IPY_MODEL_a3d9832ddefd4d51a0e4ad156c4149a9"
       ],
       "layout": "IPY_MODEL_6e952de5241d4fdbbe8e4a6f7c79189e"
      }
     },
     "f75bcc1440c14fd5a89a1aae84870655": {
      "model_module": "@jupyter-widgets/base",
      "model_module_version": "1.0.0",
      "model_name": "LayoutModel",
      "state": {
       "width": "250px"
      }
     },
     "f790b03a9c6643809421cde083d588da": {
      "model_module": "@jupyter-widgets/base",
      "model_module_version": "1.0.0",
      "model_name": "LayoutModel",
      "state": {
       "width": "600px"
      }
     },
     "f7c653d2adcc4f479c7a00b4e820fe5b": {
      "model_module": "@jupyter-widgets/controls",
      "model_module_version": "1.2.0",
      "model_name": "DescriptionStyleModel",
      "state": {
       "description_width": ""
      }
     },
     "f8943b319f82423086a2c5321f35df23": {
      "model_module": "@jupyter-widgets/controls",
      "model_module_version": "1.2.0",
      "model_name": "ButtonStyleModel",
      "state": {}
     },
     "f8d848360e3c4c479071378aed62fad8": {
      "model_module": "@jupyter-widgets/base",
      "model_module_version": "1.0.0",
      "model_name": "LayoutModel",
      "state": {}
     },
     "f8eb111b87774d5d9cba7f54c4d0890b": {
      "model_module": "@jupyter-widgets/controls",
      "model_module_version": "1.2.0",
      "model_name": "DescriptionStyleModel",
      "state": {
       "description_width": "initial"
      }
     },
     "f90ba616d8a6419c9dc5b1309ee2e7c8": {
      "model_module": "@jupyter-widgets/controls",
      "model_module_version": "1.2.0",
      "model_name": "ButtonModel",
      "state": {
       "description": "Korrekt?",
       "layout": "IPY_MODEL_d51aa3c4835c49aeafee83644cfc69e8",
       "style": "IPY_MODEL_60594a358cdc4ae3b8157b38826c86c3"
      }
     },
     "f910518f8c0c48a9923dcbbe65b7de88": {
      "model_module": "@jupyter-widgets/base",
      "model_module_version": "1.0.0",
      "model_name": "LayoutModel",
      "state": {}
     },
     "fa0e4da700204700ad85dfc44ca26e37": {
      "model_module": "@jupyter-widgets/base",
      "model_module_version": "1.0.0",
      "model_name": "LayoutModel",
      "state": {
       "width": "250px"
      }
     },
     "fa8d67b3355b4e65a5c39cb1277867fa": {
      "model_module": "@jupyter-widgets/controls",
      "model_module_version": "1.2.0",
      "model_name": "CheckboxModel",
      "state": {
       "description": "Eine endliche Menge an Sätzen kann mit unendlichen Mitteln beschrieben werden.",
       "disabled": false,
       "layout": "IPY_MODEL_57978fb605af41e7b804ccc6f1e6d3de",
       "style": "IPY_MODEL_c807fde4892f4e38add2a1f0dc53c676",
       "value": false
      }
     },
     "faa8ea9f4dce4ad282a077211c467954": {
      "model_module": "@jupyter-widgets/base",
      "model_module_version": "1.0.0",
      "model_name": "LayoutModel",
      "state": {
       "justify_content": "center"
      }
     },
     "faf889bff8db43efb432e6a3e2801fc3": {
      "model_module": "@jupyter-widgets/controls",
      "model_module_version": "1.2.0",
      "model_name": "HTMLModel",
      "state": {
       "layout": "IPY_MODEL_faa8ea9f4dce4ad282a077211c467954",
       "style": "IPY_MODEL_7b1076f851374e5a851fa0f26e4a1e5f",
       "value": "<i>Wählen Sie die <ins>eine</ins> korrekte Antwort aus: </i>"
      }
     },
     "fafca3bbca894a9b9bbb0872a44403a5": {
      "model_module": "@jupyter-widgets/controls",
      "model_module_version": "1.2.0",
      "model_name": "DescriptionStyleModel",
      "state": {
       "description_width": ""
      }
     },
     "fb001648ba9d467788c43abe83539580": {
      "model_module": "@jupyter-widgets/controls",
      "model_module_version": "1.2.0",
      "model_name": "DescriptionStyleModel",
      "state": {
       "description_width": ""
      }
     },
     "fb13507dc1404c34ab8346f6120679e9": {
      "model_module": "@jupyter-widgets/base",
      "model_module_version": "1.0.0",
      "model_name": "LayoutModel",
      "state": {
       "width": "250px"
      }
     },
     "fb358efd841042a097393445eea2570b": {
      "model_module": "@jupyter-widgets/controls",
      "model_module_version": "1.2.0",
      "model_name": "HBoxModel",
      "state": {
       "children": [
        "IPY_MODEL_305dddd07dff47caaf25ad59e5039417"
       ],
       "layout": "IPY_MODEL_d1cc7d19c4014ec2834748189419d3bf"
      }
     },
     "fb372a528f614107899c812da24ab102": {
      "model_module": "@jupyter-widgets/controls",
      "model_module_version": "1.2.0",
      "model_name": "DescriptionStyleModel",
      "state": {
       "description_width": "initial"
      }
     },
     "fb87979e71514d56ac486bcac113ed85": {
      "model_module": "@jupyter-widgets/controls",
      "model_module_version": "1.2.0",
      "model_name": "ButtonModel",
      "state": {
       "description": "genau ein",
       "layout": "IPY_MODEL_32dbe93bba394ff9b9362f6a77bea13f",
       "style": "IPY_MODEL_5575dd7d96f344068a1ea8a77c8dc44a"
      }
     },
     "fbf0721175224071a95cb040205fb50d": {
      "model_module": "@jupyter-widgets/controls",
      "model_module_version": "1.2.0",
      "model_name": "HBoxModel",
      "state": {
       "children": [
        "IPY_MODEL_3a9632c769604d119d6fbd47fc1da2f5",
        "IPY_MODEL_f604efe4c27a4943b160616784e61740"
       ],
       "layout": "IPY_MODEL_1099ca64a6564285b5244ccb15f7685a"
      }
     },
     "fc2d0a598cb34506be9a5d16733d7961": {
      "model_module": "@jupyter-widgets/base",
      "model_module_version": "1.0.0",
      "model_name": "LayoutModel",
      "state": {
       "width": "250px"
      }
     },
     "fc84c2d1cde9467bbd24bab391c40bf4": {
      "model_module": "@jupyter-widgets/controls",
      "model_module_version": "1.2.0",
      "model_name": "ButtonModel",
      "state": {
       "description": "Parsebäume",
       "layout": "IPY_MODEL_0bb32229da9441b89f42b010754071a8",
       "style": "IPY_MODEL_9eb4e5a007db494c862d43442cf8610b"
      }
     },
     "fc923ad0deb64db0a7803490e18f9047": {
      "model_module": "@jupyter-widgets/base",
      "model_module_version": "1.0.0",
      "model_name": "LayoutModel",
      "state": {
       "width": "250px"
      }
     },
     "fcf2b8cfdc96490d9b7906cdb716d5b9": {
      "model_module": "@jupyter-widgets/controls",
      "model_module_version": "1.2.0",
      "model_name": "VBoxModel",
      "state": {
       "children": [
        "IPY_MODEL_a342322a69564fd7a6ac1600d90ab911",
        "IPY_MODEL_27896634902340529c90603751607e8a",
        "IPY_MODEL_3c06f25ee5f6408186a0505f034e569e"
       ],
       "layout": "IPY_MODEL_7d8dae3c4b344241bbcb704ef837cac8"
      }
     },
     "fd36241037604093ab5c851626f5b087": {
      "model_module": "@jupyter-widgets/base",
      "model_module_version": "1.0.0",
      "model_name": "LayoutModel",
      "state": {}
     },
     "fd9ae1ff5cfc4eea8eec7fa57ab09727": {
      "model_module": "@jupyter-widgets/base",
      "model_module_version": "1.0.0",
      "model_name": "LayoutModel",
      "state": {
       "width": "250px"
      }
     },
     "fdeb548029ef47c28652d18654bf8718": {
      "model_module": "@jupyter-widgets/controls",
      "model_module_version": "1.2.0",
      "model_name": "VBoxModel",
      "state": {
       "children": [
        "IPY_MODEL_71e95134caf44f2a923eeb20b02cf23d",
        "IPY_MODEL_7e6d283fd84e4ebb92ec0434d05e248d",
        "IPY_MODEL_df0b0d5292f14e0e9ddaf50ae59c48e3"
       ],
       "layout": "IPY_MODEL_bfde8314bd294cf9a3a0402d29b089e4"
      }
     },
     "fdf72fa0a3af413d87aa9ec5fdde4398": {
      "model_module": "@jupyter-widgets/controls",
      "model_module_version": "1.2.0",
      "model_name": "ButtonModel",
      "state": {
       "description": "Keine der anderen Möglichkeiten",
       "layout": "IPY_MODEL_af96b27052354b17ad6adc79095f22bb",
       "style": "IPY_MODEL_cc72761b38c4427cae3b6799bd7372c0"
      }
     },
     "fe2cb38f1ec04dd4bbffce50fe8e4292": {
      "model_module": "@jupyter-widgets/base",
      "model_module_version": "1.0.0",
      "model_name": "LayoutModel",
      "state": {
       "width": "250px"
      }
     },
     "fe92156771594b95b99db59975e8d0e2": {
      "model_module": "@jupyter-widgets/controls",
      "model_module_version": "1.2.0",
      "model_name": "DescriptionStyleModel",
      "state": {
       "description_width": "initial"
      }
     },
     "fea06ee31c7746288aa80a52422e0610": {
      "model_module": "@jupyter-widgets/controls",
      "model_module_version": "1.2.0",
      "model_name": "ButtonStyleModel",
      "state": {}
     },
     "fead638efe8a404aaec6609f9273ea9e": {
      "model_module": "@jupyter-widgets/base",
      "model_module_version": "1.0.0",
      "model_name": "LayoutModel",
      "state": {}
     },
     "ffaebae04b1d4b0eaad135cc3443ac1f": {
      "model_module": "@jupyter-widgets/controls",
      "model_module_version": "1.2.0",
      "model_name": "VBoxModel",
      "state": {
       "children": [
        "IPY_MODEL_695afd5853f942f2a5a7109f1d08768e",
        "IPY_MODEL_238a0718aea94aa7b494c6f2e975a231",
        "IPY_MODEL_45a95c6841eb46f0aab7f1ffe550c063",
        "IPY_MODEL_d306f55deba8469abe1f960eaf475cbe"
       ],
       "layout": "IPY_MODEL_5f0db41c8d514344b5b59b89b86a0f6e"
      }
     },
     "ffb32c42c90446fda3e070275eafd3d1": {
      "model_module": "@jupyter-widgets/base",
      "model_module_version": "1.0.0",
      "model_name": "LayoutModel",
      "state": {
       "justify_content": "center"
      }
     }
    },
    "version_major": 2,
    "version_minor": 0
   }
  }
 },
 "nbformat": 4,
 "nbformat_minor": 2
}
