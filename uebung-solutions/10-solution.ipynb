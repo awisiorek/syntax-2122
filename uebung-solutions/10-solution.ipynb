{
 "cells": [
  {
   "cell_type": "markdown",
   "metadata": {},
   "source": [
    "***Syntax natürlicher Sprachen, WS 2021/22***\n",
    "\n",
    "---\n",
    "# Übung 10 (Lösung)"
   ]
  },
  {
   "cell_type": "code",
   "execution_count": 1,
   "metadata": {},
   "outputs": [],
   "source": [
    "import nltk\n",
    "from nltk.featstruct import FeatStruct\n",
    "from nltk.featstruct import Feature, UnificationFailure\n",
    "import itertools"
   ]
  },
  {
   "cell_type": "markdown",
   "metadata": {},
   "source": [
    "---\n",
    "## Aufgabe 1: Unifikation I\n",
    "\n",
    "#### Gegeben seien folgende Merkmalstrukturen:"
   ]
  },
  {
   "cell_type": "code",
   "execution_count": 2,
   "metadata": {},
   "outputs": [],
   "source": [
    "f1 = FeatStruct(\n",
    "    '[Vorname=Max, Nachname=Mustermann,' + \n",
    "    'Privat=[Strasse=Hauptstrasse, Ort=[Stadt=Muenchen]]]'\n",
    ")\n",
    "f2 = FeatStruct(\n",
    "    '[Arbeit=[Strasse=\"Oettingenstrasse\", Ort=(1)[Stadt=Muenchen]],' +\n",
    "    'Privat=[Ort->(1)]]')\n",
    "f3 = FeatStruct(\n",
    "    '[Strasse=\"Hauptstrasse\"]'\n",
    ")\n",
    "f4 = FeatStruct(\n",
    "    '[Privat=[Strasse=\"Hauptstrasse\", Ort=[Stadt=Passau]]]'\n",
    ")"
   ]
  },
  {
   "cell_type": "markdown",
   "metadata": {},
   "source": [
    "### 1a) Unifizieren f1 und f2? Gegeben Sie ggf. das Ergebnis an.\n",
    "\n",
    "ja"
   ]
  },
  {
   "cell_type": "code",
   "execution_count": 3,
   "metadata": {
    "scrolled": true
   },
   "outputs": [
    {
     "name": "stdout",
     "output_type": "stream",
     "text": [
      "[ Nachname = 'Mustermann'                         ]\n",
      "[                                                 ]\n",
      "[            [ Ort     = [ Stadt = 'Muenchen' ] ] ]\n",
      "[ Privat   = [                                  ] ]\n",
      "[            [ Strasse = 'Hauptstrasse'         ] ]\n",
      "[                                                 ]\n",
      "[ Vorname  = 'Max'                                ]\n"
     ]
    }
   ],
   "source": [
    "print(f1)"
   ]
  },
  {
   "cell_type": "code",
   "execution_count": 4,
   "metadata": {},
   "outputs": [
    {
     "name": "stdout",
     "output_type": "stream",
     "text": [
      "[          [ Ort     = (1) [ Stadt = 'Muenchen' ] ] ]\n",
      "[ Arbeit = [                                      ] ]\n",
      "[          [ Strasse = 'Oettingenstrasse'         ] ]\n",
      "[                                                   ]\n",
      "[ Privat = [ Ort -> (1) ]                           ]\n"
     ]
    }
   ],
   "source": [
    "print(f2)"
   ]
  },
  {
   "cell_type": "code",
   "execution_count": 5,
   "metadata": {},
   "outputs": [
    {
     "name": "stdout",
     "output_type": "stream",
     "text": [
      "[            [ Ort     = (1) [ Stadt = 'Muenchen' ] ] ]\n",
      "[ Arbeit   = [                                      ] ]\n",
      "[            [ Strasse = 'Oettingenstrasse'         ] ]\n",
      "[                                                     ]\n",
      "[ Nachname = 'Mustermann'                             ]\n",
      "[                                                     ]\n",
      "[ Privat   = [ Ort     -> (1)           ]             ]\n",
      "[            [ Strasse = 'Hauptstrasse' ]             ]\n",
      "[                                                     ]\n",
      "[ Vorname  = 'Max'                                    ]\n"
     ]
    }
   ],
   "source": [
    "#### Mit der Ausführung des print-Statements können Sie abschließend die Lösung einsehen:\n",
    "print(f1.unify(f2))"
   ]
  },
  {
   "cell_type": "markdown",
   "metadata": {},
   "source": [
    "### 1b) Unifizieren f2 und f4? Gegeben Sie ggf. das Ergebnis an.\n",
    "\n",
    "nein"
   ]
  },
  {
   "cell_type": "code",
   "execution_count": 6,
   "metadata": {},
   "outputs": [
    {
     "name": "stdout",
     "output_type": "stream",
     "text": [
      "[          [ Ort     = (1) [ Stadt = 'Muenchen' ] ] ]\n",
      "[ Arbeit = [                                      ] ]\n",
      "[          [ Strasse = 'Oettingenstrasse'         ] ]\n",
      "[                                                   ]\n",
      "[ Privat = [ Ort -> (1) ]                           ]\n"
     ]
    }
   ],
   "source": [
    "print(f2)"
   ]
  },
  {
   "cell_type": "code",
   "execution_count": 7,
   "metadata": {},
   "outputs": [
    {
     "name": "stdout",
     "output_type": "stream",
     "text": [
      "[          [ Ort     = [ Stadt = 'Passau' ] ] ]\n",
      "[ Privat = [                                ] ]\n",
      "[          [ Strasse = 'Hauptstrasse'       ] ]\n"
     ]
    }
   ],
   "source": [
    "print(f4)"
   ]
  },
  {
   "cell_type": "code",
   "execution_count": 8,
   "metadata": {
    "scrolled": true
   },
   "outputs": [
    {
     "name": "stdout",
     "output_type": "stream",
     "text": [
      "None\n"
     ]
    }
   ],
   "source": [
    "#### Mit der Ausführung des print-Statements können Sie abschließend die Lösung einsehen:\n",
    "print(f2.unify(f4))"
   ]
  },
  {
   "cell_type": "markdown",
   "metadata": {},
   "source": [
    "---\n",
    "## Aufgabe 2:  Typhierarchie im NLTK\n",
    "\n",
    "#### Gegeben sei folgende Typhierarchie:\n",
    "\n",
    "$$\\bot \\sqsubseteq \\text{Genitiv}$$\n",
    "$$\\bot \\sqsubseteq \\text{nicht-Genitiv}$$\n",
    "$$\\text{nicht-Genitiv} \\sqsubseteq \\text{Nominativ-Akkusativ}$$\n",
    "$$\\text{nicht-Genitiv} \\sqsubseteq \\text{Dativ}$$\n",
    "$$\\text{Nominativ-Akkusativ} \\sqsubseteq \\text{Nominativ}$$\n",
    "$$\\text{Nominativ-Akkusativ} \\sqsubseteq \\text{Akkusativ}$$\n",
    "\n",
    "#### Implementieren Sie mithilfe der Klasse `HierarchicalFeature`, die Sie mit der folgenden Zelle importieren können, ein Feature `CASE`, das der vorgegebenen Typhierarchie entspricht.\n"
   ]
  },
  {
   "cell_type": "code",
   "execution_count": 9,
   "metadata": {},
   "outputs": [],
   "source": [
    "TYPE = nltk.featstruct.TYPE\n",
    "\n",
    "\n",
    "def check_sanity_constraints(th):\n",
    "    for type1, type2 in itertools.product(th, th):\n",
    "        if type1 in th[type2] and type2 in th[type1]:\n",
    "            if type1 != type2:\n",
    "                raise ValueError(\n",
    "                    \"The type hierarchy is not antisymmetric! \" +\n",
    "                    \"{} subsumes {} and vice versa!\".format(\n",
    "                        type1, type2\n",
    "                    )\n",
    "                )\n",
    "\n",
    "\n",
    "def refl_trans_closure(type_hierarchy):\n",
    "    # make everything a set\n",
    "    # and compute reflexive closure\n",
    "    closure = {}\n",
    "    for t in type_hierarchy:\n",
    "        closure[t] = set(type_hierarchy[t])\n",
    "        closure[t].add(t)\n",
    "\n",
    "    # compute transitive closure\n",
    "    still_changes = True\n",
    "    while still_changes:\n",
    "        still_changes = False\n",
    "        for x in closure:\n",
    "            new_for_x = set()\n",
    "            for y in closure[x]:\n",
    "                for z in closure[y]:\n",
    "                    new_for_x.add(z)\n",
    "            len_before = len(closure[x])\n",
    "            closure[x].update(new_for_x)\n",
    "            still_changes |= len(closure[x]) > len_before\n",
    "\n",
    "    return closure\n",
    "\n",
    "\n",
    "class HierarchicalFeature(Feature):\n",
    "    def __init__(self, name, type_hierarchy, **kwargs):\n",
    "        super(HierarchicalFeature, self).__init__(name, **kwargs)\n",
    "\n",
    "        self.hierarchy = refl_trans_closure(type_hierarchy)\n",
    "        check_sanity_constraints(self.hierarchy)\n",
    "\n",
    "    def unify_base_values(self, fval1, fval2, bindings):\n",
    "        candidates = self.hierarchy[fval1].intersection(self.hierarchy[fval2])\n",
    "        score = {t: 0 for t in candidates}\n",
    "        for type1, type2 in itertools.product(candidates, candidates):\n",
    "            if type1 in self.hierarchy[type2]:\n",
    "                score[type1] += 1\n",
    "\n",
    "        return min(candidates, key=score.__getitem__, default=UnificationFailure)\n"
   ]
  },
  {
   "cell_type": "markdown",
   "metadata": {},
   "source": [
    "\n",
    "#### Nutzen Sie dieses Feature dann, um Übergenerierung in folgender Grammatik zu vermeiden:"
   ]
  },
  {
   "cell_type": "code",
   "execution_count": 10,
   "metadata": {},
   "outputs": [],
   "source": [
    "grammar = \"\"\"\n",
    "S -> NP[*CASE*=Nom] VP\n",
    "NP[*CASE*=?x] -> DET[*CASE*=?x,GEN=?y] NOM[*CASE*=?x,GEN=?y]\n",
    "NOM[*CASE*=?x,GEN=?y] -> N[*CASE*=?x,GEN=?y] NP[*CASE*=Gen] | N[*CASE*=?x,GEN=?y]\n",
    "VP -> V\n",
    "\n",
    "V -> \"schläft\"\n",
    "DET[GEN=mask,*CASE*=Nom] -> \"der\"\n",
    "DET[GEN=mask,*CASE*=Gen] -> \"des\"\n",
    "DET[GEN=fem,*CASE*=NomAkk] -> \"die\"\n",
    "DET[GEN=fem,*CASE*=Gen] -> \"der\"\n",
    "DET[GEN=fem,*CASE*=Dat] -> \"der\"\n",
    "DET[GEN=neut,*CASE*=NomAkk] -> \"das\"\n",
    "DET[GEN=neut,*CASE*=Gen] -> \"des\"\n",
    "\n",
    "N[GEN=mask,*CASE*=nonGen] -> \"Mann\"\n",
    "N[GEN=mask,*CASE*=Gen] -> \"Mannes\"\n",
    "N[GEN=fem] -> \"Frau\"\n",
    "N[GEN=neut,*CASE*=nonGen] -> \"Kind\"\n",
    "N[GEN=neut,*CASE*=Gen] -> \"Kindes\"\n",
    "\"\"\""
   ]
  },
  {
   "cell_type": "markdown",
   "metadata": {},
   "source": [
    "#### Hier muss die Typhierarchie in Form eines `Dictionary` definiert werden:"
   ]
  },
  {
   "cell_type": "code",
   "execution_count": 11,
   "metadata": {},
   "outputs": [],
   "source": [
    "type_hierarchy = {\n",
    "    \"nonGen\": [\"NomAkk\", \"Dat\"],\n",
    "    \"NomAkk\": [\"Nom\", \"Akk\"],\n",
    "    \"Dat\": [],\n",
    "    \"Akk\": [],\n",
    "    \"Gen\": [],\n",
    "    \"Nom\": []\n",
    "}"
   ]
  },
  {
   "cell_type": "code",
   "execution_count": 12,
   "metadata": {},
   "outputs": [],
   "source": [
    "CASE = HierarchicalFeature(\"CASE\", type_hierarchy)\n",
    "compiled_grammar = nltk.grammar.FeatureGrammar.fromstring(\n",
    "    grammar, features=(CASE, TYPE)\n",
    ")\n",
    "parser = nltk.FeatureEarleyChartParser(compiled_grammar)"
   ]
  },
  {
   "cell_type": "markdown",
   "metadata": {},
   "source": [
    "#### Folgendes sollte funktionieren:"
   ]
  },
  {
   "cell_type": "code",
   "execution_count": 13,
   "metadata": {},
   "outputs": [
    {
     "data": {
      "image/png": "[encoded data removed]",
      "text/plain": [
       "Tree(S[], [Tree(NP[*CASE*='NomAkk'], [Tree(DET[*CASE*='NomAkk', GEN='neut'], ['das']), Tree(NOM[*CASE*='nonGen', GEN='neut'], [Tree(N[*CASE*='nonGen', GEN='neut'], ['Kind']), Tree(NP[*CASE*='Gen'], [Tree(DET[*CASE*='Gen', GEN='mask'], ['des']), Tree(NOM[*CASE*='Gen', GEN='mask'], [Tree(N[*CASE*='Gen', GEN='mask'], ['Mannes'])])])])]), Tree(VP[], [Tree(V[], ['schläft'])])])"
      ]
     },
     "metadata": {},
     "output_type": "display_data"
    }
   ],
   "source": [
    "for t in parser.parse(\"das Kind des Mannes schläft\".split()):\n",
    "    display(t)"
   ]
  },
  {
   "cell_type": "markdown",
   "metadata": {},
   "source": [
    "#### Folgendes sollte leer sein:"
   ]
  },
  {
   "cell_type": "code",
   "execution_count": 14,
   "metadata": {},
   "outputs": [
    {
     "data": {
      "text/plain": [
       "[]"
      ]
     },
     "execution_count": 14,
     "metadata": {},
     "output_type": "execute_result"
    }
   ],
   "source": [
    "list(parser.parse(\"des Mannes schläft\".split()))"
   ]
  },
  {
   "cell_type": "markdown",
   "metadata": {},
   "source": [
    "---\n",
    "# Hausaufgaben"
   ]
  },
  {
   "cell_type": "markdown",
   "metadata": {},
   "source": [
    "---\n",
    "## Aufgabe 3: Unifikation II\n",
    "\n",
    "#### Es seien wieder die Merkmalstrukturen aus Aufgabe 1 gegeben.\n"
   ]
  },
  {
   "cell_type": "markdown",
   "metadata": {},
   "source": [
    "### 3a) Unifizieren f1 und f4? Gegeben Sie ggf. das Ergebnis an.\n",
    "\n",
    "nein"
   ]
  },
  {
   "cell_type": "code",
   "execution_count": 15,
   "metadata": {
    "scrolled": true
   },
   "outputs": [
    {
     "name": "stdout",
     "output_type": "stream",
     "text": [
      "[ Nachname = 'Mustermann'                         ]\n",
      "[                                                 ]\n",
      "[            [ Ort     = [ Stadt = 'Muenchen' ] ] ]\n",
      "[ Privat   = [                                  ] ]\n",
      "[            [ Strasse = 'Hauptstrasse'         ] ]\n",
      "[                                                 ]\n",
      "[ Vorname  = 'Max'                                ]\n"
     ]
    }
   ],
   "source": [
    "print(f1)"
   ]
  },
  {
   "cell_type": "code",
   "execution_count": 16,
   "metadata": {},
   "outputs": [
    {
     "name": "stdout",
     "output_type": "stream",
     "text": [
      "[          [ Ort     = [ Stadt = 'Passau' ] ] ]\n",
      "[ Privat = [                                ] ]\n",
      "[          [ Strasse = 'Hauptstrasse'       ] ]\n"
     ]
    }
   ],
   "source": [
    "print(f4)"
   ]
  },
  {
   "cell_type": "code",
   "execution_count": 17,
   "metadata": {},
   "outputs": [
    {
     "name": "stdout",
     "output_type": "stream",
     "text": [
      "None\n"
     ]
    }
   ],
   "source": [
    "#### Mit der Ausführung des print-Statements können Sie abschließend die Lösung einsehen:\n",
    "print(f1.unify(f4))"
   ]
  },
  {
   "cell_type": "markdown",
   "metadata": {},
   "source": [
    "### 3b) Unifizieren f2 und f3? Gegeben Sie ggf. das Ergebnis an.\n",
    "\n",
    "nein"
   ]
  },
  {
   "cell_type": "code",
   "execution_count": 18,
   "metadata": {},
   "outputs": [
    {
     "name": "stdout",
     "output_type": "stream",
     "text": [
      "[          [ Ort     = (1) [ Stadt = 'Muenchen' ] ] ]\n",
      "[ Arbeit = [                                      ] ]\n",
      "[          [ Strasse = 'Oettingenstrasse'         ] ]\n",
      "[                                                   ]\n",
      "[ Privat = [ Ort -> (1) ]                           ]\n"
     ]
    }
   ],
   "source": [
    "print(f2)"
   ]
  },
  {
   "cell_type": "code",
   "execution_count": 19,
   "metadata": {},
   "outputs": [
    {
     "name": "stdout",
     "output_type": "stream",
     "text": [
      "[ Strasse = 'Hauptstrasse' ]\n"
     ]
    }
   ],
   "source": [
    "print(f3)"
   ]
  },
  {
   "cell_type": "code",
   "execution_count": 20,
   "metadata": {
    "scrolled": true
   },
   "outputs": [
    {
     "name": "stdout",
     "output_type": "stream",
     "text": [
      "[           [ Ort     = (1) [ Stadt = 'Muenchen' ] ] ]\n",
      "[ Arbeit  = [                                      ] ]\n",
      "[           [ Strasse = 'Oettingenstrasse'         ] ]\n",
      "[                                                    ]\n",
      "[ Privat  = [ Ort -> (1) ]                           ]\n",
      "[                                                    ]\n",
      "[ Strasse = 'Hauptstrasse'                           ]\n"
     ]
    }
   ],
   "source": [
    "#### Mit der Ausführung des print-Statements können Sie abschließend die Lösung einsehen:\n",
    "print(f2.unify(f3))"
   ]
  },
  {
   "cell_type": "markdown",
   "metadata": {},
   "source": [
    "---\n",
    "## Aufgabe 4: Weniger Redundanz dank besonderer Merkmale\n",
    "\n",
    "#### Beseitigen Sie die Redundanz in den lexikalischen Regeln (Zeilen 8 - 32) der folgenden Grammatik durch eine Typhierarchie (wo dies nötig ist). Achten Sie darauf, die Menge der akzeptierten Sätze weder zu verkleinern noch zu vergrößern!\n",
    "\n",
    "#### Anzugeben sind die neuen Grammatikregeln, sowie Ihre Typhierarchie (z. B. in graphischer Form)."
   ]
  },
  {
   "cell_type": "code",
   "execution_count": 21,
   "metadata": {},
   "outputs": [],
   "source": [
    "# Hierarchie der Fäle\n",
    "case_hierarchy = {\n",
    "    \"nongen\": [\"nomakk\", \"dat\"],\n",
    "    \"gendat\": [\"gen\", \"dat\"],\n",
    "    \"nomakk\": [\"nom\", \"akk\"],\n",
    "    \"nom\": [],\n",
    "    \"gen\": [],\n",
    "    \"dat\": [],\n",
    "    \"akk\": []\n",
    "}\n",
    "\n",
    "# Hierarchie der Geschlechter\n",
    "gen_hierarchy = {\n",
    "    \"maskneut\": [\"mask\", \"neut\"],\n",
    "    \"mask\": [],\n",
    "    \"fem\": [],\n",
    "    \"neut\": []\n",
    "}"
   ]
  },
  {
   "cell_type": "code",
   "execution_count": 22,
   "metadata": {},
   "outputs": [],
   "source": [
    "redundant_grammar = \"\"\"\n",
    "S -> NP[*CASE*=nom] VP\n",
    "\n",
    "NP[*CASE*=?y] -> DET[*GEN*=?x,*CASE*=?y] NOM[*GEN*=?x,*CASE*=?y]\n",
    "NOM[*GEN*=?x,*CASE*=?y] -> N[*GEN*=?x,*CASE*=?y] NP[*CASE*=gen]\n",
    "NOM[*GEN*=?x,*CASE*=?y] -> N[*GEN*=?x,*CASE*=?y]\n",
    "\n",
    "DET[*GEN*=mask,*CASE*=nom] -> \"der\"\n",
    "DET[*GEN*=maskneut,*CASE*=gen] -> \"des\"\n",
    "DET[*GEN*=maskneut,*CASE*=dat] -> \"dem\"\n",
    "DET[*GEN*=mask,*CASE*=akk] -> \"den\"\n",
    "\n",
    "DET[*GEN*=fem,*CASE*=nomakk] -> \"die\"\n",
    "DET[*GEN*=fem,*CASE*=gendat] -> \"der\"\n",
    "\n",
    "DET[*GEN*=neut,*CASE*=nomakk] -> \"das\"\n",
    "\n",
    "N[*GEN*=mask,*CASE*=nongen] -> \"Mann\"\n",
    "N[*GEN*=mask,*CASE*=gen] -> \"Mannes\"\n",
    "N[*GEN*=fem] -> \"Frau\"\n",
    "N[*GEN*=neut,*CASE*=nongen] -> \"Buch\"\n",
    "N[*GEN*=neut,*CASE*=gen] -> \"Buches\"\n",
    "\n",
    "VP -> V NP[*CASE*=dat] NP[*CASE*=akk]\n",
    "V -> \"gibt\" | \"schenkt\"\n",
    "\"\"\""
   ]
  },
  {
   "cell_type": "code",
   "execution_count": 23,
   "metadata": {},
   "outputs": [],
   "source": [
    "CASE = HierarchicalFeature(\"CASE\", case_hierarchy)\n",
    "GEN = HierarchicalFeature(\"GEN\", gen_hierarchy)\n",
    "compiled_grammar = nltk.grammar.FeatureGrammar.fromstring(\n",
    "    redundant_grammar, features=(CASE, GEN, TYPE)\n",
    ")"
   ]
  },
  {
   "cell_type": "code",
   "execution_count": 24,
   "metadata": {},
   "outputs": [],
   "source": [
    "pos_sentences = [\n",
    "    \"der Mann gibt der Frau das Buch\",\n",
    "    \"die Frau des Mannes gibt dem Mann der Frau das Buch des Buches\"\n",
    "]"
   ]
  },
  {
   "cell_type": "markdown",
   "metadata": {},
   "source": [
    "#### Testen Sie mit Ihren eigenen Negativbeispielen!"
   ]
  },
  {
   "cell_type": "code",
   "execution_count": 25,
   "metadata": {},
   "outputs": [],
   "source": [
    "neg_sentences = [\n",
    "    \"des Mannes gibt der Frau das Buch\",\n",
    "    \"Mann gibt der Frau das Buch\",\n",
    "    \"der Mann gibt der Frau Buch\",\n",
    "    \"der Frau gibt dem Buch den Mann\",\n",
    "    \"das Buch der Mann gibt der Frau das Buch\"\n",
    "]"
   ]
  },
  {
   "cell_type": "code",
   "execution_count": 26,
   "metadata": {},
   "outputs": [],
   "source": [
    "from IPython.display import display\n",
    "\n",
    "def test_grammar(grammar, sentences):\n",
    "    parser = nltk.parse.FeatureEarleyChartParser(grammar)\n",
    "    \n",
    "    for i, sent in enumerate(sentences, 1):\n",
    "        print(\"Satz {}: {}\".format(i, sent))\n",
    "        results = parser.parse(sent.split())\n",
    "        analyzed = False\n",
    "        for tree in results:\n",
    "            display(tree)  # print(tree)\n",
    "            analyzed = True\n",
    "        if not analyzed:\n",
    "            print(\"Keine Analyse möglich\")"
   ]
  },
  {
   "cell_type": "code",
   "execution_count": 27,
   "metadata": {
    "scrolled": false
   },
   "outputs": [
    {
     "name": "stdout",
     "output_type": "stream",
     "text": [
      "Satz 1: der Mann gibt der Frau das Buch\n"
     ]
    },
    {
     "data": {
      "image/png": "[encoded data removed]",
      "text/plain": [
       "Tree(S[], [Tree(NP[*CASE*='nom'], [Tree(DET[*CASE*='nom', *GEN*='mask'], ['der']), Tree(NOM[*CASE*='nongen', *GEN*='mask'], [Tree(N[*CASE*='nongen', *GEN*='mask'], ['Mann'])])]), Tree(VP[], [Tree(V[], ['gibt']), Tree(NP[*CASE*='gendat'], [Tree(DET[*CASE*='gendat', *GEN*='fem'], ['der']), Tree(NOM[*CASE*=?y, *GEN*='fem'], [Tree(N[*GEN*='fem'], ['Frau'])])]), Tree(NP[*CASE*='nomakk'], [Tree(DET[*CASE*='nomakk', *GEN*='neut'], ['das']), Tree(NOM[*CASE*='nongen', *GEN*='neut'], [Tree(N[*CASE*='nongen', *GEN*='neut'], ['Buch'])])])])])"
      ]
     },
     "metadata": {},
     "output_type": "display_data"
    },
    {
     "name": "stdout",
     "output_type": "stream",
     "text": [
      "Satz 2: die Frau des Mannes gibt dem Mann der Frau das Buch des Buches\n"
     ]
    },
    {
     "data": {
      "image/png": "[encoded data removed]",
      "text/plain": [
       "Tree(S[], [Tree(NP[*CASE*='nomakk'], [Tree(DET[*CASE*='nomakk', *GEN*='fem'], ['die']), Tree(NOM[*CASE*=?y, *GEN*='fem'], [Tree(N[*GEN*='fem'], ['Frau']), Tree(NP[*CASE*='gen'], [Tree(DET[*CASE*='gen', *GEN*='maskneut'], ['des']), Tree(NOM[*CASE*='gen', *GEN*='mask'], [Tree(N[*CASE*='gen', *GEN*='mask'], ['Mannes'])])])])]), Tree(VP[], [Tree(V[], ['gibt']), Tree(NP[*CASE*='dat'], [Tree(DET[*CASE*='dat', *GEN*='maskneut'], ['dem']), Tree(NOM[*CASE*='nongen', *GEN*='mask'], [Tree(N[*CASE*='nongen', *GEN*='mask'], ['Mann']), Tree(NP[*CASE*='gendat'], [Tree(DET[*CASE*='gendat', *GEN*='fem'], ['der']), Tree(NOM[*CASE*=?y, *GEN*='fem'], [Tree(N[*GEN*='fem'], ['Frau'])])])])]), Tree(NP[*CASE*='nomakk'], [Tree(DET[*CASE*='nomakk', *GEN*='neut'], ['das']), Tree(NOM[*CASE*='nongen', *GEN*='neut'], [Tree(N[*CASE*='nongen', *GEN*='neut'], ['Buch']), Tree(NP[*CASE*='gen'], [Tree(DET[*CASE*='gen', *GEN*='maskneut'], ['des']), Tree(NOM[*CASE*='gen', *GEN*='neut'], [Tree(N[*CASE*='gen', *GEN*='neut'], ['Buches'])])])])])])])"
      ]
     },
     "metadata": {},
     "output_type": "display_data"
    }
   ],
   "source": [
    "test_grammar(compiled_grammar, pos_sentences)"
   ]
  },
  {
   "cell_type": "code",
   "execution_count": 28,
   "metadata": {},
   "outputs": [
    {
     "name": "stdout",
     "output_type": "stream",
     "text": [
      "Satz 1: des Mannes gibt der Frau das Buch\n",
      "Keine Analyse möglich\n",
      "Satz 2: Mann gibt der Frau das Buch\n",
      "Keine Analyse möglich\n",
      "Satz 3: der Mann gibt der Frau Buch\n",
      "Keine Analyse möglich\n",
      "Satz 4: der Frau gibt dem Buch den Mann\n",
      "Keine Analyse möglich\n",
      "Satz 5: das Buch der Mann gibt der Frau das Buch\n",
      "Keine Analyse möglich\n"
     ]
    }
   ],
   "source": [
    "test_grammar(compiled_grammar, neg_sentences)"
   ]
  }
 ],
 "metadata": {
  "kernelspec": {
   "display_name": "Python 3 (ipykernel)",
   "language": "python",
   "name": "python3"
  },
  "language_info": {
   "codemirror_mode": {
    "name": "ipython",
    "version": 3
   },
   "file_extension": ".py",
   "mimetype": "text/x-python",
   "name": "python",
   "nbconvert_exporter": "python",
   "pygments_lexer": "ipython3",
   "version": "3.9.7"
  },
  "widgets": {
   "application/vnd.jupyter.widget-state+json": {
    "state": {
     "00528c5ef6f946c0a04362c98e15b5e6": {
      "model_module": "@jupyter-widgets/controls",
      "model_module_version": "1.4.0",
      "model_name": "HBoxModel",
      "state": {
       "children": [
        "IPY_MODEL_7fb4c7e5f88b4c45bd8804ab39d47189",
        "IPY_MODEL_8c8420c3ee824fe2ae963312ac480de7"
       ],
       "layout": "IPY_MODEL_11f74a46496440df99035f007b0ca518"
      }
     },
     "005e8a22a9da48a982f083774e797dec": {
      "model_module": "@jupyter-widgets/controls",
      "model_module_version": "1.4.0",
      "model_name": "HTMLModel",
      "state": {
       "layout": "IPY_MODEL_1332297f86c74b898d4be11adb96a423",
       "style": "IPY_MODEL_9b01b226e54245dc8c2eebf0a1977529",
       "value": "<i>Wählen Sie die <ins>eine</ins> korrekte Antwort aus: </i>"
      }
     },
     "00a03be2009f4bb1a631d3522850713e": {
      "model_module": "@jupyter-widgets/base",
      "model_module_version": "1.1.0",
      "model_name": "LayoutModel",
      "state": {
       "justify_content": "center"
      }
     },
     "0100289e5fd94d7f8d6d6a33da069f90": {
      "model_module": "@jupyter-widgets/controls",
      "model_module_version": "1.4.0",
      "model_name": "ButtonStyleModel",
      "state": {}
     },
     "015f8511ec8d4030915fd46ffc2403ac": {
      "model_module": "@jupyter-widgets/controls",
      "model_module_version": "1.4.0",
      "model_name": "VBoxModel",
      "state": {
       "children": [
        "IPY_MODEL_9aab3d9343a6411f9aea17f3086d602a",
        "IPY_MODEL_10bf9e1f75c14e9b92b031d64eee524e",
        "IPY_MODEL_bb591a9aa4344fa7b58c84ef7f39368d"
       ],
       "layout": "IPY_MODEL_2f9f2b7deef74361a520aa48b8ba5bb9"
      }
     },
     "01adbae1fd4b4476b1db95cbd5a8281a": {
      "model_module": "@jupyter-widgets/base",
      "model_module_version": "1.1.0",
      "model_name": "LayoutModel",
      "state": {}
     },
     "024526d16af44d299dfc4c1d4087db95": {
      "model_module": "@jupyter-widgets/controls",
      "model_module_version": "1.4.0",
      "model_name": "VBoxModel",
      "state": {
       "children": [
        "IPY_MODEL_6083cf6f5c3c42c7b4ca32204feb1945",
        "IPY_MODEL_c81c5cf69cf34eebb3ddf01f9e659867",
        "IPY_MODEL_0483b3810cff4b5b9ab2a5bbc7dc141c"
       ],
       "layout": "IPY_MODEL_937ee2cf1fe54d98b15ecf74bebf64ea"
      }
     },
     "02846c22a85647ba977e86f61910d63a": {
      "model_module": "@jupyter-widgets/base",
      "model_module_version": "1.1.0",
      "model_name": "LayoutModel",
      "state": {}
     },
     "02c6d6737bfa41f499f3a3c71bf10752": {
      "model_module": "@jupyter-widgets/controls",
      "model_module_version": "1.4.0",
      "model_name": "ButtonStyleModel",
      "state": {
       "button_color": "lightgreen"
      }
     },
     "035748e536c24ef4a494ef217cb3e9ac": {
      "model_module": "@jupyter-widgets/controls",
      "model_module_version": "1.4.0",
      "model_name": "ButtonModel",
      "state": {
       "description": "Nein",
       "layout": "IPY_MODEL_6064c6bf90864eddac3fc63d59fb47c8",
       "style": "IPY_MODEL_33c9b8ec6dca49a2acd35689563133c5"
      }
     },
     "036967424aab4c528fa60bae40ada441": {
      "model_module": "@jupyter-widgets/base",
      "model_module_version": "1.1.0",
      "model_name": "LayoutModel",
      "state": {}
     },
     "03dd62ab72b34cbfa7d8151317442401": {
      "model_module": "@jupyter-widgets/controls",
      "model_module_version": "1.4.0",
      "model_name": "ButtonModel",
      "state": {
       "description": "Ja",
       "layout": "IPY_MODEL_f7b9b9cf1d454b82868ef72656a728ee",
       "style": "IPY_MODEL_cfe2d9ea4a56444399b7be35ac44d58f"
      }
     },
     "040a878cbddf4beb8887f54e7bd0ad20": {
      "model_module": "@jupyter-widgets/controls",
      "model_module_version": "1.4.0",
      "model_name": "ButtonStyleModel",
      "state": {}
     },
     "0483b3810cff4b5b9ab2a5bbc7dc141c": {
      "model_module": "@jupyter-widgets/controls",
      "model_module_version": "1.4.0",
      "model_name": "HBoxModel",
      "state": {
       "children": [
        "IPY_MODEL_61570dbaf2ee4bc5b0c20e77fd9478e6",
        "IPY_MODEL_d172178038e54fd8ab93f6fa5733ebbf"
       ],
       "layout": "IPY_MODEL_a14f1da9bcbc47a3bbcbcf874c08315f"
      }
     },
     "05252691bace4668bd9d1e599ebf2b75": {
      "model_module": "@jupyter-widgets/base",
      "model_module_version": "1.1.0",
      "model_name": "LayoutModel",
      "state": {
       "justify_content": "center"
      }
     },
     "05ad098a00d64e2c953edfb6762f6afa": {
      "model_module": "@jupyter-widgets/controls",
      "model_module_version": "1.4.0",
      "model_name": "ButtonStyleModel",
      "state": {}
     },
     "05fec0667a11460d8893152b8ef4b6d5": {
      "model_module": "@jupyter-widgets/controls",
      "model_module_version": "1.4.0",
      "model_name": "ButtonModel",
      "state": {
       "description": "Ja",
       "layout": "IPY_MODEL_85b1f03b3b8b4ac2857e166ddb81f6da",
       "style": "IPY_MODEL_0a5a7dc7b5414a8a953e8b63993bf387"
      }
     },
     "067971efd5094d6193877201baf9ca6a": {
      "model_module": "@jupyter-widgets/base",
      "model_module_version": "1.1.0",
      "model_name": "LayoutModel",
      "state": {}
     },
     "06d9ccab0806404e98864508cf512359": {
      "model_module": "@jupyter-widgets/controls",
      "model_module_version": "1.4.0",
      "model_name": "HTMLModel",
      "state": {
       "layout": "IPY_MODEL_6809366782fb4f53980099d00d852169",
       "style": "IPY_MODEL_7ca6904ffdb940f5ab4d09381932eaac",
       "value": "<i>Wählen Sie die <ins>eine</ins> korrekte Antwort aus: </i>"
      }
     },
     "075f625bfcff4bd89ada8f295d16911f": {
      "model_module": "@jupyter-widgets/controls",
      "model_module_version": "1.4.0",
      "model_name": "ButtonStyleModel",
      "state": {}
     },
     "0893a04e40c64f848bb0cbe2aabbce16": {
      "model_module": "@jupyter-widgets/base",
      "model_module_version": "1.1.0",
      "model_name": "LayoutModel",
      "state": {
       "width": "250px"
      }
     },
     "0a5a7dc7b5414a8a953e8b63993bf387": {
      "model_module": "@jupyter-widgets/controls",
      "model_module_version": "1.4.0",
      "model_name": "ButtonStyleModel",
      "state": {}
     },
     "0bd9a2580e2342e384fc9ad3fa4b2327": {
      "model_module": "@jupyter-widgets/base",
      "model_module_version": "1.1.0",
      "model_name": "LayoutModel",
      "state": {
       "justify_content": "center"
      }
     },
     "0c9bc610224d46e58fadca84e8f14468": {
      "model_module": "@jupyter-widgets/base",
      "model_module_version": "1.1.0",
      "model_name": "LayoutModel",
      "state": {
       "justify_content": "center"
      }
     },
     "0ce16efe8cc4437984f83e7a37a522be": {
      "model_module": "@jupyter-widgets/controls",
      "model_module_version": "1.4.0",
      "model_name": "HTMLModel",
      "state": {
       "layout": "IPY_MODEL_adadcd0d5fd54469ac92f87ed36804af",
       "style": "IPY_MODEL_70f5d7bb7f454b5d9edfb155b9041a53",
       "value": "<i>Wählen Sie die <ins>eine</ins> korrekte Antwort aus: </i>"
      }
     },
     "0d01d390603b4997bca71c8ea2617b75": {
      "model_module": "@jupyter-widgets/controls",
      "model_module_version": "1.4.0",
      "model_name": "VBoxModel",
      "state": {
       "children": [
        "IPY_MODEL_9edfa94649314851bfaf4cf078464f09",
        "IPY_MODEL_699e75fe63e74cef9beb212864346062",
        "IPY_MODEL_480488f90b8c464f9a33bdf726c206ae"
       ],
       "layout": "IPY_MODEL_8f2b2c06ff0d479cbd2418d9df79b3df"
      }
     },
     "0dba7e687fa14c81a28e8e9a99ee0098": {
      "model_module": "@jupyter-widgets/controls",
      "model_module_version": "1.4.0",
      "model_name": "HBoxModel",
      "state": {
       "children": [
        "IPY_MODEL_7243052366b04f0696cb05ef2f47b153",
        "IPY_MODEL_b382fc9f96dc4d459daf66c7fd944677"
       ],
       "layout": "IPY_MODEL_99ab52199c324262b9275d8b042cd5d2"
      }
     },
     "0e73401874ee4e08b178e9d41fa1fa3c": {
      "model_module": "@jupyter-widgets/base",
      "model_module_version": "1.1.0",
      "model_name": "LayoutModel",
      "state": {
       "width": "250px"
      }
     },
     "10bf9e1f75c14e9b92b031d64eee524e": {
      "model_module": "@jupyter-widgets/controls",
      "model_module_version": "1.4.0",
      "model_name": "HTMLModel",
      "state": {
       "layout": "IPY_MODEL_0c9bc610224d46e58fadca84e8f14468",
       "style": "IPY_MODEL_4e33f314c984487c9888d40a03570e57",
       "value": "<i>Wählen Sie die <ins>eine</ins> korrekte Antwort aus: </i>"
      }
     },
     "11f74a46496440df99035f007b0ca518": {
      "model_module": "@jupyter-widgets/base",
      "model_module_version": "1.1.0",
      "model_name": "LayoutModel",
      "state": {}
     },
     "1332297f86c74b898d4be11adb96a423": {
      "model_module": "@jupyter-widgets/base",
      "model_module_version": "1.1.0",
      "model_name": "LayoutModel",
      "state": {
       "justify_content": "center"
      }
     },
     "135d0be6666c47a3ac651dc2fbdc521f": {
      "model_module": "@jupyter-widgets/controls",
      "model_module_version": "1.4.0",
      "model_name": "HTMLModel",
      "state": {
       "layout": "IPY_MODEL_244c3cbb6962415d9ccd092269ecd231",
       "style": "IPY_MODEL_e4ce2b78b28f4093ba538bde2db31916",
       "value": "<h4 style=\"font-size:14px;\">Unifizieren f2 und f3?</h4>"
      }
     },
     "1637a1557bfe4844b46089bb6a61a6ec": {
      "model_module": "@jupyter-widgets/controls",
      "model_module_version": "1.4.0",
      "model_name": "ButtonStyleModel",
      "state": {}
     },
     "16abec1c12f241f08d5eff79662c2dc5": {
      "model_module": "@jupyter-widgets/controls",
      "model_module_version": "1.4.0",
      "model_name": "VBoxModel",
      "state": {
       "children": [
        "IPY_MODEL_2cce2c198f344da2b5854ed27653bf40",
        "IPY_MODEL_5660e627ea3a461f99b4eb254229a9ed",
        "IPY_MODEL_27b4c8486bd84db9bfd909e3ca3ee0d6"
       ],
       "layout": "IPY_MODEL_916c37407aad4d0ead88756468101502"
      }
     },
     "16be084ba85043d1877f563f92ccdfce": {
      "model_module": "@jupyter-widgets/base",
      "model_module_version": "1.1.0",
      "model_name": "LayoutModel",
      "state": {
       "width": "250px"
      }
     },
     "17370547966d4a4cba57a8d1a269904f": {
      "model_module": "@jupyter-widgets/controls",
      "model_module_version": "1.4.0",
      "model_name": "ButtonStyleModel",
      "state": {}
     },
     "1b9d003088c44ddd8e2db1476ba73300": {
      "model_module": "@jupyter-widgets/controls",
      "model_module_version": "1.4.0",
      "model_name": "HTMLModel",
      "state": {
       "layout": "IPY_MODEL_5f53668ed5d1437595f03cf256ca211e",
       "style": "IPY_MODEL_e04bc68b610e405481aacf3ad2a701fc",
       "value": "<h4 style=\"font-size:14px;\">Unifizieren f1 und f4?</h4>"
      }
     },
     "1d75820f491242ac833530a19c76151b": {
      "model_module": "@jupyter-widgets/controls",
      "model_module_version": "1.4.0",
      "model_name": "ButtonModel",
      "state": {
       "description": "Ja",
       "layout": "IPY_MODEL_9f0e06d4335e446ebd2def028adf257a",
       "style": "IPY_MODEL_3589a93b0d694a0abd0075276a2edd95"
      }
     },
     "1e0195441a0f4c8ba347db99d5758e62": {
      "model_module": "@jupyter-widgets/base",
      "model_module_version": "1.1.0",
      "model_name": "LayoutModel",
      "state": {}
     },
     "1eb0b0c81bb6450bad1955538ad3b1a0": {
      "model_module": "@jupyter-widgets/base",
      "model_module_version": "1.1.0",
      "model_name": "LayoutModel",
      "state": {}
     },
     "1efff2e928e64d619f9a5b2d379f1ec5": {
      "model_module": "@jupyter-widgets/controls",
      "model_module_version": "1.4.0",
      "model_name": "ButtonModel",
      "state": {
       "description": "Ja",
       "layout": "IPY_MODEL_c286cc1908c143bab7e9e5aa3b2a8c57",
       "style": "IPY_MODEL_075f625bfcff4bd89ada8f295d16911f"
      }
     },
     "1f218fe3bb00482493fb1f58bccd3c5b": {
      "model_module": "@jupyter-widgets/base",
      "model_module_version": "1.1.0",
      "model_name": "LayoutModel",
      "state": {
       "justify_content": "center"
      }
     },
     "1f7f862970f34fa48c65718f49a5b641": {
      "model_module": "@jupyter-widgets/controls",
      "model_module_version": "1.4.0",
      "model_name": "ButtonModel",
      "state": {
       "description": "Nein",
       "layout": "IPY_MODEL_a381213222a84e509974b1db5b029762",
       "style": "IPY_MODEL_6053485d2f9e456da1c807ce4e2c4271"
      }
     },
     "1fd3c24258834a02918367cfd015dca6": {
      "model_module": "@jupyter-widgets/controls",
      "model_module_version": "1.4.0",
      "model_name": "ButtonModel",
      "state": {
       "description": "Ja",
       "layout": "IPY_MODEL_0e73401874ee4e08b178e9d41fa1fa3c",
       "style": "IPY_MODEL_eab026e48d2146ae808acab3ab3cdf30"
      }
     },
     "2168646ce0b74dfaa24eed93d3a709c2": {
      "model_module": "@jupyter-widgets/controls",
      "model_module_version": "1.4.0",
      "model_name": "HBoxModel",
      "state": {
       "children": [
        "IPY_MODEL_caa169555c1f4f26a7a0c81c905d6e9d",
        "IPY_MODEL_7c4e92317d63455da5046ed943ecd8d0"
       ],
       "layout": "IPY_MODEL_badcd7c6e8574cafa4b9c7398816f18d"
      }
     },
     "21ddbd5f1b3e4f058fd33c68247234be": {
      "model_module": "@jupyter-widgets/controls",
      "model_module_version": "1.4.0",
      "model_name": "ButtonStyleModel",
      "state": {}
     },
     "22b2026913cc4fe3b383326b036610b3": {
      "model_module": "@jupyter-widgets/base",
      "model_module_version": "1.1.0",
      "model_name": "LayoutModel",
      "state": {
       "width": "250px"
      }
     },
     "244c3cbb6962415d9ccd092269ecd231": {
      "model_module": "@jupyter-widgets/base",
      "model_module_version": "1.1.0",
      "model_name": "LayoutModel",
      "state": {
       "justify_content": "center"
      }
     },
     "25bd65624b204aef9c71b8057dea7cde": {
      "model_module": "@jupyter-widgets/controls",
      "model_module_version": "1.4.0",
      "model_name": "ButtonStyleModel",
      "state": {}
     },
     "26f341d0882d47c291c67beb9e546f7a": {
      "model_module": "@jupyter-widgets/controls",
      "model_module_version": "1.4.0",
      "model_name": "DescriptionStyleModel",
      "state": {
       "description_width": ""
      }
     },
     "27559c73060a4487bbbe3456fd9628c2": {
      "model_module": "@jupyter-widgets/controls",
      "model_module_version": "1.4.0",
      "model_name": "ButtonStyleModel",
      "state": {
       "button_color": "lightgreen"
      }
     },
     "27b4c8486bd84db9bfd909e3ca3ee0d6": {
      "model_module": "@jupyter-widgets/controls",
      "model_module_version": "1.4.0",
      "model_name": "HBoxModel",
      "state": {
       "children": [
        "IPY_MODEL_8a2bb78d7fee4da7acc0efe0984b795f",
        "IPY_MODEL_2987751ceb8a41d89919532a93675987"
       ],
       "layout": "IPY_MODEL_e89e2e0d50484818acb65a72f93ec927"
      }
     },
     "2987751ceb8a41d89919532a93675987": {
      "model_module": "@jupyter-widgets/controls",
      "model_module_version": "1.4.0",
      "model_name": "ButtonModel",
      "state": {
       "description": "Nein",
       "layout": "IPY_MODEL_ecfa117b76a545958c46307592bceeb1",
       "style": "IPY_MODEL_854cdc71e95b42bb8ca4bdacf4048456"
      }
     },
     "29dd2ba746624d1582ca898f7d452280": {
      "model_module": "@jupyter-widgets/controls",
      "model_module_version": "1.4.0",
      "model_name": "DescriptionStyleModel",
      "state": {
       "description_width": ""
      }
     },
     "2a8456d393b0482a950d8d3de3c278a3": {
      "model_module": "@jupyter-widgets/controls",
      "model_module_version": "1.4.0",
      "model_name": "HTMLModel",
      "state": {
       "layout": "IPY_MODEL_691c54c3046b4f74ae3c0287a0c84cd0",
       "style": "IPY_MODEL_7521f36c42d24f1d9cb016ad60ee8479",
       "value": "<h4 style=\"font-size:14px;\">Unifizieren f2 und f3?</h4>"
      }
     },
     "2cce2c198f344da2b5854ed27653bf40": {
      "model_module": "@jupyter-widgets/controls",
      "model_module_version": "1.4.0",
      "model_name": "HTMLModel",
      "state": {
       "layout": "IPY_MODEL_6b7cc677209340959d73a87e677ab31d",
       "style": "IPY_MODEL_b0e512dfaf4d48ee8d15504ba1307277",
       "value": "<h4 style=\"font-size:14px;\">Unifizieren f1 und f2?</h4>"
      }
     },
     "2dde9f6f47b54c6e866992d9dbadeb61": {
      "model_module": "@jupyter-widgets/controls",
      "model_module_version": "1.4.0",
      "model_name": "DescriptionStyleModel",
      "state": {
       "description_width": ""
      }
     },
     "2f1e81a8fbac4f13b2cc00e0c3026bd0": {
      "model_module": "@jupyter-widgets/controls",
      "model_module_version": "1.4.0",
      "model_name": "VBoxModel",
      "state": {
       "children": [
        "IPY_MODEL_9818915ad2194be5957b275d17cb0250",
        "IPY_MODEL_e83ee17216d2463f8f4566ce955f81a6",
        "IPY_MODEL_4412130f15ed4ffc976f1e4dcd17dce8"
       ],
       "layout": "IPY_MODEL_4c345bdc87174eb9849c5fcf34252e2a"
      }
     },
     "2f9f2b7deef74361a520aa48b8ba5bb9": {
      "model_module": "@jupyter-widgets/base",
      "model_module_version": "1.1.0",
      "model_name": "LayoutModel",
      "state": {}
     },
     "2fd7a4e77465465a807e15ba224ab2aa": {
      "model_module": "@jupyter-widgets/controls",
      "model_module_version": "1.4.0",
      "model_name": "VBoxModel",
      "state": {
       "children": [
        "IPY_MODEL_5197f045b6814909998d6e5b4753fa64",
        "IPY_MODEL_06d9ccab0806404e98864508cf512359",
        "IPY_MODEL_4d2842203d674aebb0b3890d16b78833"
       ],
       "layout": "IPY_MODEL_fc41fd38de9b4bc8b0e43add52f468ab"
      }
     },
     "30b996511b2843feaf358bc52739423d": {
      "model_module": "@jupyter-widgets/controls",
      "model_module_version": "1.4.0",
      "model_name": "HTMLModel",
      "state": {
       "layout": "IPY_MODEL_6c2bf811f65a44e2909bbaed9b594bfc",
       "style": "IPY_MODEL_4d0725117757419ea1e61d592c0d6c7f",
       "value": "<h4 style=\"font-size:14px;\">Unifizieren f2 und f3?</h4>"
      }
     },
     "3104677db3474f31893d27ce35188b06": {
      "model_module": "@jupyter-widgets/controls",
      "model_module_version": "1.4.0",
      "model_name": "ButtonModel",
      "state": {
       "description": "Nein",
       "layout": "IPY_MODEL_edccb17676434b6482248c731d3c496b",
       "style": "IPY_MODEL_3b3fece6de31473fa8a66d3aff958f48"
      }
     },
     "310ec8016f1c4ffeb47a57f940a49ffb": {
      "model_module": "@jupyter-widgets/controls",
      "model_module_version": "1.4.0",
      "model_name": "DescriptionStyleModel",
      "state": {
       "description_width": ""
      }
     },
     "31af88a1bed241da988680296867d8b1": {
      "model_module": "@jupyter-widgets/controls",
      "model_module_version": "1.4.0",
      "model_name": "DescriptionStyleModel",
      "state": {
       "description_width": ""
      }
     },
     "3235206ca99a4d4ca24d36644c71f0a1": {
      "model_module": "@jupyter-widgets/controls",
      "model_module_version": "1.4.0",
      "model_name": "DescriptionStyleModel",
      "state": {
       "description_width": ""
      }
     },
     "32e30f7ceee64bf3b17ac26d3eebc2c2": {
      "model_module": "@jupyter-widgets/controls",
      "model_module_version": "1.4.0",
      "model_name": "ButtonStyleModel",
      "state": {}
     },
     "3307251e354d442fbe33d9f26eebb528": {
      "model_module": "@jupyter-widgets/controls",
      "model_module_version": "1.4.0",
      "model_name": "HTMLModel",
      "state": {
       "layout": "IPY_MODEL_0bd9a2580e2342e384fc9ad3fa4b2327",
       "style": "IPY_MODEL_310ec8016f1c4ffeb47a57f940a49ffb",
       "value": "<i>Wählen Sie die <ins>eine</ins> korrekte Antwort aus: </i>"
      }
     },
     "334b3e4f3fe44d41af2f012db783689d": {
      "model_module": "@jupyter-widgets/controls",
      "model_module_version": "1.4.0",
      "model_name": "HTMLModel",
      "state": {
       "layout": "IPY_MODEL_00a03be2009f4bb1a631d3522850713e",
       "style": "IPY_MODEL_eaf6ec3ee1ae43838b336d65464f6aa2",
       "value": "<h4 style=\"font-size:14px;\">Unifizieren f1 und f4?</h4>"
      }
     },
     "33c9b8ec6dca49a2acd35689563133c5": {
      "model_module": "@jupyter-widgets/controls",
      "model_module_version": "1.4.0",
      "model_name": "ButtonStyleModel",
      "state": {}
     },
     "33cb60feee2c406ea2d4f6da1494d48d": {
      "model_module": "@jupyter-widgets/base",
      "model_module_version": "1.1.0",
      "model_name": "LayoutModel",
      "state": {
       "width": "250px"
      }
     },
     "33fd2cadb60546aa85d52c7aa63f1ffd": {
      "model_module": "@jupyter-widgets/base",
      "model_module_version": "1.1.0",
      "model_name": "LayoutModel",
      "state": {}
     },
     "345d569600a54516914263334469540a": {
      "model_module": "@jupyter-widgets/base",
      "model_module_version": "1.1.0",
      "model_name": "LayoutModel",
      "state": {}
     },
     "3589a93b0d694a0abd0075276a2edd95": {
      "model_module": "@jupyter-widgets/controls",
      "model_module_version": "1.4.0",
      "model_name": "ButtonStyleModel",
      "state": {
       "button_color": "lightgreen"
      }
     },
     "35e2d9fe012b4733aa995fb51e55a1e8": {
      "model_module": "@jupyter-widgets/controls",
      "model_module_version": "1.4.0",
      "model_name": "HTMLModel",
      "state": {
       "layout": "IPY_MODEL_69bec0093ba04cfaa68247af1921cb71",
       "style": "IPY_MODEL_4aea7ae4b67d4b63bb5de69934d687aa",
       "value": "<i>Wählen Sie die <ins>eine</ins> korrekte Antwort aus: </i>"
      }
     },
     "36815253108c4200bb3a36137f9d15ca": {
      "model_module": "@jupyter-widgets/base",
      "model_module_version": "1.1.0",
      "model_name": "LayoutModel",
      "state": {}
     },
     "36fb6f57cb3f46f1aa4fd19581e2a192": {
      "model_module": "@jupyter-widgets/controls",
      "model_module_version": "1.4.0",
      "model_name": "ButtonStyleModel",
      "state": {
       "button_color": "lightgreen"
      }
     },
     "377cd2f04ef0416f84be2d831ce1cb09": {
      "model_module": "@jupyter-widgets/base",
      "model_module_version": "1.1.0",
      "model_name": "LayoutModel",
      "state": {
       "justify_content": "center"
      }
     },
     "38c90aeeadd64f9695f73abd958a66ce": {
      "model_module": "@jupyter-widgets/controls",
      "model_module_version": "1.4.0",
      "model_name": "ButtonStyleModel",
      "state": {}
     },
     "3aadb37856684252a45ba3ebda330687": {
      "model_module": "@jupyter-widgets/controls",
      "model_module_version": "1.4.0",
      "model_name": "HTMLModel",
      "state": {
       "layout": "IPY_MODEL_377cd2f04ef0416f84be2d831ce1cb09",
       "style": "IPY_MODEL_a1da91aa067c4dd89cab60a5b850d1c6",
       "value": "<h4 style=\"font-size:14px;\">Unifizieren f1 und f4?</h4>"
      }
     },
     "3b143dd429a3470ba719e31b8737a003": {
      "model_module": "@jupyter-widgets/controls",
      "model_module_version": "1.4.0",
      "model_name": "ButtonModel",
      "state": {
       "description": "Nein",
       "layout": "IPY_MODEL_8002d353e1304ead9969ba48ee021c7c",
       "style": "IPY_MODEL_e3ba0794ffb94c948c2d1b10d8045827"
      }
     },
     "3b3fece6de31473fa8a66d3aff958f48": {
      "model_module": "@jupyter-widgets/controls",
      "model_module_version": "1.4.0",
      "model_name": "ButtonStyleModel",
      "state": {}
     },
     "3be289b9d44a47dead68d142f14daddf": {
      "model_module": "@jupyter-widgets/controls",
      "model_module_version": "1.4.0",
      "model_name": "VBoxModel",
      "state": {
       "children": [
        "IPY_MODEL_334b3e4f3fe44d41af2f012db783689d",
        "IPY_MODEL_35e2d9fe012b4733aa995fb51e55a1e8",
        "IPY_MODEL_9eec49079a3047bab4ded96b5a84b91a"
       ],
       "layout": "IPY_MODEL_a2579ebb8c9c44c282f3a6144b134741"
      }
     },
     "3d17fbadc8144094b9b98803d425b9dc": {
      "model_module": "@jupyter-widgets/controls",
      "model_module_version": "1.4.0",
      "model_name": "ButtonStyleModel",
      "state": {
       "button_color": "lightgreen"
      }
     },
     "3e7b5591464247429b47610c6afebed0": {
      "model_module": "@jupyter-widgets/controls",
      "model_module_version": "1.4.0",
      "model_name": "HTMLModel",
      "state": {
       "layout": "IPY_MODEL_7ec0fabc9b7e499ba352b08e56ff5cb1",
       "style": "IPY_MODEL_53aa7ac8a4624cac872251b0d3254b96",
       "value": "<h4 style=\"font-size:14px;\">Unifizieren f1 und f4?</h4>"
      }
     },
     "3fa463acc8f44ddeafc1511a37b75b90": {
      "model_module": "@jupyter-widgets/controls",
      "model_module_version": "1.4.0",
      "model_name": "VBoxModel",
      "state": {
       "children": [
        "IPY_MODEL_1b9d003088c44ddd8e2db1476ba73300",
        "IPY_MODEL_3307251e354d442fbe33d9f26eebb528",
        "IPY_MODEL_996928f2097242e3a21d42854c017e4a"
       ],
       "layout": "IPY_MODEL_496f4093c2024903a044b1eb1c8d03ef"
      }
     },
     "4412130f15ed4ffc976f1e4dcd17dce8": {
      "model_module": "@jupyter-widgets/controls",
      "model_module_version": "1.4.0",
      "model_name": "HBoxModel",
      "state": {
       "children": [
        "IPY_MODEL_7452da0919064f48833c27ff37bace70",
        "IPY_MODEL_c200b097143047e1a4ab06c6466d47d5"
       ],
       "layout": "IPY_MODEL_a70b2d2491784fd19610def231df47f2"
      }
     },
     "44a12a059cad45a9858fde1c13f2ad3b": {
      "model_module": "@jupyter-widgets/base",
      "model_module_version": "1.1.0",
      "model_name": "LayoutModel",
      "state": {
       "width": "250px"
      }
     },
     "480488f90b8c464f9a33bdf726c206ae": {
      "model_module": "@jupyter-widgets/controls",
      "model_module_version": "1.4.0",
      "model_name": "HBoxModel",
      "state": {
       "children": [
        "IPY_MODEL_1d75820f491242ac833530a19c76151b",
        "IPY_MODEL_69676470499b4a55a373ca9bec43aea2"
       ],
       "layout": "IPY_MODEL_799518ac0ca04dc290892d96ad3e594f"
      }
     },
     "4899112a68f84c9884a8f884e624d403": {
      "model_module": "@jupyter-widgets/controls",
      "model_module_version": "1.4.0",
      "model_name": "VBoxModel",
      "state": {
       "children": [
        "IPY_MODEL_135d0be6666c47a3ac651dc2fbdc521f",
        "IPY_MODEL_71f6babd81844b44b43bfc1baff2da62",
        "IPY_MODEL_00528c5ef6f946c0a04362c98e15b5e6"
       ],
       "layout": "IPY_MODEL_4b2d19d8710b4a3bb3ab716252fd3d57"
      }
     },
     "496f4093c2024903a044b1eb1c8d03ef": {
      "model_module": "@jupyter-widgets/base",
      "model_module_version": "1.1.0",
      "model_name": "LayoutModel",
      "state": {}
     },
     "4a7a0fdf7bd54d26a2b406396a4ea21a": {
      "model_module": "@jupyter-widgets/controls",
      "model_module_version": "1.4.0",
      "model_name": "DescriptionStyleModel",
      "state": {
       "description_width": ""
      }
     },
     "4ab59a69ea3a4523bf399430ec4e6c30": {
      "model_module": "@jupyter-widgets/base",
      "model_module_version": "1.1.0",
      "model_name": "LayoutModel",
      "state": {}
     },
     "4aea7ae4b67d4b63bb5de69934d687aa": {
      "model_module": "@jupyter-widgets/controls",
      "model_module_version": "1.4.0",
      "model_name": "DescriptionStyleModel",
      "state": {
       "description_width": ""
      }
     },
     "4b2d19d8710b4a3bb3ab716252fd3d57": {
      "model_module": "@jupyter-widgets/base",
      "model_module_version": "1.1.0",
      "model_name": "LayoutModel",
      "state": {}
     },
     "4c345bdc87174eb9849c5fcf34252e2a": {
      "model_module": "@jupyter-widgets/base",
      "model_module_version": "1.1.0",
      "model_name": "LayoutModel",
      "state": {}
     },
     "4d0725117757419ea1e61d592c0d6c7f": {
      "model_module": "@jupyter-widgets/controls",
      "model_module_version": "1.4.0",
      "model_name": "DescriptionStyleModel",
      "state": {
       "description_width": ""
      }
     },
     "4d2842203d674aebb0b3890d16b78833": {
      "model_module": "@jupyter-widgets/controls",
      "model_module_version": "1.4.0",
      "model_name": "HBoxModel",
      "state": {
       "children": [
        "IPY_MODEL_e0678fd4aaee4ebbb7d19c0f00f2ef69",
        "IPY_MODEL_f2d928263aec461aad104644535e5a15"
       ],
       "layout": "IPY_MODEL_02846c22a85647ba977e86f61910d63a"
      }
     },
     "4e1d4e87ab064697a2eeae153c3e7c74": {
      "model_module": "@jupyter-widgets/controls",
      "model_module_version": "1.4.0",
      "model_name": "DescriptionStyleModel",
      "state": {
       "description_width": ""
      }
     },
     "4e33f314c984487c9888d40a03570e57": {
      "model_module": "@jupyter-widgets/controls",
      "model_module_version": "1.4.0",
      "model_name": "DescriptionStyleModel",
      "state": {
       "description_width": ""
      }
     },
     "50b2520c4f1143c5beb176a1308ec5d0": {
      "model_module": "@jupyter-widgets/base",
      "model_module_version": "1.1.0",
      "model_name": "LayoutModel",
      "state": {
       "width": "250px"
      }
     },
     "5197f045b6814909998d6e5b4753fa64": {
      "model_module": "@jupyter-widgets/controls",
      "model_module_version": "1.4.0",
      "model_name": "HTMLModel",
      "state": {
       "layout": "IPY_MODEL_af44f7116c3f43ba933a8a2c727ef314",
       "style": "IPY_MODEL_9e2dfcf0f15c4b21bb08e1747b1a0f90",
       "value": "<h4 style=\"font-size:14px;\">Unifizieren f2 und f3?</h4>"
      }
     },
     "527d185447274b4bb8b8ac72bf637e8e": {
      "model_module": "@jupyter-widgets/controls",
      "model_module_version": "1.4.0",
      "model_name": "ButtonStyleModel",
      "state": {}
     },
     "53aa7ac8a4624cac872251b0d3254b96": {
      "model_module": "@jupyter-widgets/controls",
      "model_module_version": "1.4.0",
      "model_name": "DescriptionStyleModel",
      "state": {
       "description_width": ""
      }
     },
     "5660e627ea3a461f99b4eb254229a9ed": {
      "model_module": "@jupyter-widgets/controls",
      "model_module_version": "1.4.0",
      "model_name": "HTMLModel",
      "state": {
       "layout": "IPY_MODEL_1f218fe3bb00482493fb1f58bccd3c5b",
       "style": "IPY_MODEL_c00631d31a144e5988e118b29a607dfc",
       "value": "<i>Wählen Sie die <ins>eine</ins> korrekte Antwort aus: </i>"
      }
     },
     "59e4e2ad53274ef2b36c3715354bd0ff": {
      "model_module": "@jupyter-widgets/controls",
      "model_module_version": "1.4.0",
      "model_name": "HTMLModel",
      "state": {
       "layout": "IPY_MODEL_d1ffdea0b88d49069b761a14fd781074",
       "style": "IPY_MODEL_e62ec2ba8b1c4072964818f3d2a0b541",
       "value": "<i>Wählen Sie die <ins>eine</ins> korrekte Antwort aus: </i>"
      }
     },
     "5ab22ef60fb84579be25cf67ebc5d777": {
      "model_module": "@jupyter-widgets/controls",
      "model_module_version": "1.4.0",
      "model_name": "HBoxModel",
      "state": {
       "children": [
        "IPY_MODEL_1fd3c24258834a02918367cfd015dca6",
        "IPY_MODEL_df17b6538f3245c0a0ca45ff5c52e298"
       ],
       "layout": "IPY_MODEL_f8b589e2bc62461b80ae88271deb1000"
      }
     },
     "5d8ed6efbf2e4e31ac3dd458b9ed87bf": {
      "model_module": "@jupyter-widgets/controls",
      "model_module_version": "1.4.0",
      "model_name": "ButtonModel",
      "state": {
       "description": "Nein",
       "layout": "IPY_MODEL_86389d90fa894c41ac89b711d92f63c6",
       "style": "IPY_MODEL_d5556cdf8a7347eb927325b8619af186"
      }
     },
     "5f53668ed5d1437595f03cf256ca211e": {
      "model_module": "@jupyter-widgets/base",
      "model_module_version": "1.1.0",
      "model_name": "LayoutModel",
      "state": {
       "justify_content": "center"
      }
     },
     "5fe3fa2346b24932825b085dfef29cb3": {
      "model_module": "@jupyter-widgets/controls",
      "model_module_version": "1.4.0",
      "model_name": "ButtonModel",
      "state": {
       "description": "Ja",
       "layout": "IPY_MODEL_c69548832de946c8aaf1fcd02a9a620c",
       "style": "IPY_MODEL_7d3ae475c3ea4b918da5fde0b18df462"
      }
     },
     "6053485d2f9e456da1c807ce4e2c4271": {
      "model_module": "@jupyter-widgets/controls",
      "model_module_version": "1.4.0",
      "model_name": "ButtonStyleModel",
      "state": {}
     },
     "6064c6bf90864eddac3fc63d59fb47c8": {
      "model_module": "@jupyter-widgets/base",
      "model_module_version": "1.1.0",
      "model_name": "LayoutModel",
      "state": {
       "width": "250px"
      }
     },
     "6083cf6f5c3c42c7b4ca32204feb1945": {
      "model_module": "@jupyter-widgets/controls",
      "model_module_version": "1.4.0",
      "model_name": "HTMLModel",
      "state": {
       "layout": "IPY_MODEL_fed8d65e679f439491a693a1bba8d509",
       "style": "IPY_MODEL_98d3820d42874d21a1356e7219ccf006",
       "value": "<h4 style=\"font-size:14px;\">Unifizieren f1 und f2?</h4>"
      }
     },
     "61570dbaf2ee4bc5b0c20e77fd9478e6": {
      "model_module": "@jupyter-widgets/controls",
      "model_module_version": "1.4.0",
      "model_name": "ButtonModel",
      "state": {
       "description": "Ja",
       "layout": "IPY_MODEL_33cb60feee2c406ea2d4f6da1494d48d",
       "style": "IPY_MODEL_7b0f6622c4104c9e9a89124c77d5529c"
      }
     },
     "6191baea9b9e4f86b3b5fa7c9d404560": {
      "model_module": "@jupyter-widgets/controls",
      "model_module_version": "1.4.0",
      "model_name": "ButtonModel",
      "state": {
       "description": "Nein",
       "layout": "IPY_MODEL_b3f8cc3b9c1c4fe5b072c97f8fd2959f",
       "style": "IPY_MODEL_cb652677d2f3428dbdd95f7a8076b57e"
      }
     },
     "670f0125ebaf403e973cd3eebd4fd081": {
      "model_module": "@jupyter-widgets/base",
      "model_module_version": "1.1.0",
      "model_name": "LayoutModel",
      "state": {
       "width": "250px"
      }
     },
     "67f9ac8317604f41a318a9a7f4fe0030": {
      "model_module": "@jupyter-widgets/base",
      "model_module_version": "1.1.0",
      "model_name": "LayoutModel",
      "state": {
       "width": "250px"
      }
     },
     "6809366782fb4f53980099d00d852169": {
      "model_module": "@jupyter-widgets/base",
      "model_module_version": "1.1.0",
      "model_name": "LayoutModel",
      "state": {
       "justify_content": "center"
      }
     },
     "68f4f7895d0f4fc5bbd20fd693144aef": {
      "model_module": "@jupyter-widgets/controls",
      "model_module_version": "1.4.0",
      "model_name": "VBoxModel",
      "state": {
       "children": [
        "IPY_MODEL_2a8456d393b0482a950d8d3de3c278a3",
        "IPY_MODEL_7a9ea5dac17648689afa822a90a81170",
        "IPY_MODEL_7a8082ce0af140f5960918b2236d3b59"
       ],
       "layout": "IPY_MODEL_73b2ad3819a6498d84406e5895233dfa"
      }
     },
     "691c54c3046b4f74ae3c0287a0c84cd0": {
      "model_module": "@jupyter-widgets/base",
      "model_module_version": "1.1.0",
      "model_name": "LayoutModel",
      "state": {
       "justify_content": "center"
      }
     },
     "69676470499b4a55a373ca9bec43aea2": {
      "model_module": "@jupyter-widgets/controls",
      "model_module_version": "1.4.0",
      "model_name": "ButtonModel",
      "state": {
       "description": "Nein",
       "layout": "IPY_MODEL_bc6a2359d8a04251b40cb9c35a9d4539",
       "style": "IPY_MODEL_21ddbd5f1b3e4f058fd33c68247234be"
      }
     },
     "699e75fe63e74cef9beb212864346062": {
      "model_module": "@jupyter-widgets/controls",
      "model_module_version": "1.4.0",
      "model_name": "HTMLModel",
      "state": {
       "layout": "IPY_MODEL_9eb8c6d3aafe44e297b1b060a9e9903f",
       "style": "IPY_MODEL_8c12aa4651564b7fb9153618c8804c2c",
       "value": "<i>Wählen Sie die <ins>eine</ins> korrekte Antwort aus: </i>"
      }
     },
     "69bec0093ba04cfaa68247af1921cb71": {
      "model_module": "@jupyter-widgets/base",
      "model_module_version": "1.1.0",
      "model_name": "LayoutModel",
      "state": {
       "justify_content": "center"
      }
     },
     "6b465fcdb848402785b84c5c443f9b0e": {
      "model_module": "@jupyter-widgets/base",
      "model_module_version": "1.1.0",
      "model_name": "LayoutModel",
      "state": {
       "justify_content": "center"
      }
     },
     "6b7cc677209340959d73a87e677ab31d": {
      "model_module": "@jupyter-widgets/base",
      "model_module_version": "1.1.0",
      "model_name": "LayoutModel",
      "state": {
       "justify_content": "center"
      }
     },
     "6b82fdf1164a4ba9af77abc87c450fca": {
      "model_module": "@jupyter-widgets/controls",
      "model_module_version": "1.4.0",
      "model_name": "VBoxModel",
      "state": {
       "children": [
        "IPY_MODEL_3e7b5591464247429b47610c6afebed0",
        "IPY_MODEL_944fef3d1378473e91f5ebb21a43a991",
        "IPY_MODEL_0dba7e687fa14c81a28e8e9a99ee0098"
       ],
       "layout": "IPY_MODEL_dbd149e9db2340c0a986ceb8c64dadc0"
      }
     },
     "6bb19c14f3ff4d0aa2e24ae3f2af0edb": {
      "model_module": "@jupyter-widgets/controls",
      "model_module_version": "1.4.0",
      "model_name": "VBoxModel",
      "state": {
       "children": [
        "IPY_MODEL_b56a6c47a97449d9b5f9cbc20ae523ca",
        "IPY_MODEL_0ce16efe8cc4437984f83e7a37a522be",
        "IPY_MODEL_a5b92f4a310c4784b9e89dc64550f907"
       ],
       "layout": "IPY_MODEL_067971efd5094d6193877201baf9ca6a"
      }
     },
     "6c2bf811f65a44e2909bbaed9b594bfc": {
      "model_module": "@jupyter-widgets/base",
      "model_module_version": "1.1.0",
      "model_name": "LayoutModel",
      "state": {
       "justify_content": "center"
      }
     },
     "6d288d92dcb24b63962ebb1b60ea20de": {
      "model_module": "@jupyter-widgets/controls",
      "model_module_version": "1.4.0",
      "model_name": "HBoxModel",
      "state": {
       "children": [
        "IPY_MODEL_5fe3fa2346b24932825b085dfef29cb3",
        "IPY_MODEL_3104677db3474f31893d27ce35188b06"
       ],
       "layout": "IPY_MODEL_be4bce7812f24f578201003ae68f07a6"
      }
     },
     "6d6e854d61b04b3e95eb641b373de5b2": {
      "model_module": "@jupyter-widgets/base",
      "model_module_version": "1.1.0",
      "model_name": "LayoutModel",
      "state": {}
     },
     "6f964f14f87e463da4a6733859a83cd5": {
      "model_module": "@jupyter-widgets/controls",
      "model_module_version": "1.4.0",
      "model_name": "HBoxModel",
      "state": {
       "children": [
        "IPY_MODEL_03dd62ab72b34cbfa7d8151317442401",
        "IPY_MODEL_fa552677c4554abea27280c87359bd15"
       ],
       "layout": "IPY_MODEL_718b9ce80a854fcfa66f049df98bc26c"
      }
     },
     "70f5d7bb7f454b5d9edfb155b9041a53": {
      "model_module": "@jupyter-widgets/controls",
      "model_module_version": "1.4.0",
      "model_name": "DescriptionStyleModel",
      "state": {
       "description_width": ""
      }
     },
     "71178c59d0214c86af2ed58e37afbf53": {
      "model_module": "@jupyter-widgets/base",
      "model_module_version": "1.1.0",
      "model_name": "LayoutModel",
      "state": {
       "width": "250px"
      }
     },
     "718b9ce80a854fcfa66f049df98bc26c": {
      "model_module": "@jupyter-widgets/base",
      "model_module_version": "1.1.0",
      "model_name": "LayoutModel",
      "state": {}
     },
     "71f6babd81844b44b43bfc1baff2da62": {
      "model_module": "@jupyter-widgets/controls",
      "model_module_version": "1.4.0",
      "model_name": "HTMLModel",
      "state": {
       "layout": "IPY_MODEL_efab3c4bd3f44ddd90bcb91aed7b2d6e",
       "style": "IPY_MODEL_a7be52ae01ba408ebcb032ba22d0629a",
       "value": "<i>Wählen Sie die <ins>eine</ins> korrekte Antwort aus: </i>"
      }
     },
     "7243052366b04f0696cb05ef2f47b153": {
      "model_module": "@jupyter-widgets/controls",
      "model_module_version": "1.4.0",
      "model_name": "ButtonModel",
      "state": {
       "description": "Ja",
       "layout": "IPY_MODEL_93a9146b0ad64c47ab097bcf1a0d7da4",
       "style": "IPY_MODEL_d3fce2750481416eb36ba8800f70b0c1"
      }
     },
     "728dccf21c53468eb7e37ca1f560b710": {
      "model_module": "@jupyter-widgets/controls",
      "model_module_version": "1.4.0",
      "model_name": "VBoxModel",
      "state": {
       "children": [
        "IPY_MODEL_cf67a89668a04316b36b38b062e73591",
        "IPY_MODEL_f1d4c69a39bd4b3fb8e94cb28a8501b8",
        "IPY_MODEL_6f964f14f87e463da4a6733859a83cd5"
       ],
       "layout": "IPY_MODEL_345d569600a54516914263334469540a"
      }
     },
     "73b2ad3819a6498d84406e5895233dfa": {
      "model_module": "@jupyter-widgets/base",
      "model_module_version": "1.1.0",
      "model_name": "LayoutModel",
      "state": {}
     },
     "7452da0919064f48833c27ff37bace70": {
      "model_module": "@jupyter-widgets/controls",
      "model_module_version": "1.4.0",
      "model_name": "ButtonModel",
      "state": {
       "description": "Ja",
       "layout": "IPY_MODEL_7af7dc8146b4461a832392f96c816141",
       "style": "IPY_MODEL_abc4e21f7a154a20abf59c1912b1825f"
      }
     },
     "7521f36c42d24f1d9cb016ad60ee8479": {
      "model_module": "@jupyter-widgets/controls",
      "model_module_version": "1.4.0",
      "model_name": "DescriptionStyleModel",
      "state": {
       "description_width": ""
      }
     },
     "757f1b2ac08e4fe093eda2b35001819a": {
      "model_module": "@jupyter-widgets/controls",
      "model_module_version": "1.4.0",
      "model_name": "VBoxModel",
      "state": {
       "children": [
        "IPY_MODEL_3aadb37856684252a45ba3ebda330687",
        "IPY_MODEL_7a5f7a0fe0b949c9bf7709ff87738a94",
        "IPY_MODEL_d5049d587cdb4023824f3079c53825bd"
       ],
       "layout": "IPY_MODEL_01adbae1fd4b4476b1db95cbd5a8281a"
      }
     },
     "759506a49562417d81558d191ab60334": {
      "model_module": "@jupyter-widgets/base",
      "model_module_version": "1.1.0",
      "model_name": "LayoutModel",
      "state": {
       "width": "250px"
      }
     },
     "799518ac0ca04dc290892d96ad3e594f": {
      "model_module": "@jupyter-widgets/base",
      "model_module_version": "1.1.0",
      "model_name": "LayoutModel",
      "state": {}
     },
     "7a5f7a0fe0b949c9bf7709ff87738a94": {
      "model_module": "@jupyter-widgets/controls",
      "model_module_version": "1.4.0",
      "model_name": "HTMLModel",
      "state": {
       "layout": "IPY_MODEL_7d75813c18b249f8a1af7b8f64e8b644",
       "style": "IPY_MODEL_29dd2ba746624d1582ca898f7d452280",
       "value": "<i>Wählen Sie die <ins>eine</ins> korrekte Antwort aus: </i>"
      }
     },
     "7a8082ce0af140f5960918b2236d3b59": {
      "model_module": "@jupyter-widgets/controls",
      "model_module_version": "1.4.0",
      "model_name": "HBoxModel",
      "state": {
       "children": [
        "IPY_MODEL_88d18a99a93745ad9df4571086d96404",
        "IPY_MODEL_1f7f862970f34fa48c65718f49a5b641"
       ],
       "layout": "IPY_MODEL_036967424aab4c528fa60bae40ada441"
      }
     },
     "7a9ea5dac17648689afa822a90a81170": {
      "model_module": "@jupyter-widgets/controls",
      "model_module_version": "1.4.0",
      "model_name": "HTMLModel",
      "state": {
       "layout": "IPY_MODEL_9cdd48769e364f18a2b2a170c086636e",
       "style": "IPY_MODEL_26f341d0882d47c291c67beb9e546f7a",
       "value": "<i>Wählen Sie die <ins>eine</ins> korrekte Antwort aus: </i>"
      }
     },
     "7af7dc8146b4461a832392f96c816141": {
      "model_module": "@jupyter-widgets/base",
      "model_module_version": "1.1.0",
      "model_name": "LayoutModel",
      "state": {
       "width": "250px"
      }
     },
     "7b0f6622c4104c9e9a89124c77d5529c": {
      "model_module": "@jupyter-widgets/controls",
      "model_module_version": "1.4.0",
      "model_name": "ButtonStyleModel",
      "state": {
       "button_color": "lightgreen"
      }
     },
     "7c1e1e077d6e44c5bf87ae3dec0846c3": {
      "model_module": "@jupyter-widgets/controls",
      "model_module_version": "1.4.0",
      "model_name": "ButtonStyleModel",
      "state": {}
     },
     "7c42c63cab814f73be9ce9c78fa21bad": {
      "model_module": "@jupyter-widgets/base",
      "model_module_version": "1.1.0",
      "model_name": "LayoutModel",
      "state": {
       "width": "250px"
      }
     },
     "7c4e92317d63455da5046ed943ecd8d0": {
      "model_module": "@jupyter-widgets/controls",
      "model_module_version": "1.4.0",
      "model_name": "ButtonModel",
      "state": {
       "description": "Nein",
       "layout": "IPY_MODEL_b8f241d9b8de4adeb68a62a067d7eb52",
       "style": "IPY_MODEL_9fa9dcee85804b62a79c022590fe8989"
      }
     },
     "7ca6904ffdb940f5ab4d09381932eaac": {
      "model_module": "@jupyter-widgets/controls",
      "model_module_version": "1.4.0",
      "model_name": "DescriptionStyleModel",
      "state": {
       "description_width": ""
      }
     },
     "7d3ae475c3ea4b918da5fde0b18df462": {
      "model_module": "@jupyter-widgets/controls",
      "model_module_version": "1.4.0",
      "model_name": "ButtonStyleModel",
      "state": {
       "button_color": "lightgreen"
      }
     },
     "7d75813c18b249f8a1af7b8f64e8b644": {
      "model_module": "@jupyter-widgets/base",
      "model_module_version": "1.1.0",
      "model_name": "LayoutModel",
      "state": {
       "justify_content": "center"
      }
     },
     "7e23466f34224978bbb371c839930579": {
      "model_module": "@jupyter-widgets/base",
      "model_module_version": "1.1.0",
      "model_name": "LayoutModel",
      "state": {
       "justify_content": "center"
      }
     },
     "7ec0fabc9b7e499ba352b08e56ff5cb1": {
      "model_module": "@jupyter-widgets/base",
      "model_module_version": "1.1.0",
      "model_name": "LayoutModel",
      "state": {
       "justify_content": "center"
      }
     },
     "7fb4c7e5f88b4c45bd8804ab39d47189": {
      "model_module": "@jupyter-widgets/controls",
      "model_module_version": "1.4.0",
      "model_name": "ButtonModel",
      "state": {
       "description": "Ja",
       "layout": "IPY_MODEL_eb321bc643a24486bfd04221a9f2426c",
       "style": "IPY_MODEL_05ad098a00d64e2c953edfb6762f6afa"
      }
     },
     "8002d353e1304ead9969ba48ee021c7c": {
      "model_module": "@jupyter-widgets/base",
      "model_module_version": "1.1.0",
      "model_name": "LayoutModel",
      "state": {
       "width": "250px"
      }
     },
     "81a0efdecad94efba6a9dcc68e59d123": {
      "model_module": "@jupyter-widgets/base",
      "model_module_version": "1.1.0",
      "model_name": "LayoutModel",
      "state": {
       "justify_content": "center"
      }
     },
     "832d61115b4f48ad9ddc5d52e1d3a727": {
      "model_module": "@jupyter-widgets/controls",
      "model_module_version": "1.4.0",
      "model_name": "HTMLModel",
      "state": {
       "layout": "IPY_MODEL_93976e0a13b842cbafdf88f55e38f36b",
       "style": "IPY_MODEL_dd450f54594e415b8b9ef197b9e7b88a",
       "value": "<h4 style=\"font-size:14px;\">Unifizieren f1 und f4?</h4>"
      }
     },
     "854cdc71e95b42bb8ca4bdacf4048456": {
      "model_module": "@jupyter-widgets/controls",
      "model_module_version": "1.4.0",
      "model_name": "ButtonStyleModel",
      "state": {}
     },
     "85b1f03b3b8b4ac2857e166ddb81f6da": {
      "model_module": "@jupyter-widgets/base",
      "model_module_version": "1.1.0",
      "model_name": "LayoutModel",
      "state": {
       "width": "250px"
      }
     },
     "86389d90fa894c41ac89b711d92f63c6": {
      "model_module": "@jupyter-widgets/base",
      "model_module_version": "1.1.0",
      "model_name": "LayoutModel",
      "state": {
       "width": "250px"
      }
     },
     "88d18a99a93745ad9df4571086d96404": {
      "model_module": "@jupyter-widgets/controls",
      "model_module_version": "1.4.0",
      "model_name": "ButtonModel",
      "state": {
       "description": "Ja",
       "layout": "IPY_MODEL_f601d8219c034fc68533e6bd175bdade",
       "style": "IPY_MODEL_02c6d6737bfa41f499f3a3c71bf10752"
      }
     },
     "8a1ad8e355034e2194b9eb2610dd433c": {
      "model_module": "@jupyter-widgets/base",
      "model_module_version": "1.1.0",
      "model_name": "LayoutModel",
      "state": {}
     },
     "8a2bb78d7fee4da7acc0efe0984b795f": {
      "model_module": "@jupyter-widgets/controls",
      "model_module_version": "1.4.0",
      "model_name": "ButtonModel",
      "state": {
       "description": "Ja",
       "layout": "IPY_MODEL_a582ea634e6047139e2db27299ca3ce6",
       "style": "IPY_MODEL_527d185447274b4bb8b8ac72bf637e8e"
      }
     },
     "8a4f3c53027a4d03aca75215ec2f4878": {
      "model_module": "@jupyter-widgets/controls",
      "model_module_version": "1.4.0",
      "model_name": "HBoxModel",
      "state": {
       "children": [
        "IPY_MODEL_e3a5d179cf7247ad8b72a88236cc64f8",
        "IPY_MODEL_edef0ddcedf14db48679f82e1541c2ff"
       ],
       "layout": "IPY_MODEL_975a370d8d8441c58f18e02bbc7b7ac9"
      }
     },
     "8be0c46b80ac43c3b4868f8ce1ad07eb": {
      "model_module": "@jupyter-widgets/controls",
      "model_module_version": "1.4.0",
      "model_name": "DescriptionStyleModel",
      "state": {
       "description_width": ""
      }
     },
     "8c12aa4651564b7fb9153618c8804c2c": {
      "model_module": "@jupyter-widgets/controls",
      "model_module_version": "1.4.0",
      "model_name": "DescriptionStyleModel",
      "state": {
       "description_width": ""
      }
     },
     "8c8420c3ee824fe2ae963312ac480de7": {
      "model_module": "@jupyter-widgets/controls",
      "model_module_version": "1.4.0",
      "model_name": "ButtonModel",
      "state": {
       "description": "Nein",
       "layout": "IPY_MODEL_e7dcb4269cd947369f099763f6b070c5",
       "style": "IPY_MODEL_0100289e5fd94d7f8d6d6a33da069f90"
      }
     },
     "8e94ca477ea845428be50d321773662e": {
      "model_module": "@jupyter-widgets/controls",
      "model_module_version": "1.4.0",
      "model_name": "VBoxModel",
      "state": {
       "children": [
        "IPY_MODEL_30b996511b2843feaf358bc52739423d",
        "IPY_MODEL_59e4e2ad53274ef2b36c3715354bd0ff",
        "IPY_MODEL_6d288d92dcb24b63962ebb1b60ea20de"
       ],
       "layout": "IPY_MODEL_1eb0b0c81bb6450bad1955538ad3b1a0"
      }
     },
     "8f2b2c06ff0d479cbd2418d9df79b3df": {
      "model_module": "@jupyter-widgets/base",
      "model_module_version": "1.1.0",
      "model_name": "LayoutModel",
      "state": {}
     },
     "916c37407aad4d0ead88756468101502": {
      "model_module": "@jupyter-widgets/base",
      "model_module_version": "1.1.0",
      "model_name": "LayoutModel",
      "state": {}
     },
     "9172a87840a641a7af2600e8bba1a083": {
      "model_module": "@jupyter-widgets/base",
      "model_module_version": "1.1.0",
      "model_name": "LayoutModel",
      "state": {}
     },
     "91c4223a175f4516a99396a391d71510": {
      "model_module": "@jupyter-widgets/base",
      "model_module_version": "1.1.0",
      "model_name": "LayoutModel",
      "state": {
       "width": "250px"
      }
     },
     "937ee2cf1fe54d98b15ecf74bebf64ea": {
      "model_module": "@jupyter-widgets/base",
      "model_module_version": "1.1.0",
      "model_name": "LayoutModel",
      "state": {}
     },
     "93976e0a13b842cbafdf88f55e38f36b": {
      "model_module": "@jupyter-widgets/base",
      "model_module_version": "1.1.0",
      "model_name": "LayoutModel",
      "state": {
       "justify_content": "center"
      }
     },
     "93a9146b0ad64c47ab097bcf1a0d7da4": {
      "model_module": "@jupyter-widgets/base",
      "model_module_version": "1.1.0",
      "model_name": "LayoutModel",
      "state": {
       "width": "250px"
      }
     },
     "943558e1b06341d98cdce5af24f4c2f4": {
      "model_module": "@jupyter-widgets/controls",
      "model_module_version": "1.4.0",
      "model_name": "HTMLModel",
      "state": {
       "layout": "IPY_MODEL_d171d1649e6d4700b5c111e0fb576ce4",
       "style": "IPY_MODEL_8be0c46b80ac43c3b4868f8ce1ad07eb",
       "value": "<h4 style=\"font-size:14px;\">Unifizieren f1 und f2?</h4>"
      }
     },
     "944fef3d1378473e91f5ebb21a43a991": {
      "model_module": "@jupyter-widgets/controls",
      "model_module_version": "1.4.0",
      "model_name": "HTMLModel",
      "state": {
       "layout": "IPY_MODEL_c1ea92c3882b4e6e909a9f4784759dad",
       "style": "IPY_MODEL_b217ce0ee45c40ae8dc5f2a724a0f567",
       "value": "<i>Wählen Sie die <ins>eine</ins> korrekte Antwort aus: </i>"
      }
     },
     "95443663d1f248cda1d53de32d654af5": {
      "model_module": "@jupyter-widgets/controls",
      "model_module_version": "1.4.0",
      "model_name": "DescriptionStyleModel",
      "state": {
       "description_width": ""
      }
     },
     "9565213c60f148b9a222f312a3f7ade4": {
      "model_module": "@jupyter-widgets/controls",
      "model_module_version": "1.4.0",
      "model_name": "ButtonModel",
      "state": {
       "description": "Nein",
       "layout": "IPY_MODEL_c16c9ca281ca4595a90638fadbdcccbb",
       "style": "IPY_MODEL_e797dd7af3604e479af81c406394fa1a"
      }
     },
     "9658b85e3d424f0db8728819559d707b": {
      "model_module": "@jupyter-widgets/controls",
      "model_module_version": "1.4.0",
      "model_name": "ButtonModel",
      "state": {
       "description": "Ja",
       "layout": "IPY_MODEL_67f9ac8317604f41a318a9a7f4fe0030",
       "style": "IPY_MODEL_1637a1557bfe4844b46089bb6a61a6ec"
      }
     },
     "973aab8e11d142d2bb869118702bea6e": {
      "model_module": "@jupyter-widgets/controls",
      "model_module_version": "1.4.0",
      "model_name": "DescriptionStyleModel",
      "state": {
       "description_width": ""
      }
     },
     "975a370d8d8441c58f18e02bbc7b7ac9": {
      "model_module": "@jupyter-widgets/base",
      "model_module_version": "1.1.0",
      "model_name": "LayoutModel",
      "state": {}
     },
     "9818915ad2194be5957b275d17cb0250": {
      "model_module": "@jupyter-widgets/controls",
      "model_module_version": "1.4.0",
      "model_name": "HTMLModel",
      "state": {
       "layout": "IPY_MODEL_81a0efdecad94efba6a9dcc68e59d123",
       "style": "IPY_MODEL_b54bff3611804cf2a4a5d5c351da1224",
       "value": "<h4 style=\"font-size:14px;\">Unifizieren f2 und f4?</h4>"
      }
     },
     "98d3820d42874d21a1356e7219ccf006": {
      "model_module": "@jupyter-widgets/controls",
      "model_module_version": "1.4.0",
      "model_name": "DescriptionStyleModel",
      "state": {
       "description_width": ""
      }
     },
     "996928f2097242e3a21d42854c017e4a": {
      "model_module": "@jupyter-widgets/controls",
      "model_module_version": "1.4.0",
      "model_name": "HBoxModel",
      "state": {
       "children": [
        "IPY_MODEL_9658b85e3d424f0db8728819559d707b",
        "IPY_MODEL_c3575d4f5607412bbbd547555e80b14d"
       ],
       "layout": "IPY_MODEL_8a1ad8e355034e2194b9eb2610dd433c"
      }
     },
     "99ab52199c324262b9275d8b042cd5d2": {
      "model_module": "@jupyter-widgets/base",
      "model_module_version": "1.1.0",
      "model_name": "LayoutModel",
      "state": {}
     },
     "9aab3d9343a6411f9aea17f3086d602a": {
      "model_module": "@jupyter-widgets/controls",
      "model_module_version": "1.4.0",
      "model_name": "HTMLModel",
      "state": {
       "layout": "IPY_MODEL_6b465fcdb848402785b84c5c443f9b0e",
       "style": "IPY_MODEL_4a7a0fdf7bd54d26a2b406396a4ea21a",
       "value": "<h4 style=\"font-size:14px;\">Unifizieren f2 und f4?</h4>"
      }
     },
     "9b01b226e54245dc8c2eebf0a1977529": {
      "model_module": "@jupyter-widgets/controls",
      "model_module_version": "1.4.0",
      "model_name": "DescriptionStyleModel",
      "state": {
       "description_width": ""
      }
     },
     "9bd9023ef6d14d43ab586d7f7aefcd3f": {
      "model_module": "@jupyter-widgets/base",
      "model_module_version": "1.1.0",
      "model_name": "LayoutModel",
      "state": {
       "justify_content": "center"
      }
     },
     "9cdd48769e364f18a2b2a170c086636e": {
      "model_module": "@jupyter-widgets/base",
      "model_module_version": "1.1.0",
      "model_name": "LayoutModel",
      "state": {
       "justify_content": "center"
      }
     },
     "9e2dfcf0f15c4b21bb08e1747b1a0f90": {
      "model_module": "@jupyter-widgets/controls",
      "model_module_version": "1.4.0",
      "model_name": "DescriptionStyleModel",
      "state": {
       "description_width": ""
      }
     },
     "9eb8c6d3aafe44e297b1b060a9e9903f": {
      "model_module": "@jupyter-widgets/base",
      "model_module_version": "1.1.0",
      "model_name": "LayoutModel",
      "state": {
       "justify_content": "center"
      }
     },
     "9edfa94649314851bfaf4cf078464f09": {
      "model_module": "@jupyter-widgets/controls",
      "model_module_version": "1.4.0",
      "model_name": "HTMLModel",
      "state": {
       "layout": "IPY_MODEL_db496e94786944bd92bcf61e33871d2d",
       "style": "IPY_MODEL_b069075d45d945d5a9914ebbb8e98362",
       "value": "<h4 style=\"font-size:14px;\">Unifizieren f1 und f2?</h4>"
      }
     },
     "9eec49079a3047bab4ded96b5a84b91a": {
      "model_module": "@jupyter-widgets/controls",
      "model_module_version": "1.4.0",
      "model_name": "HBoxModel",
      "state": {
       "children": [
        "IPY_MODEL_ce2084152d1943768db8985896b2fc7c",
        "IPY_MODEL_3b143dd429a3470ba719e31b8737a003"
       ],
       "layout": "IPY_MODEL_e3dba545e32d4bc491856397e5ede347"
      }
     },
     "9f0e06d4335e446ebd2def028adf257a": {
      "model_module": "@jupyter-widgets/base",
      "model_module_version": "1.1.0",
      "model_name": "LayoutModel",
      "state": {
       "width": "250px"
      }
     },
     "9f85f9446e1946bdb51bf84076043b83": {
      "model_module": "@jupyter-widgets/controls",
      "model_module_version": "1.4.0",
      "model_name": "ButtonStyleModel",
      "state": {}
     },
     "9fa9dcee85804b62a79c022590fe8989": {
      "model_module": "@jupyter-widgets/controls",
      "model_module_version": "1.4.0",
      "model_name": "ButtonStyleModel",
      "state": {}
     },
     "a11fcab3ce804fe685a82097963bfde7": {
      "model_module": "@jupyter-widgets/controls",
      "model_module_version": "1.4.0",
      "model_name": "VBoxModel",
      "state": {
       "children": [
        "IPY_MODEL_c0c0657df7624c1694b966b2085f54fc",
        "IPY_MODEL_be9c1ede9e5644c781c6f706177789f4",
        "IPY_MODEL_d62a96019da940d080663380c7f0fe2b"
       ],
       "layout": "IPY_MODEL_4ab59a69ea3a4523bf399430ec4e6c30"
      }
     },
     "a14f1da9bcbc47a3bbcbcf874c08315f": {
      "model_module": "@jupyter-widgets/base",
      "model_module_version": "1.1.0",
      "model_name": "LayoutModel",
      "state": {}
     },
     "a1da91aa067c4dd89cab60a5b850d1c6": {
      "model_module": "@jupyter-widgets/controls",
      "model_module_version": "1.4.0",
      "model_name": "DescriptionStyleModel",
      "state": {
       "description_width": ""
      }
     },
     "a2579ebb8c9c44c282f3a6144b134741": {
      "model_module": "@jupyter-widgets/base",
      "model_module_version": "1.1.0",
      "model_name": "LayoutModel",
      "state": {}
     },
     "a360fe31085445889172b7c33f53e9d0": {
      "model_module": "@jupyter-widgets/controls",
      "model_module_version": "1.4.0",
      "model_name": "ButtonStyleModel",
      "state": {}
     },
     "a381213222a84e509974b1db5b029762": {
      "model_module": "@jupyter-widgets/base",
      "model_module_version": "1.1.0",
      "model_name": "LayoutModel",
      "state": {
       "width": "250px"
      }
     },
     "a3e2367d19e447b0b2c799b311b45523": {
      "model_module": "@jupyter-widgets/base",
      "model_module_version": "1.1.0",
      "model_name": "LayoutModel",
      "state": {
       "justify_content": "center"
      }
     },
     "a582ea634e6047139e2db27299ca3ce6": {
      "model_module": "@jupyter-widgets/base",
      "model_module_version": "1.1.0",
      "model_name": "LayoutModel",
      "state": {
       "width": "250px"
      }
     },
     "a5b92f4a310c4784b9e89dc64550f907": {
      "model_module": "@jupyter-widgets/controls",
      "model_module_version": "1.4.0",
      "model_name": "HBoxModel",
      "state": {
       "children": [
        "IPY_MODEL_d9ed9a6647504b9cad24a265917671cb",
        "IPY_MODEL_035748e536c24ef4a494ef217cb3e9ac"
       ],
       "layout": "IPY_MODEL_6d6e854d61b04b3e95eb641b373de5b2"
      }
     },
     "a5fe57ff65f84ba3990bab11afa1b77f": {
      "model_module": "@jupyter-widgets/base",
      "model_module_version": "1.1.0",
      "model_name": "LayoutModel",
      "state": {
       "justify_content": "center"
      }
     },
     "a70b2d2491784fd19610def231df47f2": {
      "model_module": "@jupyter-widgets/base",
      "model_module_version": "1.1.0",
      "model_name": "LayoutModel",
      "state": {}
     },
     "a7be52ae01ba408ebcb032ba22d0629a": {
      "model_module": "@jupyter-widgets/controls",
      "model_module_version": "1.4.0",
      "model_name": "DescriptionStyleModel",
      "state": {
       "description_width": ""
      }
     },
     "ab7885c252784b5cbe9861eaf520ddc4": {
      "model_module": "@jupyter-widgets/base",
      "model_module_version": "1.1.0",
      "model_name": "LayoutModel",
      "state": {
       "width": "250px"
      }
     },
     "abc4e21f7a154a20abf59c1912b1825f": {
      "model_module": "@jupyter-widgets/controls",
      "model_module_version": "1.4.0",
      "model_name": "ButtonStyleModel",
      "state": {}
     },
     "ad5a4eb5a5ec4ebfa8ba2536fb52a2b7": {
      "model_module": "@jupyter-widgets/base",
      "model_module_version": "1.1.0",
      "model_name": "LayoutModel",
      "state": {}
     },
     "adadcd0d5fd54469ac92f87ed36804af": {
      "model_module": "@jupyter-widgets/base",
      "model_module_version": "1.1.0",
      "model_name": "LayoutModel",
      "state": {
       "justify_content": "center"
      }
     },
     "af44f7116c3f43ba933a8a2c727ef314": {
      "model_module": "@jupyter-widgets/base",
      "model_module_version": "1.1.0",
      "model_name": "LayoutModel",
      "state": {
       "justify_content": "center"
      }
     },
     "b069075d45d945d5a9914ebbb8e98362": {
      "model_module": "@jupyter-widgets/controls",
      "model_module_version": "1.4.0",
      "model_name": "DescriptionStyleModel",
      "state": {
       "description_width": ""
      }
     },
     "b0741082f46b493ab5085dfd2c0c6081": {
      "model_module": "@jupyter-widgets/base",
      "model_module_version": "1.1.0",
      "model_name": "LayoutModel",
      "state": {
       "width": "250px"
      }
     },
     "b0e512dfaf4d48ee8d15504ba1307277": {
      "model_module": "@jupyter-widgets/controls",
      "model_module_version": "1.4.0",
      "model_name": "DescriptionStyleModel",
      "state": {
       "description_width": ""
      }
     },
     "b16001af0971481e9ea248b380c57c77": {
      "model_module": "@jupyter-widgets/controls",
      "model_module_version": "1.4.0",
      "model_name": "DescriptionStyleModel",
      "state": {
       "description_width": ""
      }
     },
     "b19fc8844b154090bc7d577791f6c0a4": {
      "model_module": "@jupyter-widgets/base",
      "model_module_version": "1.1.0",
      "model_name": "LayoutModel",
      "state": {
       "justify_content": "center"
      }
     },
     "b1c583d8f0d84cb79edc60ee54762c62": {
      "model_module": "@jupyter-widgets/controls",
      "model_module_version": "1.4.0",
      "model_name": "HTMLModel",
      "state": {
       "layout": "IPY_MODEL_b4d23e0ac919450ba25e7bdc6e713ade",
       "style": "IPY_MODEL_c3ed5aa94b2748aebc22ace910de33c4",
       "value": "<i>Wählen Sie die <ins>eine</ins> korrekte Antwort aus: </i>"
      }
     },
     "b217ce0ee45c40ae8dc5f2a724a0f567": {
      "model_module": "@jupyter-widgets/controls",
      "model_module_version": "1.4.0",
      "model_name": "DescriptionStyleModel",
      "state": {
       "description_width": ""
      }
     },
     "b382fc9f96dc4d459daf66c7fd944677": {
      "model_module": "@jupyter-widgets/controls",
      "model_module_version": "1.4.0",
      "model_name": "ButtonModel",
      "state": {
       "description": "Nein",
       "layout": "IPY_MODEL_670f0125ebaf403e973cd3eebd4fd081",
       "style": "IPY_MODEL_9f85f9446e1946bdb51bf84076043b83"
      }
     },
     "b3f8cc3b9c1c4fe5b072c97f8fd2959f": {
      "model_module": "@jupyter-widgets/base",
      "model_module_version": "1.1.0",
      "model_name": "LayoutModel",
      "state": {
       "width": "250px"
      }
     },
     "b4d23e0ac919450ba25e7bdc6e713ade": {
      "model_module": "@jupyter-widgets/base",
      "model_module_version": "1.1.0",
      "model_name": "LayoutModel",
      "state": {
       "justify_content": "center"
      }
     },
     "b54bff3611804cf2a4a5d5c351da1224": {
      "model_module": "@jupyter-widgets/controls",
      "model_module_version": "1.4.0",
      "model_name": "DescriptionStyleModel",
      "state": {
       "description_width": ""
      }
     },
     "b56a6c47a97449d9b5f9cbc20ae523ca": {
      "model_module": "@jupyter-widgets/controls",
      "model_module_version": "1.4.0",
      "model_name": "HTMLModel",
      "state": {
       "layout": "IPY_MODEL_05252691bace4668bd9d1e599ebf2b75",
       "style": "IPY_MODEL_c295f6456492482abddfd244ed2c1613",
       "value": "<h4 style=\"font-size:14px;\">Unifizieren f1 und f2?</h4>"
      }
     },
     "b668ddd35d0a4cbdb55a3b8d401410b7": {
      "model_module": "@jupyter-widgets/base",
      "model_module_version": "1.1.0",
      "model_name": "LayoutModel",
      "state": {
       "justify_content": "center"
      }
     },
     "b8ba7d5239d5431e92f304a4be46b8be": {
      "model_module": "@jupyter-widgets/controls",
      "model_module_version": "1.4.0",
      "model_name": "ButtonModel",
      "state": {
       "description": "Ja",
       "layout": "IPY_MODEL_759506a49562417d81558d191ab60334",
       "style": "IPY_MODEL_b94cb42f3b5044e2aa097d40572d97ec"
      }
     },
     "b8f241d9b8de4adeb68a62a067d7eb52": {
      "model_module": "@jupyter-widgets/base",
      "model_module_version": "1.1.0",
      "model_name": "LayoutModel",
      "state": {
       "width": "250px"
      }
     },
     "b94cb42f3b5044e2aa097d40572d97ec": {
      "model_module": "@jupyter-widgets/controls",
      "model_module_version": "1.4.0",
      "model_name": "ButtonStyleModel",
      "state": {}
     },
     "b9e25e4562b04de2a6c0f72c0baf7e74": {
      "model_module": "@jupyter-widgets/base",
      "model_module_version": "1.1.0",
      "model_name": "LayoutModel",
      "state": {
       "width": "250px"
      }
     },
     "badcd7c6e8574cafa4b9c7398816f18d": {
      "model_module": "@jupyter-widgets/base",
      "model_module_version": "1.1.0",
      "model_name": "LayoutModel",
      "state": {}
     },
     "bb591a9aa4344fa7b58c84ef7f39368d": {
      "model_module": "@jupyter-widgets/controls",
      "model_module_version": "1.4.0",
      "model_name": "HBoxModel",
      "state": {
       "children": [
        "IPY_MODEL_1efff2e928e64d619f9a5b2d379f1ec5",
        "IPY_MODEL_e3f1c9c6505c4b19a5b3512fb58e5aeb"
       ],
       "layout": "IPY_MODEL_e68c42c4b87048b1a5b57bc25f98a176"
      }
     },
     "bc4a1c6ed2b6447ab0eac8c133c8f744": {
      "model_module": "@jupyter-widgets/controls",
      "model_module_version": "1.4.0",
      "model_name": "VBoxModel",
      "state": {
       "children": [
        "IPY_MODEL_fb53a1e76de542e8a5d810ad0817f550",
        "IPY_MODEL_c00d24c2418b455c963efc049c7c864e",
        "IPY_MODEL_5ab22ef60fb84579be25cf67ebc5d777"
       ],
       "layout": "IPY_MODEL_33fd2cadb60546aa85d52c7aa63f1ffd"
      }
     },
     "bc6a2359d8a04251b40cb9c35a9d4539": {
      "model_module": "@jupyter-widgets/base",
      "model_module_version": "1.1.0",
      "model_name": "LayoutModel",
      "state": {
       "width": "250px"
      }
     },
     "be4bce7812f24f578201003ae68f07a6": {
      "model_module": "@jupyter-widgets/base",
      "model_module_version": "1.1.0",
      "model_name": "LayoutModel",
      "state": {}
     },
     "be9c1ede9e5644c781c6f706177789f4": {
      "model_module": "@jupyter-widgets/controls",
      "model_module_version": "1.4.0",
      "model_name": "HTMLModel",
      "state": {
       "layout": "IPY_MODEL_c4e694413dea4a97ae6001b388c2b906",
       "style": "IPY_MODEL_c2dcb919ab4d405282e03eb969be680b",
       "value": "<i>Wählen Sie die <ins>eine</ins> korrekte Antwort aus: </i>"
      }
     },
     "c00631d31a144e5988e118b29a607dfc": {
      "model_module": "@jupyter-widgets/controls",
      "model_module_version": "1.4.0",
      "model_name": "DescriptionStyleModel",
      "state": {
       "description_width": ""
      }
     },
     "c00d24c2418b455c963efc049c7c864e": {
      "model_module": "@jupyter-widgets/controls",
      "model_module_version": "1.4.0",
      "model_name": "HTMLModel",
      "state": {
       "layout": "IPY_MODEL_a5fe57ff65f84ba3990bab11afa1b77f",
       "style": "IPY_MODEL_31af88a1bed241da988680296867d8b1",
       "value": "<i>Wählen Sie die <ins>eine</ins> korrekte Antwort aus: </i>"
      }
     },
     "c0c0657df7624c1694b966b2085f54fc": {
      "model_module": "@jupyter-widgets/controls",
      "model_module_version": "1.4.0",
      "model_name": "HTMLModel",
      "state": {
       "layout": "IPY_MODEL_a3e2367d19e447b0b2c799b311b45523",
       "style": "IPY_MODEL_4e1d4e87ab064697a2eeae153c3e7c74",
       "value": "<h4 style=\"font-size:14px;\">Unifizieren f2 und f4?</h4>"
      }
     },
     "c16c9ca281ca4595a90638fadbdcccbb": {
      "model_module": "@jupyter-widgets/base",
      "model_module_version": "1.1.0",
      "model_name": "LayoutModel",
      "state": {
       "width": "250px"
      }
     },
     "c1ea92c3882b4e6e909a9f4784759dad": {
      "model_module": "@jupyter-widgets/base",
      "model_module_version": "1.1.0",
      "model_name": "LayoutModel",
      "state": {
       "justify_content": "center"
      }
     },
     "c200b097143047e1a4ab06c6466d47d5": {
      "model_module": "@jupyter-widgets/controls",
      "model_module_version": "1.4.0",
      "model_name": "ButtonModel",
      "state": {
       "description": "Nein",
       "layout": "IPY_MODEL_7c42c63cab814f73be9ce9c78fa21bad",
       "style": "IPY_MODEL_7c1e1e077d6e44c5bf87ae3dec0846c3"
      }
     },
     "c286cc1908c143bab7e9e5aa3b2a8c57": {
      "model_module": "@jupyter-widgets/base",
      "model_module_version": "1.1.0",
      "model_name": "LayoutModel",
      "state": {
       "width": "250px"
      }
     },
     "c295f6456492482abddfd244ed2c1613": {
      "model_module": "@jupyter-widgets/controls",
      "model_module_version": "1.4.0",
      "model_name": "DescriptionStyleModel",
      "state": {
       "description_width": ""
      }
     },
     "c2dcb919ab4d405282e03eb969be680b": {
      "model_module": "@jupyter-widgets/controls",
      "model_module_version": "1.4.0",
      "model_name": "DescriptionStyleModel",
      "state": {
       "description_width": ""
      }
     },
     "c3575d4f5607412bbbd547555e80b14d": {
      "model_module": "@jupyter-widgets/controls",
      "model_module_version": "1.4.0",
      "model_name": "ButtonModel",
      "state": {
       "description": "Nein",
       "layout": "IPY_MODEL_71178c59d0214c86af2ed58e37afbf53",
       "style": "IPY_MODEL_3d17fbadc8144094b9b98803d425b9dc"
      }
     },
     "c3a34ebef916426cb752b995dda37ec5": {
      "model_module": "@jupyter-widgets/controls",
      "model_module_version": "1.4.0",
      "model_name": "ButtonStyleModel",
      "state": {
       "button_color": "lightgreen"
      }
     },
     "c3ed5aa94b2748aebc22ace910de33c4": {
      "model_module": "@jupyter-widgets/controls",
      "model_module_version": "1.4.0",
      "model_name": "DescriptionStyleModel",
      "state": {
       "description_width": ""
      }
     },
     "c4e694413dea4a97ae6001b388c2b906": {
      "model_module": "@jupyter-widgets/base",
      "model_module_version": "1.1.0",
      "model_name": "LayoutModel",
      "state": {
       "justify_content": "center"
      }
     },
     "c69548832de946c8aaf1fcd02a9a620c": {
      "model_module": "@jupyter-widgets/base",
      "model_module_version": "1.1.0",
      "model_name": "LayoutModel",
      "state": {
       "width": "250px"
      }
     },
     "c81c5cf69cf34eebb3ddf01f9e659867": {
      "model_module": "@jupyter-widgets/controls",
      "model_module_version": "1.4.0",
      "model_name": "HTMLModel",
      "state": {
       "layout": "IPY_MODEL_b19fc8844b154090bc7d577791f6c0a4",
       "style": "IPY_MODEL_973aab8e11d142d2bb869118702bea6e",
       "value": "<i>Wählen Sie die <ins>eine</ins> korrekte Antwort aus: </i>"
      }
     },
     "ca1d0fcfdf284bb3838522eddae89abf": {
      "model_module": "@jupyter-widgets/controls",
      "model_module_version": "1.4.0",
      "model_name": "DescriptionStyleModel",
      "state": {
       "description_width": ""
      }
     },
     "caa169555c1f4f26a7a0c81c905d6e9d": {
      "model_module": "@jupyter-widgets/controls",
      "model_module_version": "1.4.0",
      "model_name": "ButtonModel",
      "state": {
       "description": "Ja",
       "layout": "IPY_MODEL_22b2026913cc4fe3b383326b036610b3",
       "style": "IPY_MODEL_17370547966d4a4cba57a8d1a269904f"
      }
     },
     "cb652677d2f3428dbdd95f7a8076b57e": {
      "model_module": "@jupyter-widgets/controls",
      "model_module_version": "1.4.0",
      "model_name": "ButtonStyleModel",
      "state": {}
     },
     "ccdc36cac57047cfaf795554b31178fc": {
      "model_module": "@jupyter-widgets/controls",
      "model_module_version": "1.4.0",
      "model_name": "ButtonStyleModel",
      "state": {}
     },
     "ce2084152d1943768db8985896b2fc7c": {
      "model_module": "@jupyter-widgets/controls",
      "model_module_version": "1.4.0",
      "model_name": "ButtonModel",
      "state": {
       "description": "Ja",
       "layout": "IPY_MODEL_f5ff22e05a314dccb604fc14db071397",
       "style": "IPY_MODEL_a360fe31085445889172b7c33f53e9d0"
      }
     },
     "cf67a89668a04316b36b38b062e73591": {
      "model_module": "@jupyter-widgets/controls",
      "model_module_version": "1.4.0",
      "model_name": "HTMLModel",
      "state": {
       "layout": "IPY_MODEL_b668ddd35d0a4cbdb55a3b8d401410b7",
       "style": "IPY_MODEL_95443663d1f248cda1d53de32d654af5",
       "value": "<h4 style=\"font-size:14px;\">Unifizieren f2 und f3?</h4>"
      }
     },
     "cfe2d9ea4a56444399b7be35ac44d58f": {
      "model_module": "@jupyter-widgets/controls",
      "model_module_version": "1.4.0",
      "model_name": "ButtonStyleModel",
      "state": {}
     },
     "d171d1649e6d4700b5c111e0fb576ce4": {
      "model_module": "@jupyter-widgets/base",
      "model_module_version": "1.1.0",
      "model_name": "LayoutModel",
      "state": {
       "justify_content": "center"
      }
     },
     "d172178038e54fd8ab93f6fa5733ebbf": {
      "model_module": "@jupyter-widgets/controls",
      "model_module_version": "1.4.0",
      "model_name": "ButtonModel",
      "state": {
       "description": "Nein",
       "layout": "IPY_MODEL_44a12a059cad45a9858fde1c13f2ad3b",
       "style": "IPY_MODEL_25bd65624b204aef9c71b8057dea7cde"
      }
     },
     "d1ffdea0b88d49069b761a14fd781074": {
      "model_module": "@jupyter-widgets/base",
      "model_module_version": "1.1.0",
      "model_name": "LayoutModel",
      "state": {
       "justify_content": "center"
      }
     },
     "d3fce2750481416eb36ba8800f70b0c1": {
      "model_module": "@jupyter-widgets/controls",
      "model_module_version": "1.4.0",
      "model_name": "ButtonStyleModel",
      "state": {}
     },
     "d5049d587cdb4023824f3079c53825bd": {
      "model_module": "@jupyter-widgets/controls",
      "model_module_version": "1.4.0",
      "model_name": "HBoxModel",
      "state": {
       "children": [
        "IPY_MODEL_b8ba7d5239d5431e92f304a4be46b8be",
        "IPY_MODEL_9565213c60f148b9a222f312a3f7ade4"
       ],
       "layout": "IPY_MODEL_eefdc1da38244386956c48bec56784b8"
      }
     },
     "d5556cdf8a7347eb927325b8619af186": {
      "model_module": "@jupyter-widgets/controls",
      "model_module_version": "1.4.0",
      "model_name": "ButtonStyleModel",
      "state": {
       "button_color": "lightgreen"
      }
     },
     "d62a96019da940d080663380c7f0fe2b": {
      "model_module": "@jupyter-widgets/controls",
      "model_module_version": "1.4.0",
      "model_name": "HBoxModel",
      "state": {
       "children": [
        "IPY_MODEL_e42585e9e66649f1af87ab5be959f147",
        "IPY_MODEL_6191baea9b9e4f86b3b5fa7c9d404560"
       ],
       "layout": "IPY_MODEL_ad5a4eb5a5ec4ebfa8ba2536fb52a2b7"
      }
     },
     "d7047cb244a745f096b4b68d690885f1": {
      "model_module": "@jupyter-widgets/controls",
      "model_module_version": "1.4.0",
      "model_name": "VBoxModel",
      "state": {
       "children": [
        "IPY_MODEL_e24db7a90a8a43078cc3022345bdba94",
        "IPY_MODEL_005e8a22a9da48a982f083774e797dec",
        "IPY_MODEL_e6d676d0eaff47f3928fc45fed93c3c1"
       ],
       "layout": "IPY_MODEL_1e0195441a0f4c8ba347db99d5758e62"
      }
     },
     "d7226bd8bb694fef8f3a8eec460ba747": {
      "model_module": "@jupyter-widgets/controls",
      "model_module_version": "1.4.0",
      "model_name": "ButtonStyleModel",
      "state": {}
     },
     "d7c4b54efe4c4b4fbae83db963f0b0e2": {
      "model_module": "@jupyter-widgets/controls",
      "model_module_version": "1.4.0",
      "model_name": "ButtonStyleModel",
      "state": {}
     },
     "d9ed9a6647504b9cad24a265917671cb": {
      "model_module": "@jupyter-widgets/controls",
      "model_module_version": "1.4.0",
      "model_name": "ButtonModel",
      "state": {
       "description": "Ja",
       "layout": "IPY_MODEL_b0741082f46b493ab5085dfd2c0c6081",
       "style": "IPY_MODEL_d7226bd8bb694fef8f3a8eec460ba747"
      }
     },
     "dae21aa2ee5f4863b0351e5b9e32b0c9": {
      "model_module": "@jupyter-widgets/base",
      "model_module_version": "1.1.0",
      "model_name": "LayoutModel",
      "state": {}
     },
     "db496e94786944bd92bcf61e33871d2d": {
      "model_module": "@jupyter-widgets/base",
      "model_module_version": "1.1.0",
      "model_name": "LayoutModel",
      "state": {
       "justify_content": "center"
      }
     },
     "dbd149e9db2340c0a986ceb8c64dadc0": {
      "model_module": "@jupyter-widgets/base",
      "model_module_version": "1.1.0",
      "model_name": "LayoutModel",
      "state": {}
     },
     "dd450f54594e415b8b9ef197b9e7b88a": {
      "model_module": "@jupyter-widgets/controls",
      "model_module_version": "1.4.0",
      "model_name": "DescriptionStyleModel",
      "state": {
       "description_width": ""
      }
     },
     "df17b6538f3245c0a0ca45ff5c52e298": {
      "model_module": "@jupyter-widgets/controls",
      "model_module_version": "1.4.0",
      "model_name": "ButtonModel",
      "state": {
       "description": "Nein",
       "layout": "IPY_MODEL_0893a04e40c64f848bb0cbe2aabbce16",
       "style": "IPY_MODEL_040a878cbddf4beb8887f54e7bd0ad20"
      }
     },
     "df8aee808c9544159dbd7f3e89cc23a7": {
      "model_module": "@jupyter-widgets/controls",
      "model_module_version": "1.4.0",
      "model_name": "VBoxModel",
      "state": {
       "children": [
        "IPY_MODEL_832d61115b4f48ad9ddc5d52e1d3a727",
        "IPY_MODEL_e846ccafd3c441baa9880400221fde3a",
        "IPY_MODEL_8a4f3c53027a4d03aca75215ec2f4878"
       ],
       "layout": "IPY_MODEL_dae21aa2ee5f4863b0351e5b9e32b0c9"
      }
     },
     "e04bc68b610e405481aacf3ad2a701fc": {
      "model_module": "@jupyter-widgets/controls",
      "model_module_version": "1.4.0",
      "model_name": "DescriptionStyleModel",
      "state": {
       "description_width": ""
      }
     },
     "e0678fd4aaee4ebbb7d19c0f00f2ef69": {
      "model_module": "@jupyter-widgets/controls",
      "model_module_version": "1.4.0",
      "model_name": "ButtonModel",
      "state": {
       "description": "Ja",
       "layout": "IPY_MODEL_50b2520c4f1143c5beb176a1308ec5d0",
       "style": "IPY_MODEL_36fb6f57cb3f46f1aa4fd19581e2a192"
      }
     },
     "e24db7a90a8a43078cc3022345bdba94": {
      "model_module": "@jupyter-widgets/controls",
      "model_module_version": "1.4.0",
      "model_name": "HTMLModel",
      "state": {
       "layout": "IPY_MODEL_e8a12982f8194ca4938f4d74fa2494bc",
       "style": "IPY_MODEL_3235206ca99a4d4ca24d36644c71f0a1",
       "value": "<h4 style=\"font-size:14px;\">Unifizieren f2 und f4?</h4>"
      }
     },
     "e3a5d179cf7247ad8b72a88236cc64f8": {
      "model_module": "@jupyter-widgets/controls",
      "model_module_version": "1.4.0",
      "model_name": "ButtonModel",
      "state": {
       "description": "Ja",
       "layout": "IPY_MODEL_f020ab232b254f0c8280096ea992b325",
       "style": "IPY_MODEL_38c90aeeadd64f9695f73abd958a66ce"
      }
     },
     "e3ba0794ffb94c948c2d1b10d8045827": {
      "model_module": "@jupyter-widgets/controls",
      "model_module_version": "1.4.0",
      "model_name": "ButtonStyleModel",
      "state": {}
     },
     "e3dba545e32d4bc491856397e5ede347": {
      "model_module": "@jupyter-widgets/base",
      "model_module_version": "1.1.0",
      "model_name": "LayoutModel",
      "state": {}
     },
     "e3f1c9c6505c4b19a5b3512fb58e5aeb": {
      "model_module": "@jupyter-widgets/controls",
      "model_module_version": "1.4.0",
      "model_name": "ButtonModel",
      "state": {
       "description": "Nein",
       "layout": "IPY_MODEL_f8705eec84354d60a6dcfcc94022c918",
       "style": "IPY_MODEL_27559c73060a4487bbbe3456fd9628c2"
      }
     },
     "e42585e9e66649f1af87ab5be959f147": {
      "model_module": "@jupyter-widgets/controls",
      "model_module_version": "1.4.0",
      "model_name": "ButtonModel",
      "state": {
       "description": "Ja",
       "layout": "IPY_MODEL_ab7885c252784b5cbe9861eaf520ddc4",
       "style": "IPY_MODEL_32e30f7ceee64bf3b17ac26d3eebc2c2"
      }
     },
     "e4ce2b78b28f4093ba538bde2db31916": {
      "model_module": "@jupyter-widgets/controls",
      "model_module_version": "1.4.0",
      "model_name": "DescriptionStyleModel",
      "state": {
       "description_width": ""
      }
     },
     "e62ec2ba8b1c4072964818f3d2a0b541": {
      "model_module": "@jupyter-widgets/controls",
      "model_module_version": "1.4.0",
      "model_name": "DescriptionStyleModel",
      "state": {
       "description_width": ""
      }
     },
     "e68c42c4b87048b1a5b57bc25f98a176": {
      "model_module": "@jupyter-widgets/base",
      "model_module_version": "1.1.0",
      "model_name": "LayoutModel",
      "state": {}
     },
     "e6d676d0eaff47f3928fc45fed93c3c1": {
      "model_module": "@jupyter-widgets/controls",
      "model_module_version": "1.4.0",
      "model_name": "HBoxModel",
      "state": {
       "children": [
        "IPY_MODEL_05fec0667a11460d8893152b8ef4b6d5",
        "IPY_MODEL_5d8ed6efbf2e4e31ac3dd458b9ed87bf"
       ],
       "layout": "IPY_MODEL_36815253108c4200bb3a36137f9d15ca"
      }
     },
     "e797dd7af3604e479af81c406394fa1a": {
      "model_module": "@jupyter-widgets/controls",
      "model_module_version": "1.4.0",
      "model_name": "ButtonStyleModel",
      "state": {
       "button_color": "lightgreen"
      }
     },
     "e7dcb4269cd947369f099763f6b070c5": {
      "model_module": "@jupyter-widgets/base",
      "model_module_version": "1.1.0",
      "model_name": "LayoutModel",
      "state": {
       "width": "250px"
      }
     },
     "e83ee17216d2463f8f4566ce955f81a6": {
      "model_module": "@jupyter-widgets/controls",
      "model_module_version": "1.4.0",
      "model_name": "HTMLModel",
      "state": {
       "layout": "IPY_MODEL_ea4960713cc34c5199c0cc785f531568",
       "style": "IPY_MODEL_ca1d0fcfdf284bb3838522eddae89abf",
       "value": "<i>Wählen Sie die <ins>eine</ins> korrekte Antwort aus: </i>"
      }
     },
     "e846ccafd3c441baa9880400221fde3a": {
      "model_module": "@jupyter-widgets/controls",
      "model_module_version": "1.4.0",
      "model_name": "HTMLModel",
      "state": {
       "layout": "IPY_MODEL_f8f0a01d9a4442b2b14f953859f52754",
       "style": "IPY_MODEL_b16001af0971481e9ea248b380c57c77",
       "value": "<i>Wählen Sie die <ins>eine</ins> korrekte Antwort aus: </i>"
      }
     },
     "e89e2e0d50484818acb65a72f93ec927": {
      "model_module": "@jupyter-widgets/base",
      "model_module_version": "1.1.0",
      "model_name": "LayoutModel",
      "state": {}
     },
     "e8a12982f8194ca4938f4d74fa2494bc": {
      "model_module": "@jupyter-widgets/base",
      "model_module_version": "1.1.0",
      "model_name": "LayoutModel",
      "state": {
       "justify_content": "center"
      }
     },
     "e8ab3c90657b494d9770815dcf3ce51e": {
      "model_module": "@jupyter-widgets/controls",
      "model_module_version": "1.4.0",
      "model_name": "DescriptionStyleModel",
      "state": {
       "description_width": ""
      }
     },
     "ea4960713cc34c5199c0cc785f531568": {
      "model_module": "@jupyter-widgets/base",
      "model_module_version": "1.1.0",
      "model_name": "LayoutModel",
      "state": {
       "justify_content": "center"
      }
     },
     "eab026e48d2146ae808acab3ab3cdf30": {
      "model_module": "@jupyter-widgets/controls",
      "model_module_version": "1.4.0",
      "model_name": "ButtonStyleModel",
      "state": {}
     },
     "eaf6ec3ee1ae43838b336d65464f6aa2": {
      "model_module": "@jupyter-widgets/controls",
      "model_module_version": "1.4.0",
      "model_name": "DescriptionStyleModel",
      "state": {
       "description_width": ""
      }
     },
     "eb321bc643a24486bfd04221a9f2426c": {
      "model_module": "@jupyter-widgets/base",
      "model_module_version": "1.1.0",
      "model_name": "LayoutModel",
      "state": {
       "width": "250px"
      }
     },
     "ecfa117b76a545958c46307592bceeb1": {
      "model_module": "@jupyter-widgets/base",
      "model_module_version": "1.1.0",
      "model_name": "LayoutModel",
      "state": {
       "width": "250px"
      }
     },
     "edccb17676434b6482248c731d3c496b": {
      "model_module": "@jupyter-widgets/base",
      "model_module_version": "1.1.0",
      "model_name": "LayoutModel",
      "state": {
       "width": "250px"
      }
     },
     "edef0ddcedf14db48679f82e1541c2ff": {
      "model_module": "@jupyter-widgets/controls",
      "model_module_version": "1.4.0",
      "model_name": "ButtonModel",
      "state": {
       "description": "Nein",
       "layout": "IPY_MODEL_91c4223a175f4516a99396a391d71510",
       "style": "IPY_MODEL_c3a34ebef916426cb752b995dda37ec5"
      }
     },
     "eefdc1da38244386956c48bec56784b8": {
      "model_module": "@jupyter-widgets/base",
      "model_module_version": "1.1.0",
      "model_name": "LayoutModel",
      "state": {}
     },
     "efab3c4bd3f44ddd90bcb91aed7b2d6e": {
      "model_module": "@jupyter-widgets/base",
      "model_module_version": "1.1.0",
      "model_name": "LayoutModel",
      "state": {
       "justify_content": "center"
      }
     },
     "f020ab232b254f0c8280096ea992b325": {
      "model_module": "@jupyter-widgets/base",
      "model_module_version": "1.1.0",
      "model_name": "LayoutModel",
      "state": {
       "width": "250px"
      }
     },
     "f1d4c69a39bd4b3fb8e94cb28a8501b8": {
      "model_module": "@jupyter-widgets/controls",
      "model_module_version": "1.4.0",
      "model_name": "HTMLModel",
      "state": {
       "layout": "IPY_MODEL_9bd9023ef6d14d43ab586d7f7aefcd3f",
       "style": "IPY_MODEL_e8ab3c90657b494d9770815dcf3ce51e",
       "value": "<i>Wählen Sie die <ins>eine</ins> korrekte Antwort aus: </i>"
      }
     },
     "f2d928263aec461aad104644535e5a15": {
      "model_module": "@jupyter-widgets/controls",
      "model_module_version": "1.4.0",
      "model_name": "ButtonModel",
      "state": {
       "description": "Nein",
       "layout": "IPY_MODEL_b9e25e4562b04de2a6c0f72c0baf7e74",
       "style": "IPY_MODEL_ccdc36cac57047cfaf795554b31178fc"
      }
     },
     "f5ff22e05a314dccb604fc14db071397": {
      "model_module": "@jupyter-widgets/base",
      "model_module_version": "1.1.0",
      "model_name": "LayoutModel",
      "state": {
       "width": "250px"
      }
     },
     "f601d8219c034fc68533e6bd175bdade": {
      "model_module": "@jupyter-widgets/base",
      "model_module_version": "1.1.0",
      "model_name": "LayoutModel",
      "state": {
       "width": "250px"
      }
     },
     "f63bf28868da4ce1a1e871dda6c9b69f": {
      "model_module": "@jupyter-widgets/controls",
      "model_module_version": "1.4.0",
      "model_name": "VBoxModel",
      "state": {
       "children": [
        "IPY_MODEL_943558e1b06341d98cdce5af24f4c2f4",
        "IPY_MODEL_b1c583d8f0d84cb79edc60ee54762c62",
        "IPY_MODEL_2168646ce0b74dfaa24eed93d3a709c2"
       ],
       "layout": "IPY_MODEL_9172a87840a641a7af2600e8bba1a083"
      }
     },
     "f7b9b9cf1d454b82868ef72656a728ee": {
      "model_module": "@jupyter-widgets/base",
      "model_module_version": "1.1.0",
      "model_name": "LayoutModel",
      "state": {
       "width": "250px"
      }
     },
     "f8705eec84354d60a6dcfcc94022c918": {
      "model_module": "@jupyter-widgets/base",
      "model_module_version": "1.1.0",
      "model_name": "LayoutModel",
      "state": {
       "width": "250px"
      }
     },
     "f8b589e2bc62461b80ae88271deb1000": {
      "model_module": "@jupyter-widgets/base",
      "model_module_version": "1.1.0",
      "model_name": "LayoutModel",
      "state": {}
     },
     "f8f0a01d9a4442b2b14f953859f52754": {
      "model_module": "@jupyter-widgets/base",
      "model_module_version": "1.1.0",
      "model_name": "LayoutModel",
      "state": {
       "justify_content": "center"
      }
     },
     "fa552677c4554abea27280c87359bd15": {
      "model_module": "@jupyter-widgets/controls",
      "model_module_version": "1.4.0",
      "model_name": "ButtonModel",
      "state": {
       "description": "Nein",
       "layout": "IPY_MODEL_16be084ba85043d1877f563f92ccdfce",
       "style": "IPY_MODEL_d7c4b54efe4c4b4fbae83db963f0b0e2"
      }
     },
     "fb53a1e76de542e8a5d810ad0817f550": {
      "model_module": "@jupyter-widgets/controls",
      "model_module_version": "1.4.0",
      "model_name": "HTMLModel",
      "state": {
       "layout": "IPY_MODEL_7e23466f34224978bbb371c839930579",
       "style": "IPY_MODEL_2dde9f6f47b54c6e866992d9dbadeb61",
       "value": "<h4 style=\"font-size:14px;\">Unifizieren f2 und f4?</h4>"
      }
     },
     "fc41fd38de9b4bc8b0e43add52f468ab": {
      "model_module": "@jupyter-widgets/base",
      "model_module_version": "1.1.0",
      "model_name": "LayoutModel",
      "state": {}
     },
     "fed8d65e679f439491a693a1bba8d509": {
      "model_module": "@jupyter-widgets/base",
      "model_module_version": "1.1.0",
      "model_name": "LayoutModel",
      "state": {
       "justify_content": "center"
      }
     }
    },
    "version_major": 2,
    "version_minor": 0
   }
  }
 },
 "nbformat": 4,
 "nbformat_minor": 2
}
