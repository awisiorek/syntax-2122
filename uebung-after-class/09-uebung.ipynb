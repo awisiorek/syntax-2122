{
 "cells": [
  {
   "cell_type": "markdown",
   "metadata": {},
   "source": [
    "***Syntax natürlicher Sprachen, WS 2021/22***\n",
    "\n",
    "---\n",
    "# Übung 9"
   ]
  },
  {
   "cell_type": "code",
   "execution_count": 7,
   "metadata": {},
   "outputs": [],
   "source": [
    "from nltk.tree import Tree\n",
    "import nltk\n",
    "import sys"
   ]
  },
  {
   "cell_type": "markdown",
   "metadata": {},
   "source": [
    "---\n",
    "\n",
    "## Aufgabe 1: Parsing-Algorithmen\n",
    "\n",
    "#### Gegeben sei folgende kontextfreie Grammatik:"
   ]
  },
  {
   "cell_type": "code",
   "execution_count": 14,
   "metadata": {},
   "outputs": [],
   "source": [
    "grammar = nltk.CFG.fromstring(\"\"\"\n",
    "S -> NP VP\n",
    "\n",
    "NP  -> DET NOM\n",
    "NOM -> ADJ NOM | N\n",
    "\n",
    "ADJ -> \"schöne\" | \"kluge\" | \"dicke\"\n",
    "DET -> \"der\" | \"die\" | \"das\"\n",
    "N   -> \"Mann\" | \"Frau\" | \"Buch\"\n",
    "\n",
    "VP -> V NP NP | V NP | V\n",
    "V  -> \"gibt\" | \"schenkt\" | \"schläft\" | \"gefällt\" | \"kennt\"\n",
    "\"\"\"\n",
    ")"
   ]
  },
  {
   "cell_type": "markdown",
   "metadata": {},
   "source": [
    "#### Parsen Sie jeweils alle unten angegebenen Sätze mit jedem der folgenden Parsing-Algorithmen. Bei der Auswahl von Regeln soll immer von oben nach unten und (bei Alternativen) von links nach rechts vorgegangen werden.\n",
    "\n",
    "a) Recursive Descent <br>\n",
    "b) Shift Reduce <br>\n",
    "c) Earley Algorithmus <br>\n",
    "\n",
    "    1. Der Mann gibt der Frau das Buch.\n",
    "    2. Die kluge Frau kennt das dicke Buch.\n",
    "    3. Der Mann schläft."
   ]
  },
  {
   "cell_type": "code",
   "execution_count": 15,
   "metadata": {
    "scrolled": false
   },
   "outputs": [
    {
     "name": "stdout",
     "output_type": "stream",
     "text": [
      "|. die .kluge. Frau.kennt. das .dicke. Buch.|\n",
      "Leaf Init Rule:\n",
      "|[-----]     .     .     .     .     .     .| [0:1] 'die'\n",
      "|.     [-----]     .     .     .     .     .| [1:2] 'kluge'\n",
      "|.     .     [-----]     .     .     .     .| [2:3] 'Frau'\n",
      "|.     .     .     [-----]     .     .     .| [3:4] 'kennt'\n",
      "|.     .     .     .     [-----]     .     .| [4:5] 'das'\n",
      "|.     .     .     .     .     [-----]     .| [5:6] 'dicke'\n",
      "|.     .     .     .     .     .     [-----]| [6:7] 'Buch'\n",
      "Top Down Init Rule:\n",
      "|>     .     .     .     .     .     .     .| [0:0] S  -> * NP VP\n",
      "\n",
      "* Processing queue: 0 \n",
      "\n",
      "Predictor Rule:\n",
      "|>     .     .     .     .     .     .     .| [0:0] NP -> * DET NOM\n",
      "Predictor Rule:\n",
      "|>     .     .     .     .     .     .     .| [0:0] DET -> * 'die'\n",
      "\n",
      "* Processing queue: 1 \n",
      "\n",
      "Scanner Rule:\n",
      "|[-----]     .     .     .     .     .     .| [0:1] DET -> 'die' *\n",
      "Completer Rule:\n",
      "|[----->     .     .     .     .     .     .| [0:1] NP -> DET * NOM\n",
      "Predictor Rule:\n",
      "|.     >     .     .     .     .     .     .| [1:1] NOM -> * ADJ NOM\n",
      "|.     >     .     .     .     .     .     .| [1:1] NOM -> * N\n",
      "Predictor Rule:\n",
      "|.     >     .     .     .     .     .     .| [1:1] ADJ -> * 'kluge'\n",
      "\n",
      "* Processing queue: 2 \n",
      "\n",
      "Scanner Rule:\n",
      "|.     [-----]     .     .     .     .     .| [1:2] ADJ -> 'kluge' *\n",
      "Completer Rule:\n",
      "|.     [----->     .     .     .     .     .| [1:2] NOM -> ADJ * NOM\n",
      "Predictor Rule:\n",
      "|.     .     >     .     .     .     .     .| [2:2] NOM -> * ADJ NOM\n",
      "|.     .     >     .     .     .     .     .| [2:2] NOM -> * N\n",
      "Predictor Rule:\n",
      "|.     .     >     .     .     .     .     .| [2:2] N  -> * 'Frau'\n",
      "\n",
      "* Processing queue: 3 \n",
      "\n",
      "Scanner Rule:\n",
      "|.     .     [-----]     .     .     .     .| [2:3] N  -> 'Frau' *\n",
      "Completer Rule:\n",
      "|.     .     [-----]     .     .     .     .| [2:3] NOM -> N *\n",
      "Completer Rule:\n",
      "|.     [-----------]     .     .     .     .| [1:3] NOM -> ADJ NOM *\n",
      "Completer Rule:\n",
      "|[-----------------]     .     .     .     .| [0:3] NP -> DET NOM *\n",
      "Completer Rule:\n",
      "|[----------------->     .     .     .     .| [0:3] S  -> NP * VP\n",
      "Predictor Rule:\n",
      "|.     .     .     >     .     .     .     .| [3:3] VP -> * V NP NP\n",
      "|.     .     .     >     .     .     .     .| [3:3] VP -> * V NP\n",
      "|.     .     .     >     .     .     .     .| [3:3] VP -> * V\n",
      "Predictor Rule:\n",
      "|.     .     .     >     .     .     .     .| [3:3] V  -> * 'kennt'\n",
      "\n",
      "* Processing queue: 4 \n",
      "\n",
      "Scanner Rule:\n",
      "|.     .     .     [-----]     .     .     .| [3:4] V  -> 'kennt' *\n",
      "Completer Rule:\n",
      "|.     .     .     [----->     .     .     .| [3:4] VP -> V * NP NP\n",
      "|.     .     .     [----->     .     .     .| [3:4] VP -> V * NP\n",
      "|.     .     .     [-----]     .     .     .| [3:4] VP -> V *\n",
      "Completer Rule:\n",
      "|[-----------------------]     .     .     .| [0:4] S  -> NP VP *\n",
      "Predictor Rule:\n",
      "|.     .     .     .     >     .     .     .| [4:4] NP -> * DET NOM\n",
      "Predictor Rule:\n",
      "|.     .     .     .     >     .     .     .| [4:4] DET -> * 'das'\n",
      "\n",
      "* Processing queue: 5 \n",
      "\n",
      "Scanner Rule:\n",
      "|.     .     .     .     [-----]     .     .| [4:5] DET -> 'das' *\n",
      "Completer Rule:\n",
      "|.     .     .     .     [----->     .     .| [4:5] NP -> DET * NOM\n",
      "Predictor Rule:\n",
      "|.     .     .     .     .     >     .     .| [5:5] NOM -> * ADJ NOM\n",
      "|.     .     .     .     .     >     .     .| [5:5] NOM -> * N\n",
      "Predictor Rule:\n",
      "|.     .     .     .     .     >     .     .| [5:5] ADJ -> * 'dicke'\n",
      "\n",
      "* Processing queue: 6 \n",
      "\n",
      "Scanner Rule:\n",
      "|.     .     .     .     .     [-----]     .| [5:6] ADJ -> 'dicke' *\n",
      "Completer Rule:\n",
      "|.     .     .     .     .     [----->     .| [5:6] NOM -> ADJ * NOM\n",
      "Predictor Rule:\n",
      "|.     .     .     .     .     .     >     .| [6:6] NOM -> * ADJ NOM\n",
      "|.     .     .     .     .     .     >     .| [6:6] NOM -> * N\n",
      "Predictor Rule:\n",
      "|.     .     .     .     .     .     >     .| [6:6] N  -> * 'Buch'\n",
      "\n",
      "* Processing queue: 7 \n",
      "\n",
      "Scanner Rule:\n",
      "|.     .     .     .     .     .     [-----]| [6:7] N  -> 'Buch' *\n",
      "Completer Rule:\n",
      "|.     .     .     .     .     .     [-----]| [6:7] NOM -> N *\n",
      "Completer Rule:\n",
      "|.     .     .     .     .     [-----------]| [5:7] NOM -> ADJ NOM *\n",
      "Completer Rule:\n",
      "|.     .     .     .     [-----------------]| [4:7] NP -> DET NOM *\n",
      "Completer Rule:\n",
      "|.     .     .     [----------------------->| [3:7] VP -> V NP * NP\n",
      "|.     .     .     [-----------------------]| [3:7] VP -> V NP *\n",
      "Completer Rule:\n",
      "|[=========================================]| [0:7] S  -> NP VP *\n",
      "Predictor Rule:\n",
      "|.     .     .     .     .     .     .     >| [7:7] NP -> * DET NOM\n",
      "                     S                         \n",
      "      ┌──────────────┴────────┐                 \n",
      "      │                       VP               \n",
      "      │              ┌────────┴────┐            \n",
      "      NP             │             NP          \n",
      " ┌────┴────┐         │    ┌────────┴────┐       \n",
      " │        NOM        │    │            NOM     \n",
      " │    ┌────┴───┐     │    │        ┌────┴───┐   \n",
      " │    │       NOM    │    │        │       NOM \n",
      " │    │        │     │    │        │        │   \n",
      "DET  ADJ       N     V   DET      ADJ       N  \n",
      " │    │        │     │    │        │        │   \n",
      "die kluge     Frau kennt das     dicke     Buch\n",
      "\n"
     ]
    }
   ],
   "source": [
    "from nltk.tree import Tree\n",
    "rd_parser = nltk.EarleyChartParser(grammar, trace=2)\n",
    "sent = 'die kluge Frau kennt das dicke Buch'.split()\n",
    "for tree in rd_parser.parse(sent):\n",
    "    tree.pretty_print(unicodelines=True)"
   ]
  },
  {
   "cell_type": "code",
   "execution_count": 16,
   "metadata": {
    "scrolled": false
   },
   "outputs": [
    {
     "name": "stdout",
     "output_type": "stream",
     "text": [
      "Parsing 'die kluge Frau kennt das dicke Buch'\n",
      "Start:\n",
      "    [ * S ]\n",
      "Expand: S -> NP VP\n",
      "    [ * NP VP ]\n",
      "Expand: NP -> DET NOM\n",
      "    [ * DET NOM VP ]\n",
      "Expand: DET -> 'der'\n",
      "    [ * 'der' NOM VP ]\n",
      "Backtrack: 'die' match failed\n",
      "Expand: DET -> 'die'\n",
      "    [ * 'die' NOM VP ]\n",
      "Match: 'die'\n",
      "    [ 'die' * NOM VP ]\n",
      "Expand: NOM -> ADJ NOM\n",
      "    [ 'die' * ADJ NOM VP ]\n",
      "Expand: ADJ -> 'schöne'\n",
      "    [ 'die' * 'schöne' NOM VP ]\n",
      "Backtrack: 'kluge' match failed\n",
      "Expand: ADJ -> 'kluge'\n",
      "    [ 'die' * 'kluge' NOM VP ]\n",
      "Match: 'kluge'\n",
      "    [ 'die' 'kluge' * NOM VP ]\n",
      "Expand: NOM -> ADJ NOM\n",
      "    [ 'die' 'kluge' * ADJ NOM VP ]\n",
      "Expand: ADJ -> 'schöne'\n",
      "    [ 'die' 'kluge' * 'schöne' NOM VP ]\n",
      "Backtrack: 'Frau' match failed\n",
      "Expand: ADJ -> 'kluge'\n",
      "    [ 'die' 'kluge' * 'kluge' NOM VP ]\n",
      "Backtrack: 'Frau' match failed\n",
      "Expand: ADJ -> 'dicke'\n",
      "    [ 'die' 'kluge' * 'dicke' NOM VP ]\n",
      "Backtrack: 'Frau' match failed\n",
      "Expand: NOM -> N\n",
      "    [ 'die' 'kluge' * N VP ]\n",
      "Expand: N -> 'Mann'\n",
      "    [ 'die' 'kluge' * 'Mann' VP ]\n",
      "Backtrack: 'Frau' match failed\n",
      "Expand: N -> 'Frau'\n",
      "    [ 'die' 'kluge' * 'Frau' VP ]\n",
      "Match: 'Frau'\n",
      "    [ 'die' 'kluge' 'Frau' * VP ]\n",
      "Expand: VP -> V NP NP\n",
      "    [ 'die' 'kluge' 'Frau' * V NP NP ]\n",
      "Expand: V -> 'gibt'\n",
      "    [ 'die' 'kluge' 'Frau' * 'gibt' NP NP ]\n",
      "Backtrack: 'kennt' match failed\n",
      "Expand: V -> 'schenkt'\n",
      "    [ 'die' 'kluge' 'Frau' * 'schenkt' NP NP ]\n",
      "Backtrack: 'kennt' match failed\n",
      "Expand: V -> 'schläft'\n",
      "    [ 'die' 'kluge' 'Frau' * 'schläft' NP NP ]\n",
      "Backtrack: 'kennt' match failed\n",
      "Expand: V -> 'gefällt'\n",
      "    [ 'die' 'kluge' 'Frau' * 'gefällt' NP NP ]\n",
      "Backtrack: 'kennt' match failed\n",
      "Expand: V -> 'kennt'\n",
      "    [ 'die' 'kluge' 'Frau' * 'kennt' NP NP ]\n",
      "Match: 'kennt'\n",
      "    [ 'die' 'kluge' 'Frau' 'kennt' * NP NP ]\n",
      "Expand: NP -> DET NOM\n",
      "    [ 'die' 'kluge' 'Frau' 'kennt' * DET NOM NP ]\n",
      "Expand: DET -> 'der'\n",
      "    [ 'die' 'kluge' 'Frau' 'kennt' * 'der' NOM NP ]\n",
      "Backtrack: 'das' match failed\n",
      "Expand: DET -> 'die'\n",
      "    [ 'die' 'kluge' 'Frau' 'kennt' * 'die' NOM NP ]\n",
      "Backtrack: 'das' match failed\n",
      "Expand: DET -> 'das'\n",
      "    [ 'die' 'kluge' 'Frau' 'kennt' * 'das' NOM NP ]\n",
      "Match: 'das'\n",
      "    [ 'die' 'kluge' 'Frau' 'kennt' 'das' * NOM NP ]\n",
      "Expand: NOM -> ADJ NOM\n",
      "    [ 'die' 'kluge' 'Frau' 'kennt' 'das' * ADJ NOM NP ]\n",
      "Expand: ADJ -> 'schöne'\n",
      "    [ 'die' 'kluge' 'Frau' 'kennt' 'das' * 'schöne' NOM NP ]\n",
      "Backtrack: 'dicke' match failed\n",
      "Expand: ADJ -> 'kluge'\n",
      "    [ 'die' 'kluge' 'Frau' 'kennt' 'das' * 'kluge' NOM NP ]\n",
      "Backtrack: 'dicke' match failed\n",
      "Expand: ADJ -> 'dicke'\n",
      "    [ 'die' 'kluge' 'Frau' 'kennt' 'das' * 'dicke' NOM NP ]\n",
      "Match: 'dicke'\n",
      "    [ 'die' 'kluge' 'Frau' 'kennt' 'das' 'dicke' * NOM NP ]\n",
      "Expand: NOM -> ADJ NOM\n",
      "    [ 'die' 'kluge' 'Frau' 'kennt' 'das' 'dicke' * ADJ NOM NP ]\n",
      "Expand: ADJ -> 'schöne'\n",
      "    [ 'die' 'kluge' 'Frau' 'kennt' 'das' 'dicke' * 'schöne' NOM NP ]\n",
      "Backtrack: 'Buch' match failed\n",
      "Expand: ADJ -> 'kluge'\n",
      "    [ 'die' 'kluge' 'Frau' 'kennt' 'das' 'dicke' * 'kluge' NOM NP ]\n",
      "Backtrack: 'Buch' match failed\n",
      "Expand: ADJ -> 'dicke'\n",
      "    [ 'die' 'kluge' 'Frau' 'kennt' 'das' 'dicke' * 'dicke' NOM NP ]\n",
      "Backtrack: 'Buch' match failed\n",
      "Expand: NOM -> N\n",
      "    [ 'die' 'kluge' 'Frau' 'kennt' 'das' 'dicke' * N NP ]\n",
      "Expand: N -> 'Mann'\n",
      "    [ 'die' 'kluge' 'Frau' 'kennt' 'das' 'dicke' * 'Mann' NP ]\n",
      "Backtrack: 'Buch' match failed\n",
      "Expand: N -> 'Frau'\n",
      "    [ 'die' 'kluge' 'Frau' 'kennt' 'das' 'dicke' * 'Frau' NP ]\n",
      "Backtrack: 'Buch' match failed\n",
      "Expand: N -> 'Buch'\n",
      "    [ 'die' 'kluge' 'Frau' 'kennt' 'das' 'dicke' * 'Buch' NP ]\n",
      "Match: 'Buch'\n",
      "    [ 'die' 'kluge' 'Frau' 'kennt' 'das' 'dicke' 'Buch' * NP ]\n",
      "Expand: NP -> DET NOM\n",
      "    [ 'die' 'kluge' 'Frau' 'kennt' 'das' 'dicke' 'Buch' * DET NOM ]\n",
      "Expand: DET -> 'der'\n",
      "    [ 'die' 'kluge' 'Frau' 'kennt' 'das' 'dicke' 'Buch' * 'der' NOM ]\n",
      "Backtrack\n",
      "Expand: DET -> 'die'\n",
      "    [ 'die' 'kluge' 'Frau' 'kennt' 'das' 'dicke' 'Buch' * 'die' NOM ]\n",
      "Backtrack\n",
      "Expand: DET -> 'das'\n",
      "    [ 'die' 'kluge' 'Frau' 'kennt' 'das' 'dicke' 'Buch' * 'das' NOM ]\n",
      "Backtrack\n",
      "Expand: NOM -> N\n",
      "    [ 'die' 'kluge' 'Frau' 'kennt' 'das' * N NP ]\n",
      "Expand: N -> 'Mann'\n",
      "    [ 'die' 'kluge' 'Frau' 'kennt' 'das' * 'Mann' NP ]\n",
      "Backtrack: 'dicke' match failed\n",
      "Expand: N -> 'Frau'\n",
      "    [ 'die' 'kluge' 'Frau' 'kennt' 'das' * 'Frau' NP ]\n",
      "Backtrack: 'dicke' match failed\n",
      "Expand: N -> 'Buch'\n",
      "    [ 'die' 'kluge' 'Frau' 'kennt' 'das' * 'Buch' NP ]\n",
      "Backtrack: 'dicke' match failed\n",
      "Expand: VP -> V NP\n",
      "    [ 'die' 'kluge' 'Frau' * V NP ]\n",
      "Expand: V -> 'gibt'\n",
      "    [ 'die' 'kluge' 'Frau' * 'gibt' NP ]\n",
      "Backtrack: 'kennt' match failed\n",
      "Expand: V -> 'schenkt'\n",
      "    [ 'die' 'kluge' 'Frau' * 'schenkt' NP ]\n",
      "Backtrack: 'kennt' match failed\n",
      "Expand: V -> 'schläft'\n",
      "    [ 'die' 'kluge' 'Frau' * 'schläft' NP ]\n",
      "Backtrack: 'kennt' match failed\n",
      "Expand: V -> 'gefällt'\n",
      "    [ 'die' 'kluge' 'Frau' * 'gefällt' NP ]\n",
      "Backtrack: 'kennt' match failed\n",
      "Expand: V -> 'kennt'\n",
      "    [ 'die' 'kluge' 'Frau' * 'kennt' NP ]\n",
      "Match: 'kennt'\n",
      "    [ 'die' 'kluge' 'Frau' 'kennt' * NP ]\n",
      "Expand: NP -> DET NOM\n",
      "    [ 'die' 'kluge' 'Frau' 'kennt' * DET NOM ]\n",
      "Expand: DET -> 'der'\n",
      "    [ 'die' 'kluge' 'Frau' 'kennt' * 'der' NOM ]\n",
      "Backtrack: 'das' match failed\n",
      "Expand: DET -> 'die'\n",
      "    [ 'die' 'kluge' 'Frau' 'kennt' * 'die' NOM ]\n",
      "Backtrack: 'das' match failed\n",
      "Expand: DET -> 'das'\n",
      "    [ 'die' 'kluge' 'Frau' 'kennt' * 'das' NOM ]\n",
      "Match: 'das'\n",
      "    [ 'die' 'kluge' 'Frau' 'kennt' 'das' * NOM ]\n",
      "Expand: NOM -> ADJ NOM\n",
      "    [ 'die' 'kluge' 'Frau' 'kennt' 'das' * ADJ NOM ]\n",
      "Expand: ADJ -> 'schöne'\n",
      "    [ 'die' 'kluge' 'Frau' 'kennt' 'das' * 'schöne' NOM ]\n",
      "Backtrack: 'dicke' match failed\n",
      "Expand: ADJ -> 'kluge'\n",
      "    [ 'die' 'kluge' 'Frau' 'kennt' 'das' * 'kluge' NOM ]\n",
      "Backtrack: 'dicke' match failed\n",
      "Expand: ADJ -> 'dicke'\n",
      "    [ 'die' 'kluge' 'Frau' 'kennt' 'das' * 'dicke' NOM ]\n",
      "Match: 'dicke'\n",
      "    [ 'die' 'kluge' 'Frau' 'kennt' 'das' 'dicke' * NOM ]\n",
      "Expand: NOM -> ADJ NOM\n",
      "    [ 'die' 'kluge' 'Frau' 'kennt' 'das' 'dicke' * ADJ NOM ]\n",
      "Expand: ADJ -> 'schöne'\n",
      "    [ 'die' 'kluge' 'Frau' 'kennt' 'das' 'dicke' * 'schöne' NOM ]\n",
      "Backtrack: 'Buch' match failed\n",
      "Expand: ADJ -> 'kluge'\n",
      "    [ 'die' 'kluge' 'Frau' 'kennt' 'das' 'dicke' * 'kluge' NOM ]\n",
      "Backtrack: 'Buch' match failed\n",
      "Expand: ADJ -> 'dicke'\n",
      "    [ 'die' 'kluge' 'Frau' 'kennt' 'das' 'dicke' * 'dicke' NOM ]\n",
      "Backtrack: 'Buch' match failed\n",
      "Expand: NOM -> N\n",
      "    [ 'die' 'kluge' 'Frau' 'kennt' 'das' 'dicke' * N ]\n",
      "Expand: N -> 'Mann'\n",
      "    [ 'die' 'kluge' 'Frau' 'kennt' 'das' 'dicke' * 'Mann' ]\n",
      "Backtrack: 'Buch' match failed\n",
      "Expand: N -> 'Frau'\n",
      "    [ 'die' 'kluge' 'Frau' 'kennt' 'das' 'dicke' * 'Frau' ]\n",
      "Backtrack: 'Buch' match failed\n",
      "Expand: N -> 'Buch'\n",
      "    [ 'die' 'kluge' 'Frau' 'kennt' 'das' 'dicke' * 'Buch' ]\n",
      "Match: 'Buch'\n",
      "    [ 'die' 'kluge' 'Frau' 'kennt' 'das' 'dicke' 'Buch' ]\n",
      "GOOD PARSE:\n",
      "    [ 'die' 'kluge' 'Frau' 'kennt' 'das' 'dicke' 'Buch' ]\n",
      "                     S                         \n",
      "      ┌──────────────┴────────┐                 \n",
      "      │                       VP               \n",
      "      │              ┌────────┴────┐            \n",
      "      NP             │             NP          \n",
      " ┌────┴────┐         │    ┌────────┴────┐       \n",
      " │        NOM        │    │            NOM     \n",
      " │    ┌────┴───┐     │    │        ┌────┴───┐   \n",
      " │    │       NOM    │    │        │       NOM \n",
      " │    │        │     │    │        │        │   \n",
      "DET  ADJ       N     V   DET      ADJ       N  \n",
      " │    │        │     │    │        │        │   \n",
      "die kluge     Frau kennt das     dicke     Buch\n",
      "\n",
      "Expand: NOM -> N\n",
      "    [ 'die' 'kluge' 'Frau' 'kennt' 'das' * N ]\n",
      "Expand: N -> 'Mann'\n",
      "    [ 'die' 'kluge' 'Frau' 'kennt' 'das' * 'Mann' ]\n",
      "Backtrack: 'dicke' match failed\n",
      "Expand: N -> 'Frau'\n",
      "    [ 'die' 'kluge' 'Frau' 'kennt' 'das' * 'Frau' ]\n",
      "Backtrack: 'dicke' match failed\n",
      "Expand: N -> 'Buch'\n",
      "    [ 'die' 'kluge' 'Frau' 'kennt' 'das' * 'Buch' ]\n",
      "Backtrack: 'dicke' match failed\n",
      "Expand: VP -> V\n",
      "    [ 'die' 'kluge' 'Frau' * V ]\n",
      "Expand: V -> 'gibt'\n",
      "    [ 'die' 'kluge' 'Frau' * 'gibt' ]\n",
      "Backtrack: 'kennt' match failed\n",
      "Expand: V -> 'schenkt'\n",
      "    [ 'die' 'kluge' 'Frau' * 'schenkt' ]\n",
      "Backtrack: 'kennt' match failed\n",
      "Expand: V -> 'schläft'\n",
      "    [ 'die' 'kluge' 'Frau' * 'schläft' ]\n",
      "Backtrack: 'kennt' match failed\n",
      "Expand: V -> 'gefällt'\n",
      "    [ 'die' 'kluge' 'Frau' * 'gefällt' ]\n",
      "Backtrack: 'kennt' match failed\n",
      "Expand: V -> 'kennt'\n",
      "    [ 'die' 'kluge' 'Frau' * 'kennt' ]\n",
      "Match: 'kennt'\n",
      "    [ 'die' 'kluge' 'Frau' 'kennt' ]\n",
      "Backtrack\n",
      "Expand: N -> 'Buch'\n",
      "    [ 'die' 'kluge' * 'Buch' VP ]\n",
      "Backtrack: 'Frau' match failed\n",
      "Expand: ADJ -> 'dicke'\n",
      "    [ 'die' * 'dicke' NOM VP ]\n",
      "Backtrack: 'kluge' match failed\n",
      "Expand: NOM -> N\n",
      "    [ 'die' * N VP ]\n",
      "Expand: N -> 'Mann'\n",
      "    [ 'die' * 'Mann' VP ]\n",
      "Backtrack: 'kluge' match failed\n",
      "Expand: N -> 'Frau'\n",
      "    [ 'die' * 'Frau' VP ]\n",
      "Backtrack: 'kluge' match failed\n",
      "Expand: N -> 'Buch'\n",
      "    [ 'die' * 'Buch' VP ]\n",
      "Backtrack: 'kluge' match failed\n",
      "Expand: DET -> 'das'\n",
      "    [ * 'das' NOM VP ]\n",
      "Backtrack: 'die' match failed\n"
     ]
    }
   ],
   "source": [
    "from nltk.tree import Tree\n",
    "rd_parser = nltk.RecursiveDescentParser(grammar, trace=3)\n",
    "sent = 'die kluge Frau kennt das dicke Buch'.split()\n",
    "for tree in rd_parser.parse(sent):\n",
    "    tree.pretty_print(unicodelines=True)"
   ]
  },
  {
   "cell_type": "code",
   "execution_count": 18,
   "metadata": {},
   "outputs": [
    {
     "name": "stdout",
     "output_type": "stream",
     "text": [
      "Warning: VP -> V NP NP will never be used\n",
      "Warning: VP -> V NP NP will never be used\n",
      "Warning: VP -> V NP will never be used\n",
      "Parsing 'die kluge Frau kennt das dicke Buch'\n",
      "    [ * die kluge Frau kennt das dicke Buch]\n",
      "  S [ 'die' * kluge Frau kennt das dicke Buch]\n",
      "  R [ DET * kluge Frau kennt das dicke Buch]\n",
      "  S [ DET 'kluge' * Frau kennt das dicke Buch]\n",
      "  R [ DET ADJ * Frau kennt das dicke Buch]\n",
      "  S [ DET ADJ 'Frau' * kennt das dicke Buch]\n",
      "  R [ DET ADJ N * kennt das dicke Buch]\n",
      "  R [ DET ADJ NOM * kennt das dicke Buch]\n",
      "  R [ DET NOM * kennt das dicke Buch]\n",
      "  R [ NP * kennt das dicke Buch]\n",
      "  S [ NP 'kennt' * das dicke Buch]\n",
      "  R [ NP V * das dicke Buch]\n",
      "  R [ NP VP * das dicke Buch]\n",
      "  R [ S * das dicke Buch]\n",
      "  S [ S 'das' * dicke Buch]\n",
      "  R [ S DET * dicke Buch]\n",
      "  S [ S DET 'dicke' * Buch]\n",
      "  R [ S DET ADJ * Buch]\n",
      "  S [ S DET ADJ 'Buch' * ]\n",
      "  R [ S DET ADJ N * ]\n",
      "  R [ S DET ADJ NOM * ]\n",
      "  R [ S DET NOM * ]\n",
      "  R [ S NP * ]\n"
     ]
    }
   ],
   "source": [
    "from nltk.tree import Tree\n",
    "rd_parser = nltk.ShiftReduceParser(grammar, trace=2)\n",
    "sent = 'die kluge Frau kennt das dicke Buch'.split()\n",
    "for tree in rd_parser.parse(sent):\n",
    "    tree.pretty_print(unicodelines=True)"
   ]
  },
  {
   "cell_type": "markdown",
   "metadata": {},
   "source": [
    "Hier können Sie Ihre Lösung festhalten."
   ]
  },
  {
   "cell_type": "markdown",
   "metadata": {},
   "source": [
    "--- \n",
    "# Hausaufgaben"
   ]
  },
  {
   "cell_type": "markdown",
   "metadata": {},
   "source": [
    "---\n",
    "## Aufgabe 3: Parsing-Algorithmen Reloaded\n",
    "\n",
    "#### Kombinationen von Algorithmus und Satz in Aufgabe 1, die während der Präsenzaufgaben nicht behandelt wurden, stellen zusätzliches Übungsmaterial dar.\n"
   ]
  }
 ],
 "metadata": {
  "kernelspec": {
   "display_name": "Python 3 (ipykernel)",
   "language": "python",
   "name": "python3"
  },
  "language_info": {
   "codemirror_mode": {
    "name": "ipython",
    "version": 3
   },
   "file_extension": ".py",
   "mimetype": "text/x-python",
   "name": "python",
   "nbconvert_exporter": "python",
   "pygments_lexer": "ipython3",
   "version": "3.9.7"
  },
  "widgets": {
   "application/vnd.jupyter.widget-state+json": {
    "state": {
     "007384f6e4ce497bbb10eca3843a1e18": {
      "model_module": "@jupyter-widgets/controls",
      "model_module_version": "1.4.0",
      "model_name": "VBoxModel",
      "state": {
       "children": [
        "IPY_MODEL_bf1eb27ce5344520bf764e99bacb8f8c",
        "IPY_MODEL_792df644b23249a8aab58b663da0c3cf",
        "IPY_MODEL_0d479f37fd994d9287b0e40d82aa1d9f",
        "IPY_MODEL_bfa39c509d1b4a35afbf6f876c25f856",
        "IPY_MODEL_9ab128db54504976b77ec1339a216da9"
       ],
       "layout": "IPY_MODEL_1399eafbac6c480790206c9d974c61c5"
      }
     },
     "0181c6ef302f40139df69d06f93be25c": {
      "model_module": "@jupyter-widgets/controls",
      "model_module_version": "1.4.0",
      "model_name": "HBoxModel",
      "state": {
       "children": [
        "IPY_MODEL_cb37cfb93d854f4392c129098aa88fa4",
        "IPY_MODEL_aed46a3762d8481285cc830f2ad86d79"
       ],
       "layout": "IPY_MODEL_620e0bf14b5a41f49f263b6ec80f5161"
      }
     },
     "018bebb711b047aa8f59f2896df6149b": {
      "model_module": "@jupyter-widgets/controls",
      "model_module_version": "1.4.0",
      "model_name": "DescriptionStyleModel",
      "state": {
       "description_width": "initial"
      }
     },
     "028c3b089db744cba3053c571264ed85": {
      "model_module": "@jupyter-widgets/base",
      "model_module_version": "1.1.0",
      "model_name": "LayoutModel",
      "state": {
       "width": "250px"
      }
     },
     "0544ab4181fd406bbe89d66eae9b9366": {
      "model_module": "@jupyter-widgets/controls",
      "model_module_version": "1.4.0",
      "model_name": "ButtonModel",
      "state": {
       "description": "Complete",
       "layout": "IPY_MODEL_5870a4b7d2f34f478766ef3e863cfded",
       "style": "IPY_MODEL_200794e2b0c24db19a265694124e4136"
      }
     },
     "055cf8c9ca26435cbebf954e89b54364": {
      "model_module": "@jupyter-widgets/controls",
      "model_module_version": "1.4.0",
      "model_name": "HTMLModel",
      "state": {
       "layout": "IPY_MODEL_eec029dbbdaf42809960c5b34eb4759b",
       "style": "IPY_MODEL_1e4de0021c49455f8f86bcb06c577746",
       "value": "<i>Wählen Sie die <ins>eine</ins> korrekte Antwort aus: </i>"
      }
     },
     "05a48eeed9134f66a7a714040307058e": {
      "model_module": "@jupyter-widgets/controls",
      "model_module_version": "1.4.0",
      "model_name": "HTMLModel",
      "state": {
       "layout": "IPY_MODEL_61892670bf034fc5b04c0f7ed32b949b",
       "style": "IPY_MODEL_d479714b9dda4432972008bbf4b0e7af",
       "value": "<i>Wählen Sie die <ins>eine</ins> korrekte Antwort aus: </i>"
      }
     },
     "06bc9d415291428a958845ddc1422265": {
      "model_module": "@jupyter-widgets/base",
      "model_module_version": "1.1.0",
      "model_name": "LayoutModel",
      "state": {
       "width": "250px"
      }
     },
     "06c0a3f5d98e4e5e94dd274b14001352": {
      "model_module": "@jupyter-widgets/controls",
      "model_module_version": "1.4.0",
      "model_name": "ButtonModel",
      "state": {
       "description": "Shift",
       "layout": "IPY_MODEL_9439ccabc63c4977ba1b6405915f60e7",
       "style": "IPY_MODEL_0ad130a08480468f80cdc2f3a0812a37"
      }
     },
     "072ebed4bc8b45a9a75894c3b0e12cc0": {
      "model_module": "@jupyter-widgets/controls",
      "model_module_version": "1.4.0",
      "model_name": "ButtonModel",
      "state": {
       "description": "Complete",
       "layout": "IPY_MODEL_7e91c0cd3ab643d0bb4b4b79664f9cdb",
       "style": "IPY_MODEL_3c16960648144005936f228474de44a2"
      }
     },
     "07bb6fc0e68d47ffab38e0f6500f26ee": {
      "model_module": "@jupyter-widgets/controls",
      "model_module_version": "1.4.0",
      "model_name": "HTMLModel",
      "state": {
       "layout": "IPY_MODEL_22ba5cede46d4b1bb8661719d5b6dd2e",
       "style": "IPY_MODEL_de67b15b9d3d456da21bf0dd0926a35e",
       "value": "<h4 style=\"font-size:14px;\">Welche Operation folgt als nächstes?</h4>"
      }
     },
     "07c45d8365864b87bb88e307633eef76": {
      "model_module": "@jupyter-widgets/controls",
      "model_module_version": "1.4.0",
      "model_name": "HTMLModel",
      "state": {
       "layout": "IPY_MODEL_39e72d2ff0c14c26bd7e09c2ff66d96d",
       "style": "IPY_MODEL_436a667bda644f12a2191244db432275",
       "value": "<i>Wählen Sie die <ins>eine</ins> korrekte Antwort aus: </i>"
      }
     },
     "081100818416450f854c2ce96f1dff97": {
      "model_module": "@jupyter-widgets/controls",
      "model_module_version": "1.4.0",
      "model_name": "ButtonModel",
      "state": {
       "description": "Scan",
       "layout": "IPY_MODEL_a697ae4feffa4c46bbde2468135e06ec",
       "style": "IPY_MODEL_b6035766694a41f1aa838aec6737e0dd"
      }
     },
     "083079dc019d4a668e2c0a87a8dc4396": {
      "model_module": "@jupyter-widgets/controls",
      "model_module_version": "1.4.0",
      "model_name": "ButtonModel",
      "state": {
       "description": "Shift",
       "layout": "IPY_MODEL_d232c3e5220142158cb51bc2ea42c27a",
       "style": "IPY_MODEL_c01b3d6b9827413eb70de799f4e51261"
      }
     },
     "088e3649dfdd4a9092470243dbb38d37": {
      "model_module": "@jupyter-widgets/base",
      "model_module_version": "1.1.0",
      "model_name": "LayoutModel",
      "state": {
       "justify_content": "center"
      }
     },
     "09564e8ef68d428fb2f92d23bd248ffa": {
      "model_module": "@jupyter-widgets/base",
      "model_module_version": "1.1.0",
      "model_name": "LayoutModel",
      "state": {
       "justify_content": "center"
      }
     },
     "0a7b8003476c4cbf9010dcf5e7cf09f3": {
      "model_module": "@jupyter-widgets/controls",
      "model_module_version": "1.4.0",
      "model_name": "HBoxModel",
      "state": {
       "children": [
        "IPY_MODEL_79384f716724440aac586d1416169ee4",
        "IPY_MODEL_11c9c987c5604bb19c2f858498380301"
       ],
       "layout": "IPY_MODEL_6227453a2fcf4020b11a82b31235f72e"
      }
     },
     "0ad130a08480468f80cdc2f3a0812a37": {
      "model_module": "@jupyter-widgets/controls",
      "model_module_version": "1.4.0",
      "model_name": "ButtonStyleModel",
      "state": {}
     },
     "0b1a17be93cd4084afc1f55a2fa3b626": {
      "model_module": "@jupyter-widgets/base",
      "model_module_version": "1.1.0",
      "model_name": "LayoutModel",
      "state": {
       "width": "250px"
      }
     },
     "0b2b38b72acb4a89929803b303ef8865": {
      "model_module": "@jupyter-widgets/controls",
      "model_module_version": "1.4.0",
      "model_name": "ButtonStyleModel",
      "state": {}
     },
     "0b5cd9a36f6445d39ac72a088189c88b": {
      "model_module": "@jupyter-widgets/base",
      "model_module_version": "1.1.0",
      "model_name": "LayoutModel",
      "state": {
       "width": "250px"
      }
     },
     "0b8bc38ada464905af359f7bc49a9897": {
      "model_module": "@jupyter-widgets/controls",
      "model_module_version": "1.4.0",
      "model_name": "ButtonModel",
      "state": {
       "description": "Complete",
       "layout": "IPY_MODEL_7ec6347752864981b6b8f0696e546115",
       "style": "IPY_MODEL_d396eb86e76742278589915b53ae69bd"
      }
     },
     "0b8f066156694abb81154dc8a5d5c808": {
      "model_module": "@jupyter-widgets/controls",
      "model_module_version": "1.4.0",
      "model_name": "ButtonStyleModel",
      "state": {}
     },
     "0badf5ca5d9b400cbc8d5bd210ef9d5f": {
      "model_module": "@jupyter-widgets/controls",
      "model_module_version": "1.4.0",
      "model_name": "DescriptionStyleModel",
      "state": {
       "description_width": "initial"
      }
     },
     "0bb61ad21ecf4271a2dc4947efcf0dd4": {
      "model_module": "@jupyter-widgets/controls",
      "model_module_version": "1.4.0",
      "model_name": "ButtonStyleModel",
      "state": {}
     },
     "0bfbdfd3dd4547e0b332771a95dd0065": {
      "model_module": "@jupyter-widgets/controls",
      "model_module_version": "1.4.0",
      "model_name": "DescriptionStyleModel",
      "state": {
       "description_width": "initial"
      }
     },
     "0c12656483974e4cac628caa7c728615": {
      "model_module": "@jupyter-widgets/controls",
      "model_module_version": "1.4.0",
      "model_name": "DescriptionStyleModel",
      "state": {
       "description_width": ""
      }
     },
     "0ccd6357ff654c5aa41b2abe14195284": {
      "model_module": "@jupyter-widgets/base",
      "model_module_version": "1.1.0",
      "model_name": "LayoutModel",
      "state": {
       "width": "250px"
      }
     },
     "0cf2657ad03a49c1a7c78d4901e18032": {
      "model_module": "@jupyter-widgets/controls",
      "model_module_version": "1.4.0",
      "model_name": "ButtonStyleModel",
      "state": {}
     },
     "0d21dc2342144844bb82d102ef1da12d": {
      "model_module": "@jupyter-widgets/controls",
      "model_module_version": "1.4.0",
      "model_name": "ButtonStyleModel",
      "state": {}
     },
     "0d40d129807745dbad773237652cf0f0": {
      "model_module": "@jupyter-widgets/controls",
      "model_module_version": "1.4.0",
      "model_name": "ButtonStyleModel",
      "state": {}
     },
     "0d479f37fd994d9287b0e40d82aa1d9f": {
      "model_module": "@jupyter-widgets/controls",
      "model_module_version": "1.4.0",
      "model_name": "HBoxModel",
      "state": {
       "children": [
        "IPY_MODEL_a0b21cf3b6e441778a7a6cabbe5ef07e",
        "IPY_MODEL_59f498ecfd4f452f9156c8dc71a5ecaa"
       ],
       "layout": "IPY_MODEL_c0449cec717f452c99cd2e1710718ec5"
      }
     },
     "0e135386d0df464696bd8ec420463b0e": {
      "model_module": "@jupyter-widgets/base",
      "model_module_version": "1.1.0",
      "model_name": "LayoutModel",
      "state": {}
     },
     "0e1fd712fbbb477aa24f513df8197745": {
      "model_module": "@jupyter-widgets/base",
      "model_module_version": "1.1.0",
      "model_name": "LayoutModel",
      "state": {}
     },
     "0e9f14713f0c45b39e276bce3b792a7a": {
      "model_module": "@jupyter-widgets/controls",
      "model_module_version": "1.4.0",
      "model_name": "HTMLModel",
      "state": {
       "layout": "IPY_MODEL_70bb5443895f4683a1eecd0b65ea5456",
       "style": "IPY_MODEL_c5e2d3e96d604014af6d9f337f767f22",
       "value": "<i>Wählen Sie die <ins>eine</ins> korrekte Antwort aus: </i>"
      }
     },
     "0ef34292d8ff4212aa3e5df0df562c0e": {
      "model_module": "@jupyter-widgets/controls",
      "model_module_version": "1.4.0",
      "model_name": "DescriptionStyleModel",
      "state": {
       "description_width": ""
      }
     },
     "0efe28c2a41f4b9e9578b7e8ec1094d8": {
      "model_module": "@jupyter-widgets/controls",
      "model_module_version": "1.4.0",
      "model_name": "HBoxModel",
      "state": {
       "children": [
        "IPY_MODEL_3bdb0e7eed3c4fe6b70e2a504ae117dd",
        "IPY_MODEL_6e871baaf61c49a9a9c7467d7f619cd7"
       ],
       "layout": "IPY_MODEL_46362c6609d24cf4afedec9a1c7d7b49"
      }
     },
     "0f49ededc34645fcb6203c9fc19f439e": {
      "model_module": "@jupyter-widgets/controls",
      "model_module_version": "1.4.0",
      "model_name": "ButtonModel",
      "state": {
       "description": "Complete",
       "layout": "IPY_MODEL_d416ed6155a24de4a8bb9f89979e45cc",
       "style": "IPY_MODEL_cf4269321faa4d37bea3d5380f17b886"
      }
     },
     "1092de54526649cebcb2865189f4520d": {
      "model_module": "@jupyter-widgets/base",
      "model_module_version": "1.1.0",
      "model_name": "LayoutModel",
      "state": {}
     },
     "10db7c0c1ef54025bd3f196a14ff5a0c": {
      "model_module": "@jupyter-widgets/controls",
      "model_module_version": "1.4.0",
      "model_name": "VBoxModel",
      "state": {
       "children": [
        "IPY_MODEL_9223136b70cd432fa506a6b31203378a",
        "IPY_MODEL_055cf8c9ca26435cbebf954e89b54364",
        "IPY_MODEL_9ee195ab4ded4b3e95112175a82f3eec",
        "IPY_MODEL_485cd019633e4f3c9219742f0542ed0d",
        "IPY_MODEL_bb61264bbaf74de2a840b9a80bb88d70"
       ],
       "layout": "IPY_MODEL_2ab05596d07a4d62a61c7aa0b39eee70"
      }
     },
     "10efe42361f94a50bba403b3d491fb50": {
      "model_module": "@jupyter-widgets/controls",
      "model_module_version": "1.4.0",
      "model_name": "HBoxModel",
      "state": {
       "children": [
        "IPY_MODEL_33d03d01c4e14d19a49cb7f5dcf4adc9",
        "IPY_MODEL_1221dbaeb62741048ecef385232c4b28"
       ],
       "layout": "IPY_MODEL_576531e01910404fbf5b46acb663caf1"
      }
     },
     "11302f0022c04309ba9cf7b68955c165": {
      "model_module": "@jupyter-widgets/base",
      "model_module_version": "1.1.0",
      "model_name": "LayoutModel",
      "state": {
       "justify_content": "center"
      }
     },
     "11879f2af29b412bb91b20f258e4b636": {
      "model_module": "@jupyter-widgets/base",
      "model_module_version": "1.1.0",
      "model_name": "LayoutModel",
      "state": {}
     },
     "11a0e9d37aed4480b4341e9cd1ca67ea": {
      "model_module": "@jupyter-widgets/controls",
      "model_module_version": "1.4.0",
      "model_name": "ButtonModel",
      "state": {
       "description": "Recusive Descent",
       "layout": "IPY_MODEL_6c98777b6b844365829a95ebba66d27a",
       "style": "IPY_MODEL_b35543383c104849bf65eaa1be92f967"
      }
     },
     "11c9c987c5604bb19c2f858498380301": {
      "model_module": "@jupyter-widgets/controls",
      "model_module_version": "1.4.0",
      "model_name": "ButtonModel",
      "state": {
       "description": "Scan",
       "layout": "IPY_MODEL_30fcc9acdac8445bbd6f605c6934ee1b",
       "style": "IPY_MODEL_d28cf03c2081440dbe14fd7bb39964cc"
      }
     },
     "11db1e2f29604c118e0dd100f507deca": {
      "model_module": "@jupyter-widgets/controls",
      "model_module_version": "1.4.0",
      "model_name": "DescriptionStyleModel",
      "state": {
       "description_width": ""
      }
     },
     "121868b4411b47d29a613c6b710b6798": {
      "model_module": "@jupyter-widgets/controls",
      "model_module_version": "1.4.0",
      "model_name": "ButtonStyleModel",
      "state": {}
     },
     "1221dbaeb62741048ecef385232c4b28": {
      "model_module": "@jupyter-widgets/controls",
      "model_module_version": "1.4.0",
      "model_name": "ButtonModel",
      "state": {
       "description": "Scan",
       "layout": "IPY_MODEL_70d7f5aebe584a6d99313f44728ade5b",
       "style": "IPY_MODEL_ee714054188a4d6c8983faa87e48f7f3"
      }
     },
     "12a7cad07c6e4bb8ae9d8215cab98233": {
      "model_module": "@jupyter-widgets/base",
      "model_module_version": "1.1.0",
      "model_name": "LayoutModel",
      "state": {
       "justify_content": "center"
      }
     },
     "1399eafbac6c480790206c9d974c61c5": {
      "model_module": "@jupyter-widgets/base",
      "model_module_version": "1.1.0",
      "model_name": "LayoutModel",
      "state": {}
     },
     "13e540d321e9468d8aa11be42bae9308": {
      "model_module": "@jupyter-widgets/controls",
      "model_module_version": "1.4.0",
      "model_name": "ButtonModel",
      "state": {
       "description": "Recusive Descent",
       "layout": "IPY_MODEL_b81b949d16b34eda9d94d03ed81c7700",
       "style": "IPY_MODEL_be400e12a5e7428b87ee297b80fa2727"
      }
     },
     "14ae5270344e434ebd5f114a62082410": {
      "model_module": "@jupyter-widgets/controls",
      "model_module_version": "1.4.0",
      "model_name": "HTMLModel",
      "state": {
       "layout": "IPY_MODEL_546c268508214cf3831d2143c6fc6bf1",
       "style": "IPY_MODEL_0ef34292d8ff4212aa3e5df0df562c0e",
       "value": "<i>Wählen Sie die <ins>eine</ins> korrekte Antwort aus: </i>"
      }
     },
     "14bcf677033a4c8687b3e992c9fbd707": {
      "model_module": "@jupyter-widgets/base",
      "model_module_version": "1.1.0",
      "model_name": "LayoutModel",
      "state": {
       "width": "250px"
      }
     },
     "14c68f2797c34308936215a7088c2f5d": {
      "model_module": "@jupyter-widgets/controls",
      "model_module_version": "1.4.0",
      "model_name": "ButtonModel",
      "state": {
       "description": "Scan",
       "layout": "IPY_MODEL_672e0be8883f482d9ca7990329006c96",
       "style": "IPY_MODEL_0d21dc2342144844bb82d102ef1da12d"
      }
     },
     "1545970d6b06436ea8e1d9e2c0f54da7": {
      "model_module": "@jupyter-widgets/controls",
      "model_module_version": "1.4.0",
      "model_name": "DescriptionStyleModel",
      "state": {
       "description_width": "initial"
      }
     },
     "1554a03f34444ea4b29fbf5770b63d86": {
      "model_module": "@jupyter-widgets/base",
      "model_module_version": "1.1.0",
      "model_name": "LayoutModel",
      "state": {
       "width": "250px"
      }
     },
     "159679cfa8654178a58b05a8c5b44e75": {
      "model_module": "@jupyter-widgets/controls",
      "model_module_version": "1.4.0",
      "model_name": "HTMLModel",
      "state": {
       "layout": "IPY_MODEL_e4fc880147ff45e594289f43b0101c30",
       "style": "IPY_MODEL_949ee2f04ac5402c8bb4706b534be586",
       "value": "<h4 style=\"font-size:14px;\">Welche Operation folgt als nächstes?</h4>"
      }
     },
     "15c0ff6d330b45c38a1b26f090130662": {
      "model_module": "@jupyter-widgets/base",
      "model_module_version": "1.1.0",
      "model_name": "LayoutModel",
      "state": {}
     },
     "1624804ebd3a43639555e8fca807f559": {
      "model_module": "@jupyter-widgets/base",
      "model_module_version": "1.1.0",
      "model_name": "LayoutModel",
      "state": {
       "justify_content": "center"
      }
     },
     "165a06ddbc0d45569f0fb6bda8d3bb3f": {
      "model_module": "@jupyter-widgets/base",
      "model_module_version": "1.1.0",
      "model_name": "LayoutModel",
      "state": {
       "width": "250px"
      }
     },
     "16cbcddbb6db4deb9f839b703d4c86a0": {
      "model_module": "@jupyter-widgets/controls",
      "model_module_version": "1.4.0",
      "model_name": "DescriptionStyleModel",
      "state": {
       "description_width": ""
      }
     },
     "1714ae72595d434d911e522810f19180": {
      "model_module": "@jupyter-widgets/controls",
      "model_module_version": "1.4.0",
      "model_name": "ButtonModel",
      "state": {
       "description": "Shift",
       "layout": "IPY_MODEL_4cb8f114ab504a239e81a47189972830",
       "style": "IPY_MODEL_a6225b75bc634f5db534210254beb3b6"
      }
     },
     "1721181fbd0f4134b4ce57dd125436ce": {
      "model_module": "@jupyter-widgets/controls",
      "model_module_version": "1.4.0",
      "model_name": "DescriptionStyleModel",
      "state": {
       "description_width": ""
      }
     },
     "173d24cc5210459eb30975b3aa648000": {
      "model_module": "@jupyter-widgets/controls",
      "model_module_version": "1.4.0",
      "model_name": "ButtonStyleModel",
      "state": {}
     },
     "17a7c3b2dcb64fc4ab48a3aec7e5a4ed": {
      "model_module": "@jupyter-widgets/controls",
      "model_module_version": "1.4.0",
      "model_name": "ButtonStyleModel",
      "state": {}
     },
     "186a7232a881412b9f4c02d357d9a9a6": {
      "model_module": "@jupyter-widgets/controls",
      "model_module_version": "1.4.0",
      "model_name": "ButtonStyleModel",
      "state": {}
     },
     "18ddde32d16749e4815837dde44777df": {
      "model_module": "@jupyter-widgets/controls",
      "model_module_version": "1.4.0",
      "model_name": "HBoxModel",
      "state": {
       "children": [
        "IPY_MODEL_49cfe53dc8b14d7ba51bc991a303deb3",
        "IPY_MODEL_de95dabc6bc948b09255421616acbfce"
       ],
       "layout": "IPY_MODEL_2a841cb3a02d40dbae402a0b45838193"
      }
     },
     "1929d6e48f1145da83f7526d167b05bd": {
      "model_module": "@jupyter-widgets/controls",
      "model_module_version": "1.4.0",
      "model_name": "ButtonModel",
      "state": {
       "description": "Keine der Alternativen",
       "layout": "IPY_MODEL_62863215abd44cba9bdc3080ad4d78f8",
       "style": "IPY_MODEL_a7f270ec1eb54a47a55c83911225c8da"
      }
     },
     "1947f88e617f4693bc3c7d90864ba252": {
      "model_module": "@jupyter-widgets/controls",
      "model_module_version": "1.4.0",
      "model_name": "ButtonModel",
      "state": {
       "description": "Predict",
       "layout": "IPY_MODEL_14bcf677033a4c8687b3e992c9fbd707",
       "style": "IPY_MODEL_38dac53a49134fa182b99f8cd8ba8b7b"
      }
     },
     "19a78a5f621e4403bed7147c02a0c405": {
      "model_module": "@jupyter-widgets/controls",
      "model_module_version": "1.4.0",
      "model_name": "HBoxModel",
      "state": {
       "children": [
        "IPY_MODEL_59478daa06d34c55bc3def8b250d16e8"
       ],
       "layout": "IPY_MODEL_90746c09d9d741068366ad8557ce92b4"
      }
     },
     "1abd2512b0d54f1c9b27bdad301b72bb": {
      "model_module": "@jupyter-widgets/controls",
      "model_module_version": "1.4.0",
      "model_name": "HTMLModel",
      "state": {
       "layout": "IPY_MODEL_4386e63a365047bcabf9514b0253e19e",
       "style": "IPY_MODEL_86a76937a89f42daa9ef10a952204e3c",
       "value": "<i>Markieren Sie <ins>alle</ins> passenden Antworten: </i>"
      }
     },
     "1b575f1acf5348e8ad23c4fc510edb6d": {
      "model_module": "@jupyter-widgets/base",
      "model_module_version": "1.1.0",
      "model_name": "LayoutModel",
      "state": {
       "width": "600px"
      }
     },
     "1c74628fc96840b6a6f1ab0af9e7e868": {
      "model_module": "@jupyter-widgets/base",
      "model_module_version": "1.1.0",
      "model_name": "LayoutModel",
      "state": {}
     },
     "1c886070f5674611b45edc4e1465849c": {
      "model_module": "@jupyter-widgets/controls",
      "model_module_version": "1.4.0",
      "model_name": "ButtonModel",
      "state": {
       "description": "Shift",
       "layout": "IPY_MODEL_165a06ddbc0d45569f0fb6bda8d3bb3f",
       "style": "IPY_MODEL_173d24cc5210459eb30975b3aa648000"
      }
     },
     "1d1f5d3b393646d18c1579471d331610": {
      "model_module": "@jupyter-widgets/controls",
      "model_module_version": "1.4.0",
      "model_name": "HTMLModel",
      "state": {
       "layout": "IPY_MODEL_8711070a2e43464295f6a2a825f36348",
       "style": "IPY_MODEL_bf80afd1c9d847c793fc33171d903006",
       "value": "<i>Wählen Sie die <ins>eine</ins> korrekte Antwort aus: </i>"
      }
     },
     "1e4de0021c49455f8f86bcb06c577746": {
      "model_module": "@jupyter-widgets/controls",
      "model_module_version": "1.4.0",
      "model_name": "DescriptionStyleModel",
      "state": {
       "description_width": ""
      }
     },
     "1eba682da6dc421884a90d5ccdf328a1": {
      "model_module": "@jupyter-widgets/controls",
      "model_module_version": "1.4.0",
      "model_name": "ButtonModel",
      "state": {
       "description": "Shift",
       "layout": "IPY_MODEL_2fcf9dbaf4334ecabad73662533cac37",
       "style": "IPY_MODEL_ff81b310ad544488bde3dc5c80e0aa12"
      }
     },
     "1f5d55a454a447e78091f74fcb4721b7": {
      "model_module": "@jupyter-widgets/controls",
      "model_module_version": "1.4.0",
      "model_name": "DescriptionStyleModel",
      "state": {
       "description_width": ""
      }
     },
     "200794e2b0c24db19a265694124e4136": {
      "model_module": "@jupyter-widgets/controls",
      "model_module_version": "1.4.0",
      "model_name": "ButtonStyleModel",
      "state": {}
     },
     "2104f81b072048e1ab725637641f972a": {
      "model_module": "@jupyter-widgets/controls",
      "model_module_version": "1.4.0",
      "model_name": "ButtonStyleModel",
      "state": {}
     },
     "21851edb1eff494ca56043dd24e15bcd": {
      "model_module": "@jupyter-widgets/controls",
      "model_module_version": "1.4.0",
      "model_name": "ButtonStyleModel",
      "state": {}
     },
     "21dd328d4ae24ff48f72b151e2f6152f": {
      "model_module": "@jupyter-widgets/controls",
      "model_module_version": "1.4.0",
      "model_name": "DescriptionStyleModel",
      "state": {
       "description_width": "initial"
      }
     },
     "2213b4b7935649bfb44499b9c598325d": {
      "model_module": "@jupyter-widgets/base",
      "model_module_version": "1.1.0",
      "model_name": "LayoutModel",
      "state": {
       "width": "250px"
      }
     },
     "22ba5cede46d4b1bb8661719d5b6dd2e": {
      "model_module": "@jupyter-widgets/base",
      "model_module_version": "1.1.0",
      "model_name": "LayoutModel",
      "state": {
       "justify_content": "center"
      }
     },
     "22ec238fb2f64795a03d977c5db8c88b": {
      "model_module": "@jupyter-widgets/base",
      "model_module_version": "1.1.0",
      "model_name": "LayoutModel",
      "state": {
       "width": "600px"
      }
     },
     "232b7d803247489593f22c88cd653aac": {
      "model_module": "@jupyter-widgets/controls",
      "model_module_version": "1.4.0",
      "model_name": "ButtonStyleModel",
      "state": {}
     },
     "23d38725bb4e4520a90bfd996f115560": {
      "model_module": "@jupyter-widgets/controls",
      "model_module_version": "1.4.0",
      "model_name": "HBoxModel",
      "state": {
       "children": [
        "IPY_MODEL_9adb0fe0214f408a882a20ef8d6a8828",
        "IPY_MODEL_7c4a60bc2d9344ccb8ba73c34ae45f21"
       ],
       "layout": "IPY_MODEL_da1a9307e6e34a1394384590fe2989ab"
      }
     },
     "2433bc944fdc476fa37779ae878b790d": {
      "model_module": "@jupyter-widgets/controls",
      "model_module_version": "1.4.0",
      "model_name": "VBoxModel",
      "state": {
       "children": [
        "IPY_MODEL_c94cc345cba348e4a9071f3ed9e51e0d",
        "IPY_MODEL_971fe5a43afc485dadd833c4cb3a917f",
        "IPY_MODEL_0efe28c2a41f4b9e9578b7e8ec1094d8",
        "IPY_MODEL_be84c57fef9f4af89a8cf09e73122e51"
       ],
       "layout": "IPY_MODEL_3e432e94a88d4356bf5bab7d46604080"
      }
     },
     "2485c743cb1643b8a5b5e7421a4b947d": {
      "model_module": "@jupyter-widgets/base",
      "model_module_version": "1.1.0",
      "model_name": "LayoutModel",
      "state": {
       "justify_content": "center"
      }
     },
     "24bc6a2811ff4c93bd6bdf2ed360cbc7": {
      "model_module": "@jupyter-widgets/controls",
      "model_module_version": "1.4.0",
      "model_name": "HTMLModel",
      "state": {
       "layout": "IPY_MODEL_31c19fa46ccc46d28569177b0964079e",
       "style": "IPY_MODEL_d7395e138b724af6ae3d6401d624af5a",
       "value": "<h4 style=\"font-size:14px;\">Welche Operation folgt als nächstes?</h4>"
      }
     },
     "2716fb637e514e95adc6940c6d7f39db": {
      "model_module": "@jupyter-widgets/base",
      "model_module_version": "1.1.0",
      "model_name": "LayoutModel",
      "state": {
       "width": "250px"
      }
     },
     "27a87ddc54f841778d3d6cf236ecb420": {
      "model_module": "@jupyter-widgets/base",
      "model_module_version": "1.1.0",
      "model_name": "LayoutModel",
      "state": {
       "width": "250px"
      }
     },
     "27d0c310717746efa634fce1808eb983": {
      "model_module": "@jupyter-widgets/controls",
      "model_module_version": "1.4.0",
      "model_name": "DescriptionStyleModel",
      "state": {
       "description_width": "initial"
      }
     },
     "283546aeb546451c853d74f90311a5a8": {
      "model_module": "@jupyter-widgets/controls",
      "model_module_version": "1.4.0",
      "model_name": "VBoxModel",
      "state": {
       "children": [
        "IPY_MODEL_9bb46ac0bf8541329f16873d2bb0e7c1",
        "IPY_MODEL_7169b05861664892a0cb57c4cbebb161",
        "IPY_MODEL_4aa94289c0404862b581251252e8d80f",
        "IPY_MODEL_7fb6e4b3ead244e9a5f777251d93275b",
        "IPY_MODEL_c6ddd4f9de0d436c936d01e00c04b468"
       ],
       "layout": "IPY_MODEL_c52b7a89fbab4b87859772cc0e254ede"
      }
     },
     "28beabf7c7224543bcc1c2e5123a2149": {
      "model_module": "@jupyter-widgets/controls",
      "model_module_version": "1.4.0",
      "model_name": "CheckboxModel",
      "state": {
       "description": "Reduce",
       "disabled": false,
       "layout": "IPY_MODEL_b6e92764f7bc47de9089d88eb23434c2",
       "style": "IPY_MODEL_21dd328d4ae24ff48f72b151e2f6152f",
       "value": false
      }
     },
     "28c98546858549e5b1e6aed52ebd4d77": {
      "model_module": "@jupyter-widgets/controls",
      "model_module_version": "1.4.0",
      "model_name": "ButtonStyleModel",
      "state": {}
     },
     "2951718f488d4966aa67ce842de37046": {
      "model_module": "@jupyter-widgets/controls",
      "model_module_version": "1.4.0",
      "model_name": "CheckboxModel",
      "state": {
       "description": "Reduce",
       "disabled": false,
       "layout": "IPY_MODEL_942ed8c14bf249a48d6e66e0fef485d7",
       "style": "IPY_MODEL_2bbfc2f3afcd425f8dd81e44cc40f71f",
       "value": false
      }
     },
     "2a4dc81c6db1441d9c00321bc55af4e9": {
      "model_module": "@jupyter-widgets/controls",
      "model_module_version": "1.4.0",
      "model_name": "HBoxModel",
      "state": {
       "children": [
        "IPY_MODEL_f8a60b442af340d0826714eb47d8adf1",
        "IPY_MODEL_11a0e9d37aed4480b4341e9cd1ca67ea"
       ],
       "layout": "IPY_MODEL_d40db1ac0ae14824aa8ca92c39283359"
      }
     },
     "2a5ce81803a34f76aa134b1c2906eed1": {
      "model_module": "@jupyter-widgets/base",
      "model_module_version": "1.1.0",
      "model_name": "LayoutModel",
      "state": {}
     },
     "2a841cb3a02d40dbae402a0b45838193": {
      "model_module": "@jupyter-widgets/base",
      "model_module_version": "1.1.0",
      "model_name": "LayoutModel",
      "state": {}
     },
     "2ab05596d07a4d62a61c7aa0b39eee70": {
      "model_module": "@jupyter-widgets/base",
      "model_module_version": "1.1.0",
      "model_name": "LayoutModel",
      "state": {}
     },
     "2b17120774794e0eaab17f809b1c580b": {
      "model_module": "@jupyter-widgets/controls",
      "model_module_version": "1.4.0",
      "model_name": "ButtonModel",
      "state": {
       "description": "Scan",
       "layout": "IPY_MODEL_7b6b0ac166584e02bc3b80057b6d1251",
       "style": "IPY_MODEL_948c880a5a2649908b727f5ff5893ea7"
      }
     },
     "2bbfc2f3afcd425f8dd81e44cc40f71f": {
      "model_module": "@jupyter-widgets/controls",
      "model_module_version": "1.4.0",
      "model_name": "DescriptionStyleModel",
      "state": {
       "description_width": "initial"
      }
     },
     "2c3c1391583f47fc8449e87077e68b98": {
      "model_module": "@jupyter-widgets/base",
      "model_module_version": "1.1.0",
      "model_name": "LayoutModel",
      "state": {
       "width": "250px"
      }
     },
     "2cf1aeb1c91b45f6974e33a8b221fcc1": {
      "model_module": "@jupyter-widgets/controls",
      "model_module_version": "1.4.0",
      "model_name": "ButtonModel",
      "state": {
       "description": "Shift",
       "layout": "IPY_MODEL_6cf3641a94e84f17937aea4f356d1fe7",
       "style": "IPY_MODEL_c0aabfd01f8c4f84a5ea476fa93f732c"
      }
     },
     "2d65d57dd2bc4a67ba2625f540a63b3a": {
      "model_module": "@jupyter-widgets/controls",
      "model_module_version": "1.4.0",
      "model_name": "HBoxModel",
      "state": {
       "children": [
        "IPY_MODEL_b79fa99457be4122996a1675adacbeca",
        "IPY_MODEL_af0984beac674915bba27238d1de42bf"
       ],
       "layout": "IPY_MODEL_e8daa8de6b41415f9ac34e885eff4d98"
      }
     },
     "2d80349c609f426b8520ecf62b793c41": {
      "model_module": "@jupyter-widgets/base",
      "model_module_version": "1.1.0",
      "model_name": "LayoutModel",
      "state": {
       "justify_content": "center"
      }
     },
     "2f46c9d24346405497219c7bc09d99d5": {
      "model_module": "@jupyter-widgets/controls",
      "model_module_version": "1.4.0",
      "model_name": "ButtonStyleModel",
      "state": {}
     },
     "2f8eaf0b6001453fadb00c9a07438b98": {
      "model_module": "@jupyter-widgets/controls",
      "model_module_version": "1.4.0",
      "model_name": "DescriptionStyleModel",
      "state": {
       "description_width": ""
      }
     },
     "2fcf9dbaf4334ecabad73662533cac37": {
      "model_module": "@jupyter-widgets/base",
      "model_module_version": "1.1.0",
      "model_name": "LayoutModel",
      "state": {
       "width": "250px"
      }
     },
     "306da6c10aa341aa98c0282b99f1d77d": {
      "model_module": "@jupyter-widgets/base",
      "model_module_version": "1.1.0",
      "model_name": "LayoutModel",
      "state": {}
     },
     "30bc245257164fd89a4cb041a0ad7b6d": {
      "model_module": "@jupyter-widgets/controls",
      "model_module_version": "1.4.0",
      "model_name": "ButtonModel",
      "state": {
       "description": "Recusive Descent",
       "layout": "IPY_MODEL_9e450226ed774def9c98e4fff7a0f30f",
       "style": "IPY_MODEL_f8cc2f4d8c534c5fa3fb86fafa621f7a"
      }
     },
     "30fcc9acdac8445bbd6f605c6934ee1b": {
      "model_module": "@jupyter-widgets/base",
      "model_module_version": "1.1.0",
      "model_name": "LayoutModel",
      "state": {
       "width": "250px"
      }
     },
     "3104355bac2246dcb4bfbf5d23f02c82": {
      "model_module": "@jupyter-widgets/base",
      "model_module_version": "1.1.0",
      "model_name": "LayoutModel",
      "state": {}
     },
     "31c19fa46ccc46d28569177b0964079e": {
      "model_module": "@jupyter-widgets/base",
      "model_module_version": "1.1.0",
      "model_name": "LayoutModel",
      "state": {
       "justify_content": "center"
      }
     },
     "31de47430a7f43268183f0e3e226c40c": {
      "model_module": "@jupyter-widgets/controls",
      "model_module_version": "1.4.0",
      "model_name": "ButtonModel",
      "state": {
       "description": "Scan",
       "layout": "IPY_MODEL_e3d876de5e454b1eb69b88846fc0055c",
       "style": "IPY_MODEL_95b23b8e8dd645faa6a20dba3db75919"
      }
     },
     "327d9c3c90c64646a8ad987fa321d5af": {
      "model_module": "@jupyter-widgets/base",
      "model_module_version": "1.1.0",
      "model_name": "LayoutModel",
      "state": {
       "width": "250px"
      }
     },
     "32d13bf952b84757984be6c45749d418": {
      "model_module": "@jupyter-widgets/controls",
      "model_module_version": "1.4.0",
      "model_name": "ButtonStyleModel",
      "state": {}
     },
     "335099f09fe746bcb093aaaaf465e39e": {
      "model_module": "@jupyter-widgets/controls",
      "model_module_version": "1.4.0",
      "model_name": "VBoxModel",
      "state": {
       "children": [
        "IPY_MODEL_bc2f83395a7142feb421f5839cef0e37",
        "IPY_MODEL_3c5e7867bdd544aea6560d0a04cc8ee4",
        "IPY_MODEL_28beabf7c7224543bcc1c2e5123a2149",
        "IPY_MODEL_390ce79e68d84b92a6df53b1c000e642",
        "IPY_MODEL_5ee3024d9c844eea9c0470ed3221e402"
       ],
       "layout": "IPY_MODEL_caea34a58f6d4adc80e0a28e941a327b"
      }
     },
     "3395b130e273429baac80212866b882b": {
      "model_module": "@jupyter-widgets/base",
      "model_module_version": "1.1.0",
      "model_name": "LayoutModel",
      "state": {
       "width": "250px"
      }
     },
     "33d03d01c4e14d19a49cb7f5dcf4adc9": {
      "model_module": "@jupyter-widgets/controls",
      "model_module_version": "1.4.0",
      "model_name": "ButtonModel",
      "state": {
       "description": "Reduce",
       "layout": "IPY_MODEL_b595a8f9b7984be3a9cfc824dd6e3d7c",
       "style": "IPY_MODEL_6a8521000b9f41d6b4c23fa1c69fadd8"
      }
     },
     "3419cf26d1e44b859c73970157a2e10e": {
      "model_module": "@jupyter-widgets/controls",
      "model_module_version": "1.4.0",
      "model_name": "ButtonModel",
      "state": {
       "description": "Predict",
       "layout": "IPY_MODEL_a48dff11fa7d489da4722fe15d6f0368",
       "style": "IPY_MODEL_2f46c9d24346405497219c7bc09d99d5"
      }
     },
     "3422c4cb612b431a836145722ae60691": {
      "model_module": "@jupyter-widgets/controls",
      "model_module_version": "1.4.0",
      "model_name": "DescriptionStyleModel",
      "state": {
       "description_width": ""
      }
     },
     "35347b88724d4df29f4101a0496743ba": {
      "model_module": "@jupyter-widgets/controls",
      "model_module_version": "1.4.0",
      "model_name": "VBoxModel",
      "state": {
       "children": [
        "IPY_MODEL_656c474627fc497493961bef609bb3b7",
        "IPY_MODEL_fbd5fc7133b8442d9eebd975d0c32869",
        "IPY_MODEL_b0e72f50a74b4727a2362dd435d7742e",
        "IPY_MODEL_c95ca3a761394f23b5e730176ccefd3e",
        "IPY_MODEL_ee77700dfef246dbba4534748de5c465"
       ],
       "layout": "IPY_MODEL_8d6ef9274ac34b68805577ef76c23bd0"
      }
     },
     "357bbf62eb8e487a86b4afde0af52a2b": {
      "model_module": "@jupyter-widgets/base",
      "model_module_version": "1.1.0",
      "model_name": "LayoutModel",
      "state": {}
     },
     "35a881aef81b4f2a8fbcd7549b034fe4": {
      "model_module": "@jupyter-widgets/controls",
      "model_module_version": "1.4.0",
      "model_name": "ButtonModel",
      "state": {
       "description": "Shift Reduce",
       "layout": "IPY_MODEL_58a74a959ea646218b5dc3a348fccc08",
       "style": "IPY_MODEL_697b0e0074fc4c39bb821f6433b5bad3"
      }
     },
     "3620b2a42c4d46c489870e04a11364f1": {
      "model_module": "@jupyter-widgets/base",
      "model_module_version": "1.1.0",
      "model_name": "LayoutModel",
      "state": {}
     },
     "3663185fcbc349a681dc82cec2a39e22": {
      "model_module": "@jupyter-widgets/controls",
      "model_module_version": "1.4.0",
      "model_name": "HBoxModel",
      "state": {
       "children": [
        "IPY_MODEL_5d4be78a45784ace871a314f4822eed4",
        "IPY_MODEL_acfb44cc91b64cfa977ce790dcf5ff7d"
       ],
       "layout": "IPY_MODEL_e0a9a56a49ae4a21af1081a89b92297e"
      }
     },
     "3695c0bd1e964a9ab0e1b7c88a716e53": {
      "model_module": "@jupyter-widgets/controls",
      "model_module_version": "1.4.0",
      "model_name": "HTMLModel",
      "state": {
       "layout": "IPY_MODEL_f68570584efc4aaf81722fda2bfe3489",
       "style": "IPY_MODEL_f8d7b5264a5146f7923bf21c190db5e8",
       "value": "<h4 style=\"font-size:14px;\">Welche Operationen hat der Recursive Descent Parser?</h4>"
      }
     },
     "37d46f9086b040c2a783087c610a9c88": {
      "model_module": "@jupyter-widgets/base",
      "model_module_version": "1.1.0",
      "model_name": "LayoutModel",
      "state": {
       "width": "600px"
      }
     },
     "3890941ad769478f822733bc6b052e01": {
      "model_module": "@jupyter-widgets/base",
      "model_module_version": "1.1.0",
      "model_name": "LayoutModel",
      "state": {
       "justify_content": "center"
      }
     },
     "38dac53a49134fa182b99f8cd8ba8b7b": {
      "model_module": "@jupyter-widgets/controls",
      "model_module_version": "1.4.0",
      "model_name": "ButtonStyleModel",
      "state": {}
     },
     "390ce79e68d84b92a6df53b1c000e642": {
      "model_module": "@jupyter-widgets/controls",
      "model_module_version": "1.4.0",
      "model_name": "CheckboxModel",
      "state": {
       "description": "Scan",
       "disabled": false,
       "layout": "IPY_MODEL_37d46f9086b040c2a783087c610a9c88",
       "style": "IPY_MODEL_3a5ed484aa1945abb8c3aba7eec21623",
       "value": false
      }
     },
     "39e72d2ff0c14c26bd7e09c2ff66d96d": {
      "model_module": "@jupyter-widgets/base",
      "model_module_version": "1.1.0",
      "model_name": "LayoutModel",
      "state": {
       "justify_content": "center"
      }
     },
     "3a5ed484aa1945abb8c3aba7eec21623": {
      "model_module": "@jupyter-widgets/controls",
      "model_module_version": "1.4.0",
      "model_name": "DescriptionStyleModel",
      "state": {
       "description_width": "initial"
      }
     },
     "3a8f864e55224a61978bc96fbcac9867": {
      "model_module": "@jupyter-widgets/controls",
      "model_module_version": "1.4.0",
      "model_name": "DescriptionStyleModel",
      "state": {
       "description_width": ""
      }
     },
     "3bdb0e7eed3c4fe6b70e2a504ae117dd": {
      "model_module": "@jupyter-widgets/controls",
      "model_module_version": "1.4.0",
      "model_name": "ButtonModel",
      "state": {
       "description": "Earley",
       "layout": "IPY_MODEL_2213b4b7935649bfb44499b9c598325d",
       "style": "IPY_MODEL_de6add2a2cf34c0e92edfaf58a30b4af"
      }
     },
     "3c16960648144005936f228474de44a2": {
      "model_module": "@jupyter-widgets/controls",
      "model_module_version": "1.4.0",
      "model_name": "ButtonStyleModel",
      "state": {}
     },
     "3c5e7867bdd544aea6560d0a04cc8ee4": {
      "model_module": "@jupyter-widgets/controls",
      "model_module_version": "1.4.0",
      "model_name": "CheckboxModel",
      "state": {
       "description": "Predict",
       "disabled": false,
       "layout": "IPY_MODEL_ad306a1166a94cf98dd43db27cbaf6ae",
       "style": "IPY_MODEL_018bebb711b047aa8f59f2896df6149b",
       "value": false
      }
     },
     "3c72b35f33714471961260d8f56e395c": {
      "model_module": "@jupyter-widgets/controls",
      "model_module_version": "1.4.0",
      "model_name": "DescriptionStyleModel",
      "state": {
       "description_width": ""
      }
     },
     "3ca6c8dcc7674620a74421d814ee7c40": {
      "model_module": "@jupyter-widgets/controls",
      "model_module_version": "1.4.0",
      "model_name": "DescriptionStyleModel",
      "state": {
       "description_width": "initial"
      }
     },
     "3cb5da2cd45f42519d008f53df486ddc": {
      "model_module": "@jupyter-widgets/base",
      "model_module_version": "1.1.0",
      "model_name": "LayoutModel",
      "state": {}
     },
     "3ce83d05eff14ee3a318f38e6e5f5e7b": {
      "model_module": "@jupyter-widgets/controls",
      "model_module_version": "1.4.0",
      "model_name": "DescriptionStyleModel",
      "state": {
       "description_width": ""
      }
     },
     "3d074cbd85f5475f8ec3a7471bd9ffcf": {
      "model_module": "@jupyter-widgets/controls",
      "model_module_version": "1.4.0",
      "model_name": "HTMLModel",
      "state": {
       "layout": "IPY_MODEL_12a7cad07c6e4bb8ae9d8215cab98233",
       "style": "IPY_MODEL_82d42db99ef340dfb610c6bd72469386",
       "value": "<i>Wählen Sie die <ins>eine</ins> korrekte Antwort aus: </i>"
      }
     },
     "3e432e94a88d4356bf5bab7d46604080": {
      "model_module": "@jupyter-widgets/base",
      "model_module_version": "1.1.0",
      "model_name": "LayoutModel",
      "state": {}
     },
     "3e52a34686ac4086913edc3e7f73d563": {
      "model_module": "@jupyter-widgets/controls",
      "model_module_version": "1.4.0",
      "model_name": "HBoxModel",
      "state": {
       "children": [
        "IPY_MODEL_59093dfff718433cbfe55b396792339e",
        "IPY_MODEL_081100818416450f854c2ce96f1dff97"
       ],
       "layout": "IPY_MODEL_a7d3aeae8ceb4aa99543d9f89dcf55ae"
      }
     },
     "3fe9dd1af31d4efaa46c687fd096981b": {
      "model_module": "@jupyter-widgets/controls",
      "model_module_version": "1.4.0",
      "model_name": "ButtonStyleModel",
      "state": {}
     },
     "4039a83539464ea480a7ba1bdb994656": {
      "model_module": "@jupyter-widgets/base",
      "model_module_version": "1.1.0",
      "model_name": "LayoutModel",
      "state": {
       "width": "250px"
      }
     },
     "40a61126e7fd4e4ba9acf09f6aea22b1": {
      "model_module": "@jupyter-widgets/controls",
      "model_module_version": "1.4.0",
      "model_name": "DescriptionStyleModel",
      "state": {
       "description_width": ""
      }
     },
     "40df1e36b5fe460691d1a60bb37d066e": {
      "model_module": "@jupyter-widgets/controls",
      "model_module_version": "1.4.0",
      "model_name": "HBoxModel",
      "state": {
       "children": [
        "IPY_MODEL_c24bc73e26db414ebe77921e62854ec9",
        "IPY_MODEL_424c7dcbfd5a412dbeb2f7697915230f"
       ],
       "layout": "IPY_MODEL_803061ef1f2b43679b322f5114baa53c"
      }
     },
     "41368c3281d64aadb47a9a8b981088fe": {
      "model_module": "@jupyter-widgets/controls",
      "model_module_version": "1.4.0",
      "model_name": "ButtonModel",
      "state": {
       "description": "Shift Reduce",
       "layout": "IPY_MODEL_dfe93a0bad914a2f8980aac4d4cf6862",
       "style": "IPY_MODEL_454cb8c5bb6a4f7582223d9cbf167fe5"
      }
     },
     "424c7dcbfd5a412dbeb2f7697915230f": {
      "model_module": "@jupyter-widgets/controls",
      "model_module_version": "1.4.0",
      "model_name": "ButtonModel",
      "state": {
       "description": "Shift",
       "layout": "IPY_MODEL_6b69a4b2f3aa4c0caeb44ede8f54f7f3",
       "style": "IPY_MODEL_91ee9423029f4742b5b834c842c219c9"
      }
     },
     "436a667bda644f12a2191244db432275": {
      "model_module": "@jupyter-widgets/controls",
      "model_module_version": "1.4.0",
      "model_name": "DescriptionStyleModel",
      "state": {
       "description_width": ""
      }
     },
     "4386e63a365047bcabf9514b0253e19e": {
      "model_module": "@jupyter-widgets/base",
      "model_module_version": "1.1.0",
      "model_name": "LayoutModel",
      "state": {
       "justify_content": "center"
      }
     },
     "44176f38835a4de0befc36c08683141a": {
      "model_module": "@jupyter-widgets/controls",
      "model_module_version": "1.4.0",
      "model_name": "DescriptionStyleModel",
      "state": {
       "description_width": ""
      }
     },
     "447949eae8114bc18a86b2754e580906": {
      "model_module": "@jupyter-widgets/base",
      "model_module_version": "1.1.0",
      "model_name": "LayoutModel",
      "state": {
       "justify_content": "center"
      }
     },
     "4490b029e8954dd0988ef8149dfc7be5": {
      "model_module": "@jupyter-widgets/controls",
      "model_module_version": "1.4.0",
      "model_name": "HBoxModel",
      "state": {
       "children": [
        "IPY_MODEL_06c0a3f5d98e4e5e94dd274b14001352"
       ],
       "layout": "IPY_MODEL_c45802a923c941118190083f57af103c"
      }
     },
     "44b6a1f5f4a24e399baa0306ab8534d3": {
      "model_module": "@jupyter-widgets/controls",
      "model_module_version": "1.4.0",
      "model_name": "ButtonModel",
      "state": {
       "description": "Shift",
       "layout": "IPY_MODEL_3395b130e273429baac80212866b882b",
       "style": "IPY_MODEL_ce9b27e8648a4053aa0b3aa61b79a767"
      }
     },
     "44c43a3b12394d81b9b8cb496498e741": {
      "model_module": "@jupyter-widgets/base",
      "model_module_version": "1.1.0",
      "model_name": "LayoutModel",
      "state": {
       "width": "250px"
      }
     },
     "453cc3adccf5490ab218094918b41129": {
      "model_module": "@jupyter-widgets/controls",
      "model_module_version": "1.4.0",
      "model_name": "ButtonModel",
      "state": {
       "description": "Predict",
       "layout": "IPY_MODEL_a9d68edd3b974c329561fc9b5c673ab4",
       "style": "IPY_MODEL_6c93cda834cb4e1ea4889d2b6d781f2f"
      }
     },
     "454cb8c5bb6a4f7582223d9cbf167fe5": {
      "model_module": "@jupyter-widgets/controls",
      "model_module_version": "1.4.0",
      "model_name": "ButtonStyleModel",
      "state": {}
     },
     "4581743050b14824b311a099bd10ca23": {
      "model_module": "@jupyter-widgets/controls",
      "model_module_version": "1.4.0",
      "model_name": "VBoxModel",
      "state": {
       "children": [
        "IPY_MODEL_50504fd3794d4535b3c9b674a60dc796",
        "IPY_MODEL_6a67e7a8dff04507beb9698cd825c65f",
        "IPY_MODEL_fcb0236b37304ffdad8549751db6aae0",
        "IPY_MODEL_551baf4f83f0452087cbd94acc4c6165",
        "IPY_MODEL_a528b3deaa154cae8e71906c92d9e07e"
       ],
       "layout": "IPY_MODEL_3cb5da2cd45f42519d008f53df486ddc"
      }
     },
     "46362c6609d24cf4afedec9a1c7d7b49": {
      "model_module": "@jupyter-widgets/base",
      "model_module_version": "1.1.0",
      "model_name": "LayoutModel",
      "state": {}
     },
     "46419f5227eb490796847a7675b2b5c0": {
      "model_module": "@jupyter-widgets/base",
      "model_module_version": "1.1.0",
      "model_name": "LayoutModel",
      "state": {}
     },
     "4687205598324164ba43aa42b6dec778": {
      "model_module": "@jupyter-widgets/controls",
      "model_module_version": "1.4.0",
      "model_name": "DescriptionStyleModel",
      "state": {
       "description_width": ""
      }
     },
     "46f7a0534f714463a89eca0be8eb2efb": {
      "model_module": "@jupyter-widgets/controls",
      "model_module_version": "1.4.0",
      "model_name": "ButtonModel",
      "state": {
       "description": "Reduce",
       "layout": "IPY_MODEL_86725dcc05dd4d2abc33b63b6b45d5b5",
       "style": "IPY_MODEL_28c98546858549e5b1e6aed52ebd4d77"
      }
     },
     "485cd019633e4f3c9219742f0542ed0d": {
      "model_module": "@jupyter-widgets/controls",
      "model_module_version": "1.4.0",
      "model_name": "HBoxModel",
      "state": {
       "children": [
        "IPY_MODEL_e0b78addc263496c8af0a667e7bfab81",
        "IPY_MODEL_9fba76862ec641568237a8fb63e7ec9b"
       ],
       "layout": "IPY_MODEL_d0ff55aae19c40fbb211075316117858"
      }
     },
     "489be051c28a4f8c84f5ace5842329ae": {
      "model_module": "@jupyter-widgets/base",
      "model_module_version": "1.1.0",
      "model_name": "LayoutModel",
      "state": {
       "width": "250px"
      }
     },
     "490857126f4f4545ac1cd53695149c9a": {
      "model_module": "@jupyter-widgets/controls",
      "model_module_version": "1.4.0",
      "model_name": "ButtonStyleModel",
      "state": {}
     },
     "496c6218481048d9b3600815b4cc9a02": {
      "model_module": "@jupyter-widgets/controls",
      "model_module_version": "1.4.0",
      "model_name": "ButtonModel",
      "state": {
       "description": "Keine der Alternativen",
       "layout": "IPY_MODEL_863505f5a65b4928b741e3f28a25e71d",
       "style": "IPY_MODEL_779b32cda35f45888d2cefd70338ec92"
      }
     },
     "4997f7bb5bff46eb817a1f3b0b848154": {
      "model_module": "@jupyter-widgets/base",
      "model_module_version": "1.1.0",
      "model_name": "LayoutModel",
      "state": {}
     },
     "49a9cf7278844b17b29a06f0a1ad24b9": {
      "model_module": "@jupyter-widgets/controls",
      "model_module_version": "1.4.0",
      "model_name": "ButtonModel",
      "state": {
       "description": "Keine der Alternativen",
       "layout": "IPY_MODEL_daa9a8dd1f4449779f187f545f9d71f8",
       "style": "IPY_MODEL_186a7232a881412b9f4c02d357d9a9a6"
      }
     },
     "49cb496b0d5949a58fb3d0e0defae6f1": {
      "model_module": "@jupyter-widgets/base",
      "model_module_version": "1.1.0",
      "model_name": "LayoutModel",
      "state": {
       "width": "600px"
      }
     },
     "49cfe53dc8b14d7ba51bc991a303deb3": {
      "model_module": "@jupyter-widgets/controls",
      "model_module_version": "1.4.0",
      "model_name": "ButtonModel",
      "state": {
       "description": "Predict",
       "layout": "IPY_MODEL_f3ee8ecba895457a8c2076de214f108e",
       "style": "IPY_MODEL_4df800d490ed4aa9b6621474ccd7154e"
      }
     },
     "4a8bbbf4ae384914ad090938f74447a2": {
      "model_module": "@jupyter-widgets/base",
      "model_module_version": "1.1.0",
      "model_name": "LayoutModel",
      "state": {}
     },
     "4aa94289c0404862b581251252e8d80f": {
      "model_module": "@jupyter-widgets/controls",
      "model_module_version": "1.4.0",
      "model_name": "HBoxModel",
      "state": {
       "children": [
        "IPY_MODEL_d21c4d5a7e9242789d785c7f93e4d399",
        "IPY_MODEL_d771a8e2d78a470ba49d1f50fdabef1e"
       ],
       "layout": "IPY_MODEL_5d44b03b88c2482990765826ac7b1370"
      }
     },
     "4ad36a93f26a4074a29658306471665f": {
      "model_module": "@jupyter-widgets/controls",
      "model_module_version": "1.4.0",
      "model_name": "ButtonModel",
      "state": {
       "description": "Korrekt?",
       "layout": "IPY_MODEL_705a9c7de7fe4465b5a7da68e583ecb5",
       "style": "IPY_MODEL_4db43c58b5dd46b1acfc2681216876d5"
      }
     },
     "4cb8f114ab504a239e81a47189972830": {
      "model_module": "@jupyter-widgets/base",
      "model_module_version": "1.1.0",
      "model_name": "LayoutModel",
      "state": {
       "width": "250px"
      }
     },
     "4db43c58b5dd46b1acfc2681216876d5": {
      "model_module": "@jupyter-widgets/controls",
      "model_module_version": "1.4.0",
      "model_name": "ButtonStyleModel",
      "state": {}
     },
     "4df800d490ed4aa9b6621474ccd7154e": {
      "model_module": "@jupyter-widgets/controls",
      "model_module_version": "1.4.0",
      "model_name": "ButtonStyleModel",
      "state": {}
     },
     "4e8f36d1f0c64c60bf64e6f96af698a5": {
      "model_module": "@jupyter-widgets/controls",
      "model_module_version": "1.4.0",
      "model_name": "DescriptionStyleModel",
      "state": {
       "description_width": ""
      }
     },
     "4ea03b40591240c3b38abe74b9066dce": {
      "model_module": "@jupyter-widgets/controls",
      "model_module_version": "1.4.0",
      "model_name": "ButtonStyleModel",
      "state": {}
     },
     "4f0d2b50ea614009ad124deabe29a7cf": {
      "model_module": "@jupyter-widgets/controls",
      "model_module_version": "1.4.0",
      "model_name": "DescriptionStyleModel",
      "state": {
       "description_width": ""
      }
     },
     "4f84ea563cae4e11b0ac782b73398bbe": {
      "model_module": "@jupyter-widgets/base",
      "model_module_version": "1.1.0",
      "model_name": "LayoutModel",
      "state": {}
     },
     "5029d6b6a1694d5095a50c226e35dd6d": {
      "model_module": "@jupyter-widgets/controls",
      "model_module_version": "1.4.0",
      "model_name": "DescriptionStyleModel",
      "state": {
       "description_width": "initial"
      }
     },
     "50504fd3794d4535b3c9b674a60dc796": {
      "model_module": "@jupyter-widgets/controls",
      "model_module_version": "1.4.0",
      "model_name": "CheckboxModel",
      "state": {
       "description": "Complete",
       "disabled": false,
       "layout": "IPY_MODEL_b164c46d100f41f4876a9ffacd8778ce",
       "style": "IPY_MODEL_e5b29ba96ae24c9f826353a43f8ec3a6",
       "value": false
      }
     },
     "5107759598094c1f9098d0ce7112204d": {
      "model_module": "@jupyter-widgets/controls",
      "model_module_version": "1.4.0",
      "model_name": "HBoxModel",
      "state": {
       "children": [
        "IPY_MODEL_f468440ebcde4f1ca8b58aa2e0016e8a",
        "IPY_MODEL_e481cb06fc6446f485f4e32558b803ac"
       ],
       "layout": "IPY_MODEL_791955c8ad9345e6b022f90bb4c4509e"
      }
     },
     "528fe41f0ac7400a8acce85b6f0b8f57": {
      "model_module": "@jupyter-widgets/controls",
      "model_module_version": "1.4.0",
      "model_name": "DescriptionStyleModel",
      "state": {
       "description_width": ""
      }
     },
     "546c268508214cf3831d2143c6fc6bf1": {
      "model_module": "@jupyter-widgets/base",
      "model_module_version": "1.1.0",
      "model_name": "LayoutModel",
      "state": {
       "justify_content": "center"
      }
     },
     "54945f1e1bce4729a76aeb86a12fe200": {
      "model_module": "@jupyter-widgets/controls",
      "model_module_version": "1.4.0",
      "model_name": "ButtonModel",
      "state": {
       "description": "Complete",
       "layout": "IPY_MODEL_c712401ef2114537aacf77f04b2d7f62",
       "style": "IPY_MODEL_c4146829867c44d7999d84e530ff5026"
      }
     },
     "55154884bdc1403aa33846ef521103e2": {
      "model_module": "@jupyter-widgets/base",
      "model_module_version": "1.1.0",
      "model_name": "LayoutModel",
      "state": {
       "width": "250px"
      }
     },
     "551baf4f83f0452087cbd94acc4c6165": {
      "model_module": "@jupyter-widgets/controls",
      "model_module_version": "1.4.0",
      "model_name": "CheckboxModel",
      "state": {
       "description": "Scan",
       "disabled": false,
       "layout": "IPY_MODEL_b4b81d5bcdc94e45924f89a79cf18571",
       "style": "IPY_MODEL_3ca6c8dcc7674620a74421d814ee7c40",
       "value": false
      }
     },
     "55232b6df6fb4040b7bf7c627d4c28b6": {
      "model_module": "@jupyter-widgets/controls",
      "model_module_version": "1.4.0",
      "model_name": "HBoxModel",
      "state": {
       "children": [
        "IPY_MODEL_c32e63ac6c824c7188258f2b4fcbe161",
        "IPY_MODEL_9461997108974fd882ebbf7bdef8b189"
       ],
       "layout": "IPY_MODEL_6e467df970eb4e6dbd5852d6916d8eb2"
      }
     },
     "56beeb2d82a74fb2846d7dc51503350b": {
      "model_module": "@jupyter-widgets/base",
      "model_module_version": "1.1.0",
      "model_name": "LayoutModel",
      "state": {
       "width": "250px"
      }
     },
     "56c82376bc7246aaabbea17f8369b1cd": {
      "model_module": "@jupyter-widgets/controls",
      "model_module_version": "1.4.0",
      "model_name": "ButtonStyleModel",
      "state": {}
     },
     "570f930da5ec49fda180be5fad1c537c": {
      "model_module": "@jupyter-widgets/controls",
      "model_module_version": "1.4.0",
      "model_name": "ButtonStyleModel",
      "state": {}
     },
     "576531e01910404fbf5b46acb663caf1": {
      "model_module": "@jupyter-widgets/base",
      "model_module_version": "1.1.0",
      "model_name": "LayoutModel",
      "state": {}
     },
     "5870a4b7d2f34f478766ef3e863cfded": {
      "model_module": "@jupyter-widgets/base",
      "model_module_version": "1.1.0",
      "model_name": "LayoutModel",
      "state": {
       "width": "250px"
      }
     },
     "58a1b9665de449c99e8c1ffe82c8b9ed": {
      "model_module": "@jupyter-widgets/controls",
      "model_module_version": "1.4.0",
      "model_name": "HTMLModel",
      "state": {
       "layout": "IPY_MODEL_d9da488b70a8441a9f4de09b25086748",
       "style": "IPY_MODEL_f24c6f4ba9a9492faa3a24d3878d17d6",
       "value": "<h4 style=\"font-size:14px;\">Welche Operation folgt als nächstes?</h4>"
      }
     },
     "58a74a959ea646218b5dc3a348fccc08": {
      "model_module": "@jupyter-widgets/base",
      "model_module_version": "1.1.0",
      "model_name": "LayoutModel",
      "state": {
       "width": "250px"
      }
     },
     "59093dfff718433cbfe55b396792339e": {
      "model_module": "@jupyter-widgets/controls",
      "model_module_version": "1.4.0",
      "model_name": "ButtonModel",
      "state": {
       "description": "Reduce",
       "layout": "IPY_MODEL_0ccd6357ff654c5aa41b2abe14195284",
       "style": "IPY_MODEL_dc6ae8b4c9364640a7365ebf206c67e0"
      }
     },
     "592e6f0ca146439a924352d935800c45": {
      "model_module": "@jupyter-widgets/controls",
      "model_module_version": "1.4.0",
      "model_name": "HBoxModel",
      "state": {
       "children": [
        "IPY_MODEL_7fb3ecdc11f1420c96d0d488317b02b7",
        "IPY_MODEL_e4824b3676cc45a4bf27354c5795d84e"
       ],
       "layout": "IPY_MODEL_3104355bac2246dcb4bfbf5d23f02c82"
      }
     },
     "59478daa06d34c55bc3def8b250d16e8": {
      "model_module": "@jupyter-widgets/controls",
      "model_module_version": "1.4.0",
      "model_name": "ButtonModel",
      "state": {
       "description": "Shift",
       "layout": "IPY_MODEL_764000de0f094eea871d4db33da621e6",
       "style": "IPY_MODEL_f685a42b7a294a5494456dc883fc1e63"
      }
     },
     "59b937f60e514b0aa2c4179d4d8441b4": {
      "model_module": "@jupyter-widgets/base",
      "model_module_version": "1.1.0",
      "model_name": "LayoutModel",
      "state": {
       "width": "250px"
      }
     },
     "59f498ecfd4f452f9156c8dc71a5ecaa": {
      "model_module": "@jupyter-widgets/controls",
      "model_module_version": "1.4.0",
      "model_name": "ButtonModel",
      "state": {
       "description": "Keine der Alternativen",
       "layout": "IPY_MODEL_0b5cd9a36f6445d39ac72a088189c88b",
       "style": "IPY_MODEL_d8bc7585e8eb4356b196f488ab6a2d22"
      }
     },
     "5a2e18cb8bc24f08a7487f1f82325b24": {
      "model_module": "@jupyter-widgets/base",
      "model_module_version": "1.1.0",
      "model_name": "LayoutModel",
      "state": {}
     },
     "5a939ac436ac424d892abc024531e524": {
      "model_module": "@jupyter-widgets/base",
      "model_module_version": "1.1.0",
      "model_name": "LayoutModel",
      "state": {}
     },
     "5b0f1e9e88e141f78246f9045b43f6a1": {
      "model_module": "@jupyter-widgets/controls",
      "model_module_version": "1.4.0",
      "model_name": "HTMLModel",
      "state": {
       "layout": "IPY_MODEL_a7a2ce9258b546df97e8e11f291e9483",
       "style": "IPY_MODEL_a76e0a4065c04fea81b34d83dc9d50e0",
       "value": "<h4 style=\"font-size:14px;\">Welche Operation folgt als nächstes?</h4>"
      }
     },
     "5b886c45237748f1bce61af37ee0db79": {
      "model_module": "@jupyter-widgets/base",
      "model_module_version": "1.1.0",
      "model_name": "LayoutModel",
      "state": {}
     },
     "5b9fb336e03543b7bc9934bd736c0c94": {
      "model_module": "@jupyter-widgets/controls",
      "model_module_version": "1.4.0",
      "model_name": "ButtonStyleModel",
      "state": {}
     },
     "5c0eb46b9cff4c41a98dfbe63b9e4acc": {
      "model_module": "@jupyter-widgets/controls",
      "model_module_version": "1.4.0",
      "model_name": "HBoxModel",
      "state": {
       "children": [
        "IPY_MODEL_abd95d6b415e485b90de8968676206d8"
       ],
       "layout": "IPY_MODEL_84fe090079d74964a929cdefbe06147b"
      }
     },
     "5cab0822f4a44dd0a3d50577db640a17": {
      "model_module": "@jupyter-widgets/controls",
      "model_module_version": "1.4.0",
      "model_name": "ButtonStyleModel",
      "state": {}
     },
     "5d1a5c36c732463aadc39bef280b8cb9": {
      "model_module": "@jupyter-widgets/base",
      "model_module_version": "1.1.0",
      "model_name": "LayoutModel",
      "state": {
       "width": "250px"
      }
     },
     "5d44b03b88c2482990765826ac7b1370": {
      "model_module": "@jupyter-widgets/base",
      "model_module_version": "1.1.0",
      "model_name": "LayoutModel",
      "state": {}
     },
     "5d4be78a45784ace871a314f4822eed4": {
      "model_module": "@jupyter-widgets/controls",
      "model_module_version": "1.4.0",
      "model_name": "ButtonModel",
      "state": {
       "description": "Earley",
       "layout": "IPY_MODEL_1554a03f34444ea4b29fbf5770b63d86",
       "style": "IPY_MODEL_751a2adbd617423d8ed76d1f7da9a718"
      }
     },
     "5edf18dc938347d1ac46c007ce12454d": {
      "model_module": "@jupyter-widgets/base",
      "model_module_version": "1.1.0",
      "model_name": "LayoutModel",
      "state": {
       "width": "600px"
      }
     },
     "5ee3024d9c844eea9c0470ed3221e402": {
      "model_module": "@jupyter-widgets/controls",
      "model_module_version": "1.4.0",
      "model_name": "CheckboxModel",
      "state": {
       "description": "Shift",
       "disabled": false,
       "layout": "IPY_MODEL_f5a39281fde44a6ca3404fe555bee640",
       "style": "IPY_MODEL_1545970d6b06436ea8e1d9e2c0f54da7",
       "value": false
      }
     },
     "61126926a701471486286cf4915de235": {
      "model_module": "@jupyter-widgets/controls",
      "model_module_version": "1.4.0",
      "model_name": "ButtonModel",
      "state": {
       "description": "Predict",
       "layout": "IPY_MODEL_61b4443875574e0eb469f501659e8e55",
       "style": "IPY_MODEL_704b21db2d014b7392a50aa25d1bc250"
      }
     },
     "6114d45ff4af495aadf921875ea434b4": {
      "model_module": "@jupyter-widgets/controls",
      "model_module_version": "1.4.0",
      "model_name": "HBoxModel",
      "state": {
       "children": [
        "IPY_MODEL_eb3fef0208404be2afcf0e85d8ce030f"
       ],
       "layout": "IPY_MODEL_15c0ff6d330b45c38a1b26f090130662"
      }
     },
     "613f3933cadf4c3199f3ca28e9e5ead0": {
      "model_module": "@jupyter-widgets/controls",
      "model_module_version": "1.4.0",
      "model_name": "VBoxModel",
      "state": {
       "children": [
        "IPY_MODEL_7c127293b682417a954e81e350f53c71",
        "IPY_MODEL_05a48eeed9134f66a7a714040307058e",
        "IPY_MODEL_23d38725bb4e4520a90bfd996f115560",
        "IPY_MODEL_18ddde32d16749e4815837dde44777df",
        "IPY_MODEL_2d65d57dd2bc4a67ba2625f540a63b3a"
       ],
       "layout": "IPY_MODEL_c157dbf7c9cf45cf8f16f5780d29cb6a"
      }
     },
     "61892670bf034fc5b04c0f7ed32b949b": {
      "model_module": "@jupyter-widgets/base",
      "model_module_version": "1.1.0",
      "model_name": "LayoutModel",
      "state": {
       "justify_content": "center"
      }
     },
     "61b4443875574e0eb469f501659e8e55": {
      "model_module": "@jupyter-widgets/base",
      "model_module_version": "1.1.0",
      "model_name": "LayoutModel",
      "state": {
       "width": "250px"
      }
     },
     "620e0bf14b5a41f49f263b6ec80f5161": {
      "model_module": "@jupyter-widgets/base",
      "model_module_version": "1.1.0",
      "model_name": "LayoutModel",
      "state": {}
     },
     "6227453a2fcf4020b11a82b31235f72e": {
      "model_module": "@jupyter-widgets/base",
      "model_module_version": "1.1.0",
      "model_name": "LayoutModel",
      "state": {}
     },
     "622d4ebb502344868f5ab3cc585c342f": {
      "model_module": "@jupyter-widgets/controls",
      "model_module_version": "1.4.0",
      "model_name": "ButtonModel",
      "state": {
       "description": "Reduce",
       "layout": "IPY_MODEL_8b8c87e2e92b4a9383ec3320a1a79283",
       "style": "IPY_MODEL_b692bdd750854397b7134e8bfc32244d"
      }
     },
     "62863215abd44cba9bdc3080ad4d78f8": {
      "model_module": "@jupyter-widgets/base",
      "model_module_version": "1.1.0",
      "model_name": "LayoutModel",
      "state": {
       "width": "250px"
      }
     },
     "63212d36071449b7815d49b4fcfbf8b7": {
      "model_module": "@jupyter-widgets/controls",
      "model_module_version": "1.4.0",
      "model_name": "HBoxModel",
      "state": {
       "children": [
        "IPY_MODEL_2cf1aeb1c91b45f6974e33a8b221fcc1"
       ],
       "layout": "IPY_MODEL_a935d573dd6644b894b1f9e94307a10c"
      }
     },
     "633d5db219fe48558945bf3ff8d4da7b": {
      "model_module": "@jupyter-widgets/controls",
      "model_module_version": "1.4.0",
      "model_name": "HBoxModel",
      "state": {
       "children": [
        "IPY_MODEL_e059c04e860f456e9c008f198e1de13a",
        "IPY_MODEL_1929d6e48f1145da83f7526d167b05bd"
       ],
       "layout": "IPY_MODEL_d3aae0c264a943529862e90b0b865f04"
      }
     },
     "635024bfed2f41ae94d5f90c7ce5b516": {
      "model_module": "@jupyter-widgets/controls",
      "model_module_version": "1.4.0",
      "model_name": "HTMLModel",
      "state": {
       "layout": "IPY_MODEL_8030eeebb9eb4dcf89c3ef076a34b138",
       "style": "IPY_MODEL_2f8eaf0b6001453fadb00c9a07438b98",
       "value": "<h4 style=\"font-size:14px;\">Um welchen Parser handelt es sich?</h4>"
      }
     },
     "63e7bb2b1d8c476eb50f23d55e605a1c": {
      "model_module": "@jupyter-widgets/controls",
      "model_module_version": "1.4.0",
      "model_name": "VBoxModel",
      "state": {
       "children": [
        "IPY_MODEL_24bc6a2811ff4c93bd6bdf2ed360cbc7",
        "IPY_MODEL_cad4ac1341364cc69c90d8f0f7b6594c",
        "IPY_MODEL_633d5db219fe48558945bf3ff8d4da7b",
        "IPY_MODEL_0181c6ef302f40139df69d06f93be25c",
        "IPY_MODEL_e674ee031a8f48c38fa169a47f0b6edd"
       ],
       "layout": "IPY_MODEL_fdfdccce7db641b08e3e64ea52a73e61"
      }
     },
     "64805f1c1c3c412e81267343fe1e3d95": {
      "model_module": "@jupyter-widgets/controls",
      "model_module_version": "1.4.0",
      "model_name": "ButtonStyleModel",
      "state": {}
     },
     "656c474627fc497493961bef609bb3b7": {
      "model_module": "@jupyter-widgets/controls",
      "model_module_version": "1.4.0",
      "model_name": "HTMLModel",
      "state": {
       "layout": "IPY_MODEL_9f1044df599949309740d760f551c8d1",
       "style": "IPY_MODEL_1f5d55a454a447e78091f74fcb4721b7",
       "value": "<h4 style=\"font-size:14px;\">Welche Operation folgt als nächstes?</h4>"
      }
     },
     "657e4fecbe7248b1b16ebe94fb045724": {
      "model_module": "@jupyter-widgets/base",
      "model_module_version": "1.1.0",
      "model_name": "LayoutModel",
      "state": {
       "width": "600px"
      }
     },
     "65b753318ad04129a68e00aee71e8be4": {
      "model_module": "@jupyter-widgets/base",
      "model_module_version": "1.1.0",
      "model_name": "LayoutModel",
      "state": {
       "width": "600px"
      }
     },
     "661632641dbe4e0b927cead4ac2e24bf": {
      "model_module": "@jupyter-widgets/controls",
      "model_module_version": "1.4.0",
      "model_name": "ButtonStyleModel",
      "state": {}
     },
     "667683a610c34492b7eb88e7d632c935": {
      "model_module": "@jupyter-widgets/controls",
      "model_module_version": "1.4.0",
      "model_name": "HBoxModel",
      "state": {
       "children": [
        "IPY_MODEL_8dd0ecf06d6f4f48b2fe3a50fc1585cc",
        "IPY_MODEL_a3f18522d2b64269a79c88d4839f6c8d"
       ],
       "layout": "IPY_MODEL_82b820f9e8b24d01b75a0f2145b80b86"
      }
     },
     "672e0be8883f482d9ca7990329006c96": {
      "model_module": "@jupyter-widgets/base",
      "model_module_version": "1.1.0",
      "model_name": "LayoutModel",
      "state": {
       "width": "250px"
      }
     },
     "67357725238b434eb52283627ada6a19": {
      "model_module": "@jupyter-widgets/base",
      "model_module_version": "1.1.0",
      "model_name": "LayoutModel",
      "state": {}
     },
     "6747f5dbc49f4f4886c4c799f2257772": {
      "model_module": "@jupyter-widgets/controls",
      "model_module_version": "1.4.0",
      "model_name": "ButtonStyleModel",
      "state": {}
     },
     "6765affcbe01492fa4f35b1baebeab6f": {
      "model_module": "@jupyter-widgets/base",
      "model_module_version": "1.1.0",
      "model_name": "LayoutModel",
      "state": {}
     },
     "6804ef7cc77a439c8b40aa329da82a2e": {
      "model_module": "@jupyter-widgets/base",
      "model_module_version": "1.1.0",
      "model_name": "LayoutModel",
      "state": {
       "width": "250px"
      }
     },
     "68e04f28c0744023a0954f36c4c549ae": {
      "model_module": "@jupyter-widgets/controls",
      "model_module_version": "1.4.0",
      "model_name": "CheckboxModel",
      "state": {
       "description": "Complete",
       "disabled": false,
       "layout": "IPY_MODEL_eaf9c924a03e42788f4945063ef3787a",
       "style": "IPY_MODEL_9567c6e036c8484e84a06d757edf3c0e",
       "value": false
      }
     },
     "695b466d181144a199bd68c86c121599": {
      "model_module": "@jupyter-widgets/controls",
      "model_module_version": "1.4.0",
      "model_name": "HTMLModel",
      "state": {
       "layout": "IPY_MODEL_b0dff703c6864b9aa8474f6887814380",
       "style": "IPY_MODEL_4e8f36d1f0c64c60bf64e6f96af698a5",
       "value": "<i>Markieren Sie <ins>alle</ins> passenden Antworten: </i>"
      }
     },
     "697b0e0074fc4c39bb821f6433b5bad3": {
      "model_module": "@jupyter-widgets/controls",
      "model_module_version": "1.4.0",
      "model_name": "ButtonStyleModel",
      "state": {}
     },
     "698c2c3ef071451a9675bc70c2f45084": {
      "model_module": "@jupyter-widgets/base",
      "model_module_version": "1.1.0",
      "model_name": "LayoutModel",
      "state": {
       "justify_content": "center"
      }
     },
     "69c1fa9362c246e095a50890b3af7468": {
      "model_module": "@jupyter-widgets/controls",
      "model_module_version": "1.4.0",
      "model_name": "VBoxModel",
      "state": {
       "children": [
        "IPY_MODEL_e8479e4990c3454fbd9c3b7df0a6199f",
        "IPY_MODEL_9393502559fc499783228a92c9e9db37",
        "IPY_MODEL_4581743050b14824b311a099bd10ca23",
        "IPY_MODEL_f811557531e04a3599c609fba2fdf0e6"
       ],
       "layout": "IPY_MODEL_5a939ac436ac424d892abc024531e524"
      }
     },
     "69c895e95d4843e588898c9d6b053c07": {
      "model_module": "@jupyter-widgets/controls",
      "model_module_version": "1.4.0",
      "model_name": "ButtonStyleModel",
      "state": {}
     },
     "6a09dbfbb6bf4358aaa3f52ad971a3a6": {
      "model_module": "@jupyter-widgets/controls",
      "model_module_version": "1.4.0",
      "model_name": "DescriptionStyleModel",
      "state": {
       "description_width": ""
      }
     },
     "6a67e7a8dff04507beb9698cd825c65f": {
      "model_module": "@jupyter-widgets/controls",
      "model_module_version": "1.4.0",
      "model_name": "CheckboxModel",
      "state": {
       "description": "Predict",
       "disabled": false,
       "layout": "IPY_MODEL_5edf18dc938347d1ac46c007ce12454d",
       "style": "IPY_MODEL_863d53bbe8324164a2f777b4b68ed763",
       "value": false
      }
     },
     "6a8521000b9f41d6b4c23fa1c69fadd8": {
      "model_module": "@jupyter-widgets/controls",
      "model_module_version": "1.4.0",
      "model_name": "ButtonStyleModel",
      "state": {}
     },
     "6aac360a36e8442691d4cebfb259a566": {
      "model_module": "@jupyter-widgets/controls",
      "model_module_version": "1.4.0",
      "model_name": "ButtonModel",
      "state": {
       "description": "Scan",
       "layout": "IPY_MODEL_88b21743d7d34af28c01fdbfec5ca395",
       "style": "IPY_MODEL_865b11f4813b4e42bf193d38dfaa75cc"
      }
     },
     "6ab2fafd580746bd80dd2b8b9033c707": {
      "model_module": "@jupyter-widgets/base",
      "model_module_version": "1.1.0",
      "model_name": "LayoutModel",
      "state": {
       "width": "250px"
      }
     },
     "6b0602384f564b24847b317bb932a772": {
      "model_module": "@jupyter-widgets/controls",
      "model_module_version": "1.4.0",
      "model_name": "ButtonStyleModel",
      "state": {}
     },
     "6b10026e188a42e4a5e8933ef4246f6a": {
      "model_module": "@jupyter-widgets/base",
      "model_module_version": "1.1.0",
      "model_name": "LayoutModel",
      "state": {}
     },
     "6b69a4b2f3aa4c0caeb44ede8f54f7f3": {
      "model_module": "@jupyter-widgets/base",
      "model_module_version": "1.1.0",
      "model_name": "LayoutModel",
      "state": {
       "width": "250px"
      }
     },
     "6b7c4176ed9640b6a71260456c81084d": {
      "model_module": "@jupyter-widgets/base",
      "model_module_version": "1.1.0",
      "model_name": "LayoutModel",
      "state": {
       "width": "250px"
      }
     },
     "6bd7cc0130954b3c8dce113b4029f4c0": {
      "model_module": "@jupyter-widgets/controls",
      "model_module_version": "1.4.0",
      "model_name": "ButtonStyleModel",
      "state": {}
     },
     "6c93cda834cb4e1ea4889d2b6d781f2f": {
      "model_module": "@jupyter-widgets/controls",
      "model_module_version": "1.4.0",
      "model_name": "ButtonStyleModel",
      "state": {}
     },
     "6c98777b6b844365829a95ebba66d27a": {
      "model_module": "@jupyter-widgets/base",
      "model_module_version": "1.1.0",
      "model_name": "LayoutModel",
      "state": {
       "width": "250px"
      }
     },
     "6cf3641a94e84f17937aea4f356d1fe7": {
      "model_module": "@jupyter-widgets/base",
      "model_module_version": "1.1.0",
      "model_name": "LayoutModel",
      "state": {
       "width": "250px"
      }
     },
     "6cf9df629e654a54ac8f98cf8552c104": {
      "model_module": "@jupyter-widgets/controls",
      "model_module_version": "1.4.0",
      "model_name": "DescriptionStyleModel",
      "state": {
       "description_width": ""
      }
     },
     "6dcc0699bda64cc2b31d1a564c103ba9": {
      "model_module": "@jupyter-widgets/base",
      "model_module_version": "1.1.0",
      "model_name": "LayoutModel",
      "state": {
       "width": "250px"
      }
     },
     "6e467df970eb4e6dbd5852d6916d8eb2": {
      "model_module": "@jupyter-widgets/base",
      "model_module_version": "1.1.0",
      "model_name": "LayoutModel",
      "state": {}
     },
     "6e6c6507456d43cf8a224778bfabcc19": {
      "model_module": "@jupyter-widgets/base",
      "model_module_version": "1.1.0",
      "model_name": "LayoutModel",
      "state": {
       "width": "250px"
      }
     },
     "6e871baaf61c49a9a9c7467d7f619cd7": {
      "model_module": "@jupyter-widgets/controls",
      "model_module_version": "1.4.0",
      "model_name": "ButtonModel",
      "state": {
       "description": "Recusive Descent",
       "layout": "IPY_MODEL_f70fdc11ef2f41c888e2426740b0cc0b",
       "style": "IPY_MODEL_21851edb1eff494ca56043dd24e15bcd"
      }
     },
     "6f435e4925ce40a7b64b4c63a6040568": {
      "model_module": "@jupyter-widgets/controls",
      "model_module_version": "1.4.0",
      "model_name": "HTMLModel",
      "state": {
       "layout": "IPY_MODEL_915a183f21b64b87ae58fc060c44b7e0",
       "style": "IPY_MODEL_0c12656483974e4cac628caa7c728615",
       "value": "<h4 style=\"font-size:14px;\">Um welchen Parser handelt es sich?</h4>"
      }
     },
     "704b21db2d014b7392a50aa25d1bc250": {
      "model_module": "@jupyter-widgets/controls",
      "model_module_version": "1.4.0",
      "model_name": "ButtonStyleModel",
      "state": {}
     },
     "705a9c7de7fe4465b5a7da68e583ecb5": {
      "model_module": "@jupyter-widgets/base",
      "model_module_version": "1.1.0",
      "model_name": "LayoutModel",
      "state": {
       "width": "250px"
      }
     },
     "70bb5443895f4683a1eecd0b65ea5456": {
      "model_module": "@jupyter-widgets/base",
      "model_module_version": "1.1.0",
      "model_name": "LayoutModel",
      "state": {
       "justify_content": "center"
      }
     },
     "70d7f5aebe584a6d99313f44728ade5b": {
      "model_module": "@jupyter-widgets/base",
      "model_module_version": "1.1.0",
      "model_name": "LayoutModel",
      "state": {
       "width": "250px"
      }
     },
     "7169b05861664892a0cb57c4cbebb161": {
      "model_module": "@jupyter-widgets/controls",
      "model_module_version": "1.4.0",
      "model_name": "HTMLModel",
      "state": {
       "layout": "IPY_MODEL_716ac06b679a450db6b57a7c7290d710",
       "style": "IPY_MODEL_3c72b35f33714471961260d8f56e395c",
       "value": "<i>Wählen Sie die <ins>eine</ins> korrekte Antwort aus: </i>"
      }
     },
     "716ac06b679a450db6b57a7c7290d710": {
      "model_module": "@jupyter-widgets/base",
      "model_module_version": "1.1.0",
      "model_name": "LayoutModel",
      "state": {
       "justify_content": "center"
      }
     },
     "7294f90c06e647168e6ad07f899a59f9": {
      "model_module": "@jupyter-widgets/controls",
      "model_module_version": "1.4.0",
      "model_name": "VBoxModel",
      "state": {
       "children": [
        "IPY_MODEL_68e04f28c0744023a0954f36c4c549ae",
        "IPY_MODEL_c738b2027883428e8b2831c897d5b169",
        "IPY_MODEL_2951718f488d4966aa67ce842de37046",
        "IPY_MODEL_c488c61404194deba1514919a7e70555",
        "IPY_MODEL_98441e21a0824044971cb2eb95eaf15f"
       ],
       "layout": "IPY_MODEL_7809d75d0acb49b2bc6f00107fa95789"
      }
     },
     "72dcbc8b9d444893958111366cfa1f36": {
      "model_module": "@jupyter-widgets/controls",
      "model_module_version": "1.4.0",
      "model_name": "HBoxModel",
      "state": {
       "children": [
        "IPY_MODEL_072ebed4bc8b45a9a75894c3b0e12cc0",
        "IPY_MODEL_d212bb6ddb5e4437a59108a4b8a74dd2"
       ],
       "layout": "IPY_MODEL_e988568e779f4153b5da9d0a27867047"
      }
     },
     "72ea1d2f035d44a6a97a2145ac3ba770": {
      "model_module": "@jupyter-widgets/controls",
      "model_module_version": "1.4.0",
      "model_name": "VBoxModel",
      "state": {
       "children": [
        "IPY_MODEL_58a1b9665de449c99e8c1ffe82c8b9ed",
        "IPY_MODEL_96a18f829e79476f8bf473f5e966b642",
        "IPY_MODEL_77d04737e52241f3a95bb56277be4a80",
        "IPY_MODEL_b593db63a3134319832303759df33b9b",
        "IPY_MODEL_40df1e36b5fe460691d1a60bb37d066e"
       ],
       "layout": "IPY_MODEL_0e1fd712fbbb477aa24f513df8197745"
      }
     },
     "7353363562ec4de29f3f26848c05e847": {
      "model_module": "@jupyter-widgets/controls",
      "model_module_version": "1.4.0",
      "model_name": "HTMLModel",
      "state": {
       "layout": "IPY_MODEL_89e934ca73fe42228f30890b40c5db45",
       "style": "IPY_MODEL_b405bc56831c478692ebed4b356b0043",
       "value": "<i>Wählen Sie die <ins>eine</ins> korrekte Antwort aus: </i>"
      }
     },
     "73849cda1e544cc594f41355c94c9145": {
      "model_module": "@jupyter-widgets/base",
      "model_module_version": "1.1.0",
      "model_name": "LayoutModel",
      "state": {
       "justify_content": "center"
      }
     },
     "7489ccb8d10f40938a24d41c2388403e": {
      "model_module": "@jupyter-widgets/controls",
      "model_module_version": "1.4.0",
      "model_name": "ButtonModel",
      "state": {
       "description": "Keine der Alternativen",
       "layout": "IPY_MODEL_6804ef7cc77a439c8b40aa329da82a2e",
       "style": "IPY_MODEL_c5f0a3087fc1434eacf65e8b9ebab9a1"
      }
     },
     "751a2adbd617423d8ed76d1f7da9a718": {
      "model_module": "@jupyter-widgets/controls",
      "model_module_version": "1.4.0",
      "model_name": "ButtonStyleModel",
      "state": {}
     },
     "764000de0f094eea871d4db33da621e6": {
      "model_module": "@jupyter-widgets/base",
      "model_module_version": "1.1.0",
      "model_name": "LayoutModel",
      "state": {
       "width": "250px"
      }
     },
     "76acbdd35605498d948378f641760e34": {
      "model_module": "@jupyter-widgets/base",
      "model_module_version": "1.1.0",
      "model_name": "LayoutModel",
      "state": {
       "width": "250px"
      }
     },
     "779b32cda35f45888d2cefd70338ec92": {
      "model_module": "@jupyter-widgets/controls",
      "model_module_version": "1.4.0",
      "model_name": "ButtonStyleModel",
      "state": {}
     },
     "77d04737e52241f3a95bb56277be4a80": {
      "model_module": "@jupyter-widgets/controls",
      "model_module_version": "1.4.0",
      "model_name": "HBoxModel",
      "state": {
       "children": [
        "IPY_MODEL_54945f1e1bce4729a76aeb86a12fe200",
        "IPY_MODEL_dea59c9e954849979650542c688f40d3"
       ],
       "layout": "IPY_MODEL_ccfa8919227f4c6fb4d12a1e723262a5"
      }
     },
     "77e36d0f8ddf473587231935dab15683": {
      "model_module": "@jupyter-widgets/base",
      "model_module_version": "1.1.0",
      "model_name": "LayoutModel",
      "state": {}
     },
     "7809d75d0acb49b2bc6f00107fa95789": {
      "model_module": "@jupyter-widgets/base",
      "model_module_version": "1.1.0",
      "model_name": "LayoutModel",
      "state": {}
     },
     "78a4eaafa04b4ea5b160c6e5f9bbbeac": {
      "model_module": "@jupyter-widgets/controls",
      "model_module_version": "1.4.0",
      "model_name": "ButtonStyleModel",
      "state": {}
     },
     "791955c8ad9345e6b022f90bb4c4509e": {
      "model_module": "@jupyter-widgets/base",
      "model_module_version": "1.1.0",
      "model_name": "LayoutModel",
      "state": {}
     },
     "792df644b23249a8aab58b663da0c3cf": {
      "model_module": "@jupyter-widgets/controls",
      "model_module_version": "1.4.0",
      "model_name": "HTMLModel",
      "state": {
       "layout": "IPY_MODEL_3890941ad769478f822733bc6b052e01",
       "style": "IPY_MODEL_f6003010c8524d9c8efce926354877f2",
       "value": "<i>Wählen Sie die <ins>eine</ins> korrekte Antwort aus: </i>"
      }
     },
     "79384f716724440aac586d1416169ee4": {
      "model_module": "@jupyter-widgets/controls",
      "model_module_version": "1.4.0",
      "model_name": "ButtonModel",
      "state": {
       "description": "Reduce",
       "layout": "IPY_MODEL_0b1a17be93cd4084afc1f55a2fa3b626",
       "style": "IPY_MODEL_6747f5dbc49f4f4886c4c799f2257772"
      }
     },
     "7a996264d66f40019e48e0c777a11fe9": {
      "model_module": "@jupyter-widgets/base",
      "model_module_version": "1.1.0",
      "model_name": "LayoutModel",
      "state": {
       "width": "250px"
      }
     },
     "7aa282ea119240d5b75fa50f6f0498ce": {
      "model_module": "@jupyter-widgets/controls",
      "model_module_version": "1.4.0",
      "model_name": "ButtonStyleModel",
      "state": {}
     },
     "7b3059af11c44bdf9099528c13ff985c": {
      "model_module": "@jupyter-widgets/controls",
      "model_module_version": "1.4.0",
      "model_name": "ButtonStyleModel",
      "state": {}
     },
     "7b6b0ac166584e02bc3b80057b6d1251": {
      "model_module": "@jupyter-widgets/base",
      "model_module_version": "1.1.0",
      "model_name": "LayoutModel",
      "state": {
       "width": "250px"
      }
     },
     "7b8a222490f940ad972a758742f74119": {
      "model_module": "@jupyter-widgets/controls",
      "model_module_version": "1.4.0",
      "model_name": "DescriptionStyleModel",
      "state": {
       "description_width": ""
      }
     },
     "7c127293b682417a954e81e350f53c71": {
      "model_module": "@jupyter-widgets/controls",
      "model_module_version": "1.4.0",
      "model_name": "HTMLModel",
      "state": {
       "layout": "IPY_MODEL_a3fe1ccb51ca4db1a994ac523b48a792",
       "style": "IPY_MODEL_4f0d2b50ea614009ad124deabe29a7cf",
       "value": "<h4 style=\"font-size:14px;\">Welche Operation folgt als nächstes?</h4>"
      }
     },
     "7c4a60bc2d9344ccb8ba73c34ae45f21": {
      "model_module": "@jupyter-widgets/controls",
      "model_module_version": "1.4.0",
      "model_name": "ButtonModel",
      "state": {
       "description": "Keine der Alternativen",
       "layout": "IPY_MODEL_59b937f60e514b0aa2c4179d4d8441b4",
       "style": "IPY_MODEL_6b0602384f564b24847b317bb932a772"
      }
     },
     "7c52baaa47f446ceace64da6528cd5d9": {
      "model_module": "@jupyter-widgets/controls",
      "model_module_version": "1.4.0",
      "model_name": "HBoxModel",
      "state": {
       "children": [
        "IPY_MODEL_d9a9bb8fd9644060b631bf51830651c8",
        "IPY_MODEL_30bc245257164fd89a4cb041a0ad7b6d"
       ],
       "layout": "IPY_MODEL_9624bf63d5234decaffba7a09167e816"
      }
     },
     "7cceaaff5ae84237afdc0f842a98b874": {
      "model_module": "@jupyter-widgets/controls",
      "model_module_version": "1.4.0",
      "model_name": "ButtonStyleModel",
      "state": {}
     },
     "7e91c0cd3ab643d0bb4b4b79664f9cdb": {
      "model_module": "@jupyter-widgets/base",
      "model_module_version": "1.1.0",
      "model_name": "LayoutModel",
      "state": {
       "width": "250px"
      }
     },
     "7ec6347752864981b6b8f0696e546115": {
      "model_module": "@jupyter-widgets/base",
      "model_module_version": "1.1.0",
      "model_name": "LayoutModel",
      "state": {
       "width": "250px"
      }
     },
     "7f31a1b0be794abab4d71746283beaf5": {
      "model_module": "@jupyter-widgets/base",
      "model_module_version": "1.1.0",
      "model_name": "LayoutModel",
      "state": {
       "width": "250px"
      }
     },
     "7fb3ecdc11f1420c96d0d488317b02b7": {
      "model_module": "@jupyter-widgets/controls",
      "model_module_version": "1.4.0",
      "model_name": "ButtonModel",
      "state": {
       "description": "Reduce",
       "layout": "IPY_MODEL_a473801e02764335b0dc2d5a4b1118b3",
       "style": "IPY_MODEL_0b2b38b72acb4a89929803b303ef8865"
      }
     },
     "7fb6e4b3ead244e9a5f777251d93275b": {
      "model_module": "@jupyter-widgets/controls",
      "model_module_version": "1.4.0",
      "model_name": "HBoxModel",
      "state": {
       "children": [
        "IPY_MODEL_8e0c51a3fcaa4ae3bb64cd08b83edffc",
        "IPY_MODEL_be5e37abe1f04a90a5ce07164e907566"
       ],
       "layout": "IPY_MODEL_6b10026e188a42e4a5e8933ef4246f6a"
      }
     },
     "803061ef1f2b43679b322f5114baa53c": {
      "model_module": "@jupyter-widgets/base",
      "model_module_version": "1.1.0",
      "model_name": "LayoutModel",
      "state": {}
     },
     "8030eeebb9eb4dcf89c3ef076a34b138": {
      "model_module": "@jupyter-widgets/base",
      "model_module_version": "1.1.0",
      "model_name": "LayoutModel",
      "state": {
       "justify_content": "center"
      }
     },
     "816620aee0eb414fb88c84e7cdfa8986": {
      "model_module": "@jupyter-widgets/base",
      "model_module_version": "1.1.0",
      "model_name": "LayoutModel",
      "state": {
       "justify_content": "center"
      }
     },
     "819500e9c89b4b5fb8746413b13d1729": {
      "model_module": "@jupyter-widgets/base",
      "model_module_version": "1.1.0",
      "model_name": "LayoutModel",
      "state": {}
     },
     "81a116b0e98f4e12ba3ed3910279b0b2": {
      "model_module": "@jupyter-widgets/controls",
      "model_module_version": "1.4.0",
      "model_name": "ButtonStyleModel",
      "state": {}
     },
     "81aaa8baf1c34e898d14a77b27e2403c": {
      "model_module": "@jupyter-widgets/base",
      "model_module_version": "1.1.0",
      "model_name": "LayoutModel",
      "state": {
       "justify_content": "center"
      }
     },
     "82b820f9e8b24d01b75a0f2145b80b86": {
      "model_module": "@jupyter-widgets/base",
      "model_module_version": "1.1.0",
      "model_name": "LayoutModel",
      "state": {}
     },
     "82bc8b28d65b45a0baf930f2d132dac3": {
      "model_module": "@jupyter-widgets/controls",
      "model_module_version": "1.4.0",
      "model_name": "ButtonStyleModel",
      "state": {}
     },
     "82d42db99ef340dfb610c6bd72469386": {
      "model_module": "@jupyter-widgets/controls",
      "model_module_version": "1.4.0",
      "model_name": "DescriptionStyleModel",
      "state": {
       "description_width": ""
      }
     },
     "839fd41f810d4803bd820e9427a4672d": {
      "model_module": "@jupyter-widgets/controls",
      "model_module_version": "1.4.0",
      "model_name": "HBoxModel",
      "state": {
       "children": [
        "IPY_MODEL_44b6a1f5f4a24e399baa0306ab8534d3"
       ],
       "layout": "IPY_MODEL_6765affcbe01492fa4f35b1baebeab6f"
      }
     },
     "83d1b313544e4430b00b1d3b67b37d8a": {
      "model_module": "@jupyter-widgets/base",
      "model_module_version": "1.1.0",
      "model_name": "LayoutModel",
      "state": {}
     },
     "845ee18d72574ebd9b4e64d107dfde9d": {
      "model_module": "@jupyter-widgets/controls",
      "model_module_version": "1.4.0",
      "model_name": "ButtonModel",
      "state": {
       "description": "Keine der Alternativen",
       "layout": "IPY_MODEL_4039a83539464ea480a7ba1bdb994656",
       "style": "IPY_MODEL_5cab0822f4a44dd0a3d50577db640a17"
      }
     },
     "84fe090079d74964a929cdefbe06147b": {
      "model_module": "@jupyter-widgets/base",
      "model_module_version": "1.1.0",
      "model_name": "LayoutModel",
      "state": {}
     },
     "851734bdcf0e4ce8a15bacee00db18d5": {
      "model_module": "@jupyter-widgets/controls",
      "model_module_version": "1.4.0",
      "model_name": "HTMLModel",
      "state": {
       "layout": "IPY_MODEL_901c1569267440b1be1340271b528b04",
       "style": "IPY_MODEL_4687205598324164ba43aa42b6dec778",
       "value": "<h4 style=\"font-size:14px;\">Welche Operation folgt als nächstes?</h4>"
      }
     },
     "85b2fab6119c473483dba2e8d9055f46": {
      "model_module": "@jupyter-widgets/controls",
      "model_module_version": "1.4.0",
      "model_name": "ButtonModel",
      "state": {
       "description": "Predict",
       "layout": "IPY_MODEL_d5db993642ef475288860ae9808e81e7",
       "style": "IPY_MODEL_e2ec0dd598574c589fc2f36e9fc259ca"
      }
     },
     "863505f5a65b4928b741e3f28a25e71d": {
      "model_module": "@jupyter-widgets/base",
      "model_module_version": "1.1.0",
      "model_name": "LayoutModel",
      "state": {
       "width": "250px"
      }
     },
     "863d53bbe8324164a2f777b4b68ed763": {
      "model_module": "@jupyter-widgets/controls",
      "model_module_version": "1.4.0",
      "model_name": "DescriptionStyleModel",
      "state": {
       "description_width": "initial"
      }
     },
     "865b11f4813b4e42bf193d38dfaa75cc": {
      "model_module": "@jupyter-widgets/controls",
      "model_module_version": "1.4.0",
      "model_name": "ButtonStyleModel",
      "state": {}
     },
     "86725dcc05dd4d2abc33b63b6b45d5b5": {
      "model_module": "@jupyter-widgets/base",
      "model_module_version": "1.1.0",
      "model_name": "LayoutModel",
      "state": {
       "width": "250px"
      }
     },
     "86a76937a89f42daa9ef10a952204e3c": {
      "model_module": "@jupyter-widgets/controls",
      "model_module_version": "1.4.0",
      "model_name": "DescriptionStyleModel",
      "state": {
       "description_width": ""
      }
     },
     "86ae9abae8f94376b4ef6aec473eb017": {
      "model_module": "@jupyter-widgets/controls",
      "model_module_version": "1.4.0",
      "model_name": "ButtonStyleModel",
      "state": {}
     },
     "8711070a2e43464295f6a2a825f36348": {
      "model_module": "@jupyter-widgets/base",
      "model_module_version": "1.1.0",
      "model_name": "LayoutModel",
      "state": {
       "justify_content": "center"
      }
     },
     "87530b3913b843f6a0dc7eea8a97a282": {
      "model_module": "@jupyter-widgets/base",
      "model_module_version": "1.1.0",
      "model_name": "LayoutModel",
      "state": {}
     },
     "8787d793fc8c4ed983c434558639336f": {
      "model_module": "@jupyter-widgets/controls",
      "model_module_version": "1.4.0",
      "model_name": "HBoxModel",
      "state": {
       "children": [
        "IPY_MODEL_e29d17153dc7472bac3d0b03426c46db"
       ],
       "layout": "IPY_MODEL_9d6f9a3c8ddb4ee696cd931119575895"
      }
     },
     "88b21743d7d34af28c01fdbfec5ca395": {
      "model_module": "@jupyter-widgets/base",
      "model_module_version": "1.1.0",
      "model_name": "LayoutModel",
      "state": {
       "width": "250px"
      }
     },
     "89676477e3794e6b8a6df20d24b00b1b": {
      "model_module": "@jupyter-widgets/base",
      "model_module_version": "1.1.0",
      "model_name": "LayoutModel",
      "state": {
       "width": "250px"
      }
     },
     "89dd359788ed4682a5268a5db0fa507a": {
      "model_module": "@jupyter-widgets/controls",
      "model_module_version": "1.4.0",
      "model_name": "ButtonStyleModel",
      "state": {}
     },
     "89e934ca73fe42228f30890b40c5db45": {
      "model_module": "@jupyter-widgets/base",
      "model_module_version": "1.1.0",
      "model_name": "LayoutModel",
      "state": {
       "justify_content": "center"
      }
     },
     "89fad49ac967480ba03587fb1dfd320a": {
      "model_module": "@jupyter-widgets/controls",
      "model_module_version": "1.4.0",
      "model_name": "ButtonStyleModel",
      "state": {}
     },
     "8a2a95185d974720b31a520b23b35ed8": {
      "model_module": "@jupyter-widgets/controls",
      "model_module_version": "1.4.0",
      "model_name": "ButtonModel",
      "state": {
       "description": "Scan",
       "layout": "IPY_MODEL_6e6c6507456d43cf8a224778bfabcc19",
       "style": "IPY_MODEL_3fe9dd1af31d4efaa46c687fd096981b"
      }
     },
     "8b16ff79a657446f9703599469c089ad": {
      "model_module": "@jupyter-widgets/base",
      "model_module_version": "1.1.0",
      "model_name": "LayoutModel",
      "state": {
       "justify_content": "center"
      }
     },
     "8b8c87e2e92b4a9383ec3320a1a79283": {
      "model_module": "@jupyter-widgets/base",
      "model_module_version": "1.1.0",
      "model_name": "LayoutModel",
      "state": {
       "width": "250px"
      }
     },
     "8c0982609f384e7eb91c2d3aa8e81e25": {
      "model_module": "@jupyter-widgets/controls",
      "model_module_version": "1.4.0",
      "model_name": "HTMLModel",
      "state": {
       "layout": "IPY_MODEL_1624804ebd3a43639555e8fca807f559",
       "style": "IPY_MODEL_3a8f864e55224a61978bc96fbcac9867",
       "value": "<h4 style=\"font-size:14px;\">Welche Operation folgt als nächstes?</h4>"
      }
     },
     "8d6ef9274ac34b68805577ef76c23bd0": {
      "model_module": "@jupyter-widgets/base",
      "model_module_version": "1.1.0",
      "model_name": "LayoutModel",
      "state": {}
     },
     "8da630bdb00348638623c73aca19a5b0": {
      "model_module": "@jupyter-widgets/base",
      "model_module_version": "1.1.0",
      "model_name": "LayoutModel",
      "state": {
       "justify_content": "center"
      }
     },
     "8dd0ecf06d6f4f48b2fe3a50fc1585cc": {
      "model_module": "@jupyter-widgets/controls",
      "model_module_version": "1.4.0",
      "model_name": "ButtonModel",
      "state": {
       "description": "Predict",
       "layout": "IPY_MODEL_ef70dbeb922f47eba9928d789fcecf5e",
       "style": "IPY_MODEL_570f930da5ec49fda180be5fad1c537c"
      }
     },
     "8e0c51a3fcaa4ae3bb64cd08b83edffc": {
      "model_module": "@jupyter-widgets/controls",
      "model_module_version": "1.4.0",
      "model_name": "ButtonModel",
      "state": {
       "description": "Predict",
       "layout": "IPY_MODEL_56beeb2d82a74fb2846d7dc51503350b",
       "style": "IPY_MODEL_f09a593fad5b4fcab7598eaf0f346e41"
      }
     },
     "8e3b84d045124639a86bdc0589a383ba": {
      "model_module": "@jupyter-widgets/controls",
      "model_module_version": "1.4.0",
      "model_name": "VBoxModel",
      "state": {
       "children": [
        "IPY_MODEL_851734bdcf0e4ce8a15bacee00db18d5",
        "IPY_MODEL_1d1f5d3b393646d18c1579471d331610",
        "IPY_MODEL_fcb3f47dbb53405bb3b483a98079d02c",
        "IPY_MODEL_667683a610c34492b7eb88e7d632c935",
        "IPY_MODEL_5107759598094c1f9098d0ce7112204d"
       ],
       "layout": "IPY_MODEL_cd33822c22d14fdaa714e6e87e677d29"
      }
     },
     "8e5e7ff0e1e5417f8f820fa1603b9611": {
      "model_module": "@jupyter-widgets/base",
      "model_module_version": "1.1.0",
      "model_name": "LayoutModel",
      "state": {
       "width": "250px"
      }
     },
     "8e78a817b39b450280b06374ae2226ac": {
      "model_module": "@jupyter-widgets/base",
      "model_module_version": "1.1.0",
      "model_name": "LayoutModel",
      "state": {
       "width": "250px"
      }
     },
     "8f04d130a6bc402e9af2c5feb207c2d4": {
      "model_module": "@jupyter-widgets/base",
      "model_module_version": "1.1.0",
      "model_name": "LayoutModel",
      "state": {}
     },
     "901c1569267440b1be1340271b528b04": {
      "model_module": "@jupyter-widgets/base",
      "model_module_version": "1.1.0",
      "model_name": "LayoutModel",
      "state": {
       "justify_content": "center"
      }
     },
     "90746c09d9d741068366ad8557ce92b4": {
      "model_module": "@jupyter-widgets/base",
      "model_module_version": "1.1.0",
      "model_name": "LayoutModel",
      "state": {}
     },
     "90cc47f15ae5403595cd7bdfdf8f9027": {
      "model_module": "@jupyter-widgets/base",
      "model_module_version": "1.1.0",
      "model_name": "LayoutModel",
      "state": {
       "width": "250px"
      }
     },
     "915a183f21b64b87ae58fc060c44b7e0": {
      "model_module": "@jupyter-widgets/base",
      "model_module_version": "1.1.0",
      "model_name": "LayoutModel",
      "state": {
       "justify_content": "center"
      }
     },
     "91ee9423029f4742b5b834c842c219c9": {
      "model_module": "@jupyter-widgets/controls",
      "model_module_version": "1.4.0",
      "model_name": "ButtonStyleModel",
      "state": {}
     },
     "9223136b70cd432fa506a6b31203378a": {
      "model_module": "@jupyter-widgets/controls",
      "model_module_version": "1.4.0",
      "model_name": "HTMLModel",
      "state": {
       "layout": "IPY_MODEL_816620aee0eb414fb88c84e7cdfa8986",
       "style": "IPY_MODEL_e4b8fdca0f474ee2a0550b99541c076d",
       "value": "<h4 style=\"font-size:14px;\">Welche Operation folgt als nächstes?</h4>"
      }
     },
     "928a60f7004b4b8a8c6131f16c5fa367": {
      "model_module": "@jupyter-widgets/controls",
      "model_module_version": "1.4.0",
      "model_name": "ButtonStyleModel",
      "state": {}
     },
     "92ca2d3d9cb44d5c91a1e74dc839de7c": {
      "model_module": "@jupyter-widgets/controls",
      "model_module_version": "1.4.0",
      "model_name": "DescriptionStyleModel",
      "state": {
       "description_width": ""
      }
     },
     "935f60ab27254480a7fc4a6cf35d3fe5": {
      "model_module": "@jupyter-widgets/controls",
      "model_module_version": "1.4.0",
      "model_name": "HBoxModel",
      "state": {
       "children": [
        "IPY_MODEL_41368c3281d64aadb47a9a8b981088fe"
       ],
       "layout": "IPY_MODEL_87530b3913b843f6a0dc7eea8a97a282"
      }
     },
     "9393502559fc499783228a92c9e9db37": {
      "model_module": "@jupyter-widgets/controls",
      "model_module_version": "1.4.0",
      "model_name": "HTMLModel",
      "state": {
       "layout": "IPY_MODEL_088e3649dfdd4a9092470243dbb38d37",
       "style": "IPY_MODEL_6cf9df629e654a54ac8f98cf8552c104",
       "value": "<i>Markieren Sie <ins>alle</ins> passenden Antworten: </i>"
      }
     },
     "942ed8c14bf249a48d6e66e0fef485d7": {
      "model_module": "@jupyter-widgets/base",
      "model_module_version": "1.1.0",
      "model_name": "LayoutModel",
      "state": {
       "width": "600px"
      }
     },
     "9439ccabc63c4977ba1b6405915f60e7": {
      "model_module": "@jupyter-widgets/base",
      "model_module_version": "1.1.0",
      "model_name": "LayoutModel",
      "state": {
       "width": "250px"
      }
     },
     "9461997108974fd882ebbf7bdef8b189": {
      "model_module": "@jupyter-widgets/controls",
      "model_module_version": "1.4.0",
      "model_name": "ButtonModel",
      "state": {
       "description": "Scan",
       "layout": "IPY_MODEL_e1a55c270b8c419cab25558c1498e8fb",
       "style": "IPY_MODEL_32d13bf952b84757984be6c45749d418"
      }
     },
     "948c880a5a2649908b727f5ff5893ea7": {
      "model_module": "@jupyter-widgets/controls",
      "model_module_version": "1.4.0",
      "model_name": "ButtonStyleModel",
      "state": {}
     },
     "949ee2f04ac5402c8bb4706b534be586": {
      "model_module": "@jupyter-widgets/controls",
      "model_module_version": "1.4.0",
      "model_name": "DescriptionStyleModel",
      "state": {
       "description_width": ""
      }
     },
     "94ce1dfbf0aa4f9081b8e5b81c1033e4": {
      "model_module": "@jupyter-widgets/controls",
      "model_module_version": "1.4.0",
      "model_name": "ButtonModel",
      "state": {
       "description": "Earley",
       "layout": "IPY_MODEL_e92a24cabe6147939096e9bbb3a807b5",
       "style": "IPY_MODEL_69c895e95d4843e588898c9d6b053c07"
      }
     },
     "9567c6e036c8484e84a06d757edf3c0e": {
      "model_module": "@jupyter-widgets/controls",
      "model_module_version": "1.4.0",
      "model_name": "DescriptionStyleModel",
      "state": {
       "description_width": "initial"
      }
     },
     "95b23b8e8dd645faa6a20dba3db75919": {
      "model_module": "@jupyter-widgets/controls",
      "model_module_version": "1.4.0",
      "model_name": "ButtonStyleModel",
      "state": {}
     },
     "961385c6cb3d4d65b7783b0f870eef4e": {
      "model_module": "@jupyter-widgets/base",
      "model_module_version": "1.1.0",
      "model_name": "LayoutModel",
      "state": {
       "width": "250px"
      }
     },
     "9624bf63d5234decaffba7a09167e816": {
      "model_module": "@jupyter-widgets/base",
      "model_module_version": "1.1.0",
      "model_name": "LayoutModel",
      "state": {}
     },
     "96a18f829e79476f8bf473f5e966b642": {
      "model_module": "@jupyter-widgets/controls",
      "model_module_version": "1.4.0",
      "model_name": "HTMLModel",
      "state": {
       "layout": "IPY_MODEL_9ee0510ba4c146f3ba2db0f1557d33c0",
       "style": "IPY_MODEL_1721181fbd0f4134b4ce57dd125436ce",
       "value": "<i>Wählen Sie die <ins>eine</ins> korrekte Antwort aus: </i>"
      }
     },
     "971fe5a43afc485dadd833c4cb3a917f": {
      "model_module": "@jupyter-widgets/controls",
      "model_module_version": "1.4.0",
      "model_name": "HTMLModel",
      "state": {
       "layout": "IPY_MODEL_8da630bdb00348638623c73aca19a5b0",
       "style": "IPY_MODEL_92ca2d3d9cb44d5c91a1e74dc839de7c",
       "value": "<i>Wählen Sie die <ins>eine</ins> korrekte Antwort aus: </i>"
      }
     },
     "98441e21a0824044971cb2eb95eaf15f": {
      "model_module": "@jupyter-widgets/controls",
      "model_module_version": "1.4.0",
      "model_name": "CheckboxModel",
      "state": {
       "description": "Shift",
       "disabled": false,
       "layout": "IPY_MODEL_e579a3a42e9a4b4cb45b57d9bbe1c72a",
       "style": "IPY_MODEL_0badf5ca5d9b400cbc8d5bd210ef9d5f",
       "value": false
      }
     },
     "987cf58d064541dfa11ee323ae151a0f": {
      "model_module": "@jupyter-widgets/base",
      "model_module_version": "1.1.0",
      "model_name": "LayoutModel",
      "state": {
       "justify_content": "center"
      }
     },
     "9ab128db54504976b77ec1339a216da9": {
      "model_module": "@jupyter-widgets/controls",
      "model_module_version": "1.4.0",
      "model_name": "HBoxModel",
      "state": {
       "children": [
        "IPY_MODEL_14c68f2797c34308936215a7088c2f5d",
        "IPY_MODEL_1714ae72595d434d911e522810f19180"
       ],
       "layout": "IPY_MODEL_ab8f2d3e6cdf426bb914644e4288071b"
      }
     },
     "9adb0fe0214f408a882a20ef8d6a8828": {
      "model_module": "@jupyter-widgets/controls",
      "model_module_version": "1.4.0",
      "model_name": "ButtonModel",
      "state": {
       "description": "Complete",
       "layout": "IPY_MODEL_aa8ba656dc594ea5a28406d42abfdc39",
       "style": "IPY_MODEL_81a116b0e98f4e12ba3ed3910279b0b2"
      }
     },
     "9bb46ac0bf8541329f16873d2bb0e7c1": {
      "model_module": "@jupyter-widgets/controls",
      "model_module_version": "1.4.0",
      "model_name": "HTMLModel",
      "state": {
       "layout": "IPY_MODEL_11302f0022c04309ba9cf7b68955c165",
       "style": "IPY_MODEL_6a09dbfbb6bf4358aaa3f52ad971a3a6",
       "value": "<h4 style=\"font-size:14px;\">Welche Operation folgt als nächstes?</h4>"
      }
     },
     "9c0c7dca039d4739b9b3e3458f3cabf8": {
      "model_module": "@jupyter-widgets/controls",
      "model_module_version": "1.4.0",
      "model_name": "ButtonModel",
      "state": {
       "description": "Shift",
       "layout": "IPY_MODEL_89676477e3794e6b8a6df20d24b00b1b",
       "style": "IPY_MODEL_0b8f066156694abb81154dc8a5d5c808"
      }
     },
     "9c3dfd4f061746bd8c7e511e7588f059": {
      "model_module": "@jupyter-widgets/controls",
      "model_module_version": "1.4.0",
      "model_name": "HTMLModel",
      "state": {
       "layout": "IPY_MODEL_81aaa8baf1c34e898d14a77b27e2403c",
       "style": "IPY_MODEL_c64b4d94ad5b46f481f143547682bd14",
       "value": "<h4 style=\"font-size:14px;\">Um welchen Parser handelt es sich?</h4>"
      }
     },
     "9c5e95b06e1c41deb88993360a3c07de": {
      "model_module": "@jupyter-widgets/controls",
      "model_module_version": "1.4.0",
      "model_name": "VBoxModel",
      "state": {
       "children": [
        "IPY_MODEL_f578415577e2417f99acb973758edb4f",
        "IPY_MODEL_b54e09df8026452799fd0a06ecd96b95",
        "IPY_MODEL_da2a566479154fffa45eed20664db779",
        "IPY_MODEL_dd1e4a4e3ebb4c489f2a5df9da183882",
        "IPY_MODEL_aef30b23b82b4d9c9b6f49c5bb6b5ff6"
       ],
       "layout": "IPY_MODEL_11879f2af29b412bb91b20f258e4b636"
      }
     },
     "9d6f9a3c8ddb4ee696cd931119575895": {
      "model_module": "@jupyter-widgets/base",
      "model_module_version": "1.1.0",
      "model_name": "LayoutModel",
      "state": {}
     },
     "9ddeed99d1aa495389dfd44c5ae1f305": {
      "model_module": "@jupyter-widgets/controls",
      "model_module_version": "1.4.0",
      "model_name": "ButtonStyleModel",
      "state": {}
     },
     "9e450226ed774def9c98e4fff7a0f30f": {
      "model_module": "@jupyter-widgets/base",
      "model_module_version": "1.1.0",
      "model_name": "LayoutModel",
      "state": {
       "width": "250px"
      }
     },
     "9ea506ae931e4b5ebdad1ee26d71c6cb": {
      "model_module": "@jupyter-widgets/controls",
      "model_module_version": "1.4.0",
      "model_name": "ButtonStyleModel",
      "state": {}
     },
     "9ee0510ba4c146f3ba2db0f1557d33c0": {
      "model_module": "@jupyter-widgets/base",
      "model_module_version": "1.1.0",
      "model_name": "LayoutModel",
      "state": {
       "justify_content": "center"
      }
     },
     "9ee195ab4ded4b3e95112175a82f3eec": {
      "model_module": "@jupyter-widgets/controls",
      "model_module_version": "1.4.0",
      "model_name": "HBoxModel",
      "state": {
       "children": [
        "IPY_MODEL_cc897902c461417b9b26f0ae9df1fc77",
        "IPY_MODEL_845ee18d72574ebd9b4e64d107dfde9d"
       ],
       "layout": "IPY_MODEL_357bbf62eb8e487a86b4afde0af52a2b"
      }
     },
     "9f1044df599949309740d760f551c8d1": {
      "model_module": "@jupyter-widgets/base",
      "model_module_version": "1.1.0",
      "model_name": "LayoutModel",
      "state": {
       "justify_content": "center"
      }
     },
     "9f60d9c25a8f48ec803d25dd8a500075": {
      "model_module": "@jupyter-widgets/controls",
      "model_module_version": "1.4.0",
      "model_name": "HTMLModel",
      "state": {
       "layout": "IPY_MODEL_698c2c3ef071451a9675bc70c2f45084",
       "style": "IPY_MODEL_b6d87d54b22a4372a0a78f6079d7ba1b",
       "value": "<i>Wählen Sie die <ins>eine</ins> korrekte Antwort aus: </i>"
      }
     },
     "9fba76862ec641568237a8fb63e7ec9b": {
      "model_module": "@jupyter-widgets/controls",
      "model_module_version": "1.4.0",
      "model_name": "ButtonModel",
      "state": {
       "description": "Reduce",
       "layout": "IPY_MODEL_06bc9d415291428a958845ddc1422265",
       "style": "IPY_MODEL_86ae9abae8f94376b4ef6aec473eb017"
      }
     },
     "a0b21cf3b6e441778a7a6cabbe5ef07e": {
      "model_module": "@jupyter-widgets/controls",
      "model_module_version": "1.4.0",
      "model_name": "ButtonModel",
      "state": {
       "description": "Complete",
       "layout": "IPY_MODEL_d279cf0e17154f618e7558a79c51fee4",
       "style": "IPY_MODEL_ee24bb68de4f4c3aae86288a4d87af96"
      }
     },
     "a0c2bc8f067b4307bf9731c8aadc4301": {
      "model_module": "@jupyter-widgets/controls",
      "model_module_version": "1.4.0",
      "model_name": "ButtonModel",
      "state": {
       "description": "Complete",
       "layout": "IPY_MODEL_7f31a1b0be794abab4d71746283beaf5",
       "style": "IPY_MODEL_a1b1908c00514863902142b14594f1e0"
      }
     },
     "a1b1908c00514863902142b14594f1e0": {
      "model_module": "@jupyter-widgets/controls",
      "model_module_version": "1.4.0",
      "model_name": "ButtonStyleModel",
      "state": {}
     },
     "a1c0ade981654dc5948adeb7f9a6a339": {
      "model_module": "@jupyter-widgets/controls",
      "model_module_version": "1.4.0",
      "model_name": "HBoxModel",
      "state": {
       "children": [
        "IPY_MODEL_afb30ea09782449f8fbb89792e343653",
        "IPY_MODEL_3419cf26d1e44b859c73970157a2e10e"
       ],
       "layout": "IPY_MODEL_fb5e7359fd5146deab6bc932b8217bb0"
      }
     },
     "a1dbdebc6b494ef49dcb6a6c9184d9d3": {
      "model_module": "@jupyter-widgets/base",
      "model_module_version": "1.1.0",
      "model_name": "LayoutModel",
      "state": {}
     },
     "a287849fcf554b7ea07b041dbd8fe500": {
      "model_module": "@jupyter-widgets/controls",
      "model_module_version": "1.4.0",
      "model_name": "ButtonStyleModel",
      "state": {}
     },
     "a2d05ef16d18451ab3b747464573e281": {
      "model_module": "@jupyter-widgets/controls",
      "model_module_version": "1.4.0",
      "model_name": "VBoxModel",
      "state": {
       "children": [
        "IPY_MODEL_9c3dfd4f061746bd8c7e511e7588f059",
        "IPY_MODEL_14ae5270344e434ebd5f114a62082410",
        "IPY_MODEL_ceedd677e40d4ea996a08fa2071dd4e1",
        "IPY_MODEL_6114d45ff4af495aadf921875ea434b4"
       ],
       "layout": "IPY_MODEL_8f04d130a6bc402e9af2c5feb207c2d4"
      }
     },
     "a38634c60c9a4b6aa42c9b00e807f400": {
      "model_module": "@jupyter-widgets/base",
      "model_module_version": "1.1.0",
      "model_name": "LayoutModel",
      "state": {
       "width": "250px"
      }
     },
     "a3f18522d2b64269a79c88d4839f6c8d": {
      "model_module": "@jupyter-widgets/controls",
      "model_module_version": "1.4.0",
      "model_name": "ButtonModel",
      "state": {
       "description": "Reduce",
       "layout": "IPY_MODEL_8e78a817b39b450280b06374ae2226ac",
       "style": "IPY_MODEL_17a7c3b2dcb64fc4ab48a3aec7e5a4ed"
      }
     },
     "a3fe1ccb51ca4db1a994ac523b48a792": {
      "model_module": "@jupyter-widgets/base",
      "model_module_version": "1.1.0",
      "model_name": "LayoutModel",
      "state": {
       "justify_content": "center"
      }
     },
     "a473801e02764335b0dc2d5a4b1118b3": {
      "model_module": "@jupyter-widgets/base",
      "model_module_version": "1.1.0",
      "model_name": "LayoutModel",
      "state": {
       "width": "250px"
      }
     },
     "a48dff11fa7d489da4722fe15d6f0368": {
      "model_module": "@jupyter-widgets/base",
      "model_module_version": "1.1.0",
      "model_name": "LayoutModel",
      "state": {
       "width": "250px"
      }
     },
     "a4c0447a8da643208069a42fbb34ea31": {
      "model_module": "@jupyter-widgets/base",
      "model_module_version": "1.1.0",
      "model_name": "LayoutModel",
      "state": {}
     },
     "a528b3deaa154cae8e71906c92d9e07e": {
      "model_module": "@jupyter-widgets/controls",
      "model_module_version": "1.4.0",
      "model_name": "CheckboxModel",
      "state": {
       "description": "Shift",
       "disabled": false,
       "layout": "IPY_MODEL_65b753318ad04129a68e00aee71e8be4",
       "style": "IPY_MODEL_5029d6b6a1694d5095a50c226e35dd6d",
       "value": false
      }
     },
     "a55a763edd4f4e4e9714223079535130": {
      "model_module": "@jupyter-widgets/base",
      "model_module_version": "1.1.0",
      "model_name": "LayoutModel",
      "state": {}
     },
     "a573a4db81bb4a01a5539674ee926b86": {
      "model_module": "@jupyter-widgets/base",
      "model_module_version": "1.1.0",
      "model_name": "LayoutModel",
      "state": {}
     },
     "a589f368d8bd4c80abb8b97a4f0a4bcd": {
      "model_module": "@jupyter-widgets/controls",
      "model_module_version": "1.4.0",
      "model_name": "ButtonStyleModel",
      "state": {}
     },
     "a6225b75bc634f5db534210254beb3b6": {
      "model_module": "@jupyter-widgets/controls",
      "model_module_version": "1.4.0",
      "model_name": "ButtonStyleModel",
      "state": {}
     },
     "a697ae4feffa4c46bbde2468135e06ec": {
      "model_module": "@jupyter-widgets/base",
      "model_module_version": "1.1.0",
      "model_name": "LayoutModel",
      "state": {
       "width": "250px"
      }
     },
     "a76e0a4065c04fea81b34d83dc9d50e0": {
      "model_module": "@jupyter-widgets/controls",
      "model_module_version": "1.4.0",
      "model_name": "DescriptionStyleModel",
      "state": {
       "description_width": ""
      }
     },
     "a7a2ce9258b546df97e8e11f291e9483": {
      "model_module": "@jupyter-widgets/base",
      "model_module_version": "1.1.0",
      "model_name": "LayoutModel",
      "state": {
       "justify_content": "center"
      }
     },
     "a7d3aeae8ceb4aa99543d9f89dcf55ae": {
      "model_module": "@jupyter-widgets/base",
      "model_module_version": "1.1.0",
      "model_name": "LayoutModel",
      "state": {}
     },
     "a7f270ec1eb54a47a55c83911225c8da": {
      "model_module": "@jupyter-widgets/controls",
      "model_module_version": "1.4.0",
      "model_name": "ButtonStyleModel",
      "state": {}
     },
     "a85ce85cbb7f48c291e71e289001992d": {
      "model_module": "@jupyter-widgets/base",
      "model_module_version": "1.1.0",
      "model_name": "LayoutModel",
      "state": {
       "width": "250px"
      }
     },
     "a87492caaf0847ab9e3afe90ec98fb66": {
      "model_module": "@jupyter-widgets/base",
      "model_module_version": "1.1.0",
      "model_name": "LayoutModel",
      "state": {
       "width": "250px"
      }
     },
     "a892d85da27a47d79dadb5d422563ee0": {
      "model_module": "@jupyter-widgets/controls",
      "model_module_version": "1.4.0",
      "model_name": "ButtonStyleModel",
      "state": {}
     },
     "a92dc6938c534d438bf40ee6b03abb63": {
      "model_module": "@jupyter-widgets/controls",
      "model_module_version": "1.4.0",
      "model_name": "VBoxModel",
      "state": {
       "children": [
        "IPY_MODEL_07bb6fc0e68d47ffab38e0f6500f26ee",
        "IPY_MODEL_d4624340e2f14f5fa7d598e18d5daa4b",
        "IPY_MODEL_f979634b494a4d138f34eeb51540fcde",
        "IPY_MODEL_10efe42361f94a50bba403b3d491fb50",
        "IPY_MODEL_8787d793fc8c4ed983c434558639336f"
       ],
       "layout": "IPY_MODEL_83d1b313544e4430b00b1d3b67b37d8a"
      }
     },
     "a935d573dd6644b894b1f9e94307a10c": {
      "model_module": "@jupyter-widgets/base",
      "model_module_version": "1.1.0",
      "model_name": "LayoutModel",
      "state": {}
     },
     "a9d68edd3b974c329561fc9b5c673ab4": {
      "model_module": "@jupyter-widgets/base",
      "model_module_version": "1.1.0",
      "model_name": "LayoutModel",
      "state": {
       "width": "250px"
      }
     },
     "a9dc576f80ec483094acd49460e77ab6": {
      "model_module": "@jupyter-widgets/controls",
      "model_module_version": "1.4.0",
      "model_name": "HTMLModel",
      "state": {
       "layout": "IPY_MODEL_2485c743cb1643b8a5b5e7421a4b947d",
       "style": "IPY_MODEL_16cbcddbb6db4deb9f839b703d4c86a0",
       "value": "<h4 style=\"font-size:14px;\">Um welchen Parser handelt es sich?</h4>"
      }
     },
     "aa8ba656dc594ea5a28406d42abfdc39": {
      "model_module": "@jupyter-widgets/base",
      "model_module_version": "1.1.0",
      "model_name": "LayoutModel",
      "state": {
       "width": "250px"
      }
     },
     "ab4fa29208384fef922e9318b123606f": {
      "model_module": "@jupyter-widgets/controls",
      "model_module_version": "1.4.0",
      "model_name": "HTMLModel",
      "state": {
       "layout": "IPY_MODEL_8b16ff79a657446f9703599469c089ad",
       "style": "IPY_MODEL_d48c3486a7de4982a9fab4e84c5ecbca",
       "value": "<i>Wählen Sie die <ins>eine</ins> korrekte Antwort aus: </i>"
      }
     },
     "ab7aa0798aba4e00a92c360473edfedd": {
      "model_module": "@jupyter-widgets/controls",
      "model_module_version": "1.4.0",
      "model_name": "HBoxModel",
      "state": {
       "children": [
        "IPY_MODEL_0544ab4181fd406bbe89d66eae9b9366",
        "IPY_MODEL_453cc3adccf5490ab218094918b41129"
       ],
       "layout": "IPY_MODEL_77e36d0f8ddf473587231935dab15683"
      }
     },
     "ab8f2d3e6cdf426bb914644e4288071b": {
      "model_module": "@jupyter-widgets/base",
      "model_module_version": "1.1.0",
      "model_name": "LayoutModel",
      "state": {}
     },
     "abd95d6b415e485b90de8968676206d8": {
      "model_module": "@jupyter-widgets/controls",
      "model_module_version": "1.4.0",
      "model_name": "ButtonModel",
      "state": {
       "description": "Shift Reduce",
       "layout": "IPY_MODEL_5d1a5c36c732463aadc39bef280b8cb9",
       "style": "IPY_MODEL_928a60f7004b4b8a8c6131f16c5fa367"
      }
     },
     "abe01a9e0c9b44e798dd9207ff535c91": {
      "model_module": "@jupyter-widgets/base",
      "model_module_version": "1.1.0",
      "model_name": "LayoutModel",
      "state": {
       "justify_content": "center"
      }
     },
     "ac4fb6f3706f44bda59c2dad1d7252b7": {
      "model_module": "@jupyter-widgets/base",
      "model_module_version": "1.1.0",
      "model_name": "LayoutModel",
      "state": {
       "width": "250px"
      }
     },
     "ac524e473b0f441b9b0ccdf944ba4972": {
      "model_module": "@jupyter-widgets/base",
      "model_module_version": "1.1.0",
      "model_name": "LayoutModel",
      "state": {
       "width": "250px"
      }
     },
     "acfb44cc91b64cfa977ce790dcf5ff7d": {
      "model_module": "@jupyter-widgets/controls",
      "model_module_version": "1.4.0",
      "model_name": "ButtonModel",
      "state": {
       "description": "Recusive Descent",
       "layout": "IPY_MODEL_2c3c1391583f47fc8449e87077e68b98",
       "style": "IPY_MODEL_56c82376bc7246aaabbea17f8369b1cd"
      }
     },
     "ad1301f27d944070be6567163421da0b": {
      "model_module": "@jupyter-widgets/controls",
      "model_module_version": "1.4.0",
      "model_name": "ButtonModel",
      "state": {
       "description": "Reduce",
       "layout": "IPY_MODEL_ebacfb74bd844e4c8eaaada900f4f6df",
       "style": "IPY_MODEL_232b7d803247489593f22c88cd653aac"
      }
     },
     "ad306a1166a94cf98dd43db27cbaf6ae": {
      "model_module": "@jupyter-widgets/base",
      "model_module_version": "1.1.0",
      "model_name": "LayoutModel",
      "state": {
       "width": "600px"
      }
     },
     "ad5650b0ffaf460a8eb10f322a91b568": {
      "model_module": "@jupyter-widgets/base",
      "model_module_version": "1.1.0",
      "model_name": "LayoutModel",
      "state": {}
     },
     "ae4990f8298046888b5a65bc75b432e3": {
      "model_module": "@jupyter-widgets/base",
      "model_module_version": "1.1.0",
      "model_name": "LayoutModel",
      "state": {
       "width": "250px"
      }
     },
     "ae607c8bb542474798079836042d1131": {
      "model_module": "@jupyter-widgets/controls",
      "model_module_version": "1.4.0",
      "model_name": "DescriptionStyleModel",
      "state": {
       "description_width": ""
      }
     },
     "aed46a3762d8481285cc830f2ad86d79": {
      "model_module": "@jupyter-widgets/controls",
      "model_module_version": "1.4.0",
      "model_name": "ButtonModel",
      "state": {
       "description": "Reduce",
       "layout": "IPY_MODEL_f11fecda7d81429aafb9b9a0771af2e7",
       "style": "IPY_MODEL_a287849fcf554b7ea07b041dbd8fe500"
      }
     },
     "aef30b23b82b4d9c9b6f49c5bb6b5ff6": {
      "model_module": "@jupyter-widgets/controls",
      "model_module_version": "1.4.0",
      "model_name": "HBoxModel",
      "state": {
       "children": [
        "IPY_MODEL_2b17120774794e0eaab17f809b1c580b",
        "IPY_MODEL_1c886070f5674611b45edc4e1465849c"
       ],
       "layout": "IPY_MODEL_1092de54526649cebcb2865189f4520d"
      }
     },
     "af0984beac674915bba27238d1de42bf": {
      "model_module": "@jupyter-widgets/controls",
      "model_module_version": "1.4.0",
      "model_name": "ButtonModel",
      "state": {
       "description": "Shift",
       "layout": "IPY_MODEL_27a87ddc54f841778d3d6cf236ecb420",
       "style": "IPY_MODEL_82bc8b28d65b45a0baf930f2d132dac3"
      }
     },
     "af7adb1e17624fb5bca1110fcd15dddb": {
      "model_module": "@jupyter-widgets/base",
      "model_module_version": "1.1.0",
      "model_name": "LayoutModel",
      "state": {}
     },
     "afb30ea09782449f8fbb89792e343653": {
      "model_module": "@jupyter-widgets/controls",
      "model_module_version": "1.4.0",
      "model_name": "ButtonModel",
      "state": {
       "description": "Complete",
       "layout": "IPY_MODEL_44c43a3b12394d81b9b8cb496498e741",
       "style": "IPY_MODEL_78a4eaafa04b4ea5b160c6e5f9bbbeac"
      }
     },
     "b0b08e5cf937465cbc9bb6bc34e44136": {
      "model_module": "@jupyter-widgets/base",
      "model_module_version": "1.1.0",
      "model_name": "LayoutModel",
      "state": {}
     },
     "b0dff703c6864b9aa8474f6887814380": {
      "model_module": "@jupyter-widgets/base",
      "model_module_version": "1.1.0",
      "model_name": "LayoutModel",
      "state": {
       "justify_content": "center"
      }
     },
     "b0e72f50a74b4727a2362dd435d7742e": {
      "model_module": "@jupyter-widgets/controls",
      "model_module_version": "1.4.0",
      "model_name": "HBoxModel",
      "state": {
       "children": [
        "IPY_MODEL_a0c2bc8f067b4307bf9731c8aadc4301",
        "IPY_MODEL_7489ccb8d10f40938a24d41c2388403e"
       ],
       "layout": "IPY_MODEL_819500e9c89b4b5fb8746413b13d1729"
      }
     },
     "b164c46d100f41f4876a9ffacd8778ce": {
      "model_module": "@jupyter-widgets/base",
      "model_module_version": "1.1.0",
      "model_name": "LayoutModel",
      "state": {
       "width": "600px"
      }
     },
     "b2fbd3701e144bffa00d9a287a9532f2": {
      "model_module": "@jupyter-widgets/base",
      "model_module_version": "1.1.0",
      "model_name": "LayoutModel",
      "state": {
       "width": "250px"
      }
     },
     "b329912aaf4e4a99b3fc8a3da1fcf5a0": {
      "model_module": "@jupyter-widgets/base",
      "model_module_version": "1.1.0",
      "model_name": "LayoutModel",
      "state": {}
     },
     "b35543383c104849bf65eaa1be92f967": {
      "model_module": "@jupyter-widgets/controls",
      "model_module_version": "1.4.0",
      "model_name": "ButtonStyleModel",
      "state": {}
     },
     "b405bc56831c478692ebed4b356b0043": {
      "model_module": "@jupyter-widgets/controls",
      "model_module_version": "1.4.0",
      "model_name": "DescriptionStyleModel",
      "state": {
       "description_width": ""
      }
     },
     "b46fd3fe3e49493a8a104d95ba09bcc6": {
      "model_module": "@jupyter-widgets/controls",
      "model_module_version": "1.4.0",
      "model_name": "ButtonModel",
      "state": {
       "description": "Reduce",
       "layout": "IPY_MODEL_90cc47f15ae5403595cd7bdfdf8f9027",
       "style": "IPY_MODEL_0d40d129807745dbad773237652cf0f0"
      }
     },
     "b48165fb26b34b7ea46e90e377ac5a96": {
      "model_module": "@jupyter-widgets/controls",
      "model_module_version": "1.4.0",
      "model_name": "ButtonStyleModel",
      "state": {}
     },
     "b4b81d5bcdc94e45924f89a79cf18571": {
      "model_module": "@jupyter-widgets/base",
      "model_module_version": "1.1.0",
      "model_name": "LayoutModel",
      "state": {
       "width": "600px"
      }
     },
     "b54e09df8026452799fd0a06ecd96b95": {
      "model_module": "@jupyter-widgets/controls",
      "model_module_version": "1.4.0",
      "model_name": "HTMLModel",
      "state": {
       "layout": "IPY_MODEL_ce6fc230277142c89a5e428efc827e20",
       "style": "IPY_MODEL_fd5b8031066347d2a7934c86fea02ce5",
       "value": "<i>Wählen Sie die <ins>eine</ins> korrekte Antwort aus: </i>"
      }
     },
     "b593db63a3134319832303759df33b9b": {
      "model_module": "@jupyter-widgets/controls",
      "model_module_version": "1.4.0",
      "model_name": "HBoxModel",
      "state": {
       "children": [
        "IPY_MODEL_c7a4c10a6c1e4621ba892d5dee333003",
        "IPY_MODEL_ad1301f27d944070be6567163421da0b"
       ],
       "layout": "IPY_MODEL_5b886c45237748f1bce61af37ee0db79"
      }
     },
     "b595a8f9b7984be3a9cfc824dd6e3d7c": {
      "model_module": "@jupyter-widgets/base",
      "model_module_version": "1.1.0",
      "model_name": "LayoutModel",
      "state": {
       "width": "250px"
      }
     },
     "b6035766694a41f1aa838aec6737e0dd": {
      "model_module": "@jupyter-widgets/controls",
      "model_module_version": "1.4.0",
      "model_name": "ButtonStyleModel",
      "state": {}
     },
     "b64ac8920d8f40b6802829b9f47de053": {
      "model_module": "@jupyter-widgets/base",
      "model_module_version": "1.1.0",
      "model_name": "LayoutModel",
      "state": {
       "width": "250px"
      }
     },
     "b692bdd750854397b7134e8bfc32244d": {
      "model_module": "@jupyter-widgets/controls",
      "model_module_version": "1.4.0",
      "model_name": "ButtonStyleModel",
      "state": {}
     },
     "b6d87d54b22a4372a0a78f6079d7ba1b": {
      "model_module": "@jupyter-widgets/controls",
      "model_module_version": "1.4.0",
      "model_name": "DescriptionStyleModel",
      "state": {
       "description_width": ""
      }
     },
     "b6e92764f7bc47de9089d88eb23434c2": {
      "model_module": "@jupyter-widgets/base",
      "model_module_version": "1.1.0",
      "model_name": "LayoutModel",
      "state": {
       "width": "600px"
      }
     },
     "b7108ea320b6411299cba9287724f112": {
      "model_module": "@jupyter-widgets/controls",
      "model_module_version": "1.4.0",
      "model_name": "ButtonStyleModel",
      "state": {}
     },
     "b79fa99457be4122996a1675adacbeca": {
      "model_module": "@jupyter-widgets/controls",
      "model_module_version": "1.4.0",
      "model_name": "ButtonModel",
      "state": {
       "description": "Scan",
       "layout": "IPY_MODEL_c10f2f8396fd4b6daf36a328e831dcd3",
       "style": "IPY_MODEL_b7108ea320b6411299cba9287724f112"
      }
     },
     "b81b949d16b34eda9d94d03ed81c7700": {
      "model_module": "@jupyter-widgets/base",
      "model_module_version": "1.1.0",
      "model_name": "LayoutModel",
      "state": {
       "width": "250px"
      }
     },
     "b9605fdb92a74144bb3a3634eb33252a": {
      "model_module": "@jupyter-widgets/base",
      "model_module_version": "1.1.0",
      "model_name": "LayoutModel",
      "state": {
       "width": "250px"
      }
     },
     "b9da1d9668484912abde80cab6b9e099": {
      "model_module": "@jupyter-widgets/controls",
      "model_module_version": "1.4.0",
      "model_name": "VBoxModel",
      "state": {
       "children": [
        "IPY_MODEL_8c0982609f384e7eb91c2d3aa8e81e25",
        "IPY_MODEL_7353363562ec4de29f3f26848c05e847",
        "IPY_MODEL_72dcbc8b9d444893958111366cfa1f36",
        "IPY_MODEL_55232b6df6fb4040b7bf7c627d4c28b6",
        "IPY_MODEL_63212d36071449b7815d49b4fcfbf8b7"
       ],
       "layout": "IPY_MODEL_a573a4db81bb4a01a5539674ee926b86"
      }
     },
     "baa9cf7d5e864e5db9af4518c2d5cb3d": {
      "model_module": "@jupyter-widgets/base",
      "model_module_version": "1.1.0",
      "model_name": "LayoutModel",
      "state": {}
     },
     "bb0f950bf5084b16aca62008be0edcc8": {
      "model_module": "@jupyter-widgets/base",
      "model_module_version": "1.1.0",
      "model_name": "LayoutModel",
      "state": {
       "width": "250px"
      }
     },
     "bb61264bbaf74de2a840b9a80bb88d70": {
      "model_module": "@jupyter-widgets/controls",
      "model_module_version": "1.4.0",
      "model_name": "HBoxModel",
      "state": {
       "children": [
        "IPY_MODEL_8a2a95185d974720b31a520b23b35ed8",
        "IPY_MODEL_d8100f0213464957bd57a57b1f5e0b0d"
       ],
       "layout": "IPY_MODEL_a4c0447a8da643208069a42fbb34ea31"
      }
     },
     "bb752a159a9e4aca9736657e88e1946b": {
      "model_module": "@jupyter-widgets/controls",
      "model_module_version": "1.4.0",
      "model_name": "HBoxModel",
      "state": {
       "children": [
        "IPY_MODEL_35a881aef81b4f2a8fbcd7549b034fe4"
       ],
       "layout": "IPY_MODEL_46419f5227eb490796847a7675b2b5c0"
      }
     },
     "bc2f83395a7142feb421f5839cef0e37": {
      "model_module": "@jupyter-widgets/controls",
      "model_module_version": "1.4.0",
      "model_name": "CheckboxModel",
      "state": {
       "description": "Complete",
       "disabled": false,
       "layout": "IPY_MODEL_657e4fecbe7248b1b16ebe94fb045724",
       "style": "IPY_MODEL_27d0c310717746efa634fce1808eb983",
       "value": false
      }
     },
     "bc6cd3974be84059acd82f7af829b7e0": {
      "model_module": "@jupyter-widgets/controls",
      "model_module_version": "1.4.0",
      "model_name": "ButtonStyleModel",
      "state": {}
     },
     "be400e12a5e7428b87ee297b80fa2727": {
      "model_module": "@jupyter-widgets/controls",
      "model_module_version": "1.4.0",
      "model_name": "ButtonStyleModel",
      "state": {}
     },
     "be5e37abe1f04a90a5ce07164e907566": {
      "model_module": "@jupyter-widgets/controls",
      "model_module_version": "1.4.0",
      "model_name": "ButtonModel",
      "state": {
       "description": "Reduce",
       "layout": "IPY_MODEL_a87492caaf0847ab9e3afe90ec98fb66",
       "style": "IPY_MODEL_7b3059af11c44bdf9099528c13ff985c"
      }
     },
     "be84c57fef9f4af89a8cf09e73122e51": {
      "model_module": "@jupyter-widgets/controls",
      "model_module_version": "1.4.0",
      "model_name": "HBoxModel",
      "state": {
       "children": [
        "IPY_MODEL_da3b8a5d31534311bb2051d867e208ff"
       ],
       "layout": "IPY_MODEL_0e135386d0df464696bd8ec420463b0e"
      }
     },
     "bf1eb27ce5344520bf764e99bacb8f8c": {
      "model_module": "@jupyter-widgets/controls",
      "model_module_version": "1.4.0",
      "model_name": "HTMLModel",
      "state": {
       "layout": "IPY_MODEL_2d80349c609f426b8520ecf62b793c41",
       "style": "IPY_MODEL_40a61126e7fd4e4ba9acf09f6aea22b1",
       "value": "<h4 style=\"font-size:14px;\">Welche Operation folgt als nächstes?</h4>"
      }
     },
     "bf6d936a52824d58a5c2fa413a5a6293": {
      "model_module": "@jupyter-widgets/controls",
      "model_module_version": "1.4.0",
      "model_name": "ButtonStyleModel",
      "state": {}
     },
     "bf80afd1c9d847c793fc33171d903006": {
      "model_module": "@jupyter-widgets/controls",
      "model_module_version": "1.4.0",
      "model_name": "DescriptionStyleModel",
      "state": {
       "description_width": ""
      }
     },
     "bfa39c509d1b4a35afbf6f876c25f856": {
      "model_module": "@jupyter-widgets/controls",
      "model_module_version": "1.4.0",
      "model_name": "HBoxModel",
      "state": {
       "children": [
        "IPY_MODEL_f8691f870c474a788479362039740a65",
        "IPY_MODEL_b46fd3fe3e49493a8a104d95ba09bcc6"
       ],
       "layout": "IPY_MODEL_5a2e18cb8bc24f08a7487f1f82325b24"
      }
     },
     "c01b3d6b9827413eb70de799f4e51261": {
      "model_module": "@jupyter-widgets/controls",
      "model_module_version": "1.4.0",
      "model_name": "ButtonStyleModel",
      "state": {}
     },
     "c0449cec717f452c99cd2e1710718ec5": {
      "model_module": "@jupyter-widgets/base",
      "model_module_version": "1.1.0",
      "model_name": "LayoutModel",
      "state": {}
     },
     "c0aabfd01f8c4f84a5ea476fa93f732c": {
      "model_module": "@jupyter-widgets/controls",
      "model_module_version": "1.4.0",
      "model_name": "ButtonStyleModel",
      "state": {}
     },
     "c10f2f8396fd4b6daf36a328e831dcd3": {
      "model_module": "@jupyter-widgets/base",
      "model_module_version": "1.1.0",
      "model_name": "LayoutModel",
      "state": {
       "width": "250px"
      }
     },
     "c157dbf7c9cf45cf8f16f5780d29cb6a": {
      "model_module": "@jupyter-widgets/base",
      "model_module_version": "1.1.0",
      "model_name": "LayoutModel",
      "state": {}
     },
     "c24bc73e26db414ebe77921e62854ec9": {
      "model_module": "@jupyter-widgets/controls",
      "model_module_version": "1.4.0",
      "model_name": "ButtonModel",
      "state": {
       "description": "Scan",
       "layout": "IPY_MODEL_c6b3e325dc194051b215fe69e42bee52",
       "style": "IPY_MODEL_64805f1c1c3c412e81267343fe1e3d95"
      }
     },
     "c2ff1a6a6c2c48029130eb0a01fde6c5": {
      "model_module": "@jupyter-widgets/base",
      "model_module_version": "1.1.0",
      "model_name": "LayoutModel",
      "state": {
       "width": "250px"
      }
     },
     "c32e63ac6c824c7188258f2b4fcbe161": {
      "model_module": "@jupyter-widgets/controls",
      "model_module_version": "1.4.0",
      "model_name": "ButtonModel",
      "state": {
       "description": "Reduce",
       "layout": "IPY_MODEL_b9605fdb92a74144bb3a3634eb33252a",
       "style": "IPY_MODEL_2104f81b072048e1ab725637641f972a"
      }
     },
     "c4146829867c44d7999d84e530ff5026": {
      "model_module": "@jupyter-widgets/controls",
      "model_module_version": "1.4.0",
      "model_name": "ButtonStyleModel",
      "state": {}
     },
     "c45802a923c941118190083f57af103c": {
      "model_module": "@jupyter-widgets/base",
      "model_module_version": "1.1.0",
      "model_name": "LayoutModel",
      "state": {}
     },
     "c488c61404194deba1514919a7e70555": {
      "model_module": "@jupyter-widgets/controls",
      "model_module_version": "1.4.0",
      "model_name": "CheckboxModel",
      "state": {
       "description": "Scan",
       "disabled": false,
       "layout": "IPY_MODEL_22ec238fb2f64795a03d977c5db8c88b",
       "style": "IPY_MODEL_f0b9252a8ac94f28949dd5797fec1082",
       "value": false
      }
     },
     "c52b7a89fbab4b87859772cc0e254ede": {
      "model_module": "@jupyter-widgets/base",
      "model_module_version": "1.1.0",
      "model_name": "LayoutModel",
      "state": {}
     },
     "c561c23c337c4955b3fc1b0addef3844": {
      "model_module": "@jupyter-widgets/controls",
      "model_module_version": "1.4.0",
      "model_name": "VBoxModel",
      "state": {
       "children": [
        "IPY_MODEL_3695c0bd1e964a9ab0e1b7c88a716e53",
        "IPY_MODEL_1abd2512b0d54f1c9b27bdad301b72bb",
        "IPY_MODEL_7294f90c06e647168e6ad07f899a59f9",
        "IPY_MODEL_fd100c3c6e3f4a8f8efea2f3c2f36468"
       ],
       "layout": "IPY_MODEL_b329912aaf4e4a99b3fc8a3da1fcf5a0"
      }
     },
     "c577def9ada2437581f73ce2b4765dd7": {
      "model_module": "@jupyter-widgets/controls",
      "model_module_version": "1.4.0",
      "model_name": "ButtonStyleModel",
      "state": {}
     },
     "c5e2d3e96d604014af6d9f337f767f22": {
      "model_module": "@jupyter-widgets/controls",
      "model_module_version": "1.4.0",
      "model_name": "DescriptionStyleModel",
      "state": {
       "description_width": ""
      }
     },
     "c5f0a3087fc1434eacf65e8b9ebab9a1": {
      "model_module": "@jupyter-widgets/controls",
      "model_module_version": "1.4.0",
      "model_name": "ButtonStyleModel",
      "state": {}
     },
     "c64b4d94ad5b46f481f143547682bd14": {
      "model_module": "@jupyter-widgets/controls",
      "model_module_version": "1.4.0",
      "model_name": "DescriptionStyleModel",
      "state": {
       "description_width": ""
      }
     },
     "c6b3e325dc194051b215fe69e42bee52": {
      "model_module": "@jupyter-widgets/base",
      "model_module_version": "1.1.0",
      "model_name": "LayoutModel",
      "state": {
       "width": "250px"
      }
     },
     "c6ddd4f9de0d436c936d01e00c04b468": {
      "model_module": "@jupyter-widgets/controls",
      "model_module_version": "1.4.0",
      "model_name": "HBoxModel",
      "state": {
       "children": [
        "IPY_MODEL_ce09e64828be46f39407cddb93c1a931",
        "IPY_MODEL_083079dc019d4a668e2c0a87a8dc4396"
       ],
       "layout": "IPY_MODEL_ad5650b0ffaf460a8eb10f322a91b568"
      }
     },
     "c712401ef2114537aacf77f04b2d7f62": {
      "model_module": "@jupyter-widgets/base",
      "model_module_version": "1.1.0",
      "model_name": "LayoutModel",
      "state": {
       "width": "250px"
      }
     },
     "c738b2027883428e8b2831c897d5b169": {
      "model_module": "@jupyter-widgets/controls",
      "model_module_version": "1.4.0",
      "model_name": "CheckboxModel",
      "state": {
       "description": "Predict",
       "disabled": false,
       "layout": "IPY_MODEL_1b575f1acf5348e8ad23c4fc510edb6d",
       "style": "IPY_MODEL_0bfbdfd3dd4547e0b332771a95dd0065",
       "value": false
      }
     },
     "c7541f466dde4cd9a08bacf99d06a0cf": {
      "model_module": "@jupyter-widgets/controls",
      "model_module_version": "1.4.0",
      "model_name": "VBoxModel",
      "state": {
       "children": [
        "IPY_MODEL_5b0f1e9e88e141f78246f9045b43f6a1",
        "IPY_MODEL_9f60d9c25a8f48ec803d25dd8a500075",
        "IPY_MODEL_cfa131c02c7b48da9dd4ebcb28d3d450",
        "IPY_MODEL_0a7b8003476c4cbf9010dcf5e7cf09f3",
        "IPY_MODEL_4490b029e8954dd0988ef8149dfc7be5"
       ],
       "layout": "IPY_MODEL_f2303c7e9f1a40a89258f9e3f331de6b"
      }
     },
     "c7a4c10a6c1e4621ba892d5dee333003": {
      "model_module": "@jupyter-widgets/controls",
      "model_module_version": "1.4.0",
      "model_name": "ButtonModel",
      "state": {
       "description": "Predict",
       "layout": "IPY_MODEL_6dcc0699bda64cc2b31d1a564c103ba9",
       "style": "IPY_MODEL_d09f15775a824b76ab42668a2777b661"
      }
     },
     "c7ada5cefe6b479baff1391b9e369288": {
      "model_module": "@jupyter-widgets/controls",
      "model_module_version": "1.4.0",
      "model_name": "VBoxModel",
      "state": {
       "children": [
        "IPY_MODEL_a9dc576f80ec483094acd49460e77ab6",
        "IPY_MODEL_3d074cbd85f5475f8ec3a7471bd9ffcf",
        "IPY_MODEL_2a4dc81c6db1441d9c00321bc55af4e9",
        "IPY_MODEL_935f60ab27254480a7fc4a6cf35d3fe5"
       ],
       "layout": "IPY_MODEL_af7adb1e17624fb5bca1110fcd15dddb"
      }
     },
     "c7da505ac21f45a48ec021512b13591f": {
      "model_module": "@jupyter-widgets/base",
      "model_module_version": "1.1.0",
      "model_name": "LayoutModel",
      "state": {
       "width": "250px"
      }
     },
     "c801555dca7c42bca4cb2553b86f1423": {
      "model_module": "@jupyter-widgets/base",
      "model_module_version": "1.1.0",
      "model_name": "LayoutModel",
      "state": {}
     },
     "c94cc345cba348e4a9071f3ed9e51e0d": {
      "model_module": "@jupyter-widgets/controls",
      "model_module_version": "1.4.0",
      "model_name": "HTMLModel",
      "state": {
       "layout": "IPY_MODEL_da94a8e4288b47fea807d440b7e2b0d1",
       "style": "IPY_MODEL_f5bb31fdc92a4182908745dc4d25a882",
       "value": "<h4 style=\"font-size:14px;\">Um welchen Parser handelt es sich?</h4>"
      }
     },
     "c95ca3a761394f23b5e730176ccefd3e": {
      "model_module": "@jupyter-widgets/controls",
      "model_module_version": "1.4.0",
      "model_name": "HBoxModel",
      "state": {
       "children": [
        "IPY_MODEL_e41b751e91414a6c86416a2dc956e98c",
        "IPY_MODEL_622d4ebb502344868f5ab3cc585c342f"
       ],
       "layout": "IPY_MODEL_4a8bbbf4ae384914ad090938f74447a2"
      }
     },
     "ca2e2331f232497a8fec077f97d5ce44": {
      "model_module": "@jupyter-widgets/controls",
      "model_module_version": "1.4.0",
      "model_name": "DescriptionStyleModel",
      "state": {
       "description_width": ""
      }
     },
     "cad4ac1341364cc69c90d8f0f7b6594c": {
      "model_module": "@jupyter-widgets/controls",
      "model_module_version": "1.4.0",
      "model_name": "HTMLModel",
      "state": {
       "layout": "IPY_MODEL_447949eae8114bc18a86b2754e580906",
       "style": "IPY_MODEL_3ce83d05eff14ee3a318f38e6e5f5e7b",
       "value": "<i>Wählen Sie die <ins>eine</ins> korrekte Antwort aus: </i>"
      }
     },
     "caea34a58f6d4adc80e0a28e941a327b": {
      "model_module": "@jupyter-widgets/base",
      "model_module_version": "1.1.0",
      "model_name": "LayoutModel",
      "state": {}
     },
     "cb37cfb93d854f4392c129098aa88fa4": {
      "model_module": "@jupyter-widgets/controls",
      "model_module_version": "1.4.0",
      "model_name": "ButtonModel",
      "state": {
       "description": "Predict",
       "layout": "IPY_MODEL_a38634c60c9a4b6aa42c9b00e807f400",
       "style": "IPY_MODEL_4ea03b40591240c3b38abe74b9066dce"
      }
     },
     "cc35acb3e78341ff93bca6d3a190f3a6": {
      "model_module": "@jupyter-widgets/controls",
      "model_module_version": "1.4.0",
      "model_name": "ButtonModel",
      "state": {
       "description": "Complete",
       "layout": "IPY_MODEL_55154884bdc1403aa33846ef521103e2",
       "style": "IPY_MODEL_c577def9ada2437581f73ce2b4765dd7"
      }
     },
     "cc897902c461417b9b26f0ae9df1fc77": {
      "model_module": "@jupyter-widgets/controls",
      "model_module_version": "1.4.0",
      "model_name": "ButtonModel",
      "state": {
       "description": "Complete",
       "layout": "IPY_MODEL_bb0f950bf5084b16aca62008be0edcc8",
       "style": "IPY_MODEL_121868b4411b47d29a613c6b710b6798"
      }
     },
     "ccfa8919227f4c6fb4d12a1e723262a5": {
      "model_module": "@jupyter-widgets/base",
      "model_module_version": "1.1.0",
      "model_name": "LayoutModel",
      "state": {}
     },
     "cd33822c22d14fdaa714e6e87e677d29": {
      "model_module": "@jupyter-widgets/base",
      "model_module_version": "1.1.0",
      "model_name": "LayoutModel",
      "state": {}
     },
     "cdec5f0d8f2c4b57b541b4ca790146b8": {
      "model_module": "@jupyter-widgets/base",
      "model_module_version": "1.1.0",
      "model_name": "LayoutModel",
      "state": {
       "width": "250px"
      }
     },
     "cdf63774abb940b58746c8095b4ff1a8": {
      "model_module": "@jupyter-widgets/base",
      "model_module_version": "1.1.0",
      "model_name": "LayoutModel",
      "state": {
       "width": "250px"
      }
     },
     "ce09e64828be46f39407cddb93c1a931": {
      "model_module": "@jupyter-widgets/controls",
      "model_module_version": "1.4.0",
      "model_name": "ButtonModel",
      "state": {
       "description": "Scan",
       "layout": "IPY_MODEL_fdb835a4024e4bf68d0a1e87c01f3b38",
       "style": "IPY_MODEL_9ddeed99d1aa495389dfd44c5ae1f305"
      }
     },
     "ce6fc230277142c89a5e428efc827e20": {
      "model_module": "@jupyter-widgets/base",
      "model_module_version": "1.1.0",
      "model_name": "LayoutModel",
      "state": {
       "justify_content": "center"
      }
     },
     "ce9b27e8648a4053aa0b3aa61b79a767": {
      "model_module": "@jupyter-widgets/controls",
      "model_module_version": "1.4.0",
      "model_name": "ButtonStyleModel",
      "state": {}
     },
     "ceedd677e40d4ea996a08fa2071dd4e1": {
      "model_module": "@jupyter-widgets/controls",
      "model_module_version": "1.4.0",
      "model_name": "HBoxModel",
      "state": {
       "children": [
        "IPY_MODEL_94ce1dfbf0aa4f9081b8e5b81c1033e4",
        "IPY_MODEL_13e540d321e9468d8aa11be42bae9308"
       ],
       "layout": "IPY_MODEL_a55a763edd4f4e4e9714223079535130"
      }
     },
     "cf4269321faa4d37bea3d5380f17b886": {
      "model_module": "@jupyter-widgets/controls",
      "model_module_version": "1.4.0",
      "model_name": "ButtonStyleModel",
      "state": {}
     },
     "cfa131c02c7b48da9dd4ebcb28d3d450": {
      "model_module": "@jupyter-widgets/controls",
      "model_module_version": "1.4.0",
      "model_name": "HBoxModel",
      "state": {
       "children": [
        "IPY_MODEL_0f49ededc34645fcb6203c9fc19f439e",
        "IPY_MODEL_85b2fab6119c473483dba2e8d9055f46"
       ],
       "layout": "IPY_MODEL_3620b2a42c4d46c489870e04a11364f1"
      }
     },
     "cff674f8852947deae6c786aadf2c0c1": {
      "model_module": "@jupyter-widgets/controls",
      "model_module_version": "1.4.0",
      "model_name": "VBoxModel",
      "state": {
       "children": [
        "IPY_MODEL_ef36f6b4e9464070bd8bddf06cdcd9b6",
        "IPY_MODEL_e90761e069c34cb6b74ffa19599042d4",
        "IPY_MODEL_a1c0ade981654dc5948adeb7f9a6a339",
        "IPY_MODEL_592e6f0ca146439a924352d935800c45",
        "IPY_MODEL_839fd41f810d4803bd820e9427a4672d"
       ],
       "layout": "IPY_MODEL_a1dbdebc6b494ef49dcb6a6c9184d9d3"
      }
     },
     "d09f15775a824b76ab42668a2777b661": {
      "model_module": "@jupyter-widgets/controls",
      "model_module_version": "1.4.0",
      "model_name": "ButtonStyleModel",
      "state": {}
     },
     "d0d2f63b82ed466a8e943c5f5993445b": {
      "model_module": "@jupyter-widgets/base",
      "model_module_version": "1.1.0",
      "model_name": "LayoutModel",
      "state": {}
     },
     "d0ff55aae19c40fbb211075316117858": {
      "model_module": "@jupyter-widgets/base",
      "model_module_version": "1.1.0",
      "model_name": "LayoutModel",
      "state": {}
     },
     "d212bb6ddb5e4437a59108a4b8a74dd2": {
      "model_module": "@jupyter-widgets/controls",
      "model_module_version": "1.4.0",
      "model_name": "ButtonModel",
      "state": {
       "description": "Predict",
       "layout": "IPY_MODEL_fd77bdc3fb5d4589a26b2d1236289bc9",
       "style": "IPY_MODEL_a589f368d8bd4c80abb8b97a4f0a4bcd"
      }
     },
     "d21c4d5a7e9242789d785c7f93e4d399": {
      "model_module": "@jupyter-widgets/controls",
      "model_module_version": "1.4.0",
      "model_name": "ButtonModel",
      "state": {
       "description": "Complete",
       "layout": "IPY_MODEL_76acbdd35605498d948378f641760e34",
       "style": "IPY_MODEL_bf6d936a52824d58a5c2fa413a5a6293"
      }
     },
     "d232c3e5220142158cb51bc2ea42c27a": {
      "model_module": "@jupyter-widgets/base",
      "model_module_version": "1.1.0",
      "model_name": "LayoutModel",
      "state": {
       "width": "250px"
      }
     },
     "d279cf0e17154f618e7558a79c51fee4": {
      "model_module": "@jupyter-widgets/base",
      "model_module_version": "1.1.0",
      "model_name": "LayoutModel",
      "state": {
       "width": "250px"
      }
     },
     "d28cf03c2081440dbe14fd7bb39964cc": {
      "model_module": "@jupyter-widgets/controls",
      "model_module_version": "1.4.0",
      "model_name": "ButtonStyleModel",
      "state": {}
     },
     "d396eb86e76742278589915b53ae69bd": {
      "model_module": "@jupyter-widgets/controls",
      "model_module_version": "1.4.0",
      "model_name": "ButtonStyleModel",
      "state": {}
     },
     "d3aae0c264a943529862e90b0b865f04": {
      "model_module": "@jupyter-widgets/base",
      "model_module_version": "1.1.0",
      "model_name": "LayoutModel",
      "state": {}
     },
     "d40db1ac0ae14824aa8ca92c39283359": {
      "model_module": "@jupyter-widgets/base",
      "model_module_version": "1.1.0",
      "model_name": "LayoutModel",
      "state": {}
     },
     "d416ed6155a24de4a8bb9f89979e45cc": {
      "model_module": "@jupyter-widgets/base",
      "model_module_version": "1.1.0",
      "model_name": "LayoutModel",
      "state": {
       "width": "250px"
      }
     },
     "d4624340e2f14f5fa7d598e18d5daa4b": {
      "model_module": "@jupyter-widgets/controls",
      "model_module_version": "1.4.0",
      "model_name": "HTMLModel",
      "state": {
       "layout": "IPY_MODEL_73849cda1e544cc594f41355c94c9145",
       "style": "IPY_MODEL_3422c4cb612b431a836145722ae60691",
       "value": "<i>Wählen Sie die <ins>eine</ins> korrekte Antwort aus: </i>"
      }
     },
     "d479714b9dda4432972008bbf4b0e7af": {
      "model_module": "@jupyter-widgets/controls",
      "model_module_version": "1.4.0",
      "model_name": "DescriptionStyleModel",
      "state": {
       "description_width": ""
      }
     },
     "d48c3486a7de4982a9fab4e84c5ecbca": {
      "model_module": "@jupyter-widgets/controls",
      "model_module_version": "1.4.0",
      "model_name": "DescriptionStyleModel",
      "state": {
       "description_width": ""
      }
     },
     "d4aaaa336f234b99b045bd1a66cbdd86": {
      "model_module": "@jupyter-widgets/base",
      "model_module_version": "1.1.0",
      "model_name": "LayoutModel",
      "state": {
       "justify_content": "center"
      }
     },
     "d5db993642ef475288860ae9808e81e7": {
      "model_module": "@jupyter-widgets/base",
      "model_module_version": "1.1.0",
      "model_name": "LayoutModel",
      "state": {
       "width": "250px"
      }
     },
     "d7395e138b724af6ae3d6401d624af5a": {
      "model_module": "@jupyter-widgets/controls",
      "model_module_version": "1.4.0",
      "model_name": "DescriptionStyleModel",
      "state": {
       "description_width": ""
      }
     },
     "d771a8e2d78a470ba49d1f50fdabef1e": {
      "model_module": "@jupyter-widgets/controls",
      "model_module_version": "1.4.0",
      "model_name": "ButtonModel",
      "state": {
       "description": "Keine der Alternativen",
       "layout": "IPY_MODEL_c7da505ac21f45a48ec021512b13591f",
       "style": "IPY_MODEL_7cceaaff5ae84237afdc0f842a98b874"
      }
     },
     "d8100f0213464957bd57a57b1f5e0b0d": {
      "model_module": "@jupyter-widgets/controls",
      "model_module_version": "1.4.0",
      "model_name": "ButtonModel",
      "state": {
       "description": "Shift",
       "layout": "IPY_MODEL_ac524e473b0f441b9b0ccdf944ba4972",
       "style": "IPY_MODEL_6bd7cc0130954b3c8dce113b4029f4c0"
      }
     },
     "d8bc7585e8eb4356b196f488ab6a2d22": {
      "model_module": "@jupyter-widgets/controls",
      "model_module_version": "1.4.0",
      "model_name": "ButtonStyleModel",
      "state": {}
     },
     "d9a9bb8fd9644060b631bf51830651c8": {
      "model_module": "@jupyter-widgets/controls",
      "model_module_version": "1.4.0",
      "model_name": "ButtonModel",
      "state": {
       "description": "Earley",
       "layout": "IPY_MODEL_327d9c3c90c64646a8ad987fa321d5af",
       "style": "IPY_MODEL_9ea506ae931e4b5ebdad1ee26d71c6cb"
      }
     },
     "d9da488b70a8441a9f4de09b25086748": {
      "model_module": "@jupyter-widgets/base",
      "model_module_version": "1.1.0",
      "model_name": "LayoutModel",
      "state": {
       "justify_content": "center"
      }
     },
     "da1a9307e6e34a1394384590fe2989ab": {
      "model_module": "@jupyter-widgets/base",
      "model_module_version": "1.1.0",
      "model_name": "LayoutModel",
      "state": {}
     },
     "da2a566479154fffa45eed20664db779": {
      "model_module": "@jupyter-widgets/controls",
      "model_module_version": "1.4.0",
      "model_name": "HBoxModel",
      "state": {
       "children": [
        "IPY_MODEL_0b8bc38ada464905af359f7bc49a9897",
        "IPY_MODEL_496c6218481048d9b3600815b4cc9a02"
       ],
       "layout": "IPY_MODEL_d0d2f63b82ed466a8e943c5f5993445b"
      }
     },
     "da3b8a5d31534311bb2051d867e208ff": {
      "model_module": "@jupyter-widgets/controls",
      "model_module_version": "1.4.0",
      "model_name": "ButtonModel",
      "state": {
       "description": "Shift Reduce",
       "layout": "IPY_MODEL_b64ac8920d8f40b6802829b9f47de053",
       "style": "IPY_MODEL_7aa282ea119240d5b75fa50f6f0498ce"
      }
     },
     "da94a8e4288b47fea807d440b7e2b0d1": {
      "model_module": "@jupyter-widgets/base",
      "model_module_version": "1.1.0",
      "model_name": "LayoutModel",
      "state": {
       "justify_content": "center"
      }
     },
     "daa9a8dd1f4449779f187f545f9d71f8": {
      "model_module": "@jupyter-widgets/base",
      "model_module_version": "1.1.0",
      "model_name": "LayoutModel",
      "state": {
       "width": "250px"
      }
     },
     "db59a7da2d934b36a53614ca76f2e098": {
      "model_module": "@jupyter-widgets/controls",
      "model_module_version": "1.4.0",
      "model_name": "VBoxModel",
      "state": {
       "children": [
        "IPY_MODEL_159679cfa8654178a58b05a8c5b44e75",
        "IPY_MODEL_ab4fa29208384fef922e9318b123606f",
        "IPY_MODEL_ab7aa0798aba4e00a92c360473edfedd",
        "IPY_MODEL_3e52a34686ac4086913edc3e7f73d563",
        "IPY_MODEL_19a78a5f621e4403bed7147c02a0c405"
       ],
       "layout": "IPY_MODEL_4f84ea563cae4e11b0ac782b73398bbe"
      }
     },
     "dc6ae8b4c9364640a7365ebf206c67e0": {
      "model_module": "@jupyter-widgets/controls",
      "model_module_version": "1.4.0",
      "model_name": "ButtonStyleModel",
      "state": {}
     },
     "dca2b09772e94b3f9a0702b72c7d5e0e": {
      "model_module": "@jupyter-widgets/controls",
      "model_module_version": "1.4.0",
      "model_name": "HTMLModel",
      "state": {
       "layout": "IPY_MODEL_c801555dca7c42bca4cb2553b86f1423",
       "style": "IPY_MODEL_7b8a222490f940ad972a758742f74119",
       "value": "<h4 style=\"font-size:14px;\">Welche Operationen hat der Shift Reduce Parser?</h4>"
      }
     },
     "dd1e4a4e3ebb4c489f2a5df9da183882": {
      "model_module": "@jupyter-widgets/controls",
      "model_module_version": "1.4.0",
      "model_name": "HBoxModel",
      "state": {
       "children": [
        "IPY_MODEL_61126926a701471486286cf4915de235",
        "IPY_MODEL_46f7a0534f714463a89eca0be8eb2efb"
       ],
       "layout": "IPY_MODEL_67357725238b434eb52283627ada6a19"
      }
     },
     "de67b15b9d3d456da21bf0dd0926a35e": {
      "model_module": "@jupyter-widgets/controls",
      "model_module_version": "1.4.0",
      "model_name": "DescriptionStyleModel",
      "state": {
       "description_width": ""
      }
     },
     "de6add2a2cf34c0e92edfaf58a30b4af": {
      "model_module": "@jupyter-widgets/controls",
      "model_module_version": "1.4.0",
      "model_name": "ButtonStyleModel",
      "state": {}
     },
     "de95dabc6bc948b09255421616acbfce": {
      "model_module": "@jupyter-widgets/controls",
      "model_module_version": "1.4.0",
      "model_name": "ButtonModel",
      "state": {
       "description": "Reduce",
       "layout": "IPY_MODEL_cdec5f0d8f2c4b57b541b4ca790146b8",
       "style": "IPY_MODEL_0cf2657ad03a49c1a7c78d4901e18032"
      }
     },
     "dea59c9e954849979650542c688f40d3": {
      "model_module": "@jupyter-widgets/controls",
      "model_module_version": "1.4.0",
      "model_name": "ButtonModel",
      "state": {
       "description": "Keine der Alternativen",
       "layout": "IPY_MODEL_b2fbd3701e144bffa00d9a287a9532f2",
       "style": "IPY_MODEL_f16adbb2f9f64e76a16b111e1acf99c3"
      }
     },
     "dfe93a0bad914a2f8980aac4d4cf6862": {
      "model_module": "@jupyter-widgets/base",
      "model_module_version": "1.1.0",
      "model_name": "LayoutModel",
      "state": {
       "width": "250px"
      }
     },
     "e059c04e860f456e9c008f198e1de13a": {
      "model_module": "@jupyter-widgets/controls",
      "model_module_version": "1.4.0",
      "model_name": "ButtonModel",
      "state": {
       "description": "Complete",
       "layout": "IPY_MODEL_2716fb637e514e95adc6940c6d7f39db",
       "style": "IPY_MODEL_b48165fb26b34b7ea46e90e377ac5a96"
      }
     },
     "e0a9a56a49ae4a21af1081a89b92297e": {
      "model_module": "@jupyter-widgets/base",
      "model_module_version": "1.1.0",
      "model_name": "LayoutModel",
      "state": {}
     },
     "e0b78addc263496c8af0a667e7bfab81": {
      "model_module": "@jupyter-widgets/controls",
      "model_module_version": "1.4.0",
      "model_name": "ButtonModel",
      "state": {
       "description": "Predict",
       "layout": "IPY_MODEL_6ab2fafd580746bd80dd2b8b9033c707",
       "style": "IPY_MODEL_f4e44a9563cd47a482561d7401a5b8ba"
      }
     },
     "e1a55c270b8c419cab25558c1498e8fb": {
      "model_module": "@jupyter-widgets/base",
      "model_module_version": "1.1.0",
      "model_name": "LayoutModel",
      "state": {
       "width": "250px"
      }
     },
     "e29d17153dc7472bac3d0b03426c46db": {
      "model_module": "@jupyter-widgets/controls",
      "model_module_version": "1.4.0",
      "model_name": "ButtonModel",
      "state": {
       "description": "Shift",
       "layout": "IPY_MODEL_961385c6cb3d4d65b7783b0f870eef4e",
       "style": "IPY_MODEL_bc6cd3974be84059acd82f7af829b7e0"
      }
     },
     "e2ec0dd598574c589fc2f36e9fc259ca": {
      "model_module": "@jupyter-widgets/controls",
      "model_module_version": "1.4.0",
      "model_name": "ButtonStyleModel",
      "state": {}
     },
     "e35c7b655a644c16af7a098ec3cc8467": {
      "model_module": "@jupyter-widgets/base",
      "model_module_version": "1.1.0",
      "model_name": "LayoutModel",
      "state": {}
     },
     "e3d876de5e454b1eb69b88846fc0055c": {
      "model_module": "@jupyter-widgets/base",
      "model_module_version": "1.1.0",
      "model_name": "LayoutModel",
      "state": {
       "width": "250px"
      }
     },
     "e3f961bbd98942b39a3424f9649ce195": {
      "model_module": "@jupyter-widgets/controls",
      "model_module_version": "1.4.0",
      "model_name": "VBoxModel",
      "state": {
       "children": [
        "IPY_MODEL_6f435e4925ce40a7b64b4c63a6040568",
        "IPY_MODEL_07c45d8365864b87bb88e307633eef76",
        "IPY_MODEL_7c52baaa47f446ceace64da6528cd5d9",
        "IPY_MODEL_5c0eb46b9cff4c41a98dfbe63b9e4acc"
       ],
       "layout": "IPY_MODEL_1c74628fc96840b6a6f1ab0af9e7e868"
      }
     },
     "e41b751e91414a6c86416a2dc956e98c": {
      "model_module": "@jupyter-widgets/controls",
      "model_module_version": "1.4.0",
      "model_name": "ButtonModel",
      "state": {
       "description": "Predict",
       "layout": "IPY_MODEL_c2ff1a6a6c2c48029130eb0a01fde6c5",
       "style": "IPY_MODEL_89fad49ac967480ba03587fb1dfd320a"
      }
     },
     "e481cb06fc6446f485f4e32558b803ac": {
      "model_module": "@jupyter-widgets/controls",
      "model_module_version": "1.4.0",
      "model_name": "ButtonModel",
      "state": {
       "description": "Shift",
       "layout": "IPY_MODEL_ae4990f8298046888b5a65bc75b432e3",
       "style": "IPY_MODEL_490857126f4f4545ac1cd53695149c9a"
      }
     },
     "e4824b3676cc45a4bf27354c5795d84e": {
      "model_module": "@jupyter-widgets/controls",
      "model_module_version": "1.4.0",
      "model_name": "ButtonModel",
      "state": {
       "description": "Scan",
       "layout": "IPY_MODEL_6b7c4176ed9640b6a71260456c81084d",
       "style": "IPY_MODEL_661632641dbe4e0b927cead4ac2e24bf"
      }
     },
     "e4b8fdca0f474ee2a0550b99541c076d": {
      "model_module": "@jupyter-widgets/controls",
      "model_module_version": "1.4.0",
      "model_name": "DescriptionStyleModel",
      "state": {
       "description_width": ""
      }
     },
     "e4fc880147ff45e594289f43b0101c30": {
      "model_module": "@jupyter-widgets/base",
      "model_module_version": "1.1.0",
      "model_name": "LayoutModel",
      "state": {
       "justify_content": "center"
      }
     },
     "e579a3a42e9a4b4cb45b57d9bbe1c72a": {
      "model_module": "@jupyter-widgets/base",
      "model_module_version": "1.1.0",
      "model_name": "LayoutModel",
      "state": {
       "width": "600px"
      }
     },
     "e5b29ba96ae24c9f826353a43f8ec3a6": {
      "model_module": "@jupyter-widgets/controls",
      "model_module_version": "1.4.0",
      "model_name": "DescriptionStyleModel",
      "state": {
       "description_width": "initial"
      }
     },
     "e65db87429d24d9da4d08da4ebcd66b9": {
      "model_module": "@jupyter-widgets/controls",
      "model_module_version": "1.4.0",
      "model_name": "DescriptionStyleModel",
      "state": {
       "description_width": "initial"
      }
     },
     "e674ee031a8f48c38fa169a47f0b6edd": {
      "model_module": "@jupyter-widgets/controls",
      "model_module_version": "1.4.0",
      "model_name": "HBoxModel",
      "state": {
       "children": [
        "IPY_MODEL_31de47430a7f43268183f0e3e226c40c",
        "IPY_MODEL_1eba682da6dc421884a90d5ccdf328a1"
       ],
       "layout": "IPY_MODEL_b0b08e5cf937465cbc9bb6bc34e44136"
      }
     },
     "e82f02d63dbc4cc2a800254ec3da4503": {
      "model_module": "@jupyter-widgets/controls",
      "model_module_version": "1.4.0",
      "model_name": "ButtonStyleModel",
      "state": {}
     },
     "e8479e4990c3454fbd9c3b7df0a6199f": {
      "model_module": "@jupyter-widgets/controls",
      "model_module_version": "1.4.0",
      "model_name": "HTMLModel",
      "state": {
       "layout": "IPY_MODEL_306da6c10aa341aa98c0282b99f1d77d",
       "style": "IPY_MODEL_ca2e2331f232497a8fec077f97d5ce44",
       "value": "<h4 style=\"font-size:14px;\">Welche Operationen hat der Earley Parser?</h4>"
      }
     },
     "e8daa8de6b41415f9ac34e885eff4d98": {
      "model_module": "@jupyter-widgets/base",
      "model_module_version": "1.1.0",
      "model_name": "LayoutModel",
      "state": {}
     },
     "e90761e069c34cb6b74ffa19599042d4": {
      "model_module": "@jupyter-widgets/controls",
      "model_module_version": "1.4.0",
      "model_name": "HTMLModel",
      "state": {
       "layout": "IPY_MODEL_987cf58d064541dfa11ee323ae151a0f",
       "style": "IPY_MODEL_ae607c8bb542474798079836042d1131",
       "value": "<i>Wählen Sie die <ins>eine</ins> korrekte Antwort aus: </i>"
      }
     },
     "e92a24cabe6147939096e9bbb3a807b5": {
      "model_module": "@jupyter-widgets/base",
      "model_module_version": "1.1.0",
      "model_name": "LayoutModel",
      "state": {
       "width": "250px"
      }
     },
     "e988568e779f4153b5da9d0a27867047": {
      "model_module": "@jupyter-widgets/base",
      "model_module_version": "1.1.0",
      "model_name": "LayoutModel",
      "state": {}
     },
     "eaf9c924a03e42788f4945063ef3787a": {
      "model_module": "@jupyter-widgets/base",
      "model_module_version": "1.1.0",
      "model_name": "LayoutModel",
      "state": {
       "width": "600px"
      }
     },
     "eb3fef0208404be2afcf0e85d8ce030f": {
      "model_module": "@jupyter-widgets/controls",
      "model_module_version": "1.4.0",
      "model_name": "ButtonModel",
      "state": {
       "description": "Shift Reduce",
       "layout": "IPY_MODEL_ac4fb6f3706f44bda59c2dad1d7252b7",
       "style": "IPY_MODEL_89dd359788ed4682a5268a5db0fa507a"
      }
     },
     "ebacfb74bd844e4c8eaaada900f4f6df": {
      "model_module": "@jupyter-widgets/base",
      "model_module_version": "1.1.0",
      "model_name": "LayoutModel",
      "state": {
       "width": "250px"
      }
     },
     "ec858861de024d5e871df839d383c67c": {
      "model_module": "@jupyter-widgets/controls",
      "model_module_version": "1.4.0",
      "model_name": "VBoxModel",
      "state": {
       "children": [
        "IPY_MODEL_dca2b09772e94b3f9a0702b72c7d5e0e",
        "IPY_MODEL_695b466d181144a199bd68c86c121599",
        "IPY_MODEL_335099f09fe746bcb093aaaaf465e39e",
        "IPY_MODEL_4ad36a93f26a4074a29658306471665f"
       ],
       "layout": "IPY_MODEL_4997f7bb5bff46eb817a1f3b0b848154"
      }
     },
     "ee24bb68de4f4c3aae86288a4d87af96": {
      "model_module": "@jupyter-widgets/controls",
      "model_module_version": "1.4.0",
      "model_name": "ButtonStyleModel",
      "state": {}
     },
     "ee714054188a4d6c8983faa87e48f7f3": {
      "model_module": "@jupyter-widgets/controls",
      "model_module_version": "1.4.0",
      "model_name": "ButtonStyleModel",
      "state": {}
     },
     "ee77700dfef246dbba4534748de5c465": {
      "model_module": "@jupyter-widgets/controls",
      "model_module_version": "1.4.0",
      "model_name": "HBoxModel",
      "state": {
       "children": [
        "IPY_MODEL_6aac360a36e8442691d4cebfb259a566",
        "IPY_MODEL_9c0c7dca039d4739b9b3e3458f3cabf8"
       ],
       "layout": "IPY_MODEL_baa9cf7d5e864e5db9af4518c2d5cb3d"
      }
     },
     "eec029dbbdaf42809960c5b34eb4759b": {
      "model_module": "@jupyter-widgets/base",
      "model_module_version": "1.1.0",
      "model_name": "LayoutModel",
      "state": {
       "justify_content": "center"
      }
     },
     "ef09fb00a02144e2a9d1cce43559791a": {
      "model_module": "@jupyter-widgets/base",
      "model_module_version": "1.1.0",
      "model_name": "LayoutModel",
      "state": {}
     },
     "ef36f6b4e9464070bd8bddf06cdcd9b6": {
      "model_module": "@jupyter-widgets/controls",
      "model_module_version": "1.4.0",
      "model_name": "HTMLModel",
      "state": {
       "layout": "IPY_MODEL_09564e8ef68d428fb2f92d23bd248ffa",
       "style": "IPY_MODEL_11db1e2f29604c118e0dd100f507deca",
       "value": "<h4 style=\"font-size:14px;\">Welche Operation folgt als nächstes?</h4>"
      }
     },
     "ef70dbeb922f47eba9928d789fcecf5e": {
      "model_module": "@jupyter-widgets/base",
      "model_module_version": "1.1.0",
      "model_name": "LayoutModel",
      "state": {
       "width": "250px"
      }
     },
     "ef9cd337ac8b41f0b09b9bd53901af86": {
      "model_module": "@jupyter-widgets/controls",
      "model_module_version": "1.4.0",
      "model_name": "ButtonStyleModel",
      "state": {}
     },
     "f08de5729d3b405b9c9f98b4bc4b4d45": {
      "model_module": "@jupyter-widgets/controls",
      "model_module_version": "1.4.0",
      "model_name": "ButtonModel",
      "state": {
       "description": "Complete",
       "layout": "IPY_MODEL_8e5e7ff0e1e5417f8f820fa1603b9611",
       "style": "IPY_MODEL_e82f02d63dbc4cc2a800254ec3da4503"
      }
     },
     "f09a593fad5b4fcab7598eaf0f346e41": {
      "model_module": "@jupyter-widgets/controls",
      "model_module_version": "1.4.0",
      "model_name": "ButtonStyleModel",
      "state": {}
     },
     "f0b9252a8ac94f28949dd5797fec1082": {
      "model_module": "@jupyter-widgets/controls",
      "model_module_version": "1.4.0",
      "model_name": "DescriptionStyleModel",
      "state": {
       "description_width": "initial"
      }
     },
     "f11fecda7d81429aafb9b9a0771af2e7": {
      "model_module": "@jupyter-widgets/base",
      "model_module_version": "1.1.0",
      "model_name": "LayoutModel",
      "state": {
       "width": "250px"
      }
     },
     "f16adbb2f9f64e76a16b111e1acf99c3": {
      "model_module": "@jupyter-widgets/controls",
      "model_module_version": "1.4.0",
      "model_name": "ButtonStyleModel",
      "state": {}
     },
     "f2303c7e9f1a40a89258f9e3f331de6b": {
      "model_module": "@jupyter-widgets/base",
      "model_module_version": "1.1.0",
      "model_name": "LayoutModel",
      "state": {}
     },
     "f24c6f4ba9a9492faa3a24d3878d17d6": {
      "model_module": "@jupyter-widgets/controls",
      "model_module_version": "1.4.0",
      "model_name": "DescriptionStyleModel",
      "state": {
       "description_width": ""
      }
     },
     "f3ee8ecba895457a8c2076de214f108e": {
      "model_module": "@jupyter-widgets/base",
      "model_module_version": "1.1.0",
      "model_name": "LayoutModel",
      "state": {
       "width": "250px"
      }
     },
     "f468440ebcde4f1ca8b58aa2e0016e8a": {
      "model_module": "@jupyter-widgets/controls",
      "model_module_version": "1.4.0",
      "model_name": "ButtonModel",
      "state": {
       "description": "Scan",
       "layout": "IPY_MODEL_489be051c28a4f8c84f5ace5842329ae",
       "style": "IPY_MODEL_ff43595a315d42799c583e23a24de73c"
      }
     },
     "f4e44a9563cd47a482561d7401a5b8ba": {
      "model_module": "@jupyter-widgets/controls",
      "model_module_version": "1.4.0",
      "model_name": "ButtonStyleModel",
      "state": {}
     },
     "f578415577e2417f99acb973758edb4f": {
      "model_module": "@jupyter-widgets/controls",
      "model_module_version": "1.4.0",
      "model_name": "HTMLModel",
      "state": {
       "layout": "IPY_MODEL_abe01a9e0c9b44e798dd9207ff535c91",
       "style": "IPY_MODEL_528fe41f0ac7400a8acce85b6f0b8f57",
       "value": "<h4 style=\"font-size:14px;\">Welche Operation folgt als nächstes?</h4>"
      }
     },
     "f5a39281fde44a6ca3404fe555bee640": {
      "model_module": "@jupyter-widgets/base",
      "model_module_version": "1.1.0",
      "model_name": "LayoutModel",
      "state": {
       "width": "600px"
      }
     },
     "f5bb31fdc92a4182908745dc4d25a882": {
      "model_module": "@jupyter-widgets/controls",
      "model_module_version": "1.4.0",
      "model_name": "DescriptionStyleModel",
      "state": {
       "description_width": ""
      }
     },
     "f6003010c8524d9c8efce926354877f2": {
      "model_module": "@jupyter-widgets/controls",
      "model_module_version": "1.4.0",
      "model_name": "DescriptionStyleModel",
      "state": {
       "description_width": ""
      }
     },
     "f68570584efc4aaf81722fda2bfe3489": {
      "model_module": "@jupyter-widgets/base",
      "model_module_version": "1.1.0",
      "model_name": "LayoutModel",
      "state": {}
     },
     "f685a42b7a294a5494456dc883fc1e63": {
      "model_module": "@jupyter-widgets/controls",
      "model_module_version": "1.4.0",
      "model_name": "ButtonStyleModel",
      "state": {}
     },
     "f70fdc11ef2f41c888e2426740b0cc0b": {
      "model_module": "@jupyter-widgets/base",
      "model_module_version": "1.1.0",
      "model_name": "LayoutModel",
      "state": {
       "width": "250px"
      }
     },
     "f811557531e04a3599c609fba2fdf0e6": {
      "model_module": "@jupyter-widgets/controls",
      "model_module_version": "1.4.0",
      "model_name": "ButtonModel",
      "state": {
       "description": "Korrekt?",
       "layout": "IPY_MODEL_cdf63774abb940b58746c8095b4ff1a8",
       "style": "IPY_MODEL_ef9cd337ac8b41f0b09b9bd53901af86"
      }
     },
     "f8691f870c474a788479362039740a65": {
      "model_module": "@jupyter-widgets/controls",
      "model_module_version": "1.4.0",
      "model_name": "ButtonModel",
      "state": {
       "description": "Predict",
       "layout": "IPY_MODEL_7a996264d66f40019e48e0c777a11fe9",
       "style": "IPY_MODEL_a892d85da27a47d79dadb5d422563ee0"
      }
     },
     "f8a60b442af340d0826714eb47d8adf1": {
      "model_module": "@jupyter-widgets/controls",
      "model_module_version": "1.4.0",
      "model_name": "ButtonModel",
      "state": {
       "description": "Earley",
       "layout": "IPY_MODEL_a85ce85cbb7f48c291e71e289001992d",
       "style": "IPY_MODEL_0bb61ad21ecf4271a2dc4947efcf0dd4"
      }
     },
     "f8cc2f4d8c534c5fa3fb86fafa621f7a": {
      "model_module": "@jupyter-widgets/controls",
      "model_module_version": "1.4.0",
      "model_name": "ButtonStyleModel",
      "state": {}
     },
     "f8d7b5264a5146f7923bf21c190db5e8": {
      "model_module": "@jupyter-widgets/controls",
      "model_module_version": "1.4.0",
      "model_name": "DescriptionStyleModel",
      "state": {
       "description_width": ""
      }
     },
     "f979634b494a4d138f34eeb51540fcde": {
      "model_module": "@jupyter-widgets/controls",
      "model_module_version": "1.4.0",
      "model_name": "HBoxModel",
      "state": {
       "children": [
        "IPY_MODEL_cc35acb3e78341ff93bca6d3a190f3a6",
        "IPY_MODEL_1947f88e617f4693bc3c7d90864ba252"
       ],
       "layout": "IPY_MODEL_e35c7b655a644c16af7a098ec3cc8467"
      }
     },
     "fb5e7359fd5146deab6bc932b8217bb0": {
      "model_module": "@jupyter-widgets/base",
      "model_module_version": "1.1.0",
      "model_name": "LayoutModel",
      "state": {}
     },
     "fbd5fc7133b8442d9eebd975d0c32869": {
      "model_module": "@jupyter-widgets/controls",
      "model_module_version": "1.4.0",
      "model_name": "HTMLModel",
      "state": {
       "layout": "IPY_MODEL_d4aaaa336f234b99b045bd1a66cbdd86",
       "style": "IPY_MODEL_44176f38835a4de0befc36c08683141a",
       "value": "<i>Wählen Sie die <ins>eine</ins> korrekte Antwort aus: </i>"
      }
     },
     "fcb0236b37304ffdad8549751db6aae0": {
      "model_module": "@jupyter-widgets/controls",
      "model_module_version": "1.4.0",
      "model_name": "CheckboxModel",
      "state": {
       "description": "Reduce",
       "disabled": false,
       "layout": "IPY_MODEL_49cb496b0d5949a58fb3d0e0defae6f1",
       "style": "IPY_MODEL_e65db87429d24d9da4d08da4ebcd66b9",
       "value": false
      }
     },
     "fcb3f47dbb53405bb3b483a98079d02c": {
      "model_module": "@jupyter-widgets/controls",
      "model_module_version": "1.4.0",
      "model_name": "HBoxModel",
      "state": {
       "children": [
        "IPY_MODEL_f08de5729d3b405b9c9f98b4bc4b4d45",
        "IPY_MODEL_49a9cf7278844b17b29a06f0a1ad24b9"
       ],
       "layout": "IPY_MODEL_ef09fb00a02144e2a9d1cce43559791a"
      }
     },
     "fd100c3c6e3f4a8f8efea2f3c2f36468": {
      "model_module": "@jupyter-widgets/controls",
      "model_module_version": "1.4.0",
      "model_name": "ButtonModel",
      "state": {
       "description": "Korrekt?",
       "layout": "IPY_MODEL_028c3b089db744cba3053c571264ed85",
       "style": "IPY_MODEL_5b9fb336e03543b7bc9934bd736c0c94"
      }
     },
     "fd5b8031066347d2a7934c86fea02ce5": {
      "model_module": "@jupyter-widgets/controls",
      "model_module_version": "1.4.0",
      "model_name": "DescriptionStyleModel",
      "state": {
       "description_width": ""
      }
     },
     "fd77bdc3fb5d4589a26b2d1236289bc9": {
      "model_module": "@jupyter-widgets/base",
      "model_module_version": "1.1.0",
      "model_name": "LayoutModel",
      "state": {
       "width": "250px"
      }
     },
     "fdb835a4024e4bf68d0a1e87c01f3b38": {
      "model_module": "@jupyter-widgets/base",
      "model_module_version": "1.1.0",
      "model_name": "LayoutModel",
      "state": {
       "width": "250px"
      }
     },
     "fdfdccce7db641b08e3e64ea52a73e61": {
      "model_module": "@jupyter-widgets/base",
      "model_module_version": "1.1.0",
      "model_name": "LayoutModel",
      "state": {}
     },
     "ff43595a315d42799c583e23a24de73c": {
      "model_module": "@jupyter-widgets/controls",
      "model_module_version": "1.4.0",
      "model_name": "ButtonStyleModel",
      "state": {}
     },
     "ff81b310ad544488bde3dc5c80e0aa12": {
      "model_module": "@jupyter-widgets/controls",
      "model_module_version": "1.4.0",
      "model_name": "ButtonStyleModel",
      "state": {}
     },
     "ff9378a71a5a4c0f823f3e927821b230": {
      "model_module": "@jupyter-widgets/controls",
      "model_module_version": "1.4.0",
      "model_name": "VBoxModel",
      "state": {
       "children": [
        "IPY_MODEL_635024bfed2f41ae94d5f90c7ce5b516",
        "IPY_MODEL_0e9f14713f0c45b39e276bce3b792a7a",
        "IPY_MODEL_3663185fcbc349a681dc82cec2a39e22",
        "IPY_MODEL_bb752a159a9e4aca9736657e88e1946b"
       ],
       "layout": "IPY_MODEL_2a5ce81803a34f76aa134b1c2906eed1"
      }
     }
    },
    "version_major": 2,
    "version_minor": 0
   }
  }
 },
 "nbformat": 4,
 "nbformat_minor": 2
}
