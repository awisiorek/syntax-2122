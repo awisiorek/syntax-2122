{
 "cells": [
  {
   "cell_type": "markdown",
   "metadata": {},
   "source": [
    "***Syntax natürlicher Sprachen, WS 2021/22***\n",
    "\n",
    "--- \n",
    "# Übung 1"
   ]
  },
  {
   "cell_type": "markdown",
   "metadata": {},
   "source": [
    "## 1. Installation Python3\n",
    "\n",
    "Wir werden in den Übungen die Programmiersprache *Python verwenden. Bitte stellen Sie sicher, dass auf Ihrem System die Version 3 des Pythoninterpreters installiert ist.\n",
    "\n",
    "##### a) Windows\n",
    "In aller Regel ist Python noch nicht installiert. Wir empfehlen die Python-Distribution *Anaconda* herunterzuladen und zu installieren (Link s.u.).\n",
    "Falls Sie es bevorzugen, nur das absolut Nötige zu installieren, empfiehlt sich ein Blick auf *Miniconda*. Diese Distribution enthält nur Python und *Anaconda* selbst.\n",
    "\n",
    "##### b) UNIX (Linux oder Mac)\n",
    "Auf UNIX-Systemen ist Python, sowie der Paketmanager *pip*, in der Regel bereits installiert. Um zu überprüfen, ob auch die richtige Version installiert ist, können Sie folgenden Befehl ausführen, der zu keiner Fehlermeldung führen sollte:\n",
    "```\n",
    "python3\n",
    "```\n",
    "\n",
    "Sollte Python 3 nicht installiert sein, ist es empfehlenswert die Python-Distribution *Anaconda* zu installieren (Link s.u.). Dort sind die meisten von uns benötigten Pakete bereits vorinstalliert.\n",
    "\n",
    "*Miniconda* ist eine schlankere Alternative ohne vorinstallierte Pakete.\n",
    "\n",
    "\n",
    "- **Installationslinks**:\n",
    "  - Anaconda:  https://www.anaconda.com/download/\n",
    "  - Leichtgewichtige Anaconda-Alternative *Miniconda*: https://conda.io/miniconda.html\n",
    "\n"
   ]
  },
  {
   "cell_type": "markdown",
   "metadata": {},
   "source": [
    "## 2. Installation NLTK\n",
    "\n",
    "Für die weiteren Übungen werden wir das Natural Language Toolkit (NLTK) für Python verwenden. Falls es nicht schon installiert ist, installieren Sie es jetzt.\n",
    "\n",
    "**Wichtig:** Folgen Sie den Hinweisen ENTWEDER zu `conda` ODER zu `pip`, NICHT ZU BEIDEN.\n",
    "\n",
    "##### a) Anaconda/Miniconda\n",
    "Falls Sie *Anaconda* verwenden, ist das NLTK bereits installiert.\n",
    "\n",
    "Falls Sie sich für *Miniconda* entschieden haben, installieren Sie das NLTK mithilfe des folgenden Befehls im *Anaconda Command Prompt*:\n",
    "```\n",
    "conda install nltk\n",
    "```\n",
    "\n",
    "##### b) Paketmanager `pip`\n",
    "Zunächst sollten Sie sicherstellen, dass `pip` auf dem neuesten Stand ist:\n",
    "```\n",
    "sudo -H pip3 install -U pip\n",
    "```\n",
    "\n",
    "Dann führen Sie die eigentliche Installation folgendermaßen aus:\n",
    "\n",
    "- Lokal:  \n",
    "```\n",
    "pip3 install --user -U nltk\n",
    "```\n",
    "\n",
    "- Systemweit:  \n",
    "```\n",
    "sudo -H pip3 install -U nltk\n",
    "```\n",
    "\n",
    "Für weitere Informationen siehe:\n",
    "\n",
    "- Installation des NLTK: http://www.nltk.org/install.html\n",
    "- Der Paketmanager `pip`: https://packaging.python.org/tutorials/installing-packages/\n"
   ]
  },
  {
   "cell_type": "markdown",
   "metadata": {},
   "source": [
    "## 3. Test: NLTK-Installation, Herunterladen von Ressourcen"
   ]
  },
  {
   "cell_type": "markdown",
   "metadata": {},
   "source": [
    " Vergewissern Sie sich, dass die Installation ordnungsgemäß funktioniert hat, indem Sie versuchen das NLTK in einer interaktiven Pythonsession zu importieren.\n",
    "\n",
    "Eine interaktive Pythonsession starten Sie, indem Sie ``python3`` auf der Kommandozeile eingeben."
   ]
  },
  {
   "cell_type": "code",
   "execution_count": null,
   "metadata": {},
   "outputs": [],
   "source": [
    "import nltk"
   ]
  },
  {
   "cell_type": "markdown",
   "metadata": {},
   "source": [
    "Mit dem folgenden Befehl können Sie dann Korpora und andere Ressourcen herunterladen und in NLTK integrieren:"
   ]
  },
  {
   "cell_type": "code",
   "execution_count": null,
   "metadata": {},
   "outputs": [],
   "source": [
    "#nltk.download()"
   ]
  },
  {
   "cell_type": "markdown",
   "metadata": {},
   "source": [
    " Die Ressource `book` enthält alle Beispiele aus dem NLTK-Buch, d.h. weit mehr als wir benötigen werden. Sie können die Ressource entweder jetzt herunterladen oder im Laufe des Kurses ab und an den Download-Dialog erneut öffnen und nur die benötigten Daten einzeln laden."
   ]
  },
  {
   "cell_type": "markdown",
   "metadata": {},
   "source": [
    "## 4. Test: Syntaxbäume zeichnen\n",
    "\n",
    "\n",
    "Um zu testen, ob das NLTK erfolgreich installiert wurde, führen Sie folgendes Pythonskript aus:"
   ]
  },
  {
   "cell_type": "code",
   "execution_count": null,
   "metadata": {},
   "outputs": [],
   "source": [
    "from nltk.tree import Tree\n",
    "\n",
    "np1 = Tree('NP', [Tree('ART', ['der']), Tree('N', ['Hund'])])\n",
    "np2 = Tree('NP', [Tree('ART', ['die']), Tree('N', ['Katze'])])\n",
    "vp = Tree('VP', [Tree('V', ['jagt']), np2])"
   ]
  },
  {
   "cell_type": "code",
   "execution_count": null,
   "metadata": {},
   "outputs": [],
   "source": [
    "print(vp)"
   ]
  },
  {
   "cell_type": "code",
   "execution_count": null,
   "metadata": {},
   "outputs": [],
   "source": [
    "vp.pretty_print(unicodelines=True)"
   ]
  },
  {
   "cell_type": "code",
   "execution_count": null,
   "metadata": {},
   "outputs": [],
   "source": [
    "np1.pretty_print(unicodelines=True)\n",
    "np2.pretty_print(unicodelines=True)"
   ]
  },
  {
   "cell_type": "markdown",
   "metadata": {},
   "source": [
    "## 5. Installation Jupyter Notebooks\n",
    "\n",
    "Die Übungsblätter der Veranstaltung werden in Form von *Jupyter Notebooks* angeboten. Jupyter Notebooks sind interaktive, aus einer Mischung aus Text, Code und Diagrammen bestehende Web-Dokumente, in denen Sie die Präsenzaufgaben lösen, sich Notizen machen und bequem experimentieren können.\n",
    "\n",
    "\n",
    "Zur Verwendung müssen Sie die Software zur Ausführung von Jupyter Notebooks installieren:"
   ]
  },
  {
   "cell_type": "markdown",
   "metadata": {},
   "source": [
    "\n",
    "- *Anaconda:* bereits installiert\n",
    "- *Miniconda:* `conda install jupyter`\n",
    "- *pip*: \n",
    "    - lokal: `pip pip3 install --user jupyter`\n",
    "    - systenweit: `sudo -H pip3 install jupyter` \n"
   ]
  },
  {
   "cell_type": "markdown",
   "metadata": {},
   "source": [
    "## 6. *Installation Jupyter Widgets (optional)\n",
    "\n",
    "##### (Installation nur für interaktive Zusatznotebooks zum Selbstlernen notwendig)\n",
    "Begleitend zur Vorlesung werden zusätzliche Notebooks mit interaktiv aufbereitete Aufgabentypen (insbesondere Multiple-Choice-Fragen) zu primär linguistischen Aufgaben bereitgestellt. \n",
    "\n",
    "\n",
    "**Beachten** Sie, dass die Verwendung dieser interaktiven Notebooks nur ein Zusatzangebot zum Selbstlernen darstellt. Eine erfolgreiche Installation ist also für die Teilnahme an der Veranstaltung nicht unbedingt notwendig.\n",
    "\n",
    "Hierfür wird die Erweiterung `ipywidgets` verwendet, die Sie folgendermaßen installieren:\n"
   ]
  },
  {
   "cell_type": "markdown",
   "metadata": {},
   "source": [
    "##### a) Anaconda/Miniconda\n",
    "\n",
    "```\n",
    "conda install -c conda-forge ipywidgets\n",
    "```\n",
    "\n",
    "##### b) Paketmanager `pip`\n",
    "\n",
    "\n",
    "- Lokal: \n",
    "\n",
    "```\n",
    "pip3 install --user ipywidgets\n",
    "jupyter nbextension enable --py \\\n",
    "             --sys-prefix widgetsnbextension\n",
    "```\n",
    "\n",
    "- Systemweit:  \n",
    "\n",
    "```\n",
    "sudo -H pip3 install ipywidgets\n",
    "jupyter nbextension enable --py \\\n",
    "             --sys-prefix widgetsnbextension\n",
    "```\n"
   ]
  },
  {
   "cell_type": "markdown",
   "metadata": {},
   "source": [
    "## 7. *Installation tk (optional)\n",
    "\n"
   ]
  },
  {
   "cell_type": "markdown",
   "metadata": {},
   "source": [
    "Wir werden im Laufe der Übung einige Graphen, z. B. Syntaxbäume, visualisieren wollen. Dafür eignet sich sehr gut das `tk`-Paket. Falls es nicht schon installiert ist, installieren Sie es nun:\n",
    "\n",
    "- *Anaconda:* bereits installiert\n",
    "- *Miniconda:* `conda install -c anaconda tk`\n",
    "- *Debian/Ubuntu:* `sudo apt-get install python3-tk` \n",
    "- *OpenSUSE:* `sudo zypper install python3-tk`\n"
   ]
  },
  {
   "cell_type": "markdown",
   "metadata": {},
   "source": [
    "\n",
    "Test: Im Jupyter-Notebook genügt es, die Variable einzeln in die letzte Zeile einer Zelle zu schreiben.\n",
    "\n",
    "**Beachten Sie aber**, dass dies nur mit korrekt installiertem `tk` funktioniert. Sollte die folgende Zelle eine Fehlermeldung produzieren, können Sie diese Art der Visualisierung auch einfach ignorieren."
   ]
  },
  {
   "cell_type": "code",
   "execution_count": null,
   "metadata": {},
   "outputs": [],
   "source": [
    "vp"
   ]
  },
  {
   "cell_type": "markdown",
   "metadata": {},
   "source": [
    "## 8. Test der Jupyter-Installation\n",
    "\n"
   ]
  },
  {
   "cell_type": "markdown",
   "metadata": {},
   "source": [
    "Um zu Testen, ob Jupyter erfolgreich installiert wurden, laden Sie das Notebook zur ersten Übung (`01-notebook.ipynb`) von der Kurs-Website herunter, öffnen Sie die Konsole (Anaconda Prompt für Windows), wechseln Sie mit `cd` zu dem Downloadordner und führen Sie folgenden Befehl aus:\n",
    "\n",
    "```\n",
    "jupyter notebook\n",
    "```"
   ]
  },
  {
   "cell_type": "markdown",
   "metadata": {},
   "source": [
    "Wählen Sie in der sich öffnenden Jupyter-Browsersitzung die `01-notebook.ipynb`-Datei aus."
   ]
  },
  {
   "cell_type": "markdown",
   "metadata": {},
   "source": [
    "---\n",
    "#### *optional: Test der Jupyter-Widgets für interaktive Zusatz-Notebooks*"
   ]
  },
  {
   "cell_type": "markdown",
   "metadata": {},
   "source": [
    "Führen Sie im Notebook folgenden Codeblock aus, um die Installation der Widgets zu testen:\n"
   ]
  },
  {
   "cell_type": "code",
   "execution_count": null,
   "metadata": {},
   "outputs": [],
   "source": [
    "from ipywidgets import widgets \n",
    "widgets.IntSlider()"
   ]
  },
  {
   "cell_type": "markdown",
   "metadata": {},
   "source": [
    "Nach dem Ausführen der Zelle, sollten Sie einen Schieberegler sehen, auf dem Sie Werte von 0 bis 100 einstellen können."
   ]
  },
  {
   "cell_type": "markdown",
   "metadata": {},
   "source": [
    "## 9. Installation spaCy\n"
   ]
  },
  {
   "cell_type": "markdown",
   "metadata": {},
   "source": [
    "Wir werden im Laufe der Veranstaltung ***spaCy*** als Beispiel eines modernen NLP-Systems verwenden. Die spaCy-Bibliothek beinhaltet u. a. Module zu Tokenisierung, POS-Tagging, Named Entity Recognition, Dependenzparsing und unterstützt viele verschiedene Sprachen. Mit den folgenden Befehlen laden wir das deutsche und das englische Modell herunter.\n",
    "\n",
    "Für weitere Informationen siehe:\n",
    "- https://spacy.io/usage \n",
    "- https://spacy.io/models"
   ]
  },
  {
   "cell_type": "markdown",
   "metadata": {},
   "source": [
    "##### a) Anaconda/Miniconda\n",
    "\n",
    "```\n",
    "conda install -c conda-forge spacy\n",
    "conda install -c conda-forge spacy-lookups-data\n",
    "python3 -m spacy download en_core_web_sm\n",
    "python3 -m spacy download de_core_news_sm\n",
    "```\n",
    "\n",
    "##### b) Paketmanager `pip`\n",
    "\n",
    "\n",
    "- Lokal: \n",
    "\n",
    "```\n",
    "pip3 install --user -U spacy\n",
    "pip3 install --user -U spacy-lookups-data\n",
    "python3 -m spacy download --user en_core_web_sm\n",
    "python3 -m spacy download --user de_core_news_sm\n",
    "```\n",
    "\n",
    "- Systemweit:  \n",
    "\n",
    "```\n",
    "sudo -H pip3 install -U spacy\n",
    "sudo -H pip3 install -U spacy-lookups-data\n",
    "sudo -H python3 -m spacy download en_core_web_sm\n",
    "sudo -H python3 -m spacy download de_core_news_sm\n",
    "```\n"
   ]
  },
  {
   "cell_type": "markdown",
   "metadata": {},
   "source": [
    "## 10. Test: spaCy\n",
    "\n",
    "Zum Testen, ob spaCy und die Modelle erfolgreich installiert wurden, führen Sie folgende Befehle aus:\n",
    "\n",
    "1. Laden der Bibliothek und des deutschen Modells"
   ]
  },
  {
   "cell_type": "code",
   "execution_count": null,
   "metadata": {},
   "outputs": [],
   "source": [
    "import spacy\n",
    "nlp = spacy.load('de_core_news_sm')"
   ]
  },
  {
   "cell_type": "markdown",
   "metadata": {},
   "source": [
    "2. Analyse eines Satzes"
   ]
  },
  {
   "cell_type": "code",
   "execution_count": null,
   "metadata": {},
   "outputs": [],
   "source": [
    "doc = nlp('Dies ist mein erster Satz.')"
   ]
  },
  {
   "cell_type": "code",
   "execution_count": null,
   "metadata": {},
   "outputs": [],
   "source": [
    "for token in doc:\n",
    "    print(token.text, token.lemma_, token.pos_, token.tag_, token.dep_,\n",
    "            token.shape_, token.is_alpha, token.is_stop, sep='\\t')"
   ]
  },
  {
   "cell_type": "markdown",
   "metadata": {},
   "source": [
    "3. Visualisierung"
   ]
  },
  {
   "cell_type": "code",
   "execution_count": null,
   "metadata": {},
   "outputs": [],
   "source": [
    "from spacy import displacy\n",
    "\n",
    "displacy.render(doc, style='dep')"
   ]
  },
  {
   "cell_type": "markdown",
   "metadata": {},
   "source": [
    "Unverständliche Tags können wie folgt nachgeschlagen werden:"
   ]
  },
  {
   "cell_type": "code",
   "execution_count": null,
   "metadata": {},
   "outputs": [],
   "source": [
    "spacy.explain('nk')"
   ]
  },
  {
   "cell_type": "markdown",
   "metadata": {},
   "source": [
    "---\n",
    "# Hausaufgaben"
   ]
  },
  {
   "cell_type": "markdown",
   "metadata": {},
   "source": [
    "## 11. Troubleshooting\n",
    "\n",
    "Vergewissern Sie sich, dass Sie für das nächste Mal eine funktionierende Installation zur Verfügung haben, und betreiben Sie ggf. Troubleshooting. \n",
    "\n",
    "Informieren Sie sich auch im NLTK-Kapitel 1.2 ('Getting Started with NLTK'):\n",
    "- http://www.nltk.org/book/ch01.html\n",
    "\n",
    "sowie im Vorwort:\n",
    "- http://www.nltk.org/book/ch00.html ('Software Requirements', etc.).\n"
   ]
  },
  {
   "cell_type": "markdown",
   "metadata": {},
   "source": [
    "## 12. Verwendung git\n",
    "\n",
    "Die Inhalte von Vorlesung und Übung werden über Github zur Verfügung gestellt und können über die Weboberfläche eingesehen und heruntergeladen werden. Ein lokales Klonen und regelmäßiges Updaten mit git erleichtert aber das Beziehen der Dateien, insbesondere bzgl. der interaktiven Aufgaben, da diese zusätzliche Konfigurationsdateien benötigen, die so automatisch heruntergeladen werden.\n",
    "\n",
    "Machen Sie sich mit der Verwendung von git vertraut und installieren Sie ggf. einen git-Client."
   ]
  },
  {
   "cell_type": "markdown",
   "metadata": {},
   "source": [
    "## 13. *Jupyter Notebook Interface Tour\n",
    "\n",
    "Die Weboberfläche der Jupyter Notebooks bieten vielfältige komfortable Möglichkeiten,   \n",
    "   Code zu schreiben, auszuführen und sich Notizen zu machen. Falls Sie daran              \n",
    "   interessiert sind, diese Möglichkeiten effektiv zu nutzen, können Sie rechts oben im    \n",
    "   Hauptmenü unter *Help* eine *User Interface Tour* machen (erster Menüeintrag). "
   ]
  },
  {
   "cell_type": "markdown",
   "metadata": {},
   "source": [
    "## 14. *Grundlagen der Programmierung in Python\n",
    "\n",
    "Solide Vorkenntnisse in der Programmiersprache *Python* sind eine Grundvoraussetzung für die kommenden Übungen. Falls Sie bei sich hier Lücken vermuten, nutzen Sie die ersten Wochen des Semesters für einen Auffrischungskurs: https://www.learnpython.org"
   ]
  }
 ],
 "metadata": {
  "kernelspec": {
   "display_name": "Python 3",
   "language": "python",
   "name": "python3"
  },
  "language_info": {
   "codemirror_mode": {
    "name": "ipython",
    "version": 3
   },
   "file_extension": ".py",
   "mimetype": "text/x-python",
   "name": "python",
   "nbconvert_exporter": "python",
   "pygments_lexer": "ipython3",
   "version": "3.6.13"
  },
  "widgets": {
   "application/vnd.jupyter.widget-state+json": {
    "state": {
     "098dd75f65594c0f992ddeffeb8523e3": {
      "model_module": "@jupyter-widgets/controls",
      "model_module_version": "1.2.0",
      "model_name": "SliderStyleModel",
      "state": {
       "description_width": ""
      }
     },
     "0ccfa5129ab64950adda077f6ac8f44a": {
      "model_module": "@jupyter-widgets/controls",
      "model_module_version": "1.2.0",
      "model_name": "IntSliderModel",
      "state": {
       "layout": "IPY_MODEL_641f3cf31a334ee6810a9a92f93e89a7",
       "style": "IPY_MODEL_63aadafcc3504a3b8b15fdea9d4ec244",
       "value": 50
      }
     },
     "1b37a149a74c40c68d34c61b481048f8": {
      "model_module": "@jupyter-widgets/base",
      "model_module_version": "1.0.0",
      "model_name": "LayoutModel",
      "state": {}
     },
     "367694b2ecc94715a20952236f9ced88": {
      "model_module": "@jupyter-widgets/base",
      "model_module_version": "1.0.0",
      "model_name": "LayoutModel",
      "state": {}
     },
     "3d6ebd239fc84a8e95b3007988e38134": {
      "model_module": "@jupyter-widgets/controls",
      "model_module_version": "1.2.0",
      "model_name": "SliderStyleModel",
      "state": {
       "description_width": ""
      }
     },
     "63aadafcc3504a3b8b15fdea9d4ec244": {
      "model_module": "@jupyter-widgets/controls",
      "model_module_version": "1.2.0",
      "model_name": "SliderStyleModel",
      "state": {
       "description_width": ""
      }
     },
     "641f3cf31a334ee6810a9a92f93e89a7": {
      "model_module": "@jupyter-widgets/base",
      "model_module_version": "1.0.0",
      "model_name": "LayoutModel",
      "state": {}
     },
     "993ec756027845c19085347ca5f9f6ce": {
      "model_module": "@jupyter-widgets/controls",
      "model_module_version": "1.2.0",
      "model_name": "SliderStyleModel",
      "state": {
       "description_width": ""
      }
     },
     "bb743dc2dd2d4bb08dd2c5255e1d87c6": {
      "model_module": "@jupyter-widgets/controls",
      "model_module_version": "1.2.0",
      "model_name": "SliderStyleModel",
      "state": {
       "description_width": ""
      }
     },
     "cb4a4abdac584f78ac3b37579ac33b10": {
      "model_module": "@jupyter-widgets/controls",
      "model_module_version": "1.2.0",
      "model_name": "IntSliderModel",
      "state": {
       "layout": "IPY_MODEL_f25c2eb22704411b9981f8047a2c0182",
       "style": "IPY_MODEL_993ec756027845c19085347ca5f9f6ce",
       "value": 50
      }
     },
     "cfbb8ba5969a49e18a1733c50e6b73e4": {
      "model_module": "@jupyter-widgets/controls",
      "model_module_version": "1.2.0",
      "model_name": "IntSliderModel",
      "state": {
       "layout": "IPY_MODEL_1b37a149a74c40c68d34c61b481048f8",
       "style": "IPY_MODEL_3d6ebd239fc84a8e95b3007988e38134",
       "value": 50
      }
     },
     "da2e37629b7141b8a194c275f89ccef5": {
      "model_module": "@jupyter-widgets/base",
      "model_module_version": "1.0.0",
      "model_name": "LayoutModel",
      "state": {}
     },
     "eafa48b852af4f40b414b8d4f0b90c7a": {
      "model_module": "@jupyter-widgets/controls",
      "model_module_version": "1.2.0",
      "model_name": "IntSliderModel",
      "state": {
       "layout": "IPY_MODEL_da2e37629b7141b8a194c275f89ccef5",
       "style": "IPY_MODEL_bb743dc2dd2d4bb08dd2c5255e1d87c6"
      }
     },
     "f196171317cf493fabedf854f59c1d44": {
      "model_module": "@jupyter-widgets/controls",
      "model_module_version": "1.2.0",
      "model_name": "IntSliderModel",
      "state": {
       "layout": "IPY_MODEL_367694b2ecc94715a20952236f9ced88",
       "style": "IPY_MODEL_098dd75f65594c0f992ddeffeb8523e3"
      }
     },
     "f25c2eb22704411b9981f8047a2c0182": {
      "model_module": "@jupyter-widgets/base",
      "model_module_version": "1.0.0",
      "model_name": "LayoutModel",
      "state": {}
     }
    },
    "version_major": 2,
    "version_minor": 0
   }
  }
 },
 "nbformat": 4,
 "nbformat_minor": 2
}
