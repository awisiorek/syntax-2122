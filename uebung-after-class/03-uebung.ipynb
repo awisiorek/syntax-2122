{
 "cells": [
  {
   "cell_type": "markdown",
   "metadata": {},
   "source": [
    "***Syntax natürlicher Sprachen, WS 2021/22***\n",
    "\n",
    "---\n",
    "# Übung 3"
   ]
  },
  {
   "cell_type": "code",
   "execution_count": 1,
   "metadata": {},
   "outputs": [],
   "source": [
    "from nltk.tree import Tree"
   ]
  },
  {
   "cell_type": "markdown",
   "metadata": {},
   "source": [
    "---\n",
    "## Aufgabe 1: Wortarten\n",
    "\n",
    "#### Bestimmen Sie die Wortarten des folgenden Satzes. Geben Sie jeweils das entsprechende Tag aus dem Universal Dependency (http://universaldependencies.org/u/pos/) Tagset an.\n",
    "\n",
    "- *Sie gab ihm das neue Buch von Chomsky, aber er zeigte kein Interesse daran.*"
   ]
  },
  {
   "cell_type": "markdown",
   "metadata": {},
   "source": [
    "| Sie | gab | ihm | das | neue | Buch | von | Chomsky, | aber | er  | zeigte | kein | Interesse | daran.\n",
    "| --- | --- | --- | --- | ---- | ---- | --- | -------- | ---- | --- | ------ | ---- | --------- | ------ |\n",
    "| PRON | VERB | PRON | DET | ADJ  | NOUN  | ADP | PROPN      | CCONJ  | PRON | VERB    | PRON/DET  | NOUN       | PRON/ADV    |"
   ]
  },
  {
   "cell_type": "markdown",
   "metadata": {},
   "source": [
    "#### Vergleichen Sie ihre Tabelle anschließend mit dem Output des Spacy-Taggers."
   ]
  },
  {
   "cell_type": "code",
   "execution_count": 2,
   "metadata": {},
   "outputs": [],
   "source": [
    "import spacy\n",
    "\n",
    "nlp = spacy.load(\"de_core_news_sm\")\n",
    "doc = nlp('Sie gab ihm das neue Buch von Chomsky, aber er zeigte kein Interesse daran.')"
   ]
  },
  {
   "cell_type": "code",
   "execution_count": 3,
   "metadata": {},
   "outputs": [
    {
     "name": "stdout",
     "output_type": "stream",
     "text": [
      "Text       UD Tag     TIGER Tag \n",
      "========== ========== ==========\n",
      "Sie        PRON       PPER      \n",
      "gab        VERB       VVFIN     \n",
      "ihm        PRON       PPER      \n",
      "das        DET        ART       \n",
      "neue       ADJ        ADJA      \n",
      "Buch       NOUN       NN        \n",
      "von        ADP        APPR      \n",
      "Chomsky    PROPN      NE        \n",
      ",          PUNCT      $,        \n",
      "aber       CCONJ      KON       \n",
      "er         PRON       PPER      \n",
      "zeigte     VERB       VVFIN     \n",
      "kein       DET        PIAT      \n",
      "Interesse  NOUN       NN        \n",
      "daran      ADV        PROAV     \n",
      ".          PUNCT      $.        \n"
     ]
    }
   ],
   "source": [
    "format_string = '{:10s} {:10s} {:10s}'\n",
    "print(format_string.format('Text', 'UD Tag', 'TIGER Tag'))\n",
    "print(format_string.format(*(['==========']*3)))\n",
    "for token in doc:\n",
    "    print(format_string.format(token.text, token.pos_, token.tag_))"
   ]
  },
  {
   "cell_type": "code",
   "execution_count": 4,
   "metadata": {},
   "outputs": [
    {
     "data": {
      "text/plain": [
       "'attributive indefinite pronoun without determiner'"
      ]
     },
     "execution_count": 4,
     "metadata": {},
     "output_type": "execute_result"
    }
   ],
   "source": [
    "spacy.explain('PIAT')"
   ]
  },
  {
   "cell_type": "code",
   "execution_count": 5,
   "metadata": {},
   "outputs": [
    {
     "data": {
      "text/plain": [
       "'pronominal adverb'"
      ]
     },
     "execution_count": 5,
     "metadata": {},
     "output_type": "execute_result"
    }
   ],
   "source": [
    "spacy.explain('PROAV')"
   ]
  },
  {
   "cell_type": "markdown",
   "metadata": {},
   "source": [
    "---\n",
    "## Aufgabe 2: Phrasenstruktur\n",
    "\n",
    "#### Geben Sie für den folgenden Satz einen Phrasenstrukturbaum an.\n",
    "\n",
    "- *Die Studierenden schenkten ihnen ein Buch von Chomsky.*\n",
    "\n",
    "#### Erinnern Sie sich, dass Sie mit der Klasse `Tree` aus dem NLTK auch per Hand Syntaxbäume erstellen können (siehe nächste Codezelle).\n",
    "#### Sie dürfen aber auch gerne Papier und Stift benutzen :-)"
   ]
  },
  {
   "cell_type": "code",
   "execution_count": 6,
   "metadata": {
    "scrolled": true
   },
   "outputs": [
    {
     "name": "stdout",
     "output_type": "stream",
     "text": [
      "                                 S                                    \n",
      "     ┌───────────────────────────┴────┐                                \n",
      "     │                                VP                              \n",
      "     │                   ┌───────┬────┴────────────┐                   \n",
      "     │                   │       │                 NP                 \n",
      "     │                   │       │        ┌────────┴────────┐          \n",
      "     NP                  │       NP       NP                PP        \n",
      " ┌───┴───────┐           │       │    ┌───┴───┐        ┌────┴─────┐    \n",
      "ART          N           V      PRON ART      N       PREP      PROPN \n",
      " │           │           │       │    │       │        │          │    \n",
      "Die     Studierenden schenkten ihnen ein     Buch     von      Chomsky\n",
      "\n"
     ]
    }
   ],
   "source": [
    "#TEMPLATE:\n",
    "np1 = Tree(\n",
    "    'NP',\n",
    "    [Tree('ART', ['Die']),Tree('N', ['Studierenden'])]\n",
    ")\n",
    "\n",
    "np2 = Tree(\n",
    "    'NP',\n",
    "    [Tree('PRON', ['ihnen'])]\n",
    ")\n",
    "\n",
    "np3 = Tree(\n",
    "    'NP',\n",
    "    [Tree('ART', ['ein']), Tree('N', ['Buch'])]\n",
    ")\n",
    "\n",
    "pp = Tree(\n",
    "    'PP',\n",
    "    [Tree('PREP', ['von']), Tree('PROPN', ['Chomsky'])]\n",
    ")\n",
    "\n",
    "np4 = Tree(\n",
    "    'NP',\n",
    "    [np3, pp]\n",
    ")\n",
    "\n",
    "vp = Tree(\n",
    "    'VP',\n",
    "    [Tree('V', ['schenkten']), np2, np4]\n",
    ")\n",
    "\n",
    "s = Tree(\n",
    "    'S',\n",
    "    [np1, vp]\n",
    ")\n",
    "\n",
    "s.pretty_print(unicodelines=True)"
   ]
  },
  {
   "cell_type": "markdown",
   "metadata": {},
   "source": [
    "---\n",
    "## Aufgabe 3: Konstituententests"
   ]
  },
  {
   "cell_type": "markdown",
   "metadata": {},
   "source": [
    "#### Füllen Sie folgende Tabelle aus, indem Sie den jeweils angegebenen Konstituententest am folgenden Satz ausführen.\n",
    "\n",
    "- *Die Studierenden schenkten ihnen ein Buch über Fußball.*\n",
    "\n",
    "| Wortgruppe | Substitutionstest | Eliminierungstest | Permutationstest | Konstituente?\n",
    "| ---------- | ----------------- | ----------------- | ---------------- | ------------- |\n",
    "| Die Studierenden | 1✓ | 2x | 3✓ | Ja |\n",
    "| ihnen ein | 4✓ | 5x | 6x | Nein |\n",
    "| Buch über Fußball | 7✓ | 8(?) | 9x | Nein |\n",
    "| über Fußball | 10✓ | 11✓ | 12(?) | Ja |"
   ]
  },
  {
   "cell_type": "code",
   "execution_count": null,
   "metadata": {},
   "outputs": [],
   "source": [
    "1. Sie schenkten ihnen ein Buch über Fußball.\n",
    "2. \\* Schenkten ihnen ein Buch über Fußball.\n",
    "3. Ein Buch über Fußball schenkten ihnen die Studierenden.\n",
    "4. Die Studierenden schenkten das Buch über Fußball.\n",
    "5. \\* Die Studierenden schenkten Buch über Fußball.\n",
    "6. \\* Ihnen ein die Studierenden schenkten Buch über Fußball.\n",
    "7. Die Studierenden schenkten ihnen ein Fahrrad\n",
    "8. ?? Die Studierenden schenkten ihnen ein\n",
    "9. \\* Buch über Fußball schenkten ihnen die Studierenden\n",
    "10. Die Studierenden schenkten ihnen ein Buch darüber.\n",
    "11. Die Studierenden schenkten ihnen ein Buch.\n",
    "12. ?? Über Fußball schenkten die Studierenden ihnen ein Buch."
   ]
  },
  {
   "cell_type": "markdown",
   "metadata": {},
   "source": [
    "---\n",
    "## Aufgabe 4: Schrittweises Ersetzen\n",
    "\n",
    "#### Führen Sie (incl. lexikalischer und phrasaler Labels) eine Ersetzung (oder Pronominalisierung oder Eliminierung) in folgendem Satz durch, bis sie bei einem 2-Wort-Satz ankommen:\n",
    "\n",
    "- Fischers Fritz fischt die frischen Fische aus dem Fluss.\n",
    "\n",
    "##### Vergleichen Sie das Vorgehen in https://www.nltk.org/book/ch08.html#fig-ic-diagram-labeled"
   ]
  },
  {
   "cell_type": "markdown",
   "metadata": {},
   "source": [
    "**Ihre Antwort:**\n",
    "\n",
    "Fischers (N) Fritz (N) fischt (V) die (ART) frischen (ADJ) Fische (N) aus (PREP) dem (ART) Fluss (N)\n",
    "\n",
    "Er (NP) fischt (V) die (ART) frischen (ADJ) Fische (N) aus (PREP) dem (ART) Fluss (N)\n",
    "\n",
    "Er (NP) fischt (V) sie (NP) aus (PREP) dem (ART) Fluss (N)\n",
    "\n",
    "Er (NP) fischt (V) sie (NP) heraus (PP)\n",
    "\n",
    "Er (NP) redet (VP)\n"
   ]
  },
  {
   "cell_type": "code",
   "execution_count": 7,
   "metadata": {},
   "outputs": [
    {
     "name": "stdout",
     "output_type": "stream",
     "text": [
      "Text       UD Tag     TIGER Tag \n",
      "========== ========== ==========\n",
      "Er         PRON       PPER      \n",
      "fischt     VERB       VVFIN     \n",
      "sie        PRON       PPER      \n",
      "heraus     ADV        PTKVZ     \n",
      ".          PUNCT      $.        \n"
     ]
    }
   ],
   "source": [
    "doc = nlp('Er fischt sie heraus.')\n",
    "format_string = '{:10s} {:10s} {:10s}'\n",
    "print(format_string.format('Text', 'UD Tag', 'TIGER Tag'))\n",
    "print(format_string.format(*(['==========']*3)))\n",
    "for token in doc:\n",
    "    print(format_string.format(token.text, token.pos_, token.tag_))"
   ]
  },
  {
   "cell_type": "code",
   "execution_count": 8,
   "metadata": {},
   "outputs": [
    {
     "data": {
      "text/plain": [
       "'separable verbal particle'"
      ]
     },
     "execution_count": 8,
     "metadata": {},
     "output_type": "execute_result"
    }
   ],
   "source": [
    "spacy.explain('PTKVZ')"
   ]
  },
  {
   "cell_type": "markdown",
   "metadata": {},
   "source": [
    "--- \n",
    "# Hausaufgaben"
   ]
  },
  {
   "cell_type": "markdown",
   "metadata": {},
   "source": [
    "---\n",
    "## Aufgabe 5: Phrasenstruktur\n",
    "\n",
    "\n",
    "#### Zerlegen Sie den folgenden Satz in seine Konstituenten. Stellen Sie die Konstituentenstruktur mit einem Kastendiagramm dar und erstellen Sie dann mit NLTK den entsprechenden Syntaxbaum.\n",
    "\n",
    "- *Die Kunst des Ausruhens ist ein Teil der Kunst des Arbeitens.*"
   ]
  },
  {
   "cell_type": "markdown",
   "metadata": {},
   "source": [
    "\n",
    "| Die | Kunst | des | Ausruhens | ist | ein | Teil | der | Kunst | des  | Arbeitens |\n",
    "\n",
    "| Die  Kunst | ..."
   ]
  },
  {
   "cell_type": "code",
   "execution_count": null,
   "metadata": {},
   "outputs": [],
   "source": [
    "#TEMPLATE:\n",
    "np1 = Tree(\n",
    "    'NP',\n",
    "    [Tree('ART', ['Die']),Tree('N', ['Kunst'])]\n",
    ")\n",
    "vp = Tree(\n",
    "    'VP',\n",
    "    [Tree('V', ['ist'])]\n",
    ")\n",
    "s = Tree(\n",
    "    'S',\n",
    "    [np1, vp]\n",
    ")\n",
    "\n",
    "s.pretty_print(unicodelines=True)"
   ]
  }
 ],
 "metadata": {
  "kernelspec": {
   "display_name": "Python 3 (ipykernel)",
   "language": "python",
   "name": "python3"
  },
  "language_info": {
   "codemirror_mode": {
    "name": "ipython",
    "version": 3
   },
   "file_extension": ".py",
   "mimetype": "text/x-python",
   "name": "python",
   "nbconvert_exporter": "python",
   "pygments_lexer": "ipython3",
   "version": "3.9.7"
  },
  "widgets": {
   "application/vnd.jupyter.widget-state+json": {
    "state": {
     "003c358b6441433b875c5338062c97a1": {
      "model_module": "@jupyter-widgets/controls",
      "model_module_version": "1.2.0",
      "model_name": "DropdownModel",
      "state": {
       "_options_labels": [
        "Mittelfeld",
        "Nachfeld",
        "Vorfeld",
        " "
       ],
       "index": 3,
       "layout": "IPY_MODEL_a8312e77973f4bd2ab5dda46af8184aa",
       "style": "IPY_MODEL_9960a7c192114e469aab979c5b6fa57e"
      }
     },
     "00627cc1eaff4e7dbea425e0c0a8a85e": {
      "model_module": "@jupyter-widgets/controls",
      "model_module_version": "1.2.0",
      "model_name": "ButtonStyleModel",
      "state": {}
     },
     "0175919d7843437888ac5e96bc52ead1": {
      "model_module": "@jupyter-widgets/controls",
      "model_module_version": "1.2.0",
      "model_name": "HTMLModel",
      "state": {
       "layout": "IPY_MODEL_2558ab9de10c48d18dc272b2975dfec9",
       "style": "IPY_MODEL_53de42281404447d8addfa8d4ec93e16",
       "value": "<i>Wählen Sie die <ins>eine</ins> korrekte Antwort aus: </i>"
      }
     },
     "017ec6e9135b46a3923cdec0558ebb24": {
      "model_module": "@jupyter-widgets/controls",
      "model_module_version": "1.2.0",
      "model_name": "DescriptionStyleModel",
      "state": {
       "description_width": "initial"
      }
     },
     "018de17deb80425eb52d01731f39b266": {
      "model_module": "@jupyter-widgets/base",
      "model_module_version": "1.0.0",
      "model_name": "LayoutModel",
      "state": {}
     },
     "01ac87c3c89d427fb34666d8cff76bda": {
      "model_module": "@jupyter-widgets/base",
      "model_module_version": "1.0.0",
      "model_name": "LayoutModel",
      "state": {
       "width": "250px"
      }
     },
     "047a8c43c1ba432c9e0f8398a3a59e08": {
      "model_module": "@jupyter-widgets/base",
      "model_module_version": "1.0.0",
      "model_name": "LayoutModel",
      "state": {}
     },
     "05837f23126046519bc557c35f02c394": {
      "model_module": "@jupyter-widgets/base",
      "model_module_version": "1.0.0",
      "model_name": "LayoutModel",
      "state": {
       "width": "250px"
      }
     },
     "05abb530f2e14467924585b23dd9edbe": {
      "model_module": "@jupyter-widgets/base",
      "model_module_version": "1.0.0",
      "model_name": "LayoutModel",
      "state": {}
     },
     "0634c994f5fa47e5bd97db2c375c5785": {
      "model_module": "@jupyter-widgets/controls",
      "model_module_version": "1.2.0",
      "model_name": "ButtonModel",
      "state": {
       "description": "Korrekt?",
       "layout": "IPY_MODEL_5598f89511c248ea8edb7dfbfae554e5",
       "style": "IPY_MODEL_1456bcb0a52b4209bc68db4d3dd3f412"
      }
     },
     "06ea0edfc5354bd6a5fc9d088be61020": {
      "model_module": "@jupyter-widgets/controls",
      "model_module_version": "1.2.0",
      "model_name": "HTMLModel",
      "state": {
       "layout": "IPY_MODEL_1fcc9178f8044b48bf4af1f4c6c2b435",
       "style": "IPY_MODEL_6fdd4159bef74aab93267152088ab9a0",
       "value": "<h4 style=\"font-size:14px;\">Was ist der Input eines Part-of-Speech-Taggers?</h4>"
      }
     },
     "06f7fe4c09d94fc8a5320ad32fe07216": {
      "model_module": "@jupyter-widgets/base",
      "model_module_version": "1.0.0",
      "model_name": "LayoutModel",
      "state": {
       "width": "250px"
      }
     },
     "072bcd74b498483fbe0924c3dbd2898f": {
      "model_module": "@jupyter-widgets/controls",
      "model_module_version": "1.2.0",
      "model_name": "ButtonStyleModel",
      "state": {}
     },
     "072c05a13baf427aa7539e303730b61b": {
      "model_module": "@jupyter-widgets/base",
      "model_module_version": "1.0.0",
      "model_name": "LayoutModel",
      "state": {}
     },
     "085ba7635a484c40b147651e23f7b845": {
      "model_module": "@jupyter-widgets/controls",
      "model_module_version": "1.2.0",
      "model_name": "DescriptionStyleModel",
      "state": {
       "description_width": ""
      }
     },
     "08bcd47bfe174064adaa1e4107174440": {
      "model_module": "@jupyter-widgets/controls",
      "model_module_version": "1.2.0",
      "model_name": "CheckboxModel",
      "state": {
       "description": "Es fungiert als Satzglied mit der syntaktischen Funktion Adverbial.",
       "disabled": false,
       "layout": "IPY_MODEL_2771ab549cc241d09829a1c6401cbdfe",
       "style": "IPY_MODEL_e2f09f02190447678d4ec0720307f4c9",
       "value": false
      }
     },
     "0923f7ff8f3347c6aa4ea40e93a5a954": {
      "model_module": "@jupyter-widgets/controls",
      "model_module_version": "1.2.0",
      "model_name": "DescriptionStyleModel",
      "state": {
       "description_width": ""
      }
     },
     "096fc263b8744b1c9b8f67e6d8cdf493": {
      "model_module": "@jupyter-widgets/controls",
      "model_module_version": "1.2.0",
      "model_name": "HBoxModel",
      "state": {
       "children": [
        "IPY_MODEL_eafb3dec8a2446e68180b23f92cfa90c",
        "IPY_MODEL_c702f7f8df78489f854774deb6167988"
       ],
       "layout": "IPY_MODEL_5425c785231b4b7a81141c09e28910db"
      }
     },
     "098203001097408f958eb1fc8254ce2f": {
      "model_module": "@jupyter-widgets/controls",
      "model_module_version": "1.2.0",
      "model_name": "VBoxModel",
      "state": {
       "children": [
        "IPY_MODEL_3d3cc4ab9b5049859b106c0c6c19ca13",
        "IPY_MODEL_ddd67b5ea7144198927bac51ed285e7f",
        "IPY_MODEL_3a4faed976cb4e219d7b9e4292b2db04",
        "IPY_MODEL_a35cc65f9e404daa93fd8ed45421d64f"
       ],
       "layout": "IPY_MODEL_eb1022e2a4e546a497e1f39b9bce7427"
      }
     },
     "0a03fb8f81994d1ba84d61e06e89e4d3": {
      "model_module": "@jupyter-widgets/base",
      "model_module_version": "1.0.0",
      "model_name": "LayoutModel",
      "state": {
       "width": "250px"
      }
     },
     "0a207d2c42c14a1f99147528405eb8af": {
      "model_module": "@jupyter-widgets/controls",
      "model_module_version": "1.2.0",
      "model_name": "DescriptionStyleModel",
      "state": {
       "description_width": ""
      }
     },
     "0a8ff7715e6e467dba699731203aaff8": {
      "model_module": "@jupyter-widgets/controls",
      "model_module_version": "1.2.0",
      "model_name": "DescriptionStyleModel",
      "state": {
       "description_width": ""
      }
     },
     "0b3afac0205a430eb8d093818c46a563": {
      "model_module": "@jupyter-widgets/controls",
      "model_module_version": "1.2.0",
      "model_name": "HTMLModel",
      "state": {
       "layout": "IPY_MODEL_63e99fecee0249beac5870a81ba51788",
       "style": "IPY_MODEL_60999b5f55ba4c218499dfee62bbe1c9",
       "value": "<h4 style=\"font-size:14px;\">. Es gehört zu einer komplexen</h4>"
      }
     },
     "0b5c30ac94884795ad77e727ade25056": {
      "model_module": "@jupyter-widgets/controls",
      "model_module_version": "1.2.0",
      "model_name": "DropdownModel",
      "state": {
       "_options_labels": [
        "Konstituente",
        "Phrase",
        " "
       ],
       "index": 2,
       "layout": "IPY_MODEL_4e3f839197a14063904a4fb2164e3f62",
       "style": "IPY_MODEL_26bc08b329a74369be81c53dcc225dc7"
      }
     },
     "0bcf069cc9b5487f93c88537ec283d96": {
      "model_module": "@jupyter-widgets/controls",
      "model_module_version": "1.2.0",
      "model_name": "HBoxModel",
      "state": {
       "children": [
        "IPY_MODEL_90bb9845e2574072afd2406335b90527",
        "IPY_MODEL_9034963a026a41ec90c6b70849629404"
       ],
       "layout": "IPY_MODEL_465cbc40c8a840a29fadf48862fbaf3c"
      }
     },
     "0cbd09a685b941d698732633d7f8f3b1": {
      "model_module": "@jupyter-widgets/base",
      "model_module_version": "1.0.0",
      "model_name": "LayoutModel",
      "state": {
       "width": "250px"
      }
     },
     "0cc5c36542ba4b77b3cd9bf13120b720": {
      "model_module": "@jupyter-widgets/base",
      "model_module_version": "1.0.0",
      "model_name": "LayoutModel",
      "state": {
       "width": "600px"
      }
     },
     "0d08405d7fc14696aaab30500c1cd793": {
      "model_module": "@jupyter-widgets/controls",
      "model_module_version": "1.2.0",
      "model_name": "DescriptionStyleModel",
      "state": {
       "description_width": ""
      }
     },
     "0dfb2c21876f4bafa8943678dbd408cd": {
      "model_module": "@jupyter-widgets/base",
      "model_module_version": "1.0.0",
      "model_name": "LayoutModel",
      "state": {
       "width": "250px"
      }
     },
     "0e2b4f860edd4ccaa37453a965de2c7f": {
      "model_module": "@jupyter-widgets/controls",
      "model_module_version": "1.2.0",
      "model_name": "ButtonStyleModel",
      "state": {}
     },
     "0e452fb013f2489ea659221138de3605": {
      "model_module": "@jupyter-widgets/base",
      "model_module_version": "1.0.0",
      "model_name": "LayoutModel",
      "state": {}
     },
     "0e67fa95c22b4ca28b7773daba77e0d3": {
      "model_module": "@jupyter-widgets/controls",
      "model_module_version": "1.2.0",
      "model_name": "DescriptionStyleModel",
      "state": {
       "description_width": ""
      }
     },
     "0ec713f6c1214032a5194e567be8ae8a": {
      "model_module": "@jupyter-widgets/base",
      "model_module_version": "1.0.0",
      "model_name": "LayoutModel",
      "state": {
       "width": "250px"
      }
     },
     "0edfd6fc320e41a5a763511e214a68b6": {
      "model_module": "@jupyter-widgets/base",
      "model_module_version": "1.0.0",
      "model_name": "LayoutModel",
      "state": {}
     },
     "0f4da7568f554b5ea44e7b8f2652c7e5": {
      "model_module": "@jupyter-widgets/controls",
      "model_module_version": "1.2.0",
      "model_name": "HTMLModel",
      "state": {
       "layout": "IPY_MODEL_522c288cb7aa42868856ff485cfc11cd",
       "style": "IPY_MODEL_2e894047c9e14af29e0bfa5a30f215c6",
       "value": "<h4 style=\"font-size:14px;\"><i>seinen Schlüsselbund zwar noch nie verloren haben.</i></h4>"
      }
     },
     "0f956d04b3244c1188e924991751dac1": {
      "model_module": "@jupyter-widgets/controls",
      "model_module_version": "1.2.0",
      "model_name": "ButtonStyleModel",
      "state": {}
     },
     "0fb21de7ffad4c6786aa0801e3d3fec1": {
      "model_module": "@jupyter-widgets/controls",
      "model_module_version": "1.2.0",
      "model_name": "DescriptionStyleModel",
      "state": {
       "description_width": ""
      }
     },
     "100c6bdf3de24371af0e94b7a19766dc": {
      "model_module": "@jupyter-widgets/base",
      "model_module_version": "1.0.0",
      "model_name": "LayoutModel",
      "state": {}
     },
     "1044bc60a3064b0ca27173ca4c4ce3c4": {
      "model_module": "@jupyter-widgets/base",
      "model_module_version": "1.0.0",
      "model_name": "LayoutModel",
      "state": {
       "align_content": "stretch",
       "align_items": "stretch",
       "display": "inline-flex",
       "flex": "flex-grow",
       "flex_flow": "row wrap",
       "justify_content": "flex-start"
      }
     },
     "1053915e93dd4430be15fd7ad45febdc": {
      "model_module": "@jupyter-widgets/controls",
      "model_module_version": "1.2.0",
      "model_name": "HTMLModel",
      "state": {
       "layout": "IPY_MODEL_d1b4a3e4f57b4f16a0e19ac79b9fb4d7",
       "style": "IPY_MODEL_eb45cc4a7eae46d98ca4b4a71a809a62",
       "value": "<h4 style=\"font-size:14px;\">-Tupeln aus einem englischen Korpus erstellt. Zeile 2 und 3 dienen der Erzeugung einer Frequenzliste von POS-Tags derjenigen Bigramme, deren zweites Element das POS-Tag</h4>"
      }
     },
     "110ad4700d094c13b2a1c92e0adc16c2": {
      "model_module": "@jupyter-widgets/base",
      "model_module_version": "1.0.0",
      "model_name": "LayoutModel",
      "state": {}
     },
     "11678758fccd4fa9a84a0a4a28291fde": {
      "model_module": "@jupyter-widgets/base",
      "model_module_version": "1.0.0",
      "model_name": "LayoutModel",
      "state": {
       "width": "250px"
      }
     },
     "116d357a74de4ff9bdb425d774c9345c": {
      "model_module": "@jupyter-widgets/base",
      "model_module_version": "1.0.0",
      "model_name": "LayoutModel",
      "state": {
       "width": "150px"
      }
     },
     "11863ad9a5db478ca983f34308382daf": {
      "model_module": "@jupyter-widgets/controls",
      "model_module_version": "1.2.0",
      "model_name": "ButtonStyleModel",
      "state": {}
     },
     "120567b802d04c36aa9e46a82f848be1": {
      "model_module": "@jupyter-widgets/base",
      "model_module_version": "1.0.0",
      "model_name": "LayoutModel",
      "state": {
       "width": "500px"
      }
     },
     "12206ab61c1949c4a6af793e697ed15f": {
      "model_module": "@jupyter-widgets/base",
      "model_module_version": "1.0.0",
      "model_name": "LayoutModel",
      "state": {
       "width": "150px"
      }
     },
     "126b9b6145a84884b286a93b2067a267": {
      "model_module": "@jupyter-widgets/base",
      "model_module_version": "1.0.0",
      "model_name": "LayoutModel",
      "state": {}
     },
     "127cbd0d73d74177bf03fed2d5f45b72": {
      "model_module": "@jupyter-widgets/base",
      "model_module_version": "1.0.0",
      "model_name": "LayoutModel",
      "state": {
       "justify_content": "center"
      }
     },
     "12843a4d507a409eb7cde8ff3e866f43": {
      "model_module": "@jupyter-widgets/base",
      "model_module_version": "1.0.0",
      "model_name": "LayoutModel",
      "state": {
       "width": "350px"
      }
     },
     "12bb3f6f00494bfbb65029f1a72409cf": {
      "model_module": "@jupyter-widgets/base",
      "model_module_version": "1.0.0",
      "model_name": "LayoutModel",
      "state": {
       "width": "250px"
      }
     },
     "12fd0a2474884cdcb49ab10838ff89b9": {
      "model_module": "@jupyter-widgets/base",
      "model_module_version": "1.0.0",
      "model_name": "LayoutModel",
      "state": {}
     },
     "138e1330939146fead8f9c676c763ac3": {
      "model_module": "@jupyter-widgets/controls",
      "model_module_version": "1.2.0",
      "model_name": "DescriptionStyleModel",
      "state": {
       "description_width": "initial"
      }
     },
     "13a8613d54b24893a4acaa2171247260": {
      "model_module": "@jupyter-widgets/controls",
      "model_module_version": "1.2.0",
      "model_name": "VBoxModel",
      "state": {
       "children": [
        "IPY_MODEL_486366e527ee411389f288a5b5dd7617",
        "IPY_MODEL_75efb3ee219040d7b52ca31563f5a3b6",
        "IPY_MODEL_3c6ba3415494489ab501f71b20bbb5fe",
        "IPY_MODEL_5616b14fda2547b7846fb940fe3230f6"
       ],
       "layout": "IPY_MODEL_cb02825a74d64fb28d6e18041679f4e9"
      }
     },
     "13debb62345c4cc7863dbcb4a6984a67": {
      "model_module": "@jupyter-widgets/controls",
      "model_module_version": "1.2.0",
      "model_name": "HBoxModel",
      "state": {
       "children": [
        "IPY_MODEL_a1d1e61d49104db79b21d71fa4fd05cf",
        "IPY_MODEL_15d350e1433a41f1b6193bda7cc58b6f"
       ],
       "layout": "IPY_MODEL_e16c607027a14d0a962cd05b798fe500"
      }
     },
     "13eba5b105f74892a0e770faa9976aef": {
      "model_module": "@jupyter-widgets/controls",
      "model_module_version": "1.2.0",
      "model_name": "DropdownModel",
      "state": {
       "_options_labels": [
        "kürzere",
        "längere",
        " "
       ],
       "index": 2,
       "layout": "IPY_MODEL_e89900bd2c934e0f8f87149f49829d8d",
       "style": "IPY_MODEL_df98daddc04347649192a59cfdaabdde"
      }
     },
     "1456bcb0a52b4209bc68db4d3dd3f412": {
      "model_module": "@jupyter-widgets/controls",
      "model_module_version": "1.2.0",
      "model_name": "ButtonStyleModel",
      "state": {}
     },
     "14d2e51a06fc42d0ae5b94b951116e1f": {
      "model_module": "@jupyter-widgets/controls",
      "model_module_version": "1.2.0",
      "model_name": "ButtonStyleModel",
      "state": {}
     },
     "159f955b6b86413ea29f6cd2038b0fc6": {
      "model_module": "@jupyter-widgets/controls",
      "model_module_version": "1.2.0",
      "model_name": "CheckboxModel",
      "state": {
       "description": "Zu einem Wort wird ein Index seiner Kontexte aufgebaut.",
       "disabled": false,
       "layout": "IPY_MODEL_3d5dd888875b454fab98d01de872c625",
       "style": "IPY_MODEL_760a3211d9424674a8278c40e795cbb6",
       "value": false
      }
     },
     "15d350e1433a41f1b6193bda7cc58b6f": {
      "model_module": "@jupyter-widgets/controls",
      "model_module_version": "1.2.0",
      "model_name": "ButtonModel",
      "state": {
       "description": "Wortfolge",
       "layout": "IPY_MODEL_c69d69b9baa64f57bee6fe57e126b07a",
       "style": "IPY_MODEL_921cc165626745aabd708c6561464936"
      }
     },
     "1723c5ebd658478ab1fe04b652d48c47": {
      "model_module": "@jupyter-widgets/controls",
      "model_module_version": "1.2.0",
      "model_name": "DescriptionStyleModel",
      "state": {
       "description_width": ""
      }
     },
     "178b0ae1c0b94b12899c7dafd8089406": {
      "model_module": "@jupyter-widgets/controls",
      "model_module_version": "1.2.0",
      "model_name": "ButtonStyleModel",
      "state": {}
     },
     "187dbd60c5ec4ef48a3555baf56931e2": {
      "model_module": "@jupyter-widgets/base",
      "model_module_version": "1.0.0",
      "model_name": "LayoutModel",
      "state": {
       "width": "250px"
      }
     },
     "1953a93102344111b72ad6eff8eb8a60": {
      "model_module": "@jupyter-widgets/base",
      "model_module_version": "1.0.0",
      "model_name": "LayoutModel",
      "state": {}
     },
     "195dc0c161a2457ca142d8ef5df65cd2": {
      "model_module": "@jupyter-widgets/controls",
      "model_module_version": "1.2.0",
      "model_name": "HTMLModel",
      "state": {
       "layout": "IPY_MODEL_127cbd0d73d74177bf03fed2d5f45b72",
       "style": "IPY_MODEL_e5fe3fcd768746ec8ebd979d494d2a7f",
       "value": "<i>Wählen Sie die <ins>eine</ins> korrekte Antwort aus: </i>"
      }
     },
     "1a5582a643c84ba9806127da0642e58c": {
      "model_module": "@jupyter-widgets/controls",
      "model_module_version": "1.2.0",
      "model_name": "ButtonModel",
      "state": {
       "description": "Partikel",
       "layout": "IPY_MODEL_b025d65598ba4b5587022c2f7d570aa0",
       "style": "IPY_MODEL_619df496873d4f4f8bb46424d2afeb1a"
      }
     },
     "1aec29d86085410ba96e70f1d1accf0d": {
      "model_module": "@jupyter-widgets/base",
      "model_module_version": "1.0.0",
      "model_name": "LayoutModel",
      "state": {}
     },
     "1b2fe743d9084475b46fe137bb52648e": {
      "model_module": "@jupyter-widgets/base",
      "model_module_version": "1.0.0",
      "model_name": "LayoutModel",
      "state": {
       "width": "250px"
      }
     },
     "1c1abf07bd004b67a745f8423a23f75b": {
      "model_module": "@jupyter-widgets/controls",
      "model_module_version": "1.2.0",
      "model_name": "ButtonModel",
      "state": {
       "description": "Korrekt?",
       "layout": "IPY_MODEL_96386b500b884b42ba1d16b5c34304ed",
       "style": "IPY_MODEL_aa2fb08f267e4ea8b779e44f10480ee2"
      }
     },
     "1c207a7eeb3148ce90d2f79285b8c95e": {
      "model_module": "@jupyter-widgets/controls",
      "model_module_version": "1.2.0",
      "model_name": "CheckboxModel",
      "state": {
       "description": "Es bezeichnet die näheren Umstände des im Verb ausgedrückten Geschehens.",
       "disabled": false,
       "layout": "IPY_MODEL_b56c73eeb6424b71b690fa92eacbc381",
       "style": "IPY_MODEL_be2ddc3472af43f29de8831f54e71193",
       "value": false
      }
     },
     "1c7ffb10d7a841bfbb42e5fb5fd9b5f7": {
      "model_module": "@jupyter-widgets/controls",
      "model_module_version": "1.2.0",
      "model_name": "DescriptionStyleModel",
      "state": {
       "description_width": "initial"
      }
     },
     "1ceb361b3e1344e8b562053a8d832a5e": {
      "model_module": "@jupyter-widgets/controls",
      "model_module_version": "1.2.0",
      "model_name": "DescriptionStyleModel",
      "state": {
       "description_width": ""
      }
     },
     "1e2856a4c03f4ad69ac8470ed365a543": {
      "model_module": "@jupyter-widgets/controls",
      "model_module_version": "1.2.0",
      "model_name": "HTMLModel",
      "state": {
       "layout": "IPY_MODEL_a3c830fcbb424820b40e6850a6f5f605",
       "style": "IPY_MODEL_eeeb8a86dfec4344a4ae8e1760455fea",
       "value": "<h4 style=\"font-size:14px;\">gestellt. Die gesamte</h4>"
      }
     },
     "1e3bcfdc4b844df38dbf9a3dd710c51f": {
      "model_module": "@jupyter-widgets/controls",
      "model_module_version": "1.2.0",
      "model_name": "ButtonModel",
      "state": {
       "description": "3rd singular present",
       "layout": "IPY_MODEL_65c1bba23d8a431db415b785e8bd08d1",
       "style": "IPY_MODEL_48279469d78a4130b393c2d4fd602494"
      }
     },
     "1eb9713369c7479aa380c3c4368a68de": {
      "model_module": "@jupyter-widgets/controls",
      "model_module_version": "1.2.0",
      "model_name": "DescriptionStyleModel",
      "state": {
       "description_width": "initial"
      }
     },
     "1fcc9178f8044b48bf4af1f4c6c2b435": {
      "model_module": "@jupyter-widgets/base",
      "model_module_version": "1.0.0",
      "model_name": "LayoutModel",
      "state": {
       "justify_content": "center"
      }
     },
     "1fd36ddb9dcf4b27ac94350a3be69c69": {
      "model_module": "@jupyter-widgets/base",
      "model_module_version": "1.0.0",
      "model_name": "LayoutModel",
      "state": {}
     },
     "20413d162d0241a98d085ede603d6464": {
      "model_module": "@jupyter-widgets/controls",
      "model_module_version": "1.2.0",
      "model_name": "DescriptionStyleModel",
      "state": {
       "description_width": ""
      }
     },
     "204a39e093074d289adcfe0277fb4e15": {
      "model_module": "@jupyter-widgets/controls",
      "model_module_version": "1.2.0",
      "model_name": "DescriptionStyleModel",
      "state": {
       "description_width": ""
      }
     },
     "210171bc2cd54f298375ae112772b9ea": {
      "model_module": "@jupyter-widgets/controls",
      "model_module_version": "1.2.0",
      "model_name": "HTMLModel",
      "state": {
       "layout": "IPY_MODEL_36af468123ac4025ad59a5e0a88ad377",
       "style": "IPY_MODEL_8d2d0501cdca49c78d490b2bf41d827a",
       "value": "<h4 style=\"font-size:14px;\">Welche Wortart folgt damit für das Wort <i>gerne</i> in Satz 1?</h4>"
      }
     },
     "2165a55cccef4b48ac71465702c3f393": {
      "model_module": "@jupyter-widgets/base",
      "model_module_version": "1.0.0",
      "model_name": "LayoutModel",
      "state": {}
     },
     "21703cbabf174c18bea03e92558fd8af": {
      "model_module": "@jupyter-widgets/controls",
      "model_module_version": "1.2.0",
      "model_name": "DropdownModel",
      "state": {
       "_options_labels": [
        "NP",
        "PP",
        "VP",
        " "
       ],
       "index": 3,
       "layout": "IPY_MODEL_116d357a74de4ff9bdb425d774c9345c",
       "style": "IPY_MODEL_0a207d2c42c14a1f99147528405eb8af"
      }
     },
     "21f08c2618ec456d947a0c377b92f22d": {
      "model_module": "@jupyter-widgets/controls",
      "model_module_version": "1.2.0",
      "model_name": "HTMLModel",
      "state": {
       "layout": "IPY_MODEL_c6f9fc20807d4464a8df19a9207e34d0",
       "style": "IPY_MODEL_8eb07ebcd3cb4b7eb9580b7a1200faae",
       "value": "<i>Markieren Sie <ins>alle</ins> passenden Antworten: </i>"
      }
     },
     "22183340981f45e5bdb83b9c636dadd0": {
      "model_module": "@jupyter-widgets/controls",
      "model_module_version": "1.2.0",
      "model_name": "ButtonModel",
      "state": {
       "description": "simple past",
       "layout": "IPY_MODEL_4901d2a98be54e86ab8670f7663abc3c",
       "style": "IPY_MODEL_178b0ae1c0b94b12899c7dafd8089406"
      }
     },
     "228044a8cf414f3ab91a5ca6983b9b0d": {
      "model_module": "@jupyter-widgets/controls",
      "model_module_version": "1.2.0",
      "model_name": "ButtonStyleModel",
      "state": {}
     },
     "234a50084ae248b884006265db37a570": {
      "model_module": "@jupyter-widgets/base",
      "model_module_version": "1.0.0",
      "model_name": "LayoutModel",
      "state": {}
     },
     "2456074304394239a47880da3708ee28": {
      "model_module": "@jupyter-widgets/controls",
      "model_module_version": "1.2.0",
      "model_name": "HBoxModel",
      "state": {
       "children": [
        "IPY_MODEL_b57383f5eca5466ebcb032975c9b1f76",
        "IPY_MODEL_2e29cd69094a4d9584e4397bc975151a"
       ],
       "layout": "IPY_MODEL_f29655d1007b41f0a2cfab3ada7d7864"
      }
     },
     "2558ab9de10c48d18dc272b2975dfec9": {
      "model_module": "@jupyter-widgets/base",
      "model_module_version": "1.0.0",
      "model_name": "LayoutModel",
      "state": {
       "justify_content": "center"
      }
     },
     "26a65b3a40c64e3a95a1967d8044dfe3": {
      "model_module": "@jupyter-widgets/controls",
      "model_module_version": "1.2.0",
      "model_name": "DescriptionStyleModel",
      "state": {
       "description_width": ""
      }
     },
     "26bc08b329a74369be81c53dcc225dc7": {
      "model_module": "@jupyter-widgets/controls",
      "model_module_version": "1.2.0",
      "model_name": "DescriptionStyleModel",
      "state": {
       "description_width": ""
      }
     },
     "2771ab549cc241d09829a1c6401cbdfe": {
      "model_module": "@jupyter-widgets/base",
      "model_module_version": "1.0.0",
      "model_name": "LayoutModel",
      "state": {
       "width": "600px"
      }
     },
     "28a37dd4689c43dfac0c82c14ed219a7": {
      "model_module": "@jupyter-widgets/base",
      "model_module_version": "1.0.0",
      "model_name": "LayoutModel",
      "state": {
       "justify_content": "center"
      }
     },
     "290c8af452324dada4749bc457fee095": {
      "model_module": "@jupyter-widgets/controls",
      "model_module_version": "1.2.0",
      "model_name": "ButtonStyleModel",
      "state": {}
     },
     "2946608f5a394683b610159b9e4f9312": {
      "model_module": "@jupyter-widgets/controls",
      "model_module_version": "1.2.0",
      "model_name": "DescriptionStyleModel",
      "state": {
       "description_width": ""
      }
     },
     "299304545d744eb2b7d979e3f43f5df0": {
      "model_module": "@jupyter-widgets/base",
      "model_module_version": "1.0.0",
      "model_name": "LayoutModel",
      "state": {}
     },
     "29982c68f6bd4009a799fee3297183e8": {
      "model_module": "@jupyter-widgets/base",
      "model_module_version": "1.0.0",
      "model_name": "LayoutModel",
      "state": {}
     },
     "29c04575ac804bc593dd289b4bcfe719": {
      "model_module": "@jupyter-widgets/controls",
      "model_module_version": "1.2.0",
      "model_name": "DescriptionStyleModel",
      "state": {
       "description_width": ""
      }
     },
     "2a20fa3354794266af3c916c9564c5fd": {
      "model_module": "@jupyter-widgets/controls",
      "model_module_version": "1.2.0",
      "model_name": "CheckboxModel",
      "state": {
       "description": "Nur beginnt eine Reise von tausend Meilen auch mit einem Schritt",
       "disabled": false,
       "layout": "IPY_MODEL_9df6442c25564065a1986686fd5c7a90",
       "style": "IPY_MODEL_6a3ffadc6ecd4488ab916996077759c2",
       "value": false
      }
     },
     "2a3b673596b24107b8b2b13256a8c611": {
      "model_module": "@jupyter-widgets/base",
      "model_module_version": "1.0.0",
      "model_name": "LayoutModel",
      "state": {}
     },
     "2a3ce4723c3740669b00730f403dfb7a": {
      "model_module": "@jupyter-widgets/controls",
      "model_module_version": "1.2.0",
      "model_name": "HBoxModel",
      "state": {
       "children": [
        "IPY_MODEL_48f3232588184eb6a806bc1123d048a8",
        "IPY_MODEL_84b642c8634b428b965a2a9cdef2db56"
       ],
       "layout": "IPY_MODEL_aa2c217f98664504955f7dc074917a13"
      }
     },
     "2a445f211bfc47ebae5ad7b0051f56a6": {
      "model_module": "@jupyter-widgets/controls",
      "model_module_version": "1.2.0",
      "model_name": "DescriptionStyleModel",
      "state": {
       "description_width": "initial"
      }
     },
     "2a912c0865b74f0d9d29627e91278fe9": {
      "model_module": "@jupyter-widgets/controls",
      "model_module_version": "1.2.0",
      "model_name": "ButtonModel",
      "state": {
       "description": "past participle",
       "layout": "IPY_MODEL_905279fd49c343e58cf92d363a18d10c",
       "style": "IPY_MODEL_4abbc9870bed48bd86693976644862f7"
      }
     },
     "2ac0d189cf3f4079b7f69a64c93ffb5b": {
      "model_module": "@jupyter-widgets/base",
      "model_module_version": "1.0.0",
      "model_name": "LayoutModel",
      "state": {}
     },
     "2af3e97c0e7345589954403c051c00b4": {
      "model_module": "@jupyter-widgets/controls",
      "model_module_version": "1.2.0",
      "model_name": "HTMLModel",
      "state": {
       "layout": "IPY_MODEL_6f716c6808dc47bfa7691f9a2272fadb",
       "style": "IPY_MODEL_4f2de25ed90c4ffd9dd43a72824068fe",
       "value": "<h4 style=\"font-size:14px;\">durch eine</h4>"
      }
     },
     "2b4a45972c1644c0965b10b0f1bbead2": {
      "model_module": "@jupyter-widgets/controls",
      "model_module_version": "1.2.0",
      "model_name": "ButtonStyleModel",
      "state": {}
     },
     "2bb36b9442ed45449eed23739e19a85a": {
      "model_module": "@jupyter-widgets/base",
      "model_module_version": "1.0.0",
      "model_name": "LayoutModel",
      "state": {
       "width": "600px"
      }
     },
     "2ce06bc3d155458482f7020b37548989": {
      "model_module": "@jupyter-widgets/controls",
      "model_module_version": "1.2.0",
      "model_name": "ButtonModel",
      "state": {
       "description": "Keine der anderen Möglichkeiten",
       "layout": "IPY_MODEL_7f944004cc7744df8e74182a339a8ef5",
       "style": "IPY_MODEL_290c8af452324dada4749bc457fee095"
      }
     },
     "2cfd86ac15974b3186a25db76655026f": {
      "model_module": "@jupyter-widgets/controls",
      "model_module_version": "1.2.0",
      "model_name": "DescriptionStyleModel",
      "state": {
       "description_width": ""
      }
     },
     "2d9a4a6a640d4889904a387d93a3848c": {
      "model_module": "@jupyter-widgets/controls",
      "model_module_version": "1.2.0",
      "model_name": "HTMLModel",
      "state": {
       "layout": "IPY_MODEL_82a456f6008247dbb2234cf086c24961",
       "style": "IPY_MODEL_e5a7e07199bb4a0a8a57f7307e61329f",
       "value": "<h4 style=\"font-size:14px;\">Ersetzbarkeit einer</h4>"
      }
     },
     "2e1cc2555fd24b7fa55d2873f69baecb": {
      "model_module": "@jupyter-widgets/controls",
      "model_module_version": "1.2.0",
      "model_name": "ButtonStyleModel",
      "state": {}
     },
     "2e29cd69094a4d9584e4397bc975151a": {
      "model_module": "@jupyter-widgets/controls",
      "model_module_version": "1.2.0",
      "model_name": "ButtonModel",
      "state": {
       "description": "past participle",
       "layout": "IPY_MODEL_eae5c35f5626492589ff72084e42b96e",
       "style": "IPY_MODEL_630d3576587041bd9eff41e52abbccac"
      }
     },
     "2e894047c9e14af29e0bfa5a30f215c6": {
      "model_module": "@jupyter-widgets/controls",
      "model_module_version": "1.2.0",
      "model_name": "DescriptionStyleModel",
      "state": {
       "description_width": ""
      }
     },
     "2e9dcb70acd7436f97b3adaf4fc9b779": {
      "model_module": "@jupyter-widgets/base",
      "model_module_version": "1.0.0",
      "model_name": "LayoutModel",
      "state": {
       "justify_content": "center"
      }
     },
     "2f2bb97ae6964831ab45573a8eaa692c": {
      "model_module": "@jupyter-widgets/controls",
      "model_module_version": "1.2.0",
      "model_name": "ButtonModel",
      "state": {
       "description": "simple past",
       "layout": "IPY_MODEL_dbc788a3ebd24876a202f8d91d2434b5",
       "style": "IPY_MODEL_fe175aedd3094b6aa2c891aaf12bd19c"
      }
     },
     "2f4d5e07a2b544328d32e8b38ed620a5": {
      "model_module": "@jupyter-widgets/base",
      "model_module_version": "1.0.0",
      "model_name": "LayoutModel",
      "state": {
       "justify_content": "center"
      }
     },
     "2ff4f732fb1941de811f9d24df2fa383": {
      "model_module": "@jupyter-widgets/base",
      "model_module_version": "1.0.0",
      "model_name": "LayoutModel",
      "state": {}
     },
     "313c19be1bdc44149c376c607a2dec6a": {
      "model_module": "@jupyter-widgets/controls",
      "model_module_version": "1.2.0",
      "model_name": "BoxModel",
      "state": {
       "children": [
        "IPY_MODEL_caaffa157186429ca53d17151d0c94db",
        "IPY_MODEL_0b5c30ac94884795ad77e727ade25056",
        "IPY_MODEL_b18a25409c93461d8671a436be10bc6f",
        "IPY_MODEL_9f5034d4a1324dd19bc7ca8c26c1662e",
        "IPY_MODEL_0b3afac0205a430eb8d093818c46a563",
        "IPY_MODEL_21703cbabf174c18bea03e92558fd8af",
        "IPY_MODEL_d70f29365bc6471595da2acdd0e5b42e",
        "IPY_MODEL_003c358b6441433b875c5338062c97a1",
        "IPY_MODEL_1e2856a4c03f4ad69ac8470ed365a543",
        "IPY_MODEL_f7a272febe094b559190363b9f368c91",
        "IPY_MODEL_cc16cba242bf49b897aba1679ba593a6",
        "IPY_MODEL_4512412b47af47af9c6377e570a4b6e3",
        "IPY_MODEL_0f4da7568f554b5ea44e7b8f2652c7e5"
       ],
       "layout": "IPY_MODEL_1044bc60a3064b0ca27173ca4c4ce3c4"
      }
     },
     "3158065894984928857d97d2c4685855": {
      "model_module": "@jupyter-widgets/base",
      "model_module_version": "1.0.0",
      "model_name": "LayoutModel",
      "state": {}
     },
     "3233ae6c93924560adbe8bbbdbf5a4d0": {
      "model_module": "@jupyter-widgets/base",
      "model_module_version": "1.0.0",
      "model_name": "LayoutModel",
      "state": {
       "justify_content": "center"
      }
     },
     "327e409c05e448d081bd44dc07ec12fe": {
      "model_module": "@jupyter-widgets/controls",
      "model_module_version": "1.2.0",
      "model_name": "ButtonModel",
      "state": {
       "description": "base",
       "layout": "IPY_MODEL_46af242726b04d149885187098ca4819",
       "style": "IPY_MODEL_2b4a45972c1644c0965b10b0f1bbead2"
      }
     },
     "32a9392df34c4ab78f78e01b0d66bbf1": {
      "model_module": "@jupyter-widgets/controls",
      "model_module_version": "1.2.0",
      "model_name": "DescriptionStyleModel",
      "state": {
       "description_width": ""
      }
     },
     "32bf6dc6bfe646a8ac95277665c15e8e": {
      "model_module": "@jupyter-widgets/controls",
      "model_module_version": "1.2.0",
      "model_name": "VBoxModel",
      "state": {
       "children": [
        "IPY_MODEL_a991ffa8e4e44a52ae6ebe26b4aa4f44",
        "IPY_MODEL_cfffa5bb13624eb59e1ac03c58788953",
        "IPY_MODEL_096fc263b8744b1c9b8f67e6d8cdf493",
        "IPY_MODEL_c5399cebabe74fa6b2de74043d1157ea"
       ],
       "layout": "IPY_MODEL_fdcee4101b8c434bae50a29054c323cf"
      }
     },
     "32d887ea88ff47c69fd704b1398c7074": {
      "model_module": "@jupyter-widgets/controls",
      "model_module_version": "1.2.0",
      "model_name": "VBoxModel",
      "state": {
       "children": [
        "IPY_MODEL_bcd45601e1a245789bfcdb94dcadc019",
        "IPY_MODEL_bc1d69b7783841b5b6c07e3ca92e0ab5",
        "IPY_MODEL_13a8613d54b24893a4acaa2171247260",
        "IPY_MODEL_85634c894b4f46ecb63b28f20f3b7a34"
       ],
       "layout": "IPY_MODEL_589df59cd9134407905f6060abe4b825"
      }
     },
     "34003e9011bc4a57928a1c7e159adfa1": {
      "model_module": "@jupyter-widgets/base",
      "model_module_version": "1.0.0",
      "model_name": "LayoutModel",
      "state": {}
     },
     "351bc6cc313d42829647bfc854a44f89": {
      "model_module": "@jupyter-widgets/base",
      "model_module_version": "1.0.0",
      "model_name": "LayoutModel",
      "state": {}
     },
     "3552a1f982264443b3c212cb7f6c394e": {
      "model_module": "@jupyter-widgets/base",
      "model_module_version": "1.0.0",
      "model_name": "LayoutModel",
      "state": {
       "width": "250px"
      }
     },
     "355f9663f2d64fa0b426d7f0b03da730": {
      "model_module": "@jupyter-widgets/controls",
      "model_module_version": "1.2.0",
      "model_name": "DescriptionStyleModel",
      "state": {
       "description_width": ""
      }
     },
     "35cc0a1811c44f0595149db292010b95": {
      "model_module": "@jupyter-widgets/base",
      "model_module_version": "1.0.0",
      "model_name": "LayoutModel",
      "state": {
       "width": "250px"
      }
     },
     "36af468123ac4025ad59a5e0a88ad377": {
      "model_module": "@jupyter-widgets/base",
      "model_module_version": "1.0.0",
      "model_name": "LayoutModel",
      "state": {
       "justify_content": "center"
      }
     },
     "36b1a10e98804ed8971ff219900baf05": {
      "model_module": "@jupyter-widgets/controls",
      "model_module_version": "1.2.0",
      "model_name": "DescriptionStyleModel",
      "state": {
       "description_width": "initial"
      }
     },
     "36ba574a7b9a48788f162522a8585e10": {
      "model_module": "@jupyter-widgets/controls",
      "model_module_version": "1.2.0",
      "model_name": "HTMLModel",
      "state": {
       "layout": "IPY_MODEL_0e452fb013f2489ea659221138de3605",
       "style": "IPY_MODEL_91608f25f3004d0b91d2a23c326ae698",
       "value": "<h4 style=\"font-size:14px;\">.</h4>"
      }
     },
     "373dae6511194a30b2215bc27c18be50": {
      "model_module": "@jupyter-widgets/base",
      "model_module_version": "1.0.0",
      "model_name": "LayoutModel",
      "state": {}
     },
     "37cf2b0c48004251b74fd24925f4075d": {
      "model_module": "@jupyter-widgets/controls",
      "model_module_version": "1.2.0",
      "model_name": "HBoxModel",
      "state": {
       "children": [
        "IPY_MODEL_2f2bb97ae6964831ab45573a8eaa692c"
       ],
       "layout": "IPY_MODEL_9dd02c8cf40d48308ec0529df684731e"
      }
     },
     "382912b249af48ffa102158b9548b2f5": {
      "model_module": "@jupyter-widgets/controls",
      "model_module_version": "1.2.0",
      "model_name": "CheckboxModel",
      "state": {
       "description": "Flexionstyp",
       "disabled": false,
       "layout": "IPY_MODEL_95c4cc293ceb41dab45ca6694254030e",
       "style": "IPY_MODEL_138e1330939146fead8f9c676c763ac3",
       "value": false
      }
     },
     "3860afb26ba446828e8c22a48585d5f9": {
      "model_module": "@jupyter-widgets/controls",
      "model_module_version": "1.2.0",
      "model_name": "DescriptionStyleModel",
      "state": {
       "description_width": "initial"
      }
     },
     "3981eb89486742a2ac948abae1bb8b7a": {
      "model_module": "@jupyter-widgets/controls",
      "model_module_version": "1.2.0",
      "model_name": "ButtonStyleModel",
      "state": {}
     },
     "3a16e1e5fc074c27af119329a5ad8eee": {
      "model_module": "@jupyter-widgets/controls",
      "model_module_version": "1.2.0",
      "model_name": "DescriptionStyleModel",
      "state": {
       "description_width": ""
      }
     },
     "3a4faed976cb4e219d7b9e4292b2db04": {
      "model_module": "@jupyter-widgets/controls",
      "model_module_version": "1.2.0",
      "model_name": "TextareaModel",
      "state": {
       "layout": "IPY_MODEL_120567b802d04c36aa9e46a82f848be1",
       "placeholder": "Type something",
       "style": "IPY_MODEL_0923f7ff8f3347c6aa4ea40e93a5a954",
       "value": "nltk.____()"
      }
     },
     "3a679ce2f2a14d8293dd2ebb45d949a3": {
      "model_module": "@jupyter-widgets/base",
      "model_module_version": "1.0.0",
      "model_name": "LayoutModel",
      "state": {}
     },
     "3a6bd93c93e8476ca4984b6837256724": {
      "model_module": "@jupyter-widgets/base",
      "model_module_version": "1.0.0",
      "model_name": "LayoutModel",
      "state": {}
     },
     "3a8a411806e848b180248c6b0a05c1a6": {
      "model_module": "@jupyter-widgets/base",
      "model_module_version": "1.0.0",
      "model_name": "LayoutModel",
      "state": {
       "width": "250px"
      }
     },
     "3adeda1a44ef41bb8eb1feceba4c656b": {
      "model_module": "@jupyter-widgets/controls",
      "model_module_version": "1.2.0",
      "model_name": "HTMLModel",
      "state": {
       "layout": "IPY_MODEL_f2978c81987145e9a0841a0d196b04cf",
       "style": "IPY_MODEL_5bd3f4945ece4e0b8d3952c71d9e4ff6",
       "value": "<h4 style=\"font-size:14px;\">Was bedeutet das Tag <i>VBD</i> im Browntagset (siehe 5.7)?</h4>"
      }
     },
     "3c1270415af24c86a5ff22672ef6d2bd": {
      "model_module": "@jupyter-widgets/controls",
      "model_module_version": "1.2.0",
      "model_name": "HTMLModel",
      "state": {
       "layout": "IPY_MODEL_f3033a5a780f4559997793e353beae77",
       "style": "IPY_MODEL_448ef3d8f06243eabb50593e1214a9a5",
       "value": "<i>Vervollständigen Sie den Lückentext: </i>"
      }
     },
     "3c43455d67474f8bafa3a3be185680a1": {
      "model_module": "@jupyter-widgets/controls",
      "model_module_version": "1.2.0",
      "model_name": "HTMLModel",
      "state": {
       "layout": "IPY_MODEL_fdcd4caa057843aa9d901edb21497235",
       "style": "IPY_MODEL_2946608f5a394683b610159b9e4f9312",
       "value": "<h4 style=\"font-size:14px;\">im Englischen.</h4>"
      }
     },
     "3c6ba3415494489ab501f71b20bbb5fe": {
      "model_module": "@jupyter-widgets/controls",
      "model_module_version": "1.2.0",
      "model_name": "CheckboxModel",
      "state": {
       "description": "Permutationstest",
       "disabled": false,
       "layout": "IPY_MODEL_c4203ce17ba4428bb0c0712c4efb23b1",
       "style": "IPY_MODEL_6bfcc1683a3041179e63573f8cb4875a",
       "value": false
      }
     },
     "3c7bd443c8b64bd592eced68212540a2": {
      "model_module": "@jupyter-widgets/controls",
      "model_module_version": "1.2.0",
      "model_name": "VBoxModel",
      "state": {
       "children": [
        "IPY_MODEL_8c6a6c300f53475cbd94e58aa76f6fc2",
        "IPY_MODEL_43aa1ede335947bc9cc38ada6d696beb",
        "IPY_MODEL_95580bbce87d4b03a1c16450bff36c32",
        "IPY_MODEL_47b6883fd4224929b9dc0c2e45002ad5"
       ],
       "layout": "IPY_MODEL_ae7e2baab9944aee9f13fe85440fb2cd"
      }
     },
     "3d181784fb024c52b2aea77096c547f8": {
      "model_module": "@jupyter-widgets/controls",
      "model_module_version": "1.2.0",
      "model_name": "ButtonStyleModel",
      "state": {}
     },
     "3d3cc4ab9b5049859b106c0c6c19ca13": {
      "model_module": "@jupyter-widgets/controls",
      "model_module_version": "1.2.0",
      "model_name": "HTMLModel",
      "state": {
       "layout": "IPY_MODEL_3a6bd93c93e8476ca4984b6837256724",
       "style": "IPY_MODEL_aa8ec83ca176499da3c83d195a5afc0c",
       "value": "<h4 style=\"font-size:14px;\">Wie wirt der POS-Tagger im NLTK aufgerufen?</h4>"
      }
     },
     "3d45549fa30d4f3aac0ff92e3a9d47cb": {
      "model_module": "@jupyter-widgets/controls",
      "model_module_version": "1.2.0",
      "model_name": "ButtonStyleModel",
      "state": {}
     },
     "3d5dd888875b454fab98d01de872c625": {
      "model_module": "@jupyter-widgets/base",
      "model_module_version": "1.0.0",
      "model_name": "LayoutModel",
      "state": {
       "width": "600px"
      }
     },
     "3e3e256a04e94464a7ade9bc8f81a708": {
      "model_module": "@jupyter-widgets/controls",
      "model_module_version": "1.2.0",
      "model_name": "HTMLModel",
      "state": {
       "layout": "IPY_MODEL_28a37dd4689c43dfac0c82c14ed219a7",
       "style": "IPY_MODEL_7d8389e78d624545b4b8cff17780f7b9",
       "value": "<i>Wählen Sie die <ins>eine</ins> korrekte Antwort aus: </i>"
      }
     },
     "3e5898a0dc8b4e739209021e1b7311d6": {
      "model_module": "@jupyter-widgets/controls",
      "model_module_version": "1.2.0",
      "model_name": "ButtonStyleModel",
      "state": {}
     },
     "3e5b353e074b483ba98c2dc390330156": {
      "model_module": "@jupyter-widgets/controls",
      "model_module_version": "1.2.0",
      "model_name": "HBoxModel",
      "state": {
       "children": [
        "IPY_MODEL_22183340981f45e5bdb83b9c636dadd0"
       ],
       "layout": "IPY_MODEL_b2edddb21b4944d388828df262730bb5"
      }
     },
     "3eab1a5cddee4c9c8b3ee0079d53b772": {
      "model_module": "@jupyter-widgets/base",
      "model_module_version": "1.0.0",
      "model_name": "LayoutModel",
      "state": {
       "width": "250px"
      }
     },
     "3fdf5a1f5fac49f5a35daac6d45e625a": {
      "model_module": "@jupyter-widgets/controls",
      "model_module_version": "1.2.0",
      "model_name": "ButtonModel",
      "state": {
       "description": "Korrekt?",
       "layout": "IPY_MODEL_0dfb2c21876f4bafa8943678dbd408cd",
       "style": "IPY_MODEL_a606d227ee21487ab47a96add3d04d5f"
      }
     },
     "406e8c600ac24d2092e9c41e3ffb8533": {
      "model_module": "@jupyter-widgets/base",
      "model_module_version": "1.0.0",
      "model_name": "LayoutModel",
      "state": {
       "width": "600px"
      }
     },
     "40addfbe80ad4f619d193ba65efbd0a9": {
      "model_module": "@jupyter-widgets/base",
      "model_module_version": "1.0.0",
      "model_name": "LayoutModel",
      "state": {
       "justify_content": "center"
      }
     },
     "40df080766244e4dbcd9e752969ed7dd": {
      "model_module": "@jupyter-widgets/controls",
      "model_module_version": "1.2.0",
      "model_name": "VBoxModel",
      "state": {
       "children": [
        "IPY_MODEL_1c207a7eeb3148ce90d2f79285b8c95e",
        "IPY_MODEL_08bcd47bfe174064adaa1e4107174440",
        "IPY_MODEL_d507645ada814132a5ab22e7e6816990"
       ],
       "layout": "IPY_MODEL_647aaaca181646b5b40375c0249c892a"
      }
     },
     "4108c333d2384fe08d5e7a34c2f25929": {
      "model_module": "@jupyter-widgets/controls",
      "model_module_version": "1.2.0",
      "model_name": "DescriptionStyleModel",
      "state": {
       "description_width": ""
      }
     },
     "418e482010154aef832997d78291982c": {
      "model_module": "@jupyter-widgets/controls",
      "model_module_version": "1.2.0",
      "model_name": "HBoxModel",
      "state": {
       "children": [
        "IPY_MODEL_a7bb67ef76c743cfa3decf3f9b52db6d",
        "IPY_MODEL_d3d98c6bc09146109a1987a566b3653c"
       ],
       "layout": "IPY_MODEL_1aec29d86085410ba96e70f1d1accf0d"
      }
     },
     "41ac55ad398f41f3813834478f625784": {
      "model_module": "@jupyter-widgets/controls",
      "model_module_version": "1.2.0",
      "model_name": "BoxModel",
      "state": {
       "children": [
        "IPY_MODEL_d1912f7047b4462093463c0ccd8adfde",
        "IPY_MODEL_9daa762f50534d748643d3fbc9ec2ba6",
        "IPY_MODEL_56942630916848aeaa14b6874f98cd46",
        "IPY_MODEL_b69e33aaaa044e079ae1a8799f7d8327",
        "IPY_MODEL_88526e554f1640f6b5fb6aaba2fc7e0c"
       ],
       "layout": "IPY_MODEL_9bdaa5c67dc64ed28676c2f79a73cc24"
      }
     },
     "4299741124d1494b8eebc46175efa391": {
      "model_module": "@jupyter-widgets/base",
      "model_module_version": "1.0.0",
      "model_name": "LayoutModel",
      "state": {
       "justify_content": "center"
      }
     },
     "42b2c86d3dce4f7e8bc9307a0e624239": {
      "model_module": "@jupyter-widgets/base",
      "model_module_version": "1.0.0",
      "model_name": "LayoutModel",
      "state": {
       "width": "150px"
      }
     },
     "42ce06315cb74e3bb4acc12c8d6ab66c": {
      "model_module": "@jupyter-widgets/base",
      "model_module_version": "1.0.0",
      "model_name": "LayoutModel",
      "state": {
       "justify_content": "center"
      }
     },
     "430805e5c1a44d57aa40644f25a5f695": {
      "model_module": "@jupyter-widgets/controls",
      "model_module_version": "1.2.0",
      "model_name": "ButtonStyleModel",
      "state": {}
     },
     "43aa1ede335947bc9cc38ada6d696beb": {
      "model_module": "@jupyter-widgets/controls",
      "model_module_version": "1.2.0",
      "model_name": "HTMLModel",
      "state": {
       "layout": "IPY_MODEL_f17ce0bc1f8c479c8d2a2c38347bce47",
       "style": "IPY_MODEL_4b6c248db6ee49858a0ca7107e163a02",
       "value": "<i>Markieren Sie <ins>alle</ins> passenden Antworten: </i>"
      }
     },
     "448ef3d8f06243eabb50593e1214a9a5": {
      "model_module": "@jupyter-widgets/controls",
      "model_module_version": "1.2.0",
      "model_name": "DescriptionStyleModel",
      "state": {
       "description_width": ""
      }
     },
     "4512412b47af47af9c6377e570a4b6e3": {
      "model_module": "@jupyter-widgets/controls",
      "model_module_version": "1.2.0",
      "model_name": "DropdownModel",
      "state": {
       "_options_labels": [
        "Konstituenten",
        "Phrasen",
        " "
       ],
       "index": 2,
       "layout": "IPY_MODEL_f2307be0fe704421beaf86f154d5c25d",
       "style": "IPY_MODEL_3a16e1e5fc074c27af119329a5ad8eee"
      }
     },
     "4515f29be5654fa6ae71e7f3be609a73": {
      "model_module": "@jupyter-widgets/base",
      "model_module_version": "1.0.0",
      "model_name": "LayoutModel",
      "state": {
       "width": "250px"
      }
     },
     "4565378f525f4dc192240e4a71b85655": {
      "model_module": "@jupyter-widgets/controls",
      "model_module_version": "1.2.0",
      "model_name": "HTMLModel",
      "state": {
       "layout": "IPY_MODEL_6fce487dd4c743bc8a03ed0162218845",
       "style": "IPY_MODEL_d6370f6837a74a98b6aa2b72a67751de",
       "value": "<h4 style=\"font-size:14px;\">Sequenz unter Erhalt der</h4>"
      }
     },
     "45e8f7dd26a3402b8e4adbd9ee6295fc": {
      "model_module": "@jupyter-widgets/controls",
      "model_module_version": "1.2.0",
      "model_name": "ButtonModel",
      "state": {
       "description": "Korrekt?",
       "layout": "IPY_MODEL_6775a5da67b24e478d537f13852c5852",
       "style": "IPY_MODEL_71d35e551c444f78a674fff5f2ef322e"
      }
     },
     "465cbc40c8a840a29fadf48862fbaf3c": {
      "model_module": "@jupyter-widgets/base",
      "model_module_version": "1.0.0",
      "model_name": "LayoutModel",
      "state": {}
     },
     "46787a55e45a45f38d16cef90d6e1601": {
      "model_module": "@jupyter-widgets/controls",
      "model_module_version": "1.2.0",
      "model_name": "DescriptionStyleModel",
      "state": {
       "description_width": ""
      }
     },
     "46af242726b04d149885187098ca4819": {
      "model_module": "@jupyter-widgets/base",
      "model_module_version": "1.0.0",
      "model_name": "LayoutModel",
      "state": {
       "width": "250px"
      }
     },
     "47338cc8dbad4b56b2e5425b88eea8ac": {
      "model_module": "@jupyter-widgets/controls",
      "model_module_version": "1.2.0",
      "model_name": "HTMLModel",
      "state": {
       "layout": "IPY_MODEL_2165a55cccef4b48ac71465702c3f393",
       "style": "IPY_MODEL_b6efe2b67c4240069e67dbd07469d3df",
       "value": "<h4 style=\"font-size:14px;\">Was leistet die Funktion <code>nltk.similar()</code>?</h4>"
      }
     },
     "474355e40e384192ab3f362997a96426": {
      "model_module": "@jupyter-widgets/controls",
      "model_module_version": "1.2.0",
      "model_name": "HBoxModel",
      "state": {
       "children": [
        "IPY_MODEL_1a5582a643c84ba9806127da0642e58c",
        "IPY_MODEL_5a8ff579b0094ba192ee89618aa4ad52"
       ],
       "layout": "IPY_MODEL_81af7728b5d64833b16080914f22fc3d"
      }
     },
     "47b6883fd4224929b9dc0c2e45002ad5": {
      "model_module": "@jupyter-widgets/controls",
      "model_module_version": "1.2.0",
      "model_name": "ButtonModel",
      "state": {
       "description": "Korrekt?",
       "layout": "IPY_MODEL_af0d8f2c59e242d4aee560055e27dbd5",
       "style": "IPY_MODEL_fa28752d3c314659a103a6e55db88981"
      }
     },
     "48279469d78a4130b393c2d4fd602494": {
      "model_module": "@jupyter-widgets/controls",
      "model_module_version": "1.2.0",
      "model_name": "ButtonStyleModel",
      "state": {}
     },
     "4847af4dd1374f229c575182dcb9f236": {
      "model_module": "@jupyter-widgets/base",
      "model_module_version": "1.0.0",
      "model_name": "LayoutModel",
      "state": {
       "width": "600px"
      }
     },
     "486366e527ee411389f288a5b5dd7617": {
      "model_module": "@jupyter-widgets/controls",
      "model_module_version": "1.2.0",
      "model_name": "CheckboxModel",
      "state": {
       "description": "Eliminierungstest",
       "disabled": false,
       "layout": "IPY_MODEL_0cc5c36542ba4b77b3cd9bf13120b720",
       "style": "IPY_MODEL_a1d5ea56b17c42708fd486cc8e7ca583",
       "value": false
      }
     },
     "48b67b67432e4e3c89334baad4b65362": {
      "model_module": "@jupyter-widgets/controls",
      "model_module_version": "1.2.0",
      "model_name": "ButtonModel",
      "state": {
       "description": "Adjektiv",
       "layout": "IPY_MODEL_5d8a0978d1e748698a11e0f1f0aab1b5",
       "style": "IPY_MODEL_3981eb89486742a2ac948abae1bb8b7a"
      }
     },
     "48f3232588184eb6a806bc1123d048a8": {
      "model_module": "@jupyter-widgets/controls",
      "model_module_version": "1.2.0",
      "model_name": "ButtonModel",
      "state": {
       "description": "3rd singular present",
       "layout": "IPY_MODEL_0a03fb8f81994d1ba84d61e06e89e4d3",
       "style": "IPY_MODEL_a580f912d78b40f08b231307311d3cde"
      }
     },
     "4901d2a98be54e86ab8670f7663abc3c": {
      "model_module": "@jupyter-widgets/base",
      "model_module_version": "1.0.0",
      "model_name": "LayoutModel",
      "state": {
       "width": "250px"
      }
     },
     "4a30b455ae274b75b80efeb2e6950802": {
      "model_module": "@jupyter-widgets/controls",
      "model_module_version": "1.2.0",
      "model_name": "ButtonModel",
      "state": {
       "description": "simple past",
       "layout": "IPY_MODEL_1b2fe743d9084475b46fe137bb52648e",
       "style": "IPY_MODEL_3e5898a0dc8b4e739209021e1b7311d6"
      }
     },
     "4a78bd96d7d94bbcbed8e19bc3c1b3e2": {
      "model_module": "@jupyter-widgets/base",
      "model_module_version": "1.0.0",
      "model_name": "LayoutModel",
      "state": {}
     },
     "4abbc9870bed48bd86693976644862f7": {
      "model_module": "@jupyter-widgets/controls",
      "model_module_version": "1.2.0",
      "model_name": "ButtonStyleModel",
      "state": {}
     },
     "4b6c248db6ee49858a0ca7107e163a02": {
      "model_module": "@jupyter-widgets/controls",
      "model_module_version": "1.2.0",
      "model_name": "DescriptionStyleModel",
      "state": {
       "description_width": ""
      }
     },
     "4c115528ffb447c1977459807bbb13de": {
      "model_module": "@jupyter-widgets/controls",
      "model_module_version": "1.2.0",
      "model_name": "HTMLModel",
      "state": {
       "layout": "IPY_MODEL_fc8a51882627437282aa97519ff401e9",
       "style": "IPY_MODEL_eb511ee71320444687d24f6c065a7ed1",
       "value": "<h4 style=\"font-size:14px;\">-Tupel von</h4>"
      }
     },
     "4e3f839197a14063904a4fb2164e3f62": {
      "model_module": "@jupyter-widgets/base",
      "model_module_version": "1.0.0",
      "model_name": "LayoutModel",
      "state": {
       "width": "150px"
      }
     },
     "4eb30e3ff71c431cbe0ec3906cb262ba": {
      "model_module": "@jupyter-widgets/base",
      "model_module_version": "1.0.0",
      "model_name": "LayoutModel",
      "state": {}
     },
     "4ece0852c08544cab4c6f8dd260982ce": {
      "model_module": "@jupyter-widgets/controls",
      "model_module_version": "1.2.0",
      "model_name": "DescriptionStyleModel",
      "state": {
       "description_width": ""
      }
     },
     "4ef11d5f0f794534ab796f88c8c0f1b8": {
      "model_module": "@jupyter-widgets/controls",
      "model_module_version": "1.2.0",
      "model_name": "VBoxModel",
      "state": {
       "children": [
        "IPY_MODEL_3adeda1a44ef41bb8eb1feceba4c656b",
        "IPY_MODEL_b920c781948e48ac9f2d0db4685994e8",
        "IPY_MODEL_94cc180e71cf45e893f13cef9d2429a7",
        "IPY_MODEL_8cd94742a894407090babc076f4a5672",
        "IPY_MODEL_37cf2b0c48004251b74fd24925f4075d"
       ],
       "layout": "IPY_MODEL_5fabf96b88454010afce203dd2fc89b3"
      }
     },
     "4f2de25ed90c4ffd9dd43a72824068fe": {
      "model_module": "@jupyter-widgets/controls",
      "model_module_version": "1.2.0",
      "model_name": "DescriptionStyleModel",
      "state": {
       "description_width": ""
      }
     },
     "4f99a6ba13a44fc28c8d0e7bce6706b6": {
      "model_module": "@jupyter-widgets/controls",
      "model_module_version": "1.2.0",
      "model_name": "DescriptionStyleModel",
      "state": {
       "description_width": ""
      }
     },
     "513dc43464b84eae936fa53d4865778d": {
      "model_module": "@jupyter-widgets/controls",
      "model_module_version": "1.2.0",
      "model_name": "ButtonStyleModel",
      "state": {}
     },
     "51434281aa6c40f59c136b6d976ed822": {
      "model_module": "@jupyter-widgets/controls",
      "model_module_version": "1.2.0",
      "model_name": "CheckboxModel",
      "state": {
       "description": "Zu einem Wort werden seine Kookkurrenzpartner gefunden.",
       "disabled": false,
       "layout": "IPY_MODEL_406e8c600ac24d2092e9c41e3ffb8533",
       "style": "IPY_MODEL_a0f9f6f6f4654846ba4183d61191aae8",
       "value": false
      }
     },
     "51d8c9a787ef42be912aa8c4bfe5f46f": {
      "model_module": "@jupyter-widgets/controls",
      "model_module_version": "1.2.0",
      "model_name": "ButtonModel",
      "state": {
       "description": "base",
       "layout": "IPY_MODEL_62aecc1b976b42de99c1b5949932fda0",
       "style": "IPY_MODEL_6a4d274cfd644f938465906adb62151e"
      }
     },
     "522c288cb7aa42868856ff485cfc11cd": {
      "model_module": "@jupyter-widgets/base",
      "model_module_version": "1.0.0",
      "model_name": "LayoutModel",
      "state": {}
     },
     "5335f1fafc2841afb9ff31e8b1b58090": {
      "model_module": "@jupyter-widgets/controls",
      "model_module_version": "1.2.0",
      "model_name": "DescriptionStyleModel",
      "state": {
       "description_width": ""
      }
     },
     "53624897a0584b5f8b191310f9f556d3": {
      "model_module": "@jupyter-widgets/base",
      "model_module_version": "1.0.0",
      "model_name": "LayoutModel",
      "state": {}
     },
     "53de42281404447d8addfa8d4ec93e16": {
      "model_module": "@jupyter-widgets/controls",
      "model_module_version": "1.2.0",
      "model_name": "DescriptionStyleModel",
      "state": {
       "description_width": ""
      }
     },
     "53e657368f9e4413bba78d380ebb25e5": {
      "model_module": "@jupyter-widgets/controls",
      "model_module_version": "1.2.0",
      "model_name": "ButtonStyleModel",
      "state": {}
     },
     "5425c785231b4b7a81141c09e28910db": {
      "model_module": "@jupyter-widgets/base",
      "model_module_version": "1.0.0",
      "model_name": "LayoutModel",
      "state": {}
     },
     "5598f89511c248ea8edb7dfbfae554e5": {
      "model_module": "@jupyter-widgets/base",
      "model_module_version": "1.0.0",
      "model_name": "LayoutModel",
      "state": {
       "width": "250px"
      }
     },
     "5616b14fda2547b7846fb940fe3230f6": {
      "model_module": "@jupyter-widgets/controls",
      "model_module_version": "1.2.0",
      "model_name": "CheckboxModel",
      "state": {
       "description": "Substitutionstest",
       "disabled": false,
       "layout": "IPY_MODEL_6dd244cc9f074076a770f184eb8a0c51",
       "style": "IPY_MODEL_36b1a10e98804ed8971ff219900baf05",
       "value": false
      }
     },
     "56942630916848aeaa14b6874f98cd46": {
      "model_module": "@jupyter-widgets/controls",
      "model_module_version": "1.2.0",
      "model_name": "HTMLModel",
      "state": {
       "layout": "IPY_MODEL_0edfd6fc320e41a5a763511e214a68b6",
       "style": "IPY_MODEL_204a39e093074d289adcfe0277fb4e15",
       "value": "<h4 style=\"font-size:14px;\">Phrasen verkettet werden können. Das Ergebnis ist eine Phrase des gleichen Typs, also der gleichen</h4>"
      }
     },
     "56c08356f16c488ca62d5fa99d1e7ef6": {
      "model_module": "@jupyter-widgets/controls",
      "model_module_version": "1.2.0",
      "model_name": "DescriptionStyleModel",
      "state": {
       "description_width": "initial"
      }
     },
     "56d7280d7c7e47a6abd06fd9f79731fb": {
      "model_module": "@jupyter-widgets/base",
      "model_module_version": "1.0.0",
      "model_name": "LayoutModel",
      "state": {
       "width": "600px"
      }
     },
     "56e92b4f109d429d9cacc3381440621a": {
      "model_module": "@jupyter-widgets/controls",
      "model_module_version": "1.2.0",
      "model_name": "ButtonModel",
      "state": {
       "description": "past participle",
       "layout": "IPY_MODEL_11678758fccd4fa9a84a0a4a28291fde",
       "style": "IPY_MODEL_5e38c433f3d84a51a9a7040d78189d3b"
      }
     },
     "575f336547744f77af10238563cd8261": {
      "model_module": "@jupyter-widgets/base",
      "model_module_version": "1.0.0",
      "model_name": "LayoutModel",
      "state": {
       "width": "250px"
      }
     },
     "586a9e1aaa12409fbb8d9d59dccc820a": {
      "model_module": "@jupyter-widgets/controls",
      "model_module_version": "1.2.0",
      "model_name": "DescriptionStyleModel",
      "state": {
       "description_width": ""
      }
     },
     "589df59cd9134407905f6060abe4b825": {
      "model_module": "@jupyter-widgets/base",
      "model_module_version": "1.0.0",
      "model_name": "LayoutModel",
      "state": {}
     },
     "590c0e44a8134e53b0b2562e6a945bee": {
      "model_module": "@jupyter-widgets/controls",
      "model_module_version": "1.2.0",
      "model_name": "ButtonModel",
      "state": {
       "description": "3rd singular present",
       "layout": "IPY_MODEL_61ba3db965f64ad6bdb0b726eb232ecd",
       "style": "IPY_MODEL_65e2bd381f5c4ec3a1bfd2b952fb32f5"
      }
     },
     "59e9a6bf9f714aaba7c250105c76b41f": {
      "model_module": "@jupyter-widgets/controls",
      "model_module_version": "1.2.0",
      "model_name": "ButtonStyleModel",
      "state": {}
     },
     "59f4fa54548c4fb8b2b466596d3a47d8": {
      "model_module": "@jupyter-widgets/controls",
      "model_module_version": "1.2.0",
      "model_name": "DescriptionStyleModel",
      "state": {
       "description_width": "initial"
      }
     },
     "5a8ff579b0094ba192ee89618aa4ad52": {
      "model_module": "@jupyter-widgets/controls",
      "model_module_version": "1.2.0",
      "model_name": "ButtonModel",
      "state": {
       "description": "Keine der anderen Möglichkeiten",
       "layout": "IPY_MODEL_3eab1a5cddee4c9c8b3ee0079d53b772",
       "style": "IPY_MODEL_8012723aadfd468a9ead9b89cc9bb698"
      }
     },
     "5a95d302f0db4aa4806da5ef467c256a": {
      "model_module": "@jupyter-widgets/controls",
      "model_module_version": "1.2.0",
      "model_name": "DescriptionStyleModel",
      "state": {
       "description_width": ""
      }
     },
     "5bc11d42c4f4429abd76ede2d6eacd32": {
      "model_module": "@jupyter-widgets/controls",
      "model_module_version": "1.2.0",
      "model_name": "ButtonStyleModel",
      "state": {}
     },
     "5bd3f4945ece4e0b8d3952c71d9e4ff6": {
      "model_module": "@jupyter-widgets/controls",
      "model_module_version": "1.2.0",
      "model_name": "DescriptionStyleModel",
      "state": {
       "description_width": ""
      }
     },
     "5c3544788ee14b86bca8f03064960c45": {
      "model_module": "@jupyter-widgets/base",
      "model_module_version": "1.0.0",
      "model_name": "LayoutModel",
      "state": {
       "justify_content": "center"
      }
     },
     "5c8a2226e5a14a028faa360f3aec5940": {
      "model_module": "@jupyter-widgets/base",
      "model_module_version": "1.0.0",
      "model_name": "LayoutModel",
      "state": {
       "justify_content": "center"
      }
     },
     "5d161c9e3991413d96bd326f64693fd0": {
      "model_module": "@jupyter-widgets/controls",
      "model_module_version": "1.2.0",
      "model_name": "HBoxModel",
      "state": {
       "children": [
        "IPY_MODEL_eda45b3f02c64ebaaa5bb3d236bbc96c"
       ],
       "layout": "IPY_MODEL_072c05a13baf427aa7539e303730b61b"
      }
     },
     "5d8a0978d1e748698a11e0f1f0aab1b5": {
      "model_module": "@jupyter-widgets/base",
      "model_module_version": "1.0.0",
      "model_name": "LayoutModel",
      "state": {
       "width": "250px"
      }
     },
     "5d93f70c56244d8abd08df8e036fb4cf": {
      "model_module": "@jupyter-widgets/base",
      "model_module_version": "1.0.0",
      "model_name": "LayoutModel",
      "state": {
       "align_content": "stretch",
       "align_items": "stretch",
       "display": "inline-flex",
       "flex": "flex-grow",
       "flex_flow": "row wrap",
       "justify_content": "flex-start"
      }
     },
     "5df8096ec50d46ce8021d82332d070c2": {
      "model_module": "@jupyter-widgets/base",
      "model_module_version": "1.0.0",
      "model_name": "LayoutModel",
      "state": {
       "width": "150px"
      }
     },
     "5e38c433f3d84a51a9a7040d78189d3b": {
      "model_module": "@jupyter-widgets/controls",
      "model_module_version": "1.2.0",
      "model_name": "ButtonStyleModel",
      "state": {}
     },
     "5e5aef5f032640c3bb77ce8e76866a26": {
      "model_module": "@jupyter-widgets/base",
      "model_module_version": "1.0.0",
      "model_name": "LayoutModel",
      "state": {
       "width": "150px"
      }
     },
     "5edcb65dd9344d22a18e3ba413912d9d": {
      "model_module": "@jupyter-widgets/controls",
      "model_module_version": "1.2.0",
      "model_name": "DescriptionStyleModel",
      "state": {
       "description_width": ""
      }
     },
     "5f07b7cb64ef41c5a70c39db240030a5": {
      "model_module": "@jupyter-widgets/controls",
      "model_module_version": "1.2.0",
      "model_name": "HBoxModel",
      "state": {
       "children": [
        "IPY_MODEL_590c0e44a8134e53b0b2562e6a945bee",
        "IPY_MODEL_51d8c9a787ef42be912aa8c4bfe5f46f"
       ],
       "layout": "IPY_MODEL_351bc6cc313d42829647bfc854a44f89"
      }
     },
     "5f18aac9a117420ab393fdfee6e73659": {
      "model_module": "@jupyter-widgets/base",
      "model_module_version": "1.0.0",
      "model_name": "LayoutModel",
      "state": {}
     },
     "5fabf96b88454010afce203dd2fc89b3": {
      "model_module": "@jupyter-widgets/base",
      "model_module_version": "1.0.0",
      "model_name": "LayoutModel",
      "state": {}
     },
     "60999b5f55ba4c218499dfee62bbe1c9": {
      "model_module": "@jupyter-widgets/controls",
      "model_module_version": "1.2.0",
      "model_name": "DescriptionStyleModel",
      "state": {
       "description_width": ""
      }
     },
     "60ce2ed4cdad48c8b8e7295b373fce61": {
      "model_module": "@jupyter-widgets/base",
      "model_module_version": "1.0.0",
      "model_name": "LayoutModel",
      "state": {}
     },
     "61309ee3918a4d918f236bbf8b8b63ea": {
      "model_module": "@jupyter-widgets/controls",
      "model_module_version": "1.2.0",
      "model_name": "DescriptionStyleModel",
      "state": {
       "description_width": ""
      }
     },
     "614ea12753fe477ea0942344310ca20e": {
      "model_module": "@jupyter-widgets/controls",
      "model_module_version": "1.2.0",
      "model_name": "ButtonModel",
      "state": {
       "description": "gerund",
       "layout": "IPY_MODEL_06f7fe4c09d94fc8a5320ad32fe07216",
       "style": "IPY_MODEL_11863ad9a5db478ca983f34308382daf"
      }
     },
     "619df496873d4f4f8bb46424d2afeb1a": {
      "model_module": "@jupyter-widgets/controls",
      "model_module_version": "1.2.0",
      "model_name": "ButtonStyleModel",
      "state": {}
     },
     "61ba3db965f64ad6bdb0b726eb232ecd": {
      "model_module": "@jupyter-widgets/base",
      "model_module_version": "1.0.0",
      "model_name": "LayoutModel",
      "state": {
       "width": "250px"
      }
     },
     "62aecc1b976b42de99c1b5949932fda0": {
      "model_module": "@jupyter-widgets/base",
      "model_module_version": "1.0.0",
      "model_name": "LayoutModel",
      "state": {
       "width": "250px"
      }
     },
     "630d3576587041bd9eff41e52abbccac": {
      "model_module": "@jupyter-widgets/controls",
      "model_module_version": "1.2.0",
      "model_name": "ButtonStyleModel",
      "state": {}
     },
     "632f5836396445e192287a8dff71899e": {
      "model_module": "@jupyter-widgets/base",
      "model_module_version": "1.0.0",
      "model_name": "LayoutModel",
      "state": {}
     },
     "635201f6b700434da95c45c7bf099264": {
      "model_module": "@jupyter-widgets/controls",
      "model_module_version": "1.2.0",
      "model_name": "CheckboxModel",
      "state": {
       "description": "Nur mit beginnt eine Reise von tausend Meilen auch einem Schritt.",
       "disabled": false,
       "layout": "IPY_MODEL_680fa3c2b0cd4945bd34ed9e1731c9c8",
       "style": "IPY_MODEL_ee7190bb853c49f1b5cc6e21fb0dd078",
       "value": false
      }
     },
     "63b7c80889d5498f987dd0320cfa1ef0": {
      "model_module": "@jupyter-widgets/controls",
      "model_module_version": "1.2.0",
      "model_name": "HTMLModel",
      "state": {
       "layout": "IPY_MODEL_2f4d5e07a2b544328d32e8b38ed620a5",
       "style": "IPY_MODEL_717bea62773d456fa60ae70409c198a6",
       "value": "<i>Markieren Sie <ins>alle</ins> passenden Antworten: </i>"
      }
     },
     "63e99fecee0249beac5870a81ba51788": {
      "model_module": "@jupyter-widgets/base",
      "model_module_version": "1.0.0",
      "model_name": "LayoutModel",
      "state": {}
     },
     "641e4cd0817e45ba82cfc83e4513e310": {
      "model_module": "@jupyter-widgets/controls",
      "model_module_version": "1.2.0",
      "model_name": "HTMLModel",
      "state": {
       "layout": "IPY_MODEL_3233ae6c93924560adbe8bbbdbf5a4d0",
       "style": "IPY_MODEL_20413d162d0241a98d085ede603d6464",
       "value": "<i>Wählen Sie die <ins>eine</ins> korrekte Antwort aus: </i>"
      }
     },
     "647aaaca181646b5b40375c0249c892a": {
      "model_module": "@jupyter-widgets/base",
      "model_module_version": "1.0.0",
      "model_name": "LayoutModel",
      "state": {}
     },
     "649ab1fbead34a33aafcd0d2d95dc1fc": {
      "model_module": "@jupyter-widgets/controls",
      "model_module_version": "1.2.0",
      "model_name": "ButtonStyleModel",
      "state": {}
     },
     "655278375cf449568b0346f40e5b2b71": {
      "model_module": "@jupyter-widgets/base",
      "model_module_version": "1.0.0",
      "model_name": "LayoutModel",
      "state": {
       "width": "150px"
      }
     },
     "658e79f3bc684119b5d15e0e4d7c9c0a": {
      "model_module": "@jupyter-widgets/controls",
      "model_module_version": "1.2.0",
      "model_name": "DescriptionStyleModel",
      "state": {
       "description_width": "initial"
      }
     },
     "65c1bba23d8a431db415b785e8bd08d1": {
      "model_module": "@jupyter-widgets/base",
      "model_module_version": "1.0.0",
      "model_name": "LayoutModel",
      "state": {
       "width": "250px"
      }
     },
     "65e2bd381f5c4ec3a1bfd2b952fb32f5": {
      "model_module": "@jupyter-widgets/controls",
      "model_module_version": "1.2.0",
      "model_name": "ButtonStyleModel",
      "state": {}
     },
     "6775a5da67b24e478d537f13852c5852": {
      "model_module": "@jupyter-widgets/base",
      "model_module_version": "1.0.0",
      "model_name": "LayoutModel",
      "state": {
       "width": "250px"
      }
     },
     "680fa3c2b0cd4945bd34ed9e1731c9c8": {
      "model_module": "@jupyter-widgets/base",
      "model_module_version": "1.0.0",
      "model_name": "LayoutModel",
      "state": {
       "width": "600px"
      }
     },
     "686a4b2bbd534007b97e3bcc763623e2": {
      "model_module": "@jupyter-widgets/controls",
      "model_module_version": "1.2.0",
      "model_name": "ButtonModel",
      "state": {
       "description": "Lösung zeigen",
       "layout": "IPY_MODEL_5df8096ec50d46ce8021d82332d070c2",
       "style": "IPY_MODEL_2e1cc2555fd24b7fa55d2873f69baecb"
      }
     },
     "69bcc5d9e0b34b8c955365a71b424b12": {
      "model_module": "@jupyter-widgets/base",
      "model_module_version": "1.0.0",
      "model_name": "LayoutModel",
      "state": {}
     },
     "69be0a62b4fc4f96b111d0dffaa9ec88": {
      "model_module": "@jupyter-widgets/controls",
      "model_module_version": "1.2.0",
      "model_name": "HBoxModel",
      "state": {
       "children": [
        "IPY_MODEL_6c9a47424aaa4a2ba1977a2bd621b902",
        "IPY_MODEL_a2534db4857f471ba2dbb0ad10f1b2bd"
       ],
       "layout": "IPY_MODEL_100c6bdf3de24371af0e94b7a19766dc"
      }
     },
     "6a26006c833b42638ceb415f03b8b16f": {
      "model_module": "@jupyter-widgets/controls",
      "model_module_version": "1.2.0",
      "model_name": "DescriptionStyleModel",
      "state": {
       "description_width": ""
      }
     },
     "6a3ffadc6ecd4488ab916996077759c2": {
      "model_module": "@jupyter-widgets/controls",
      "model_module_version": "1.2.0",
      "model_name": "DescriptionStyleModel",
      "state": {
       "description_width": "initial"
      }
     },
     "6a4d274cfd644f938465906adb62151e": {
      "model_module": "@jupyter-widgets/controls",
      "model_module_version": "1.2.0",
      "model_name": "ButtonStyleModel",
      "state": {}
     },
     "6a509eb142084f44bc269bbf4bcc802b": {
      "model_module": "@jupyter-widgets/base",
      "model_module_version": "1.0.0",
      "model_name": "LayoutModel",
      "state": {}
     },
     "6ab56d1339b84c70836b363a91cd1fb5": {
      "model_module": "@jupyter-widgets/base",
      "model_module_version": "1.0.0",
      "model_name": "LayoutModel",
      "state": {}
     },
     "6ac3d8d2e8aa4766b4691aa9847364c4": {
      "model_module": "@jupyter-widgets/controls",
      "model_module_version": "1.2.0",
      "model_name": "DescriptionStyleModel",
      "state": {
       "description_width": ""
      }
     },
     "6b26e38d5c2f40acb5145265ea2f6cce": {
      "model_module": "@jupyter-widgets/controls",
      "model_module_version": "1.2.0",
      "model_name": "ButtonStyleModel",
      "state": {}
     },
     "6bf50b0035434cb188705adb69ba99b4": {
      "model_module": "@jupyter-widgets/controls",
      "model_module_version": "1.2.0",
      "model_name": "ButtonStyleModel",
      "state": {}
     },
     "6bfcc1683a3041179e63573f8cb4875a": {
      "model_module": "@jupyter-widgets/controls",
      "model_module_version": "1.2.0",
      "model_name": "DescriptionStyleModel",
      "state": {
       "description_width": "initial"
      }
     },
     "6c9a47424aaa4a2ba1977a2bd621b902": {
      "model_module": "@jupyter-widgets/controls",
      "model_module_version": "1.2.0",
      "model_name": "ButtonModel",
      "state": {
       "description": "Adjektiv",
       "layout": "IPY_MODEL_9d8abf4945424487bb38463f1e4a3a53",
       "style": "IPY_MODEL_3d181784fb024c52b2aea77096c547f8"
      }
     },
     "6cdc67edf3bd4d7b80034eecbb3e8b39": {
      "model_module": "@jupyter-widgets/controls",
      "model_module_version": "1.2.0",
      "model_name": "VBoxModel",
      "state": {
       "children": [
        "IPY_MODEL_7522e8280e36402991fef6dc90019b19",
        "IPY_MODEL_daa55aff4cc3428e8a8e0fb0f81f8150",
        "IPY_MODEL_40df080766244e4dbcd9e752969ed7dd",
        "IPY_MODEL_3fdf5a1f5fac49f5a35daac6d45e625a"
       ],
       "layout": "IPY_MODEL_eeb718f2add94907a67c269368bdd109"
      }
     },
     "6d993776773e4c5c9c9459a3d7ecd8c5": {
      "model_module": "@jupyter-widgets/controls",
      "model_module_version": "1.2.0",
      "model_name": "DescriptionStyleModel",
      "state": {
       "description_width": ""
      }
     },
     "6dd244cc9f074076a770f184eb8a0c51": {
      "model_module": "@jupyter-widgets/base",
      "model_module_version": "1.0.0",
      "model_name": "LayoutModel",
      "state": {
       "width": "600px"
      }
     },
     "6f716c6808dc47bfa7691f9a2272fadb": {
      "model_module": "@jupyter-widgets/base",
      "model_module_version": "1.0.0",
      "model_name": "LayoutModel",
      "state": {}
     },
     "6f91b26711ad4b63888165b44d53cfda": {
      "model_module": "@jupyter-widgets/controls",
      "model_module_version": "1.2.0",
      "model_name": "CheckboxModel",
      "state": {
       "description": "Mit einem Schritt beginnt eine Reise von tausend Meilen auch nur.",
       "disabled": false,
       "layout": "IPY_MODEL_b588747391c14012be83162df25cee22",
       "style": "IPY_MODEL_59f4fa54548c4fb8b2b466596d3a47d8",
       "value": false
      }
     },
     "6f9887c1694143bda2e89505d357799b": {
      "model_module": "@jupyter-widgets/controls",
      "model_module_version": "1.2.0",
      "model_name": "BoxModel",
      "state": {
       "children": [
        "IPY_MODEL_f58e0c150eb043d48ced327afb6ed445",
        "IPY_MODEL_88e769ad24d84b6c8242043930d28736",
        "IPY_MODEL_4c115528ffb447c1977459807bbb13de",
        "IPY_MODEL_fdf8901a0f124bdfb051e01296d7e885",
        "IPY_MODEL_1053915e93dd4430be15fd7ad45febdc",
        "IPY_MODEL_cc599d152b3049008aed8cdcf8da4e68",
        "IPY_MODEL_89011942703446ceba9a86177bab77a3",
        "IPY_MODEL_dadba7a3d20d452e82a5dad84a6292f5",
        "IPY_MODEL_3c43455d67474f8bafa3a3be185680a1"
       ],
       "layout": "IPY_MODEL_5d93f70c56244d8abd08df8e036fb4cf"
      }
     },
     "6fce487dd4c743bc8a03ed0162218845": {
      "model_module": "@jupyter-widgets/base",
      "model_module_version": "1.0.0",
      "model_name": "LayoutModel",
      "state": {}
     },
     "6fdd4159bef74aab93267152088ab9a0": {
      "model_module": "@jupyter-widgets/controls",
      "model_module_version": "1.2.0",
      "model_name": "DescriptionStyleModel",
      "state": {
       "description_width": ""
      }
     },
     "7031fb56f6a341ba86b4298665c86558": {
      "model_module": "@jupyter-widgets/base",
      "model_module_version": "1.0.0",
      "model_name": "LayoutModel",
      "state": {}
     },
     "7098ecdbaa644eecacaec20a2feaa31b": {
      "model_module": "@jupyter-widgets/base",
      "model_module_version": "1.0.0",
      "model_name": "LayoutModel",
      "state": {
       "width": "250px"
      }
     },
     "70e5378a28a244e3b06ffffa346c285a": {
      "model_module": "@jupyter-widgets/controls",
      "model_module_version": "1.2.0",
      "model_name": "DescriptionStyleModel",
      "state": {
       "description_width": "initial"
      }
     },
     "717bea62773d456fa60ae70409c198a6": {
      "model_module": "@jupyter-widgets/controls",
      "model_module_version": "1.2.0",
      "model_name": "DescriptionStyleModel",
      "state": {
       "description_width": ""
      }
     },
     "71d35e551c444f78a674fff5f2ef322e": {
      "model_module": "@jupyter-widgets/controls",
      "model_module_version": "1.2.0",
      "model_name": "ButtonStyleModel",
      "state": {}
     },
     "71f01fd8420942e6a2a473976da9011e": {
      "model_module": "@jupyter-widgets/base",
      "model_module_version": "1.0.0",
      "model_name": "LayoutModel",
      "state": {
       "width": "150px"
      }
     },
     "72846f388f384b75a775734aee934eb7": {
      "model_module": "@jupyter-widgets/base",
      "model_module_version": "1.0.0",
      "model_name": "LayoutModel",
      "state": {}
     },
     "72da4c153f1d49d2a0bca9b74961aa3b": {
      "model_module": "@jupyter-widgets/base",
      "model_module_version": "1.0.0",
      "model_name": "LayoutModel",
      "state": {}
     },
     "740ef1dfc19e48aebc42c095a1729921": {
      "model_module": "@jupyter-widgets/controls",
      "model_module_version": "1.2.0",
      "model_name": "ButtonStyleModel",
      "state": {}
     },
     "74cdecc7e26043e298931f503c052d05": {
      "model_module": "@jupyter-widgets/controls",
      "model_module_version": "1.2.0",
      "model_name": "CheckboxModel",
      "state": {
       "description": "gleiche syntagmatische Position",
       "disabled": false,
       "layout": "IPY_MODEL_4847af4dd1374f229c575182dcb9f236",
       "style": "IPY_MODEL_e3918b94ada440189028a59d39b7bbe4",
       "value": false
      }
     },
     "7522e8280e36402991fef6dc90019b19": {
      "model_module": "@jupyter-widgets/controls",
      "model_module_version": "1.2.0",
      "model_name": "HTMLModel",
      "state": {
       "layout": "IPY_MODEL_b129ef6962164cefaa2569a345398217",
       "style": "IPY_MODEL_32a9392df34c4ab78f78e01b0d66bbf1",
       "value": "<h4 style=\"font-size:14px;\">Welche Eigenschaften hat <i>gerne</i> in Satz 1?</h4>"
      }
     },
     "756d2353e8c7417e948e751cde7aac33": {
      "model_module": "@jupyter-widgets/controls",
      "model_module_version": "1.2.0",
      "model_name": "ButtonModel",
      "state": {
       "description": "Korrekt?",
       "layout": "IPY_MODEL_b291b987a2d24c2d82e47a0d9d8f8529",
       "style": "IPY_MODEL_fb4c6152805341a48133735398919e99"
      }
     },
     "758ad791cf4645e3ac5fe909131b1636": {
      "model_module": "@jupyter-widgets/controls",
      "model_module_version": "1.2.0",
      "model_name": "VBoxModel",
      "state": {
       "children": [
        "IPY_MODEL_382912b249af48ffa102158b9548b2f5",
        "IPY_MODEL_ce705682e78b4d3799842531905a568f",
        "IPY_MODEL_c52d9480bdd445f48bf7860b8148fd09",
        "IPY_MODEL_a6f8ee993dee400d8b52cba737e9f3c8"
       ],
       "layout": "IPY_MODEL_05abb530f2e14467924585b23dd9edbe"
      }
     },
     "75efb3ee219040d7b52ca31563f5a3b6": {
      "model_module": "@jupyter-widgets/controls",
      "model_module_version": "1.2.0",
      "model_name": "CheckboxModel",
      "state": {
       "description": "Koordinationstest",
       "disabled": false,
       "layout": "IPY_MODEL_78c5e84de3d34018ad0d3c606cd8fb13",
       "style": "IPY_MODEL_70e5378a28a244e3b06ffffa346c285a",
       "value": false
      }
     },
     "760a3211d9424674a8278c40e795cbb6": {
      "model_module": "@jupyter-widgets/controls",
      "model_module_version": "1.2.0",
      "model_name": "DescriptionStyleModel",
      "state": {
       "description_width": "initial"
      }
     },
     "7622924ec506460fb72b509668ac4147": {
      "model_module": "@jupyter-widgets/controls",
      "model_module_version": "1.2.0",
      "model_name": "ButtonStyleModel",
      "state": {}
     },
     "7655c7086b1f43ae87772f3df0dcd5c5": {
      "model_module": "@jupyter-widgets/base",
      "model_module_version": "1.0.0",
      "model_name": "LayoutModel",
      "state": {
       "justify_content": "center"
      }
     },
     "768ca528220e42e2bf8a81fbf63a8541": {
      "model_module": "@jupyter-widgets/base",
      "model_module_version": "1.0.0",
      "model_name": "LayoutModel",
      "state": {
       "align_content": "stretch",
       "align_items": "stretch",
       "display": "inline-flex",
       "flex": "flex-grow",
       "flex_flow": "row wrap",
       "justify_content": "flex-start"
      }
     },
     "76c22f475ed7495ca6d7640676b9b4e5": {
      "model_module": "@jupyter-widgets/base",
      "model_module_version": "1.0.0",
      "model_name": "LayoutModel",
      "state": {
       "width": "150px"
      }
     },
     "7847e6c7707d4690ac00d541f63510ab": {
      "model_module": "@jupyter-widgets/base",
      "model_module_version": "1.0.0",
      "model_name": "LayoutModel",
      "state": {
       "width": "600px"
      }
     },
     "78760654130e4711b31ea8159b906575": {
      "model_module": "@jupyter-widgets/controls",
      "model_module_version": "1.2.0",
      "model_name": "DropdownModel",
      "state": {
       "_options_labels": [
        "kürzeren",
        "längeren",
        " "
       ],
       "index": 2,
       "layout": "IPY_MODEL_71f01fd8420942e6a2a473976da9011e",
       "style": "IPY_MODEL_4ece0852c08544cab4c6f8dd260982ce"
      }
     },
     "78c5e84de3d34018ad0d3c606cd8fb13": {
      "model_module": "@jupyter-widgets/base",
      "model_module_version": "1.0.0",
      "model_name": "LayoutModel",
      "state": {
       "width": "600px"
      }
     },
     "7a69880c7e45446fa45cdcacddd5282e": {
      "model_module": "@jupyter-widgets/controls",
      "model_module_version": "1.2.0",
      "model_name": "DescriptionStyleModel",
      "state": {
       "description_width": ""
      }
     },
     "7b19a28c40d6438c8e705d9fdcea8aad": {
      "model_module": "@jupyter-widgets/controls",
      "model_module_version": "1.2.0",
      "model_name": "DescriptionStyleModel",
      "state": {
       "description_width": ""
      }
     },
     "7bec3c970c3e44cdb9e4d37e2c85ae61": {
      "model_module": "@jupyter-widgets/controls",
      "model_module_version": "1.2.0",
      "model_name": "HTMLModel",
      "state": {
       "layout": "IPY_MODEL_6a509eb142084f44bc269bbf4bcc802b",
       "style": "IPY_MODEL_9f01fb2cefd14f028a1b01c5b50727c9",
       "value": "<h4 style=\"font-size:14px;\">Welcher ist der richtig permutierte Satz?</h4>"
      }
     },
     "7ca602bb3bc2489198555e95054e57a4": {
      "model_module": "@jupyter-widgets/controls",
      "model_module_version": "1.2.0",
      "model_name": "HTMLModel",
      "state": {
       "layout": "IPY_MODEL_40addfbe80ad4f619d193ba65efbd0a9",
       "style": "IPY_MODEL_61309ee3918a4d918f236bbf8b8b63ea",
       "value": "<h4 style=\"font-size:14px;\">Was bedeutet das Tag <i>VB</i> im Browntagset (siehe 5.7)?</h4>"
      }
     },
     "7d8389e78d624545b4b8cff17780f7b9": {
      "model_module": "@jupyter-widgets/controls",
      "model_module_version": "1.2.0",
      "model_name": "DescriptionStyleModel",
      "state": {
       "description_width": ""
      }
     },
     "7d8f57c240534cfc893bf5e2e52a57c5": {
      "model_module": "@jupyter-widgets/controls",
      "model_module_version": "1.2.0",
      "model_name": "ButtonModel",
      "state": {
       "description": "3rd singular present",
       "layout": "IPY_MODEL_3552a1f982264443b3c212cb7f6c394e",
       "style": "IPY_MODEL_740ef1dfc19e48aebc42c095a1729921"
      }
     },
     "7e610a41fc744a7dadc188120830d0a4": {
      "model_module": "@jupyter-widgets/controls",
      "model_module_version": "1.2.0",
      "model_name": "CheckboxModel",
      "state": {
       "description": "Es ist flektierbar.",
       "disabled": false,
       "layout": "IPY_MODEL_fe67e792901e47bbb3c8bd78ec3d471d",
       "style": "IPY_MODEL_2a445f211bfc47ebae5ad7b0051f56a6",
       "value": false
      }
     },
     "7f944004cc7744df8e74182a339a8ef5": {
      "model_module": "@jupyter-widgets/base",
      "model_module_version": "1.0.0",
      "model_name": "LayoutModel",
      "state": {
       "width": "250px"
      }
     },
     "8012723aadfd468a9ead9b89cc9bb698": {
      "model_module": "@jupyter-widgets/controls",
      "model_module_version": "1.2.0",
      "model_name": "ButtonStyleModel",
      "state": {}
     },
     "813b9ca890fe40839431febed5a2787f": {
      "model_module": "@jupyter-widgets/controls",
      "model_module_version": "1.2.0",
      "model_name": "ButtonModel",
      "state": {
       "description": "simple past",
       "layout": "IPY_MODEL_e920dd9f3c46491faf0f96eb50823103",
       "style": "IPY_MODEL_9734f755820140c89acc6b79d8e55237"
      }
     },
     "817916bd25eb48be99314d869cb8e445": {
      "model_module": "@jupyter-widgets/controls",
      "model_module_version": "1.2.0",
      "model_name": "HBoxModel",
      "state": {
       "children": [
        "IPY_MODEL_93eca29746934f2792b5ac8abc65bc40",
        "IPY_MODEL_c64399322cb646a69c78599384670f44"
       ],
       "layout": "IPY_MODEL_60ce2ed4cdad48c8b8e7295b373fce61"
      }
     },
     "81af7728b5d64833b16080914f22fc3d": {
      "model_module": "@jupyter-widgets/base",
      "model_module_version": "1.0.0",
      "model_name": "LayoutModel",
      "state": {}
     },
     "81e0e28c7aba49538a99087446cbddd0": {
      "model_module": "@jupyter-widgets/controls",
      "model_module_version": "1.2.0",
      "model_name": "HTMLModel",
      "state": {
       "layout": "IPY_MODEL_5c3544788ee14b86bca8f03064960c45",
       "style": "IPY_MODEL_e2fe23fba3e04c1face022eca228e126",
       "value": "<h4 style=\"font-size:14px;\">Was bedeutet das Tag <i>VBG</i> im Browntagset (siehe 5.7)?</h4>"
      }
     },
     "82a456f6008247dbb2234cf086c24961": {
      "model_module": "@jupyter-widgets/base",
      "model_module_version": "1.0.0",
      "model_name": "LayoutModel",
      "state": {}
     },
     "83466017edd64d389d4731137a8751e9": {
      "model_module": "@jupyter-widgets/base",
      "model_module_version": "1.0.0",
      "model_name": "LayoutModel",
      "state": {
       "justify_content": "center"
      }
     },
     "835dee16415a40eb8cdb8c4f2da64e27": {
      "model_module": "@jupyter-widgets/controls",
      "model_module_version": "1.2.0",
      "model_name": "HTMLModel",
      "state": {
       "layout": "IPY_MODEL_9fcf5f0fe09f486aa4302a1908ffd9d3",
       "style": "IPY_MODEL_f7c4782dad9544e89915214dbcb4be4e",
       "value": "<h4 style=\"font-size:14px;\">Was sind syntaktische Kriterien für Wortkategorien?</h4>"
      }
     },
     "839e63cc59b14fd18624a5a27c8f4b2e": {
      "model_module": "@jupyter-widgets/controls",
      "model_module_version": "1.2.0",
      "model_name": "DescriptionStyleModel",
      "state": {
       "description_width": "initial"
      }
     },
     "840b03b0a8ad4dc899d06f0d6e8cd4dc": {
      "model_module": "@jupyter-widgets/base",
      "model_module_version": "1.0.0",
      "model_name": "LayoutModel",
      "state": {
       "justify_content": "center"
      }
     },
     "84b642c8634b428b965a2a9cdef2db56": {
      "model_module": "@jupyter-widgets/controls",
      "model_module_version": "1.2.0",
      "model_name": "ButtonModel",
      "state": {
       "description": "base",
       "layout": "IPY_MODEL_cb584be6e2084ddb85044117b3f2c49e",
       "style": "IPY_MODEL_6b26e38d5c2f40acb5145265ea2f6cce"
      }
     },
     "85634c894b4f46ecb63b28f20f3b7a34": {
      "model_module": "@jupyter-widgets/controls",
      "model_module_version": "1.2.0",
      "model_name": "ButtonModel",
      "state": {
       "description": "Korrekt?",
       "layout": "IPY_MODEL_187dbd60c5ec4ef48a3555baf56931e2",
       "style": "IPY_MODEL_d271767189d844d8ae6cc2f1342f72d1"
      }
     },
     "88526e554f1640f6b5fb6aaba2fc7e0c": {
      "model_module": "@jupyter-widgets/controls",
      "model_module_version": "1.2.0",
      "model_name": "HTMLModel",
      "state": {
       "layout": "IPY_MODEL_5f18aac9a117420ab393fdfee6e73659",
       "style": "IPY_MODEL_b842c17a93fa4abdb3d6bb4a9aa18bc3",
       "value": "<h4 style=\"font-size:14px;\">Kategorie.</h4>"
      }
     },
     "88e769ad24d84b6c8242043930d28736": {
      "model_module": "@jupyter-widgets/controls",
      "model_module_version": "1.2.0",
      "model_name": "DropdownModel",
      "state": {
       "_options_labels": [
        "Bigramm",
        "Trigramm",
        "Unigramm",
        " "
       ],
       "index": 3,
       "layout": "IPY_MODEL_5e5aef5f032640c3bb77ce8e76866a26",
       "style": "IPY_MODEL_94b35fc45f534b66aff4125848a5997b"
      }
     },
     "89011942703446ceba9a86177bab77a3": {
      "model_module": "@jupyter-widgets/controls",
      "model_module_version": "1.2.0",
      "model_name": "HTMLModel",
      "state": {
       "layout": "IPY_MODEL_ac4e38c0282549b1b8cc2f831faa9141",
       "style": "IPY_MODEL_b97d999ee44348b5aa989c28d314b313",
       "value": "<h4 style=\"font-size:14px;\">trägt. Das Ergebnis sind die häufigsten zweistelligen syntaktischen Muster des Englischen mit NOUN als rechtem Kontext, nämlich NOUN+NOUN, DET+NOUN und ADJ+NOUN; diese Ergebnisse geben Hinweis auf die NP-</h4>"
      }
     },
     "8a6f97ad0f3049008abc1637a001ce79": {
      "model_module": "@jupyter-widgets/controls",
      "model_module_version": "1.2.0",
      "model_name": "VBoxModel",
      "state": {
       "children": [
        "IPY_MODEL_c22634d2e22d40c79067e27413b70b3b",
        "IPY_MODEL_6f9887c1694143bda2e89505d357799b",
        "IPY_MODEL_ad13fabcb61d41bfb3f00114278ece75"
       ],
       "layout": "IPY_MODEL_4a78bd96d7d94bbcbed8e19bc3c1b3e2"
      }
     },
     "8b458c587ba448ea83d2b862ad72cdd8": {
      "model_module": "@jupyter-widgets/controls",
      "model_module_version": "1.2.0",
      "model_name": "DescriptionStyleModel",
      "state": {
       "description_width": ""
      }
     },
     "8bc43eaeef5f4b5eb8c26fa5fcef1a60": {
      "model_module": "@jupyter-widgets/controls",
      "model_module_version": "1.2.0",
      "model_name": "VBoxModel",
      "state": {
       "children": [
        "IPY_MODEL_7bec3c970c3e44cdb9e4d37e2c85ae61",
        "IPY_MODEL_ef22792d8b9347b892527930d7a7663b",
        "IPY_MODEL_cab5b4c5f6f44f5281622a6a5bab986d",
        "IPY_MODEL_eb8bda4e4fdd47e1b06f662a7cb628df"
       ],
       "layout": "IPY_MODEL_6ab56d1339b84c70836b363a91cd1fb5"
      }
     },
     "8c1808b4306742b3b7d8cabee7952574": {
      "model_module": "@jupyter-widgets/controls",
      "model_module_version": "1.2.0",
      "model_name": "HTMLModel",
      "state": {
       "layout": "IPY_MODEL_e123a55f8de84410a67ad4965881637a",
       "style": "IPY_MODEL_7b19a28c40d6438c8e705d9fdcea8aad",
       "value": "<h4 style=\"font-size:14px;\">Welche Wortart folgt damit für das Wort <i>gut</i> in Satz 2?</h4>"
      }
     },
     "8c6a6c300f53475cbd94e58aa76f6fc2": {
      "model_module": "@jupyter-widgets/controls",
      "model_module_version": "1.2.0",
      "model_name": "HTMLModel",
      "state": {
       "layout": "IPY_MODEL_c9cd3079d1d34b33ac2de64f3c50a69e",
       "style": "IPY_MODEL_e65e3d49ded442619a89ea386db6fe7f",
       "value": "<h4 style=\"font-size:14px;\">Welche Eigenschaften hat <i>gut</i> in Satz 2?</h4>"
      }
     },
     "8cd94742a894407090babc076f4a5672": {
      "model_module": "@jupyter-widgets/controls",
      "model_module_version": "1.2.0",
      "model_name": "HBoxModel",
      "state": {
       "children": [
        "IPY_MODEL_614ea12753fe477ea0942344310ca20e",
        "IPY_MODEL_af5b104fc15c4167b98815f170379096"
       ],
       "layout": "IPY_MODEL_7031fb56f6a341ba86b4298665c86558"
      }
     },
     "8d2d0501cdca49c78d490b2bf41d827a": {
      "model_module": "@jupyter-widgets/controls",
      "model_module_version": "1.2.0",
      "model_name": "DescriptionStyleModel",
      "state": {
       "description_width": ""
      }
     },
     "8d71ca09da4949f09f0e993c729a8be8": {
      "model_module": "@jupyter-widgets/base",
      "model_module_version": "1.0.0",
      "model_name": "LayoutModel",
      "state": {}
     },
     "8d82fc0251864e1b9e35ef2c56419cee": {
      "model_module": "@jupyter-widgets/base",
      "model_module_version": "1.0.0",
      "model_name": "LayoutModel",
      "state": {}
     },
     "8de9afecce714541a4c2ca4046137a44": {
      "model_module": "@jupyter-widgets/controls",
      "model_module_version": "1.2.0",
      "model_name": "CheckboxModel",
      "state": {
       "description": "Zu einem Wort werden alle Wörter gefunden, die in gleichen Kontexten vorkommen.",
       "disabled": false,
       "layout": "IPY_MODEL_934629635f284bf6b5d76619dbf98631",
       "style": "IPY_MODEL_d8653182893b4c18838300d282d97159",
       "value": false
      }
     },
     "8eb07ebcd3cb4b7eb9580b7a1200faae": {
      "model_module": "@jupyter-widgets/controls",
      "model_module_version": "1.2.0",
      "model_name": "DescriptionStyleModel",
      "state": {
       "description_width": ""
      }
     },
     "8ed58e5c5a0c4b4c86bf0fc7dd10161c": {
      "model_module": "@jupyter-widgets/controls",
      "model_module_version": "1.2.0",
      "model_name": "VBoxModel",
      "state": {
       "children": [
        "IPY_MODEL_97f0ba8717cd485bbae9954d474c42b9",
        "IPY_MODEL_fb4b81e3fa7b48dc8856ccec314d36f0",
        "IPY_MODEL_74cdecc7e26043e298931f503c052d05",
        "IPY_MODEL_93894aae1c2740e1a4a79d95762c325f"
       ],
       "layout": "IPY_MODEL_373dae6511194a30b2215bc27c18be50"
      }
     },
     "9034963a026a41ec90c6b70849629404": {
      "model_module": "@jupyter-widgets/controls",
      "model_module_version": "1.2.0",
      "model_name": "ButtonModel",
      "state": {
       "description": "Keine der anderen Möglichkeiten",
       "layout": "IPY_MODEL_b9cf811af8fc483fb57f12ac130bcf82",
       "style": "IPY_MODEL_c87995a81392412681708588591f18fb"
      }
     },
     "905279fd49c343e58cf92d363a18d10c": {
      "model_module": "@jupyter-widgets/base",
      "model_module_version": "1.0.0",
      "model_name": "LayoutModel",
      "state": {
       "width": "250px"
      }
     },
     "9070f43b1d3646b7a924f95550d8980f": {
      "model_module": "@jupyter-widgets/base",
      "model_module_version": "1.0.0",
      "model_name": "LayoutModel",
      "state": {
       "width": "250px"
      }
     },
     "90bb9845e2574072afd2406335b90527": {
      "model_module": "@jupyter-widgets/controls",
      "model_module_version": "1.2.0",
      "model_name": "ButtonModel",
      "state": {
       "description": "Partikel",
       "layout": "IPY_MODEL_9070f43b1d3646b7a924f95550d8980f",
       "style": "IPY_MODEL_d6d4f43a5f284c7cb3e50f40fe0fd3b2"
      }
     },
     "91608f25f3004d0b91d2a23c326ae698": {
      "model_module": "@jupyter-widgets/controls",
      "model_module_version": "1.2.0",
      "model_name": "DescriptionStyleModel",
      "state": {
       "description_width": ""
      }
     },
     "91ee56ff8cf5457e85dd1a8441f95866": {
      "model_module": "@jupyter-widgets/controls",
      "model_module_version": "1.2.0",
      "model_name": "HBoxModel",
      "state": {
       "children": [
        "IPY_MODEL_e053449637b24e6f89cce808cb3b5b6b",
        "IPY_MODEL_b3c326255924482597a88a2fb784d283"
       ],
       "layout": "IPY_MODEL_a139778817904a21aa068690c8e2ca1a"
      }
     },
     "921cc165626745aabd708c6561464936": {
      "model_module": "@jupyter-widgets/controls",
      "model_module_version": "1.2.0",
      "model_name": "ButtonStyleModel",
      "state": {}
     },
     "934629635f284bf6b5d76619dbf98631": {
      "model_module": "@jupyter-widgets/base",
      "model_module_version": "1.0.0",
      "model_name": "LayoutModel",
      "state": {
       "width": "600px"
      }
     },
     "93894aae1c2740e1a4a79d95762c325f": {
      "model_module": "@jupyter-widgets/controls",
      "model_module_version": "1.2.0",
      "model_name": "CheckboxModel",
      "state": {
       "description": "gleicher Kontext",
       "disabled": false,
       "layout": "IPY_MODEL_b37942da45f347c9b668548a3d7538ad",
       "style": "IPY_MODEL_56c08356f16c488ca62d5fa99d1e7ef6",
       "value": false
      }
     },
     "93eca29746934f2792b5ac8abc65bc40": {
      "model_module": "@jupyter-widgets/controls",
      "model_module_version": "1.2.0",
      "model_name": "ButtonModel",
      "state": {
       "description": "3rd singular present",
       "layout": "IPY_MODEL_0cbd09a685b941d698732633d7f8f3b1",
       "style": "IPY_MODEL_98182cac339c4532876c3d4452d40006"
      }
     },
     "9447416a80f4479eb18c383fd980101d": {
      "model_module": "@jupyter-widgets/controls",
      "model_module_version": "1.2.0",
      "model_name": "DescriptionStyleModel",
      "state": {
       "description_width": ""
      }
     },
     "94b090fd5e3841f299116056c0f99e60": {
      "model_module": "@jupyter-widgets/base",
      "model_module_version": "1.0.0",
      "model_name": "LayoutModel",
      "state": {}
     },
     "94b35fc45f534b66aff4125848a5997b": {
      "model_module": "@jupyter-widgets/controls",
      "model_module_version": "1.2.0",
      "model_name": "DescriptionStyleModel",
      "state": {
       "description_width": ""
      }
     },
     "94cc180e71cf45e893f13cef9d2429a7": {
      "model_module": "@jupyter-widgets/controls",
      "model_module_version": "1.2.0",
      "model_name": "HBoxModel",
      "state": {
       "children": [
        "IPY_MODEL_1e3bcfdc4b844df38dbf9a3dd710c51f",
        "IPY_MODEL_327e409c05e448d081bd44dc07ec12fe"
       ],
       "layout": "IPY_MODEL_29982c68f6bd4009a799fee3297183e8"
      }
     },
     "9519c5ca015145228021ced50fc16bac": {
      "model_module": "@jupyter-widgets/controls",
      "model_module_version": "1.2.0",
      "model_name": "HBoxModel",
      "state": {
       "children": [
        "IPY_MODEL_ae127b1e7b9e4f7598683eb59399ae03",
        "IPY_MODEL_56e92b4f109d429d9cacc3381440621a"
       ],
       "layout": "IPY_MODEL_b08a15cee843482d9d4d4a38bd591d23"
      }
     },
     "95580bbce87d4b03a1c16450bff36c32": {
      "model_module": "@jupyter-widgets/controls",
      "model_module_version": "1.2.0",
      "model_name": "VBoxModel",
      "state": {
       "children": [
        "IPY_MODEL_a5684580313546f5907d771279bd6691",
        "IPY_MODEL_b8116e76f5ec42d38071fc197eea6700",
        "IPY_MODEL_7e610a41fc744a7dadc188120830d0a4"
       ],
       "layout": "IPY_MODEL_018de17deb80425eb52d01731f39b266"
      }
     },
     "95c4cc293ceb41dab45ca6694254030e": {
      "model_module": "@jupyter-widgets/base",
      "model_module_version": "1.0.0",
      "model_name": "LayoutModel",
      "state": {
       "width": "600px"
      }
     },
     "95d6210ebe274cd0baa961fd540ac771": {
      "model_module": "@jupyter-widgets/controls",
      "model_module_version": "1.2.0",
      "model_name": "VBoxModel",
      "state": {
       "children": [
        "IPY_MODEL_c0817a32889f4ca286198f63d79062a0",
        "IPY_MODEL_c02a7784a6834921844937fa2cc1c90c",
        "IPY_MODEL_13debb62345c4cc7863dbcb4a6984a67",
        "IPY_MODEL_5d161c9e3991413d96bd326f64693fd0"
       ],
       "layout": "IPY_MODEL_cd2a067f3dd3464e911ecd80eeac00b3"
      }
     },
     "9625c4a1e2b94d5d8c2e7911f45f7236": {
      "model_module": "@jupyter-widgets/controls",
      "model_module_version": "1.2.0",
      "model_name": "VBoxModel",
      "state": {
       "children": [
        "IPY_MODEL_81e0e28c7aba49538a99087446cbddd0",
        "IPY_MODEL_974c9a9d733341f8b43ccc9682a1d267",
        "IPY_MODEL_2a3ce4723c3740669b00730f403dfb7a",
        "IPY_MODEL_9519c5ca015145228021ced50fc16bac",
        "IPY_MODEL_a4f2c9af8368493682128f663908074e"
       ],
       "layout": "IPY_MODEL_de2e8adf300d42299de225cc6f6f468c"
      }
     },
     "96386b500b884b42ba1d16b5c34304ed": {
      "model_module": "@jupyter-widgets/base",
      "model_module_version": "1.0.0",
      "model_name": "LayoutModel",
      "state": {
       "width": "250px"
      }
     },
     "9734f755820140c89acc6b79d8e55237": {
      "model_module": "@jupyter-widgets/controls",
      "model_module_version": "1.2.0",
      "model_name": "ButtonStyleModel",
      "state": {}
     },
     "974c9a9d733341f8b43ccc9682a1d267": {
      "model_module": "@jupyter-widgets/controls",
      "model_module_version": "1.2.0",
      "model_name": "HTMLModel",
      "state": {
       "layout": "IPY_MODEL_a852abfa3f624aa598ef1163c99e2e44",
       "style": "IPY_MODEL_8b458c587ba448ea83d2b862ad72cdd8",
       "value": "<i>Wählen Sie die <ins>eine</ins> korrekte Antwort aus: </i>"
      }
     },
     "97f0ba8717cd485bbae9954d474c42b9": {
      "model_module": "@jupyter-widgets/controls",
      "model_module_version": "1.2.0",
      "model_name": "CheckboxModel",
      "state": {
       "description": "Flexionstyp",
       "disabled": false,
       "layout": "IPY_MODEL_56d7280d7c7e47a6abd06fd9f79731fb",
       "style": "IPY_MODEL_e8b1bb6efdec4fa58c3a107b234ecd41",
       "value": false
      }
     },
     "98182cac339c4532876c3d4452d40006": {
      "model_module": "@jupyter-widgets/controls",
      "model_module_version": "1.2.0",
      "model_name": "ButtonStyleModel",
      "state": {}
     },
     "99251492ace94992a863fc56c5a8fe2a": {
      "model_module": "@jupyter-widgets/controls",
      "model_module_version": "1.2.0",
      "model_name": "DescriptionStyleModel",
      "state": {
       "description_width": ""
      }
     },
     "9960a7c192114e469aab979c5b6fa57e": {
      "model_module": "@jupyter-widgets/controls",
      "model_module_version": "1.2.0",
      "model_name": "DescriptionStyleModel",
      "state": {
       "description_width": ""
      }
     },
     "9bdaa5c67dc64ed28676c2f79a73cc24": {
      "model_module": "@jupyter-widgets/base",
      "model_module_version": "1.0.0",
      "model_name": "LayoutModel",
      "state": {
       "align_content": "stretch",
       "align_items": "stretch",
       "display": "inline-flex",
       "flex": "flex-grow",
       "flex_flow": "row wrap",
       "justify_content": "flex-start"
      }
     },
     "9d8abf4945424487bb38463f1e4a3a53": {
      "model_module": "@jupyter-widgets/base",
      "model_module_version": "1.0.0",
      "model_name": "LayoutModel",
      "state": {
       "width": "250px"
      }
     },
     "9d8d242efbd44357bc9cd9a2af41e8f6": {
      "model_module": "@jupyter-widgets/base",
      "model_module_version": "1.0.0",
      "model_name": "LayoutModel",
      "state": {
       "width": "250px"
      }
     },
     "9daa762f50534d748643d3fbc9ec2ba6": {
      "model_module": "@jupyter-widgets/controls",
      "model_module_version": "1.2.0",
      "model_name": "DropdownModel",
      "state": {
       "_options_labels": [
        "gleichartige",
        "unterschiedliche",
        " "
       ],
       "index": 2,
       "layout": "IPY_MODEL_12206ab61c1949c4a6af793e697ed15f",
       "style": "IPY_MODEL_5335f1fafc2841afb9ff31e8b1b58090"
      }
     },
     "9dd02c8cf40d48308ec0529df684731e": {
      "model_module": "@jupyter-widgets/base",
      "model_module_version": "1.0.0",
      "model_name": "LayoutModel",
      "state": {}
     },
     "9df6442c25564065a1986686fd5c7a90": {
      "model_module": "@jupyter-widgets/base",
      "model_module_version": "1.0.0",
      "model_name": "LayoutModel",
      "state": {
       "width": "600px"
      }
     },
     "9f01fb2cefd14f028a1b01c5b50727c9": {
      "model_module": "@jupyter-widgets/controls",
      "model_module_version": "1.2.0",
      "model_name": "DescriptionStyleModel",
      "state": {
       "description_width": ""
      }
     },
     "9f5034d4a1324dd19bc7ca8c26c1662e": {
      "model_module": "@jupyter-widgets/controls",
      "model_module_version": "1.2.0",
      "model_name": "DropdownModel",
      "state": {
       "_options_labels": [
        "Konstituente",
        "Phrase",
        " "
       ],
       "index": 2,
       "layout": "IPY_MODEL_42b2c86d3dce4f7e8bc9307a0e624239",
       "style": "IPY_MODEL_46787a55e45a45f38d16cef90d6e1601"
      }
     },
     "9fcf5f0fe09f486aa4302a1908ffd9d3": {
      "model_module": "@jupyter-widgets/base",
      "model_module_version": "1.0.0",
      "model_name": "LayoutModel",
      "state": {}
     },
     "9ff85e78967343b3917420940841fc2b": {
      "model_module": "@jupyter-widgets/controls",
      "model_module_version": "1.2.0",
      "model_name": "HBoxModel",
      "state": {
       "children": [
        "IPY_MODEL_7d8f57c240534cfc893bf5e2e52a57c5",
        "IPY_MODEL_c5afcefe697f415192af98dad00d23c2"
       ],
       "layout": "IPY_MODEL_632f5836396445e192287a8dff71899e"
      }
     },
     "a0308cccba1946f1a760641ed81a85c8": {
      "model_module": "@jupyter-widgets/controls",
      "model_module_version": "1.2.0",
      "model_name": "DescriptionStyleModel",
      "state": {
       "description_width": ""
      }
     },
     "a085e0eb1a1c491794a7e25de8a26a99": {
      "model_module": "@jupyter-widgets/controls",
      "model_module_version": "1.2.0",
      "model_name": "DescriptionStyleModel",
      "state": {
       "description_width": ""
      }
     },
     "a0e3b5bfec5241cc83b3ba2110b58500": {
      "model_module": "@jupyter-widgets/controls",
      "model_module_version": "1.2.0",
      "model_name": "HTMLModel",
      "state": {
       "layout": "IPY_MODEL_a3c6b7a5c6884cfc8a9f9a92bec30bbc",
       "style": "IPY_MODEL_0d08405d7fc14696aaab30500c1cd793",
       "value": "<h4 style=\"font-size:14px;\">Was sind morphologische Kriterien für Wortkategorien?</h4>"
      }
     },
     "a0f9f6f6f4654846ba4183d61191aae8": {
      "model_module": "@jupyter-widgets/controls",
      "model_module_version": "1.2.0",
      "model_name": "DescriptionStyleModel",
      "state": {
       "description_width": "initial"
      }
     },
     "a139778817904a21aa068690c8e2ca1a": {
      "model_module": "@jupyter-widgets/base",
      "model_module_version": "1.0.0",
      "model_name": "LayoutModel",
      "state": {}
     },
     "a1ae0e16e30f4d3a80491c6b28b13927": {
      "model_module": "@jupyter-widgets/controls",
      "model_module_version": "1.2.0",
      "model_name": "ButtonStyleModel",
      "state": {}
     },
     "a1d1e61d49104db79b21d71fa4fd05cf": {
      "model_module": "@jupyter-widgets/controls",
      "model_module_version": "1.2.0",
      "model_name": "ButtonModel",
      "state": {
       "description": "Folge von Wortklassen",
       "layout": "IPY_MODEL_d3b317f61d7b452c93210ac2e020c4c1",
       "style": "IPY_MODEL_0f956d04b3244c1188e924991751dac1"
      }
     },
     "a1d5ea56b17c42708fd486cc8e7ca583": {
      "model_module": "@jupyter-widgets/controls",
      "model_module_version": "1.2.0",
      "model_name": "DescriptionStyleModel",
      "state": {
       "description_width": "initial"
      }
     },
     "a2534db4857f471ba2dbb0ad10f1b2bd": {
      "model_module": "@jupyter-widgets/controls",
      "model_module_version": "1.2.0",
      "model_name": "ButtonModel",
      "state": {
       "description": "Adverb",
       "layout": "IPY_MODEL_fb45e1d0252840fa8cf132a10ca31347",
       "style": "IPY_MODEL_b46f2160c7534b50adf7d5daa9be7322"
      }
     },
     "a297311eae824144b5d11296dab05807": {
      "model_module": "@jupyter-widgets/controls",
      "model_module_version": "1.2.0",
      "model_name": "ButtonModel",
      "state": {
       "description": "gerund",
       "layout": "IPY_MODEL_f1d91739888d48c5b05f41d6136571f6",
       "style": "IPY_MODEL_513dc43464b84eae936fa53d4865778d"
      }
     },
     "a31e33c0bb8c48d681a77d10307d16de": {
      "model_module": "@jupyter-widgets/base",
      "model_module_version": "1.0.0",
      "model_name": "LayoutModel",
      "state": {}
     },
     "a35cc65f9e404daa93fd8ed45421d64f": {
      "model_module": "@jupyter-widgets/controls",
      "model_module_version": "1.2.0",
      "model_name": "HBoxModel",
      "state": {
       "children": [
        "IPY_MODEL_d6ceedb213224b29a862cdfbf852baf1",
        "IPY_MODEL_686a4b2bbd534007b97e3bcc763623e2"
       ],
       "layout": "IPY_MODEL_ea50b5a43b0f437f8176e73a9de9d4cb"
      }
     },
     "a3c6b7a5c6884cfc8a9f9a92bec30bbc": {
      "model_module": "@jupyter-widgets/base",
      "model_module_version": "1.0.0",
      "model_name": "LayoutModel",
      "state": {}
     },
     "a3c830fcbb424820b40e6850a6f5f605": {
      "model_module": "@jupyter-widgets/base",
      "model_module_version": "1.0.0",
      "model_name": "LayoutModel",
      "state": {}
     },
     "a497faf506cd4c8ba9332b56f3571a72": {
      "model_module": "@jupyter-widgets/controls",
      "model_module_version": "1.2.0",
      "model_name": "VBoxModel",
      "state": {
       "children": [
        "IPY_MODEL_ff938070930c475e9ab11db698e3851c",
        "IPY_MODEL_3e3e256a04e94464a7ade9bc8f81a708",
        "IPY_MODEL_9ff85e78967343b3917420940841fc2b",
        "IPY_MODEL_2456074304394239a47880da3708ee28",
        "IPY_MODEL_d7fafb27a51643f782e8f43e13f4c696"
       ],
       "layout": "IPY_MODEL_72846f388f384b75a775734aee934eb7"
      }
     },
     "a4a999b95f0c4a628eab927819030f47": {
      "model_module": "@jupyter-widgets/controls",
      "model_module_version": "1.2.0",
      "model_name": "DescriptionStyleModel",
      "state": {
       "description_width": ""
      }
     },
     "a4f2c9af8368493682128f663908074e": {
      "model_module": "@jupyter-widgets/controls",
      "model_module_version": "1.2.0",
      "model_name": "HBoxModel",
      "state": {
       "children": [
        "IPY_MODEL_4a30b455ae274b75b80efeb2e6950802"
       ],
       "layout": "IPY_MODEL_047a8c43c1ba432c9e0f8398a3a59e08"
      }
     },
     "a55017a22ba24679a977453d19684a76": {
      "model_module": "@jupyter-widgets/controls",
      "model_module_version": "1.2.0",
      "model_name": "DescriptionStyleModel",
      "state": {
       "description_width": ""
      }
     },
     "a5684580313546f5907d771279bd6691": {
      "model_module": "@jupyter-widgets/controls",
      "model_module_version": "1.2.0",
      "model_name": "CheckboxModel",
      "state": {
       "description": "Es bezeichnet die näheren Umstände des im Verb ausgedrückten Geschehens.",
       "disabled": false,
       "layout": "IPY_MODEL_a5922ff3caf64b27873445d31e31272a",
       "style": "IPY_MODEL_1c7ffb10d7a841bfbb42e5fb5fd9b5f7",
       "value": false
      }
     },
     "a580f912d78b40f08b231307311d3cde": {
      "model_module": "@jupyter-widgets/controls",
      "model_module_version": "1.2.0",
      "model_name": "ButtonStyleModel",
      "state": {}
     },
     "a5922ff3caf64b27873445d31e31272a": {
      "model_module": "@jupyter-widgets/base",
      "model_module_version": "1.0.0",
      "model_name": "LayoutModel",
      "state": {
       "width": "600px"
      }
     },
     "a5d150f6ed314c2cb89e52717260a630": {
      "model_module": "@jupyter-widgets/controls",
      "model_module_version": "1.2.0",
      "model_name": "DescriptionStyleModel",
      "state": {
       "description_width": ""
      }
     },
     "a606d227ee21487ab47a96add3d04d5f": {
      "model_module": "@jupyter-widgets/controls",
      "model_module_version": "1.2.0",
      "model_name": "ButtonStyleModel",
      "state": {}
     },
     "a6f8ee993dee400d8b52cba737e9f3c8": {
      "model_module": "@jupyter-widgets/controls",
      "model_module_version": "1.2.0",
      "model_name": "CheckboxModel",
      "state": {
       "description": "gleicher Kontext",
       "disabled": false,
       "layout": "IPY_MODEL_e71a3d0e496349949eafba2f4ea81a8b",
       "style": "IPY_MODEL_ba20e4e322654b3895a971861ae645b1",
       "value": false
      }
     },
     "a7bb67ef76c743cfa3decf3f9b52db6d": {
      "model_module": "@jupyter-widgets/controls",
      "model_module_version": "1.2.0",
      "model_name": "ButtonModel",
      "state": {
       "description": "gerund",
       "layout": "IPY_MODEL_05837f23126046519bc557c35f02c394",
       "style": "IPY_MODEL_b69d48d6ae8149f98370b268d2cd77bd"
      }
     },
     "a8312e77973f4bd2ab5dda46af8184aa": {
      "model_module": "@jupyter-widgets/base",
      "model_module_version": "1.0.0",
      "model_name": "LayoutModel",
      "state": {
       "width": "150px"
      }
     },
     "a852abfa3f624aa598ef1163c99e2e44": {
      "model_module": "@jupyter-widgets/base",
      "model_module_version": "1.0.0",
      "model_name": "LayoutModel",
      "state": {
       "justify_content": "center"
      }
     },
     "a88c8f4f5ffd48e9af313a7a231c9947": {
      "model_module": "@jupyter-widgets/controls",
      "model_module_version": "1.2.0",
      "model_name": "VBoxModel",
      "state": {
       "children": [
        "IPY_MODEL_b35d02ccd74d4b0d908bbcd90e40856f",
        "IPY_MODEL_8de9afecce714541a4c2ca4046137a44",
        "IPY_MODEL_51434281aa6c40f59c136b6d976ed822",
        "IPY_MODEL_159f955b6b86413ea29f6cd2038b0fc6"
       ],
       "layout": "IPY_MODEL_2a3b673596b24107b8b2b13256a8c611"
      }
     },
     "a991ffa8e4e44a52ae6ebe26b4aa4f44": {
      "model_module": "@jupyter-widgets/controls",
      "model_module_version": "1.2.0",
      "model_name": "HTMLModel",
      "state": {
       "layout": "IPY_MODEL_bf5333e15c604a58a614bada99d09111",
       "style": "IPY_MODEL_1ceb361b3e1344e8b562053a8d832a5e",
       "value": "<h4 style=\"font-size:14px;\">Welche Wortart könnte man für das Wort <i>gut</i> in Satz 2 vermuten, wenn man Adverbien nicht morphologisch, sondern semantisch charakterisiert (als Wortart, die der Modifizierung des Verbalgeschehens dient)?</h4>"
      }
     },
     "aa2c217f98664504955f7dc074917a13": {
      "model_module": "@jupyter-widgets/base",
      "model_module_version": "1.0.0",
      "model_name": "LayoutModel",
      "state": {}
     },
     "aa2fb08f267e4ea8b779e44f10480ee2": {
      "model_module": "@jupyter-widgets/controls",
      "model_module_version": "1.2.0",
      "model_name": "ButtonStyleModel",
      "state": {}
     },
     "aa408d3e29ec473daddf70b9f026f834": {
      "model_module": "@jupyter-widgets/base",
      "model_module_version": "1.0.0",
      "model_name": "LayoutModel",
      "state": {}
     },
     "aa6033ea764f41d4a453e249b2e02e81": {
      "model_module": "@jupyter-widgets/controls",
      "model_module_version": "1.2.0",
      "model_name": "DescriptionStyleModel",
      "state": {
       "description_width": ""
      }
     },
     "aa8ec83ca176499da3c83d195a5afc0c": {
      "model_module": "@jupyter-widgets/controls",
      "model_module_version": "1.2.0",
      "model_name": "DescriptionStyleModel",
      "state": {
       "description_width": ""
      }
     },
     "ac4e38c0282549b1b8cc2f831faa9141": {
      "model_module": "@jupyter-widgets/base",
      "model_module_version": "1.0.0",
      "model_name": "LayoutModel",
      "state": {}
     },
     "ad13fabcb61d41bfb3f00114278ece75": {
      "model_module": "@jupyter-widgets/controls",
      "model_module_version": "1.2.0",
      "model_name": "ButtonModel",
      "state": {
       "description": "Korrekt?",
       "layout": "IPY_MODEL_575f336547744f77af10238563cd8261",
       "style": "IPY_MODEL_228044a8cf414f3ab91a5ca6983b9b0d"
      }
     },
     "adcb1635b51b45fb97eb7506e3861481": {
      "model_module": "@jupyter-widgets/base",
      "model_module_version": "1.0.0",
      "model_name": "LayoutModel",
      "state": {
       "justify_content": "center"
      }
     },
     "ae127b1e7b9e4f7598683eb59399ae03": {
      "model_module": "@jupyter-widgets/controls",
      "model_module_version": "1.2.0",
      "model_name": "ButtonModel",
      "state": {
       "description": "gerund",
       "layout": "IPY_MODEL_e2f7a463243c4c4691a6b5dd3a0a8126",
       "style": "IPY_MODEL_649ab1fbead34a33aafcd0d2d95dc1fc"
      }
     },
     "ae7d1e85073742049ab7780d7b0b06dd": {
      "model_module": "@jupyter-widgets/controls",
      "model_module_version": "1.2.0",
      "model_name": "HBoxModel",
      "state": {
       "children": [
        "IPY_MODEL_48b67b67432e4e3c89334baad4b65362",
        "IPY_MODEL_b31300796682499cbc10c94662ee8f15"
       ],
       "layout": "IPY_MODEL_2ff4f732fb1941de811f9d24df2fa383"
      }
     },
     "ae7e2baab9944aee9f13fe85440fb2cd": {
      "model_module": "@jupyter-widgets/base",
      "model_module_version": "1.0.0",
      "model_name": "LayoutModel",
      "state": {}
     },
     "aec4c34d1f2c4d69a71efafb0d35bc4f": {
      "model_module": "@jupyter-widgets/controls",
      "model_module_version": "1.2.0",
      "model_name": "HBoxModel",
      "state": {
       "children": [
        "IPY_MODEL_fd2fbb21565d4046834e3a50e712a22b"
       ],
       "layout": "IPY_MODEL_d91e76abb2c94ec4882c1b19ba1e6735"
      }
     },
     "af0d8f2c59e242d4aee560055e27dbd5": {
      "model_module": "@jupyter-widgets/base",
      "model_module_version": "1.0.0",
      "model_name": "LayoutModel",
      "state": {
       "width": "250px"
      }
     },
     "af5b104fc15c4167b98815f170379096": {
      "model_module": "@jupyter-widgets/controls",
      "model_module_version": "1.2.0",
      "model_name": "ButtonModel",
      "state": {
       "description": "past participle",
       "layout": "IPY_MODEL_01ac87c3c89d427fb34666d8cff76bda",
       "style": "IPY_MODEL_6bf50b0035434cb188705adb69ba99b4"
      }
     },
     "b025d65598ba4b5587022c2f7d570aa0": {
      "model_module": "@jupyter-widgets/base",
      "model_module_version": "1.0.0",
      "model_name": "LayoutModel",
      "state": {
       "width": "250px"
      }
     },
     "b08a15cee843482d9d4d4a38bd591d23": {
      "model_module": "@jupyter-widgets/base",
      "model_module_version": "1.0.0",
      "model_name": "LayoutModel",
      "state": {}
     },
     "b129ef6962164cefaa2569a345398217": {
      "model_module": "@jupyter-widgets/base",
      "model_module_version": "1.0.0",
      "model_name": "LayoutModel",
      "state": {}
     },
     "b18a25409c93461d8671a436be10bc6f": {
      "model_module": "@jupyter-widgets/controls",
      "model_module_version": "1.2.0",
      "model_name": "HTMLModel",
      "state": {
       "layout": "IPY_MODEL_94b090fd5e3841f299116056c0f99e60",
       "style": "IPY_MODEL_6d993776773e4c5c9c9459a3d7ecd8c5",
       "value": "<h4 style=\"font-size:14px;\">, aber keine</h4>"
      }
     },
     "b1d98a7e1dfc483b92f628fd29de8638": {
      "model_module": "@jupyter-widgets/base",
      "model_module_version": "1.0.0",
      "model_name": "LayoutModel",
      "state": {
       "width": "150px"
      }
     },
     "b2004758f0b3410987aec23ed6f67e71": {
      "model_module": "@jupyter-widgets/base",
      "model_module_version": "1.0.0",
      "model_name": "LayoutModel",
      "state": {
       "width": "600px"
      }
     },
     "b291b987a2d24c2d82e47a0d9d8f8529": {
      "model_module": "@jupyter-widgets/base",
      "model_module_version": "1.0.0",
      "model_name": "LayoutModel",
      "state": {
       "width": "250px"
      }
     },
     "b2edddb21b4944d388828df262730bb5": {
      "model_module": "@jupyter-widgets/base",
      "model_module_version": "1.0.0",
      "model_name": "LayoutModel",
      "state": {}
     },
     "b31300796682499cbc10c94662ee8f15": {
      "model_module": "@jupyter-widgets/controls",
      "model_module_version": "1.2.0",
      "model_name": "ButtonModel",
      "state": {
       "description": "Adverb",
       "layout": "IPY_MODEL_12bb3f6f00494bfbb65029f1a72409cf",
       "style": "IPY_MODEL_c468fd97b09c43948f3278c6a4a60715"
      }
     },
     "b35d02ccd74d4b0d908bbcd90e40856f": {
      "model_module": "@jupyter-widgets/controls",
      "model_module_version": "1.2.0",
      "model_name": "CheckboxModel",
      "state": {
       "description": "Zu einem Wort werden alle Synonyme gefunden.",
       "disabled": false,
       "layout": "IPY_MODEL_ca26450b99a845a9b5522ec2c0c46c30",
       "style": "IPY_MODEL_b79e6bb79ad4416c8015531a8447e5c3",
       "value": false
      }
     },
     "b37942da45f347c9b668548a3d7538ad": {
      "model_module": "@jupyter-widgets/base",
      "model_module_version": "1.0.0",
      "model_name": "LayoutModel",
      "state": {
       "width": "600px"
      }
     },
     "b3c326255924482597a88a2fb784d283": {
      "model_module": "@jupyter-widgets/controls",
      "model_module_version": "1.2.0",
      "model_name": "ButtonModel",
      "state": {
       "description": "Wortfolge",
       "layout": "IPY_MODEL_0ec713f6c1214032a5194e567be8ae8a",
       "style": "IPY_MODEL_00627cc1eaff4e7dbea425e0c0a8a85e"
      }
     },
     "b3fdd26f5d5f43bb8f1e3de88992fee5": {
      "model_module": "@jupyter-widgets/controls",
      "model_module_version": "1.2.0",
      "model_name": "ButtonModel",
      "state": {
       "description": "Korrekt?",
       "layout": "IPY_MODEL_35cc0a1811c44f0595149db292010b95",
       "style": "IPY_MODEL_d6fb3341007e46dbb9496f7c0a4d0feb"
      }
     },
     "b46f2160c7534b50adf7d5daa9be7322": {
      "model_module": "@jupyter-widgets/controls",
      "model_module_version": "1.2.0",
      "model_name": "ButtonStyleModel",
      "state": {}
     },
     "b510dd98f73744b888d1a3fd2e357c79": {
      "model_module": "@jupyter-widgets/controls",
      "model_module_version": "1.2.0",
      "model_name": "VBoxModel",
      "state": {
       "children": [
        "IPY_MODEL_3c1270415af24c86a5ff22672ef6d2bd",
        "IPY_MODEL_313c19be1bdc44149c376c607a2dec6a",
        "IPY_MODEL_1c1abf07bd004b67a745f8423a23f75b"
       ],
       "layout": "IPY_MODEL_8d82fc0251864e1b9e35ef2c56419cee"
      }
     },
     "b56c73eeb6424b71b690fa92eacbc381": {
      "model_module": "@jupyter-widgets/base",
      "model_module_version": "1.0.0",
      "model_name": "LayoutModel",
      "state": {
       "width": "600px"
      }
     },
     "b57383f5eca5466ebcb032975c9b1f76": {
      "model_module": "@jupyter-widgets/controls",
      "model_module_version": "1.2.0",
      "model_name": "ButtonModel",
      "state": {
       "description": "gerund",
       "layout": "IPY_MODEL_9d8d242efbd44357bc9cd9a2af41e8f6",
       "style": "IPY_MODEL_5bc11d42c4f4429abd76ede2d6eacd32"
      }
     },
     "b588747391c14012be83162df25cee22": {
      "model_module": "@jupyter-widgets/base",
      "model_module_version": "1.0.0",
      "model_name": "LayoutModel",
      "state": {
       "width": "600px"
      }
     },
     "b69d48d6ae8149f98370b268d2cd77bd": {
      "model_module": "@jupyter-widgets/controls",
      "model_module_version": "1.2.0",
      "model_name": "ButtonStyleModel",
      "state": {}
     },
     "b69e33aaaa044e079ae1a8799f7d8327": {
      "model_module": "@jupyter-widgets/controls",
      "model_module_version": "1.2.0",
      "model_name": "DropdownModel",
      "state": {
       "_options_labels": [
        "morphologischen",
        "syntaktischen",
        " "
       ],
       "index": 2,
       "layout": "IPY_MODEL_ffaca8b0f4ab4f6c94807a68fc7402aa",
       "style": "IPY_MODEL_e8116a518fba47c7a3dc9bb6585696fe"
      }
     },
     "b6efe2b67c4240069e67dbd07469d3df": {
      "model_module": "@jupyter-widgets/controls",
      "model_module_version": "1.2.0",
      "model_name": "DescriptionStyleModel",
      "state": {
       "description_width": ""
      }
     },
     "b79e6bb79ad4416c8015531a8447e5c3": {
      "model_module": "@jupyter-widgets/controls",
      "model_module_version": "1.2.0",
      "model_name": "DescriptionStyleModel",
      "state": {
       "description_width": "initial"
      }
     },
     "b7edb550d38b4039ab652bf2fe2c8a60": {
      "model_module": "@jupyter-widgets/base",
      "model_module_version": "1.0.0",
      "model_name": "LayoutModel",
      "state": {
       "width": "250px"
      }
     },
     "b8116e76f5ec42d38071fc197eea6700": {
      "model_module": "@jupyter-widgets/controls",
      "model_module_version": "1.2.0",
      "model_name": "CheckboxModel",
      "state": {
       "description": "Es fungiert als Satzglied mit der syntaktischen Funktion Adverbial.",
       "disabled": false,
       "layout": "IPY_MODEL_2bb36b9442ed45449eed23739e19a85a",
       "style": "IPY_MODEL_3860afb26ba446828e8c22a48585d5f9",
       "value": false
      }
     },
     "b842c17a93fa4abdb3d6bb4a9aa18bc3": {
      "model_module": "@jupyter-widgets/controls",
      "model_module_version": "1.2.0",
      "model_name": "DescriptionStyleModel",
      "state": {
       "description_width": ""
      }
     },
     "b920c781948e48ac9f2d0db4685994e8": {
      "model_module": "@jupyter-widgets/controls",
      "model_module_version": "1.2.0",
      "model_name": "HTMLModel",
      "state": {
       "layout": "IPY_MODEL_ce368cf0c98a49ee8d3adc66f6ec2024",
       "style": "IPY_MODEL_4f99a6ba13a44fc28c8d0e7bce6706b6",
       "value": "<i>Wählen Sie die <ins>eine</ins> korrekte Antwort aus: </i>"
      }
     },
     "b95f46a81c514ffcabb274304a6f8243": {
      "model_module": "@jupyter-widgets/base",
      "model_module_version": "1.0.0",
      "model_name": "LayoutModel",
      "state": {
       "width": "250px"
      }
     },
     "b97d999ee44348b5aa989c28d314b313": {
      "model_module": "@jupyter-widgets/controls",
      "model_module_version": "1.2.0",
      "model_name": "DescriptionStyleModel",
      "state": {
       "description_width": ""
      }
     },
     "b9cf811af8fc483fb57f12ac130bcf82": {
      "model_module": "@jupyter-widgets/base",
      "model_module_version": "1.0.0",
      "model_name": "LayoutModel",
      "state": {
       "width": "250px"
      }
     },
     "ba20e4e322654b3895a971861ae645b1": {
      "model_module": "@jupyter-widgets/controls",
      "model_module_version": "1.2.0",
      "model_name": "DescriptionStyleModel",
      "state": {
       "description_width": "initial"
      }
     },
     "ba45f030b06e458b9f5b2347dadbd849": {
      "model_module": "@jupyter-widgets/base",
      "model_module_version": "1.0.0",
      "model_name": "LayoutModel",
      "state": {
       "width": "600px"
      }
     },
     "bc13f27c314e41bd943bbb22ba620d3e": {
      "model_module": "@jupyter-widgets/controls",
      "model_module_version": "1.2.0",
      "model_name": "VBoxModel",
      "state": {
       "children": [
        "IPY_MODEL_210171bc2cd54f298375ae112772b9ea",
        "IPY_MODEL_d6fd9228571846f7b8e81e81d4c5a00f",
        "IPY_MODEL_69be0a62b4fc4f96b111d0dffaa9ec88",
        "IPY_MODEL_474355e40e384192ab3f362997a96426"
       ],
       "layout": "IPY_MODEL_53624897a0584b5f8b191310f9f556d3"
      }
     },
     "bc1d69b7783841b5b6c07e3ca92e0ab5": {
      "model_module": "@jupyter-widgets/controls",
      "model_module_version": "1.2.0",
      "model_name": "HTMLModel",
      "state": {
       "layout": "IPY_MODEL_7655c7086b1f43ae87772f3df0dcd5c5",
       "style": "IPY_MODEL_355f9663f2d64fa0b426d7f0b03da730",
       "value": "<i>Markieren Sie <ins>alle</ins> passenden Antworten: </i>"
      }
     },
     "bc9bf328e39546a58f7d8d743451d30a": {
      "model_module": "@jupyter-widgets/controls",
      "model_module_version": "1.2.0",
      "model_name": "VBoxModel",
      "state": {
       "children": [
        "IPY_MODEL_a0e3b5bfec5241cc83b3ba2110b58500",
        "IPY_MODEL_d9109d780ff34924b7954a3da431224d",
        "IPY_MODEL_8ed58e5c5a0c4b4c86bf0fc7dd10161c",
        "IPY_MODEL_45e8f7dd26a3402b8e4adbd9ee6295fc"
       ],
       "layout": "IPY_MODEL_8d71ca09da4949f09f0e993c729a8be8"
      }
     },
     "bcd45601e1a245789bfcdb94dcadc019": {
      "model_module": "@jupyter-widgets/controls",
      "model_module_version": "1.2.0",
      "model_name": "HTMLModel",
      "state": {
       "layout": "IPY_MODEL_2ac0d189cf3f4079b7f69a64c93ffb5b",
       "style": "IPY_MODEL_a55017a22ba24679a977453d19684a76",
       "value": "<h4 style=\"font-size:14px;\"><i>Eine Reise beginnt auch nur mit einem Schritt.</i><br>Welche Tests wurden angewandt?</h4>"
      }
     },
     "be2ddc3472af43f29de8831f54e71193": {
      "model_module": "@jupyter-widgets/controls",
      "model_module_version": "1.2.0",
      "model_name": "DescriptionStyleModel",
      "state": {
       "description_width": "initial"
      }
     },
     "bf5333e15c604a58a614bada99d09111": {
      "model_module": "@jupyter-widgets/base",
      "model_module_version": "1.0.0",
      "model_name": "LayoutModel",
      "state": {
       "justify_content": "center"
      }
     },
     "bfc6f992989d4959842fdd96c2cce7a1": {
      "model_module": "@jupyter-widgets/base",
      "model_module_version": "1.0.0",
      "model_name": "LayoutModel",
      "state": {
       "width": "250px"
      }
     },
     "bfccfcb639e24318b3d038df9926e46c": {
      "model_module": "@jupyter-widgets/controls",
      "model_module_version": "1.2.0",
      "model_name": "HTMLModel",
      "state": {
       "layout": "IPY_MODEL_2e9dcb70acd7436f97b3adaf4fc9b779",
       "style": "IPY_MODEL_0a8ff7715e6e467dba699731203aaff8",
       "value": "<i>Wählen Sie die <ins>eine</ins> korrekte Antwort aus: </i>"
      }
     },
     "c02a7784a6834921844937fa2cc1c90c": {
      "model_module": "@jupyter-widgets/controls",
      "model_module_version": "1.2.0",
      "model_name": "HTMLModel",
      "state": {
       "layout": "IPY_MODEL_42ce06315cb74e3bb4acc12c8d6ab66c",
       "style": "IPY_MODEL_2cfd86ac15974b3186a25db76655026f",
       "value": "<i>Wählen Sie die <ins>eine</ins> korrekte Antwort aus: </i>"
      }
     },
     "c0817a32889f4ca286198f63d79062a0": {
      "model_module": "@jupyter-widgets/controls",
      "model_module_version": "1.2.0",
      "model_name": "HTMLModel",
      "state": {
       "layout": "IPY_MODEL_4299741124d1494b8eebc46175efa391",
       "style": "IPY_MODEL_586a9e1aaa12409fbb8d9d59dccc820a",
       "value": "<h4 style=\"font-size:14px;\">Was ist der Output eines Part-of-Speech-Taggers?</h4>"
      }
     },
     "c1b0c96f75fd43eb8f74dec8114f7ddf": {
      "model_module": "@jupyter-widgets/base",
      "model_module_version": "1.0.0",
      "model_name": "LayoutModel",
      "state": {
       "width": "600px"
      }
     },
     "c22634d2e22d40c79067e27413b70b3b": {
      "model_module": "@jupyter-widgets/controls",
      "model_module_version": "1.2.0",
      "model_name": "HTMLModel",
      "state": {
       "layout": "IPY_MODEL_d33ba3f9519c4acf89d9b6b1421cd6dc",
       "style": "IPY_MODEL_4108c333d2384fe08d5e7a34c2f25929",
       "value": "<i>Vervollständigen Sie den Lückentext: </i>"
      }
     },
     "c3eb27617aab461182da24b2fbfcd196": {
      "model_module": "@jupyter-widgets/controls",
      "model_module_version": "1.2.0",
      "model_name": "ButtonModel",
      "state": {
       "description": "Korrekt?",
       "layout": "IPY_MODEL_f1e49c86d030497894755b21f7f2caf7",
       "style": "IPY_MODEL_7622924ec506460fb72b509668ac4147"
      }
     },
     "c4203ce17ba4428bb0c0712c4efb23b1": {
      "model_module": "@jupyter-widgets/base",
      "model_module_version": "1.0.0",
      "model_name": "LayoutModel",
      "state": {
       "width": "600px"
      }
     },
     "c468fd97b09c43948f3278c6a4a60715": {
      "model_module": "@jupyter-widgets/controls",
      "model_module_version": "1.2.0",
      "model_name": "ButtonStyleModel",
      "state": {}
     },
     "c52d9480bdd445f48bf7860b8148fd09": {
      "model_module": "@jupyter-widgets/controls",
      "model_module_version": "1.2.0",
      "model_name": "CheckboxModel",
      "state": {
       "description": "gleiche syntagmatische Position",
       "disabled": false,
       "layout": "IPY_MODEL_c1b0c96f75fd43eb8f74dec8114f7ddf",
       "style": "IPY_MODEL_839e63cc59b14fd18624a5a27c8f4b2e",
       "value": false
      }
     },
     "c5399cebabe74fa6b2de74043d1157ea": {
      "model_module": "@jupyter-widgets/controls",
      "model_module_version": "1.2.0",
      "model_name": "HBoxModel",
      "state": {
       "children": [
        "IPY_MODEL_e33b8d0c7a1b414d8318df1f276cff76",
        "IPY_MODEL_cefdac7be5c8418c91509bca54a95b9a"
       ],
       "layout": "IPY_MODEL_299304545d744eb2b7d979e3f43f5df0"
      }
     },
     "c55c13f399144e92b139a316e17c5639": {
      "model_module": "@jupyter-widgets/controls",
      "model_module_version": "1.2.0",
      "model_name": "HTMLModel",
      "state": {
       "layout": "IPY_MODEL_f7852f71deae4946bef6c1a5a8b1a7d3",
       "style": "IPY_MODEL_a5d150f6ed314c2cb89e52717260a630",
       "value": "<i>Vervollständigen Sie den Lückentext: </i>"
      }
     },
     "c5afcefe697f415192af98dad00d23c2": {
      "model_module": "@jupyter-widgets/controls",
      "model_module_version": "1.2.0",
      "model_name": "ButtonModel",
      "state": {
       "description": "base",
       "layout": "IPY_MODEL_f65eff2991f54fbe9996967041a6e116",
       "style": "IPY_MODEL_14d2e51a06fc42d0ae5b94b951116e1f"
      }
     },
     "c60e6cd70ab444c4a67067075355f98e": {
      "model_module": "@jupyter-widgets/controls",
      "model_module_version": "1.2.0",
      "model_name": "VBoxModel",
      "state": {
       "children": [
        "IPY_MODEL_835dee16415a40eb8cdb8c4f2da64e27",
        "IPY_MODEL_63b7c80889d5498f987dd0320cfa1ef0",
        "IPY_MODEL_758ad791cf4645e3ac5fe909131b1636",
        "IPY_MODEL_756d2353e8c7417e948e751cde7aac33"
       ],
       "layout": "IPY_MODEL_110ad4700d094c13b2a1c92e0adc16c2"
      }
     },
     "c64399322cb646a69c78599384670f44": {
      "model_module": "@jupyter-widgets/controls",
      "model_module_version": "1.2.0",
      "model_name": "ButtonModel",
      "state": {
       "description": "base",
       "layout": "IPY_MODEL_4515f29be5654fa6ae71e7f3be609a73",
       "style": "IPY_MODEL_cc9f8fdcc2314164afeef6ad4a41e87f"
      }
     },
     "c69d69b9baa64f57bee6fe57e126b07a": {
      "model_module": "@jupyter-widgets/base",
      "model_module_version": "1.0.0",
      "model_name": "LayoutModel",
      "state": {
       "width": "250px"
      }
     },
     "c6f9fc20807d4464a8df19a9207e34d0": {
      "model_module": "@jupyter-widgets/base",
      "model_module_version": "1.0.0",
      "model_name": "LayoutModel",
      "state": {
       "justify_content": "center"
      }
     },
     "c702f7f8df78489f854774deb6167988": {
      "model_module": "@jupyter-widgets/controls",
      "model_module_version": "1.2.0",
      "model_name": "ButtonModel",
      "state": {
       "description": "Adverb",
       "layout": "IPY_MODEL_b95f46a81c514ffcabb274304a6f8243",
       "style": "IPY_MODEL_a1ae0e16e30f4d3a80491c6b28b13927"
      }
     },
     "c82d7657554e42c1bea33e6f8489a27e": {
      "model_module": "@jupyter-widgets/base",
      "model_module_version": "1.0.0",
      "model_name": "LayoutModel",
      "state": {}
     },
     "c87995a81392412681708588591f18fb": {
      "model_module": "@jupyter-widgets/controls",
      "model_module_version": "1.2.0",
      "model_name": "ButtonStyleModel",
      "state": {}
     },
     "c89681242175492297da7c670b65e271": {
      "model_module": "@jupyter-widgets/base",
      "model_module_version": "1.0.0",
      "model_name": "LayoutModel",
      "state": {
       "width": "250px"
      }
     },
     "c8e798c386cd4e0bba904fc52a295799": {
      "model_module": "@jupyter-widgets/controls",
      "model_module_version": "1.2.0",
      "model_name": "ButtonStyleModel",
      "state": {}
     },
     "c9cd3079d1d34b33ac2de64f3c50a69e": {
      "model_module": "@jupyter-widgets/base",
      "model_module_version": "1.0.0",
      "model_name": "LayoutModel",
      "state": {}
     },
     "ca21dc24285a412cb7e0627e218bad05": {
      "model_module": "@jupyter-widgets/controls",
      "model_module_version": "1.2.0",
      "model_name": "HBoxModel",
      "state": {
       "children": [
        "IPY_MODEL_2ce06bc3d155458482f7020b37548989"
       ],
       "layout": "IPY_MODEL_4eb30e3ff71c431cbe0ec3906cb262ba"
      }
     },
     "ca26450b99a845a9b5522ec2c0c46c30": {
      "model_module": "@jupyter-widgets/base",
      "model_module_version": "1.0.0",
      "model_name": "LayoutModel",
      "state": {
       "width": "600px"
      }
     },
     "ca63bacfdea64bbe9f9898e2fedf1f2c": {
      "model_module": "@jupyter-widgets/controls",
      "model_module_version": "1.2.0",
      "model_name": "HBoxModel",
      "state": {
       "children": [
        "IPY_MODEL_a297311eae824144b5d11296dab05807",
        "IPY_MODEL_2a912c0865b74f0d9d29627e91278fe9"
       ],
       "layout": "IPY_MODEL_3a679ce2f2a14d8293dd2ebb45d949a3"
      }
     },
     "caaffa157186429ca53d17151d0c94db": {
      "model_module": "@jupyter-widgets/controls",
      "model_module_version": "1.2.0",
      "model_name": "HTMLModel",
      "state": {
       "layout": "IPY_MODEL_34003e9011bc4a57928a1c7e159adfa1",
       "style": "IPY_MODEL_aa6033ea764f41d4a453e249b2e02e81",
       "value": "<h4 style=\"font-size:14px;\">Das Partizip <i>Verloren<i> ist eine</h4>"
      }
     },
     "cab5b4c5f6f44f5281622a6a5bab986d": {
      "model_module": "@jupyter-widgets/controls",
      "model_module_version": "1.2.0",
      "model_name": "VBoxModel",
      "state": {
       "children": [
        "IPY_MODEL_6f91b26711ad4b63888165b44d53cfda",
        "IPY_MODEL_2a20fa3354794266af3c916c9564c5fd",
        "IPY_MODEL_635201f6b700434da95c45c7bf099264",
        "IPY_MODEL_d55f8c6b0b8241e0afd421669aced8ac"
       ],
       "layout": "IPY_MODEL_e124b82aedb54f019ba217ebaa673748"
      }
     },
     "cb02825a74d64fb28d6e18041679f4e9": {
      "model_module": "@jupyter-widgets/base",
      "model_module_version": "1.0.0",
      "model_name": "LayoutModel",
      "state": {}
     },
     "cb584be6e2084ddb85044117b3f2c49e": {
      "model_module": "@jupyter-widgets/base",
      "model_module_version": "1.0.0",
      "model_name": "LayoutModel",
      "state": {
       "width": "250px"
      }
     },
     "cc16cba242bf49b897aba1679ba593a6": {
      "model_module": "@jupyter-widgets/controls",
      "model_module_version": "1.2.0",
      "model_name": "HTMLModel",
      "state": {
       "layout": "IPY_MODEL_234a50084ae248b884006265db37a570",
       "style": "IPY_MODEL_5a95d302f0db4aa4806da5ef467c256a",
       "value": "<h4 style=\"font-size:14px;\">umfasst die</h4>"
      }
     },
     "cc599d152b3049008aed8cdcf8da4e68": {
      "model_module": "@jupyter-widgets/controls",
      "model_module_version": "1.2.0",
      "model_name": "DropdownModel",
      "state": {
       "_options_labels": [
        "'ADJ'",
        "'DET'",
        "'NOUN'",
        " "
       ],
       "index": 3,
       "layout": "IPY_MODEL_cdde16d1cdc940a1b6b74f0142ca867f",
       "style": "IPY_MODEL_085ba7635a484c40b147651e23f7b845"
      }
     },
     "cc9f8fdcc2314164afeef6ad4a41e87f": {
      "model_module": "@jupyter-widgets/controls",
      "model_module_version": "1.2.0",
      "model_name": "ButtonStyleModel",
      "state": {}
     },
     "cd2a067f3dd3464e911ecd80eeac00b3": {
      "model_module": "@jupyter-widgets/base",
      "model_module_version": "1.0.0",
      "model_name": "LayoutModel",
      "state": {}
     },
     "cdd83d4335cc4e5db79398e0ee74a510": {
      "model_module": "@jupyter-widgets/base",
      "model_module_version": "1.0.0",
      "model_name": "LayoutModel",
      "state": {}
     },
     "cdde16d1cdc940a1b6b74f0142ca867f": {
      "model_module": "@jupyter-widgets/base",
      "model_module_version": "1.0.0",
      "model_name": "LayoutModel",
      "state": {
       "width": "150px"
      }
     },
     "ce368cf0c98a49ee8d3adc66f6ec2024": {
      "model_module": "@jupyter-widgets/base",
      "model_module_version": "1.0.0",
      "model_name": "LayoutModel",
      "state": {
       "justify_content": "center"
      }
     },
     "ce705682e78b4d3799842531905a568f": {
      "model_module": "@jupyter-widgets/controls",
      "model_module_version": "1.2.0",
      "model_name": "CheckboxModel",
      "state": {
       "description": "gleiche Endungen",
       "disabled": false,
       "layout": "IPY_MODEL_ba45f030b06e458b9f5b2347dadbd849",
       "style": "IPY_MODEL_017ec6e9135b46a3923cdec0558ebb24",
       "value": false
      }
     },
     "cefdac7be5c8418c91509bca54a95b9a": {
      "model_module": "@jupyter-widgets/controls",
      "model_module_version": "1.2.0",
      "model_name": "ButtonModel",
      "state": {
       "description": "Keine der anderen Möglichkeiten",
       "layout": "IPY_MODEL_7098ecdbaa644eecacaec20a2feaa31b",
       "style": "IPY_MODEL_59e9a6bf9f714aaba7c250105c76b41f"
      }
     },
     "cfffa5bb13624eb59e1ac03c58788953": {
      "model_module": "@jupyter-widgets/controls",
      "model_module_version": "1.2.0",
      "model_name": "HTMLModel",
      "state": {
       "layout": "IPY_MODEL_5c8a2226e5a14a028faa360f3aec5940",
       "style": "IPY_MODEL_99251492ace94992a863fc56c5a8fe2a",
       "value": "<i>Wählen Sie die <ins>eine</ins> korrekte Antwort aus: </i>"
      }
     },
     "d1912f7047b4462093463c0ccd8adfde": {
      "model_module": "@jupyter-widgets/controls",
      "model_module_version": "1.2.0",
      "model_name": "HTMLModel",
      "state": {
       "layout": "IPY_MODEL_69bcc5d9e0b34b8c955365a71b424b12",
       "style": "IPY_MODEL_a4a999b95f0c4a628eab927819030f47",
       "value": "<h4 style=\"font-size:14px;\">Die Koordination von Phrasen ist dadurch eingeschränkt, dass nur</h4>"
      }
     },
     "d1b4a3e4f57b4f16a0e19ac79b9fb4d7": {
      "model_module": "@jupyter-widgets/base",
      "model_module_version": "1.0.0",
      "model_name": "LayoutModel",
      "state": {}
     },
     "d1ea0dc01b6f48ada4614ba1d2a472d4": {
      "model_module": "@jupyter-widgets/base",
      "model_module_version": "1.0.0",
      "model_name": "LayoutModel",
      "state": {}
     },
     "d20ff4a81c2f4a01999c082f6b3a5bda": {
      "model_module": "@jupyter-widgets/controls",
      "model_module_version": "1.2.0",
      "model_name": "DropdownModel",
      "state": {
       "_options_labels": [
        "Bedeutung",
        "Wohlgeformtheit",
        " "
       ],
       "index": 2,
       "layout": "IPY_MODEL_b1d98a7e1dfc483b92f628fd29de8638",
       "style": "IPY_MODEL_6ac3d8d2e8aa4766b4691aa9847364c4"
      }
     },
     "d271767189d844d8ae6cc2f1342f72d1": {
      "model_module": "@jupyter-widgets/controls",
      "model_module_version": "1.2.0",
      "model_name": "ButtonStyleModel",
      "state": {}
     },
     "d33ba3f9519c4acf89d9b6b1421cd6dc": {
      "model_module": "@jupyter-widgets/base",
      "model_module_version": "1.0.0",
      "model_name": "LayoutModel",
      "state": {
       "justify_content": "center"
      }
     },
     "d3b317f61d7b452c93210ac2e020c4c1": {
      "model_module": "@jupyter-widgets/base",
      "model_module_version": "1.0.0",
      "model_name": "LayoutModel",
      "state": {
       "width": "250px"
      }
     },
     "d3d98c6bc09146109a1987a566b3653c": {
      "model_module": "@jupyter-widgets/controls",
      "model_module_version": "1.2.0",
      "model_name": "ButtonModel",
      "state": {
       "description": "past participle",
       "layout": "IPY_MODEL_c89681242175492297da7c670b65e271",
       "style": "IPY_MODEL_0e2b4f860edd4ccaa37453a965de2c7f"
      }
     },
     "d507645ada814132a5ab22e7e6816990": {
      "model_module": "@jupyter-widgets/controls",
      "model_module_version": "1.2.0",
      "model_name": "CheckboxModel",
      "state": {
       "description": "Es ist flektierbar.",
       "disabled": false,
       "layout": "IPY_MODEL_f22ded2b250145398d775f94159144f3",
       "style": "IPY_MODEL_e98a08725be5455299711a2e10a5c72f",
       "value": false
      }
     },
     "d55f8c6b0b8241e0afd421669aced8ac": {
      "model_module": "@jupyter-widgets/controls",
      "model_module_version": "1.2.0",
      "model_name": "CheckboxModel",
      "state": {
       "description": "Nur mit einem Schritt beginnt auch eine Reise von tausend Meilen.",
       "disabled": false,
       "layout": "IPY_MODEL_b2004758f0b3410987aec23ed6f67e71",
       "style": "IPY_MODEL_1eb9713369c7479aa380c3c4368a68de",
       "value": false
      }
     },
     "d6370f6837a74a98b6aa2b72a67751de": {
      "model_module": "@jupyter-widgets/controls",
      "model_module_version": "1.2.0",
      "model_name": "DescriptionStyleModel",
      "state": {
       "description_width": ""
      }
     },
     "d6ceedb213224b29a862cdfbf852baf1": {
      "model_module": "@jupyter-widgets/controls",
      "model_module_version": "1.2.0",
      "model_name": "ButtonModel",
      "state": {
       "description": "Korrekt?",
       "layout": "IPY_MODEL_12843a4d507a409eb7cde8ff3e866f43",
       "style": "IPY_MODEL_c8e798c386cd4e0bba904fc52a295799"
      }
     },
     "d6d4f43a5f284c7cb3e50f40fe0fd3b2": {
      "model_module": "@jupyter-widgets/controls",
      "model_module_version": "1.2.0",
      "model_name": "ButtonStyleModel",
      "state": {}
     },
     "d6fb3341007e46dbb9496f7c0a4d0feb": {
      "model_module": "@jupyter-widgets/controls",
      "model_module_version": "1.2.0",
      "model_name": "ButtonStyleModel",
      "state": {}
     },
     "d6fd9228571846f7b8e81e81d4c5a00f": {
      "model_module": "@jupyter-widgets/controls",
      "model_module_version": "1.2.0",
      "model_name": "HTMLModel",
      "state": {
       "layout": "IPY_MODEL_f074e4c04570456da1fe895722a94397",
       "style": "IPY_MODEL_1723c5ebd658478ab1fe04b652d48c47",
       "value": "<i>Wählen Sie die <ins>eine</ins> korrekte Antwort aus: </i>"
      }
     },
     "d70f29365bc6471595da2acdd0e5b42e": {
      "model_module": "@jupyter-widgets/controls",
      "model_module_version": "1.2.0",
      "model_name": "HTMLModel",
      "state": {
       "layout": "IPY_MODEL_12fd0a2474884cdcb49ab10838ff89b9",
       "style": "IPY_MODEL_ecd9ecbe206347d2afbed4649023fa31",
       "value": "<h4 style=\"font-size:14px;\">. Aus dieser wurde es extrahiert und ins</h4>"
      }
     },
     "d7fafb27a51643f782e8f43e13f4c696": {
      "model_module": "@jupyter-widgets/controls",
      "model_module_version": "1.2.0",
      "model_name": "HBoxModel",
      "state": {
       "children": [
        "IPY_MODEL_813b9ca890fe40839431febed5a2787f"
       ],
       "layout": "IPY_MODEL_1fd36ddb9dcf4b27ac94350a3be69c69"
      }
     },
     "d8653182893b4c18838300d282d97159": {
      "model_module": "@jupyter-widgets/controls",
      "model_module_version": "1.2.0",
      "model_name": "DescriptionStyleModel",
      "state": {
       "description_width": "initial"
      }
     },
     "d9109d780ff34924b7954a3da431224d": {
      "model_module": "@jupyter-widgets/controls",
      "model_module_version": "1.2.0",
      "model_name": "HTMLModel",
      "state": {
       "layout": "IPY_MODEL_ec11276bb8da4cc89e105baae007e6aa",
       "style": "IPY_MODEL_26a65b3a40c64e3a95a1967d8044dfe3",
       "value": "<i>Markieren Sie <ins>alle</ins> passenden Antworten: </i>"
      }
     },
     "d91e76abb2c94ec4882c1b19ba1e6735": {
      "model_module": "@jupyter-widgets/base",
      "model_module_version": "1.0.0",
      "model_name": "LayoutModel",
      "state": {}
     },
     "daa55aff4cc3428e8a8e0fb0f81f8150": {
      "model_module": "@jupyter-widgets/controls",
      "model_module_version": "1.2.0",
      "model_name": "HTMLModel",
      "state": {
       "layout": "IPY_MODEL_e423db3cb1c344a0830c0ec3db729fbe",
       "style": "IPY_MODEL_29c04575ac804bc593dd289b4bcfe719",
       "value": "<i>Markieren Sie <ins>alle</ins> passenden Antworten: </i>"
      }
     },
     "dab5ee34b52341ffa42847ee07b688b3": {
      "model_module": "@jupyter-widgets/controls",
      "model_module_version": "1.2.0",
      "model_name": "HTMLModel",
      "state": {
       "layout": "IPY_MODEL_83466017edd64d389d4731137a8751e9",
       "style": "IPY_MODEL_7a69880c7e45446fa45cdcacddd5282e",
       "value": "<h4 style=\"font-size:14px;\">Was bedeutet das Tag <i>VBN</i> im Browntagset (siehe 5.7)?</h4>"
      }
     },
     "dabf16ff49844e6eb30fd573f35930db": {
      "model_module": "@jupyter-widgets/controls",
      "model_module_version": "1.2.0",
      "model_name": "VBoxModel",
      "state": {
       "children": [
        "IPY_MODEL_c55c13f399144e92b139a316e17c5639",
        "IPY_MODEL_41ac55ad398f41f3813834478f625784",
        "IPY_MODEL_b3fdd26f5d5f43bb8f1e3de88992fee5"
       ],
       "layout": "IPY_MODEL_1953a93102344111b72ad6eff8eb8a60"
      }
     },
     "dadba7a3d20d452e82a5dad84a6292f5": {
      "model_module": "@jupyter-widgets/controls",
      "model_module_version": "1.2.0",
      "model_name": "DropdownModel",
      "state": {
       "_options_labels": [
        "Köpfe",
        "Länge",
        "Phrasenstruktur",
        " "
       ],
       "index": 3,
       "layout": "IPY_MODEL_ece581709d7e49dfb407349834317dc6",
       "style": "IPY_MODEL_a085e0eb1a1c491794a7e25de8a26a99"
      }
     },
     "dbc788a3ebd24876a202f8d91d2434b5": {
      "model_module": "@jupyter-widgets/base",
      "model_module_version": "1.0.0",
      "model_name": "LayoutModel",
      "state": {
       "width": "250px"
      }
     },
     "dbf7a1f49ff64384bb0d986037a3b643": {
      "model_module": "@jupyter-widgets/controls",
      "model_module_version": "1.2.0",
      "model_name": "VBoxModel",
      "state": {
       "children": [
        "IPY_MODEL_dab5ee34b52341ffa42847ee07b688b3",
        "IPY_MODEL_195dc0c161a2457ca142d8ef5df65cd2",
        "IPY_MODEL_817916bd25eb48be99314d869cb8e445",
        "IPY_MODEL_418e482010154aef832997d78291982c",
        "IPY_MODEL_aec4c34d1f2c4d69a71efafb0d35bc4f"
       ],
       "layout": "IPY_MODEL_d1ea0dc01b6f48ada4614ba1d2a472d4"
      }
     },
     "ddd67b5ea7144198927bac51ed285e7f": {
      "model_module": "@jupyter-widgets/controls",
      "model_module_version": "1.2.0",
      "model_name": "HTMLModel",
      "state": {
       "layout": "IPY_MODEL_cdd83d4335cc4e5db79398e0ee74a510",
       "style": "IPY_MODEL_9447416a80f4479eb18c383fd980101d",
       "value": "<i>Geben Sie die entsprechende Funktion anstelle des Unterstrichs ein.</i>"
      }
     },
     "de2e8adf300d42299de225cc6f6f468c": {
      "model_module": "@jupyter-widgets/base",
      "model_module_version": "1.0.0",
      "model_name": "LayoutModel",
      "state": {}
     },
     "df98daddc04347649192a59cfdaabdde": {
      "model_module": "@jupyter-widgets/controls",
      "model_module_version": "1.2.0",
      "model_name": "DescriptionStyleModel",
      "state": {
       "description_width": ""
      }
     },
     "e053449637b24e6f89cce808cb3b5b6b": {
      "model_module": "@jupyter-widgets/controls",
      "model_module_version": "1.2.0",
      "model_name": "ButtonModel",
      "state": {
       "description": "Folge von Wortklassen",
       "layout": "IPY_MODEL_bfc6f992989d4959842fdd96c2cce7a1",
       "style": "IPY_MODEL_3d45549fa30d4f3aac0ff92e3a9d47cb"
      }
     },
     "e123a55f8de84410a67ad4965881637a": {
      "model_module": "@jupyter-widgets/base",
      "model_module_version": "1.0.0",
      "model_name": "LayoutModel",
      "state": {
       "justify_content": "center"
      }
     },
     "e124b82aedb54f019ba217ebaa673748": {
      "model_module": "@jupyter-widgets/base",
      "model_module_version": "1.0.0",
      "model_name": "LayoutModel",
      "state": {}
     },
     "e16c607027a14d0a962cd05b798fe500": {
      "model_module": "@jupyter-widgets/base",
      "model_module_version": "1.0.0",
      "model_name": "LayoutModel",
      "state": {}
     },
     "e1f6c06355d7424ca912eff55642ea84": {
      "model_module": "@jupyter-widgets/controls",
      "model_module_version": "1.2.0",
      "model_name": "ButtonStyleModel",
      "state": {}
     },
     "e2f09f02190447678d4ec0720307f4c9": {
      "model_module": "@jupyter-widgets/controls",
      "model_module_version": "1.2.0",
      "model_name": "DescriptionStyleModel",
      "state": {
       "description_width": "initial"
      }
     },
     "e2f7a463243c4c4691a6b5dd3a0a8126": {
      "model_module": "@jupyter-widgets/base",
      "model_module_version": "1.0.0",
      "model_name": "LayoutModel",
      "state": {
       "width": "250px"
      }
     },
     "e2fe23fba3e04c1face022eca228e126": {
      "model_module": "@jupyter-widgets/controls",
      "model_module_version": "1.2.0",
      "model_name": "DescriptionStyleModel",
      "state": {
       "description_width": ""
      }
     },
     "e33b8d0c7a1b414d8318df1f276cff76": {
      "model_module": "@jupyter-widgets/controls",
      "model_module_version": "1.2.0",
      "model_name": "ButtonModel",
      "state": {
       "description": "Partikel",
       "layout": "IPY_MODEL_ff713eb299594c2993b06716a5fa70b4",
       "style": "IPY_MODEL_072bcd74b498483fbe0924c3dbd2898f"
      }
     },
     "e37aa04b43794e2fa72c915c2ff9889a": {
      "model_module": "@jupyter-widgets/base",
      "model_module_version": "1.0.0",
      "model_name": "LayoutModel",
      "state": {
       "justify_content": "center"
      }
     },
     "e3918b94ada440189028a59d39b7bbe4": {
      "model_module": "@jupyter-widgets/controls",
      "model_module_version": "1.2.0",
      "model_name": "DescriptionStyleModel",
      "state": {
       "description_width": "initial"
      }
     },
     "e3b681567dde49f396c7e4c531af2547": {
      "model_module": "@jupyter-widgets/base",
      "model_module_version": "1.0.0",
      "model_name": "LayoutModel",
      "state": {
       "width": "250px"
      }
     },
     "e423db3cb1c344a0830c0ec3db729fbe": {
      "model_module": "@jupyter-widgets/base",
      "model_module_version": "1.0.0",
      "model_name": "LayoutModel",
      "state": {
       "justify_content": "center"
      }
     },
     "e503cf105cf04d1fbf81835064505a71": {
      "model_module": "@jupyter-widgets/controls",
      "model_module_version": "1.2.0",
      "model_name": "VBoxModel",
      "state": {
       "children": [
        "IPY_MODEL_06ea0edfc5354bd6a5fc9d088be61020",
        "IPY_MODEL_0175919d7843437888ac5e96bc52ead1",
        "IPY_MODEL_91ee56ff8cf5457e85dd1a8441f95866",
        "IPY_MODEL_ca21dc24285a412cb7e0627e218bad05"
       ],
       "layout": "IPY_MODEL_3158065894984928857d97d2c4685855"
      }
     },
     "e5a7e07199bb4a0a8a57f7307e61329f": {
      "model_module": "@jupyter-widgets/controls",
      "model_module_version": "1.2.0",
      "model_name": "DescriptionStyleModel",
      "state": {
       "description_width": ""
      }
     },
     "e5fe3fcd768746ec8ebd979d494d2a7f": {
      "model_module": "@jupyter-widgets/controls",
      "model_module_version": "1.2.0",
      "model_name": "DescriptionStyleModel",
      "state": {
       "description_width": ""
      }
     },
     "e65e3d49ded442619a89ea386db6fe7f": {
      "model_module": "@jupyter-widgets/controls",
      "model_module_version": "1.2.0",
      "model_name": "DescriptionStyleModel",
      "state": {
       "description_width": ""
      }
     },
     "e71a3d0e496349949eafba2f4ea81a8b": {
      "model_module": "@jupyter-widgets/base",
      "model_module_version": "1.0.0",
      "model_name": "LayoutModel",
      "state": {
       "width": "600px"
      }
     },
     "e7ff18db3fb3412a8d978b70526c4f56": {
      "model_module": "@jupyter-widgets/controls",
      "model_module_version": "1.2.0",
      "model_name": "BoxModel",
      "state": {
       "children": [
        "IPY_MODEL_2d9a4a6a640d4889904a387d93a3848c",
        "IPY_MODEL_78760654130e4711b31ea8159b906575",
        "IPY_MODEL_2af3e97c0e7345589954403c051c00b4",
        "IPY_MODEL_13eba5b105f74892a0e770faa9976aef",
        "IPY_MODEL_4565378f525f4dc192240e4a71b85655",
        "IPY_MODEL_d20ff4a81c2f4a01999c082f6b3a5bda",
        "IPY_MODEL_36ba574a7b9a48788f162522a8585e10"
       ],
       "layout": "IPY_MODEL_768ca528220e42e2bf8a81fbf63a8541"
      }
     },
     "e8116a518fba47c7a3dc9bb6585696fe": {
      "model_module": "@jupyter-widgets/controls",
      "model_module_version": "1.2.0",
      "model_name": "DescriptionStyleModel",
      "state": {
       "description_width": ""
      }
     },
     "e89900bd2c934e0f8f87149f49829d8d": {
      "model_module": "@jupyter-widgets/base",
      "model_module_version": "1.0.0",
      "model_name": "LayoutModel",
      "state": {
       "width": "150px"
      }
     },
     "e8b1bb6efdec4fa58c3a107b234ecd41": {
      "model_module": "@jupyter-widgets/controls",
      "model_module_version": "1.2.0",
      "model_name": "DescriptionStyleModel",
      "state": {
       "description_width": "initial"
      }
     },
     "e920dd9f3c46491faf0f96eb50823103": {
      "model_module": "@jupyter-widgets/base",
      "model_module_version": "1.0.0",
      "model_name": "LayoutModel",
      "state": {
       "width": "250px"
      }
     },
     "e98a08725be5455299711a2e10a5c72f": {
      "model_module": "@jupyter-widgets/controls",
      "model_module_version": "1.2.0",
      "model_name": "DescriptionStyleModel",
      "state": {
       "description_width": "initial"
      }
     },
     "ea50b5a43b0f437f8176e73a9de9d4cb": {
      "model_module": "@jupyter-widgets/base",
      "model_module_version": "1.0.0",
      "model_name": "LayoutModel",
      "state": {}
     },
     "eae5c35f5626492589ff72084e42b96e": {
      "model_module": "@jupyter-widgets/base",
      "model_module_version": "1.0.0",
      "model_name": "LayoutModel",
      "state": {
       "width": "250px"
      }
     },
     "eafb3dec8a2446e68180b23f92cfa90c": {
      "model_module": "@jupyter-widgets/controls",
      "model_module_version": "1.2.0",
      "model_name": "ButtonModel",
      "state": {
       "description": "Adjektiv",
       "layout": "IPY_MODEL_b7edb550d38b4039ab652bf2fe2c8a60",
       "style": "IPY_MODEL_f0783420a31c4c26ba98b2baca763518"
      }
     },
     "eb1022e2a4e546a497e1f39b9bce7427": {
      "model_module": "@jupyter-widgets/base",
      "model_module_version": "1.0.0",
      "model_name": "LayoutModel",
      "state": {}
     },
     "eb45cc4a7eae46d98ca4b4a71a809a62": {
      "model_module": "@jupyter-widgets/controls",
      "model_module_version": "1.2.0",
      "model_name": "DescriptionStyleModel",
      "state": {
       "description_width": ""
      }
     },
     "eb511ee71320444687d24f6c065a7ed1": {
      "model_module": "@jupyter-widgets/controls",
      "model_module_version": "1.2.0",
      "model_name": "DescriptionStyleModel",
      "state": {
       "description_width": ""
      }
     },
     "eb8bda4e4fdd47e1b06f662a7cb628df": {
      "model_module": "@jupyter-widgets/controls",
      "model_module_version": "1.2.0",
      "model_name": "ButtonModel",
      "state": {
       "description": "Korrekt?",
       "layout": "IPY_MODEL_fc0db8848cea466ab70f4fff4d511200",
       "style": "IPY_MODEL_53e657368f9e4413bba78d380ebb25e5"
      }
     },
     "ebc906d6b94a45a999f490fd8828ac2e": {
      "model_module": "@jupyter-widgets/controls",
      "model_module_version": "1.2.0",
      "model_name": "VBoxModel",
      "state": {
       "children": [
        "IPY_MODEL_7ca602bb3bc2489198555e95054e57a4",
        "IPY_MODEL_641e4cd0817e45ba82cfc83e4513e310",
        "IPY_MODEL_5f07b7cb64ef41c5a70c39db240030a5",
        "IPY_MODEL_ca63bacfdea64bbe9f9898e2fedf1f2c",
        "IPY_MODEL_3e5b353e074b483ba98c2dc390330156"
       ],
       "layout": "IPY_MODEL_c82d7657554e42c1bea33e6f8489a27e"
      }
     },
     "ec11276bb8da4cc89e105baae007e6aa": {
      "model_module": "@jupyter-widgets/base",
      "model_module_version": "1.0.0",
      "model_name": "LayoutModel",
      "state": {
       "justify_content": "center"
      }
     },
     "ecd9ecbe206347d2afbed4649023fa31": {
      "model_module": "@jupyter-widgets/controls",
      "model_module_version": "1.2.0",
      "model_name": "DescriptionStyleModel",
      "state": {
       "description_width": ""
      }
     },
     "ece581709d7e49dfb407349834317dc6": {
      "model_module": "@jupyter-widgets/base",
      "model_module_version": "1.0.0",
      "model_name": "LayoutModel",
      "state": {
       "width": "150px"
      }
     },
     "eda45b3f02c64ebaaa5bb3d236bbc96c": {
      "model_module": "@jupyter-widgets/controls",
      "model_module_version": "1.2.0",
      "model_name": "ButtonModel",
      "state": {
       "description": "Keine der anderen Möglichkeiten",
       "layout": "IPY_MODEL_e3b681567dde49f396c7e4c531af2547",
       "style": "IPY_MODEL_430805e5c1a44d57aa40644f25a5f695"
      }
     },
     "ee7190bb853c49f1b5cc6e21fb0dd078": {
      "model_module": "@jupyter-widgets/controls",
      "model_module_version": "1.2.0",
      "model_name": "DescriptionStyleModel",
      "state": {
       "description_width": "initial"
      }
     },
     "eeb718f2add94907a67c269368bdd109": {
      "model_module": "@jupyter-widgets/base",
      "model_module_version": "1.0.0",
      "model_name": "LayoutModel",
      "state": {}
     },
     "eeeb8a86dfec4344a4ae8e1760455fea": {
      "model_module": "@jupyter-widgets/controls",
      "model_module_version": "1.2.0",
      "model_name": "DescriptionStyleModel",
      "state": {
       "description_width": ""
      }
     },
     "ef22792d8b9347b892527930d7a7663b": {
      "model_module": "@jupyter-widgets/controls",
      "model_module_version": "1.2.0",
      "model_name": "HTMLModel",
      "state": {
       "layout": "IPY_MODEL_adcb1635b51b45fb97eb7506e3861481",
       "style": "IPY_MODEL_fdae8ad25eda40cfb67247ccf6811111",
       "value": "<i>Wählen Sie die <ins>eine</ins> korrekte Antwort aus: </i>"
      }
     },
     "f074e4c04570456da1fe895722a94397": {
      "model_module": "@jupyter-widgets/base",
      "model_module_version": "1.0.0",
      "model_name": "LayoutModel",
      "state": {
       "justify_content": "center"
      }
     },
     "f0783420a31c4c26ba98b2baca763518": {
      "model_module": "@jupyter-widgets/controls",
      "model_module_version": "1.2.0",
      "model_name": "ButtonStyleModel",
      "state": {}
     },
     "f17ce0bc1f8c479c8d2a2c38347bce47": {
      "model_module": "@jupyter-widgets/base",
      "model_module_version": "1.0.0",
      "model_name": "LayoutModel",
      "state": {
       "justify_content": "center"
      }
     },
     "f1d91739888d48c5b05f41d6136571f6": {
      "model_module": "@jupyter-widgets/base",
      "model_module_version": "1.0.0",
      "model_name": "LayoutModel",
      "state": {
       "width": "250px"
      }
     },
     "f1e49c86d030497894755b21f7f2caf7": {
      "model_module": "@jupyter-widgets/base",
      "model_module_version": "1.0.0",
      "model_name": "LayoutModel",
      "state": {
       "width": "250px"
      }
     },
     "f22ded2b250145398d775f94159144f3": {
      "model_module": "@jupyter-widgets/base",
      "model_module_version": "1.0.0",
      "model_name": "LayoutModel",
      "state": {
       "width": "600px"
      }
     },
     "f2307be0fe704421beaf86f154d5c25d": {
      "model_module": "@jupyter-widgets/base",
      "model_module_version": "1.0.0",
      "model_name": "LayoutModel",
      "state": {
       "width": "150px"
      }
     },
     "f29655d1007b41f0a2cfab3ada7d7864": {
      "model_module": "@jupyter-widgets/base",
      "model_module_version": "1.0.0",
      "model_name": "LayoutModel",
      "state": {}
     },
     "f2978c81987145e9a0841a0d196b04cf": {
      "model_module": "@jupyter-widgets/base",
      "model_module_version": "1.0.0",
      "model_name": "LayoutModel",
      "state": {
       "justify_content": "center"
      }
     },
     "f2baa357bf374e36ab05dbaf5fbde2ee": {
      "model_module": "@jupyter-widgets/controls",
      "model_module_version": "1.2.0",
      "model_name": "HTMLModel",
      "state": {
       "layout": "IPY_MODEL_e37aa04b43794e2fa72c915c2ff9889a",
       "style": "IPY_MODEL_0e67fa95c22b4ca28b7773daba77e0d3",
       "value": "<i>Vervollständigen Sie den Lückentext: </i>"
      }
     },
     "f3033a5a780f4559997793e353beae77": {
      "model_module": "@jupyter-widgets/base",
      "model_module_version": "1.0.0",
      "model_name": "LayoutModel",
      "state": {
       "justify_content": "center"
      }
     },
     "f37fe49ee6fd4c4d966770632de7d301": {
      "model_module": "@jupyter-widgets/controls",
      "model_module_version": "1.2.0",
      "model_name": "VBoxModel",
      "state": {
       "children": [
        "IPY_MODEL_47338cc8dbad4b56b2e5425b88eea8ac",
        "IPY_MODEL_21f08c2618ec456d947a0c377b92f22d",
        "IPY_MODEL_a88c8f4f5ffd48e9af313a7a231c9947",
        "IPY_MODEL_c3eb27617aab461182da24b2fbfcd196"
       ],
       "layout": "IPY_MODEL_126b9b6145a84884b286a93b2067a267"
      }
     },
     "f58e0c150eb043d48ced327afb6ed445": {
      "model_module": "@jupyter-widgets/controls",
      "model_module_version": "1.2.0",
      "model_name": "HTMLModel",
      "state": {
       "layout": "IPY_MODEL_aa408d3e29ec473daddf70b9f026f834",
       "style": "IPY_MODEL_5edcb65dd9344d22a18e3ba413912d9d",
       "value": "<h4 style=\"font-size:14px;\">In der ersten Zeile des Codes werden</h4>"
      }
     },
     "f65eff2991f54fbe9996967041a6e116": {
      "model_module": "@jupyter-widgets/base",
      "model_module_version": "1.0.0",
      "model_name": "LayoutModel",
      "state": {
       "width": "250px"
      }
     },
     "f7852f71deae4946bef6c1a5a8b1a7d3": {
      "model_module": "@jupyter-widgets/base",
      "model_module_version": "1.0.0",
      "model_name": "LayoutModel",
      "state": {
       "justify_content": "center"
      }
     },
     "f7a272febe094b559190363b9f368c91": {
      "model_module": "@jupyter-widgets/controls",
      "model_module_version": "1.2.0",
      "model_name": "DropdownModel",
      "state": {
       "_options_labels": [
        " ",
        "NP",
        "PP",
        "VP",
        " "
       ],
       "index": 0,
       "layout": "IPY_MODEL_76c22f475ed7495ca6d7640676b9b4e5",
       "style": "IPY_MODEL_6a26006c833b42638ceb415f03b8b16f"
      }
     },
     "f7c4782dad9544e89915214dbcb4be4e": {
      "model_module": "@jupyter-widgets/controls",
      "model_module_version": "1.2.0",
      "model_name": "DescriptionStyleModel",
      "state": {
       "description_width": ""
      }
     },
     "f8b60976369d41d68ec056209875e30b": {
      "model_module": "@jupyter-widgets/controls",
      "model_module_version": "1.2.0",
      "model_name": "VBoxModel",
      "state": {
       "children": [
        "IPY_MODEL_f2baa357bf374e36ab05dbaf5fbde2ee",
        "IPY_MODEL_e7ff18db3fb3412a8d978b70526c4f56",
        "IPY_MODEL_0634c994f5fa47e5bd97db2c375c5785"
       ],
       "layout": "IPY_MODEL_72da4c153f1d49d2a0bca9b74961aa3b"
      }
     },
     "fa28752d3c314659a103a6e55db88981": {
      "model_module": "@jupyter-widgets/controls",
      "model_module_version": "1.2.0",
      "model_name": "ButtonStyleModel",
      "state": {}
     },
     "fb45e1d0252840fa8cf132a10ca31347": {
      "model_module": "@jupyter-widgets/base",
      "model_module_version": "1.0.0",
      "model_name": "LayoutModel",
      "state": {
       "width": "250px"
      }
     },
     "fb4b81e3fa7b48dc8856ccec314d36f0": {
      "model_module": "@jupyter-widgets/controls",
      "model_module_version": "1.2.0",
      "model_name": "CheckboxModel",
      "state": {
       "description": "gleiche Endungen",
       "disabled": false,
       "layout": "IPY_MODEL_7847e6c7707d4690ac00d541f63510ab",
       "style": "IPY_MODEL_658e79f3bc684119b5d15e0e4d7c9c0a",
       "value": false
      }
     },
     "fb4c6152805341a48133735398919e99": {
      "model_module": "@jupyter-widgets/controls",
      "model_module_version": "1.2.0",
      "model_name": "ButtonStyleModel",
      "state": {}
     },
     "fc0db8848cea466ab70f4fff4d511200": {
      "model_module": "@jupyter-widgets/base",
      "model_module_version": "1.0.0",
      "model_name": "LayoutModel",
      "state": {
       "width": "250px"
      }
     },
     "fc8a51882627437282aa97519ff401e9": {
      "model_module": "@jupyter-widgets/base",
      "model_module_version": "1.0.0",
      "model_name": "LayoutModel",
      "state": {}
     },
     "fd2fbb21565d4046834e3a50e712a22b": {
      "model_module": "@jupyter-widgets/controls",
      "model_module_version": "1.2.0",
      "model_name": "ButtonModel",
      "state": {
       "description": "simple past",
       "layout": "IPY_MODEL_3a8a411806e848b180248c6b0a05c1a6",
       "style": "IPY_MODEL_e1f6c06355d7424ca912eff55642ea84"
      }
     },
     "fdae8ad25eda40cfb67247ccf6811111": {
      "model_module": "@jupyter-widgets/controls",
      "model_module_version": "1.2.0",
      "model_name": "DescriptionStyleModel",
      "state": {
       "description_width": ""
      }
     },
     "fdcd4caa057843aa9d901edb21497235": {
      "model_module": "@jupyter-widgets/base",
      "model_module_version": "1.0.0",
      "model_name": "LayoutModel",
      "state": {}
     },
     "fdcee4101b8c434bae50a29054c323cf": {
      "model_module": "@jupyter-widgets/base",
      "model_module_version": "1.0.0",
      "model_name": "LayoutModel",
      "state": {}
     },
     "fdf8901a0f124bdfb051e01296d7e885": {
      "model_module": "@jupyter-widgets/controls",
      "model_module_version": "1.2.0",
      "model_name": "DropdownModel",
      "state": {
       "_options_labels": [
        "POS",
        "POS+Wort+POS",
        "Wort+POS-Tag",
        " "
       ],
       "index": 3,
       "layout": "IPY_MODEL_655278375cf449568b0346f40e5b2b71",
       "style": "IPY_MODEL_0fb21de7ffad4c6786aa0801e3d3fec1"
      }
     },
     "fe175aedd3094b6aa2c891aaf12bd19c": {
      "model_module": "@jupyter-widgets/controls",
      "model_module_version": "1.2.0",
      "model_name": "ButtonStyleModel",
      "state": {}
     },
     "fe67e792901e47bbb3c8bd78ec3d471d": {
      "model_module": "@jupyter-widgets/base",
      "model_module_version": "1.0.0",
      "model_name": "LayoutModel",
      "state": {
       "width": "600px"
      }
     },
     "febfffc70e48453eba36358f053eafbe": {
      "model_module": "@jupyter-widgets/controls",
      "model_module_version": "1.2.0",
      "model_name": "VBoxModel",
      "state": {
       "children": [
        "IPY_MODEL_8c1808b4306742b3b7d8cabee7952574",
        "IPY_MODEL_bfccfcb639e24318b3d038df9926e46c",
        "IPY_MODEL_ae7d1e85073742049ab7780d7b0b06dd",
        "IPY_MODEL_0bcf069cc9b5487f93c88537ec283d96"
       ],
       "layout": "IPY_MODEL_a31e33c0bb8c48d681a77d10307d16de"
      }
     },
     "ff713eb299594c2993b06716a5fa70b4": {
      "model_module": "@jupyter-widgets/base",
      "model_module_version": "1.0.0",
      "model_name": "LayoutModel",
      "state": {
       "width": "250px"
      }
     },
     "ff938070930c475e9ab11db698e3851c": {
      "model_module": "@jupyter-widgets/controls",
      "model_module_version": "1.2.0",
      "model_name": "HTMLModel",
      "state": {
       "layout": "IPY_MODEL_840b03b0a8ad4dc899d06f0d6e8cd4dc",
       "style": "IPY_MODEL_a0308cccba1946f1a760641ed81a85c8",
       "value": "<h4 style=\"font-size:14px;\">Was bedeutet das Tag <i>VBZ</i> im Browntagset (siehe 5.7)?</h4>"
      }
     },
     "ffaca8b0f4ab4f6c94807a68fc7402aa": {
      "model_module": "@jupyter-widgets/base",
      "model_module_version": "1.0.0",
      "model_name": "LayoutModel",
      "state": {
       "width": "150px"
      }
     }
    },
    "version_major": 2,
    "version_minor": 0
   }
  }
 },
 "nbformat": 4,
 "nbformat_minor": 2
}
