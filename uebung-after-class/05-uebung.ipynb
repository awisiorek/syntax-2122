{
 "cells": [
  {
   "cell_type": "markdown",
   "metadata": {},
   "source": [
    "***Syntax natürlicher Sprachen, WS 2021/22***\n",
    "\n",
    "---\n",
    "# Übung 5"
   ]
  },
  {
   "cell_type": "code",
   "execution_count": null,
   "metadata": {},
   "outputs": [],
   "source": [
    "import nltk\n",
    "import sys\n",
    "from spacy import displacy"
   ]
  },
  {
   "cell_type": "code",
   "execution_count": null,
   "metadata": {},
   "outputs": [],
   "source": [
    "from nltk import DependencyGraph\n",
    "from nltk.tree import Tree\n",
    "from itertools import chain\n",
    "\n",
    "\n",
    "### tree_labeled-Methode für DependencyGraphs (pretty_print-Dependenzbäume mit Labels):\n",
    "def _tree_labeled(self, i):\n",
    "        node = self.get_by_address(i)\n",
    "        word = node[\"word\"]\n",
    "        rel = node[\"rel\"]        \n",
    "        deps = sorted(chain.from_iterable(node[\"deps\"].values()))\n",
    "\n",
    "        if deps:\n",
    "            return Tree(word+'('+rel+')', [self._tree_labeled(dep) for dep in deps])\n",
    "        else:\n",
    "            return word+'('+rel+')'\n",
    "        \n",
    "def tree_labeled(self):\n",
    "        node = self.root\n",
    "\n",
    "        word = node[\"word\"]\n",
    "        rel = node[\"rel\"]\n",
    "        deps = sorted(chain.from_iterable(node[\"deps\"].values()))\n",
    "        return Tree(word+'('+rel+')', [self._tree_labeled(dep) for dep in deps])\n",
    "\n",
    "    \n",
    "DependencyGraph._tree_labeled = _tree_labeled\n",
    "DependencyGraph.tree_labeled = tree_labeled\n",
    "\n",
    "\n",
    "\n",
    "def transform_nr_conll(sent_nr):\n",
    "    sent_list = []\n",
    "    for line in list(filter(None, sent_nr.split(\"\\n\"))):\n",
    "        line_list = line.split()\n",
    "        line_list.pop(0)\n",
    "        line_list.insert(1,\"_\")\n",
    "        sent_list.append(\" \".join([i for i in line_list[0:]]))\n",
    "\n",
    "    return \"\\n\".join([i for i in sent_list[0:]])\n",
    "\n",
    "\n",
    "\n",
    "\n",
    "\n",
    "def displacy_dep_input(sent):\n",
    "    deps = []\n",
    "    for dep in sent.split('\\n'):\n",
    "        deps.append(dep.split())\n",
    "\n",
    "    deps = [x for x in deps if x]\n",
    "\n",
    "    ex = []\n",
    "    word_list = []\n",
    "    arc_list = []\n",
    "\n",
    "    for index, dep in enumerate(deps):\n",
    "        word_list.append({\"text\": dep[0], \"tag\": \"\"})\n",
    "        line = index+1\n",
    "        head = int(dep[2])\n",
    "        label = dep[3]\n",
    "        if head>line:\n",
    "            start = index\n",
    "            end = head-1\n",
    "            direction = \"left\"\n",
    "        else:\n",
    "            start = head-1\n",
    "            end = index  \n",
    "            direction = \"right\"\n",
    "        if(label.lower() != \"root\"):\n",
    "            arc_list.append({\"start\": start, \"end\": end, \"label\": label, \"dir\": direction})\n",
    "\n",
    "    ex.append({\n",
    "        \"words\": word_list,\n",
    "        \"arcs\": arc_list\n",
    "    })    \n",
    "\n",
    "    return ex"
   ]
  },
  {
   "cell_type": "markdown",
   "metadata": {},
   "source": [
    "---\n",
    "## Aufgabe 1:  Adjunkt-Tests\n"
   ]
  },
  {
   "cell_type": "markdown",
   "metadata": {},
   "source": [
    "### Aufgabe 1 a: geschehens-Test\n",
    "\n",
    "#### Gegeben sei folgender Satz, dessen drittes Satzglied den geschehens-Test besteht (Satz bleibt wohlgeformt). \n",
    "\n",
    "#### *den ganzen Tag* wird somit vom Test korrekt als Angabe (Adjunkt) bestätigt.\n"
   ]
  },
  {
   "cell_type": "code",
   "execution_count": 4,
   "metadata": {},
   "outputs": [
    {
     "data": {
      "text/plain": [
       "'er wartet, und das geschieht den ganzen Tag'"
      ]
     },
     "execution_count": 4,
     "metadata": {},
     "output_type": "execute_result"
    }
   ],
   "source": [
    "sentence = [\"er\", \"wartet\", \"den ganzen Tag\"] #wohlgeformter Ausgangssatz\n",
    "\n",
    "sentence[0] + \" \" + sentence[1] + \", und das geschieht \" + sentence[2]\n",
    "#wohlgeformt nach Test-Anwendung:"
   ]
  },
  {
   "cell_type": "markdown",
   "metadata": {},
   "source": [
    "--- \n",
    "#### Welche syntaktische Funktion hat das Adjunkt *den ganzen Tag*?  (Objekt oder Adverbial?) Testen Sie über Passivierung!"
   ]
  },
  {
   "cell_type": "markdown",
   "metadata": {},
   "source": [
    "den ganzen Tag is adverbial\n",
    "\n",
    "*der ganze Tag wird von ihm gewartet"
   ]
  },
  {
   "cell_type": "markdown",
   "metadata": {},
   "source": [
    "---\n",
    "#### Geben Sie (unter Erhalt der Wohlgeformtheit des Ausgangssatzes) ein alternatives drittes Satzglied an, so dass der geschehens-Test fehlschlägt. \n"
   ]
  },
  {
   "cell_type": "code",
   "execution_count": 8,
   "metadata": {},
   "outputs": [
    {
     "data": {
      "text/plain": [
       "'er wartet, und das geschieht auf ihn'"
      ]
     },
     "execution_count": 8,
     "metadata": {},
     "output_type": "execute_result"
    }
   ],
   "source": [
    "sentence = [\"er\", \"wartet\", \"auf ihn\"] #wohlgeformter Ausgangssatz\n",
    "\n",
    "sentence[0] + \" \" + sentence[1] + \", und das geschieht \" + sentence[2]\n",
    "#nicht wohlgeformt nach Test-Anwendung:"
   ]
  },
  {
   "cell_type": "markdown",
   "metadata": {},
   "source": [
    "#### Für welchen Typ von Dependent spricht dies (Angabe/Adjunkt oder Ergänzung/Komplement)?\n"
   ]
  },
  {
   "cell_type": "markdown",
   "metadata": {},
   "source": [
    "komplement"
   ]
  },
  {
   "cell_type": "markdown",
   "metadata": {},
   "source": [
    "#### Ist dies auch korrekt?"
   ]
  },
  {
   "cell_type": "markdown",
   "metadata": {},
   "source": [
    "- yes, PP-komplement = prepositional objet\n",
    "\n",
    "- ich warte (auf etwas)"
   ]
  },
  {
   "cell_type": "markdown",
   "metadata": {},
   "source": [
    "---\n",
    "### Aufgabe 1 b: Adverbialsatz-Test\n",
    "\n",
    "#### Funktioniert die Feststellung von *den ganzen Tag*  als Adjunkt auch mit dem Adverbialsatz-Test?\n"
   ]
  },
  {
   "cell_type": "code",
   "execution_count": 9,
   "metadata": {},
   "outputs": [
    {
     "data": {
      "text/plain": [
       "'er wartet, als er den ganzen Tag war'"
      ]
     },
     "execution_count": 9,
     "metadata": {},
     "output_type": "execute_result"
    }
   ],
   "source": [
    "sentence = [\"er\", \"wartet\", \"den ganzen Tag\"] #wohlgeformter Ausgangssatz\n",
    "\n",
    "sentence[0] + \" \" + sentence[1] + \", als er \" + sentence[2] + \" war\"\n",
    "#wohlgeformt nach Test-Anwendung??"
   ]
  },
  {
   "cell_type": "markdown",
   "metadata": {},
   "source": [
    "---\n",
    "#### Geben Sie ein drittes Satzglied an, das den Adverbialsatz-Test besteht (Satz bleibt wohlgeformt).\n",
    "\n",
    "#### Was ist das Ergebnis des Tests?"
   ]
  },
  {
   "cell_type": "code",
   "execution_count": 11,
   "metadata": {},
   "outputs": [
    {
     "data": {
      "text/plain": [
       "'er wartet, als er in dem Park war'"
      ]
     },
     "execution_count": 11,
     "metadata": {},
     "output_type": "execute_result"
    }
   ],
   "source": [
    "sentence = [\"er\", \"wartet\", \"in dem Park\"] #wohlgeformter Ausgangssatz\n",
    "\n",
    "sentence[0] + \" \" + sentence[1] + \", als er \" + sentence[2] + \" war\"\n",
    "#wohlgeformt nach Test-Anwendung:"
   ]
  },
  {
   "cell_type": "markdown",
   "metadata": {},
   "source": [
    "---\n",
    "### Aufgabe 1 c: Eliminierungstest\n",
    "\n",
    "#### Funktioniert die Feststellung von *den ganzen Tag* als Adjunkt auch mit dem Eliminierungstest?\n"
   ]
  },
  {
   "cell_type": "code",
   "execution_count": 12,
   "metadata": {},
   "outputs": [
    {
     "data": {
      "text/plain": [
       "'er wartet'"
      ]
     },
     "execution_count": 12,
     "metadata": {},
     "output_type": "execute_result"
    }
   ],
   "source": [
    "sentence = [\"er\", \"wartet\", \"den ganzen Tag\"] #wohlgeformter Ausgangssatz\n",
    "\n",
    "sentence[0] + \" \" + sentence[1] \n",
    "#wohlgeformt nach Test-Anwendung??"
   ]
  },
  {
   "cell_type": "markdown",
   "metadata": {},
   "source": [
    "---\n",
    "#### Geben Sie in folgendem Beispiel ein Verb an, so dass das dritte Satzglied den Eliminierungstest NICHT besteht.\n",
    "\n",
    "#### Was ist das Ergebnis des Tests?"
   ]
  },
  {
   "cell_type": "code",
   "execution_count": 14,
   "metadata": {},
   "outputs": [
    {
     "data": {
      "text/plain": [
       "'er bekommt'"
      ]
     },
     "execution_count": 14,
     "metadata": {},
     "output_type": "execute_result"
    }
   ],
   "source": [
    "sentence = [\"er\", \"bekommt\", \"eine Nachricht\"] #wohlgeformter Ausgangssatz\n",
    "\n",
    "sentence[0] + \" \" + sentence[1]\n",
    "#nicht wohlgeformt nach Test-Anwendung:"
   ]
  },
  {
   "cell_type": "markdown",
   "metadata": {},
   "source": [
    "---\n",
    "## Aufgabe 2: Dependenzgrammatik mit dem NLTK\n",
    "\n",
    "#### Das NLTK lässt beim Schreiben von Dependenzgrammatiken lediglich die Beschreibung der Abhängigkeiten zwischen Wörtern zu. Dadurch werden Dependenzgrammatiken leicht redundant. Betrachten Sie das folgende Beispiel, das Ihnen vom letzten Übungsblatt bekannt vorkommen dürfte:"
   ]
  },
  {
   "cell_type": "code",
   "execution_count": 15,
   "metadata": {},
   "outputs": [
    {
     "name": "stdout",
     "output_type": "stream",
     "text": [
      "     gibt     \n",
      " ┌────┼────┐   \n",
      "Mann Frau Buch\n",
      " │    │    │   \n",
      "der  der  das \n",
      "\n"
     ]
    }
   ],
   "source": [
    "from nltk.parse import ProjectiveDependencyParser\n",
    "\n",
    "grammar = nltk.DependencyGrammar.fromstring(\"\"\"\n",
    "'gibt' -> 'Mann' | 'Frau' | 'Buch'\n",
    "'schenkt' -> 'Mann' | 'Frau' | 'Buch'\n",
    "'Mann' -> 'der'\n",
    "'Frau' -> 'der' | 'die'\n",
    "'Buch' -> 'das'\n",
    "\"\"\")\n",
    "\n",
    "parser = ProjectiveDependencyParser(grammar)\n",
    "sent = \"der Mann gibt der Frau das Buch\".split()\n",
    "for tree in parser.parse(sent):\n",
    "    tree.pretty_print(unicodelines=True)"
   ]
  },
  {
   "cell_type": "markdown",
   "metadata": {},
   "source": [
    "---\n",
    "#### Erweitern Sie die Grammatik um die Verben aus Aufgabe 2 von Übungsblatt 4:\n",
    "- *schläft*\n",
    "- *gefällt*\n",
    "- *kennt*"
   ]
  },
  {
   "cell_type": "markdown",
   "metadata": {},
   "source": [
    "#### Verwenden Sie dazu die folgende Analyse-Funktion und sammeln Sie die Sätze, die als grammatisch erkannt werden sollten, in einer Liste."
   ]
  },
  {
   "cell_type": "code",
   "execution_count": 16,
   "metadata": {},
   "outputs": [],
   "source": [
    "def test_dep_grammar(grammar, sentences):\n",
    "    depgr = nltk.DependencyGrammar.fromstring(grammar)\n",
    "    parser = nltk.ProjectiveDependencyParser(depgr)\n",
    "    \n",
    "    for i, sent in enumerate(sentences, 1):\n",
    "        print(\"Satz {}: {}\".format(i, sent))\n",
    "        results = parser.parse(sent.split())\n",
    "        analyzed = False\n",
    "        for tree in results:\n",
    "            tree.pretty_print(unicodelines=True)\n",
    "            analyzed = True\n",
    "        if not analyzed:\n",
    "            print(\"Keine Analyse möglich\", file=sys.stderr)"
   ]
  },
  {
   "cell_type": "code",
   "execution_count": 31,
   "metadata": {},
   "outputs": [],
   "source": [
    "grammar1 = \"\"\"\n",
    "'gibt' -> 'Mann' | 'Frau' | 'Buch'\n",
    "'schenkt' -> 'Mann' | 'Frau' | 'Buch'\n",
    "'schläft' -> 'Mann' | 'Buch'\n",
    "'gefällt' -> 'Frau' | 'Buch' \n",
    "'kennt' -> 'Frau' | 'Buch' \n",
    "'Mann' -> 'der'\n",
    "'Frau' -> 'der' | 'die'\n",
    "'Buch' -> 'das'\n",
    "\"\"\""
   ]
  },
  {
   "cell_type": "code",
   "execution_count": 28,
   "metadata": {},
   "outputs": [],
   "source": [
    "test_sentences = [\n",
    "    \"der Mann gibt der Frau das Buch\",\n",
    "    \"der Mann schläft\",\n",
    "    \"das Buch gefällt der Frau\",\n",
    "    \"die Frau kennt das Buch\"    \n",
    "]"
   ]
  },
  {
   "cell_type": "code",
   "execution_count": 32,
   "metadata": {},
   "outputs": [
    {
     "name": "stdout",
     "output_type": "stream",
     "text": [
      "Satz 1: der Mann schläft das Buch\n",
      "     schläft     \n",
      " ┌──────┴─────┐   \n",
      "Mann         Buch\n",
      " │            │   \n",
      "der          das \n",
      "\n"
     ]
    }
   ],
   "source": [
    "other_sents = [\n",
    "    \"der Mann schläft das Buch\"\n",
    "]\n",
    "test_dep_grammar(grammar1,other_sents)"
   ]
  },
  {
   "cell_type": "code",
   "execution_count": 29,
   "metadata": {},
   "outputs": [
    {
     "name": "stdout",
     "output_type": "stream",
     "text": [
      "Satz 1: der Mann gibt der Frau das Buch\n",
      "     gibt     \n",
      " ┌────┼────┐   \n",
      "Mann Frau Buch\n",
      " │    │    │   \n",
      "der  der  das \n",
      "\n",
      "Satz 2: der Mann schläft\n",
      "schläft\n",
      "   │    \n",
      "  Mann \n",
      "   │    \n",
      "  der  \n",
      "\n",
      "Satz 3: das Buch gefällt der Frau\n",
      "     gefällt     \n",
      " ┌──────┴─────┐   \n",
      "Buch         Frau\n",
      " │            │   \n",
      "das          der \n",
      "\n",
      "Satz 4: die Frau kennt das Buch\n",
      "     kennt     \n",
      " ┌─────┴────┐   \n",
      "Frau       Buch\n",
      " │          │   \n",
      "die        das \n",
      "\n"
     ]
    }
   ],
   "source": [
    "test_dep_grammar(grammar1,test_sentences)"
   ]
  },
  {
   "cell_type": "markdown",
   "metadata": {},
   "source": [
    "---\n",
    "#### Erweitern Sie die Grammatik nun um die Adjektive aus Aufgabe 3 von Übungsblatt 4:\n",
    "- *kluge*\n",
    "- *schöne*\n",
    "- *dicke*"
   ]
  },
  {
   "cell_type": "code",
   "execution_count": 24,
   "metadata": {},
   "outputs": [],
   "source": [
    "grammar2 = \"\"\"\n",
    "'gibt' -> 'Mann' | 'Frau' | 'Buch'\n",
    "'schenkt' -> 'Mann' | 'Frau' | 'Buch'\n",
    "'schläft' -> 'Mann' | 'Buch'\n",
    "'gefällt' -> 'Frau' | 'Buch' \n",
    "'kennt' -> 'Frau' | 'Buch' \n",
    "'Mann' -> 'der'\n",
    "'Frau' -> 'der' | 'die'\n",
    "'Buch' -> 'das'\n",
    "\n",
    "'Frau' -> 'kluge' | 'schöne' | 'dicke'\n",
    "'Mann' -> 'kluge' | 'schöne' | 'dicke'\n",
    "'Buch' -> 'kluge' | 'schöne' | 'dicke'\n",
    "\n",
    "\"\"\""
   ]
  },
  {
   "cell_type": "code",
   "execution_count": 30,
   "metadata": {},
   "outputs": [],
   "source": [
    "test_sentences.extend([\n",
    "    \"die kluge schöne Frau kennt das Buch\",\n",
    "    \"der schöne kluge Mann gibt der Frau das dicke Buch\",\n",
    "    \"das dicke schöne kluge Buch schläft\"\n",
    "])"
   ]
  },
  {
   "cell_type": "code",
   "execution_count": 25,
   "metadata": {},
   "outputs": [
    {
     "name": "stdout",
     "output_type": "stream",
     "text": [
      "Satz 1: der Mann gibt der Frau das Buch\n",
      "     gibt     \n",
      " ┌────┼────┐   \n",
      "Mann Frau Buch\n",
      " │    │    │   \n",
      "der  der  das \n",
      "\n",
      "Satz 2: der Mann schläft\n",
      "schläft\n",
      "   │    \n",
      "  Mann \n",
      "   │    \n",
      "  der  \n",
      "\n",
      "Satz 3: das Buch gefällt der Frau\n",
      "     gefällt     \n",
      " ┌──────┴─────┐   \n",
      "Buch         Frau\n",
      " │            │   \n",
      "das          der \n",
      "\n",
      "Satz 4: die Frau kennt das Buch\n",
      "     kennt     \n",
      " ┌─────┴────┐   \n",
      "Frau       Buch\n",
      " │          │   \n",
      "die        das \n",
      "\n",
      "Satz 5: die kluge schöne Frau kennt das Buch\n",
      "          kennt            \n",
      "      ┌─────┴───────────┐   \n",
      "     Frau              Buch\n",
      " ┌────┼───────────┐     │   \n",
      "die kluge       schöne das \n",
      "\n",
      "Satz 6: der schöne kluge Mann gibt der Frau das dicke Buch\n",
      "            gibt                    \n",
      "      ┌──────┴────┬────────┐         \n",
      "     Mann        Frau     Buch      \n",
      " ┌────┼──────┐    │    ┌───┴─────┐   \n",
      "der schöne kluge der  das      dicke\n",
      "\n",
      "Satz 7: das dicke schöne kluge Buch schläft\n",
      "    schläft             \n",
      "       │                 \n",
      "      Buch              \n",
      " ┌─────┼──────┬──────┐   \n",
      "das  dicke  schöne kluge\n",
      "\n"
     ]
    }
   ],
   "source": [
    "test_dep_grammar(grammar2,test_sentences)"
   ]
  },
  {
   "cell_type": "markdown",
   "metadata": {},
   "source": [
    "---\n",
    "## Aufgabe 3: Manuelle Dependenzanalyse\n",
    "\n",
    "#### Stellen Sie folgenden Satz im Dependenzmodell dar:\n",
    "- Die neue Kollegin fährt mit der S-Bahn zu ihrem neuen Arbeitsplatz.\n",
    "\n",
    "#### (a) Ergänzen Sie dafür zunächst den Konstituentenbaum mit Angabe der perkolierten (hochgereichten) Köpfe\n",
    "\n",
    "(`head(S) = head(VP)`)\n",
    "\n",
    "(verwendete Regeln für Baum:\n",
    "`S=NP+VP`, `NP=DET+(ADJ)+N`, `PP=P+NP`, `VP=V+(PP)*`)"
   ]
  },
  {
   "cell_type": "code",
   "execution_count": null,
   "metadata": {},
   "outputs": [],
   "source": [
    "from nltk import Tree"
   ]
  },
  {
   "cell_type": "code",
   "execution_count": 33,
   "metadata": {},
   "outputs": [
    {
     "name": "stdout",
     "output_type": "stream",
     "text": [
      "                                     S (fährt)                                                                \n",
      "          ┌──────────────────────────────┴─────────────────────┐                                               \n",
      "          │                                                VP (fährt)                                         \n",
      "          │                  ┌───────────┬─────────────────────┴───────────────────┐                           \n",
      "          │                  │        PP (mit)                                  PP (zu)                       \n",
      "          │                  │    ┌──────┴──────────┐                  ┌───────────┴────────────┐              \n",
      "    NP (Kollegin)            │    │            NP (S-Bahn)             │                NP (Arbeitsplatz)     \n",
      " ┌────────┼──────────┐       │    │      ┌──────────┴──────────┐       │    ┌───────────────────┼──────────┐   \n",
      "DET      ADJ         N       V    P     DET                    N       P   DET                 ADJ         N  \n",
      " │        │          │       │    │      │                     │       │    │                   │          │   \n",
      "Die      neue     Kollegin fährt mit    der                  S-Bahn    zu ihrem               neuen       Arb.\n",
      "\n"
     ]
    }
   ],
   "source": [
    "np1 = Tree(\n",
    "    'NP (Kollegin)',\n",
    "    [Tree('DET', ['Die']), Tree('ADJ', ['neue']), Tree('N', ['Kollegin'])]\n",
    ")\n",
    "vp = Tree(\n",
    "    'VP (fährt)',\n",
    "    [\n",
    "        Tree('V', ['fährt']),\n",
    "        Tree('PP (mit)', [\n",
    "            Tree('P', ['mit']),\n",
    "            Tree('NP (S-Bahn)', [\n",
    "                Tree('DET', ['der']),\n",
    "                Tree('N', ['S-Bahn'])\n",
    "            ])\n",
    "        ]),\n",
    "        Tree('PP (zu)', [\n",
    "            Tree('P', ['zu']),\n",
    "            Tree('NP (Arbeitsplatz)', [\n",
    "                Tree('DET', ['ihrem']),\n",
    "                Tree('ADJ', ['neuen']),\n",
    "                Tree('N', ['Arb.'])\n",
    "            ])\n",
    "        ])\n",
    "    ]\n",
    ")\n",
    "s = Tree(\n",
    "    'S (fährt)',\n",
    "    [np1, vp]\n",
    ")\n",
    "s.pretty_print(unicodelines=True)"
   ]
  },
  {
   "cell_type": "markdown",
   "metadata": {},
   "source": [
    "#### (b) Fertigen Sie nun eine Tabelle an, in der Sie zu jedem Kopfwort seine Dependenten notieren. Für jede Gruppe unmittelbarer Konstituenten einer Phrase (Ko-Konstituenten) gilt dabei, dass die nicht-hochgereichten Köpfe die Dependenten des hochgereichten Kopfes sind (Nicht-Köpfe in der Phrase sind abhängig vom Kopf der Phrase).\n",
    "\n",
    "\n",
    "\n",
    "|Kopf|Dependenten|\n",
    "|----|-----------|\n",
    "|fährt| Kollegin, mit, zu|\n",
    "|Kollegin| Die, neue|\n",
    "|mit| S-Bahn|\n",
    "|zu| Arbeitsplatz |\n",
    "|Arbeitsplatz| ihrem, neuen|\n",
    "|S-Bahn|der|"
   ]
  },
  {
   "cell_type": "markdown",
   "metadata": {},
   "source": [
    "#### (c) Konvertieren Sie Ihre Tabelle nun in einen Dependenzbaum (Stemma)."
   ]
  },
  {
   "cell_type": "code",
   "execution_count": 34,
   "metadata": {},
   "outputs": [
    {
     "name": "stdout",
     "output_type": "stream",
     "text": [
      "                  fährt                          \n",
      "        ____________|_______________              \n",
      "       |           mit              zu           \n",
      "       |            |               |             \n",
      "    Kollegin      S-Bahn       Arbeitsplatz      \n",
      "  _____|______      |       ________|_________    \n",
      "die          neue  der   ihrem              neuen\n",
      "\n"
     ]
    }
   ],
   "source": [
    "dep_tree = Tree(\n",
    "    \"fährt\",\n",
    "    [\n",
    "        Tree(\"Kollegin\", [\"die\",\"neue\"]),\n",
    "        Tree(\"mit\", [Tree(\"S-Bahn\", ['der'])]),\n",
    "        Tree(\"zu\", [Tree(\"Arbeitsplatz\", [\"ihrem\", \"neuen\"])])\n",
    "    ]\n",
    ")\n",
    "\n",
    "dep_tree.pretty_print()"
   ]
  },
  {
   "cell_type": "markdown",
   "metadata": {},
   "source": [
    "#### (d) Versehen Sie den Dependenzbaum mit den Labeln des Universal-Dependency-Tagsets: http://universaldependencies.org/u/dep/ (+ `prep` für Präposition als direkter Dependent zum Verb und `pcomp` als dessen Dependent)\n",
    "\n",
    "#### Zeichnen Sie den entsprechenden Dependenzbaum (im MALT/CONLL-Format):\n"
   ]
  },
  {
   "cell_type": "code",
   "execution_count": 36,
   "metadata": {},
   "outputs": [
    {
     "name": "stdout",
     "output_type": "stream",
     "text": [
      "                                     fährt(ROOT)                                      \n",
      "                ┌─────────────────────────┼────────────────────────┐                   \n",
      "                │                     mit(PREP)                 zu(PREP)              \n",
      "                │                         │                        │                   \n",
      "         Kollegin(nsubj)            S-Bahn(PCOMP)            Arbeitsplatz(            \n",
      "                │                         │                      PCOMP)               \n",
      "   ┌────────────┴────────────┐            │           ┌────────────┴────────────┐      \n",
      "Die(det)                 neue(amod)    der(det)   ihrem(det)               neuen(amod)\n",
      "\n"
     ]
    },
    {
     "data": {
      "text/html": [
       "<span class=\"tex2jax_ignore\"><svg xmlns=\"http://www.w3.org/2000/svg\" xmlns:xlink=\"http://www.w3.org/1999/xlink\" xml:lang=\"en\" id=\"f999e455d7064d7a9bea501d25f6a184-0\" class=\"displacy\" width=\"1150\" height=\"337.0\" direction=\"ltr\" style=\"max-width: none; height: 337.0px; color: #000000; background: #ffffff; font-family: Arial; direction: ltr\">\n",
       "<text class=\"displacy-token\" fill=\"currentColor\" text-anchor=\"middle\" y=\"247.0\">\n",
       "    <tspan class=\"displacy-word\" fill=\"currentColor\" x=\"50\">Die</tspan>\n",
       "    <tspan class=\"displacy-tag\" dy=\"2em\" fill=\"currentColor\" x=\"50\"></tspan>\n",
       "</text>\n",
       "\n",
       "<text class=\"displacy-token\" fill=\"currentColor\" text-anchor=\"middle\" y=\"247.0\">\n",
       "    <tspan class=\"displacy-word\" fill=\"currentColor\" x=\"150\">neue</tspan>\n",
       "    <tspan class=\"displacy-tag\" dy=\"2em\" fill=\"currentColor\" x=\"150\"></tspan>\n",
       "</text>\n",
       "\n",
       "<text class=\"displacy-token\" fill=\"currentColor\" text-anchor=\"middle\" y=\"247.0\">\n",
       "    <tspan class=\"displacy-word\" fill=\"currentColor\" x=\"250\">Kollegin</tspan>\n",
       "    <tspan class=\"displacy-tag\" dy=\"2em\" fill=\"currentColor\" x=\"250\"></tspan>\n",
       "</text>\n",
       "\n",
       "<text class=\"displacy-token\" fill=\"currentColor\" text-anchor=\"middle\" y=\"247.0\">\n",
       "    <tspan class=\"displacy-word\" fill=\"currentColor\" x=\"350\">fährt</tspan>\n",
       "    <tspan class=\"displacy-tag\" dy=\"2em\" fill=\"currentColor\" x=\"350\"></tspan>\n",
       "</text>\n",
       "\n",
       "<text class=\"displacy-token\" fill=\"currentColor\" text-anchor=\"middle\" y=\"247.0\">\n",
       "    <tspan class=\"displacy-word\" fill=\"currentColor\" x=\"450\">mit</tspan>\n",
       "    <tspan class=\"displacy-tag\" dy=\"2em\" fill=\"currentColor\" x=\"450\"></tspan>\n",
       "</text>\n",
       "\n",
       "<text class=\"displacy-token\" fill=\"currentColor\" text-anchor=\"middle\" y=\"247.0\">\n",
       "    <tspan class=\"displacy-word\" fill=\"currentColor\" x=\"550\">der</tspan>\n",
       "    <tspan class=\"displacy-tag\" dy=\"2em\" fill=\"currentColor\" x=\"550\"></tspan>\n",
       "</text>\n",
       "\n",
       "<text class=\"displacy-token\" fill=\"currentColor\" text-anchor=\"middle\" y=\"247.0\">\n",
       "    <tspan class=\"displacy-word\" fill=\"currentColor\" x=\"650\">S-Bahn</tspan>\n",
       "    <tspan class=\"displacy-tag\" dy=\"2em\" fill=\"currentColor\" x=\"650\"></tspan>\n",
       "</text>\n",
       "\n",
       "<text class=\"displacy-token\" fill=\"currentColor\" text-anchor=\"middle\" y=\"247.0\">\n",
       "    <tspan class=\"displacy-word\" fill=\"currentColor\" x=\"750\">zu</tspan>\n",
       "    <tspan class=\"displacy-tag\" dy=\"2em\" fill=\"currentColor\" x=\"750\"></tspan>\n",
       "</text>\n",
       "\n",
       "<text class=\"displacy-token\" fill=\"currentColor\" text-anchor=\"middle\" y=\"247.0\">\n",
       "    <tspan class=\"displacy-word\" fill=\"currentColor\" x=\"850\">ihrem</tspan>\n",
       "    <tspan class=\"displacy-tag\" dy=\"2em\" fill=\"currentColor\" x=\"850\"></tspan>\n",
       "</text>\n",
       "\n",
       "<text class=\"displacy-token\" fill=\"currentColor\" text-anchor=\"middle\" y=\"247.0\">\n",
       "    <tspan class=\"displacy-word\" fill=\"currentColor\" x=\"950\">neuen</tspan>\n",
       "    <tspan class=\"displacy-tag\" dy=\"2em\" fill=\"currentColor\" x=\"950\"></tspan>\n",
       "</text>\n",
       "\n",
       "<text class=\"displacy-token\" fill=\"currentColor\" text-anchor=\"middle\" y=\"247.0\">\n",
       "    <tspan class=\"displacy-word\" fill=\"currentColor\" x=\"1050\">Arbeitsplatz</tspan>\n",
       "    <tspan class=\"displacy-tag\" dy=\"2em\" fill=\"currentColor\" x=\"1050\"></tspan>\n",
       "</text>\n",
       "\n",
       "<g class=\"displacy-arrow\">\n",
       "    <path class=\"displacy-arc\" id=\"arrow-f999e455d7064d7a9bea501d25f6a184-0-0\" stroke-width=\"2px\" d=\"M70,202.0 C70,102.0 240.0,102.0 240.0,202.0\" fill=\"none\" stroke=\"currentColor\"/>\n",
       "    <text dy=\"1.25em\" style=\"font-size: 0.8em; letter-spacing: 1px\">\n",
       "        <textPath xlink:href=\"#arrow-f999e455d7064d7a9bea501d25f6a184-0-0\" class=\"displacy-label\" startOffset=\"50%\" side=\"left\" fill=\"currentColor\" text-anchor=\"middle\">det</textPath>\n",
       "    </text>\n",
       "    <path class=\"displacy-arrowhead\" d=\"M70,204.0 L62,192.0 78,192.0\" fill=\"currentColor\"/>\n",
       "</g>\n",
       "\n",
       "<g class=\"displacy-arrow\">\n",
       "    <path class=\"displacy-arc\" id=\"arrow-f999e455d7064d7a9bea501d25f6a184-0-1\" stroke-width=\"2px\" d=\"M170,202.0 C170,152.0 235.0,152.0 235.0,202.0\" fill=\"none\" stroke=\"currentColor\"/>\n",
       "    <text dy=\"1.25em\" style=\"font-size: 0.8em; letter-spacing: 1px\">\n",
       "        <textPath xlink:href=\"#arrow-f999e455d7064d7a9bea501d25f6a184-0-1\" class=\"displacy-label\" startOffset=\"50%\" side=\"left\" fill=\"currentColor\" text-anchor=\"middle\">amod</textPath>\n",
       "    </text>\n",
       "    <path class=\"displacy-arrowhead\" d=\"M170,204.0 L162,192.0 178,192.0\" fill=\"currentColor\"/>\n",
       "</g>\n",
       "\n",
       "<g class=\"displacy-arrow\">\n",
       "    <path class=\"displacy-arc\" id=\"arrow-f999e455d7064d7a9bea501d25f6a184-0-2\" stroke-width=\"2px\" d=\"M270,202.0 C270,152.0 335.0,152.0 335.0,202.0\" fill=\"none\" stroke=\"currentColor\"/>\n",
       "    <text dy=\"1.25em\" style=\"font-size: 0.8em; letter-spacing: 1px\">\n",
       "        <textPath xlink:href=\"#arrow-f999e455d7064d7a9bea501d25f6a184-0-2\" class=\"displacy-label\" startOffset=\"50%\" side=\"left\" fill=\"currentColor\" text-anchor=\"middle\">nsubj</textPath>\n",
       "    </text>\n",
       "    <path class=\"displacy-arrowhead\" d=\"M270,204.0 L262,192.0 278,192.0\" fill=\"currentColor\"/>\n",
       "</g>\n",
       "\n",
       "<g class=\"displacy-arrow\">\n",
       "    <path class=\"displacy-arc\" id=\"arrow-f999e455d7064d7a9bea501d25f6a184-0-3\" stroke-width=\"2px\" d=\"M370,202.0 C370,152.0 435.0,152.0 435.0,202.0\" fill=\"none\" stroke=\"currentColor\"/>\n",
       "    <text dy=\"1.25em\" style=\"font-size: 0.8em; letter-spacing: 1px\">\n",
       "        <textPath xlink:href=\"#arrow-f999e455d7064d7a9bea501d25f6a184-0-3\" class=\"displacy-label\" startOffset=\"50%\" side=\"left\" fill=\"currentColor\" text-anchor=\"middle\">PREP</textPath>\n",
       "    </text>\n",
       "    <path class=\"displacy-arrowhead\" d=\"M435.0,204.0 L443.0,192.0 427.0,192.0\" fill=\"currentColor\"/>\n",
       "</g>\n",
       "\n",
       "<g class=\"displacy-arrow\">\n",
       "    <path class=\"displacy-arc\" id=\"arrow-f999e455d7064d7a9bea501d25f6a184-0-4\" stroke-width=\"2px\" d=\"M570,202.0 C570,152.0 635.0,152.0 635.0,202.0\" fill=\"none\" stroke=\"currentColor\"/>\n",
       "    <text dy=\"1.25em\" style=\"font-size: 0.8em; letter-spacing: 1px\">\n",
       "        <textPath xlink:href=\"#arrow-f999e455d7064d7a9bea501d25f6a184-0-4\" class=\"displacy-label\" startOffset=\"50%\" side=\"left\" fill=\"currentColor\" text-anchor=\"middle\">det</textPath>\n",
       "    </text>\n",
       "    <path class=\"displacy-arrowhead\" d=\"M570,204.0 L562,192.0 578,192.0\" fill=\"currentColor\"/>\n",
       "</g>\n",
       "\n",
       "<g class=\"displacy-arrow\">\n",
       "    <path class=\"displacy-arc\" id=\"arrow-f999e455d7064d7a9bea501d25f6a184-0-5\" stroke-width=\"2px\" d=\"M470,202.0 C470,102.0 640.0,102.0 640.0,202.0\" fill=\"none\" stroke=\"currentColor\"/>\n",
       "    <text dy=\"1.25em\" style=\"font-size: 0.8em; letter-spacing: 1px\">\n",
       "        <textPath xlink:href=\"#arrow-f999e455d7064d7a9bea501d25f6a184-0-5\" class=\"displacy-label\" startOffset=\"50%\" side=\"left\" fill=\"currentColor\" text-anchor=\"middle\">PCOMP</textPath>\n",
       "    </text>\n",
       "    <path class=\"displacy-arrowhead\" d=\"M640.0,204.0 L648.0,192.0 632.0,192.0\" fill=\"currentColor\"/>\n",
       "</g>\n",
       "\n",
       "<g class=\"displacy-arrow\">\n",
       "    <path class=\"displacy-arc\" id=\"arrow-f999e455d7064d7a9bea501d25f6a184-0-6\" stroke-width=\"2px\" d=\"M370,202.0 C370,2.0 750.0,2.0 750.0,202.0\" fill=\"none\" stroke=\"currentColor\"/>\n",
       "    <text dy=\"1.25em\" style=\"font-size: 0.8em; letter-spacing: 1px\">\n",
       "        <textPath xlink:href=\"#arrow-f999e455d7064d7a9bea501d25f6a184-0-6\" class=\"displacy-label\" startOffset=\"50%\" side=\"left\" fill=\"currentColor\" text-anchor=\"middle\">PREP</textPath>\n",
       "    </text>\n",
       "    <path class=\"displacy-arrowhead\" d=\"M750.0,204.0 L758.0,192.0 742.0,192.0\" fill=\"currentColor\"/>\n",
       "</g>\n",
       "\n",
       "<g class=\"displacy-arrow\">\n",
       "    <path class=\"displacy-arc\" id=\"arrow-f999e455d7064d7a9bea501d25f6a184-0-7\" stroke-width=\"2px\" d=\"M870,202.0 C870,102.0 1040.0,102.0 1040.0,202.0\" fill=\"none\" stroke=\"currentColor\"/>\n",
       "    <text dy=\"1.25em\" style=\"font-size: 0.8em; letter-spacing: 1px\">\n",
       "        <textPath xlink:href=\"#arrow-f999e455d7064d7a9bea501d25f6a184-0-7\" class=\"displacy-label\" startOffset=\"50%\" side=\"left\" fill=\"currentColor\" text-anchor=\"middle\">det</textPath>\n",
       "    </text>\n",
       "    <path class=\"displacy-arrowhead\" d=\"M870,204.0 L862,192.0 878,192.0\" fill=\"currentColor\"/>\n",
       "</g>\n",
       "\n",
       "<g class=\"displacy-arrow\">\n",
       "    <path class=\"displacy-arc\" id=\"arrow-f999e455d7064d7a9bea501d25f6a184-0-8\" stroke-width=\"2px\" d=\"M970,202.0 C970,152.0 1035.0,152.0 1035.0,202.0\" fill=\"none\" stroke=\"currentColor\"/>\n",
       "    <text dy=\"1.25em\" style=\"font-size: 0.8em; letter-spacing: 1px\">\n",
       "        <textPath xlink:href=\"#arrow-f999e455d7064d7a9bea501d25f6a184-0-8\" class=\"displacy-label\" startOffset=\"50%\" side=\"left\" fill=\"currentColor\" text-anchor=\"middle\">amod</textPath>\n",
       "    </text>\n",
       "    <path class=\"displacy-arrowhead\" d=\"M970,204.0 L962,192.0 978,192.0\" fill=\"currentColor\"/>\n",
       "</g>\n",
       "\n",
       "<g class=\"displacy-arrow\">\n",
       "    <path class=\"displacy-arc\" id=\"arrow-f999e455d7064d7a9bea501d25f6a184-0-9\" stroke-width=\"2px\" d=\"M770,202.0 C770,52.0 1045.0,52.0 1045.0,202.0\" fill=\"none\" stroke=\"currentColor\"/>\n",
       "    <text dy=\"1.25em\" style=\"font-size: 0.8em; letter-spacing: 1px\">\n",
       "        <textPath xlink:href=\"#arrow-f999e455d7064d7a9bea501d25f6a184-0-9\" class=\"displacy-label\" startOffset=\"50%\" side=\"left\" fill=\"currentColor\" text-anchor=\"middle\">PCOMP</textPath>\n",
       "    </text>\n",
       "    <path class=\"displacy-arrowhead\" d=\"M1045.0,204.0 L1053.0,192.0 1037.0,192.0\" fill=\"currentColor\"/>\n",
       "</g>\n",
       "</svg></span>"
      ],
      "text/plain": [
       "<IPython.core.display.HTML object>"
      ]
     },
     "metadata": {},
     "output_type": "display_data"
    }
   ],
   "source": [
    "sent_nr = \"\"\"\n",
    "1 Die 3 det \n",
    "2 neue 3 amod\n",
    "3 Kollegin 4 nsubj\n",
    "4 fährt 0 ROOT\n",
    "5 mit 4 PREP\n",
    "6 der 7 det\n",
    "7 S-Bahn 5 PCOMP\n",
    "8 zu 4 PREP\n",
    "9 ihrem 11 det\n",
    "10 neuen 11 amod\n",
    "11 Arbeitsplatz 8 PCOMP\n",
    "\"\"\"\n",
    "\n",
    "sent = transform_nr_conll(sent_nr)\n",
    "dg = DependencyGraph(sent)\n",
    "tree_labeled = dg.tree_labeled()\n",
    "tree_labeled.pretty_print(unicodelines=True)\n",
    "\n",
    "ex = displacy_dep_input(sent)\n",
    "html = displacy.render(ex, style=\"dep\", manual=True, options={'distance':100})"
   ]
  },
  {
   "cell_type": "markdown",
   "metadata": {},
   "source": [
    "#### (e) Fertigen Sie einen weiteren Dependenzgraphen für die alternative Analse der Präposition als Kasus-Marker (`case`) an."
   ]
  },
  {
   "cell_type": "code",
   "execution_count": 38,
   "metadata": {},
   "outputs": [
    {
     "name": "stdout",
     "output_type": "stream",
     "text": [
      "                             fährt                       \n",
      "        _______________________|____________              \n",
      "    Kollegin          S-Bahn           Arbeitsplatz      \n",
      "  _____|______      ____|______      _______|_________    \n",
      "die          neue mit         der   zu    ihrem     neuen\n",
      "\n"
     ]
    }
   ],
   "source": [
    "dep_tree = Tree(\n",
    "    \"fährt\",\n",
    "    [\n",
    "        Tree(\"Kollegin\", [\"die\",\"neue\"]),\n",
    "        Tree(\"S-Bahn\", [ 'mit','der']),\n",
    "        Tree(\"Arbeitsplatz\", [\"zu\",\"ihrem\", \"neuen\"])\n",
    "    ]\n",
    ")\n",
    "\n",
    "dep_tree.pretty_print()"
   ]
  },
  {
   "cell_type": "markdown",
   "metadata": {},
   "source": [
    "#### Zeichnen Sie den entsprechenden Dependenzbaum (im MALT/CONLL-Format):\n"
   ]
  },
  {
   "cell_type": "code",
   "execution_count": 40,
   "metadata": {},
   "outputs": [
    {
     "name": "stdout",
     "output_type": "stream",
     "text": [
      "                                                               fährt(ROOT)                                   \n",
      "                ┌────────────────────────────────────┬──────────────┴─────────────────────┐                   \n",
      "         Kollegin(nsubj)                      S-Bahn(NMOD/OBL)                      Arbeitsplatz(            \n",
      "                │                                    │                                NMOD/OBL)              \n",
      "   ┌────────────┴────────────┐          ┌────────────┴──────────────┐         ┌───────────┼────────────┐      \n",
      "Die(det)                 neue(amod) mit(CASE)                    der(det)  zu(CASE)   ihrem(det)  neuen(amod)\n",
      "\n"
     ]
    },
    {
     "data": {
      "text/html": [
       "<span class=\"tex2jax_ignore\"><svg xmlns=\"http://www.w3.org/2000/svg\" xmlns:xlink=\"http://www.w3.org/1999/xlink\" xml:lang=\"en\" id=\"e90112666bff4d278471c8f34f58e2f4-0\" class=\"displacy\" width=\"1150\" height=\"337.0\" direction=\"ltr\" style=\"max-width: none; height: 337.0px; color: #000000; background: #ffffff; font-family: Arial; direction: ltr\">\n",
       "<text class=\"displacy-token\" fill=\"currentColor\" text-anchor=\"middle\" y=\"247.0\">\n",
       "    <tspan class=\"displacy-word\" fill=\"currentColor\" x=\"50\">Die</tspan>\n",
       "    <tspan class=\"displacy-tag\" dy=\"2em\" fill=\"currentColor\" x=\"50\"></tspan>\n",
       "</text>\n",
       "\n",
       "<text class=\"displacy-token\" fill=\"currentColor\" text-anchor=\"middle\" y=\"247.0\">\n",
       "    <tspan class=\"displacy-word\" fill=\"currentColor\" x=\"150\">neue</tspan>\n",
       "    <tspan class=\"displacy-tag\" dy=\"2em\" fill=\"currentColor\" x=\"150\"></tspan>\n",
       "</text>\n",
       "\n",
       "<text class=\"displacy-token\" fill=\"currentColor\" text-anchor=\"middle\" y=\"247.0\">\n",
       "    <tspan class=\"displacy-word\" fill=\"currentColor\" x=\"250\">Kollegin</tspan>\n",
       "    <tspan class=\"displacy-tag\" dy=\"2em\" fill=\"currentColor\" x=\"250\"></tspan>\n",
       "</text>\n",
       "\n",
       "<text class=\"displacy-token\" fill=\"currentColor\" text-anchor=\"middle\" y=\"247.0\">\n",
       "    <tspan class=\"displacy-word\" fill=\"currentColor\" x=\"350\">fährt</tspan>\n",
       "    <tspan class=\"displacy-tag\" dy=\"2em\" fill=\"currentColor\" x=\"350\"></tspan>\n",
       "</text>\n",
       "\n",
       "<text class=\"displacy-token\" fill=\"currentColor\" text-anchor=\"middle\" y=\"247.0\">\n",
       "    <tspan class=\"displacy-word\" fill=\"currentColor\" x=\"450\">mit</tspan>\n",
       "    <tspan class=\"displacy-tag\" dy=\"2em\" fill=\"currentColor\" x=\"450\"></tspan>\n",
       "</text>\n",
       "\n",
       "<text class=\"displacy-token\" fill=\"currentColor\" text-anchor=\"middle\" y=\"247.0\">\n",
       "    <tspan class=\"displacy-word\" fill=\"currentColor\" x=\"550\">der</tspan>\n",
       "    <tspan class=\"displacy-tag\" dy=\"2em\" fill=\"currentColor\" x=\"550\"></tspan>\n",
       "</text>\n",
       "\n",
       "<text class=\"displacy-token\" fill=\"currentColor\" text-anchor=\"middle\" y=\"247.0\">\n",
       "    <tspan class=\"displacy-word\" fill=\"currentColor\" x=\"650\">S-Bahn</tspan>\n",
       "    <tspan class=\"displacy-tag\" dy=\"2em\" fill=\"currentColor\" x=\"650\"></tspan>\n",
       "</text>\n",
       "\n",
       "<text class=\"displacy-token\" fill=\"currentColor\" text-anchor=\"middle\" y=\"247.0\">\n",
       "    <tspan class=\"displacy-word\" fill=\"currentColor\" x=\"750\">zu</tspan>\n",
       "    <tspan class=\"displacy-tag\" dy=\"2em\" fill=\"currentColor\" x=\"750\"></tspan>\n",
       "</text>\n",
       "\n",
       "<text class=\"displacy-token\" fill=\"currentColor\" text-anchor=\"middle\" y=\"247.0\">\n",
       "    <tspan class=\"displacy-word\" fill=\"currentColor\" x=\"850\">ihrem</tspan>\n",
       "    <tspan class=\"displacy-tag\" dy=\"2em\" fill=\"currentColor\" x=\"850\"></tspan>\n",
       "</text>\n",
       "\n",
       "<text class=\"displacy-token\" fill=\"currentColor\" text-anchor=\"middle\" y=\"247.0\">\n",
       "    <tspan class=\"displacy-word\" fill=\"currentColor\" x=\"950\">neuen</tspan>\n",
       "    <tspan class=\"displacy-tag\" dy=\"2em\" fill=\"currentColor\" x=\"950\"></tspan>\n",
       "</text>\n",
       "\n",
       "<text class=\"displacy-token\" fill=\"currentColor\" text-anchor=\"middle\" y=\"247.0\">\n",
       "    <tspan class=\"displacy-word\" fill=\"currentColor\" x=\"1050\">Arbeitsplatz</tspan>\n",
       "    <tspan class=\"displacy-tag\" dy=\"2em\" fill=\"currentColor\" x=\"1050\"></tspan>\n",
       "</text>\n",
       "\n",
       "<g class=\"displacy-arrow\">\n",
       "    <path class=\"displacy-arc\" id=\"arrow-e90112666bff4d278471c8f34f58e2f4-0-0\" stroke-width=\"2px\" d=\"M70,202.0 C70,102.0 240.0,102.0 240.0,202.0\" fill=\"none\" stroke=\"currentColor\"/>\n",
       "    <text dy=\"1.25em\" style=\"font-size: 0.8em; letter-spacing: 1px\">\n",
       "        <textPath xlink:href=\"#arrow-e90112666bff4d278471c8f34f58e2f4-0-0\" class=\"displacy-label\" startOffset=\"50%\" side=\"left\" fill=\"currentColor\" text-anchor=\"middle\">det</textPath>\n",
       "    </text>\n",
       "    <path class=\"displacy-arrowhead\" d=\"M70,204.0 L62,192.0 78,192.0\" fill=\"currentColor\"/>\n",
       "</g>\n",
       "\n",
       "<g class=\"displacy-arrow\">\n",
       "    <path class=\"displacy-arc\" id=\"arrow-e90112666bff4d278471c8f34f58e2f4-0-1\" stroke-width=\"2px\" d=\"M170,202.0 C170,152.0 235.0,152.0 235.0,202.0\" fill=\"none\" stroke=\"currentColor\"/>\n",
       "    <text dy=\"1.25em\" style=\"font-size: 0.8em; letter-spacing: 1px\">\n",
       "        <textPath xlink:href=\"#arrow-e90112666bff4d278471c8f34f58e2f4-0-1\" class=\"displacy-label\" startOffset=\"50%\" side=\"left\" fill=\"currentColor\" text-anchor=\"middle\">amod</textPath>\n",
       "    </text>\n",
       "    <path class=\"displacy-arrowhead\" d=\"M170,204.0 L162,192.0 178,192.0\" fill=\"currentColor\"/>\n",
       "</g>\n",
       "\n",
       "<g class=\"displacy-arrow\">\n",
       "    <path class=\"displacy-arc\" id=\"arrow-e90112666bff4d278471c8f34f58e2f4-0-2\" stroke-width=\"2px\" d=\"M270,202.0 C270,152.0 335.0,152.0 335.0,202.0\" fill=\"none\" stroke=\"currentColor\"/>\n",
       "    <text dy=\"1.25em\" style=\"font-size: 0.8em; letter-spacing: 1px\">\n",
       "        <textPath xlink:href=\"#arrow-e90112666bff4d278471c8f34f58e2f4-0-2\" class=\"displacy-label\" startOffset=\"50%\" side=\"left\" fill=\"currentColor\" text-anchor=\"middle\">nsubj</textPath>\n",
       "    </text>\n",
       "    <path class=\"displacy-arrowhead\" d=\"M270,204.0 L262,192.0 278,192.0\" fill=\"currentColor\"/>\n",
       "</g>\n",
       "\n",
       "<g class=\"displacy-arrow\">\n",
       "    <path class=\"displacy-arc\" id=\"arrow-e90112666bff4d278471c8f34f58e2f4-0-3\" stroke-width=\"2px\" d=\"M470,202.0 C470,102.0 640.0,102.0 640.0,202.0\" fill=\"none\" stroke=\"currentColor\"/>\n",
       "    <text dy=\"1.25em\" style=\"font-size: 0.8em; letter-spacing: 1px\">\n",
       "        <textPath xlink:href=\"#arrow-e90112666bff4d278471c8f34f58e2f4-0-3\" class=\"displacy-label\" startOffset=\"50%\" side=\"left\" fill=\"currentColor\" text-anchor=\"middle\">CASE</textPath>\n",
       "    </text>\n",
       "    <path class=\"displacy-arrowhead\" d=\"M470,204.0 L462,192.0 478,192.0\" fill=\"currentColor\"/>\n",
       "</g>\n",
       "\n",
       "<g class=\"displacy-arrow\">\n",
       "    <path class=\"displacy-arc\" id=\"arrow-e90112666bff4d278471c8f34f58e2f4-0-4\" stroke-width=\"2px\" d=\"M570,202.0 C570,152.0 635.0,152.0 635.0,202.0\" fill=\"none\" stroke=\"currentColor\"/>\n",
       "    <text dy=\"1.25em\" style=\"font-size: 0.8em; letter-spacing: 1px\">\n",
       "        <textPath xlink:href=\"#arrow-e90112666bff4d278471c8f34f58e2f4-0-4\" class=\"displacy-label\" startOffset=\"50%\" side=\"left\" fill=\"currentColor\" text-anchor=\"middle\">det</textPath>\n",
       "    </text>\n",
       "    <path class=\"displacy-arrowhead\" d=\"M570,204.0 L562,192.0 578,192.0\" fill=\"currentColor\"/>\n",
       "</g>\n",
       "\n",
       "<g class=\"displacy-arrow\">\n",
       "    <path class=\"displacy-arc\" id=\"arrow-e90112666bff4d278471c8f34f58e2f4-0-5\" stroke-width=\"2px\" d=\"M370,202.0 C370,52.0 645.0,52.0 645.0,202.0\" fill=\"none\" stroke=\"currentColor\"/>\n",
       "    <text dy=\"1.25em\" style=\"font-size: 0.8em; letter-spacing: 1px\">\n",
       "        <textPath xlink:href=\"#arrow-e90112666bff4d278471c8f34f58e2f4-0-5\" class=\"displacy-label\" startOffset=\"50%\" side=\"left\" fill=\"currentColor\" text-anchor=\"middle\">NMOD/OBL</textPath>\n",
       "    </text>\n",
       "    <path class=\"displacy-arrowhead\" d=\"M645.0,204.0 L653.0,192.0 637.0,192.0\" fill=\"currentColor\"/>\n",
       "</g>\n",
       "\n",
       "<g class=\"displacy-arrow\">\n",
       "    <path class=\"displacy-arc\" id=\"arrow-e90112666bff4d278471c8f34f58e2f4-0-6\" stroke-width=\"2px\" d=\"M770,202.0 C770,52.0 1045.0,52.0 1045.0,202.0\" fill=\"none\" stroke=\"currentColor\"/>\n",
       "    <text dy=\"1.25em\" style=\"font-size: 0.8em; letter-spacing: 1px\">\n",
       "        <textPath xlink:href=\"#arrow-e90112666bff4d278471c8f34f58e2f4-0-6\" class=\"displacy-label\" startOffset=\"50%\" side=\"left\" fill=\"currentColor\" text-anchor=\"middle\">CASE</textPath>\n",
       "    </text>\n",
       "    <path class=\"displacy-arrowhead\" d=\"M770,204.0 L762,192.0 778,192.0\" fill=\"currentColor\"/>\n",
       "</g>\n",
       "\n",
       "<g class=\"displacy-arrow\">\n",
       "    <path class=\"displacy-arc\" id=\"arrow-e90112666bff4d278471c8f34f58e2f4-0-7\" stroke-width=\"2px\" d=\"M870,202.0 C870,102.0 1040.0,102.0 1040.0,202.0\" fill=\"none\" stroke=\"currentColor\"/>\n",
       "    <text dy=\"1.25em\" style=\"font-size: 0.8em; letter-spacing: 1px\">\n",
       "        <textPath xlink:href=\"#arrow-e90112666bff4d278471c8f34f58e2f4-0-7\" class=\"displacy-label\" startOffset=\"50%\" side=\"left\" fill=\"currentColor\" text-anchor=\"middle\">det</textPath>\n",
       "    </text>\n",
       "    <path class=\"displacy-arrowhead\" d=\"M870,204.0 L862,192.0 878,192.0\" fill=\"currentColor\"/>\n",
       "</g>\n",
       "\n",
       "<g class=\"displacy-arrow\">\n",
       "    <path class=\"displacy-arc\" id=\"arrow-e90112666bff4d278471c8f34f58e2f4-0-8\" stroke-width=\"2px\" d=\"M970,202.0 C970,152.0 1035.0,152.0 1035.0,202.0\" fill=\"none\" stroke=\"currentColor\"/>\n",
       "    <text dy=\"1.25em\" style=\"font-size: 0.8em; letter-spacing: 1px\">\n",
       "        <textPath xlink:href=\"#arrow-e90112666bff4d278471c8f34f58e2f4-0-8\" class=\"displacy-label\" startOffset=\"50%\" side=\"left\" fill=\"currentColor\" text-anchor=\"middle\">amod</textPath>\n",
       "    </text>\n",
       "    <path class=\"displacy-arrowhead\" d=\"M970,204.0 L962,192.0 978,192.0\" fill=\"currentColor\"/>\n",
       "</g>\n",
       "\n",
       "<g class=\"displacy-arrow\">\n",
       "    <path class=\"displacy-arc\" id=\"arrow-e90112666bff4d278471c8f34f58e2f4-0-9\" stroke-width=\"2px\" d=\"M370,202.0 C370,2.0 1050.0,2.0 1050.0,202.0\" fill=\"none\" stroke=\"currentColor\"/>\n",
       "    <text dy=\"1.25em\" style=\"font-size: 0.8em; letter-spacing: 1px\">\n",
       "        <textPath xlink:href=\"#arrow-e90112666bff4d278471c8f34f58e2f4-0-9\" class=\"displacy-label\" startOffset=\"50%\" side=\"left\" fill=\"currentColor\" text-anchor=\"middle\">NMOD/OBL</textPath>\n",
       "    </text>\n",
       "    <path class=\"displacy-arrowhead\" d=\"M1050.0,204.0 L1058.0,192.0 1042.0,192.0\" fill=\"currentColor\"/>\n",
       "</g>\n",
       "</svg></span>"
      ],
      "text/plain": [
       "<IPython.core.display.HTML object>"
      ]
     },
     "metadata": {},
     "output_type": "display_data"
    }
   ],
   "source": [
    "sent_nr = \"\"\"\n",
    "1 Die 3 det \n",
    "2 neue 3 amod\n",
    "3 Kollegin 4 nsubj\n",
    "4 fährt 0 ROOT\n",
    "5 mit 7 CASE\n",
    "6 der 7 det\n",
    "7 S-Bahn 4 NMOD/OBL\n",
    "8 zu 11 CASE\n",
    "9 ihrem 11 det\n",
    "10 neuen 11 amod\n",
    "11 Arbeitsplatz 4 NMOD/OBL\n",
    "\"\"\"\n",
    "\n",
    "\n",
    "sent = transform_nr_conll(sent_nr)\n",
    "dg = DependencyGraph(sent)\n",
    "tree_labeled = dg.tree_labeled()\n",
    "tree_labeled.pretty_print(unicodelines=True)   \n",
    "\n",
    "ex = displacy_dep_input(sent)\n",
    "html = displacy.render(ex, style=\"dep\", manual=True, options={'distance':100})"
   ]
  },
  {
   "cell_type": "markdown",
   "metadata": {},
   "source": [
    "#### (f) Welche Konstituenten lassen sich anhand der Struktur des Dependenzbaumes identifizieren?\n",
    "\n",
    "- [Die neue Kollegin]\n",
    "- [mit der S-Bahn]\n",
    "- [zu ihrem neuen Arbeitsplatz]\n",
    "- [Die neue Kollegin fährt mit der S-Bahn zu ihrem neuen Arbeitsplatz]"
   ]
  },
  {
   "cell_type": "markdown",
   "metadata": {},
   "source": [
    "---\n",
    "# Hausaufgaben "
   ]
  },
  {
   "cell_type": "markdown",
   "metadata": {},
   "source": [
    "---\n",
    "## Aufgabe 4: Manuelle Dependenzanalyse"
   ]
  },
  {
   "cell_type": "markdown",
   "metadata": {},
   "source": [
    "#### Stellen Sie folgenden Satz im Dependenzmodell dar:\n",
    "- Ich kenne einen älteren Bruder von zwei sehr lebhaften Mädchen.\n",
    "\n",
    "#### (a) Erstellen Sie dafür zunächst einen Konstituentenbaum mit Angabe der perkolierten (hochgereichten) Köpfe\n",
    "(`head(S) = head(VP)`)\n",
    "\n",
    "(Regeln für Baum:\n",
    "`S=NP+VP`, `NP=DET+(ADJP)+N+(PP)` oder `NP=PRON` oder `NP=NUM+(ADJP)+N`, `PP=P+NP`, `ADJP=(ADV)+ADJ`, `VP=V+NP`)\n",
    "\n",
    "Bestimmen Sie die Köpfe dieses Mal sofort gemäß der Primacy of Content Words (http://universaldependencies.org/u/overview/syntax.html); vgl. Aufgabe 3 (e)"
   ]
  },
  {
   "cell_type": "code",
   "execution_count": null,
   "metadata": {},
   "outputs": [],
   "source": [
    "#TEMPLATE:\n",
    "np1 = Tree(\n",
    "    'NP (KOPF)',\n",
    "    [Tree('PRON', ['Ich'])]\n",
    ")\n",
    "vp = Tree(\n",
    "    'VP (KOPF)',\n",
    "    [Tree('V', ['kenne'])]\n",
    ")\n",
    "s = Tree(\n",
    "    'S',\n",
    "    [np1, vp]\n",
    ")\n",
    "\n",
    "s.pretty_print(unicodelines=True)"
   ]
  },
  {
   "cell_type": "markdown",
   "metadata": {},
   "source": [
    "#### (b) Fertigen Sie nun eine Tabelle an, in der Sie zu jedem Kopfwort seine Dependenten notieren. Für jede Gruppe unmittelbarer Konstituenten einer Phrase (Ko-Konstituenten) gilt dabei, dass die nicht-hochgereichten Köpfe die Dependenten des hochgereichten Kopfes sind (Nicht-Köpfe in der Phrase sind abhängig vom Kopf der Phrase).\n",
    "\n",
    "\n",
    "|Kopf|Dependenten|\n",
    "|----|-----------|\n",
    "\n"
   ]
  },
  {
   "cell_type": "markdown",
   "metadata": {},
   "source": [
    "#### (c) Konvertieren Sie Ihre Tabelle nun in einen Dependenzbaum (Stemma)."
   ]
  },
  {
   "cell_type": "code",
   "execution_count": null,
   "metadata": {},
   "outputs": [],
   "source": [
    "dep_tree = Tree(\n",
    "    \"H\",\n",
    "    [\"H1\", \"H2\", \"...\"]\n",
    ")\n",
    "\n",
    "dep_tree.pretty_print()"
   ]
  },
  {
   "cell_type": "markdown",
   "metadata": {},
   "source": [
    "#### (d) Versehen Sie den Dependenzbaum mit den Labeln des Universal-Dependency-Tagsets: http://universaldependencies.org/u/dep/\n",
    "\n",
    "#### Zeichnen Sie den entsprechenden Dependenzbaum (im MALT/CONLL-Format):"
   ]
  },
  {
   "cell_type": "code",
   "execution_count": null,
   "metadata": {},
   "outputs": [],
   "source": [
    "sent_nr = \"\"\"\n",
    "1 H3 3 rel \n",
    "2 H2 3 rel\n",
    "3 H1 0 ROOT \n",
    "\"\"\"\n",
    "\n",
    "sent = transform_nr_conll(sent_nr)\n",
    "dg = DependencyGraph(sent)\n",
    "tree_labeled = dg.tree_labeled()\n",
    "tree_labeled.pretty_print(unicodelines=True)   \n",
    "\n",
    "ex = displacy_dep_input(sent)\n",
    "html = displacy.render(ex, style=\"dep\", manual=True, options={'distance':100})"
   ]
  }
 ],
 "metadata": {
  "kernelspec": {
   "display_name": "Python 3 (ipykernel)",
   "language": "python",
   "name": "python3"
  },
  "language_info": {
   "codemirror_mode": {
    "name": "ipython",
    "version": 3
   },
   "file_extension": ".py",
   "mimetype": "text/x-python",
   "name": "python",
   "nbconvert_exporter": "python",
   "pygments_lexer": "ipython3",
   "version": "3.9.7"
  },
  "widgets": {
   "application/vnd.jupyter.widget-state+json": {
    "state": {
     "00038f7f52684b16a54362a390c5d9b6": {
      "model_module": "@jupyter-widgets/base",
      "model_module_version": "1.0.0",
      "model_name": "LayoutModel",
      "state": {
       "justify_content": "center"
      }
     },
     "0037133518bc4d3ebeacf7dde2634f73": {
      "model_module": "@jupyter-widgets/controls",
      "model_module_version": "1.2.0",
      "model_name": "ButtonStyleModel",
      "state": {}
     },
     "004b77370fd84fc8964b9f67d39271b9": {
      "model_module": "@jupyter-widgets/controls",
      "model_module_version": "1.2.0",
      "model_name": "CheckboxModel",
      "state": {
       "description": "von",
       "disabled": false,
       "layout": "IPY_MODEL_1b6efb0f43334488828ae4c5848e9cb1",
       "style": "IPY_MODEL_a271f8e3f5b14ea99fa0e7c932a5bd23",
       "value": false
      }
     },
     "00540cda627a4ffe94f3aaee39b39888": {
      "model_module": "@jupyter-widgets/base",
      "model_module_version": "1.0.0",
      "model_name": "LayoutModel",
      "state": {
       "width": "600px"
      }
     },
     "005f9cca2be141ea8f9d0be138519b5f": {
      "model_module": "@jupyter-widgets/controls",
      "model_module_version": "1.2.0",
      "model_name": "ButtonStyleModel",
      "state": {}
     },
     "0066c832115b4382ba89f042cbf9775c": {
      "model_module": "@jupyter-widgets/base",
      "model_module_version": "1.0.0",
      "model_name": "LayoutModel",
      "state": {
       "width": "600px"
      }
     },
     "00742327e8d74121853ef3f130b28095": {
      "model_module": "@jupyter-widgets/controls",
      "model_module_version": "1.2.0",
      "model_name": "HTMLModel",
      "state": {
       "layout": "IPY_MODEL_1485b3559a654312a3ea763fa94d76f4",
       "style": "IPY_MODEL_5a5a0c3e6ef4483180889658a9fbe7d7",
       "value": "<i>Markieren Sie <ins>alle</ins> passenden Antworten: </i>"
      }
     },
     "0074f1513340454baa64d6663e93fcbb": {
      "model_module": "@jupyter-widgets/base",
      "model_module_version": "1.0.0",
      "model_name": "LayoutModel",
      "state": {}
     },
     "007d49a6144a4adab02daadbbdb08121": {
      "model_module": "@jupyter-widgets/controls",
      "model_module_version": "1.2.0",
      "model_name": "DescriptionStyleModel",
      "state": {
       "description_width": "initial"
      }
     },
     "008204a53420492ea7f1f3c37c2f220c": {
      "model_module": "@jupyter-widgets/base",
      "model_module_version": "1.0.0",
      "model_name": "LayoutModel",
      "state": {
       "width": "250px"
      }
     },
     "00a3f18318dd4389bf77150641057097": {
      "model_module": "@jupyter-widgets/controls",
      "model_module_version": "1.2.0",
      "model_name": "HBoxModel",
      "state": {
       "children": [
        "IPY_MODEL_5e9eed9e74d64b8b9e4bc40307b5d656",
        "IPY_MODEL_e868713bc0ed4fa19d88e57d21ed4e13"
       ],
       "layout": "IPY_MODEL_061c9595bed9452493fbde61a5c2ff88"
      }
     },
     "00a5ef16befd4818be37d2ad9351edd8": {
      "model_module": "@jupyter-widgets/controls",
      "model_module_version": "1.2.0",
      "model_name": "DescriptionStyleModel",
      "state": {
       "description_width": ""
      }
     },
     "00a82ba54b994c24b6727a4baa5b5d05": {
      "model_module": "@jupyter-widgets/controls",
      "model_module_version": "1.2.0",
      "model_name": "VBoxModel",
      "state": {
       "children": [
        "IPY_MODEL_fe07e5c0aac542a8b8a56977c1147b48",
        "IPY_MODEL_fe3a9768899642bbbce4b819f3312960",
        "IPY_MODEL_e0e65e547d9f43dcaab7a6f60d82f2de"
       ],
       "layout": "IPY_MODEL_54b878f771c14840a0dc0bb7908c98fd"
      }
     },
     "00ae77dc3577490997b5f16d5e96f846": {
      "model_module": "@jupyter-widgets/base",
      "model_module_version": "1.0.0",
      "model_name": "LayoutModel",
      "state": {
       "justify_content": "center"
      }
     },
     "00c4487fa2204ebbb3cd26924c3f64d5": {
      "model_module": "@jupyter-widgets/controls",
      "model_module_version": "1.2.0",
      "model_name": "CheckboxModel",
      "state": {
       "description": "die",
       "disabled": false,
       "layout": "IPY_MODEL_437373ea98684855af3a534ce5e210aa",
       "style": "IPY_MODEL_8d1bd5a3ab924382beddf4eed5b4d280",
       "value": false
      }
     },
     "00e8039f457d4bc6a7871805813cac60": {
      "model_module": "@jupyter-widgets/controls",
      "model_module_version": "1.2.0",
      "model_name": "ButtonStyleModel",
      "state": {}
     },
     "00ef9a1c2fd34e21b94b66e46248a238": {
      "model_module": "@jupyter-widgets/base",
      "model_module_version": "1.0.0",
      "model_name": "LayoutModel",
      "state": {
       "width": "250px"
      }
     },
     "0118854308cf4ff99b799de04f1ed5e3": {
      "model_module": "@jupyter-widgets/controls",
      "model_module_version": "1.2.0",
      "model_name": "DescriptionStyleModel",
      "state": {
       "description_width": "initial"
      }
     },
     "013a393b5fb647de999d1578ca057745": {
      "model_module": "@jupyter-widgets/controls",
      "model_module_version": "1.2.0",
      "model_name": "DescriptionStyleModel",
      "state": {
       "description_width": ""
      }
     },
     "01506c0b960746b3b18949cc7d5bce66": {
      "model_module": "@jupyter-widgets/base",
      "model_module_version": "1.0.0",
      "model_name": "LayoutModel",
      "state": {
       "width": "600px"
      }
     },
     "015a592330db401fa85ed015a88fa913": {
      "model_module": "@jupyter-widgets/controls",
      "model_module_version": "1.2.0",
      "model_name": "ButtonStyleModel",
      "state": {}
     },
     "021a05ee92ca4ef7bb4abe0a3e34f968": {
      "model_module": "@jupyter-widgets/controls",
      "model_module_version": "1.2.0",
      "model_name": "ButtonStyleModel",
      "state": {}
     },
     "02a2589b8eba4926947ff55ed4f60faf": {
      "model_module": "@jupyter-widgets/controls",
      "model_module_version": "1.2.0",
      "model_name": "VBoxModel",
      "state": {
       "children": [
        "IPY_MODEL_5f09393c9a6e4d379564c84e0e95c352",
        "IPY_MODEL_328cd0c97364466c9356f54a17824ee7",
        "IPY_MODEL_a6ad1ee81b81433eb79a89dbfcdeabbc",
        "IPY_MODEL_bb7b85b01b4d4510b2098cdf5f7921b9",
        "IPY_MODEL_4fee016d80fd46d991a15bf343bd0b04",
        "IPY_MODEL_80e1157a0afc474b86be14d2e4f12d24",
        "IPY_MODEL_ea17b656814e4c27bf5abb2b16c37db0",
        "IPY_MODEL_6df1c4b5b87a4fabbe9330147713f5bd",
        "IPY_MODEL_12d6b7bcc38d4432ae2f6390ecee6aa0",
        "IPY_MODEL_5eaf3a4b776e4df19e2af705beb5ada2"
       ],
       "layout": "IPY_MODEL_459dbc658d2140039d8963f07aafbddb"
      }
     },
     "02c2c4b810ff42918f4bb4873a8fa078": {
      "model_module": "@jupyter-widgets/controls",
      "model_module_version": "1.2.0",
      "model_name": "VBoxModel",
      "state": {
       "children": [
        "IPY_MODEL_a6d1d819f68b4767b4defa006b9ab808",
        "IPY_MODEL_07d6fc8f3f5e4e26a0dedc12ca4a73a1",
        "IPY_MODEL_b6785a2d61fc43a8930f99a4e08ae2ea",
        "IPY_MODEL_3e6aef87beed49558464f59d355974e5",
        "IPY_MODEL_c028253bd6e1483e9f488454b70bb1f1",
        "IPY_MODEL_6475e0126c2146348b97f937830f39b2"
       ],
       "layout": "IPY_MODEL_59fdb7cecee74719b6e95f5614eadf3d"
      }
     },
     "03a3bfbdcc8d4a93989b11cb9c86eb4e": {
      "model_module": "@jupyter-widgets/controls",
      "model_module_version": "1.2.0",
      "model_name": "DescriptionStyleModel",
      "state": {
       "description_width": ""
      }
     },
     "03beaf34298740e0916d3dca7c1fac5a": {
      "model_module": "@jupyter-widgets/controls",
      "model_module_version": "1.2.0",
      "model_name": "HBoxModel",
      "state": {
       "children": [
        "IPY_MODEL_06f161bf20444053a1ee32e64c6c3b71",
        "IPY_MODEL_82a895a7de0c414283edae19f1736168"
       ],
       "layout": "IPY_MODEL_31bd48db75594475bc2cf30b41f8887c"
      }
     },
     "03c4eb0b291b43e580b7e38a40970349": {
      "model_module": "@jupyter-widgets/controls",
      "model_module_version": "1.2.0",
      "model_name": "VBoxModel",
      "state": {
       "children": [
        "IPY_MODEL_21c6806d4f484f69b23c7f5cc89841ff",
        "IPY_MODEL_44c7156d246e4fa19b8a71fa41275803",
        "IPY_MODEL_97f39c2896904fa896b563bc2410983b",
        "IPY_MODEL_8732202a14364ab68d823d57abbad8ca",
        "IPY_MODEL_25abe203b1104589b72e7dbb2831bc88",
        "IPY_MODEL_30d9054da69d4d7089436d7693a585ae",
        "IPY_MODEL_b75add4948df4697afbf609e5b4d5e5a",
        "IPY_MODEL_048fd545cb744ae6a0c73f84fa00f31a",
        "IPY_MODEL_733c9433551d48cfa0edcc2ebc2faf06",
        "IPY_MODEL_87eb72983f3a4d09bd2815ed08c969bd"
       ],
       "layout": "IPY_MODEL_57e0fb694a3445b4a843a984c7aaab9e"
      }
     },
     "03f562105e8d4db9ae13bd686aa0f96e": {
      "model_module": "@jupyter-widgets/controls",
      "model_module_version": "1.2.0",
      "model_name": "ButtonModel",
      "state": {
       "description": "prep",
       "layout": "IPY_MODEL_83a247983bd54bb69f5d0ea49b87648e",
       "style": "IPY_MODEL_8647504e33bb4133b33c96ba273a7855"
      }
     },
     "042f6804d4af4b5097c61db4302b714e": {
      "model_module": "@jupyter-widgets/controls",
      "model_module_version": "1.2.0",
      "model_name": "ButtonModel",
      "state": {
       "description": "advmod",
       "layout": "IPY_MODEL_cc4c626af29e4c34970f1a1c9a346bde",
       "style": "IPY_MODEL_005f9cca2be141ea8f9d0be138519b5f"
      }
     },
     "043e9b2822f5404eb132a60bbc7ba85d": {
      "model_module": "@jupyter-widgets/controls",
      "model_module_version": "1.2.0",
      "model_name": "CheckboxModel",
      "state": {
       "description": "die",
       "disabled": false,
       "layout": "IPY_MODEL_7b8a815634c54cb19a3cff1a5d686486",
       "style": "IPY_MODEL_143e919e3411482286d52c46be2bd3e6",
       "value": false
      }
     },
     "0474fe0cc1b34b6e980869b21b9ed8ef": {
      "model_module": "@jupyter-widgets/base",
      "model_module_version": "1.0.0",
      "model_name": "LayoutModel",
      "state": {}
     },
     "048fd545cb744ae6a0c73f84fa00f31a": {
      "model_module": "@jupyter-widgets/controls",
      "model_module_version": "1.2.0",
      "model_name": "CheckboxModel",
      "state": {
       "description": "ihrem",
       "disabled": false,
       "layout": "IPY_MODEL_840c68eec40d4a8c9b2a54f8e4cd7f0b",
       "style": "IPY_MODEL_4903c0709b984f6bbd9a10339e136963",
       "value": false
      }
     },
     "04e5667ba36f4c2a90b810759d47b865": {
      "model_module": "@jupyter-widgets/controls",
      "model_module_version": "1.2.0",
      "model_name": "ButtonModel",
      "state": {
       "description": "advmod",
       "layout": "IPY_MODEL_a6ff0c88f09d46d39563522aee4ab330",
       "style": "IPY_MODEL_2b8d39d783bb49139a0642843dc1d710"
      }
     },
     "0561e6cf3d334b30a9b5d8e892305991": {
      "model_module": "@jupyter-widgets/controls",
      "model_module_version": "1.2.0",
      "model_name": "VBoxModel",
      "state": {
       "children": [
        "IPY_MODEL_c3137e98813640db926fc5809cff113d",
        "IPY_MODEL_c0f3626ecfb74067b71e3bb61c4be060",
        "IPY_MODEL_80c70c23f9e047f0955d373d981e7bd5",
        "IPY_MODEL_cb2143ebb5af4971a53cbecf1c17e341",
        "IPY_MODEL_dedcc704a51a44a99089c31a1f78b93e",
        "IPY_MODEL_a5e78e823b654c21b6d1d7bea5eff2ef"
       ],
       "layout": "IPY_MODEL_dd78d955513e462f80b3bebdaad5ec1e"
      }
     },
     "05862e87cdd8427ea2e5d542ffd75d96": {
      "model_module": "@jupyter-widgets/base",
      "model_module_version": "1.0.0",
      "model_name": "LayoutModel",
      "state": {
       "width": "250px"
      }
     },
     "05adf231484d4b4e94a27dcb5204a0d9": {
      "model_module": "@jupyter-widgets/controls",
      "model_module_version": "1.2.0",
      "model_name": "DescriptionStyleModel",
      "state": {
       "description_width": "initial"
      }
     },
     "05dd181eb150407d9e71af921de57789": {
      "model_module": "@jupyter-widgets/base",
      "model_module_version": "1.0.0",
      "model_name": "LayoutModel",
      "state": {
       "width": "600px"
      }
     },
     "061aae67dd6f42d798b08ba42ec34a21": {
      "model_module": "@jupyter-widgets/controls",
      "model_module_version": "1.2.0",
      "model_name": "HTMLModel",
      "state": {
       "layout": "IPY_MODEL_f52b259d04544e7a82b90f699616f290",
       "style": "IPY_MODEL_8f8d115e15be422f975e6dfa1d3da90b",
       "value": "<h4 style=\"font-size:14px;\">Laut Weglassbarkeitstest ist die Entscheidung \"weglassbar\" gleichbedeutend damit, dass es sich um eine</h4>"
      }
     },
     "061c9595bed9452493fbde61a5c2ff88": {
      "model_module": "@jupyter-widgets/base",
      "model_module_version": "1.0.0",
      "model_name": "LayoutModel",
      "state": {}
     },
     "0644d9868d1e42c0835a5665ae8d1c1f": {
      "model_module": "@jupyter-widgets/base",
      "model_module_version": "1.0.0",
      "model_name": "LayoutModel",
      "state": {
       "width": "250px"
      }
     },
     "0656e6bd175349afb941b1f3becd6af5": {
      "model_module": "@jupyter-widgets/controls",
      "model_module_version": "1.2.0",
      "model_name": "ButtonStyleModel",
      "state": {}
     },
     "06931c2c9f954aaa91b397096f9f0c29": {
      "model_module": "@jupyter-widgets/controls",
      "model_module_version": "1.2.0",
      "model_name": "ButtonStyleModel",
      "state": {}
     },
     "069b6446d4b94f2ca1520c02ce3b3d90": {
      "model_module": "@jupyter-widgets/base",
      "model_module_version": "1.0.0",
      "model_name": "LayoutModel",
      "state": {
       "width": "250px"
      }
     },
     "06e285cde1c74003a1e6613212e0a222": {
      "model_module": "@jupyter-widgets/controls",
      "model_module_version": "1.2.0",
      "model_name": "CheckboxModel",
      "state": {
       "description": "Adverbialsatz-Test",
       "disabled": false,
       "layout": "IPY_MODEL_3965aa29b5b94b9c9b4a6c31eb163ffc",
       "style": "IPY_MODEL_a2db6dd4e0454da6b8251ae882b26f2d",
       "value": false
      }
     },
     "06ede4efe4ff41e1b285c4b54332c40f": {
      "model_module": "@jupyter-widgets/controls",
      "model_module_version": "1.2.0",
      "model_name": "ButtonStyleModel",
      "state": {}
     },
     "06f161bf20444053a1ee32e64c6c3b71": {
      "model_module": "@jupyter-widgets/controls",
      "model_module_version": "1.2.0",
      "model_name": "ButtonModel",
      "state": {
       "description": "Keine",
       "layout": "IPY_MODEL_1c74c9001eb842d8a530c27ec09bb4bc",
       "style": "IPY_MODEL_9134087a81b547308af40f1cfce56778"
      }
     },
     "073122d2e8a04c4d9f9f766018a5c205": {
      "model_module": "@jupyter-widgets/controls",
      "model_module_version": "1.2.0",
      "model_name": "CheckboxModel",
      "state": {
       "description": "fährt",
       "disabled": false,
       "layout": "IPY_MODEL_6adbad5893a04890a9014fb03402d9e1",
       "style": "IPY_MODEL_0118854308cf4ff99b799de04f1ed5e3",
       "value": false
      }
     },
     "0735a48b97b24191a5d8bf746c429a2d": {
      "model_module": "@jupyter-widgets/controls",
      "model_module_version": "1.2.0",
      "model_name": "HTMLModel",
      "state": {
       "layout": "IPY_MODEL_814f70193e2648f6b5ed01e7f5880bf2",
       "style": "IPY_MODEL_a1b99ffabdb64627910e3c11ba6e16f1",
       "value": "<i>Wählen Sie die <ins>eine</ins> korrekte Antwort aus: </i>"
      }
     },
     "0780714817a14490b450d21f836c05f9": {
      "model_module": "@jupyter-widgets/base",
      "model_module_version": "1.0.0",
      "model_name": "LayoutModel",
      "state": {}
     },
     "07b3e1f4b4644c28b6c547f77f665bf2": {
      "model_module": "@jupyter-widgets/controls",
      "model_module_version": "1.2.0",
      "model_name": "CheckboxModel",
      "state": {
       "description": "Weglassbarkeitstest",
       "disabled": false,
       "layout": "IPY_MODEL_0aa9c2b684b1463b86487dc802741c55",
       "style": "IPY_MODEL_ba4b7cd29f884cee9f55a4c8102293ce",
       "value": false
      }
     },
     "07d6fc8f3f5e4e26a0dedc12ca4a73a1": {
      "model_module": "@jupyter-widgets/controls",
      "model_module_version": "1.2.0",
      "model_name": "HTMLModel",
      "state": {
       "layout": "IPY_MODEL_9c20a10f0e7944f38c003eb8212e962e",
       "style": "IPY_MODEL_fb84c43826ae4a489cdaa6bc569c936f",
       "value": "<i>Wählen Sie die <ins>eine</ins> korrekte Antwort aus: </i>"
      }
     },
     "07eded88f12b40d3853ccf4bd349636f": {
      "model_module": "@jupyter-widgets/controls",
      "model_module_version": "1.2.0",
      "model_name": "ButtonStyleModel",
      "state": {}
     },
     "07ee66ed030c46e2a2d5e17f6d54ecd6": {
      "model_module": "@jupyter-widgets/base",
      "model_module_version": "1.0.0",
      "model_name": "LayoutModel",
      "state": {
       "width": "250px"
      }
     },
     "07efd98e37ea439c97ed2399fa319670": {
      "model_module": "@jupyter-widgets/controls",
      "model_module_version": "1.2.0",
      "model_name": "CheckboxModel",
      "state": {
       "description": "zwei",
       "disabled": false,
       "layout": "IPY_MODEL_2ce7ae065ae44a63baf60f815bf3307a",
       "style": "IPY_MODEL_56ff93d6f78f4dd3bac83c7680315d71",
       "value": false
      }
     },
     "07f32d2ff6d24c4aa0644543ea085967": {
      "model_module": "@jupyter-widgets/base",
      "model_module_version": "1.0.0",
      "model_name": "LayoutModel",
      "state": {
       "width": "250px"
      }
     },
     "08240784d68546c493e4224c8d010592": {
      "model_module": "@jupyter-widgets/controls",
      "model_module_version": "1.2.0",
      "model_name": "BoxModel",
      "state": {
       "children": [
        "IPY_MODEL_90934465897b4b6787676199a7ca4d06",
        "IPY_MODEL_9437228b682c496f8ce98e26b5bef0b3",
        "IPY_MODEL_43ca8f157d254c6181811c6cf6933a93",
        "IPY_MODEL_54f31fe6e57b496ea34e17500c4708d8",
        "IPY_MODEL_88b58032c8fa468698d101c736726cc5",
        "IPY_MODEL_ef89d144e00f4cfa9d163a0bea3d660e",
        "IPY_MODEL_b36951ae542c4c44a6c1ce1a53fb07c9",
        "IPY_MODEL_2c44c87798714973a369b1601b0c260d",
        "IPY_MODEL_c4ba139874eb4c8aab56e35ffc877091"
       ],
       "layout": "IPY_MODEL_b04935fb837845f68e1c7346bf93cd0c"
      }
     },
     "082d19648ceb44bcbbccea6dd2fdc020": {
      "model_module": "@jupyter-widgets/controls",
      "model_module_version": "1.2.0",
      "model_name": "DescriptionStyleModel",
      "state": {
       "description_width": "initial"
      }
     },
     "084322b852af4922bf3e8c22939d66b5": {
      "model_module": "@jupyter-widgets/base",
      "model_module_version": "1.0.0",
      "model_name": "LayoutModel",
      "state": {
       "width": "250px"
      }
     },
     "0847b90ae4bb4d4d9273569d82b0955b": {
      "model_module": "@jupyter-widgets/controls",
      "model_module_version": "1.2.0",
      "model_name": "ButtonStyleModel",
      "state": {}
     },
     "08cc0aaae00f4912b0390fba84bb7392": {
      "model_module": "@jupyter-widgets/base",
      "model_module_version": "1.0.0",
      "model_name": "LayoutModel",
      "state": {
       "width": "250px"
      }
     },
     "08eba148f1fe4801ad9ad0a5b23b9eb7": {
      "model_module": "@jupyter-widgets/base",
      "model_module_version": "1.0.0",
      "model_name": "LayoutModel",
      "state": {}
     },
     "091cd6c571674d7c8d37a12c37434fa6": {
      "model_module": "@jupyter-widgets/controls",
      "model_module_version": "1.2.0",
      "model_name": "DescriptionStyleModel",
      "state": {
       "description_width": ""
      }
     },
     "0940d5c167ba451c8631ca374bf71168": {
      "model_module": "@jupyter-widgets/controls",
      "model_module_version": "1.2.0",
      "model_name": "ButtonStyleModel",
      "state": {}
     },
     "09e4dbf207394c56a6fab49041cbd057": {
      "model_module": "@jupyter-widgets/controls",
      "model_module_version": "1.2.0",
      "model_name": "DescriptionStyleModel",
      "state": {
       "description_width": "initial"
      }
     },
     "09efc388547543608233a9717236281b": {
      "model_module": "@jupyter-widgets/base",
      "model_module_version": "1.0.0",
      "model_name": "LayoutModel",
      "state": {
       "width": "250px"
      }
     },
     "0a02418fb4524a70a792cd8bdc8726c6": {
      "model_module": "@jupyter-widgets/controls",
      "model_module_version": "1.2.0",
      "model_name": "CheckboxModel",
      "state": {
       "description": "zwei",
       "disabled": false,
       "layout": "IPY_MODEL_763248637b1643c98d0636d9080a7bf0",
       "style": "IPY_MODEL_2c58896b56e94a5ea9ad726abd2d8bbd",
       "value": false
      }
     },
     "0a10dce978644e209a11352fbb009a7c": {
      "model_module": "@jupyter-widgets/base",
      "model_module_version": "1.0.0",
      "model_name": "LayoutModel",
      "state": {}
     },
     "0a692301f6ee47d0abb244affc17d636": {
      "model_module": "@jupyter-widgets/base",
      "model_module_version": "1.0.0",
      "model_name": "LayoutModel",
      "state": {
       "width": "250px"
      }
     },
     "0a825a87d3344512818f5d786a4a9713": {
      "model_module": "@jupyter-widgets/controls",
      "model_module_version": "1.2.0",
      "model_name": "HTMLModel",
      "state": {
       "layout": "IPY_MODEL_6be81bdaee8a4b73abfd3c96646925e9",
       "style": "IPY_MODEL_bfc5382434f34faf82a292e55c4e0b06",
       "value": "<h4 style=\"font-size:14px;\">Markieren Sie alle direkten Dependenten des Wortes <i> S-Bahn </i>.</h4>"
      }
     },
     "0a8a69c5936b42b49a79990ecbf75721": {
      "model_module": "@jupyter-widgets/base",
      "model_module_version": "1.0.0",
      "model_name": "LayoutModel",
      "state": {
       "justify_content": "center"
      }
     },
     "0a910ee576854354bb7d4dc6382815fd": {
      "model_module": "@jupyter-widgets/controls",
      "model_module_version": "1.2.0",
      "model_name": "ButtonModel",
      "state": {
       "description": "det",
       "layout": "IPY_MODEL_d133e5a39ad24291bb3cd7a9f30757d3",
       "style": "IPY_MODEL_6d815a7710ae470bb0e35f7215b78f21"
      }
     },
     "0aa9c2b684b1463b86487dc802741c55": {
      "model_module": "@jupyter-widgets/base",
      "model_module_version": "1.0.0",
      "model_name": "LayoutModel",
      "state": {
       "width": "600px"
      }
     },
     "0ab1db0f660c4092b4bfd6b6a12716d3": {
      "model_module": "@jupyter-widgets/controls",
      "model_module_version": "1.2.0",
      "model_name": "DescriptionStyleModel",
      "state": {
       "description_width": "initial"
      }
     },
     "0aca6c5e47c54920bc5f690ea6dff5db": {
      "model_module": "@jupyter-widgets/controls",
      "model_module_version": "1.2.0",
      "model_name": "HTMLModel",
      "state": {
       "layout": "IPY_MODEL_7699b465480141dea1768616779c7c37",
       "style": "IPY_MODEL_49341bcda6fa4b679ca78f8304e7b1ec",
       "value": "<i>Wählen Sie die <ins>eine</ins> korrekte Antwort aus: </i>"
      }
     },
     "0ad130e4d7454b1b910de5694f5413c4": {
      "model_module": "@jupyter-widgets/base",
      "model_module_version": "1.0.0",
      "model_name": "LayoutModel",
      "state": {}
     },
     "0ad3cf85afa54472aca61c51961d488c": {
      "model_module": "@jupyter-widgets/controls",
      "model_module_version": "1.2.0",
      "model_name": "DescriptionStyleModel",
      "state": {
       "description_width": ""
      }
     },
     "0b4999cf8b0540a9a25d10df92476590": {
      "model_module": "@jupyter-widgets/controls",
      "model_module_version": "1.2.0",
      "model_name": "HBoxModel",
      "state": {
       "children": [
        "IPY_MODEL_c265816f26e7404ba213561f23218762",
        "IPY_MODEL_1034ceff36d54afda6231333383eca38"
       ],
       "layout": "IPY_MODEL_10cb3e38e4e049e289d79c7818c01ce9"
      }
     },
     "0b4f05c35dc248dc8938d90798e6eea5": {
      "model_module": "@jupyter-widgets/base",
      "model_module_version": "1.0.0",
      "model_name": "LayoutModel",
      "state": {
       "justify_content": "center"
      }
     },
     "0b63129fafef4a4fb50215bae084d071": {
      "model_module": "@jupyter-widgets/controls",
      "model_module_version": "1.2.0",
      "model_name": "HTMLModel",
      "state": {
       "layout": "IPY_MODEL_92aaca1bcca84c059e3eafa969c599a4",
       "style": "IPY_MODEL_3e8aea3e19214d6b9afd9ef11fa3433e",
       "value": "<i>Wählen Sie die <ins>eine</ins> korrekte Antwort aus: </i>"
      }
     },
     "0b894049ef6740d08b08c51fd82d7f1d": {
      "model_module": "@jupyter-widgets/controls",
      "model_module_version": "1.2.0",
      "model_name": "CheckboxModel",
      "state": {
       "description": "von",
       "disabled": false,
       "layout": "IPY_MODEL_3525b0a2a5f04b92ae2348961d0e76ac",
       "style": "IPY_MODEL_70443f5be3dc41a4990a31394225f7d0",
       "value": false
      }
     },
     "0bb9a747a072464bb54684f8db442b80": {
      "model_module": "@jupyter-widgets/controls",
      "model_module_version": "1.2.0",
      "model_name": "DescriptionStyleModel",
      "state": {
       "description_width": "initial"
      }
     },
     "0bdf3b80a91e48dfbf056bb575f33865": {
      "model_module": "@jupyter-widgets/controls",
      "model_module_version": "1.2.0",
      "model_name": "HBoxModel",
      "state": {
       "children": [
        "IPY_MODEL_f62fd114c8944232a4a0760882c77399",
        "IPY_MODEL_20925f08832b42d5aea43398b3afc8b9"
       ],
       "layout": "IPY_MODEL_767c9cdc95144f52a7393a7d90471861"
      }
     },
     "0bef1fac90fb4d1293ec6fae5cd58cfd": {
      "model_module": "@jupyter-widgets/base",
      "model_module_version": "1.0.0",
      "model_name": "LayoutModel",
      "state": {}
     },
     "0c0dd0aaf9b441639b30003a13e14f15": {
      "model_module": "@jupyter-widgets/base",
      "model_module_version": "1.0.0",
      "model_name": "LayoutModel",
      "state": {
       "width": "600px"
      }
     },
     "0c117d6c0e5945bcb07b99e6f59df3e6": {
      "model_module": "@jupyter-widgets/base",
      "model_module_version": "1.0.0",
      "model_name": "LayoutModel",
      "state": {
       "width": "250px"
      }
     },
     "0c7cb404a73b4dc3a40c5f0d077c2b96": {
      "model_module": "@jupyter-widgets/controls",
      "model_module_version": "1.2.0",
      "model_name": "DescriptionStyleModel",
      "state": {
       "description_width": ""
      }
     },
     "0c800c4e1c0d4c86b26e057dd7e76391": {
      "model_module": "@jupyter-widgets/base",
      "model_module_version": "1.0.0",
      "model_name": "LayoutModel",
      "state": {
       "width": "600px"
      }
     },
     "0c8e5ec2638d4d378a535ee31ef4eb01": {
      "model_module": "@jupyter-widgets/controls",
      "model_module_version": "1.2.0",
      "model_name": "VBoxModel",
      "state": {
       "children": [
        "IPY_MODEL_845683f84c75462a9195713c8b737a9a",
        "IPY_MODEL_1455eeb7deaa4a039bedfe662af1a3b1",
        "IPY_MODEL_13234e408f0947acb1cc83e0a4d75141",
        "IPY_MODEL_4776461b88034ee7829d72334cc9a95f"
       ],
       "layout": "IPY_MODEL_ff0bf24766864107aa35f623f2fd4bca"
      }
     },
     "0c953547f5e7493cbc6b7380b87e9c4b": {
      "model_module": "@jupyter-widgets/controls",
      "model_module_version": "1.2.0",
      "model_name": "ButtonModel",
      "state": {
       "description": "nmod",
       "layout": "IPY_MODEL_21edff920dfa4c11bb5bb684870c61d5",
       "style": "IPY_MODEL_b08164101a814c0caea009bf50dfc11d"
      }
     },
     "0ce71f5500394e25b9de92c8fd42a7be": {
      "model_module": "@jupyter-widgets/controls",
      "model_module_version": "1.2.0",
      "model_name": "DescriptionStyleModel",
      "state": {
       "description_width": "initial"
      }
     },
     "0d69339e38d247f6b7c713876022e3bf": {
      "model_module": "@jupyter-widgets/base",
      "model_module_version": "1.0.0",
      "model_name": "LayoutModel",
      "state": {}
     },
     "0dd1ddbd0f1f4854b5687eb6dc9025ca": {
      "model_module": "@jupyter-widgets/controls",
      "model_module_version": "1.2.0",
      "model_name": "ButtonModel",
      "state": {
       "description": "Keine",
       "layout": "IPY_MODEL_4957775ab9534292bd4ad03564a83837",
       "style": "IPY_MODEL_e446a444919248f8a6b79aee11d27366"
      }
     },
     "0dd97c34fe884e8b8d616b2129c86142": {
      "model_module": "@jupyter-widgets/controls",
      "model_module_version": "1.2.0",
      "model_name": "ButtonStyleModel",
      "state": {}
     },
     "0de7abf18b934fabbde8b2e3f7145481": {
      "model_module": "@jupyter-widgets/controls",
      "model_module_version": "1.2.0",
      "model_name": "DescriptionStyleModel",
      "state": {
       "description_width": "initial"
      }
     },
     "0de9784b91e8468a9a04012265c10675": {
      "model_module": "@jupyter-widgets/controls",
      "model_module_version": "1.2.0",
      "model_name": "CheckboxModel",
      "state": {
       "description": "einen",
       "disabled": false,
       "layout": "IPY_MODEL_65316159de5d4213b6d3a3bf69bf50e5",
       "style": "IPY_MODEL_50ea2a6128e04e3182f6ca25f807cbc9",
       "value": false
      }
     },
     "0e02cbe53d784c979114ce146eafd26d": {
      "model_module": "@jupyter-widgets/controls",
      "model_module_version": "1.2.0",
      "model_name": "DescriptionStyleModel",
      "state": {
       "description_width": "initial"
      }
     },
     "0e0b52f75023479e80ec762ab83b7919": {
      "model_module": "@jupyter-widgets/base",
      "model_module_version": "1.0.0",
      "model_name": "LayoutModel",
      "state": {
       "width": "250px"
      }
     },
     "0e282ce30ad541589510e5d546aa73c6": {
      "model_module": "@jupyter-widgets/controls",
      "model_module_version": "1.2.0",
      "model_name": "ButtonStyleModel",
      "state": {}
     },
     "0e4814d8cbe143ae9ece1b5b75c5c259": {
      "model_module": "@jupyter-widgets/base",
      "model_module_version": "1.0.0",
      "model_name": "LayoutModel",
      "state": {}
     },
     "0e779d6c4dc6489888a4ebb9424b24a6": {
      "model_module": "@jupyter-widgets/controls",
      "model_module_version": "1.2.0",
      "model_name": "ButtonStyleModel",
      "state": {}
     },
     "0ebf0252a02f48e69d0292a8a2f417b5": {
      "model_module": "@jupyter-widgets/controls",
      "model_module_version": "1.2.0",
      "model_name": "ButtonStyleModel",
      "state": {}
     },
     "0ec5f912646b44ba9778b6652884823f": {
      "model_module": "@jupyter-widgets/controls",
      "model_module_version": "1.2.0",
      "model_name": "CheckboxModel",
      "state": {
       "description": "Patienseigenschaften",
       "disabled": false,
       "layout": "IPY_MODEL_ff10ebdf81bd47b5b80f6d1ff532f929",
       "style": "IPY_MODEL_18ce93014cb3405c87260766750b9228",
       "value": false
      }
     },
     "0ed200f1850e4dec9ba75b664d2938ab": {
      "model_module": "@jupyter-widgets/controls",
      "model_module_version": "1.2.0",
      "model_name": "ButtonModel",
      "state": {
       "description": "Korrekt?",
       "layout": "IPY_MODEL_1a9f1b257c2d4442805f99b3f700ba50",
       "style": "IPY_MODEL_9fb0e5b408d64bd6ad7070a93109b1bf"
      }
     },
     "0ed26ffd3927494e88ee110e4ce4f84b": {
      "model_module": "@jupyter-widgets/controls",
      "model_module_version": "1.2.0",
      "model_name": "CheckboxModel",
      "state": {
       "description": "Modellierung eines Subkategorisierungsrahmens über Merkmale im Lexikoneintrag",
       "disabled": false,
       "layout": "IPY_MODEL_7a67a31ca3f84517bc7b240aa686bd0e",
       "style": "IPY_MODEL_09e4dbf207394c56a6fab49041cbd057",
       "value": false
      }
     },
     "0f0a87d0979d4c3e9ca59b3946586751": {
      "model_module": "@jupyter-widgets/controls",
      "model_module_version": "1.2.0",
      "model_name": "HBoxModel",
      "state": {
       "children": [
        "IPY_MODEL_d4d8a048ec9f448f96ef0c83cfdf39aa"
       ],
       "layout": "IPY_MODEL_5d39fa53b45c48c9b9feff90cc337cbd"
      }
     },
     "0f7deb2c3efb41dd8b7ba568f1b22bdc": {
      "model_module": "@jupyter-widgets/base",
      "model_module_version": "1.0.0",
      "model_name": "LayoutModel",
      "state": {
       "width": "250px"
      }
     },
     "0f9bcf6a63004465bb7dad29557e5117": {
      "model_module": "@jupyter-widgets/controls",
      "model_module_version": "1.2.0",
      "model_name": "HTMLModel",
      "state": {
       "layout": "IPY_MODEL_57b3a93d9fc94b55b2caddec559a17ce",
       "style": "IPY_MODEL_e16e548992f44038b3f38665817e4a02",
       "value": "<h4 style=\"font-size:14px;\">Welche Gründe sprechen für eine Klassifizierung als direktes Objekt?</h4>"
      }
     },
     "1017e4e4aa37422c8fc9312d5dec9003": {
      "model_module": "@jupyter-widgets/base",
      "model_module_version": "1.0.0",
      "model_name": "LayoutModel",
      "state": {
       "width": "600px"
      }
     },
     "1034ceff36d54afda6231333383eca38": {
      "model_module": "@jupyter-widgets/controls",
      "model_module_version": "1.2.0",
      "model_name": "ButtonModel",
      "state": {
       "description": "nmod",
       "layout": "IPY_MODEL_bf8aeff6a47c4b448d0e78e2c9356c79",
       "style": "IPY_MODEL_511541d2c3d243f0a87e9d9808ee17e2"
      }
     },
     "103988acc47041c4ae848f05b296a6e3": {
      "model_module": "@jupyter-widgets/controls",
      "model_module_version": "1.2.0",
      "model_name": "HBoxModel",
      "state": {
       "children": [
        "IPY_MODEL_d5333d73996442a8a4f107c143cabb1b",
        "IPY_MODEL_1bdb31a5d3bd42378acce3d0606f6c98"
       ],
       "layout": "IPY_MODEL_e23203a1aa9d4c3ba8d18c987dd76b39"
      }
     },
     "103a0b704a3a4e3cbb9517739dadb647": {
      "model_module": "@jupyter-widgets/base",
      "model_module_version": "1.0.0",
      "model_name": "LayoutModel",
      "state": {}
     },
     "10acc562ef2240598bed64e8335c9cc9": {
      "model_module": "@jupyter-widgets/controls",
      "model_module_version": "1.2.0",
      "model_name": "ButtonStyleModel",
      "state": {}
     },
     "10b06ae12a134d61aa8a4e7e3b1b8768": {
      "model_module": "@jupyter-widgets/base",
      "model_module_version": "1.0.0",
      "model_name": "LayoutModel",
      "state": {
       "width": "600px"
      }
     },
     "10cb3e38e4e049e289d79c7818c01ce9": {
      "model_module": "@jupyter-widgets/base",
      "model_module_version": "1.0.0",
      "model_name": "LayoutModel",
      "state": {}
     },
     "10f6fe1f941d4623bf473b0d697f801d": {
      "model_module": "@jupyter-widgets/base",
      "model_module_version": "1.0.0",
      "model_name": "LayoutModel",
      "state": {
       "width": "600px"
      }
     },
     "113c13cf6108466dab42ec05c3b26e75": {
      "model_module": "@jupyter-widgets/controls",
      "model_module_version": "1.2.0",
      "model_name": "ButtonModel",
      "state": {
       "description": "Ergänzung",
       "layout": "IPY_MODEL_1bf1989bfbf941269d575e7a0321eac6",
       "style": "IPY_MODEL_dd388ff8f69349acb4ee019875cf64d5"
      }
     },
     "117204215fce406d98a7ccf0e309f605": {
      "model_module": "@jupyter-widgets/controls",
      "model_module_version": "1.2.0",
      "model_name": "HBoxModel",
      "state": {
       "children": [
        "IPY_MODEL_b08958469f5b4b399e85cf5ac47f41b6",
        "IPY_MODEL_f2caeb2ddcda4deb83798e8beb6405ba"
       ],
       "layout": "IPY_MODEL_43e2e10d6477483da2a256a6d538a887"
      }
     },
     "118559c6f98040c0a6211179ad626eff": {
      "model_module": "@jupyter-widgets/base",
      "model_module_version": "1.0.0",
      "model_name": "LayoutModel",
      "state": {
       "justify_content": "center"
      }
     },
     "1192089e2ba840108c6fdcedb926d47c": {
      "model_module": "@jupyter-widgets/controls",
      "model_module_version": "1.2.0",
      "model_name": "ButtonModel",
      "state": {
       "description": "Genitivattribut",
       "layout": "IPY_MODEL_4de173bd6ec649c1aac83a68b1a3a296",
       "style": "IPY_MODEL_0e282ce30ad541589510e5d546aa73c6"
      }
     },
     "119c5b85087a48568253d83a1865cbb7": {
      "model_module": "@jupyter-widgets/controls",
      "model_module_version": "1.2.0",
      "model_name": "CheckboxModel",
      "state": {
       "description": "der",
       "disabled": false,
       "layout": "IPY_MODEL_f8162d76a2a0414cb0b392cf4d2ed002",
       "style": "IPY_MODEL_7532f17f01bd48c28ed1e2645354a16c",
       "value": false
      }
     },
     "11aed9b131d6445f83a955aeac8e5c40": {
      "model_module": "@jupyter-widgets/controls",
      "model_module_version": "1.2.0",
      "model_name": "HTMLModel",
      "state": {
       "layout": "IPY_MODEL_c5e39c5f2e6e4de3881317f62df12d8b",
       "style": "IPY_MODEL_b6153ec49f3f48d983c0c7db9f00c3db",
       "value": "<h4 style=\"font-size:14px;\">dar. </h4>"
      }
     },
     "11b1688de5d34b728b66681cd993e683": {
      "model_module": "@jupyter-widgets/controls",
      "model_module_version": "1.2.0",
      "model_name": "ButtonStyleModel",
      "state": {}
     },
     "11c8abd063ef418ea7ac0fe553024b7b": {
      "model_module": "@jupyter-widgets/controls",
      "model_module_version": "1.2.0",
      "model_name": "DescriptionStyleModel",
      "state": {
       "description_width": "initial"
      }
     },
     "11ee62cf4a4d421a8cb0249a11ebbc18": {
      "model_module": "@jupyter-widgets/controls",
      "model_module_version": "1.2.0",
      "model_name": "ButtonStyleModel",
      "state": {}
     },
     "1267b7235ec7430f9c10145d8b351155": {
      "model_module": "@jupyter-widgets/controls",
      "model_module_version": "1.2.0",
      "model_name": "ButtonStyleModel",
      "state": {}
     },
     "1270e2ff4c4848bca7682c6f521a14a2": {
      "model_module": "@jupyter-widgets/controls",
      "model_module_version": "1.2.0",
      "model_name": "DescriptionStyleModel",
      "state": {
       "description_width": "initial"
      }
     },
     "127393f42e74413ab489d708c5a7d881": {
      "model_module": "@jupyter-widgets/base",
      "model_module_version": "1.0.0",
      "model_name": "LayoutModel",
      "state": {
       "width": "250px"
      }
     },
     "12bb8d4d8ec84cfeaff11160c6784938": {
      "model_module": "@jupyter-widgets/base",
      "model_module_version": "1.0.0",
      "model_name": "LayoutModel",
      "state": {
       "width": "250px"
      }
     },
     "12c65667434b43408bae77ea8df47ecb": {
      "model_module": "@jupyter-widgets/controls",
      "model_module_version": "1.2.0",
      "model_name": "ButtonModel",
      "state": {
       "description": "nsubj",
       "layout": "IPY_MODEL_d0d68a0f10b840bb84c8ebbe6e044096",
       "style": "IPY_MODEL_39296cdd939c444e8c818b832665c7c3"
      }
     },
     "12d6b7bcc38d4432ae2f6390ecee6aa0": {
      "model_module": "@jupyter-widgets/controls",
      "model_module_version": "1.2.0",
      "model_name": "CheckboxModel",
      "state": {
       "description": "zwei",
       "disabled": false,
       "layout": "IPY_MODEL_5ec16e279c4a466f8842e9b559823f86",
       "style": "IPY_MODEL_76600f4256e44a708bdf7c55ebc8885d",
       "value": false
      }
     },
     "12e7601e867446019ef556605540c1cb": {
      "model_module": "@jupyter-widgets/base",
      "model_module_version": "1.0.0",
      "model_name": "LayoutModel",
      "state": {
       "width": "250px"
      }
     },
     "1315bea71fc146a6940b8d0c231f7bbd": {
      "model_module": "@jupyter-widgets/base",
      "model_module_version": "1.0.0",
      "model_name": "LayoutModel",
      "state": {
       "width": "600px"
      }
     },
     "13234e408f0947acb1cc83e0a4d75141": {
      "model_module": "@jupyter-widgets/controls",
      "model_module_version": "1.2.0",
      "model_name": "VBoxModel",
      "state": {
       "children": [
        "IPY_MODEL_2c20b852cd1d4890b1984e697fb0505f",
        "IPY_MODEL_07b3e1f4b4644c28b6c547f77f665bf2",
        "IPY_MODEL_fd84b88717864b008c13e2e3a848da2f"
       ],
       "layout": "IPY_MODEL_c298308a27b24309975f28db31351ab8"
      }
     },
     "1365e323ea6b453f95e305ed646d143f": {
      "model_module": "@jupyter-widgets/controls",
      "model_module_version": "1.2.0",
      "model_name": "VBoxModel",
      "state": {
       "children": [
        "IPY_MODEL_b89d3d80a6ca4a2f967762a91e388f7b",
        "IPY_MODEL_7ef48cb8fe49405096de39de139308ef",
        "IPY_MODEL_4bd930b7727d4e04a9533d1b533cf00f",
        "IPY_MODEL_793707658a854b4eb3353412d6123fd7"
       ],
       "layout": "IPY_MODEL_44c53474ff6c4dff889548ff1af6e302"
      }
     },
     "1390b117378d4a53b02a5a64562619a3": {
      "model_module": "@jupyter-widgets/controls",
      "model_module_version": "1.2.0",
      "model_name": "ButtonModel",
      "state": {
       "description": "advmod",
       "layout": "IPY_MODEL_12e7601e867446019ef556605540c1cb",
       "style": "IPY_MODEL_9b12413ac4b74a34b86fdb06b836e7d7"
      }
     },
     "1396f4dc517843b1bf37d2914f26400a": {
      "model_module": "@jupyter-widgets/base",
      "model_module_version": "1.0.0",
      "model_name": "LayoutModel",
      "state": {
       "width": "250px"
      }
     },
     "13b2135d78524c93b1fd13cbaea3eee4": {
      "model_module": "@jupyter-widgets/base",
      "model_module_version": "1.0.0",
      "model_name": "LayoutModel",
      "state": {
       "justify_content": "center"
      }
     },
     "13eea21c1dc84e88ba998e5a9f21f343": {
      "model_module": "@jupyter-widgets/controls",
      "model_module_version": "1.2.0",
      "model_name": "HBoxModel",
      "state": {
       "children": [
        "IPY_MODEL_9b342e88e7c64afa98f8372cdfba8294",
        "IPY_MODEL_19547c8a0bf347519581ad51615f9837"
       ],
       "layout": "IPY_MODEL_4388fa7259984feeb115f15f615415ec"
      }
     },
     "142623417e53451f9082c0f6c501b538": {
      "model_module": "@jupyter-widgets/controls",
      "model_module_version": "1.2.0",
      "model_name": "HTMLModel",
      "state": {
       "layout": "IPY_MODEL_5a4ead53889645ae8d8e5274331a028d",
       "style": "IPY_MODEL_b7aeff9918ac401c948b84598d6a1972",
       "value": "<h4 style=\"font-size:14px;\">Bei welchen Sätzen wurden die Tests richtig angewendet?</h4>"
      }
     },
     "143422ee3bac4304af36ee4aa93846b3": {
      "model_module": "@jupyter-widgets/base",
      "model_module_version": "1.0.0",
      "model_name": "LayoutModel",
      "state": {}
     },
     "143a72216f63456fbba3785135700281": {
      "model_module": "@jupyter-widgets/controls",
      "model_module_version": "1.2.0",
      "model_name": "DescriptionStyleModel",
      "state": {
       "description_width": ""
      }
     },
     "143e919e3411482286d52c46be2bd3e6": {
      "model_module": "@jupyter-widgets/controls",
      "model_module_version": "1.2.0",
      "model_name": "DescriptionStyleModel",
      "state": {
       "description_width": "initial"
      }
     },
     "1455eeb7deaa4a039bedfe662af1a3b1": {
      "model_module": "@jupyter-widgets/controls",
      "model_module_version": "1.2.0",
      "model_name": "HTMLModel",
      "state": {
       "layout": "IPY_MODEL_df25b74d90d44c12b0f3864ac4dac058",
       "style": "IPY_MODEL_163c6329ab164c89b968d3f58b09d8d9",
       "value": "<i>Markieren Sie <ins>alle</ins> passenden Antworten: </i>"
      }
     },
     "1471b6a1050b46c7809ae79d2228f2f9": {
      "model_module": "@jupyter-widgets/controls",
      "model_module_version": "1.2.0",
      "model_name": "HTMLModel",
      "state": {
       "layout": "IPY_MODEL_4f0695d6accb496a80114b2177623e5a",
       "style": "IPY_MODEL_c332059f742c4974bf358a16138d579c",
       "value": "<i>Vervollständigen Sie den Lückentext: </i>"
      }
     },
     "1485b3559a654312a3ea763fa94d76f4": {
      "model_module": "@jupyter-widgets/base",
      "model_module_version": "1.0.0",
      "model_name": "LayoutModel",
      "state": {
       "justify_content": "center"
      }
     },
     "149c3f5c6ea343ae87e13e2978b80689": {
      "model_module": "@jupyter-widgets/base",
      "model_module_version": "1.0.0",
      "model_name": "LayoutModel",
      "state": {}
     },
     "149e21aa89e74cd895788c16bbbf008c": {
      "model_module": "@jupyter-widgets/controls",
      "model_module_version": "1.2.0",
      "model_name": "ButtonModel",
      "state": {
       "description": "case",
       "layout": "IPY_MODEL_ee4deaa14d4b4baa8d7bb75574e2a1e9",
       "style": "IPY_MODEL_d07b8f4cab0f47a18ec3450368adeb70"
      }
     },
     "14cb8f20e1c845fca7a5c33498004b99": {
      "model_module": "@jupyter-widgets/base",
      "model_module_version": "1.0.0",
      "model_name": "LayoutModel",
      "state": {}
     },
     "14e5f7537f09404ea806a1021ca531ed": {
      "model_module": "@jupyter-widgets/base",
      "model_module_version": "1.0.0",
      "model_name": "LayoutModel",
      "state": {
       "width": "250px"
      }
     },
     "1500b551036a43488d0909e25b1d879d": {
      "model_module": "@jupyter-widgets/controls",
      "model_module_version": "1.2.0",
      "model_name": "CheckboxModel",
      "state": {
       "description": "Es gibt keine.",
       "disabled": false,
       "layout": "IPY_MODEL_7087523736fc4c3ca99c6b6378e78b8a",
       "style": "IPY_MODEL_718b85771cc0418ea3991ea6b5660a31",
       "value": false
      }
     },
     "1560a61f5451479e9cb82d3d372cf7b8": {
      "model_module": "@jupyter-widgets/base",
      "model_module_version": "1.0.0",
      "model_name": "LayoutModel",
      "state": {
       "justify_content": "center"
      }
     },
     "1568b6e5fa1849588385f805e9c0eb66": {
      "model_module": "@jupyter-widgets/controls",
      "model_module_version": "1.2.0",
      "model_name": "VBoxModel",
      "state": {
       "children": [
        "IPY_MODEL_a27df6694e33425aa2f89b8a196a56b1",
        "IPY_MODEL_c158869aa3df43c3a0b5c7e457749d70",
        "IPY_MODEL_3b958d0785694a46a93e1fae5b88bce4"
       ],
       "layout": "IPY_MODEL_419fed5f6c914614ace593412a0b0af2"
      }
     },
     "15a959aa74284358b12d469218cc5991": {
      "model_module": "@jupyter-widgets/controls",
      "model_module_version": "1.2.0",
      "model_name": "CheckboxModel",
      "state": {
       "description": "Die neue Kollegin fährt zu ihrem neuen Arbeitsplatz.",
       "disabled": false,
       "layout": "IPY_MODEL_d87b31fed9e5461da9be3d6247d4f5c5",
       "style": "IPY_MODEL_afe238020e2b4234a74baaae9ed0b257",
       "value": false
      }
     },
     "15ad17a4b66841d78faf61fa49c21dd0": {
      "model_module": "@jupyter-widgets/controls",
      "model_module_version": "1.2.0",
      "model_name": "ButtonStyleModel",
      "state": {}
     },
     "15d5eeac6bbf472f8e032f597459984b": {
      "model_module": "@jupyter-widgets/base",
      "model_module_version": "1.0.0",
      "model_name": "LayoutModel",
      "state": {
       "width": "600px"
      }
     },
     "15ecf2423e824a6b9b4fea89bab083d8": {
      "model_module": "@jupyter-widgets/controls",
      "model_module_version": "1.2.0",
      "model_name": "HTMLModel",
      "state": {
       "layout": "IPY_MODEL_43696b8e7f58439fad4396496a11a59a",
       "style": "IPY_MODEL_3209deade66c4fc1b7223ce96466b877",
       "value": "<h4 style=\"font-size:14px;\">Um welchen Attributtyp handelt es sich bei dem Attribut <i>nach Paris</i>?</h4>"
      }
     },
     "15fb7191c66a4e71917adbdc232d983b": {
      "model_module": "@jupyter-widgets/controls",
      "model_module_version": "1.2.0",
      "model_name": "DescriptionStyleModel",
      "state": {
       "description_width": ""
      }
     },
     "1601dec86415466ca8efb0272f56b842": {
      "model_module": "@jupyter-widgets/controls",
      "model_module_version": "1.2.0",
      "model_name": "CheckboxModel",
      "state": {
       "description": "steht im Nominativ",
       "disabled": false,
       "layout": "IPY_MODEL_87cd4a5c67e94e23ad6c7ba04980fa76",
       "style": "IPY_MODEL_8bebfa82785940498f824619237d0276",
       "value": false
      }
     },
     "160308a93e5d4462a1608d863ee680d4": {
      "model_module": "@jupyter-widgets/controls",
      "model_module_version": "1.2.0",
      "model_name": "VBoxModel",
      "state": {
       "children": [
        "IPY_MODEL_4ec4543f6ab84cc3a5234c09870e271f",
        "IPY_MODEL_f87e5841293748b6ad693de250341259",
        "IPY_MODEL_f0612f31389149f1b77f5363281bce45",
        "IPY_MODEL_2af9e3c489094182ac7972c546c74c0d",
        "IPY_MODEL_95008dcdddb74f82b620cfd363a5955e"
       ],
       "layout": "IPY_MODEL_5f8adefe2b5c4a8f8ac3c468050332b1"
      }
     },
     "161605e072dd4db495b81a7f259d2e22": {
      "model_module": "@jupyter-widgets/controls",
      "model_module_version": "1.2.0",
      "model_name": "HBoxModel",
      "state": {
       "children": [
        "IPY_MODEL_4afb6da9ae1e4e50a957ab1c611d0137",
        "IPY_MODEL_f0d0235591704d1189f21a96150d9b53"
       ],
       "layout": "IPY_MODEL_86b020c196bd4421ab22ff45d9dcde35"
      }
     },
     "162aac90761c4dcdb97db9ee3df58424": {
      "model_module": "@jupyter-widgets/base",
      "model_module_version": "1.0.0",
      "model_name": "LayoutModel",
      "state": {}
     },
     "1638dc3a87d74754b9fa717b3d5384ce": {
      "model_module": "@jupyter-widgets/base",
      "model_module_version": "1.0.0",
      "model_name": "LayoutModel",
      "state": {
       "width": "600px"
      }
     },
     "163968e469b44f539d6e3dfeb76dfc49": {
      "model_module": "@jupyter-widgets/controls",
      "model_module_version": "1.2.0",
      "model_name": "DescriptionStyleModel",
      "state": {
       "description_width": ""
      }
     },
     "163ae3822add49eaa4e2dae26f12d865": {
      "model_module": "@jupyter-widgets/controls",
      "model_module_version": "1.2.0",
      "model_name": "HBoxModel",
      "state": {
       "children": [
        "IPY_MODEL_b51a0d092b464bff8a1d96e3dffbff39",
        "IPY_MODEL_6bdc38ba23844be28cb71a53b1434d4b"
       ],
       "layout": "IPY_MODEL_e2a600f866d6489e87129039140185f8"
      }
     },
     "163c6329ab164c89b968d3f58b09d8d9": {
      "model_module": "@jupyter-widgets/controls",
      "model_module_version": "1.2.0",
      "model_name": "DescriptionStyleModel",
      "state": {
       "description_width": ""
      }
     },
     "167608d03b634935ab0b375f1aaddb86": {
      "model_module": "@jupyter-widgets/base",
      "model_module_version": "1.0.0",
      "model_name": "LayoutModel",
      "state": {
       "width": "600px"
      }
     },
     "1685c006b7c44c5fa801479756cacc2c": {
      "model_module": "@jupyter-widgets/controls",
      "model_module_version": "1.2.0",
      "model_name": "ButtonModel",
      "state": {
       "description": "Korrekt?",
       "layout": "IPY_MODEL_359b12b5954445aba597771ab026e47a",
       "style": "IPY_MODEL_ce360a3dff364a22b46bcce93fb071ff"
      }
     },
     "16aba44b9e2a4a6b8812d95be8bada60": {
      "model_module": "@jupyter-widgets/controls",
      "model_module_version": "1.2.0",
      "model_name": "DescriptionStyleModel",
      "state": {
       "description_width": "initial"
      }
     },
     "16b6940b6e814add94a6151c435f63c1": {
      "model_module": "@jupyter-widgets/base",
      "model_module_version": "1.0.0",
      "model_name": "LayoutModel",
      "state": {
       "justify_content": "center"
      }
     },
     "1766750b9dcd43158a6275ff6cf09937": {
      "model_module": "@jupyter-widgets/controls",
      "model_module_version": "1.2.0",
      "model_name": "HBoxModel",
      "state": {
       "children": [
        "IPY_MODEL_2ce1739f87c24f69bdbe0027d320e53c",
        "IPY_MODEL_96be6ab69824403fb162231722dd9a39"
       ],
       "layout": "IPY_MODEL_bfde429554874c4ca224ddd9d09254c5"
      }
     },
     "17b540db134c4f32a232ac9b48eca432": {
      "model_module": "@jupyter-widgets/base",
      "model_module_version": "1.0.0",
      "model_name": "LayoutModel",
      "state": {}
     },
     "17d41173193b4135826ab921c00d20c0": {
      "model_module": "@jupyter-widgets/controls",
      "model_module_version": "1.2.0",
      "model_name": "ButtonStyleModel",
      "state": {}
     },
     "17e448488aba4831b677977b0d7c3e06": {
      "model_module": "@jupyter-widgets/base",
      "model_module_version": "1.0.0",
      "model_name": "LayoutModel",
      "state": {}
     },
     "17f904e9ec05463882eb86195990aabc": {
      "model_module": "@jupyter-widgets/base",
      "model_module_version": "1.0.0",
      "model_name": "LayoutModel",
      "state": {}
     },
     "17fde891dbb844ed8ea25cd3b60f503c": {
      "model_module": "@jupyter-widgets/controls",
      "model_module_version": "1.2.0",
      "model_name": "CheckboxModel",
      "state": {
       "description": "mit",
       "disabled": false,
       "layout": "IPY_MODEL_b03cd25704f14a0cb26224c6bb40ca70",
       "style": "IPY_MODEL_e3b28c0f21b34c0baabce7b84f3ae666",
       "value": false
      }
     },
     "180e496493274b97a52523579c7e87c2": {
      "model_module": "@jupyter-widgets/base",
      "model_module_version": "1.0.0",
      "model_name": "LayoutModel",
      "state": {
       "width": "600px"
      }
     },
     "182fbc5392e54cee992bda336419f5f6": {
      "model_module": "@jupyter-widgets/base",
      "model_module_version": "1.0.0",
      "model_name": "LayoutModel",
      "state": {
       "width": "250px"
      }
     },
     "184a263fd05d4fafb146331bca8daa3d": {
      "model_module": "@jupyter-widgets/controls",
      "model_module_version": "1.2.0",
      "model_name": "DescriptionStyleModel",
      "state": {
       "description_width": "initial"
      }
     },
     "189c360d14ce4dbd9062e391889d989f": {
      "model_module": "@jupyter-widgets/controls",
      "model_module_version": "1.2.0",
      "model_name": "DescriptionStyleModel",
      "state": {
       "description_width": "initial"
      }
     },
     "189d74145624428bb8f51ca961586be0": {
      "model_module": "@jupyter-widgets/controls",
      "model_module_version": "1.2.0",
      "model_name": "CheckboxModel",
      "state": {
       "description": "lebhaften",
       "disabled": false,
       "layout": "IPY_MODEL_641ed22d607642369a245177e744fefd",
       "style": "IPY_MODEL_7e069ce868d74261abe2cc1a9d432d84",
       "value": false
      }
     },
     "18a02da364e94f0f9a2508a027ee2436": {
      "model_module": "@jupyter-widgets/controls",
      "model_module_version": "1.2.0",
      "model_name": "DescriptionStyleModel",
      "state": {
       "description_width": ""
      }
     },
     "18ab3cce5ffa49f5954f33a0f7f06470": {
      "model_module": "@jupyter-widgets/controls",
      "model_module_version": "1.2.0",
      "model_name": "ButtonStyleModel",
      "state": {}
     },
     "18ce93014cb3405c87260766750b9228": {
      "model_module": "@jupyter-widgets/controls",
      "model_module_version": "1.2.0",
      "model_name": "DescriptionStyleModel",
      "state": {
       "description_width": "initial"
      }
     },
     "18f042c559c54c7ab686736d4e0ec60e": {
      "model_module": "@jupyter-widgets/base",
      "model_module_version": "1.0.0",
      "model_name": "LayoutModel",
      "state": {}
     },
     "193a6972126547b58505e54080d9211a": {
      "model_module": "@jupyter-widgets/base",
      "model_module_version": "1.0.0",
      "model_name": "LayoutModel",
      "state": {}
     },
     "19547c8a0bf347519581ad51615f9837": {
      "model_module": "@jupyter-widgets/controls",
      "model_module_version": "1.2.0",
      "model_name": "ButtonModel",
      "state": {
       "description": "nsubj",
       "layout": "IPY_MODEL_b125a83353364a13b8daa966983c265b",
       "style": "IPY_MODEL_5b6c516724fc455ebf0ed7c2a8416fed"
      }
     },
     "1975b8c7720349cf917ceb55531b60ea": {
      "model_module": "@jupyter-widgets/base",
      "model_module_version": "1.0.0",
      "model_name": "LayoutModel",
      "state": {
       "width": "600px"
      }
     },
     "1987e12dc82e4da695f93cc4ce7f1029": {
      "model_module": "@jupyter-widgets/controls",
      "model_module_version": "1.2.0",
      "model_name": "ButtonModel",
      "state": {
       "description": "Korrekt?",
       "layout": "IPY_MODEL_1396f4dc517843b1bf37d2914f26400a",
       "style": "IPY_MODEL_bf487d3f9e2b438c9e7b58a5de8fdecc"
      }
     },
     "198952e1d6cb4121ae51ad18b8211d71": {
      "model_module": "@jupyter-widgets/controls",
      "model_module_version": "1.2.0",
      "model_name": "ButtonStyleModel",
      "state": {}
     },
     "198dcb0ed8544766a643fee6ad1ec301": {
      "model_module": "@jupyter-widgets/controls",
      "model_module_version": "1.2.0",
      "model_name": "DescriptionStyleModel",
      "state": {
       "description_width": ""
      }
     },
     "1998c74a65fd4b6ba956758af97675b0": {
      "model_module": "@jupyter-widgets/base",
      "model_module_version": "1.0.0",
      "model_name": "LayoutModel",
      "state": {
       "width": "250px"
      }
     },
     "19a02f0fb6f44b548d025155bc3c44a6": {
      "model_module": "@jupyter-widgets/controls",
      "model_module_version": "1.2.0",
      "model_name": "HTMLModel",
      "state": {
       "layout": "IPY_MODEL_a92fa7db012542ec8caecb765c1fc2d4",
       "style": "IPY_MODEL_51d3fb214cc349099d01cd9b3df48aac",
       "value": "<h4 style=\"font-size:14px;\">Was gilt <b>nicht</b> für die NP <i> ein Fehler </i> ?</h4>"
      }
     },
     "19a41147e75d4b1d811a957f1610b9a9": {
      "model_module": "@jupyter-widgets/controls",
      "model_module_version": "1.2.0",
      "model_name": "CheckboxModel",
      "state": {
       "description": "kenne",
       "disabled": false,
       "layout": "IPY_MODEL_d41a9355755245acb2283ca030e17e4b",
       "style": "IPY_MODEL_f543e86274a94a1181f96015d0b3c923",
       "value": false
      }
     },
     "19a619d83051454182ad9e064c3b9446": {
      "model_module": "@jupyter-widgets/controls",
      "model_module_version": "1.2.0",
      "model_name": "DescriptionStyleModel",
      "state": {
       "description_width": ""
      }
     },
     "19eda3224a414a09a1d338502a0071f4": {
      "model_module": "@jupyter-widgets/controls",
      "model_module_version": "1.2.0",
      "model_name": "ButtonModel",
      "state": {
       "description": "amod",
       "layout": "IPY_MODEL_d8cf45f014ae4fb8856726380192ae0e",
       "style": "IPY_MODEL_c2caa97524fb4697a73c7adb70cb2142"
      }
     },
     "19efb8c9cbe342cd8567f1024fd834a2": {
      "model_module": "@jupyter-widgets/controls",
      "model_module_version": "1.2.0",
      "model_name": "VBoxModel",
      "state": {
       "children": [
        "IPY_MODEL_c96dbe2529d745289bbd4fcecb4992df",
        "IPY_MODEL_15a959aa74284358b12d469218cc5991"
       ],
       "layout": "IPY_MODEL_4264feca33574410b879242d19ab1941"
      }
     },
     "1a39c63a7a0245f9bc59615e4257236e": {
      "model_module": "@jupyter-widgets/controls",
      "model_module_version": "1.2.0",
      "model_name": "HTMLModel",
      "state": {
       "layout": "IPY_MODEL_3f258ebe7f8c4ee39e93f942b666b3f1",
       "style": "IPY_MODEL_95cb040df1064fc4be9890f65a4e0cba",
       "value": "<i>Wählen Sie die <ins>eine</ins> korrekte Antwort aus: </i>"
      }
     },
     "1a60ae6feda044cdb1938d2bc932412d": {
      "model_module": "@jupyter-widgets/base",
      "model_module_version": "1.0.0",
      "model_name": "LayoutModel",
      "state": {
       "width": "600px"
      }
     },
     "1a7f045c3b7042b2bce4fd41c9c12c3d": {
      "model_module": "@jupyter-widgets/controls",
      "model_module_version": "1.2.0",
      "model_name": "CheckboxModel",
      "state": {
       "description": "Ich",
       "disabled": false,
       "layout": "IPY_MODEL_b6d91247815c44eabfa1b52cbf366614",
       "style": "IPY_MODEL_a81a04f2e4a9488eaa25cd41d2cb4049",
       "value": false
      }
     },
     "1a96f5bc599543f4a71e978a7b97b29c": {
      "model_module": "@jupyter-widgets/base",
      "model_module_version": "1.0.0",
      "model_name": "LayoutModel",
      "state": {
       "justify_content": "center"
      }
     },
     "1a9f1b257c2d4442805f99b3f700ba50": {
      "model_module": "@jupyter-widgets/base",
      "model_module_version": "1.0.0",
      "model_name": "LayoutModel",
      "state": {
       "width": "250px"
      }
     },
     "1ac6fb5edfaf483eb75401237a163ec4": {
      "model_module": "@jupyter-widgets/controls",
      "model_module_version": "1.2.0",
      "model_name": "ButtonStyleModel",
      "state": {}
     },
     "1acc28765bb340199ca1b0a705019dd4": {
      "model_module": "@jupyter-widgets/controls",
      "model_module_version": "1.2.0",
      "model_name": "DropdownModel",
      "state": {
       "_options_labels": [
        "gut",
        "sehr",
        " "
       ],
       "index": 2,
       "layout": "IPY_MODEL_4493c8d418444fbfaa3abc5765ece63a",
       "style": "IPY_MODEL_c4177da2ee1747a3827a1e8c7ee84dff"
      }
     },
     "1ad6ade07f6c4987b50c5ca83a2cbd20": {
      "model_module": "@jupyter-widgets/controls",
      "model_module_version": "1.2.0",
      "model_name": "DescriptionStyleModel",
      "state": {
       "description_width": "initial"
      }
     },
     "1ad93762915748c9a4ddb63edc091b65": {
      "model_module": "@jupyter-widgets/base",
      "model_module_version": "1.0.0",
      "model_name": "LayoutModel",
      "state": {}
     },
     "1ada4cc942cd4671ada8a35496a68bb1": {
      "model_module": "@jupyter-widgets/controls",
      "model_module_version": "1.2.0",
      "model_name": "ButtonModel",
      "state": {
       "description": "obl",
       "layout": "IPY_MODEL_9eed3d13e9744a9b9e02e584d20f9adf",
       "style": "IPY_MODEL_8b18f5eeaaf149708b3b6bc827873f65"
      }
     },
     "1b066c3725b541bf884a69f069fb2f9c": {
      "model_module": "@jupyter-widgets/controls",
      "model_module_version": "1.2.0",
      "model_name": "ButtonStyleModel",
      "state": {}
     },
     "1b6efb0f43334488828ae4c5848e9cb1": {
      "model_module": "@jupyter-widgets/base",
      "model_module_version": "1.0.0",
      "model_name": "LayoutModel",
      "state": {
       "width": "600px"
      }
     },
     "1b7aa3d68037482a807a5a5054f19eda": {
      "model_module": "@jupyter-widgets/controls",
      "model_module_version": "1.2.0",
      "model_name": "HBoxModel",
      "state": {
       "children": [
        "IPY_MODEL_355a86f44ad34d4bb600dffa5057954f",
        "IPY_MODEL_550c1fde20484d878824ed1282e568b8"
       ],
       "layout": "IPY_MODEL_63db5a64e64d4cfbbdfbda2deac4cb3b"
      }
     },
     "1b82e57540d545979a6e6fbbe6e7a937": {
      "model_module": "@jupyter-widgets/controls",
      "model_module_version": "1.2.0",
      "model_name": "CheckboxModel",
      "state": {
       "description": "S-Bahn",
       "disabled": false,
       "layout": "IPY_MODEL_b323e583fe3c49eabef6e80868d0d33d",
       "style": "IPY_MODEL_989c495e41fa4c3281637a50bc307ff5",
       "value": false
      }
     },
     "1b9b9d355d0c40079a867a9e0c55ccbe": {
      "model_module": "@jupyter-widgets/controls",
      "model_module_version": "1.2.0",
      "model_name": "CheckboxModel",
      "state": {
       "description": "neue",
       "disabled": false,
       "layout": "IPY_MODEL_9c54f5e3342e453d9deac085162b7df5",
       "style": "IPY_MODEL_fbc7d1c09f7f4759acfaee2493badd71",
       "value": false
      }
     },
     "1ba8dcfdabb342d1b366c82e12ac6dbd": {
      "model_module": "@jupyter-widgets/controls",
      "model_module_version": "1.2.0",
      "model_name": "DescriptionStyleModel",
      "state": {
       "description_width": "initial"
      }
     },
     "1bb17a1299e246e6b5b5ad03306e90b4": {
      "model_module": "@jupyter-widgets/controls",
      "model_module_version": "1.2.0",
      "model_name": "CheckboxModel",
      "state": {
       "description": "3. Satz (das Pferd)",
       "disabled": false,
       "layout": "IPY_MODEL_db4a1938ae3c4e8a994652f27da79a26",
       "style": "IPY_MODEL_60789c1079c749a39a6c9b06d7a860d5",
       "value": false
      }
     },
     "1bc613b391fe439e95e574954bcfcc3f": {
      "model_module": "@jupyter-widgets/controls",
      "model_module_version": "1.2.0",
      "model_name": "CheckboxModel",
      "state": {
       "description": "einen",
       "disabled": false,
       "layout": "IPY_MODEL_579bf9891b62477b8831ec3ad136c3b4",
       "style": "IPY_MODEL_f3fc385d778040199a5460c565fd9963",
       "value": false
      }
     },
     "1bc977085f2f4c2492e67c806d15fda0": {
      "model_module": "@jupyter-widgets/base",
      "model_module_version": "1.0.0",
      "model_name": "LayoutModel",
      "state": {
       "width": "600px"
      }
     },
     "1bdb31a5d3bd42378acce3d0606f6c98": {
      "model_module": "@jupyter-widgets/controls",
      "model_module_version": "1.2.0",
      "model_name": "ButtonModel",
      "state": {
       "description": "case",
       "layout": "IPY_MODEL_bc2d1a75d6e44e3e91b12c539b596248",
       "style": "IPY_MODEL_11b1688de5d34b728b66681cd993e683"
      }
     },
     "1be201038c8c407c99bd6621b7ce5f1b": {
      "model_module": "@jupyter-widgets/controls",
      "model_module_version": "1.2.0",
      "model_name": "ButtonModel",
      "state": {
       "description": "Keine",
       "layout": "IPY_MODEL_39da34b3bb664495bc39de48a110df16",
       "style": "IPY_MODEL_7fa24fedbb724814a28cc2a21ca191a2"
      }
     },
     "1bf1989bfbf941269d575e7a0321eac6": {
      "model_module": "@jupyter-widgets/base",
      "model_module_version": "1.0.0",
      "model_name": "LayoutModel",
      "state": {
       "width": "250px"
      }
     },
     "1bf31299c0c24aab85a5c66f8999d1c7": {
      "model_module": "@jupyter-widgets/controls",
      "model_module_version": "1.2.0",
      "model_name": "DescriptionStyleModel",
      "state": {
       "description_width": "initial"
      }
     },
     "1bffd944e04547b48ed040dd59fd200d": {
      "model_module": "@jupyter-widgets/controls",
      "model_module_version": "1.2.0",
      "model_name": "ButtonStyleModel",
      "state": {}
     },
     "1c04442f653244d087c9dc2f4474bb75": {
      "model_module": "@jupyter-widgets/base",
      "model_module_version": "1.0.0",
      "model_name": "LayoutModel",
      "state": {
       "width": "600px"
      }
     },
     "1c0b9b26a4a244a18342c02257c2f86e": {
      "model_module": "@jupyter-widgets/controls",
      "model_module_version": "1.2.0",
      "model_name": "HTMLModel",
      "state": {
       "layout": "IPY_MODEL_f9342306c3494b24a0cb18a62efc00d8",
       "style": "IPY_MODEL_b55542af191541649d4ef792ca22397d",
       "value": "<h4 style=\"font-size:14px;\">Welche Art von Dependenz besteht zwischen <i> Kollegin </i> und <i> S-Bahn </i> ?</h4>"
      }
     },
     "1c108f36b28445fa9ad3717c6acff721": {
      "model_module": "@jupyter-widgets/base",
      "model_module_version": "1.0.0",
      "model_name": "LayoutModel",
      "state": {}
     },
     "1c49665ce7614ffb8203cc88d954b55d": {
      "model_module": "@jupyter-widgets/controls",
      "model_module_version": "1.2.0",
      "model_name": "DescriptionStyleModel",
      "state": {
       "description_width": ""
      }
     },
     "1c585c5320244fea8deb5a3398e27670": {
      "model_module": "@jupyter-widgets/controls",
      "model_module_version": "1.2.0",
      "model_name": "ButtonModel",
      "state": {
       "description": "Korrekt?",
       "layout": "IPY_MODEL_1f9a96b58a3147ddbe0358c608de8c02",
       "style": "IPY_MODEL_fe39b4ebd3f14ffa919daf7b69a2de24"
      }
     },
     "1c5942f356dd4ced86fd008caf65766c": {
      "model_module": "@jupyter-widgets/controls",
      "model_module_version": "1.2.0",
      "model_name": "CheckboxModel",
      "state": {
       "description": "Agenseigenschaften",
       "disabled": false,
       "layout": "IPY_MODEL_51546fd601ce4d819ff3711a87c66f92",
       "style": "IPY_MODEL_9e3b867f16ba4fe8a2fb8a99edb1e3d1",
       "value": false
      }
     },
     "1c74c9001eb842d8a530c27ec09bb4bc": {
      "model_module": "@jupyter-widgets/base",
      "model_module_version": "1.0.0",
      "model_name": "LayoutModel",
      "state": {
       "width": "250px"
      }
     },
     "1c8ef7effad34bfbbb6bdce9b8dc951e": {
      "model_module": "@jupyter-widgets/controls",
      "model_module_version": "1.2.0",
      "model_name": "CheckboxModel",
      "state": {
       "description": "2. Satz (das Pferd)",
       "disabled": false,
       "layout": "IPY_MODEL_9210a9d94e7748159a0dbae21a3870a8",
       "style": "IPY_MODEL_49bd8bb879eb4fdfa0eebfc4a9307bab",
       "value": false
      }
     },
     "1c9dc7fa52f64bfd82fa4e08237668d6": {
      "model_module": "@jupyter-widgets/controls",
      "model_module_version": "1.2.0",
      "model_name": "HTMLModel",
      "state": {
       "layout": "IPY_MODEL_28fef3175b784328ae328a8677b38519",
       "style": "IPY_MODEL_7c461d52ecca49afb0f27c018a363631",
       "value": "<h4 style=\"font-size:14px;\">\" gibt die Satzgliedfunktion an. Diese lässt sich immer nur im konkreten Satz bestimmen.</h4>"
      }
     },
     "1cae2608d527495c8b3bba6b8363c08c": {
      "model_module": "@jupyter-widgets/controls",
      "model_module_version": "1.2.0",
      "model_name": "DescriptionStyleModel",
      "state": {
       "description_width": "initial"
      }
     },
     "1d2b3c4d23dd46bcaa866ded2f04c701": {
      "model_module": "@jupyter-widgets/base",
      "model_module_version": "1.0.0",
      "model_name": "LayoutModel",
      "state": {
       "width": "600px"
      }
     },
     "1d31d1557ec2479da99c9a58dd5a811b": {
      "model_module": "@jupyter-widgets/controls",
      "model_module_version": "1.2.0",
      "model_name": "CheckboxModel",
      "state": {
       "description": "Bruder",
       "disabled": false,
       "layout": "IPY_MODEL_e0da1811b8d648fb8490637c1e20b076",
       "style": "IPY_MODEL_e7763d0898c644ad9e9ebbe670aec23b",
       "value": false
      }
     },
     "1d3936918cb24db3942e28307792bfe7": {
      "model_module": "@jupyter-widgets/controls",
      "model_module_version": "1.2.0",
      "model_name": "ButtonStyleModel",
      "state": {}
     },
     "1da0333b35e54dfeac79c288627aa00a": {
      "model_module": "@jupyter-widgets/controls",
      "model_module_version": "1.2.0",
      "model_name": "ButtonModel",
      "state": {
       "description": "nummod",
       "layout": "IPY_MODEL_c645321f510f4a72a2132398ca5b0b12",
       "style": "IPY_MODEL_9b4202c9e93840c18611f414d952728b"
      }
     },
     "1e104a76e812423d839e1e71d7ae5323": {
      "model_module": "@jupyter-widgets/controls",
      "model_module_version": "1.2.0",
      "model_name": "HTMLModel",
      "state": {
       "layout": "IPY_MODEL_422ac34d801343cdb538ed2653bb9e93",
       "style": "IPY_MODEL_163968e469b44f539d6e3dfeb76dfc49",
       "value": "<i>Markieren Sie <ins>alle</ins> passenden Antworten: </i>"
      }
     },
     "1e286061da364459ad16b0de95d78aef": {
      "model_module": "@jupyter-widgets/controls",
      "model_module_version": "1.2.0",
      "model_name": "ButtonModel",
      "state": {
       "description": "det",
       "layout": "IPY_MODEL_e1a27e84b2524b3a8764d148d63ea391",
       "style": "IPY_MODEL_d10f16d25342423a84eb623b9f3c86eb"
      }
     },
     "1e6c21bdfe684c77a82cb04c61aa7eb8": {
      "model_module": "@jupyter-widgets/controls",
      "model_module_version": "1.2.0",
      "model_name": "CheckboxModel",
      "state": {
       "description": "Mädchen",
       "disabled": false,
       "layout": "IPY_MODEL_1f134685ce8140b4894bd512d5b1075a",
       "style": "IPY_MODEL_0de7abf18b934fabbde8b2e3f7145481",
       "value": false
      }
     },
     "1e8d5180e6c7422db00bc53746e2c935": {
      "model_module": "@jupyter-widgets/controls",
      "model_module_version": "1.2.0",
      "model_name": "ButtonModel",
      "state": {
       "description": "prep",
       "layout": "IPY_MODEL_88d07d1f2f984395b9e9e73232cb5b1c",
       "style": "IPY_MODEL_397e4493f3524825b5274ea8ea4ebeb2"
      }
     },
     "1ea5f9de95e543b6852fa1f4005a6c17": {
      "model_module": "@jupyter-widgets/base",
      "model_module_version": "1.0.0",
      "model_name": "LayoutModel",
      "state": {
       "width": "250px"
      }
     },
     "1ebef5ad4ff046fc80f85da89e5f59c7": {
      "model_module": "@jupyter-widgets/base",
      "model_module_version": "1.0.0",
      "model_name": "LayoutModel",
      "state": {
       "width": "600px"
      }
     },
     "1ec2ba4c298d43b5970e2e7624c3226b": {
      "model_module": "@jupyter-widgets/controls",
      "model_module_version": "1.2.0",
      "model_name": "ButtonModel",
      "state": {
       "description": "Adjektivattribut",
       "layout": "IPY_MODEL_1f9df3dad5ae496282a8f5053192c575",
       "style": "IPY_MODEL_46f4650e3ca0487c9224da620f5a1aab"
      }
     },
     "1efc69226b124539ad203f3dd232d21e": {
      "model_module": "@jupyter-widgets/controls",
      "model_module_version": "1.2.0",
      "model_name": "DescriptionStyleModel",
      "state": {
       "description_width": "initial"
      }
     },
     "1f134685ce8140b4894bd512d5b1075a": {
      "model_module": "@jupyter-widgets/base",
      "model_module_version": "1.0.0",
      "model_name": "LayoutModel",
      "state": {
       "width": "600px"
      }
     },
     "1f4155dc067846bfa4e41fb8a7e9bfb2": {
      "model_module": "@jupyter-widgets/controls",
      "model_module_version": "1.2.0",
      "model_name": "ButtonStyleModel",
      "state": {}
     },
     "1f4a9c0a189e4ede9b18ca3db70ac01e": {
      "model_module": "@jupyter-widgets/base",
      "model_module_version": "1.0.0",
      "model_name": "LayoutModel",
      "state": {
       "width": "250px"
      }
     },
     "1f73384c5e9c4bb7a1ae7ec865714550": {
      "model_module": "@jupyter-widgets/base",
      "model_module_version": "1.0.0",
      "model_name": "LayoutModel",
      "state": {
       "width": "250px"
      }
     },
     "1f94881d63994d7ead1878f3f1d76c9a": {
      "model_module": "@jupyter-widgets/controls",
      "model_module_version": "1.2.0",
      "model_name": "DescriptionStyleModel",
      "state": {
       "description_width": ""
      }
     },
     "1f98476fe8b446e18ecfa6865ed3739b": {
      "model_module": "@jupyter-widgets/base",
      "model_module_version": "1.0.0",
      "model_name": "LayoutModel",
      "state": {}
     },
     "1f9a96b58a3147ddbe0358c608de8c02": {
      "model_module": "@jupyter-widgets/base",
      "model_module_version": "1.0.0",
      "model_name": "LayoutModel",
      "state": {
       "width": "250px"
      }
     },
     "1f9df3dad5ae496282a8f5053192c575": {
      "model_module": "@jupyter-widgets/base",
      "model_module_version": "1.0.0",
      "model_name": "LayoutModel",
      "state": {
       "width": "250px"
      }
     },
     "1fae1bb214904e68ad5ae0ff56563832": {
      "model_module": "@jupyter-widgets/base",
      "model_module_version": "1.0.0",
      "model_name": "LayoutModel",
      "state": {
       "width": "600px"
      }
     },
     "1fc613bcd3274b88829e1bd48e4d3774": {
      "model_module": "@jupyter-widgets/controls",
      "model_module_version": "1.2.0",
      "model_name": "HTMLModel",
      "state": {
       "layout": "IPY_MODEL_8108c30cd02b47449d28a38c95e0edfd",
       "style": "IPY_MODEL_0c7cb404a73b4dc3a40c5f0d077c2b96",
       "value": "<i>Wählen Sie die <ins>eine</ins> korrekte Antwort aus: </i>"
      }
     },
     "201aebf8750642a29e7057730dd92f60": {
      "model_module": "@jupyter-widgets/controls",
      "model_module_version": "1.2.0",
      "model_name": "CheckboxModel",
      "state": {
       "description": "fehlende Austauschbarkeit",
       "disabled": false,
       "layout": "IPY_MODEL_c9578f697b2c400ab7364befca784d62",
       "style": "IPY_MODEL_62c744f380bd4cdbab8097122f9367e7",
       "value": false
      }
     },
     "202610069db84ac1b2e91ca8e211d510": {
      "model_module": "@jupyter-widgets/controls",
      "model_module_version": "1.2.0",
      "model_name": "CheckboxModel",
      "state": {
       "description": "Arbeitsplatz",
       "disabled": false,
       "layout": "IPY_MODEL_cf65cfca8b854c66871a4c449f0b86cd",
       "style": "IPY_MODEL_bff71486979742c8b7db825fbd5b8832",
       "value": false
      }
     },
     "208c55b648224c79b01aab3b1481df3c": {
      "model_module": "@jupyter-widgets/controls",
      "model_module_version": "1.2.0",
      "model_name": "CheckboxModel",
      "state": {
       "description": "kenne",
       "disabled": false,
       "layout": "IPY_MODEL_b97ab00045a9460cad645eda227c5dde",
       "style": "IPY_MODEL_7fe33d82c789457abd2bc94f72c4ae73",
       "value": false
      }
     },
     "20925f08832b42d5aea43398b3afc8b9": {
      "model_module": "@jupyter-widgets/controls",
      "model_module_version": "1.2.0",
      "model_name": "ButtonModel",
      "state": {
       "description": "prep",
       "layout": "IPY_MODEL_08cc0aaae00f4912b0390fba84bb7392",
       "style": "IPY_MODEL_0847b90ae4bb4d4d9273569d82b0955b"
      }
     },
     "20926c656cea4240b879afbfe9e1a19e": {
      "model_module": "@jupyter-widgets/controls",
      "model_module_version": "1.2.0",
      "model_name": "HTMLModel",
      "state": {
       "layout": "IPY_MODEL_38407d6a73814127866c595e1527fcb0",
       "style": "IPY_MODEL_6d6de1d9c8fd410096d14d5bb9a79b1a",
       "value": "<i>Vervollständigen Sie den Lückentext: </i>"
      }
     },
     "209a8af13dce4a0fb0f2523e90bebef1": {
      "model_module": "@jupyter-widgets/controls",
      "model_module_version": "1.2.0",
      "model_name": "HBoxModel",
      "state": {
       "children": [
        "IPY_MODEL_dcee541a37cd491f9cf86db460aad2d9",
        "IPY_MODEL_149e21aa89e74cd895788c16bbbf008c"
       ],
       "layout": "IPY_MODEL_c138644c57f24ef89e11b4dc2ce0264d"
      }
     },
     "20a3cb5ffae54cc49a8d5af1ea545e7f": {
      "model_module": "@jupyter-widgets/base",
      "model_module_version": "1.0.0",
      "model_name": "LayoutModel",
      "state": {}
     },
     "20cba9ec1b944b2e95cf8afdd2371f45": {
      "model_module": "@jupyter-widgets/controls",
      "model_module_version": "1.2.0",
      "model_name": "HBoxModel",
      "state": {
       "children": [
        "IPY_MODEL_c3aaaa2e10244caf894a70b8eb506e7a",
        "IPY_MODEL_526c2461bcaa49c5a835c1b06eaaf2f3"
       ],
       "layout": "IPY_MODEL_68e939a08c054f02a499ab70bb9484d7"
      }
     },
     "20d23704bec84ece8fe4d5b3ef07ab0b": {
      "model_module": "@jupyter-widgets/controls",
      "model_module_version": "1.2.0",
      "model_name": "ButtonModel",
      "state": {
       "description": "nsubj",
       "layout": "IPY_MODEL_c164431687324d57aea8ce9f5f4b7a5a",
       "style": "IPY_MODEL_c7232a5ed7e3408a836b34f31f65fd3b"
      }
     },
     "20ecdbf74b034aba9bef79cf9100c421": {
      "model_module": "@jupyter-widgets/controls",
      "model_module_version": "1.2.0",
      "model_name": "HTMLModel",
      "state": {
       "layout": "IPY_MODEL_5de6dca48e74409eaaf860e172b0aa2b",
       "style": "IPY_MODEL_ee8d270b0dc841ab976ff3c4c48747fc",
       "value": "<i>Markieren Sie <ins>alle</ins> passenden Antworten: </i>"
      }
     },
     "20f78942deaa4d8094fc796a29c618c0": {
      "model_module": "@jupyter-widgets/controls",
      "model_module_version": "1.2.0",
      "model_name": "HTMLModel",
      "state": {
       "layout": "IPY_MODEL_e0858f1b68224ca286d58d05550d9f17",
       "style": "IPY_MODEL_cb8b8c3f6bea4d0cb02417fe26c89c6c",
       "value": "<h4 style=\"font-size:14px;\">Markieren Sie alle direkten Dependenten des Wortes <i> sehr </i>.</h4>"
      }
     },
     "2114755a152e4b96b2d748ddf6fe4e48": {
      "model_module": "@jupyter-widgets/base",
      "model_module_version": "1.0.0",
      "model_name": "LayoutModel",
      "state": {}
     },
     "2171472cf83b4be18eedbc8a8030f346": {
      "model_module": "@jupyter-widgets/controls",
      "model_module_version": "1.2.0",
      "model_name": "VBoxModel",
      "state": {
       "children": [
        "IPY_MODEL_e2f62b5ecfc242388850dca4f8517252",
        "IPY_MODEL_5cb20266fb834b76aecad3f78c0e65a8",
        "IPY_MODEL_a3d4f99d297a43309e1420c5e05ceebe",
        "IPY_MODEL_44e4210f06624b04b1dcc86d68858ca5"
       ],
       "layout": "IPY_MODEL_2774c3fd9d314675a1dbbb347c520803"
      }
     },
     "217d88d4976b4c17a9deb0d9bbb991d4": {
      "model_module": "@jupyter-widgets/controls",
      "model_module_version": "1.2.0",
      "model_name": "CheckboxModel",
      "state": {
       "description": "geschehen-Test",
       "disabled": false,
       "layout": "IPY_MODEL_84c8419908424e558c61ca53d26e090b",
       "style": "IPY_MODEL_4bb6307d7f734250b646094e6b6eb6a2",
       "value": false
      }
     },
     "2186386ef8c54b9885081241e5539c8a": {
      "model_module": "@jupyter-widgets/controls",
      "model_module_version": "1.2.0",
      "model_name": "CheckboxModel",
      "state": {
       "description": "mit",
       "disabled": false,
       "layout": "IPY_MODEL_1c04442f653244d087c9dc2f4474bb75",
       "style": "IPY_MODEL_63bdc60ebbe64ec7ac25fa58045ebe39",
       "value": false
      }
     },
     "21ac04c1bec7441db33282fc884e3d82": {
      "model_module": "@jupyter-widgets/controls",
      "model_module_version": "1.2.0",
      "model_name": "CheckboxModel",
      "state": {
       "description": "drückt häufig das Topik aus",
       "disabled": false,
       "layout": "IPY_MODEL_807ef2feac9f4ce48f2a0a852de5f651",
       "style": "IPY_MODEL_ba0bbb00a5d44d06a85a7b04380ccab9",
       "value": false
      }
     },
     "21c6806d4f484f69b23c7f5cc89841ff": {
      "model_module": "@jupyter-widgets/controls",
      "model_module_version": "1.2.0",
      "model_name": "CheckboxModel",
      "state": {
       "description": "Arbeitsplatz",
       "disabled": false,
       "layout": "IPY_MODEL_8cbfbc4cf39c4872b410e7f098a5ba32",
       "style": "IPY_MODEL_6e5a169199484484b78f1b1acf19c5eb",
       "value": false
      }
     },
     "21edff920dfa4c11bb5bb684870c61d5": {
      "model_module": "@jupyter-widgets/base",
      "model_module_version": "1.0.0",
      "model_name": "LayoutModel",
      "state": {
       "width": "250px"
      }
     },
     "22432058dd10478e892bfde392fc7d8a": {
      "model_module": "@jupyter-widgets/base",
      "model_module_version": "1.0.0",
      "model_name": "LayoutModel",
      "state": {
       "width": "250px"
      }
     },
     "2262f09ef60445298f497c43ea17bb79": {
      "model_module": "@jupyter-widgets/base",
      "model_module_version": "1.0.0",
      "model_name": "LayoutModel",
      "state": {
       "width": "250px"
      }
     },
     "2269d00c905342c897a0bc8fc0bc4e48": {
      "model_module": "@jupyter-widgets/base",
      "model_module_version": "1.0.0",
      "model_name": "LayoutModel",
      "state": {
       "width": "250px"
      }
     },
     "22aac04c8dcf4b18ba612a1041b3c0e2": {
      "model_module": "@jupyter-widgets/controls",
      "model_module_version": "1.2.0",
      "model_name": "HTMLModel",
      "state": {
       "layout": "IPY_MODEL_dc6bdca0ee274daeb276f6da81350020",
       "style": "IPY_MODEL_f1cb9700c2914bd3b08c6b66a98966e0",
       "value": "<i>Wählen Sie die <ins>eine</ins> korrekte Antwort aus: </i>"
      }
     },
     "22d4fee5b07c4ea390d43632fdc3d703": {
      "model_module": "@jupyter-widgets/controls",
      "model_module_version": "1.2.0",
      "model_name": "ButtonStyleModel",
      "state": {}
     },
     "22d8c1854fd94559b78d3a22f2d6e5d2": {
      "model_module": "@jupyter-widgets/controls",
      "model_module_version": "1.2.0",
      "model_name": "HTMLModel",
      "state": {
       "layout": "IPY_MODEL_7ed38b76e69240079e92bb31a11643af",
       "style": "IPY_MODEL_bd11829f9cc243ebb360046ef7d0f7a5",
       "value": "<i>Wählen Sie die <ins>eine</ins> korrekte Antwort aus: </i>"
      }
     },
     "22f079a5e1fa4201ae5df6f4b058fb52": {
      "model_module": "@jupyter-widgets/base",
      "model_module_version": "1.0.0",
      "model_name": "LayoutModel",
      "state": {
       "width": "600px"
      }
     },
     "232601071a4b44b9b6f2e39842831bf9": {
      "model_module": "@jupyter-widgets/controls",
      "model_module_version": "1.2.0",
      "model_name": "CheckboxModel",
      "state": {
       "description": "Mädchen",
       "disabled": false,
       "layout": "IPY_MODEL_89f975954bd64792ba7fa01d33c12a5a",
       "style": "IPY_MODEL_494ac9968ec24a008a46f19900a166c7",
       "value": false
      }
     },
     "235e05c31545404db7fb26fb8066e377": {
      "model_module": "@jupyter-widgets/base",
      "model_module_version": "1.0.0",
      "model_name": "LayoutModel",
      "state": {}
     },
     "23714da6d19b4144a287ebda98a9b564": {
      "model_module": "@jupyter-widgets/base",
      "model_module_version": "1.0.0",
      "model_name": "LayoutModel",
      "state": {}
     },
     "237a3cec802e4469b5b554edf30bae1c": {
      "model_module": "@jupyter-widgets/base",
      "model_module_version": "1.0.0",
      "model_name": "LayoutModel",
      "state": {}
     },
     "238743b294214197935e6d8321164278": {
      "model_module": "@jupyter-widgets/base",
      "model_module_version": "1.0.0",
      "model_name": "LayoutModel",
      "state": {
       "width": "250px"
      }
     },
     "239a1897bc3947f4b243f1a38b6023de": {
      "model_module": "@jupyter-widgets/controls",
      "model_module_version": "1.2.0",
      "model_name": "HBoxModel",
      "state": {
       "children": [
        "IPY_MODEL_4e33506537f748dcaefa6f649df113e4",
        "IPY_MODEL_dedc7995b06d472fa5cf53ca48bc0974"
       ],
       "layout": "IPY_MODEL_23f679bbf75341ba8662331dc5aad510"
      }
     },
     "23b73b9d383644b1b82d8d1f349f9a69": {
      "model_module": "@jupyter-widgets/controls",
      "model_module_version": "1.2.0",
      "model_name": "CheckboxModel",
      "state": {
       "description": "lebhaften",
       "disabled": false,
       "layout": "IPY_MODEL_1ebef5ad4ff046fc80f85da89e5f59c7",
       "style": "IPY_MODEL_c684319dc5934c1dbe3c80a23d1b50ed",
       "value": false
      }
     },
     "23ca6cdaf0d745b4b50fecd5c00afa4f": {
      "model_module": "@jupyter-widgets/base",
      "model_module_version": "1.0.0",
      "model_name": "LayoutModel",
      "state": {
       "width": "600px"
      }
     },
     "23d74c2266ef4bfdab694b5c38575fe0": {
      "model_module": "@jupyter-widgets/controls",
      "model_module_version": "1.2.0",
      "model_name": "DescriptionStyleModel",
      "state": {
       "description_width": "initial"
      }
     },
     "23f679bbf75341ba8662331dc5aad510": {
      "model_module": "@jupyter-widgets/base",
      "model_module_version": "1.0.0",
      "model_name": "LayoutModel",
      "state": {}
     },
     "24069d96ab1f40359d49e4081e4f7fca": {
      "model_module": "@jupyter-widgets/controls",
      "model_module_version": "1.2.0",
      "model_name": "VBoxModel",
      "state": {
       "children": [
        "IPY_MODEL_bd611b9126bd4d098cf7c174be6c2120",
        "IPY_MODEL_08240784d68546c493e4224c8d010592",
        "IPY_MODEL_722c4f2c5bcc42739720bc202f4c1ab1"
       ],
       "layout": "IPY_MODEL_9ebdf7802d2343f0a3be317be067230c"
      }
     },
     "241bd70df14d46b2af1c4ef829944993": {
      "model_module": "@jupyter-widgets/controls",
      "model_module_version": "1.2.0",
      "model_name": "ButtonModel",
      "state": {
       "description": "nsubj",
       "layout": "IPY_MODEL_73548a1152274537a81678d79377412b",
       "style": "IPY_MODEL_71f8244813de4ace9871729493b517b2"
      }
     },
     "2437a089d12f4bb2aa7054a0bfaf7ba0": {
      "model_module": "@jupyter-widgets/controls",
      "model_module_version": "1.2.0",
      "model_name": "CheckboxModel",
      "state": {
       "description": "lebhaften",
       "disabled": false,
       "layout": "IPY_MODEL_fd4fe38ca0024afba0602b7c7660cb18",
       "style": "IPY_MODEL_189c360d14ce4dbd9062e391889d989f",
       "value": false
      }
     },
     "245a6d7de64b4679ad4415e4da3a5b60": {
      "model_module": "@jupyter-widgets/controls",
      "model_module_version": "1.2.0",
      "model_name": "HBoxModel",
      "state": {
       "children": [
        "IPY_MODEL_f3a9d1dfc2ce4a048651c6b81f1101a5",
        "IPY_MODEL_74475c572b7f4a9e8dd2f6191fbf5ac1"
       ],
       "layout": "IPY_MODEL_28f3032b07fe43f78e6fd0eae5d0b988"
      }
     },
     "245e7ed0f5044851aac6fced2536a670": {
      "model_module": "@jupyter-widgets/base",
      "model_module_version": "1.0.0",
      "model_name": "LayoutModel",
      "state": {
       "width": "150px"
      }
     },
     "24a4acdf0d5d49029fae904a14a731b9": {
      "model_module": "@jupyter-widgets/base",
      "model_module_version": "1.0.0",
      "model_name": "LayoutModel",
      "state": {}
     },
     "24f6d6362d374856a5c898372b4505e7": {
      "model_module": "@jupyter-widgets/base",
      "model_module_version": "1.0.0",
      "model_name": "LayoutModel",
      "state": {}
     },
     "2500040be7b240e58f244b0d5ca32a78": {
      "model_module": "@jupyter-widgets/base",
      "model_module_version": "1.0.0",
      "model_name": "LayoutModel",
      "state": {
       "width": "600px"
      }
     },
     "25110df930b643799686293417cef54d": {
      "model_module": "@jupyter-widgets/controls",
      "model_module_version": "1.2.0",
      "model_name": "HTMLModel",
      "state": {
       "layout": "IPY_MODEL_149c3f5c6ea343ae87e13e2978b80689",
       "style": "IPY_MODEL_69b3db5902e14dbda6036bd3e67cf899",
       "value": "<h4 style=\"font-size:14px;\">Welche Kriterien stimmen?</h4>"
      }
     },
     "251b0af8e37f46bcbe29322e4645ac4e": {
      "model_module": "@jupyter-widgets/controls",
      "model_module_version": "1.2.0",
      "model_name": "DescriptionStyleModel",
      "state": {
       "description_width": "initial"
      }
     },
     "2529148db3d04cfdb922ed21d02306ca": {
      "model_module": "@jupyter-widgets/base",
      "model_module_version": "1.0.0",
      "model_name": "LayoutModel",
      "state": {}
     },
     "252f409824564991bc6b3a6cd3e12eab": {
      "model_module": "@jupyter-widgets/base",
      "model_module_version": "1.0.0",
      "model_name": "LayoutModel",
      "state": {
       "width": "250px"
      }
     },
     "253fd8bde6014e5a8ae9a8e84d189f90": {
      "model_module": "@jupyter-widgets/controls",
      "model_module_version": "1.2.0",
      "model_name": "HTMLModel",
      "state": {
       "layout": "IPY_MODEL_c400f51f7562442c925c75fa20ff08b6",
       "style": "IPY_MODEL_db792ca3b450474ba6a4fa1dcfb698a4",
       "value": "<h4 style=\"font-size:14px;\">Wie könnte man abschließend das in Frage stehende Satzglied in Satz 3 charakterisieren?</h4>"
      }
     },
     "257ec8bf8f63433c8463209b1081a6fa": {
      "model_module": "@jupyter-widgets/base",
      "model_module_version": "1.0.0",
      "model_name": "LayoutModel",
      "state": {}
     },
     "2580785406874321b317993deca3c051": {
      "model_module": "@jupyter-widgets/controls",
      "model_module_version": "1.2.0",
      "model_name": "VBoxModel",
      "state": {
       "children": [
        "IPY_MODEL_19a02f0fb6f44b548d025155bc3c44a6",
        "IPY_MODEL_8defff661d15414e8bc0be74a3270062",
        "IPY_MODEL_3e3bf273980740a0badc556b2c13746f",
        "IPY_MODEL_e401a61cc2204f248c13f294ef8e8397"
       ],
       "layout": "IPY_MODEL_c20e7904452b436096396322c0255451"
      }
     },
     "25a400a1fa8e40e592b93ccf8c85ad77": {
      "model_module": "@jupyter-widgets/controls",
      "model_module_version": "1.2.0",
      "model_name": "ButtonModel",
      "state": {
       "description": "nummod",
       "layout": "IPY_MODEL_eabe76b706a949ad90047daf4f47a916",
       "style": "IPY_MODEL_e1b062c78bc84eeebe8037fec6b18a8b"
      }
     },
     "25a66e2f557044bfbf3e5d92ea911df6": {
      "model_module": "@jupyter-widgets/base",
      "model_module_version": "1.0.0",
      "model_name": "LayoutModel",
      "state": {
       "width": "250px"
      }
     },
     "25abe203b1104589b72e7dbb2831bc88": {
      "model_module": "@jupyter-widgets/controls",
      "model_module_version": "1.2.0",
      "model_name": "CheckboxModel",
      "state": {
       "description": "der",
       "disabled": false,
       "layout": "IPY_MODEL_d4b430b839b7456b924e5f9c53ada20d",
       "style": "IPY_MODEL_a8dc9a41ecb14580996632e6b77c5032",
       "value": false
      }
     },
     "25c3dbf8db4e48bdbe09104eb9d61407": {
      "model_module": "@jupyter-widgets/base",
      "model_module_version": "1.0.0",
      "model_name": "LayoutModel",
      "state": {
       "width": "250px"
      }
     },
     "25c715d974c44ddeb140de6e84a159e8": {
      "model_module": "@jupyter-widgets/controls",
      "model_module_version": "1.2.0",
      "model_name": "CheckboxModel",
      "state": {
       "description": "der",
       "disabled": false,
       "layout": "IPY_MODEL_757fcb83ca99407398d1e01684ac793d",
       "style": "IPY_MODEL_fc6aecdd68b142b78b66ac1b52c9bb63",
       "value": false
      }
     },
     "25fbb53a28ca43fc8766dc32c58cc978": {
      "model_module": "@jupyter-widgets/controls",
      "model_module_version": "1.2.0",
      "model_name": "CheckboxModel",
      "state": {
       "description": "Kollegin",
       "disabled": false,
       "layout": "IPY_MODEL_be34078ca7204f4185e42c4e11157755",
       "style": "IPY_MODEL_6da98ef1ac7f41c5bdaa4b2203d6865c",
       "value": false
      }
     },
     "262a9429b06c46439c30512835c0ed68": {
      "model_module": "@jupyter-widgets/controls",
      "model_module_version": "1.2.0",
      "model_name": "ButtonStyleModel",
      "state": {}
     },
     "267312f6ede04668900c75c87089f449": {
      "model_module": "@jupyter-widgets/base",
      "model_module_version": "1.0.0",
      "model_name": "LayoutModel",
      "state": {}
     },
     "26822cab5d224ced9a8ad28ba59258c4": {
      "model_module": "@jupyter-widgets/controls",
      "model_module_version": "1.2.0",
      "model_name": "HTMLModel",
      "state": {
       "layout": "IPY_MODEL_2c1a85208b88472faee57e3f1cd8f204",
       "style": "IPY_MODEL_9dcf3da738b04a0b982d85e4464753f7",
       "value": "<i>Markieren Sie <ins>alle</ins> passenden Antworten: </i>"
      }
     },
     "26922e56b7904ee7a932a39ab9b8c823": {
      "model_module": "@jupyter-widgets/base",
      "model_module_version": "1.0.0",
      "model_name": "LayoutModel",
      "state": {}
     },
     "26a67d21dc2245b09842964471ada9e7": {
      "model_module": "@jupyter-widgets/controls",
      "model_module_version": "1.2.0",
      "model_name": "DescriptionStyleModel",
      "state": {
       "description_width": "initial"
      }
     },
     "26c329b039b345a0881af409d54f8fcc": {
      "model_module": "@jupyter-widgets/controls",
      "model_module_version": "1.2.0",
      "model_name": "DescriptionStyleModel",
      "state": {
       "description_width": ""
      }
     },
     "27611c70a85d460584481bd2ad890ae0": {
      "model_module": "@jupyter-widgets/controls",
      "model_module_version": "1.2.0",
      "model_name": "VBoxModel",
      "state": {
       "children": [
        "IPY_MODEL_9469ba7af6994018abdcf333566489d9",
        "IPY_MODEL_b5e9e484ff7f4dd5a826459c4651fccc",
        "IPY_MODEL_239a1897bc3947f4b243f1a38b6023de",
        "IPY_MODEL_fd8507b5459247cab9043353a0950fd5",
        "IPY_MODEL_8858188ef6424ce19345b30df6e03748",
        "IPY_MODEL_fee1a1c3a824456f8ed9718121d71542"
       ],
       "layout": "IPY_MODEL_235e05c31545404db7fb26fb8066e377"
      }
     },
     "2774c3fd9d314675a1dbbb347c520803": {
      "model_module": "@jupyter-widgets/base",
      "model_module_version": "1.0.0",
      "model_name": "LayoutModel",
      "state": {}
     },
     "27b6efa2637f4296929abd7f0d27e1c4": {
      "model_module": "@jupyter-widgets/controls",
      "model_module_version": "1.2.0",
      "model_name": "CheckboxModel",
      "state": {
       "description": "Modellierung von Subkategorisierung der syntaktischen Kategorie V durch Kategorienerweiterung",
       "disabled": false,
       "layout": "IPY_MODEL_83d4fda7a02e48abbbe852586c27e6ae",
       "style": "IPY_MODEL_d2f0dada4d8e41738272252b421a49d3",
       "value": false
      }
     },
     "27bce80bc7c34bd5a9d5a36b5403136b": {
      "model_module": "@jupyter-widgets/base",
      "model_module_version": "1.0.0",
      "model_name": "LayoutModel",
      "state": {}
     },
     "27fd5d88a7ba4eb4b47b03f89dc1a486": {
      "model_module": "@jupyter-widgets/controls",
      "model_module_version": "1.2.0",
      "model_name": "DescriptionStyleModel",
      "state": {
       "description_width": ""
      }
     },
     "280d3c72979a4016a239d7c45f234e52": {
      "model_module": "@jupyter-widgets/base",
      "model_module_version": "1.0.0",
      "model_name": "LayoutModel",
      "state": {}
     },
     "283b2b04c8be46f8aa849c9d66e1a7cd": {
      "model_module": "@jupyter-widgets/base",
      "model_module_version": "1.0.0",
      "model_name": "LayoutModel",
      "state": {
       "justify_content": "center"
      }
     },
     "289499cd357045e4b673b7dd9519a813": {
      "model_module": "@jupyter-widgets/controls",
      "model_module_version": "1.2.0",
      "model_name": "ButtonStyleModel",
      "state": {}
     },
     "28d68154bb87456b9fa784a649000e98": {
      "model_module": "@jupyter-widgets/controls",
      "model_module_version": "1.2.0",
      "model_name": "CheckboxModel",
      "state": {
       "description": "zwei",
       "disabled": false,
       "layout": "IPY_MODEL_c4a3878b12a84a059e35436396defc82",
       "style": "IPY_MODEL_faa1a504a5fb4c0c8f956698b443e620",
       "value": false
      }
     },
     "28d9904d689e48798f9241395288cd7e": {
      "model_module": "@jupyter-widgets/controls",
      "model_module_version": "1.2.0",
      "model_name": "DescriptionStyleModel",
      "state": {
       "description_width": ""
      }
     },
     "28f3032b07fe43f78e6fd0eae5d0b988": {
      "model_module": "@jupyter-widgets/base",
      "model_module_version": "1.0.0",
      "model_name": "LayoutModel",
      "state": {}
     },
     "28fef3175b784328ae328a8677b38519": {
      "model_module": "@jupyter-widgets/base",
      "model_module_version": "1.0.0",
      "model_name": "LayoutModel",
      "state": {}
     },
     "290ce2e812b04b9bad3cd36636894e7a": {
      "model_module": "@jupyter-widgets/controls",
      "model_module_version": "1.2.0",
      "model_name": "DescriptionStyleModel",
      "state": {
       "description_width": ""
      }
     },
     "29537318042e49f8aa4410302ef085e8": {
      "model_module": "@jupyter-widgets/controls",
      "model_module_version": "1.2.0",
      "model_name": "ButtonStyleModel",
      "state": {}
     },
     "297f4d5fa5e44e2ea3df0ed732ab44e9": {
      "model_module": "@jupyter-widgets/controls",
      "model_module_version": "1.2.0",
      "model_name": "DescriptionStyleModel",
      "state": {
       "description_width": "initial"
      }
     },
     "298f7c32e9c442f6a0b20cb7a4e94463": {
      "model_module": "@jupyter-widgets/controls",
      "model_module_version": "1.2.0",
      "model_name": "DescriptionStyleModel",
      "state": {
       "description_width": ""
      }
     },
     "29be8235ead8409bb5254abfbdbe78b1": {
      "model_module": "@jupyter-widgets/base",
      "model_module_version": "1.0.0",
      "model_name": "LayoutModel",
      "state": {}
     },
     "29c0981d52dc4055ba6bc7aaa9ca0fb6": {
      "model_module": "@jupyter-widgets/base",
      "model_module_version": "1.0.0",
      "model_name": "LayoutModel",
      "state": {
       "width": "250px"
      }
     },
     "29c18d6e58c04cd984c04a76997badd2": {
      "model_module": "@jupyter-widgets/controls",
      "model_module_version": "1.2.0",
      "model_name": "ButtonModel",
      "state": {
       "description": "Korrekt?",
       "layout": "IPY_MODEL_638a979aa72345ba9c1a7a6566d8f303",
       "style": "IPY_MODEL_3a1b5c71bf264f83b77adc61c46ed3c4"
      }
     },
     "29c56e6127ac43eca1612bc3486f8287": {
      "model_module": "@jupyter-widgets/base",
      "model_module_version": "1.0.0",
      "model_name": "LayoutModel",
      "state": {
       "justify_content": "center"
      }
     },
     "29e48a0c8c634aa2ab92d397621ece06": {
      "model_module": "@jupyter-widgets/controls",
      "model_module_version": "1.2.0",
      "model_name": "DescriptionStyleModel",
      "state": {
       "description_width": "initial"
      }
     },
     "2a0e08d0ce8a4091ad1f0298a39b970c": {
      "model_module": "@jupyter-widgets/base",
      "model_module_version": "1.0.0",
      "model_name": "LayoutModel",
      "state": {
       "width": "250px"
      }
     },
     "2a220a3f09564240984e0ab3188044c4": {
      "model_module": "@jupyter-widgets/controls",
      "model_module_version": "1.2.0",
      "model_name": "DescriptionStyleModel",
      "state": {
       "description_width": "initial"
      }
     },
     "2a41ac1a47e44cc2a099b55d1247a514": {
      "model_module": "@jupyter-widgets/controls",
      "model_module_version": "1.2.0",
      "model_name": "CheckboxModel",
      "state": {
       "description": "mit",
       "disabled": false,
       "layout": "IPY_MODEL_fec1c447b893452f968014c38142951d",
       "style": "IPY_MODEL_aaab04ab17714a55b9a8d1e827f742a1",
       "value": false
      }
     },
     "2a45c7fdfb3e49a18fb35f10a7972658": {
      "model_module": "@jupyter-widgets/base",
      "model_module_version": "1.0.0",
      "model_name": "LayoutModel",
      "state": {
       "width": "250px"
      }
     },
     "2adf38bfdd874074b90debcc66a774f7": {
      "model_module": "@jupyter-widgets/base",
      "model_module_version": "1.0.0",
      "model_name": "LayoutModel",
      "state": {}
     },
     "2af9e3c489094182ac7972c546c74c0d": {
      "model_module": "@jupyter-widgets/controls",
      "model_module_version": "1.2.0",
      "model_name": "HBoxModel",
      "state": {
       "children": [
        "IPY_MODEL_aa650e988b78438c97e854b20a54cbc8",
        "IPY_MODEL_12c65667434b43408bae77ea8df47ecb"
       ],
       "layout": "IPY_MODEL_a0739280ae7443af99a591db566b749a"
      }
     },
     "2b22115018444bb2b8ed7d6dd1fe392d": {
      "model_module": "@jupyter-widgets/controls",
      "model_module_version": "1.2.0",
      "model_name": "HBoxModel",
      "state": {
       "children": [
        "IPY_MODEL_b5293c51117a40c6bf69626443df86f0",
        "IPY_MODEL_1ada4cc942cd4671ada8a35496a68bb1"
       ],
       "layout": "IPY_MODEL_77c8b091fa2347e8b6f1d95127f92072"
      }
     },
     "2b27aa2b5ff04f7f94b8c0df02e31d01": {
      "model_module": "@jupyter-widgets/controls",
      "model_module_version": "1.2.0",
      "model_name": "HTMLModel",
      "state": {
       "layout": "IPY_MODEL_31cc53f2d7ea46e29e1e3c9b3ba04462",
       "style": "IPY_MODEL_bc56cc55cce349b0b4961d0cee0d0571",
       "value": "<h4 style=\"font-size:14px;\">Wieso?</h4>"
      }
     },
     "2b2e947ce4f1467eb230085c80162ff2": {
      "model_module": "@jupyter-widgets/controls",
      "model_module_version": "1.2.0",
      "model_name": "CheckboxModel",
      "state": {
       "description": "fährt",
       "disabled": false,
       "layout": "IPY_MODEL_7418ea0724544f21a984d422985c9507",
       "style": "IPY_MODEL_8c455a9937fc44c490ec40796ab2c9b5",
       "value": false
      }
     },
     "2b3f36dd079b4bfaab6c037c7eb68ed9": {
      "model_module": "@jupyter-widgets/controls",
      "model_module_version": "1.2.0",
      "model_name": "CheckboxModel",
      "state": {
       "description": "Relativierbarkeit (<i>..der Diebstahl, dessen man ihn endlich überführt hat</i>)",
       "disabled": false,
       "layout": "IPY_MODEL_7592fad2b1b14b24bfbf3e32409408aa",
       "style": "IPY_MODEL_6ffb1940a70c419c97baa41fe2bf3b98",
       "value": false
      }
     },
     "2b46c56d092349bd8f1c39ce7f127512": {
      "model_module": "@jupyter-widgets/base",
      "model_module_version": "1.0.0",
      "model_name": "LayoutModel",
      "state": {
       "width": "250px"
      }
     },
     "2b6d9c89448d428ea3b06e96340c2afb": {
      "model_module": "@jupyter-widgets/controls",
      "model_module_version": "1.2.0",
      "model_name": "ButtonStyleModel",
      "state": {}
     },
     "2b6daeebf129418c886c501c48285a7e": {
      "model_module": "@jupyter-widgets/base",
      "model_module_version": "1.0.0",
      "model_name": "LayoutModel",
      "state": {}
     },
     "2b7ff8e02abc4dd2bcb559e0ccc8e582": {
      "model_module": "@jupyter-widgets/controls",
      "model_module_version": "1.2.0",
      "model_name": "ButtonModel",
      "state": {
       "description": "pcomp",
       "layout": "IPY_MODEL_e4f3a29e81664c66a6754dee19a692cf",
       "style": "IPY_MODEL_70d9988fa2504b6790cdbdd72318e520"
      }
     },
     "2b8b193656194473bf7d608b0ad42c8b": {
      "model_module": "@jupyter-widgets/base",
      "model_module_version": "1.0.0",
      "model_name": "LayoutModel",
      "state": {}
     },
     "2b8d27f56a5845b79bfdc8f1fd6627a0": {
      "model_module": "@jupyter-widgets/controls",
      "model_module_version": "1.2.0",
      "model_name": "HBoxModel",
      "state": {
       "children": [
        "IPY_MODEL_6021abde60334404a585dbf07ddcd1ed",
        "IPY_MODEL_0c953547f5e7493cbc6b7380b87e9c4b"
       ],
       "layout": "IPY_MODEL_3e1ccaba030e4e7493ae742402985433"
      }
     },
     "2b8d39d783bb49139a0642843dc1d710": {
      "model_module": "@jupyter-widgets/controls",
      "model_module_version": "1.2.0",
      "model_name": "ButtonStyleModel",
      "state": {}
     },
     "2b92d3ec9aa44d2aa25c8142f753092b": {
      "model_module": "@jupyter-widgets/controls",
      "model_module_version": "1.2.0",
      "model_name": "ButtonStyleModel",
      "state": {}
     },
     "2bbf3906e6064f99b0c016bc9e17866a": {
      "model_module": "@jupyter-widgets/controls",
      "model_module_version": "1.2.0",
      "model_name": "DescriptionStyleModel",
      "state": {
       "description_width": ""
      }
     },
     "2c1900617c6f4dbeb94396de981858ea": {
      "model_module": "@jupyter-widgets/controls",
      "model_module_version": "1.2.0",
      "model_name": "ButtonModel",
      "state": {
       "description": "attributiver Relativsatz",
       "layout": "IPY_MODEL_2b46c56d092349bd8f1c39ce7f127512",
       "style": "IPY_MODEL_967a541e9c8b449dbc5c7a03532298ba"
      }
     },
     "2c1a85208b88472faee57e3f1cd8f204": {
      "model_module": "@jupyter-widgets/base",
      "model_module_version": "1.0.0",
      "model_name": "LayoutModel",
      "state": {
       "justify_content": "center"
      }
     },
     "2c1b4285adda470d93b1ab228cf28658": {
      "model_module": "@jupyter-widgets/controls",
      "model_module_version": "1.2.0",
      "model_name": "DescriptionStyleModel",
      "state": {
       "description_width": "initial"
      }
     },
     "2c20b852cd1d4890b1984e697fb0505f": {
      "model_module": "@jupyter-widgets/controls",
      "model_module_version": "1.2.0",
      "model_name": "CheckboxModel",
      "state": {
       "description": "Adverbialsatz-Test",
       "disabled": false,
       "layout": "IPY_MODEL_cc791594ae0a4915a5fff9f44cdb7e00",
       "style": "IPY_MODEL_49c9b8a7041f4884ad2198901ea6c0ce",
       "value": false
      }
     },
     "2c26ccc582c648f78db431da7d523121": {
      "model_module": "@jupyter-widgets/controls",
      "model_module_version": "1.2.0",
      "model_name": "CheckboxModel",
      "state": {
       "description": "der S-Bahn",
       "disabled": false,
       "layout": "IPY_MODEL_e71cdb7a94574ccbb3199b6fd517a574",
       "style": "IPY_MODEL_f4331f014c0f421eb464f950e8087623",
       "value": false
      }
     },
     "2c4376030f6f44eda77388373637b622": {
      "model_module": "@jupyter-widgets/controls",
      "model_module_version": "1.2.0",
      "model_name": "DescriptionStyleModel",
      "state": {
       "description_width": ""
      }
     },
     "2c44c87798714973a369b1601b0c260d": {
      "model_module": "@jupyter-widgets/controls",
      "model_module_version": "1.2.0",
      "model_name": "DropdownModel",
      "state": {
       "_options_labels": [
        "Dependenz",
        "Valenz",
        " "
       ],
       "index": 2,
       "layout": "IPY_MODEL_d4b85286e7da410fa3cb21c9a0ab76d6",
       "style": "IPY_MODEL_671c50395c8b434bb48f08ed5d5af6a5"
      }
     },
     "2c58896b56e94a5ea9ad726abd2d8bbd": {
      "model_module": "@jupyter-widgets/controls",
      "model_module_version": "1.2.0",
      "model_name": "DescriptionStyleModel",
      "state": {
       "description_width": "initial"
      }
     },
     "2c870d596abf4f73b0003df618b0627a": {
      "model_module": "@jupyter-widgets/base",
      "model_module_version": "1.0.0",
      "model_name": "LayoutModel",
      "state": {
       "width": "250px"
      }
     },
     "2cc2cda8f4524ca99394037ffbaff2db": {
      "model_module": "@jupyter-widgets/controls",
      "model_module_version": "1.2.0",
      "model_name": "ButtonModel",
      "state": {
       "description": "obl",
       "layout": "IPY_MODEL_e39ff6570757468282b8e165f15747b8",
       "style": "IPY_MODEL_f477e6e31e7a40e080eb658c1ce51a73"
      }
     },
     "2ccad852c4c643b28484c783cc2429ea": {
      "model_module": "@jupyter-widgets/controls",
      "model_module_version": "1.2.0",
      "model_name": "CheckboxModel",
      "state": {
       "description": "Agenseigenschaften",
       "disabled": false,
       "layout": "IPY_MODEL_347437ae1dbc4f9993da221d7a356355",
       "style": "IPY_MODEL_902a0425ec404aa789baa1ce25e5b95c",
       "value": false
      }
     },
     "2ce1739f87c24f69bdbe0027d320e53c": {
      "model_module": "@jupyter-widgets/controls",
      "model_module_version": "1.2.0",
      "model_name": "ButtonModel",
      "state": {
       "description": "det",
       "layout": "IPY_MODEL_acc2ef1737bf4196ade27a2700b86492",
       "style": "IPY_MODEL_0e779d6c4dc6489888a4ebb9424b24a6"
      }
     },
     "2ce7ae065ae44a63baf60f815bf3307a": {
      "model_module": "@jupyter-widgets/base",
      "model_module_version": "1.0.0",
      "model_name": "LayoutModel",
      "state": {
       "width": "600px"
      }
     },
     "2ce9df7a11424f7f8b6ca542e3e0ea35": {
      "model_module": "@jupyter-widgets/controls",
      "model_module_version": "1.2.0",
      "model_name": "DescriptionStyleModel",
      "state": {
       "description_width": ""
      }
     },
     "2d49d091e5d3421a90469c53ac4f9756": {
      "model_module": "@jupyter-widgets/base",
      "model_module_version": "1.0.0",
      "model_name": "LayoutModel",
      "state": {}
     },
     "2d8567aa0f8a4f229b3169390046112b": {
      "model_module": "@jupyter-widgets/controls",
      "model_module_version": "1.2.0",
      "model_name": "ButtonModel",
      "state": {
       "description": "nummod",
       "layout": "IPY_MODEL_2262f09ef60445298f497c43ea17bb79",
       "style": "IPY_MODEL_d64d1511098540029972a76ae2eb7587"
      }
     },
     "2da712de440d45708741f7376fb6063f": {
      "model_module": "@jupyter-widgets/base",
      "model_module_version": "1.0.0",
      "model_name": "LayoutModel",
      "state": {
       "justify_content": "center"
      }
     },
     "2db5b8d26e24464dbceff387b8fa85b2": {
      "model_module": "@jupyter-widgets/controls",
      "model_module_version": "1.2.0",
      "model_name": "VBoxModel",
      "state": {
       "children": [
        "IPY_MODEL_df1b48eb675842afb4447582b5532e12",
        "IPY_MODEL_6fc54f1709674a0c93617debc8f55ef5",
        "IPY_MODEL_64ff5b3f654f4a7da5b24377bd8dc5dc",
        "IPY_MODEL_b8f883fc77184a0199d705e5f4335dc8"
       ],
       "layout": "IPY_MODEL_237a3cec802e4469b5b554edf30bae1c"
      }
     },
     "2df49234348841c3ab9e2ce2c245f0ec": {
      "model_module": "@jupyter-widgets/controls",
      "model_module_version": "1.2.0",
      "model_name": "DescriptionStyleModel",
      "state": {
       "description_width": "initial"
      }
     },
     "2ece03a760834181aadf574bb9bf7186": {
      "model_module": "@jupyter-widgets/controls",
      "model_module_version": "1.2.0",
      "model_name": "CheckboxModel",
      "state": {
       "description": "geschehen-Test",
       "disabled": false,
       "layout": "IPY_MODEL_37bbbc0ed32f43d0866d12cc8f9432b5",
       "style": "IPY_MODEL_9445b52bf0d34b74b378c483f3790422",
       "value": false
      }
     },
     "2f026288bfd548ce93d0bf146d2fd33c": {
      "model_module": "@jupyter-widgets/base",
      "model_module_version": "1.0.0",
      "model_name": "LayoutModel",
      "state": {}
     },
     "2f0ffbab79264a93b8b693ddb9c27585": {
      "model_module": "@jupyter-widgets/controls",
      "model_module_version": "1.2.0",
      "model_name": "CheckboxModel",
      "state": {
       "description": "steht im Nominativ",
       "disabled": false,
       "layout": "IPY_MODEL_fddc39da391b4c418e95933c9dce6d28",
       "style": "IPY_MODEL_478cd4000a4d4e35a8145804032549b9",
       "value": false
      }
     },
     "2f3e5fcf3183409191ae78ea03b07610": {
      "model_module": "@jupyter-widgets/controls",
      "model_module_version": "1.2.0",
      "model_name": "HBoxModel",
      "state": {
       "children": [
        "IPY_MODEL_5afd44ead31047ae9fa8161e9ea79859",
        "IPY_MODEL_a8cb451c40aa409b9ce30982f7d331f9"
       ],
       "layout": "IPY_MODEL_aa0030ed6d514a2f8ae6cc7768fa85b4"
      }
     },
     "2f71ed9f9bd9442eaa0970d3c167c0a8": {
      "model_module": "@jupyter-widgets/controls",
      "model_module_version": "1.2.0",
      "model_name": "HBoxModel",
      "state": {
       "children": [
        "IPY_MODEL_338c5e39f3e3428b8ebbe7844176d8c4",
        "IPY_MODEL_8a7dad0bce724c9a920be70f231ac1cb"
       ],
       "layout": "IPY_MODEL_870b441fd1334240a6803ade6db8e052"
      }
     },
     "2faed94c4f0a412ca5149c958c400e51": {
      "model_module": "@jupyter-widgets/controls",
      "model_module_version": "1.2.0",
      "model_name": "ButtonStyleModel",
      "state": {}
     },
     "2fb89aada5b149128c025cfe3babccf1": {
      "model_module": "@jupyter-widgets/base",
      "model_module_version": "1.0.0",
      "model_name": "LayoutModel",
      "state": {
       "width": "600px"
      }
     },
     "2fc28100577e4e148c3e4e0e5e571f97": {
      "model_module": "@jupyter-widgets/base",
      "model_module_version": "1.0.0",
      "model_name": "LayoutModel",
      "state": {}
     },
     "30548d9283cb4481b00f0f09fc217367": {
      "model_module": "@jupyter-widgets/controls",
      "model_module_version": "1.2.0",
      "model_name": "HBoxModel",
      "state": {
       "children": [
        "IPY_MODEL_e4defb0c17d14805a681bcc9fcc3268e",
        "IPY_MODEL_3d73bd6df5ff4ca8bc376913c0b960db"
       ],
       "layout": "IPY_MODEL_d24562d1193c4f1c81d7ac1ea45c0223"
      }
     },
     "306e88c97c6045ccb900d0f5dbcd3990": {
      "model_module": "@jupyter-widgets/controls",
      "model_module_version": "1.2.0",
      "model_name": "HTMLModel",
      "state": {
       "layout": "IPY_MODEL_a895263fbb8b4257801bfc375068cde0",
       "style": "IPY_MODEL_81a264d1730a4715975b76287b6e866a",
       "value": "<i>Markieren Sie <ins>alle</ins> passenden Antworten: </i>"
      }
     },
     "30c5abfa63374066a2d9b79ab81f5a84": {
      "model_module": "@jupyter-widgets/controls",
      "model_module_version": "1.2.0",
      "model_name": "HTMLModel",
      "state": {
       "layout": "IPY_MODEL_76010252c1744924a2f108c1b32218ae",
       "style": "IPY_MODEL_f54ccf32f6944ff3b4366dad72cb6d9d",
       "value": "<i>Markieren Sie <ins>alle</ins> passenden Antworten: </i>"
      }
     },
     "30d9054da69d4d7089436d7693a585ae": {
      "model_module": "@jupyter-widgets/controls",
      "model_module_version": "1.2.0",
      "model_name": "CheckboxModel",
      "state": {
       "description": "die",
       "disabled": false,
       "layout": "IPY_MODEL_e013cea5a43b4fea8defad3fdffbf153",
       "style": "IPY_MODEL_aed5ad1ac3e545e0bd7d7814ff2473e5",
       "value": false
      }
     },
     "30eba2322c774655a43bcfbab0571873": {
      "model_module": "@jupyter-widgets/base",
      "model_module_version": "1.0.0",
      "model_name": "LayoutModel",
      "state": {
       "width": "250px"
      }
     },
     "30ef48615f4046058b48eac74413e2be": {
      "model_module": "@jupyter-widgets/controls",
      "model_module_version": "1.2.0",
      "model_name": "ButtonModel",
      "state": {
       "description": "präpositionales Attribut",
       "layout": "IPY_MODEL_7ec8d1556939437eb0e4d31318d930fe",
       "style": "IPY_MODEL_6e54d7799f14444b96543ae814b84eba"
      }
     },
     "3121d4c2066d49ae8477641e391361fb": {
      "model_module": "@jupyter-widgets/controls",
      "model_module_version": "1.2.0",
      "model_name": "CheckboxModel",
      "state": {
       "description": "Genitivmarkierung",
       "disabled": false,
       "layout": "IPY_MODEL_71a9689eeae34592805d266169bbd162",
       "style": "IPY_MODEL_1bf31299c0c24aab85a5c66f8999d1c7",
       "value": false
      }
     },
     "313093680b714b789fc7f56e15ccc4da": {
      "model_module": "@jupyter-widgets/controls",
      "model_module_version": "1.2.0",
      "model_name": "HTMLModel",
      "state": {
       "layout": "IPY_MODEL_33e2f8c5e63a4b00bb18bcfbdbbd282a",
       "style": "IPY_MODEL_091cd6c571674d7c8d37a12c37434fa6",
       "value": "<i>Wählen Sie die <ins>eine</ins> korrekte Antwort aus: </i>"
      }
     },
     "3137e432bab2424191622de587e7119e": {
      "model_module": "@jupyter-widgets/base",
      "model_module_version": "1.0.0",
      "model_name": "LayoutModel",
      "state": {
       "align_content": "stretch",
       "align_items": "stretch",
       "display": "inline-flex",
       "flex": "flex-grow",
       "flex_flow": "row wrap",
       "justify_content": "flex-start"
      }
     },
     "3145cbd3a6e8479e836287450f6dd903": {
      "model_module": "@jupyter-widgets/controls",
      "model_module_version": "1.2.0",
      "model_name": "ButtonModel",
      "state": {
       "description": "Keine",
       "layout": "IPY_MODEL_0c117d6c0e5945bcb07b99e6f59df3e6",
       "style": "IPY_MODEL_b26c01e022724f33b12dbaeac326a16e"
      }
     },
     "31a4edbad82140ad99ec6f53c9c3880e": {
      "model_module": "@jupyter-widgets/controls",
      "model_module_version": "1.2.0",
      "model_name": "ButtonStyleModel",
      "state": {}
     },
     "31bd48db75594475bc2cf30b41f8887c": {
      "model_module": "@jupyter-widgets/base",
      "model_module_version": "1.0.0",
      "model_name": "LayoutModel",
      "state": {}
     },
     "31cc53f2d7ea46e29e1e3c9b3ba04462": {
      "model_module": "@jupyter-widgets/base",
      "model_module_version": "1.0.0",
      "model_name": "LayoutModel",
      "state": {}
     },
     "31e67ff01afe4ff5b2daaf994669da79": {
      "model_module": "@jupyter-widgets/controls",
      "model_module_version": "1.2.0",
      "model_name": "DescriptionStyleModel",
      "state": {
       "description_width": ""
      }
     },
     "31f5caf0de5c42cd806ed8ff7b9bfbfe": {
      "model_module": "@jupyter-widgets/controls",
      "model_module_version": "1.2.0",
      "model_name": "ButtonModel",
      "state": {
       "description": "Keine",
       "layout": "IPY_MODEL_8e0df05340ee4df38aab13a9d22be399",
       "style": "IPY_MODEL_73e5405a5d1a4a4e9ffb2420789aefb6"
      }
     },
     "3207c67e6e0f4db0af21ca8691a9ce70": {
      "model_module": "@jupyter-widgets/base",
      "model_module_version": "1.0.0",
      "model_name": "LayoutModel",
      "state": {
       "width": "250px"
      }
     },
     "3209deade66c4fc1b7223ce96466b877": {
      "model_module": "@jupyter-widgets/controls",
      "model_module_version": "1.2.0",
      "model_name": "DescriptionStyleModel",
      "state": {
       "description_width": ""
      }
     },
     "320ce0f9f2e54a0c851817e2b5adb98f": {
      "model_module": "@jupyter-widgets/controls",
      "model_module_version": "1.2.0",
      "model_name": "ButtonStyleModel",
      "state": {}
     },
     "3243f6523dc84759b9290e8e1e9ea4ea": {
      "model_module": "@jupyter-widgets/controls",
      "model_module_version": "1.2.0",
      "model_name": "CheckboxModel",
      "state": {
       "description": "Kollegin",
       "disabled": false,
       "layout": "IPY_MODEL_98b1e88a68c446d2ba5c005fad969375",
       "style": "IPY_MODEL_1ad6ade07f6c4987b50c5ca83a2cbd20",
       "value": false
      }
     },
     "3256a5da9c794d4896df011801922a11": {
      "model_module": "@jupyter-widgets/controls",
      "model_module_version": "1.2.0",
      "model_name": "HBoxModel",
      "state": {
       "children": [
        "IPY_MODEL_c2fed921c61d40d6a7b18f9f1348a28c",
        "IPY_MODEL_dc87f3a6914646e59a053718cb949621"
       ],
       "layout": "IPY_MODEL_736bfe2c62b8467ebd1e1cfbfca3dc1b"
      }
     },
     "3269620bf82a4fba9ff5622299335eaf": {
      "model_module": "@jupyter-widgets/base",
      "model_module_version": "1.0.0",
      "model_name": "LayoutModel",
      "state": {}
     },
     "328cd0c97364466c9356f54a17824ee7": {
      "model_module": "@jupyter-widgets/controls",
      "model_module_version": "1.2.0",
      "model_name": "CheckboxModel",
      "state": {
       "description": "Es gibt keine.",
       "disabled": false,
       "layout": "IPY_MODEL_8e81210a661f495896012786a8458bc0",
       "style": "IPY_MODEL_c23b7f5a1cb1417ebd332d00349619e1",
       "value": false
      }
     },
     "32b71fb8a9f949568ebddbc3b691d954": {
      "model_module": "@jupyter-widgets/controls",
      "model_module_version": "1.2.0",
      "model_name": "CheckboxModel",
      "state": {
       "description": "zwei",
       "disabled": false,
       "layout": "IPY_MODEL_daab818998d34010ae0c93692e00cc2f",
       "style": "IPY_MODEL_92d48fd3062848f3b70029e838f131f6",
       "value": false
      }
     },
     "33006867ed7e4f6687c7687b28f94909": {
      "model_module": "@jupyter-widgets/controls",
      "model_module_version": "1.2.0",
      "model_name": "DescriptionStyleModel",
      "state": {
       "description_width": "initial"
      }
     },
     "330e9ee2e1d64d7dbf634291c6ca4b3e": {
      "model_module": "@jupyter-widgets/controls",
      "model_module_version": "1.2.0",
      "model_name": "VBoxModel",
      "state": {
       "children": [
        "IPY_MODEL_6c3752f790a14b30ae468f723a8295fc",
        "IPY_MODEL_5abffbfd3b014aac950de7955e9ed5c8",
        "IPY_MODEL_9a059d7f29bc4d4ea7996ea4a86fa81a",
        "IPY_MODEL_8eaaf281104347a6b7f87e6497af12d2"
       ],
       "layout": "IPY_MODEL_67f89c32e2974a64bdc2996e0d41dd81"
      }
     },
     "331c256f93f84b749af73b56130867b8": {
      "model_module": "@jupyter-widgets/controls",
      "model_module_version": "1.2.0",
      "model_name": "HBoxModel",
      "state": {
       "children": [
        "IPY_MODEL_9d7e48351ee14d68ad25338431f624cc",
        "IPY_MODEL_03f562105e8d4db9ae13bd686aa0f96e"
       ],
       "layout": "IPY_MODEL_dc4fd82449ed4af0ac25fd74aa7bff46"
      }
     },
     "3331afb7b6324228849308434ea9dd00": {
      "model_module": "@jupyter-widgets/controls",
      "model_module_version": "1.2.0",
      "model_name": "CheckboxModel",
      "state": {
       "description": "Distanzstellung nur bedingt möglich (<i>..dass man ihn des Diebstahls endlich überführt hat</i>)",
       "disabled": false,
       "layout": "IPY_MODEL_84580ea53afc446f9310f1d456a84178",
       "style": "IPY_MODEL_87f9fd8b17be4740a23c9c23b1aa3d31",
       "value": false
      }
     },
     "3345d803a85048d4a90b0c287c6efa3f": {
      "model_module": "@jupyter-widgets/base",
      "model_module_version": "1.0.0",
      "model_name": "LayoutModel",
      "state": {
       "width": "250px"
      }
     },
     "33491787493a49a9ae573f66fc3e1408": {
      "model_module": "@jupyter-widgets/controls",
      "model_module_version": "1.2.0",
      "model_name": "DescriptionStyleModel",
      "state": {
       "description_width": ""
      }
     },
     "338760e975a9410995551300c99fb637": {
      "model_module": "@jupyter-widgets/controls",
      "model_module_version": "1.2.0",
      "model_name": "DescriptionStyleModel",
      "state": {
       "description_width": "initial"
      }
     },
     "3387d068a6a04c3b8892b8b6e4f9f6f4": {
      "model_module": "@jupyter-widgets/base",
      "model_module_version": "1.0.0",
      "model_name": "LayoutModel",
      "state": {}
     },
     "338c5e39f3e3428b8ebbe7844176d8c4": {
      "model_module": "@jupyter-widgets/controls",
      "model_module_version": "1.2.0",
      "model_name": "ButtonModel",
      "state": {
       "description": "Angabe",
       "layout": "IPY_MODEL_d5dc83de4a3047faaa05c86ffd7c64bd",
       "style": "IPY_MODEL_b1b014ace8df4bafbc17cd54bcf7a050"
      }
     },
     "33a917e8bbd74324aa109244bfe3b2b8": {
      "model_module": "@jupyter-widgets/controls",
      "model_module_version": "1.2.0",
      "model_name": "CheckboxModel",
      "state": {
       "description": "Arbeitsplatz",
       "disabled": false,
       "layout": "IPY_MODEL_9b66f65d2f044431ab84a64221afe21f",
       "style": "IPY_MODEL_c017d4c51123437c8f52e90b85269540",
       "value": false
      }
     },
     "33e2f8c5e63a4b00bb18bcfbdbbd282a": {
      "model_module": "@jupyter-widgets/base",
      "model_module_version": "1.0.0",
      "model_name": "LayoutModel",
      "state": {
       "justify_content": "center"
      }
     },
     "34006e448d964859bc5bc89d3cc42aab": {
      "model_module": "@jupyter-widgets/controls",
      "model_module_version": "1.2.0",
      "model_name": "DescriptionStyleModel",
      "state": {
       "description_width": "initial"
      }
     },
     "340407639ead4b619160caa9c38a9b24": {
      "model_module": "@jupyter-widgets/controls",
      "model_module_version": "1.2.0",
      "model_name": "HBoxModel",
      "state": {
       "children": [
        "IPY_MODEL_2c1900617c6f4dbeb94396de981858ea",
        "IPY_MODEL_30ef48615f4046058b48eac74413e2be"
       ],
       "layout": "IPY_MODEL_c449702dbfb5483d944db3029a12f47d"
      }
     },
     "342993f2ccf74a0291bf334c7beecab2": {
      "model_module": "@jupyter-widgets/controls",
      "model_module_version": "1.2.0",
      "model_name": "VBoxModel",
      "state": {
       "children": [
        "IPY_MODEL_f1c86ee5e3664d8b920f6971da3e4ecf",
        "IPY_MODEL_00742327e8d74121853ef3f130b28095",
        "IPY_MODEL_9b7229d7704b4fe1bf271f5a5f24c52a",
        "IPY_MODEL_77ea073c17434211842e23e4c42f17a4"
       ],
       "layout": "IPY_MODEL_65702f23b8854e87ae8f0689df4eefb1"
      }
     },
     "342b8cc351b14d06a04b686cc6e7eb36": {
      "model_module": "@jupyter-widgets/base",
      "model_module_version": "1.0.0",
      "model_name": "LayoutModel",
      "state": {
       "justify_content": "center"
      }
     },
     "3433664304eb435f882de8bbaa9ca071": {
      "model_module": "@jupyter-widgets/controls",
      "model_module_version": "1.2.0",
      "model_name": "VBoxModel",
      "state": {
       "children": [
        "IPY_MODEL_597561437f9741c7a1697a35da2211fc",
        "IPY_MODEL_0b63129fafef4a4fb50215bae084d071",
        "IPY_MODEL_ab38d25c62174136bd5ec9e4370e0360",
        "IPY_MODEL_aedc0253b4d2441fb0f196bbc1031f92"
       ],
       "layout": "IPY_MODEL_1f98476fe8b446e18ecfa6865ed3739b"
      }
     },
     "347437ae1dbc4f9993da221d7a356355": {
      "model_module": "@jupyter-widgets/base",
      "model_module_version": "1.0.0",
      "model_name": "LayoutModel",
      "state": {
       "width": "600px"
      }
     },
     "34813c7d619a462aa46411e0b5aa74cf": {
      "model_module": "@jupyter-widgets/base",
      "model_module_version": "1.0.0",
      "model_name": "LayoutModel",
      "state": {}
     },
     "34aed96bc59a471e827245cd7d8d1359": {
      "model_module": "@jupyter-widgets/controls",
      "model_module_version": "1.2.0",
      "model_name": "DescriptionStyleModel",
      "state": {
       "description_width": ""
      }
     },
     "3525b0a2a5f04b92ae2348961d0e76ac": {
      "model_module": "@jupyter-widgets/base",
      "model_module_version": "1.0.0",
      "model_name": "LayoutModel",
      "state": {
       "width": "600px"
      }
     },
     "355a86f44ad34d4bb600dffa5057954f": {
      "model_module": "@jupyter-widgets/controls",
      "model_module_version": "1.2.0",
      "model_name": "ButtonModel",
      "state": {
       "description": "case",
       "layout": "IPY_MODEL_aaff5e5a2d424b908d4ecc389e37942b",
       "style": "IPY_MODEL_8fc81b9b36bd42e8ac8cad24f6061b8e"
      }
     },
     "3567111c81764458bcf983e56fef6243": {
      "model_module": "@jupyter-widgets/controls",
      "model_module_version": "1.2.0",
      "model_name": "CheckboxModel",
      "state": {
       "description": "zu",
       "disabled": false,
       "layout": "IPY_MODEL_74bfd37857dc4eb3ad9f630378843bb0",
       "style": "IPY_MODEL_c098e142adb64c1b84936cb044035dbd",
       "value": false
      }
     },
     "357a8ee93f8649c4b0b69885df409dab": {
      "model_module": "@jupyter-widgets/base",
      "model_module_version": "1.0.0",
      "model_name": "LayoutModel",
      "state": {
       "justify_content": "center"
      }
     },
     "3587fa15dfca454fbf862062fc2349fa": {
      "model_module": "@jupyter-widgets/controls",
      "model_module_version": "1.2.0",
      "model_name": "CheckboxModel",
      "state": {
       "description": "Weglassbarkeitstest",
       "disabled": false,
       "layout": "IPY_MODEL_dde2b006e6f34810a3cdb3965c7827a6",
       "style": "IPY_MODEL_dc9030ceb21042f5a21f9dcba9b2e273",
       "value": false
      }
     },
     "359b12b5954445aba597771ab026e47a": {
      "model_module": "@jupyter-widgets/base",
      "model_module_version": "1.0.0",
      "model_name": "LayoutModel",
      "state": {
       "width": "250px"
      }
     },
     "36086c38ba0342a3886f136350f6d16a": {
      "model_module": "@jupyter-widgets/controls",
      "model_module_version": "1.2.0",
      "model_name": "CheckboxModel",
      "state": {
       "description": "austauschbar",
       "disabled": false,
       "layout": "IPY_MODEL_911dd098996a4f97b0aeb07aa2d0f470",
       "style": "IPY_MODEL_e6d3b36b00d84897838a412c2f3dd7de",
       "value": false
      }
     },
     "3622561437204d0782025261737b34ec": {
      "model_module": "@jupyter-widgets/base",
      "model_module_version": "1.0.0",
      "model_name": "LayoutModel",
      "state": {
       "width": "600px"
      }
     },
     "362ebb6c88604dfea3a1f396251ba446": {
      "model_module": "@jupyter-widgets/controls",
      "model_module_version": "1.2.0",
      "model_name": "HTMLModel",
      "state": {
       "layout": "IPY_MODEL_db502dd402f144dab10b5826f983dc78",
       "style": "IPY_MODEL_5fd57d8fbe6041489021ce004503f3b8",
       "value": "<i>Wählen Sie die <ins>eine</ins> korrekte Antwort aus: </i>"
      }
     },
     "3659ea6cbf044400a2adb759eb1db885": {
      "model_module": "@jupyter-widgets/controls",
      "model_module_version": "1.2.0",
      "model_name": "DescriptionStyleModel",
      "state": {
       "description_width": ""
      }
     },
     "369dfd9672b042d38c16184fa3fe719d": {
      "model_module": "@jupyter-widgets/controls",
      "model_module_version": "1.2.0",
      "model_name": "ButtonModel",
      "state": {
       "description": "nmod",
       "layout": "IPY_MODEL_b2a92d783f6b4ce7b894776da1193654",
       "style": "IPY_MODEL_59e6e21f9b384d159d4d781c0e40aa22"
      }
     },
     "369f41dab14b4cc4a8d0f39316ce046d": {
      "model_module": "@jupyter-widgets/controls",
      "model_module_version": "1.2.0",
      "model_name": "ButtonModel",
      "state": {
       "description": "amod",
       "layout": "IPY_MODEL_0e0b52f75023479e80ec762ab83b7919",
       "style": "IPY_MODEL_d9f7460c86874d7fafc96bb4797497d0"
      }
     },
     "36dc56651f1e4b808b0b12acf5eb1860": {
      "model_module": "@jupyter-widgets/base",
      "model_module_version": "1.0.0",
      "model_name": "LayoutModel",
      "state": {
       "width": "600px"
      }
     },
     "3709ef4034164f54ad6f367c42dc3cc8": {
      "model_module": "@jupyter-widgets/controls",
      "model_module_version": "1.2.0",
      "model_name": "VBoxModel",
      "state": {
       "children": [
        "IPY_MODEL_86d6a4782d024b01952aa24f055d530e",
        "IPY_MODEL_1a39c63a7a0245f9bc59615e4257236e",
        "IPY_MODEL_85acae338a424cac8dec78195820cf44",
        "IPY_MODEL_a9e2a74ae07e4b2085a8ca8e9c6aed02",
        "IPY_MODEL_9ea19432d7734900983f7341de4d6e19"
       ],
       "layout": "IPY_MODEL_ff3f6849f0b14d80ad38739de3f348eb"
      }
     },
     "37214007cdbe479f84e5afdd43a4e516": {
      "model_module": "@jupyter-widgets/base",
      "model_module_version": "1.0.0",
      "model_name": "LayoutModel",
      "state": {
       "width": "600px"
      }
     },
     "3745f41c7a4046bd9516ccef2f43d793": {
      "model_module": "@jupyter-widgets/controls",
      "model_module_version": "1.2.0",
      "model_name": "CheckboxModel",
      "state": {
       "description": "Es gibt keine.",
       "disabled": false,
       "layout": "IPY_MODEL_fec2fca4dbd44b66a6ac14f53b07cc06",
       "style": "IPY_MODEL_f28b64fa07544efbbbb42d61faa29958",
       "value": false
      }
     },
     "375e9ed501c1484685e68eb35626e0e6": {
      "model_module": "@jupyter-widgets/controls",
      "model_module_version": "1.2.0",
      "model_name": "DescriptionStyleModel",
      "state": {
       "description_width": ""
      }
     },
     "37830e23cba74fbbbab4a9e71ff890bb": {
      "model_module": "@jupyter-widgets/controls",
      "model_module_version": "1.2.0",
      "model_name": "CheckboxModel",
      "state": {
       "description": "älteren",
       "disabled": false,
       "layout": "IPY_MODEL_5fdc1f80288d409181dfd8d1201fd99d",
       "style": "IPY_MODEL_5a0ab1f7a341475098239c6192406fb7",
       "value": false
      }
     },
     "379a88afd0e24a669c944c83b0307363": {
      "model_module": "@jupyter-widgets/base",
      "model_module_version": "1.0.0",
      "model_name": "LayoutModel",
      "state": {}
     },
     "37b9680a20884d1b9922428ef41e1dde": {
      "model_module": "@jupyter-widgets/base",
      "model_module_version": "1.0.0",
      "model_name": "LayoutModel",
      "state": {}
     },
     "37bbbc0ed32f43d0866d12cc8f9432b5": {
      "model_module": "@jupyter-widgets/base",
      "model_module_version": "1.0.0",
      "model_name": "LayoutModel",
      "state": {
       "width": "600px"
      }
     },
     "37e609ca492544489056ded08a375f48": {
      "model_module": "@jupyter-widgets/base",
      "model_module_version": "1.0.0",
      "model_name": "LayoutModel",
      "state": {
       "justify_content": "center"
      }
     },
     "37f39636a6184758b8c90361bc83f6c5": {
      "model_module": "@jupyter-widgets/controls",
      "model_module_version": "1.2.0",
      "model_name": "HTMLModel",
      "state": {
       "layout": "IPY_MODEL_78e7fbac7e89481daa482c7980117bcb",
       "style": "IPY_MODEL_9a42d90139b44b5099fb74e31ff3534d",
       "value": "<i>Markieren Sie <ins>alle</ins> passenden Antworten: </i>"
      }
     },
     "38407d6a73814127866c595e1527fcb0": {
      "model_module": "@jupyter-widgets/base",
      "model_module_version": "1.0.0",
      "model_name": "LayoutModel",
      "state": {
       "justify_content": "center"
      }
     },
     "3845477382464e87972dda3439429969": {
      "model_module": "@jupyter-widgets/controls",
      "model_module_version": "1.2.0",
      "model_name": "ButtonModel",
      "state": {
       "description": "Korrekt?",
       "layout": "IPY_MODEL_614cfc96bbe64a58a68975f5ec06f08e",
       "style": "IPY_MODEL_4a6bc88c48454e8d8704d5c0827ca9f7"
      }
     },
     "386439e9ccec4666b0c3f3c8ecfd35c3": {
      "model_module": "@jupyter-widgets/controls",
      "model_module_version": "1.2.0",
      "model_name": "VBoxModel",
      "state": {
       "children": [
        "IPY_MODEL_608e8cbd77b649748e2e547eb5be92e8",
        "IPY_MODEL_2c26ccc582c648f78db431da7d523121",
        "IPY_MODEL_e3279cfa1aa94e499e10f6d724799ebc",
        "IPY_MODEL_f8a59868839b4df5b33bc6f51bef2582",
        "IPY_MODEL_e8504c90344048abbb92fa7d92071cd9",
        "IPY_MODEL_4a97da4c4ad34912b452547f6227e0b3",
        "IPY_MODEL_3927eb1641214061a7c78c8efe658c35"
       ],
       "layout": "IPY_MODEL_9cb1132092024c5cb59475db8f098584"
      }
     },
     "3870c90576034ad281d6fd977c285bf5": {
      "model_module": "@jupyter-widgets/controls",
      "model_module_version": "1.2.0",
      "model_name": "HBoxModel",
      "state": {
       "children": [
        "IPY_MODEL_a110b2f11f5b4ccca59eb8862851e8bd",
        "IPY_MODEL_042f6804d4af4b5097c61db4302b714e"
       ],
       "layout": "IPY_MODEL_5ae3c1cfa65f472eb0a9eb8f73213b80"
      }
     },
     "38877b74bec04a55a71e6666ace2ee63": {
      "model_module": "@jupyter-widgets/controls",
      "model_module_version": "1.2.0",
      "model_name": "ButtonModel",
      "state": {
       "description": "nsubj",
       "layout": "IPY_MODEL_2269d00c905342c897a0bc8fc0bc4e48",
       "style": "IPY_MODEL_3b2a4ad2c602440786b2012ee26a3fdd"
      }
     },
     "388c43adbbf345b0afbcbf66cfc04f95": {
      "model_module": "@jupyter-widgets/controls",
      "model_module_version": "1.2.0",
      "model_name": "HTMLModel",
      "state": {
       "layout": "IPY_MODEL_118559c6f98040c0a6211179ad626eff",
       "style": "IPY_MODEL_3d3609ae5f774e81953344e88d139771",
       "value": "<i>Markieren Sie <ins>alle</ins> passenden Antworten: </i>"
      }
     },
     "38c3166fdbe8452baab21597d6449470": {
      "model_module": "@jupyter-widgets/base",
      "model_module_version": "1.0.0",
      "model_name": "LayoutModel",
      "state": {
       "align_content": "stretch",
       "align_items": "stretch",
       "display": "inline-flex",
       "flex": "flex-grow",
       "flex_flow": "row wrap",
       "justify_content": "flex-start"
      }
     },
     "38e4919c0641412ca7f24ea09e029541": {
      "model_module": "@jupyter-widgets/base",
      "model_module_version": "1.0.0",
      "model_name": "LayoutModel",
      "state": {}
     },
     "390be4834c3a4347bfa6916a39bf82b8": {
      "model_module": "@jupyter-widgets/base",
      "model_module_version": "1.0.0",
      "model_name": "LayoutModel",
      "state": {}
     },
     "3927eb1641214061a7c78c8efe658c35": {
      "model_module": "@jupyter-widgets/controls",
      "model_module_version": "1.2.0",
      "model_name": "CheckboxModel",
      "state": {
       "description": "zu ihrem neuen Arbeitsplatz",
       "disabled": false,
       "layout": "IPY_MODEL_5554803b66424ea398fc80930e59bff5",
       "style": "IPY_MODEL_8d415339b3b74cd3bec47f93dfa27408",
       "value": false
      }
     },
     "39296cdd939c444e8c818b832665c7c3": {
      "model_module": "@jupyter-widgets/controls",
      "model_module_version": "1.2.0",
      "model_name": "ButtonStyleModel",
      "state": {}
     },
     "393a0ed7938b40dba190449899712a56": {
      "model_module": "@jupyter-widgets/base",
      "model_module_version": "1.0.0",
      "model_name": "LayoutModel",
      "state": {}
     },
     "393e8079216b44c2b9a4e2622e667309": {
      "model_module": "@jupyter-widgets/controls",
      "model_module_version": "1.2.0",
      "model_name": "HTMLModel",
      "state": {
       "layout": "IPY_MODEL_39a6f61b5cca4ee0904866b9490ede23",
       "style": "IPY_MODEL_3deeea4618004539802fd9ec4aa3a4d7",
       "value": "<i>Markieren Sie <ins>alle</ins> passenden Antworten: </i>"
      }
     },
     "394be6af2ff74038899421f573768e89": {
      "model_module": "@jupyter-widgets/controls",
      "model_module_version": "1.2.0",
      "model_name": "HTMLModel",
      "state": {
       "layout": "IPY_MODEL_3c33cab3b76d42aa9deb4ff4d2160ef5",
       "style": "IPY_MODEL_34aed96bc59a471e827245cd7d8d1359",
       "value": "<i>Wählen Sie die <ins>eine</ins> korrekte Antwort aus: </i>"
      }
     },
     "39556ee38de441a78a6248cdb348390d": {
      "model_module": "@jupyter-widgets/controls",
      "model_module_version": "1.2.0",
      "model_name": "VBoxModel",
      "state": {
       "children": [
        "IPY_MODEL_e831896a95374fc1a7e12829147a841a",
        "IPY_MODEL_a6d49653a0314fcf851986349b8ec6e7",
        "IPY_MODEL_f372e3d290214fd488ffabb9808bb5c5"
       ],
       "layout": "IPY_MODEL_9a8bbb5caad44c0cb420d58d42f83336"
      }
     },
     "395cfac7220a42888caf9159fa0b8aa1": {
      "model_module": "@jupyter-widgets/controls",
      "model_module_version": "1.2.0",
      "model_name": "DescriptionStyleModel",
      "state": {
       "description_width": "initial"
      }
     },
     "395d4ae6494b4595a4621b575c16d88b": {
      "model_module": "@jupyter-widgets/base",
      "model_module_version": "1.0.0",
      "model_name": "LayoutModel",
      "state": {}
     },
     "3965aa29b5b94b9c9b4a6c31eb163ffc": {
      "model_module": "@jupyter-widgets/base",
      "model_module_version": "1.0.0",
      "model_name": "LayoutModel",
      "state": {
       "width": "600px"
      }
     },
     "396d0b2b5e1b419ebef83724610a1b7e": {
      "model_module": "@jupyter-widgets/controls",
      "model_module_version": "1.2.0",
      "model_name": "ButtonStyleModel",
      "state": {}
     },
     "397e4493f3524825b5274ea8ea4ebeb2": {
      "model_module": "@jupyter-widgets/controls",
      "model_module_version": "1.2.0",
      "model_name": "ButtonStyleModel",
      "state": {}
     },
     "39a6f61b5cca4ee0904866b9490ede23": {
      "model_module": "@jupyter-widgets/base",
      "model_module_version": "1.0.0",
      "model_name": "LayoutModel",
      "state": {
       "justify_content": "center"
      }
     },
     "39a9c0687bcf49d1b601e0c6219de674": {
      "model_module": "@jupyter-widgets/controls",
      "model_module_version": "1.2.0",
      "model_name": "ButtonStyleModel",
      "state": {}
     },
     "39b25e8669014f6988382a492bcefce8": {
      "model_module": "@jupyter-widgets/controls",
      "model_module_version": "1.2.0",
      "model_name": "DescriptionStyleModel",
      "state": {
       "description_width": "initial"
      }
     },
     "39bb95fc91b5463ea4212c1c09289c9a": {
      "model_module": "@jupyter-widgets/controls",
      "model_module_version": "1.2.0",
      "model_name": "ButtonStyleModel",
      "state": {}
     },
     "39c4aa52ffc14e58b0a4df9afe9d6ba7": {
      "model_module": "@jupyter-widgets/controls",
      "model_module_version": "1.2.0",
      "model_name": "HTMLModel",
      "state": {
       "layout": "IPY_MODEL_f7e0302efd0647b2bebc08b21fe78fb6",
       "style": "IPY_MODEL_b7af952376724498a792abae3f5ac907",
       "value": "<h4 style=\"font-size:14px;\">Markieren Sie alle direkten Dependenten des Wortes <i> Kollegin </i>.</h4>"
      }
     },
     "39ccf7785b274a21991b2dac74361a67": {
      "model_module": "@jupyter-widgets/base",
      "model_module_version": "1.0.0",
      "model_name": "LayoutModel",
      "state": {
       "width": "600px"
      }
     },
     "39da34b3bb664495bc39de48a110df16": {
      "model_module": "@jupyter-widgets/base",
      "model_module_version": "1.0.0",
      "model_name": "LayoutModel",
      "state": {
       "width": "250px"
      }
     },
     "3a0abbce984344e08480384e383448c2": {
      "model_module": "@jupyter-widgets/base",
      "model_module_version": "1.0.0",
      "model_name": "LayoutModel",
      "state": {}
     },
     "3a1b5c71bf264f83b77adc61c46ed3c4": {
      "model_module": "@jupyter-widgets/controls",
      "model_module_version": "1.2.0",
      "model_name": "ButtonStyleModel",
      "state": {}
     },
     "3a30082df52e42f18d880cfec69d30da": {
      "model_module": "@jupyter-widgets/controls",
      "model_module_version": "1.2.0",
      "model_name": "ButtonStyleModel",
      "state": {}
     },
     "3a94c4e332434e028846853a572da73d": {
      "model_module": "@jupyter-widgets/controls",
      "model_module_version": "1.2.0",
      "model_name": "VBoxModel",
      "state": {
       "children": [
        "IPY_MODEL_06e285cde1c74003a1e6613212e0a222",
        "IPY_MODEL_3587fa15dfca454fbf862062fc2349fa",
        "IPY_MODEL_217d88d4976b4c17a9deb0d9bbb991d4"
       ],
       "layout": "IPY_MODEL_17f904e9ec05463882eb86195990aabc"
      }
     },
     "3af032a662b946f4bed6982c44a11ffa": {
      "model_module": "@jupyter-widgets/controls",
      "model_module_version": "1.2.0",
      "model_name": "VBoxModel",
      "state": {
       "children": [
        "IPY_MODEL_b139e5c71b7c42f187eb7e4129973d90",
        "IPY_MODEL_22d8c1854fd94559b78d3a22f2d6e5d2",
        "IPY_MODEL_7cad8181dbe14fd383a591528a1209fa",
        "IPY_MODEL_f59f102f69b040ef8f91fd9cedd5c19a",
        "IPY_MODEL_2b8d27f56a5845b79bfdc8f1fd6627a0",
        "IPY_MODEL_cf3ca607170a4669bf0d63dc8ff8fbc7"
       ],
       "layout": "IPY_MODEL_0e4814d8cbe143ae9ece1b5b75c5c259"
      }
     },
     "3b25abb9f39d4f3ea25e7bed0623c370": {
      "model_module": "@jupyter-widgets/controls",
      "model_module_version": "1.2.0",
      "model_name": "DescriptionStyleModel",
      "state": {
       "description_width": "initial"
      }
     },
     "3b2a4ad2c602440786b2012ee26a3fdd": {
      "model_module": "@jupyter-widgets/controls",
      "model_module_version": "1.2.0",
      "model_name": "ButtonStyleModel",
      "state": {}
     },
     "3b525838cc5e4d63a5919d0b5c6b9623": {
      "model_module": "@jupyter-widgets/controls",
      "model_module_version": "1.2.0",
      "model_name": "ButtonModel",
      "state": {
       "description": "det",
       "layout": "IPY_MODEL_8c8e15c19baa42f9817530b77812504d",
       "style": "IPY_MODEL_262a9429b06c46439c30512835c0ed68"
      }
     },
     "3b958d0785694a46a93e1fae5b88bce4": {
      "model_module": "@jupyter-widgets/controls",
      "model_module_version": "1.2.0",
      "model_name": "HBoxModel",
      "state": {
       "children": [
        "IPY_MODEL_a44747bbf7b1461d8c84d84ac8b08bbe",
        "IPY_MODEL_692a48039d1c4c6ba8886c9300dc1031"
       ],
       "layout": "IPY_MODEL_b99b5df5d48b4d499852465fcb51a04a"
      }
     },
     "3bd123cce9fa4d329661314b611da026": {
      "model_module": "@jupyter-widgets/controls",
      "model_module_version": "1.2.0",
      "model_name": "HTMLModel",
      "state": {
       "layout": "IPY_MODEL_90aabcc6386b466fb23a36e825e63595",
       "style": "IPY_MODEL_b31d1060560240ce915de84ac9ab7c3c",
       "value": "<h4 style=\"font-size:14px;\">Bei</h4>"
      }
     },
     "3bddc965471b440586e4436b6143d3c9": {
      "model_module": "@jupyter-widgets/controls",
      "model_module_version": "1.2.0",
      "model_name": "CheckboxModel",
      "state": {
       "description": "neuen",
       "disabled": false,
       "layout": "IPY_MODEL_be156e7bc60c419fa811f352a0e455fa",
       "style": "IPY_MODEL_ade6ac7cc0744eef9620b6f694011067",
       "value": false
      }
     },
     "3bee1807cbdc4f0f8dd124acf7756398": {
      "model_module": "@jupyter-widgets/controls",
      "model_module_version": "1.2.0",
      "model_name": "DescriptionStyleModel",
      "state": {
       "description_width": "initial"
      }
     },
     "3c1d8d7bed5e49ab957ecf8e0ff1c493": {
      "model_module": "@jupyter-widgets/controls",
      "model_module_version": "1.2.0",
      "model_name": "DescriptionStyleModel",
      "state": {
       "description_width": ""
      }
     },
     "3c33cab3b76d42aa9deb4ff4d2160ef5": {
      "model_module": "@jupyter-widgets/base",
      "model_module_version": "1.0.0",
      "model_name": "LayoutModel",
      "state": {
       "justify_content": "center"
      }
     },
     "3c43ba30679448349485d2ecad89d2b9": {
      "model_module": "@jupyter-widgets/controls",
      "model_module_version": "1.2.0",
      "model_name": "ButtonStyleModel",
      "state": {}
     },
     "3c999be9c9824d22a41aacacf3be5c13": {
      "model_module": "@jupyter-widgets/controls",
      "model_module_version": "1.2.0",
      "model_name": "ButtonStyleModel",
      "state": {}
     },
     "3ca52b8a5a754cd29be720810b58d944": {
      "model_module": "@jupyter-widgets/controls",
      "model_module_version": "1.2.0",
      "model_name": "CheckboxModel",
      "state": {
       "description": "zu",
       "disabled": false,
       "layout": "IPY_MODEL_5bf12cca9ac6460299f46eb34814ec3b",
       "style": "IPY_MODEL_5b272ed5230a440183575a4a4feb5aff",
       "value": false
      }
     },
     "3caf02220bae4619bb8434d7d3c7a29a": {
      "model_module": "@jupyter-widgets/controls",
      "model_module_version": "1.2.0",
      "model_name": "DescriptionStyleModel",
      "state": {
       "description_width": ""
      }
     },
     "3cccc9fad7ee4116b6eba3a02b1a14a6": {
      "model_module": "@jupyter-widgets/base",
      "model_module_version": "1.0.0",
      "model_name": "LayoutModel",
      "state": {
       "width": "600px"
      }
     },
     "3cda6315e3ca443aaf535eab6af75061": {
      "model_module": "@jupyter-widgets/controls",
      "model_module_version": "1.2.0",
      "model_name": "DropdownModel",
      "state": {
       "_options_labels": [
        "Lokaladverb",
        "Lokaladverbial",
        "Modaladverb",
        "Modaladverbial",
        " "
       ],
       "index": 4,
       "layout": "IPY_MODEL_ddb9d342e8d04297843a13082c032f29",
       "style": "IPY_MODEL_6cc08e8d6450424b953418c450e56a27"
      }
     },
     "3d1142c45abd4feab8dc44ee54b687cd": {
      "model_module": "@jupyter-widgets/base",
      "model_module_version": "1.0.0",
      "model_name": "LayoutModel",
      "state": {}
     },
     "3d3609ae5f774e81953344e88d139771": {
      "model_module": "@jupyter-widgets/controls",
      "model_module_version": "1.2.0",
      "model_name": "DescriptionStyleModel",
      "state": {
       "description_width": ""
      }
     },
     "3d739732764c4903ac02160c9ee126eb": {
      "model_module": "@jupyter-widgets/base",
      "model_module_version": "1.0.0",
      "model_name": "LayoutModel",
      "state": {
       "width": "250px"
      }
     },
     "3d73bd6df5ff4ca8bc376913c0b960db": {
      "model_module": "@jupyter-widgets/controls",
      "model_module_version": "1.2.0",
      "model_name": "ButtonModel",
      "state": {
       "description": "obl",
       "layout": "IPY_MODEL_bb2cab6e04db4bcbbe9c2b57b6326a94",
       "style": "IPY_MODEL_b6ec03e703984dc194084cd892c716b7"
      }
     },
     "3d9b194f29134a6e80d4375650ecf79a": {
      "model_module": "@jupyter-widgets/base",
      "model_module_version": "1.0.0",
      "model_name": "LayoutModel",
      "state": {
       "width": "600px"
      }
     },
     "3dac38c989f94710819837a753b90392": {
      "model_module": "@jupyter-widgets/base",
      "model_module_version": "1.0.0",
      "model_name": "LayoutModel",
      "state": {}
     },
     "3daec7583d92453388aba521a85322a2": {
      "model_module": "@jupyter-widgets/controls",
      "model_module_version": "1.2.0",
      "model_name": "ButtonStyleModel",
      "state": {}
     },
     "3de7dbf3149c4e7495126fbcb710f40f": {
      "model_module": "@jupyter-widgets/base",
      "model_module_version": "1.0.0",
      "model_name": "LayoutModel",
      "state": {
       "width": "600px"
      }
     },
     "3deeea4618004539802fd9ec4aa3a4d7": {
      "model_module": "@jupyter-widgets/controls",
      "model_module_version": "1.2.0",
      "model_name": "DescriptionStyleModel",
      "state": {
       "description_width": ""
      }
     },
     "3e1ccaba030e4e7493ae742402985433": {
      "model_module": "@jupyter-widgets/base",
      "model_module_version": "1.0.0",
      "model_name": "LayoutModel",
      "state": {}
     },
     "3e2e48cabb904bd0a1a947336cb673ce": {
      "model_module": "@jupyter-widgets/controls",
      "model_module_version": "1.2.0",
      "model_name": "HTMLModel",
      "state": {
       "layout": "IPY_MODEL_8d3c99cbd97e41a9a9c407dca00184a9",
       "style": "IPY_MODEL_f716f11f23cc4ab99ea652649a715cbc",
       "value": "<h4 style=\"font-size:14px;\">Welche Konstituenten lassen sich am Dependenzbaum direkt ablesen?</h4>"
      }
     },
     "3e345295e03c47318960c646578ffde9": {
      "model_module": "@jupyter-widgets/base",
      "model_module_version": "1.0.0",
      "model_name": "LayoutModel",
      "state": {}
     },
     "3e3bf273980740a0badc556b2c13746f": {
      "model_module": "@jupyter-widgets/controls",
      "model_module_version": "1.2.0",
      "model_name": "VBoxModel",
      "state": {
       "children": [
        "IPY_MODEL_44f142aba54e4c9c82dc1e0afe70b944",
        "IPY_MODEL_665a920a0bba47938b1a54a07dd56dc6",
        "IPY_MODEL_e3d17f3b944346baa91a0607e05326ed",
        "IPY_MODEL_e840c7896be44f3bb5259516fca30070",
        "IPY_MODEL_e309a5be39b443829b45424fed810325"
       ],
       "layout": "IPY_MODEL_d51a5dd0e66a48188ad6ad516044378e"
      }
     },
     "3e441d038fae4392a00c4a24ddd19ad3": {
      "model_module": "@jupyter-widgets/controls",
      "model_module_version": "1.2.0",
      "model_name": "ButtonModel",
      "state": {
       "description": "case",
       "layout": "IPY_MODEL_79ddce19292a4d2f91167558829790f9",
       "style": "IPY_MODEL_9f733800d96f4a78a23e59e67e3002d7"
      }
     },
     "3e6aef87beed49558464f59d355974e5": {
      "model_module": "@jupyter-widgets/controls",
      "model_module_version": "1.2.0",
      "model_name": "HBoxModel",
      "state": {
       "children": [
        "IPY_MODEL_369f41dab14b4cc4a8d0f39316ce046d",
        "IPY_MODEL_3e441d038fae4392a00c4a24ddd19ad3"
       ],
       "layout": "IPY_MODEL_2b6daeebf129418c886c501c48285a7e"
      }
     },
     "3e6d8935a6384e4c83f3709382ff0c72": {
      "model_module": "@jupyter-widgets/controls",
      "model_module_version": "1.2.0",
      "model_name": "ButtonStyleModel",
      "state": {}
     },
     "3e8aea3e19214d6b9afd9ef11fa3433e": {
      "model_module": "@jupyter-widgets/controls",
      "model_module_version": "1.2.0",
      "model_name": "DescriptionStyleModel",
      "state": {
       "description_width": ""
      }
     },
     "3e978612b4504945bf35d8005c169ab7": {
      "model_module": "@jupyter-widgets/controls",
      "model_module_version": "1.2.0",
      "model_name": "CheckboxModel",
      "state": {
       "description": "sehr",
       "disabled": false,
       "layout": "IPY_MODEL_6e88acd8a0fc4fa7b2ce9223b141d12f",
       "style": "IPY_MODEL_61542344571843b2990c6569efe43956",
       "value": false
      }
     },
     "3ec412e1ce43439d93ae62040ef9fc10": {
      "model_module": "@jupyter-widgets/base",
      "model_module_version": "1.0.0",
      "model_name": "LayoutModel",
      "state": {}
     },
     "3ecf0a6799974d929036a777ae26df85": {
      "model_module": "@jupyter-widgets/controls",
      "model_module_version": "1.2.0",
      "model_name": "CheckboxModel",
      "state": {
       "description": "die",
       "disabled": false,
       "layout": "IPY_MODEL_6db535b228a4493fb20dac28a79efb36",
       "style": "IPY_MODEL_76ff6b3ae1d5446b99ba8d785d527fa6",
       "value": false
      }
     },
     "3f0895abeba84296a687a7ad2e777dbd": {
      "model_module": "@jupyter-widgets/base",
      "model_module_version": "1.0.0",
      "model_name": "LayoutModel",
      "state": {
       "width": "600px"
      }
     },
     "3f11fc4d5e154b4eb43b49b5c9edbdb7": {
      "model_module": "@jupyter-widgets/controls",
      "model_module_version": "1.2.0",
      "model_name": "HTMLModel",
      "state": {
       "layout": "IPY_MODEL_7fa96d15cc8c418ca19824e944c471b3",
       "style": "IPY_MODEL_fd8b134ea38e49569e511f075ffab8e9",
       "value": "<i>Wählen Sie die <ins>eine</ins> korrekte Antwort aus: </i>"
      }
     },
     "3f258ebe7f8c4ee39e93f942b666b3f1": {
      "model_module": "@jupyter-widgets/base",
      "model_module_version": "1.0.0",
      "model_name": "LayoutModel",
      "state": {
       "justify_content": "center"
      }
     },
     "3f6732ddd71e4ebc8867ba7c81e397aa": {
      "model_module": "@jupyter-widgets/controls",
      "model_module_version": "1.2.0",
      "model_name": "ButtonModel",
      "state": {
       "description": "nsubj",
       "layout": "IPY_MODEL_5194b713f4de423e8d4877020aff90e8",
       "style": "IPY_MODEL_9b3e44a026cf40a882fd82ed233df9c2"
      }
     },
     "3f81bc9ff1e9438f8468405654f0700d": {
      "model_module": "@jupyter-widgets/controls",
      "model_module_version": "1.2.0",
      "model_name": "CheckboxModel",
      "state": {
       "description": "die",
       "disabled": false,
       "layout": "IPY_MODEL_1315bea71fc146a6940b8d0c231f7bbd",
       "style": "IPY_MODEL_26a67d21dc2245b09842964471ada9e7",
       "value": false
      }
     },
     "3f9249ca730f4e1395c8d8ff4ed77666": {
      "model_module": "@jupyter-widgets/controls",
      "model_module_version": "1.2.0",
      "model_name": "CheckboxModel",
      "state": {
       "description": "vom Verb gefordert",
       "disabled": false,
       "layout": "IPY_MODEL_ff18c2dd64504a538083ac07d0c76d6b",
       "style": "IPY_MODEL_b6dc6da081e141938dd96deeadbd34cc",
       "value": false
      }
     },
     "3fad49debc784e1cbc811887fe45fb54": {
      "model_module": "@jupyter-widgets/controls",
      "model_module_version": "1.2.0",
      "model_name": "DescriptionStyleModel",
      "state": {
       "description_width": ""
      }
     },
     "3ff73f415d60433eb792fcbd1f49d7f8": {
      "model_module": "@jupyter-widgets/base",
      "model_module_version": "1.0.0",
      "model_name": "LayoutModel",
      "state": {}
     },
     "4045b87c4a52483790623f52a5711a89": {
      "model_module": "@jupyter-widgets/controls",
      "model_module_version": "1.2.0",
      "model_name": "ButtonModel",
      "state": {
       "description": "det",
       "layout": "IPY_MODEL_1998c74a65fd4b6ba956758af97675b0",
       "style": "IPY_MODEL_c3c89b2d6f364e2fabce8f536ba7246a"
      }
     },
     "404b878dcf6c4d52b5ba1cee6cd864c0": {
      "model_module": "@jupyter-widgets/controls",
      "model_module_version": "1.2.0",
      "model_name": "HTMLModel",
      "state": {
       "layout": "IPY_MODEL_cbf85b76b8cd498993f8f94624bf3dc7",
       "style": "IPY_MODEL_143a72216f63456fbba3785135700281",
       "value": "<h4 style=\"font-size:14px;\">Welche Art von Dependenz besteht zwischen <i> Bruder </i> und <i> älteren </i> ?</h4>"
      }
     },
     "40982de93fde42daa2a2cb440d1813f9": {
      "model_module": "@jupyter-widgets/controls",
      "model_module_version": "1.2.0",
      "model_name": "ButtonStyleModel",
      "state": {}
     },
     "40ac1150a98f42dfa38f551a1550f392": {
      "model_module": "@jupyter-widgets/controls",
      "model_module_version": "1.2.0",
      "model_name": "HTMLModel",
      "state": {
       "layout": "IPY_MODEL_27bce80bc7c34bd5a9d5a36b5403136b",
       "style": "IPY_MODEL_3caf02220bae4619bb8434d7d3c7a29a",
       "value": "<h4 style=\"font-size:14px;\">Unter der Annahmen, dass alle präpositional angeschlossenen Glieder Angaben sind: in welchen der Sätze ist das in Frage stehende Satzglied eine Angabe?</h4>"
      }
     },
     "40b86bedeac2460c8636622a4fd7c545": {
      "model_module": "@jupyter-widgets/base",
      "model_module_version": "1.0.0",
      "model_name": "LayoutModel",
      "state": {
       "width": "600px"
      }
     },
     "4109b744bc1143439d22af9fc13c39d9": {
      "model_module": "@jupyter-widgets/base",
      "model_module_version": "1.0.0",
      "model_name": "LayoutModel",
      "state": {
       "width": "250px"
      }
     },
     "413a12bb02ee4d34aaf68a36fccf9d30": {
      "model_module": "@jupyter-widgets/controls",
      "model_module_version": "1.2.0",
      "model_name": "HTMLModel",
      "state": {
       "layout": "IPY_MODEL_1a96f5bc599543f4a71e978a7b97b29c",
       "style": "IPY_MODEL_c27cb244ffef45349d29f4cf6f10e867",
       "value": "<h4 style=\"font-size:14px;\">Welche Art von Dependenz besteht jetzt zwischen <i> fährt </i> und <i> Kollegin </i> ?</h4>"
      }
     },
     "415fb1497c364e5ea978c8b8f28ad297": {
      "model_module": "@jupyter-widgets/base",
      "model_module_version": "1.0.0",
      "model_name": "LayoutModel",
      "state": {
       "width": "600px"
      }
     },
     "41613dadb20346868f90fb8da969ac00": {
      "model_module": "@jupyter-widgets/controls",
      "model_module_version": "1.2.0",
      "model_name": "ButtonStyleModel",
      "state": {}
     },
     "41942ae9aa6846d79234e29c5f574f48": {
      "model_module": "@jupyter-widgets/base",
      "model_module_version": "1.0.0",
      "model_name": "LayoutModel",
      "state": {
       "width": "600px"
      }
     },
     "419fed5f6c914614ace593412a0b0af2": {
      "model_module": "@jupyter-widgets/base",
      "model_module_version": "1.0.0",
      "model_name": "LayoutModel",
      "state": {}
     },
     "41a2a3b58fe94ef7b1a5f7c2db12b6e0": {
      "model_module": "@jupyter-widgets/controls",
      "model_module_version": "1.2.0",
      "model_name": "ButtonModel",
      "state": {
       "description": "Angabe",
       "layout": "IPY_MODEL_ca6db27e7e7d4ad59b3d42c56d7cdb46",
       "style": "IPY_MODEL_54b72274e5f9470baf0d2aa22c1f02ff"
      }
     },
     "41cb8008ca92477d9362cda17e2f33c8": {
      "model_module": "@jupyter-widgets/controls",
      "model_module_version": "1.2.0",
      "model_name": "ButtonStyleModel",
      "state": {}
     },
     "41fd35a12ecf458db5971c91c903299d": {
      "model_module": "@jupyter-widgets/base",
      "model_module_version": "1.0.0",
      "model_name": "LayoutModel",
      "state": {
       "width": "600px"
      }
     },
     "422ac34d801343cdb538ed2653bb9e93": {
      "model_module": "@jupyter-widgets/base",
      "model_module_version": "1.0.0",
      "model_name": "LayoutModel",
      "state": {
       "justify_content": "center"
      }
     },
     "4240d7b0c2f04ec6b629c1c5c88e7776": {
      "model_module": "@jupyter-widgets/base",
      "model_module_version": "1.0.0",
      "model_name": "LayoutModel",
      "state": {
       "width": "250px"
      }
     },
     "42509b28afb8438fb3fd0b52f17db81d": {
      "model_module": "@jupyter-widgets/controls",
      "model_module_version": "1.2.0",
      "model_name": "ButtonStyleModel",
      "state": {}
     },
     "4254058aef714f0280e71df3eacc20a6": {
      "model_module": "@jupyter-widgets/controls",
      "model_module_version": "1.2.0",
      "model_name": "CheckboxModel",
      "state": {
       "description": "Arbeitsplatz",
       "disabled": false,
       "layout": "IPY_MODEL_8fcb18badff345118621be00f16f87b9",
       "style": "IPY_MODEL_f70557dbacb646c881ed80e8c1d96593",
       "value": false
      }
     },
     "42647885b9a742d1afb58ce8441028ad": {
      "model_module": "@jupyter-widgets/base",
      "model_module_version": "1.0.0",
      "model_name": "LayoutModel",
      "state": {
       "width": "600px"
      }
     },
     "4264feca33574410b879242d19ab1941": {
      "model_module": "@jupyter-widgets/base",
      "model_module_version": "1.0.0",
      "model_name": "LayoutModel",
      "state": {}
     },
     "42838ff563ca46cfbdad86d2c89fdf96": {
      "model_module": "@jupyter-widgets/controls",
      "model_module_version": "1.2.0",
      "model_name": "ButtonModel",
      "state": {
       "description": "Korrekt?",
       "layout": "IPY_MODEL_f44393a6759d417ca44f51973aa8088f",
       "style": "IPY_MODEL_ba4446ddb854485d86b1ddddfafadfab"
      }
     },
     "42ad3a63a6f64cc19ca19d06a0062c2e": {
      "model_module": "@jupyter-widgets/controls",
      "model_module_version": "1.2.0",
      "model_name": "ButtonStyleModel",
      "state": {}
     },
     "42c33210e2c84bc1b5f4e9b70d9888a8": {
      "model_module": "@jupyter-widgets/controls",
      "model_module_version": "1.2.0",
      "model_name": "ButtonModel",
      "state": {
       "description": "adverbiale Ergänzung",
       "layout": "IPY_MODEL_127393f42e74413ab489d708c5a7d881",
       "style": "IPY_MODEL_2b6d9c89448d428ea3b06e96340c2afb"
      }
     },
     "4323af3b2b5f442ba8b69537fa2b1553": {
      "model_module": "@jupyter-widgets/base",
      "model_module_version": "1.0.0",
      "model_name": "LayoutModel",
      "state": {
       "width": "250px"
      }
     },
     "433aeeb4ba104d82b031426ea3ee28c5": {
      "model_module": "@jupyter-widgets/controls",
      "model_module_version": "1.2.0",
      "model_name": "DescriptionStyleModel",
      "state": {
       "description_width": "initial"
      }
     },
     "434ebcf1ffae43079984103bce416ec5": {
      "model_module": "@jupyter-widgets/controls",
      "model_module_version": "1.2.0",
      "model_name": "ButtonModel",
      "state": {
       "description": "Keine",
       "layout": "IPY_MODEL_e2b632d8c8dd4403a5b3b29b4c38fb07",
       "style": "IPY_MODEL_8ad21a85951d415fae6f534234270d81"
      }
     },
     "43696b8e7f58439fad4396496a11a59a": {
      "model_module": "@jupyter-widgets/base",
      "model_module_version": "1.0.0",
      "model_name": "LayoutModel",
      "state": {
       "justify_content": "center"
      }
     },
     "437373ea98684855af3a534ce5e210aa": {
      "model_module": "@jupyter-widgets/base",
      "model_module_version": "1.0.0",
      "model_name": "LayoutModel",
      "state": {
       "width": "600px"
      }
     },
     "4388fa7259984feeb115f15f615415ec": {
      "model_module": "@jupyter-widgets/base",
      "model_module_version": "1.0.0",
      "model_name": "LayoutModel",
      "state": {}
     },
     "439ea6865d694b68bc154b08721d6302": {
      "model_module": "@jupyter-widgets/controls",
      "model_module_version": "1.2.0",
      "model_name": "HTMLModel",
      "state": {
       "layout": "IPY_MODEL_0474fe0cc1b34b6e980869b21b9ed8ef",
       "style": "IPY_MODEL_a7bd7a4d10b441ec906c6c13d22fa6bf",
       "value": "<h4 style=\"font-size:14px;\">Markieren Sie alle direkten Dependenten des Wortes <i> mit </i>.</h4>"
      }
     },
     "43ab7255966f49aeba662fa42597ff11": {
      "model_module": "@jupyter-widgets/controls",
      "model_module_version": "1.2.0",
      "model_name": "ButtonStyleModel",
      "state": {}
     },
     "43bae793e9ce4971bfec2254f8ad2471": {
      "model_module": "@jupyter-widgets/controls",
      "model_module_version": "1.2.0",
      "model_name": "ButtonStyleModel",
      "state": {}
     },
     "43ca8f157d254c6181811c6cf6933a93": {
      "model_module": "@jupyter-widgets/controls",
      "model_module_version": "1.2.0",
      "model_name": "HTMLModel",
      "state": {
       "layout": "IPY_MODEL_7760037533c74f668543fd1cf2d75f53",
       "style": "IPY_MODEL_58b68f8dffee403dac60ee88899cb517",
       "value": "<h4 style=\"font-size:14px;\">gehört zur</h4>"
      }
     },
     "43e2e10d6477483da2a256a6d538a887": {
      "model_module": "@jupyter-widgets/base",
      "model_module_version": "1.0.0",
      "model_name": "LayoutModel",
      "state": {}
     },
     "43fedda2ee7d4b338a95a61fefc0e921": {
      "model_module": "@jupyter-widgets/controls",
      "model_module_version": "1.2.0",
      "model_name": "HTMLModel",
      "state": {
       "layout": "IPY_MODEL_9f603d5310bc4bd4882a5e5740ef30ac",
       "style": "IPY_MODEL_ddb01d19c3904415a2f37ec0638c00a0",
       "value": "<h4 style=\"font-size:14px;\">Welche im Deutschen für das Objekt typische Kriterien werden dagegen nicht erfüllt?</h4>"
      }
     },
     "448e088c96524cf792e18510b3b8acf4": {
      "model_module": "@jupyter-widgets/base",
      "model_module_version": "1.0.0",
      "model_name": "LayoutModel",
      "state": {
       "width": "600px"
      }
     },
     "4493c8d418444fbfaa3abc5765ece63a": {
      "model_module": "@jupyter-widgets/base",
      "model_module_version": "1.0.0",
      "model_name": "LayoutModel",
      "state": {
       "width": "150px"
      }
     },
     "44c53474ff6c4dff889548ff1af6e302": {
      "model_module": "@jupyter-widgets/base",
      "model_module_version": "1.0.0",
      "model_name": "LayoutModel",
      "state": {}
     },
     "44c7156d246e4fa19b8a71fa41275803": {
      "model_module": "@jupyter-widgets/controls",
      "model_module_version": "1.2.0",
      "model_name": "CheckboxModel",
      "state": {
       "description": "Es gibt keine.",
       "disabled": false,
       "layout": "IPY_MODEL_b73981c1a54c4b45b4978b5696942504",
       "style": "IPY_MODEL_0ce71f5500394e25b9de92c8fd42a7be",
       "value": false
      }
     },
     "44dd18a94cbe42c9a51f0d7df9278c34": {
      "model_module": "@jupyter-widgets/base",
      "model_module_version": "1.0.0",
      "model_name": "LayoutModel",
      "state": {
       "width": "600px"
      }
     },
     "44e4210f06624b04b1dcc86d68858ca5": {
      "model_module": "@jupyter-widgets/controls",
      "model_module_version": "1.2.0",
      "model_name": "ButtonModel",
      "state": {
       "description": "Korrekt?",
       "layout": "IPY_MODEL_f7ad91e19b9c432495175d09ca479f81",
       "style": "IPY_MODEL_06ede4efe4ff41e1b285c4b54332c40f"
      }
     },
     "44e8170d27694eb2965542c769e31ac4": {
      "model_module": "@jupyter-widgets/controls",
      "model_module_version": "1.2.0",
      "model_name": "ButtonStyleModel",
      "state": {}
     },
     "44f142aba54e4c9c82dc1e0afe70b944": {
      "model_module": "@jupyter-widgets/controls",
      "model_module_version": "1.2.0",
      "model_name": "CheckboxModel",
      "state": {
       "description": "Agenseigenschaften",
       "disabled": false,
       "layout": "IPY_MODEL_d98f81ea4a9d4b9dba53ab7e7588a35b",
       "style": "IPY_MODEL_bbdc2f4c9e1d4777a3748ea48bc07a80",
       "value": false
      }
     },
     "44f1965eb5cd4ac4b293c831267c6f0d": {
      "model_module": "@jupyter-widgets/controls",
      "model_module_version": "1.2.0",
      "model_name": "ButtonModel",
      "state": {
       "description": "Angabe",
       "layout": "IPY_MODEL_07f32d2ff6d24c4aa0644543ea085967",
       "style": "IPY_MODEL_ea94a8fff98a4fa781ad5aa7bda313e8"
      }
     },
     "451a5620d81d4eb4ba303c17a3803feb": {
      "model_module": "@jupyter-widgets/controls",
      "model_module_version": "1.2.0",
      "model_name": "HBoxModel",
      "state": {
       "children": [
        "IPY_MODEL_b10377cf11a64c9ba556d96ac69dc55e",
        "IPY_MODEL_25a400a1fa8e40e592b93ccf8c85ad77"
       ],
       "layout": "IPY_MODEL_e790c7982bb44e3cb6ff9ebbab835cfd"
      }
     },
     "453b7ef1291e4e57b49969032176eef5": {
      "model_module": "@jupyter-widgets/base",
      "model_module_version": "1.0.0",
      "model_name": "LayoutModel",
      "state": {
       "width": "250px"
      }
     },
     "459dbc658d2140039d8963f07aafbddb": {
      "model_module": "@jupyter-widgets/base",
      "model_module_version": "1.0.0",
      "model_name": "LayoutModel",
      "state": {}
     },
     "45a092d3148a4028979ea9f3b94951af": {
      "model_module": "@jupyter-widgets/controls",
      "model_module_version": "1.2.0",
      "model_name": "DescriptionStyleModel",
      "state": {
       "description_width": ""
      }
     },
     "46d57158663d4c92930f85260fc14699": {
      "model_module": "@jupyter-widgets/controls",
      "model_module_version": "1.2.0",
      "model_name": "DescriptionStyleModel",
      "state": {
       "description_width": ""
      }
     },
     "46f4650e3ca0487c9224da620f5a1aab": {
      "model_module": "@jupyter-widgets/controls",
      "model_module_version": "1.2.0",
      "model_name": "ButtonStyleModel",
      "state": {}
     },
     "46fc650c497545b6880875e1420003c0": {
      "model_module": "@jupyter-widgets/base",
      "model_module_version": "1.0.0",
      "model_name": "LayoutModel",
      "state": {
       "width": "250px"
      }
     },
     "472d6ba1399f4cba845a5a46d8c2d0c2": {
      "model_module": "@jupyter-widgets/controls",
      "model_module_version": "1.2.0",
      "model_name": "CheckboxModel",
      "state": {
       "description": "Kollegin",
       "disabled": false,
       "layout": "IPY_MODEL_9d45eda5a75e49d183a760bab544f958",
       "style": "IPY_MODEL_4b6d3d7112e74724bfebe74180a9350c",
       "value": false
      }
     },
     "4753aeee63494bf8ac949d15f18a4ecf": {
      "model_module": "@jupyter-widgets/controls",
      "model_module_version": "1.2.0",
      "model_name": "CheckboxModel",
      "state": {
       "description": "ihrem",
       "disabled": false,
       "layout": "IPY_MODEL_8ffb70ea0232485c9076810af41f0203",
       "style": "IPY_MODEL_4fdd5deea59e430591979b3c8d976c7c",
       "value": false
      }
     },
     "4774c5fd6ff04befa95731252ab312d0": {
      "model_module": "@jupyter-widgets/controls",
      "model_module_version": "1.2.0",
      "model_name": "VBoxModel",
      "state": {
       "children": [
        "IPY_MODEL_5ea2b4eba034462ca04dee0cda2bd2d5",
        "IPY_MODEL_1c8ef7effad34bfbbb6bdce9b8dc951e",
        "IPY_MODEL_1bb17a1299e246e6b5b5ad03306e90b4"
       ],
       "layout": "IPY_MODEL_6dad8ca8e5ed49eb95a24c7a8dae325c"
      }
     },
     "4776461b88034ee7829d72334cc9a95f": {
      "model_module": "@jupyter-widgets/controls",
      "model_module_version": "1.2.0",
      "model_name": "ButtonModel",
      "state": {
       "description": "Korrekt?",
       "layout": "IPY_MODEL_d218914365864d5b88c273f47c5694b5",
       "style": "IPY_MODEL_ca2fe426417047b7a12a2e5726b34513"
      }
     },
     "478cd4000a4d4e35a8145804032549b9": {
      "model_module": "@jupyter-widgets/controls",
      "model_module_version": "1.2.0",
      "model_name": "DescriptionStyleModel",
      "state": {
       "description_width": "initial"
      }
     },
     "479a1d674f4f448d989820303f84543d": {
      "model_module": "@jupyter-widgets/base",
      "model_module_version": "1.0.0",
      "model_name": "LayoutModel",
      "state": {}
     },
     "479aeaddf6824d48b7b850b07d9d69bb": {
      "model_module": "@jupyter-widgets/controls",
      "model_module_version": "1.2.0",
      "model_name": "ButtonModel",
      "state": {
       "description": "pcomp",
       "layout": "IPY_MODEL_22432058dd10478e892bfde392fc7d8a",
       "style": "IPY_MODEL_0940d5c167ba451c8631ca374bf71168"
      }
     },
     "479c23ee49e14d1e82756fb6008be59d": {
      "model_module": "@jupyter-widgets/controls",
      "model_module_version": "1.2.0",
      "model_name": "DescriptionStyleModel",
      "state": {
       "description_width": ""
      }
     },
     "47f110673b1d4f0c8e82cb1c8bd4d2b4": {
      "model_module": "@jupyter-widgets/controls",
      "model_module_version": "1.2.0",
      "model_name": "HBoxModel",
      "state": {
       "children": [
        "IPY_MODEL_20d23704bec84ece8fe4d5b3ef07ab0b",
        "IPY_MODEL_f937c5f9e6b5438597b01c9414e0e545"
       ],
       "layout": "IPY_MODEL_2d49d091e5d3421a90469c53ac4f9756"
      }
     },
     "47f5d7e55a7f46d8bcd06d81fba915f6": {
      "model_module": "@jupyter-widgets/controls",
      "model_module_version": "1.2.0",
      "model_name": "HTMLModel",
      "state": {
       "layout": "IPY_MODEL_24a4acdf0d5d49029fae904a14a731b9",
       "style": "IPY_MODEL_55ff3a72db344b699206a635cc52e974",
       "value": "<h4 style=\"font-size:14px;\">Welche Tests ergeben, dass es sich bei <i> auf das Pferd </i> im 1. Satz um eine Angabe handelt?</h4>"
      }
     },
     "481cf0b2403b4d19888a9dfdc2c464b6": {
      "model_module": "@jupyter-widgets/controls",
      "model_module_version": "1.2.0",
      "model_name": "HTMLModel",
      "state": {
       "layout": "IPY_MODEL_0b4f05c35dc248dc8938d90798e6eea5",
       "style": "IPY_MODEL_9a16e94681224df8abba886bd987bbe2",
       "value": "<h4 style=\"font-size:14px;\">Um welchen Attributtyp handelt es sich bei dem Attribut <i>der Klasse 5b</i>?</h4>"
      }
     },
     "487992d633a14fb8ae999d900cf71129": {
      "model_module": "@jupyter-widgets/base",
      "model_module_version": "1.0.0",
      "model_name": "LayoutModel",
      "state": {}
     },
     "48aa760798584ab2b6066d4ddff38181": {
      "model_module": "@jupyter-widgets/base",
      "model_module_version": "1.0.0",
      "model_name": "LayoutModel",
      "state": {}
     },
     "48b3d7938b9044c786a23805e47b7b7b": {
      "model_module": "@jupyter-widgets/base",
      "model_module_version": "1.0.0",
      "model_name": "LayoutModel",
      "state": {}
     },
     "4903c0709b984f6bbd9a10339e136963": {
      "model_module": "@jupyter-widgets/controls",
      "model_module_version": "1.2.0",
      "model_name": "DescriptionStyleModel",
      "state": {
       "description_width": "initial"
      }
     },
     "49341bcda6fa4b679ca78f8304e7b1ec": {
      "model_module": "@jupyter-widgets/controls",
      "model_module_version": "1.2.0",
      "model_name": "DescriptionStyleModel",
      "state": {
       "description_width": ""
      }
     },
     "49391cf07cc0404f86e0c51230923825": {
      "model_module": "@jupyter-widgets/controls",
      "model_module_version": "1.2.0",
      "model_name": "DescriptionStyleModel",
      "state": {
       "description_width": "initial"
      }
     },
     "494ac9968ec24a008a46f19900a166c7": {
      "model_module": "@jupyter-widgets/controls",
      "model_module_version": "1.2.0",
      "model_name": "DescriptionStyleModel",
      "state": {
       "description_width": "initial"
      }
     },
     "4957775ab9534292bd4ad03564a83837": {
      "model_module": "@jupyter-widgets/base",
      "model_module_version": "1.0.0",
      "model_name": "LayoutModel",
      "state": {
       "width": "250px"
      }
     },
     "498382edadeb4ae7b79adde3fbe3dd22": {
      "model_module": "@jupyter-widgets/base",
      "model_module_version": "1.0.0",
      "model_name": "LayoutModel",
      "state": {}
     },
     "49b0d20038b948c38be27a400fe59d74": {
      "model_module": "@jupyter-widgets/controls",
      "model_module_version": "1.2.0",
      "model_name": "CheckboxModel",
      "state": {
       "description": "zwei",
       "disabled": false,
       "layout": "IPY_MODEL_3f0895abeba84296a687a7ad2e777dbd",
       "style": "IPY_MODEL_007d49a6144a4adab02daadbbdb08121",
       "value": false
      }
     },
     "49bd8bb879eb4fdfa0eebfc4a9307bab": {
      "model_module": "@jupyter-widgets/controls",
      "model_module_version": "1.2.0",
      "model_name": "DescriptionStyleModel",
      "state": {
       "description_width": "initial"
      }
     },
     "49c9b8a7041f4884ad2198901ea6c0ce": {
      "model_module": "@jupyter-widgets/controls",
      "model_module_version": "1.2.0",
      "model_name": "DescriptionStyleModel",
      "state": {
       "description_width": "initial"
      }
     },
     "49ebc9a9c4f24637b1cfaeb38c341349": {
      "model_module": "@jupyter-widgets/base",
      "model_module_version": "1.0.0",
      "model_name": "LayoutModel",
      "state": {
       "width": "600px"
      }
     },
     "4a07fb3c4fde4d6297d0ad424ef87591": {
      "model_module": "@jupyter-widgets/base",
      "model_module_version": "1.0.0",
      "model_name": "LayoutModel",
      "state": {
       "width": "600px"
      }
     },
     "4a5cc305bbae470c83b31c650ff0184a": {
      "model_module": "@jupyter-widgets/controls",
      "model_module_version": "1.2.0",
      "model_name": "VBoxModel",
      "state": {
       "children": [
        "IPY_MODEL_c2163e504db945eaaf928b9835d30ef5",
        "IPY_MODEL_b9e1c416819046d3bbfc4707a50ef917",
        "IPY_MODEL_698a43ec6f03472395ea4e490febb896"
       ],
       "layout": "IPY_MODEL_9b7daea12e1248a284cacc98e676e79f"
      }
     },
     "4a6bc88c48454e8d8704d5c0827ca9f7": {
      "model_module": "@jupyter-widgets/controls",
      "model_module_version": "1.2.0",
      "model_name": "ButtonStyleModel",
      "state": {}
     },
     "4a7497c0a579433c9ffa2288eaa2e8c1": {
      "model_module": "@jupyter-widgets/controls",
      "model_module_version": "1.2.0",
      "model_name": "DescriptionStyleModel",
      "state": {
       "description_width": ""
      }
     },
     "4a8581df5b944c278d5fc1fafc2e43d7": {
      "model_module": "@jupyter-widgets/controls",
      "model_module_version": "1.2.0",
      "model_name": "DescriptionStyleModel",
      "state": {
       "description_width": "initial"
      }
     },
     "4a97da4c4ad34912b452547f6227e0b3": {
      "model_module": "@jupyter-widgets/controls",
      "model_module_version": "1.2.0",
      "model_name": "CheckboxModel",
      "state": {
       "description": "mit der S-Bahn",
       "disabled": false,
       "layout": "IPY_MODEL_6645dc93852d444f9c9891bfeb93c9c3",
       "style": "IPY_MODEL_d4b1fc5073b441549e186b7cb15a448c",
       "value": false
      }
     },
     "4ac7534008f5403b90624f17ac1f9c5e": {
      "model_module": "@jupyter-widgets/controls",
      "model_module_version": "1.2.0",
      "model_name": "HTMLModel",
      "state": {
       "layout": "IPY_MODEL_280d3c72979a4016a239d7c45f234e52",
       "style": "IPY_MODEL_a04c34f07d3c4e4f9182bde2957743a7",
       "value": "<h4 style=\"font-size:14px;\">des Verbs .</h4>"
      }
     },
     "4afb6da9ae1e4e50a957ab1c611d0137": {
      "model_module": "@jupyter-widgets/controls",
      "model_module_version": "1.2.0",
      "model_name": "ButtonModel",
      "state": {
       "description": "det",
       "layout": "IPY_MODEL_3345d803a85048d4a90b0c287c6efa3f",
       "style": "IPY_MODEL_8c00e08d55f14e688a320f4d62b8ee08"
      }
     },
     "4b40ff7adea045dfb58b6f7e01a16dae": {
      "model_module": "@jupyter-widgets/base",
      "model_module_version": "1.0.0",
      "model_name": "LayoutModel",
      "state": {
       "justify_content": "center"
      }
     },
     "4b502e027c354ae887ade6dad2b090e7": {
      "model_module": "@jupyter-widgets/base",
      "model_module_version": "1.0.0",
      "model_name": "LayoutModel",
      "state": {
       "width": "250px"
      }
     },
     "4b6d3d7112e74724bfebe74180a9350c": {
      "model_module": "@jupyter-widgets/controls",
      "model_module_version": "1.2.0",
      "model_name": "DescriptionStyleModel",
      "state": {
       "description_width": "initial"
      }
     },
     "4b6efb8b88be4cefb533a177e08c4f02": {
      "model_module": "@jupyter-widgets/base",
      "model_module_version": "1.0.0",
      "model_name": "LayoutModel",
      "state": {
       "width": "600px"
      }
     },
     "4b790cd260414988b7d1329b1ad079f0": {
      "model_module": "@jupyter-widgets/controls",
      "model_module_version": "1.2.0",
      "model_name": "DescriptionStyleModel",
      "state": {
       "description_width": "initial"
      }
     },
     "4b829cd6939448e9b94d2f5ecac7e0e5": {
      "model_module": "@jupyter-widgets/base",
      "model_module_version": "1.0.0",
      "model_name": "LayoutModel",
      "state": {
       "width": "600px"
      }
     },
     "4b97c7c37800499b8462339588cd3f9a": {
      "model_module": "@jupyter-widgets/controls",
      "model_module_version": "1.2.0",
      "model_name": "CheckboxModel",
      "state": {
       "description": "steht im Akkusativ",
       "disabled": false,
       "layout": "IPY_MODEL_10f6fe1f941d4623bf473b0d697f801d",
       "style": "IPY_MODEL_c7c63e0715794501a759897bc8be7ba4",
       "value": false
      }
     },
     "4ba15a6949294c749b50cfc6d4bf999e": {
      "model_module": "@jupyter-widgets/controls",
      "model_module_version": "1.2.0",
      "model_name": "CheckboxModel",
      "state": {
       "description": "Es gibt keine.",
       "disabled": false,
       "layout": "IPY_MODEL_f2f72ea46e9c4e2ba895f7d92e0c5ec8",
       "style": "IPY_MODEL_c9254b9e5f614206a1a75b2d860fa97d",
       "value": false
      }
     },
     "4bb6307d7f734250b646094e6b6eb6a2": {
      "model_module": "@jupyter-widgets/controls",
      "model_module_version": "1.2.0",
      "model_name": "DescriptionStyleModel",
      "state": {
       "description_width": "initial"
      }
     },
     "4bbeae12779245ba878b6a9bf2e78368": {
      "model_module": "@jupyter-widgets/controls",
      "model_module_version": "1.2.0",
      "model_name": "DescriptionStyleModel",
      "state": {
       "description_width": ""
      }
     },
     "4bc6359228d943a88e58f7f85f417be0": {
      "model_module": "@jupyter-widgets/controls",
      "model_module_version": "1.2.0",
      "model_name": "ButtonModel",
      "state": {
       "description": "Korrekt?",
       "layout": "IPY_MODEL_b96ca5afeef141c8972c7645c67bf529",
       "style": "IPY_MODEL_f848ae22ba2e45558e093068192dd9f9"
      }
     },
     "4bcf72d5753844b68345dea508794067": {
      "model_module": "@jupyter-widgets/base",
      "model_module_version": "1.0.0",
      "model_name": "LayoutModel",
      "state": {
       "width": "600px"
      }
     },
     "4bd78f0347df4a99a9393d2a2c70ffdf": {
      "model_module": "@jupyter-widgets/base",
      "model_module_version": "1.0.0",
      "model_name": "LayoutModel",
      "state": {
       "width": "250px"
      }
     },
     "4bd930b7727d4e04a9533d1b533cf00f": {
      "model_module": "@jupyter-widgets/controls",
      "model_module_version": "1.2.0",
      "model_name": "VBoxModel",
      "state": {
       "children": [
        "IPY_MODEL_c24256887c6342fe9c7a4694b6e3390b",
        "IPY_MODEL_864eac7d297e462dbf50b7ac6e4708a6",
        "IPY_MODEL_2ece03a760834181aadf574bb9bf7186"
       ],
       "layout": "IPY_MODEL_e490fbe75a1e45109bfb6edf53110b5a"
      }
     },
     "4c43ba1cfdb84f95943f86532163fbd5": {
      "model_module": "@jupyter-widgets/controls",
      "model_module_version": "1.2.0",
      "model_name": "DescriptionStyleModel",
      "state": {
       "description_width": "initial"
      }
     },
     "4c53123a28b648148e4a5bde66fc86d0": {
      "model_module": "@jupyter-widgets/controls",
      "model_module_version": "1.2.0",
      "model_name": "VBoxModel",
      "state": {
       "children": [
        "IPY_MODEL_481cf0b2403b4d19888a9dfdc2c464b6",
        "IPY_MODEL_6b7dac62059844909a4247110db5c4c0",
        "IPY_MODEL_3256a5da9c794d4896df011801922a11",
        "IPY_MODEL_340407639ead4b619160caa9c38a9b24"
       ],
       "layout": "IPY_MODEL_2f026288bfd548ce93d0bf146d2fd33c"
      }
     },
     "4c66d1ab1cef40fb93721199210ab498": {
      "model_module": "@jupyter-widgets/base",
      "model_module_version": "1.0.0",
      "model_name": "LayoutModel",
      "state": {
       "width": "600px"
      }
     },
     "4c67e4be365041f2a8f94cc53c85ba97": {
      "model_module": "@jupyter-widgets/controls",
      "model_module_version": "1.2.0",
      "model_name": "ButtonStyleModel",
      "state": {}
     },
     "4caa244e216645d282333e2c6208f38f": {
      "model_module": "@jupyter-widgets/base",
      "model_module_version": "1.0.0",
      "model_name": "LayoutModel",
      "state": {
       "width": "600px"
      }
     },
     "4ce983254e0a4536bdcf6026fd0beeea": {
      "model_module": "@jupyter-widgets/controls",
      "model_module_version": "1.2.0",
      "model_name": "ButtonStyleModel",
      "state": {}
     },
     "4cf76e56369844cfacbb5216b541d741": {
      "model_module": "@jupyter-widgets/controls",
      "model_module_version": "1.2.0",
      "model_name": "ButtonModel",
      "state": {
       "description": "Keine",
       "layout": "IPY_MODEL_81b8974dda044b25baeae569deb28674",
       "style": "IPY_MODEL_dda43a843884475a8d7c92d8f4e8e285"
      }
     },
     "4d36c13213e5458b8db55abd6756363f": {
      "model_module": "@jupyter-widgets/controls",
      "model_module_version": "1.2.0",
      "model_name": "CheckboxModel",
      "state": {
       "description": "fährt",
       "disabled": false,
       "layout": "IPY_MODEL_9d7a9ac5f18e40cbab490b747ab4ea29",
       "style": "IPY_MODEL_3bee1807cbdc4f0f8dd124acf7756398",
       "value": false
      }
     },
     "4dcc426235cc426e88d5847e9b61f3b4": {
      "model_module": "@jupyter-widgets/controls",
      "model_module_version": "1.2.0",
      "model_name": "VBoxModel",
      "state": {
       "children": [
        "IPY_MODEL_75dc8d22cde4451f9d134d5f2af33b49",
        "IPY_MODEL_0735a48b97b24191a5d8bf746c429a2d",
        "IPY_MODEL_2f71ed9f9bd9442eaa0970d3c167c0a8"
       ],
       "layout": "IPY_MODEL_20a3cb5ffae54cc49a8d5af1ea545e7f"
      }
     },
     "4de173bd6ec649c1aac83a68b1a3a296": {
      "model_module": "@jupyter-widgets/base",
      "model_module_version": "1.0.0",
      "model_name": "LayoutModel",
      "state": {
       "width": "250px"
      }
     },
     "4e1951c62234454da846114d4e287cb5": {
      "model_module": "@jupyter-widgets/controls",
      "model_module_version": "1.2.0",
      "model_name": "CheckboxModel",
      "state": {
       "description": "drückt nicht das Topik aus",
       "disabled": false,
       "layout": "IPY_MODEL_0c0dd0aaf9b441639b30003a13e14f15",
       "style": "IPY_MODEL_05adf231484d4b4e94a27dcb5204a0d9",
       "value": false
      }
     },
     "4e32f2f81b2448018ace5542adfc5a8c": {
      "model_module": "@jupyter-widgets/base",
      "model_module_version": "1.0.0",
      "model_name": "LayoutModel",
      "state": {
       "justify_content": "center"
      }
     },
     "4e33506537f748dcaefa6f649df113e4": {
      "model_module": "@jupyter-widgets/controls",
      "model_module_version": "1.2.0",
      "model_name": "ButtonModel",
      "state": {
       "description": "Keine",
       "layout": "IPY_MODEL_81f2685dd9634ae3948248b27345c5c0",
       "style": "IPY_MODEL_91d916e109f1426da8c00dbb530dd862"
      }
     },
     "4e491d65d2754334b0e9515a39a80b46": {
      "model_module": "@jupyter-widgets/base",
      "model_module_version": "1.0.0",
      "model_name": "LayoutModel",
      "state": {}
     },
     "4e4c8209fc374f9fbefdbf57d74bc42b": {
      "model_module": "@jupyter-widgets/base",
      "model_module_version": "1.0.0",
      "model_name": "LayoutModel",
      "state": {}
     },
     "4eb8a020fe0248e3b27ee95ed0420bc2": {
      "model_module": "@jupyter-widgets/controls",
      "model_module_version": "1.2.0",
      "model_name": "HTMLModel",
      "state": {
       "layout": "IPY_MODEL_b08169da7a1d46e092988a60830050e7",
       "style": "IPY_MODEL_bb578686e8b74d9e9a387b4f87acc720",
       "value": "<h4 style=\"font-size:14px;\"><i> im Zelt </i> vom Verb <i> schlafen </i> ab, sind also</h4>"
      }
     },
     "4ec4543f6ab84cc3a5234c09870e271f": {
      "model_module": "@jupyter-widgets/controls",
      "model_module_version": "1.2.0",
      "model_name": "HTMLModel",
      "state": {
       "layout": "IPY_MODEL_9eb505e5d7ae4e7db03df149f87f4bf8",
       "style": "IPY_MODEL_9db223588f814fa982dd33c77238612c",
       "value": "<h4 style=\"font-size:14px;\">Welche Art von Dependenz besteht zwischen <i> Kollegin </i> und <i> neue </i> ?</h4>"
      }
     },
     "4f0695d6accb496a80114b2177623e5a": {
      "model_module": "@jupyter-widgets/base",
      "model_module_version": "1.0.0",
      "model_name": "LayoutModel",
      "state": {
       "justify_content": "center"
      }
     },
     "4f2a702cb91641e9aa1c2f63435ded45": {
      "model_module": "@jupyter-widgets/base",
      "model_module_version": "1.0.0",
      "model_name": "LayoutModel",
      "state": {
       "width": "600px"
      }
     },
     "4f3ddf27023b457bb3b7e7b575d15c62": {
      "model_module": "@jupyter-widgets/controls",
      "model_module_version": "1.2.0",
      "model_name": "DescriptionStyleModel",
      "state": {
       "description_width": ""
      }
     },
     "4f3e7c15d504452bb41e6e9952f1d856": {
      "model_module": "@jupyter-widgets/controls",
      "model_module_version": "1.2.0",
      "model_name": "VBoxModel",
      "state": {
       "children": [
        "IPY_MODEL_33a917e8bbd74324aa109244bfe3b2b8",
        "IPY_MODEL_dccba18bf8dd42298bdb522a7676ae1e",
        "IPY_MODEL_472d6ba1399f4cba845a5a46d8c2d0c2",
        "IPY_MODEL_52518bb731db452a97c1796dd9b2f536",
        "IPY_MODEL_71574a42f56542b9b557354a3dcf8dbc",
        "IPY_MODEL_69bee225c6dc498db1c2b514e30d7439",
        "IPY_MODEL_073122d2e8a04c4d9f9f766018a5c205",
        "IPY_MODEL_2186386ef8c54b9885081241e5539c8a",
        "IPY_MODEL_1b9b9d355d0c40079a867a9e0c55ccbe",
        "IPY_MODEL_9a920444997a48cd92a483c156c03b82"
       ],
       "layout": "IPY_MODEL_3ec412e1ce43439d93ae62040ef9fc10"
      }
     },
     "4fb4791a57414f91874c08b58581b4f1": {
      "model_module": "@jupyter-widgets/controls",
      "model_module_version": "1.2.0",
      "model_name": "DescriptionStyleModel",
      "state": {
       "description_width": "initial"
      }
     },
     "4fdd5deea59e430591979b3c8d976c7c": {
      "model_module": "@jupyter-widgets/controls",
      "model_module_version": "1.2.0",
      "model_name": "DescriptionStyleModel",
      "state": {
       "description_width": "initial"
      }
     },
     "4fee016d80fd46d991a15bf343bd0b04": {
      "model_module": "@jupyter-widgets/controls",
      "model_module_version": "1.2.0",
      "model_name": "CheckboxModel",
      "state": {
       "description": "einen",
       "disabled": false,
       "layout": "IPY_MODEL_7901b570ce70418a982ca125757acce2",
       "style": "IPY_MODEL_c0e1a558c450482aabd1abbca2ea76bc",
       "value": false
      }
     },
     "501d88f454564393a767dba91b1072a8": {
      "model_module": "@jupyter-widgets/controls",
      "model_module_version": "1.2.0",
      "model_name": "ButtonStyleModel",
      "state": {}
     },
     "504644bb11154298a8b9dccf6f1c9fc8": {
      "model_module": "@jupyter-widgets/base",
      "model_module_version": "1.0.0",
      "model_name": "LayoutModel",
      "state": {
       "justify_content": "center"
      }
     },
     "504c9360969f421ca9618330933c2541": {
      "model_module": "@jupyter-widgets/base",
      "model_module_version": "1.0.0",
      "model_name": "LayoutModel",
      "state": {
       "width": "250px"
      }
     },
     "5051447b0e4540df98947f8b47afb67d": {
      "model_module": "@jupyter-widgets/base",
      "model_module_version": "1.0.0",
      "model_name": "LayoutModel",
      "state": {
       "width": "250px"
      }
     },
     "508639aa3f0041bc9a3fb056dd0d6fd7": {
      "model_module": "@jupyter-widgets/controls",
      "model_module_version": "1.2.0",
      "model_name": "ButtonStyleModel",
      "state": {}
     },
     "509379da8f0a47e5ab3a01dc30bd8c92": {
      "model_module": "@jupyter-widgets/base",
      "model_module_version": "1.0.0",
      "model_name": "LayoutModel",
      "state": {
       "justify_content": "center"
      }
     },
     "50b71027a6664a648680ab71040964a8": {
      "model_module": "@jupyter-widgets/controls",
      "model_module_version": "1.2.0",
      "model_name": "ButtonStyleModel",
      "state": {}
     },
     "50b8279170ab42baab4fef1817aa852e": {
      "model_module": "@jupyter-widgets/base",
      "model_module_version": "1.0.0",
      "model_name": "LayoutModel",
      "state": {
       "width": "600px"
      }
     },
     "50c38a1d33e04bc8abe0fc1f6ac792f6": {
      "model_module": "@jupyter-widgets/base",
      "model_module_version": "1.0.0",
      "model_name": "LayoutModel",
      "state": {}
     },
     "50d2b88815354da4ad02d6ca85c65c62": {
      "model_module": "@jupyter-widgets/base",
      "model_module_version": "1.0.0",
      "model_name": "LayoutModel",
      "state": {
       "width": "250px"
      }
     },
     "50ea2a6128e04e3182f6ca25f807cbc9": {
      "model_module": "@jupyter-widgets/controls",
      "model_module_version": "1.2.0",
      "model_name": "DescriptionStyleModel",
      "state": {
       "description_width": "initial"
      }
     },
     "50f7e6892d78466aa4bcffcd9168e24f": {
      "model_module": "@jupyter-widgets/controls",
      "model_module_version": "1.2.0",
      "model_name": "HTMLModel",
      "state": {
       "layout": "IPY_MODEL_3e345295e03c47318960c646578ffde9",
       "style": "IPY_MODEL_d80edbbd1ce64619a7c92e8c6da9139c",
       "value": "<h4 style=\"font-size:14px;\">tritt ein</h4>"
      }
     },
     "5109d319da844d6a83bf681db1406d0b": {
      "model_module": "@jupyter-widgets/controls",
      "model_module_version": "1.2.0",
      "model_name": "CheckboxModel",
      "state": {
       "description": "2. Satz (das Pferd)",
       "disabled": false,
       "layout": "IPY_MODEL_542a59405ef948c78263037962c83b46",
       "style": "IPY_MODEL_d1e6d3f04b2d4908b3b268439d165c02",
       "value": false
      }
     },
     "511541d2c3d243f0a87e9d9808ee17e2": {
      "model_module": "@jupyter-widgets/controls",
      "model_module_version": "1.2.0",
      "model_name": "ButtonStyleModel",
      "state": {}
     },
     "51546fd601ce4d819ff3711a87c66f92": {
      "model_module": "@jupyter-widgets/base",
      "model_module_version": "1.0.0",
      "model_name": "LayoutModel",
      "state": {
       "width": "600px"
      }
     },
     "5194b713f4de423e8d4877020aff90e8": {
      "model_module": "@jupyter-widgets/base",
      "model_module_version": "1.0.0",
      "model_name": "LayoutModel",
      "state": {
       "width": "250px"
      }
     },
     "51a49af8d5744bc9b406f1b77958f282": {
      "model_module": "@jupyter-widgets/controls",
      "model_module_version": "1.2.0",
      "model_name": "HTMLModel",
      "state": {
       "layout": "IPY_MODEL_0a8a69c5936b42b49a79990ecbf75721",
       "style": "IPY_MODEL_98642b4c914742e4acd2446640667868",
       "value": "<h4 style=\"font-size:14px;\">Welche Art von Dependenz besteht zwischen <i> Bruder </i> und <i> einen </i> ?</h4>"
      }
     },
     "51d078d0fa8140e786d984ec4b7f228a": {
      "model_module": "@jupyter-widgets/controls",
      "model_module_version": "1.2.0",
      "model_name": "DropdownModel",
      "state": {
       "_options_labels": [
        "Adverb",
        "Adverbial",
        " "
       ],
       "index": 2,
       "layout": "IPY_MODEL_7128e5b797284b9f91744a9e66f4ec37",
       "style": "IPY_MODEL_c9d2f22345434f8faff5c18311f2fc09"
      }
     },
     "51d3fb214cc349099d01cd9b3df48aac": {
      "model_module": "@jupyter-widgets/controls",
      "model_module_version": "1.2.0",
      "model_name": "DescriptionStyleModel",
      "state": {
       "description_width": ""
      }
     },
     "521576f9371544b9a7ae13535356ebc2": {
      "model_module": "@jupyter-widgets/controls",
      "model_module_version": "1.2.0",
      "model_name": "CheckboxModel",
      "state": {
       "description": "Ich",
       "disabled": false,
       "layout": "IPY_MODEL_167608d03b634935ab0b375f1aaddb86",
       "style": "IPY_MODEL_0bb9a747a072464bb54684f8db442b80",
       "value": false
      }
     },
     "52518bb731db452a97c1796dd9b2f536": {
      "model_module": "@jupyter-widgets/controls",
      "model_module_version": "1.2.0",
      "model_name": "CheckboxModel",
      "state": {
       "description": "S-Bahn",
       "disabled": false,
       "layout": "IPY_MODEL_c48cdc8d7a364522babbb9eb01b1211a",
       "style": "IPY_MODEL_888307cc5a27448b97513414bba21a8c",
       "value": false
      }
     },
     "525d58e233ad4df790dd39264b586691": {
      "model_module": "@jupyter-widgets/base",
      "model_module_version": "1.0.0",
      "model_name": "LayoutModel",
      "state": {
       "width": "250px"
      }
     },
     "526c2461bcaa49c5a835c1b06eaaf2f3": {
      "model_module": "@jupyter-widgets/controls",
      "model_module_version": "1.2.0",
      "model_name": "ButtonModel",
      "state": {
       "description": "det",
       "layout": "IPY_MODEL_3d739732764c4903ac02160c9ee126eb",
       "style": "IPY_MODEL_42509b28afb8438fb3fd0b52f17db81d"
      }
     },
     "52e59fa5a54e49a49d4f18d857900907": {
      "model_module": "@jupyter-widgets/base",
      "model_module_version": "1.0.0",
      "model_name": "LayoutModel",
      "state": {}
     },
     "52ee2a3cc09141eb869289086fed8109": {
      "model_module": "@jupyter-widgets/controls",
      "model_module_version": "1.2.0",
      "model_name": "HBoxModel",
      "state": {
       "children": [
        "IPY_MODEL_44f1965eb5cd4ac4b293c831267c6f0d",
        "IPY_MODEL_d408a748cc8b47c7b8e892fc489a8ba9"
       ],
       "layout": "IPY_MODEL_390be4834c3a4347bfa6916a39bf82b8"
      }
     },
     "5372c7239c07420a9f104785dfc4a064": {
      "model_module": "@jupyter-widgets/base",
      "model_module_version": "1.0.0",
      "model_name": "LayoutModel",
      "state": {
       "width": "600px"
      }
     },
     "53d575e142cb402ba73829ea4b0b47c2": {
      "model_module": "@jupyter-widgets/base",
      "model_module_version": "1.0.0",
      "model_name": "LayoutModel",
      "state": {
       "justify_content": "center"
      }
     },
     "53dc585445fa432eacc71bb270baac64": {
      "model_module": "@jupyter-widgets/controls",
      "model_module_version": "1.2.0",
      "model_name": "DescriptionStyleModel",
      "state": {
       "description_width": ""
      }
     },
     "53f3e6375d444ba28fab2238b4f8c752": {
      "model_module": "@jupyter-widgets/controls",
      "model_module_version": "1.2.0",
      "model_name": "CheckboxModel",
      "state": {
       "description": "Mädchen",
       "disabled": false,
       "layout": "IPY_MODEL_415fb1497c364e5ea978c8b8f28ad297",
       "style": "IPY_MODEL_91627c282d3d40e6bb2248293c25ae1e",
       "value": false
      }
     },
     "541d9ff143974f8bb315a79aab2a22a3": {
      "model_module": "@jupyter-widgets/base",
      "model_module_version": "1.0.0",
      "model_name": "LayoutModel",
      "state": {
       "width": "250px"
      }
     },
     "542a59405ef948c78263037962c83b46": {
      "model_module": "@jupyter-widgets/base",
      "model_module_version": "1.0.0",
      "model_name": "LayoutModel",
      "state": {
       "width": "600px"
      }
     },
     "54533b62660649cab207f35840191a8e": {
      "model_module": "@jupyter-widgets/controls",
      "model_module_version": "1.2.0",
      "model_name": "VBoxModel",
      "state": {
       "children": [
        "IPY_MODEL_0ed26ffd3927494e88ee110e4ce4f84b",
        "IPY_MODEL_27b6efa2637f4296929abd7f0d27e1c4"
       ],
       "layout": "IPY_MODEL_a0ef1cefc8894f448c2b338355597189"
      }
     },
     "548c82159041482e9b6e9ab2bbc88b85": {
      "model_module": "@jupyter-widgets/base",
      "model_module_version": "1.0.0",
      "model_name": "LayoutModel",
      "state": {}
     },
     "5491c3897fd242aa8d4adefcebd8886a": {
      "model_module": "@jupyter-widgets/base",
      "model_module_version": "1.0.0",
      "model_name": "LayoutModel",
      "state": {
       "width": "250px"
      }
     },
     "54a2a90e34144a6cb2816b8301c82d13": {
      "model_module": "@jupyter-widgets/base",
      "model_module_version": "1.0.0",
      "model_name": "LayoutModel",
      "state": {
       "width": "600px"
      }
     },
     "54b1f6e9aa414b0ba3dbb56e33f9af58": {
      "model_module": "@jupyter-widgets/controls",
      "model_module_version": "1.2.0",
      "model_name": "DescriptionStyleModel",
      "state": {
       "description_width": "initial"
      }
     },
     "54b72274e5f9470baf0d2aa22c1f02ff": {
      "model_module": "@jupyter-widgets/controls",
      "model_module_version": "1.2.0",
      "model_name": "ButtonStyleModel",
      "state": {}
     },
     "54b878f771c14840a0dc0bb7908c98fd": {
      "model_module": "@jupyter-widgets/base",
      "model_module_version": "1.0.0",
      "model_name": "LayoutModel",
      "state": {}
     },
     "54c3eabff54e4803a3a9a08f8aafbcab": {
      "model_module": "@jupyter-widgets/controls",
      "model_module_version": "1.2.0",
      "model_name": "ButtonModel",
      "state": {
       "description": "amod",
       "layout": "IPY_MODEL_00ef9a1c2fd34e21b94b66e46248a238",
       "style": "IPY_MODEL_556602fa0eeb4448aa000d0adf3ab258"
      }
     },
     "54f0761a39334c5e97e301263879ed6f": {
      "model_module": "@jupyter-widgets/controls",
      "model_module_version": "1.2.0",
      "model_name": "ButtonStyleModel",
      "state": {}
     },
     "54f31fe6e57b496ea34e17500c4708d8": {
      "model_module": "@jupyter-widgets/controls",
      "model_module_version": "1.2.0",
      "model_name": "DropdownModel",
      "state": {
       "_options_labels": [
        "Dependenz",
        "Valenz",
        " "
       ],
       "index": 2,
       "layout": "IPY_MODEL_6bf29939913a42f18971af00f8d9e8d0",
       "style": "IPY_MODEL_f649a32baa554aaabeb1c78e9656e073"
      }
     },
     "550c1fde20484d878824ed1282e568b8": {
      "model_module": "@jupyter-widgets/controls",
      "model_module_version": "1.2.0",
      "model_name": "ButtonModel",
      "state": {
       "description": "det",
       "layout": "IPY_MODEL_57de9e5a65c4472886d9c2855e4df456",
       "style": "IPY_MODEL_10acc562ef2240598bed64e8335c9cc9"
      }
     },
     "55102b18b821467883715ed7b0816f48": {
      "model_module": "@jupyter-widgets/controls",
      "model_module_version": "1.2.0",
      "model_name": "HTMLModel",
      "state": {
       "layout": "IPY_MODEL_6a928b0a344d4615bae6d92793088db1",
       "style": "IPY_MODEL_f879908e2fcd4a7c9e7db9b8782ce49a",
       "value": "<i>Markieren Sie <ins>alle</ins> passenden Antworten: </i>"
      }
     },
     "55252671d20b41318b3fa2c976a0401b": {
      "model_module": "@jupyter-widgets/controls",
      "model_module_version": "1.2.0",
      "model_name": "DescriptionStyleModel",
      "state": {
       "description_width": "initial"
      }
     },
     "5554803b66424ea398fc80930e59bff5": {
      "model_module": "@jupyter-widgets/base",
      "model_module_version": "1.0.0",
      "model_name": "LayoutModel",
      "state": {
       "width": "600px"
      }
     },
     "556602fa0eeb4448aa000d0adf3ab258": {
      "model_module": "@jupyter-widgets/controls",
      "model_module_version": "1.2.0",
      "model_name": "ButtonStyleModel",
      "state": {}
     },
     "5582d8e398674320ad67f8d1c6f62e3b": {
      "model_module": "@jupyter-widgets/controls",
      "model_module_version": "1.2.0",
      "model_name": "VBoxModel",
      "state": {
       "children": [
        "IPY_MODEL_98b32949e59a4865b6e20cb560ace7cb",
        "IPY_MODEL_1500b551036a43488d0909e25b1d879d",
        "IPY_MODEL_b7c61ef5a0f245deabcf194252b4834b",
        "IPY_MODEL_53f3e6375d444ba28fab2238b4f8c752",
        "IPY_MODEL_9acde5d75e2f4f0c98cfdca2db84b4c0",
        "IPY_MODEL_97d0bebd233f49ea94a2104502b53e1c",
        "IPY_MODEL_2437a089d12f4bb2aa7054a0bfaf7ba0",
        "IPY_MODEL_8b708c5571c34b2cb71b0647de909ebf",
        "IPY_MODEL_49b0d20038b948c38be27a400fe59d74",
        "IPY_MODEL_ca5a6eb44e8e43868278f31a4076ced6"
       ],
       "layout": "IPY_MODEL_8450adf2a62840e9a3125b9234c01518"
      }
     },
     "55ff3a72db344b699206a635cc52e974": {
      "model_module": "@jupyter-widgets/controls",
      "model_module_version": "1.2.0",
      "model_name": "DescriptionStyleModel",
      "state": {
       "description_width": ""
      }
     },
     "561a6228483248c2b4ad8d855caf4601": {
      "model_module": "@jupyter-widgets/base",
      "model_module_version": "1.0.0",
      "model_name": "LayoutModel",
      "state": {}
     },
     "5638d2b0b630420f9816f9ee97e6df74": {
      "model_module": "@jupyter-widgets/base",
      "model_module_version": "1.0.0",
      "model_name": "LayoutModel",
      "state": {
       "justify_content": "center"
      }
     },
     "5679ca844dc14ca7bc5216e37b7c7809": {
      "model_module": "@jupyter-widgets/base",
      "model_module_version": "1.0.0",
      "model_name": "LayoutModel",
      "state": {
       "width": "250px"
      }
     },
     "569fd009725f45b8a142df0ffeae1b97": {
      "model_module": "@jupyter-widgets/controls",
      "model_module_version": "1.2.0",
      "model_name": "HTMLModel",
      "state": {
       "layout": "IPY_MODEL_00ae77dc3577490997b5f16d5e96f846",
       "style": "IPY_MODEL_18a02da364e94f0f9a2508a027ee2436",
       "value": "<h4 style=\"font-size:14px;\">Welche Art von Dependenz besteht jetzt zwischen <i> mit </i> und <i> S-Bahn </i> ?</h4>"
      }
     },
     "56ff93d6f78f4dd3bac83c7680315d71": {
      "model_module": "@jupyter-widgets/controls",
      "model_module_version": "1.2.0",
      "model_name": "DescriptionStyleModel",
      "state": {
       "description_width": "initial"
      }
     },
     "5749b464eff54d9faf4a48eb3584ea91": {
      "model_module": "@jupyter-widgets/controls",
      "model_module_version": "1.2.0",
      "model_name": "CheckboxModel",
      "state": {
       "description": "Verb kongruiert mit NP",
       "disabled": false,
       "layout": "IPY_MODEL_ad0992247db34a3dade74bf40ad0febf",
       "style": "IPY_MODEL_e574d83d082d4d109cab7ff637ab6f40",
       "value": false
      }
     },
     "574ec21747024d1583572d87ad33e94f": {
      "model_module": "@jupyter-widgets/controls",
      "model_module_version": "1.2.0",
      "model_name": "ButtonStyleModel",
      "state": {}
     },
     "579bf9891b62477b8831ec3ad136c3b4": {
      "model_module": "@jupyter-widgets/base",
      "model_module_version": "1.0.0",
      "model_name": "LayoutModel",
      "state": {
       "width": "600px"
      }
     },
     "57b3a93d9fc94b55b2caddec559a17ce": {
      "model_module": "@jupyter-widgets/base",
      "model_module_version": "1.0.0",
      "model_name": "LayoutModel",
      "state": {}
     },
     "57c261281b0d415ba78f432107773865": {
      "model_module": "@jupyter-widgets/controls",
      "model_module_version": "1.2.0",
      "model_name": "CheckboxModel",
      "state": {
       "description": "lebhaften",
       "disabled": false,
       "layout": "IPY_MODEL_794dcf6d8d9947aba75ed00b753eedff",
       "style": "IPY_MODEL_c24b5ed2e55d412aac282b0dad12cc26",
       "value": false
      }
     },
     "57c35aa17b2f47d0bdc31200b9839f62": {
      "model_module": "@jupyter-widgets/base",
      "model_module_version": "1.0.0",
      "model_name": "LayoutModel",
      "state": {
       "width": "150px"
      }
     },
     "57de9e5a65c4472886d9c2855e4df456": {
      "model_module": "@jupyter-widgets/base",
      "model_module_version": "1.0.0",
      "model_name": "LayoutModel",
      "state": {
       "width": "250px"
      }
     },
     "57e0fb694a3445b4a843a984c7aaab9e": {
      "model_module": "@jupyter-widgets/base",
      "model_module_version": "1.0.0",
      "model_name": "LayoutModel",
      "state": {}
     },
     "581351ed99964049b583867b416c101a": {
      "model_module": "@jupyter-widgets/base",
      "model_module_version": "1.0.0",
      "model_name": "LayoutModel",
      "state": {}
     },
     "581483c94384446c95cf84ee0876eaac": {
      "model_module": "@jupyter-widgets/controls",
      "model_module_version": "1.2.0",
      "model_name": "DescriptionStyleModel",
      "state": {
       "description_width": ""
      }
     },
     "5872b09c34544e518e4e791aad5315c1": {
      "model_module": "@jupyter-widgets/base",
      "model_module_version": "1.0.0",
      "model_name": "LayoutModel",
      "state": {
       "width": "600px"
      }
     },
     "587412a47253467fbfbe97cba713400e": {
      "model_module": "@jupyter-widgets/controls",
      "model_module_version": "1.2.0",
      "model_name": "CheckboxModel",
      "state": {
       "description": "ihrem",
       "disabled": false,
       "layout": "IPY_MODEL_5c1389b26370490dab8a1ceef1fac93c",
       "style": "IPY_MODEL_a299d0fea7844733b12bbe1baf570425",
       "value": false
      }
     },
     "5892baec7d674ba7b67b9cedffd7c267": {
      "model_module": "@jupyter-widgets/controls",
      "model_module_version": "1.2.0",
      "model_name": "ButtonModel",
      "state": {
       "description": "pcomp",
       "layout": "IPY_MODEL_df18b8ab09374a7e8301b501777bde6d",
       "style": "IPY_MODEL_fedec66ad45c45e286f1b175144670a0"
      }
     },
     "589c9f5cdfd44848bb05c47b67d9892c": {
      "model_module": "@jupyter-widgets/base",
      "model_module_version": "1.0.0",
      "model_name": "LayoutModel",
      "state": {
       "width": "600px"
      }
     },
     "58b68f8dffee403dac60ee88899cb517": {
      "model_module": "@jupyter-widgets/controls",
      "model_module_version": "1.2.0",
      "model_name": "DescriptionStyleModel",
      "state": {
       "description_width": ""
      }
     },
     "58bd66968b4a4f919b8d6e9bbd5449fb": {
      "model_module": "@jupyter-widgets/controls",
      "model_module_version": "1.2.0",
      "model_name": "CheckboxModel",
      "state": {
       "description": "Es gibt keine.",
       "disabled": false,
       "layout": "IPY_MODEL_01506c0b960746b3b18949cc7d5bce66",
       "style": "IPY_MODEL_1ba8dcfdabb342d1b366c82e12ac6dbd",
       "value": false
      }
     },
     "58e69465ea4342dbbc305cc7e2bdc285": {
      "model_module": "@jupyter-widgets/controls",
      "model_module_version": "1.2.0",
      "model_name": "VBoxModel",
      "state": {
       "children": [
        "IPY_MODEL_8ff575c6635c4f7cbef07b202efc1f7d",
        "IPY_MODEL_7fd6a822cfcd47a9b2f1ae12079dad50",
        "IPY_MODEL_d6b86fd89b364dfb9631a27563b7dc9b",
        "IPY_MODEL_b7aac63c9ac0440384850504adad7ea6",
        "IPY_MODEL_701b5d1249d344ed8c66ed2346a9bbd5",
        "IPY_MODEL_cdfcf6aa5ddc42819ad9524e23797747"
       ],
       "layout": "IPY_MODEL_685462c7dcea47c48f1d275bb120d5a2"
      }
     },
     "59380025446b46b28ffe423fe0aec3c2": {
      "model_module": "@jupyter-widgets/base",
      "model_module_version": "1.0.0",
      "model_name": "LayoutModel",
      "state": {}
     },
     "594103b291b742c1b9e32a920eaebc47": {
      "model_module": "@jupyter-widgets/controls",
      "model_module_version": "1.2.0",
      "model_name": "ButtonStyleModel",
      "state": {}
     },
     "596a03abbece4135a0c1cf5c51718101": {
      "model_module": "@jupyter-widgets/controls",
      "model_module_version": "1.2.0",
      "model_name": "DescriptionStyleModel",
      "state": {
       "description_width": "initial"
      }
     },
     "597561437f9741c7a1697a35da2211fc": {
      "model_module": "@jupyter-widgets/controls",
      "model_module_version": "1.2.0",
      "model_name": "HTMLModel",
      "state": {
       "layout": "IPY_MODEL_682604997312461ca31011e70875d752",
       "style": "IPY_MODEL_fc94e681a01441cc8b83513c6ff5ab24",
       "value": "<h4 style=\"font-size:14px;\">Um welchen Attributtyp handelt es sich bei dem Attribut <i>die sich aus irgendeinem Grunde immer wieder verzögert hatte</i>?</h4>"
      }
     },
     "59d493cd3d074e558a25348c24f55509": {
      "model_module": "@jupyter-widgets/controls",
      "model_module_version": "1.2.0",
      "model_name": "HTMLModel",
      "state": {
       "layout": "IPY_MODEL_fbc4ba19b8c241d783b7ff303a6d89f4",
       "style": "IPY_MODEL_8a9b7111b9c04ba18822dfece80b42ea",
       "value": "<h4 style=\"font-size:14px;\">Markieren Sie alle direkten Dependenten des Wortes <i> kenne </i>.</h4>"
      }
     },
     "59e6e21f9b384d159d4d781c0e40aa22": {
      "model_module": "@jupyter-widgets/controls",
      "model_module_version": "1.2.0",
      "model_name": "ButtonStyleModel",
      "state": {}
     },
     "59fca7f5966f49a8b7a99a1c97729c58": {
      "model_module": "@jupyter-widgets/controls",
      "model_module_version": "1.2.0",
      "model_name": "CheckboxModel",
      "state": {
       "description": "Es gibt keine.",
       "disabled": false,
       "layout": "IPY_MODEL_7ead442e09e24ca286090e103580d46a",
       "style": "IPY_MODEL_d161f521a37947309eeb9cd59e555a73",
       "value": false
      }
     },
     "59fdb7cecee74719b6e95f5614eadf3d": {
      "model_module": "@jupyter-widgets/base",
      "model_module_version": "1.0.0",
      "model_name": "LayoutModel",
      "state": {}
     },
     "5a09a6b7909e4f528f601dfa328e4ddf": {
      "model_module": "@jupyter-widgets/controls",
      "model_module_version": "1.2.0",
      "model_name": "VBoxModel",
      "state": {
       "children": [
        "IPY_MODEL_b76712b1907d432ba2f7862745037895",
        "IPY_MODEL_0aca6c5e47c54920bc5f690ea6dff5db",
        "IPY_MODEL_3870c90576034ad281d6fd977c285bf5",
        "IPY_MODEL_209a8af13dce4a0fb0f2523e90bebef1",
        "IPY_MODEL_60405221ace542d39bdc31089fabb444",
        "IPY_MODEL_fe4896f023e546c1858ecdf16afc2639"
       ],
       "layout": "IPY_MODEL_ddc5e5c9ec444717aff12980f5a5b205"
      }
     },
     "5a0ab1f7a341475098239c6192406fb7": {
      "model_module": "@jupyter-widgets/controls",
      "model_module_version": "1.2.0",
      "model_name": "DescriptionStyleModel",
      "state": {
       "description_width": "initial"
      }
     },
     "5a11177a4de841d380b673b04315fbfe": {
      "model_module": "@jupyter-widgets/base",
      "model_module_version": "1.0.0",
      "model_name": "LayoutModel",
      "state": {
       "width": "150px"
      }
     },
     "5a40e1dcabef4305b0edc0b68da8c94d": {
      "model_module": "@jupyter-widgets/controls",
      "model_module_version": "1.2.0",
      "model_name": "CheckboxModel",
      "state": {
       "description": "sehr",
       "disabled": false,
       "layout": "IPY_MODEL_4c66d1ab1cef40fb93721199210ab498",
       "style": "IPY_MODEL_b6b469ca38df43299e1a08f09436c236",
       "value": false
      }
     },
     "5a4ead53889645ae8d8e5274331a028d": {
      "model_module": "@jupyter-widgets/base",
      "model_module_version": "1.0.0",
      "model_name": "LayoutModel",
      "state": {}
     },
     "5a52092532af46f2a895335356c6684c": {
      "model_module": "@jupyter-widgets/controls",
      "model_module_version": "1.2.0",
      "model_name": "ButtonModel",
      "state": {
       "description": "pcomp",
       "layout": "IPY_MODEL_a324ba2791d444ecb0c71616e7178a92",
       "style": "IPY_MODEL_0037133518bc4d3ebeacf7dde2634f73"
      }
     },
     "5a5a0c3e6ef4483180889658a9fbe7d7": {
      "model_module": "@jupyter-widgets/controls",
      "model_module_version": "1.2.0",
      "model_name": "DescriptionStyleModel",
      "state": {
       "description_width": ""
      }
     },
     "5a5c0ebf93ab45fea0b5695c43f1f31a": {
      "model_module": "@jupyter-widgets/base",
      "model_module_version": "1.0.0",
      "model_name": "LayoutModel",
      "state": {}
     },
     "5a63d09f92fb4955b14bd9662f56ef26": {
      "model_module": "@jupyter-widgets/controls",
      "model_module_version": "1.2.0",
      "model_name": "ButtonStyleModel",
      "state": {}
     },
     "5a8b076d89ec49a994224afb8181e69c": {
      "model_module": "@jupyter-widgets/controls",
      "model_module_version": "1.2.0",
      "model_name": "DescriptionStyleModel",
      "state": {
       "description_width": "initial"
      }
     },
     "5a9c6dabc8f5471cad79fb3ecd0aa954": {
      "model_module": "@jupyter-widgets/base",
      "model_module_version": "1.0.0",
      "model_name": "LayoutModel",
      "state": {}
     },
     "5abffbfd3b014aac950de7955e9ed5c8": {
      "model_module": "@jupyter-widgets/controls",
      "model_module_version": "1.2.0",
      "model_name": "HTMLModel",
      "state": {
       "layout": "IPY_MODEL_4e32f2f81b2448018ace5542adfc5a8c",
       "style": "IPY_MODEL_1f94881d63994d7ead1878f3f1d76c9a",
       "value": "<i>Markieren Sie <ins>alle</ins> passenden Antworten: </i>"
      }
     },
     "5ae3c1cfa65f472eb0a9eb8f73213b80": {
      "model_module": "@jupyter-widgets/base",
      "model_module_version": "1.0.0",
      "model_name": "LayoutModel",
      "state": {}
     },
     "5afaa6e0791440b0bdfa56ec49e0e9bc": {
      "model_module": "@jupyter-widgets/base",
      "model_module_version": "1.0.0",
      "model_name": "LayoutModel",
      "state": {}
     },
     "5afd44ead31047ae9fa8161e9ea79859": {
      "model_module": "@jupyter-widgets/controls",
      "model_module_version": "1.2.0",
      "model_name": "ButtonModel",
      "state": {
       "description": "pcomp",
       "layout": "IPY_MODEL_c82bc3ac96f644629e5c2ed793272d3a",
       "style": "IPY_MODEL_594103b291b742c1b9e32a920eaebc47"
      }
     },
     "5b272ed5230a440183575a4a4feb5aff": {
      "model_module": "@jupyter-widgets/controls",
      "model_module_version": "1.2.0",
      "model_name": "DescriptionStyleModel",
      "state": {
       "description_width": "initial"
      }
     },
     "5b6c516724fc455ebf0ed7c2a8416fed": {
      "model_module": "@jupyter-widgets/controls",
      "model_module_version": "1.2.0",
      "model_name": "ButtonStyleModel",
      "state": {}
     },
     "5bd499f68cd346458cdc268ca8e37e76": {
      "model_module": "@jupyter-widgets/controls",
      "model_module_version": "1.2.0",
      "model_name": "CheckboxModel",
      "state": {
       "description": "einen",
       "disabled": false,
       "layout": "IPY_MODEL_a97e3094a7de44b590c5495157cf0ef9",
       "style": "IPY_MODEL_9ca915e4f5d04d93a19debeee68a2ce4",
       "value": false
      }
     },
     "5bd62d4f260243cebfe1a7d93027eda7": {
      "model_module": "@jupyter-widgets/base",
      "model_module_version": "1.0.0",
      "model_name": "LayoutModel",
      "state": {
       "width": "600px"
      }
     },
     "5be5765277f14b778d4f7ffbfcb7e514": {
      "model_module": "@jupyter-widgets/controls",
      "model_module_version": "1.2.0",
      "model_name": "DescriptionStyleModel",
      "state": {
       "description_width": ""
      }
     },
     "5bf12cca9ac6460299f46eb34814ec3b": {
      "model_module": "@jupyter-widgets/base",
      "model_module_version": "1.0.0",
      "model_name": "LayoutModel",
      "state": {
       "width": "600px"
      }
     },
     "5c1389b26370490dab8a1ceef1fac93c": {
      "model_module": "@jupyter-widgets/base",
      "model_module_version": "1.0.0",
      "model_name": "LayoutModel",
      "state": {
       "width": "600px"
      }
     },
     "5c2b2209788d4b1d8640e3232d0b1b15": {
      "model_module": "@jupyter-widgets/controls",
      "model_module_version": "1.2.0",
      "model_name": "ButtonModel",
      "state": {
       "description": "Korrekt?",
       "layout": "IPY_MODEL_f44f07d0e01644ecadd9f15c5740e34a",
       "style": "IPY_MODEL_4ce983254e0a4536bdcf6026fd0beeea"
      }
     },
     "5c7e68cdd9194604985a4ba71066c269": {
      "model_module": "@jupyter-widgets/controls",
      "model_module_version": "1.2.0",
      "model_name": "CheckboxModel",
      "state": {
       "description": "Weglassbarkeitstest",
       "disabled": false,
       "layout": "IPY_MODEL_ef4572913d42409493b6a10c3acb7d28",
       "style": "IPY_MODEL_97b9379c39a944459319ee044768093a",
       "value": false
      }
     },
     "5c95e96088e543039a2baba7d8f855f2": {
      "model_module": "@jupyter-widgets/base",
      "model_module_version": "1.0.0",
      "model_name": "LayoutModel",
      "state": {}
     },
     "5cb20266fb834b76aecad3f78c0e65a8": {
      "model_module": "@jupyter-widgets/controls",
      "model_module_version": "1.2.0",
      "model_name": "HTMLModel",
      "state": {
       "layout": "IPY_MODEL_5638d2b0b630420f9816f9ee97e6df74",
       "style": "IPY_MODEL_62713e666b064bf7a94e0c310fd9fd8f",
       "value": "<i>Markieren Sie <ins>alle</ins> passenden Antworten: </i>"
      }
     },
     "5cb903db9b3648958d4e9e4a7fc411ae": {
      "model_module": "@jupyter-widgets/base",
      "model_module_version": "1.0.0",
      "model_name": "LayoutModel",
      "state": {
       "width": "250px"
      }
     },
     "5cd7f33eaa53407db30376bf1df21391": {
      "model_module": "@jupyter-widgets/controls",
      "model_module_version": "1.2.0",
      "model_name": "HTMLModel",
      "state": {
       "layout": "IPY_MODEL_9477b5fb225342d89f0d4ad08cc5550a",
       "style": "IPY_MODEL_de7b21371e944e36a3d3a673766c7e71",
       "value": "<h4 style=\"font-size:14px;\">Die Wortgruppe <i> sehr_gut </i> stellt im Satz ein</h4>"
      }
     },
     "5d0786c6747c4bbb83a627c4076e8974": {
      "model_module": "@jupyter-widgets/controls",
      "model_module_version": "1.2.0",
      "model_name": "DescriptionStyleModel",
      "state": {
       "description_width": ""
      }
     },
     "5d39fa53b45c48c9b9feff90cc337cbd": {
      "model_module": "@jupyter-widgets/base",
      "model_module_version": "1.0.0",
      "model_name": "LayoutModel",
      "state": {}
     },
     "5d41a57458024d9f8071705bedbb4a56": {
      "model_module": "@jupyter-widgets/controls",
      "model_module_version": "1.2.0",
      "model_name": "ButtonStyleModel",
      "state": {}
     },
     "5d42cd4cb5c44af3846b14cb53abb678": {
      "model_module": "@jupyter-widgets/base",
      "model_module_version": "1.0.0",
      "model_name": "LayoutModel",
      "state": {
       "width": "250px"
      }
     },
     "5d443050f36348029a213d71defed9a9": {
      "model_module": "@jupyter-widgets/controls",
      "model_module_version": "1.2.0",
      "model_name": "DescriptionStyleModel",
      "state": {
       "description_width": ""
      }
     },
     "5d5eafa9128f4b018047490979af7ab8": {
      "model_module": "@jupyter-widgets/controls",
      "model_module_version": "1.2.0",
      "model_name": "ButtonModel",
      "state": {
       "description": "Angabe",
       "layout": "IPY_MODEL_5051447b0e4540df98947f8b47afb67d",
       "style": "IPY_MODEL_5feec245ca3a4c80bfa568d617384808"
      }
     },
     "5d93ee6df4d34cce930a1cba466448cf": {
      "model_module": "@jupyter-widgets/base",
      "model_module_version": "1.0.0",
      "model_name": "LayoutModel",
      "state": {
       "width": "600px"
      }
     },
     "5de6dca48e74409eaaf860e172b0aa2b": {
      "model_module": "@jupyter-widgets/base",
      "model_module_version": "1.0.0",
      "model_name": "LayoutModel",
      "state": {
       "justify_content": "center"
      }
     },
     "5df16db618d5410f9a95139f783a3b82": {
      "model_module": "@jupyter-widgets/controls",
      "model_module_version": "1.2.0",
      "model_name": "DescriptionStyleModel",
      "state": {
       "description_width": ""
      }
     },
     "5e8146fd0b4440b0bf22cbe54ba6b641": {
      "model_module": "@jupyter-widgets/controls",
      "model_module_version": "1.2.0",
      "model_name": "DescriptionStyleModel",
      "state": {
       "description_width": ""
      }
     },
     "5e9eed9e74d64b8b9e4bc40307b5d656": {
      "model_module": "@jupyter-widgets/controls",
      "model_module_version": "1.2.0",
      "model_name": "ButtonModel",
      "state": {
       "description": "amod",
       "layout": "IPY_MODEL_0f7deb2c3efb41dd8b7ba568f1b22bdc",
       "style": "IPY_MODEL_d970c4092a1342d586c7a423f208f60c"
      }
     },
     "5ea2b4eba034462ca04dee0cda2bd2d5": {
      "model_module": "@jupyter-widgets/controls",
      "model_module_version": "1.2.0",
      "model_name": "CheckboxModel",
      "state": {
       "description": "1. Satz (auf das Pferd)",
       "disabled": false,
       "layout": "IPY_MODEL_ee38c47ac0ea42e9945829a13d189454",
       "style": "IPY_MODEL_70f2156662c64d0facacf7c6b8852522",
       "value": false
      }
     },
     "5ea6f0f56173418d887c764b5e98b9da": {
      "model_module": "@jupyter-widgets/base",
      "model_module_version": "1.0.0",
      "model_name": "LayoutModel",
      "state": {
       "justify_content": "center"
      }
     },
     "5eaf3a4b776e4df19e2af705beb5ada2": {
      "model_module": "@jupyter-widgets/controls",
      "model_module_version": "1.2.0",
      "model_name": "CheckboxModel",
      "state": {
       "description": "älteren",
       "disabled": false,
       "layout": "IPY_MODEL_e706d6f0110f45ccbf1f4978e52dc7c3",
       "style": "IPY_MODEL_cdc4cad9c70f44f0a4ba76abe92349e5",
       "value": false
      }
     },
     "5ec16e279c4a466f8842e9b559823f86": {
      "model_module": "@jupyter-widgets/base",
      "model_module_version": "1.0.0",
      "model_name": "LayoutModel",
      "state": {
       "width": "600px"
      }
     },
     "5f09393c9a6e4d379564c84e0e95c352": {
      "model_module": "@jupyter-widgets/controls",
      "model_module_version": "1.2.0",
      "model_name": "CheckboxModel",
      "state": {
       "description": "Bruder",
       "disabled": false,
       "layout": "IPY_MODEL_fa71f25ff72d4f968bf5c19671e6ceed",
       "style": "IPY_MODEL_11c8abd063ef418ea7ac0fe553024b7b",
       "value": false
      }
     },
     "5f20a9229c19482a8cac5a52ff2a48de": {
      "model_module": "@jupyter-widgets/controls",
      "model_module_version": "1.2.0",
      "model_name": "HTMLModel",
      "state": {
       "layout": "IPY_MODEL_7c6d2d9077d549408dc50eb80409e42c",
       "style": "IPY_MODEL_2c4376030f6f44eda77388373637b622",
       "value": "<i>Markieren Sie <ins>alle</ins> passenden Antworten: </i>"
      }
     },
     "5f2b39be64c54ec4bb7a09cc7b0d0d18": {
      "model_module": "@jupyter-widgets/base",
      "model_module_version": "1.0.0",
      "model_name": "LayoutModel",
      "state": {
       "width": "600px"
      }
     },
     "5f319f09aa74430abe8c67e58cede238": {
      "model_module": "@jupyter-widgets/base",
      "model_module_version": "1.0.0",
      "model_name": "LayoutModel",
      "state": {
       "width": "250px"
      }
     },
     "5f349ca74ea54d06ac4ffcbec92e2f94": {
      "model_module": "@jupyter-widgets/controls",
      "model_module_version": "1.2.0",
      "model_name": "ButtonStyleModel",
      "state": {}
     },
     "5f5addcaa290405cbeafe220957399d7": {
      "model_module": "@jupyter-widgets/controls",
      "model_module_version": "1.2.0",
      "model_name": "CheckboxModel",
      "state": {
       "description": "neue",
       "disabled": false,
       "layout": "IPY_MODEL_8dec6a4c254c4a09ba797fd156bdabeb",
       "style": "IPY_MODEL_bbed5e6a86ab44f18e463852e3836a5d",
       "value": false
      }
     },
     "5f787268969e4df78ee26b1286183e14": {
      "model_module": "@jupyter-widgets/controls",
      "model_module_version": "1.2.0",
      "model_name": "ButtonModel",
      "state": {
       "description": "Keine",
       "layout": "IPY_MODEL_541d9ff143974f8bb315a79aab2a22a3",
       "style": "IPY_MODEL_43ab7255966f49aeba662fa42597ff11"
      }
     },
     "5f8adefe2b5c4a8f8ac3c468050332b1": {
      "model_module": "@jupyter-widgets/base",
      "model_module_version": "1.0.0",
      "model_name": "LayoutModel",
      "state": {}
     },
     "5fa9b9161e8e49249572c720a89e42c5": {
      "model_module": "@jupyter-widgets/controls",
      "model_module_version": "1.2.0",
      "model_name": "ButtonModel",
      "state": {
       "description": "Korrekt?",
       "layout": "IPY_MODEL_b0bd6df400ab4711ae42dd700404a7a9",
       "style": "IPY_MODEL_f5cf8bb41d8746868e68d922866d8d3f"
      }
     },
     "5fd57d8fbe6041489021ce004503f3b8": {
      "model_module": "@jupyter-widgets/controls",
      "model_module_version": "1.2.0",
      "model_name": "DescriptionStyleModel",
      "state": {
       "description_width": ""
      }
     },
     "5fd93dc3e9764b0395354c7f3819fc57": {
      "model_module": "@jupyter-widgets/controls",
      "model_module_version": "1.2.0",
      "model_name": "HTMLModel",
      "state": {
       "layout": "IPY_MODEL_37e609ca492544489056ded08a375f48",
       "style": "IPY_MODEL_881da3f1fc094c51a946f54ae666491a",
       "value": "<i>Wählen Sie die <ins>eine</ins> korrekte Antwort aus: </i>"
      }
     },
     "5fdc1f80288d409181dfd8d1201fd99d": {
      "model_module": "@jupyter-widgets/base",
      "model_module_version": "1.0.0",
      "model_name": "LayoutModel",
      "state": {
       "width": "600px"
      }
     },
     "5feec245ca3a4c80bfa568d617384808": {
      "model_module": "@jupyter-widgets/controls",
      "model_module_version": "1.2.0",
      "model_name": "ButtonStyleModel",
      "state": {}
     },
     "5ff106a24ccf42e188b099e2f663d3ca": {
      "model_module": "@jupyter-widgets/controls",
      "model_module_version": "1.2.0",
      "model_name": "VBoxModel",
      "state": {
       "children": [
        "IPY_MODEL_b9ab8c9922804ab882f927f78ce6965a",
        "IPY_MODEL_3f11fc4d5e154b4eb43b49b5c9edbdb7",
        "IPY_MODEL_92dae538e61d4638ba39fe1cae8ea121",
        "IPY_MODEL_161605e072dd4db495b81a7f259d2e22",
        "IPY_MODEL_683d8917cd5541a486d366f79fcf7eb1"
       ],
       "layout": "IPY_MODEL_e0667f32f92e4aa0a0ef12a36e47d6a8"
      }
     },
     "601d3c73c4344a99a0e03d387818e69e": {
      "model_module": "@jupyter-widgets/controls",
      "model_module_version": "1.2.0",
      "model_name": "ButtonStyleModel",
      "state": {}
     },
     "6021abde60334404a585dbf07ddcd1ed": {
      "model_module": "@jupyter-widgets/controls",
      "model_module_version": "1.2.0",
      "model_name": "ButtonModel",
      "state": {
       "description": "det",
       "layout": "IPY_MODEL_c5464940c0984cd59cdca519513d5e87",
       "style": "IPY_MODEL_5d41a57458024d9f8071705bedbb4a56"
      }
     },
     "60405221ace542d39bdc31089fabb444": {
      "model_module": "@jupyter-widgets/controls",
      "model_module_version": "1.2.0",
      "model_name": "HBoxModel",
      "state": {
       "children": [
        "IPY_MODEL_3b525838cc5e4d63a5919d0b5c6b9623",
        "IPY_MODEL_e40f63732c224b7086697d62a7cb8f15"
       ],
       "layout": "IPY_MODEL_193a6972126547b58505e54080d9211a"
      }
     },
     "605c78213f8c4200803f5fad914c68b9": {
      "model_module": "@jupyter-widgets/controls",
      "model_module_version": "1.2.0",
      "model_name": "ButtonModel",
      "state": {
       "description": "nsubj",
       "layout": "IPY_MODEL_d8221188ed0b4bd5b0055afe029eb345",
       "style": "IPY_MODEL_40982de93fde42daa2a2cb440d1813f9"
      }
     },
     "60671c81505c498d9de9669547f09dce": {
      "model_module": "@jupyter-widgets/base",
      "model_module_version": "1.0.0",
      "model_name": "LayoutModel",
      "state": {
       "width": "600px"
      }
     },
     "60789c1079c749a39a6c9b06d7a860d5": {
      "model_module": "@jupyter-widgets/controls",
      "model_module_version": "1.2.0",
      "model_name": "DescriptionStyleModel",
      "state": {
       "description_width": "initial"
      }
     },
     "608e8cbd77b649748e2e547eb5be92e8": {
      "model_module": "@jupyter-widgets/controls",
      "model_module_version": "1.2.0",
      "model_name": "CheckboxModel",
      "state": {
       "description": "Die neue Kollegin fährt mit der S-Bahn zu ihrem neuen Arbeitsplatz",
       "disabled": false,
       "layout": "IPY_MODEL_b3079df729ff45f2bbfabd61b5465c68",
       "style": "IPY_MODEL_55252671d20b41318b3fa2c976a0401b",
       "value": false
      }
     },
     "609978d25ebe4a23b2abc64884c2d60b": {
      "model_module": "@jupyter-widgets/controls",
      "model_module_version": "1.2.0",
      "model_name": "ButtonStyleModel",
      "state": {}
     },
     "60a3fec0dd2d4cd2879942a3f7c90a32": {
      "model_module": "@jupyter-widgets/controls",
      "model_module_version": "1.2.0",
      "model_name": "CheckboxModel",
      "state": {
       "description": "S-Bahn",
       "disabled": false,
       "layout": "IPY_MODEL_cdcf9db1dbb241adacbc684a5967fc3f",
       "style": "IPY_MODEL_2c1b4285adda470d93b1ab228cf28658",
       "value": false
      }
     },
     "6108bb6d18cc4834af6f0a7458049716": {
      "model_module": "@jupyter-widgets/base",
      "model_module_version": "1.0.0",
      "model_name": "LayoutModel",
      "state": {
       "justify_content": "center"
      }
     },
     "614cfc96bbe64a58a68975f5ec06f08e": {
      "model_module": "@jupyter-widgets/base",
      "model_module_version": "1.0.0",
      "model_name": "LayoutModel",
      "state": {
       "width": "250px"
      }
     },
     "61542344571843b2990c6569efe43956": {
      "model_module": "@jupyter-widgets/controls",
      "model_module_version": "1.2.0",
      "model_name": "DescriptionStyleModel",
      "state": {
       "description_width": "initial"
      }
     },
     "6168cd3068b841b5a4d30ef954cd7a9b": {
      "model_module": "@jupyter-widgets/controls",
      "model_module_version": "1.2.0",
      "model_name": "ButtonStyleModel",
      "state": {}
     },
     "61695b20043948d49da9e07654c81ea3": {
      "model_module": "@jupyter-widgets/controls",
      "model_module_version": "1.2.0",
      "model_name": "HBoxModel",
      "state": {
       "children": [
        "IPY_MODEL_88b77db5b141404d9a9d8e551394c8c0",
        "IPY_MODEL_c06ca34bdd9443f28fc36197d828eb8f"
       ],
       "layout": "IPY_MODEL_50c38a1d33e04bc8abe0fc1f6ac792f6"
      }
     },
     "6191f186f8584de6a9c02e6b905b8e8a": {
      "model_module": "@jupyter-widgets/controls",
      "model_module_version": "1.2.0",
      "model_name": "HBoxModel",
      "state": {
       "children": [
        "IPY_MODEL_dcff2ff54e6944f7becba3e1c7d137f4",
        "IPY_MODEL_605c78213f8c4200803f5fad914c68b9"
       ],
       "layout": "IPY_MODEL_48aa760798584ab2b6066d4ddff38181"
      }
     },
     "61b0c79acd1048aa91ef89e59d928b49": {
      "model_module": "@jupyter-widgets/controls",
      "model_module_version": "1.2.0",
      "model_name": "DescriptionStyleModel",
      "state": {
       "description_width": ""
      }
     },
     "62568a17394d49eb88f1a7409175710b": {
      "model_module": "@jupyter-widgets/base",
      "model_module_version": "1.0.0",
      "model_name": "LayoutModel",
      "state": {
       "width": "250px"
      }
     },
     "625e1549a9a5405f929d6c8d07a3a698": {
      "model_module": "@jupyter-widgets/controls",
      "model_module_version": "1.2.0",
      "model_name": "DropdownModel",
      "state": {
       "_options_labels": [
        "Lokaladverbial",
        "Modaladverbial",
        " "
       ],
       "index": 2,
       "layout": "IPY_MODEL_6f53f20e194546ffa02945f5586bc210",
       "style": "IPY_MODEL_b00164a185954065a4f9152717566c8a"
      }
     },
     "62713e666b064bf7a94e0c310fd9fd8f": {
      "model_module": "@jupyter-widgets/controls",
      "model_module_version": "1.2.0",
      "model_name": "DescriptionStyleModel",
      "state": {
       "description_width": ""
      }
     },
     "6299deb307f248c3b3d1d34287583514": {
      "model_module": "@jupyter-widgets/controls",
      "model_module_version": "1.2.0",
      "model_name": "HTMLModel",
      "state": {
       "layout": "IPY_MODEL_bdc47f6b083a451f8b0ee24ee409a921",
       "style": "IPY_MODEL_28d9904d689e48798f9241395288cd7e",
       "value": "<i>Markieren Sie <ins>alle</ins> passenden Antworten: </i>"
      }
     },
     "62af72242a7f4470a495bfe440d9a1ec": {
      "model_module": "@jupyter-widgets/base",
      "model_module_version": "1.0.0",
      "model_name": "LayoutModel",
      "state": {}
     },
     "62c1c46b2c7b4542bad9432feb8f8118": {
      "model_module": "@jupyter-widgets/controls",
      "model_module_version": "1.2.0",
      "model_name": "ButtonModel",
      "state": {
       "description": "prep",
       "layout": "IPY_MODEL_ca2b652119c143529387b6c882da4f29",
       "style": "IPY_MODEL_70e58c2435c344a28ac554f1a6880610"
      }
     },
     "62c744f380bd4cdbab8097122f9367e7": {
      "model_module": "@jupyter-widgets/controls",
      "model_module_version": "1.2.0",
      "model_name": "DescriptionStyleModel",
      "state": {
       "description_width": "initial"
      }
     },
     "62ef9b2cab1a450ab1d50cafb97740ee": {
      "model_module": "@jupyter-widgets/base",
      "model_module_version": "1.0.0",
      "model_name": "LayoutModel",
      "state": {
       "width": "600px"
      }
     },
     "6302cb66ef894d53bd52c190045531f3": {
      "model_module": "@jupyter-widgets/controls",
      "model_module_version": "1.2.0",
      "model_name": "DescriptionStyleModel",
      "state": {
       "description_width": "initial"
      }
     },
     "633da54608194d84840bb018869dcb7f": {
      "model_module": "@jupyter-widgets/controls",
      "model_module_version": "1.2.0",
      "model_name": "VBoxModel",
      "state": {
       "children": [
        "IPY_MODEL_7f11c0d7e9e8457ca4c5b3e47eca1fc2",
        "IPY_MODEL_c7965960c9644e639962e2ed84e13086",
        "IPY_MODEL_3243f6523dc84759b9290e8e1e9ea4ea",
        "IPY_MODEL_1b82e57540d545979a6e6fbbe6e7a937",
        "IPY_MODEL_25c715d974c44ddeb140de6e84a159e8",
        "IPY_MODEL_043e9b2822f5404eb132a60bbc7ba85d",
        "IPY_MODEL_4753aeee63494bf8ac949d15f18a4ecf",
        "IPY_MODEL_17fde891dbb844ed8ea25cd3b60f503c",
        "IPY_MODEL_5f5addcaa290405cbeafe220957399d7",
        "IPY_MODEL_3567111c81764458bcf983e56fef6243"
       ],
       "layout": "IPY_MODEL_9d15480ebb864400911b9e36472a762b"
      }
     },
     "637b2475673a40329b46c0ef6d245d61": {
      "model_module": "@jupyter-widgets/controls",
      "model_module_version": "1.2.0",
      "model_name": "ButtonModel",
      "state": {
       "description": "Korrekt?",
       "layout": "IPY_MODEL_6e6db40cc24949a3b6881c4f0b41b985",
       "style": "IPY_MODEL_0dd97c34fe884e8b8d616b2129c86142"
      }
     },
     "638088bde46d403bad905ab701e837a2": {
      "model_module": "@jupyter-widgets/controls",
      "model_module_version": "1.2.0",
      "model_name": "ButtonStyleModel",
      "state": {}
     },
     "638a979aa72345ba9c1a7a6566d8f303": {
      "model_module": "@jupyter-widgets/base",
      "model_module_version": "1.0.0",
      "model_name": "LayoutModel",
      "state": {
       "width": "250px"
      }
     },
     "63bdc60ebbe64ec7ac25fa58045ebe39": {
      "model_module": "@jupyter-widgets/controls",
      "model_module_version": "1.2.0",
      "model_name": "DescriptionStyleModel",
      "state": {
       "description_width": "initial"
      }
     },
     "63db5a64e64d4cfbbdfbda2deac4cb3b": {
      "model_module": "@jupyter-widgets/base",
      "model_module_version": "1.0.0",
      "model_name": "LayoutModel",
      "state": {}
     },
     "63eaeb53ea3e46f08c7a5a8d73a6622f": {
      "model_module": "@jupyter-widgets/controls",
      "model_module_version": "1.2.0",
      "model_name": "ButtonStyleModel",
      "state": {}
     },
     "63ed041cf7744155b0ece054a90a2e5c": {
      "model_module": "@jupyter-widgets/base",
      "model_module_version": "1.0.0",
      "model_name": "LayoutModel",
      "state": {
       "justify_content": "center"
      }
     },
     "64046c32158d4f85a8c8648b81bd15ff": {
      "model_module": "@jupyter-widgets/controls",
      "model_module_version": "1.2.0",
      "model_name": "ButtonStyleModel",
      "state": {}
     },
     "641ed22d607642369a245177e744fefd": {
      "model_module": "@jupyter-widgets/base",
      "model_module_version": "1.0.0",
      "model_name": "LayoutModel",
      "state": {
       "width": "600px"
      }
     },
     "643dc3283e9742e7b59da36936882f62": {
      "model_module": "@jupyter-widgets/controls",
      "model_module_version": "1.2.0",
      "model_name": "ButtonStyleModel",
      "state": {}
     },
     "6475e0126c2146348b97f937830f39b2": {
      "model_module": "@jupyter-widgets/controls",
      "model_module_version": "1.2.0",
      "model_name": "HBoxModel",
      "state": {
       "children": [
        "IPY_MODEL_bb5a4f990b0d485a892d37e5cedd3a32",
        "IPY_MODEL_daaead37d0d54142a65b1259e307777a"
       ],
       "layout": "IPY_MODEL_d0d250d8c0b14ca2bb126ca843488e51"
      }
     },
     "64b1922b6f1e4466b58621a801f6bd0d": {
      "model_module": "@jupyter-widgets/base",
      "model_module_version": "1.0.0",
      "model_name": "LayoutModel",
      "state": {
       "width": "150px"
      }
     },
     "64c3f127cbbb49fb8caefb538c30b01d": {
      "model_module": "@jupyter-widgets/controls",
      "model_module_version": "1.2.0",
      "model_name": "ButtonModel",
      "state": {
       "description": "amod",
       "layout": "IPY_MODEL_d6fee293ae14453bb2579364697ced6d",
       "style": "IPY_MODEL_320ce0f9f2e54a0c851817e2b5adb98f"
      }
     },
     "64ff5b3f654f4a7da5b24377bd8dc5dc": {
      "model_module": "@jupyter-widgets/controls",
      "model_module_version": "1.2.0",
      "model_name": "VBoxModel",
      "state": {
       "children": [
        "IPY_MODEL_4254058aef714f0280e71df3eacc20a6",
        "IPY_MODEL_4ba15a6949294c749b50cfc6d4bf999e",
        "IPY_MODEL_9d66a7c65c344ce3a35ddf69b995b830",
        "IPY_MODEL_60a3fec0dd2d4cd2879942a3f7c90a32",
        "IPY_MODEL_00c4487fa2204ebbb3cd26924c3f64d5",
        "IPY_MODEL_4d36c13213e5458b8db55abd6756363f",
        "IPY_MODEL_9d9556110f0f4a76afc7755c6fc06362",
        "IPY_MODEL_2a41ac1a47e44cc2a099b55d1247a514",
        "IPY_MODEL_3bddc965471b440586e4436b6143d3c9",
        "IPY_MODEL_7f8369b5983e44be94ef975710cd808e"
       ],
       "layout": "IPY_MODEL_be4e9d89af0e4efe834743634f9ff8aa"
      }
     },
     "65316159de5d4213b6d3a3bf69bf50e5": {
      "model_module": "@jupyter-widgets/base",
      "model_module_version": "1.0.0",
      "model_name": "LayoutModel",
      "state": {
       "width": "600px"
      }
     },
     "65702f23b8854e87ae8f0689df4eefb1": {
      "model_module": "@jupyter-widgets/base",
      "model_module_version": "1.0.0",
      "model_name": "LayoutModel",
      "state": {}
     },
     "65ad96943ac647fba4325687882ea8b0": {
      "model_module": "@jupyter-widgets/controls",
      "model_module_version": "1.2.0",
      "model_name": "ButtonModel",
      "state": {
       "description": "Korrekt?",
       "layout": "IPY_MODEL_a1f8462e2db0494cb32fe4948554b488",
       "style": "IPY_MODEL_d3c3d47b8d964dd5a7653e3049133a3a"
      }
     },
     "65d5a0ab06384f4797c8310b39bd3a47": {
      "model_module": "@jupyter-widgets/base",
      "model_module_version": "1.0.0",
      "model_name": "LayoutModel",
      "state": {}
     },
     "660800f56f4a438680d9369a6afec68d": {
      "model_module": "@jupyter-widgets/controls",
      "model_module_version": "1.2.0",
      "model_name": "HTMLModel",
      "state": {
       "layout": "IPY_MODEL_3ff73f415d60433eb792fcbd1f49d7f8",
       "style": "IPY_MODEL_375e9ed501c1484685e68eb35626e0e6",
       "value": "<h4 style=\"font-size:14px;\">wird als</h4>"
      }
     },
     "6645dc93852d444f9c9891bfeb93c9c3": {
      "model_module": "@jupyter-widgets/base",
      "model_module_version": "1.0.0",
      "model_name": "LayoutModel",
      "state": {
       "width": "600px"
      }
     },
     "665a920a0bba47938b1a54a07dd56dc6": {
      "model_module": "@jupyter-widgets/controls",
      "model_module_version": "1.2.0",
      "model_name": "CheckboxModel",
      "state": {
       "description": "Patienseigenschaften",
       "disabled": false,
       "layout": "IPY_MODEL_ebd68d0c413c469895cc7355c5c7986d",
       "style": "IPY_MODEL_cffe6a36cff7465896f624a4eb8990e6",
       "value": false
      }
     },
     "665e9deff0bd4c658e1f84e7420cd963": {
      "model_module": "@jupyter-widgets/controls",
      "model_module_version": "1.2.0",
      "model_name": "ButtonStyleModel",
      "state": {}
     },
     "665ee938b13d4ef19ef6aa8260a9f23b": {
      "model_module": "@jupyter-widgets/controls",
      "model_module_version": "1.2.0",
      "model_name": "DescriptionStyleModel",
      "state": {
       "description_width": "initial"
      }
     },
     "667970257d0644c082b2d733ce626cbf": {
      "model_module": "@jupyter-widgets/base",
      "model_module_version": "1.0.0",
      "model_name": "LayoutModel",
      "state": {
       "justify_content": "center"
      }
     },
     "669090f178e744ae96a65ecdd2f93a24": {
      "model_module": "@jupyter-widgets/base",
      "model_module_version": "1.0.0",
      "model_name": "LayoutModel",
      "state": {}
     },
     "66d74b5e2dd84690b004dab2a467075c": {
      "model_module": "@jupyter-widgets/controls",
      "model_module_version": "1.2.0",
      "model_name": "CheckboxModel",
      "state": {
       "description": "1. Satz (auf das Pferd)",
       "disabled": false,
       "layout": "IPY_MODEL_ce33507bcab04e6b825b5298009c21a4",
       "style": "IPY_MODEL_a411d6410d0b4ab6bcba828a6b4b8057",
       "value": false
      }
     },
     "671c50395c8b434bb48f08ed5d5af6a5": {
      "model_module": "@jupyter-widgets/controls",
      "model_module_version": "1.2.0",
      "model_name": "DescriptionStyleModel",
      "state": {
       "description_width": ""
      }
     },
     "6722fc9b4a074325a107a0a416d238b3": {
      "model_module": "@jupyter-widgets/controls",
      "model_module_version": "1.2.0",
      "model_name": "DescriptionStyleModel",
      "state": {
       "description_width": ""
      }
     },
     "67262279daff44e89588976d07159a9c": {
      "model_module": "@jupyter-widgets/controls",
      "model_module_version": "1.2.0",
      "model_name": "ButtonStyleModel",
      "state": {}
     },
     "6731b9f50f944d3e9c420ce69f66f4f1": {
      "model_module": "@jupyter-widgets/base",
      "model_module_version": "1.0.0",
      "model_name": "LayoutModel",
      "state": {
       "width": "250px"
      }
     },
     "6763b63a41184b1f877b277ac6bd95a2": {
      "model_module": "@jupyter-widgets/controls",
      "model_module_version": "1.2.0",
      "model_name": "DescriptionStyleModel",
      "state": {
       "description_width": "initial"
      }
     },
     "676f8aca86f54e2aada0726f9fe8eaef": {
      "model_module": "@jupyter-widgets/controls",
      "model_module_version": "1.2.0",
      "model_name": "ButtonStyleModel",
      "state": {}
     },
     "679f8718edc34b46b5b482594494368d": {
      "model_module": "@jupyter-widgets/controls",
      "model_module_version": "1.2.0",
      "model_name": "HTMLModel",
      "state": {
       "layout": "IPY_MODEL_0a10dce978644e209a11352fbb009a7c",
       "style": "IPY_MODEL_5e8146fd0b4440b0bf22cbe54ba6b641",
       "value": "<h4 style=\"font-size:14px;\">Unter der Annahmen, dass alle Adverbiale Angaben sind: in welchen der Sätze ist das in Frage stehende Satzglied eine Angabe?</h4>"
      }
     },
     "67a931cfc30547eb9add1d6b64dd4eff": {
      "model_module": "@jupyter-widgets/base",
      "model_module_version": "1.0.0",
      "model_name": "LayoutModel",
      "state": {
       "justify_content": "center"
      }
     },
     "67f89c32e2974a64bdc2996e0d41dd81": {
      "model_module": "@jupyter-widgets/base",
      "model_module_version": "1.0.0",
      "model_name": "LayoutModel",
      "state": {}
     },
     "6821afdf4c95425a8af381e68e72b25d": {
      "model_module": "@jupyter-widgets/base",
      "model_module_version": "1.0.0",
      "model_name": "LayoutModel",
      "state": {
       "width": "150px"
      }
     },
     "682604997312461ca31011e70875d752": {
      "model_module": "@jupyter-widgets/base",
      "model_module_version": "1.0.0",
      "model_name": "LayoutModel",
      "state": {
       "justify_content": "center"
      }
     },
     "683d8917cd5541a486d366f79fcf7eb1": {
      "model_module": "@jupyter-widgets/controls",
      "model_module_version": "1.2.0",
      "model_name": "HBoxModel",
      "state": {
       "children": [
        "IPY_MODEL_5a52092532af46f2a895335356c6684c",
        "IPY_MODEL_fa6fcaad8d0b44aeb71955df24f87aed"
       ],
       "layout": "IPY_MODEL_bdcd31cff9794c79b153ca95fa840e45"
      }
     },
     "685462c7dcea47c48f1d275bb120d5a2": {
      "model_module": "@jupyter-widgets/base",
      "model_module_version": "1.0.0",
      "model_name": "LayoutModel",
      "state": {}
     },
     "68e939a08c054f02a499ab70bb9484d7": {
      "model_module": "@jupyter-widgets/base",
      "model_module_version": "1.0.0",
      "model_name": "LayoutModel",
      "state": {}
     },
     "692a48039d1c4c6ba8886c9300dc1031": {
      "model_module": "@jupyter-widgets/controls",
      "model_module_version": "1.2.0",
      "model_name": "ButtonModel",
      "state": {
       "description": "präpositional angeschlossen",
       "layout": "IPY_MODEL_8bbab925cbbc4a37a8884155829e7220",
       "style": "IPY_MODEL_508639aa3f0041bc9a3fb056dd0d6fd7"
      }
     },
     "693d5e116a2344ae9e4ba7d556340fd2": {
      "model_module": "@jupyter-widgets/controls",
      "model_module_version": "1.2.0",
      "model_name": "DescriptionStyleModel",
      "state": {
       "description_width": ""
      }
     },
     "6976bd5f0c23437a8759cd087e97533c": {
      "model_module": "@jupyter-widgets/base",
      "model_module_version": "1.0.0",
      "model_name": "LayoutModel",
      "state": {}
     },
     "698a43ec6f03472395ea4e490febb896": {
      "model_module": "@jupyter-widgets/controls",
      "model_module_version": "1.2.0",
      "model_name": "HBoxModel",
      "state": {
       "children": [
        "IPY_MODEL_c53d9112362c484ea85b5af6e3c4c29e",
        "IPY_MODEL_113c13cf6108466dab42ec05c3b26e75"
       ],
       "layout": "IPY_MODEL_c8a4a702f0ff46009e780f08283f33fe"
      }
     },
     "69b3db5902e14dbda6036bd3e67cf899": {
      "model_module": "@jupyter-widgets/controls",
      "model_module_version": "1.2.0",
      "model_name": "DescriptionStyleModel",
      "state": {
       "description_width": ""
      }
     },
     "69b6b3cf9eed473db07e980303cbe812": {
      "model_module": "@jupyter-widgets/base",
      "model_module_version": "1.0.0",
      "model_name": "LayoutModel",
      "state": {}
     },
     "69bee225c6dc498db1c2b514e30d7439": {
      "model_module": "@jupyter-widgets/controls",
      "model_module_version": "1.2.0",
      "model_name": "CheckboxModel",
      "state": {
       "description": "die",
       "disabled": false,
       "layout": "IPY_MODEL_a82a7c54defa4b86b3ad97c6b3c1c5f1",
       "style": "IPY_MODEL_665ee938b13d4ef19ef6aa8260a9f23b",
       "value": false
      }
     },
     "69d5f9c91d294bf59a6ea59b5e731370": {
      "model_module": "@jupyter-widgets/controls",
      "model_module_version": "1.2.0",
      "model_name": "ButtonStyleModel",
      "state": {}
     },
     "69d8e093f95d436b9229ea65c2f07aca": {
      "model_module": "@jupyter-widgets/controls",
      "model_module_version": "1.2.0",
      "model_name": "ButtonStyleModel",
      "state": {}
     },
     "6a2b1d7639ef44a492a4fadcaafed9c2": {
      "model_module": "@jupyter-widgets/base",
      "model_module_version": "1.0.0",
      "model_name": "LayoutModel",
      "state": {
       "justify_content": "center"
      }
     },
     "6a6a6107447d494789a1f678ccb8c777": {
      "model_module": "@jupyter-widgets/base",
      "model_module_version": "1.0.0",
      "model_name": "LayoutModel",
      "state": {}
     },
     "6a748a40776e4f31a7d5fa8219b7c6c1": {
      "model_module": "@jupyter-widgets/controls",
      "model_module_version": "1.2.0",
      "model_name": "DescriptionStyleModel",
      "state": {
       "description_width": "initial"
      }
     },
     "6a7d050d5bb345dbade88730f99012be": {
      "model_module": "@jupyter-widgets/base",
      "model_module_version": "1.0.0",
      "model_name": "LayoutModel",
      "state": {}
     },
     "6a928b0a344d4615bae6d92793088db1": {
      "model_module": "@jupyter-widgets/base",
      "model_module_version": "1.0.0",
      "model_name": "LayoutModel",
      "state": {
       "justify_content": "center"
      }
     },
     "6ac79126b09948e7ada4c9b53ad8e533": {
      "model_module": "@jupyter-widgets/controls",
      "model_module_version": "1.2.0",
      "model_name": "VBoxModel",
      "state": {
       "children": [
        "IPY_MODEL_25110df930b643799686293417cef54d",
        "IPY_MODEL_ad7fe0fe50db4b97b4044586d149afed",
        "IPY_MODEL_c2b41fa3107c42448d3051a4bc21ccf2",
        "IPY_MODEL_f4e731f09e7b41c1a4e3f754c5887af9"
       ],
       "layout": "IPY_MODEL_498382edadeb4ae7b79adde3fbe3dd22"
      }
     },
     "6adbad5893a04890a9014fb03402d9e1": {
      "model_module": "@jupyter-widgets/base",
      "model_module_version": "1.0.0",
      "model_name": "LayoutModel",
      "state": {
       "width": "600px"
      }
     },
     "6af62d9f561448439a2f81e199d30f5d": {
      "model_module": "@jupyter-widgets/controls",
      "model_module_version": "1.2.0",
      "model_name": "ButtonModel",
      "state": {
       "description": "Ja",
       "layout": "IPY_MODEL_819dbaaeab1542c68dcee70810222d31",
       "style": "IPY_MODEL_676f8aca86f54e2aada0726f9fe8eaef"
      }
     },
     "6b057051b7c34a3fbc45465f4d4f9faa": {
      "model_module": "@jupyter-widgets/controls",
      "model_module_version": "1.2.0",
      "model_name": "ButtonModel",
      "state": {
       "description": "attributiver Relativsatz",
       "layout": "IPY_MODEL_8ef0cac4621742aebdf161c1026dca82",
       "style": "IPY_MODEL_501d88f454564393a767dba91b1072a8"
      }
     },
     "6b3aaa597f8c499ea2bcf668c6a843fe": {
      "model_module": "@jupyter-widgets/controls",
      "model_module_version": "1.2.0",
      "model_name": "CheckboxModel",
      "state": {
       "description": "lebhaften",
       "disabled": false,
       "layout": "IPY_MODEL_5d93ee6df4d34cce930a1cba466448cf",
       "style": "IPY_MODEL_d7ae0ff8b74b4d9ea00acadb07cb4b9e",
       "value": false
      }
     },
     "6b65ae51fb424157a918376fb24eb8f5": {
      "model_module": "@jupyter-widgets/controls",
      "model_module_version": "1.2.0",
      "model_name": "DescriptionStyleModel",
      "state": {
       "description_width": "initial"
      }
     },
     "6b7c61f9cf2b42c98cce95b99b4276fd": {
      "model_module": "@jupyter-widgets/controls",
      "model_module_version": "1.2.0",
      "model_name": "ButtonStyleModel",
      "state": {}
     },
     "6b7dac62059844909a4247110db5c4c0": {
      "model_module": "@jupyter-widgets/controls",
      "model_module_version": "1.2.0",
      "model_name": "HTMLModel",
      "state": {
       "layout": "IPY_MODEL_4b40ff7adea045dfb58b6f7e01a16dae",
       "style": "IPY_MODEL_8e90b3ceffe64655b542629b44e003e7",
       "value": "<i>Wählen Sie die <ins>eine</ins> korrekte Antwort aus: </i>"
      }
     },
     "6b9a26b295414393a3a4ec4bd27e7d6e": {
      "model_module": "@jupyter-widgets/controls",
      "model_module_version": "1.2.0",
      "model_name": "HBoxModel",
      "state": {
       "children": [
        "IPY_MODEL_41a2a3b58fe94ef7b1a5f7c2db12b6e0",
        "IPY_MODEL_c77a31e0728046958a1016b5c7efa18d"
       ],
       "layout": "IPY_MODEL_6a6a6107447d494789a1f678ccb8c777"
      }
     },
     "6b9df53a87824cbf8d5f6083f93954aa": {
      "model_module": "@jupyter-widgets/controls",
      "model_module_version": "1.2.0",
      "model_name": "ButtonStyleModel",
      "state": {}
     },
     "6bdc38ba23844be28cb71a53b1434d4b": {
      "model_module": "@jupyter-widgets/controls",
      "model_module_version": "1.2.0",
      "model_name": "ButtonModel",
      "state": {
       "description": "präpositionales Attribut",
       "layout": "IPY_MODEL_aaeaf63d55f24fb2a1ba015154e8457e",
       "style": "IPY_MODEL_8954b90ce6f34b889df085928847409e"
      }
     },
     "6be81bdaee8a4b73abfd3c96646925e9": {
      "model_module": "@jupyter-widgets/base",
      "model_module_version": "1.0.0",
      "model_name": "LayoutModel",
      "state": {}
     },
     "6bf29939913a42f18971af00f8d9e8d0": {
      "model_module": "@jupyter-widgets/base",
      "model_module_version": "1.0.0",
      "model_name": "LayoutModel",
      "state": {
       "width": "150px"
      }
     },
     "6c1b6e61864e4379be4a3ec7f5fc05a2": {
      "model_module": "@jupyter-widgets/controls",
      "model_module_version": "1.2.0",
      "model_name": "VBoxModel",
      "state": {
       "children": [
        "IPY_MODEL_20f78942deaa4d8094fc796a29c618c0",
        "IPY_MODEL_bcc72f8ae82b464ab353e3f678d915b0",
        "IPY_MODEL_5582d8e398674320ad67f8d1c6f62e3b",
        "IPY_MODEL_75efeeb0b0674488ac1f3561fa2e3cab"
       ],
       "layout": "IPY_MODEL_abc69e2f2ba848fc974bdb5af3e4ac38"
      }
     },
     "6c3752f790a14b30ae468f723a8295fc": {
      "model_module": "@jupyter-widgets/controls",
      "model_module_version": "1.2.0",
      "model_name": "HTMLModel",
      "state": {
       "layout": "IPY_MODEL_cdd2ea336d5647ceb6b08ef46be8231b",
       "style": "IPY_MODEL_46d57158663d4c92930f85260fc14699",
       "value": "<h4 style=\"font-size:14px;\">Markieren Sie alle direkten Dependenten des Wortes <i> zwei </i>.</h4>"
      }
     },
     "6c5f81a0a0084cab98c7865749f0a7d9": {
      "model_module": "@jupyter-widgets/controls",
      "model_module_version": "1.2.0",
      "model_name": "ButtonStyleModel",
      "state": {}
     },
     "6c8a2ae66cd34a98b02afacc607c573d": {
      "model_module": "@jupyter-widgets/controls",
      "model_module_version": "1.2.0",
      "model_name": "ButtonModel",
      "state": {
       "description": "advmod",
       "layout": "IPY_MODEL_86f3188bf43f4a2fabf2440406ec5805",
       "style": "IPY_MODEL_b975ce7d1cb3489eb9d6bcabef1e5544"
      }
     },
     "6ca8745d0ecb40b784bf338d735717a3": {
      "model_module": "@jupyter-widgets/base",
      "model_module_version": "1.0.0",
      "model_name": "LayoutModel",
      "state": {}
     },
     "6caa6f883c0e4420b74c0f25362e571f": {
      "model_module": "@jupyter-widgets/base",
      "model_module_version": "1.0.0",
      "model_name": "LayoutModel",
      "state": {
       "width": "250px"
      }
     },
     "6cc08e8d6450424b953418c450e56a27": {
      "model_module": "@jupyter-widgets/controls",
      "model_module_version": "1.2.0",
      "model_name": "DescriptionStyleModel",
      "state": {
       "description_width": ""
      }
     },
     "6d6de1d9c8fd410096d14d5bb9a79b1a": {
      "model_module": "@jupyter-widgets/controls",
      "model_module_version": "1.2.0",
      "model_name": "DescriptionStyleModel",
      "state": {
       "description_width": ""
      }
     },
     "6d7f5fb8288248c292b6770807c2b175": {
      "model_module": "@jupyter-widgets/base",
      "model_module_version": "1.0.0",
      "model_name": "LayoutModel",
      "state": {}
     },
     "6d815a7710ae470bb0e35f7215b78f21": {
      "model_module": "@jupyter-widgets/controls",
      "model_module_version": "1.2.0",
      "model_name": "ButtonStyleModel",
      "state": {}
     },
     "6da98ef1ac7f41c5bdaa4b2203d6865c": {
      "model_module": "@jupyter-widgets/controls",
      "model_module_version": "1.2.0",
      "model_name": "DescriptionStyleModel",
      "state": {
       "description_width": "initial"
      }
     },
     "6dad8ca8e5ed49eb95a24c7a8dae325c": {
      "model_module": "@jupyter-widgets/base",
      "model_module_version": "1.0.0",
      "model_name": "LayoutModel",
      "state": {}
     },
     "6db535b228a4493fb20dac28a79efb36": {
      "model_module": "@jupyter-widgets/base",
      "model_module_version": "1.0.0",
      "model_name": "LayoutModel",
      "state": {
       "width": "600px"
      }
     },
     "6def2622ad824d68acf849632b7830d8": {
      "model_module": "@jupyter-widgets/controls",
      "model_module_version": "1.2.0",
      "model_name": "DescriptionStyleModel",
      "state": {
       "description_width": "initial"
      }
     },
     "6df1c4b5b87a4fabbe9330147713f5bd": {
      "model_module": "@jupyter-widgets/controls",
      "model_module_version": "1.2.0",
      "model_name": "CheckboxModel",
      "state": {
       "description": "von",
       "disabled": false,
       "layout": "IPY_MODEL_e74062390f684ea2a691d6c8df635fc1",
       "style": "IPY_MODEL_5a8b076d89ec49a994224afb8181e69c",
       "value": false
      }
     },
     "6e300d34510148dbad91ac5280f1b212": {
      "model_module": "@jupyter-widgets/controls",
      "model_module_version": "1.2.0",
      "model_name": "ButtonModel",
      "state": {
       "description": "präpositional angeschlossen",
       "layout": "IPY_MODEL_8be57aadf617484f938d2bd19a9e9be7",
       "style": "IPY_MODEL_c2c80113bac74f65847f112b9c4052fe"
      }
     },
     "6e428dd8849c44f0b5b26313b900ab76": {
      "model_module": "@jupyter-widgets/controls",
      "model_module_version": "1.2.0",
      "model_name": "ButtonModel",
      "state": {
       "description": "nmod",
       "layout": "IPY_MODEL_6731b9f50f944d3e9c420ce69f66f4f1",
       "style": "IPY_MODEL_4c67e4be365041f2a8f94cc53c85ba97"
      }
     },
     "6e54d7799f14444b96543ae814b84eba": {
      "model_module": "@jupyter-widgets/controls",
      "model_module_version": "1.2.0",
      "model_name": "ButtonStyleModel",
      "state": {}
     },
     "6e5a169199484484b78f1b1acf19c5eb": {
      "model_module": "@jupyter-widgets/controls",
      "model_module_version": "1.2.0",
      "model_name": "DescriptionStyleModel",
      "state": {
       "description_width": "initial"
      }
     },
     "6e6db40cc24949a3b6881c4f0b41b985": {
      "model_module": "@jupyter-widgets/base",
      "model_module_version": "1.0.0",
      "model_name": "LayoutModel",
      "state": {
       "width": "250px"
      }
     },
     "6e885c6f4f574002afd8d7c1f923bc27": {
      "model_module": "@jupyter-widgets/base",
      "model_module_version": "1.0.0",
      "model_name": "LayoutModel",
      "state": {
       "width": "600px"
      }
     },
     "6e88acd8a0fc4fa7b2ce9223b141d12f": {
      "model_module": "@jupyter-widgets/base",
      "model_module_version": "1.0.0",
      "model_name": "LayoutModel",
      "state": {
       "width": "600px"
      }
     },
     "6e8c30262dcf4c36a1df7ce1c71e0199": {
      "model_module": "@jupyter-widgets/controls",
      "model_module_version": "1.2.0",
      "model_name": "ButtonModel",
      "state": {
       "description": "nummod",
       "layout": "IPY_MODEL_f061fc22db9d4f8d9917412097108a06",
       "style": "IPY_MODEL_a8cbf202f32f4675b95e2bc0aba123c1"
      }
     },
     "6ea5e7192f0943cab747de5fd02434fc": {
      "model_module": "@jupyter-widgets/controls",
      "model_module_version": "1.2.0",
      "model_name": "DescriptionStyleModel",
      "state": {
       "description_width": "initial"
      }
     },
     "6ea6d6208ffa4285a1acafd2539082f0": {
      "model_module": "@jupyter-widgets/base",
      "model_module_version": "1.0.0",
      "model_name": "LayoutModel",
      "state": {
       "justify_content": "center"
      }
     },
     "6ebd11c8ff524bb998c464c412738d54": {
      "model_module": "@jupyter-widgets/controls",
      "model_module_version": "1.2.0",
      "model_name": "CheckboxModel",
      "state": {
       "description": "Bruder",
       "disabled": false,
       "layout": "IPY_MODEL_904fa1ebfe5d4af0b8e3164c3120cdc6",
       "style": "IPY_MODEL_4c43ba1cfdb84f95943f86532163fbd5",
       "value": false
      }
     },
     "6ed6401ef8164ed7bccf7788af52e87a": {
      "model_module": "@jupyter-widgets/controls",
      "model_module_version": "1.2.0",
      "model_name": "ButtonModel",
      "state": {
       "description": "Keine",
       "layout": "IPY_MODEL_3207c67e6e0f4db0af21ca8691a9ce70",
       "style": "IPY_MODEL_3a30082df52e42f18d880cfec69d30da"
      }
     },
     "6f53f20e194546ffa02945f5586bc210": {
      "model_module": "@jupyter-widgets/base",
      "model_module_version": "1.0.0",
      "model_name": "LayoutModel",
      "state": {
       "width": "150px"
      }
     },
     "6f60a08164654e9796c5573c442ecbe5": {
      "model_module": "@jupyter-widgets/controls",
      "model_module_version": "1.2.0",
      "model_name": "DescriptionStyleModel",
      "state": {
       "description_width": ""
      }
     },
     "6fc43018ad5e419897150ae3c81748a1": {
      "model_module": "@jupyter-widgets/controls",
      "model_module_version": "1.2.0",
      "model_name": "DescriptionStyleModel",
      "state": {
       "description_width": ""
      }
     },
     "6fc54f1709674a0c93617debc8f55ef5": {
      "model_module": "@jupyter-widgets/controls",
      "model_module_version": "1.2.0",
      "model_name": "HTMLModel",
      "state": {
       "layout": "IPY_MODEL_f622ed803a714a76b41a55f54e4f642b",
       "style": "IPY_MODEL_5d0786c6747c4bbb83a627c4076e8974",
       "value": "<i>Markieren Sie <ins>alle</ins> passenden Antworten: </i>"
      }
     },
     "6fddf56fb5bd4ef4b230e4c3ec9b4c65": {
      "model_module": "@jupyter-widgets/controls",
      "model_module_version": "1.2.0",
      "model_name": "VBoxModel",
      "state": {
       "children": [
        "IPY_MODEL_43fedda2ee7d4b338a95a61fefc0e921",
        "IPY_MODEL_1e104a76e812423d839e1e71d7ae5323",
        "IPY_MODEL_75f9242916d94eb4a9a2d6f99d838e17",
        "IPY_MODEL_8fd6bae2ba574509a4ce164406bff334"
       ],
       "layout": "IPY_MODEL_0d69339e38d247f6b7c713876022e3bf"
      }
     },
     "6ffb1940a70c419c97baa41fe2bf3b98": {
      "model_module": "@jupyter-widgets/controls",
      "model_module_version": "1.2.0",
      "model_name": "DescriptionStyleModel",
      "state": {
       "description_width": "initial"
      }
     },
     "70181dac127148e3bab128376903b3fd": {
      "model_module": "@jupyter-widgets/controls",
      "model_module_version": "1.2.0",
      "model_name": "DescriptionStyleModel",
      "state": {
       "description_width": "initial"
      }
     },
     "701b5d1249d344ed8c66ed2346a9bbd5": {
      "model_module": "@jupyter-widgets/controls",
      "model_module_version": "1.2.0",
      "model_name": "HBoxModel",
      "state": {
       "children": [
        "IPY_MODEL_ea31e16c4cb54788b3fe51aded8738fb",
        "IPY_MODEL_2cc2cda8f4524ca99394037ffbaff2db"
       ],
       "layout": "IPY_MODEL_bf7dd65a7bc44c659a39f3ea9b499d11"
      }
     },
     "7020e6472cb94b25b1189afcfaba21b7": {
      "model_module": "@jupyter-widgets/base",
      "model_module_version": "1.0.0",
      "model_name": "LayoutModel",
      "state": {}
     },
     "70443f5be3dc41a4990a31394225f7d0": {
      "model_module": "@jupyter-widgets/controls",
      "model_module_version": "1.2.0",
      "model_name": "DescriptionStyleModel",
      "state": {
       "description_width": "initial"
      }
     },
     "7085bb2b45984674a9d5c1e347c0b4a6": {
      "model_module": "@jupyter-widgets/base",
      "model_module_version": "1.0.0",
      "model_name": "LayoutModel",
      "state": {}
     },
     "7087523736fc4c3ca99c6b6378e78b8a": {
      "model_module": "@jupyter-widgets/base",
      "model_module_version": "1.0.0",
      "model_name": "LayoutModel",
      "state": {
       "width": "600px"
      }
     },
     "709502aa6f554a998e1cf7da7f95dfa7": {
      "model_module": "@jupyter-widgets/base",
      "model_module_version": "1.0.0",
      "model_name": "LayoutModel",
      "state": {}
     },
     "70c843e4f3e2460082af958169a400f0": {
      "model_module": "@jupyter-widgets/base",
      "model_module_version": "1.0.0",
      "model_name": "LayoutModel",
      "state": {}
     },
     "70d9988fa2504b6790cdbdd72318e520": {
      "model_module": "@jupyter-widgets/controls",
      "model_module_version": "1.2.0",
      "model_name": "ButtonStyleModel",
      "state": {}
     },
     "70e58c2435c344a28ac554f1a6880610": {
      "model_module": "@jupyter-widgets/controls",
      "model_module_version": "1.2.0",
      "model_name": "ButtonStyleModel",
      "state": {}
     },
     "70f2156662c64d0facacf7c6b8852522": {
      "model_module": "@jupyter-widgets/controls",
      "model_module_version": "1.2.0",
      "model_name": "DescriptionStyleModel",
      "state": {
       "description_width": "initial"
      }
     },
     "710bb6259c38494db4c5c2ff37f7c629": {
      "model_module": "@jupyter-widgets/base",
      "model_module_version": "1.0.0",
      "model_name": "LayoutModel",
      "state": {
       "justify_content": "center"
      }
     },
     "7128e5b797284b9f91744a9e66f4ec37": {
      "model_module": "@jupyter-widgets/base",
      "model_module_version": "1.0.0",
      "model_name": "LayoutModel",
      "state": {
       "width": "150px"
      }
     },
     "71574a42f56542b9b557354a3dcf8dbc": {
      "model_module": "@jupyter-widgets/controls",
      "model_module_version": "1.2.0",
      "model_name": "CheckboxModel",
      "state": {
       "description": "der",
       "disabled": false,
       "layout": "IPY_MODEL_f9dc6389ac3b4ee1b3a05c143723fef2",
       "style": "IPY_MODEL_d96a96a173834b9facbdc812d854a939",
       "value": false
      }
     },
     "718b85771cc0418ea3991ea6b5660a31": {
      "model_module": "@jupyter-widgets/controls",
      "model_module_version": "1.2.0",
      "model_name": "DescriptionStyleModel",
      "state": {
       "description_width": "initial"
      }
     },
     "7196701d890a44938aa6070f06b220d8": {
      "model_module": "@jupyter-widgets/controls",
      "model_module_version": "1.2.0",
      "model_name": "ButtonModel",
      "state": {
       "description": "det",
       "layout": "IPY_MODEL_e381d07515fe4d7e8b1fcb1b21ca967c",
       "style": "IPY_MODEL_a88a0f770003423eb789c597d1b9987b"
      }
     },
     "71a9689eeae34592805d266169bbd162": {
      "model_module": "@jupyter-widgets/base",
      "model_module_version": "1.0.0",
      "model_name": "LayoutModel",
      "state": {
       "width": "600px"
      }
     },
     "71c77b4accc74c2096c82191bbf58578": {
      "model_module": "@jupyter-widgets/base",
      "model_module_version": "1.0.0",
      "model_name": "LayoutModel",
      "state": {}
     },
     "71c8899411e54e37b6f883a28c5e6685": {
      "model_module": "@jupyter-widgets/controls",
      "model_module_version": "1.2.0",
      "model_name": "HBoxModel",
      "state": {
       "children": [
        "IPY_MODEL_d3712e8df52f4e4587e77d2b80b77c95",
        "IPY_MODEL_1192089e2ba840108c6fdcedb926d47c"
       ],
       "layout": "IPY_MODEL_7085bb2b45984674a9d5c1e347c0b4a6"
      }
     },
     "71dfad87ddb14daabd84f4c54c4e0464": {
      "model_module": "@jupyter-widgets/controls",
      "model_module_version": "1.2.0",
      "model_name": "CheckboxModel",
      "state": {
       "description": "sehr",
       "disabled": false,
       "layout": "IPY_MODEL_d2f0784db38c4355bd5fa2c56e5fad6f",
       "style": "IPY_MODEL_b27294ff10c349a5afe303fafa688875",
       "value": false
      }
     },
     "71f8244813de4ace9871729493b517b2": {
      "model_module": "@jupyter-widgets/controls",
      "model_module_version": "1.2.0",
      "model_name": "ButtonStyleModel",
      "state": {}
     },
     "720cde79f269475d8362c443393ee710": {
      "model_module": "@jupyter-widgets/controls",
      "model_module_version": "1.2.0",
      "model_name": "ButtonStyleModel",
      "state": {}
     },
     "722c4f2c5bcc42739720bc202f4c1ab1": {
      "model_module": "@jupyter-widgets/controls",
      "model_module_version": "1.2.0",
      "model_name": "ButtonModel",
      "state": {
       "description": "Korrekt?",
       "layout": "IPY_MODEL_ede882c3bccc4a2ea24c1fd59016c014",
       "style": "IPY_MODEL_c46ae59ba65249e98f008659e2a050c7"
      }
     },
     "7231074b941e462ab2059a32e704f437": {
      "model_module": "@jupyter-widgets/base",
      "model_module_version": "1.0.0",
      "model_name": "LayoutModel",
      "state": {
       "width": "250px"
      }
     },
     "72aebe1aef4547989eae0da91ccf4672": {
      "model_module": "@jupyter-widgets/controls",
      "model_module_version": "1.2.0",
      "model_name": "ButtonStyleModel",
      "state": {}
     },
     "72bddbb1bc954082b1a92d0188a5892c": {
      "model_module": "@jupyter-widgets/controls",
      "model_module_version": "1.2.0",
      "model_name": "ButtonModel",
      "state": {
       "description": "amod",
       "layout": "IPY_MODEL_eb54722b7303447bb3469808422a23d3",
       "style": "IPY_MODEL_41cb8008ca92477d9362cda17e2f33c8"
      }
     },
     "72fbdea789ee4465aaa4a2104305d741": {
      "model_module": "@jupyter-widgets/base",
      "model_module_version": "1.0.0",
      "model_name": "LayoutModel",
      "state": {}
     },
     "732aac4c22a34d55a9e889a13f3f4ade": {
      "model_module": "@jupyter-widgets/controls",
      "model_module_version": "1.2.0",
      "model_name": "HTMLModel",
      "state": {
       "layout": "IPY_MODEL_febcfaa2ea1b4079aab566381ba010d8",
       "style": "IPY_MODEL_f52a1c61b3b84a038186211def371dbc",
       "value": "<h4 style=\"font-size:14px;\">dar. Dieses</h4>"
      }
     },
     "733c9433551d48cfa0edcc2ebc2faf06": {
      "model_module": "@jupyter-widgets/controls",
      "model_module_version": "1.2.0",
      "model_name": "CheckboxModel",
      "state": {
       "description": "neue",
       "disabled": false,
       "layout": "IPY_MODEL_3cccc9fad7ee4116b6eba3a02b1a14a6",
       "style": "IPY_MODEL_f6ab906aec3643e99dda2c1820035e02",
       "value": false
      }
     },
     "733fa99574b749819b46e3ed19a7918b": {
      "model_module": "@jupyter-widgets/controls",
      "model_module_version": "1.2.0",
      "model_name": "DescriptionStyleModel",
      "state": {
       "description_width": ""
      }
     },
     "73548a1152274537a81678d79377412b": {
      "model_module": "@jupyter-widgets/base",
      "model_module_version": "1.0.0",
      "model_name": "LayoutModel",
      "state": {
       "width": "250px"
      }
     },
     "736bfe2c62b8467ebd1e1cfbfca3dc1b": {
      "model_module": "@jupyter-widgets/base",
      "model_module_version": "1.0.0",
      "model_name": "LayoutModel",
      "state": {}
     },
     "73ca1517de1d4ff5874b07680387e776": {
      "model_module": "@jupyter-widgets/controls",
      "model_module_version": "1.2.0",
      "model_name": "DescriptionStyleModel",
      "state": {
       "description_width": "initial"
      }
     },
     "73cb5f4dd0b74778acabf6c56b92f1b9": {
      "model_module": "@jupyter-widgets/controls",
      "model_module_version": "1.2.0",
      "model_name": "ButtonStyleModel",
      "state": {}
     },
     "73d6937d636f4dc9b286b7bea433b2e2": {
      "model_module": "@jupyter-widgets/base",
      "model_module_version": "1.0.0",
      "model_name": "LayoutModel",
      "state": {
       "width": "250px"
      }
     },
     "73e5405a5d1a4a4e9ffb2420789aefb6": {
      "model_module": "@jupyter-widgets/controls",
      "model_module_version": "1.2.0",
      "model_name": "ButtonStyleModel",
      "state": {}
     },
     "73f27624988848b9baff955049171c11": {
      "model_module": "@jupyter-widgets/controls",
      "model_module_version": "1.2.0",
      "model_name": "DescriptionStyleModel",
      "state": {
       "description_width": ""
      }
     },
     "7418ea0724544f21a984d422985c9507": {
      "model_module": "@jupyter-widgets/base",
      "model_module_version": "1.0.0",
      "model_name": "LayoutModel",
      "state": {
       "width": "600px"
      }
     },
     "7420d559ff1c48cdaf6faf56552dcae9": {
      "model_module": "@jupyter-widgets/base",
      "model_module_version": "1.0.0",
      "model_name": "LayoutModel",
      "state": {
       "width": "250px"
      }
     },
     "742d7fa2812b45bfa6c0ec3a5b765f85": {
      "model_module": "@jupyter-widgets/controls",
      "model_module_version": "1.2.0",
      "model_name": "ButtonModel",
      "state": {
       "description": "Korrekt?",
       "layout": "IPY_MODEL_069b6446d4b94f2ca1520c02ce3b3d90",
       "style": "IPY_MODEL_e383f21744bd4758a6af36a5c817367d"
      }
     },
     "742f191b20ae46498cb0a05fad3c250b": {
      "model_module": "@jupyter-widgets/base",
      "model_module_version": "1.0.0",
      "model_name": "LayoutModel",
      "state": {}
     },
     "74475c572b7f4a9e8dd2f6191fbf5ac1": {
      "model_module": "@jupyter-widgets/controls",
      "model_module_version": "1.2.0",
      "model_name": "ButtonModel",
      "state": {
       "description": "prep",
       "layout": "IPY_MODEL_eb79aad042c9415298177de2c59ebd57",
       "style": "IPY_MODEL_69d5f9c91d294bf59a6ea59b5e731370"
      }
     },
     "74706a8b59f7436fbc2f7a520feea92d": {
      "model_module": "@jupyter-widgets/controls",
      "model_module_version": "1.2.0",
      "model_name": "CheckboxModel",
      "state": {
       "description": "Es gibt keine.",
       "disabled": false,
       "layout": "IPY_MODEL_a87f00ca419741649f46e71d3dae36c5",
       "style": "IPY_MODEL_da34b83120334584a39cbe298fcdd0e2",
       "value": false
      }
     },
     "74bfd37857dc4eb3ad9f630378843bb0": {
      "model_module": "@jupyter-widgets/base",
      "model_module_version": "1.0.0",
      "model_name": "LayoutModel",
      "state": {
       "width": "600px"
      }
     },
     "74d04cb2bb41497ca9860b0be9a4f12a": {
      "model_module": "@jupyter-widgets/base",
      "model_module_version": "1.0.0",
      "model_name": "LayoutModel",
      "state": {
       "width": "250px"
      }
     },
     "74d8298191af4a70a17f16694af83d30": {
      "model_module": "@jupyter-widgets/controls",
      "model_module_version": "1.2.0",
      "model_name": "HBoxModel",
      "state": {
       "children": [
        "IPY_MODEL_c8617656f0ef41f1b27c3bdc2c01f5a5",
        "IPY_MODEL_f3c06f360ac04a79aeae1c31712b42ef"
       ],
       "layout": "IPY_MODEL_b9d93a1c8a17461e87e3782db07a1631"
      }
     },
     "7502f35da9b641f49bd937bcf255a0d2": {
      "model_module": "@jupyter-widgets/controls",
      "model_module_version": "1.2.0",
      "model_name": "ButtonStyleModel",
      "state": {}
     },
     "75220173ead84f64ac1267f10db9863e": {
      "model_module": "@jupyter-widgets/base",
      "model_module_version": "1.0.0",
      "model_name": "LayoutModel",
      "state": {
       "width": "250px"
      }
     },
     "7530ae2ad6cb4a19bb039bcb5fa17a1d": {
      "model_module": "@jupyter-widgets/base",
      "model_module_version": "1.0.0",
      "model_name": "LayoutModel",
      "state": {
       "width": "250px"
      }
     },
     "7532f17f01bd48c28ed1e2645354a16c": {
      "model_module": "@jupyter-widgets/controls",
      "model_module_version": "1.2.0",
      "model_name": "DescriptionStyleModel",
      "state": {
       "description_width": "initial"
      }
     },
     "757fcb83ca99407398d1e01684ac793d": {
      "model_module": "@jupyter-widgets/base",
      "model_module_version": "1.0.0",
      "model_name": "LayoutModel",
      "state": {
       "width": "600px"
      }
     },
     "7592393c329b4747953a9c0b6a4a56d8": {
      "model_module": "@jupyter-widgets/controls",
      "model_module_version": "1.2.0",
      "model_name": "DescriptionStyleModel",
      "state": {
       "description_width": "initial"
      }
     },
     "7592fad2b1b14b24bfbf3e32409408aa": {
      "model_module": "@jupyter-widgets/base",
      "model_module_version": "1.0.0",
      "model_name": "LayoutModel",
      "state": {
       "width": "600px"
      }
     },
     "75a833e2ad044419b17c6d1cd5196b1d": {
      "model_module": "@jupyter-widgets/controls",
      "model_module_version": "1.2.0",
      "model_name": "DropdownModel",
      "state": {
       "_options_labels": [
        "NP",
        "PP",
        "VP",
        " "
       ],
       "index": 3,
       "layout": "IPY_MODEL_f2c9858a7337417fbfac5b1d9f4dee3e",
       "style": "IPY_MODEL_3c1d8d7bed5e49ab957ecf8e0ff1c493"
      }
     },
     "75dc8d22cde4451f9d134d5f2af33b49": {
      "model_module": "@jupyter-widgets/controls",
      "model_module_version": "1.2.0",
      "model_name": "HTMLModel",
      "state": {
       "layout": "IPY_MODEL_6ea6d6208ffa4285a1acafd2539082f0",
       "style": "IPY_MODEL_5be5765277f14b778d4f7ffbfcb7e514",
       "value": "<h4 style=\"font-size:14px;\">Schlägt der Adverbialsatz-Test fehl, so handelt es sich um eine:</h4>"
      }
     },
     "75efeeb0b0674488ac1f3561fa2e3cab": {
      "model_module": "@jupyter-widgets/controls",
      "model_module_version": "1.2.0",
      "model_name": "ButtonModel",
      "state": {
       "description": "Korrekt?",
       "layout": "IPY_MODEL_dcd9e5f8f176421eba6229acdd04eb5f",
       "style": "IPY_MODEL_6c5f81a0a0084cab98c7865749f0a7d9"
      }
     },
     "75f9242916d94eb4a9a2d6f99d838e17": {
      "model_module": "@jupyter-widgets/controls",
      "model_module_version": "1.2.0",
      "model_name": "VBoxModel",
      "state": {
       "children": [
        "IPY_MODEL_ef5c21b3d657445884822a647f0fb894",
        "IPY_MODEL_fd35f1ffc03a4101a9e722aa65450583",
        "IPY_MODEL_2b3f36dd079b4bfaab6c037c7eb68ed9"
       ],
       "layout": "IPY_MODEL_52e59fa5a54e49a49d4f18d857900907"
      }
     },
     "75fcb5f37a124e3aa76004dd8b230978": {
      "model_module": "@jupyter-widgets/base",
      "model_module_version": "1.0.0",
      "model_name": "LayoutModel",
      "state": {
       "justify_content": "center"
      }
     },
     "76010252c1744924a2f108c1b32218ae": {
      "model_module": "@jupyter-widgets/base",
      "model_module_version": "1.0.0",
      "model_name": "LayoutModel",
      "state": {
       "justify_content": "center"
      }
     },
     "763248637b1643c98d0636d9080a7bf0": {
      "model_module": "@jupyter-widgets/base",
      "model_module_version": "1.0.0",
      "model_name": "LayoutModel",
      "state": {
       "width": "600px"
      }
     },
     "76600f4256e44a708bdf7c55ebc8885d": {
      "model_module": "@jupyter-widgets/controls",
      "model_module_version": "1.2.0",
      "model_name": "DescriptionStyleModel",
      "state": {
       "description_width": "initial"
      }
     },
     "767c9cdc95144f52a7393a7d90471861": {
      "model_module": "@jupyter-widgets/base",
      "model_module_version": "1.0.0",
      "model_name": "LayoutModel",
      "state": {}
     },
     "7699b465480141dea1768616779c7c37": {
      "model_module": "@jupyter-widgets/base",
      "model_module_version": "1.0.0",
      "model_name": "LayoutModel",
      "state": {
       "justify_content": "center"
      }
     },
     "76ad90a3fec748f0a41563c2b5a4275f": {
      "model_module": "@jupyter-widgets/controls",
      "model_module_version": "1.2.0",
      "model_name": "ButtonStyleModel",
      "state": {}
     },
     "76ff6b3ae1d5446b99ba8d785d527fa6": {
      "model_module": "@jupyter-widgets/controls",
      "model_module_version": "1.2.0",
      "model_name": "DescriptionStyleModel",
      "state": {
       "description_width": "initial"
      }
     },
     "7715689dac9041b2833782a83a58d3e3": {
      "model_module": "@jupyter-widgets/controls",
      "model_module_version": "1.2.0",
      "model_name": "VBoxModel",
      "state": {
       "children": [
        "IPY_MODEL_f2c9723c88004577a5f19412e64cb753",
        "IPY_MODEL_cad9b2f205934498981ed86274d4f16b",
        "IPY_MODEL_117204215fce406d98a7ccf0e309f605",
        "IPY_MODEL_13eea21c1dc84e88ba998e5a9f21f343",
        "IPY_MODEL_0bdf3b80a91e48dfbf056bb575f33865"
       ],
       "layout": "IPY_MODEL_08eba148f1fe4801ad9ad0a5b23b9eb7"
      }
     },
     "7760037533c74f668543fd1cf2d75f53": {
      "model_module": "@jupyter-widgets/base",
      "model_module_version": "1.0.0",
      "model_name": "LayoutModel",
      "state": {}
     },
     "779e0715a92a493b9e991b93307f2064": {
      "model_module": "@jupyter-widgets/base",
      "model_module_version": "1.0.0",
      "model_name": "LayoutModel",
      "state": {
       "width": "250px"
      }
     },
     "77c8b091fa2347e8b6f1d95127f92072": {
      "model_module": "@jupyter-widgets/base",
      "model_module_version": "1.0.0",
      "model_name": "LayoutModel",
      "state": {}
     },
     "77e0460445b04e5f98cc7999e71d16a5": {
      "model_module": "@jupyter-widgets/base",
      "model_module_version": "1.0.0",
      "model_name": "LayoutModel",
      "state": {
       "justify_content": "center"
      }
     },
     "77ea073c17434211842e23e4c42f17a4": {
      "model_module": "@jupyter-widgets/controls",
      "model_module_version": "1.2.0",
      "model_name": "ButtonModel",
      "state": {
       "description": "Korrekt?",
       "layout": "IPY_MODEL_4240d7b0c2f04ec6b629c1c5c88e7776",
       "style": "IPY_MODEL_638088bde46d403bad905ab701e837a2"
      }
     },
     "77ed4747949d464a8e53e51530696188": {
      "model_module": "@jupyter-widgets/controls",
      "model_module_version": "1.2.0",
      "model_name": "DescriptionStyleModel",
      "state": {
       "description_width": ""
      }
     },
     "77f7f6d11ac34feaacb9596c0264940f": {
      "model_module": "@jupyter-widgets/base",
      "model_module_version": "1.0.0",
      "model_name": "LayoutModel",
      "state": {
       "width": "250px"
      }
     },
     "785f4e1a5a61477d854ddd7b76e1ba43": {
      "model_module": "@jupyter-widgets/controls",
      "model_module_version": "1.2.0",
      "model_name": "CheckboxModel",
      "state": {
       "description": "mit",
       "disabled": false,
       "layout": "IPY_MODEL_cb8d96fd609e41c5a1d4c95b65217913",
       "style": "IPY_MODEL_f9c1cdb9ba3a4c38a4e4cec0d589fc57",
       "value": false
      }
     },
     "787a33c8323f4810b1e93199d7484387": {
      "model_module": "@jupyter-widgets/controls",
      "model_module_version": "1.2.0",
      "model_name": "DescriptionStyleModel",
      "state": {
       "description_width": ""
      }
     },
     "789af0f9cabc49478b7ba0b88c778617": {
      "model_module": "@jupyter-widgets/controls",
      "model_module_version": "1.2.0",
      "model_name": "VBoxModel",
      "state": {
       "children": [
        "IPY_MODEL_569fd009725f45b8a142df0ffeae1b97",
        "IPY_MODEL_d9afc4db961d4fefac33f5887d4ae21c",
        "IPY_MODEL_d5cd3703491b430281090c287afc728f",
        "IPY_MODEL_f79c7c91cd96453f933ed1f73d981ab5",
        "IPY_MODEL_30548d9283cb4481b00f0f09fc217367",
        "IPY_MODEL_b34808a2432c495797cfbee1afc449d0"
       ],
       "layout": "IPY_MODEL_162aac90761c4dcdb97db9ee3df58424"
      }
     },
     "78cb8ed89fee4089a4c6b9878c61191b": {
      "model_module": "@jupyter-widgets/controls",
      "model_module_version": "1.2.0",
      "model_name": "ButtonModel",
      "state": {
       "description": "nsubj",
       "layout": "IPY_MODEL_1f4a9c0a189e4ede9b18ca3db70ac01e",
       "style": "IPY_MODEL_c88dbc80092a43239c6a43bb2d64d87d"
      }
     },
     "78e7fbac7e89481daa482c7980117bcb": {
      "model_module": "@jupyter-widgets/base",
      "model_module_version": "1.0.0",
      "model_name": "LayoutModel",
      "state": {
       "justify_content": "center"
      }
     },
     "78ea285af02f4c058e9f0c47be21cb7e": {
      "model_module": "@jupyter-widgets/controls",
      "model_module_version": "1.2.0",
      "model_name": "HTMLModel",
      "state": {
       "layout": "IPY_MODEL_97bedb515ce84fa5b42dc91545cee94f",
       "style": "IPY_MODEL_87ee6e6c65b648b1a8845a92935e475b",
       "value": "<i>Vervollständigen Sie den Lückentext: </i>"
      }
     },
     "78f976af343c46b4ae844a96ff5251d1": {
      "model_module": "@jupyter-widgets/controls",
      "model_module_version": "1.2.0",
      "model_name": "ButtonModel",
      "state": {
       "description": "det",
       "layout": "IPY_MODEL_e56c1b31e7b04c57a16090e71d6f926c",
       "style": "IPY_MODEL_ce2192819f0e47248bc8e333dc841ba8"
      }
     },
     "7901b570ce70418a982ca125757acce2": {
      "model_module": "@jupyter-widgets/base",
      "model_module_version": "1.0.0",
      "model_name": "LayoutModel",
      "state": {
       "width": "600px"
      }
     },
     "793707658a854b4eb3353412d6123fd7": {
      "model_module": "@jupyter-widgets/controls",
      "model_module_version": "1.2.0",
      "model_name": "ButtonModel",
      "state": {
       "description": "Korrekt?",
       "layout": "IPY_MODEL_ab1fd04140ca472382263c76339bc053",
       "style": "IPY_MODEL_0ebf0252a02f48e69d0292a8a2f417b5"
      }
     },
     "794dc07c4c894137a75cd71de9989b12": {
      "model_module": "@jupyter-widgets/controls",
      "model_module_version": "1.2.0",
      "model_name": "VBoxModel",
      "state": {
       "children": [
        "IPY_MODEL_c1511304148045a48032b867650f312d",
        "IPY_MODEL_58bd66968b4a4f919b8d6e9bbd5449fb",
        "IPY_MODEL_ebe17d85d20847e5818d03c42e634729",
        "IPY_MODEL_c9faaa3df7ae4050af9239de5ee2e67c",
        "IPY_MODEL_119c5b85087a48568253d83a1865cbb7",
        "IPY_MODEL_3ecf0a6799974d929036a777ae26df85",
        "IPY_MODEL_b4756882e77e43aeb373c4ceead66550",
        "IPY_MODEL_587412a47253467fbfbe97cba713400e",
        "IPY_MODEL_7fa48230a1934389b1d02d456cdb49f0",
        "IPY_MODEL_3ca52b8a5a754cd29be720810b58d944"
       ],
       "layout": "IPY_MODEL_e295038092eb40c4a87efed7daf3cefd"
      }
     },
     "794dcf6d8d9947aba75ed00b753eedff": {
      "model_module": "@jupyter-widgets/base",
      "model_module_version": "1.0.0",
      "model_name": "LayoutModel",
      "state": {
       "width": "600px"
      }
     },
     "796898b4400d401199b9c0ad3146bf2d": {
      "model_module": "@jupyter-widgets/controls",
      "model_module_version": "1.2.0",
      "model_name": "HBoxModel",
      "state": {
       "children": [
        "IPY_MODEL_4cf76e56369844cfacbb5216b541d741",
        "IPY_MODEL_72bddbb1bc954082b1a92d0188a5892c"
       ],
       "layout": "IPY_MODEL_daf3d6f1b95b4d66987ae0b5c1270705"
      }
     },
     "798d1cc0f060466db0050b40688a8d3a": {
      "model_module": "@jupyter-widgets/controls",
      "model_module_version": "1.2.0",
      "model_name": "DescriptionStyleModel",
      "state": {
       "description_width": ""
      }
     },
     "79994b8f681f4be7ab7b72599251c167": {
      "model_module": "@jupyter-widgets/controls",
      "model_module_version": "1.2.0",
      "model_name": "DescriptionStyleModel",
      "state": {
       "description_width": ""
      }
     },
     "79a3f1cc52e84206a9d4d143d1ca4ddc": {
      "model_module": "@jupyter-widgets/base",
      "model_module_version": "1.0.0",
      "model_name": "LayoutModel",
      "state": {
       "width": "600px"
      }
     },
     "79a4c32b6ca34550a1a9f1c350e5d7ac": {
      "model_module": "@jupyter-widgets/controls",
      "model_module_version": "1.2.0",
      "model_name": "ButtonModel",
      "state": {
       "description": "nsubj",
       "layout": "IPY_MODEL_d28437781a0c4422b3352daf72aa0316",
       "style": "IPY_MODEL_07eded88f12b40d3853ccf4bd349636f"
      }
     },
     "79ddce19292a4d2f91167558829790f9": {
      "model_module": "@jupyter-widgets/base",
      "model_module_version": "1.0.0",
      "model_name": "LayoutModel",
      "state": {
       "width": "250px"
      }
     },
     "7a0db9017aae4bc4aa9d8451f66d87d7": {
      "model_module": "@jupyter-widgets/controls",
      "model_module_version": "1.2.0",
      "model_name": "ButtonModel",
      "state": {
       "description": "Keine",
       "layout": "IPY_MODEL_2a0e08d0ce8a4091ad1f0298a39b970c",
       "style": "IPY_MODEL_5f349ca74ea54d06ac4ffcbec92e2f94"
      }
     },
     "7a19a4750211488a964bd38e3b00ce6c": {
      "model_module": "@jupyter-widgets/controls",
      "model_module_version": "1.2.0",
      "model_name": "ButtonModel",
      "state": {
       "description": "prep",
       "layout": "IPY_MODEL_0a692301f6ee47d0abb244affc17d636",
       "style": "IPY_MODEL_574ec21747024d1583572d87ad33e94f"
      }
     },
     "7a5bdb08b65b4c5eb033ac88fd3fc0f8": {
      "model_module": "@jupyter-widgets/controls",
      "model_module_version": "1.2.0",
      "model_name": "DescriptionStyleModel",
      "state": {
       "description_width": ""
      }
     },
     "7a6392c30b8343d8a4e0539ad849c6b2": {
      "model_module": "@jupyter-widgets/controls",
      "model_module_version": "1.2.0",
      "model_name": "DescriptionStyleModel",
      "state": {
       "description_width": "initial"
      }
     },
     "7a65110d0697466399a1f5556b25cf97": {
      "model_module": "@jupyter-widgets/controls",
      "model_module_version": "1.2.0",
      "model_name": "CheckboxModel",
      "state": {
       "description": "keine Eigensemantik",
       "disabled": false,
       "layout": "IPY_MODEL_4caa244e216645d282333e2c6208f38f",
       "style": "IPY_MODEL_e7f173742ab14f418cb7ac4315af2aab",
       "value": false
      }
     },
     "7a67a31ca3f84517bc7b240aa686bd0e": {
      "model_module": "@jupyter-widgets/base",
      "model_module_version": "1.0.0",
      "model_name": "LayoutModel",
      "state": {
       "width": "600px"
      }
     },
     "7a76c58241a34b84bb712ff62914241b": {
      "model_module": "@jupyter-widgets/controls",
      "model_module_version": "1.2.0",
      "model_name": "ButtonStyleModel",
      "state": {}
     },
     "7a8a2fbb4c2e4002b501f5348e9bab62": {
      "model_module": "@jupyter-widgets/controls",
      "model_module_version": "1.2.0",
      "model_name": "ButtonStyleModel",
      "state": {}
     },
     "7aac470dd41e4a59ab88e44327bd195a": {
      "model_module": "@jupyter-widgets/base",
      "model_module_version": "1.0.0",
      "model_name": "LayoutModel",
      "state": {
       "width": "250px"
      }
     },
     "7ac45aeb87874da28454b21ea88f116f": {
      "model_module": "@jupyter-widgets/controls",
      "model_module_version": "1.2.0",
      "model_name": "DescriptionStyleModel",
      "state": {
       "description_width": ""
      }
     },
     "7aef665675b64e8393da9f38f423c11b": {
      "model_module": "@jupyter-widgets/base",
      "model_module_version": "1.0.0",
      "model_name": "LayoutModel",
      "state": {
       "width": "250px"
      }
     },
     "7b0c127cf9ac4abaa28f5f16d8202552": {
      "model_module": "@jupyter-widgets/controls",
      "model_module_version": "1.2.0",
      "model_name": "DescriptionStyleModel",
      "state": {
       "description_width": ""
      }
     },
     "7b36c7bb09554a57a4d427499fb54ee1": {
      "model_module": "@jupyter-widgets/base",
      "model_module_version": "1.0.0",
      "model_name": "LayoutModel",
      "state": {
       "width": "600px"
      }
     },
     "7b455fc4e5ed4f1381f3eca9e6a76d0e": {
      "model_module": "@jupyter-widgets/controls",
      "model_module_version": "1.2.0",
      "model_name": "VBoxModel",
      "state": {
       "children": [
        "IPY_MODEL_9445e3f8ace8479bbd02b28e0172b9c7",
        "IPY_MODEL_3745f41c7a4046bd9516ccef2f43d793",
        "IPY_MODEL_b36853f6790643198d25d43a8b99471b",
        "IPY_MODEL_232601071a4b44b9b6f2e39842831bf9",
        "IPY_MODEL_1bc613b391fe439e95e574954bcfcc3f",
        "IPY_MODEL_e431c81f1087431fa1a7a450ce712ea5",
        "IPY_MODEL_189d74145624428bb8f51ca961586be0",
        "IPY_MODEL_b0de7faf2d474faa98fc4f1275521be8",
        "IPY_MODEL_995329dae8744778af46a2f390b937e5",
        "IPY_MODEL_c853dc1d76664cf5b9df1835bada7f3a",
        "IPY_MODEL_a084c41168934fd4afcebe5d2b49c3af"
       ],
       "layout": "IPY_MODEL_5c95e96088e543039a2baba7d8f855f2"
      }
     },
     "7b8a815634c54cb19a3cff1a5d686486": {
      "model_module": "@jupyter-widgets/base",
      "model_module_version": "1.0.0",
      "model_name": "LayoutModel",
      "state": {
       "width": "600px"
      }
     },
     "7bb93482f9da4727babbc4de993d082f": {
      "model_module": "@jupyter-widgets/base",
      "model_module_version": "1.0.0",
      "model_name": "LayoutModel",
      "state": {
       "width": "250px"
      }
     },
     "7bea3e3ef6514eb09a47e01596cbd634": {
      "model_module": "@jupyter-widgets/base",
      "model_module_version": "1.0.0",
      "model_name": "LayoutModel",
      "state": {}
     },
     "7c187ff3686b4d2a9028f6e184a9f262": {
      "model_module": "@jupyter-widgets/controls",
      "model_module_version": "1.2.0",
      "model_name": "DescriptionStyleModel",
      "state": {
       "description_width": ""
      }
     },
     "7c224964be7c452e82cb397539fc8927": {
      "model_module": "@jupyter-widgets/controls",
      "model_module_version": "1.2.0",
      "model_name": "HTMLModel",
      "state": {
       "layout": "IPY_MODEL_ca0f174214254d4dbc44306dfc4abd69",
       "style": "IPY_MODEL_7b0c127cf9ac4abaa28f5f16d8202552",
       "value": "<h4 style=\"font-size:14px;\">Wie könnte man abschließend das in Frage stehende Satzglied in Satz 1 charakterisieren?</h4>"
      }
     },
     "7c461d52ecca49afb0f27c018a363631": {
      "model_module": "@jupyter-widgets/controls",
      "model_module_version": "1.2.0",
      "model_name": "DescriptionStyleModel",
      "state": {
       "description_width": ""
      }
     },
     "7c6d2d9077d549408dc50eb80409e42c": {
      "model_module": "@jupyter-widgets/base",
      "model_module_version": "1.0.0",
      "model_name": "LayoutModel",
      "state": {
       "justify_content": "center"
      }
     },
     "7c9976fa6ead46cea1fe1886cc633f4a": {
      "model_module": "@jupyter-widgets/base",
      "model_module_version": "1.0.0",
      "model_name": "LayoutModel",
      "state": {}
     },
     "7cad8181dbe14fd383a591528a1209fa": {
      "model_module": "@jupyter-widgets/controls",
      "model_module_version": "1.2.0",
      "model_name": "HBoxModel",
      "state": {
       "children": [
        "IPY_MODEL_d9c6dc06583c44edb84d76d1098a7b91",
        "IPY_MODEL_0dd1ddbd0f1f4854b5687eb6dc9025ca"
       ],
       "layout": "IPY_MODEL_aaa871ee557d45039e5f4c1348bff8fa"
      }
     },
     "7cb32d69b8444499af8e03317e66dc60": {
      "model_module": "@jupyter-widgets/base",
      "model_module_version": "1.0.0",
      "model_name": "LayoutModel",
      "state": {
       "justify_content": "center"
      }
     },
     "7ce87dda058f4554a8eaa8e743555e75": {
      "model_module": "@jupyter-widgets/controls",
      "model_module_version": "1.2.0",
      "model_name": "VBoxModel",
      "state": {
       "children": [
        "IPY_MODEL_40ac1150a98f42dfa38f551a1550f392",
        "IPY_MODEL_fc26ae0daee5408bb8ce4032e15e24d1",
        "IPY_MODEL_4774c5fd6ff04befa95731252ab312d0",
        "IPY_MODEL_742d7fa2812b45bfa6c0ec3a5b765f85"
       ],
       "layout": "IPY_MODEL_17e448488aba4831b677977b0d7c3e06"
      }
     },
     "7d19470d49bf4c7c8271f749907f7e7b": {
      "model_module": "@jupyter-widgets/controls",
      "model_module_version": "1.2.0",
      "model_name": "DescriptionStyleModel",
      "state": {
       "description_width": ""
      }
     },
     "7d1f92dec20042eaa785cecff2867e2b": {
      "model_module": "@jupyter-widgets/base",
      "model_module_version": "1.0.0",
      "model_name": "LayoutModel",
      "state": {
       "width": "250px"
      }
     },
     "7d3aa6dcb3ae4a15853aaa7918608eb8": {
      "model_module": "@jupyter-widgets/base",
      "model_module_version": "1.0.0",
      "model_name": "LayoutModel",
      "state": {
       "width": "600px"
      }
     },
     "7d65a7f3315b48caa9b83bc4e6bd377a": {
      "model_module": "@jupyter-widgets/controls",
      "model_module_version": "1.2.0",
      "model_name": "HTMLModel",
      "state": {
       "layout": "IPY_MODEL_63ed041cf7744155b0ece054a90a2e5c",
       "style": "IPY_MODEL_4bbeae12779245ba878b6a9bf2e78368",
       "value": "<i>Markieren Sie <ins>alle</ins> passenden Antworten: </i>"
      }
     },
     "7dc973cab548474c9d75fb4a79a16f10": {
      "model_module": "@jupyter-widgets/base",
      "model_module_version": "1.0.0",
      "model_name": "LayoutModel",
      "state": {
       "width": "600px"
      }
     },
     "7df081d227164490ae7a7bb3bfc9225b": {
      "model_module": "@jupyter-widgets/base",
      "model_module_version": "1.0.0",
      "model_name": "LayoutModel",
      "state": {}
     },
     "7e069ce868d74261abe2cc1a9d432d84": {
      "model_module": "@jupyter-widgets/controls",
      "model_module_version": "1.2.0",
      "model_name": "DescriptionStyleModel",
      "state": {
       "description_width": "initial"
      }
     },
     "7e1928d5fb0d4f04a78abe9a236a55ee": {
      "model_module": "@jupyter-widgets/controls",
      "model_module_version": "1.2.0",
      "model_name": "DescriptionStyleModel",
      "state": {
       "description_width": "initial"
      }
     },
     "7e25fad45b3843bf94138b928e6c2cd3": {
      "model_module": "@jupyter-widgets/base",
      "model_module_version": "1.0.0",
      "model_name": "LayoutModel",
      "state": {
       "width": "250px"
      }
     },
     "7ead442e09e24ca286090e103580d46a": {
      "model_module": "@jupyter-widgets/base",
      "model_module_version": "1.0.0",
      "model_name": "LayoutModel",
      "state": {
       "width": "600px"
      }
     },
     "7eb1e4608d0944159b474150da83f253": {
      "model_module": "@jupyter-widgets/base",
      "model_module_version": "1.0.0",
      "model_name": "LayoutModel",
      "state": {}
     },
     "7ec8d1556939437eb0e4d31318d930fe": {
      "model_module": "@jupyter-widgets/base",
      "model_module_version": "1.0.0",
      "model_name": "LayoutModel",
      "state": {
       "width": "250px"
      }
     },
     "7ed38b76e69240079e92bb31a11643af": {
      "model_module": "@jupyter-widgets/base",
      "model_module_version": "1.0.0",
      "model_name": "LayoutModel",
      "state": {
       "justify_content": "center"
      }
     },
     "7ef48cb8fe49405096de39de139308ef": {
      "model_module": "@jupyter-widgets/controls",
      "model_module_version": "1.2.0",
      "model_name": "HTMLModel",
      "state": {
       "layout": "IPY_MODEL_5ea6f0f56173418d887c764b5e98b9da",
       "style": "IPY_MODEL_fe1365118a364a328f257390ce58d71e",
       "value": "<i>Markieren Sie <ins>alle</ins> passenden Antworten: </i>"
      }
     },
     "7f11c0d7e9e8457ca4c5b3e47eca1fc2": {
      "model_module": "@jupyter-widgets/controls",
      "model_module_version": "1.2.0",
      "model_name": "CheckboxModel",
      "state": {
       "description": "Arbeitsplatz",
       "disabled": false,
       "layout": "IPY_MODEL_85cb704423ee486894717d0734f585e5",
       "style": "IPY_MODEL_e02901705e4e41679f38ffaee0359ee1",
       "value": false
      }
     },
     "7f64f18dbdaf44b9b8ec7de7067b1fb6": {
      "model_module": "@jupyter-widgets/controls",
      "model_module_version": "1.2.0",
      "model_name": "DescriptionStyleModel",
      "state": {
       "description_width": "initial"
      }
     },
     "7f6da3ce240649bfbcdea44bae73c000": {
      "model_module": "@jupyter-widgets/base",
      "model_module_version": "1.0.0",
      "model_name": "LayoutModel",
      "state": {
       "justify_content": "center"
      }
     },
     "7f7714f5a72a4008987f5f9f4a031713": {
      "model_module": "@jupyter-widgets/controls",
      "model_module_version": "1.2.0",
      "model_name": "ButtonModel",
      "state": {
       "description": "Keine",
       "layout": "IPY_MODEL_25c3dbf8db4e48bdbe09104eb9d61407",
       "style": "IPY_MODEL_b8f6133f0d8b4e0a95718a86a886dc77"
      }
     },
     "7f8369b5983e44be94ef975710cd808e": {
      "model_module": "@jupyter-widgets/controls",
      "model_module_version": "1.2.0",
      "model_name": "CheckboxModel",
      "state": {
       "description": "zu",
       "disabled": false,
       "layout": "IPY_MODEL_4b6efb8b88be4cefb533a177e08c4f02",
       "style": "IPY_MODEL_0ab1db0f660c4092b4bfd6b6a12716d3",
       "value": false
      }
     },
     "7fa24fedbb724814a28cc2a21ca191a2": {
      "model_module": "@jupyter-widgets/controls",
      "model_module_version": "1.2.0",
      "model_name": "ButtonStyleModel",
      "state": {}
     },
     "7fa48230a1934389b1d02d456cdb49f0": {
      "model_module": "@jupyter-widgets/controls",
      "model_module_version": "1.2.0",
      "model_name": "CheckboxModel",
      "state": {
       "description": "neue",
       "disabled": false,
       "layout": "IPY_MODEL_e9a1ab76e7a1412ea49e166f5d108c82",
       "style": "IPY_MODEL_c29fda0a1aef4fd0bcef0d4536875fcc",
       "value": false
      }
     },
     "7fa96d15cc8c418ca19824e944c471b3": {
      "model_module": "@jupyter-widgets/base",
      "model_module_version": "1.0.0",
      "model_name": "LayoutModel",
      "state": {
       "justify_content": "center"
      }
     },
     "7fb72a6337c34736991c69b9dd900eaf": {
      "model_module": "@jupyter-widgets/controls",
      "model_module_version": "1.2.0",
      "model_name": "CheckboxModel",
      "state": {
       "description": "geschehen-Test",
       "disabled": false,
       "layout": "IPY_MODEL_41942ae9aa6846d79234e29c5f574f48",
       "style": "IPY_MODEL_2df49234348841c3ab9e2ce2c245f0ec",
       "value": false
      }
     },
     "7fc739551937427498d6a5b27f2773a4": {
      "model_module": "@jupyter-widgets/controls",
      "model_module_version": "1.2.0",
      "model_name": "DescriptionStyleModel",
      "state": {
       "description_width": "initial"
      }
     },
     "7fd6a822cfcd47a9b2f1ae12079dad50": {
      "model_module": "@jupyter-widgets/controls",
      "model_module_version": "1.2.0",
      "model_name": "HTMLModel",
      "state": {
       "layout": "IPY_MODEL_95fd8d28ae194238bddcdd2b8e536c83",
       "style": "IPY_MODEL_798d1cc0f060466db0050b40688a8d3a",
       "value": "<i>Wählen Sie die <ins>eine</ins> korrekte Antwort aus: </i>"
      }
     },
     "7fe33d82c789457abd2bc94f72c4ae73": {
      "model_module": "@jupyter-widgets/controls",
      "model_module_version": "1.2.0",
      "model_name": "DescriptionStyleModel",
      "state": {
       "description_width": "initial"
      }
     },
     "806951ad9db34102828f6a8b8083745b": {
      "model_module": "@jupyter-widgets/controls",
      "model_module_version": "1.2.0",
      "model_name": "DescriptionStyleModel",
      "state": {
       "description_width": ""
      }
     },
     "807ef2feac9f4ce48f2a0a852de5f651": {
      "model_module": "@jupyter-widgets/base",
      "model_module_version": "1.0.0",
      "model_name": "LayoutModel",
      "state": {
       "width": "600px"
      }
     },
     "8097fef76e44465faf94925f94eb72aa": {
      "model_module": "@jupyter-widgets/controls",
      "model_module_version": "1.2.0",
      "model_name": "CheckboxModel",
      "state": {
       "description": "älteren",
       "disabled": false,
       "layout": "IPY_MODEL_1a60ae6feda044cdb1938d2bc932412d",
       "style": "IPY_MODEL_2a220a3f09564240984e0ab3188044c4",
       "value": false
      }
     },
     "80c70c23f9e047f0955d373d981e7bd5": {
      "model_module": "@jupyter-widgets/controls",
      "model_module_version": "1.2.0",
      "model_name": "HBoxModel",
      "state": {
       "children": [
        "IPY_MODEL_bfe9d9289c944a0d9feac8e0d8693510",
        "IPY_MODEL_04e5667ba36f4c2a90b810759d47b865"
       ],
       "layout": "IPY_MODEL_267312f6ede04668900c75c87089f449"
      }
     },
     "80e1157a0afc474b86be14d2e4f12d24": {
      "model_module": "@jupyter-widgets/controls",
      "model_module_version": "1.2.0",
      "model_name": "CheckboxModel",
      "state": {
       "description": "lebhaften",
       "disabled": false,
       "layout": "IPY_MODEL_42647885b9a742d1afb58ce8441028ad",
       "style": "IPY_MODEL_91fa26702001456a892702523cbf1653",
       "value": false
      }
     },
     "80ff6ac4bcbc4ff6acca6d6d3f0939d3": {
      "model_module": "@jupyter-widgets/controls",
      "model_module_version": "1.2.0",
      "model_name": "CheckboxModel",
      "state": {
       "description": "H bestimmt die Distributionsklassen von C",
       "disabled": false,
       "layout": "IPY_MODEL_d298880b167a48f8a9ece69432342b94",
       "style": "IPY_MODEL_4fb4791a57414f91874c08b58581b4f1",
       "value": false
      }
     },
     "8108c30cd02b47449d28a38c95e0edfd": {
      "model_module": "@jupyter-widgets/base",
      "model_module_version": "1.0.0",
      "model_name": "LayoutModel",
      "state": {
       "justify_content": "center"
      }
     },
     "814f70193e2648f6b5ed01e7f5880bf2": {
      "model_module": "@jupyter-widgets/base",
      "model_module_version": "1.0.0",
      "model_name": "LayoutModel",
      "state": {
       "justify_content": "center"
      }
     },
     "819dbaaeab1542c68dcee70810222d31": {
      "model_module": "@jupyter-widgets/base",
      "model_module_version": "1.0.0",
      "model_name": "LayoutModel",
      "state": {
       "width": "250px"
      }
     },
     "81a264d1730a4715975b76287b6e866a": {
      "model_module": "@jupyter-widgets/controls",
      "model_module_version": "1.2.0",
      "model_name": "DescriptionStyleModel",
      "state": {
       "description_width": ""
      }
     },
     "81b8974dda044b25baeae569deb28674": {
      "model_module": "@jupyter-widgets/base",
      "model_module_version": "1.0.0",
      "model_name": "LayoutModel",
      "state": {
       "width": "250px"
      }
     },
     "81c3b459712d436b8db56443ea4f84b8": {
      "model_module": "@jupyter-widgets/controls",
      "model_module_version": "1.2.0",
      "model_name": "DescriptionStyleModel",
      "state": {
       "description_width": "initial"
      }
     },
     "81d78f7c31704d48a103af91f08ba382": {
      "model_module": "@jupyter-widgets/controls",
      "model_module_version": "1.2.0",
      "model_name": "VBoxModel",
      "state": {
       "children": [
        "IPY_MODEL_1c0b9b26a4a244a18342c02257c2f86e",
        "IPY_MODEL_f35478c5e0534b1a8ba406b5760fae45",
        "IPY_MODEL_904e8a447dd34c17bad8653e88dd0b85",
        "IPY_MODEL_1766750b9dcd43158a6275ff6cf09937",
        "IPY_MODEL_245a6d7de64b4679ad4415e4da3a5b60"
       ],
       "layout": "IPY_MODEL_26922e56b7904ee7a932a39ab9b8c823"
      }
     },
     "81f2685dd9634ae3948248b27345c5c0": {
      "model_module": "@jupyter-widgets/base",
      "model_module_version": "1.0.0",
      "model_name": "LayoutModel",
      "state": {
       "width": "250px"
      }
     },
     "8250c5bef55f412ab9010b4451b9c52c": {
      "model_module": "@jupyter-widgets/base",
      "model_module_version": "1.0.0",
      "model_name": "LayoutModel",
      "state": {
       "width": "250px"
      }
     },
     "82680865f9e14d43800ac7c5084c4eb6": {
      "model_module": "@jupyter-widgets/controls",
      "model_module_version": "1.2.0",
      "model_name": "HTMLModel",
      "state": {
       "layout": "IPY_MODEL_e13a6af2d54243af893158a5997ec037",
       "style": "IPY_MODEL_7ac45aeb87874da28454b21ea88f116f",
       "value": "<h4 style=\"font-size:14px;\">Handelt es sich im Satz bei der Präpositionalphrase um ein präpositionales Objekt?</h4>"
      }
     },
     "829e008785ad4daf9473ef6f61d4e599": {
      "model_module": "@jupyter-widgets/base",
      "model_module_version": "1.0.0",
      "model_name": "LayoutModel",
      "state": {
       "width": "250px"
      }
     },
     "82a895a7de0c414283edae19f1736168": {
      "model_module": "@jupyter-widgets/controls",
      "model_module_version": "1.2.0",
      "model_name": "ButtonModel",
      "state": {
       "description": "advmod",
       "layout": "IPY_MODEL_fd0b87248c954fbfba73003a8adc272c",
       "style": "IPY_MODEL_0656e6bd175349afb941b1f3becd6af5"
      }
     },
     "82f5db2b328e4eef99e9edfd7d15e48d": {
      "model_module": "@jupyter-widgets/controls",
      "model_module_version": "1.2.0",
      "model_name": "CheckboxModel",
      "state": {
       "description": "kenne",
       "disabled": false,
       "layout": "IPY_MODEL_f8a2aeafc6af465984c0a00ab5719e71",
       "style": "IPY_MODEL_73ca1517de1d4ff5874b07680387e776",
       "value": false
      }
     },
     "831f25ebb92242468887f153d1347c32": {
      "model_module": "@jupyter-widgets/controls",
      "model_module_version": "1.2.0",
      "model_name": "HTMLModel",
      "state": {
       "layout": "IPY_MODEL_9877df3f926e41c28153b46a067a8a56",
       "style": "IPY_MODEL_ab01bae3e5db43d8a7003676678d5bb8",
       "value": "<i>Markieren Sie <ins>alle</ins> passenden Antworten: </i>"
      }
     },
     "835969b61bd549b3a9796a18b78b28f4": {
      "model_module": "@jupyter-widgets/controls",
      "model_module_version": "1.2.0",
      "model_name": "CheckboxModel",
      "state": {
       "description": "sehr",
       "disabled": false,
       "layout": "IPY_MODEL_4b829cd6939448e9b94d2f5ecac7e0e5",
       "style": "IPY_MODEL_9c5182675ae84c0ead78e00d56cbb32d",
       "value": false
      }
     },
     "8359f8424a0749d48f01feb43c3ab46e": {
      "model_module": "@jupyter-widgets/controls",
      "model_module_version": "1.2.0",
      "model_name": "BoxModel",
      "state": {
       "children": [
        "IPY_MODEL_3bd123cce9fa4d329661314b611da026",
        "IPY_MODEL_fb1d02878dc64fa2a43150358ef76755",
        "IPY_MODEL_c85f6e04a8964f2ca842924cd92fc5d8",
        "IPY_MODEL_75a833e2ad044419b17c6d1cd5196b1d",
        "IPY_MODEL_b6a8654670cd45288882c9c13cbdb09d",
        "IPY_MODEL_dd4b5ad8b5514adda8450231ae422d6d",
        "IPY_MODEL_11aed9b131d6445f83a955aeac8e5c40"
       ],
       "layout": "IPY_MODEL_3137e432bab2424191622de587e7119e"
      }
     },
     "83a247983bd54bb69f5d0ea49b87648e": {
      "model_module": "@jupyter-widgets/base",
      "model_module_version": "1.0.0",
      "model_name": "LayoutModel",
      "state": {
       "width": "250px"
      }
     },
     "83d4fda7a02e48abbbe852586c27e6ae": {
      "model_module": "@jupyter-widgets/base",
      "model_module_version": "1.0.0",
      "model_name": "LayoutModel",
      "state": {
       "width": "600px"
      }
     },
     "840c68eec40d4a8c9b2a54f8e4cd7f0b": {
      "model_module": "@jupyter-widgets/base",
      "model_module_version": "1.0.0",
      "model_name": "LayoutModel",
      "state": {
       "width": "600px"
      }
     },
     "8450adf2a62840e9a3125b9234c01518": {
      "model_module": "@jupyter-widgets/base",
      "model_module_version": "1.0.0",
      "model_name": "LayoutModel",
      "state": {}
     },
     "845683f84c75462a9195713c8b737a9a": {
      "model_module": "@jupyter-widgets/controls",
      "model_module_version": "1.2.0",
      "model_name": "HTMLModel",
      "state": {
       "layout": "IPY_MODEL_0bef1fac90fb4d1293ec6fae5cd58cfd",
       "style": "IPY_MODEL_0ad3cf85afa54472aca61c51961d488c",
       "value": "<h4 style=\"font-size:14px;\">Mit welchen Tests kann die Funktion des obrigen Satzgliedes <i> mit der S-Bahn </i> festgestellt werden?</h4>"
      }
     },
     "84580ea53afc446f9310f1d456a84178": {
      "model_module": "@jupyter-widgets/base",
      "model_module_version": "1.0.0",
      "model_name": "LayoutModel",
      "state": {
       "width": "600px"
      }
     },
     "849dcce0b803492ab9e7bef8c897474d": {
      "model_module": "@jupyter-widgets/controls",
      "model_module_version": "1.2.0",
      "model_name": "CheckboxModel",
      "state": {
       "description": "Ich",
       "disabled": false,
       "layout": "IPY_MODEL_2500040be7b240e58f244b0d5ca32a78",
       "style": "IPY_MODEL_d1e92db299a942b49ed9f1d50a209189",
       "value": false
      }
     },
     "84bb7baa48a546709db4d9d8ac187af6": {
      "model_module": "@jupyter-widgets/base",
      "model_module_version": "1.0.0",
      "model_name": "LayoutModel",
      "state": {
       "justify_content": "center"
      }
     },
     "84c8419908424e558c61ca53d26e090b": {
      "model_module": "@jupyter-widgets/base",
      "model_module_version": "1.0.0",
      "model_name": "LayoutModel",
      "state": {
       "width": "600px"
      }
     },
     "84d41b49c3cd4cbb9d01bc905be66e47": {
      "model_module": "@jupyter-widgets/base",
      "model_module_version": "1.0.0",
      "model_name": "LayoutModel",
      "state": {
       "width": "600px"
      }
     },
     "84f77e425838473ca5e8157d1bbc79ad": {
      "model_module": "@jupyter-widgets/base",
      "model_module_version": "1.0.0",
      "model_name": "LayoutModel",
      "state": {}
     },
     "84f89fd2b18f4951a08830a50e7935eb": {
      "model_module": "@jupyter-widgets/controls",
      "model_module_version": "1.2.0",
      "model_name": "DropdownModel",
      "state": {
       "_options_labels": [
        "Dependentien",
        "Valenzen",
        " "
       ],
       "index": 2,
       "layout": "IPY_MODEL_57c35aa17b2f47d0bdc31200b9839f62",
       "style": "IPY_MODEL_d2f49bc7b01349d590714a6e4e72e433"
      }
     },
     "858608da52d945dd881333ac98352b10": {
      "model_module": "@jupyter-widgets/controls",
      "model_module_version": "1.2.0",
      "model_name": "VBoxModel",
      "state": {
       "children": [
        "IPY_MODEL_253fd8bde6014e5a8ae9a8e84d189f90",
        "IPY_MODEL_22aac04c8dcf4b18ba612a1041b3c0e2",
        "IPY_MODEL_f0d4974a8faa4457b3c115876c44fd63",
        "IPY_MODEL_0f0a87d0979d4c3e9ca59b3946586751"
       ],
       "layout": "IPY_MODEL_b5d256ab868442a6b6cefaa35295f38f"
      }
     },
     "85acae338a424cac8dec78195820cf44": {
      "model_module": "@jupyter-widgets/controls",
      "model_module_version": "1.2.0",
      "model_name": "HBoxModel",
      "state": {
       "children": [
        "IPY_MODEL_7f7714f5a72a4008987f5f9f4a031713",
        "IPY_MODEL_d8b23d0410f64387bbb74db031176e8c"
       ],
       "layout": "IPY_MODEL_29be8235ead8409bb5254abfbdbe78b1"
      }
     },
     "85cb704423ee486894717d0734f585e5": {
      "model_module": "@jupyter-widgets/base",
      "model_module_version": "1.0.0",
      "model_name": "LayoutModel",
      "state": {
       "width": "600px"
      }
     },
     "8646aa4312624d0590a7d1f0848c2f87": {
      "model_module": "@jupyter-widgets/controls",
      "model_module_version": "1.2.0",
      "model_name": "HTMLModel",
      "state": {
       "layout": "IPY_MODEL_710bb6259c38494db4c5c2ff37f7c629",
       "style": "IPY_MODEL_b33bf24d3acc40eb9c98d1aea7fd4ed0",
       "value": "<i>Markieren Sie <ins>alle</ins> passenden Antworten: </i>"
      }
     },
     "8647504e33bb4133b33c96ba273a7855": {
      "model_module": "@jupyter-widgets/controls",
      "model_module_version": "1.2.0",
      "model_name": "ButtonStyleModel",
      "state": {}
     },
     "864eac7d297e462dbf50b7ac6e4708a6": {
      "model_module": "@jupyter-widgets/controls",
      "model_module_version": "1.2.0",
      "model_name": "CheckboxModel",
      "state": {
       "description": "Weglassbarkeitstest",
       "disabled": false,
       "layout": "IPY_MODEL_3622561437204d0782025261737b34ec",
       "style": "IPY_MODEL_082d19648ceb44bcbbccea6dd2fdc020",
       "value": false
      }
     },
     "8690b83eabca4412adb973bd8a503088": {
      "model_module": "@jupyter-widgets/controls",
      "model_module_version": "1.2.0",
      "model_name": "HTMLModel",
      "state": {
       "layout": "IPY_MODEL_2b8b193656194473bf7d608b0ad42c8b",
       "style": "IPY_MODEL_c37544fb8fcc4b18930d9626a0d29298",
       "value": "<h4 style=\"font-size:14px;\">handelt.</h4>"
      }
     },
     "86a996484b1649919114bbdbe5e89983": {
      "model_module": "@jupyter-widgets/controls",
      "model_module_version": "1.2.0",
      "model_name": "CheckboxModel",
      "state": {
       "description": "Mädchen",
       "disabled": false,
       "layout": "IPY_MODEL_44dd18a94cbe42c9a51f0d7df9278c34",
       "style": "IPY_MODEL_8b42910d4f894d71b0794136845c0141",
       "value": false
      }
     },
     "86b020c196bd4421ab22ff45d9dcde35": {
      "model_module": "@jupyter-widgets/base",
      "model_module_version": "1.0.0",
      "model_name": "LayoutModel",
      "state": {}
     },
     "86d6a4782d024b01952aa24f055d530e": {
      "model_module": "@jupyter-widgets/controls",
      "model_module_version": "1.2.0",
      "model_name": "HTMLModel",
      "state": {
       "layout": "IPY_MODEL_7f6da3ce240649bfbcdea44bae73c000",
       "style": "IPY_MODEL_013a393b5fb647de999d1578ca057745",
       "value": "<h4 style=\"font-size:14px;\">Welche Art von Dependenz besteht zwischen <i> fährt </i> und <i> zu </i> ?</h4>"
      }
     },
     "86f3188bf43f4a2fabf2440406ec5805": {
      "model_module": "@jupyter-widgets/base",
      "model_module_version": "1.0.0",
      "model_name": "LayoutModel",
      "state": {
       "width": "250px"
      }
     },
     "870b441fd1334240a6803ade6db8e052": {
      "model_module": "@jupyter-widgets/base",
      "model_module_version": "1.0.0",
      "model_name": "LayoutModel",
      "state": {}
     },
     "8714588da1954c92850889e8c8765c2a": {
      "model_module": "@jupyter-widgets/controls",
      "model_module_version": "1.2.0",
      "model_name": "ButtonStyleModel",
      "state": {}
     },
     "871589bafcfb474d922a20b304160f31": {
      "model_module": "@jupyter-widgets/controls",
      "model_module_version": "1.2.0",
      "model_name": "VBoxModel",
      "state": {
       "children": [
        "IPY_MODEL_0a825a87d3344512818f5d786a4a9713",
        "IPY_MODEL_5f20a9229c19482a8cac5a52ff2a48de",
        "IPY_MODEL_794dc07c4c894137a75cd71de9989b12",
        "IPY_MODEL_1987e12dc82e4da695f93cc4ce7f1029"
       ],
       "layout": "IPY_MODEL_a90bed755944427ea9018ce7e98ba9c1"
      }
     },
     "8732202a14364ab68d823d57abbad8ca": {
      "model_module": "@jupyter-widgets/controls",
      "model_module_version": "1.2.0",
      "model_name": "CheckboxModel",
      "state": {
       "description": "S-Bahn",
       "disabled": false,
       "layout": "IPY_MODEL_8de75e90aad844659a96a642573fff00",
       "style": "IPY_MODEL_a95c10a6f02d4a8381b467b53a27b4d6",
       "value": false
      }
     },
     "875046af28bf4ee1b9fa5b469165802f": {
      "model_module": "@jupyter-widgets/controls",
      "model_module_version": "1.2.0",
      "model_name": "CheckboxModel",
      "state": {
       "description": "H bestimmt die morphologische Form von D",
       "disabled": false,
       "layout": "IPY_MODEL_36dc56651f1e4b808b0b12acf5eb1860",
       "style": "IPY_MODEL_c1fdc0d0179243b4b41d937e2dcb9cfe",
       "value": false
      }
     },
     "87b8d57f670740e2a3378b0c650e2619": {
      "model_module": "@jupyter-widgets/base",
      "model_module_version": "1.0.0",
      "model_name": "LayoutModel",
      "state": {
       "justify_content": "center"
      }
     },
     "87cd4a5c67e94e23ad6c7ba04980fa76": {
      "model_module": "@jupyter-widgets/base",
      "model_module_version": "1.0.0",
      "model_name": "LayoutModel",
      "state": {
       "width": "600px"
      }
     },
     "87eb72983f3a4d09bd2815ed08c969bd": {
      "model_module": "@jupyter-widgets/controls",
      "model_module_version": "1.2.0",
      "model_name": "CheckboxModel",
      "state": {
       "description": "zu",
       "disabled": false,
       "layout": "IPY_MODEL_ae9c2b7ddec046c2b9cd7c0ccf7d8dac",
       "style": "IPY_MODEL_e90e11c4078343af926cb41835244a5c",
       "value": false
      }
     },
     "87ee6e6c65b648b1a8845a92935e475b": {
      "model_module": "@jupyter-widgets/controls",
      "model_module_version": "1.2.0",
      "model_name": "DescriptionStyleModel",
      "state": {
       "description_width": ""
      }
     },
     "87ef9863602c47bfa4f3f32044152139": {
      "model_module": "@jupyter-widgets/controls",
      "model_module_version": "1.2.0",
      "model_name": "DescriptionStyleModel",
      "state": {
       "description_width": ""
      }
     },
     "87f9fd8b17be4740a23c9c23b1aa3d31": {
      "model_module": "@jupyter-widgets/controls",
      "model_module_version": "1.2.0",
      "model_name": "DescriptionStyleModel",
      "state": {
       "description_width": "initial"
      }
     },
     "8814d78a13bf4d81bb593cccc2eec2b1": {
      "model_module": "@jupyter-widgets/base",
      "model_module_version": "1.0.0",
      "model_name": "LayoutModel",
      "state": {}
     },
     "881da3f1fc094c51a946f54ae666491a": {
      "model_module": "@jupyter-widgets/controls",
      "model_module_version": "1.2.0",
      "model_name": "DescriptionStyleModel",
      "state": {
       "description_width": ""
      }
     },
     "882abb07e8454954960c31bdcd1f4d8b": {
      "model_module": "@jupyter-widgets/controls",
      "model_module_version": "1.2.0",
      "model_name": "DescriptionStyleModel",
      "state": {
       "description_width": "initial"
      }
     },
     "883026c376a94efdb273c36a89996f57": {
      "model_module": "@jupyter-widgets/controls",
      "model_module_version": "1.2.0",
      "model_name": "ButtonStyleModel",
      "state": {}
     },
     "8858188ef6424ce19345b30df6e03748": {
      "model_module": "@jupyter-widgets/controls",
      "model_module_version": "1.2.0",
      "model_name": "HBoxModel",
      "state": {
       "children": [
        "IPY_MODEL_9b689ffa3bfe485b98c80a203eaf8567",
        "IPY_MODEL_ed321f427b8241c983cbfcd29f33d3c9"
       ],
       "layout": "IPY_MODEL_143422ee3bac4304af36ee4aa93846b3"
      }
     },
     "8873f20eef9440bcbc5776b6946817a9": {
      "model_module": "@jupyter-widgets/base",
      "model_module_version": "1.0.0",
      "model_name": "LayoutModel",
      "state": {
       "width": "250px"
      }
     },
     "888307cc5a27448b97513414bba21a8c": {
      "model_module": "@jupyter-widgets/controls",
      "model_module_version": "1.2.0",
      "model_name": "DescriptionStyleModel",
      "state": {
       "description_width": "initial"
      }
     },
     "88b58032c8fa468698d101c736726cc5": {
      "model_module": "@jupyter-widgets/controls",
      "model_module_version": "1.2.0",
      "model_name": "HTMLModel",
      "state": {
       "layout": "IPY_MODEL_8a9aadc0b1e144c28eec5a43ab3e14fb",
       "style": "IPY_MODEL_19a619d83051454182ad9e064c3b9446",
       "value": "<h4 style=\"font-size:14px;\">von <i> schlafen </i>. Die</h4>"
      }
     },
     "88b77db5b141404d9a9d8e551394c8c0": {
      "model_module": "@jupyter-widgets/controls",
      "model_module_version": "1.2.0",
      "model_name": "ButtonModel",
      "state": {
       "description": "Keine",
       "layout": "IPY_MODEL_779e0715a92a493b9e991b93307f2064",
       "style": "IPY_MODEL_1d3936918cb24db3942e28307792bfe7"
      }
     },
     "88d07d1f2f984395b9e9e73232cb5b1c": {
      "model_module": "@jupyter-widgets/base",
      "model_module_version": "1.0.0",
      "model_name": "LayoutModel",
      "state": {
       "width": "250px"
      }
     },
     "88fccf3ed2f04ece9a90d662c29f9d7f": {
      "model_module": "@jupyter-widgets/base",
      "model_module_version": "1.0.0",
      "model_name": "LayoutModel",
      "state": {
       "justify_content": "center"
      }
     },
     "8919894475c941aebaf9fde63a239836": {
      "model_module": "@jupyter-widgets/controls",
      "model_module_version": "1.2.0",
      "model_name": "ButtonModel",
      "state": {
       "description": "Korrekt?",
       "layout": "IPY_MODEL_2a45c7fdfb3e49a18fb35f10a7972658",
       "style": "IPY_MODEL_c4f832999a4f441b92db0d4a46a83808"
      }
     },
     "8935b363bf9b41c1a4c698f67739c9c5": {
      "model_module": "@jupyter-widgets/base",
      "model_module_version": "1.0.0",
      "model_name": "LayoutModel",
      "state": {
       "width": "250px"
      }
     },
     "8938493b718e474f9a8a33caeae65a35": {
      "model_module": "@jupyter-widgets/controls",
      "model_module_version": "1.2.0",
      "model_name": "CheckboxModel",
      "state": {
       "description": "trägt Eigensemantik",
       "disabled": false,
       "layout": "IPY_MODEL_b78ac6ac52ef40f3816d82475e8be13e",
       "style": "IPY_MODEL_9a7a02fdbe6b4dbc89c630fbe5d7e497",
       "value": false
      }
     },
     "8954b90ce6f34b889df085928847409e": {
      "model_module": "@jupyter-widgets/controls",
      "model_module_version": "1.2.0",
      "model_name": "ButtonStyleModel",
      "state": {}
     },
     "898feed6c4864d6ba892a7f35bfca85d": {
      "model_module": "@jupyter-widgets/controls",
      "model_module_version": "1.2.0",
      "model_name": "HTMLModel",
      "state": {
       "layout": "IPY_MODEL_509379da8f0a47e5ab3a01dc30bd8c92",
       "style": "IPY_MODEL_33491787493a49a9ae573f66fc3e1408",
       "value": "<i>Wählen Sie die <ins>eine</ins> korrekte Antwort aus: </i>"
      }
     },
     "89da7859df0b43ca9c705f04c8c9cb98": {
      "model_module": "@jupyter-widgets/base",
      "model_module_version": "1.0.0",
      "model_name": "LayoutModel",
      "state": {
       "width": "600px"
      }
     },
     "89f975954bd64792ba7fa01d33c12a5a": {
      "model_module": "@jupyter-widgets/base",
      "model_module_version": "1.0.0",
      "model_name": "LayoutModel",
      "state": {
       "width": "600px"
      }
     },
     "8a114917d14e4ff1afe29261c887feb7": {
      "model_module": "@jupyter-widgets/controls",
      "model_module_version": "1.2.0",
      "model_name": "CheckboxModel",
      "state": {
       "description": "Mädchen",
       "disabled": false,
       "layout": "IPY_MODEL_1bc977085f2f4c2492e67c806d15fda0",
       "style": "IPY_MODEL_39b25e8669014f6988382a492bcefce8",
       "value": false
      }
     },
     "8a1966bf497b4599bd03ff0278d8871f": {
      "model_module": "@jupyter-widgets/controls",
      "model_module_version": "1.2.0",
      "model_name": "HTMLModel",
      "state": {
       "layout": "IPY_MODEL_53d575e142cb402ba73829ea4b0b47c2",
       "style": "IPY_MODEL_be37e610855c444ebb9af3d9658e0fe7",
       "value": "<i>Markieren Sie <ins>alle</ins> passenden Antworten: </i>"
      }
     },
     "8a7dad0bce724c9a920be70f231ac1cb": {
      "model_module": "@jupyter-widgets/controls",
      "model_module_version": "1.2.0",
      "model_name": "ButtonModel",
      "state": {
       "description": "Ergänzung",
       "layout": "IPY_MODEL_c227d9d3cf584551a45edb9e0526fead",
       "style": "IPY_MODEL_1f4155dc067846bfa4e41fb8a7e9bfb2"
      }
     },
     "8a98f32226c249f494ad5f78a6a4770b": {
      "model_module": "@jupyter-widgets/controls",
      "model_module_version": "1.2.0",
      "model_name": "ButtonModel",
      "state": {
       "description": "präpositionales Attribut",
       "layout": "IPY_MODEL_e04858d8e1554a83bf7a43c55798a328",
       "style": "IPY_MODEL_198952e1d6cb4121ae51ad18b8211d71"
      }
     },
     "8a9aadc0b1e144c28eec5a43ab3e14fb": {
      "model_module": "@jupyter-widgets/base",
      "model_module_version": "1.0.0",
      "model_name": "LayoutModel",
      "state": {}
     },
     "8a9b7111b9c04ba18822dfece80b42ea": {
      "model_module": "@jupyter-widgets/controls",
      "model_module_version": "1.2.0",
      "model_name": "DescriptionStyleModel",
      "state": {
       "description_width": ""
      }
     },
     "8ad21a85951d415fae6f534234270d81": {
      "model_module": "@jupyter-widgets/controls",
      "model_module_version": "1.2.0",
      "model_name": "ButtonStyleModel",
      "state": {}
     },
     "8b18f5eeaaf149708b3b6bc827873f65": {
      "model_module": "@jupyter-widgets/controls",
      "model_module_version": "1.2.0",
      "model_name": "ButtonStyleModel",
      "state": {}
     },
     "8b19146d6acf40a0b37bf01d80a50eab": {
      "model_module": "@jupyter-widgets/base",
      "model_module_version": "1.0.0",
      "model_name": "LayoutModel",
      "state": {}
     },
     "8b1e2ef4473443689fc0f149d108a250": {
      "model_module": "@jupyter-widgets/controls",
      "model_module_version": "1.2.0",
      "model_name": "DescriptionStyleModel",
      "state": {
       "description_width": "initial"
      }
     },
     "8b42910d4f894d71b0794136845c0141": {
      "model_module": "@jupyter-widgets/controls",
      "model_module_version": "1.2.0",
      "model_name": "DescriptionStyleModel",
      "state": {
       "description_width": "initial"
      }
     },
     "8b5736449ee44938bec81c0eeec039de": {
      "model_module": "@jupyter-widgets/controls",
      "model_module_version": "1.2.0",
      "model_name": "VBoxModel",
      "state": {
       "children": [
        "IPY_MODEL_1471b6a1050b46c7809ae79d2228f2f9",
        "IPY_MODEL_8359f8424a0749d48f01feb43c3ab46e",
        "IPY_MODEL_1c585c5320244fea8deb5a3398e27670"
       ],
       "layout": "IPY_MODEL_7eb1e4608d0944159b474150da83f253"
      }
     },
     "8b708c5571c34b2cb71b0647de909ebf": {
      "model_module": "@jupyter-widgets/controls",
      "model_module_version": "1.2.0",
      "model_name": "CheckboxModel",
      "state": {
       "description": "von",
       "disabled": false,
       "layout": "IPY_MODEL_df992819765b4123a4e0f256d7f9627f",
       "style": "IPY_MODEL_e197e20147534d94a459b8f20a13e637",
       "value": false
      }
     },
     "8b845d8070044857b7f485af36120f6e": {
      "model_module": "@jupyter-widgets/controls",
      "model_module_version": "1.2.0",
      "model_name": "DescriptionStyleModel",
      "state": {
       "description_width": "initial"
      }
     },
     "8bbab925cbbc4a37a8884155829e7220": {
      "model_module": "@jupyter-widgets/base",
      "model_module_version": "1.0.0",
      "model_name": "LayoutModel",
      "state": {
       "width": "250px"
      }
     },
     "8bd377134253456784d32a2e97bb48cc": {
      "model_module": "@jupyter-widgets/controls",
      "model_module_version": "1.2.0",
      "model_name": "DescriptionStyleModel",
      "state": {
       "description_width": ""
      }
     },
     "8be57aadf617484f938d2bd19a9e9be7": {
      "model_module": "@jupyter-widgets/base",
      "model_module_version": "1.0.0",
      "model_name": "LayoutModel",
      "state": {
       "width": "250px"
      }
     },
     "8beab43448914895bfa44adea16eee3a": {
      "model_module": "@jupyter-widgets/base",
      "model_module_version": "1.0.0",
      "model_name": "LayoutModel",
      "state": {}
     },
     "8bebfa82785940498f824619237d0276": {
      "model_module": "@jupyter-widgets/controls",
      "model_module_version": "1.2.0",
      "model_name": "DescriptionStyleModel",
      "state": {
       "description_width": "initial"
      }
     },
     "8bfe21a3f35a458587dc17b4f65ebb05": {
      "model_module": "@jupyter-widgets/controls",
      "model_module_version": "1.2.0",
      "model_name": "HTMLModel",
      "state": {
       "layout": "IPY_MODEL_feff7ca2ce3d407a81f6414aafa9f482",
       "style": "IPY_MODEL_f4abd26d4d534be0a15591b1a3920319",
       "value": "<h4 style=\"font-size:14px;\">Was spricht dafür, dass es sich bei <i> ein Fehler </i> eher um ein Objekt handelt?</h4>"
      }
     },
     "8c00e08d55f14e688a320f4d62b8ee08": {
      "model_module": "@jupyter-widgets/controls",
      "model_module_version": "1.2.0",
      "model_name": "ButtonStyleModel",
      "state": {}
     },
     "8c40e6b1aa4f4bce8352b0a06a5d3eee": {
      "model_module": "@jupyter-widgets/base",
      "model_module_version": "1.0.0",
      "model_name": "LayoutModel",
      "state": {}
     },
     "8c455a9937fc44c490ec40796ab2c9b5": {
      "model_module": "@jupyter-widgets/controls",
      "model_module_version": "1.2.0",
      "model_name": "DescriptionStyleModel",
      "state": {
       "description_width": "initial"
      }
     },
     "8c4981a01575414a8b27d64551c6dd5b": {
      "model_module": "@jupyter-widgets/base",
      "model_module_version": "1.0.0",
      "model_name": "LayoutModel",
      "state": {
       "width": "250px"
      }
     },
     "8c8e15c19baa42f9817530b77812504d": {
      "model_module": "@jupyter-widgets/base",
      "model_module_version": "1.0.0",
      "model_name": "LayoutModel",
      "state": {
       "width": "250px"
      }
     },
     "8cbfbc4cf39c4872b410e7f098a5ba32": {
      "model_module": "@jupyter-widgets/base",
      "model_module_version": "1.0.0",
      "model_name": "LayoutModel",
      "state": {
       "width": "600px"
      }
     },
     "8cfc904d30d947e9b671b3a07fe121d3": {
      "model_module": "@jupyter-widgets/controls",
      "model_module_version": "1.2.0",
      "model_name": "CheckboxModel",
      "state": {
       "description": "einen",
       "disabled": false,
       "layout": "IPY_MODEL_50b8279170ab42baab4fef1817aa852e",
       "style": "IPY_MODEL_f632a7b552444c9ba53e1ab6e67ea922",
       "value": false
      }
     },
     "8d1bd5a3ab924382beddf4eed5b4d280": {
      "model_module": "@jupyter-widgets/controls",
      "model_module_version": "1.2.0",
      "model_name": "DescriptionStyleModel",
      "state": {
       "description_width": "initial"
      }
     },
     "8d3c99cbd97e41a9a9c407dca00184a9": {
      "model_module": "@jupyter-widgets/base",
      "model_module_version": "1.0.0",
      "model_name": "LayoutModel",
      "state": {}
     },
     "8d415339b3b74cd3bec47f93dfa27408": {
      "model_module": "@jupyter-widgets/controls",
      "model_module_version": "1.2.0",
      "model_name": "DescriptionStyleModel",
      "state": {
       "description_width": "initial"
      }
     },
     "8d6ae7aab0e44013a63b5f15f6fbeb2f": {
      "model_module": "@jupyter-widgets/controls",
      "model_module_version": "1.2.0",
      "model_name": "ButtonStyleModel",
      "state": {}
     },
     "8db0a348052f435d8fbbeb5f1859d228": {
      "model_module": "@jupyter-widgets/base",
      "model_module_version": "1.0.0",
      "model_name": "LayoutModel",
      "state": {
       "width": "250px"
      }
     },
     "8de75e90aad844659a96a642573fff00": {
      "model_module": "@jupyter-widgets/base",
      "model_module_version": "1.0.0",
      "model_name": "LayoutModel",
      "state": {
       "width": "600px"
      }
     },
     "8dec6a4c254c4a09ba797fd156bdabeb": {
      "model_module": "@jupyter-widgets/base",
      "model_module_version": "1.0.0",
      "model_name": "LayoutModel",
      "state": {
       "width": "600px"
      }
     },
     "8defff661d15414e8bc0be74a3270062": {
      "model_module": "@jupyter-widgets/controls",
      "model_module_version": "1.2.0",
      "model_name": "HTMLModel",
      "state": {
       "layout": "IPY_MODEL_e8fea276c43243c59264e227a1b9eaaa",
       "style": "IPY_MODEL_198dcb0ed8544766a643fee6ad1ec301",
       "value": "<i>Markieren Sie <ins>alle</ins> passenden Antworten: </i>"
      }
     },
     "8e0df05340ee4df38aab13a9d22be399": {
      "model_module": "@jupyter-widgets/base",
      "model_module_version": "1.0.0",
      "model_name": "LayoutModel",
      "state": {
       "width": "250px"
      }
     },
     "8e798beceede420e80b76af467a0140d": {
      "model_module": "@jupyter-widgets/controls",
      "model_module_version": "1.2.0",
      "model_name": "VBoxModel",
      "state": {
       "children": [
        "IPY_MODEL_b5469a5468d040ee8e96be6f7c00e73e",
        "IPY_MODEL_5fd93dc3e9764b0395354c7f3819fc57",
        "IPY_MODEL_d929273e30184d6d859ae6e5ef4573ab",
        "IPY_MODEL_b4938e767174457ca05d0eedfc463a73"
       ],
       "layout": "IPY_MODEL_395d4ae6494b4595a4621b575c16d88b"
      }
     },
     "8e81210a661f495896012786a8458bc0": {
      "model_module": "@jupyter-widgets/base",
      "model_module_version": "1.0.0",
      "model_name": "LayoutModel",
      "state": {
       "width": "600px"
      }
     },
     "8e90b3ceffe64655b542629b44e003e7": {
      "model_module": "@jupyter-widgets/controls",
      "model_module_version": "1.2.0",
      "model_name": "DescriptionStyleModel",
      "state": {
       "description_width": ""
      }
     },
     "8eaaf281104347a6b7f87e6497af12d2": {
      "model_module": "@jupyter-widgets/controls",
      "model_module_version": "1.2.0",
      "model_name": "ButtonModel",
      "state": {
       "description": "Korrekt?",
       "layout": "IPY_MODEL_a99604e766ff469aa5d5c29f7b727260",
       "style": "IPY_MODEL_e8029c71c9004ad6847baa7f0e387733"
      }
     },
     "8ef0cac4621742aebdf161c1026dca82": {
      "model_module": "@jupyter-widgets/base",
      "model_module_version": "1.0.0",
      "model_name": "LayoutModel",
      "state": {
       "width": "250px"
      }
     },
     "8f488910162b4c6eabb56282665e1bc8": {
      "model_module": "@jupyter-widgets/controls",
      "model_module_version": "1.2.0",
      "model_name": "ButtonModel",
      "state": {
       "description": "prep",
       "layout": "IPY_MODEL_abcab5fcb61140cb9227c7576115cd09",
       "style": "IPY_MODEL_950f8e04cb704803bdd098be3eb44fdd"
      }
     },
     "8f70ee1fc80f4da9a4e8f6492d7b875e": {
      "model_module": "@jupyter-widgets/controls",
      "model_module_version": "1.2.0",
      "model_name": "CheckboxModel",
      "state": {
       "description": "Es gibt keine.",
       "disabled": false,
       "layout": "IPY_MODEL_f3be0150664a46e28363cf6a644256b1",
       "style": "IPY_MODEL_23d74c2266ef4bfdab694b5c38575fe0",
       "value": false
      }
     },
     "8f8d115e15be422f975e6dfa1d3da90b": {
      "model_module": "@jupyter-widgets/controls",
      "model_module_version": "1.2.0",
      "model_name": "DescriptionStyleModel",
      "state": {
       "description_width": ""
      }
     },
     "8fc81b9b36bd42e8ac8cad24f6061b8e": {
      "model_module": "@jupyter-widgets/controls",
      "model_module_version": "1.2.0",
      "model_name": "ButtonStyleModel",
      "state": {}
     },
     "8fcb18badff345118621be00f16f87b9": {
      "model_module": "@jupyter-widgets/base",
      "model_module_version": "1.0.0",
      "model_name": "LayoutModel",
      "state": {
       "width": "600px"
      }
     },
     "8fd6bae2ba574509a4ce164406bff334": {
      "model_module": "@jupyter-widgets/controls",
      "model_module_version": "1.2.0",
      "model_name": "ButtonModel",
      "state": {
       "description": "Korrekt?",
       "layout": "IPY_MODEL_4b502e027c354ae887ade6dad2b090e7",
       "style": "IPY_MODEL_fc8c0a0abf034ad48813f7068115363d"
      }
     },
     "8ff575c6635c4f7cbef07b202efc1f7d": {
      "model_module": "@jupyter-widgets/controls",
      "model_module_version": "1.2.0",
      "model_name": "HTMLModel",
      "state": {
       "layout": "IPY_MODEL_f3d523665eb4472998a0d339c7ec7fac",
       "style": "IPY_MODEL_5df16db618d5410f9a95139f783a3b82",
       "value": "<h4 style=\"font-size:14px;\">Welche Art von Dependenz besteht jetzt zwischen <i> fährt </i> und <i> Arbeitsplatz </i> ?</h4>"
      }
     },
     "8ffb70ea0232485c9076810af41f0203": {
      "model_module": "@jupyter-widgets/base",
      "model_module_version": "1.0.0",
      "model_name": "LayoutModel",
      "state": {
       "width": "600px"
      }
     },
     "9006f114f92d49fe9051c7f6deb2d090": {
      "model_module": "@jupyter-widgets/controls",
      "model_module_version": "1.2.0",
      "model_name": "VBoxModel",
      "state": {
       "children": [
        "IPY_MODEL_2ccad852c4c643b28484c783cc2429ea",
        "IPY_MODEL_b59464f5812f42b59d25ddb91fc05a39",
        "IPY_MODEL_dd79a32c15cd4f4ab12bdf68a4ac77f3",
        "IPY_MODEL_eb341ae252134362b3b4ffee5299e9f7",
        "IPY_MODEL_21ac04c1bec7441db33282fc884e3d82",
        "IPY_MODEL_4b97c7c37800499b8462339588cd3f9a",
        "IPY_MODEL_2f0ffbab79264a93b8b693ddb9c27585"
       ],
       "layout": "IPY_MODEL_59380025446b46b28ffe423fe0aec3c2"
      }
     },
     "902a0425ec404aa789baa1ce25e5b95c": {
      "model_module": "@jupyter-widgets/controls",
      "model_module_version": "1.2.0",
      "model_name": "DescriptionStyleModel",
      "state": {
       "description_width": "initial"
      }
     },
     "904e8a447dd34c17bad8653e88dd0b85": {
      "model_module": "@jupyter-widgets/controls",
      "model_module_version": "1.2.0",
      "model_name": "HBoxModel",
      "state": {
       "children": [
        "IPY_MODEL_1be201038c8c407c99bd6621b7ce5f1b",
        "IPY_MODEL_ddcbca3d7dc7447fb2cb9a0c7288b72a"
       ],
       "layout": "IPY_MODEL_6a7d050d5bb345dbade88730f99012be"
      }
     },
     "904fa1ebfe5d4af0b8e3164c3120cdc6": {
      "model_module": "@jupyter-widgets/base",
      "model_module_version": "1.0.0",
      "model_name": "LayoutModel",
      "state": {
       "width": "600px"
      }
     },
     "90934465897b4b6787676199a7ca4d06": {
      "model_module": "@jupyter-widgets/controls",
      "model_module_version": "1.2.0",
      "model_name": "HTMLModel",
      "state": {
       "layout": "IPY_MODEL_3dac38c989f94710819837a753b90392",
       "style": "IPY_MODEL_7a5bdb08b65b4c5eb033ac88fd3fc0f8",
       "value": "<h4 style=\"font-size:14px;\">Doch nur das</h4>"
      }
     },
     "90aabcc6386b466fb23a36e825e63595": {
      "model_module": "@jupyter-widgets/base",
      "model_module_version": "1.0.0",
      "model_name": "LayoutModel",
      "state": {}
     },
     "911dd098996a4f97b0aeb07aa2d0f470": {
      "model_module": "@jupyter-widgets/base",
      "model_module_version": "1.0.0",
      "model_name": "LayoutModel",
      "state": {
       "width": "600px"
      }
     },
     "9132bb1c90584188916f32785685250e": {
      "model_module": "@jupyter-widgets/base",
      "model_module_version": "1.0.0",
      "model_name": "LayoutModel",
      "state": {
       "width": "250px"
      }
     },
     "9134087a81b547308af40f1cfce56778": {
      "model_module": "@jupyter-widgets/controls",
      "model_module_version": "1.2.0",
      "model_name": "ButtonStyleModel",
      "state": {}
     },
     "913a250a52c84d3a914161f05b0be1f7": {
      "model_module": "@jupyter-widgets/base",
      "model_module_version": "1.0.0",
      "model_name": "LayoutModel",
      "state": {
       "width": "600px"
      }
     },
     "913be45bf3ca4d6fb41d5feec2040353": {
      "model_module": "@jupyter-widgets/base",
      "model_module_version": "1.0.0",
      "model_name": "LayoutModel",
      "state": {
       "width": "250px"
      }
     },
     "91627c282d3d40e6bb2248293c25ae1e": {
      "model_module": "@jupyter-widgets/controls",
      "model_module_version": "1.2.0",
      "model_name": "DescriptionStyleModel",
      "state": {
       "description_width": "initial"
      }
     },
     "91d916e109f1426da8c00dbb530dd862": {
      "model_module": "@jupyter-widgets/controls",
      "model_module_version": "1.2.0",
      "model_name": "ButtonStyleModel",
      "state": {}
     },
     "91fa26702001456a892702523cbf1653": {
      "model_module": "@jupyter-widgets/controls",
      "model_module_version": "1.2.0",
      "model_name": "DescriptionStyleModel",
      "state": {
       "description_width": "initial"
      }
     },
     "9210a9d94e7748159a0dbae21a3870a8": {
      "model_module": "@jupyter-widgets/base",
      "model_module_version": "1.0.0",
      "model_name": "LayoutModel",
      "state": {
       "width": "600px"
      }
     },
     "92aaca1bcca84c059e3eafa969c599a4": {
      "model_module": "@jupyter-widgets/base",
      "model_module_version": "1.0.0",
      "model_name": "LayoutModel",
      "state": {
       "justify_content": "center"
      }
     },
     "92d48fd3062848f3b70029e838f131f6": {
      "model_module": "@jupyter-widgets/controls",
      "model_module_version": "1.2.0",
      "model_name": "DescriptionStyleModel",
      "state": {
       "description_width": "initial"
      }
     },
     "92dae538e61d4638ba39fe1cae8ea121": {
      "model_module": "@jupyter-widgets/controls",
      "model_module_version": "1.2.0",
      "model_name": "HBoxModel",
      "state": {
       "children": [
        "IPY_MODEL_7a0db9017aae4bc4aa9d8451f66d87d7",
        "IPY_MODEL_eef1df3578be406dbf20bb69c21b0a6e"
       ],
       "layout": "IPY_MODEL_bb61b09192e04f4187afa31b11048f50"
      }
     },
     "930e3f3512324eab9b0c125c0824862c": {
      "model_module": "@jupyter-widgets/controls",
      "model_module_version": "1.2.0",
      "model_name": "VBoxModel",
      "state": {
       "children": [
        "IPY_MODEL_59d493cd3d074e558a25348c24f55509",
        "IPY_MODEL_55102b18b821467883715ed7b0816f48",
        "IPY_MODEL_02a2589b8eba4926947ff55ed4f60faf",
        "IPY_MODEL_5c2b2209788d4b1d8640e3232d0b1b15"
       ],
       "layout": "IPY_MODEL_5a9c6dabc8f5471cad79fb3ecd0aa954"
      }
     },
     "9336784dea954e68a306990958020120": {
      "model_module": "@jupyter-widgets/base",
      "model_module_version": "1.0.0",
      "model_name": "LayoutModel",
      "state": {
       "width": "250px"
      }
     },
     "935252c91ac84c7880afbf9f9262a35e": {
      "model_module": "@jupyter-widgets/controls",
      "model_module_version": "1.2.0",
      "model_name": "DescriptionStyleModel",
      "state": {
       "description_width": "initial"
      }
     },
     "93ca8d68a85f4b4d80c81b4994408b91": {
      "model_module": "@jupyter-widgets/base",
      "model_module_version": "1.0.0",
      "model_name": "LayoutModel",
      "state": {
       "width": "250px"
      }
     },
     "9403cf3af6eb4603b224e73dd4231b20": {
      "model_module": "@jupyter-widgets/base",
      "model_module_version": "1.0.0",
      "model_name": "LayoutModel",
      "state": {
       "width": "600px"
      }
     },
     "9437228b682c496f8ce98e26b5bef0b3": {
      "model_module": "@jupyter-widgets/controls",
      "model_module_version": "1.2.0",
      "model_name": "DropdownModel",
      "state": {
       "_options_labels": [
        "Lokaladverbial",
        "Modaladverbial",
        "Subjekt",
        " "
       ],
       "index": 3,
       "layout": "IPY_MODEL_f8485a8ea9194ca5abb4858f49329f4b",
       "style": "IPY_MODEL_2bbf3906e6064f99b0c016bc9e17866a"
      }
     },
     "943d879365be4379b209267046ecf7e7": {
      "model_module": "@jupyter-widgets/controls",
      "model_module_version": "1.2.0",
      "model_name": "HTMLModel",
      "state": {
       "layout": "IPY_MODEL_b87aa5df0d234ed8aff4e30029fb4598",
       "style": "IPY_MODEL_5d443050f36348029a213d71defed9a9",
       "value": "<i>Markieren Sie <ins>alle</ins> passenden Antworten: </i>"
      }
     },
     "9445b52bf0d34b74b378c483f3790422": {
      "model_module": "@jupyter-widgets/controls",
      "model_module_version": "1.2.0",
      "model_name": "DescriptionStyleModel",
      "state": {
       "description_width": "initial"
      }
     },
     "9445e3f8ace8479bbd02b28e0172b9c7": {
      "model_module": "@jupyter-widgets/controls",
      "model_module_version": "1.2.0",
      "model_name": "CheckboxModel",
      "state": {
       "description": "Bruder",
       "disabled": false,
       "layout": "IPY_MODEL_49ebc9a9c4f24637b1cfaeb38c341349",
       "style": "IPY_MODEL_34006e448d964859bc5bc89d3cc42aab",
       "value": false
      }
     },
     "9469ba7af6994018abdcf333566489d9": {
      "model_module": "@jupyter-widgets/controls",
      "model_module_version": "1.2.0",
      "model_name": "HTMLModel",
      "state": {
       "layout": "IPY_MODEL_7cb32d69b8444499af8e03317e66dc60",
       "style": "IPY_MODEL_45a092d3148a4028979ea9f3b94951af",
       "value": "<h4 style=\"font-size:14px;\">Welche Art von Dependenz besteht zwischen <i> lebhaften </i> und <i> sehr </i> ?</h4>"
      }
     },
     "9477b5fb225342d89f0d4ad08cc5550a": {
      "model_module": "@jupyter-widgets/base",
      "model_module_version": "1.0.0",
      "model_name": "LayoutModel",
      "state": {}
     },
     "94c516d63de6422990f95fbfba9a6092": {
      "model_module": "@jupyter-widgets/base",
      "model_module_version": "1.0.0",
      "model_name": "LayoutModel",
      "state": {
       "width": "250px"
      }
     },
     "94e87a25f153400e83da8ce1a9669016": {
      "model_module": "@jupyter-widgets/controls",
      "model_module_version": "1.2.0",
      "model_name": "VBoxModel",
      "state": {
       "children": [
        "IPY_MODEL_3e2e48cabb904bd0a1a947336cb673ce",
        "IPY_MODEL_943d879365be4379b209267046ecf7e7",
        "IPY_MODEL_386439e9ccec4666b0c3f3c8ecfd35c3",
        "IPY_MODEL_c46087933c994975801d4a9dc1c38cb4"
       ],
       "layout": "IPY_MODEL_70c843e4f3e2460082af958169a400f0"
      }
     },
     "94ed500c01e7464ca8bbc9bb90d06df6": {
      "model_module": "@jupyter-widgets/controls",
      "model_module_version": "1.2.0",
      "model_name": "HBoxModel",
      "state": {
       "children": [
        "IPY_MODEL_f838aa2b998c4cf1b3936b0e9f773848",
        "IPY_MODEL_9613fe265156479b8f523fe10bdf86cc"
       ],
       "layout": "IPY_MODEL_72fbdea789ee4465aaa4a2104305d741"
      }
     },
     "95008dcdddb74f82b620cfd363a5955e": {
      "model_module": "@jupyter-widgets/controls",
      "model_module_version": "1.2.0",
      "model_name": "HBoxModel",
      "state": {
       "children": [
        "IPY_MODEL_479aeaddf6824d48b7b850b07d9d69bb",
        "IPY_MODEL_bf142693e97645aeb510b370028411c9"
       ],
       "layout": "IPY_MODEL_8c40e6b1aa4f4bce8352b0a06a5d3eee"
      }
     },
     "950f8e04cb704803bdd098be3eb44fdd": {
      "model_module": "@jupyter-widgets/controls",
      "model_module_version": "1.2.0",
      "model_name": "ButtonStyleModel",
      "state": {}
     },
     "95cb040df1064fc4be9890f65a4e0cba": {
      "model_module": "@jupyter-widgets/controls",
      "model_module_version": "1.2.0",
      "model_name": "DescriptionStyleModel",
      "state": {
       "description_width": ""
      }
     },
     "95d0891a3d164139bdf0e3290f29bd25": {
      "model_module": "@jupyter-widgets/base",
      "model_module_version": "1.0.0",
      "model_name": "LayoutModel",
      "state": {
       "width": "250px"
      }
     },
     "95e5767e79634acda55f50d70ca39eb0": {
      "model_module": "@jupyter-widgets/controls",
      "model_module_version": "1.2.0",
      "model_name": "DescriptionStyleModel",
      "state": {
       "description_width": "initial"
      }
     },
     "95fd8d28ae194238bddcdd2b8e536c83": {
      "model_module": "@jupyter-widgets/base",
      "model_module_version": "1.0.0",
      "model_name": "LayoutModel",
      "state": {
       "justify_content": "center"
      }
     },
     "9613fe265156479b8f523fe10bdf86cc": {
      "model_module": "@jupyter-widgets/controls",
      "model_module_version": "1.2.0",
      "model_name": "ButtonModel",
      "state": {
       "description": "nmod",
       "layout": "IPY_MODEL_9f5cc55c3a274d92a6fe97dfe57e923e",
       "style": "IPY_MODEL_3daec7583d92453388aba521a85322a2"
      }
     },
     "961a5b8eceb746629e853bca3dacd695": {
      "model_module": "@jupyter-widgets/controls",
      "model_module_version": "1.2.0",
      "model_name": "ButtonModel",
      "state": {
       "description": "Korrekt?",
       "layout": "IPY_MODEL_7aef665675b64e8393da9f38f423c11b",
       "style": "IPY_MODEL_54f0761a39334c5e97e301263879ed6f"
      }
     },
     "96566a0cd1154168b81cb065e6d6f9d6": {
      "model_module": "@jupyter-widgets/controls",
      "model_module_version": "1.2.0",
      "model_name": "HTMLModel",
      "state": {
       "layout": "IPY_MODEL_0ad130e4d7454b1b910de5694f5413c4",
       "style": "IPY_MODEL_27fd5d88a7ba4eb4b47b03f89dc1a486",
       "value": "<h4 style=\"font-size:14px;\">auf, das Wort <i></h4>"
      }
     },
     "965dbb7f9aa74f24a97f2d3b150c5133": {
      "model_module": "@jupyter-widgets/controls",
      "model_module_version": "1.2.0",
      "model_name": "DescriptionStyleModel",
      "state": {
       "description_width": ""
      }
     },
     "967a541e9c8b449dbc5c7a03532298ba": {
      "model_module": "@jupyter-widgets/controls",
      "model_module_version": "1.2.0",
      "model_name": "ButtonStyleModel",
      "state": {}
     },
     "967a83ee6ae54bcf985e2aa6db06359b": {
      "model_module": "@jupyter-widgets/controls",
      "model_module_version": "1.2.0",
      "model_name": "VBoxModel",
      "state": {
       "children": [
        "IPY_MODEL_f24b8e9fbfa749009f9cb1eac316b5d0",
        "IPY_MODEL_bc4a68cfdd8c4a219a585f4a2754a269",
        "IPY_MODEL_52ee2a3cc09141eb869289086fed8109"
       ],
       "layout": "IPY_MODEL_ebcd64b3d08949ccab45250a81ebfc48"
      }
     },
     "967f561d2d59494badf1665008df4a3b": {
      "model_module": "@jupyter-widgets/base",
      "model_module_version": "1.0.0",
      "model_name": "LayoutModel",
      "state": {
       "width": "250px"
      }
     },
     "96b86afa7674420dbc05260708745850": {
      "model_module": "@jupyter-widgets/controls",
      "model_module_version": "1.2.0",
      "model_name": "VBoxModel",
      "state": {
       "children": [
        "IPY_MODEL_3331afb7b6324228849308434ea9dd00",
        "IPY_MODEL_3121d4c2066d49ae8477641e391361fb",
        "IPY_MODEL_ab31bfee5cae42e189b4fb54e5d51119"
       ],
       "layout": "IPY_MODEL_9bc3a3dc2ba14727b5e1ec0ce30d7102"
      }
     },
     "96be6ab69824403fb162231722dd9a39": {
      "model_module": "@jupyter-widgets/controls",
      "model_module_version": "1.2.0",
      "model_name": "ButtonModel",
      "state": {
       "description": "nsubj",
       "layout": "IPY_MODEL_5679ca844dc14ca7bc5216e37b7c7809",
       "style": "IPY_MODEL_be16a29fccee40cab31c400fb6460094"
      }
     },
     "97b9379c39a944459319ee044768093a": {
      "model_module": "@jupyter-widgets/controls",
      "model_module_version": "1.2.0",
      "model_name": "DescriptionStyleModel",
      "state": {
       "description_width": "initial"
      }
     },
     "97bedb515ce84fa5b42dc91545cee94f": {
      "model_module": "@jupyter-widgets/base",
      "model_module_version": "1.0.0",
      "model_name": "LayoutModel",
      "state": {
       "justify_content": "center"
      }
     },
     "97d0bebd233f49ea94a2104502b53e1c": {
      "model_module": "@jupyter-widgets/controls",
      "model_module_version": "1.2.0",
      "model_name": "CheckboxModel",
      "state": {
       "description": "kenne",
       "disabled": false,
       "layout": "IPY_MODEL_7b36c7bb09554a57a4d427499fb54ee1",
       "style": "IPY_MODEL_ef6ceef7bfe34b928a63828ec2702ce7",
       "value": false
      }
     },
     "97f39c2896904fa896b563bc2410983b": {
      "model_module": "@jupyter-widgets/controls",
      "model_module_version": "1.2.0",
      "model_name": "CheckboxModel",
      "state": {
       "description": "Kollegin",
       "disabled": false,
       "layout": "IPY_MODEL_7d3aa6dcb3ae4a15853aaa7918608eb8",
       "style": "IPY_MODEL_70181dac127148e3bab128376903b3fd",
       "value": false
      }
     },
     "98642b4c914742e4acd2446640667868": {
      "model_module": "@jupyter-widgets/controls",
      "model_module_version": "1.2.0",
      "model_name": "DescriptionStyleModel",
      "state": {
       "description_width": ""
      }
     },
     "9877df3f926e41c28153b46a067a8a56": {
      "model_module": "@jupyter-widgets/base",
      "model_module_version": "1.0.0",
      "model_name": "LayoutModel",
      "state": {
       "justify_content": "center"
      }
     },
     "989c495e41fa4c3281637a50bc307ff5": {
      "model_module": "@jupyter-widgets/controls",
      "model_module_version": "1.2.0",
      "model_name": "DescriptionStyleModel",
      "state": {
       "description_width": "initial"
      }
     },
     "98b1e88a68c446d2ba5c005fad969375": {
      "model_module": "@jupyter-widgets/base",
      "model_module_version": "1.0.0",
      "model_name": "LayoutModel",
      "state": {
       "width": "600px"
      }
     },
     "98b32949e59a4865b6e20cb560ace7cb": {
      "model_module": "@jupyter-widgets/controls",
      "model_module_version": "1.2.0",
      "model_name": "CheckboxModel",
      "state": {
       "description": "Bruder",
       "disabled": false,
       "layout": "IPY_MODEL_84d41b49c3cd4cbb9d01bc905be66e47",
       "style": "IPY_MODEL_1efc69226b124539ad203f3dd232d21e",
       "value": false
      }
     },
     "9901d000dbb34967bc3dd036ab676404": {
      "model_module": "@jupyter-widgets/base",
      "model_module_version": "1.0.0",
      "model_name": "LayoutModel",
      "state": {}
     },
     "995329dae8744778af46a2f390b937e5": {
      "model_module": "@jupyter-widgets/controls",
      "model_module_version": "1.2.0",
      "model_name": "CheckboxModel",
      "state": {
       "description": "von",
       "disabled": false,
       "layout": "IPY_MODEL_41fd35a12ecf458db5971c91c903299d",
       "style": "IPY_MODEL_b717f59d31c04492b6ed3c4dff012e78",
       "value": false
      }
     },
     "99fb85c687f04030863d6e9a1acad18b": {
      "model_module": "@jupyter-widgets/base",
      "model_module_version": "1.0.0",
      "model_name": "LayoutModel",
      "state": {}
     },
     "9a059d7f29bc4d4ea7996ea4a86fa81a": {
      "model_module": "@jupyter-widgets/controls",
      "model_module_version": "1.2.0",
      "model_name": "VBoxModel",
      "state": {
       "children": [
        "IPY_MODEL_6ebd11c8ff524bb998c464c412738d54",
        "IPY_MODEL_d5a59923d3bb460aa44d8c383516cd4b",
        "IPY_MODEL_1a7f045c3b7042b2bce4fd41c9c12c3d",
        "IPY_MODEL_8a114917d14e4ff1afe29261c887feb7",
        "IPY_MODEL_0de9784b91e8468a9a04012265c10675",
        "IPY_MODEL_82f5db2b328e4eef99e9edfd7d15e48d",
        "IPY_MODEL_23b73b9d383644b1b82d8d1f349f9a69",
        "IPY_MODEL_835969b61bd549b3a9796a18b78b28f4",
        "IPY_MODEL_0b894049ef6740d08b08c51fd82d7f1d",
        "IPY_MODEL_0a02418fb4524a70a792cd8bdc8726c6",
        "IPY_MODEL_d0787d65687a4df8822c5188f73ff3d6"
       ],
       "layout": "IPY_MODEL_bfc5dd823a0f46f7a8ad0aa442883b76"
      }
     },
     "9a16e94681224df8abba886bd987bbe2": {
      "model_module": "@jupyter-widgets/controls",
      "model_module_version": "1.2.0",
      "model_name": "DescriptionStyleModel",
      "state": {
       "description_width": ""
      }
     },
     "9a42d90139b44b5099fb74e31ff3534d": {
      "model_module": "@jupyter-widgets/controls",
      "model_module_version": "1.2.0",
      "model_name": "DescriptionStyleModel",
      "state": {
       "description_width": ""
      }
     },
     "9a7a02fdbe6b4dbc89c630fbe5d7e497": {
      "model_module": "@jupyter-widgets/controls",
      "model_module_version": "1.2.0",
      "model_name": "DescriptionStyleModel",
      "state": {
       "description_width": "initial"
      }
     },
     "9a7a116bdf424720a41ac02e9a33dfaa": {
      "model_module": "@jupyter-widgets/base",
      "model_module_version": "1.0.0",
      "model_name": "LayoutModel",
      "state": {}
     },
     "9a8bbb5caad44c0cb420d58d42f83336": {
      "model_module": "@jupyter-widgets/base",
      "model_module_version": "1.0.0",
      "model_name": "LayoutModel",
      "state": {}
     },
     "9a920444997a48cd92a483c156c03b82": {
      "model_module": "@jupyter-widgets/controls",
      "model_module_version": "1.2.0",
      "model_name": "CheckboxModel",
      "state": {
       "description": "zu",
       "disabled": false,
       "layout": "IPY_MODEL_89da7859df0b43ca9c705f04c8c9cb98",
       "style": "IPY_MODEL_e9cfa62a281c4bf1a12ab1364d4759c7",
       "value": false
      }
     },
     "9ab31b0c87c1488e9b1fb41afe30247b": {
      "model_module": "@jupyter-widgets/controls",
      "model_module_version": "1.2.0",
      "model_name": "DescriptionStyleModel",
      "state": {
       "description_width": "initial"
      }
     },
     "9acde5d75e2f4f0c98cfdca2db84b4c0": {
      "model_module": "@jupyter-widgets/controls",
      "model_module_version": "1.2.0",
      "model_name": "CheckboxModel",
      "state": {
       "description": "einen",
       "disabled": false,
       "layout": "IPY_MODEL_05dd181eb150407d9e71af921de57789",
       "style": "IPY_MODEL_81c3b459712d436b8db56443ea4f84b8",
       "value": false
      }
     },
     "9b12413ac4b74a34b86fdb06b836e7d7": {
      "model_module": "@jupyter-widgets/controls",
      "model_module_version": "1.2.0",
      "model_name": "ButtonStyleModel",
      "state": {}
     },
     "9b342e88e7c64afa98f8372cdfba8294": {
      "model_module": "@jupyter-widgets/controls",
      "model_module_version": "1.2.0",
      "model_name": "ButtonModel",
      "state": {
       "description": "det",
       "layout": "IPY_MODEL_bec24267f8d64c9b92160d9e1ada87c9",
       "style": "IPY_MODEL_a05ec8acdd4b44f485131374eb3952c7"
      }
     },
     "9b3e44a026cf40a882fd82ed233df9c2": {
      "model_module": "@jupyter-widgets/controls",
      "model_module_version": "1.2.0",
      "model_name": "ButtonStyleModel",
      "state": {}
     },
     "9b4202c9e93840c18611f414d952728b": {
      "model_module": "@jupyter-widgets/controls",
      "model_module_version": "1.2.0",
      "model_name": "ButtonStyleModel",
      "state": {}
     },
     "9b42b1c6fcfd4cdc947a6b731640b92f": {
      "model_module": "@jupyter-widgets/controls",
      "model_module_version": "1.2.0",
      "model_name": "DescriptionStyleModel",
      "state": {
       "description_width": ""
      }
     },
     "9b66f65d2f044431ab84a64221afe21f": {
      "model_module": "@jupyter-widgets/base",
      "model_module_version": "1.0.0",
      "model_name": "LayoutModel",
      "state": {
       "width": "600px"
      }
     },
     "9b689ffa3bfe485b98c80a203eaf8567": {
      "model_module": "@jupyter-widgets/controls",
      "model_module_version": "1.2.0",
      "model_name": "ButtonModel",
      "state": {
       "description": "det",
       "layout": "IPY_MODEL_8935b363bf9b41c1a4c698f67739c9c5",
       "style": "IPY_MODEL_fa6728137694426496933a25850b7b92"
      }
     },
     "9b6d9e6839e44e1998eb3949939452d9": {
      "model_module": "@jupyter-widgets/controls",
      "model_module_version": "1.2.0",
      "model_name": "VBoxModel",
      "state": {
       "children": [
        "IPY_MODEL_404b878dcf6c4d52b5ba1cee6cd864c0",
        "IPY_MODEL_362ebb6c88604dfea3a1f396251ba446",
        "IPY_MODEL_f2879211ade242dbb50430b54dc698d2",
        "IPY_MODEL_00a3f18318dd4389bf77150641057097",
        "IPY_MODEL_94ed500c01e7464ca8bbc9bb90d06df6",
        "IPY_MODEL_451a5620d81d4eb4ba303c17a3803feb"
       ],
       "layout": "IPY_MODEL_b86b2892727e4fe68b28e7df98d1893c"
      }
     },
     "9b7229d7704b4fe1bf271f5a5f24c52a": {
      "model_module": "@jupyter-widgets/controls",
      "model_module_version": "1.2.0",
      "model_name": "VBoxModel",
      "state": {
       "children": [
        "IPY_MODEL_ed2090b1efab429f8b8b6cb82a4e4848",
        "IPY_MODEL_74706a8b59f7436fbc2f7a520feea92d",
        "IPY_MODEL_fcd0eb17974e461e9510e5d5d8698a67",
        "IPY_MODEL_86a996484b1649919114bbdbe5e89983",
        "IPY_MODEL_5bd499f68cd346458cdc268ca8e37e76",
        "IPY_MODEL_208c55b648224c79b01aab3b1481df3c",
        "IPY_MODEL_c5b16e8ea12d483283d1c9256b20d239",
        "IPY_MODEL_3e978612b4504945bf35d8005c169ab7",
        "IPY_MODEL_cc9fbe08203745a0a2bb5bcaf201589f",
        "IPY_MODEL_07efd98e37ea439c97ed2399fa319670",
        "IPY_MODEL_37830e23cba74fbbbab4a9e71ff890bb"
       ],
       "layout": "IPY_MODEL_3269620bf82a4fba9ff5622299335eaf"
      }
     },
     "9b7c42b61b8f47ac9d515586a0da681f": {
      "model_module": "@jupyter-widgets/controls",
      "model_module_version": "1.2.0",
      "model_name": "ButtonStyleModel",
      "state": {}
     },
     "9b7daea12e1248a284cacc98e676e79f": {
      "model_module": "@jupyter-widgets/base",
      "model_module_version": "1.0.0",
      "model_name": "LayoutModel",
      "state": {}
     },
     "9b95b43cba944388b790aeb716588800": {
      "model_module": "@jupyter-widgets/controls",
      "model_module_version": "1.2.0",
      "model_name": "BoxModel",
      "state": {
       "children": [
        "IPY_MODEL_f4bd486af356449c8f0073f51eabf73a",
        "IPY_MODEL_d2d0a3dfe2054b3d922fd7e8b0a9c702",
        "IPY_MODEL_b08c69d1b0bc4edca92f0d1d5f4aa728",
        "IPY_MODEL_625e1549a9a5405f929d6c8d07a3a698",
        "IPY_MODEL_ab8874c2ae794ee5a564489b036a5174",
        "IPY_MODEL_bc8956dc337d4ca39dc9951a5e952920",
        "IPY_MODEL_4eb8a020fe0248e3b27ee95ed0420bc2",
        "IPY_MODEL_84f89fd2b18f4951a08830a50e7935eb",
        "IPY_MODEL_4ac7534008f5403b90624f17ac1f9c5e"
       ],
       "layout": "IPY_MODEL_38c3166fdbe8452baab21597d6449470"
      }
     },
     "9bc3a3dc2ba14727b5e1ec0ce30d7102": {
      "model_module": "@jupyter-widgets/base",
      "model_module_version": "1.0.0",
      "model_name": "LayoutModel",
      "state": {}
     },
     "9bd952d32c9f4c778d3b1602ed2f3352": {
      "model_module": "@jupyter-widgets/base",
      "model_module_version": "1.0.0",
      "model_name": "LayoutModel",
      "state": {
       "justify_content": "center"
      }
     },
     "9c20a10f0e7944f38c003eb8212e962e": {
      "model_module": "@jupyter-widgets/base",
      "model_module_version": "1.0.0",
      "model_name": "LayoutModel",
      "state": {
       "justify_content": "center"
      }
     },
     "9c5182675ae84c0ead78e00d56cbb32d": {
      "model_module": "@jupyter-widgets/controls",
      "model_module_version": "1.2.0",
      "model_name": "DescriptionStyleModel",
      "state": {
       "description_width": "initial"
      }
     },
     "9c54f5e3342e453d9deac085162b7df5": {
      "model_module": "@jupyter-widgets/base",
      "model_module_version": "1.0.0",
      "model_name": "LayoutModel",
      "state": {
       "width": "600px"
      }
     },
     "9ca915e4f5d04d93a19debeee68a2ce4": {
      "model_module": "@jupyter-widgets/controls",
      "model_module_version": "1.2.0",
      "model_name": "DescriptionStyleModel",
      "state": {
       "description_width": "initial"
      }
     },
     "9cb1132092024c5cb59475db8f098584": {
      "model_module": "@jupyter-widgets/base",
      "model_module_version": "1.0.0",
      "model_name": "LayoutModel",
      "state": {}
     },
     "9d15480ebb864400911b9e36472a762b": {
      "model_module": "@jupyter-widgets/base",
      "model_module_version": "1.0.0",
      "model_name": "LayoutModel",
      "state": {}
     },
     "9d20db0bd1184358a94cce4afce03639": {
      "model_module": "@jupyter-widgets/controls",
      "model_module_version": "1.2.0",
      "model_name": "VBoxModel",
      "state": {
       "children": [
        "IPY_MODEL_51a49af8d5744bc9b406f1b77958f282",
        "IPY_MODEL_ae712bc0ed494d2bb477483903018991",
        "IPY_MODEL_03beaf34298740e0916d3dca7c1fac5a",
        "IPY_MODEL_103988acc47041c4ae848f05b296a6e3",
        "IPY_MODEL_0b4999cf8b0540a9a25d10df92476590",
        "IPY_MODEL_74d8298191af4a70a17f16694af83d30"
       ],
       "layout": "IPY_MODEL_9ef3eb3a64f84da5b50924a34b948647"
      }
     },
     "9d45eda5a75e49d183a760bab544f958": {
      "model_module": "@jupyter-widgets/base",
      "model_module_version": "1.0.0",
      "model_name": "LayoutModel",
      "state": {
       "width": "600px"
      }
     },
     "9d49b646a867418c9bf4306948e7be6e": {
      "model_module": "@jupyter-widgets/controls",
      "model_module_version": "1.2.0",
      "model_name": "DescriptionStyleModel",
      "state": {
       "description_width": ""
      }
     },
     "9d66a7c65c344ce3a35ddf69b995b830": {
      "model_module": "@jupyter-widgets/controls",
      "model_module_version": "1.2.0",
      "model_name": "CheckboxModel",
      "state": {
       "description": "Kollegin",
       "disabled": false,
       "layout": "IPY_MODEL_f665aaeaa0da4ae7ac353d9765cddcb7",
       "style": "IPY_MODEL_95e5767e79634acda55f50d70ca39eb0",
       "value": false
      }
     },
     "9d7a9ac5f18e40cbab490b747ab4ea29": {
      "model_module": "@jupyter-widgets/base",
      "model_module_version": "1.0.0",
      "model_name": "LayoutModel",
      "state": {
       "width": "600px"
      }
     },
     "9d7e48351ee14d68ad25338431f624cc": {
      "model_module": "@jupyter-widgets/controls",
      "model_module_version": "1.2.0",
      "model_name": "ButtonModel",
      "state": {
       "description": "pcomp",
       "layout": "IPY_MODEL_4323af3b2b5f442ba8b69537fa2b1553",
       "style": "IPY_MODEL_b782f63bb64b454280773dbdf81a571f"
      }
     },
     "9d9556110f0f4a76afc7755c6fc06362": {
      "model_module": "@jupyter-widgets/controls",
      "model_module_version": "1.2.0",
      "model_name": "CheckboxModel",
      "state": {
       "description": "ihrem",
       "disabled": false,
       "layout": "IPY_MODEL_9403cf3af6eb4603b224e73dd4231b20",
       "style": "IPY_MODEL_54b1f6e9aa414b0ba3dbb56e33f9af58",
       "value": false
      }
     },
     "9db223588f814fa982dd33c77238612c": {
      "model_module": "@jupyter-widgets/controls",
      "model_module_version": "1.2.0",
      "model_name": "DescriptionStyleModel",
      "state": {
       "description_width": ""
      }
     },
     "9dcd4a9d69684a309fb3373fea411c0a": {
      "model_module": "@jupyter-widgets/controls",
      "model_module_version": "1.2.0",
      "model_name": "ButtonStyleModel",
      "state": {}
     },
     "9dcf3da738b04a0b982d85e4464753f7": {
      "model_module": "@jupyter-widgets/controls",
      "model_module_version": "1.2.0",
      "model_name": "DescriptionStyleModel",
      "state": {
       "description_width": ""
      }
     },
     "9e3b867f16ba4fe8a2fb8a99edb1e3d1": {
      "model_module": "@jupyter-widgets/controls",
      "model_module_version": "1.2.0",
      "model_name": "DescriptionStyleModel",
      "state": {
       "description_width": "initial"
      }
     },
     "9e6641bcc029461c906294720c24b52b": {
      "model_module": "@jupyter-widgets/base",
      "model_module_version": "1.0.0",
      "model_name": "LayoutModel",
      "state": {
       "justify_content": "center"
      }
     },
     "9ea19432d7734900983f7341de4d6e19": {
      "model_module": "@jupyter-widgets/controls",
      "model_module_version": "1.2.0",
      "model_name": "HBoxModel",
      "state": {
       "children": [
        "IPY_MODEL_f4f8a528907c4fdeaf83366cd6918f19",
        "IPY_MODEL_1e8d5180e6c7422db00bc53746e2c935"
       ],
       "layout": "IPY_MODEL_bf5c7c65a4084298aaf796b2404507aa"
      }
     },
     "9eb505e5d7ae4e7db03df149f87f4bf8": {
      "model_module": "@jupyter-widgets/base",
      "model_module_version": "1.0.0",
      "model_name": "LayoutModel",
      "state": {
       "justify_content": "center"
      }
     },
     "9ebdf7802d2343f0a3be317be067230c": {
      "model_module": "@jupyter-widgets/base",
      "model_module_version": "1.0.0",
      "model_name": "LayoutModel",
      "state": {}
     },
     "9ecef18cf6f746dd9e4a24faf51dfd87": {
      "model_module": "@jupyter-widgets/controls",
      "model_module_version": "1.2.0",
      "model_name": "DescriptionStyleModel",
      "state": {
       "description_width": ""
      }
     },
     "9eed3d13e9744a9b9e02e584d20f9adf": {
      "model_module": "@jupyter-widgets/base",
      "model_module_version": "1.0.0",
      "model_name": "LayoutModel",
      "state": {
       "width": "250px"
      }
     },
     "9ef3eb3a64f84da5b50924a34b948647": {
      "model_module": "@jupyter-widgets/base",
      "model_module_version": "1.0.0",
      "model_name": "LayoutModel",
      "state": {}
     },
     "9f1142fea206486e8de21dc866104619": {
      "model_module": "@jupyter-widgets/controls",
      "model_module_version": "1.2.0",
      "model_name": "DescriptionStyleModel",
      "state": {
       "description_width": ""
      }
     },
     "9f5cc55c3a274d92a6fe97dfe57e923e": {
      "model_module": "@jupyter-widgets/base",
      "model_module_version": "1.0.0",
      "model_name": "LayoutModel",
      "state": {
       "width": "250px"
      }
     },
     "9f603d5310bc4bd4882a5e5740ef30ac": {
      "model_module": "@jupyter-widgets/base",
      "model_module_version": "1.0.0",
      "model_name": "LayoutModel",
      "state": {}
     },
     "9f733800d96f4a78a23e59e67e3002d7": {
      "model_module": "@jupyter-widgets/controls",
      "model_module_version": "1.2.0",
      "model_name": "ButtonStyleModel",
      "state": {}
     },
     "9fb0e5b408d64bd6ad7070a93109b1bf": {
      "model_module": "@jupyter-widgets/controls",
      "model_module_version": "1.2.0",
      "model_name": "ButtonStyleModel",
      "state": {}
     },
     "a04c34f07d3c4e4f9182bde2957743a7": {
      "model_module": "@jupyter-widgets/controls",
      "model_module_version": "1.2.0",
      "model_name": "DescriptionStyleModel",
      "state": {
       "description_width": ""
      }
     },
     "a05ec8acdd4b44f485131374eb3952c7": {
      "model_module": "@jupyter-widgets/controls",
      "model_module_version": "1.2.0",
      "model_name": "ButtonStyleModel",
      "state": {}
     },
     "a066b92ae5384c859426eaadcf23925c": {
      "model_module": "@jupyter-widgets/base",
      "model_module_version": "1.0.0",
      "model_name": "LayoutModel",
      "state": {
       "width": "600px"
      }
     },
     "a0739280ae7443af99a591db566b749a": {
      "model_module": "@jupyter-widgets/base",
      "model_module_version": "1.0.0",
      "model_name": "LayoutModel",
      "state": {}
     },
     "a0771e26cd59475e9c5b4e0cc74c8737": {
      "model_module": "@jupyter-widgets/controls",
      "model_module_version": "1.2.0",
      "model_name": "DescriptionStyleModel",
      "state": {
       "description_width": "initial"
      }
     },
     "a084c41168934fd4afcebe5d2b49c3af": {
      "model_module": "@jupyter-widgets/controls",
      "model_module_version": "1.2.0",
      "model_name": "CheckboxModel",
      "state": {
       "description": "älteren",
       "disabled": false,
       "layout": "IPY_MODEL_5f2b39be64c54ec4bb7a09cc7b0d0d18",
       "style": "IPY_MODEL_1cae2608d527495c8b3bba6b8363c08c",
       "value": false
      }
     },
     "a0e3f903bb084dbea165b48e2270f255": {
      "model_module": "@jupyter-widgets/controls",
      "model_module_version": "1.2.0",
      "model_name": "ButtonModel",
      "state": {
       "description": "case",
       "layout": "IPY_MODEL_9132bb1c90584188916f32785685250e",
       "style": "IPY_MODEL_1267b7235ec7430f9c10145d8b351155"
      }
     },
     "a0ec36c9d3f843afb109c751f1007e8b": {
      "model_module": "@jupyter-widgets/base",
      "model_module_version": "1.0.0",
      "model_name": "LayoutModel",
      "state": {
       "width": "250px"
      }
     },
     "a0ef1cefc8894f448c2b338355597189": {
      "model_module": "@jupyter-widgets/base",
      "model_module_version": "1.0.0",
      "model_name": "LayoutModel",
      "state": {}
     },
     "a1062647c2034f04b13df76a7e2f922c": {
      "model_module": "@jupyter-widgets/base",
      "model_module_version": "1.0.0",
      "model_name": "LayoutModel",
      "state": {
       "width": "600px"
      }
     },
     "a10b639e297f4dd3986e50969e4a51b8": {
      "model_module": "@jupyter-widgets/controls",
      "model_module_version": "1.2.0",
      "model_name": "DescriptionStyleModel",
      "state": {
       "description_width": ""
      }
     },
     "a110b2f11f5b4ccca59eb8862851e8bd": {
      "model_module": "@jupyter-widgets/controls",
      "model_module_version": "1.2.0",
      "model_name": "ButtonModel",
      "state": {
       "description": "Keine",
       "layout": "IPY_MODEL_05862e87cdd8427ea2e5d542ffd75d96",
       "style": "IPY_MODEL_11ee62cf4a4d421a8cb0249a11ebbc18"
      }
     },
     "a1258429ae9043aa8bfb23f0ece3ece1": {
      "model_module": "@jupyter-widgets/controls",
      "model_module_version": "1.2.0",
      "model_name": "ButtonStyleModel",
      "state": {}
     },
     "a156701a727d47cf9dca830588446997": {
      "model_module": "@jupyter-widgets/controls",
      "model_module_version": "1.2.0",
      "model_name": "DescriptionStyleModel",
      "state": {
       "description_width": "initial"
      }
     },
     "a1b99ffabdb64627910e3c11ba6e16f1": {
      "model_module": "@jupyter-widgets/controls",
      "model_module_version": "1.2.0",
      "model_name": "DescriptionStyleModel",
      "state": {
       "description_width": ""
      }
     },
     "a1f5aa7f76c541fb8c1ed0350da62055": {
      "model_module": "@jupyter-widgets/controls",
      "model_module_version": "1.2.0",
      "model_name": "DescriptionStyleModel",
      "state": {
       "description_width": "initial"
      }
     },
     "a1f8462e2db0494cb32fe4948554b488": {
      "model_module": "@jupyter-widgets/base",
      "model_module_version": "1.0.0",
      "model_name": "LayoutModel",
      "state": {
       "width": "250px"
      }
     },
     "a209f8a867854478a4dfa08b3932caba": {
      "model_module": "@jupyter-widgets/controls",
      "model_module_version": "1.2.0",
      "model_name": "DescriptionStyleModel",
      "state": {
       "description_width": "initial"
      }
     },
     "a21a44d09e174f488d91044b5f46fe23": {
      "model_module": "@jupyter-widgets/base",
      "model_module_version": "1.0.0",
      "model_name": "LayoutModel",
      "state": {}
     },
     "a23439e111f34b3cb65ae055c20bd128": {
      "model_module": "@jupyter-widgets/base",
      "model_module_version": "1.0.0",
      "model_name": "LayoutModel",
      "state": {
       "width": "600px"
      }
     },
     "a25ce58e96e846cd891bbf1029ea793e": {
      "model_module": "@jupyter-widgets/base",
      "model_module_version": "1.0.0",
      "model_name": "LayoutModel",
      "state": {
       "width": "250px"
      }
     },
     "a271f8e3f5b14ea99fa0e7c932a5bd23": {
      "model_module": "@jupyter-widgets/controls",
      "model_module_version": "1.2.0",
      "model_name": "DescriptionStyleModel",
      "state": {
       "description_width": "initial"
      }
     },
     "a27df6694e33425aa2f89b8a196a56b1": {
      "model_module": "@jupyter-widgets/controls",
      "model_module_version": "1.2.0",
      "model_name": "HTMLModel",
      "state": {
       "layout": "IPY_MODEL_6a2b1d7639ef44a492a4fadcaafed9c2",
       "style": "IPY_MODEL_53dc585445fa432eacc71bb270baac64",
       "value": "<h4 style=\"font-size:14px;\">Im Englischen wird das indirekte Objekt __________. </h4>"
      }
     },
     "a299d0fea7844733b12bbe1baf570425": {
      "model_module": "@jupyter-widgets/controls",
      "model_module_version": "1.2.0",
      "model_name": "DescriptionStyleModel",
      "state": {
       "description_width": "initial"
      }
     },
     "a2b0f404c76c4eeab4fe0c95c5b01ec4": {
      "model_module": "@jupyter-widgets/controls",
      "model_module_version": "1.2.0",
      "model_name": "CheckboxModel",
      "state": {
       "description": "zu",
       "disabled": false,
       "layout": "IPY_MODEL_d2b3c713d7194d6cadea8b7b731ad057",
       "style": "IPY_MODEL_935252c91ac84c7880afbf9f9262a35e",
       "value": false
      }
     },
     "a2d666371ddd4e91a63763e5e765bc33": {
      "model_module": "@jupyter-widgets/controls",
      "model_module_version": "1.2.0",
      "model_name": "ButtonModel",
      "state": {
       "description": "amod",
       "layout": "IPY_MODEL_7530ae2ad6cb4a19bb039bcb5fa17a1d",
       "style": "IPY_MODEL_aaa32f8fff554cf29f0aa7199d342633"
      }
     },
     "a2db6dd4e0454da6b8251ae882b26f2d": {
      "model_module": "@jupyter-widgets/controls",
      "model_module_version": "1.2.0",
      "model_name": "DescriptionStyleModel",
      "state": {
       "description_width": "initial"
      }
     },
     "a2e11d406b034e1b9f2f24c869cfad91": {
      "model_module": "@jupyter-widgets/controls",
      "model_module_version": "1.2.0",
      "model_name": "DescriptionStyleModel",
      "state": {
       "description_width": ""
      }
     },
     "a324ba2791d444ecb0c71616e7178a92": {
      "model_module": "@jupyter-widgets/base",
      "model_module_version": "1.0.0",
      "model_name": "LayoutModel",
      "state": {
       "width": "250px"
      }
     },
     "a34c07a52f12441ca5fe1da936ec7b6e": {
      "model_module": "@jupyter-widgets/controls",
      "model_module_version": "1.2.0",
      "model_name": "ButtonStyleModel",
      "state": {}
     },
     "a38006f243a1444b97188bf3b871539b": {
      "model_module": "@jupyter-widgets/controls",
      "model_module_version": "1.2.0",
      "model_name": "DescriptionStyleModel",
      "state": {
       "description_width": "initial"
      }
     },
     "a3d4f99d297a43309e1420c5e05ceebe": {
      "model_module": "@jupyter-widgets/controls",
      "model_module_version": "1.2.0",
      "model_name": "VBoxModel",
      "state": {
       "children": [
        "IPY_MODEL_1d31d1557ec2479da99c9a58dd5a811b",
        "IPY_MODEL_8f70ee1fc80f4da9a4e8f6492d7b875e",
        "IPY_MODEL_849dcce0b803492ab9e7bef8c897474d",
        "IPY_MODEL_1e6c21bdfe684c77a82cb04c61aa7eb8",
        "IPY_MODEL_8cfc904d30d947e9b671b3a07fe121d3",
        "IPY_MODEL_ecf7841641f243b28fc5a06b0bdf2e3e",
        "IPY_MODEL_57c261281b0d415ba78f432107773865",
        "IPY_MODEL_5a40e1dcabef4305b0edc0b68da8c94d",
        "IPY_MODEL_004b77370fd84fc8964b9f67d39271b9",
        "IPY_MODEL_28d68154bb87456b9fa784a649000e98",
        "IPY_MODEL_8097fef76e44465faf94925f94eb72aa"
       ],
       "layout": "IPY_MODEL_d82dc99e5cbb4200addc45d359a3ff7b"
      }
     },
     "a411d6410d0b4ab6bcba828a6b4b8057": {
      "model_module": "@jupyter-widgets/controls",
      "model_module_version": "1.2.0",
      "model_name": "DescriptionStyleModel",
      "state": {
       "description_width": "initial"
      }
     },
     "a44747bbf7b1461d8c84d84ac8b08bbe": {
      "model_module": "@jupyter-widgets/controls",
      "model_module_version": "1.2.0",
      "model_name": "ButtonModel",
      "state": {
       "description": "kasusmarkiert",
       "layout": "IPY_MODEL_73d6937d636f4dc9b286b7bea433b2e2",
       "style": "IPY_MODEL_63eaeb53ea3e46f08c7a5a8d73a6622f"
      }
     },
     "a4b747d783c042be899fa2f568fc8974": {
      "model_module": "@jupyter-widgets/controls",
      "model_module_version": "1.2.0",
      "model_name": "DescriptionStyleModel",
      "state": {
       "description_width": ""
      }
     },
     "a4f82b57f9564f51b1ddb8f32024270e": {
      "model_module": "@jupyter-widgets/base",
      "model_module_version": "1.0.0",
      "model_name": "LayoutModel",
      "state": {
       "width": "150px"
      }
     },
     "a50e478d00b8458f9585ff4a87f8a577": {
      "model_module": "@jupyter-widgets/controls",
      "model_module_version": "1.2.0",
      "model_name": "DescriptionStyleModel",
      "state": {
       "description_width": ""
      }
     },
     "a528e89f963148db93a895234af6b953": {
      "model_module": "@jupyter-widgets/controls",
      "model_module_version": "1.2.0",
      "model_name": "CheckboxModel",
      "state": {
       "description": "Adverbialsatz-Test",
       "disabled": false,
       "layout": "IPY_MODEL_22f079a5e1fa4201ae5df6f4b058fb52",
       "style": "IPY_MODEL_7e1928d5fb0d4f04a78abe9a236a55ee",
       "value": false
      }
     },
     "a55161d51b504326b944056d82215636": {
      "model_module": "@jupyter-widgets/controls",
      "model_module_version": "1.2.0",
      "model_name": "ButtonModel",
      "state": {
       "description": "prep",
       "layout": "IPY_MODEL_e5d0a6b7e3b043de999ae1178382d7c3",
       "style": "IPY_MODEL_fd4e2fc6a23d4bb29fdb17abfcd0594e"
      }
     },
     "a5b70e1c49774928a8b9787a93f80331": {
      "model_module": "@jupyter-widgets/base",
      "model_module_version": "1.0.0",
      "model_name": "LayoutModel",
      "state": {
       "justify_content": "center"
      }
     },
     "a5e78e823b654c21b6d1d7bea5eff2ef": {
      "model_module": "@jupyter-widgets/controls",
      "model_module_version": "1.2.0",
      "model_name": "HBoxModel",
      "state": {
       "children": [
        "IPY_MODEL_241bd70df14d46b2af1c4ef829944993",
        "IPY_MODEL_1da0333b35e54dfeac79c288627aa00a"
       ],
       "layout": "IPY_MODEL_b8f9d1e115b84121bcdd4141bfc42c69"
      }
     },
     "a6211265b5044c688e1d6f3093711dc5": {
      "model_module": "@jupyter-widgets/base",
      "model_module_version": "1.0.0",
      "model_name": "LayoutModel",
      "state": {
       "justify_content": "center"
      }
     },
     "a68c6768e237456fb6534f9c9e44d575": {
      "model_module": "@jupyter-widgets/controls",
      "model_module_version": "1.2.0",
      "model_name": "DropdownModel",
      "state": {
       "_options_labels": [
        "Angabe",
        "Ergänzung",
        " "
       ],
       "index": 2,
       "layout": "IPY_MODEL_5a11177a4de841d380b673b04315fbfe",
       "style": "IPY_MODEL_965dbb7f9aa74f24a97f2d3b150c5133"
      }
     },
     "a6ad1ee81b81433eb79a89dbfcdeabbc": {
      "model_module": "@jupyter-widgets/controls",
      "model_module_version": "1.2.0",
      "model_name": "CheckboxModel",
      "state": {
       "description": "Ich",
       "disabled": false,
       "layout": "IPY_MODEL_c98c3985a79c4eca909284419a3384cf",
       "style": "IPY_MODEL_395cfac7220a42888caf9159fa0b8aa1",
       "value": false
      }
     },
     "a6d1d819f68b4767b4defa006b9ab808": {
      "model_module": "@jupyter-widgets/controls",
      "model_module_version": "1.2.0",
      "model_name": "HTMLModel",
      "state": {
       "layout": "IPY_MODEL_d4f8921335434c9a83fcab263cb91377",
       "style": "IPY_MODEL_ebea22362e624dfb97f3428d77f9926e",
       "value": "<h4 style=\"font-size:14px;\">Welche Art von Dependenz besteht zwischen <i> Bruder </i> und <i> Mädchen </i> ?</h4>"
      }
     },
     "a6d49653a0314fcf851986349b8ec6e7": {
      "model_module": "@jupyter-widgets/controls",
      "model_module_version": "1.2.0",
      "model_name": "BoxModel",
      "state": {
       "children": [
        "IPY_MODEL_061aae67dd6f42d798b08ba42ec34a21",
        "IPY_MODEL_a68c6768e237456fb6534f9c9e44d575",
        "IPY_MODEL_8690b83eabca4412adb973bd8a503088"
       ],
       "layout": "IPY_MODEL_d73fc4c6b4d74210b9bd3e568ad5b4ed"
      }
     },
     "a6e4b1b3808b447a9f178728a7d57aba": {
      "model_module": "@jupyter-widgets/controls",
      "model_module_version": "1.2.0",
      "model_name": "ButtonStyleModel",
      "state": {}
     },
     "a6fab563bb1a41e28c625b4c4b6545f1": {
      "model_module": "@jupyter-widgets/base",
      "model_module_version": "1.0.0",
      "model_name": "LayoutModel",
      "state": {}
     },
     "a6ff0c88f09d46d39563522aee4ab330": {
      "model_module": "@jupyter-widgets/base",
      "model_module_version": "1.0.0",
      "model_name": "LayoutModel",
      "state": {
       "width": "250px"
      }
     },
     "a751986eb6444a4b9d59f4beae6dfc0a": {
      "model_module": "@jupyter-widgets/base",
      "model_module_version": "1.0.0",
      "model_name": "LayoutModel",
      "state": {
       "width": "250px"
      }
     },
     "a7a748529e5e404887ebc4bf4e8e972a": {
      "model_module": "@jupyter-widgets/base",
      "model_module_version": "1.0.0",
      "model_name": "LayoutModel",
      "state": {}
     },
     "a7bd7a4d10b441ec906c6c13d22fa6bf": {
      "model_module": "@jupyter-widgets/controls",
      "model_module_version": "1.2.0",
      "model_name": "DescriptionStyleModel",
      "state": {
       "description_width": ""
      }
     },
     "a7c23513d8a04e1cb244a5fd14d9f42c": {
      "model_module": "@jupyter-widgets/controls",
      "model_module_version": "1.2.0",
      "model_name": "VBoxModel",
      "state": {
       "children": [
        "IPY_MODEL_47f5d7e55a7f46d8bcd06d81fba915f6",
        "IPY_MODEL_8646aa4312624d0590a7d1f0848c2f87",
        "IPY_MODEL_f949eb6a9bfe4dc59161fa512f814cd6",
        "IPY_MODEL_65ad96943ac647fba4325687882ea8b0"
       ],
       "layout": "IPY_MODEL_d165d3e819ce4267a36bc4767f256ba3"
      }
     },
     "a802a8a80b0a41eeaacdbd553af25daf": {
      "model_module": "@jupyter-widgets/controls",
      "model_module_version": "1.2.0",
      "model_name": "ButtonModel",
      "state": {
       "description": "Genitivattribut",
       "layout": "IPY_MODEL_bba4453389264dff9bd2fbaf43ca9fe0",
       "style": "IPY_MODEL_665e9deff0bd4c658e1f84e7420cd963"
      }
     },
     "a81a04f2e4a9488eaa25cd41d2cb4049": {
      "model_module": "@jupyter-widgets/controls",
      "model_module_version": "1.2.0",
      "model_name": "DescriptionStyleModel",
      "state": {
       "description_width": "initial"
      }
     },
     "a82a7c54defa4b86b3ad97c6b3c1c5f1": {
      "model_module": "@jupyter-widgets/base",
      "model_module_version": "1.0.0",
      "model_name": "LayoutModel",
      "state": {
       "width": "600px"
      }
     },
     "a87f00ca419741649f46e71d3dae36c5": {
      "model_module": "@jupyter-widgets/base",
      "model_module_version": "1.0.0",
      "model_name": "LayoutModel",
      "state": {
       "width": "600px"
      }
     },
     "a880361618a44472a8a50a2b55274ea6": {
      "model_module": "@jupyter-widgets/controls",
      "model_module_version": "1.2.0",
      "model_name": "DescriptionStyleModel",
      "state": {
       "description_width": ""
      }
     },
     "a88a0f770003423eb789c597d1b9987b": {
      "model_module": "@jupyter-widgets/controls",
      "model_module_version": "1.2.0",
      "model_name": "ButtonStyleModel",
      "state": {}
     },
     "a895263fbb8b4257801bfc375068cde0": {
      "model_module": "@jupyter-widgets/base",
      "model_module_version": "1.0.0",
      "model_name": "LayoutModel",
      "state": {
       "justify_content": "center"
      }
     },
     "a8cb451c40aa409b9ce30982f7d331f9": {
      "model_module": "@jupyter-widgets/controls",
      "model_module_version": "1.2.0",
      "model_name": "ButtonModel",
      "state": {
       "description": "prep",
       "layout": "IPY_MODEL_913be45bf3ca4d6fb41d5feec2040353",
       "style": "IPY_MODEL_3c999be9c9824d22a41aacacf3be5c13"
      }
     },
     "a8cbf202f32f4675b95e2bc0aba123c1": {
      "model_module": "@jupyter-widgets/controls",
      "model_module_version": "1.2.0",
      "model_name": "ButtonStyleModel",
      "state": {}
     },
     "a8dc9a41ecb14580996632e6b77c5032": {
      "model_module": "@jupyter-widgets/controls",
      "model_module_version": "1.2.0",
      "model_name": "DescriptionStyleModel",
      "state": {
       "description_width": "initial"
      }
     },
     "a90bed755944427ea9018ce7e98ba9c1": {
      "model_module": "@jupyter-widgets/base",
      "model_module_version": "1.0.0",
      "model_name": "LayoutModel",
      "state": {}
     },
     "a91352b1dafc4c50ab7bab5a84ac685d": {
      "model_module": "@jupyter-widgets/base",
      "model_module_version": "1.0.0",
      "model_name": "LayoutModel",
      "state": {}
     },
     "a92fa7db012542ec8caecb765c1fc2d4": {
      "model_module": "@jupyter-widgets/base",
      "model_module_version": "1.0.0",
      "model_name": "LayoutModel",
      "state": {}
     },
     "a95c10a6f02d4a8381b467b53a27b4d6": {
      "model_module": "@jupyter-widgets/controls",
      "model_module_version": "1.2.0",
      "model_name": "DescriptionStyleModel",
      "state": {
       "description_width": "initial"
      }
     },
     "a97e3094a7de44b590c5495157cf0ef9": {
      "model_module": "@jupyter-widgets/base",
      "model_module_version": "1.0.0",
      "model_name": "LayoutModel",
      "state": {
       "width": "600px"
      }
     },
     "a99604e766ff469aa5d5c29f7b727260": {
      "model_module": "@jupyter-widgets/base",
      "model_module_version": "1.0.0",
      "model_name": "LayoutModel",
      "state": {
       "width": "250px"
      }
     },
     "a9e2a74ae07e4b2085a8ca8e9c6aed02": {
      "model_module": "@jupyter-widgets/controls",
      "model_module_version": "1.2.0",
      "model_name": "HBoxModel",
      "state": {
       "children": [
        "IPY_MODEL_d5f5f210643c444d9801d22997e9662f",
        "IPY_MODEL_78cb8ed89fee4089a4c6b9878c61191b"
       ],
       "layout": "IPY_MODEL_e3d4aefa6b5f45ba887c57368e8a9838"
      }
     },
     "aa0030ed6d514a2f8ae6cc7768fa85b4": {
      "model_module": "@jupyter-widgets/base",
      "model_module_version": "1.0.0",
      "model_name": "LayoutModel",
      "state": {}
     },
     "aa54456bab5041c99137ab970d77b810": {
      "model_module": "@jupyter-widgets/base",
      "model_module_version": "1.0.0",
      "model_name": "LayoutModel",
      "state": {}
     },
     "aa650e988b78438c97e854b20a54cbc8": {
      "model_module": "@jupyter-widgets/controls",
      "model_module_version": "1.2.0",
      "model_name": "ButtonModel",
      "state": {
       "description": "det",
       "layout": "IPY_MODEL_7420d559ff1c48cdaf6faf56552dcae9",
       "style": "IPY_MODEL_e93c227ef1184e39b7ee995a6f08141a"
      }
     },
     "aaa32f8fff554cf29f0aa7199d342633": {
      "model_module": "@jupyter-widgets/controls",
      "model_module_version": "1.2.0",
      "model_name": "ButtonStyleModel",
      "state": {}
     },
     "aaa871ee557d45039e5f4c1348bff8fa": {
      "model_module": "@jupyter-widgets/base",
      "model_module_version": "1.0.0",
      "model_name": "LayoutModel",
      "state": {}
     },
     "aaab04ab17714a55b9a8d1e827f742a1": {
      "model_module": "@jupyter-widgets/controls",
      "model_module_version": "1.2.0",
      "model_name": "DescriptionStyleModel",
      "state": {
       "description_width": "initial"
      }
     },
     "aac4445999cd457888b9c6b974f362fa": {
      "model_module": "@jupyter-widgets/base",
      "model_module_version": "1.0.0",
      "model_name": "LayoutModel",
      "state": {
       "width": "600px"
      }
     },
     "aaeaf63d55f24fb2a1ba015154e8457e": {
      "model_module": "@jupyter-widgets/base",
      "model_module_version": "1.0.0",
      "model_name": "LayoutModel",
      "state": {
       "width": "250px"
      }
     },
     "aaff5e5a2d424b908d4ecc389e37942b": {
      "model_module": "@jupyter-widgets/base",
      "model_module_version": "1.0.0",
      "model_name": "LayoutModel",
      "state": {
       "width": "250px"
      }
     },
     "ab00d529181a4e15bb3408994e30d1f4": {
      "model_module": "@jupyter-widgets/controls",
      "model_module_version": "1.2.0",
      "model_name": "ButtonModel",
      "state": {
       "description": "nsubj",
       "layout": "IPY_MODEL_4bd78f0347df4a99a9393d2a2c70ffdf",
       "style": "IPY_MODEL_a6e4b1b3808b447a9f178728a7d57aba"
      }
     },
     "ab01bae3e5db43d8a7003676678d5bb8": {
      "model_module": "@jupyter-widgets/controls",
      "model_module_version": "1.2.0",
      "model_name": "DescriptionStyleModel",
      "state": {
       "description_width": ""
      }
     },
     "ab1fd04140ca472382263c76339bc053": {
      "model_module": "@jupyter-widgets/base",
      "model_module_version": "1.0.0",
      "model_name": "LayoutModel",
      "state": {
       "width": "250px"
      }
     },
     "ab31bfee5cae42e189b4fb54e5d51119": {
      "model_module": "@jupyter-widgets/controls",
      "model_module_version": "1.2.0",
      "model_name": "CheckboxModel",
      "state": {
       "description": "unmittelbare Nachbarschaft zum Verb",
       "disabled": false,
       "layout": "IPY_MODEL_a23439e111f34b3cb65ae055c20bd128",
       "style": "IPY_MODEL_e635f6260d564d909f113ddca3f315c0",
       "value": false
      }
     },
     "ab38d25c62174136bd5ec9e4370e0360": {
      "model_module": "@jupyter-widgets/controls",
      "model_module_version": "1.2.0",
      "model_name": "HBoxModel",
      "state": {
       "children": [
        "IPY_MODEL_c262880324324c5eb3a9416765bdc729",
        "IPY_MODEL_b478a593d20e4452b34723fe1b180bd0"
       ],
       "layout": "IPY_MODEL_379a88afd0e24a669c944c83b0307363"
      }
     },
     "ab459fd996224916a9a7d7941125188d": {
      "model_module": "@jupyter-widgets/controls",
      "model_module_version": "1.2.0",
      "model_name": "CheckboxModel",
      "state": {
       "description": "Bruder",
       "disabled": false,
       "layout": "IPY_MODEL_ded434cc66ea403f8aa8e3840c22faa5",
       "style": "IPY_MODEL_b425c79d740d4fa2b37c3d0de39be9e0",
       "value": false
      }
     },
     "ab469de155884a669d489568424f3030": {
      "model_module": "@jupyter-widgets/controls",
      "model_module_version": "1.2.0",
      "model_name": "VBoxModel",
      "state": {
       "children": [
        "IPY_MODEL_c8701a4098ae4cc8b23ac321a6544777",
        "IPY_MODEL_37f39636a6184758b8c90361bc83f6c5",
        "IPY_MODEL_9006f114f92d49fe9051c7f6deb2d090",
        "IPY_MODEL_f850e15f13304ff1b999f9ca058fb1d5"
       ],
       "layout": "IPY_MODEL_393a0ed7938b40dba190449899712a56"
      }
     },
     "ab56b95515fe4d8a902ccc6b93a6c699": {
      "model_module": "@jupyter-widgets/controls",
      "model_module_version": "1.2.0",
      "model_name": "HBoxModel",
      "state": {
       "children": [
        "IPY_MODEL_e0ac753a22584561a0110bb601427965",
        "IPY_MODEL_62c1c46b2c7b4542bad9432feb8f8118"
       ],
       "layout": "IPY_MODEL_1c108f36b28445fa9ad3717c6acff721"
      }
     },
     "ab8874c2ae794ee5a564489b036a5174": {
      "model_module": "@jupyter-widgets/controls",
      "model_module_version": "1.2.0",
      "model_name": "HTMLModel",
      "state": {
       "layout": "IPY_MODEL_709502aa6f554a998e1cf7da7f95dfa7",
       "style": "IPY_MODEL_f867179f9d074c60b0c23dc009209ebf",
       "value": "<h4 style=\"font-size:14px;\"><i> gerne </i> und das</h4>"
      }
     },
     "abc69e2f2ba848fc974bdb5af3e4ac38": {
      "model_module": "@jupyter-widgets/base",
      "model_module_version": "1.0.0",
      "model_name": "LayoutModel",
      "state": {}
     },
     "abcab5fcb61140cb9227c7576115cd09": {
      "model_module": "@jupyter-widgets/base",
      "model_module_version": "1.0.0",
      "model_name": "LayoutModel",
      "state": {
       "width": "250px"
      }
     },
     "ac7fd2b8a9b34fe5a0650a9cea28cd7e": {
      "model_module": "@jupyter-widgets/controls",
      "model_module_version": "1.2.0",
      "model_name": "ButtonModel",
      "state": {
       "description": "amod",
       "layout": "IPY_MODEL_f086a2c284b745c4a023a1426ccbc483",
       "style": "IPY_MODEL_69d8e093f95d436b9229ea65c2f07aca"
      }
     },
     "ac8d11b5860a4841ac2f1d55f814fa6d": {
      "model_module": "@jupyter-widgets/controls",
      "model_module_version": "1.2.0",
      "model_name": "DescriptionStyleModel",
      "state": {
       "description_width": "initial"
      }
     },
     "acc2ef1737bf4196ade27a2700b86492": {
      "model_module": "@jupyter-widgets/base",
      "model_module_version": "1.0.0",
      "model_name": "LayoutModel",
      "state": {
       "width": "250px"
      }
     },
     "acd9defaa89b4642af2735c6b91b34b6": {
      "model_module": "@jupyter-widgets/base",
      "model_module_version": "1.0.0",
      "model_name": "LayoutModel",
      "state": {
       "width": "250px"
      }
     },
     "ad0992247db34a3dade74bf40ad0febf": {
      "model_module": "@jupyter-widgets/base",
      "model_module_version": "1.0.0",
      "model_name": "LayoutModel",
      "state": {
       "width": "600px"
      }
     },
     "ad29b48ca1894faebe7b1c2dd4c82d95": {
      "model_module": "@jupyter-widgets/controls",
      "model_module_version": "1.2.0",
      "model_name": "DescriptionStyleModel",
      "state": {
       "description_width": ""
      }
     },
     "ad3a4570ec8b481bb9d40ccea106fb4a": {
      "model_module": "@jupyter-widgets/controls",
      "model_module_version": "1.2.0",
      "model_name": "ButtonModel",
      "state": {
       "description": "präpositionales Attribut",
       "layout": "IPY_MODEL_95d0891a3d164139bdf0e3290f29bd25",
       "style": "IPY_MODEL_b4420859aa624208a8108713b31c8a59"
      }
     },
     "ad7fe0fe50db4b97b4044586d149afed": {
      "model_module": "@jupyter-widgets/controls",
      "model_module_version": "1.2.0",
      "model_name": "HTMLModel",
      "state": {
       "layout": "IPY_MODEL_29c56e6127ac43eca1612bc3486f8287",
       "style": "IPY_MODEL_9f1142fea206486e8de21dc866104619",
       "value": "<i>Markieren Sie <ins>alle</ins> passenden Antworten: </i>"
      }
     },
     "ade6ac7cc0744eef9620b6f694011067": {
      "model_module": "@jupyter-widgets/controls",
      "model_module_version": "1.2.0",
      "model_name": "DescriptionStyleModel",
      "state": {
       "description_width": "initial"
      }
     },
     "ae11e2a7c0244fb6ab8558ed37b4d48c": {
      "model_module": "@jupyter-widgets/controls",
      "model_module_version": "1.2.0",
      "model_name": "ButtonStyleModel",
      "state": {}
     },
     "ae17bfb5bfee4dd79523b7e676d5457a": {
      "model_module": "@jupyter-widgets/base",
      "model_module_version": "1.0.0",
      "model_name": "LayoutModel",
      "state": {}
     },
     "ae712bc0ed494d2bb477483903018991": {
      "model_module": "@jupyter-widgets/controls",
      "model_module_version": "1.2.0",
      "model_name": "HTMLModel",
      "state": {
       "layout": "IPY_MODEL_cd746a6467dd40e7bda31b223aca562d",
       "style": "IPY_MODEL_73f27624988848b9baff955049171c11",
       "value": "<i>Wählen Sie die <ins>eine</ins> korrekte Antwort aus: </i>"
      }
     },
     "ae9c2b7ddec046c2b9cd7c0ccf7d8dac": {
      "model_module": "@jupyter-widgets/base",
      "model_module_version": "1.0.0",
      "model_name": "LayoutModel",
      "state": {
       "width": "600px"
      }
     },
     "aed1946133724eea98a884a87d3e4e06": {
      "model_module": "@jupyter-widgets/controls",
      "model_module_version": "1.2.0",
      "model_name": "ButtonStyleModel",
      "state": {}
     },
     "aed5ad1ac3e545e0bd7d7814ff2473e5": {
      "model_module": "@jupyter-widgets/controls",
      "model_module_version": "1.2.0",
      "model_name": "DescriptionStyleModel",
      "state": {
       "description_width": "initial"
      }
     },
     "aedc0253b4d2441fb0f196bbc1031f92": {
      "model_module": "@jupyter-widgets/controls",
      "model_module_version": "1.2.0",
      "model_name": "HBoxModel",
      "state": {
       "children": [
        "IPY_MODEL_6b057051b7c34a3fbc45465f4d4f9faa",
        "IPY_MODEL_8a98f32226c249f494ad5f78a6a4770b"
       ],
       "layout": "IPY_MODEL_b821d0ce8e3e4597b5ef486056e936a6"
      }
     },
     "aefe909eb9a84e968df6e5f96e4f934c": {
      "model_module": "@jupyter-widgets/base",
      "model_module_version": "1.0.0",
      "model_name": "LayoutModel",
      "state": {
       "width": "600px"
      }
     },
     "af0c852cf5c04219879f9e5f874ae16e": {
      "model_module": "@jupyter-widgets/controls",
      "model_module_version": "1.2.0",
      "model_name": "HTMLModel",
      "state": {
       "layout": "IPY_MODEL_a5b70e1c49774928a8b9787a93f80331",
       "style": "IPY_MODEL_d01ce2eb04934165b5caa0a9f996dccc",
       "value": "<i>Markieren Sie <ins>alle</ins> passenden Antworten: </i>"
      }
     },
     "afb3db21890849c8a534a20db920e0c6": {
      "model_module": "@jupyter-widgets/controls",
      "model_module_version": "1.2.0",
      "model_name": "CheckboxModel",
      "state": {
       "description": "einen",
       "disabled": false,
       "layout": "IPY_MODEL_00540cda627a4ffe94f3aaee39b39888",
       "style": "IPY_MODEL_338760e975a9410995551300c99fb637",
       "value": false
      }
     },
     "afde701789c7449a9d69640764d98c16": {
      "model_module": "@jupyter-widgets/base",
      "model_module_version": "1.0.0",
      "model_name": "LayoutModel",
      "state": {
       "width": "250px"
      }
     },
     "afe238020e2b4234a74baaae9ed0b257": {
      "model_module": "@jupyter-widgets/controls",
      "model_module_version": "1.2.0",
      "model_name": "DescriptionStyleModel",
      "state": {
       "description_width": "initial"
      }
     },
     "b00164a185954065a4f9152717566c8a": {
      "model_module": "@jupyter-widgets/controls",
      "model_module_version": "1.2.0",
      "model_name": "DescriptionStyleModel",
      "state": {
       "description_width": ""
      }
     },
     "b01aef57758745e182ab21da8ab9021b": {
      "model_module": "@jupyter-widgets/controls",
      "model_module_version": "1.2.0",
      "model_name": "DescriptionStyleModel",
      "state": {
       "description_width": ""
      }
     },
     "b03cd25704f14a0cb26224c6bb40ca70": {
      "model_module": "@jupyter-widgets/base",
      "model_module_version": "1.0.0",
      "model_name": "LayoutModel",
      "state": {
       "width": "600px"
      }
     },
     "b04935fb837845f68e1c7346bf93cd0c": {
      "model_module": "@jupyter-widgets/base",
      "model_module_version": "1.0.0",
      "model_name": "LayoutModel",
      "state": {
       "align_content": "stretch",
       "align_items": "stretch",
       "display": "inline-flex",
       "flex": "flex-grow",
       "flex_flow": "row wrap",
       "justify_content": "flex-start"
      }
     },
     "b05a8647e08a43e19049409c4e61cdbc": {
      "model_module": "@jupyter-widgets/controls",
      "model_module_version": "1.2.0",
      "model_name": "DescriptionStyleModel",
      "state": {
       "description_width": ""
      }
     },
     "b08164101a814c0caea009bf50dfc11d": {
      "model_module": "@jupyter-widgets/controls",
      "model_module_version": "1.2.0",
      "model_name": "ButtonStyleModel",
      "state": {}
     },
     "b08169da7a1d46e092988a60830050e7": {
      "model_module": "@jupyter-widgets/base",
      "model_module_version": "1.0.0",
      "model_name": "LayoutModel",
      "state": {}
     },
     "b08958469f5b4b399e85cf5ac47f41b6": {
      "model_module": "@jupyter-widgets/controls",
      "model_module_version": "1.2.0",
      "model_name": "ButtonModel",
      "state": {
       "description": "Keine",
       "layout": "IPY_MODEL_ef728e1062904fae839787c4523ad717",
       "style": "IPY_MODEL_42ad3a63a6f64cc19ca19d06a0062c2e"
      }
     },
     "b08c69d1b0bc4edca92f0d1d5f4aa728": {
      "model_module": "@jupyter-widgets/controls",
      "model_module_version": "1.2.0",
      "model_name": "HTMLModel",
      "state": {
       "layout": "IPY_MODEL_bfd6ff4a01754ed88d514d920b37bd52",
       "style": "IPY_MODEL_87ef9863602c47bfa4f3f32044152139",
       "value": "<h4 style=\"font-size:14px;\"><i> Peter </i> als auch das</h4>"
      }
     },
     "b0bd6df400ab4711ae42dd700404a7a9": {
      "model_module": "@jupyter-widgets/base",
      "model_module_version": "1.0.0",
      "model_name": "LayoutModel",
      "state": {
       "width": "250px"
      }
     },
     "b0de7faf2d474faa98fc4f1275521be8": {
      "model_module": "@jupyter-widgets/controls",
      "model_module_version": "1.2.0",
      "model_name": "CheckboxModel",
      "state": {
       "description": "sehr",
       "disabled": false,
       "layout": "IPY_MODEL_aac4445999cd457888b9c6b974f362fa",
       "style": "IPY_MODEL_29e48a0c8c634aa2ab92d397621ece06",
       "value": false
      }
     },
     "b10377cf11a64c9ba556d96ac69dc55e": {
      "model_module": "@jupyter-widgets/controls",
      "model_module_version": "1.2.0",
      "model_name": "ButtonModel",
      "state": {
       "description": "nsubj",
       "layout": "IPY_MODEL_182fbc5392e54cee992bda336419f5f6",
       "style": "IPY_MODEL_2b92d3ec9aa44d2aa25c8142f753092b"
      }
     },
     "b114d4dccefd4f5d9643bce224d88df7": {
      "model_module": "@jupyter-widgets/controls",
      "model_module_version": "1.2.0",
      "model_name": "ButtonStyleModel",
      "state": {}
     },
     "b125a83353364a13b8daa966983c265b": {
      "model_module": "@jupyter-widgets/base",
      "model_module_version": "1.0.0",
      "model_name": "LayoutModel",
      "state": {
       "width": "250px"
      }
     },
     "b139e5c71b7c42f187eb7e4129973d90": {
      "model_module": "@jupyter-widgets/controls",
      "model_module_version": "1.2.0",
      "model_name": "HTMLModel",
      "state": {
       "layout": "IPY_MODEL_9bd952d32c9f4c778d3b1602ed2f3352",
       "style": "IPY_MODEL_da38b211215a441888652d45f2bc603e",
       "value": "<h4 style=\"font-size:14px;\">Welche Art von Dependenz besteht zwischen <i> Bruder </i> und <i> von </i> ?</h4>"
      }
     },
     "b1b014ace8df4bafbc17cd54bcf7a050": {
      "model_module": "@jupyter-widgets/controls",
      "model_module_version": "1.2.0",
      "model_name": "ButtonStyleModel",
      "state": {}
     },
     "b1f823dc236a49e895d61d068c75e2ff": {
      "model_module": "@jupyter-widgets/controls",
      "model_module_version": "1.2.0",
      "model_name": "HBoxModel",
      "state": {
       "children": [
        "IPY_MODEL_1e286061da364459ad16b0de95d78aef",
        "IPY_MODEL_ab00d529181a4e15bb3408994e30d1f4"
       ],
       "layout": "IPY_MODEL_65d5a0ab06384f4797c8310b39bd3a47"
      }
     },
     "b202753023d542769c2b685e36b32fd4": {
      "model_module": "@jupyter-widgets/controls",
      "model_module_version": "1.2.0",
      "model_name": "DescriptionStyleModel",
      "state": {
       "description_width": "initial"
      }
     },
     "b26c01e022724f33b12dbaeac326a16e": {
      "model_module": "@jupyter-widgets/controls",
      "model_module_version": "1.2.0",
      "model_name": "ButtonStyleModel",
      "state": {}
     },
     "b27294ff10c349a5afe303fafa688875": {
      "model_module": "@jupyter-widgets/controls",
      "model_module_version": "1.2.0",
      "model_name": "DescriptionStyleModel",
      "state": {
       "description_width": "initial"
      }
     },
     "b2a92d783f6b4ce7b894776da1193654": {
      "model_module": "@jupyter-widgets/base",
      "model_module_version": "1.0.0",
      "model_name": "LayoutModel",
      "state": {
       "width": "250px"
      }
     },
     "b3079df729ff45f2bbfabd61b5465c68": {
      "model_module": "@jupyter-widgets/base",
      "model_module_version": "1.0.0",
      "model_name": "LayoutModel",
      "state": {
       "width": "600px"
      }
     },
     "b31d1060560240ce915de84ac9ab7c3c": {
      "model_module": "@jupyter-widgets/controls",
      "model_module_version": "1.2.0",
      "model_name": "DescriptionStyleModel",
      "state": {
       "description_width": ""
      }
     },
     "b323e583fe3c49eabef6e80868d0d33d": {
      "model_module": "@jupyter-widgets/base",
      "model_module_version": "1.0.0",
      "model_name": "LayoutModel",
      "state": {
       "width": "600px"
      }
     },
     "b32610515ee64814a157250868594241": {
      "model_module": "@jupyter-widgets/controls",
      "model_module_version": "1.2.0",
      "model_name": "ButtonModel",
      "state": {
       "description": "Korrekt?",
       "layout": "IPY_MODEL_084322b852af4922bf3e8c22939d66b5",
       "style": "IPY_MODEL_73cb5f4dd0b74778acabf6c56b92f1b9"
      }
     },
     "b33bf24d3acc40eb9c98d1aea7fd4ed0": {
      "model_module": "@jupyter-widgets/controls",
      "model_module_version": "1.2.0",
      "model_name": "DescriptionStyleModel",
      "state": {
       "description_width": ""
      }
     },
     "b34808a2432c495797cfbee1afc449d0": {
      "model_module": "@jupyter-widgets/controls",
      "model_module_version": "1.2.0",
      "model_name": "HBoxModel",
      "state": {
       "children": [
        "IPY_MODEL_2b7ff8e02abc4dd2bcb559e0ccc8e582",
        "IPY_MODEL_a55161d51b504326b944056d82215636"
       ],
       "layout": "IPY_MODEL_3387d068a6a04c3b8892b8b6e4f9f6f4"
      }
     },
     "b36853f6790643198d25d43a8b99471b": {
      "model_module": "@jupyter-widgets/controls",
      "model_module_version": "1.2.0",
      "model_name": "CheckboxModel",
      "state": {
       "description": "Ich",
       "disabled": false,
       "layout": "IPY_MODEL_fa9e472864404121abb4853b66c5c6b8",
       "style": "IPY_MODEL_7a6392c30b8343d8a4e0539ad849c6b2",
       "value": false
      }
     },
     "b36951ae542c4c44a6c1ce1a53fb07c9": {
      "model_module": "@jupyter-widgets/controls",
      "model_module_version": "1.2.0",
      "model_name": "HTMLModel",
      "state": {
       "layout": "IPY_MODEL_99fb85c687f04030863d6e9a1acad18b",
       "style": "IPY_MODEL_806951ad9db34102828f6a8b8083745b",
       "value": "<h4 style=\"font-size:14px;\">bezieht sich auf die Verbindungsfähigkeit von relationalen Wörtern (Verben, Adjektiven, Substantiven), während die</h4>"
      }
     },
     "b3d51ad97e4c4df98176ae9907fcea73": {
      "model_module": "@jupyter-widgets/controls",
      "model_module_version": "1.2.0",
      "model_name": "ButtonModel",
      "state": {
       "description": "Keine",
       "layout": "IPY_MODEL_7d1f92dec20042eaa785cecff2867e2b",
       "style": "IPY_MODEL_67262279daff44e89588976d07159a9c"
      }
     },
     "b3f4599a2c674c8d9294e73cdf5074bf": {
      "model_module": "@jupyter-widgets/controls",
      "model_module_version": "1.2.0",
      "model_name": "ButtonModel",
      "state": {
       "description": "Korrekt?",
       "layout": "IPY_MODEL_dfd607a213b54b8b9700d49f54017c9c",
       "style": "IPY_MODEL_9dcd4a9d69684a309fb3373fea411c0a"
      }
     },
     "b425c79d740d4fa2b37c3d0de39be9e0": {
      "model_module": "@jupyter-widgets/controls",
      "model_module_version": "1.2.0",
      "model_name": "DescriptionStyleModel",
      "state": {
       "description_width": "initial"
      }
     },
     "b4420859aa624208a8108713b31c8a59": {
      "model_module": "@jupyter-widgets/controls",
      "model_module_version": "1.2.0",
      "model_name": "ButtonStyleModel",
      "state": {}
     },
     "b4756882e77e43aeb373c4ceead66550": {
      "model_module": "@jupyter-widgets/controls",
      "model_module_version": "1.2.0",
      "model_name": "CheckboxModel",
      "state": {
       "description": "fährt",
       "disabled": false,
       "layout": "IPY_MODEL_54a2a90e34144a6cb2816b8301c82d13",
       "style": "IPY_MODEL_c644250f595c42eeb0426742ff00b239",
       "value": false
      }
     },
     "b478a593d20e4452b34723fe1b180bd0": {
      "model_module": "@jupyter-widgets/controls",
      "model_module_version": "1.2.0",
      "model_name": "ButtonModel",
      "state": {
       "description": "Genitivattribut",
       "layout": "IPY_MODEL_d38f32fa921243c4a1a073b3eb9623bb",
       "style": "IPY_MODEL_be735cc4fac445fab7b15492d01d7160"
      }
     },
     "b4938e767174457ca05d0eedfc463a73": {
      "model_module": "@jupyter-widgets/controls",
      "model_module_version": "1.2.0",
      "model_name": "HBoxModel",
      "state": {
       "children": [
        "IPY_MODEL_c9187ef44bb24529b017d15dca202442",
        "IPY_MODEL_ad3a4570ec8b481bb9d40ccea106fb4a"
       ],
       "layout": "IPY_MODEL_38e4919c0641412ca7f24ea09e029541"
      }
     },
     "b4f697d802c04b58b8289170e5d641b8": {
      "model_module": "@jupyter-widgets/controls",
      "model_module_version": "1.2.0",
      "model_name": "DescriptionStyleModel",
      "state": {
       "description_width": "initial"
      }
     },
     "b51a0d092b464bff8a1d96e3dffbff39": {
      "model_module": "@jupyter-widgets/controls",
      "model_module_version": "1.2.0",
      "model_name": "ButtonModel",
      "state": {
       "description": "attributiver Relativsatz",
       "layout": "IPY_MODEL_09efc388547543608233a9717236281b",
       "style": "IPY_MODEL_15ad17a4b66841d78faf61fa49c21dd0"
      }
     },
     "b5293c51117a40c6bf69626443df86f0": {
      "model_module": "@jupyter-widgets/controls",
      "model_module_version": "1.2.0",
      "model_name": "ButtonModel",
      "state": {
       "description": "nsubj",
       "layout": "IPY_MODEL_62568a17394d49eb88f1a7409175710b",
       "style": "IPY_MODEL_64046c32158d4f85a8c8648b81bd15ff"
      }
     },
     "b52c17bdfa8f408c9a1adf3498ce7f9a": {
      "model_module": "@jupyter-widgets/controls",
      "model_module_version": "1.2.0",
      "model_name": "DescriptionStyleModel",
      "state": {
       "description_width": "initial"
      }
     },
     "b5436de056cf4a34a665c0e2ba2d208b": {
      "model_module": "@jupyter-widgets/base",
      "model_module_version": "1.0.0",
      "model_name": "LayoutModel",
      "state": {
       "justify_content": "center"
      }
     },
     "b5469a5468d040ee8e96be6f7c00e73e": {
      "model_module": "@jupyter-widgets/controls",
      "model_module_version": "1.2.0",
      "model_name": "HTMLModel",
      "state": {
       "layout": "IPY_MODEL_283b2b04c8be46f8aa849c9d66e1a7cd",
       "style": "IPY_MODEL_581483c94384446c95cf84ee0876eaac",
       "value": "<h4 style=\"font-size:14px;\">Um welchen Attributtyp handelt es sich bei dem Attribut <i>lang ersehnte</i>?</h4>"
      }
     },
     "b55542af191541649d4ef792ca22397d": {
      "model_module": "@jupyter-widgets/controls",
      "model_module_version": "1.2.0",
      "model_name": "DescriptionStyleModel",
      "state": {
       "description_width": ""
      }
     },
     "b59464f5812f42b59d25ddb91fc05a39": {
      "model_module": "@jupyter-widgets/controls",
      "model_module_version": "1.2.0",
      "model_name": "CheckboxModel",
      "state": {
       "description": "Kongruenz mit Artikel",
       "disabled": false,
       "layout": "IPY_MODEL_4a07fb3c4fde4d6297d0ad424ef87591",
       "style": "IPY_MODEL_b52c17bdfa8f408c9a1adf3498ce7f9a",
       "value": false
      }
     },
     "b5979546b71c4c06936e92b54eae5aeb": {
      "model_module": "@jupyter-widgets/controls",
      "model_module_version": "1.2.0",
      "model_name": "DescriptionStyleModel",
      "state": {
       "description_width": ""
      }
     },
     "b5a386182318488693c57f107832efd0": {
      "model_module": "@jupyter-widgets/controls",
      "model_module_version": "1.2.0",
      "model_name": "ButtonStyleModel",
      "state": {}
     },
     "b5d256ab868442a6b6cefaa35295f38f": {
      "model_module": "@jupyter-widgets/base",
      "model_module_version": "1.0.0",
      "model_name": "LayoutModel",
      "state": {}
     },
     "b5e9e484ff7f4dd5a826459c4651fccc": {
      "model_module": "@jupyter-widgets/controls",
      "model_module_version": "1.2.0",
      "model_name": "HTMLModel",
      "state": {
       "layout": "IPY_MODEL_00038f7f52684b16a54362a390c5d9b6",
       "style": "IPY_MODEL_1c49665ce7614ffb8203cc88d954b55d",
       "value": "<i>Wählen Sie die <ins>eine</ins> korrekte Antwort aus: </i>"
      }
     },
     "b5eeb5aaf7684e97a93444dd9667d213": {
      "model_module": "@jupyter-widgets/controls",
      "model_module_version": "1.2.0",
      "model_name": "DescriptionStyleModel",
      "state": {
       "description_width": ""
      }
     },
     "b5f2c3eb3bc941869752462b16e5f7f6": {
      "model_module": "@jupyter-widgets/controls",
      "model_module_version": "1.2.0",
      "model_name": "CheckboxModel",
      "state": {
       "description": "ihrem",
       "disabled": false,
       "layout": "IPY_MODEL_10b06ae12a134d61aa8a4e7e3b1b8768",
       "style": "IPY_MODEL_0e02cbe53d784c979114ce146eafd26d",
       "value": false
      }
     },
     "b6153ec49f3f48d983c0c7db9f00c3db": {
      "model_module": "@jupyter-widgets/controls",
      "model_module_version": "1.2.0",
      "model_name": "DescriptionStyleModel",
      "state": {
       "description_width": ""
      }
     },
     "b616395fcf8d4bceb97bb7d62ce0fdde": {
      "model_module": "@jupyter-widgets/base",
      "model_module_version": "1.0.0",
      "model_name": "LayoutModel",
      "state": {}
     },
     "b651a4aa4c35420c93c752911a204a61": {
      "model_module": "@jupyter-widgets/base",
      "model_module_version": "1.0.0",
      "model_name": "LayoutModel",
      "state": {
       "width": "600px"
      }
     },
     "b6611135be0d4ffaadfb72c591818c18": {
      "model_module": "@jupyter-widgets/controls",
      "model_module_version": "1.2.0",
      "model_name": "ButtonModel",
      "state": {
       "description": "nummod",
       "layout": "IPY_MODEL_dd32b63b0f55411f935a96bed5000516",
       "style": "IPY_MODEL_b5a386182318488693c57f107832efd0"
      }
     },
     "b6785a2d61fc43a8930f99a4e08ae2ea": {
      "model_module": "@jupyter-widgets/controls",
      "model_module_version": "1.2.0",
      "model_name": "HBoxModel",
      "state": {
       "children": [
        "IPY_MODEL_434ebcf1ffae43079984103bce416ec5",
        "IPY_MODEL_1390b117378d4a53b02a5a64562619a3"
       ],
       "layout": "IPY_MODEL_2fc28100577e4e148c3e4e0e5e571f97"
      }
     },
     "b6a138193a304f158b42034df4e7b1e5": {
      "model_module": "@jupyter-widgets/controls",
      "model_module_version": "1.2.0",
      "model_name": "DescriptionStyleModel",
      "state": {
       "description_width": ""
      }
     },
     "b6a8654670cd45288882c9c13cbdb09d": {
      "model_module": "@jupyter-widgets/controls",
      "model_module_version": "1.2.0",
      "model_name": "HTMLModel",
      "state": {
       "layout": "IPY_MODEL_6ca8745d0ecb40b784bf338d735717a3",
       "style": "IPY_MODEL_733fa99574b749819b46e3ed19a7918b",
       "value": "<h4 style=\"font-size:14px;\"><i> mit der S-Bahn </i> stellt eine</h4>"
      }
     },
     "b6b469ca38df43299e1a08f09436c236": {
      "model_module": "@jupyter-widgets/controls",
      "model_module_version": "1.2.0",
      "model_name": "DescriptionStyleModel",
      "state": {
       "description_width": "initial"
      }
     },
     "b6d91247815c44eabfa1b52cbf366614": {
      "model_module": "@jupyter-widgets/base",
      "model_module_version": "1.0.0",
      "model_name": "LayoutModel",
      "state": {
       "width": "600px"
      }
     },
     "b6dc6da081e141938dd96deeadbd34cc": {
      "model_module": "@jupyter-widgets/controls",
      "model_module_version": "1.2.0",
      "model_name": "DescriptionStyleModel",
      "state": {
       "description_width": "initial"
      }
     },
     "b6ec03e703984dc194084cd892c716b7": {
      "model_module": "@jupyter-widgets/controls",
      "model_module_version": "1.2.0",
      "model_name": "ButtonStyleModel",
      "state": {}
     },
     "b70519f7940b4d12b12bd68cdcf9b5bf": {
      "model_module": "@jupyter-widgets/controls",
      "model_module_version": "1.2.0",
      "model_name": "ButtonStyleModel",
      "state": {}
     },
     "b717f59d31c04492b6ed3c4dff012e78": {
      "model_module": "@jupyter-widgets/controls",
      "model_module_version": "1.2.0",
      "model_name": "DescriptionStyleModel",
      "state": {
       "description_width": "initial"
      }
     },
     "b72d23a1aebf43e488f1f9417b99fbcc": {
      "model_module": "@jupyter-widgets/controls",
      "model_module_version": "1.2.0",
      "model_name": "DescriptionStyleModel",
      "state": {
       "description_width": ""
      }
     },
     "b73981c1a54c4b45b4978b5696942504": {
      "model_module": "@jupyter-widgets/base",
      "model_module_version": "1.0.0",
      "model_name": "LayoutModel",
      "state": {
       "width": "600px"
      }
     },
     "b75add4948df4697afbf609e5b4d5e5a": {
      "model_module": "@jupyter-widgets/controls",
      "model_module_version": "1.2.0",
      "model_name": "CheckboxModel",
      "state": {
       "description": "fährt",
       "disabled": false,
       "layout": "IPY_MODEL_4bcf72d5753844b68345dea508794067",
       "style": "IPY_MODEL_297f4d5fa5e44e2ea3df0ed732ab44e9",
       "value": false
      }
     },
     "b76712b1907d432ba2f7862745037895": {
      "model_module": "@jupyter-widgets/controls",
      "model_module_version": "1.2.0",
      "model_name": "HTMLModel",
      "state": {
       "layout": "IPY_MODEL_87b8d57f670740e2a3378b0c650e2619",
       "style": "IPY_MODEL_15fb7191c66a4e71917adbdc232d983b",
       "value": "<h4 style=\"font-size:14px;\">Welche Art von Dependenz besteht zwischen <i> zwei </i> und <i> Bruder </i> ?</h4>"
      }
     },
     "b77f7fc1d89240a98652ab69107c7303": {
      "model_module": "@jupyter-widgets/controls",
      "model_module_version": "1.2.0",
      "model_name": "HTMLModel",
      "state": {
       "layout": "IPY_MODEL_d6a52412db0948f18604cbcf361528bf",
       "style": "IPY_MODEL_298f7c32e9c442f6a0b20cb7a4e94463",
       "value": "<h4 style=\"font-size:14px;\">Welche Tests ergeben, dass es sich bei <i> das Pferd </i> im 3. Satz um eine Angabe handelt?</h4>"
      }
     },
     "b782f63bb64b454280773dbdf81a571f": {
      "model_module": "@jupyter-widgets/controls",
      "model_module_version": "1.2.0",
      "model_name": "ButtonStyleModel",
      "state": {}
     },
     "b78ac6ac52ef40f3816d82475e8be13e": {
      "model_module": "@jupyter-widgets/base",
      "model_module_version": "1.0.0",
      "model_name": "LayoutModel",
      "state": {
       "width": "600px"
      }
     },
     "b78c821c533f4be3a58067be3755a610": {
      "model_module": "@jupyter-widgets/controls",
      "model_module_version": "1.2.0",
      "model_name": "DescriptionStyleModel",
      "state": {
       "description_width": "initial"
      }
     },
     "b7aac63c9ac0440384850504adad7ea6": {
      "model_module": "@jupyter-widgets/controls",
      "model_module_version": "1.2.0",
      "model_name": "HBoxModel",
      "state": {
       "children": [
        "IPY_MODEL_ffdeafb8455f43e8a482c8c7908073f2",
        "IPY_MODEL_4045b87c4a52483790623f52a5711a89"
       ],
       "layout": "IPY_MODEL_24f6d6362d374856a5c898372b4505e7"
      }
     },
     "b7aeff9918ac401c948b84598d6a1972": {
      "model_module": "@jupyter-widgets/controls",
      "model_module_version": "1.2.0",
      "model_name": "DescriptionStyleModel",
      "state": {
       "description_width": ""
      }
     },
     "b7af952376724498a792abae3f5ac907": {
      "model_module": "@jupyter-widgets/controls",
      "model_module_version": "1.2.0",
      "model_name": "DescriptionStyleModel",
      "state": {
       "description_width": ""
      }
     },
     "b7c61ef5a0f245deabcf194252b4834b": {
      "model_module": "@jupyter-widgets/controls",
      "model_module_version": "1.2.0",
      "model_name": "CheckboxModel",
      "state": {
       "description": "Ich",
       "disabled": false,
       "layout": "IPY_MODEL_3de7dbf3149c4e7495126fbcb710f40f",
       "style": "IPY_MODEL_1270e2ff4c4848bca7682c6f521a14a2",
       "value": false
      }
     },
     "b80077980ca94803bd9ef0e9d662a749": {
      "model_module": "@jupyter-widgets/controls",
      "model_module_version": "1.2.0",
      "model_name": "DescriptionStyleModel",
      "state": {
       "description_width": "initial"
      }
     },
     "b821d0ce8e3e4597b5ef486056e936a6": {
      "model_module": "@jupyter-widgets/base",
      "model_module_version": "1.0.0",
      "model_name": "LayoutModel",
      "state": {}
     },
     "b8222db4a2344e6f832a4bc0987d4ed3": {
      "model_module": "@jupyter-widgets/controls",
      "model_module_version": "1.2.0",
      "model_name": "DescriptionStyleModel",
      "state": {
       "description_width": "initial"
      }
     },
     "b8481f395b384b76b482f8a8a3abf076": {
      "model_module": "@jupyter-widgets/base",
      "model_module_version": "1.0.0",
      "model_name": "LayoutModel",
      "state": {}
     },
     "b86b2892727e4fe68b28e7df98d1893c": {
      "model_module": "@jupyter-widgets/base",
      "model_module_version": "1.0.0",
      "model_name": "LayoutModel",
      "state": {}
     },
     "b87aa5df0d234ed8aff4e30029fb4598": {
      "model_module": "@jupyter-widgets/base",
      "model_module_version": "1.0.0",
      "model_name": "LayoutModel",
      "state": {
       "justify_content": "center"
      }
     },
     "b89d3d80a6ca4a2f967762a91e388f7b": {
      "model_module": "@jupyter-widgets/controls",
      "model_module_version": "1.2.0",
      "model_name": "HTMLModel",
      "state": {
       "layout": "IPY_MODEL_6d7f5fb8288248c292b6770807c2b175",
       "style": "IPY_MODEL_6722fc9b4a074325a107a0a416d238b3",
       "value": "<h4 style=\"font-size:14px;\">Welche Tests ergeben, dass es sich bei <i> das Pferd </i> im 2. Satz um eine Angabe handelt?</h4>"
      }
     },
     "b8f6133f0d8b4e0a95718a86a886dc77": {
      "model_module": "@jupyter-widgets/controls",
      "model_module_version": "1.2.0",
      "model_name": "ButtonStyleModel",
      "state": {}
     },
     "b8f883fc77184a0199d705e5f4335dc8": {
      "model_module": "@jupyter-widgets/controls",
      "model_module_version": "1.2.0",
      "model_name": "ButtonModel",
      "state": {
       "description": "Korrekt?",
       "layout": "IPY_MODEL_5d42cd4cb5c44af3846b14cb53abb678",
       "style": "IPY_MODEL_ff203251f2694e45989635dd3172fcc5"
      }
     },
     "b8f9d1e115b84121bcdd4141bfc42c69": {
      "model_module": "@jupyter-widgets/base",
      "model_module_version": "1.0.0",
      "model_name": "LayoutModel",
      "state": {}
     },
     "b902cd2eda72443c9bacb8dd1669fec4": {
      "model_module": "@jupyter-widgets/controls",
      "model_module_version": "1.2.0",
      "model_name": "HBoxModel",
      "state": {
       "children": [
        "IPY_MODEL_6ed6401ef8164ed7bccf7788af52e87a",
        "IPY_MODEL_19eda3224a414a09a1d338502a0071f4"
       ],
       "layout": "IPY_MODEL_eaf2fd93d768437396376f378ddf1511"
      }
     },
     "b918542bebe44fe6b204b96eda05c91b": {
      "model_module": "@jupyter-widgets/controls",
      "model_module_version": "1.2.0",
      "model_name": "VBoxModel",
      "state": {
       "children": [
        "IPY_MODEL_142623417e53451f9082c0f6c501b538",
        "IPY_MODEL_d8e1a00199b9453c88fffba81413ee8a",
        "IPY_MODEL_19efb8c9cbe342cd8567f1024fd834a2",
        "IPY_MODEL_637b2475673a40329b46c0ef6d245d61"
       ],
       "layout": "IPY_MODEL_8b19146d6acf40a0b37bf01d80a50eab"
      }
     },
     "b96ca5afeef141c8972c7645c67bf529": {
      "model_module": "@jupyter-widgets/base",
      "model_module_version": "1.0.0",
      "model_name": "LayoutModel",
      "state": {
       "width": "250px"
      }
     },
     "b975ce7d1cb3489eb9d6bcabef1e5544": {
      "model_module": "@jupyter-widgets/controls",
      "model_module_version": "1.2.0",
      "model_name": "ButtonStyleModel",
      "state": {}
     },
     "b97ab00045a9460cad645eda227c5dde": {
      "model_module": "@jupyter-widgets/base",
      "model_module_version": "1.0.0",
      "model_name": "LayoutModel",
      "state": {
       "width": "600px"
      }
     },
     "b99b5df5d48b4d499852465fcb51a04a": {
      "model_module": "@jupyter-widgets/base",
      "model_module_version": "1.0.0",
      "model_name": "LayoutModel",
      "state": {}
     },
     "b9ab8c9922804ab882f927f78ce6965a": {
      "model_module": "@jupyter-widgets/controls",
      "model_module_version": "1.2.0",
      "model_name": "HTMLModel",
      "state": {
       "layout": "IPY_MODEL_9e6641bcc029461c906294720c24b52b",
       "style": "IPY_MODEL_b72d23a1aebf43e488f1f9417b99fbcc",
       "value": "<h4 style=\"font-size:14px;\">Welche Art von Dependenz besteht zwischen <i> mit </i> und <i> S-Bahn </i> ?</h4>"
      }
     },
     "b9abe95454d4433fb488865eb7e4a5d2": {
      "model_module": "@jupyter-widgets/controls",
      "model_module_version": "1.2.0",
      "model_name": "VBoxModel",
      "state": {
       "children": [
        "IPY_MODEL_2b27aa2b5ff04f7f94b8c0df02e31d01",
        "IPY_MODEL_393e8079216b44c2b9a4e2622e667309",
        "IPY_MODEL_d2de056e1194405bb98d285b05facd26",
        "IPY_MODEL_4bc6359228d943a88e58f7f85f417be0"
       ],
       "layout": "IPY_MODEL_0780714817a14490b450d21f836c05f9"
      }
     },
     "b9d93a1c8a17461e87e3782db07a1631": {
      "model_module": "@jupyter-widgets/base",
      "model_module_version": "1.0.0",
      "model_name": "LayoutModel",
      "state": {}
     },
     "b9e1c416819046d3bbfc4707a50ef917": {
      "model_module": "@jupyter-widgets/controls",
      "model_module_version": "1.2.0",
      "model_name": "HTMLModel",
      "state": {
       "layout": "IPY_MODEL_a6211265b5044c688e1d6f3093711dc5",
       "style": "IPY_MODEL_d45b4b60bfc648a5af21dc7cdacea632",
       "value": "<i>Wählen Sie die <ins>eine</ins> korrekte Antwort aus: </i>"
      }
     },
     "ba0bbb00a5d44d06a85a7b04380ccab9": {
      "model_module": "@jupyter-widgets/controls",
      "model_module_version": "1.2.0",
      "model_name": "DescriptionStyleModel",
      "state": {
       "description_width": "initial"
      }
     },
     "ba4446ddb854485d86b1ddddfafadfab": {
      "model_module": "@jupyter-widgets/controls",
      "model_module_version": "1.2.0",
      "model_name": "ButtonStyleModel",
      "state": {}
     },
     "ba4b7cd29f884cee9f55a4c8102293ce": {
      "model_module": "@jupyter-widgets/controls",
      "model_module_version": "1.2.0",
      "model_name": "DescriptionStyleModel",
      "state": {
       "description_width": "initial"
      }
     },
     "baf4fa9c2a654e2c91c4cc5ad66e953d": {
      "model_module": "@jupyter-widgets/controls",
      "model_module_version": "1.2.0",
      "model_name": "ButtonStyleModel",
      "state": {}
     },
     "bb2cab6e04db4bcbbe9c2b57b6326a94": {
      "model_module": "@jupyter-widgets/base",
      "model_module_version": "1.0.0",
      "model_name": "LayoutModel",
      "state": {
       "width": "250px"
      }
     },
     "bb578686e8b74d9e9a387b4f87acc720": {
      "model_module": "@jupyter-widgets/controls",
      "model_module_version": "1.2.0",
      "model_name": "DescriptionStyleModel",
      "state": {
       "description_width": ""
      }
     },
     "bb5a4f990b0d485a892d37e5cedd3a32": {
      "model_module": "@jupyter-widgets/controls",
      "model_module_version": "1.2.0",
      "model_name": "ButtonModel",
      "state": {
       "description": "nsubj",
       "layout": "IPY_MODEL_008204a53420492ea7f1f3c37c2f220c",
       "style": "IPY_MODEL_39a9c0687bcf49d1b601e0c6219de674"
      }
     },
     "bb61b09192e04f4187afa31b11048f50": {
      "model_module": "@jupyter-widgets/base",
      "model_module_version": "1.0.0",
      "model_name": "LayoutModel",
      "state": {}
     },
     "bb7b85b01b4d4510b2098cdf5f7921b9": {
      "model_module": "@jupyter-widgets/controls",
      "model_module_version": "1.2.0",
      "model_name": "CheckboxModel",
      "state": {
       "description": "Mädchen",
       "disabled": false,
       "layout": "IPY_MODEL_2fb89aada5b149128c025cfe3babccf1",
       "style": "IPY_MODEL_433aeeb4ba104d82b031426ea3ee28c5",
       "value": false
      }
     },
     "bba4453389264dff9bd2fbaf43ca9fe0": {
      "model_module": "@jupyter-widgets/base",
      "model_module_version": "1.0.0",
      "model_name": "LayoutModel",
      "state": {
       "width": "250px"
      }
     },
     "bbc741a350e4422a92a93cf6fd4863dd": {
      "model_module": "@jupyter-widgets/base",
      "model_module_version": "1.0.0",
      "model_name": "LayoutModel",
      "state": {
       "width": "600px"
      }
     },
     "bbdc2f4c9e1d4777a3748ea48bc07a80": {
      "model_module": "@jupyter-widgets/controls",
      "model_module_version": "1.2.0",
      "model_name": "DescriptionStyleModel",
      "state": {
       "description_width": "initial"
      }
     },
     "bbed5e6a86ab44f18e463852e3836a5d": {
      "model_module": "@jupyter-widgets/controls",
      "model_module_version": "1.2.0",
      "model_name": "DescriptionStyleModel",
      "state": {
       "description_width": "initial"
      }
     },
     "bbf519fc72144bf3b61bb6c3b7e5631e": {
      "model_module": "@jupyter-widgets/controls",
      "model_module_version": "1.2.0",
      "model_name": "HTMLModel",
      "state": {
       "layout": "IPY_MODEL_88fccf3ed2f04ece9a90d662c29f9d7f",
       "style": "IPY_MODEL_a50e478d00b8458f9585ff4a87f8a577",
       "value": "<i>Wählen Sie die <ins>eine</ins> korrekte Antwort aus: </i>"
      }
     },
     "bc14b120397142de8147942d5fb5fcde": {
      "model_module": "@jupyter-widgets/base",
      "model_module_version": "1.0.0",
      "model_name": "LayoutModel",
      "state": {
       "width": "250px"
      }
     },
     "bc2d1a75d6e44e3e91b12c539b596248": {
      "model_module": "@jupyter-widgets/base",
      "model_module_version": "1.0.0",
      "model_name": "LayoutModel",
      "state": {
       "width": "250px"
      }
     },
     "bc4a68cfdd8c4a219a585f4a2754a269": {
      "model_module": "@jupyter-widgets/controls",
      "model_module_version": "1.2.0",
      "model_name": "HTMLModel",
      "state": {
       "layout": "IPY_MODEL_16b6940b6e814add94a6151c435f63c1",
       "style": "IPY_MODEL_3fad49debc784e1cbc811887fe45fb54",
       "value": "<i>Wählen Sie die <ins>eine</ins> korrekte Antwort aus: </i>"
      }
     },
     "bc56cc55cce349b0b4961d0cee0d0571": {
      "model_module": "@jupyter-widgets/controls",
      "model_module_version": "1.2.0",
      "model_name": "DescriptionStyleModel",
      "state": {
       "description_width": ""
      }
     },
     "bc8956dc337d4ca39dc9951a5e952920": {
      "model_module": "@jupyter-widgets/controls",
      "model_module_version": "1.2.0",
      "model_name": "DropdownModel",
      "state": {
       "_options_labels": [
        "Lokaladverbial",
        "Modaladverbial",
        " "
       ],
       "index": 2,
       "layout": "IPY_MODEL_d45adee9e91b41be859eac56c9099240",
       "style": "IPY_MODEL_2ce9df7a11424f7f8b6ca542e3e0ea35"
      }
     },
     "bcc72f8ae82b464ab353e3f678d915b0": {
      "model_module": "@jupyter-widgets/controls",
      "model_module_version": "1.2.0",
      "model_name": "HTMLModel",
      "state": {
       "layout": "IPY_MODEL_13b2135d78524c93b1fd13cbaea3eee4",
       "style": "IPY_MODEL_b6a138193a304f158b42034df4e7b1e5",
       "value": "<i>Markieren Sie <ins>alle</ins> passenden Antworten: </i>"
      }
     },
     "bce5df7e726d4b34b16df4d9e3071ab7": {
      "model_module": "@jupyter-widgets/base",
      "model_module_version": "1.0.0",
      "model_name": "LayoutModel",
      "state": {
       "width": "250px"
      }
     },
     "bcea40cf8b0a447ea93c9f114524094d": {
      "model_module": "@jupyter-widgets/controls",
      "model_module_version": "1.2.0",
      "model_name": "VBoxModel",
      "state": {
       "children": [
        "IPY_MODEL_f5d56cf673b240cab9395cd648d109fb",
        "IPY_MODEL_898feed6c4864d6ba892a7f35bfca85d",
        "IPY_MODEL_d4914c0084a1415583f62511dc76289b",
        "IPY_MODEL_6191f186f8584de6a9c02e6b905b8e8a",
        "IPY_MODEL_331c256f93f84b749af73b56130867b8"
       ],
       "layout": "IPY_MODEL_8814d78a13bf4d81bb593cccc2eec2b1"
      }
     },
     "bcf1261cda4644b491a9f7cc23205309": {
      "model_module": "@jupyter-widgets/base",
      "model_module_version": "1.0.0",
      "model_name": "LayoutModel",
      "state": {}
     },
     "bcf5ffa3d6ce4de8a344fcb7cfb5504c": {
      "model_module": "@jupyter-widgets/controls",
      "model_module_version": "1.2.0",
      "model_name": "VBoxModel",
      "state": {
       "children": [
        "IPY_MODEL_b77f7fc1d89240a98652ab69107c7303",
        "IPY_MODEL_7d65a7f3315b48caa9b83bc4e6bd377a",
        "IPY_MODEL_3a94c4e332434e028846853a572da73d",
        "IPY_MODEL_ce1568726f9541ebb93073943d6c3ff1"
       ],
       "layout": "IPY_MODEL_de6e626d917447e28e6d15d3b1863958"
      }
     },
     "bcf9c0fb57284ebab85f9d48f091d3cb": {
      "model_module": "@jupyter-widgets/base",
      "model_module_version": "1.0.0",
      "model_name": "LayoutModel",
      "state": {
       "justify_content": "center"
      }
     },
     "bd11829f9cc243ebb360046ef7d0f7a5": {
      "model_module": "@jupyter-widgets/controls",
      "model_module_version": "1.2.0",
      "model_name": "DescriptionStyleModel",
      "state": {
       "description_width": ""
      }
     },
     "bd2198c50e8b481db275863b3aae973a": {
      "model_module": "@jupyter-widgets/controls",
      "model_module_version": "1.2.0",
      "model_name": "CheckboxModel",
      "state": {
       "description": "H wählt D aus",
       "disabled": false,
       "layout": "IPY_MODEL_7dc973cab548474c9d75fb4a79a16f10",
       "style": "IPY_MODEL_6b65ae51fb424157a918376fb24eb8f5",
       "value": false
      }
     },
     "bd34d03dac104ebbb1cad69f49339172": {
      "model_module": "@jupyter-widgets/base",
      "model_module_version": "1.0.0",
      "model_name": "LayoutModel",
      "state": {
       "justify_content": "center"
      }
     },
     "bd44cddc4a31476aba2795c2ddf15603": {
      "model_module": "@jupyter-widgets/controls",
      "model_module_version": "1.2.0",
      "model_name": "DescriptionStyleModel",
      "state": {
       "description_width": "initial"
      }
     },
     "bd611b9126bd4d098cf7c174be6c2120": {
      "model_module": "@jupyter-widgets/controls",
      "model_module_version": "1.2.0",
      "model_name": "HTMLModel",
      "state": {
       "layout": "IPY_MODEL_fee97eacd86d4021afcfce2f7fead6a5",
       "style": "IPY_MODEL_a880361618a44472a8a50a2b55274ea6",
       "value": "<i>Vervollständigen Sie den Lückentext: </i>"
      }
     },
     "bdc47f6b083a451f8b0ee24ee409a921": {
      "model_module": "@jupyter-widgets/base",
      "model_module_version": "1.0.0",
      "model_name": "LayoutModel",
      "state": {
       "justify_content": "center"
      }
     },
     "bdcd31cff9794c79b153ca95fa840e45": {
      "model_module": "@jupyter-widgets/base",
      "model_module_version": "1.0.0",
      "model_name": "LayoutModel",
      "state": {}
     },
     "bdedb4ffec3c4d9d9eac93b0538df486": {
      "model_module": "@jupyter-widgets/controls",
      "model_module_version": "1.2.0",
      "model_name": "ButtonModel",
      "state": {
       "description": "Keine",
       "layout": "IPY_MODEL_c0aaff0d62924414ab08dbb6457dcffe",
       "style": "IPY_MODEL_1bffd944e04547b48ed040dd59fd200d"
      }
     },
     "be0f20f7685d44fea2337cd0df16f761": {
      "model_module": "@jupyter-widgets/controls",
      "model_module_version": "1.2.0",
      "model_name": "ButtonStyleModel",
      "state": {}
     },
     "be156e7bc60c419fa811f352a0e455fa": {
      "model_module": "@jupyter-widgets/base",
      "model_module_version": "1.0.0",
      "model_name": "LayoutModel",
      "state": {
       "width": "600px"
      }
     },
     "be16a29fccee40cab31c400fb6460094": {
      "model_module": "@jupyter-widgets/controls",
      "model_module_version": "1.2.0",
      "model_name": "ButtonStyleModel",
      "state": {}
     },
     "be34078ca7204f4185e42c4e11157755": {
      "model_module": "@jupyter-widgets/base",
      "model_module_version": "1.0.0",
      "model_name": "LayoutModel",
      "state": {
       "width": "600px"
      }
     },
     "be37e610855c444ebb9af3d9658e0fe7": {
      "model_module": "@jupyter-widgets/controls",
      "model_module_version": "1.2.0",
      "model_name": "DescriptionStyleModel",
      "state": {
       "description_width": ""
      }
     },
     "be4e9d89af0e4efe834743634f9ff8aa": {
      "model_module": "@jupyter-widgets/base",
      "model_module_version": "1.0.0",
      "model_name": "LayoutModel",
      "state": {}
     },
     "be683182bd4d4216bf7d4035b86e597c": {
      "model_module": "@jupyter-widgets/controls",
      "model_module_version": "1.2.0",
      "model_name": "HTMLModel",
      "state": {
       "layout": "IPY_MODEL_2da712de440d45708741f7376fb6063f",
       "style": "IPY_MODEL_e3f6ab2064de4da68ed3d2d0314b74e4",
       "value": "<i>Wählen Sie die <ins>eine</ins> korrekte Antwort aus: </i>"
      }
     },
     "be735cc4fac445fab7b15492d01d7160": {
      "model_module": "@jupyter-widgets/controls",
      "model_module_version": "1.2.0",
      "model_name": "ButtonStyleModel",
      "state": {}
     },
     "bec24267f8d64c9b92160d9e1ada87c9": {
      "model_module": "@jupyter-widgets/base",
      "model_module_version": "1.0.0",
      "model_name": "LayoutModel",
      "state": {
       "width": "250px"
      }
     },
     "bee1ccb3a91e4c12a1d1406945a3a96f": {
      "model_module": "@jupyter-widgets/base",
      "model_module_version": "1.0.0",
      "model_name": "LayoutModel",
      "state": {}
     },
     "bf0b6d6753a943ebb5f6e475582204e1": {
      "model_module": "@jupyter-widgets/controls",
      "model_module_version": "1.2.0",
      "model_name": "DropdownModel",
      "state": {
       "_options_labels": [
        " ",
        "Adjektivphrase",
        "Nominalphrase",
        "Präpositionalphrase",
        " "
       ],
       "index": 0,
       "layout": "IPY_MODEL_64b1922b6f1e4466b58621a801f6bd0d",
       "style": "IPY_MODEL_787a33c8323f4810b1e93199d7484387"
      }
     },
     "bf142693e97645aeb510b370028411c9": {
      "model_module": "@jupyter-widgets/controls",
      "model_module_version": "1.2.0",
      "model_name": "ButtonModel",
      "state": {
       "description": "prep",
       "layout": "IPY_MODEL_bce5df7e726d4b34b16df4d9e3071ab7",
       "style": "IPY_MODEL_31a4edbad82140ad99ec6f53c9c3880e"
      }
     },
     "bf487d3f9e2b438c9e7b58a5de8fdecc": {
      "model_module": "@jupyter-widgets/controls",
      "model_module_version": "1.2.0",
      "model_name": "ButtonStyleModel",
      "state": {}
     },
     "bf4cc228455840a3b3354c10e44628a7": {
      "model_module": "@jupyter-widgets/base",
      "model_module_version": "1.0.0",
      "model_name": "LayoutModel",
      "state": {
       "align_content": "stretch",
       "align_items": "stretch",
       "display": "inline-flex",
       "flex": "flex-grow",
       "flex_flow": "row wrap",
       "justify_content": "flex-start"
      }
     },
     "bf5c7c65a4084298aaf796b2404507aa": {
      "model_module": "@jupyter-widgets/base",
      "model_module_version": "1.0.0",
      "model_name": "LayoutModel",
      "state": {}
     },
     "bf7dd65a7bc44c659a39f3ea9b499d11": {
      "model_module": "@jupyter-widgets/base",
      "model_module_version": "1.0.0",
      "model_name": "LayoutModel",
      "state": {}
     },
     "bf8aeff6a47c4b448d0e78e2c9356c79": {
      "model_module": "@jupyter-widgets/base",
      "model_module_version": "1.0.0",
      "model_name": "LayoutModel",
      "state": {
       "width": "250px"
      }
     },
     "bf9ce392065d471a9ef8913a8f04edb8": {
      "model_module": "@jupyter-widgets/base",
      "model_module_version": "1.0.0",
      "model_name": "LayoutModel",
      "state": {}
     },
     "bfc5382434f34faf82a292e55c4e0b06": {
      "model_module": "@jupyter-widgets/controls",
      "model_module_version": "1.2.0",
      "model_name": "DescriptionStyleModel",
      "state": {
       "description_width": ""
      }
     },
     "bfc5dd823a0f46f7a8ad0aa442883b76": {
      "model_module": "@jupyter-widgets/base",
      "model_module_version": "1.0.0",
      "model_name": "LayoutModel",
      "state": {}
     },
     "bfd6ff4a01754ed88d514d920b37bd52": {
      "model_module": "@jupyter-widgets/base",
      "model_module_version": "1.0.0",
      "model_name": "LayoutModel",
      "state": {}
     },
     "bfde429554874c4ca224ddd9d09254c5": {
      "model_module": "@jupyter-widgets/base",
      "model_module_version": "1.0.0",
      "model_name": "LayoutModel",
      "state": {}
     },
     "bfe9d9289c944a0d9feac8e0d8693510": {
      "model_module": "@jupyter-widgets/controls",
      "model_module_version": "1.2.0",
      "model_name": "ButtonModel",
      "state": {
       "description": "Keine",
       "layout": "IPY_MODEL_d99d2ce7085a48c2a0e4410b5ac43cc3",
       "style": "IPY_MODEL_17d41173193b4135826ab921c00d20c0"
      }
     },
     "bff71486979742c8b7db825fbd5b8832": {
      "model_module": "@jupyter-widgets/controls",
      "model_module_version": "1.2.0",
      "model_name": "DescriptionStyleModel",
      "state": {
       "description_width": "initial"
      }
     },
     "c017d4c51123437c8f52e90b85269540": {
      "model_module": "@jupyter-widgets/controls",
      "model_module_version": "1.2.0",
      "model_name": "DescriptionStyleModel",
      "state": {
       "description_width": "initial"
      }
     },
     "c028253bd6e1483e9f488454b70bb1f1": {
      "model_module": "@jupyter-widgets/controls",
      "model_module_version": "1.2.0",
      "model_name": "HBoxModel",
      "state": {
       "children": [
        "IPY_MODEL_0a910ee576854354bb7d4dc6382815fd",
        "IPY_MODEL_369dfd9672b042d38c16184fa3fe719d"
       ],
       "layout": "IPY_MODEL_4e4c8209fc374f9fbefdbf57d74bc42b"
      }
     },
     "c06ca34bdd9443f28fc36197d828eb8f": {
      "model_module": "@jupyter-widgets/controls",
      "model_module_version": "1.2.0",
      "model_name": "ButtonModel",
      "state": {
       "description": "amod",
       "layout": "IPY_MODEL_fdd558a933e945e6bda94cb2c47e8d3d",
       "style": "IPY_MODEL_f45695e27b344330bb3be650c7adae21"
      }
     },
     "c098e142adb64c1b84936cb044035dbd": {
      "model_module": "@jupyter-widgets/controls",
      "model_module_version": "1.2.0",
      "model_name": "DescriptionStyleModel",
      "state": {
       "description_width": "initial"
      }
     },
     "c0aaff0d62924414ab08dbb6457dcffe": {
      "model_module": "@jupyter-widgets/base",
      "model_module_version": "1.0.0",
      "model_name": "LayoutModel",
      "state": {
       "width": "250px"
      }
     },
     "c0e1a558c450482aabd1abbca2ea76bc": {
      "model_module": "@jupyter-widgets/controls",
      "model_module_version": "1.2.0",
      "model_name": "DescriptionStyleModel",
      "state": {
       "description_width": "initial"
      }
     },
     "c0f3626ecfb74067b71e3bb61c4be060": {
      "model_module": "@jupyter-widgets/controls",
      "model_module_version": "1.2.0",
      "model_name": "HTMLModel",
      "state": {
       "layout": "IPY_MODEL_6108bb6d18cc4834af6f0a7458049716",
       "style": "IPY_MODEL_4a7497c0a579433c9ffa2288eaa2e8c1",
       "value": "<i>Wählen Sie die <ins>eine</ins> korrekte Antwort aus: </i>"
      }
     },
     "c138644c57f24ef89e11b4dc2ce0264d": {
      "model_module": "@jupyter-widgets/base",
      "model_module_version": "1.0.0",
      "model_name": "LayoutModel",
      "state": {}
     },
     "c1511304148045a48032b867650f312d": {
      "model_module": "@jupyter-widgets/controls",
      "model_module_version": "1.2.0",
      "model_name": "CheckboxModel",
      "state": {
       "description": "Arbeitsplatz",
       "disabled": false,
       "layout": "IPY_MODEL_60671c81505c498d9de9669547f09dce",
       "style": "IPY_MODEL_6763b63a41184b1f877b277ac6bd95a2",
       "value": false
      }
     },
     "c152b28d938b4fb28abe461c7a39deb8": {
      "model_module": "@jupyter-widgets/controls",
      "model_module_version": "1.2.0",
      "model_name": "CheckboxModel",
      "state": {
       "description": "S-Bahn",
       "disabled": false,
       "layout": "IPY_MODEL_589c9f5cdfd44848bb05c47b67d9892c",
       "style": "IPY_MODEL_b202753023d542769c2b685e36b32fd4",
       "value": false
      }
     },
     "c158869aa3df43c3a0b5c7e457749d70": {
      "model_module": "@jupyter-widgets/controls",
      "model_module_version": "1.2.0",
      "model_name": "HTMLModel",
      "state": {
       "layout": "IPY_MODEL_504644bb11154298a8b9dccf6f1c9fc8",
       "style": "IPY_MODEL_fd92cdc88c9c45c49191a6a03c203360",
       "value": "<i>Wählen Sie die <ins>eine</ins> korrekte Antwort aus: </i>"
      }
     },
     "c164431687324d57aea8ce9f5f4b7a5a": {
      "model_module": "@jupyter-widgets/base",
      "model_module_version": "1.0.0",
      "model_name": "LayoutModel",
      "state": {
       "width": "250px"
      }
     },
     "c1e06b0f10644773b257a7d0fb8e1f12": {
      "model_module": "@jupyter-widgets/base",
      "model_module_version": "1.0.0",
      "model_name": "LayoutModel",
      "state": {
       "width": "600px"
      }
     },
     "c1f806fe37a045d0b77256c1bb32fe9d": {
      "model_module": "@jupyter-widgets/controls",
      "model_module_version": "1.2.0",
      "model_name": "DescriptionStyleModel",
      "state": {
       "description_width": ""
      }
     },
     "c1fdc0d0179243b4b41d937e2dcb9cfe": {
      "model_module": "@jupyter-widgets/controls",
      "model_module_version": "1.2.0",
      "model_name": "DescriptionStyleModel",
      "state": {
       "description_width": "initial"
      }
     },
     "c20e7904452b436096396322c0255451": {
      "model_module": "@jupyter-widgets/base",
      "model_module_version": "1.0.0",
      "model_name": "LayoutModel",
      "state": {}
     },
     "c2151f6b09f94105b406c3c8146301af": {
      "model_module": "@jupyter-widgets/base",
      "model_module_version": "1.0.0",
      "model_name": "LayoutModel",
      "state": {
       "width": "250px"
      }
     },
     "c2163e504db945eaaf928b9835d30ef5": {
      "model_module": "@jupyter-widgets/controls",
      "model_module_version": "1.2.0",
      "model_name": "HTMLModel",
      "state": {
       "layout": "IPY_MODEL_357a8ee93f8649c4b0b69885df409dab",
       "style": "IPY_MODEL_ad29b48ca1894faebe7b1c2dd4c82d95",
       "value": "<h4 style=\"font-size:14px;\">Wie könnte man abschließend das in Frage stehende Satzglied in Satz 2 charakterisieren?</h4>"
      }
     },
     "c227d9d3cf584551a45edb9e0526fead": {
      "model_module": "@jupyter-widgets/base",
      "model_module_version": "1.0.0",
      "model_name": "LayoutModel",
      "state": {
       "width": "250px"
      }
     },
     "c23b7f5a1cb1417ebd332d00349619e1": {
      "model_module": "@jupyter-widgets/controls",
      "model_module_version": "1.2.0",
      "model_name": "DescriptionStyleModel",
      "state": {
       "description_width": "initial"
      }
     },
     "c24256887c6342fe9c7a4694b6e3390b": {
      "model_module": "@jupyter-widgets/controls",
      "model_module_version": "1.2.0",
      "model_name": "CheckboxModel",
      "state": {
       "description": "Adverbialsatz-Test",
       "disabled": false,
       "layout": "IPY_MODEL_a1062647c2034f04b13df76a7e2f922c",
       "style": "IPY_MODEL_4a8581df5b944c278d5fc1fafc2e43d7",
       "value": false
      }
     },
     "c246b486434e48568930327a15b79ec6": {
      "model_module": "@jupyter-widgets/controls",
      "model_module_version": "1.2.0",
      "model_name": "ButtonStyleModel",
      "state": {}
     },
     "c24b5ed2e55d412aac282b0dad12cc26": {
      "model_module": "@jupyter-widgets/controls",
      "model_module_version": "1.2.0",
      "model_name": "DescriptionStyleModel",
      "state": {
       "description_width": "initial"
      }
     },
     "c262880324324c5eb3a9416765bdc729": {
      "model_module": "@jupyter-widgets/controls",
      "model_module_version": "1.2.0",
      "model_name": "ButtonModel",
      "state": {
       "description": "Adjektivattribut",
       "layout": "IPY_MODEL_a25ce58e96e846cd891bbf1029ea793e",
       "style": "IPY_MODEL_289499cd357045e4b673b7dd9519a813"
      }
     },
     "c265816f26e7404ba213561f23218762": {
      "model_module": "@jupyter-widgets/controls",
      "model_module_version": "1.2.0",
      "model_name": "ButtonModel",
      "state": {
       "description": "det",
       "layout": "IPY_MODEL_ea33658b0cea4c3a837920892601c9b7",
       "style": "IPY_MODEL_5a63d09f92fb4955b14bd9662f56ef26"
      }
     },
     "c27cb244ffef45349d29f4cf6f10e867": {
      "model_module": "@jupyter-widgets/controls",
      "model_module_version": "1.2.0",
      "model_name": "DescriptionStyleModel",
      "state": {
       "description_width": ""
      }
     },
     "c29696c9df884750bee33053c6697452": {
      "model_module": "@jupyter-widgets/controls",
      "model_module_version": "1.2.0",
      "model_name": "ButtonModel",
      "state": {
       "description": "Korrekt?",
       "layout": "IPY_MODEL_ed60c3a169414a2b81f76aa3838ecd0c",
       "style": "IPY_MODEL_22d4fee5b07c4ea390d43632fdc3d703"
      }
     },
     "c298308a27b24309975f28db31351ab8": {
      "model_module": "@jupyter-widgets/base",
      "model_module_version": "1.0.0",
      "model_name": "LayoutModel",
      "state": {}
     },
     "c29fda0a1aef4fd0bcef0d4536875fcc": {
      "model_module": "@jupyter-widgets/controls",
      "model_module_version": "1.2.0",
      "model_name": "DescriptionStyleModel",
      "state": {
       "description_width": "initial"
      }
     },
     "c2b41fa3107c42448d3051a4bc21ccf2": {
      "model_module": "@jupyter-widgets/controls",
      "model_module_version": "1.2.0",
      "model_name": "VBoxModel",
      "state": {
       "children": [
        "IPY_MODEL_fa5aa62c8e9743da9138d0d98b5618ed",
        "IPY_MODEL_80ff6ac4bcbc4ff6acca6d6d3f0939d3",
        "IPY_MODEL_875046af28bf4ee1b9fa5b469165802f",
        "IPY_MODEL_e0070cd4002546489296bc950babce88",
        "IPY_MODEL_d6f6c2f850cd4c209350d641b8520685",
        "IPY_MODEL_bd2198c50e8b481db275863b3aae973a"
       ],
       "layout": "IPY_MODEL_2adf38bfdd874074b90debcc66a774f7"
      }
     },
     "c2c334601401400b81b740878e1e4a55": {
      "model_module": "@jupyter-widgets/controls",
      "model_module_version": "1.2.0",
      "model_name": "ButtonStyleModel",
      "state": {}
     },
     "c2c80113bac74f65847f112b9c4052fe": {
      "model_module": "@jupyter-widgets/controls",
      "model_module_version": "1.2.0",
      "model_name": "ButtonStyleModel",
      "state": {}
     },
     "c2caa97524fb4697a73c7adb70cb2142": {
      "model_module": "@jupyter-widgets/controls",
      "model_module_version": "1.2.0",
      "model_name": "ButtonStyleModel",
      "state": {}
     },
     "c2fed921c61d40d6a7b18f9f1348a28c": {
      "model_module": "@jupyter-widgets/controls",
      "model_module_version": "1.2.0",
      "model_name": "ButtonModel",
      "state": {
       "description": "Adjektivattribut",
       "layout": "IPY_MODEL_46fc650c497545b6880875e1420003c0",
       "style": "IPY_MODEL_06931c2c9f954aaa91b397096f9f0c29"
      }
     },
     "c3137e98813640db926fc5809cff113d": {
      "model_module": "@jupyter-widgets/controls",
      "model_module_version": "1.2.0",
      "model_name": "HTMLModel",
      "state": {
       "layout": "IPY_MODEL_c351d4d7c8804816be33cdf9f8c40367",
       "style": "IPY_MODEL_a10b639e297f4dd3986e50969e4a51b8",
       "value": "<h4 style=\"font-size:14px;\">Welche Art von Dependenz besteht zwischen <i> kenne </i> und <i> ich </i> ?</h4>"
      }
     },
     "c332059f742c4974bf358a16138d579c": {
      "model_module": "@jupyter-widgets/controls",
      "model_module_version": "1.2.0",
      "model_name": "DescriptionStyleModel",
      "state": {
       "description_width": ""
      }
     },
     "c351d4d7c8804816be33cdf9f8c40367": {
      "model_module": "@jupyter-widgets/base",
      "model_module_version": "1.0.0",
      "model_name": "LayoutModel",
      "state": {
       "justify_content": "center"
      }
     },
     "c36d8f5d5e874275bb8cdb80fde2aa8f": {
      "model_module": "@jupyter-widgets/controls",
      "model_module_version": "1.2.0",
      "model_name": "VBoxModel",
      "state": {
       "children": [
        "IPY_MODEL_679f8718edc34b46b5b482594494368d",
        "IPY_MODEL_8a1966bf497b4599bd03ff0278d8871f",
        "IPY_MODEL_d50ed30359624515a888b17837a817b5",
        "IPY_MODEL_c55d3bfa966a4ddcb748c5639e3b1245"
       ],
       "layout": "IPY_MODEL_9901d000dbb34967bc3dd036ab676404"
      }
     },
     "c37544fb8fcc4b18930d9626a0d29298": {
      "model_module": "@jupyter-widgets/controls",
      "model_module_version": "1.2.0",
      "model_name": "DescriptionStyleModel",
      "state": {
       "description_width": ""
      }
     },
     "c3905a0f2ffa4aecbe80a9005e6f5512": {
      "model_module": "@jupyter-widgets/base",
      "model_module_version": "1.0.0",
      "model_name": "LayoutModel",
      "state": {}
     },
     "c3aaaa2e10244caf894a70b8eb506e7a": {
      "model_module": "@jupyter-widgets/controls",
      "model_module_version": "1.2.0",
      "model_name": "ButtonModel",
      "state": {
       "description": "case",
       "layout": "IPY_MODEL_1f73384c5e9c4bb7a1ae7ec865714550",
       "style": "IPY_MODEL_6b9df53a87824cbf8d5f6083f93954aa"
      }
     },
     "c3c89b2d6f364e2fabce8f536ba7246a": {
      "model_module": "@jupyter-widgets/controls",
      "model_module_version": "1.2.0",
      "model_name": "ButtonStyleModel",
      "state": {}
     },
     "c400f51f7562442c925c75fa20ff08b6": {
      "model_module": "@jupyter-widgets/base",
      "model_module_version": "1.0.0",
      "model_name": "LayoutModel",
      "state": {
       "justify_content": "center"
      }
     },
     "c4177da2ee1747a3827a1e8c7ee84dff": {
      "model_module": "@jupyter-widgets/controls",
      "model_module_version": "1.2.0",
      "model_name": "DescriptionStyleModel",
      "state": {
       "description_width": ""
      }
     },
     "c449702dbfb5483d944db3029a12f47d": {
      "model_module": "@jupyter-widgets/base",
      "model_module_version": "1.0.0",
      "model_name": "LayoutModel",
      "state": {}
     },
     "c46087933c994975801d4a9dc1c38cb4": {
      "model_module": "@jupyter-widgets/controls",
      "model_module_version": "1.2.0",
      "model_name": "ButtonModel",
      "state": {
       "description": "Korrekt?",
       "layout": "IPY_MODEL_29c0981d52dc4055ba6bc7aaa9ca0fb6",
       "style": "IPY_MODEL_1ac6fb5edfaf483eb75401237a163ec4"
      }
     },
     "c469fa677e9b4513a66fb49c1e836108": {
      "model_module": "@jupyter-widgets/base",
      "model_module_version": "1.0.0",
      "model_name": "LayoutModel",
      "state": {
       "justify_content": "center"
      }
     },
     "c46ae59ba65249e98f008659e2a050c7": {
      "model_module": "@jupyter-widgets/controls",
      "model_module_version": "1.2.0",
      "model_name": "ButtonStyleModel",
      "state": {}
     },
     "c48cdc8d7a364522babbb9eb01b1211a": {
      "model_module": "@jupyter-widgets/base",
      "model_module_version": "1.0.0",
      "model_name": "LayoutModel",
      "state": {
       "width": "600px"
      }
     },
     "c49bc2acfb6f4b9499295e8065155582": {
      "model_module": "@jupyter-widgets/controls",
      "model_module_version": "1.2.0",
      "model_name": "HBoxModel",
      "state": {
       "children": [
        "IPY_MODEL_d0cf627ecdc748669200383b452abf72",
        "IPY_MODEL_8f488910162b4c6eabb56282665e1bc8"
       ],
       "layout": "IPY_MODEL_aa54456bab5041c99137ab970d77b810"
      }
     },
     "c4a3878b12a84a059e35436396defc82": {
      "model_module": "@jupyter-widgets/base",
      "model_module_version": "1.0.0",
      "model_name": "LayoutModel",
      "state": {
       "width": "600px"
      }
     },
     "c4ba139874eb4c8aab56e35ffc877091": {
      "model_module": "@jupyter-widgets/controls",
      "model_module_version": "1.2.0",
      "model_name": "HTMLModel",
      "state": {
       "layout": "IPY_MODEL_487992d633a14fb8ae999d900cf71129",
       "style": "IPY_MODEL_479c23ee49e14d1e82756fb6008be59d",
       "value": "<h4 style=\"font-size:14px;\">Abhängigkeitsbeziehungen verschiedener Art zusammenfasst.</h4>"
      }
     },
     "c4f832999a4f441b92db0d4a46a83808": {
      "model_module": "@jupyter-widgets/controls",
      "model_module_version": "1.2.0",
      "model_name": "ButtonStyleModel",
      "state": {}
     },
     "c500f68a201946ffa65893eb5958f765": {
      "model_module": "@jupyter-widgets/base",
      "model_module_version": "1.0.0",
      "model_name": "LayoutModel",
      "state": {
       "width": "250px"
      }
     },
     "c53d9112362c484ea85b5af6e3c4c29e": {
      "model_module": "@jupyter-widgets/controls",
      "model_module_version": "1.2.0",
      "model_name": "ButtonModel",
      "state": {
       "description": "Angabe",
       "layout": "IPY_MODEL_7aac470dd41e4a59ab88e44327bd195a",
       "style": "IPY_MODEL_aed1946133724eea98a884a87d3e4e06"
      }
     },
     "c5464940c0984cd59cdca519513d5e87": {
      "model_module": "@jupyter-widgets/base",
      "model_module_version": "1.0.0",
      "model_name": "LayoutModel",
      "state": {
       "width": "250px"
      }
     },
     "c55d3bfa966a4ddcb748c5639e3b1245": {
      "model_module": "@jupyter-widgets/controls",
      "model_module_version": "1.2.0",
      "model_name": "ButtonModel",
      "state": {
       "description": "Korrekt?",
       "layout": "IPY_MODEL_5f319f09aa74430abe8c67e58cede238",
       "style": "IPY_MODEL_c246b486434e48568930327a15b79ec6"
      }
     },
     "c592a649e2c14912bfb7b158d7582c22": {
      "model_module": "@jupyter-widgets/controls",
      "model_module_version": "1.2.0",
      "model_name": "ButtonStyleModel",
      "state": {}
     },
     "c5a51dab0b5f4791b63b0f97498ce8dd": {
      "model_module": "@jupyter-widgets/base",
      "model_module_version": "1.0.0",
      "model_name": "LayoutModel",
      "state": {
       "justify_content": "center"
      }
     },
     "c5b16e8ea12d483283d1c9256b20d239": {
      "model_module": "@jupyter-widgets/controls",
      "model_module_version": "1.2.0",
      "model_name": "CheckboxModel",
      "state": {
       "description": "lebhaften",
       "disabled": false,
       "layout": "IPY_MODEL_bbc741a350e4422a92a93cf6fd4863dd",
       "style": "IPY_MODEL_e237297de5234766876045b556341cb7",
       "value": false
      }
     },
     "c5e39c5f2e6e4de3881317f62df12d8b": {
      "model_module": "@jupyter-widgets/base",
      "model_module_version": "1.0.0",
      "model_name": "LayoutModel",
      "state": {}
     },
     "c61202c987814347bbc01ccab357040b": {
      "model_module": "@jupyter-widgets/controls",
      "model_module_version": "1.2.0",
      "model_name": "VBoxModel",
      "state": {
       "children": [
        "IPY_MODEL_202610069db84ac1b2e91ca8e211d510",
        "IPY_MODEL_d75d4a4a2a154e8193efe54c3c461281",
        "IPY_MODEL_25fbb53a28ca43fc8766dc32c58cc978",
        "IPY_MODEL_c152b28d938b4fb28abe461c7a39deb8",
        "IPY_MODEL_ded9585e170b4bc1ac0d96f7f61ad0d8",
        "IPY_MODEL_3f81bc9ff1e9438f8468405654f0700d",
        "IPY_MODEL_2b2e947ce4f1467eb230085c80162ff2",
        "IPY_MODEL_b5f2c3eb3bc941869752462b16e5f7f6",
        "IPY_MODEL_785f4e1a5a61477d854ddd7b76e1ba43",
        "IPY_MODEL_c8b7a062eb5c47f297acd83fd6bc15a6",
        "IPY_MODEL_a2b0f404c76c4eeab4fe0c95c5b01ec4"
       ],
       "layout": "IPY_MODEL_9a7a116bdf424720a41ac02e9a33dfaa"
      }
     },
     "c644250f595c42eeb0426742ff00b239": {
      "model_module": "@jupyter-widgets/controls",
      "model_module_version": "1.2.0",
      "model_name": "DescriptionStyleModel",
      "state": {
       "description_width": "initial"
      }
     },
     "c645321f510f4a72a2132398ca5b0b12": {
      "model_module": "@jupyter-widgets/base",
      "model_module_version": "1.0.0",
      "model_name": "LayoutModel",
      "state": {
       "width": "250px"
      }
     },
     "c684319dc5934c1dbe3c80a23d1b50ed": {
      "model_module": "@jupyter-widgets/controls",
      "model_module_version": "1.2.0",
      "model_name": "DescriptionStyleModel",
      "state": {
       "description_width": "initial"
      }
     },
     "c6f6fc2486fc42caab6ef90a5342c8d5": {
      "model_module": "@jupyter-widgets/controls",
      "model_module_version": "1.2.0",
      "model_name": "DescriptionStyleModel",
      "state": {
       "description_width": "initial"
      }
     },
     "c7232a5ed7e3408a836b34f31f65fd3b": {
      "model_module": "@jupyter-widgets/controls",
      "model_module_version": "1.2.0",
      "model_name": "ButtonStyleModel",
      "state": {}
     },
     "c761d6f72c7e4832bd6f3aeabd664736": {
      "model_module": "@jupyter-widgets/base",
      "model_module_version": "1.0.0",
      "model_name": "LayoutModel",
      "state": {
       "width": "150px"
      }
     },
     "c77a31e0728046958a1016b5c7efa18d": {
      "model_module": "@jupyter-widgets/controls",
      "model_module_version": "1.2.0",
      "model_name": "ButtonModel",
      "state": {
       "description": "adverbiale Ergänzung",
       "layout": "IPY_MODEL_5491c3897fd242aa8d4adefcebd8886a",
       "style": "IPY_MODEL_015a592330db401fa85ed015a88fa913"
      }
     },
     "c7965960c9644e639962e2ed84e13086": {
      "model_module": "@jupyter-widgets/controls",
      "model_module_version": "1.2.0",
      "model_name": "CheckboxModel",
      "state": {
       "description": "Es gibt keine.",
       "disabled": false,
       "layout": "IPY_MODEL_d2e8dc602e2148ebb7b8e114ccf9a07f",
       "style": "IPY_MODEL_596a03abbece4135a0c1cf5c51718101",
       "value": false
      }
     },
     "c7b73feb2fc64cdd81f06e5faecd0a75": {
      "model_module": "@jupyter-widgets/controls",
      "model_module_version": "1.2.0",
      "model_name": "DescriptionStyleModel",
      "state": {
       "description_width": "initial"
      }
     },
     "c7c63e0715794501a759897bc8be7ba4": {
      "model_module": "@jupyter-widgets/controls",
      "model_module_version": "1.2.0",
      "model_name": "DescriptionStyleModel",
      "state": {
       "description_width": "initial"
      }
     },
     "c82bc3ac96f644629e5c2ed793272d3a": {
      "model_module": "@jupyter-widgets/base",
      "model_module_version": "1.0.0",
      "model_name": "LayoutModel",
      "state": {
       "width": "250px"
      }
     },
     "c853dc1d76664cf5b9df1835bada7f3a": {
      "model_module": "@jupyter-widgets/controls",
      "model_module_version": "1.2.0",
      "model_name": "CheckboxModel",
      "state": {
       "description": "zwei",
       "disabled": false,
       "layout": "IPY_MODEL_c1e06b0f10644773b257a7d0fb8e1f12",
       "style": "IPY_MODEL_a156701a727d47cf9dca830588446997",
       "value": false
      }
     },
     "c85f6e04a8964f2ca842924cd92fc5d8": {
      "model_module": "@jupyter-widgets/controls",
      "model_module_version": "1.2.0",
      "model_name": "HTMLModel",
      "state": {
       "layout": "IPY_MODEL_bf9ce392065d471a9ef8913a8f04edb8",
       "style": "IPY_MODEL_b05a8647e08a43e19049409c4e61cdbc",
       "value": "<h4 style=\"font-size:14px;\">allen Satzgliedern, die vom Verb abhängen handelt es sich um Ergänzungen. Die</h4>"
      }
     },
     "c8617656f0ef41f1b27c3bdc2c01f5a5": {
      "model_module": "@jupyter-widgets/controls",
      "model_module_version": "1.2.0",
      "model_name": "ButtonModel",
      "state": {
       "description": "nsubj",
       "layout": "IPY_MODEL_6caa6f883c0e4420b74c0f25362e571f",
       "style": "IPY_MODEL_b114d4dccefd4f5d9643bce224d88df7"
      }
     },
     "c8701a4098ae4cc8b23ac321a6544777": {
      "model_module": "@jupyter-widgets/controls",
      "model_module_version": "1.2.0",
      "model_name": "HTMLModel",
      "state": {
       "layout": "IPY_MODEL_b616395fcf8d4bceb97bb7d62ce0fdde",
       "style": "IPY_MODEL_6fc43018ad5e419897150ae3c81748a1",
       "value": "<h4 style=\"font-size:14px;\">Was sind Identifikationskriterien für das Subjekt?</h4>"
      }
     },
     "c87b35d9ea4d4c7aa1c84c6099b37266": {
      "model_module": "@jupyter-widgets/controls",
      "model_module_version": "1.2.0",
      "model_name": "HBoxModel",
      "state": {
       "children": [
        "IPY_MODEL_6af62d9f561448439a2f81e199d30f5d",
        "IPY_MODEL_d5ca080f76c64c1eace923e53d57045e"
       ],
       "layout": "IPY_MODEL_48b3d7938b9044c786a23805e47b7b7b"
      }
     },
     "c88dbc80092a43239c6a43bb2d64d87d": {
      "model_module": "@jupyter-widgets/controls",
      "model_module_version": "1.2.0",
      "model_name": "ButtonStyleModel",
      "state": {}
     },
     "c8a4a702f0ff46009e780f08283f33fe": {
      "model_module": "@jupyter-widgets/base",
      "model_module_version": "1.0.0",
      "model_name": "LayoutModel",
      "state": {}
     },
     "c8b7a062eb5c47f297acd83fd6bc15a6": {
      "model_module": "@jupyter-widgets/controls",
      "model_module_version": "1.2.0",
      "model_name": "CheckboxModel",
      "state": {
       "description": "neue",
       "disabled": false,
       "layout": "IPY_MODEL_6e885c6f4f574002afd8d7c1f923bc27",
       "style": "IPY_MODEL_16aba44b9e2a4a6b8812d95be8bada60",
       "value": false
      }
     },
     "c9187ef44bb24529b017d15dca202442": {
      "model_module": "@jupyter-widgets/controls",
      "model_module_version": "1.2.0",
      "model_name": "ButtonModel",
      "state": {
       "description": "attributiver Relativsatz",
       "layout": "IPY_MODEL_acd9defaa89b4642af2735c6b91b34b6",
       "style": "IPY_MODEL_8d6ae7aab0e44013a63b5f15f6fbeb2f"
      }
     },
     "c9239f34f95b43ac84996f86fa07c16a": {
      "model_module": "@jupyter-widgets/controls",
      "model_module_version": "1.2.0",
      "model_name": "HTMLModel",
      "state": {
       "layout": "IPY_MODEL_34813c7d619a462aa46411e0b5aa74cf",
       "style": "IPY_MODEL_f614daf58e1041f6bf6c4acdaf52ed18",
       "value": "<h4 style=\"font-size:14px;\"></i>. Das Wort teilt mit anderen Wörtern derselben Klasse formale Eigenschaften. Die Bezeichnung \"</h4>"
      }
     },
     "c9254b9e5f614206a1a75b2d860fa97d": {
      "model_module": "@jupyter-widgets/controls",
      "model_module_version": "1.2.0",
      "model_name": "DescriptionStyleModel",
      "state": {
       "description_width": "initial"
      }
     },
     "c9578f697b2c400ab7364befca784d62": {
      "model_module": "@jupyter-widgets/base",
      "model_module_version": "1.0.0",
      "model_name": "LayoutModel",
      "state": {
       "width": "600px"
      }
     },
     "c96dbe2529d745289bbd4fcecb4992df": {
      "model_module": "@jupyter-widgets/controls",
      "model_module_version": "1.2.0",
      "model_name": "CheckboxModel",
      "state": {
       "description": "Die neue Kollegin fährt zu ihrem neuen Arbeitsplatz, und das geschieht mit der S-Bahn.",
       "disabled": false,
       "layout": "IPY_MODEL_79a3f1cc52e84206a9d4d143d1ca4ddc",
       "style": "IPY_MODEL_6a748a40776e4f31a7d5fa8219b7c6c1",
       "value": false
      }
     },
     "c987b72ec4f243e2a420a43751d4f614": {
      "model_module": "@jupyter-widgets/base",
      "model_module_version": "1.0.0",
      "model_name": "LayoutModel",
      "state": {
       "width": "250px"
      }
     },
     "c98c3985a79c4eca909284419a3384cf": {
      "model_module": "@jupyter-widgets/base",
      "model_module_version": "1.0.0",
      "model_name": "LayoutModel",
      "state": {
       "width": "600px"
      }
     },
     "c9c35feed62a4fe29a4bae0beb97b1f3": {
      "model_module": "@jupyter-widgets/controls",
      "model_module_version": "1.2.0",
      "model_name": "ButtonStyleModel",
      "state": {}
     },
     "c9d293d039f445bbb5578d922501ca4d": {
      "model_module": "@jupyter-widgets/controls",
      "model_module_version": "1.2.0",
      "model_name": "DescriptionStyleModel",
      "state": {
       "description_width": ""
      }
     },
     "c9d2f22345434f8faff5c18311f2fc09": {
      "model_module": "@jupyter-widgets/controls",
      "model_module_version": "1.2.0",
      "model_name": "DescriptionStyleModel",
      "state": {
       "description_width": ""
      }
     },
     "c9faaa3df7ae4050af9239de5ee2e67c": {
      "model_module": "@jupyter-widgets/controls",
      "model_module_version": "1.2.0",
      "model_name": "CheckboxModel",
      "state": {
       "description": "S-Bahn",
       "disabled": false,
       "layout": "IPY_MODEL_e9af3671277e4dfa8a5c5b33d83841e0",
       "style": "IPY_MODEL_882abb07e8454954960c31bdcd1f4d8b",
       "value": false
      }
     },
     "ca0f174214254d4dbc44306dfc4abd69": {
      "model_module": "@jupyter-widgets/base",
      "model_module_version": "1.0.0",
      "model_name": "LayoutModel",
      "state": {
       "justify_content": "center"
      }
     },
     "ca2b652119c143529387b6c882da4f29": {
      "model_module": "@jupyter-widgets/base",
      "model_module_version": "1.0.0",
      "model_name": "LayoutModel",
      "state": {
       "width": "250px"
      }
     },
     "ca2fe426417047b7a12a2e5726b34513": {
      "model_module": "@jupyter-widgets/controls",
      "model_module_version": "1.2.0",
      "model_name": "ButtonStyleModel",
      "state": {}
     },
     "ca5a6eb44e8e43868278f31a4076ced6": {
      "model_module": "@jupyter-widgets/controls",
      "model_module_version": "1.2.0",
      "model_name": "CheckboxModel",
      "state": {
       "description": "älteren",
       "disabled": false,
       "layout": "IPY_MODEL_39ccf7785b274a21991b2dac74361a67",
       "style": "IPY_MODEL_8b1e2ef4473443689fc0f149d108a250",
       "value": false
      }
     },
     "ca6db27e7e7d4ad59b3d42c56d7cdb46": {
      "model_module": "@jupyter-widgets/base",
      "model_module_version": "1.0.0",
      "model_name": "LayoutModel",
      "state": {
       "width": "250px"
      }
     },
     "cad9b2f205934498981ed86274d4f16b": {
      "model_module": "@jupyter-widgets/controls",
      "model_module_version": "1.2.0",
      "model_name": "HTMLModel",
      "state": {
       "layout": "IPY_MODEL_c5a51dab0b5f4791b63b0f97498ce8dd",
       "style": "IPY_MODEL_d74439b6c816423b83cefc5120e7051b",
       "value": "<i>Wählen Sie die <ins>eine</ins> korrekte Antwort aus: </i>"
      }
     },
     "cb2143ebb5af4971a53cbecf1c17e341": {
      "model_module": "@jupyter-widgets/controls",
      "model_module_version": "1.2.0",
      "model_name": "HBoxModel",
      "state": {
       "children": [
        "IPY_MODEL_a2d666371ddd4e91a63763e5e765bc33",
        "IPY_MODEL_df7cf3500ae34dcdb239c131b3b773b6"
       ],
       "layout": "IPY_MODEL_c3905a0f2ffa4aecbe80a9005e6f5512"
      }
     },
     "cb238ba1d82b4c53b731599192e1eaf3": {
      "model_module": "@jupyter-widgets/controls",
      "model_module_version": "1.2.0",
      "model_name": "VBoxModel",
      "state": {
       "children": [
        "IPY_MODEL_ab459fd996224916a9a7d7941125188d",
        "IPY_MODEL_59fca7f5966f49a8b7a99a1c97729c58",
        "IPY_MODEL_521576f9371544b9a7ae13535356ebc2",
        "IPY_MODEL_fafa306e52d942aa8306861efc0e2627",
        "IPY_MODEL_afb3db21890849c8a534a20db920e0c6",
        "IPY_MODEL_19a41147e75d4b1d811a957f1610b9a9",
        "IPY_MODEL_6b3aaa597f8c499ea2bcf668c6a843fe",
        "IPY_MODEL_71dfad87ddb14daabd84f4c54c4e0464",
        "IPY_MODEL_32b71fb8a9f949568ebddbc3b691d954",
        "IPY_MODEL_e4506451f9d544d996e5a51eeedd5449"
       ],
       "layout": "IPY_MODEL_4e491d65d2754334b0e9515a39a80b46"
      }
     },
     "cb8b8c3f6bea4d0cb02417fe26c89c6c": {
      "model_module": "@jupyter-widgets/controls",
      "model_module_version": "1.2.0",
      "model_name": "DescriptionStyleModel",
      "state": {
       "description_width": ""
      }
     },
     "cb8d96fd609e41c5a1d4c95b65217913": {
      "model_module": "@jupyter-widgets/base",
      "model_module_version": "1.0.0",
      "model_name": "LayoutModel",
      "state": {
       "width": "600px"
      }
     },
     "cbf85b76b8cd498993f8f94624bf3dc7": {
      "model_module": "@jupyter-widgets/base",
      "model_module_version": "1.0.0",
      "model_name": "LayoutModel",
      "state": {
       "justify_content": "center"
      }
     },
     "cc4c626af29e4c34970f1a1c9a346bde": {
      "model_module": "@jupyter-widgets/base",
      "model_module_version": "1.0.0",
      "model_name": "LayoutModel",
      "state": {
       "width": "250px"
      }
     },
     "cc791594ae0a4915a5fff9f44cdb7e00": {
      "model_module": "@jupyter-widgets/base",
      "model_module_version": "1.0.0",
      "model_name": "LayoutModel",
      "state": {
       "width": "600px"
      }
     },
     "cc9fbe08203745a0a2bb5bcaf201589f": {
      "model_module": "@jupyter-widgets/controls",
      "model_module_version": "1.2.0",
      "model_name": "CheckboxModel",
      "state": {
       "description": "von",
       "disabled": false,
       "layout": "IPY_MODEL_913a250a52c84d3a914161f05b0be1f7",
       "style": "IPY_MODEL_c7b73feb2fc64cdd81f06e5faecd0a75",
       "value": false
      }
     },
     "cd746a6467dd40e7bda31b223aca562d": {
      "model_module": "@jupyter-widgets/base",
      "model_module_version": "1.0.0",
      "model_name": "LayoutModel",
      "state": {
       "justify_content": "center"
      }
     },
     "cdc4cad9c70f44f0a4ba76abe92349e5": {
      "model_module": "@jupyter-widgets/controls",
      "model_module_version": "1.2.0",
      "model_name": "DescriptionStyleModel",
      "state": {
       "description_width": "initial"
      }
     },
     "cdcf9db1dbb241adacbc684a5967fc3f": {
      "model_module": "@jupyter-widgets/base",
      "model_module_version": "1.0.0",
      "model_name": "LayoutModel",
      "state": {
       "width": "600px"
      }
     },
     "cdd2ea336d5647ceb6b08ef46be8231b": {
      "model_module": "@jupyter-widgets/base",
      "model_module_version": "1.0.0",
      "model_name": "LayoutModel",
      "state": {}
     },
     "cdfcf6aa5ddc42819ad9524e23797747": {
      "model_module": "@jupyter-widgets/controls",
      "model_module_version": "1.2.0",
      "model_name": "HBoxModel",
      "state": {
       "children": [
        "IPY_MODEL_5892baec7d674ba7b67b9cedffd7c267",
        "IPY_MODEL_7a19a4750211488a964bd38e3b00ce6c"
       ],
       "layout": "IPY_MODEL_742f191b20ae46498cb0a05fad3c250b"
      }
     },
     "ce1568726f9541ebb93073943d6c3ff1": {
      "model_module": "@jupyter-widgets/controls",
      "model_module_version": "1.2.0",
      "model_name": "ButtonModel",
      "state": {
       "description": "Korrekt?",
       "layout": "IPY_MODEL_25a66e2f557044bfbf3e5d92ea911df6",
       "style": "IPY_MODEL_3e6d8935a6384e4c83f3709382ff0c72"
      }
     },
     "ce2192819f0e47248bc8e333dc841ba8": {
      "model_module": "@jupyter-widgets/controls",
      "model_module_version": "1.2.0",
      "model_name": "ButtonStyleModel",
      "state": {}
     },
     "ce33507bcab04e6b825b5298009c21a4": {
      "model_module": "@jupyter-widgets/base",
      "model_module_version": "1.0.0",
      "model_name": "LayoutModel",
      "state": {
       "width": "600px"
      }
     },
     "ce360a3dff364a22b46bcce93fb071ff": {
      "model_module": "@jupyter-widgets/controls",
      "model_module_version": "1.2.0",
      "model_name": "ButtonStyleModel",
      "state": {}
     },
     "ce7715fe8d764a84be712e1c15323eeb": {
      "model_module": "@jupyter-widgets/controls",
      "model_module_version": "1.2.0",
      "model_name": "ButtonModel",
      "state": {
       "description": "amod",
       "layout": "IPY_MODEL_c987b72ec4f243e2a420a43751d4f614",
       "style": "IPY_MODEL_9b7c42b61b8f47ac9d515586a0da681f"
      }
     },
     "ce9ea72a0b694b84b7777de7d2d2e5f0": {
      "model_module": "@jupyter-widgets/controls",
      "model_module_version": "1.2.0",
      "model_name": "ButtonModel",
      "state": {
       "description": "fakultative Ergänzung",
       "layout": "IPY_MODEL_7bb93482f9da4727babbc4de993d082f",
       "style": "IPY_MODEL_00e8039f457d4bc6a7871805813cac60"
      }
     },
     "ceaf91c7e8d743749774760f1428f5c1": {
      "model_module": "@jupyter-widgets/controls",
      "model_module_version": "1.2.0",
      "model_name": "HTMLModel",
      "state": {
       "layout": "IPY_MODEL_dba9c8f179d648448b9255352e6cd0e0",
       "style": "IPY_MODEL_a2e11d406b034e1b9f2f24c869cfad91",
       "value": "<h4 style=\"font-size:14px;\">Markieren Sie alle direkten Dependenten des Wortes <i> fährt </i>.</h4>"
      }
     },
     "ced508b4d161456ca0e9355140d10fac": {
      "model_module": "@jupyter-widgets/base",
      "model_module_version": "1.0.0",
      "model_name": "LayoutModel",
      "state": {
       "width": "150px"
      }
     },
     "cf38413bc1dc4e6d97364ca89e813e09": {
      "model_module": "@jupyter-widgets/base",
      "model_module_version": "1.0.0",
      "model_name": "LayoutModel",
      "state": {
       "width": "250px"
      }
     },
     "cf3ca607170a4669bf0d63dc8ff8fbc7": {
      "model_module": "@jupyter-widgets/controls",
      "model_module_version": "1.2.0",
      "model_name": "HBoxModel",
      "state": {
       "children": [
        "IPY_MODEL_38877b74bec04a55a71e6666ace2ee63",
        "IPY_MODEL_2d8567aa0f8a4f229b3169390046112b"
       ],
       "layout": "IPY_MODEL_eba77c4062cb4959bf06efea9d401fd7"
      }
     },
     "cf65cfca8b854c66871a4c449f0b86cd": {
      "model_module": "@jupyter-widgets/base",
      "model_module_version": "1.0.0",
      "model_name": "LayoutModel",
      "state": {
       "width": "600px"
      }
     },
     "cffe6a36cff7465896f624a4eb8990e6": {
      "model_module": "@jupyter-widgets/controls",
      "model_module_version": "1.2.0",
      "model_name": "DescriptionStyleModel",
      "state": {
       "description_width": "initial"
      }
     },
     "d01ce2eb04934165b5caa0a9f996dccc": {
      "model_module": "@jupyter-widgets/controls",
      "model_module_version": "1.2.0",
      "model_name": "DescriptionStyleModel",
      "state": {
       "description_width": ""
      }
     },
     "d0488eea8f7f4dd18b7268315dc9bb91": {
      "model_module": "@jupyter-widgets/controls",
      "model_module_version": "1.2.0",
      "model_name": "ButtonModel",
      "state": {
       "description": "amod",
       "layout": "IPY_MODEL_a0ec36c9d3f843afb109c751f1007e8b",
       "style": "IPY_MODEL_7502f35da9b641f49bd937bcf255a0d2"
      }
     },
     "d0787d65687a4df8822c5188f73ff3d6": {
      "model_module": "@jupyter-widgets/controls",
      "model_module_version": "1.2.0",
      "model_name": "CheckboxModel",
      "state": {
       "description": "älteren",
       "disabled": false,
       "layout": "IPY_MODEL_5372c7239c07420a9f104785dfc4a064",
       "style": "IPY_MODEL_6def2622ad824d68acf849632b7830d8",
       "value": false
      }
     },
     "d07b8f4cab0f47a18ec3450368adeb70": {
      "model_module": "@jupyter-widgets/controls",
      "model_module_version": "1.2.0",
      "model_name": "ButtonStyleModel",
      "state": {}
     },
     "d0cf627ecdc748669200383b452abf72": {
      "model_module": "@jupyter-widgets/controls",
      "model_module_version": "1.2.0",
      "model_name": "ButtonModel",
      "state": {
       "description": "pcomp",
       "layout": "IPY_MODEL_8873f20eef9440bcbc5776b6946817a9",
       "style": "IPY_MODEL_7a8a2fbb4c2e4002b501f5348e9bab62"
      }
     },
     "d0d250d8c0b14ca2bb126ca843488e51": {
      "model_module": "@jupyter-widgets/base",
      "model_module_version": "1.0.0",
      "model_name": "LayoutModel",
      "state": {}
     },
     "d0d68a0f10b840bb84c8ebbe6e044096": {
      "model_module": "@jupyter-widgets/base",
      "model_module_version": "1.0.0",
      "model_name": "LayoutModel",
      "state": {
       "width": "250px"
      }
     },
     "d10f16d25342423a84eb623b9f3c86eb": {
      "model_module": "@jupyter-widgets/controls",
      "model_module_version": "1.2.0",
      "model_name": "ButtonStyleModel",
      "state": {}
     },
     "d11cf4a98b14483ebf13d5e9eac34e6e": {
      "model_module": "@jupyter-widgets/controls",
      "model_module_version": "1.2.0",
      "model_name": "ButtonStyleModel",
      "state": {}
     },
     "d133e5a39ad24291bb3cd7a9f30757d3": {
      "model_module": "@jupyter-widgets/base",
      "model_module_version": "1.0.0",
      "model_name": "LayoutModel",
      "state": {
       "width": "250px"
      }
     },
     "d161f521a37947309eeb9cd59e555a73": {
      "model_module": "@jupyter-widgets/controls",
      "model_module_version": "1.2.0",
      "model_name": "DescriptionStyleModel",
      "state": {
       "description_width": "initial"
      }
     },
     "d165d3e819ce4267a36bc4767f256ba3": {
      "model_module": "@jupyter-widgets/base",
      "model_module_version": "1.0.0",
      "model_name": "LayoutModel",
      "state": {}
     },
     "d1e6d3f04b2d4908b3b268439d165c02": {
      "model_module": "@jupyter-widgets/controls",
      "model_module_version": "1.2.0",
      "model_name": "DescriptionStyleModel",
      "state": {
       "description_width": "initial"
      }
     },
     "d1e92db299a942b49ed9f1d50a209189": {
      "model_module": "@jupyter-widgets/controls",
      "model_module_version": "1.2.0",
      "model_name": "DescriptionStyleModel",
      "state": {
       "description_width": "initial"
      }
     },
     "d216df4d036a41949357ad9527a81160": {
      "model_module": "@jupyter-widgets/controls",
      "model_module_version": "1.2.0",
      "model_name": "ButtonModel",
      "state": {
       "description": "advmod",
       "layout": "IPY_MODEL_74d04cb2bb41497ca9860b0be9a4f12a",
       "style": "IPY_MODEL_720cde79f269475d8362c443393ee710"
      }
     },
     "d218914365864d5b88c273f47c5694b5": {
      "model_module": "@jupyter-widgets/base",
      "model_module_version": "1.0.0",
      "model_name": "LayoutModel",
      "state": {
       "width": "250px"
      }
     },
     "d23752b7a37349a3874bd74a69d37279": {
      "model_module": "@jupyter-widgets/base",
      "model_module_version": "1.0.0",
      "model_name": "LayoutModel",
      "state": {
       "justify_content": "center"
      }
     },
     "d24562d1193c4f1c81d7ac1ea45c0223": {
      "model_module": "@jupyter-widgets/base",
      "model_module_version": "1.0.0",
      "model_name": "LayoutModel",
      "state": {}
     },
     "d28437781a0c4422b3352daf72aa0316": {
      "model_module": "@jupyter-widgets/base",
      "model_module_version": "1.0.0",
      "model_name": "LayoutModel",
      "state": {
       "width": "250px"
      }
     },
     "d298880b167a48f8a9ece69432342b94": {
      "model_module": "@jupyter-widgets/base",
      "model_module_version": "1.0.0",
      "model_name": "LayoutModel",
      "state": {
       "width": "600px"
      }
     },
     "d2b3c713d7194d6cadea8b7b731ad057": {
      "model_module": "@jupyter-widgets/base",
      "model_module_version": "1.0.0",
      "model_name": "LayoutModel",
      "state": {
       "width": "600px"
      }
     },
     "d2cf796632374c9b8bca2c2fcdb360c1": {
      "model_module": "@jupyter-widgets/controls",
      "model_module_version": "1.2.0",
      "model_name": "HTMLModel",
      "state": {
       "layout": "IPY_MODEL_84f77e425838473ca5e8157d1bbc79ad",
       "style": "IPY_MODEL_31e67ff01afe4ff5b2daaf994669da79",
       "value": "<h4 style=\"font-size:14px;\">Wie läßt sich die Einführung von einem Nicht-Terminal TV für transitive Verben (usw.) interpretieren?</h4>"
      }
     },
     "d2d0a3dfe2054b3d922fd7e8b0a9c702": {
      "model_module": "@jupyter-widgets/controls",
      "model_module_version": "1.2.0",
      "model_name": "DropdownModel",
      "state": {
       "_options_labels": [
        "Objekt",
        "Subjekt",
        " "
       ],
       "index": 2,
       "layout": "IPY_MODEL_6821afdf4c95425a8af381e68e72b25d",
       "style": "IPY_MODEL_e212c944f04c478fb90552dbea135e9f"
      }
     },
     "d2de056e1194405bb98d285b05facd26": {
      "model_module": "@jupyter-widgets/controls",
      "model_module_version": "1.2.0",
      "model_name": "VBoxModel",
      "state": {
       "children": [
        "IPY_MODEL_36086c38ba0342a3886f136350f6d16a",
        "IPY_MODEL_201aebf8750642a29e7057730dd92f60",
        "IPY_MODEL_7a65110d0697466399a1f5556b25cf97",
        "IPY_MODEL_8938493b718e474f9a8a33caeae65a35",
        "IPY_MODEL_3f9249ca730f4e1395c8d8ff4ed77666"
       ],
       "layout": "IPY_MODEL_8beab43448914895bfa44adea16eee3a"
      }
     },
     "d2e8dc602e2148ebb7b8e114ccf9a07f": {
      "model_module": "@jupyter-widgets/base",
      "model_module_version": "1.0.0",
      "model_name": "LayoutModel",
      "state": {
       "width": "600px"
      }
     },
     "d2f0784db38c4355bd5fa2c56e5fad6f": {
      "model_module": "@jupyter-widgets/base",
      "model_module_version": "1.0.0",
      "model_name": "LayoutModel",
      "state": {
       "width": "600px"
      }
     },
     "d2f0dada4d8e41738272252b421a49d3": {
      "model_module": "@jupyter-widgets/controls",
      "model_module_version": "1.2.0",
      "model_name": "DescriptionStyleModel",
      "state": {
       "description_width": "initial"
      }
     },
     "d2f49bc7b01349d590714a6e4e72e433": {
      "model_module": "@jupyter-widgets/controls",
      "model_module_version": "1.2.0",
      "model_name": "DescriptionStyleModel",
      "state": {
       "description_width": ""
      }
     },
     "d360e2d1449b46009a80cfb3c40924bb": {
      "model_module": "@jupyter-widgets/controls",
      "model_module_version": "1.2.0",
      "model_name": "VBoxModel",
      "state": {
       "children": [
        "IPY_MODEL_7c224964be7c452e82cb397539fc8927",
        "IPY_MODEL_e4b52cc7fb0541d9a666afd06a73eb0a",
        "IPY_MODEL_6b9a26b295414393a3a4ec4bd27e7d6e",
        "IPY_MODEL_e68e69bb60da4024bb5151294ce32406"
       ],
       "layout": "IPY_MODEL_479a1d674f4f448d989820303f84543d"
      }
     },
     "d3712e8df52f4e4587e77d2b80b77c95": {
      "model_module": "@jupyter-widgets/controls",
      "model_module_version": "1.2.0",
      "model_name": "ButtonModel",
      "state": {
       "description": "Adjektivattribut",
       "layout": "IPY_MODEL_a751986eb6444a4b9d59f4beae6dfc0a",
       "style": "IPY_MODEL_41613dadb20346868f90fb8da969ac00"
      }
     },
     "d38f32fa921243c4a1a073b3eb9623bb": {
      "model_module": "@jupyter-widgets/base",
      "model_module_version": "1.0.0",
      "model_name": "LayoutModel",
      "state": {
       "width": "250px"
      }
     },
     "d3c3d47b8d964dd5a7653e3049133a3a": {
      "model_module": "@jupyter-widgets/controls",
      "model_module_version": "1.2.0",
      "model_name": "ButtonStyleModel",
      "state": {}
     },
     "d408a748cc8b47c7b8e892fc489a8ba9": {
      "model_module": "@jupyter-widgets/controls",
      "model_module_version": "1.2.0",
      "model_name": "ButtonModel",
      "state": {
       "description": "Ergänzung",
       "layout": "IPY_MODEL_453b7ef1291e4e57b49969032176eef5",
       "style": "IPY_MODEL_7a76c58241a34b84bb712ff62914241b"
      }
     },
     "d41a9355755245acb2283ca030e17e4b": {
      "model_module": "@jupyter-widgets/base",
      "model_module_version": "1.0.0",
      "model_name": "LayoutModel",
      "state": {
       "width": "600px"
      }
     },
     "d45adee9e91b41be859eac56c9099240": {
      "model_module": "@jupyter-widgets/base",
      "model_module_version": "1.0.0",
      "model_name": "LayoutModel",
      "state": {
       "width": "150px"
      }
     },
     "d45b4b60bfc648a5af21dc7cdacea632": {
      "model_module": "@jupyter-widgets/controls",
      "model_module_version": "1.2.0",
      "model_name": "DescriptionStyleModel",
      "state": {
       "description_width": ""
      }
     },
     "d4914c0084a1415583f62511dc76289b": {
      "model_module": "@jupyter-widgets/controls",
      "model_module_version": "1.2.0",
      "model_name": "HBoxModel",
      "state": {
       "children": [
        "IPY_MODEL_3145cbd3a6e8479e836287450f6dd903",
        "IPY_MODEL_ce7715fe8d764a84be712e1c15323eeb"
       ],
       "layout": "IPY_MODEL_669090f178e744ae96a65ecdd2f93a24"
      }
     },
     "d4b1fc5073b441549e186b7cb15a448c": {
      "model_module": "@jupyter-widgets/controls",
      "model_module_version": "1.2.0",
      "model_name": "DescriptionStyleModel",
      "state": {
       "description_width": "initial"
      }
     },
     "d4b430b839b7456b924e5f9c53ada20d": {
      "model_module": "@jupyter-widgets/base",
      "model_module_version": "1.0.0",
      "model_name": "LayoutModel",
      "state": {
       "width": "600px"
      }
     },
     "d4b85286e7da410fa3cb21c9a0ab76d6": {
      "model_module": "@jupyter-widgets/base",
      "model_module_version": "1.0.0",
      "model_name": "LayoutModel",
      "state": {
       "width": "150px"
      }
     },
     "d4d8a048ec9f448f96ef0c83cfdf39aa": {
      "model_module": "@jupyter-widgets/controls",
      "model_module_version": "1.2.0",
      "model_name": "ButtonModel",
      "state": {
       "description": "fakultative Ergänzung",
       "layout": "IPY_MODEL_9336784dea954e68a306990958020120",
       "style": "IPY_MODEL_8714588da1954c92850889e8c8765c2a"
      }
     },
     "d4f8921335434c9a83fcab263cb91377": {
      "model_module": "@jupyter-widgets/base",
      "model_module_version": "1.0.0",
      "model_name": "LayoutModel",
      "state": {
       "justify_content": "center"
      }
     },
     "d50ed30359624515a888b17837a817b5": {
      "model_module": "@jupyter-widgets/controls",
      "model_module_version": "1.2.0",
      "model_name": "VBoxModel",
      "state": {
       "children": [
        "IPY_MODEL_66d74b5e2dd84690b004dab2a467075c",
        "IPY_MODEL_5109d319da844d6a83bf681db1406d0b",
        "IPY_MODEL_dd4930ac768c4041af5f4065e0c7b86f"
       ],
       "layout": "IPY_MODEL_7bea3e3ef6514eb09a47e01596cbd634"
      }
     },
     "d51a5dd0e66a48188ad6ad516044378e": {
      "model_module": "@jupyter-widgets/base",
      "model_module_version": "1.0.0",
      "model_name": "LayoutModel",
      "state": {}
     },
     "d5333d73996442a8a4f107c143cabb1b": {
      "model_module": "@jupyter-widgets/controls",
      "model_module_version": "1.2.0",
      "model_name": "ButtonModel",
      "state": {
       "description": "amod",
       "layout": "IPY_MODEL_7e25fad45b3843bf94138b928e6c2cd3",
       "style": "IPY_MODEL_baf4fa9c2a654e2c91c4cc5ad66e953d"
      }
     },
     "d591f540990148f8a94e8d4ab48e1e4c": {
      "model_module": "@jupyter-widgets/controls",
      "model_module_version": "1.2.0",
      "model_name": "ButtonModel",
      "state": {
       "description": "kasusmarkiert",
       "layout": "IPY_MODEL_1ea5f9de95e543b6852fa1f4005a6c17",
       "style": "IPY_MODEL_601d3c73c4344a99a0e03d387818e69e"
      }
     },
     "d5a59923d3bb460aa44d8c383516cd4b": {
      "model_module": "@jupyter-widgets/controls",
      "model_module_version": "1.2.0",
      "model_name": "CheckboxModel",
      "state": {
       "description": "Es gibt keine.",
       "disabled": false,
       "layout": "IPY_MODEL_aefe909eb9a84e968df6e5f96e4f934c",
       "style": "IPY_MODEL_6302cb66ef894d53bd52c190045531f3",
       "value": false
      }
     },
     "d5ca080f76c64c1eace923e53d57045e": {
      "model_module": "@jupyter-widgets/controls",
      "model_module_version": "1.2.0",
      "model_name": "ButtonModel",
      "state": {
       "description": "Nein",
       "layout": "IPY_MODEL_dbd042106d15437391ac2d1e8d4817fd",
       "style": "IPY_MODEL_18ab3cce5ffa49f5954f33a0f7f06470"
      }
     },
     "d5cd3703491b430281090c287afc728f": {
      "model_module": "@jupyter-widgets/controls",
      "model_module_version": "1.2.0",
      "model_name": "HBoxModel",
      "state": {
       "children": [
        "IPY_MODEL_bdedb4ffec3c4d9d9eac93b0538df486",
        "IPY_MODEL_ac7fd2b8a9b34fe5a0650a9cea28cd7e"
       ],
       "layout": "IPY_MODEL_37b9680a20884d1b9922428ef41e1dde"
      }
     },
     "d5dc83de4a3047faaa05c86ffd7c64bd": {
      "model_module": "@jupyter-widgets/base",
      "model_module_version": "1.0.0",
      "model_name": "LayoutModel",
      "state": {
       "width": "250px"
      }
     },
     "d5f5f210643c444d9801d22997e9662f": {
      "model_module": "@jupyter-widgets/controls",
      "model_module_version": "1.2.0",
      "model_name": "ButtonModel",
      "state": {
       "description": "det",
       "layout": "IPY_MODEL_07ee66ed030c46e2a2d5e17f6d54ecd6",
       "style": "IPY_MODEL_396d0b2b5e1b419ebef83724610a1b7e"
      }
     },
     "d6025f51d4974913ae40ef3782a82374": {
      "model_module": "@jupyter-widgets/controls",
      "model_module_version": "1.2.0",
      "model_name": "VBoxModel",
      "state": {
       "children": [
        "IPY_MODEL_78ea285af02f4c058e9f0c47be21cb7e",
        "IPY_MODEL_9b95b43cba944388b790aeb716588800",
        "IPY_MODEL_961a5b8eceb746629e853bca3dacd695"
       ],
       "layout": "IPY_MODEL_fe2c95b9d7974bee945209ff20910995"
      }
     },
     "d626a234807c444fa695bb4d585ccea5": {
      "model_module": "@jupyter-widgets/controls",
      "model_module_version": "1.2.0",
      "model_name": "DescriptionStyleModel",
      "state": {
       "description_width": ""
      }
     },
     "d64d1511098540029972a76ae2eb7587": {
      "model_module": "@jupyter-widgets/controls",
      "model_module_version": "1.2.0",
      "model_name": "ButtonStyleModel",
      "state": {}
     },
     "d68a1587a1c64f81b696629aa53aa1e0": {
      "model_module": "@jupyter-widgets/base",
      "model_module_version": "1.0.0",
      "model_name": "LayoutModel",
      "state": {
       "justify_content": "center"
      }
     },
     "d6a52412db0948f18604cbcf361528bf": {
      "model_module": "@jupyter-widgets/base",
      "model_module_version": "1.0.0",
      "model_name": "LayoutModel",
      "state": {}
     },
     "d6b86fd89b364dfb9631a27563b7dc9b": {
      "model_module": "@jupyter-widgets/controls",
      "model_module_version": "1.2.0",
      "model_name": "HBoxModel",
      "state": {
       "children": [
        "IPY_MODEL_31f5caf0de5c42cd806ed8ff7b9bfbfe",
        "IPY_MODEL_d0488eea8f7f4dd18b7268315dc9bb91"
       ],
       "layout": "IPY_MODEL_2114755a152e4b96b2d748ddf6fe4e48"
      }
     },
     "d6f6c2f850cd4c209350d641b8520685": {
      "model_module": "@jupyter-widgets/controls",
      "model_module_version": "1.2.0",
      "model_name": "CheckboxModel",
      "state": {
       "description": "H und D sind optional",
       "disabled": false,
       "layout": "IPY_MODEL_ec582dc442a84ef08e7c444716fb9ad3",
       "style": "IPY_MODEL_a38006f243a1444b97188bf3b871539b",
       "value": false
      }
     },
     "d6fee293ae14453bb2579364697ced6d": {
      "model_module": "@jupyter-widgets/base",
      "model_module_version": "1.0.0",
      "model_name": "LayoutModel",
      "state": {
       "width": "250px"
      }
     },
     "d73fc4c6b4d74210b9bd3e568ad5b4ed": {
      "model_module": "@jupyter-widgets/base",
      "model_module_version": "1.0.0",
      "model_name": "LayoutModel",
      "state": {
       "align_content": "stretch",
       "align_items": "stretch",
       "display": "inline-flex",
       "flex": "flex-grow",
       "flex_flow": "row wrap",
       "justify_content": "flex-start"
      }
     },
     "d74439b6c816423b83cefc5120e7051b": {
      "model_module": "@jupyter-widgets/controls",
      "model_module_version": "1.2.0",
      "model_name": "DescriptionStyleModel",
      "state": {
       "description_width": ""
      }
     },
     "d74ddaa9458a4be5b932a95c9e50e936": {
      "model_module": "@jupyter-widgets/base",
      "model_module_version": "1.0.0",
      "model_name": "LayoutModel",
      "state": {}
     },
     "d75d4a4a2a154e8193efe54c3c461281": {
      "model_module": "@jupyter-widgets/controls",
      "model_module_version": "1.2.0",
      "model_name": "CheckboxModel",
      "state": {
       "description": "Es gibt keine.",
       "disabled": false,
       "layout": "IPY_MODEL_40b86bedeac2460c8636622a4fd7c545",
       "style": "IPY_MODEL_7fc739551937427498d6a5b27f2773a4",
       "value": false
      }
     },
     "d7ae0ff8b74b4d9ea00acadb07cb4b9e": {
      "model_module": "@jupyter-widgets/controls",
      "model_module_version": "1.2.0",
      "model_name": "DescriptionStyleModel",
      "state": {
       "description_width": "initial"
      }
     },
     "d80edbbd1ce64619a7c92e8c6da9139c": {
      "model_module": "@jupyter-widgets/controls",
      "model_module_version": "1.2.0",
      "model_name": "DescriptionStyleModel",
      "state": {
       "description_width": ""
      }
     },
     "d8221188ed0b4bd5b0055afe029eb345": {
      "model_module": "@jupyter-widgets/base",
      "model_module_version": "1.0.0",
      "model_name": "LayoutModel",
      "state": {
       "width": "250px"
      }
     },
     "d82dc99e5cbb4200addc45d359a3ff7b": {
      "model_module": "@jupyter-widgets/base",
      "model_module_version": "1.0.0",
      "model_name": "LayoutModel",
      "state": {}
     },
     "d872d91892a04db9a3833880bfbb1ad1": {
      "model_module": "@jupyter-widgets/base",
      "model_module_version": "1.0.0",
      "model_name": "LayoutModel",
      "state": {
       "width": "600px"
      }
     },
     "d87b31fed9e5461da9be3d6247d4f5c5": {
      "model_module": "@jupyter-widgets/base",
      "model_module_version": "1.0.0",
      "model_name": "LayoutModel",
      "state": {
       "width": "600px"
      }
     },
     "d8b23d0410f64387bbb74db031176e8c": {
      "model_module": "@jupyter-widgets/controls",
      "model_module_version": "1.2.0",
      "model_name": "ButtonModel",
      "state": {
       "description": "amod",
       "layout": "IPY_MODEL_4109b744bc1143439d22af9fc13c39d9",
       "style": "IPY_MODEL_c9c35feed62a4fe29a4bae0beb97b1f3"
      }
     },
     "d8cf45f014ae4fb8856726380192ae0e": {
      "model_module": "@jupyter-widgets/base",
      "model_module_version": "1.0.0",
      "model_name": "LayoutModel",
      "state": {
       "width": "250px"
      }
     },
     "d8e1a00199b9453c88fffba81413ee8a": {
      "model_module": "@jupyter-widgets/controls",
      "model_module_version": "1.2.0",
      "model_name": "HTMLModel",
      "state": {
       "layout": "IPY_MODEL_75fcb5f37a124e3aa76004dd8b230978",
       "style": "IPY_MODEL_c1f806fe37a045d0b77256c1bb32fe9d",
       "value": "<i>Markieren Sie <ins>alle</ins> passenden Antworten: </i>"
      }
     },
     "d8e8028e4cd248df95130a41e2330e11": {
      "model_module": "@jupyter-widgets/controls",
      "model_module_version": "1.2.0",
      "model_name": "VBoxModel",
      "state": {
       "children": [
        "IPY_MODEL_8bfe21a3f35a458587dc17b4f65ebb05",
        "IPY_MODEL_831f25ebb92242468887f153d1347c32",
        "IPY_MODEL_fdd35cb4727c40a9abfd6e619eb2078d",
        "IPY_MODEL_0ed200f1850e4dec9ba75b664d2938ab"
       ],
       "layout": "IPY_MODEL_a7a748529e5e404887ebc4bf4e8e972a"
      }
     },
     "d8fcd38ad32e41cca559929ae7e764ab": {
      "model_module": "@jupyter-widgets/controls",
      "model_module_version": "1.2.0",
      "model_name": "VBoxModel",
      "state": {
       "children": [
        "IPY_MODEL_e43564b524b24fc4b5b1e26ed66a1b31",
        "IPY_MODEL_388c43adbbf345b0afbcbf66cfc04f95",
        "IPY_MODEL_7b455fc4e5ed4f1381f3eca9e6a76d0e",
        "IPY_MODEL_8919894475c941aebaf9fde63a239836"
       ],
       "layout": "IPY_MODEL_bcf1261cda4644b491a9f7cc23205309"
      }
     },
     "d92149f13b834656b233c740273370c1": {
      "model_module": "@jupyter-widgets/controls",
      "model_module_version": "1.2.0",
      "model_name": "ButtonStyleModel",
      "state": {}
     },
     "d929273e30184d6d859ae6e5ef4573ab": {
      "model_module": "@jupyter-widgets/controls",
      "model_module_version": "1.2.0",
      "model_name": "HBoxModel",
      "state": {
       "children": [
        "IPY_MODEL_1ec2ba4c298d43b5970e2e7624c3226b",
        "IPY_MODEL_a802a8a80b0a41eeaacdbd553af25daf"
       ],
       "layout": "IPY_MODEL_561a6228483248c2b4ad8d855caf4601"
      }
     },
     "d96a96a173834b9facbdc812d854a939": {
      "model_module": "@jupyter-widgets/controls",
      "model_module_version": "1.2.0",
      "model_name": "DescriptionStyleModel",
      "state": {
       "description_width": "initial"
      }
     },
     "d970c4092a1342d586c7a423f208f60c": {
      "model_module": "@jupyter-widgets/controls",
      "model_module_version": "1.2.0",
      "model_name": "ButtonStyleModel",
      "state": {}
     },
     "d98f81ea4a9d4b9dba53ab7e7588a35b": {
      "model_module": "@jupyter-widgets/base",
      "model_module_version": "1.0.0",
      "model_name": "LayoutModel",
      "state": {
       "width": "600px"
      }
     },
     "d99d2ce7085a48c2a0e4410b5ac43cc3": {
      "model_module": "@jupyter-widgets/base",
      "model_module_version": "1.0.0",
      "model_name": "LayoutModel",
      "state": {
       "width": "250px"
      }
     },
     "d9afc4db961d4fefac33f5887d4ae21c": {
      "model_module": "@jupyter-widgets/controls",
      "model_module_version": "1.2.0",
      "model_name": "HTMLModel",
      "state": {
       "layout": "IPY_MODEL_77e0460445b04e5f98cc7999e71d16a5",
       "style": "IPY_MODEL_b5979546b71c4c06936e92b54eae5aeb",
       "value": "<i>Wählen Sie die <ins>eine</ins> korrekte Antwort aus: </i>"
      }
     },
     "d9c6dc06583c44edb84d76d1098a7b91": {
      "model_module": "@jupyter-widgets/controls",
      "model_module_version": "1.2.0",
      "model_name": "ButtonModel",
      "state": {
       "description": "Keine",
       "layout": "IPY_MODEL_8c4981a01575414a8b27d64551c6dd5b",
       "style": "IPY_MODEL_be0f20f7685d44fea2337cd0df16f761"
      }
     },
     "d9f7460c86874d7fafc96bb4797497d0": {
      "model_module": "@jupyter-widgets/controls",
      "model_module_version": "1.2.0",
      "model_name": "ButtonStyleModel",
      "state": {}
     },
     "da21b41df0d84049b6a83cf35dd1b1a7": {
      "model_module": "@jupyter-widgets/base",
      "model_module_version": "1.0.0",
      "model_name": "LayoutModel",
      "state": {
       "justify_content": "center"
      }
     },
     "da34b83120334584a39cbe298fcdd0e2": {
      "model_module": "@jupyter-widgets/controls",
      "model_module_version": "1.2.0",
      "model_name": "DescriptionStyleModel",
      "state": {
       "description_width": "initial"
      }
     },
     "da38b211215a441888652d45f2bc603e": {
      "model_module": "@jupyter-widgets/controls",
      "model_module_version": "1.2.0",
      "model_name": "DescriptionStyleModel",
      "state": {
       "description_width": ""
      }
     },
     "daab818998d34010ae0c93692e00cc2f": {
      "model_module": "@jupyter-widgets/base",
      "model_module_version": "1.0.0",
      "model_name": "LayoutModel",
      "state": {
       "width": "600px"
      }
     },
     "daaead37d0d54142a65b1259e307777a": {
      "model_module": "@jupyter-widgets/controls",
      "model_module_version": "1.2.0",
      "model_name": "ButtonModel",
      "state": {
       "description": "nummod",
       "layout": "IPY_MODEL_504c9360969f421ca9618330933c2541",
       "style": "IPY_MODEL_fd7adb8ab786423e8f8812f1b1d62736"
      }
     },
     "daf3d6f1b95b4d66987ae0b5c1270705": {
      "model_module": "@jupyter-widgets/base",
      "model_module_version": "1.0.0",
      "model_name": "LayoutModel",
      "state": {}
     },
     "db4a1938ae3c4e8a994652f27da79a26": {
      "model_module": "@jupyter-widgets/base",
      "model_module_version": "1.0.0",
      "model_name": "LayoutModel",
      "state": {
       "width": "600px"
      }
     },
     "db502dd402f144dab10b5826f983dc78": {
      "model_module": "@jupyter-widgets/base",
      "model_module_version": "1.0.0",
      "model_name": "LayoutModel",
      "state": {
       "justify_content": "center"
      }
     },
     "db5ffaf188884d5c988dcaf875cd1537": {
      "model_module": "@jupyter-widgets/controls",
      "model_module_version": "1.2.0",
      "model_name": "VBoxModel",
      "state": {
       "children": [
        "IPY_MODEL_439ea6865d694b68bc154b08721d6302",
        "IPY_MODEL_fb9a384799524dbfb40288d89dd88708",
        "IPY_MODEL_03c4eb0b291b43e580b7e38a40970349",
        "IPY_MODEL_c29696c9df884750bee33053c6697452"
       ],
       "layout": "IPY_MODEL_5a5c0ebf93ab45fea0b5695c43f1f31a"
      }
     },
     "db792ca3b450474ba6a4fa1dcfb698a4": {
      "model_module": "@jupyter-widgets/controls",
      "model_module_version": "1.2.0",
      "model_name": "DescriptionStyleModel",
      "state": {
       "description_width": ""
      }
     },
     "dba9c8f179d648448b9255352e6cd0e0": {
      "model_module": "@jupyter-widgets/base",
      "model_module_version": "1.0.0",
      "model_name": "LayoutModel",
      "state": {}
     },
     "dbad92a247704a4fb7b11fb02d891e37": {
      "model_module": "@jupyter-widgets/controls",
      "model_module_version": "1.2.0",
      "model_name": "VBoxModel",
      "state": {
       "children": [
        "IPY_MODEL_d2cf796632374c9b8bca2c2fcdb360c1",
        "IPY_MODEL_6299deb307f248c3b3d1d34287583514",
        "IPY_MODEL_54533b62660649cab207f35840191a8e",
        "IPY_MODEL_b32610515ee64814a157250868594241"
       ],
       "layout": "IPY_MODEL_23714da6d19b4144a287ebda98a9b564"
      }
     },
     "dbd042106d15437391ac2d1e8d4817fd": {
      "model_module": "@jupyter-widgets/base",
      "model_module_version": "1.0.0",
      "model_name": "LayoutModel",
      "state": {
       "width": "250px"
      }
     },
     "dc4fd82449ed4af0ac25fd74aa7bff46": {
      "model_module": "@jupyter-widgets/base",
      "model_module_version": "1.0.0",
      "model_name": "LayoutModel",
      "state": {}
     },
     "dc6bdca0ee274daeb276f6da81350020": {
      "model_module": "@jupyter-widgets/base",
      "model_module_version": "1.0.0",
      "model_name": "LayoutModel",
      "state": {
       "justify_content": "center"
      }
     },
     "dc87f3a6914646e59a053718cb949621": {
      "model_module": "@jupyter-widgets/controls",
      "model_module_version": "1.2.0",
      "model_name": "ButtonModel",
      "state": {
       "description": "Genitivattribut",
       "layout": "IPY_MODEL_eee8cda2f53a4f4587e276af4aae3f0b",
       "style": "IPY_MODEL_eab73db293af49ec832c03c78fce5bda"
      }
     },
     "dc9030ceb21042f5a21f9dcba9b2e273": {
      "model_module": "@jupyter-widgets/controls",
      "model_module_version": "1.2.0",
      "model_name": "DescriptionStyleModel",
      "state": {
       "description_width": "initial"
      }
     },
     "dccba18bf8dd42298bdb522a7676ae1e": {
      "model_module": "@jupyter-widgets/controls",
      "model_module_version": "1.2.0",
      "model_name": "CheckboxModel",
      "state": {
       "description": "Es gibt keine.",
       "disabled": false,
       "layout": "IPY_MODEL_1fae1bb214904e68ad5ae0ff56563832",
       "style": "IPY_MODEL_9ab31b0c87c1488e9b1fb41afe30247b",
       "value": false
      }
     },
     "dcd9e5f8f176421eba6229acdd04eb5f": {
      "model_module": "@jupyter-widgets/base",
      "model_module_version": "1.0.0",
      "model_name": "LayoutModel",
      "state": {
       "width": "250px"
      }
     },
     "dcee541a37cd491f9cf86db460aad2d9": {
      "model_module": "@jupyter-widgets/controls",
      "model_module_version": "1.2.0",
      "model_name": "ButtonModel",
      "state": {
       "description": "amod",
       "layout": "IPY_MODEL_12bb8d4d8ec84cfeaff11160c6784938",
       "style": "IPY_MODEL_43bae793e9ce4971bfec2254f8ad2471"
      }
     },
     "dcff2ff54e6944f7becba3e1c7d137f4": {
      "model_module": "@jupyter-widgets/controls",
      "model_module_version": "1.2.0",
      "model_name": "ButtonModel",
      "state": {
       "description": "det",
       "layout": "IPY_MODEL_afde701789c7449a9d69640764d98c16",
       "style": "IPY_MODEL_50b71027a6664a648680ab71040964a8"
      }
     },
     "dcffdf6c944b4faf85ab2eac379bc511": {
      "model_module": "@jupyter-widgets/base",
      "model_module_version": "1.0.0",
      "model_name": "LayoutModel",
      "state": {}
     },
     "dd32b63b0f55411f935a96bed5000516": {
      "model_module": "@jupyter-widgets/base",
      "model_module_version": "1.0.0",
      "model_name": "LayoutModel",
      "state": {
       "width": "250px"
      }
     },
     "dd34158a94d347f6ae280f99e23d5e4d": {
      "model_module": "@jupyter-widgets/base",
      "model_module_version": "1.0.0",
      "model_name": "LayoutModel",
      "state": {
       "width": "250px"
      }
     },
     "dd388ff8f69349acb4ee019875cf64d5": {
      "model_module": "@jupyter-widgets/controls",
      "model_module_version": "1.2.0",
      "model_name": "ButtonStyleModel",
      "state": {}
     },
     "dd4930ac768c4041af5f4065e0c7b86f": {
      "model_module": "@jupyter-widgets/controls",
      "model_module_version": "1.2.0",
      "model_name": "CheckboxModel",
      "state": {
       "description": "3. Satz (das Pferd)",
       "disabled": false,
       "layout": "IPY_MODEL_62ef9b2cab1a450ab1d50cafb97740ee",
       "style": "IPY_MODEL_bd44cddc4a31476aba2795c2ddf15603",
       "value": false
      }
     },
     "dd4b5ad8b5514adda8450231ae422d6d": {
      "model_module": "@jupyter-widgets/controls",
      "model_module_version": "1.2.0",
      "model_name": "DropdownModel",
      "state": {
       "_options_labels": [
        "Angabe",
        "Ergänzung",
        " "
       ],
       "index": 2,
       "layout": "IPY_MODEL_ced508b4d161456ca0e9355140d10fac",
       "style": "IPY_MODEL_e5783679031644ae8908f1ad8c92170c"
      }
     },
     "dd78d955513e462f80b3bebdaad5ec1e": {
      "model_module": "@jupyter-widgets/base",
      "model_module_version": "1.0.0",
      "model_name": "LayoutModel",
      "state": {}
     },
     "dd79a32c15cd4f4ab12bdf68a4ac77f3": {
      "model_module": "@jupyter-widgets/controls",
      "model_module_version": "1.2.0",
      "model_name": "CheckboxModel",
      "state": {
       "description": "Kongruenz mit Verb",
       "disabled": false,
       "layout": "IPY_MODEL_1638dc3a87d74754b9fa717b3d5384ce",
       "style": "IPY_MODEL_a209f8a867854478a4dfa08b3932caba",
       "value": false
      }
     },
     "dda43a843884475a8d7c92d8f4e8e285": {
      "model_module": "@jupyter-widgets/controls",
      "model_module_version": "1.2.0",
      "model_name": "ButtonStyleModel",
      "state": {}
     },
     "ddb01d19c3904415a2f37ec0638c00a0": {
      "model_module": "@jupyter-widgets/controls",
      "model_module_version": "1.2.0",
      "model_name": "DescriptionStyleModel",
      "state": {
       "description_width": ""
      }
     },
     "ddb9d342e8d04297843a13082c032f29": {
      "model_module": "@jupyter-widgets/base",
      "model_module_version": "1.0.0",
      "model_name": "LayoutModel",
      "state": {
       "width": "150px"
      }
     },
     "ddc5e5c9ec444717aff12980f5a5b205": {
      "model_module": "@jupyter-widgets/base",
      "model_module_version": "1.0.0",
      "model_name": "LayoutModel",
      "state": {}
     },
     "ddcbca3d7dc7447fb2cb9a0c7288b72a": {
      "model_module": "@jupyter-widgets/controls",
      "model_module_version": "1.2.0",
      "model_name": "ButtonModel",
      "state": {
       "description": "amod",
       "layout": "IPY_MODEL_93ca8d68a85f4b4d80c81b4994408b91",
       "style": "IPY_MODEL_c592a649e2c14912bfb7b158d7582c22"
      }
     },
     "ddcdd65bd8534f488b864bc1ad637bcf": {
      "model_module": "@jupyter-widgets/base",
      "model_module_version": "1.0.0",
      "model_name": "LayoutModel",
      "state": {
       "width": "600px"
      }
     },
     "dde2b006e6f34810a3cdb3965c7827a6": {
      "model_module": "@jupyter-widgets/base",
      "model_module_version": "1.0.0",
      "model_name": "LayoutModel",
      "state": {
       "width": "600px"
      }
     },
     "de6e626d917447e28e6d15d3b1863958": {
      "model_module": "@jupyter-widgets/base",
      "model_module_version": "1.0.0",
      "model_name": "LayoutModel",
      "state": {}
     },
     "de7b21371e944e36a3d3a673766c7e71": {
      "model_module": "@jupyter-widgets/controls",
      "model_module_version": "1.2.0",
      "model_name": "DescriptionStyleModel",
      "state": {
       "description_width": ""
      }
     },
     "ded434cc66ea403f8aa8e3840c22faa5": {
      "model_module": "@jupyter-widgets/base",
      "model_module_version": "1.0.0",
      "model_name": "LayoutModel",
      "state": {
       "width": "600px"
      }
     },
     "ded9585e170b4bc1ac0d96f7f61ad0d8": {
      "model_module": "@jupyter-widgets/controls",
      "model_module_version": "1.2.0",
      "model_name": "CheckboxModel",
      "state": {
       "description": "der",
       "disabled": false,
       "layout": "IPY_MODEL_fe4d9293604749c69387f11db39aa6d7",
       "style": "IPY_MODEL_f3baa0000aa44bebbe160a1f8cb2f064",
       "value": false
      }
     },
     "ded98332f0ec4ac3b5524f226ad494ae": {
      "model_module": "@jupyter-widgets/controls",
      "model_module_version": "1.2.0",
      "model_name": "DescriptionStyleModel",
      "state": {
       "description_width": ""
      }
     },
     "dedc7995b06d472fa5cf53ca48bc0974": {
      "model_module": "@jupyter-widgets/controls",
      "model_module_version": "1.2.0",
      "model_name": "ButtonModel",
      "state": {
       "description": "advmod",
       "layout": "IPY_MODEL_8db0a348052f435d8fbbeb5f1859d228",
       "style": "IPY_MODEL_44e8170d27694eb2965542c769e31ac4"
      }
     },
     "dedcc704a51a44a99089c31a1f78b93e": {
      "model_module": "@jupyter-widgets/controls",
      "model_module_version": "1.2.0",
      "model_name": "HBoxModel",
      "state": {
       "children": [
        "IPY_MODEL_7196701d890a44938aa6070f06b220d8",
        "IPY_MODEL_6e428dd8849c44f0b5b26313b900ab76"
       ],
       "layout": "IPY_MODEL_a6fab563bb1a41e28c625b4c4b6545f1"
      }
     },
     "df18b8ab09374a7e8301b501777bde6d": {
      "model_module": "@jupyter-widgets/base",
      "model_module_version": "1.0.0",
      "model_name": "LayoutModel",
      "state": {
       "width": "250px"
      }
     },
     "df1b48eb675842afb4447582b5532e12": {
      "model_module": "@jupyter-widgets/controls",
      "model_module_version": "1.2.0",
      "model_name": "HTMLModel",
      "state": {
       "layout": "IPY_MODEL_f89e21953fb644cf9ee3ec9c76cfbfed",
       "style": "IPY_MODEL_a4b747d783c042be899fa2f568fc8974",
       "value": "<h4 style=\"font-size:14px;\">Markieren Sie alle direkten Dependenten des Wortes <i> Arbeitsplatz </i>.</h4>"
      }
     },
     "df25b74d90d44c12b0f3864ac4dac058": {
      "model_module": "@jupyter-widgets/base",
      "model_module_version": "1.0.0",
      "model_name": "LayoutModel",
      "state": {
       "justify_content": "center"
      }
     },
     "df295fdf883b49d49adaeae63f73022f": {
      "model_module": "@jupyter-widgets/base",
      "model_module_version": "1.0.0",
      "model_name": "LayoutModel",
      "state": {
       "width": "600px"
      }
     },
     "df7cf3500ae34dcdb239c131b3b773b6": {
      "model_module": "@jupyter-widgets/controls",
      "model_module_version": "1.2.0",
      "model_name": "ButtonModel",
      "state": {
       "description": "case",
       "layout": "IPY_MODEL_8250c5bef55f412ab9010b4451b9c52c",
       "style": "IPY_MODEL_d11cf4a98b14483ebf13d5e9eac34e6e"
      }
     },
     "df992819765b4123a4e0f256d7f9627f": {
      "model_module": "@jupyter-widgets/base",
      "model_module_version": "1.0.0",
      "model_name": "LayoutModel",
      "state": {
       "width": "600px"
      }
     },
     "dfa9a7601c264eb9b9372763f07caefc": {
      "model_module": "@jupyter-widgets/controls",
      "model_module_version": "1.2.0",
      "model_name": "DescriptionStyleModel",
      "state": {
       "description_width": ""
      }
     },
     "dfbe65afd5e4466f9261ffaf7d409779": {
      "model_module": "@jupyter-widgets/controls",
      "model_module_version": "1.2.0",
      "model_name": "VBoxModel",
      "state": {
       "children": [
        "IPY_MODEL_f8d4892931d443c29a3b47053f5d7381",
        "IPY_MODEL_30c5abfa63374066a2d9b79ab81f5a84",
        "IPY_MODEL_cb238ba1d82b4c53b731599192e1eaf3",
        "IPY_MODEL_b3f4599a2c674c8d9294e73cdf5074bf"
       ],
       "layout": "IPY_MODEL_2529148db3d04cfdb922ed21d02306ca"
      }
     },
     "dfd607a213b54b8b9700d49f54017c9c": {
      "model_module": "@jupyter-widgets/base",
      "model_module_version": "1.0.0",
      "model_name": "LayoutModel",
      "state": {
       "width": "250px"
      }
     },
     "e0070cd4002546489296bc950babce88": {
      "model_module": "@jupyter-widgets/controls",
      "model_module_version": "1.2.0",
      "model_name": "CheckboxModel",
      "state": {
       "description": "H ist obligatorisch, D kann optional sein",
       "disabled": false,
       "layout": "IPY_MODEL_df295fdf883b49d49adaeae63f73022f",
       "style": "IPY_MODEL_c6f6fc2486fc42caab6ef90a5342c8d5",
       "value": false
      }
     },
     "e013cea5a43b4fea8defad3fdffbf153": {
      "model_module": "@jupyter-widgets/base",
      "model_module_version": "1.0.0",
      "model_name": "LayoutModel",
      "state": {
       "width": "600px"
      }
     },
     "e02901705e4e41679f38ffaee0359ee1": {
      "model_module": "@jupyter-widgets/controls",
      "model_module_version": "1.2.0",
      "model_name": "DescriptionStyleModel",
      "state": {
       "description_width": "initial"
      }
     },
     "e04858d8e1554a83bf7a43c55798a328": {
      "model_module": "@jupyter-widgets/base",
      "model_module_version": "1.0.0",
      "model_name": "LayoutModel",
      "state": {
       "width": "250px"
      }
     },
     "e0667f32f92e4aa0a0ef12a36e47d6a8": {
      "model_module": "@jupyter-widgets/base",
      "model_module_version": "1.0.0",
      "model_name": "LayoutModel",
      "state": {}
     },
     "e0858f1b68224ca286d58d05550d9f17": {
      "model_module": "@jupyter-widgets/base",
      "model_module_version": "1.0.0",
      "model_name": "LayoutModel",
      "state": {}
     },
     "e0934b63c92246d7a44259800f9f25cd": {
      "model_module": "@jupyter-widgets/controls",
      "model_module_version": "1.2.0",
      "model_name": "ButtonModel",
      "state": {
       "description": "amod",
       "layout": "IPY_MODEL_75220173ead84f64ac1267f10db9863e",
       "style": "IPY_MODEL_c2c334601401400b81b740878e1e4a55"
      }
     },
     "e0ac753a22584561a0110bb601427965": {
      "model_module": "@jupyter-widgets/controls",
      "model_module_version": "1.2.0",
      "model_name": "ButtonModel",
      "state": {
       "description": "pcomp",
       "layout": "IPY_MODEL_c2151f6b09f94105b406c3c8146301af",
       "style": "IPY_MODEL_e9eda28254514a92a1f9393d5a989a77"
      }
     },
     "e0da1811b8d648fb8490637c1e20b076": {
      "model_module": "@jupyter-widgets/base",
      "model_module_version": "1.0.0",
      "model_name": "LayoutModel",
      "state": {
       "width": "600px"
      }
     },
     "e0e65e547d9f43dcaab7a6f60d82f2de": {
      "model_module": "@jupyter-widgets/controls",
      "model_module_version": "1.2.0",
      "model_name": "HBoxModel",
      "state": {
       "children": [
        "IPY_MODEL_d591f540990148f8a94e8d4ab48e1e4c",
        "IPY_MODEL_6e300d34510148dbad91ac5280f1b212"
       ],
       "layout": "IPY_MODEL_bee1ccb3a91e4c12a1d1406945a3a96f"
      }
     },
     "e13a6af2d54243af893158a5997ec037": {
      "model_module": "@jupyter-widgets/base",
      "model_module_version": "1.0.0",
      "model_name": "LayoutModel",
      "state": {
       "justify_content": "center"
      }
     },
     "e16e548992f44038b3f38665817e4a02": {
      "model_module": "@jupyter-widgets/controls",
      "model_module_version": "1.2.0",
      "model_name": "DescriptionStyleModel",
      "state": {
       "description_width": ""
      }
     },
     "e197e20147534d94a459b8f20a13e637": {
      "model_module": "@jupyter-widgets/controls",
      "model_module_version": "1.2.0",
      "model_name": "DescriptionStyleModel",
      "state": {
       "description_width": "initial"
      }
     },
     "e1a27e84b2524b3a8764d148d63ea391": {
      "model_module": "@jupyter-widgets/base",
      "model_module_version": "1.0.0",
      "model_name": "LayoutModel",
      "state": {
       "width": "250px"
      }
     },
     "e1b062c78bc84eeebe8037fec6b18a8b": {
      "model_module": "@jupyter-widgets/controls",
      "model_module_version": "1.2.0",
      "model_name": "ButtonStyleModel",
      "state": {}
     },
     "e202baaf9ace474596388a39ca13c165": {
      "model_module": "@jupyter-widgets/base",
      "model_module_version": "1.0.0",
      "model_name": "LayoutModel",
      "state": {
       "width": "150px"
      }
     },
     "e212c944f04c478fb90552dbea135e9f": {
      "model_module": "@jupyter-widgets/controls",
      "model_module_version": "1.2.0",
      "model_name": "DescriptionStyleModel",
      "state": {
       "description_width": ""
      }
     },
     "e23203a1aa9d4c3ba8d18c987dd76b39": {
      "model_module": "@jupyter-widgets/base",
      "model_module_version": "1.0.0",
      "model_name": "LayoutModel",
      "state": {}
     },
     "e237297de5234766876045b556341cb7": {
      "model_module": "@jupyter-widgets/controls",
      "model_module_version": "1.2.0",
      "model_name": "DescriptionStyleModel",
      "state": {
       "description_width": "initial"
      }
     },
     "e295038092eb40c4a87efed7daf3cefd": {
      "model_module": "@jupyter-widgets/base",
      "model_module_version": "1.0.0",
      "model_name": "LayoutModel",
      "state": {}
     },
     "e2a600f866d6489e87129039140185f8": {
      "model_module": "@jupyter-widgets/base",
      "model_module_version": "1.0.0",
      "model_name": "LayoutModel",
      "state": {}
     },
     "e2b632d8c8dd4403a5b3b29b4c38fb07": {
      "model_module": "@jupyter-widgets/base",
      "model_module_version": "1.0.0",
      "model_name": "LayoutModel",
      "state": {
       "width": "250px"
      }
     },
     "e2f62b5ecfc242388850dca4f8517252": {
      "model_module": "@jupyter-widgets/controls",
      "model_module_version": "1.2.0",
      "model_name": "HTMLModel",
      "state": {
       "layout": "IPY_MODEL_18f042c559c54c7ab686736d4e0ec60e",
       "style": "IPY_MODEL_b5eeb5aaf7684e97a93444dd9667d213",
       "value": "<h4 style=\"font-size:14px;\">Markieren Sie alle direkten Dependenten des Wortes <i> lebhaften </i>.</h4>"
      }
     },
     "e309a5be39b443829b45424fed810325": {
      "model_module": "@jupyter-widgets/controls",
      "model_module_version": "1.2.0",
      "model_name": "CheckboxModel",
      "state": {
       "description": "steht im Nominativ",
       "disabled": false,
       "layout": "IPY_MODEL_1d2b3c4d23dd46bcaa866ded2f04c701",
       "style": "IPY_MODEL_6ea5e7192f0943cab747de5fd02434fc",
       "value": false
      }
     },
     "e3279cfa1aa94e499e10f6d724799ebc": {
      "model_module": "@jupyter-widgets/controls",
      "model_module_version": "1.2.0",
      "model_name": "CheckboxModel",
      "state": {
       "description": "die neue Kollegin",
       "disabled": false,
       "layout": "IPY_MODEL_180e496493274b97a52523579c7e87c2",
       "style": "IPY_MODEL_4b790cd260414988b7d1329b1ad079f0",
       "value": false
      }
     },
     "e381d07515fe4d7e8b1fcb1b21ca967c": {
      "model_module": "@jupyter-widgets/base",
      "model_module_version": "1.0.0",
      "model_name": "LayoutModel",
      "state": {
       "width": "250px"
      }
     },
     "e383f21744bd4758a6af36a5c817367d": {
      "model_module": "@jupyter-widgets/controls",
      "model_module_version": "1.2.0",
      "model_name": "ButtonStyleModel",
      "state": {}
     },
     "e39ff6570757468282b8e165f15747b8": {
      "model_module": "@jupyter-widgets/base",
      "model_module_version": "1.0.0",
      "model_name": "LayoutModel",
      "state": {
       "width": "250px"
      }
     },
     "e3b28c0f21b34c0baabce7b84f3ae666": {
      "model_module": "@jupyter-widgets/controls",
      "model_module_version": "1.2.0",
      "model_name": "DescriptionStyleModel",
      "state": {
       "description_width": "initial"
      }
     },
     "e3d17f3b944346baa91a0607e05326ed": {
      "model_module": "@jupyter-widgets/controls",
      "model_module_version": "1.2.0",
      "model_name": "CheckboxModel",
      "state": {
       "description": "Verb kongruiert mit NP",
       "disabled": false,
       "layout": "IPY_MODEL_f0c5dabe36c340bfa21283420f1325c4",
       "style": "IPY_MODEL_7f64f18dbdaf44b9b8ec7de7067b1fb6",
       "value": false
      }
     },
     "e3d4aefa6b5f45ba887c57368e8a9838": {
      "model_module": "@jupyter-widgets/base",
      "model_module_version": "1.0.0",
      "model_name": "LayoutModel",
      "state": {}
     },
     "e3f6ab2064de4da68ed3d2d0314b74e4": {
      "model_module": "@jupyter-widgets/controls",
      "model_module_version": "1.2.0",
      "model_name": "DescriptionStyleModel",
      "state": {
       "description_width": ""
      }
     },
     "e401a61cc2204f248c13f294ef8e8397": {
      "model_module": "@jupyter-widgets/controls",
      "model_module_version": "1.2.0",
      "model_name": "ButtonModel",
      "state": {
       "description": "Korrekt?",
       "layout": "IPY_MODEL_14e5f7537f09404ea806a1021ca531ed",
       "style": "IPY_MODEL_2faed94c4f0a412ca5149c958c400e51"
      }
     },
     "e40f63732c224b7086697d62a7cb8f15": {
      "model_module": "@jupyter-widgets/controls",
      "model_module_version": "1.2.0",
      "model_name": "ButtonModel",
      "state": {
       "description": "nmod",
       "layout": "IPY_MODEL_c500f68a201946ffa65893eb5958f765",
       "style": "IPY_MODEL_f58f46b4d44b477a8a440f5237344481"
      }
     },
     "e4160b1a442c4859818b898db320c2a4": {
      "model_module": "@jupyter-widgets/controls",
      "model_module_version": "1.2.0",
      "model_name": "VBoxModel",
      "state": {
       "children": [
        "IPY_MODEL_413a12bb02ee4d34aaf68a36fccf9d30",
        "IPY_MODEL_313093680b714b789fc7f56e15ccc4da",
        "IPY_MODEL_61695b20043948d49da9e07654c81ea3",
        "IPY_MODEL_1b7aa3d68037482a807a5a5054f19eda",
        "IPY_MODEL_2b22115018444bb2b8ed7d6dd1fe392d",
        "IPY_MODEL_ab56b95515fe4d8a902ccc6b93a6c699"
       ],
       "layout": "IPY_MODEL_ae17bfb5bfee4dd79523b7e676d5457a"
      }
     },
     "e4279d882d8b4f8a82054c8224e0dbf5": {
      "model_module": "@jupyter-widgets/controls",
      "model_module_version": "1.2.0",
      "model_name": "ButtonStyleModel",
      "state": {}
     },
     "e431c81f1087431fa1a7a450ce712ea5": {
      "model_module": "@jupyter-widgets/controls",
      "model_module_version": "1.2.0",
      "model_name": "CheckboxModel",
      "state": {
       "description": "kenne",
       "disabled": false,
       "layout": "IPY_MODEL_4f2a702cb91641e9aa1c2f63435ded45",
       "style": "IPY_MODEL_ef7dc2415e0249c0b719ac9db499fe9a",
       "value": false
      }
     },
     "e43564b524b24fc4b5b1e26ed66a1b31": {
      "model_module": "@jupyter-widgets/controls",
      "model_module_version": "1.2.0",
      "model_name": "HTMLModel",
      "state": {
       "layout": "IPY_MODEL_17b540db134c4f32a232ac9b48eca432",
       "style": "IPY_MODEL_dfa9a7601c264eb9b9372763f07caefc",
       "value": "<h4 style=\"font-size:14px;\">Markieren Sie alle direkten Dependenten des Wortes <i> Mädchen </i>.</h4>"
      }
     },
     "e446a444919248f8a6b79aee11d27366": {
      "model_module": "@jupyter-widgets/controls",
      "model_module_version": "1.2.0",
      "model_name": "ButtonStyleModel",
      "state": {}
     },
     "e4506451f9d544d996e5a51eeedd5449": {
      "model_module": "@jupyter-widgets/controls",
      "model_module_version": "1.2.0",
      "model_name": "CheckboxModel",
      "state": {
       "description": "älteren",
       "disabled": false,
       "layout": "IPY_MODEL_37214007cdbe479f84e5afdd43a4e516",
       "style": "IPY_MODEL_3b25abb9f39d4f3ea25e7bed0623c370",
       "value": false
      }
     },
     "e490fbe75a1e45109bfb6edf53110b5a": {
      "model_module": "@jupyter-widgets/base",
      "model_module_version": "1.0.0",
      "model_name": "LayoutModel",
      "state": {}
     },
     "e4b52cc7fb0541d9a666afd06a73eb0a": {
      "model_module": "@jupyter-widgets/controls",
      "model_module_version": "1.2.0",
      "model_name": "HTMLModel",
      "state": {
       "layout": "IPY_MODEL_bcf9c0fb57284ebab85f9d48f091d3cb",
       "style": "IPY_MODEL_61b0c79acd1048aa91ef89e59d928b49",
       "value": "<i>Wählen Sie die <ins>eine</ins> korrekte Antwort aus: </i>"
      }
     },
     "e4defb0c17d14805a681bcc9fcc3268e": {
      "model_module": "@jupyter-widgets/controls",
      "model_module_version": "1.2.0",
      "model_name": "ButtonModel",
      "state": {
       "description": "nsubj",
       "layout": "IPY_MODEL_e877a009c4c14b5ca912c009921e3256",
       "style": "IPY_MODEL_d92149f13b834656b233c740273370c1"
      }
     },
     "e4f3a29e81664c66a6754dee19a692cf": {
      "model_module": "@jupyter-widgets/base",
      "model_module_version": "1.0.0",
      "model_name": "LayoutModel",
      "state": {
       "width": "250px"
      }
     },
     "e52d6e1dd7d143aba19eacff2c2ccc8a": {
      "model_module": "@jupyter-widgets/base",
      "model_module_version": "1.0.0",
      "model_name": "LayoutModel",
      "state": {}
     },
     "e56c1b31e7b04c57a16090e71d6f926c": {
      "model_module": "@jupyter-widgets/base",
      "model_module_version": "1.0.0",
      "model_name": "LayoutModel",
      "state": {
       "width": "250px"
      }
     },
     "e574d83d082d4d109cab7ff637ab6f40": {
      "model_module": "@jupyter-widgets/controls",
      "model_module_version": "1.2.0",
      "model_name": "DescriptionStyleModel",
      "state": {
       "description_width": "initial"
      }
     },
     "e5783679031644ae8908f1ad8c92170c": {
      "model_module": "@jupyter-widgets/controls",
      "model_module_version": "1.2.0",
      "model_name": "DescriptionStyleModel",
      "state": {
       "description_width": ""
      }
     },
     "e5cf5198d5c54f2a9842de8b041500a5": {
      "model_module": "@jupyter-widgets/controls",
      "model_module_version": "1.2.0",
      "model_name": "VBoxModel",
      "state": {
       "children": [
        "IPY_MODEL_0f9bcf6a63004465bb7dad29557e5117",
        "IPY_MODEL_20ecdbf74b034aba9bef79cf9100c421",
        "IPY_MODEL_96b86afa7674420dbc05260708745850",
        "IPY_MODEL_42838ff563ca46cfbdad86d2c89fdf96"
       ],
       "layout": "IPY_MODEL_e52d6e1dd7d143aba19eacff2c2ccc8a"
      }
     },
     "e5d0a6b7e3b043de999ae1178382d7c3": {
      "model_module": "@jupyter-widgets/base",
      "model_module_version": "1.0.0",
      "model_name": "LayoutModel",
      "state": {
       "width": "250px"
      }
     },
     "e635f6260d564d909f113ddca3f315c0": {
      "model_module": "@jupyter-widgets/controls",
      "model_module_version": "1.2.0",
      "model_name": "DescriptionStyleModel",
      "state": {
       "description_width": "initial"
      }
     },
     "e68e69bb60da4024bb5151294ce32406": {
      "model_module": "@jupyter-widgets/controls",
      "model_module_version": "1.2.0",
      "model_name": "HBoxModel",
      "state": {
       "children": [
        "IPY_MODEL_ce9ea72a0b694b84b7777de7d2d2e5f0"
       ],
       "layout": "IPY_MODEL_fce01fccba52442e97a269f6ff0f0d32"
      }
     },
     "e6d3b36b00d84897838a412c2f3dd7de": {
      "model_module": "@jupyter-widgets/controls",
      "model_module_version": "1.2.0",
      "model_name": "DescriptionStyleModel",
      "state": {
       "description_width": "initial"
      }
     },
     "e706d6f0110f45ccbf1f4978e52dc7c3": {
      "model_module": "@jupyter-widgets/base",
      "model_module_version": "1.0.0",
      "model_name": "LayoutModel",
      "state": {
       "width": "600px"
      }
     },
     "e71cdb7a94574ccbb3199b6fd517a574": {
      "model_module": "@jupyter-widgets/base",
      "model_module_version": "1.0.0",
      "model_name": "LayoutModel",
      "state": {
       "width": "600px"
      }
     },
     "e74062390f684ea2a691d6c8df635fc1": {
      "model_module": "@jupyter-widgets/base",
      "model_module_version": "1.0.0",
      "model_name": "LayoutModel",
      "state": {
       "width": "600px"
      }
     },
     "e7763d0898c644ad9e9ebbe670aec23b": {
      "model_module": "@jupyter-widgets/controls",
      "model_module_version": "1.2.0",
      "model_name": "DescriptionStyleModel",
      "state": {
       "description_width": "initial"
      }
     },
     "e790c7982bb44e3cb6ff9ebbab835cfd": {
      "model_module": "@jupyter-widgets/base",
      "model_module_version": "1.0.0",
      "model_name": "LayoutModel",
      "state": {}
     },
     "e7f173742ab14f418cb7ac4315af2aab": {
      "model_module": "@jupyter-widgets/controls",
      "model_module_version": "1.2.0",
      "model_name": "DescriptionStyleModel",
      "state": {
       "description_width": "initial"
      }
     },
     "e8029c71c9004ad6847baa7f0e387733": {
      "model_module": "@jupyter-widgets/controls",
      "model_module_version": "1.2.0",
      "model_name": "ButtonStyleModel",
      "state": {}
     },
     "e831896a95374fc1a7e12829147a841a": {
      "model_module": "@jupyter-widgets/controls",
      "model_module_version": "1.2.0",
      "model_name": "HTMLModel",
      "state": {
       "layout": "IPY_MODEL_bd34d03dac104ebbb1cad69f49339172",
       "style": "IPY_MODEL_00a5ef16befd4818be37d2ad9351edd8",
       "value": "<i>Vervollständigen Sie den Lückentext: </i>"
      }
     },
     "e840c7896be44f3bb5259516fca30070": {
      "model_module": "@jupyter-widgets/controls",
      "model_module_version": "1.2.0",
      "model_name": "CheckboxModel",
      "state": {
       "description": "drückt das Topik aus",
       "disabled": false,
       "layout": "IPY_MODEL_d872d91892a04db9a3833880bfbb1ad1",
       "style": "IPY_MODEL_b80077980ca94803bd9ef0e9d662a749",
       "value": false
      }
     },
     "e8504c90344048abbb92fa7d92071cd9": {
      "model_module": "@jupyter-widgets/controls",
      "model_module_version": "1.2.0",
      "model_name": "CheckboxModel",
      "state": {
       "description": "ihrem neuen Arbeitsplatz",
       "disabled": false,
       "layout": "IPY_MODEL_5bd62d4f260243cebfe1a7d93027eda7",
       "style": "IPY_MODEL_33006867ed7e4f6687c7687b28f94909",
       "value": false
      }
     },
     "e868713bc0ed4fa19d88e57d21ed4e13": {
      "model_module": "@jupyter-widgets/controls",
      "model_module_version": "1.2.0",
      "model_name": "ButtonModel",
      "state": {
       "description": "case",
       "layout": "IPY_MODEL_dd34158a94d347f6ae280f99e23d5e4d",
       "style": "IPY_MODEL_e4279d882d8b4f8a82054c8224e0dbf5"
      }
     },
     "e877a009c4c14b5ca912c009921e3256": {
      "model_module": "@jupyter-widgets/base",
      "model_module_version": "1.0.0",
      "model_name": "LayoutModel",
      "state": {
       "width": "250px"
      }
     },
     "e8fea276c43243c59264e227a1b9eaaa": {
      "model_module": "@jupyter-widgets/base",
      "model_module_version": "1.0.0",
      "model_name": "LayoutModel",
      "state": {
       "justify_content": "center"
      }
     },
     "e90e11c4078343af926cb41835244a5c": {
      "model_module": "@jupyter-widgets/controls",
      "model_module_version": "1.2.0",
      "model_name": "DescriptionStyleModel",
      "state": {
       "description_width": "initial"
      }
     },
     "e93c227ef1184e39b7ee995a6f08141a": {
      "model_module": "@jupyter-widgets/controls",
      "model_module_version": "1.2.0",
      "model_name": "ButtonStyleModel",
      "state": {}
     },
     "e9a1ab76e7a1412ea49e166f5d108c82": {
      "model_module": "@jupyter-widgets/base",
      "model_module_version": "1.0.0",
      "model_name": "LayoutModel",
      "state": {
       "width": "600px"
      }
     },
     "e9ae9407103348a38d07c4c6b971295d": {
      "model_module": "@jupyter-widgets/controls",
      "model_module_version": "1.2.0",
      "model_name": "VBoxModel",
      "state": {
       "children": [
        "IPY_MODEL_ceaf91c7e8d743749774760f1428f5c1",
        "IPY_MODEL_af0c852cf5c04219879f9e5f874ae16e",
        "IPY_MODEL_633da54608194d84840bb018869dcb7f",
        "IPY_MODEL_5fa9b9161e8e49249572c720a89e42c5"
       ],
       "layout": "IPY_MODEL_fdc35cd9ee854ff8b35c7cda64036f6d"
      }
     },
     "e9af3671277e4dfa8a5c5b33d83841e0": {
      "model_module": "@jupyter-widgets/base",
      "model_module_version": "1.0.0",
      "model_name": "LayoutModel",
      "state": {
       "width": "600px"
      }
     },
     "e9cfa62a281c4bf1a12ab1364d4759c7": {
      "model_module": "@jupyter-widgets/controls",
      "model_module_version": "1.2.0",
      "model_name": "DescriptionStyleModel",
      "state": {
       "description_width": "initial"
      }
     },
     "e9eda28254514a92a1f9393d5a989a77": {
      "model_module": "@jupyter-widgets/controls",
      "model_module_version": "1.2.0",
      "model_name": "ButtonStyleModel",
      "state": {}
     },
     "ea171d2587684dd4ab95617ed1890479": {
      "model_module": "@jupyter-widgets/controls",
      "model_module_version": "1.2.0",
      "model_name": "DescriptionStyleModel",
      "state": {
       "description_width": ""
      }
     },
     "ea17b656814e4c27bf5abb2b16c37db0": {
      "model_module": "@jupyter-widgets/controls",
      "model_module_version": "1.2.0",
      "model_name": "CheckboxModel",
      "state": {
       "description": "sehr",
       "disabled": false,
       "layout": "IPY_MODEL_ddcdd65bd8534f488b864bc1ad637bcf",
       "style": "IPY_MODEL_b78c821c533f4be3a58067be3755a610",
       "value": false
      }
     },
     "ea31e16c4cb54788b3fe51aded8738fb": {
      "model_module": "@jupyter-widgets/controls",
      "model_module_version": "1.2.0",
      "model_name": "ButtonModel",
      "state": {
       "description": "nsubj",
       "layout": "IPY_MODEL_bc14b120397142de8147942d5fb5fcde",
       "style": "IPY_MODEL_a1258429ae9043aa8bfb23f0ece3ece1"
      }
     },
     "ea33658b0cea4c3a837920892601c9b7": {
      "model_module": "@jupyter-widgets/base",
      "model_module_version": "1.0.0",
      "model_name": "LayoutModel",
      "state": {
       "width": "250px"
      }
     },
     "ea94a8fff98a4fa781ad5aa7bda313e8": {
      "model_module": "@jupyter-widgets/controls",
      "model_module_version": "1.2.0",
      "model_name": "ButtonStyleModel",
      "state": {}
     },
     "eab73db293af49ec832c03c78fce5bda": {
      "model_module": "@jupyter-widgets/controls",
      "model_module_version": "1.2.0",
      "model_name": "ButtonStyleModel",
      "state": {}
     },
     "eabe76b706a949ad90047daf4f47a916": {
      "model_module": "@jupyter-widgets/base",
      "model_module_version": "1.0.0",
      "model_name": "LayoutModel",
      "state": {
       "width": "250px"
      }
     },
     "eaf2fd93d768437396376f378ddf1511": {
      "model_module": "@jupyter-widgets/base",
      "model_module_version": "1.0.0",
      "model_name": "LayoutModel",
      "state": {}
     },
     "eb341ae252134362b3b4ffee5299e9f7": {
      "model_module": "@jupyter-widgets/controls",
      "model_module_version": "1.2.0",
      "model_name": "CheckboxModel",
      "state": {
       "description": "Patienseigenschaften",
       "disabled": false,
       "layout": "IPY_MODEL_a066b92ae5384c859426eaadcf23925c",
       "style": "IPY_MODEL_a0771e26cd59475e9c5b4e0cc74c8737",
       "value": false
      }
     },
     "eb54722b7303447bb3469808422a23d3": {
      "model_module": "@jupyter-widgets/base",
      "model_module_version": "1.0.0",
      "model_name": "LayoutModel",
      "state": {
       "width": "250px"
      }
     },
     "eb79aad042c9415298177de2c59ebd57": {
      "model_module": "@jupyter-widgets/base",
      "model_module_version": "1.0.0",
      "model_name": "LayoutModel",
      "state": {
       "width": "250px"
      }
     },
     "eba77c4062cb4959bf06efea9d401fd7": {
      "model_module": "@jupyter-widgets/base",
      "model_module_version": "1.0.0",
      "model_name": "LayoutModel",
      "state": {}
     },
     "ebab26ec3fd84dd7814172f22e986ba5": {
      "model_module": "@jupyter-widgets/controls",
      "model_module_version": "1.2.0",
      "model_name": "DescriptionStyleModel",
      "state": {
       "description_width": ""
      }
     },
     "ebcd64b3d08949ccab45250a81ebfc48": {
      "model_module": "@jupyter-widgets/base",
      "model_module_version": "1.0.0",
      "model_name": "LayoutModel",
      "state": {}
     },
     "ebd68d0c413c469895cc7355c5c7986d": {
      "model_module": "@jupyter-widgets/base",
      "model_module_version": "1.0.0",
      "model_name": "LayoutModel",
      "state": {
       "width": "600px"
      }
     },
     "ebe17d85d20847e5818d03c42e634729": {
      "model_module": "@jupyter-widgets/controls",
      "model_module_version": "1.2.0",
      "model_name": "CheckboxModel",
      "state": {
       "description": "Kollegin",
       "disabled": false,
       "layout": "IPY_MODEL_23ca6cdaf0d745b4b50fecd5c00afa4f",
       "style": "IPY_MODEL_ac8d11b5860a4841ac2f1d55f814fa6d",
       "value": false
      }
     },
     "ebea22362e624dfb97f3428d77f9926e": {
      "model_module": "@jupyter-widgets/controls",
      "model_module_version": "1.2.0",
      "model_name": "DescriptionStyleModel",
      "state": {
       "description_width": ""
      }
     },
     "ec4ac6fccee243aea1700dd4594d5a80": {
      "model_module": "@jupyter-widgets/controls",
      "model_module_version": "1.2.0",
      "model_name": "HTMLModel",
      "state": {
       "layout": "IPY_MODEL_c469fa677e9b4513a66fb49c1e836108",
       "style": "IPY_MODEL_9d49b646a867418c9bf4306948e7be6e",
       "value": "<h4 style=\"font-size:14px;\">Welche Art von Dependenz besteht jetzt zwischen <i> fährt </i> und <i> zu </i> ?</h4>"
      }
     },
     "ec582dc442a84ef08e7c444716fb9ad3": {
      "model_module": "@jupyter-widgets/base",
      "model_module_version": "1.0.0",
      "model_name": "LayoutModel",
      "state": {
       "width": "600px"
      }
     },
     "ecf7841641f243b28fc5a06b0bdf2e3e": {
      "model_module": "@jupyter-widgets/controls",
      "model_module_version": "1.2.0",
      "model_name": "CheckboxModel",
      "state": {
       "description": "kenne",
       "disabled": false,
       "layout": "IPY_MODEL_1017e4e4aa37422c8fc9312d5dec9003",
       "style": "IPY_MODEL_8b845d8070044857b7f485af36120f6e",
       "value": false
      }
     },
     "ed1524bf39a7430085f8dc7d9d16f4ee": {
      "model_module": "@jupyter-widgets/controls",
      "model_module_version": "1.2.0",
      "model_name": "VBoxModel",
      "state": {
       "children": [
        "IPY_MODEL_82680865f9e14d43800ac7c5084c4eb6",
        "IPY_MODEL_be683182bd4d4216bf7d4035b86e597c",
        "IPY_MODEL_c87b35d9ea4d4c7aa1c84c6099b37266"
       ],
       "layout": "IPY_MODEL_a91352b1dafc4c50ab7bab5a84ac685d"
      }
     },
     "ed2090b1efab429f8b8b6cb82a4e4848": {
      "model_module": "@jupyter-widgets/controls",
      "model_module_version": "1.2.0",
      "model_name": "CheckboxModel",
      "state": {
       "description": "Bruder",
       "disabled": false,
       "layout": "IPY_MODEL_5872b09c34544e518e4e791aad5315c1",
       "style": "IPY_MODEL_b8222db4a2344e6f832a4bc0987d4ed3",
       "value": false
      }
     },
     "ed321f427b8241c983cbfcd29f33d3c9": {
      "model_module": "@jupyter-widgets/controls",
      "model_module_version": "1.2.0",
      "model_name": "ButtonModel",
      "state": {
       "description": "nmod",
       "layout": "IPY_MODEL_94c516d63de6422990f95fbfba9a6092",
       "style": "IPY_MODEL_b70519f7940b4d12b12bd68cdcf9b5bf"
      }
     },
     "ed60c3a169414a2b81f76aa3838ecd0c": {
      "model_module": "@jupyter-widgets/base",
      "model_module_version": "1.0.0",
      "model_name": "LayoutModel",
      "state": {
       "width": "250px"
      }
     },
     "ede882c3bccc4a2ea24c1fd59016c014": {
      "model_module": "@jupyter-widgets/base",
      "model_module_version": "1.0.0",
      "model_name": "LayoutModel",
      "state": {
       "width": "250px"
      }
     },
     "ee38c47ac0ea42e9945829a13d189454": {
      "model_module": "@jupyter-widgets/base",
      "model_module_version": "1.0.0",
      "model_name": "LayoutModel",
      "state": {
       "width": "600px"
      }
     },
     "ee4deaa14d4b4baa8d7bb75574e2a1e9": {
      "model_module": "@jupyter-widgets/base",
      "model_module_version": "1.0.0",
      "model_name": "LayoutModel",
      "state": {
       "width": "250px"
      }
     },
     "ee8d270b0dc841ab976ff3c4c48747fc": {
      "model_module": "@jupyter-widgets/controls",
      "model_module_version": "1.2.0",
      "model_name": "DescriptionStyleModel",
      "state": {
       "description_width": ""
      }
     },
     "eecd212b869f4b77bf11216e5800c913": {
      "model_module": "@jupyter-widgets/controls",
      "model_module_version": "1.2.0",
      "model_name": "HTMLModel",
      "state": {
       "layout": "IPY_MODEL_3a0abbce984344e08480384e383448c2",
       "style": "IPY_MODEL_ea171d2587684dd4ab95617ed1890479",
       "value": "<h4 style=\"font-size:14px;\">realisiert. Innerhalb der</h4>"
      }
     },
     "eee8cda2f53a4f4587e276af4aae3f0b": {
      "model_module": "@jupyter-widgets/base",
      "model_module_version": "1.0.0",
      "model_name": "LayoutModel",
      "state": {
       "width": "250px"
      }
     },
     "eef1df3578be406dbf20bb69c21b0a6e": {
      "model_module": "@jupyter-widgets/controls",
      "model_module_version": "1.2.0",
      "model_name": "ButtonModel",
      "state": {
       "description": "amod",
       "layout": "IPY_MODEL_7231074b941e462ab2059a32e704f437",
       "style": "IPY_MODEL_609978d25ebe4a23b2abc64884c2d60b"
      }
     },
     "ef2a14a223f14997a6045add51e60f1d": {
      "model_module": "@jupyter-widgets/controls",
      "model_module_version": "1.2.0",
      "model_name": "DropdownModel",
      "state": {
       "_options_labels": [
        "Adjektivphrase",
        "Nominalphrase",
        "Präpositionalphrase",
        " "
       ],
       "index": 3,
       "layout": "IPY_MODEL_e202baaf9ace474596388a39ca13c165",
       "style": "IPY_MODEL_c9d293d039f445bbb5578d922501ca4d"
      }
     },
     "ef4572913d42409493b6a10c3acb7d28": {
      "model_module": "@jupyter-widgets/base",
      "model_module_version": "1.0.0",
      "model_name": "LayoutModel",
      "state": {
       "width": "600px"
      }
     },
     "ef5c21b3d657445884822a647f0fb894": {
      "model_module": "@jupyter-widgets/controls",
      "model_module_version": "1.2.0",
      "model_name": "CheckboxModel",
      "state": {
       "description": "Akkusativmarkierung",
       "disabled": false,
       "layout": "IPY_MODEL_0c800c4e1c0d4c86b26e057dd7e76391",
       "style": "IPY_MODEL_a1f5aa7f76c541fb8c1ed0350da62055",
       "value": false
      }
     },
     "ef6ceef7bfe34b928a63828ec2702ce7": {
      "model_module": "@jupyter-widgets/controls",
      "model_module_version": "1.2.0",
      "model_name": "DescriptionStyleModel",
      "state": {
       "description_width": "initial"
      }
     },
     "ef728e1062904fae839787c4523ad717": {
      "model_module": "@jupyter-widgets/base",
      "model_module_version": "1.0.0",
      "model_name": "LayoutModel",
      "state": {
       "width": "250px"
      }
     },
     "ef7dc2415e0249c0b719ac9db499fe9a": {
      "model_module": "@jupyter-widgets/controls",
      "model_module_version": "1.2.0",
      "model_name": "DescriptionStyleModel",
      "state": {
       "description_width": "initial"
      }
     },
     "ef89d144e00f4cfa9d163a0bea3d660e": {
      "model_module": "@jupyter-widgets/controls",
      "model_module_version": "1.2.0",
      "model_name": "DropdownModel",
      "state": {
       "_options_labels": [
        " ",
        "Dependenz",
        "Valenz",
        " "
       ],
       "index": 0,
       "layout": "IPY_MODEL_c761d6f72c7e4832bd6f3aeabd664736",
       "style": "IPY_MODEL_4f3ddf27023b457bb3b7e7b575d15c62"
      }
     },
     "f0612f31389149f1b77f5363281bce45": {
      "model_module": "@jupyter-widgets/controls",
      "model_module_version": "1.2.0",
      "model_name": "HBoxModel",
      "state": {
       "children": [
        "IPY_MODEL_5f787268969e4df78ee26b1286183e14",
        "IPY_MODEL_e0934b63c92246d7a44259800f9f25cd"
       ],
       "layout": "IPY_MODEL_62af72242a7f4470a495bfe440d9a1ec"
      }
     },
     "f061fc22db9d4f8d9917412097108a06": {
      "model_module": "@jupyter-widgets/base",
      "model_module_version": "1.0.0",
      "model_name": "LayoutModel",
      "state": {
       "width": "250px"
      }
     },
     "f086a2c284b745c4a023a1426ccbc483": {
      "model_module": "@jupyter-widgets/base",
      "model_module_version": "1.0.0",
      "model_name": "LayoutModel",
      "state": {
       "width": "250px"
      }
     },
     "f0c5dabe36c340bfa21283420f1325c4": {
      "model_module": "@jupyter-widgets/base",
      "model_module_version": "1.0.0",
      "model_name": "LayoutModel",
      "state": {
       "width": "600px"
      }
     },
     "f0d0235591704d1189f21a96150d9b53": {
      "model_module": "@jupyter-widgets/controls",
      "model_module_version": "1.2.0",
      "model_name": "ButtonModel",
      "state": {
       "description": "nsubj",
       "layout": "IPY_MODEL_f1256bf709af4afda6a1a931da0391e9",
       "style": "IPY_MODEL_021a05ee92ca4ef7bb4abe0a3e34f968"
      }
     },
     "f0d4974a8faa4457b3c115876c44fd63": {
      "model_module": "@jupyter-widgets/controls",
      "model_module_version": "1.2.0",
      "model_name": "HBoxModel",
      "state": {
       "children": [
        "IPY_MODEL_5d5eafa9128f4b018047490979af7ab8",
        "IPY_MODEL_42c33210e2c84bc1b5f4e9b70d9888a8"
       ],
       "layout": "IPY_MODEL_b8481f395b384b76b482f8a8a3abf076"
      }
     },
     "f1256bf709af4afda6a1a931da0391e9": {
      "model_module": "@jupyter-widgets/base",
      "model_module_version": "1.0.0",
      "model_name": "LayoutModel",
      "state": {
       "width": "250px"
      }
     },
     "f12be083835447be8eff5a40e4a04f86": {
      "model_module": "@jupyter-widgets/controls",
      "model_module_version": "1.2.0",
      "model_name": "VBoxModel",
      "state": {
       "children": [
        "IPY_MODEL_ec4ac6fccee243aea1700dd4594d5a80",
        "IPY_MODEL_bbf519fc72144bf3b61bb6c3b7e5631e",
        "IPY_MODEL_b902cd2eda72443c9bacb8dd1669fec4",
        "IPY_MODEL_20cba9ec1b944b2e95cf8afdd2371f45",
        "IPY_MODEL_47f110673b1d4f0c8e82cb1c8bd4d2b4",
        "IPY_MODEL_2f3e5fcf3183409191ae78ea03b07610"
       ],
       "layout": "IPY_MODEL_5afaa6e0791440b0bdfa56ec49e0e9bc"
      }
     },
     "f1c86ee5e3664d8b920f6971da3e4ecf": {
      "model_module": "@jupyter-widgets/controls",
      "model_module_version": "1.2.0",
      "model_name": "HTMLModel",
      "state": {
       "layout": "IPY_MODEL_1ad93762915748c9a4ddb63edc091b65",
       "style": "IPY_MODEL_693d5e116a2344ae9e4ba7d556340fd2",
       "value": "<h4 style=\"font-size:14px;\">Markieren Sie alle direkten Dependenten des Wortes <i> von </i>.</h4>"
      }
     },
     "f1cb9700c2914bd3b08c6b66a98966e0": {
      "model_module": "@jupyter-widgets/controls",
      "model_module_version": "1.2.0",
      "model_name": "DescriptionStyleModel",
      "state": {
       "description_width": ""
      }
     },
     "f1d245dabd4f46d2863ee555f8bb2c74": {
      "model_module": "@jupyter-widgets/controls",
      "model_module_version": "1.2.0",
      "model_name": "VBoxModel",
      "state": {
       "children": [
        "IPY_MODEL_fc02f6ca98ea406788780929f92bd734",
        "IPY_MODEL_26822cab5d224ced9a8ad28ba59258c4",
        "IPY_MODEL_4f3e7c15d504452bb41e6e9952f1d856",
        "IPY_MODEL_3845477382464e87972dda3439429969"
       ],
       "layout": "IPY_MODEL_d74ddaa9458a4be5b932a95c9e50e936"
      }
     },
     "f23fbfb7881646e78f61aa6018a1c80f": {
      "model_module": "@jupyter-widgets/base",
      "model_module_version": "1.0.0",
      "model_name": "LayoutModel",
      "state": {
       "width": "250px"
      }
     },
     "f24b8e9fbfa749009f9cb1eac316b5d0": {
      "model_module": "@jupyter-widgets/controls",
      "model_module_version": "1.2.0",
      "model_name": "HTMLModel",
      "state": {
       "layout": "IPY_MODEL_1560a61f5451479e9cb82d3d372cf7b8",
       "style": "IPY_MODEL_79994b8f681f4be7ab7b72599251c167",
       "value": "<h4 style=\"font-size:14px;\">Schlägt der geschehen-Test fehl, so handelt es sich um eine:</h4>"
      }
     },
     "f2879211ade242dbb50430b54dc698d2": {
      "model_module": "@jupyter-widgets/controls",
      "model_module_version": "1.2.0",
      "model_name": "HBoxModel",
      "state": {
       "children": [
        "IPY_MODEL_b3d51ad97e4c4df98176ae9907fcea73",
        "IPY_MODEL_6c8a2ae66cd34a98b02afacc607c573d"
       ],
       "layout": "IPY_MODEL_0074f1513340454baa64d6663e93fcbb"
      }
     },
     "f28b64fa07544efbbbb42d61faa29958": {
      "model_module": "@jupyter-widgets/controls",
      "model_module_version": "1.2.0",
      "model_name": "DescriptionStyleModel",
      "state": {
       "description_width": "initial"
      }
     },
     "f2c9723c88004577a5f19412e64cb753": {
      "model_module": "@jupyter-widgets/controls",
      "model_module_version": "1.2.0",
      "model_name": "HTMLModel",
      "state": {
       "layout": "IPY_MODEL_d68a1587a1c64f81b696629aa53aa1e0",
       "style": "IPY_MODEL_03a3bfbdcc8d4a93989b11cb9c86eb4e",
       "value": "<h4 style=\"font-size:14px;\">Welche Art von Dependenz besteht zwischen <i> fährt </i> und <i> Kollegin </i> ?</h4>"
      }
     },
     "f2c9858a7337417fbfac5b1d9f4dee3e": {
      "model_module": "@jupyter-widgets/base",
      "model_module_version": "1.0.0",
      "model_name": "LayoutModel",
      "state": {
       "width": "150px"
      }
     },
     "f2caeb2ddcda4deb83798e8beb6405ba": {
      "model_module": "@jupyter-widgets/controls",
      "model_module_version": "1.2.0",
      "model_name": "ButtonModel",
      "state": {
       "description": "amod",
       "layout": "IPY_MODEL_0644d9868d1e42c0835a5665ae8d1c1f",
       "style": "IPY_MODEL_29537318042e49f8aa4410302ef085e8"
      }
     },
     "f2f72ea46e9c4e2ba895f7d92e0c5ec8": {
      "model_module": "@jupyter-widgets/base",
      "model_module_version": "1.0.0",
      "model_name": "LayoutModel",
      "state": {
       "width": "600px"
      }
     },
     "f35478c5e0534b1a8ba406b5760fae45": {
      "model_module": "@jupyter-widgets/controls",
      "model_module_version": "1.2.0",
      "model_name": "HTMLModel",
      "state": {
       "layout": "IPY_MODEL_f98b2b4156eb426db0c3d29b511f9b08",
       "style": "IPY_MODEL_3659ea6cbf044400a2adb759eb1db885",
       "value": "<i>Wählen Sie die <ins>eine</ins> korrekte Antwort aus: </i>"
      }
     },
     "f372e3d290214fd488ffabb9808bb5c5": {
      "model_module": "@jupyter-widgets/controls",
      "model_module_version": "1.2.0",
      "model_name": "ButtonModel",
      "state": {
       "description": "Korrekt?",
       "layout": "IPY_MODEL_f23fbfb7881646e78f61aa6018a1c80f",
       "style": "IPY_MODEL_ae11e2a7c0244fb6ab8558ed37b4d48c"
      }
     },
     "f38efd3503f841a6b8568316d26dfe44": {
      "model_module": "@jupyter-widgets/controls",
      "model_module_version": "1.2.0",
      "model_name": "VBoxModel",
      "state": {
       "children": [
        "IPY_MODEL_20926c656cea4240b879afbfe9e1a19e",
        "IPY_MODEL_f6c8e349f555461e8942217350c4f557",
        "IPY_MODEL_1685c006b7c44c5fa801479756cacc2c"
       ],
       "layout": "IPY_MODEL_7df081d227164490ae7a7bb3bfc9225b"
      }
     },
     "f3a9d1dfc2ce4a048651c6b81f1101a5": {
      "model_module": "@jupyter-widgets/controls",
      "model_module_version": "1.2.0",
      "model_name": "ButtonModel",
      "state": {
       "description": "pcomp",
       "layout": "IPY_MODEL_967f561d2d59494badf1665008df4a3b",
       "style": "IPY_MODEL_643dc3283e9742e7b59da36936882f62"
      }
     },
     "f3baa0000aa44bebbe160a1f8cb2f064": {
      "model_module": "@jupyter-widgets/controls",
      "model_module_version": "1.2.0",
      "model_name": "DescriptionStyleModel",
      "state": {
       "description_width": "initial"
      }
     },
     "f3be0150664a46e28363cf6a644256b1": {
      "model_module": "@jupyter-widgets/base",
      "model_module_version": "1.0.0",
      "model_name": "LayoutModel",
      "state": {
       "width": "600px"
      }
     },
     "f3c06f360ac04a79aeae1c31712b42ef": {
      "model_module": "@jupyter-widgets/controls",
      "model_module_version": "1.2.0",
      "model_name": "ButtonModel",
      "state": {
       "description": "nummod",
       "layout": "IPY_MODEL_829e008785ad4daf9473ef6f61d4e599",
       "style": "IPY_MODEL_3c43ba30679448349485d2ecad89d2b9"
      }
     },
     "f3d523665eb4472998a0d339c7ec7fac": {
      "model_module": "@jupyter-widgets/base",
      "model_module_version": "1.0.0",
      "model_name": "LayoutModel",
      "state": {
       "justify_content": "center"
      }
     },
     "f3fc385d778040199a5460c565fd9963": {
      "model_module": "@jupyter-widgets/controls",
      "model_module_version": "1.2.0",
      "model_name": "DescriptionStyleModel",
      "state": {
       "description_width": "initial"
      }
     },
     "f4261d0b775e4a6f991c32045af9eef9": {
      "model_module": "@jupyter-widgets/controls",
      "model_module_version": "1.2.0",
      "model_name": "DropdownModel",
      "state": {
       "_options_labels": [
        " ",
        "Adverb",
        "Adverbial",
        " "
       ],
       "index": 0,
       "layout": "IPY_MODEL_f6bcd06ce0be4bf2961065f3bf018ffc",
       "style": "IPY_MODEL_b01aef57758745e182ab21da8ab9021b"
      }
     },
     "f4331f014c0f421eb464f950e8087623": {
      "model_module": "@jupyter-widgets/controls",
      "model_module_version": "1.2.0",
      "model_name": "DescriptionStyleModel",
      "state": {
       "description_width": "initial"
      }
     },
     "f44393a6759d417ca44f51973aa8088f": {
      "model_module": "@jupyter-widgets/base",
      "model_module_version": "1.0.0",
      "model_name": "LayoutModel",
      "state": {
       "width": "250px"
      }
     },
     "f44f07d0e01644ecadd9f15c5740e34a": {
      "model_module": "@jupyter-widgets/base",
      "model_module_version": "1.0.0",
      "model_name": "LayoutModel",
      "state": {
       "width": "250px"
      }
     },
     "f45695e27b344330bb3be650c7adae21": {
      "model_module": "@jupyter-widgets/controls",
      "model_module_version": "1.2.0",
      "model_name": "ButtonStyleModel",
      "state": {}
     },
     "f477e6e31e7a40e080eb658c1ce51a73": {
      "model_module": "@jupyter-widgets/controls",
      "model_module_version": "1.2.0",
      "model_name": "ButtonStyleModel",
      "state": {}
     },
     "f4abd26d4d534be0a15591b1a3920319": {
      "model_module": "@jupyter-widgets/controls",
      "model_module_version": "1.2.0",
      "model_name": "DescriptionStyleModel",
      "state": {
       "description_width": ""
      }
     },
     "f4bd486af356449c8f0073f51eabf73a": {
      "model_module": "@jupyter-widgets/controls",
      "model_module_version": "1.2.0",
      "model_name": "HTMLModel",
      "state": {
       "layout": "IPY_MODEL_dcffdf6c944b4faf85ab2eac379bc511",
       "style": "IPY_MODEL_8bd377134253456784d32a2e97bb48cc",
       "value": "<h4 style=\"font-size:14px;\">Im Satz hängen sowohl das</h4>"
      }
     },
     "f4e731f09e7b41c1a4e3f754c5887af9": {
      "model_module": "@jupyter-widgets/controls",
      "model_module_version": "1.2.0",
      "model_name": "ButtonModel",
      "state": {
       "description": "Korrekt?",
       "layout": "IPY_MODEL_50d2b88815354da4ad02d6ca85c65c62",
       "style": "IPY_MODEL_39bb95fc91b5463ea4212c1c09289c9a"
      }
     },
     "f4f8a528907c4fdeaf83366cd6918f19": {
      "model_module": "@jupyter-widgets/controls",
      "model_module_version": "1.2.0",
      "model_name": "ButtonModel",
      "state": {
       "description": "pcomp",
       "layout": "IPY_MODEL_238743b294214197935e6d8321164278",
       "style": "IPY_MODEL_883026c376a94efdb273c36a89996f57"
      }
     },
     "f52a1c61b3b84a038186211def371dbc": {
      "model_module": "@jupyter-widgets/controls",
      "model_module_version": "1.2.0",
      "model_name": "DescriptionStyleModel",
      "state": {
       "description_width": ""
      }
     },
     "f52b259d04544e7a82b90f699616f290": {
      "model_module": "@jupyter-widgets/base",
      "model_module_version": "1.0.0",
      "model_name": "LayoutModel",
      "state": {}
     },
     "f543e86274a94a1181f96015d0b3c923": {
      "model_module": "@jupyter-widgets/controls",
      "model_module_version": "1.2.0",
      "model_name": "DescriptionStyleModel",
      "state": {
       "description_width": "initial"
      }
     },
     "f54ccf32f6944ff3b4366dad72cb6d9d": {
      "model_module": "@jupyter-widgets/controls",
      "model_module_version": "1.2.0",
      "model_name": "DescriptionStyleModel",
      "state": {
       "description_width": ""
      }
     },
     "f57ed2db4e7e4912bb2abda4eef1e818": {
      "model_module": "@jupyter-widgets/controls",
      "model_module_version": "1.2.0",
      "model_name": "ButtonModel",
      "state": {
       "description": "case",
       "layout": "IPY_MODEL_30eba2322c774655a43bcfbab0571873",
       "style": "IPY_MODEL_fdbd15e172af44149051e97f330fedf7"
      }
     },
     "f58f46b4d44b477a8a440f5237344481": {
      "model_module": "@jupyter-widgets/controls",
      "model_module_version": "1.2.0",
      "model_name": "ButtonStyleModel",
      "state": {}
     },
     "f59f102f69b040ef8f91fd9cedd5c19a": {
      "model_module": "@jupyter-widgets/controls",
      "model_module_version": "1.2.0",
      "model_name": "HBoxModel",
      "state": {
       "children": [
        "IPY_MODEL_d216df4d036a41949357ad9527a81160",
        "IPY_MODEL_64c3f127cbbb49fb8caefb538c30b01d"
       ],
       "layout": "IPY_MODEL_6976bd5f0c23437a8759cd087e97533c"
      }
     },
     "f5cf8bb41d8746868e68d922866d8d3f": {
      "model_module": "@jupyter-widgets/controls",
      "model_module_version": "1.2.0",
      "model_name": "ButtonStyleModel",
      "state": {}
     },
     "f5d56cf673b240cab9395cd648d109fb": {
      "model_module": "@jupyter-widgets/controls",
      "model_module_version": "1.2.0",
      "model_name": "HTMLModel",
      "state": {
       "layout": "IPY_MODEL_da21b41df0d84049b6a83cf35dd1b1a7",
       "style": "IPY_MODEL_9ecef18cf6f746dd9e4a24faf51dfd87",
       "value": "<h4 style=\"font-size:14px;\">Welche Art von Dependenz besteht zwischen <i> fährt </i> und <i> ihrem </i> ?</h4>"
      }
     },
     "f614daf58e1041f6bf6c4acdaf52ed18": {
      "model_module": "@jupyter-widgets/controls",
      "model_module_version": "1.2.0",
      "model_name": "DescriptionStyleModel",
      "state": {
       "description_width": ""
      }
     },
     "f622ed803a714a76b41a55f54e4f642b": {
      "model_module": "@jupyter-widgets/base",
      "model_module_version": "1.0.0",
      "model_name": "LayoutModel",
      "state": {
       "justify_content": "center"
      }
     },
     "f62fd114c8944232a4a0760882c77399": {
      "model_module": "@jupyter-widgets/controls",
      "model_module_version": "1.2.0",
      "model_name": "ButtonModel",
      "state": {
       "description": "pcomp",
       "layout": "IPY_MODEL_2c870d596abf4f73b0003df618b0627a",
       "style": "IPY_MODEL_72aebe1aef4547989eae0da91ccf4672"
      }
     },
     "f632a7b552444c9ba53e1ab6e67ea922": {
      "model_module": "@jupyter-widgets/controls",
      "model_module_version": "1.2.0",
      "model_name": "DescriptionStyleModel",
      "state": {
       "description_width": "initial"
      }
     },
     "f649a32baa554aaabeb1c78e9656e073": {
      "model_module": "@jupyter-widgets/controls",
      "model_module_version": "1.2.0",
      "model_name": "DescriptionStyleModel",
      "state": {
       "description_width": ""
      }
     },
     "f665aaeaa0da4ae7ac353d9765cddcb7": {
      "model_module": "@jupyter-widgets/base",
      "model_module_version": "1.0.0",
      "model_name": "LayoutModel",
      "state": {
       "width": "600px"
      }
     },
     "f6ab906aec3643e99dda2c1820035e02": {
      "model_module": "@jupyter-widgets/controls",
      "model_module_version": "1.2.0",
      "model_name": "DescriptionStyleModel",
      "state": {
       "description_width": "initial"
      }
     },
     "f6bcd06ce0be4bf2961065f3bf018ffc": {
      "model_module": "@jupyter-widgets/base",
      "model_module_version": "1.0.0",
      "model_name": "LayoutModel",
      "state": {
       "width": "150px"
      }
     },
     "f6c8e349f555461e8942217350c4f557": {
      "model_module": "@jupyter-widgets/controls",
      "model_module_version": "1.2.0",
      "model_name": "BoxModel",
      "state": {
       "children": [
        "IPY_MODEL_5cd7f33eaa53407db30376bf1df21391",
        "IPY_MODEL_3cda6315e3ca443aaf535eab6af75061",
        "IPY_MODEL_732aac4c22a34d55a9e889a13f3f4ade",
        "IPY_MODEL_f980a08e81de403eb74154ca7a74343a",
        "IPY_MODEL_660800f56f4a438680d9369a6afec68d",
        "IPY_MODEL_ef2a14a223f14997a6045add51e60f1d",
        "IPY_MODEL_eecd212b869f4b77bf11216e5800c913",
        "IPY_MODEL_bf0b6d6753a943ebb5f6e475582204e1",
        "IPY_MODEL_50f7e6892d78466aa4bcffcd9168e24f",
        "IPY_MODEL_51d078d0fa8140e786d984ec4b7f228a",
        "IPY_MODEL_96566a0cd1154168b81cb065e6d6f9d6",
        "IPY_MODEL_1acc28765bb340199ca1b0a705019dd4",
        "IPY_MODEL_c9239f34f95b43ac84996f86fa07c16a",
        "IPY_MODEL_f4261d0b775e4a6f991c32045af9eef9",
        "IPY_MODEL_1c9dc7fa52f64bfd82fa4e08237668d6"
       ],
       "layout": "IPY_MODEL_bf4cc228455840a3b3354c10e44628a7"
      }
     },
     "f70557dbacb646c881ed80e8c1d96593": {
      "model_module": "@jupyter-widgets/controls",
      "model_module_version": "1.2.0",
      "model_name": "DescriptionStyleModel",
      "state": {
       "description_width": "initial"
      }
     },
     "f716f11f23cc4ab99ea652649a715cbc": {
      "model_module": "@jupyter-widgets/controls",
      "model_module_version": "1.2.0",
      "model_name": "DescriptionStyleModel",
      "state": {
       "description_width": ""
      }
     },
     "f79c7c91cd96453f933ed1f73d981ab5": {
      "model_module": "@jupyter-widgets/controls",
      "model_module_version": "1.2.0",
      "model_name": "HBoxModel",
      "state": {
       "children": [
        "IPY_MODEL_f57ed2db4e7e4912bb2abda4eef1e818",
        "IPY_MODEL_78f976af343c46b4ae844a96ff5251d1"
       ],
       "layout": "IPY_MODEL_103a0b704a3a4e3cbb9517739dadb647"
      }
     },
     "f7ad91e19b9c432495175d09ca479f81": {
      "model_module": "@jupyter-widgets/base",
      "model_module_version": "1.0.0",
      "model_name": "LayoutModel",
      "state": {
       "width": "250px"
      }
     },
     "f7aec7f481944d6ea8eb82faf7d16772": {
      "model_module": "@jupyter-widgets/controls",
      "model_module_version": "1.2.0",
      "model_name": "VBoxModel",
      "state": {
       "children": [
        "IPY_MODEL_fe13d1ff1d9b4b3bb86896142787b8b3",
        "IPY_MODEL_394be6af2ff74038899421f573768e89",
        "IPY_MODEL_796898b4400d401199b9c0ad3146bf2d",
        "IPY_MODEL_b1f823dc236a49e895d61d068c75e2ff",
        "IPY_MODEL_c49bc2acfb6f4b9499295e8065155582"
       ],
       "layout": "IPY_MODEL_257ec8bf8f63433c8463209b1081a6fa"
      }
     },
     "f7e0302efd0647b2bebc08b21fe78fb6": {
      "model_module": "@jupyter-widgets/base",
      "model_module_version": "1.0.0",
      "model_name": "LayoutModel",
      "state": {}
     },
     "f8162d76a2a0414cb0b392cf4d2ed002": {
      "model_module": "@jupyter-widgets/base",
      "model_module_version": "1.0.0",
      "model_name": "LayoutModel",
      "state": {
       "width": "600px"
      }
     },
     "f838aa2b998c4cf1b3936b0e9f773848": {
      "model_module": "@jupyter-widgets/controls",
      "model_module_version": "1.2.0",
      "model_name": "ButtonModel",
      "state": {
       "description": "det",
       "layout": "IPY_MODEL_cf38413bc1dc4e6d97364ca89e813e09",
       "style": "IPY_MODEL_1b066c3725b541bf884a69f069fb2f9c"
      }
     },
     "f8485a8ea9194ca5abb4858f49329f4b": {
      "model_module": "@jupyter-widgets/base",
      "model_module_version": "1.0.0",
      "model_name": "LayoutModel",
      "state": {
       "width": "150px"
      }
     },
     "f848ae22ba2e45558e093068192dd9f9": {
      "model_module": "@jupyter-widgets/controls",
      "model_module_version": "1.2.0",
      "model_name": "ButtonStyleModel",
      "state": {}
     },
     "f850e15f13304ff1b999f9ca058fb1d5": {
      "model_module": "@jupyter-widgets/controls",
      "model_module_version": "1.2.0",
      "model_name": "ButtonModel",
      "state": {
       "description": "Korrekt?",
       "layout": "IPY_MODEL_252f409824564991bc6b3a6cd3e12eab",
       "style": "IPY_MODEL_76ad90a3fec748f0a41563c2b5a4275f"
      }
     },
     "f867179f9d074c60b0c23dc009209ebf": {
      "model_module": "@jupyter-widgets/controls",
      "model_module_version": "1.2.0",
      "model_name": "DescriptionStyleModel",
      "state": {
       "description_width": ""
      }
     },
     "f879908e2fcd4a7c9e7db9b8782ce49a": {
      "model_module": "@jupyter-widgets/controls",
      "model_module_version": "1.2.0",
      "model_name": "DescriptionStyleModel",
      "state": {
       "description_width": ""
      }
     },
     "f87e5841293748b6ad693de250341259": {
      "model_module": "@jupyter-widgets/controls",
      "model_module_version": "1.2.0",
      "model_name": "HTMLModel",
      "state": {
       "layout": "IPY_MODEL_342b8cc351b14d06a04b686cc6e7eb36",
       "style": "IPY_MODEL_26c329b039b345a0881af409d54f8fcc",
       "value": "<i>Wählen Sie die <ins>eine</ins> korrekte Antwort aus: </i>"
      }
     },
     "f89e21953fb644cf9ee3ec9c76cfbfed": {
      "model_module": "@jupyter-widgets/base",
      "model_module_version": "1.0.0",
      "model_name": "LayoutModel",
      "state": {}
     },
     "f8a2aeafc6af465984c0a00ab5719e71": {
      "model_module": "@jupyter-widgets/base",
      "model_module_version": "1.0.0",
      "model_name": "LayoutModel",
      "state": {
       "width": "600px"
      }
     },
     "f8a59868839b4df5b33bc6f51bef2582": {
      "model_module": "@jupyter-widgets/controls",
      "model_module_version": "1.2.0",
      "model_name": "CheckboxModel",
      "state": {
       "description": "fährt mit der S-Bahn zu ihrem neuen Arbeitsplatz",
       "disabled": false,
       "layout": "IPY_MODEL_3d9b194f29134a6e80d4375650ecf79a",
       "style": "IPY_MODEL_184a263fd05d4fafb146331bca8daa3d",
       "value": false
      }
     },
     "f8d4892931d443c29a3b47053f5d7381": {
      "model_module": "@jupyter-widgets/controls",
      "model_module_version": "1.2.0",
      "model_name": "HTMLModel",
      "state": {
       "layout": "IPY_MODEL_7c9976fa6ead46cea1fe1886cc633f4a",
       "style": "IPY_MODEL_77ed4747949d464a8e53e51530696188",
       "value": "<h4 style=\"font-size:14px;\">Markieren Sie alle direkten Dependenten des Wortes <i> Bruder </i>.</h4>"
      }
     },
     "f9342306c3494b24a0cb18a62efc00d8": {
      "model_module": "@jupyter-widgets/base",
      "model_module_version": "1.0.0",
      "model_name": "LayoutModel",
      "state": {
       "justify_content": "center"
      }
     },
     "f937c5f9e6b5438597b01c9414e0e545": {
      "model_module": "@jupyter-widgets/controls",
      "model_module_version": "1.2.0",
      "model_name": "ButtonModel",
      "state": {
       "description": "obl",
       "layout": "IPY_MODEL_525d58e233ad4df790dd39264b586691",
       "style": "IPY_MODEL_6168cd3068b841b5a4d30ef954cd7a9b"
      }
     },
     "f949eb6a9bfe4dc59161fa512f814cd6": {
      "model_module": "@jupyter-widgets/controls",
      "model_module_version": "1.2.0",
      "model_name": "VBoxModel",
      "state": {
       "children": [
        "IPY_MODEL_a528e89f963148db93a895234af6b953",
        "IPY_MODEL_5c7e68cdd9194604985a4ba71066c269",
        "IPY_MODEL_7fb72a6337c34736991c69b9dd900eaf"
       ],
       "layout": "IPY_MODEL_7020e6472cb94b25b1189afcfaba21b7"
      }
     },
     "f974eef8fd504b4e987be07409482664": {
      "model_module": "@jupyter-widgets/controls",
      "model_module_version": "1.2.0",
      "model_name": "VBoxModel",
      "state": {
       "children": [
        "IPY_MODEL_39c4aa52ffc14e58b0a4df9afe9d6ba7",
        "IPY_MODEL_306e88c97c6045ccb900d0f5dbcd3990",
        "IPY_MODEL_c61202c987814347bbc01ccab357040b",
        "IPY_MODEL_29c18d6e58c04cd984c04a76997badd2"
       ],
       "layout": "IPY_MODEL_71c77b4accc74c2096c82191bbf58578"
      }
     },
     "f980a08e81de403eb74154ca7a74343a": {
      "model_module": "@jupyter-widgets/controls",
      "model_module_version": "1.2.0",
      "model_name": "DropdownModel",
      "state": {
       "_options_labels": [
        "Adverb",
        "Adverbial",
        " "
       ],
       "index": 2,
       "layout": "IPY_MODEL_245e7ed0f5044851aac6fced2536a670",
       "style": "IPY_MODEL_ded98332f0ec4ac3b5524f226ad494ae"
      }
     },
     "f98b2b4156eb426db0c3d29b511f9b08": {
      "model_module": "@jupyter-widgets/base",
      "model_module_version": "1.0.0",
      "model_name": "LayoutModel",
      "state": {
       "justify_content": "center"
      }
     },
     "f9c1cdb9ba3a4c38a4e4cec0d589fc57": {
      "model_module": "@jupyter-widgets/controls",
      "model_module_version": "1.2.0",
      "model_name": "DescriptionStyleModel",
      "state": {
       "description_width": "initial"
      }
     },
     "f9dc6389ac3b4ee1b3a05c143723fef2": {
      "model_module": "@jupyter-widgets/base",
      "model_module_version": "1.0.0",
      "model_name": "LayoutModel",
      "state": {
       "width": "600px"
      }
     },
     "fa09fb0f8f4d4e80bdf8b07930ccb8fb": {
      "model_module": "@jupyter-widgets/controls",
      "model_module_version": "1.2.0",
      "model_name": "DescriptionStyleModel",
      "state": {
       "description_width": "initial"
      }
     },
     "fa5aa62c8e9743da9138d0d98b5618ed": {
      "model_module": "@jupyter-widgets/controls",
      "model_module_version": "1.2.0",
      "model_name": "CheckboxModel",
      "state": {
       "description": "H bestimmt den semantischen Typ von C",
       "disabled": false,
       "layout": "IPY_MODEL_448e088c96524cf792e18510b3b8acf4",
       "style": "IPY_MODEL_49391cf07cc0404f86e0c51230923825",
       "value": false
      }
     },
     "fa6728137694426496933a25850b7b92": {
      "model_module": "@jupyter-widgets/controls",
      "model_module_version": "1.2.0",
      "model_name": "ButtonStyleModel",
      "state": {}
     },
     "fa6fcaad8d0b44aeb71955df24f87aed": {
      "model_module": "@jupyter-widgets/controls",
      "model_module_version": "1.2.0",
      "model_name": "ButtonModel",
      "state": {
       "description": "prep",
       "layout": "IPY_MODEL_5cb903db9b3648958d4e9e4a7fc411ae",
       "style": "IPY_MODEL_a34c07a52f12441ca5fe1da936ec7b6e"
      }
     },
     "fa71f25ff72d4f968bf5c19671e6ceed": {
      "model_module": "@jupyter-widgets/base",
      "model_module_version": "1.0.0",
      "model_name": "LayoutModel",
      "state": {
       "width": "600px"
      }
     },
     "fa9e472864404121abb4853b66c5c6b8": {
      "model_module": "@jupyter-widgets/base",
      "model_module_version": "1.0.0",
      "model_name": "LayoutModel",
      "state": {
       "width": "600px"
      }
     },
     "faa1a504a5fb4c0c8f956698b443e620": {
      "model_module": "@jupyter-widgets/controls",
      "model_module_version": "1.2.0",
      "model_name": "DescriptionStyleModel",
      "state": {
       "description_width": "initial"
      }
     },
     "fafa306e52d942aa8306861efc0e2627": {
      "model_module": "@jupyter-widgets/controls",
      "model_module_version": "1.2.0",
      "model_name": "CheckboxModel",
      "state": {
       "description": "Mädchen",
       "disabled": false,
       "layout": "IPY_MODEL_1975b8c7720349cf917ceb55531b60ea",
       "style": "IPY_MODEL_251b0af8e37f46bcbe29322e4645ac4e",
       "value": false
      }
     },
     "fb1d02878dc64fa2a43150358ef76755": {
      "model_module": "@jupyter-widgets/controls",
      "model_module_version": "1.2.0",
      "model_name": "DropdownModel",
      "state": {
       "_options_labels": [
        "nicht",
        " "
       ],
       "index": 1,
       "layout": "IPY_MODEL_a4f82b57f9564f51b1ddb8f32024270e",
       "style": "IPY_MODEL_290ce2e812b04b9bad3cd36636894e7a"
      }
     },
     "fb84c43826ae4a489cdaa6bc569c936f": {
      "model_module": "@jupyter-widgets/controls",
      "model_module_version": "1.2.0",
      "model_name": "DescriptionStyleModel",
      "state": {
       "description_width": ""
      }
     },
     "fb9a384799524dbfb40288d89dd88708": {
      "model_module": "@jupyter-widgets/controls",
      "model_module_version": "1.2.0",
      "model_name": "HTMLModel",
      "state": {
       "layout": "IPY_MODEL_67a931cfc30547eb9add1d6b64dd4eff",
       "style": "IPY_MODEL_ebab26ec3fd84dd7814172f22e986ba5",
       "value": "<i>Markieren Sie <ins>alle</ins> passenden Antworten: </i>"
      }
     },
     "fbc4ba19b8c241d783b7ff303a6d89f4": {
      "model_module": "@jupyter-widgets/base",
      "model_module_version": "1.0.0",
      "model_name": "LayoutModel",
      "state": {}
     },
     "fbc7d1c09f7f4759acfaee2493badd71": {
      "model_module": "@jupyter-widgets/controls",
      "model_module_version": "1.2.0",
      "model_name": "DescriptionStyleModel",
      "state": {
       "description_width": "initial"
      }
     },
     "fc02f6ca98ea406788780929f92bd734": {
      "model_module": "@jupyter-widgets/controls",
      "model_module_version": "1.2.0",
      "model_name": "HTMLModel",
      "state": {
       "layout": "IPY_MODEL_a21a44d09e174f488d91044b5f46fe23",
       "style": "IPY_MODEL_6f60a08164654e9796c5573c442ecbe5",
       "value": "<h4 style=\"font-size:14px;\">Markieren Sie alle direkten Dependenten des Wortes <i> ihrem </i>.</h4>"
      }
     },
     "fc26ae0daee5408bb8ce4032e15e24d1": {
      "model_module": "@jupyter-widgets/controls",
      "model_module_version": "1.2.0",
      "model_name": "HTMLModel",
      "state": {
       "layout": "IPY_MODEL_b5436de056cf4a34a665c0e2ba2d208b",
       "style": "IPY_MODEL_7c187ff3686b4d2a9028f6e184a9f262",
       "value": "<i>Markieren Sie <ins>alle</ins> passenden Antworten: </i>"
      }
     },
     "fc6aecdd68b142b78b66ac1b52c9bb63": {
      "model_module": "@jupyter-widgets/controls",
      "model_module_version": "1.2.0",
      "model_name": "DescriptionStyleModel",
      "state": {
       "description_width": "initial"
      }
     },
     "fc8c0a0abf034ad48813f7068115363d": {
      "model_module": "@jupyter-widgets/controls",
      "model_module_version": "1.2.0",
      "model_name": "ButtonStyleModel",
      "state": {}
     },
     "fc94e681a01441cc8b83513c6ff5ab24": {
      "model_module": "@jupyter-widgets/controls",
      "model_module_version": "1.2.0",
      "model_name": "DescriptionStyleModel",
      "state": {
       "description_width": ""
      }
     },
     "fcd0eb17974e461e9510e5d5d8698a67": {
      "model_module": "@jupyter-widgets/controls",
      "model_module_version": "1.2.0",
      "model_name": "CheckboxModel",
      "state": {
       "description": "Ich",
       "disabled": false,
       "layout": "IPY_MODEL_b651a4aa4c35420c93c752911a204a61",
       "style": "IPY_MODEL_7592393c329b4747953a9c0b6a4a56d8",
       "value": false
      }
     },
     "fce01fccba52442e97a269f6ff0f0d32": {
      "model_module": "@jupyter-widgets/base",
      "model_module_version": "1.0.0",
      "model_name": "LayoutModel",
      "state": {}
     },
     "fd0b87248c954fbfba73003a8adc272c": {
      "model_module": "@jupyter-widgets/base",
      "model_module_version": "1.0.0",
      "model_name": "LayoutModel",
      "state": {
       "width": "250px"
      }
     },
     "fd35f1ffc03a4101a9e722aa65450583": {
      "model_module": "@jupyter-widgets/controls",
      "model_module_version": "1.2.0",
      "model_name": "CheckboxModel",
      "state": {
       "description": "Passivierbarkeit",
       "disabled": false,
       "layout": "IPY_MODEL_0066c832115b4382ba89f042cbf9775c",
       "style": "IPY_MODEL_b4f697d802c04b58b8289170e5d641b8",
       "value": false
      }
     },
     "fd4e2fc6a23d4bb29fdb17abfcd0594e": {
      "model_module": "@jupyter-widgets/controls",
      "model_module_version": "1.2.0",
      "model_name": "ButtonStyleModel",
      "state": {}
     },
     "fd4fe38ca0024afba0602b7c7660cb18": {
      "model_module": "@jupyter-widgets/base",
      "model_module_version": "1.0.0",
      "model_name": "LayoutModel",
      "state": {
       "width": "600px"
      }
     },
     "fd7adb8ab786423e8f8812f1b1d62736": {
      "model_module": "@jupyter-widgets/controls",
      "model_module_version": "1.2.0",
      "model_name": "ButtonStyleModel",
      "state": {}
     },
     "fd84b88717864b008c13e2e3a848da2f": {
      "model_module": "@jupyter-widgets/controls",
      "model_module_version": "1.2.0",
      "model_name": "CheckboxModel",
      "state": {
       "description": "geschehen-Test",
       "disabled": false,
       "layout": "IPY_MODEL_15d5eeac6bbf472f8e032f597459984b",
       "style": "IPY_MODEL_fa09fb0f8f4d4e80bdf8b07930ccb8fb",
       "value": false
      }
     },
     "fd8507b5459247cab9043353a0950fd5": {
      "model_module": "@jupyter-widgets/controls",
      "model_module_version": "1.2.0",
      "model_name": "HBoxModel",
      "state": {
       "children": [
        "IPY_MODEL_54c3eabff54e4803a3a9a08f8aafbcab",
        "IPY_MODEL_a0e3f903bb084dbea165b48e2270f255"
       ],
       "layout": "IPY_MODEL_3d1142c45abd4feab8dc44ee54b687cd"
      }
     },
     "fd8b134ea38e49569e511f075ffab8e9": {
      "model_module": "@jupyter-widgets/controls",
      "model_module_version": "1.2.0",
      "model_name": "DescriptionStyleModel",
      "state": {
       "description_width": ""
      }
     },
     "fd92cdc88c9c45c49191a6a03c203360": {
      "model_module": "@jupyter-widgets/controls",
      "model_module_version": "1.2.0",
      "model_name": "DescriptionStyleModel",
      "state": {
       "description_width": ""
      }
     },
     "fdbd15e172af44149051e97f330fedf7": {
      "model_module": "@jupyter-widgets/controls",
      "model_module_version": "1.2.0",
      "model_name": "ButtonStyleModel",
      "state": {}
     },
     "fdc35cd9ee854ff8b35c7cda64036f6d": {
      "model_module": "@jupyter-widgets/base",
      "model_module_version": "1.0.0",
      "model_name": "LayoutModel",
      "state": {}
     },
     "fdd35cb4727c40a9abfd6e619eb2078d": {
      "model_module": "@jupyter-widgets/controls",
      "model_module_version": "1.2.0",
      "model_name": "VBoxModel",
      "state": {
       "children": [
        "IPY_MODEL_1c5942f356dd4ced86fd008caf65766c",
        "IPY_MODEL_0ec5f912646b44ba9778b6652884823f",
        "IPY_MODEL_5749b464eff54d9faf4a48eb3584ea91",
        "IPY_MODEL_4e1951c62234454da846114d4e287cb5",
        "IPY_MODEL_1601dec86415466ca8efb0272f56b842"
       ],
       "layout": "IPY_MODEL_14cb8f20e1c845fca7a5c33498004b99"
      }
     },
     "fdd558a933e945e6bda94cb2c47e8d3d": {
      "model_module": "@jupyter-widgets/base",
      "model_module_version": "1.0.0",
      "model_name": "LayoutModel",
      "state": {
       "width": "250px"
      }
     },
     "fddc39da391b4c418e95933c9dce6d28": {
      "model_module": "@jupyter-widgets/base",
      "model_module_version": "1.0.0",
      "model_name": "LayoutModel",
      "state": {
       "width": "600px"
      }
     },
     "fe07e5c0aac542a8b8a56977c1147b48": {
      "model_module": "@jupyter-widgets/controls",
      "model_module_version": "1.2.0",
      "model_name": "HTMLModel",
      "state": {
       "layout": "IPY_MODEL_667970257d0644c082b2d733ce626cbf",
       "style": "IPY_MODEL_9b42b1c6fcfd4cdc947a6b731640b92f",
       "value": "<h4 style=\"font-size:14px;\">Im Deutschen wird das indirekte Objekt __________. </h4>"
      }
     },
     "fe1365118a364a328f257390ce58d71e": {
      "model_module": "@jupyter-widgets/controls",
      "model_module_version": "1.2.0",
      "model_name": "DescriptionStyleModel",
      "state": {
       "description_width": ""
      }
     },
     "fe13d1ff1d9b4b3bb86896142787b8b3": {
      "model_module": "@jupyter-widgets/controls",
      "model_module_version": "1.2.0",
      "model_name": "HTMLModel",
      "state": {
       "layout": "IPY_MODEL_84bb7baa48a546709db4d9d8ac187af6",
       "style": "IPY_MODEL_d626a234807c444fa695bb4d585ccea5",
       "value": "<h4 style=\"font-size:14px;\">Welche Art von Dependenz besteht zwischen <i> Kollegin </i> und <i> die </i> ?</h4>"
      }
     },
     "fe2c95b9d7974bee945209ff20910995": {
      "model_module": "@jupyter-widgets/base",
      "model_module_version": "1.0.0",
      "model_name": "LayoutModel",
      "state": {}
     },
     "fe39b4ebd3f14ffa919daf7b69a2de24": {
      "model_module": "@jupyter-widgets/controls",
      "model_module_version": "1.2.0",
      "model_name": "ButtonStyleModel",
      "state": {}
     },
     "fe3a9768899642bbbce4b819f3312960": {
      "model_module": "@jupyter-widgets/controls",
      "model_module_version": "1.2.0",
      "model_name": "HTMLModel",
      "state": {
       "layout": "IPY_MODEL_d23752b7a37349a3874bd74a69d37279",
       "style": "IPY_MODEL_7d19470d49bf4c7c8271f749907f7e7b",
       "value": "<i>Wählen Sie die <ins>eine</ins> korrekte Antwort aus: </i>"
      }
     },
     "fe4896f023e546c1858ecdf16afc2639": {
      "model_module": "@jupyter-widgets/controls",
      "model_module_version": "1.2.0",
      "model_name": "HBoxModel",
      "state": {
       "children": [
        "IPY_MODEL_79a4c32b6ca34550a1a9f1c350e5d7ac",
        "IPY_MODEL_6e8c30262dcf4c36a1df7ce1c71e0199"
       ],
       "layout": "IPY_MODEL_581351ed99964049b583867b416c101a"
      }
     },
     "fe4d9293604749c69387f11db39aa6d7": {
      "model_module": "@jupyter-widgets/base",
      "model_module_version": "1.0.0",
      "model_name": "LayoutModel",
      "state": {
       "width": "600px"
      }
     },
     "fea63f6aa34e427fa30b06fd17b97c55": {
      "model_module": "@jupyter-widgets/controls",
      "model_module_version": "1.2.0",
      "model_name": "VBoxModel",
      "state": {
       "children": [
        "IPY_MODEL_15ecf2423e824a6b9b4fea89bab083d8",
        "IPY_MODEL_1fc613bcd3274b88829e1bd48e4d3774",
        "IPY_MODEL_71c8899411e54e37b6f883a28c5e6685",
        "IPY_MODEL_163ae3822add49eaa4e2dae26f12d865"
       ],
       "layout": "IPY_MODEL_69b6b3cf9eed473db07e980303cbe812"
      }
     },
     "febcfaa2ea1b4079aab566381ba010d8": {
      "model_module": "@jupyter-widgets/base",
      "model_module_version": "1.0.0",
      "model_name": "LayoutModel",
      "state": {}
     },
     "fec1c447b893452f968014c38142951d": {
      "model_module": "@jupyter-widgets/base",
      "model_module_version": "1.0.0",
      "model_name": "LayoutModel",
      "state": {
       "width": "600px"
      }
     },
     "fec2fca4dbd44b66a6ac14f53b07cc06": {
      "model_module": "@jupyter-widgets/base",
      "model_module_version": "1.0.0",
      "model_name": "LayoutModel",
      "state": {
       "width": "600px"
      }
     },
     "fedec66ad45c45e286f1b175144670a0": {
      "model_module": "@jupyter-widgets/controls",
      "model_module_version": "1.2.0",
      "model_name": "ButtonStyleModel",
      "state": {}
     },
     "fee1a1c3a824456f8ed9718121d71542": {
      "model_module": "@jupyter-widgets/controls",
      "model_module_version": "1.2.0",
      "model_name": "HBoxModel",
      "state": {
       "children": [
        "IPY_MODEL_3f6732ddd71e4ebc8867ba7c81e397aa",
        "IPY_MODEL_b6611135be0d4ffaadfb72c591818c18"
       ],
       "layout": "IPY_MODEL_548c82159041482e9b6e9ab2bbc88b85"
      }
     },
     "fee97eacd86d4021afcfce2f7fead6a5": {
      "model_module": "@jupyter-widgets/base",
      "model_module_version": "1.0.0",
      "model_name": "LayoutModel",
      "state": {
       "justify_content": "center"
      }
     },
     "feff7ca2ce3d407a81f6414aafa9f482": {
      "model_module": "@jupyter-widgets/base",
      "model_module_version": "1.0.0",
      "model_name": "LayoutModel",
      "state": {}
     },
     "ff0bf24766864107aa35f623f2fd4bca": {
      "model_module": "@jupyter-widgets/base",
      "model_module_version": "1.0.0",
      "model_name": "LayoutModel",
      "state": {}
     },
     "ff10ebdf81bd47b5b80f6d1ff532f929": {
      "model_module": "@jupyter-widgets/base",
      "model_module_version": "1.0.0",
      "model_name": "LayoutModel",
      "state": {
       "width": "600px"
      }
     },
     "ff18c2dd64504a538083ac07d0c76d6b": {
      "model_module": "@jupyter-widgets/base",
      "model_module_version": "1.0.0",
      "model_name": "LayoutModel",
      "state": {
       "width": "600px"
      }
     },
     "ff203251f2694e45989635dd3172fcc5": {
      "model_module": "@jupyter-widgets/controls",
      "model_module_version": "1.2.0",
      "model_name": "ButtonStyleModel",
      "state": {}
     },
     "ff3f6849f0b14d80ad38739de3f348eb": {
      "model_module": "@jupyter-widgets/base",
      "model_module_version": "1.0.0",
      "model_name": "LayoutModel",
      "state": {}
     },
     "ffdeafb8455f43e8a482c8c7908073f2": {
      "model_module": "@jupyter-widgets/controls",
      "model_module_version": "1.2.0",
      "model_name": "ButtonModel",
      "state": {
       "description": "case",
       "layout": "IPY_MODEL_77f7f6d11ac34feaacb9596c0264940f",
       "style": "IPY_MODEL_6b7c61f9cf2b42c98cce95b99b4276fd"
      }
     }
    },
    "version_major": 2,
    "version_minor": 0
   }
  }
 },
 "nbformat": 4,
 "nbformat_minor": 2
}
