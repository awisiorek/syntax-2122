{
 "cells": [
  {
   "cell_type": "markdown",
   "metadata": {
    "slideshow": {
     "slide_type": "slide"
    }
   },
   "source": [
    "***Syntax natürlicher Sprachen, WS 2021/22***\n",
    "\n",
    "---\n",
    "# Wiederholungsfragen 10"
   ]
  },
  {
   "cell_type": "code",
   "execution_count": 1,
   "metadata": {
    "slideshow": {
     "slide_type": "fragment"
    }
   },
   "outputs": [],
   "source": [
    "from exercises_10 import *\n",
    "from questions import aufgabe\n",
    "from nltk.tree import Tree\n",
    "from nltk import FeatStruct"
   ]
  },
  {
   "cell_type": "markdown",
   "metadata": {
    "slideshow": {
     "slide_type": "slide"
    }
   },
   "source": [
    "--- \n",
    "# Hausaufgaben"
   ]
  },
  {
   "cell_type": "markdown",
   "metadata": {
    "slideshow": {
     "slide_type": "slide"
    }
   },
   "source": [
    "---\n",
    "## Frage 1: Fragen zu NLTK-Kapitel 9.2\n",
    "\n",
    "#### Lesen Sie das NLTK-Teilkapitel 9.2 (’Processing Feature Structures’): http://www.nltk.org/book/ch09.html.\n",
    "\n",
    "#### Beantworten Sie insbesondere folgende Fragen:"
   ]
  },
  {
   "cell_type": "markdown",
   "metadata": {
    "slideshow": {
     "slide_type": "subslide"
    }
   },
   "source": [
    "---\n",
    "### Frage 1 a:\n",
    "#### Welchen Wert hat der feature path <code>(’spouse’, ’address’, ’number’)</code> in (22):(http://www.nltk.org/book/ch09.html#ex-dag03) ? Geben Sie einen zu diesem Pfad äquivalenten Pfad an."
   ]
  },
  {
   "cell_type": "code",
   "execution_count": 2,
   "metadata": {
    "slideshow": {
     "slide_type": "subslide"
    }
   },
   "outputs": [
    {
     "data": {
      "application/vnd.jupyter.widget-view+json": {
       "model_id": "86fceaed95044eef94049baf65b4ad6f",
       "version_major": 2,
       "version_minor": 0
      },
      "text/plain": [
       "MultipleChoice(children=(HTML(value='<h4 style=\"font-size:14px;\">Beantworten Sie die beiden obigen Fragen.</h4…"
      ]
     },
     "metadata": {},
     "output_type": "display_data"
    }
   ],
   "source": [
    "aufgabe(blatt10_1a)"
   ]
  },
  {
   "cell_type": "markdown",
   "metadata": {
    "slideshow": {
     "slide_type": "subslide"
    }
   },
   "source": [
    "---\n",
    "### Frage 1 b:\n",
    "\n",
    "#### Geben Sie zwei linguistische Merkmalstrukturen FS<sub>0</sub> und FS<sub>1</sub> an, die in einer Subsumptionsbeziehung stehen (FS<sub>0</sub>⊑FS<sub>1</sub>). Was kommt nach (26), Kapitel 9.2.1, dabei heraus, wenn man solche zwei Merkmalstrukturen unifiziert?"
   ]
  },
  {
   "cell_type": "code",
   "execution_count": 3,
   "metadata": {
    "slideshow": {
     "slide_type": "fragment"
    }
   },
   "outputs": [
    {
     "data": {
      "application/vnd.jupyter.widget-view+json": {
       "model_id": "b07ce6a975e24ddda399df4e34c6bea9",
       "version_major": 2,
       "version_minor": 0
      },
      "text/plain": [
       "MultipleChoice(children=(HTML(value='<h4 style=\"font-size:14px;\">Welche Beispiele erfüllen die obige Subsumpti…"
      ]
     },
     "metadata": {},
     "output_type": "display_data"
    },
    {
     "data": {
      "application/vnd.jupyter.widget-view+json": {
       "model_id": "033f6bf70db7487c84d2d606164722fa",
       "version_major": 2,
       "version_minor": 0
      },
      "text/plain": [
       "MultipleChoice(children=(HTML(value='<h4 style=\"font-size:14px;\">Was gilt immer für das Ergebnis der Unifikati…"
      ]
     },
     "metadata": {},
     "output_type": "display_data"
    }
   ],
   "source": [
    "aufgabe(blatt10_1b)"
   ]
  },
  {
   "cell_type": "markdown",
   "metadata": {
    "slideshow": {
     "slide_type": "subslide"
    }
   },
   "source": [
    "---\n",
    "### Frage 1 c:"
   ]
  },
  {
   "cell_type": "code",
   "execution_count": 4,
   "metadata": {
    "slideshow": {
     "slide_type": "fragment"
    }
   },
   "outputs": [
    {
     "data": {
      "application/vnd.jupyter.widget-view+json": {
       "model_id": "6c92e17da1cd4a879781c903a0950a9a",
       "version_major": 2,
       "version_minor": 0
      },
      "text/plain": [
       "MultipleChoice(children=(HTML(value='<h4 style=\"font-size:14px;\">Welche der Beispiele erfüllen die Subsumption…"
      ]
     },
     "metadata": {},
     "output_type": "display_data"
    }
   ],
   "source": [
    "aufgabe(blatt10_1c)"
   ]
  },
  {
   "cell_type": "markdown",
   "metadata": {
    "slideshow": {
     "slide_type": "subslide"
    }
   },
   "source": [
    "---\n",
    "### Frage 1 d:"
   ]
  },
  {
   "cell_type": "code",
   "execution_count": 5,
   "metadata": {
    "slideshow": {
     "slide_type": "fragment"
    }
   },
   "outputs": [
    {
     "data": {
      "application/vnd.jupyter.widget-view+json": {
       "model_id": "3bd133d05c024ffdbc44f402ab6f121c",
       "version_major": 2,
       "version_minor": 0
      },
      "text/plain": [
       "MultipleChoice(children=(HTML(value='<h4 style=\"font-size:14px;\">Im Falle, dass im Zuge einer Unifikation Info…"
      ]
     },
     "metadata": {},
     "output_type": "display_data"
    }
   ],
   "source": [
    "aufgabe(blatt10_1d)"
   ]
  },
  {
   "cell_type": "markdown",
   "metadata": {
    "slideshow": {
     "slide_type": "subslide"
    }
   },
   "source": [
    "---\n",
    "### Frage 10 e:"
   ]
  },
  {
   "cell_type": "code",
   "execution_count": 6,
   "metadata": {
    "slideshow": {
     "slide_type": "fragment"
    }
   },
   "outputs": [
    {
     "data": {
      "application/vnd.jupyter.widget-view+json": {
       "model_id": "b4c3c057f8ce42d4aa7fc0d4de878d56",
       "version_major": 2,
       "version_minor": 0
      },
      "text/plain": [
       "MultipleChoice(children=(HTML(value='<h4 style=\"font-size:14px;\">Wie läßt sich im NLTK ein äquivalenter Pfad d…"
      ]
     },
     "metadata": {},
     "output_type": "display_data"
    }
   ],
   "source": [
    "aufgabe(blatt10_1e)"
   ]
  }
 ],
 "metadata": {
  "kernelspec": {
   "display_name": "Python 3",
   "language": "python",
   "name": "python3"
  },
  "language_info": {
   "codemirror_mode": {
    "name": "ipython",
    "version": 3
   },
   "file_extension": ".py",
   "mimetype": "text/x-python",
   "name": "python",
   "nbconvert_exporter": "python",
   "pygments_lexer": "ipython3",
   "version": "3.6.1"
  },
  "widgets": {
   "application/vnd.jupyter.widget-state+json": {
    "state": {
     "02c9ac4ab008459fa5412f72524ebe21": {
      "model_module": "@jupyter-widgets/controls",
      "model_module_version": "1.2.0",
      "model_name": "DescriptionStyleModel",
      "state": {
       "description_width": ""
      }
     },
     "02cf6954662e45658606a635d2bb66b3": {
      "model_module": "@jupyter-widgets/controls",
      "model_module_version": "1.2.0",
      "model_name": "CheckboxModel",
      "state": {
       "description": "!x",
       "disabled": false,
       "layout": "IPY_MODEL_6a0d056743c445819fba0bd72daa28d6",
       "style": "IPY_MODEL_a365d79e174348c0b66f94e15a03f95c",
       "value": false
      }
     },
     "033f6bf70db7487c84d2d606164722fa": {
      "model_module": "@jupyter-widgets/controls",
      "model_module_version": "1.2.0",
      "model_name": "VBoxModel",
      "state": {
       "children": [
        "IPY_MODEL_b2253f36007348f1b9d8852715585352",
        "IPY_MODEL_a574dabe562b49058f83afceb40fe5ab",
        "IPY_MODEL_fda886de453347f380c29b21c50604d6",
        "IPY_MODEL_e498c384fc1b47399339a59013fd53ed"
       ],
       "layout": "IPY_MODEL_58cde26eb09147d593a08c9e9345a011"
      }
     },
     "075f7eafbe8043c8909e6f5c49a59845": {
      "model_module": "@jupyter-widgets/controls",
      "model_module_version": "1.2.0",
      "model_name": "HTMLModel",
      "state": {
       "layout": "IPY_MODEL_0c1b0b14ddd443f3973f2bc7cbb6cc37",
       "style": "IPY_MODEL_9be87ce7c43745878534116315d30553",
       "value": "<i>Markieren Sie <ins>alle</ins> passenden Antworten: </i>"
      }
     },
     "085f4c0958ec4ca4acc2ad3691538e10": {
      "model_module": "@jupyter-widgets/controls",
      "model_module_version": "1.2.0",
      "model_name": "DescriptionStyleModel",
      "state": {
       "description_width": ""
      }
     },
     "0922034375184702b4564881362ccc44": {
      "model_module": "@jupyter-widgets/base",
      "model_module_version": "1.0.0",
      "model_name": "LayoutModel",
      "state": {}
     },
     "09f4fa3fe8174f2da32ed984159e0ab5": {
      "model_module": "@jupyter-widgets/controls",
      "model_module_version": "1.2.0",
      "model_name": "ButtonModel",
      "state": {
       "description": "Korrekt?",
       "layout": "IPY_MODEL_1ff466ebe5b84b8bbfb021bea41ff3b7",
       "style": "IPY_MODEL_ca84ec3a5ec9472eaa14c394bf14d6d5"
      }
     },
     "0a6b6894efcd40b79b2adadaa6fdf92b": {
      "model_module": "@jupyter-widgets/base",
      "model_module_version": "1.0.0",
      "model_name": "LayoutModel",
      "state": {
       "justify_content": "center"
      }
     },
     "0c1b0b14ddd443f3973f2bc7cbb6cc37": {
      "model_module": "@jupyter-widgets/base",
      "model_module_version": "1.0.0",
      "model_name": "LayoutModel",
      "state": {
       "justify_content": "center"
      }
     },
     "0c283a9e93df4ffbb2f8ed3ab354ad71": {
      "model_module": "@jupyter-widgets/controls",
      "model_module_version": "1.2.0",
      "model_name": "DescriptionStyleModel",
      "state": {
       "description_width": "initial"
      }
     },
     "0d5354f9305c44a6bb701eb38962353f": {
      "model_module": "@jupyter-widgets/controls",
      "model_module_version": "1.2.0",
      "model_name": "DescriptionStyleModel",
      "state": {
       "description_width": "initial"
      }
     },
     "0dc2721ae9b9442da1093d8e2301ee72": {
      "model_module": "@jupyter-widgets/controls",
      "model_module_version": "1.2.0",
      "model_name": "DescriptionStyleModel",
      "state": {
       "description_width": ""
      }
     },
     "108846ce132246afb85722c3e1e4aaea": {
      "model_module": "@jupyter-widgets/base",
      "model_module_version": "1.0.0",
      "model_name": "LayoutModel",
      "state": {
       "width": "250px"
      }
     },
     "117d8cfa4b484d67b239c0bc5906b435": {
      "model_module": "@jupyter-widgets/controls",
      "model_module_version": "1.2.0",
      "model_name": "DescriptionStyleModel",
      "state": {
       "description_width": "initial"
      }
     },
     "125b2b2b5ec34d6ebe848d23a4d351e7": {
      "model_module": "@jupyter-widgets/controls",
      "model_module_version": "1.2.0",
      "model_name": "HTMLModel",
      "state": {
       "layout": "IPY_MODEL_0a6b6894efcd40b79b2adadaa6fdf92b",
       "style": "IPY_MODEL_02c9ac4ab008459fa5412f72524ebe21",
       "value": "<i>Wählen Sie die <ins>eine</ins> korrekte Antwort aus: </i>"
      }
     },
     "12daf89a5313467ab4c14675da3efaba": {
      "model_module": "@jupyter-widgets/base",
      "model_module_version": "1.0.0",
      "model_name": "LayoutModel",
      "state": {}
     },
     "1377866d75dd4d8dab000ef061abc009": {
      "model_module": "@jupyter-widgets/base",
      "model_module_version": "1.0.0",
      "model_name": "LayoutModel",
      "state": {
       "width": "600px"
      }
     },
     "13b2d86417524bd2b9a15d874c2c8f6a": {
      "model_module": "@jupyter-widgets/base",
      "model_module_version": "1.0.0",
      "model_name": "LayoutModel",
      "state": {
       "width": "250px"
      }
     },
     "1ad5eec73da54bf595244c8447aebbec": {
      "model_module": "@jupyter-widgets/base",
      "model_module_version": "1.0.0",
      "model_name": "LayoutModel",
      "state": {}
     },
     "1cd43d961bbc4bc1bce89ed518cf9a31": {
      "model_module": "@jupyter-widgets/base",
      "model_module_version": "1.0.0",
      "model_name": "LayoutModel",
      "state": {
       "width": "600px"
      }
     },
     "1d5cd7e7b8ec46c9b9a4425ace5ec5eb": {
      "model_module": "@jupyter-widgets/controls",
      "model_module_version": "1.2.0",
      "model_name": "CheckboxModel",
      "state": {
       "description": "74; ('address', 'number')",
       "disabled": false,
       "layout": "IPY_MODEL_a4f11b8a794346958bc6acd410776ae0",
       "style": "IPY_MODEL_3e6ec1cf2ddd488aa66f3389c737183e",
       "value": true
      }
     },
     "1e688df8da8745f5876dbe87d343b73e": {
      "model_module": "@jupyter-widgets/controls",
      "model_module_version": "1.2.0",
      "model_name": "CheckboxModel",
      "state": {
       "description": "?x",
       "disabled": false,
       "layout": "IPY_MODEL_99f5734b2d0243d7a1904bc5beec9217",
       "style": "IPY_MODEL_be81428050144e1a92281622e064861b",
       "value": true
      }
     },
     "1f94fe3de34b40dfb4e434f949184783": {
      "model_module": "@jupyter-widgets/controls",
      "model_module_version": "1.2.0",
      "model_name": "DescriptionStyleModel",
      "state": {
       "description_width": "initial"
      }
     },
     "1faea220eaf64f13bcbd251274a689fa": {
      "model_module": "@jupyter-widgets/base",
      "model_module_version": "1.0.0",
      "model_name": "LayoutModel",
      "state": {}
     },
     "1ff466ebe5b84b8bbfb021bea41ff3b7": {
      "model_module": "@jupyter-widgets/base",
      "model_module_version": "1.0.0",
      "model_name": "LayoutModel",
      "state": {
       "width": "250px"
      }
     },
     "24ae13c610274a899ccdc3fd6a0f66cf": {
      "model_module": "@jupyter-widgets/base",
      "model_module_version": "1.0.0",
      "model_name": "LayoutModel",
      "state": {
       "width": "600px"
      }
     },
     "25372db1486844d9be4e79ee77bb46bd": {
      "model_module": "@jupyter-widgets/controls",
      "model_module_version": "1.2.0",
      "model_name": "ButtonStyleModel",
      "state": {
       "button_color": "lightgreen"
      }
     },
     "257944aebab54006bb763626f44cf031": {
      "model_module": "@jupyter-widgets/base",
      "model_module_version": "1.0.0",
      "model_name": "LayoutModel",
      "state": {}
     },
     "276ecd61707549beb3fc736061033b8f": {
      "model_module": "@jupyter-widgets/base",
      "model_module_version": "1.0.0",
      "model_name": "LayoutModel",
      "state": {
       "width": "600px"
      }
     },
     "28e8fb591c1a4caba4b1564d9b3318eb": {
      "model_module": "@jupyter-widgets/controls",
      "model_module_version": "1.2.0",
      "model_name": "DescriptionStyleModel",
      "state": {
       "description_width": "initial"
      }
     },
     "29472f1cc0dc49869526462de9a70e23": {
      "model_module": "@jupyter-widgets/controls",
      "model_module_version": "1.2.0",
      "model_name": "CheckboxModel",
      "state": {
       "description": "FS0 = [CAT = N], FS1 = [CAT = N, GEN = MASK]",
       "disabled": false,
       "layout": "IPY_MODEL_78a3aef8712a4dd5bd8fac1f94077089",
       "style": "IPY_MODEL_117d8cfa4b484d67b239c0bc5906b435",
       "value": true
      }
     },
     "2ffbc155dcb642c0b7e64f5e2bcb699a": {
      "model_module": "@jupyter-widgets/controls",
      "model_module_version": "1.2.0",
      "model_name": "ButtonStyleModel",
      "state": {
       "button_color": "lightgreen"
      }
     },
     "3001215a26c9498f8882a1809b3be244": {
      "model_module": "@jupyter-widgets/controls",
      "model_module_version": "1.2.0",
      "model_name": "DescriptionStyleModel",
      "state": {
       "description_width": "initial"
      }
     },
     "33239dadd2bc4fc080bf0bde0c556b9f": {
      "model_module": "@jupyter-widgets/base",
      "model_module_version": "1.0.0",
      "model_name": "LayoutModel",
      "state": {
       "width": "600px"
      }
     },
     "344ff8bd5482493d997364794976803e": {
      "model_module": "@jupyter-widgets/base",
      "model_module_version": "1.0.0",
      "model_name": "LayoutModel",
      "state": {
       "width": "600px"
      }
     },
     "3493e493b43e49908fddae6344638e94": {
      "model_module": "@jupyter-widgets/base",
      "model_module_version": "1.0.0",
      "model_name": "LayoutModel",
      "state": {}
     },
     "378895fe16184bed87f4bb0b03b809b0": {
      "model_module": "@jupyter-widgets/controls",
      "model_module_version": "1.2.0",
      "model_name": "HTMLModel",
      "state": {
       "layout": "IPY_MODEL_696d13cae29241a589c793da60019b47",
       "style": "IPY_MODEL_d5bb81f8a867437594e36ee1a9c67cb9",
       "value": "<h4 style=\"font-size:14px;\">Beantworten Sie die beiden obigen Fragen.</h4>"
      }
     },
     "38b706597b7c4efe8ecf8cc0c9934ea4": {
      "model_module": "@jupyter-widgets/controls",
      "model_module_version": "1.2.0",
      "model_name": "DescriptionStyleModel",
      "state": {
       "description_width": ""
      }
     },
     "38db721755bc4d94bf97f204bcfe4a3f": {
      "model_module": "@jupyter-widgets/controls",
      "model_module_version": "1.2.0",
      "model_name": "CheckboxModel",
      "state": {
       "description": "Es ist die spezifischere Merkmalsstruktur.",
       "disabled": false,
       "layout": "IPY_MODEL_75d18e15a19f4a02b44038ccdb8e2faa",
       "style": "IPY_MODEL_f9b11286a30f4757939ff9c43cd767e9",
       "value": true
      }
     },
     "3baeb8ac37f84b20a9632bff226d981d": {
      "model_module": "@jupyter-widgets/controls",
      "model_module_version": "1.2.0",
      "model_name": "CheckboxModel",
      "state": {
       "description": "Sie werden aktualisiert.",
       "disabled": false,
       "layout": "IPY_MODEL_6ea06921d8ab4ea9a4dd0a0275d277d2",
       "style": "IPY_MODEL_fe7ee5f6b3f343f28bfd81eecf9a70c6",
       "value": true
      }
     },
     "3bd133d05c024ffdbc44f402ab6f121c": {
      "model_module": "@jupyter-widgets/controls",
      "model_module_version": "1.2.0",
      "model_name": "VBoxModel",
      "state": {
       "children": [
        "IPY_MODEL_c4314da9b6a2418a9ca4441161e3e860",
        "IPY_MODEL_125b2b2b5ec34d6ebe848d23a4d351e7",
        "IPY_MODEL_e56a0c147a77474db78fcac30afc0600",
        "IPY_MODEL_cfd7ce4a2a6549f1a4c53f2e1de61764"
       ],
       "layout": "IPY_MODEL_83797bcec923425aa9f1c209bff95c0c"
      }
     },
     "3c3c153e65c142b18cb00d232c485fe2": {
      "model_module": "@jupyter-widgets/controls",
      "model_module_version": "1.2.0",
      "model_name": "VBoxModel",
      "state": {
       "children": [
        "IPY_MODEL_02cf6954662e45658606a635d2bb66b3",
        "IPY_MODEL_1e688df8da8745f5876dbe87d343b73e",
        "IPY_MODEL_a28ad4da71c745708ebf4a386b636b25",
        "IPY_MODEL_e256500962084cc598d02a2f1f9b858e",
        "IPY_MODEL_d4b5d853a2a14720a205c55b7ef3de94",
        "IPY_MODEL_cffff4053b6f42e181f4f153ef294f90"
       ],
       "layout": "IPY_MODEL_fa0d9a5c163f4d54a181ae4b202208bd"
      }
     },
     "3e6ec1cf2ddd488aa66f3389c737183e": {
      "model_module": "@jupyter-widgets/controls",
      "model_module_version": "1.2.0",
      "model_name": "DescriptionStyleModel",
      "state": {
       "description_width": "initial"
      }
     },
     "3f9b234536494e5c90c910e380945d35": {
      "model_module": "@jupyter-widgets/controls",
      "model_module_version": "1.2.0",
      "model_name": "HTMLModel",
      "state": {
       "layout": "IPY_MODEL_febfa81fe4c04a18a4950381f7403e51",
       "style": "IPY_MODEL_5591c19d68f64abea06573382a335667",
       "value": "<h4 style=\"font-size:14px;\">Welche Beispiele erfüllen die obige Subsumptionsbeziehung?</h4>"
      }
     },
     "40793dab1f3140ba8ef7d7a7077a6df4": {
      "model_module": "@jupyter-widgets/base",
      "model_module_version": "1.0.0",
      "model_name": "LayoutModel",
      "state": {
       "width": "600px"
      }
     },
     "469cf50e534342f28ede6210f443571a": {
      "model_module": "@jupyter-widgets/base",
      "model_module_version": "1.0.0",
      "model_name": "LayoutModel",
      "state": {
       "width": "600px"
      }
     },
     "47f42ed322d64f86ae7fb6bcd1df5c21": {
      "model_module": "@jupyter-widgets/controls",
      "model_module_version": "1.2.0",
      "model_name": "DescriptionStyleModel",
      "state": {
       "description_width": ""
      }
     },
     "482298e61c284e62ad4af82fe95d02ff": {
      "model_module": "@jupyter-widgets/base",
      "model_module_version": "1.0.0",
      "model_name": "LayoutModel",
      "state": {
       "width": "600px"
      }
     },
     "4847bd70e5e14a9aa56029e99f4b37ee": {
      "model_module": "@jupyter-widgets/controls",
      "model_module_version": "1.2.0",
      "model_name": "DescriptionStyleModel",
      "state": {
       "description_width": ""
      }
     },
     "4c137f4b925b43d5a6f42da6a5eaf59b": {
      "model_module": "@jupyter-widgets/base",
      "model_module_version": "1.0.0",
      "model_name": "LayoutModel",
      "state": {}
     },
     "4d7978a7b34c414fbe2309d3ece46a60": {
      "model_module": "@jupyter-widgets/base",
      "model_module_version": "1.0.0",
      "model_name": "LayoutModel",
      "state": {
       "width": "600px"
      }
     },
     "509a96d1d8644eb59bed74e295ff0b10": {
      "model_module": "@jupyter-widgets/controls",
      "model_module_version": "1.2.0",
      "model_name": "DescriptionStyleModel",
      "state": {
       "description_width": "initial"
      }
     },
     "5148a19fa87446d7a74e3bc6a7fddffb": {
      "model_module": "@jupyter-widgets/controls",
      "model_module_version": "1.2.0",
      "model_name": "CheckboxModel",
      "state": {
       "description": "'rue Pascal'; ('spouse', 'address', 'street')",
       "disabled": false,
       "layout": "IPY_MODEL_82e17ff49d4541cb878a0d3c0d68719d",
       "style": "IPY_MODEL_8eb51de809f7487994ddf54de3215390",
       "value": false
      }
     },
     "51dbaed233394dea95fabdc2b6a1f5b6": {
      "model_module": "@jupyter-widgets/base",
      "model_module_version": "1.0.0",
      "model_name": "LayoutModel",
      "state": {}
     },
     "5591c19d68f64abea06573382a335667": {
      "model_module": "@jupyter-widgets/controls",
      "model_module_version": "1.2.0",
      "model_name": "DescriptionStyleModel",
      "state": {
       "description_width": ""
      }
     },
     "58cde26eb09147d593a08c9e9345a011": {
      "model_module": "@jupyter-widgets/base",
      "model_module_version": "1.0.0",
      "model_name": "LayoutModel",
      "state": {}
     },
     "5958a1c7c2374e239ce7880351b6ce50": {
      "model_module": "@jupyter-widgets/controls",
      "model_module_version": "1.2.0",
      "model_name": "HTMLModel",
      "state": {
       "layout": "IPY_MODEL_5d754140e3ec47ccb5ceb299b8535595",
       "style": "IPY_MODEL_47f42ed322d64f86ae7fb6bcd1df5c21",
       "value": "<h4 style=\"font-size:14px;\">Wie läßt sich im NLTK ein äquivalenter Pfad definieren?</h4>"
      }
     },
     "5cb223365ca74c669a14879bf36e10e2": {
      "model_module": "@jupyter-widgets/controls",
      "model_module_version": "1.2.0",
      "model_name": "HTMLModel",
      "state": {
       "layout": "IPY_MODEL_a86d8063f85f4e59a9c11b277ed0396a",
       "style": "IPY_MODEL_4847bd70e5e14a9aa56029e99f4b37ee",
       "value": "<i>Markieren Sie <ins>alle</ins> passenden Antworten: </i>"
      }
     },
     "5d754140e3ec47ccb5ceb299b8535595": {
      "model_module": "@jupyter-widgets/base",
      "model_module_version": "1.0.0",
      "model_name": "LayoutModel",
      "state": {}
     },
     "625a973ff18e49c49f78a54bac635c7b": {
      "model_module": "@jupyter-widgets/controls",
      "model_module_version": "1.2.0",
      "model_name": "DescriptionStyleModel",
      "state": {
       "description_width": "initial"
      }
     },
     "63487e9ba7684975a78d97fe55df4ce8": {
      "model_module": "@jupyter-widgets/controls",
      "model_module_version": "1.2.0",
      "model_name": "CheckboxModel",
      "state": {
       "description": "Es ist undefiniert.",
       "disabled": false,
       "layout": "IPY_MODEL_9d880789f941482aba0294e5a66f1d93",
       "style": "IPY_MODEL_625a973ff18e49c49f78a54bac635c7b",
       "value": false
      }
     },
     "65e832c2efec472e9305defc0179f947": {
      "model_module": "@jupyter-widgets/controls",
      "model_module_version": "1.2.0",
      "model_name": "DescriptionStyleModel",
      "state": {
       "description_width": ""
      }
     },
     "66f7e49ac6a84df49ebaf6b8584ad35a": {
      "model_module": "@jupyter-widgets/controls",
      "model_module_version": "1.2.0",
      "model_name": "ButtonModel",
      "state": {
       "description": "Korrekt?",
       "layout": "IPY_MODEL_d72b4e4be6ff4ed28ca53d922b6c4310",
       "style": "IPY_MODEL_25372db1486844d9be4e79ee77bb46bd"
      }
     },
     "67a3fa823b1046a88fbe659b8f12f98b": {
      "model_module": "@jupyter-widgets/controls",
      "model_module_version": "1.2.0",
      "model_name": "HTMLModel",
      "state": {
       "layout": "IPY_MODEL_d4f38d4015a84e6b809a6191ea420f79",
       "style": "IPY_MODEL_94808c26014840b1ac66df44fe8aadb0",
       "value": "<i>Markieren Sie <ins>alle</ins> passenden Antworten: </i>"
      }
     },
     "68c42587cd7c4cb2b59388394b2e6c66": {
      "model_module": "@jupyter-widgets/base",
      "model_module_version": "1.0.0",
      "model_name": "LayoutModel",
      "state": {
       "width": "600px"
      }
     },
     "696d13cae29241a589c793da60019b47": {
      "model_module": "@jupyter-widgets/base",
      "model_module_version": "1.0.0",
      "model_name": "LayoutModel",
      "state": {}
     },
     "6a0d056743c445819fba0bd72daa28d6": {
      "model_module": "@jupyter-widgets/base",
      "model_module_version": "1.0.0",
      "model_name": "LayoutModel",
      "state": {
       "width": "600px"
      }
     },
     "6bdbe134134d4cd98ee600425fbfecfe": {
      "model_module": "@jupyter-widgets/controls",
      "model_module_version": "1.2.0",
      "model_name": "CheckboxModel",
      "state": {
       "description": "FS0 = [CAT = N, GEN = MASK], FS1 = [CAT = N]",
       "disabled": false,
       "layout": "IPY_MODEL_c683d2355fbc4a978044f866424c228f",
       "style": "IPY_MODEL_0c283a9e93df4ffbb2f8ed3ab354ad71",
       "value": true
      }
     },
     "6c92e17da1cd4a879781c903a0950a9a": {
      "model_module": "@jupyter-widgets/controls",
      "model_module_version": "1.2.0",
      "model_name": "VBoxModel",
      "state": {
       "children": [
        "IPY_MODEL_8a44d4e19ee041059997295ea405a973",
        "IPY_MODEL_67a3fa823b1046a88fbe659b8f12f98b",
        "IPY_MODEL_c5b20c8568124da2ae9aa78dc53d9217",
        "IPY_MODEL_66f7e49ac6a84df49ebaf6b8584ad35a"
       ],
       "layout": "IPY_MODEL_51dbaed233394dea95fabdc2b6a1f5b6"
      }
     },
     "6ea06921d8ab4ea9a4dd0a0275d277d2": {
      "model_module": "@jupyter-widgets/base",
      "model_module_version": "1.0.0",
      "model_name": "LayoutModel",
      "state": {
       "width": "600px"
      }
     },
     "712e6702ac1f4ee0ad1631a718cfd9e1": {
      "model_module": "@jupyter-widgets/controls",
      "model_module_version": "1.2.0",
      "model_name": "CheckboxModel",
      "state": {
       "description": "Sie werden gelöscht.",
       "disabled": false,
       "layout": "IPY_MODEL_aeae85ce967f4d63b03cc962ec14c57c",
       "style": "IPY_MODEL_8eaabaec8cb64bd2a7ee71e828029d7c",
       "value": false
      }
     },
     "7417d118719147e5bd66d9c7a4512c4c": {
      "model_module": "@jupyter-widgets/controls",
      "model_module_version": "1.2.0",
      "model_name": "VBoxModel",
      "state": {
       "children": [
        "IPY_MODEL_5148a19fa87446d7a74e3bc6a7fddffb",
        "IPY_MODEL_a7fb6e7c338e46fcaab7691b61f5bd98",
        "IPY_MODEL_1d5cd7e7b8ec46c9b9a4425ace5ec5eb"
       ],
       "layout": "IPY_MODEL_7e02f99c74384a40822a784117f2b44b"
      }
     },
     "754eb460fa5b4742a56aec6987112bc1": {
      "model_module": "@jupyter-widgets/controls",
      "model_module_version": "1.2.0",
      "model_name": "CheckboxModel",
      "state": {
       "description": "FS0 = [CAT = N], FS1 = [CAT = N, GEN = MASK]",
       "disabled": false,
       "layout": "IPY_MODEL_1377866d75dd4d8dab000ef061abc009",
       "style": "IPY_MODEL_509a96d1d8644eb59bed74e295ff0b10",
       "value": false
      }
     },
     "75d18e15a19f4a02b44038ccdb8e2faa": {
      "model_module": "@jupyter-widgets/base",
      "model_module_version": "1.0.0",
      "model_name": "LayoutModel",
      "state": {
       "width": "600px"
      }
     },
     "78a3aef8712a4dd5bd8fac1f94077089": {
      "model_module": "@jupyter-widgets/base",
      "model_module_version": "1.0.0",
      "model_name": "LayoutModel",
      "state": {
       "width": "600px"
      }
     },
     "7d2c45a46b25438ca1e7b9f3446e0612": {
      "model_module": "@jupyter-widgets/base",
      "model_module_version": "1.0.0",
      "model_name": "LayoutModel",
      "state": {
       "justify_content": "center"
      }
     },
     "7e02f99c74384a40822a784117f2b44b": {
      "model_module": "@jupyter-widgets/base",
      "model_module_version": "1.0.0",
      "model_name": "LayoutModel",
      "state": {}
     },
     "82e17ff49d4541cb878a0d3c0d68719d": {
      "model_module": "@jupyter-widgets/base",
      "model_module_version": "1.0.0",
      "model_name": "LayoutModel",
      "state": {
       "width": "600px"
      }
     },
     "83797bcec923425aa9f1c209bff95c0c": {
      "model_module": "@jupyter-widgets/base",
      "model_module_version": "1.0.0",
      "model_name": "LayoutModel",
      "state": {}
     },
     "84c0c494ba1b4c5ba4e134629d61242c": {
      "model_module": "@jupyter-widgets/controls",
      "model_module_version": "1.2.0",
      "model_name": "CheckboxModel",
      "state": {
       "description": "Sie werden neu eingefügt.",
       "disabled": false,
       "layout": "IPY_MODEL_344ff8bd5482493d997364794976803e",
       "style": "IPY_MODEL_8a9399d28a204084a0eb52b8f6ebd6ac",
       "value": false
      }
     },
     "85c1112aea1d49f588865d28128a963a": {
      "model_module": "@jupyter-widgets/controls",
      "model_module_version": "1.2.0",
      "model_name": "CheckboxModel",
      "state": {
       "description": "FS0 = [CAT = N, GEN = FEM], FS1 = [CAT = DET, GEN = FEM]",
       "disabled": false,
       "layout": "IPY_MODEL_8d29205727014d268d0f8e3cbeaffe81",
       "style": "IPY_MODEL_9657739742344cce8a4ac2f9a6420b9a",
       "value": false
      }
     },
     "86fceaed95044eef94049baf65b4ad6f": {
      "model_module": "@jupyter-widgets/controls",
      "model_module_version": "1.2.0",
      "model_name": "VBoxModel",
      "state": {
       "children": [
        "IPY_MODEL_378895fe16184bed87f4bb0b03b809b0",
        "IPY_MODEL_c1fdd63df540452c841d16199053c232",
        "IPY_MODEL_7417d118719147e5bd66d9c7a4512c4c",
        "IPY_MODEL_9f9c7d85574545109d83db20fecd6ab7"
       ],
       "layout": "IPY_MODEL_3493e493b43e49908fddae6344638e94"
      }
     },
     "8799062b23724bad84dcf0350112692a": {
      "model_module": "@jupyter-widgets/controls",
      "model_module_version": "1.2.0",
      "model_name": "DescriptionStyleModel",
      "state": {
       "description_width": "initial"
      }
     },
     "88bca37dbe6840029acedd8ecfb52a35": {
      "model_module": "@jupyter-widgets/base",
      "model_module_version": "1.0.0",
      "model_name": "LayoutModel",
      "state": {}
     },
     "8a44d4e19ee041059997295ea405a973": {
      "model_module": "@jupyter-widgets/controls",
      "model_module_version": "1.2.0",
      "model_name": "HTMLModel",
      "state": {
       "layout": "IPY_MODEL_12daf89a5313467ab4c14675da3efaba",
       "style": "IPY_MODEL_085f4c0958ec4ca4acc2ad3691538e10",
       "value": "<h4 style=\"font-size:14px;\">Welche der Beispiele erfüllen die Subsumptionsbeziehung aus 1b nicht?</h4>"
      }
     },
     "8a9399d28a204084a0eb52b8f6ebd6ac": {
      "model_module": "@jupyter-widgets/controls",
      "model_module_version": "1.2.0",
      "model_name": "DescriptionStyleModel",
      "state": {
       "description_width": "initial"
      }
     },
     "8d29205727014d268d0f8e3cbeaffe81": {
      "model_module": "@jupyter-widgets/base",
      "model_module_version": "1.0.0",
      "model_name": "LayoutModel",
      "state": {
       "width": "600px"
      }
     },
     "8eaabaec8cb64bd2a7ee71e828029d7c": {
      "model_module": "@jupyter-widgets/controls",
      "model_module_version": "1.2.0",
      "model_name": "DescriptionStyleModel",
      "state": {
       "description_width": "initial"
      }
     },
     "8eb51de809f7487994ddf54de3215390": {
      "model_module": "@jupyter-widgets/controls",
      "model_module_version": "1.2.0",
      "model_name": "DescriptionStyleModel",
      "state": {
       "description_width": "initial"
      }
     },
     "94808c26014840b1ac66df44fe8aadb0": {
      "model_module": "@jupyter-widgets/controls",
      "model_module_version": "1.2.0",
      "model_name": "DescriptionStyleModel",
      "state": {
       "description_width": ""
      }
     },
     "9657739742344cce8a4ac2f9a6420b9a": {
      "model_module": "@jupyter-widgets/controls",
      "model_module_version": "1.2.0",
      "model_name": "DescriptionStyleModel",
      "state": {
       "description_width": "initial"
      }
     },
     "974a3e1223584c829c37eed3a2b29646": {
      "model_module": "@jupyter-widgets/controls",
      "model_module_version": "1.2.0",
      "model_name": "CheckboxModel",
      "state": {
       "description": "FS0 = [CAT = N, GEN = FEM], FS1 = [CAT = DET, GEN = FEM]",
       "disabled": false,
       "layout": "IPY_MODEL_1cd43d961bbc4bc1bce89ed518cf9a31",
       "style": "IPY_MODEL_0d5354f9305c44a6bb701eb38962353f",
       "value": true
      }
     },
     "99f5734b2d0243d7a1904bc5beec9217": {
      "model_module": "@jupyter-widgets/base",
      "model_module_version": "1.0.0",
      "model_name": "LayoutModel",
      "state": {
       "width": "600px"
      }
     },
     "9be87ce7c43745878534116315d30553": {
      "model_module": "@jupyter-widgets/controls",
      "model_module_version": "1.2.0",
      "model_name": "DescriptionStyleModel",
      "state": {
       "description_width": ""
      }
     },
     "9d880789f941482aba0294e5a66f1d93": {
      "model_module": "@jupyter-widgets/base",
      "model_module_version": "1.0.0",
      "model_name": "LayoutModel",
      "state": {
       "width": "600px"
      }
     },
     "9f9c7d85574545109d83db20fecd6ab7": {
      "model_module": "@jupyter-widgets/controls",
      "model_module_version": "1.2.0",
      "model_name": "ButtonModel",
      "state": {
       "description": "Korrekt?",
       "layout": "IPY_MODEL_108846ce132246afb85722c3e1e4aaea",
       "style": "IPY_MODEL_c5bd56c5ea8147ba9c3f18c54e874f2d"
      }
     },
     "a0bf0d6097f94e5fb26747dfe27d45d5": {
      "model_module": "@jupyter-widgets/controls",
      "model_module_version": "1.2.0",
      "model_name": "ButtonStyleModel",
      "state": {
       "button_color": "lightgreen"
      }
     },
     "a271d9ab16c6455e82f352d5ad0e487c": {
      "model_module": "@jupyter-widgets/base",
      "model_module_version": "1.0.0",
      "model_name": "LayoutModel",
      "state": {
       "width": "250px"
      }
     },
     "a28ad4da71c745708ebf4a386b636b25": {
      "model_module": "@jupyter-widgets/controls",
      "model_module_version": "1.2.0",
      "model_name": "CheckboxModel",
      "state": {
       "description": "Variable: -> (1)",
       "disabled": false,
       "layout": "IPY_MODEL_276ecd61707549beb3fc736061033b8f",
       "style": "IPY_MODEL_28e8fb591c1a4caba4b1564d9b3318eb",
       "value": true
      }
     },
     "a365d79e174348c0b66f94e15a03f95c": {
      "model_module": "@jupyter-widgets/controls",
      "model_module_version": "1.2.0",
      "model_name": "DescriptionStyleModel",
      "state": {
       "description_width": "initial"
      }
     },
     "a4f11b8a794346958bc6acd410776ae0": {
      "model_module": "@jupyter-widgets/base",
      "model_module_version": "1.0.0",
      "model_name": "LayoutModel",
      "state": {
       "width": "600px"
      }
     },
     "a574dabe562b49058f83afceb40fe5ab": {
      "model_module": "@jupyter-widgets/controls",
      "model_module_version": "1.2.0",
      "model_name": "HTMLModel",
      "state": {
       "layout": "IPY_MODEL_c68590cbb7694756a113be2fe6b7f2bf",
       "style": "IPY_MODEL_38b706597b7c4efe8ecf8cc0c9934ea4",
       "value": "<i>Wählen Sie die <ins>eine</ins> korrekte Antwort aus: </i>"
      }
     },
     "a600be17c7e34b738a7eaf083a088bd8": {
      "model_module": "@jupyter-widgets/controls",
      "model_module_version": "1.2.0",
      "model_name": "ButtonStyleModel",
      "state": {
       "button_color": "lightgreen"
      }
     },
     "a7482a3eaca6405b891e452bf5d033b7": {
      "model_module": "@jupyter-widgets/base",
      "model_module_version": "1.0.0",
      "model_name": "LayoutModel",
      "state": {}
     },
     "a7fb6e7c338e46fcaab7691b61f5bd98": {
      "model_module": "@jupyter-widgets/controls",
      "model_module_version": "1.2.0",
      "model_name": "CheckboxModel",
      "state": {
       "description": "74; ( 'number', 'address')",
       "disabled": false,
       "layout": "IPY_MODEL_68c42587cd7c4cb2b59388394b2e6c66",
       "style": "IPY_MODEL_ae241584bf98434fa3b193f94cd41a66",
       "value": false
      }
     },
     "a8245e1fab1b4aee86de789ebb0315f4": {
      "model_module": "@jupyter-widgets/controls",
      "model_module_version": "1.2.0",
      "model_name": "DescriptionStyleModel",
      "state": {
       "description_width": "initial"
      }
     },
     "a86d8063f85f4e59a9c11b277ed0396a": {
      "model_module": "@jupyter-widgets/base",
      "model_module_version": "1.0.0",
      "model_name": "LayoutModel",
      "state": {
       "justify_content": "center"
      }
     },
     "ac3753d99ad34908b6b4c19ae75379a9": {
      "model_module": "@jupyter-widgets/controls",
      "model_module_version": "1.2.0",
      "model_name": "CheckboxModel",
      "state": {
       "description": "FS0 = [CAT = N, GEN = FEM], FS1 = [CAT = N, GEN = FEM]",
       "disabled": false,
       "layout": "IPY_MODEL_33239dadd2bc4fc080bf0bde0c556b9f",
       "style": "IPY_MODEL_3001215a26c9498f8882a1809b3be244",
       "value": false
      }
     },
     "ac3dbf02ecc84c4eabf5890009e23b99": {
      "model_module": "@jupyter-widgets/base",
      "model_module_version": "1.0.0",
      "model_name": "LayoutModel",
      "state": {
       "width": "600px"
      }
     },
     "ae241584bf98434fa3b193f94cd41a66": {
      "model_module": "@jupyter-widgets/controls",
      "model_module_version": "1.2.0",
      "model_name": "DescriptionStyleModel",
      "state": {
       "description_width": "initial"
      }
     },
     "aeae85ce967f4d63b03cc962ec14c57c": {
      "model_module": "@jupyter-widgets/base",
      "model_module_version": "1.0.0",
      "model_name": "LayoutModel",
      "state": {
       "width": "600px"
      }
     },
     "b07ce6a975e24ddda399df4e34c6bea9": {
      "model_module": "@jupyter-widgets/controls",
      "model_module_version": "1.2.0",
      "model_name": "VBoxModel",
      "state": {
       "children": [
        "IPY_MODEL_3f9b234536494e5c90c910e380945d35",
        "IPY_MODEL_5cb223365ca74c669a14879bf36e10e2",
        "IPY_MODEL_e45d5fbfcad948b3a0a7c575cd6fc43b",
        "IPY_MODEL_09f4fa3fe8174f2da32ed984159e0ab5"
       ],
       "layout": "IPY_MODEL_4c137f4b925b43d5a6f42da6a5eaf59b"
      }
     },
     "b2253f36007348f1b9d8852715585352": {
      "model_module": "@jupyter-widgets/controls",
      "model_module_version": "1.2.0",
      "model_name": "HTMLModel",
      "state": {
       "layout": "IPY_MODEL_1faea220eaf64f13bcbd251274a689fa",
       "style": "IPY_MODEL_bcbbda117948400d805622db664df27e",
       "value": "<h4 style=\"font-size:14px;\">Was gilt immer für das Ergebnis der Unifikation solcher Merkmalstrukturen?</h4>"
      }
     },
     "b4c3c057f8ce42d4aa7fc0d4de878d56": {
      "model_module": "@jupyter-widgets/controls",
      "model_module_version": "1.2.0",
      "model_name": "VBoxModel",
      "state": {
       "children": [
        "IPY_MODEL_5958a1c7c2374e239ce7880351b6ce50",
        "IPY_MODEL_075f7eafbe8043c8909e6f5c49a59845",
        "IPY_MODEL_3c3c153e65c142b18cb00d232c485fe2",
        "IPY_MODEL_d9f0088c7c7247e5bdcb14e7aa3a2747"
       ],
       "layout": "IPY_MODEL_88bca37dbe6840029acedd8ecfb52a35"
      }
     },
     "b622738f530749d1ad8795b6105f52ca": {
      "model_module": "@jupyter-widgets/controls",
      "model_module_version": "1.2.0",
      "model_name": "DescriptionStyleModel",
      "state": {
       "description_width": "initial"
      }
     },
     "bc4f87ced74341b8a6b1bca8ddf4c778": {
      "model_module": "@jupyter-widgets/controls",
      "model_module_version": "1.2.0",
      "model_name": "DescriptionStyleModel",
      "state": {
       "description_width": "initial"
      }
     },
     "bcbbda117948400d805622db664df27e": {
      "model_module": "@jupyter-widgets/controls",
      "model_module_version": "1.2.0",
      "model_name": "DescriptionStyleModel",
      "state": {
       "description_width": ""
      }
     },
     "be81428050144e1a92281622e064861b": {
      "model_module": "@jupyter-widgets/controls",
      "model_module_version": "1.2.0",
      "model_name": "DescriptionStyleModel",
      "state": {
       "description_width": "initial"
      }
     },
     "c1fdd63df540452c841d16199053c232": {
      "model_module": "@jupyter-widgets/controls",
      "model_module_version": "1.2.0",
      "model_name": "HTMLModel",
      "state": {
       "layout": "IPY_MODEL_7d2c45a46b25438ca1e7b9f3446e0612",
       "style": "IPY_MODEL_65e832c2efec472e9305defc0179f947",
       "value": "<i>Wählen Sie die <ins>eine</ins> korrekte Antwort aus: </i>"
      }
     },
     "c4314da9b6a2418a9ca4441161e3e860": {
      "model_module": "@jupyter-widgets/controls",
      "model_module_version": "1.2.0",
      "model_name": "HTMLModel",
      "state": {
       "layout": "IPY_MODEL_0922034375184702b4564881362ccc44",
       "style": "IPY_MODEL_0dc2721ae9b9442da1093d8e2301ee72",
       "value": "<h4 style=\"font-size:14px;\">Im Falle, dass im Zuge einer Unifikation Informationen zum Wert eines Pfades x hinzugefügt werden, wie verändern sich die Werte aller zu x äquivalenten Pfade?</h4>"
      }
     },
     "c5b20c8568124da2ae9aa78dc53d9217": {
      "model_module": "@jupyter-widgets/controls",
      "model_module_version": "1.2.0",
      "model_name": "VBoxModel",
      "state": {
       "children": [
        "IPY_MODEL_eb522f0cba6b4c5e94a0fb8051a4745c",
        "IPY_MODEL_974a3e1223584c829c37eed3a2b29646",
        "IPY_MODEL_ac3753d99ad34908b6b4c19ae75379a9",
        "IPY_MODEL_6bdbe134134d4cd98ee600425fbfecfe",
        "IPY_MODEL_754eb460fa5b4742a56aec6987112bc1"
       ],
       "layout": "IPY_MODEL_f4b17dd8ad3e47b4a4589e5c93ff77e6"
      }
     },
     "c5bd56c5ea8147ba9c3f18c54e874f2d": {
      "model_module": "@jupyter-widgets/controls",
      "model_module_version": "1.2.0",
      "model_name": "ButtonStyleModel",
      "state": {
       "button_color": "lightgreen"
      }
     },
     "c683d2355fbc4a978044f866424c228f": {
      "model_module": "@jupyter-widgets/base",
      "model_module_version": "1.0.0",
      "model_name": "LayoutModel",
      "state": {
       "width": "600px"
      }
     },
     "c68590cbb7694756a113be2fe6b7f2bf": {
      "model_module": "@jupyter-widgets/base",
      "model_module_version": "1.0.0",
      "model_name": "LayoutModel",
      "state": {
       "justify_content": "center"
      }
     },
     "ca84ec3a5ec9472eaa14c394bf14d6d5": {
      "model_module": "@jupyter-widgets/controls",
      "model_module_version": "1.2.0",
      "model_name": "ButtonStyleModel",
      "state": {
       "button_color": "lightgreen"
      }
     },
     "cfd7ce4a2a6549f1a4c53f2e1de61764": {
      "model_module": "@jupyter-widgets/controls",
      "model_module_version": "1.2.0",
      "model_name": "ButtonModel",
      "state": {
       "description": "Korrekt?",
       "layout": "IPY_MODEL_f546beef974448e7acaf06f4ccaa04d8",
       "style": "IPY_MODEL_2ffbc155dcb642c0b7e64f5e2bcb699a"
      }
     },
     "cffff4053b6f42e181f4f153ef294f90": {
      "model_module": "@jupyter-widgets/controls",
      "model_module_version": "1.2.0",
      "model_name": "CheckboxModel",
      "state": {
       "description": "x?",
       "disabled": false,
       "layout": "IPY_MODEL_482298e61c284e62ad4af82fe95d02ff",
       "style": "IPY_MODEL_b622738f530749d1ad8795b6105f52ca",
       "value": false
      }
     },
     "d4b5d853a2a14720a205c55b7ef3de94": {
      "model_module": "@jupyter-widgets/controls",
      "model_module_version": "1.2.0",
      "model_name": "CheckboxModel",
      "state": {
       "description": "x!",
       "disabled": false,
       "layout": "IPY_MODEL_24ae13c610274a899ccdc3fd6a0f66cf",
       "style": "IPY_MODEL_de0008eb8192469c8d82c15db3f9f1c8",
       "value": false
      }
     },
     "d4f38d4015a84e6b809a6191ea420f79": {
      "model_module": "@jupyter-widgets/base",
      "model_module_version": "1.0.0",
      "model_name": "LayoutModel",
      "state": {
       "justify_content": "center"
      }
     },
     "d5bb81f8a867437594e36ee1a9c67cb9": {
      "model_module": "@jupyter-widgets/controls",
      "model_module_version": "1.2.0",
      "model_name": "DescriptionStyleModel",
      "state": {
       "description_width": ""
      }
     },
     "d72b4e4be6ff4ed28ca53d922b6c4310": {
      "model_module": "@jupyter-widgets/base",
      "model_module_version": "1.0.0",
      "model_name": "LayoutModel",
      "state": {
       "width": "250px"
      }
     },
     "d9f0088c7c7247e5bdcb14e7aa3a2747": {
      "model_module": "@jupyter-widgets/controls",
      "model_module_version": "1.2.0",
      "model_name": "ButtonModel",
      "state": {
       "description": "Korrekt?",
       "layout": "IPY_MODEL_13b2d86417524bd2b9a15d874c2c8f6a",
       "style": "IPY_MODEL_a0bf0d6097f94e5fb26747dfe27d45d5"
      }
     },
     "db2317181c9b476fa3a9f4f4bef5272d": {
      "model_module": "@jupyter-widgets/base",
      "model_module_version": "1.0.0",
      "model_name": "LayoutModel",
      "state": {
       "width": "600px"
      }
     },
     "de0008eb8192469c8d82c15db3f9f1c8": {
      "model_module": "@jupyter-widgets/controls",
      "model_module_version": "1.2.0",
      "model_name": "DescriptionStyleModel",
      "state": {
       "description_width": "initial"
      }
     },
     "de59b02123b44a86864e16f7a60df944": {
      "model_module": "@jupyter-widgets/controls",
      "model_module_version": "1.2.0",
      "model_name": "DescriptionStyleModel",
      "state": {
       "description_width": "initial"
      }
     },
     "e256500962084cc598d02a2f1f9b858e": {
      "model_module": "@jupyter-widgets/controls",
      "model_module_version": "1.2.0",
      "model_name": "CheckboxModel",
      "state": {
       "description": "Variable: <- (1)",
       "disabled": false,
       "layout": "IPY_MODEL_469cf50e534342f28ede6210f443571a",
       "style": "IPY_MODEL_bc4f87ced74341b8a6b1bca8ddf4c778",
       "value": false
      }
     },
     "e45d5fbfcad948b3a0a7c575cd6fc43b": {
      "model_module": "@jupyter-widgets/controls",
      "model_module_version": "1.2.0",
      "model_name": "VBoxModel",
      "state": {
       "children": [
        "IPY_MODEL_85c1112aea1d49f588865d28128a963a",
        "IPY_MODEL_ea86e59ecfbb4154b7ce5017bba27098",
        "IPY_MODEL_ebeee97906b249c2af9d184cdbe69d95",
        "IPY_MODEL_29472f1cc0dc49869526462de9a70e23"
       ],
       "layout": "IPY_MODEL_1ad5eec73da54bf595244c8447aebbec"
      }
     },
     "e498c384fc1b47399339a59013fd53ed": {
      "model_module": "@jupyter-widgets/controls",
      "model_module_version": "1.2.0",
      "model_name": "ButtonModel",
      "state": {
       "description": "Korrekt?",
       "layout": "IPY_MODEL_a271d9ab16c6455e82f352d5ad0e487c",
       "style": "IPY_MODEL_a600be17c7e34b738a7eaf083a088bd8"
      }
     },
     "e56a0c147a77474db78fcac30afc0600": {
      "model_module": "@jupyter-widgets/controls",
      "model_module_version": "1.2.0",
      "model_name": "VBoxModel",
      "state": {
       "children": [
        "IPY_MODEL_3baeb8ac37f84b20a9632bff226d981d",
        "IPY_MODEL_712e6702ac1f4ee0ad1631a718cfd9e1",
        "IPY_MODEL_84c0c494ba1b4c5ba4e134629d61242c"
       ],
       "layout": "IPY_MODEL_257944aebab54006bb763626f44cf031"
      }
     },
     "e7e1a6bce3fb4fecbf7686ddf92f7631": {
      "model_module": "@jupyter-widgets/controls",
      "model_module_version": "1.2.0",
      "model_name": "CheckboxModel",
      "state": {
       "description": "Es ist die allgemeinere Merkmalsstruktur.",
       "disabled": false,
       "layout": "IPY_MODEL_ac3dbf02ecc84c4eabf5890009e23b99",
       "style": "IPY_MODEL_8799062b23724bad84dcf0350112692a",
       "value": false
      }
     },
     "ea86e59ecfbb4154b7ce5017bba27098": {
      "model_module": "@jupyter-widgets/controls",
      "model_module_version": "1.2.0",
      "model_name": "CheckboxModel",
      "state": {
       "description": "FS0 = [CAT = N, GEN = FEM], FS1 = [CAT = N, GEN = FEM]",
       "disabled": false,
       "layout": "IPY_MODEL_db2317181c9b476fa3a9f4f4bef5272d",
       "style": "IPY_MODEL_de59b02123b44a86864e16f7a60df944",
       "value": true
      }
     },
     "eb522f0cba6b4c5e94a0fb8051a4745c": {
      "model_module": "@jupyter-widgets/controls",
      "model_module_version": "1.2.0",
      "model_name": "CheckboxModel",
      "state": {
       "description": "FS0 = [CAT = DET], FS1 = [CAT = N, GEN = MASK]",
       "disabled": false,
       "layout": "IPY_MODEL_40793dab1f3140ba8ef7d7a7077a6df4",
       "style": "IPY_MODEL_a8245e1fab1b4aee86de789ebb0315f4",
       "value": true
      }
     },
     "ebeee97906b249c2af9d184cdbe69d95": {
      "model_module": "@jupyter-widgets/controls",
      "model_module_version": "1.2.0",
      "model_name": "CheckboxModel",
      "state": {
       "description": "FS0 = [CAT = N, GEN = MASK], FS1 = [CAT = N]",
       "disabled": false,
       "layout": "IPY_MODEL_4d7978a7b34c414fbe2309d3ece46a60",
       "style": "IPY_MODEL_1f94fe3de34b40dfb4e434f949184783",
       "value": false
      }
     },
     "f4b17dd8ad3e47b4a4589e5c93ff77e6": {
      "model_module": "@jupyter-widgets/base",
      "model_module_version": "1.0.0",
      "model_name": "LayoutModel",
      "state": {}
     },
     "f546beef974448e7acaf06f4ccaa04d8": {
      "model_module": "@jupyter-widgets/base",
      "model_module_version": "1.0.0",
      "model_name": "LayoutModel",
      "state": {
       "width": "250px"
      }
     },
     "f9b11286a30f4757939ff9c43cd767e9": {
      "model_module": "@jupyter-widgets/controls",
      "model_module_version": "1.2.0",
      "model_name": "DescriptionStyleModel",
      "state": {
       "description_width": "initial"
      }
     },
     "fa0d9a5c163f4d54a181ae4b202208bd": {
      "model_module": "@jupyter-widgets/base",
      "model_module_version": "1.0.0",
      "model_name": "LayoutModel",
      "state": {}
     },
     "fda886de453347f380c29b21c50604d6": {
      "model_module": "@jupyter-widgets/controls",
      "model_module_version": "1.2.0",
      "model_name": "VBoxModel",
      "state": {
       "children": [
        "IPY_MODEL_e7e1a6bce3fb4fecbf7686ddf92f7631",
        "IPY_MODEL_38db721755bc4d94bf97f204bcfe4a3f",
        "IPY_MODEL_63487e9ba7684975a78d97fe55df4ce8"
       ],
       "layout": "IPY_MODEL_a7482a3eaca6405b891e452bf5d033b7"
      }
     },
     "fe7ee5f6b3f343f28bfd81eecf9a70c6": {
      "model_module": "@jupyter-widgets/controls",
      "model_module_version": "1.2.0",
      "model_name": "DescriptionStyleModel",
      "state": {
       "description_width": "initial"
      }
     },
     "febfa81fe4c04a18a4950381f7403e51": {
      "model_module": "@jupyter-widgets/base",
      "model_module_version": "1.0.0",
      "model_name": "LayoutModel",
      "state": {}
     }
    },
    "version_major": 2,
    "version_minor": 0
   }
  }
 },
 "nbformat": 4,
 "nbformat_minor": 2
}
