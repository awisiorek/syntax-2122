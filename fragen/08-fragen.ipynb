{
 "cells": [
  {
   "cell_type": "markdown",
   "metadata": {
    "slideshow": {
     "slide_type": "slide"
    }
   },
   "source": [
    "***Vorlesung 'Syntax natürlicher Sprachen', WS 2020/21***\n",
    "\n",
    "---\n",
    "# Wiederholungsfragen 8"
   ]
  },
  {
   "cell_type": "code",
   "execution_count": 1,
   "metadata": {
    "slideshow": {
     "slide_type": "fragment"
    }
   },
   "outputs": [],
   "source": [
    "from exercises_8 import *\n",
    "from questions import aufgabe"
   ]
  },
  {
   "cell_type": "markdown",
   "metadata": {
    "slideshow": {
     "slide_type": "slide"
    }
   },
   "source": [
    "---\n",
    "### Frage 1: Satzklassifikation"
   ]
  },
  {
   "cell_type": "code",
   "execution_count": 2,
   "metadata": {},
   "outputs": [],
   "source": [
    "from nltk.tree import Tree"
   ]
  },
  {
   "cell_type": "code",
   "execution_count": 4,
   "metadata": {
    "slideshow": {
     "slide_type": "fragment"
    }
   },
   "outputs": [
    {
     "data": {
      "image/png": "[encoded data removed]",
      "text/plain": [
       "Tree('ROOT', [Tree('S', [Tree('S', [Tree('KOUS', ['Als']), Tree('PPER', ['sie']), Tree('PP', [Tree('APPR', ['aus']), Tree('ART', ['der']), Tree('NN', ['Kneipe'])]), Tree('VVFIN', ['kam'])]), Tree('$,', [',']), Tree('VVFIN', ['putzte']), Tree('PPER', ['er']), Tree('NP', [Tree('ART', ['die']), Tree('NN', ['Fenster'])]), Tree('S,', [',']), Tree('S', [Tree('KOUS', ['damit']), Tree('PPER', ['sie']), Tree('ADV', ['endlich']), Tree('NP', [Tree('ADV', ['einmal']), Tree('PIAT', ['keinen']), Tree('NN', ['Grund']), Tree('PP', [Tree('APPRART', ['zum']), Tree('NN', ['Nörgeln'])])]), Tree('VAFIN', ['hatte'])]), Tree('$.', ['.'])])])"
      ]
     },
     "execution_count": 4,
     "metadata": {},
     "output_type": "execute_result"
    }
   ],
   "source": [
    "sentence = 'Als sie aus der Kneipe kam, putzte er die Fenster, damit sie endlich einmal keinen Grund zum Nörgeln hatte.'\n",
    "tree_str = '(ROOT (S (S (KOUS Als) (PPER sie) (PP (APPR aus) (ART der) (NN Kneipe)) (VVFIN kam)) ($, ,) (VVFIN putzte) (PPER er) (NP (ART die) (NN Fenster)) (S, ,) (S (KOUS damit) (PPER sie) (ADV endlich) (NP (ADV einmal) (PIAT keinen) (NN Grund) (PP (APPRART zum) (NN Nörgeln))) (VAFIN hatte)) ($. .)))'\n",
    "Tree.fromstring(tree_str)"
   ]
  },
  {
   "cell_type": "markdown",
   "metadata": {
    "slideshow": {
     "slide_type": "subslide"
    }
   },
   "source": [
    "#### Klassifizieren Sie die Nebensätze des obigen Satzes nach syntaktischen, semantischen und formalen Gesichtspunkten.\n",
    "\n",
    "- *Als sie aus der Kneipe kam, putzte er die Fenster, damit sie endlich einmal keinen Grund zum Nörgeln hatte.*\n",
    "\n",
    "#### Beantworten Sie zu diesem Satz die folgenden Fragen."
   ]
  },
  {
   "cell_type": "code",
   "execution_count": 5,
   "metadata": {
    "slideshow": {
     "slide_type": "subslide"
    }
   },
   "outputs": [
    {
     "data": {
      "application/vnd.jupyter.widget-view+json": {
       "model_id": "ea274a1de90c4fa283404b2b64cfbb57",
       "version_major": 2,
       "version_minor": 0
      },
      "text/plain": [
       "MultipleChoice(children=(HTML(value='<h4 style=\"font-size:14px;\">Welche Satzteile sind Nebensätze?</h4>'), HTM…"
      ]
     },
     "metadata": {},
     "output_type": "display_data"
    },
    {
     "data": {
      "application/vnd.jupyter.widget-view+json": {
       "model_id": "27d6b80ce32943a99d68ef877afa38e1",
       "version_major": 2,
       "version_minor": 0
      },
      "text/plain": [
       "SelectionList(children=(HTML(value='<h4 style=\"font-size:14px;\">Um was für einen Satz handelt es sich syntakti…"
      ]
     },
     "metadata": {},
     "output_type": "display_data"
    },
    {
     "data": {
      "application/vnd.jupyter.widget-view+json": {
       "model_id": "c7b524904abf40c194a326f398522ad0",
       "version_major": 2,
       "version_minor": 0
      },
      "text/plain": [
       "SelectionList(children=(HTML(value='<h4 style=\"font-size:14px;\">Was ist <i>als sie ...</i> semantisch für ein …"
      ]
     },
     "metadata": {},
     "output_type": "display_data"
    },
    {
     "data": {
      "application/vnd.jupyter.widget-view+json": {
       "model_id": "320fa2ec65ae482ba98a874d5ed2ac47",
       "version_major": 2,
       "version_minor": 0
      },
      "text/plain": [
       "MultipleChoice(children=(HTML(value='<h4 style=\"font-size:14px;\">Welche Aussagen stimmen für den Teilsatz <i>a…"
      ]
     },
     "metadata": {},
     "output_type": "display_data"
    },
    {
     "data": {
      "application/vnd.jupyter.widget-view+json": {
       "model_id": "bef6fd9c97bb413f8d96b857dcab5080",
       "version_major": 2,
       "version_minor": 0
      },
      "text/plain": [
       "SelectionList(children=(HTML(value='<h4 style=\"font-size:14px;\">Um was für einen Satz handelt es sich syntakti…"
      ]
     },
     "metadata": {},
     "output_type": "display_data"
    },
    {
     "data": {
      "application/vnd.jupyter.widget-view+json": {
       "model_id": "94b03d2e610d4fe284420a892e903f9b",
       "version_major": 2,
       "version_minor": 0
      },
      "text/plain": [
       "SelectionList(children=(HTML(value='<h4 style=\"font-size:14px;\">Was ist <i>damit sie ...</i> semantisch für ei…"
      ]
     },
     "metadata": {},
     "output_type": "display_data"
    },
    {
     "data": {
      "application/vnd.jupyter.widget-view+json": {
       "model_id": "d36c4ce12f0d46a9908b68d46a5bde80",
       "version_major": 2,
       "version_minor": 0
      },
      "text/plain": [
       "MultipleChoice(children=(HTML(value='<h4 style=\"font-size:14px;\">Welche Aussagen stimmen für den Teilsatz <i>d…"
      ]
     },
     "metadata": {},
     "output_type": "display_data"
    }
   ],
   "source": [
    "aufgabe(blatt8_1)"
   ]
  },
  {
   "cell_type": "markdown",
   "metadata": {
    "slideshow": {
     "slide_type": "slide"
    }
   },
   "source": [
    "---\n",
    "## Frage 2: Konstituenten im Vorfeld\n",
    "\n",
    "#### Vergleichen Sie die folgenden Beispielsätze. Wie erklären Sie die unterschiedliche Akzeptabilität dieser Sätze?\n",
    "\n",
    "- *&ast;Peter gesungen hat ein Lied.*\n",
    "- *Ein Lied gesungen hat Peter.*\n",
    "\n",
    "#### Beantworten Sie hierzu die folgenden Fragen."
   ]
  },
  {
   "cell_type": "code",
   "execution_count": 8,
   "metadata": {
    "slideshow": {
     "slide_type": "subslide"
    }
   },
   "outputs": [
    {
     "data": {
      "application/vnd.jupyter.widget-view+json": {
       "model_id": "d3a9aee15abd4472b0f30b139d29ddd5",
       "version_major": 2,
       "version_minor": 0
      },
      "text/plain": [
       "MultipleChoice(children=(HTML(value='<h4 style=\"font-size:14px;\">Identifizieren Sie das Vorfeld des ersten und…"
      ]
     },
     "metadata": {},
     "output_type": "display_data"
    },
    {
     "data": {
      "application/vnd.jupyter.widget-view+json": {
       "model_id": "2c932c61748e4535a6ae8c40cb9bec73",
       "version_major": 2,
       "version_minor": 0
      },
      "text/plain": [
       "MultipleChoice(children=(HTML(value='<h4 style=\"font-size:14px;\">Wann ist die Konstituentenverbindung <i>Satzg…"
      ]
     },
     "metadata": {},
     "output_type": "display_data"
    },
    {
     "data": {
      "application/vnd.jupyter.widget-view+json": {
       "model_id": "b8d061ee35fc4ba9aadd48a13bd16edd",
       "version_major": 2,
       "version_minor": 0
      },
      "text/plain": [
       "SingleChoice(children=(HTML(value='<h4 style=\"font-size:14px;\">Welche übergeordnete Konstituente läßt sich im …"
      ]
     },
     "metadata": {},
     "output_type": "display_data"
    }
   ],
   "source": [
    "aufgabe(blatt8_2)"
   ]
  },
  {
   "cell_type": "markdown",
   "metadata": {
    "slideshow": {
     "slide_type": "slide"
    }
   },
   "source": [
    "---\n",
    "## Frage 3: Stellungsregeln\n",
    "\n",
    "#### Erläutern Sie, warum die folgenden Sätze nur bedingt akzeptabel sind:\n",
    "1. *? Ich weiß, dass Peter auf den Tisch die Lampe stellt.*\n",
    "1. *? Ich weiß, dass Peter 100 Rosen seiner Freundin geschenkt hat.*\n",
    "1. *? Ich weiß, dass Peter ihr sie geschenkt hat.*\n",
    "1. *? Ich weiß, dass Peter immer zu spät halt kommt.*"
   ]
  },
  {
   "cell_type": "markdown",
   "metadata": {
    "slideshow": {
     "slide_type": "subslide"
    }
   },
   "source": [
    "#### Geben Sie für jede der folgenden Stellungsregeln des Deutschen an, welcher der obigen Sätze diese verletzt:"
   ]
  },
  {
   "cell_type": "code",
   "execution_count": 9,
   "metadata": {
    "slideshow": {
     "slide_type": "fragment"
    }
   },
   "outputs": [
    {
     "data": {
      "application/vnd.jupyter.widget-view+json": {
       "model_id": "a8bc9a57dcae4157adb6d96b91682de4",
       "version_major": 2,
       "version_minor": 0
      },
      "text/plain": [
       "SingleChoice(children=(HTML(value='<h4 style=\"font-size:14px;\">\\'Präpositionale Objekte stehen in Verbendsät…"
      ]
     },
     "metadata": {},
     "output_type": "display_data"
    },
    {
     "data": {
      "application/vnd.jupyter.widget-view+json": {
       "model_id": "fcbfee04039244d2a032e47e7fec0bbd",
       "version_major": 2,
       "version_minor": 0
      },
      "text/plain": [
       "SingleChoice(children=(HTML(value='<h4 style=\"font-size:14px;\">\\'Die Abfolgeregularität für Personalpronomina…"
      ]
     },
     "metadata": {},
     "output_type": "display_data"
    },
    {
     "data": {
      "application/vnd.jupyter.widget-view+json": {
       "model_id": "7aa2fb8ea248499a84cc23924ff7f683",
       "version_major": 2,
       "version_minor": 0
      },
      "text/plain": [
       "SingleChoice(children=(HTML(value='<h4 style=\"font-size:14px;\">\\'Im unmarkierten Fall steht die Modalpartikel …"
      ]
     },
     "metadata": {},
     "output_type": "display_data"
    },
    {
     "data": {
      "application/vnd.jupyter.widget-view+json": {
       "model_id": "022cad66ff7944a99afaee8b6caf7ff5",
       "version_major": 2,
       "version_minor": 0
      },
      "text/plain": [
       "SingleChoice(children=(HTML(value='<h4 style=\"font-size:14px;\">\\'Die (markierte) Abfolge ›Subjekt vor Akkusati…"
      ]
     },
     "metadata": {},
     "output_type": "display_data"
    }
   ],
   "source": [
    "aufgabe(blatt8_3)"
   ]
  },
  {
   "cell_type": "markdown",
   "metadata": {
    "slideshow": {
     "slide_type": "slide"
    }
   },
   "source": [
    "---\n",
    "# Hausaufgaben"
   ]
  },
  {
   "cell_type": "markdown",
   "metadata": {
    "slideshow": {
     "slide_type": "slide"
    }
   },
   "source": [
    "---\n",
    "## Frage 4: Satzarten\n",
    "\n",
    "#### Betrachten Sie die folgenden Beispielsätze. Um welche Satzart handelt es sich? (Aussagesatz, Fragesatz, Aufforderungssatz, Wunschsatz) Begründen Sie Ihre Entscheidung.\n",
    "\n",
    "1. *Ich befehle, dass sofort alle Kriegshandlungen eingestellt werden.*\n",
    "1. *Wo ist das Flugticket?*\n",
    "1. *Ich habe dich gefragt, wo das Flugticket ist.*\n",
    "\n",
    "#### Beantworten Sie zusätzlich noch die folgenden Fragen."
   ]
  },
  {
   "cell_type": "code",
   "execution_count": 10,
   "metadata": {
    "slideshow": {
     "slide_type": "subslide"
    }
   },
   "outputs": [
    {
     "data": {
      "application/vnd.jupyter.widget-view+json": {
       "model_id": "a229c97fe1784ae1ac00472462ad50c9",
       "version_major": 2,
       "version_minor": 0
      },
      "text/plain": [
       "SingleChoice(children=(HTML(value='<h4 style=\"font-size:14px;\">Um welche Satzart handelt es sich bei Satz 1?</…"
      ]
     },
     "metadata": {},
     "output_type": "display_data"
    },
    {
     "data": {
      "application/vnd.jupyter.widget-view+json": {
       "model_id": "48498310e83944d59abdc558a321f49c",
       "version_major": 2,
       "version_minor": 0
      },
      "text/plain": [
       "MultipleChoice(children=(HTML(value='<h4 style=\"font-size:14px;\">Wieso?</h4>'), HTML(value='<i>Markieren Sie <…"
      ]
     },
     "metadata": {},
     "output_type": "display_data"
    },
    {
     "data": {
      "application/vnd.jupyter.widget-view+json": {
       "model_id": "dde42a6196134bd58408a866ae43086e",
       "version_major": 2,
       "version_minor": 0
      },
      "text/plain": [
       "SingleChoice(children=(HTML(value='<h4 style=\"font-size:14px;\">Um welche Satzart handelt es sich bei Satz 2?</…"
      ]
     },
     "metadata": {},
     "output_type": "display_data"
    },
    {
     "data": {
      "application/vnd.jupyter.widget-view+json": {
       "model_id": "b060130b7c3b4d87b70a281fab511e43",
       "version_major": 2,
       "version_minor": 0
      },
      "text/plain": [
       "MultipleChoice(children=(HTML(value='<h4 style=\"font-size:14px;\">Wieso?</h4>'), HTML(value='<i>Markieren Sie <…"
      ]
     },
     "metadata": {},
     "output_type": "display_data"
    },
    {
     "data": {
      "application/vnd.jupyter.widget-view+json": {
       "model_id": "b344b6e0c6284a3797d053cfeafe8bd9",
       "version_major": 2,
       "version_minor": 0
      },
      "text/plain": [
       "SingleChoice(children=(HTML(value='<h4 style=\"font-size:14px;\">Um welche Satzart handelt es sich bei Satz 3?</…"
      ]
     },
     "metadata": {},
     "output_type": "display_data"
    },
    {
     "data": {
      "application/vnd.jupyter.widget-view+json": {
       "model_id": "7435266c6234485aa82612c92effa666",
       "version_major": 2,
       "version_minor": 0
      },
      "text/plain": [
       "MultipleChoice(children=(HTML(value='<h4 style=\"font-size:14px;\">Wieso?</h4>'), HTML(value='<i>Markieren Sie <…"
      ]
     },
     "metadata": {},
     "output_type": "display_data"
    }
   ],
   "source": [
    "aufgabe(blatt8_4)"
   ]
  },
  {
   "cell_type": "markdown",
   "metadata": {
    "slideshow": {
     "slide_type": "slide"
    }
   },
   "source": [
    "---\n",
    "## Frage 5: Wortstellung im Nebensatz\n",
    "\n",
    "#### Betrachten Sie die folgenden beiden Sätze:\n",
    "- *Peter sagt, er habe kein Geld.*\n",
    "- *Peter sagt, dass er kein Geld habe.*\n",
    "\n",
    "#### Der erste Nebensatz  ist durch eine Konjunktion eingeleitet, der zweite Nebensatz ist ohne Einleitewort. Leiten Sie daraus eine Regularität zur Stellung des finiten Verbs im Nebensatz ab.\n",
    "\n",
    "#### Füllen Sie zusätzlich den Lückentext aus:"
   ]
  },
  {
   "cell_type": "code",
   "execution_count": 11,
   "metadata": {
    "slideshow": {
     "slide_type": "subslide"
    }
   },
   "outputs": [
    {
     "data": {
      "application/vnd.jupyter.widget-view+json": {
       "model_id": "0c338608b34545c69bbe8385a7e2f3a1",
       "version_major": 2,
       "version_minor": 0
      },
      "text/plain": [
       "MultipleChoice(children=(HTML(value='<h4 style=\"font-size:14px;\">Wenn der Nebensatz durch eine Konjunktion ein…"
      ]
     },
     "metadata": {},
     "output_type": "display_data"
    },
    {
     "data": {
      "application/vnd.jupyter.widget-view+json": {
       "model_id": "c173648f51014ec5a59ed82a159203bf",
       "version_major": 2,
       "version_minor": 0
      },
      "text/plain": [
       "SingleChoice(children=(HTML(value='<h4 style=\"font-size:14px;\">Von welchem Satzteil wird diese Position gefüll…"
      ]
     },
     "metadata": {},
     "output_type": "display_data"
    },
    {
     "data": {
      "application/vnd.jupyter.widget-view+json": {
       "model_id": "97cf134952fd4562bf7676243f029e0b",
       "version_major": 2,
       "version_minor": 0
      },
      "text/plain": [
       "MultipleChoice(children=(HTML(value='<h4 style=\"font-size:14px;\">Kann diese Position theoretisch auch leer ble…"
      ]
     },
     "metadata": {},
     "output_type": "display_data"
    }
   ],
   "source": [
    "aufgabe(blatt8_5)"
   ]
  }
 ],
 "metadata": {
  "kernelspec": {
   "display_name": "Python 3",
   "language": "python",
   "name": "python3"
  },
  "language_info": {
   "codemirror_mode": {
    "name": "ipython",
    "version": 3
   },
   "file_extension": ".py",
   "mimetype": "text/x-python",
   "name": "python",
   "nbconvert_exporter": "python",
   "pygments_lexer": "ipython3",
   "version": "3.6.1"
  },
  "widgets": {
   "application/vnd.jupyter.widget-state+json": {
    "state": {
     "003752cc89d14863adbc18f2ef24e5ad": {
      "model_module": "@jupyter-widgets/controls",
      "model_module_version": "1.2.0",
      "model_name": "DescriptionStyleModel",
      "state": {
       "description_width": ""
      }
     },
     "004dc96da76644aa911ef40cfad8088a": {
      "model_module": "@jupyter-widgets/controls",
      "model_module_version": "1.2.0",
      "model_name": "HTMLModel",
      "state": {
       "layout": "IPY_MODEL_e79583102802457f81bc866ea3a6bed1",
       "style": "IPY_MODEL_c377cd82983c4f75b32fca6fa6f92828",
       "value": "<i>Wählen Sie die <ins>eine</ins> korrekte Antwort aus: </i>"
      }
     },
     "004dcf6ada4f45fc867c27ae39687377": {
      "model_module": "@jupyter-widgets/controls",
      "model_module_version": "1.2.0",
      "model_name": "ButtonModel",
      "state": {
       "description": "Satz 4",
       "layout": "IPY_MODEL_227d675add174d12ba4b4eb7057597b0",
       "style": "IPY_MODEL_043ae522f1754fde879b76016413aa89"
      }
     },
     "009d5a0bb11044d1bb2845eb65b249fd": {
      "model_module": "@jupyter-widgets/controls",
      "model_module_version": "1.2.0",
      "model_name": "CheckboxModel",
      "state": {
       "description": "Verbzweitstellung",
       "disabled": false,
       "layout": "IPY_MODEL_5ef74681239047ba935ae4cfcf9425a3",
       "style": "IPY_MODEL_d8d0f57a29ea4098b8d207435ba95487",
       "value": true
      }
     },
     "00a2086eacbd4de79bc82b08dc223b21": {
      "model_module": "@jupyter-widgets/controls",
      "model_module_version": "1.2.0",
      "model_name": "HTMLModel",
      "state": {
       "layout": "IPY_MODEL_28c6a6366f404ad8898da6410e7d4228",
       "style": "IPY_MODEL_bc94c26c3a80475aa0b37c9bd6cc4134",
       "value": "<i>Markieren Sie <ins>alle</ins> passenden Antworten: </i>"
      }
     },
     "00d5bc01b50b4b79bb8363bcfe12826c": {
      "model_module": "@jupyter-widgets/controls",
      "model_module_version": "1.2.0",
      "model_name": "CheckboxModel",
      "state": {
       "description": "Mittelfeld",
       "disabled": false,
       "layout": "IPY_MODEL_a3ff6cf06c154b7c8a4487a30d856f2e",
       "style": "IPY_MODEL_2f117127db524794bf9a3cffef574922",
       "value": false
      }
     },
     "0100f38cf05f4ef48984ac35c01e0098": {
      "model_module": "@jupyter-widgets/controls",
      "model_module_version": "1.2.0",
      "model_name": "ButtonStyleModel",
      "state": {
       "button_color": "lightgreen"
      }
     },
     "019021e1fac543c2b962766c72641ab7": {
      "model_module": "@jupyter-widgets/controls",
      "model_module_version": "1.2.0",
      "model_name": "ButtonStyleModel",
      "state": {}
     },
     "01d3170c9600466fad69263d4d6f07bd": {
      "model_module": "@jupyter-widgets/controls",
      "model_module_version": "1.2.0",
      "model_name": "HTMLModel",
      "state": {
       "layout": "IPY_MODEL_ea553ee3ea4e481cafc1e4e9248d3c52",
       "style": "IPY_MODEL_addd855fa8824c628f1914da5790f90d",
       "value": "<h4 style=\"font-size:14px;\">Was für eine Satzkonstruktion liegt hier vor?</h4>"
      }
     },
     "01fa8d83f57a4caa9b57034da758aa03": {
      "model_module": "@jupyter-widgets/base",
      "model_module_version": "1.0.0",
      "model_name": "LayoutModel",
      "state": {
       "justify_content": "center"
      }
     },
     "022cad66ff7944a99afaee8b6caf7ff5": {
      "model_module": "@jupyter-widgets/controls",
      "model_module_version": "1.2.0",
      "model_name": "VBoxModel",
      "state": {
       "children": [
        "IPY_MODEL_63d268d31eaa46d594a900157b34b598",
        "IPY_MODEL_5dfeb5f187dd4f1a8cb01fbd10b12e09",
        "IPY_MODEL_f937ca238d1a45b096d4b5e47cc3be47",
        "IPY_MODEL_89d36e76dc304063944dad33aebe303e"
       ],
       "layout": "IPY_MODEL_7830443a36bc4873a9070f43e504b64a"
      }
     },
     "0285e3405e2e4f7ab5f9dbd99d3a4e41": {
      "model_module": "@jupyter-widgets/base",
      "model_module_version": "1.0.0",
      "model_name": "LayoutModel",
      "state": {}
     },
     "02eb2d23a3b6431b84d195cbf78e0535": {
      "model_module": "@jupyter-widgets/controls",
      "model_module_version": "1.2.0",
      "model_name": "DescriptionStyleModel",
      "state": {
       "description_width": ""
      }
     },
     "02ec9d3a1d524033b0510a0da56d56a9": {
      "model_module": "@jupyter-widgets/base",
      "model_module_version": "1.0.0",
      "model_name": "LayoutModel",
      "state": {
       "width": "250px"
      }
     },
     "031c2e94213d441e999328c57dba6649": {
      "model_module": "@jupyter-widgets/controls",
      "model_module_version": "1.2.0",
      "model_name": "HTMLModel",
      "state": {
       "layout": "IPY_MODEL_1fc18d7686144cb2bf11dc89f81a7348",
       "style": "IPY_MODEL_4db1c73aff4540429db36307c181e747",
       "value": "<h4 style=\"font-size:14px;\">Wie läßt sich dieser Satztyp klassifizieren?</h4>"
      }
     },
     "032ac1464bc04b5da1054eb80493a797": {
      "model_module": "@jupyter-widgets/base",
      "model_module_version": "1.0.0",
      "model_name": "LayoutModel",
      "state": {}
     },
     "035fa7a2d17e486d82254894d71c3d77": {
      "model_module": "@jupyter-widgets/controls",
      "model_module_version": "1.2.0",
      "model_name": "ButtonStyleModel",
      "state": {}
     },
     "03842a45816543ae914cbc74cba211d4": {
      "model_module": "@jupyter-widgets/controls",
      "model_module_version": "1.2.0",
      "model_name": "DescriptionStyleModel",
      "state": {
       "description_width": "initial"
      }
     },
     "03e2b5619b1e4f59a5a815010de42be4": {
      "model_module": "@jupyter-widgets/controls",
      "model_module_version": "1.2.0",
      "model_name": "DescriptionStyleModel",
      "state": {
       "description_width": ""
      }
     },
     "03f98f3ef5344ddea82670fc27af6e34": {
      "model_module": "@jupyter-widgets/controls",
      "model_module_version": "1.2.0",
      "model_name": "ButtonStyleModel",
      "state": {}
     },
     "03ffa842f49041869cc101c906c72a66": {
      "model_module": "@jupyter-widgets/controls",
      "model_module_version": "1.2.0",
      "model_name": "CheckboxModel",
      "state": {
       "description": "Vorfeld",
       "disabled": false,
       "layout": "IPY_MODEL_23e42d96eace4ffd90909f78ce54dde6",
       "style": "IPY_MODEL_521bb27fe7884a87a05700df7f24cc3f",
       "value": false
      }
     },
     "041883d12c684977854fcee86a61089c": {
      "model_module": "@jupyter-widgets/base",
      "model_module_version": "1.0.0",
      "model_name": "LayoutModel",
      "state": {}
     },
     "0419cbf2278d4f0d86147a3746cf4de1": {
      "model_module": "@jupyter-widgets/controls",
      "model_module_version": "1.2.0",
      "model_name": "DescriptionStyleModel",
      "state": {
       "description_width": "initial"
      }
     },
     "043ae522f1754fde879b76016413aa89": {
      "model_module": "@jupyter-widgets/controls",
      "model_module_version": "1.2.0",
      "model_name": "ButtonStyleModel",
      "state": {
       "button_color": "lightgreen"
      }
     },
     "049aced96fe34d2b84722e78b01b0cec": {
      "model_module": "@jupyter-widgets/controls",
      "model_module_version": "1.2.0",
      "model_name": "ButtonStyleModel",
      "state": {}
     },
     "04a806c9166246a9b8071a8745145f67": {
      "model_module": "@jupyter-widgets/controls",
      "model_module_version": "1.2.0",
      "model_name": "CheckboxModel",
      "state": {
       "description": "Fragepronomen",
       "disabled": false,
       "layout": "IPY_MODEL_4fe54e6e01c64477a01935eebfced9ff",
       "style": "IPY_MODEL_46a6665b00a94d0087cf5aa51a22e1ad",
       "value": false
      }
     },
     "04ec321a52894380bcfcb48ea361f0ba": {
      "model_module": "@jupyter-widgets/base",
      "model_module_version": "1.0.0",
      "model_name": "LayoutModel",
      "state": {}
     },
     "0509a93971c94a99a8b3b9e5a859fe40": {
      "model_module": "@jupyter-widgets/base",
      "model_module_version": "1.0.0",
      "model_name": "LayoutModel",
      "state": {
       "width": "600px"
      }
     },
     "050ba3404c5646f9ae58e38e63616388": {
      "model_module": "@jupyter-widgets/base",
      "model_module_version": "1.0.0",
      "model_name": "LayoutModel",
      "state": {
       "justify_content": "center"
      }
     },
     "0553dee693194d20bfff9a244d57fee7": {
      "model_module": "@jupyter-widgets/controls",
      "model_module_version": "1.2.0",
      "model_name": "HBoxModel",
      "state": {
       "children": [
        "IPY_MODEL_1ef0b68c588141a19899502a819afd9c"
       ],
       "layout": "IPY_MODEL_78105502c376407ab21b4cfa9b3650e4"
      }
     },
     "057d65dd3f394b879dd37df0c85addbc": {
      "model_module": "@jupyter-widgets/controls",
      "model_module_version": "1.2.0",
      "model_name": "DescriptionStyleModel",
      "state": {
       "description_width": "initial"
      }
     },
     "05a1f0a23f824143b7b79bdff2d309c7": {
      "model_module": "@jupyter-widgets/base",
      "model_module_version": "1.0.0",
      "model_name": "LayoutModel",
      "state": {
       "width": "250px"
      }
     },
     "05ab6b0bfe564740ac8f3ebda0bc4f92": {
      "model_module": "@jupyter-widgets/controls",
      "model_module_version": "1.2.0",
      "model_name": "VBoxModel",
      "state": {
       "children": [
        "IPY_MODEL_ad20ef16be8246b187d74fdb3bc560e8",
        "IPY_MODEL_04a806c9166246a9b8071a8745145f67",
        "IPY_MODEL_c46320353cdc4e5b9fb2d01a9a4042b0",
        "IPY_MODEL_6cd2d6189eed45e38db5e8c720798752",
        "IPY_MODEL_06790820df714b8385433a8c91ffa7ce",
        "IPY_MODEL_6f09e44532484ad1b44247e9836623c8",
        "IPY_MODEL_37bfe66c13784bee8dc2a73c9a560d27"
       ],
       "layout": "IPY_MODEL_861ab073cc234d328665e606d0086786"
      }
     },
     "064318791c0349fc837c111fabb32c98": {
      "model_module": "@jupyter-widgets/controls",
      "model_module_version": "1.2.0",
      "model_name": "CheckboxModel",
      "state": {
       "description": "Adverbialsatz: <i>er tanzte, bis ...</i>",
       "disabled": false,
       "layout": "IPY_MODEL_234d43b9d7ea41e3a82af404ad6372be",
       "style": "IPY_MODEL_7182a4d1852c449f9439db47991a062e",
       "value": false
      }
     },
     "0644e43c1af3483fa82af2199c7ed4d9": {
      "model_module": "@jupyter-widgets/controls",
      "model_module_version": "1.2.0",
      "model_name": "HTMLModel",
      "state": {
       "layout": "IPY_MODEL_876f32101927478b8071d6a5c8f76dfc",
       "style": "IPY_MODEL_2368df38cf744b749adc30d2ce07fda0",
       "value": "<i>Wählen Sie die <ins>eine</ins> korrekte Antwort aus: </i>"
      }
     },
     "06790820df714b8385433a8c91ffa7ce": {
      "model_module": "@jupyter-widgets/controls",
      "model_module_version": "1.2.0",
      "model_name": "CheckboxModel",
      "state": {
       "description": "Satzschlusszeichen: Punkt",
       "disabled": false,
       "layout": "IPY_MODEL_7968e946889742c1b59bdabf5c5c0cb1",
       "style": "IPY_MODEL_a7f741cc44ed41a487ae9177f380630d",
       "value": true
      }
     },
     "06a3b389916f4ba49e443958f73f0647": {
      "model_module": "@jupyter-widgets/controls",
      "model_module_version": "1.2.0",
      "model_name": "VBoxModel",
      "state": {
       "children": [
        "IPY_MODEL_1de4dfa16397442a92a970851153152e",
        "IPY_MODEL_b40b94520ae44be89ac99d3a59717f28",
        "IPY_MODEL_1291f857af8840508e993d7a58862266",
        "IPY_MODEL_0718c0e239bf42dd8a22eab8d55feb2f",
        "IPY_MODEL_293bd84a70a945ac80813ac3459608f6",
        "IPY_MODEL_37270213f6ae451aaf67f766098391cb",
        "IPY_MODEL_5c7e7a310a714dd4b4a134c5f64e604a",
        "IPY_MODEL_9a77d3b5652f406e9f688033b17813d7",
        "IPY_MODEL_1f00fd2a25e84b70a1a0c98a15d96447"
       ],
       "layout": "IPY_MODEL_faa9414a14364e348f8c7e3c5c1ec9c4"
      }
     },
     "06d575ac9f5a433abf6a89d865b64717": {
      "model_module": "@jupyter-widgets/base",
      "model_module_version": "1.0.0",
      "model_name": "LayoutModel",
      "state": {
       "justify_content": "center"
      }
     },
     "07056250da5440ccafa4275316a55757": {
      "model_module": "@jupyter-widgets/controls",
      "model_module_version": "1.2.0",
      "model_name": "HTMLModel",
      "state": {
       "layout": "IPY_MODEL_adc9fa91417e45fc9bacefb90fd35a1f",
       "style": "IPY_MODEL_003752cc89d14863adbc18f2ef24e5ad",
       "value": "<h4 style=\"font-size:14px;\">Welche Aussagen stimmen für den Teilsatz <i>damit sie ...</i> formal gesehen?</h4>"
      }
     },
     "0718c0e239bf42dd8a22eab8d55feb2f": {
      "model_module": "@jupyter-widgets/controls",
      "model_module_version": "1.2.0",
      "model_name": "CheckboxModel",
      "state": {
       "description": "Ein Lied gesungen hat",
       "disabled": false,
       "layout": "IPY_MODEL_b3125c9a7b1b4034a1081eb6f27691bc",
       "style": "IPY_MODEL_5e398b3a82c44d6e874dcf508f7dea3d",
       "value": false
      }
     },
     "074d49fdf7a34b8fa5edc9a6ef5fddba": {
      "model_module": "@jupyter-widgets/base",
      "model_module_version": "1.0.0",
      "model_name": "LayoutModel",
      "state": {}
     },
     "0785b26891a84ce4bef28c42d2f20699": {
      "model_module": "@jupyter-widgets/base",
      "model_module_version": "1.0.0",
      "model_name": "LayoutModel",
      "state": {
       "width": "250px"
      }
     },
     "07963741d79043ebb124919f99f8b9ad": {
      "model_module": "@jupyter-widgets/base",
      "model_module_version": "1.0.0",
      "model_name": "LayoutModel",
      "state": {
       "width": "600px"
      }
     },
     "07c9ddbba9ee4b79aee29451cfa602bc": {
      "model_module": "@jupyter-widgets/base",
      "model_module_version": "1.0.0",
      "model_name": "LayoutModel",
      "state": {
       "width": "250px"
      }
     },
     "07e9cf6ab9414afe9b3f7d4af9c36acf": {
      "model_module": "@jupyter-widgets/controls",
      "model_module_version": "1.2.0",
      "model_name": "HBoxModel",
      "state": {
       "children": [
        "IPY_MODEL_d195d95c4e3b45b882d7ffcee6898487",
        "IPY_MODEL_7f90c38aa1a6454491fa56a3711bf560"
       ],
       "layout": "IPY_MODEL_d881351bc9334c509d091c4d49cd3bd9"
      }
     },
     "0827838003fb433d97786455c237ab8f": {
      "model_module": "@jupyter-widgets/base",
      "model_module_version": "1.0.0",
      "model_name": "LayoutModel",
      "state": {}
     },
     "08cad4ff31484dd38816402260c5b054": {
      "model_module": "@jupyter-widgets/controls",
      "model_module_version": "1.2.0",
      "model_name": "HBoxModel",
      "state": {
       "children": [
        "IPY_MODEL_c30edd8861bc4b0e96ed36eeb2b01a86",
        "IPY_MODEL_b566ebd5401f43949fa63d7d4c568bf9"
       ],
       "layout": "IPY_MODEL_423570a8552640b6a409e3328dbee113"
      }
     },
     "08d29f3b8b764bac8e5cb36e6ec7aeda": {
      "model_module": "@jupyter-widgets/controls",
      "model_module_version": "1.2.0",
      "model_name": "CheckboxModel",
      "state": {
       "description": "putzte er ...",
       "disabled": false,
       "layout": "IPY_MODEL_42997fdd6bc9436c94c40a070c86e726",
       "style": "IPY_MODEL_3a9ad76ea5174f19be3744a93e0cb548",
       "value": false
      }
     },
     "08ec4d2232454402a6b398ef3ad12dad": {
      "model_module": "@jupyter-widgets/controls",
      "model_module_version": "1.2.0",
      "model_name": "DescriptionStyleModel",
      "state": {
       "description_width": ""
      }
     },
     "09335d3fb3bf4eb4923370a371327bf8": {
      "model_module": "@jupyter-widgets/base",
      "model_module_version": "1.0.0",
      "model_name": "LayoutModel",
      "state": {}
     },
     "09989d8541a4499e8e1ecc10a67e5402": {
      "model_module": "@jupyter-widgets/controls",
      "model_module_version": "1.2.0",
      "model_name": "DescriptionStyleModel",
      "state": {
       "description_width": "initial"
      }
     },
     "09dac9c2764f4c03a54d04d6dd409fa7": {
      "model_module": "@jupyter-widgets/controls",
      "model_module_version": "1.2.0",
      "model_name": "DescriptionStyleModel",
      "state": {
       "description_width": ""
      }
     },
     "0a0faee69e5c43018766f70e52bcbf5b": {
      "model_module": "@jupyter-widgets/base",
      "model_module_version": "1.0.0",
      "model_name": "LayoutModel",
      "state": {
       "width": "600px"
      }
     },
     "0a3136a2e98f412594e11212e712ea96": {
      "model_module": "@jupyter-widgets/controls",
      "model_module_version": "1.2.0",
      "model_name": "DescriptionStyleModel",
      "state": {
       "description_width": "initial"
      }
     },
     "0aa9e3df38144f699ff63ba5fb0df1d5": {
      "model_module": "@jupyter-widgets/base",
      "model_module_version": "1.0.0",
      "model_name": "LayoutModel",
      "state": {
       "width": "600px"
      }
     },
     "0ae138033b9e4d7280f182d40e61a9ed": {
      "model_module": "@jupyter-widgets/controls",
      "model_module_version": "1.2.0",
      "model_name": "ButtonModel",
      "state": {
       "description": "Korrekt?",
       "layout": "IPY_MODEL_e2298dd3eaa4466d95fa797152fc84de",
       "style": "IPY_MODEL_df4fd582bb6e4960b3b2402fede46a8a"
      }
     },
     "0b006442a1114386a2f866f07850c0d9": {
      "model_module": "@jupyter-widgets/controls",
      "model_module_version": "1.2.0",
      "model_name": "DescriptionStyleModel",
      "state": {
       "description_width": ""
      }
     },
     "0b1de05e44f241dd94d9745a722c8f69": {
      "model_module": "@jupyter-widgets/controls",
      "model_module_version": "1.2.0",
      "model_name": "ButtonModel",
      "state": {
       "description": "Aussagesatz",
       "layout": "IPY_MODEL_07c9ddbba9ee4b79aee29451cfa602bc",
       "style": "IPY_MODEL_257a2dab211044869d1e30ec0efe7e58"
      }
     },
     "0b660bd62b6a42adac20a8743e5f0a84": {
      "model_module": "@jupyter-widgets/controls",
      "model_module_version": "1.2.0",
      "model_name": "ButtonStyleModel",
      "state": {}
     },
     "0b684154379244ebb72296872305f56b": {
      "model_module": "@jupyter-widgets/controls",
      "model_module_version": "1.2.0",
      "model_name": "ButtonModel",
      "state": {
       "description": "aux",
       "layout": "IPY_MODEL_68dfd0d2d93b4195b0d07d2d170b44ba",
       "style": "IPY_MODEL_9ab7d70e5c9e46fea2da1ef762566b9f"
      }
     },
     "0b917b326295483eb11f3d7efd588b12": {
      "model_module": "@jupyter-widgets/controls",
      "model_module_version": "1.2.0",
      "model_name": "ButtonModel",
      "state": {
       "description": "koordiniert",
       "layout": "IPY_MODEL_385a4c8301c74a4484485e4cc6e3a5ed",
       "style": "IPY_MODEL_c07f745597ba4c60a92bdf2e8fc3f1a8"
      }
     },
     "0ba4b11141f54fd280556675ed097d77": {
      "model_module": "@jupyter-widgets/base",
      "model_module_version": "1.0.0",
      "model_name": "LayoutModel",
      "state": {}
     },
     "0be871e5162c4e2496447bff96646bb3": {
      "model_module": "@jupyter-widgets/controls",
      "model_module_version": "1.2.0",
      "model_name": "HTMLModel",
      "state": {
       "layout": "IPY_MODEL_48581cdc436b4df4968076de6c0ead8d",
       "style": "IPY_MODEL_854ca6db9dc94e9d852e59cc8169e6e4",
       "value": "<i>Wählen Sie die <ins>eine</ins> korrekte Antwort aus: </i>"
      }
     },
     "0c24f581e1f54ac5a733a0071bcb5544": {
      "model_module": "@jupyter-widgets/controls",
      "model_module_version": "1.2.0",
      "model_name": "DropdownModel",
      "state": {
       "_options_labels": [
        "Adverbialsatz",
        "Attributsatz",
        "Komplementsatz",
        "Matrixsatz"
       ],
       "description": "Antwort:",
       "index": 0,
       "layout": "IPY_MODEL_f3821ba2426f4924bc4080f0e12042f7",
       "style": "IPY_MODEL_6afb1f7b9a064b27a4ce923e0d5cb0a6"
      }
     },
     "0c338608b34545c69bbe8385a7e2f3a1": {
      "model_module": "@jupyter-widgets/controls",
      "model_module_version": "1.2.0",
      "model_name": "VBoxModel",
      "state": {
       "children": [
        "IPY_MODEL_2f75248f081d4a1c9bfa33ee8af8a568",
        "IPY_MODEL_635a0b0c81d24a76a20284c1e4f45165",
        "IPY_MODEL_42ec7302f7704a83adbb92d3e4833667",
        "IPY_MODEL_ebfc9d7f49124859afe5283a9454c538"
       ],
       "layout": "IPY_MODEL_cb468449703e477e8d344d3c0a41ceb3"
      }
     },
     "0c496833292f444cabf449542e40c238": {
      "model_module": "@jupyter-widgets/base",
      "model_module_version": "1.0.0",
      "model_name": "LayoutModel",
      "state": {}
     },
     "0c90c2397ba44faf9dbe0d3a8f69d53a": {
      "model_module": "@jupyter-widgets/controls",
      "model_module_version": "1.2.0",
      "model_name": "HTMLModel",
      "state": {
       "layout": "IPY_MODEL_c9e7bf7584ff42ad86d4bd8d05652253",
       "style": "IPY_MODEL_2c43c5319b2f4c4d8d2e48417ec81209",
       "value": "<i>Wählen Sie die <ins>eine</ins> korrekte Antwort aus: </i>"
      }
     },
     "0cca80e0172c4e00a25eb6ef71bc4a74": {
      "model_module": "@jupyter-widgets/controls",
      "model_module_version": "1.2.0",
      "model_name": "DescriptionStyleModel",
      "state": {
       "description_width": ""
      }
     },
     "0cf4be77912644f9ac881f79a4f3d7ae": {
      "model_module": "@jupyter-widgets/controls",
      "model_module_version": "1.2.0",
      "model_name": "ButtonModel",
      "state": {
       "description": "Korrekt?",
       "layout": "IPY_MODEL_8d4cee198f614ea6838bbf5cbff1a5d0",
       "style": "IPY_MODEL_a83719951d474fa9966ac33007b28c37"
      }
     },
     "0d023ae96fd34aa0a0bb2a4b002c5b59": {
      "model_module": "@jupyter-widgets/controls",
      "model_module_version": "1.2.0",
      "model_name": "ButtonStyleModel",
      "state": {
       "button_color": "lightgreen"
      }
     },
     "0d2ebfeaf9d7402c8db5d0132e566b18": {
      "model_module": "@jupyter-widgets/controls",
      "model_module_version": "1.2.0",
      "model_name": "DescriptionStyleModel",
      "state": {
       "description_width": ""
      }
     },
     "0d81eea747b240219555e1bac330a55e": {
      "model_module": "@jupyter-widgets/controls",
      "model_module_version": "1.2.0",
      "model_name": "DescriptionStyleModel",
      "state": {
       "description_width": "initial"
      }
     },
     "0dc301fad76543c99704100e02db7cac": {
      "model_module": "@jupyter-widgets/controls",
      "model_module_version": "1.2.0",
      "model_name": "ButtonStyleModel",
      "state": {}
     },
     "0de05f3c26fd4879871b861f4f947e0c": {
      "model_module": "@jupyter-widgets/base",
      "model_module_version": "1.0.0",
      "model_name": "LayoutModel",
      "state": {
       "width": "250px"
      }
     },
     "0e582f55f013485fb1fda0ff657a2080": {
      "model_module": "@jupyter-widgets/controls",
      "model_module_version": "1.2.0",
      "model_name": "CheckboxModel",
      "state": {
       "description": "Der",
       "disabled": false,
       "layout": "IPY_MODEL_2aa71d2252a64ed1aac4294ad23498c4",
       "style": "IPY_MODEL_5b101f7f79014fe5bc787d76e5fdfbc2",
       "value": false
      }
     },
     "0e66a1dfc640400fa6e59d6be3dfdfa8": {
      "model_module": "@jupyter-widgets/controls",
      "model_module_version": "1.2.0",
      "model_name": "ButtonModel",
      "state": {
       "description": "Korrekt?",
       "layout": "IPY_MODEL_62cf824fcb9049b3b5eb8f90f024bb4f",
       "style": "IPY_MODEL_ff53b3991b454cb3b500800c402fddfb"
      }
     },
     "0e72e659dc244a00a2a20fff71d2a1ad": {
      "model_module": "@jupyter-widgets/base",
      "model_module_version": "1.0.0",
      "model_name": "LayoutModel",
      "state": {
       "width": "500px"
      }
     },
     "0e9762b5c8b847a0afc7ceabf6b65d3d": {
      "model_module": "@jupyter-widgets/controls",
      "model_module_version": "1.2.0",
      "model_name": "VBoxModel",
      "state": {
       "children": [
        "IPY_MODEL_064318791c0349fc837c111fabb32c98",
        "IPY_MODEL_1171823c363a425387eb96d0c0b08b90",
        "IPY_MODEL_69321f17cc6a46b0b3acd9102e5e00a2",
        "IPY_MODEL_46f9e26b3526486da59e248933f93a93"
       ],
       "layout": "IPY_MODEL_565c04e9c9514b8e8d79a6cac7af61c6"
      }
     },
     "0f8271e94cde464dbc6e717cfb615efa": {
      "model_module": "@jupyter-widgets/controls",
      "model_module_version": "1.2.0",
      "model_name": "CheckboxModel",
      "state": {
       "description": "Vater",
       "disabled": false,
       "layout": "IPY_MODEL_5cdff30c5a1c4d96b624b13f294970e6",
       "style": "IPY_MODEL_77463d95fe6c456087c575eda4bc1a38",
       "value": false
      }
     },
     "0f9c5a253a164fe5816d229970f215b6": {
      "model_module": "@jupyter-widgets/controls",
      "model_module_version": "1.2.0",
      "model_name": "DescriptionStyleModel",
      "state": {
       "description_width": ""
      }
     },
     "0fb8feca29034abab424f28e82bb3316": {
      "model_module": "@jupyter-widgets/base",
      "model_module_version": "1.0.0",
      "model_name": "LayoutModel",
      "state": {
       "width": "600px"
      }
     },
     "105509d5644f4c12b47503d27b3c0cb4": {
      "model_module": "@jupyter-widgets/base",
      "model_module_version": "1.0.0",
      "model_name": "LayoutModel",
      "state": {
       "justify_content": "center"
      }
     },
     "10629495bf1f40c59643e2337f3e66e0": {
      "model_module": "@jupyter-widgets/base",
      "model_module_version": "1.0.0",
      "model_name": "LayoutModel",
      "state": {
       "width": "250px"
      }
     },
     "10948a865c964ac48c8a6eb801128605": {
      "model_module": "@jupyter-widgets/controls",
      "model_module_version": "1.2.0",
      "model_name": "DescriptionStyleModel",
      "state": {
       "description_width": "initial"
      }
     },
     "11099f744a4943e6b42039f16390123b": {
      "model_module": "@jupyter-widgets/controls",
      "model_module_version": "1.2.0",
      "model_name": "DescriptionStyleModel",
      "state": {
       "description_width": ""
      }
     },
     "114e1d1e11ad4589bb303c3d1fef29c2": {
      "model_module": "@jupyter-widgets/controls",
      "model_module_version": "1.2.0",
      "model_name": "ButtonStyleModel",
      "state": {}
     },
     "115a7273df8e4fb1b7978808e698b35c": {
      "model_module": "@jupyter-widgets/base",
      "model_module_version": "1.0.0",
      "model_name": "LayoutModel",
      "state": {
       "width": "600px"
      }
     },
     "116745c2f0804493ac33a81ebc614e56": {
      "model_module": "@jupyter-widgets/controls",
      "model_module_version": "1.2.0",
      "model_name": "CheckboxModel",
      "state": {
       "description": "Vater",
       "disabled": false,
       "layout": "IPY_MODEL_2e6a929f422a4e1d9861dc5e71d3d1a1",
       "style": "IPY_MODEL_03842a45816543ae914cbc74cba211d4",
       "value": true
      }
     },
     "1171823c363a425387eb96d0c0b08b90": {
      "model_module": "@jupyter-widgets/controls",
      "model_module_version": "1.2.0",
      "model_name": "CheckboxModel",
      "state": {
       "description": "Relativsatz (<code>acl:relcl</code>)",
       "disabled": false,
       "layout": "IPY_MODEL_de619364c1104a67a77e0657c0e6ad6b",
       "style": "IPY_MODEL_9b377d8a578547fbae3efd525c2171ef",
       "value": false
      }
     },
     "118228de2cca416484903a1e4956a1bb": {
      "model_module": "@jupyter-widgets/base",
      "model_module_version": "1.0.0",
      "model_name": "LayoutModel",
      "state": {}
     },
     "1203620255fa48c0945e9455174242f0": {
      "model_module": "@jupyter-widgets/controls",
      "model_module_version": "1.2.0",
      "model_name": "DescriptionStyleModel",
      "state": {
       "description_width": ""
      }
     },
     "128c5b9a32dc454b9b578dd88e5fa706": {
      "model_module": "@jupyter-widgets/controls",
      "model_module_version": "1.2.0",
      "model_name": "ButtonStyleModel",
      "state": {
       "button_color": "lightgreen"
      }
     },
     "1291f857af8840508e993d7a58862266": {
      "model_module": "@jupyter-widgets/controls",
      "model_module_version": "1.2.0",
      "model_name": "CheckboxModel",
      "state": {
       "description": "Ein Lied gesungen",
       "disabled": false,
       "layout": "IPY_MODEL_1e8c136304be41b499e053f5f50d9612",
       "style": "IPY_MODEL_a30f688125314d57b4b8bf17287519cd",
       "value": true
      }
     },
     "129522079e3249e9b67f91bad850be0e": {
      "model_module": "@jupyter-widgets/controls",
      "model_module_version": "1.2.0",
      "model_name": "HTMLModel",
      "state": {
       "layout": "IPY_MODEL_3a761ae2c37042b19dec3af8c8028321",
       "style": "IPY_MODEL_35db9fe819f34c25a4acd91be2a14427",
       "value": "<i>Wählen Sie die <ins>eine</ins> korrekte Antwort aus: </i>"
      }
     },
     "12bcd65078744b20aa3cb999c7979280": {
      "model_module": "@jupyter-widgets/controls",
      "model_module_version": "1.2.0",
      "model_name": "CheckboxModel",
      "state": {
       "description": "Satzschlusszeichen: Fragezeichen",
       "disabled": false,
       "layout": "IPY_MODEL_901d05820ff540ef820a85f3ac1824f8",
       "style": "IPY_MODEL_6565e0c5e74a4f678280c11825dacb48",
       "value": false
      }
     },
     "1312ecd23ab74dcfadf4828e56d751ae": {
      "model_module": "@jupyter-widgets/base",
      "model_module_version": "1.0.0",
      "model_name": "LayoutModel",
      "state": {
       "width": "600px"
      }
     },
     "13577249a80c49e399936a4264a996b1": {
      "model_module": "@jupyter-widgets/controls",
      "model_module_version": "1.2.0",
      "model_name": "DescriptionStyleModel",
      "state": {
       "description_width": ""
      }
     },
     "135a1b0302cc43a08f5af756c28da008": {
      "model_module": "@jupyter-widgets/controls",
      "model_module_version": "1.2.0",
      "model_name": "ButtonModel",
      "state": {
       "description": "Aufforderungssatz",
       "layout": "IPY_MODEL_02ec9d3a1d524033b0510a0da56d56a9",
       "style": "IPY_MODEL_8ad0e34ada1a433dac9d4abd37bebe8e"
      }
     },
     "13c49889814143b1b96b973a6eb5774f": {
      "model_module": "@jupyter-widgets/base",
      "model_module_version": "1.0.0",
      "model_name": "LayoutModel",
      "state": {
       "width": "600px"
      }
     },
     "13dd58da5d6848728d8c2ca22c0b2c90": {
      "model_module": "@jupyter-widgets/controls",
      "model_module_version": "1.2.0",
      "model_name": "CheckboxModel",
      "state": {
       "description": "damit sie ...",
       "disabled": false,
       "layout": "IPY_MODEL_c46cbed17f474b398dfc8270998452f4",
       "style": "IPY_MODEL_e65c92fd46aa4ac18d6a0e08e2476042",
       "value": true
      }
     },
     "14136a18ae5949c6b706996ea6402bde": {
      "model_module": "@jupyter-widgets/controls",
      "model_module_version": "1.2.0",
      "model_name": "DescriptionStyleModel",
      "state": {
       "description_width": "initial"
      }
     },
     "146ea386eb4c4e3bb1b708aced23a407": {
      "model_module": "@jupyter-widgets/controls",
      "model_module_version": "1.2.0",
      "model_name": "ButtonModel",
      "state": {
       "description": "Keine der anderen Möglichkeiten",
       "layout": "IPY_MODEL_0de05f3c26fd4879871b861f4f947e0c",
       "style": "IPY_MODEL_f8cfaac7d60e406485000a8cccc4f239"
      }
     },
     "14740e85155c4aa99fe705f6e3c557fb": {
      "model_module": "@jupyter-widgets/base",
      "model_module_version": "1.0.0",
      "model_name": "LayoutModel",
      "state": {}
     },
     "1496345c07ad495aa8f7229c763cb8a5": {
      "model_module": "@jupyter-widgets/base",
      "model_module_version": "1.0.0",
      "model_name": "LayoutModel",
      "state": {
       "justify_content": "center"
      }
     },
     "14bbf310007a412d84bc14a3b76132ac": {
      "model_module": "@jupyter-widgets/controls",
      "model_module_version": "1.2.0",
      "model_name": "DescriptionStyleModel",
      "state": {
       "description_width": "initial"
      }
     },
     "1524d13daeb149758d737367e52a8617": {
      "model_module": "@jupyter-widgets/base",
      "model_module_version": "1.0.0",
      "model_name": "LayoutModel",
      "state": {
       "justify_content": "center"
      }
     },
     "1530d263fe9a49e893d6c82c568b9c96": {
      "model_module": "@jupyter-widgets/controls",
      "model_module_version": "1.2.0",
      "model_name": "DescriptionStyleModel",
      "state": {
       "description_width": ""
      }
     },
     "155153fa3dc44e8daebedf1155c2090f": {
      "model_module": "@jupyter-widgets/controls",
      "model_module_version": "1.2.0",
      "model_name": "ButtonModel",
      "state": {
       "description": "Aussagesatz",
       "layout": "IPY_MODEL_8e3b402f926e4b4080605dccd67e936e",
       "style": "IPY_MODEL_dcc429f24273481cb99b46f899c071e4"
      }
     },
     "1599f2de7fa44de5a650015ecc627b90": {
      "model_module": "@jupyter-widgets/controls",
      "model_module_version": "1.2.0",
      "model_name": "VBoxModel",
      "state": {
       "children": [
        "IPY_MODEL_88e3db27606f41088f728f9a77ea06ef",
        "IPY_MODEL_5cae28db444345c9a144822ac77997de",
        "IPY_MODEL_6736508ccc1d43ff97250074854cb924",
        "IPY_MODEL_5ef20c19e9e5497084b2b756ca8f8ef7"
       ],
       "layout": "IPY_MODEL_dd431e87ac2b46d0872360644f715571"
      }
     },
     "159a66a4f03a47d681e05f9a61af0eb2": {
      "model_module": "@jupyter-widgets/controls",
      "model_module_version": "1.2.0",
      "model_name": "DescriptionStyleModel",
      "state": {
       "description_width": "initial"
      }
     },
     "16171083922743eb92baa05cfe5dc0b5": {
      "model_module": "@jupyter-widgets/base",
      "model_module_version": "1.0.0",
      "model_name": "LayoutModel",
      "state": {
       "justify_content": "center"
      }
     },
     "172a5ca5a14c4b9b8d5765090f52db79": {
      "model_module": "@jupyter-widgets/controls",
      "model_module_version": "1.2.0",
      "model_name": "HBoxModel",
      "state": {
       "children": [
        "IPY_MODEL_c99d339c1884484da08a82c69961fa07",
        "IPY_MODEL_6a49e10ae14c4d5daf164ed23918b327"
       ],
       "layout": "IPY_MODEL_b789a47a19e1493da19fd052705755d0"
      }
     },
     "173e88b9e1d04069a9ce5c6e06069ab9": {
      "model_module": "@jupyter-widgets/base",
      "model_module_version": "1.0.0",
      "model_name": "LayoutModel",
      "state": {}
     },
     "17a31225b31c4ae99c74d8ce9c9b3440": {
      "model_module": "@jupyter-widgets/base",
      "model_module_version": "1.0.0",
      "model_name": "LayoutModel",
      "state": {
       "justify_content": "center"
      }
     },
     "17e1b0297a034880b05dcfc64548ac1a": {
      "model_module": "@jupyter-widgets/base",
      "model_module_version": "1.0.0",
      "model_name": "LayoutModel",
      "state": {
       "width": "250px"
      }
     },
     "18067e474abf40898fcee9792d9ed009": {
      "model_module": "@jupyter-widgets/controls",
      "model_module_version": "1.2.0",
      "model_name": "CheckboxModel",
      "state": {
       "description": "steigende Intonation",
       "disabled": false,
       "layout": "IPY_MODEL_6f89f546eac44fce91dae8165fce2064",
       "style": "IPY_MODEL_9e65d02afcd747d2acb3f0bafda3ced8",
       "value": true
      }
     },
     "180702d2abaa454eba024dfdd5fe9c4d": {
      "model_module": "@jupyter-widgets/controls",
      "model_module_version": "1.2.0",
      "model_name": "ButtonModel",
      "state": {
       "description": "Keine der anderen Möglichkeiten",
       "layout": "IPY_MODEL_a0710b65235e4d5b9f39508d90bf4581",
       "style": "IPY_MODEL_03f98f3ef5344ddea82670fc27af6e34"
      }
     },
     "1813fa40f5044b1b8ff789e1e8e66942": {
      "model_module": "@jupyter-widgets/controls",
      "model_module_version": "1.2.0",
      "model_name": "CheckboxModel",
      "state": {
       "description": "heute",
       "disabled": false,
       "layout": "IPY_MODEL_7d1f9bdfa4434fdea8be452c7fbf756c",
       "style": "IPY_MODEL_b5976c5fbd25400593bb7f33c20fc1b3",
       "value": true
      }
     },
     "183a864136b7477e80d237422a252abb": {
      "model_module": "@jupyter-widgets/controls",
      "model_module_version": "1.2.0",
      "model_name": "CheckboxModel",
      "state": {
       "description": "Das Mittelfeld ist unbesetzt.",
       "disabled": false,
       "layout": "IPY_MODEL_d71c5087dcfe41e79491c748149a9129",
       "style": "IPY_MODEL_efa0807e51b8450b94c9708b9b669451",
       "value": false
      }
     },
     "183d48924c8149388cfe8dda72ce3c0d": {
      "model_module": "@jupyter-widgets/controls",
      "model_module_version": "1.2.0",
      "model_name": "VBoxModel",
      "state": {
       "children": [
        "IPY_MODEL_e340c0f1509f42438726e72afd6d4191",
        "IPY_MODEL_3ac420d93ce84ce39be67ec4c660270b",
        "IPY_MODEL_5143f0a4a83348dfa57d89f584130ffc",
        "IPY_MODEL_2e81bb187e7849b49d4e37188623712a"
       ],
       "layout": "IPY_MODEL_04ec321a52894380bcfcb48ea361f0ba"
      }
     },
     "18510d8c60084396b31b2247c0c74db8": {
      "model_module": "@jupyter-widgets/base",
      "model_module_version": "1.0.0",
      "model_name": "LayoutModel",
      "state": {}
     },
     "186e6dc571ed4a3a8a72da401d7f0749": {
      "model_module": "@jupyter-widgets/controls",
      "model_module_version": "1.2.0",
      "model_name": "ButtonModel",
      "state": {
       "description": "koordiniert",
       "layout": "IPY_MODEL_f1ec639d050541cb9ada3aae9a054150",
       "style": "IPY_MODEL_9b451630d380412d9159bf5a26ba29f1"
      }
     },
     "1878869ba530484caaf4034bd4a37fe8": {
      "model_module": "@jupyter-widgets/base",
      "model_module_version": "1.0.0",
      "model_name": "LayoutModel",
      "state": {
       "width": "250px"
      }
     },
     "18a5244a80774ad29492240beb3fb77c": {
      "model_module": "@jupyter-widgets/base",
      "model_module_version": "1.0.0",
      "model_name": "LayoutModel",
      "state": {
       "width": "250px"
      }
     },
     "18b13ec337f44ccca009db6224cc5422": {
      "model_module": "@jupyter-widgets/controls",
      "model_module_version": "1.2.0",
      "model_name": "ButtonStyleModel",
      "state": {}
     },
     "18f7e09191ed47489338bf9e956be743": {
      "model_module": "@jupyter-widgets/base",
      "model_module_version": "1.0.0",
      "model_name": "LayoutModel",
      "state": {
       "width": "600px"
      }
     },
     "190e036fb8f04ac481d0266a05521a49": {
      "model_module": "@jupyter-widgets/controls",
      "model_module_version": "1.2.0",
      "model_name": "HBoxModel",
      "state": {
       "children": [
        "IPY_MODEL_2afa303bbc2d40739368ade4564ceb2a",
        "IPY_MODEL_155153fa3dc44e8daebedf1155c2090f"
       ],
       "layout": "IPY_MODEL_f002c532f34c445ab1ea3c73e4165021"
      }
     },
     "1912246d0f0d49508b61d0e16b919153": {
      "model_module": "@jupyter-widgets/controls",
      "model_module_version": "1.2.0",
      "model_name": "VBoxModel",
      "state": {
       "children": [
        "IPY_MODEL_9f6e05597dd645639a9a4ea46986598b",
        "IPY_MODEL_2d3ca9561a694f2f8eebc29bf10bc7c0",
        "IPY_MODEL_1edb230a2548463095c0c81146c1035c",
        "IPY_MODEL_3d0415311d0644b6a49e07b7b1322cfb"
       ],
       "layout": "IPY_MODEL_cfd32d9f4e2c4414a472dbdbeb1b201c"
      }
     },
     "192a0ad522804133a8420b725c7d4cca": {
      "model_module": "@jupyter-widgets/controls",
      "model_module_version": "1.2.0",
      "model_name": "DescriptionStyleModel",
      "state": {
       "description_width": "initial"
      }
     },
     "1935401ebb3943ecab78629965af27fd": {
      "model_module": "@jupyter-widgets/controls",
      "model_module_version": "1.2.0",
      "model_name": "HTMLModel",
      "state": {
       "layout": "IPY_MODEL_d062b78a1b5c4c7a80d0caab32ef876c",
       "style": "IPY_MODEL_3a0882a0531f4303b244781f016a29fd",
       "value": "<i>Wählen Sie die <ins>eine</ins> korrekte Antwort aus: </i>"
      }
     },
     "1999ff5dea1c47ae87f75ae16bb7625f": {
      "model_module": "@jupyter-widgets/controls",
      "model_module_version": "1.2.0",
      "model_name": "ButtonStyleModel",
      "state": {
       "button_color": "lightgreen"
      }
     },
     "19f547de2a9a4c178d4ff772c83c5abc": {
      "model_module": "@jupyter-widgets/base",
      "model_module_version": "1.0.0",
      "model_name": "LayoutModel",
      "state": {}
     },
     "19fae9d2ebcf41e9a1a16cda76f401a9": {
      "model_module": "@jupyter-widgets/controls",
      "model_module_version": "1.2.0",
      "model_name": "DescriptionStyleModel",
      "state": {
       "description_width": "initial"
      }
     },
     "1a2bfc86cd5b450b81f1301b13d3fd2e": {
      "model_module": "@jupyter-widgets/base",
      "model_module_version": "1.0.0",
      "model_name": "LayoutModel",
      "state": {
       "width": "250px"
      }
     },
     "1a3d65b733444ce0ae010af217e9c5c1": {
      "model_module": "@jupyter-widgets/controls",
      "model_module_version": "1.2.0",
      "model_name": "ButtonStyleModel",
      "state": {}
     },
     "1a6f8a8656a8447a9de056ff005a3c22": {
      "model_module": "@jupyter-widgets/controls",
      "model_module_version": "1.2.0",
      "model_name": "CheckboxModel",
      "state": {
       "description": "Wenn es sich bei dem Satzglied um das Subjekt handelt.",
       "disabled": false,
       "layout": "IPY_MODEL_97eca70bbbfe499780be5476f5fcb9d4",
       "style": "IPY_MODEL_09989d8541a4499e8e1ecc10a67e5402",
       "value": true
      }
     },
     "1a806fd87e5941e58d1aa897ce4d94ad": {
      "model_module": "@jupyter-widgets/controls",
      "model_module_version": "1.2.0",
      "model_name": "DescriptionStyleModel",
      "state": {
       "description_width": "initial"
      }
     },
     "1a853bfd514f4827ac660289533aaa13": {
      "model_module": "@jupyter-widgets/controls",
      "model_module_version": "1.2.0",
      "model_name": "ButtonModel",
      "state": {
       "description": "Korrekt?",
       "layout": "IPY_MODEL_e87cf31ab03d4799924da13267fa0a18",
       "style": "IPY_MODEL_28e2e32a7c7d464bab98d3a3d7a1eaa5"
      }
     },
     "1a935d6b73bc468c899c94ba52ec6f7b": {
      "model_module": "@jupyter-widgets/controls",
      "model_module_version": "1.2.0",
      "model_name": "ButtonStyleModel",
      "state": {}
     },
     "1aee43566bed4846b4fadb0c5f7931f7": {
      "model_module": "@jupyter-widgets/controls",
      "model_module_version": "1.2.0",
      "model_name": "ButtonModel",
      "state": {
       "description": "Korrekt?",
       "layout": "IPY_MODEL_53674bc6472246cbb7fa19669d97630e",
       "style": "IPY_MODEL_9535aa6481e7413cb7f42346bff4c620"
      }
     },
     "1b10579abeb14841babe7aac83d53056": {
      "model_module": "@jupyter-widgets/base",
      "model_module_version": "1.0.0",
      "model_name": "LayoutModel",
      "state": {
       "width": "250px"
      }
     },
     "1b296aa08faa45d9947f1fb5ad7f9698": {
      "model_module": "@jupyter-widgets/controls",
      "model_module_version": "1.2.0",
      "model_name": "CheckboxModel",
      "state": {
       "description": "Konjunktionalsatz",
       "disabled": false,
       "layout": "IPY_MODEL_a58cb0a50275488b85c871f1472b06cf",
       "style": "IPY_MODEL_be9299895a49441a9a5b7c0fc3e693ce",
       "value": true
      }
     },
     "1b5722b3adca437b855c4a71015844dc": {
      "model_module": "@jupyter-widgets/controls",
      "model_module_version": "1.2.0",
      "model_name": "HTMLModel",
      "state": {
       "layout": "IPY_MODEL_e4972a31ecfb4f58a5af877cf77cd3a3",
       "style": "IPY_MODEL_235bc17d2a004d65a800babc0461e7c1",
       "value": "<i>Markieren Sie <ins>alle</ins> passenden Antworten: </i>"
      }
     },
     "1b657c3fb07e41bb91f47c60010a3686": {
      "model_module": "@jupyter-widgets/base",
      "model_module_version": "1.0.0",
      "model_name": "LayoutModel",
      "state": {}
     },
     "1b66bd48247d4a55ab8c34a55e146c51": {
      "model_module": "@jupyter-widgets/base",
      "model_module_version": "1.0.0",
      "model_name": "LayoutModel",
      "state": {}
     },
     "1b95338a709f458da408dc66fd3d2736": {
      "model_module": "@jupyter-widgets/controls",
      "model_module_version": "1.2.0",
      "model_name": "ButtonStyleModel",
      "state": {}
     },
     "1b9c5ebe638248f3ae2afa74f956c915": {
      "model_module": "@jupyter-widgets/controls",
      "model_module_version": "1.2.0",
      "model_name": "HBoxModel",
      "state": {
       "children": [
        "IPY_MODEL_547541d467e94e89b3661dd30326c026",
        "IPY_MODEL_808b169054774c958a8281cad6366c04"
       ],
       "layout": "IPY_MODEL_6d9ed942acdf4b9b89199e25c25b583c"
      }
     },
     "1bb57c565b434d998ba5f2dd4495f8b4": {
      "model_module": "@jupyter-widgets/controls",
      "model_module_version": "1.2.0",
      "model_name": "DescriptionStyleModel",
      "state": {
       "description_width": ""
      }
     },
     "1be4b2d66103494f91aeeb9bb2569bf4": {
      "model_module": "@jupyter-widgets/base",
      "model_module_version": "1.0.0",
      "model_name": "LayoutModel",
      "state": {}
     },
     "1bf5ba29699f42cc8227405154dfd41a": {
      "model_module": "@jupyter-widgets/controls",
      "model_module_version": "1.2.0",
      "model_name": "DescriptionStyleModel",
      "state": {
       "description_width": "initial"
      }
     },
     "1c83f68a5b2d41e4bee334bb01bfd297": {
      "model_module": "@jupyter-widgets/controls",
      "model_module_version": "1.2.0",
      "model_name": "DescriptionStyleModel",
      "state": {
       "description_width": "initial"
      }
     },
     "1c8ce7f343d84c92a96eb5ed922dae8d": {
      "model_module": "@jupyter-widgets/base",
      "model_module_version": "1.0.0",
      "model_name": "LayoutModel",
      "state": {
       "width": "600px"
      }
     },
     "1ca9c656402649608f832d9e84a677a2": {
      "model_module": "@jupyter-widgets/controls",
      "model_module_version": "1.2.0",
      "model_name": "HBoxModel",
      "state": {
       "children": [
        "IPY_MODEL_9273a470abef4b6e82cf461e01335469",
        "IPY_MODEL_c52d3d5179564c9a8be97f55001392f2"
       ],
       "layout": "IPY_MODEL_764ecd5fb91a4548b2fce32db31f5f23"
      }
     },
     "1cae156be1fb4f4ebc8c11b30d3e53fb": {
      "model_module": "@jupyter-widgets/controls",
      "model_module_version": "1.2.0",
      "model_name": "ButtonModel",
      "state": {
       "description": "Korrekt?",
       "layout": "IPY_MODEL_c11aa5cf356747cba7e11d5f68676b4a",
       "style": "IPY_MODEL_6f584f0645104dddb70c533da37dc800"
      }
     },
     "1caecc80d8db418391a77ede28c7bad6": {
      "model_module": "@jupyter-widgets/controls",
      "model_module_version": "1.2.0",
      "model_name": "DescriptionStyleModel",
      "state": {
       "description_width": ""
      }
     },
     "1cc7284620264529b80eb6913b222a4e": {
      "model_module": "@jupyter-widgets/controls",
      "model_module_version": "1.2.0",
      "model_name": "DescriptionStyleModel",
      "state": {
       "description_width": "initial"
      }
     },
     "1cc8e3d96cd14a46977aebd9f0a8cd76": {
      "model_module": "@jupyter-widgets/base",
      "model_module_version": "1.0.0",
      "model_name": "LayoutModel",
      "state": {
       "justify_content": "center"
      }
     },
     "1ce6944f44a348e6b72d55cda03a3e56": {
      "model_module": "@jupyter-widgets/controls",
      "model_module_version": "1.2.0",
      "model_name": "HBoxModel",
      "state": {
       "children": [
        "IPY_MODEL_0b684154379244ebb72296872305f56b",
        "IPY_MODEL_5e10d8bd5c6148db8d7362f6f81a7976"
       ],
       "layout": "IPY_MODEL_c42cab9c8dc84429ad59fb75e6ccf9be"
      }
     },
     "1d23e58377d9415b8087635dedb154c6": {
      "model_module": "@jupyter-widgets/controls",
      "model_module_version": "1.2.0",
      "model_name": "DescriptionStyleModel",
      "state": {
       "description_width": ""
      }
     },
     "1db71e16fb6b4569acac940fb9935acf": {
      "model_module": "@jupyter-widgets/controls",
      "model_module_version": "1.2.0",
      "model_name": "CheckboxModel",
      "state": {
       "description": "Die linke SK ist unbesetzt.",
       "disabled": false,
       "layout": "IPY_MODEL_3e196f7d1fa747799fb6066fc417a92e",
       "style": "IPY_MODEL_60bdf53f58cf48fd9b96aacaf8da6303",
       "value": false
      }
     },
     "1de416a0cd4a416eaed990fefc79e091": {
      "model_module": "@jupyter-widgets/controls",
      "model_module_version": "1.2.0",
      "model_name": "HTMLModel",
      "state": {
       "layout": "IPY_MODEL_2f9fe36bc1924b6b83b5ebbdbf352a1d",
       "style": "IPY_MODEL_944691383cb64bdc82d08b6271fe816b",
       "value": "<i>Markieren Sie <ins>alle</ins> passenden Antworten: </i>"
      }
     },
     "1de4dfa16397442a92a970851153152e": {
      "model_module": "@jupyter-widgets/controls",
      "model_module_version": "1.2.0",
      "model_name": "CheckboxModel",
      "state": {
       "description": "Ein",
       "disabled": false,
       "layout": "IPY_MODEL_0fb8feca29034abab424f28e82bb3316",
       "style": "IPY_MODEL_4e1ba925d5a04848b32a0cb24c4cde60",
       "value": false
      }
     },
     "1e4e2895177d4957aa0d75f9a280c2ed": {
      "model_module": "@jupyter-widgets/base",
      "model_module_version": "1.0.0",
      "model_name": "LayoutModel",
      "state": {
       "justify_content": "center"
      }
     },
     "1e554647c97d441c919b12b308487191": {
      "model_module": "@jupyter-widgets/base",
      "model_module_version": "1.0.0",
      "model_name": "LayoutModel",
      "state": {
       "justify_content": "center"
      }
     },
     "1e8c136304be41b499e053f5f50d9612": {
      "model_module": "@jupyter-widgets/base",
      "model_module_version": "1.0.0",
      "model_name": "LayoutModel",
      "state": {
       "width": "600px"
      }
     },
     "1edb230a2548463095c0c81146c1035c": {
      "model_module": "@jupyter-widgets/controls",
      "model_module_version": "1.2.0",
      "model_name": "VBoxModel",
      "state": {
       "children": [
        "IPY_MODEL_88db8bc335d2431fbf17694804549ebf",
        "IPY_MODEL_0f8271e94cde464dbc6e717cfb615efa",
        "IPY_MODEL_9c18359eea124151afd0d9ee76e5c82c",
        "IPY_MODEL_3cf05e2973d34741b4f22571442a2a33",
        "IPY_MODEL_f6d34b10692d49cfa0685aac4c49aa9f",
        "IPY_MODEL_6d0cb314c2874ebe81b9d491843b2fd1",
        "IPY_MODEL_870edb09d21e40879da16c2e24a1ec60",
        "IPY_MODEL_9efe662887a3488f96f10796e33fea3c"
       ],
       "layout": "IPY_MODEL_89b6cb77d82d4511b7b3037015e255c2"
      }
     },
     "1eddd82fbdfd4765a5af71d49651ea6d": {
      "model_module": "@jupyter-widgets/controls",
      "model_module_version": "1.2.0",
      "model_name": "DescriptionStyleModel",
      "state": {
       "description_width": "initial"
      }
     },
     "1ee0b85b01544e9a88a5a33fd0f726c8": {
      "model_module": "@jupyter-widgets/base",
      "model_module_version": "1.0.0",
      "model_name": "LayoutModel",
      "state": {
       "width": "250px"
      }
     },
     "1ef0b68c588141a19899502a819afd9c": {
      "model_module": "@jupyter-widgets/controls",
      "model_module_version": "1.2.0",
      "model_name": "ButtonModel",
      "state": {
       "description": "Keine der anderen Möglichkeiten",
       "layout": "IPY_MODEL_ab9634bcf97242d381e1de2b8373f369",
       "style": "IPY_MODEL_4242938eabea40919ba20dce20966e21"
      }
     },
     "1f00fd2a25e84b70a1a0c98a15d96447": {
      "model_module": "@jupyter-widgets/controls",
      "model_module_version": "1.2.0",
      "model_name": "CheckboxModel",
      "state": {
       "description": "gesungen",
       "disabled": false,
       "layout": "IPY_MODEL_7bc8b0238b4642e1971418dd517bebfa",
       "style": "IPY_MODEL_cf1d08e742514cd8a17d623ff55b46cf",
       "value": false
      }
     },
     "1f0aee06d902455492cf9a16a5a68159": {
      "model_module": "@jupyter-widgets/controls",
      "model_module_version": "1.2.0",
      "model_name": "CheckboxModel",
      "state": {
       "description": "zu",
       "disabled": false,
       "layout": "IPY_MODEL_927f404be00144f8aa7ed78991f824b8",
       "style": "IPY_MODEL_4093e0b89cfd4af7bfe8477a98bb73dd",
       "value": true
      }
     },
     "1f53b421f0384a43893d46190b7bba00": {
      "model_module": "@jupyter-widgets/base",
      "model_module_version": "1.0.0",
      "model_name": "LayoutModel",
      "state": {
       "width": "600px"
      }
     },
     "1fc18d7686144cb2bf11dc89f81a7348": {
      "model_module": "@jupyter-widgets/base",
      "model_module_version": "1.0.0",
      "model_name": "LayoutModel",
      "state": {}
     },
     "1fd1276e28f348578065fa22bd85bcb4": {
      "model_module": "@jupyter-widgets/controls",
      "model_module_version": "1.2.0",
      "model_name": "HTMLModel",
      "state": {
       "layout": "IPY_MODEL_b7ad852956494f53b534797cc00c7bf1",
       "style": "IPY_MODEL_86feb639ea064ab69719cd39f3d2ee8b",
       "value": "<i>Wählen Sie die <ins>eine</ins> korrekte Antwort aus: </i>"
      }
     },
     "20064587d6a24b06ac9a0c96f47ce71d": {
      "model_module": "@jupyter-widgets/controls",
      "model_module_version": "1.2.0",
      "model_name": "CheckboxModel",
      "state": {
       "description": "Ja, der Satz bleibt unverändert grammatisch.",
       "disabled": false,
       "layout": "IPY_MODEL_b14b327180f748a1bed10fb44a04e022",
       "style": "IPY_MODEL_b7570ef10af74ed396cc5d7211f7629f",
       "value": false
      }
     },
     "20072b68bbde4b45b960915877923aa5": {
      "model_module": "@jupyter-widgets/base",
      "model_module_version": "1.0.0",
      "model_name": "LayoutModel",
      "state": {}
     },
     "2039e8ef84704a8dbcd20d22f0d50e87": {
      "model_module": "@jupyter-widgets/controls",
      "model_module_version": "1.2.0",
      "model_name": "HBoxModel",
      "state": {
       "children": [
        "IPY_MODEL_8744db7ab2834553ae8f5f647fe8f9ed"
       ],
       "layout": "IPY_MODEL_3b5d649e128d4b849a4f7e8f302bfc82"
      }
     },
     "2076b9f127b7490e86b3d6be23a03852": {
      "model_module": "@jupyter-widgets/base",
      "model_module_version": "1.0.0",
      "model_name": "LayoutModel",
      "state": {
       "justify_content": "center"
      }
     },
     "209186a0452549c58ef593d2e60595db": {
      "model_module": "@jupyter-widgets/base",
      "model_module_version": "1.0.0",
      "model_name": "LayoutModel",
      "state": {
       "justify_content": "center"
      }
     },
     "209a81ec28ab41e7a383c060b91e02d7": {
      "model_module": "@jupyter-widgets/controls",
      "model_module_version": "1.2.0",
      "model_name": "DescriptionStyleModel",
      "state": {
       "description_width": ""
      }
     },
     "210ea1b5e56d4c48b12495fe34e8bf59": {
      "model_module": "@jupyter-widgets/controls",
      "model_module_version": "1.2.0",
      "model_name": "ButtonStyleModel",
      "state": {}
     },
     "211b129914694ae1b592c68284adc99d": {
      "model_module": "@jupyter-widgets/base",
      "model_module_version": "1.0.0",
      "model_name": "LayoutModel",
      "state": {
       "width": "600px"
      }
     },
     "216047ea79454f8b8a709c8cc87ef3a0": {
      "model_module": "@jupyter-widgets/controls",
      "model_module_version": "1.2.0",
      "model_name": "CheckboxModel",
      "state": {
       "description": "heute",
       "disabled": false,
       "layout": "IPY_MODEL_fad382d38ed4404b85ddde6989b54fe6",
       "style": "IPY_MODEL_cdc04ac1ac3d452d918c2321002b031b",
       "value": false
      }
     },
     "21888b98f0724f1cbb0703bdfb7f4946": {
      "model_module": "@jupyter-widgets/base",
      "model_module_version": "1.0.0",
      "model_name": "LayoutModel",
      "state": {}
     },
     "21b9f4891cd1411d81c3a9cddaff69a2": {
      "model_module": "@jupyter-widgets/base",
      "model_module_version": "1.0.0",
      "model_name": "LayoutModel",
      "state": {
       "width": "500px"
      }
     },
     "227d675add174d12ba4b4eb7057597b0": {
      "model_module": "@jupyter-widgets/base",
      "model_module_version": "1.0.0",
      "model_name": "LayoutModel",
      "state": {
       "width": "250px"
      }
     },
     "2287da68ee3f4f4da0a74cb7844f3f33": {
      "model_module": "@jupyter-widgets/controls",
      "model_module_version": "1.2.0",
      "model_name": "ButtonStyleModel",
      "state": {}
     },
     "23224253233b4f68a522711134739e4c": {
      "model_module": "@jupyter-widgets/controls",
      "model_module_version": "1.2.0",
      "model_name": "CheckboxModel",
      "state": {
       "description": "das",
       "disabled": false,
       "layout": "IPY_MODEL_07963741d79043ebb124919f99f8b9ad",
       "style": "IPY_MODEL_b7b33b999e394a13bb7d571934a4acce",
       "value": false
      }
     },
     "2332fbbfafd8406b9d00d57818e911b3": {
      "model_module": "@jupyter-widgets/base",
      "model_module_version": "1.0.0",
      "model_name": "LayoutModel",
      "state": {}
     },
     "234d43b9d7ea41e3a82af404ad6372be": {
      "model_module": "@jupyter-widgets/base",
      "model_module_version": "1.0.0",
      "model_name": "LayoutModel",
      "state": {
       "width": "600px"
      }
     },
     "235bc17d2a004d65a800babc0461e7c1": {
      "model_module": "@jupyter-widgets/controls",
      "model_module_version": "1.2.0",
      "model_name": "DescriptionStyleModel",
      "state": {
       "description_width": ""
      }
     },
     "2368df38cf744b749adc30d2ce07fda0": {
      "model_module": "@jupyter-widgets/controls",
      "model_module_version": "1.2.0",
      "model_name": "DescriptionStyleModel",
      "state": {
       "description_width": ""
      }
     },
     "237eead355874be3a7e7491ee4b04eee": {
      "model_module": "@jupyter-widgets/base",
      "model_module_version": "1.0.0",
      "model_name": "LayoutModel",
      "state": {
       "width": "250px"
      }
     },
     "23a6ee256db44a5b9580101285b77c61": {
      "model_module": "@jupyter-widgets/controls",
      "model_module_version": "1.2.0",
      "model_name": "DescriptionStyleModel",
      "state": {
       "description_width": "initial"
      }
     },
     "23a703c6a5c34166ab3a2484238ed7a9": {
      "model_module": "@jupyter-widgets/base",
      "model_module_version": "1.0.0",
      "model_name": "LayoutModel",
      "state": {
       "width": "500px"
      }
     },
     "23bcf5b59fb24f278ea505548b54f28a": {
      "model_module": "@jupyter-widgets/controls",
      "model_module_version": "1.2.0",
      "model_name": "DescriptionStyleModel",
      "state": {
       "description_width": ""
      }
     },
     "23e42d96eace4ffd90909f78ce54dde6": {
      "model_module": "@jupyter-widgets/base",
      "model_module_version": "1.0.0",
      "model_name": "LayoutModel",
      "state": {
       "width": "600px"
      }
     },
     "23e4785668f14c45b7d0516d154a0c36": {
      "model_module": "@jupyter-widgets/base",
      "model_module_version": "1.0.0",
      "model_name": "LayoutModel",
      "state": {
       "width": "500px"
      }
     },
     "23f7dbd35e2a4574ba1da373347c6fe1": {
      "model_module": "@jupyter-widgets/base",
      "model_module_version": "1.0.0",
      "model_name": "LayoutModel",
      "state": {
       "justify_content": "center"
      }
     },
     "2439ff9f1f974fee9677177d94a0feb7": {
      "model_module": "@jupyter-widgets/base",
      "model_module_version": "1.0.0",
      "model_name": "LayoutModel",
      "state": {}
     },
     "2460e2602ce2405e9025b9eeaf9ef3b8": {
      "model_module": "@jupyter-widgets/controls",
      "model_module_version": "1.2.0",
      "model_name": "ButtonStyleModel",
      "state": {}
     },
     "2473682d6d434e8d9003ccd8b8f8bb76": {
      "model_module": "@jupyter-widgets/controls",
      "model_module_version": "1.2.0",
      "model_name": "DropdownModel",
      "state": {
       "_options_labels": [
        "Infinitiv-Subjektsatz",
        "Kausalsatz",
        "Keine der Alternativen",
        "Lokalsatz",
        "Modalsatz",
        "Objektsatz",
        "Relativsatz",
        "Temporalsatz"
       ],
       "description": "Antwort:",
       "index": 0,
       "layout": "IPY_MODEL_b23a3cdca2474e0a9bf7efff6bd6bfa7",
       "style": "IPY_MODEL_0b006442a1114386a2f866f07850c0d9"
      }
     },
     "24bec32ebf84447d8ab1534c825b159b": {
      "model_module": "@jupyter-widgets/controls",
      "model_module_version": "1.2.0",
      "model_name": "VBoxModel",
      "state": {
       "children": [
        "IPY_MODEL_43341b2f2a49447daa07e53d8e8ea27c",
        "IPY_MODEL_72cb41ac68cb4046b1bbb0e8bd1e0628",
        "IPY_MODEL_2473682d6d434e8d9003ccd8b8f8bb76",
        "IPY_MODEL_927d5ff609dd4d30b615191c230358be"
       ],
       "layout": "IPY_MODEL_8107d59922654368af8413be2dcbce49"
      }
     },
     "251f9d81f33a4c46b4217f7e1f3ea596": {
      "model_module": "@jupyter-widgets/base",
      "model_module_version": "1.0.0",
      "model_name": "LayoutModel",
      "state": {
       "justify_content": "center"
      }
     },
     "25209a9f6e4446d9bda0ce6b2a8fb2e7": {
      "model_module": "@jupyter-widgets/base",
      "model_module_version": "1.0.0",
      "model_name": "LayoutModel",
      "state": {}
     },
     "2552761a88ce4384aed3c6770bf16d65": {
      "model_module": "@jupyter-widgets/base",
      "model_module_version": "1.0.0",
      "model_name": "LayoutModel",
      "state": {
       "width": "250px"
      }
     },
     "257a2dab211044869d1e30ec0efe7e58": {
      "model_module": "@jupyter-widgets/controls",
      "model_module_version": "1.2.0",
      "model_name": "ButtonStyleModel",
      "state": {}
     },
     "25ebe3721b134d72a13be031024691b5": {
      "model_module": "@jupyter-widgets/controls",
      "model_module_version": "1.2.0",
      "model_name": "ButtonStyleModel",
      "state": {}
     },
     "25fd7e8ee4b94a22bb05ccea1012bf76": {
      "model_module": "@jupyter-widgets/controls",
      "model_module_version": "1.2.0",
      "model_name": "CheckboxModel",
      "state": {
       "description": "kleine",
       "disabled": false,
       "layout": "IPY_MODEL_e3f0e218f27a410c95248ede6bde22bd",
       "style": "IPY_MODEL_fb80ef57fbe5460f9927038580368a00",
       "value": false
      }
     },
     "260cd2dce5d2495597b136c70d7bd442": {
      "model_module": "@jupyter-widgets/base",
      "model_module_version": "1.0.0",
      "model_name": "LayoutModel",
      "state": {
       "justify_content": "center"
      }
     },
     "2612e6fae15c42ac9d642460690d5c07": {
      "model_module": "@jupyter-widgets/controls",
      "model_module_version": "1.2.0",
      "model_name": "ButtonModel",
      "state": {
       "description": "Satz 2",
       "layout": "IPY_MODEL_efaedfa64db547268be169f0a05f6757",
       "style": "IPY_MODEL_da5fa67c50aa4248a135cc24869eb029"
      }
     },
     "2653ab933a53470da6d3d5ba94da16a7": {
      "model_module": "@jupyter-widgets/base",
      "model_module_version": "1.0.0",
      "model_name": "LayoutModel",
      "state": {
       "width": "600px"
      }
     },
     "2674a892198d4f4a88d4c49ee1fc2f8d": {
      "model_module": "@jupyter-widgets/controls",
      "model_module_version": "1.2.0",
      "model_name": "DescriptionStyleModel",
      "state": {
       "description_width": "initial"
      }
     },
     "269e8571ecb44f9ea6ed2fde23526277": {
      "model_module": "@jupyter-widgets/controls",
      "model_module_version": "1.2.0",
      "model_name": "DescriptionStyleModel",
      "state": {
       "description_width": ""
      }
     },
     "26a70a9a5e7d41d18001bad1dd1e4b9d": {
      "model_module": "@jupyter-widgets/controls",
      "model_module_version": "1.2.0",
      "model_name": "DescriptionStyleModel",
      "state": {
       "description_width": "initial"
      }
     },
     "26bf0d4a846341439aa8934c1cc98d92": {
      "model_module": "@jupyter-widgets/controls",
      "model_module_version": "1.2.0",
      "model_name": "HTMLModel",
      "state": {
       "layout": "IPY_MODEL_77f49666bade42d5a77d4857002b95d1",
       "style": "IPY_MODEL_b4dee0e012b444f99e643dac48f7527c",
       "value": "<i>Markieren Sie <ins>alle</ins> passenden Antworten: </i>"
      }
     },
     "2710b34c1a0340b39da22e472a20c78e": {
      "model_module": "@jupyter-widgets/base",
      "model_module_version": "1.0.0",
      "model_name": "LayoutModel",
      "state": {
       "justify_content": "center"
      }
     },
     "272873944fe64976baf5235f254f69c6": {
      "model_module": "@jupyter-widgets/controls",
      "model_module_version": "1.2.0",
      "model_name": "DescriptionStyleModel",
      "state": {
       "description_width": "initial"
      }
     },
     "272ea80983844535a9963a49ccca4cab": {
      "model_module": "@jupyter-widgets/base",
      "model_module_version": "1.0.0",
      "model_name": "LayoutModel",
      "state": {
       "width": "600px"
      }
     },
     "273caf69695441acbb5fe4eb86ae890f": {
      "model_module": "@jupyter-widgets/controls",
      "model_module_version": "1.2.0",
      "model_name": "DescriptionStyleModel",
      "state": {
       "description_width": ""
      }
     },
     "27c0992f83f04f56b79b7ad24b9befb0": {
      "model_module": "@jupyter-widgets/base",
      "model_module_version": "1.0.0",
      "model_name": "LayoutModel",
      "state": {
       "width": "500px"
      }
     },
     "27d6b80ce32943a99d68ef877afa38e1": {
      "model_module": "@jupyter-widgets/controls",
      "model_module_version": "1.2.0",
      "model_name": "VBoxModel",
      "state": {
       "children": [
        "IPY_MODEL_82520b1ecb9f48f594e23ef134b063c9",
        "IPY_MODEL_49424efdf7c54ccea20b49185a8877a4",
        "IPY_MODEL_8083f5b19aba48f59498910c78b41910",
        "IPY_MODEL_81266278a3f546f9a58282ce99ca5ca2"
       ],
       "layout": "IPY_MODEL_57c144a7c314403f9603aa6c79fb5012"
      }
     },
     "27ebed119e7645278001dded2e9090f2": {
      "model_module": "@jupyter-widgets/base",
      "model_module_version": "1.0.0",
      "model_name": "LayoutModel",
      "state": {
       "width": "600px"
      }
     },
     "28c6a6366f404ad8898da6410e7d4228": {
      "model_module": "@jupyter-widgets/base",
      "model_module_version": "1.0.0",
      "model_name": "LayoutModel",
      "state": {
       "justify_content": "center"
      }
     },
     "28e2e32a7c7d464bab98d3a3d7a1eaa5": {
      "model_module": "@jupyter-widgets/controls",
      "model_module_version": "1.2.0",
      "model_name": "ButtonStyleModel",
      "state": {
       "button_color": "lightgreen"
      }
     },
     "2930400dcd7741dc9b4127c8239debd6": {
      "model_module": "@jupyter-widgets/controls",
      "model_module_version": "1.2.0",
      "model_name": "DescriptionStyleModel",
      "state": {
       "description_width": ""
      }
     },
     "293bd84a70a945ac80813ac3459608f6": {
      "model_module": "@jupyter-widgets/controls",
      "model_module_version": "1.2.0",
      "model_name": "CheckboxModel",
      "state": {
       "description": "Lied gesungen",
       "disabled": false,
       "layout": "IPY_MODEL_98906dfc5a194a28b85d4359e9c717b9",
       "style": "IPY_MODEL_057d65dd3f394b879dd37df0c85addbc",
       "value": false
      }
     },
     "2976bcdba11d47e1a9caef97edb1c8d8": {
      "model_module": "@jupyter-widgets/base",
      "model_module_version": "1.0.0",
      "model_name": "LayoutModel",
      "state": {
       "width": "250px"
      }
     },
     "29b5bfbb2b07426a987e346a5bb9ce77": {
      "model_module": "@jupyter-widgets/controls",
      "model_module_version": "1.2.0",
      "model_name": "HTMLModel",
      "state": {
       "layout": "IPY_MODEL_1cc8e3d96cd14a46977aebd9f0a8cd76",
       "style": "IPY_MODEL_89c9008cd45c4316bbee23495f63f150",
       "value": "<i>Wählen Sie die <ins>eine</ins> korrekte Antwort aus: </i>"
      }
     },
     "2a1aa19b14484529868d0f337e9b41bd": {
      "model_module": "@jupyter-widgets/controls",
      "model_module_version": "1.2.0",
      "model_name": "DescriptionStyleModel",
      "state": {
       "description_width": ""
      }
     },
     "2a899cbbe4bf461ea7f83e81e68c8dad": {
      "model_module": "@jupyter-widgets/controls",
      "model_module_version": "1.2.0",
      "model_name": "VBoxModel",
      "state": {
       "children": [
        "IPY_MODEL_e1c36c9028fe4cc0bfe10b82082e4962",
        "IPY_MODEL_3bf2966b32a94f1ab63fc7b787123a4d",
        "IPY_MODEL_74c104a449d049fc912cd78790a81284",
        "IPY_MODEL_90f680ed6e1c43b692e8c6a3fb3a4229"
       ],
       "layout": "IPY_MODEL_a09d6f72440f4291a76884c054503f81"
      }
     },
     "2a925c69593344c0a4fbb9c69a448176": {
      "model_module": "@jupyter-widgets/base",
      "model_module_version": "1.0.0",
      "model_name": "LayoutModel",
      "state": {
       "width": "600px"
      }
     },
     "2aa5f64d26f94242b2297c7090c067b9": {
      "model_module": "@jupyter-widgets/base",
      "model_module_version": "1.0.0",
      "model_name": "LayoutModel",
      "state": {
       "width": "600px"
      }
     },
     "2aa71d2252a64ed1aac4294ad23498c4": {
      "model_module": "@jupyter-widgets/base",
      "model_module_version": "1.0.0",
      "model_name": "LayoutModel",
      "state": {
       "width": "600px"
      }
     },
     "2afa303bbc2d40739368ade4564ceb2a": {
      "model_module": "@jupyter-widgets/controls",
      "model_module_version": "1.2.0",
      "model_name": "ButtonModel",
      "state": {
       "description": "Aufforderungssatz",
       "layout": "IPY_MODEL_2b8d6db793724d5d91914d3c87eb02af",
       "style": "IPY_MODEL_740096d2138245138b427df5931b9dad"
      }
     },
     "2b0e499221f44578b97e22026402f933": {
      "model_module": "@jupyter-widgets/controls",
      "model_module_version": "1.2.0",
      "model_name": "DescriptionStyleModel",
      "state": {
       "description_width": "initial"
      }
     },
     "2b1280e08b704ee385905371b5be9dca": {
      "model_module": "@jupyter-widgets/controls",
      "model_module_version": "1.2.0",
      "model_name": "ButtonStyleModel",
      "state": {
       "button_color": "lightgreen"
      }
     },
     "2b2460b1b5b047648b2798c2256a3260": {
      "model_module": "@jupyter-widgets/base",
      "model_module_version": "1.0.0",
      "model_name": "LayoutModel",
      "state": {
       "width": "600px"
      }
     },
     "2b77fc7a5ed34a6fb9e352836a32dd6d": {
      "model_module": "@jupyter-widgets/controls",
      "model_module_version": "1.2.0",
      "model_name": "DescriptionStyleModel",
      "state": {
       "description_width": ""
      }
     },
     "2b8d6db793724d5d91914d3c87eb02af": {
      "model_module": "@jupyter-widgets/base",
      "model_module_version": "1.0.0",
      "model_name": "LayoutModel",
      "state": {
       "width": "250px"
      }
     },
     "2c35c7a7b0064f0d9951a2245d9a2923": {
      "model_module": "@jupyter-widgets/controls",
      "model_module_version": "1.2.0",
      "model_name": "HTMLModel",
      "state": {
       "layout": "IPY_MODEL_c74c6cf7b90046889073460a1d5f187f",
       "style": "IPY_MODEL_11099f744a4943e6b42039f16390123b",
       "value": "<h4 style=\"font-size:14px;\">Wie läßt sich dieser Satztyp klassifizieren?</h4>"
      }
     },
     "2c43c5319b2f4c4d8d2e48417ec81209": {
      "model_module": "@jupyter-widgets/controls",
      "model_module_version": "1.2.0",
      "model_name": "DescriptionStyleModel",
      "state": {
       "description_width": ""
      }
     },
     "2c5a5d79b8bd4220a7bc9f4582d28fe8": {
      "model_module": "@jupyter-widgets/controls",
      "model_module_version": "1.2.0",
      "model_name": "VBoxModel",
      "state": {
       "children": [
        "IPY_MODEL_6c9b5b0796dd4c2480fd0831ac69e130",
        "IPY_MODEL_80c7ca0088cf4f05b956ee693f8603f9",
        "IPY_MODEL_4a2ec80d122e40a0b180a9e61196fdfa",
        "IPY_MODEL_f799ba60701c454ba67e18264d2b2f8e"
       ],
       "layout": "IPY_MODEL_a485e5479d7f45d59ae8ac26a27490d2"
      }
     },
     "2c932c61748e4535a6ae8c40cb9bec73": {
      "model_module": "@jupyter-widgets/controls",
      "model_module_version": "1.2.0",
      "model_name": "VBoxModel",
      "state": {
       "children": [
        "IPY_MODEL_41cb19bca721480fbff741ec47dd4f64",
        "IPY_MODEL_76989c9eafd44832819fe08120d99bba",
        "IPY_MODEL_c1f3ae55f3f7420698ddf6af960db34c",
        "IPY_MODEL_984217c952734aa79abb649907f9d89f"
       ],
       "layout": "IPY_MODEL_88d00e325a484ba1af13f7cf7e071cf6"
      }
     },
     "2cbc4b2e867244d799f2b8a91a1f9f29": {
      "model_module": "@jupyter-widgets/base",
      "model_module_version": "1.0.0",
      "model_name": "LayoutModel",
      "state": {
       "width": "250px"
      }
     },
     "2cecfcb1dbd34b4092d8df5bd3ffc4a7": {
      "model_module": "@jupyter-widgets/base",
      "model_module_version": "1.0.0",
      "model_name": "LayoutModel",
      "state": {
       "width": "250px"
      }
     },
     "2d3ca9561a694f2f8eebc29bf10bc7c0": {
      "model_module": "@jupyter-widgets/controls",
      "model_module_version": "1.2.0",
      "model_name": "HTMLModel",
      "state": {
       "layout": "IPY_MODEL_1496345c07ad495aa8f7229c763cb8a5",
       "style": "IPY_MODEL_7db137da57a0411594d8c4375ac887fe",
       "value": "<i>Markieren Sie <ins>alle</ins> passenden Antworten: </i>"
      }
     },
     "2d77730b6d534a0eb5f1104eff9f0a26": {
      "model_module": "@jupyter-widgets/base",
      "model_module_version": "1.0.0",
      "model_name": "LayoutModel",
      "state": {
       "width": "250px"
      }
     },
     "2d7f1d4a8ff941ed89c876fad81bdaf2": {
      "model_module": "@jupyter-widgets/controls",
      "model_module_version": "1.2.0",
      "model_name": "ButtonStyleModel",
      "state": {}
     },
     "2e6a929f422a4e1d9861dc5e71d3d1a1": {
      "model_module": "@jupyter-widgets/base",
      "model_module_version": "1.0.0",
      "model_name": "LayoutModel",
      "state": {
       "width": "600px"
      }
     },
     "2e6d0f4aef654a6a8dae25e0a8321327": {
      "model_module": "@jupyter-widgets/base",
      "model_module_version": "1.0.0",
      "model_name": "LayoutModel",
      "state": {}
     },
     "2e81bb187e7849b49d4e37188623712a": {
      "model_module": "@jupyter-widgets/controls",
      "model_module_version": "1.2.0",
      "model_name": "ButtonModel",
      "state": {
       "description": "Korrekt?",
       "layout": "IPY_MODEL_6c7c55cec1bd4b68817adeb565e9d198",
       "style": "IPY_MODEL_e5e29837dc5f4d69a5b953f1f7e5e510"
      }
     },
     "2e92e4c7b92f432e89b80d511989de4d": {
      "model_module": "@jupyter-widgets/controls",
      "model_module_version": "1.2.0",
      "model_name": "DescriptionStyleModel",
      "state": {
       "description_width": ""
      }
     },
     "2e932b6cd5184f948208917a3a03871b": {
      "model_module": "@jupyter-widgets/base",
      "model_module_version": "1.0.0",
      "model_name": "LayoutModel",
      "state": {
       "width": "250px"
      }
     },
     "2efa0afa245844eab2925d144bc4fe0d": {
      "model_module": "@jupyter-widgets/controls",
      "model_module_version": "1.2.0",
      "model_name": "HBoxModel",
      "state": {
       "children": [
        "IPY_MODEL_b72d7866df7147679e2bebfcec7ecc8a",
        "IPY_MODEL_4c174360c0c54f30b703466d21d6451e"
       ],
       "layout": "IPY_MODEL_09335d3fb3bf4eb4923370a371327bf8"
      }
     },
     "2efe11f08475452e8abfa63364adc379": {
      "model_module": "@jupyter-widgets/controls",
      "model_module_version": "1.2.0",
      "model_name": "DescriptionStyleModel",
      "state": {
       "description_width": ""
      }
     },
     "2f0ac86b44d645d09068a01c1b311b81": {
      "model_module": "@jupyter-widgets/controls",
      "model_module_version": "1.2.0",
      "model_name": "DescriptionStyleModel",
      "state": {
       "description_width": "initial"
      }
     },
     "2f117127db524794bf9a3cffef574922": {
      "model_module": "@jupyter-widgets/controls",
      "model_module_version": "1.2.0",
      "model_name": "DescriptionStyleModel",
      "state": {
       "description_width": "initial"
      }
     },
     "2f1ca9f38d584dadac9842110bf1f403": {
      "model_module": "@jupyter-widgets/controls",
      "model_module_version": "1.2.0",
      "model_name": "DescriptionStyleModel",
      "state": {
       "description_width": "initial"
      }
     },
     "2f2ba4e1efe34a01b64db4c2a916f49c": {
      "model_module": "@jupyter-widgets/base",
      "model_module_version": "1.0.0",
      "model_name": "LayoutModel",
      "state": {}
     },
     "2f75248f081d4a1c9bfa33ee8af8a568": {
      "model_module": "@jupyter-widgets/controls",
      "model_module_version": "1.2.0",
      "model_name": "HTMLModel",
      "state": {
       "layout": "IPY_MODEL_a71431e93ddf418198e7356eb48a0689",
       "style": "IPY_MODEL_269e8571ecb44f9ea6ed2fde23526277",
       "value": "<h4 style=\"font-size:14px;\">Wenn der Nebensatz durch eine Konjunktion eingeleitet wird, wo steht diese im Stellungsfeldermodell?</h4>"
      }
     },
     "2f9fe36bc1924b6b83b5ebbdbf352a1d": {
      "model_module": "@jupyter-widgets/base",
      "model_module_version": "1.0.0",
      "model_name": "LayoutModel",
      "state": {
       "justify_content": "center"
      }
     },
     "2fb92d1a4ca342f4901ad029e677147a": {
      "model_module": "@jupyter-widgets/controls",
      "model_module_version": "1.2.0",
      "model_name": "DescriptionStyleModel",
      "state": {
       "description_width": "initial"
      }
     },
     "2fd4fd42df5c4c288fb6eb91f99b7bfd": {
      "model_module": "@jupyter-widgets/base",
      "model_module_version": "1.0.0",
      "model_name": "LayoutModel",
      "state": {}
     },
     "2fdc3a337147429bb3e80d817547bc6c": {
      "model_module": "@jupyter-widgets/base",
      "model_module_version": "1.0.0",
      "model_name": "LayoutModel",
      "state": {
       "width": "500px"
      }
     },
     "2fec24b3dbe54f52a7dbaf7fd32a6509": {
      "model_module": "@jupyter-widgets/base",
      "model_module_version": "1.0.0",
      "model_name": "LayoutModel",
      "state": {
       "width": "600px"
      }
     },
     "300d8aaea9bb4e29832650b0e2a75ae4": {
      "model_module": "@jupyter-widgets/base",
      "model_module_version": "1.0.0",
      "model_name": "LayoutModel",
      "state": {}
     },
     "3099059cbcba4aaea7c6e76e3301e7ab": {
      "model_module": "@jupyter-widgets/controls",
      "model_module_version": "1.2.0",
      "model_name": "DropdownModel",
      "state": {
       "_options_labels": [
        "Kausalsatz",
        "Keine der Alternativen",
        "Lokalsatz",
        "Modalsatz",
        "Objektsatz",
        "Relativsatz",
        "Subjektsatz",
        "Temporalsatz"
       ],
       "description": "Antwort:",
       "index": 0,
       "layout": "IPY_MODEL_21b9f4891cd1411d81c3a9cddaff69a2",
       "style": "IPY_MODEL_67e18f07577d4867a38952968ddc3d3e"
      }
     },
     "30c0702bedc54437a62984825cf5d8d6": {
      "model_module": "@jupyter-widgets/base",
      "model_module_version": "1.0.0",
      "model_name": "LayoutModel",
      "state": {}
     },
     "3100b75ff4294ec8b097592c6381d2f9": {
      "model_module": "@jupyter-widgets/controls",
      "model_module_version": "1.2.0",
      "model_name": "DescriptionStyleModel",
      "state": {
       "description_width": "initial"
      }
     },
     "3102359810e34f06a15a1d4ab1e2d072": {
      "model_module": "@jupyter-widgets/controls",
      "model_module_version": "1.2.0",
      "model_name": "ButtonStyleModel",
      "state": {}
     },
     "31600d1608a546068b64a6432f51eb3a": {
      "model_module": "@jupyter-widgets/controls",
      "model_module_version": "1.2.0",
      "model_name": "DescriptionStyleModel",
      "state": {
       "description_width": ""
      }
     },
     "31a2721f60404cb8b8406662f8e1826e": {
      "model_module": "@jupyter-widgets/controls",
      "model_module_version": "1.2.0",
      "model_name": "CheckboxModel",
      "state": {
       "description": "hat",
       "disabled": false,
       "layout": "IPY_MODEL_5ada23be431e477fa148a30351323947",
       "style": "IPY_MODEL_74772bde9d7447c1abde868d38f3b077",
       "value": false
      }
     },
     "31be1f4448184fa4a101f863e84916d3": {
      "model_module": "@jupyter-widgets/controls",
      "model_module_version": "1.2.0",
      "model_name": "HTMLModel",
      "state": {
       "layout": "IPY_MODEL_1524d13daeb149758d737367e52a8617",
       "style": "IPY_MODEL_9063ba0b47464a31ae8c2b063c00bf8b",
       "value": "<h4 style=\"font-size:14px;\">Von welchem Satzteil wird diese Position gefüllt, wenn die Konjunktion fehlt?</h4>"
      }
     },
     "31e0455c810e4eeeaa93a58e6310e1ff": {
      "model_module": "@jupyter-widgets/controls",
      "model_module_version": "1.2.0",
      "model_name": "ButtonStyleModel",
      "state": {}
     },
     "320fa2ec65ae482ba98a874d5ed2ac47": {
      "model_module": "@jupyter-widgets/controls",
      "model_module_version": "1.2.0",
      "model_name": "VBoxModel",
      "state": {
       "children": [
        "IPY_MODEL_ada9bb36876640c7855f2bb54c0b0c4b",
        "IPY_MODEL_9dba201c19534c7ca2dbfb52e2195b2f",
        "IPY_MODEL_9395bc3b713244db9aac3866de6b1598",
        "IPY_MODEL_47b0ff5c7e924279ba109e0db46884ee"
       ],
       "layout": "IPY_MODEL_cd24a5896cc348df8cefa78fc034503e"
      }
     },
     "32d191314e884442a27c012226c6bef5": {
      "model_module": "@jupyter-widgets/controls",
      "model_module_version": "1.2.0",
      "model_name": "CheckboxModel",
      "state": {
       "description": "Nachfeld",
       "disabled": false,
       "layout": "IPY_MODEL_f4bf49c8fcc441908bae2f1c757d8c7b",
       "style": "IPY_MODEL_2b0e499221f44578b97e22026402f933",
       "value": false
      }
     },
     "3345d3995af84ad68172f5348428df73": {
      "model_module": "@jupyter-widgets/controls",
      "model_module_version": "1.2.0",
      "model_name": "VBoxModel",
      "state": {
       "children": [
        "IPY_MODEL_3e378e8a5ab740ab937529e711326359",
        "IPY_MODEL_8b3d841865674bf8803359f476a7a961",
        "IPY_MODEL_1ca9c656402649608f832d9e84a677a2",
        "IPY_MODEL_2039e8ef84704a8dbcd20d22f0d50e87"
       ],
       "layout": "IPY_MODEL_7eb2e92737af4eeaaeaec1428586a7b8"
      }
     },
     "34001b32d63d495ab78596b8bf0a58a6": {
      "model_module": "@jupyter-widgets/base",
      "model_module_version": "1.0.0",
      "model_name": "LayoutModel",
      "state": {
       "width": "600px"
      }
     },
     "348a81ea74364dc19a5d766dedebc9f0": {
      "model_module": "@jupyter-widgets/base",
      "model_module_version": "1.0.0",
      "model_name": "LayoutModel",
      "state": {
       "width": "600px"
      }
     },
     "34d2ae763f70467c944f804b503c1910": {
      "model_module": "@jupyter-widgets/base",
      "model_module_version": "1.0.0",
      "model_name": "LayoutModel",
      "state": {
       "width": "500px"
      }
     },
     "34db72dfbb4a4a6bbb01d6c00504f963": {
      "model_module": "@jupyter-widgets/controls",
      "model_module_version": "1.2.0",
      "model_name": "DescriptionStyleModel",
      "state": {
       "description_width": "initial"
      }
     },
     "355874b0f4fc44d6a2c2bad6b8d039c9": {
      "model_module": "@jupyter-widgets/controls",
      "model_module_version": "1.2.0",
      "model_name": "VBoxModel",
      "state": {
       "children": [
        "IPY_MODEL_fccaec06d09246be83c14d72d75c2a2f",
        "IPY_MODEL_8e1a3c8a6bdc44fca42d734e388b53e0",
        "IPY_MODEL_172a5ca5a14c4b9b8d5765090f52db79"
       ],
       "layout": "IPY_MODEL_6c462b5acbc142b8a93d0ac157b1ab0e"
      }
     },
     "3558bb122036499990432d9fdde7655c": {
      "model_module": "@jupyter-widgets/controls",
      "model_module_version": "1.2.0",
      "model_name": "DescriptionStyleModel",
      "state": {
       "description_width": ""
      }
     },
     "355ee5718bc642aab302444dfeb10cb3": {
      "model_module": "@jupyter-widgets/controls",
      "model_module_version": "1.2.0",
      "model_name": "HTMLModel",
      "state": {
       "layout": "IPY_MODEL_8766466e76e04055938e432e489c2466",
       "style": "IPY_MODEL_841e3472cf494a0d86fbaaf98830d0b8",
       "value": "<h4 style=\"font-size:14px;\">Welche Aussage über das Nachfeld des Hauptsatzes ist korrekt?</h4>"
      }
     },
     "35894842c5354013ad4f15e56568d0cc": {
      "model_module": "@jupyter-widgets/controls",
      "model_module_version": "1.2.0",
      "model_name": "ButtonModel",
      "state": {
       "description": "Fragesatz",
       "layout": "IPY_MODEL_fa84221b4960478c9357feb6b4d7ae92",
       "style": "IPY_MODEL_019021e1fac543c2b962766c72641ab7"
      }
     },
     "359aba1573ed4206ba57760cb6b52414": {
      "model_module": "@jupyter-widgets/controls",
      "model_module_version": "1.2.0",
      "model_name": "DescriptionStyleModel",
      "state": {
       "description_width": ""
      }
     },
     "35db9fe819f34c25a4acd91be2a14427": {
      "model_module": "@jupyter-widgets/controls",
      "model_module_version": "1.2.0",
      "model_name": "DescriptionStyleModel",
      "state": {
       "description_width": ""
      }
     },
     "371313d9984d4caabc736150c9f3a7ca": {
      "model_module": "@jupyter-widgets/base",
      "model_module_version": "1.0.0",
      "model_name": "LayoutModel",
      "state": {}
     },
     "37241a7bb7cb41d88e48e7687b77475a": {
      "model_module": "@jupyter-widgets/base",
      "model_module_version": "1.0.0",
      "model_name": "LayoutModel",
      "state": {}
     },
     "372566ea25af409e90e883b088e9a5ea": {
      "model_module": "@jupyter-widgets/controls",
      "model_module_version": "1.2.0",
      "model_name": "HTMLModel",
      "state": {
       "layout": "IPY_MODEL_bb770317c00043fcba6e31ff74e3fc03",
       "style": "IPY_MODEL_7158911f5c5e4c3295e571d27268d8d0",
       "value": "<h4 style=\"font-size:14px;\">Identifizieren Sie das Vorfeld des ersten und das Vorfeld des zweiten Satzes.</h4>"
      }
     },
     "37270213f6ae451aaf67f766098391cb": {
      "model_module": "@jupyter-widgets/controls",
      "model_module_version": "1.2.0",
      "model_name": "CheckboxModel",
      "state": {
       "description": "Peter",
       "disabled": false,
       "layout": "IPY_MODEL_dd527236121b4302b3a6cf99418aecf9",
       "style": "IPY_MODEL_0d81eea747b240219555e1bac330a55e",
       "value": false
      }
     },
     "3753a4d7df6a4b2987456a51901a14b5": {
      "model_module": "@jupyter-widgets/controls",
      "model_module_version": "1.2.0",
      "model_name": "DropdownModel",
      "state": {
       "_options_labels": [
        "Adverbialsatz",
        "Attributsatz",
        "Komplementsatz",
        "Matrixsatz"
       ],
       "description": "Antwort:",
       "index": 0,
       "layout": "IPY_MODEL_9bb704b297ca43e8b3ec79d11b355e13",
       "style": "IPY_MODEL_273caf69695441acbb5fe4eb86ae890f"
      }
     },
     "37bfe66c13784bee8dc2a73c9a560d27": {
      "model_module": "@jupyter-widgets/controls",
      "model_module_version": "1.2.0",
      "model_name": "CheckboxModel",
      "state": {
       "description": "steigende Intonation",
       "disabled": false,
       "layout": "IPY_MODEL_0aa9e3df38144f699ff63ba5fb0df1d5",
       "style": "IPY_MODEL_ebbc7674916541f8b5402a923f5ae4e1",
       "value": false
      }
     },
     "37e17ea7590945be85310ac8df69af00": {
      "model_module": "@jupyter-widgets/controls",
      "model_module_version": "1.2.0",
      "model_name": "CheckboxModel",
      "state": {
       "description": "Buch",
       "disabled": false,
       "layout": "IPY_MODEL_6e99cf1b6eea45679af83b584d0955cd",
       "style": "IPY_MODEL_81888c3a79414e6cb8838e56667803d3",
       "value": false
      }
     },
     "37fac5ef041940dea8809e55cc87b929": {
      "model_module": "@jupyter-widgets/base",
      "model_module_version": "1.0.0",
      "model_name": "LayoutModel",
      "state": {
       "width": "600px"
      }
     },
     "385a4c8301c74a4484485e4cc6e3a5ed": {
      "model_module": "@jupyter-widgets/base",
      "model_module_version": "1.0.0",
      "model_name": "LayoutModel",
      "state": {
       "width": "250px"
      }
     },
     "386bf3f275cc4dc0b796bdd70079cad5": {
      "model_module": "@jupyter-widgets/controls",
      "model_module_version": "1.2.0",
      "model_name": "CheckboxModel",
      "state": {
       "description": "Buch",
       "disabled": false,
       "layout": "IPY_MODEL_b2b7fe5cd7b34fb4ae6ebc1acbfc34f6",
       "style": "IPY_MODEL_c48b58e89838478581a6ed5468f58153",
       "value": false
      }
     },
     "387f79d527884b458d67fc0603ab8814": {
      "model_module": "@jupyter-widgets/controls",
      "model_module_version": "1.2.0",
      "model_name": "DescriptionStyleModel",
      "state": {
       "description_width": ""
      }
     },
     "387fed0f0b9a4f79bd111f7e8c946cb3": {
      "model_module": "@jupyter-widgets/controls",
      "model_module_version": "1.2.0",
      "model_name": "ButtonStyleModel",
      "state": {}
     },
     "38bfb1e022014cb0be8ab270fce94310": {
      "model_module": "@jupyter-widgets/base",
      "model_module_version": "1.0.0",
      "model_name": "LayoutModel",
      "state": {
       "justify_content": "center"
      }
     },
     "393c9cb3153445bbbebd61b19cbc426a": {
      "model_module": "@jupyter-widgets/controls",
      "model_module_version": "1.2.0",
      "model_name": "CheckboxModel",
      "state": {
       "description": "Der",
       "disabled": false,
       "layout": "IPY_MODEL_5d6e5edbdf5446e0809cd045025c08b0",
       "style": "IPY_MODEL_9652e774881743a09dc574cdfd51de0f",
       "value": true
      }
     },
     "399c1a4defce46bb972951a84711f027": {
      "model_module": "@jupyter-widgets/base",
      "model_module_version": "1.0.0",
      "model_name": "LayoutModel",
      "state": {
       "width": "250px"
      }
     },
     "39a215132e9943eca218b96597fa39d0": {
      "model_module": "@jupyter-widgets/base",
      "model_module_version": "1.0.0",
      "model_name": "LayoutModel",
      "state": {}
     },
     "39aff271a8914ce985f7e1f7de50712f": {
      "model_module": "@jupyter-widgets/base",
      "model_module_version": "1.0.0",
      "model_name": "LayoutModel",
      "state": {
       "width": "250px"
      }
     },
     "39c82407fd064a4e965e60d470c1672b": {
      "model_module": "@jupyter-widgets/controls",
      "model_module_version": "1.2.0",
      "model_name": "DescriptionStyleModel",
      "state": {
       "description_width": "initial"
      }
     },
     "3a0882a0531f4303b244781f016a29fd": {
      "model_module": "@jupyter-widgets/controls",
      "model_module_version": "1.2.0",
      "model_name": "DescriptionStyleModel",
      "state": {
       "description_width": ""
      }
     },
     "3a13fcf89fbd416c99f73fbb9b4bfd69": {
      "model_module": "@jupyter-widgets/controls",
      "model_module_version": "1.2.0",
      "model_name": "DescriptionStyleModel",
      "state": {
       "description_width": ""
      }
     },
     "3a18ca21ab7a4ef49a133cdaae2b0ca9": {
      "model_module": "@jupyter-widgets/base",
      "model_module_version": "1.0.0",
      "model_name": "LayoutModel",
      "state": {}
     },
     "3a4a28e45982487f91fd48bdca37b8ff": {
      "model_module": "@jupyter-widgets/controls",
      "model_module_version": "1.2.0",
      "model_name": "CheckboxModel",
      "state": {
       "description": "heute",
       "disabled": false,
       "layout": "IPY_MODEL_bf95072ecfca45c8871d561d6c5b93d1",
       "style": "IPY_MODEL_970390dbb48649058ee5571e1d985186",
       "value": false
      }
     },
     "3a6c745714974cc286fd26f19e0d3967": {
      "model_module": "@jupyter-widgets/base",
      "model_module_version": "1.0.0",
      "model_name": "LayoutModel",
      "state": {
       "justify_content": "center"
      }
     },
     "3a6f07949fdc43a492646dc9e882e413": {
      "model_module": "@jupyter-widgets/controls",
      "model_module_version": "1.2.0",
      "model_name": "DescriptionStyleModel",
      "state": {
       "description_width": "initial"
      }
     },
     "3a761ae2c37042b19dec3af8c8028321": {
      "model_module": "@jupyter-widgets/base",
      "model_module_version": "1.0.0",
      "model_name": "LayoutModel",
      "state": {
       "justify_content": "center"
      }
     },
     "3a9ad76ea5174f19be3744a93e0cb548": {
      "model_module": "@jupyter-widgets/controls",
      "model_module_version": "1.2.0",
      "model_name": "DescriptionStyleModel",
      "state": {
       "description_width": "initial"
      }
     },
     "3ac420d93ce84ce39be67ec4c660270b": {
      "model_module": "@jupyter-widgets/controls",
      "model_module_version": "1.2.0",
      "model_name": "HTMLModel",
      "state": {
       "layout": "IPY_MODEL_23f7dbd35e2a4574ba1da373347c6fe1",
       "style": "IPY_MODEL_08ec4d2232454402a6b398ef3ad12dad",
       "value": "<i>Wählen Sie die <ins>eine</ins> korrekte Antwort aus: </i>"
      }
     },
     "3b1cb0d3495449c480f3189a5c12e880": {
      "model_module": "@jupyter-widgets/controls",
      "model_module_version": "1.2.0",
      "model_name": "HTMLModel",
      "state": {
       "layout": "IPY_MODEL_3dff5afa7ce749ca9be94859879ab982",
       "style": "IPY_MODEL_70d413542ca24414abaa937d679dc2ef",
       "value": "<h4 style=\"font-size:14px;\">Welche satzwertigen Funktionen können Infinitivkonstruktionen erfüllen?</h4>"
      }
     },
     "3b1f0cfc3a1e483b98d2ac79945f6547": {
      "model_module": "@jupyter-widgets/controls",
      "model_module_version": "1.2.0",
      "model_name": "VBoxModel",
      "state": {
       "children": [
        "IPY_MODEL_55f46c1372404e3db17b470045704964",
        "IPY_MODEL_fc8949bf904744dd91cef2b00b663409",
        "IPY_MODEL_cc516880151d40c09c04009114128b06",
        "IPY_MODEL_599f7540d3f349c490e32d8228786546"
       ],
       "layout": "IPY_MODEL_be44767243884638a02591d3a84cf668"
      }
     },
     "3b5d649e128d4b849a4f7e8f302bfc82": {
      "model_module": "@jupyter-widgets/base",
      "model_module_version": "1.0.0",
      "model_name": "LayoutModel",
      "state": {}
     },
     "3b61f0f5735b4faaac60c56833909f7b": {
      "model_module": "@jupyter-widgets/base",
      "model_module_version": "1.0.0",
      "model_name": "LayoutModel",
      "state": {
       "width": "250px"
      }
     },
     "3bf2966b32a94f1ab63fc7b787123a4d": {
      "model_module": "@jupyter-widgets/controls",
      "model_module_version": "1.2.0",
      "model_name": "HTMLModel",
      "state": {
       "layout": "IPY_MODEL_251f9d81f33a4c46b4217f7e1f3ea596",
       "style": "IPY_MODEL_edc5d81093f14d16ba57d9fbcebfb70c",
       "value": "<i>Markieren Sie <ins>alle</ins> passenden Antworten: </i>"
      }
     },
     "3c59dcb94bd7406388186d02c06161e4": {
      "model_module": "@jupyter-widgets/base",
      "model_module_version": "1.0.0",
      "model_name": "LayoutModel",
      "state": {
       "justify_content": "center"
      }
     },
     "3c75cfcc638045b3a3342f188834b547": {
      "model_module": "@jupyter-widgets/base",
      "model_module_version": "1.0.0",
      "model_name": "LayoutModel",
      "state": {
       "width": "600px"
      }
     },
     "3cd0e978b14440798685e7450d9305f8": {
      "model_module": "@jupyter-widgets/controls",
      "model_module_version": "1.2.0",
      "model_name": "CheckboxModel",
      "state": {
       "description": "linke Satzklammer",
       "disabled": false,
       "layout": "IPY_MODEL_59aeed9ca78f40d282ddd9764acab2a1",
       "style": "IPY_MODEL_cddfa67b8d27499b97fd94d28e169316",
       "value": true
      }
     },
     "3cec74d895bb48a9ae91a29c63942a43": {
      "model_module": "@jupyter-widgets/controls",
      "model_module_version": "1.2.0",
      "model_name": "ButtonModel",
      "state": {
       "description": "Korrekt?",
       "layout": "IPY_MODEL_c5f8949ce0104e46ac360f191d77ff63",
       "style": "IPY_MODEL_879ea412280c4b3bafd07823c945f6d6"
      }
     },
     "3cf05e2973d34741b4f22571442a2a33": {
      "model_module": "@jupyter-widgets/controls",
      "model_module_version": "1.2.0",
      "model_name": "CheckboxModel",
      "state": {
       "description": "das",
       "disabled": false,
       "layout": "IPY_MODEL_0a0faee69e5c43018766f70e52bcbf5b",
       "style": "IPY_MODEL_8b956bab772a49038c71bd46f397db0c",
       "value": false
      }
     },
     "3d0415311d0644b6a49e07b7b1322cfb": {
      "model_module": "@jupyter-widgets/controls",
      "model_module_version": "1.2.0",
      "model_name": "ButtonModel",
      "state": {
       "description": "Korrekt?",
       "layout": "IPY_MODEL_f7c039fb4e264959a0524843f9cbda3f",
       "style": "IPY_MODEL_7f5d8480008f4fc8bae514fd1e758e7f"
      }
     },
     "3d0540a78a3f4fbe84f7fccd3b6e8827": {
      "model_module": "@jupyter-widgets/controls",
      "model_module_version": "1.2.0",
      "model_name": "DescriptionStyleModel",
      "state": {
       "description_width": "initial"
      }
     },
     "3d0d82c47d25424f86674e071ea8fefd": {
      "model_module": "@jupyter-widgets/controls",
      "model_module_version": "1.2.0",
      "model_name": "DescriptionStyleModel",
      "state": {
       "description_width": ""
      }
     },
     "3d82ea0cbd9b49f3bef29f7fd0755d83": {
      "model_module": "@jupyter-widgets/controls",
      "model_module_version": "1.2.0",
      "model_name": "DescriptionStyleModel",
      "state": {
       "description_width": "initial"
      }
     },
     "3db5a465b27d4906b4fa0f5c6c62dede": {
      "model_module": "@jupyter-widgets/base",
      "model_module_version": "1.0.0",
      "model_name": "LayoutModel",
      "state": {}
     },
     "3de4eccf4f8d4f7f82e9c63d6ba645a3": {
      "model_module": "@jupyter-widgets/controls",
      "model_module_version": "1.2.0",
      "model_name": "ButtonModel",
      "state": {
       "description": "Aufforderungssatz",
       "layout": "IPY_MODEL_ea6f1b694277486d800c7be593b231b7",
       "style": "IPY_MODEL_79fa49efaab04924bd63d84e7aa027de"
      }
     },
     "3dea015e74a5423eade795f26187cf60": {
      "model_module": "@jupyter-widgets/controls",
      "model_module_version": "1.2.0",
      "model_name": "DescriptionStyleModel",
      "state": {
       "description_width": ""
      }
     },
     "3dfe63a07e0642b88a11a8741dc055db": {
      "model_module": "@jupyter-widgets/base",
      "model_module_version": "1.0.0",
      "model_name": "LayoutModel",
      "state": {
       "width": "250px"
      }
     },
     "3dff5afa7ce749ca9be94859879ab982": {
      "model_module": "@jupyter-widgets/base",
      "model_module_version": "1.0.0",
      "model_name": "LayoutModel",
      "state": {}
     },
     "3e196f7d1fa747799fb6066fc417a92e": {
      "model_module": "@jupyter-widgets/base",
      "model_module_version": "1.0.0",
      "model_name": "LayoutModel",
      "state": {
       "width": "600px"
      }
     },
     "3e378e8a5ab740ab937529e711326359": {
      "model_module": "@jupyter-widgets/controls",
      "model_module_version": "1.2.0",
      "model_name": "HTMLModel",
      "state": {
       "layout": "IPY_MODEL_46979d53c1b04003bb39eba27c8fa30b",
       "style": "IPY_MODEL_23bcf5b59fb24f278ea505548b54f28a",
       "value": "<h4 style=\"font-size:14px;\">Was für eine Satzkonstruktion liegt hier vor?</h4>"
      }
     },
     "3f05d80dcdb347b59a40ad85cc90863f": {
      "model_module": "@jupyter-widgets/base",
      "model_module_version": "1.0.0",
      "model_name": "LayoutModel",
      "state": {}
     },
     "3f0695b18d5e4a569415c3974407ef70": {
      "model_module": "@jupyter-widgets/controls",
      "model_module_version": "1.2.0",
      "model_name": "ButtonStyleModel",
      "state": {}
     },
     "3f13147ea31c481097767ab6f746b0d8": {
      "model_module": "@jupyter-widgets/base",
      "model_module_version": "1.0.0",
      "model_name": "LayoutModel",
      "state": {
       "width": "600px"
      }
     },
     "3f28986a4f8c41b19e9e950ef473c32a": {
      "model_module": "@jupyter-widgets/base",
      "model_module_version": "1.0.0",
      "model_name": "LayoutModel",
      "state": {}
     },
     "3f71c618fcbd421facac9b3cabb78e7d": {
      "model_module": "@jupyter-widgets/base",
      "model_module_version": "1.0.0",
      "model_name": "LayoutModel",
      "state": {
       "width": "600px"
      }
     },
     "3f8a9757abb64b9393b93195db46d646": {
      "model_module": "@jupyter-widgets/base",
      "model_module_version": "1.0.0",
      "model_name": "LayoutModel",
      "state": {
       "width": "600px"
      }
     },
     "3f8e7e78828145e186eaaa6c69b16d64": {
      "model_module": "@jupyter-widgets/controls",
      "model_module_version": "1.2.0",
      "model_name": "CheckboxModel",
      "state": {
       "description": "Wenn es sich bei dem Satzglied um das Objekt handelt.",
       "disabled": false,
       "layout": "IPY_MODEL_34001b32d63d495ab78596b8bf0a58a6",
       "style": "IPY_MODEL_159a66a4f03a47d681e05f9a61af0eb2",
       "value": false
      }
     },
     "3fb09241fc1a407a9f40f0e891aa080c": {
      "model_module": "@jupyter-widgets/controls",
      "model_module_version": "1.2.0",
      "model_name": "CheckboxModel",
      "state": {
       "description": "der",
       "disabled": false,
       "layout": "IPY_MODEL_7a72d09f43e04f0cae9a6610b28a1253",
       "style": "IPY_MODEL_dca02fbe0a224a3db5a2e4e01f86b4bd",
       "value": false
      }
     },
     "401abe8022cc41b99bbe4afb5a5cad89": {
      "model_module": "@jupyter-widgets/base",
      "model_module_version": "1.0.0",
      "model_name": "LayoutModel",
      "state": {}
     },
     "40445b42915d451db8e5bdd9a161a96c": {
      "model_module": "@jupyter-widgets/base",
      "model_module_version": "1.0.0",
      "model_name": "LayoutModel",
      "state": {}
     },
     "4093e0b89cfd4af7bfe8477a98bb73dd": {
      "model_module": "@jupyter-widgets/controls",
      "model_module_version": "1.2.0",
      "model_name": "DescriptionStyleModel",
      "state": {
       "description_width": "initial"
      }
     },
     "413e88eca11a465d82015e32c22d7e2f": {
      "model_module": "@jupyter-widgets/controls",
      "model_module_version": "1.2.0",
      "model_name": "CheckboxModel",
      "state": {
       "description": "Das Mittelfeld ist unbesetzt.",
       "disabled": false,
       "layout": "IPY_MODEL_9371b183a62a4e6bbdc1cf13a264904c",
       "style": "IPY_MODEL_2f0ac86b44d645d09068a01c1b311b81",
       "value": false
      }
     },
     "41446ed60ac44201aff25fa1955cfb9e": {
      "model_module": "@jupyter-widgets/controls",
      "model_module_version": "1.2.0",
      "model_name": "ButtonModel",
      "state": {
       "description": "Keine der anderen Möglichkeiten",
       "layout": "IPY_MODEL_43196330f44548ff8bc42665b4913a22",
       "style": "IPY_MODEL_5d4f21068fc94d368af5f4546352cefa"
      }
     },
     "41746b98820040f88be9913229979042": {
      "model_module": "@jupyter-widgets/controls",
      "model_module_version": "1.2.0",
      "model_name": "ButtonStyleModel",
      "state": {}
     },
     "418a3f1fbdfd403e95c618e84e92e86c": {
      "model_module": "@jupyter-widgets/controls",
      "model_module_version": "1.2.0",
      "model_name": "ButtonStyleModel",
      "state": {}
     },
     "419fe160d9de4e95b1751970e61fc4c3": {
      "model_module": "@jupyter-widgets/controls",
      "model_module_version": "1.2.0",
      "model_name": "DescriptionStyleModel",
      "state": {
       "description_width": "initial"
      }
     },
     "41cb19bca721480fbff741ec47dd4f64": {
      "model_module": "@jupyter-widgets/controls",
      "model_module_version": "1.2.0",
      "model_name": "HTMLModel",
      "state": {
       "layout": "IPY_MODEL_93101c8af43a48ae894b0c9d1ab56154",
       "style": "IPY_MODEL_c4af8092c08445a090d0ec44df6b1d33",
       "value": "<h4 style=\"font-size:14px;\">Wann ist die Konstituentenverbindung <i>Satzglied + infinites Verb</i> im Vorfeld inakzeptabel?</h4>"
      }
     },
     "41e214e0848b42bf88d4558a973bf7af": {
      "model_module": "@jupyter-widgets/controls",
      "model_module_version": "1.2.0",
      "model_name": "CheckboxModel",
      "state": {
       "description": "hat",
       "disabled": false,
       "layout": "IPY_MODEL_9206e3bc1ab64e9d97c5b9708c1382fd",
       "style": "IPY_MODEL_7ff765fc91a84d8f9d8803a5351f95c2",
       "value": true
      }
     },
     "4218b4207397435bbc4c16ea55c41133": {
      "model_module": "@jupyter-widgets/controls",
      "model_module_version": "1.2.0",
      "model_name": "DescriptionStyleModel",
      "state": {
       "description_width": ""
      }
     },
     "423570a8552640b6a409e3328dbee113": {
      "model_module": "@jupyter-widgets/base",
      "model_module_version": "1.0.0",
      "model_name": "LayoutModel",
      "state": {}
     },
     "4242938eabea40919ba20dce20966e21": {
      "model_module": "@jupyter-widgets/controls",
      "model_module_version": "1.2.0",
      "model_name": "ButtonStyleModel",
      "state": {}
     },
     "424d6ad5267e423ca0a8d1321ecd9da4": {
      "model_module": "@jupyter-widgets/controls",
      "model_module_version": "1.2.0",
      "model_name": "ButtonModel",
      "state": {
       "description": "koordiniert",
       "layout": "IPY_MODEL_399c1a4defce46bb972951a84711f027",
       "style": "IPY_MODEL_e7f69aae18fd4d998af9e09edc70ea3b"
      }
     },
     "426e72917f9c4fc09f04295bf67f66df": {
      "model_module": "@jupyter-widgets/controls",
      "model_module_version": "1.2.0",
      "model_name": "CheckboxModel",
      "state": {
       "description": "kleine",
       "disabled": false,
       "layout": "IPY_MODEL_efbb2b5759b74a228590650bc52d208f",
       "style": "IPY_MODEL_0419cbf2278d4f0d86147a3746cf4de1",
       "value": false
      }
     },
     "42997fdd6bc9436c94c40a070c86e726": {
      "model_module": "@jupyter-widgets/base",
      "model_module_version": "1.0.0",
      "model_name": "LayoutModel",
      "state": {
       "width": "600px"
      }
     },
     "42ec7302f7704a83adbb92d3e4833667": {
      "model_module": "@jupyter-widgets/controls",
      "model_module_version": "1.2.0",
      "model_name": "VBoxModel",
      "state": {
       "children": [
        "IPY_MODEL_00d5bc01b50b4b79bb8363bcfe12826c",
        "IPY_MODEL_32d191314e884442a27c012226c6bef5",
        "IPY_MODEL_03ffa842f49041869cc101c906c72a66",
        "IPY_MODEL_3cd0e978b14440798685e7450d9305f8",
        "IPY_MODEL_feac8b0846964f4d864459d41fba22d7"
       ],
       "layout": "IPY_MODEL_d123242a782b4bd4bf46fa0b54b9d9df"
      }
     },
     "43196330f44548ff8bc42665b4913a22": {
      "model_module": "@jupyter-widgets/base",
      "model_module_version": "1.0.0",
      "model_name": "LayoutModel",
      "state": {
       "width": "250px"
      }
     },
     "4332bcd9cff0407fba62798eac03b461": {
      "model_module": "@jupyter-widgets/base",
      "model_module_version": "1.0.0",
      "model_name": "LayoutModel",
      "state": {
       "width": "250px"
      }
     },
     "43341b2f2a49447daa07e53d8e8ea27c": {
      "model_module": "@jupyter-widgets/controls",
      "model_module_version": "1.2.0",
      "model_name": "HTMLModel",
      "state": {
       "layout": "IPY_MODEL_650727d7384e4426a5fbd94e270eeb2b",
       "style": "IPY_MODEL_209a81ec28ab41e7a383c060b91e02d7",
       "value": "<h4 style=\"font-size:14px;\">Welcher eingebettete Satztyp liegt vor?</h4>"
      }
     },
     "43b62959ca2840a8b93942c9842b136c": {
      "model_module": "@jupyter-widgets/base",
      "model_module_version": "1.0.0",
      "model_name": "LayoutModel",
      "state": {
       "width": "250px"
      }
     },
     "440e564a23ac4ca795bba4104d3b8a27": {
      "model_module": "@jupyter-widgets/base",
      "model_module_version": "1.0.0",
      "model_name": "LayoutModel",
      "state": {}
     },
     "441bb77f7611493cb402ee9b6c9d592a": {
      "model_module": "@jupyter-widgets/controls",
      "model_module_version": "1.2.0",
      "model_name": "HTMLModel",
      "state": {
       "layout": "IPY_MODEL_da187890ade041ae84acdf20753ce60b",
       "style": "IPY_MODEL_e568a2ad19cf4855af8009c570d78e1a",
       "value": "<i>Wählen Sie die <ins>eine</ins> korrekte Antwort aus: </i>"
      }
     },
     "4430282da0ff49d6983dd8d114c3f28f": {
      "model_module": "@jupyter-widgets/controls",
      "model_module_version": "1.2.0",
      "model_name": "HTMLModel",
      "state": {
       "layout": "IPY_MODEL_3db5a465b27d4906b4fa0f5c6c62dede",
       "style": "IPY_MODEL_fd114fce25974e3db19e1e7a07ab971f",
       "value": "<h4 style=\"font-size:14px;\">Wie läßt sich dieser Satztyp klassifizieren?</h4>"
      }
     },
     "4438a2afafcc4c76ad2fa41f1e85d4e0": {
      "model_module": "@jupyter-widgets/controls",
      "model_module_version": "1.2.0",
      "model_name": "DescriptionStyleModel",
      "state": {
       "description_width": ""
      }
     },
     "451256b0423144aab87d0aaa32135d4c": {
      "model_module": "@jupyter-widgets/controls",
      "model_module_version": "1.2.0",
      "model_name": "CheckboxModel",
      "state": {
       "description": "der",
       "disabled": false,
       "layout": "IPY_MODEL_3f13147ea31c481097767ab6f746b0d8",
       "style": "IPY_MODEL_4b137e48b1654504867b7125645df535",
       "value": false
      }
     },
     "45164f39c32543b0be252d89df12d13c": {
      "model_module": "@jupyter-widgets/controls",
      "model_module_version": "1.2.0",
      "model_name": "HTMLModel",
      "state": {
       "layout": "IPY_MODEL_6acf3e2887714b7da702671de999b820",
       "style": "IPY_MODEL_7db3dda0d3384c5ab5c3403394e37011",
       "value": "<i>Wählen Sie die <ins>eine</ins> korrekte Antwort aus: </i>"
      }
     },
     "457c8815bc694d19b96561e0bf9c3ae4": {
      "model_module": "@jupyter-widgets/controls",
      "model_module_version": "1.2.0",
      "model_name": "DescriptionStyleModel",
      "state": {
       "description_width": "initial"
      }
     },
     "459a760136b14484afe7a90c2dcab5db": {
      "model_module": "@jupyter-widgets/controls",
      "model_module_version": "1.2.0",
      "model_name": "VBoxModel",
      "state": {
       "children": [
        "IPY_MODEL_5a39277c8719411280cb081610c557e5",
        "IPY_MODEL_1db71e16fb6b4569acac940fb9935acf",
        "IPY_MODEL_ea9ae0f0c7ae48529a48c262f9da1bf1",
        "IPY_MODEL_50d5fce012144a21a8e2cc9e62ffb77e",
        "IPY_MODEL_3fb09241fc1a407a9f40f0e891aa080c",
        "IPY_MODEL_86cda343ca5346b79031cfbbe3ae73c3",
        "IPY_MODEL_41e214e0848b42bf88d4558a973bf7af",
        "IPY_MODEL_216047ea79454f8b8a709c8cc87ef3a0",
        "IPY_MODEL_25fd7e8ee4b94a22bb05ccea1012bf76"
       ],
       "layout": "IPY_MODEL_f8051084a2f84f48be4cc009bab1eb5b"
      }
     },
     "459fd27197dc4fe9803252cfc413a5d8": {
      "model_module": "@jupyter-widgets/controls",
      "model_module_version": "1.2.0",
      "model_name": "ButtonStyleModel",
      "state": {}
     },
     "45dea4446f5e47bbbcf65b3ed819e3d2": {
      "model_module": "@jupyter-widgets/controls",
      "model_module_version": "1.2.0",
      "model_name": "DescriptionStyleModel",
      "state": {
       "description_width": "initial"
      }
     },
     "4623e8d8c4a142bba7907c5d0ae86543": {
      "model_module": "@jupyter-widgets/controls",
      "model_module_version": "1.2.0",
      "model_name": "ButtonStyleModel",
      "state": {}
     },
     "4634bb00f5f54e31b6d6eecd96fc6d8d": {
      "model_module": "@jupyter-widgets/controls",
      "model_module_version": "1.2.0",
      "model_name": "VBoxModel",
      "state": {
       "children": [
        "IPY_MODEL_ba86c025711342448da12b76ed2f4c61",
        "IPY_MODEL_7cb72f1c4d584322973447da40c83693",
        "IPY_MODEL_7cb97b47a38d4da8b9dfd2ae80c8b1e3",
        "IPY_MODEL_77da62a3cda645249be97a0fcd841bc9"
       ],
       "layout": "IPY_MODEL_a0ef09ac72cc4ec48cfcade03005c366"
      }
     },
     "468e19c7189a4dfeba3458000ac492fc": {
      "model_module": "@jupyter-widgets/controls",
      "model_module_version": "1.2.0",
      "model_name": "DescriptionStyleModel",
      "state": {
       "description_width": "initial"
      }
     },
     "46979d53c1b04003bb39eba27c8fa30b": {
      "model_module": "@jupyter-widgets/base",
      "model_module_version": "1.0.0",
      "model_name": "LayoutModel",
      "state": {
       "justify_content": "center"
      }
     },
     "46a6665b00a94d0087cf5aa51a22e1ad": {
      "model_module": "@jupyter-widgets/controls",
      "model_module_version": "1.2.0",
      "model_name": "DescriptionStyleModel",
      "state": {
       "description_width": "initial"
      }
     },
     "46dee24089e949b99ecdb90d15196088": {
      "model_module": "@jupyter-widgets/controls",
      "model_module_version": "1.2.0",
      "model_name": "HTMLModel",
      "state": {
       "layout": "IPY_MODEL_7cff1cc24af246d5872193c09f2123a1",
       "style": "IPY_MODEL_bc199dee10044ca4be0edb9c8774496d",
       "value": "<i>Wählen Sie die <ins>eine</ins> korrekte Antwort aus: </i>"
      }
     },
     "46eda967600840bb92f7ec401386abc9": {
      "model_module": "@jupyter-widgets/controls",
      "model_module_version": "1.2.0",
      "model_name": "DescriptionStyleModel",
      "state": {
       "description_width": "initial"
      }
     },
     "46f9e26b3526486da59e248933f93a93": {
      "model_module": "@jupyter-widgets/controls",
      "model_module_version": "1.2.0",
      "model_name": "CheckboxModel",
      "state": {
       "description": "satzwertiger Nominalmodifikator (<code>acl</code>): <i>der amtierende Präsident</i>",
       "disabled": false,
       "layout": "IPY_MODEL_272ea80983844535a9963a49ccca4cab",
       "style": "IPY_MODEL_39c82407fd064a4e965e60d470c1672b",
       "value": false
      }
     },
     "474138a40ade45118e00120cd0c52009": {
      "model_module": "@jupyter-widgets/controls",
      "model_module_version": "1.2.0",
      "model_name": "ButtonModel",
      "state": {
       "description": "Satz 3",
       "layout": "IPY_MODEL_7369903513104f5fb55e0859f87eb7ca",
       "style": "IPY_MODEL_e557804296c94c22b655cee6bfc22bcc"
      }
     },
     "479efad7e37c4042829ec071d6d3caff": {
      "model_module": "@jupyter-widgets/base",
      "model_module_version": "1.0.0",
      "model_name": "LayoutModel",
      "state": {
       "width": "600px"
      }
     },
     "47b0ff5c7e924279ba109e0db46884ee": {
      "model_module": "@jupyter-widgets/controls",
      "model_module_version": "1.2.0",
      "model_name": "ButtonModel",
      "state": {
       "description": "Korrekt?",
       "layout": "IPY_MODEL_4332bcd9cff0407fba62798eac03b461",
       "style": "IPY_MODEL_5d31923eb76d47ce955a0b5a714cdecc"
      }
     },
     "4806a1de155c421b87d7f4179607fa1e": {
      "model_module": "@jupyter-widgets/controls",
      "model_module_version": "1.2.0",
      "model_name": "VBoxModel",
      "state": {
       "children": [
        "IPY_MODEL_bbef4c85188b44af853f7f3579a40b0b",
        "IPY_MODEL_5db990bdb04f4ec68e4e0f7ec786f904",
        "IPY_MODEL_4c49fff1dfc74291b7f465c62a2807dd",
        "IPY_MODEL_0553dee693194d20bfff9a244d57fee7"
       ],
       "layout": "IPY_MODEL_21888b98f0724f1cbb0703bdfb7f4946"
      }
     },
     "48320e02e78041e69a3be0af834fc7bb": {
      "model_module": "@jupyter-widgets/base",
      "model_module_version": "1.0.0",
      "model_name": "LayoutModel",
      "state": {
       "justify_content": "center"
      }
     },
     "48498310e83944d59abdc558a321f49c": {
      "model_module": "@jupyter-widgets/controls",
      "model_module_version": "1.2.0",
      "model_name": "VBoxModel",
      "state": {
       "children": [
        "IPY_MODEL_bd9a9d8b807f455eb5417de78fdc37c4",
        "IPY_MODEL_81b65a99a3bb4912bcf5d1cfc07211cb",
        "IPY_MODEL_05ab6b0bfe564740ac8f3ebda0bc4f92",
        "IPY_MODEL_a5ff93d3c9ab4b1a9210d7b129ff0e9b"
       ],
       "layout": "IPY_MODEL_56c912e68640450780c527fc9e763509"
      }
     },
     "48581cdc436b4df4968076de6c0ead8d": {
      "model_module": "@jupyter-widgets/base",
      "model_module_version": "1.0.0",
      "model_name": "LayoutModel",
      "state": {
       "justify_content": "center"
      }
     },
     "49424efdf7c54ccea20b49185a8877a4": {
      "model_module": "@jupyter-widgets/controls",
      "model_module_version": "1.2.0",
      "model_name": "HTMLModel",
      "state": {
       "layout": "IPY_MODEL_fb3ca045724741e480fb709e921c42e8",
       "style": "IPY_MODEL_2a1aa19b14484529868d0f337e9b41bd",
       "value": "<i>Wählen Sie die <ins>eine</ins> korrekte Antwort aus: </i>"
      }
     },
     "4a2ec80d122e40a0b180a9e61196fdfa": {
      "model_module": "@jupyter-widgets/controls",
      "model_module_version": "1.2.0",
      "model_name": "DropdownModel",
      "state": {
       "_options_labels": [
        "Kausalsatz",
        "Keine der Alternativen",
        "Lokalsatz",
        "Modalsatz",
        "Objektsatz",
        "Relativsatz",
        "Subjektsatz",
        "Temporalsatz"
       ],
       "description": "Antwort:",
       "index": 0,
       "layout": "IPY_MODEL_27c0992f83f04f56b79b7ad24b9befb0",
       "style": "IPY_MODEL_0f9c5a253a164fe5816d229970f215b6"
      }
     },
     "4a564676773b4b85aa15a9edc9ac319b": {
      "model_module": "@jupyter-widgets/controls",
      "model_module_version": "1.2.0",
      "model_name": "VBoxModel",
      "state": {
       "children": [
        "IPY_MODEL_4bf5a5ec6d744356b46b65f087ab609a",
        "IPY_MODEL_1de416a0cd4a416eaed990fefc79e091",
        "IPY_MODEL_0e9762b5c8b847a0afc7ceabf6b65d3d",
        "IPY_MODEL_a482aa908d4f410088af63a35196f4ce"
       ],
       "layout": "IPY_MODEL_8dd686dfc4c54a6f95034f3d132fd44c"
      }
     },
     "4aa08eed1e424065bc46edd7918b1cf2": {
      "model_module": "@jupyter-widgets/controls",
      "model_module_version": "1.2.0",
      "model_name": "VBoxModel",
      "state": {
       "children": [
        "IPY_MODEL_031c2e94213d441e999328c57dba6649",
        "IPY_MODEL_5e2c19d26e8a41e48c9e30c4284833c3",
        "IPY_MODEL_f535d84781694816b904a8dfbaddeef9",
        "IPY_MODEL_86427255364d4f08ba688c5be134f560"
       ],
       "layout": "IPY_MODEL_74803a4f01484364b5194e4d76dde62b"
      }
     },
     "4ad3c24d26564c74bf75f5de9fb8b712": {
      "model_module": "@jupyter-widgets/base",
      "model_module_version": "1.0.0",
      "model_name": "LayoutModel",
      "state": {
       "width": "600px"
      }
     },
     "4b1324226f9248b5ada623674ff546c6": {
      "model_module": "@jupyter-widgets/controls",
      "model_module_version": "1.2.0",
      "model_name": "ButtonModel",
      "state": {
       "description": "Fragesatz",
       "layout": "IPY_MODEL_237eead355874be3a7e7491ee4b04eee",
       "style": "IPY_MODEL_57870769962347499cf706b5d0289116"
      }
     },
     "4b137e48b1654504867b7125645df535": {
      "model_module": "@jupyter-widgets/controls",
      "model_module_version": "1.2.0",
      "model_name": "DescriptionStyleModel",
      "state": {
       "description_width": "initial"
      }
     },
     "4b3df4af62ca472999df41da12c224eb": {
      "model_module": "@jupyter-widgets/controls",
      "model_module_version": "1.2.0",
      "model_name": "DescriptionStyleModel",
      "state": {
       "description_width": ""
      }
     },
     "4b834a6c811b46cd907d8025cc7e7790": {
      "model_module": "@jupyter-widgets/base",
      "model_module_version": "1.0.0",
      "model_name": "LayoutModel",
      "state": {}
     },
     "4b8e321e22da4125bb223549efe24a82": {
      "model_module": "@jupyter-widgets/controls",
      "model_module_version": "1.2.0",
      "model_name": "DescriptionStyleModel",
      "state": {
       "description_width": ""
      }
     },
     "4baabc2b1481493e89175493d9233e05": {
      "model_module": "@jupyter-widgets/controls",
      "model_module_version": "1.2.0",
      "model_name": "ButtonStyleModel",
      "state": {
       "button_color": "lightgreen"
      }
     },
     "4bf5a5ec6d744356b46b65f087ab609a": {
      "model_module": "@jupyter-widgets/controls",
      "model_module_version": "1.2.0",
      "model_name": "HTMLModel",
      "state": {
       "layout": "IPY_MODEL_57c2602c8c7749ac9a2ade5ce329a2fa",
       "style": "IPY_MODEL_4f85dd3196d344f98c6b08cb0aa0db8e",
       "value": "<h4 style=\"font-size:14px;\">Welche Attributsatztypen haben Sie in der Vorlesung kennengelernt?</h4>"
      }
     },
     "4c174360c0c54f30b703466d21d6451e": {
      "model_module": "@jupyter-widgets/controls",
      "model_module_version": "1.2.0",
      "model_name": "ButtonModel",
      "state": {
       "description": "Subjektkontrolle",
       "layout": "IPY_MODEL_1ee0b85b01544e9a88a5a33fd0f726c8",
       "style": "IPY_MODEL_70f06beed5ca4c33a33b30e7d8270925"
      }
     },
     "4c27344312354e6096aa6f53d825e74a": {
      "model_module": "@jupyter-widgets/controls",
      "model_module_version": "1.2.0",
      "model_name": "ButtonModel",
      "state": {
       "description": "Korrekt?",
       "layout": "IPY_MODEL_abc99cf3d6f84bb4b8a8eb8bc82cccd5",
       "style": "IPY_MODEL_da39e26721a841f8b6444affd467bd40"
      }
     },
     "4c29a15b9743438c8ee939837cb51548": {
      "model_module": "@jupyter-widgets/controls",
      "model_module_version": "1.2.0",
      "model_name": "DescriptionStyleModel",
      "state": {
       "description_width": "initial"
      }
     },
     "4c49fff1dfc74291b7f465c62a2807dd": {
      "model_module": "@jupyter-widgets/controls",
      "model_module_version": "1.2.0",
      "model_name": "HBoxModel",
      "state": {
       "children": [
        "IPY_MODEL_424d6ad5267e423ca0a8d1321ecd9da4",
        "IPY_MODEL_6d74330bd0204818ac59d5d248884a8b"
       ],
       "layout": "IPY_MODEL_a436e8d195b3400ab30058d4de7fd905"
      }
     },
     "4c837cb6782e41c589dd08410d72533d": {
      "model_module": "@jupyter-widgets/controls",
      "model_module_version": "1.2.0",
      "model_name": "DescriptionStyleModel",
      "state": {
       "description_width": ""
      }
     },
     "4caa6154dcc743738cd393eacfa1cd19": {
      "model_module": "@jupyter-widgets/base",
      "model_module_version": "1.0.0",
      "model_name": "LayoutModel",
      "state": {
       "width": "250px"
      }
     },
     "4cbe6dd4027f4153856c710f502d825b": {
      "model_module": "@jupyter-widgets/controls",
      "model_module_version": "1.2.0",
      "model_name": "VBoxModel",
      "state": {
       "children": [
        "IPY_MODEL_58dcf140ccd14341ac00227501230994",
        "IPY_MODEL_0c90c2397ba44faf9dbe0d3a8f69d53a",
        "IPY_MODEL_2efa0afa245844eab2925d144bc4fe0d"
       ],
       "layout": "IPY_MODEL_300d8aaea9bb4e29832650b0e2a75ae4"
      }
     },
     "4d4f96a3f3f84abebe188e4d0b66e1ce": {
      "model_module": "@jupyter-widgets/base",
      "model_module_version": "1.0.0",
      "model_name": "LayoutModel",
      "state": {
       "width": "600px"
      }
     },
     "4d5f8f0e03834e7b962ef2864cbd28c4": {
      "model_module": "@jupyter-widgets/base",
      "model_module_version": "1.0.0",
      "model_name": "LayoutModel",
      "state": {
       "width": "250px"
      }
     },
     "4d999bfcd86a44c797c40cc32cdcf07d": {
      "model_module": "@jupyter-widgets/controls",
      "model_module_version": "1.2.0",
      "model_name": "CheckboxModel",
      "state": {
       "description": "Weihnachten",
       "disabled": false,
       "layout": "IPY_MODEL_f70c89d8b76d4b5bbfc0824d248464cc",
       "style": "IPY_MODEL_6cb9c80b186a4aad8eeba5f6045017f3",
       "value": false
      }
     },
     "4db1c73aff4540429db36307c181e747": {
      "model_module": "@jupyter-widgets/controls",
      "model_module_version": "1.2.0",
      "model_name": "DescriptionStyleModel",
      "state": {
       "description_width": ""
      }
     },
     "4deed5a8e7964ca48e8bf4169910a2e4": {
      "model_module": "@jupyter-widgets/base",
      "model_module_version": "1.0.0",
      "model_name": "LayoutModel",
      "state": {}
     },
     "4e1ba925d5a04848b32a0cb24c4cde60": {
      "model_module": "@jupyter-widgets/controls",
      "model_module_version": "1.2.0",
      "model_name": "DescriptionStyleModel",
      "state": {
       "description_width": "initial"
      }
     },
     "4eacbeab5d7e416c9054fe7d8642fa83": {
      "model_module": "@jupyter-widgets/base",
      "model_module_version": "1.0.0",
      "model_name": "LayoutModel",
      "state": {
       "justify_content": "center"
      }
     },
     "4ecc8594776a476a9b0e8f08b1b1f3e5": {
      "model_module": "@jupyter-widgets/base",
      "model_module_version": "1.0.0",
      "model_name": "LayoutModel",
      "state": {
       "justify_content": "center"
      }
     },
     "4f29d310cf3441f48e00a2925227603a": {
      "model_module": "@jupyter-widgets/controls",
      "model_module_version": "1.2.0",
      "model_name": "CheckboxModel",
      "state": {
       "description": "Nebensatz 1. Grades",
       "disabled": false,
       "layout": "IPY_MODEL_c20682de859b4fdeae98b980c249eed3",
       "style": "IPY_MODEL_468e19c7189a4dfeba3458000ac492fc",
       "value": true
      }
     },
     "4f48564e6e3749adaa27942b62bb2b34": {
      "model_module": "@jupyter-widgets/controls",
      "model_module_version": "1.2.0",
      "model_name": "DescriptionStyleModel",
      "state": {
       "description_width": "initial"
      }
     },
     "4f6feb4c01c64fffa67e5e427308a756": {
      "model_module": "@jupyter-widgets/base",
      "model_module_version": "1.0.0",
      "model_name": "LayoutModel",
      "state": {
       "justify_content": "center"
      }
     },
     "4f85dd3196d344f98c6b08cb0aa0db8e": {
      "model_module": "@jupyter-widgets/controls",
      "model_module_version": "1.2.0",
      "model_name": "DescriptionStyleModel",
      "state": {
       "description_width": ""
      }
     },
     "4fe54e6e01c64477a01935eebfced9ff": {
      "model_module": "@jupyter-widgets/base",
      "model_module_version": "1.0.0",
      "model_name": "LayoutModel",
      "state": {
       "width": "600px"
      }
     },
     "503fcae1106942c7871d4117ecc7f854": {
      "model_module": "@jupyter-widgets/controls",
      "model_module_version": "1.2.0",
      "model_name": "CheckboxModel",
      "state": {
       "description": "Fragepronomen",
       "disabled": false,
       "layout": "IPY_MODEL_72404698041b44f2bdfdd51a14b76762",
       "style": "IPY_MODEL_a93100c5019c4db39b70f07139f0be44",
       "value": true
      }
     },
     "507b88f1011046e5be7b5c49cd0a1ce0": {
      "model_module": "@jupyter-widgets/controls",
      "model_module_version": "1.2.0",
      "model_name": "ButtonModel",
      "state": {
       "description": "Fragesatz",
       "layout": "IPY_MODEL_8db1694c68564ed392bc0337091a3833",
       "style": "IPY_MODEL_3102359810e34f06a15a1d4ab1e2d072"
      }
     },
     "50d5fce012144a21a8e2cc9e62ffb77e": {
      "model_module": "@jupyter-widgets/controls",
      "model_module_version": "1.2.0",
      "model_name": "CheckboxModel",
      "state": {
       "description": "das",
       "disabled": false,
       "layout": "IPY_MODEL_4d4f96a3f3f84abebe188e4d0b66e1ce",
       "style": "IPY_MODEL_5a7130901c5a47699d2dbc88b6ee543a",
       "value": false
      }
     },
     "5143f0a4a83348dfa57d89f584130ffc": {
      "model_module": "@jupyter-widgets/controls",
      "model_module_version": "1.2.0",
      "model_name": "DropdownModel",
      "state": {
       "_options_labels": [
        "Adverbialsatz",
        "Attributsatz",
        "Komplementsatz",
        "Matrixsatz"
       ],
       "description": "Antwort:",
       "index": 0,
       "layout": "IPY_MODEL_23e4785668f14c45b7d0516d154a0c36",
       "style": "IPY_MODEL_4c837cb6782e41c589dd08410d72533d"
      }
     },
     "516cdf679cbb4dafa965742ff4c90aef": {
      "model_module": "@jupyter-widgets/controls",
      "model_module_version": "1.2.0",
      "model_name": "DescriptionStyleModel",
      "state": {
       "description_width": "initial"
      }
     },
     "51c215c8d7f14df8a989d7c550d494ab": {
      "model_module": "@jupyter-widgets/controls",
      "model_module_version": "1.2.0",
      "model_name": "DescriptionStyleModel",
      "state": {
       "description_width": ""
      }
     },
     "51eeb47642f74c8cb9c58e34fa7e5ff3": {
      "model_module": "@jupyter-widgets/base",
      "model_module_version": "1.0.0",
      "model_name": "LayoutModel",
      "state": {}
     },
     "521bb27fe7884a87a05700df7f24cc3f": {
      "model_module": "@jupyter-widgets/controls",
      "model_module_version": "1.2.0",
      "model_name": "DescriptionStyleModel",
      "state": {
       "description_width": "initial"
      }
     },
     "5281af4fc9ec45979ff228445383bb49": {
      "model_module": "@jupyter-widgets/controls",
      "model_module_version": "1.2.0",
      "model_name": "DescriptionStyleModel",
      "state": {
       "description_width": "initial"
      }
     },
     "5293e37bcbd345d6b4ac975e7ca76492": {
      "model_module": "@jupyter-widgets/controls",
      "model_module_version": "1.2.0",
      "model_name": "ButtonModel",
      "state": {
       "description": "Korrekt?",
       "layout": "IPY_MODEL_2d77730b6d534a0eb5f1104eff9f0a26",
       "style": "IPY_MODEL_049aced96fe34d2b84722e78b01b0cec"
      }
     },
     "52c1eec6222544a4a862258d80f57c91": {
      "model_module": "@jupyter-widgets/controls",
      "model_module_version": "1.2.0",
      "model_name": "ButtonModel",
      "state": {
       "description": "Keine der anderen Möglichkeiten",
       "layout": "IPY_MODEL_a9446970fca54ad8a6f33efcc56decc4",
       "style": "IPY_MODEL_3f0695b18d5e4a569415c3974407ef70"
      }
     },
     "52d8bbafaf424e84b5b6403b63aa48fd": {
      "model_module": "@jupyter-widgets/base",
      "model_module_version": "1.0.0",
      "model_name": "LayoutModel",
      "state": {
       "width": "250px"
      }
     },
     "52f4ca25fc5d496bb83d1f61d2b6abb6": {
      "model_module": "@jupyter-widgets/base",
      "model_module_version": "1.0.0",
      "model_name": "LayoutModel",
      "state": {}
     },
     "532f85ecfb9f4d598df05b261a0157b3": {
      "model_module": "@jupyter-widgets/controls",
      "model_module_version": "1.2.0",
      "model_name": "CheckboxModel",
      "state": {
       "description": "zu",
       "disabled": false,
       "layout": "IPY_MODEL_8a79ee687d7b49119cee1c1d788ac8b0",
       "style": "IPY_MODEL_ad063fe70445443b93681526f843ed96",
       "value": false
      }
     },
     "53674bc6472246cbb7fa19669d97630e": {
      "model_module": "@jupyter-widgets/base",
      "model_module_version": "1.0.0",
      "model_name": "LayoutModel",
      "state": {
       "width": "250px"
      }
     },
     "547541d467e94e89b3661dd30326c026": {
      "model_module": "@jupyter-widgets/controls",
      "model_module_version": "1.2.0",
      "model_name": "ButtonModel",
      "state": {
       "description": "koordiniert",
       "layout": "IPY_MODEL_9aee4fc7223c42a195cdbdd36a433db9",
       "style": "IPY_MODEL_810b1d745872481d841737701ee1c8f5"
      }
     },
     "54b4c6b498fc4f87bc9a6fd00f526810": {
      "model_module": "@jupyter-widgets/controls",
      "model_module_version": "1.2.0",
      "model_name": "HTMLModel",
      "state": {
       "layout": "IPY_MODEL_e1623cbe88db4794a88889575a8681f3",
       "style": "IPY_MODEL_5cb719d40528424fafb9dee74c497f8f",
       "value": "<i>Markieren Sie <ins>alle</ins> passenden Antworten: </i>"
      }
     },
     "54f0b40e3b6d4b3c8847fdcd0425e82d": {
      "model_module": "@jupyter-widgets/base",
      "model_module_version": "1.0.0",
      "model_name": "LayoutModel",
      "state": {}
     },
     "54f8141511324bc18ed5318ed79542fb": {
      "model_module": "@jupyter-widgets/base",
      "model_module_version": "1.0.0",
      "model_name": "LayoutModel",
      "state": {}
     },
     "5578454d8e494256a9e8089f8275a287": {
      "model_module": "@jupyter-widgets/base",
      "model_module_version": "1.0.0",
      "model_name": "LayoutModel",
      "state": {
       "width": "250px"
      }
     },
     "55be9bafa50f435f8d02806e9283cf51": {
      "model_module": "@jupyter-widgets/controls",
      "model_module_version": "1.2.0",
      "model_name": "ButtonStyleModel",
      "state": {
       "button_color": "lightgreen"
      }
     },
     "55f46c1372404e3db17b470045704964": {
      "model_module": "@jupyter-widgets/controls",
      "model_module_version": "1.2.0",
      "model_name": "CheckboxModel",
      "state": {
       "description": "Adverbialsatz (<code>advcl</code>)",
       "disabled": false,
       "layout": "IPY_MODEL_8541dc71f850405ab7470cdfab5ca7ed",
       "style": "IPY_MODEL_d0f7e77ad6524ec4af6d3b36bd9361f9",
       "value": false
      }
     },
     "55ff611e7dc8426e97d3facb6af74652": {
      "model_module": "@jupyter-widgets/controls",
      "model_module_version": "1.2.0",
      "model_name": "DropdownModel",
      "state": {
       "_options_labels": [
        "Kausalsatz",
        "Keine der Alternativen",
        "Lokalsatz",
        "Modalsatz",
        "Objektsatz",
        "Relativsatz",
        "Subjektsatz",
        "Temporalsatz"
       ],
       "description": "Antwort:",
       "index": 0,
       "layout": "IPY_MODEL_0e72e659dc244a00a2a20fff71d2a1ad",
       "style": "IPY_MODEL_03e2b5619b1e4f59a5a815010de42be4"
      }
     },
     "5623b54d21564454b3c6c6947a543523": {
      "model_module": "@jupyter-widgets/base",
      "model_module_version": "1.0.0",
      "model_name": "LayoutModel",
      "state": {}
     },
     "563a5f3495ae4ddcb2718b2a621d8f4a": {
      "model_module": "@jupyter-widgets/controls",
      "model_module_version": "1.2.0",
      "model_name": "CheckboxModel",
      "state": {
       "description": "Nein, der Satz wird dann ungrammatisch.",
       "disabled": false,
       "layout": "IPY_MODEL_7fef77f274054d0381258ea33a4e191e",
       "style": "IPY_MODEL_f36536c632f6437b8afc0c3b694df5c6",
       "value": true
      }
     },
     "565c04e9c9514b8e8d79a6cac7af61c6": {
      "model_module": "@jupyter-widgets/base",
      "model_module_version": "1.0.0",
      "model_name": "LayoutModel",
      "state": {}
     },
     "5664f4922e5241719a1413b4c50d5b3c": {
      "model_module": "@jupyter-widgets/controls",
      "model_module_version": "1.2.0",
      "model_name": "CheckboxModel",
      "state": {
       "description": "Fragepronomen",
       "disabled": false,
       "layout": "IPY_MODEL_c86ef9696afe4ba8960c6be777d0fdb1",
       "style": "IPY_MODEL_45dea4446f5e47bbbcf65b3ed819e3d2",
       "value": false
      }
     },
     "569890c6abdc4be799bf23c2fa10bca5": {
      "model_module": "@jupyter-widgets/controls",
      "model_module_version": "1.2.0",
      "model_name": "CheckboxModel",
      "state": {
       "description": "Weihnachten",
       "disabled": false,
       "layout": "IPY_MODEL_cfd446b85af34545b0ecaf4c2052fd15",
       "style": "IPY_MODEL_95d6d49767904d06927bd34cde563fc9",
       "value": false
      }
     },
     "56c912e68640450780c527fc9e763509": {
      "model_module": "@jupyter-widgets/base",
      "model_module_version": "1.0.0",
      "model_name": "LayoutModel",
      "state": {}
     },
     "57201bc3296a43a9ad9692aeadd24a6e": {
      "model_module": "@jupyter-widgets/controls",
      "model_module_version": "1.2.0",
      "model_name": "DescriptionStyleModel",
      "state": {
       "description_width": ""
      }
     },
     "57404872ee2743f4b6e813d2e1a64c39": {
      "model_module": "@jupyter-widgets/controls",
      "model_module_version": "1.2.0",
      "model_name": "VBoxModel",
      "state": {
       "children": [
        "IPY_MODEL_7937ee79cf9c4c2896a653432b4d3559",
        "IPY_MODEL_e5970ad22ff54ee091b61483f463868f",
        "IPY_MODEL_775c215106c1467b870dc75c822ab754",
        "IPY_MODEL_e63c7912a9db4c1d8b2c35d4debf7faf"
       ],
       "layout": "IPY_MODEL_726df3318aed4ce188fa3c4a0602becd"
      }
     },
     "574c05a10242483dad205e6bde55482a": {
      "model_module": "@jupyter-widgets/base",
      "model_module_version": "1.0.0",
      "model_name": "LayoutModel",
      "state": {
       "width": "600px"
      }
     },
     "57541145d04d41eca51caa57fcd219e4": {
      "model_module": "@jupyter-widgets/base",
      "model_module_version": "1.0.0",
      "model_name": "LayoutModel",
      "state": {}
     },
     "57870769962347499cf706b5d0289116": {
      "model_module": "@jupyter-widgets/controls",
      "model_module_version": "1.2.0",
      "model_name": "ButtonStyleModel",
      "state": {
       "button_color": "lightgreen"
      }
     },
     "578bc3f8ac8f4ae08d4360af2d38a831": {
      "model_module": "@jupyter-widgets/controls",
      "model_module_version": "1.2.0",
      "model_name": "HTMLModel",
      "state": {
       "layout": "IPY_MODEL_e9b7fc231daf4c35965d253b8652227a",
       "style": "IPY_MODEL_d6e7fbac1fa840658e8e820e8e5c1a85",
       "value": "<i>Wählen Sie die <ins>eine</ins> korrekte Antwort aus: </i>"
      }
     },
     "57a1118cc38f4ad19954fc3b92bf8438": {
      "model_module": "@jupyter-widgets/controls",
      "model_module_version": "1.2.0",
      "model_name": "DescriptionStyleModel",
      "state": {
       "description_width": ""
      }
     },
     "57a661bed6e9407186ef5f90dbe62713": {
      "model_module": "@jupyter-widgets/controls",
      "model_module_version": "1.2.0",
      "model_name": "DescriptionStyleModel",
      "state": {
       "description_width": "initial"
      }
     },
     "57c144a7c314403f9603aa6c79fb5012": {
      "model_module": "@jupyter-widgets/base",
      "model_module_version": "1.0.0",
      "model_name": "LayoutModel",
      "state": {}
     },
     "57c2602c8c7749ac9a2ade5ce329a2fa": {
      "model_module": "@jupyter-widgets/base",
      "model_module_version": "1.0.0",
      "model_name": "LayoutModel",
      "state": {}
     },
     "57efbf08aa1744c5bf51af6d1917c58b": {
      "model_module": "@jupyter-widgets/controls",
      "model_module_version": "1.2.0",
      "model_name": "HBoxModel",
      "state": {
       "children": [
        "IPY_MODEL_146ea386eb4c4e3bb1b708aced23a407",
        "IPY_MODEL_0b917b326295483eb11f3d7efd588b12"
       ],
       "layout": "IPY_MODEL_c5acb747427b41f484467ffd264915b5"
      }
     },
     "58393f3634414037aa75df396147bb0c": {
      "model_module": "@jupyter-widgets/controls",
      "model_module_version": "1.2.0",
      "model_name": "DescriptionStyleModel",
      "state": {
       "description_width": "initial"
      }
     },
     "5897edb154dd462eae735cc40c6d52f3": {
      "model_module": "@jupyter-widgets/base",
      "model_module_version": "1.0.0",
      "model_name": "LayoutModel",
      "state": {
       "width": "600px"
      }
     },
     "58b62395a8924c7a930423215c7f0879": {
      "model_module": "@jupyter-widgets/controls",
      "model_module_version": "1.2.0",
      "model_name": "CheckboxModel",
      "state": {
       "description": "Nebensatz 1. Grades",
       "disabled": false,
       "layout": "IPY_MODEL_e3fa9f5123ae48abbd50985901ec7abe",
       "style": "IPY_MODEL_57a661bed6e9407186ef5f90dbe62713",
       "value": true
      }
     },
     "58c1144b6e1a4d079e7a5348a2aa265f": {
      "model_module": "@jupyter-widgets/controls",
      "model_module_version": "1.2.0",
      "model_name": "DescriptionStyleModel",
      "state": {
       "description_width": ""
      }
     },
     "58dcf140ccd14341ac00227501230994": {
      "model_module": "@jupyter-widgets/controls",
      "model_module_version": "1.2.0",
      "model_name": "HTMLModel",
      "state": {
       "layout": "IPY_MODEL_f912e6c2d90248cdbc0a79b47b42f89e",
       "style": "IPY_MODEL_387f79d527884b458d67fc0603ab8814",
       "value": "<h4 style=\"font-size:14px;\">Welche Form der Kontrolle liegt in folgendem Satz vor: <i>Sie überreden ihn, nach München zu fahren</i>?</h4>"
      }
     },
     "58ef36f9722d44e0a8c5cdbebb8358f2": {
      "model_module": "@jupyter-widgets/controls",
      "model_module_version": "1.2.0",
      "model_name": "DescriptionStyleModel",
      "state": {
       "description_width": "initial"
      }
     },
     "59756952d1c04df58d5871fdb6eaa556": {
      "model_module": "@jupyter-widgets/controls",
      "model_module_version": "1.2.0",
      "model_name": "DescriptionStyleModel",
      "state": {
       "description_width": "initial"
      }
     },
     "599f7540d3f349c490e32d8228786546": {
      "model_module": "@jupyter-widgets/controls",
      "model_module_version": "1.2.0",
      "model_name": "CheckboxModel",
      "state": {
       "description": "Relativsatz",
       "disabled": false,
       "layout": "IPY_MODEL_1312ecd23ab74dcfadf4828e56d751ae",
       "style": "IPY_MODEL_1a806fd87e5941e58d1aa897ce4d94ad",
       "value": false
      }
     },
     "59aeed9ca78f40d282ddd9764acab2a1": {
      "model_module": "@jupyter-widgets/base",
      "model_module_version": "1.0.0",
      "model_name": "LayoutModel",
      "state": {
       "width": "600px"
      }
     },
     "5a39277c8719411280cb081610c557e5": {
      "model_module": "@jupyter-widgets/controls",
      "model_module_version": "1.2.0",
      "model_name": "CheckboxModel",
      "state": {
       "description": "Buch",
       "disabled": false,
       "layout": "IPY_MODEL_2b2460b1b5b047648b2798c2256a3260",
       "style": "IPY_MODEL_bcf70e2d526f4715b0f8a8e664cfb3ce",
       "value": false
      }
     },
     "5a464e8f0c7e4fe0909fa8b334db6fae": {
      "model_module": "@jupyter-widgets/controls",
      "model_module_version": "1.2.0",
      "model_name": "VBoxModel",
      "state": {
       "children": [
        "IPY_MODEL_1b296aa08faa45d9947f1fb5ad7f9698",
        "IPY_MODEL_7bb085d8c73d428cb6c92a87b10d996e",
        "IPY_MODEL_4f29d310cf3441f48e00a2925227603a",
        "IPY_MODEL_d09adb7ccb6246ee837f91913bb49d1a",
        "IPY_MODEL_f2688343d8c84828832a973434ca7d28"
       ],
       "layout": "IPY_MODEL_c83294c26d3143b6b088a7b171a213ba"
      }
     },
     "5a64dfa1138b4f06a83af97f759393f6": {
      "model_module": "@jupyter-widgets/controls",
      "model_module_version": "1.2.0",
      "model_name": "VBoxModel",
      "state": {
       "children": [
        "IPY_MODEL_9214684b764e446d9071f1b4305e89c7",
        "IPY_MODEL_46dee24089e949b99ecdb90d15196088",
        "IPY_MODEL_1b9c5ebe638248f3ae2afa74f956c915",
        "IPY_MODEL_d5654c8053b647b7a29a74b0239cfe2e"
       ],
       "layout": "IPY_MODEL_37241a7bb7cb41d88e48e7687b77475a"
      }
     },
     "5a7130901c5a47699d2dbc88b6ee543a": {
      "model_module": "@jupyter-widgets/controls",
      "model_module_version": "1.2.0",
      "model_name": "DescriptionStyleModel",
      "state": {
       "description_width": "initial"
      }
     },
     "5a79c055a2ce424aab7591cb0a72ecdf": {
      "model_module": "@jupyter-widgets/controls",
      "model_module_version": "1.2.0",
      "model_name": "ButtonModel",
      "state": {
       "description": "Das Nachfeld ist unbesetzt.",
       "layout": "IPY_MODEL_65340d0630a1491eb5b941826a3d7597",
       "style": "IPY_MODEL_18b13ec337f44ccca009db6224cc5422"
      }
     },
     "5a91dc24f9e44259a529ffb576e2c85c": {
      "model_module": "@jupyter-widgets/controls",
      "model_module_version": "1.2.0",
      "model_name": "HTMLModel",
      "state": {
       "layout": "IPY_MODEL_1e4e2895177d4957aa0d75f9a280c2ed",
       "style": "IPY_MODEL_b0b608cfa6274867a61e4581df619832",
       "value": "<h4 style=\"font-size:14px;\">Um welche Satzart handelt es sich bei Satz 1?</h4>"
      }
     },
     "5aadede67d81483da9fa79f4f3168d62": {
      "model_module": "@jupyter-widgets/base",
      "model_module_version": "1.0.0",
      "model_name": "LayoutModel",
      "state": {
       "width": "600px"
      }
     },
     "5ada23be431e477fa148a30351323947": {
      "model_module": "@jupyter-widgets/base",
      "model_module_version": "1.0.0",
      "model_name": "LayoutModel",
      "state": {
       "width": "600px"
      }
     },
     "5af52ed273154cbbb259f9727042e995": {
      "model_module": "@jupyter-widgets/controls",
      "model_module_version": "1.2.0",
      "model_name": "HTMLModel",
      "state": {
       "layout": "IPY_MODEL_84f63d91451e48e6a03ba7ddef51f243",
       "style": "IPY_MODEL_58c1144b6e1a4d079e7a5348a2aa265f",
       "value": "<h4 style=\"font-size:14px;\">Was ist <i>als sie ...</i> semantisch für ein Satz?</h4>"
      }
     },
     "5b101f7f79014fe5bc787d76e5fdfbc2": {
      "model_module": "@jupyter-widgets/controls",
      "model_module_version": "1.2.0",
      "model_name": "DescriptionStyleModel",
      "state": {
       "description_width": "initial"
      }
     },
     "5b582319f24c4c618ec8b1006d5493f9": {
      "model_module": "@jupyter-widgets/controls",
      "model_module_version": "1.2.0",
      "model_name": "HTMLModel",
      "state": {
       "layout": "IPY_MODEL_b0cb971c34134c329a6a9648c7613b75",
       "style": "IPY_MODEL_7c217902b78d47e28ee3946e080d143a",
       "value": "<i>Markieren Sie <ins>alle</ins> passenden Antworten: </i>"
      }
     },
     "5b9cd39cba444e6cbad6f5bf65c6395e": {
      "model_module": "@jupyter-widgets/controls",
      "model_module_version": "1.2.0",
      "model_name": "ButtonStyleModel",
      "state": {
       "button_color": "lightgreen"
      }
     },
     "5bd2c5cc7eeb4919844802d7ffdcc9a4": {
      "model_module": "@jupyter-widgets/controls",
      "model_module_version": "1.2.0",
      "model_name": "ButtonModel",
      "state": {
       "description": "Korrekt?",
       "layout": "IPY_MODEL_e75268193f6549fd909a3b483a79550c",
       "style": "IPY_MODEL_1a3d65b733444ce0ae010af217e9c5c1"
      }
     },
     "5bd801270c354ac5944c0c19ec879614": {
      "model_module": "@jupyter-widgets/controls",
      "model_module_version": "1.2.0",
      "model_name": "DescriptionStyleModel",
      "state": {
       "description_width": "initial"
      }
     },
     "5c7e7a310a714dd4b4a134c5f64e604a": {
      "model_module": "@jupyter-widgets/controls",
      "model_module_version": "1.2.0",
      "model_name": "CheckboxModel",
      "state": {
       "description": "Peter gesungen",
       "disabled": false,
       "layout": "IPY_MODEL_ec4a25a3218a4fc7aa712069b109e291",
       "style": "IPY_MODEL_14136a18ae5949c6b706996ea6402bde",
       "value": true
      }
     },
     "5cae28db444345c9a144822ac77997de": {
      "model_module": "@jupyter-widgets/controls",
      "model_module_version": "1.2.0",
      "model_name": "HTMLModel",
      "state": {
       "layout": "IPY_MODEL_4ecc8594776a476a9b0e8f08b1b1f3e5",
       "style": "IPY_MODEL_0d2ebfeaf9d7402c8db5d0132e566b18",
       "value": "<i>Markieren Sie <ins>alle</ins> passenden Antworten: </i>"
      }
     },
     "5cb719d40528424fafb9dee74c497f8f": {
      "model_module": "@jupyter-widgets/controls",
      "model_module_version": "1.2.0",
      "model_name": "DescriptionStyleModel",
      "state": {
       "description_width": ""
      }
     },
     "5cc6b0884b32491498b59d2ec4e19d74": {
      "model_module": "@jupyter-widgets/controls",
      "model_module_version": "1.2.0",
      "model_name": "CheckboxModel",
      "state": {
       "description": "sein",
       "disabled": false,
       "layout": "IPY_MODEL_f04f7bec16614543b9863502aa5619ab",
       "style": "IPY_MODEL_d2f8cb2a88824e10850acd0616c1b6b2",
       "value": false
      }
     },
     "5cdff30c5a1c4d96b624b13f294970e6": {
      "model_module": "@jupyter-widgets/base",
      "model_module_version": "1.0.0",
      "model_name": "LayoutModel",
      "state": {
       "width": "600px"
      }
     },
     "5d0152254dff46699a4d952ea1134cfc": {
      "model_module": "@jupyter-widgets/controls",
      "model_module_version": "1.2.0",
      "model_name": "CheckboxModel",
      "state": {
       "description": "Junge",
       "disabled": false,
       "layout": "IPY_MODEL_a249cc16a3584898bb15a921c24b7f88",
       "style": "IPY_MODEL_aee94c16037c4f41a05770f912110823",
       "value": false
      }
     },
     "5d0665c8fc7b4f9c8e9cc8ec49baa997": {
      "model_module": "@jupyter-widgets/base",
      "model_module_version": "1.0.0",
      "model_name": "LayoutModel",
      "state": {}
     },
     "5d0df73c10a14154b745d1f8e1857b26": {
      "model_module": "@jupyter-widgets/controls",
      "model_module_version": "1.2.0",
      "model_name": "HTMLModel",
      "state": {
       "layout": "IPY_MODEL_ce5ecc476ae847388f943a639ae5c14e",
       "style": "IPY_MODEL_1203620255fa48c0945e9455174242f0",
       "value": "<i>Wählen Sie die <ins>eine</ins> korrekte Antwort aus: </i>"
      }
     },
     "5d11b25f76ef4238ac793032cf6d0440": {
      "model_module": "@jupyter-widgets/controls",
      "model_module_version": "1.2.0",
      "model_name": "ButtonModel",
      "state": {
       "description": "Wunschsatz",
       "layout": "IPY_MODEL_6242e08ddee144f185507a417eb07eb4",
       "style": "IPY_MODEL_41746b98820040f88be9913229979042"
      }
     },
     "5d31923eb76d47ce955a0b5a714cdecc": {
      "model_module": "@jupyter-widgets/controls",
      "model_module_version": "1.2.0",
      "model_name": "ButtonStyleModel",
      "state": {
       "button_color": "lightgreen"
      }
     },
     "5d4f21068fc94d368af5f4546352cefa": {
      "model_module": "@jupyter-widgets/controls",
      "model_module_version": "1.2.0",
      "model_name": "ButtonStyleModel",
      "state": {}
     },
     "5d6e5edbdf5446e0809cd045025c08b0": {
      "model_module": "@jupyter-widgets/base",
      "model_module_version": "1.0.0",
      "model_name": "LayoutModel",
      "state": {
       "width": "600px"
      }
     },
     "5d9023460f20472783b3a89f6add46ff": {
      "model_module": "@jupyter-widgets/controls",
      "model_module_version": "1.2.0",
      "model_name": "DescriptionStyleModel",
      "state": {
       "description_width": ""
      }
     },
     "5db990bdb04f4ec68e4e0f7ec786f904": {
      "model_module": "@jupyter-widgets/controls",
      "model_module_version": "1.2.0",
      "model_name": "HTMLModel",
      "state": {
       "layout": "IPY_MODEL_5efa246905324aaeac576256eb5a47a9",
       "style": "IPY_MODEL_72b343b113774d52ad29f6a13fb0f6fd",
       "value": "<i>Wählen Sie die <ins>eine</ins> korrekte Antwort aus: </i>"
      }
     },
     "5dc14368b4a3466d925f2275d32fd903": {
      "model_module": "@jupyter-widgets/controls",
      "model_module_version": "1.2.0",
      "model_name": "HTMLModel",
      "state": {
       "layout": "IPY_MODEL_e2e6ab2cc1d44f6a9eb5ecdd9cb7ae45",
       "style": "IPY_MODEL_a21e00cb213d44d3b7e765d1ad9dfde4",
       "value": "<h4 style=\"font-size:14px;\">Wieso?</h4>"
      }
     },
     "5df99a20539342aeb3359d6b8db1d2e2": {
      "model_module": "@jupyter-widgets/base",
      "model_module_version": "1.0.0",
      "model_name": "LayoutModel",
      "state": {}
     },
     "5dfeb5f187dd4f1a8cb01fbd10b12e09": {
      "model_module": "@jupyter-widgets/controls",
      "model_module_version": "1.2.0",
      "model_name": "HTMLModel",
      "state": {
       "layout": "IPY_MODEL_6118df10c1a2438193eded0c619805bd",
       "style": "IPY_MODEL_13577249a80c49e399936a4264a996b1",
       "value": "<i>Wählen Sie die <ins>eine</ins> korrekte Antwort aus: </i>"
      }
     },
     "5e10d8bd5c6148db8d7362f6f81a7976": {
      "model_module": "@jupyter-widgets/controls",
      "model_module_version": "1.2.0",
      "model_name": "ButtonModel",
      "state": {
       "description": "ccomp",
       "layout": "IPY_MODEL_fc36b36706e5479fa3b0a674150a5e61",
       "style": "IPY_MODEL_210ea1b5e56d4c48b12495fe34e8bf59"
      }
     },
     "5e1cffa87fb946a0a1ec7ee1c7927d9f": {
      "model_module": "@jupyter-widgets/base",
      "model_module_version": "1.0.0",
      "model_name": "LayoutModel",
      "state": {}
     },
     "5e2c19d26e8a41e48c9e30c4284833c3": {
      "model_module": "@jupyter-widgets/controls",
      "model_module_version": "1.2.0",
      "model_name": "HTMLModel",
      "state": {
       "layout": "IPY_MODEL_8fffd58043a545b282bcef3076e49329",
       "style": "IPY_MODEL_5d9023460f20472783b3a89f6add46ff",
       "value": "<i>Wählen Sie die <ins>eine</ins> korrekte Antwort aus: </i>"
      }
     },
     "5e385e7e2f4e4e2980361ceee90a0fba": {
      "model_module": "@jupyter-widgets/base",
      "model_module_version": "1.0.0",
      "model_name": "LayoutModel",
      "state": {
       "width": "600px"
      }
     },
     "5e398b3a82c44d6e874dcf508f7dea3d": {
      "model_module": "@jupyter-widgets/controls",
      "model_module_version": "1.2.0",
      "model_name": "DescriptionStyleModel",
      "state": {
       "description_width": "initial"
      }
     },
     "5e4a687f1b4246a4a02afcdf54bc922f": {
      "model_module": "@jupyter-widgets/controls",
      "model_module_version": "1.2.0",
      "model_name": "ButtonStyleModel",
      "state": {}
     },
     "5e651e100c6e4eb59d5dc4db017ef319": {
      "model_module": "@jupyter-widgets/controls",
      "model_module_version": "1.2.0",
      "model_name": "DescriptionStyleModel",
      "state": {
       "description_width": ""
      }
     },
     "5e7b8f83cd054088828f9dd1fda1aa2e": {
      "model_module": "@jupyter-widgets/controls",
      "model_module_version": "1.2.0",
      "model_name": "DescriptionStyleModel",
      "state": {
       "description_width": ""
      }
     },
     "5e89803ff8c44d4f9a8d5da61f916c9a": {
      "model_module": "@jupyter-widgets/base",
      "model_module_version": "1.0.0",
      "model_name": "LayoutModel",
      "state": {
       "justify_content": "center"
      }
     },
     "5ed02ed7d7414f08bead3496b29b3f25": {
      "model_module": "@jupyter-widgets/controls",
      "model_module_version": "1.2.0",
      "model_name": "ButtonModel",
      "state": {
       "description": "Satz 1",
       "layout": "IPY_MODEL_9f930a0c73e24616a5cbd816f07abbae",
       "style": "IPY_MODEL_0b660bd62b6a42adac20a8743e5f0a84"
      }
     },
     "5ef20c19e9e5497084b2b756ca8f8ef7": {
      "model_module": "@jupyter-widgets/controls",
      "model_module_version": "1.2.0",
      "model_name": "ButtonModel",
      "state": {
       "description": "Korrekt?",
       "layout": "IPY_MODEL_66a09d7453634c6e85296110728a5bea",
       "style": "IPY_MODEL_e199624773bc4bd7ad065288215a7004"
      }
     },
     "5ef74681239047ba935ae4cfcf9425a3": {
      "model_module": "@jupyter-widgets/base",
      "model_module_version": "1.0.0",
      "model_name": "LayoutModel",
      "state": {
       "width": "600px"
      }
     },
     "5efa246905324aaeac576256eb5a47a9": {
      "model_module": "@jupyter-widgets/base",
      "model_module_version": "1.0.0",
      "model_name": "LayoutModel",
      "state": {
       "justify_content": "center"
      }
     },
     "5f102288be1f405f95183e2956c6e799": {
      "model_module": "@jupyter-widgets/base",
      "model_module_version": "1.0.0",
      "model_name": "LayoutModel",
      "state": {}
     },
     "603770bc81bd4e19b51c09130cb9a56d": {
      "model_module": "@jupyter-widgets/controls",
      "model_module_version": "1.2.0",
      "model_name": "DescriptionStyleModel",
      "state": {
       "description_width": ""
      }
     },
     "609d9067b2c042a382995b1cd321e099": {
      "model_module": "@jupyter-widgets/controls",
      "model_module_version": "1.2.0",
      "model_name": "CheckboxModel",
      "state": {
       "description": "Weihnachten",
       "disabled": false,
       "layout": "IPY_MODEL_13c49889814143b1b96b973a6eb5774f",
       "style": "IPY_MODEL_db86a67f7bb649f384473afbbe70bd77",
       "value": true
      }
     },
     "60b9c27295f0480aad9d9e163da2872e": {
      "model_module": "@jupyter-widgets/controls",
      "model_module_version": "1.2.0",
      "model_name": "DescriptionStyleModel",
      "state": {
       "description_width": "initial"
      }
     },
     "60bdf53f58cf48fd9b96aacaf8da6303": {
      "model_module": "@jupyter-widgets/controls",
      "model_module_version": "1.2.0",
      "model_name": "DescriptionStyleModel",
      "state": {
       "description_width": "initial"
      }
     },
     "60cb0fd7df354de2a6b241a151319862": {
      "model_module": "@jupyter-widgets/base",
      "model_module_version": "1.0.0",
      "model_name": "LayoutModel",
      "state": {}
     },
     "60e01a4ede8a4e22b49decef6fe02eba": {
      "model_module": "@jupyter-widgets/controls",
      "model_module_version": "1.2.0",
      "model_name": "ButtonStyleModel",
      "state": {
       "button_color": "lightgreen"
      }
     },
     "6118df10c1a2438193eded0c619805bd": {
      "model_module": "@jupyter-widgets/base",
      "model_module_version": "1.0.0",
      "model_name": "LayoutModel",
      "state": {
       "justify_content": "center"
      }
     },
     "6180f66d35a24a988cfeb6e92409070c": {
      "model_module": "@jupyter-widgets/controls",
      "model_module_version": "1.2.0",
      "model_name": "DescriptionStyleModel",
      "state": {
       "description_width": ""
      }
     },
     "618b2fe24b9b4bcf84c5c539174fed76": {
      "model_module": "@jupyter-widgets/controls",
      "model_module_version": "1.2.0",
      "model_name": "HBoxModel",
      "state": {
       "children": [
        "IPY_MODEL_7b4e10dbd3c14f4fad8bdb70d7bfc971",
        "IPY_MODEL_9e2a372a652149409778532745be09ec"
       ],
       "layout": "IPY_MODEL_fb1d101534954142b727306fac3fc16e"
      }
     },
     "61972a2e427049ab85a64bda4b9199d7": {
      "model_module": "@jupyter-widgets/base",
      "model_module_version": "1.0.0",
      "model_name": "LayoutModel",
      "state": {
       "width": "600px"
      }
     },
     "61f64cf891d04c11b026e46e0dea1c3d": {
      "model_module": "@jupyter-widgets/base",
      "model_module_version": "1.0.0",
      "model_name": "LayoutModel",
      "state": {}
     },
     "6242e08ddee144f185507a417eb07eb4": {
      "model_module": "@jupyter-widgets/base",
      "model_module_version": "1.0.0",
      "model_name": "LayoutModel",
      "state": {
       "width": "250px"
      }
     },
     "62cf824fcb9049b3b5eb8f90f024bb4f": {
      "model_module": "@jupyter-widgets/base",
      "model_module_version": "1.0.0",
      "model_name": "LayoutModel",
      "state": {
       "width": "250px"
      }
     },
     "62e367fb594a4590a4cca07925da893c": {
      "model_module": "@jupyter-widgets/controls",
      "model_module_version": "1.2.0",
      "model_name": "VBoxModel",
      "state": {
       "children": [
        "IPY_MODEL_d68e6b92e3104bfdb9d177af423133e4",
        "IPY_MODEL_1935401ebb3943ecab78629965af27fd",
        "IPY_MODEL_76674efdad39458dad0682d090080468",
        "IPY_MODEL_e1a79fc933fc4dc09577380ec10dc176"
       ],
       "layout": "IPY_MODEL_9ad0d18428d84a28a71b1d2cf19f961b"
      }
     },
     "631a52aada0a4ccf925566f721f44bd5": {
      "model_module": "@jupyter-widgets/base",
      "model_module_version": "1.0.0",
      "model_name": "LayoutModel",
      "state": {}
     },
     "632bff0db4664019ad73d4522e271007": {
      "model_module": "@jupyter-widgets/base",
      "model_module_version": "1.0.0",
      "model_name": "LayoutModel",
      "state": {}
     },
     "635a0b0c81d24a76a20284c1e4f45165": {
      "model_module": "@jupyter-widgets/controls",
      "model_module_version": "1.2.0",
      "model_name": "HTMLModel",
      "state": {
       "layout": "IPY_MODEL_5e89803ff8c44d4f9a8d5da61f916c9a",
       "style": "IPY_MODEL_a57e331677d844cbaf34a60bddf5333d",
       "value": "<i>Markieren Sie <ins>alle</ins> passenden Antworten: </i>"
      }
     },
     "636db7a776ed4f2f8e79497f4eb035b8": {
      "model_module": "@jupyter-widgets/controls",
      "model_module_version": "1.2.0",
      "model_name": "CheckboxModel",
      "state": {
       "description": "sein",
       "disabled": false,
       "layout": "IPY_MODEL_c183394eb1c141a99d73f99899437009",
       "style": "IPY_MODEL_d9ec6fc996f6423b803ba4ea58d9a6e3",
       "value": false
      }
     },
     "639318a36fe649f7bade1491e38c4c54": {
      "model_module": "@jupyter-widgets/base",
      "model_module_version": "1.0.0",
      "model_name": "LayoutModel",
      "state": {
       "width": "250px"
      }
     },
     "63d268d31eaa46d594a900157b34b598": {
      "model_module": "@jupyter-widgets/controls",
      "model_module_version": "1.2.0",
      "model_name": "HTMLModel",
      "state": {
       "layout": "IPY_MODEL_3a6c745714974cc286fd26f19e0d3967",
       "style": "IPY_MODEL_95de7ec8a2784323a9d2afa3245a2bfe",
       "value": "<h4 style=\"font-size:14px;\">'Die (markierte) Abfolge ›Subjekt vor Akkusativobjekt vor Dativobjekt‹ für nominale Satzglieder ist nur möglich, wenn bestimmte Bedingungen erfüllt sind (insbesondere Thema vor Rhema).'</h4>"
      }
     },
     "645bea2098d14cb989725aff8841f7b9": {
      "model_module": "@jupyter-widgets/controls",
      "model_module_version": "1.2.0",
      "model_name": "VBoxModel",
      "state": {
       "children": [
        "IPY_MODEL_c4c8849300c340e4837316de91bd929a",
        "IPY_MODEL_129522079e3249e9b67f91bad850be0e",
        "IPY_MODEL_7c4a56c63b1541deae5f5c29802ab7e2",
        "IPY_MODEL_5bd2c5cc7eeb4919844802d7ffdcc9a4"
       ],
       "layout": "IPY_MODEL_60cb0fd7df354de2a6b241a151319862"
      }
     },
     "6462e2d2408e43e7b8008dadab85c959": {
      "model_module": "@jupyter-widgets/controls",
      "model_module_version": "1.2.0",
      "model_name": "ButtonModel",
      "state": {
       "description": "Korrekt?",
       "layout": "IPY_MODEL_10629495bf1f40c59643e2337f3e66e0",
       "style": "IPY_MODEL_bfd538b79b344316964e2e82f8c9a549"
      }
     },
     "6477d8ccb46b4155818cf3aba6001319": {
      "model_module": "@jupyter-widgets/controls",
      "model_module_version": "1.2.0",
      "model_name": "HBoxModel",
      "state": {
       "children": [
        "IPY_MODEL_a7df49a2f7654bbcb8ffeb9adf129ca2",
        "IPY_MODEL_9badcb8ef5d545dfa7ed1d47504395d9"
       ],
       "layout": "IPY_MODEL_371313d9984d4caabc736150c9f3a7ca"
      }
     },
     "64d4c7b46d344dbd915f6bcd76dc8f2b": {
      "model_module": "@jupyter-widgets/base",
      "model_module_version": "1.0.0",
      "model_name": "LayoutModel",
      "state": {
       "width": "250px"
      }
     },
     "64ddb4a970964017a63cd2a829a90bc1": {
      "model_module": "@jupyter-widgets/base",
      "model_module_version": "1.0.0",
      "model_name": "LayoutModel",
      "state": {
       "width": "250px"
      }
     },
     "650727d7384e4426a5fbd94e270eeb2b": {
      "model_module": "@jupyter-widgets/base",
      "model_module_version": "1.0.0",
      "model_name": "LayoutModel",
      "state": {}
     },
     "65340d0630a1491eb5b941826a3d7597": {
      "model_module": "@jupyter-widgets/base",
      "model_module_version": "1.0.0",
      "model_name": "LayoutModel",
      "state": {
       "width": "250px"
      }
     },
     "6565e0c5e74a4f678280c11825dacb48": {
      "model_module": "@jupyter-widgets/controls",
      "model_module_version": "1.2.0",
      "model_name": "DescriptionStyleModel",
      "state": {
       "description_width": "initial"
      }
     },
     "6578c9570fbc4a16972d201dbdfb2d8b": {
      "model_module": "@jupyter-widgets/base",
      "model_module_version": "1.0.0",
      "model_name": "LayoutModel",
      "state": {
       "justify_content": "center"
      }
     },
     "657dd2a30e064f698adeab60c41b9b6c": {
      "model_module": "@jupyter-widgets/base",
      "model_module_version": "1.0.0",
      "model_name": "LayoutModel",
      "state": {
       "width": "500px"
      }
     },
     "65b0e839fef748dd94ab75bd4726530d": {
      "model_module": "@jupyter-widgets/base",
      "model_module_version": "1.0.0",
      "model_name": "LayoutModel",
      "state": {
       "width": "600px"
      }
     },
     "661377553e4e4c25804d369f19d5b348": {
      "model_module": "@jupyter-widgets/base",
      "model_module_version": "1.0.0",
      "model_name": "LayoutModel",
      "state": {
       "width": "250px"
      }
     },
     "6638ec26d9f94cde911f5e0ca44dc37f": {
      "model_module": "@jupyter-widgets/base",
      "model_module_version": "1.0.0",
      "model_name": "LayoutModel",
      "state": {}
     },
     "669bc28c33d14387ac53ccaf554a3c76": {
      "model_module": "@jupyter-widgets/controls",
      "model_module_version": "1.2.0",
      "model_name": "DescriptionStyleModel",
      "state": {
       "description_width": "initial"
      }
     },
     "66a09d7453634c6e85296110728a5bea": {
      "model_module": "@jupyter-widgets/base",
      "model_module_version": "1.0.0",
      "model_name": "LayoutModel",
      "state": {
       "width": "250px"
      }
     },
     "66a1e5638cdb4bba8d27c0053ad126b3": {
      "model_module": "@jupyter-widgets/controls",
      "model_module_version": "1.2.0",
      "model_name": "HTMLModel",
      "state": {
       "layout": "IPY_MODEL_17a31225b31c4ae99c74d8ce9c9b3440",
       "style": "IPY_MODEL_9dbed9dae5354cf79da69d9ea410b6b7",
       "value": "<i>Wählen Sie die <ins>eine</ins> korrekte Antwort aus: </i>"
      }
     },
     "66dfdf462bf644dca473a059f68bd082": {
      "model_module": "@jupyter-widgets/controls",
      "model_module_version": "1.2.0",
      "model_name": "VBoxModel",
      "state": {
       "children": [
        "IPY_MODEL_2c35c7a7b0064f0d9951a2245d9a2923",
        "IPY_MODEL_c7e6d5bd0dd940ce9840d56aef539e33",
        "IPY_MODEL_3753a4d7df6a4b2987456a51901a14b5",
        "IPY_MODEL_0ae138033b9e4d7280f182d40e61a9ed"
       ],
       "layout": "IPY_MODEL_51eeb47642f74c8cb9c58e34fa7e5ff3"
      }
     },
     "66e3de6af99e49ee888434c69bc10eea": {
      "model_module": "@jupyter-widgets/base",
      "model_module_version": "1.0.0",
      "model_name": "LayoutModel",
      "state": {}
     },
     "67180c0b8f274d3d871b3fa93b56bcff": {
      "model_module": "@jupyter-widgets/controls",
      "model_module_version": "1.2.0",
      "model_name": "ButtonStyleModel",
      "state": {}
     },
     "6736508ccc1d43ff97250074854cb924": {
      "model_module": "@jupyter-widgets/controls",
      "model_module_version": "1.2.0",
      "model_name": "VBoxModel",
      "state": {
       "children": [
        "IPY_MODEL_80f740da19944e0283fd7a67600b274c",
        "IPY_MODEL_183a864136b7477e80d237422a252abb",
        "IPY_MODEL_0e582f55f013485fb1fda0ff657a2080",
        "IPY_MODEL_5d0152254dff46699a4d952ea1134cfc",
        "IPY_MODEL_df9f5e1b9665419682ef834f08b85bf4",
        "IPY_MODEL_ba84ba4060d247788249deaa6ba39c93",
        "IPY_MODEL_31a2721f60404cb8b8406662f8e1826e",
        "IPY_MODEL_1813fa40f5044b1b8ff789e1e8e66942",
        "IPY_MODEL_426e72917f9c4fc09f04295bf67f66df"
       ],
       "layout": "IPY_MODEL_d3a21173a77e4c229189b6e3390fdbdc"
      }
     },
     "679f01fa6bee4a9389f2e3b519093486": {
      "model_module": "@jupyter-widgets/controls",
      "model_module_version": "1.2.0",
      "model_name": "CheckboxModel",
      "state": {
       "description": "hat",
       "disabled": false,
       "layout": "IPY_MODEL_c8927b53e8a94473b5413a1a982322b5",
       "style": "IPY_MODEL_19fae9d2ebcf41e9a1a16cda76f401a9",
       "value": false
      }
     },
     "67e18f07577d4867a38952968ddc3d3e": {
      "model_module": "@jupyter-widgets/controls",
      "model_module_version": "1.2.0",
      "model_name": "DescriptionStyleModel",
      "state": {
       "description_width": ""
      }
     },
     "6854ba638f4f44cd8c301e8964a1a182": {
      "model_module": "@jupyter-widgets/base",
      "model_module_version": "1.0.0",
      "model_name": "LayoutModel",
      "state": {
       "width": "250px"
      }
     },
     "685f12ef19534b97b3027d4214dece90": {
      "model_module": "@jupyter-widgets/controls",
      "model_module_version": "1.2.0",
      "model_name": "DescriptionStyleModel",
      "state": {
       "description_width": ""
      }
     },
     "687b4d6dc95b4379a61b4b1539da85a6": {
      "model_module": "@jupyter-widgets/base",
      "model_module_version": "1.0.0",
      "model_name": "LayoutModel",
      "state": {}
     },
     "68dfd0d2d93b4195b0d07d2d170b44ba": {
      "model_module": "@jupyter-widgets/base",
      "model_module_version": "1.0.0",
      "model_name": "LayoutModel",
      "state": {
       "width": "250px"
      }
     },
     "6910a7e4144047c7a3a0fae06e6b87a0": {
      "model_module": "@jupyter-widgets/base",
      "model_module_version": "1.0.0",
      "model_name": "LayoutModel",
      "state": {
       "width": "250px"
      }
     },
     "69321f17cc6a46b0b3acd9102e5e00a2": {
      "model_module": "@jupyter-widgets/controls",
      "model_module_version": "1.2.0",
      "model_name": "CheckboxModel",
      "state": {
       "description": "adnominaler Substantivsatz: <i>die Frage, wie ... </i>",
       "disabled": false,
       "layout": "IPY_MODEL_fb999bd261d340cca6c6f48404c2f5d3",
       "style": "IPY_MODEL_f343064031764eb6983440bd6eae0132",
       "value": false
      }
     },
     "69354294dab94882806bd5e82828ace5": {
      "model_module": "@jupyter-widgets/controls",
      "model_module_version": "1.2.0",
      "model_name": "ButtonModel",
      "state": {
       "description": "Satz 1",
       "layout": "IPY_MODEL_e9c86334d03a4ce99b2a27586939b6ce",
       "style": "IPY_MODEL_a5995a8e73994855b0126d737c93c081"
      }
     },
     "697ce3205d974bd3a539fa3b6df6b257": {
      "model_module": "@jupyter-widgets/controls",
      "model_module_version": "1.2.0",
      "model_name": "HTMLModel",
      "state": {
       "layout": "IPY_MODEL_764ee276095944829a93d9d5221ba79a",
       "style": "IPY_MODEL_4b8e321e22da4125bb223549efe24a82",
       "value": "<i>Wählen Sie die <ins>eine</ins> korrekte Antwort aus: </i>"
      }
     },
     "69c10aec36e1473aa2cb0ddf1fab3f5b": {
      "model_module": "@jupyter-widgets/base",
      "model_module_version": "1.0.0",
      "model_name": "LayoutModel",
      "state": {}
     },
     "6a1c332a1ce647f0b51646ad9f14b4a2": {
      "model_module": "@jupyter-widgets/base",
      "model_module_version": "1.0.0",
      "model_name": "LayoutModel",
      "state": {}
     },
     "6a49e10ae14c4d5daf164ed23918b327": {
      "model_module": "@jupyter-widgets/controls",
      "model_module_version": "1.2.0",
      "model_name": "ButtonModel",
      "state": {
       "description": "Subjektkontrolle",
       "layout": "IPY_MODEL_b1c56f10b23d49e1b0e6fdde79185019",
       "style": "IPY_MODEL_0dc301fad76543c99704100e02db7cac"
      }
     },
     "6a915e186363449a9fb41ffde1829dd3": {
      "model_module": "@jupyter-widgets/base",
      "model_module_version": "1.0.0",
      "model_name": "LayoutModel",
      "state": {
       "width": "600px"
      }
     },
     "6acf3e2887714b7da702671de999b820": {
      "model_module": "@jupyter-widgets/base",
      "model_module_version": "1.0.0",
      "model_name": "LayoutModel",
      "state": {
       "justify_content": "center"
      }
     },
     "6afb1f7b9a064b27a4ce923e0d5cb0a6": {
      "model_module": "@jupyter-widgets/controls",
      "model_module_version": "1.2.0",
      "model_name": "DescriptionStyleModel",
      "state": {
       "description_width": ""
      }
     },
     "6b81060d0fd64d6293b8c72122af8702": {
      "model_module": "@jupyter-widgets/controls",
      "model_module_version": "1.2.0",
      "model_name": "DescriptionStyleModel",
      "state": {
       "description_width": ""
      }
     },
     "6b907dcc42a14f9f82f7839fe4513742": {
      "model_module": "@jupyter-widgets/controls",
      "model_module_version": "1.2.0",
      "model_name": "ButtonStyleModel",
      "state": {}
     },
     "6bdfab7fd4f94b2487cd6fddb237e02b": {
      "model_module": "@jupyter-widgets/controls",
      "model_module_version": "1.2.0",
      "model_name": "DescriptionStyleModel",
      "state": {
       "description_width": ""
      }
     },
     "6c1ed37a491f4a7e89e147ff878e2875": {
      "model_module": "@jupyter-widgets/controls",
      "model_module_version": "1.2.0",
      "model_name": "ButtonStyleModel",
      "state": {}
     },
     "6c2eebfbe0974f38849c0136b43946f3": {
      "model_module": "@jupyter-widgets/controls",
      "model_module_version": "1.2.0",
      "model_name": "HTMLModel",
      "state": {
       "layout": "IPY_MODEL_c9b67c9ec9ab48cc8a011ef190c07a58",
       "style": "IPY_MODEL_bae772c4e3f949438768eb0870fbe251",
       "value": "<i>Markieren Sie <ins>alle</ins> passenden Antworten: </i>"
      }
     },
     "6c462b5acbc142b8a93d0ac157b1ab0e": {
      "model_module": "@jupyter-widgets/base",
      "model_module_version": "1.0.0",
      "model_name": "LayoutModel",
      "state": {}
     },
     "6c671da462cd43bf82b5a2a32e2d503a": {
      "model_module": "@jupyter-widgets/controls",
      "model_module_version": "1.2.0",
      "model_name": "HBoxModel",
      "state": {
       "children": [
        "IPY_MODEL_5ed02ed7d7414f08bead3496b29b3f25",
        "IPY_MODEL_8b8d4666726e45b992a5842643cd1e89"
       ],
       "layout": "IPY_MODEL_54f8141511324bc18ed5318ed79542fb"
      }
     },
     "6c7c55cec1bd4b68817adeb565e9d198": {
      "model_module": "@jupyter-widgets/base",
      "model_module_version": "1.0.0",
      "model_name": "LayoutModel",
      "state": {
       "width": "250px"
      }
     },
     "6c9b5b0796dd4c2480fd0831ac69e130": {
      "model_module": "@jupyter-widgets/controls",
      "model_module_version": "1.2.0",
      "model_name": "HTMLModel",
      "state": {
       "layout": "IPY_MODEL_82d02db8e5be49e8a63a420ba02dc83a",
       "style": "IPY_MODEL_57a1118cc38f4ad19954fc3b92bf8438",
       "value": "<h4 style=\"font-size:14px;\">Welcher eingebettete Satztyp liegt vor?</h4>"
      }
     },
     "6cb9c80b186a4aad8eeba5f6045017f3": {
      "model_module": "@jupyter-widgets/controls",
      "model_module_version": "1.2.0",
      "model_name": "DescriptionStyleModel",
      "state": {
       "description_width": "initial"
      }
     },
     "6cd2d6189eed45e38db5e8c720798752": {
      "model_module": "@jupyter-widgets/controls",
      "model_module_version": "1.2.0",
      "model_name": "CheckboxModel",
      "state": {
       "description": "Satzschlusszeichen: Fragezeichen",
       "disabled": false,
       "layout": "IPY_MODEL_7e2964e4aa07446683d6656035f96511",
       "style": "IPY_MODEL_c4de0f22ef5b47f8adefb184966393b2",
       "value": false
      }
     },
     "6d0cb314c2874ebe81b9d491843b2fd1": {
      "model_module": "@jupyter-widgets/controls",
      "model_module_version": "1.2.0",
      "model_name": "CheckboxModel",
      "state": {
       "description": "schenkte",
       "disabled": false,
       "layout": "IPY_MODEL_f40ddb2127ac4de4b8c80995b31428c6",
       "style": "IPY_MODEL_9457a7be4b594b66bb6bf0fcde941f21",
       "value": false
      }
     },
     "6d74330bd0204818ac59d5d248884a8b": {
      "model_module": "@jupyter-widgets/controls",
      "model_module_version": "1.2.0",
      "model_name": "ButtonModel",
      "state": {
       "description": "subordiniert",
       "layout": "IPY_MODEL_dd4c6430b9f54c7e88129cad3710c1ab",
       "style": "IPY_MODEL_25ebe3721b134d72a13be031024691b5"
      }
     },
     "6d9ed942acdf4b9b89199e25c25b583c": {
      "model_module": "@jupyter-widgets/base",
      "model_module_version": "1.0.0",
      "model_name": "LayoutModel",
      "state": {}
     },
     "6e06ed7be02440e8b4a2121cd5baec8d": {
      "model_module": "@jupyter-widgets/base",
      "model_module_version": "1.0.0",
      "model_name": "LayoutModel",
      "state": {
       "width": "500px"
      }
     },
     "6e5ade779e2b4667a77c45db1fab5da7": {
      "model_module": "@jupyter-widgets/controls",
      "model_module_version": "1.2.0",
      "model_name": "DropdownModel",
      "state": {
       "_options_labels": [
        "Adverbialsatz",
        "Attributsatz",
        "Komplementsatz",
        "Matrixsatz"
       ],
       "description": "Antwort:",
       "index": 0,
       "layout": "IPY_MODEL_a49271e18ba5402d99a5708ddd135864",
       "style": "IPY_MODEL_fa62c5b6e0304be5b4200b6e16806527"
      }
     },
     "6e62246674e74f089343b6a4aa4d1ed1": {
      "model_module": "@jupyter-widgets/controls",
      "model_module_version": "1.2.0",
      "model_name": "CheckboxModel",
      "state": {
       "description": "Das Vorfeld ist unbesetzt.",
       "disabled": false,
       "layout": "IPY_MODEL_5aadede67d81483da9fa79f4f3168d62",
       "style": "IPY_MODEL_3100b75ff4294ec8b097592c6381d2f9",
       "value": false
      }
     },
     "6e99cf1b6eea45679af83b584d0955cd": {
      "model_module": "@jupyter-widgets/base",
      "model_module_version": "1.0.0",
      "model_name": "LayoutModel",
      "state": {
       "width": "600px"
      }
     },
     "6ed6b7c5edf54ce089faf4d89e2952f5": {
      "model_module": "@jupyter-widgets/base",
      "model_module_version": "1.0.0",
      "model_name": "LayoutModel",
      "state": {}
     },
     "6f09e44532484ad1b44247e9836623c8": {
      "model_module": "@jupyter-widgets/controls",
      "model_module_version": "1.2.0",
      "model_name": "CheckboxModel",
      "state": {
       "description": "Verbzweitstellung",
       "disabled": false,
       "layout": "IPY_MODEL_1c8ce7f343d84c92a96eb5ed922dae8d",
       "style": "IPY_MODEL_46eda967600840bb92f7ec401386abc9",
       "value": true
      }
     },
     "6f11a1da3d4042ec8ed15f0d476b8ab9": {
      "model_module": "@jupyter-widgets/controls",
      "model_module_version": "1.2.0",
      "model_name": "ButtonStyleModel",
      "state": {}
     },
     "6f48715cd245492e954faf10fd755c03": {
      "model_module": "@jupyter-widgets/base",
      "model_module_version": "1.0.0",
      "model_name": "LayoutModel",
      "state": {
       "width": "250px"
      }
     },
     "6f584f0645104dddb70c533da37dc800": {
      "model_module": "@jupyter-widgets/controls",
      "model_module_version": "1.2.0",
      "model_name": "ButtonStyleModel",
      "state": {}
     },
     "6f89f546eac44fce91dae8165fce2064": {
      "model_module": "@jupyter-widgets/base",
      "model_module_version": "1.0.0",
      "model_name": "LayoutModel",
      "state": {
       "width": "600px"
      }
     },
     "6fbfc83c88f14baf801122f5c14f390d": {
      "model_module": "@jupyter-widgets/base",
      "model_module_version": "1.0.0",
      "model_name": "LayoutModel",
      "state": {
       "width": "250px"
      }
     },
     "702e638d63c442d8865f9527cf1ee337": {
      "model_module": "@jupyter-widgets/controls",
      "model_module_version": "1.2.0",
      "model_name": "ButtonModel",
      "state": {
       "description": "Satz 3",
       "layout": "IPY_MODEL_6fbfc83c88f14baf801122f5c14f390d",
       "style": "IPY_MODEL_faf86aed8c304257aa4605def1853808"
      }
     },
     "70451fb8a86e4670accdb18f87456d27": {
      "model_module": "@jupyter-widgets/controls",
      "model_module_version": "1.2.0",
      "model_name": "ButtonModel",
      "state": {
       "description": "subordiniert",
       "layout": "IPY_MODEL_39aff271a8914ce985f7e1f7de50712f",
       "style": "IPY_MODEL_d699cce9149942b9bf0a20b25bdbc1a8"
      }
     },
     "7052ac01e1464b7aa8579fa071fa0164": {
      "model_module": "@jupyter-widgets/controls",
      "model_module_version": "1.2.0",
      "model_name": "ButtonStyleModel",
      "state": {
       "button_color": "lightgreen"
      }
     },
     "70a5d440f53c4514ad58cf893f3ca53a": {
      "model_module": "@jupyter-widgets/controls",
      "model_module_version": "1.2.0",
      "model_name": "ButtonModel",
      "state": {
       "description": "Der Nebensatz steht im Nachfeld.",
       "layout": "IPY_MODEL_e3ad96a2c4b243edb9765a018973e2dd",
       "style": "IPY_MODEL_9f2123766f87461d9800a22399df483e"
      }
     },
     "70d413542ca24414abaa937d679dc2ef": {
      "model_module": "@jupyter-widgets/controls",
      "model_module_version": "1.2.0",
      "model_name": "DescriptionStyleModel",
      "state": {
       "description_width": ""
      }
     },
     "70f06beed5ca4c33a33b30e7d8270925": {
      "model_module": "@jupyter-widgets/controls",
      "model_module_version": "1.2.0",
      "model_name": "ButtonStyleModel",
      "state": {}
     },
     "7129d28d92a94ef5a644d461b16333c8": {
      "model_module": "@jupyter-widgets/base",
      "model_module_version": "1.0.0",
      "model_name": "LayoutModel",
      "state": {}
     },
     "7158911f5c5e4c3295e571d27268d8d0": {
      "model_module": "@jupyter-widgets/controls",
      "model_module_version": "1.2.0",
      "model_name": "DescriptionStyleModel",
      "state": {
       "description_width": ""
      }
     },
     "716aaccdef784f58a4966226536cc2cf": {
      "model_module": "@jupyter-widgets/base",
      "model_module_version": "1.0.0",
      "model_name": "LayoutModel",
      "state": {
       "justify_content": "center"
      }
     },
     "716ffdc0e97243f79292a8a9c27b3447": {
      "model_module": "@jupyter-widgets/controls",
      "model_module_version": "1.2.0",
      "model_name": "VBoxModel",
      "state": {
       "children": [
        "IPY_MODEL_da431842caf947c08c50b9bd4c64343a",
        "IPY_MODEL_8f06af8f95144b97b3a6f5770f2db430",
        "IPY_MODEL_76c51059e56b47d5ba94566a05b62fe9",
        "IPY_MODEL_ad5cf4cf73e7454d8b07939165e6dfa1"
       ],
       "layout": "IPY_MODEL_19f547de2a9a4c178d4ff772c83c5abc"
      }
     },
     "7182a4d1852c449f9439db47991a062e": {
      "model_module": "@jupyter-widgets/controls",
      "model_module_version": "1.2.0",
      "model_name": "DescriptionStyleModel",
      "state": {
       "description_width": "initial"
      }
     },
     "71c2347ea0f846848191d5ae3869f0dd": {
      "model_module": "@jupyter-widgets/controls",
      "model_module_version": "1.2.0",
      "model_name": "HTMLModel",
      "state": {
       "layout": "IPY_MODEL_3f05d80dcdb347b59a40ad85cc90863f",
       "style": "IPY_MODEL_74671c66cfe94476afa2c8eda038cf3f",
       "value": "<h4 style=\"font-size:14px;\">Welche Satzteile sind Nebensätze?</h4>"
      }
     },
     "723e9b19f24848aeb10cb7c333598acb": {
      "model_module": "@jupyter-widgets/controls",
      "model_module_version": "1.2.0",
      "model_name": "CheckboxModel",
      "state": {
       "description": "heute",
       "disabled": false,
       "layout": "IPY_MODEL_211b129914694ae1b592c68284adc99d",
       "style": "IPY_MODEL_a086382ed0a44667808138e34ba61e6d",
       "value": false
      }
     },
     "72404698041b44f2bdfdd51a14b76762": {
      "model_module": "@jupyter-widgets/base",
      "model_module_version": "1.0.0",
      "model_name": "LayoutModel",
      "state": {
       "width": "600px"
      }
     },
     "7267770c9d9847efabb75925c39fbd57": {
      "model_module": "@jupyter-widgets/base",
      "model_module_version": "1.0.0",
      "model_name": "LayoutModel",
      "state": {
       "justify_content": "center"
      }
     },
     "726df3318aed4ce188fa3c4a0602becd": {
      "model_module": "@jupyter-widgets/base",
      "model_module_version": "1.0.0",
      "model_name": "LayoutModel",
      "state": {}
     },
     "72b343b113774d52ad29f6a13fb0f6fd": {
      "model_module": "@jupyter-widgets/controls",
      "model_module_version": "1.2.0",
      "model_name": "DescriptionStyleModel",
      "state": {
       "description_width": ""
      }
     },
     "72b749399ab4429db40aae79923728db": {
      "model_module": "@jupyter-widgets/controls",
      "model_module_version": "1.2.0",
      "model_name": "ButtonModel",
      "state": {
       "description": "Korrekt?",
       "layout": "IPY_MODEL_8ed1e7bd90bc400592eef2409047bab0",
       "style": "IPY_MODEL_60e01a4ede8a4e22b49decef6fe02eba"
      }
     },
     "72c57a7556954b43be77bb44f8293a6b": {
      "model_module": "@jupyter-widgets/controls",
      "model_module_version": "1.2.0",
      "model_name": "CheckboxModel",
      "state": {
       "description": "Vater",
       "disabled": false,
       "layout": "IPY_MODEL_dc7c482638c54f4bb61a59a6d93f75c2",
       "style": "IPY_MODEL_88520585309140d4a2728e4f3112be55",
       "value": false
      }
     },
     "72cb41ac68cb4046b1bbb0e8bd1e0628": {
      "model_module": "@jupyter-widgets/controls",
      "model_module_version": "1.2.0",
      "model_name": "HTMLModel",
      "state": {
       "layout": "IPY_MODEL_38bfb1e022014cb0be8ab270fce94310",
       "style": "IPY_MODEL_31600d1608a546068b64a6432f51eb3a",
       "value": "<i>Wählen Sie die <ins>eine</ins> korrekte Antwort aus: </i>"
      }
     },
     "72dbd8a5d8e242c2a94a2c235556a6be": {
      "model_module": "@jupyter-widgets/controls",
      "model_module_version": "1.2.0",
      "model_name": "HTMLModel",
      "state": {
       "layout": "IPY_MODEL_050ba3404c5646f9ae58e38e63616388",
       "style": "IPY_MODEL_88779864d8d64a9b94552bafa5321daf",
       "value": "<h4 style=\"font-size:14px;\">'Im unmarkierten Fall steht die Modalpartikel an der linken Peripherie des Mittelfelds (Wackernagel-Position).'</h4>"
      }
     },
     "7301b189cfbf49ffa604e8b660a3ee9e": {
      "model_module": "@jupyter-widgets/controls",
      "model_module_version": "1.2.0",
      "model_name": "VBoxModel",
      "state": {
       "children": [
        "IPY_MODEL_386bf3f275cc4dc0b796bdd70079cad5",
        "IPY_MODEL_6e62246674e74f089343b6a4aa4d1ed1",
        "IPY_MODEL_393c9cb3153445bbbebd61b19cbc426a",
        "IPY_MODEL_e556f58fc9334d84a77688820a159b56",
        "IPY_MODEL_c2742a674c3b40dda981d8900bbadbe4",
        "IPY_MODEL_8511a24b870e4e72a79774e1e167d4fa",
        "IPY_MODEL_f461728256b7413ca76e2f9dd275742f",
        "IPY_MODEL_3a4a28e45982487f91fd48bdca37b8ff",
        "IPY_MODEL_a198ec6be79f4d929c4f70e1fd923db5"
       ],
       "layout": "IPY_MODEL_4deed5a8e7964ca48e8bf4169910a2e4"
      }
     },
     "7369903513104f5fb55e0859f87eb7ca": {
      "model_module": "@jupyter-widgets/base",
      "model_module_version": "1.0.0",
      "model_name": "LayoutModel",
      "state": {
       "width": "250px"
      }
     },
     "7390a8ee80204f8a9a353132f937f480": {
      "model_module": "@jupyter-widgets/controls",
      "model_module_version": "1.2.0",
      "model_name": "ButtonStyleModel",
      "state": {}
     },
     "73a00501209349c6b5d04146e5d7753b": {
      "model_module": "@jupyter-widgets/controls",
      "model_module_version": "1.2.0",
      "model_name": "CheckboxModel",
      "state": {
       "description": "Satzschlusszeichen: Punkt",
       "disabled": false,
       "layout": "IPY_MODEL_a2f292da530a447798ed926d62b95ab8",
       "style": "IPY_MODEL_83615a4a85b64ec49dd6a0145bb592a2",
       "value": false
      }
     },
     "740096d2138245138b427df5931b9dad": {
      "model_module": "@jupyter-widgets/controls",
      "model_module_version": "1.2.0",
      "model_name": "ButtonStyleModel",
      "state": {}
     },
     "7408a44a5bcf4560ad2b67f7a1967942": {
      "model_module": "@jupyter-widgets/base",
      "model_module_version": "1.0.0",
      "model_name": "LayoutModel",
      "state": {
       "width": "600px"
      }
     },
     "7435266c6234485aa82612c92effa666": {
      "model_module": "@jupyter-widgets/controls",
      "model_module_version": "1.2.0",
      "model_name": "VBoxModel",
      "state": {
       "children": [
        "IPY_MODEL_d88c392de0e04afc9984ddabe80e752e",
        "IPY_MODEL_1b5722b3adca437b855c4a71015844dc",
        "IPY_MODEL_ce01d3c5e8754b49958b40370c8871a7",
        "IPY_MODEL_c34125aef8974ffab14dd158cb1ac589"
       ],
       "layout": "IPY_MODEL_57541145d04d41eca51caa57fcd219e4"
      }
     },
     "74671c66cfe94476afa2c8eda038cf3f": {
      "model_module": "@jupyter-widgets/controls",
      "model_module_version": "1.2.0",
      "model_name": "DescriptionStyleModel",
      "state": {
       "description_width": ""
      }
     },
     "74772bde9d7447c1abde868d38f3b077": {
      "model_module": "@jupyter-widgets/controls",
      "model_module_version": "1.2.0",
      "model_name": "DescriptionStyleModel",
      "state": {
       "description_width": "initial"
      }
     },
     "74803a4f01484364b5194e4d76dde62b": {
      "model_module": "@jupyter-widgets/base",
      "model_module_version": "1.0.0",
      "model_name": "LayoutModel",
      "state": {}
     },
     "74c104a449d049fc912cd78790a81284": {
      "model_module": "@jupyter-widgets/controls",
      "model_module_version": "1.2.0",
      "model_name": "VBoxModel",
      "state": {
       "children": [
        "IPY_MODEL_37e17ea7590945be85310ac8df69af00",
        "IPY_MODEL_b1ac36b6588441c3bf3001147b28bb3c",
        "IPY_MODEL_8dbc130adcb5409a8b314f0f733d3f30",
        "IPY_MODEL_23224253233b4f68a522711134739e4c",
        "IPY_MODEL_451256b0423144aab87d0aaa32135d4c",
        "IPY_MODEL_fb68e05e6f64421f868a3c15471e68b8",
        "IPY_MODEL_679f01fa6bee4a9389f2e3b519093486",
        "IPY_MODEL_723e9b19f24848aeb10cb7c333598acb",
        "IPY_MODEL_a2a311ed372448919b5e5e75bfcc52f5"
       ],
       "layout": "IPY_MODEL_30c0702bedc54437a62984825cf5d8d6"
      }
     },
     "74f37dca070b4ca698fc381afd78dd81": {
      "model_module": "@jupyter-widgets/controls",
      "model_module_version": "1.2.0",
      "model_name": "DescriptionStyleModel",
      "state": {
       "description_width": "initial"
      }
     },
     "7566861f4d8c4ec68c523bd0dc213974": {
      "model_module": "@jupyter-widgets/controls",
      "model_module_version": "1.2.0",
      "model_name": "DescriptionStyleModel",
      "state": {
       "description_width": "initial"
      }
     },
     "75a64d00fe094156888471d0597067b6": {
      "model_module": "@jupyter-widgets/base",
      "model_module_version": "1.0.0",
      "model_name": "LayoutModel",
      "state": {
       "justify_content": "center"
      }
     },
     "764ecd5fb91a4548b2fce32db31f5f23": {
      "model_module": "@jupyter-widgets/base",
      "model_module_version": "1.0.0",
      "model_name": "LayoutModel",
      "state": {}
     },
     "764ee276095944829a93d9d5221ba79a": {
      "model_module": "@jupyter-widgets/base",
      "model_module_version": "1.0.0",
      "model_name": "LayoutModel",
      "state": {
       "justify_content": "center"
      }
     },
     "76674efdad39458dad0682d090080468": {
      "model_module": "@jupyter-widgets/controls",
      "model_module_version": "1.2.0",
      "model_name": "DropdownModel",
      "state": {
       "_options_labels": [
        "Adverbialsatz",
        "Attributsatz",
        "Komplementsatz",
        "Matrixsatz",
        "Satz mit komplexer VP"
       ],
       "description": "Antwort:",
       "index": 0,
       "layout": "IPY_MODEL_2fdc3a337147429bb3e80d817547bc6c",
       "style": "IPY_MODEL_fb5916b28ad04462ba466967d9e72880"
      }
     },
     "767c091b487a4401acf7c10547f69576": {
      "model_module": "@jupyter-widgets/base",
      "model_module_version": "1.0.0",
      "model_name": "LayoutModel",
      "state": {}
     },
     "76989c9eafd44832819fe08120d99bba": {
      "model_module": "@jupyter-widgets/controls",
      "model_module_version": "1.2.0",
      "model_name": "HTMLModel",
      "state": {
       "layout": "IPY_MODEL_75a64d00fe094156888471d0597067b6",
       "style": "IPY_MODEL_c7b20078e4cd4c85bb1d04b12681ece3",
       "value": "<i>Wählen Sie die <ins>eine</ins> korrekte Antwort aus: </i>"
      }
     },
     "76b1f90cade24d98ac6777a5696bc7d9": {
      "model_module": "@jupyter-widgets/controls",
      "model_module_version": "1.2.0",
      "model_name": "DescriptionStyleModel",
      "state": {
       "description_width": ""
      }
     },
     "76c51059e56b47d5ba94566a05b62fe9": {
      "model_module": "@jupyter-widgets/controls",
      "model_module_version": "1.2.0",
      "model_name": "HBoxModel",
      "state": {
       "children": [
        "IPY_MODEL_186e6dc571ed4a3a8a72da401d7f0749",
        "IPY_MODEL_a95248b3b6694209a9f6e9658b9b4f22"
       ],
       "layout": "IPY_MODEL_6a1c332a1ce647f0b51646ad9f14b4a2"
      }
     },
     "77463d95fe6c456087c575eda4bc1a38": {
      "model_module": "@jupyter-widgets/controls",
      "model_module_version": "1.2.0",
      "model_name": "DescriptionStyleModel",
      "state": {
       "description_width": "initial"
      }
     },
     "775c215106c1467b870dc75c822ab754": {
      "model_module": "@jupyter-widgets/controls",
      "model_module_version": "1.2.0",
      "model_name": "VBoxModel",
      "state": {
       "children": [
        "IPY_MODEL_adc954e5e1b7442ebb85f118ab1e590b",
        "IPY_MODEL_f06c444c0f934903b310cda3710c3043",
        "IPY_MODEL_569890c6abdc4be799bf23c2fa10bca5",
        "IPY_MODEL_d4141b8067b24ba7aabc3aa2e811965f",
        "IPY_MODEL_cfbc0b2df376472c99879088eedd9a7f",
        "IPY_MODEL_84576367695c4459805b6244408d54ba",
        "IPY_MODEL_5cc6b0884b32491498b59d2ec4e19d74",
        "IPY_MODEL_532f85ecfb9f4d598df05b261a0157b3"
       ],
       "layout": "IPY_MODEL_b8c150b6bd05465491f13eaa005b29c4"
      }
     },
     "77da62a3cda645249be97a0fcd841bc9": {
      "model_module": "@jupyter-widgets/controls",
      "model_module_version": "1.2.0",
      "model_name": "ButtonModel",
      "state": {
       "description": "Korrekt?",
       "layout": "IPY_MODEL_c6e4afc4654d4e02878345fe080b0331",
       "style": "IPY_MODEL_4baabc2b1481493e89175493d9233e05"
      }
     },
     "77e8432a6d5d4469bd8fb2fa79ed06aa": {
      "model_module": "@jupyter-widgets/base",
      "model_module_version": "1.0.0",
      "model_name": "LayoutModel",
      "state": {}
     },
     "77f49666bade42d5a77d4857002b95d1": {
      "model_module": "@jupyter-widgets/base",
      "model_module_version": "1.0.0",
      "model_name": "LayoutModel",
      "state": {
       "justify_content": "center"
      }
     },
     "78105502c376407ab21b4cfa9b3650e4": {
      "model_module": "@jupyter-widgets/base",
      "model_module_version": "1.0.0",
      "model_name": "LayoutModel",
      "state": {}
     },
     "7830443a36bc4873a9070f43e504b64a": {
      "model_module": "@jupyter-widgets/base",
      "model_module_version": "1.0.0",
      "model_name": "LayoutModel",
      "state": {}
     },
     "78f675dec06a44d1bbb4b4255105220c": {
      "model_module": "@jupyter-widgets/controls",
      "model_module_version": "1.2.0",
      "model_name": "DescriptionStyleModel",
      "state": {
       "description_width": ""
      }
     },
     "78feabc83f334fb9822507ea517f43e5": {
      "model_module": "@jupyter-widgets/controls",
      "model_module_version": "1.2.0",
      "model_name": "ButtonStyleModel",
      "state": {}
     },
     "7937ee79cf9c4c2896a653432b4d3559": {
      "model_module": "@jupyter-widgets/controls",
      "model_module_version": "1.2.0",
      "model_name": "HTMLModel",
      "state": {
       "layout": "IPY_MODEL_20072b68bbde4b45b960915877923aa5",
       "style": "IPY_MODEL_fa352627ab064a719c9affa421619830",
       "value": "<h4 style=\"font-size:14px;\">Welche Wörter sind Teil der linken Satzklammer?</h4>"
      }
     },
     "7968e946889742c1b59bdabf5c5c0cb1": {
      "model_module": "@jupyter-widgets/base",
      "model_module_version": "1.0.0",
      "model_name": "LayoutModel",
      "state": {
       "width": "600px"
      }
     },
     "7987f5b3cfc24fb79351389ef140faea": {
      "model_module": "@jupyter-widgets/controls",
      "model_module_version": "1.2.0",
      "model_name": "HTMLModel",
      "state": {
       "layout": "IPY_MODEL_808d480df65e4e698b15495fa5257c0f",
       "style": "IPY_MODEL_d2b125d7f7b94fed924cda7ea4214d5b",
       "value": "<i>Wählen Sie die <ins>eine</ins> korrekte Antwort aus: </i>"
      }
     },
     "799062b321854e52862a7775cc7d7db2": {
      "model_module": "@jupyter-widgets/controls",
      "model_module_version": "1.2.0",
      "model_name": "ButtonStyleModel",
      "state": {}
     },
     "79af9dcbe9784d40b8cdda0ca73a8bba": {
      "model_module": "@jupyter-widgets/controls",
      "model_module_version": "1.2.0",
      "model_name": "DescriptionStyleModel",
      "state": {
       "description_width": ""
      }
     },
     "79fa49efaab04924bd63d84e7aa027de": {
      "model_module": "@jupyter-widgets/controls",
      "model_module_version": "1.2.0",
      "model_name": "ButtonStyleModel",
      "state": {}
     },
     "7a53a5c3a12f470293b62aafa9704122": {
      "model_module": "@jupyter-widgets/controls",
      "model_module_version": "1.2.0",
      "model_name": "HBoxModel",
      "state": {
       "children": [
        "IPY_MODEL_35894842c5354013ad4f15e56568d0cc",
        "IPY_MODEL_efe0e875aa504984b3fda09bd1191563"
       ],
       "layout": "IPY_MODEL_632bff0db4664019ad73d4522e271007"
      }
     },
     "7a72d09f43e04f0cae9a6610b28a1253": {
      "model_module": "@jupyter-widgets/base",
      "model_module_version": "1.0.0",
      "model_name": "LayoutModel",
      "state": {
       "width": "600px"
      }
     },
     "7a7b57f175a545c181a090a5c4975c87": {
      "model_module": "@jupyter-widgets/base",
      "model_module_version": "1.0.0",
      "model_name": "LayoutModel",
      "state": {
       "width": "250px"
      }
     },
     "7aa252b886344ec6829f13dcb0d0af05": {
      "model_module": "@jupyter-widgets/base",
      "model_module_version": "1.0.0",
      "model_name": "LayoutModel",
      "state": {
       "width": "600px"
      }
     },
     "7aa2fb8ea248499a84cc23924ff7f683": {
      "model_module": "@jupyter-widgets/controls",
      "model_module_version": "1.2.0",
      "model_name": "VBoxModel",
      "state": {
       "children": [
        "IPY_MODEL_72dbd8a5d8e242c2a94a2c235556a6be",
        "IPY_MODEL_ac1da2f3202041e6b285cb9c23415616",
        "IPY_MODEL_6c671da462cd43bf82b5a2a32e2d503a",
        "IPY_MODEL_d642bfa7ae584e5c9619fc24b076d320"
       ],
       "layout": "IPY_MODEL_032ac1464bc04b5da1054eb80493a797"
      }
     },
     "7af564e4136348c6ad39dbce0831ad05": {
      "model_module": "@jupyter-widgets/controls",
      "model_module_version": "1.2.0",
      "model_name": "ButtonStyleModel",
      "state": {}
     },
     "7b3435e48c6b4d29b6da3ec80705579c": {
      "model_module": "@jupyter-widgets/base",
      "model_module_version": "1.0.0",
      "model_name": "LayoutModel",
      "state": {
       "width": "600px"
      }
     },
     "7b4a6c63f9d6493f8a0e8ce14fa9e2d9": {
      "model_module": "@jupyter-widgets/controls",
      "model_module_version": "1.2.0",
      "model_name": "VBoxModel",
      "state": {
       "children": [
        "IPY_MODEL_9ab5794d977b4da3b4506ff28b3f85fe",
        "IPY_MODEL_cace405389644461b6928564a5ba274e",
        "IPY_MODEL_55ff611e7dc8426e97d3facb6af74652",
        "IPY_MODEL_cd8a91c693924838806315da35db8011"
       ],
       "layout": "IPY_MODEL_2439ff9f1f974fee9677177d94a0feb7"
      }
     },
     "7b4e10dbd3c14f4fad8bdb70d7bfc971": {
      "model_module": "@jupyter-widgets/controls",
      "model_module_version": "1.2.0",
      "model_name": "ButtonModel",
      "state": {
       "description": "Satz 1",
       "layout": "IPY_MODEL_6910a7e4144047c7a3a0fae06e6b87a0",
       "style": "IPY_MODEL_0d023ae96fd34aa0a0bb2a4b002c5b59"
      }
     },
     "7bb085d8c73d428cb6c92a87b10d996e": {
      "model_module": "@jupyter-widgets/controls",
      "model_module_version": "1.2.0",
      "model_name": "CheckboxModel",
      "state": {
       "description": "Nachsatz",
       "disabled": false,
       "layout": "IPY_MODEL_3f71c618fcbd421facac9b3cabb78e7d",
       "style": "IPY_MODEL_bdfb161555b04229ba1cf855d9c75f15",
       "value": true
      }
     },
     "7bc8b0238b4642e1971418dd517bebfa": {
      "model_module": "@jupyter-widgets/base",
      "model_module_version": "1.0.0",
      "model_name": "LayoutModel",
      "state": {
       "width": "600px"
      }
     },
     "7bf8950346f048b5b9b250c1fc53c243": {
      "model_module": "@jupyter-widgets/base",
      "model_module_version": "1.0.0",
      "model_name": "LayoutModel",
      "state": {
       "width": "600px"
      }
     },
     "7c217902b78d47e28ee3946e080d143a": {
      "model_module": "@jupyter-widgets/controls",
      "model_module_version": "1.2.0",
      "model_name": "DescriptionStyleModel",
      "state": {
       "description_width": ""
      }
     },
     "7c4a56c63b1541deae5f5c29802ab7e2": {
      "model_module": "@jupyter-widgets/controls",
      "model_module_version": "1.2.0",
      "model_name": "DropdownModel",
      "state": {
       "_options_labels": [
        "Kausalsatz",
        "Keine der Alternativen",
        "Lokalsatz",
        "Modalsatz",
        "Objektsatz",
        "Relativsatz",
        "Subjektsatz",
        "Temporalsatz"
       ],
       "description": "Antwort:",
       "index": 0,
       "layout": "IPY_MODEL_f0ff90a4b80549bb9a2668ce55e52f84",
       "style": "IPY_MODEL_4218b4207397435bbc4c16ea55c41133"
      }
     },
     "7c607dfb17e2415994829ee8846b004f": {
      "model_module": "@jupyter-widgets/base",
      "model_module_version": "1.0.0",
      "model_name": "LayoutModel",
      "state": {
       "justify_content": "center"
      }
     },
     "7ca75b361cd347b39bb94527d1b47703": {
      "model_module": "@jupyter-widgets/controls",
      "model_module_version": "1.2.0",
      "model_name": "DescriptionStyleModel",
      "state": {
       "description_width": "initial"
      }
     },
     "7cb72f1c4d584322973447da40c83693": {
      "model_module": "@jupyter-widgets/controls",
      "model_module_version": "1.2.0",
      "model_name": "HTMLModel",
      "state": {
       "layout": "IPY_MODEL_821b8000f25f4123bc39ee192d6113c6",
       "style": "IPY_MODEL_09dac9c2764f4c03a54d04d6dd409fa7",
       "value": "<i>Markieren Sie <ins>alle</ins> passenden Antworten: </i>"
      }
     },
     "7cb97b47a38d4da8b9dfd2ae80c8b1e3": {
      "model_module": "@jupyter-widgets/controls",
      "model_module_version": "1.2.0",
      "model_name": "VBoxModel",
      "state": {
       "children": [
        "IPY_MODEL_d2fb25233c9947cea1db26a1eeffc50d",
        "IPY_MODEL_72c57a7556954b43be77bb44f8293a6b",
        "IPY_MODEL_4d999bfcd86a44c797c40cc32cdcf07d",
        "IPY_MODEL_b1c4fd35412046d082f0b16ad1aba068",
        "IPY_MODEL_c08ac434717f46e6a90e2fb0e3f53b70",
        "IPY_MODEL_b576c4752bbf4e8ebb52060f1718b302",
        "IPY_MODEL_636db7a776ed4f2f8e79497f4eb035b8",
        "IPY_MODEL_bb6b4ecec39c4282a3aa3604db4463e4"
       ],
       "layout": "IPY_MODEL_77e8432a6d5d4469bd8fb2fa79ed06aa"
      }
     },
     "7cf6691717814ecf853b1221a9feda08": {
      "model_module": "@jupyter-widgets/controls",
      "model_module_version": "1.2.0",
      "model_name": "DescriptionStyleModel",
      "state": {
       "description_width": "initial"
      }
     },
     "7cff1cc24af246d5872193c09f2123a1": {
      "model_module": "@jupyter-widgets/base",
      "model_module_version": "1.0.0",
      "model_name": "LayoutModel",
      "state": {
       "justify_content": "center"
      }
     },
     "7d1f9bdfa4434fdea8be452c7fbf756c": {
      "model_module": "@jupyter-widgets/base",
      "model_module_version": "1.0.0",
      "model_name": "LayoutModel",
      "state": {
       "width": "600px"
      }
     },
     "7db137da57a0411594d8c4375ac887fe": {
      "model_module": "@jupyter-widgets/controls",
      "model_module_version": "1.2.0",
      "model_name": "DescriptionStyleModel",
      "state": {
       "description_width": ""
      }
     },
     "7db3dda0d3384c5ab5c3403394e37011": {
      "model_module": "@jupyter-widgets/controls",
      "model_module_version": "1.2.0",
      "model_name": "DescriptionStyleModel",
      "state": {
       "description_width": ""
      }
     },
     "7dcf2e1bb9ea47b89e7ca850a86fc135": {
      "model_module": "@jupyter-widgets/controls",
      "model_module_version": "1.2.0",
      "model_name": "DescriptionStyleModel",
      "state": {
       "description_width": ""
      }
     },
     "7e2964e4aa07446683d6656035f96511": {
      "model_module": "@jupyter-widgets/base",
      "model_module_version": "1.0.0",
      "model_name": "LayoutModel",
      "state": {
       "width": "600px"
      }
     },
     "7eb2e92737af4eeaaeaec1428586a7b8": {
      "model_module": "@jupyter-widgets/base",
      "model_module_version": "1.0.0",
      "model_name": "LayoutModel",
      "state": {}
     },
     "7ec9ba75ceb947b3ba422a6e7617bd85": {
      "model_module": "@jupyter-widgets/controls",
      "model_module_version": "1.2.0",
      "model_name": "CheckboxModel",
      "state": {
       "description": "Modus: Indikativ",
       "disabled": false,
       "layout": "IPY_MODEL_92fa9f9832a142599c09112b069fb2e7",
       "style": "IPY_MODEL_1c83f68a5b2d41e4bee334bb01bfd297",
       "value": true
      }
     },
     "7f1e7ead9c98458c96816e7f9e33a99e": {
      "model_module": "@jupyter-widgets/base",
      "model_module_version": "1.0.0",
      "model_name": "LayoutModel",
      "state": {
       "width": "600px"
      }
     },
     "7f5d8480008f4fc8bae514fd1e758e7f": {
      "model_module": "@jupyter-widgets/controls",
      "model_module_version": "1.2.0",
      "model_name": "ButtonStyleModel",
      "state": {
       "button_color": "lightgreen"
      }
     },
     "7f90c38aa1a6454491fa56a3711bf560": {
      "model_module": "@jupyter-widgets/controls",
      "model_module_version": "1.2.0",
      "model_name": "ButtonModel",
      "state": {
       "description": "Adverb",
       "layout": "IPY_MODEL_7a7b57f175a545c181a090a5c4975c87",
       "style": "IPY_MODEL_900b1f8874884b179ec8e7ea40ff3d70"
      }
     },
     "7fef77f274054d0381258ea33a4e191e": {
      "model_module": "@jupyter-widgets/base",
      "model_module_version": "1.0.0",
      "model_name": "LayoutModel",
      "state": {
       "width": "600px"
      }
     },
     "7ff765fc91a84d8f9d8803a5351f95c2": {
      "model_module": "@jupyter-widgets/controls",
      "model_module_version": "1.2.0",
      "model_name": "DescriptionStyleModel",
      "state": {
       "description_width": "initial"
      }
     },
     "8083f5b19aba48f59498910c78b41910": {
      "model_module": "@jupyter-widgets/controls",
      "model_module_version": "1.2.0",
      "model_name": "DropdownModel",
      "state": {
       "_options_labels": [
        "Adverbialsatz",
        "Attributsatz",
        "Komplementsatz",
        "Matrixsatz"
       ],
       "description": "Antwort:",
       "index": 0,
       "layout": "IPY_MODEL_8b58c74e09804ea4a93d3b9c66ec8ef4",
       "style": "IPY_MODEL_78f675dec06a44d1bbb4b4255105220c"
      }
     },
     "808b169054774c958a8281cad6366c04": {
      "model_module": "@jupyter-widgets/controls",
      "model_module_version": "1.2.0",
      "model_name": "ButtonModel",
      "state": {
       "description": "subordiniert",
       "layout": "IPY_MODEL_52d8bbafaf424e84b5b6403b63aa48fd",
       "style": "IPY_MODEL_6c1ed37a491f4a7e89e147ff878e2875"
      }
     },
     "808d480df65e4e698b15495fa5257c0f": {
      "model_module": "@jupyter-widgets/base",
      "model_module_version": "1.0.0",
      "model_name": "LayoutModel",
      "state": {
       "justify_content": "center"
      }
     },
     "80c7ca0088cf4f05b956ee693f8603f9": {
      "model_module": "@jupyter-widgets/controls",
      "model_module_version": "1.2.0",
      "model_name": "HTMLModel",
      "state": {
       "layout": "IPY_MODEL_716aaccdef784f58a4966226536cc2cf",
       "style": "IPY_MODEL_fb92309801ae48faac60a7f0704caf82",
       "value": "<i>Wählen Sie die <ins>eine</ins> korrekte Antwort aus: </i>"
      }
     },
     "80f740da19944e0283fd7a67600b274c": {
      "model_module": "@jupyter-widgets/controls",
      "model_module_version": "1.2.0",
      "model_name": "CheckboxModel",
      "state": {
       "description": "Buch",
       "disabled": false,
       "layout": "IPY_MODEL_5e385e7e2f4e4e2980361ceee90a0fba",
       "style": "IPY_MODEL_14bbf310007a412d84bc14a3b76132ac",
       "value": true
      }
     },
     "8107d59922654368af8413be2dcbce49": {
      "model_module": "@jupyter-widgets/base",
      "model_module_version": "1.0.0",
      "model_name": "LayoutModel",
      "state": {}
     },
     "810b1d745872481d841737701ee1c8f5": {
      "model_module": "@jupyter-widgets/controls",
      "model_module_version": "1.2.0",
      "model_name": "ButtonStyleModel",
      "state": {}
     },
     "81266278a3f546f9a58282ce99ca5ca2": {
      "model_module": "@jupyter-widgets/controls",
      "model_module_version": "1.2.0",
      "model_name": "ButtonModel",
      "state": {
       "description": "Korrekt?",
       "layout": "IPY_MODEL_0785b26891a84ce4bef28c42d2f20699",
       "style": "IPY_MODEL_90d616ae2f5643c39dfe0f1e5623052c"
      }
     },
     "816c8c77511749eca90a7b32c5cb1102": {
      "model_module": "@jupyter-widgets/controls",
      "model_module_version": "1.2.0",
      "model_name": "DescriptionStyleModel",
      "state": {
       "description_width": ""
      }
     },
     "81888c3a79414e6cb8838e56667803d3": {
      "model_module": "@jupyter-widgets/controls",
      "model_module_version": "1.2.0",
      "model_name": "DescriptionStyleModel",
      "state": {
       "description_width": "initial"
      }
     },
     "81b65a99a3bb4912bcf5d1cfc07211cb": {
      "model_module": "@jupyter-widgets/controls",
      "model_module_version": "1.2.0",
      "model_name": "HTMLModel",
      "state": {
       "layout": "IPY_MODEL_01fa8d83f57a4caa9b57034da758aa03",
       "style": "IPY_MODEL_2b77fc7a5ed34a6fb9e352836a32dd6d",
       "value": "<i>Markieren Sie <ins>alle</ins> passenden Antworten: </i>"
      }
     },
     "81fb4ca06a2f42e6b8158d27030abcb4": {
      "model_module": "@jupyter-widgets/controls",
      "model_module_version": "1.2.0",
      "model_name": "DescriptionStyleModel",
      "state": {
       "description_width": ""
      }
     },
     "821b8000f25f4123bc39ee192d6113c6": {
      "model_module": "@jupyter-widgets/base",
      "model_module_version": "1.0.0",
      "model_name": "LayoutModel",
      "state": {
       "justify_content": "center"
      }
     },
     "824238d85ba745d78bd056a93e3012ee": {
      "model_module": "@jupyter-widgets/controls",
      "model_module_version": "1.2.0",
      "model_name": "DropdownModel",
      "state": {
       "_options_labels": [
        "Kausalsatz",
        "Keine der Alternativen",
        "Lokalsatz",
        "Modalsatz",
        "Objektsatz",
        "Relativsatz",
        "Subjektsatz",
        "Temporalsatz"
       ],
       "description": "Antwort:",
       "index": 0,
       "layout": "IPY_MODEL_23a703c6a5c34166ab3a2484238ed7a9",
       "style": "IPY_MODEL_a68e48d50dc64346a82799c0beed3ca2"
      }
     },
     "82520b1ecb9f48f594e23ef134b063c9": {
      "model_module": "@jupyter-widgets/controls",
      "model_module_version": "1.2.0",
      "model_name": "HTMLModel",
      "state": {
       "layout": "IPY_MODEL_8cd63e6d61be4772babaa70b7957222b",
       "style": "IPY_MODEL_fa66d39ddc02484b8ecf748012605277",
       "value": "<h4 style=\"font-size:14px;\">Um was für einen Satz handelt es sich syntaktisch bei <i>als sie ...</i>?</h4>"
      }
     },
     "82d02db8e5be49e8a63a420ba02dc83a": {
      "model_module": "@jupyter-widgets/base",
      "model_module_version": "1.0.0",
      "model_name": "LayoutModel",
      "state": {}
     },
     "83615a4a85b64ec49dd6a0145bb592a2": {
      "model_module": "@jupyter-widgets/controls",
      "model_module_version": "1.2.0",
      "model_name": "DescriptionStyleModel",
      "state": {
       "description_width": "initial"
      }
     },
     "83c681e3a3874833bdb351db4d881130": {
      "model_module": "@jupyter-widgets/controls",
      "model_module_version": "1.2.0",
      "model_name": "CheckboxModel",
      "state": {
       "description": "Nachsatz",
       "disabled": false,
       "layout": "IPY_MODEL_bd0c4164d04d4a1c9d1c384347e3f6e2",
       "style": "IPY_MODEL_59756952d1c04df58d5871fdb6eaa556",
       "value": false
      }
     },
     "841e3472cf494a0d86fbaaf98830d0b8": {
      "model_module": "@jupyter-widgets/controls",
      "model_module_version": "1.2.0",
      "model_name": "DescriptionStyleModel",
      "state": {
       "description_width": ""
      }
     },
     "84576367695c4459805b6244408d54ba": {
      "model_module": "@jupyter-widgets/controls",
      "model_module_version": "1.2.0",
      "model_name": "CheckboxModel",
      "state": {
       "description": "schenkte",
       "disabled": false,
       "layout": "IPY_MODEL_2653ab933a53470da6d3d5ba94da16a7",
       "style": "IPY_MODEL_c9c98977b9044c5ca003ccf7aac2706d",
       "value": false
      }
     },
     "84f63d91451e48e6a03ba7ddef51f243": {
      "model_module": "@jupyter-widgets/base",
      "model_module_version": "1.0.0",
      "model_name": "LayoutModel",
      "state": {}
     },
     "8511a24b870e4e72a79774e1e167d4fa": {
      "model_module": "@jupyter-widgets/controls",
      "model_module_version": "1.2.0",
      "model_name": "CheckboxModel",
      "state": {
       "description": "gelesen",
       "disabled": false,
       "layout": "IPY_MODEL_d0c9c0e263514c399c8400e450de314d",
       "style": "IPY_MODEL_f4a73277d14b4057bba0b03584396585",
       "value": false
      }
     },
     "852d91825617406b97b0867614bd1a9e": {
      "model_module": "@jupyter-widgets/controls",
      "model_module_version": "1.2.0",
      "model_name": "ButtonStyleModel",
      "state": {
       "button_color": "lightgreen"
      }
     },
     "8541dc71f850405ab7470cdfab5ca7ed": {
      "model_module": "@jupyter-widgets/base",
      "model_module_version": "1.0.0",
      "model_name": "LayoutModel",
      "state": {
       "width": "600px"
      }
     },
     "854ca6db9dc94e9d852e59cc8169e6e4": {
      "model_module": "@jupyter-widgets/controls",
      "model_module_version": "1.2.0",
      "model_name": "DescriptionStyleModel",
      "state": {
       "description_width": ""
      }
     },
     "8588a25ec2f941709bea0aa31b88c612": {
      "model_module": "@jupyter-widgets/controls",
      "model_module_version": "1.2.0",
      "model_name": "VBoxModel",
      "state": {
       "children": [
        "IPY_MODEL_01d3170c9600466fad69263d4d6f07bd",
        "IPY_MODEL_29b5bfbb2b07426a987e346a5bb9ce77",
        "IPY_MODEL_57efbf08aa1744c5bf51af6d1917c58b",
        "IPY_MODEL_b9d74c03ae054f829a9fa11e6ff9c825"
       ],
       "layout": "IPY_MODEL_173e88b9e1d04069a9ce5c6e06069ab9"
      }
     },
     "85947938c7e94bbcb871fb64109082e9": {
      "model_module": "@jupyter-widgets/controls",
      "model_module_version": "1.2.0",
      "model_name": "DropdownModel",
      "state": {
       "_options_labels": [
        "Finalsatz",
        "Kausalsatz",
        "Lokalsatz",
        "Modalsatz",
        "Relativsatz",
        "Temporalsatz"
       ],
       "description": "Antwort:",
       "index": 5,
       "layout": "IPY_MODEL_657dd2a30e064f698adeab60c41b9b6c",
       "style": "IPY_MODEL_ced112604cea478ba517c0b5d8ce6d78"
      }
     },
     "861ab073cc234d328665e606d0086786": {
      "model_module": "@jupyter-widgets/base",
      "model_module_version": "1.0.0",
      "model_name": "LayoutModel",
      "state": {}
     },
     "86427255364d4f08ba688c5be134f560": {
      "model_module": "@jupyter-widgets/controls",
      "model_module_version": "1.2.0",
      "model_name": "ButtonModel",
      "state": {
       "description": "Korrekt?",
       "layout": "IPY_MODEL_661377553e4e4c25804d369f19d5b348",
       "style": "IPY_MODEL_6f11a1da3d4042ec8ed15f0d476b8ab9"
      }
     },
     "866a58e894534746abd33747aef20588": {
      "model_module": "@jupyter-widgets/controls",
      "model_module_version": "1.2.0",
      "model_name": "DescriptionStyleModel",
      "state": {
       "description_width": ""
      }
     },
     "867575476b4748f2bd9b56b73a1e5bd0": {
      "model_module": "@jupyter-widgets/base",
      "model_module_version": "1.0.0",
      "model_name": "LayoutModel",
      "state": {
       "width": "250px"
      }
     },
     "86c4b85442694f4e92dc9f90cc1baae7": {
      "model_module": "@jupyter-widgets/controls",
      "model_module_version": "1.2.0",
      "model_name": "DescriptionStyleModel",
      "state": {
       "description_width": "initial"
      }
     },
     "86cda343ca5346b79031cfbbe3ae73c3": {
      "model_module": "@jupyter-widgets/controls",
      "model_module_version": "1.2.0",
      "model_name": "CheckboxModel",
      "state": {
       "description": "gelesen",
       "disabled": false,
       "layout": "IPY_MODEL_4ad3c24d26564c74bf75f5de9fb8b712",
       "style": "IPY_MODEL_c43f015aa11f4661bb9d7a6999fdb744",
       "value": false
      }
     },
     "86feb639ea064ab69719cd39f3d2ee8b": {
      "model_module": "@jupyter-widgets/controls",
      "model_module_version": "1.2.0",
      "model_name": "DescriptionStyleModel",
      "state": {
       "description_width": ""
      }
     },
     "870edb09d21e40879da16c2e24a1ec60": {
      "model_module": "@jupyter-widgets/controls",
      "model_module_version": "1.2.0",
      "model_name": "CheckboxModel",
      "state": {
       "description": "sein",
       "disabled": false,
       "layout": "IPY_MODEL_f307aa22a80749d195207534eb4ad0de",
       "style": "IPY_MODEL_34db72dfbb4a4a6bbb01d6c00504f963",
       "value": false
      }
     },
     "8744db7ab2834553ae8f5f647fe8f9ed": {
      "model_module": "@jupyter-widgets/controls",
      "model_module_version": "1.2.0",
      "model_name": "ButtonModel",
      "state": {
       "description": "Keine der anderen Möglichkeiten",
       "layout": "IPY_MODEL_9b7bfb0e21ee484eb269a9833bb0b44a",
       "style": "IPY_MODEL_8f81a60d69b74ccfae75a95ec224a094"
      }
     },
     "8766466e76e04055938e432e489c2466": {
      "model_module": "@jupyter-widgets/base",
      "model_module_version": "1.0.0",
      "model_name": "LayoutModel",
      "state": {
       "justify_content": "center"
      }
     },
     "876f32101927478b8071d6a5c8f76dfc": {
      "model_module": "@jupyter-widgets/base",
      "model_module_version": "1.0.0",
      "model_name": "LayoutModel",
      "state": {
       "justify_content": "center"
      }
     },
     "879ea412280c4b3bafd07823c945f6d6": {
      "model_module": "@jupyter-widgets/controls",
      "model_module_version": "1.2.0",
      "model_name": "ButtonStyleModel",
      "state": {}
     },
     "88520585309140d4a2728e4f3112be55": {
      "model_module": "@jupyter-widgets/controls",
      "model_module_version": "1.2.0",
      "model_name": "DescriptionStyleModel",
      "state": {
       "description_width": "initial"
      }
     },
     "88779864d8d64a9b94552bafa5321daf": {
      "model_module": "@jupyter-widgets/controls",
      "model_module_version": "1.2.0",
      "model_name": "DescriptionStyleModel",
      "state": {
       "description_width": ""
      }
     },
     "88d00e325a484ba1af13f7cf7e071cf6": {
      "model_module": "@jupyter-widgets/base",
      "model_module_version": "1.0.0",
      "model_name": "LayoutModel",
      "state": {}
     },
     "88db8bc335d2431fbf17694804549ebf": {
      "model_module": "@jupyter-widgets/controls",
      "model_module_version": "1.2.0",
      "model_name": "CheckboxModel",
      "state": {
       "description": "Das Vorfeld ist unbesetzt.",
       "disabled": false,
       "layout": "IPY_MODEL_2aa5f64d26f94242b2297c7090c067b9",
       "style": "IPY_MODEL_419fe160d9de4e95b1751970e61fc4c3",
       "value": true
      }
     },
     "88e3db27606f41088f728f9a77ea06ef": {
      "model_module": "@jupyter-widgets/controls",
      "model_module_version": "1.2.0",
      "model_name": "HTMLModel",
      "state": {
       "layout": "IPY_MODEL_897d0db537404515bfa4ce3eabd6ecda",
       "style": "IPY_MODEL_5e651e100c6e4eb59d5dc4db017ef319",
       "value": "<h4 style=\"font-size:14px;\">Welche Wörter stehen im Mittelfeld?</h4>"
      }
     },
     "892c7b5b5be44c7dafd0b404f6f79f25": {
      "model_module": "@jupyter-widgets/controls",
      "model_module_version": "1.2.0",
      "model_name": "DescriptionStyleModel",
      "state": {
       "description_width": "initial"
      }
     },
     "897d0db537404515bfa4ce3eabd6ecda": {
      "model_module": "@jupyter-widgets/base",
      "model_module_version": "1.0.0",
      "model_name": "LayoutModel",
      "state": {}
     },
     "89b6cb77d82d4511b7b3037015e255c2": {
      "model_module": "@jupyter-widgets/base",
      "model_module_version": "1.0.0",
      "model_name": "LayoutModel",
      "state": {}
     },
     "89c9008cd45c4316bbee23495f63f150": {
      "model_module": "@jupyter-widgets/controls",
      "model_module_version": "1.2.0",
      "model_name": "DescriptionStyleModel",
      "state": {
       "description_width": ""
      }
     },
     "89d36e76dc304063944dad33aebe303e": {
      "model_module": "@jupyter-widgets/controls",
      "model_module_version": "1.2.0",
      "model_name": "HBoxModel",
      "state": {
       "children": [
        "IPY_MODEL_cf481d362c9d43e289e996f58d07edbd",
        "IPY_MODEL_f6ef78b6742741e28bf450d2a04b4acf"
       ],
       "layout": "IPY_MODEL_2f2ba4e1efe34a01b64db4c2a916f49c"
      }
     },
     "8a79ee687d7b49119cee1c1d788ac8b0": {
      "model_module": "@jupyter-widgets/base",
      "model_module_version": "1.0.0",
      "model_name": "LayoutModel",
      "state": {
       "width": "600px"
      }
     },
     "8a8a30d2c88c46948ba1f7106490f68c": {
      "model_module": "@jupyter-widgets/base",
      "model_module_version": "1.0.0",
      "model_name": "LayoutModel",
      "state": {
       "width": "600px"
      }
     },
     "8ad0e34ada1a433dac9d4abd37bebe8e": {
      "model_module": "@jupyter-widgets/controls",
      "model_module_version": "1.2.0",
      "model_name": "ButtonStyleModel",
      "state": {}
     },
     "8b3d841865674bf8803359f476a7a961": {
      "model_module": "@jupyter-widgets/controls",
      "model_module_version": "1.2.0",
      "model_name": "HTMLModel",
      "state": {
       "layout": "IPY_MODEL_2076b9f127b7490e86b3d6be23a03852",
       "style": "IPY_MODEL_abbd7641826d48ecb98d437e16041120",
       "value": "<i>Wählen Sie die <ins>eine</ins> korrekte Antwort aus: </i>"
      }
     },
     "8b58c74e09804ea4a93d3b9c66ec8ef4": {
      "model_module": "@jupyter-widgets/base",
      "model_module_version": "1.0.0",
      "model_name": "LayoutModel",
      "state": {
       "width": "500px"
      }
     },
     "8b6f58cdcf3949a79a64e24f484607ed": {
      "model_module": "@jupyter-widgets/controls",
      "model_module_version": "1.2.0",
      "model_name": "ButtonModel",
      "state": {
       "description": "Korrekt?",
       "layout": "IPY_MODEL_b345d0db14ea4eb2b755fc39117083ce",
       "style": "IPY_MODEL_f6da1087caf04a14b28c33aa1b712342"
      }
     },
     "8b7a6b9f2fd64bbd85e9389a8df48583": {
      "model_module": "@jupyter-widgets/controls",
      "model_module_version": "1.2.0",
      "model_name": "ButtonModel",
      "state": {
       "description": "Korrekt?",
       "layout": "IPY_MODEL_43b62959ca2840a8b93942c9842b136c",
       "style": "IPY_MODEL_a1783c73f57a4415bea8e70d71557fe2"
      }
     },
     "8b8d4666726e45b992a5842643cd1e89": {
      "model_module": "@jupyter-widgets/controls",
      "model_module_version": "1.2.0",
      "model_name": "ButtonModel",
      "state": {
       "description": "Satz 2",
       "layout": "IPY_MODEL_efbc1a8c0ea547d9a551b6d86e3aebf7",
       "style": "IPY_MODEL_bad44d20cb084c92838cc4f6a21d6e7f"
      }
     },
     "8b956bab772a49038c71bd46f397db0c": {
      "model_module": "@jupyter-widgets/controls",
      "model_module_version": "1.2.0",
      "model_name": "DescriptionStyleModel",
      "state": {
       "description_width": "initial"
      }
     },
     "8bfbfe4cecf64f7c88fa32e23fe42051": {
      "model_module": "@jupyter-widgets/base",
      "model_module_version": "1.0.0",
      "model_name": "LayoutModel",
      "state": {}
     },
     "8c1780c080bd45af9cae26edc9f26bb9": {
      "model_module": "@jupyter-widgets/base",
      "model_module_version": "1.0.0",
      "model_name": "LayoutModel",
      "state": {
       "justify_content": "center"
      }
     },
     "8c5995598c7341cab98ca0e0467376cb": {
      "model_module": "@jupyter-widgets/base",
      "model_module_version": "1.0.0",
      "model_name": "LayoutModel",
      "state": {}
     },
     "8c7b9c87d169475689bd4bfb916fc072": {
      "model_module": "@jupyter-widgets/controls",
      "model_module_version": "1.2.0",
      "model_name": "CheckboxModel",
      "state": {
       "description": "schenkte",
       "disabled": false,
       "layout": "IPY_MODEL_b04e224821a34005a5c36e8f9b7eb798",
       "style": "IPY_MODEL_dbbe8e8f2aab48379eb5967d90f31d62",
       "value": false
      }
     },
     "8cd63e6d61be4772babaa70b7957222b": {
      "model_module": "@jupyter-widgets/base",
      "model_module_version": "1.0.0",
      "model_name": "LayoutModel",
      "state": {}
     },
     "8d0754bcc4d34767bc1004a94a698d81": {
      "model_module": "@jupyter-widgets/controls",
      "model_module_version": "1.2.0",
      "model_name": "ButtonModel",
      "state": {
       "description": "Korrekt?",
       "layout": "IPY_MODEL_fa7e67e6feb94f4fa9fbbe40b18c122d",
       "style": "IPY_MODEL_2b1280e08b704ee385905371b5be9dca"
      }
     },
     "8d4cee198f614ea6838bbf5cbff1a5d0": {
      "model_module": "@jupyter-widgets/base",
      "model_module_version": "1.0.0",
      "model_name": "LayoutModel",
      "state": {
       "width": "250px"
      }
     },
     "8db1694c68564ed392bc0337091a3833": {
      "model_module": "@jupyter-widgets/base",
      "model_module_version": "1.0.0",
      "model_name": "LayoutModel",
      "state": {
       "width": "250px"
      }
     },
     "8dbc130adcb5409a8b314f0f733d3f30": {
      "model_module": "@jupyter-widgets/controls",
      "model_module_version": "1.2.0",
      "model_name": "CheckboxModel",
      "state": {
       "description": "Junge",
       "disabled": false,
       "layout": "IPY_MODEL_5897edb154dd462eae735cc40c6d52f3",
       "style": "IPY_MODEL_2fb92d1a4ca342f4901ad029e677147a",
       "value": false
      }
     },
     "8dcf71aae35d4563a9261a87585df513": {
      "model_module": "@jupyter-widgets/controls",
      "model_module_version": "1.2.0",
      "model_name": "DescriptionStyleModel",
      "state": {
       "description_width": ""
      }
     },
     "8dd686dfc4c54a6f95034f3d132fd44c": {
      "model_module": "@jupyter-widgets/base",
      "model_module_version": "1.0.0",
      "model_name": "LayoutModel",
      "state": {}
     },
     "8dda6a6c839b4dcb9271f61fa8499de4": {
      "model_module": "@jupyter-widgets/controls",
      "model_module_version": "1.2.0",
      "model_name": "DescriptionStyleModel",
      "state": {
       "description_width": "initial"
      }
     },
     "8e1a3c8a6bdc44fca42d734e388b53e0": {
      "model_module": "@jupyter-widgets/controls",
      "model_module_version": "1.2.0",
      "model_name": "HTMLModel",
      "state": {
       "layout": "IPY_MODEL_06d575ac9f5a433abf6a89d865b64717",
       "style": "IPY_MODEL_603770bc81bd4e19b51c09130cb9a56d",
       "value": "<i>Wählen Sie die <ins>eine</ins> korrekte Antwort aus: </i>"
      }
     },
     "8e3b402f926e4b4080605dccd67e936e": {
      "model_module": "@jupyter-widgets/base",
      "model_module_version": "1.0.0",
      "model_name": "LayoutModel",
      "state": {
       "width": "250px"
      }
     },
     "8e7945dc16a64398ab64b906b0d62e14": {
      "model_module": "@jupyter-widgets/controls",
      "model_module_version": "1.2.0",
      "model_name": "ButtonModel",
      "state": {
       "description": "Aussagesatz",
       "layout": "IPY_MODEL_64d4c7b46d344dbd915f6bcd76dc8f2b",
       "style": "IPY_MODEL_cf6c0c10dffb45f195e5af6e7f3bb61f"
      }
     },
     "8ed1e7bd90bc400592eef2409047bab0": {
      "model_module": "@jupyter-widgets/base",
      "model_module_version": "1.0.0",
      "model_name": "LayoutModel",
      "state": {
       "width": "250px"
      }
     },
     "8f06af8f95144b97b3a6f5770f2db430": {
      "model_module": "@jupyter-widgets/controls",
      "model_module_version": "1.2.0",
      "model_name": "HTMLModel",
      "state": {
       "layout": "IPY_MODEL_b084a9031fa24a6d9b9b84699a90cdc3",
       "style": "IPY_MODEL_a8993ee0af2546bdb1cf777542598248",
       "value": "<i>Wählen Sie die <ins>eine</ins> korrekte Antwort aus: </i>"
      }
     },
     "8f81a60d69b74ccfae75a95ec224a094": {
      "model_module": "@jupyter-widgets/controls",
      "model_module_version": "1.2.0",
      "model_name": "ButtonStyleModel",
      "state": {}
     },
     "8fffd58043a545b282bcef3076e49329": {
      "model_module": "@jupyter-widgets/base",
      "model_module_version": "1.0.0",
      "model_name": "LayoutModel",
      "state": {
       "justify_content": "center"
      }
     },
     "9000c90c77544379bb7e4eef84fd6e9a": {
      "model_module": "@jupyter-widgets/controls",
      "model_module_version": "1.2.0",
      "model_name": "HTMLModel",
      "state": {
       "layout": "IPY_MODEL_5f102288be1f405f95183e2956c6e799",
       "style": "IPY_MODEL_79af9dcbe9784d40b8cdda0ca73a8bba",
       "value": "<h4 style=\"font-size:14px;\">Wie läßt sich dieser Satztyp klassifizieren?</h4>"
      }
     },
     "900b1f8874884b179ec8e7ea40ff3d70": {
      "model_module": "@jupyter-widgets/controls",
      "model_module_version": "1.2.0",
      "model_name": "ButtonStyleModel",
      "state": {}
     },
     "901d05820ff540ef820a85f3ac1824f8": {
      "model_module": "@jupyter-widgets/base",
      "model_module_version": "1.0.0",
      "model_name": "LayoutModel",
      "state": {
       "width": "600px"
      }
     },
     "9063ba0b47464a31ae8c2b063c00bf8b": {
      "model_module": "@jupyter-widgets/controls",
      "model_module_version": "1.2.0",
      "model_name": "DescriptionStyleModel",
      "state": {
       "description_width": ""
      }
     },
     "90d616ae2f5643c39dfe0f1e5623052c": {
      "model_module": "@jupyter-widgets/controls",
      "model_module_version": "1.2.0",
      "model_name": "ButtonStyleModel",
      "state": {
       "button_color": "lightgreen"
      }
     },
     "90de0d4e8d394586aea3626f793244e5": {
      "model_module": "@jupyter-widgets/base",
      "model_module_version": "1.0.0",
      "model_name": "LayoutModel",
      "state": {
       "justify_content": "center"
      }
     },
     "90f680ed6e1c43b692e8c6a3fb3a4229": {
      "model_module": "@jupyter-widgets/controls",
      "model_module_version": "1.2.0",
      "model_name": "ButtonModel",
      "state": {
       "description": "Korrekt?",
       "layout": "IPY_MODEL_c9dd9423e39347598e5c5301d90b4522",
       "style": "IPY_MODEL_7052ac01e1464b7aa8579fa071fa0164"
      }
     },
     "9206e3bc1ab64e9d97c5b9708c1382fd": {
      "model_module": "@jupyter-widgets/base",
      "model_module_version": "1.0.0",
      "model_name": "LayoutModel",
      "state": {
       "width": "600px"
      }
     },
     "9214684b764e446d9071f1b4305e89c7": {
      "model_module": "@jupyter-widgets/controls",
      "model_module_version": "1.2.0",
      "model_name": "HTMLModel",
      "state": {
       "layout": "IPY_MODEL_f1f0813787dc433b9bc29cb28b17e9e6",
       "style": "IPY_MODEL_2930400dcd7741dc9b4127c8239debd6",
       "value": "<h4 style=\"font-size:14px;\">Was für eine Satzkonstruktion liegt hier vor?</h4>"
      }
     },
     "926e0f73c9634f56bdaa291f0576d223": {
      "model_module": "@jupyter-widgets/base",
      "model_module_version": "1.0.0",
      "model_name": "LayoutModel",
      "state": {
       "width": "600px"
      }
     },
     "9273a470abef4b6e82cf461e01335469": {
      "model_module": "@jupyter-widgets/controls",
      "model_module_version": "1.2.0",
      "model_name": "ButtonModel",
      "state": {
       "description": "koordiniert",
       "layout": "IPY_MODEL_cbd3dc24780f4cfbbf1b2dbd13f55bd3",
       "style": "IPY_MODEL_1b95338a709f458da408dc66fd3d2736"
      }
     },
     "927d5ff609dd4d30b615191c230358be": {
      "model_module": "@jupyter-widgets/controls",
      "model_module_version": "1.2.0",
      "model_name": "ButtonModel",
      "state": {
       "description": "Korrekt?",
       "layout": "IPY_MODEL_c5054b5192ba4e20a1d966783252ae65",
       "style": "IPY_MODEL_4623e8d8c4a142bba7907c5d0ae86543"
      }
     },
     "927f404be00144f8aa7ed78991f824b8": {
      "model_module": "@jupyter-widgets/base",
      "model_module_version": "1.0.0",
      "model_name": "LayoutModel",
      "state": {
       "width": "600px"
      }
     },
     "92bc21d2117548fcb2cc746eb9b1f380": {
      "model_module": "@jupyter-widgets/controls",
      "model_module_version": "1.2.0",
      "model_name": "HBoxModel",
      "state": {
       "children": [
        "IPY_MODEL_474138a40ade45118e00120cd0c52009",
        "IPY_MODEL_9ffaa61a7f4c4659bf9c764da06d4455"
       ],
       "layout": "IPY_MODEL_c3a799fb561a4377a4988a6e4b03d592"
      }
     },
     "92d9009e637f4786b84c1164137c1d3b": {
      "model_module": "@jupyter-widgets/base",
      "model_module_version": "1.0.0",
      "model_name": "LayoutModel",
      "state": {
       "width": "600px"
      }
     },
     "92fa9f9832a142599c09112b069fb2e7": {
      "model_module": "@jupyter-widgets/base",
      "model_module_version": "1.0.0",
      "model_name": "LayoutModel",
      "state": {
       "width": "600px"
      }
     },
     "93101c8af43a48ae894b0c9d1ab56154": {
      "model_module": "@jupyter-widgets/base",
      "model_module_version": "1.0.0",
      "model_name": "LayoutModel",
      "state": {}
     },
     "9364a69fab1448dcb3f4a3c9375336ed": {
      "model_module": "@jupyter-widgets/controls",
      "model_module_version": "1.2.0",
      "model_name": "HTMLModel",
      "state": {
       "layout": "IPY_MODEL_cdbe239aed9a41fcaf13d18ef88f520a",
       "style": "IPY_MODEL_bf483e49a1dc45e194ecc468d23199b1",
       "value": "<h4 style=\"font-size:14px;\">Welcher eingebettete Satztyp liegt vor?</h4>"
      }
     },
     "9371b183a62a4e6bbdc1cf13a264904c": {
      "model_module": "@jupyter-widgets/base",
      "model_module_version": "1.0.0",
      "model_name": "LayoutModel",
      "state": {
       "width": "600px"
      }
     },
     "9395bc3b713244db9aac3866de6b1598": {
      "model_module": "@jupyter-widgets/controls",
      "model_module_version": "1.2.0",
      "model_name": "VBoxModel",
      "state": {
       "children": [
        "IPY_MODEL_ca1d0827dce144c69c631fe93ba22099",
        "IPY_MODEL_83c681e3a3874833bdb351db4d881130",
        "IPY_MODEL_58b62395a8924c7a930423215c7f0879",
        "IPY_MODEL_d5b546c5b387434096180bc962a2db0b",
        "IPY_MODEL_ddaea3a51ebb4ba1910a35248321e0ed"
       ],
       "layout": "IPY_MODEL_0285e3405e2e4f7ab5f9dbd99d3a4e41"
      }
     },
     "93a4e5ff019d4bfd82dd1236092dd847": {
      "model_module": "@jupyter-widgets/controls",
      "model_module_version": "1.2.0",
      "model_name": "HTMLModel",
      "state": {
       "layout": "IPY_MODEL_fc6400e59d2e4ed995ae0d233e96d6e7",
       "style": "IPY_MODEL_a7cd6369605a499782488382fd081469",
       "value": "<i>Markieren Sie <ins>alle</ins> passenden Antworten: </i>"
      }
     },
     "93aec1ab47564d42a271c57d523760f3": {
      "model_module": "@jupyter-widgets/controls",
      "model_module_version": "1.2.0",
      "model_name": "VBoxModel",
      "state": {
       "children": [
        "IPY_MODEL_e1719eb925f8488da2c55134cf18331b",
        "IPY_MODEL_7987f5b3cfc24fb79351389ef140faea",
        "IPY_MODEL_6477d8ccb46b4155818cf3aba6001319",
        "IPY_MODEL_95073efada1846559e01c901cd3cb2a0"
       ],
       "layout": "IPY_MODEL_2332fbbfafd8406b9d00d57818e911b3"
      }
     },
     "93d8373654524d02af078110398342d4": {
      "model_module": "@jupyter-widgets/controls",
      "model_module_version": "1.2.0",
      "model_name": "VBoxModel",
      "state": {
       "children": [
        "IPY_MODEL_9968fe696f484c0e9259b98f59b7717a",
        "IPY_MODEL_503fcae1106942c7871d4117ecc7f854",
        "IPY_MODEL_c917968ee2384e3a8b528165b1a0b24b",
        "IPY_MODEL_959bca7254104107b6a4f56b232d082e",
        "IPY_MODEL_73a00501209349c6b5d04146e5d7753b",
        "IPY_MODEL_d0b57860df95415f9d97e38073cbbc5f",
        "IPY_MODEL_18067e474abf40898fcee9792d9ed009"
       ],
       "layout": "IPY_MODEL_e305e2da17df4ae9af00d2cf1d3c88b5"
      }
     },
     "93f90655b288409b97dcc6660534ce32": {
      "model_module": "@jupyter-widgets/base",
      "model_module_version": "1.0.0",
      "model_name": "LayoutModel",
      "state": {
       "width": "600px"
      }
     },
     "944691383cb64bdc82d08b6271fe816b": {
      "model_module": "@jupyter-widgets/controls",
      "model_module_version": "1.2.0",
      "model_name": "DescriptionStyleModel",
      "state": {
       "description_width": ""
      }
     },
     "9457a7be4b594b66bb6bf0fcde941f21": {
      "model_module": "@jupyter-widgets/controls",
      "model_module_version": "1.2.0",
      "model_name": "DescriptionStyleModel",
      "state": {
       "description_width": "initial"
      }
     },
     "94b03d2e610d4fe284420a892e903f9b": {
      "model_module": "@jupyter-widgets/controls",
      "model_module_version": "1.2.0",
      "model_name": "VBoxModel",
      "state": {
       "children": [
        "IPY_MODEL_e11b917cd081410fb604095656fd9fe3",
        "IPY_MODEL_004dc96da76644aa911ef40cfad8088a",
        "IPY_MODEL_b10ed1d33aca49508e2d4cf0e645f79e",
        "IPY_MODEL_e4f666ddd0774541a963ebb1702c65c8"
       ],
       "layout": "IPY_MODEL_d675ba61b53b42e499e7a5164909fb1d"
      }
     },
     "94fafe3d936f4824a42b100d47cf6d21": {
      "model_module": "@jupyter-widgets/base",
      "model_module_version": "1.0.0",
      "model_name": "LayoutModel",
      "state": {}
     },
     "95073efada1846559e01c901cd3cb2a0": {
      "model_module": "@jupyter-widgets/controls",
      "model_module_version": "1.2.0",
      "model_name": "HBoxModel",
      "state": {
       "children": [
        "IPY_MODEL_b9f9a2117b0345879eb9aa34d1e9fec1"
       ],
       "layout": "IPY_MODEL_631a52aada0a4ccf925566f721f44bd5"
      }
     },
     "9535aa6481e7413cb7f42346bff4c620": {
      "model_module": "@jupyter-widgets/controls",
      "model_module_version": "1.2.0",
      "model_name": "ButtonStyleModel",
      "state": {
       "button_color": "lightgreen"
      }
     },
     "9538b2dfcf0f4a029c8c5ee692a18149": {
      "model_module": "@jupyter-widgets/base",
      "model_module_version": "1.0.0",
      "model_name": "LayoutModel",
      "state": {
       "width": "500px"
      }
     },
     "9577bcfa388d4433a7dfc58710a3a2ca": {
      "model_module": "@jupyter-widgets/controls",
      "model_module_version": "1.2.0",
      "model_name": "DescriptionStyleModel",
      "state": {
       "description_width": "initial"
      }
     },
     "959bca7254104107b6a4f56b232d082e": {
      "model_module": "@jupyter-widgets/controls",
      "model_module_version": "1.2.0",
      "model_name": "CheckboxModel",
      "state": {
       "description": "Satzschlusszeichen: Fragezeichen",
       "disabled": false,
       "layout": "IPY_MODEL_e596bafe7bc24bb886e949b80dc43aab",
       "style": "IPY_MODEL_60b9c27295f0480aad9d9e163da2872e",
       "value": true
      }
     },
     "95d6d49767904d06927bd34cde563fc9": {
      "model_module": "@jupyter-widgets/controls",
      "model_module_version": "1.2.0",
      "model_name": "DescriptionStyleModel",
      "state": {
       "description_width": "initial"
      }
     },
     "95de7ec8a2784323a9d2afa3245a2bfe": {
      "model_module": "@jupyter-widgets/controls",
      "model_module_version": "1.2.0",
      "model_name": "DescriptionStyleModel",
      "state": {
       "description_width": ""
      }
     },
     "9652e774881743a09dc574cdfd51de0f": {
      "model_module": "@jupyter-widgets/controls",
      "model_module_version": "1.2.0",
      "model_name": "DescriptionStyleModel",
      "state": {
       "description_width": "initial"
      }
     },
     "9677e99614284789ade5ae96d77d6cf7": {
      "model_module": "@jupyter-widgets/base",
      "model_module_version": "1.0.0",
      "model_name": "LayoutModel",
      "state": {
       "justify_content": "center"
      }
     },
     "96975bedb49149f88ee857755e9afe73": {
      "model_module": "@jupyter-widgets/base",
      "model_module_version": "1.0.0",
      "model_name": "LayoutModel",
      "state": {}
     },
     "970390dbb48649058ee5571e1d985186": {
      "model_module": "@jupyter-widgets/controls",
      "model_module_version": "1.2.0",
      "model_name": "DescriptionStyleModel",
      "state": {
       "description_width": "initial"
      }
     },
     "971a56d5725e413da151d57c68e8683d": {
      "model_module": "@jupyter-widgets/controls",
      "model_module_version": "1.2.0",
      "model_name": "DescriptionStyleModel",
      "state": {
       "description_width": "initial"
      }
     },
     "979a9d0287da4c69b8a8214da843ebb4": {
      "model_module": "@jupyter-widgets/base",
      "model_module_version": "1.0.0",
      "model_name": "LayoutModel",
      "state": {
       "width": "600px"
      }
     },
     "97cf134952fd4562bf7676243f029e0b": {
      "model_module": "@jupyter-widgets/controls",
      "model_module_version": "1.2.0",
      "model_name": "VBoxModel",
      "state": {
       "children": [
        "IPY_MODEL_f36dc080b1f849b28c5a30734207e173",
        "IPY_MODEL_26bf0d4a846341439aa8934c1cc98d92",
        "IPY_MODEL_e6e664454b5641e0adb4a599811900c0",
        "IPY_MODEL_8b6f58cdcf3949a79a64e24f484607ed"
       ],
       "layout": "IPY_MODEL_6638ec26d9f94cde911f5e0ca44dc37f"
      }
     },
     "97eca70bbbfe499780be5476f5fcb9d4": {
      "model_module": "@jupyter-widgets/base",
      "model_module_version": "1.0.0",
      "model_name": "LayoutModel",
      "state": {
       "width": "600px"
      }
     },
     "984217c952734aa79abb649907f9d89f": {
      "model_module": "@jupyter-widgets/controls",
      "model_module_version": "1.2.0",
      "model_name": "ButtonModel",
      "state": {
       "description": "Korrekt?",
       "layout": "IPY_MODEL_64ddb4a970964017a63cd2a829a90bc1",
       "style": "IPY_MODEL_e03027ba05804493afbb8466bfbbad72"
      }
     },
     "98906dfc5a194a28b85d4359e9c717b9": {
      "model_module": "@jupyter-widgets/base",
      "model_module_version": "1.0.0",
      "model_name": "LayoutModel",
      "state": {
       "width": "600px"
      }
     },
     "99084bb5e0684b37972671f3d0fc6542": {
      "model_module": "@jupyter-widgets/base",
      "model_module_version": "1.0.0",
      "model_name": "LayoutModel",
      "state": {}
     },
     "990fedf531b84914a25ee0aa6d50de09": {
      "model_module": "@jupyter-widgets/base",
      "model_module_version": "1.0.0",
      "model_name": "LayoutModel",
      "state": {
       "width": "600px"
      }
     },
     "9968fe696f484c0e9259b98f59b7717a": {
      "model_module": "@jupyter-widgets/controls",
      "model_module_version": "1.2.0",
      "model_name": "CheckboxModel",
      "state": {
       "description": "Es handelt sich kommunikativ um eine Aufforderung.",
       "disabled": false,
       "layout": "IPY_MODEL_7b3435e48c6b4d29b6da3ec80705579c",
       "style": "IPY_MODEL_10948a865c964ac48c8a6eb801128605",
       "value": false
      }
     },
     "9a262d46f960489e8bc2331b0cabc0b1": {
      "model_module": "@jupyter-widgets/base",
      "model_module_version": "1.0.0",
      "model_name": "LayoutModel",
      "state": {
       "width": "250px"
      }
     },
     "9a7287c359c54803b1067c237cff6da9": {
      "model_module": "@jupyter-widgets/base",
      "model_module_version": "1.0.0",
      "model_name": "LayoutModel",
      "state": {
       "width": "250px"
      }
     },
     "9a77d3b5652f406e9f688033b17813d7": {
      "model_module": "@jupyter-widgets/controls",
      "model_module_version": "1.2.0",
      "model_name": "CheckboxModel",
      "state": {
       "description": "Peter gesungen hat",
       "disabled": false,
       "layout": "IPY_MODEL_d2962a346bdf40aba22b4a3cd75a80fd",
       "style": "IPY_MODEL_892c7b5b5be44c7dafd0b404f6f79f25",
       "value": false
      }
     },
     "9a83d6a2bf3d40e2b7a38e886f7728ba": {
      "model_module": "@jupyter-widgets/controls",
      "model_module_version": "1.2.0",
      "model_name": "DropdownModel",
      "state": {
       "_options_labels": [
        "Adverbialsatz",
        "Attributsatz",
        "Hauptsatz",
        "Keine der Alternativen",
        "Komplementsatz",
        "Matrixsatz"
       ],
       "description": "Antwort:",
       "index": 0,
       "layout": "IPY_MODEL_9538b2dfcf0f4a029c8c5ee692a18149",
       "style": "IPY_MODEL_51c215c8d7f14df8a989d7c550d494ab"
      }
     },
     "9ab09885b3474cf5b40f032259b1a72d": {
      "model_module": "@jupyter-widgets/base",
      "model_module_version": "1.0.0",
      "model_name": "LayoutModel",
      "state": {}
     },
     "9ab5794d977b4da3b4506ff28b3f85fe": {
      "model_module": "@jupyter-widgets/controls",
      "model_module_version": "1.2.0",
      "model_name": "HTMLModel",
      "state": {
       "layout": "IPY_MODEL_0c496833292f444cabf449542e40c238",
       "style": "IPY_MODEL_359aba1573ed4206ba57760cb6b52414",
       "value": "<h4 style=\"font-size:14px;\">Welche eingebettete Satztyp liegt vor?</h4>"
      }
     },
     "9ab7d70e5c9e46fea2da1ef762566b9f": {
      "model_module": "@jupyter-widgets/controls",
      "model_module_version": "1.2.0",
      "model_name": "ButtonStyleModel",
      "state": {}
     },
     "9acf67eedf334d30a4f11c361d1d1fbb": {
      "model_module": "@jupyter-widgets/controls",
      "model_module_version": "1.2.0",
      "model_name": "CheckboxModel",
      "state": {
       "description": "steigende Intonation",
       "disabled": false,
       "layout": "IPY_MODEL_2a925c69593344c0a4fbb9c69a448176",
       "style": "IPY_MODEL_5bd801270c354ac5944c0c19ec879614",
       "value": false
      }
     },
     "9ad0d18428d84a28a71b1d2cf19f961b": {
      "model_module": "@jupyter-widgets/base",
      "model_module_version": "1.0.0",
      "model_name": "LayoutModel",
      "state": {}
     },
     "9aee4fc7223c42a195cdbdd36a433db9": {
      "model_module": "@jupyter-widgets/base",
      "model_module_version": "1.0.0",
      "model_name": "LayoutModel",
      "state": {
       "width": "250px"
      }
     },
     "9b03e9bd98d749ae815b96eff28859cd": {
      "model_module": "@jupyter-widgets/base",
      "model_module_version": "1.0.0",
      "model_name": "LayoutModel",
      "state": {
       "width": "600px"
      }
     },
     "9b1e37a62ede4b5aa02ede1a89776470": {
      "model_module": "@jupyter-widgets/controls",
      "model_module_version": "1.2.0",
      "model_name": "ButtonStyleModel",
      "state": {
       "button_color": "lightgreen"
      }
     },
     "9b377d8a578547fbae3efd525c2171ef": {
      "model_module": "@jupyter-widgets/controls",
      "model_module_version": "1.2.0",
      "model_name": "DescriptionStyleModel",
      "state": {
       "description_width": "initial"
      }
     },
     "9b451630d380412d9159bf5a26ba29f1": {
      "model_module": "@jupyter-widgets/controls",
      "model_module_version": "1.2.0",
      "model_name": "ButtonStyleModel",
      "state": {}
     },
     "9b68c903007d4d2f915ef583da981050": {
      "model_module": "@jupyter-widgets/controls",
      "model_module_version": "1.2.0",
      "model_name": "DescriptionStyleModel",
      "state": {
       "description_width": ""
      }
     },
     "9b7bfb0e21ee484eb269a9833bb0b44a": {
      "model_module": "@jupyter-widgets/base",
      "model_module_version": "1.0.0",
      "model_name": "LayoutModel",
      "state": {
       "width": "250px"
      }
     },
     "9badcb8ef5d545dfa7ed1d47504395d9": {
      "model_module": "@jupyter-widgets/controls",
      "model_module_version": "1.2.0",
      "model_name": "ButtonModel",
      "state": {
       "description": "subordiniert",
       "layout": "IPY_MODEL_639318a36fe649f7bade1491e38c4c54",
       "style": "IPY_MODEL_6b907dcc42a14f9f82f7839fe4513742"
      }
     },
     "9bb704b297ca43e8b3ec79d11b355e13": {
      "model_module": "@jupyter-widgets/base",
      "model_module_version": "1.0.0",
      "model_name": "LayoutModel",
      "state": {
       "width": "500px"
      }
     },
     "9c18359eea124151afd0d9ee76e5c82c": {
      "model_module": "@jupyter-widgets/controls",
      "model_module_version": "1.2.0",
      "model_name": "CheckboxModel",
      "state": {
       "description": "Weihnachten",
       "disabled": false,
       "layout": "IPY_MODEL_e0307543cd80404d91866e6527bf139d",
       "style": "IPY_MODEL_be17d8cf089743c4bd8d4dd3e8968cdd",
       "value": false
      }
     },
     "9c7974f9ab3f4ccb98baec63f34da2c7": {
      "model_module": "@jupyter-widgets/base",
      "model_module_version": "1.0.0",
      "model_name": "LayoutModel",
      "state": {
       "width": "500px"
      }
     },
     "9cc223350f0a4f31a0414e10be7d61a5": {
      "model_module": "@jupyter-widgets/controls",
      "model_module_version": "1.2.0",
      "model_name": "HTMLModel",
      "state": {
       "layout": "IPY_MODEL_2e6d0f4aef654a6a8dae25e0a8321327",
       "style": "IPY_MODEL_3d0d82c47d25424f86674e071ea8fefd",
       "value": "<h4 style=\"font-size:14px;\">Welche Wörter stehen im Vorfeld?</h4>"
      }
     },
     "9d396f315a3542de9e79e17d0c5fe81f": {
      "model_module": "@jupyter-widgets/controls",
      "model_module_version": "1.2.0",
      "model_name": "VBoxModel",
      "state": {
       "children": [
        "IPY_MODEL_bf03cd926ad7460089d0f42c07a4a7e2",
        "IPY_MODEL_0644e43c1af3483fa82af2199c7ed4d9",
        "IPY_MODEL_e5e2acfb65b7479994b918749a469272",
        "IPY_MODEL_f6d61a664ae84b00a03708475310c8bf"
       ],
       "layout": "IPY_MODEL_d23f9a6e423a42e0a74a56e0752585ed"
      }
     },
     "9d885c98a33e46d9bfa765428a56d0fc": {
      "model_module": "@jupyter-widgets/controls",
      "model_module_version": "1.2.0",
      "model_name": "ButtonStyleModel",
      "state": {}
     },
     "9dba201c19534c7ca2dbfb52e2195b2f": {
      "model_module": "@jupyter-widgets/controls",
      "model_module_version": "1.2.0",
      "model_name": "HTMLModel",
      "state": {
       "layout": "IPY_MODEL_16171083922743eb92baa05cfe5dc0b5",
       "style": "IPY_MODEL_1bb57c565b434d998ba5f2dd4495f8b4",
       "value": "<i>Markieren Sie <ins>alle</ins> passenden Antworten: </i>"
      }
     },
     "9dbed9dae5354cf79da69d9ea410b6b7": {
      "model_module": "@jupyter-widgets/controls",
      "model_module_version": "1.2.0",
      "model_name": "DescriptionStyleModel",
      "state": {
       "description_width": ""
      }
     },
     "9dc332ec886247aea68031a260dbb0c8": {
      "model_module": "@jupyter-widgets/base",
      "model_module_version": "1.0.0",
      "model_name": "LayoutModel",
      "state": {
       "width": "250px"
      }
     },
     "9e2a372a652149409778532745be09ec": {
      "model_module": "@jupyter-widgets/controls",
      "model_module_version": "1.2.0",
      "model_name": "ButtonModel",
      "state": {
       "description": "Satz 2",
       "layout": "IPY_MODEL_dabb401743444b07a5866c0fc688d541",
       "style": "IPY_MODEL_387fed0f0b9a4f79bd111f7e8c946cb3"
      }
     },
     "9e42cf8b82d0473289de854b433eeebc": {
      "model_module": "@jupyter-widgets/controls",
      "model_module_version": "1.2.0",
      "model_name": "ButtonModel",
      "state": {
       "description": "Korrekt?",
       "layout": "IPY_MODEL_6854ba638f4f44cd8c301e8964a1a182",
       "style": "IPY_MODEL_55be9bafa50f435f8d02806e9283cf51"
      }
     },
     "9e5621387792420ea1e3e1c65aacbad1": {
      "model_module": "@jupyter-widgets/controls",
      "model_module_version": "1.2.0",
      "model_name": "DescriptionStyleModel",
      "state": {
       "description_width": ""
      }
     },
     "9e65d02afcd747d2acb3f0bafda3ced8": {
      "model_module": "@jupyter-widgets/controls",
      "model_module_version": "1.2.0",
      "model_name": "DescriptionStyleModel",
      "state": {
       "description_width": "initial"
      }
     },
     "9e73236e51614d7aa39e5a0f76c6665f": {
      "model_module": "@jupyter-widgets/controls",
      "model_module_version": "1.2.0",
      "model_name": "HTMLModel",
      "state": {
       "layout": "IPY_MODEL_fefdd296edac4b0ca12870cfe29e5003",
       "style": "IPY_MODEL_9e5621387792420ea1e3e1c65aacbad1",
       "value": "<h4 style=\"font-size:14px;\">Welche übergeordnete Konstituente läßt sich im Fall des erfolgreichen Permutationstests durch gemeinsame Verschiebung ins Vorfeld feststellen?</h4>"
      }
     },
     "9efe662887a3488f96f10796e33fea3c": {
      "model_module": "@jupyter-widgets/controls",
      "model_module_version": "1.2.0",
      "model_name": "CheckboxModel",
      "state": {
       "description": "zu",
       "disabled": false,
       "layout": "IPY_MODEL_27ebed119e7645278001dded2e9090f2",
       "style": "IPY_MODEL_4c29a15b9743438c8ee939837cb51548",
       "value": false
      }
     },
     "9f2123766f87461d9800a22399df483e": {
      "model_module": "@jupyter-widgets/controls",
      "model_module_version": "1.2.0",
      "model_name": "ButtonStyleModel",
      "state": {
       "button_color": "lightgreen"
      }
     },
     "9f6e05597dd645639a9a4ea46986598b": {
      "model_module": "@jupyter-widgets/controls",
      "model_module_version": "1.2.0",
      "model_name": "HTMLModel",
      "state": {
       "layout": "IPY_MODEL_8c5995598c7341cab98ca0e0467376cb",
       "style": "IPY_MODEL_b6f512bdd60e4ddba5025dfdfd1fe56a",
       "value": "<h4 style=\"font-size:14px;\">Welche Wörter stehen im Vorfeld?</h4>"
      }
     },
     "9f930a0c73e24616a5cbd816f07abbae": {
      "model_module": "@jupyter-widgets/base",
      "model_module_version": "1.0.0",
      "model_name": "LayoutModel",
      "state": {
       "width": "250px"
      }
     },
     "9fa033ff2cfb41a1bbbb9bb56fc6cb56": {
      "model_module": "@jupyter-widgets/controls",
      "model_module_version": "1.2.0",
      "model_name": "DescriptionStyleModel",
      "state": {
       "description_width": "initial"
      }
     },
     "9ffaa61a7f4c4659bf9c764da06d4455": {
      "model_module": "@jupyter-widgets/controls",
      "model_module_version": "1.2.0",
      "model_name": "ButtonModel",
      "state": {
       "description": "Satz 4",
       "layout": "IPY_MODEL_867575476b4748f2bd9b56b73a1e5bd0",
       "style": "IPY_MODEL_459fd27197dc4fe9803252cfc413a5d8"
      }
     },
     "a020127f02b740fe86e66380321735c7": {
      "model_module": "@jupyter-widgets/controls",
      "model_module_version": "1.2.0",
      "model_name": "DescriptionStyleModel",
      "state": {
       "description_width": "initial"
      }
     },
     "a0710b65235e4d5b9f39508d90bf4581": {
      "model_module": "@jupyter-widgets/base",
      "model_module_version": "1.0.0",
      "model_name": "LayoutModel",
      "state": {
       "width": "250px"
      }
     },
     "a0735cbeb6514d84b05deb47e2554241": {
      "model_module": "@jupyter-widgets/controls",
      "model_module_version": "1.2.0",
      "model_name": "VBoxModel",
      "state": {
       "children": [
        "IPY_MODEL_aff2822eae6f4ee9bf35cb17663377d3",
        "IPY_MODEL_cae6d873bcbf4cf98dd9bce73c6da7a9",
        "IPY_MODEL_e7cb08f9dd9c4e9e9565d0f105f608f5",
        "IPY_MODEL_1aee43566bed4846b4fadb0c5f7931f7"
       ],
       "layout": "IPY_MODEL_5e1cffa87fb946a0a1ec7ee1c7927d9f"
      }
     },
     "a086382ed0a44667808138e34ba61e6d": {
      "model_module": "@jupyter-widgets/controls",
      "model_module_version": "1.2.0",
      "model_name": "DescriptionStyleModel",
      "state": {
       "description_width": "initial"
      }
     },
     "a09d6f72440f4291a76884c054503f81": {
      "model_module": "@jupyter-widgets/base",
      "model_module_version": "1.0.0",
      "model_name": "LayoutModel",
      "state": {}
     },
     "a0ef09ac72cc4ec48cfcade03005c366": {
      "model_module": "@jupyter-widgets/base",
      "model_module_version": "1.0.0",
      "model_name": "LayoutModel",
      "state": {}
     },
     "a0fe001e6d9448f2a354ce258a87b9f3": {
      "model_module": "@jupyter-widgets/controls",
      "model_module_version": "1.2.0",
      "model_name": "DescriptionStyleModel",
      "state": {
       "description_width": "initial"
      }
     },
     "a16c6e5d95454a31b140adbe24b23506": {
      "model_module": "@jupyter-widgets/base",
      "model_module_version": "1.0.0",
      "model_name": "LayoutModel",
      "state": {
       "width": "250px"
      }
     },
     "a1783c73f57a4415bea8e70d71557fe2": {
      "model_module": "@jupyter-widgets/controls",
      "model_module_version": "1.2.0",
      "model_name": "ButtonStyleModel",
      "state": {
       "button_color": "lightgreen"
      }
     },
     "a198ec6be79f4d929c4f70e1fd923db5": {
      "model_module": "@jupyter-widgets/controls",
      "model_module_version": "1.2.0",
      "model_name": "CheckboxModel",
      "state": {
       "description": "kleine",
       "disabled": false,
       "layout": "IPY_MODEL_926e0f73c9634f56bdaa291f0576d223",
       "style": "IPY_MODEL_7566861f4d8c4ec68c523bd0dc213974",
       "value": true
      }
     },
     "a1a4188afc3d4290b53e8c91fc49f809": {
      "model_module": "@jupyter-widgets/controls",
      "model_module_version": "1.2.0",
      "model_name": "DescriptionStyleModel",
      "state": {
       "description_width": "initial"
      }
     },
     "a1aae494208d4980b9d5a2a564979e13": {
      "model_module": "@jupyter-widgets/controls",
      "model_module_version": "1.2.0",
      "model_name": "ButtonModel",
      "state": {
       "description": "Korrekt?",
       "layout": "IPY_MODEL_b2de8d5a66fc4ca7a886d678ff17a1a3",
       "style": "IPY_MODEL_c8b703bd00cc498983c182d11b59c43c"
      }
     },
     "a1d7604df50e4d6e9735e749ef2b329d": {
      "model_module": "@jupyter-widgets/base",
      "model_module_version": "1.0.0",
      "model_name": "LayoutModel",
      "state": {}
     },
     "a21e00cb213d44d3b7e765d1ad9dfde4": {
      "model_module": "@jupyter-widgets/controls",
      "model_module_version": "1.2.0",
      "model_name": "DescriptionStyleModel",
      "state": {
       "description_width": ""
      }
     },
     "a229c97fe1784ae1ac00472462ad50c9": {
      "model_module": "@jupyter-widgets/controls",
      "model_module_version": "1.2.0",
      "model_name": "VBoxModel",
      "state": {
       "children": [
        "IPY_MODEL_5a91dc24f9e44259a529ffb576e2c85c",
        "IPY_MODEL_a6aa8b43d4b744e4a9a74e7f79135d6c",
        "IPY_MODEL_d8159f66c8d9448a8417894c864b3aee",
        "IPY_MODEL_7a53a5c3a12f470293b62aafa9704122"
       ],
       "layout": "IPY_MODEL_f966030afc0d4c15b57e2d29c6c712e9"
      }
     },
     "a249cc16a3584898bb15a921c24b7f88": {
      "model_module": "@jupyter-widgets/base",
      "model_module_version": "1.0.0",
      "model_name": "LayoutModel",
      "state": {
       "width": "600px"
      }
     },
     "a28712eab110465dbeadba57d59b78ff": {
      "model_module": "@jupyter-widgets/base",
      "model_module_version": "1.0.0",
      "model_name": "LayoutModel",
      "state": {}
     },
     "a29e8a75711f4fa2a0146bf782cb7633": {
      "model_module": "@jupyter-widgets/controls",
      "model_module_version": "1.2.0",
      "model_name": "ButtonModel",
      "state": {
       "description": "Objekt",
       "layout": "IPY_MODEL_be61ffa16af843689b6f8818fd49b58d",
       "style": "IPY_MODEL_c2c14ac316044ed29f7fd3b46a2aa714"
      }
     },
     "a2a311ed372448919b5e5e75bfcc52f5": {
      "model_module": "@jupyter-widgets/controls",
      "model_module_version": "1.2.0",
      "model_name": "CheckboxModel",
      "state": {
       "description": "kleine",
       "disabled": false,
       "layout": "IPY_MODEL_92d9009e637f4786b84c1164137c1d3b",
       "style": "IPY_MODEL_5281af4fc9ec45979ff228445383bb49",
       "value": false
      }
     },
     "a2f292da530a447798ed926d62b95ab8": {
      "model_module": "@jupyter-widgets/base",
      "model_module_version": "1.0.0",
      "model_name": "LayoutModel",
      "state": {
       "width": "600px"
      }
     },
     "a2f8be2ea135448fa9db263ce039663c": {
      "model_module": "@jupyter-widgets/base",
      "model_module_version": "1.0.0",
      "model_name": "LayoutModel",
      "state": {}
     },
     "a30f688125314d57b4b8bf17287519cd": {
      "model_module": "@jupyter-widgets/controls",
      "model_module_version": "1.2.0",
      "model_name": "DescriptionStyleModel",
      "state": {
       "description_width": "initial"
      }
     },
     "a3f52af86a8b487e9e26262b54f95874": {
      "model_module": "@jupyter-widgets/controls",
      "model_module_version": "1.2.0",
      "model_name": "ButtonStyleModel",
      "state": {
       "button_color": "lightgreen"
      }
     },
     "a3ff6cf06c154b7c8a4487a30d856f2e": {
      "model_module": "@jupyter-widgets/base",
      "model_module_version": "1.0.0",
      "model_name": "LayoutModel",
      "state": {
       "width": "600px"
      }
     },
     "a436e8d195b3400ab30058d4de7fd905": {
      "model_module": "@jupyter-widgets/base",
      "model_module_version": "1.0.0",
      "model_name": "LayoutModel",
      "state": {}
     },
     "a449de00b52147a08832d15370d3e20c": {
      "model_module": "@jupyter-widgets/base",
      "model_module_version": "1.0.0",
      "model_name": "LayoutModel",
      "state": {
       "width": "250px"
      }
     },
     "a460e671a98b4005af5141d5add0a15d": {
      "model_module": "@jupyter-widgets/controls",
      "model_module_version": "1.2.0",
      "model_name": "DescriptionStyleModel",
      "state": {
       "description_width": ""
      }
     },
     "a482aa908d4f410088af63a35196f4ce": {
      "model_module": "@jupyter-widgets/controls",
      "model_module_version": "1.2.0",
      "model_name": "ButtonModel",
      "state": {
       "description": "Korrekt?",
       "layout": "IPY_MODEL_1a2bfc86cd5b450b81f1301b13d3fd2e",
       "style": "IPY_MODEL_2287da68ee3f4f4da0a74cb7844f3f33"
      }
     },
     "a485e5479d7f45d59ae8ac26a27490d2": {
      "model_module": "@jupyter-widgets/base",
      "model_module_version": "1.0.0",
      "model_name": "LayoutModel",
      "state": {}
     },
     "a49271e18ba5402d99a5708ddd135864": {
      "model_module": "@jupyter-widgets/base",
      "model_module_version": "1.0.0",
      "model_name": "LayoutModel",
      "state": {
       "width": "500px"
      }
     },
     "a50ae18d80a0408e8410d4f83fa9ee95": {
      "model_module": "@jupyter-widgets/controls",
      "model_module_version": "1.2.0",
      "model_name": "DescriptionStyleModel",
      "state": {
       "description_width": ""
      }
     },
     "a53f4a4ef73c47e5a5331edd41a2bfd1": {
      "model_module": "@jupyter-widgets/base",
      "model_module_version": "1.0.0",
      "model_name": "LayoutModel",
      "state": {}
     },
     "a575eb6a949245748ea2cefa13424bc2": {
      "model_module": "@jupyter-widgets/base",
      "model_module_version": "1.0.0",
      "model_name": "LayoutModel",
      "state": {
       "width": "250px"
      }
     },
     "a57e331677d844cbaf34a60bddf5333d": {
      "model_module": "@jupyter-widgets/controls",
      "model_module_version": "1.2.0",
      "model_name": "DescriptionStyleModel",
      "state": {
       "description_width": ""
      }
     },
     "a58cb0a50275488b85c871f1472b06cf": {
      "model_module": "@jupyter-widgets/base",
      "model_module_version": "1.0.0",
      "model_name": "LayoutModel",
      "state": {
       "width": "600px"
      }
     },
     "a5995a8e73994855b0126d737c93c081": {
      "model_module": "@jupyter-widgets/controls",
      "model_module_version": "1.2.0",
      "model_name": "ButtonStyleModel",
      "state": {}
     },
     "a5ff93d3c9ab4b1a9210d7b129ff0e9b": {
      "model_module": "@jupyter-widgets/controls",
      "model_module_version": "1.2.0",
      "model_name": "ButtonModel",
      "state": {
       "description": "Korrekt?",
       "layout": "IPY_MODEL_9a7287c359c54803b1067c237cff6da9",
       "style": "IPY_MODEL_9b1e37a62ede4b5aa02ede1a89776470"
      }
     },
     "a68e48d50dc64346a82799c0beed3ca2": {
      "model_module": "@jupyter-widgets/controls",
      "model_module_version": "1.2.0",
      "model_name": "DescriptionStyleModel",
      "state": {
       "description_width": ""
      }
     },
     "a6aa8b43d4b744e4a9a74e7f79135d6c": {
      "model_module": "@jupyter-widgets/controls",
      "model_module_version": "1.2.0",
      "model_name": "HTMLModel",
      "state": {
       "layout": "IPY_MODEL_facb1865861445fa8dae2ad12ea3ce16",
       "style": "IPY_MODEL_b3d292d65648479f8eb4b7bcbdfa176a",
       "value": "<i>Wählen Sie die <ins>eine</ins> korrekte Antwort aus: </i>"
      }
     },
     "a6ae640f81ec4ad59ffc7ac8113cee84": {
      "model_module": "@jupyter-widgets/base",
      "model_module_version": "1.0.0",
      "model_name": "LayoutModel",
      "state": {}
     },
     "a6f8d873a9024dc0b4b2ee7a9050a159": {
      "model_module": "@jupyter-widgets/controls",
      "model_module_version": "1.2.0",
      "model_name": "ButtonModel",
      "state": {
       "description": "koordiniert",
       "layout": "IPY_MODEL_b8ec0569e6a4440c9d01fc5b6c8dc036",
       "style": "IPY_MODEL_f4c822ba65bd44d790729264af2ee4d9"
      }
     },
     "a71431e93ddf418198e7356eb48a0689": {
      "model_module": "@jupyter-widgets/base",
      "model_module_version": "1.0.0",
      "model_name": "LayoutModel",
      "state": {}
     },
     "a7cd6369605a499782488382fd081469": {
      "model_module": "@jupyter-widgets/controls",
      "model_module_version": "1.2.0",
      "model_name": "DescriptionStyleModel",
      "state": {
       "description_width": ""
      }
     },
     "a7df49a2f7654bbcb8ffeb9adf129ca2": {
      "model_module": "@jupyter-widgets/controls",
      "model_module_version": "1.2.0",
      "model_name": "ButtonModel",
      "state": {
       "description": "koordiniert",
       "layout": "IPY_MODEL_3b61f0f5735b4faaac60c56833909f7b",
       "style": "IPY_MODEL_ecd6d4d7bff3494bab75d73e87def9c8"
      }
     },
     "a7eb6a1286d9403baadda7db883ae1c9": {
      "model_module": "@jupyter-widgets/controls",
      "model_module_version": "1.2.0",
      "model_name": "HTMLModel",
      "state": {
       "layout": "IPY_MODEL_ae49a5cc12b24816b7240000cfd89566",
       "style": "IPY_MODEL_c37a902516be46859e6f3f59260a8ddc",
       "value": "<i>Wählen Sie die <ins>eine</ins> korrekte Antwort aus: </i>"
      }
     },
     "a7f741cc44ed41a487ae9177f380630d": {
      "model_module": "@jupyter-widgets/controls",
      "model_module_version": "1.2.0",
      "model_name": "DescriptionStyleModel",
      "state": {
       "description_width": "initial"
      }
     },
     "a83719951d474fa9966ac33007b28c37": {
      "model_module": "@jupyter-widgets/controls",
      "model_module_version": "1.2.0",
      "model_name": "ButtonStyleModel",
      "state": {
       "button_color": "lightgreen"
      }
     },
     "a8841ac2f17145948f0238fa8e02d5c5": {
      "model_module": "@jupyter-widgets/controls",
      "model_module_version": "1.2.0",
      "model_name": "ButtonModel",
      "state": {
       "description": "Subjekt",
       "layout": "IPY_MODEL_3dfe63a07e0642b88a11a8741dc055db",
       "style": "IPY_MODEL_cdd44aa5b886491c914c247fa6fcba15"
      }
     },
     "a8993ee0af2546bdb1cf777542598248": {
      "model_module": "@jupyter-widgets/controls",
      "model_module_version": "1.2.0",
      "model_name": "DescriptionStyleModel",
      "state": {
       "description_width": ""
      }
     },
     "a8bc9a57dcae4157adb6d96b91682de4": {
      "model_module": "@jupyter-widgets/controls",
      "model_module_version": "1.2.0",
      "model_name": "VBoxModel",
      "state": {
       "children": [
        "IPY_MODEL_f6a542c219d04e3ca3f7bc68e676e702",
        "IPY_MODEL_f98da67f50484e73ab254a1836a49298",
        "IPY_MODEL_618b2fe24b9b4bcf84c5c539174fed76",
        "IPY_MODEL_92bc21d2117548fcb2cc746eb9b1f380"
       ],
       "layout": "IPY_MODEL_54f0b40e3b6d4b3c8847fdcd0425e82d"
      }
     },
     "a93100c5019c4db39b70f07139f0be44": {
      "model_module": "@jupyter-widgets/controls",
      "model_module_version": "1.2.0",
      "model_name": "DescriptionStyleModel",
      "state": {
       "description_width": "initial"
      }
     },
     "a937959401764b538b4599105374ae90": {
      "model_module": "@jupyter-widgets/controls",
      "model_module_version": "1.2.0",
      "model_name": "DescriptionStyleModel",
      "state": {
       "description_width": ""
      }
     },
     "a9446970fca54ad8a6f33efcc56decc4": {
      "model_module": "@jupyter-widgets/base",
      "model_module_version": "1.0.0",
      "model_name": "LayoutModel",
      "state": {
       "width": "250px"
      }
     },
     "a95248b3b6694209a9f6e9658b9b4f22": {
      "model_module": "@jupyter-widgets/controls",
      "model_module_version": "1.2.0",
      "model_name": "ButtonModel",
      "state": {
       "description": "subordiniert",
       "layout": "IPY_MODEL_2e932b6cd5184f948208917a3a03871b",
       "style": "IPY_MODEL_7af564e4136348c6ad39dbce0831ad05"
      }
     },
     "aa54005b1b1d48fabbfaa3ff9e9473e2": {
      "model_module": "@jupyter-widgets/controls",
      "model_module_version": "1.2.0",
      "model_name": "DescriptionStyleModel",
      "state": {
       "description_width": "initial"
      }
     },
     "ab9634bcf97242d381e1de2b8373f369": {
      "model_module": "@jupyter-widgets/base",
      "model_module_version": "1.0.0",
      "model_name": "LayoutModel",
      "state": {
       "width": "250px"
      }
     },
     "ab9e6535712d4e42abc1d8b9999daade": {
      "model_module": "@jupyter-widgets/controls",
      "model_module_version": "1.2.0",
      "model_name": "ButtonModel",
      "state": {
       "description": "Satz 1",
       "layout": "IPY_MODEL_c45ba21b2cd64b43ac5675f6ec324b7c",
       "style": "IPY_MODEL_035fa7a2d17e486d82254894d71c3d77"
      }
     },
     "abbd7641826d48ecb98d437e16041120": {
      "model_module": "@jupyter-widgets/controls",
      "model_module_version": "1.2.0",
      "model_name": "DescriptionStyleModel",
      "state": {
       "description_width": ""
      }
     },
     "abc99cf3d6f84bb4b8a8eb8bc82cccd5": {
      "model_module": "@jupyter-widgets/base",
      "model_module_version": "1.0.0",
      "model_name": "LayoutModel",
      "state": {
       "width": "250px"
      }
     },
     "ac04dd9e80de41c09cdc24e83e26326f": {
      "model_module": "@jupyter-widgets/controls",
      "model_module_version": "1.2.0",
      "model_name": "VBoxModel",
      "state": {
       "children": [
        "IPY_MODEL_c644d02102c846dca9be9893d31d44e8",
        "IPY_MODEL_6c2eebfbe0974f38849c0136b43946f3",
        "IPY_MODEL_459a760136b14484afe7a90c2dcab5db",
        "IPY_MODEL_1a853bfd514f4827ac660289533aaa13"
       ],
       "layout": "IPY_MODEL_118228de2cca416484903a1e4956a1bb"
      }
     },
     "ac1da2f3202041e6b285cb9c23415616": {
      "model_module": "@jupyter-widgets/controls",
      "model_module_version": "1.2.0",
      "model_name": "HTMLModel",
      "state": {
       "layout": "IPY_MODEL_1e554647c97d441c919b12b308487191",
       "style": "IPY_MODEL_3a13fcf89fbd416c99f73fbb9b4bfd69",
       "value": "<i>Wählen Sie die <ins>eine</ins> korrekte Antwort aus: </i>"
      }
     },
     "ac3f975587264dbf86b6046a882db43d": {
      "model_module": "@jupyter-widgets/controls",
      "model_module_version": "1.2.0",
      "model_name": "ButtonStyleModel",
      "state": {
       "button_color": "lightgreen"
      }
     },
     "acc0727abc4b4a1da7c23c3d9c8681ad": {
      "model_module": "@jupyter-widgets/base",
      "model_module_version": "1.0.0",
      "model_name": "LayoutModel",
      "state": {
       "width": "600px"
      }
     },
     "ad063fe70445443b93681526f843ed96": {
      "model_module": "@jupyter-widgets/controls",
      "model_module_version": "1.2.0",
      "model_name": "DescriptionStyleModel",
      "state": {
       "description_width": "initial"
      }
     },
     "ad20ef16be8246b187d74fdb3bc560e8": {
      "model_module": "@jupyter-widgets/controls",
      "model_module_version": "1.2.0",
      "model_name": "CheckboxModel",
      "state": {
       "description": "Es handelt sich kommunikativ um eine Aufforderung.",
       "disabled": false,
       "layout": "IPY_MODEL_d3e5756b5b5145dba1144691794a7494",
       "style": "IPY_MODEL_f37cdfc09a1f47caaf0b5d05d3d70e90",
       "value": false
      }
     },
     "ad5cf4cf73e7454d8b07939165e6dfa1": {
      "model_module": "@jupyter-widgets/controls",
      "model_module_version": "1.2.0",
      "model_name": "HBoxModel",
      "state": {
       "children": [
        "IPY_MODEL_52c1eec6222544a4a862258d80f57c91"
       ],
       "layout": "IPY_MODEL_69c10aec36e1473aa2cb0ddf1fab3f5b"
      }
     },
     "ada9bb36876640c7855f2bb54c0b0c4b": {
      "model_module": "@jupyter-widgets/controls",
      "model_module_version": "1.2.0",
      "model_name": "HTMLModel",
      "state": {
       "layout": "IPY_MODEL_a53f4a4ef73c47e5a5331edd41a2bfd1",
       "style": "IPY_MODEL_02eb2d23a3b6431b84d195cbf78e0535",
       "value": "<h4 style=\"font-size:14px;\">Welche Aussagen stimmen für den Teilsatz <i>als sie ...</i> formal gesehen?</h4>"
      }
     },
     "adb934c457aa4a1fa799028ad5c5dec0": {
      "model_module": "@jupyter-widgets/controls",
      "model_module_version": "1.2.0",
      "model_name": "HTMLModel",
      "state": {
       "layout": "IPY_MODEL_3c59dcb94bd7406388186d02c06161e4",
       "style": "IPY_MODEL_685f12ef19534b97b3027d4214dece90",
       "value": "<h4 style=\"font-size:14px;\">Um welche Satzart handelt es sich bei Satz 2?</h4>"
      }
     },
     "adc954e5e1b7442ebb85f118ab1e590b": {
      "model_module": "@jupyter-widgets/controls",
      "model_module_version": "1.2.0",
      "model_name": "CheckboxModel",
      "state": {
       "description": "Die linke SK ist unbesetzt.",
       "disabled": false,
       "layout": "IPY_MODEL_348a81ea74364dc19a5d766dedebc9f0",
       "style": "IPY_MODEL_a1a4188afc3d4290b53e8c91fc49f809",
       "value": false
      }
     },
     "adc9fa91417e45fc9bacefb90fd35a1f": {
      "model_module": "@jupyter-widgets/base",
      "model_module_version": "1.0.0",
      "model_name": "LayoutModel",
      "state": {}
     },
     "addd855fa8824c628f1914da5790f90d": {
      "model_module": "@jupyter-widgets/controls",
      "model_module_version": "1.2.0",
      "model_name": "DescriptionStyleModel",
      "state": {
       "description_width": ""
      }
     },
     "ae49a5cc12b24816b7240000cfd89566": {
      "model_module": "@jupyter-widgets/base",
      "model_module_version": "1.0.0",
      "model_name": "LayoutModel",
      "state": {
       "justify_content": "center"
      }
     },
     "aea909f70b444544811c907d3e72fb16": {
      "model_module": "@jupyter-widgets/controls",
      "model_module_version": "1.2.0",
      "model_name": "HTMLModel",
      "state": {
       "layout": "IPY_MODEL_ef6488e7dde74e39b9ce70d8b53cc5b5",
       "style": "IPY_MODEL_1530d263fe9a49e893d6c82c568b9c96",
       "value": "<h4 style=\"font-size:14px;\">Welcher eingebettete Satztyp liegt vor?</h4>"
      }
     },
     "aee94c16037c4f41a05770f912110823": {
      "model_module": "@jupyter-widgets/controls",
      "model_module_version": "1.2.0",
      "model_name": "DescriptionStyleModel",
      "state": {
       "description_width": "initial"
      }
     },
     "afbf5606018946b084af582946b66649": {
      "model_module": "@jupyter-widgets/controls",
      "model_module_version": "1.2.0",
      "model_name": "CheckboxModel",
      "state": {
       "description": "sein",
       "disabled": false,
       "layout": "IPY_MODEL_574c05a10242483dad205e6bde55482a",
       "style": "IPY_MODEL_58393f3634414037aa75df396147bb0c",
       "value": true
      }
     },
     "aff2822eae6f4ee9bf35cb17663377d3": {
      "model_module": "@jupyter-widgets/controls",
      "model_module_version": "1.2.0",
      "model_name": "HTMLModel",
      "state": {
       "layout": "IPY_MODEL_767c091b487a4401acf7c10547f69576",
       "style": "IPY_MODEL_3558bb122036499990432d9fdde7655c",
       "value": "<h4 style=\"font-size:14px;\">Welche Wörter stehen im Mittelfeld?</h4>"
      }
     },
     "b04e224821a34005a5c36e8f9b7eb798": {
      "model_module": "@jupyter-widgets/base",
      "model_module_version": "1.0.0",
      "model_name": "LayoutModel",
      "state": {
       "width": "600px"
      }
     },
     "b060130b7c3b4d87b70a281fab511e43": {
      "model_module": "@jupyter-widgets/controls",
      "model_module_version": "1.2.0",
      "model_name": "VBoxModel",
      "state": {
       "children": [
        "IPY_MODEL_5dc14368b4a3466d925f2275d32fd903",
        "IPY_MODEL_c1f6845a1623495ab70b5bf8ccd92ebc",
        "IPY_MODEL_93d8373654524d02af078110398342d4",
        "IPY_MODEL_6462e2d2408e43e7b8008dadab85c959"
       ],
       "layout": "IPY_MODEL_a28712eab110465dbeadba57d59b78ff"
      }
     },
     "b084a9031fa24a6d9b9b84699a90cdc3": {
      "model_module": "@jupyter-widgets/base",
      "model_module_version": "1.0.0",
      "model_name": "LayoutModel",
      "state": {
       "justify_content": "center"
      }
     },
     "b0b608cfa6274867a61e4581df619832": {
      "model_module": "@jupyter-widgets/controls",
      "model_module_version": "1.2.0",
      "model_name": "DescriptionStyleModel",
      "state": {
       "description_width": ""
      }
     },
     "b0be08b4217e4bb4b1a6acfc78a3da6a": {
      "model_module": "@jupyter-widgets/controls",
      "model_module_version": "1.2.0",
      "model_name": "HTMLModel",
      "state": {
       "layout": "IPY_MODEL_260cd2dce5d2495597b136c70d7bd442",
       "style": "IPY_MODEL_a50ae18d80a0408e8410d4f83fa9ee95",
       "value": "<i>Wählen Sie die <ins>eine</ins> korrekte Antwort aus: </i>"
      }
     },
     "b0cb78ead39c42e4b9c43df82f308bc5": {
      "model_module": "@jupyter-widgets/controls",
      "model_module_version": "1.2.0",
      "model_name": "DescriptionStyleModel",
      "state": {
       "description_width": ""
      }
     },
     "b0cb971c34134c329a6a9648c7613b75": {
      "model_module": "@jupyter-widgets/base",
      "model_module_version": "1.0.0",
      "model_name": "LayoutModel",
      "state": {
       "justify_content": "center"
      }
     },
     "b0e9df5beab148558f871ee419819913": {
      "model_module": "@jupyter-widgets/controls",
      "model_module_version": "1.2.0",
      "model_name": "DropdownModel",
      "state": {
       "_options_labels": [
        "Adverbialsatz",
        "Attributsatz",
        "Komplementsatz",
        "Matrixsatz"
       ],
       "description": "Antwort:",
       "index": 0,
       "layout": "IPY_MODEL_d82954505d5245dda5f47b903ed3ad4b",
       "style": "IPY_MODEL_57201bc3296a43a9ad9692aeadd24a6e"
      }
     },
     "b10ed1d33aca49508e2d4cf0e645f79e": {
      "model_module": "@jupyter-widgets/controls",
      "model_module_version": "1.2.0",
      "model_name": "DropdownModel",
      "state": {
       "_options_labels": [
        "Finalsatz",
        "Kausalsatz",
        "Lokalsatz",
        "Modalsatz",
        "Relativsatz",
        "Temporalsatz"
       ],
       "description": "Antwort:",
       "index": 0,
       "layout": "IPY_MODEL_9c7974f9ab3f4ccb98baec63f34da2c7",
       "style": "IPY_MODEL_1d23e58377d9415b8087635dedb154c6"
      }
     },
     "b11089acee3942efb4e428d0fa39bdf2": {
      "model_module": "@jupyter-widgets/controls",
      "model_module_version": "1.2.0",
      "model_name": "HBoxModel",
      "state": {
       "children": [
        "IPY_MODEL_c44b9089e8754f53b7e8ba15c0f36055",
        "IPY_MODEL_f54bd88074e64423bd9d5552f081e283"
       ],
       "layout": "IPY_MODEL_18510d8c60084396b31b2247c0c74db8"
      }
     },
     "b116564220744040b770b52e24fba5b9": {
      "model_module": "@jupyter-widgets/controls",
      "model_module_version": "1.2.0",
      "model_name": "DropdownModel",
      "state": {
       "_options_labels": [
        "Infinitiv-Objektsatz",
        "Kausalsatz",
        "Keine der Alternativen",
        "Lokalsatz",
        "Modalsatz",
        "Relativsatz",
        "Subjektsatz",
        "Temporalsatz"
       ],
       "description": "Antwort:",
       "index": 0,
       "layout": "IPY_MODEL_6e06ed7be02440e8b4a2121cd5baec8d",
       "style": "IPY_MODEL_b0cb78ead39c42e4b9c43df82f308bc5"
      }
     },
     "b1470a02a2694c8491688f826a40955b": {
      "model_module": "@jupyter-widgets/base",
      "model_module_version": "1.0.0",
      "model_name": "LayoutModel",
      "state": {
       "width": "250px"
      }
     },
     "b14b327180f748a1bed10fb44a04e022": {
      "model_module": "@jupyter-widgets/base",
      "model_module_version": "1.0.0",
      "model_name": "LayoutModel",
      "state": {
       "width": "600px"
      }
     },
     "b1ac36b6588441c3bf3001147b28bb3c": {
      "model_module": "@jupyter-widgets/controls",
      "model_module_version": "1.2.0",
      "model_name": "CheckboxModel",
      "state": {
       "description": "Die rechte SK ist unbesetzt.",
       "disabled": false,
       "layout": "IPY_MODEL_3c75cfcc638045b3a3342f188834b547",
       "style": "IPY_MODEL_516cdf679cbb4dafa965742ff4c90aef",
       "value": false
      }
     },
     "b1c4fd35412046d082f0b16ad1aba068": {
      "model_module": "@jupyter-widgets/controls",
      "model_module_version": "1.2.0",
      "model_name": "CheckboxModel",
      "state": {
       "description": "das",
       "disabled": false,
       "layout": "IPY_MODEL_be74cf272b074ec38aecc1b7d0635891",
       "style": "IPY_MODEL_9577bcfa388d4433a7dfc58710a3a2ca",
       "value": false
      }
     },
     "b1c56f10b23d49e1b0e6fdde79185019": {
      "model_module": "@jupyter-widgets/base",
      "model_module_version": "1.0.0",
      "model_name": "LayoutModel",
      "state": {
       "width": "250px"
      }
     },
     "b2161b1c6ffe4cc2abb0db50963e5d7b": {
      "model_module": "@jupyter-widgets/controls",
      "model_module_version": "1.2.0",
      "model_name": "DescriptionStyleModel",
      "state": {
       "description_width": ""
      }
     },
     "b23a3cdca2474e0a9bf7efff6bd6bfa7": {
      "model_module": "@jupyter-widgets/base",
      "model_module_version": "1.0.0",
      "model_name": "LayoutModel",
      "state": {
       "width": "500px"
      }
     },
     "b2b7fe5cd7b34fb4ae6ebc1acbfc34f6": {
      "model_module": "@jupyter-widgets/base",
      "model_module_version": "1.0.0",
      "model_name": "LayoutModel",
      "state": {
       "width": "600px"
      }
     },
     "b2de8d5a66fc4ca7a886d678ff17a1a3": {
      "model_module": "@jupyter-widgets/base",
      "model_module_version": "1.0.0",
      "model_name": "LayoutModel",
      "state": {
       "width": "250px"
      }
     },
     "b3125c9a7b1b4034a1081eb6f27691bc": {
      "model_module": "@jupyter-widgets/base",
      "model_module_version": "1.0.0",
      "model_name": "LayoutModel",
      "state": {
       "width": "600px"
      }
     },
     "b344b6e0c6284a3797d053cfeafe8bd9": {
      "model_module": "@jupyter-widgets/controls",
      "model_module_version": "1.2.0",
      "model_name": "VBoxModel",
      "state": {
       "children": [
        "IPY_MODEL_dc13c2357d7e465283d8f78f91ec2ed8",
        "IPY_MODEL_d74ff81acf9c4969832830acdd91417a",
        "IPY_MODEL_190e036fb8f04ac481d0266a05521a49",
        "IPY_MODEL_db99603048f04a5b9467b61e3fe39609"
       ],
       "layout": "IPY_MODEL_b942e1b99afb4b03b813d1860110977e"
      }
     },
     "b345d0db14ea4eb2b755fc39117083ce": {
      "model_module": "@jupyter-widgets/base",
      "model_module_version": "1.0.0",
      "model_name": "LayoutModel",
      "state": {
       "width": "250px"
      }
     },
     "b39bb8828f094d458a8a3efd360b3978": {
      "model_module": "@jupyter-widgets/controls",
      "model_module_version": "1.2.0",
      "model_name": "VBoxModel",
      "state": {
       "children": [
        "IPY_MODEL_aea909f70b444544811c907d3e72fb16",
        "IPY_MODEL_45164f39c32543b0be252d89df12d13c",
        "IPY_MODEL_b116564220744040b770b52e24fba5b9",
        "IPY_MODEL_1cae156be1fb4f4ebc8c11b30d3e53fb"
       ],
       "layout": "IPY_MODEL_c05ba9185c02493eac78b351ebf8698d"
      }
     },
     "b3d292d65648479f8eb4b7bcbdfa176a": {
      "model_module": "@jupyter-widgets/controls",
      "model_module_version": "1.2.0",
      "model_name": "DescriptionStyleModel",
      "state": {
       "description_width": ""
      }
     },
     "b40b94520ae44be89ac99d3a59717f28": {
      "model_module": "@jupyter-widgets/controls",
      "model_module_version": "1.2.0",
      "model_name": "CheckboxModel",
      "state": {
       "description": "Ein Lied",
       "disabled": false,
       "layout": "IPY_MODEL_7bf8950346f048b5b9b250c1fc53c243",
       "style": "IPY_MODEL_9fa033ff2cfb41a1bbbb9bb56fc6cb56",
       "value": false
      }
     },
     "b41f7bfb0cef4299bd4c270a04e6fef2": {
      "model_module": "@jupyter-widgets/controls",
      "model_module_version": "1.2.0",
      "model_name": "VBoxModel",
      "state": {
       "children": [
        "IPY_MODEL_9000c90c77544379bb7e4eef84fd6e9a",
        "IPY_MODEL_441bb77f7611493cb402ee9b6c9d592a",
        "IPY_MODEL_0c24f581e1f54ac5a733a0071bcb5544",
        "IPY_MODEL_0e66a1dfc640400fa6e59d6be3dfdfa8"
       ],
       "layout": "IPY_MODEL_0827838003fb433d97786455c237ab8f"
      }
     },
     "b43aa4c5dc2c46998a82f1c0028599f1": {
      "model_module": "@jupyter-widgets/controls",
      "model_module_version": "1.2.0",
      "model_name": "DescriptionStyleModel",
      "state": {
       "description_width": ""
      }
     },
     "b46a9018e6eb4489961459ce6a9fae44": {
      "model_module": "@jupyter-widgets/base",
      "model_module_version": "1.0.0",
      "model_name": "LayoutModel",
      "state": {
       "width": "600px"
      }
     },
     "b47cfa3469cd4755969e2be1cd2edeec": {
      "model_module": "@jupyter-widgets/base",
      "model_module_version": "1.0.0",
      "model_name": "LayoutModel",
      "state": {
       "justify_content": "center"
      }
     },
     "b4dee0e012b444f99e643dac48f7527c": {
      "model_module": "@jupyter-widgets/controls",
      "model_module_version": "1.2.0",
      "model_name": "DescriptionStyleModel",
      "state": {
       "description_width": ""
      }
     },
     "b566ebd5401f43949fa63d7d4c568bf9": {
      "model_module": "@jupyter-widgets/controls",
      "model_module_version": "1.2.0",
      "model_name": "ButtonModel",
      "state": {
       "description": "VP",
       "layout": "IPY_MODEL_d78bea46901d4683b4c4bd138a054c01",
       "style": "IPY_MODEL_a3f52af86a8b487e9e26262b54f95874"
      }
     },
     "b576c4752bbf4e8ebb52060f1718b302": {
      "model_module": "@jupyter-widgets/controls",
      "model_module_version": "1.2.0",
      "model_name": "CheckboxModel",
      "state": {
       "description": "schenkte",
       "disabled": false,
       "layout": "IPY_MODEL_1f53b421f0384a43893d46190b7bba00",
       "style": "IPY_MODEL_7cf6691717814ecf853b1221a9feda08",
       "value": true
      }
     },
     "b5976c5fbd25400593bb7f33c20fc1b3": {
      "model_module": "@jupyter-widgets/controls",
      "model_module_version": "1.2.0",
      "model_name": "DescriptionStyleModel",
      "state": {
       "description_width": "initial"
      }
     },
     "b6f512bdd60e4ddba5025dfdfd1fe56a": {
      "model_module": "@jupyter-widgets/controls",
      "model_module_version": "1.2.0",
      "model_name": "DescriptionStyleModel",
      "state": {
       "description_width": ""
      }
     },
     "b72d7866df7147679e2bebfcec7ecc8a": {
      "model_module": "@jupyter-widgets/controls",
      "model_module_version": "1.2.0",
      "model_name": "ButtonModel",
      "state": {
       "description": "Objektkontrolle",
       "layout": "IPY_MODEL_cc6b08c4aded47a197692e4448f1d3ff",
       "style": "IPY_MODEL_67180c0b8f274d3d871b3fa93b56bcff"
      }
     },
     "b7570ef10af74ed396cc5d7211f7629f": {
      "model_module": "@jupyter-widgets/controls",
      "model_module_version": "1.2.0",
      "model_name": "DescriptionStyleModel",
      "state": {
       "description_width": "initial"
      }
     },
     "b77d7fa2f25240a6b95ee0388aefc5d7": {
      "model_module": "@jupyter-widgets/base",
      "model_module_version": "1.0.0",
      "model_name": "LayoutModel",
      "state": {}
     },
     "b789a47a19e1493da19fd052705755d0": {
      "model_module": "@jupyter-widgets/base",
      "model_module_version": "1.0.0",
      "model_name": "LayoutModel",
      "state": {}
     },
     "b7ad852956494f53b534797cc00c7bf1": {
      "model_module": "@jupyter-widgets/base",
      "model_module_version": "1.0.0",
      "model_name": "LayoutModel",
      "state": {
       "justify_content": "center"
      }
     },
     "b7b33b999e394a13bb7d571934a4acce": {
      "model_module": "@jupyter-widgets/controls",
      "model_module_version": "1.2.0",
      "model_name": "DescriptionStyleModel",
      "state": {
       "description_width": "initial"
      }
     },
     "b81cfca0126d4a4691ff0c595b116451": {
      "model_module": "@jupyter-widgets/controls",
      "model_module_version": "1.2.0",
      "model_name": "VBoxModel",
      "state": {
       "children": [
        "IPY_MODEL_355ee5718bc642aab302444dfeb10cb3",
        "IPY_MODEL_66a1e5638cdb4bba8d27c0053ad126b3",
        "IPY_MODEL_d3e3ba86acb242d3b9efb0d83008f281"
       ],
       "layout": "IPY_MODEL_f4d05b6f1b284d47a8aa0de3d472e917"
      }
     },
     "b8c150b6bd05465491f13eaa005b29c4": {
      "model_module": "@jupyter-widgets/base",
      "model_module_version": "1.0.0",
      "model_name": "LayoutModel",
      "state": {}
     },
     "b8d061ee35fc4ba9aadd48a13bd16edd": {
      "model_module": "@jupyter-widgets/controls",
      "model_module_version": "1.2.0",
      "model_name": "VBoxModel",
      "state": {
       "children": [
        "IPY_MODEL_9e73236e51614d7aa39e5a0f76c6665f",
        "IPY_MODEL_dfe4f13f3a3c476192b4ab988d6363b1",
        "IPY_MODEL_08cad4ff31484dd38816402260c5b054",
        "IPY_MODEL_1ce6944f44a348e6b72d55cda03a3e56"
       ],
       "layout": "IPY_MODEL_52f4ca25fc5d496bb83d1f61d2b6abb6"
      }
     },
     "b8ec0569e6a4440c9d01fc5b6c8dc036": {
      "model_module": "@jupyter-widgets/base",
      "model_module_version": "1.0.0",
      "model_name": "LayoutModel",
      "state": {
       "width": "250px"
      }
     },
     "b90e8e989b9646ce94a912e6d56d082c": {
      "model_module": "@jupyter-widgets/controls",
      "model_module_version": "1.2.0",
      "model_name": "ButtonModel",
      "state": {
       "description": "Satz 4",
       "layout": "IPY_MODEL_b1470a02a2694c8491688f826a40955b",
       "style": "IPY_MODEL_c0635fda555d4644b3f011965273c53c"
      }
     },
     "b942e1b99afb4b03b813d1860110977e": {
      "model_module": "@jupyter-widgets/base",
      "model_module_version": "1.0.0",
      "model_name": "LayoutModel",
      "state": {}
     },
     "b990cd8a5b954dda8f1d3df0286ff00b": {
      "model_module": "@jupyter-widgets/controls",
      "model_module_version": "1.2.0",
      "model_name": "HBoxModel",
      "state": {
       "children": [
        "IPY_MODEL_4b1324226f9248b5ada623674ff546c6",
        "IPY_MODEL_fd19a5890a3549799df1e8cbeeaefeaa"
       ],
       "layout": "IPY_MODEL_440e564a23ac4ca795bba4104d3b8a27"
      }
     },
     "b9d74c03ae054f829a9fa11e6ff9c825": {
      "model_module": "@jupyter-widgets/controls",
      "model_module_version": "1.2.0",
      "model_name": "HBoxModel",
      "state": {
       "children": [
        "IPY_MODEL_70451fb8a86e4670accdb18f87456d27"
       ],
       "layout": "IPY_MODEL_ba3f52a01d8e4247985e198571404721"
      }
     },
     "b9d8315284d64e6f93d74f172ae9abe4": {
      "model_module": "@jupyter-widgets/base",
      "model_module_version": "1.0.0",
      "model_name": "LayoutModel",
      "state": {
       "width": "250px"
      }
     },
     "b9f9a2117b0345879eb9aa34d1e9fec1": {
      "model_module": "@jupyter-widgets/controls",
      "model_module_version": "1.2.0",
      "model_name": "ButtonModel",
      "state": {
       "description": "Keine der anderen Möglichkeiten",
       "layout": "IPY_MODEL_9a262d46f960489e8bc2331b0cabc0b1",
       "style": "IPY_MODEL_5e4a687f1b4246a4a02afcdf54bc922f"
      }
     },
     "ba3f52a01d8e4247985e198571404721": {
      "model_module": "@jupyter-widgets/base",
      "model_module_version": "1.0.0",
      "model_name": "LayoutModel",
      "state": {}
     },
     "ba6d479a113a49478002b444da221b40": {
      "model_module": "@jupyter-widgets/base",
      "model_module_version": "1.0.0",
      "model_name": "LayoutModel",
      "state": {
       "width": "250px"
      }
     },
     "ba84ba4060d247788249deaa6ba39c93": {
      "model_module": "@jupyter-widgets/controls",
      "model_module_version": "1.2.0",
      "model_name": "CheckboxModel",
      "state": {
       "description": "gelesen",
       "disabled": false,
       "layout": "IPY_MODEL_d226955f875f4437a0ecb6ef9545e20d",
       "style": "IPY_MODEL_7ca75b361cd347b39bb94527d1b47703",
       "value": false
      }
     },
     "ba86c025711342448da12b76ed2f4c61": {
      "model_module": "@jupyter-widgets/controls",
      "model_module_version": "1.2.0",
      "model_name": "HTMLModel",
      "state": {
       "layout": "IPY_MODEL_96975bedb49149f88ee857755e9afe73",
       "style": "IPY_MODEL_e1d59034f18749f68dae6ab001b2aa8d",
       "value": "<h4 style=\"font-size:14px;\">Welche Wörter sind Teil der rechten Satzklammer?</h4>"
      }
     },
     "bad44d20cb084c92838cc4f6a21d6e7f": {
      "model_module": "@jupyter-widgets/controls",
      "model_module_version": "1.2.0",
      "model_name": "ButtonStyleModel",
      "state": {}
     },
     "bae772c4e3f949438768eb0870fbe251": {
      "model_module": "@jupyter-widgets/controls",
      "model_module_version": "1.2.0",
      "model_name": "DescriptionStyleModel",
      "state": {
       "description_width": ""
      }
     },
     "bb3fccf4f4bd4537ae55b8cccfefe783": {
      "model_module": "@jupyter-widgets/base",
      "model_module_version": "1.0.0",
      "model_name": "LayoutModel",
      "state": {
       "width": "600px"
      }
     },
     "bb6b4ecec39c4282a3aa3604db4463e4": {
      "model_module": "@jupyter-widgets/controls",
      "model_module_version": "1.2.0",
      "model_name": "CheckboxModel",
      "state": {
       "description": "zu",
       "disabled": false,
       "layout": "IPY_MODEL_0509a93971c94a99a8b3b9e5a859fe40",
       "style": "IPY_MODEL_fb1143ac4b8442afabc50177c4341c56",
       "value": false
      }
     },
     "bb770317c00043fcba6e31ff74e3fc03": {
      "model_module": "@jupyter-widgets/base",
      "model_module_version": "1.0.0",
      "model_name": "LayoutModel",
      "state": {}
     },
     "bbef4c85188b44af853f7f3579a40b0b": {
      "model_module": "@jupyter-widgets/controls",
      "model_module_version": "1.2.0",
      "model_name": "HTMLModel",
      "state": {
       "layout": "IPY_MODEL_cf0e1baafb4e4f24bfc9b6e54894c624",
       "style": "IPY_MODEL_a460e671a98b4005af5141d5add0a15d",
       "value": "<h4 style=\"font-size:14px;\">Was für eine Satzkonstruktion liegt hier vor?</h4>"
      }
     },
     "bc199dee10044ca4be0edb9c8774496d": {
      "model_module": "@jupyter-widgets/controls",
      "model_module_version": "1.2.0",
      "model_name": "DescriptionStyleModel",
      "state": {
       "description_width": ""
      }
     },
     "bc94c26c3a80475aa0b37c9bd6cc4134": {
      "model_module": "@jupyter-widgets/controls",
      "model_module_version": "1.2.0",
      "model_name": "DescriptionStyleModel",
      "state": {
       "description_width": ""
      }
     },
     "bcf70e2d526f4715b0f8a8e664cfb3ce": {
      "model_module": "@jupyter-widgets/controls",
      "model_module_version": "1.2.0",
      "model_name": "DescriptionStyleModel",
      "state": {
       "description_width": "initial"
      }
     },
     "bd0aa8f19495477cb03610f60e876c62": {
      "model_module": "@jupyter-widgets/controls",
      "model_module_version": "1.2.0",
      "model_name": "HTMLModel",
      "state": {
       "layout": "IPY_MODEL_5df99a20539342aeb3359d6b8db1d2e2",
       "style": "IPY_MODEL_d97c4eb9be0b4344ae74f12c0f0e74d4",
       "value": "<h4 style=\"font-size:14px;\">Welcher Satztyp kommt vor?</h4>"
      }
     },
     "bd0c4164d04d4a1c9d1c384347e3f6e2": {
      "model_module": "@jupyter-widgets/base",
      "model_module_version": "1.0.0",
      "model_name": "LayoutModel",
      "state": {
       "width": "600px"
      }
     },
     "bd5557dfb682405087fe4622348f3c91": {
      "model_module": "@jupyter-widgets/base",
      "model_module_version": "1.0.0",
      "model_name": "LayoutModel",
      "state": {
       "justify_content": "center"
      }
     },
     "bd9a9d8b807f455eb5417de78fdc37c4": {
      "model_module": "@jupyter-widgets/controls",
      "model_module_version": "1.2.0",
      "model_name": "HTMLModel",
      "state": {
       "layout": "IPY_MODEL_c3223e3a8ebb4732a4b7910a64528541",
       "style": "IPY_MODEL_d26f82941e014e7cb36d6c6b08e9d012",
       "value": "<h4 style=\"font-size:14px;\">Wieso?</h4>"
      }
     },
     "bdfa6f64d9eb448199c2a4f474ac8223": {
      "model_module": "@jupyter-widgets/base",
      "model_module_version": "1.0.0",
      "model_name": "LayoutModel",
      "state": {}
     },
     "bdfb161555b04229ba1cf855d9c75f15": {
      "model_module": "@jupyter-widgets/controls",
      "model_module_version": "1.2.0",
      "model_name": "DescriptionStyleModel",
      "state": {
       "description_width": "initial"
      }
     },
     "be17d8cf089743c4bd8d4dd3e8968cdd": {
      "model_module": "@jupyter-widgets/controls",
      "model_module_version": "1.2.0",
      "model_name": "DescriptionStyleModel",
      "state": {
       "description_width": "initial"
      }
     },
     "be44767243884638a02591d3a84cf668": {
      "model_module": "@jupyter-widgets/base",
      "model_module_version": "1.0.0",
      "model_name": "LayoutModel",
      "state": {}
     },
     "be61ffa16af843689b6f8818fd49b58d": {
      "model_module": "@jupyter-widgets/base",
      "model_module_version": "1.0.0",
      "model_name": "LayoutModel",
      "state": {
       "width": "250px"
      }
     },
     "be74cf272b074ec38aecc1b7d0635891": {
      "model_module": "@jupyter-widgets/base",
      "model_module_version": "1.0.0",
      "model_name": "LayoutModel",
      "state": {
       "width": "600px"
      }
     },
     "be9299895a49441a9a5b7c0fc3e693ce": {
      "model_module": "@jupyter-widgets/controls",
      "model_module_version": "1.2.0",
      "model_name": "DescriptionStyleModel",
      "state": {
       "description_width": "initial"
      }
     },
     "bef6fd9c97bb413f8d96b857dcab5080": {
      "model_module": "@jupyter-widgets/controls",
      "model_module_version": "1.2.0",
      "model_name": "VBoxModel",
      "state": {
       "children": [
        "IPY_MODEL_e06fdbb987da4b399c04c665d78353d8",
        "IPY_MODEL_578bc3f8ac8f4ae08d4360af2d38a831",
        "IPY_MODEL_b0e9df5beab148558f871ee419819913",
        "IPY_MODEL_a1aae494208d4980b9d5a2a564979e13"
       ],
       "layout": "IPY_MODEL_7129d28d92a94ef5a644d461b16333c8"
      }
     },
     "bf03cd926ad7460089d0f42c07a4a7e2": {
      "model_module": "@jupyter-widgets/controls",
      "model_module_version": "1.2.0",
      "model_name": "HTMLModel",
      "state": {
       "layout": "IPY_MODEL_b47cfa3469cd4755969e2be1cd2edeec",
       "style": "IPY_MODEL_866a58e894534746abd33747aef20588",
       "value": "<h4 style=\"font-size:14px;\">Was für eine Satzkonstruktion liegt hier vor?</h4>"
      }
     },
     "bf483e49a1dc45e194ecc468d23199b1": {
      "model_module": "@jupyter-widgets/controls",
      "model_module_version": "1.2.0",
      "model_name": "DescriptionStyleModel",
      "state": {
       "description_width": ""
      }
     },
     "bf95072ecfca45c8871d561d6c5b93d1": {
      "model_module": "@jupyter-widgets/base",
      "model_module_version": "1.0.0",
      "model_name": "LayoutModel",
      "state": {
       "width": "600px"
      }
     },
     "bfd538b79b344316964e2e82f8c9a549": {
      "model_module": "@jupyter-widgets/controls",
      "model_module_version": "1.2.0",
      "model_name": "ButtonStyleModel",
      "state": {
       "button_color": "lightgreen"
      }
     },
     "c0170ba6a5f148aa87bb8f9bfe173e37": {
      "model_module": "@jupyter-widgets/controls",
      "model_module_version": "1.2.0",
      "model_name": "ButtonStyleModel",
      "state": {}
     },
     "c05ba9185c02493eac78b351ebf8698d": {
      "model_module": "@jupyter-widgets/base",
      "model_module_version": "1.0.0",
      "model_name": "LayoutModel",
      "state": {}
     },
     "c0635fda555d4644b3f011965273c53c": {
      "model_module": "@jupyter-widgets/controls",
      "model_module_version": "1.2.0",
      "model_name": "ButtonStyleModel",
      "state": {}
     },
     "c07f745597ba4c60a92bdf2e8fc3f1a8": {
      "model_module": "@jupyter-widgets/controls",
      "model_module_version": "1.2.0",
      "model_name": "ButtonStyleModel",
      "state": {}
     },
     "c08ac434717f46e6a90e2fb0e3f53b70": {
      "model_module": "@jupyter-widgets/controls",
      "model_module_version": "1.2.0",
      "model_name": "CheckboxModel",
      "state": {
       "description": "ihm",
       "disabled": false,
       "layout": "IPY_MODEL_ed7bcb06a01044e3907317acd20dcae3",
       "style": "IPY_MODEL_1eddd82fbdfd4765a5af71d49651ea6d",
       "value": false
      }
     },
     "c0f0998c1db54688a77dc5263f5f97ad": {
      "model_module": "@jupyter-widgets/controls",
      "model_module_version": "1.2.0",
      "model_name": "ButtonStyleModel",
      "state": {}
     },
     "c11aa5cf356747cba7e11d5f68676b4a": {
      "model_module": "@jupyter-widgets/base",
      "model_module_version": "1.0.0",
      "model_name": "LayoutModel",
      "state": {
       "width": "250px"
      }
     },
     "c173648f51014ec5a59ed82a159203bf": {
      "model_module": "@jupyter-widgets/controls",
      "model_module_version": "1.2.0",
      "model_name": "VBoxModel",
      "state": {
       "children": [
        "IPY_MODEL_31be1f4448184fa4a101f863e84916d3",
        "IPY_MODEL_5d0df73c10a14154b745d1f8e1857b26",
        "IPY_MODEL_07e9cf6ab9414afe9b3f7d4af9c36acf",
        "IPY_MODEL_d217a1ba67c94ae7beaea0ddaa3dbda8",
        "IPY_MODEL_b11089acee3942efb4e428d0fa39bdf2"
       ],
       "layout": "IPY_MODEL_2fd4fd42df5c4c288fb6eb91f99b7bfd"
      }
     },
     "c183394eb1c141a99d73f99899437009": {
      "model_module": "@jupyter-widgets/base",
      "model_module_version": "1.0.0",
      "model_name": "LayoutModel",
      "state": {
       "width": "600px"
      }
     },
     "c18a34dd3bdc497ebde364b16db106a6": {
      "model_module": "@jupyter-widgets/base",
      "model_module_version": "1.0.0",
      "model_name": "LayoutModel",
      "state": {
       "width": "600px"
      }
     },
     "c1f3ae55f3f7420698ddf6af960db34c": {
      "model_module": "@jupyter-widgets/controls",
      "model_module_version": "1.2.0",
      "model_name": "VBoxModel",
      "state": {
       "children": [
        "IPY_MODEL_3f8e7e78828145e186eaaa6c69b16d64",
        "IPY_MODEL_1a6f8a8656a8447a9de056ff005a3c22"
       ],
       "layout": "IPY_MODEL_a1d7604df50e4d6e9735e749ef2b329d"
      }
     },
     "c1f6845a1623495ab70b5bf8ccd92ebc": {
      "model_module": "@jupyter-widgets/controls",
      "model_module_version": "1.2.0",
      "model_name": "HTMLModel",
      "state": {
       "layout": "IPY_MODEL_7267770c9d9847efabb75925c39fbd57",
       "style": "IPY_MODEL_5e7b8f83cd054088828f9dd1fda1aa2e",
       "value": "<i>Markieren Sie <ins>alle</ins> passenden Antworten: </i>"
      }
     },
     "c20682de859b4fdeae98b980c249eed3": {
      "model_module": "@jupyter-widgets/base",
      "model_module_version": "1.0.0",
      "model_name": "LayoutModel",
      "state": {
       "width": "600px"
      }
     },
     "c2742a674c3b40dda981d8900bbadbe4": {
      "model_module": "@jupyter-widgets/controls",
      "model_module_version": "1.2.0",
      "model_name": "CheckboxModel",
      "state": {
       "description": "das",
       "disabled": false,
       "layout": "IPY_MODEL_2fec24b3dbe54f52a7dbaf7fd32a6509",
       "style": "IPY_MODEL_86c4b85442694f4e92dc9f90cc1baae7",
       "value": false
      }
     },
     "c2c14ac316044ed29f7fd3b46a2aa714": {
      "model_module": "@jupyter-widgets/controls",
      "model_module_version": "1.2.0",
      "model_name": "ButtonStyleModel",
      "state": {}
     },
     "c30edd8861bc4b0e96ed36eeb2b01a86": {
      "model_module": "@jupyter-widgets/controls",
      "model_module_version": "1.2.0",
      "model_name": "ButtonModel",
      "state": {
       "description": "S-bar",
       "layout": "IPY_MODEL_2cbc4b2e867244d799f2b8a91a1f9f29",
       "style": "IPY_MODEL_2460e2602ce2405e9025b9eeaf9ef3b8"
      }
     },
     "c3223e3a8ebb4732a4b7910a64528541": {
      "model_module": "@jupyter-widgets/base",
      "model_module_version": "1.0.0",
      "model_name": "LayoutModel",
      "state": {}
     },
     "c34125aef8974ffab14dd158cb1ac589": {
      "model_module": "@jupyter-widgets/controls",
      "model_module_version": "1.2.0",
      "model_name": "ButtonModel",
      "state": {
       "description": "Korrekt?",
       "layout": "IPY_MODEL_f64701ac4d9a4379bfa309b4f2945bcd",
       "style": "IPY_MODEL_852d91825617406b97b0867614bd1a9e"
      }
     },
     "c377cd82983c4f75b32fca6fa6f92828": {
      "model_module": "@jupyter-widgets/controls",
      "model_module_version": "1.2.0",
      "model_name": "DescriptionStyleModel",
      "state": {
       "description_width": ""
      }
     },
     "c37a902516be46859e6f3f59260a8ddc": {
      "model_module": "@jupyter-widgets/controls",
      "model_module_version": "1.2.0",
      "model_name": "DescriptionStyleModel",
      "state": {
       "description_width": ""
      }
     },
     "c3a799fb561a4377a4988a6e4b03d592": {
      "model_module": "@jupyter-widgets/base",
      "model_module_version": "1.0.0",
      "model_name": "LayoutModel",
      "state": {}
     },
     "c42cab9c8dc84429ad59fb75e6ccf9be": {
      "model_module": "@jupyter-widgets/base",
      "model_module_version": "1.0.0",
      "model_name": "LayoutModel",
      "state": {}
     },
     "c43f015aa11f4661bb9d7a6999fdb744": {
      "model_module": "@jupyter-widgets/controls",
      "model_module_version": "1.2.0",
      "model_name": "DescriptionStyleModel",
      "state": {
       "description_width": "initial"
      }
     },
     "c44781fc103449feaf5341385920fb66": {
      "model_module": "@jupyter-widgets/controls",
      "model_module_version": "1.2.0",
      "model_name": "DescriptionStyleModel",
      "state": {
       "description_width": ""
      }
     },
     "c44b9089e8754f53b7e8ba15c0f36055": {
      "model_module": "@jupyter-widgets/controls",
      "model_module_version": "1.2.0",
      "model_name": "ButtonModel",
      "state": {
       "description": "finites Verb",
       "layout": "IPY_MODEL_a16c6e5d95454a31b140adbe24b23506",
       "style": "IPY_MODEL_128c5b9a32dc454b9b578dd88e5fa706"
      }
     },
     "c45ba21b2cd64b43ac5675f6ec324b7c": {
      "model_module": "@jupyter-widgets/base",
      "model_module_version": "1.0.0",
      "model_name": "LayoutModel",
      "state": {
       "width": "250px"
      }
     },
     "c46320353cdc4e5b9fb2d01a9a4042b0": {
      "model_module": "@jupyter-widgets/controls",
      "model_module_version": "1.2.0",
      "model_name": "CheckboxModel",
      "state": {
       "description": "Modus: Indikativ",
       "disabled": false,
       "layout": "IPY_MODEL_37fac5ef041940dea8809e55cc87b929",
       "style": "IPY_MODEL_4f48564e6e3749adaa27942b62bb2b34",
       "value": true
      }
     },
     "c46cbed17f474b398dfc8270998452f4": {
      "model_module": "@jupyter-widgets/base",
      "model_module_version": "1.0.0",
      "model_name": "LayoutModel",
      "state": {
       "width": "600px"
      }
     },
     "c48b58e89838478581a6ed5468f58153": {
      "model_module": "@jupyter-widgets/controls",
      "model_module_version": "1.2.0",
      "model_name": "DescriptionStyleModel",
      "state": {
       "description_width": "initial"
      }
     },
     "c4af8092c08445a090d0ec44df6b1d33": {
      "model_module": "@jupyter-widgets/controls",
      "model_module_version": "1.2.0",
      "model_name": "DescriptionStyleModel",
      "state": {
       "description_width": ""
      }
     },
     "c4c8849300c340e4837316de91bd929a": {
      "model_module": "@jupyter-widgets/controls",
      "model_module_version": "1.2.0",
      "model_name": "HTMLModel",
      "state": {
       "layout": "IPY_MODEL_8bfbfe4cecf64f7c88fa32e23fe42051",
       "style": "IPY_MODEL_ed02682149984dc1859e74bc3c1ce3f4",
       "value": "<h4 style=\"font-size:14px;\">Welcher eingebettete Satztyp liegt vor?</h4>"
      }
     },
     "c4de0f22ef5b47f8adefb184966393b2": {
      "model_module": "@jupyter-widgets/controls",
      "model_module_version": "1.2.0",
      "model_name": "DescriptionStyleModel",
      "state": {
       "description_width": "initial"
      }
     },
     "c5054b5192ba4e20a1d966783252ae65": {
      "model_module": "@jupyter-widgets/base",
      "model_module_version": "1.0.0",
      "model_name": "LayoutModel",
      "state": {
       "width": "250px"
      }
     },
     "c52d3d5179564c9a8be97f55001392f2": {
      "model_module": "@jupyter-widgets/controls",
      "model_module_version": "1.2.0",
      "model_name": "ButtonModel",
      "state": {
       "description": "subordiniert",
       "layout": "IPY_MODEL_ec55057387b847f2bf1ad915c6ff815a",
       "style": "IPY_MODEL_418a3f1fbdfd403e95c618e84e92e86c"
      }
     },
     "c594b5c93f14480793ae420662f4ca4a": {
      "model_module": "@jupyter-widgets/controls",
      "model_module_version": "1.2.0",
      "model_name": "DescriptionStyleModel",
      "state": {
       "description_width": "initial"
      }
     },
     "c5acb747427b41f484467ffd264915b5": {
      "model_module": "@jupyter-widgets/base",
      "model_module_version": "1.0.0",
      "model_name": "LayoutModel",
      "state": {}
     },
     "c5bd98bac908442981c895c332857ab7": {
      "model_module": "@jupyter-widgets/controls",
      "model_module_version": "1.2.0",
      "model_name": "HTMLModel",
      "state": {
       "layout": "IPY_MODEL_48320e02e78041e69a3be0af834fc7bb",
       "style": "IPY_MODEL_de0862ba69464dc79f099574460373fd",
       "value": "<i>Wählen Sie die <ins>eine</ins> korrekte Antwort aus: </i>"
      }
     },
     "c5f8949ce0104e46ac360f191d77ff63": {
      "model_module": "@jupyter-widgets/base",
      "model_module_version": "1.0.0",
      "model_name": "LayoutModel",
      "state": {
       "width": "250px"
      }
     },
     "c644d02102c846dca9be9893d31d44e8": {
      "model_module": "@jupyter-widgets/controls",
      "model_module_version": "1.2.0",
      "model_name": "HTMLModel",
      "state": {
       "layout": "IPY_MODEL_f17df10c635346d9bb0fe19a07dfc73b",
       "style": "IPY_MODEL_6bdfab7fd4f94b2487cd6fddb237e02b",
       "value": "<h4 style=\"font-size:14px;\">Welche Wörter sind Teil der linken Satzklammer?</h4>"
      }
     },
     "c6e4afc4654d4e02878345fe080b0331": {
      "model_module": "@jupyter-widgets/base",
      "model_module_version": "1.0.0",
      "model_name": "LayoutModel",
      "state": {
       "width": "250px"
      }
     },
     "c74c6cf7b90046889073460a1d5f187f": {
      "model_module": "@jupyter-widgets/base",
      "model_module_version": "1.0.0",
      "model_name": "LayoutModel",
      "state": {}
     },
     "c76b1ef7d5214af1bde862cea0b7a2b4": {
      "model_module": "@jupyter-widgets/base",
      "model_module_version": "1.0.0",
      "model_name": "LayoutModel",
      "state": {
       "justify_content": "center"
      }
     },
     "c7864587214d4cab9419e12c9db9a363": {
      "model_module": "@jupyter-widgets/controls",
      "model_module_version": "1.2.0",
      "model_name": "DescriptionStyleModel",
      "state": {
       "description_width": ""
      }
     },
     "c7b20078e4cd4c85bb1d04b12681ece3": {
      "model_module": "@jupyter-widgets/controls",
      "model_module_version": "1.2.0",
      "model_name": "DescriptionStyleModel",
      "state": {
       "description_width": ""
      }
     },
     "c7b524904abf40c194a326f398522ad0": {
      "model_module": "@jupyter-widgets/controls",
      "model_module_version": "1.2.0",
      "model_name": "VBoxModel",
      "state": {
       "children": [
        "IPY_MODEL_5af52ed273154cbbb259f9727042e995",
        "IPY_MODEL_1fd1276e28f348578065fa22bd85bcb4",
        "IPY_MODEL_85947938c7e94bbcb871fb64109082e9",
        "IPY_MODEL_0cf4be77912644f9ac881f79a4f3d7ae"
       ],
       "layout": "IPY_MODEL_401abe8022cc41b99bbe4afb5a5cad89"
      }
     },
     "c7bb594df332482cb09dee3ce1b348df": {
      "model_module": "@jupyter-widgets/controls",
      "model_module_version": "1.2.0",
      "model_name": "CheckboxModel",
      "state": {
       "description": "das",
       "disabled": false,
       "layout": "IPY_MODEL_979a9d0287da4c69b8a8214da843ebb4",
       "style": "IPY_MODEL_2f1ca9f38d584dadac9842110bf1f403",
       "value": false
      }
     },
     "c7c444dd08754149a9276c9a821f8052": {
      "model_module": "@jupyter-widgets/base",
      "model_module_version": "1.0.0",
      "model_name": "LayoutModel",
      "state": {}
     },
     "c7e6d5bd0dd940ce9840d56aef539e33": {
      "model_module": "@jupyter-widgets/controls",
      "model_module_version": "1.2.0",
      "model_name": "HTMLModel",
      "state": {
       "layout": "IPY_MODEL_8c1780c080bd45af9cae26edc9f26bb9",
       "style": "IPY_MODEL_1caecc80d8db418391a77ede28c7bad6",
       "value": "<i>Wählen Sie die <ins>eine</ins> korrekte Antwort aus: </i>"
      }
     },
     "c83294c26d3143b6b088a7b171a213ba": {
      "model_module": "@jupyter-widgets/base",
      "model_module_version": "1.0.0",
      "model_name": "LayoutModel",
      "state": {}
     },
     "c86ef9696afe4ba8960c6be777d0fdb1": {
      "model_module": "@jupyter-widgets/base",
      "model_module_version": "1.0.0",
      "model_name": "LayoutModel",
      "state": {
       "width": "600px"
      }
     },
     "c8927b53e8a94473b5413a1a982322b5": {
      "model_module": "@jupyter-widgets/base",
      "model_module_version": "1.0.0",
      "model_name": "LayoutModel",
      "state": {
       "width": "600px"
      }
     },
     "c8b703bd00cc498983c182d11b59c43c": {
      "model_module": "@jupyter-widgets/controls",
      "model_module_version": "1.2.0",
      "model_name": "ButtonStyleModel",
      "state": {
       "button_color": "lightgreen"
      }
     },
     "c8c8ce250fb74df89ac8d65f29ea9695": {
      "model_module": "@jupyter-widgets/base",
      "model_module_version": "1.0.0",
      "model_name": "LayoutModel",
      "state": {
       "justify_content": "center"
      }
     },
     "c90901658ef54220bb81ac77937ad953": {
      "model_module": "@jupyter-widgets/controls",
      "model_module_version": "1.2.0",
      "model_name": "HTMLModel",
      "state": {
       "layout": "IPY_MODEL_209186a0452549c58ef593d2e60595db",
       "style": "IPY_MODEL_fd9324d7abb948d0b33aab668ceda732",
       "value": "<h4 style=\"font-size:14px;\">'Die Abfolgeregularität für Personalpronomina ist normalerweise ›Subjekt vor Akkusativobjekt vor Dativobjekt‹.'</h4>"
      }
     },
     "c917968ee2384e3a8b528165b1a0b24b": {
      "model_module": "@jupyter-widgets/controls",
      "model_module_version": "1.2.0",
      "model_name": "CheckboxModel",
      "state": {
       "description": "Modus: Indikativ",
       "disabled": false,
       "layout": "IPY_MODEL_7f1e7ead9c98458c96816e7f9e33a99e",
       "style": "IPY_MODEL_971a56d5725e413da151d57c68e8683d",
       "value": false
      }
     },
     "c99d339c1884484da08a82c69961fa07": {
      "model_module": "@jupyter-widgets/controls",
      "model_module_version": "1.2.0",
      "model_name": "ButtonModel",
      "state": {
       "description": "Objektkontrolle",
       "layout": "IPY_MODEL_18a5244a80774ad29492240beb3fb77c",
       "style": "IPY_MODEL_c0f0998c1db54688a77dc5263f5f97ad"
      }
     },
     "c9b67c9ec9ab48cc8a011ef190c07a58": {
      "model_module": "@jupyter-widgets/base",
      "model_module_version": "1.0.0",
      "model_name": "LayoutModel",
      "state": {
       "justify_content": "center"
      }
     },
     "c9c98977b9044c5ca003ccf7aac2706d": {
      "model_module": "@jupyter-widgets/controls",
      "model_module_version": "1.2.0",
      "model_name": "DescriptionStyleModel",
      "state": {
       "description_width": "initial"
      }
     },
     "c9dd9423e39347598e5c5301d90b4522": {
      "model_module": "@jupyter-widgets/base",
      "model_module_version": "1.0.0",
      "model_name": "LayoutModel",
      "state": {
       "width": "250px"
      }
     },
     "c9e7bf7584ff42ad86d4bd8d05652253": {
      "model_module": "@jupyter-widgets/base",
      "model_module_version": "1.0.0",
      "model_name": "LayoutModel",
      "state": {
       "justify_content": "center"
      }
     },
     "ca1d0827dce144c69c631fe93ba22099": {
      "model_module": "@jupyter-widgets/controls",
      "model_module_version": "1.2.0",
      "model_name": "CheckboxModel",
      "state": {
       "description": "Konjunktionalsatz",
       "disabled": false,
       "layout": "IPY_MODEL_65b0e839fef748dd94ab75bd4726530d",
       "style": "IPY_MODEL_669bc28c33d14387ac53ccaf554a3c76",
       "value": true
      }
     },
     "cace405389644461b6928564a5ba274e": {
      "model_module": "@jupyter-widgets/controls",
      "model_module_version": "1.2.0",
      "model_name": "HTMLModel",
      "state": {
       "layout": "IPY_MODEL_2710b34c1a0340b39da22e472a20c78e",
       "style": "IPY_MODEL_b2161b1c6ffe4cc2abb0db50963e5d7b",
       "value": "<i>Wählen Sie die <ins>eine</ins> korrekte Antwort aus: </i>"
      }
     },
     "cae6d873bcbf4cf98dd9bce73c6da7a9": {
      "model_module": "@jupyter-widgets/controls",
      "model_module_version": "1.2.0",
      "model_name": "HTMLModel",
      "state": {
       "layout": "IPY_MODEL_7c607dfb17e2415994829ee8846b004f",
       "style": "IPY_MODEL_cece8ca468de400d8b5a111c9acb1f07",
       "value": "<i>Markieren Sie <ins>alle</ins> passenden Antworten: </i>"
      }
     },
     "cb151685cb914f6fae24aba0b2db76ef": {
      "model_module": "@jupyter-widgets/base",
      "model_module_version": "1.0.0",
      "model_name": "LayoutModel",
      "state": {
       "width": "600px"
      }
     },
     "cb468449703e477e8d344d3c0a41ceb3": {
      "model_module": "@jupyter-widgets/base",
      "model_module_version": "1.0.0",
      "model_name": "LayoutModel",
      "state": {}
     },
     "cbd3dc24780f4cfbbf1b2dbd13f55bd3": {
      "model_module": "@jupyter-widgets/base",
      "model_module_version": "1.0.0",
      "model_name": "LayoutModel",
      "state": {
       "width": "250px"
      }
     },
     "cc516880151d40c09c04009114128b06": {
      "model_module": "@jupyter-widgets/controls",
      "model_module_version": "1.2.0",
      "model_name": "CheckboxModel",
      "state": {
       "description": "Komplementsatz (<code>xcomp</code>)",
       "disabled": false,
       "layout": "IPY_MODEL_3f8a9757abb64b9393b93195db46d646",
       "style": "IPY_MODEL_74f37dca070b4ca698fc381afd78dd81",
       "value": false
      }
     },
     "cc6b08c4aded47a197692e4448f1d3ff": {
      "model_module": "@jupyter-widgets/base",
      "model_module_version": "1.0.0",
      "model_name": "LayoutModel",
      "state": {
       "width": "250px"
      }
     },
     "cd24a5896cc348df8cefa78fc034503e": {
      "model_module": "@jupyter-widgets/base",
      "model_module_version": "1.0.0",
      "model_name": "LayoutModel",
      "state": {}
     },
     "cd8a91c693924838806315da35db8011": {
      "model_module": "@jupyter-widgets/controls",
      "model_module_version": "1.2.0",
      "model_name": "ButtonModel",
      "state": {
       "description": "Korrekt?",
       "layout": "IPY_MODEL_a449de00b52147a08832d15370d3e20c",
       "style": "IPY_MODEL_114e1d1e11ad4589bb303c3d1fef29c2"
      }
     },
     "cdbe239aed9a41fcaf13d18ef88f520a": {
      "model_module": "@jupyter-widgets/base",
      "model_module_version": "1.0.0",
      "model_name": "LayoutModel",
      "state": {}
     },
     "cdc04ac1ac3d452d918c2321002b031b": {
      "model_module": "@jupyter-widgets/controls",
      "model_module_version": "1.2.0",
      "model_name": "DescriptionStyleModel",
      "state": {
       "description_width": "initial"
      }
     },
     "cdd44aa5b886491c914c247fa6fcba15": {
      "model_module": "@jupyter-widgets/controls",
      "model_module_version": "1.2.0",
      "model_name": "ButtonStyleModel",
      "state": {}
     },
     "cddfa67b8d27499b97fd94d28e169316": {
      "model_module": "@jupyter-widgets/controls",
      "model_module_version": "1.2.0",
      "model_name": "DescriptionStyleModel",
      "state": {
       "description_width": "initial"
      }
     },
     "ce01d3c5e8754b49958b40370c8871a7": {
      "model_module": "@jupyter-widgets/controls",
      "model_module_version": "1.2.0",
      "model_name": "VBoxModel",
      "state": {
       "children": [
        "IPY_MODEL_ee91fd571a3148f794a0d097d46bcb9b",
        "IPY_MODEL_5664f4922e5241719a1413b4c50d5b3c",
        "IPY_MODEL_7ec9ba75ceb947b3ba422a6e7617bd85",
        "IPY_MODEL_12bcd65078744b20aa3cb999c7979280",
        "IPY_MODEL_d62db2b7aa8046f590c75b65f2177651",
        "IPY_MODEL_009d5a0bb11044d1bb2845eb65b249fd",
        "IPY_MODEL_9acf67eedf334d30a4f11c361d1d1fbb"
       ],
       "layout": "IPY_MODEL_94fafe3d936f4824a42b100d47cf6d21"
      }
     },
     "ce5ecc476ae847388f943a639ae5c14e": {
      "model_module": "@jupyter-widgets/base",
      "model_module_version": "1.0.0",
      "model_name": "LayoutModel",
      "state": {
       "justify_content": "center"
      }
     },
     "ceb3650504c94ee2a4d54caf870c68db": {
      "model_module": "@jupyter-widgets/base",
      "model_module_version": "1.0.0",
      "model_name": "LayoutModel",
      "state": {
       "width": "600px"
      }
     },
     "cece8ca468de400d8b5a111c9acb1f07": {
      "model_module": "@jupyter-widgets/controls",
      "model_module_version": "1.2.0",
      "model_name": "DescriptionStyleModel",
      "state": {
       "description_width": ""
      }
     },
     "ced112604cea478ba517c0b5d8ce6d78": {
      "model_module": "@jupyter-widgets/controls",
      "model_module_version": "1.2.0",
      "model_name": "DescriptionStyleModel",
      "state": {
       "description_width": ""
      }
     },
     "cf0e1baafb4e4f24bfc9b6e54894c624": {
      "model_module": "@jupyter-widgets/base",
      "model_module_version": "1.0.0",
      "model_name": "LayoutModel",
      "state": {
       "justify_content": "center"
      }
     },
     "cf1d08e742514cd8a17d623ff55b46cf": {
      "model_module": "@jupyter-widgets/controls",
      "model_module_version": "1.2.0",
      "model_name": "DescriptionStyleModel",
      "state": {
       "description_width": "initial"
      }
     },
     "cf481d362c9d43e289e996f58d07edbd": {
      "model_module": "@jupyter-widgets/controls",
      "model_module_version": "1.2.0",
      "model_name": "ButtonModel",
      "state": {
       "description": "Satz 3",
       "layout": "IPY_MODEL_1b10579abeb14841babe7aac83d53056",
       "style": "IPY_MODEL_f50c31bcfb89418d8a1d72953b6249c4"
      }
     },
     "cf6c0c10dffb45f195e5af6e7f3bb61f": {
      "model_module": "@jupyter-widgets/controls",
      "model_module_version": "1.2.0",
      "model_name": "ButtonStyleModel",
      "state": {
       "button_color": "lightgreen"
      }
     },
     "cf8c13cd661249a088722a0bdbb7e882": {
      "model_module": "@jupyter-widgets/base",
      "model_module_version": "1.0.0",
      "model_name": "LayoutModel",
      "state": {
       "justify_content": "center"
      }
     },
     "cfbc0b2df376472c99879088eedd9a7f": {
      "model_module": "@jupyter-widgets/controls",
      "model_module_version": "1.2.0",
      "model_name": "CheckboxModel",
      "state": {
       "description": "ihm",
       "disabled": false,
       "layout": "IPY_MODEL_479efad7e37c4042829ec071d6d3caff",
       "style": "IPY_MODEL_aa54005b1b1d48fabbfaa3ff9e9473e2",
       "value": false
      }
     },
     "cfd32d9f4e2c4414a472dbdbeb1b201c": {
      "model_module": "@jupyter-widgets/base",
      "model_module_version": "1.0.0",
      "model_name": "LayoutModel",
      "state": {}
     },
     "cfd446b85af34545b0ecaf4c2052fd15": {
      "model_module": "@jupyter-widgets/base",
      "model_module_version": "1.0.0",
      "model_name": "LayoutModel",
      "state": {
       "width": "600px"
      }
     },
     "d0607016ed5f489f8acdb3488476b4f3": {
      "model_module": "@jupyter-widgets/base",
      "model_module_version": "1.0.0",
      "model_name": "LayoutModel",
      "state": {
       "width": "600px"
      }
     },
     "d062b78a1b5c4c7a80d0caab32ef876c": {
      "model_module": "@jupyter-widgets/base",
      "model_module_version": "1.0.0",
      "model_name": "LayoutModel",
      "state": {
       "justify_content": "center"
      }
     },
     "d09adb7ccb6246ee837f91913bb49d1a": {
      "model_module": "@jupyter-widgets/controls",
      "model_module_version": "1.2.0",
      "model_name": "CheckboxModel",
      "state": {
       "description": "Nebensatz 2. Grades",
       "disabled": false,
       "layout": "IPY_MODEL_18f7e09191ed47489338bf9e956be743",
       "style": "IPY_MODEL_457c8815bc694d19b96561e0bf9c3ae4",
       "value": false
      }
     },
     "d0b57860df95415f9d97e38073cbbc5f": {
      "model_module": "@jupyter-widgets/controls",
      "model_module_version": "1.2.0",
      "model_name": "CheckboxModel",
      "state": {
       "description": "Verbzweitstellung",
       "disabled": false,
       "layout": "IPY_MODEL_b46a9018e6eb4489961459ce6a9fae44",
       "style": "IPY_MODEL_a020127f02b740fe86e66380321735c7",
       "value": false
      }
     },
     "d0c9c0e263514c399c8400e450de314d": {
      "model_module": "@jupyter-widgets/base",
      "model_module_version": "1.0.0",
      "model_name": "LayoutModel",
      "state": {
       "width": "600px"
      }
     },
     "d0f7e77ad6524ec4af6d3b36bd9361f9": {
      "model_module": "@jupyter-widgets/controls",
      "model_module_version": "1.2.0",
      "model_name": "DescriptionStyleModel",
      "state": {
       "description_width": "initial"
      }
     },
     "d123242a782b4bd4bf46fa0b54b9d9df": {
      "model_module": "@jupyter-widgets/base",
      "model_module_version": "1.0.0",
      "model_name": "LayoutModel",
      "state": {}
     },
     "d12a93915e7a4bc38836ff872dd25ab3": {
      "model_module": "@jupyter-widgets/controls",
      "model_module_version": "1.2.0",
      "model_name": "VBoxModel",
      "state": {
       "children": [
        "IPY_MODEL_3b1cb0d3495449c480f3189a5c12e880",
        "IPY_MODEL_00a2086eacbd4de79bc82b08dc223b21",
        "IPY_MODEL_3b1f0cfc3a1e483b98d2ac79945f6547",
        "IPY_MODEL_3cec74d895bb48a9ae91a29c63942a43"
       ],
       "layout": "IPY_MODEL_6ed6b7c5edf54ce089faf4d89e2952f5"
      }
     },
     "d1805f8d382041289e6fdb05cac068fc": {
      "model_module": "@jupyter-widgets/base",
      "model_module_version": "1.0.0",
      "model_name": "LayoutModel",
      "state": {
       "width": "600px"
      }
     },
     "d195d95c4e3b45b882d7ffcee6898487": {
      "model_module": "@jupyter-widgets/controls",
      "model_module_version": "1.2.0",
      "model_name": "ButtonModel",
      "state": {
       "description": "Adjektiv",
       "layout": "IPY_MODEL_2552761a88ce4384aed3c6770bf16d65",
       "style": "IPY_MODEL_c0170ba6a5f148aa87bb8f9bfe173e37"
      }
     },
     "d217a1ba67c94ae7beaea0ddaa3dbda8": {
      "model_module": "@jupyter-widgets/controls",
      "model_module_version": "1.2.0",
      "model_name": "HBoxModel",
      "state": {
       "children": [
        "IPY_MODEL_a29e8a75711f4fa2a0146bf782cb7633",
        "IPY_MODEL_a8841ac2f17145948f0238fa8e02d5c5"
       ],
       "layout": "IPY_MODEL_9ab09885b3474cf5b40f032259b1a72d"
      }
     },
     "d226955f875f4437a0ecb6ef9545e20d": {
      "model_module": "@jupyter-widgets/base",
      "model_module_version": "1.0.0",
      "model_name": "LayoutModel",
      "state": {
       "width": "600px"
      }
     },
     "d23f9a6e423a42e0a74a56e0752585ed": {
      "model_module": "@jupyter-widgets/base",
      "model_module_version": "1.0.0",
      "model_name": "LayoutModel",
      "state": {}
     },
     "d26f82941e014e7cb36d6c6b08e9d012": {
      "model_module": "@jupyter-widgets/controls",
      "model_module_version": "1.2.0",
      "model_name": "DescriptionStyleModel",
      "state": {
       "description_width": ""
      }
     },
     "d2962a346bdf40aba22b4a3cd75a80fd": {
      "model_module": "@jupyter-widgets/base",
      "model_module_version": "1.0.0",
      "model_name": "LayoutModel",
      "state": {
       "width": "600px"
      }
     },
     "d2b125d7f7b94fed924cda7ea4214d5b": {
      "model_module": "@jupyter-widgets/controls",
      "model_module_version": "1.2.0",
      "model_name": "DescriptionStyleModel",
      "state": {
       "description_width": ""
      }
     },
     "d2f8cb2a88824e10850acd0616c1b6b2": {
      "model_module": "@jupyter-widgets/controls",
      "model_module_version": "1.2.0",
      "model_name": "DescriptionStyleModel",
      "state": {
       "description_width": "initial"
      }
     },
     "d2fb25233c9947cea1db26a1eeffc50d": {
      "model_module": "@jupyter-widgets/controls",
      "model_module_version": "1.2.0",
      "model_name": "CheckboxModel",
      "state": {
       "description": "Die rechte SK ist unbesetzt.",
       "disabled": false,
       "layout": "IPY_MODEL_8a8a30d2c88c46948ba1f7106490f68c",
       "style": "IPY_MODEL_58ef36f9722d44e0a8c5cdbebb8358f2",
       "value": false
      }
     },
     "d36c4ce12f0d46a9908b68d46a5bde80": {
      "model_module": "@jupyter-widgets/controls",
      "model_module_version": "1.2.0",
      "model_name": "VBoxModel",
      "state": {
       "children": [
        "IPY_MODEL_07056250da5440ccafa4275316a55757",
        "IPY_MODEL_93a4e5ff019d4bfd82dd1236092dd847",
        "IPY_MODEL_5a464e8f0c7e4fe0909fa8b334db6fae",
        "IPY_MODEL_9e42cf8b82d0473289de854b433eeebc"
       ],
       "layout": "IPY_MODEL_66e3de6af99e49ee888434c69bc10eea"
      }
     },
     "d38ae2167cb94017be075db5f37d53a3": {
      "model_module": "@jupyter-widgets/base",
      "model_module_version": "1.0.0",
      "model_name": "LayoutModel",
      "state": {}
     },
     "d3a21173a77e4c229189b6e3390fdbdc": {
      "model_module": "@jupyter-widgets/base",
      "model_module_version": "1.0.0",
      "model_name": "LayoutModel",
      "state": {}
     },
     "d3a9aee15abd4472b0f30b139d29ddd5": {
      "model_module": "@jupyter-widgets/controls",
      "model_module_version": "1.2.0",
      "model_name": "VBoxModel",
      "state": {
       "children": [
        "IPY_MODEL_372566ea25af409e90e883b088e9a5ea",
        "IPY_MODEL_d4ae261f0656436d9201e8f63719fb3b",
        "IPY_MODEL_06a3b389916f4ba49e443958f73f0647",
        "IPY_MODEL_72b749399ab4429db40aae79923728db"
       ],
       "layout": "IPY_MODEL_f19c1f9e1db040bcbb59d2848b3fb9c1"
      }
     },
     "d3e3ba86acb242d3b9efb0d83008f281": {
      "model_module": "@jupyter-widgets/controls",
      "model_module_version": "1.2.0",
      "model_name": "HBoxModel",
      "state": {
       "children": [
        "IPY_MODEL_5a79c055a2ce424aab7591cb0a72ecdf",
        "IPY_MODEL_70a5d440f53c4514ad58cf893f3ca53a"
       ],
       "layout": "IPY_MODEL_61f64cf891d04c11b026e46e0dea1c3d"
      }
     },
     "d3e5756b5b5145dba1144691794a7494": {
      "model_module": "@jupyter-widgets/base",
      "model_module_version": "1.0.0",
      "model_name": "LayoutModel",
      "state": {
       "width": "600px"
      }
     },
     "d3ef7824b4334379b061767450640728": {
      "model_module": "@jupyter-widgets/controls",
      "model_module_version": "1.2.0",
      "model_name": "CheckboxModel",
      "state": {
       "description": "ihm",
       "disabled": false,
       "layout": "IPY_MODEL_ceb3650504c94ee2a4d54caf870c68db",
       "style": "IPY_MODEL_26a70a9a5e7d41d18001bad1dd1e4b9d",
       "value": true
      }
     },
     "d4141b8067b24ba7aabc3aa2e811965f": {
      "model_module": "@jupyter-widgets/controls",
      "model_module_version": "1.2.0",
      "model_name": "CheckboxModel",
      "state": {
       "description": "das",
       "disabled": false,
       "layout": "IPY_MODEL_cb151685cb914f6fae24aba0b2db76ef",
       "style": "IPY_MODEL_23a6ee256db44a5b9580101285b77c61",
       "value": true
      }
     },
     "d44b1afd234945f5a27ecc1847806c51": {
      "model_module": "@jupyter-widgets/controls",
      "model_module_version": "1.2.0",
      "model_name": "DescriptionStyleModel",
      "state": {
       "description_width": ""
      }
     },
     "d4ae261f0656436d9201e8f63719fb3b": {
      "model_module": "@jupyter-widgets/controls",
      "model_module_version": "1.2.0",
      "model_name": "HTMLModel",
      "state": {
       "layout": "IPY_MODEL_9677e99614284789ade5ae96d77d6cf7",
       "style": "IPY_MODEL_c44781fc103449feaf5341385920fb66",
       "value": "<i>Markieren Sie <ins>alle</ins> passenden Antworten: </i>"
      }
     },
     "d4d26f0cc0664486ab992e088136e7fe": {
      "model_module": "@jupyter-widgets/base",
      "model_module_version": "1.0.0",
      "model_name": "LayoutModel",
      "state": {}
     },
     "d5654c8053b647b7a29a74b0239cfe2e": {
      "model_module": "@jupyter-widgets/controls",
      "model_module_version": "1.2.0",
      "model_name": "HBoxModel",
      "state": {
       "children": [
        "IPY_MODEL_41446ed60ac44201aff25fa1955cfb9e"
       ],
       "layout": "IPY_MODEL_39a215132e9943eca218b96597fa39d0"
      }
     },
     "d5b546c5b387434096180bc962a2db0b": {
      "model_module": "@jupyter-widgets/controls",
      "model_module_version": "1.2.0",
      "model_name": "CheckboxModel",
      "state": {
       "description": "Nebensatz 2. Grades",
       "disabled": false,
       "layout": "IPY_MODEL_acc0727abc4b4a1da7c23c3d9c8681ad",
       "style": "IPY_MODEL_e18177b9276e4c668e7f037b7e2aeea7",
       "value": false
      }
     },
     "d62db2b7aa8046f590c75b65f2177651": {
      "model_module": "@jupyter-widgets/controls",
      "model_module_version": "1.2.0",
      "model_name": "CheckboxModel",
      "state": {
       "description": "Satzschlusszeichen: Punkt",
       "disabled": false,
       "layout": "IPY_MODEL_990fedf531b84914a25ee0aa6d50de09",
       "style": "IPY_MODEL_192a0ad522804133a8420b725c7d4cca",
       "value": true
      }
     },
     "d63dac8eba61406998a5e19158a2b170": {
      "model_module": "@jupyter-widgets/controls",
      "model_module_version": "1.2.0",
      "model_name": "VBoxModel",
      "state": {
       "children": [
        "IPY_MODEL_bd0aa8f19495477cb03610f60e876c62",
        "IPY_MODEL_c5bd98bac908442981c895c332857ab7",
        "IPY_MODEL_9a83d6a2bf3d40e2b7a38e886f7728ba",
        "IPY_MODEL_d973c0e3e2624a399ea4b6815106829e"
       ],
       "layout": "IPY_MODEL_eb8aea25a0514f349f4bdaedc082c4fd"
      }
     },
     "d642bfa7ae584e5c9619fc24b076d320": {
      "model_module": "@jupyter-widgets/controls",
      "model_module_version": "1.2.0",
      "model_name": "HBoxModel",
      "state": {
       "children": [
        "IPY_MODEL_702e638d63c442d8865f9527cf1ee337",
        "IPY_MODEL_004dcf6ada4f45fc867c27ae39687377"
       ],
       "layout": "IPY_MODEL_d38ae2167cb94017be075db5f37d53a3"
      }
     },
     "d675ba61b53b42e499e7a5164909fb1d": {
      "model_module": "@jupyter-widgets/base",
      "model_module_version": "1.0.0",
      "model_name": "LayoutModel",
      "state": {}
     },
     "d68e6b92e3104bfdb9d177af423133e4": {
      "model_module": "@jupyter-widgets/controls",
      "model_module_version": "1.2.0",
      "model_name": "HTMLModel",
      "state": {
       "layout": "IPY_MODEL_3f28986a4f8c41b19e9e950ef473c32a",
       "style": "IPY_MODEL_81fb4ca06a2f42e6b8158d27030abcb4",
       "value": "<h4 style=\"font-size:14px;\">Wie läßt sich dieser Satztyp klassifizieren?</h4>"
      }
     },
     "d699cce9149942b9bf0a20b25bdbc1a8": {
      "model_module": "@jupyter-widgets/controls",
      "model_module_version": "1.2.0",
      "model_name": "ButtonStyleModel",
      "state": {}
     },
     "d6c89d28f1724b1cad75a94dc72f5cc5": {
      "model_module": "@jupyter-widgets/base",
      "model_module_version": "1.0.0",
      "model_name": "LayoutModel",
      "state": {}
     },
     "d6e7fbac1fa840658e8e820e8e5c1a85": {
      "model_module": "@jupyter-widgets/controls",
      "model_module_version": "1.2.0",
      "model_name": "DescriptionStyleModel",
      "state": {
       "description_width": ""
      }
     },
     "d71c5087dcfe41e79491c748149a9129": {
      "model_module": "@jupyter-widgets/base",
      "model_module_version": "1.0.0",
      "model_name": "LayoutModel",
      "state": {
       "width": "600px"
      }
     },
     "d74ff81acf9c4969832830acdd91417a": {
      "model_module": "@jupyter-widgets/controls",
      "model_module_version": "1.2.0",
      "model_name": "HTMLModel",
      "state": {
       "layout": "IPY_MODEL_cf8c13cd661249a088722a0bdbb7e882",
       "style": "IPY_MODEL_8dcf71aae35d4563a9261a87585df513",
       "value": "<i>Wählen Sie die <ins>eine</ins> korrekte Antwort aus: </i>"
      }
     },
     "d775c9f835a94eb0be9b2d4ec0391a23": {
      "model_module": "@jupyter-widgets/base",
      "model_module_version": "1.0.0",
      "model_name": "LayoutModel",
      "state": {
       "width": "600px"
      }
     },
     "d78bea46901d4683b4c4bd138a054c01": {
      "model_module": "@jupyter-widgets/base",
      "model_module_version": "1.0.0",
      "model_name": "LayoutModel",
      "state": {
       "width": "250px"
      }
     },
     "d8159f66c8d9448a8417894c864b3aee": {
      "model_module": "@jupyter-widgets/controls",
      "model_module_version": "1.2.0",
      "model_name": "HBoxModel",
      "state": {
       "children": [
        "IPY_MODEL_3de4eccf4f8d4f7f82e9c63d6ba645a3",
        "IPY_MODEL_8e7945dc16a64398ab64b906b0d62e14"
       ],
       "layout": "IPY_MODEL_687b4d6dc95b4379a61b4b1539da85a6"
      }
     },
     "d82954505d5245dda5f47b903ed3ad4b": {
      "model_module": "@jupyter-widgets/base",
      "model_module_version": "1.0.0",
      "model_name": "LayoutModel",
      "state": {
       "width": "500px"
      }
     },
     "d881351bc9334c509d091c4d49cd3bd9": {
      "model_module": "@jupyter-widgets/base",
      "model_module_version": "1.0.0",
      "model_name": "LayoutModel",
      "state": {}
     },
     "d88c392de0e04afc9984ddabe80e752e": {
      "model_module": "@jupyter-widgets/controls",
      "model_module_version": "1.2.0",
      "model_name": "HTMLModel",
      "state": {
       "layout": "IPY_MODEL_a2f8be2ea135448fa9db263ce039663c",
       "style": "IPY_MODEL_a937959401764b538b4599105374ae90",
       "value": "<h4 style=\"font-size:14px;\">Wieso?</h4>"
      }
     },
     "d8d0f57a29ea4098b8d207435ba95487": {
      "model_module": "@jupyter-widgets/controls",
      "model_module_version": "1.2.0",
      "model_name": "DescriptionStyleModel",
      "state": {
       "description_width": "initial"
      }
     },
     "d973c0e3e2624a399ea4b6815106829e": {
      "model_module": "@jupyter-widgets/controls",
      "model_module_version": "1.2.0",
      "model_name": "ButtonModel",
      "state": {
       "description": "Korrekt?",
       "layout": "IPY_MODEL_fb317217064f4512b0abc185f270ba58",
       "style": "IPY_MODEL_1a935d6b73bc468c899c94ba52ec6f7b"
      }
     },
     "d97c4eb9be0b4344ae74f12c0f0e74d4": {
      "model_module": "@jupyter-widgets/controls",
      "model_module_version": "1.2.0",
      "model_name": "DescriptionStyleModel",
      "state": {
       "description_width": ""
      }
     },
     "d97c8f6ef198405e809de8971927e973": {
      "model_module": "@jupyter-widgets/base",
      "model_module_version": "1.0.0",
      "model_name": "LayoutModel",
      "state": {}
     },
     "d9ec6fc996f6423b803ba4ea58d9a6e3": {
      "model_module": "@jupyter-widgets/controls",
      "model_module_version": "1.2.0",
      "model_name": "DescriptionStyleModel",
      "state": {
       "description_width": "initial"
      }
     },
     "da187890ade041ae84acdf20753ce60b": {
      "model_module": "@jupyter-widgets/base",
      "model_module_version": "1.0.0",
      "model_name": "LayoutModel",
      "state": {
       "justify_content": "center"
      }
     },
     "da39e26721a841f8b6444affd467bd40": {
      "model_module": "@jupyter-widgets/controls",
      "model_module_version": "1.2.0",
      "model_name": "ButtonStyleModel",
      "state": {}
     },
     "da431842caf947c08c50b9bd4c64343a": {
      "model_module": "@jupyter-widgets/controls",
      "model_module_version": "1.2.0",
      "model_name": "HTMLModel",
      "state": {
       "layout": "IPY_MODEL_105509d5644f4c12b47503d27b3c0cb4",
       "style": "IPY_MODEL_2efe11f08475452e8abfa63364adc379",
       "value": "<h4 style=\"font-size:14px;\">Was für eine Satzkonstruktion liegt hier vor?</h4>"
      }
     },
     "da5fa67c50aa4248a135cc24869eb029": {
      "model_module": "@jupyter-widgets/controls",
      "model_module_version": "1.2.0",
      "model_name": "ButtonStyleModel",
      "state": {}
     },
     "da6c36111c2142c997e5c9fc03c825d2": {
      "model_module": "@jupyter-widgets/controls",
      "model_module_version": "1.2.0",
      "model_name": "ButtonModel",
      "state": {
       "description": "Satz 3",
       "layout": "IPY_MODEL_b9d8315284d64e6f93d74f172ae9abe4",
       "style": "IPY_MODEL_f13ffb98217c439fb52fe6fa28e93d36"
      }
     },
     "dabb401743444b07a5866c0fc688d541": {
      "model_module": "@jupyter-widgets/base",
      "model_module_version": "1.0.0",
      "model_name": "LayoutModel",
      "state": {
       "width": "250px"
      }
     },
     "db86a67f7bb649f384473afbbe70bd77": {
      "model_module": "@jupyter-widgets/controls",
      "model_module_version": "1.2.0",
      "model_name": "DescriptionStyleModel",
      "state": {
       "description_width": "initial"
      }
     },
     "db99603048f04a5b9467b61e3fe39609": {
      "model_module": "@jupyter-widgets/controls",
      "model_module_version": "1.2.0",
      "model_name": "HBoxModel",
      "state": {
       "children": [
        "IPY_MODEL_507b88f1011046e5be7b5c49cd0a1ce0",
        "IPY_MODEL_5d11b25f76ef4238ac793032cf6d0440"
       ],
       "layout": "IPY_MODEL_99084bb5e0684b37972671f3d0fc6542"
      }
     },
     "dbbe8e8f2aab48379eb5967d90f31d62": {
      "model_module": "@jupyter-widgets/controls",
      "model_module_version": "1.2.0",
      "model_name": "DescriptionStyleModel",
      "state": {
       "description_width": "initial"
      }
     },
     "dc13c2357d7e465283d8f78f91ec2ed8": {
      "model_module": "@jupyter-widgets/controls",
      "model_module_version": "1.2.0",
      "model_name": "HTMLModel",
      "state": {
       "layout": "IPY_MODEL_4eacbeab5d7e416c9054fe7d8642fa83",
       "style": "IPY_MODEL_b43aa4c5dc2c46998a82f1c0028599f1",
       "value": "<h4 style=\"font-size:14px;\">Um welche Satzart handelt es sich bei Satz 3?</h4>"
      }
     },
     "dc7c482638c54f4bb61a59a6d93f75c2": {
      "model_module": "@jupyter-widgets/base",
      "model_module_version": "1.0.0",
      "model_name": "LayoutModel",
      "state": {
       "width": "600px"
      }
     },
     "dca02fbe0a224a3db5a2e4e01f86b4bd": {
      "model_module": "@jupyter-widgets/controls",
      "model_module_version": "1.2.0",
      "model_name": "DescriptionStyleModel",
      "state": {
       "description_width": "initial"
      }
     },
     "dcc429f24273481cb99b46f899c071e4": {
      "model_module": "@jupyter-widgets/controls",
      "model_module_version": "1.2.0",
      "model_name": "ButtonStyleModel",
      "state": {
       "button_color": "lightgreen"
      }
     },
     "dd431e87ac2b46d0872360644f715571": {
      "model_module": "@jupyter-widgets/base",
      "model_module_version": "1.0.0",
      "model_name": "LayoutModel",
      "state": {}
     },
     "dd4c6430b9f54c7e88129cad3710c1ab": {
      "model_module": "@jupyter-widgets/base",
      "model_module_version": "1.0.0",
      "model_name": "LayoutModel",
      "state": {
       "width": "250px"
      }
     },
     "dd527236121b4302b3a6cf99418aecf9": {
      "model_module": "@jupyter-widgets/base",
      "model_module_version": "1.0.0",
      "model_name": "LayoutModel",
      "state": {
       "width": "600px"
      }
     },
     "ddaea3a51ebb4ba1910a35248321e0ed": {
      "model_module": "@jupyter-widgets/controls",
      "model_module_version": "1.2.0",
      "model_name": "CheckboxModel",
      "state": {
       "description": "Vordersatz",
       "disabled": false,
       "layout": "IPY_MODEL_7408a44a5bcf4560ad2b67f7a1967942",
       "style": "IPY_MODEL_a0fe001e6d9448f2a354ce258a87b9f3",
       "value": true
      }
     },
     "dde42a6196134bd58408a866ae43086e": {
      "model_module": "@jupyter-widgets/controls",
      "model_module_version": "1.2.0",
      "model_name": "VBoxModel",
      "state": {
       "children": [
        "IPY_MODEL_adb934c457aa4a1fa799028ad5c5dec0",
        "IPY_MODEL_a7eb6a1286d9403baadda7db883ae1c9",
        "IPY_MODEL_f77e31eb46d24cbba217ceef89e7c4d1",
        "IPY_MODEL_b990cd8a5b954dda8f1d3df0286ff00b"
       ],
       "layout": "IPY_MODEL_1b657c3fb07e41bb91f47c60010a3686"
      }
     },
     "de0862ba69464dc79f099574460373fd": {
      "model_module": "@jupyter-widgets/controls",
      "model_module_version": "1.2.0",
      "model_name": "DescriptionStyleModel",
      "state": {
       "description_width": ""
      }
     },
     "de619364c1104a67a77e0657c0e6ad6b": {
      "model_module": "@jupyter-widgets/base",
      "model_module_version": "1.0.0",
      "model_name": "LayoutModel",
      "state": {
       "width": "600px"
      }
     },
     "df4fd582bb6e4960b3b2402fede46a8a": {
      "model_module": "@jupyter-widgets/controls",
      "model_module_version": "1.2.0",
      "model_name": "ButtonStyleModel",
      "state": {}
     },
     "df9f5e1b9665419682ef834f08b85bf4": {
      "model_module": "@jupyter-widgets/controls",
      "model_module_version": "1.2.0",
      "model_name": "CheckboxModel",
      "state": {
       "description": "das",
       "disabled": false,
       "layout": "IPY_MODEL_61972a2e427049ab85a64bda4b9199d7",
       "style": "IPY_MODEL_1cc7284620264529b80eb6913b222a4e",
       "value": true
      }
     },
     "dfe4f13f3a3c476192b4ab988d6363b1": {
      "model_module": "@jupyter-widgets/controls",
      "model_module_version": "1.2.0",
      "model_name": "HTMLModel",
      "state": {
       "layout": "IPY_MODEL_bd5557dfb682405087fe4622348f3c91",
       "style": "IPY_MODEL_4b3df4af62ca472999df41da12c224eb",
       "value": "<i>Wählen Sie die <ins>eine</ins> korrekte Antwort aus: </i>"
      }
     },
     "e03027ba05804493afbb8466bfbbad72": {
      "model_module": "@jupyter-widgets/controls",
      "model_module_version": "1.2.0",
      "model_name": "ButtonStyleModel",
      "state": {
       "button_color": "lightgreen"
      }
     },
     "e0307543cd80404d91866e6527bf139d": {
      "model_module": "@jupyter-widgets/base",
      "model_module_version": "1.0.0",
      "model_name": "LayoutModel",
      "state": {
       "width": "600px"
      }
     },
     "e06fdbb987da4b399c04c665d78353d8": {
      "model_module": "@jupyter-widgets/controls",
      "model_module_version": "1.2.0",
      "model_name": "HTMLModel",
      "state": {
       "layout": "IPY_MODEL_40445b42915d451db8e5bdd9a161a96c",
       "style": "IPY_MODEL_816c8c77511749eca90a7b32c5cb1102",
       "value": "<h4 style=\"font-size:14px;\">Um was für einen Satz handelt es sich syntaktisch bei <i>damit sie ...</i>?</h4>"
      }
     },
     "e11b917cd081410fb604095656fd9fe3": {
      "model_module": "@jupyter-widgets/controls",
      "model_module_version": "1.2.0",
      "model_name": "HTMLModel",
      "state": {
       "layout": "IPY_MODEL_1be4b2d66103494f91aeeb9bb2569bf4",
       "style": "IPY_MODEL_2e92e4c7b92f432e89b80d511989de4d",
       "value": "<h4 style=\"font-size:14px;\">Was ist <i>damit sie ...</i> semantisch für ein Satz?</h4>"
      }
     },
     "e1623cbe88db4794a88889575a8681f3": {
      "model_module": "@jupyter-widgets/base",
      "model_module_version": "1.0.0",
      "model_name": "LayoutModel",
      "state": {
       "justify_content": "center"
      }
     },
     "e1719eb925f8488da2c55134cf18331b": {
      "model_module": "@jupyter-widgets/controls",
      "model_module_version": "1.2.0",
      "model_name": "HTMLModel",
      "state": {
       "layout": "IPY_MODEL_4f6feb4c01c64fffa67e5e427308a756",
       "style": "IPY_MODEL_7dcf2e1bb9ea47b89e7ca850a86fc135",
       "value": "<h4 style=\"font-size:14px;\">Was für eine Satzkonstruktion liegt hier vor?</h4>"
      }
     },
     "e18177b9276e4c668e7f037b7e2aeea7": {
      "model_module": "@jupyter-widgets/controls",
      "model_module_version": "1.2.0",
      "model_name": "DescriptionStyleModel",
      "state": {
       "description_width": "initial"
      }
     },
     "e199624773bc4bd7ad065288215a7004": {
      "model_module": "@jupyter-widgets/controls",
      "model_module_version": "1.2.0",
      "model_name": "ButtonStyleModel",
      "state": {
       "button_color": "lightgreen"
      }
     },
     "e1a79fc933fc4dc09577380ec10dc176": {
      "model_module": "@jupyter-widgets/controls",
      "model_module_version": "1.2.0",
      "model_name": "ButtonModel",
      "state": {
       "description": "Korrekt?",
       "layout": "IPY_MODEL_5578454d8e494256a9e8089f8275a287",
       "style": "IPY_MODEL_e337da164dd74324ae35dfd27491262e"
      }
     },
     "e1c36c9028fe4cc0bfe10b82082e4962": {
      "model_module": "@jupyter-widgets/controls",
      "model_module_version": "1.2.0",
      "model_name": "HTMLModel",
      "state": {
       "layout": "IPY_MODEL_d6c89d28f1724b1cad75a94dc72f5cc5",
       "style": "IPY_MODEL_f1e233e3e11843de9c9fe942dacfcdc5",
       "value": "<h4 style=\"font-size:14px;\">Welche Wörter sind Teil der rechten Satzklammer?</h4>"
      }
     },
     "e1d59034f18749f68dae6ab001b2aa8d": {
      "model_module": "@jupyter-widgets/controls",
      "model_module_version": "1.2.0",
      "model_name": "DescriptionStyleModel",
      "state": {
       "description_width": ""
      }
     },
     "e2298dd3eaa4466d95fa797152fc84de": {
      "model_module": "@jupyter-widgets/base",
      "model_module_version": "1.0.0",
      "model_name": "LayoutModel",
      "state": {
       "width": "250px"
      }
     },
     "e2357ee4152a4fb59353bb130aa1301b": {
      "model_module": "@jupyter-widgets/controls",
      "model_module_version": "1.2.0",
      "model_name": "HBoxModel",
      "state": {
       "children": [
        "IPY_MODEL_da6c36111c2142c997e5c9fc03c825d2",
        "IPY_MODEL_b90e8e989b9646ce94a912e6d56d082c"
       ],
       "layout": "IPY_MODEL_bdfa6f64d9eb448199c2a4f474ac8223"
      }
     },
     "e2e6ab2cc1d44f6a9eb5ecdd9cb7ae45": {
      "model_module": "@jupyter-widgets/base",
      "model_module_version": "1.0.0",
      "model_name": "LayoutModel",
      "state": {}
     },
     "e305e2da17df4ae9af00d2cf1d3c88b5": {
      "model_module": "@jupyter-widgets/base",
      "model_module_version": "1.0.0",
      "model_name": "LayoutModel",
      "state": {}
     },
     "e3128f08557e41e0b3e3bb0ed929d557": {
      "model_module": "@jupyter-widgets/controls",
      "model_module_version": "1.2.0",
      "model_name": "HTMLModel",
      "state": {
       "layout": "IPY_MODEL_074d49fdf7a34b8fa5edc9a6ef5fddba",
       "style": "IPY_MODEL_c7864587214d4cab9419e12c9db9a363",
       "value": "<h4 style=\"font-size:14px;\">Welcher eingebettete Satztyp liegt vor?</h4>"
      }
     },
     "e337da164dd74324ae35dfd27491262e": {
      "model_module": "@jupyter-widgets/controls",
      "model_module_version": "1.2.0",
      "model_name": "ButtonStyleModel",
      "state": {}
     },
     "e340c0f1509f42438726e72afd6d4191": {
      "model_module": "@jupyter-widgets/controls",
      "model_module_version": "1.2.0",
      "model_name": "HTMLModel",
      "state": {
       "layout": "IPY_MODEL_0ba4b11141f54fd280556675ed097d77",
       "style": "IPY_MODEL_76b1f90cade24d98ac6777a5696bc7d9",
       "value": "<h4 style=\"font-size:14px;\">Wie läßt sich dieser Satztyp klassifizieren?</h4>"
      }
     },
     "e3ad96a2c4b243edb9765a018973e2dd": {
      "model_module": "@jupyter-widgets/base",
      "model_module_version": "1.0.0",
      "model_name": "LayoutModel",
      "state": {
       "width": "250px"
      }
     },
     "e3f0e218f27a410c95248ede6bde22bd": {
      "model_module": "@jupyter-widgets/base",
      "model_module_version": "1.0.0",
      "model_name": "LayoutModel",
      "state": {
       "width": "600px"
      }
     },
     "e3fa9f5123ae48abbd50985901ec7abe": {
      "model_module": "@jupyter-widgets/base",
      "model_module_version": "1.0.0",
      "model_name": "LayoutModel",
      "state": {
       "width": "600px"
      }
     },
     "e45032ac2d9b4e6c9b37cca6ae8cdc02": {
      "model_module": "@jupyter-widgets/controls",
      "model_module_version": "1.2.0",
      "model_name": "VBoxModel",
      "state": {
       "children": [
        "IPY_MODEL_4430282da0ff49d6983dd8d114c3f28f",
        "IPY_MODEL_697ce3205d974bd3a539fa3b6df6b257",
        "IPY_MODEL_6e5ade779e2b4667a77c45db1fab5da7",
        "IPY_MODEL_fb9c4dbbc7314e658ab71685918386a4"
       ],
       "layout": "IPY_MODEL_4b834a6c811b46cd907d8025cc7e7790"
      }
     },
     "e4972a31ecfb4f58a5af877cf77cd3a3": {
      "model_module": "@jupyter-widgets/base",
      "model_module_version": "1.0.0",
      "model_name": "LayoutModel",
      "state": {
       "justify_content": "center"
      }
     },
     "e4f666ddd0774541a963ebb1702c65c8": {
      "model_module": "@jupyter-widgets/controls",
      "model_module_version": "1.2.0",
      "model_name": "ButtonModel",
      "state": {
       "description": "Korrekt?",
       "layout": "IPY_MODEL_1878869ba530484caaf4034bd4a37fe8",
       "style": "IPY_MODEL_0100f38cf05f4ef48984ac35c01e0098"
      }
     },
     "e556f58fc9334d84a77688820a159b56": {
      "model_module": "@jupyter-widgets/controls",
      "model_module_version": "1.2.0",
      "model_name": "CheckboxModel",
      "state": {
       "description": "Junge",
       "disabled": false,
       "layout": "IPY_MODEL_115a7273df8e4fb1b7978808e698b35c",
       "style": "IPY_MODEL_e7a47b17afc64c46a3c0952b605386ab",
       "value": true
      }
     },
     "e557804296c94c22b655cee6bfc22bcc": {
      "model_module": "@jupyter-widgets/controls",
      "model_module_version": "1.2.0",
      "model_name": "ButtonStyleModel",
      "state": {}
     },
     "e568a2ad19cf4855af8009c570d78e1a": {
      "model_module": "@jupyter-widgets/controls",
      "model_module_version": "1.2.0",
      "model_name": "DescriptionStyleModel",
      "state": {
       "description_width": ""
      }
     },
     "e596bafe7bc24bb886e949b80dc43aab": {
      "model_module": "@jupyter-widgets/base",
      "model_module_version": "1.0.0",
      "model_name": "LayoutModel",
      "state": {
       "width": "600px"
      }
     },
     "e5970ad22ff54ee091b61483f463868f": {
      "model_module": "@jupyter-widgets/controls",
      "model_module_version": "1.2.0",
      "model_name": "HTMLModel",
      "state": {
       "layout": "IPY_MODEL_c8c8ce250fb74df89ac8d65f29ea9695",
       "style": "IPY_MODEL_4438a2afafcc4c76ad2fa41f1e85d4e0",
       "value": "<i>Markieren Sie <ins>alle</ins> passenden Antworten: </i>"
      }
     },
     "e5e29837dc5f4d69a5b953f1f7e5e510": {
      "model_module": "@jupyter-widgets/controls",
      "model_module_version": "1.2.0",
      "model_name": "ButtonStyleModel",
      "state": {}
     },
     "e5e2acfb65b7479994b918749a469272": {
      "model_module": "@jupyter-widgets/controls",
      "model_module_version": "1.2.0",
      "model_name": "HBoxModel",
      "state": {
       "children": [
        "IPY_MODEL_a6f8d873a9024dc0b4b2ee7a9050a159",
        "IPY_MODEL_f42ed70ea7084fac8570a95bd5d15a9a"
       ],
       "layout": "IPY_MODEL_1b66bd48247d4a55ab8c34a55e146c51"
      }
     },
     "e63c7912a9db4c1d8b2c35d4debf7faf": {
      "model_module": "@jupyter-widgets/controls",
      "model_module_version": "1.2.0",
      "model_name": "ButtonModel",
      "state": {
       "description": "Korrekt?",
       "layout": "IPY_MODEL_4caa6154dcc743738cd393eacfa1cd19",
       "style": "IPY_MODEL_5b9cd39cba444e6cbad6f5bf65c6395e"
      }
     },
     "e65c92fd46aa4ac18d6a0e08e2476042": {
      "model_module": "@jupyter-widgets/controls",
      "model_module_version": "1.2.0",
      "model_name": "DescriptionStyleModel",
      "state": {
       "description_width": "initial"
      }
     },
     "e6e664454b5641e0adb4a599811900c0": {
      "model_module": "@jupyter-widgets/controls",
      "model_module_version": "1.2.0",
      "model_name": "VBoxModel",
      "state": {
       "children": [
        "IPY_MODEL_20064587d6a24b06ac9a0c96f47ce71d",
        "IPY_MODEL_563a5f3495ae4ddcb2718b2a621d8f4a"
       ],
       "layout": "IPY_MODEL_d4d26f0cc0664486ab992e088136e7fe"
      }
     },
     "e75268193f6549fd909a3b483a79550c": {
      "model_module": "@jupyter-widgets/base",
      "model_module_version": "1.0.0",
      "model_name": "LayoutModel",
      "state": {
       "width": "250px"
      }
     },
     "e79583102802457f81bc866ea3a6bed1": {
      "model_module": "@jupyter-widgets/base",
      "model_module_version": "1.0.0",
      "model_name": "LayoutModel",
      "state": {
       "justify_content": "center"
      }
     },
     "e7a47b17afc64c46a3c0952b605386ab": {
      "model_module": "@jupyter-widgets/controls",
      "model_module_version": "1.2.0",
      "model_name": "DescriptionStyleModel",
      "state": {
       "description_width": "initial"
      }
     },
     "e7cb08f9dd9c4e9e9565d0f105f608f5": {
      "model_module": "@jupyter-widgets/controls",
      "model_module_version": "1.2.0",
      "model_name": "VBoxModel",
      "state": {
       "children": [
        "IPY_MODEL_413e88eca11a465d82015e32c22d7e2f",
        "IPY_MODEL_116745c2f0804493ac33a81ebc614e56",
        "IPY_MODEL_609d9067b2c042a382995b1cd321e099",
        "IPY_MODEL_c7bb594df332482cb09dee3ce1b348df",
        "IPY_MODEL_d3ef7824b4334379b061767450640728",
        "IPY_MODEL_8c7b9c87d169475689bd4bfb916fc072",
        "IPY_MODEL_afbf5606018946b084af582946b66649",
        "IPY_MODEL_1f0aee06d902455492cf9a16a5a68159"
       ],
       "layout": "IPY_MODEL_041883d12c684977854fcee86a61089c"
      }
     },
     "e7f69aae18fd4d998af9e09edc70ea3b": {
      "model_module": "@jupyter-widgets/controls",
      "model_module_version": "1.2.0",
      "model_name": "ButtonStyleModel",
      "state": {}
     },
     "e87cf31ab03d4799924da13267fa0a18": {
      "model_module": "@jupyter-widgets/base",
      "model_module_version": "1.0.0",
      "model_name": "LayoutModel",
      "state": {
       "width": "250px"
      }
     },
     "e8bbe34aaefd4aceb37bb3012bdcebc1": {
      "model_module": "@jupyter-widgets/base",
      "model_module_version": "1.0.0",
      "model_name": "LayoutModel",
      "state": {}
     },
     "e8bf67d75161481bb3323ae1ca1d5980": {
      "model_module": "@jupyter-widgets/controls",
      "model_module_version": "1.2.0",
      "model_name": "CheckboxModel",
      "state": {
       "description": "als sie ...",
       "disabled": false,
       "layout": "IPY_MODEL_7aa252b886344ec6829f13dcb0d0af05",
       "style": "IPY_MODEL_c594b5c93f14480793ae420662f4ca4a",
       "value": true
      }
     },
     "e9b42fefafdf48e6af9add8814f25c12": {
      "model_module": "@jupyter-widgets/controls",
      "model_module_version": "1.2.0",
      "model_name": "VBoxModel",
      "state": {
       "children": [
        "IPY_MODEL_e3128f08557e41e0b3e3bb0ed929d557",
        "IPY_MODEL_0be871e5162c4e2496447bff96646bb3",
        "IPY_MODEL_824238d85ba745d78bd056a93e3012ee",
        "IPY_MODEL_4c27344312354e6096aa6f53d825e74a"
       ],
       "layout": "IPY_MODEL_5623b54d21564454b3c6c6947a543523"
      }
     },
     "e9b7fc231daf4c35965d253b8652227a": {
      "model_module": "@jupyter-widgets/base",
      "model_module_version": "1.0.0",
      "model_name": "LayoutModel",
      "state": {
       "justify_content": "center"
      }
     },
     "e9c86334d03a4ce99b2a27586939b6ce": {
      "model_module": "@jupyter-widgets/base",
      "model_module_version": "1.0.0",
      "model_name": "LayoutModel",
      "state": {
       "width": "250px"
      }
     },
     "ea274a1de90c4fa283404b2b64cfbb57": {
      "model_module": "@jupyter-widgets/controls",
      "model_module_version": "1.2.0",
      "model_name": "VBoxModel",
      "state": {
       "children": [
        "IPY_MODEL_71c2347ea0f846848191d5ae3869f0dd",
        "IPY_MODEL_5b582319f24c4c618ec8b1006d5493f9",
        "IPY_MODEL_fb1c6a004f33445aaac67129b5b21187",
        "IPY_MODEL_8b7a6b9f2fd64bbd85e9389a8df48583"
       ],
       "layout": "IPY_MODEL_b77d7fa2f25240a6b95ee0388aefc5d7"
      }
     },
     "ea553ee3ea4e481cafc1e4e9248d3c52": {
      "model_module": "@jupyter-widgets/base",
      "model_module_version": "1.0.0",
      "model_name": "LayoutModel",
      "state": {
       "justify_content": "center"
      }
     },
     "ea6f1b694277486d800c7be593b231b7": {
      "model_module": "@jupyter-widgets/base",
      "model_module_version": "1.0.0",
      "model_name": "LayoutModel",
      "state": {
       "width": "250px"
      }
     },
     "ea9ae0f0c7ae48529a48c262f9da1bf1": {
      "model_module": "@jupyter-widgets/controls",
      "model_module_version": "1.2.0",
      "model_name": "CheckboxModel",
      "state": {
       "description": "Junge",
       "disabled": false,
       "layout": "IPY_MODEL_fbe30bc314eb4a309ff2c21d64daa63f",
       "style": "IPY_MODEL_3d0540a78a3f4fbe84f7fccd3b6e8827",
       "value": false
      }
     },
     "eb8aea25a0514f349f4bdaedc082c4fd": {
      "model_module": "@jupyter-widgets/base",
      "model_module_version": "1.0.0",
      "model_name": "LayoutModel",
      "state": {}
     },
     "ebbc7674916541f8b5402a923f5ae4e1": {
      "model_module": "@jupyter-widgets/controls",
      "model_module_version": "1.2.0",
      "model_name": "DescriptionStyleModel",
      "state": {
       "description_width": "initial"
      }
     },
     "ebfc9d7f49124859afe5283a9454c538": {
      "model_module": "@jupyter-widgets/controls",
      "model_module_version": "1.2.0",
      "model_name": "ButtonModel",
      "state": {
       "description": "Korrekt?",
       "layout": "IPY_MODEL_ba6d479a113a49478002b444da221b40",
       "style": "IPY_MODEL_1999ff5dea1c47ae87f75ae16bb7625f"
      }
     },
     "ec4a25a3218a4fc7aa712069b109e291": {
      "model_module": "@jupyter-widgets/base",
      "model_module_version": "1.0.0",
      "model_name": "LayoutModel",
      "state": {
       "width": "600px"
      }
     },
     "ec55057387b847f2bf1ad915c6ff815a": {
      "model_module": "@jupyter-widgets/base",
      "model_module_version": "1.0.0",
      "model_name": "LayoutModel",
      "state": {
       "width": "250px"
      }
     },
     "ecd6d4d7bff3494bab75d73e87def9c8": {
      "model_module": "@jupyter-widgets/controls",
      "model_module_version": "1.2.0",
      "model_name": "ButtonStyleModel",
      "state": {}
     },
     "ed02682149984dc1859e74bc3c1ce3f4": {
      "model_module": "@jupyter-widgets/controls",
      "model_module_version": "1.2.0",
      "model_name": "DescriptionStyleModel",
      "state": {
       "description_width": ""
      }
     },
     "ed7bcb06a01044e3907317acd20dcae3": {
      "model_module": "@jupyter-widgets/base",
      "model_module_version": "1.0.0",
      "model_name": "LayoutModel",
      "state": {
       "width": "600px"
      }
     },
     "edc5d81093f14d16ba57d9fbcebfb70c": {
      "model_module": "@jupyter-widgets/controls",
      "model_module_version": "1.2.0",
      "model_name": "DescriptionStyleModel",
      "state": {
       "description_width": ""
      }
     },
     "ee91fd571a3148f794a0d097d46bcb9b": {
      "model_module": "@jupyter-widgets/controls",
      "model_module_version": "1.2.0",
      "model_name": "CheckboxModel",
      "state": {
       "description": "Es handelt sich kommunikativ um eine Aufforderung.",
       "disabled": false,
       "layout": "IPY_MODEL_bb3fccf4f4bd4537ae55b8cccfefe783",
       "style": "IPY_MODEL_0a3136a2e98f412594e11212e712ea96",
       "value": false
      }
     },
     "eed13334edc84acca2d77a6ca4daad1d": {
      "model_module": "@jupyter-widgets/base",
      "model_module_version": "1.0.0",
      "model_name": "LayoutModel",
      "state": {
       "justify_content": "center"
      }
     },
     "ef6488e7dde74e39b9ce70d8b53cc5b5": {
      "model_module": "@jupyter-widgets/base",
      "model_module_version": "1.0.0",
      "model_name": "LayoutModel",
      "state": {}
     },
     "efa0807e51b8450b94c9708b9b669451": {
      "model_module": "@jupyter-widgets/controls",
      "model_module_version": "1.2.0",
      "model_name": "DescriptionStyleModel",
      "state": {
       "description_width": "initial"
      }
     },
     "efaedfa64db547268be169f0a05f6757": {
      "model_module": "@jupyter-widgets/base",
      "model_module_version": "1.0.0",
      "model_name": "LayoutModel",
      "state": {
       "width": "250px"
      }
     },
     "efbb2b5759b74a228590650bc52d208f": {
      "model_module": "@jupyter-widgets/base",
      "model_module_version": "1.0.0",
      "model_name": "LayoutModel",
      "state": {
       "width": "600px"
      }
     },
     "efbc1a8c0ea547d9a551b6d86e3aebf7": {
      "model_module": "@jupyter-widgets/base",
      "model_module_version": "1.0.0",
      "model_name": "LayoutModel",
      "state": {
       "width": "250px"
      }
     },
     "efe0e875aa504984b3fda09bd1191563": {
      "model_module": "@jupyter-widgets/controls",
      "model_module_version": "1.2.0",
      "model_name": "ButtonModel",
      "state": {
       "description": "Wunschsatz",
       "layout": "IPY_MODEL_17e1b0297a034880b05dcfc64548ac1a",
       "style": "IPY_MODEL_799062b321854e52862a7775cc7d7db2"
      }
     },
     "f002c532f34c445ab1ea3c73e4165021": {
      "model_module": "@jupyter-widgets/base",
      "model_module_version": "1.0.0",
      "model_name": "LayoutModel",
      "state": {}
     },
     "f04f7bec16614543b9863502aa5619ab": {
      "model_module": "@jupyter-widgets/base",
      "model_module_version": "1.0.0",
      "model_name": "LayoutModel",
      "state": {
       "width": "600px"
      }
     },
     "f06c444c0f934903b310cda3710c3043": {
      "model_module": "@jupyter-widgets/controls",
      "model_module_version": "1.2.0",
      "model_name": "CheckboxModel",
      "state": {
       "description": "Vater",
       "disabled": false,
       "layout": "IPY_MODEL_d1805f8d382041289e6fdb05cac068fc",
       "style": "IPY_MODEL_3a6f07949fdc43a492646dc9e882e413",
       "value": false
      }
     },
     "f0ff90a4b80549bb9a2668ce55e52f84": {
      "model_module": "@jupyter-widgets/base",
      "model_module_version": "1.0.0",
      "model_name": "LayoutModel",
      "state": {
       "width": "500px"
      }
     },
     "f13ffb98217c439fb52fe6fa28e93d36": {
      "model_module": "@jupyter-widgets/controls",
      "model_module_version": "1.2.0",
      "model_name": "ButtonStyleModel",
      "state": {
       "button_color": "lightgreen"
      }
     },
     "f148feab077945819dd08307f0bd5027": {
      "model_module": "@jupyter-widgets/controls",
      "model_module_version": "1.2.0",
      "model_name": "VBoxModel",
      "state": {
       "children": [
        "IPY_MODEL_9364a69fab1448dcb3f4a3c9375336ed",
        "IPY_MODEL_b0be08b4217e4bb4b1a6acfc78a3da6a",
        "IPY_MODEL_3099059cbcba4aaea7c6e76e3301e7ab",
        "IPY_MODEL_5293e37bcbd345d6b4ac975e7ca76492"
       ],
       "layout": "IPY_MODEL_e8bbe34aaefd4aceb37bb3012bdcebc1"
      }
     },
     "f17df10c635346d9bb0fe19a07dfc73b": {
      "model_module": "@jupyter-widgets/base",
      "model_module_version": "1.0.0",
      "model_name": "LayoutModel",
      "state": {}
     },
     "f19c1f9e1db040bcbb59d2848b3fb9c1": {
      "model_module": "@jupyter-widgets/base",
      "model_module_version": "1.0.0",
      "model_name": "LayoutModel",
      "state": {}
     },
     "f1e233e3e11843de9c9fe942dacfcdc5": {
      "model_module": "@jupyter-widgets/controls",
      "model_module_version": "1.2.0",
      "model_name": "DescriptionStyleModel",
      "state": {
       "description_width": ""
      }
     },
     "f1ec639d050541cb9ada3aae9a054150": {
      "model_module": "@jupyter-widgets/base",
      "model_module_version": "1.0.0",
      "model_name": "LayoutModel",
      "state": {
       "width": "250px"
      }
     },
     "f1f0813787dc433b9bc29cb28b17e9e6": {
      "model_module": "@jupyter-widgets/base",
      "model_module_version": "1.0.0",
      "model_name": "LayoutModel",
      "state": {
       "justify_content": "center"
      }
     },
     "f2688343d8c84828832a973434ca7d28": {
      "model_module": "@jupyter-widgets/controls",
      "model_module_version": "1.2.0",
      "model_name": "CheckboxModel",
      "state": {
       "description": "Vordersatz",
       "disabled": false,
       "layout": "IPY_MODEL_9b03e9bd98d749ae815b96eff28859cd",
       "style": "IPY_MODEL_1bf5ba29699f42cc8227405154dfd41a",
       "value": false
      }
     },
     "f307aa22a80749d195207534eb4ad0de": {
      "model_module": "@jupyter-widgets/base",
      "model_module_version": "1.0.0",
      "model_name": "LayoutModel",
      "state": {
       "width": "600px"
      }
     },
     "f343064031764eb6983440bd6eae0132": {
      "model_module": "@jupyter-widgets/controls",
      "model_module_version": "1.2.0",
      "model_name": "DescriptionStyleModel",
      "state": {
       "description_width": "initial"
      }
     },
     "f36536c632f6437b8afc0c3b694df5c6": {
      "model_module": "@jupyter-widgets/controls",
      "model_module_version": "1.2.0",
      "model_name": "DescriptionStyleModel",
      "state": {
       "description_width": "initial"
      }
     },
     "f36dc080b1f849b28c5a30734207e173": {
      "model_module": "@jupyter-widgets/controls",
      "model_module_version": "1.2.0",
      "model_name": "HTMLModel",
      "state": {
       "layout": "IPY_MODEL_5d0665c8fc7b4f9c8e9cc8ec49baa997",
       "style": "IPY_MODEL_6180f66d35a24a988cfeb6e92409070c",
       "value": "<h4 style=\"font-size:14px;\">Kann diese Position theoretisch auch leer bleiben?</h4>"
      }
     },
     "f3773cb6a52f407f955e2866f4fa8cdb": {
      "model_module": "@jupyter-widgets/base",
      "model_module_version": "1.0.0",
      "model_name": "LayoutModel",
      "state": {}
     },
     "f37cdfc09a1f47caaf0b5d05d3d70e90": {
      "model_module": "@jupyter-widgets/controls",
      "model_module_version": "1.2.0",
      "model_name": "DescriptionStyleModel",
      "state": {
       "description_width": "initial"
      }
     },
     "f3821ba2426f4924bc4080f0e12042f7": {
      "model_module": "@jupyter-widgets/base",
      "model_module_version": "1.0.0",
      "model_name": "LayoutModel",
      "state": {
       "width": "500px"
      }
     },
     "f40ddb2127ac4de4b8c80995b31428c6": {
      "model_module": "@jupyter-widgets/base",
      "model_module_version": "1.0.0",
      "model_name": "LayoutModel",
      "state": {
       "width": "600px"
      }
     },
     "f42ed70ea7084fac8570a95bd5d15a9a": {
      "model_module": "@jupyter-widgets/controls",
      "model_module_version": "1.2.0",
      "model_name": "ButtonModel",
      "state": {
       "description": "subordiniert",
       "layout": "IPY_MODEL_a575eb6a949245748ea2cefa13424bc2",
       "style": "IPY_MODEL_7390a8ee80204f8a9a353132f937f480"
      }
     },
     "f461728256b7413ca76e2f9dd275742f": {
      "model_module": "@jupyter-widgets/controls",
      "model_module_version": "1.2.0",
      "model_name": "CheckboxModel",
      "state": {
       "description": "hat",
       "disabled": false,
       "layout": "IPY_MODEL_6a915e186363449a9fb41ffde1829dd3",
       "style": "IPY_MODEL_8dda6a6c839b4dcb9271f61fa8499de4",
       "value": false
      }
     },
     "f4a73277d14b4057bba0b03584396585": {
      "model_module": "@jupyter-widgets/controls",
      "model_module_version": "1.2.0",
      "model_name": "DescriptionStyleModel",
      "state": {
       "description_width": "initial"
      }
     },
     "f4bf49c8fcc441908bae2f1c757d8c7b": {
      "model_module": "@jupyter-widgets/base",
      "model_module_version": "1.0.0",
      "model_name": "LayoutModel",
      "state": {
       "width": "600px"
      }
     },
     "f4c822ba65bd44d790729264af2ee4d9": {
      "model_module": "@jupyter-widgets/controls",
      "model_module_version": "1.2.0",
      "model_name": "ButtonStyleModel",
      "state": {}
     },
     "f4d05b6f1b284d47a8aa0de3d472e917": {
      "model_module": "@jupyter-widgets/base",
      "model_module_version": "1.0.0",
      "model_name": "LayoutModel",
      "state": {}
     },
     "f50c31bcfb89418d8a1d72953b6249c4": {
      "model_module": "@jupyter-widgets/controls",
      "model_module_version": "1.2.0",
      "model_name": "ButtonStyleModel",
      "state": {}
     },
     "f535d84781694816b904a8dfbaddeef9": {
      "model_module": "@jupyter-widgets/controls",
      "model_module_version": "1.2.0",
      "model_name": "DropdownModel",
      "state": {
       "_options_labels": [
        "Adverbialsatz",
        "Attributsatz",
        "Komplementsatz",
        "Matrixsatz"
       ],
       "description": "Antwort:",
       "index": 0,
       "layout": "IPY_MODEL_34d2ae763f70467c944f804b503c1910",
       "style": "IPY_MODEL_9b68c903007d4d2f915ef583da981050"
      }
     },
     "f54bd88074e64423bd9d5552f081e283": {
      "model_module": "@jupyter-widgets/controls",
      "model_module_version": "1.2.0",
      "model_name": "ButtonModel",
      "state": {
       "description": "infinites Verb",
       "layout": "IPY_MODEL_9dc332ec886247aea68031a260dbb0c8",
       "style": "IPY_MODEL_31e0455c810e4eeeaa93a58e6310e1ff"
      }
     },
     "f64701ac4d9a4379bfa309b4f2945bcd": {
      "model_module": "@jupyter-widgets/base",
      "model_module_version": "1.0.0",
      "model_name": "LayoutModel",
      "state": {
       "width": "250px"
      }
     },
     "f6a542c219d04e3ca3f7bc68e676e702": {
      "model_module": "@jupyter-widgets/controls",
      "model_module_version": "1.2.0",
      "model_name": "HTMLModel",
      "state": {
       "layout": "IPY_MODEL_eed13334edc84acca2d77a6ca4daad1d",
       "style": "IPY_MODEL_d44b1afd234945f5a27ecc1847806c51",
       "value": "<h4 style=\"font-size:14px;\">'Präpositionale Objekte stehen in Verbendsätzen in der Regel unmittelbar vor dem finiten Verb.'</h4>"
      }
     },
     "f6d34b10692d49cfa0685aac4c49aa9f": {
      "model_module": "@jupyter-widgets/controls",
      "model_module_version": "1.2.0",
      "model_name": "CheckboxModel",
      "state": {
       "description": "ihm",
       "disabled": false,
       "layout": "IPY_MODEL_d0607016ed5f489f8acdb3488476b4f3",
       "style": "IPY_MODEL_272873944fe64976baf5235f254f69c6",
       "value": false
      }
     },
     "f6d61a664ae84b00a03708475310c8bf": {
      "model_module": "@jupyter-widgets/controls",
      "model_module_version": "1.2.0",
      "model_name": "HBoxModel",
      "state": {
       "children": [
        "IPY_MODEL_180702d2abaa454eba024dfdd5fe9c4d"
       ],
       "layout": "IPY_MODEL_14740e85155c4aa99fe705f6e3c557fb"
      }
     },
     "f6da1087caf04a14b28c33aa1b712342": {
      "model_module": "@jupyter-widgets/controls",
      "model_module_version": "1.2.0",
      "model_name": "ButtonStyleModel",
      "state": {
       "button_color": "lightgreen"
      }
     },
     "f6ef78b6742741e28bf450d2a04b4acf": {
      "model_module": "@jupyter-widgets/controls",
      "model_module_version": "1.2.0",
      "model_name": "ButtonModel",
      "state": {
       "description": "Satz 4",
       "layout": "IPY_MODEL_2976bcdba11d47e1a9caef97edb1c8d8",
       "style": "IPY_MODEL_78feabc83f334fb9822507ea517f43e5"
      }
     },
     "f70c89d8b76d4b5bbfc0824d248464cc": {
      "model_module": "@jupyter-widgets/base",
      "model_module_version": "1.0.0",
      "model_name": "LayoutModel",
      "state": {
       "width": "600px"
      }
     },
     "f77e31eb46d24cbba217ceef89e7c4d1": {
      "model_module": "@jupyter-widgets/controls",
      "model_module_version": "1.2.0",
      "model_name": "HBoxModel",
      "state": {
       "children": [
        "IPY_MODEL_135a1b0302cc43a08f5af756c28da008",
        "IPY_MODEL_0b1de05e44f241dd94d9745a722c8f69"
       ],
       "layout": "IPY_MODEL_f3773cb6a52f407f955e2866f4fa8cdb"
      }
     },
     "f799ba60701c454ba67e18264d2b2f8e": {
      "model_module": "@jupyter-widgets/controls",
      "model_module_version": "1.2.0",
      "model_name": "ButtonModel",
      "state": {
       "description": "Korrekt?",
       "layout": "IPY_MODEL_6f48715cd245492e954faf10fd755c03",
       "style": "IPY_MODEL_9d885c98a33e46d9bfa765428a56d0fc"
      }
     },
     "f7c039fb4e264959a0524843f9cbda3f": {
      "model_module": "@jupyter-widgets/base",
      "model_module_version": "1.0.0",
      "model_name": "LayoutModel",
      "state": {
       "width": "250px"
      }
     },
     "f8051084a2f84f48be4cc009bab1eb5b": {
      "model_module": "@jupyter-widgets/base",
      "model_module_version": "1.0.0",
      "model_name": "LayoutModel",
      "state": {}
     },
     "f8cfaac7d60e406485000a8cccc4f239": {
      "model_module": "@jupyter-widgets/controls",
      "model_module_version": "1.2.0",
      "model_name": "ButtonStyleModel",
      "state": {}
     },
     "f912e6c2d90248cdbc0a79b47b42f89e": {
      "model_module": "@jupyter-widgets/base",
      "model_module_version": "1.0.0",
      "model_name": "LayoutModel",
      "state": {
       "justify_content": "center"
      }
     },
     "f937ca238d1a45b096d4b5e47cc3be47": {
      "model_module": "@jupyter-widgets/controls",
      "model_module_version": "1.2.0",
      "model_name": "HBoxModel",
      "state": {
       "children": [
        "IPY_MODEL_69354294dab94882806bd5e82828ace5",
        "IPY_MODEL_fe79e79334884d17a115c12b17522ee1"
       ],
       "layout": "IPY_MODEL_a6ae640f81ec4ad59ffc7ac8113cee84"
      }
     },
     "f966030afc0d4c15b57e2d29c6c712e9": {
      "model_module": "@jupyter-widgets/base",
      "model_module_version": "1.0.0",
      "model_name": "LayoutModel",
      "state": {}
     },
     "f98da67f50484e73ab254a1836a49298": {
      "model_module": "@jupyter-widgets/controls",
      "model_module_version": "1.2.0",
      "model_name": "HTMLModel",
      "state": {
       "layout": "IPY_MODEL_c76b1ef7d5214af1bde862cea0b7a2b4",
       "style": "IPY_MODEL_6b81060d0fd64d6293b8c72122af8702",
       "value": "<i>Wählen Sie die <ins>eine</ins> korrekte Antwort aus: </i>"
      }
     },
     "fa352627ab064a719c9affa421619830": {
      "model_module": "@jupyter-widgets/controls",
      "model_module_version": "1.2.0",
      "model_name": "DescriptionStyleModel",
      "state": {
       "description_width": ""
      }
     },
     "fa62c5b6e0304be5b4200b6e16806527": {
      "model_module": "@jupyter-widgets/controls",
      "model_module_version": "1.2.0",
      "model_name": "DescriptionStyleModel",
      "state": {
       "description_width": ""
      }
     },
     "fa66d39ddc02484b8ecf748012605277": {
      "model_module": "@jupyter-widgets/controls",
      "model_module_version": "1.2.0",
      "model_name": "DescriptionStyleModel",
      "state": {
       "description_width": ""
      }
     },
     "fa7e67e6feb94f4fa9fbbe40b18c122d": {
      "model_module": "@jupyter-widgets/base",
      "model_module_version": "1.0.0",
      "model_name": "LayoutModel",
      "state": {
       "width": "250px"
      }
     },
     "fa84221b4960478c9357feb6b4d7ae92": {
      "model_module": "@jupyter-widgets/base",
      "model_module_version": "1.0.0",
      "model_name": "LayoutModel",
      "state": {
       "width": "250px"
      }
     },
     "faa9414a14364e348f8c7e3c5c1ec9c4": {
      "model_module": "@jupyter-widgets/base",
      "model_module_version": "1.0.0",
      "model_name": "LayoutModel",
      "state": {}
     },
     "facb1865861445fa8dae2ad12ea3ce16": {
      "model_module": "@jupyter-widgets/base",
      "model_module_version": "1.0.0",
      "model_name": "LayoutModel",
      "state": {
       "justify_content": "center"
      }
     },
     "fad382d38ed4404b85ddde6989b54fe6": {
      "model_module": "@jupyter-widgets/base",
      "model_module_version": "1.0.0",
      "model_name": "LayoutModel",
      "state": {
       "width": "600px"
      }
     },
     "faf86aed8c304257aa4605def1853808": {
      "model_module": "@jupyter-widgets/controls",
      "model_module_version": "1.2.0",
      "model_name": "ButtonStyleModel",
      "state": {}
     },
     "fb1143ac4b8442afabc50177c4341c56": {
      "model_module": "@jupyter-widgets/controls",
      "model_module_version": "1.2.0",
      "model_name": "DescriptionStyleModel",
      "state": {
       "description_width": "initial"
      }
     },
     "fb1c6a004f33445aaac67129b5b21187": {
      "model_module": "@jupyter-widgets/controls",
      "model_module_version": "1.2.0",
      "model_name": "VBoxModel",
      "state": {
       "children": [
        "IPY_MODEL_e8bf67d75161481bb3323ae1ca1d5980",
        "IPY_MODEL_13dd58da5d6848728d8c2ca22c0b2c90",
        "IPY_MODEL_08d29f3b8b764bac8e5cb36e6ec7aeda"
       ],
       "layout": "IPY_MODEL_d97c8f6ef198405e809de8971927e973"
      }
     },
     "fb1d101534954142b727306fac3fc16e": {
      "model_module": "@jupyter-widgets/base",
      "model_module_version": "1.0.0",
      "model_name": "LayoutModel",
      "state": {}
     },
     "fb317217064f4512b0abc185f270ba58": {
      "model_module": "@jupyter-widgets/base",
      "model_module_version": "1.0.0",
      "model_name": "LayoutModel",
      "state": {
       "width": "250px"
      }
     },
     "fb3ca045724741e480fb709e921c42e8": {
      "model_module": "@jupyter-widgets/base",
      "model_module_version": "1.0.0",
      "model_name": "LayoutModel",
      "state": {
       "justify_content": "center"
      }
     },
     "fb5916b28ad04462ba466967d9e72880": {
      "model_module": "@jupyter-widgets/controls",
      "model_module_version": "1.2.0",
      "model_name": "DescriptionStyleModel",
      "state": {
       "description_width": ""
      }
     },
     "fb68e05e6f64421f868a3c15471e68b8": {
      "model_module": "@jupyter-widgets/controls",
      "model_module_version": "1.2.0",
      "model_name": "CheckboxModel",
      "state": {
       "description": "gelesen",
       "disabled": false,
       "layout": "IPY_MODEL_c18a34dd3bdc497ebde364b16db106a6",
       "style": "IPY_MODEL_ff414fc011654f7d95d6558c0a973005",
       "value": true
      }
     },
     "fb80ef57fbe5460f9927038580368a00": {
      "model_module": "@jupyter-widgets/controls",
      "model_module_version": "1.2.0",
      "model_name": "DescriptionStyleModel",
      "state": {
       "description_width": "initial"
      }
     },
     "fb92309801ae48faac60a7f0704caf82": {
      "model_module": "@jupyter-widgets/controls",
      "model_module_version": "1.2.0",
      "model_name": "DescriptionStyleModel",
      "state": {
       "description_width": ""
      }
     },
     "fb999bd261d340cca6c6f48404c2f5d3": {
      "model_module": "@jupyter-widgets/base",
      "model_module_version": "1.0.0",
      "model_name": "LayoutModel",
      "state": {
       "width": "600px"
      }
     },
     "fb9c4dbbc7314e658ab71685918386a4": {
      "model_module": "@jupyter-widgets/controls",
      "model_module_version": "1.2.0",
      "model_name": "ButtonModel",
      "state": {
       "description": "Korrekt?",
       "layout": "IPY_MODEL_4d5f8f0e03834e7b962ef2864cbd28c4",
       "style": "IPY_MODEL_fc8410f7ec4e431eb6a4cadb78c6270e"
      }
     },
     "fbc34071c1d54c87a5081832b0a6d08f": {
      "model_module": "@jupyter-widgets/controls",
      "model_module_version": "1.2.0",
      "model_name": "HTMLModel",
      "state": {
       "layout": "IPY_MODEL_90de0d4e8d394586aea3626f793244e5",
       "style": "IPY_MODEL_0cca80e0172c4e00a25eb6ef71bc4a74",
       "value": "<i>Wählen Sie die <ins>eine</ins> korrekte Antwort aus: </i>"
      }
     },
     "fbe30bc314eb4a309ff2c21d64daa63f": {
      "model_module": "@jupyter-widgets/base",
      "model_module_version": "1.0.0",
      "model_name": "LayoutModel",
      "state": {
       "width": "600px"
      }
     },
     "fc36b36706e5479fa3b0a674150a5e61": {
      "model_module": "@jupyter-widgets/base",
      "model_module_version": "1.0.0",
      "model_name": "LayoutModel",
      "state": {
       "width": "250px"
      }
     },
     "fc3ece1ac03e4038b328330ddbe5b7f3": {
      "model_module": "@jupyter-widgets/controls",
      "model_module_version": "1.2.0",
      "model_name": "VBoxModel",
      "state": {
       "children": [
        "IPY_MODEL_9cc223350f0a4f31a0414e10be7d61a5",
        "IPY_MODEL_54b4c6b498fc4f87bc9a6fd00f526810",
        "IPY_MODEL_7301b189cfbf49ffa604e8b660a3ee9e",
        "IPY_MODEL_8d0754bcc4d34767bc1004a94a698d81"
       ],
       "layout": "IPY_MODEL_25209a9f6e4446d9bda0ce6b2a8fb2e7"
      }
     },
     "fc6400e59d2e4ed995ae0d233e96d6e7": {
      "model_module": "@jupyter-widgets/base",
      "model_module_version": "1.0.0",
      "model_name": "LayoutModel",
      "state": {
       "justify_content": "center"
      }
     },
     "fc8410f7ec4e431eb6a4cadb78c6270e": {
      "model_module": "@jupyter-widgets/controls",
      "model_module_version": "1.2.0",
      "model_name": "ButtonStyleModel",
      "state": {}
     },
     "fc8949bf904744dd91cef2b00b663409": {
      "model_module": "@jupyter-widgets/controls",
      "model_module_version": "1.2.0",
      "model_name": "CheckboxModel",
      "state": {
       "description": "Attributsatz (<code>acl</code>)",
       "disabled": false,
       "layout": "IPY_MODEL_d775c9f835a94eb0be9b2d4ec0391a23",
       "style": "IPY_MODEL_3d82ea0cbd9b49f3bef29f7fd0755d83",
       "value": false
      }
     },
     "fcbfee04039244d2a032e47e7fec0bbd": {
      "model_module": "@jupyter-widgets/controls",
      "model_module_version": "1.2.0",
      "model_name": "VBoxModel",
      "state": {
       "children": [
        "IPY_MODEL_c90901658ef54220bb81ac77937ad953",
        "IPY_MODEL_fbc34071c1d54c87a5081832b0a6d08f",
        "IPY_MODEL_fe5737142cf944918fd3751b5ca3f143",
        "IPY_MODEL_e2357ee4152a4fb59353bb130aa1301b"
       ],
       "layout": "IPY_MODEL_3a18ca21ab7a4ef49a133cdaae2b0ca9"
      }
     },
     "fccaec06d09246be83c14d72d75c2a2f": {
      "model_module": "@jupyter-widgets/controls",
      "model_module_version": "1.2.0",
      "model_name": "HTMLModel",
      "state": {
       "layout": "IPY_MODEL_6578c9570fbc4a16972d201dbdfb2d8b",
       "style": "IPY_MODEL_3dea015e74a5423eade795f26187cf60",
       "value": "<h4 style=\"font-size:14px;\">Welche Form der Kontrolle liegt hier vor?</h4>"
      }
     },
     "fd114fce25974e3db19e1e7a07ab971f": {
      "model_module": "@jupyter-widgets/controls",
      "model_module_version": "1.2.0",
      "model_name": "DescriptionStyleModel",
      "state": {
       "description_width": ""
      }
     },
     "fd19a5890a3549799df1e8cbeeaefeaa": {
      "model_module": "@jupyter-widgets/controls",
      "model_module_version": "1.2.0",
      "model_name": "ButtonModel",
      "state": {
       "description": "Wunschsatz",
       "layout": "IPY_MODEL_2cecfcb1dbd34b4092d8df5bd3ffc4a7",
       "style": "IPY_MODEL_2d7f1d4a8ff941ed89c876fad81bdaf2"
      }
     },
     "fd9324d7abb948d0b33aab668ceda732": {
      "model_module": "@jupyter-widgets/controls",
      "model_module_version": "1.2.0",
      "model_name": "DescriptionStyleModel",
      "state": {
       "description_width": ""
      }
     },
     "fe5737142cf944918fd3751b5ca3f143": {
      "model_module": "@jupyter-widgets/controls",
      "model_module_version": "1.2.0",
      "model_name": "HBoxModel",
      "state": {
       "children": [
        "IPY_MODEL_ab9e6535712d4e42abc1d8b9999daade",
        "IPY_MODEL_2612e6fae15c42ac9d642460690d5c07"
       ],
       "layout": "IPY_MODEL_c7c444dd08754149a9276c9a821f8052"
      }
     },
     "fe79e79334884d17a115c12b17522ee1": {
      "model_module": "@jupyter-widgets/controls",
      "model_module_version": "1.2.0",
      "model_name": "ButtonModel",
      "state": {
       "description": "Satz 2",
       "layout": "IPY_MODEL_05a1f0a23f824143b7b79bdff2d309c7",
       "style": "IPY_MODEL_ac3f975587264dbf86b6046a882db43d"
      }
     },
     "feac8b0846964f4d864459d41fba22d7": {
      "model_module": "@jupyter-widgets/controls",
      "model_module_version": "1.2.0",
      "model_name": "CheckboxModel",
      "state": {
       "description": "rechte Satzklammer",
       "disabled": false,
       "layout": "IPY_MODEL_93f90655b288409b97dcc6660534ce32",
       "style": "IPY_MODEL_2674a892198d4f4a88d4c49ee1fc2f8d",
       "value": false
      }
     },
     "fefdd296edac4b0ca12870cfe29e5003": {
      "model_module": "@jupyter-widgets/base",
      "model_module_version": "1.0.0",
      "model_name": "LayoutModel",
      "state": {
       "justify_content": "center"
      }
     },
     "ff414fc011654f7d95d6558c0a973005": {
      "model_module": "@jupyter-widgets/controls",
      "model_module_version": "1.2.0",
      "model_name": "DescriptionStyleModel",
      "state": {
       "description_width": "initial"
      }
     },
     "ff53b3991b454cb3b500800c402fddfb": {
      "model_module": "@jupyter-widgets/controls",
      "model_module_version": "1.2.0",
      "model_name": "ButtonStyleModel",
      "state": {}
     }
    },
    "version_major": 2,
    "version_minor": 0
   }
  }
 },
 "nbformat": 4,
 "nbformat_minor": 2
}
