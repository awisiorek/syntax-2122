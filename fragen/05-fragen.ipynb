{
 "cells": [
  {
   "cell_type": "markdown",
   "metadata": {},
   "source": [
    "***Syntax natürlicher Sprachen, WS 2021/22***\n",
    "\n",
    "---\n",
    "# Wiederholungsfragen 5"
   ]
  },
  {
   "cell_type": "code",
   "execution_count": 1,
   "metadata": {
    "scrolled": true
   },
   "outputs": [],
   "source": [
    "from exercises_5 import *\n",
    "from questions import aufgabe"
   ]
  },
  {
   "cell_type": "markdown",
   "metadata": {},
   "source": [
    "---\n",
    "## Frage 1: Ergänzungen vs. Angaben (1)\n",
    "\n",
    "#### Betrachten Sie den folgenden Satz:\n",
    "- Die neue Kollegin fährt mit der S-Bahn zu ihrem neuen Arbeitsplatz.\n",
    "\n",
    "#### Diskutieren Sie, ob in diesem Satz alle vom Verb abhängigen Satzglieder Ergänzungen sind. Welche Tests können Sie anführen, um Ihren Standpunkt zu begründen?\n",
    "\n",
    "#### Beantworten Sie zusätzlich die folgenden Fragen:"
   ]
  },
  {
   "cell_type": "code",
   "execution_count": 2,
   "metadata": {
    "scrolled": false
   },
   "outputs": [
    {
     "data": {
      "application/vnd.jupyter.widget-view+json": {
       "model_id": "3c01b061875743aca0d3c61958efb201",
       "version_major": 2,
       "version_minor": 0
      },
      "text/plain": [
       "Lueckentext(children=(HTML(value='<i>Vervollständigen Sie den Lückentext: </i>', layout=Layout(justify_content…"
      ]
     },
     "metadata": {},
     "output_type": "display_data"
    },
    {
     "data": {
      "application/vnd.jupyter.widget-view+json": {
       "model_id": "fc6bd2e2ce824d0bb5a257d9c8bb31dc",
       "version_major": 2,
       "version_minor": 0
      },
      "text/plain": [
       "MultipleChoice(children=(HTML(value='<h4 style=\"font-size:14px;\">Mit welchen Tests kann die Funktion des obrig…"
      ]
     },
     "metadata": {},
     "output_type": "display_data"
    },
    {
     "data": {
      "application/vnd.jupyter.widget-view+json": {
       "model_id": "5bcf5e0ff2ba476b877bcf8bb6ab4e0a",
       "version_major": 2,
       "version_minor": 0
      },
      "text/plain": [
       "MultipleChoice(children=(HTML(value='<h4 style=\"font-size:14px;\">Bei welchen Sätzen wurden die Tests richtig a…"
      ]
     },
     "metadata": {},
     "output_type": "display_data"
    }
   ],
   "source": [
    "aufgabe(blatt5_1)"
   ]
  },
  {
   "cell_type": "markdown",
   "metadata": {},
   "source": [
    "---\n",
    "## Frage 2: Attributtypen\n",
    "\n",
    "#### Analysieren Sie die folgende komplexe NP. Welche Attributtypen treten auf?\n",
    "- Die lang ersehnte Fahrt der Klasse 5b nach Paris, die sich aus irgendeinem Grunde immer wieder verzögert hatte, findet nun endlich statt."
   ]
  },
  {
   "cell_type": "code",
   "execution_count": 3,
   "metadata": {},
   "outputs": [
    {
     "data": {
      "application/vnd.jupyter.widget-view+json": {
       "model_id": "52dc3ef535e44fc1b0d20ba3eab35ea8",
       "version_major": 2,
       "version_minor": 0
      },
      "text/plain": [
       "SingleChoice(children=(HTML(value='<h4 style=\"font-size:14px;\">Um welchen Attributtyp handelt es sich bei dem …"
      ]
     },
     "metadata": {},
     "output_type": "display_data"
    },
    {
     "data": {
      "application/vnd.jupyter.widget-view+json": {
       "model_id": "9b41f263315144c09b494a9274196dc3",
       "version_major": 2,
       "version_minor": 0
      },
      "text/plain": [
       "SingleChoice(children=(HTML(value='<h4 style=\"font-size:14px;\">Um welchen Attributtyp handelt es sich bei dem …"
      ]
     },
     "metadata": {},
     "output_type": "display_data"
    },
    {
     "data": {
      "application/vnd.jupyter.widget-view+json": {
       "model_id": "4acedff92da64bfb919b2d3836a5bdec",
       "version_major": 2,
       "version_minor": 0
      },
      "text/plain": [
       "SingleChoice(children=(HTML(value='<h4 style=\"font-size:14px;\">Um welchen Attributtyp handelt es sich bei dem …"
      ]
     },
     "metadata": {},
     "output_type": "display_data"
    },
    {
     "data": {
      "application/vnd.jupyter.widget-view+json": {
       "model_id": "a4a0a0ed2d1a40ad89244aed66128dfb",
       "version_major": 2,
       "version_minor": 0
      },
      "text/plain": [
       "SingleChoice(children=(HTML(value='<h4 style=\"font-size:14px;\">Um welchen Attributtyp handelt es sich bei dem …"
      ]
     },
     "metadata": {},
     "output_type": "display_data"
    }
   ],
   "source": [
    "aufgabe(blatt5_2)"
   ]
  },
  {
   "cell_type": "markdown",
   "metadata": {},
   "source": [
    "---\n",
    "## Frage 3: Phrasenkategorien\n",
    "\n",
    "#### Erläutern Sie an folgendem Beispielsatz den Unterschied zwischen Adverb und Adverbial.\n",
    "- Paul schwimmt sehr gut.\n",
    "\n",
    "#### Beantworten Sie zusätzlich folgende Fragen:"
   ]
  },
  {
   "cell_type": "code",
   "execution_count": 4,
   "metadata": {},
   "outputs": [
    {
     "data": {
      "application/vnd.jupyter.widget-view+json": {
       "model_id": "f742f6581e654b38bc17efa9d7e7dc44",
       "version_major": 2,
       "version_minor": 0
      },
      "text/plain": [
       "Lueckentext(children=(HTML(value='<i>Vervollständigen Sie den Lückentext: </i>', layout=Layout(justify_content…"
      ]
     },
     "metadata": {},
     "output_type": "display_data"
    }
   ],
   "source": [
    "aufgabe(blatt5_3)"
   ]
  },
  {
   "cell_type": "markdown",
   "metadata": {},
   "source": [
    "---\n",
    "## Frage 4: Subjektidentifikation\n",
    "\n",
    "#### Inwiefern bereitet die NP *ein Fehler* im folgenden Satz Schwierigkeiten für die Anwendung der gängigen Identifikationskriterien von Subjekten?\n",
    "- Dem Lehrer ist schon wieder ein Fehler unterlaufen.\n",
    "\n",
    "#### Beantworten Sie außerdem die folgenden Fragen."
   ]
  },
  {
   "cell_type": "code",
   "execution_count": 5,
   "metadata": {},
   "outputs": [
    {
     "data": {
      "application/vnd.jupyter.widget-view+json": {
       "model_id": "5dc190162ada403ab8f6474009b31735",
       "version_major": 2,
       "version_minor": 0
      },
      "text/plain": [
       "MultipleChoice(children=(HTML(value='<h4 style=\"font-size:14px;\">Was sind Identifikationskriterien für das Sub…"
      ]
     },
     "metadata": {},
     "output_type": "display_data"
    },
    {
     "data": {
      "application/vnd.jupyter.widget-view+json": {
       "model_id": "b758f285137c48d480d39b1177b00f96",
       "version_major": 2,
       "version_minor": 0
      },
      "text/plain": [
       "MultipleChoice(children=(HTML(value='<h4 style=\"font-size:14px;\">Was gilt <b>nicht</b> für die NP <i> ein Fehl…"
      ]
     },
     "metadata": {},
     "output_type": "display_data"
    },
    {
     "data": {
      "application/vnd.jupyter.widget-view+json": {
       "model_id": "08152ac0d397415ab21920b82972d135",
       "version_major": 2,
       "version_minor": 0
      },
      "text/plain": [
       "MultipleChoice(children=(HTML(value='<h4 style=\"font-size:14px;\">Was spricht dafür, dass es sich bei <i> ein F…"
      ]
     },
     "metadata": {},
     "output_type": "display_data"
    }
   ],
   "source": [
    "aufgabe(blatt5_4)"
   ]
  },
  {
   "cell_type": "markdown",
   "metadata": {},
   "source": [
    "---\n",
    "## Frage 5: Direkte und indirekte Objekte"
   ]
  },
  {
   "cell_type": "markdown",
   "metadata": {},
   "source": [
    "---\n",
    "### Frage 5 a:\n",
    "#### Handelt es sich bei der Genitiv-NP in folgendem Satz um ein direktes Objekt?\n",
    "#### Bitte begründen!\n",
    "- Ich freue mich darüber, dass man ihn endlich des Diebstahls überführt hat.\n",
    "\n",
    "#### Beantworten Sie im Zuge dessen auch die folgenden Fragen."
   ]
  },
  {
   "cell_type": "code",
   "execution_count": 6,
   "metadata": {},
   "outputs": [
    {
     "data": {
      "application/vnd.jupyter.widget-view+json": {
       "model_id": "6386ad69206244438857dab0f1db1207",
       "version_major": 2,
       "version_minor": 0
      },
      "text/plain": [
       "MultipleChoice(children=(HTML(value='<h4 style=\"font-size:14px;\">Welche Gründe sprechen für eine Klassifizieru…"
      ]
     },
     "metadata": {},
     "output_type": "display_data"
    },
    {
     "data": {
      "application/vnd.jupyter.widget-view+json": {
       "model_id": "ec434c34efa44d9fb43950eb9245c477",
       "version_major": 2,
       "version_minor": 0
      },
      "text/plain": [
       "MultipleChoice(children=(HTML(value='<h4 style=\"font-size:14px;\">Welche im Deutschen für das Objekt typische K…"
      ]
     },
     "metadata": {},
     "output_type": "display_data"
    }
   ],
   "source": [
    "aufgabe(blatt5_5a)"
   ]
  },
  {
   "cell_type": "markdown",
   "metadata": {},
   "source": [
    "---\n",
    "### Frage 5b:\n",
    "\n",
    "#### Vergleichen Sie den deutschen Satz (1.) mit dem englischen Äquivalent. Wie wird das indirekte Objekt im Englischen, wie wird es im Deutschen kodiert?\n",
    "1. Ich gebe dem Jungen das Buch.\n",
    "2. I give the book to the boy.\n",
    "\n",
    "#### Beantworten Sie die folgenden zwei Fragen."
   ]
  },
  {
   "cell_type": "code",
   "execution_count": 7,
   "metadata": {},
   "outputs": [
    {
     "data": {
      "application/vnd.jupyter.widget-view+json": {
       "model_id": "00588b887f8f434cbad0d447995155ba",
       "version_major": 2,
       "version_minor": 0
      },
      "text/plain": [
       "SingleChoice(children=(HTML(value='<h4 style=\"font-size:14px;\">Im Englischen wird das indirekte Objekt _______…"
      ]
     },
     "metadata": {},
     "output_type": "display_data"
    },
    {
     "data": {
      "application/vnd.jupyter.widget-view+json": {
       "model_id": "3b6652f3f3154b99933810c81c274d89",
       "version_major": 2,
       "version_minor": 0
      },
      "text/plain": [
       "SingleChoice(children=(HTML(value='<h4 style=\"font-size:14px;\">Im Deutschen wird das indirekte Objekt ________…"
      ]
     },
     "metadata": {},
     "output_type": "display_data"
    }
   ],
   "source": [
    "aufgabe(blatt5_5b)"
   ]
  },
  {
   "cell_type": "markdown",
   "metadata": {},
   "source": [
    "---\n",
    "## Frage 6: Ergänzungen vs. Angaben (2)\n",
    "\n",
    "#### Diskutieren Sie die Problematik der Unterscheidung von Ergänzungen und Angaben mit Bezug auf die folgenden Sätze:\n",
    "1. *Peter steigt auf das Pferd.*\n",
    "2. *Peter besteigt das Pferd.*\n",
    "3. *Peter reitet das Pferd.*\n",
    "\n",
    "#### Bearbeiten Sie auch die nachfolgenden Aufgaben."
   ]
  },
  {
   "cell_type": "markdown",
   "metadata": {},
   "source": [
    "#### Welche Ergebnisse liefern die Tests zur Komplement/Adjunkt-Differenzierung?"
   ]
  },
  {
   "cell_type": "code",
   "execution_count": 8,
   "metadata": {},
   "outputs": [
    {
     "data": {
      "application/vnd.jupyter.widget-view+json": {
       "model_id": "8c89e9427f394ff68371494564ad3b69",
       "version_major": 2,
       "version_minor": 0
      },
      "text/plain": [
       "Lueckentext(children=(HTML(value='<i>Vervollständigen Sie den Lückentext: </i>', layout=Layout(justify_content…"
      ]
     },
     "metadata": {},
     "output_type": "display_data"
    },
    {
     "data": {
      "application/vnd.jupyter.widget-view+json": {
       "model_id": "3f35ecd1a2e14b1397a21ad1a1b30aa2",
       "version_major": 2,
       "version_minor": 0
      },
      "text/plain": [
       "SingleChoice(children=(HTML(value='<h4 style=\"font-size:14px;\">Schlägt der Adverbialsatz-Test fehl, so handelt…"
      ]
     },
     "metadata": {},
     "output_type": "display_data"
    },
    {
     "data": {
      "application/vnd.jupyter.widget-view+json": {
       "model_id": "5a81cc2d09124dca9e3705b858d6d9a4",
       "version_major": 2,
       "version_minor": 0
      },
      "text/plain": [
       "SingleChoice(children=(HTML(value='<h4 style=\"font-size:14px;\">Schlägt der geschehen-Test fehl, so handelt es …"
      ]
     },
     "metadata": {},
     "output_type": "display_data"
    },
    {
     "data": {
      "application/vnd.jupyter.widget-view+json": {
       "model_id": "bd6945be85a0420394b451fee4b7caad",
       "version_major": 2,
       "version_minor": 0
      },
      "text/plain": [
       "MultipleChoice(children=(HTML(value='<h4 style=\"font-size:14px;\">Welche Tests ergeben, dass es sich bei <i> au…"
      ]
     },
     "metadata": {},
     "output_type": "display_data"
    },
    {
     "data": {
      "application/vnd.jupyter.widget-view+json": {
       "model_id": "5bc0070c509743c893e92b2c2b8ee17a",
       "version_major": 2,
       "version_minor": 0
      },
      "text/plain": [
       "MultipleChoice(children=(HTML(value='<h4 style=\"font-size:14px;\">Welche Tests ergeben, dass es sich bei <i> da…"
      ]
     },
     "metadata": {},
     "output_type": "display_data"
    },
    {
     "data": {
      "application/vnd.jupyter.widget-view+json": {
       "model_id": "58b03bf2ca8b4d3b9f897efae5e1fb84",
       "version_major": 2,
       "version_minor": 0
      },
      "text/plain": [
       "MultipleChoice(children=(HTML(value='<h4 style=\"font-size:14px;\">Welche Tests ergeben, dass es sich bei <i> da…"
      ]
     },
     "metadata": {},
     "output_type": "display_data"
    }
   ],
   "source": [
    "aufgabe(blatt5_6a)"
   ]
  },
  {
   "cell_type": "markdown",
   "metadata": {},
   "source": [
    "#### Beantworten Sie auch die folgenden Fragen:"
   ]
  },
  {
   "cell_type": "code",
   "execution_count": 9,
   "metadata": {},
   "outputs": [
    {
     "data": {
      "application/vnd.jupyter.widget-view+json": {
       "model_id": "671c6ae3e82e4219b45873f41d36d43f",
       "version_major": 2,
       "version_minor": 0
      },
      "text/plain": [
       "MultipleChoice(children=(HTML(value='<h4 style=\"font-size:14px;\">Unter der Annahmen, dass alle präpositional a…"
      ]
     },
     "metadata": {},
     "output_type": "display_data"
    },
    {
     "data": {
      "application/vnd.jupyter.widget-view+json": {
       "model_id": "02992b31e9154294b3fede46dd341ef1",
       "version_major": 2,
       "version_minor": 0
      },
      "text/plain": [
       "MultipleChoice(children=(HTML(value='<h4 style=\"font-size:14px;\">Unter der Annahmen, dass alle Adverbiale Anga…"
      ]
     },
     "metadata": {},
     "output_type": "display_data"
    },
    {
     "data": {
      "application/vnd.jupyter.widget-view+json": {
       "model_id": "42d43d337dbb4687a7bc6057cd382f40",
       "version_major": 2,
       "version_minor": 0
      },
      "text/plain": [
       "SingleChoice(children=(HTML(value='<h4 style=\"font-size:14px;\">Wie könnte man abschließend das in Frage stehen…"
      ]
     },
     "metadata": {},
     "output_type": "display_data"
    },
    {
     "data": {
      "application/vnd.jupyter.widget-view+json": {
       "model_id": "dd9e4916c57747da960bc5c56ec9ac9c",
       "version_major": 2,
       "version_minor": 0
      },
      "text/plain": [
       "SingleChoice(children=(HTML(value='<h4 style=\"font-size:14px;\">Wie könnte man abschließend das in Frage stehen…"
      ]
     },
     "metadata": {},
     "output_type": "display_data"
    },
    {
     "data": {
      "application/vnd.jupyter.widget-view+json": {
       "model_id": "38dea0e355044846bab984088fe59d4c",
       "version_major": 2,
       "version_minor": 0
      },
      "text/plain": [
       "SingleChoice(children=(HTML(value='<h4 style=\"font-size:14px;\">Wie könnte man abschließend das in Frage stehen…"
      ]
     },
     "metadata": {},
     "output_type": "display_data"
    }
   ],
   "source": [
    "aufgabe(blatt5_6b)"
   ]
  },
  {
   "cell_type": "markdown",
   "metadata": {},
   "source": [
    "---\n",
    "# Hausaufgaben "
   ]
  },
  {
   "cell_type": "markdown",
   "metadata": {},
   "source": [
    "---\n",
    "## Frage 7: Phrasenkategorien\n",
    "\n",
    "#### Bestimmen Sie in folgendem Satz, ob es sich bei der Präpositionalphrase um ein präpositionales Objekt oder um ein Adverbial handelt. Begründen Sie Ihre Entscheidung.\n",
    "- Peter verlässt sich immer gerne auf andere."
   ]
  },
  {
   "cell_type": "code",
   "execution_count": 10,
   "metadata": {},
   "outputs": [
    {
     "data": {
      "application/vnd.jupyter.widget-view+json": {
       "model_id": "7c074d82d12c4977bbabe0c5fa35d47b",
       "version_major": 2,
       "version_minor": 0
      },
      "text/plain": [
       "SingleChoice(children=(HTML(value='<h4 style=\"font-size:14px;\">Handelt es sich im Satz bei der Präpositionalph…"
      ]
     },
     "metadata": {},
     "output_type": "display_data"
    },
    {
     "data": {
      "application/vnd.jupyter.widget-view+json": {
       "model_id": "03e0843ed47c4b72b79b037742206583",
       "version_major": 2,
       "version_minor": 0
      },
      "text/plain": [
       "MultipleChoice(children=(HTML(value='<h4 style=\"font-size:14px;\">Wieso?</h4>'), HTML(value='<i>Markieren Sie <…"
      ]
     },
     "metadata": {},
     "output_type": "display_data"
    }
   ],
   "source": [
    "aufgabe(blatt5_7)"
   ]
  },
  {
   "cell_type": "markdown",
   "metadata": {},
   "source": [
    "--- \n",
    "## Frage 8: Valenz und Dependenz\n",
    "\n",
    "#### Zeigen Sie an folgendem Satz den Unterschied zwischen Valenz und Dependenz auf:\n",
    "- Peter schläft gerne im Zelt."
   ]
  },
  {
   "cell_type": "code",
   "execution_count": 11,
   "metadata": {},
   "outputs": [
    {
     "data": {
      "application/vnd.jupyter.widget-view+json": {
       "model_id": "cec62cd854684ff39f4c33c30047c565",
       "version_major": 2,
       "version_minor": 0
      },
      "text/plain": [
       "Lueckentext(children=(HTML(value='<i>Vervollständigen Sie den Lückentext: </i>', layout=Layout(justify_content…"
      ]
     },
     "metadata": {},
     "output_type": "display_data"
    },
    {
     "data": {
      "application/vnd.jupyter.widget-view+json": {
       "model_id": "cdf257b889714c49915895888c402bf5",
       "version_major": 2,
       "version_minor": 0
      },
      "text/plain": [
       "Lueckentext(children=(HTML(value='<i>Vervollständigen Sie den Lückentext: </i>', layout=Layout(justify_content…"
      ]
     },
     "metadata": {},
     "output_type": "display_data"
    }
   ],
   "source": [
    "aufgabe(blatt5_8)"
   ]
  },
  {
   "cell_type": "markdown",
   "metadata": {},
   "source": [
    "---\n",
    "## Frage 9: Fragen zu NLTK-Kapitel 8.5\n",
    "\n",
    "#### Lesen Sie das NLTK-Teilkapitel 8.5 (’Dependencies and Dependency Grammar’): http://www.nltk.org/book/ch08.html.\n",
    "\n",
    "#### Beantworten Sie insbesondere folgende Fragen:"
   ]
  },
  {
   "cell_type": "markdown",
   "metadata": {},
   "source": [
    "---\n",
    "### Frage 9 a:\n",
    "\n",
    "#### Welche Kriterien für die Entscheidung, was in einer Konstruktion (C) Head (H) und was Dependent (D) ist, werden genannt?"
   ]
  },
  {
   "cell_type": "code",
   "execution_count": 12,
   "metadata": {},
   "outputs": [
    {
     "data": {
      "application/vnd.jupyter.widget-view+json": {
       "model_id": "e51fcad4f8ab4405997f8ceab1df384d",
       "version_major": 2,
       "version_minor": 0
      },
      "text/plain": [
       "MultipleChoice(children=(HTML(value='<h4 style=\"font-size:14px;\">Welche Kriterien stimmen?</h4>'), HTML(value=…"
      ]
     },
     "metadata": {},
     "output_type": "display_data"
    }
   ],
   "source": [
    "aufgabe(blatt5_9a)"
   ]
  },
  {
   "cell_type": "markdown",
   "metadata": {},
   "source": [
    "---\n",
    "### Frage 9 b:\n",
    "\n",
    "#### Welche Lösung wird in 8.5.1 (’Valency and the Lexicon’) für die Behandlung von Verben mit unterschiedlicher Valenz in einer CFG vorgeschlagen?"
   ]
  },
  {
   "cell_type": "code",
   "execution_count": 13,
   "metadata": {},
   "outputs": [
    {
     "data": {
      "application/vnd.jupyter.widget-view+json": {
       "model_id": "6750fa98116643cc84902a0e8039aafa",
       "version_major": 2,
       "version_minor": 0
      },
      "text/plain": [
       "MultipleChoice(children=(HTML(value='<h4 style=\"font-size:14px;\">Wie läßt sich die Einführung von einem Nicht…"
      ]
     },
     "metadata": {},
     "output_type": "display_data"
    }
   ],
   "source": [
    "aufgabe(blatt5_9b)"
   ]
  }
 ],
 "metadata": {
  "kernelspec": {
   "display_name": "Python 3",
   "language": "python",
   "name": "python3"
  },
  "language_info": {
   "codemirror_mode": {
    "name": "ipython",
    "version": 3
   },
   "file_extension": ".py",
   "mimetype": "text/x-python",
   "name": "python",
   "nbconvert_exporter": "python",
   "pygments_lexer": "ipython3",
   "version": "3.6.1"
  },
  "widgets": {
   "application/vnd.jupyter.widget-state+json": {
    "state": {
     "0009d0c47a31465a94049ffc2e5638f3": {
      "model_module": "@jupyter-widgets/controls",
      "model_module_version": "1.2.0",
      "model_name": "DescriptionStyleModel",
      "state": {
       "description_width": ""
      }
     },
     "00482aaae895444c848b041a93e41e61": {
      "model_module": "@jupyter-widgets/controls",
      "model_module_version": "1.2.0",
      "model_name": "CheckboxModel",
      "state": {
       "description": "Adverbialsatz-Test",
       "disabled": false,
       "layout": "IPY_MODEL_a5af85e61211421287af6602e964e5a3",
       "style": "IPY_MODEL_5d1b103dd8244392bbbda4347dc8bd2a",
       "value": false
      }
     },
     "00588b887f8f434cbad0d447995155ba": {
      "model_module": "@jupyter-widgets/controls",
      "model_module_version": "1.2.0",
      "model_name": "VBoxModel",
      "state": {
       "children": [
        "IPY_MODEL_a08441d6a3ee4b41b45a36b0e3cbf3fe",
        "IPY_MODEL_59dc42ea3c8f4cf3808a55e2ca61e218",
        "IPY_MODEL_ff329bbbafac43d0ab810a703bccf662"
       ],
       "layout": "IPY_MODEL_8d3dce27681c49158933dc6ef42df550"
      }
     },
     "00994b43485c44c09fbad885a776feb5": {
      "model_module": "@jupyter-widgets/base",
      "model_module_version": "1.0.0",
      "model_name": "LayoutModel",
      "state": {
       "width": "250px"
      }
     },
     "00ba029259e64e45ae4ba0237a725fcd": {
      "model_module": "@jupyter-widgets/controls",
      "model_module_version": "1.2.0",
      "model_name": "ButtonModel",
      "state": {
       "description": "präpositionales Attribut",
       "layout": "IPY_MODEL_edbaeb8e6d4a4503887f2a323bd985f6",
       "style": "IPY_MODEL_407a18d299a6410d83051770ebbda7e2"
      }
     },
     "00f436be1c914c72a35fe92831cdcaf9": {
      "model_module": "@jupyter-widgets/controls",
      "model_module_version": "1.2.0",
      "model_name": "DescriptionStyleModel",
      "state": {
       "description_width": ""
      }
     },
     "01101bcccb274df5a9797b8f52a58cce": {
      "model_module": "@jupyter-widgets/base",
      "model_module_version": "1.0.0",
      "model_name": "LayoutModel",
      "state": {
       "width": "250px"
      }
     },
     "017f19dc718349a9826b643d9e221481": {
      "model_module": "@jupyter-widgets/controls",
      "model_module_version": "1.2.0",
      "model_name": "DescriptionStyleModel",
      "state": {
       "description_width": ""
      }
     },
     "01bb6e42cc844f8687c94200e77141b1": {
      "model_module": "@jupyter-widgets/controls",
      "model_module_version": "1.2.0",
      "model_name": "DescriptionStyleModel",
      "state": {
       "description_width": "initial"
      }
     },
     "01eddc736599438c8a9b7144239b1ba2": {
      "model_module": "@jupyter-widgets/base",
      "model_module_version": "1.0.0",
      "model_name": "LayoutModel",
      "state": {}
     },
     "022a67554b9f42f6b0815e8620a3bddc": {
      "model_module": "@jupyter-widgets/base",
      "model_module_version": "1.0.0",
      "model_name": "LayoutModel",
      "state": {}
     },
     "024d974d75064f85b1dad240f6fdd714": {
      "model_module": "@jupyter-widgets/controls",
      "model_module_version": "1.2.0",
      "model_name": "ButtonModel",
      "state": {
       "description": "Korrekt?",
       "layout": "IPY_MODEL_aaa6c45df2c14a6092e2f2e416dae384",
       "style": "IPY_MODEL_f0b4c493d3f24b5ab3d404db0f0cfb3c"
      }
     },
     "02656090f70c48aeb11134ec82feba8f": {
      "model_module": "@jupyter-widgets/base",
      "model_module_version": "1.0.0",
      "model_name": "LayoutModel",
      "state": {}
     },
     "0292f18f7e904ec4b9facc4a0bc5a9fa": {
      "model_module": "@jupyter-widgets/controls",
      "model_module_version": "1.2.0",
      "model_name": "ButtonModel",
      "state": {
       "description": "Angabe",
       "layout": "IPY_MODEL_19a614db25754186baaeb506cf7c6307",
       "style": "IPY_MODEL_fa795cc64a0e47618a7edac7fa457d51"
      }
     },
     "02992b31e9154294b3fede46dd341ef1": {
      "model_module": "@jupyter-widgets/controls",
      "model_module_version": "1.2.0",
      "model_name": "VBoxModel",
      "state": {
       "children": [
        "IPY_MODEL_8a39c8c95faf4e4f9725bc4986447691",
        "IPY_MODEL_addeb0ae630f4fa18f36d21ba7916a96",
        "IPY_MODEL_d583e229eca94f4d93b6c4f830c6f7d1",
        "IPY_MODEL_5b2dfedbc62443d292a291566b5a318a"
       ],
       "layout": "IPY_MODEL_ed66ff35238941f496bae94b876f6a4c"
      }
     },
     "02b8f09887b248569a7d4cf6bcc66f4c": {
      "model_module": "@jupyter-widgets/base",
      "model_module_version": "1.0.0",
      "model_name": "LayoutModel",
      "state": {}
     },
     "0339ebc1e3874935b85156bbeb8d39a4": {
      "model_module": "@jupyter-widgets/base",
      "model_module_version": "1.0.0",
      "model_name": "LayoutModel",
      "state": {
       "width": "250px"
      }
     },
     "03e0843ed47c4b72b79b037742206583": {
      "model_module": "@jupyter-widgets/controls",
      "model_module_version": "1.2.0",
      "model_name": "VBoxModel",
      "state": {
       "children": [
        "IPY_MODEL_7e194ccce69f4e81aa3f9e9220209409",
        "IPY_MODEL_f7fc38f614b24d6c8c9fdca971f907d2",
        "IPY_MODEL_fb43334375224315922603bc75940583",
        "IPY_MODEL_b0d818a79d9d407f90ea6bbaaef69f7a"
       ],
       "layout": "IPY_MODEL_ca09f0c9fc6d4bd5b66255a7b73e41a6"
      }
     },
     "0449c4da32924147995d7514a1eee777": {
      "model_module": "@jupyter-widgets/controls",
      "model_module_version": "1.2.0",
      "model_name": "HTMLModel",
      "state": {
       "layout": "IPY_MODEL_02b8f09887b248569a7d4cf6bcc66f4c",
       "style": "IPY_MODEL_dd80f7450f714d488398864d7833e6a1",
       "value": "<h4 style=\"font-size:14px;\">Welche Tests ergeben, dass es sich bei <i> das Pferd </i> im 3. Satz um eine Angabe handelt?</h4>"
      }
     },
     "047f519bf8564e0ea3d83eba6d959f44": {
      "model_module": "@jupyter-widgets/controls",
      "model_module_version": "1.2.0",
      "model_name": "ButtonModel",
      "state": {
       "description": "Adjektivattribut",
       "layout": "IPY_MODEL_34cb9bdab2bf40fa9281b0002430b9da",
       "style": "IPY_MODEL_fe367efb1f8a4cacb1ffaf2089908ba0"
      }
     },
     "04f3259073ce4acbb71ec9907051fd85": {
      "model_module": "@jupyter-widgets/controls",
      "model_module_version": "1.2.0",
      "model_name": "ButtonStyleModel",
      "state": {}
     },
     "056b3cd91d344da6a4cdde43d974efa0": {
      "model_module": "@jupyter-widgets/base",
      "model_module_version": "1.0.0",
      "model_name": "LayoutModel",
      "state": {
       "width": "150px"
      }
     },
     "05b74b75c65949dcb6260a00cb367acb": {
      "model_module": "@jupyter-widgets/controls",
      "model_module_version": "1.2.0",
      "model_name": "DescriptionStyleModel",
      "state": {
       "description_width": ""
      }
     },
     "06a54a17bacf499b91cee6604d1778b2": {
      "model_module": "@jupyter-widgets/controls",
      "model_module_version": "1.2.0",
      "model_name": "ButtonModel",
      "state": {
       "description": "kasusmarkiert",
       "layout": "IPY_MODEL_426bf22710c141d3972c416c3f8e7097",
       "style": "IPY_MODEL_fccbfe4a14db489e82cc8ecdcd202cd3"
      }
     },
     "06bbc9b9517d46a5868d25e7bd22717e": {
      "model_module": "@jupyter-widgets/controls",
      "model_module_version": "1.2.0",
      "model_name": "DescriptionStyleModel",
      "state": {
       "description_width": "initial"
      }
     },
     "0711f2de84cf4c9eb704f090d1a66dc2": {
      "model_module": "@jupyter-widgets/controls",
      "model_module_version": "1.2.0",
      "model_name": "CheckboxModel",
      "state": {
       "description": "Weglassbarkeitstest",
       "disabled": false,
       "layout": "IPY_MODEL_108312fa799b4132affcf4e75a6f2f73",
       "style": "IPY_MODEL_2f14fdb7a56c4f2c8ca213754cc04634",
       "value": true
      }
     },
     "0734f5ca38314834879e34c68498cb55": {
      "model_module": "@jupyter-widgets/base",
      "model_module_version": "1.0.0",
      "model_name": "LayoutModel",
      "state": {
       "justify_content": "center"
      }
     },
     "0776562d4e1441f3ac59e6881595cff6": {
      "model_module": "@jupyter-widgets/base",
      "model_module_version": "1.0.0",
      "model_name": "LayoutModel",
      "state": {
       "align_content": "stretch",
       "align_items": "stretch",
       "display": "inline-flex",
       "flex": "flex-grow",
       "flex_flow": "row wrap",
       "justify_content": "flex-start"
      }
     },
     "07b07617cbdb40d1aa8d410b9e3e8390": {
      "model_module": "@jupyter-widgets/controls",
      "model_module_version": "1.2.0",
      "model_name": "HTMLModel",
      "state": {
       "layout": "IPY_MODEL_ce7f70afcfa843e78cd46cdf030826e3",
       "style": "IPY_MODEL_15f96028518e455c8182599713e3b420",
       "value": "<i>Vervollständigen Sie den Lückentext: </i>"
      }
     },
     "08152ac0d397415ab21920b82972d135": {
      "model_module": "@jupyter-widgets/controls",
      "model_module_version": "1.2.0",
      "model_name": "VBoxModel",
      "state": {
       "children": [
        "IPY_MODEL_117ae616ac624569a7bfb052967f11ce",
        "IPY_MODEL_fe5886ff8a1d4b56ab288c7d7beaf750",
        "IPY_MODEL_8dfb904fbd2b4f50a20258abfac12bd8",
        "IPY_MODEL_1376534aee2b4fe7bfc23db14d9f72f7"
       ],
       "layout": "IPY_MODEL_8c9c17a8a1454facb17881c2a8660dc2"
      }
     },
     "08230ef25c5d48d9992673cec8ad8617": {
      "model_module": "@jupyter-widgets/base",
      "model_module_version": "1.0.0",
      "model_name": "LayoutModel",
      "state": {}
     },
     "0885f84a913c4103a8c790f3da97d4e0": {
      "model_module": "@jupyter-widgets/base",
      "model_module_version": "1.0.0",
      "model_name": "LayoutModel",
      "state": {
       "width": "600px"
      }
     },
     "08a4924a8b0843c28e31e73f1c89ea07": {
      "model_module": "@jupyter-widgets/base",
      "model_module_version": "1.0.0",
      "model_name": "LayoutModel",
      "state": {}
     },
     "08b6d517059e4fc29cf709cac69fda9c": {
      "model_module": "@jupyter-widgets/controls",
      "model_module_version": "1.2.0",
      "model_name": "DescriptionStyleModel",
      "state": {
       "description_width": ""
      }
     },
     "08d527323473454bb4013033af13af8a": {
      "model_module": "@jupyter-widgets/base",
      "model_module_version": "1.0.0",
      "model_name": "LayoutModel",
      "state": {}
     },
     "0913631510af493ebe405b70aff5c225": {
      "model_module": "@jupyter-widgets/controls",
      "model_module_version": "1.2.0",
      "model_name": "DescriptionStyleModel",
      "state": {
       "description_width": ""
      }
     },
     "0933ff04c9b44241bad0c0e683733b18": {
      "model_module": "@jupyter-widgets/controls",
      "model_module_version": "1.2.0",
      "model_name": "DescriptionStyleModel",
      "state": {
       "description_width": ""
      }
     },
     "0a8cc26c9e704763b5dfb659c3ba213d": {
      "model_module": "@jupyter-widgets/controls",
      "model_module_version": "1.2.0",
      "model_name": "DescriptionStyleModel",
      "state": {
       "description_width": "initial"
      }
     },
     "0b1479b55dcd48c491746c34ed2995f0": {
      "model_module": "@jupyter-widgets/controls",
      "model_module_version": "1.2.0",
      "model_name": "ButtonStyleModel",
      "state": {
       "button_color": "lightgreen"
      }
     },
     "0b4667598d0042f1b64980e168c58d65": {
      "model_module": "@jupyter-widgets/base",
      "model_module_version": "1.0.0",
      "model_name": "LayoutModel",
      "state": {}
     },
     "0c9c141edba64391972ccb90e7b161c5": {
      "model_module": "@jupyter-widgets/base",
      "model_module_version": "1.0.0",
      "model_name": "LayoutModel",
      "state": {
       "width": "600px"
      }
     },
     "0ce54fb5da0245909f1fab6a9f0e15f1": {
      "model_module": "@jupyter-widgets/base",
      "model_module_version": "1.0.0",
      "model_name": "LayoutModel",
      "state": {
       "justify_content": "center"
      }
     },
     "0ce93dd5031b439d96e41e0a529a6898": {
      "model_module": "@jupyter-widgets/controls",
      "model_module_version": "1.2.0",
      "model_name": "DropdownModel",
      "state": {
       "_options_labels": [
        "NP",
        "PP",
        "VP",
        " "
       ],
       "index": 1,
       "layout": "IPY_MODEL_056b3cd91d344da6a4cdde43d974efa0",
       "style": "IPY_MODEL_966bc357a1c94f3a8a1e7d504c31f128"
      }
     },
     "0d0e8093a5154b278d434a328d314fdc": {
      "model_module": "@jupyter-widgets/controls",
      "model_module_version": "1.2.0",
      "model_name": "ButtonStyleModel",
      "state": {
       "button_color": "lightgreen"
      }
     },
     "0d7cc8104c58481cbfe2c777dac62d3a": {
      "model_module": "@jupyter-widgets/controls",
      "model_module_version": "1.2.0",
      "model_name": "DescriptionStyleModel",
      "state": {
       "description_width": ""
      }
     },
     "0e5c0ba3a94a4230900c0dbd5ef4cd28": {
      "model_module": "@jupyter-widgets/base",
      "model_module_version": "1.0.0",
      "model_name": "LayoutModel",
      "state": {
       "width": "600px"
      }
     },
     "0f40ad647f1f49cb9e7d4eb15f7c7a8b": {
      "model_module": "@jupyter-widgets/controls",
      "model_module_version": "1.2.0",
      "model_name": "CheckboxModel",
      "state": {
       "description": "Weglassbarkeitstest",
       "disabled": false,
       "layout": "IPY_MODEL_891fba0198ad4577916b80ab9c332f78",
       "style": "IPY_MODEL_f636e3b0baa842f9ad7bfbf972cd12a3",
       "value": true
      }
     },
     "0fc0a9ed504f4bea8f13ea495c9ea569": {
      "model_module": "@jupyter-widgets/controls",
      "model_module_version": "1.2.0",
      "model_name": "CheckboxModel",
      "state": {
       "description": "H bestimmt die Distributionsklassen von C",
       "disabled": false,
       "layout": "IPY_MODEL_a7aa46e2e2564ad8afa16b9982bbf6f5",
       "style": "IPY_MODEL_b033d9495b144a07b7af7bdcb2a80fdc",
       "value": true
      }
     },
     "0ff9508266144118ba0cd94d93b6ba19": {
      "model_module": "@jupyter-widgets/controls",
      "model_module_version": "1.2.0",
      "model_name": "DescriptionStyleModel",
      "state": {
       "description_width": ""
      }
     },
     "10057d9e2ed44c72aea0b4519dea4dc9": {
      "model_module": "@jupyter-widgets/controls",
      "model_module_version": "1.2.0",
      "model_name": "DescriptionStyleModel",
      "state": {
       "description_width": ""
      }
     },
     "108312fa799b4132affcf4e75a6f2f73": {
      "model_module": "@jupyter-widgets/base",
      "model_module_version": "1.0.0",
      "model_name": "LayoutModel",
      "state": {
       "width": "600px"
      }
     },
     "109ebf61b03c4cee972ea913d2415acd": {
      "model_module": "@jupyter-widgets/controls",
      "model_module_version": "1.2.0",
      "model_name": "ButtonModel",
      "state": {
       "description": "Korrekt?",
       "layout": "IPY_MODEL_01101bcccb274df5a9797b8f52a58cce",
       "style": "IPY_MODEL_8f31ccee7da4488094a390532325f7b8"
      }
     },
     "10bc650fd211413a9edc9170aca49691": {
      "model_module": "@jupyter-widgets/base",
      "model_module_version": "1.0.0",
      "model_name": "LayoutModel",
      "state": {
       "width": "150px"
      }
     },
     "10c1efc389cb4398b56025b2336dda68": {
      "model_module": "@jupyter-widgets/base",
      "model_module_version": "1.0.0",
      "model_name": "LayoutModel",
      "state": {}
     },
     "117534b1180c4798b8a53efd408aabf0": {
      "model_module": "@jupyter-widgets/controls",
      "model_module_version": "1.2.0",
      "model_name": "ButtonStyleModel",
      "state": {
       "button_color": "lightgreen"
      }
     },
     "1177dd91be494a68b6b34b4f5ee7c459": {
      "model_module": "@jupyter-widgets/controls",
      "model_module_version": "1.2.0",
      "model_name": "HTMLModel",
      "state": {
       "layout": "IPY_MODEL_b3069511b58f45db8a68fb45dd2e1a20",
       "style": "IPY_MODEL_2c3796fe8eb44b8fadce4f556161ef2c",
       "value": "<h4 style=\"font-size:14px;\"><i> mit der S-Bahn </i> stellt eine</h4>"
      }
     },
     "117ae616ac624569a7bfb052967f11ce": {
      "model_module": "@jupyter-widgets/controls",
      "model_module_version": "1.2.0",
      "model_name": "HTMLModel",
      "state": {
       "layout": "IPY_MODEL_7aca852032d24027807b331d7c2ffe51",
       "style": "IPY_MODEL_b5453786d21d4f6cb1b5a0a996af87f2",
       "value": "<h4 style=\"font-size:14px;\">Was spricht dafür, dass es sich bei <i> ein Fehler </i> eher um ein Objekt handelt?</h4>"
      }
     },
     "11ab94c491764fa7a1aab287126e64f9": {
      "model_module": "@jupyter-widgets/controls",
      "model_module_version": "1.2.0",
      "model_name": "CheckboxModel",
      "state": {
       "description": "H bestimmt die morphologische Form von D",
       "disabled": false,
       "layout": "IPY_MODEL_f85c243ca44040d99e6160426420089f",
       "style": "IPY_MODEL_e6a704ff496a444fa4d721abd761633e",
       "value": true
      }
     },
     "11ea7d19d89c4dadb9c34bede67234e9": {
      "model_module": "@jupyter-widgets/controls",
      "model_module_version": "1.2.0",
      "model_name": "DescriptionStyleModel",
      "state": {
       "description_width": "initial"
      }
     },
     "12196fe3a0bd46b6945a2d78d7b63c24": {
      "model_module": "@jupyter-widgets/controls",
      "model_module_version": "1.2.0",
      "model_name": "HTMLModel",
      "state": {
       "layout": "IPY_MODEL_f932b1ad4f68499fa381e29ad44f98af",
       "style": "IPY_MODEL_eebc68d82b444a1da318bf9920a38aab",
       "value": "<h4 style=\"font-size:14px;\">Im Deutschen wird das indirekte Objekt __________. </h4>"
      }
     },
     "12a77c26e0094850b1dd13d6d61d6e47": {
      "model_module": "@jupyter-widgets/controls",
      "model_module_version": "1.2.0",
      "model_name": "HTMLModel",
      "state": {
       "layout": "IPY_MODEL_87d3fa5a5f7e4da3b9eb02e8d5b51c54",
       "style": "IPY_MODEL_952763aa677e4cfa98e661382fa5e458",
       "value": "<i>Markieren Sie <ins>alle</ins> passenden Antworten: </i>"
      }
     },
     "12ec13f107794122ae625fa1a15c339c": {
      "model_module": "@jupyter-widgets/controls",
      "model_module_version": "1.2.0",
      "model_name": "DropdownModel",
      "state": {
       "_options_labels": [
        "gut",
        "sehr",
        " "
       ],
       "index": 1,
       "layout": "IPY_MODEL_879dd2b50bb4494aa113d3c04845e759",
       "style": "IPY_MODEL_60d13051cf204a00bf0a040dc066b786"
      }
     },
     "12efd365ce79439da9ec8c6d4bca5008": {
      "model_module": "@jupyter-widgets/base",
      "model_module_version": "1.0.0",
      "model_name": "LayoutModel",
      "state": {}
     },
     "12f744eda3124a2d842c6b71a06d6ac2": {
      "model_module": "@jupyter-widgets/base",
      "model_module_version": "1.0.0",
      "model_name": "LayoutModel",
      "state": {}
     },
     "1328d6c7cbd94b50b57598e6d1882b53": {
      "model_module": "@jupyter-widgets/controls",
      "model_module_version": "1.2.0",
      "model_name": "DescriptionStyleModel",
      "state": {
       "description_width": ""
      }
     },
     "1376534aee2b4fe7bfc23db14d9f72f7": {
      "model_module": "@jupyter-widgets/controls",
      "model_module_version": "1.2.0",
      "model_name": "ButtonModel",
      "state": {
       "description": "Korrekt?",
       "layout": "IPY_MODEL_d7211abefe3f4d5fa0b7f227d7c88499",
       "style": "IPY_MODEL_ca8a9a0939d14c5baaa0415e5a468bc8"
      }
     },
     "13fefb1359bc4a3ba82535111bc5fdf3": {
      "model_module": "@jupyter-widgets/base",
      "model_module_version": "1.0.0",
      "model_name": "LayoutModel",
      "state": {}
     },
     "14010f5ce43a4afb90f4aa0dd6b29498": {
      "model_module": "@jupyter-widgets/controls",
      "model_module_version": "1.2.0",
      "model_name": "HTMLModel",
      "state": {
       "layout": "IPY_MODEL_d608220e067d436290634ac2ba45f91c",
       "style": "IPY_MODEL_e040df4cbaff4c5ea1d82bb029cce373",
       "value": "<i>Markieren Sie <ins>alle</ins> passenden Antworten: </i>"
      }
     },
     "14860b8fec2645728277dff274e59401": {
      "model_module": "@jupyter-widgets/controls",
      "model_module_version": "1.2.0",
      "model_name": "HTMLModel",
      "state": {
       "layout": "IPY_MODEL_50cb659dab354246ab92a9d24fc08463",
       "style": "IPY_MODEL_2ec3082166d44d49b53ca5278defa564",
       "value": "<h4 style=\"font-size:14px;\">dar. </h4>"
      }
     },
     "15f96028518e455c8182599713e3b420": {
      "model_module": "@jupyter-widgets/controls",
      "model_module_version": "1.2.0",
      "model_name": "DescriptionStyleModel",
      "state": {
       "description_width": ""
      }
     },
     "16baa16645e54230a39753f75cd38743": {
      "model_module": "@jupyter-widgets/controls",
      "model_module_version": "1.2.0",
      "model_name": "ButtonModel",
      "state": {
       "description": "Nein",
       "layout": "IPY_MODEL_0339ebc1e3874935b85156bbeb8d39a4",
       "style": "IPY_MODEL_eaa180ebf1304b69a8221eb84b58453e"
      }
     },
     "17536b14b62a4536910c3392ad2b66ff": {
      "model_module": "@jupyter-widgets/controls",
      "model_module_version": "1.2.0",
      "model_name": "ButtonStyleModel",
      "state": {}
     },
     "179a7d2d13c34b4a90f5983a1aaa334a": {
      "model_module": "@jupyter-widgets/base",
      "model_module_version": "1.0.0",
      "model_name": "LayoutModel",
      "state": {
       "width": "250px"
      }
     },
     "180e9880320a4c9b886798fe57c67202": {
      "model_module": "@jupyter-widgets/base",
      "model_module_version": "1.0.0",
      "model_name": "LayoutModel",
      "state": {
       "width": "250px"
      }
     },
     "183c20620bf94a158feece4ea89a3abf": {
      "model_module": "@jupyter-widgets/controls",
      "model_module_version": "1.2.0",
      "model_name": "ButtonStyleModel",
      "state": {}
     },
     "192af4e299a0487bbb360db59df36490": {
      "model_module": "@jupyter-widgets/base",
      "model_module_version": "1.0.0",
      "model_name": "LayoutModel",
      "state": {}
     },
     "192daa7614a1464db43bc0f546bbc0fa": {
      "model_module": "@jupyter-widgets/base",
      "model_module_version": "1.0.0",
      "model_name": "LayoutModel",
      "state": {}
     },
     "192dda476aeb49f98441e25c4acf05c9": {
      "model_module": "@jupyter-widgets/controls",
      "model_module_version": "1.2.0",
      "model_name": "DescriptionStyleModel",
      "state": {
       "description_width": "initial"
      }
     },
     "19568a3fcdea4d94a8ef97a6fc7b26d4": {
      "model_module": "@jupyter-widgets/controls",
      "model_module_version": "1.2.0",
      "model_name": "ButtonModel",
      "state": {
       "description": "Ergänzung",
       "layout": "IPY_MODEL_6b39e723a15f4f4483259ad381d5d197",
       "style": "IPY_MODEL_95119ebf0b014cd0b2b0dd184704c6f3"
      }
     },
     "19a0793e4e0045e4b8f87f439b40f3d5": {
      "model_module": "@jupyter-widgets/controls",
      "model_module_version": "1.2.0",
      "model_name": "DescriptionStyleModel",
      "state": {
       "description_width": "initial"
      }
     },
     "19a614db25754186baaeb506cf7c6307": {
      "model_module": "@jupyter-widgets/base",
      "model_module_version": "1.0.0",
      "model_name": "LayoutModel",
      "state": {
       "width": "250px"
      }
     },
     "1ac32bf6ad1f4aeb924686a880c8a027": {
      "model_module": "@jupyter-widgets/controls",
      "model_module_version": "1.2.0",
      "model_name": "HTMLModel",
      "state": {
       "layout": "IPY_MODEL_0ce54fb5da0245909f1fab6a9f0e15f1",
       "style": "IPY_MODEL_fda0738dcc9c4923beb897c483410b06",
       "value": "<i>Markieren Sie <ins>alle</ins> passenden Antworten: </i>"
      }
     },
     "1c01b06d9eb7417db91dfca8687f2411": {
      "model_module": "@jupyter-widgets/controls",
      "model_module_version": "1.2.0",
      "model_name": "HTMLModel",
      "state": {
       "layout": "IPY_MODEL_c8b729fedd0548bb92a10c3c027269e2",
       "style": "IPY_MODEL_1dbe9a4cbca44d7aac314f851f3f29be",
       "value": "<h4 style=\"font-size:14px;\">Um welchen Attributtyp handelt es sich bei dem Attribut <i>nach Paris</i>?</h4>"
      }
     },
     "1c96d3cbaffb492dad4dab6c1ba2d6f3": {
      "model_module": "@jupyter-widgets/base",
      "model_module_version": "1.0.0",
      "model_name": "LayoutModel",
      "state": {
       "width": "250px"
      }
     },
     "1cebdf75d2064e1888397749ffad73c6": {
      "model_module": "@jupyter-widgets/controls",
      "model_module_version": "1.2.0",
      "model_name": "DescriptionStyleModel",
      "state": {
       "description_width": ""
      }
     },
     "1cef695da48e4577a15b7e86802c7249": {
      "model_module": "@jupyter-widgets/base",
      "model_module_version": "1.0.0",
      "model_name": "LayoutModel",
      "state": {
       "justify_content": "center"
      }
     },
     "1d074cbcf2204f698b3761ebde57e5e3": {
      "model_module": "@jupyter-widgets/controls",
      "model_module_version": "1.2.0",
      "model_name": "DropdownModel",
      "state": {
       "_options_labels": [
        "Lokaladverbial",
        "Modaladverbial",
        " "
       ],
       "index": 0,
       "layout": "IPY_MODEL_fad75dd6375f4695a692e16ea58992dd",
       "style": "IPY_MODEL_37952d60386740d7933c202a22c21a27"
      }
     },
     "1d905fca18e840d98f3ee3eb179f56f6": {
      "model_module": "@jupyter-widgets/controls",
      "model_module_version": "1.2.0",
      "model_name": "DescriptionStyleModel",
      "state": {
       "description_width": "initial"
      }
     },
     "1dbe9a4cbca44d7aac314f851f3f29be": {
      "model_module": "@jupyter-widgets/controls",
      "model_module_version": "1.2.0",
      "model_name": "DescriptionStyleModel",
      "state": {
       "description_width": ""
      }
     },
     "1e0274f7654747628eb7ef7b343bd26e": {
      "model_module": "@jupyter-widgets/base",
      "model_module_version": "1.0.0",
      "model_name": "LayoutModel",
      "state": {
       "justify_content": "center"
      }
     },
     "206f9284a3514d9cbe470c19af8eed0f": {
      "model_module": "@jupyter-widgets/base",
      "model_module_version": "1.0.0",
      "model_name": "LayoutModel",
      "state": {
       "justify_content": "center"
      }
     },
     "207bf8290d5e4213b5d8f4486d251143": {
      "model_module": "@jupyter-widgets/controls",
      "model_module_version": "1.2.0",
      "model_name": "HTMLModel",
      "state": {
       "layout": "IPY_MODEL_89b7193ba19a4f07b08db1fe575bbb02",
       "style": "IPY_MODEL_dfeaf3bc5de9431cae37b4be5399e84a",
       "value": "<i>Wählen Sie die <ins>eine</ins> korrekte Antwort aus: </i>"
      }
     },
     "2085e1f7a0b74c90865534841f35c3f1": {
      "model_module": "@jupyter-widgets/base",
      "model_module_version": "1.0.0",
      "model_name": "LayoutModel",
      "state": {}
     },
     "20a8d11c7591474d95525d46c63a2eb9": {
      "model_module": "@jupyter-widgets/controls",
      "model_module_version": "1.2.0",
      "model_name": "ButtonStyleModel",
      "state": {
       "button_color": "lightgreen"
      }
     },
     "2176c1fd2713439b87d7319ee7657a9b": {
      "model_module": "@jupyter-widgets/controls",
      "model_module_version": "1.2.0",
      "model_name": "DescriptionStyleModel",
      "state": {
       "description_width": ""
      }
     },
     "21cc9bbed21b46baaf33e1f87f4022cb": {
      "model_module": "@jupyter-widgets/base",
      "model_module_version": "1.0.0",
      "model_name": "LayoutModel",
      "state": {
       "width": "250px"
      }
     },
     "21e4c9dfe76b4623ba993e9318195df1": {
      "model_module": "@jupyter-widgets/controls",
      "model_module_version": "1.2.0",
      "model_name": "CheckboxModel",
      "state": {
       "description": "Modellierung von Subkategorisierung der syntaktischen Kategorie V durch Kategorienerweiterung",
       "disabled": false,
       "layout": "IPY_MODEL_69302ce0a7ea46148485f56b4fdb0f7a",
       "style": "IPY_MODEL_9819f0d3c0df4c86b6a9cea7bfe13de6",
       "value": true
      }
     },
     "2312eb4a2d58407eac9a18698c1191ed": {
      "model_module": "@jupyter-widgets/base",
      "model_module_version": "1.0.0",
      "model_name": "LayoutModel",
      "state": {
       "width": "150px"
      }
     },
     "23a0ba6839a04014bd7fa2489d0d338a": {
      "model_module": "@jupyter-widgets/controls",
      "model_module_version": "1.2.0",
      "model_name": "CheckboxModel",
      "state": {
       "description": "Patienseigenschaften",
       "disabled": false,
       "layout": "IPY_MODEL_4b2ce3dc823b404f8041b5994c92896e",
       "style": "IPY_MODEL_83a6b66f538d41d386d478434c1ad5bd",
       "value": false
      }
     },
     "23ab8aad39f648bab0aae0500aa83331": {
      "model_module": "@jupyter-widgets/controls",
      "model_module_version": "1.2.0",
      "model_name": "DescriptionStyleModel",
      "state": {
       "description_width": ""
      }
     },
     "23e263b527374986ba5c0c3e7e3f9760": {
      "model_module": "@jupyter-widgets/controls",
      "model_module_version": "1.2.0",
      "model_name": "HBoxModel",
      "state": {
       "children": [
        "IPY_MODEL_2de97a90adc54c5cb07dbbab039ea313",
        "IPY_MODEL_26861f52c6854d498addb53d45b056ee"
       ],
       "layout": "IPY_MODEL_fb80abfb805e498b89b1667019eb413e"
      }
     },
     "23e40841ffb441d0bc92271c2dee30ec": {
      "model_module": "@jupyter-widgets/controls",
      "model_module_version": "1.2.0",
      "model_name": "ButtonStyleModel",
      "state": {
       "button_color": "lightgreen"
      }
     },
     "2520e8340b594220b4c53a5790d9c610": {
      "model_module": "@jupyter-widgets/base",
      "model_module_version": "1.0.0",
      "model_name": "LayoutModel",
      "state": {}
     },
     "25671e885c6f4b94b864ee9e08b458af": {
      "model_module": "@jupyter-widgets/base",
      "model_module_version": "1.0.0",
      "model_name": "LayoutModel",
      "state": {}
     },
     "256810f2ffad4ca9801c33af03443301": {
      "model_module": "@jupyter-widgets/base",
      "model_module_version": "1.0.0",
      "model_name": "LayoutModel",
      "state": {
       "align_content": "stretch",
       "align_items": "stretch",
       "display": "inline-flex",
       "flex": "flex-grow",
       "flex_flow": "row wrap",
       "justify_content": "flex-start"
      }
     },
     "25a4300149f242ee9b0294aa302324c6": {
      "model_module": "@jupyter-widgets/controls",
      "model_module_version": "1.2.0",
      "model_name": "ButtonStyleModel",
      "state": {
       "button_color": "lightgreen"
      }
     },
     "25a88011e2bc439388d38b2fdda5d08f": {
      "model_module": "@jupyter-widgets/controls",
      "model_module_version": "1.2.0",
      "model_name": "ButtonStyleModel",
      "state": {}
     },
     "25e370e60b0f44a9b4c1f5b9e0143d80": {
      "model_module": "@jupyter-widgets/controls",
      "model_module_version": "1.2.0",
      "model_name": "HBoxModel",
      "state": {
       "children": [
        "IPY_MODEL_047f519bf8564e0ea3d83eba6d959f44",
        "IPY_MODEL_554846a3867c4c17b6efe47c1a9aae98"
       ],
       "layout": "IPY_MODEL_d0ed566f5fc341db868cff7a569ffb8b"
      }
     },
     "26861f52c6854d498addb53d45b056ee": {
      "model_module": "@jupyter-widgets/controls",
      "model_module_version": "1.2.0",
      "model_name": "ButtonModel",
      "state": {
       "description": "Ergänzung",
       "layout": "IPY_MODEL_b98b69d6a5d143f0ab851e3cd25a3d72",
       "style": "IPY_MODEL_ab9f12db4f6f4ad296752539a1efef89"
      }
     },
     "269cb89b71624f6f8dee172a21fe65d8": {
      "model_module": "@jupyter-widgets/base",
      "model_module_version": "1.0.0",
      "model_name": "LayoutModel",
      "state": {
       "width": "150px"
      }
     },
     "270f5ac0a1584bb28d21eeacf26f0efa": {
      "model_module": "@jupyter-widgets/base",
      "model_module_version": "1.0.0",
      "model_name": "LayoutModel",
      "state": {
       "justify_content": "center"
      }
     },
     "272a259233634055b02d94ff62efb350": {
      "model_module": "@jupyter-widgets/controls",
      "model_module_version": "1.2.0",
      "model_name": "HTMLModel",
      "state": {
       "layout": "IPY_MODEL_992ee0317e18492e9f491910293a9d40",
       "style": "IPY_MODEL_749412c9b8a14d43840f8fd0b4e9ea1c",
       "value": "<h4 style=\"font-size:14px;\">dar. Dieses</h4>"
      }
     },
     "27831e7147774105a3f862fb4605c072": {
      "model_module": "@jupyter-widgets/base",
      "model_module_version": "1.0.0",
      "model_name": "LayoutModel",
      "state": {
       "align_content": "stretch",
       "align_items": "stretch",
       "display": "inline-flex",
       "flex": "flex-grow",
       "flex_flow": "row wrap",
       "justify_content": "flex-start"
      }
     },
     "27838c45c55d48cf92180e064a093618": {
      "model_module": "@jupyter-widgets/controls",
      "model_module_version": "1.2.0",
      "model_name": "CheckboxModel",
      "state": {
       "description": "Modellierung eines Subkategorisierungsrahmens über Merkmale im Lexikoneintrag",
       "disabled": false,
       "layout": "IPY_MODEL_ff86180809834a619d3ac15fc88a4b49",
       "style": "IPY_MODEL_89836b88d7404e3a9402cd9c936b5bbd",
       "value": false
      }
     },
     "27bd3d8442294b2e9c2f6063629db29b": {
      "model_module": "@jupyter-widgets/base",
      "model_module_version": "1.0.0",
      "model_name": "LayoutModel",
      "state": {
       "width": "600px"
      }
     },
     "27fbcde1ebd04ff4bf70bd58f104ea02": {
      "model_module": "@jupyter-widgets/base",
      "model_module_version": "1.0.0",
      "model_name": "LayoutModel",
      "state": {
       "width": "250px"
      }
     },
     "2827e1a6b7e84a3e868254787573376a": {
      "model_module": "@jupyter-widgets/base",
      "model_module_version": "1.0.0",
      "model_name": "LayoutModel",
      "state": {
       "width": "600px"
      }
     },
     "28c8f5825953491e86a0344bfd6bd506": {
      "model_module": "@jupyter-widgets/base",
      "model_module_version": "1.0.0",
      "model_name": "LayoutModel",
      "state": {
       "justify_content": "center"
      }
     },
     "298b5e43974f4a5a8ee0339677203272": {
      "model_module": "@jupyter-widgets/controls",
      "model_module_version": "1.2.0",
      "model_name": "DescriptionStyleModel",
      "state": {
       "description_width": ""
      }
     },
     "29b91e5d0ed44c5a9d52f23b18ead4cf": {
      "model_module": "@jupyter-widgets/base",
      "model_module_version": "1.0.0",
      "model_name": "LayoutModel",
      "state": {}
     },
     "29cfc5f0fb7d4b3782bfdbbb128d8e98": {
      "model_module": "@jupyter-widgets/base",
      "model_module_version": "1.0.0",
      "model_name": "LayoutModel",
      "state": {
       "width": "600px"
      }
     },
     "29d8a422839245f482fac2e841a63ff7": {
      "model_module": "@jupyter-widgets/controls",
      "model_module_version": "1.2.0",
      "model_name": "DescriptionStyleModel",
      "state": {
       "description_width": ""
      }
     },
     "2a17a187bea749619d9f5a1e5fb4e24e": {
      "model_module": "@jupyter-widgets/controls",
      "model_module_version": "1.2.0",
      "model_name": "CheckboxModel",
      "state": {
       "description": "drückt nicht das Topik aus",
       "disabled": false,
       "layout": "IPY_MODEL_0885f84a913c4103a8c790f3da97d4e0",
       "style": "IPY_MODEL_c0446c264c65429593eccfb0dfe4f393",
       "value": true
      }
     },
     "2baad5724a1549d0a4840304edb044b3": {
      "model_module": "@jupyter-widgets/controls",
      "model_module_version": "1.2.0",
      "model_name": "VBoxModel",
      "state": {
       "children": [
        "IPY_MODEL_b76d6a1317924a0db89b964004db57ea",
        "IPY_MODEL_23a0ba6839a04014bd7fa2489d0d338a",
        "IPY_MODEL_8b00d1bbc75445bd8fe772740f3defaa",
        "IPY_MODEL_c1993e7dca684354bb3dbba3964f0b24",
        "IPY_MODEL_cb01e5bdfdd14d1cae720cffd04e5ab0"
       ],
       "layout": "IPY_MODEL_02656090f70c48aeb11134ec82feba8f"
      }
     },
     "2c3796fe8eb44b8fadce4f556161ef2c": {
      "model_module": "@jupyter-widgets/controls",
      "model_module_version": "1.2.0",
      "model_name": "DescriptionStyleModel",
      "state": {
       "description_width": ""
      }
     },
     "2c716db43f9747858ba436e97a2ec1b3": {
      "model_module": "@jupyter-widgets/base",
      "model_module_version": "1.0.0",
      "model_name": "LayoutModel",
      "state": {}
     },
     "2c734c3e02914a0897dbb0f6975b82ce": {
      "model_module": "@jupyter-widgets/base",
      "model_module_version": "1.0.0",
      "model_name": "LayoutModel",
      "state": {}
     },
     "2c8ed86b87424ce29c002c629e4150d7": {
      "model_module": "@jupyter-widgets/base",
      "model_module_version": "1.0.0",
      "model_name": "LayoutModel",
      "state": {
       "width": "150px"
      }
     },
     "2d824f354d0b4ceda94c6a339bf768e8": {
      "model_module": "@jupyter-widgets/controls",
      "model_module_version": "1.2.0",
      "model_name": "HTMLModel",
      "state": {
       "layout": "IPY_MODEL_0b4667598d0042f1b64980e168c58d65",
       "style": "IPY_MODEL_3716335d0e6d468a8b79b2aeb1670dda",
       "value": "<h4 style=\"font-size:14px;\">realisiert. Innerhalb der</h4>"
      }
     },
     "2de97a90adc54c5cb07dbbab039ea313": {
      "model_module": "@jupyter-widgets/controls",
      "model_module_version": "1.2.0",
      "model_name": "ButtonModel",
      "state": {
       "description": "Angabe",
       "layout": "IPY_MODEL_2f36493956ea435b8f02a6c417170cbf",
       "style": "IPY_MODEL_f8022979051f40c9b2a1d5c4332c7b9e"
      }
     },
     "2e32543d23b648a2b03a98d36b8a9d98": {
      "model_module": "@jupyter-widgets/controls",
      "model_module_version": "1.2.0",
      "model_name": "DescriptionStyleModel",
      "state": {
       "description_width": ""
      }
     },
     "2e6892adf89b4b19861b56e4e81c76d0": {
      "model_module": "@jupyter-widgets/base",
      "model_module_version": "1.0.0",
      "model_name": "LayoutModel",
      "state": {}
     },
     "2e6b5965b84c41d7bb5c13aec2328f6d": {
      "model_module": "@jupyter-widgets/controls",
      "model_module_version": "1.2.0",
      "model_name": "HTMLModel",
      "state": {
       "layout": "IPY_MODEL_3f633284a1f945aaae70b0f63420fdf8",
       "style": "IPY_MODEL_f336bf6477a3406d8661bb9f8242b9d9",
       "value": "<h4 style=\"font-size:14px;\">Welche Kriterien stimmen?</h4>"
      }
     },
     "2eb4b54a0a1e4d44af6da7b9695c8bda": {
      "model_module": "@jupyter-widgets/controls",
      "model_module_version": "1.2.0",
      "model_name": "DropdownModel",
      "state": {
       "_options_labels": [
        "Adverb",
        "Adverbial",
        " "
       ],
       "index": 0,
       "layout": "IPY_MODEL_10bc650fd211413a9edc9170aca49691",
       "style": "IPY_MODEL_1cebdf75d2064e1888397749ffad73c6"
      }
     },
     "2ec3082166d44d49b53ca5278defa564": {
      "model_module": "@jupyter-widgets/controls",
      "model_module_version": "1.2.0",
      "model_name": "DescriptionStyleModel",
      "state": {
       "description_width": ""
      }
     },
     "2ed0cfe4acc8469497d032edbecf7bdc": {
      "model_module": "@jupyter-widgets/controls",
      "model_module_version": "1.2.0",
      "model_name": "DescriptionStyleModel",
      "state": {
       "description_width": "initial"
      }
     },
     "2f14fdb7a56c4f2c8ca213754cc04634": {
      "model_module": "@jupyter-widgets/controls",
      "model_module_version": "1.2.0",
      "model_name": "DescriptionStyleModel",
      "state": {
       "description_width": "initial"
      }
     },
     "2f36493956ea435b8f02a6c417170cbf": {
      "model_module": "@jupyter-widgets/base",
      "model_module_version": "1.0.0",
      "model_name": "LayoutModel",
      "state": {
       "width": "250px"
      }
     },
     "2f68ca0f7f2f4da38f2c900f067bd3b5": {
      "model_module": "@jupyter-widgets/controls",
      "model_module_version": "1.2.0",
      "model_name": "DescriptionStyleModel",
      "state": {
       "description_width": "initial"
      }
     },
     "2f8a60c601a44c86a39822756d4d3639": {
      "model_module": "@jupyter-widgets/base",
      "model_module_version": "1.0.0",
      "model_name": "LayoutModel",
      "state": {
       "width": "250px"
      }
     },
     "3053fbc25ac7407eac486413491952f6": {
      "model_module": "@jupyter-widgets/base",
      "model_module_version": "1.0.0",
      "model_name": "LayoutModel",
      "state": {}
     },
     "305f211d5a784a6792a4f7d4320cb828": {
      "model_module": "@jupyter-widgets/controls",
      "model_module_version": "1.2.0",
      "model_name": "HTMLModel",
      "state": {
       "layout": "IPY_MODEL_4c95ca655bef4f47b72d9fe1cf13b2bf",
       "style": "IPY_MODEL_9e6cc55baecc4d9299c9b7449a22fa55",
       "value": "<i>Wählen Sie die <ins>eine</ins> korrekte Antwort aus: </i>"
      }
     },
     "3073e825a64e4845a18249770bf88601": {
      "model_module": "@jupyter-widgets/controls",
      "model_module_version": "1.2.0",
      "model_name": "ButtonModel",
      "state": {
       "description": "Korrekt?",
       "layout": "IPY_MODEL_1c96d3cbaffb492dad4dab6c1ba2d6f3",
       "style": "IPY_MODEL_be09d15df106402988b133612274155d"
      }
     },
     "31616aa1441e46d7a919219ed217cac8": {
      "model_module": "@jupyter-widgets/controls",
      "model_module_version": "1.2.0",
      "model_name": "VBoxModel",
      "state": {
       "children": [
        "IPY_MODEL_eef8fd9921db4488ba9fc5bedff55692",
        "IPY_MODEL_d880209c93de415b8f5ee36ffa00d791",
        "IPY_MODEL_9bb11f7f7b7647fab69aaa6eb45af0b1",
        "IPY_MODEL_375dc4c0b2184174bb626ad7ebe63d66",
        "IPY_MODEL_f95a4c4ceed0438e8aec3eb867606015",
        "IPY_MODEL_c29420f2312647a39ced7171dd4ae50f",
        "IPY_MODEL_b938825295004319a669cae4a4a8334c"
       ],
       "layout": "IPY_MODEL_9656d03b1bb641c19a56b82bb6c4626a"
      }
     },
     "31c1b433fa6c4194916e8606fdd1416d": {
      "model_module": "@jupyter-widgets/base",
      "model_module_version": "1.0.0",
      "model_name": "LayoutModel",
      "state": {}
     },
     "323fb4aa2659491893501781339106e1": {
      "model_module": "@jupyter-widgets/base",
      "model_module_version": "1.0.0",
      "model_name": "LayoutModel",
      "state": {}
     },
     "347e7583038b4161b5381a0cbd0d7e1a": {
      "model_module": "@jupyter-widgets/base",
      "model_module_version": "1.0.0",
      "model_name": "LayoutModel",
      "state": {
       "width": "600px"
      }
     },
     "348127f7e3c6468c86449ce3481e7ef0": {
      "model_module": "@jupyter-widgets/base",
      "model_module_version": "1.0.0",
      "model_name": "LayoutModel",
      "state": {
       "width": "600px"
      }
     },
     "348d25fb84844b6b8ac0485359f867fa": {
      "model_module": "@jupyter-widgets/controls",
      "model_module_version": "1.2.0",
      "model_name": "ButtonModel",
      "state": {
       "description": "Angabe",
       "layout": "IPY_MODEL_45b566ec28f543b0b58a304c5633b75b",
       "style": "IPY_MODEL_80ad82901f4646ca91d9dc51931309a3"
      }
     },
     "34ae4250952141e399c8c5f1b3692e2a": {
      "model_module": "@jupyter-widgets/base",
      "model_module_version": "1.0.0",
      "model_name": "LayoutModel",
      "state": {}
     },
     "34b4bfdcd8b145558d43e92b76d9a461": {
      "model_module": "@jupyter-widgets/controls",
      "model_module_version": "1.2.0",
      "model_name": "CheckboxModel",
      "state": {
       "description": "geschehen-Test",
       "disabled": false,
       "layout": "IPY_MODEL_378d4647e1b0443592ab81de67e4db0b",
       "style": "IPY_MODEL_947a38f6de1843d9896f375d25f6f72c",
       "value": false
      }
     },
     "34b7179b7c7b41acbf26fc7dc4a9259c": {
      "model_module": "@jupyter-widgets/controls",
      "model_module_version": "1.2.0",
      "model_name": "DescriptionStyleModel",
      "state": {
       "description_width": ""
      }
     },
     "34cb9bdab2bf40fa9281b0002430b9da": {
      "model_module": "@jupyter-widgets/base",
      "model_module_version": "1.0.0",
      "model_name": "LayoutModel",
      "state": {
       "width": "250px"
      }
     },
     "34ffc89d1e3e4e8db5640e98d2ccbf42": {
      "model_module": "@jupyter-widgets/base",
      "model_module_version": "1.0.0",
      "model_name": "LayoutModel",
      "state": {}
     },
     "35601370c349455897aac4728f26b4c2": {
      "model_module": "@jupyter-widgets/controls",
      "model_module_version": "1.2.0",
      "model_name": "DescriptionStyleModel",
      "state": {
       "description_width": "initial"
      }
     },
     "360f55dad0584abfb2da3201027ecab5": {
      "model_module": "@jupyter-widgets/base",
      "model_module_version": "1.0.0",
      "model_name": "LayoutModel",
      "state": {}
     },
     "361e6b1a799a42739b7ac6ea8b892c62": {
      "model_module": "@jupyter-widgets/controls",
      "model_module_version": "1.2.0",
      "model_name": "BoxModel",
      "state": {
       "children": [
        "IPY_MODEL_e9fafda216174616b5eb9933d5dea8d1",
        "IPY_MODEL_d5245ffcfaa84d829cc1b106c74ea969",
        "IPY_MODEL_d8cf7b10241f4f96adecc90a1e3a387f",
        "IPY_MODEL_0ce93dd5031b439d96e41e0a529a6898",
        "IPY_MODEL_1177dd91be494a68b6b34b4f5ee7c459",
        "IPY_MODEL_ef19a7bc2c7c4952a622c3a0e230d3dc",
        "IPY_MODEL_14860b8fec2645728277dff274e59401"
       ],
       "layout": "IPY_MODEL_256810f2ffad4ca9801c33af03443301"
      }
     },
     "368ed3ad7b124a7a8e1788685496c8f7": {
      "model_module": "@jupyter-widgets/controls",
      "model_module_version": "1.2.0",
      "model_name": "ButtonStyleModel",
      "state": {
       "button_color": "lightgreen"
      }
     },
     "369baf70b9274efd9b089ebdbd999f3f": {
      "model_module": "@jupyter-widgets/base",
      "model_module_version": "1.0.0",
      "model_name": "LayoutModel",
      "state": {
       "justify_content": "center"
      }
     },
     "36a131af8d7c43eb8aecc8971ce8066f": {
      "model_module": "@jupyter-widgets/controls",
      "model_module_version": "1.2.0",
      "model_name": "ButtonModel",
      "state": {
       "description": "fakultative Ergänzung",
       "layout": "IPY_MODEL_65bd3f6989574293921756bd0277663f",
       "style": "IPY_MODEL_5e659096c2d442fcabf3f10b7b6f7d1f"
      }
     },
     "36fea4b932ea44c4a7227985b089a87c": {
      "model_module": "@jupyter-widgets/controls",
      "model_module_version": "1.2.0",
      "model_name": "CheckboxModel",
      "state": {
       "description": "H bestimmt den semantischen Typ von C",
       "disabled": false,
       "layout": "IPY_MODEL_c6b55797ba3c4a6f8c5a81cc4cd08ca1",
       "style": "IPY_MODEL_42a42bdbfc8f4f96aa528e027993e111",
       "value": true
      }
     },
     "3716335d0e6d468a8b79b2aeb1670dda": {
      "model_module": "@jupyter-widgets/controls",
      "model_module_version": "1.2.0",
      "model_name": "DescriptionStyleModel",
      "state": {
       "description_width": ""
      }
     },
     "3717a15aa990459e96308387e015f026": {
      "model_module": "@jupyter-widgets/base",
      "model_module_version": "1.0.0",
      "model_name": "LayoutModel",
      "state": {
       "justify_content": "center"
      }
     },
     "3745e306d0594cc3b64ed8bf6133d2bd": {
      "model_module": "@jupyter-widgets/base",
      "model_module_version": "1.0.0",
      "model_name": "LayoutModel",
      "state": {}
     },
     "375dc4c0b2184174bb626ad7ebe63d66": {
      "model_module": "@jupyter-widgets/controls",
      "model_module_version": "1.2.0",
      "model_name": "CheckboxModel",
      "state": {
       "description": "Patienseigenschaften",
       "disabled": false,
       "layout": "IPY_MODEL_8105def40d674229a644cfa60a78faaa",
       "style": "IPY_MODEL_49fb0b73f8c346829b10734e73407847",
       "value": false
      }
     },
     "378d4647e1b0443592ab81de67e4db0b": {
      "model_module": "@jupyter-widgets/base",
      "model_module_version": "1.0.0",
      "model_name": "LayoutModel",
      "state": {
       "width": "600px"
      }
     },
     "37952d60386740d7933c202a22c21a27": {
      "model_module": "@jupyter-widgets/controls",
      "model_module_version": "1.2.0",
      "model_name": "DescriptionStyleModel",
      "state": {
       "description_width": ""
      }
     },
     "379b95045d1349ad81b1c506d98653f4": {
      "model_module": "@jupyter-widgets/base",
      "model_module_version": "1.0.0",
      "model_name": "LayoutModel",
      "state": {
       "justify_content": "center"
      }
     },
     "385622cd6b004170bc40c244db403ae8": {
      "model_module": "@jupyter-widgets/controls",
      "model_module_version": "1.2.0",
      "model_name": "DescriptionStyleModel",
      "state": {
       "description_width": ""
      }
     },
     "38a8dc4c8e904b8e88a9bd932f9d2773": {
      "model_module": "@jupyter-widgets/controls",
      "model_module_version": "1.2.0",
      "model_name": "ButtonStyleModel",
      "state": {
       "button_color": "lightgreen"
      }
     },
     "38dea0e355044846bab984088fe59d4c": {
      "model_module": "@jupyter-widgets/controls",
      "model_module_version": "1.2.0",
      "model_name": "VBoxModel",
      "state": {
       "children": [
        "IPY_MODEL_9dd25f495541437d840be354bb37e3ae",
        "IPY_MODEL_b56abbe2daa243fda5d30025e180fc0f",
        "IPY_MODEL_958c58c2c14e4b2e9e2ebe5f69d5ee51",
        "IPY_MODEL_846ba10b5c024d9a9cd642d4554d66b3"
       ],
       "layout": "IPY_MODEL_12efd365ce79439da9ec8c6d4bca5008"
      }
     },
     "38e04d3d29e147baaf2332bd48f0aa7c": {
      "model_module": "@jupyter-widgets/controls",
      "model_module_version": "1.2.0",
      "model_name": "HTMLModel",
      "state": {
       "layout": "IPY_MODEL_dbd2a8666bcb4c40a3ba055585c9f0d3",
       "style": "IPY_MODEL_b5b75958959941ca9e27df20853e6cfc",
       "value": "<h4 style=\"font-size:14px;\"><i> Peter </i> als auch das</h4>"
      }
     },
     "38e1b9f9d4cb42ee8c8a170f0087d6f9": {
      "model_module": "@jupyter-widgets/controls",
      "model_module_version": "1.2.0",
      "model_name": "ButtonStyleModel",
      "state": {
       "button_color": "lightgreen"
      }
     },
     "3954065cc88a4b9aac5339144b819fc7": {
      "model_module": "@jupyter-widgets/controls",
      "model_module_version": "1.2.0",
      "model_name": "DescriptionStyleModel",
      "state": {
       "description_width": "initial"
      }
     },
     "39767b990a184bacac531f3eede7bc87": {
      "model_module": "@jupyter-widgets/controls",
      "model_module_version": "1.2.0",
      "model_name": "DescriptionStyleModel",
      "state": {
       "description_width": ""
      }
     },
     "39f328e6d5cd4fc6882caf75ac292955": {
      "model_module": "@jupyter-widgets/controls",
      "model_module_version": "1.2.0",
      "model_name": "HTMLModel",
      "state": {
       "layout": "IPY_MODEL_08230ef25c5d48d9992673cec8ad8617",
       "style": "IPY_MODEL_41026fbc14ed40258edb50b0024503f1",
       "value": "<h4 style=\"font-size:14px;\">Laut Weglassbarkeitstest ist die Entscheidung \"weglassbar\" gleichbedeutend damit, dass es sich um eine</h4>"
      }
     },
     "3a3403efc4f24b388eb347af43daabad": {
      "model_module": "@jupyter-widgets/base",
      "model_module_version": "1.0.0",
      "model_name": "LayoutModel",
      "state": {}
     },
     "3a59970f1c014a32a66151eceb8991ad": {
      "model_module": "@jupyter-widgets/controls",
      "model_module_version": "1.2.0",
      "model_name": "HTMLModel",
      "state": {
       "layout": "IPY_MODEL_5ebf9dc85cf84c039105857353270efd",
       "style": "IPY_MODEL_dca44d941d9d455aaf22c315aff3fead",
       "value": "<i>Wählen Sie die <ins>eine</ins> korrekte Antwort aus: </i>"
      }
     },
     "3ad62cc930344e4896a2b397bfd9776d": {
      "model_module": "@jupyter-widgets/controls",
      "model_module_version": "1.2.0",
      "model_name": "DescriptionStyleModel",
      "state": {
       "description_width": "initial"
      }
     },
     "3b0cba6916e34abdbcceb2f152097240": {
      "model_module": "@jupyter-widgets/controls",
      "model_module_version": "1.2.0",
      "model_name": "HTMLModel",
      "state": {
       "layout": "IPY_MODEL_f8ddf893f30a4c14947614367d695243",
       "style": "IPY_MODEL_7b9dca1ecaaa4d8c83f3b27bd5d055ae",
       "value": "<i>Wählen Sie die <ins>eine</ins> korrekte Antwort aus: </i>"
      }
     },
     "3b304214644c4a98949deb2c53ead51f": {
      "model_module": "@jupyter-widgets/base",
      "model_module_version": "1.0.0",
      "model_name": "LayoutModel",
      "state": {}
     },
     "3b4a9e0587174736b56ad329f8921ee0": {
      "model_module": "@jupyter-widgets/controls",
      "model_module_version": "1.2.0",
      "model_name": "DescriptionStyleModel",
      "state": {
       "description_width": ""
      }
     },
     "3b556cbb8e3a4e79ba3f616ae41c2916": {
      "model_module": "@jupyter-widgets/base",
      "model_module_version": "1.0.0",
      "model_name": "LayoutModel",
      "state": {
       "justify_content": "center"
      }
     },
     "3b6652f3f3154b99933810c81c274d89": {
      "model_module": "@jupyter-widgets/controls",
      "model_module_version": "1.2.0",
      "model_name": "VBoxModel",
      "state": {
       "children": [
        "IPY_MODEL_12196fe3a0bd46b6945a2d78d7b63c24",
        "IPY_MODEL_55a3b9bc9937450ab1a191dab1435545",
        "IPY_MODEL_cbf9c5fe08f24c75bd336cbc78b985fd"
       ],
       "layout": "IPY_MODEL_2e6892adf89b4b19861b56e4e81c76d0"
      }
     },
     "3b9874feeccf420b916b7e44a748352d": {
      "model_module": "@jupyter-widgets/controls",
      "model_module_version": "1.2.0",
      "model_name": "HTMLModel",
      "state": {
       "layout": "IPY_MODEL_eba6af0f025e4a038f79af7729db50ab",
       "style": "IPY_MODEL_23ab8aad39f648bab0aae0500aa83331",
       "value": "<i>Markieren Sie <ins>alle</ins> passenden Antworten: </i>"
      }
     },
     "3bbbb2330610431aa3f1b0b484d745c0": {
      "model_module": "@jupyter-widgets/controls",
      "model_module_version": "1.2.0",
      "model_name": "ButtonModel",
      "state": {
       "description": "präpositional angeschlossen",
       "layout": "IPY_MODEL_7d5d7af75f8e4b8f89ab3931f5e1efab",
       "style": "IPY_MODEL_38a8dc4c8e904b8e88a9bd932f9d2773"
      }
     },
     "3bce25ea33d24ea7bb05d72c981da803": {
      "model_module": "@jupyter-widgets/controls",
      "model_module_version": "1.2.0",
      "model_name": "DescriptionStyleModel",
      "state": {
       "description_width": ""
      }
     },
     "3c01b061875743aca0d3c61958efb201": {
      "model_module": "@jupyter-widgets/controls",
      "model_module_version": "1.2.0",
      "model_name": "VBoxModel",
      "state": {
       "children": [
        "IPY_MODEL_b66abf49ea6d4e988374bb5ac00b6900",
        "IPY_MODEL_361e6b1a799a42739b7ac6ea8b892c62",
        "IPY_MODEL_4ab181154b2341d0a9270686338fc82d"
       ],
       "layout": "IPY_MODEL_5bd02a7eb2424789becb73730d5e91a4"
      }
     },
     "3cfccf9886e34a3d921b7d6063f7c48e": {
      "model_module": "@jupyter-widgets/base",
      "model_module_version": "1.0.0",
      "model_name": "LayoutModel",
      "state": {}
     },
     "3dc8c350ae8a43dc9035bd516414620a": {
      "model_module": "@jupyter-widgets/controls",
      "model_module_version": "1.2.0",
      "model_name": "DescriptionStyleModel",
      "state": {
       "description_width": ""
      }
     },
     "3efa5a68da80495ca23cf4ae586cf3ae": {
      "model_module": "@jupyter-widgets/base",
      "model_module_version": "1.0.0",
      "model_name": "LayoutModel",
      "state": {}
     },
     "3f35ecd1a2e14b1397a21ad1a1b30aa2": {
      "model_module": "@jupyter-widgets/controls",
      "model_module_version": "1.2.0",
      "model_name": "VBoxModel",
      "state": {
       "children": [
        "IPY_MODEL_f89466cc80504f66bb1f5ad2d400aa25",
        "IPY_MODEL_f3ee210a62b44a7b9553fd6c785b0101",
        "IPY_MODEL_4f528ba2b1a949709e35bd57c019ed60"
       ],
       "layout": "IPY_MODEL_a83ed59c2e19449f98a92b1395f58a3b"
      }
     },
     "3f633284a1f945aaae70b0f63420fdf8": {
      "model_module": "@jupyter-widgets/base",
      "model_module_version": "1.0.0",
      "model_name": "LayoutModel",
      "state": {}
     },
     "3fd73997f63b4ed18d1837af1b45e0ef": {
      "model_module": "@jupyter-widgets/controls",
      "model_module_version": "1.2.0",
      "model_name": "CheckboxModel",
      "state": {
       "description": "Adverbialsatz-Test",
       "disabled": false,
       "layout": "IPY_MODEL_c316a45f072347ab9a8feb0ced0729dc",
       "style": "IPY_MODEL_bc661c70ab2e419c8c5fc0ebf8cc7cc8",
       "value": false
      }
     },
     "3ff3c25c061c4902b83511f74e95b837": {
      "model_module": "@jupyter-widgets/controls",
      "model_module_version": "1.2.0",
      "model_name": "DescriptionStyleModel",
      "state": {
       "description_width": ""
      }
     },
     "407a18d299a6410d83051770ebbda7e2": {
      "model_module": "@jupyter-widgets/controls",
      "model_module_version": "1.2.0",
      "model_name": "ButtonStyleModel",
      "state": {}
     },
     "408d561d62cc45ff9722f2205d58caa9": {
      "model_module": "@jupyter-widgets/base",
      "model_module_version": "1.0.0",
      "model_name": "LayoutModel",
      "state": {
       "justify_content": "center"
      }
     },
     "40bc952794f9413eadff287e60228ce3": {
      "model_module": "@jupyter-widgets/controls",
      "model_module_version": "1.2.0",
      "model_name": "CheckboxModel",
      "state": {
       "description": "3. Satz (das Pferd)",
       "disabled": false,
       "layout": "IPY_MODEL_c729780a9b9c4c3fbf4c9d5f649ebf03",
       "style": "IPY_MODEL_575da78cf02b45bcb8ff07ab23d0d7b3",
       "value": false
      }
     },
     "40ce1123afc243f5832bfd191f856267": {
      "model_module": "@jupyter-widgets/controls",
      "model_module_version": "1.2.0",
      "model_name": "ButtonModel",
      "state": {
       "description": "Adjektivattribut",
       "layout": "IPY_MODEL_5145e6b6baeb43c6b7810184988d69ef",
       "style": "IPY_MODEL_672517952be948eaa168363c600956b1"
      }
     },
     "41026fbc14ed40258edb50b0024503f1": {
      "model_module": "@jupyter-widgets/controls",
      "model_module_version": "1.2.0",
      "model_name": "DescriptionStyleModel",
      "state": {
       "description_width": ""
      }
     },
     "41ae20b5bca749efbc83ea15067df31a": {
      "model_module": "@jupyter-widgets/base",
      "model_module_version": "1.0.0",
      "model_name": "LayoutModel",
      "state": {
       "width": "600px"
      }
     },
     "41e10da98d8c4734922e0febd21d854f": {
      "model_module": "@jupyter-widgets/base",
      "model_module_version": "1.0.0",
      "model_name": "LayoutModel",
      "state": {
       "width": "600px"
      }
     },
     "424bf7a761ac4e94bebabc68a42767b6": {
      "model_module": "@jupyter-widgets/controls",
      "model_module_version": "1.2.0",
      "model_name": "VBoxModel",
      "state": {
       "children": [
        "IPY_MODEL_a00d4e1d87dd4165aaa7345003c3ff9d",
        "IPY_MODEL_c7cd2c78c83443fab6fead86ce09829b",
        "IPY_MODEL_99900407165e4d61b5b943368b65fd62"
       ],
       "layout": "IPY_MODEL_08a4924a8b0843c28e31e73f1c89ea07"
      }
     },
     "426bf22710c141d3972c416c3f8e7097": {
      "model_module": "@jupyter-widgets/base",
      "model_module_version": "1.0.0",
      "model_name": "LayoutModel",
      "state": {
       "width": "250px"
      }
     },
     "42a42bdbfc8f4f96aa528e027993e111": {
      "model_module": "@jupyter-widgets/controls",
      "model_module_version": "1.2.0",
      "model_name": "DescriptionStyleModel",
      "state": {
       "description_width": "initial"
      }
     },
     "42d43d337dbb4687a7bc6057cd382f40": {
      "model_module": "@jupyter-widgets/controls",
      "model_module_version": "1.2.0",
      "model_name": "VBoxModel",
      "state": {
       "children": [
        "IPY_MODEL_c9e13ecdfe404f73ae78432dcb47ecda",
        "IPY_MODEL_3b0cba6916e34abdbcceb2f152097240",
        "IPY_MODEL_d7b3fdb7554845e3b2b7326210effddc",
        "IPY_MODEL_ae3fd54783e34061a399753d7eac21e3"
       ],
       "layout": "IPY_MODEL_fc416cadbafd41e985699c3adcafead3"
      }
     },
     "43173ad285074576bc0163180093fcf5": {
      "model_module": "@jupyter-widgets/base",
      "model_module_version": "1.0.0",
      "model_name": "LayoutModel",
      "state": {}
     },
     "432e77ec97264f1bae63fc4a6afbb082": {
      "model_module": "@jupyter-widgets/controls",
      "model_module_version": "1.2.0",
      "model_name": "HTMLModel",
      "state": {
       "layout": "IPY_MODEL_28c8f5825953491e86a0344bfd6bd506",
       "style": "IPY_MODEL_60cb98a76b214d62ae785b677594730a",
       "value": "<i>Wählen Sie die <ins>eine</ins> korrekte Antwort aus: </i>"
      }
     },
     "435e7003c9414f19b17765f8241d73cb": {
      "model_module": "@jupyter-widgets/controls",
      "model_module_version": "1.2.0",
      "model_name": "DescriptionStyleModel",
      "state": {
       "description_width": "initial"
      }
     },
     "43dc01e060e14711a461dea1fa9e7595": {
      "model_module": "@jupyter-widgets/controls",
      "model_module_version": "1.2.0",
      "model_name": "CheckboxModel",
      "state": {
       "description": "unmittelbare Nachbarschaft zum Verb",
       "disabled": false,
       "layout": "IPY_MODEL_29cfc5f0fb7d4b3782bfdbbb128d8e98",
       "style": "IPY_MODEL_e74bcb908d044066b74172682e349511",
       "value": true
      }
     },
     "448f468c68ae4b468dec9892c5f0e1b9": {
      "model_module": "@jupyter-widgets/controls",
      "model_module_version": "1.2.0",
      "model_name": "ButtonModel",
      "state": {
       "description": "Korrekt?",
       "layout": "IPY_MODEL_180e9880320a4c9b886798fe57c67202",
       "style": "IPY_MODEL_c508fa17413c4cc6aeb351156e5753eb"
      }
     },
     "45b566ec28f543b0b58a304c5633b75b": {
      "model_module": "@jupyter-widgets/base",
      "model_module_version": "1.0.0",
      "model_name": "LayoutModel",
      "state": {
       "width": "250px"
      }
     },
     "460dd6c43fba4484ad7302da3225d8b4": {
      "model_module": "@jupyter-widgets/controls",
      "model_module_version": "1.2.0",
      "model_name": "DescriptionStyleModel",
      "state": {
       "description_width": ""
      }
     },
     "46a4eea9a95e4656ba980323d7cdad0c": {
      "model_module": "@jupyter-widgets/controls",
      "model_module_version": "1.2.0",
      "model_name": "HTMLModel",
      "state": {
       "layout": "IPY_MODEL_ec767d1677db49dcb03b252da93f634b",
       "style": "IPY_MODEL_ee35f68bd40b4bf6b82088e52412fe46",
       "value": "<h4 style=\"font-size:14px;\">auf, das Wort <i></h4>"
      }
     },
     "474bc6b65e0a43cf8194760af57d0cbe": {
      "model_module": "@jupyter-widgets/controls",
      "model_module_version": "1.2.0",
      "model_name": "HTMLModel",
      "state": {
       "layout": "IPY_MODEL_e45d3c157046485e8236d89db3164c6f",
       "style": "IPY_MODEL_f77e3eb390a048f1add369582e06475b",
       "value": "<i>Markieren Sie <ins>alle</ins> passenden Antworten: </i>"
      }
     },
     "47629d6ae62d4143ae2345c5264bb763": {
      "model_module": "@jupyter-widgets/base",
      "model_module_version": "1.0.0",
      "model_name": "LayoutModel",
      "state": {}
     },
     "47a4e5be6bc14969a44f050c6f5378e8": {
      "model_module": "@jupyter-widgets/controls",
      "model_module_version": "1.2.0",
      "model_name": "HTMLModel",
      "state": {
       "layout": "IPY_MODEL_2c716db43f9747858ba436e97a2ec1b3",
       "style": "IPY_MODEL_97e9915f834945a89d9e0226a5ac3c3f",
       "value": "<h4 style=\"font-size:14px;\">Welche Gründe sprechen für eine Klassifizierung als direktes Objekt?</h4>"
      }
     },
     "47d5659b6f0a43218f1856006de8caeb": {
      "model_module": "@jupyter-widgets/controls",
      "model_module_version": "1.2.0",
      "model_name": "HBoxModel",
      "state": {
       "children": [
        "IPY_MODEL_5bad1dc31387475a9e8c0ebe63f17874",
        "IPY_MODEL_16baa16645e54230a39753f75cd38743"
       ],
       "layout": "IPY_MODEL_67c515fdc5864ecfb9c79d48769b022d"
      }
     },
     "47df3c17d80441d3968d320facfc4a04": {
      "model_module": "@jupyter-widgets/controls",
      "model_module_version": "1.2.0",
      "model_name": "VBoxModel",
      "state": {
       "children": [
        "IPY_MODEL_9e433031578243f89ecbe9dbe9ae12dd",
        "IPY_MODEL_7af9ab116a474b59a8bce7313fca2f62",
        "IPY_MODEL_40bc952794f9413eadff287e60228ce3"
       ],
       "layout": "IPY_MODEL_c3a32ddf5fe04a8e8856f5fc8dabef79"
      }
     },
     "48024198c56c4630a1dd662b2a4f0c39": {
      "model_module": "@jupyter-widgets/controls",
      "model_module_version": "1.2.0",
      "model_name": "DescriptionStyleModel",
      "state": {
       "description_width": ""
      }
     },
     "48de9ea877444e2ba86d98fa623700ef": {
      "model_module": "@jupyter-widgets/controls",
      "model_module_version": "1.2.0",
      "model_name": "HTMLModel",
      "state": {
       "layout": "IPY_MODEL_ee953bd536534610b61f1e3a0d72b85d",
       "style": "IPY_MODEL_f9e00d242b774670aac6d5b65d5d16d0",
       "value": "<h4 style=\"font-size:14px;\">des Verbs .</h4>"
      }
     },
     "498a920610f740558ef2500a886c706c": {
      "model_module": "@jupyter-widgets/controls",
      "model_module_version": "1.2.0",
      "model_name": "VBoxModel",
      "state": {
       "children": [
        "IPY_MODEL_27838c45c55d48cf92180e064a093618",
        "IPY_MODEL_21e4c9dfe76b4623ba993e9318195df1"
       ],
       "layout": "IPY_MODEL_10c1efc389cb4398b56025b2336dda68"
      }
     },
     "49d9c29896284266873d296770895565": {
      "model_module": "@jupyter-widgets/base",
      "model_module_version": "1.0.0",
      "model_name": "LayoutModel",
      "state": {
       "width": "250px"
      }
     },
     "49fb0b73f8c346829b10734e73407847": {
      "model_module": "@jupyter-widgets/controls",
      "model_module_version": "1.2.0",
      "model_name": "DescriptionStyleModel",
      "state": {
       "description_width": "initial"
      }
     },
     "4a35a8716a1c4d8cb20fa87cd170f2ec": {
      "model_module": "@jupyter-widgets/controls",
      "model_module_version": "1.2.0",
      "model_name": "DescriptionStyleModel",
      "state": {
       "description_width": ""
      }
     },
     "4a3887e9c5f742aaa29a456e0e2640be": {
      "model_module": "@jupyter-widgets/controls",
      "model_module_version": "1.2.0",
      "model_name": "ButtonModel",
      "state": {
       "description": "Korrekt?",
       "layout": "IPY_MODEL_e668ad73e1184b19baa58643197652b1",
       "style": "IPY_MODEL_85e9d759ef3e431393086f7499e6f01d"
      }
     },
     "4ab181154b2341d0a9270686338fc82d": {
      "model_module": "@jupyter-widgets/controls",
      "model_module_version": "1.2.0",
      "model_name": "ButtonModel",
      "state": {
       "description": "Korrekt?",
       "layout": "IPY_MODEL_a67e4035406248adbca76350c748f689",
       "style": "IPY_MODEL_9bd6036f983041e982085b7c86d2b142"
      }
     },
     "4acedff92da64bfb919b2d3836a5bdec": {
      "model_module": "@jupyter-widgets/controls",
      "model_module_version": "1.2.0",
      "model_name": "VBoxModel",
      "state": {
       "children": [
        "IPY_MODEL_1c01b06d9eb7417db91dfca8687f2411",
        "IPY_MODEL_78804797305a4b64891ccb6fbdba00a0",
        "IPY_MODEL_25e370e60b0f44a9b4c1f5b9e0143d80",
        "IPY_MODEL_af42d22f005241428cf30234008d070e"
       ],
       "layout": "IPY_MODEL_360f55dad0584abfb2da3201027ecab5"
      }
     },
     "4acf9f34621549b58a6222a8bf2d26c8": {
      "model_module": "@jupyter-widgets/controls",
      "model_module_version": "1.2.0",
      "model_name": "HTMLModel",
      "state": {
       "layout": "IPY_MODEL_01eddc736599438c8a9b7144239b1ba2",
       "style": "IPY_MODEL_34b7179b7c7b41acbf26fc7dc4a9259c",
       "value": "<h4 style=\"font-size:14px;\"><i> gerne </i> und das</h4>"
      }
     },
     "4ae1f050f89640a99c87b635257b1cff": {
      "model_module": "@jupyter-widgets/controls",
      "model_module_version": "1.2.0",
      "model_name": "DescriptionStyleModel",
      "state": {
       "description_width": ""
      }
     },
     "4b2ce3dc823b404f8041b5994c92896e": {
      "model_module": "@jupyter-widgets/base",
      "model_module_version": "1.0.0",
      "model_name": "LayoutModel",
      "state": {
       "width": "600px"
      }
     },
     "4b4f30f625e1401aaaaae8be2adc5e5a": {
      "model_module": "@jupyter-widgets/controls",
      "model_module_version": "1.2.0",
      "model_name": "VBoxModel",
      "state": {
       "children": [
        "IPY_MODEL_36fea4b932ea44c4a7227985b089a87c",
        "IPY_MODEL_0fc0a9ed504f4bea8f13ea495c9ea569",
        "IPY_MODEL_11ab94c491764fa7a1aab287126e64f9",
        "IPY_MODEL_4e03ae9785fd4380b6288798f3b5c900",
        "IPY_MODEL_8ec83c4d0fea438a9f6c1561c7f86e89",
        "IPY_MODEL_fff47e12485d4a58a6f7a0d3292b6f0b"
       ],
       "layout": "IPY_MODEL_34ae4250952141e399c8c5f1b3692e2a"
      }
     },
     "4c95ca655bef4f47b72d9fe1cf13b2bf": {
      "model_module": "@jupyter-widgets/base",
      "model_module_version": "1.0.0",
      "model_name": "LayoutModel",
      "state": {
       "justify_content": "center"
      }
     },
     "4cca792facf542b6a477a63dde0cfb80": {
      "model_module": "@jupyter-widgets/controls",
      "model_module_version": "1.2.0",
      "model_name": "HTMLModel",
      "state": {
       "layout": "IPY_MODEL_f696f9ea25b34c14a9ce42744dbd7c87",
       "style": "IPY_MODEL_60931ade6f3046d3915fe1b3aba3ce14",
       "value": "<h4 style=\"font-size:14px;\">Welche Tests ergeben, dass es sich bei <i> das Pferd </i> im 2. Satz um eine Angabe handelt?</h4>"
      }
     },
     "4cdacea9b5994738b828c1156a0a19b8": {
      "model_module": "@jupyter-widgets/controls",
      "model_module_version": "1.2.0",
      "model_name": "CheckboxModel",
      "state": {
       "description": "Passivierbarkeit",
       "disabled": false,
       "layout": "IPY_MODEL_81057a62183f4cc185d27d1a25c8b37d",
       "style": "IPY_MODEL_ddcd1097243b434eb630f55595a9643c",
       "value": true
      }
     },
     "4cdb315830ca476f8667df883f4a8a3d": {
      "model_module": "@jupyter-widgets/base",
      "model_module_version": "1.0.0",
      "model_name": "LayoutModel",
      "state": {}
     },
     "4d1b5be4db894f55868e6836719f4f01": {
      "model_module": "@jupyter-widgets/base",
      "model_module_version": "1.0.0",
      "model_name": "LayoutModel",
      "state": {
       "justify_content": "center"
      }
     },
     "4d7a43f1d0de4320aa5c132f612653eb": {
      "model_module": "@jupyter-widgets/base",
      "model_module_version": "1.0.0",
      "model_name": "LayoutModel",
      "state": {}
     },
     "4dad194eaeca47f8b3323db702fabd0f": {
      "model_module": "@jupyter-widgets/base",
      "model_module_version": "1.0.0",
      "model_name": "LayoutModel",
      "state": {
       "width": "600px"
      }
     },
     "4e03ae9785fd4380b6288798f3b5c900": {
      "model_module": "@jupyter-widgets/controls",
      "model_module_version": "1.2.0",
      "model_name": "CheckboxModel",
      "state": {
       "description": "H ist obligatorisch, D kann optional sein",
       "disabled": false,
       "layout": "IPY_MODEL_d8488d5bb3dc4b67953efb65d3fba03a",
       "style": "IPY_MODEL_f0883aaefa52479da898dd3ed97cd260",
       "value": true
      }
     },
     "4e33ad2fa46549cbba3e7479a33469c1": {
      "model_module": "@jupyter-widgets/base",
      "model_module_version": "1.0.0",
      "model_name": "LayoutModel",
      "state": {}
     },
     "4e592230b3134c3680876ff00807ef5f": {
      "model_module": "@jupyter-widgets/base",
      "model_module_version": "1.0.0",
      "model_name": "LayoutModel",
      "state": {
       "width": "600px"
      }
     },
     "4e908f914b6848cd98d460de9cce72cc": {
      "model_module": "@jupyter-widgets/base",
      "model_module_version": "1.0.0",
      "model_name": "LayoutModel",
      "state": {
       "justify_content": "center"
      }
     },
     "4f3b5594ea4e4ab58123ba4ecaaf0457": {
      "model_module": "@jupyter-widgets/controls",
      "model_module_version": "1.2.0",
      "model_name": "ButtonModel",
      "state": {
       "description": "Korrekt?",
       "layout": "IPY_MODEL_b9c27d37e8a24716b14b1d0657fd1647",
       "style": "IPY_MODEL_23e40841ffb441d0bc92271c2dee30ec"
      }
     },
     "4f528ba2b1a949709e35bd57c019ed60": {
      "model_module": "@jupyter-widgets/controls",
      "model_module_version": "1.2.0",
      "model_name": "HBoxModel",
      "state": {
       "children": [
        "IPY_MODEL_b79ed860ed78446d88e94fca021af58a",
        "IPY_MODEL_b90fbc22f4d1400e8ecad44e95b128dd"
       ],
       "layout": "IPY_MODEL_2520e8340b594220b4c53a5790d9c610"
      }
     },
     "4f9c82cd846b4af290880fe0b30746ff": {
      "model_module": "@jupyter-widgets/base",
      "model_module_version": "1.0.0",
      "model_name": "LayoutModel",
      "state": {}
     },
     "4fc82db85f304ee2943f391ab5302ef4": {
      "model_module": "@jupyter-widgets/base",
      "model_module_version": "1.0.0",
      "model_name": "LayoutModel",
      "state": {
       "width": "150px"
      }
     },
     "4fdd743e843943929304989b44fbac42": {
      "model_module": "@jupyter-widgets/base",
      "model_module_version": "1.0.0",
      "model_name": "LayoutModel",
      "state": {
       "width": "600px"
      }
     },
     "505cc328c0454016905da5d2f4d81789": {
      "model_module": "@jupyter-widgets/base",
      "model_module_version": "1.0.0",
      "model_name": "LayoutModel",
      "state": {
       "justify_content": "center"
      }
     },
     "505e49e13bd541ca8dc9782b73cc30f2": {
      "model_module": "@jupyter-widgets/controls",
      "model_module_version": "1.2.0",
      "model_name": "DescriptionStyleModel",
      "state": {
       "description_width": ""
      }
     },
     "508d396ecf0846a1a91de497bd58ad19": {
      "model_module": "@jupyter-widgets/base",
      "model_module_version": "1.0.0",
      "model_name": "LayoutModel",
      "state": {}
     },
     "50c36b154e8949afa9c01abac76f68a7": {
      "model_module": "@jupyter-widgets/controls",
      "model_module_version": "1.2.0",
      "model_name": "ButtonModel",
      "state": {
       "description": "Korrekt?",
       "layout": "IPY_MODEL_6d68473f6a494d31b1a1e3baea89a7bb",
       "style": "IPY_MODEL_d1fab76c21a84030b740a6d56ebdd3ff"
      }
     },
     "50cb659dab354246ab92a9d24fc08463": {
      "model_module": "@jupyter-widgets/base",
      "model_module_version": "1.0.0",
      "model_name": "LayoutModel",
      "state": {}
     },
     "5145e6b6baeb43c6b7810184988d69ef": {
      "model_module": "@jupyter-widgets/base",
      "model_module_version": "1.0.0",
      "model_name": "LayoutModel",
      "state": {
       "width": "250px"
      }
     },
     "51ff2ef29225469b80134f7127f8ad66": {
      "model_module": "@jupyter-widgets/controls",
      "model_module_version": "1.2.0",
      "model_name": "CheckboxModel",
      "state": {
       "description": "Die neue Kollegin fährt zu ihrem neuen Arbeitsplatz, und das geschieht mit der S-Bahn.",
       "disabled": false,
       "layout": "IPY_MODEL_bc1a0ba8798744fa8bc357492199c25b",
       "style": "IPY_MODEL_e19460a9f67e44cd94936e39321bfe5f",
       "value": true
      }
     },
     "52add64e5dd744688748f724fc4fa67e": {
      "model_module": "@jupyter-widgets/base",
      "model_module_version": "1.0.0",
      "model_name": "LayoutModel",
      "state": {
       "align_content": "stretch",
       "align_items": "stretch",
       "display": "inline-flex",
       "flex": "flex-grow",
       "flex_flow": "row wrap",
       "justify_content": "flex-start"
      }
     },
     "52ca9495d26d4278bd0ca8b94dc04284": {
      "model_module": "@jupyter-widgets/controls",
      "model_module_version": "1.2.0",
      "model_name": "DropdownModel",
      "state": {
       "_options_labels": [
        "Adjektivphrase",
        "Nominalphrase",
        "Präpositionalphrase",
        " "
       ],
       "index": 0,
       "layout": "IPY_MODEL_8af7f2fba1854c799903aa2cef1068f3",
       "style": "IPY_MODEL_62a85cc42c474651a15c7344a1ccca25"
      }
     },
     "52dbaa29ec0e4109822a86e61aacd59e": {
      "model_module": "@jupyter-widgets/controls",
      "model_module_version": "1.2.0",
      "model_name": "DescriptionStyleModel",
      "state": {
       "description_width": "initial"
      }
     },
     "52dc3ef535e44fc1b0d20ba3eab35ea8": {
      "model_module": "@jupyter-widgets/controls",
      "model_module_version": "1.2.0",
      "model_name": "VBoxModel",
      "state": {
       "children": [
        "IPY_MODEL_a95cfdbaf80a4ccd80b496db5905be69",
        "IPY_MODEL_207bf8290d5e4213b5d8f4486d251143",
        "IPY_MODEL_a8ceadf0c5c34cb091115343869a38f4",
        "IPY_MODEL_5ececba234734462b33815f305de5c89"
       ],
       "layout": "IPY_MODEL_9ea83dfe838245a8b53c946efe382521"
      }
     },
     "53e5a16509094ab0b5183ec979fb66c8": {
      "model_module": "@jupyter-widgets/controls",
      "model_module_version": "1.2.0",
      "model_name": "DescriptionStyleModel",
      "state": {
       "description_width": ""
      }
     },
     "54137953da2749159c8c9beb4c118ec6": {
      "model_module": "@jupyter-widgets/controls",
      "model_module_version": "1.2.0",
      "model_name": "HBoxModel",
      "state": {
       "children": [
        "IPY_MODEL_40ce1123afc243f5832bfd191f856267",
        "IPY_MODEL_dd07c236d0534ba3b03c6975186eed81"
       ],
       "layout": "IPY_MODEL_2c734c3e02914a0897dbb0f6975b82ce"
      }
     },
     "5433259f232f48e290b4a2e4b81199c1": {
      "model_module": "@jupyter-widgets/base",
      "model_module_version": "1.0.0",
      "model_name": "LayoutModel",
      "state": {}
     },
     "545176210087491f81e2795de3901cd3": {
      "model_module": "@jupyter-widgets/base",
      "model_module_version": "1.0.0",
      "model_name": "LayoutModel",
      "state": {}
     },
     "5453bb1dd60849c29f1079bd959b7eb6": {
      "model_module": "@jupyter-widgets/base",
      "model_module_version": "1.0.0",
      "model_name": "LayoutModel",
      "state": {
       "justify_content": "center"
      }
     },
     "5457559adaa74ab4af1db94cbf7b8bc4": {
      "model_module": "@jupyter-widgets/controls",
      "model_module_version": "1.2.0",
      "model_name": "HTMLModel",
      "state": {
       "layout": "IPY_MODEL_3a3403efc4f24b388eb347af43daabad",
       "style": "IPY_MODEL_72b3653c2c104ceabf0df6dffe389041",
       "value": "<h4 style=\"font-size:14px;\">Im Satz hängen sowohl das</h4>"
      }
     },
     "54dd4cddb27b485192665b64a9d73549": {
      "model_module": "@jupyter-widgets/controls",
      "model_module_version": "1.2.0",
      "model_name": "ButtonModel",
      "state": {
       "description": "fakultative Ergänzung",
       "layout": "IPY_MODEL_c1009cc82c4a434d88da6a1a5701f048",
       "style": "IPY_MODEL_a7d449a0417948f79392ed235ed38d44"
      }
     },
     "54f8c450d43a4ea6ac8321b5a1f5a4b4": {
      "model_module": "@jupyter-widgets/controls",
      "model_module_version": "1.2.0",
      "model_name": "DescriptionStyleModel",
      "state": {
       "description_width": ""
      }
     },
     "5513732a77194f0b88a482aa374df6be": {
      "model_module": "@jupyter-widgets/controls",
      "model_module_version": "1.2.0",
      "model_name": "HTMLModel",
      "state": {
       "layout": "IPY_MODEL_7178b77700a04215b61cc25d31a7c20d",
       "style": "IPY_MODEL_ba804aa05f424b8eaafa7e571668e5a7",
       "value": "<h4 style=\"font-size:14px;\">Die Wortgruppe <i> sehr_gut </i> stellt im Satz ein</h4>"
      }
     },
     "554846a3867c4c17b6efe47c1a9aae98": {
      "model_module": "@jupyter-widgets/controls",
      "model_module_version": "1.2.0",
      "model_name": "ButtonModel",
      "state": {
       "description": "Genitivattribut",
       "layout": "IPY_MODEL_effc62e204b34190b86fb10ade60dfd4",
       "style": "IPY_MODEL_b4d320d882f940ce8ddfbe176d5f9c49"
      }
     },
     "55a3b9bc9937450ab1a191dab1435545": {
      "model_module": "@jupyter-widgets/controls",
      "model_module_version": "1.2.0",
      "model_name": "HTMLModel",
      "state": {
       "layout": "IPY_MODEL_e5b556c8411d445bab7bae27ea53fa30",
       "style": "IPY_MODEL_67bc4178d89240e3a29abae467b3d4ce",
       "value": "<i>Wählen Sie die <ins>eine</ins> korrekte Antwort aus: </i>"
      }
     },
     "56cf03e628ea4280bfe0ea235b3b6f78": {
      "model_module": "@jupyter-widgets/controls",
      "model_module_version": "1.2.0",
      "model_name": "CheckboxModel",
      "state": {
       "description": "steht im Nominativ",
       "disabled": false,
       "layout": "IPY_MODEL_5a9127dc94eb4a6aa7fd95a7609e2e48",
       "style": "IPY_MODEL_c5fe906aa3c249d89b21f6b8258287f9",
       "value": false
      }
     },
     "56ddc37f709a471a8550b2aedf1fd634": {
      "model_module": "@jupyter-widgets/controls",
      "model_module_version": "1.2.0",
      "model_name": "HTMLModel",
      "state": {
       "layout": "IPY_MODEL_909370c9069a42c1bcd4e8aa5d40b422",
       "style": "IPY_MODEL_2176c1fd2713439b87d7319ee7657a9b",
       "value": "<i>Vervollständigen Sie den Lückentext: </i>"
      }
     },
     "572c662548d6445497b2789dbad3a80a": {
      "model_module": "@jupyter-widgets/controls",
      "model_module_version": "1.2.0",
      "model_name": "HTMLModel",
      "state": {
       "layout": "IPY_MODEL_5c52ab7335db42edaa047d69c0f4d007",
       "style": "IPY_MODEL_f0c87abca1ea4ad4871c58c3e9bcc462",
       "value": "<h4 style=\"font-size:14px;\">Um welchen Attributtyp handelt es sich bei dem Attribut <i>der Klasse 5b</i>?</h4>"
      }
     },
     "575da78cf02b45bcb8ff07ab23d0d7b3": {
      "model_module": "@jupyter-widgets/controls",
      "model_module_version": "1.2.0",
      "model_name": "DescriptionStyleModel",
      "state": {
       "description_width": "initial"
      }
     },
     "57abf40c142d4b3e8320736aeaacda4a": {
      "model_module": "@jupyter-widgets/controls",
      "model_module_version": "1.2.0",
      "model_name": "HTMLModel",
      "state": {
       "layout": "IPY_MODEL_e358d6ad4878466eac6c55cba4e3cea0",
       "style": "IPY_MODEL_39767b990a184bacac531f3eede7bc87",
       "value": "<h4 style=\"font-size:14px;\"></i>. Das Wort teilt mit anderen Wörtern derselben Klasse formale Eigenschaften. Die Bezeichnung \"</h4>"
      }
     },
     "5856bfc74aed43b8b4ea72a10cf8d12c": {
      "model_module": "@jupyter-widgets/controls",
      "model_module_version": "1.2.0",
      "model_name": "DescriptionStyleModel",
      "state": {
       "description_width": "initial"
      }
     },
     "5867c246322c4a239fc3aa20496dab83": {
      "model_module": "@jupyter-widgets/base",
      "model_module_version": "1.0.0",
      "model_name": "LayoutModel",
      "state": {
       "width": "600px"
      }
     },
     "58b03bf2ca8b4d3b9f897efae5e1fb84": {
      "model_module": "@jupyter-widgets/controls",
      "model_module_version": "1.2.0",
      "model_name": "VBoxModel",
      "state": {
       "children": [
        "IPY_MODEL_0449c4da32924147995d7514a1eee777",
        "IPY_MODEL_12a77c26e0094850b1dd13d6d61d6e47",
        "IPY_MODEL_91f4eeb038f9476aa77b9bf1a15e8b03",
        "IPY_MODEL_87e2fb9629ea4c1994203a6920fb6f90"
       ],
       "layout": "IPY_MODEL_e1812591dcb549c7ac62016767fbeaa2"
      }
     },
     "592c5a192ff94d3faa2c4c0a06d69c88": {
      "model_module": "@jupyter-widgets/base",
      "model_module_version": "1.0.0",
      "model_name": "LayoutModel",
      "state": {}
     },
     "59a301354c5846309d6962840ece2b82": {
      "model_module": "@jupyter-widgets/controls",
      "model_module_version": "1.2.0",
      "model_name": "HTMLModel",
      "state": {
       "layout": "IPY_MODEL_4d7a43f1d0de4320aa5c132f612653eb",
       "style": "IPY_MODEL_3b4a9e0587174736b56ad329f8921ee0",
       "value": "<h4 style=\"font-size:14px;\">\" gibt die Satzgliedfunktion an. Diese lässt sich immer nur im konkreten Satz bestimmen.</h4>"
      }
     },
     "59dc42ea3c8f4cf3808a55e2ca61e218": {
      "model_module": "@jupyter-widgets/controls",
      "model_module_version": "1.2.0",
      "model_name": "HTMLModel",
      "state": {
       "layout": "IPY_MODEL_5453bb1dd60849c29f1079bd959b7eb6",
       "style": "IPY_MODEL_0009d0c47a31465a94049ffc2e5638f3",
       "value": "<i>Wählen Sie die <ins>eine</ins> korrekte Antwort aus: </i>"
      }
     },
     "5a5fc519be444db6b94e7c468479b2f0": {
      "model_module": "@jupyter-widgets/controls",
      "model_module_version": "1.2.0",
      "model_name": "CheckboxModel",
      "state": {
       "description": "Distanzstellung nur bedingt möglich (<i>..dass man ihn des Diebstahls endlich überführt hat</i>)",
       "disabled": false,
       "layout": "IPY_MODEL_5e64510fa9034a2d8d6b963f3fcd141b",
       "style": "IPY_MODEL_435e7003c9414f19b17765f8241d73cb",
       "value": true
      }
     },
     "5a81cc2d09124dca9e3705b858d6d9a4": {
      "model_module": "@jupyter-widgets/controls",
      "model_module_version": "1.2.0",
      "model_name": "VBoxModel",
      "state": {
       "children": [
        "IPY_MODEL_dd1d4f6acbc5410191adb394da5f8047",
        "IPY_MODEL_3a59970f1c014a32a66151eceb8991ad",
        "IPY_MODEL_9f1ff81b5b5046838aff04a603f36f8b"
       ],
       "layout": "IPY_MODEL_662158d584fd41298520e7b97a1443ad"
      }
     },
     "5a9127dc94eb4a6aa7fd95a7609e2e48": {
      "model_module": "@jupyter-widgets/base",
      "model_module_version": "1.0.0",
      "model_name": "LayoutModel",
      "state": {
       "width": "600px"
      }
     },
     "5ae1ed009bde47f5b389fff10fa58aeb": {
      "model_module": "@jupyter-widgets/base",
      "model_module_version": "1.0.0",
      "model_name": "LayoutModel",
      "state": {
       "width": "250px"
      }
     },
     "5b2dfedbc62443d292a291566b5a318a": {
      "model_module": "@jupyter-widgets/controls",
      "model_module_version": "1.2.0",
      "model_name": "ButtonModel",
      "state": {
       "description": "Korrekt?",
       "layout": "IPY_MODEL_5ae1ed009bde47f5b389fff10fa58aeb",
       "style": "IPY_MODEL_d871e147088b49a3ae4da04f69fb608f"
      }
     },
     "5bad1dc31387475a9e8c0ebe63f17874": {
      "model_module": "@jupyter-widgets/controls",
      "model_module_version": "1.2.0",
      "model_name": "ButtonModel",
      "state": {
       "description": "Ja",
       "layout": "IPY_MODEL_64b3a31668c04e159be4da2e436afded",
       "style": "IPY_MODEL_685d3580dca74c208f7448e805b639d0"
      }
     },
     "5bc0070c509743c893e92b2c2b8ee17a": {
      "model_module": "@jupyter-widgets/controls",
      "model_module_version": "1.2.0",
      "model_name": "VBoxModel",
      "state": {
       "children": [
        "IPY_MODEL_4cca792facf542b6a477a63dde0cfb80",
        "IPY_MODEL_474bc6b65e0a43cf8194760af57d0cbe",
        "IPY_MODEL_424bf7a761ac4e94bebabc68a42767b6",
        "IPY_MODEL_4f3b5594ea4e4ab58123ba4ecaaf0457"
       ],
       "layout": "IPY_MODEL_13fefb1359bc4a3ba82535111bc5fdf3"
      }
     },
     "5bcf5e0ff2ba476b877bcf8bb6ab4e0a": {
      "model_module": "@jupyter-widgets/controls",
      "model_module_version": "1.2.0",
      "model_name": "VBoxModel",
      "state": {
       "children": [
        "IPY_MODEL_a096721c7fce4d63855a3e8ccd9ac745",
        "IPY_MODEL_dbcdcae04b6a4015a4bfb11dfce6ddd1",
        "IPY_MODEL_65907822205643c897704b096dbb8203",
        "IPY_MODEL_990548198212449f8dbfd947f53b19d4"
       ],
       "layout": "IPY_MODEL_31c1b433fa6c4194916e8606fdd1416d"
      }
     },
     "5bd02a7eb2424789becb73730d5e91a4": {
      "model_module": "@jupyter-widgets/base",
      "model_module_version": "1.0.0",
      "model_name": "LayoutModel",
      "state": {}
     },
     "5bd61760c9304e1988501dfaa3e607d6": {
      "model_module": "@jupyter-widgets/base",
      "model_module_version": "1.0.0",
      "model_name": "LayoutModel",
      "state": {
       "width": "600px"
      }
     },
     "5c52ab7335db42edaa047d69c0f4d007": {
      "model_module": "@jupyter-widgets/base",
      "model_module_version": "1.0.0",
      "model_name": "LayoutModel",
      "state": {
       "justify_content": "center"
      }
     },
     "5c56840f04ea49d7bbdd3e7fa1c3fb8a": {
      "model_module": "@jupyter-widgets/controls",
      "model_module_version": "1.2.0",
      "model_name": "DescriptionStyleModel",
      "state": {
       "description_width": "initial"
      }
     },
     "5d1b103dd8244392bbbda4347dc8bd2a": {
      "model_module": "@jupyter-widgets/controls",
      "model_module_version": "1.2.0",
      "model_name": "DescriptionStyleModel",
      "state": {
       "description_width": "initial"
      }
     },
     "5d71ababdae2441ba75d67b7628bb978": {
      "model_module": "@jupyter-widgets/base",
      "model_module_version": "1.0.0",
      "model_name": "LayoutModel",
      "state": {
       "width": "150px"
      }
     },
     "5dc190162ada403ab8f6474009b31735": {
      "model_module": "@jupyter-widgets/controls",
      "model_module_version": "1.2.0",
      "model_name": "VBoxModel",
      "state": {
       "children": [
        "IPY_MODEL_f1ba0f68d73347f1a31112f03837be26",
        "IPY_MODEL_f7f2e57e36974c0aaaaf324939cf7b0f",
        "IPY_MODEL_31616aa1441e46d7a919219ed217cac8",
        "IPY_MODEL_4a3887e9c5f742aaa29a456e0e2640be"
       ],
       "layout": "IPY_MODEL_df40ec3778e24b9b930ecff05481ecbd"
      }
     },
     "5e001573f5054abebde1f4343568d8ca": {
      "model_module": "@jupyter-widgets/base",
      "model_module_version": "1.0.0",
      "model_name": "LayoutModel",
      "state": {
       "width": "600px"
      }
     },
     "5e5af52186a340c88596380715df4d02": {
      "model_module": "@jupyter-widgets/controls",
      "model_module_version": "1.2.0",
      "model_name": "DescriptionStyleModel",
      "state": {
       "description_width": ""
      }
     },
     "5e64510fa9034a2d8d6b963f3fcd141b": {
      "model_module": "@jupyter-widgets/base",
      "model_module_version": "1.0.0",
      "model_name": "LayoutModel",
      "state": {
       "width": "600px"
      }
     },
     "5e659096c2d442fcabf3f10b7b6f7d1f": {
      "model_module": "@jupyter-widgets/controls",
      "model_module_version": "1.2.0",
      "model_name": "ButtonStyleModel",
      "state": {}
     },
     "5ebf9dc85cf84c039105857353270efd": {
      "model_module": "@jupyter-widgets/base",
      "model_module_version": "1.0.0",
      "model_name": "LayoutModel",
      "state": {
       "justify_content": "center"
      }
     },
     "5ececba234734462b33815f305de5c89": {
      "model_module": "@jupyter-widgets/controls",
      "model_module_version": "1.2.0",
      "model_name": "HBoxModel",
      "state": {
       "children": [
        "IPY_MODEL_8eebfb48e10b4f438b898a5468061bd5",
        "IPY_MODEL_d3f09398aee64f8a9c14f2696d3b3a35"
       ],
       "layout": "IPY_MODEL_ed1dec5a96b14dd09ec04ac2854b662f"
      }
     },
     "6054df56dab2449db6665eb1dd7e95db": {
      "model_module": "@jupyter-widgets/controls",
      "model_module_version": "1.2.0",
      "model_name": "DescriptionStyleModel",
      "state": {
       "description_width": ""
      }
     },
     "60931ade6f3046d3915fe1b3aba3ce14": {
      "model_module": "@jupyter-widgets/controls",
      "model_module_version": "1.2.0",
      "model_name": "DescriptionStyleModel",
      "state": {
       "description_width": ""
      }
     },
     "60cb98a76b214d62ae785b677594730a": {
      "model_module": "@jupyter-widgets/controls",
      "model_module_version": "1.2.0",
      "model_name": "DescriptionStyleModel",
      "state": {
       "description_width": ""
      }
     },
     "60d13051cf204a00bf0a040dc066b786": {
      "model_module": "@jupyter-widgets/controls",
      "model_module_version": "1.2.0",
      "model_name": "DescriptionStyleModel",
      "state": {
       "description_width": ""
      }
     },
     "62a85cc42c474651a15c7344a1ccca25": {
      "model_module": "@jupyter-widgets/controls",
      "model_module_version": "1.2.0",
      "model_name": "DescriptionStyleModel",
      "state": {
       "description_width": ""
      }
     },
     "6386ad69206244438857dab0f1db1207": {
      "model_module": "@jupyter-widgets/controls",
      "model_module_version": "1.2.0",
      "model_name": "VBoxModel",
      "state": {
       "children": [
        "IPY_MODEL_47a4e5be6bc14969a44f050c6f5378e8",
        "IPY_MODEL_e81468eebee0466bacf7abdcda23488e",
        "IPY_MODEL_efca585a36454b09a382be5a351dd9c5",
        "IPY_MODEL_3073e825a64e4845a18249770bf88601"
       ],
       "layout": "IPY_MODEL_745e1ee453f140bc90a72316d3b4190b"
      }
     },
     "63ae0e55fd6b4bed84f7540ee0a08930": {
      "model_module": "@jupyter-widgets/controls",
      "model_module_version": "1.2.0",
      "model_name": "DescriptionStyleModel",
      "state": {
       "description_width": "initial"
      }
     },
     "64b3a31668c04e159be4da2e436afded": {
      "model_module": "@jupyter-widgets/base",
      "model_module_version": "1.0.0",
      "model_name": "LayoutModel",
      "state": {
       "width": "250px"
      }
     },
     "65907822205643c897704b096dbb8203": {
      "model_module": "@jupyter-widgets/controls",
      "model_module_version": "1.2.0",
      "model_name": "VBoxModel",
      "state": {
       "children": [
        "IPY_MODEL_51ff2ef29225469b80134f7127f8ad66",
        "IPY_MODEL_66f74798c8d14722bdcb8a77a59d75fb"
       ],
       "layout": "IPY_MODEL_e22e3eb13c9248028fb5d871fae60a01"
      }
     },
     "65bd3f6989574293921756bd0277663f": {
      "model_module": "@jupyter-widgets/base",
      "model_module_version": "1.0.0",
      "model_name": "LayoutModel",
      "state": {
       "width": "250px"
      }
     },
     "65e93ad881b846f9a2f55cd61f10c339": {
      "model_module": "@jupyter-widgets/controls",
      "model_module_version": "1.2.0",
      "model_name": "DropdownModel",
      "state": {
       "_options_labels": [
        " ",
        "Adverb",
        "Adverbial",
        " "
       ],
       "index": 2,
       "layout": "IPY_MODEL_8b7543558abd4949b7b08dad004a4ba3",
       "style": "IPY_MODEL_00f436be1c914c72a35fe92831cdcaf9"
      }
     },
     "662158d584fd41298520e7b97a1443ad": {
      "model_module": "@jupyter-widgets/base",
      "model_module_version": "1.0.0",
      "model_name": "LayoutModel",
      "state": {}
     },
     "66670285c8754d4f9ead47a571c70bab": {
      "model_module": "@jupyter-widgets/base",
      "model_module_version": "1.0.0",
      "model_name": "LayoutModel",
      "state": {}
     },
     "66f74798c8d14722bdcb8a77a59d75fb": {
      "model_module": "@jupyter-widgets/controls",
      "model_module_version": "1.2.0",
      "model_name": "CheckboxModel",
      "state": {
       "description": "Die neue Kollegin fährt zu ihrem neuen Arbeitsplatz.",
       "disabled": false,
       "layout": "IPY_MODEL_97d1f450c845413f9ed6900ce3417eb5",
       "style": "IPY_MODEL_8abd73f5fc4d451c9b59ce74004be39c",
       "value": true
      }
     },
     "670d156936b84c1a8ac05b4a232005c9": {
      "model_module": "@jupyter-widgets/controls",
      "model_module_version": "1.2.0",
      "model_name": "DescriptionStyleModel",
      "state": {
       "description_width": ""
      }
     },
     "671c6ae3e82e4219b45873f41d36d43f": {
      "model_module": "@jupyter-widgets/controls",
      "model_module_version": "1.2.0",
      "model_name": "VBoxModel",
      "state": {
       "children": [
        "IPY_MODEL_beca5b489c3b416f8767e11b641918cc",
        "IPY_MODEL_3b9874feeccf420b916b7e44a748352d",
        "IPY_MODEL_47df3c17d80441d3968d320facfc4a04",
        "IPY_MODEL_448f468c68ae4b468dec9892c5f0e1b9"
       ],
       "layout": "IPY_MODEL_508d396ecf0846a1a91de497bd58ad19"
      }
     },
     "672517952be948eaa168363c600956b1": {
      "model_module": "@jupyter-widgets/controls",
      "model_module_version": "1.2.0",
      "model_name": "ButtonStyleModel",
      "state": {}
     },
     "6750fa98116643cc84902a0e8039aafa": {
      "model_module": "@jupyter-widgets/controls",
      "model_module_version": "1.2.0",
      "model_name": "VBoxModel",
      "state": {
       "children": [
        "IPY_MODEL_c1c5e196400b4539b405db98bddc08fb",
        "IPY_MODEL_14010f5ce43a4afb90f4aa0dd6b29498",
        "IPY_MODEL_498a920610f740558ef2500a886c706c",
        "IPY_MODEL_109ebf61b03c4cee972ea913d2415acd"
       ],
       "layout": "IPY_MODEL_957b14509b524678920ea22f8a65b0c0"
      }
     },
     "677f86d2e1c6462e9a67d84fb42b4b9a": {
      "model_module": "@jupyter-widgets/base",
      "model_module_version": "1.0.0",
      "model_name": "LayoutModel",
      "state": {
       "justify_content": "center"
      }
     },
     "67bc4178d89240e3a29abae467b3d4ce": {
      "model_module": "@jupyter-widgets/controls",
      "model_module_version": "1.2.0",
      "model_name": "DescriptionStyleModel",
      "state": {
       "description_width": ""
      }
     },
     "67c515fdc5864ecfb9c79d48769b022d": {
      "model_module": "@jupyter-widgets/base",
      "model_module_version": "1.0.0",
      "model_name": "LayoutModel",
      "state": {}
     },
     "67ed4b15cdac48ceb188d4dadcd99522": {
      "model_module": "@jupyter-widgets/base",
      "model_module_version": "1.0.0",
      "model_name": "LayoutModel",
      "state": {
       "width": "150px"
      }
     },
     "68297f9aef074ca1b8e03c73e2dc3ff7": {
      "model_module": "@jupyter-widgets/controls",
      "model_module_version": "1.2.0",
      "model_name": "CheckboxModel",
      "state": {
       "description": "Adverbialsatz-Test",
       "disabled": false,
       "layout": "IPY_MODEL_0e5c0ba3a94a4230900c0dbd5ef4cd28",
       "style": "IPY_MODEL_63ae0e55fd6b4bed84f7540ee0a08930",
       "value": false
      }
     },
     "685d3580dca74c208f7448e805b639d0": {
      "model_module": "@jupyter-widgets/controls",
      "model_module_version": "1.2.0",
      "model_name": "ButtonStyleModel",
      "state": {
       "button_color": "lightgreen"
      }
     },
     "69200ddf0f124f8bb3be5745aef6fa11": {
      "model_module": "@jupyter-widgets/controls",
      "model_module_version": "1.2.0",
      "model_name": "CheckboxModel",
      "state": {
       "description": "Relativierbarkeit (<i>..der Diebstahl, dessen man ihn endlich überführt hat</i>)",
       "disabled": false,
       "layout": "IPY_MODEL_931f79dd037b440982bd0ab08cfefbed",
       "style": "IPY_MODEL_b27845674e1a4827ae0259b9e9f2a36b",
       "value": false
      }
     },
     "69302ce0a7ea46148485f56b4fdb0f7a": {
      "model_module": "@jupyter-widgets/base",
      "model_module_version": "1.0.0",
      "model_name": "LayoutModel",
      "state": {
       "width": "600px"
      }
     },
     "699a0461a0034e938789567e6197905e": {
      "model_module": "@jupyter-widgets/base",
      "model_module_version": "1.0.0",
      "model_name": "LayoutModel",
      "state": {
       "width": "600px"
      }
     },
     "69a20a8156f54ed7b93af93983186682": {
      "model_module": "@jupyter-widgets/base",
      "model_module_version": "1.0.0",
      "model_name": "LayoutModel",
      "state": {
       "width": "600px"
      }
     },
     "69ff90f6dbe849f99787698d2821e8f1": {
      "model_module": "@jupyter-widgets/controls",
      "model_module_version": "1.2.0",
      "model_name": "ButtonStyleModel",
      "state": {
       "button_color": "lightgreen"
      }
     },
     "6a39e75883a940eb85432d720526b968": {
      "model_module": "@jupyter-widgets/base",
      "model_module_version": "1.0.0",
      "model_name": "LayoutModel",
      "state": {
       "width": "600px"
      }
     },
     "6b39e723a15f4f4483259ad381d5d197": {
      "model_module": "@jupyter-widgets/base",
      "model_module_version": "1.0.0",
      "model_name": "LayoutModel",
      "state": {
       "width": "250px"
      }
     },
     "6bd20a859b3a46c3ac1e1ac14e93a28c": {
      "model_module": "@jupyter-widgets/controls",
      "model_module_version": "1.2.0",
      "model_name": "BoxModel",
      "state": {
       "children": [
        "IPY_MODEL_5457559adaa74ab4af1db94cbf7b8bc4",
        "IPY_MODEL_c396d3b4328a4c2d857ee763caf69b58",
        "IPY_MODEL_38e04d3d29e147baaf2332bd48f0aa7c",
        "IPY_MODEL_6da7d50192e9442ba3bae96b13347703",
        "IPY_MODEL_4acf9f34621549b58a6222a8bf2d26c8",
        "IPY_MODEL_1d074cbcf2204f698b3761ebde57e5e3",
        "IPY_MODEL_d4126d2a5f1d483cac6d8166e305d894",
        "IPY_MODEL_d2153baa5ccd4eceb93b615fe324be7d",
        "IPY_MODEL_48de9ea877444e2ba86d98fa623700ef"
       ],
       "layout": "IPY_MODEL_0776562d4e1441f3ac59e6881595cff6"
      }
     },
     "6cc0427962e247229bff56319401d334": {
      "model_module": "@jupyter-widgets/base",
      "model_module_version": "1.0.0",
      "model_name": "LayoutModel",
      "state": {}
     },
     "6d4e0f8fcd6f4991a27ef7620ac34bc5": {
      "model_module": "@jupyter-widgets/base",
      "model_module_version": "1.0.0",
      "model_name": "LayoutModel",
      "state": {}
     },
     "6d68473f6a494d31b1a1e3baea89a7bb": {
      "model_module": "@jupyter-widgets/base",
      "model_module_version": "1.0.0",
      "model_name": "LayoutModel",
      "state": {
       "width": "250px"
      }
     },
     "6da7d50192e9442ba3bae96b13347703": {
      "model_module": "@jupyter-widgets/controls",
      "model_module_version": "1.2.0",
      "model_name": "DropdownModel",
      "state": {
       "_options_labels": [
        "Lokaladverbial",
        "Modaladverbial",
        " "
       ],
       "index": 1,
       "layout": "IPY_MODEL_e30e54c6cced43c4be2d23188888c098",
       "style": "IPY_MODEL_385622cd6b004170bc40c244db403ae8"
      }
     },
     "6df213eace984600b864de9fc79ebc29": {
      "model_module": "@jupyter-widgets/controls",
      "model_module_version": "1.2.0",
      "model_name": "CheckboxModel",
      "state": {
       "description": "3. Satz (das Pferd)",
       "disabled": false,
       "layout": "IPY_MODEL_e64f5ef8ed824e408bd7e37674ba56c3",
       "style": "IPY_MODEL_81f61d2c18e3461da272c063f477e584",
       "value": false
      }
     },
     "6ec98c5d09cf402993f7640bdf8b6aed": {
      "model_module": "@jupyter-widgets/controls",
      "model_module_version": "1.2.0",
      "model_name": "DescriptionStyleModel",
      "state": {
       "description_width": "initial"
      }
     },
     "6f7fcc2aeb5c499ab9eb0627cfad2dab": {
      "model_module": "@jupyter-widgets/controls",
      "model_module_version": "1.2.0",
      "model_name": "CheckboxModel",
      "state": {
       "description": "Agenseigenschaften",
       "disabled": false,
       "layout": "IPY_MODEL_8486feb298f547bf956d028d5054142c",
       "style": "IPY_MODEL_2f68ca0f7f2f4da38f2c900f067bd3b5",
       "value": false
      }
     },
     "6fd403dc2fe0481ebbb7d8695063f787": {
      "model_module": "@jupyter-widgets/base",
      "model_module_version": "1.0.0",
      "model_name": "LayoutModel",
      "state": {
       "width": "250px"
      }
     },
     "70e819e3f5894f0bbe105276432a5b64": {
      "model_module": "@jupyter-widgets/controls",
      "model_module_version": "1.2.0",
      "model_name": "DescriptionStyleModel",
      "state": {
       "description_width": "initial"
      }
     },
     "7178b77700a04215b61cc25d31a7c20d": {
      "model_module": "@jupyter-widgets/base",
      "model_module_version": "1.0.0",
      "model_name": "LayoutModel",
      "state": {}
     },
     "7180c29d86ff429cb869c2f1601e5408": {
      "model_module": "@jupyter-widgets/controls",
      "model_module_version": "1.2.0",
      "model_name": "DescriptionStyleModel",
      "state": {
       "description_width": ""
      }
     },
     "71990712a5754fcb863e35b55669f5df": {
      "model_module": "@jupyter-widgets/controls",
      "model_module_version": "1.2.0",
      "model_name": "ButtonModel",
      "state": {
       "description": "präpositionales Attribut",
       "layout": "IPY_MODEL_c579ed54ecd34eecb1f245f1d0bb0742",
       "style": "IPY_MODEL_c5bf0874a6cf41ca9a52c822eeba7f58"
      }
     },
     "725f3643cc6a415e8db80fda5ab270c0": {
      "model_module": "@jupyter-widgets/controls",
      "model_module_version": "1.2.0",
      "model_name": "DescriptionStyleModel",
      "state": {
       "description_width": ""
      }
     },
     "727e41cf1660451d9ee08e9a12323604": {
      "model_module": "@jupyter-widgets/controls",
      "model_module_version": "1.2.0",
      "model_name": "VBoxModel",
      "state": {
       "children": [
        "IPY_MODEL_00482aaae895444c848b041a93e41e61",
        "IPY_MODEL_9723531c83b54b19a75d68999fb03a41",
        "IPY_MODEL_c768e6f183c447d8a0daf39460315fe0"
       ],
       "layout": "IPY_MODEL_6d4e0f8fcd6f4991a27ef7620ac34bc5"
      }
     },
     "72b3653c2c104ceabf0df6dffe389041": {
      "model_module": "@jupyter-widgets/controls",
      "model_module_version": "1.2.0",
      "model_name": "DescriptionStyleModel",
      "state": {
       "description_width": ""
      }
     },
     "745e1ee453f140bc90a72316d3b4190b": {
      "model_module": "@jupyter-widgets/base",
      "model_module_version": "1.0.0",
      "model_name": "LayoutModel",
      "state": {}
     },
     "749412c9b8a14d43840f8fd0b4e9ea1c": {
      "model_module": "@jupyter-widgets/controls",
      "model_module_version": "1.2.0",
      "model_name": "DescriptionStyleModel",
      "state": {
       "description_width": ""
      }
     },
     "753454474ad74f7b893cce5960ced2fe": {
      "model_module": "@jupyter-widgets/base",
      "model_module_version": "1.0.0",
      "model_name": "LayoutModel",
      "state": {
       "justify_content": "center"
      }
     },
     "7675d6496ea443a8beeed6768fc63115": {
      "model_module": "@jupyter-widgets/controls",
      "model_module_version": "1.2.0",
      "model_name": "DropdownModel",
      "state": {
       "_options_labels": [
        "Angabe",
        "Ergänzung",
        " "
       ],
       "index": 0,
       "layout": "IPY_MODEL_eff5bdf67377456abee34424a6e0ef17",
       "style": "IPY_MODEL_f1e9dbf4334845ccbc8260eda44b18a1"
      }
     },
     "7684cb002b8f4fdaa323d20b26e7f57c": {
      "model_module": "@jupyter-widgets/controls",
      "model_module_version": "1.2.0",
      "model_name": "ButtonStyleModel",
      "state": {
       "button_color": "lightgreen"
      }
     },
     "76f3c9c124574423b8328f44ee5718d8": {
      "model_module": "@jupyter-widgets/controls",
      "model_module_version": "1.2.0",
      "model_name": "ButtonStyleModel",
      "state": {}
     },
     "777974f688e8438fbf8d82d110e8e44d": {
      "model_module": "@jupyter-widgets/controls",
      "model_module_version": "1.2.0",
      "model_name": "DescriptionStyleModel",
      "state": {
       "description_width": ""
      }
     },
     "77bf7ed5fcf34c9c8ea12be83551115a": {
      "model_module": "@jupyter-widgets/controls",
      "model_module_version": "1.2.0",
      "model_name": "ButtonStyleModel",
      "state": {
       "button_color": "lightgreen"
      }
     },
     "7815053826c843d0b8e15c120dc43165": {
      "model_module": "@jupyter-widgets/controls",
      "model_module_version": "1.2.0",
      "model_name": "DescriptionStyleModel",
      "state": {
       "description_width": "initial"
      }
     },
     "78804797305a4b64891ccb6fbdba00a0": {
      "model_module": "@jupyter-widgets/controls",
      "model_module_version": "1.2.0",
      "model_name": "HTMLModel",
      "state": {
       "layout": "IPY_MODEL_505cc328c0454016905da5d2f4d81789",
       "style": "IPY_MODEL_cee23e31a8f54b07b62f0987b291d19c",
       "value": "<i>Wählen Sie die <ins>eine</ins> korrekte Antwort aus: </i>"
      }
     },
     "78fe67d830d64572ae11fc1a91aa80c7": {
      "model_module": "@jupyter-widgets/base",
      "model_module_version": "1.0.0",
      "model_name": "LayoutModel",
      "state": {
       "width": "600px"
      }
     },
     "7908a99c16be4d919c02577353fd1860": {
      "model_module": "@jupyter-widgets/controls",
      "model_module_version": "1.2.0",
      "model_name": "CheckboxModel",
      "state": {
       "description": "keine Eigensemantik",
       "disabled": false,
       "layout": "IPY_MODEL_5e001573f5054abebde1f4343568d8ca",
       "style": "IPY_MODEL_f2434f457d924369be55560e462dbe1e",
       "value": true
      }
     },
     "7911b64f53534762afe198c6553a342d": {
      "model_module": "@jupyter-widgets/controls",
      "model_module_version": "1.2.0",
      "model_name": "DescriptionStyleModel",
      "state": {
       "description_width": "initial"
      }
     },
     "7939a8c1240642118c775a60d76f01d7": {
      "model_module": "@jupyter-widgets/controls",
      "model_module_version": "1.2.0",
      "model_name": "DropdownModel",
      "state": {
       "_options_labels": [
        "Dependenz",
        "Valenz",
        " "
       ],
       "index": 0,
       "layout": "IPY_MODEL_67ed4b15cdac48ceb188d4dadcd99522",
       "style": "IPY_MODEL_777974f688e8438fbf8d82d110e8e44d"
      }
     },
     "796026c4506d423bbaba41424f5c882f": {
      "model_module": "@jupyter-widgets/base",
      "model_module_version": "1.0.0",
      "model_name": "LayoutModel",
      "state": {}
     },
     "7963098d4343426f9642f37376ff6fdf": {
      "model_module": "@jupyter-widgets/controls",
      "model_module_version": "1.2.0",
      "model_name": "DescriptionStyleModel",
      "state": {
       "description_width": ""
      }
     },
     "79e7b6b689714bcfb2cf20fefaff6e7c": {
      "model_module": "@jupyter-widgets/controls",
      "model_module_version": "1.2.0",
      "model_name": "ButtonStyleModel",
      "state": {}
     },
     "7a2646e02cb04da6a9dfcfdfd33bfad5": {
      "model_module": "@jupyter-widgets/controls",
      "model_module_version": "1.2.0",
      "model_name": "DescriptionStyleModel",
      "state": {
       "description_width": "initial"
      }
     },
     "7aa309226fd6432abdf4dc498a142146": {
      "model_module": "@jupyter-widgets/controls",
      "model_module_version": "1.2.0",
      "model_name": "ButtonModel",
      "state": {
       "description": "Genitivattribut",
       "layout": "IPY_MODEL_a3b1a95653a04bdf9e68b004ffbe0686",
       "style": "IPY_MODEL_117534b1180c4798b8a53efd408aabf0"
      }
     },
     "7ab690b108cf40f1b4baea0b620e2aad": {
      "model_module": "@jupyter-widgets/controls",
      "model_module_version": "1.2.0",
      "model_name": "ButtonStyleModel",
      "state": {
       "button_color": "lightgreen"
      }
     },
     "7ab6ad430bd3440c9638917efcab0675": {
      "model_module": "@jupyter-widgets/controls",
      "model_module_version": "1.2.0",
      "model_name": "DescriptionStyleModel",
      "state": {
       "description_width": ""
      }
     },
     "7aca852032d24027807b331d7c2ffe51": {
      "model_module": "@jupyter-widgets/base",
      "model_module_version": "1.0.0",
      "model_name": "LayoutModel",
      "state": {}
     },
     "7af9ab116a474b59a8bce7313fca2f62": {
      "model_module": "@jupyter-widgets/controls",
      "model_module_version": "1.2.0",
      "model_name": "CheckboxModel",
      "state": {
       "description": "2. Satz (das Pferd)",
       "disabled": false,
       "layout": "IPY_MODEL_bd465e7ccb5141a79b23fff86db97df0",
       "style": "IPY_MODEL_06bbc9b9517d46a5868d25e7bd22717e",
       "value": false
      }
     },
     "7b9dca1ecaaa4d8c83f3b27bd5d055ae": {
      "model_module": "@jupyter-widgets/controls",
      "model_module_version": "1.2.0",
      "model_name": "DescriptionStyleModel",
      "state": {
       "description_width": ""
      }
     },
     "7c074d82d12c4977bbabe0c5fa35d47b": {
      "model_module": "@jupyter-widgets/controls",
      "model_module_version": "1.2.0",
      "model_name": "VBoxModel",
      "state": {
       "children": [
        "IPY_MODEL_c6b8ff1206974f7cbfbf7d24225931ff",
        "IPY_MODEL_e369c40f9d2a45d18e41f2553ce8327c",
        "IPY_MODEL_47d5659b6f0a43218f1856006de8caeb"
       ],
       "layout": "IPY_MODEL_12f744eda3124a2d842c6b71a06d6ac2"
      }
     },
     "7ca2e5a40db841ef8a5c51b52a8ee902": {
      "model_module": "@jupyter-widgets/controls",
      "model_module_version": "1.2.0",
      "model_name": "HBoxModel",
      "state": {
       "children": [
        "IPY_MODEL_b1330fea29d04186b8cc244b1fbf25c9",
        "IPY_MODEL_71990712a5754fcb863e35b55669f5df"
       ],
       "layout": "IPY_MODEL_3cfccf9886e34a3d921b7d6063f7c48e"
      }
     },
     "7d2ccdee01aa45638d02493cde3e77bf": {
      "model_module": "@jupyter-widgets/controls",
      "model_module_version": "1.2.0",
      "model_name": "DescriptionStyleModel",
      "state": {
       "description_width": "initial"
      }
     },
     "7d4999a247f246f3a77c8645086766ac": {
      "model_module": "@jupyter-widgets/controls",
      "model_module_version": "1.2.0",
      "model_name": "HTMLModel",
      "state": {
       "layout": "IPY_MODEL_c4d377bb33e347f38cfbfbe948d106ca",
       "style": "IPY_MODEL_48024198c56c4630a1dd662b2a4f0c39",
       "value": "<h4 style=\"font-size:14px;\">Was gilt <b>nicht</b> für die NP <i> ein Fehler </i> ?</h4>"
      }
     },
     "7d5d7af75f8e4b8f89ab3931f5e1efab": {
      "model_module": "@jupyter-widgets/base",
      "model_module_version": "1.0.0",
      "model_name": "LayoutModel",
      "state": {
       "width": "250px"
      }
     },
     "7dc0cae0fa7d4802b27aaadf7f9edd38": {
      "model_module": "@jupyter-widgets/base",
      "model_module_version": "1.0.0",
      "model_name": "LayoutModel",
      "state": {
       "width": "600px"
      }
     },
     "7e194ccce69f4e81aa3f9e9220209409": {
      "model_module": "@jupyter-widgets/controls",
      "model_module_version": "1.2.0",
      "model_name": "HTMLModel",
      "state": {
       "layout": "IPY_MODEL_3053fbc25ac7407eac486413491952f6",
       "style": "IPY_MODEL_e08b94f66ddb4490b13b463e09a3b714",
       "value": "<h4 style=\"font-size:14px;\">Wieso?</h4>"
      }
     },
     "7edbfa97b86e4ca9a6d4e95ce1657f52": {
      "model_module": "@jupyter-widgets/controls",
      "model_module_version": "1.2.0",
      "model_name": "DescriptionStyleModel",
      "state": {
       "description_width": ""
      }
     },
     "7fb2651c795b4a9abb074d5179bf9c06": {
      "model_module": "@jupyter-widgets/controls",
      "model_module_version": "1.2.0",
      "model_name": "DescriptionStyleModel",
      "state": {
       "description_width": ""
      }
     },
     "80ad82901f4646ca91d9dc51931309a3": {
      "model_module": "@jupyter-widgets/controls",
      "model_module_version": "1.2.0",
      "model_name": "ButtonStyleModel",
      "state": {}
     },
     "81057a62183f4cc185d27d1a25c8b37d": {
      "model_module": "@jupyter-widgets/base",
      "model_module_version": "1.0.0",
      "model_name": "LayoutModel",
      "state": {
       "width": "600px"
      }
     },
     "8105def40d674229a644cfa60a78faaa": {
      "model_module": "@jupyter-widgets/base",
      "model_module_version": "1.0.0",
      "model_name": "LayoutModel",
      "state": {
       "width": "600px"
      }
     },
     "81c1085918fa42dba0a97020110e4a6d": {
      "model_module": "@jupyter-widgets/controls",
      "model_module_version": "1.2.0",
      "model_name": "HTMLModel",
      "state": {
       "layout": "IPY_MODEL_43173ad285074576bc0163180093fcf5",
       "style": "IPY_MODEL_bbf0c2c2eaf849a092661cfd31042c9c",
       "value": "<h4 style=\"font-size:14px;\">Welche im Deutschen für das Objekt typische Kriterien werden dagegen nicht erfüllt?</h4>"
      }
     },
     "81f61d2c18e3461da272c063f477e584": {
      "model_module": "@jupyter-widgets/controls",
      "model_module_version": "1.2.0",
      "model_name": "DescriptionStyleModel",
      "state": {
       "description_width": "initial"
      }
     },
     "83a6b66f538d41d386d478434c1ad5bd": {
      "model_module": "@jupyter-widgets/controls",
      "model_module_version": "1.2.0",
      "model_name": "DescriptionStyleModel",
      "state": {
       "description_width": "initial"
      }
     },
     "8453b0679035467cb8589a84884b1a5c": {
      "model_module": "@jupyter-widgets/base",
      "model_module_version": "1.0.0",
      "model_name": "LayoutModel",
      "state": {}
     },
     "84614c4234254f00b70a81b616493a1d": {
      "model_module": "@jupyter-widgets/controls",
      "model_module_version": "1.2.0",
      "model_name": "ButtonModel",
      "state": {
       "description": "Korrekt?",
       "layout": "IPY_MODEL_27fbcde1ebd04ff4bf70bd58f104ea02",
       "style": "IPY_MODEL_20a8d11c7591474d95525d46c63a2eb9"
      }
     },
     "8465f1e36df646a58668d35680321803": {
      "model_module": "@jupyter-widgets/base",
      "model_module_version": "1.0.0",
      "model_name": "LayoutModel",
      "state": {}
     },
     "846ba10b5c024d9a9cd642d4554d66b3": {
      "model_module": "@jupyter-widgets/controls",
      "model_module_version": "1.2.0",
      "model_name": "HBoxModel",
      "state": {
       "children": [
        "IPY_MODEL_54dd4cddb27b485192665b64a9d73549"
       ],
       "layout": "IPY_MODEL_192daa7614a1464db43bc0f546bbc0fa"
      }
     },
     "8486feb298f547bf956d028d5054142c": {
      "model_module": "@jupyter-widgets/base",
      "model_module_version": "1.0.0",
      "model_name": "LayoutModel",
      "state": {
       "width": "600px"
      }
     },
     "84fe9718435740a386f09925fd6b3b9e": {
      "model_module": "@jupyter-widgets/base",
      "model_module_version": "1.0.0",
      "model_name": "LayoutModel",
      "state": {
       "width": "600px"
      }
     },
     "85e9d759ef3e431393086f7499e6f01d": {
      "model_module": "@jupyter-widgets/controls",
      "model_module_version": "1.2.0",
      "model_name": "ButtonStyleModel",
      "state": {
       "button_color": "lightgreen"
      }
     },
     "866c4020a1664a08bd46e0b38c496cc9": {
      "model_module": "@jupyter-widgets/base",
      "model_module_version": "1.0.0",
      "model_name": "LayoutModel",
      "state": {
       "align_content": "stretch",
       "align_items": "stretch",
       "display": "inline-flex",
       "flex": "flex-grow",
       "flex_flow": "row wrap",
       "justify_content": "flex-start"
      }
     },
     "869820ea66f4441d9d7e33db4a326c7d": {
      "model_module": "@jupyter-widgets/controls",
      "model_module_version": "1.2.0",
      "model_name": "CheckboxModel",
      "state": {
       "description": "2. Satz (das Pferd)",
       "disabled": false,
       "layout": "IPY_MODEL_699a0461a0034e938789567e6197905e",
       "style": "IPY_MODEL_5856bfc74aed43b8b4ea72a10cf8d12c",
       "value": false
      }
     },
     "879dd2b50bb4494aa113d3c04845e759": {
      "model_module": "@jupyter-widgets/base",
      "model_module_version": "1.0.0",
      "model_name": "LayoutModel",
      "state": {
       "width": "150px"
      }
     },
     "87d3fa5a5f7e4da3b9eb02e8d5b51c54": {
      "model_module": "@jupyter-widgets/base",
      "model_module_version": "1.0.0",
      "model_name": "LayoutModel",
      "state": {
       "justify_content": "center"
      }
     },
     "87e2fb9629ea4c1994203a6920fb6f90": {
      "model_module": "@jupyter-widgets/controls",
      "model_module_version": "1.2.0",
      "model_name": "ButtonModel",
      "state": {
       "description": "Korrekt?",
       "layout": "IPY_MODEL_00994b43485c44c09fbad885a776feb5",
       "style": "IPY_MODEL_368ed3ad7b124a7a8e1788685496c8f7"
      }
     },
     "891fba0198ad4577916b80ab9c332f78": {
      "model_module": "@jupyter-widgets/base",
      "model_module_version": "1.0.0",
      "model_name": "LayoutModel",
      "state": {
       "width": "600px"
      }
     },
     "894ae93acab64d2295ce99b2923c1c31": {
      "model_module": "@jupyter-widgets/controls",
      "model_module_version": "1.2.0",
      "model_name": "DescriptionStyleModel",
      "state": {
       "description_width": ""
      }
     },
     "89836b88d7404e3a9402cd9c936b5bbd": {
      "model_module": "@jupyter-widgets/controls",
      "model_module_version": "1.2.0",
      "model_name": "DescriptionStyleModel",
      "state": {
       "description_width": "initial"
      }
     },
     "89b7193ba19a4f07b08db1fe575bbb02": {
      "model_module": "@jupyter-widgets/base",
      "model_module_version": "1.0.0",
      "model_name": "LayoutModel",
      "state": {
       "justify_content": "center"
      }
     },
     "89bcb5486e654e28a3607e3e6ffdeee5": {
      "model_module": "@jupyter-widgets/controls",
      "model_module_version": "1.2.0",
      "model_name": "DescriptionStyleModel",
      "state": {
       "description_width": ""
      }
     },
     "8a2d760e9b904e1d93dd4801b58d7e44": {
      "model_module": "@jupyter-widgets/controls",
      "model_module_version": "1.2.0",
      "model_name": "VBoxModel",
      "state": {
       "children": [
        "IPY_MODEL_3fd73997f63b4ed18d1837af1b45e0ef",
        "IPY_MODEL_0f40ad647f1f49cb9e7d4eb15f7c7a8b",
        "IPY_MODEL_de662d4c96a24d99bda75520e821197b"
       ],
       "layout": "IPY_MODEL_f9b0f68f14634406bdd59ff2e2bdc504"
      }
     },
     "8a39c8c95faf4e4f9725bc4986447691": {
      "model_module": "@jupyter-widgets/controls",
      "model_module_version": "1.2.0",
      "model_name": "HTMLModel",
      "state": {
       "layout": "IPY_MODEL_cf6da34026424889b98d4cc82ea0390a",
       "style": "IPY_MODEL_ce0bd514e6a14fdfbdfab023a8a171ec",
       "value": "<h4 style=\"font-size:14px;\">Unter der Annahmen, dass alle Adverbiale Angaben sind: in welchen der Sätze ist das in Frage stehende Satzglied eine Angabe?</h4>"
      }
     },
     "8abd73f5fc4d451c9b59ce74004be39c": {
      "model_module": "@jupyter-widgets/controls",
      "model_module_version": "1.2.0",
      "model_name": "DescriptionStyleModel",
      "state": {
       "description_width": "initial"
      }
     },
     "8af7f2fba1854c799903aa2cef1068f3": {
      "model_module": "@jupyter-widgets/base",
      "model_module_version": "1.0.0",
      "model_name": "LayoutModel",
      "state": {
       "width": "150px"
      }
     },
     "8afe280e6d3b4fdbab51a57e86fa979e": {
      "model_module": "@jupyter-widgets/base",
      "model_module_version": "1.0.0",
      "model_name": "LayoutModel",
      "state": {
       "justify_content": "center"
      }
     },
     "8b00d1bbc75445bd8fe772740f3defaa": {
      "model_module": "@jupyter-widgets/controls",
      "model_module_version": "1.2.0",
      "model_name": "CheckboxModel",
      "state": {
       "description": "Verb kongruiert mit NP",
       "disabled": false,
       "layout": "IPY_MODEL_78fe67d830d64572ae11fc1a91aa80c7",
       "style": "IPY_MODEL_c62c9303781740f6bdcfe257ab8dbd6b",
       "value": false
      }
     },
     "8b7543558abd4949b7b08dad004a4ba3": {
      "model_module": "@jupyter-widgets/base",
      "model_module_version": "1.0.0",
      "model_name": "LayoutModel",
      "state": {
       "width": "150px"
      }
     },
     "8c89e9427f394ff68371494564ad3b69": {
      "model_module": "@jupyter-widgets/controls",
      "model_module_version": "1.2.0",
      "model_name": "VBoxModel",
      "state": {
       "children": [
        "IPY_MODEL_c6607f5ff7b146c8b6d846ec56d763b7",
        "IPY_MODEL_f2b42fa5b840404eaa1e1b3e122827cf",
        "IPY_MODEL_024d974d75064f85b1dad240f6fdd714"
       ],
       "layout": "IPY_MODEL_92bf22f8d4304090a52573a67ef3de3d"
      }
     },
     "8c9c17a8a1454facb17881c2a8660dc2": {
      "model_module": "@jupyter-widgets/base",
      "model_module_version": "1.0.0",
      "model_name": "LayoutModel",
      "state": {}
     },
     "8cb52ab70b3b492aa43499cfcca8401b": {
      "model_module": "@jupyter-widgets/controls",
      "model_module_version": "1.2.0",
      "model_name": "DescriptionStyleModel",
      "state": {
       "description_width": ""
      }
     },
     "8d3dce27681c49158933dc6ef42df550": {
      "model_module": "@jupyter-widgets/base",
      "model_module_version": "1.0.0",
      "model_name": "LayoutModel",
      "state": {}
     },
     "8dfb904fbd2b4f50a20258abfac12bd8": {
      "model_module": "@jupyter-widgets/controls",
      "model_module_version": "1.2.0",
      "model_name": "VBoxModel",
      "state": {
       "children": [
        "IPY_MODEL_6f7fcc2aeb5c499ab9eb0627cfad2dab",
        "IPY_MODEL_e3bd7512140f482e80f0d7860f8616d2",
        "IPY_MODEL_e69871864b014f32818b35fd7f607382",
        "IPY_MODEL_2a17a187bea749619d9f5a1e5fb4e24e",
        "IPY_MODEL_56cf03e628ea4280bfe0ea235b3b6f78"
       ],
       "layout": "IPY_MODEL_4f9c82cd846b4af290880fe0b30746ff"
      }
     },
     "8e1a428c46c8468dbd21716fb7f8863c": {
      "model_module": "@jupyter-widgets/controls",
      "model_module_version": "1.2.0",
      "model_name": "HTMLModel",
      "state": {
       "layout": "IPY_MODEL_08d527323473454bb4013033af13af8a",
       "style": "IPY_MODEL_10057d9e2ed44c72aea0b4519dea4dc9",
       "value": "<h4 style=\"font-size:14px;\">Doch nur das</h4>"
      }
     },
     "8e6abce3b1fd4a559d1d0d2960417d4d": {
      "model_module": "@jupyter-widgets/base",
      "model_module_version": "1.0.0",
      "model_name": "LayoutModel",
      "state": {}
     },
     "8e7fe472276242009a9ee24b2ba3af2e": {
      "model_module": "@jupyter-widgets/base",
      "model_module_version": "1.0.0",
      "model_name": "LayoutModel",
      "state": {}
     },
     "8ec83c4d0fea438a9f6c1561c7f86e89": {
      "model_module": "@jupyter-widgets/controls",
      "model_module_version": "1.2.0",
      "model_name": "CheckboxModel",
      "state": {
       "description": "H und D sind optional",
       "disabled": false,
       "layout": "IPY_MODEL_41ae20b5bca749efbc83ea15067df31a",
       "style": "IPY_MODEL_fa806e1956b64e09b8f7d0650a4bd59c",
       "value": false
      }
     },
     "8eebfb48e10b4f438b898a5468061bd5": {
      "model_module": "@jupyter-widgets/controls",
      "model_module_version": "1.2.0",
      "model_name": "ButtonModel",
      "state": {
       "description": "attributiver Relativsatz",
       "layout": "IPY_MODEL_d426b512cd574a4d95dfcc23305d74b0",
       "style": "IPY_MODEL_f6c57fb3f0d744678e6ce37d07ffb229"
      }
     },
     "8f01f9a2f1e0480a8e239ff8f1073404": {
      "model_module": "@jupyter-widgets/controls",
      "model_module_version": "1.2.0",
      "model_name": "DropdownModel",
      "state": {
       "_options_labels": [
        "Adverb",
        "Adverbial",
        " "
       ],
       "index": 1,
       "layout": "IPY_MODEL_9620c8c7778141f88ede51313b2237de",
       "style": "IPY_MODEL_460dd6c43fba4484ad7302da3225d8b4"
      }
     },
     "8f23771fc34a4ab499c407d33187d474": {
      "model_module": "@jupyter-widgets/controls",
      "model_module_version": "1.2.0",
      "model_name": "ButtonModel",
      "state": {
       "description": "Adjektivattribut",
       "layout": "IPY_MODEL_c7dac45fa7c24fe9a92f26b4a5139eeb",
       "style": "IPY_MODEL_77bf7ed5fcf34c9c8ea12be83551115a"
      }
     },
     "8f31ccee7da4488094a390532325f7b8": {
      "model_module": "@jupyter-widgets/controls",
      "model_module_version": "1.2.0",
      "model_name": "ButtonStyleModel",
      "state": {
       "button_color": "lightgreen"
      }
     },
     "8fbca470e5f846ee85a26223956e0485": {
      "model_module": "@jupyter-widgets/controls",
      "model_module_version": "1.2.0",
      "model_name": "DropdownModel",
      "state": {
       "_options_labels": [
        "Lokaladverbial",
        "Modaladverbial",
        "Subjekt",
        " "
       ],
       "index": 2,
       "layout": "IPY_MODEL_2c8ed86b87424ce29c002c629e4150d7",
       "style": "IPY_MODEL_0d7cc8104c58481cbfe2c777dac62d3a"
      }
     },
     "909370c9069a42c1bcd4e8aa5d40b422": {
      "model_module": "@jupyter-widgets/base",
      "model_module_version": "1.0.0",
      "model_name": "LayoutModel",
      "state": {
       "justify_content": "center"
      }
     },
     "91cb033ffab34fbea32acefd8f66ee78": {
      "model_module": "@jupyter-widgets/controls",
      "model_module_version": "1.2.0",
      "model_name": "BoxModel",
      "state": {
       "children": [
        "IPY_MODEL_5513732a77194f0b88a482aa374df6be",
        "IPY_MODEL_ad010be08dd14b2b9e68153aca7e6c3e",
        "IPY_MODEL_272a259233634055b02d94ff62efb350",
        "IPY_MODEL_8f01f9a2f1e0480a8e239ff8f1073404",
        "IPY_MODEL_a4e6ed91240642a2877a57a72f49de97",
        "IPY_MODEL_52ca9495d26d4278bd0ca8b94dc04284",
        "IPY_MODEL_2d824f354d0b4ceda94c6a339bf768e8",
        "IPY_MODEL_babf431d38a340dea3d9e8c1f272eb9a",
        "IPY_MODEL_aa90645d9fc64576ab19748a235eaf0a",
        "IPY_MODEL_2eb4b54a0a1e4d44af6da7b9695c8bda",
        "IPY_MODEL_46a4eea9a95e4656ba980323d7cdad0c",
        "IPY_MODEL_12ec13f107794122ae625fa1a15c339c",
        "IPY_MODEL_57abf40c142d4b3e8320736aeaacda4a",
        "IPY_MODEL_65e93ad881b846f9a2f55cd61f10c339",
        "IPY_MODEL_59a301354c5846309d6962840ece2b82"
       ],
       "layout": "IPY_MODEL_27831e7147774105a3f862fb4605c072"
      }
     },
     "91f4eeb038f9476aa77b9bf1a15e8b03": {
      "model_module": "@jupyter-widgets/controls",
      "model_module_version": "1.2.0",
      "model_name": "VBoxModel",
      "state": {
       "children": [
        "IPY_MODEL_68297f9aef074ca1b8e03c73e2dc3ff7",
        "IPY_MODEL_0711f2de84cf4c9eb704f090d1a66dc2",
        "IPY_MODEL_34b4bfdcd8b145558d43e92b76d9a461"
       ],
       "layout": "IPY_MODEL_34ffc89d1e3e4e8db5640e98d2ccbf42"
      }
     },
     "92270d4264e44c24945f6aadcf09feae": {
      "model_module": "@jupyter-widgets/base",
      "model_module_version": "1.0.0",
      "model_name": "LayoutModel",
      "state": {
       "width": "250px"
      }
     },
     "92bf22f8d4304090a52573a67ef3de3d": {
      "model_module": "@jupyter-widgets/base",
      "model_module_version": "1.0.0",
      "model_name": "LayoutModel",
      "state": {}
     },
     "931f79dd037b440982bd0ab08cfefbed": {
      "model_module": "@jupyter-widgets/base",
      "model_module_version": "1.0.0",
      "model_name": "LayoutModel",
      "state": {
       "width": "600px"
      }
     },
     "937eb7c32a254407b87e4710f1b113c8": {
      "model_module": "@jupyter-widgets/base",
      "model_module_version": "1.0.0",
      "model_name": "LayoutModel",
      "state": {
       "width": "250px"
      }
     },
     "947a38f6de1843d9896f375d25f6f72c": {
      "model_module": "@jupyter-widgets/controls",
      "model_module_version": "1.2.0",
      "model_name": "DescriptionStyleModel",
      "state": {
       "description_width": "initial"
      }
     },
     "94c97d157a1341248db54fed8d104c32": {
      "model_module": "@jupyter-widgets/base",
      "model_module_version": "1.0.0",
      "model_name": "LayoutModel",
      "state": {
       "width": "250px"
      }
     },
     "95119ebf0b014cd0b2b0dd184704c6f3": {
      "model_module": "@jupyter-widgets/controls",
      "model_module_version": "1.2.0",
      "model_name": "ButtonStyleModel",
      "state": {
       "button_color": "lightgreen"
      }
     },
     "952763aa677e4cfa98e661382fa5e458": {
      "model_module": "@jupyter-widgets/controls",
      "model_module_version": "1.2.0",
      "model_name": "DescriptionStyleModel",
      "state": {
       "description_width": ""
      }
     },
     "9572f8de687a422ba87134b95c5b323f": {
      "model_module": "@jupyter-widgets/base",
      "model_module_version": "1.0.0",
      "model_name": "LayoutModel",
      "state": {
       "justify_content": "center"
      }
     },
     "957b14509b524678920ea22f8a65b0c0": {
      "model_module": "@jupyter-widgets/base",
      "model_module_version": "1.0.0",
      "model_name": "LayoutModel",
      "state": {}
     },
     "958c58c2c14e4b2e9e2ebe5f69d5ee51": {
      "model_module": "@jupyter-widgets/controls",
      "model_module_version": "1.2.0",
      "model_name": "HBoxModel",
      "state": {
       "children": [
        "IPY_MODEL_0292f18f7e904ec4b9facc4a0bc5a9fa",
        "IPY_MODEL_c924cb8bcde247ef97467bf627cedcdd"
       ],
       "layout": "IPY_MODEL_3efa5a68da80495ca23cf4ae586cf3ae"
      }
     },
     "9620c8c7778141f88ede51313b2237de": {
      "model_module": "@jupyter-widgets/base",
      "model_module_version": "1.0.0",
      "model_name": "LayoutModel",
      "state": {
       "width": "150px"
      }
     },
     "9656d03b1bb641c19a56b82bb6c4626a": {
      "model_module": "@jupyter-widgets/base",
      "model_module_version": "1.0.0",
      "model_name": "LayoutModel",
      "state": {}
     },
     "966bc357a1c94f3a8a1e7d504c31f128": {
      "model_module": "@jupyter-widgets/controls",
      "model_module_version": "1.2.0",
      "model_name": "DescriptionStyleModel",
      "state": {
       "description_width": ""
      }
     },
     "9723531c83b54b19a75d68999fb03a41": {
      "model_module": "@jupyter-widgets/controls",
      "model_module_version": "1.2.0",
      "model_name": "CheckboxModel",
      "state": {
       "description": "Weglassbarkeitstest",
       "disabled": false,
       "layout": "IPY_MODEL_27bd3d8442294b2e9c2f6063629db29b",
       "style": "IPY_MODEL_3954065cc88a4b9aac5339144b819fc7",
       "value": false
      }
     },
     "97d1f450c845413f9ed6900ce3417eb5": {
      "model_module": "@jupyter-widgets/base",
      "model_module_version": "1.0.0",
      "model_name": "LayoutModel",
      "state": {
       "width": "600px"
      }
     },
     "97e9915f834945a89d9e0226a5ac3c3f": {
      "model_module": "@jupyter-widgets/controls",
      "model_module_version": "1.2.0",
      "model_name": "DescriptionStyleModel",
      "state": {
       "description_width": ""
      }
     },
     "9819f0d3c0df4c86b6a9cea7bfe13de6": {
      "model_module": "@jupyter-widgets/controls",
      "model_module_version": "1.2.0",
      "model_name": "DescriptionStyleModel",
      "state": {
       "description_width": "initial"
      }
     },
     "98a6d7e7344f4e038a04c70f4a39ec9d": {
      "model_module": "@jupyter-widgets/base",
      "model_module_version": "1.0.0",
      "model_name": "LayoutModel",
      "state": {}
     },
     "990548198212449f8dbfd947f53b19d4": {
      "model_module": "@jupyter-widgets/controls",
      "model_module_version": "1.2.0",
      "model_name": "ButtonModel",
      "state": {
       "description": "Korrekt?",
       "layout": "IPY_MODEL_e24248649d1b445b937890efd00dd085",
       "style": "IPY_MODEL_38e1b9f9d4cb42ee8c8a170f0087d6f9"
      }
     },
     "9917e2aa93e940b98256275c371eccf6": {
      "model_module": "@jupyter-widgets/controls",
      "model_module_version": "1.2.0",
      "model_name": "CheckboxModel",
      "state": {
       "description": "trägt Eigensemantik",
       "disabled": false,
       "layout": "IPY_MODEL_e55a1aa97a6e4327a12e12bb8210ff3a",
       "style": "IPY_MODEL_2ed0cfe4acc8469497d032edbecf7bdc",
       "value": false
      }
     },
     "992ee0317e18492e9f491910293a9d40": {
      "model_module": "@jupyter-widgets/base",
      "model_module_version": "1.0.0",
      "model_name": "LayoutModel",
      "state": {}
     },
     "99900407165e4d61b5b943368b65fd62": {
      "model_module": "@jupyter-widgets/controls",
      "model_module_version": "1.2.0",
      "model_name": "CheckboxModel",
      "state": {
       "description": "geschehen-Test",
       "disabled": false,
       "layout": "IPY_MODEL_7dc0cae0fa7d4802b27aaadf7f9edd38",
       "style": "IPY_MODEL_7815053826c843d0b8e15c120dc43165",
       "value": false
      }
     },
     "9993dfb90c75482189b9ce115e18721d": {
      "model_module": "@jupyter-widgets/controls",
      "model_module_version": "1.2.0",
      "model_name": "HTMLModel",
      "state": {
       "layout": "IPY_MODEL_1cef695da48e4577a15b7e86802c7249",
       "style": "IPY_MODEL_c7537bdccf5949dab1f676b4df3d737a",
       "value": "<i>Wählen Sie die <ins>eine</ins> korrekte Antwort aus: </i>"
      }
     },
     "9995638c4a5646f78da35135684f70c0": {
      "model_module": "@jupyter-widgets/controls",
      "model_module_version": "1.2.0",
      "model_name": "DescriptionStyleModel",
      "state": {
       "description_width": ""
      }
     },
     "9a5d38c3f0da45cfb506dce546662d75": {
      "model_module": "@jupyter-widgets/base",
      "model_module_version": "1.0.0",
      "model_name": "LayoutModel",
      "state": {}
     },
     "9b41f263315144c09b494a9274196dc3": {
      "model_module": "@jupyter-widgets/controls",
      "model_module_version": "1.2.0",
      "model_name": "VBoxModel",
      "state": {
       "children": [
        "IPY_MODEL_572c662548d6445497b2789dbad3a80a",
        "IPY_MODEL_432e77ec97264f1bae63fc4a6afbb082",
        "IPY_MODEL_d6e769cbb1664aa9b33c8208189021aa",
        "IPY_MODEL_f43ee404f19e4de2a199f82866e6543f"
       ],
       "layout": "IPY_MODEL_66670285c8754d4f9ead47a571c70bab"
      }
     },
     "9bb11f7f7b7647fab69aaa6eb45af0b1": {
      "model_module": "@jupyter-widgets/controls",
      "model_module_version": "1.2.0",
      "model_name": "CheckboxModel",
      "state": {
       "description": "Kongruenz mit Verb",
       "disabled": false,
       "layout": "IPY_MODEL_4fdd743e843943929304989b44fbac42",
       "style": "IPY_MODEL_cb91ae70050f492b92bd6a2b32ea08de",
       "value": true
      }
     },
     "9bc9985c4730424ca1ae7086e3af203c": {
      "model_module": "@jupyter-widgets/controls",
      "model_module_version": "1.2.0",
      "model_name": "ButtonModel",
      "state": {
       "description": "präpositionales Attribut",
       "layout": "IPY_MODEL_f6aa20108bc047408d35cc3b6fc8ae90",
       "style": "IPY_MODEL_f3cf0fe3ac7847079b2c85363f2ea3e6"
      }
     },
     "9bd6036f983041e982085b7c86d2b142": {
      "model_module": "@jupyter-widgets/controls",
      "model_module_version": "1.2.0",
      "model_name": "ButtonStyleModel",
      "state": {
       "button_color": "lightgreen"
      }
     },
     "9c474b55ed874a80b7f59efe619df8ec": {
      "model_module": "@jupyter-widgets/base",
      "model_module_version": "1.0.0",
      "model_name": "LayoutModel",
      "state": {}
     },
     "9c637133651547d094e81839ba54f9b0": {
      "model_module": "@jupyter-widgets/controls",
      "model_module_version": "1.2.0",
      "model_name": "DescriptionStyleModel",
      "state": {
       "description_width": "initial"
      }
     },
     "9dd25f495541437d840be354bb37e3ae": {
      "model_module": "@jupyter-widgets/controls",
      "model_module_version": "1.2.0",
      "model_name": "HTMLModel",
      "state": {
       "layout": "IPY_MODEL_db3a82e804ed4f54bc1321e31edac244",
       "style": "IPY_MODEL_f64f73b3ffd94e89ab377f14f421f418",
       "value": "<h4 style=\"font-size:14px;\">Wie könnte man abschließend das in Frage stehende Satzglied in Satz 3 charakterisieren?</h4>"
      }
     },
     "9e362a1640bb44ea9a3e444bc7530cd2": {
      "model_module": "@jupyter-widgets/base",
      "model_module_version": "1.0.0",
      "model_name": "LayoutModel",
      "state": {
       "width": "150px"
      }
     },
     "9e433031578243f89ecbe9dbe9ae12dd": {
      "model_module": "@jupyter-widgets/controls",
      "model_module_version": "1.2.0",
      "model_name": "CheckboxModel",
      "state": {
       "description": "1. Satz (auf das Pferd)",
       "disabled": false,
       "layout": "IPY_MODEL_ae607a25fe57495994ad0fa3e8eaf8ef",
       "style": "IPY_MODEL_35601370c349455897aac4728f26b4c2",
       "value": true
      }
     },
     "9e4340a9d650411bb6ebf424eabe7433": {
      "model_module": "@jupyter-widgets/base",
      "model_module_version": "1.0.0",
      "model_name": "LayoutModel",
      "state": {
       "justify_content": "center"
      }
     },
     "9e6cc55baecc4d9299c9b7449a22fa55": {
      "model_module": "@jupyter-widgets/controls",
      "model_module_version": "1.2.0",
      "model_name": "DescriptionStyleModel",
      "state": {
       "description_width": ""
      }
     },
     "9ea83dfe838245a8b53c946efe382521": {
      "model_module": "@jupyter-widgets/base",
      "model_module_version": "1.0.0",
      "model_name": "LayoutModel",
      "state": {}
     },
     "9f1ff81b5b5046838aff04a603f36f8b": {
      "model_module": "@jupyter-widgets/controls",
      "model_module_version": "1.2.0",
      "model_name": "HBoxModel",
      "state": {
       "children": [
        "IPY_MODEL_348d25fb84844b6b8ac0485359f867fa",
        "IPY_MODEL_19568a3fcdea4d94a8ef97a6fc7b26d4"
       ],
       "layout": "IPY_MODEL_4e33ad2fa46549cbba3e7479a33469c1"
      }
     },
     "9fe27a9e69b141a1a32ac3894da89066": {
      "model_module": "@jupyter-widgets/controls",
      "model_module_version": "1.2.0",
      "model_name": "DescriptionStyleModel",
      "state": {
       "description_width": ""
      }
     },
     "a00d4e1d87dd4165aaa7345003c3ff9d": {
      "model_module": "@jupyter-widgets/controls",
      "model_module_version": "1.2.0",
      "model_name": "CheckboxModel",
      "state": {
       "description": "Adverbialsatz-Test",
       "disabled": false,
       "layout": "IPY_MODEL_de1316236f1c4fb28edf8790809fb77d",
       "style": "IPY_MODEL_192dda476aeb49f98441e25c4acf05c9",
       "value": false
      }
     },
     "a08441d6a3ee4b41b45a36b0e3cbf3fe": {
      "model_module": "@jupyter-widgets/controls",
      "model_module_version": "1.2.0",
      "model_name": "HTMLModel",
      "state": {
       "layout": "IPY_MODEL_f5a1adc46214460da596bf9b023e39ac",
       "style": "IPY_MODEL_6054df56dab2449db6665eb1dd7e95db",
       "value": "<h4 style=\"font-size:14px;\">Im Englischen wird das indirekte Objekt __________. </h4>"
      }
     },
     "a096721c7fce4d63855a3e8ccd9ac745": {
      "model_module": "@jupyter-widgets/controls",
      "model_module_version": "1.2.0",
      "model_name": "HTMLModel",
      "state": {
       "layout": "IPY_MODEL_a17d1efb4ae84f329d26774fe27ef6f0",
       "style": "IPY_MODEL_7180c29d86ff429cb869c2f1601e5408",
       "value": "<h4 style=\"font-size:14px;\">Bei welchen Sätzen wurden die Tests richtig angewendet?</h4>"
      }
     },
     "a1663e2191c041c49c31d6aede6d5f6c": {
      "model_module": "@jupyter-widgets/controls",
      "model_module_version": "1.2.0",
      "model_name": "HTMLModel",
      "state": {
       "layout": "IPY_MODEL_ece281ca6a0545d382ca4f3a2d8c3c21",
       "style": "IPY_MODEL_b3ef66fb9e1647baacc293485344b84f",
       "value": "<h4 style=\"font-size:14px;\">Welche Tests ergeben, dass es sich bei <i> auf das Pferd </i> im 1. Satz um eine Angabe handelt?</h4>"
      }
     },
     "a17d1efb4ae84f329d26774fe27ef6f0": {
      "model_module": "@jupyter-widgets/base",
      "model_module_version": "1.0.0",
      "model_name": "LayoutModel",
      "state": {}
     },
     "a2498bae59104085a312b9965b193938": {
      "model_module": "@jupyter-widgets/base",
      "model_module_version": "1.0.0",
      "model_name": "LayoutModel",
      "state": {
       "width": "600px"
      }
     },
     "a2ffc1fd775345359b8e1a828abef8f0": {
      "model_module": "@jupyter-widgets/base",
      "model_module_version": "1.0.0",
      "model_name": "LayoutModel",
      "state": {
       "width": "250px"
      }
     },
     "a328454721614775aa6014259616bd4c": {
      "model_module": "@jupyter-widgets/controls",
      "model_module_version": "1.2.0",
      "model_name": "HTMLModel",
      "state": {
       "layout": "IPY_MODEL_ee87439fe7ee4a5182f2d9307ff35670",
       "style": "IPY_MODEL_ccba6c1cc1334468b77efde99d645929",
       "value": "<h4 style=\"font-size:14px;\">bezieht sich auf die Verbindungsfähigkeit von relationalen Wörtern (Verben, Adjektiven, Substantiven), während die</h4>"
      }
     },
     "a3b1a95653a04bdf9e68b004ffbe0686": {
      "model_module": "@jupyter-widgets/base",
      "model_module_version": "1.0.0",
      "model_name": "LayoutModel",
      "state": {
       "width": "250px"
      }
     },
     "a3b5a38b87b1446db3595f03b6ee1902": {
      "model_module": "@jupyter-widgets/base",
      "model_module_version": "1.0.0",
      "model_name": "LayoutModel",
      "state": {}
     },
     "a3c33f52f89846fc979c09944def6e1d": {
      "model_module": "@jupyter-widgets/base",
      "model_module_version": "1.0.0",
      "model_name": "LayoutModel",
      "state": {
       "width": "250px"
      }
     },
     "a4a0a0ed2d1a40ad89244aed66128dfb": {
      "model_module": "@jupyter-widgets/controls",
      "model_module_version": "1.2.0",
      "model_name": "VBoxModel",
      "state": {
       "children": [
        "IPY_MODEL_f2034f5d2f2d4874843096e7abfe9d5f",
        "IPY_MODEL_305f211d5a784a6792a4f7d4320cb828",
        "IPY_MODEL_54137953da2749159c8c9beb4c118ec6",
        "IPY_MODEL_7ca2e5a40db841ef8a5c51b52a8ee902"
       ],
       "layout": "IPY_MODEL_5433259f232f48e290b4a2e4b81199c1"
      }
     },
     "a4e6ed91240642a2877a57a72f49de97": {
      "model_module": "@jupyter-widgets/controls",
      "model_module_version": "1.2.0",
      "model_name": "HTMLModel",
      "state": {
       "layout": "IPY_MODEL_545176210087491f81e2795de3901cd3",
       "style": "IPY_MODEL_54f8c450d43a4ea6ac8321b5a1f5a4b4",
       "value": "<h4 style=\"font-size:14px;\">wird als</h4>"
      }
     },
     "a5af85e61211421287af6602e964e5a3": {
      "model_module": "@jupyter-widgets/base",
      "model_module_version": "1.0.0",
      "model_name": "LayoutModel",
      "state": {
       "width": "600px"
      }
     },
     "a65e6c1cda8646e681106ae7530d3e0f": {
      "model_module": "@jupyter-widgets/base",
      "model_module_version": "1.0.0",
      "model_name": "LayoutModel",
      "state": {
       "width": "150px"
      }
     },
     "a67e4035406248adbca76350c748f689": {
      "model_module": "@jupyter-widgets/base",
      "model_module_version": "1.0.0",
      "model_name": "LayoutModel",
      "state": {
       "width": "250px"
      }
     },
     "a6d1c620a7df43aa87cf41bac37add44": {
      "model_module": "@jupyter-widgets/controls",
      "model_module_version": "1.2.0",
      "model_name": "DescriptionStyleModel",
      "state": {
       "description_width": ""
      }
     },
     "a7aa46e2e2564ad8afa16b9982bbf6f5": {
      "model_module": "@jupyter-widgets/base",
      "model_module_version": "1.0.0",
      "model_name": "LayoutModel",
      "state": {
       "width": "600px"
      }
     },
     "a7c674e428864e18a6784364985fa1c5": {
      "model_module": "@jupyter-widgets/base",
      "model_module_version": "1.0.0",
      "model_name": "LayoutModel",
      "state": {
       "justify_content": "center"
      }
     },
     "a7d449a0417948f79392ed235ed38d44": {
      "model_module": "@jupyter-widgets/controls",
      "model_module_version": "1.2.0",
      "model_name": "ButtonStyleModel",
      "state": {
       "button_color": "lightgreen"
      }
     },
     "a83ed59c2e19449f98a92b1395f58a3b": {
      "model_module": "@jupyter-widgets/base",
      "model_module_version": "1.0.0",
      "model_name": "LayoutModel",
      "state": {}
     },
     "a85bc697d19f43c98c090ee320bd5d9a": {
      "model_module": "@jupyter-widgets/controls",
      "model_module_version": "1.2.0",
      "model_name": "ButtonStyleModel",
      "state": {}
     },
     "a8840d8fce8a4024b1574bdc1325349b": {
      "model_module": "@jupyter-widgets/controls",
      "model_module_version": "1.2.0",
      "model_name": "DescriptionStyleModel",
      "state": {
       "description_width": ""
      }
     },
     "a8a10c747b934066a4dceee4c0f00439": {
      "model_module": "@jupyter-widgets/controls",
      "model_module_version": "1.2.0",
      "model_name": "ButtonStyleModel",
      "state": {
       "button_color": "lightgreen"
      }
     },
     "a8b2c75e6e9f43539b331ce1dc30d8b3": {
      "model_module": "@jupyter-widgets/base",
      "model_module_version": "1.0.0",
      "model_name": "LayoutModel",
      "state": {
       "width": "250px"
      }
     },
     "a8ceadf0c5c34cb091115343869a38f4": {
      "model_module": "@jupyter-widgets/controls",
      "model_module_version": "1.2.0",
      "model_name": "HBoxModel",
      "state": {
       "children": [
        "IPY_MODEL_8f23771fc34a4ab499c407d33187d474",
        "IPY_MODEL_ed05875e95b84779b07efaaec2d910fc"
       ],
       "layout": "IPY_MODEL_ae3e812e2c87486d939b450e487c0d9e"
      }
     },
     "a93a5d4c6f5d4237ba91413b391aa9f8": {
      "model_module": "@jupyter-widgets/controls",
      "model_module_version": "1.2.0",
      "model_name": "DescriptionStyleModel",
      "state": {
       "description_width": ""
      }
     },
     "a95cfdbaf80a4ccd80b496db5905be69": {
      "model_module": "@jupyter-widgets/controls",
      "model_module_version": "1.2.0",
      "model_name": "HTMLModel",
      "state": {
       "layout": "IPY_MODEL_edafcc86206f44daab6489794cfeb354",
       "style": "IPY_MODEL_9fe27a9e69b141a1a32ac3894da89066",
       "value": "<h4 style=\"font-size:14px;\">Um welchen Attributtyp handelt es sich bei dem Attribut <i>lang ersehnte</i>?</h4>"
      }
     },
     "a9729bcb32ac4be5baca5ab4289dc792": {
      "model_module": "@jupyter-widgets/controls",
      "model_module_version": "1.2.0",
      "model_name": "DescriptionStyleModel",
      "state": {
       "description_width": "initial"
      }
     },
     "aa90645d9fc64576ab19748a235eaf0a": {
      "model_module": "@jupyter-widgets/controls",
      "model_module_version": "1.2.0",
      "model_name": "HTMLModel",
      "state": {
       "layout": "IPY_MODEL_f2e2a1fe3a39423eb59fa812a3ee849b",
       "style": "IPY_MODEL_e6013a5b94464f63b4af4e3ecc553099",
       "value": "<h4 style=\"font-size:14px;\">tritt ein</h4>"
      }
     },
     "aaa6c45df2c14a6092e2f2e416dae384": {
      "model_module": "@jupyter-widgets/base",
      "model_module_version": "1.0.0",
      "model_name": "LayoutModel",
      "state": {
       "width": "250px"
      }
     },
     "ab9f12db4f6f4ad296752539a1efef89": {
      "model_module": "@jupyter-widgets/controls",
      "model_module_version": "1.2.0",
      "model_name": "ButtonStyleModel",
      "state": {
       "button_color": "lightgreen"
      }
     },
     "ac026ee9c7a849adb9b8aec7ec9bf67c": {
      "model_module": "@jupyter-widgets/base",
      "model_module_version": "1.0.0",
      "model_name": "LayoutModel",
      "state": {
       "width": "600px"
      }
     },
     "acc991d5d80445688f047a4771a02767": {
      "model_module": "@jupyter-widgets/controls",
      "model_module_version": "1.2.0",
      "model_name": "ButtonModel",
      "state": {
       "description": "Adjektivattribut",
       "layout": "IPY_MODEL_49d9c29896284266873d296770895565",
       "style": "IPY_MODEL_79e7b6b689714bcfb2cf20fefaff6e7c"
      }
     },
     "acf1d1dc57f34bbb8b0f26c391c64faa": {
      "model_module": "@jupyter-widgets/base",
      "model_module_version": "1.0.0",
      "model_name": "LayoutModel",
      "state": {
       "width": "600px"
      }
     },
     "ad010be08dd14b2b9e68153aca7e6c3e": {
      "model_module": "@jupyter-widgets/controls",
      "model_module_version": "1.2.0",
      "model_name": "DropdownModel",
      "state": {
       "_options_labels": [
        "Lokaladverb",
        "Lokaladverbial",
        "Modaladverb",
        "Modaladverbial",
        " "
       ],
       "index": 3,
       "layout": "IPY_MODEL_9e362a1640bb44ea9a3e444bc7530cd2",
       "style": "IPY_MODEL_017f19dc718349a9826b643d9e221481"
      }
     },
     "addeb0ae630f4fa18f36d21ba7916a96": {
      "model_module": "@jupyter-widgets/controls",
      "model_module_version": "1.2.0",
      "model_name": "HTMLModel",
      "state": {
       "layout": "IPY_MODEL_270f5ac0a1584bb28d21eeacf26f0efa",
       "style": "IPY_MODEL_2e32543d23b648a2b03a98d36b8a9d98",
       "value": "<i>Markieren Sie <ins>alle</ins> passenden Antworten: </i>"
      }
     },
     "ae3e812e2c87486d939b450e487c0d9e": {
      "model_module": "@jupyter-widgets/base",
      "model_module_version": "1.0.0",
      "model_name": "LayoutModel",
      "state": {}
     },
     "ae3fd54783e34061a399753d7eac21e3": {
      "model_module": "@jupyter-widgets/controls",
      "model_module_version": "1.2.0",
      "model_name": "HBoxModel",
      "state": {
       "children": [
        "IPY_MODEL_36a131af8d7c43eb8aecc8971ce8066f"
       ],
       "layout": "IPY_MODEL_eddba3c6044c4acf944c51dc0d5dd493"
      }
     },
     "ae607a25fe57495994ad0fa3e8eaf8ef": {
      "model_module": "@jupyter-widgets/base",
      "model_module_version": "1.0.0",
      "model_name": "LayoutModel",
      "state": {
       "width": "600px"
      }
     },
     "ae60f23bbf6046b38879d3c23f1d462c": {
      "model_module": "@jupyter-widgets/base",
      "model_module_version": "1.0.0",
      "model_name": "LayoutModel",
      "state": {
       "justify_content": "center"
      }
     },
     "af42d22f005241428cf30234008d070e": {
      "model_module": "@jupyter-widgets/controls",
      "model_module_version": "1.2.0",
      "model_name": "HBoxModel",
      "state": {
       "children": [
        "IPY_MODEL_cd5e56b470b242299c4c706160ea4d41",
        "IPY_MODEL_9bc9985c4730424ca1ae7086e3af203c"
       ],
       "layout": "IPY_MODEL_3b304214644c4a98949deb2c53ead51f"
      }
     },
     "b033d9495b144a07b7af7bdcb2a80fdc": {
      "model_module": "@jupyter-widgets/controls",
      "model_module_version": "1.2.0",
      "model_name": "DescriptionStyleModel",
      "state": {
       "description_width": "initial"
      }
     },
     "b06b0948d95f4950bdc0e89ddfd8c38a": {
      "model_module": "@jupyter-widgets/base",
      "model_module_version": "1.0.0",
      "model_name": "LayoutModel",
      "state": {}
     },
     "b0aa61129f0e49dd8fd49d86a1a8c6a6": {
      "model_module": "@jupyter-widgets/controls",
      "model_module_version": "1.2.0",
      "model_name": "HTMLModel",
      "state": {
       "layout": "IPY_MODEL_ee7b4fa201334cf5b05ffc79b9e236ef",
       "style": "IPY_MODEL_5e5af52186a340c88596380715df4d02",
       "value": "<h4 style=\"font-size:14px;\">handelt.</h4>"
      }
     },
     "b0c441bd276c444c99fb1e6d3ca77886": {
      "model_module": "@jupyter-widgets/controls",
      "model_module_version": "1.2.0",
      "model_name": "ButtonModel",
      "state": {
       "description": "Korrekt?",
       "layout": "IPY_MODEL_2f8a60c601a44c86a39822756d4d3639",
       "style": "IPY_MODEL_0d0e8093a5154b278d434a328d314fdc"
      }
     },
     "b0d818a79d9d407f90ea6bbaaef69f7a": {
      "model_module": "@jupyter-widgets/controls",
      "model_module_version": "1.2.0",
      "model_name": "ButtonModel",
      "state": {
       "description": "Korrekt?",
       "layout": "IPY_MODEL_dece29888d4040e48d19b2b2ceab05b4",
       "style": "IPY_MODEL_0b1479b55dcd48c491746c34ed2995f0"
      }
     },
     "b1330fea29d04186b8cc244b1fbf25c9": {
      "model_module": "@jupyter-widgets/controls",
      "model_module_version": "1.2.0",
      "model_name": "ButtonModel",
      "state": {
       "description": "attributiver Relativsatz",
       "layout": "IPY_MODEL_a8b2c75e6e9f43539b331ce1dc30d8b3",
       "style": "IPY_MODEL_25a4300149f242ee9b0294aa302324c6"
      }
     },
     "b27845674e1a4827ae0259b9e9f2a36b": {
      "model_module": "@jupyter-widgets/controls",
      "model_module_version": "1.2.0",
      "model_name": "DescriptionStyleModel",
      "state": {
       "description_width": "initial"
      }
     },
     "b2e7fa393c3b47f5b0dcf76473b65f5c": {
      "model_module": "@jupyter-widgets/controls",
      "model_module_version": "1.2.0",
      "model_name": "DescriptionStyleModel",
      "state": {
       "description_width": ""
      }
     },
     "b3069511b58f45db8a68fb45dd2e1a20": {
      "model_module": "@jupyter-widgets/base",
      "model_module_version": "1.0.0",
      "model_name": "LayoutModel",
      "state": {}
     },
     "b3a9048e00c64d04ada9eee83cd25ee0": {
      "model_module": "@jupyter-widgets/base",
      "model_module_version": "1.0.0",
      "model_name": "LayoutModel",
      "state": {
       "width": "250px"
      }
     },
     "b3ef66fb9e1647baacc293485344b84f": {
      "model_module": "@jupyter-widgets/controls",
      "model_module_version": "1.2.0",
      "model_name": "DescriptionStyleModel",
      "state": {
       "description_width": ""
      }
     },
     "b42477d6211240eea8cb450449315de6": {
      "model_module": "@jupyter-widgets/controls",
      "model_module_version": "1.2.0",
      "model_name": "ButtonModel",
      "state": {
       "description": "adverbiale Ergänzung",
       "layout": "IPY_MODEL_94c97d157a1341248db54fed8d104c32",
       "style": "IPY_MODEL_7684cb002b8f4fdaa323d20b26e7f57c"
      }
     },
     "b4c04f216174441db6d09401fcc13161": {
      "model_module": "@jupyter-widgets/controls",
      "model_module_version": "1.2.0",
      "model_name": "DescriptionStyleModel",
      "state": {
       "description_width": "initial"
      }
     },
     "b4d320d882f940ce8ddfbe176d5f9c49": {
      "model_module": "@jupyter-widgets/controls",
      "model_module_version": "1.2.0",
      "model_name": "ButtonStyleModel",
      "state": {}
     },
     "b5453786d21d4f6cb1b5a0a996af87f2": {
      "model_module": "@jupyter-widgets/controls",
      "model_module_version": "1.2.0",
      "model_name": "DescriptionStyleModel",
      "state": {
       "description_width": ""
      }
     },
     "b56abbe2daa243fda5d30025e180fc0f": {
      "model_module": "@jupyter-widgets/controls",
      "model_module_version": "1.2.0",
      "model_name": "HTMLModel",
      "state": {
       "layout": "IPY_MODEL_206f9284a3514d9cbe470c19af8eed0f",
       "style": "IPY_MODEL_89bcb5486e654e28a3607e3e6ffdeee5",
       "value": "<i>Wählen Sie die <ins>eine</ins> korrekte Antwort aus: </i>"
      }
     },
     "b58250a965b24e6197d7b88fbadb4cd3": {
      "model_module": "@jupyter-widgets/base",
      "model_module_version": "1.0.0",
      "model_name": "LayoutModel",
      "state": {}
     },
     "b5b75958959941ca9e27df20853e6cfc": {
      "model_module": "@jupyter-widgets/controls",
      "model_module_version": "1.2.0",
      "model_name": "DescriptionStyleModel",
      "state": {
       "description_width": ""
      }
     },
     "b5e6118bc54b40e397750eeff2354fd2": {
      "model_module": "@jupyter-widgets/controls",
      "model_module_version": "1.2.0",
      "model_name": "ButtonStyleModel",
      "state": {}
     },
     "b66abf49ea6d4e988374bb5ac00b6900": {
      "model_module": "@jupyter-widgets/controls",
      "model_module_version": "1.2.0",
      "model_name": "HTMLModel",
      "state": {
       "layout": "IPY_MODEL_1e0274f7654747628eb7ef7b343bd26e",
       "style": "IPY_MODEL_505e49e13bd541ca8dc9782b73cc30f2",
       "value": "<i>Vervollständigen Sie den Lückentext: </i>"
      }
     },
     "b6ed742032b54e91b8caab370525bff7": {
      "model_module": "@jupyter-widgets/controls",
      "model_module_version": "1.2.0",
      "model_name": "DescriptionStyleModel",
      "state": {
       "description_width": ""
      }
     },
     "b758f285137c48d480d39b1177b00f96": {
      "model_module": "@jupyter-widgets/controls",
      "model_module_version": "1.2.0",
      "model_name": "VBoxModel",
      "state": {
       "children": [
        "IPY_MODEL_7d4999a247f246f3a77c8645086766ac",
        "IPY_MODEL_ebe83049751a43f5bb1070da72af4fb1",
        "IPY_MODEL_2baad5724a1549d0a4840304edb044b3",
        "IPY_MODEL_b0c441bd276c444c99fb1e6d3ca77886"
       ],
       "layout": "IPY_MODEL_9c474b55ed874a80b7f59efe619df8ec"
      }
     },
     "b759d78f747648859bb6c6a54be10f00": {
      "model_module": "@jupyter-widgets/base",
      "model_module_version": "1.0.0",
      "model_name": "LayoutModel",
      "state": {
       "width": "250px"
      }
     },
     "b76d6a1317924a0db89b964004db57ea": {
      "model_module": "@jupyter-widgets/controls",
      "model_module_version": "1.2.0",
      "model_name": "CheckboxModel",
      "state": {
       "description": "Agenseigenschaften",
       "disabled": false,
       "layout": "IPY_MODEL_a2498bae59104085a312b9965b193938",
       "style": "IPY_MODEL_ef698c97643c4b63a94a9cd5bca37363",
       "value": true
      }
     },
     "b79ed860ed78446d88e94fca021af58a": {
      "model_module": "@jupyter-widgets/controls",
      "model_module_version": "1.2.0",
      "model_name": "ButtonModel",
      "state": {
       "description": "Angabe",
       "layout": "IPY_MODEL_c03885e75cc44d708bd7d1547115b41c",
       "style": "IPY_MODEL_04f3259073ce4acbb71ec9907051fd85"
      }
     },
     "b8bc0bbd15fc4568999d6ad48a57ba02": {
      "model_module": "@jupyter-widgets/base",
      "model_module_version": "1.0.0",
      "model_name": "LayoutModel",
      "state": {}
     },
     "b90fbc22f4d1400e8ecad44e95b128dd": {
      "model_module": "@jupyter-widgets/controls",
      "model_module_version": "1.2.0",
      "model_name": "ButtonModel",
      "state": {
       "description": "Ergänzung",
       "layout": "IPY_MODEL_cd7f58f7a3c0452a8de50c92b14a24ad",
       "style": "IPY_MODEL_ea5b71f120f24725bbeb87e49e240813"
      }
     },
     "b938825295004319a669cae4a4a8334c": {
      "model_module": "@jupyter-widgets/controls",
      "model_module_version": "1.2.0",
      "model_name": "CheckboxModel",
      "state": {
       "description": "steht im Nominativ",
       "disabled": false,
       "layout": "IPY_MODEL_f899463c64e645e3a9a63440bfc0dc81",
       "style": "IPY_MODEL_0a8cc26c9e704763b5dfb659c3ba213d",
       "value": true
      }
     },
     "b98b69d6a5d143f0ab851e3cd25a3d72": {
      "model_module": "@jupyter-widgets/base",
      "model_module_version": "1.0.0",
      "model_name": "LayoutModel",
      "state": {
       "width": "250px"
      }
     },
     "b9c27d37e8a24716b14b1d0657fd1647": {
      "model_module": "@jupyter-widgets/base",
      "model_module_version": "1.0.0",
      "model_name": "LayoutModel",
      "state": {
       "width": "250px"
      }
     },
     "ba804aa05f424b8eaafa7e571668e5a7": {
      "model_module": "@jupyter-widgets/controls",
      "model_module_version": "1.2.0",
      "model_name": "DescriptionStyleModel",
      "state": {
       "description_width": ""
      }
     },
     "babf431d38a340dea3d9e8c1f272eb9a": {
      "model_module": "@jupyter-widgets/controls",
      "model_module_version": "1.2.0",
      "model_name": "DropdownModel",
      "state": {
       "_options_labels": [
        " ",
        "Adjektivphrase",
        "Nominalphrase",
        "Präpositionalphrase",
        " "
       ],
       "index": 1,
       "layout": "IPY_MODEL_f9f0d2547a5b449eb4755a86df97afca",
       "style": "IPY_MODEL_a8840d8fce8a4024b1574bdc1325349b"
      }
     },
     "bba4baaf11ba44f5bac361bb7948472b": {
      "model_module": "@jupyter-widgets/controls",
      "model_module_version": "1.2.0",
      "model_name": "HTMLModel",
      "state": {
       "layout": "IPY_MODEL_9572f8de687a422ba87134b95c5b323f",
       "style": "IPY_MODEL_3bce25ea33d24ea7bb05d72c981da803",
       "value": "<i>Vervollständigen Sie den Lückentext: </i>"
      }
     },
     "bbf0c2c2eaf849a092661cfd31042c9c": {
      "model_module": "@jupyter-widgets/controls",
      "model_module_version": "1.2.0",
      "model_name": "DescriptionStyleModel",
      "state": {
       "description_width": ""
      }
     },
     "bc1a0ba8798744fa8bc357492199c25b": {
      "model_module": "@jupyter-widgets/base",
      "model_module_version": "1.0.0",
      "model_name": "LayoutModel",
      "state": {
       "width": "600px"
      }
     },
     "bc661c70ab2e419c8c5fc0ebf8cc7cc8": {
      "model_module": "@jupyter-widgets/controls",
      "model_module_version": "1.2.0",
      "model_name": "DescriptionStyleModel",
      "state": {
       "description_width": "initial"
      }
     },
     "bd465e7ccb5141a79b23fff86db97df0": {
      "model_module": "@jupyter-widgets/base",
      "model_module_version": "1.0.0",
      "model_name": "LayoutModel",
      "state": {
       "width": "600px"
      }
     },
     "bd6945be85a0420394b451fee4b7caad": {
      "model_module": "@jupyter-widgets/controls",
      "model_module_version": "1.2.0",
      "model_name": "VBoxModel",
      "state": {
       "children": [
        "IPY_MODEL_a1663e2191c041c49c31d6aede6d5f6c",
        "IPY_MODEL_e1d0ead7e82849bfbcfcda5c9582c4e7",
        "IPY_MODEL_727e41cf1660451d9ee08e9a12323604",
        "IPY_MODEL_de0216c512534625b266a9d5fe2f5dac"
       ],
       "layout": "IPY_MODEL_b58250a965b24e6197d7b88fbadb4cd3"
      }
     },
     "be09d15df106402988b133612274155d": {
      "model_module": "@jupyter-widgets/controls",
      "model_module_version": "1.2.0",
      "model_name": "ButtonStyleModel",
      "state": {
       "button_color": "lightgreen"
      }
     },
     "be10bdb1f6204402ab002b8feecb5858": {
      "model_module": "@jupyter-widgets/controls",
      "model_module_version": "1.2.0",
      "model_name": "ButtonStyleModel",
      "state": {}
     },
     "beca5b489c3b416f8767e11b641918cc": {
      "model_module": "@jupyter-widgets/controls",
      "model_module_version": "1.2.0",
      "model_name": "HTMLModel",
      "state": {
       "layout": "IPY_MODEL_022a67554b9f42f6b0815e8620a3bddc",
       "style": "IPY_MODEL_cc47594b93ff40d7ba96f7222e113128",
       "value": "<h4 style=\"font-size:14px;\">Unter der Annahmen, dass alle präpositional angeschlossenen Glieder Angaben sind: in welchen der Sätze ist das in Frage stehende Satzglied eine Angabe?</h4>"
      }
     },
     "bf3453864af54101afb7779f3376e421": {
      "model_module": "@jupyter-widgets/base",
      "model_module_version": "1.0.0",
      "model_name": "LayoutModel",
      "state": {
       "width": "600px"
      }
     },
     "bf7bd900f6d8427a8117b37a0cdf55db": {
      "model_module": "@jupyter-widgets/base",
      "model_module_version": "1.0.0",
      "model_name": "LayoutModel",
      "state": {
       "width": "250px"
      }
     },
     "c01212e6381f437da44de80438bf6fb0": {
      "model_module": "@jupyter-widgets/controls",
      "model_module_version": "1.2.0",
      "model_name": "ButtonStyleModel",
      "state": {}
     },
     "c03885e75cc44d708bd7d1547115b41c": {
      "model_module": "@jupyter-widgets/base",
      "model_module_version": "1.0.0",
      "model_name": "LayoutModel",
      "state": {
       "width": "250px"
      }
     },
     "c04061a119c543a9b2cff7c8ef0c90af": {
      "model_module": "@jupyter-widgets/controls",
      "model_module_version": "1.2.0",
      "model_name": "ButtonModel",
      "state": {
       "description": "Korrekt?",
       "layout": "IPY_MODEL_e24cc339127544ba839beb060e9b7f59",
       "style": "IPY_MODEL_69ff90f6dbe849f99787698d2821e8f1"
      }
     },
     "c0446c264c65429593eccfb0dfe4f393": {
      "model_module": "@jupyter-widgets/controls",
      "model_module_version": "1.2.0",
      "model_name": "DescriptionStyleModel",
      "state": {
       "description_width": "initial"
      }
     },
     "c1009cc82c4a434d88da6a1a5701f048": {
      "model_module": "@jupyter-widgets/base",
      "model_module_version": "1.0.0",
      "model_name": "LayoutModel",
      "state": {
       "width": "250px"
      }
     },
     "c1993e7dca684354bb3dbba3964f0b24": {
      "model_module": "@jupyter-widgets/controls",
      "model_module_version": "1.2.0",
      "model_name": "CheckboxModel",
      "state": {
       "description": "drückt das Topik aus",
       "disabled": false,
       "layout": "IPY_MODEL_4e592230b3134c3680876ff00807ef5f",
       "style": "IPY_MODEL_19a0793e4e0045e4b8f87f439b40f3d5",
       "value": true
      }
     },
     "c1c5e196400b4539b405db98bddc08fb": {
      "model_module": "@jupyter-widgets/controls",
      "model_module_version": "1.2.0",
      "model_name": "HTMLModel",
      "state": {
       "layout": "IPY_MODEL_8e6abce3b1fd4a559d1d0d2960417d4d",
       "style": "IPY_MODEL_cec730547e364d23bf6d39ae84496083",
       "value": "<h4 style=\"font-size:14px;\">Wie läßt sich die Einführung von einem Nicht-Terminal TV für transitive Verben (usw.) interpretieren?</h4>"
      }
     },
     "c20ebb079f084b9590e25f5ac34ea22a": {
      "model_module": "@jupyter-widgets/controls",
      "model_module_version": "1.2.0",
      "model_name": "HTMLModel",
      "state": {
       "layout": "IPY_MODEL_677f86d2e1c6462e9a67d84fb42b4b9a",
       "style": "IPY_MODEL_e1b769bdc4e9455496ba375f4a1ea2d4",
       "value": "<i>Markieren Sie <ins>alle</ins> passenden Antworten: </i>"
      }
     },
     "c29420f2312647a39ced7171dd4ae50f": {
      "model_module": "@jupyter-widgets/controls",
      "model_module_version": "1.2.0",
      "model_name": "CheckboxModel",
      "state": {
       "description": "steht im Akkusativ",
       "disabled": false,
       "layout": "IPY_MODEL_cd0a2b8d0bdb4b46a7b34d2ba7c46ce8",
       "style": "IPY_MODEL_1d905fca18e840d98f3ee3eb179f56f6",
       "value": false
      }
     },
     "c2d47891872547ee96bdd062321f52b2": {
      "model_module": "@jupyter-widgets/controls",
      "model_module_version": "1.2.0",
      "model_name": "ButtonModel",
      "state": {
       "description": "attributiver Relativsatz",
       "layout": "IPY_MODEL_d56557840d944774ba3dcf51bbfbe1f8",
       "style": "IPY_MODEL_a85bc697d19f43c98c090ee320bd5d9a"
      }
     },
     "c316a45f072347ab9a8feb0ced0729dc": {
      "model_module": "@jupyter-widgets/base",
      "model_module_version": "1.0.0",
      "model_name": "LayoutModel",
      "state": {
       "width": "600px"
      }
     },
     "c38366cdbb83470b8a889fdaceee75df": {
      "model_module": "@jupyter-widgets/base",
      "model_module_version": "1.0.0",
      "model_name": "LayoutModel",
      "state": {}
     },
     "c396d3b4328a4c2d857ee763caf69b58": {
      "model_module": "@jupyter-widgets/controls",
      "model_module_version": "1.2.0",
      "model_name": "DropdownModel",
      "state": {
       "_options_labels": [
        "Objekt",
        "Subjekt",
        " "
       ],
       "index": 1,
       "layout": "IPY_MODEL_269cb89b71624f6f8dee172a21fe65d8",
       "style": "IPY_MODEL_08b6d517059e4fc29cf709cac69fda9c"
      }
     },
     "c3a32ddf5fe04a8e8856f5fc8dabef79": {
      "model_module": "@jupyter-widgets/base",
      "model_module_version": "1.0.0",
      "model_name": "LayoutModel",
      "state": {}
     },
     "c3dce50a699c47aa9046ecdc9f49d446": {
      "model_module": "@jupyter-widgets/controls",
      "model_module_version": "1.2.0",
      "model_name": "ButtonStyleModel",
      "state": {
       "button_color": "lightgreen"
      }
     },
     "c4d377bb33e347f38cfbfbe948d106ca": {
      "model_module": "@jupyter-widgets/base",
      "model_module_version": "1.0.0",
      "model_name": "LayoutModel",
      "state": {}
     },
     "c508fa17413c4cc6aeb351156e5753eb": {
      "model_module": "@jupyter-widgets/controls",
      "model_module_version": "1.2.0",
      "model_name": "ButtonStyleModel",
      "state": {
       "button_color": "lightgreen"
      }
     },
     "c50a463b3d8943e3999eb34f3cdab9e6": {
      "model_module": "@jupyter-widgets/controls",
      "model_module_version": "1.2.0",
      "model_name": "DescriptionStyleModel",
      "state": {
       "description_width": ""
      }
     },
     "c579ed54ecd34eecb1f245f1d0bb0742": {
      "model_module": "@jupyter-widgets/base",
      "model_module_version": "1.0.0",
      "model_name": "LayoutModel",
      "state": {
       "width": "250px"
      }
     },
     "c5bf0874a6cf41ca9a52c822eeba7f58": {
      "model_module": "@jupyter-widgets/controls",
      "model_module_version": "1.2.0",
      "model_name": "ButtonStyleModel",
      "state": {}
     },
     "c5fe906aa3c249d89b21f6b8258287f9": {
      "model_module": "@jupyter-widgets/controls",
      "model_module_version": "1.2.0",
      "model_name": "DescriptionStyleModel",
      "state": {
       "description_width": "initial"
      }
     },
     "c62c9303781740f6bdcfe257ab8dbd6b": {
      "model_module": "@jupyter-widgets/controls",
      "model_module_version": "1.2.0",
      "model_name": "DescriptionStyleModel",
      "state": {
       "description_width": "initial"
      }
     },
     "c6607f5ff7b146c8b6d846ec56d763b7": {
      "model_module": "@jupyter-widgets/controls",
      "model_module_version": "1.2.0",
      "model_name": "HTMLModel",
      "state": {
       "layout": "IPY_MODEL_e7aa8da23a4a4747b709947a0e6d0f3f",
       "style": "IPY_MODEL_1328d6c7cbd94b50b57598e6d1882b53",
       "value": "<i>Vervollständigen Sie den Lückentext: </i>"
      }
     },
     "c6b55797ba3c4a6f8c5a81cc4cd08ca1": {
      "model_module": "@jupyter-widgets/base",
      "model_module_version": "1.0.0",
      "model_name": "LayoutModel",
      "state": {
       "width": "600px"
      }
     },
     "c6b8ff1206974f7cbfbf7d24225931ff": {
      "model_module": "@jupyter-widgets/controls",
      "model_module_version": "1.2.0",
      "model_name": "HTMLModel",
      "state": {
       "layout": "IPY_MODEL_c7c059365be640e4b9c7fa6475f97b34",
       "style": "IPY_MODEL_298b5e43974f4a5a8ee0339677203272",
       "value": "<h4 style=\"font-size:14px;\">Handelt es sich im Satz bei der Präpositionalphrase um ein präpositionales Objekt?</h4>"
      }
     },
     "c6ed0ce652324535b88ccecff864265e": {
      "model_module": "@jupyter-widgets/controls",
      "model_module_version": "1.2.0",
      "model_name": "CheckboxModel",
      "state": {
       "description": "austauschbar",
       "disabled": false,
       "layout": "IPY_MODEL_348127f7e3c6468c86449ce3481e7ef0",
       "style": "IPY_MODEL_9c637133651547d094e81839ba54f9b0",
       "value": false
      }
     },
     "c729780a9b9c4c3fbf4c9d5f649ebf03": {
      "model_module": "@jupyter-widgets/base",
      "model_module_version": "1.0.0",
      "model_name": "LayoutModel",
      "state": {
       "width": "600px"
      }
     },
     "c7537bdccf5949dab1f676b4df3d737a": {
      "model_module": "@jupyter-widgets/controls",
      "model_module_version": "1.2.0",
      "model_name": "DescriptionStyleModel",
      "state": {
       "description_width": ""
      }
     },
     "c768e6f183c447d8a0daf39460315fe0": {
      "model_module": "@jupyter-widgets/controls",
      "model_module_version": "1.2.0",
      "model_name": "CheckboxModel",
      "state": {
       "description": "geschehen-Test",
       "disabled": false,
       "layout": "IPY_MODEL_bf3453864af54101afb7779f3376e421",
       "style": "IPY_MODEL_7d2ccdee01aa45638d02493cde3e77bf",
       "value": false
      }
     },
     "c7c059365be640e4b9c7fa6475f97b34": {
      "model_module": "@jupyter-widgets/base",
      "model_module_version": "1.0.0",
      "model_name": "LayoutModel",
      "state": {
       "justify_content": "center"
      }
     },
     "c7cd2c78c83443fab6fead86ce09829b": {
      "model_module": "@jupyter-widgets/controls",
      "model_module_version": "1.2.0",
      "model_name": "CheckboxModel",
      "state": {
       "description": "Weglassbarkeitstest",
       "disabled": false,
       "layout": "IPY_MODEL_e50730dd00ff4426b22454be64cfe196",
       "style": "IPY_MODEL_11ea7d19d89c4dadb9c34bede67234e9",
       "value": false
      }
     },
     "c7d1efbd09d94549864884dc954dc60c": {
      "model_module": "@jupyter-widgets/base",
      "model_module_version": "1.0.0",
      "model_name": "LayoutModel",
      "state": {}
     },
     "c7dac45fa7c24fe9a92f26b4a5139eeb": {
      "model_module": "@jupyter-widgets/base",
      "model_module_version": "1.0.0",
      "model_name": "LayoutModel",
      "state": {
       "width": "250px"
      }
     },
     "c8b729fedd0548bb92a10c3c027269e2": {
      "model_module": "@jupyter-widgets/base",
      "model_module_version": "1.0.0",
      "model_name": "LayoutModel",
      "state": {
       "justify_content": "center"
      }
     },
     "c924cb8bcde247ef97467bf627cedcdd": {
      "model_module": "@jupyter-widgets/controls",
      "model_module_version": "1.2.0",
      "model_name": "ButtonModel",
      "state": {
       "description": "adverbiale Ergänzung",
       "layout": "IPY_MODEL_f689c78f2e794fdf9a8313b36c4b4436",
       "style": "IPY_MODEL_b5e6118bc54b40e397750eeff2354fd2"
      }
     },
     "c9e13ecdfe404f73ae78432dcb47ecda": {
      "model_module": "@jupyter-widgets/controls",
      "model_module_version": "1.2.0",
      "model_name": "HTMLModel",
      "state": {
       "layout": "IPY_MODEL_cb88ec651d8e44b086e34cacf535c2f8",
       "style": "IPY_MODEL_53e5a16509094ab0b5183ec979fb66c8",
       "value": "<h4 style=\"font-size:14px;\">Wie könnte man abschließend das in Frage stehende Satzglied in Satz 1 charakterisieren?</h4>"
      }
     },
     "ca09f0c9fc6d4bd5b66255a7b73e41a6": {
      "model_module": "@jupyter-widgets/base",
      "model_module_version": "1.0.0",
      "model_name": "LayoutModel",
      "state": {}
     },
     "ca8a9a0939d14c5baaa0415e5a468bc8": {
      "model_module": "@jupyter-widgets/controls",
      "model_module_version": "1.2.0",
      "model_name": "ButtonStyleModel",
      "state": {
       "button_color": "lightgreen"
      }
     },
     "cac210b8bcce42e08f30cbfecbb61b9a": {
      "model_module": "@jupyter-widgets/controls",
      "model_module_version": "1.2.0",
      "model_name": "HTMLModel",
      "state": {
       "layout": "IPY_MODEL_796026c4506d423bbaba41424f5c882f",
       "style": "IPY_MODEL_7fb2651c795b4a9abb074d5179bf9c06",
       "value": "<h4 style=\"font-size:14px;\">von <i> schlafen </i>. Die</h4>"
      }
     },
     "cb01e5bdfdd14d1cae720cffd04e5ab0": {
      "model_module": "@jupyter-widgets/controls",
      "model_module_version": "1.2.0",
      "model_name": "CheckboxModel",
      "state": {
       "description": "steht im Nominativ",
       "disabled": false,
       "layout": "IPY_MODEL_5867c246322c4a239fc3aa20496dab83",
       "style": "IPY_MODEL_70e819e3f5894f0bbe105276432a5b64",
       "value": false
      }
     },
     "cb53dd77b0b140a2833022889bccaaff": {
      "model_module": "@jupyter-widgets/controls",
      "model_module_version": "1.2.0",
      "model_name": "DescriptionStyleModel",
      "state": {
       "description_width": ""
      }
     },
     "cb88ec651d8e44b086e34cacf535c2f8": {
      "model_module": "@jupyter-widgets/base",
      "model_module_version": "1.0.0",
      "model_name": "LayoutModel",
      "state": {
       "justify_content": "center"
      }
     },
     "cb91ae70050f492b92bd6a2b32ea08de": {
      "model_module": "@jupyter-widgets/controls",
      "model_module_version": "1.2.0",
      "model_name": "DescriptionStyleModel",
      "state": {
       "description_width": "initial"
      }
     },
     "cbf9c5fe08f24c75bd336cbc78b985fd": {
      "model_module": "@jupyter-widgets/controls",
      "model_module_version": "1.2.0",
      "model_name": "HBoxModel",
      "state": {
       "children": [
        "IPY_MODEL_d28c0886d8a64989871c15c3542f41fa",
        "IPY_MODEL_e085211ff9d449f1b1dbb444e8870a9f"
       ],
       "layout": "IPY_MODEL_b8bc0bbd15fc4568999d6ad48a57ba02"
      }
     },
     "cc47594b93ff40d7ba96f7222e113128": {
      "model_module": "@jupyter-widgets/controls",
      "model_module_version": "1.2.0",
      "model_name": "DescriptionStyleModel",
      "state": {
       "description_width": ""
      }
     },
     "ccba6c1cc1334468b77efde99d645929": {
      "model_module": "@jupyter-widgets/controls",
      "model_module_version": "1.2.0",
      "model_name": "DescriptionStyleModel",
      "state": {
       "description_width": ""
      }
     },
     "cd0a2b8d0bdb4b46a7b34d2ba7c46ce8": {
      "model_module": "@jupyter-widgets/base",
      "model_module_version": "1.0.0",
      "model_name": "LayoutModel",
      "state": {
       "width": "600px"
      }
     },
     "cd5e56b470b242299c4c706160ea4d41": {
      "model_module": "@jupyter-widgets/controls",
      "model_module_version": "1.2.0",
      "model_name": "ButtonModel",
      "state": {
       "description": "attributiver Relativsatz",
       "layout": "IPY_MODEL_21cc9bbed21b46baaf33e1f87f4022cb",
       "style": "IPY_MODEL_183c20620bf94a158feece4ea89a3abf"
      }
     },
     "cd7f58f7a3c0452a8de50c92b14a24ad": {
      "model_module": "@jupyter-widgets/base",
      "model_module_version": "1.0.0",
      "model_name": "LayoutModel",
      "state": {
       "width": "250px"
      }
     },
     "cdf257b889714c49915895888c402bf5": {
      "model_module": "@jupyter-widgets/controls",
      "model_module_version": "1.2.0",
      "model_name": "VBoxModel",
      "state": {
       "children": [
        "IPY_MODEL_bba4baaf11ba44f5bac361bb7948472b",
        "IPY_MODEL_d0a6512da51d46fd944eeb9747ef5d87",
        "IPY_MODEL_c04061a119c543a9b2cff7c8ef0c90af"
       ],
       "layout": "IPY_MODEL_8465f1e36df646a58668d35680321803"
      }
     },
     "ce0160d0e5084d79b2f8db6e77b983ae": {
      "model_module": "@jupyter-widgets/controls",
      "model_module_version": "1.2.0",
      "model_name": "DescriptionStyleModel",
      "state": {
       "description_width": ""
      }
     },
     "ce0bd514e6a14fdfbdfab023a8a171ec": {
      "model_module": "@jupyter-widgets/controls",
      "model_module_version": "1.2.0",
      "model_name": "DescriptionStyleModel",
      "state": {
       "description_width": ""
      }
     },
     "ce7f70afcfa843e78cd46cdf030826e3": {
      "model_module": "@jupyter-widgets/base",
      "model_module_version": "1.0.0",
      "model_name": "LayoutModel",
      "state": {
       "justify_content": "center"
      }
     },
     "cec62cd854684ff39f4c33c30047c565": {
      "model_module": "@jupyter-widgets/controls",
      "model_module_version": "1.2.0",
      "model_name": "VBoxModel",
      "state": {
       "children": [
        "IPY_MODEL_07b07617cbdb40d1aa8d410b9e3e8390",
        "IPY_MODEL_6bd20a859b3a46c3ac1e1ac14e93a28c",
        "IPY_MODEL_50c36b154e8949afa9c01abac76f68a7"
       ],
       "layout": "IPY_MODEL_29b91e5d0ed44c5a9d52f23b18ead4cf"
      }
     },
     "cec730547e364d23bf6d39ae84496083": {
      "model_module": "@jupyter-widgets/controls",
      "model_module_version": "1.2.0",
      "model_name": "DescriptionStyleModel",
      "state": {
       "description_width": ""
      }
     },
     "cee23e31a8f54b07b62f0987b291d19c": {
      "model_module": "@jupyter-widgets/controls",
      "model_module_version": "1.2.0",
      "model_name": "DescriptionStyleModel",
      "state": {
       "description_width": ""
      }
     },
     "cf6da34026424889b98d4cc82ea0390a": {
      "model_module": "@jupyter-widgets/base",
      "model_module_version": "1.0.0",
      "model_name": "LayoutModel",
      "state": {}
     },
     "d0a6512da51d46fd944eeb9747ef5d87": {
      "model_module": "@jupyter-widgets/controls",
      "model_module_version": "1.2.0",
      "model_name": "BoxModel",
      "state": {
       "children": [
        "IPY_MODEL_8e1a428c46c8468dbd21716fb7f8863c",
        "IPY_MODEL_8fbca470e5f846ee85a26223956e0485",
        "IPY_MODEL_f4d8734d2ebb4beeb4d4414f208cadde",
        "IPY_MODEL_dd23446693754b88b89e97a1a77856f4",
        "IPY_MODEL_cac210b8bcce42e08f30cbfecbb61b9a",
        "IPY_MODEL_fc49d84871bc42bdaa66b8742e6108d2",
        "IPY_MODEL_a328454721614775aa6014259616bd4c",
        "IPY_MODEL_7939a8c1240642118c775a60d76f01d7",
        "IPY_MODEL_e4007842b0af47438fc19c20941e5b74"
       ],
       "layout": "IPY_MODEL_866c4020a1664a08bd46e0b38c496cc9"
      }
     },
     "d0ed566f5fc341db868cff7a569ffb8b": {
      "model_module": "@jupyter-widgets/base",
      "model_module_version": "1.0.0",
      "model_name": "LayoutModel",
      "state": {}
     },
     "d1cb45c8714e488f895f29437051da02": {
      "model_module": "@jupyter-widgets/controls",
      "model_module_version": "1.2.0",
      "model_name": "ButtonModel",
      "state": {
       "description": "Korrekt?",
       "layout": "IPY_MODEL_bf7bd900f6d8427a8117b37a0cdf55db",
       "style": "IPY_MODEL_7ab690b108cf40f1b4baea0b620e2aad"
      }
     },
     "d1fab76c21a84030b740a6d56ebdd3ff": {
      "model_module": "@jupyter-widgets/controls",
      "model_module_version": "1.2.0",
      "model_name": "ButtonStyleModel",
      "state": {
       "button_color": "lightgreen"
      }
     },
     "d2153baa5ccd4eceb93b615fe324be7d": {
      "model_module": "@jupyter-widgets/controls",
      "model_module_version": "1.2.0",
      "model_name": "DropdownModel",
      "state": {
       "_options_labels": [
        "Dependentien",
        "Valenzen",
        " "
       ],
       "index": 0,
       "layout": "IPY_MODEL_4fc82db85f304ee2943f391ab5302ef4",
       "style": "IPY_MODEL_8cb52ab70b3b492aa43499cfcca8401b"
      }
     },
     "d28c0886d8a64989871c15c3542f41fa": {
      "model_module": "@jupyter-widgets/controls",
      "model_module_version": "1.2.0",
      "model_name": "ButtonModel",
      "state": {
       "description": "kasusmarkiert",
       "layout": "IPY_MODEL_6fd403dc2fe0481ebbb7d8695063f787",
       "style": "IPY_MODEL_a8a10c747b934066a4dceee4c0f00439"
      }
     },
     "d3a402207eff49b98a9f1f8b96a9d342": {
      "model_module": "@jupyter-widgets/base",
      "model_module_version": "1.0.0",
      "model_name": "LayoutModel",
      "state": {
       "width": "250px"
      }
     },
     "d3f09398aee64f8a9c14f2696d3b3a35": {
      "model_module": "@jupyter-widgets/controls",
      "model_module_version": "1.2.0",
      "model_name": "ButtonModel",
      "state": {
       "description": "präpositionales Attribut",
       "layout": "IPY_MODEL_937eb7c32a254407b87e4710f1b113c8",
       "style": "IPY_MODEL_25a88011e2bc439388d38b2fdda5d08f"
      }
     },
     "d4126d2a5f1d483cac6d8166e305d894": {
      "model_module": "@jupyter-widgets/controls",
      "model_module_version": "1.2.0",
      "model_name": "HTMLModel",
      "state": {
       "layout": "IPY_MODEL_98a6d7e7344f4e038a04c70f4a39ec9d",
       "style": "IPY_MODEL_b6ed742032b54e91b8caab370525bff7",
       "value": "<h4 style=\"font-size:14px;\"><i> im Zelt </i> vom Verb <i> schlafen </i> ab, sind also</h4>"
      }
     },
     "d426b512cd574a4d95dfcc23305d74b0": {
      "model_module": "@jupyter-widgets/base",
      "model_module_version": "1.0.0",
      "model_name": "LayoutModel",
      "state": {
       "width": "250px"
      }
     },
     "d5245ffcfaa84d829cc1b106c74ea969": {
      "model_module": "@jupyter-widgets/controls",
      "model_module_version": "1.2.0",
      "model_name": "DropdownModel",
      "state": {
       "_options_labels": [
        "nicht",
        " "
       ],
       "index": 0,
       "layout": "IPY_MODEL_2312eb4a2d58407eac9a18698c1191ed",
       "style": "IPY_MODEL_05b74b75c65949dcb6260a00cb367acb"
      }
     },
     "d56557840d944774ba3dcf51bbfbe1f8": {
      "model_module": "@jupyter-widgets/base",
      "model_module_version": "1.0.0",
      "model_name": "LayoutModel",
      "state": {
       "width": "250px"
      }
     },
     "d583e229eca94f4d93b6c4f830c6f7d1": {
      "model_module": "@jupyter-widgets/controls",
      "model_module_version": "1.2.0",
      "model_name": "VBoxModel",
      "state": {
       "children": [
        "IPY_MODEL_f28359ad99d745859c08d09e078c0454",
        "IPY_MODEL_869820ea66f4441d9d7e33db4a326c7d",
        "IPY_MODEL_6df213eace984600b864de9fc79ebc29"
       ],
       "layout": "IPY_MODEL_323fb4aa2659491893501781339106e1"
      }
     },
     "d608220e067d436290634ac2ba45f91c": {
      "model_module": "@jupyter-widgets/base",
      "model_module_version": "1.0.0",
      "model_name": "LayoutModel",
      "state": {
       "justify_content": "center"
      }
     },
     "d6aded6bdab24b7a87030de87f147254": {
      "model_module": "@jupyter-widgets/base",
      "model_module_version": "1.0.0",
      "model_name": "LayoutModel",
      "state": {}
     },
     "d6e769cbb1664aa9b33c8208189021aa": {
      "model_module": "@jupyter-widgets/controls",
      "model_module_version": "1.2.0",
      "model_name": "HBoxModel",
      "state": {
       "children": [
        "IPY_MODEL_acc991d5d80445688f047a4771a02767",
        "IPY_MODEL_7aa309226fd6432abdf4dc498a142146"
       ],
       "layout": "IPY_MODEL_a3b5a38b87b1446db3595f03b6ee1902"
      }
     },
     "d7211abefe3f4d5fa0b7f227d7c88499": {
      "model_module": "@jupyter-widgets/base",
      "model_module_version": "1.0.0",
      "model_name": "LayoutModel",
      "state": {
       "width": "250px"
      }
     },
     "d74abc44bd4646d9a17ba494bbd17753": {
      "model_module": "@jupyter-widgets/controls",
      "model_module_version": "1.2.0",
      "model_name": "DescriptionStyleModel",
      "state": {
       "description_width": "initial"
      }
     },
     "d768eb828c7c4021880b9ba2352390bb": {
      "model_module": "@jupyter-widgets/controls",
      "model_module_version": "1.2.0",
      "model_name": "DescriptionStyleModel",
      "state": {
       "description_width": "initial"
      }
     },
     "d7b3fdb7554845e3b2b7326210effddc": {
      "model_module": "@jupyter-widgets/controls",
      "model_module_version": "1.2.0",
      "model_name": "HBoxModel",
      "state": {
       "children": [
        "IPY_MODEL_f2ee652f828343b99d8bde03401a03f2",
        "IPY_MODEL_b42477d6211240eea8cb450449315de6"
       ],
       "layout": "IPY_MODEL_8e7fe472276242009a9ee24b2ba3af2e"
      }
     },
     "d8488d5bb3dc4b67953efb65d3fba03a": {
      "model_module": "@jupyter-widgets/base",
      "model_module_version": "1.0.0",
      "model_name": "LayoutModel",
      "state": {
       "width": "600px"
      }
     },
     "d871e147088b49a3ae4da04f69fb608f": {
      "model_module": "@jupyter-widgets/controls",
      "model_module_version": "1.2.0",
      "model_name": "ButtonStyleModel",
      "state": {
       "button_color": "lightgreen"
      }
     },
     "d880209c93de415b8f5ee36ffa00d791": {
      "model_module": "@jupyter-widgets/controls",
      "model_module_version": "1.2.0",
      "model_name": "CheckboxModel",
      "state": {
       "description": "Kongruenz mit Artikel",
       "disabled": false,
       "layout": "IPY_MODEL_4dad194eaeca47f8b3323db702fabd0f",
       "style": "IPY_MODEL_5c56840f04ea49d7bbdd3e7fa1c3fb8a",
       "value": false
      }
     },
     "d8cf7b10241f4f96adecc90a1e3a387f": {
      "model_module": "@jupyter-widgets/controls",
      "model_module_version": "1.2.0",
      "model_name": "HTMLModel",
      "state": {
       "layout": "IPY_MODEL_e8d478305b3d425eaf351aafcf2f4c04",
       "style": "IPY_MODEL_3dc8c350ae8a43dc9035bd516414620a",
       "value": "<h4 style=\"font-size:14px;\">allen Satzgliedern, die vom Verb abhängen handelt es sich um Ergänzungen. Die</h4>"
      }
     },
     "daa033ad5a5e433ba1f1e93f547a5746": {
      "model_module": "@jupyter-widgets/base",
      "model_module_version": "1.0.0",
      "model_name": "LayoutModel",
      "state": {
       "width": "600px"
      }
     },
     "db3a82e804ed4f54bc1321e31edac244": {
      "model_module": "@jupyter-widgets/base",
      "model_module_version": "1.0.0",
      "model_name": "LayoutModel",
      "state": {
       "justify_content": "center"
      }
     },
     "db78e14768c74b829caa4689901a77ad": {
      "model_module": "@jupyter-widgets/controls",
      "model_module_version": "1.2.0",
      "model_name": "DescriptionStyleModel",
      "state": {
       "description_width": ""
      }
     },
     "dbcdcae04b6a4015a4bfb11dfce6ddd1": {
      "model_module": "@jupyter-widgets/controls",
      "model_module_version": "1.2.0",
      "model_name": "HTMLModel",
      "state": {
       "layout": "IPY_MODEL_408d561d62cc45ff9722f2205d58caa9",
       "style": "IPY_MODEL_a93a5d4c6f5d4237ba91413b391aa9f8",
       "value": "<i>Markieren Sie <ins>alle</ins> passenden Antworten: </i>"
      }
     },
     "dbd2a8666bcb4c40a3ba055585c9f0d3": {
      "model_module": "@jupyter-widgets/base",
      "model_module_version": "1.0.0",
      "model_name": "LayoutModel",
      "state": {}
     },
     "dca44d941d9d455aaf22c315aff3fead": {
      "model_module": "@jupyter-widgets/controls",
      "model_module_version": "1.2.0",
      "model_name": "DescriptionStyleModel",
      "state": {
       "description_width": ""
      }
     },
     "dd07c236d0534ba3b03c6975186eed81": {
      "model_module": "@jupyter-widgets/controls",
      "model_module_version": "1.2.0",
      "model_name": "ButtonModel",
      "state": {
       "description": "Genitivattribut",
       "layout": "IPY_MODEL_b3a9048e00c64d04ada9eee83cd25ee0",
       "style": "IPY_MODEL_be10bdb1f6204402ab002b8feecb5858"
      }
     },
     "dd1d4f6acbc5410191adb394da5f8047": {
      "model_module": "@jupyter-widgets/controls",
      "model_module_version": "1.2.0",
      "model_name": "HTMLModel",
      "state": {
       "layout": "IPY_MODEL_4d1b5be4db894f55868e6836719f4f01",
       "style": "IPY_MODEL_725f3643cc6a415e8db80fda5ab270c0",
       "value": "<h4 style=\"font-size:14px;\">Schlägt der geschehen-Test fehl, so handelt es sich um eine:</h4>"
      }
     },
     "dd23446693754b88b89e97a1a77856f4": {
      "model_module": "@jupyter-widgets/controls",
      "model_module_version": "1.2.0",
      "model_name": "DropdownModel",
      "state": {
       "_options_labels": [
        "Dependenz",
        "Valenz",
        " "
       ],
       "index": 1,
       "layout": "IPY_MODEL_a65e6c1cda8646e681106ae7530d3e0f",
       "style": "IPY_MODEL_0933ff04c9b44241bad0c0e683733b18"
      }
     },
     "dd80f7450f714d488398864d7833e6a1": {
      "model_module": "@jupyter-widgets/controls",
      "model_module_version": "1.2.0",
      "model_name": "DescriptionStyleModel",
      "state": {
       "description_width": ""
      }
     },
     "dd9e4916c57747da960bc5c56ec9ac9c": {
      "model_module": "@jupyter-widgets/controls",
      "model_module_version": "1.2.0",
      "model_name": "VBoxModel",
      "state": {
       "children": [
        "IPY_MODEL_e6f75a653bcc416ea5aa06864ab72e65",
        "IPY_MODEL_9993dfb90c75482189b9ce115e18721d",
        "IPY_MODEL_23e263b527374986ba5c0c3e7e3f9760"
       ],
       "layout": "IPY_MODEL_ec4b1a3dc07542a58b0601fc0a0e5c4d"
      }
     },
     "ddcd1097243b434eb630f55595a9643c": {
      "model_module": "@jupyter-widgets/controls",
      "model_module_version": "1.2.0",
      "model_name": "DescriptionStyleModel",
      "state": {
       "description_width": "initial"
      }
     },
     "de0216c512534625b266a9d5fe2f5dac": {
      "model_module": "@jupyter-widgets/controls",
      "model_module_version": "1.2.0",
      "model_name": "ButtonModel",
      "state": {
       "description": "Korrekt?",
       "layout": "IPY_MODEL_92270d4264e44c24945f6aadcf09feae",
       "style": "IPY_MODEL_f5c9665d347048a8bce8dc79fb3deb5b"
      }
     },
     "de1316236f1c4fb28edf8790809fb77d": {
      "model_module": "@jupyter-widgets/base",
      "model_module_version": "1.0.0",
      "model_name": "LayoutModel",
      "state": {
       "width": "600px"
      }
     },
     "de160fc6c1404d2394a29def072d15be": {
      "model_module": "@jupyter-widgets/controls",
      "model_module_version": "1.2.0",
      "model_name": "CheckboxModel",
      "state": {
       "description": "vom Verb gefordert",
       "disabled": false,
       "layout": "IPY_MODEL_84fe9718435740a386f09925fd6b3b9e",
       "style": "IPY_MODEL_f114282154d740fda041b4d6c91079fd",
       "value": true
      }
     },
     "de662d4c96a24d99bda75520e821197b": {
      "model_module": "@jupyter-widgets/controls",
      "model_module_version": "1.2.0",
      "model_name": "CheckboxModel",
      "state": {
       "description": "geschehen-Test",
       "disabled": false,
       "layout": "IPY_MODEL_2827e1a6b7e84a3e868254787573376a",
       "style": "IPY_MODEL_7a2646e02cb04da6a9dfcfdfd33bfad5",
       "value": true
      }
     },
     "debb925ea9b340b69878cc3d4caf554c": {
      "model_module": "@jupyter-widgets/controls",
      "model_module_version": "1.2.0",
      "model_name": "HTMLModel",
      "state": {
       "layout": "IPY_MODEL_a7c674e428864e18a6784364985fa1c5",
       "style": "IPY_MODEL_0913631510af493ebe405b70aff5c225",
       "value": "<i>Markieren Sie <ins>alle</ins> passenden Antworten: </i>"
      }
     },
     "dece29888d4040e48d19b2b2ceab05b4": {
      "model_module": "@jupyter-widgets/base",
      "model_module_version": "1.0.0",
      "model_name": "LayoutModel",
      "state": {
       "width": "250px"
      }
     },
     "df40ec3778e24b9b930ecff05481ecbd": {
      "model_module": "@jupyter-widgets/base",
      "model_module_version": "1.0.0",
      "model_name": "LayoutModel",
      "state": {}
     },
     "df976290ae624a80968a7c0d364d66e4": {
      "model_module": "@jupyter-widgets/controls",
      "model_module_version": "1.2.0",
      "model_name": "CheckboxModel",
      "state": {
       "description": "fehlende Austauschbarkeit",
       "disabled": false,
       "layout": "IPY_MODEL_acf1d1dc57f34bbb8b0f26c391c64faa",
       "style": "IPY_MODEL_52dbaa29ec0e4109822a86e61aacd59e",
       "value": true
      }
     },
     "dfeaf3bc5de9431cae37b4be5399e84a": {
      "model_module": "@jupyter-widgets/controls",
      "model_module_version": "1.2.0",
      "model_name": "DescriptionStyleModel",
      "state": {
       "description_width": ""
      }
     },
     "e040df4cbaff4c5ea1d82bb029cce373": {
      "model_module": "@jupyter-widgets/controls",
      "model_module_version": "1.2.0",
      "model_name": "DescriptionStyleModel",
      "state": {
       "description_width": ""
      }
     },
     "e085211ff9d449f1b1dbb444e8870a9f": {
      "model_module": "@jupyter-widgets/controls",
      "model_module_version": "1.2.0",
      "model_name": "ButtonModel",
      "state": {
       "description": "präpositional angeschlossen",
       "layout": "IPY_MODEL_b759d78f747648859bb6c6a54be10f00",
       "style": "IPY_MODEL_c01212e6381f437da44de80438bf6fb0"
      }
     },
     "e08b94f66ddb4490b13b463e09a3b714": {
      "model_module": "@jupyter-widgets/controls",
      "model_module_version": "1.2.0",
      "model_name": "DescriptionStyleModel",
      "state": {
       "description_width": ""
      }
     },
     "e1812591dcb549c7ac62016767fbeaa2": {
      "model_module": "@jupyter-widgets/base",
      "model_module_version": "1.0.0",
      "model_name": "LayoutModel",
      "state": {}
     },
     "e19460a9f67e44cd94936e39321bfe5f": {
      "model_module": "@jupyter-widgets/controls",
      "model_module_version": "1.2.0",
      "model_name": "DescriptionStyleModel",
      "state": {
       "description_width": "initial"
      }
     },
     "e1b769bdc4e9455496ba375f4a1ea2d4": {
      "model_module": "@jupyter-widgets/controls",
      "model_module_version": "1.2.0",
      "model_name": "DescriptionStyleModel",
      "state": {
       "description_width": ""
      }
     },
     "e1d0ead7e82849bfbcfcda5c9582c4e7": {
      "model_module": "@jupyter-widgets/controls",
      "model_module_version": "1.2.0",
      "model_name": "HTMLModel",
      "state": {
       "layout": "IPY_MODEL_4e908f914b6848cd98d460de9cce72cc",
       "style": "IPY_MODEL_a6d1c620a7df43aa87cf41bac37add44",
       "value": "<i>Markieren Sie <ins>alle</ins> passenden Antworten: </i>"
      }
     },
     "e22e3eb13c9248028fb5d871fae60a01": {
      "model_module": "@jupyter-widgets/base",
      "model_module_version": "1.0.0",
      "model_name": "LayoutModel",
      "state": {}
     },
     "e24248649d1b445b937890efd00dd085": {
      "model_module": "@jupyter-widgets/base",
      "model_module_version": "1.0.0",
      "model_name": "LayoutModel",
      "state": {
       "width": "250px"
      }
     },
     "e24cc339127544ba839beb060e9b7f59": {
      "model_module": "@jupyter-widgets/base",
      "model_module_version": "1.0.0",
      "model_name": "LayoutModel",
      "state": {
       "width": "250px"
      }
     },
     "e2fa9b6117a345f3b6d147ed0891ed36": {
      "model_module": "@jupyter-widgets/controls",
      "model_module_version": "1.2.0",
      "model_name": "CheckboxModel",
      "state": {
       "description": "Akkusativmarkierung",
       "disabled": false,
       "layout": "IPY_MODEL_69a20a8156f54ed7b93af93983186682",
       "style": "IPY_MODEL_b4c04f216174441db6d09401fcc13161",
       "value": true
      }
     },
     "e30e54c6cced43c4be2d23188888c098": {
      "model_module": "@jupyter-widgets/base",
      "model_module_version": "1.0.0",
      "model_name": "LayoutModel",
      "state": {
       "width": "150px"
      }
     },
     "e358d6ad4878466eac6c55cba4e3cea0": {
      "model_module": "@jupyter-widgets/base",
      "model_module_version": "1.0.0",
      "model_name": "LayoutModel",
      "state": {}
     },
     "e369c40f9d2a45d18e41f2553ce8327c": {
      "model_module": "@jupyter-widgets/controls",
      "model_module_version": "1.2.0",
      "model_name": "HTMLModel",
      "state": {
       "layout": "IPY_MODEL_8afe280e6d3b4fdbab51a57e86fa979e",
       "style": "IPY_MODEL_29d8a422839245f482fac2e841a63ff7",
       "value": "<i>Wählen Sie die <ins>eine</ins> korrekte Antwort aus: </i>"
      }
     },
     "e3bd7512140f482e80f0d7860f8616d2": {
      "model_module": "@jupyter-widgets/controls",
      "model_module_version": "1.2.0",
      "model_name": "CheckboxModel",
      "state": {
       "description": "Patienseigenschaften",
       "disabled": false,
       "layout": "IPY_MODEL_6a39e75883a940eb85432d720526b968",
       "style": "IPY_MODEL_6ec98c5d09cf402993f7640bdf8b6aed",
       "value": true
      }
     },
     "e4007842b0af47438fc19c20941e5b74": {
      "model_module": "@jupyter-widgets/controls",
      "model_module_version": "1.2.0",
      "model_name": "HTMLModel",
      "state": {
       "layout": "IPY_MODEL_9a5d38c3f0da45cfb506dce546662d75",
       "style": "IPY_MODEL_7963098d4343426f9642f37376ff6fdf",
       "value": "<h4 style=\"font-size:14px;\">Abhängigkeitsbeziehungen verschiedener Art zusammenfasst.</h4>"
      }
     },
     "e43603cde3af490dbf354dbe925eff87": {
      "model_module": "@jupyter-widgets/controls",
      "model_module_version": "1.2.0",
      "model_name": "DescriptionStyleModel",
      "state": {
       "description_width": ""
      }
     },
     "e45d3c157046485e8236d89db3164c6f": {
      "model_module": "@jupyter-widgets/base",
      "model_module_version": "1.0.0",
      "model_name": "LayoutModel",
      "state": {
       "justify_content": "center"
      }
     },
     "e50730dd00ff4426b22454be64cfe196": {
      "model_module": "@jupyter-widgets/base",
      "model_module_version": "1.0.0",
      "model_name": "LayoutModel",
      "state": {
       "width": "600px"
      }
     },
     "e51fcad4f8ab4405997f8ceab1df384d": {
      "model_module": "@jupyter-widgets/controls",
      "model_module_version": "1.2.0",
      "model_name": "VBoxModel",
      "state": {
       "children": [
        "IPY_MODEL_2e6b5965b84c41d7bb5c13aec2328f6d",
        "IPY_MODEL_debb925ea9b340b69878cc3d4caf554c",
        "IPY_MODEL_4b4f30f625e1401aaaaae8be2adc5e5a",
        "IPY_MODEL_d1cb45c8714e488f895f29437051da02"
       ],
       "layout": "IPY_MODEL_3745e306d0594cc3b64ed8bf6133d2bd"
      }
     },
     "e55a1aa97a6e4327a12e12bb8210ff3a": {
      "model_module": "@jupyter-widgets/base",
      "model_module_version": "1.0.0",
      "model_name": "LayoutModel",
      "state": {
       "width": "600px"
      }
     },
     "e5b556c8411d445bab7bae27ea53fa30": {
      "model_module": "@jupyter-widgets/base",
      "model_module_version": "1.0.0",
      "model_name": "LayoutModel",
      "state": {
       "justify_content": "center"
      }
     },
     "e6013a5b94464f63b4af4e3ecc553099": {
      "model_module": "@jupyter-widgets/controls",
      "model_module_version": "1.2.0",
      "model_name": "DescriptionStyleModel",
      "state": {
       "description_width": ""
      }
     },
     "e64f5ef8ed824e408bd7e37674ba56c3": {
      "model_module": "@jupyter-widgets/base",
      "model_module_version": "1.0.0",
      "model_name": "LayoutModel",
      "state": {
       "width": "600px"
      }
     },
     "e668ad73e1184b19baa58643197652b1": {
      "model_module": "@jupyter-widgets/base",
      "model_module_version": "1.0.0",
      "model_name": "LayoutModel",
      "state": {
       "width": "250px"
      }
     },
     "e69871864b014f32818b35fd7f607382": {
      "model_module": "@jupyter-widgets/controls",
      "model_module_version": "1.2.0",
      "model_name": "CheckboxModel",
      "state": {
       "description": "Verb kongruiert mit NP",
       "disabled": false,
       "layout": "IPY_MODEL_347e7583038b4161b5381a0cbd0d7e1a",
       "style": "IPY_MODEL_3ad62cc930344e4896a2b397bfd9776d",
       "value": false
      }
     },
     "e6a704ff496a444fa4d721abd761633e": {
      "model_module": "@jupyter-widgets/controls",
      "model_module_version": "1.2.0",
      "model_name": "DescriptionStyleModel",
      "state": {
       "description_width": "initial"
      }
     },
     "e6f75a653bcc416ea5aa06864ab72e65": {
      "model_module": "@jupyter-widgets/controls",
      "model_module_version": "1.2.0",
      "model_name": "HTMLModel",
      "state": {
       "layout": "IPY_MODEL_753454474ad74f7b893cce5960ced2fe",
       "style": "IPY_MODEL_0ff9508266144118ba0cd94d93b6ba19",
       "value": "<h4 style=\"font-size:14px;\">Wie könnte man abschließend das in Frage stehende Satzglied in Satz 2 charakterisieren?</h4>"
      }
     },
     "e74bcb908d044066b74172682e349511": {
      "model_module": "@jupyter-widgets/controls",
      "model_module_version": "1.2.0",
      "model_name": "DescriptionStyleModel",
      "state": {
       "description_width": "initial"
      }
     },
     "e7aa8da23a4a4747b709947a0e6d0f3f": {
      "model_module": "@jupyter-widgets/base",
      "model_module_version": "1.0.0",
      "model_name": "LayoutModel",
      "state": {
       "justify_content": "center"
      }
     },
     "e81468eebee0466bacf7abdcda23488e": {
      "model_module": "@jupyter-widgets/controls",
      "model_module_version": "1.2.0",
      "model_name": "HTMLModel",
      "state": {
       "layout": "IPY_MODEL_3717a15aa990459e96308387e015f026",
       "style": "IPY_MODEL_ce0160d0e5084d79b2f8db6e77b983ae",
       "value": "<i>Markieren Sie <ins>alle</ins> passenden Antworten: </i>"
      }
     },
     "e8d478305b3d425eaf351aafcf2f4c04": {
      "model_module": "@jupyter-widgets/base",
      "model_module_version": "1.0.0",
      "model_name": "LayoutModel",
      "state": {}
     },
     "e934031f30514f85a5681839c8494db8": {
      "model_module": "@jupyter-widgets/base",
      "model_module_version": "1.0.0",
      "model_name": "LayoutModel",
      "state": {
       "width": "150px"
      }
     },
     "e9fafda216174616b5eb9933d5dea8d1": {
      "model_module": "@jupyter-widgets/controls",
      "model_module_version": "1.2.0",
      "model_name": "HTMLModel",
      "state": {
       "layout": "IPY_MODEL_4cdb315830ca476f8667df883f4a8a3d",
       "style": "IPY_MODEL_db78e14768c74b829caa4689901a77ad",
       "value": "<h4 style=\"font-size:14px;\">Bei</h4>"
      }
     },
     "ea5b71f120f24725bbeb87e49e240813": {
      "model_module": "@jupyter-widgets/controls",
      "model_module_version": "1.2.0",
      "model_name": "ButtonStyleModel",
      "state": {
       "button_color": "lightgreen"
      }
     },
     "eaa180ebf1304b69a8221eb84b58453e": {
      "model_module": "@jupyter-widgets/controls",
      "model_module_version": "1.2.0",
      "model_name": "ButtonStyleModel",
      "state": {}
     },
     "eba6af0f025e4a038f79af7729db50ab": {
      "model_module": "@jupyter-widgets/base",
      "model_module_version": "1.0.0",
      "model_name": "LayoutModel",
      "state": {
       "justify_content": "center"
      }
     },
     "ebe83049751a43f5bb1070da72af4fb1": {
      "model_module": "@jupyter-widgets/controls",
      "model_module_version": "1.2.0",
      "model_name": "HTMLModel",
      "state": {
       "layout": "IPY_MODEL_3b556cbb8e3a4e79ba3f616ae41c2916",
       "style": "IPY_MODEL_7edbfa97b86e4ca9a6d4e95ce1657f52",
       "value": "<i>Markieren Sie <ins>alle</ins> passenden Antworten: </i>"
      }
     },
     "ec434c34efa44d9fb43950eb9245c477": {
      "model_module": "@jupyter-widgets/controls",
      "model_module_version": "1.2.0",
      "model_name": "VBoxModel",
      "state": {
       "children": [
        "IPY_MODEL_81c1085918fa42dba0a97020110e4a6d",
        "IPY_MODEL_c20ebb079f084b9590e25f5ac34ea22a",
        "IPY_MODEL_f65b6cff646d4f3a842ce43f37094768",
        "IPY_MODEL_84614c4234254f00b70a81b616493a1d"
       ],
       "layout": "IPY_MODEL_25671e885c6f4b94b864ee9e08b458af"
      }
     },
     "ec4b1a3dc07542a58b0601fc0a0e5c4d": {
      "model_module": "@jupyter-widgets/base",
      "model_module_version": "1.0.0",
      "model_name": "LayoutModel",
      "state": {}
     },
     "ec767d1677db49dcb03b252da93f634b": {
      "model_module": "@jupyter-widgets/base",
      "model_module_version": "1.0.0",
      "model_name": "LayoutModel",
      "state": {}
     },
     "ece281ca6a0545d382ca4f3a2d8c3c21": {
      "model_module": "@jupyter-widgets/base",
      "model_module_version": "1.0.0",
      "model_name": "LayoutModel",
      "state": {}
     },
     "ed05875e95b84779b07efaaec2d910fc": {
      "model_module": "@jupyter-widgets/controls",
      "model_module_version": "1.2.0",
      "model_name": "ButtonModel",
      "state": {
       "description": "Genitivattribut",
       "layout": "IPY_MODEL_a3c33f52f89846fc979c09944def6e1d",
       "style": "IPY_MODEL_17536b14b62a4536910c3392ad2b66ff"
      }
     },
     "ed1dec5a96b14dd09ec04ac2854b662f": {
      "model_module": "@jupyter-widgets/base",
      "model_module_version": "1.0.0",
      "model_name": "LayoutModel",
      "state": {}
     },
     "ed66ff35238941f496bae94b876f6a4c": {
      "model_module": "@jupyter-widgets/base",
      "model_module_version": "1.0.0",
      "model_name": "LayoutModel",
      "state": {}
     },
     "edafcc86206f44daab6489794cfeb354": {
      "model_module": "@jupyter-widgets/base",
      "model_module_version": "1.0.0",
      "model_name": "LayoutModel",
      "state": {
       "justify_content": "center"
      }
     },
     "edbaeb8e6d4a4503887f2a323bd985f6": {
      "model_module": "@jupyter-widgets/base",
      "model_module_version": "1.0.0",
      "model_name": "LayoutModel",
      "state": {
       "width": "250px"
      }
     },
     "eddba3c6044c4acf944c51dc0d5dd493": {
      "model_module": "@jupyter-widgets/base",
      "model_module_version": "1.0.0",
      "model_name": "LayoutModel",
      "state": {}
     },
     "ee35f68bd40b4bf6b82088e52412fe46": {
      "model_module": "@jupyter-widgets/controls",
      "model_module_version": "1.2.0",
      "model_name": "DescriptionStyleModel",
      "state": {
       "description_width": ""
      }
     },
     "ee7b4fa201334cf5b05ffc79b9e236ef": {
      "model_module": "@jupyter-widgets/base",
      "model_module_version": "1.0.0",
      "model_name": "LayoutModel",
      "state": {}
     },
     "ee87439fe7ee4a5182f2d9307ff35670": {
      "model_module": "@jupyter-widgets/base",
      "model_module_version": "1.0.0",
      "model_name": "LayoutModel",
      "state": {}
     },
     "ee953bd536534610b61f1e3a0d72b85d": {
      "model_module": "@jupyter-widgets/base",
      "model_module_version": "1.0.0",
      "model_name": "LayoutModel",
      "state": {}
     },
     "eebc68d82b444a1da318bf9920a38aab": {
      "model_module": "@jupyter-widgets/controls",
      "model_module_version": "1.2.0",
      "model_name": "DescriptionStyleModel",
      "state": {
       "description_width": ""
      }
     },
     "eef8fd9921db4488ba9fc5bedff55692": {
      "model_module": "@jupyter-widgets/controls",
      "model_module_version": "1.2.0",
      "model_name": "CheckboxModel",
      "state": {
       "description": "Agenseigenschaften",
       "disabled": false,
       "layout": "IPY_MODEL_5bd61760c9304e1988501dfaa3e607d6",
       "style": "IPY_MODEL_01bb6e42cc844f8687c94200e77141b1",
       "value": true
      }
     },
     "ef19a7bc2c7c4952a622c3a0e230d3dc": {
      "model_module": "@jupyter-widgets/controls",
      "model_module_version": "1.2.0",
      "model_name": "DropdownModel",
      "state": {
       "_options_labels": [
        "Angabe",
        "Ergänzung",
        " "
       ],
       "index": 0,
       "layout": "IPY_MODEL_5d71ababdae2441ba75d67b7628bb978",
       "style": "IPY_MODEL_3ff3c25c061c4902b83511f74e95b837"
      }
     },
     "ef698c97643c4b63a94a9cd5bca37363": {
      "model_module": "@jupyter-widgets/controls",
      "model_module_version": "1.2.0",
      "model_name": "DescriptionStyleModel",
      "state": {
       "description_width": "initial"
      }
     },
     "efca585a36454b09a382be5a351dd9c5": {
      "model_module": "@jupyter-widgets/controls",
      "model_module_version": "1.2.0",
      "model_name": "VBoxModel",
      "state": {
       "children": [
        "IPY_MODEL_5a5fc519be444db6b94e7c468479b2f0",
        "IPY_MODEL_fea3b3e30c794039ad677786890b6731",
        "IPY_MODEL_43dc01e060e14711a461dea1fa9e7595"
       ],
       "layout": "IPY_MODEL_2085e1f7a0b74c90865534841f35c3f1"
      }
     },
     "eff5bdf67377456abee34424a6e0ef17": {
      "model_module": "@jupyter-widgets/base",
      "model_module_version": "1.0.0",
      "model_name": "LayoutModel",
      "state": {
       "width": "150px"
      }
     },
     "effc62e204b34190b86fb10ade60dfd4": {
      "model_module": "@jupyter-widgets/base",
      "model_module_version": "1.0.0",
      "model_name": "LayoutModel",
      "state": {
       "width": "250px"
      }
     },
     "f0883aaefa52479da898dd3ed97cd260": {
      "model_module": "@jupyter-widgets/controls",
      "model_module_version": "1.2.0",
      "model_name": "DescriptionStyleModel",
      "state": {
       "description_width": "initial"
      }
     },
     "f0b4c493d3f24b5ab3d404db0f0cfb3c": {
      "model_module": "@jupyter-widgets/controls",
      "model_module_version": "1.2.0",
      "model_name": "ButtonStyleModel",
      "state": {
       "button_color": "lightgreen"
      }
     },
     "f0c87abca1ea4ad4871c58c3e9bcc462": {
      "model_module": "@jupyter-widgets/controls",
      "model_module_version": "1.2.0",
      "model_name": "DescriptionStyleModel",
      "state": {
       "description_width": ""
      }
     },
     "f114282154d740fda041b4d6c91079fd": {
      "model_module": "@jupyter-widgets/controls",
      "model_module_version": "1.2.0",
      "model_name": "DescriptionStyleModel",
      "state": {
       "description_width": "initial"
      }
     },
     "f1ba0f68d73347f1a31112f03837be26": {
      "model_module": "@jupyter-widgets/controls",
      "model_module_version": "1.2.0",
      "model_name": "HTMLModel",
      "state": {
       "layout": "IPY_MODEL_b06b0948d95f4950bdc0e89ddfd8c38a",
       "style": "IPY_MODEL_c50a463b3d8943e3999eb34f3cdab9e6",
       "value": "<h4 style=\"font-size:14px;\">Was sind Identifikationskriterien für das Subjekt?</h4>"
      }
     },
     "f1e9dbf4334845ccbc8260eda44b18a1": {
      "model_module": "@jupyter-widgets/controls",
      "model_module_version": "1.2.0",
      "model_name": "DescriptionStyleModel",
      "state": {
       "description_width": ""
      }
     },
     "f2034f5d2f2d4874843096e7abfe9d5f": {
      "model_module": "@jupyter-widgets/controls",
      "model_module_version": "1.2.0",
      "model_name": "HTMLModel",
      "state": {
       "layout": "IPY_MODEL_fd398db319f04c93b9b0de66c595bcd4",
       "style": "IPY_MODEL_cb53dd77b0b140a2833022889bccaaff",
       "value": "<h4 style=\"font-size:14px;\">Um welchen Attributtyp handelt es sich bei dem Attribut <i>die sich aus irgendeinem Grunde immer wieder verzögert hatte</i>?</h4>"
      }
     },
     "f2434f457d924369be55560e462dbe1e": {
      "model_module": "@jupyter-widgets/controls",
      "model_module_version": "1.2.0",
      "model_name": "DescriptionStyleModel",
      "state": {
       "description_width": "initial"
      }
     },
     "f28359ad99d745859c08d09e078c0454": {
      "model_module": "@jupyter-widgets/controls",
      "model_module_version": "1.2.0",
      "model_name": "CheckboxModel",
      "state": {
       "description": "1. Satz (auf das Pferd)",
       "disabled": false,
       "layout": "IPY_MODEL_ac026ee9c7a849adb9b8aec7ec9bf67c",
       "style": "IPY_MODEL_d768eb828c7c4021880b9ba2352390bb",
       "value": true
      }
     },
     "f2b42fa5b840404eaa1e1b3e122827cf": {
      "model_module": "@jupyter-widgets/controls",
      "model_module_version": "1.2.0",
      "model_name": "BoxModel",
      "state": {
       "children": [
        "IPY_MODEL_39f328e6d5cd4fc6882caf75ac292955",
        "IPY_MODEL_7675d6496ea443a8beeed6768fc63115",
        "IPY_MODEL_b0aa61129f0e49dd8fd49d86a1a8c6a6"
       ],
       "layout": "IPY_MODEL_52add64e5dd744688748f724fc4fa67e"
      }
     },
     "f2e2a1fe3a39423eb59fa812a3ee849b": {
      "model_module": "@jupyter-widgets/base",
      "model_module_version": "1.0.0",
      "model_name": "LayoutModel",
      "state": {}
     },
     "f2ee652f828343b99d8bde03401a03f2": {
      "model_module": "@jupyter-widgets/controls",
      "model_module_version": "1.2.0",
      "model_name": "ButtonModel",
      "state": {
       "description": "Angabe",
       "layout": "IPY_MODEL_d3a402207eff49b98a9f1f8b96a9d342",
       "style": "IPY_MODEL_76f3c9c124574423b8328f44ee5718d8"
      }
     },
     "f336bf6477a3406d8661bb9f8242b9d9": {
      "model_module": "@jupyter-widgets/controls",
      "model_module_version": "1.2.0",
      "model_name": "DescriptionStyleModel",
      "state": {
       "description_width": ""
      }
     },
     "f3cf0fe3ac7847079b2c85363f2ea3e6": {
      "model_module": "@jupyter-widgets/controls",
      "model_module_version": "1.2.0",
      "model_name": "ButtonStyleModel",
      "state": {
       "button_color": "lightgreen"
      }
     },
     "f3ee210a62b44a7b9553fd6c785b0101": {
      "model_module": "@jupyter-widgets/controls",
      "model_module_version": "1.2.0",
      "model_name": "HTMLModel",
      "state": {
       "layout": "IPY_MODEL_9e4340a9d650411bb6ebf424eabe7433",
       "style": "IPY_MODEL_894ae93acab64d2295ce99b2923c1c31",
       "value": "<i>Wählen Sie die <ins>eine</ins> korrekte Antwort aus: </i>"
      }
     },
     "f43ee404f19e4de2a199f82866e6543f": {
      "model_module": "@jupyter-widgets/controls",
      "model_module_version": "1.2.0",
      "model_name": "HBoxModel",
      "state": {
       "children": [
        "IPY_MODEL_c2d47891872547ee96bdd062321f52b2",
        "IPY_MODEL_00ba029259e64e45ae4ba0237a725fcd"
       ],
       "layout": "IPY_MODEL_d6aded6bdab24b7a87030de87f147254"
      }
     },
     "f4d8734d2ebb4beeb4d4414f208cadde": {
      "model_module": "@jupyter-widgets/controls",
      "model_module_version": "1.2.0",
      "model_name": "HTMLModel",
      "state": {
       "layout": "IPY_MODEL_c38366cdbb83470b8a889fdaceee75df",
       "style": "IPY_MODEL_670d156936b84c1a8ac05b4a232005c9",
       "value": "<h4 style=\"font-size:14px;\">gehört zur</h4>"
      }
     },
     "f5a1adc46214460da596bf9b023e39ac": {
      "model_module": "@jupyter-widgets/base",
      "model_module_version": "1.0.0",
      "model_name": "LayoutModel",
      "state": {
       "justify_content": "center"
      }
     },
     "f5c9665d347048a8bce8dc79fb3deb5b": {
      "model_module": "@jupyter-widgets/controls",
      "model_module_version": "1.2.0",
      "model_name": "ButtonStyleModel",
      "state": {
       "button_color": "lightgreen"
      }
     },
     "f61650ad7fda4b48a4793a65255d4538": {
      "model_module": "@jupyter-widgets/controls",
      "model_module_version": "1.2.0",
      "model_name": "ButtonModel",
      "state": {
       "description": "Korrekt?",
       "layout": "IPY_MODEL_179a7d2d13c34b4a90f5983a1aaa334a",
       "style": "IPY_MODEL_c3dce50a699c47aa9046ecdc9f49d446"
      }
     },
     "f636e3b0baa842f9ad7bfbf972cd12a3": {
      "model_module": "@jupyter-widgets/controls",
      "model_module_version": "1.2.0",
      "model_name": "DescriptionStyleModel",
      "state": {
       "description_width": "initial"
      }
     },
     "f64f73b3ffd94e89ab377f14f421f418": {
      "model_module": "@jupyter-widgets/controls",
      "model_module_version": "1.2.0",
      "model_name": "DescriptionStyleModel",
      "state": {
       "description_width": ""
      }
     },
     "f65b6cff646d4f3a842ce43f37094768": {
      "model_module": "@jupyter-widgets/controls",
      "model_module_version": "1.2.0",
      "model_name": "VBoxModel",
      "state": {
       "children": [
        "IPY_MODEL_e2fa9b6117a345f3b6d147ed0891ed36",
        "IPY_MODEL_4cdacea9b5994738b828c1156a0a19b8",
        "IPY_MODEL_69200ddf0f124f8bb3be5745aef6fa11"
       ],
       "layout": "IPY_MODEL_6cc0427962e247229bff56319401d334"
      }
     },
     "f689c78f2e794fdf9a8313b36c4b4436": {
      "model_module": "@jupyter-widgets/base",
      "model_module_version": "1.0.0",
      "model_name": "LayoutModel",
      "state": {
       "width": "250px"
      }
     },
     "f696f9ea25b34c14a9ce42744dbd7c87": {
      "model_module": "@jupyter-widgets/base",
      "model_module_version": "1.0.0",
      "model_name": "LayoutModel",
      "state": {}
     },
     "f6aa20108bc047408d35cc3b6fc8ae90": {
      "model_module": "@jupyter-widgets/base",
      "model_module_version": "1.0.0",
      "model_name": "LayoutModel",
      "state": {
       "width": "250px"
      }
     },
     "f6c57fb3f0d744678e6ce37d07ffb229": {
      "model_module": "@jupyter-widgets/controls",
      "model_module_version": "1.2.0",
      "model_name": "ButtonStyleModel",
      "state": {}
     },
     "f742f6581e654b38bc17efa9d7e7dc44": {
      "model_module": "@jupyter-widgets/controls",
      "model_module_version": "1.2.0",
      "model_name": "VBoxModel",
      "state": {
       "children": [
        "IPY_MODEL_56ddc37f709a471a8550b2aedf1fd634",
        "IPY_MODEL_91cb033ffab34fbea32acefd8f66ee78",
        "IPY_MODEL_fc7d0f1557964e2c8977c285ac812746"
       ],
       "layout": "IPY_MODEL_47629d6ae62d4143ae2345c5264bb763"
      }
     },
     "f77e3eb390a048f1add369582e06475b": {
      "model_module": "@jupyter-widgets/controls",
      "model_module_version": "1.2.0",
      "model_name": "DescriptionStyleModel",
      "state": {
       "description_width": ""
      }
     },
     "f7f2e57e36974c0aaaaf324939cf7b0f": {
      "model_module": "@jupyter-widgets/controls",
      "model_module_version": "1.2.0",
      "model_name": "HTMLModel",
      "state": {
       "layout": "IPY_MODEL_ae60f23bbf6046b38879d3c23f1d462c",
       "style": "IPY_MODEL_4a35a8716a1c4d8cb20fa87cd170f2ec",
       "value": "<i>Markieren Sie <ins>alle</ins> passenden Antworten: </i>"
      }
     },
     "f7fc38f614b24d6c8c9fdca971f907d2": {
      "model_module": "@jupyter-widgets/controls",
      "model_module_version": "1.2.0",
      "model_name": "HTMLModel",
      "state": {
       "layout": "IPY_MODEL_379b95045d1349ad81b1c506d98653f4",
       "style": "IPY_MODEL_7ab6ad430bd3440c9638917efcab0675",
       "value": "<i>Markieren Sie <ins>alle</ins> passenden Antworten: </i>"
      }
     },
     "f8022979051f40c9b2a1d5c4332c7b9e": {
      "model_module": "@jupyter-widgets/controls",
      "model_module_version": "1.2.0",
      "model_name": "ButtonStyleModel",
      "state": {}
     },
     "f85c243ca44040d99e6160426420089f": {
      "model_module": "@jupyter-widgets/base",
      "model_module_version": "1.0.0",
      "model_name": "LayoutModel",
      "state": {
       "width": "600px"
      }
     },
     "f89466cc80504f66bb1f5ad2d400aa25": {
      "model_module": "@jupyter-widgets/controls",
      "model_module_version": "1.2.0",
      "model_name": "HTMLModel",
      "state": {
       "layout": "IPY_MODEL_369baf70b9274efd9b089ebdbd999f3f",
       "style": "IPY_MODEL_e43603cde3af490dbf354dbe925eff87",
       "value": "<h4 style=\"font-size:14px;\">Schlägt der Adverbialsatz-Test fehl, so handelt es sich um eine:</h4>"
      }
     },
     "f899463c64e645e3a9a63440bfc0dc81": {
      "model_module": "@jupyter-widgets/base",
      "model_module_version": "1.0.0",
      "model_name": "LayoutModel",
      "state": {
       "width": "600px"
      }
     },
     "f8ddf893f30a4c14947614367d695243": {
      "model_module": "@jupyter-widgets/base",
      "model_module_version": "1.0.0",
      "model_name": "LayoutModel",
      "state": {
       "justify_content": "center"
      }
     },
     "f932b1ad4f68499fa381e29ad44f98af": {
      "model_module": "@jupyter-widgets/base",
      "model_module_version": "1.0.0",
      "model_name": "LayoutModel",
      "state": {
       "justify_content": "center"
      }
     },
     "f95a4c4ceed0438e8aec3eb867606015": {
      "model_module": "@jupyter-widgets/controls",
      "model_module_version": "1.2.0",
      "model_name": "CheckboxModel",
      "state": {
       "description": "drückt häufig das Topik aus",
       "disabled": false,
       "layout": "IPY_MODEL_0c9c141edba64391972ccb90e7b161c5",
       "style": "IPY_MODEL_7911b64f53534762afe198c6553a342d",
       "value": true
      }
     },
     "f9b0f68f14634406bdd59ff2e2bdc504": {
      "model_module": "@jupyter-widgets/base",
      "model_module_version": "1.0.0",
      "model_name": "LayoutModel",
      "state": {}
     },
     "f9e00d242b774670aac6d5b65d5d16d0": {
      "model_module": "@jupyter-widgets/controls",
      "model_module_version": "1.2.0",
      "model_name": "DescriptionStyleModel",
      "state": {
       "description_width": ""
      }
     },
     "f9f0d2547a5b449eb4755a86df97afca": {
      "model_module": "@jupyter-widgets/base",
      "model_module_version": "1.0.0",
      "model_name": "LayoutModel",
      "state": {
       "width": "150px"
      }
     },
     "fa795cc64a0e47618a7edac7fa457d51": {
      "model_module": "@jupyter-widgets/controls",
      "model_module_version": "1.2.0",
      "model_name": "ButtonStyleModel",
      "state": {}
     },
     "fa806e1956b64e09b8f7d0650a4bd59c": {
      "model_module": "@jupyter-widgets/controls",
      "model_module_version": "1.2.0",
      "model_name": "DescriptionStyleModel",
      "state": {
       "description_width": "initial"
      }
     },
     "fab54e4446b84677a05d0d6144bcd0f4": {
      "model_module": "@jupyter-widgets/controls",
      "model_module_version": "1.2.0",
      "model_name": "ButtonStyleModel",
      "state": {
       "button_color": "lightgreen"
      }
     },
     "fad75dd6375f4695a692e16ea58992dd": {
      "model_module": "@jupyter-widgets/base",
      "model_module_version": "1.0.0",
      "model_name": "LayoutModel",
      "state": {
       "width": "150px"
      }
     },
     "fb43334375224315922603bc75940583": {
      "model_module": "@jupyter-widgets/controls",
      "model_module_version": "1.2.0",
      "model_name": "VBoxModel",
      "state": {
       "children": [
        "IPY_MODEL_c6ed0ce652324535b88ccecff864265e",
        "IPY_MODEL_df976290ae624a80968a7c0d364d66e4",
        "IPY_MODEL_7908a99c16be4d919c02577353fd1860",
        "IPY_MODEL_9917e2aa93e940b98256275c371eccf6",
        "IPY_MODEL_de160fc6c1404d2394a29def072d15be"
       ],
       "layout": "IPY_MODEL_8453b0679035467cb8589a84884b1a5c"
      }
     },
     "fb80abfb805e498b89b1667019eb413e": {
      "model_module": "@jupyter-widgets/base",
      "model_module_version": "1.0.0",
      "model_name": "LayoutModel",
      "state": {}
     },
     "fc416cadbafd41e985699c3adcafead3": {
      "model_module": "@jupyter-widgets/base",
      "model_module_version": "1.0.0",
      "model_name": "LayoutModel",
      "state": {}
     },
     "fc49d84871bc42bdaa66b8742e6108d2": {
      "model_module": "@jupyter-widgets/controls",
      "model_module_version": "1.2.0",
      "model_name": "DropdownModel",
      "state": {
       "_options_labels": [
        " ",
        "Dependenz",
        "Valenz",
        " "
       ],
       "index": 2,
       "layout": "IPY_MODEL_e934031f30514f85a5681839c8494db8",
       "style": "IPY_MODEL_4ae1f050f89640a99c87b635257b1cff"
      }
     },
     "fc6bd2e2ce824d0bb5a257d9c8bb31dc": {
      "model_module": "@jupyter-widgets/controls",
      "model_module_version": "1.2.0",
      "model_name": "VBoxModel",
      "state": {
       "children": [
        "IPY_MODEL_fe43f3b6d2ff4259913c208c6a665827",
        "IPY_MODEL_1ac32bf6ad1f4aeb924686a880c8a027",
        "IPY_MODEL_8a2d760e9b904e1d93dd4801b58d7e44",
        "IPY_MODEL_f61650ad7fda4b48a4793a65255d4538"
       ],
       "layout": "IPY_MODEL_c7d1efbd09d94549864884dc954dc60c"
      }
     },
     "fc7d0f1557964e2c8977c285ac812746": {
      "model_module": "@jupyter-widgets/controls",
      "model_module_version": "1.2.0",
      "model_name": "ButtonModel",
      "state": {
       "description": "Korrekt?",
       "layout": "IPY_MODEL_a2ffc1fd775345359b8e1a828abef8f0",
       "style": "IPY_MODEL_fab54e4446b84677a05d0d6144bcd0f4"
      }
     },
     "fccbfe4a14db489e82cc8ecdcd202cd3": {
      "model_module": "@jupyter-widgets/controls",
      "model_module_version": "1.2.0",
      "model_name": "ButtonStyleModel",
      "state": {}
     },
     "fd398db319f04c93b9b0de66c595bcd4": {
      "model_module": "@jupyter-widgets/base",
      "model_module_version": "1.0.0",
      "model_name": "LayoutModel",
      "state": {
       "justify_content": "center"
      }
     },
     "fda0738dcc9c4923beb897c483410b06": {
      "model_module": "@jupyter-widgets/controls",
      "model_module_version": "1.2.0",
      "model_name": "DescriptionStyleModel",
      "state": {
       "description_width": ""
      }
     },
     "fe367efb1f8a4cacb1ffaf2089908ba0": {
      "model_module": "@jupyter-widgets/controls",
      "model_module_version": "1.2.0",
      "model_name": "ButtonStyleModel",
      "state": {}
     },
     "fe43f3b6d2ff4259913c208c6a665827": {
      "model_module": "@jupyter-widgets/controls",
      "model_module_version": "1.2.0",
      "model_name": "HTMLModel",
      "state": {
       "layout": "IPY_MODEL_592c5a192ff94d3faa2c4c0a06d69c88",
       "style": "IPY_MODEL_b2e7fa393c3b47f5b0dcf76473b65f5c",
       "value": "<h4 style=\"font-size:14px;\">Mit welchen Tests kann die Funktion des obrigen Satzgliedes <i> mit der S-Bahn </i> festgestellt werden?</h4>"
      }
     },
     "fe5886ff8a1d4b56ab288c7d7beaf750": {
      "model_module": "@jupyter-widgets/controls",
      "model_module_version": "1.2.0",
      "model_name": "HTMLModel",
      "state": {
       "layout": "IPY_MODEL_0734f5ca38314834879e34c68498cb55",
       "style": "IPY_MODEL_9995638c4a5646f78da35135684f70c0",
       "value": "<i>Markieren Sie <ins>alle</ins> passenden Antworten: </i>"
      }
     },
     "fea3b3e30c794039ad677786890b6731": {
      "model_module": "@jupyter-widgets/controls",
      "model_module_version": "1.2.0",
      "model_name": "CheckboxModel",
      "state": {
       "description": "Genitivmarkierung",
       "disabled": false,
       "layout": "IPY_MODEL_41e10da98d8c4734922e0febd21d854f",
       "style": "IPY_MODEL_d74abc44bd4646d9a17ba494bbd17753",
       "value": false
      }
     },
     "ff329bbbafac43d0ab810a703bccf662": {
      "model_module": "@jupyter-widgets/controls",
      "model_module_version": "1.2.0",
      "model_name": "HBoxModel",
      "state": {
       "children": [
        "IPY_MODEL_06a54a17bacf499b91cee6604d1778b2",
        "IPY_MODEL_3bbbb2330610431aa3f1b0b484d745c0"
       ],
       "layout": "IPY_MODEL_192af4e299a0487bbb360db59df36490"
      }
     },
     "ff86180809834a619d3ac15fc88a4b49": {
      "model_module": "@jupyter-widgets/base",
      "model_module_version": "1.0.0",
      "model_name": "LayoutModel",
      "state": {
       "width": "600px"
      }
     },
     "fff47e12485d4a58a6f7a0d3292b6f0b": {
      "model_module": "@jupyter-widgets/controls",
      "model_module_version": "1.2.0",
      "model_name": "CheckboxModel",
      "state": {
       "description": "H wählt D aus",
       "disabled": false,
       "layout": "IPY_MODEL_daa033ad5a5e433ba1f1e93f547a5746",
       "style": "IPY_MODEL_a9729bcb32ac4be5baca5ab4289dc792",
       "value": true
      }
     }
    },
    "version_major": 2,
    "version_minor": 0
   }
  }
 },
 "nbformat": 4,
 "nbformat_minor": 2
}
