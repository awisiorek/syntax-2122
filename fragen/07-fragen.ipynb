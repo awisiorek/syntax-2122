{
 "cells": [
  {
   "cell_type": "markdown",
   "metadata": {},
   "source": [
    "***Syntax natürlicher Sprachen, WS 2021/22***\n",
    "\n",
    "---\n",
    "# Wiederholungsfragen 7"
   ]
  },
  {
   "cell_type": "code",
   "execution_count": 1,
   "metadata": {},
   "outputs": [],
   "source": [
    "from exercises_7 import *\n",
    "from questions import aufgabe"
   ]
  },
  {
   "cell_type": "markdown",
   "metadata": {},
   "source": [
    "--- \n",
    "# Hausaufgaben"
   ]
  },
  {
   "cell_type": "markdown",
   "metadata": {},
   "source": [
    "---\n",
    "## Frage 1: Fragen zu NLTK-Kapitel 9.3.5\n",
    "\n",
    "#### Lesen Sie das NLTK-Teilkapitel 9.3.5 (’Case and Gender in German’): http://www.nltk.org/book/ch09.html#tab-german-def-art.\n",
    "#### Vollziehen Sie im letzten Codeblock das Trace-Output nach und erklären Sie, warum der Satz von der Grammatik abgelehnt wird."
   ]
  },
  {
   "cell_type": "code",
   "execution_count": 2,
   "metadata": {},
   "outputs": [
    {
     "data": {
      "application/vnd.jupyter.widget-view+json": {
       "model_id": "2eefb9a48d6a4bda921633376b7eb094",
       "version_major": 2,
       "version_minor": 0
      },
      "text/plain": [
       "MultipleChoice(children=(HTML(value='<h4 style=\"font-size:14px;\">Welche DET-Kategorien gibt es für den Satz?</…"
      ]
     },
     "metadata": {},
     "output_type": "display_data"
    },
    {
     "data": {
      "application/vnd.jupyter.widget-view+json": {
       "model_id": "2754c88009d24d92915095cb9817277a",
       "version_major": 2,
       "version_minor": 0
      },
      "text/plain": [
       "SingleChoice(children=(HTML(value='<h4 style=\"font-size:14px;\">Wieso wird der Satz von der Grammatik abgelehnt…"
      ]
     },
     "metadata": {},
     "output_type": "display_data"
    },
    {
     "data": {
      "application/vnd.jupyter.widget-view+json": {
       "model_id": "0edefe559ffa49d99b51c02ee2a4e6a0",
       "version_major": 2,
       "version_minor": 0
      },
      "text/plain": [
       "MultipleChoice(children=(HTML(value='<h4 style=\"font-size:14px;\">Wo liegt das Problem, sodass der Satz abgeleh…"
      ]
     },
     "metadata": {},
     "output_type": "display_data"
    }
   ],
   "source": [
    "aufgabe(blatt7_1)"
   ]
  }
 ],
 "metadata": {
  "kernelspec": {
   "display_name": "Python 3",
   "language": "python",
   "name": "python3"
  },
  "language_info": {
   "codemirror_mode": {
    "name": "ipython",
    "version": 3
   },
   "file_extension": ".py",
   "mimetype": "text/x-python",
   "name": "python",
   "nbconvert_exporter": "python",
   "pygments_lexer": "ipython3",
   "version": "3.6.1"
  },
  "widgets": {
   "application/vnd.jupyter.widget-state+json": {
    "state": {
     "004dcc6281ff4d81bdc78ee5bc8bed45": {
      "model_module": "@jupyter-widgets/controls",
      "model_module_version": "1.2.0",
      "model_name": "HTMLModel",
      "state": {
       "layout": "IPY_MODEL_5dbf8fa9311e455ebc20cab103f00f4e",
       "style": "IPY_MODEL_16495984cfbd4543bc717848e8078408",
       "value": "<h4 style=\"font-size:14px;\">Wo liegt das Problem, sodass der Satz abgeleht wird?</h4>"
      }
     },
     "014a96c10a03400fae66b3484b839996": {
      "model_module": "@jupyter-widgets/controls",
      "model_module_version": "1.2.0",
      "model_name": "ButtonModel",
      "state": {
       "description": "nicht unifizierbar",
       "layout": "IPY_MODEL_16870ff2d0284071b5c628f8aded20e3",
       "style": "IPY_MODEL_e4df2be6123d426db3ef180792bfb9f8"
      }
     },
     "014dfee6b04349b1ae5829d31248d638": {
      "model_module": "@jupyter-widgets/base",
      "model_module_version": "1.0.0",
      "model_name": "LayoutModel",
      "state": {
       "justify_content": "center"
      }
     },
     "017c047907a143b78f99e78f2860b76f": {
      "model_module": "@jupyter-widgets/controls",
      "model_module_version": "1.2.0",
      "model_name": "DescriptionStyleModel",
      "state": {
       "description_width": ""
      }
     },
     "02565c380eb84b47bf452084fddfc30d": {
      "model_module": "@jupyter-widgets/controls",
      "model_module_version": "1.2.0",
      "model_name": "DescriptionStyleModel",
      "state": {
       "description_width": "initial"
      }
     },
     "02cd4f9651284c54be9d1329324dc20f": {
      "model_module": "@jupyter-widgets/base",
      "model_module_version": "1.0.0",
      "model_name": "LayoutModel",
      "state": {
       "width": "600px"
      }
     },
     "036dc84a822140189f7fab52f861d662": {
      "model_module": "@jupyter-widgets/controls",
      "model_module_version": "1.2.0",
      "model_name": "VBoxModel",
      "state": {
       "children": [
        "IPY_MODEL_b07c5776714c462f9624360faf634bbb",
        "IPY_MODEL_2fcea34cc57941ae902c559c09c9ee92",
        "IPY_MODEL_61718f23d75c4b05b8d147a6aa1ac98b",
        "IPY_MODEL_af315b1013854a54b6cb4e559abaafc6"
       ],
       "layout": "IPY_MODEL_9da34bcdf6d34999a1723d082cd3d762"
      }
     },
     "03b0f30885a54fef9ec8135d85298c1f": {
      "model_module": "@jupyter-widgets/controls",
      "model_module_version": "1.2.0",
      "model_name": "DescriptionStyleModel",
      "state": {
       "description_width": "initial"
      }
     },
     "03d7a068aaae41f9baa8774a080ca0fc": {
      "model_module": "@jupyter-widgets/base",
      "model_module_version": "1.0.0",
      "model_name": "LayoutModel",
      "state": {}
     },
     "0442d55f2bd6451abcc3644000f5c47a": {
      "model_module": "@jupyter-widgets/controls",
      "model_module_version": "1.2.0",
      "model_name": "VBoxModel",
      "state": {
       "children": [
        "IPY_MODEL_7851a69bcfb44917834aa630ee750965",
        "IPY_MODEL_b23cb0efd622429facf0268c54f90265",
        "IPY_MODEL_290576245118426485f40970b00a83b3",
        "IPY_MODEL_fae857bca9c34efaa0ee129b9b2726c6"
       ],
       "layout": "IPY_MODEL_8c0370c51e224af8b518fee6e2c24168"
      }
     },
     "057b0cd824684579a0ffa9970fbe5e7c": {
      "model_module": "@jupyter-widgets/base",
      "model_module_version": "1.0.0",
      "model_name": "LayoutModel",
      "state": {
       "width": "600px"
      }
     },
     "05b588babc6b438ba027cc881b09a7dd": {
      "model_module": "@jupyter-widgets/controls",
      "model_module_version": "1.2.0",
      "model_name": "HTMLModel",
      "state": {
       "layout": "IPY_MODEL_fb6dd8b62d4f46299484849f0312cb1d",
       "style": "IPY_MODEL_6035b324506a4089aee9bc498bd86bd4",
       "value": "<i>Markieren Sie <ins>alle</ins> passenden Antworten: </i>"
      }
     },
     "068a0866dcb847ce8fa4c0d7ab278822": {
      "model_module": "@jupyter-widgets/base",
      "model_module_version": "1.0.0",
      "model_name": "LayoutModel",
      "state": {
       "width": "600px"
      }
     },
     "077541a40ed0440a99e7cf097db1495e": {
      "model_module": "@jupyter-widgets/controls",
      "model_module_version": "1.2.0",
      "model_name": "DescriptionStyleModel",
      "state": {
       "description_width": "initial"
      }
     },
     "07d92e3ebb684c218fc573ae448142b4": {
      "model_module": "@jupyter-widgets/base",
      "model_module_version": "1.0.0",
      "model_name": "LayoutModel",
      "state": {
       "justify_content": "center"
      }
     },
     "07e584ad91d049a4af422ccd060b0c3f": {
      "model_module": "@jupyter-widgets/controls",
      "model_module_version": "1.2.0",
      "model_name": "ButtonModel",
      "state": {
       "description": "Keine der anderen Möglichkeiten",
       "layout": "IPY_MODEL_57a8d4ef0af1489a93f2338ddd04dad5",
       "style": "IPY_MODEL_fc59eb97584e4776a2a49b027e973c06"
      }
     },
     "08116dea519b442f992fc5286908cdb5": {
      "model_module": "@jupyter-widgets/controls",
      "model_module_version": "1.2.0",
      "model_name": "CheckboxModel",
      "state": {
       "description": "< N GEN > ≠ < DET GEN >",
       "disabled": false,
       "layout": "IPY_MODEL_0baa1e68eeed488dbba4d2f8c80fed3f",
       "style": "IPY_MODEL_302c62bfba0c4015a5e1ac906cd29556",
       "value": true
      }
     },
     "09018aceec644a0fb60b1722f4eaa7a0": {
      "model_module": "@jupyter-widgets/base",
      "model_module_version": "1.0.0",
      "model_name": "LayoutModel",
      "state": {}
     },
     "095eb6845641477b9bc727d0d80110c9": {
      "model_module": "@jupyter-widgets/base",
      "model_module_version": "1.0.0",
      "model_name": "LayoutModel",
      "state": {
       "width": "250px"
      }
     },
     "0993a811abdf4019992be0f1b04c586e": {
      "model_module": "@jupyter-widgets/controls",
      "model_module_version": "1.2.0",
      "model_name": "ButtonStyleModel",
      "state": {}
     },
     "09c6a24cf07f4cd8ae1cd6523d5ec88e": {
      "model_module": "@jupyter-widgets/controls",
      "model_module_version": "1.2.0",
      "model_name": "HTMLModel",
      "state": {
       "layout": "IPY_MODEL_a0e4e0e3a2a24e258fbc61aa2b04f160",
       "style": "IPY_MODEL_b4b4e462c8a24ca5a69ae6574047c0a3",
       "value": "<h4 style=\"font-size:14px;\">Wieso wird der Satz von der Grammatik abgelehnt?</h4>"
      }
     },
     "0a5198693bbd43d489ec1c19a78379df": {
      "model_module": "@jupyter-widgets/base",
      "model_module_version": "1.0.0",
      "model_name": "LayoutModel",
      "state": {
       "justify_content": "center"
      }
     },
     "0a9d3f8c7c394d0a86a621df320e1b55": {
      "model_module": "@jupyter-widgets/controls",
      "model_module_version": "1.2.0",
      "model_name": "CheckboxModel",
      "state": {
       "description": "[NUM=’sg’, PER=3]",
       "disabled": false,
       "layout": "IPY_MODEL_cecd90d066254881b8dfa17fa0f734f2",
       "style": "IPY_MODEL_0ed29e4f2f6741dd9aa3035673e708ef",
       "value": false
      }
     },
     "0b76c1a5b50940e4a6932e700251961d": {
      "model_module": "@jupyter-widgets/base",
      "model_module_version": "1.0.0",
      "model_name": "LayoutModel",
      "state": {
       "width": "250px"
      }
     },
     "0baa1e68eeed488dbba4d2f8c80fed3f": {
      "model_module": "@jupyter-widgets/base",
      "model_module_version": "1.0.0",
      "model_name": "LayoutModel",
      "state": {
       "width": "600px"
      }
     },
     "0c25b70ccbbc46d0b405f6b6a0a52dc0": {
      "model_module": "@jupyter-widgets/base",
      "model_module_version": "1.0.0",
      "model_name": "LayoutModel",
      "state": {}
     },
     "0c41a2f9665a4fc2a575bdb894c3b715": {
      "model_module": "@jupyter-widgets/base",
      "model_module_version": "1.0.0",
      "model_name": "LayoutModel",
      "state": {
       "width": "250px"
      }
     },
     "0d27fbc60e9f4b2c8b1ad49ee9c4e375": {
      "model_module": "@jupyter-widgets/base",
      "model_module_version": "1.0.0",
      "model_name": "LayoutModel",
      "state": {
       "width": "600px"
      }
     },
     "0ddb531c24554d8a974d0bd7ec051e6f": {
      "model_module": "@jupyter-widgets/controls",
      "model_module_version": "1.2.0",
      "model_name": "HTMLModel",
      "state": {
       "layout": "IPY_MODEL_74ddbbc5f41a41a4af85044caed8d0da",
       "style": "IPY_MODEL_71c4695988da437b9fb10b01a9b30d2b",
       "value": "<h4 style=\"font-size:14px;\">Welche DET-Kategorien gibt es für den Satz?</h4>"
      }
     },
     "0e1e55d1302e4b7a958c9afedc7acb59": {
      "model_module": "@jupyter-widgets/base",
      "model_module_version": "1.0.0",
      "model_name": "LayoutModel",
      "state": {}
     },
     "0e294ad8112546388a05b5e3c9fd62e2": {
      "model_module": "@jupyter-widgets/controls",
      "model_module_version": "1.2.0",
      "model_name": "DescriptionStyleModel",
      "state": {
       "description_width": ""
      }
     },
     "0ed29e4f2f6741dd9aa3035673e708ef": {
      "model_module": "@jupyter-widgets/controls",
      "model_module_version": "1.2.0",
      "model_name": "DescriptionStyleModel",
      "state": {
       "description_width": "initial"
      }
     },
     "0edc5f1bd21247719b66fdb8f549276c": {
      "model_module": "@jupyter-widgets/controls",
      "model_module_version": "1.2.0",
      "model_name": "VBoxModel",
      "state": {
       "children": [
        "IPY_MODEL_08116dea519b442f992fc5286908cdb5",
        "IPY_MODEL_99d256fa64ac463e9bf8e6354eda0224",
        "IPY_MODEL_68c7c8c069d444108a35ff0aa1599cf0"
       ],
       "layout": "IPY_MODEL_f9acaa49b38b48609c9bfcdbd19b3617"
      }
     },
     "0edefe559ffa49d99b51c02ee2a4e6a0": {
      "model_module": "@jupyter-widgets/controls",
      "model_module_version": "1.2.0",
      "model_name": "VBoxModel",
      "state": {
       "children": [
        "IPY_MODEL_004dcc6281ff4d81bdc78ee5bc8bed45",
        "IPY_MODEL_788763af4e1a4774a9c2e5bf74cd5b21",
        "IPY_MODEL_3fbb8eec91d348d582109e6e7a16aab2",
        "IPY_MODEL_415f55f4b86c4ac29e934bc29fbb570f"
       ],
       "layout": "IPY_MODEL_6296a59385a442d082905d7879d67f0b"
      }
     },
     "0f474b3d4d774badaf072d9e85f472fd": {
      "model_module": "@jupyter-widgets/controls",
      "model_module_version": "1.2.0",
      "model_name": "DescriptionStyleModel",
      "state": {
       "description_width": ""
      }
     },
     "0f64b5455bc94f799d1642b5b997cb56": {
      "model_module": "@jupyter-widgets/controls",
      "model_module_version": "1.2.0",
      "model_name": "HTMLModel",
      "state": {
       "layout": "IPY_MODEL_cb151a7a888d4c4cb980668814081464",
       "style": "IPY_MODEL_af472a3ab86044f2861346bc0d955f97",
       "value": "<h4 style=\"font-size:14px;\">Wieso wird der Satz von der Grammatik abgelehnt?</h4>"
      }
     },
     "100070e92be245649ea43ea15f47d2a8": {
      "model_module": "@jupyter-widgets/controls",
      "model_module_version": "1.2.0",
      "model_name": "HTMLModel",
      "state": {
       "layout": "IPY_MODEL_9fe6e3d2a69c4d5a8d73f45a29e9a7e2",
       "style": "IPY_MODEL_10751b7755a04d47bce1e09450f57813",
       "value": "<h4 style=\"font-size:14px;\">Welche DET-Kategorien gibt es für den Satz?</h4>"
      }
     },
     "10751b7755a04d47bce1e09450f57813": {
      "model_module": "@jupyter-widgets/controls",
      "model_module_version": "1.2.0",
      "model_name": "DescriptionStyleModel",
      "state": {
       "description_width": ""
      }
     },
     "10bec43c40b949739a0471803e8267ad": {
      "model_module": "@jupyter-widgets/controls",
      "model_module_version": "1.2.0",
      "model_name": "VBoxModel",
      "state": {
       "children": [
        "IPY_MODEL_6b7bdfafea80423e9346714321878553",
        "IPY_MODEL_d6d769eeebc04cb6b0a1437be8a610b7",
        "IPY_MODEL_77f27272c7d646d7852da798afc33f9f",
        "IPY_MODEL_c5d1099a613b48fbbc4b3ec2fa0470b3"
       ],
       "layout": "IPY_MODEL_703d48f44cd843d9917978991352c0fb"
      }
     },
     "110216f92b7e4adb96fa9545192b159f": {
      "model_module": "@jupyter-widgets/controls",
      "model_module_version": "1.2.0",
      "model_name": "ButtonStyleModel",
      "state": {
       "button_color": "lightgreen"
      }
     },
     "118c32f91e4846f0a2e8621bac064ae0": {
      "model_module": "@jupyter-widgets/base",
      "model_module_version": "1.0.0",
      "model_name": "LayoutModel",
      "state": {
       "width": "250px"
      }
     },
     "11cd503280fc429eb6254c22d47ed115": {
      "model_module": "@jupyter-widgets/base",
      "model_module_version": "1.0.0",
      "model_name": "LayoutModel",
      "state": {}
     },
     "11e6c8b360a94048afcc5ae9265de966": {
      "model_module": "@jupyter-widgets/controls",
      "model_module_version": "1.2.0",
      "model_name": "DescriptionStyleModel",
      "state": {
       "description_width": ""
      }
     },
     "11f4d8032b034048907feefa7f084b4a": {
      "model_module": "@jupyter-widgets/controls",
      "model_module_version": "1.2.0",
      "model_name": "ButtonStyleModel",
      "state": {}
     },
     "1277d351e4934db5a7b819cda3d0440d": {
      "model_module": "@jupyter-widgets/controls",
      "model_module_version": "1.2.0",
      "model_name": "CheckboxModel",
      "state": {
       "description": "[GND=’masc’, NUM=’sg’, PER=3]",
       "disabled": false,
       "layout": "IPY_MODEL_ec9d7aefa0f54a159ea7b82a8aa2aad1",
       "style": "IPY_MODEL_d772da19ada3439e836243aecb1f1490",
       "value": false
      }
     },
     "1286d5ebde8a4dbcbd3f3f36019d0af0": {
      "model_module": "@jupyter-widgets/controls",
      "model_module_version": "1.2.0",
      "model_name": "ButtonModel",
      "state": {
       "description": "nicht unifizierbar",
       "layout": "IPY_MODEL_d36e03ba9d6541628e1cc3868d17b991",
       "style": "IPY_MODEL_c780574dd8c04cda8cf52f49f4107700"
      }
     },
     "12ad8975ff1f44dabea605710f45af9b": {
      "model_module": "@jupyter-widgets/controls",
      "model_module_version": "1.2.0",
      "model_name": "HTMLModel",
      "state": {
       "layout": "IPY_MODEL_14dda78bee3f4f24a7d4dc0d3be008e5",
       "style": "IPY_MODEL_3841d4d9492e472984eee297cc44c16b",
       "value": "<h4 style=\"font-size:14px;\">Wieso wird der Satz von der Grammatik abgelehnt?</h4>"
      }
     },
     "133a78d4b6c24d76b31b7efd290fcef5": {
      "model_module": "@jupyter-widgets/controls",
      "model_module_version": "1.2.0",
      "model_name": "HTMLModel",
      "state": {
       "layout": "IPY_MODEL_325cfe50bb1640c8a6affa38656e738c",
       "style": "IPY_MODEL_d7dc3bc54e3344209052c278da3e7e7a",
       "value": "<i>Markieren Sie <ins>alle</ins> passenden Antworten: </i>"
      }
     },
     "13a2aa7fab39452884d14f5f71a97dc8": {
      "model_module": "@jupyter-widgets/base",
      "model_module_version": "1.0.0",
      "model_name": "LayoutModel",
      "state": {}
     },
     "142599f9c18240e8aed71fcd0f9c1559": {
      "model_module": "@jupyter-widgets/base",
      "model_module_version": "1.0.0",
      "model_name": "LayoutModel",
      "state": {}
     },
     "14300c8bf2e84be5a50395778bdf77fb": {
      "model_module": "@jupyter-widgets/controls",
      "model_module_version": "1.2.0",
      "model_name": "DescriptionStyleModel",
      "state": {
       "description_width": ""
      }
     },
     "14dda78bee3f4f24a7d4dc0d3be008e5": {
      "model_module": "@jupyter-widgets/base",
      "model_module_version": "1.0.0",
      "model_name": "LayoutModel",
      "state": {
       "justify_content": "center"
      }
     },
     "14e0bd256b6245cf8ba4ddf8fca4df36": {
      "model_module": "@jupyter-widgets/controls",
      "model_module_version": "1.2.0",
      "model_name": "DescriptionStyleModel",
      "state": {
       "description_width": "initial"
      }
     },
     "152b2e8b4fb14a7a849e91f19fd79f4b": {
      "model_module": "@jupyter-widgets/controls",
      "model_module_version": "1.2.0",
      "model_name": "CheckboxModel",
      "state": {
       "description": "< N NUM > ≠ < DET NUM >",
       "disabled": false,
       "layout": "IPY_MODEL_6c298d4b88454afc8365e4154324650c",
       "style": "IPY_MODEL_5ea546c089974b0cbb1171367df6fc2e",
       "value": false
      }
     },
     "1601bd19262d40a4aad42bf7ceeab712": {
      "model_module": "@jupyter-widgets/base",
      "model_module_version": "1.0.0",
      "model_name": "LayoutModel",
      "state": {
       "justify_content": "center"
      }
     },
     "1644773e75fa4d51a1c85f465a42ceb8": {
      "model_module": "@jupyter-widgets/controls",
      "model_module_version": "1.2.0",
      "model_name": "CheckboxModel",
      "state": {
       "description": "[NUM=’sg’, PER=3]",
       "disabled": false,
       "layout": "IPY_MODEL_1c4a1fddc4774b75a2e340cc5ecf5118",
       "style": "IPY_MODEL_290c65e9b7ef45ecb1396036ee8c26f2",
       "value": false
      }
     },
     "16495984cfbd4543bc717848e8078408": {
      "model_module": "@jupyter-widgets/controls",
      "model_module_version": "1.2.0",
      "model_name": "DescriptionStyleModel",
      "state": {
       "description_width": ""
      }
     },
     "166286ae9bc449d0b0be6634c6809fd2": {
      "model_module": "@jupyter-widgets/controls",
      "model_module_version": "1.2.0",
      "model_name": "ButtonModel",
      "state": {
       "description": "Korrekt?",
       "layout": "IPY_MODEL_ac69fde5ee3a44c882f692384e6888de",
       "style": "IPY_MODEL_8359b50b309647f0adaef485c01de647"
      }
     },
     "166bdbcbd5e54bddadf9be29a551ec8a": {
      "model_module": "@jupyter-widgets/controls",
      "model_module_version": "1.2.0",
      "model_name": "ButtonStyleModel",
      "state": {
       "button_color": "lightgreen"
      }
     },
     "16870ff2d0284071b5c628f8aded20e3": {
      "model_module": "@jupyter-widgets/base",
      "model_module_version": "1.0.0",
      "model_name": "LayoutModel",
      "state": {
       "width": "250px"
      }
     },
     "177f5abb6d6c4ddfaffbe6e81a5afc5e": {
      "model_module": "@jupyter-widgets/controls",
      "model_module_version": "1.2.0",
      "model_name": "HBoxModel",
      "state": {
       "children": [
        "IPY_MODEL_07e584ad91d049a4af422ccd060b0c3f"
       ],
       "layout": "IPY_MODEL_f539fa34cc894c03b30b81f80cf152cb"
      }
     },
     "1883320776624ffa9e5a3b2b4d8645e6": {
      "model_module": "@jupyter-widgets/base",
      "model_module_version": "1.0.0",
      "model_name": "LayoutModel",
      "state": {
       "width": "600px"
      }
     },
     "18ea69912fc84145a51d51974fd94298": {
      "model_module": "@jupyter-widgets/controls",
      "model_module_version": "1.2.0",
      "model_name": "ButtonStyleModel",
      "state": {}
     },
     "197501500be942949e3e52ed6d9b69c6": {
      "model_module": "@jupyter-widgets/controls",
      "model_module_version": "1.2.0",
      "model_name": "HTMLModel",
      "state": {
       "layout": "IPY_MODEL_8689564c138a4ad992b45fbeeb00b630",
       "style": "IPY_MODEL_223dcfa250084d8cbfa74d5cfd47b8f8",
       "value": "<i>Wählen Sie die <ins>eine</ins> korrekte Antwort aus: </i>"
      }
     },
     "19f3bd6e84ae49ac9f4dae3636753739": {
      "model_module": "@jupyter-widgets/base",
      "model_module_version": "1.0.0",
      "model_name": "LayoutModel",
      "state": {
       "justify_content": "center"
      }
     },
     "1a243dc9c91f49169b4e7b5b74a9ac17": {
      "model_module": "@jupyter-widgets/controls",
      "model_module_version": "1.2.0",
      "model_name": "ButtonModel",
      "state": {
       "description": "nicht unifizierbar",
       "layout": "IPY_MODEL_37a7f28a7e794515ba4c8bcf605e337d",
       "style": "IPY_MODEL_2b91d2352d304387ac7415e17b726d73"
      }
     },
     "1a528e95148a41af8202f1506c531d95": {
      "model_module": "@jupyter-widgets/base",
      "model_module_version": "1.0.0",
      "model_name": "LayoutModel",
      "state": {}
     },
     "1a6cfde788194bcd83ad45c242c67899": {
      "model_module": "@jupyter-widgets/controls",
      "model_module_version": "1.2.0",
      "model_name": "HTMLModel",
      "state": {
       "layout": "IPY_MODEL_64f4256510614789bf49fcbf55d02f64",
       "style": "IPY_MODEL_4c8cc0b66c3c44d883a1f84937fc7a46",
       "value": "<h4 style=\"font-size:14px;\">Wo liegt das Problem, sodass der Satz abgeleht wird?</h4>"
      }
     },
     "1aff06dc35e145978663f970f5361269": {
      "model_module": "@jupyter-widgets/base",
      "model_module_version": "1.0.0",
      "model_name": "LayoutModel",
      "state": {
       "justify_content": "center"
      }
     },
     "1b8d4405e7ce4924bae0689699359f16": {
      "model_module": "@jupyter-widgets/base",
      "model_module_version": "1.0.0",
      "model_name": "LayoutModel",
      "state": {}
     },
     "1ba7dc2731364789a050e5fc4d5f262e": {
      "model_module": "@jupyter-widgets/base",
      "model_module_version": "1.0.0",
      "model_name": "LayoutModel",
      "state": {
       "justify_content": "center"
      }
     },
     "1bac5c176a8e4bacb5a621287febeb4b": {
      "model_module": "@jupyter-widgets/base",
      "model_module_version": "1.0.0",
      "model_name": "LayoutModel",
      "state": {
       "width": "600px"
      }
     },
     "1c2706f6c83d4e0dbcee8ad2c290094e": {
      "model_module": "@jupyter-widgets/base",
      "model_module_version": "1.0.0",
      "model_name": "LayoutModel",
      "state": {
       "width": "250px"
      }
     },
     "1c4a1fddc4774b75a2e340cc5ecf5118": {
      "model_module": "@jupyter-widgets/base",
      "model_module_version": "1.0.0",
      "model_name": "LayoutModel",
      "state": {
       "width": "600px"
      }
     },
     "1cab22689f624a8f898e38f98056ecf4": {
      "model_module": "@jupyter-widgets/controls",
      "model_module_version": "1.2.0",
      "model_name": "VBoxModel",
      "state": {
       "children": [
        "IPY_MODEL_100070e92be245649ea43ea15f47d2a8",
        "IPY_MODEL_f20776d33dd7417bb244b1df61af7061",
        "IPY_MODEL_e0566c1ee6c14ffca24c081fce51c734",
        "IPY_MODEL_8774b6c5b274456ab2e680a931cd95af"
       ],
       "layout": "IPY_MODEL_4e4a1223b04943eaa64ac885f1bd4c26"
      }
     },
     "1ccacb8b10c448c1874732c2a38a655a": {
      "model_module": "@jupyter-widgets/controls",
      "model_module_version": "1.2.0",
      "model_name": "ButtonModel",
      "state": {
       "description": "Keine der anderen Möglichkeiten",
       "layout": "IPY_MODEL_6f53134b2fa64343b18e54367bae3db5",
       "style": "IPY_MODEL_9289492f2f7f444280ba5297bda21c93"
      }
     },
     "1d101342c7e740848e4954890cb442b9": {
      "model_module": "@jupyter-widgets/controls",
      "model_module_version": "1.2.0",
      "model_name": "HTMLModel",
      "state": {
       "layout": "IPY_MODEL_3435d2f12dbe44e48919d88cd58e0c3b",
       "style": "IPY_MODEL_38956d9ed39c466f966321c3159101d3",
       "value": "<h4 style=\"font-size:14px;\">Wo liegt das Problem, sodass der Satz abgeleht wird?</h4>"
      }
     },
     "1d1b8e0feb6e451489dcd786ad842fa5": {
      "model_module": "@jupyter-widgets/controls",
      "model_module_version": "1.2.0",
      "model_name": "ButtonStyleModel",
      "state": {
       "button_color": "lightgreen"
      }
     },
     "1d8cd427b1064f02b361e538209847f5": {
      "model_module": "@jupyter-widgets/controls",
      "model_module_version": "1.2.0",
      "model_name": "DescriptionStyleModel",
      "state": {
       "description_width": "initial"
      }
     },
     "1e0ca694f46643a7ac853089752eb545": {
      "model_module": "@jupyter-widgets/controls",
      "model_module_version": "1.2.0",
      "model_name": "HTMLModel",
      "state": {
       "layout": "IPY_MODEL_13a2aa7fab39452884d14f5f71a97dc8",
       "style": "IPY_MODEL_67fb55aa355f4b5ba569eda332230166",
       "value": "<h4 style=\"font-size:14px;\">Welche DET-Kategorien gibt es für den Satz?</h4>"
      }
     },
     "1e9e5302b9684d198fef4ae434659961": {
      "model_module": "@jupyter-widgets/controls",
      "model_module_version": "1.2.0",
      "model_name": "ButtonStyleModel",
      "state": {}
     },
     "1ed9561b936c4f3cb79c81b855d8afb8": {
      "model_module": "@jupyter-widgets/controls",
      "model_module_version": "1.2.0",
      "model_name": "ButtonModel",
      "state": {
       "description": "Korrekt?",
       "layout": "IPY_MODEL_c0ea83571d1c4932b4d9c3de92406ed4",
       "style": "IPY_MODEL_630454648a0c457cb707c5deb4c7fc1e"
      }
     },
     "1f7b2d906d954a90ad461487cb49ae09": {
      "model_module": "@jupyter-widgets/controls",
      "model_module_version": "1.2.0",
      "model_name": "ButtonStyleModel",
      "state": {
       "button_color": "lightgreen"
      }
     },
     "1fa0050554a34f56801cbfcd227a0a0e": {
      "model_module": "@jupyter-widgets/controls",
      "model_module_version": "1.2.0",
      "model_name": "CheckboxModel",
      "state": {
       "description": "[NUM=’pl’, PER=3]",
       "disabled": false,
       "layout": "IPY_MODEL_f9054c17a5f043efbd132c8cacb6db82",
       "style": "IPY_MODEL_1d8cd427b1064f02b361e538209847f5",
       "value": false
      }
     },
     "2096f29a08b041128013ece2a976559c": {
      "model_module": "@jupyter-widgets/base",
      "model_module_version": "1.0.0",
      "model_name": "LayoutModel",
      "state": {
       "justify_content": "center"
      }
     },
     "20a4c5b1a51540bfa10b4595b3ae28cd": {
      "model_module": "@jupyter-widgets/controls",
      "model_module_version": "1.2.0",
      "model_name": "DescriptionStyleModel",
      "state": {
       "description_width": "initial"
      }
     },
     "21014698096c4a8da556b72990543196": {
      "model_module": "@jupyter-widgets/controls",
      "model_module_version": "1.2.0",
      "model_name": "CheckboxModel",
      "state": {
       "description": "[GND=’fem’, NUM=’sg’, PER=3]",
       "disabled": false,
       "layout": "IPY_MODEL_71675dda30fe4b8e959e776f37f0f31e",
       "style": "IPY_MODEL_6016ccff2e3c4d6b899ff6b644df17b4",
       "value": false
      }
     },
     "213562037d0d4a038e342520068a0df6": {
      "model_module": "@jupyter-widgets/base",
      "model_module_version": "1.0.0",
      "model_name": "LayoutModel",
      "state": {}
     },
     "2149a8bd8b0c4f459477bafd855787a6": {
      "model_module": "@jupyter-widgets/base",
      "model_module_version": "1.0.0",
      "model_name": "LayoutModel",
      "state": {
       "justify_content": "center"
      }
     },
     "215219ccd6894984a21fde44ef9d74b2": {
      "model_module": "@jupyter-widgets/controls",
      "model_module_version": "1.2.0",
      "model_name": "HBoxModel",
      "state": {
       "children": [
        "IPY_MODEL_b96e92d0c5e5403b8887c318ded0029c",
        "IPY_MODEL_ca495d50b9bd44c593b0d98136da8091"
       ],
       "layout": "IPY_MODEL_e9d3c63dda8549dbb9f639cf7bcdf554"
      }
     },
     "2158f65897174cf0a4a610542fd551dd": {
      "model_module": "@jupyter-widgets/base",
      "model_module_version": "1.0.0",
      "model_name": "LayoutModel",
      "state": {}
     },
     "219e0db764eb463ebebaddc883606da1": {
      "model_module": "@jupyter-widgets/controls",
      "model_module_version": "1.2.0",
      "model_name": "VBoxModel",
      "state": {
       "children": [
        "IPY_MODEL_5b5ff53a5ca34db895cdc56e4ac2ddaa",
        "IPY_MODEL_f94e0202080c4d018d2f54c0da049c90",
        "IPY_MODEL_7835a6e2be7646fe8000eecb74da316f",
        "IPY_MODEL_3c597422c2d94bb9a35a0fffa94031a7"
       ],
       "layout": "IPY_MODEL_52904d555eb8426aa4a14bfbfe46b73e"
      }
     },
     "21db1c0e55ea453badec738911380cdb": {
      "model_module": "@jupyter-widgets/base",
      "model_module_version": "1.0.0",
      "model_name": "LayoutModel",
      "state": {}
     },
     "223dcfa250084d8cbfa74d5cfd47b8f8": {
      "model_module": "@jupyter-widgets/controls",
      "model_module_version": "1.2.0",
      "model_name": "DescriptionStyleModel",
      "state": {
       "description_width": ""
      }
     },
     "22f0b364ad4749ba9caa6c7138c4d7a1": {
      "model_module": "@jupyter-widgets/controls",
      "model_module_version": "1.2.0",
      "model_name": "DescriptionStyleModel",
      "state": {
       "description_width": ""
      }
     },
     "2355b55508e04d3d86298239e675d8be": {
      "model_module": "@jupyter-widgets/controls",
      "model_module_version": "1.2.0",
      "model_name": "DescriptionStyleModel",
      "state": {
       "description_width": ""
      }
     },
     "2384114102d74589aaf43f152f714c7e": {
      "model_module": "@jupyter-widgets/controls",
      "model_module_version": "1.2.0",
      "model_name": "VBoxModel",
      "state": {
       "children": [
        "IPY_MODEL_c635575ee1514a51b1e36db6a7a19797",
        "IPY_MODEL_db5d74356bd440ca9e1e8ccc6f69fe1d",
        "IPY_MODEL_8e041e45babf44b984d4c5bd39d8870f",
        "IPY_MODEL_a6da69e345054c07bf93938063c605bf"
       ],
       "layout": "IPY_MODEL_a955a5c606f445fca13d1bd6c709bda3"
      }
     },
     "2390e2f1745c4c4c8142fdd75f5c3975": {
      "model_module": "@jupyter-widgets/controls",
      "model_module_version": "1.2.0",
      "model_name": "HTMLModel",
      "state": {
       "layout": "IPY_MODEL_c5f37f122243486280137dcc5bece3b6",
       "style": "IPY_MODEL_f0538fd23f7b4d209d69b66616b4b830",
       "value": "<h4 style=\"font-size:14px;\">Wo liegt das Problem, sodass der Satz abgeleht wird?</h4>"
      }
     },
     "242b27691fce4c81884c3c064c0460a0": {
      "model_module": "@jupyter-widgets/controls",
      "model_module_version": "1.2.0",
      "model_name": "ButtonModel",
      "state": {
       "description": "Korrekt?",
       "layout": "IPY_MODEL_cb3f031749044747a64293b3511083e5",
       "style": "IPY_MODEL_1d1b8e0feb6e451489dcd786ad842fa5"
      }
     },
     "2483724632014f4480ea4db44c84dde7": {
      "model_module": "@jupyter-widgets/base",
      "model_module_version": "1.0.0",
      "model_name": "LayoutModel",
      "state": {
       "width": "600px"
      }
     },
     "2491a54e602d495bbcfe89134b7740f3": {
      "model_module": "@jupyter-widgets/controls",
      "model_module_version": "1.2.0",
      "model_name": "ButtonModel",
      "state": {
       "description": "nicht unifizierbar",
       "layout": "IPY_MODEL_5dfe15a1a772423e83f9f3c3cb67bcad",
       "style": "IPY_MODEL_bee16fd9897c4759a8176bc95f9b0518"
      }
     },
     "24c809ea735c454cb52d408dbd31585b": {
      "model_module": "@jupyter-widgets/base",
      "model_module_version": "1.0.0",
      "model_name": "LayoutModel",
      "state": {}
     },
     "258bc2b2a6af44d0b9e15607f5609dfa": {
      "model_module": "@jupyter-widgets/controls",
      "model_module_version": "1.2.0",
      "model_name": "CheckboxModel",
      "state": {
       "description": "< N NUM > ≠ < DET NUM >",
       "disabled": false,
       "layout": "IPY_MODEL_d908359ed75a4fb885dcac14aac98589",
       "style": "IPY_MODEL_b0384004b31e4671a77c371056be6b3d",
       "value": true
      }
     },
     "269648b8a3dc4629807c5dfd6dc354f2": {
      "model_module": "@jupyter-widgets/base",
      "model_module_version": "1.0.0",
      "model_name": "LayoutModel",
      "state": {
       "width": "600px"
      }
     },
     "26e28ad7155d4c38ac90ba014fcb1040": {
      "model_module": "@jupyter-widgets/controls",
      "model_module_version": "1.2.0",
      "model_name": "CheckboxModel",
      "state": {
       "description": "[GND=’masc’, NUM=’sg’, PER=3]",
       "disabled": false,
       "layout": "IPY_MODEL_068a0866dcb847ce8fa4c0d7ab278822",
       "style": "IPY_MODEL_3be2b59939d84a6199f59fdc03db346c",
       "value": false
      }
     },
     "27030c9b507e4abd89a3d2504839d130": {
      "model_module": "@jupyter-widgets/controls",
      "model_module_version": "1.2.0",
      "model_name": "DescriptionStyleModel",
      "state": {
       "description_width": "initial"
      }
     },
     "271d80f8d33d4f24ab3c7aa8d148e9db": {
      "model_module": "@jupyter-widgets/base",
      "model_module_version": "1.0.0",
      "model_name": "LayoutModel",
      "state": {
       "width": "600px"
      }
     },
     "2754c88009d24d92915095cb9817277a": {
      "model_module": "@jupyter-widgets/controls",
      "model_module_version": "1.2.0",
      "model_name": "VBoxModel",
      "state": {
       "children": [
        "IPY_MODEL_09c6a24cf07f4cd8ae1cd6523d5ec88e",
        "IPY_MODEL_197501500be942949e3e52ed6d9b69c6",
        "IPY_MODEL_215219ccd6894984a21fde44ef9d74b2",
        "IPY_MODEL_4346da050e004ccdbd1d434664845762"
       ],
       "layout": "IPY_MODEL_8088905936334eeab568fd0829ce4f96"
      }
     },
     "276c90a7d6744e3d8243aa8907d2ddd4": {
      "model_module": "@jupyter-widgets/base",
      "model_module_version": "1.0.0",
      "model_name": "LayoutModel",
      "state": {
       "width": "600px"
      }
     },
     "28d623ca42d84186834b499e584ce961": {
      "model_module": "@jupyter-widgets/controls",
      "model_module_version": "1.2.0",
      "model_name": "ButtonModel",
      "state": {
       "description": "'Katze' ist kein gültiges Wort",
       "layout": "IPY_MODEL_f73c6c7152234ee9a0b3edc708a06e32",
       "style": "IPY_MODEL_11f4d8032b034048907feefa7f084b4a"
      }
     },
     "290576245118426485f40970b00a83b3": {
      "model_module": "@jupyter-widgets/controls",
      "model_module_version": "1.2.0",
      "model_name": "VBoxModel",
      "state": {
       "children": [
        "IPY_MODEL_8683a1d21a5547479fa82b6518cadd1a",
        "IPY_MODEL_1277d351e4934db5a7b819cda3d0440d",
        "IPY_MODEL_8aa7a18e4d8c40ee8c7d109bdbfe1e5d",
        "IPY_MODEL_71fae97e86d64dab8cb9643a8feaf8e4"
       ],
       "layout": "IPY_MODEL_d6d9e5e3e2aa464086ad58751c1f64a1"
      }
     },
     "290c65e9b7ef45ecb1396036ee8c26f2": {
      "model_module": "@jupyter-widgets/controls",
      "model_module_version": "1.2.0",
      "model_name": "DescriptionStyleModel",
      "state": {
       "description_width": "initial"
      }
     },
     "29258cd63c754f7296303ee174aebfab": {
      "model_module": "@jupyter-widgets/base",
      "model_module_version": "1.0.0",
      "model_name": "LayoutModel",
      "state": {
       "width": "250px"
      }
     },
     "2b14c3f6aae5424aa9f607679ec5caa9": {
      "model_module": "@jupyter-widgets/controls",
      "model_module_version": "1.2.0",
      "model_name": "VBoxModel",
      "state": {
       "children": [
        "IPY_MODEL_3325d9a8bf4f4b0ea871a64835904a6b",
        "IPY_MODEL_7e03925dfa444a3cae606227fcbb1e31",
        "IPY_MODEL_3c87f12a2407404a87d70d9208573a69",
        "IPY_MODEL_4f329fd757c1408b9f63bd76d0c815bf"
       ],
       "layout": "IPY_MODEL_9119778918804b4a913d71497fb76f9e"
      }
     },
     "2b91d2352d304387ac7415e17b726d73": {
      "model_module": "@jupyter-widgets/controls",
      "model_module_version": "1.2.0",
      "model_name": "ButtonStyleModel",
      "state": {
       "button_color": "lightgreen"
      }
     },
     "2c25d5712b8a4907bc504df987696c60": {
      "model_module": "@jupyter-widgets/controls",
      "model_module_version": "1.2.0",
      "model_name": "HBoxModel",
      "state": {
       "children": [
        "IPY_MODEL_f72d42816b9642b3bdfaefec936b130e"
       ],
       "layout": "IPY_MODEL_ef2fa594e6914b449e0b77766afba9a0"
      }
     },
     "2ce00830f18a456ab043c681384348e9": {
      "model_module": "@jupyter-widgets/base",
      "model_module_version": "1.0.0",
      "model_name": "LayoutModel",
      "state": {}
     },
     "2d2a9f38330d4d5bbf7f7b4512567ca2": {
      "model_module": "@jupyter-widgets/base",
      "model_module_version": "1.0.0",
      "model_name": "LayoutModel",
      "state": {
       "width": "600px"
      }
     },
     "2e5ff541c45f48d088e85a16717cd7a9": {
      "model_module": "@jupyter-widgets/controls",
      "model_module_version": "1.2.0",
      "model_name": "ButtonModel",
      "state": {
       "description": "Keine der anderen Möglichkeiten",
       "layout": "IPY_MODEL_9ffba27bf5944f268958e6f39f848a49",
       "style": "IPY_MODEL_a1e0c196d3c54436b426da2166d346a5"
      }
     },
     "2e95c1c76920403e902a70e5ed452b7c": {
      "model_module": "@jupyter-widgets/controls",
      "model_module_version": "1.2.0",
      "model_name": "DescriptionStyleModel",
      "state": {
       "description_width": "initial"
      }
     },
     "2eefb9a48d6a4bda921633376b7eb094": {
      "model_module": "@jupyter-widgets/controls",
      "model_module_version": "1.2.0",
      "model_name": "VBoxModel",
      "state": {
       "children": [
        "IPY_MODEL_1e0ca694f46643a7ac853089752eb545",
        "IPY_MODEL_9c996f51c56d47b68831a53e1625a810",
        "IPY_MODEL_a1fcb11a21ca4a6b93b6f7c05ee3cb6a",
        "IPY_MODEL_242b27691fce4c81884c3c064c0460a0"
       ],
       "layout": "IPY_MODEL_606ccfc3d57b460c8263bb4f3c4e0c11"
      }
     },
     "2f72a856c0ed435b990d903e9097c611": {
      "model_module": "@jupyter-widgets/controls",
      "model_module_version": "1.2.0",
      "model_name": "VBoxModel",
      "state": {
       "children": [
        "IPY_MODEL_bf1ecf8386b24d7db212b7135dd1c5b6",
        "IPY_MODEL_c944e738d5294117b68cd497da4aeb07",
        "IPY_MODEL_3d14971dbe78434b88bdac73d7a2c506"
       ],
       "layout": "IPY_MODEL_647f9f96256e40268e4ebca8ebaaa3ea"
      }
     },
     "2fcea34cc57941ae902c559c09c9ee92": {
      "model_module": "@jupyter-widgets/controls",
      "model_module_version": "1.2.0",
      "model_name": "HTMLModel",
      "state": {
       "layout": "IPY_MODEL_6472035c341847f085b923bd41143b27",
       "style": "IPY_MODEL_ab1022b2fd7e489b86d46ed42278c996",
       "value": "<i>Wählen Sie die <ins>eine</ins> korrekte Antwort aus: </i>"
      }
     },
     "3027bb73a0704dd1a4cb0c3812e5e27a": {
      "model_module": "@jupyter-widgets/controls",
      "model_module_version": "1.2.0",
      "model_name": "DescriptionStyleModel",
      "state": {
       "description_width": ""
      }
     },
     "302c62bfba0c4015a5e1ac906cd29556": {
      "model_module": "@jupyter-widgets/controls",
      "model_module_version": "1.2.0",
      "model_name": "DescriptionStyleModel",
      "state": {
       "description_width": "initial"
      }
     },
     "30b3740ba471400e9d728a52c0a1b344": {
      "model_module": "@jupyter-widgets/base",
      "model_module_version": "1.0.0",
      "model_name": "LayoutModel",
      "state": {
       "width": "250px"
      }
     },
     "311d6472bd384b2a9b611fc422f191b1": {
      "model_module": "@jupyter-widgets/controls",
      "model_module_version": "1.2.0",
      "model_name": "DescriptionStyleModel",
      "state": {
       "description_width": "initial"
      }
     },
     "319c06d2411c4c07ad818c08f66d18bd": {
      "model_module": "@jupyter-widgets/controls",
      "model_module_version": "1.2.0",
      "model_name": "ButtonModel",
      "state": {
       "description": "Korrekt?",
       "layout": "IPY_MODEL_e615708548ce43ec9cf3e5828dc0334f",
       "style": "IPY_MODEL_b4e6fac4b52843558af13a555cb251f3"
      }
     },
     "320ce1a9a88d4215a6098e99168cb25f": {
      "model_module": "@jupyter-widgets/base",
      "model_module_version": "1.0.0",
      "model_name": "LayoutModel",
      "state": {
       "width": "250px"
      }
     },
     "325cfe50bb1640c8a6affa38656e738c": {
      "model_module": "@jupyter-widgets/base",
      "model_module_version": "1.0.0",
      "model_name": "LayoutModel",
      "state": {
       "justify_content": "center"
      }
     },
     "329d57919cc84afcba1b7262988aa3a3": {
      "model_module": "@jupyter-widgets/base",
      "model_module_version": "1.0.0",
      "model_name": "LayoutModel",
      "state": {
       "justify_content": "center"
      }
     },
     "3325d9a8bf4f4b0ea871a64835904a6b": {
      "model_module": "@jupyter-widgets/controls",
      "model_module_version": "1.2.0",
      "model_name": "CheckboxModel",
      "state": {
       "description": "[GND=’fem’, NUM=’sg’, PER=3]",
       "disabled": false,
       "layout": "IPY_MODEL_c4acb19facd34929929020b9e556dc4b",
       "style": "IPY_MODEL_50a3d5c776b34612832b532a0390eaa6",
       "value": false
      }
     },
     "3435d2f12dbe44e48919d88cd58e0c3b": {
      "model_module": "@jupyter-widgets/base",
      "model_module_version": "1.0.0",
      "model_name": "LayoutModel",
      "state": {}
     },
     "34aaedc007564a14a52ea8ab071b5726": {
      "model_module": "@jupyter-widgets/controls",
      "model_module_version": "1.2.0",
      "model_name": "DescriptionStyleModel",
      "state": {
       "description_width": "initial"
      }
     },
     "3536867b82b742e087bf953c9d610ec4": {
      "model_module": "@jupyter-widgets/base",
      "model_module_version": "1.0.0",
      "model_name": "LayoutModel",
      "state": {}
     },
     "353a387f27d143c5a6d8a8a5dcf1a845": {
      "model_module": "@jupyter-widgets/controls",
      "model_module_version": "1.2.0",
      "model_name": "DescriptionStyleModel",
      "state": {
       "description_width": ""
      }
     },
     "35bbab0d736c47f58881355c1efeace5": {
      "model_module": "@jupyter-widgets/base",
      "model_module_version": "1.0.0",
      "model_name": "LayoutModel",
      "state": {
       "width": "250px"
      }
     },
     "364107c241794f5e9a3a5382d6906a32": {
      "model_module": "@jupyter-widgets/controls",
      "model_module_version": "1.2.0",
      "model_name": "HBoxModel",
      "state": {
       "children": [
        "IPY_MODEL_82f0c2a03907425a90f37708d36dea89",
        "IPY_MODEL_eb184af0a9b94c8d82981f3b0cc93590"
       ],
       "layout": "IPY_MODEL_92680a62a53844ba93f06753b9c0674f"
      }
     },
     "36845fe7cfa441f1a13f46ebdc937d79": {
      "model_module": "@jupyter-widgets/controls",
      "model_module_version": "1.2.0",
      "model_name": "DescriptionStyleModel",
      "state": {
       "description_width": ""
      }
     },
     "37154da42d7e436bbeba608a43598a48": {
      "model_module": "@jupyter-widgets/base",
      "model_module_version": "1.0.0",
      "model_name": "LayoutModel",
      "state": {
       "width": "600px"
      }
     },
     "3737fc629f6b4e1c9ab411ce51d21a7f": {
      "model_module": "@jupyter-widgets/controls",
      "model_module_version": "1.2.0",
      "model_name": "CheckboxModel",
      "state": {
       "description": "< N PER > ≠ < DET PER >",
       "disabled": false,
       "layout": "IPY_MODEL_b24f7ecb7ec649e0b7f18987d3971609",
       "style": "IPY_MODEL_9e249a076eda4b6e91459a5d2419c6b9",
       "value": false
      }
     },
     "37538986d0c447a087ed8fc82023b507": {
      "model_module": "@jupyter-widgets/base",
      "model_module_version": "1.0.0",
      "model_name": "LayoutModel",
      "state": {}
     },
     "379d922564d64483b9f1fc1c130528c9": {
      "model_module": "@jupyter-widgets/controls",
      "model_module_version": "1.2.0",
      "model_name": "ButtonStyleModel",
      "state": {
       "button_color": "lightgreen"
      }
     },
     "37a7f28a7e794515ba4c8bcf605e337d": {
      "model_module": "@jupyter-widgets/base",
      "model_module_version": "1.0.0",
      "model_name": "LayoutModel",
      "state": {
       "width": "250px"
      }
     },
     "3832fc06703a480cbc6a4dd1bf987e72": {
      "model_module": "@jupyter-widgets/base",
      "model_module_version": "1.0.0",
      "model_name": "LayoutModel",
      "state": {}
     },
     "3841d4d9492e472984eee297cc44c16b": {
      "model_module": "@jupyter-widgets/controls",
      "model_module_version": "1.2.0",
      "model_name": "DescriptionStyleModel",
      "state": {
       "description_width": ""
      }
     },
     "38956d9ed39c466f966321c3159101d3": {
      "model_module": "@jupyter-widgets/controls",
      "model_module_version": "1.2.0",
      "model_name": "DescriptionStyleModel",
      "state": {
       "description_width": ""
      }
     },
     "38b9fe5d9c37414e9c5158fedae22799": {
      "model_module": "@jupyter-widgets/controls",
      "model_module_version": "1.2.0",
      "model_name": "CheckboxModel",
      "state": {
       "description": "< N GEN > ≠ < DET GEN >",
       "disabled": false,
       "layout": "IPY_MODEL_f0f2bf8701d44a049a61525b94665c72",
       "style": "IPY_MODEL_66a77ad84c4f4a0990125198a48b72e4",
       "value": true
      }
     },
     "391edd0b8f504a76b1c5b8db7b66cff1": {
      "model_module": "@jupyter-widgets/controls",
      "model_module_version": "1.2.0",
      "model_name": "DescriptionStyleModel",
      "state": {
       "description_width": "initial"
      }
     },
     "39fe453aeb724c029b8b4b75c69995c4": {
      "model_module": "@jupyter-widgets/base",
      "model_module_version": "1.0.0",
      "model_name": "LayoutModel",
      "state": {}
     },
     "3abb68dbd33a49d7ac1dc9d23a8fa6fc": {
      "model_module": "@jupyter-widgets/base",
      "model_module_version": "1.0.0",
      "model_name": "LayoutModel",
      "state": {
       "justify_content": "center"
      }
     },
     "3af1afae6b8644b6ab0d59ae18e05a13": {
      "model_module": "@jupyter-widgets/controls",
      "model_module_version": "1.2.0",
      "model_name": "HTMLModel",
      "state": {
       "layout": "IPY_MODEL_a0c138cc77634f07acaf75b70eeaa185",
       "style": "IPY_MODEL_0e294ad8112546388a05b5e3c9fd62e2",
       "value": "<h4 style=\"font-size:14px;\">Wo liegt das Problem, sodass der Satz abgeleht wird?</h4>"
      }
     },
     "3be2b59939d84a6199f59fdc03db346c": {
      "model_module": "@jupyter-widgets/controls",
      "model_module_version": "1.2.0",
      "model_name": "DescriptionStyleModel",
      "state": {
       "description_width": "initial"
      }
     },
     "3becac96858f466da9b51b2d5ee2a6de": {
      "model_module": "@jupyter-widgets/base",
      "model_module_version": "1.0.0",
      "model_name": "LayoutModel",
      "state": {
       "width": "600px"
      }
     },
     "3c49e41661b84001bf8e8bc26ff60285": {
      "model_module": "@jupyter-widgets/controls",
      "model_module_version": "1.2.0",
      "model_name": "HBoxModel",
      "state": {
       "children": [
        "IPY_MODEL_971a5f98d2d345a6a8881b239376f557",
        "IPY_MODEL_2491a54e602d495bbcfe89134b7740f3"
       ],
       "layout": "IPY_MODEL_03d7a068aaae41f9baa8774a080ca0fc"
      }
     },
     "3c51cdc1fd9d4ee79a53ae98729d99b3": {
      "model_module": "@jupyter-widgets/controls",
      "model_module_version": "1.2.0",
      "model_name": "HTMLModel",
      "state": {
       "layout": "IPY_MODEL_fbd855c3d3e34838a2936a053e825712",
       "style": "IPY_MODEL_3027bb73a0704dd1a4cb0c3812e5e27a",
       "value": "<i>Markieren Sie <ins>alle</ins> passenden Antworten: </i>"
      }
     },
     "3c597422c2d94bb9a35a0fffa94031a7": {
      "model_module": "@jupyter-widgets/controls",
      "model_module_version": "1.2.0",
      "model_name": "ButtonModel",
      "state": {
       "description": "Korrekt?",
       "layout": "IPY_MODEL_b65dea313ab44cbb98463c2ef12d0e94",
       "style": "IPY_MODEL_df5541a6a9a74e02b309861d09a46fdf"
      }
     },
     "3c87f12a2407404a87d70d9208573a69": {
      "model_module": "@jupyter-widgets/controls",
      "model_module_version": "1.2.0",
      "model_name": "CheckboxModel",
      "state": {
       "description": "[NUM=’pl’, PER=3]",
       "disabled": false,
       "layout": "IPY_MODEL_cab5eda7d5294431b03d54ac630f504e",
       "style": "IPY_MODEL_fe23ac4cf35847aa93d36f9ecac43e6d",
       "value": true
      }
     },
     "3d04567370c04be794c5dbb803b16274": {
      "model_module": "@jupyter-widgets/controls",
      "model_module_version": "1.2.0",
      "model_name": "ButtonModel",
      "state": {
       "description": "nicht unifizierbar",
       "layout": "IPY_MODEL_4d0745013b1043d3afef74663a6971e9",
       "style": "IPY_MODEL_58b61a6d0a1b432688f2a38d61c68129"
      }
     },
     "3d14971dbe78434b88bdac73d7a2c506": {
      "model_module": "@jupyter-widgets/controls",
      "model_module_version": "1.2.0",
      "model_name": "CheckboxModel",
      "state": {
       "description": "< N PER > ≠ < DET PER >",
       "disabled": false,
       "layout": "IPY_MODEL_e0462409ed834cf0a51b9ba6d8228f5b",
       "style": "IPY_MODEL_b95a74dc1cf2463091850a31d09ab111",
       "value": false
      }
     },
     "3e6ea3e1aa854746a6103741d1699183": {
      "model_module": "@jupyter-widgets/controls",
      "model_module_version": "1.2.0",
      "model_name": "DescriptionStyleModel",
      "state": {
       "description_width": ""
      }
     },
     "3fbb8eec91d348d582109e6e7a16aab2": {
      "model_module": "@jupyter-widgets/controls",
      "model_module_version": "1.2.0",
      "model_name": "VBoxModel",
      "state": {
       "children": [
        "IPY_MODEL_7d359b364bd24bdfae59aace81789132",
        "IPY_MODEL_bf48a8dbccbd4160b99c99ecb7291bbb",
        "IPY_MODEL_e31d8a2057d743e4b3c2d2a115befe8c"
       ],
       "layout": "IPY_MODEL_53e05dbfd3eb4991974d1bda0691102a"
      }
     },
     "4008153d96344ebcad336a8fe82e6e94": {
      "model_module": "@jupyter-widgets/controls",
      "model_module_version": "1.2.0",
      "model_name": "ButtonStyleModel",
      "state": {}
     },
     "40e88b5e21fa42a8b1ce375eeb67f8b5": {
      "model_module": "@jupyter-widgets/base",
      "model_module_version": "1.0.0",
      "model_name": "LayoutModel",
      "state": {
       "width": "600px"
      }
     },
     "415f55f4b86c4ac29e934bc29fbb570f": {
      "model_module": "@jupyter-widgets/controls",
      "model_module_version": "1.2.0",
      "model_name": "ButtonModel",
      "state": {
       "description": "Korrekt?",
       "layout": "IPY_MODEL_d83c8fd4557f444e90106635140b71f6",
       "style": "IPY_MODEL_96a4c48d154c48c8b2310f843e9ce921"
      }
     },
     "4271fdf8f5014ae5bd629fabb4b36309": {
      "model_module": "@jupyter-widgets/base",
      "model_module_version": "1.0.0",
      "model_name": "LayoutModel",
      "state": {
       "width": "600px"
      }
     },
     "4346da050e004ccdbd1d434664845762": {
      "model_module": "@jupyter-widgets/controls",
      "model_module_version": "1.2.0",
      "model_name": "HBoxModel",
      "state": {
       "children": [
        "IPY_MODEL_f32cc477ccac4527ba83ad5a07aa3f8d"
       ],
       "layout": "IPY_MODEL_2158f65897174cf0a4a610542fd551dd"
      }
     },
     "43fcef8193a248f6ba8b4221aaabf0b7": {
      "model_module": "@jupyter-widgets/controls",
      "model_module_version": "1.2.0",
      "model_name": "CheckboxModel",
      "state": {
       "description": "< N NUM > ≠ < DET NUM >",
       "disabled": false,
       "layout": "IPY_MODEL_37154da42d7e436bbeba608a43598a48",
       "style": "IPY_MODEL_693616bfe1714696b4c527e96b3c7d09",
       "value": true
      }
     },
     "4440a504241043feb49e3869062f7d92": {
      "model_module": "@jupyter-widgets/base",
      "model_module_version": "1.0.0",
      "model_name": "LayoutModel",
      "state": {
       "width": "600px"
      }
     },
     "446555b1247f4d8294e39a5089d71b5a": {
      "model_module": "@jupyter-widgets/controls",
      "model_module_version": "1.2.0",
      "model_name": "HTMLModel",
      "state": {
       "layout": "IPY_MODEL_1b8d4405e7ce4924bae0689699359f16",
       "style": "IPY_MODEL_e1aea411401647b9936bd96e2499bf4c",
       "value": "<h4 style=\"font-size:14px;\">Wo liegt das Problem, sodass der Satz abgeleht wird?</h4>"
      }
     },
     "44a2f515f6674d71a12587e182012f8b": {
      "model_module": "@jupyter-widgets/controls",
      "model_module_version": "1.2.0",
      "model_name": "HTMLModel",
      "state": {
       "layout": "IPY_MODEL_7cc62496f2fa4bf08beb97bbf004ac8c",
       "style": "IPY_MODEL_d6f8fcb6dc1d41118878a9c6db5ef17e",
       "value": "<h4 style=\"font-size:14px;\">Wo liegt das Problem, sodass der Satz abgeleht wird?</h4>"
      }
     },
     "458965e3f08046ff8bcde18cbf74d6fb": {
      "model_module": "@jupyter-widgets/base",
      "model_module_version": "1.0.0",
      "model_name": "LayoutModel",
      "state": {}
     },
     "47208c8c7d7b416185aed0a431758134": {
      "model_module": "@jupyter-widgets/controls",
      "model_module_version": "1.2.0",
      "model_name": "HBoxModel",
      "state": {
       "children": [
        "IPY_MODEL_9ac035513ee7404fadcabeb5cd821d0f"
       ],
       "layout": "IPY_MODEL_cc68bd00de5d4b5cb4b705df74efa930"
      }
     },
     "47446c5c550d483988e357127d28b49b": {
      "model_module": "@jupyter-widgets/base",
      "model_module_version": "1.0.0",
      "model_name": "LayoutModel",
      "state": {
       "justify_content": "center"
      }
     },
     "478f3c9faf2a49e4a95f75a6cc86b7f2": {
      "model_module": "@jupyter-widgets/base",
      "model_module_version": "1.0.0",
      "model_name": "LayoutModel",
      "state": {
       "width": "600px"
      }
     },
     "4798d621e372420caaeb73d59c9ff00e": {
      "model_module": "@jupyter-widgets/controls",
      "model_module_version": "1.2.0",
      "model_name": "HTMLModel",
      "state": {
       "layout": "IPY_MODEL_329d57919cc84afcba1b7262988aa3a3",
       "style": "IPY_MODEL_a48c1098809f42d1844ab24b152d74da",
       "value": "<i>Markieren Sie <ins>alle</ins> passenden Antworten: </i>"
      }
     },
     "47b4ce388b3c497cab962d44eaa5fd29": {
      "model_module": "@jupyter-widgets/base",
      "model_module_version": "1.0.0",
      "model_name": "LayoutModel",
      "state": {
       "justify_content": "center"
      }
     },
     "4852159c33c84a3987f6005d883db4d0": {
      "model_module": "@jupyter-widgets/base",
      "model_module_version": "1.0.0",
      "model_name": "LayoutModel",
      "state": {}
     },
     "48f53d5f2ce049f2993a9a43464fad9a": {
      "model_module": "@jupyter-widgets/controls",
      "model_module_version": "1.2.0",
      "model_name": "DescriptionStyleModel",
      "state": {
       "description_width": ""
      }
     },
     "4ae95773739b47e495b7ff4c911c2097": {
      "model_module": "@jupyter-widgets/controls",
      "model_module_version": "1.2.0",
      "model_name": "DescriptionStyleModel",
      "state": {
       "description_width": "initial"
      }
     },
     "4b107a186b52446abaee3bd29c565209": {
      "model_module": "@jupyter-widgets/controls",
      "model_module_version": "1.2.0",
      "model_name": "CheckboxModel",
      "state": {
       "description": "< N GEN > ≠ < DET GEN >",
       "disabled": false,
       "layout": "IPY_MODEL_a650748306c945d89daa683474b4f762",
       "style": "IPY_MODEL_9a9d3a0d4d9b411ea6d3d1ca40d7e9e8",
       "value": false
      }
     },
     "4b6b16879dcf410b98ada7cee30aa4f1": {
      "model_module": "@jupyter-widgets/base",
      "model_module_version": "1.0.0",
      "model_name": "LayoutModel",
      "state": {
       "width": "250px"
      }
     },
     "4c8cc0b66c3c44d883a1f84937fc7a46": {
      "model_module": "@jupyter-widgets/controls",
      "model_module_version": "1.2.0",
      "model_name": "DescriptionStyleModel",
      "state": {
       "description_width": ""
      }
     },
     "4d0745013b1043d3afef74663a6971e9": {
      "model_module": "@jupyter-widgets/base",
      "model_module_version": "1.0.0",
      "model_name": "LayoutModel",
      "state": {
       "width": "250px"
      }
     },
     "4d12aa0b3c2640baa15f9bcb4bb98da5": {
      "model_module": "@jupyter-widgets/base",
      "model_module_version": "1.0.0",
      "model_name": "LayoutModel",
      "state": {
       "width": "600px"
      }
     },
     "4d8d5cbe09dc4aed8ee20d93afb42929": {
      "model_module": "@jupyter-widgets/base",
      "model_module_version": "1.0.0",
      "model_name": "LayoutModel",
      "state": {
       "width": "600px"
      }
     },
     "4de37c627e2d42feb760db6fa3b15e1c": {
      "model_module": "@jupyter-widgets/controls",
      "model_module_version": "1.2.0",
      "model_name": "VBoxModel",
      "state": {
       "children": [
        "IPY_MODEL_f4cadabda9d2426384a36b5716edd2c9",
        "IPY_MODEL_d3872d6ed74f41fabf0db61763c46d82",
        "IPY_MODEL_69f54b89e630452398ad27326922ce49",
        "IPY_MODEL_177f5abb6d6c4ddfaffbe6e81a5afc5e"
       ],
       "layout": "IPY_MODEL_1a528e95148a41af8202f1506c531d95"
      }
     },
     "4e4a1223b04943eaa64ac885f1bd4c26": {
      "model_module": "@jupyter-widgets/base",
      "model_module_version": "1.0.0",
      "model_name": "LayoutModel",
      "state": {}
     },
     "4e87757c76104931badfe6aae286f154": {
      "model_module": "@jupyter-widgets/base",
      "model_module_version": "1.0.0",
      "model_name": "LayoutModel",
      "state": {
       "width": "600px"
      }
     },
     "4ea0b6f3214b462f83b3f54678258aa1": {
      "model_module": "@jupyter-widgets/base",
      "model_module_version": "1.0.0",
      "model_name": "LayoutModel",
      "state": {}
     },
     "4f1d3a0110d045fa9b242af908d2420c": {
      "model_module": "@jupyter-widgets/base",
      "model_module_version": "1.0.0",
      "model_name": "LayoutModel",
      "state": {
       "width": "250px"
      }
     },
     "4f329fd757c1408b9f63bd76d0c815bf": {
      "model_module": "@jupyter-widgets/controls",
      "model_module_version": "1.2.0",
      "model_name": "CheckboxModel",
      "state": {
       "description": "[NUM=’sg’, PER=3]",
       "disabled": false,
       "layout": "IPY_MODEL_4d8d5cbe09dc4aed8ee20d93afb42929",
       "style": "IPY_MODEL_e4d4b174bd8b497bb36d24e82875ecef",
       "value": false
      }
     },
     "502d5f01882b4e5ea9adfd4c6c812cdd": {
      "model_module": "@jupyter-widgets/controls",
      "model_module_version": "1.2.0",
      "model_name": "DescriptionStyleModel",
      "state": {
       "description_width": "initial"
      }
     },
     "50a3d5c776b34612832b532a0390eaa6": {
      "model_module": "@jupyter-widgets/controls",
      "model_module_version": "1.2.0",
      "model_name": "DescriptionStyleModel",
      "state": {
       "description_width": "initial"
      }
     },
     "50b1176737fd4d188c9c9e6d950dd1c6": {
      "model_module": "@jupyter-widgets/controls",
      "model_module_version": "1.2.0",
      "model_name": "HTMLModel",
      "state": {
       "layout": "IPY_MODEL_5aa2f77d302941fe88dfc9d71bacb49f",
       "style": "IPY_MODEL_51e432b7f8994599a2d8d5f337f09401",
       "value": "<i>Wählen Sie die <ins>eine</ins> korrekte Antwort aus: </i>"
      }
     },
     "50dfb189724d497a9825211ec9cc9e3c": {
      "model_module": "@jupyter-widgets/controls",
      "model_module_version": "1.2.0",
      "model_name": "DescriptionStyleModel",
      "state": {
       "description_width": "initial"
      }
     },
     "5143d5509d184d3288762715eca36a45": {
      "model_module": "@jupyter-widgets/controls",
      "model_module_version": "1.2.0",
      "model_name": "DescriptionStyleModel",
      "state": {
       "description_width": ""
      }
     },
     "514add9a3ec64d3eb8e303e9bff86768": {
      "model_module": "@jupyter-widgets/controls",
      "model_module_version": "1.2.0",
      "model_name": "DescriptionStyleModel",
      "state": {
       "description_width": ""
      }
     },
     "51e432b7f8994599a2d8d5f337f09401": {
      "model_module": "@jupyter-widgets/controls",
      "model_module_version": "1.2.0",
      "model_name": "DescriptionStyleModel",
      "state": {
       "description_width": ""
      }
     },
     "52904d555eb8426aa4a14bfbfe46b73e": {
      "model_module": "@jupyter-widgets/base",
      "model_module_version": "1.0.0",
      "model_name": "LayoutModel",
      "state": {}
     },
     "52bed7b10bc64af7a162ba0acb42d03d": {
      "model_module": "@jupyter-widgets/controls",
      "model_module_version": "1.2.0",
      "model_name": "CheckboxModel",
      "state": {
       "description": "< N GEN > ≠ < DET GEN >",
       "disabled": false,
       "layout": "IPY_MODEL_d2f8e1e9003b42ec9e05c880de1236ac",
       "style": "IPY_MODEL_fa7015d1391146d4ac10c2517075464a",
       "value": true
      }
     },
     "52ea2ff94f344f31ae8d47c294d2a700": {
      "model_module": "@jupyter-widgets/controls",
      "model_module_version": "1.2.0",
      "model_name": "ButtonStyleModel",
      "state": {}
     },
     "53e05dbfd3eb4991974d1bda0691102a": {
      "model_module": "@jupyter-widgets/base",
      "model_module_version": "1.0.0",
      "model_name": "LayoutModel",
      "state": {}
     },
     "546649fb594b438e8f41e53baea07b55": {
      "model_module": "@jupyter-widgets/base",
      "model_module_version": "1.0.0",
      "model_name": "LayoutModel",
      "state": {
       "width": "600px"
      }
     },
     "54eee3128c6b48f1b44a997af6fa5d5d": {
      "model_module": "@jupyter-widgets/controls",
      "model_module_version": "1.2.0",
      "model_name": "VBoxModel",
      "state": {
       "children": [
        "IPY_MODEL_2390e2f1745c4c4c8142fdd75f5c3975",
        "IPY_MODEL_d89f39783de6495dbc02a2124cab3334",
        "IPY_MODEL_d56b1e3d4a4f4b7b9a10d857e06c30f5",
        "IPY_MODEL_897441527c36499b898f36aca74fc0c2"
       ],
       "layout": "IPY_MODEL_78be7c74b1d244e383513f56f66b3a2d"
      }
     },
     "55d084922da5498fb338620d1050697c": {
      "model_module": "@jupyter-widgets/base",
      "model_module_version": "1.0.0",
      "model_name": "LayoutModel",
      "state": {
       "width": "600px"
      }
     },
     "565218fd0e674d56ba8e0d8f3016fb91": {
      "model_module": "@jupyter-widgets/base",
      "model_module_version": "1.0.0",
      "model_name": "LayoutModel",
      "state": {}
     },
     "577bae1394c745f1b737067316359688": {
      "model_module": "@jupyter-widgets/controls",
      "model_module_version": "1.2.0",
      "model_name": "HTMLModel",
      "state": {
       "layout": "IPY_MODEL_fe58c1abd7e24a4bb695ac9523727eee",
       "style": "IPY_MODEL_d0755e2b9bed454598cae8efd6265471",
       "value": "<h4 style=\"font-size:14px;\">Welche DET-Kategorien gibt es für den Satz?</h4>"
      }
     },
     "57a8d4ef0af1489a93f2338ddd04dad5": {
      "model_module": "@jupyter-widgets/base",
      "model_module_version": "1.0.0",
      "model_name": "LayoutModel",
      "state": {
       "width": "250px"
      }
     },
     "58137298892645b9bb8f50e2268bac2c": {
      "model_module": "@jupyter-widgets/controls",
      "model_module_version": "1.2.0",
      "model_name": "HTMLModel",
      "state": {
       "layout": "IPY_MODEL_626578afb4454c7bbef0cf7eda881823",
       "style": "IPY_MODEL_8ab57169c5e8468aa3251aa0c0d93a36",
       "value": "<i>Markieren Sie <ins>alle</ins> passenden Antworten: </i>"
      }
     },
     "58b61a6d0a1b432688f2a38d61c68129": {
      "model_module": "@jupyter-widgets/controls",
      "model_module_version": "1.2.0",
      "model_name": "ButtonStyleModel",
      "state": {
       "button_color": "lightgreen"
      }
     },
     "59ad08abd6494c67bbff3d3365432c4b": {
      "model_module": "@jupyter-widgets/controls",
      "model_module_version": "1.2.0",
      "model_name": "VBoxModel",
      "state": {
       "children": [
        "IPY_MODEL_ea538a12cbed42c9b66c2c8ae3fc1a48",
        "IPY_MODEL_9793ab82d6304b9e9f173f2f91443e41",
        "IPY_MODEL_b72a13bdf2954d40929167b12a885cf2",
        "IPY_MODEL_d849dffa69b34b01acb8a0390c25e47c"
       ],
       "layout": "IPY_MODEL_abb3465c043346b18a17671049056460"
      }
     },
     "59f6a24e272749cda808e218f40d969e": {
      "model_module": "@jupyter-widgets/controls",
      "model_module_version": "1.2.0",
      "model_name": "VBoxModel",
      "state": {
       "children": [
        "IPY_MODEL_706dab558d7947fa8f8159f3f059f18e",
        "IPY_MODEL_d47e9946a0a343d9b1e8adaaab17b670",
        "IPY_MODEL_98c52c8686ac4db1a371205b15304ef3"
       ],
       "layout": "IPY_MODEL_ca94b498b6624442be7a83d905507c19"
      }
     },
     "5a2ec07b47214c80bf39f2747e7c94b5": {
      "model_module": "@jupyter-widgets/controls",
      "model_module_version": "1.2.0",
      "model_name": "ButtonStyleModel",
      "state": {}
     },
     "5aa2f77d302941fe88dfc9d71bacb49f": {
      "model_module": "@jupyter-widgets/base",
      "model_module_version": "1.0.0",
      "model_name": "LayoutModel",
      "state": {
       "justify_content": "center"
      }
     },
     "5aa952e650b84f709920d5e49e283965": {
      "model_module": "@jupyter-widgets/base",
      "model_module_version": "1.0.0",
      "model_name": "LayoutModel",
      "state": {
       "width": "250px"
      }
     },
     "5b311cece9ec4ea5a324a05b2a1f3523": {
      "model_module": "@jupyter-widgets/controls",
      "model_module_version": "1.2.0",
      "model_name": "VBoxModel",
      "state": {
       "children": [
        "IPY_MODEL_bf0354af863649738f606993485e50c1",
        "IPY_MODEL_05b588babc6b438ba027cc881b09a7dd",
        "IPY_MODEL_a5e1889240a04e8caece26ef28ee6cee",
        "IPY_MODEL_1ed9561b936c4f3cb79c81b855d8afb8"
       ],
       "layout": "IPY_MODEL_b42e81460a2e4039bd2bbe266a864cc5"
      }
     },
     "5b5ff53a5ca34db895cdc56e4ac2ddaa": {
      "model_module": "@jupyter-widgets/controls",
      "model_module_version": "1.2.0",
      "model_name": "HTMLModel",
      "state": {
       "layout": "IPY_MODEL_9e26f837e8014efa8a07c2b1a757f14c",
       "style": "IPY_MODEL_77c1354874cf4cfe8363a5ffca501107",
       "value": "<h4 style=\"font-size:14px;\">Wo liegt das Problem, sodass der Satz abgeleht wird?</h4>"
      }
     },
     "5c90d95392dd4646b8e5397fb736e46d": {
      "model_module": "@jupyter-widgets/controls",
      "model_module_version": "1.2.0",
      "model_name": "ButtonStyleModel",
      "state": {}
     },
     "5cad5a997a8346fe949935412f5a3b57": {
      "model_module": "@jupyter-widgets/controls",
      "model_module_version": "1.2.0",
      "model_name": "DescriptionStyleModel",
      "state": {
       "description_width": "initial"
      }
     },
     "5cc0851bc5784bafadb6dd5a21db49b7": {
      "model_module": "@jupyter-widgets/base",
      "model_module_version": "1.0.0",
      "model_name": "LayoutModel",
      "state": {}
     },
     "5ce81312ee674f1e9d7867f7d3ec7aac": {
      "model_module": "@jupyter-widgets/controls",
      "model_module_version": "1.2.0",
      "model_name": "HBoxModel",
      "state": {
       "children": [
        "IPY_MODEL_1ccacb8b10c448c1874732c2a38a655a"
       ],
       "layout": "IPY_MODEL_64148f93c7914a7292f3b1d1fddfd089"
      }
     },
     "5cebc2f0e42d41daae7e581d9762f7ba": {
      "model_module": "@jupyter-widgets/controls",
      "model_module_version": "1.2.0",
      "model_name": "HBoxModel",
      "state": {
       "children": [
        "IPY_MODEL_f7e3e7020a78437183d7bb076a40fca5",
        "IPY_MODEL_1a243dc9c91f49169b4e7b5b74a9ac17"
       ],
       "layout": "IPY_MODEL_63c2f3c3911f4de0a69bee534188c705"
      }
     },
     "5dbf8fa9311e455ebc20cab103f00f4e": {
      "model_module": "@jupyter-widgets/base",
      "model_module_version": "1.0.0",
      "model_name": "LayoutModel",
      "state": {}
     },
     "5dfe15a1a772423e83f9f3c3cb67bcad": {
      "model_module": "@jupyter-widgets/base",
      "model_module_version": "1.0.0",
      "model_name": "LayoutModel",
      "state": {
       "width": "250px"
      }
     },
     "5e024303e98748ef8ad2903ddcb6a274": {
      "model_module": "@jupyter-widgets/controls",
      "model_module_version": "1.2.0",
      "model_name": "VBoxModel",
      "state": {
       "children": [
        "IPY_MODEL_38b9fe5d9c37414e9c5158fedae22799",
        "IPY_MODEL_43fcef8193a248f6ba8b4221aaabf0b7",
        "IPY_MODEL_a183971c2e5a40679e9e3858e1c9e25f"
       ],
       "layout": "IPY_MODEL_4ea0b6f3214b462f83b3f54678258aa1"
      }
     },
     "5e5499c38a0b4ab9ba7e7f3b936970d1": {
      "model_module": "@jupyter-widgets/controls",
      "model_module_version": "1.2.0",
      "model_name": "DescriptionStyleModel",
      "state": {
       "description_width": "initial"
      }
     },
     "5e9784f4b48840ebb4289da8514f56c6": {
      "model_module": "@jupyter-widgets/base",
      "model_module_version": "1.0.0",
      "model_name": "LayoutModel",
      "state": {
       "width": "600px"
      }
     },
     "5ea546c089974b0cbb1171367df6fc2e": {
      "model_module": "@jupyter-widgets/controls",
      "model_module_version": "1.2.0",
      "model_name": "DescriptionStyleModel",
      "state": {
       "description_width": "initial"
      }
     },
     "5f1d56ff626e4d71aa2e876ad52b7e21": {
      "model_module": "@jupyter-widgets/base",
      "model_module_version": "1.0.0",
      "model_name": "LayoutModel",
      "state": {
       "width": "600px"
      }
     },
     "5fd5e1c14aca43b18f30e35477c5afbc": {
      "model_module": "@jupyter-widgets/controls",
      "model_module_version": "1.2.0",
      "model_name": "DescriptionStyleModel",
      "state": {
       "description_width": "initial"
      }
     },
     "5ff2b3b030ae49e7995d2c357aed9406": {
      "model_module": "@jupyter-widgets/controls",
      "model_module_version": "1.2.0",
      "model_name": "DescriptionStyleModel",
      "state": {
       "description_width": ""
      }
     },
     "6016ccff2e3c4d6b899ff6b644df17b4": {
      "model_module": "@jupyter-widgets/controls",
      "model_module_version": "1.2.0",
      "model_name": "DescriptionStyleModel",
      "state": {
       "description_width": "initial"
      }
     },
     "6035b324506a4089aee9bc498bd86bd4": {
      "model_module": "@jupyter-widgets/controls",
      "model_module_version": "1.2.0",
      "model_name": "DescriptionStyleModel",
      "state": {
       "description_width": ""
      }
     },
     "606ccfc3d57b460c8263bb4f3c4e0c11": {
      "model_module": "@jupyter-widgets/base",
      "model_module_version": "1.0.0",
      "model_name": "LayoutModel",
      "state": {}
     },
     "61703b158477491cb52e2cf7aef0605a": {
      "model_module": "@jupyter-widgets/controls",
      "model_module_version": "1.2.0",
      "model_name": "VBoxModel",
      "state": {
       "children": [
        "IPY_MODEL_62ea13a6026b473aa9b1317dc8e1055e",
        "IPY_MODEL_644a086e162c46bea424e844415d7b8e",
        "IPY_MODEL_97fac1679ded423aacf94646a0e543f0",
        "IPY_MODEL_5ce81312ee674f1e9d7867f7d3ec7aac"
       ],
       "layout": "IPY_MODEL_c43f443727d242e0addc36b12b328c7d"
      }
     },
     "61718f23d75c4b05b8d147a6aa1ac98b": {
      "model_module": "@jupyter-widgets/controls",
      "model_module_version": "1.2.0",
      "model_name": "HBoxModel",
      "state": {
       "children": [
        "IPY_MODEL_8c6f278490064eb2befc9a6081f6ac59",
        "IPY_MODEL_7c18e7de30d54038b9cbb794e345dc6d"
       ],
       "layout": "IPY_MODEL_e28f84df7490405ea18f4b3d604bff59"
      }
     },
     "626578afb4454c7bbef0cf7eda881823": {
      "model_module": "@jupyter-widgets/base",
      "model_module_version": "1.0.0",
      "model_name": "LayoutModel",
      "state": {
       "justify_content": "center"
      }
     },
     "6296a59385a442d082905d7879d67f0b": {
      "model_module": "@jupyter-widgets/base",
      "model_module_version": "1.0.0",
      "model_name": "LayoutModel",
      "state": {}
     },
     "62d9d48bf4a74a0eadbe03a3682cdb14": {
      "model_module": "@jupyter-widgets/controls",
      "model_module_version": "1.2.0",
      "model_name": "ButtonModel",
      "state": {
       "description": "Korrekt?",
       "layout": "IPY_MODEL_29258cd63c754f7296303ee174aebfab",
       "style": "IPY_MODEL_b70806edf3a14f14a242ce8509d9ad21"
      }
     },
     "62ea13a6026b473aa9b1317dc8e1055e": {
      "model_module": "@jupyter-widgets/controls",
      "model_module_version": "1.2.0",
      "model_name": "HTMLModel",
      "state": {
       "layout": "IPY_MODEL_1ba7dc2731364789a050e5fc4d5f262e",
       "style": "IPY_MODEL_11e6c8b360a94048afcc5ae9265de966",
       "value": "<h4 style=\"font-size:14px;\">Wieso wird der Satz von der Grammatik abgelehnt?</h4>"
      }
     },
     "630454648a0c457cb707c5deb4c7fc1e": {
      "model_module": "@jupyter-widgets/controls",
      "model_module_version": "1.2.0",
      "model_name": "ButtonStyleModel",
      "state": {
       "button_color": "lightgreen"
      }
     },
     "63c2f3c3911f4de0a69bee534188c705": {
      "model_module": "@jupyter-widgets/base",
      "model_module_version": "1.0.0",
      "model_name": "LayoutModel",
      "state": {}
     },
     "63f110e7be2c4f95833092cc89c5e1bc": {
      "model_module": "@jupyter-widgets/controls",
      "model_module_version": "1.2.0",
      "model_name": "ButtonModel",
      "state": {
       "description": "'Katze' ist kein gültiges Wort",
       "layout": "IPY_MODEL_dd77802d9d24466fa642e654c8c32b4f",
       "style": "IPY_MODEL_52ea2ff94f344f31ae8d47c294d2a700"
      }
     },
     "64148f93c7914a7292f3b1d1fddfd089": {
      "model_module": "@jupyter-widgets/base",
      "model_module_version": "1.0.0",
      "model_name": "LayoutModel",
      "state": {}
     },
     "641d7cf2076e47ecb8b7233b39c5cbf0": {
      "model_module": "@jupyter-widgets/controls",
      "model_module_version": "1.2.0",
      "model_name": "ButtonModel",
      "state": {
       "description": "'Katze' ist kein gültiges Wort",
       "layout": "IPY_MODEL_d33ea4aab0d54ab888643bc02df0288b",
       "style": "IPY_MODEL_1e9e5302b9684d198fef4ae434659961"
      }
     },
     "644a086e162c46bea424e844415d7b8e": {
      "model_module": "@jupyter-widgets/controls",
      "model_module_version": "1.2.0",
      "model_name": "HTMLModel",
      "state": {
       "layout": "IPY_MODEL_1aff06dc35e145978663f970f5361269",
       "style": "IPY_MODEL_aa5b0de5ca2849fabc3210bbaac0e154",
       "value": "<i>Wählen Sie die <ins>eine</ins> korrekte Antwort aus: </i>"
      }
     },
     "644b1e615dc54ff4bd06fba9112d5128": {
      "model_module": "@jupyter-widgets/controls",
      "model_module_version": "1.2.0",
      "model_name": "VBoxModel",
      "state": {
       "children": [
        "IPY_MODEL_1a6cfde788194bcd83ad45c242c67899",
        "IPY_MODEL_4798d621e372420caaeb73d59c9ff00e",
        "IPY_MODEL_59f6a24e272749cda808e218f40d969e",
        "IPY_MODEL_62d9d48bf4a74a0eadbe03a3682cdb14"
       ],
       "layout": "IPY_MODEL_9f20b253f0734c5cb99c49c2c6f26dfa"
      }
     },
     "6472035c341847f085b923bd41143b27": {
      "model_module": "@jupyter-widgets/base",
      "model_module_version": "1.0.0",
      "model_name": "LayoutModel",
      "state": {
       "justify_content": "center"
      }
     },
     "647f9f96256e40268e4ebca8ebaaa3ea": {
      "model_module": "@jupyter-widgets/base",
      "model_module_version": "1.0.0",
      "model_name": "LayoutModel",
      "state": {}
     },
     "64cb813db1284b74996cb5c28d309e17": {
      "model_module": "@jupyter-widgets/controls",
      "model_module_version": "1.2.0",
      "model_name": "HTMLModel",
      "state": {
       "layout": "IPY_MODEL_c8a0d744e1a24dd7917231242c14bb9e",
       "style": "IPY_MODEL_5143d5509d184d3288762715eca36a45",
       "value": "<i>Wählen Sie die <ins>eine</ins> korrekte Antwort aus: </i>"
      }
     },
     "64f4256510614789bf49fcbf55d02f64": {
      "model_module": "@jupyter-widgets/base",
      "model_module_version": "1.0.0",
      "model_name": "LayoutModel",
      "state": {}
     },
     "6697fecd190a4cec8e7c7c7a883eedd1": {
      "model_module": "@jupyter-widgets/base",
      "model_module_version": "1.0.0",
      "model_name": "LayoutModel",
      "state": {
       "justify_content": "center"
      }
     },
     "66a77ad84c4f4a0990125198a48b72e4": {
      "model_module": "@jupyter-widgets/controls",
      "model_module_version": "1.2.0",
      "model_name": "DescriptionStyleModel",
      "state": {
       "description_width": "initial"
      }
     },
     "66af739967b9442c8f76e6379fb7105b": {
      "model_module": "@jupyter-widgets/controls",
      "model_module_version": "1.2.0",
      "model_name": "DescriptionStyleModel",
      "state": {
       "description_width": ""
      }
     },
     "6792431413974293bcb27eccf3e28748": {
      "model_module": "@jupyter-widgets/base",
      "model_module_version": "1.0.0",
      "model_name": "LayoutModel",
      "state": {
       "width": "600px"
      }
     },
     "67fb55aa355f4b5ba569eda332230166": {
      "model_module": "@jupyter-widgets/controls",
      "model_module_version": "1.2.0",
      "model_name": "DescriptionStyleModel",
      "state": {
       "description_width": ""
      }
     },
     "6863e547eced4679a85958affca804da": {
      "model_module": "@jupyter-widgets/base",
      "model_module_version": "1.0.0",
      "model_name": "LayoutModel",
      "state": {}
     },
     "68c0db066141428389e5c3b7013a1a9c": {
      "model_module": "@jupyter-widgets/controls",
      "model_module_version": "1.2.0",
      "model_name": "DescriptionStyleModel",
      "state": {
       "description_width": "initial"
      }
     },
     "68c7c8c069d444108a35ff0aa1599cf0": {
      "model_module": "@jupyter-widgets/controls",
      "model_module_version": "1.2.0",
      "model_name": "CheckboxModel",
      "state": {
       "description": "< N PER > ≠ < DET PER >",
       "disabled": false,
       "layout": "IPY_MODEL_269648b8a3dc4629807c5dfd6dc354f2",
       "style": "IPY_MODEL_e422f87e3e0a4d3ba99f49c58a9afc9b",
       "value": false
      }
     },
     "693616bfe1714696b4c527e96b3c7d09": {
      "model_module": "@jupyter-widgets/controls",
      "model_module_version": "1.2.0",
      "model_name": "DescriptionStyleModel",
      "state": {
       "description_width": "initial"
      }
     },
     "69886ca412de4ad3b5e854746210d21a": {
      "model_module": "@jupyter-widgets/controls",
      "model_module_version": "1.2.0",
      "model_name": "ButtonStyleModel",
      "state": {}
     },
     "69f54b89e630452398ad27326922ce49": {
      "model_module": "@jupyter-widgets/controls",
      "model_module_version": "1.2.0",
      "model_name": "HBoxModel",
      "state": {
       "children": [
        "IPY_MODEL_641d7cf2076e47ecb8b7233b39c5cbf0",
        "IPY_MODEL_c2e0c1f660d6452ab8d71d0d4cfe424d"
       ],
       "layout": "IPY_MODEL_565218fd0e674d56ba8e0d8f3016fb91"
      }
     },
     "6a1213e9202641eeb0a291a75067f1e5": {
      "model_module": "@jupyter-widgets/controls",
      "model_module_version": "1.2.0",
      "model_name": "DescriptionStyleModel",
      "state": {
       "description_width": "initial"
      }
     },
     "6b31890ad3254ea9ab39ae8aea2a7b8c": {
      "model_module": "@jupyter-widgets/controls",
      "model_module_version": "1.2.0",
      "model_name": "ButtonStyleModel",
      "state": {}
     },
     "6b7bdfafea80423e9346714321878553": {
      "model_module": "@jupyter-widgets/controls",
      "model_module_version": "1.2.0",
      "model_name": "CheckboxModel",
      "state": {
       "description": "[GND=’fem’, NUM=’sg’, PER=3]",
       "disabled": false,
       "layout": "IPY_MODEL_2d2a9f38330d4d5bbf7f7b4512567ca2",
       "style": "IPY_MODEL_27030c9b507e4abd89a3d2504839d130",
       "value": false
      }
     },
     "6c298d4b88454afc8365e4154324650c": {
      "model_module": "@jupyter-widgets/base",
      "model_module_version": "1.0.0",
      "model_name": "LayoutModel",
      "state": {
       "width": "600px"
      }
     },
     "6c347953256c4e62ba77bcf093098b02": {
      "model_module": "@jupyter-widgets/base",
      "model_module_version": "1.0.0",
      "model_name": "LayoutModel",
      "state": {
       "justify_content": "center"
      }
     },
     "6d02b820d4d44dbc9aa5e14672bf326f": {
      "model_module": "@jupyter-widgets/controls",
      "model_module_version": "1.2.0",
      "model_name": "CheckboxModel",
      "state": {
       "description": "[GND=’fem’, NUM=’sg’, PER=3]",
       "disabled": false,
       "layout": "IPY_MODEL_7821e3372b29495c949cd308b277604b",
       "style": "IPY_MODEL_cb5cce855428476ab2530606230aa8f1",
       "value": false
      }
     },
     "6d127f81d2694a4fae2646e1ecd8611c": {
      "model_module": "@jupyter-widgets/controls",
      "model_module_version": "1.2.0",
      "model_name": "DescriptionStyleModel",
      "state": {
       "description_width": "initial"
      }
     },
     "6d94e45c8e45407f9552ade03b85964c": {
      "model_module": "@jupyter-widgets/controls",
      "model_module_version": "1.2.0",
      "model_name": "DescriptionStyleModel",
      "state": {
       "description_width": ""
      }
     },
     "6e9b2e7369094d7a82210972c1456f10": {
      "model_module": "@jupyter-widgets/controls",
      "model_module_version": "1.2.0",
      "model_name": "DescriptionStyleModel",
      "state": {
       "description_width": ""
      }
     },
     "6f48faafb94b477bac3ab2cd23f1587c": {
      "model_module": "@jupyter-widgets/controls",
      "model_module_version": "1.2.0",
      "model_name": "DescriptionStyleModel",
      "state": {
       "description_width": ""
      }
     },
     "6f53134b2fa64343b18e54367bae3db5": {
      "model_module": "@jupyter-widgets/base",
      "model_module_version": "1.0.0",
      "model_name": "LayoutModel",
      "state": {
       "width": "250px"
      }
     },
     "6ff31ac13a504bb9b6044a5ffc42a2ba": {
      "model_module": "@jupyter-widgets/controls",
      "model_module_version": "1.2.0",
      "model_name": "ButtonModel",
      "state": {
       "description": "Keine der anderen Möglichkeiten",
       "layout": "IPY_MODEL_8b716092c0cd49dabf6926b8fa705f5c",
       "style": "IPY_MODEL_69886ca412de4ad3b5e854746210d21a"
      }
     },
     "703d48f44cd843d9917978991352c0fb": {
      "model_module": "@jupyter-widgets/base",
      "model_module_version": "1.0.0",
      "model_name": "LayoutModel",
      "state": {}
     },
     "706dab558d7947fa8f8159f3f059f18e": {
      "model_module": "@jupyter-widgets/controls",
      "model_module_version": "1.2.0",
      "model_name": "CheckboxModel",
      "state": {
       "description": "< N GEN > ≠ < DET GEN >",
       "disabled": false,
       "layout": "IPY_MODEL_78e80f2f3b45415ca55eb473125d24f8",
       "style": "IPY_MODEL_20a4c5b1a51540bfa10b4595b3ae28cd",
       "value": false
      }
     },
     "70865c90b219457bbd9bb8ed5f70ccdc": {
      "model_module": "@jupyter-widgets/controls",
      "model_module_version": "1.2.0",
      "model_name": "HTMLModel",
      "state": {
       "layout": "IPY_MODEL_3abb68dbd33a49d7ac1dc9d23a8fa6fc",
       "style": "IPY_MODEL_3e6ea3e1aa854746a6103741d1699183",
       "value": "<i>Markieren Sie <ins>alle</ins> passenden Antworten: </i>"
      }
     },
     "71675dda30fe4b8e959e776f37f0f31e": {
      "model_module": "@jupyter-widgets/base",
      "model_module_version": "1.0.0",
      "model_name": "LayoutModel",
      "state": {
       "width": "600px"
      }
     },
     "71c4695988da437b9fb10b01a9b30d2b": {
      "model_module": "@jupyter-widgets/controls",
      "model_module_version": "1.2.0",
      "model_name": "DescriptionStyleModel",
      "state": {
       "description_width": ""
      }
     },
     "71fae97e86d64dab8cb9643a8feaf8e4": {
      "model_module": "@jupyter-widgets/controls",
      "model_module_version": "1.2.0",
      "model_name": "CheckboxModel",
      "state": {
       "description": "[NUM=’sg’, PER=3]",
       "disabled": false,
       "layout": "IPY_MODEL_6792431413974293bcb27eccf3e28748",
       "style": "IPY_MODEL_8e2f0c1c4c16429a9dbe19d0767d3029",
       "value": false
      }
     },
     "742fde995569440b896b7e5ca8d48a07": {
      "model_module": "@jupyter-widgets/base",
      "model_module_version": "1.0.0",
      "model_name": "LayoutModel",
      "state": {
       "width": "600px"
      }
     },
     "745d9acba7f54b02a962b406f48027e3": {
      "model_module": "@jupyter-widgets/base",
      "model_module_version": "1.0.0",
      "model_name": "LayoutModel",
      "state": {}
     },
     "74b597b3bb294f649ae15e942937ce87": {
      "model_module": "@jupyter-widgets/controls",
      "model_module_version": "1.2.0",
      "model_name": "CheckboxModel",
      "state": {
       "description": "[GND=’masc’, NUM=’sg’, PER=3]",
       "disabled": false,
       "layout": "IPY_MODEL_4440a504241043feb49e3869062f7d92",
       "style": "IPY_MODEL_2e95c1c76920403e902a70e5ed452b7c",
       "value": true
      }
     },
     "74ddbbc5f41a41a4af85044caed8d0da": {
      "model_module": "@jupyter-widgets/base",
      "model_module_version": "1.0.0",
      "model_name": "LayoutModel",
      "state": {}
     },
     "74e839d973174dee9c4ffb3ce5701ec7": {
      "model_module": "@jupyter-widgets/controls",
      "model_module_version": "1.2.0",
      "model_name": "CheckboxModel",
      "state": {
       "description": "< N GEN > ≠ < DET GEN >",
       "disabled": false,
       "layout": "IPY_MODEL_057b0cd824684579a0ffa9970fbe5e7c",
       "style": "IPY_MODEL_a29e1ffb6b344b94b79a0813577bd2f9",
       "value": false
      }
     },
     "758ba36b3b32453696620cc2d94ba5ac": {
      "model_module": "@jupyter-widgets/controls",
      "model_module_version": "1.2.0",
      "model_name": "VBoxModel",
      "state": {
       "children": [
        "IPY_MODEL_44a2f515f6674d71a12587e182012f8b",
        "IPY_MODEL_3c51cdc1fd9d4ee79a53ae98729d99b3",
        "IPY_MODEL_5e024303e98748ef8ad2903ddcb6a274",
        "IPY_MODEL_fced22536a514fbeb1f369251875828e"
       ],
       "layout": "IPY_MODEL_24c809ea735c454cb52d408dbd31585b"
      }
     },
     "75ecb616a4744cfc98dd1c2bfd5ebd1f": {
      "model_module": "@jupyter-widgets/base",
      "model_module_version": "1.0.0",
      "model_name": "LayoutModel",
      "state": {}
     },
     "7620293cf9aa4b668e0c85352653d489": {
      "model_module": "@jupyter-widgets/base",
      "model_module_version": "1.0.0",
      "model_name": "LayoutModel",
      "state": {
       "width": "600px"
      }
     },
     "764072d2de0a47c39dc2d749abc17e01": {
      "model_module": "@jupyter-widgets/controls",
      "model_module_version": "1.2.0",
      "model_name": "DescriptionStyleModel",
      "state": {
       "description_width": "initial"
      }
     },
     "7713fcc89ffa47098a5e152ea4fe3551": {
      "model_module": "@jupyter-widgets/controls",
      "model_module_version": "1.2.0",
      "model_name": "DescriptionStyleModel",
      "state": {
       "description_width": "initial"
      }
     },
     "77239536d1e24665b7f04be766bc05a8": {
      "model_module": "@jupyter-widgets/controls",
      "model_module_version": "1.2.0",
      "model_name": "VBoxModel",
      "state": {
       "children": [
        "IPY_MODEL_e7d090e2d06d4f178e0d2054093e9644",
        "IPY_MODEL_64cb813db1284b74996cb5c28d309e17",
        "IPY_MODEL_3c49e41661b84001bf8e8bc26ff60285",
        "IPY_MODEL_47208c8c7d7b416185aed0a431758134"
       ],
       "layout": "IPY_MODEL_c670a770f6874c37899dd0cf725fa8bc"
      }
     },
     "773bb6fdd8384409a72d45b2cc34504e": {
      "model_module": "@jupyter-widgets/controls",
      "model_module_version": "1.2.0",
      "model_name": "VBoxModel",
      "state": {
       "children": [
        "IPY_MODEL_446555b1247f4d8294e39a5089d71b5a",
        "IPY_MODEL_a094ac09f71a4502bfdb260f9b00c1dd",
        "IPY_MODEL_2f72a856c0ed435b990d903e9097c611",
        "IPY_MODEL_e6b6db169fb246bfbb810f44d043c640"
       ],
       "layout": "IPY_MODEL_2ce00830f18a456ab043c681384348e9"
      }
     },
     "77c1354874cf4cfe8363a5ffca501107": {
      "model_module": "@jupyter-widgets/controls",
      "model_module_version": "1.2.0",
      "model_name": "DescriptionStyleModel",
      "state": {
       "description_width": ""
      }
     },
     "77e875ed82bd4937af9d39ec719c9dc5": {
      "model_module": "@jupyter-widgets/base",
      "model_module_version": "1.0.0",
      "model_name": "LayoutModel",
      "state": {
       "width": "600px"
      }
     },
     "77f27272c7d646d7852da798afc33f9f": {
      "model_module": "@jupyter-widgets/controls",
      "model_module_version": "1.2.0",
      "model_name": "CheckboxModel",
      "state": {
       "description": "[NUM=’pl’, PER=3]",
       "disabled": false,
       "layout": "IPY_MODEL_2483724632014f4480ea4db44c84dde7",
       "style": "IPY_MODEL_96f6f2dfbf8a4063ab4d0dcf0a199fd4",
       "value": true
      }
     },
     "7821e3372b29495c949cd308b277604b": {
      "model_module": "@jupyter-widgets/base",
      "model_module_version": "1.0.0",
      "model_name": "LayoutModel",
      "state": {
       "width": "600px"
      }
     },
     "7835a6e2be7646fe8000eecb74da316f": {
      "model_module": "@jupyter-widgets/controls",
      "model_module_version": "1.2.0",
      "model_name": "VBoxModel",
      "state": {
       "children": [
        "IPY_MODEL_74e839d973174dee9c4ffb3ce5701ec7",
        "IPY_MODEL_c3d271787f854904b6019772768f3387",
        "IPY_MODEL_cfcf7524fc02495aa8e49b9f5c3ab755"
       ],
       "layout": "IPY_MODEL_11cd503280fc429eb6254c22d47ed115"
      }
     },
     "7851a69bcfb44917834aa630ee750965": {
      "model_module": "@jupyter-widgets/controls",
      "model_module_version": "1.2.0",
      "model_name": "HTMLModel",
      "state": {
       "layout": "IPY_MODEL_09018aceec644a0fb60b1722f4eaa7a0",
       "style": "IPY_MODEL_ba5ef9724bd044b699ba13b9603709cd",
       "value": "<h4 style=\"font-size:14px;\">Welche DET-Kategorien gibt es für den Satz?</h4>"
      }
     },
     "788763af4e1a4774a9c2e5bf74cd5b21": {
      "model_module": "@jupyter-widgets/controls",
      "model_module_version": "1.2.0",
      "model_name": "HTMLModel",
      "state": {
       "layout": "IPY_MODEL_91698c2d59d3493e896e5c39c57aebfd",
       "style": "IPY_MODEL_5ff2b3b030ae49e7995d2c357aed9406",
       "value": "<i>Markieren Sie <ins>alle</ins> passenden Antworten: </i>"
      }
     },
     "78be7c74b1d244e383513f56f66b3a2d": {
      "model_module": "@jupyter-widgets/base",
      "model_module_version": "1.0.0",
      "model_name": "LayoutModel",
      "state": {}
     },
     "78e80f2f3b45415ca55eb473125d24f8": {
      "model_module": "@jupyter-widgets/base",
      "model_module_version": "1.0.0",
      "model_name": "LayoutModel",
      "state": {
       "width": "600px"
      }
     },
     "7afe1f1f45a5475380ff84f205ecf5f2": {
      "model_module": "@jupyter-widgets/base",
      "model_module_version": "1.0.0",
      "model_name": "LayoutModel",
      "state": {
       "width": "250px"
      }
     },
     "7b715228022a40ceaa64319ee2d821a5": {
      "model_module": "@jupyter-widgets/base",
      "model_module_version": "1.0.0",
      "model_name": "LayoutModel",
      "state": {}
     },
     "7c18e7de30d54038b9cbb794e345dc6d": {
      "model_module": "@jupyter-widgets/controls",
      "model_module_version": "1.2.0",
      "model_name": "ButtonModel",
      "state": {
       "description": "nicht unifizierbar",
       "layout": "IPY_MODEL_d30aa0a58eae4b26b0bc22f3f4227e2a",
       "style": "IPY_MODEL_5a2ec07b47214c80bf39f2747e7c94b5"
      }
     },
     "7c5136acd66949059145f21dea2a928d": {
      "model_module": "@jupyter-widgets/controls",
      "model_module_version": "1.2.0",
      "model_name": "VBoxModel",
      "state": {
       "children": [
        "IPY_MODEL_b522a83310ed4ca58f1d716f2ca4ec97",
        "IPY_MODEL_70865c90b219457bbd9bb8ed5f70ccdc",
        "IPY_MODEL_85204fd765b24d07a5814492bf81a2c1",
        "IPY_MODEL_7d110c70c69f4f729312e00378d2e675"
       ],
       "layout": "IPY_MODEL_7eeb11306d1f4a39abac1b60c8d58370"
      }
     },
     "7cc62496f2fa4bf08beb97bbf004ac8c": {
      "model_module": "@jupyter-widgets/base",
      "model_module_version": "1.0.0",
      "model_name": "LayoutModel",
      "state": {}
     },
     "7cff7d058f19496d8948d486ea40fc4a": {
      "model_module": "@jupyter-widgets/controls",
      "model_module_version": "1.2.0",
      "model_name": "DescriptionStyleModel",
      "state": {
       "description_width": ""
      }
     },
     "7d110c70c69f4f729312e00378d2e675": {
      "model_module": "@jupyter-widgets/controls",
      "model_module_version": "1.2.0",
      "model_name": "ButtonModel",
      "state": {
       "description": "Korrekt?",
       "layout": "IPY_MODEL_858be6d9a4a64232af116fcf923290d5",
       "style": "IPY_MODEL_965e8c0f491a4d1287d736d10cd581d6"
      }
     },
     "7d359b364bd24bdfae59aace81789132": {
      "model_module": "@jupyter-widgets/controls",
      "model_module_version": "1.2.0",
      "model_name": "CheckboxModel",
      "state": {
       "description": "< N GEN > ≠ < DET GEN >",
       "disabled": false,
       "layout": "IPY_MODEL_a9fb989e331146a78b7b1eccda5c1740",
       "style": "IPY_MODEL_b3d376c3329649e59c2cb565167973e4",
       "value": true
      }
     },
     "7e03925dfa444a3cae606227fcbb1e31": {
      "model_module": "@jupyter-widgets/controls",
      "model_module_version": "1.2.0",
      "model_name": "CheckboxModel",
      "state": {
       "description": "[GND=’masc’, NUM=’sg’, PER=3]",
       "disabled": false,
       "layout": "IPY_MODEL_4e87757c76104931badfe6aae286f154",
       "style": "IPY_MODEL_9e7e62cb2034447abf98d059f4138967",
       "value": true
      }
     },
     "7eeb11306d1f4a39abac1b60c8d58370": {
      "model_module": "@jupyter-widgets/base",
      "model_module_version": "1.0.0",
      "model_name": "LayoutModel",
      "state": {}
     },
     "803644ff00b64023801f6fa343b33ab8": {
      "model_module": "@jupyter-widgets/base",
      "model_module_version": "1.0.0",
      "model_name": "LayoutModel",
      "state": {
       "justify_content": "center"
      }
     },
     "8088905936334eeab568fd0829ce4f96": {
      "model_module": "@jupyter-widgets/base",
      "model_module_version": "1.0.0",
      "model_name": "LayoutModel",
      "state": {}
     },
     "814926cc7cd74a7b9edb4a26166fc15d": {
      "model_module": "@jupyter-widgets/base",
      "model_module_version": "1.0.0",
      "model_name": "LayoutModel",
      "state": {
       "width": "250px"
      }
     },
     "8263b11a4b804739b8254d3512093217": {
      "model_module": "@jupyter-widgets/base",
      "model_module_version": "1.0.0",
      "model_name": "LayoutModel",
      "state": {}
     },
     "82f0c2a03907425a90f37708d36dea89": {
      "model_module": "@jupyter-widgets/controls",
      "model_module_version": "1.2.0",
      "model_name": "ButtonModel",
      "state": {
       "description": "'Katze' ist kein gültiges Wort",
       "layout": "IPY_MODEL_d2274ebeb19c4e869a2ecae6deeba081",
       "style": "IPY_MODEL_ce2bbe858d894c2e800d1bd64258b4d8"
      }
     },
     "833bb8ebf4bb46eaa3f456ff72974612": {
      "model_module": "@jupyter-widgets/base",
      "model_module_version": "1.0.0",
      "model_name": "LayoutModel",
      "state": {
       "justify_content": "center"
      }
     },
     "8359b50b309647f0adaef485c01de647": {
      "model_module": "@jupyter-widgets/controls",
      "model_module_version": "1.2.0",
      "model_name": "ButtonStyleModel",
      "state": {
       "button_color": "lightgreen"
      }
     },
     "83e2b241ac9047e285d82858d66b1491": {
      "model_module": "@jupyter-widgets/controls",
      "model_module_version": "1.2.0",
      "model_name": "DescriptionStyleModel",
      "state": {
       "description_width": ""
      }
     },
     "846d1741d4cd432da7e34c09131a847f": {
      "model_module": "@jupyter-widgets/controls",
      "model_module_version": "1.2.0",
      "model_name": "HBoxModel",
      "state": {
       "children": [
        "IPY_MODEL_c701314799b440f88534734c45abd4ef"
       ],
       "layout": "IPY_MODEL_37538986d0c447a087ed8fc82023b507"
      }
     },
     "84826f44270e4038a9da0b9af536830a": {
      "model_module": "@jupyter-widgets/controls",
      "model_module_version": "1.2.0",
      "model_name": "HBoxModel",
      "state": {
       "children": [
        "IPY_MODEL_28d623ca42d84186834b499e584ce961",
        "IPY_MODEL_3d04567370c04be794c5dbb803b16274"
       ],
       "layout": "IPY_MODEL_a87e9bb04d834f268b4c44d2c2b9a316"
      }
     },
     "85204fd765b24d07a5814492bf81a2c1": {
      "model_module": "@jupyter-widgets/controls",
      "model_module_version": "1.2.0",
      "model_name": "VBoxModel",
      "state": {
       "children": [
        "IPY_MODEL_21014698096c4a8da556b72990543196",
        "IPY_MODEL_26e28ad7155d4c38ac90ba014fcb1040",
        "IPY_MODEL_1fa0050554a34f56801cbfcd227a0a0e",
        "IPY_MODEL_ddca72fa67544758b2de2e5f0a2a829d"
       ],
       "layout": "IPY_MODEL_213562037d0d4a038e342520068a0df6"
      }
     },
     "852dbc65f6bd47f5a49baa8d8fffdaa6": {
      "model_module": "@jupyter-widgets/controls",
      "model_module_version": "1.2.0",
      "model_name": "ButtonStyleModel",
      "state": {}
     },
     "856b9478796741278017142c5667abc8": {
      "model_module": "@jupyter-widgets/controls",
      "model_module_version": "1.2.0",
      "model_name": "ButtonModel",
      "state": {
       "description": "Korrekt?",
       "layout": "IPY_MODEL_9d54d8549b1b4a4996e9a44714bdc9ca",
       "style": "IPY_MODEL_110216f92b7e4adb96fa9545192b159f"
      }
     },
     "858be6d9a4a64232af116fcf923290d5": {
      "model_module": "@jupyter-widgets/base",
      "model_module_version": "1.0.0",
      "model_name": "LayoutModel",
      "state": {
       "width": "250px"
      }
     },
     "8683a1d21a5547479fa82b6518cadd1a": {
      "model_module": "@jupyter-widgets/controls",
      "model_module_version": "1.2.0",
      "model_name": "CheckboxModel",
      "state": {
       "description": "[GND=’fem’, NUM=’sg’, PER=3]",
       "disabled": false,
       "layout": "IPY_MODEL_0d27fbc60e9f4b2c8b1ad49ee9c4e375",
       "style": "IPY_MODEL_b4edca10a49e4221ae8791c6a5ee7a6a",
       "value": false
      }
     },
     "8689564c138a4ad992b45fbeeb00b630": {
      "model_module": "@jupyter-widgets/base",
      "model_module_version": "1.0.0",
      "model_name": "LayoutModel",
      "state": {
       "justify_content": "center"
      }
     },
     "8774b6c5b274456ab2e680a931cd95af": {
      "model_module": "@jupyter-widgets/controls",
      "model_module_version": "1.2.0",
      "model_name": "ButtonModel",
      "state": {
       "description": "Korrekt?",
       "layout": "IPY_MODEL_ba21fb466b334eca940d943da897e283",
       "style": "IPY_MODEL_a218b7b9008b4ea9b02aa32063bf9f5f"
      }
     },
     "87a0f708aecb44dea0ad61b67a1973f7": {
      "model_module": "@jupyter-widgets/controls",
      "model_module_version": "1.2.0",
      "model_name": "DescriptionStyleModel",
      "state": {
       "description_width": ""
      }
     },
     "88b3c24ceeb6449da64ed618be7221c3": {
      "model_module": "@jupyter-widgets/controls",
      "model_module_version": "1.2.0",
      "model_name": "CheckboxModel",
      "state": {
       "description": "[NUM=’pl’, PER=3]",
       "disabled": false,
       "layout": "IPY_MODEL_4d12aa0b3c2640baa15f9bcb4bb98da5",
       "style": "IPY_MODEL_14e0bd256b6245cf8ba4ddf8fca4df36",
       "value": true
      }
     },
     "897441527c36499b898f36aca74fc0c2": {
      "model_module": "@jupyter-widgets/controls",
      "model_module_version": "1.2.0",
      "model_name": "ButtonModel",
      "state": {
       "description": "Korrekt?",
       "layout": "IPY_MODEL_4f1d3a0110d045fa9b242af908d2420c",
       "style": "IPY_MODEL_c07ccd164ff84a54bc708e594850ff0f"
      }
     },
     "8aa7a18e4d8c40ee8c7d109bdbfe1e5d": {
      "model_module": "@jupyter-widgets/controls",
      "model_module_version": "1.2.0",
      "model_name": "CheckboxModel",
      "state": {
       "description": "[NUM=’pl’, PER=3]",
       "disabled": false,
       "layout": "IPY_MODEL_b5d87ce52c1a4182b55672932513f614",
       "style": "IPY_MODEL_f9aefb9452a04bcf928234d88df3bc65",
       "value": false
      }
     },
     "8ab57169c5e8468aa3251aa0c0d93a36": {
      "model_module": "@jupyter-widgets/controls",
      "model_module_version": "1.2.0",
      "model_name": "DescriptionStyleModel",
      "state": {
       "description_width": ""
      }
     },
     "8b716092c0cd49dabf6926b8fa705f5c": {
      "model_module": "@jupyter-widgets/base",
      "model_module_version": "1.0.0",
      "model_name": "LayoutModel",
      "state": {
       "width": "250px"
      }
     },
     "8c0370c51e224af8b518fee6e2c24168": {
      "model_module": "@jupyter-widgets/base",
      "model_module_version": "1.0.0",
      "model_name": "LayoutModel",
      "state": {}
     },
     "8c6f278490064eb2befc9a6081f6ac59": {
      "model_module": "@jupyter-widgets/controls",
      "model_module_version": "1.2.0",
      "model_name": "ButtonModel",
      "state": {
       "description": "'Katze' ist kein gültiges Wort",
       "layout": "IPY_MODEL_ccbdbb7d8ee14190850dd02cb7442197",
       "style": "IPY_MODEL_6b31890ad3254ea9ab39ae8aea2a7b8c"
      }
     },
     "8cdd830ea74e45daa1127b9387f0b7e3": {
      "model_module": "@jupyter-widgets/base",
      "model_module_version": "1.0.0",
      "model_name": "LayoutModel",
      "state": {}
     },
     "8e041e45babf44b984d4c5bd39d8870f": {
      "model_module": "@jupyter-widgets/controls",
      "model_module_version": "1.2.0",
      "model_name": "VBoxModel",
      "state": {
       "children": [
        "IPY_MODEL_a8a144fd23174bf2b46436ca8625cc55",
        "IPY_MODEL_966857eea1a24888b95986d0685f4579",
        "IPY_MODEL_d34fb54d0918477cb083df50a8644cee",
        "IPY_MODEL_0a9d3f8c7c394d0a86a621df320e1b55"
       ],
       "layout": "IPY_MODEL_0c25b70ccbbc46d0b405f6b6a0a52dc0"
      }
     },
     "8e2f0c1c4c16429a9dbe19d0767d3029": {
      "model_module": "@jupyter-widgets/controls",
      "model_module_version": "1.2.0",
      "model_name": "DescriptionStyleModel",
      "state": {
       "description_width": "initial"
      }
     },
     "8e39ab36cb8041d78fb81cd30d37694a": {
      "model_module": "@jupyter-widgets/base",
      "model_module_version": "1.0.0",
      "model_name": "LayoutModel",
      "state": {}
     },
     "8f161098238d4040a357f079cd250261": {
      "model_module": "@jupyter-widgets/base",
      "model_module_version": "1.0.0",
      "model_name": "LayoutModel",
      "state": {
       "width": "250px"
      }
     },
     "8fcecdbc8f1349799820ea1f33dc0a35": {
      "model_module": "@jupyter-widgets/controls",
      "model_module_version": "1.2.0",
      "model_name": "ButtonStyleModel",
      "state": {}
     },
     "9020d7fda85942b09db491c27e2cc2d9": {
      "model_module": "@jupyter-widgets/base",
      "model_module_version": "1.0.0",
      "model_name": "LayoutModel",
      "state": {
       "width": "250px"
      }
     },
     "90994377d22b4c3e844a1008d4be1314": {
      "model_module": "@jupyter-widgets/controls",
      "model_module_version": "1.2.0",
      "model_name": "DescriptionStyleModel",
      "state": {
       "description_width": ""
      }
     },
     "9119778918804b4a913d71497fb76f9e": {
      "model_module": "@jupyter-widgets/base",
      "model_module_version": "1.0.0",
      "model_name": "LayoutModel",
      "state": {}
     },
     "91698c2d59d3493e896e5c39c57aebfd": {
      "model_module": "@jupyter-widgets/base",
      "model_module_version": "1.0.0",
      "model_name": "LayoutModel",
      "state": {
       "justify_content": "center"
      }
     },
     "91d804cb713d4a2d8fc281a42a4926cc": {
      "model_module": "@jupyter-widgets/controls",
      "model_module_version": "1.2.0",
      "model_name": "DescriptionStyleModel",
      "state": {
       "description_width": "initial"
      }
     },
     "922dea4a46b8468ebd972ac8809b1d75": {
      "model_module": "@jupyter-widgets/controls",
      "model_module_version": "1.2.0",
      "model_name": "ButtonStyleModel",
      "state": {}
     },
     "92680a62a53844ba93f06753b9c0674f": {
      "model_module": "@jupyter-widgets/base",
      "model_module_version": "1.0.0",
      "model_name": "LayoutModel",
      "state": {}
     },
     "9289492f2f7f444280ba5297bda21c93": {
      "model_module": "@jupyter-widgets/controls",
      "model_module_version": "1.2.0",
      "model_name": "ButtonStyleModel",
      "state": {}
     },
     "92d82bdd5b7344c2812fbe76f30097eb": {
      "model_module": "@jupyter-widgets/controls",
      "model_module_version": "1.2.0",
      "model_name": "CheckboxModel",
      "state": {
       "description": "[GND=’masc’, NUM=’sg’, PER=3]",
       "disabled": false,
       "layout": "IPY_MODEL_742fde995569440b896b7e5ca8d48a07",
       "style": "IPY_MODEL_989e356dc1c844a8b4eb0da4f7f43159",
       "value": true
      }
     },
     "93247e32ea6c46a9bf81713097befaa5": {
      "model_module": "@jupyter-widgets/controls",
      "model_module_version": "1.2.0",
      "model_name": "DescriptionStyleModel",
      "state": {
       "description_width": ""
      }
     },
     "934c413444bd420483d12fbad5122f6d": {
      "model_module": "@jupyter-widgets/base",
      "model_module_version": "1.0.0",
      "model_name": "LayoutModel",
      "state": {
       "width": "600px"
      }
     },
     "934ff37af0174c1089fa5f1a14b93f41": {
      "model_module": "@jupyter-widgets/base",
      "model_module_version": "1.0.0",
      "model_name": "LayoutModel",
      "state": {
       "width": "600px"
      }
     },
     "955866cacce4479a9ffad4c0349fa0ff": {
      "model_module": "@jupyter-widgets/controls",
      "model_module_version": "1.2.0",
      "model_name": "ButtonStyleModel",
      "state": {}
     },
     "95b8807c7ede46d8b7f5ab3f81533b2b": {
      "model_module": "@jupyter-widgets/base",
      "model_module_version": "1.0.0",
      "model_name": "LayoutModel",
      "state": {}
     },
     "965e8c0f491a4d1287d736d10cd581d6": {
      "model_module": "@jupyter-widgets/controls",
      "model_module_version": "1.2.0",
      "model_name": "ButtonStyleModel",
      "state": {}
     },
     "966857eea1a24888b95986d0685f4579": {
      "model_module": "@jupyter-widgets/controls",
      "model_module_version": "1.2.0",
      "model_name": "CheckboxModel",
      "state": {
       "description": "[GND=’masc’, NUM=’sg’, PER=3]",
       "disabled": false,
       "layout": "IPY_MODEL_a24f143812334bfc9764535e6e1537cc",
       "style": "IPY_MODEL_34aaedc007564a14a52ea8ab071b5726",
       "value": false
      }
     },
     "96a4c48d154c48c8b2310f843e9ce921": {
      "model_module": "@jupyter-widgets/controls",
      "model_module_version": "1.2.0",
      "model_name": "ButtonStyleModel",
      "state": {
       "button_color": "lightgreen"
      }
     },
     "96f6f2dfbf8a4063ab4d0dcf0a199fd4": {
      "model_module": "@jupyter-widgets/controls",
      "model_module_version": "1.2.0",
      "model_name": "DescriptionStyleModel",
      "state": {
       "description_width": "initial"
      }
     },
     "971a5f98d2d345a6a8881b239376f557": {
      "model_module": "@jupyter-widgets/controls",
      "model_module_version": "1.2.0",
      "model_name": "ButtonModel",
      "state": {
       "description": "'Katze' ist kein gültiges Wort",
       "layout": "IPY_MODEL_1c2706f6c83d4e0dbcee8ad2c290094e",
       "style": "IPY_MODEL_c86efe7b41f0456ca4111886851b5177"
      }
     },
     "9793ab82d6304b9e9f173f2f91443e41": {
      "model_module": "@jupyter-widgets/controls",
      "model_module_version": "1.2.0",
      "model_name": "CheckboxModel",
      "state": {
       "description": "[GND=’masc’, NUM=’sg’, PER=3]",
       "disabled": false,
       "layout": "IPY_MODEL_db92092ca508411ea452e6368fac22c6",
       "style": "IPY_MODEL_764072d2de0a47c39dc2d749abc17e01",
       "value": true
      }
     },
     "97a62ef4c51148d1b6f61ccffc4e890a": {
      "model_module": "@jupyter-widgets/controls",
      "model_module_version": "1.2.0",
      "model_name": "DescriptionStyleModel",
      "state": {
       "description_width": "initial"
      }
     },
     "97fac1679ded423aacf94646a0e543f0": {
      "model_module": "@jupyter-widgets/controls",
      "model_module_version": "1.2.0",
      "model_name": "HBoxModel",
      "state": {
       "children": [
        "IPY_MODEL_63f110e7be2c4f95833092cc89c5e1bc",
        "IPY_MODEL_014a96c10a03400fae66b3484b839996"
       ],
       "layout": "IPY_MODEL_3832fc06703a480cbc6a4dd1bf987e72"
      }
     },
     "987c7c6465594e74921a2a26dbd29d29": {
      "model_module": "@jupyter-widgets/controls",
      "model_module_version": "1.2.0",
      "model_name": "VBoxModel",
      "state": {
       "children": [
        "IPY_MODEL_3af1afae6b8644b6ab0d59ae18e05a13",
        "IPY_MODEL_bc7b89c001024a7abb51abe5bfd96627",
        "IPY_MODEL_0edc5f1bd21247719b66fdb8f549276c",
        "IPY_MODEL_ea89afbb567a4d7085837a4d693506e2"
       ],
       "layout": "IPY_MODEL_75ecb616a4744cfc98dd1c2bfd5ebd1f"
      }
     },
     "989e356dc1c844a8b4eb0da4f7f43159": {
      "model_module": "@jupyter-widgets/controls",
      "model_module_version": "1.2.0",
      "model_name": "DescriptionStyleModel",
      "state": {
       "description_width": "initial"
      }
     },
     "98c52c8686ac4db1a371205b15304ef3": {
      "model_module": "@jupyter-widgets/controls",
      "model_module_version": "1.2.0",
      "model_name": "CheckboxModel",
      "state": {
       "description": "< N PER > ≠ < DET PER >",
       "disabled": false,
       "layout": "IPY_MODEL_ab5dad84161f40e4987787756cefea08",
       "style": "IPY_MODEL_c08b5bc96975437782733e0252d28317",
       "value": false
      }
     },
     "9960b5a5810444a788d72325484dfc94": {
      "model_module": "@jupyter-widgets/controls",
      "model_module_version": "1.2.0",
      "model_name": "VBoxModel",
      "state": {
       "children": [
        "IPY_MODEL_c7fe7bfb48ca48208ea92adb648c4fc3",
        "IPY_MODEL_58137298892645b9bb8f50e2268bac2c",
        "IPY_MODEL_2b14c3f6aae5424aa9f607679ec5caa9",
        "IPY_MODEL_166286ae9bc449d0b0be6634c6809fd2"
       ],
       "layout": "IPY_MODEL_ee4e2d0f92b94887a9f7fc8405ecb437"
      }
     },
     "99b0f52d9c0745918b331827d25ec908": {
      "model_module": "@jupyter-widgets/controls",
      "model_module_version": "1.2.0",
      "model_name": "VBoxModel",
      "state": {
       "children": [
        "IPY_MODEL_12ad8975ff1f44dabea605710f45af9b",
        "IPY_MODEL_aee9ae2224e14253b8b24bc0fd1bf7cd",
        "IPY_MODEL_364107c241794f5e9a3a5382d6906a32",
        "IPY_MODEL_d0ce81b61fe2474b8f6f890891c0ecaf"
       ],
       "layout": "IPY_MODEL_ca3d1f929a4e422bbbe42a566a508068"
      }
     },
     "99d256fa64ac463e9bf8e6354eda0224": {
      "model_module": "@jupyter-widgets/controls",
      "model_module_version": "1.2.0",
      "model_name": "CheckboxModel",
      "state": {
       "description": "< N NUM > ≠ < DET NUM >",
       "disabled": false,
       "layout": "IPY_MODEL_4271fdf8f5014ae5bd629fabb4b36309",
       "style": "IPY_MODEL_02565c380eb84b47bf452084fddfc30d",
       "value": true
      }
     },
     "9a97c6fdd6be4d9b822af5840b56accd": {
      "model_module": "@jupyter-widgets/base",
      "model_module_version": "1.0.0",
      "model_name": "LayoutModel",
      "state": {
       "justify_content": "center"
      }
     },
     "9a9d3a0d4d9b411ea6d3d1ca40d7e9e8": {
      "model_module": "@jupyter-widgets/controls",
      "model_module_version": "1.2.0",
      "model_name": "DescriptionStyleModel",
      "state": {
       "description_width": "initial"
      }
     },
     "9ac035513ee7404fadcabeb5cd821d0f": {
      "model_module": "@jupyter-widgets/controls",
      "model_module_version": "1.2.0",
      "model_name": "ButtonModel",
      "state": {
       "description": "Keine der anderen Möglichkeiten",
       "layout": "IPY_MODEL_9020d7fda85942b09db491c27e2cc2d9",
       "style": "IPY_MODEL_5c90d95392dd4646b8e5397fb736e46d"
      }
     },
     "9b033a764dff478083aab7f5a3ac030a": {
      "model_module": "@jupyter-widgets/controls",
      "model_module_version": "1.2.0",
      "model_name": "DescriptionStyleModel",
      "state": {
       "description_width": "initial"
      }
     },
     "9bb66eabe05d4bee8de53f14d602acdc": {
      "model_module": "@jupyter-widgets/controls",
      "model_module_version": "1.2.0",
      "model_name": "ButtonStyleModel",
      "state": {
       "button_color": "lightgreen"
      }
     },
     "9bc2304c5a734d528def6c7cbc93b570": {
      "model_module": "@jupyter-widgets/base",
      "model_module_version": "1.0.0",
      "model_name": "LayoutModel",
      "state": {
       "width": "600px"
      }
     },
     "9c996f51c56d47b68831a53e1625a810": {
      "model_module": "@jupyter-widgets/controls",
      "model_module_version": "1.2.0",
      "model_name": "HTMLModel",
      "state": {
       "layout": "IPY_MODEL_d5f2cb3c7ed84390910a2b118ee655c0",
       "style": "IPY_MODEL_83e2b241ac9047e285d82858d66b1491",
       "value": "<i>Markieren Sie <ins>alle</ins> passenden Antworten: </i>"
      }
     },
     "9d54d8549b1b4a4996e9a44714bdc9ca": {
      "model_module": "@jupyter-widgets/base",
      "model_module_version": "1.0.0",
      "model_name": "LayoutModel",
      "state": {
       "width": "250px"
      }
     },
     "9da34bcdf6d34999a1723d082cd3d762": {
      "model_module": "@jupyter-widgets/base",
      "model_module_version": "1.0.0",
      "model_name": "LayoutModel",
      "state": {}
     },
     "9e249a076eda4b6e91459a5d2419c6b9": {
      "model_module": "@jupyter-widgets/controls",
      "model_module_version": "1.2.0",
      "model_name": "DescriptionStyleModel",
      "state": {
       "description_width": "initial"
      }
     },
     "9e26f837e8014efa8a07c2b1a757f14c": {
      "model_module": "@jupyter-widgets/base",
      "model_module_version": "1.0.0",
      "model_name": "LayoutModel",
      "state": {}
     },
     "9e7e62cb2034447abf98d059f4138967": {
      "model_module": "@jupyter-widgets/controls",
      "model_module_version": "1.2.0",
      "model_name": "DescriptionStyleModel",
      "state": {
       "description_width": "initial"
      }
     },
     "9ed8b432b91c42ddabd6c9256f99b1d8": {
      "model_module": "@jupyter-widgets/controls",
      "model_module_version": "1.2.0",
      "model_name": "CheckboxModel",
      "state": {
       "description": "[GND=’fem’, NUM=’sg’, PER=3]",
       "disabled": false,
       "layout": "IPY_MODEL_a843b15752e9412c8f6a542bedb6dd54",
       "style": "IPY_MODEL_bf99333cf7314f448a14561b3e4623c0",
       "value": false
      }
     },
     "9f0c4b0ae4be4a289b526f13449de7b0": {
      "model_module": "@jupyter-widgets/controls",
      "model_module_version": "1.2.0",
      "model_name": "DescriptionStyleModel",
      "state": {
       "description_width": "initial"
      }
     },
     "9f20b253f0734c5cb99c49c2c6f26dfa": {
      "model_module": "@jupyter-widgets/base",
      "model_module_version": "1.0.0",
      "model_name": "LayoutModel",
      "state": {}
     },
     "9fc24490f1ff4d5a9d67f7e3a84f27d5": {
      "model_module": "@jupyter-widgets/controls",
      "model_module_version": "1.2.0",
      "model_name": "ButtonStyleModel",
      "state": {}
     },
     "9fe6e3d2a69c4d5a8d73f45a29e9a7e2": {
      "model_module": "@jupyter-widgets/base",
      "model_module_version": "1.0.0",
      "model_name": "LayoutModel",
      "state": {}
     },
     "9ffba27bf5944f268958e6f39f848a49": {
      "model_module": "@jupyter-widgets/base",
      "model_module_version": "1.0.0",
      "model_name": "LayoutModel",
      "state": {
       "width": "250px"
      }
     },
     "a094ac09f71a4502bfdb260f9b00c1dd": {
      "model_module": "@jupyter-widgets/controls",
      "model_module_version": "1.2.0",
      "model_name": "HTMLModel",
      "state": {
       "layout": "IPY_MODEL_6697fecd190a4cec8e7c7c7a883eedd1",
       "style": "IPY_MODEL_514add9a3ec64d3eb8e303e9bff86768",
       "value": "<i>Markieren Sie <ins>alle</ins> passenden Antworten: </i>"
      }
     },
     "a0c138cc77634f07acaf75b70eeaa185": {
      "model_module": "@jupyter-widgets/base",
      "model_module_version": "1.0.0",
      "model_name": "LayoutModel",
      "state": {}
     },
     "a0e4e0e3a2a24e258fbc61aa2b04f160": {
      "model_module": "@jupyter-widgets/base",
      "model_module_version": "1.0.0",
      "model_name": "LayoutModel",
      "state": {
       "justify_content": "center"
      }
     },
     "a1501b62736743d0be9ebaa52735c926": {
      "model_module": "@jupyter-widgets/base",
      "model_module_version": "1.0.0",
      "model_name": "LayoutModel",
      "state": {
       "width": "600px"
      }
     },
     "a183971c2e5a40679e9e3858e1c9e25f": {
      "model_module": "@jupyter-widgets/controls",
      "model_module_version": "1.2.0",
      "model_name": "CheckboxModel",
      "state": {
       "description": "< N PER > ≠ < DET PER >",
       "disabled": false,
       "layout": "IPY_MODEL_934c413444bd420483d12fbad5122f6d",
       "style": "IPY_MODEL_bf900c6320cc4ef0a25b1f09d1afefdf",
       "value": false
      }
     },
     "a1e0c196d3c54436b426da2166d346a5": {
      "model_module": "@jupyter-widgets/controls",
      "model_module_version": "1.2.0",
      "model_name": "ButtonStyleModel",
      "state": {}
     },
     "a1fcb11a21ca4a6b93b6f7c05ee3cb6a": {
      "model_module": "@jupyter-widgets/controls",
      "model_module_version": "1.2.0",
      "model_name": "VBoxModel",
      "state": {
       "children": [
        "IPY_MODEL_6d02b820d4d44dbc9aa5e14672bf326f",
        "IPY_MODEL_92d82bdd5b7344c2812fbe76f30097eb",
        "IPY_MODEL_df8335b81ad242e08ea50f1dde8f87dc",
        "IPY_MODEL_1644773e75fa4d51a1c85f465a42ceb8"
       ],
       "layout": "IPY_MODEL_95b8807c7ede46d8b7f5ab3f81533b2b"
      }
     },
     "a218b7b9008b4ea9b02aa32063bf9f5f": {
      "model_module": "@jupyter-widgets/controls",
      "model_module_version": "1.2.0",
      "model_name": "ButtonStyleModel",
      "state": {
       "button_color": "lightgreen"
      }
     },
     "a24f143812334bfc9764535e6e1537cc": {
      "model_module": "@jupyter-widgets/base",
      "model_module_version": "1.0.0",
      "model_name": "LayoutModel",
      "state": {
       "width": "600px"
      }
     },
     "a29e1ffb6b344b94b79a0813577bd2f9": {
      "model_module": "@jupyter-widgets/controls",
      "model_module_version": "1.2.0",
      "model_name": "DescriptionStyleModel",
      "state": {
       "description_width": "initial"
      }
     },
     "a3a215af77484e3591e7632117d84402": {
      "model_module": "@jupyter-widgets/base",
      "model_module_version": "1.0.0",
      "model_name": "LayoutModel",
      "state": {
       "width": "250px"
      }
     },
     "a3d78218643f471490995b0279359c12": {
      "model_module": "@jupyter-widgets/base",
      "model_module_version": "1.0.0",
      "model_name": "LayoutModel",
      "state": {
       "justify_content": "center"
      }
     },
     "a40b663959644752b47378f4a69bd172": {
      "model_module": "@jupyter-widgets/controls",
      "model_module_version": "1.2.0",
      "model_name": "DescriptionStyleModel",
      "state": {
       "description_width": ""
      }
     },
     "a48c1098809f42d1844ab24b152d74da": {
      "model_module": "@jupyter-widgets/controls",
      "model_module_version": "1.2.0",
      "model_name": "DescriptionStyleModel",
      "state": {
       "description_width": ""
      }
     },
     "a5e1889240a04e8caece26ef28ee6cee": {
      "model_module": "@jupyter-widgets/controls",
      "model_module_version": "1.2.0",
      "model_name": "VBoxModel",
      "state": {
       "children": [
        "IPY_MODEL_b122b05174d24ddb818c42f4064a75f4",
        "IPY_MODEL_e6d9b5138e8648c9ab9cf47e679ea321",
        "IPY_MODEL_fd111f6ee957412e88b7470e7e8626c3",
        "IPY_MODEL_b49f7b97499b483da315ba6137894c97"
       ],
       "layout": "IPY_MODEL_f60f05218cfc482c95b0c902243f7af9"
      }
     },
     "a650748306c945d89daa683474b4f762": {
      "model_module": "@jupyter-widgets/base",
      "model_module_version": "1.0.0",
      "model_name": "LayoutModel",
      "state": {
       "width": "600px"
      }
     },
     "a6da69e345054c07bf93938063c605bf": {
      "model_module": "@jupyter-widgets/controls",
      "model_module_version": "1.2.0",
      "model_name": "ButtonModel",
      "state": {
       "description": "Korrekt?",
       "layout": "IPY_MODEL_e91dd51482d148d78b04edcb2ffba846",
       "style": "IPY_MODEL_e187538fc6a64e168a8503546c2b2464"
      }
     },
     "a731de2e5a8f406686b7f6990adf8aae": {
      "model_module": "@jupyter-widgets/base",
      "model_module_version": "1.0.0",
      "model_name": "LayoutModel",
      "state": {
       "width": "600px"
      }
     },
     "a7e93cc3d886438fb37aee78c9de6b14": {
      "model_module": "@jupyter-widgets/base",
      "model_module_version": "1.0.0",
      "model_name": "LayoutModel",
      "state": {
       "justify_content": "center"
      }
     },
     "a843b15752e9412c8f6a542bedb6dd54": {
      "model_module": "@jupyter-widgets/base",
      "model_module_version": "1.0.0",
      "model_name": "LayoutModel",
      "state": {
       "width": "600px"
      }
     },
     "a87e9bb04d834f268b4c44d2c2b9a316": {
      "model_module": "@jupyter-widgets/base",
      "model_module_version": "1.0.0",
      "model_name": "LayoutModel",
      "state": {}
     },
     "a8a144fd23174bf2b46436ca8625cc55": {
      "model_module": "@jupyter-widgets/controls",
      "model_module_version": "1.2.0",
      "model_name": "CheckboxModel",
      "state": {
       "description": "[GND=’fem’, NUM=’sg’, PER=3]",
       "disabled": false,
       "layout": "IPY_MODEL_a731de2e5a8f406686b7f6990adf8aae",
       "style": "IPY_MODEL_9f0c4b0ae4be4a289b526f13449de7b0",
       "value": false
      }
     },
     "a955a5c606f445fca13d1bd6c709bda3": {
      "model_module": "@jupyter-widgets/base",
      "model_module_version": "1.0.0",
      "model_name": "LayoutModel",
      "state": {}
     },
     "a9fb989e331146a78b7b1eccda5c1740": {
      "model_module": "@jupyter-widgets/base",
      "model_module_version": "1.0.0",
      "model_name": "LayoutModel",
      "state": {
       "width": "600px"
      }
     },
     "aa5b0de5ca2849fabc3210bbaac0e154": {
      "model_module": "@jupyter-widgets/controls",
      "model_module_version": "1.2.0",
      "model_name": "DescriptionStyleModel",
      "state": {
       "description_width": ""
      }
     },
     "aac48d05771743a8985b24556bd829bb": {
      "model_module": "@jupyter-widgets/controls",
      "model_module_version": "1.2.0",
      "model_name": "DescriptionStyleModel",
      "state": {
       "description_width": "initial"
      }
     },
     "ab1022b2fd7e489b86d46ed42278c996": {
      "model_module": "@jupyter-widgets/controls",
      "model_module_version": "1.2.0",
      "model_name": "DescriptionStyleModel",
      "state": {
       "description_width": ""
      }
     },
     "ab1a06696a604939b97a435ae6c9f058": {
      "model_module": "@jupyter-widgets/controls",
      "model_module_version": "1.2.0",
      "model_name": "HBoxModel",
      "state": {
       "children": [
        "IPY_MODEL_2e5ff541c45f48d088e85a16717cd7a9"
       ],
       "layout": "IPY_MODEL_745d9acba7f54b02a962b406f48027e3"
      }
     },
     "ab5dad84161f40e4987787756cefea08": {
      "model_module": "@jupyter-widgets/base",
      "model_module_version": "1.0.0",
      "model_name": "LayoutModel",
      "state": {
       "width": "600px"
      }
     },
     "abb3465c043346b18a17671049056460": {
      "model_module": "@jupyter-widgets/base",
      "model_module_version": "1.0.0",
      "model_name": "LayoutModel",
      "state": {}
     },
     "ac69fde5ee3a44c882f692384e6888de": {
      "model_module": "@jupyter-widgets/base",
      "model_module_version": "1.0.0",
      "model_name": "LayoutModel",
      "state": {
       "width": "250px"
      }
     },
     "aca612f338514108ba2a4bb39225a7f1": {
      "model_module": "@jupyter-widgets/controls",
      "model_module_version": "1.2.0",
      "model_name": "ButtonStyleModel",
      "state": {}
     },
     "aee9ae2224e14253b8b24bc0fd1bf7cd": {
      "model_module": "@jupyter-widgets/controls",
      "model_module_version": "1.2.0",
      "model_name": "HTMLModel",
      "state": {
       "layout": "IPY_MODEL_0a5198693bbd43d489ec1c19a78379df",
       "style": "IPY_MODEL_b1b317eff63a474783e8973c945a5e2b",
       "value": "<i>Wählen Sie die <ins>eine</ins> korrekte Antwort aus: </i>"
      }
     },
     "af2f15c2d81b45f9806970680b7e9169": {
      "model_module": "@jupyter-widgets/base",
      "model_module_version": "1.0.0",
      "model_name": "LayoutModel",
      "state": {
       "width": "600px"
      }
     },
     "af315b1013854a54b6cb4e559abaafc6": {
      "model_module": "@jupyter-widgets/controls",
      "model_module_version": "1.2.0",
      "model_name": "HBoxModel",
      "state": {
       "children": [
        "IPY_MODEL_d2667c266d0c4385bf1f028f8fcde31f"
       ],
       "layout": "IPY_MODEL_8e39ab36cb8041d78fb81cd30d37694a"
      }
     },
     "af472a3ab86044f2861346bc0d955f97": {
      "model_module": "@jupyter-widgets/controls",
      "model_module_version": "1.2.0",
      "model_name": "DescriptionStyleModel",
      "state": {
       "description_width": ""
      }
     },
     "b0384004b31e4671a77c371056be6b3d": {
      "model_module": "@jupyter-widgets/controls",
      "model_module_version": "1.2.0",
      "model_name": "DescriptionStyleModel",
      "state": {
       "description_width": "initial"
      }
     },
     "b076d4df8e494ee098b3f7d910d011a4": {
      "model_module": "@jupyter-widgets/controls",
      "model_module_version": "1.2.0",
      "model_name": "VBoxModel",
      "state": {
       "children": [
        "IPY_MODEL_cdcdfd8209734fe29ce5e958da4da095",
        "IPY_MODEL_dd045f231c124a4590d16077574e07f3",
        "IPY_MODEL_c771e758cfa64181b0f1168d4138365f"
       ],
       "layout": "IPY_MODEL_e552177b2f2947abb745559b2d263464"
      }
     },
     "b07c5776714c462f9624360faf634bbb": {
      "model_module": "@jupyter-widgets/controls",
      "model_module_version": "1.2.0",
      "model_name": "HTMLModel",
      "state": {
       "layout": "IPY_MODEL_1601bd19262d40a4aad42bf7ceeab712",
       "style": "IPY_MODEL_48f53d5f2ce049f2993a9a43464fad9a",
       "value": "<h4 style=\"font-size:14px;\">Wieso wird der Satz von der Grammatik abgelehnt?</h4>"
      }
     },
     "b08d426a59f747d3a28e6e56c3df0852": {
      "model_module": "@jupyter-widgets/base",
      "model_module_version": "1.0.0",
      "model_name": "LayoutModel",
      "state": {}
     },
     "b122b05174d24ddb818c42f4064a75f4": {
      "model_module": "@jupyter-widgets/controls",
      "model_module_version": "1.2.0",
      "model_name": "CheckboxModel",
      "state": {
       "description": "[GND=’fem’, NUM=’sg’, PER=3]",
       "disabled": false,
       "layout": "IPY_MODEL_5f1d56ff626e4d71aa2e876ad52b7e21",
       "style": "IPY_MODEL_6d127f81d2694a4fae2646e1ecd8611c",
       "value": false
      }
     },
     "b1b317eff63a474783e8973c945a5e2b": {
      "model_module": "@jupyter-widgets/controls",
      "model_module_version": "1.2.0",
      "model_name": "DescriptionStyleModel",
      "state": {
       "description_width": ""
      }
     },
     "b23cb0efd622429facf0268c54f90265": {
      "model_module": "@jupyter-widgets/controls",
      "model_module_version": "1.2.0",
      "model_name": "HTMLModel",
      "state": {
       "layout": "IPY_MODEL_2149a8bd8b0c4f459477bafd855787a6",
       "style": "IPY_MODEL_ed86487025444327a74a6448745a47c6",
       "value": "<i>Markieren Sie <ins>alle</ins> passenden Antworten: </i>"
      }
     },
     "b24f7ecb7ec649e0b7f18987d3971609": {
      "model_module": "@jupyter-widgets/base",
      "model_module_version": "1.0.0",
      "model_name": "LayoutModel",
      "state": {
       "width": "600px"
      }
     },
     "b28b3132c6ae43fb9fc7166e0f3f962a": {
      "model_module": "@jupyter-widgets/base",
      "model_module_version": "1.0.0",
      "model_name": "LayoutModel",
      "state": {
       "width": "250px"
      }
     },
     "b2ce657a425a4326b1414ad3e438df6c": {
      "model_module": "@jupyter-widgets/controls",
      "model_module_version": "1.2.0",
      "model_name": "HBoxModel",
      "state": {
       "children": [
        "IPY_MODEL_d42ffda32ba541869f9d478bf0999269",
        "IPY_MODEL_1286d5ebde8a4dbcbd3f3f36019d0af0"
       ],
       "layout": "IPY_MODEL_6863e547eced4679a85958affca804da"
      }
     },
     "b3a51e5c3082494c96f21b206db049d0": {
      "model_module": "@jupyter-widgets/controls",
      "model_module_version": "1.2.0",
      "model_name": "HTMLModel",
      "state": {
       "layout": "IPY_MODEL_07d92e3ebb684c218fc573ae448142b4",
       "style": "IPY_MODEL_6f48faafb94b477bac3ab2cd23f1587c",
       "value": "<i>Wählen Sie die <ins>eine</ins> korrekte Antwort aus: </i>"
      }
     },
     "b3d376c3329649e59c2cb565167973e4": {
      "model_module": "@jupyter-widgets/controls",
      "model_module_version": "1.2.0",
      "model_name": "DescriptionStyleModel",
      "state": {
       "description_width": "initial"
      }
     },
     "b42e81460a2e4039bd2bbe266a864cc5": {
      "model_module": "@jupyter-widgets/base",
      "model_module_version": "1.0.0",
      "model_name": "LayoutModel",
      "state": {}
     },
     "b49f7b97499b483da315ba6137894c97": {
      "model_module": "@jupyter-widgets/controls",
      "model_module_version": "1.2.0",
      "model_name": "CheckboxModel",
      "state": {
       "description": "[NUM=’sg’, PER=3]",
       "disabled": false,
       "layout": "IPY_MODEL_d95147f099fe4b10884110091cf6a155",
       "style": "IPY_MODEL_03b0f30885a54fef9ec8135d85298c1f",
       "value": false
      }
     },
     "b4b4e462c8a24ca5a69ae6574047c0a3": {
      "model_module": "@jupyter-widgets/controls",
      "model_module_version": "1.2.0",
      "model_name": "DescriptionStyleModel",
      "state": {
       "description_width": ""
      }
     },
     "b4e6fac4b52843558af13a555cb251f3": {
      "model_module": "@jupyter-widgets/controls",
      "model_module_version": "1.2.0",
      "model_name": "ButtonStyleModel",
      "state": {
       "button_color": "lightgreen"
      }
     },
     "b4edca10a49e4221ae8791c6a5ee7a6a": {
      "model_module": "@jupyter-widgets/controls",
      "model_module_version": "1.2.0",
      "model_name": "DescriptionStyleModel",
      "state": {
       "description_width": "initial"
      }
     },
     "b522a83310ed4ca58f1d716f2ca4ec97": {
      "model_module": "@jupyter-widgets/controls",
      "model_module_version": "1.2.0",
      "model_name": "HTMLModel",
      "state": {
       "layout": "IPY_MODEL_5cc0851bc5784bafadb6dd5a21db49b7",
       "style": "IPY_MODEL_7cff7d058f19496d8948d486ea40fc4a",
       "value": "<h4 style=\"font-size:14px;\">Welche DET-Kategorien gibt es für den Satz?</h4>"
      }
     },
     "b5d87ce52c1a4182b55672932513f614": {
      "model_module": "@jupyter-widgets/base",
      "model_module_version": "1.0.0",
      "model_name": "LayoutModel",
      "state": {
       "width": "600px"
      }
     },
     "b65dea313ab44cbb98463c2ef12d0e94": {
      "model_module": "@jupyter-widgets/base",
      "model_module_version": "1.0.0",
      "model_name": "LayoutModel",
      "state": {
       "width": "250px"
      }
     },
     "b70806edf3a14f14a242ce8509d9ad21": {
      "model_module": "@jupyter-widgets/controls",
      "model_module_version": "1.2.0",
      "model_name": "ButtonStyleModel",
      "state": {}
     },
     "b72a13bdf2954d40929167b12a885cf2": {
      "model_module": "@jupyter-widgets/controls",
      "model_module_version": "1.2.0",
      "model_name": "CheckboxModel",
      "state": {
       "description": "[NUM=’pl’, PER=3]",
       "disabled": false,
       "layout": "IPY_MODEL_276c90a7d6744e3d8243aa8907d2ddd4",
       "style": "IPY_MODEL_c6a144b78f4240ebbc1027dd6480aaff",
       "value": true
      }
     },
     "b762a6caaea24eb2b6230cc950f4136f": {
      "model_module": "@jupyter-widgets/controls",
      "model_module_version": "1.2.0",
      "model_name": "VBoxModel",
      "state": {
       "children": [
        "IPY_MODEL_52bed7b10bc64af7a162ba0acb42d03d",
        "IPY_MODEL_258bc2b2a6af44d0b9e15607f5609dfa",
        "IPY_MODEL_3737fc629f6b4e1c9ab411ce51d21a7f"
       ],
       "layout": "IPY_MODEL_0e1e55d1302e4b7a958c9afedc7acb59"
      }
     },
     "b95a74dc1cf2463091850a31d09ab111": {
      "model_module": "@jupyter-widgets/controls",
      "model_module_version": "1.2.0",
      "model_name": "DescriptionStyleModel",
      "state": {
       "description_width": "initial"
      }
     },
     "b96e92d0c5e5403b8887c318ded0029c": {
      "model_module": "@jupyter-widgets/controls",
      "model_module_version": "1.2.0",
      "model_name": "ButtonModel",
      "state": {
       "description": "'Katze' ist kein gültiges Wort",
       "layout": "IPY_MODEL_5aa952e650b84f709920d5e49e283965",
       "style": "IPY_MODEL_0993a811abdf4019992be0f1b04c586e"
      }
     },
     "ba21fb466b334eca940d943da897e283": {
      "model_module": "@jupyter-widgets/base",
      "model_module_version": "1.0.0",
      "model_name": "LayoutModel",
      "state": {
       "width": "250px"
      }
     },
     "ba5ef9724bd044b699ba13b9603709cd": {
      "model_module": "@jupyter-widgets/controls",
      "model_module_version": "1.2.0",
      "model_name": "DescriptionStyleModel",
      "state": {
       "description_width": ""
      }
     },
     "bb6dcc08ae4c490a8449247dff6ff83a": {
      "model_module": "@jupyter-widgets/controls",
      "model_module_version": "1.2.0",
      "model_name": "HTMLModel",
      "state": {
       "layout": "IPY_MODEL_6c347953256c4e62ba77bcf093098b02",
       "style": "IPY_MODEL_87a0f708aecb44dea0ad61b67a1973f7",
       "value": "<i>Wählen Sie die <ins>eine</ins> korrekte Antwort aus: </i>"
      }
     },
     "bc7b89c001024a7abb51abe5bfd96627": {
      "model_module": "@jupyter-widgets/controls",
      "model_module_version": "1.2.0",
      "model_name": "HTMLModel",
      "state": {
       "layout": "IPY_MODEL_a7e93cc3d886438fb37aee78c9de6b14",
       "style": "IPY_MODEL_6d94e45c8e45407f9552ade03b85964c",
       "value": "<i>Markieren Sie <ins>alle</ins> passenden Antworten: </i>"
      }
     },
     "bee16fd9897c4759a8176bc95f9b0518": {
      "model_module": "@jupyter-widgets/controls",
      "model_module_version": "1.2.0",
      "model_name": "ButtonStyleModel",
      "state": {
       "button_color": "lightgreen"
      }
     },
     "bf0354af863649738f606993485e50c1": {
      "model_module": "@jupyter-widgets/controls",
      "model_module_version": "1.2.0",
      "model_name": "HTMLModel",
      "state": {
       "layout": "IPY_MODEL_8cdd830ea74e45daa1127b9387f0b7e3",
       "style": "IPY_MODEL_22f0b364ad4749ba9caa6c7138c4d7a1",
       "value": "<h4 style=\"font-size:14px;\">Welche DET-Kategorien gibt es für den Satz?</h4>"
      }
     },
     "bf1ecf8386b24d7db212b7135dd1c5b6": {
      "model_module": "@jupyter-widgets/controls",
      "model_module_version": "1.2.0",
      "model_name": "CheckboxModel",
      "state": {
       "description": "< N GEN > ≠ < DET GEN >",
       "disabled": false,
       "layout": "IPY_MODEL_1883320776624ffa9e5a3b2b4d8645e6",
       "style": "IPY_MODEL_5e5499c38a0b4ab9ba7e7f3b936970d1",
       "value": true
      }
     },
     "bf48a8dbccbd4160b99c99ecb7291bbb": {
      "model_module": "@jupyter-widgets/controls",
      "model_module_version": "1.2.0",
      "model_name": "CheckboxModel",
      "state": {
       "description": "< N NUM > ≠ < DET NUM >",
       "disabled": false,
       "layout": "IPY_MODEL_c9745d0dce2b47948b4510e345ea7cf7",
       "style": "IPY_MODEL_311d6472bd384b2a9b611fc422f191b1",
       "value": true
      }
     },
     "bf900c6320cc4ef0a25b1f09d1afefdf": {
      "model_module": "@jupyter-widgets/controls",
      "model_module_version": "1.2.0",
      "model_name": "DescriptionStyleModel",
      "state": {
       "description_width": "initial"
      }
     },
     "bf99333cf7314f448a14561b3e4623c0": {
      "model_module": "@jupyter-widgets/controls",
      "model_module_version": "1.2.0",
      "model_name": "DescriptionStyleModel",
      "state": {
       "description_width": "initial"
      }
     },
     "c07ccd164ff84a54bc708e594850ff0f": {
      "model_module": "@jupyter-widgets/controls",
      "model_module_version": "1.2.0",
      "model_name": "ButtonStyleModel",
      "state": {}
     },
     "c08b5bc96975437782733e0252d28317": {
      "model_module": "@jupyter-widgets/controls",
      "model_module_version": "1.2.0",
      "model_name": "DescriptionStyleModel",
      "state": {
       "description_width": "initial"
      }
     },
     "c0ea83571d1c4932b4d9c3de92406ed4": {
      "model_module": "@jupyter-widgets/base",
      "model_module_version": "1.0.0",
      "model_name": "LayoutModel",
      "state": {
       "width": "250px"
      }
     },
     "c128493720794655866e6896100910c7": {
      "model_module": "@jupyter-widgets/base",
      "model_module_version": "1.0.0",
      "model_name": "LayoutModel",
      "state": {
       "width": "600px"
      }
     },
     "c2e0c1f660d6452ab8d71d0d4cfe424d": {
      "model_module": "@jupyter-widgets/controls",
      "model_module_version": "1.2.0",
      "model_name": "ButtonModel",
      "state": {
       "description": "nicht unifizierbar",
       "layout": "IPY_MODEL_0b76c1a5b50940e4a6932e700251961d",
       "style": "IPY_MODEL_aca612f338514108ba2a4bb39225a7f1"
      }
     },
     "c3d271787f854904b6019772768f3387": {
      "model_module": "@jupyter-widgets/controls",
      "model_module_version": "1.2.0",
      "model_name": "CheckboxModel",
      "state": {
       "description": "< N NUM > ≠ < DET NUM >",
       "disabled": false,
       "layout": "IPY_MODEL_40e88b5e21fa42a8b1ce375eeb67f8b5",
       "style": "IPY_MODEL_391edd0b8f504a76b1c5b8db7b66cff1",
       "value": false
      }
     },
     "c40c5dcd8e144a7eb556110e9d7b0e05": {
      "model_module": "@jupyter-widgets/controls",
      "model_module_version": "1.2.0",
      "model_name": "ButtonModel",
      "state": {
       "description": "Korrekt?",
       "layout": "IPY_MODEL_a3a215af77484e3591e7632117d84402",
       "style": "IPY_MODEL_166bdbcbd5e54bddadf9be29a551ec8a"
      }
     },
     "c43f443727d242e0addc36b12b328c7d": {
      "model_module": "@jupyter-widgets/base",
      "model_module_version": "1.0.0",
      "model_name": "LayoutModel",
      "state": {}
     },
     "c4acb19facd34929929020b9e556dc4b": {
      "model_module": "@jupyter-widgets/base",
      "model_module_version": "1.0.0",
      "model_name": "LayoutModel",
      "state": {
       "width": "600px"
      }
     },
     "c5573b1bbcb744859c31156dc96e31e2": {
      "model_module": "@jupyter-widgets/controls",
      "model_module_version": "1.2.0",
      "model_name": "CheckboxModel",
      "state": {
       "description": "< N PER > ≠ < DET PER >",
       "disabled": false,
       "layout": "IPY_MODEL_1bac5c176a8e4bacb5a621287febeb4b",
       "style": "IPY_MODEL_ed4402f823d7468e80ecad73ce65c632",
       "value": false
      }
     },
     "c5d1099a613b48fbbc4b3ec2fa0470b3": {
      "model_module": "@jupyter-widgets/controls",
      "model_module_version": "1.2.0",
      "model_name": "CheckboxModel",
      "state": {
       "description": "[NUM=’sg’, PER=3]",
       "disabled": false,
       "layout": "IPY_MODEL_af2f15c2d81b45f9806970680b7e9169",
       "style": "IPY_MODEL_9b033a764dff478083aab7f5a3ac030a",
       "value": false
      }
     },
     "c5f37f122243486280137dcc5bece3b6": {
      "model_module": "@jupyter-widgets/base",
      "model_module_version": "1.0.0",
      "model_name": "LayoutModel",
      "state": {}
     },
     "c62782e9cc7849f8b6d8eb02e1bc9293": {
      "model_module": "@jupyter-widgets/controls",
      "model_module_version": "1.2.0",
      "model_name": "VBoxModel",
      "state": {
       "children": [
        "IPY_MODEL_f10e5712d5b0474ba4d88eb2cb716adf",
        "IPY_MODEL_bb6dcc08ae4c490a8449247dff6ff83a",
        "IPY_MODEL_5cebc2f0e42d41daae7e581d9762f7ba",
        "IPY_MODEL_2c25d5712b8a4907bc504df987696c60"
       ],
       "layout": "IPY_MODEL_21db1c0e55ea453badec738911380cdb"
      }
     },
     "c635575ee1514a51b1e36db6a7a19797": {
      "model_module": "@jupyter-widgets/controls",
      "model_module_version": "1.2.0",
      "model_name": "HTMLModel",
      "state": {
       "layout": "IPY_MODEL_d67bff4044604526bef86b5f9f7e3181",
       "style": "IPY_MODEL_93247e32ea6c46a9bf81713097befaa5",
       "value": "<h4 style=\"font-size:14px;\">Welche DET-Kategorien gibt es für den Satz?</h4>"
      }
     },
     "c670a770f6874c37899dd0cf725fa8bc": {
      "model_module": "@jupyter-widgets/base",
      "model_module_version": "1.0.0",
      "model_name": "LayoutModel",
      "state": {}
     },
     "c6a144b78f4240ebbc1027dd6480aaff": {
      "model_module": "@jupyter-widgets/controls",
      "model_module_version": "1.2.0",
      "model_name": "DescriptionStyleModel",
      "state": {
       "description_width": "initial"
      }
     },
     "c701314799b440f88534734c45abd4ef": {
      "model_module": "@jupyter-widgets/controls",
      "model_module_version": "1.2.0",
      "model_name": "ButtonModel",
      "state": {
       "description": "Keine der anderen Möglichkeiten",
       "layout": "IPY_MODEL_35bbab0d736c47f58881355c1efeace5",
       "style": "IPY_MODEL_18ea69912fc84145a51d51974fd94298"
      }
     },
     "c771e758cfa64181b0f1168d4138365f": {
      "model_module": "@jupyter-widgets/controls",
      "model_module_version": "1.2.0",
      "model_name": "CheckboxModel",
      "state": {
       "description": "< N PER > ≠ < DET PER >",
       "disabled": false,
       "layout": "IPY_MODEL_db0c599d6d81472dbf25a3dcb6684335",
       "style": "IPY_MODEL_f9d56957152b411c87f38a8484121fc6",
       "value": false
      }
     },
     "c780574dd8c04cda8cf52f49f4107700": {
      "model_module": "@jupyter-widgets/controls",
      "model_module_version": "1.2.0",
      "model_name": "ButtonStyleModel",
      "state": {
       "button_color": "lightgreen"
      }
     },
     "c7fe7bfb48ca48208ea92adb648c4fc3": {
      "model_module": "@jupyter-widgets/controls",
      "model_module_version": "1.2.0",
      "model_name": "HTMLModel",
      "state": {
       "layout": "IPY_MODEL_efbb3e602c7e49a2aa06572c5f196433",
       "style": "IPY_MODEL_e955464ddb2c49969bb1382d135b02e9",
       "value": "<h4 style=\"font-size:14px;\">Welche DET-Kategorien gibt es für den Satz?</h4>"
      }
     },
     "c86efe7b41f0456ca4111886851b5177": {
      "model_module": "@jupyter-widgets/controls",
      "model_module_version": "1.2.0",
      "model_name": "ButtonStyleModel",
      "state": {}
     },
     "c8a0d744e1a24dd7917231242c14bb9e": {
      "model_module": "@jupyter-widgets/base",
      "model_module_version": "1.0.0",
      "model_name": "LayoutModel",
      "state": {
       "justify_content": "center"
      }
     },
     "c944e738d5294117b68cd497da4aeb07": {
      "model_module": "@jupyter-widgets/controls",
      "model_module_version": "1.2.0",
      "model_name": "CheckboxModel",
      "state": {
       "description": "< N NUM > ≠ < DET NUM >",
       "disabled": false,
       "layout": "IPY_MODEL_9bc2304c5a734d528def6c7cbc93b570",
       "style": "IPY_MODEL_aac48d05771743a8985b24556bd829bb",
       "value": true
      }
     },
     "c9745d0dce2b47948b4510e345ea7cf7": {
      "model_module": "@jupyter-widgets/base",
      "model_module_version": "1.0.0",
      "model_name": "LayoutModel",
      "state": {
       "width": "600px"
      }
     },
     "ca3d1f929a4e422bbbe42a566a508068": {
      "model_module": "@jupyter-widgets/base",
      "model_module_version": "1.0.0",
      "model_name": "LayoutModel",
      "state": {}
     },
     "ca495d50b9bd44c593b0d98136da8091": {
      "model_module": "@jupyter-widgets/controls",
      "model_module_version": "1.2.0",
      "model_name": "ButtonModel",
      "state": {
       "description": "nicht unifizierbar",
       "layout": "IPY_MODEL_b28b3132c6ae43fb9fc7166e0f3f962a",
       "style": "IPY_MODEL_379d922564d64483b9f1fc1c130528c9"
      }
     },
     "ca94b498b6624442be7a83d905507c19": {
      "model_module": "@jupyter-widgets/base",
      "model_module_version": "1.0.0",
      "model_name": "LayoutModel",
      "state": {}
     },
     "cab5eda7d5294431b03d54ac630f504e": {
      "model_module": "@jupyter-widgets/base",
      "model_module_version": "1.0.0",
      "model_name": "LayoutModel",
      "state": {
       "width": "600px"
      }
     },
     "cb151a7a888d4c4cb980668814081464": {
      "model_module": "@jupyter-widgets/base",
      "model_module_version": "1.0.0",
      "model_name": "LayoutModel",
      "state": {
       "justify_content": "center"
      }
     },
     "cb3f031749044747a64293b3511083e5": {
      "model_module": "@jupyter-widgets/base",
      "model_module_version": "1.0.0",
      "model_name": "LayoutModel",
      "state": {
       "width": "250px"
      }
     },
     "cb5cce855428476ab2530606230aa8f1": {
      "model_module": "@jupyter-widgets/controls",
      "model_module_version": "1.2.0",
      "model_name": "DescriptionStyleModel",
      "state": {
       "description_width": "initial"
      }
     },
     "cc2262877f844f398c70d24c68bfba3f": {
      "model_module": "@jupyter-widgets/controls",
      "model_module_version": "1.2.0",
      "model_name": "VBoxModel",
      "state": {
       "children": [
        "IPY_MODEL_d2cbeb1cfd3a4060b3d22d78e970be28",
        "IPY_MODEL_b3a51e5c3082494c96f21b206db049d0",
        "IPY_MODEL_b2ce657a425a4326b1414ad3e438df6c",
        "IPY_MODEL_ab1a06696a604939b97a435ae6c9f058"
       ],
       "layout": "IPY_MODEL_7b715228022a40ceaa64319ee2d821a5"
      }
     },
     "cc504e677acf4e4b82a81cf21522c45e": {
      "model_module": "@jupyter-widgets/base",
      "model_module_version": "1.0.0",
      "model_name": "LayoutModel",
      "state": {
       "justify_content": "center"
      }
     },
     "cc68bd00de5d4b5cb4b705df74efa930": {
      "model_module": "@jupyter-widgets/base",
      "model_module_version": "1.0.0",
      "model_name": "LayoutModel",
      "state": {}
     },
     "ccbdbb7d8ee14190850dd02cb7442197": {
      "model_module": "@jupyter-widgets/base",
      "model_module_version": "1.0.0",
      "model_name": "LayoutModel",
      "state": {
       "width": "250px"
      }
     },
     "cdcdfd8209734fe29ce5e958da4da095": {
      "model_module": "@jupyter-widgets/controls",
      "model_module_version": "1.2.0",
      "model_name": "CheckboxModel",
      "state": {
       "description": "< N GEN > ≠ < DET GEN >",
       "disabled": false,
       "layout": "IPY_MODEL_7620293cf9aa4b668e0c85352653d489",
       "style": "IPY_MODEL_d917df10e451412b800b49ba19f55a0c",
       "value": true
      }
     },
     "cdeab181e9b941e4963716e3554aa939": {
      "model_module": "@jupyter-widgets/controls",
      "model_module_version": "1.2.0",
      "model_name": "HTMLModel",
      "state": {
       "layout": "IPY_MODEL_47b4ce388b3c497cab962d44eaa5fd29",
       "style": "IPY_MODEL_14300c8bf2e84be5a50395778bdf77fb",
       "value": "<i>Markieren Sie <ins>alle</ins> passenden Antworten: </i>"
      }
     },
     "ce192aed31b7497bb8d8a1465cbac4ce": {
      "model_module": "@jupyter-widgets/controls",
      "model_module_version": "1.2.0",
      "model_name": "DescriptionStyleModel",
      "state": {
       "description_width": "initial"
      }
     },
     "ce2bbe858d894c2e800d1bd64258b4d8": {
      "model_module": "@jupyter-widgets/controls",
      "model_module_version": "1.2.0",
      "model_name": "ButtonStyleModel",
      "state": {}
     },
     "cea3d65882ba418b8a55a4081042906d": {
      "model_module": "@jupyter-widgets/base",
      "model_module_version": "1.0.0",
      "model_name": "LayoutModel",
      "state": {
       "width": "600px"
      }
     },
     "cecd90d066254881b8dfa17fa0f734f2": {
      "model_module": "@jupyter-widgets/base",
      "model_module_version": "1.0.0",
      "model_name": "LayoutModel",
      "state": {
       "width": "600px"
      }
     },
     "cfcf7524fc02495aa8e49b9f5c3ab755": {
      "model_module": "@jupyter-widgets/controls",
      "model_module_version": "1.2.0",
      "model_name": "CheckboxModel",
      "state": {
       "description": "< N PER > ≠ < DET PER >",
       "disabled": false,
       "layout": "IPY_MODEL_934ff37af0174c1089fa5f1a14b93f41",
       "style": "IPY_MODEL_97a62ef4c51148d1b6f61ccffc4e890a",
       "value": false
      }
     },
     "d0755e2b9bed454598cae8efd6265471": {
      "model_module": "@jupyter-widgets/controls",
      "model_module_version": "1.2.0",
      "model_name": "DescriptionStyleModel",
      "state": {
       "description_width": ""
      }
     },
     "d0ce81b61fe2474b8f6f890891c0ecaf": {
      "model_module": "@jupyter-widgets/controls",
      "model_module_version": "1.2.0",
      "model_name": "HBoxModel",
      "state": {
       "children": [
        "IPY_MODEL_6ff31ac13a504bb9b6044a5ffc42a2ba"
       ],
       "layout": "IPY_MODEL_3536867b82b742e087bf953c9d610ec4"
      }
     },
     "d2274ebeb19c4e869a2ecae6deeba081": {
      "model_module": "@jupyter-widgets/base",
      "model_module_version": "1.0.0",
      "model_name": "LayoutModel",
      "state": {
       "width": "250px"
      }
     },
     "d24810398dae4a3592fb0e57a50e3f80": {
      "model_module": "@jupyter-widgets/controls",
      "model_module_version": "1.2.0",
      "model_name": "ButtonStyleModel",
      "state": {}
     },
     "d2667c266d0c4385bf1f028f8fcde31f": {
      "model_module": "@jupyter-widgets/controls",
      "model_module_version": "1.2.0",
      "model_name": "ButtonModel",
      "state": {
       "description": "Keine der anderen Möglichkeiten",
       "layout": "IPY_MODEL_095eb6845641477b9bc727d0d80110c9",
       "style": "IPY_MODEL_8fcecdbc8f1349799820ea1f33dc0a35"
      }
     },
     "d278fd4fccac40289e977c980c297cb8": {
      "model_module": "@jupyter-widgets/controls",
      "model_module_version": "1.2.0",
      "model_name": "VBoxModel",
      "state": {
       "children": [
        "IPY_MODEL_0f64b5455bc94f799d1642b5b997cb56",
        "IPY_MODEL_50b1176737fd4d188c9c9e6d950dd1c6",
        "IPY_MODEL_84826f44270e4038a9da0b9af536830a",
        "IPY_MODEL_846d1741d4cd432da7e34c09131a847f"
       ],
       "layout": "IPY_MODEL_feda360c54e54d9e969d4b4034ad1c72"
      }
     },
     "d2b431349dba40e089397b3401f3fe4d": {
      "model_module": "@jupyter-widgets/base",
      "model_module_version": "1.0.0",
      "model_name": "LayoutModel",
      "state": {
       "width": "600px"
      }
     },
     "d2cb015993d6427cb45ce1a5d6042cea": {
      "model_module": "@jupyter-widgets/controls",
      "model_module_version": "1.2.0",
      "model_name": "DescriptionStyleModel",
      "state": {
       "description_width": ""
      }
     },
     "d2cbeb1cfd3a4060b3d22d78e970be28": {
      "model_module": "@jupyter-widgets/controls",
      "model_module_version": "1.2.0",
      "model_name": "HTMLModel",
      "state": {
       "layout": "IPY_MODEL_19f3bd6e84ae49ac9f4dae3636753739",
       "style": "IPY_MODEL_f2472b70f32f44b0a23905abb5b3128a",
       "value": "<h4 style=\"font-size:14px;\">Wieso wird der Satz von der Grammatik abgelehnt?</h4>"
      }
     },
     "d2f8e1e9003b42ec9e05c880de1236ac": {
      "model_module": "@jupyter-widgets/base",
      "model_module_version": "1.0.0",
      "model_name": "LayoutModel",
      "state": {
       "width": "600px"
      }
     },
     "d30aa0a58eae4b26b0bc22f3f4227e2a": {
      "model_module": "@jupyter-widgets/base",
      "model_module_version": "1.0.0",
      "model_name": "LayoutModel",
      "state": {
       "width": "250px"
      }
     },
     "d33ea4aab0d54ab888643bc02df0288b": {
      "model_module": "@jupyter-widgets/base",
      "model_module_version": "1.0.0",
      "model_name": "LayoutModel",
      "state": {
       "width": "250px"
      }
     },
     "d34fb54d0918477cb083df50a8644cee": {
      "model_module": "@jupyter-widgets/controls",
      "model_module_version": "1.2.0",
      "model_name": "CheckboxModel",
      "state": {
       "description": "[NUM=’pl’, PER=3]",
       "disabled": false,
       "layout": "IPY_MODEL_546649fb594b438e8f41e53baea07b55",
       "style": "IPY_MODEL_077541a40ed0440a99e7cf097db1495e",
       "value": false
      }
     },
     "d36e03ba9d6541628e1cc3868d17b991": {
      "model_module": "@jupyter-widgets/base",
      "model_module_version": "1.0.0",
      "model_name": "LayoutModel",
      "state": {
       "width": "250px"
      }
     },
     "d3872d6ed74f41fabf0db61763c46d82": {
      "model_module": "@jupyter-widgets/controls",
      "model_module_version": "1.2.0",
      "model_name": "HTMLModel",
      "state": {
       "layout": "IPY_MODEL_f85e37968fb34916ba8552d203325d03",
       "style": "IPY_MODEL_017c047907a143b78f99e78f2860b76f",
       "value": "<i>Wählen Sie die <ins>eine</ins> korrekte Antwort aus: </i>"
      }
     },
     "d42ffda32ba541869f9d478bf0999269": {
      "model_module": "@jupyter-widgets/controls",
      "model_module_version": "1.2.0",
      "model_name": "ButtonModel",
      "state": {
       "description": "'Katze' ist kein gültiges Wort",
       "layout": "IPY_MODEL_0c41a2f9665a4fc2a575bdb894c3b715",
       "style": "IPY_MODEL_4008153d96344ebcad336a8fe82e6e94"
      }
     },
     "d47e9946a0a343d9b1e8adaaab17b670": {
      "model_module": "@jupyter-widgets/controls",
      "model_module_version": "1.2.0",
      "model_name": "CheckboxModel",
      "state": {
       "description": "< N NUM > ≠ < DET NUM >",
       "disabled": false,
       "layout": "IPY_MODEL_478f3c9faf2a49e4a95f75a6cc86b7f2",
       "style": "IPY_MODEL_5fd5e1c14aca43b18f30e35477c5afbc",
       "value": false
      }
     },
     "d56b1e3d4a4f4b7b9a10d857e06c30f5": {
      "model_module": "@jupyter-widgets/controls",
      "model_module_version": "1.2.0",
      "model_name": "VBoxModel",
      "state": {
       "children": [
        "IPY_MODEL_4b107a186b52446abaee3bd29c565209",
        "IPY_MODEL_152b2e8b4fb14a7a849e91f19fd79f4b",
        "IPY_MODEL_c5573b1bbcb744859c31156dc96e31e2"
       ],
       "layout": "IPY_MODEL_458965e3f08046ff8bcde18cbf74d6fb"
      }
     },
     "d5f2cb3c7ed84390910a2b118ee655c0": {
      "model_module": "@jupyter-widgets/base",
      "model_module_version": "1.0.0",
      "model_name": "LayoutModel",
      "state": {
       "justify_content": "center"
      }
     },
     "d67bff4044604526bef86b5f9f7e3181": {
      "model_module": "@jupyter-widgets/base",
      "model_module_version": "1.0.0",
      "model_name": "LayoutModel",
      "state": {}
     },
     "d6d769eeebc04cb6b0a1437be8a610b7": {
      "model_module": "@jupyter-widgets/controls",
      "model_module_version": "1.2.0",
      "model_name": "CheckboxModel",
      "state": {
       "description": "[GND=’masc’, NUM=’sg’, PER=3]",
       "disabled": false,
       "layout": "IPY_MODEL_d2b431349dba40e089397b3401f3fe4d",
       "style": "IPY_MODEL_4ae95773739b47e495b7ff4c911c2097",
       "value": true
      }
     },
     "d6d9e5e3e2aa464086ad58751c1f64a1": {
      "model_module": "@jupyter-widgets/base",
      "model_module_version": "1.0.0",
      "model_name": "LayoutModel",
      "state": {}
     },
     "d6f8fcb6dc1d41118878a9c6db5ef17e": {
      "model_module": "@jupyter-widgets/controls",
      "model_module_version": "1.2.0",
      "model_name": "DescriptionStyleModel",
      "state": {
       "description_width": ""
      }
     },
     "d71f1fed75a74e4b8dd6d770cebe5459": {
      "model_module": "@jupyter-widgets/controls",
      "model_module_version": "1.2.0",
      "model_name": "VBoxModel",
      "state": {
       "children": [
        "IPY_MODEL_1d101342c7e740848e4954890cb442b9",
        "IPY_MODEL_fe41eb24ca2c4c7b8b0a35f76318a55a",
        "IPY_MODEL_b762a6caaea24eb2b6230cc950f4136f",
        "IPY_MODEL_319c06d2411c4c07ad818c08f66d18bd"
       ],
       "layout": "IPY_MODEL_d8cce6ce4cdb454284dec03dc993204e"
      }
     },
     "d772da19ada3439e836243aecb1f1490": {
      "model_module": "@jupyter-widgets/controls",
      "model_module_version": "1.2.0",
      "model_name": "DescriptionStyleModel",
      "state": {
       "description_width": "initial"
      }
     },
     "d7a2af98356d497bb7ece7bc20d54e19": {
      "model_module": "@jupyter-widgets/controls",
      "model_module_version": "1.2.0",
      "model_name": "HTMLModel",
      "state": {
       "layout": "IPY_MODEL_833bb8ebf4bb46eaa3f456ff72974612",
       "style": "IPY_MODEL_353a387f27d143c5a6d8a8a5dcf1a845",
       "value": "<i>Markieren Sie <ins>alle</ins> passenden Antworten: </i>"
      }
     },
     "d7dc3bc54e3344209052c278da3e7e7a": {
      "model_module": "@jupyter-widgets/controls",
      "model_module_version": "1.2.0",
      "model_name": "DescriptionStyleModel",
      "state": {
       "description_width": ""
      }
     },
     "d83c8fd4557f444e90106635140b71f6": {
      "model_module": "@jupyter-widgets/base",
      "model_module_version": "1.0.0",
      "model_name": "LayoutModel",
      "state": {
       "width": "250px"
      }
     },
     "d849dffa69b34b01acb8a0390c25e47c": {
      "model_module": "@jupyter-widgets/controls",
      "model_module_version": "1.2.0",
      "model_name": "CheckboxModel",
      "state": {
       "description": "[NUM=’sg’, PER=3]",
       "disabled": false,
       "layout": "IPY_MODEL_55d084922da5498fb338620d1050697c",
       "style": "IPY_MODEL_6a1213e9202641eeb0a291a75067f1e5",
       "value": false
      }
     },
     "d89f39783de6495dbc02a2124cab3334": {
      "model_module": "@jupyter-widgets/controls",
      "model_module_version": "1.2.0",
      "model_name": "HTMLModel",
      "state": {
       "layout": "IPY_MODEL_014dfee6b04349b1ae5829d31248d638",
       "style": "IPY_MODEL_6e9b2e7369094d7a82210972c1456f10",
       "value": "<i>Markieren Sie <ins>alle</ins> passenden Antworten: </i>"
      }
     },
     "d8cce6ce4cdb454284dec03dc993204e": {
      "model_module": "@jupyter-widgets/base",
      "model_module_version": "1.0.0",
      "model_name": "LayoutModel",
      "state": {}
     },
     "d908359ed75a4fb885dcac14aac98589": {
      "model_module": "@jupyter-widgets/base",
      "model_module_version": "1.0.0",
      "model_name": "LayoutModel",
      "state": {
       "width": "600px"
      }
     },
     "d917df10e451412b800b49ba19f55a0c": {
      "model_module": "@jupyter-widgets/controls",
      "model_module_version": "1.2.0",
      "model_name": "DescriptionStyleModel",
      "state": {
       "description_width": "initial"
      }
     },
     "d95147f099fe4b10884110091cf6a155": {
      "model_module": "@jupyter-widgets/base",
      "model_module_version": "1.0.0",
      "model_name": "LayoutModel",
      "state": {
       "width": "600px"
      }
     },
     "db0c599d6d81472dbf25a3dcb6684335": {
      "model_module": "@jupyter-widgets/base",
      "model_module_version": "1.0.0",
      "model_name": "LayoutModel",
      "state": {
       "width": "600px"
      }
     },
     "db5d74356bd440ca9e1e8ccc6f69fe1d": {
      "model_module": "@jupyter-widgets/controls",
      "model_module_version": "1.2.0",
      "model_name": "HTMLModel",
      "state": {
       "layout": "IPY_MODEL_47446c5c550d483988e357127d28b49b",
       "style": "IPY_MODEL_0f474b3d4d774badaf072d9e85f472fd",
       "value": "<i>Markieren Sie <ins>alle</ins> passenden Antworten: </i>"
      }
     },
     "db92092ca508411ea452e6368fac22c6": {
      "model_module": "@jupyter-widgets/base",
      "model_module_version": "1.0.0",
      "model_name": "LayoutModel",
      "state": {
       "width": "600px"
      }
     },
     "db96d1989b8d40859cc0e71ec207e8a4": {
      "model_module": "@jupyter-widgets/controls",
      "model_module_version": "1.2.0",
      "model_name": "VBoxModel",
      "state": {
       "children": [
        "IPY_MODEL_577bae1394c745f1b737067316359688",
        "IPY_MODEL_cdeab181e9b941e4963716e3554aa939",
        "IPY_MODEL_59ad08abd6494c67bbff3d3365432c4b",
        "IPY_MODEL_c40c5dcd8e144a7eb556110e9d7b0e05"
       ],
       "layout": "IPY_MODEL_4852159c33c84a3987f6005d883db4d0"
      }
     },
     "dc67885300264273a1bdcac4eb88178b": {
      "model_module": "@jupyter-widgets/controls",
      "model_module_version": "1.2.0",
      "model_name": "DescriptionStyleModel",
      "state": {
       "description_width": "initial"
      }
     },
     "dd045f231c124a4590d16077574e07f3": {
      "model_module": "@jupyter-widgets/controls",
      "model_module_version": "1.2.0",
      "model_name": "CheckboxModel",
      "state": {
       "description": "< N NUM > ≠ < DET NUM >",
       "disabled": false,
       "layout": "IPY_MODEL_c128493720794655866e6896100910c7",
       "style": "IPY_MODEL_dc67885300264273a1bdcac4eb88178b",
       "value": true
      }
     },
     "dd77802d9d24466fa642e654c8c32b4f": {
      "model_module": "@jupyter-widgets/base",
      "model_module_version": "1.0.0",
      "model_name": "LayoutModel",
      "state": {
       "width": "250px"
      }
     },
     "ddca72fa67544758b2de2e5f0a2a829d": {
      "model_module": "@jupyter-widgets/controls",
      "model_module_version": "1.2.0",
      "model_name": "CheckboxModel",
      "state": {
       "description": "[NUM=’sg’, PER=3]",
       "disabled": false,
       "layout": "IPY_MODEL_a1501b62736743d0be9ebaa52735c926",
       "style": "IPY_MODEL_68c0db066141428389e5c3b7013a1a9c",
       "value": false
      }
     },
     "df5541a6a9a74e02b309861d09a46fdf": {
      "model_module": "@jupyter-widgets/controls",
      "model_module_version": "1.2.0",
      "model_name": "ButtonStyleModel",
      "state": {}
     },
     "df8335b81ad242e08ea50f1dde8f87dc": {
      "model_module": "@jupyter-widgets/controls",
      "model_module_version": "1.2.0",
      "model_name": "CheckboxModel",
      "state": {
       "description": "[NUM=’pl’, PER=3]",
       "disabled": false,
       "layout": "IPY_MODEL_3becac96858f466da9b51b2d5ee2a6de",
       "style": "IPY_MODEL_502d5f01882b4e5ea9adfd4c6c812cdd",
       "value": true
      }
     },
     "e0462409ed834cf0a51b9ba6d8228f5b": {
      "model_module": "@jupyter-widgets/base",
      "model_module_version": "1.0.0",
      "model_name": "LayoutModel",
      "state": {
       "width": "600px"
      }
     },
     "e0566c1ee6c14ffca24c081fce51c734": {
      "model_module": "@jupyter-widgets/controls",
      "model_module_version": "1.2.0",
      "model_name": "VBoxModel",
      "state": {
       "children": [
        "IPY_MODEL_9ed8b432b91c42ddabd6c9256f99b1d8",
        "IPY_MODEL_74b597b3bb294f649ae15e942937ce87",
        "IPY_MODEL_88b3c24ceeb6449da64ed618be7221c3",
        "IPY_MODEL_ff4e5253f2c84793ba1e3c7fb2eb0299"
       ],
       "layout": "IPY_MODEL_39fe453aeb724c029b8b4b75c69995c4"
      }
     },
     "e187538fc6a64e168a8503546c2b2464": {
      "model_module": "@jupyter-widgets/controls",
      "model_module_version": "1.2.0",
      "model_name": "ButtonStyleModel",
      "state": {}
     },
     "e1aea411401647b9936bd96e2499bf4c": {
      "model_module": "@jupyter-widgets/controls",
      "model_module_version": "1.2.0",
      "model_name": "DescriptionStyleModel",
      "state": {
       "description_width": ""
      }
     },
     "e28f84df7490405ea18f4b3d604bff59": {
      "model_module": "@jupyter-widgets/base",
      "model_module_version": "1.0.0",
      "model_name": "LayoutModel",
      "state": {}
     },
     "e31d8a2057d743e4b3c2d2a115befe8c": {
      "model_module": "@jupyter-widgets/controls",
      "model_module_version": "1.2.0",
      "model_name": "CheckboxModel",
      "state": {
       "description": "< N PER > ≠ < DET PER >",
       "disabled": false,
       "layout": "IPY_MODEL_77e875ed82bd4937af9d39ec719c9dc5",
       "style": "IPY_MODEL_7713fcc89ffa47098a5e152ea4fe3551",
       "value": false
      }
     },
     "e3527585bf71494cac6bf6ed65c967b2": {
      "model_module": "@jupyter-widgets/base",
      "model_module_version": "1.0.0",
      "model_name": "LayoutModel",
      "state": {
       "width": "250px"
      }
     },
     "e422f87e3e0a4d3ba99f49c58a9afc9b": {
      "model_module": "@jupyter-widgets/controls",
      "model_module_version": "1.2.0",
      "model_name": "DescriptionStyleModel",
      "state": {
       "description_width": "initial"
      }
     },
     "e4d4b174bd8b497bb36d24e82875ecef": {
      "model_module": "@jupyter-widgets/controls",
      "model_module_version": "1.2.0",
      "model_name": "DescriptionStyleModel",
      "state": {
       "description_width": "initial"
      }
     },
     "e4df2be6123d426db3ef180792bfb9f8": {
      "model_module": "@jupyter-widgets/controls",
      "model_module_version": "1.2.0",
      "model_name": "ButtonStyleModel",
      "state": {
       "button_color": "lightgreen"
      }
     },
     "e552177b2f2947abb745559b2d263464": {
      "model_module": "@jupyter-widgets/base",
      "model_module_version": "1.0.0",
      "model_name": "LayoutModel",
      "state": {}
     },
     "e615708548ce43ec9cf3e5828dc0334f": {
      "model_module": "@jupyter-widgets/base",
      "model_module_version": "1.0.0",
      "model_name": "LayoutModel",
      "state": {
       "width": "250px"
      }
     },
     "e6b6db169fb246bfbb810f44d043c640": {
      "model_module": "@jupyter-widgets/controls",
      "model_module_version": "1.2.0",
      "model_name": "ButtonModel",
      "state": {
       "description": "Korrekt?",
       "layout": "IPY_MODEL_e3527585bf71494cac6bf6ed65c967b2",
       "style": "IPY_MODEL_1f7b2d906d954a90ad461487cb49ae09"
      }
     },
     "e6d742de8c82426ca40878f0005edd8c": {
      "model_module": "@jupyter-widgets/controls",
      "model_module_version": "1.2.0",
      "model_name": "DescriptionStyleModel",
      "state": {
       "description_width": ""
      }
     },
     "e6d77d7ad0c144799fd8f85f676a8355": {
      "model_module": "@jupyter-widgets/controls",
      "model_module_version": "1.2.0",
      "model_name": "ButtonStyleModel",
      "state": {
       "button_color": "lightgreen"
      }
     },
     "e6d9b5138e8648c9ab9cf47e679ea321": {
      "model_module": "@jupyter-widgets/controls",
      "model_module_version": "1.2.0",
      "model_name": "CheckboxModel",
      "state": {
       "description": "[GND=’masc’, NUM=’sg’, PER=3]",
       "disabled": false,
       "layout": "IPY_MODEL_02cd4f9651284c54be9d1329324dc20f",
       "style": "IPY_MODEL_ce192aed31b7497bb8d8a1465cbac4ce",
       "value": true
      }
     },
     "e7d090e2d06d4f178e0d2054093e9644": {
      "model_module": "@jupyter-widgets/controls",
      "model_module_version": "1.2.0",
      "model_name": "HTMLModel",
      "state": {
       "layout": "IPY_MODEL_803644ff00b64023801f6fa343b33ab8",
       "style": "IPY_MODEL_66af739967b9442c8f76e6379fb7105b",
       "value": "<h4 style=\"font-size:14px;\">Wieso wird der Satz von der Grammatik abgelehnt?</h4>"
      }
     },
     "e91dd51482d148d78b04edcb2ffba846": {
      "model_module": "@jupyter-widgets/base",
      "model_module_version": "1.0.0",
      "model_name": "LayoutModel",
      "state": {
       "width": "250px"
      }
     },
     "e955464ddb2c49969bb1382d135b02e9": {
      "model_module": "@jupyter-widgets/controls",
      "model_module_version": "1.2.0",
      "model_name": "DescriptionStyleModel",
      "state": {
       "description_width": ""
      }
     },
     "e9b6ac8f8c994f1da57975273b500193": {
      "model_module": "@jupyter-widgets/controls",
      "model_module_version": "1.2.0",
      "model_name": "HTMLModel",
      "state": {
       "layout": "IPY_MODEL_b08d426a59f747d3a28e6e56c3df0852",
       "style": "IPY_MODEL_a40b663959644752b47378f4a69bd172",
       "value": "<h4 style=\"font-size:14px;\">Wo liegt das Problem, sodass der Satz abgeleht wird?</h4>"
      }
     },
     "e9d3c63dda8549dbb9f639cf7bcdf554": {
      "model_module": "@jupyter-widgets/base",
      "model_module_version": "1.0.0",
      "model_name": "LayoutModel",
      "state": {}
     },
     "ea538a12cbed42c9b66c2c8ae3fc1a48": {
      "model_module": "@jupyter-widgets/controls",
      "model_module_version": "1.2.0",
      "model_name": "CheckboxModel",
      "state": {
       "description": "[GND=’fem’, NUM=’sg’, PER=3]",
       "disabled": false,
       "layout": "IPY_MODEL_5e9784f4b48840ebb4289da8514f56c6",
       "style": "IPY_MODEL_91d804cb713d4a2d8fc281a42a4926cc",
       "value": false
      }
     },
     "ea89afbb567a4d7085837a4d693506e2": {
      "model_module": "@jupyter-widgets/controls",
      "model_module_version": "1.2.0",
      "model_name": "ButtonModel",
      "state": {
       "description": "Korrekt?",
       "layout": "IPY_MODEL_320ce1a9a88d4215a6098e99168cb25f",
       "style": "IPY_MODEL_e6d77d7ad0c144799fd8f85f676a8355"
      }
     },
     "eb184af0a9b94c8d82981f3b0cc93590": {
      "model_module": "@jupyter-widgets/controls",
      "model_module_version": "1.2.0",
      "model_name": "ButtonModel",
      "state": {
       "description": "nicht unifizierbar",
       "layout": "IPY_MODEL_118c32f91e4846f0a2e8621bac064ae0",
       "style": "IPY_MODEL_922dea4a46b8468ebd972ac8809b1d75"
      }
     },
     "ebdaf489dba049f6a0da0219accf0a2b": {
      "model_module": "@jupyter-widgets/controls",
      "model_module_version": "1.2.0",
      "model_name": "VBoxModel",
      "state": {
       "children": [
        "IPY_MODEL_e9b6ac8f8c994f1da57975273b500193",
        "IPY_MODEL_133a78d4b6c24d76b31b7efd290fcef5",
        "IPY_MODEL_b076d4df8e494ee098b3f7d910d011a4",
        "IPY_MODEL_856b9478796741278017142c5667abc8"
       ],
       "layout": "IPY_MODEL_142599f9c18240e8aed71fcd0f9c1559"
      }
     },
     "ec9d7aefa0f54a159ea7b82a8aa2aad1": {
      "model_module": "@jupyter-widgets/base",
      "model_module_version": "1.0.0",
      "model_name": "LayoutModel",
      "state": {
       "width": "600px"
      }
     },
     "ed4402f823d7468e80ecad73ce65c632": {
      "model_module": "@jupyter-widgets/controls",
      "model_module_version": "1.2.0",
      "model_name": "DescriptionStyleModel",
      "state": {
       "description_width": "initial"
      }
     },
     "ed86487025444327a74a6448745a47c6": {
      "model_module": "@jupyter-widgets/controls",
      "model_module_version": "1.2.0",
      "model_name": "DescriptionStyleModel",
      "state": {
       "description_width": ""
      }
     },
     "ee4e2d0f92b94887a9f7fc8405ecb437": {
      "model_module": "@jupyter-widgets/base",
      "model_module_version": "1.0.0",
      "model_name": "LayoutModel",
      "state": {}
     },
     "ef1d6e4d765a4ba2ae11396a97f86e9a": {
      "model_module": "@jupyter-widgets/base",
      "model_module_version": "1.0.0",
      "model_name": "LayoutModel",
      "state": {
       "justify_content": "center"
      }
     },
     "ef2fa594e6914b449e0b77766afba9a0": {
      "model_module": "@jupyter-widgets/base",
      "model_module_version": "1.0.0",
      "model_name": "LayoutModel",
      "state": {}
     },
     "efbb3e602c7e49a2aa06572c5f196433": {
      "model_module": "@jupyter-widgets/base",
      "model_module_version": "1.0.0",
      "model_name": "LayoutModel",
      "state": {}
     },
     "f0432598bd11409f97fb6df295cd9559": {
      "model_module": "@jupyter-widgets/controls",
      "model_module_version": "1.2.0",
      "model_name": "ButtonModel",
      "state": {
       "description": "Korrekt?",
       "layout": "IPY_MODEL_ff9cb449bb904ed395cc04b15ac1202c",
       "style": "IPY_MODEL_facc0a9a4ceb4209805ca83b572c63a9"
      }
     },
     "f0538fd23f7b4d209d69b66616b4b830": {
      "model_module": "@jupyter-widgets/controls",
      "model_module_version": "1.2.0",
      "model_name": "DescriptionStyleModel",
      "state": {
       "description_width": ""
      }
     },
     "f0f2bf8701d44a049a61525b94665c72": {
      "model_module": "@jupyter-widgets/base",
      "model_module_version": "1.0.0",
      "model_name": "LayoutModel",
      "state": {
       "width": "600px"
      }
     },
     "f10e5712d5b0474ba4d88eb2cb716adf": {
      "model_module": "@jupyter-widgets/controls",
      "model_module_version": "1.2.0",
      "model_name": "HTMLModel",
      "state": {
       "layout": "IPY_MODEL_cc504e677acf4e4b82a81cf21522c45e",
       "style": "IPY_MODEL_d2cb015993d6427cb45ce1a5d6042cea",
       "value": "<h4 style=\"font-size:14px;\">Wieso wird der Satz von der Grammatik abgelehnt?</h4>"
      }
     },
     "f20776d33dd7417bb244b1df61af7061": {
      "model_module": "@jupyter-widgets/controls",
      "model_module_version": "1.2.0",
      "model_name": "HTMLModel",
      "state": {
       "layout": "IPY_MODEL_2096f29a08b041128013ece2a976559c",
       "style": "IPY_MODEL_e6d742de8c82426ca40878f0005edd8c",
       "value": "<i>Markieren Sie <ins>alle</ins> passenden Antworten: </i>"
      }
     },
     "f2472b70f32f44b0a23905abb5b3128a": {
      "model_module": "@jupyter-widgets/controls",
      "model_module_version": "1.2.0",
      "model_name": "DescriptionStyleModel",
      "state": {
       "description_width": ""
      }
     },
     "f32cc477ccac4527ba83ad5a07aa3f8d": {
      "model_module": "@jupyter-widgets/controls",
      "model_module_version": "1.2.0",
      "model_name": "ButtonModel",
      "state": {
       "description": "Keine der anderen Möglichkeiten",
       "layout": "IPY_MODEL_814926cc7cd74a7b9edb4a26166fc15d",
       "style": "IPY_MODEL_9fc24490f1ff4d5a9d67f7e3a84f27d5"
      }
     },
     "f4cadabda9d2426384a36b5716edd2c9": {
      "model_module": "@jupyter-widgets/controls",
      "model_module_version": "1.2.0",
      "model_name": "HTMLModel",
      "state": {
       "layout": "IPY_MODEL_9a97c6fdd6be4d9b822af5840b56accd",
       "style": "IPY_MODEL_2355b55508e04d3d86298239e675d8be",
       "value": "<h4 style=\"font-size:14px;\">Wieso wird der Satz von der Grammatik abgelehnt?</h4>"
      }
     },
     "f539fa34cc894c03b30b81f80cf152cb": {
      "model_module": "@jupyter-widgets/base",
      "model_module_version": "1.0.0",
      "model_name": "LayoutModel",
      "state": {}
     },
     "f60f05218cfc482c95b0c902243f7af9": {
      "model_module": "@jupyter-widgets/base",
      "model_module_version": "1.0.0",
      "model_name": "LayoutModel",
      "state": {}
     },
     "f72d42816b9642b3bdfaefec936b130e": {
      "model_module": "@jupyter-widgets/controls",
      "model_module_version": "1.2.0",
      "model_name": "ButtonModel",
      "state": {
       "description": "Keine der anderen Möglichkeiten",
       "layout": "IPY_MODEL_30b3740ba471400e9d728a52c0a1b344",
       "style": "IPY_MODEL_852dbc65f6bd47f5a49baa8d8fffdaa6"
      }
     },
     "f73c6c7152234ee9a0b3edc708a06e32": {
      "model_module": "@jupyter-widgets/base",
      "model_module_version": "1.0.0",
      "model_name": "LayoutModel",
      "state": {
       "width": "250px"
      }
     },
     "f7e3e7020a78437183d7bb076a40fca5": {
      "model_module": "@jupyter-widgets/controls",
      "model_module_version": "1.2.0",
      "model_name": "ButtonModel",
      "state": {
       "description": "'Katze' ist kein gültiges Wort",
       "layout": "IPY_MODEL_8f161098238d4040a357f079cd250261",
       "style": "IPY_MODEL_d24810398dae4a3592fb0e57a50e3f80"
      }
     },
     "f85e37968fb34916ba8552d203325d03": {
      "model_module": "@jupyter-widgets/base",
      "model_module_version": "1.0.0",
      "model_name": "LayoutModel",
      "state": {
       "justify_content": "center"
      }
     },
     "f9054c17a5f043efbd132c8cacb6db82": {
      "model_module": "@jupyter-widgets/base",
      "model_module_version": "1.0.0",
      "model_name": "LayoutModel",
      "state": {
       "width": "600px"
      }
     },
     "f94e0202080c4d018d2f54c0da049c90": {
      "model_module": "@jupyter-widgets/controls",
      "model_module_version": "1.2.0",
      "model_name": "HTMLModel",
      "state": {
       "layout": "IPY_MODEL_a3d78218643f471490995b0279359c12",
       "style": "IPY_MODEL_90994377d22b4c3e844a1008d4be1314",
       "value": "<i>Markieren Sie <ins>alle</ins> passenden Antworten: </i>"
      }
     },
     "f9acaa49b38b48609c9bfcdbd19b3617": {
      "model_module": "@jupyter-widgets/base",
      "model_module_version": "1.0.0",
      "model_name": "LayoutModel",
      "state": {}
     },
     "f9aefb9452a04bcf928234d88df3bc65": {
      "model_module": "@jupyter-widgets/controls",
      "model_module_version": "1.2.0",
      "model_name": "DescriptionStyleModel",
      "state": {
       "description_width": "initial"
      }
     },
     "f9d56957152b411c87f38a8484121fc6": {
      "model_module": "@jupyter-widgets/controls",
      "model_module_version": "1.2.0",
      "model_name": "DescriptionStyleModel",
      "state": {
       "description_width": "initial"
      }
     },
     "fa7015d1391146d4ac10c2517075464a": {
      "model_module": "@jupyter-widgets/controls",
      "model_module_version": "1.2.0",
      "model_name": "DescriptionStyleModel",
      "state": {
       "description_width": "initial"
      }
     },
     "facc0a9a4ceb4209805ca83b572c63a9": {
      "model_module": "@jupyter-widgets/controls",
      "model_module_version": "1.2.0",
      "model_name": "ButtonStyleModel",
      "state": {
       "button_color": "lightgreen"
      }
     },
     "fae857bca9c34efaa0ee129b9b2726c6": {
      "model_module": "@jupyter-widgets/controls",
      "model_module_version": "1.2.0",
      "model_name": "ButtonModel",
      "state": {
       "description": "Korrekt?",
       "layout": "IPY_MODEL_7afe1f1f45a5475380ff84f205ecf5f2",
       "style": "IPY_MODEL_955866cacce4479a9ffad4c0349fa0ff"
      }
     },
     "fb6dd8b62d4f46299484849f0312cb1d": {
      "model_module": "@jupyter-widgets/base",
      "model_module_version": "1.0.0",
      "model_name": "LayoutModel",
      "state": {
       "justify_content": "center"
      }
     },
     "fb704fb359f74c7a94fe4358f42575dc": {
      "model_module": "@jupyter-widgets/controls",
      "model_module_version": "1.2.0",
      "model_name": "VBoxModel",
      "state": {
       "children": [
        "IPY_MODEL_0ddb531c24554d8a974d0bd7ec051e6f",
        "IPY_MODEL_d7a2af98356d497bb7ece7bc20d54e19",
        "IPY_MODEL_10bec43c40b949739a0471803e8267ad",
        "IPY_MODEL_f0432598bd11409f97fb6df295cd9559"
       ],
       "layout": "IPY_MODEL_8263b11a4b804739b8254d3512093217"
      }
     },
     "fbd855c3d3e34838a2936a053e825712": {
      "model_module": "@jupyter-widgets/base",
      "model_module_version": "1.0.0",
      "model_name": "LayoutModel",
      "state": {
       "justify_content": "center"
      }
     },
     "fc59eb97584e4776a2a49b027e973c06": {
      "model_module": "@jupyter-widgets/controls",
      "model_module_version": "1.2.0",
      "model_name": "ButtonStyleModel",
      "state": {}
     },
     "fced22536a514fbeb1f369251875828e": {
      "model_module": "@jupyter-widgets/controls",
      "model_module_version": "1.2.0",
      "model_name": "ButtonModel",
      "state": {
       "description": "Korrekt?",
       "layout": "IPY_MODEL_4b6b16879dcf410b98ada7cee30aa4f1",
       "style": "IPY_MODEL_9bb66eabe05d4bee8de53f14d602acdc"
      }
     },
     "fd111f6ee957412e88b7470e7e8626c3": {
      "model_module": "@jupyter-widgets/controls",
      "model_module_version": "1.2.0",
      "model_name": "CheckboxModel",
      "state": {
       "description": "[NUM=’pl’, PER=3]",
       "disabled": false,
       "layout": "IPY_MODEL_271d80f8d33d4f24ab3c7aa8d148e9db",
       "style": "IPY_MODEL_50dfb189724d497a9825211ec9cc9e3c",
       "value": true
      }
     },
     "fe23ac4cf35847aa93d36f9ecac43e6d": {
      "model_module": "@jupyter-widgets/controls",
      "model_module_version": "1.2.0",
      "model_name": "DescriptionStyleModel",
      "state": {
       "description_width": "initial"
      }
     },
     "fe41eb24ca2c4c7b8b0a35f76318a55a": {
      "model_module": "@jupyter-widgets/controls",
      "model_module_version": "1.2.0",
      "model_name": "HTMLModel",
      "state": {
       "layout": "IPY_MODEL_ef1d6e4d765a4ba2ae11396a97f86e9a",
       "style": "IPY_MODEL_36845fe7cfa441f1a13f46ebdc937d79",
       "value": "<i>Markieren Sie <ins>alle</ins> passenden Antworten: </i>"
      }
     },
     "fe58c1abd7e24a4bb695ac9523727eee": {
      "model_module": "@jupyter-widgets/base",
      "model_module_version": "1.0.0",
      "model_name": "LayoutModel",
      "state": {}
     },
     "feda360c54e54d9e969d4b4034ad1c72": {
      "model_module": "@jupyter-widgets/base",
      "model_module_version": "1.0.0",
      "model_name": "LayoutModel",
      "state": {}
     },
     "ff4e5253f2c84793ba1e3c7fb2eb0299": {
      "model_module": "@jupyter-widgets/controls",
      "model_module_version": "1.2.0",
      "model_name": "CheckboxModel",
      "state": {
       "description": "[NUM=’sg’, PER=3]",
       "disabled": false,
       "layout": "IPY_MODEL_cea3d65882ba418b8a55a4081042906d",
       "style": "IPY_MODEL_5cad5a997a8346fe949935412f5a3b57",
       "value": false
      }
     },
     "ff9cb449bb904ed395cc04b15ac1202c": {
      "model_module": "@jupyter-widgets/base",
      "model_module_version": "1.0.0",
      "model_name": "LayoutModel",
      "state": {
       "width": "250px"
      }
     }
    },
    "version_major": 2,
    "version_minor": 0
   }
  }
 },
 "nbformat": 4,
 "nbformat_minor": 2
}
