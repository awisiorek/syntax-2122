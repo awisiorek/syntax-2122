{
 "cells": [
  {
   "cell_type": "markdown",
   "metadata": {},
   "source": [
    "***Syntax natürlicher Sprachen, WS 2021/22***\n",
    "\n",
    "---\n",
    "# Wiederholungsfragen 12"
   ]
  },
  {
   "cell_type": "code",
   "execution_count": 1,
   "metadata": {},
   "outputs": [],
   "source": [
    "from exercises_12 import *\n",
    "from questions import aufgabe"
   ]
  },
  {
   "cell_type": "markdown",
   "metadata": {},
   "source": [
    "--- \n",
    "# Hausaufgaben"
   ]
  },
  {
   "cell_type": "markdown",
   "metadata": {},
   "source": [
    "---\n",
    "## Frage 1: PCFGs und Viterbi\n",
    "\n",
    "#### Beantworten Sie die folgenden grundlegenden Fragen über die heute verwendeten Technologien."
   ]
  },
  {
   "cell_type": "code",
   "execution_count": 2,
   "metadata": {},
   "outputs": [
    {
     "data": {
      "application/vnd.jupyter.widget-view+json": {
       "model_id": "50f44cf81da94085b80c394429f161f2",
       "version_major": 2,
       "version_minor": 0
      },
      "text/plain": [
       "MultipleChoice(children=(HTML(value='<h4 style=\"font-size:14px;\">Welche der folgenden Bedingungen wird an eine…"
      ]
     },
     "metadata": {},
     "output_type": "display_data"
    },
    {
     "data": {
      "application/vnd.jupyter.widget-view+json": {
       "model_id": "8e21891848174fe9a23f8c1dbd6938d3",
       "version_major": 2,
       "version_minor": 0
      },
      "text/plain": [
       "MultipleChoice(children=(HTML(value='<h4 style=\"font-size:14px;\">Was ist die Aufgabe des Viterbi-Algorithmus?<…"
      ]
     },
     "metadata": {},
     "output_type": "display_data"
    }
   ],
   "source": [
    "aufgabe(blatt12_1)"
   ]
  },
  {
   "cell_type": "markdown",
   "metadata": {},
   "source": [
    "---\n",
    "## Frage 2: NLTK-Kapitel zu PCFGs\n",
    "\n",
    "#### In folgenden NLTK-Kapiteln wird das Parsing mit Probabilistischen kontextfreien Grammatiken behandelt:\n",
    "- Teilkapitel 8.6 (’Grammar Development’): http://www.nltk.org/book/ch08.html\n",
    "- Teilkapitel 2.12 und 2.13 (’Grammar Induction’ und ’Normal Forms’) des Zusatzkapitels zu Kapitel 8: http://www.nltk.org/book/ch08-extras.html\n",
    "- (Teilkapitel 2.9-2.11 des Zusatzkapitels zu Kapitel 8 behandelt Probabilistische ’Chart Parsing’-Algorithmen: http://www.nltk.org/book/ch08-extras.html)\n",
    "\n",
    "#### Beantworten Sie folgende Fragen zu Teilkapitel 8.6.2 (’Pernicious Ambiguity’):"
   ]
  },
  {
   "cell_type": "markdown",
   "metadata": {},
   "source": [
    "---\n",
    "### Frage 2 a:\n",
    "\n",
    "#### Welche zwei Faktoren führen bei der syntaktischen Analyse natürlicher Sprache mittels formaler Grammatiken zu mehr Ambiguität (Anzahl an Ableitungen)?"
   ]
  },
  {
   "cell_type": "code",
   "execution_count": 3,
   "metadata": {},
   "outputs": [
    {
     "data": {
      "application/vnd.jupyter.widget-view+json": {
       "model_id": "13c30677740d42e1a7afabd29da2195d",
       "version_major": 2,
       "version_minor": 0
      },
      "text/plain": [
       "MultipleChoice(children=(HTML(value='<h4 style=\"font-size:14px;\">Welche zwei Faktoren führen bei der syntaktis…"
      ]
     },
     "metadata": {},
     "output_type": "display_data"
    }
   ],
   "source": [
    "aufgabe(blatt12_2a)"
   ]
  },
  {
   "cell_type": "markdown",
   "metadata": {},
   "source": [
    "---\n",
    "### Frage 2 b:\n"
   ]
  },
  {
   "cell_type": "code",
   "execution_count": 4,
   "metadata": {},
   "outputs": [
    {
     "data": {
      "application/vnd.jupyter.widget-view+json": {
       "model_id": "75e815ad07a84c6685934e51918121f7",
       "version_major": 2,
       "version_minor": 0
      },
      "text/plain": [
       "MultipleChoice(children=(HTML(value='<h4 style=\"font-size:14px;\">Welche zwei Arten von Ambiguität unterscheide…"
      ]
     },
     "metadata": {},
     "output_type": "display_data"
    }
   ],
   "source": [
    "aufgabe(blatt12_2b)"
   ]
  }
 ],
 "metadata": {
  "kernelspec": {
   "display_name": "Python 3",
   "language": "python",
   "name": "python3"
  },
  "language_info": {
   "codemirror_mode": {
    "name": "ipython",
    "version": 3
   },
   "file_extension": ".py",
   "mimetype": "text/x-python",
   "name": "python",
   "nbconvert_exporter": "python",
   "pygments_lexer": "ipython3",
   "version": "3.6.1"
  },
  "widgets": {
   "application/vnd.jupyter.widget-state+json": {
    "state": {
     "0090eda8a16c41c29054684d9197737d": {
      "model_module": "@jupyter-widgets/controls",
      "model_module_version": "1.2.0",
      "model_name": "ButtonStyleModel",
      "state": {
       "button_color": "lightgreen"
      }
     },
     "00a28834d525420693c41a7ed292e70d": {
      "model_module": "@jupyter-widgets/base",
      "model_module_version": "1.0.0",
      "model_name": "LayoutModel",
      "state": {
       "width": "600px"
      }
     },
     "049f6b2b62c84856a96dc68f53979f95": {
      "model_module": "@jupyter-widgets/controls",
      "model_module_version": "1.2.0",
      "model_name": "VBoxModel",
      "state": {
       "children": [
        "IPY_MODEL_239c5571b32c44e5ac551a8bfc18e2a1",
        "IPY_MODEL_cd7e9224a97c4759bdfa39129234b44c",
        "IPY_MODEL_cc85274a288949f9bc66748d839fb93f",
        "IPY_MODEL_496679214f2647cf9d5b3081e0d1c77d"
       ],
       "layout": "IPY_MODEL_853ebd2cd4de47b2bb29b9f315d8b415"
      }
     },
     "051fe1217ef542eb9968f91755f5e74f": {
      "model_module": "@jupyter-widgets/controls",
      "model_module_version": "1.2.0",
      "model_name": "HTMLModel",
      "state": {
       "layout": "IPY_MODEL_c0df8cf627f6433db9fdd619071e2e2b",
       "style": "IPY_MODEL_83fea4464b4a48588d3bff4818198d99",
       "value": "<i>Wählen Sie die zwei korrekten Antworten aus.</i>"
      }
     },
     "05538a03434b412aaaab7b9eb2e1429b": {
      "model_module": "@jupyter-widgets/controls",
      "model_module_version": "1.2.0",
      "model_name": "DescriptionStyleModel",
      "state": {
       "description_width": ""
      }
     },
     "083925646b9a49538b30c1542c7748f3": {
      "model_module": "@jupyter-widgets/controls",
      "model_module_version": "1.2.0",
      "model_name": "DescriptionStyleModel",
      "state": {
       "description_width": "initial"
      }
     },
     "090b011fea2c484385f5f946e07b651c": {
      "model_module": "@jupyter-widgets/base",
      "model_module_version": "1.0.0",
      "model_name": "LayoutModel",
      "state": {
       "width": "250px"
      }
     },
     "0e4e72b3fa984ea4a5c21abd219b8cf0": {
      "model_module": "@jupyter-widgets/controls",
      "model_module_version": "1.2.0",
      "model_name": "ButtonStyleModel",
      "state": {
       "button_color": "lightgreen"
      }
     },
     "0e720ed767994067ac5a147d36a0f572": {
      "model_module": "@jupyter-widgets/base",
      "model_module_version": "1.0.0",
      "model_name": "LayoutModel",
      "state": {}
     },
     "13c30677740d42e1a7afabd29da2195d": {
      "model_module": "@jupyter-widgets/controls",
      "model_module_version": "1.2.0",
      "model_name": "VBoxModel",
      "state": {
       "children": [
        "IPY_MODEL_dec08684e6754551a778058fa6581a10",
        "IPY_MODEL_73d7b0cfef2142e68d5fd8188c76344b",
        "IPY_MODEL_049f6b2b62c84856a96dc68f53979f95",
        "IPY_MODEL_84b63b40fc494b9b86f7adfba8be24e5"
       ],
       "layout": "IPY_MODEL_a2d734bf9d894d8cb2372493a4309e01"
      }
     },
     "1a12488fe9054261a014416ed1ac20cb": {
      "model_module": "@jupyter-widgets/controls",
      "model_module_version": "1.2.0",
      "model_name": "CheckboxModel",
      "state": {
       "description": "Attachment-Ambiguität",
       "disabled": false,
       "layout": "IPY_MODEL_f2182b2c28b74cdf90d601cfb870e6db",
       "style": "IPY_MODEL_37a4c64d0c124dc0b486458ed08ae526",
       "value": false
      }
     },
     "1b22eac102cc40d79b7f6ca36e380bd7": {
      "model_module": "@jupyter-widgets/controls",
      "model_module_version": "1.2.0",
      "model_name": "DescriptionStyleModel",
      "state": {
       "description_width": "initial"
      }
     },
     "1ff33f286a854cc0afd295a68ae20112": {
      "model_module": "@jupyter-widgets/controls",
      "model_module_version": "1.2.0",
      "model_name": "VBoxModel",
      "state": {
       "children": [
        "IPY_MODEL_d1b59a1bf95c43268df6604f85ecb27e",
        "IPY_MODEL_90541c1d1a9b46548a01a0032f45bfe0",
        "IPY_MODEL_91769e1f119d404aa8d010ea8a91b8e1"
       ],
       "layout": "IPY_MODEL_cd964d1018664fa8b6d5c58258790e1c"
      }
     },
     "239c5571b32c44e5ac551a8bfc18e2a1": {
      "model_module": "@jupyter-widgets/controls",
      "model_module_version": "1.2.0",
      "model_name": "CheckboxModel",
      "state": {
       "description": "Abnahme der Anzahl von Regeln",
       "disabled": false,
       "layout": "IPY_MODEL_91b986860b7047ef9eb7c31d2cd9b6f7",
       "style": "IPY_MODEL_d6e072fb4f2d435fb13f437d6255077e",
       "value": false
      }
     },
     "2482b871aacd48a7ad11dbf8af21fd0d": {
      "model_module": "@jupyter-widgets/controls",
      "model_module_version": "1.2.0",
      "model_name": "CheckboxModel",
      "state": {
       "description": "Die Summe aller Regelwahrscheinlichkeiten für jede RHS ist jeweils 1.",
       "disabled": false,
       "layout": "IPY_MODEL_bbc5a8b0de4b49b5aa49b72c2a1c7725",
       "style": "IPY_MODEL_fdb7c82e58054d5587b4a5b58ae8ac8e",
       "value": false
      }
     },
     "25f5d08fe50249ac86c9a66097de0eb2": {
      "model_module": "@jupyter-widgets/controls",
      "model_module_version": "1.2.0",
      "model_name": "HTMLModel",
      "state": {
       "layout": "IPY_MODEL_9240793af5984b69a0a7b67e0b40c20d",
       "style": "IPY_MODEL_947dff11d6944e18a1131c8846f7b2f6",
       "value": "<h4 style=\"font-size:14px;\">Was ist die Aufgabe des Viterbi-Algorithmus?</h4>"
      }
     },
     "27c91ad978d145168d452b7ece927df4": {
      "model_module": "@jupyter-widgets/controls",
      "model_module_version": "1.2.0",
      "model_name": "DescriptionStyleModel",
      "state": {
       "description_width": "initial"
      }
     },
     "29fe022ed46b4882ad26dd93436a7247": {
      "model_module": "@jupyter-widgets/controls",
      "model_module_version": "1.2.0",
      "model_name": "CheckboxModel",
      "state": {
       "description": "lexikalische Ambiguität",
       "disabled": false,
       "layout": "IPY_MODEL_00a28834d525420693c41a7ed292e70d",
       "style": "IPY_MODEL_27c91ad978d145168d452b7ece927df4",
       "value": true
      }
     },
     "2a3955c1b29b401aabe80572a883cf36": {
      "model_module": "@jupyter-widgets/base",
      "model_module_version": "1.0.0",
      "model_name": "LayoutModel",
      "state": {}
     },
     "2bfb79c1ec3f4b65888399c4011eb34d": {
      "model_module": "@jupyter-widgets/controls",
      "model_module_version": "1.2.0",
      "model_name": "DescriptionStyleModel",
      "state": {
       "description_width": "initial"
      }
     },
     "2c2282f09a144178aeb2d498a287c82e": {
      "model_module": "@jupyter-widgets/controls",
      "model_module_version": "1.2.0",
      "model_name": "ButtonModel",
      "state": {
       "description": "Korrekt?",
       "layout": "IPY_MODEL_816e8e4d4c98426299dac257aaf3c82e",
       "style": "IPY_MODEL_d24dc925c98542f4b29db001e249008a"
      }
     },
     "317bb62db47f478ba26773dec096709c": {
      "model_module": "@jupyter-widgets/base",
      "model_module_version": "1.0.0",
      "model_name": "LayoutModel",
      "state": {
       "width": "600px"
      }
     },
     "37a4c64d0c124dc0b486458ed08ae526": {
      "model_module": "@jupyter-widgets/controls",
      "model_module_version": "1.2.0",
      "model_name": "DescriptionStyleModel",
      "state": {
       "description_width": "initial"
      }
     },
     "3ada21689a7047368d90f78e5c621b70": {
      "model_module": "@jupyter-widgets/controls",
      "model_module_version": "1.2.0",
      "model_name": "DescriptionStyleModel",
      "state": {
       "description_width": ""
      }
     },
     "496679214f2647cf9d5b3081e0d1c77d": {
      "model_module": "@jupyter-widgets/controls",
      "model_module_version": "1.2.0",
      "model_name": "CheckboxModel",
      "state": {
       "description": "längere Sätze",
       "disabled": false,
       "layout": "IPY_MODEL_ee1fff3cb0c84054baffc423a992a930",
       "style": "IPY_MODEL_1b22eac102cc40d79b7f6ca36e380bd7",
       "value": true
      }
     },
     "4c47368c37334873bf6b5b8ba5d4cedc": {
      "model_module": "@jupyter-widgets/base",
      "model_module_version": "1.0.0",
      "model_name": "LayoutModel",
      "state": {}
     },
     "4d0970a0d02647f380f393b3fb4cbfb7": {
      "model_module": "@jupyter-widgets/controls",
      "model_module_version": "1.2.0",
      "model_name": "DescriptionStyleModel",
      "state": {
       "description_width": "initial"
      }
     },
     "50f44cf81da94085b80c394429f161f2": {
      "model_module": "@jupyter-widgets/controls",
      "model_module_version": "1.2.0",
      "model_name": "VBoxModel",
      "state": {
       "children": [
        "IPY_MODEL_6c2e4649234844b481762cfba5645278",
        "IPY_MODEL_84faf32b187c4af88c81f5f9dca785b8",
        "IPY_MODEL_98ff6fe8e33d43f6afe0573f3f08168a",
        "IPY_MODEL_75f8547e7a954fa4a04c3a334295cac3"
       ],
       "layout": "IPY_MODEL_2a3955c1b29b401aabe80572a883cf36"
      }
     },
     "518b4201246b4151a465cc7085798c38": {
      "model_module": "@jupyter-widgets/controls",
      "model_module_version": "1.2.0",
      "model_name": "DescriptionStyleModel",
      "state": {
       "description_width": "initial"
      }
     },
     "51aa73b0fc9041c988ab01d1cc19c8ae": {
      "model_module": "@jupyter-widgets/base",
      "model_module_version": "1.0.0",
      "model_name": "LayoutModel",
      "state": {
       "justify_content": "center"
      }
     },
     "5867875a35d242edbdb82c1cf2c77ca7": {
      "model_module": "@jupyter-widgets/base",
      "model_module_version": "1.0.0",
      "model_name": "LayoutModel",
      "state": {}
     },
     "58f400baf8e640d0b7dba46b1e115d17": {
      "model_module": "@jupyter-widgets/controls",
      "model_module_version": "1.2.0",
      "model_name": "DescriptionStyleModel",
      "state": {
       "description_width": ""
      }
     },
     "5a03dafad4e34a4787e9c84ac71e1be3": {
      "model_module": "@jupyter-widgets/controls",
      "model_module_version": "1.2.0",
      "model_name": "CheckboxModel",
      "state": {
       "description": "Die Summe aller Regelwahrscheinlichkeiten innerhalb einer Grammatik ist 1.",
       "disabled": false,
       "layout": "IPY_MODEL_8294aea3747d420eb1939a86a61410c1",
       "style": "IPY_MODEL_647bad22e71b426e9b8f33efbd539f94",
       "value": false
      }
     },
     "5c1c74fef3524237b6c29037eb4bf916": {
      "model_module": "@jupyter-widgets/base",
      "model_module_version": "1.0.0",
      "model_name": "LayoutModel",
      "state": {}
     },
     "5e34356a7b704cde9f48562d901f5c28": {
      "model_module": "@jupyter-widgets/base",
      "model_module_version": "1.0.0",
      "model_name": "LayoutModel",
      "state": {
       "width": "600px"
      }
     },
     "61e95e73c9c24e97aef7a6ef7fba165c": {
      "model_module": "@jupyter-widgets/base",
      "model_module_version": "1.0.0",
      "model_name": "LayoutModel",
      "state": {
       "width": "600px"
      }
     },
     "647bad22e71b426e9b8f33efbd539f94": {
      "model_module": "@jupyter-widgets/controls",
      "model_module_version": "1.2.0",
      "model_name": "DescriptionStyleModel",
      "state": {
       "description_width": "initial"
      }
     },
     "68b7907cd06a480183c7d3ab13235924": {
      "model_module": "@jupyter-widgets/base",
      "model_module_version": "1.0.0",
      "model_name": "LayoutModel",
      "state": {
       "width": "600px"
      }
     },
     "6c2e4649234844b481762cfba5645278": {
      "model_module": "@jupyter-widgets/controls",
      "model_module_version": "1.2.0",
      "model_name": "HTMLModel",
      "state": {
       "layout": "IPY_MODEL_eebc911b190146779353295e63423cd0",
       "style": "IPY_MODEL_58f400baf8e640d0b7dba46b1e115d17",
       "value": "<h4 style=\"font-size:14px;\">Welche der folgenden Bedingungen wird an eine PCFG gestellt?</h4>"
      }
     },
     "73d7b0cfef2142e68d5fd8188c76344b": {
      "model_module": "@jupyter-widgets/controls",
      "model_module_version": "1.2.0",
      "model_name": "HTMLModel",
      "state": {
       "layout": "IPY_MODEL_fa06a837906f42c1b819ac0279826d5d",
       "style": "IPY_MODEL_a03c984152a647b5928ab85bfe16ef9f",
       "value": "<i>Wählen Sie die zwei korrekten Antworten aus.</i>"
      }
     },
     "75e815ad07a84c6685934e51918121f7": {
      "model_module": "@jupyter-widgets/controls",
      "model_module_version": "1.2.0",
      "model_name": "VBoxModel",
      "state": {
       "children": [
        "IPY_MODEL_7a5100e271ed403aab5421dbd7c96ba8",
        "IPY_MODEL_051fe1217ef542eb9968f91755f5e74f",
        "IPY_MODEL_f4fd835a2b094b0181c496afe193a1b0",
        "IPY_MODEL_2c2282f09a144178aeb2d498a287c82e"
       ],
       "layout": "IPY_MODEL_0e720ed767994067ac5a147d36a0f572"
      }
     },
     "75f8547e7a954fa4a04c3a334295cac3": {
      "model_module": "@jupyter-widgets/controls",
      "model_module_version": "1.2.0",
      "model_name": "ButtonModel",
      "state": {
       "description": "Korrekt?",
       "layout": "IPY_MODEL_fc71967223ed427d97d551004f06afb9",
       "style": "IPY_MODEL_bd98fb17e7454193bc2cda57cf29a608"
      }
     },
     "77f58a12a47b40e090b691b452b45476": {
      "model_module": "@jupyter-widgets/controls",
      "model_module_version": "1.2.0",
      "model_name": "DescriptionStyleModel",
      "state": {
       "description_width": "initial"
      }
     },
     "7a5100e271ed403aab5421dbd7c96ba8": {
      "model_module": "@jupyter-widgets/controls",
      "model_module_version": "1.2.0",
      "model_name": "HTMLModel",
      "state": {
       "layout": "IPY_MODEL_5c1c74fef3524237b6c29037eb4bf916",
       "style": "IPY_MODEL_a5c7e2ec00584ac2a407946816bc3aab",
       "value": "<h4 style=\"font-size:14px;\">Welche zwei Arten von Ambiguität unterscheidet man hier?</h4>"
      }
     },
     "816e8e4d4c98426299dac257aaf3c82e": {
      "model_module": "@jupyter-widgets/base",
      "model_module_version": "1.0.0",
      "model_name": "LayoutModel",
      "state": {
       "width": "250px"
      }
     },
     "8294aea3747d420eb1939a86a61410c1": {
      "model_module": "@jupyter-widgets/base",
      "model_module_version": "1.0.0",
      "model_name": "LayoutModel",
      "state": {
       "width": "600px"
      }
     },
     "83fea4464b4a48588d3bff4818198d99": {
      "model_module": "@jupyter-widgets/controls",
      "model_module_version": "1.2.0",
      "model_name": "DescriptionStyleModel",
      "state": {
       "description_width": ""
      }
     },
     "84b63b40fc494b9b86f7adfba8be24e5": {
      "model_module": "@jupyter-widgets/controls",
      "model_module_version": "1.2.0",
      "model_name": "ButtonModel",
      "state": {
       "description": "Korrekt?",
       "layout": "IPY_MODEL_090b011fea2c484385f5f946e07b651c",
       "style": "IPY_MODEL_0090eda8a16c41c29054684d9197737d"
      }
     },
     "84faf32b187c4af88c81f5f9dca785b8": {
      "model_module": "@jupyter-widgets/controls",
      "model_module_version": "1.2.0",
      "model_name": "HTMLModel",
      "state": {
       "layout": "IPY_MODEL_51aa73b0fc9041c988ab01d1cc19c8ae",
       "style": "IPY_MODEL_a379133f03224a8da2adc3673b44df83",
       "value": "<i>Wählen Sie die <ins>eine</ins> korrekte Antwort aus: </i>"
      }
     },
     "853ebd2cd4de47b2bb29b9f315d8b415": {
      "model_module": "@jupyter-widgets/base",
      "model_module_version": "1.0.0",
      "model_name": "LayoutModel",
      "state": {}
     },
     "8e21891848174fe9a23f8c1dbd6938d3": {
      "model_module": "@jupyter-widgets/controls",
      "model_module_version": "1.2.0",
      "model_name": "VBoxModel",
      "state": {
       "children": [
        "IPY_MODEL_25f5d08fe50249ac86c9a66097de0eb2",
        "IPY_MODEL_d7f7938eb49a4a33a3b1cb87aac2023d",
        "IPY_MODEL_1ff33f286a854cc0afd295a68ae20112",
        "IPY_MODEL_c946fcf3162f405cab99d25d340067d3"
       ],
       "layout": "IPY_MODEL_5867875a35d242edbdb82c1cf2c77ca7"
      }
     },
     "90541c1d1a9b46548a01a0032f45bfe0": {
      "model_module": "@jupyter-widgets/controls",
      "model_module_version": "1.2.0",
      "model_name": "CheckboxModel",
      "state": {
       "description": "Bestimmung des wahrscheinlichsten Syntaxbaums",
       "disabled": false,
       "layout": "IPY_MODEL_eb80ed0f917f4909846f52fa19d28590",
       "style": "IPY_MODEL_4d0970a0d02647f380f393b3fb4cbfb7",
       "value": true
      }
     },
     "91769e1f119d404aa8d010ea8a91b8e1": {
      "model_module": "@jupyter-widgets/controls",
      "model_module_version": "1.2.0",
      "model_name": "CheckboxModel",
      "state": {
       "description": "Finden aller Konstituenten",
       "disabled": false,
       "layout": "IPY_MODEL_cdf8c52c878c425fb39be7e8e82e08cf",
       "style": "IPY_MODEL_518b4201246b4151a465cc7085798c38",
       "value": false
      }
     },
     "91b986860b7047ef9eb7c31d2cd9b6f7": {
      "model_module": "@jupyter-widgets/base",
      "model_module_version": "1.0.0",
      "model_name": "LayoutModel",
      "state": {
       "width": "600px"
      }
     },
     "9240793af5984b69a0a7b67e0b40c20d": {
      "model_module": "@jupyter-widgets/base",
      "model_module_version": "1.0.0",
      "model_name": "LayoutModel",
      "state": {}
     },
     "947dff11d6944e18a1131c8846f7b2f6": {
      "model_module": "@jupyter-widgets/controls",
      "model_module_version": "1.2.0",
      "model_name": "DescriptionStyleModel",
      "state": {
       "description_width": ""
      }
     },
     "9891ee112a024aa48956209d65cea74a": {
      "model_module": "@jupyter-widgets/base",
      "model_module_version": "1.0.0",
      "model_name": "LayoutModel",
      "state": {
       "width": "600px"
      }
     },
     "98ff6fe8e33d43f6afe0573f3f08168a": {
      "model_module": "@jupyter-widgets/controls",
      "model_module_version": "1.2.0",
      "model_name": "VBoxModel",
      "state": {
       "children": [
        "IPY_MODEL_e25aace26a7b4f5fa0fad235b083d175",
        "IPY_MODEL_2482b871aacd48a7ad11dbf8af21fd0d",
        "IPY_MODEL_5a03dafad4e34a4787e9c84ac71e1be3"
       ],
       "layout": "IPY_MODEL_de31a70a4bc441988a2d251d186febe0"
      }
     },
     "9fc49f3cc0b040819c230daa7441b833": {
      "model_module": "@jupyter-widgets/base",
      "model_module_version": "1.0.0",
      "model_name": "LayoutModel",
      "state": {
       "width": "250px"
      }
     },
     "a03c984152a647b5928ab85bfe16ef9f": {
      "model_module": "@jupyter-widgets/controls",
      "model_module_version": "1.2.0",
      "model_name": "DescriptionStyleModel",
      "state": {
       "description_width": ""
      }
     },
     "a2d734bf9d894d8cb2372493a4309e01": {
      "model_module": "@jupyter-widgets/base",
      "model_module_version": "1.0.0",
      "model_name": "LayoutModel",
      "state": {}
     },
     "a379133f03224a8da2adc3673b44df83": {
      "model_module": "@jupyter-widgets/controls",
      "model_module_version": "1.2.0",
      "model_name": "DescriptionStyleModel",
      "state": {
       "description_width": ""
      }
     },
     "a5c7e2ec00584ac2a407946816bc3aab": {
      "model_module": "@jupyter-widgets/controls",
      "model_module_version": "1.2.0",
      "model_name": "DescriptionStyleModel",
      "state": {
       "description_width": ""
      }
     },
     "b9011c478e2e4b61b79a1f250db2585f": {
      "model_module": "@jupyter-widgets/controls",
      "model_module_version": "1.2.0",
      "model_name": "CheckboxModel",
      "state": {
       "description": "Koordinierungsambigutiät",
       "disabled": false,
       "layout": "IPY_MODEL_68b7907cd06a480183c7d3ab13235924",
       "style": "IPY_MODEL_cf0884b21e50435d9b449b60ba1a5c76",
       "value": false
      }
     },
     "ba9bc0b1f9924c09b6561da53dd51954": {
      "model_module": "@jupyter-widgets/controls",
      "model_module_version": "1.2.0",
      "model_name": "DescriptionStyleModel",
      "state": {
       "description_width": "initial"
      }
     },
     "bbc5a8b0de4b49b5aa49b72c2a1c7725": {
      "model_module": "@jupyter-widgets/base",
      "model_module_version": "1.0.0",
      "model_name": "LayoutModel",
      "state": {
       "width": "600px"
      }
     },
     "bd98fb17e7454193bc2cda57cf29a608": {
      "model_module": "@jupyter-widgets/controls",
      "model_module_version": "1.2.0",
      "model_name": "ButtonStyleModel",
      "state": {
       "button_color": "lightgreen"
      }
     },
     "c0df8cf627f6433db9fdd619071e2e2b": {
      "model_module": "@jupyter-widgets/base",
      "model_module_version": "1.0.0",
      "model_name": "LayoutModel",
      "state": {
       "justify_content": "center"
      }
     },
     "c5052d52d33148bd9345fb6566097af0": {
      "model_module": "@jupyter-widgets/controls",
      "model_module_version": "1.2.0",
      "model_name": "DescriptionStyleModel",
      "state": {
       "description_width": "initial"
      }
     },
     "c946fcf3162f405cab99d25d340067d3": {
      "model_module": "@jupyter-widgets/controls",
      "model_module_version": "1.2.0",
      "model_name": "ButtonModel",
      "state": {
       "description": "Korrekt?",
       "layout": "IPY_MODEL_9fc49f3cc0b040819c230daa7441b833",
       "style": "IPY_MODEL_0e4e72b3fa984ea4a5c21abd219b8cf0"
      }
     },
     "cc85274a288949f9bc66748d839fb93f": {
      "model_module": "@jupyter-widgets/controls",
      "model_module_version": "1.2.0",
      "model_name": "CheckboxModel",
      "state": {
       "description": "kürzere Sätze",
       "disabled": false,
       "layout": "IPY_MODEL_9891ee112a024aa48956209d65cea74a",
       "style": "IPY_MODEL_083925646b9a49538b30c1542c7748f3",
       "value": false
      }
     },
     "cc9280197c5c4e9aba92bb938357a426": {
      "model_module": "@jupyter-widgets/base",
      "model_module_version": "1.0.0",
      "model_name": "LayoutModel",
      "state": {}
     },
     "cd7e9224a97c4759bdfa39129234b44c": {
      "model_module": "@jupyter-widgets/controls",
      "model_module_version": "1.2.0",
      "model_name": "CheckboxModel",
      "state": {
       "description": "Zunahme der Anzahl von Regeln",
       "disabled": false,
       "layout": "IPY_MODEL_61e95e73c9c24e97aef7a6ef7fba165c",
       "style": "IPY_MODEL_c5052d52d33148bd9345fb6566097af0",
       "value": true
      }
     },
     "cd964d1018664fa8b6d5c58258790e1c": {
      "model_module": "@jupyter-widgets/base",
      "model_module_version": "1.0.0",
      "model_name": "LayoutModel",
      "state": {}
     },
     "cdf8c52c878c425fb39be7e8e82e08cf": {
      "model_module": "@jupyter-widgets/base",
      "model_module_version": "1.0.0",
      "model_name": "LayoutModel",
      "state": {
       "width": "600px"
      }
     },
     "cf0884b21e50435d9b449b60ba1a5c76": {
      "model_module": "@jupyter-widgets/controls",
      "model_module_version": "1.2.0",
      "model_name": "DescriptionStyleModel",
      "state": {
       "description_width": "initial"
      }
     },
     "d1b59a1bf95c43268df6604f85ecb27e": {
      "model_module": "@jupyter-widgets/controls",
      "model_module_version": "1.2.0",
      "model_name": "CheckboxModel",
      "state": {
       "description": "Bestimmung der Köpfe und Dependenzrelationen",
       "disabled": false,
       "layout": "IPY_MODEL_5e34356a7b704cde9f48562d901f5c28",
       "style": "IPY_MODEL_ba9bc0b1f9924c09b6561da53dd51954",
       "value": false
      }
     },
     "d24dc925c98542f4b29db001e249008a": {
      "model_module": "@jupyter-widgets/controls",
      "model_module_version": "1.2.0",
      "model_name": "ButtonStyleModel",
      "state": {
       "button_color": "lightgreen"
      }
     },
     "d6e072fb4f2d435fb13f437d6255077e": {
      "model_module": "@jupyter-widgets/controls",
      "model_module_version": "1.2.0",
      "model_name": "DescriptionStyleModel",
      "state": {
       "description_width": "initial"
      }
     },
     "d77d33aa03a34872bbbd38350abd309d": {
      "model_module": "@jupyter-widgets/controls",
      "model_module_version": "1.2.0",
      "model_name": "CheckboxModel",
      "state": {
       "description": "strukturelle Ambiguität",
       "disabled": false,
       "layout": "IPY_MODEL_ff0ed87fb56f425991b9a057117b258d",
       "style": "IPY_MODEL_77f58a12a47b40e090b691b452b45476",
       "value": true
      }
     },
     "d7f7938eb49a4a33a3b1cb87aac2023d": {
      "model_module": "@jupyter-widgets/controls",
      "model_module_version": "1.2.0",
      "model_name": "HTMLModel",
      "state": {
       "layout": "IPY_MODEL_fc7001ea71dd4f9da7b89c5f10146ad8",
       "style": "IPY_MODEL_05538a03434b412aaaab7b9eb2e1429b",
       "value": "<i>Wählen Sie die <ins>eine</ins> korrekte Antwort aus: </i>"
      }
     },
     "de31a70a4bc441988a2d251d186febe0": {
      "model_module": "@jupyter-widgets/base",
      "model_module_version": "1.0.0",
      "model_name": "LayoutModel",
      "state": {}
     },
     "dec08684e6754551a778058fa6581a10": {
      "model_module": "@jupyter-widgets/controls",
      "model_module_version": "1.2.0",
      "model_name": "HTMLModel",
      "state": {
       "layout": "IPY_MODEL_4c47368c37334873bf6b5b8ba5d4cedc",
       "style": "IPY_MODEL_3ada21689a7047368d90f78e5c621b70",
       "value": "<h4 style=\"font-size:14px;\">Welche zwei Faktoren führen bei der syntaktischen Analyse natürlicher Sprache mittels formaler Grammatiken zu mehr Ambiguität (Anzahl an Ableitungen)?</h4>"
      }
     },
     "e25aace26a7b4f5fa0fad235b083d175": {
      "model_module": "@jupyter-widgets/controls",
      "model_module_version": "1.2.0",
      "model_name": "CheckboxModel",
      "state": {
       "description": "Die Summe aller Regelwahrscheinlichkeiten für jede LHS ist jeweils 1.",
       "disabled": false,
       "layout": "IPY_MODEL_317bb62db47f478ba26773dec096709c",
       "style": "IPY_MODEL_2bfb79c1ec3f4b65888399c4011eb34d",
       "value": true
      }
     },
     "eb80ed0f917f4909846f52fa19d28590": {
      "model_module": "@jupyter-widgets/base",
      "model_module_version": "1.0.0",
      "model_name": "LayoutModel",
      "state": {
       "width": "600px"
      }
     },
     "ee1fff3cb0c84054baffc423a992a930": {
      "model_module": "@jupyter-widgets/base",
      "model_module_version": "1.0.0",
      "model_name": "LayoutModel",
      "state": {
       "width": "600px"
      }
     },
     "eebc911b190146779353295e63423cd0": {
      "model_module": "@jupyter-widgets/base",
      "model_module_version": "1.0.0",
      "model_name": "LayoutModel",
      "state": {}
     },
     "f2182b2c28b74cdf90d601cfb870e6db": {
      "model_module": "@jupyter-widgets/base",
      "model_module_version": "1.0.0",
      "model_name": "LayoutModel",
      "state": {
       "width": "600px"
      }
     },
     "f4fd835a2b094b0181c496afe193a1b0": {
      "model_module": "@jupyter-widgets/controls",
      "model_module_version": "1.2.0",
      "model_name": "VBoxModel",
      "state": {
       "children": [
        "IPY_MODEL_1a12488fe9054261a014416ed1ac20cb",
        "IPY_MODEL_b9011c478e2e4b61b79a1f250db2585f",
        "IPY_MODEL_29fe022ed46b4882ad26dd93436a7247",
        "IPY_MODEL_d77d33aa03a34872bbbd38350abd309d"
       ],
       "layout": "IPY_MODEL_cc9280197c5c4e9aba92bb938357a426"
      }
     },
     "fa06a837906f42c1b819ac0279826d5d": {
      "model_module": "@jupyter-widgets/base",
      "model_module_version": "1.0.0",
      "model_name": "LayoutModel",
      "state": {
       "justify_content": "center"
      }
     },
     "fc7001ea71dd4f9da7b89c5f10146ad8": {
      "model_module": "@jupyter-widgets/base",
      "model_module_version": "1.0.0",
      "model_name": "LayoutModel",
      "state": {
       "justify_content": "center"
      }
     },
     "fc71967223ed427d97d551004f06afb9": {
      "model_module": "@jupyter-widgets/base",
      "model_module_version": "1.0.0",
      "model_name": "LayoutModel",
      "state": {
       "width": "250px"
      }
     },
     "fdb7c82e58054d5587b4a5b58ae8ac8e": {
      "model_module": "@jupyter-widgets/controls",
      "model_module_version": "1.2.0",
      "model_name": "DescriptionStyleModel",
      "state": {
       "description_width": "initial"
      }
     },
     "ff0ed87fb56f425991b9a057117b258d": {
      "model_module": "@jupyter-widgets/base",
      "model_module_version": "1.0.0",
      "model_name": "LayoutModel",
      "state": {
       "width": "600px"
      }
     }
    },
    "version_major": 2,
    "version_minor": 0
   }
  }
 },
 "nbformat": 4,
 "nbformat_minor": 2
}
