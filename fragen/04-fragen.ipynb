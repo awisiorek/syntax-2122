{
 "cells": [
  {
   "cell_type": "markdown",
   "metadata": {},
   "source": [
    "***Syntax natürlicher Sprachen, WS 2021/22***\n",
    "\n",
    "---\n",
    "# Wiederholungsfragen 4"
   ]
  },
  {
   "cell_type": "code",
   "execution_count": 3,
   "metadata": {},
   "outputs": [],
   "source": [
    "from exercises_4 import *\n",
    "from questions import aufgabe"
   ]
  },
  {
   "cell_type": "markdown",
   "metadata": {},
   "source": [
    "--- \n",
    "# Hausaufgaben"
   ]
  },
  {
   "cell_type": "markdown",
   "metadata": {},
   "source": [
    "---\n",
    "## Aufgabe 1: Fragen zu NLTK-Kapitel 8.3\n",
    "\n",
    "#### Lesen Sie das NLTK-Teilkapitel 8.3 (’Context Free Grammar’): http://www.nltk.org/book/ch08.html.\n",
    "\n",
    "#### Beantworten Sie insbesondere folgende Fragen:"
   ]
  },
  {
   "cell_type": "markdown",
   "metadata": {},
   "source": [
    "---\n",
    "### Aufgabe 1 a:"
   ]
  },
  {
   "cell_type": "code",
   "execution_count": 4,
   "metadata": {},
   "outputs": [
    {
     "data": {
      "application/vnd.jupyter.widget-view+json": {
       "model_id": "8cd6ed706ca0495c8ca8ea23d2ed728d",
       "version_major": 2,
       "version_minor": 0
      },
      "text/plain": [
       "MultipleChoice(children=(HTML(value='<h4 style=\"font-size:14px;\">Wie ist im NLTK vorzugehen, wenn ein (wohlgef…"
      ]
     },
     "metadata": {},
     "output_type": "display_data"
    }
   ],
   "source": [
    "aufgabe(blatt4_1a)"
   ]
  },
  {
   "cell_type": "markdown",
   "metadata": {},
   "source": [
    "---\n",
    "### Aufgabe 1 b:"
   ]
  },
  {
   "cell_type": "code",
   "execution_count": 5,
   "metadata": {},
   "outputs": [
    {
     "data": {
      "application/vnd.jupyter.widget-view+json": {
       "model_id": "f7c7fdb337ac48feb63fda966f25d570",
       "version_major": 2,
       "version_minor": 0
      },
      "text/plain": [
       "OpenTextfield(children=(HTML(value='<h4 style=\"font-size:14px;\">Wie können im NLTK die Regeln einer Grammatik …"
      ]
     },
     "metadata": {},
     "output_type": "display_data"
    }
   ],
   "source": [
    "aufgabe(blatt4_1b)"
   ]
  },
  {
   "cell_type": "markdown",
   "metadata": {},
   "source": [
    "---\n",
    "### Aufgabe 1 c:\n",
    "\n",
    "#### Geben Sie 2 NP-Phrasenstrukturregeln mit indirekter Rekursion an und beantworten Sie danach die folgende Frage!"
   ]
  },
  {
   "cell_type": "code",
   "execution_count": 6,
   "metadata": {},
   "outputs": [
    {
     "data": {
      "application/vnd.jupyter.widget-view+json": {
       "model_id": "17aad7e022f64d3883048b34af09f76b",
       "version_major": 2,
       "version_minor": 0
      },
      "text/plain": [
       "MultipleChoice(children=(HTML(value='<h4 style=\"font-size:14px;\">Welche Beispiele zeigen direkte Rekursion?</h…"
      ]
     },
     "metadata": {},
     "output_type": "display_data"
    }
   ],
   "source": [
    "aufgabe(blatt4_1c)"
   ]
  },
  {
   "cell_type": "markdown",
   "metadata": {},
   "source": [
    "---\n",
    "### Aufgabe 1 d:\n",
    "\n",
    "#### Geben Sie ein Beispiel für eine links- sowie eine rechtsrekursive NP-Phrasenstrukturregel an.\n",
    "\n",
    "#### Beantworten Sie auch die folgenden Fragen:"
   ]
  },
  {
   "cell_type": "code",
   "execution_count": 7,
   "metadata": {},
   "outputs": [
    {
     "data": {
      "application/vnd.jupyter.widget-view+json": {
       "model_id": "6898102e2d7d4db0814124734199fab0",
       "version_major": 2,
       "version_minor": 0
      },
      "text/plain": [
       "MultipleChoice(children=(HTML(value='<h4 style=\"font-size:14px;\">Welche Beispiele für Phrasenstrukturregeln si…"
      ]
     },
     "metadata": {},
     "output_type": "display_data"
    },
    {
     "data": {
      "application/vnd.jupyter.widget-view+json": {
       "model_id": "aa0ac755226940a699180bc1bd2d563a",
       "version_major": 2,
       "version_minor": 0
      },
      "text/plain": [
       "MultipleChoice(children=(HTML(value='<h4 style=\"font-size:14px;\">Welche Beispiele sind rechtsrekursiv?</h4>'),…"
      ]
     },
     "metadata": {},
     "output_type": "display_data"
    }
   ],
   "source": [
    "aufgabe(blatt4_1d)"
   ]
  }
 ],
 "metadata": {
  "kernelspec": {
   "display_name": "Python 3",
   "language": "python",
   "name": "python3"
  },
  "language_info": {
   "codemirror_mode": {
    "name": "ipython",
    "version": 3
   },
   "file_extension": ".py",
   "mimetype": "text/x-python",
   "name": "python",
   "nbconvert_exporter": "python",
   "pygments_lexer": "ipython3",
   "version": "3.6.1"
  },
  "widgets": {
   "application/vnd.jupyter.widget-state+json": {
    "state": {
     "001b1595014b41d4ab08c29770137b81": {
      "model_module": "@jupyter-widgets/base",
      "model_module_version": "1.0.0",
      "model_name": "LayoutModel",
      "state": {
       "width": "600px"
      }
     },
     "00e4957651004914840d3836353a5523": {
      "model_module": "@jupyter-widgets/base",
      "model_module_version": "1.0.0",
      "model_name": "LayoutModel",
      "state": {
       "width": "600px"
      }
     },
     "00eb9be41ffe423a8388d7cd464329b8": {
      "model_module": "@jupyter-widgets/controls",
      "model_module_version": "1.2.0",
      "model_name": "TextareaModel",
      "state": {
       "layout": "IPY_MODEL_36e24180e95744fe9894238074405a13",
       "placeholder": "Type something",
       "style": "IPY_MODEL_7614fea1d3434a269d6d0cd1913c6bad",
       "value": "for p in grammar1.________(): _______(p)"
      }
     },
     "0573d9663216457ba67e43f83c8bbc2b": {
      "model_module": "@jupyter-widgets/controls",
      "model_module_version": "1.2.0",
      "model_name": "DescriptionStyleModel",
      "state": {
       "description_width": ""
      }
     },
     "061b8c2e7ae54a29985f0f774e2b50e2": {
      "model_module": "@jupyter-widgets/controls",
      "model_module_version": "1.2.0",
      "model_name": "DescriptionStyleModel",
      "state": {
       "description_width": "initial"
      }
     },
     "0697c7a0ed3342feaabfa84917f87dde": {
      "model_module": "@jupyter-widgets/controls",
      "model_module_version": "1.2.0",
      "model_name": "DescriptionStyleModel",
      "state": {
       "description_width": "initial"
      }
     },
     "08df19b9f83442ca9e61a6c420655614": {
      "model_module": "@jupyter-widgets/controls",
      "model_module_version": "1.2.0",
      "model_name": "DescriptionStyleModel",
      "state": {
       "description_width": "initial"
      }
     },
     "0a62f9f378a74fdf8f6923c2c8636ba3": {
      "model_module": "@jupyter-widgets/controls",
      "model_module_version": "1.2.0",
      "model_name": "DescriptionStyleModel",
      "state": {
       "description_width": "initial"
      }
     },
     "0c14c7c2ffd44a669c50e7f38daeeb7b": {
      "model_module": "@jupyter-widgets/base",
      "model_module_version": "1.0.0",
      "model_name": "LayoutModel",
      "state": {
       "justify_content": "center"
      }
     },
     "0f7b16451c7a4da8a940d419842909ff": {
      "model_module": "@jupyter-widgets/base",
      "model_module_version": "1.0.0",
      "model_name": "LayoutModel",
      "state": {
       "width": "600px"
      }
     },
     "0fa4a0bd98f34a178caaecb775f9a9b0": {
      "model_module": "@jupyter-widgets/controls",
      "model_module_version": "1.2.0",
      "model_name": "VBoxModel",
      "state": {
       "children": [
        "IPY_MODEL_71a8746d9fd14a5ea50bc1ecc04f9cd7",
        "IPY_MODEL_3bdcc427c88340b9beba752ab6eec895",
        "IPY_MODEL_ddd1bee640334632ab353bd73f617c61"
       ],
       "layout": "IPY_MODEL_9f16adc352a34d99aeaa875b6b555aae"
      }
     },
     "100e2ffc8c954f9fb6a3cc8d903ad79f": {
      "model_module": "@jupyter-widgets/base",
      "model_module_version": "1.0.0",
      "model_name": "LayoutModel",
      "state": {
       "justify_content": "center"
      }
     },
     "147179ef82c34813bb25204d3bea2763": {
      "model_module": "@jupyter-widgets/controls",
      "model_module_version": "1.2.0",
      "model_name": "DescriptionStyleModel",
      "state": {
       "description_width": ""
      }
     },
     "167b5d6e00ce4b8b9c0b945a5ec8dff1": {
      "model_module": "@jupyter-widgets/base",
      "model_module_version": "1.0.0",
      "model_name": "LayoutModel",
      "state": {}
     },
     "17297b2f6a5043c2baed8ab64e9884c6": {
      "model_module": "@jupyter-widgets/base",
      "model_module_version": "1.0.0",
      "model_name": "LayoutModel",
      "state": {}
     },
     "17aad7e022f64d3883048b34af09f76b": {
      "model_module": "@jupyter-widgets/controls",
      "model_module_version": "1.2.0",
      "model_name": "VBoxModel",
      "state": {
       "children": [
        "IPY_MODEL_aa7bc7a7a1ac45db8796fa4b245bcd5d",
        "IPY_MODEL_b878ff673fac47c3bfbbc2b386f15f07",
        "IPY_MODEL_c260bc26bbaa4415949e65dd8d7736d1",
        "IPY_MODEL_8e6bc4ec339e4f4982183697f0986691"
       ],
       "layout": "IPY_MODEL_de4eaf4914d04c8a8d573e2d943c22d1"
      }
     },
     "19690bffd8cb48f1aa760c3367980ec3": {
      "model_module": "@jupyter-widgets/controls",
      "model_module_version": "1.2.0",
      "model_name": "DescriptionStyleModel",
      "state": {
       "description_width": ""
      }
     },
     "1a378f5e923344d1bb987aa5bad9254c": {
      "model_module": "@jupyter-widgets/controls",
      "model_module_version": "1.2.0",
      "model_name": "VBoxModel",
      "state": {
       "children": [
        "IPY_MODEL_c94bcdae920d4b359709d160e8f0e8c4",
        "IPY_MODEL_9de18f630831423ca93da73e30704097",
        "IPY_MODEL_7707c6a10e834621824d2e5f9a8e484c",
        "IPY_MODEL_7f98e224040a4977abbb4bf6bd400c4b"
       ],
       "layout": "IPY_MODEL_17297b2f6a5043c2baed8ab64e9884c6"
      }
     },
     "1ba036a29d9d422cbf9224e10715edb2": {
      "model_module": "@jupyter-widgets/base",
      "model_module_version": "1.0.0",
      "model_name": "LayoutModel",
      "state": {}
     },
     "1ea1fde16e5a4d4cacf1e1240ab0bef2": {
      "model_module": "@jupyter-widgets/controls",
      "model_module_version": "1.2.0",
      "model_name": "DescriptionStyleModel",
      "state": {
       "description_width": ""
      }
     },
     "1ef5922219c2469b87cd9db70c976ec1": {
      "model_module": "@jupyter-widgets/controls",
      "model_module_version": "1.2.0",
      "model_name": "DescriptionStyleModel",
      "state": {
       "description_width": ""
      }
     },
     "20e36b50781744d4a4ca634149e7b6b8": {
      "model_module": "@jupyter-widgets/controls",
      "model_module_version": "1.2.0",
      "model_name": "VBoxModel",
      "state": {
       "children": [
        "IPY_MODEL_635d351ed03c4757b297f4b82fbd0afe",
        "IPY_MODEL_e1fe629b12a14539bd07fc7668efd241",
        "IPY_MODEL_770380604d9f4d05a3e11ada2d5191a5",
        "IPY_MODEL_47eaed6837b542cea072c0314ed6cf0b"
       ],
       "layout": "IPY_MODEL_1ba036a29d9d422cbf9224e10715edb2"
      }
     },
     "2308a99fb49d4dafabf5b89254139879": {
      "model_module": "@jupyter-widgets/controls",
      "model_module_version": "1.2.0",
      "model_name": "DescriptionStyleModel",
      "state": {
       "description_width": "initial"
      }
     },
     "23b5dd8679074fa8a2faff014a24bb3a": {
      "model_module": "@jupyter-widgets/controls",
      "model_module_version": "1.2.0",
      "model_name": "HTMLModel",
      "state": {
       "layout": "IPY_MODEL_b4ff8be189304c5c89639b1616d7d318",
       "style": "IPY_MODEL_e8bedde81ea04fa5a34fe9f55d73ca06",
       "value": "<h4 style=\"font-size:14px;\">Wie ist im NLTK vorzugehen, wenn ein (wohlgeformter) Satz von einer Grammatik nicht erkannt wird?</h4>"
      }
     },
     "24a5b1d06b28462592634985836220e3": {
      "model_module": "@jupyter-widgets/controls",
      "model_module_version": "1.2.0",
      "model_name": "HBoxModel",
      "state": {
       "children": [
        "IPY_MODEL_93331ebe86f445f892f5dd879ce8270d",
        "IPY_MODEL_df2b468242874c119e7a75362efb9216"
       ],
       "layout": "IPY_MODEL_efc8d0fa4eca4734bb2cec43c14b3020"
      }
     },
     "2547537d86fa413eb8f9a114399945e6": {
      "model_module": "@jupyter-widgets/base",
      "model_module_version": "1.0.0",
      "model_name": "LayoutModel",
      "state": {}
     },
     "256fbae5726e44d4abcc40d73ada3c0c": {
      "model_module": "@jupyter-widgets/controls",
      "model_module_version": "1.2.0",
      "model_name": "DescriptionStyleModel",
      "state": {
       "description_width": ""
      }
     },
     "266e239e2cef434d8e6dfa80de229e41": {
      "model_module": "@jupyter-widgets/controls",
      "model_module_version": "1.2.0",
      "model_name": "DescriptionStyleModel",
      "state": {
       "description_width": "initial"
      }
     },
     "26c21909d90d4c13ba1603d33ed76856": {
      "model_module": "@jupyter-widgets/base",
      "model_module_version": "1.0.0",
      "model_name": "LayoutModel",
      "state": {}
     },
     "271bf387d1dc499184e376b5942aa8a0": {
      "model_module": "@jupyter-widgets/controls",
      "model_module_version": "1.2.0",
      "model_name": "VBoxModel",
      "state": {
       "children": [
        "IPY_MODEL_50523b9b27344ebf9eb89606aff07608",
        "IPY_MODEL_445415ab63e44026bb1870abbd9ed185",
        "IPY_MODEL_7bc5aaea67f3407db651434cda1d4528"
       ],
       "layout": "IPY_MODEL_b40dc5a5c320407ba8684e190769e35d"
      }
     },
     "27c07ab2bc134a76a9e1b173460649f6": {
      "model_module": "@jupyter-widgets/controls",
      "model_module_version": "1.2.0",
      "model_name": "HTMLModel",
      "state": {
       "layout": "IPY_MODEL_f41e5a0e7d174897a8b32ab438c9dfe7",
       "style": "IPY_MODEL_57720592da43457fa71c420a6e44db14",
       "value": "<i>Wählen Sie die <ins>eine</ins> korrekte Antwort aus: </i>"
      }
     },
     "2827256a5d2f403caf5bd1a776755aa4": {
      "model_module": "@jupyter-widgets/base",
      "model_module_version": "1.0.0",
      "model_name": "LayoutModel",
      "state": {}
     },
     "2ae58d024b8245d0bc8dc8fd636ac814": {
      "model_module": "@jupyter-widgets/base",
      "model_module_version": "1.0.0",
      "model_name": "LayoutModel",
      "state": {
       "width": "600px"
      }
     },
     "2b3e386733284320a38da621e9977311": {
      "model_module": "@jupyter-widgets/base",
      "model_module_version": "1.0.0",
      "model_name": "LayoutModel",
      "state": {
       "width": "150px"
      }
     },
     "2c6904fee8284b79810499320639a96a": {
      "model_module": "@jupyter-widgets/base",
      "model_module_version": "1.0.0",
      "model_name": "LayoutModel",
      "state": {}
     },
     "2cae34cce5354059af9dc442c7bae30f": {
      "model_module": "@jupyter-widgets/controls",
      "model_module_version": "1.2.0",
      "model_name": "DescriptionStyleModel",
      "state": {
       "description_width": ""
      }
     },
     "2cd625948ac34c1fbf0b8acbdcdd4feb": {
      "model_module": "@jupyter-widgets/base",
      "model_module_version": "1.0.0",
      "model_name": "LayoutModel",
      "state": {
       "width": "600px"
      }
     },
     "2cef78228625419db72bfef0ffdc9a74": {
      "model_module": "@jupyter-widgets/controls",
      "model_module_version": "1.2.0",
      "model_name": "DescriptionStyleModel",
      "state": {
       "description_width": ""
      }
     },
     "2db23c8635ef4411a74d9daecc5353e8": {
      "model_module": "@jupyter-widgets/base",
      "model_module_version": "1.0.0",
      "model_name": "LayoutModel",
      "state": {
       "width": "600px"
      }
     },
     "307f8f41cb11446ebeb9a20ad71eb091": {
      "model_module": "@jupyter-widgets/controls",
      "model_module_version": "1.2.0",
      "model_name": "CheckboxModel",
      "state": {
       "description": "NOM -> ADJ NOM",
       "disabled": false,
       "layout": "IPY_MODEL_5ccbd409ffaf483db4e9892ff2e2dc8e",
       "style": "IPY_MODEL_68df65e86cf54261827efb852fddb1fe",
       "value": false
      }
     },
     "316dc68c34144413b85f3b67ccbf9f41": {
      "model_module": "@jupyter-widgets/base",
      "model_module_version": "1.0.0",
      "model_name": "LayoutModel",
      "state": {}
     },
     "317c4d931ecf46f9a459f14965336374": {
      "model_module": "@jupyter-widgets/controls",
      "model_module_version": "1.2.0",
      "model_name": "CheckboxModel",
      "state": {
       "description": "anderen Parser verwenden",
       "disabled": false,
       "layout": "IPY_MODEL_96957ab215e7429eb49812b0dcda38bd",
       "style": "IPY_MODEL_58948815eb95465ab919fb12fe75bca9",
       "value": false
      }
     },
     "32131b4376c84b0db01d264125d2417c": {
      "model_module": "@jupyter-widgets/base",
      "model_module_version": "1.0.0",
      "model_name": "LayoutModel",
      "state": {}
     },
     "321f3c6c804c420289d6aef5da03af1a": {
      "model_module": "@jupyter-widgets/controls",
      "model_module_version": "1.2.0",
      "model_name": "HTMLModel",
      "state": {
       "layout": "IPY_MODEL_100e2ffc8c954f9fb6a3cc8d903ad79f",
       "style": "IPY_MODEL_19690bffd8cb48f1aa760c3367980ec3",
       "value": "<i>Markieren Sie <ins>alle</ins> passenden Antworten: </i>"
      }
     },
     "3333a32336704e20b8d0bc39c40db5e2": {
      "model_module": "@jupyter-widgets/base",
      "model_module_version": "1.0.0",
      "model_name": "LayoutModel",
      "state": {}
     },
     "33a03329004b4f46a60170020778d132": {
      "model_module": "@jupyter-widgets/base",
      "model_module_version": "1.0.0",
      "model_name": "LayoutModel",
      "state": {}
     },
     "33a0c88ee18540bea6edf2fa15bd68dd": {
      "model_module": "@jupyter-widgets/controls",
      "model_module_version": "1.2.0",
      "model_name": "HTMLModel",
      "state": {
       "layout": "IPY_MODEL_167b5d6e00ce4b8b9c0b945a5ec8dff1",
       "style": "IPY_MODEL_fc6a0e3512b04113a4c1b750f5690128",
       "value": "<h4 style=\"font-size:14px;\">Welche Beispiele zeigen direkte Rekursion?</h4>"
      }
     },
     "3408fcb8e3d2401a8fb4aec71dc4f874": {
      "model_module": "@jupyter-widgets/base",
      "model_module_version": "1.0.0",
      "model_name": "LayoutModel",
      "state": {
       "width": "600px"
      }
     },
     "3537ba765a8d48b4946b101855f9497d": {
      "model_module": "@jupyter-widgets/controls",
      "model_module_version": "1.2.0",
      "model_name": "VBoxModel",
      "state": {
       "children": [
        "IPY_MODEL_def95c5d20da45e58691c1f028bf53da",
        "IPY_MODEL_919e2a21264344b29443b3899f806ff9",
        "IPY_MODEL_271bf387d1dc499184e376b5942aa8a0",
        "IPY_MODEL_ef218a6b84ab44cc89009ce4e397524c"
       ],
       "layout": "IPY_MODEL_4c309693dc8a4a6987fdf24b5d75d822"
      }
     },
     "3628eb7dd55b4b9a9a97634ec2435741": {
      "model_module": "@jupyter-widgets/controls",
      "model_module_version": "1.2.0",
      "model_name": "VBoxModel",
      "state": {
       "children": [
        "IPY_MODEL_e73f84780fcb4e339581030fb6549701",
        "IPY_MODEL_ee5ac263ad4a4435a40356b4ad3b134d",
        "IPY_MODEL_b945cc71f1b24300b7a008facdef4278"
       ],
       "layout": "IPY_MODEL_f0458c3fcf6b4d98a2db8e4bbdb1637c"
      }
     },
     "36873251a46c430ea39e6331440a8376": {
      "model_module": "@jupyter-widgets/controls",
      "model_module_version": "1.2.0",
      "model_name": "HTMLModel",
      "state": {
       "layout": "IPY_MODEL_7195864e1de843ccb23f2cb27c42d8c2",
       "style": "IPY_MODEL_f957dd04aa3448dc87fe362d60b11ea4",
       "value": "<i>Vervollständigen Sie die Listcomprehension, indem sie an den Stellen der Unterstriche die richtigen Funktionen einsetzen.</i>"
      }
     },
     "36e24180e95744fe9894238074405a13": {
      "model_module": "@jupyter-widgets/base",
      "model_module_version": "1.0.0",
      "model_name": "LayoutModel",
      "state": {
       "width": "500px"
      }
     },
     "37e7eea6b9004eb18c60295a2499d9b8": {
      "model_module": "@jupyter-widgets/base",
      "model_module_version": "1.0.0",
      "model_name": "LayoutModel",
      "state": {
       "width": "600px"
      }
     },
     "3981966fdad94b36a00699211d15c30a": {
      "model_module": "@jupyter-widgets/controls",
      "model_module_version": "1.2.0",
      "model_name": "DescriptionStyleModel",
      "state": {
       "description_width": ""
      }
     },
     "3b506f6dd1834aeaa0e3e1b9da82f88e": {
      "model_module": "@jupyter-widgets/controls",
      "model_module_version": "1.2.0",
      "model_name": "ButtonStyleModel",
      "state": {}
     },
     "3b590dda456c4846bd0de4bf31d8fece": {
      "model_module": "@jupyter-widgets/base",
      "model_module_version": "1.0.0",
      "model_name": "LayoutModel",
      "state": {
       "width": "600px"
      }
     },
     "3bdcc427c88340b9beba752ab6eec895": {
      "model_module": "@jupyter-widgets/controls",
      "model_module_version": "1.2.0",
      "model_name": "CheckboxModel",
      "state": {
       "description": "NOM -> NOM PP",
       "disabled": false,
       "layout": "IPY_MODEL_c6d96ab2ee1b4f6a8fff370761a3bad1",
       "style": "IPY_MODEL_7221fa580d774fada51eb6d3adf0c42d",
       "value": true
      }
     },
     "3c44261431cc4ad9937fac7265b6645e": {
      "model_module": "@jupyter-widgets/controls",
      "model_module_version": "1.2.0",
      "model_name": "DescriptionStyleModel",
      "state": {
       "description_width": "initial"
      }
     },
     "3db26b20e6f04620a1e551d20bdb5d54": {
      "model_module": "@jupyter-widgets/controls",
      "model_module_version": "1.2.0",
      "model_name": "VBoxModel",
      "state": {
       "children": [
        "IPY_MODEL_c8044eb1c5664aa9816b230b6720620b",
        "IPY_MODEL_c24703f2b1e74ba688a6ececa4eaca33",
        "IPY_MODEL_5b375ab03c8a4fa786c389020687cd29",
        "IPY_MODEL_a869a5d2c1044e8ca5a5651a9a7c7ba3"
       ],
       "layout": "IPY_MODEL_79275f363eec4150a16e6d870b30192d"
      }
     },
     "3dbb1a7faa454a168141607ae2b89751": {
      "model_module": "@jupyter-widgets/controls",
      "model_module_version": "1.2.0",
      "model_name": "DescriptionStyleModel",
      "state": {
       "description_width": ""
      }
     },
     "3e018191d8904e70a93700b63576e435": {
      "model_module": "@jupyter-widgets/controls",
      "model_module_version": "1.2.0",
      "model_name": "DescriptionStyleModel",
      "state": {
       "description_width": "initial"
      }
     },
     "3e6b4e3863854f759e323f90e9aab5d6": {
      "model_module": "@jupyter-widgets/controls",
      "model_module_version": "1.2.0",
      "model_name": "HTMLModel",
      "state": {
       "layout": "IPY_MODEL_f05f17160e3149d5aa04110648cebe2f",
       "style": "IPY_MODEL_49b70070e3bb4f5994c7fb9d880fb6eb",
       "value": "<h4 style=\"font-size:14px;\">Welche Beispiele für Phrasenstrukturregeln sind linksrekursiv?</h4>"
      }
     },
     "3ebb6ffddaf34b3b95b5eed7b7bff35f": {
      "model_module": "@jupyter-widgets/base",
      "model_module_version": "1.0.0",
      "model_name": "LayoutModel",
      "state": {
       "width": "600px"
      }
     },
     "3edef88083ba4f0fa1ea21c49adf1caa": {
      "model_module": "@jupyter-widgets/controls",
      "model_module_version": "1.2.0",
      "model_name": "DescriptionStyleModel",
      "state": {
       "description_width": "initial"
      }
     },
     "3f21bf872432471eb571353cdcd6f4d7": {
      "model_module": "@jupyter-widgets/base",
      "model_module_version": "1.0.0",
      "model_name": "LayoutModel",
      "state": {}
     },
     "3f3c8b2426e94931a0f7668dfc6ad587": {
      "model_module": "@jupyter-widgets/controls",
      "model_module_version": "1.2.0",
      "model_name": "HTMLModel",
      "state": {
       "layout": "IPY_MODEL_c05adb9ee6a34a5cad2ada0bbd32a1a3",
       "style": "IPY_MODEL_256fbae5726e44d4abcc40d73ada3c0c",
       "value": "<i>Vervollständigen Sie die Listcomprehension, indem sie an den Stellen der Unterstriche die richtigen Funktionen einsetzen.</i>"
      }
     },
     "41ebd23e0e7c4775b5d3a66b2041c1f6": {
      "model_module": "@jupyter-widgets/base",
      "model_module_version": "1.0.0",
      "model_name": "LayoutModel",
      "state": {}
     },
     "42a533eef4cd46c2aaa8309d043a02a1": {
      "model_module": "@jupyter-widgets/controls",
      "model_module_version": "1.2.0",
      "model_name": "ButtonModel",
      "state": {
       "description": "Korrekt?",
       "layout": "IPY_MODEL_d20a6356a7224c7dae82f3b94ae98138",
       "style": "IPY_MODEL_d8bbde657fce4c689822397debb7aa12"
      }
     },
     "42eff8a1bff74066a4e32921284ba605": {
      "model_module": "@jupyter-widgets/controls",
      "model_module_version": "1.2.0",
      "model_name": "DescriptionStyleModel",
      "state": {
       "description_width": "initial"
      }
     },
     "441a11ee98ca4a7faa8d1e70b4be5884": {
      "model_module": "@jupyter-widgets/controls",
      "model_module_version": "1.2.0",
      "model_name": "CheckboxModel",
      "state": {
       "description": "Grammatik neu einlesen",
       "disabled": false,
       "layout": "IPY_MODEL_a647373d04984b7b976703eb938bfcb1",
       "style": "IPY_MODEL_0a62f9f378a74fdf8f6923c2c8636ba3",
       "value": false
      }
     },
     "445415ab63e44026bb1870abbd9ed185": {
      "model_module": "@jupyter-widgets/controls",
      "model_module_version": "1.2.0",
      "model_name": "CheckboxModel",
      "state": {
       "description": "NOM -> NOM PP",
       "disabled": false,
       "layout": "IPY_MODEL_7efc3634c43d4f2b98809cc7a6088296",
       "style": "IPY_MODEL_84c9fd7204e5435e8f57ca754cae4aef",
       "value": false
      }
     },
     "447e7a0020f244f0ba73a8ce7a8b66d6": {
      "model_module": "@jupyter-widgets/controls",
      "model_module_version": "1.2.0",
      "model_name": "ButtonStyleModel",
      "state": {
       "button_color": "lightgreen"
      }
     },
     "457596ff09264364be79f13249e53da0": {
      "model_module": "@jupyter-widgets/controls",
      "model_module_version": "1.2.0",
      "model_name": "CheckboxModel",
      "state": {
       "description": "anderen Parser verwenden",
       "disabled": false,
       "layout": "IPY_MODEL_b8d59a7a890047a8a391f80eeac9d711",
       "style": "IPY_MODEL_9032a9042a0e4fc98f367ccd3ba59149",
       "value": false
      }
     },
     "4607edda68994d938993b35397e59e55": {
      "model_module": "@jupyter-widgets/controls",
      "model_module_version": "1.2.0",
      "model_name": "DescriptionStyleModel",
      "state": {
       "description_width": "initial"
      }
     },
     "47eaed6837b542cea072c0314ed6cf0b": {
      "model_module": "@jupyter-widgets/controls",
      "model_module_version": "1.2.0",
      "model_name": "ButtonModel",
      "state": {
       "description": "Korrekt?",
       "layout": "IPY_MODEL_ef98dba9a3ae45c1845249a641d805b2",
       "style": "IPY_MODEL_81de28f7f4ed4f73a5bae8c2dbdccbc1"
      }
     },
     "480ef8b9437b41df9d8ab8be3172712b": {
      "model_module": "@jupyter-widgets/controls",
      "model_module_version": "1.2.0",
      "model_name": "DescriptionStyleModel",
      "state": {
       "description_width": ""
      }
     },
     "485032f13a8d483985a78e119e4eb2fb": {
      "model_module": "@jupyter-widgets/controls",
      "model_module_version": "1.2.0",
      "model_name": "DescriptionStyleModel",
      "state": {
       "description_width": ""
      }
     },
     "49b70070e3bb4f5994c7fb9d880fb6eb": {
      "model_module": "@jupyter-widgets/controls",
      "model_module_version": "1.2.0",
      "model_name": "DescriptionStyleModel",
      "state": {
       "description_width": ""
      }
     },
     "4a1d6f53ea9c4779814e6b17403efa8a": {
      "model_module": "@jupyter-widgets/base",
      "model_module_version": "1.0.0",
      "model_name": "LayoutModel",
      "state": {}
     },
     "4bb161fe5a7f47a78bc73c4d3c6b7a00": {
      "model_module": "@jupyter-widgets/controls",
      "model_module_version": "1.2.0",
      "model_name": "VBoxModel",
      "state": {
       "children": [
        "IPY_MODEL_5ca87163aae1450e8708b1ac3c8af019",
        "IPY_MODEL_936ba864b5d14736ae9a3ca251e0292a",
        "IPY_MODEL_e0c07c836b1f42929866fdef609933a8"
       ],
       "layout": "IPY_MODEL_f0ee18b1558e4f9cb442c7706042f706"
      }
     },
     "4becbed4d2a641179d8cec1d2ac73cfd": {
      "model_module": "@jupyter-widgets/controls",
      "model_module_version": "1.2.0",
      "model_name": "ButtonModel",
      "state": {
       "description": "Korrekt?",
       "layout": "IPY_MODEL_a0a1817ecd474dcf940660cb0cb53b73",
       "style": "IPY_MODEL_d4c33aecaddd4f4b8d51c7142361c576"
      }
     },
     "4c20735104de4f378fef6f1e5292d1bc": {
      "model_module": "@jupyter-widgets/controls",
      "model_module_version": "1.2.0",
      "model_name": "CheckboxModel",
      "state": {
       "description": "PP -> P NP",
       "disabled": false,
       "layout": "IPY_MODEL_cca215e59a87491fa94509b2cc3a2320",
       "style": "IPY_MODEL_2308a99fb49d4dafabf5b89254139879",
       "value": false
      }
     },
     "4c3043de8d1d43a381c61a1deb775485": {
      "model_module": "@jupyter-widgets/controls",
      "model_module_version": "1.2.0",
      "model_name": "HTMLModel",
      "state": {
       "layout": "IPY_MODEL_bac49e41b0584f108d55c3e65772fb61",
       "style": "IPY_MODEL_845c6c5052f84dc0a32e26c62e3a093e",
       "value": "<h4 style=\"font-size:14px;\">Welche Beispiele zeigen direkte Rekursion?</h4>"
      }
     },
     "4c309693dc8a4a6987fdf24b5d75d822": {
      "model_module": "@jupyter-widgets/base",
      "model_module_version": "1.0.0",
      "model_name": "LayoutModel",
      "state": {}
     },
     "4e6f7c55a4744138955354c985a1322d": {
      "model_module": "@jupyter-widgets/base",
      "model_module_version": "1.0.0",
      "model_name": "LayoutModel",
      "state": {
       "justify_content": "center"
      }
     },
     "4efc98aace5041e38bde2b7d05ce6f34": {
      "model_module": "@jupyter-widgets/controls",
      "model_module_version": "1.2.0",
      "model_name": "DescriptionStyleModel",
      "state": {
       "description_width": ""
      }
     },
     "4f167f0b8b854dd690c907c0f03edb15": {
      "model_module": "@jupyter-widgets/controls",
      "model_module_version": "1.2.0",
      "model_name": "DescriptionStyleModel",
      "state": {
       "description_width": ""
      }
     },
     "4f89295ce55345ed8d997b319b58c479": {
      "model_module": "@jupyter-widgets/controls",
      "model_module_version": "1.2.0",
      "model_name": "HTMLModel",
      "state": {
       "layout": "IPY_MODEL_2547537d86fa413eb8f9a114399945e6",
       "style": "IPY_MODEL_3981966fdad94b36a00699211d15c30a",
       "value": "<i>Vervollständigen Sie die Listcomprehension, indem sie an den Stellen der Unterstriche die richtigen Funktionen einsetzen.</i>"
      }
     },
     "502d8b058c5e4a7eaec51216a4deb9f9": {
      "model_module": "@jupyter-widgets/base",
      "model_module_version": "1.0.0",
      "model_name": "LayoutModel",
      "state": {
       "width": "500px"
      }
     },
     "50523b9b27344ebf9eb89606aff07608": {
      "model_module": "@jupyter-widgets/controls",
      "model_module_version": "1.2.0",
      "model_name": "CheckboxModel",
      "state": {
       "description": "NOM -> ADJ NOM",
       "disabled": false,
       "layout": "IPY_MODEL_3b590dda456c4846bd0de4bf31d8fece",
       "style": "IPY_MODEL_3edef88083ba4f0fa1ea21c49adf1caa",
       "value": false
      }
     },
     "51050529156547ba94d7873a3702c5c2": {
      "model_module": "@jupyter-widgets/controls",
      "model_module_version": "1.2.0",
      "model_name": "ButtonModel",
      "state": {
       "description": "Lösung zeigen",
       "layout": "IPY_MODEL_dd5d7d83bac94757817e0a1e25c66462",
       "style": "IPY_MODEL_a11b6af1b69c4b769e5c24dbd1ee3d10"
      }
     },
     "5165cace534a4a42862e92970c8dcba5": {
      "model_module": "@jupyter-widgets/base",
      "model_module_version": "1.0.0",
      "model_name": "LayoutModel",
      "state": {
       "width": "600px"
      }
     },
     "52475c7d64c748afb4381b1f82ad794c": {
      "model_module": "@jupyter-widgets/controls",
      "model_module_version": "1.2.0",
      "model_name": "DescriptionStyleModel",
      "state": {
       "description_width": "initial"
      }
     },
     "53bb65cf478f492a950eb3ecf00320f2": {
      "model_module": "@jupyter-widgets/controls",
      "model_module_version": "1.2.0",
      "model_name": "ButtonModel",
      "state": {
       "description": "Korrekt?",
       "layout": "IPY_MODEL_c6d19a73838c40238b79e05926bfce53",
       "style": "IPY_MODEL_56ff74609b344259ac3130da8f44268e"
      }
     },
     "56d8e39e412643b7a282d94fa62c4b24": {
      "model_module": "@jupyter-widgets/base",
      "model_module_version": "1.0.0",
      "model_name": "LayoutModel",
      "state": {
       "width": "600px"
      }
     },
     "56ff74609b344259ac3130da8f44268e": {
      "model_module": "@jupyter-widgets/controls",
      "model_module_version": "1.2.0",
      "model_name": "ButtonStyleModel",
      "state": {}
     },
     "57720592da43457fa71c420a6e44db14": {
      "model_module": "@jupyter-widgets/controls",
      "model_module_version": "1.2.0",
      "model_name": "DescriptionStyleModel",
      "state": {
       "description_width": ""
      }
     },
     "585434454af74d05b83d8e68b9caf5a6": {
      "model_module": "@jupyter-widgets/base",
      "model_module_version": "1.0.0",
      "model_name": "LayoutModel",
      "state": {}
     },
     "58948815eb95465ab919fb12fe75bca9": {
      "model_module": "@jupyter-widgets/controls",
      "model_module_version": "1.2.0",
      "model_name": "DescriptionStyleModel",
      "state": {
       "description_width": "initial"
      }
     },
     "5924b5bcc45f410badd8f6cc7a73fb74": {
      "model_module": "@jupyter-widgets/controls",
      "model_module_version": "1.2.0",
      "model_name": "HTMLModel",
      "state": {
       "layout": "IPY_MODEL_ddc79680fe2e4ef5a774880df002332a",
       "style": "IPY_MODEL_7d5120ee237a41388d8eaf920a2d6cea",
       "value": "<i>Markieren Sie <ins>alle</ins> passenden Antworten: </i>"
      }
     },
     "593176babecf43a29d6e7be5867c4d66": {
      "model_module": "@jupyter-widgets/base",
      "model_module_version": "1.0.0",
      "model_name": "LayoutModel",
      "state": {
       "width": "250px"
      }
     },
     "599f76e9fd614cc1abd2ab5d3b1dd25a": {
      "model_module": "@jupyter-widgets/base",
      "model_module_version": "1.0.0",
      "model_name": "LayoutModel",
      "state": {
       "width": "600px"
      }
     },
     "59a185a8720649a3af08b0ad0868fb5b": {
      "model_module": "@jupyter-widgets/base",
      "model_module_version": "1.0.0",
      "model_name": "LayoutModel",
      "state": {
       "justify_content": "center"
      }
     },
     "5a6c0cde88054ebd8a7edba7015a58a0": {
      "model_module": "@jupyter-widgets/base",
      "model_module_version": "1.0.0",
      "model_name": "LayoutModel",
      "state": {}
     },
     "5aff7d1735d046efb576f22327c8858f": {
      "model_module": "@jupyter-widgets/controls",
      "model_module_version": "1.2.0",
      "model_name": "CheckboxModel",
      "state": {
       "description": "PP -> P NP",
       "disabled": false,
       "layout": "IPY_MODEL_e40f032726c347d1936ac2118b2f2c66",
       "style": "IPY_MODEL_d0adfa946f6d49ec9c6e36854b6789c7",
       "value": false
      }
     },
     "5b375ab03c8a4fa786c389020687cd29": {
      "model_module": "@jupyter-widgets/controls",
      "model_module_version": "1.2.0",
      "model_name": "VBoxModel",
      "state": {
       "children": [
        "IPY_MODEL_307f8f41cb11446ebeb9a20ad71eb091",
        "IPY_MODEL_5dadf2be311541b2a96fec5df2ec1c78",
        "IPY_MODEL_5aff7d1735d046efb576f22327c8858f"
       ],
       "layout": "IPY_MODEL_739e1989ce22452ebe46f2ba8331f782"
      }
     },
     "5c8ced6858df47099bae113ed92b9236": {
      "model_module": "@jupyter-widgets/base",
      "model_module_version": "1.0.0",
      "model_name": "LayoutModel",
      "state": {
       "width": "250px"
      }
     },
     "5ca87163aae1450e8708b1ac3c8af019": {
      "model_module": "@jupyter-widgets/controls",
      "model_module_version": "1.2.0",
      "model_name": "CheckboxModel",
      "state": {
       "description": "NP -> DET N PP",
       "disabled": false,
       "layout": "IPY_MODEL_88fc4769130543ad9be573ed2a413fb7",
       "style": "IPY_MODEL_061b8c2e7ae54a29985f0f774e2b50e2",
       "value": false
      }
     },
     "5ccbd409ffaf483db4e9892ff2e2dc8e": {
      "model_module": "@jupyter-widgets/base",
      "model_module_version": "1.0.0",
      "model_name": "LayoutModel",
      "state": {
       "width": "600px"
      }
     },
     "5d1752d89c724ef69c026a0a4dd82808": {
      "model_module": "@jupyter-widgets/controls",
      "model_module_version": "1.2.0",
      "model_name": "VBoxModel",
      "state": {
       "children": [
        "IPY_MODEL_ff25f2bccbd947759f33a53f009f91cd",
        "IPY_MODEL_c9bc71c0ec4943929c61bb550e558bb0",
        "IPY_MODEL_4c20735104de4f378fef6f1e5292d1bc"
       ],
       "layout": "IPY_MODEL_fcdc0fa188e34730a6c44d1ee6a1c9d7"
      }
     },
     "5dadf2be311541b2a96fec5df2ec1c78": {
      "model_module": "@jupyter-widgets/controls",
      "model_module_version": "1.2.0",
      "model_name": "CheckboxModel",
      "state": {
       "description": "NOM -> NOM PP",
       "disabled": false,
       "layout": "IPY_MODEL_e49a9a0fe3384900b67456691c3fe3fc",
       "style": "IPY_MODEL_ef5d3fce1d404c05b29a5d7c63834cc9",
       "value": false
      }
     },
     "607e6fa31e9f40f1bb93c66965b7dbf5": {
      "model_module": "@jupyter-widgets/base",
      "model_module_version": "1.0.0",
      "model_name": "LayoutModel",
      "state": {}
     },
     "60e5fc9cdc9b44eab3cce6c9ffb8adba": {
      "model_module": "@jupyter-widgets/base",
      "model_module_version": "1.0.0",
      "model_name": "LayoutModel",
      "state": {}
     },
     "63137fb381594cdba1a72dcb08830026": {
      "model_module": "@jupyter-widgets/base",
      "model_module_version": "1.0.0",
      "model_name": "LayoutModel",
      "state": {
       "width": "600px"
      }
     },
     "635d351ed03c4757b297f4b82fbd0afe": {
      "model_module": "@jupyter-widgets/controls",
      "model_module_version": "1.2.0",
      "model_name": "HTMLModel",
      "state": {
       "layout": "IPY_MODEL_316dc68c34144413b85f3b67ccbf9f41",
       "style": "IPY_MODEL_0573d9663216457ba67e43f83c8bbc2b",
       "value": "<h4 style=\"font-size:14px;\">Wie ist im NLTK vorzugehen, wenn ein (wohlgeformter) Satz von einer Grammatik nicht erkannt wird?</h4>"
      }
     },
     "659f440f967447f7b33daeeec9045536": {
      "model_module": "@jupyter-widgets/controls",
      "model_module_version": "1.2.0",
      "model_name": "ButtonStyleModel",
      "state": {}
     },
     "65e78ab9a58d4501a693163ac322dfaa": {
      "model_module": "@jupyter-widgets/controls",
      "model_module_version": "1.2.0",
      "model_name": "DescriptionStyleModel",
      "state": {
       "description_width": "initial"
      }
     },
     "665a584957d94bf2b25a8f9e8c17f910": {
      "model_module": "@jupyter-widgets/controls",
      "model_module_version": "1.2.0",
      "model_name": "ButtonStyleModel",
      "state": {}
     },
     "67e65f3028754017939af5b8740d4b75": {
      "model_module": "@jupyter-widgets/controls",
      "model_module_version": "1.2.0",
      "model_name": "VBoxModel",
      "state": {
       "children": [
        "IPY_MODEL_74f1f48f86614ee0a6e89a598fa56553",
        "IPY_MODEL_cdf56998140a4a669cfb17398c7e7652",
        "IPY_MODEL_e0873abd39f34e069c4a5e46db629646"
       ],
       "layout": "IPY_MODEL_585434454af74d05b83d8e68b9caf5a6"
      }
     },
     "6898102e2d7d4db0814124734199fab0": {
      "model_module": "@jupyter-widgets/controls",
      "model_module_version": "1.2.0",
      "model_name": "VBoxModel",
      "state": {
       "children": [
        "IPY_MODEL_c2e782493afe4a64a6fee649c8eba80b",
        "IPY_MODEL_efb9fb900c534062a2b89dea96007d30",
        "IPY_MODEL_0fa4a0bd98f34a178caaecb775f9a9b0",
        "IPY_MODEL_42a533eef4cd46c2aaa8309d043a02a1"
       ],
       "layout": "IPY_MODEL_2c6904fee8284b79810499320639a96a"
      }
     },
     "68df65e86cf54261827efb852fddb1fe": {
      "model_module": "@jupyter-widgets/controls",
      "model_module_version": "1.2.0",
      "model_name": "DescriptionStyleModel",
      "state": {
       "description_width": "initial"
      }
     },
     "6a5c380a0e874ca6af01479dc238e735": {
      "model_module": "@jupyter-widgets/controls",
      "model_module_version": "1.2.0",
      "model_name": "DescriptionStyleModel",
      "state": {
       "description_width": ""
      }
     },
     "6b6c50827a4345f5bd5dc21b4db8d93a": {
      "model_module": "@jupyter-widgets/base",
      "model_module_version": "1.0.0",
      "model_name": "LayoutModel",
      "state": {
       "width": "600px"
      }
     },
     "6c4d983acdae413b912dd0660c6cf15d": {
      "model_module": "@jupyter-widgets/controls",
      "model_module_version": "1.2.0",
      "model_name": "CheckboxModel",
      "state": {
       "description": "NOM -> ADJ NOM",
       "disabled": false,
       "layout": "IPY_MODEL_d220eecb68af4b09a32d13084edb089e",
       "style": "IPY_MODEL_b1cefb0e841a4b5d9ea718811707a045",
       "value": false
      }
     },
     "6dfd012adb8645ceb844bbf3bb513c08": {
      "model_module": "@jupyter-widgets/controls",
      "model_module_version": "1.2.0",
      "model_name": "DescriptionStyleModel",
      "state": {
       "description_width": ""
      }
     },
     "6fb69ecf87194b878e7752334d238906": {
      "model_module": "@jupyter-widgets/base",
      "model_module_version": "1.0.0",
      "model_name": "LayoutModel",
      "state": {}
     },
     "7195864e1de843ccb23f2cb27c42d8c2": {
      "model_module": "@jupyter-widgets/base",
      "model_module_version": "1.0.0",
      "model_name": "LayoutModel",
      "state": {}
     },
     "71a8746d9fd14a5ea50bc1ecc04f9cd7": {
      "model_module": "@jupyter-widgets/controls",
      "model_module_version": "1.2.0",
      "model_name": "CheckboxModel",
      "state": {
       "description": "NOM -> ADJ NOM",
       "disabled": false,
       "layout": "IPY_MODEL_00e4957651004914840d3836353a5523",
       "style": "IPY_MODEL_e3abb0a16f024033938af65637100f0d",
       "value": false
      }
     },
     "7221fa580d774fada51eb6d3adf0c42d": {
      "model_module": "@jupyter-widgets/controls",
      "model_module_version": "1.2.0",
      "model_name": "DescriptionStyleModel",
      "state": {
       "description_width": "initial"
      }
     },
     "7370ffa0523143219afa8f32666d0cdd": {
      "model_module": "@jupyter-widgets/controls",
      "model_module_version": "1.2.0",
      "model_name": "ButtonStyleModel",
      "state": {}
     },
     "739e1989ce22452ebe46f2ba8331f782": {
      "model_module": "@jupyter-widgets/base",
      "model_module_version": "1.0.0",
      "model_name": "LayoutModel",
      "state": {}
     },
     "74f1f48f86614ee0a6e89a598fa56553": {
      "model_module": "@jupyter-widgets/controls",
      "model_module_version": "1.2.0",
      "model_name": "CheckboxModel",
      "state": {
       "description": "NOM -> ADJ NOM",
       "disabled": false,
       "layout": "IPY_MODEL_e2fcd19858134e7598721b54508e2cbb",
       "style": "IPY_MODEL_ffb2d43440d348a88f5b26ce584ec7b4",
       "value": false
      }
     },
     "75c82d408d114246aeed2290a874a5f0": {
      "model_module": "@jupyter-widgets/base",
      "model_module_version": "1.0.0",
      "model_name": "LayoutModel",
      "state": {}
     },
     "76014d71ae604420a43601e8092d0654": {
      "model_module": "@jupyter-widgets/controls",
      "model_module_version": "1.2.0",
      "model_name": "VBoxModel",
      "state": {
       "children": [
        "IPY_MODEL_33a0c88ee18540bea6edf2fa15bd68dd",
        "IPY_MODEL_321f3c6c804c420289d6aef5da03af1a",
        "IPY_MODEL_4bb161fe5a7f47a78bc73c4d3c6b7a00",
        "IPY_MODEL_83141ccdd3b54043ad55d84c11e33f7c"
       ],
       "layout": "IPY_MODEL_af2a1ae9e12745b3a0ca9cfa2f91cb12"
      }
     },
     "7614fea1d3434a269d6d0cd1913c6bad": {
      "model_module": "@jupyter-widgets/controls",
      "model_module_version": "1.2.0",
      "model_name": "DescriptionStyleModel",
      "state": {
       "description_width": ""
      }
     },
     "76feb7de9a9842da8cc2dbcd0d4249b7": {
      "model_module": "@jupyter-widgets/base",
      "model_module_version": "1.0.0",
      "model_name": "LayoutModel",
      "state": {}
     },
     "770380604d9f4d05a3e11ada2d5191a5": {
      "model_module": "@jupyter-widgets/controls",
      "model_module_version": "1.2.0",
      "model_name": "VBoxModel",
      "state": {
       "children": [
        "IPY_MODEL_d169bfaa3ef144dd9cfd7fcf405a7e50",
        "IPY_MODEL_441a11ee98ca4a7faa8d1e70b4be5884",
        "IPY_MODEL_457596ff09264364be79f13249e53da0"
       ],
       "layout": "IPY_MODEL_8e5cda0f857b41bfba6f882566295281"
      }
     },
     "7707c6a10e834621824d2e5f9a8e484c": {
      "model_module": "@jupyter-widgets/controls",
      "model_module_version": "1.2.0",
      "model_name": "VBoxModel",
      "state": {
       "children": [
        "IPY_MODEL_6c4d983acdae413b912dd0660c6cf15d",
        "IPY_MODEL_e3c9e8a53f374679b0c21fcaf4b3b59a",
        "IPY_MODEL_f2e2671185bf4a1abdb001daf2a1eadb"
       ],
       "layout": "IPY_MODEL_76feb7de9a9842da8cc2dbcd0d4249b7"
      }
     },
     "77e1eff193f64e6f9e43e90b54b28452": {
      "model_module": "@jupyter-widgets/controls",
      "model_module_version": "1.2.0",
      "model_name": "VBoxModel",
      "state": {
       "children": [
        "IPY_MODEL_8e68ac3c7b984e228563508926aca0a9",
        "IPY_MODEL_cead938c110a474daec47bf104c50057",
        "IPY_MODEL_9a02e5599fc8454f89a006d7604f3a64"
       ],
       "layout": "IPY_MODEL_5a6c0cde88054ebd8a7edba7015a58a0"
      }
     },
     "78bdabff189e423fb1ef2b81d02e73a1": {
      "model_module": "@jupyter-widgets/controls",
      "model_module_version": "1.2.0",
      "model_name": "ButtonModel",
      "state": {
       "description": "Korrekt?",
       "layout": "IPY_MODEL_8c763a5cb70c4b559abb376eee0f5f9e",
       "style": "IPY_MODEL_9848e4d97e284b89a6ee84f256ae51cc"
      }
     },
     "79275f363eec4150a16e6d870b30192d": {
      "model_module": "@jupyter-widgets/base",
      "model_module_version": "1.0.0",
      "model_name": "LayoutModel",
      "state": {}
     },
     "798b554231de430eb7e043c1f4e2283e": {
      "model_module": "@jupyter-widgets/controls",
      "model_module_version": "1.2.0",
      "model_name": "HTMLModel",
      "state": {
       "layout": "IPY_MODEL_3333a32336704e20b8d0bc39c40db5e2",
       "style": "IPY_MODEL_485032f13a8d483985a78e119e4eb2fb",
       "value": "<h4 style=\"font-size:14px;\">Welche Beispiele sind rechtsrekursiv?</h4>"
      }
     },
     "79ac344eaa5c4cd8aadf7a8206ebbc4c": {
      "model_module": "@jupyter-widgets/base",
      "model_module_version": "1.0.0",
      "model_name": "LayoutModel",
      "state": {
       "width": "600px"
      }
     },
     "7bc5aaea67f3407db651434cda1d4528": {
      "model_module": "@jupyter-widgets/controls",
      "model_module_version": "1.2.0",
      "model_name": "CheckboxModel",
      "state": {
       "description": "PP -> P NP",
       "disabled": false,
       "layout": "IPY_MODEL_b9d1716d69c54024b687625995ce6777",
       "style": "IPY_MODEL_4607edda68994d938993b35397e59e55",
       "value": false
      }
     },
     "7c536661d94c4fd19dce306e7f702e1d": {
      "model_module": "@jupyter-widgets/base",
      "model_module_version": "1.0.0",
      "model_name": "LayoutModel",
      "state": {
       "width": "500px"
      }
     },
     "7d5120ee237a41388d8eaf920a2d6cea": {
      "model_module": "@jupyter-widgets/controls",
      "model_module_version": "1.2.0",
      "model_name": "DescriptionStyleModel",
      "state": {
       "description_width": ""
      }
     },
     "7dfb522248bd4380ae82fa49930627bf": {
      "model_module": "@jupyter-widgets/controls",
      "model_module_version": "1.2.0",
      "model_name": "VBoxModel",
      "state": {
       "children": [
        "IPY_MODEL_afcd1510f831411893f1b3ced471db87",
        "IPY_MODEL_36873251a46c430ea39e6331440a8376",
        "IPY_MODEL_00eb9be41ffe423a8388d7cd464329b8",
        "IPY_MODEL_24a5b1d06b28462592634985836220e3"
       ],
       "layout": "IPY_MODEL_fac7f40d7d344f10920dc5a7db966e22"
      }
     },
     "7e95ccd8d7a9440897de1adb7b44eebf": {
      "model_module": "@jupyter-widgets/controls",
      "model_module_version": "1.2.0",
      "model_name": "DescriptionStyleModel",
      "state": {
       "description_width": "initial"
      }
     },
     "7efc3634c43d4f2b98809cc7a6088296": {
      "model_module": "@jupyter-widgets/base",
      "model_module_version": "1.0.0",
      "model_name": "LayoutModel",
      "state": {
       "width": "600px"
      }
     },
     "7f98e224040a4977abbb4bf6bd400c4b": {
      "model_module": "@jupyter-widgets/controls",
      "model_module_version": "1.2.0",
      "model_name": "ButtonModel",
      "state": {
       "description": "Korrekt?",
       "layout": "IPY_MODEL_5c8ced6858df47099bae113ed92b9236",
       "style": "IPY_MODEL_659f440f967447f7b33daeeec9045536"
      }
     },
     "8021fbedcf624f91982ec995f70dc8da": {
      "model_module": "@jupyter-widgets/controls",
      "model_module_version": "1.2.0",
      "model_name": "VBoxModel",
      "state": {
       "children": [
        "IPY_MODEL_d81e3c318a384f64bfcb04766a59a722",
        "IPY_MODEL_a9e0f72736504782840f7cabe4aa829a",
        "IPY_MODEL_a648f2286bb6485c94aa7c4053f7555b",
        "IPY_MODEL_cc8e0beb2edd4078826bf144855e719a"
       ],
       "layout": "IPY_MODEL_26c21909d90d4c13ba1603d33ed76856"
      }
     },
     "80ecbe4bf6d341aa981dd9b0514bce9d": {
      "model_module": "@jupyter-widgets/controls",
      "model_module_version": "1.2.0",
      "model_name": "VBoxModel",
      "state": {
       "children": [
        "IPY_MODEL_c418269caefc4493aed07ccbde9222cf",
        "IPY_MODEL_3f3c8b2426e94931a0f7668dfc6ad587",
        "IPY_MODEL_a5d5bbf026c04ca781f44b2d90e286d9",
        "IPY_MODEL_e223f05abf464096bdfc2b377554943d"
       ],
       "layout": "IPY_MODEL_2827256a5d2f403caf5bd1a776755aa4"
      }
     },
     "81d68f6e9ac74d50a427e9b4b1c7de87": {
      "model_module": "@jupyter-widgets/controls",
      "model_module_version": "1.2.0",
      "model_name": "DescriptionStyleModel",
      "state": {
       "description_width": "initial"
      }
     },
     "81de28f7f4ed4f73a5bae8c2dbdccbc1": {
      "model_module": "@jupyter-widgets/controls",
      "model_module_version": "1.2.0",
      "model_name": "ButtonStyleModel",
      "state": {}
     },
     "824ee6a4b70c44f4bce809b796118a83": {
      "model_module": "@jupyter-widgets/controls",
      "model_module_version": "1.2.0",
      "model_name": "DescriptionStyleModel",
      "state": {
       "description_width": "initial"
      }
     },
     "826a334f48604c67930266fb30fb0afe": {
      "model_module": "@jupyter-widgets/base",
      "model_module_version": "1.0.0",
      "model_name": "LayoutModel",
      "state": {}
     },
     "82dc9b3bf0b1438cb5cee8a5e0848608": {
      "model_module": "@jupyter-widgets/controls",
      "model_module_version": "1.2.0",
      "model_name": "DescriptionStyleModel",
      "state": {
       "description_width": "initial"
      }
     },
     "83141ccdd3b54043ad55d84c11e33f7c": {
      "model_module": "@jupyter-widgets/controls",
      "model_module_version": "1.2.0",
      "model_name": "ButtonModel",
      "state": {
       "description": "Korrekt?",
       "layout": "IPY_MODEL_ccbcdfcbcaa04a5ebde1ace3cfa2e8cb",
       "style": "IPY_MODEL_d733f912f8de43ec8c8cbe522a204417"
      }
     },
     "845c6c5052f84dc0a32e26c62e3a093e": {
      "model_module": "@jupyter-widgets/controls",
      "model_module_version": "1.2.0",
      "model_name": "DescriptionStyleModel",
      "state": {
       "description_width": ""
      }
     },
     "84c9fd7204e5435e8f57ca754cae4aef": {
      "model_module": "@jupyter-widgets/controls",
      "model_module_version": "1.2.0",
      "model_name": "DescriptionStyleModel",
      "state": {
       "description_width": "initial"
      }
     },
     "8519fc5284e746ecb96a09af07b80c1d": {
      "model_module": "@jupyter-widgets/base",
      "model_module_version": "1.0.0",
      "model_name": "LayoutModel",
      "state": {
       "width": "600px"
      }
     },
     "85b5149934d24b0db5b7944ad4a5fd07": {
      "model_module": "@jupyter-widgets/controls",
      "model_module_version": "1.2.0",
      "model_name": "DescriptionStyleModel",
      "state": {
       "description_width": ""
      }
     },
     "88fc4769130543ad9be573ed2a413fb7": {
      "model_module": "@jupyter-widgets/base",
      "model_module_version": "1.0.0",
      "model_name": "LayoutModel",
      "state": {
       "width": "600px"
      }
     },
     "8b2585c2f54a497e9f364173f7f4fdf1": {
      "model_module": "@jupyter-widgets/controls",
      "model_module_version": "1.2.0",
      "model_name": "DescriptionStyleModel",
      "state": {
       "description_width": "initial"
      }
     },
     "8c38a6d5fb774ea88decadc25137b4ad": {
      "model_module": "@jupyter-widgets/controls",
      "model_module_version": "1.2.0",
      "model_name": "ButtonModel",
      "state": {
       "description": "Lösung zeigen",
       "layout": "IPY_MODEL_2b3e386733284320a38da621e9977311",
       "style": "IPY_MODEL_d36c9db70cdd4ad0993d076953bf3de6"
      }
     },
     "8c629294ddfe4a789c0b7d9ab9aab7ab": {
      "model_module": "@jupyter-widgets/base",
      "model_module_version": "1.0.0",
      "model_name": "LayoutModel",
      "state": {
       "width": "250px"
      }
     },
     "8c763a5cb70c4b559abb376eee0f5f9e": {
      "model_module": "@jupyter-widgets/base",
      "model_module_version": "1.0.0",
      "model_name": "LayoutModel",
      "state": {
       "width": "250px"
      }
     },
     "8cb9c5f1ab0947be85e321b1204fbe36": {
      "model_module": "@jupyter-widgets/base",
      "model_module_version": "1.0.0",
      "model_name": "LayoutModel",
      "state": {
       "justify_content": "center"
      }
     },
     "8cd6ed706ca0495c8ca8ea23d2ed728d": {
      "model_module": "@jupyter-widgets/controls",
      "model_module_version": "1.2.0",
      "model_name": "VBoxModel",
      "state": {
       "children": [
        "IPY_MODEL_23b5dd8679074fa8a2faff014a24bb3a",
        "IPY_MODEL_27c07ab2bc134a76a9e1b173460649f6",
        "IPY_MODEL_77e1eff193f64e6f9e43e90b54b28452",
        "IPY_MODEL_93079b0ad79f44349642d946cf09b246"
       ],
       "layout": "IPY_MODEL_3f21bf872432471eb571353cdcd6f4d7"
      }
     },
     "8e5cda0f857b41bfba6f882566295281": {
      "model_module": "@jupyter-widgets/base",
      "model_module_version": "1.0.0",
      "model_name": "LayoutModel",
      "state": {}
     },
     "8e68ac3c7b984e228563508926aca0a9": {
      "model_module": "@jupyter-widgets/controls",
      "model_module_version": "1.2.0",
      "model_name": "CheckboxModel",
      "state": {
       "description": "<code>trace</code>-Output aktivieren und überprüfen",
       "disabled": false,
       "layout": "IPY_MODEL_efca75db5d4c404db503327f440215b9",
       "style": "IPY_MODEL_08df19b9f83442ca9e61a6c420655614",
       "value": true
      }
     },
     "8e6bc4ec339e4f4982183697f0986691": {
      "model_module": "@jupyter-widgets/controls",
      "model_module_version": "1.2.0",
      "model_name": "ButtonModel",
      "state": {
       "description": "Korrekt?",
       "layout": "IPY_MODEL_ba92e940048a404d9cd6daf1401264fe",
       "style": "IPY_MODEL_a7cebaf9a9cf4c9daf98d924069a78e0"
      }
     },
     "8fffa2e0266f49b59a797aa97a58501b": {
      "model_module": "@jupyter-widgets/base",
      "model_module_version": "1.0.0",
      "model_name": "LayoutModel",
      "state": {
       "width": "600px"
      }
     },
     "9032a9042a0e4fc98f367ccd3ba59149": {
      "model_module": "@jupyter-widgets/controls",
      "model_module_version": "1.2.0",
      "model_name": "DescriptionStyleModel",
      "state": {
       "description_width": "initial"
      }
     },
     "912463be60ff4286bc20d6c82158103e": {
      "model_module": "@jupyter-widgets/controls",
      "model_module_version": "1.2.0",
      "model_name": "DescriptionStyleModel",
      "state": {
       "description_width": "initial"
      }
     },
     "919e2a21264344b29443b3899f806ff9": {
      "model_module": "@jupyter-widgets/controls",
      "model_module_version": "1.2.0",
      "model_name": "HTMLModel",
      "state": {
       "layout": "IPY_MODEL_0c14c7c2ffd44a669c50e7f38daeeb7b",
       "style": "IPY_MODEL_2cae34cce5354059af9dc442c7bae30f",
       "value": "<i>Markieren Sie <ins>alle</ins> passenden Antworten: </i>"
      }
     },
     "924137723b3443bdb1e174483e8ce0d0": {
      "model_module": "@jupyter-widgets/controls",
      "model_module_version": "1.2.0",
      "model_name": "DescriptionStyleModel",
      "state": {
       "description_width": ""
      }
     },
     "93079b0ad79f44349642d946cf09b246": {
      "model_module": "@jupyter-widgets/controls",
      "model_module_version": "1.2.0",
      "model_name": "ButtonModel",
      "state": {
       "description": "Korrekt?",
       "layout": "IPY_MODEL_f1851dfb3a3749b9b8b819b43d6e793d",
       "style": "IPY_MODEL_da4412df70d343c3974142acc0adf3eb"
      }
     },
     "93331ebe86f445f892f5dd879ce8270d": {
      "model_module": "@jupyter-widgets/controls",
      "model_module_version": "1.2.0",
      "model_name": "ButtonModel",
      "state": {
       "description": "Korrekt?",
       "layout": "IPY_MODEL_db5a4b575f1a41afb4b49ba8b9143279",
       "style": "IPY_MODEL_665a584957d94bf2b25a8f9e8c17f910"
      }
     },
     "936ba864b5d14736ae9a3ca251e0292a": {
      "model_module": "@jupyter-widgets/controls",
      "model_module_version": "1.2.0",
      "model_name": "CheckboxModel",
      "state": {
       "description": "NP -> NP",
       "disabled": false,
       "layout": "IPY_MODEL_a334802259da4127893214f1365b1b53",
       "style": "IPY_MODEL_912463be60ff4286bc20d6c82158103e",
       "value": false
      }
     },
     "96957ab215e7429eb49812b0dcda38bd": {
      "model_module": "@jupyter-widgets/base",
      "model_module_version": "1.0.0",
      "model_name": "LayoutModel",
      "state": {
       "width": "600px"
      }
     },
     "9848e4d97e284b89a6ee84f256ae51cc": {
      "model_module": "@jupyter-widgets/controls",
      "model_module_version": "1.2.0",
      "model_name": "ButtonStyleModel",
      "state": {
       "button_color": "lightgreen"
      }
     },
     "995cb3e2f0d1437f93ea4b656c7fa933": {
      "model_module": "@jupyter-widgets/base",
      "model_module_version": "1.0.0",
      "model_name": "LayoutModel",
      "state": {}
     },
     "9986a92bdd164c5d80df8052f9837fdb": {
      "model_module": "@jupyter-widgets/base",
      "model_module_version": "1.0.0",
      "model_name": "LayoutModel",
      "state": {
       "justify_content": "center"
      }
     },
     "9a02e5599fc8454f89a006d7604f3a64": {
      "model_module": "@jupyter-widgets/controls",
      "model_module_version": "1.2.0",
      "model_name": "CheckboxModel",
      "state": {
       "description": "anderen Parser verwenden",
       "disabled": false,
       "layout": "IPY_MODEL_fc86253da9bb4980b3c7f9781e9a0ef8",
       "style": "IPY_MODEL_d49066dc6ba94052b066c1183ac6d9f7",
       "value": false
      }
     },
     "9d764c2bbfd5406f907568788c7d5ecb": {
      "model_module": "@jupyter-widgets/controls",
      "model_module_version": "1.2.0",
      "model_name": "CheckboxModel",
      "state": {
       "description": "Grammatik neu einlesen",
       "disabled": false,
       "layout": "IPY_MODEL_37e7eea6b9004eb18c60295a2499d9b8",
       "style": "IPY_MODEL_c5883ccf88a34c348bb7656cc6255886",
       "value": false
      }
     },
     "9de18f630831423ca93da73e30704097": {
      "model_module": "@jupyter-widgets/controls",
      "model_module_version": "1.2.0",
      "model_name": "HTMLModel",
      "state": {
       "layout": "IPY_MODEL_59a185a8720649a3af08b0ad0868fb5b",
       "style": "IPY_MODEL_1ef5922219c2469b87cd9db70c976ec1",
       "value": "<i>Markieren Sie <ins>alle</ins> passenden Antworten: </i>"
      }
     },
     "9e565379291b4e098bdd250c5376a961": {
      "model_module": "@jupyter-widgets/base",
      "model_module_version": "1.0.0",
      "model_name": "LayoutModel",
      "state": {
       "width": "250px"
      }
     },
     "9f16adc352a34d99aeaa875b6b555aae": {
      "model_module": "@jupyter-widgets/base",
      "model_module_version": "1.0.0",
      "model_name": "LayoutModel",
      "state": {}
     },
     "a0840ca2a1444916bc80e58d5a20cec3": {
      "model_module": "@jupyter-widgets/controls",
      "model_module_version": "1.2.0",
      "model_name": "CheckboxModel",
      "state": {
       "description": "<code>trace</code>-Output aktivieren und überprüfen",
       "disabled": false,
       "layout": "IPY_MODEL_56d8e39e412643b7a282d94fa62c4b24",
       "style": "IPY_MODEL_52475c7d64c748afb4381b1f82ad794c",
       "value": false
      }
     },
     "a0a1817ecd474dcf940660cb0cb53b73": {
      "model_module": "@jupyter-widgets/base",
      "model_module_version": "1.0.0",
      "model_name": "LayoutModel",
      "state": {
       "width": "350px"
      }
     },
     "a0a9f6c0d8194246a1be1b23ebce373f": {
      "model_module": "@jupyter-widgets/controls",
      "model_module_version": "1.2.0",
      "model_name": "CheckboxModel",
      "state": {
       "description": "NP -> NP",
       "disabled": false,
       "layout": "IPY_MODEL_de895edaec3e4f9bbfa3a34a6234ba2b",
       "style": "IPY_MODEL_0697c7a0ed3342feaabfa84917f87dde",
       "value": true
      }
     },
     "a11b6af1b69c4b769e5c24dbd1ee3d10": {
      "model_module": "@jupyter-widgets/controls",
      "model_module_version": "1.2.0",
      "model_name": "ButtonStyleModel",
      "state": {}
     },
     "a26f5505f184494e8f1e2e9a532963ca": {
      "model_module": "@jupyter-widgets/controls",
      "model_module_version": "1.2.0",
      "model_name": "HTMLModel",
      "state": {
       "layout": "IPY_MODEL_b1c1d91bf17d40b9a488eb3486d40607",
       "style": "IPY_MODEL_4efc98aace5041e38bde2b7d05ce6f34",
       "value": "<i>Markieren Sie <ins>alle</ins> passenden Antworten: </i>"
      }
     },
     "a334802259da4127893214f1365b1b53": {
      "model_module": "@jupyter-widgets/base",
      "model_module_version": "1.0.0",
      "model_name": "LayoutModel",
      "state": {
       "width": "600px"
      }
     },
     "a364d56c35e14346a2ed5e1c59194863": {
      "model_module": "@jupyter-widgets/base",
      "model_module_version": "1.0.0",
      "model_name": "LayoutModel",
      "state": {
       "justify_content": "center"
      }
     },
     "a408c81878c94655a947d4e971eb05fd": {
      "model_module": "@jupyter-widgets/controls",
      "model_module_version": "1.2.0",
      "model_name": "ButtonStyleModel",
      "state": {}
     },
     "a41f3bb0161649148123991124b83890": {
      "model_module": "@jupyter-widgets/controls",
      "model_module_version": "1.2.0",
      "model_name": "DescriptionStyleModel",
      "state": {
       "description_width": "initial"
      }
     },
     "a5d5bbf026c04ca781f44b2d90e286d9": {
      "model_module": "@jupyter-widgets/controls",
      "model_module_version": "1.2.0",
      "model_name": "TextareaModel",
      "state": {
       "layout": "IPY_MODEL_502d8b058c5e4a7eaec51216a4deb9f9",
       "placeholder": "Type something",
       "style": "IPY_MODEL_6a5c380a0e874ca6af01479dc238e735",
       "value": "for p in grammar1.________(): _______(p)"
      }
     },
     "a647373d04984b7b976703eb938bfcb1": {
      "model_module": "@jupyter-widgets/base",
      "model_module_version": "1.0.0",
      "model_name": "LayoutModel",
      "state": {
       "width": "600px"
      }
     },
     "a648f2286bb6485c94aa7c4053f7555b": {
      "model_module": "@jupyter-widgets/controls",
      "model_module_version": "1.2.0",
      "model_name": "VBoxModel",
      "state": {
       "children": [
        "IPY_MODEL_a0840ca2a1444916bc80e58d5a20cec3",
        "IPY_MODEL_9d764c2bbfd5406f907568788c7d5ecb",
        "IPY_MODEL_317c4d931ecf46f9a459f14965336374"
       ],
       "layout": "IPY_MODEL_ab784c9cde6f4593a7f4667f65f8e0bf"
      }
     },
     "a7cebaf9a9cf4c9daf98d924069a78e0": {
      "model_module": "@jupyter-widgets/controls",
      "model_module_version": "1.2.0",
      "model_name": "ButtonStyleModel",
      "state": {
       "button_color": "lightgreen"
      }
     },
     "a869a5d2c1044e8ca5a5651a9a7c7ba3": {
      "model_module": "@jupyter-widgets/controls",
      "model_module_version": "1.2.0",
      "model_name": "ButtonModel",
      "state": {
       "description": "Korrekt?",
       "layout": "IPY_MODEL_9e565379291b4e098bdd250c5376a961",
       "style": "IPY_MODEL_3b506f6dd1834aeaa0e3e1b9da82f88e"
      }
     },
     "a9e0f72736504782840f7cabe4aa829a": {
      "model_module": "@jupyter-widgets/controls",
      "model_module_version": "1.2.0",
      "model_name": "HTMLModel",
      "state": {
       "layout": "IPY_MODEL_8cb9c5f1ab0947be85e321b1204fbe36",
       "style": "IPY_MODEL_924137723b3443bdb1e174483e8ce0d0",
       "value": "<i>Wählen Sie die <ins>eine</ins> korrekte Antwort aus: </i>"
      }
     },
     "aa0ac755226940a699180bc1bd2d563a": {
      "model_module": "@jupyter-widgets/controls",
      "model_module_version": "1.2.0",
      "model_name": "VBoxModel",
      "state": {
       "children": [
        "IPY_MODEL_798b554231de430eb7e043c1f4e2283e",
        "IPY_MODEL_ca3a839f436443ba9086e136604a41a1",
        "IPY_MODEL_3628eb7dd55b4b9a9a97634ec2435741",
        "IPY_MODEL_78bdabff189e423fb1ef2b81d02e73a1"
       ],
       "layout": "IPY_MODEL_6fb69ecf87194b878e7752334d238906"
      }
     },
     "aa7bc7a7a1ac45db8796fa4b245bcd5d": {
      "model_module": "@jupyter-widgets/controls",
      "model_module_version": "1.2.0",
      "model_name": "HTMLModel",
      "state": {
       "layout": "IPY_MODEL_995cb3e2f0d1437f93ea4b656c7fa933",
       "style": "IPY_MODEL_480ef8b9437b41df9d8ab8be3172712b",
       "value": "<h4 style=\"font-size:14px;\">Welche Beispiele zeigen direkte Rekursion?</h4>"
      }
     },
     "ab784c9cde6f4593a7f4667f65f8e0bf": {
      "model_module": "@jupyter-widgets/base",
      "model_module_version": "1.0.0",
      "model_name": "LayoutModel",
      "state": {}
     },
     "af2a1ae9e12745b3a0ca9cfa2f91cb12": {
      "model_module": "@jupyter-widgets/base",
      "model_module_version": "1.0.0",
      "model_name": "LayoutModel",
      "state": {}
     },
     "afbc494f567949cfa8d2100b5afbd896": {
      "model_module": "@jupyter-widgets/controls",
      "model_module_version": "1.2.0",
      "model_name": "HBoxModel",
      "state": {
       "children": [
        "IPY_MODEL_e2f41d6bfbf94e97869702a20ad79acc",
        "IPY_MODEL_51050529156547ba94d7873a3702c5c2"
       ],
       "layout": "IPY_MODEL_4a1d6f53ea9c4779814e6b17403efa8a"
      }
     },
     "afcd1510f831411893f1b3ced471db87": {
      "model_module": "@jupyter-widgets/controls",
      "model_module_version": "1.2.0",
      "model_name": "HTMLModel",
      "state": {
       "layout": "IPY_MODEL_b33c02e218784b6e82a67bd581614649",
       "style": "IPY_MODEL_eb5f979d24e7465babb395efd42bce43",
       "value": "<h4 style=\"font-size:14px;\">Wie können im NLTK die Regeln einer Grammatik ausgegeben werden?</h4>"
      }
     },
     "b103290881a54512a32eb7981d884d0e": {
      "model_module": "@jupyter-widgets/controls",
      "model_module_version": "1.2.0",
      "model_name": "VBoxModel",
      "state": {
       "children": [
        "IPY_MODEL_4c3043de8d1d43a381c61a1deb775485",
        "IPY_MODEL_a26f5505f184494e8f1e2e9a532963ca",
        "IPY_MODEL_5d1752d89c724ef69c026a0a4dd82808",
        "IPY_MODEL_f5b0ddaaf1c34d329bcec41cffbb8785"
       ],
       "layout": "IPY_MODEL_75c82d408d114246aeed2290a874a5f0"
      }
     },
     "b1c1d91bf17d40b9a488eb3486d40607": {
      "model_module": "@jupyter-widgets/base",
      "model_module_version": "1.0.0",
      "model_name": "LayoutModel",
      "state": {
       "justify_content": "center"
      }
     },
     "b1cefb0e841a4b5d9ea718811707a045": {
      "model_module": "@jupyter-widgets/controls",
      "model_module_version": "1.2.0",
      "model_name": "DescriptionStyleModel",
      "state": {
       "description_width": "initial"
      }
     },
     "b33c02e218784b6e82a67bd581614649": {
      "model_module": "@jupyter-widgets/base",
      "model_module_version": "1.0.0",
      "model_name": "LayoutModel",
      "state": {}
     },
     "b359010896814733afbabf32230c5424": {
      "model_module": "@jupyter-widgets/controls",
      "model_module_version": "1.2.0",
      "model_name": "DescriptionStyleModel",
      "state": {
       "description_width": "initial"
      }
     },
     "b40dc5a5c320407ba8684e190769e35d": {
      "model_module": "@jupyter-widgets/base",
      "model_module_version": "1.0.0",
      "model_name": "LayoutModel",
      "state": {}
     },
     "b4ff8be189304c5c89639b1616d7d318": {
      "model_module": "@jupyter-widgets/base",
      "model_module_version": "1.0.0",
      "model_name": "LayoutModel",
      "state": {}
     },
     "b542ed7c542f46328b165a7ed7869991": {
      "model_module": "@jupyter-widgets/controls",
      "model_module_version": "1.2.0",
      "model_name": "DescriptionStyleModel",
      "state": {
       "description_width": "initial"
      }
     },
     "b675a7ac094940379893d6c90632d359": {
      "model_module": "@jupyter-widgets/controls",
      "model_module_version": "1.2.0",
      "model_name": "TextareaModel",
      "state": {
       "layout": "IPY_MODEL_7c536661d94c4fd19dce306e7f702e1d",
       "placeholder": "Type something",
       "style": "IPY_MODEL_f36651e745bc4dccb3f171ca0c875b40",
       "value": "for p in grammar1.productions(): print(p)"
      }
     },
     "b878ff673fac47c3bfbbc2b386f15f07": {
      "model_module": "@jupyter-widgets/controls",
      "model_module_version": "1.2.0",
      "model_name": "HTMLModel",
      "state": {
       "layout": "IPY_MODEL_9986a92bdd164c5d80df8052f9837fdb",
       "style": "IPY_MODEL_e08d216b1084447aa506cce50572923b",
       "value": "<i>Markieren Sie <ins>alle</ins> passenden Antworten: </i>"
      }
     },
     "b8d59a7a890047a8a391f80eeac9d711": {
      "model_module": "@jupyter-widgets/base",
      "model_module_version": "1.0.0",
      "model_name": "LayoutModel",
      "state": {
       "width": "600px"
      }
     },
     "b945cc71f1b24300b7a008facdef4278": {
      "model_module": "@jupyter-widgets/controls",
      "model_module_version": "1.2.0",
      "model_name": "CheckboxModel",
      "state": {
       "description": "PP -> P NP",
       "disabled": false,
       "layout": "IPY_MODEL_5165cace534a4a42862e92970c8dcba5",
       "style": "IPY_MODEL_8b2585c2f54a497e9f364173f7f4fdf1",
       "value": false
      }
     },
     "b9d1716d69c54024b687625995ce6777": {
      "model_module": "@jupyter-widgets/base",
      "model_module_version": "1.0.0",
      "model_name": "LayoutModel",
      "state": {
       "width": "600px"
      }
     },
     "ba92e940048a404d9cd6daf1401264fe": {
      "model_module": "@jupyter-widgets/base",
      "model_module_version": "1.0.0",
      "model_name": "LayoutModel",
      "state": {
       "width": "250px"
      }
     },
     "bac49e41b0584f108d55c3e65772fb61": {
      "model_module": "@jupyter-widgets/base",
      "model_module_version": "1.0.0",
      "model_name": "LayoutModel",
      "state": {}
     },
     "bcb39d9b5b0b47e9864efa11e04594ab": {
      "model_module": "@jupyter-widgets/controls",
      "model_module_version": "1.2.0",
      "model_name": "DescriptionStyleModel",
      "state": {
       "description_width": ""
      }
     },
     "bd3e71ed8b984c678e0c8e6ba9081876": {
      "model_module": "@jupyter-widgets/base",
      "model_module_version": "1.0.0",
      "model_name": "LayoutModel",
      "state": {
       "justify_content": "center"
      }
     },
     "bda6627c92304b62b5637f76162c98ee": {
      "model_module": "@jupyter-widgets/controls",
      "model_module_version": "1.2.0",
      "model_name": "ButtonStyleModel",
      "state": {}
     },
     "bec14afd93374559b58ab57750ed1562": {
      "model_module": "@jupyter-widgets/base",
      "model_module_version": "1.0.0",
      "model_name": "LayoutModel",
      "state": {}
     },
     "bef1f14cc8de463bad6bbedaf4a1e3bd": {
      "model_module": "@jupyter-widgets/base",
      "model_module_version": "1.0.0",
      "model_name": "LayoutModel",
      "state": {
       "width": "600px"
      }
     },
     "bf9920584fd04706ad89438f6337ed0f": {
      "model_module": "@jupyter-widgets/base",
      "model_module_version": "1.0.0",
      "model_name": "LayoutModel",
      "state": {}
     },
     "c05adb9ee6a34a5cad2ada0bbd32a1a3": {
      "model_module": "@jupyter-widgets/base",
      "model_module_version": "1.0.0",
      "model_name": "LayoutModel",
      "state": {}
     },
     "c24703f2b1e74ba688a6ececa4eaca33": {
      "model_module": "@jupyter-widgets/controls",
      "model_module_version": "1.2.0",
      "model_name": "HTMLModel",
      "state": {
       "layout": "IPY_MODEL_a364d56c35e14346a2ed5e1c59194863",
       "style": "IPY_MODEL_4f167f0b8b854dd690c907c0f03edb15",
       "value": "<i>Markieren Sie <ins>alle</ins> passenden Antworten: </i>"
      }
     },
     "c260bc26bbaa4415949e65dd8d7736d1": {
      "model_module": "@jupyter-widgets/controls",
      "model_module_version": "1.2.0",
      "model_name": "VBoxModel",
      "state": {
       "children": [
        "IPY_MODEL_db778c07355a4ab4a36d9d5353ea0e55",
        "IPY_MODEL_a0a9f6c0d8194246a1be1b23ebce373f",
        "IPY_MODEL_dd253f8b259d46d8adf96da9bc7775ef"
       ],
       "layout": "IPY_MODEL_41ebd23e0e7c4775b5d3a66b2041c1f6"
      }
     },
     "c2c7952b33814b06bffa963fddc36fad": {
      "model_module": "@jupyter-widgets/base",
      "model_module_version": "1.0.0",
      "model_name": "LayoutModel",
      "state": {}
     },
     "c2e782493afe4a64a6fee649c8eba80b": {
      "model_module": "@jupyter-widgets/controls",
      "model_module_version": "1.2.0",
      "model_name": "HTMLModel",
      "state": {
       "layout": "IPY_MODEL_60e5fc9cdc9b44eab3cce6c9ffb8adba",
       "style": "IPY_MODEL_bcb39d9b5b0b47e9864efa11e04594ab",
       "value": "<h4 style=\"font-size:14px;\">Welche Beispiele für Phrasenstrukturregeln sind linksrekursiv?</h4>"
      }
     },
     "c418269caefc4493aed07ccbde9222cf": {
      "model_module": "@jupyter-widgets/controls",
      "model_module_version": "1.2.0",
      "model_name": "HTMLModel",
      "state": {
       "layout": "IPY_MODEL_826a334f48604c67930266fb30fb0afe",
       "style": "IPY_MODEL_2cef78228625419db72bfef0ffdc9a74",
       "value": "<h4 style=\"font-size:14px;\">Wie können im NLTK die Regeln einer Grammatik ausgegeben werden?</h4>"
      }
     },
     "c5883ccf88a34c348bb7656cc6255886": {
      "model_module": "@jupyter-widgets/controls",
      "model_module_version": "1.2.0",
      "model_name": "DescriptionStyleModel",
      "state": {
       "description_width": "initial"
      }
     },
     "c6d19a73838c40238b79e05926bfce53": {
      "model_module": "@jupyter-widgets/base",
      "model_module_version": "1.0.0",
      "model_name": "LayoutModel",
      "state": {
       "width": "250px"
      }
     },
     "c6d96ab2ee1b4f6a8fff370761a3bad1": {
      "model_module": "@jupyter-widgets/base",
      "model_module_version": "1.0.0",
      "model_name": "LayoutModel",
      "state": {
       "width": "600px"
      }
     },
     "c8044eb1c5664aa9816b230b6720620b": {
      "model_module": "@jupyter-widgets/controls",
      "model_module_version": "1.2.0",
      "model_name": "HTMLModel",
      "state": {
       "layout": "IPY_MODEL_c2c7952b33814b06bffa963fddc36fad",
       "style": "IPY_MODEL_147179ef82c34813bb25204d3bea2763",
       "value": "<h4 style=\"font-size:14px;\">Welche Beispiele sind rechtsrekursiv?</h4>"
      }
     },
     "c94bcdae920d4b359709d160e8f0e8c4": {
      "model_module": "@jupyter-widgets/controls",
      "model_module_version": "1.2.0",
      "model_name": "HTMLModel",
      "state": {
       "layout": "IPY_MODEL_32131b4376c84b0db01d264125d2417c",
       "style": "IPY_MODEL_3dbb1a7faa454a168141607ae2b89751",
       "value": "<h4 style=\"font-size:14px;\">Welche Beispiele sind rechtsrekursiv?</h4>"
      }
     },
     "c9bc71c0ec4943929c61bb550e558bb0": {
      "model_module": "@jupyter-widgets/controls",
      "model_module_version": "1.2.0",
      "model_name": "CheckboxModel",
      "state": {
       "description": "NP -> NP",
       "disabled": false,
       "layout": "IPY_MODEL_3ebb6ffddaf34b3b95b5eed7b7bff35f",
       "style": "IPY_MODEL_7e95ccd8d7a9440897de1adb7b44eebf",
       "value": false
      }
     },
     "ca3a839f436443ba9086e136604a41a1": {
      "model_module": "@jupyter-widgets/controls",
      "model_module_version": "1.2.0",
      "model_name": "HTMLModel",
      "state": {
       "layout": "IPY_MODEL_4e6f7c55a4744138955354c985a1322d",
       "style": "IPY_MODEL_cc010d1008354bd98f80ec48175e4bf4",
       "value": "<i>Markieren Sie <ins>alle</ins> passenden Antworten: </i>"
      }
     },
     "cc010d1008354bd98f80ec48175e4bf4": {
      "model_module": "@jupyter-widgets/controls",
      "model_module_version": "1.2.0",
      "model_name": "DescriptionStyleModel",
      "state": {
       "description_width": ""
      }
     },
     "cc8e0beb2edd4078826bf144855e719a": {
      "model_module": "@jupyter-widgets/controls",
      "model_module_version": "1.2.0",
      "model_name": "ButtonModel",
      "state": {
       "description": "Korrekt?",
       "layout": "IPY_MODEL_593176babecf43a29d6e7be5867c4d66",
       "style": "IPY_MODEL_a408c81878c94655a947d4e971eb05fd"
      }
     },
     "cca215e59a87491fa94509b2cc3a2320": {
      "model_module": "@jupyter-widgets/base",
      "model_module_version": "1.0.0",
      "model_name": "LayoutModel",
      "state": {
       "width": "600px"
      }
     },
     "ccbcdfcbcaa04a5ebde1ace3cfa2e8cb": {
      "model_module": "@jupyter-widgets/base",
      "model_module_version": "1.0.0",
      "model_name": "LayoutModel",
      "state": {
       "width": "250px"
      }
     },
     "cdf56998140a4a669cfb17398c7e7652": {
      "model_module": "@jupyter-widgets/controls",
      "model_module_version": "1.2.0",
      "model_name": "CheckboxModel",
      "state": {
       "description": "NOM -> NOM PP",
       "disabled": false,
       "layout": "IPY_MODEL_63137fb381594cdba1a72dcb08830026",
       "style": "IPY_MODEL_b359010896814733afbabf32230c5424",
       "value": false
      }
     },
     "cead938c110a474daec47bf104c50057": {
      "model_module": "@jupyter-widgets/controls",
      "model_module_version": "1.2.0",
      "model_name": "CheckboxModel",
      "state": {
       "description": "Grammatik neu einlesen",
       "disabled": false,
       "layout": "IPY_MODEL_6b6c50827a4345f5bd5dc21b4db8d93a",
       "style": "IPY_MODEL_3e018191d8904e70a93700b63576e435",
       "value": false
      }
     },
     "d0adfa946f6d49ec9c6e36854b6789c7": {
      "model_module": "@jupyter-widgets/controls",
      "model_module_version": "1.2.0",
      "model_name": "DescriptionStyleModel",
      "state": {
       "description_width": "initial"
      }
     },
     "d169bfaa3ef144dd9cfd7fcf405a7e50": {
      "model_module": "@jupyter-widgets/controls",
      "model_module_version": "1.2.0",
      "model_name": "CheckboxModel",
      "state": {
       "description": "<code>trace</code>-Output aktivieren und überprüfen",
       "disabled": false,
       "layout": "IPY_MODEL_3408fcb8e3d2401a8fb4aec71dc4f874",
       "style": "IPY_MODEL_3c44261431cc4ad9937fac7265b6645e",
       "value": false
      }
     },
     "d20a6356a7224c7dae82f3b94ae98138": {
      "model_module": "@jupyter-widgets/base",
      "model_module_version": "1.0.0",
      "model_name": "LayoutModel",
      "state": {
       "width": "250px"
      }
     },
     "d220eecb68af4b09a32d13084edb089e": {
      "model_module": "@jupyter-widgets/base",
      "model_module_version": "1.0.0",
      "model_name": "LayoutModel",
      "state": {
       "width": "600px"
      }
     },
     "d36c9db70cdd4ad0993d076953bf3de6": {
      "model_module": "@jupyter-widgets/controls",
      "model_module_version": "1.2.0",
      "model_name": "ButtonStyleModel",
      "state": {}
     },
     "d3de1453fa244e42995c04d732c1aec7": {
      "model_module": "@jupyter-widgets/base",
      "model_module_version": "1.0.0",
      "model_name": "LayoutModel",
      "state": {
       "width": "250px"
      }
     },
     "d49066dc6ba94052b066c1183ac6d9f7": {
      "model_module": "@jupyter-widgets/controls",
      "model_module_version": "1.2.0",
      "model_name": "DescriptionStyleModel",
      "state": {
       "description_width": "initial"
      }
     },
     "d4c33aecaddd4f4b8d51c7142361c576": {
      "model_module": "@jupyter-widgets/controls",
      "model_module_version": "1.2.0",
      "model_name": "ButtonStyleModel",
      "state": {}
     },
     "d7216f7c8cbc428597f1cf06a88ed467": {
      "model_module": "@jupyter-widgets/controls",
      "model_module_version": "1.2.0",
      "model_name": "DescriptionStyleModel",
      "state": {
       "description_width": ""
      }
     },
     "d733f912f8de43ec8c8cbe522a204417": {
      "model_module": "@jupyter-widgets/controls",
      "model_module_version": "1.2.0",
      "model_name": "ButtonStyleModel",
      "state": {}
     },
     "d8026f1011f9478a9a41148f6e58cb2e": {
      "model_module": "@jupyter-widgets/base",
      "model_module_version": "1.0.0",
      "model_name": "LayoutModel",
      "state": {
       "width": "350px"
      }
     },
     "d81e3c318a384f64bfcb04766a59a722": {
      "model_module": "@jupyter-widgets/controls",
      "model_module_version": "1.2.0",
      "model_name": "HTMLModel",
      "state": {
       "layout": "IPY_MODEL_dc9828373cc143efa9c0d9c93fd5f8fe",
       "style": "IPY_MODEL_d7216f7c8cbc428597f1cf06a88ed467",
       "value": "<h4 style=\"font-size:14px;\">Wie ist im NLTK vorzugehen, wenn ein (wohlgeformter) Satz von einer Grammatik nicht erkannt wird?</h4>"
      }
     },
     "d8bbde657fce4c689822397debb7aa12": {
      "model_module": "@jupyter-widgets/controls",
      "model_module_version": "1.2.0",
      "model_name": "ButtonStyleModel",
      "state": {
       "button_color": "lightgreen"
      }
     },
     "da4412df70d343c3974142acc0adf3eb": {
      "model_module": "@jupyter-widgets/controls",
      "model_module_version": "1.2.0",
      "model_name": "ButtonStyleModel",
      "state": {
       "button_color": "lightgreen"
      }
     },
     "db5a4b575f1a41afb4b49ba8b9143279": {
      "model_module": "@jupyter-widgets/base",
      "model_module_version": "1.0.0",
      "model_name": "LayoutModel",
      "state": {
       "width": "350px"
      }
     },
     "db778c07355a4ab4a36d9d5353ea0e55": {
      "model_module": "@jupyter-widgets/controls",
      "model_module_version": "1.2.0",
      "model_name": "CheckboxModel",
      "state": {
       "description": "NP -> DET N PP",
       "disabled": false,
       "layout": "IPY_MODEL_8519fc5284e746ecb96a09af07b80c1d",
       "style": "IPY_MODEL_65e78ab9a58d4501a693163ac322dfaa",
       "value": false
      }
     },
     "dc1f72e07209499080801578d24099f9": {
      "model_module": "@jupyter-widgets/controls",
      "model_module_version": "1.2.0",
      "model_name": "VBoxModel",
      "state": {
       "children": [
        "IPY_MODEL_3e6b4e3863854f759e323f90e9aab5d6",
        "IPY_MODEL_5924b5bcc45f410badd8f6cc7a73fb74",
        "IPY_MODEL_67e65f3028754017939af5b8740d4b75",
        "IPY_MODEL_53bb65cf478f492a950eb3ecf00320f2"
       ],
       "layout": "IPY_MODEL_e50d8a2391d5477d97fe5c578f926304"
      }
     },
     "dc9828373cc143efa9c0d9c93fd5f8fe": {
      "model_module": "@jupyter-widgets/base",
      "model_module_version": "1.0.0",
      "model_name": "LayoutModel",
      "state": {}
     },
     "dd253f8b259d46d8adf96da9bc7775ef": {
      "model_module": "@jupyter-widgets/controls",
      "model_module_version": "1.2.0",
      "model_name": "CheckboxModel",
      "state": {
       "description": "PP -> P NP",
       "disabled": false,
       "layout": "IPY_MODEL_599f76e9fd614cc1abd2ab5d3b1dd25a",
       "style": "IPY_MODEL_fdaaaafe3af448fe980dc56e3fd574f0",
       "value": false
      }
     },
     "dd4c8b2d06d84880848b3554044b5106": {
      "model_module": "@jupyter-widgets/controls",
      "model_module_version": "1.2.0",
      "model_name": "HTMLModel",
      "state": {
       "layout": "IPY_MODEL_607e6fa31e9f40f1bb93c66965b7dbf5",
       "style": "IPY_MODEL_6dfd012adb8645ceb844bbf3bb513c08",
       "value": "<h4 style=\"font-size:14px;\">Wie können im NLTK die Regeln einer Grammatik ausgegeben werden?</h4>"
      }
     },
     "dd5d7d83bac94757817e0a1e25c66462": {
      "model_module": "@jupyter-widgets/base",
      "model_module_version": "1.0.0",
      "model_name": "LayoutModel",
      "state": {
       "width": "150px"
      }
     },
     "ddc79680fe2e4ef5a774880df002332a": {
      "model_module": "@jupyter-widgets/base",
      "model_module_version": "1.0.0",
      "model_name": "LayoutModel",
      "state": {
       "justify_content": "center"
      }
     },
     "ddd1bee640334632ab353bd73f617c61": {
      "model_module": "@jupyter-widgets/controls",
      "model_module_version": "1.2.0",
      "model_name": "CheckboxModel",
      "state": {
       "description": "PP -> P NP",
       "disabled": false,
       "layout": "IPY_MODEL_2db23c8635ef4411a74d9daecc5353e8",
       "style": "IPY_MODEL_824ee6a4b70c44f4bce809b796118a83",
       "value": false
      }
     },
     "de4eaf4914d04c8a8d573e2d943c22d1": {
      "model_module": "@jupyter-widgets/base",
      "model_module_version": "1.0.0",
      "model_name": "LayoutModel",
      "state": {}
     },
     "de895edaec3e4f9bbfa3a34a6234ba2b": {
      "model_module": "@jupyter-widgets/base",
      "model_module_version": "1.0.0",
      "model_name": "LayoutModel",
      "state": {
       "width": "600px"
      }
     },
     "def95c5d20da45e58691c1f028bf53da": {
      "model_module": "@jupyter-widgets/controls",
      "model_module_version": "1.2.0",
      "model_name": "HTMLModel",
      "state": {
       "layout": "IPY_MODEL_bec14afd93374559b58ab57750ed1562",
       "style": "IPY_MODEL_1ea1fde16e5a4d4cacf1e1240ab0bef2",
       "value": "<h4 style=\"font-size:14px;\">Welche Beispiele für Phrasenstrukturregeln sind linksrekursiv?</h4>"
      }
     },
     "df2b468242874c119e7a75362efb9216": {
      "model_module": "@jupyter-widgets/controls",
      "model_module_version": "1.2.0",
      "model_name": "ButtonModel",
      "state": {
       "description": "Lösung zeigen",
       "layout": "IPY_MODEL_dfa122b0dfae4ac58cde7246985e0b2b",
       "style": "IPY_MODEL_fd8adf4302df45aab33d54861b84d948"
      }
     },
     "dfa122b0dfae4ac58cde7246985e0b2b": {
      "model_module": "@jupyter-widgets/base",
      "model_module_version": "1.0.0",
      "model_name": "LayoutModel",
      "state": {
       "width": "150px"
      }
     },
     "e0873abd39f34e069c4a5e46db629646": {
      "model_module": "@jupyter-widgets/controls",
      "model_module_version": "1.2.0",
      "model_name": "CheckboxModel",
      "state": {
       "description": "PP -> P NP",
       "disabled": false,
       "layout": "IPY_MODEL_2cd625948ac34c1fbf0b8acbdcdd4feb",
       "style": "IPY_MODEL_42eff8a1bff74066a4e32921284ba605",
       "value": false
      }
     },
     "e08d216b1084447aa506cce50572923b": {
      "model_module": "@jupyter-widgets/controls",
      "model_module_version": "1.2.0",
      "model_name": "DescriptionStyleModel",
      "state": {
       "description_width": ""
      }
     },
     "e0c07c836b1f42929866fdef609933a8": {
      "model_module": "@jupyter-widgets/controls",
      "model_module_version": "1.2.0",
      "model_name": "CheckboxModel",
      "state": {
       "description": "PP -> P NP",
       "disabled": false,
       "layout": "IPY_MODEL_8fffa2e0266f49b59a797aa97a58501b",
       "style": "IPY_MODEL_ecd2fbd1ddc248f4aac9e2ce7400d725",
       "value": false
      }
     },
     "e1fe629b12a14539bd07fc7668efd241": {
      "model_module": "@jupyter-widgets/controls",
      "model_module_version": "1.2.0",
      "model_name": "HTMLModel",
      "state": {
       "layout": "IPY_MODEL_bd3e71ed8b984c678e0c8e6ba9081876",
       "style": "IPY_MODEL_e49517315609463fa8bc985849aeb619",
       "value": "<i>Wählen Sie die <ins>eine</ins> korrekte Antwort aus: </i>"
      }
     },
     "e223f05abf464096bdfc2b377554943d": {
      "model_module": "@jupyter-widgets/controls",
      "model_module_version": "1.2.0",
      "model_name": "HBoxModel",
      "state": {
       "children": [
        "IPY_MODEL_4becbed4d2a641179d8cec1d2ac73cfd",
        "IPY_MODEL_8c38a6d5fb774ea88decadc25137b4ad"
       ],
       "layout": "IPY_MODEL_33a03329004b4f46a60170020778d132"
      }
     },
     "e2f41d6bfbf94e97869702a20ad79acc": {
      "model_module": "@jupyter-widgets/controls",
      "model_module_version": "1.2.0",
      "model_name": "ButtonModel",
      "state": {
       "description": "Richtig!",
       "layout": "IPY_MODEL_d8026f1011f9478a9a41148f6e58cb2e",
       "style": "IPY_MODEL_447e7a0020f244f0ba73a8ce7a8b66d6"
      }
     },
     "e2fcd19858134e7598721b54508e2cbb": {
      "model_module": "@jupyter-widgets/base",
      "model_module_version": "1.0.0",
      "model_name": "LayoutModel",
      "state": {
       "width": "600px"
      }
     },
     "e3abb0a16f024033938af65637100f0d": {
      "model_module": "@jupyter-widgets/controls",
      "model_module_version": "1.2.0",
      "model_name": "DescriptionStyleModel",
      "state": {
       "description_width": "initial"
      }
     },
     "e3c9e8a53f374679b0c21fcaf4b3b59a": {
      "model_module": "@jupyter-widgets/controls",
      "model_module_version": "1.2.0",
      "model_name": "CheckboxModel",
      "state": {
       "description": "NOM -> NOM PP",
       "disabled": false,
       "layout": "IPY_MODEL_2ae58d024b8245d0bc8dc8fd636ac814",
       "style": "IPY_MODEL_266e239e2cef434d8e6dfa80de229e41",
       "value": false
      }
     },
     "e40f032726c347d1936ac2118b2f2c66": {
      "model_module": "@jupyter-widgets/base",
      "model_module_version": "1.0.0",
      "model_name": "LayoutModel",
      "state": {
       "width": "600px"
      }
     },
     "e49517315609463fa8bc985849aeb619": {
      "model_module": "@jupyter-widgets/controls",
      "model_module_version": "1.2.0",
      "model_name": "DescriptionStyleModel",
      "state": {
       "description_width": ""
      }
     },
     "e49a9a0fe3384900b67456691c3fe3fc": {
      "model_module": "@jupyter-widgets/base",
      "model_module_version": "1.0.0",
      "model_name": "LayoutModel",
      "state": {
       "width": "600px"
      }
     },
     "e50d8a2391d5477d97fe5c578f926304": {
      "model_module": "@jupyter-widgets/base",
      "model_module_version": "1.0.0",
      "model_name": "LayoutModel",
      "state": {}
     },
     "e558cf03cae442c48a2f446acf8f1d70": {
      "model_module": "@jupyter-widgets/base",
      "model_module_version": "1.0.0",
      "model_name": "LayoutModel",
      "state": {
       "justify_content": "center"
      }
     },
     "e73f84780fcb4e339581030fb6549701": {
      "model_module": "@jupyter-widgets/controls",
      "model_module_version": "1.2.0",
      "model_name": "CheckboxModel",
      "state": {
       "description": "NOM -> ADJ NOM",
       "disabled": false,
       "layout": "IPY_MODEL_001b1595014b41d4ab08c29770137b81",
       "style": "IPY_MODEL_81d68f6e9ac74d50a427e9b4b1c7de87",
       "value": true
      }
     },
     "e8bedde81ea04fa5a34fe9f55d73ca06": {
      "model_module": "@jupyter-widgets/controls",
      "model_module_version": "1.2.0",
      "model_name": "DescriptionStyleModel",
      "state": {
       "description_width": ""
      }
     },
     "eb5f979d24e7465babb395efd42bce43": {
      "model_module": "@jupyter-widgets/controls",
      "model_module_version": "1.2.0",
      "model_name": "DescriptionStyleModel",
      "state": {
       "description_width": ""
      }
     },
     "ecd2fbd1ddc248f4aac9e2ce7400d725": {
      "model_module": "@jupyter-widgets/controls",
      "model_module_version": "1.2.0",
      "model_name": "DescriptionStyleModel",
      "state": {
       "description_width": "initial"
      }
     },
     "ee5ac263ad4a4435a40356b4ad3b134d": {
      "model_module": "@jupyter-widgets/controls",
      "model_module_version": "1.2.0",
      "model_name": "CheckboxModel",
      "state": {
       "description": "NOM -> NOM PP",
       "disabled": false,
       "layout": "IPY_MODEL_79ac344eaa5c4cd8aadf7a8206ebbc4c",
       "style": "IPY_MODEL_82dc9b3bf0b1438cb5cee8a5e0848608",
       "value": false
      }
     },
     "ef218a6b84ab44cc89009ce4e397524c": {
      "model_module": "@jupyter-widgets/controls",
      "model_module_version": "1.2.0",
      "model_name": "ButtonModel",
      "state": {
       "description": "Korrekt?",
       "layout": "IPY_MODEL_8c629294ddfe4a789c0b7d9ab9aab7ab",
       "style": "IPY_MODEL_bda6627c92304b62b5637f76162c98ee"
      }
     },
     "ef5d3fce1d404c05b29a5d7c63834cc9": {
      "model_module": "@jupyter-widgets/controls",
      "model_module_version": "1.2.0",
      "model_name": "DescriptionStyleModel",
      "state": {
       "description_width": "initial"
      }
     },
     "ef98dba9a3ae45c1845249a641d805b2": {
      "model_module": "@jupyter-widgets/base",
      "model_module_version": "1.0.0",
      "model_name": "LayoutModel",
      "state": {
       "width": "250px"
      }
     },
     "efb9fb900c534062a2b89dea96007d30": {
      "model_module": "@jupyter-widgets/controls",
      "model_module_version": "1.2.0",
      "model_name": "HTMLModel",
      "state": {
       "layout": "IPY_MODEL_e558cf03cae442c48a2f446acf8f1d70",
       "style": "IPY_MODEL_85b5149934d24b0db5b7944ad4a5fd07",
       "value": "<i>Markieren Sie <ins>alle</ins> passenden Antworten: </i>"
      }
     },
     "efc8d0fa4eca4734bb2cec43c14b3020": {
      "model_module": "@jupyter-widgets/base",
      "model_module_version": "1.0.0",
      "model_name": "LayoutModel",
      "state": {}
     },
     "efca75db5d4c404db503327f440215b9": {
      "model_module": "@jupyter-widgets/base",
      "model_module_version": "1.0.0",
      "model_name": "LayoutModel",
      "state": {
       "width": "600px"
      }
     },
     "f0458c3fcf6b4d98a2db8e4bbdb1637c": {
      "model_module": "@jupyter-widgets/base",
      "model_module_version": "1.0.0",
      "model_name": "LayoutModel",
      "state": {}
     },
     "f05f17160e3149d5aa04110648cebe2f": {
      "model_module": "@jupyter-widgets/base",
      "model_module_version": "1.0.0",
      "model_name": "LayoutModel",
      "state": {}
     },
     "f0ee18b1558e4f9cb442c7706042f706": {
      "model_module": "@jupyter-widgets/base",
      "model_module_version": "1.0.0",
      "model_name": "LayoutModel",
      "state": {}
     },
     "f1851dfb3a3749b9b8b819b43d6e793d": {
      "model_module": "@jupyter-widgets/base",
      "model_module_version": "1.0.0",
      "model_name": "LayoutModel",
      "state": {
       "width": "250px"
      }
     },
     "f2e2671185bf4a1abdb001daf2a1eadb": {
      "model_module": "@jupyter-widgets/controls",
      "model_module_version": "1.2.0",
      "model_name": "CheckboxModel",
      "state": {
       "description": "PP -> P NP",
       "disabled": false,
       "layout": "IPY_MODEL_bef1f14cc8de463bad6bbedaf4a1e3bd",
       "style": "IPY_MODEL_a41f3bb0161649148123991124b83890",
       "value": false
      }
     },
     "f36651e745bc4dccb3f171ca0c875b40": {
      "model_module": "@jupyter-widgets/controls",
      "model_module_version": "1.2.0",
      "model_name": "DescriptionStyleModel",
      "state": {
       "description_width": ""
      }
     },
     "f41e5a0e7d174897a8b32ab438c9dfe7": {
      "model_module": "@jupyter-widgets/base",
      "model_module_version": "1.0.0",
      "model_name": "LayoutModel",
      "state": {
       "justify_content": "center"
      }
     },
     "f5b0ddaaf1c34d329bcec41cffbb8785": {
      "model_module": "@jupyter-widgets/controls",
      "model_module_version": "1.2.0",
      "model_name": "ButtonModel",
      "state": {
       "description": "Korrekt?",
       "layout": "IPY_MODEL_d3de1453fa244e42995c04d732c1aec7",
       "style": "IPY_MODEL_7370ffa0523143219afa8f32666d0cdd"
      }
     },
     "f7c7fdb337ac48feb63fda966f25d570": {
      "model_module": "@jupyter-widgets/controls",
      "model_module_version": "1.2.0",
      "model_name": "VBoxModel",
      "state": {
       "children": [
        "IPY_MODEL_dd4c8b2d06d84880848b3554044b5106",
        "IPY_MODEL_4f89295ce55345ed8d997b319b58c479",
        "IPY_MODEL_b675a7ac094940379893d6c90632d359",
        "IPY_MODEL_afbc494f567949cfa8d2100b5afbd896"
       ],
       "layout": "IPY_MODEL_bf9920584fd04706ad89438f6337ed0f"
      }
     },
     "f957dd04aa3448dc87fe362d60b11ea4": {
      "model_module": "@jupyter-widgets/controls",
      "model_module_version": "1.2.0",
      "model_name": "DescriptionStyleModel",
      "state": {
       "description_width": ""
      }
     },
     "fac7f40d7d344f10920dc5a7db966e22": {
      "model_module": "@jupyter-widgets/base",
      "model_module_version": "1.0.0",
      "model_name": "LayoutModel",
      "state": {}
     },
     "fc6a0e3512b04113a4c1b750f5690128": {
      "model_module": "@jupyter-widgets/controls",
      "model_module_version": "1.2.0",
      "model_name": "DescriptionStyleModel",
      "state": {
       "description_width": ""
      }
     },
     "fc86253da9bb4980b3c7f9781e9a0ef8": {
      "model_module": "@jupyter-widgets/base",
      "model_module_version": "1.0.0",
      "model_name": "LayoutModel",
      "state": {
       "width": "600px"
      }
     },
     "fcdc0fa188e34730a6c44d1ee6a1c9d7": {
      "model_module": "@jupyter-widgets/base",
      "model_module_version": "1.0.0",
      "model_name": "LayoutModel",
      "state": {}
     },
     "fd8adf4302df45aab33d54861b84d948": {
      "model_module": "@jupyter-widgets/controls",
      "model_module_version": "1.2.0",
      "model_name": "ButtonStyleModel",
      "state": {}
     },
     "fdaaaafe3af448fe980dc56e3fd574f0": {
      "model_module": "@jupyter-widgets/controls",
      "model_module_version": "1.2.0",
      "model_name": "DescriptionStyleModel",
      "state": {
       "description_width": "initial"
      }
     },
     "ff25f2bccbd947759f33a53f009f91cd": {
      "model_module": "@jupyter-widgets/controls",
      "model_module_version": "1.2.0",
      "model_name": "CheckboxModel",
      "state": {
       "description": "NP -> DET N PP",
       "disabled": false,
       "layout": "IPY_MODEL_0f7b16451c7a4da8a940d419842909ff",
       "style": "IPY_MODEL_b542ed7c542f46328b165a7ed7869991",
       "value": false
      }
     },
     "ffb2d43440d348a88f5b26ce584ec7b4": {
      "model_module": "@jupyter-widgets/controls",
      "model_module_version": "1.2.0",
      "model_name": "DescriptionStyleModel",
      "state": {
       "description_width": "initial"
      }
     }
    },
    "version_major": 2,
    "version_minor": 0
   }
  }
 },
 "nbformat": 4,
 "nbformat_minor": 2
}
