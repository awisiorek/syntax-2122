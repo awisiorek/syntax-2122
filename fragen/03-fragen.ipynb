{
 "cells": [
  {
   "cell_type": "markdown",
   "metadata": {},
   "source": [
    "***Syntax natürlicher Sprachen, WS 2021/22***\n",
    "\n",
    "---\n",
    "# Wiederholungsfragen 3"
   ]
  },
  {
   "cell_type": "code",
   "execution_count": 1,
   "metadata": {},
   "outputs": [],
   "source": [
    "from exercises_3 import *\n",
    "from questions import aufgabe\n",
    "from nltk.tree import Tree"
   ]
  },
  {
   "cell_type": "markdown",
   "metadata": {},
   "source": [
    "---\n",
    "## Frage 1: Wortarten im Kontext\n",
    "\n",
    "#### Betrachten sie folgende Sätze:\n",
    "1. *Er spielt gerne Schach.*\n",
    "2. *Er spielt gut Schach.*\n"
   ]
  },
  {
   "cell_type": "markdown",
   "metadata": {},
   "source": [
    "---\n",
    "### Frage 1 a:\n",
    "\n",
    "#### Diskutieren Sie, ob es sich bei dem Wort *gerne* in Satz 1 um ein Adverb oder ein Adjektiv handelt."
   ]
  },
  {
   "cell_type": "code",
   "execution_count": 2,
   "metadata": {},
   "outputs": [
    {
     "data": {
      "application/vnd.jupyter.widget-view+json": {
       "model_id": "1da1f1402ad2453e83e9f947e9495f81",
       "version_major": 2,
       "version_minor": 0
      },
      "text/plain": [
       "MultipleChoice(children=(HTML(value='<h4 style=\"font-size:14px;\">Welche Eigenschaften hat <i>gerne</i> in Satz…"
      ]
     },
     "metadata": {},
     "output_type": "display_data"
    },
    {
     "data": {
      "application/vnd.jupyter.widget-view+json": {
       "model_id": "cb3a3b539ed84d7fb8a34b596a8f7194",
       "version_major": 2,
       "version_minor": 0
      },
      "text/plain": [
       "SingleChoice(children=(HTML(value='<h4 style=\"font-size:14px;\">Welche Wortart folgt damit für das Wort <i>gern…"
      ]
     },
     "metadata": {},
     "output_type": "display_data"
    }
   ],
   "source": [
    "aufgabe(blatt3_1a)"
   ]
  },
  {
   "cell_type": "markdown",
   "metadata": {},
   "source": [
    "---\n",
    "### Frage 1 b:\n",
    "\n",
    "#### Um welche Wortart handelt es sich bei dem Lexem *gut* in Satz 2? Diskutieren Sie die Probleme, die hier bei der Wortartenbestimmung auftreten."
   ]
  },
  {
   "cell_type": "code",
   "execution_count": 3,
   "metadata": {},
   "outputs": [
    {
     "data": {
      "application/vnd.jupyter.widget-view+json": {
       "model_id": "43593db1cae24cecad988312985860ea",
       "version_major": 2,
       "version_minor": 0
      },
      "text/plain": [
       "MultipleChoice(children=(HTML(value='<h4 style=\"font-size:14px;\">Welche Eigenschaften hat <i>gut</i> in Satz 2…"
      ]
     },
     "metadata": {},
     "output_type": "display_data"
    },
    {
     "data": {
      "application/vnd.jupyter.widget-view+json": {
       "model_id": "87948f404df94645ae90b1683fd30b07",
       "version_major": 2,
       "version_minor": 0
      },
      "text/plain": [
       "SingleChoice(children=(HTML(value='<h4 style=\"font-size:14px;\">Welche Wortart folgt damit für das Wort <i>gut<…"
      ]
     },
     "metadata": {},
     "output_type": "display_data"
    },
    {
     "data": {
      "application/vnd.jupyter.widget-view+json": {
       "model_id": "a2c4209a0219469e81d0cf729330f0c1",
       "version_major": 2,
       "version_minor": 0
      },
      "text/plain": [
       "SingleChoice(children=(HTML(value='<h4 style=\"font-size:14px;\">Welche Wortart könnte man für das Wort <i>gut<…"
      ]
     },
     "metadata": {},
     "output_type": "display_data"
    }
   ],
   "source": [
    "aufgabe(blatt3_1b)"
   ]
  },
  {
   "cell_type": "markdown",
   "metadata": {},
   "source": [
    "---\n",
    "## Frage 2: Phrasen und Konstituenten"
   ]
  },
  {
   "cell_type": "markdown",
   "metadata": {},
   "source": [
    "#### Erläutern Sie am Beispiel des Wortes *Verloren* im folgenden Satz den Unterschied zwischen Konstituente und Phrase.\n",
    "\n",
    "- *Verloren hat er seinen Schlüsselbund zwar noch nie, aber oft genug verlegt.*"
   ]
  },
  {
   "cell_type": "code",
   "execution_count": 4,
   "metadata": {
    "scrolled": false
   },
   "outputs": [
    {
     "data": {
      "application/vnd.jupyter.widget-view+json": {
       "model_id": "e909bb12ea0d4cc89d95be21bd79c73f",
       "version_major": 2,
       "version_minor": 0
      },
      "text/plain": [
       "Lueckentext(children=(HTML(value='<i>Vervollständigen Sie den Lückentext: </i>', layout=Layout(justify_content…"
      ]
     },
     "metadata": {},
     "output_type": "display_data"
    }
   ],
   "source": [
    "aufgabe(blatt3_2)"
   ]
  },
  {
   "cell_type": "markdown",
   "metadata": {},
   "source": [
    "--- \n",
    "# Hausaufgaben"
   ]
  },
  {
   "cell_type": "markdown",
   "metadata": {},
   "source": [
    "---\n",
    "## Frage 3: Konstituententests"
   ]
  },
  {
   "cell_type": "markdown",
   "metadata": {},
   "source": [
    "#### Zeigen Sie mit dem Substitutionstest, dass es sich in folgendem Satz bei der Wortverbingung *nur mit einem Schritt* um eine Konstituente handelt.\n",
    "\n",
    "- Eine Reise von tausend Meilen beginnt auch nur mit einem Schritt.\n",
    "\n",
    "#### Beantworten Sie anschließend die folgenden Fragen!"
   ]
  },
  {
   "cell_type": "markdown",
   "metadata": {},
   "source": [
    "Substitutionstest: \n",
    "\n",
    "**LÖSUNG**: ***Eine Reise von tausend Meilen beginnt auch so.***"
   ]
  },
  {
   "cell_type": "code",
   "execution_count": 6,
   "metadata": {},
   "outputs": [
    {
     "data": {
      "application/vnd.jupyter.widget-view+json": {
       "model_id": "6fbe1a57f910464b839eaf1e080d2649",
       "version_major": 2,
       "version_minor": 0
      },
      "text/plain": [
       "MultipleChoice(children=(HTML(value='<h4 style=\"font-size:14px;\">Welcher ist der richtig permutierte Satz?</h4…"
      ]
     },
     "metadata": {},
     "output_type": "display_data"
    },
    {
     "data": {
      "application/vnd.jupyter.widget-view+json": {
       "model_id": "aacc2642fb5a4c03945975d803c04809",
       "version_major": 2,
       "version_minor": 0
      },
      "text/plain": [
       "MultipleChoice(children=(HTML(value='<h4 style=\"font-size:14px;\"><i>Eine Reise beginnt auch nur mit einem Schr…"
      ]
     },
     "metadata": {},
     "output_type": "display_data"
    }
   ],
   "source": [
    "aufgabe(blatt3_3)"
   ]
  },
  {
   "cell_type": "markdown",
   "metadata": {},
   "source": [
    "---\n",
    "## Fragen 4: Fragen zu NLTK-Kapitel 5"
   ]
  },
  {
   "cell_type": "markdown",
   "metadata": {},
   "source": [
    "#### Lesen Sie das Vorwort von NLTK-Kapitel 5 (’Categorizing and Tagging Words’) sowie die Teilkapitel 5.1, 5.2 und 5.7: http://www.nltk.org/book/ch05.html.\n",
    "\n",
    "#### Beantworten Sie insbesondere folgende Fragen:"
   ]
  },
  {
   "cell_type": "markdown",
   "metadata": {},
   "source": [
    "---\n",
    "### Frage 4 a:"
   ]
  },
  {
   "cell_type": "code",
   "execution_count": 7,
   "metadata": {},
   "outputs": [
    {
     "data": {
      "application/vnd.jupyter.widget-view+json": {
       "model_id": "887077499a6344499cebce5323cc616d",
       "version_major": 2,
       "version_minor": 0
      },
      "text/plain": [
       "SingleChoice(children=(HTML(value='<h4 style=\"font-size:14px;\">Was ist der Input eines Part-of-Speech-Taggers?…"
      ]
     },
     "metadata": {},
     "output_type": "display_data"
    },
    {
     "data": {
      "application/vnd.jupyter.widget-view+json": {
       "model_id": "da750fa18b8c46dba36676e527cfdc5c",
       "version_major": 2,
       "version_minor": 0
      },
      "text/plain": [
       "SingleChoice(children=(HTML(value='<h4 style=\"font-size:14px;\">Was ist der Output eines Part-of-Speech-Taggers…"
      ]
     },
     "metadata": {},
     "output_type": "display_data"
    },
    {
     "data": {
      "application/vnd.jupyter.widget-view+json": {
       "model_id": "9ba7b8f55e0c4983bd2555c3f2982427",
       "version_major": 2,
       "version_minor": 0
      },
      "text/plain": [
       "OpenTextfield(children=(HTML(value='<h4 style=\"font-size:14px;\">Wie wirt der POS-Tagger im NLTK aufgerufen?</h…"
      ]
     },
     "metadata": {},
     "output_type": "display_data"
    }
   ],
   "source": [
    "aufgabe(blatt3_4a)"
   ]
  },
  {
   "cell_type": "markdown",
   "metadata": {},
   "source": [
    "---\n",
    "### Frage 4 b:\n",
    "\n",
    "#### Sehen Sie sich folgenden Codeblock und dessen Output an (s. auch NLTK 5.1):"
   ]
  },
  {
   "cell_type": "code",
   "execution_count": 7,
   "metadata": {},
   "outputs": [
    {
     "name": "stdout",
     "output_type": "stream",
     "text": [
      "the his this that their one any no her its in our my some your each it\n",
      "all another of\n",
      "\n",
      "\n",
      "good much simple one new little white young sure beautiful that is\n",
      "time quiet certain great small proud bad thin\n",
      "\n",
      "\n",
      "time way day year man state work world moment country house group case\n",
      "room war church area job point car\n"
     ]
    }
   ],
   "source": [
    "import nltk\n",
    "text = nltk.Text(word.lower() for word in nltk.corpus.brown.words())\n",
    "\n",
    "text.similar('a')\n",
    "print('\\n')\n",
    "text.similar('nice')\n",
    "print('\\n')\n",
    "text.similar('book')"
   ]
  },
  {
   "cell_type": "code",
   "execution_count": 8,
   "metadata": {},
   "outputs": [
    {
     "data": {
      "application/vnd.jupyter.widget-view+json": {
       "model_id": "84103458bcd2455195bad5d6303063c7",
       "version_major": 2,
       "version_minor": 0
      },
      "text/plain": [
       "MultipleChoice(children=(HTML(value='<h4 style=\"font-size:14px;\">Was leistet die Funktion <code>nltk.similar()…"
      ]
     },
     "metadata": {},
     "output_type": "display_data"
    }
   ],
   "source": [
    "aufgabe(blatt3_4b)"
   ]
  },
  {
   "cell_type": "markdown",
   "metadata": {},
   "source": [
    "---\n",
    "### Frage 4 c:\n",
    "\n",
    "#### Erklären Sie, wie im zweiten der folgenden Codeblocks (NLTK 5.2.3/4) syntaktische Muster festgestellt werden. \n",
    "\n",
    "#### Füllen Sie mit diesem Wissen den Lückentext."
   ]
  },
  {
   "cell_type": "code",
   "execution_count": 9,
   "metadata": {},
   "outputs": [
    {
     "name": "stdout",
     "output_type": "stream",
     "text": [
      "(('The', 'DET'), ('Fulton', 'NOUN'))\n",
      "(('Fulton', 'NOUN'), ('County', 'NOUN'))\n",
      "(('County', 'NOUN'), ('Grand', 'ADJ'))\n"
     ]
    }
   ],
   "source": [
    "from nltk.corpus import brown\n",
    "brown_news_tagged = brown.tagged_words(categories='news', tagset='universal')\n",
    "word_tag_pairs = nltk.bigrams(brown_news_tagged)\n",
    "word_tag_pairs_list = list(word_tag_pairs)\n",
    "print(word_tag_pairs_list[0])\n",
    "print(word_tag_pairs_list[1])\n",
    "print(word_tag_pairs_list[2])"
   ]
  },
  {
   "cell_type": "code",
   "execution_count": 10,
   "metadata": {},
   "outputs": [
    {
     "data": {
      "text/plain": [
       "['NOUN',\n",
       " 'DET',\n",
       " 'ADJ',\n",
       " 'ADP',\n",
       " '.',\n",
       " 'VERB',\n",
       " 'CONJ',\n",
       " 'NUM',\n",
       " 'ADV',\n",
       " 'PRT',\n",
       " 'PRON',\n",
       " 'X']"
      ]
     },
     "execution_count": 10,
     "metadata": {},
     "output_type": "execute_result"
    }
   ],
   "source": [
    "word_tag_pairs = nltk.bigrams(brown_news_tagged)\n",
    "noun_preceders = [a[1] for (a, b) in word_tag_pairs if b[1] == 'NOUN']\n",
    "fdist = nltk.FreqDist(noun_preceders)\n",
    "[tag for (tag, _) in fdist.most_common()]"
   ]
  },
  {
   "cell_type": "code",
   "execution_count": 9,
   "metadata": {},
   "outputs": [
    {
     "data": {
      "application/vnd.jupyter.widget-view+json": {
       "model_id": "c62d71fa20794396a69d8c40366dee1f",
       "version_major": 2,
       "version_minor": 0
      },
      "text/plain": [
       "Lueckentext(children=(HTML(value='<i>Vervollständigen Sie den Lückentext: </i>', layout=Layout(justify_content…"
      ]
     },
     "metadata": {},
     "output_type": "display_data"
    }
   ],
   "source": [
    "aufgabe(blatt3_4c)"
   ]
  },
  {
   "cell_type": "markdown",
   "metadata": {},
   "source": [
    "---\n",
    "### Frage 4 d:"
   ]
  },
  {
   "cell_type": "code",
   "execution_count": 10,
   "metadata": {},
   "outputs": [
    {
     "data": {
      "application/vnd.jupyter.widget-view+json": {
       "model_id": "4befb5d818ec4a2daa493b1b050a793f",
       "version_major": 2,
       "version_minor": 0
      },
      "text/plain": [
       "MultipleChoice(children=(HTML(value='<h4 style=\"font-size:14px;\">Was sind morphologische Kriterien für Wortkat…"
      ]
     },
     "metadata": {},
     "output_type": "display_data"
    },
    {
     "data": {
      "application/vnd.jupyter.widget-view+json": {
       "model_id": "76b90314d1a943faa8ea8d066af0e960",
       "version_major": 2,
       "version_minor": 0
      },
      "text/plain": [
       "MultipleChoice(children=(HTML(value='<h4 style=\"font-size:14px;\">Was sind syntaktische Kriterien für Wortkateg…"
      ]
     },
     "metadata": {},
     "output_type": "display_data"
    },
    {
     "data": {
      "application/vnd.jupyter.widget-view+json": {
       "model_id": "88d51b3fa0dc478194c14af854607b79",
       "version_major": 2,
       "version_minor": 0
      },
      "text/plain": [
       "SingleChoice(children=(HTML(value='<h4 style=\"font-size:14px;\">Was bedeutet das Tag <i>VB</i> im Browntagset (…"
      ]
     },
     "metadata": {},
     "output_type": "display_data"
    },
    {
     "data": {
      "application/vnd.jupyter.widget-view+json": {
       "model_id": "7d7984507546449781a1f1290a0a03a7",
       "version_major": 2,
       "version_minor": 0
      },
      "text/plain": [
       "SingleChoice(children=(HTML(value='<h4 style=\"font-size:14px;\">Was bedeutet das Tag <i>VBZ</i> im Browntagset …"
      ]
     },
     "metadata": {},
     "output_type": "display_data"
    },
    {
     "data": {
      "application/vnd.jupyter.widget-view+json": {
       "model_id": "e0498aad3fd044a49bf58e6e8e55aa6f",
       "version_major": 2,
       "version_minor": 0
      },
      "text/plain": [
       "SingleChoice(children=(HTML(value='<h4 style=\"font-size:14px;\">Was bedeutet das Tag <i>VBN</i> im Browntagset …"
      ]
     },
     "metadata": {},
     "output_type": "display_data"
    },
    {
     "data": {
      "application/vnd.jupyter.widget-view+json": {
       "model_id": "a6aaf2b4933640a69e28e8fbc7ca824a",
       "version_major": 2,
       "version_minor": 0
      },
      "text/plain": [
       "SingleChoice(children=(HTML(value='<h4 style=\"font-size:14px;\">Was bedeutet das Tag <i>VBG</i> im Browntagset …"
      ]
     },
     "metadata": {},
     "output_type": "display_data"
    },
    {
     "data": {
      "application/vnd.jupyter.widget-view+json": {
       "model_id": "e2a6bc6cad29419ab1e1e207445eed53",
       "version_major": 2,
       "version_minor": 0
      },
      "text/plain": [
       "SingleChoice(children=(HTML(value='<h4 style=\"font-size:14px;\">Was bedeutet das Tag <i>VBD</i> im Browntagset …"
      ]
     },
     "metadata": {},
     "output_type": "display_data"
    }
   ],
   "source": [
    "aufgabe(blatt3_4d)"
   ]
  },
  {
   "cell_type": "markdown",
   "metadata": {},
   "source": [
    "---\n",
    "## Fragen 5: Fragen zu NLTK-Kapitel 8.2"
   ]
  },
  {
   "cell_type": "markdown",
   "metadata": {},
   "source": [
    "#### Lesen Sie das NLTK-Teilkapitel 8.2 (’What’s the Use of Syntax?’): http://www.nltk.org/book/ch08.html.\n",
    "\n",
    "#### Beantworten Sie insbesondere folgende Fragen:"
   ]
  },
  {
   "cell_type": "markdown",
   "metadata": {},
   "source": [
    "---\n",
    "### Frage 5 a:\n",
    "\n",
    "#### Durch welches Prinzip lassen sich Konstituenten nachweisen?"
   ]
  },
  {
   "cell_type": "code",
   "execution_count": 11,
   "metadata": {},
   "outputs": [
    {
     "data": {
      "application/vnd.jupyter.widget-view+json": {
       "model_id": "0c664ec0a6bf4092a03a1fa0ebf98819",
       "version_major": 2,
       "version_minor": 0
      },
      "text/plain": [
       "Lueckentext(children=(HTML(value='<i>Vervollständigen Sie den Lückentext: </i>', layout=Layout(justify_content…"
      ]
     },
     "metadata": {},
     "output_type": "display_data"
    }
   ],
   "source": [
    "aufgabe(blatt3_5a)"
   ]
  },
  {
   "cell_type": "markdown",
   "metadata": {},
   "source": [
    "---\n",
    "### Frage 5 b:\n",
    "\n",
    "#### Welche Einschränkung gibt es bei der Koordinierung von Phrasen?"
   ]
  },
  {
   "cell_type": "code",
   "execution_count": 12,
   "metadata": {},
   "outputs": [
    {
     "data": {
      "application/vnd.jupyter.widget-view+json": {
       "model_id": "196dfc5a3f2242e4b64761833992ae5f",
       "version_major": 2,
       "version_minor": 0
      },
      "text/plain": [
       "Lueckentext(children=(HTML(value='<i>Vervollständigen Sie den Lückentext: </i>', layout=Layout(justify_content…"
      ]
     },
     "metadata": {},
     "output_type": "display_data"
    }
   ],
   "source": [
    "aufgabe(blatt3_5b)"
   ]
  }
 ],
 "metadata": {
  "kernelspec": {
   "display_name": "Python 3",
   "language": "python",
   "name": "python3"
  },
  "language_info": {
   "codemirror_mode": {
    "name": "ipython",
    "version": 3
   },
   "file_extension": ".py",
   "mimetype": "text/x-python",
   "name": "python",
   "nbconvert_exporter": "python",
   "pygments_lexer": "ipython3",
   "version": "3.6.1"
  },
  "widgets": {
   "application/vnd.jupyter.widget-state+json": {
    "state": {
     "0007082cf7514f62aac3aa66ee72c7e7": {
      "model_module": "@jupyter-widgets/base",
      "model_module_version": "1.0.0",
      "model_name": "LayoutModel",
      "state": {}
     },
     "00258b0b8dcc4221b884fb06947711e3": {
      "model_module": "@jupyter-widgets/base",
      "model_module_version": "1.0.0",
      "model_name": "LayoutModel",
      "state": {
       "width": "150px"
      }
     },
     "003c358b6441433b875c5338062c97a1": {
      "model_module": "@jupyter-widgets/controls",
      "model_module_version": "1.2.0",
      "model_name": "DropdownModel",
      "state": {
       "_options_labels": [
        "Mittelfeld",
        "Nachfeld",
        "Vorfeld",
        " "
       ],
       "index": 3,
       "layout": "IPY_MODEL_a8312e77973f4bd2ab5dda46af8184aa",
       "style": "IPY_MODEL_9960a7c192114e469aab979c5b6fa57e"
      }
     },
     "0052a46c04064bf0bff68bbc159ef40c": {
      "model_module": "@jupyter-widgets/controls",
      "model_module_version": "1.2.0",
      "model_name": "ButtonModel",
      "state": {
       "description": "past participle",
       "layout": "IPY_MODEL_d219451345174d79abbc6518459970c9",
       "style": "IPY_MODEL_ff18f2504a9140dfaeca8566ddf8c0cd"
      }
     },
     "00627cc1eaff4e7dbea425e0c0a8a85e": {
      "model_module": "@jupyter-widgets/controls",
      "model_module_version": "1.2.0",
      "model_name": "ButtonStyleModel",
      "state": {}
     },
     "006c7d3505c54186acdbe61c47f88772": {
      "model_module": "@jupyter-widgets/controls",
      "model_module_version": "1.2.0",
      "model_name": "ButtonModel",
      "state": {
       "description": "Keine der anderen Möglichkeiten",
       "layout": "IPY_MODEL_bfd1a409acec447691f827cf4db1524b",
       "style": "IPY_MODEL_2f4eb4193b4b4d37b37d248c4a8f972d"
      }
     },
     "0141cda9c0d746ac92c913de76767922": {
      "model_module": "@jupyter-widgets/base",
      "model_module_version": "1.0.0",
      "model_name": "LayoutModel",
      "state": {
       "width": "600px"
      }
     },
     "015c341b869f408e99d8ce557246c748": {
      "model_module": "@jupyter-widgets/controls",
      "model_module_version": "1.2.0",
      "model_name": "ButtonStyleModel",
      "state": {}
     },
     "0175919d7843437888ac5e96bc52ead1": {
      "model_module": "@jupyter-widgets/controls",
      "model_module_version": "1.2.0",
      "model_name": "HTMLModel",
      "state": {
       "layout": "IPY_MODEL_2558ab9de10c48d18dc272b2975dfec9",
       "style": "IPY_MODEL_53de42281404447d8addfa8d4ec93e16",
       "value": "<i>Wählen Sie die <ins>eine</ins> korrekte Antwort aus: </i>"
      }
     },
     "017ec6e9135b46a3923cdec0558ebb24": {
      "model_module": "@jupyter-widgets/controls",
      "model_module_version": "1.2.0",
      "model_name": "DescriptionStyleModel",
      "state": {
       "description_width": "initial"
      }
     },
     "018de17deb80425eb52d01731f39b266": {
      "model_module": "@jupyter-widgets/base",
      "model_module_version": "1.0.0",
      "model_name": "LayoutModel",
      "state": {}
     },
     "01ac87c3c89d427fb34666d8cff76bda": {
      "model_module": "@jupyter-widgets/base",
      "model_module_version": "1.0.0",
      "model_name": "LayoutModel",
      "state": {
       "width": "250px"
      }
     },
     "01ee330eea60405bb142ce34a9f8d1a4": {
      "model_module": "@jupyter-widgets/controls",
      "model_module_version": "1.2.0",
      "model_name": "DescriptionStyleModel",
      "state": {
       "description_width": ""
      }
     },
     "0232c899bf074806860515fca4952ed4": {
      "model_module": "@jupyter-widgets/controls",
      "model_module_version": "1.2.0",
      "model_name": "HBoxModel",
      "state": {
       "children": [
        "IPY_MODEL_573049781e87439fa4ae1ef30ffac76e"
       ],
       "layout": "IPY_MODEL_fd43eba6bf774747a55a7f1c3333a5de"
      }
     },
     "02383fcd62204625a923b8723bfa6d63": {
      "model_module": "@jupyter-widgets/controls",
      "model_module_version": "1.2.0",
      "model_name": "DescriptionStyleModel",
      "state": {
       "description_width": ""
      }
     },
     "02595e2f41ee4f53893cfa12d3c7b3a8": {
      "model_module": "@jupyter-widgets/controls",
      "model_module_version": "1.2.0",
      "model_name": "HBoxModel",
      "state": {
       "children": [
        "IPY_MODEL_88e1da51fb5a46cebef3669698dc492e",
        "IPY_MODEL_ee92a51d37be4feeb09b03681d5c228b"
       ],
       "layout": "IPY_MODEL_80a01342a7904f09b9ecc0795b351ae4"
      }
     },
     "030c6d8acd584da696dbb4bf34dd24a6": {
      "model_module": "@jupyter-widgets/controls",
      "model_module_version": "1.2.0",
      "model_name": "DescriptionStyleModel",
      "state": {
       "description_width": "initial"
      }
     },
     "03f09bcc45c54c2ba42fa4075d23aa88": {
      "model_module": "@jupyter-widgets/base",
      "model_module_version": "1.0.0",
      "model_name": "LayoutModel",
      "state": {
       "width": "600px"
      }
     },
     "04355424eb3d408a9467f1ae6f2a4320": {
      "model_module": "@jupyter-widgets/controls",
      "model_module_version": "1.2.0",
      "model_name": "ButtonModel",
      "state": {
       "description": "Korrekt?",
       "layout": "IPY_MODEL_55f8e723f7d541e58624526ddb5ade91",
       "style": "IPY_MODEL_5f0a24ba356044cc897334816432e618"
      }
     },
     "043e30815128424fbcbc9c519829d411": {
      "model_module": "@jupyter-widgets/controls",
      "model_module_version": "1.2.0",
      "model_name": "ButtonStyleModel",
      "state": {}
     },
     "044da98ec9e24d9fbea7077a4fa649e1": {
      "model_module": "@jupyter-widgets/base",
      "model_module_version": "1.0.0",
      "model_name": "LayoutModel",
      "state": {}
     },
     "04569153505c4da1858865a76d0ef41e": {
      "model_module": "@jupyter-widgets/controls",
      "model_module_version": "1.2.0",
      "model_name": "ButtonModel",
      "state": {
       "description": "past participle",
       "layout": "IPY_MODEL_c5a27e59c48b4d2f8d501a5dd356bd56",
       "style": "IPY_MODEL_37a0c9e1e6404f63b295428272afd3a0"
      }
     },
     "047a8c43c1ba432c9e0f8398a3a59e08": {
      "model_module": "@jupyter-widgets/base",
      "model_module_version": "1.0.0",
      "model_name": "LayoutModel",
      "state": {}
     },
     "04883a4f6ac841939c10c58b550c6054": {
      "model_module": "@jupyter-widgets/controls",
      "model_module_version": "1.2.0",
      "model_name": "CheckboxModel",
      "state": {
       "description": "Es ist flektierbar.",
       "disabled": false,
       "layout": "IPY_MODEL_20afcc19219a414bbc995f75f0edd32c",
       "style": "IPY_MODEL_82c36ccbc2ff4651872bee5c57ff964b",
       "value": false
      }
     },
     "04b4eecd159f4ec58fb38f51758237b6": {
      "model_module": "@jupyter-widgets/controls",
      "model_module_version": "1.2.0",
      "model_name": "HTMLModel",
      "state": {
       "layout": "IPY_MODEL_630ea264f29f4e6b90716c17ce35326b",
       "style": "IPY_MODEL_5ac110c0e69746c0bb452c695ea0d693",
       "value": "<h4 style=\"font-size:14px;\">trägt. Das Ergebnis sind die häufigsten zweistelligen syntaktischen Muster des Englischen mit NOUN als rechtem Kontext, nämlich NOUN+NOUN, DET+NOUN und ADJ+NOUN; diese Ergebnisse geben Hinweis auf die NP-</h4>"
      }
     },
     "04c9f25e51e644a08bc16cd9ec4a4953": {
      "model_module": "@jupyter-widgets/base",
      "model_module_version": "1.0.0",
      "model_name": "LayoutModel",
      "state": {
       "justify_content": "center"
      }
     },
     "04e06fef356e499e8d6549abc3c7329f": {
      "model_module": "@jupyter-widgets/controls",
      "model_module_version": "1.2.0",
      "model_name": "DescriptionStyleModel",
      "state": {
       "description_width": ""
      }
     },
     "04fcccce86a641e485fac9b516165882": {
      "model_module": "@jupyter-widgets/controls",
      "model_module_version": "1.2.0",
      "model_name": "DescriptionStyleModel",
      "state": {
       "description_width": "initial"
      }
     },
     "052492c1b8a94c3ba8c86d00ec5e6d34": {
      "model_module": "@jupyter-widgets/base",
      "model_module_version": "1.0.0",
      "model_name": "LayoutModel",
      "state": {
       "width": "250px"
      }
     },
     "053f71ea43d644b4adeba8be088094b5": {
      "model_module": "@jupyter-widgets/base",
      "model_module_version": "1.0.0",
      "model_name": "LayoutModel",
      "state": {
       "width": "150px"
      }
     },
     "0560131bf13047079663017638d45a8a": {
      "model_module": "@jupyter-widgets/base",
      "model_module_version": "1.0.0",
      "model_name": "LayoutModel",
      "state": {}
     },
     "056ea9f1634942e2a9e7c3901f3cda39": {
      "model_module": "@jupyter-widgets/base",
      "model_module_version": "1.0.0",
      "model_name": "LayoutModel",
      "state": {
       "width": "600px"
      }
     },
     "05837f23126046519bc557c35f02c394": {
      "model_module": "@jupyter-widgets/base",
      "model_module_version": "1.0.0",
      "model_name": "LayoutModel",
      "state": {
       "width": "250px"
      }
     },
     "058f47af4ab94b4d8794bb8e16b8020c": {
      "model_module": "@jupyter-widgets/controls",
      "model_module_version": "1.2.0",
      "model_name": "DescriptionStyleModel",
      "state": {
       "description_width": ""
      }
     },
     "05955fc1cb5b486186dd2ae0ae666cb9": {
      "model_module": "@jupyter-widgets/controls",
      "model_module_version": "1.2.0",
      "model_name": "DescriptionStyleModel",
      "state": {
       "description_width": ""
      }
     },
     "05abb530f2e14467924585b23dd9edbe": {
      "model_module": "@jupyter-widgets/base",
      "model_module_version": "1.0.0",
      "model_name": "LayoutModel",
      "state": {}
     },
     "05f8c1c28b884690a1edb9fa227013c1": {
      "model_module": "@jupyter-widgets/controls",
      "model_module_version": "1.2.0",
      "model_name": "BoxModel",
      "state": {
       "children": [
        "IPY_MODEL_f2dca2ebd890405ca01b26de70440939",
        "IPY_MODEL_2cf2c133d93241588800e06b4ebd1716",
        "IPY_MODEL_c0565a5d982b4d2c99bc2c50f398a49e",
        "IPY_MODEL_0768a63f11fe4a568a8a340f50e6460c",
        "IPY_MODEL_0c1ca1967e734a7bb450143c9d930621",
        "IPY_MODEL_fa40b3de783442a48c7c28dcd3326ece",
        "IPY_MODEL_04b4eecd159f4ec58fb38f51758237b6",
        "IPY_MODEL_4ab91b7ac995479f8b32e43e08aafbae",
        "IPY_MODEL_fb250aa7b3554afebea1425c3eb83311"
       ],
       "layout": "IPY_MODEL_83ce9b7f611148a186e22119407eeee9"
      }
     },
     "0626899caa16476ab7b97deda7c9d597": {
      "model_module": "@jupyter-widgets/controls",
      "model_module_version": "1.2.0",
      "model_name": "ButtonStyleModel",
      "state": {}
     },
     "0634c994f5fa47e5bd97db2c375c5785": {
      "model_module": "@jupyter-widgets/controls",
      "model_module_version": "1.2.0",
      "model_name": "ButtonModel",
      "state": {
       "description": "Korrekt?",
       "layout": "IPY_MODEL_5598f89511c248ea8edb7dfbfae554e5",
       "style": "IPY_MODEL_1456bcb0a52b4209bc68db4d3dd3f412"
      }
     },
     "063a6930724c4f038893ab38404f5f66": {
      "model_module": "@jupyter-widgets/controls",
      "model_module_version": "1.2.0",
      "model_name": "DescriptionStyleModel",
      "state": {
       "description_width": "initial"
      }
     },
     "0658d5b0038940d6b029217b60289719": {
      "model_module": "@jupyter-widgets/base",
      "model_module_version": "1.0.0",
      "model_name": "LayoutModel",
      "state": {
       "width": "250px"
      }
     },
     "0659d9cc8ec44220a6be7e87a8cfe29c": {
      "model_module": "@jupyter-widgets/controls",
      "model_module_version": "1.2.0",
      "model_name": "ButtonModel",
      "state": {
       "description": "Korrekt?",
       "layout": "IPY_MODEL_110081d6788848c2a42f9c7eab9bf8d5",
       "style": "IPY_MODEL_e0f81d96e3754f97908cf15a8f5ff4d3"
      }
     },
     "06ace604b60b415babc31ab3b058183e": {
      "model_module": "@jupyter-widgets/controls",
      "model_module_version": "1.2.0",
      "model_name": "HTMLModel",
      "state": {
       "layout": "IPY_MODEL_14e5d504d3624349a9be5cad8451e34c",
       "style": "IPY_MODEL_c42e2509ce3b4e3a934dd693e1d0e799",
       "value": "<h4 style=\"font-size:14px;\">Welche Wortart folgt damit für das Wort <i>gerne</i> in Satz 1?</h4>"
      }
     },
     "06ea0edfc5354bd6a5fc9d088be61020": {
      "model_module": "@jupyter-widgets/controls",
      "model_module_version": "1.2.0",
      "model_name": "HTMLModel",
      "state": {
       "layout": "IPY_MODEL_1fcc9178f8044b48bf4af1f4c6c2b435",
       "style": "IPY_MODEL_6fdd4159bef74aab93267152088ab9a0",
       "value": "<h4 style=\"font-size:14px;\">Was ist der Input eines Part-of-Speech-Taggers?</h4>"
      }
     },
     "06f337ae496643509db2d61091fdfe80": {
      "model_module": "@jupyter-widgets/controls",
      "model_module_version": "1.2.0",
      "model_name": "HBoxModel",
      "state": {
       "children": [
        "IPY_MODEL_6797c6ff619d488ab879d44f1393f7b5"
       ],
       "layout": "IPY_MODEL_1c22492f85fe49e49dd086f013008792"
      }
     },
     "06f7fe4c09d94fc8a5320ad32fe07216": {
      "model_module": "@jupyter-widgets/base",
      "model_module_version": "1.0.0",
      "model_name": "LayoutModel",
      "state": {
       "width": "250px"
      }
     },
     "07164f4e896147449ccd60e27a79348d": {
      "model_module": "@jupyter-widgets/controls",
      "model_module_version": "1.2.0",
      "model_name": "DescriptionStyleModel",
      "state": {
       "description_width": ""
      }
     },
     "072bcd74b498483fbe0924c3dbd2898f": {
      "model_module": "@jupyter-widgets/controls",
      "model_module_version": "1.2.0",
      "model_name": "ButtonStyleModel",
      "state": {}
     },
     "072c05a13baf427aa7539e303730b61b": {
      "model_module": "@jupyter-widgets/base",
      "model_module_version": "1.0.0",
      "model_name": "LayoutModel",
      "state": {}
     },
     "076840983457400cb589469cdca49c72": {
      "model_module": "@jupyter-widgets/controls",
      "model_module_version": "1.2.0",
      "model_name": "DescriptionStyleModel",
      "state": {
       "description_width": ""
      }
     },
     "0768a63f11fe4a568a8a340f50e6460c": {
      "model_module": "@jupyter-widgets/controls",
      "model_module_version": "1.2.0",
      "model_name": "DropdownModel",
      "state": {
       "_options_labels": [
        "POS",
        "POS+Wort+POS",
        "Wort+POS-Tag",
        " "
       ],
       "index": 3,
       "layout": "IPY_MODEL_1fc334e421944297adacb26a5d4436e3",
       "style": "IPY_MODEL_0baeae1c1c1b48b0a1990cc0291514bc"
      }
     },
     "07be5884405240a890e79c34a0ea27c0": {
      "model_module": "@jupyter-widgets/controls",
      "model_module_version": "1.2.0",
      "model_name": "HBoxModel",
      "state": {
       "children": [
        "IPY_MODEL_26789905149f45608a342227f3c487ed"
       ],
       "layout": "IPY_MODEL_70062317057342d38e39aa308695afca"
      }
     },
     "082fe7a1bde9428fb7c8b4976e9fddc0": {
      "model_module": "@jupyter-widgets/controls",
      "model_module_version": "1.2.0",
      "model_name": "ButtonStyleModel",
      "state": {}
     },
     "0852dfa2263d4271ba48168197acee98": {
      "model_module": "@jupyter-widgets/controls",
      "model_module_version": "1.2.0",
      "model_name": "DescriptionStyleModel",
      "state": {
       "description_width": ""
      }
     },
     "085ba7635a484c40b147651e23f7b845": {
      "model_module": "@jupyter-widgets/controls",
      "model_module_version": "1.2.0",
      "model_name": "DescriptionStyleModel",
      "state": {
       "description_width": ""
      }
     },
     "086d4fac36ba4c21aadc2ddd38dfb2c9": {
      "model_module": "@jupyter-widgets/controls",
      "model_module_version": "1.2.0",
      "model_name": "ButtonModel",
      "state": {
       "description": "Keine der anderen Möglichkeiten",
       "layout": "IPY_MODEL_0bde3443fcb14aefa3bd0a927fa84951",
       "style": "IPY_MODEL_10e5429cbcf64b06ba5685eb658f7733"
      }
     },
     "08bcd47bfe174064adaa1e4107174440": {
      "model_module": "@jupyter-widgets/controls",
      "model_module_version": "1.2.0",
      "model_name": "CheckboxModel",
      "state": {
       "description": "Es fungiert als Satzglied mit der syntaktischen Funktion Adverbial.",
       "disabled": false,
       "layout": "IPY_MODEL_2771ab549cc241d09829a1c6401cbdfe",
       "style": "IPY_MODEL_e2f09f02190447678d4ec0720307f4c9",
       "value": false
      }
     },
     "08ca6c02143a4453ab0c185f90495000": {
      "model_module": "@jupyter-widgets/controls",
      "model_module_version": "1.2.0",
      "model_name": "ButtonStyleModel",
      "state": {}
     },
     "0923f7ff8f3347c6aa4ea40e93a5a954": {
      "model_module": "@jupyter-widgets/controls",
      "model_module_version": "1.2.0",
      "model_name": "DescriptionStyleModel",
      "state": {
       "description_width": ""
      }
     },
     "096fc263b8744b1c9b8f67e6d8cdf493": {
      "model_module": "@jupyter-widgets/controls",
      "model_module_version": "1.2.0",
      "model_name": "HBoxModel",
      "state": {
       "children": [
        "IPY_MODEL_eafb3dec8a2446e68180b23f92cfa90c",
        "IPY_MODEL_c702f7f8df78489f854774deb6167988"
       ],
       "layout": "IPY_MODEL_5425c785231b4b7a81141c09e28910db"
      }
     },
     "098203001097408f958eb1fc8254ce2f": {
      "model_module": "@jupyter-widgets/controls",
      "model_module_version": "1.2.0",
      "model_name": "VBoxModel",
      "state": {
       "children": [
        "IPY_MODEL_3d3cc4ab9b5049859b106c0c6c19ca13",
        "IPY_MODEL_ddd67b5ea7144198927bac51ed285e7f",
        "IPY_MODEL_3a4faed976cb4e219d7b9e4292b2db04",
        "IPY_MODEL_a35cc65f9e404daa93fd8ed45421d64f"
       ],
       "layout": "IPY_MODEL_eb1022e2a4e546a497e1f39b9bce7427"
      }
     },
     "099f39026b2a4c9d93fa41baea5edd5d": {
      "model_module": "@jupyter-widgets/controls",
      "model_module_version": "1.2.0",
      "model_name": "CheckboxModel",
      "state": {
       "description": "gleiche syntagmatische Position",
       "disabled": false,
       "layout": "IPY_MODEL_c68d816cf54d4ea5b79030fdc90217b2",
       "style": "IPY_MODEL_cbf826c8299544faa80ce988bfebf7fa",
       "value": false
      }
     },
     "09dad9d9461144b7b95696b30dd7979c": {
      "model_module": "@jupyter-widgets/base",
      "model_module_version": "1.0.0",
      "model_name": "LayoutModel",
      "state": {
       "width": "250px"
      }
     },
     "09df2cdb29774773ab3b996f9482a4ee": {
      "model_module": "@jupyter-widgets/base",
      "model_module_version": "1.0.0",
      "model_name": "LayoutModel",
      "state": {}
     },
     "0a03fb8f81994d1ba84d61e06e89e4d3": {
      "model_module": "@jupyter-widgets/base",
      "model_module_version": "1.0.0",
      "model_name": "LayoutModel",
      "state": {
       "width": "250px"
      }
     },
     "0a207d2c42c14a1f99147528405eb8af": {
      "model_module": "@jupyter-widgets/controls",
      "model_module_version": "1.2.0",
      "model_name": "DescriptionStyleModel",
      "state": {
       "description_width": ""
      }
     },
     "0a56fce384204b929bcac098c8ddc7d7": {
      "model_module": "@jupyter-widgets/controls",
      "model_module_version": "1.2.0",
      "model_name": "HBoxModel",
      "state": {
       "children": [
        "IPY_MODEL_a31b6f38a5de432a9f975d884e926a73",
        "IPY_MODEL_f6a26e353f644509898c90bbdadd0a9c"
       ],
       "layout": "IPY_MODEL_fed1e72c44604bf9b774fb0b423b9959"
      }
     },
     "0a8ff7715e6e467dba699731203aaff8": {
      "model_module": "@jupyter-widgets/controls",
      "model_module_version": "1.2.0",
      "model_name": "DescriptionStyleModel",
      "state": {
       "description_width": ""
      }
     },
     "0abcc6fa64b04ceb994759042804e5b9": {
      "model_module": "@jupyter-widgets/controls",
      "model_module_version": "1.2.0",
      "model_name": "ButtonModel",
      "state": {
       "description": "Keine der anderen Möglichkeiten",
       "layout": "IPY_MODEL_af302bacf0a54712afa9f498a2e08952",
       "style": "IPY_MODEL_54be8fc79d594667ba91f778b1763bf5"
      }
     },
     "0b0cb93ba8aa425cb7331945578d2b3b": {
      "model_module": "@jupyter-widgets/controls",
      "model_module_version": "1.2.0",
      "model_name": "HTMLModel",
      "state": {
       "layout": "IPY_MODEL_c17553119cb24287825f293d7fb17a64",
       "style": "IPY_MODEL_95212f46dc1e498e985b72181b739e2d",
       "value": "<h4 style=\"font-size:14px;\"><i>Eine Reise beginnt auch nur mit einem Schritt.</i><br>Welche Tests wurden angewandt?</h4>"
      }
     },
     "0b3275fd41f047e5b030b88b16ba4f4a": {
      "model_module": "@jupyter-widgets/controls",
      "model_module_version": "1.2.0",
      "model_name": "HBoxModel",
      "state": {
       "children": [
        "IPY_MODEL_6e58233ba5974c378d060e515f8deef4"
       ],
       "layout": "IPY_MODEL_7ea78d13517f4cfebb9d4b4dde2a52cf"
      }
     },
     "0b3afac0205a430eb8d093818c46a563": {
      "model_module": "@jupyter-widgets/controls",
      "model_module_version": "1.2.0",
      "model_name": "HTMLModel",
      "state": {
       "layout": "IPY_MODEL_63e99fecee0249beac5870a81ba51788",
       "style": "IPY_MODEL_60999b5f55ba4c218499dfee62bbe1c9",
       "value": "<h4 style=\"font-size:14px;\">. Es gehört zu einer komplexen</h4>"
      }
     },
     "0b58a199a3f04bcfab1faf52c0d1c968": {
      "model_module": "@jupyter-widgets/controls",
      "model_module_version": "1.2.0",
      "model_name": "ButtonStyleModel",
      "state": {
       "button_color": "lightgreen"
      }
     },
     "0b5c30ac94884795ad77e727ade25056": {
      "model_module": "@jupyter-widgets/controls",
      "model_module_version": "1.2.0",
      "model_name": "DropdownModel",
      "state": {
       "_options_labels": [
        "Konstituente",
        "Phrase",
        " "
       ],
       "index": 2,
       "layout": "IPY_MODEL_4e3f839197a14063904a4fb2164e3f62",
       "style": "IPY_MODEL_26bc08b329a74369be81c53dcc225dc7"
      }
     },
     "0baeae1c1c1b48b0a1990cc0291514bc": {
      "model_module": "@jupyter-widgets/controls",
      "model_module_version": "1.2.0",
      "model_name": "DescriptionStyleModel",
      "state": {
       "description_width": ""
      }
     },
     "0bc2903f92594af99847458e2d9929a7": {
      "model_module": "@jupyter-widgets/base",
      "model_module_version": "1.0.0",
      "model_name": "LayoutModel",
      "state": {
       "width": "150px"
      }
     },
     "0bcf069cc9b5487f93c88537ec283d96": {
      "model_module": "@jupyter-widgets/controls",
      "model_module_version": "1.2.0",
      "model_name": "HBoxModel",
      "state": {
       "children": [
        "IPY_MODEL_90bb9845e2574072afd2406335b90527",
        "IPY_MODEL_9034963a026a41ec90c6b70849629404"
       ],
       "layout": "IPY_MODEL_465cbc40c8a840a29fadf48862fbaf3c"
      }
     },
     "0bde3443fcb14aefa3bd0a927fa84951": {
      "model_module": "@jupyter-widgets/base",
      "model_module_version": "1.0.0",
      "model_name": "LayoutModel",
      "state": {
       "width": "250px"
      }
     },
     "0c008713d2524572913b7fa3e13f4c67": {
      "model_module": "@jupyter-widgets/controls",
      "model_module_version": "1.2.0",
      "model_name": "CheckboxModel",
      "state": {
       "description": "Nur mit beginnt eine Reise von tausend Meilen auch einem Schritt.",
       "disabled": false,
       "layout": "IPY_MODEL_ca78a92e0b6f408aa72d16dbe5c4491b",
       "style": "IPY_MODEL_2a06fb9b2b4b48c68360c3f1c8976f33",
       "value": false
      }
     },
     "0c01b011bd0d41fd9d52ba391427dc41": {
      "model_module": "@jupyter-widgets/controls",
      "model_module_version": "1.2.0",
      "model_name": "DescriptionStyleModel",
      "state": {
       "description_width": ""
      }
     },
     "0c1ca1967e734a7bb450143c9d930621": {
      "model_module": "@jupyter-widgets/controls",
      "model_module_version": "1.2.0",
      "model_name": "HTMLModel",
      "state": {
       "layout": "IPY_MODEL_467444cdf9f0484c93389d69833e915f",
       "style": "IPY_MODEL_0e70fd34ad4c432989704b9631b5d664",
       "value": "<h4 style=\"font-size:14px;\">-Tupeln aus einem englischen Korpus erstellt. Zeile 2 und 3 dienen der Erzeugung einer Frequenzliste von POS-Tags derjenigen Bigramme, deren zweites Element das POS-Tag</h4>"
      }
     },
     "0c1da614a7324497b20626c26832bce2": {
      "model_module": "@jupyter-widgets/controls",
      "model_module_version": "1.2.0",
      "model_name": "VBoxModel",
      "state": {
       "children": [
        "IPY_MODEL_d2e01d1a1bf540b68cb756a400632e5d",
        "IPY_MODEL_ca6102f821394803a6a4088da754ca1a",
        "IPY_MODEL_c5fd2a6efb214e5387d29e8e0f7d08ea",
        "IPY_MODEL_5d1ba95cff1741338a3316862c9177ed"
       ],
       "layout": "IPY_MODEL_690c7dc5b7ad4c27b82ed187bdf365be"
      }
     },
     "0c22203a7da64bbdbab659bdd3d862c9": {
      "model_module": "@jupyter-widgets/controls",
      "model_module_version": "1.2.0",
      "model_name": "HBoxModel",
      "state": {
       "children": [
        "IPY_MODEL_5514244abea743f987ce8ac6f90e480c",
        "IPY_MODEL_6384e5e103fc4e36adec0795b4eaeb8b"
       ],
       "layout": "IPY_MODEL_440a68aa19b1448ea6ad582dc93bb0c7"
      }
     },
     "0c54f809d7d644eca54264ad87fa9f6d": {
      "model_module": "@jupyter-widgets/controls",
      "model_module_version": "1.2.0",
      "model_name": "HBoxModel",
      "state": {
       "children": [
        "IPY_MODEL_65201a9abd6c4d0982453c7294716e51"
       ],
       "layout": "IPY_MODEL_ff5117b1eb514ebc91fb3a1126c78ee4"
      }
     },
     "0c664ec0a6bf4092a03a1fa0ebf98819": {
      "model_module": "@jupyter-widgets/controls",
      "model_module_version": "1.2.0",
      "model_name": "VBoxModel",
      "state": {
       "children": [
        "IPY_MODEL_f56e5c8b8e2345e5bd462818e18c6e9f",
        "IPY_MODEL_9d2ffdc4c57b44a6842247cba840245b",
        "IPY_MODEL_4922617b67a04ed68ecc106ee1da7255"
       ],
       "layout": "IPY_MODEL_18ecc9b9414848bb91ee8560ab56156f"
      }
     },
     "0cbd09a685b941d698732633d7f8f3b1": {
      "model_module": "@jupyter-widgets/base",
      "model_module_version": "1.0.0",
      "model_name": "LayoutModel",
      "state": {
       "width": "250px"
      }
     },
     "0cc5c36542ba4b77b3cd9bf13120b720": {
      "model_module": "@jupyter-widgets/base",
      "model_module_version": "1.0.0",
      "model_name": "LayoutModel",
      "state": {
       "width": "600px"
      }
     },
     "0cde6a6b884241dfb940d651b25e6407": {
      "model_module": "@jupyter-widgets/base",
      "model_module_version": "1.0.0",
      "model_name": "LayoutModel",
      "state": {}
     },
     "0d03489fe5c04e1ba6fafee762343e82": {
      "model_module": "@jupyter-widgets/controls",
      "model_module_version": "1.2.0",
      "model_name": "HBoxModel",
      "state": {
       "children": [
        "IPY_MODEL_877a1863084e4f68b1e97a98e93d792a",
        "IPY_MODEL_42192f6149514e4999ffd79f6918e32d"
       ],
       "layout": "IPY_MODEL_a01dd47ccc81485f94906194c45cd961"
      }
     },
     "0d08405d7fc14696aaab30500c1cd793": {
      "model_module": "@jupyter-widgets/controls",
      "model_module_version": "1.2.0",
      "model_name": "DescriptionStyleModel",
      "state": {
       "description_width": ""
      }
     },
     "0d23c6352e8e49249b446a2d8e24aa20": {
      "model_module": "@jupyter-widgets/controls",
      "model_module_version": "1.2.0",
      "model_name": "ButtonStyleModel",
      "state": {
       "button_color": "lightgreen"
      }
     },
     "0d56cbf5746547338ce9865fc29d0cf0": {
      "model_module": "@jupyter-widgets/controls",
      "model_module_version": "1.2.0",
      "model_name": "ButtonModel",
      "state": {
       "description": "Korrekt?",
       "layout": "IPY_MODEL_e64cca3cfb2844dda36d79999af5b3cc",
       "style": "IPY_MODEL_0d23c6352e8e49249b446a2d8e24aa20"
      }
     },
     "0d6a4eacad16482987ecb7e8cc1cee2b": {
      "model_module": "@jupyter-widgets/controls",
      "model_module_version": "1.2.0",
      "model_name": "ButtonModel",
      "state": {
       "description": "Keine der anderen Möglichkeiten",
       "layout": "IPY_MODEL_1bc4336ca8404643a0c3b1305aacfe96",
       "style": "IPY_MODEL_1f5857e3c1784da09680cf395c652185"
      }
     },
     "0dfb2c21876f4bafa8943678dbd408cd": {
      "model_module": "@jupyter-widgets/base",
      "model_module_version": "1.0.0",
      "model_name": "LayoutModel",
      "state": {
       "width": "250px"
      }
     },
     "0e2b4f860edd4ccaa37453a965de2c7f": {
      "model_module": "@jupyter-widgets/controls",
      "model_module_version": "1.2.0",
      "model_name": "ButtonStyleModel",
      "state": {}
     },
     "0e452fb013f2489ea659221138de3605": {
      "model_module": "@jupyter-widgets/base",
      "model_module_version": "1.0.0",
      "model_name": "LayoutModel",
      "state": {}
     },
     "0e67fa95c22b4ca28b7773daba77e0d3": {
      "model_module": "@jupyter-widgets/controls",
      "model_module_version": "1.2.0",
      "model_name": "DescriptionStyleModel",
      "state": {
       "description_width": ""
      }
     },
     "0e70fd34ad4c432989704b9631b5d664": {
      "model_module": "@jupyter-widgets/controls",
      "model_module_version": "1.2.0",
      "model_name": "DescriptionStyleModel",
      "state": {
       "description_width": ""
      }
     },
     "0ea65ee73b504261bd18d7f6bbd9b641": {
      "model_module": "@jupyter-widgets/controls",
      "model_module_version": "1.2.0",
      "model_name": "ButtonModel",
      "state": {
       "description": "Adverb",
       "layout": "IPY_MODEL_7f512e42c42f423db7e3e69151cfdcb5",
       "style": "IPY_MODEL_d7d9b10fd53d4a0a9e4af86ad27e6228"
      }
     },
     "0ec713f6c1214032a5194e567be8ae8a": {
      "model_module": "@jupyter-widgets/base",
      "model_module_version": "1.0.0",
      "model_name": "LayoutModel",
      "state": {
       "width": "250px"
      }
     },
     "0edfd6fc320e41a5a763511e214a68b6": {
      "model_module": "@jupyter-widgets/base",
      "model_module_version": "1.0.0",
      "model_name": "LayoutModel",
      "state": {}
     },
     "0f0628744216422aa7e90146bc7eaead": {
      "model_module": "@jupyter-widgets/base",
      "model_module_version": "1.0.0",
      "model_name": "LayoutModel",
      "state": {}
     },
     "0f3d9d498ea54c54a4e37fd7a9ae0270": {
      "model_module": "@jupyter-widgets/controls",
      "model_module_version": "1.2.0",
      "model_name": "HBoxModel",
      "state": {
       "children": [
        "IPY_MODEL_ed798a5ce4174d0c96b5ffcc8dd77f6e"
       ],
       "layout": "IPY_MODEL_81e6f6494f5f4fe4ae77948502d69093"
      }
     },
     "0f4d913385e747fbba8cef55daf2399f": {
      "model_module": "@jupyter-widgets/base",
      "model_module_version": "1.0.0",
      "model_name": "LayoutModel",
      "state": {
       "width": "600px"
      }
     },
     "0f4da7568f554b5ea44e7b8f2652c7e5": {
      "model_module": "@jupyter-widgets/controls",
      "model_module_version": "1.2.0",
      "model_name": "HTMLModel",
      "state": {
       "layout": "IPY_MODEL_522c288cb7aa42868856ff485cfc11cd",
       "style": "IPY_MODEL_2e894047c9e14af29e0bfa5a30f215c6",
       "value": "<h4 style=\"font-size:14px;\"><i>seinen Schlüsselbund zwar noch nie verloren haben.</i></h4>"
      }
     },
     "0f956d04b3244c1188e924991751dac1": {
      "model_module": "@jupyter-widgets/controls",
      "model_module_version": "1.2.0",
      "model_name": "ButtonStyleModel",
      "state": {}
     },
     "0fb21de7ffad4c6786aa0801e3d3fec1": {
      "model_module": "@jupyter-widgets/controls",
      "model_module_version": "1.2.0",
      "model_name": "DescriptionStyleModel",
      "state": {
       "description_width": ""
      }
     },
     "0fb97ae1b9934cb58bc89b21248673cd": {
      "model_module": "@jupyter-widgets/base",
      "model_module_version": "1.0.0",
      "model_name": "LayoutModel",
      "state": {
       "width": "250px"
      }
     },
     "0fc176bfc9274c6dbdd13c3c346a5dee": {
      "model_module": "@jupyter-widgets/controls",
      "model_module_version": "1.2.0",
      "model_name": "ButtonModel",
      "state": {
       "description": "base",
       "layout": "IPY_MODEL_b3ace42d3eae48b786a956cd5679424b",
       "style": "IPY_MODEL_e32bd057ecf04f6c981871b2aca82558"
      }
     },
     "0fdd0934653745e5a24d0e0b41c4564b": {
      "model_module": "@jupyter-widgets/controls",
      "model_module_version": "1.2.0",
      "model_name": "VBoxModel",
      "state": {
       "children": [
        "IPY_MODEL_ea85c9ea3c374cec81d67fae06c509e4",
        "IPY_MODEL_05f8c1c28b884690a1edb9fa227013c1",
        "IPY_MODEL_59e25ee69dc34671b74281b3c5c1c3c4"
       ],
       "layout": "IPY_MODEL_aaca37cdee5f4337bb349b7e50bf7591"
      }
     },
     "100c6bdf3de24371af0e94b7a19766dc": {
      "model_module": "@jupyter-widgets/base",
      "model_module_version": "1.0.0",
      "model_name": "LayoutModel",
      "state": {}
     },
     "1044bc60a3064b0ca27173ca4c4ce3c4": {
      "model_module": "@jupyter-widgets/base",
      "model_module_version": "1.0.0",
      "model_name": "LayoutModel",
      "state": {
       "align_content": "stretch",
       "align_items": "stretch",
       "display": "inline-flex",
       "flex": "flex-grow",
       "flex_flow": "row wrap",
       "justify_content": "flex-start"
      }
     },
     "1053915e93dd4430be15fd7ad45febdc": {
      "model_module": "@jupyter-widgets/controls",
      "model_module_version": "1.2.0",
      "model_name": "HTMLModel",
      "state": {
       "layout": "IPY_MODEL_d1b4a3e4f57b4f16a0e19ac79b9fb4d7",
       "style": "IPY_MODEL_eb45cc4a7eae46d98ca4b4a71a809a62",
       "value": "<h4 style=\"font-size:14px;\">-Tupeln aus einem englischen Korpus erstellt. Zeile 2 und 3 dienen der Erzeugung einer Frequenzliste von POS-Tags derjenigen Bigramme, deren zweites Element das POS-Tag</h4>"
      }
     },
     "107adb2fabba4d5e888b2ee508aa40df": {
      "model_module": "@jupyter-widgets/controls",
      "model_module_version": "1.2.0",
      "model_name": "ButtonModel",
      "state": {
       "description": "Partikel",
       "layout": "IPY_MODEL_eeae43964bd5476ba5cb8e1da3b6cd85",
       "style": "IPY_MODEL_f453c73a3d824f8fa22cd2607b20c5d0"
      }
     },
     "10b2f900bfe94e5b8bc9eae1b28fd6e5": {
      "model_module": "@jupyter-widgets/base",
      "model_module_version": "1.0.0",
      "model_name": "LayoutModel",
      "state": {
       "width": "250px"
      }
     },
     "10b8f626a9a044a0857294fab3b34d0b": {
      "model_module": "@jupyter-widgets/controls",
      "model_module_version": "1.2.0",
      "model_name": "HBoxModel",
      "state": {
       "children": [
        "IPY_MODEL_cda3583b8fdb40a2bbbac9d9dd977716",
        "IPY_MODEL_2dcf3e7294ac46588fdbede1ed3c1374"
       ],
       "layout": "IPY_MODEL_a1d26aa693814536ade11fc658d2dbdc"
      }
     },
     "10e5429cbcf64b06ba5685eb658f7733": {
      "model_module": "@jupyter-widgets/controls",
      "model_module_version": "1.2.0",
      "model_name": "ButtonStyleModel",
      "state": {}
     },
     "110081d6788848c2a42f9c7eab9bf8d5": {
      "model_module": "@jupyter-widgets/base",
      "model_module_version": "1.0.0",
      "model_name": "LayoutModel",
      "state": {
       "width": "250px"
      }
     },
     "110ad4700d094c13b2a1c92e0adc16c2": {
      "model_module": "@jupyter-widgets/base",
      "model_module_version": "1.0.0",
      "model_name": "LayoutModel",
      "state": {}
     },
     "110ec22ca13c452c8479254ce50ab055": {
      "model_module": "@jupyter-widgets/controls",
      "model_module_version": "1.2.0",
      "model_name": "HTMLModel",
      "state": {
       "layout": "IPY_MODEL_85c87f052fd84ce6b0f739e67b29399e",
       "style": "IPY_MODEL_cd57725ff791415a979d21203aa3525e",
       "value": "<i>Geben Sie die entsprechende Funktion anstelle des Unterstrichs ein.</i>"
      }
     },
     "11678758fccd4fa9a84a0a4a28291fde": {
      "model_module": "@jupyter-widgets/base",
      "model_module_version": "1.0.0",
      "model_name": "LayoutModel",
      "state": {
       "width": "250px"
      }
     },
     "116d357a74de4ff9bdb425d774c9345c": {
      "model_module": "@jupyter-widgets/base",
      "model_module_version": "1.0.0",
      "model_name": "LayoutModel",
      "state": {
       "width": "150px"
      }
     },
     "1172ee71f67c443aab554e32a13b5706": {
      "model_module": "@jupyter-widgets/controls",
      "model_module_version": "1.2.0",
      "model_name": "DescriptionStyleModel",
      "state": {
       "description_width": ""
      }
     },
     "11863ad9a5db478ca983f34308382daf": {
      "model_module": "@jupyter-widgets/controls",
      "model_module_version": "1.2.0",
      "model_name": "ButtonStyleModel",
      "state": {}
     },
     "11c2b53f6d3e480ca6982d1da499fe69": {
      "model_module": "@jupyter-widgets/controls",
      "model_module_version": "1.2.0",
      "model_name": "HTMLModel",
      "state": {
       "layout": "IPY_MODEL_b1344d4facf246e09a67d70a93a3c194",
       "style": "IPY_MODEL_5d52f9d2a33d49a2aaf241a02fdd5fbf",
       "value": "<h4 style=\"font-size:14px;\"><i>seinen Schlüsselbund zwar noch nie verloren haben.</i></h4>"
      }
     },
     "120567b802d04c36aa9e46a82f848be1": {
      "model_module": "@jupyter-widgets/base",
      "model_module_version": "1.0.0",
      "model_name": "LayoutModel",
      "state": {
       "width": "500px"
      }
     },
     "12206ab61c1949c4a6af793e697ed15f": {
      "model_module": "@jupyter-widgets/base",
      "model_module_version": "1.0.0",
      "model_name": "LayoutModel",
      "state": {
       "width": "150px"
      }
     },
     "122e74f4c7bb40b0bdb02603a55762d7": {
      "model_module": "@jupyter-widgets/controls",
      "model_module_version": "1.2.0",
      "model_name": "DescriptionStyleModel",
      "state": {
       "description_width": ""
      }
     },
     "126b9b6145a84884b286a93b2067a267": {
      "model_module": "@jupyter-widgets/base",
      "model_module_version": "1.0.0",
      "model_name": "LayoutModel",
      "state": {}
     },
     "127cbd0d73d74177bf03fed2d5f45b72": {
      "model_module": "@jupyter-widgets/base",
      "model_module_version": "1.0.0",
      "model_name": "LayoutModel",
      "state": {
       "justify_content": "center"
      }
     },
     "12843a4d507a409eb7cde8ff3e866f43": {
      "model_module": "@jupyter-widgets/base",
      "model_module_version": "1.0.0",
      "model_name": "LayoutModel",
      "state": {
       "width": "350px"
      }
     },
     "12bb3f6f00494bfbb65029f1a72409cf": {
      "model_module": "@jupyter-widgets/base",
      "model_module_version": "1.0.0",
      "model_name": "LayoutModel",
      "state": {
       "width": "250px"
      }
     },
     "12fd0a2474884cdcb49ab10838ff89b9": {
      "model_module": "@jupyter-widgets/base",
      "model_module_version": "1.0.0",
      "model_name": "LayoutModel",
      "state": {}
     },
     "12fd3c124d9c4c90bd02e7e82a208f7b": {
      "model_module": "@jupyter-widgets/controls",
      "model_module_version": "1.2.0",
      "model_name": "HTMLModel",
      "state": {
       "layout": "IPY_MODEL_7a617b2f7d7d483a995ad1bd56662b2f",
       "style": "IPY_MODEL_da815cbc814a474faa541b9bdd70579f",
       "value": "<h4 style=\"font-size:14px;\">Was sind syntaktische Kriterien für Wortkategorien?</h4>"
      }
     },
     "13665b5a50954281beed6dc6a1531a5f": {
      "model_module": "@jupyter-widgets/controls",
      "model_module_version": "1.2.0",
      "model_name": "CheckboxModel",
      "state": {
       "description": "Permutationstest",
       "disabled": false,
       "layout": "IPY_MODEL_66561417474046f8a8ac748724f7bb62",
       "style": "IPY_MODEL_b549c94ab0eb473ead6dac238836f381",
       "value": false
      }
     },
     "136cf970a155452cb4375c13d9c35fcb": {
      "model_module": "@jupyter-widgets/controls",
      "model_module_version": "1.2.0",
      "model_name": "DropdownModel",
      "state": {
       "_options_labels": [
        "Mittelfeld",
        "Nachfeld",
        "Vorfeld",
        " "
       ],
       "index": 2,
       "layout": "IPY_MODEL_99ba7dfdd2e44c4ba5b12b17ea18abea",
       "style": "IPY_MODEL_a9eb1ceea6aa46fbabbb344f534b372a"
      }
     },
     "138e1330939146fead8f9c676c763ac3": {
      "model_module": "@jupyter-widgets/controls",
      "model_module_version": "1.2.0",
      "model_name": "DescriptionStyleModel",
      "state": {
       "description_width": "initial"
      }
     },
     "13a8613d54b24893a4acaa2171247260": {
      "model_module": "@jupyter-widgets/controls",
      "model_module_version": "1.2.0",
      "model_name": "VBoxModel",
      "state": {
       "children": [
        "IPY_MODEL_486366e527ee411389f288a5b5dd7617",
        "IPY_MODEL_75efb3ee219040d7b52ca31563f5a3b6",
        "IPY_MODEL_3c6ba3415494489ab501f71b20bbb5fe",
        "IPY_MODEL_5616b14fda2547b7846fb940fe3230f6"
       ],
       "layout": "IPY_MODEL_cb02825a74d64fb28d6e18041679f4e9"
      }
     },
     "13b5c4fc40d54d2ba571fd343f6c8b17": {
      "model_module": "@jupyter-widgets/base",
      "model_module_version": "1.0.0",
      "model_name": "LayoutModel",
      "state": {
       "width": "150px"
      }
     },
     "13debb62345c4cc7863dbcb4a6984a67": {
      "model_module": "@jupyter-widgets/controls",
      "model_module_version": "1.2.0",
      "model_name": "HBoxModel",
      "state": {
       "children": [
        "IPY_MODEL_a1d1e61d49104db79b21d71fa4fd05cf",
        "IPY_MODEL_15d350e1433a41f1b6193bda7cc58b6f"
       ],
       "layout": "IPY_MODEL_e16c607027a14d0a962cd05b798fe500"
      }
     },
     "13eba5b105f74892a0e770faa9976aef": {
      "model_module": "@jupyter-widgets/controls",
      "model_module_version": "1.2.0",
      "model_name": "DropdownModel",
      "state": {
       "_options_labels": [
        "kürzere",
        "längere",
        " "
       ],
       "index": 2,
       "layout": "IPY_MODEL_e89900bd2c934e0f8f87149f49829d8d",
       "style": "IPY_MODEL_df98daddc04347649192a59cfdaabdde"
      }
     },
     "1413797b1a354be3b82fe7d9605edba7": {
      "model_module": "@jupyter-widgets/controls",
      "model_module_version": "1.2.0",
      "model_name": "ButtonStyleModel",
      "state": {}
     },
     "141e7664153c492cb23a9a30b70f80c2": {
      "model_module": "@jupyter-widgets/controls",
      "model_module_version": "1.2.0",
      "model_name": "ButtonModel",
      "state": {
       "description": "simple past",
       "layout": "IPY_MODEL_2d5398907a224019a805dfca5288abf4",
       "style": "IPY_MODEL_1cc10c151cf740e187de5faf4067b651"
      }
     },
     "1456bcb0a52b4209bc68db4d3dd3f412": {
      "model_module": "@jupyter-widgets/controls",
      "model_module_version": "1.2.0",
      "model_name": "ButtonStyleModel",
      "state": {}
     },
     "149c0e2b604e4ed9b16bc16c32de6528": {
      "model_module": "@jupyter-widgets/controls",
      "model_module_version": "1.2.0",
      "model_name": "DescriptionStyleModel",
      "state": {
       "description_width": ""
      }
     },
     "14ab85d9f2fa4f89807ea5d6f0e3e73f": {
      "model_module": "@jupyter-widgets/controls",
      "model_module_version": "1.2.0",
      "model_name": "DescriptionStyleModel",
      "state": {
       "description_width": "initial"
      }
     },
     "14acd768cd784530b31872516bfcb329": {
      "model_module": "@jupyter-widgets/controls",
      "model_module_version": "1.2.0",
      "model_name": "DescriptionStyleModel",
      "state": {
       "description_width": ""
      }
     },
     "14d2e51a06fc42d0ae5b94b951116e1f": {
      "model_module": "@jupyter-widgets/controls",
      "model_module_version": "1.2.0",
      "model_name": "ButtonStyleModel",
      "state": {}
     },
     "14e1f1a762f04f88b105244a5cfd6708": {
      "model_module": "@jupyter-widgets/base",
      "model_module_version": "1.0.0",
      "model_name": "LayoutModel",
      "state": {}
     },
     "14e5d504d3624349a9be5cad8451e34c": {
      "model_module": "@jupyter-widgets/base",
      "model_module_version": "1.0.0",
      "model_name": "LayoutModel",
      "state": {
       "justify_content": "center"
      }
     },
     "159f955b6b86413ea29f6cd2038b0fc6": {
      "model_module": "@jupyter-widgets/controls",
      "model_module_version": "1.2.0",
      "model_name": "CheckboxModel",
      "state": {
       "description": "Zu einem Wort wird ein Index seiner Kontexte aufgebaut.",
       "disabled": false,
       "layout": "IPY_MODEL_3d5dd888875b454fab98d01de872c625",
       "style": "IPY_MODEL_760a3211d9424674a8278c40e795cbb6",
       "value": false
      }
     },
     "15a42bb757d64c0d8453f096c414b3ac": {
      "model_module": "@jupyter-widgets/controls",
      "model_module_version": "1.2.0",
      "model_name": "ButtonModel",
      "state": {
       "description": "Folge von Wortklassen",
       "layout": "IPY_MODEL_10b2f900bfe94e5b8bc9eae1b28fd6e5",
       "style": "IPY_MODEL_c87f2d85597c4665b18ace4b37a7bde6"
      }
     },
     "15c9740f69154cf9a24566ff9819c6d3": {
      "model_module": "@jupyter-widgets/base",
      "model_module_version": "1.0.0",
      "model_name": "LayoutModel",
      "state": {
       "width": "600px"
      }
     },
     "15cabc956ac842a4a7960f3f69f131f2": {
      "model_module": "@jupyter-widgets/base",
      "model_module_version": "1.0.0",
      "model_name": "LayoutModel",
      "state": {
       "width": "250px"
      }
     },
     "15d350e1433a41f1b6193bda7cc58b6f": {
      "model_module": "@jupyter-widgets/controls",
      "model_module_version": "1.2.0",
      "model_name": "ButtonModel",
      "state": {
       "description": "Wortfolge",
       "layout": "IPY_MODEL_c69d69b9baa64f57bee6fe57e126b07a",
       "style": "IPY_MODEL_921cc165626745aabd708c6561464936"
      }
     },
     "169cfe56e3824f45896945fa640c9601": {
      "model_module": "@jupyter-widgets/controls",
      "model_module_version": "1.2.0",
      "model_name": "HBoxModel",
      "state": {
       "children": [
        "IPY_MODEL_e5be040ff002419b9c9a9e56f61492aa",
        "IPY_MODEL_f70f33e3b8294feb89e1ef4dd49ae169"
       ],
       "layout": "IPY_MODEL_c182e2f2949e4b03b66e70eea079c890"
      }
     },
     "16ba2c15958749b8ac772fb3a610f9be": {
      "model_module": "@jupyter-widgets/base",
      "model_module_version": "1.0.0",
      "model_name": "LayoutModel",
      "state": {
       "width": "600px"
      }
     },
     "1723c5ebd658478ab1fe04b652d48c47": {
      "model_module": "@jupyter-widgets/controls",
      "model_module_version": "1.2.0",
      "model_name": "DescriptionStyleModel",
      "state": {
       "description_width": ""
      }
     },
     "17565a2c75714ec0860f54c2ada0528a": {
      "model_module": "@jupyter-widgets/controls",
      "model_module_version": "1.2.0",
      "model_name": "ButtonStyleModel",
      "state": {}
     },
     "178b0ae1c0b94b12899c7dafd8089406": {
      "model_module": "@jupyter-widgets/controls",
      "model_module_version": "1.2.0",
      "model_name": "ButtonStyleModel",
      "state": {}
     },
     "17ac5bbc511249fab118517186a0f304": {
      "model_module": "@jupyter-widgets/controls",
      "model_module_version": "1.2.0",
      "model_name": "HTMLModel",
      "state": {
       "layout": "IPY_MODEL_6abed3e7aa204c6a9d335ea3aedcef7c",
       "style": "IPY_MODEL_076840983457400cb589469cdca49c72",
       "value": "<i>Wählen Sie die <ins>eine</ins> korrekte Antwort aus: </i>"
      }
     },
     "17e14bb48eb24a819056e1049a94584e": {
      "model_module": "@jupyter-widgets/controls",
      "model_module_version": "1.2.0",
      "model_name": "HBoxModel",
      "state": {
       "children": [
        "IPY_MODEL_5b71da46daca47619829a051eb627228",
        "IPY_MODEL_95c2f6066b2b492091a46354ab7cc5f0"
       ],
       "layout": "IPY_MODEL_6b832659ce084727bbc5b6b17ea09e2b"
      }
     },
     "1814687260c44df7a6440dcc2f756cda": {
      "model_module": "@jupyter-widgets/controls",
      "model_module_version": "1.2.0",
      "model_name": "CheckboxModel",
      "state": {
       "description": "gleicher Kontext",
       "disabled": false,
       "layout": "IPY_MODEL_fda69d1566d442b89d9bd374818ed042",
       "style": "IPY_MODEL_c59fc0d37c0b4eaebfda353f629e9042",
       "value": false
      }
     },
     "1840e872b0c04f119844f7c38901684b": {
      "model_module": "@jupyter-widgets/base",
      "model_module_version": "1.0.0",
      "model_name": "LayoutModel",
      "state": {
       "justify_content": "center"
      }
     },
     "185417f5c5ef4cc3b0f690362801fc02": {
      "model_module": "@jupyter-widgets/controls",
      "model_module_version": "1.2.0",
      "model_name": "VBoxModel",
      "state": {
       "children": [
        "IPY_MODEL_66fe735329fc466c82b62ab3996b396c",
        "IPY_MODEL_7e291a1e22454ccfa7f8b8d560f2c7d1",
        "IPY_MODEL_48d961586af743329fda2ff4a0f45ba8",
        "IPY_MODEL_93a40175f5554d308a3ffef692e8e7b9"
       ],
       "layout": "IPY_MODEL_61326f1ee34f4336a937c669c77e3565"
      }
     },
     "187dbd60c5ec4ef48a3555baf56931e2": {
      "model_module": "@jupyter-widgets/base",
      "model_module_version": "1.0.0",
      "model_name": "LayoutModel",
      "state": {
       "width": "250px"
      }
     },
     "187f1fa2dd8e4abda3f1019f2be8b5fb": {
      "model_module": "@jupyter-widgets/base",
      "model_module_version": "1.0.0",
      "model_name": "LayoutModel",
      "state": {}
     },
     "18c2ec9723bf421c9ad9373982b10e46": {
      "model_module": "@jupyter-widgets/base",
      "model_module_version": "1.0.0",
      "model_name": "LayoutModel",
      "state": {
       "width": "250px"
      }
     },
     "18e0dea52473495d81062bb015e57fd1": {
      "model_module": "@jupyter-widgets/controls",
      "model_module_version": "1.2.0",
      "model_name": "VBoxModel",
      "state": {
       "children": [
        "IPY_MODEL_fbabcefb3cb04a739c99e687ab397058",
        "IPY_MODEL_44a8d6a9b996498ab916170ff97d1e66",
        "IPY_MODEL_13665b5a50954281beed6dc6a1531a5f",
        "IPY_MODEL_924d381bac4e4fa5a44a7d2001190b0f"
       ],
       "layout": "IPY_MODEL_282ff023f1ca4b0d906a3f1dcab7bc38"
      }
     },
     "18ecc9b9414848bb91ee8560ab56156f": {
      "model_module": "@jupyter-widgets/base",
      "model_module_version": "1.0.0",
      "model_name": "LayoutModel",
      "state": {}
     },
     "194821fbd3124ea0ab055dafd48e9b95": {
      "model_module": "@jupyter-widgets/controls",
      "model_module_version": "1.2.0",
      "model_name": "HTMLModel",
      "state": {
       "layout": "IPY_MODEL_bf926b7c6fad409bb57946b4b8a08dd4",
       "style": "IPY_MODEL_b23e76178a374acdb8120bd952dbedb9",
       "value": "<i>Wählen Sie die <ins>eine</ins> korrekte Antwort aus: </i>"
      }
     },
     "1953a93102344111b72ad6eff8eb8a60": {
      "model_module": "@jupyter-widgets/base",
      "model_module_version": "1.0.0",
      "model_name": "LayoutModel",
      "state": {}
     },
     "195dc0c161a2457ca142d8ef5df65cd2": {
      "model_module": "@jupyter-widgets/controls",
      "model_module_version": "1.2.0",
      "model_name": "HTMLModel",
      "state": {
       "layout": "IPY_MODEL_127cbd0d73d74177bf03fed2d5f45b72",
       "style": "IPY_MODEL_e5fe3fcd768746ec8ebd979d494d2a7f",
       "value": "<i>Wählen Sie die <ins>eine</ins> korrekte Antwort aus: </i>"
      }
     },
     "196dfc5a3f2242e4b64761833992ae5f": {
      "model_module": "@jupyter-widgets/controls",
      "model_module_version": "1.2.0",
      "model_name": "VBoxModel",
      "state": {
       "children": [
        "IPY_MODEL_ad34c3a1d3fd42b9b9f158e6458905f3",
        "IPY_MODEL_965f38ff4ba944e89618158124161eb8",
        "IPY_MODEL_db6bcaf418154615960f897b3665165e"
       ],
       "layout": "IPY_MODEL_9371ff5ded0c4cd193d09d1dbf4af018"
      }
     },
     "19a4e55f5bff4ed9b8a4c310c9e8a613": {
      "model_module": "@jupyter-widgets/controls",
      "model_module_version": "1.2.0",
      "model_name": "DescriptionStyleModel",
      "state": {
       "description_width": ""
      }
     },
     "1a5582a643c84ba9806127da0642e58c": {
      "model_module": "@jupyter-widgets/controls",
      "model_module_version": "1.2.0",
      "model_name": "ButtonModel",
      "state": {
       "description": "Partikel",
       "layout": "IPY_MODEL_b025d65598ba4b5587022c2f7d570aa0",
       "style": "IPY_MODEL_619df496873d4f4f8bb46424d2afeb1a"
      }
     },
     "1a63a0560ff74b7ea862dfb81a5556d8": {
      "model_module": "@jupyter-widgets/base",
      "model_module_version": "1.0.0",
      "model_name": "LayoutModel",
      "state": {}
     },
     "1aaa829ce86b4459a031e7c5002849e9": {
      "model_module": "@jupyter-widgets/controls",
      "model_module_version": "1.2.0",
      "model_name": "ButtonStyleModel",
      "state": {}
     },
     "1ab71ca3b05649e2be35efc7ea9643dc": {
      "model_module": "@jupyter-widgets/controls",
      "model_module_version": "1.2.0",
      "model_name": "DropdownModel",
      "state": {
       "_options_labels": [
        "kürzeren",
        "längeren",
        " "
       ],
       "index": 2,
       "layout": "IPY_MODEL_5f196f0900ee4090a68ac020cc5cfabc",
       "style": "IPY_MODEL_ec68b4abae54492492fa39b0c0620c3b"
      }
     },
     "1aec29d86085410ba96e70f1d1accf0d": {
      "model_module": "@jupyter-widgets/base",
      "model_module_version": "1.0.0",
      "model_name": "LayoutModel",
      "state": {}
     },
     "1b2fe743d9084475b46fe137bb52648e": {
      "model_module": "@jupyter-widgets/base",
      "model_module_version": "1.0.0",
      "model_name": "LayoutModel",
      "state": {
       "width": "250px"
      }
     },
     "1b4710e1240e41539dbbd1e7aac90df3": {
      "model_module": "@jupyter-widgets/base",
      "model_module_version": "1.0.0",
      "model_name": "LayoutModel",
      "state": {
       "width": "250px"
      }
     },
     "1b7f12e232164c52bacaa48274f7a9ac": {
      "model_module": "@jupyter-widgets/base",
      "model_module_version": "1.0.0",
      "model_name": "LayoutModel",
      "state": {}
     },
     "1ba28cb6f56e42f0a12581332d366652": {
      "model_module": "@jupyter-widgets/base",
      "model_module_version": "1.0.0",
      "model_name": "LayoutModel",
      "state": {
       "width": "150px"
      }
     },
     "1bc4336ca8404643a0c3b1305aacfe96": {
      "model_module": "@jupyter-widgets/base",
      "model_module_version": "1.0.0",
      "model_name": "LayoutModel",
      "state": {
       "width": "250px"
      }
     },
     "1bee5ff49fac46c2a96161eff663bdcc": {
      "model_module": "@jupyter-widgets/controls",
      "model_module_version": "1.2.0",
      "model_name": "ButtonModel",
      "state": {
       "description": "past participle",
       "layout": "IPY_MODEL_bf652bb379dd4cf7847c490515635476",
       "style": "IPY_MODEL_5e415609f0a94f5b9be888a8bfc82583"
      }
     },
     "1c1abf07bd004b67a745f8423a23f75b": {
      "model_module": "@jupyter-widgets/controls",
      "model_module_version": "1.2.0",
      "model_name": "ButtonModel",
      "state": {
       "description": "Korrekt?",
       "layout": "IPY_MODEL_96386b500b884b42ba1d16b5c34304ed",
       "style": "IPY_MODEL_aa2fb08f267e4ea8b779e44f10480ee2"
      }
     },
     "1c203a901957409c93d300d0d6a10f90": {
      "model_module": "@jupyter-widgets/controls",
      "model_module_version": "1.2.0",
      "model_name": "ButtonModel",
      "state": {
       "description": "Adjektiv",
       "layout": "IPY_MODEL_bda1503424f74412807931ba11654617",
       "style": "IPY_MODEL_6fe656c66cb54820b814c43ac0e29f3c"
      }
     },
     "1c207a7eeb3148ce90d2f79285b8c95e": {
      "model_module": "@jupyter-widgets/controls",
      "model_module_version": "1.2.0",
      "model_name": "CheckboxModel",
      "state": {
       "description": "Es bezeichnet die näheren Umstände des im Verb ausgedrückten Geschehens.",
       "disabled": false,
       "layout": "IPY_MODEL_b56c73eeb6424b71b690fa92eacbc381",
       "style": "IPY_MODEL_be2ddc3472af43f29de8831f54e71193",
       "value": false
      }
     },
     "1c22492f85fe49e49dd086f013008792": {
      "model_module": "@jupyter-widgets/base",
      "model_module_version": "1.0.0",
      "model_name": "LayoutModel",
      "state": {}
     },
     "1c70ad80c56b4114b43f633b9a6e0a25": {
      "model_module": "@jupyter-widgets/controls",
      "model_module_version": "1.2.0",
      "model_name": "HTMLModel",
      "state": {
       "layout": "IPY_MODEL_7e2d8b04007d4013b0f15ba5137558f9",
       "style": "IPY_MODEL_3c34122c7d0e470bb59a8e70768eb566",
       "value": "<h4 style=\"font-size:14px;\">Was bedeutet das Tag <i>VB</i> im Browntagset (siehe 5.7)?</h4>"
      }
     },
     "1c7ffb10d7a841bfbb42e5fb5fd9b5f7": {
      "model_module": "@jupyter-widgets/controls",
      "model_module_version": "1.2.0",
      "model_name": "DescriptionStyleModel",
      "state": {
       "description_width": "initial"
      }
     },
     "1c89534d5b1840d7b61ce99115c9aaf9": {
      "model_module": "@jupyter-widgets/base",
      "model_module_version": "1.0.0",
      "model_name": "LayoutModel",
      "state": {}
     },
     "1cb33f26cce4415b9978cdc5689a03e6": {
      "model_module": "@jupyter-widgets/base",
      "model_module_version": "1.0.0",
      "model_name": "LayoutModel",
      "state": {}
     },
     "1cc10c151cf740e187de5faf4067b651": {
      "model_module": "@jupyter-widgets/controls",
      "model_module_version": "1.2.0",
      "model_name": "ButtonStyleModel",
      "state": {}
     },
     "1ceb361b3e1344e8b562053a8d832a5e": {
      "model_module": "@jupyter-widgets/controls",
      "model_module_version": "1.2.0",
      "model_name": "DescriptionStyleModel",
      "state": {
       "description_width": ""
      }
     },
     "1cec5b4d48e944bdb749090050e7b64c": {
      "model_module": "@jupyter-widgets/controls",
      "model_module_version": "1.2.0",
      "model_name": "DescriptionStyleModel",
      "state": {
       "description_width": "initial"
      }
     },
     "1cedab2a62384fcf8c42347e99c35813": {
      "model_module": "@jupyter-widgets/controls",
      "model_module_version": "1.2.0",
      "model_name": "DescriptionStyleModel",
      "state": {
       "description_width": ""
      }
     },
     "1d3a6718db8e464484d7666b33da9362": {
      "model_module": "@jupyter-widgets/controls",
      "model_module_version": "1.2.0",
      "model_name": "DescriptionStyleModel",
      "state": {
       "description_width": ""
      }
     },
     "1d57015cc325427f9219a8d3ba235142": {
      "model_module": "@jupyter-widgets/controls",
      "model_module_version": "1.2.0",
      "model_name": "ButtonStyleModel",
      "state": {}
     },
     "1da1f1402ad2453e83e9f947e9495f81": {
      "model_module": "@jupyter-widgets/controls",
      "model_module_version": "1.2.0",
      "model_name": "VBoxModel",
      "state": {
       "children": [
        "IPY_MODEL_294bbcbc9d83439489548539b0df1d1c",
        "IPY_MODEL_e596577a59bf42168f62e9a05d6e1ade",
        "IPY_MODEL_dc6fffd3634c4da28a0376202dba9f24",
        "IPY_MODEL_88c21caf1ee74eb7b915c0828a6b593a"
       ],
       "layout": "IPY_MODEL_a98df545a5d3429db79866651bdf5940"
      }
     },
     "1dbb0716ba4a47f8bcd73f789d1b6d4c": {
      "model_module": "@jupyter-widgets/controls",
      "model_module_version": "1.2.0",
      "model_name": "DropdownModel",
      "state": {
       "_options_labels": [
        "NP",
        "PP",
        "VP",
        " "
       ],
       "index": 2,
       "layout": "IPY_MODEL_13b5c4fc40d54d2ba571fd343f6c8b17",
       "style": "IPY_MODEL_05955fc1cb5b486186dd2ae0ae666cb9"
      }
     },
     "1de99ae5de9c4452a736351cd1a05ce1": {
      "model_module": "@jupyter-widgets/controls",
      "model_module_version": "1.2.0",
      "model_name": "HTMLModel",
      "state": {
       "layout": "IPY_MODEL_b424122e747f438aa78650dd9b3a9de6",
       "style": "IPY_MODEL_3b416f3b955145b7bbc81e26955b5899",
       "value": "<i>Markieren Sie <ins>alle</ins> passenden Antworten: </i>"
      }
     },
     "1e2856a4c03f4ad69ac8470ed365a543": {
      "model_module": "@jupyter-widgets/controls",
      "model_module_version": "1.2.0",
      "model_name": "HTMLModel",
      "state": {
       "layout": "IPY_MODEL_a3c830fcbb424820b40e6850a6f5f605",
       "style": "IPY_MODEL_eeeb8a86dfec4344a4ae8e1760455fea",
       "value": "<h4 style=\"font-size:14px;\">gestellt. Die gesamte</h4>"
      }
     },
     "1e3b49fb6ece41a8b3e84ea950b8e877": {
      "model_module": "@jupyter-widgets/controls",
      "model_module_version": "1.2.0",
      "model_name": "ButtonStyleModel",
      "state": {}
     },
     "1e3bcfdc4b844df38dbf9a3dd710c51f": {
      "model_module": "@jupyter-widgets/controls",
      "model_module_version": "1.2.0",
      "model_name": "ButtonModel",
      "state": {
       "description": "3rd singular present",
       "layout": "IPY_MODEL_65c1bba23d8a431db415b785e8bd08d1",
       "style": "IPY_MODEL_48279469d78a4130b393c2d4fd602494"
      }
     },
     "1e418b741faf41328a98373a0c16bfe0": {
      "model_module": "@jupyter-widgets/base",
      "model_module_version": "1.0.0",
      "model_name": "LayoutModel",
      "state": {}
     },
     "1e52512e83dd413dbb1aa9119d4379a7": {
      "model_module": "@jupyter-widgets/base",
      "model_module_version": "1.0.0",
      "model_name": "LayoutModel",
      "state": {}
     },
     "1e9e923f86314de4bad395999c210883": {
      "model_module": "@jupyter-widgets/controls",
      "model_module_version": "1.2.0",
      "model_name": "DescriptionStyleModel",
      "state": {
       "description_width": ""
      }
     },
     "1eb9713369c7479aa380c3c4368a68de": {
      "model_module": "@jupyter-widgets/controls",
      "model_module_version": "1.2.0",
      "model_name": "DescriptionStyleModel",
      "state": {
       "description_width": "initial"
      }
     },
     "1ec33d464931439fa5ed994de96ac483": {
      "model_module": "@jupyter-widgets/controls",
      "model_module_version": "1.2.0",
      "model_name": "DescriptionStyleModel",
      "state": {
       "description_width": ""
      }
     },
     "1ec994cba54e4df98495f88d14392d22": {
      "model_module": "@jupyter-widgets/base",
      "model_module_version": "1.0.0",
      "model_name": "LayoutModel",
      "state": {}
     },
     "1f504295b5e6464d90e4eb3bb23a6802": {
      "model_module": "@jupyter-widgets/base",
      "model_module_version": "1.0.0",
      "model_name": "LayoutModel",
      "state": {
       "width": "250px"
      }
     },
     "1f5857e3c1784da09680cf395c652185": {
      "model_module": "@jupyter-widgets/controls",
      "model_module_version": "1.2.0",
      "model_name": "ButtonStyleModel",
      "state": {}
     },
     "1fb71b525ea74fad89e20c2b0b56e358": {
      "model_module": "@jupyter-widgets/controls",
      "model_module_version": "1.2.0",
      "model_name": "ButtonStyleModel",
      "state": {}
     },
     "1fc334e421944297adacb26a5d4436e3": {
      "model_module": "@jupyter-widgets/base",
      "model_module_version": "1.0.0",
      "model_name": "LayoutModel",
      "state": {
       "width": "150px"
      }
     },
     "1fcc9178f8044b48bf4af1f4c6c2b435": {
      "model_module": "@jupyter-widgets/base",
      "model_module_version": "1.0.0",
      "model_name": "LayoutModel",
      "state": {
       "justify_content": "center"
      }
     },
     "1fd36ddb9dcf4b27ac94350a3be69c69": {
      "model_module": "@jupyter-widgets/base",
      "model_module_version": "1.0.0",
      "model_name": "LayoutModel",
      "state": {}
     },
     "1fe04214c0b64137b1f202bc6d2d4134": {
      "model_module": "@jupyter-widgets/base",
      "model_module_version": "1.0.0",
      "model_name": "LayoutModel",
      "state": {
       "justify_content": "center"
      }
     },
     "2036b0495ca24269ab6604fd053ff33f": {
      "model_module": "@jupyter-widgets/base",
      "model_module_version": "1.0.0",
      "model_name": "LayoutModel",
      "state": {
       "width": "250px"
      }
     },
     "20413d162d0241a98d085ede603d6464": {
      "model_module": "@jupyter-widgets/controls",
      "model_module_version": "1.2.0",
      "model_name": "DescriptionStyleModel",
      "state": {
       "description_width": ""
      }
     },
     "204a39e093074d289adcfe0277fb4e15": {
      "model_module": "@jupyter-widgets/controls",
      "model_module_version": "1.2.0",
      "model_name": "DescriptionStyleModel",
      "state": {
       "description_width": ""
      }
     },
     "20afcc19219a414bbc995f75f0edd32c": {
      "model_module": "@jupyter-widgets/base",
      "model_module_version": "1.0.0",
      "model_name": "LayoutModel",
      "state": {
       "width": "600px"
      }
     },
     "20e524648a32465aa969bab31d477d99": {
      "model_module": "@jupyter-widgets/controls",
      "model_module_version": "1.2.0",
      "model_name": "DescriptionStyleModel",
      "state": {
       "description_width": ""
      }
     },
     "20f23f5231024e94a786ebbbce737205": {
      "model_module": "@jupyter-widgets/base",
      "model_module_version": "1.0.0",
      "model_name": "LayoutModel",
      "state": {
       "width": "150px"
      }
     },
     "210171bc2cd54f298375ae112772b9ea": {
      "model_module": "@jupyter-widgets/controls",
      "model_module_version": "1.2.0",
      "model_name": "HTMLModel",
      "state": {
       "layout": "IPY_MODEL_36af468123ac4025ad59a5e0a88ad377",
       "style": "IPY_MODEL_8d2d0501cdca49c78d490b2bf41d827a",
       "value": "<h4 style=\"font-size:14px;\">Welche Wortart folgt damit für das Wort <i>gerne</i> in Satz 1?</h4>"
      }
     },
     "211ae07af63846c4b8defa57c0a08ddc": {
      "model_module": "@jupyter-widgets/base",
      "model_module_version": "1.0.0",
      "model_name": "LayoutModel",
      "state": {}
     },
     "212fb9c69fbe4b2ba753f43ca3732e91": {
      "model_module": "@jupyter-widgets/controls",
      "model_module_version": "1.2.0",
      "model_name": "HTMLModel",
      "state": {
       "layout": "IPY_MODEL_3e346183f8354929a30eac5abfd40fb1",
       "style": "IPY_MODEL_33804a02b4844046b4ff2c1492e19656",
       "value": "<h4 style=\"font-size:14px;\">Was bedeutet das Tag <i>VBG</i> im Browntagset (siehe 5.7)?</h4>"
      }
     },
     "21351fce0b4b40c3a4b3e4427d94ca81": {
      "model_module": "@jupyter-widgets/controls",
      "model_module_version": "1.2.0",
      "model_name": "HTMLModel",
      "state": {
       "layout": "IPY_MODEL_9056b55fc72c48dda632a631bee56d57",
       "style": "IPY_MODEL_ef4127283ede415caa7db7fb96ea3cb3",
       "value": "<h4 style=\"font-size:14px;\">umfasst die</h4>"
      }
     },
     "2165a55cccef4b48ac71465702c3f393": {
      "model_module": "@jupyter-widgets/base",
      "model_module_version": "1.0.0",
      "model_name": "LayoutModel",
      "state": {}
     },
     "21703cbabf174c18bea03e92558fd8af": {
      "model_module": "@jupyter-widgets/controls",
      "model_module_version": "1.2.0",
      "model_name": "DropdownModel",
      "state": {
       "_options_labels": [
        "NP",
        "PP",
        "VP",
        " "
       ],
       "index": 3,
       "layout": "IPY_MODEL_116d357a74de4ff9bdb425d774c9345c",
       "style": "IPY_MODEL_0a207d2c42c14a1f99147528405eb8af"
      }
     },
     "21c0d20bb951451695c25b9d28eee8db": {
      "model_module": "@jupyter-widgets/controls",
      "model_module_version": "1.2.0",
      "model_name": "HTMLModel",
      "state": {
       "layout": "IPY_MODEL_1840e872b0c04f119844f7c38901684b",
       "style": "IPY_MODEL_2a38bb084d8b496c941cb962d77901d5",
       "value": "<i>Wählen Sie die <ins>eine</ins> korrekte Antwort aus: </i>"
      }
     },
     "21f08c2618ec456d947a0c377b92f22d": {
      "model_module": "@jupyter-widgets/controls",
      "model_module_version": "1.2.0",
      "model_name": "HTMLModel",
      "state": {
       "layout": "IPY_MODEL_c6f9fc20807d4464a8df19a9207e34d0",
       "style": "IPY_MODEL_8eb07ebcd3cb4b7eb9580b7a1200faae",
       "value": "<i>Markieren Sie <ins>alle</ins> passenden Antworten: </i>"
      }
     },
     "21fd856100c04af89645bd14942466a8": {
      "model_module": "@jupyter-widgets/controls",
      "model_module_version": "1.2.0",
      "model_name": "ButtonModel",
      "state": {
       "description": "Adjektiv",
       "layout": "IPY_MODEL_2ce5d5e50fb442308949bee447e3176e",
       "style": "IPY_MODEL_9bc7b20150cf4f29ae7972799ebf3fb7"
      }
     },
     "22183340981f45e5bdb83b9c636dadd0": {
      "model_module": "@jupyter-widgets/controls",
      "model_module_version": "1.2.0",
      "model_name": "ButtonModel",
      "state": {
       "description": "simple past",
       "layout": "IPY_MODEL_4901d2a98be54e86ab8670f7663abc3c",
       "style": "IPY_MODEL_178b0ae1c0b94b12899c7dafd8089406"
      }
     },
     "221958c9d5e04b588c1f2b9448458d22": {
      "model_module": "@jupyter-widgets/base",
      "model_module_version": "1.0.0",
      "model_name": "LayoutModel",
      "state": {
       "width": "250px"
      }
     },
     "22802110620d4b218406f5eb7144641b": {
      "model_module": "@jupyter-widgets/controls",
      "model_module_version": "1.2.0",
      "model_name": "ButtonModel",
      "state": {
       "description": "base",
       "layout": "IPY_MODEL_b86285c4c1eb43ab97db0021b49027ff",
       "style": "IPY_MODEL_e01edcbf619a4893a830f7f02dd9a975"
      }
     },
     "228044a8cf414f3ab91a5ca6983b9b0d": {
      "model_module": "@jupyter-widgets/controls",
      "model_module_version": "1.2.0",
      "model_name": "ButtonStyleModel",
      "state": {}
     },
     "2283b06b6780471581ee3639db2d40e9": {
      "model_module": "@jupyter-widgets/base",
      "model_module_version": "1.0.0",
      "model_name": "LayoutModel",
      "state": {}
     },
     "228d0786cc6748e1b39ed66b9f30deb6": {
      "model_module": "@jupyter-widgets/controls",
      "model_module_version": "1.2.0",
      "model_name": "HTMLModel",
      "state": {
       "layout": "IPY_MODEL_f5aabda0ad70457ebcb20dbc08ea2669",
       "style": "IPY_MODEL_cf5c7d3ab67c4c94929a2de95a5a3194",
       "value": "<h4 style=\"font-size:14px;\">Welche Wortart könnte man für das Wort <i>gut</i> in Satz 2 vermuten, wenn man Adverbien nicht morphologisch, sondern semantisch charakterisiert (als Wortart, die der Modifizierung des Verbalgeschehens dient)?</h4>"
      }
     },
     "22e9ddaf44e64c449613dbe9cbcf3f70": {
      "model_module": "@jupyter-widgets/base",
      "model_module_version": "1.0.0",
      "model_name": "LayoutModel",
      "state": {}
     },
     "23360c26a6f440829b9dec5ab193f974": {
      "model_module": "@jupyter-widgets/base",
      "model_module_version": "1.0.0",
      "model_name": "LayoutModel",
      "state": {
       "align_content": "stretch",
       "align_items": "stretch",
       "display": "inline-flex",
       "flex": "flex-grow",
       "flex_flow": "row wrap",
       "justify_content": "flex-start"
      }
     },
     "234a50084ae248b884006265db37a570": {
      "model_module": "@jupyter-widgets/base",
      "model_module_version": "1.0.0",
      "model_name": "LayoutModel",
      "state": {}
     },
     "2374f225bcc047bf8dfecd055158a847": {
      "model_module": "@jupyter-widgets/base",
      "model_module_version": "1.0.0",
      "model_name": "LayoutModel",
      "state": {
       "width": "600px"
      }
     },
     "23903c442f6f47b3b5c110d9c22a8521": {
      "model_module": "@jupyter-widgets/base",
      "model_module_version": "1.0.0",
      "model_name": "LayoutModel",
      "state": {}
     },
     "23a14c9c9b4e4c33acd897fb767036e3": {
      "model_module": "@jupyter-widgets/controls",
      "model_module_version": "1.2.0",
      "model_name": "DescriptionStyleModel",
      "state": {
       "description_width": "initial"
      }
     },
     "23d7ff799bce4fc68e4141a4a5b12c39": {
      "model_module": "@jupyter-widgets/base",
      "model_module_version": "1.0.0",
      "model_name": "LayoutModel",
      "state": {}
     },
     "2441ce2150fb47f48bbc06c1722f3c9f": {
      "model_module": "@jupyter-widgets/controls",
      "model_module_version": "1.2.0",
      "model_name": "HTMLModel",
      "state": {
       "layout": "IPY_MODEL_c9e0c5c928844732a564285d4b2990ec",
       "style": "IPY_MODEL_51547305665a42deb9431c7fa8710302",
       "value": "<i>Markieren Sie <ins>alle</ins> passenden Antworten: </i>"
      }
     },
     "2456074304394239a47880da3708ee28": {
      "model_module": "@jupyter-widgets/controls",
      "model_module_version": "1.2.0",
      "model_name": "HBoxModel",
      "state": {
       "children": [
        "IPY_MODEL_b57383f5eca5466ebcb032975c9b1f76",
        "IPY_MODEL_2e29cd69094a4d9584e4397bc975151a"
       ],
       "layout": "IPY_MODEL_f29655d1007b41f0a2cfab3ada7d7864"
      }
     },
     "246dcadb6e874e9b9c0f1d54884dfd31": {
      "model_module": "@jupyter-widgets/controls",
      "model_module_version": "1.2.0",
      "model_name": "DescriptionStyleModel",
      "state": {
       "description_width": "initial"
      }
     },
     "24a7ab1bba524b0d9c772f274ce51399": {
      "model_module": "@jupyter-widgets/controls",
      "model_module_version": "1.2.0",
      "model_name": "HTMLModel",
      "state": {
       "layout": "IPY_MODEL_d91167ce5b4b4781b56ac3c2737d7ba3",
       "style": "IPY_MODEL_e74484ecc8b14c338d6ef79e878e0bb8",
       "value": "<h4 style=\"font-size:14px;\">Wie wirt der POS-Tagger im NLTK aufgerufen?</h4>"
      }
     },
     "24b93bc2e192487f8436c6d43ed72698": {
      "model_module": "@jupyter-widgets/controls",
      "model_module_version": "1.2.0",
      "model_name": "DescriptionStyleModel",
      "state": {
       "description_width": "initial"
      }
     },
     "2545bf3e361f4c12a82ce98abe350d89": {
      "model_module": "@jupyter-widgets/controls",
      "model_module_version": "1.2.0",
      "model_name": "HBoxModel",
      "state": {
       "children": [
        "IPY_MODEL_f1faafe6e28242ca900486a9f7f50f8c",
        "IPY_MODEL_ba5ebb4b3cc64af0ba6b6058621c2894"
       ],
       "layout": "IPY_MODEL_4f34447da6e745a6b73fff46214075d5"
      }
     },
     "2558ab9de10c48d18dc272b2975dfec9": {
      "model_module": "@jupyter-widgets/base",
      "model_module_version": "1.0.0",
      "model_name": "LayoutModel",
      "state": {
       "justify_content": "center"
      }
     },
     "25686e30f88c45059e9a2eb6fce3013c": {
      "model_module": "@jupyter-widgets/controls",
      "model_module_version": "1.2.0",
      "model_name": "HTMLModel",
      "state": {
       "layout": "IPY_MODEL_99be6cee92d5481ca7e9625688f2a4f2",
       "style": "IPY_MODEL_d20603e256ba4cc3ad7ec15daeff7529",
       "value": "<h4 style=\"font-size:14px;\">In der ersten Zeile des Codes werden</h4>"
      }
     },
     "25b14e1bd48643d3807f0bf14b3d73ec": {
      "model_module": "@jupyter-widgets/controls",
      "model_module_version": "1.2.0",
      "model_name": "HTMLModel",
      "state": {
       "layout": "IPY_MODEL_a1ef60fb7c81412a80673800ddd19077",
       "style": "IPY_MODEL_b2013aa1a00d4e7fb5aa4e548342ae3f",
       "value": "<i>Wählen Sie die <ins>eine</ins> korrekte Antwort aus: </i>"
      }
     },
     "2661ca95d6694b4cad5d6df9fb4a2484": {
      "model_module": "@jupyter-widgets/controls",
      "model_module_version": "1.2.0",
      "model_name": "HTMLModel",
      "state": {
       "layout": "IPY_MODEL_75e4748908974e9ba2d5c9d9ebd529fa",
       "style": "IPY_MODEL_5b462bdb645c44ca8b7ad4d8e3c305de",
       "value": "<h4 style=\"font-size:14px;\">gestellt. Die gesamte</h4>"
      }
     },
     "26789905149f45608a342227f3c487ed": {
      "model_module": "@jupyter-widgets/controls",
      "model_module_version": "1.2.0",
      "model_name": "ButtonModel",
      "state": {
       "description": "simple past",
       "layout": "IPY_MODEL_3684dc4219564846ae1763b94528345f",
       "style": "IPY_MODEL_925f9f4dace34a6daa5f2e565d0d0bce"
      }
     },
     "26834ed602b14cb292222945fdc9b2db": {
      "model_module": "@jupyter-widgets/controls",
      "model_module_version": "1.2.0",
      "model_name": "DescriptionStyleModel",
      "state": {
       "description_width": ""
      }
     },
     "26880b9543bb494d8af11d0e8c7072f8": {
      "model_module": "@jupyter-widgets/base",
      "model_module_version": "1.0.0",
      "model_name": "LayoutModel",
      "state": {
       "justify_content": "center"
      }
     },
     "2699d0c5f08d496980eca932bc4b97ef": {
      "model_module": "@jupyter-widgets/controls",
      "model_module_version": "1.2.0",
      "model_name": "DropdownModel",
      "state": {
       "_options_labels": [
        " ",
        "NP",
        "PP",
        "VP",
        " "
       ],
       "index": 3,
       "layout": "IPY_MODEL_d6717426f59b4b81acd31423b80c5127",
       "style": "IPY_MODEL_a13403aa845b47d09b1ce5673209eb82"
      }
     },
     "26a65b3a40c64e3a95a1967d8044dfe3": {
      "model_module": "@jupyter-widgets/controls",
      "model_module_version": "1.2.0",
      "model_name": "DescriptionStyleModel",
      "state": {
       "description_width": ""
      }
     },
     "26bc08b329a74369be81c53dcc225dc7": {
      "model_module": "@jupyter-widgets/controls",
      "model_module_version": "1.2.0",
      "model_name": "DescriptionStyleModel",
      "state": {
       "description_width": ""
      }
     },
     "26d36400814f4f98a5dec22022caa81c": {
      "model_module": "@jupyter-widgets/controls",
      "model_module_version": "1.2.0",
      "model_name": "HBoxModel",
      "state": {
       "children": [
        "IPY_MODEL_8b55952b0b5b4efcb2ba79fa82c6f4e1",
        "IPY_MODEL_e4b0c4317c324605bec4271e08a7280c"
       ],
       "layout": "IPY_MODEL_9844d7b46e514e5782b903bfbecb5a2e"
      }
     },
     "26e6b4151df24aee9aca77e3e923a894": {
      "model_module": "@jupyter-widgets/controls",
      "model_module_version": "1.2.0",
      "model_name": "DropdownModel",
      "state": {
       "_options_labels": [
        "gleichartige",
        "unterschiedliche",
        " "
       ],
       "index": 2,
       "layout": "IPY_MODEL_bf62989b53194a519202c7a559495464",
       "style": "IPY_MODEL_85a35a669c6c4a95b5fd355826180a66"
      }
     },
     "271bd9e21cd24d7b9654f9916d14d1fa": {
      "model_module": "@jupyter-widgets/base",
      "model_module_version": "1.0.0",
      "model_name": "LayoutModel",
      "state": {}
     },
     "2771ab549cc241d09829a1c6401cbdfe": {
      "model_module": "@jupyter-widgets/base",
      "model_module_version": "1.0.0",
      "model_name": "LayoutModel",
      "state": {
       "width": "600px"
      }
     },
     "278d162dbae84f229a730789ed4aa463": {
      "model_module": "@jupyter-widgets/base",
      "model_module_version": "1.0.0",
      "model_name": "LayoutModel",
      "state": {
       "justify_content": "center"
      }
     },
     "279edb79c4b841dfa079f1c9457e9cf4": {
      "model_module": "@jupyter-widgets/controls",
      "model_module_version": "1.2.0",
      "model_name": "ButtonStyleModel",
      "state": {}
     },
     "27b537609e66474cb13b2880951b354b": {
      "model_module": "@jupyter-widgets/base",
      "model_module_version": "1.0.0",
      "model_name": "LayoutModel",
      "state": {}
     },
     "27d1dc5a83fd45429324990979f914f1": {
      "model_module": "@jupyter-widgets/base",
      "model_module_version": "1.0.0",
      "model_name": "LayoutModel",
      "state": {
       "width": "150px"
      }
     },
     "27e31c9e9bf74800b732c412a2394dd2": {
      "model_module": "@jupyter-widgets/base",
      "model_module_version": "1.0.0",
      "model_name": "LayoutModel",
      "state": {}
     },
     "27fc1c36fd174c9f92ce5ce5190a1133": {
      "model_module": "@jupyter-widgets/controls",
      "model_module_version": "1.2.0",
      "model_name": "DescriptionStyleModel",
      "state": {
       "description_width": ""
      }
     },
     "282ff023f1ca4b0d906a3f1dcab7bc38": {
      "model_module": "@jupyter-widgets/base",
      "model_module_version": "1.0.0",
      "model_name": "LayoutModel",
      "state": {}
     },
     "2855f54797ef45e8b1b6df986c07ffc5": {
      "model_module": "@jupyter-widgets/controls",
      "model_module_version": "1.2.0",
      "model_name": "DescriptionStyleModel",
      "state": {
       "description_width": ""
      }
     },
     "28a37dd4689c43dfac0c82c14ed219a7": {
      "model_module": "@jupyter-widgets/base",
      "model_module_version": "1.0.0",
      "model_name": "LayoutModel",
      "state": {
       "justify_content": "center"
      }
     },
     "290c8af452324dada4749bc457fee095": {
      "model_module": "@jupyter-widgets/controls",
      "model_module_version": "1.2.0",
      "model_name": "ButtonStyleModel",
      "state": {}
     },
     "2946608f5a394683b610159b9e4f9312": {
      "model_module": "@jupyter-widgets/controls",
      "model_module_version": "1.2.0",
      "model_name": "DescriptionStyleModel",
      "state": {
       "description_width": ""
      }
     },
     "294bbcbc9d83439489548539b0df1d1c": {
      "model_module": "@jupyter-widgets/controls",
      "model_module_version": "1.2.0",
      "model_name": "HTMLModel",
      "state": {
       "layout": "IPY_MODEL_502353894e694d92b2729611729160ac",
       "style": "IPY_MODEL_c9296b8e41394c0aa7073fff37261101",
       "value": "<h4 style=\"font-size:14px;\">Welche Eigenschaften hat <i>gerne</i> in Satz 1?</h4>"
      }
     },
     "297cade4fd7c4850bcddb00ea6b6f587": {
      "model_module": "@jupyter-widgets/controls",
      "model_module_version": "1.2.0",
      "model_name": "DescriptionStyleModel",
      "state": {
       "description_width": "initial"
      }
     },
     "299304545d744eb2b7d979e3f43f5df0": {
      "model_module": "@jupyter-widgets/base",
      "model_module_version": "1.0.0",
      "model_name": "LayoutModel",
      "state": {}
     },
     "29982c68f6bd4009a799fee3297183e8": {
      "model_module": "@jupyter-widgets/base",
      "model_module_version": "1.0.0",
      "model_name": "LayoutModel",
      "state": {}
     },
     "29c04575ac804bc593dd289b4bcfe719": {
      "model_module": "@jupyter-widgets/controls",
      "model_module_version": "1.2.0",
      "model_name": "DescriptionStyleModel",
      "state": {
       "description_width": ""
      }
     },
     "2a06fb9b2b4b48c68360c3f1c8976f33": {
      "model_module": "@jupyter-widgets/controls",
      "model_module_version": "1.2.0",
      "model_name": "DescriptionStyleModel",
      "state": {
       "description_width": "initial"
      }
     },
     "2a20fa3354794266af3c916c9564c5fd": {
      "model_module": "@jupyter-widgets/controls",
      "model_module_version": "1.2.0",
      "model_name": "CheckboxModel",
      "state": {
       "description": "Nur beginnt eine Reise von tausend Meilen auch mit einem Schritt",
       "disabled": false,
       "layout": "IPY_MODEL_9df6442c25564065a1986686fd5c7a90",
       "style": "IPY_MODEL_6a3ffadc6ecd4488ab916996077759c2",
       "value": false
      }
     },
     "2a294cc34fb14628bafe26e8f65e9c39": {
      "model_module": "@jupyter-widgets/base",
      "model_module_version": "1.0.0",
      "model_name": "LayoutModel",
      "state": {
       "width": "250px"
      }
     },
     "2a38bb084d8b496c941cb962d77901d5": {
      "model_module": "@jupyter-widgets/controls",
      "model_module_version": "1.2.0",
      "model_name": "DescriptionStyleModel",
      "state": {
       "description_width": ""
      }
     },
     "2a3b673596b24107b8b2b13256a8c611": {
      "model_module": "@jupyter-widgets/base",
      "model_module_version": "1.0.0",
      "model_name": "LayoutModel",
      "state": {}
     },
     "2a3ce4723c3740669b00730f403dfb7a": {
      "model_module": "@jupyter-widgets/controls",
      "model_module_version": "1.2.0",
      "model_name": "HBoxModel",
      "state": {
       "children": [
        "IPY_MODEL_48f3232588184eb6a806bc1123d048a8",
        "IPY_MODEL_84b642c8634b428b965a2a9cdef2db56"
       ],
       "layout": "IPY_MODEL_aa2c217f98664504955f7dc074917a13"
      }
     },
     "2a445f211bfc47ebae5ad7b0051f56a6": {
      "model_module": "@jupyter-widgets/controls",
      "model_module_version": "1.2.0",
      "model_name": "DescriptionStyleModel",
      "state": {
       "description_width": "initial"
      }
     },
     "2a72ebfd09b34eeca327737a5da0929d": {
      "model_module": "@jupyter-widgets/controls",
      "model_module_version": "1.2.0",
      "model_name": "DescriptionStyleModel",
      "state": {
       "description_width": "initial"
      }
     },
     "2a7b5ba425274f8794d757b4ad297afe": {
      "model_module": "@jupyter-widgets/controls",
      "model_module_version": "1.2.0",
      "model_name": "DescriptionStyleModel",
      "state": {
       "description_width": ""
      }
     },
     "2a912c0865b74f0d9d29627e91278fe9": {
      "model_module": "@jupyter-widgets/controls",
      "model_module_version": "1.2.0",
      "model_name": "ButtonModel",
      "state": {
       "description": "past participle",
       "layout": "IPY_MODEL_905279fd49c343e58cf92d363a18d10c",
       "style": "IPY_MODEL_4abbc9870bed48bd86693976644862f7"
      }
     },
     "2ac0d189cf3f4079b7f69a64c93ffb5b": {
      "model_module": "@jupyter-widgets/base",
      "model_module_version": "1.0.0",
      "model_name": "LayoutModel",
      "state": {}
     },
     "2af3e97c0e7345589954403c051c00b4": {
      "model_module": "@jupyter-widgets/controls",
      "model_module_version": "1.2.0",
      "model_name": "HTMLModel",
      "state": {
       "layout": "IPY_MODEL_6f716c6808dc47bfa7691f9a2272fadb",
       "style": "IPY_MODEL_4f2de25ed90c4ffd9dd43a72824068fe",
       "value": "<h4 style=\"font-size:14px;\">durch eine</h4>"
      }
     },
     "2b07fe75853d4a8c87c99b0fd02571d2": {
      "model_module": "@jupyter-widgets/controls",
      "model_module_version": "1.2.0",
      "model_name": "VBoxModel",
      "state": {
       "children": [
        "IPY_MODEL_975b8678658e480b965bd0add327747a",
        "IPY_MODEL_2c878db7b2b0409f8acde19b53f99376",
        "IPY_MODEL_493d1a0426734617b08a3d76587e84ea",
        "IPY_MODEL_2cd104c2a87e4a50b71d7708590e8aa3"
       ],
       "layout": "IPY_MODEL_211ae07af63846c4b8defa57c0a08ddc"
      }
     },
     "2b4a45972c1644c0965b10b0f1bbead2": {
      "model_module": "@jupyter-widgets/controls",
      "model_module_version": "1.2.0",
      "model_name": "ButtonStyleModel",
      "state": {}
     },
     "2b63b8ed02fa4bc38d94377ddc7a86fe": {
      "model_module": "@jupyter-widgets/base",
      "model_module_version": "1.0.0",
      "model_name": "LayoutModel",
      "state": {
       "width": "150px"
      }
     },
     "2b94105375694dfa83c47e5c2dde700f": {
      "model_module": "@jupyter-widgets/controls",
      "model_module_version": "1.2.0",
      "model_name": "HTMLModel",
      "state": {
       "layout": "IPY_MODEL_f048d4adeb924508bb52a41052fb7a97",
       "style": "IPY_MODEL_67430b35359f438da1723c72bc5435e3",
       "value": "<h4 style=\"font-size:14px;\">Die Koordination von Phrasen ist dadurch eingeschränkt, dass nur</h4>"
      }
     },
     "2bb36b9442ed45449eed23739e19a85a": {
      "model_module": "@jupyter-widgets/base",
      "model_module_version": "1.0.0",
      "model_name": "LayoutModel",
      "state": {
       "width": "600px"
      }
     },
     "2bc65c4b7b24457896b577fe9d737a80": {
      "model_module": "@jupyter-widgets/controls",
      "model_module_version": "1.2.0",
      "model_name": "DescriptionStyleModel",
      "state": {
       "description_width": "initial"
      }
     },
     "2bfe47de3df04f6b9bdbaf08b63da96a": {
      "model_module": "@jupyter-widgets/controls",
      "model_module_version": "1.2.0",
      "model_name": "BoxModel",
      "state": {
       "children": [
        "IPY_MODEL_bb1ca30bf7f64a9e9050c43e96136293",
        "IPY_MODEL_4fe0903c35f7484aa2468892fc1dcda9",
        "IPY_MODEL_494168e784804fdcab2987c537d6bd9a",
        "IPY_MODEL_9fdf911543e7493e9a8d245f7e161b62",
        "IPY_MODEL_b320d344ac8a45f085f8e6ac2c5b6fd4",
        "IPY_MODEL_1dbb0716ba4a47f8bcd73f789d1b6d4c",
        "IPY_MODEL_3f296c2c5bfc478cb6f222fc09dccdc7",
        "IPY_MODEL_c0a7d7a670bc45be8511148b7fb396ed",
        "IPY_MODEL_d611859135ad4a39a6643b8581dd2c5a",
        "IPY_MODEL_ba4e267992ed4e1898b5568f2b0a5594",
        "IPY_MODEL_e280bebe6db44d82a7083d82212fc528",
        "IPY_MODEL_43abfd9327424fb18bb72879eae3d72f",
        "IPY_MODEL_dca6e718ad874dfbb80f8bf17234f3dc"
       ],
       "layout": "IPY_MODEL_34bf3779a9d247ce96f0ceb5e12ebbd3"
      }
     },
     "2c1470383f1142dc9ef1a605442811a6": {
      "model_module": "@jupyter-widgets/base",
      "model_module_version": "1.0.0",
      "model_name": "LayoutModel",
      "state": {}
     },
     "2c878db7b2b0409f8acde19b53f99376": {
      "model_module": "@jupyter-widgets/controls",
      "model_module_version": "1.2.0",
      "model_name": "HTMLModel",
      "state": {
       "layout": "IPY_MODEL_4f2210060a6f4319ba674071f74fe11f",
       "style": "IPY_MODEL_68ba84abb2634e1d88466f145bab6f24",
       "value": "<i>Markieren Sie <ins>alle</ins> passenden Antworten: </i>"
      }
     },
     "2cd104c2a87e4a50b71d7708590e8aa3": {
      "model_module": "@jupyter-widgets/controls",
      "model_module_version": "1.2.0",
      "model_name": "ButtonModel",
      "state": {
       "description": "Korrekt?",
       "layout": "IPY_MODEL_2036b0495ca24269ab6604fd053ff33f",
       "style": "IPY_MODEL_97949348cc674b6fb32dd97bd348e4ab"
      }
     },
     "2cd6db1900ad40ccbc6e2e6afb6563ae": {
      "model_module": "@jupyter-widgets/controls",
      "model_module_version": "1.2.0",
      "model_name": "DescriptionStyleModel",
      "state": {
       "description_width": ""
      }
     },
     "2ce06bc3d155458482f7020b37548989": {
      "model_module": "@jupyter-widgets/controls",
      "model_module_version": "1.2.0",
      "model_name": "ButtonModel",
      "state": {
       "description": "Keine der anderen Möglichkeiten",
       "layout": "IPY_MODEL_7f944004cc7744df8e74182a339a8ef5",
       "style": "IPY_MODEL_290c8af452324dada4749bc457fee095"
      }
     },
     "2ce5d5e50fb442308949bee447e3176e": {
      "model_module": "@jupyter-widgets/base",
      "model_module_version": "1.0.0",
      "model_name": "LayoutModel",
      "state": {
       "width": "250px"
      }
     },
     "2cf2c133d93241588800e06b4ebd1716": {
      "model_module": "@jupyter-widgets/controls",
      "model_module_version": "1.2.0",
      "model_name": "DropdownModel",
      "state": {
       "_options_labels": [
        "Bigramm",
        "Trigramm",
        "Unigramm",
        " "
       ],
       "index": 3,
       "layout": "IPY_MODEL_df9ace07ef224b948425a022e1ac77c2",
       "style": "IPY_MODEL_02383fcd62204625a923b8723bfa6d63"
      }
     },
     "2cfd86ac15974b3186a25db76655026f": {
      "model_module": "@jupyter-widgets/controls",
      "model_module_version": "1.2.0",
      "model_name": "DescriptionStyleModel",
      "state": {
       "description_width": ""
      }
     },
     "2d278ec38d824d4fa1ff4fad62f31a90": {
      "model_module": "@jupyter-widgets/base",
      "model_module_version": "1.0.0",
      "model_name": "LayoutModel",
      "state": {
       "width": "250px"
      }
     },
     "2d5398907a224019a805dfca5288abf4": {
      "model_module": "@jupyter-widgets/base",
      "model_module_version": "1.0.0",
      "model_name": "LayoutModel",
      "state": {
       "width": "250px"
      }
     },
     "2d9a4a6a640d4889904a387d93a3848c": {
      "model_module": "@jupyter-widgets/controls",
      "model_module_version": "1.2.0",
      "model_name": "HTMLModel",
      "state": {
       "layout": "IPY_MODEL_82a456f6008247dbb2234cf086c24961",
       "style": "IPY_MODEL_e5a7e07199bb4a0a8a57f7307e61329f",
       "value": "<h4 style=\"font-size:14px;\">Ersetzbarkeit einer</h4>"
      }
     },
     "2dac091edaae4819bef6c336fd331c32": {
      "model_module": "@jupyter-widgets/base",
      "model_module_version": "1.0.0",
      "model_name": "LayoutModel",
      "state": {
       "width": "600px"
      }
     },
     "2dadc743abd04a58b40b88c347a9dec2": {
      "model_module": "@jupyter-widgets/controls",
      "model_module_version": "1.2.0",
      "model_name": "DropdownModel",
      "state": {
       "_options_labels": [
        "'ADJ'",
        "'DET'",
        "'NOUN'",
        " "
       ],
       "index": 2,
       "layout": "IPY_MODEL_3c5e25be68f24cb09d420db33158bc0c",
       "style": "IPY_MODEL_e8dc860a8ada42fcb8b2ec55967d2637"
      }
     },
     "2dcf3e7294ac46588fdbede1ed3c1374": {
      "model_module": "@jupyter-widgets/controls",
      "model_module_version": "1.2.0",
      "model_name": "ButtonModel",
      "state": {
       "description": "past participle",
       "layout": "IPY_MODEL_6c6390cbb4114d3581048b7e8ac5cad9",
       "style": "IPY_MODEL_3e1d765fa03c443f84a46730c5e7453f"
      }
     },
     "2de559eb97ab4e74930d6a3ce971feef": {
      "model_module": "@jupyter-widgets/controls",
      "model_module_version": "1.2.0",
      "model_name": "VBoxModel",
      "state": {
       "children": [
        "IPY_MODEL_5de8160794d847b09f63939ecfe38310",
        "IPY_MODEL_21c0d20bb951451695c25b9d28eee8db",
        "IPY_MODEL_e3cd33523bf243dcac8568f0965f8c69",
        "IPY_MODEL_97d0736703ef42439cf7235de245e266"
       ],
       "layout": "IPY_MODEL_459c2bc5c4ed469d8347e14a9d18eee2"
      }
     },
     "2e1cc2555fd24b7fa55d2873f69baecb": {
      "model_module": "@jupyter-widgets/controls",
      "model_module_version": "1.2.0",
      "model_name": "ButtonStyleModel",
      "state": {}
     },
     "2e29cd69094a4d9584e4397bc975151a": {
      "model_module": "@jupyter-widgets/controls",
      "model_module_version": "1.2.0",
      "model_name": "ButtonModel",
      "state": {
       "description": "past participle",
       "layout": "IPY_MODEL_eae5c35f5626492589ff72084e42b96e",
       "style": "IPY_MODEL_630d3576587041bd9eff41e52abbccac"
      }
     },
     "2e2a94f5adcd4ab382684f1fef9b68ea": {
      "model_module": "@jupyter-widgets/base",
      "model_module_version": "1.0.0",
      "model_name": "LayoutModel",
      "state": {
       "width": "250px"
      }
     },
     "2e57c37956c34cdaa841818dd3dc0ffb": {
      "model_module": "@jupyter-widgets/controls",
      "model_module_version": "1.2.0",
      "model_name": "ButtonModel",
      "state": {
       "description": "Keine der anderen Möglichkeiten",
       "layout": "IPY_MODEL_0fb97ae1b9934cb58bc89b21248673cd",
       "style": "IPY_MODEL_935e14e8e8e54fa4b4cf422eb755f506"
      }
     },
     "2e6d96bf8f034016a318211b36479819": {
      "model_module": "@jupyter-widgets/controls",
      "model_module_version": "1.2.0",
      "model_name": "ButtonStyleModel",
      "state": {}
     },
     "2e894047c9e14af29e0bfa5a30f215c6": {
      "model_module": "@jupyter-widgets/controls",
      "model_module_version": "1.2.0",
      "model_name": "DescriptionStyleModel",
      "state": {
       "description_width": ""
      }
     },
     "2e9dcb70acd7436f97b3adaf4fc9b779": {
      "model_module": "@jupyter-widgets/base",
      "model_module_version": "1.0.0",
      "model_name": "LayoutModel",
      "state": {
       "justify_content": "center"
      }
     },
     "2ed10ad49beb4f27bca91beec4d005d6": {
      "model_module": "@jupyter-widgets/controls",
      "model_module_version": "1.2.0",
      "model_name": "HTMLModel",
      "state": {
       "layout": "IPY_MODEL_9ca31b8715364e96a381f54ebc97b86c",
       "style": "IPY_MODEL_9f5edb26783541d0b6b8f596ad7ce93a",
       "value": "<i>Markieren Sie <ins>alle</ins> passenden Antworten: </i>"
      }
     },
     "2ee1dc4cc2bc45d181c19e5168e622bb": {
      "model_module": "@jupyter-widgets/base",
      "model_module_version": "1.0.0",
      "model_name": "LayoutModel",
      "state": {
       "width": "250px"
      }
     },
     "2f2045b3aff84b608bfef9ef001c8783": {
      "model_module": "@jupyter-widgets/base",
      "model_module_version": "1.0.0",
      "model_name": "LayoutModel",
      "state": {}
     },
     "2f2bb97ae6964831ab45573a8eaa692c": {
      "model_module": "@jupyter-widgets/controls",
      "model_module_version": "1.2.0",
      "model_name": "ButtonModel",
      "state": {
       "description": "simple past",
       "layout": "IPY_MODEL_dbc788a3ebd24876a202f8d91d2434b5",
       "style": "IPY_MODEL_fe175aedd3094b6aa2c891aaf12bd19c"
      }
     },
     "2f36dbd8091c478db6ac482bbf1eebce": {
      "model_module": "@jupyter-widgets/base",
      "model_module_version": "1.0.0",
      "model_name": "LayoutModel",
      "state": {
       "width": "600px"
      }
     },
     "2f467191e00c4f14b7092674a3827bea": {
      "model_module": "@jupyter-widgets/base",
      "model_module_version": "1.0.0",
      "model_name": "LayoutModel",
      "state": {
       "width": "250px"
      }
     },
     "2f4d5e07a2b544328d32e8b38ed620a5": {
      "model_module": "@jupyter-widgets/base",
      "model_module_version": "1.0.0",
      "model_name": "LayoutModel",
      "state": {
       "justify_content": "center"
      }
     },
     "2f4eb4193b4b4d37b37d248c4a8f972d": {
      "model_module": "@jupyter-widgets/controls",
      "model_module_version": "1.2.0",
      "model_name": "ButtonStyleModel",
      "state": {}
     },
     "2f8b83906f564150947bbd97afff9297": {
      "model_module": "@jupyter-widgets/controls",
      "model_module_version": "1.2.0",
      "model_name": "HBoxModel",
      "state": {
       "children": [
        "IPY_MODEL_4d18b66f3acc4ea386bf4436448c23dd",
        "IPY_MODEL_328a44493a6242849a91938d8de98b00"
       ],
       "layout": "IPY_MODEL_63c4baa474164c6fa8933f9bf6a55097"
      }
     },
     "2fa27ff48062494cb294176642b95545": {
      "model_module": "@jupyter-widgets/controls",
      "model_module_version": "1.2.0",
      "model_name": "DescriptionStyleModel",
      "state": {
       "description_width": "initial"
      }
     },
     "2fa41c978ac34ed69cf2486517cbd6bd": {
      "model_module": "@jupyter-widgets/base",
      "model_module_version": "1.0.0",
      "model_name": "LayoutModel",
      "state": {}
     },
     "2fb3091e60124b06b459ad4ca44bde32": {
      "model_module": "@jupyter-widgets/controls",
      "model_module_version": "1.2.0",
      "model_name": "DropdownModel",
      "state": {
       "_options_labels": [
        "NP",
        "PP",
        "VP",
        " "
       ],
       "index": 2,
       "layout": "IPY_MODEL_e23760e8567f4412977e0463ef0126ff",
       "style": "IPY_MODEL_0c01b011bd0d41fd9d52ba391427dc41"
      }
     },
     "2ff4f732fb1941de811f9d24df2fa383": {
      "model_module": "@jupyter-widgets/base",
      "model_module_version": "1.0.0",
      "model_name": "LayoutModel",
      "state": {}
     },
     "3033cb4871574aaf878a2f65dfaafdd8": {
      "model_module": "@jupyter-widgets/base",
      "model_module_version": "1.0.0",
      "model_name": "LayoutModel",
      "state": {
       "width": "600px"
      }
     },
     "30893fd0aa194524885c4e2e18ca3f71": {
      "model_module": "@jupyter-widgets/controls",
      "model_module_version": "1.2.0",
      "model_name": "DescriptionStyleModel",
      "state": {
       "description_width": ""
      }
     },
     "312d2faecc5240f8a72cd85c4a4cc107": {
      "model_module": "@jupyter-widgets/controls",
      "model_module_version": "1.2.0",
      "model_name": "ButtonStyleModel",
      "state": {
       "button_color": "lightgreen"
      }
     },
     "31394f2dec8f474fac7e237eb543a553": {
      "model_module": "@jupyter-widgets/controls",
      "model_module_version": "1.2.0",
      "model_name": "DescriptionStyleModel",
      "state": {
       "description_width": ""
      }
     },
     "313c19be1bdc44149c376c607a2dec6a": {
      "model_module": "@jupyter-widgets/controls",
      "model_module_version": "1.2.0",
      "model_name": "BoxModel",
      "state": {
       "children": [
        "IPY_MODEL_caaffa157186429ca53d17151d0c94db",
        "IPY_MODEL_0b5c30ac94884795ad77e727ade25056",
        "IPY_MODEL_b18a25409c93461d8671a436be10bc6f",
        "IPY_MODEL_9f5034d4a1324dd19bc7ca8c26c1662e",
        "IPY_MODEL_0b3afac0205a430eb8d093818c46a563",
        "IPY_MODEL_21703cbabf174c18bea03e92558fd8af",
        "IPY_MODEL_d70f29365bc6471595da2acdd0e5b42e",
        "IPY_MODEL_003c358b6441433b875c5338062c97a1",
        "IPY_MODEL_1e2856a4c03f4ad69ac8470ed365a543",
        "IPY_MODEL_f7a272febe094b559190363b9f368c91",
        "IPY_MODEL_cc16cba242bf49b897aba1679ba593a6",
        "IPY_MODEL_4512412b47af47af9c6377e570a4b6e3",
        "IPY_MODEL_0f4da7568f554b5ea44e7b8f2652c7e5"
       ],
       "layout": "IPY_MODEL_1044bc60a3064b0ca27173ca4c4ce3c4"
      }
     },
     "313d50f5f316450da6ddc1a65a60d53b": {
      "model_module": "@jupyter-widgets/controls",
      "model_module_version": "1.2.0",
      "model_name": "DescriptionStyleModel",
      "state": {
       "description_width": ""
      }
     },
     "3158065894984928857d97d2c4685855": {
      "model_module": "@jupyter-widgets/base",
      "model_module_version": "1.0.0",
      "model_name": "LayoutModel",
      "state": {}
     },
     "319d30c1e6f945269cf3cb77d05d9725": {
      "model_module": "@jupyter-widgets/base",
      "model_module_version": "1.0.0",
      "model_name": "LayoutModel",
      "state": {
       "width": "600px"
      }
     },
     "320d3a6907ba49b6a14f9bc76139769d": {
      "model_module": "@jupyter-widgets/base",
      "model_module_version": "1.0.0",
      "model_name": "LayoutModel",
      "state": {
       "width": "600px"
      }
     },
     "3233ae6c93924560adbe8bbbdbf5a4d0": {
      "model_module": "@jupyter-widgets/base",
      "model_module_version": "1.0.0",
      "model_name": "LayoutModel",
      "state": {
       "justify_content": "center"
      }
     },
     "3240f0a1d80944fbbe7e17acaffb2a6b": {
      "model_module": "@jupyter-widgets/controls",
      "model_module_version": "1.2.0",
      "model_name": "ButtonStyleModel",
      "state": {}
     },
     "326b4ca19b004dba93c288bea64240d1": {
      "model_module": "@jupyter-widgets/controls",
      "model_module_version": "1.2.0",
      "model_name": "HTMLModel",
      "state": {
       "layout": "IPY_MODEL_d30b8d95ea44428ca7959255313971c0",
       "style": "IPY_MODEL_3326d907cbf64969a5c68f8e4e1f7ded",
       "value": "<i>Wählen Sie die <ins>eine</ins> korrekte Antwort aus: </i>"
      }
     },
     "327e409c05e448d081bd44dc07ec12fe": {
      "model_module": "@jupyter-widgets/controls",
      "model_module_version": "1.2.0",
      "model_name": "ButtonModel",
      "state": {
       "description": "base",
       "layout": "IPY_MODEL_46af242726b04d149885187098ca4819",
       "style": "IPY_MODEL_2b4a45972c1644c0965b10b0f1bbead2"
      }
     },
     "328a44493a6242849a91938d8de98b00": {
      "model_module": "@jupyter-widgets/controls",
      "model_module_version": "1.2.0",
      "model_name": "ButtonModel",
      "state": {
       "description": "base",
       "layout": "IPY_MODEL_b684c4df5b4c45bba2b6531fa525e8e3",
       "style": "IPY_MODEL_c7bb6500846845a88a6c1e93d26153aa"
      }
     },
     "329ee619c26e4b60a087a0588f2cef93": {
      "model_module": "@jupyter-widgets/controls",
      "model_module_version": "1.2.0",
      "model_name": "DescriptionStyleModel",
      "state": {
       "description_width": ""
      }
     },
     "32a9392df34c4ab78f78e01b0d66bbf1": {
      "model_module": "@jupyter-widgets/controls",
      "model_module_version": "1.2.0",
      "model_name": "DescriptionStyleModel",
      "state": {
       "description_width": ""
      }
     },
     "32bf6dc6bfe646a8ac95277665c15e8e": {
      "model_module": "@jupyter-widgets/controls",
      "model_module_version": "1.2.0",
      "model_name": "VBoxModel",
      "state": {
       "children": [
        "IPY_MODEL_a991ffa8e4e44a52ae6ebe26b4aa4f44",
        "IPY_MODEL_cfffa5bb13624eb59e1ac03c58788953",
        "IPY_MODEL_096fc263b8744b1c9b8f67e6d8cdf493",
        "IPY_MODEL_c5399cebabe74fa6b2de74043d1157ea"
       ],
       "layout": "IPY_MODEL_fdcee4101b8c434bae50a29054c323cf"
      }
     },
     "32d887ea88ff47c69fd704b1398c7074": {
      "model_module": "@jupyter-widgets/controls",
      "model_module_version": "1.2.0",
      "model_name": "VBoxModel",
      "state": {
       "children": [
        "IPY_MODEL_bcd45601e1a245789bfcdb94dcadc019",
        "IPY_MODEL_bc1d69b7783841b5b6c07e3ca92e0ab5",
        "IPY_MODEL_13a8613d54b24893a4acaa2171247260",
        "IPY_MODEL_85634c894b4f46ecb63b28f20f3b7a34"
       ],
       "layout": "IPY_MODEL_589df59cd9134407905f6060abe4b825"
      }
     },
     "331549b6d07346249178aec16478089a": {
      "model_module": "@jupyter-widgets/controls",
      "model_module_version": "1.2.0",
      "model_name": "ButtonStyleModel",
      "state": {}
     },
     "3326d907cbf64969a5c68f8e4e1f7ded": {
      "model_module": "@jupyter-widgets/controls",
      "model_module_version": "1.2.0",
      "model_name": "DescriptionStyleModel",
      "state": {
       "description_width": ""
      }
     },
     "333eb31a4af54d81ac89c21657e57dc9": {
      "model_module": "@jupyter-widgets/controls",
      "model_module_version": "1.2.0",
      "model_name": "DescriptionStyleModel",
      "state": {
       "description_width": ""
      }
     },
     "3349a4e0ed834d3c8a91ff683df5d82c": {
      "model_module": "@jupyter-widgets/controls",
      "model_module_version": "1.2.0",
      "model_name": "DescriptionStyleModel",
      "state": {
       "description_width": ""
      }
     },
     "335c8a06d7cc41f984287a3d619c97f3": {
      "model_module": "@jupyter-widgets/base",
      "model_module_version": "1.0.0",
      "model_name": "LayoutModel",
      "state": {
       "width": "150px"
      }
     },
     "33804a02b4844046b4ff2c1492e19656": {
      "model_module": "@jupyter-widgets/controls",
      "model_module_version": "1.2.0",
      "model_name": "DescriptionStyleModel",
      "state": {
       "description_width": ""
      }
     },
     "33d25bfa4a6d4a159970a05170b11dd7": {
      "model_module": "@jupyter-widgets/controls",
      "model_module_version": "1.2.0",
      "model_name": "HTMLModel",
      "state": {
       "layout": "IPY_MODEL_872a38000b6f479daed57582dbb4f902",
       "style": "IPY_MODEL_ba9168ed4dc44252adbf9a68512ab8aa",
       "value": "<h4 style=\"font-size:14px;\">.</h4>"
      }
     },
     "33dc4486cdc943ebbd4975a2e9bc93da": {
      "model_module": "@jupyter-widgets/controls",
      "model_module_version": "1.2.0",
      "model_name": "ButtonStyleModel",
      "state": {
       "button_color": "lightgreen"
      }
     },
     "33ef6439bcbe4ab0b0149015e75b278a": {
      "model_module": "@jupyter-widgets/base",
      "model_module_version": "1.0.0",
      "model_name": "LayoutModel",
      "state": {
       "justify_content": "center"
      }
     },
     "34003e9011bc4a57928a1c7e159adfa1": {
      "model_module": "@jupyter-widgets/base",
      "model_module_version": "1.0.0",
      "model_name": "LayoutModel",
      "state": {}
     },
     "3400582d6f3040378435130719010ecd": {
      "model_module": "@jupyter-widgets/controls",
      "model_module_version": "1.2.0",
      "model_name": "ButtonModel",
      "state": {
       "description": "3rd singular present",
       "layout": "IPY_MODEL_fa9f9b4ff95f4d108564443638d55c57",
       "style": "IPY_MODEL_08ca6c02143a4453ab0c185f90495000"
      }
     },
     "34ab199554894e668cd6406035e20253": {
      "model_module": "@jupyter-widgets/controls",
      "model_module_version": "1.2.0",
      "model_name": "ButtonModel",
      "state": {
       "description": "Wortfolge",
       "layout": "IPY_MODEL_f3c4e53fb8d74b4c80eb9afef54971f0",
       "style": "IPY_MODEL_d5287747c94447c29fccdbf28a91126c"
      }
     },
     "34bf3779a9d247ce96f0ceb5e12ebbd3": {
      "model_module": "@jupyter-widgets/base",
      "model_module_version": "1.0.0",
      "model_name": "LayoutModel",
      "state": {
       "align_content": "stretch",
       "align_items": "stretch",
       "display": "inline-flex",
       "flex": "flex-grow",
       "flex_flow": "row wrap",
       "justify_content": "flex-start"
      }
     },
     "34e7b2975843464d992714cc7791319f": {
      "model_module": "@jupyter-widgets/controls",
      "model_module_version": "1.2.0",
      "model_name": "DescriptionStyleModel",
      "state": {
       "description_width": "initial"
      }
     },
     "3507080015a54d729971fd7bbc04ce00": {
      "model_module": "@jupyter-widgets/controls",
      "model_module_version": "1.2.0",
      "model_name": "ButtonModel",
      "state": {
       "description": "simple past",
       "layout": "IPY_MODEL_a2b1361c8cdc4a8e8af3ae6f2dd480f6",
       "style": "IPY_MODEL_7c1eabb5218e439d8eb32db1eec68a32"
      }
     },
     "351bc6cc313d42829647bfc854a44f89": {
      "model_module": "@jupyter-widgets/base",
      "model_module_version": "1.0.0",
      "model_name": "LayoutModel",
      "state": {}
     },
     "3552a1f982264443b3c212cb7f6c394e": {
      "model_module": "@jupyter-widgets/base",
      "model_module_version": "1.0.0",
      "model_name": "LayoutModel",
      "state": {
       "width": "250px"
      }
     },
     "355f9663f2d64fa0b426d7f0b03da730": {
      "model_module": "@jupyter-widgets/controls",
      "model_module_version": "1.2.0",
      "model_name": "DescriptionStyleModel",
      "state": {
       "description_width": ""
      }
     },
     "3562dd00053e45ad96fc7d08068e9a42": {
      "model_module": "@jupyter-widgets/controls",
      "model_module_version": "1.2.0",
      "model_name": "ButtonStyleModel",
      "state": {
       "button_color": "lightgreen"
      }
     },
     "35a951f45e1840d9b9e9eb6af2bbb6d1": {
      "model_module": "@jupyter-widgets/controls",
      "model_module_version": "1.2.0",
      "model_name": "CheckboxModel",
      "state": {
       "description": "Mit einem Schritt beginnt eine Reise von tausend Meilen auch nur.",
       "disabled": false,
       "layout": "IPY_MODEL_6ae8e014687a4f26887054487ff75c7f",
       "style": "IPY_MODEL_2bc65c4b7b24457896b577fe9d737a80",
       "value": false
      }
     },
     "35b0676c854c4237be16bc1264d26880": {
      "model_module": "@jupyter-widgets/base",
      "model_module_version": "1.0.0",
      "model_name": "LayoutModel",
      "state": {}
     },
     "35cbea0412e2431e8b75d1972a21f932": {
      "model_module": "@jupyter-widgets/base",
      "model_module_version": "1.0.0",
      "model_name": "LayoutModel",
      "state": {
       "width": "150px"
      }
     },
     "35cc0a1811c44f0595149db292010b95": {
      "model_module": "@jupyter-widgets/base",
      "model_module_version": "1.0.0",
      "model_name": "LayoutModel",
      "state": {
       "width": "250px"
      }
     },
     "361a5f01ca684c168713bf26492b6807": {
      "model_module": "@jupyter-widgets/controls",
      "model_module_version": "1.2.0",
      "model_name": "CheckboxModel",
      "state": {
       "description": "Zu einem Wort werden alle Wörter gefunden, die in gleichen Kontexten vorkommen.",
       "disabled": false,
       "layout": "IPY_MODEL_15c9740f69154cf9a24566ff9819c6d3",
       "style": "IPY_MODEL_23a14c9c9b4e4c33acd897fb767036e3",
       "value": true
      }
     },
     "361ee1d12fa146498aa21f14957fd203": {
      "model_module": "@jupyter-widgets/controls",
      "model_module_version": "1.2.0",
      "model_name": "DescriptionStyleModel",
      "state": {
       "description_width": ""
      }
     },
     "36233ebb21654761bc9666fc06f6be2a": {
      "model_module": "@jupyter-widgets/base",
      "model_module_version": "1.0.0",
      "model_name": "LayoutModel",
      "state": {}
     },
     "365f80064be6488abbfcc62e359690c2": {
      "model_module": "@jupyter-widgets/base",
      "model_module_version": "1.0.0",
      "model_name": "LayoutModel",
      "state": {}
     },
     "3684dc4219564846ae1763b94528345f": {
      "model_module": "@jupyter-widgets/base",
      "model_module_version": "1.0.0",
      "model_name": "LayoutModel",
      "state": {
       "width": "250px"
      }
     },
     "36af468123ac4025ad59a5e0a88ad377": {
      "model_module": "@jupyter-widgets/base",
      "model_module_version": "1.0.0",
      "model_name": "LayoutModel",
      "state": {
       "justify_content": "center"
      }
     },
     "36b1a10e98804ed8971ff219900baf05": {
      "model_module": "@jupyter-widgets/controls",
      "model_module_version": "1.2.0",
      "model_name": "DescriptionStyleModel",
      "state": {
       "description_width": "initial"
      }
     },
     "36ba574a7b9a48788f162522a8585e10": {
      "model_module": "@jupyter-widgets/controls",
      "model_module_version": "1.2.0",
      "model_name": "HTMLModel",
      "state": {
       "layout": "IPY_MODEL_0e452fb013f2489ea659221138de3605",
       "style": "IPY_MODEL_91608f25f3004d0b91d2a23c326ae698",
       "value": "<h4 style=\"font-size:14px;\">.</h4>"
      }
     },
     "372edf4306b64928b8913cd10f0b4ba6": {
      "model_module": "@jupyter-widgets/controls",
      "model_module_version": "1.2.0",
      "model_name": "HTMLModel",
      "state": {
       "layout": "IPY_MODEL_5015b67904aa45a99a4d9cc0a1dff749",
       "style": "IPY_MODEL_b088203a31c04a95887669547fe9484a",
       "value": "<h4 style=\"font-size:14px;\">Was bedeutet das Tag <i>VBN</i> im Browntagset (siehe 5.7)?</h4>"
      }
     },
     "373d67678df944d9ad3e680d445eb3c8": {
      "model_module": "@jupyter-widgets/controls",
      "model_module_version": "1.2.0",
      "model_name": "DescriptionStyleModel",
      "state": {
       "description_width": ""
      }
     },
     "373dae6511194a30b2215bc27c18be50": {
      "model_module": "@jupyter-widgets/base",
      "model_module_version": "1.0.0",
      "model_name": "LayoutModel",
      "state": {}
     },
     "3748b92beaee4c1d8b7a67824089baf4": {
      "model_module": "@jupyter-widgets/base",
      "model_module_version": "1.0.0",
      "model_name": "LayoutModel",
      "state": {
       "width": "600px"
      }
     },
     "37654baef2b545fc82b2ed76c1b179af": {
      "model_module": "@jupyter-widgets/controls",
      "model_module_version": "1.2.0",
      "model_name": "VBoxModel",
      "state": {
       "children": [
        "IPY_MODEL_7743cdbd81f44d08a15d4394f8753a1e",
        "IPY_MODEL_64bd86f1e87e4d4494c9597df19d7636",
        "IPY_MODEL_099f39026b2a4c9d93fa41baea5edd5d",
        "IPY_MODEL_66e0ec55a02c400fa469e0ab54fb2f3c"
       ],
       "layout": "IPY_MODEL_2c1470383f1142dc9ef1a605442811a6"
      }
     },
     "3780a9e9f78648948606ae64a90e3bbd": {
      "model_module": "@jupyter-widgets/controls",
      "model_module_version": "1.2.0",
      "model_name": "CheckboxModel",
      "state": {
       "description": "Nur mit einem Schritt beginnt auch eine Reise von tausend Meilen.",
       "disabled": false,
       "layout": "IPY_MODEL_056ea9f1634942e2a9e7c3901f3cda39",
       "style": "IPY_MODEL_9d65a5dc715a46a79d656ed92d33dd5a",
       "value": false
      }
     },
     "37a0c9e1e6404f63b295428272afd3a0": {
      "model_module": "@jupyter-widgets/controls",
      "model_module_version": "1.2.0",
      "model_name": "ButtonStyleModel",
      "state": {}
     },
     "37cf2b0c48004251b74fd24925f4075d": {
      "model_module": "@jupyter-widgets/controls",
      "model_module_version": "1.2.0",
      "model_name": "HBoxModel",
      "state": {
       "children": [
        "IPY_MODEL_2f2bb97ae6964831ab45573a8eaa692c"
       ],
       "layout": "IPY_MODEL_9dd02c8cf40d48308ec0529df684731e"
      }
     },
     "37e96685dfd14c71b1fcb1a74587eefb": {
      "model_module": "@jupyter-widgets/controls",
      "model_module_version": "1.2.0",
      "model_name": "DescriptionStyleModel",
      "state": {
       "description_width": "initial"
      }
     },
     "37fcd832afe5493fab69033b045b4b56": {
      "model_module": "@jupyter-widgets/controls",
      "model_module_version": "1.2.0",
      "model_name": "ButtonStyleModel",
      "state": {
       "button_color": "lightgreen"
      }
     },
     "38213ffa90fd47219f636ac5e6d2def5": {
      "model_module": "@jupyter-widgets/base",
      "model_module_version": "1.0.0",
      "model_name": "LayoutModel",
      "state": {}
     },
     "382912b249af48ffa102158b9548b2f5": {
      "model_module": "@jupyter-widgets/controls",
      "model_module_version": "1.2.0",
      "model_name": "CheckboxModel",
      "state": {
       "description": "Flexionstyp",
       "disabled": false,
       "layout": "IPY_MODEL_95c4cc293ceb41dab45ca6694254030e",
       "style": "IPY_MODEL_138e1330939146fead8f9c676c763ac3",
       "value": false
      }
     },
     "3860afb26ba446828e8c22a48585d5f9": {
      "model_module": "@jupyter-widgets/controls",
      "model_module_version": "1.2.0",
      "model_name": "DescriptionStyleModel",
      "state": {
       "description_width": "initial"
      }
     },
     "389f42dd208946019e9cc9d7e9bee1a1": {
      "model_module": "@jupyter-widgets/controls",
      "model_module_version": "1.2.0",
      "model_name": "DescriptionStyleModel",
      "state": {
       "description_width": ""
      }
     },
     "3915d9f5da3b49bfa48eb3f9ed8bb966": {
      "model_module": "@jupyter-widgets/controls",
      "model_module_version": "1.2.0",
      "model_name": "DescriptionStyleModel",
      "state": {
       "description_width": "initial"
      }
     },
     "39411507b6b14c198417f9fd9f3a0ec2": {
      "model_module": "@jupyter-widgets/base",
      "model_module_version": "1.0.0",
      "model_name": "LayoutModel",
      "state": {
       "width": "250px"
      }
     },
     "3981eb89486742a2ac948abae1bb8b7a": {
      "model_module": "@jupyter-widgets/controls",
      "model_module_version": "1.2.0",
      "model_name": "ButtonStyleModel",
      "state": {}
     },
     "399a345439944a98b6586d602f9a07b8": {
      "model_module": "@jupyter-widgets/controls",
      "model_module_version": "1.2.0",
      "model_name": "ButtonStyleModel",
      "state": {
       "button_color": "lightgreen"
      }
     },
     "3a16e1e5fc074c27af119329a5ad8eee": {
      "model_module": "@jupyter-widgets/controls",
      "model_module_version": "1.2.0",
      "model_name": "DescriptionStyleModel",
      "state": {
       "description_width": ""
      }
     },
     "3a4faed976cb4e219d7b9e4292b2db04": {
      "model_module": "@jupyter-widgets/controls",
      "model_module_version": "1.2.0",
      "model_name": "TextareaModel",
      "state": {
       "layout": "IPY_MODEL_120567b802d04c36aa9e46a82f848be1",
       "placeholder": "Type something",
       "style": "IPY_MODEL_0923f7ff8f3347c6aa4ea40e93a5a954",
       "value": "nltk.____()"
      }
     },
     "3a679ce2f2a14d8293dd2ebb45d949a3": {
      "model_module": "@jupyter-widgets/base",
      "model_module_version": "1.0.0",
      "model_name": "LayoutModel",
      "state": {}
     },
     "3a6bd93c93e8476ca4984b6837256724": {
      "model_module": "@jupyter-widgets/base",
      "model_module_version": "1.0.0",
      "model_name": "LayoutModel",
      "state": {}
     },
     "3a8a411806e848b180248c6b0a05c1a6": {
      "model_module": "@jupyter-widgets/base",
      "model_module_version": "1.0.0",
      "model_name": "LayoutModel",
      "state": {
       "width": "250px"
      }
     },
     "3ab910efce7c4262af09c5df675324a2": {
      "model_module": "@jupyter-widgets/base",
      "model_module_version": "1.0.0",
      "model_name": "LayoutModel",
      "state": {
       "width": "600px"
      }
     },
     "3adeda1a44ef41bb8eb1feceba4c656b": {
      "model_module": "@jupyter-widgets/controls",
      "model_module_version": "1.2.0",
      "model_name": "HTMLModel",
      "state": {
       "layout": "IPY_MODEL_f2978c81987145e9a0841a0d196b04cf",
       "style": "IPY_MODEL_5bd3f4945ece4e0b8d3952c71d9e4ff6",
       "value": "<h4 style=\"font-size:14px;\">Was bedeutet das Tag <i>VBD</i> im Browntagset (siehe 5.7)?</h4>"
      }
     },
     "3b416f3b955145b7bbc81e26955b5899": {
      "model_module": "@jupyter-widgets/controls",
      "model_module_version": "1.2.0",
      "model_name": "DescriptionStyleModel",
      "state": {
       "description_width": ""
      }
     },
     "3b5f46b2a2ad4990970263e7984c3719": {
      "model_module": "@jupyter-widgets/controls",
      "model_module_version": "1.2.0",
      "model_name": "HTMLModel",
      "state": {
       "layout": "IPY_MODEL_70dcbf7e94d7483785bd7be14d83ed32",
       "style": "IPY_MODEL_3fbfd3547e2c4aff93e2fc527909e64e",
       "value": "<i>Markieren Sie <ins>alle</ins> passenden Antworten: </i>"
      }
     },
     "3b7fc71374b04ce3bda8c095b5395144": {
      "model_module": "@jupyter-widgets/base",
      "model_module_version": "1.0.0",
      "model_name": "LayoutModel",
      "state": {
       "width": "250px"
      }
     },
     "3bd87430520f4e61bd08bb625df6514c": {
      "model_module": "@jupyter-widgets/controls",
      "model_module_version": "1.2.0",
      "model_name": "HTMLModel",
      "state": {
       "layout": "IPY_MODEL_278d162dbae84f229a730789ed4aa463",
       "style": "IPY_MODEL_3349a4e0ed834d3c8a91ff683df5d82c",
       "value": "<i>Wählen Sie die <ins>eine</ins> korrekte Antwort aus: </i>"
      }
     },
     "3c0d6db386cb4236afe32d165734547a": {
      "model_module": "@jupyter-widgets/controls",
      "model_module_version": "1.2.0",
      "model_name": "HTMLModel",
      "state": {
       "layout": "IPY_MODEL_517bd610c98643c6bbfa597cc7c9f62e",
       "style": "IPY_MODEL_d304a2a1c682406a920060780393e341",
       "value": "<i>Markieren Sie <ins>alle</ins> passenden Antworten: </i>"
      }
     },
     "3c1270415af24c86a5ff22672ef6d2bd": {
      "model_module": "@jupyter-widgets/controls",
      "model_module_version": "1.2.0",
      "model_name": "HTMLModel",
      "state": {
       "layout": "IPY_MODEL_f3033a5a780f4559997793e353beae77",
       "style": "IPY_MODEL_448ef3d8f06243eabb50593e1214a9a5",
       "value": "<i>Vervollständigen Sie den Lückentext: </i>"
      }
     },
     "3c22107f22534f48a5d10e387cb6e40f": {
      "model_module": "@jupyter-widgets/controls",
      "model_module_version": "1.2.0",
      "model_name": "DescriptionStyleModel",
      "state": {
       "description_width": "initial"
      }
     },
     "3c2d5f2f7865404ba7817fcdf4e11ee6": {
      "model_module": "@jupyter-widgets/controls",
      "model_module_version": "1.2.0",
      "model_name": "ButtonModel",
      "state": {
       "description": "gerund",
       "layout": "IPY_MODEL_99608ad66ed84da8ba2132e5a1126009",
       "style": "IPY_MODEL_a9bb436647eb464a9f5dae980661f469"
      }
     },
     "3c34122c7d0e470bb59a8e70768eb566": {
      "model_module": "@jupyter-widgets/controls",
      "model_module_version": "1.2.0",
      "model_name": "DescriptionStyleModel",
      "state": {
       "description_width": ""
      }
     },
     "3c3ca368bcba4b8fa05d15c8262d4597": {
      "model_module": "@jupyter-widgets/controls",
      "model_module_version": "1.2.0",
      "model_name": "HTMLModel",
      "state": {
       "layout": "IPY_MODEL_5a6e02acb8b743888204148cf94e9b79",
       "style": "IPY_MODEL_449f3bab0ffc4b16ba6d3f09ba295ed7",
       "value": "<h4 style=\"font-size:14px;\">durch eine</h4>"
      }
     },
     "3c43455d67474f8bafa3a3be185680a1": {
      "model_module": "@jupyter-widgets/controls",
      "model_module_version": "1.2.0",
      "model_name": "HTMLModel",
      "state": {
       "layout": "IPY_MODEL_fdcd4caa057843aa9d901edb21497235",
       "style": "IPY_MODEL_2946608f5a394683b610159b9e4f9312",
       "value": "<h4 style=\"font-size:14px;\">im Englischen.</h4>"
      }
     },
     "3c4ddec7a6a5479ca17a5bf9f6e1acf9": {
      "model_module": "@jupyter-widgets/controls",
      "model_module_version": "1.2.0",
      "model_name": "ButtonModel",
      "state": {
       "description": "Korrekt?",
       "layout": "IPY_MODEL_3cbe0e21dfdd4da1ac52457ef6d67203",
       "style": "IPY_MODEL_db6dbb4bea5546aea9bc070028682be4"
      }
     },
     "3c5e25be68f24cb09d420db33158bc0c": {
      "model_module": "@jupyter-widgets/base",
      "model_module_version": "1.0.0",
      "model_name": "LayoutModel",
      "state": {
       "width": "150px"
      }
     },
     "3c6ba3415494489ab501f71b20bbb5fe": {
      "model_module": "@jupyter-widgets/controls",
      "model_module_version": "1.2.0",
      "model_name": "CheckboxModel",
      "state": {
       "description": "Permutationstest",
       "disabled": false,
       "layout": "IPY_MODEL_c4203ce17ba4428bb0c0712c4efb23b1",
       "style": "IPY_MODEL_6bfcc1683a3041179e63573f8cb4875a",
       "value": false
      }
     },
     "3c7bd443c8b64bd592eced68212540a2": {
      "model_module": "@jupyter-widgets/controls",
      "model_module_version": "1.2.0",
      "model_name": "VBoxModel",
      "state": {
       "children": [
        "IPY_MODEL_8c6a6c300f53475cbd94e58aa76f6fc2",
        "IPY_MODEL_43aa1ede335947bc9cc38ada6d696beb",
        "IPY_MODEL_95580bbce87d4b03a1c16450bff36c32",
        "IPY_MODEL_47b6883fd4224929b9dc0c2e45002ad5"
       ],
       "layout": "IPY_MODEL_ae7e2baab9944aee9f13fe85440fb2cd"
      }
     },
     "3cbe0e21dfdd4da1ac52457ef6d67203": {
      "model_module": "@jupyter-widgets/base",
      "model_module_version": "1.0.0",
      "model_name": "LayoutModel",
      "state": {
       "width": "350px"
      }
     },
     "3d181784fb024c52b2aea77096c547f8": {
      "model_module": "@jupyter-widgets/controls",
      "model_module_version": "1.2.0",
      "model_name": "ButtonStyleModel",
      "state": {}
     },
     "3d2f0dd1d3cf418190ae50aca0d80e72": {
      "model_module": "@jupyter-widgets/controls",
      "model_module_version": "1.2.0",
      "model_name": "ButtonStyleModel",
      "state": {}
     },
     "3d3cc4ab9b5049859b106c0c6c19ca13": {
      "model_module": "@jupyter-widgets/controls",
      "model_module_version": "1.2.0",
      "model_name": "HTMLModel",
      "state": {
       "layout": "IPY_MODEL_3a6bd93c93e8476ca4984b6837256724",
       "style": "IPY_MODEL_aa8ec83ca176499da3c83d195a5afc0c",
       "value": "<h4 style=\"font-size:14px;\">Wie wirt der POS-Tagger im NLTK aufgerufen?</h4>"
      }
     },
     "3d45549fa30d4f3aac0ff92e3a9d47cb": {
      "model_module": "@jupyter-widgets/controls",
      "model_module_version": "1.2.0",
      "model_name": "ButtonStyleModel",
      "state": {}
     },
     "3d5dd888875b454fab98d01de872c625": {
      "model_module": "@jupyter-widgets/base",
      "model_module_version": "1.0.0",
      "model_name": "LayoutModel",
      "state": {
       "width": "600px"
      }
     },
     "3d67b5e5b4df4c54b084425ab6fc2f7b": {
      "model_module": "@jupyter-widgets/controls",
      "model_module_version": "1.2.0",
      "model_name": "VBoxModel",
      "state": {
       "children": [
        "IPY_MODEL_35a951f45e1840d9b9e9eb6af2bbb6d1",
        "IPY_MODEL_f2beb6781f64456b8b8d931a94603d0a",
        "IPY_MODEL_8a9a4bad70694f41aa502e4783f8dbd7",
        "IPY_MODEL_a0fbc441f6a34b22a1f2484f6df8c60e"
       ],
       "layout": "IPY_MODEL_1e418b741faf41328a98373a0c16bfe0"
      }
     },
     "3dbe0cadd2af4145b0bb9122654db500": {
      "model_module": "@jupyter-widgets/base",
      "model_module_version": "1.0.0",
      "model_name": "LayoutModel",
      "state": {}
     },
     "3dfbfa362f5a4202b8b3f5267db1ed07": {
      "model_module": "@jupyter-widgets/controls",
      "model_module_version": "1.2.0",
      "model_name": "ButtonModel",
      "state": {
       "description": "base",
       "layout": "IPY_MODEL_c5d52cd2b7bb4a43951685d729ba1455",
       "style": "IPY_MODEL_3d2f0dd1d3cf418190ae50aca0d80e72"
      }
     },
     "3e1d765fa03c443f84a46730c5e7453f": {
      "model_module": "@jupyter-widgets/controls",
      "model_module_version": "1.2.0",
      "model_name": "ButtonStyleModel",
      "state": {}
     },
     "3e346183f8354929a30eac5abfd40fb1": {
      "model_module": "@jupyter-widgets/base",
      "model_module_version": "1.0.0",
      "model_name": "LayoutModel",
      "state": {
       "justify_content": "center"
      }
     },
     "3e3e256a04e94464a7ade9bc8f81a708": {
      "model_module": "@jupyter-widgets/controls",
      "model_module_version": "1.2.0",
      "model_name": "HTMLModel",
      "state": {
       "layout": "IPY_MODEL_28a37dd4689c43dfac0c82c14ed219a7",
       "style": "IPY_MODEL_7d8389e78d624545b4b8cff17780f7b9",
       "value": "<i>Wählen Sie die <ins>eine</ins> korrekte Antwort aus: </i>"
      }
     },
     "3e5898a0dc8b4e739209021e1b7311d6": {
      "model_module": "@jupyter-widgets/controls",
      "model_module_version": "1.2.0",
      "model_name": "ButtonStyleModel",
      "state": {}
     },
     "3e5b353e074b483ba98c2dc390330156": {
      "model_module": "@jupyter-widgets/controls",
      "model_module_version": "1.2.0",
      "model_name": "HBoxModel",
      "state": {
       "children": [
        "IPY_MODEL_22183340981f45e5bdb83b9c636dadd0"
       ],
       "layout": "IPY_MODEL_b2edddb21b4944d388828df262730bb5"
      }
     },
     "3e6b6f21a76446059f9230d0c8a30057": {
      "model_module": "@jupyter-widgets/base",
      "model_module_version": "1.0.0",
      "model_name": "LayoutModel",
      "state": {}
     },
     "3e7db389f84b47caa2b41fa6ecc3210e": {
      "model_module": "@jupyter-widgets/base",
      "model_module_version": "1.0.0",
      "model_name": "LayoutModel",
      "state": {}
     },
     "3eab1a5cddee4c9c8b3ee0079d53b772": {
      "model_module": "@jupyter-widgets/base",
      "model_module_version": "1.0.0",
      "model_name": "LayoutModel",
      "state": {
       "width": "250px"
      }
     },
     "3ee57391e056415ab99463672377804e": {
      "model_module": "@jupyter-widgets/controls",
      "model_module_version": "1.2.0",
      "model_name": "ButtonModel",
      "state": {
       "description": "Korrekt?",
       "layout": "IPY_MODEL_9d0d691412784a33a151c8c0ad1505fd",
       "style": "IPY_MODEL_db92211cf14e4d0eb3b42d3b80002323"
      }
     },
     "3ef7cb2c35f646f1a14a4676167c143d": {
      "model_module": "@jupyter-widgets/base",
      "model_module_version": "1.0.0",
      "model_name": "LayoutModel",
      "state": {
       "width": "600px"
      }
     },
     "3f296c2c5bfc478cb6f222fc09dccdc7": {
      "model_module": "@jupyter-widgets/controls",
      "model_module_version": "1.2.0",
      "model_name": "HTMLModel",
      "state": {
       "layout": "IPY_MODEL_0cde6a6b884241dfb940d651b25e6407",
       "style": "IPY_MODEL_389f42dd208946019e9cc9d7e9bee1a1",
       "value": "<h4 style=\"font-size:14px;\">. Aus dieser wurde es extrahiert und ins</h4>"
      }
     },
     "3f393dd4229d444bacad0eef0b2e0e6a": {
      "model_module": "@jupyter-widgets/base",
      "model_module_version": "1.0.0",
      "model_name": "LayoutModel",
      "state": {}
     },
     "3f53081f51084d0294ef74501c06807e": {
      "model_module": "@jupyter-widgets/base",
      "model_module_version": "1.0.0",
      "model_name": "LayoutModel",
      "state": {}
     },
     "3fbfd3547e2c4aff93e2fc527909e64e": {
      "model_module": "@jupyter-widgets/controls",
      "model_module_version": "1.2.0",
      "model_name": "DescriptionStyleModel",
      "state": {
       "description_width": ""
      }
     },
     "3fdf5a1f5fac49f5a35daac6d45e625a": {
      "model_module": "@jupyter-widgets/controls",
      "model_module_version": "1.2.0",
      "model_name": "ButtonModel",
      "state": {
       "description": "Korrekt?",
       "layout": "IPY_MODEL_0dfb2c21876f4bafa8943678dbd408cd",
       "style": "IPY_MODEL_a606d227ee21487ab47a96add3d04d5f"
      }
     },
     "3ffbfbe5e54e4c5b9253dc658be1922d": {
      "model_module": "@jupyter-widgets/controls",
      "model_module_version": "1.2.0",
      "model_name": "ButtonModel",
      "state": {
       "description": "gerund",
       "layout": "IPY_MODEL_09dad9d9461144b7b95696b30dd7979c",
       "style": "IPY_MODEL_682c2ddc95434fbc80e1ab97fbebe216"
      }
     },
     "406e8c600ac24d2092e9c41e3ffb8533": {
      "model_module": "@jupyter-widgets/base",
      "model_module_version": "1.0.0",
      "model_name": "LayoutModel",
      "state": {
       "width": "600px"
      }
     },
     "408165fd234f4ebabdda7633c1020d29": {
      "model_module": "@jupyter-widgets/base",
      "model_module_version": "1.0.0",
      "model_name": "LayoutModel",
      "state": {}
     },
     "408a1bf228754387a3a5d64d6b6a5b53": {
      "model_module": "@jupyter-widgets/controls",
      "model_module_version": "1.2.0",
      "model_name": "DescriptionStyleModel",
      "state": {
       "description_width": ""
      }
     },
     "40addfbe80ad4f619d193ba65efbd0a9": {
      "model_module": "@jupyter-widgets/base",
      "model_module_version": "1.0.0",
      "model_name": "LayoutModel",
      "state": {
       "justify_content": "center"
      }
     },
     "40df080766244e4dbcd9e752969ed7dd": {
      "model_module": "@jupyter-widgets/controls",
      "model_module_version": "1.2.0",
      "model_name": "VBoxModel",
      "state": {
       "children": [
        "IPY_MODEL_1c207a7eeb3148ce90d2f79285b8c95e",
        "IPY_MODEL_08bcd47bfe174064adaa1e4107174440",
        "IPY_MODEL_d507645ada814132a5ab22e7e6816990"
       ],
       "layout": "IPY_MODEL_647aaaca181646b5b40375c0249c892a"
      }
     },
     "40f14d3a1aa54d52b5f680ca11f7ba0e": {
      "model_module": "@jupyter-widgets/controls",
      "model_module_version": "1.2.0",
      "model_name": "HTMLModel",
      "state": {
       "layout": "IPY_MODEL_ca70948b8b1845edab942eedba323997",
       "style": "IPY_MODEL_5d861b3180b54e10af4c2b6d242b8298",
       "value": "<h4 style=\"font-size:14px;\">Was bedeutet das Tag <i>VBG</i> im Browntagset (siehe 5.7)?</h4>"
      }
     },
     "4108c333d2384fe08d5e7a34c2f25929": {
      "model_module": "@jupyter-widgets/controls",
      "model_module_version": "1.2.0",
      "model_name": "DescriptionStyleModel",
      "state": {
       "description_width": ""
      }
     },
     "414e5ba634f34f29b818f582e55d081f": {
      "model_module": "@jupyter-widgets/controls",
      "model_module_version": "1.2.0",
      "model_name": "HBoxModel",
      "state": {
       "children": [
        "IPY_MODEL_b3208295a445414ba508ae43358e7f1a",
        "IPY_MODEL_c798783044294d328898876f2ede27d2"
       ],
       "layout": "IPY_MODEL_271bd9e21cd24d7b9654f9916d14d1fa"
      }
     },
     "416589d7bf9643d0aee2f5935c91d8b9": {
      "model_module": "@jupyter-widgets/controls",
      "model_module_version": "1.2.0",
      "model_name": "DescriptionStyleModel",
      "state": {
       "description_width": ""
      }
     },
     "418e482010154aef832997d78291982c": {
      "model_module": "@jupyter-widgets/controls",
      "model_module_version": "1.2.0",
      "model_name": "HBoxModel",
      "state": {
       "children": [
        "IPY_MODEL_a7bb67ef76c743cfa3decf3f9b52db6d",
        "IPY_MODEL_d3d98c6bc09146109a1987a566b3653c"
       ],
       "layout": "IPY_MODEL_1aec29d86085410ba96e70f1d1accf0d"
      }
     },
     "41ac55ad398f41f3813834478f625784": {
      "model_module": "@jupyter-widgets/controls",
      "model_module_version": "1.2.0",
      "model_name": "BoxModel",
      "state": {
       "children": [
        "IPY_MODEL_d1912f7047b4462093463c0ccd8adfde",
        "IPY_MODEL_9daa762f50534d748643d3fbc9ec2ba6",
        "IPY_MODEL_56942630916848aeaa14b6874f98cd46",
        "IPY_MODEL_b69e33aaaa044e079ae1a8799f7d8327",
        "IPY_MODEL_88526e554f1640f6b5fb6aaba2fc7e0c"
       ],
       "layout": "IPY_MODEL_9bdaa5c67dc64ed28676c2f79a73cc24"
      }
     },
     "41b45a8063fb463c9370b55f44506fa0": {
      "model_module": "@jupyter-widgets/base",
      "model_module_version": "1.0.0",
      "model_name": "LayoutModel",
      "state": {
       "justify_content": "center"
      }
     },
     "41f166e2b4d047818f0c3c4de03182b0": {
      "model_module": "@jupyter-widgets/controls",
      "model_module_version": "1.2.0",
      "model_name": "ButtonStyleModel",
      "state": {}
     },
     "42192f6149514e4999ffd79f6918e32d": {
      "model_module": "@jupyter-widgets/controls",
      "model_module_version": "1.2.0",
      "model_name": "ButtonModel",
      "state": {
       "description": "base",
       "layout": "IPY_MODEL_052492c1b8a94c3ba8c86d00ec5e6d34",
       "style": "IPY_MODEL_1fb71b525ea74fad89e20c2b0b56e358"
      }
     },
     "42831ab997cf472b99f6e843e4f17095": {
      "model_module": "@jupyter-widgets/base",
      "model_module_version": "1.0.0",
      "model_name": "LayoutModel",
      "state": {
       "width": "250px"
      }
     },
     "428ec25e588740388711f1b6222dff6a": {
      "model_module": "@jupyter-widgets/controls",
      "model_module_version": "1.2.0",
      "model_name": "DescriptionStyleModel",
      "state": {
       "description_width": ""
      }
     },
     "4299741124d1494b8eebc46175efa391": {
      "model_module": "@jupyter-widgets/base",
      "model_module_version": "1.0.0",
      "model_name": "LayoutModel",
      "state": {
       "justify_content": "center"
      }
     },
     "42b2c86d3dce4f7e8bc9307a0e624239": {
      "model_module": "@jupyter-widgets/base",
      "model_module_version": "1.0.0",
      "model_name": "LayoutModel",
      "state": {
       "width": "150px"
      }
     },
     "42b6960abb434872a065c3d925e5a9c2": {
      "model_module": "@jupyter-widgets/base",
      "model_module_version": "1.0.0",
      "model_name": "LayoutModel",
      "state": {
       "justify_content": "center"
      }
     },
     "42ce06315cb74e3bb4acc12c8d6ab66c": {
      "model_module": "@jupyter-widgets/base",
      "model_module_version": "1.0.0",
      "model_name": "LayoutModel",
      "state": {
       "justify_content": "center"
      }
     },
     "42ef7da3d1db411a88cea13d4adf8742": {
      "model_module": "@jupyter-widgets/controls",
      "model_module_version": "1.2.0",
      "model_name": "DropdownModel",
      "state": {
       "_options_labels": [
        "Köpfe",
        "Länge",
        "Phrasenstruktur",
        " "
       ],
       "index": 2,
       "layout": "IPY_MODEL_da1440e83e4141eb90d4666a97b228dc",
       "style": "IPY_MODEL_e9ffaae571724f5c9d91b445f4bfd780"
      }
     },
     "430805e5c1a44d57aa40644f25a5f695": {
      "model_module": "@jupyter-widgets/controls",
      "model_module_version": "1.2.0",
      "model_name": "ButtonStyleModel",
      "state": {}
     },
     "431baf007ef14cf28b1214fe2dde05d4": {
      "model_module": "@jupyter-widgets/controls",
      "model_module_version": "1.2.0",
      "model_name": "DescriptionStyleModel",
      "state": {
       "description_width": "initial"
      }
     },
     "43593db1cae24cecad988312985860ea": {
      "model_module": "@jupyter-widgets/controls",
      "model_module_version": "1.2.0",
      "model_name": "VBoxModel",
      "state": {
       "children": [
        "IPY_MODEL_67483e343a824a4b884c07598ed0a36d",
        "IPY_MODEL_2441ce2150fb47f48bbc06c1722f3c9f",
        "IPY_MODEL_c872f71d60c4481db621c0e6060e46f8",
        "IPY_MODEL_5e2fa547aed84a909675cd4d89e0f5d5"
       ],
       "layout": "IPY_MODEL_ffd2158be2544316ba54c520252c83ff"
      }
     },
     "43aa1ede335947bc9cc38ada6d696beb": {
      "model_module": "@jupyter-widgets/controls",
      "model_module_version": "1.2.0",
      "model_name": "HTMLModel",
      "state": {
       "layout": "IPY_MODEL_f17ce0bc1f8c479c8d2a2c38347bce47",
       "style": "IPY_MODEL_4b6c248db6ee49858a0ca7107e163a02",
       "value": "<i>Markieren Sie <ins>alle</ins> passenden Antworten: </i>"
      }
     },
     "43abfd9327424fb18bb72879eae3d72f": {
      "model_module": "@jupyter-widgets/controls",
      "model_module_version": "1.2.0",
      "model_name": "DropdownModel",
      "state": {
       "_options_labels": [
        "Konstituenten",
        "Phrasen",
        " "
       ],
       "index": 0,
       "layout": "IPY_MODEL_27d1dc5a83fd45429324990979f914f1",
       "style": "IPY_MODEL_d6d98ca597844db8a6fef027b35eddd7"
      }
     },
     "43c8c5f40dff464a9297ecc7474a8e53": {
      "model_module": "@jupyter-widgets/controls",
      "model_module_version": "1.2.0",
      "model_name": "ButtonModel",
      "state": {
       "description": "3rd singular present",
       "layout": "IPY_MODEL_9d475df610e24abab1cb79a64c2dfad2",
       "style": "IPY_MODEL_9d21bd5238c24dbc98867fa6689ebe73"
      }
     },
     "43dab183c94c43ecab40715038adae4c": {
      "model_module": "@jupyter-widgets/base",
      "model_module_version": "1.0.0",
      "model_name": "LayoutModel",
      "state": {
       "width": "250px"
      }
     },
     "440165c6f1bf4a19afc6d43ec6f0f8b2": {
      "model_module": "@jupyter-widgets/base",
      "model_module_version": "1.0.0",
      "model_name": "LayoutModel",
      "state": {}
     },
     "440596c4ac6843a98011edd65f62e2fe": {
      "model_module": "@jupyter-widgets/controls",
      "model_module_version": "1.2.0",
      "model_name": "CheckboxModel",
      "state": {
       "description": "Mit einem Schritt beginnt eine Reise von tausend Meilen auch nur.",
       "disabled": false,
       "layout": "IPY_MODEL_855ee8c5c933415eae8beff736888c29",
       "style": "IPY_MODEL_3c22107f22534f48a5d10e387cb6e40f",
       "value": false
      }
     },
     "440a68aa19b1448ea6ad582dc93bb0c7": {
      "model_module": "@jupyter-widgets/base",
      "model_module_version": "1.0.0",
      "model_name": "LayoutModel",
      "state": {}
     },
     "44109d0db38a4fd5b6d120a5f3f96878": {
      "model_module": "@jupyter-widgets/controls",
      "model_module_version": "1.2.0",
      "model_name": "HTMLModel",
      "state": {
       "layout": "IPY_MODEL_71d232b1d16b4628b2b915d8c313d86f",
       "style": "IPY_MODEL_361ee1d12fa146498aa21f14957fd203",
       "value": "<h4 style=\"font-size:14px;\">Was ist der Input eines Part-of-Speech-Taggers?</h4>"
      }
     },
     "4468f027b89d473395915e9c947c98e3": {
      "model_module": "@jupyter-widgets/controls",
      "model_module_version": "1.2.0",
      "model_name": "DescriptionStyleModel",
      "state": {
       "description_width": ""
      }
     },
     "448b31533c7841a08beb43e63c6a1cf9": {
      "model_module": "@jupyter-widgets/base",
      "model_module_version": "1.0.0",
      "model_name": "LayoutModel",
      "state": {}
     },
     "448ef3d8f06243eabb50593e1214a9a5": {
      "model_module": "@jupyter-widgets/controls",
      "model_module_version": "1.2.0",
      "model_name": "DescriptionStyleModel",
      "state": {
       "description_width": ""
      }
     },
     "449f3bab0ffc4b16ba6d3f09ba295ed7": {
      "model_module": "@jupyter-widgets/controls",
      "model_module_version": "1.2.0",
      "model_name": "DescriptionStyleModel",
      "state": {
       "description_width": ""
      }
     },
     "44a8d6a9b996498ab916170ff97d1e66": {
      "model_module": "@jupyter-widgets/controls",
      "model_module_version": "1.2.0",
      "model_name": "CheckboxModel",
      "state": {
       "description": "Koordinationstest",
       "disabled": false,
       "layout": "IPY_MODEL_bb857e0d9c1242f2adba43d8cb32cd71",
       "style": "IPY_MODEL_d3af097f749245ef952b2e490b0ea1cc",
       "value": false
      }
     },
     "4505a4655ae0496291833c879a1487d4": {
      "model_module": "@jupyter-widgets/controls",
      "model_module_version": "1.2.0",
      "model_name": "ButtonModel",
      "state": {
       "description": "Korrekt?",
       "layout": "IPY_MODEL_ab7caa5cbca64586908ee637b268fb93",
       "style": "IPY_MODEL_57d421b2318947f7819ddb2cdbefaf24"
      }
     },
     "450a07e094fb4e7ea58bce0f765a1e0f": {
      "model_module": "@jupyter-widgets/base",
      "model_module_version": "1.0.0",
      "model_name": "LayoutModel",
      "state": {}
     },
     "4512412b47af47af9c6377e570a4b6e3": {
      "model_module": "@jupyter-widgets/controls",
      "model_module_version": "1.2.0",
      "model_name": "DropdownModel",
      "state": {
       "_options_labels": [
        "Konstituenten",
        "Phrasen",
        " "
       ],
       "index": 2,
       "layout": "IPY_MODEL_f2307be0fe704421beaf86f154d5c25d",
       "style": "IPY_MODEL_3a16e1e5fc074c27af119329a5ad8eee"
      }
     },
     "4515f29be5654fa6ae71e7f3be609a73": {
      "model_module": "@jupyter-widgets/base",
      "model_module_version": "1.0.0",
      "model_name": "LayoutModel",
      "state": {
       "width": "250px"
      }
     },
     "4565378f525f4dc192240e4a71b85655": {
      "model_module": "@jupyter-widgets/controls",
      "model_module_version": "1.2.0",
      "model_name": "HTMLModel",
      "state": {
       "layout": "IPY_MODEL_6fce487dd4c743bc8a03ed0162218845",
       "style": "IPY_MODEL_d6370f6837a74a98b6aa2b72a67751de",
       "value": "<h4 style=\"font-size:14px;\">Sequenz unter Erhalt der</h4>"
      }
     },
     "459c2bc5c4ed469d8347e14a9d18eee2": {
      "model_module": "@jupyter-widgets/base",
      "model_module_version": "1.0.0",
      "model_name": "LayoutModel",
      "state": {}
     },
     "45a5e3b45b264726a431e7b2153d7841": {
      "model_module": "@jupyter-widgets/controls",
      "model_module_version": "1.2.0",
      "model_name": "DescriptionStyleModel",
      "state": {
       "description_width": ""
      }
     },
     "45ace5b6b45e48cda63bf2b411955189": {
      "model_module": "@jupyter-widgets/controls",
      "model_module_version": "1.2.0",
      "model_name": "DescriptionStyleModel",
      "state": {
       "description_width": ""
      }
     },
     "45e8f7dd26a3402b8e4adbd9ee6295fc": {
      "model_module": "@jupyter-widgets/controls",
      "model_module_version": "1.2.0",
      "model_name": "ButtonModel",
      "state": {
       "description": "Korrekt?",
       "layout": "IPY_MODEL_6775a5da67b24e478d537f13852c5852",
       "style": "IPY_MODEL_71d35e551c444f78a674fff5f2ef322e"
      }
     },
     "45f130e4a3454d75aee5b36805412cde": {
      "model_module": "@jupyter-widgets/controls",
      "model_module_version": "1.2.0",
      "model_name": "VBoxModel",
      "state": {
       "children": [
        "IPY_MODEL_fda87979a23948f39fc26a1ffa798414",
        "IPY_MODEL_194821fbd3124ea0ab055dafd48e9b95",
        "IPY_MODEL_de281eecbe114fc79b248198aeb84865",
        "IPY_MODEL_a457a36f56864d9ca670e171e507e172"
       ],
       "layout": "IPY_MODEL_450a07e094fb4e7ea58bce0f765a1e0f"
      }
     },
     "465cbc40c8a840a29fadf48862fbaf3c": {
      "model_module": "@jupyter-widgets/base",
      "model_module_version": "1.0.0",
      "model_name": "LayoutModel",
      "state": {}
     },
     "467444cdf9f0484c93389d69833e915f": {
      "model_module": "@jupyter-widgets/base",
      "model_module_version": "1.0.0",
      "model_name": "LayoutModel",
      "state": {}
     },
     "46787a55e45a45f38d16cef90d6e1601": {
      "model_module": "@jupyter-widgets/controls",
      "model_module_version": "1.2.0",
      "model_name": "DescriptionStyleModel",
      "state": {
       "description_width": ""
      }
     },
     "4683fee16afe46ea884c85191ec39bb9": {
      "model_module": "@jupyter-widgets/controls",
      "model_module_version": "1.2.0",
      "model_name": "DescriptionStyleModel",
      "state": {
       "description_width": ""
      }
     },
     "46af242726b04d149885187098ca4819": {
      "model_module": "@jupyter-widgets/base",
      "model_module_version": "1.0.0",
      "model_name": "LayoutModel",
      "state": {
       "width": "250px"
      }
     },
     "46d99c8ab2b046ed9fa90d9d3554bd28": {
      "model_module": "@jupyter-widgets/controls",
      "model_module_version": "1.2.0",
      "model_name": "DescriptionStyleModel",
      "state": {
       "description_width": ""
      }
     },
     "470143b632884e38baef5bfe6720095c": {
      "model_module": "@jupyter-widgets/base",
      "model_module_version": "1.0.0",
      "model_name": "LayoutModel",
      "state": {
       "width": "250px"
      }
     },
     "47338cc8dbad4b56b2e5425b88eea8ac": {
      "model_module": "@jupyter-widgets/controls",
      "model_module_version": "1.2.0",
      "model_name": "HTMLModel",
      "state": {
       "layout": "IPY_MODEL_2165a55cccef4b48ac71465702c3f393",
       "style": "IPY_MODEL_b6efe2b67c4240069e67dbd07469d3df",
       "value": "<h4 style=\"font-size:14px;\">Was leistet die Funktion <code>nltk.similar()</code>?</h4>"
      }
     },
     "474355e40e384192ab3f362997a96426": {
      "model_module": "@jupyter-widgets/controls",
      "model_module_version": "1.2.0",
      "model_name": "HBoxModel",
      "state": {
       "children": [
        "IPY_MODEL_1a5582a643c84ba9806127da0642e58c",
        "IPY_MODEL_5a8ff579b0094ba192ee89618aa4ad52"
       ],
       "layout": "IPY_MODEL_81af7728b5d64833b16080914f22fc3d"
      }
     },
     "47b6883fd4224929b9dc0c2e45002ad5": {
      "model_module": "@jupyter-widgets/controls",
      "model_module_version": "1.2.0",
      "model_name": "ButtonModel",
      "state": {
       "description": "Korrekt?",
       "layout": "IPY_MODEL_af0d8f2c59e242d4aee560055e27dbd5",
       "style": "IPY_MODEL_fa28752d3c314659a103a6e55db88981"
      }
     },
     "48279469d78a4130b393c2d4fd602494": {
      "model_module": "@jupyter-widgets/controls",
      "model_module_version": "1.2.0",
      "model_name": "ButtonStyleModel",
      "state": {}
     },
     "483d53a10d664f9cb79e1ed8502143e8": {
      "model_module": "@jupyter-widgets/controls",
      "model_module_version": "1.2.0",
      "model_name": "ButtonModel",
      "state": {
       "description": "Korrekt?",
       "layout": "IPY_MODEL_4fac14f9ca1544bb983b3d09d1229f8b",
       "style": "IPY_MODEL_ee858f3403c34be4bfa958b935c318c7"
      }
     },
     "4844c403537040a197d44517e577fa1a": {
      "model_module": "@jupyter-widgets/controls",
      "model_module_version": "1.2.0",
      "model_name": "HTMLModel",
      "state": {
       "layout": "IPY_MODEL_a90ea2c2312141d48b49bb302701f5ed",
       "style": "IPY_MODEL_f963212db4a9404f83978be987681113",
       "value": "<i>Vervollständigen Sie den Lückentext: </i>"
      }
     },
     "4847af4dd1374f229c575182dcb9f236": {
      "model_module": "@jupyter-widgets/base",
      "model_module_version": "1.0.0",
      "model_name": "LayoutModel",
      "state": {
       "width": "600px"
      }
     },
     "485178f5adf6433ea18d2285dbf564a1": {
      "model_module": "@jupyter-widgets/controls",
      "model_module_version": "1.2.0",
      "model_name": "DescriptionStyleModel",
      "state": {
       "description_width": ""
      }
     },
     "486366e527ee411389f288a5b5dd7617": {
      "model_module": "@jupyter-widgets/controls",
      "model_module_version": "1.2.0",
      "model_name": "CheckboxModel",
      "state": {
       "description": "Eliminierungstest",
       "disabled": false,
       "layout": "IPY_MODEL_0cc5c36542ba4b77b3cd9bf13120b720",
       "style": "IPY_MODEL_a1d5ea56b17c42708fd486cc8e7ca583",
       "value": false
      }
     },
     "48b67b67432e4e3c89334baad4b65362": {
      "model_module": "@jupyter-widgets/controls",
      "model_module_version": "1.2.0",
      "model_name": "ButtonModel",
      "state": {
       "description": "Adjektiv",
       "layout": "IPY_MODEL_5d8a0978d1e748698a11e0f1f0aab1b5",
       "style": "IPY_MODEL_3981eb89486742a2ac948abae1bb8b7a"
      }
     },
     "48d961586af743329fda2ff4a0f45ba8": {
      "model_module": "@jupyter-widgets/controls",
      "model_module_version": "1.2.0",
      "model_name": "CheckboxModel",
      "state": {
       "description": "Zu einem Wort werden seine Kookkurrenzpartner gefunden.",
       "disabled": false,
       "layout": "IPY_MODEL_0141cda9c0d746ac92c913de76767922",
       "style": "IPY_MODEL_2a72ebfd09b34eeca327737a5da0929d",
       "value": false
      }
     },
     "48e3cd86a0e442ecb1d9b6d62fa3c254": {
      "model_module": "@jupyter-widgets/controls",
      "model_module_version": "1.2.0",
      "model_name": "ButtonStyleModel",
      "state": {}
     },
     "48f03e2e8c4e47ceb9364656a9546a5c": {
      "model_module": "@jupyter-widgets/controls",
      "model_module_version": "1.2.0",
      "model_name": "HTMLModel",
      "state": {
       "layout": "IPY_MODEL_acb5f1c2e53c4b0babcdafa213b18499",
       "style": "IPY_MODEL_373d67678df944d9ad3e680d445eb3c8",
       "value": "<i>Markieren Sie <ins>alle</ins> passenden Antworten: </i>"
      }
     },
     "48f3232588184eb6a806bc1123d048a8": {
      "model_module": "@jupyter-widgets/controls",
      "model_module_version": "1.2.0",
      "model_name": "ButtonModel",
      "state": {
       "description": "3rd singular present",
       "layout": "IPY_MODEL_0a03fb8f81994d1ba84d61e06e89e4d3",
       "style": "IPY_MODEL_a580f912d78b40f08b231307311d3cde"
      }
     },
     "4901d2a98be54e86ab8670f7663abc3c": {
      "model_module": "@jupyter-widgets/base",
      "model_module_version": "1.0.0",
      "model_name": "LayoutModel",
      "state": {
       "width": "250px"
      }
     },
     "49075a71e468445bb7b53a6f5c4cf785": {
      "model_module": "@jupyter-widgets/controls",
      "model_module_version": "1.2.0",
      "model_name": "HTMLModel",
      "state": {
       "layout": "IPY_MODEL_9f3a00258d0e4b23a321e46d2ae368db",
       "style": "IPY_MODEL_485178f5adf6433ea18d2285dbf564a1",
       "value": "<i>Wählen Sie die <ins>eine</ins> korrekte Antwort aus: </i>"
      }
     },
     "4922617b67a04ed68ecc106ee1da7255": {
      "model_module": "@jupyter-widgets/controls",
      "model_module_version": "1.2.0",
      "model_name": "ButtonModel",
      "state": {
       "description": "Korrekt?",
       "layout": "IPY_MODEL_547efb594b9c49dfa6d90430a85f7bdc",
       "style": "IPY_MODEL_8aeab4f1e69846b896500c35164220fe"
      }
     },
     "493d1a0426734617b08a3d76587e84ea": {
      "model_module": "@jupyter-widgets/controls",
      "model_module_version": "1.2.0",
      "model_name": "VBoxModel",
      "state": {
       "children": [
        "IPY_MODEL_63ac4926f9a9484ebab490fe98121aa5",
        "IPY_MODEL_4bf16662a54f43e992cfd485b8c288ca",
        "IPY_MODEL_5532e61d10e74d0ebbe6ee411babb01a"
       ],
       "layout": "IPY_MODEL_5aad25e869864d8189fd507f3b37f171"
      }
     },
     "494076d8df28402b9dc07b4efe20f3d4": {
      "model_module": "@jupyter-widgets/controls",
      "model_module_version": "1.2.0",
      "model_name": "ButtonStyleModel",
      "state": {
       "button_color": "lightgreen"
      }
     },
     "494168e784804fdcab2987c537d6bd9a": {
      "model_module": "@jupyter-widgets/controls",
      "model_module_version": "1.2.0",
      "model_name": "HTMLModel",
      "state": {
       "layout": "IPY_MODEL_eed353c6e5c24387a364a12a4b687643",
       "style": "IPY_MODEL_4683fee16afe46ea884c85191ec39bb9",
       "value": "<h4 style=\"font-size:14px;\">, aber keine</h4>"
      }
     },
     "494f3426663a4bea99ca36aa5994ad6b": {
      "model_module": "@jupyter-widgets/controls",
      "model_module_version": "1.2.0",
      "model_name": "DescriptionStyleModel",
      "state": {
       "description_width": ""
      }
     },
     "497b3ef65fb84a858283a66f132c7843": {
      "model_module": "@jupyter-widgets/base",
      "model_module_version": "1.0.0",
      "model_name": "LayoutModel",
      "state": {}
     },
     "4999243c7a5f4c37848176964fee22c3": {
      "model_module": "@jupyter-widgets/base",
      "model_module_version": "1.0.0",
      "model_name": "LayoutModel",
      "state": {}
     },
     "4a0567502ce1486fbaedc50ac3a963dc": {
      "model_module": "@jupyter-widgets/base",
      "model_module_version": "1.0.0",
      "model_name": "LayoutModel",
      "state": {}
     },
     "4a30b455ae274b75b80efeb2e6950802": {
      "model_module": "@jupyter-widgets/controls",
      "model_module_version": "1.2.0",
      "model_name": "ButtonModel",
      "state": {
       "description": "simple past",
       "layout": "IPY_MODEL_1b2fe743d9084475b46fe137bb52648e",
       "style": "IPY_MODEL_3e5898a0dc8b4e739209021e1b7311d6"
      }
     },
     "4a78bd96d7d94bbcbed8e19bc3c1b3e2": {
      "model_module": "@jupyter-widgets/base",
      "model_module_version": "1.0.0",
      "model_name": "LayoutModel",
      "state": {}
     },
     "4a8320ead6524a2fa7e140c3fb5b4979": {
      "model_module": "@jupyter-widgets/base",
      "model_module_version": "1.0.0",
      "model_name": "LayoutModel",
      "state": {}
     },
     "4ab91b7ac995479f8b32e43e08aafbae": {
      "model_module": "@jupyter-widgets/controls",
      "model_module_version": "1.2.0",
      "model_name": "DropdownModel",
      "state": {
       "_options_labels": [
        "Köpfe",
        "Länge",
        "Phrasenstruktur",
        " "
       ],
       "index": 3,
       "layout": "IPY_MODEL_99431b959bbc48348253fec69b95994f",
       "style": "IPY_MODEL_cebfbbcf959a41bb9aa8c4e02b8563ab"
      }
     },
     "4abbc9870bed48bd86693976644862f7": {
      "model_module": "@jupyter-widgets/controls",
      "model_module_version": "1.2.0",
      "model_name": "ButtonStyleModel",
      "state": {}
     },
     "4b6c248db6ee49858a0ca7107e163a02": {
      "model_module": "@jupyter-widgets/controls",
      "model_module_version": "1.2.0",
      "model_name": "DescriptionStyleModel",
      "state": {
       "description_width": ""
      }
     },
     "4b9c7507ce9744b689ba8cdd8f6ca471": {
      "model_module": "@jupyter-widgets/controls",
      "model_module_version": "1.2.0",
      "model_name": "HTMLModel",
      "state": {
       "layout": "IPY_MODEL_7f45428e8a844aaebf9b3a48d36cd17e",
       "style": "IPY_MODEL_45ace5b6b45e48cda63bf2b411955189",
       "value": "<h4 style=\"font-size:14px;\">Ersetzbarkeit einer</h4>"
      }
     },
     "4ba31a175d0c4046ae113f5bad7fde82": {
      "model_module": "@jupyter-widgets/controls",
      "model_module_version": "1.2.0",
      "model_name": "DescriptionStyleModel",
      "state": {
       "description_width": "initial"
      }
     },
     "4bbe6c2b0aa5409c94dd86f2bd75293c": {
      "model_module": "@jupyter-widgets/controls",
      "model_module_version": "1.2.0",
      "model_name": "HTMLModel",
      "state": {
       "layout": "IPY_MODEL_600120bf72534a1482228a899297e58d",
       "style": "IPY_MODEL_329ee619c26e4b60a087a0588f2cef93",
       "value": "<h4 style=\"font-size:14px;\">, aber keine</h4>"
      }
     },
     "4be86fd8e7ce46658fb3d70ad11c9e1f": {
      "model_module": "@jupyter-widgets/controls",
      "model_module_version": "1.2.0",
      "model_name": "HTMLModel",
      "state": {
       "layout": "IPY_MODEL_567c898da9af440793412e382b50facb",
       "style": "IPY_MODEL_f1b5821c610c4797b210eb69a0e37b32",
       "value": "<i>Wählen Sie die <ins>eine</ins> korrekte Antwort aus: </i>"
      }
     },
     "4befb5d818ec4a2daa493b1b050a793f": {
      "model_module": "@jupyter-widgets/controls",
      "model_module_version": "1.2.0",
      "model_name": "VBoxModel",
      "state": {
       "children": [
        "IPY_MODEL_a1cf010a48a14faeaaeb1bf5ea12b50c",
        "IPY_MODEL_cafd43b78fb94ae8b6b6ffbddb4862cd",
        "IPY_MODEL_0c1da614a7324497b20626c26832bce2",
        "IPY_MODEL_7ed22a851cda40a1a79dfdb92a54647d"
       ],
       "layout": "IPY_MODEL_fdc7bf7ae2d9482684a6f6e2a345f9eb"
      }
     },
     "4bf16662a54f43e992cfd485b8c288ca": {
      "model_module": "@jupyter-widgets/controls",
      "model_module_version": "1.2.0",
      "model_name": "CheckboxModel",
      "state": {
       "description": "Es fungiert als Satzglied mit der syntaktischen Funktion Adverbial.",
       "disabled": false,
       "layout": "IPY_MODEL_948a35b13c874e719dc9788af82b330d",
       "style": "IPY_MODEL_c36133527c8e405ebd1cffc817982aa2",
       "value": false
      }
     },
     "4bf68e7eef70417ebe51b1178a19c9dd": {
      "model_module": "@jupyter-widgets/controls",
      "model_module_version": "1.2.0",
      "model_name": "DescriptionStyleModel",
      "state": {
       "description_width": ""
      }
     },
     "4c115528ffb447c1977459807bbb13de": {
      "model_module": "@jupyter-widgets/controls",
      "model_module_version": "1.2.0",
      "model_name": "HTMLModel",
      "state": {
       "layout": "IPY_MODEL_fc8a51882627437282aa97519ff401e9",
       "style": "IPY_MODEL_eb511ee71320444687d24f6c065a7ed1",
       "value": "<h4 style=\"font-size:14px;\">-Tupel von</h4>"
      }
     },
     "4c6fbf92b7d7424cbf4fab9812d81c92": {
      "model_module": "@jupyter-widgets/base",
      "model_module_version": "1.0.0",
      "model_name": "LayoutModel",
      "state": {
       "justify_content": "center"
      }
     },
     "4d18b66f3acc4ea386bf4436448c23dd": {
      "model_module": "@jupyter-widgets/controls",
      "model_module_version": "1.2.0",
      "model_name": "ButtonModel",
      "state": {
       "description": "3rd singular present",
       "layout": "IPY_MODEL_470143b632884e38baef5bfe6720095c",
       "style": "IPY_MODEL_65e90c14d4bc48be9118a157afb74a0d"
      }
     },
     "4d767262b706437188d530b19bb6d3c2": {
      "model_module": "@jupyter-widgets/controls",
      "model_module_version": "1.2.0",
      "model_name": "HTMLModel",
      "state": {
       "layout": "IPY_MODEL_56097610f1ed4f37aade90e2ed520ef6",
       "style": "IPY_MODEL_f5171de0872c40df99626f9cdba0b8fc",
       "value": "<i>Wählen Sie die <ins>eine</ins> korrekte Antwort aus: </i>"
      }
     },
     "4dd90046538b4d74973e683c2dbd2a5a": {
      "model_module": "@jupyter-widgets/controls",
      "model_module_version": "1.2.0",
      "model_name": "DescriptionStyleModel",
      "state": {
       "description_width": ""
      }
     },
     "4e3f839197a14063904a4fb2164e3f62": {
      "model_module": "@jupyter-widgets/base",
      "model_module_version": "1.0.0",
      "model_name": "LayoutModel",
      "state": {
       "width": "150px"
      }
     },
     "4eb30e3ff71c431cbe0ec3906cb262ba": {
      "model_module": "@jupyter-widgets/base",
      "model_module_version": "1.0.0",
      "model_name": "LayoutModel",
      "state": {}
     },
     "4ece0852c08544cab4c6f8dd260982ce": {
      "model_module": "@jupyter-widgets/controls",
      "model_module_version": "1.2.0",
      "model_name": "DescriptionStyleModel",
      "state": {
       "description_width": ""
      }
     },
     "4edd7ab4038e4a61a133abd686f85a8d": {
      "model_module": "@jupyter-widgets/base",
      "model_module_version": "1.0.0",
      "model_name": "LayoutModel",
      "state": {
       "justify_content": "center"
      }
     },
     "4ef11d5f0f794534ab796f88c8c0f1b8": {
      "model_module": "@jupyter-widgets/controls",
      "model_module_version": "1.2.0",
      "model_name": "VBoxModel",
      "state": {
       "children": [
        "IPY_MODEL_3adeda1a44ef41bb8eb1feceba4c656b",
        "IPY_MODEL_b920c781948e48ac9f2d0db4685994e8",
        "IPY_MODEL_94cc180e71cf45e893f13cef9d2429a7",
        "IPY_MODEL_8cd94742a894407090babc076f4a5672",
        "IPY_MODEL_37cf2b0c48004251b74fd24925f4075d"
       ],
       "layout": "IPY_MODEL_5fabf96b88454010afce203dd2fc89b3"
      }
     },
     "4f2210060a6f4319ba674071f74fe11f": {
      "model_module": "@jupyter-widgets/base",
      "model_module_version": "1.0.0",
      "model_name": "LayoutModel",
      "state": {
       "justify_content": "center"
      }
     },
     "4f2de25ed90c4ffd9dd43a72824068fe": {
      "model_module": "@jupyter-widgets/controls",
      "model_module_version": "1.2.0",
      "model_name": "DescriptionStyleModel",
      "state": {
       "description_width": ""
      }
     },
     "4f34447da6e745a6b73fff46214075d5": {
      "model_module": "@jupyter-widgets/base",
      "model_module_version": "1.0.0",
      "model_name": "LayoutModel",
      "state": {}
     },
     "4f99a6ba13a44fc28c8d0e7bce6706b6": {
      "model_module": "@jupyter-widgets/controls",
      "model_module_version": "1.2.0",
      "model_name": "DescriptionStyleModel",
      "state": {
       "description_width": ""
      }
     },
     "4fac14f9ca1544bb983b3d09d1229f8b": {
      "model_module": "@jupyter-widgets/base",
      "model_module_version": "1.0.0",
      "model_name": "LayoutModel",
      "state": {
       "width": "250px"
      }
     },
     "4fbe318681784811bd572e74125cdec9": {
      "model_module": "@jupyter-widgets/base",
      "model_module_version": "1.0.0",
      "model_name": "LayoutModel",
      "state": {
       "width": "600px"
      }
     },
     "4fe0903c35f7484aa2468892fc1dcda9": {
      "model_module": "@jupyter-widgets/controls",
      "model_module_version": "1.2.0",
      "model_name": "DropdownModel",
      "state": {
       "_options_labels": [
        "Konstituente",
        "Phrase",
        " "
       ],
       "index": 0,
       "layout": "IPY_MODEL_2b63b8ed02fa4bc38d94377ddc7a86fe",
       "style": "IPY_MODEL_88d991090af943a4afed76392e2f510d"
      }
     },
     "5015b67904aa45a99a4d9cc0a1dff749": {
      "model_module": "@jupyter-widgets/base",
      "model_module_version": "1.0.0",
      "model_name": "LayoutModel",
      "state": {
       "justify_content": "center"
      }
     },
     "502353894e694d92b2729611729160ac": {
      "model_module": "@jupyter-widgets/base",
      "model_module_version": "1.0.0",
      "model_name": "LayoutModel",
      "state": {}
     },
     "50cff16d3e5b47448ff2c41204ab033a": {
      "model_module": "@jupyter-widgets/base",
      "model_module_version": "1.0.0",
      "model_name": "LayoutModel",
      "state": {
       "width": "250px"
      }
     },
     "510386b3b3ed466ab4bbebd1d8d4e712": {
      "model_module": "@jupyter-widgets/controls",
      "model_module_version": "1.2.0",
      "model_name": "DescriptionStyleModel",
      "state": {
       "description_width": ""
      }
     },
     "5103cfa0655b4790abc0d8deb2de94d2": {
      "model_module": "@jupyter-widgets/controls",
      "model_module_version": "1.2.0",
      "model_name": "VBoxModel",
      "state": {
       "children": [
        "IPY_MODEL_40f14d3a1aa54d52b5f680ca11f7ba0e",
        "IPY_MODEL_17ac5bbc511249fab118517186a0f304",
        "IPY_MODEL_b0d293ef048144aaa2d4177c1336fffa",
        "IPY_MODEL_10b8f626a9a044a0857294fab3b34d0b",
        "IPY_MODEL_bc960724426343fc874ff910b42f7ce7"
       ],
       "layout": "IPY_MODEL_ab9e8d5419994fed9cad0815d9501c4b"
      }
     },
     "513dc43464b84eae936fa53d4865778d": {
      "model_module": "@jupyter-widgets/controls",
      "model_module_version": "1.2.0",
      "model_name": "ButtonStyleModel",
      "state": {}
     },
     "51434281aa6c40f59c136b6d976ed822": {
      "model_module": "@jupyter-widgets/controls",
      "model_module_version": "1.2.0",
      "model_name": "CheckboxModel",
      "state": {
       "description": "Zu einem Wort werden seine Kookkurrenzpartner gefunden.",
       "disabled": false,
       "layout": "IPY_MODEL_406e8c600ac24d2092e9c41e3ffb8533",
       "style": "IPY_MODEL_a0f9f6f6f4654846ba4183d61191aae8",
       "value": false
      }
     },
     "5143d1ff9a4a44d7a48fd60e120755e7": {
      "model_module": "@jupyter-widgets/controls",
      "model_module_version": "1.2.0",
      "model_name": "DescriptionStyleModel",
      "state": {
       "description_width": "initial"
      }
     },
     "51547305665a42deb9431c7fa8710302": {
      "model_module": "@jupyter-widgets/controls",
      "model_module_version": "1.2.0",
      "model_name": "DescriptionStyleModel",
      "state": {
       "description_width": ""
      }
     },
     "515531805b6e49e9a77a78325cf10769": {
      "model_module": "@jupyter-widgets/controls",
      "model_module_version": "1.2.0",
      "model_name": "DescriptionStyleModel",
      "state": {
       "description_width": "initial"
      }
     },
     "5159f3ebdfda467d991ba22ff997379f": {
      "model_module": "@jupyter-widgets/base",
      "model_module_version": "1.0.0",
      "model_name": "LayoutModel",
      "state": {
       "justify_content": "center"
      }
     },
     "517bd610c98643c6bbfa597cc7c9f62e": {
      "model_module": "@jupyter-widgets/base",
      "model_module_version": "1.0.0",
      "model_name": "LayoutModel",
      "state": {
       "justify_content": "center"
      }
     },
     "51d8c9a787ef42be912aa8c4bfe5f46f": {
      "model_module": "@jupyter-widgets/controls",
      "model_module_version": "1.2.0",
      "model_name": "ButtonModel",
      "state": {
       "description": "base",
       "layout": "IPY_MODEL_62aecc1b976b42de99c1b5949932fda0",
       "style": "IPY_MODEL_6a4d274cfd644f938465906adb62151e"
      }
     },
     "522c288cb7aa42868856ff485cfc11cd": {
      "model_module": "@jupyter-widgets/base",
      "model_module_version": "1.0.0",
      "model_name": "LayoutModel",
      "state": {}
     },
     "5268f871bf994268a052e68d9bde973b": {
      "model_module": "@jupyter-widgets/controls",
      "model_module_version": "1.2.0",
      "model_name": "ButtonModel",
      "state": {
       "description": "gerund",
       "layout": "IPY_MODEL_1b4710e1240e41539dbbd1e7aac90df3",
       "style": "IPY_MODEL_331549b6d07346249178aec16478089a"
      }
     },
     "528175218d244f69bf1a5928fe6b9868": {
      "model_module": "@jupyter-widgets/base",
      "model_module_version": "1.0.0",
      "model_name": "LayoutModel",
      "state": {}
     },
     "529a618f2b844ed9b0c2db7d274a60e1": {
      "model_module": "@jupyter-widgets/base",
      "model_module_version": "1.0.0",
      "model_name": "LayoutModel",
      "state": {
       "width": "250px"
      }
     },
     "5335f1fafc2841afb9ff31e8b1b58090": {
      "model_module": "@jupyter-widgets/controls",
      "model_module_version": "1.2.0",
      "model_name": "DescriptionStyleModel",
      "state": {
       "description_width": ""
      }
     },
     "533d44e6c693495bac331359f8ef8d84": {
      "model_module": "@jupyter-widgets/base",
      "model_module_version": "1.0.0",
      "model_name": "LayoutModel",
      "state": {
       "width": "250px"
      }
     },
     "53546110382140cf9bb505702687b03c": {
      "model_module": "@jupyter-widgets/controls",
      "model_module_version": "1.2.0",
      "model_name": "BoxModel",
      "state": {
       "children": [
        "IPY_MODEL_25686e30f88c45059e9a2eb6fce3013c",
        "IPY_MODEL_f4956fcff975412a9146bfb489b48724",
        "IPY_MODEL_e1b2638b276b4d14bc6e09fabc9538ca",
        "IPY_MODEL_7061506e24634616b8a7a11fdcc0b189",
        "IPY_MODEL_b43b0c1a6c6a457880b3d05e2f23a755",
        "IPY_MODEL_2dadc743abd04a58b40b88c347a9dec2",
        "IPY_MODEL_5603e6dfd9e24a5aa8e9526b4c3da5f5",
        "IPY_MODEL_42ef7da3d1db411a88cea13d4adf8742",
        "IPY_MODEL_f264f31300404961b9e78897e6e93817"
       ],
       "layout": "IPY_MODEL_a7042366fd1c4dd2bb18e4d03932695b"
      }
     },
     "53624897a0584b5f8b191310f9f556d3": {
      "model_module": "@jupyter-widgets/base",
      "model_module_version": "1.0.0",
      "model_name": "LayoutModel",
      "state": {}
     },
     "53de42281404447d8addfa8d4ec93e16": {
      "model_module": "@jupyter-widgets/controls",
      "model_module_version": "1.2.0",
      "model_name": "DescriptionStyleModel",
      "state": {
       "description_width": ""
      }
     },
     "53e657368f9e4413bba78d380ebb25e5": {
      "model_module": "@jupyter-widgets/controls",
      "model_module_version": "1.2.0",
      "model_name": "ButtonStyleModel",
      "state": {}
     },
     "5400ace1c5b94807bc58223754d9b638": {
      "model_module": "@jupyter-widgets/base",
      "model_module_version": "1.0.0",
      "model_name": "LayoutModel",
      "state": {
       "width": "250px"
      }
     },
     "540b5bd990d743cd821346b482e6ce19": {
      "model_module": "@jupyter-widgets/controls",
      "model_module_version": "1.2.0",
      "model_name": "ButtonStyleModel",
      "state": {
       "button_color": "lightgreen"
      }
     },
     "5425c785231b4b7a81141c09e28910db": {
      "model_module": "@jupyter-widgets/base",
      "model_module_version": "1.0.0",
      "model_name": "LayoutModel",
      "state": {}
     },
     "5430b6979559420a885edd619d83c57a": {
      "model_module": "@jupyter-widgets/base",
      "model_module_version": "1.0.0",
      "model_name": "LayoutModel",
      "state": {}
     },
     "543349317c644ec097072b380464f8df": {
      "model_module": "@jupyter-widgets/controls",
      "model_module_version": "1.2.0",
      "model_name": "DescriptionStyleModel",
      "state": {
       "description_width": ""
      }
     },
     "547efb594b9c49dfa6d90430a85f7bdc": {
      "model_module": "@jupyter-widgets/base",
      "model_module_version": "1.0.0",
      "model_name": "LayoutModel",
      "state": {
       "width": "250px"
      }
     },
     "54be8fc79d594667ba91f778b1763bf5": {
      "model_module": "@jupyter-widgets/controls",
      "model_module_version": "1.2.0",
      "model_name": "ButtonStyleModel",
      "state": {}
     },
     "54f34980103c4e57ab1c338c41961a92": {
      "model_module": "@jupyter-widgets/controls",
      "model_module_version": "1.2.0",
      "model_name": "DropdownModel",
      "state": {
       "_options_labels": [
        "Bedeutung",
        "Wohlgeformtheit",
        " "
       ],
       "index": 2,
       "layout": "IPY_MODEL_99cd0650322e4dfe955ca12452050210",
       "style": "IPY_MODEL_1ec33d464931439fa5ed994de96ac483"
      }
     },
     "5502ca37bda547369289f819ce116b65": {
      "model_module": "@jupyter-widgets/base",
      "model_module_version": "1.0.0",
      "model_name": "LayoutModel",
      "state": {}
     },
     "550c44ba58304ad6a006ad19ded96fe3": {
      "model_module": "@jupyter-widgets/base",
      "model_module_version": "1.0.0",
      "model_name": "LayoutModel",
      "state": {
       "width": "250px"
      }
     },
     "5514244abea743f987ce8ac6f90e480c": {
      "model_module": "@jupyter-widgets/controls",
      "model_module_version": "1.2.0",
      "model_name": "ButtonModel",
      "state": {
       "description": "gerund",
       "layout": "IPY_MODEL_e499097b2c9c48e19b48c4d2b766d519",
       "style": "IPY_MODEL_5628f9d9ead14f468ea929a5cf79f177"
      }
     },
     "5532e61d10e74d0ebbe6ee411babb01a": {
      "model_module": "@jupyter-widgets/controls",
      "model_module_version": "1.2.0",
      "model_name": "CheckboxModel",
      "state": {
       "description": "Es ist flektierbar.",
       "disabled": false,
       "layout": "IPY_MODEL_f32b834185534bc79f6a9a60a4b7aa51",
       "style": "IPY_MODEL_bec708c5679a47c2954291abee1d8b40",
       "value": false
      }
     },
     "5535db5111c64ce995db1c3a9c64414b": {
      "model_module": "@jupyter-widgets/controls",
      "model_module_version": "1.2.0",
      "model_name": "CheckboxModel",
      "state": {
       "description": "Zu einem Wort wird ein Index seiner Kontexte aufgebaut.",
       "disabled": false,
       "layout": "IPY_MODEL_2f36dbd8091c478db6ac482bbf1eebce",
       "style": "IPY_MODEL_1cec5b4d48e944bdb749090050e7b64c",
       "value": true
      }
     },
     "5598f89511c248ea8edb7dfbfae554e5": {
      "model_module": "@jupyter-widgets/base",
      "model_module_version": "1.0.0",
      "model_name": "LayoutModel",
      "state": {
       "width": "250px"
      }
     },
     "55f8e723f7d541e58624526ddb5ade91": {
      "model_module": "@jupyter-widgets/base",
      "model_module_version": "1.0.0",
      "model_name": "LayoutModel",
      "state": {
       "width": "250px"
      }
     },
     "5603e6dfd9e24a5aa8e9526b4c3da5f5": {
      "model_module": "@jupyter-widgets/controls",
      "model_module_version": "1.2.0",
      "model_name": "HTMLModel",
      "state": {
       "layout": "IPY_MODEL_bf0f673d50a94d7183717d08930d033e",
       "style": "IPY_MODEL_e93623160672471c9e507472c917cfb6",
       "value": "<h4 style=\"font-size:14px;\">trägt. Das Ergebnis sind die häufigsten zweistelligen syntaktischen Muster des Englischen mit NOUN als rechtem Kontext, nämlich NOUN+NOUN, DET+NOUN und ADJ+NOUN; diese Ergebnisse geben Hinweis auf die NP-</h4>"
      }
     },
     "56097610f1ed4f37aade90e2ed520ef6": {
      "model_module": "@jupyter-widgets/base",
      "model_module_version": "1.0.0",
      "model_name": "LayoutModel",
      "state": {
       "justify_content": "center"
      }
     },
     "560b5d58ea824a0789e65e03241d759a": {
      "model_module": "@jupyter-widgets/controls",
      "model_module_version": "1.2.0",
      "model_name": "HBoxModel",
      "state": {
       "children": [
        "IPY_MODEL_f195119a2a57439fa2437452cfcf43e0"
       ],
       "layout": "IPY_MODEL_5b2a714c601c49be9558dcbf2de3ea63"
      }
     },
     "5616b14fda2547b7846fb940fe3230f6": {
      "model_module": "@jupyter-widgets/controls",
      "model_module_version": "1.2.0",
      "model_name": "CheckboxModel",
      "state": {
       "description": "Substitutionstest",
       "disabled": false,
       "layout": "IPY_MODEL_6dd244cc9f074076a770f184eb8a0c51",
       "style": "IPY_MODEL_36b1a10e98804ed8971ff219900baf05",
       "value": false
      }
     },
     "5628f9d9ead14f468ea929a5cf79f177": {
      "model_module": "@jupyter-widgets/controls",
      "model_module_version": "1.2.0",
      "model_name": "ButtonStyleModel",
      "state": {}
     },
     "567c898da9af440793412e382b50facb": {
      "model_module": "@jupyter-widgets/base",
      "model_module_version": "1.0.0",
      "model_name": "LayoutModel",
      "state": {
       "justify_content": "center"
      }
     },
     "56942630916848aeaa14b6874f98cd46": {
      "model_module": "@jupyter-widgets/controls",
      "model_module_version": "1.2.0",
      "model_name": "HTMLModel",
      "state": {
       "layout": "IPY_MODEL_0edfd6fc320e41a5a763511e214a68b6",
       "style": "IPY_MODEL_204a39e093074d289adcfe0277fb4e15",
       "value": "<h4 style=\"font-size:14px;\">Phrasen verkettet werden können. Das Ergebnis ist eine Phrase des gleichen Typs, also der gleichen</h4>"
      }
     },
     "56c08356f16c488ca62d5fa99d1e7ef6": {
      "model_module": "@jupyter-widgets/controls",
      "model_module_version": "1.2.0",
      "model_name": "DescriptionStyleModel",
      "state": {
       "description_width": "initial"
      }
     },
     "56d7280d7c7e47a6abd06fd9f79731fb": {
      "model_module": "@jupyter-widgets/base",
      "model_module_version": "1.0.0",
      "model_name": "LayoutModel",
      "state": {
       "width": "600px"
      }
     },
     "56e92b4f109d429d9cacc3381440621a": {
      "model_module": "@jupyter-widgets/controls",
      "model_module_version": "1.2.0",
      "model_name": "ButtonModel",
      "state": {
       "description": "past participle",
       "layout": "IPY_MODEL_11678758fccd4fa9a84a0a4a28291fde",
       "style": "IPY_MODEL_5e38c433f3d84a51a9a7040d78189d3b"
      }
     },
     "571a91f077ab4f98b369541c85f9b2b1": {
      "model_module": "@jupyter-widgets/controls",
      "model_module_version": "1.2.0",
      "model_name": "HTMLModel",
      "state": {
       "layout": "IPY_MODEL_04c9f25e51e644a08bc16cd9ec4a4953",
       "style": "IPY_MODEL_ea12e4c94dd34a4f8ebd133eda3d8eef",
       "value": "<h4 style=\"font-size:14px;\">Was bedeutet das Tag <i>VB</i> im Browntagset (siehe 5.7)?</h4>"
      }
     },
     "57224642c41c4effa771b36f8ca613d3": {
      "model_module": "@jupyter-widgets/controls",
      "model_module_version": "1.2.0",
      "model_name": "DescriptionStyleModel",
      "state": {
       "description_width": ""
      }
     },
     "573049781e87439fa4ae1ef30ffac76e": {
      "model_module": "@jupyter-widgets/controls",
      "model_module_version": "1.2.0",
      "model_name": "ButtonModel",
      "state": {
       "description": "Keine der anderen Möglichkeiten",
       "layout": "IPY_MODEL_2d278ec38d824d4fa1ff4fad62f31a90",
       "style": "IPY_MODEL_a24418ffb2d54d8b83555858d3237d62"
      }
     },
     "574000355cd94fb6846f7b76f36765b1": {
      "model_module": "@jupyter-widgets/base",
      "model_module_version": "1.0.0",
      "model_name": "LayoutModel",
      "state": {
       "width": "600px"
      }
     },
     "57488b1448f4465fbcc0f6552de88111": {
      "model_module": "@jupyter-widgets/controls",
      "model_module_version": "1.2.0",
      "model_name": "DescriptionStyleModel",
      "state": {
       "description_width": ""
      }
     },
     "575f336547744f77af10238563cd8261": {
      "model_module": "@jupyter-widgets/base",
      "model_module_version": "1.0.0",
      "model_name": "LayoutModel",
      "state": {
       "width": "250px"
      }
     },
     "578082d50aef4b77991ff65e0c4834a7": {
      "model_module": "@jupyter-widgets/controls",
      "model_module_version": "1.2.0",
      "model_name": "DescriptionStyleModel",
      "state": {
       "description_width": ""
      }
     },
     "57d421b2318947f7819ddb2cdbefaf24": {
      "model_module": "@jupyter-widgets/controls",
      "model_module_version": "1.2.0",
      "model_name": "ButtonStyleModel",
      "state": {
       "button_color": "lightgreen"
      }
     },
     "586a9e1aaa12409fbb8d9d59dccc820a": {
      "model_module": "@jupyter-widgets/controls",
      "model_module_version": "1.2.0",
      "model_name": "DescriptionStyleModel",
      "state": {
       "description_width": ""
      }
     },
     "589df59cd9134407905f6060abe4b825": {
      "model_module": "@jupyter-widgets/base",
      "model_module_version": "1.0.0",
      "model_name": "LayoutModel",
      "state": {}
     },
     "58a605a203ed43a695b576d01cb34fe8": {
      "model_module": "@jupyter-widgets/base",
      "model_module_version": "1.0.0",
      "model_name": "LayoutModel",
      "state": {
       "width": "250px"
      }
     },
     "58e453a0a77c4909ab3992317ea01d54": {
      "model_module": "@jupyter-widgets/base",
      "model_module_version": "1.0.0",
      "model_name": "LayoutModel",
      "state": {}
     },
     "590c0e44a8134e53b0b2562e6a945bee": {
      "model_module": "@jupyter-widgets/controls",
      "model_module_version": "1.2.0",
      "model_name": "ButtonModel",
      "state": {
       "description": "3rd singular present",
       "layout": "IPY_MODEL_61ba3db965f64ad6bdb0b726eb232ecd",
       "style": "IPY_MODEL_65e2bd381f5c4ec3a1bfd2b952fb32f5"
      }
     },
     "59203394d2394d08912f640c38eca752": {
      "model_module": "@jupyter-widgets/base",
      "model_module_version": "1.0.0",
      "model_name": "LayoutModel",
      "state": {}
     },
     "595b770c29914a739cc6d4912e5b9f52": {
      "model_module": "@jupyter-widgets/controls",
      "model_module_version": "1.2.0",
      "model_name": "DescriptionStyleModel",
      "state": {
       "description_width": ""
      }
     },
     "59e25ee69dc34671b74281b3c5c1c3c4": {
      "model_module": "@jupyter-widgets/controls",
      "model_module_version": "1.2.0",
      "model_name": "ButtonModel",
      "state": {
       "description": "Korrekt?",
       "layout": "IPY_MODEL_91b734637afb4bcd85efcedbd0964a7f",
       "style": "IPY_MODEL_043e30815128424fbcbc9c519829d411"
      }
     },
     "59e9a6bf9f714aaba7c250105c76b41f": {
      "model_module": "@jupyter-widgets/controls",
      "model_module_version": "1.2.0",
      "model_name": "ButtonStyleModel",
      "state": {}
     },
     "59ea5ecbea8a48fe8a20be29cb64bd28": {
      "model_module": "@jupyter-widgets/controls",
      "model_module_version": "1.2.0",
      "model_name": "ButtonModel",
      "state": {
       "description": "Partikel",
       "layout": "IPY_MODEL_2a294cc34fb14628bafe26e8f65e9c39",
       "style": "IPY_MODEL_d14cac6afd524b93a5660f4d8e463386"
      }
     },
     "59f4fa54548c4fb8b2b466596d3a47d8": {
      "model_module": "@jupyter-widgets/controls",
      "model_module_version": "1.2.0",
      "model_name": "DescriptionStyleModel",
      "state": {
       "description_width": "initial"
      }
     },
     "5a539c7352b94037a75844888105ed71": {
      "model_module": "@jupyter-widgets/controls",
      "model_module_version": "1.2.0",
      "model_name": "DescriptionStyleModel",
      "state": {
       "description_width": ""
      }
     },
     "5a6e02acb8b743888204148cf94e9b79": {
      "model_module": "@jupyter-widgets/base",
      "model_module_version": "1.0.0",
      "model_name": "LayoutModel",
      "state": {}
     },
     "5a8ff579b0094ba192ee89618aa4ad52": {
      "model_module": "@jupyter-widgets/controls",
      "model_module_version": "1.2.0",
      "model_name": "ButtonModel",
      "state": {
       "description": "Keine der anderen Möglichkeiten",
       "layout": "IPY_MODEL_3eab1a5cddee4c9c8b3ee0079d53b772",
       "style": "IPY_MODEL_8012723aadfd468a9ead9b89cc9bb698"
      }
     },
     "5a95d302f0db4aa4806da5ef467c256a": {
      "model_module": "@jupyter-widgets/controls",
      "model_module_version": "1.2.0",
      "model_name": "DescriptionStyleModel",
      "state": {
       "description_width": ""
      }
     },
     "5aad25e869864d8189fd507f3b37f171": {
      "model_module": "@jupyter-widgets/base",
      "model_module_version": "1.0.0",
      "model_name": "LayoutModel",
      "state": {}
     },
     "5ac110c0e69746c0bb452c695ea0d693": {
      "model_module": "@jupyter-widgets/controls",
      "model_module_version": "1.2.0",
      "model_name": "DescriptionStyleModel",
      "state": {
       "description_width": ""
      }
     },
     "5b024531d0d34720906cc54e7ee89743": {
      "model_module": "@jupyter-widgets/controls",
      "model_module_version": "1.2.0",
      "model_name": "HTMLModel",
      "state": {
       "layout": "IPY_MODEL_f01f3e02a99f4ca9be7ba6f372beb8e2",
       "style": "IPY_MODEL_149c0e2b604e4ed9b16bc16c32de6528",
       "value": "<h4 style=\"font-size:14px;\">Kategorie.</h4>"
      }
     },
     "5b2a714c601c49be9558dcbf2de3ea63": {
      "model_module": "@jupyter-widgets/base",
      "model_module_version": "1.0.0",
      "model_name": "LayoutModel",
      "state": {}
     },
     "5b396dade7874acea91e06bd57012338": {
      "model_module": "@jupyter-widgets/controls",
      "model_module_version": "1.2.0",
      "model_name": "HBoxModel",
      "state": {
       "children": [
        "IPY_MODEL_9acd1442a0d549dcb890b090e6547ca7",
        "IPY_MODEL_e0dbe23719e3431890154edeae68cdeb"
       ],
       "layout": "IPY_MODEL_27b537609e66474cb13b2880951b354b"
      }
     },
     "5b462bdb645c44ca8b7ad4d8e3c305de": {
      "model_module": "@jupyter-widgets/controls",
      "model_module_version": "1.2.0",
      "model_name": "DescriptionStyleModel",
      "state": {
       "description_width": ""
      }
     },
     "5b66bd745ac842ac81288433b3a5ecd0": {
      "model_module": "@jupyter-widgets/controls",
      "model_module_version": "1.2.0",
      "model_name": "HTMLModel",
      "state": {
       "layout": "IPY_MODEL_7decc960d1cd4ef9b1dd92d2a8432da9",
       "style": "IPY_MODEL_e039361bc1164dcebfa3f4ecd7376edd",
       "value": "<i>Wählen Sie die <ins>eine</ins> korrekte Antwort aus: </i>"
      }
     },
     "5b71da46daca47619829a051eb627228": {
      "model_module": "@jupyter-widgets/controls",
      "model_module_version": "1.2.0",
      "model_name": "ButtonModel",
      "state": {
       "description": "3rd singular present",
       "layout": "IPY_MODEL_dbc906e379484401a16a0f8095b43964",
       "style": "IPY_MODEL_1d57015cc325427f9219a8d3ba235142"
      }
     },
     "5b7cbd3bc0ee40a6bf3a2f20ba9248fd": {
      "model_module": "@jupyter-widgets/controls",
      "model_module_version": "1.2.0",
      "model_name": "DescriptionStyleModel",
      "state": {
       "description_width": ""
      }
     },
     "5bc11d42c4f4429abd76ede2d6eacd32": {
      "model_module": "@jupyter-widgets/controls",
      "model_module_version": "1.2.0",
      "model_name": "ButtonStyleModel",
      "state": {}
     },
     "5bd3f4945ece4e0b8d3952c71d9e4ff6": {
      "model_module": "@jupyter-widgets/controls",
      "model_module_version": "1.2.0",
      "model_name": "DescriptionStyleModel",
      "state": {
       "description_width": ""
      }
     },
     "5c158ba39c9644e8a1472a65c9c406f0": {
      "model_module": "@jupyter-widgets/controls",
      "model_module_version": "1.2.0",
      "model_name": "VBoxModel",
      "state": {
       "children": [
        "IPY_MODEL_da25896997894f92bed7b29f14b829de",
        "IPY_MODEL_5ee00c340902473f8a73cf562eed439e",
        "IPY_MODEL_612f826c15b04925b1136b8096c2e6aa",
        "IPY_MODEL_1814687260c44df7a6440dcc2f756cda"
       ],
       "layout": "IPY_MODEL_09df2cdb29774773ab3b996f9482a4ee"
      }
     },
     "5c3544788ee14b86bca8f03064960c45": {
      "model_module": "@jupyter-widgets/base",
      "model_module_version": "1.0.0",
      "model_name": "LayoutModel",
      "state": {
       "justify_content": "center"
      }
     },
     "5c5fb5b9a4af446ebc3dffd31761b1ac": {
      "model_module": "@jupyter-widgets/base",
      "model_module_version": "1.0.0",
      "model_name": "LayoutModel",
      "state": {
       "width": "250px"
      }
     },
     "5c8a2226e5a14a028faa360f3aec5940": {
      "model_module": "@jupyter-widgets/base",
      "model_module_version": "1.0.0",
      "model_name": "LayoutModel",
      "state": {
       "justify_content": "center"
      }
     },
     "5ce0eac11b5e4b3aad8616a622790abd": {
      "model_module": "@jupyter-widgets/controls",
      "model_module_version": "1.2.0",
      "model_name": "HBoxModel",
      "state": {
       "children": [
        "IPY_MODEL_fa5883d5cad9490da5372c68d0d9d215",
        "IPY_MODEL_0052a46c04064bf0bff68bbc159ef40c"
       ],
       "layout": "IPY_MODEL_f5d3448289544e54a6f4fd7efded3775"
      }
     },
     "5d10416a814641f2812616abf1c2cd4d": {
      "model_module": "@jupyter-widgets/controls",
      "model_module_version": "1.2.0",
      "model_name": "HTMLModel",
      "state": {
       "layout": "IPY_MODEL_ccc38651bf584e5da2461f0556973f97",
       "style": "IPY_MODEL_d05d4554d5dc46fe8e01d85b206e585f",
       "value": "<i>Vervollständigen Sie den Lückentext: </i>"
      }
     },
     "5d161c9e3991413d96bd326f64693fd0": {
      "model_module": "@jupyter-widgets/controls",
      "model_module_version": "1.2.0",
      "model_name": "HBoxModel",
      "state": {
       "children": [
        "IPY_MODEL_eda45b3f02c64ebaaa5bb3d236bbc96c"
       ],
       "layout": "IPY_MODEL_072c05a13baf427aa7539e303730b61b"
      }
     },
     "5d17d1eb5543452aa544026f5a2bb40b": {
      "model_module": "@jupyter-widgets/controls",
      "model_module_version": "1.2.0",
      "model_name": "ButtonStyleModel",
      "state": {}
     },
     "5d1ba95cff1741338a3316862c9177ed": {
      "model_module": "@jupyter-widgets/controls",
      "model_module_version": "1.2.0",
      "model_name": "CheckboxModel",
      "state": {
       "description": "gleicher Kontext",
       "disabled": false,
       "layout": "IPY_MODEL_82fcf0e6e3be4e78b72a14c93f722038",
       "style": "IPY_MODEL_729a314fe55a455ca41142e8c9af7dbd",
       "value": false
      }
     },
     "5d52f9d2a33d49a2aaf241a02fdd5fbf": {
      "model_module": "@jupyter-widgets/controls",
      "model_module_version": "1.2.0",
      "model_name": "DescriptionStyleModel",
      "state": {
       "description_width": ""
      }
     },
     "5d861b3180b54e10af4c2b6d242b8298": {
      "model_module": "@jupyter-widgets/controls",
      "model_module_version": "1.2.0",
      "model_name": "DescriptionStyleModel",
      "state": {
       "description_width": ""
      }
     },
     "5d8a0978d1e748698a11e0f1f0aab1b5": {
      "model_module": "@jupyter-widgets/base",
      "model_module_version": "1.0.0",
      "model_name": "LayoutModel",
      "state": {
       "width": "250px"
      }
     },
     "5d93f70c56244d8abd08df8e036fb4cf": {
      "model_module": "@jupyter-widgets/base",
      "model_module_version": "1.0.0",
      "model_name": "LayoutModel",
      "state": {
       "align_content": "stretch",
       "align_items": "stretch",
       "display": "inline-flex",
       "flex": "flex-grow",
       "flex_flow": "row wrap",
       "justify_content": "flex-start"
      }
     },
     "5de8160794d847b09f63939ecfe38310": {
      "model_module": "@jupyter-widgets/controls",
      "model_module_version": "1.2.0",
      "model_name": "HTMLModel",
      "state": {
       "layout": "IPY_MODEL_90580a110abe4535bf3f193946e2ade2",
       "style": "IPY_MODEL_842799e4023a4fddbb34b1e1640a73e2",
       "value": "<h4 style=\"font-size:14px;\">Welcher ist der richtig permutierte Satz?</h4>"
      }
     },
     "5df8096ec50d46ce8021d82332d070c2": {
      "model_module": "@jupyter-widgets/base",
      "model_module_version": "1.0.0",
      "model_name": "LayoutModel",
      "state": {
       "width": "150px"
      }
     },
     "5e2fa547aed84a909675cd4d89e0f5d5": {
      "model_module": "@jupyter-widgets/controls",
      "model_module_version": "1.2.0",
      "model_name": "ButtonModel",
      "state": {
       "description": "Korrekt?",
       "layout": "IPY_MODEL_0658d5b0038940d6b029217b60289719",
       "style": "IPY_MODEL_494076d8df28402b9dc07b4efe20f3d4"
      }
     },
     "5e38c433f3d84a51a9a7040d78189d3b": {
      "model_module": "@jupyter-widgets/controls",
      "model_module_version": "1.2.0",
      "model_name": "ButtonStyleModel",
      "state": {}
     },
     "5e415609f0a94f5b9be888a8bfc82583": {
      "model_module": "@jupyter-widgets/controls",
      "model_module_version": "1.2.0",
      "model_name": "ButtonStyleModel",
      "state": {}
     },
     "5e5aef5f032640c3bb77ce8e76866a26": {
      "model_module": "@jupyter-widgets/base",
      "model_module_version": "1.0.0",
      "model_name": "LayoutModel",
      "state": {
       "width": "150px"
      }
     },
     "5e8350bd946147688974bd15f271d685": {
      "model_module": "@jupyter-widgets/controls",
      "model_module_version": "1.2.0",
      "model_name": "DescriptionStyleModel",
      "state": {
       "description_width": "initial"
      }
     },
     "5e8e8cd05b0940399c8fe87f722928c9": {
      "model_module": "@jupyter-widgets/base",
      "model_module_version": "1.0.0",
      "model_name": "LayoutModel",
      "state": {
       "width": "250px"
      }
     },
     "5ecb99a95ebc4153afdffeaf27eb3fd1": {
      "model_module": "@jupyter-widgets/base",
      "model_module_version": "1.0.0",
      "model_name": "LayoutModel",
      "state": {
       "width": "600px"
      }
     },
     "5edcb65dd9344d22a18e3ba413912d9d": {
      "model_module": "@jupyter-widgets/controls",
      "model_module_version": "1.2.0",
      "model_name": "DescriptionStyleModel",
      "state": {
       "description_width": ""
      }
     },
     "5ee00c340902473f8a73cf562eed439e": {
      "model_module": "@jupyter-widgets/controls",
      "model_module_version": "1.2.0",
      "model_name": "CheckboxModel",
      "state": {
       "description": "gleiche Endungen",
       "disabled": false,
       "layout": "IPY_MODEL_bf163bb662c04d9f99c0ce2a91c788a9",
       "style": "IPY_MODEL_d3588fc79e6d4414b962374207b18879",
       "value": false
      }
     },
     "5f07b7cb64ef41c5a70c39db240030a5": {
      "model_module": "@jupyter-widgets/controls",
      "model_module_version": "1.2.0",
      "model_name": "HBoxModel",
      "state": {
       "children": [
        "IPY_MODEL_590c0e44a8134e53b0b2562e6a945bee",
        "IPY_MODEL_51d8c9a787ef42be912aa8c4bfe5f46f"
       ],
       "layout": "IPY_MODEL_351bc6cc313d42829647bfc854a44f89"
      }
     },
     "5f0a24ba356044cc897334816432e618": {
      "model_module": "@jupyter-widgets/controls",
      "model_module_version": "1.2.0",
      "model_name": "ButtonStyleModel",
      "state": {}
     },
     "5f18aac9a117420ab393fdfee6e73659": {
      "model_module": "@jupyter-widgets/base",
      "model_module_version": "1.0.0",
      "model_name": "LayoutModel",
      "state": {}
     },
     "5f196f0900ee4090a68ac020cc5cfabc": {
      "model_module": "@jupyter-widgets/base",
      "model_module_version": "1.0.0",
      "model_name": "LayoutModel",
      "state": {
       "width": "150px"
      }
     },
     "5f2e496f850d43e3991e951b1c6c51ca": {
      "model_module": "@jupyter-widgets/controls",
      "model_module_version": "1.2.0",
      "model_name": "HBoxModel",
      "state": {
       "children": [
        "IPY_MODEL_d63327a3ddcd4b8785ff34ecf224b8a8",
        "IPY_MODEL_0abcc6fa64b04ceb994759042804e5b9"
       ],
       "layout": "IPY_MODEL_3f393dd4229d444bacad0eef0b2e0e6a"
      }
     },
     "5f945d734d4449308fd58500c6283565": {
      "model_module": "@jupyter-widgets/controls",
      "model_module_version": "1.2.0",
      "model_name": "DescriptionStyleModel",
      "state": {
       "description_width": "initial"
      }
     },
     "5fabf96b88454010afce203dd2fc89b3": {
      "model_module": "@jupyter-widgets/base",
      "model_module_version": "1.0.0",
      "model_name": "LayoutModel",
      "state": {}
     },
     "600120bf72534a1482228a899297e58d": {
      "model_module": "@jupyter-widgets/base",
      "model_module_version": "1.0.0",
      "model_name": "LayoutModel",
      "state": {}
     },
     "605bb7fa83614854bbf4d2eaa1c6195d": {
      "model_module": "@jupyter-widgets/base",
      "model_module_version": "1.0.0",
      "model_name": "LayoutModel",
      "state": {}
     },
     "60999b5f55ba4c218499dfee62bbe1c9": {
      "model_module": "@jupyter-widgets/controls",
      "model_module_version": "1.2.0",
      "model_name": "DescriptionStyleModel",
      "state": {
       "description_width": ""
      }
     },
     "60ab0405f578408d9c7b636ea0619c9f": {
      "model_module": "@jupyter-widgets/controls",
      "model_module_version": "1.2.0",
      "model_name": "DescriptionStyleModel",
      "state": {
       "description_width": "initial"
      }
     },
     "60ce2ed4cdad48c8b8e7295b373fce61": {
      "model_module": "@jupyter-widgets/base",
      "model_module_version": "1.0.0",
      "model_name": "LayoutModel",
      "state": {}
     },
     "60d321595d5245a4b8168fecbf97350e": {
      "model_module": "@jupyter-widgets/base",
      "model_module_version": "1.0.0",
      "model_name": "LayoutModel",
      "state": {
       "width": "600px"
      }
     },
     "612f826c15b04925b1136b8096c2e6aa": {
      "model_module": "@jupyter-widgets/controls",
      "model_module_version": "1.2.0",
      "model_name": "CheckboxModel",
      "state": {
       "description": "gleiche syntagmatische Position",
       "disabled": false,
       "layout": "IPY_MODEL_03f09bcc45c54c2ba42fa4075d23aa88",
       "style": "IPY_MODEL_b34a6b5fb4ca480a809f30c7e5683073",
       "value": false
      }
     },
     "61309ee3918a4d918f236bbf8b8b63ea": {
      "model_module": "@jupyter-widgets/controls",
      "model_module_version": "1.2.0",
      "model_name": "DescriptionStyleModel",
      "state": {
       "description_width": ""
      }
     },
     "61326f1ee34f4336a937c669c77e3565": {
      "model_module": "@jupyter-widgets/base",
      "model_module_version": "1.0.0",
      "model_name": "LayoutModel",
      "state": {}
     },
     "614ea12753fe477ea0942344310ca20e": {
      "model_module": "@jupyter-widgets/controls",
      "model_module_version": "1.2.0",
      "model_name": "ButtonModel",
      "state": {
       "description": "gerund",
       "layout": "IPY_MODEL_06f7fe4c09d94fc8a5320ad32fe07216",
       "style": "IPY_MODEL_11863ad9a5db478ca983f34308382daf"
      }
     },
     "615b85bc4f7c47ab9dd35b00f6ec92ca": {
      "model_module": "@jupyter-widgets/controls",
      "model_module_version": "1.2.0",
      "model_name": "DescriptionStyleModel",
      "state": {
       "description_width": ""
      }
     },
     "617f2dc8d6a8453d8da55aab4f3364ca": {
      "model_module": "@jupyter-widgets/controls",
      "model_module_version": "1.2.0",
      "model_name": "ButtonStyleModel",
      "state": {}
     },
     "619be2329f98424a8f80ca0d98f88191": {
      "model_module": "@jupyter-widgets/base",
      "model_module_version": "1.0.0",
      "model_name": "LayoutModel",
      "state": {
       "justify_content": "center"
      }
     },
     "619df496873d4f4f8bb46424d2afeb1a": {
      "model_module": "@jupyter-widgets/controls",
      "model_module_version": "1.2.0",
      "model_name": "ButtonStyleModel",
      "state": {}
     },
     "61ba3db965f64ad6bdb0b726eb232ecd": {
      "model_module": "@jupyter-widgets/base",
      "model_module_version": "1.0.0",
      "model_name": "LayoutModel",
      "state": {
       "width": "250px"
      }
     },
     "62aecc1b976b42de99c1b5949932fda0": {
      "model_module": "@jupyter-widgets/base",
      "model_module_version": "1.0.0",
      "model_name": "LayoutModel",
      "state": {
       "width": "250px"
      }
     },
     "630d3576587041bd9eff41e52abbccac": {
      "model_module": "@jupyter-widgets/controls",
      "model_module_version": "1.2.0",
      "model_name": "ButtonStyleModel",
      "state": {}
     },
     "630ea264f29f4e6b90716c17ce35326b": {
      "model_module": "@jupyter-widgets/base",
      "model_module_version": "1.0.0",
      "model_name": "LayoutModel",
      "state": {}
     },
     "632f5836396445e192287a8dff71899e": {
      "model_module": "@jupyter-widgets/base",
      "model_module_version": "1.0.0",
      "model_name": "LayoutModel",
      "state": {}
     },
     "635201f6b700434da95c45c7bf099264": {
      "model_module": "@jupyter-widgets/controls",
      "model_module_version": "1.2.0",
      "model_name": "CheckboxModel",
      "state": {
       "description": "Nur mit beginnt eine Reise von tausend Meilen auch einem Schritt.",
       "disabled": false,
       "layout": "IPY_MODEL_680fa3c2b0cd4945bd34ed9e1731c9c8",
       "style": "IPY_MODEL_ee7190bb853c49f1b5cc6e21fb0dd078",
       "value": false
      }
     },
     "6384e5e103fc4e36adec0795b4eaeb8b": {
      "model_module": "@jupyter-widgets/controls",
      "model_module_version": "1.2.0",
      "model_name": "ButtonModel",
      "state": {
       "description": "past participle",
       "layout": "IPY_MODEL_cbdd1ffe9fbc48099b3d587269c16336",
       "style": "IPY_MODEL_fbd2cc47dc8349dcb356264f6ece0588"
      }
     },
     "63ac4926f9a9484ebab490fe98121aa5": {
      "model_module": "@jupyter-widgets/controls",
      "model_module_version": "1.2.0",
      "model_name": "CheckboxModel",
      "state": {
       "description": "Es bezeichnet die näheren Umstände des im Verb ausgedrückten Geschehens.",
       "disabled": false,
       "layout": "IPY_MODEL_7a8885312ffb496f9d652cae611266be",
       "style": "IPY_MODEL_92821cf568814e90962cac5cd2d422df",
       "value": false
      }
     },
     "63b7c80889d5498f987dd0320cfa1ef0": {
      "model_module": "@jupyter-widgets/controls",
      "model_module_version": "1.2.0",
      "model_name": "HTMLModel",
      "state": {
       "layout": "IPY_MODEL_2f4d5e07a2b544328d32e8b38ed620a5",
       "style": "IPY_MODEL_717bea62773d456fa60ae70409c198a6",
       "value": "<i>Markieren Sie <ins>alle</ins> passenden Antworten: </i>"
      }
     },
     "63c4baa474164c6fa8933f9bf6a55097": {
      "model_module": "@jupyter-widgets/base",
      "model_module_version": "1.0.0",
      "model_name": "LayoutModel",
      "state": {}
     },
     "63e717fff5924a04af8620a886c09dae": {
      "model_module": "@jupyter-widgets/base",
      "model_module_version": "1.0.0",
      "model_name": "LayoutModel",
      "state": {}
     },
     "63e99fecee0249beac5870a81ba51788": {
      "model_module": "@jupyter-widgets/base",
      "model_module_version": "1.0.0",
      "model_name": "LayoutModel",
      "state": {}
     },
     "64133fe4b70740c6bdded6a0d209c8a6": {
      "model_module": "@jupyter-widgets/base",
      "model_module_version": "1.0.0",
      "model_name": "LayoutModel",
      "state": {}
     },
     "641e4cd0817e45ba82cfc83e4513e310": {
      "model_module": "@jupyter-widgets/controls",
      "model_module_version": "1.2.0",
      "model_name": "HTMLModel",
      "state": {
       "layout": "IPY_MODEL_3233ae6c93924560adbe8bbbdbf5a4d0",
       "style": "IPY_MODEL_20413d162d0241a98d085ede603d6464",
       "value": "<i>Wählen Sie die <ins>eine</ins> korrekte Antwort aus: </i>"
      }
     },
     "647aaaca181646b5b40375c0249c892a": {
      "model_module": "@jupyter-widgets/base",
      "model_module_version": "1.0.0",
      "model_name": "LayoutModel",
      "state": {}
     },
     "649ab1fbead34a33aafcd0d2d95dc1fc": {
      "model_module": "@jupyter-widgets/controls",
      "model_module_version": "1.2.0",
      "model_name": "ButtonStyleModel",
      "state": {}
     },
     "64ad3e4da37343bc80da9e9c1aa7f2b4": {
      "model_module": "@jupyter-widgets/controls",
      "model_module_version": "1.2.0",
      "model_name": "DescriptionStyleModel",
      "state": {
       "description_width": ""
      }
     },
     "64bd86f1e87e4d4494c9597df19d7636": {
      "model_module": "@jupyter-widgets/controls",
      "model_module_version": "1.2.0",
      "model_name": "CheckboxModel",
      "state": {
       "description": "gleiche Endungen",
       "disabled": false,
       "layout": "IPY_MODEL_d87d56ff72e4467b93c6526741f1fb26",
       "style": "IPY_MODEL_60ab0405f578408d9c7b636ea0619c9f",
       "value": false
      }
     },
     "65201a9abd6c4d0982453c7294716e51": {
      "model_module": "@jupyter-widgets/controls",
      "model_module_version": "1.2.0",
      "model_name": "ButtonModel",
      "state": {
       "description": "simple past",
       "layout": "IPY_MODEL_550c44ba58304ad6a006ad19ded96fe3",
       "style": "IPY_MODEL_279edb79c4b841dfa079f1c9457e9cf4"
      }
     },
     "655278375cf449568b0346f40e5b2b71": {
      "model_module": "@jupyter-widgets/base",
      "model_module_version": "1.0.0",
      "model_name": "LayoutModel",
      "state": {
       "width": "150px"
      }
     },
     "658e79f3bc684119b5d15e0e4d7c9c0a": {
      "model_module": "@jupyter-widgets/controls",
      "model_module_version": "1.2.0",
      "model_name": "DescriptionStyleModel",
      "state": {
       "description_width": "initial"
      }
     },
     "65c1bba23d8a431db415b785e8bd08d1": {
      "model_module": "@jupyter-widgets/base",
      "model_module_version": "1.0.0",
      "model_name": "LayoutModel",
      "state": {
       "width": "250px"
      }
     },
     "65e2bd381f5c4ec3a1bfd2b952fb32f5": {
      "model_module": "@jupyter-widgets/controls",
      "model_module_version": "1.2.0",
      "model_name": "ButtonStyleModel",
      "state": {}
     },
     "65e8c81b47d24d578b796a4295409de1": {
      "model_module": "@jupyter-widgets/controls",
      "model_module_version": "1.2.0",
      "model_name": "HTMLModel",
      "state": {
       "layout": "IPY_MODEL_970c362600424e36a71c96b0084a8f06",
       "style": "IPY_MODEL_eeaea93794eb4fe2b8ccfb51e9c2a0af",
       "value": "<h4 style=\"font-size:14px;\">Was bedeutet das Tag <i>VBD</i> im Browntagset (siehe 5.7)?</h4>"
      }
     },
     "65e90c14d4bc48be9118a157afb74a0d": {
      "model_module": "@jupyter-widgets/controls",
      "model_module_version": "1.2.0",
      "model_name": "ButtonStyleModel",
      "state": {}
     },
     "6623fcfbfb794b708a5c868e8e799e35": {
      "model_module": "@jupyter-widgets/base",
      "model_module_version": "1.0.0",
      "model_name": "LayoutModel",
      "state": {
       "width": "250px"
      }
     },
     "6653769de52c40ceb477c2753d0e02d8": {
      "model_module": "@jupyter-widgets/base",
      "model_module_version": "1.0.0",
      "model_name": "LayoutModel",
      "state": {
       "justify_content": "center"
      }
     },
     "66561417474046f8a8ac748724f7bb62": {
      "model_module": "@jupyter-widgets/base",
      "model_module_version": "1.0.0",
      "model_name": "LayoutModel",
      "state": {
       "width": "600px"
      }
     },
     "666600ba9a5a4c999a2c1e3c8e3518c6": {
      "model_module": "@jupyter-widgets/controls",
      "model_module_version": "1.2.0",
      "model_name": "ButtonStyleModel",
      "state": {}
     },
     "66aad9dc40734e0fbe34fa0f48b410c0": {
      "model_module": "@jupyter-widgets/controls",
      "model_module_version": "1.2.0",
      "model_name": "VBoxModel",
      "state": {
       "children": [
        "IPY_MODEL_e0532a3eea3d4e29a660eb624238a750",
        "IPY_MODEL_dec9f4a76f2243358005d2c3cd007e37",
        "IPY_MODEL_3ee57391e056415ab99463672377804e"
       ],
       "layout": "IPY_MODEL_c9c32dedeab24425826f65c0ff0bd0d5"
      }
     },
     "66d979fea2214dd88fa1bfafea19433b": {
      "model_module": "@jupyter-widgets/controls",
      "model_module_version": "1.2.0",
      "model_name": "HTMLModel",
      "state": {
       "layout": "IPY_MODEL_b65eb6a51f79404a81252ed7c1292396",
       "style": "IPY_MODEL_45a5e3b45b264726a431e7b2153d7841",
       "value": "<i>Wählen Sie die <ins>eine</ins> korrekte Antwort aus: </i>"
      }
     },
     "66e0ec55a02c400fa469e0ab54fb2f3c": {
      "model_module": "@jupyter-widgets/controls",
      "model_module_version": "1.2.0",
      "model_name": "CheckboxModel",
      "state": {
       "description": "gleicher Kontext",
       "disabled": false,
       "layout": "IPY_MODEL_cb5dc1f8e85d4037a880cd4ea908bc89",
       "style": "IPY_MODEL_d91ba990332b4382bccacee3ed8abdd4",
       "value": false
      }
     },
     "66eebe8af9934574863ff70c786b9f0a": {
      "model_module": "@jupyter-widgets/base",
      "model_module_version": "1.0.0",
      "model_name": "LayoutModel",
      "state": {}
     },
     "66fe735329fc466c82b62ab3996b396c": {
      "model_module": "@jupyter-widgets/controls",
      "model_module_version": "1.2.0",
      "model_name": "CheckboxModel",
      "state": {
       "description": "Zu einem Wort werden alle Synonyme gefunden.",
       "disabled": false,
       "layout": "IPY_MODEL_4fbe318681784811bd572e74125cdec9",
       "style": "IPY_MODEL_34e7b2975843464d992714cc7791319f",
       "value": false
      }
     },
     "67430b35359f438da1723c72bc5435e3": {
      "model_module": "@jupyter-widgets/controls",
      "model_module_version": "1.2.0",
      "model_name": "DescriptionStyleModel",
      "state": {
       "description_width": ""
      }
     },
     "67483e343a824a4b884c07598ed0a36d": {
      "model_module": "@jupyter-widgets/controls",
      "model_module_version": "1.2.0",
      "model_name": "HTMLModel",
      "state": {
       "layout": "IPY_MODEL_528175218d244f69bf1a5928fe6b9868",
       "style": "IPY_MODEL_e7e427ee018d44b681e2c3d5e284ed2c",
       "value": "<h4 style=\"font-size:14px;\">Welche Eigenschaften hat <i>gut</i> in Satz 2?</h4>"
      }
     },
     "6775a5da67b24e478d537f13852c5852": {
      "model_module": "@jupyter-widgets/base",
      "model_module_version": "1.0.0",
      "model_name": "LayoutModel",
      "state": {
       "width": "250px"
      }
     },
     "6797c6ff619d488ab879d44f1393f7b5": {
      "model_module": "@jupyter-widgets/controls",
      "model_module_version": "1.2.0",
      "model_name": "ButtonModel",
      "state": {
       "description": "simple past",
       "layout": "IPY_MODEL_78ca958f45c44986b7add71ed13a451a",
       "style": "IPY_MODEL_740adba1d1d14cda93b197ae6c69afb4"
      }
     },
     "67eab9b6d1cf48ffbb5a963c966f61d9": {
      "model_module": "@jupyter-widgets/base",
      "model_module_version": "1.0.0",
      "model_name": "LayoutModel",
      "state": {
       "width": "250px"
      }
     },
     "680fa3c2b0cd4945bd34ed9e1731c9c8": {
      "model_module": "@jupyter-widgets/base",
      "model_module_version": "1.0.0",
      "model_name": "LayoutModel",
      "state": {
       "width": "600px"
      }
     },
     "682c2ddc95434fbc80e1ab97fbebe216": {
      "model_module": "@jupyter-widgets/controls",
      "model_module_version": "1.2.0",
      "model_name": "ButtonStyleModel",
      "state": {}
     },
     "68300c9822334c1ab80246acfd474193": {
      "model_module": "@jupyter-widgets/controls",
      "model_module_version": "1.2.0",
      "model_name": "HTMLModel",
      "state": {
       "layout": "IPY_MODEL_68be5e1685a7417aaecf88aee8088230",
       "style": "IPY_MODEL_e0b80fb81f3f486191dbd42f16576e7d",
       "value": "<h4 style=\"font-size:14px;\">. Es gehört zu einer komplexen</h4>"
      }
     },
     "6864b1eafcae4d37a8bbc1e436db4c06": {
      "model_module": "@jupyter-widgets/controls",
      "model_module_version": "1.2.0",
      "model_name": "DescriptionStyleModel",
      "state": {
       "description_width": "initial"
      }
     },
     "686a4b2bbd534007b97e3bcc763623e2": {
      "model_module": "@jupyter-widgets/controls",
      "model_module_version": "1.2.0",
      "model_name": "ButtonModel",
      "state": {
       "description": "Lösung zeigen",
       "layout": "IPY_MODEL_5df8096ec50d46ce8021d82332d070c2",
       "style": "IPY_MODEL_2e1cc2555fd24b7fa55d2873f69baecb"
      }
     },
     "68ba84abb2634e1d88466f145bab6f24": {
      "model_module": "@jupyter-widgets/controls",
      "model_module_version": "1.2.0",
      "model_name": "DescriptionStyleModel",
      "state": {
       "description_width": ""
      }
     },
     "68be5e1685a7417aaecf88aee8088230": {
      "model_module": "@jupyter-widgets/base",
      "model_module_version": "1.0.0",
      "model_name": "LayoutModel",
      "state": {}
     },
     "690c7dc5b7ad4c27b82ed187bdf365be": {
      "model_module": "@jupyter-widgets/base",
      "model_module_version": "1.0.0",
      "model_name": "LayoutModel",
      "state": {}
     },
     "6913797f5235403f966fb4e165714c60": {
      "model_module": "@jupyter-widgets/controls",
      "model_module_version": "1.2.0",
      "model_name": "DropdownModel",
      "state": {
       "_options_labels": [
        "Konstituente",
        "Phrase",
        " "
       ],
       "index": 1,
       "layout": "IPY_MODEL_e5ae54f2c97346699feb4f83150f042e",
       "style": "IPY_MODEL_9099cc233ac2431191c86c8ab2d63ec1"
      }
     },
     "698713b366964c0f88aeac9b45a06ac9": {
      "model_module": "@jupyter-widgets/controls",
      "model_module_version": "1.2.0",
      "model_name": "ButtonModel",
      "state": {
       "description": "Korrekt?",
       "layout": "IPY_MODEL_533d44e6c693495bac331359f8ef8d84",
       "style": "IPY_MODEL_cd89fa95cbe247349d806ae0cd8fb867"
      }
     },
     "69bcc5d9e0b34b8c955365a71b424b12": {
      "model_module": "@jupyter-widgets/base",
      "model_module_version": "1.0.0",
      "model_name": "LayoutModel",
      "state": {}
     },
     "69be0a62b4fc4f96b111d0dffaa9ec88": {
      "model_module": "@jupyter-widgets/controls",
      "model_module_version": "1.2.0",
      "model_name": "HBoxModel",
      "state": {
       "children": [
        "IPY_MODEL_6c9a47424aaa4a2ba1977a2bd621b902",
        "IPY_MODEL_a2534db4857f471ba2dbb0ad10f1b2bd"
       ],
       "layout": "IPY_MODEL_100c6bdf3de24371af0e94b7a19766dc"
      }
     },
     "6a1eefda9aaa4c2c86c4b6c0fc8a5a77": {
      "model_module": "@jupyter-widgets/controls",
      "model_module_version": "1.2.0",
      "model_name": "HTMLModel",
      "state": {
       "layout": "IPY_MODEL_9fff580c54624a6fa04dbad1b19d4a74",
       "style": "IPY_MODEL_bf86ac3bafe54a21ad7b4f3ff8ad7cd6",
       "value": "<h4 style=\"font-size:14px;\">Was sind morphologische Kriterien für Wortkategorien?</h4>"
      }
     },
     "6a26006c833b42638ceb415f03b8b16f": {
      "model_module": "@jupyter-widgets/controls",
      "model_module_version": "1.2.0",
      "model_name": "DescriptionStyleModel",
      "state": {
       "description_width": ""
      }
     },
     "6a3ffadc6ecd4488ab916996077759c2": {
      "model_module": "@jupyter-widgets/controls",
      "model_module_version": "1.2.0",
      "model_name": "DescriptionStyleModel",
      "state": {
       "description_width": "initial"
      }
     },
     "6a4271b4abb44dc88e531ef8a3360f31": {
      "model_module": "@jupyter-widgets/controls",
      "model_module_version": "1.2.0",
      "model_name": "HBoxModel",
      "state": {
       "children": [
        "IPY_MODEL_8378185547654bd2b397364f365aef91"
       ],
       "layout": "IPY_MODEL_6c34ab42beb94c03b084d93c91a6d7ca"
      }
     },
     "6a4d274cfd644f938465906adb62151e": {
      "model_module": "@jupyter-widgets/controls",
      "model_module_version": "1.2.0",
      "model_name": "ButtonStyleModel",
      "state": {}
     },
     "6a509eb142084f44bc269bbf4bcc802b": {
      "model_module": "@jupyter-widgets/base",
      "model_module_version": "1.0.0",
      "model_name": "LayoutModel",
      "state": {}
     },
     "6a6fbb57e0eb4f49b1ee1660dc5049ce": {
      "model_module": "@jupyter-widgets/controls",
      "model_module_version": "1.2.0",
      "model_name": "HTMLModel",
      "state": {
       "layout": "IPY_MODEL_e0a2c63bba6948a5b221b798a9281772",
       "style": "IPY_MODEL_f7af64b85b95458d9bf5d7ec3295463d",
       "value": "<h4 style=\"font-size:14px;\">Die Koordination von Phrasen ist dadurch eingeschränkt, dass nur</h4>"
      }
     },
     "6a76a58f41c741819c0e736ae10da6ef": {
      "model_module": "@jupyter-widgets/controls",
      "model_module_version": "1.2.0",
      "model_name": "HBoxModel",
      "state": {
       "children": [
        "IPY_MODEL_8e366457735449d79015cdd329c3ab47",
        "IPY_MODEL_6dd20ad9396547788c5b7559e50ea602"
       ],
       "layout": "IPY_MODEL_a7c581e1bd0b473ebf3290833c892094"
      }
     },
     "6ab56d1339b84c70836b363a91cd1fb5": {
      "model_module": "@jupyter-widgets/base",
      "model_module_version": "1.0.0",
      "model_name": "LayoutModel",
      "state": {}
     },
     "6abed3e7aa204c6a9d335ea3aedcef7c": {
      "model_module": "@jupyter-widgets/base",
      "model_module_version": "1.0.0",
      "model_name": "LayoutModel",
      "state": {
       "justify_content": "center"
      }
     },
     "6ac3d8d2e8aa4766b4691aa9847364c4": {
      "model_module": "@jupyter-widgets/controls",
      "model_module_version": "1.2.0",
      "model_name": "DescriptionStyleModel",
      "state": {
       "description_width": ""
      }
     },
     "6ad141efc2df41e1a6207e1ee780de3d": {
      "model_module": "@jupyter-widgets/controls",
      "model_module_version": "1.2.0",
      "model_name": "DescriptionStyleModel",
      "state": {
       "description_width": "initial"
      }
     },
     "6ae8e014687a4f26887054487ff75c7f": {
      "model_module": "@jupyter-widgets/base",
      "model_module_version": "1.0.0",
      "model_name": "LayoutModel",
      "state": {
       "width": "600px"
      }
     },
     "6b26e38d5c2f40acb5145265ea2f6cce": {
      "model_module": "@jupyter-widgets/controls",
      "model_module_version": "1.2.0",
      "model_name": "ButtonStyleModel",
      "state": {}
     },
     "6b832659ce084727bbc5b6b17ea09e2b": {
      "model_module": "@jupyter-widgets/base",
      "model_module_version": "1.0.0",
      "model_name": "LayoutModel",
      "state": {}
     },
     "6ba647fe76094e7cacbaeccde9c78c8f": {
      "model_module": "@jupyter-widgets/controls",
      "model_module_version": "1.2.0",
      "model_name": "ButtonStyleModel",
      "state": {}
     },
     "6bb9e17956d24fa7a52d1cfb0dfd5391": {
      "model_module": "@jupyter-widgets/controls",
      "model_module_version": "1.2.0",
      "model_name": "CheckboxModel",
      "state": {
       "description": "Es bezeichnet die näheren Umstände des im Verb ausgedrückten Geschehens.",
       "disabled": false,
       "layout": "IPY_MODEL_aef5f78920aa4084bf495e244d248e3c",
       "style": "IPY_MODEL_fe666a647bb2413481d709a8a2542cb8",
       "value": true
      }
     },
     "6bf50b0035434cb188705adb69ba99b4": {
      "model_module": "@jupyter-widgets/controls",
      "model_module_version": "1.2.0",
      "model_name": "ButtonStyleModel",
      "state": {}
     },
     "6bfcc1683a3041179e63573f8cb4875a": {
      "model_module": "@jupyter-widgets/controls",
      "model_module_version": "1.2.0",
      "model_name": "DescriptionStyleModel",
      "state": {
       "description_width": "initial"
      }
     },
     "6c34ab42beb94c03b084d93c91a6d7ca": {
      "model_module": "@jupyter-widgets/base",
      "model_module_version": "1.0.0",
      "model_name": "LayoutModel",
      "state": {}
     },
     "6c6390cbb4114d3581048b7e8ac5cad9": {
      "model_module": "@jupyter-widgets/base",
      "model_module_version": "1.0.0",
      "model_name": "LayoutModel",
      "state": {
       "width": "250px"
      }
     },
     "6c9a47424aaa4a2ba1977a2bd621b902": {
      "model_module": "@jupyter-widgets/controls",
      "model_module_version": "1.2.0",
      "model_name": "ButtonModel",
      "state": {
       "description": "Adjektiv",
       "layout": "IPY_MODEL_9d8abf4945424487bb38463f1e4a3a53",
       "style": "IPY_MODEL_3d181784fb024c52b2aea77096c547f8"
      }
     },
     "6cb21b0da72d4344a4dd48641ed8134c": {
      "model_module": "@jupyter-widgets/controls",
      "model_module_version": "1.2.0",
      "model_name": "ButtonStyleModel",
      "state": {}
     },
     "6cdc67edf3bd4d7b80034eecbb3e8b39": {
      "model_module": "@jupyter-widgets/controls",
      "model_module_version": "1.2.0",
      "model_name": "VBoxModel",
      "state": {
       "children": [
        "IPY_MODEL_7522e8280e36402991fef6dc90019b19",
        "IPY_MODEL_daa55aff4cc3428e8a8e0fb0f81f8150",
        "IPY_MODEL_40df080766244e4dbcd9e752969ed7dd",
        "IPY_MODEL_3fdf5a1f5fac49f5a35daac6d45e625a"
       ],
       "layout": "IPY_MODEL_eeb718f2add94907a67c269368bdd109"
      }
     },
     "6d442e10eff5428b976c2d6fd2990a45": {
      "model_module": "@jupyter-widgets/controls",
      "model_module_version": "1.2.0",
      "model_name": "ButtonStyleModel",
      "state": {}
     },
     "6d64b3fef1eb474290c7349b5e607b49": {
      "model_module": "@jupyter-widgets/controls",
      "model_module_version": "1.2.0",
      "model_name": "DescriptionStyleModel",
      "state": {
       "description_width": "initial"
      }
     },
     "6d7eb85c90c74bfa918fc933e4a57641": {
      "model_module": "@jupyter-widgets/controls",
      "model_module_version": "1.2.0",
      "model_name": "HBoxModel",
      "state": {
       "children": [
        "IPY_MODEL_dadaa320b3ad45cdbdaf7009a6374eb3",
        "IPY_MODEL_ca4ec6107ae944c49be31959d84c0236"
       ],
       "layout": "IPY_MODEL_ced2e5070a9c4f408539e1fbab7d7a55"
      }
     },
     "6d92f31a65054f9f985fe7344f60b2f0": {
      "model_module": "@jupyter-widgets/controls",
      "model_module_version": "1.2.0",
      "model_name": "ButtonModel",
      "state": {
       "description": "Partikel",
       "layout": "IPY_MODEL_8ca698d8f3984a96977126993e45ed6b",
       "style": "IPY_MODEL_fc8c1a685e694821a9789b31e751518d"
      }
     },
     "6d993776773e4c5c9c9459a3d7ecd8c5": {
      "model_module": "@jupyter-widgets/controls",
      "model_module_version": "1.2.0",
      "model_name": "DescriptionStyleModel",
      "state": {
       "description_width": ""
      }
     },
     "6dd20ad9396547788c5b7559e50ea602": {
      "model_module": "@jupyter-widgets/controls",
      "model_module_version": "1.2.0",
      "model_name": "ButtonModel",
      "state": {
       "description": "Adverb",
       "layout": "IPY_MODEL_e9888809b1a34f6ea12432620ef49505",
       "style": "IPY_MODEL_540b5bd990d743cd821346b482e6ce19"
      }
     },
     "6dd244cc9f074076a770f184eb8a0c51": {
      "model_module": "@jupyter-widgets/base",
      "model_module_version": "1.0.0",
      "model_name": "LayoutModel",
      "state": {
       "width": "600px"
      }
     },
     "6df2c90e8a74447aadaac30031c4394d": {
      "model_module": "@jupyter-widgets/controls",
      "model_module_version": "1.2.0",
      "model_name": "HTMLModel",
      "state": {
       "layout": "IPY_MODEL_6653769de52c40ceb477c2753d0e02d8",
       "style": "IPY_MODEL_058f47af4ab94b4d8794bb8e16b8020c",
       "value": "<i>Wählen Sie die <ins>eine</ins> korrekte Antwort aus: </i>"
      }
     },
     "6e02b3b5a4d94cd886438efb066b0479": {
      "model_module": "@jupyter-widgets/controls",
      "model_module_version": "1.2.0",
      "model_name": "HTMLModel",
      "state": {
       "layout": "IPY_MODEL_bf6c716e9aff48569b32f0885f5212d5",
       "style": "IPY_MODEL_19a4e55f5bff4ed9b8a4c310c9e8a613",
       "value": "<h4 style=\"font-size:14px;\">Was ist der Output eines Part-of-Speech-Taggers?</h4>"
      }
     },
     "6e1fa1fbd80b42c398fe7085bcd6ae11": {
      "model_module": "@jupyter-widgets/controls",
      "model_module_version": "1.2.0",
      "model_name": "VBoxModel",
      "state": {
       "children": [
        "IPY_MODEL_ba96041cd42d4e04be64e68939f56d3f",
        "IPY_MODEL_b10d4245e23344f58472346ebae1c650",
        "IPY_MODEL_8797f98100624f9dbccaaee40da5dbce",
        "IPY_MODEL_a504646e5eca4b0399c001ac8a79f2cc"
       ],
       "layout": "IPY_MODEL_e88940ea36664d859d74b0d7926514e8"
      }
     },
     "6e58233ba5974c378d060e515f8deef4": {
      "model_module": "@jupyter-widgets/controls",
      "model_module_version": "1.2.0",
      "model_name": "ButtonModel",
      "state": {
       "description": "simple past",
       "layout": "IPY_MODEL_857523771127459aaca88662e285a953",
       "style": "IPY_MODEL_d1f9bc0678ec4de5bc7dd3ca2c767219"
      }
     },
     "6e9235d02e6549c9a011f9d2b5d8a511": {
      "model_module": "@jupyter-widgets/controls",
      "model_module_version": "1.2.0",
      "model_name": "DescriptionStyleModel",
      "state": {
       "description_width": ""
      }
     },
     "6ee9e5a1b88243208bf30dee2a4e7c11": {
      "model_module": "@jupyter-widgets/controls",
      "model_module_version": "1.2.0",
      "model_name": "CheckboxModel",
      "state": {
       "description": "Nur beginnt eine Reise von tausend Meilen auch mit einem Schritt",
       "disabled": false,
       "layout": "IPY_MODEL_3748b92beaee4c1d8b7a67824089baf4",
       "style": "IPY_MODEL_b5d44009e1724d6cb01d7e4c5bb98bd7",
       "value": false
      }
     },
     "6f18843f571149f2960070ea9c5f508a": {
      "model_module": "@jupyter-widgets/controls",
      "model_module_version": "1.2.0",
      "model_name": "DescriptionStyleModel",
      "state": {
       "description_width": ""
      }
     },
     "6f638712326543f8b35bf1e2106e07ff": {
      "model_module": "@jupyter-widgets/controls",
      "model_module_version": "1.2.0",
      "model_name": "HBoxModel",
      "state": {
       "children": [
        "IPY_MODEL_15a42bb757d64c0d8453f096c414b3ac",
        "IPY_MODEL_34ab199554894e668cd6406035e20253"
       ],
       "layout": "IPY_MODEL_8207b3c6e8d943a1bf75ab508aa7871f"
      }
     },
     "6f716c6808dc47bfa7691f9a2272fadb": {
      "model_module": "@jupyter-widgets/base",
      "model_module_version": "1.0.0",
      "model_name": "LayoutModel",
      "state": {}
     },
     "6f91b26711ad4b63888165b44d53cfda": {
      "model_module": "@jupyter-widgets/controls",
      "model_module_version": "1.2.0",
      "model_name": "CheckboxModel",
      "state": {
       "description": "Mit einem Schritt beginnt eine Reise von tausend Meilen auch nur.",
       "disabled": false,
       "layout": "IPY_MODEL_b588747391c14012be83162df25cee22",
       "style": "IPY_MODEL_59f4fa54548c4fb8b2b466596d3a47d8",
       "value": false
      }
     },
     "6f9887c1694143bda2e89505d357799b": {
      "model_module": "@jupyter-widgets/controls",
      "model_module_version": "1.2.0",
      "model_name": "BoxModel",
      "state": {
       "children": [
        "IPY_MODEL_f58e0c150eb043d48ced327afb6ed445",
        "IPY_MODEL_88e769ad24d84b6c8242043930d28736",
        "IPY_MODEL_4c115528ffb447c1977459807bbb13de",
        "IPY_MODEL_fdf8901a0f124bdfb051e01296d7e885",
        "IPY_MODEL_1053915e93dd4430be15fd7ad45febdc",
        "IPY_MODEL_cc599d152b3049008aed8cdcf8da4e68",
        "IPY_MODEL_89011942703446ceba9a86177bab77a3",
        "IPY_MODEL_dadba7a3d20d452e82a5dad84a6292f5",
        "IPY_MODEL_3c43455d67474f8bafa3a3be185680a1"
       ],
       "layout": "IPY_MODEL_5d93f70c56244d8abd08df8e036fb4cf"
      }
     },
     "6fa25f80df664cfe90a7b2c43bb3da4e": {
      "model_module": "@jupyter-widgets/base",
      "model_module_version": "1.0.0",
      "model_name": "LayoutModel",
      "state": {
       "justify_content": "center"
      }
     },
     "6fbe1a57f910464b839eaf1e080d2649": {
      "model_module": "@jupyter-widgets/controls",
      "model_module_version": "1.2.0",
      "model_name": "VBoxModel",
      "state": {
       "children": [
        "IPY_MODEL_c46359d1363741ed901bf188b49cc0df",
        "IPY_MODEL_66d979fea2214dd88fa1bfafea19433b",
        "IPY_MODEL_3d67b5e5b4df4c54b084425ab6fc2f7b",
        "IPY_MODEL_e1f9875b5fdb47b6934b3e5307bc004c"
       ],
       "layout": "IPY_MODEL_715dbed8ff404859b3234f140ec69360"
      }
     },
     "6fce487dd4c743bc8a03ed0162218845": {
      "model_module": "@jupyter-widgets/base",
      "model_module_version": "1.0.0",
      "model_name": "LayoutModel",
      "state": {}
     },
     "6fdd4159bef74aab93267152088ab9a0": {
      "model_module": "@jupyter-widgets/controls",
      "model_module_version": "1.2.0",
      "model_name": "DescriptionStyleModel",
      "state": {
       "description_width": ""
      }
     },
     "6fe656c66cb54820b814c43ac0e29f3c": {
      "model_module": "@jupyter-widgets/controls",
      "model_module_version": "1.2.0",
      "model_name": "ButtonStyleModel",
      "state": {}
     },
     "70062317057342d38e39aa308695afca": {
      "model_module": "@jupyter-widgets/base",
      "model_module_version": "1.0.0",
      "model_name": "LayoutModel",
      "state": {}
     },
     "7031fb56f6a341ba86b4298665c86558": {
      "model_module": "@jupyter-widgets/base",
      "model_module_version": "1.0.0",
      "model_name": "LayoutModel",
      "state": {}
     },
     "70614c0e0a434229acf152996183c286": {
      "model_module": "@jupyter-widgets/base",
      "model_module_version": "1.0.0",
      "model_name": "LayoutModel",
      "state": {
       "width": "600px"
      }
     },
     "7061506e24634616b8a7a11fdcc0b189": {
      "model_module": "@jupyter-widgets/controls",
      "model_module_version": "1.2.0",
      "model_name": "DropdownModel",
      "state": {
       "_options_labels": [
        "POS",
        "POS+Wort+POS",
        "Wort+POS-Tag",
        " "
       ],
       "index": 2,
       "layout": "IPY_MODEL_053f71ea43d644b4adeba8be088094b5",
       "style": "IPY_MODEL_f995367720134f61a86306b972eff809"
      }
     },
     "7098ecdbaa644eecacaec20a2feaa31b": {
      "model_module": "@jupyter-widgets/base",
      "model_module_version": "1.0.0",
      "model_name": "LayoutModel",
      "state": {
       "width": "250px"
      }
     },
     "70dcbf7e94d7483785bd7be14d83ed32": {
      "model_module": "@jupyter-widgets/base",
      "model_module_version": "1.0.0",
      "model_name": "LayoutModel",
      "state": {
       "justify_content": "center"
      }
     },
     "70e5378a28a244e3b06ffffa346c285a": {
      "model_module": "@jupyter-widgets/controls",
      "model_module_version": "1.2.0",
      "model_name": "DescriptionStyleModel",
      "state": {
       "description_width": "initial"
      }
     },
     "70e69fc5ac6746a9bd35dcd4a0a0aec5": {
      "model_module": "@jupyter-widgets/controls",
      "model_module_version": "1.2.0",
      "model_name": "HBoxModel",
      "state": {
       "children": [
        "IPY_MODEL_b157706263c44fa0bd7bf057c3ef1cfa",
        "IPY_MODEL_c4ee7ef8e6af4e9ead1962f77a18c6ee"
       ],
       "layout": "IPY_MODEL_d7e0617d2cf64c1795c86a464d553abd"
      }
     },
     "715dbed8ff404859b3234f140ec69360": {
      "model_module": "@jupyter-widgets/base",
      "model_module_version": "1.0.0",
      "model_name": "LayoutModel",
      "state": {}
     },
     "716064338d89481f8073d7929e1e3700": {
      "model_module": "@jupyter-widgets/base",
      "model_module_version": "1.0.0",
      "model_name": "LayoutModel",
      "state": {
       "width": "600px"
      }
     },
     "717bea62773d456fa60ae70409c198a6": {
      "model_module": "@jupyter-widgets/controls",
      "model_module_version": "1.2.0",
      "model_name": "DescriptionStyleModel",
      "state": {
       "description_width": ""
      }
     },
     "71d232b1d16b4628b2b915d8c313d86f": {
      "model_module": "@jupyter-widgets/base",
      "model_module_version": "1.0.0",
      "model_name": "LayoutModel",
      "state": {
       "justify_content": "center"
      }
     },
     "71d35e551c444f78a674fff5f2ef322e": {
      "model_module": "@jupyter-widgets/controls",
      "model_module_version": "1.2.0",
      "model_name": "ButtonStyleModel",
      "state": {}
     },
     "71f01fd8420942e6a2a473976da9011e": {
      "model_module": "@jupyter-widgets/base",
      "model_module_version": "1.0.0",
      "model_name": "LayoutModel",
      "state": {
       "width": "150px"
      }
     },
     "7249aaa47e4541b18aec9ce419b15c67": {
      "model_module": "@jupyter-widgets/controls",
      "model_module_version": "1.2.0",
      "model_name": "HBoxModel",
      "state": {
       "children": [
        "IPY_MODEL_c52d8f2c5928424795d2b78088df882e",
        "IPY_MODEL_2e57c37956c34cdaa841818dd3dc0ffb"
       ],
       "layout": "IPY_MODEL_a2aca8518492432282c5b361a4042aa4"
      }
     },
     "727cef572dd74c4095589327755007ed": {
      "model_module": "@jupyter-widgets/controls",
      "model_module_version": "1.2.0",
      "model_name": "DescriptionStyleModel",
      "state": {
       "description_width": ""
      }
     },
     "72810f4279134a3ca33f6070e67f7ea6": {
      "model_module": "@jupyter-widgets/base",
      "model_module_version": "1.0.0",
      "model_name": "LayoutModel",
      "state": {}
     },
     "72846f388f384b75a775734aee934eb7": {
      "model_module": "@jupyter-widgets/base",
      "model_module_version": "1.0.0",
      "model_name": "LayoutModel",
      "state": {}
     },
     "729409b8ef924321998819a4b1329dd1": {
      "model_module": "@jupyter-widgets/controls",
      "model_module_version": "1.2.0",
      "model_name": "ButtonModel",
      "state": {
       "description": "Wortfolge",
       "layout": "IPY_MODEL_2f467191e00c4f14b7092674a3827bea",
       "style": "IPY_MODEL_fddbdcb65019461884567d89f2612d23"
      }
     },
     "729a314fe55a455ca41142e8c9af7dbd": {
      "model_module": "@jupyter-widgets/controls",
      "model_module_version": "1.2.0",
      "model_name": "DescriptionStyleModel",
      "state": {
       "description_width": "initial"
      }
     },
     "72ac456ce9aa48fe88951265d6907fa3": {
      "model_module": "@jupyter-widgets/controls",
      "model_module_version": "1.2.0",
      "model_name": "ButtonModel",
      "state": {
       "description": "Korrekt?",
       "layout": "IPY_MODEL_f1f00b6ea53747eb87f581e99b09ba03",
       "style": "IPY_MODEL_8f6caeb3185a471783086d3a1197e041"
      }
     },
     "72da4c153f1d49d2a0bca9b74961aa3b": {
      "model_module": "@jupyter-widgets/base",
      "model_module_version": "1.0.0",
      "model_name": "LayoutModel",
      "state": {}
     },
     "72f45d3a409b4051ba6aee0d64816d1e": {
      "model_module": "@jupyter-widgets/controls",
      "model_module_version": "1.2.0",
      "model_name": "ButtonStyleModel",
      "state": {}
     },
     "730e7459aca74840877a262a096b9c00": {
      "model_module": "@jupyter-widgets/base",
      "model_module_version": "1.0.0",
      "model_name": "LayoutModel",
      "state": {
       "width": "250px"
      }
     },
     "740adba1d1d14cda93b197ae6c69afb4": {
      "model_module": "@jupyter-widgets/controls",
      "model_module_version": "1.2.0",
      "model_name": "ButtonStyleModel",
      "state": {}
     },
     "740ef1dfc19e48aebc42c095a1729921": {
      "model_module": "@jupyter-widgets/controls",
      "model_module_version": "1.2.0",
      "model_name": "ButtonStyleModel",
      "state": {}
     },
     "743d1441da76489c98c40ff4e06ede73": {
      "model_module": "@jupyter-widgets/base",
      "model_module_version": "1.0.0",
      "model_name": "LayoutModel",
      "state": {
       "width": "150px"
      }
     },
     "74bdd302737d495285d0532f476a80f9": {
      "model_module": "@jupyter-widgets/base",
      "model_module_version": "1.0.0",
      "model_name": "LayoutModel",
      "state": {
       "width": "250px"
      }
     },
     "74cdecc7e26043e298931f503c052d05": {
      "model_module": "@jupyter-widgets/controls",
      "model_module_version": "1.2.0",
      "model_name": "CheckboxModel",
      "state": {
       "description": "gleiche syntagmatische Position",
       "disabled": false,
       "layout": "IPY_MODEL_4847af4dd1374f229c575182dcb9f236",
       "style": "IPY_MODEL_e3918b94ada440189028a59d39b7bbe4",
       "value": false
      }
     },
     "74deb9fac64244249df55707f7c097a5": {
      "model_module": "@jupyter-widgets/base",
      "model_module_version": "1.0.0",
      "model_name": "LayoutModel",
      "state": {
       "width": "250px"
      }
     },
     "74f85f6f60054543b726bd4571d7ddb8": {
      "model_module": "@jupyter-widgets/controls",
      "model_module_version": "1.2.0",
      "model_name": "ButtonStyleModel",
      "state": {}
     },
     "74fe1abecfd84447913cc44614e6fbe8": {
      "model_module": "@jupyter-widgets/base",
      "model_module_version": "1.0.0",
      "model_name": "LayoutModel",
      "state": {}
     },
     "74ffc37fa7ef407492d5e337ef257e57": {
      "model_module": "@jupyter-widgets/controls",
      "model_module_version": "1.2.0",
      "model_name": "DescriptionStyleModel",
      "state": {
       "description_width": "initial"
      }
     },
     "7522e8280e36402991fef6dc90019b19": {
      "model_module": "@jupyter-widgets/controls",
      "model_module_version": "1.2.0",
      "model_name": "HTMLModel",
      "state": {
       "layout": "IPY_MODEL_b129ef6962164cefaa2569a345398217",
       "style": "IPY_MODEL_32a9392df34c4ab78f78e01b0d66bbf1",
       "value": "<h4 style=\"font-size:14px;\">Welche Eigenschaften hat <i>gerne</i> in Satz 1?</h4>"
      }
     },
     "756d2353e8c7417e948e751cde7aac33": {
      "model_module": "@jupyter-widgets/controls",
      "model_module_version": "1.2.0",
      "model_name": "ButtonModel",
      "state": {
       "description": "Korrekt?",
       "layout": "IPY_MODEL_b291b987a2d24c2d82e47a0d9d8f8529",
       "style": "IPY_MODEL_fb4c6152805341a48133735398919e99"
      }
     },
     "7576eb3ffb86419d87073c92c28316fb": {
      "model_module": "@jupyter-widgets/controls",
      "model_module_version": "1.2.0",
      "model_name": "ButtonStyleModel",
      "state": {}
     },
     "758ad791cf4645e3ac5fe909131b1636": {
      "model_module": "@jupyter-widgets/controls",
      "model_module_version": "1.2.0",
      "model_name": "VBoxModel",
      "state": {
       "children": [
        "IPY_MODEL_382912b249af48ffa102158b9548b2f5",
        "IPY_MODEL_ce705682e78b4d3799842531905a568f",
        "IPY_MODEL_c52d9480bdd445f48bf7860b8148fd09",
        "IPY_MODEL_a6f8ee993dee400d8b52cba737e9f3c8"
       ],
       "layout": "IPY_MODEL_05abb530f2e14467924585b23dd9edbe"
      }
     },
     "75a9e79f7f7e490e8a27bfa52988d344": {
      "model_module": "@jupyter-widgets/controls",
      "model_module_version": "1.2.0",
      "model_name": "ButtonModel",
      "state": {
       "description": "Keine der anderen Möglichkeiten",
       "layout": "IPY_MODEL_905f3253ccf74c009369a48f595401b4",
       "style": "IPY_MODEL_fe1c5927f30d4347b4c944bb2588115d"
      }
     },
     "75e4748908974e9ba2d5c9d9ebd529fa": {
      "model_module": "@jupyter-widgets/base",
      "model_module_version": "1.0.0",
      "model_name": "LayoutModel",
      "state": {}
     },
     "75efb3ee219040d7b52ca31563f5a3b6": {
      "model_module": "@jupyter-widgets/controls",
      "model_module_version": "1.2.0",
      "model_name": "CheckboxModel",
      "state": {
       "description": "Koordinationstest",
       "disabled": false,
       "layout": "IPY_MODEL_78c5e84de3d34018ad0d3c606cd8fb13",
       "style": "IPY_MODEL_70e5378a28a244e3b06ffffa346c285a",
       "value": false
      }
     },
     "75f44d7a4b1c421da7df16d0710147e2": {
      "model_module": "@jupyter-widgets/controls",
      "model_module_version": "1.2.0",
      "model_name": "DescriptionStyleModel",
      "state": {
       "description_width": ""
      }
     },
     "760a3211d9424674a8278c40e795cbb6": {
      "model_module": "@jupyter-widgets/controls",
      "model_module_version": "1.2.0",
      "model_name": "DescriptionStyleModel",
      "state": {
       "description_width": "initial"
      }
     },
     "7622924ec506460fb72b509668ac4147": {
      "model_module": "@jupyter-widgets/controls",
      "model_module_version": "1.2.0",
      "model_name": "ButtonStyleModel",
      "state": {}
     },
     "7655c7086b1f43ae87772f3df0dcd5c5": {
      "model_module": "@jupyter-widgets/base",
      "model_module_version": "1.0.0",
      "model_name": "LayoutModel",
      "state": {
       "justify_content": "center"
      }
     },
     "768ca528220e42e2bf8a81fbf63a8541": {
      "model_module": "@jupyter-widgets/base",
      "model_module_version": "1.0.0",
      "model_name": "LayoutModel",
      "state": {
       "align_content": "stretch",
       "align_items": "stretch",
       "display": "inline-flex",
       "flex": "flex-grow",
       "flex_flow": "row wrap",
       "justify_content": "flex-start"
      }
     },
     "76a0b0f5db944610a15c3449b724af14": {
      "model_module": "@jupyter-widgets/base",
      "model_module_version": "1.0.0",
      "model_name": "LayoutModel",
      "state": {
       "width": "500px"
      }
     },
     "76b90314d1a943faa8ea8d066af0e960": {
      "model_module": "@jupyter-widgets/controls",
      "model_module_version": "1.2.0",
      "model_name": "VBoxModel",
      "state": {
       "children": [
        "IPY_MODEL_fafc2b16df8c41ef9a492f7ac253eac3",
        "IPY_MODEL_48f03e2e8c4e47ceb9364656a9546a5c",
        "IPY_MODEL_ea66d2bad49b4386b49cd6e88e8abf35",
        "IPY_MODEL_0d56cbf5746547338ce9865fc29d0cf0"
       ],
       "layout": "IPY_MODEL_35b0676c854c4237be16bc1264d26880"
      }
     },
     "76c22f475ed7495ca6d7640676b9b4e5": {
      "model_module": "@jupyter-widgets/base",
      "model_module_version": "1.0.0",
      "model_name": "LayoutModel",
      "state": {
       "width": "150px"
      }
     },
     "76d9e2edd04e4cf0b2868b805d42f7db": {
      "model_module": "@jupyter-widgets/controls",
      "model_module_version": "1.2.0",
      "model_name": "ButtonStyleModel",
      "state": {}
     },
     "7743cdbd81f44d08a15d4394f8753a1e": {
      "model_module": "@jupyter-widgets/controls",
      "model_module_version": "1.2.0",
      "model_name": "CheckboxModel",
      "state": {
       "description": "Flexionstyp",
       "disabled": false,
       "layout": "IPY_MODEL_ebf567cfd92f4900ada24526811e0576",
       "style": "IPY_MODEL_246dcadb6e874e9b9c0f1d54884dfd31",
       "value": false
      }
     },
     "77f7a86d48a94baf9988a44b85a9c276": {
      "model_module": "@jupyter-widgets/controls",
      "model_module_version": "1.2.0",
      "model_name": "DescriptionStyleModel",
      "state": {
       "description_width": ""
      }
     },
     "7847e6c7707d4690ac00d541f63510ab": {
      "model_module": "@jupyter-widgets/base",
      "model_module_version": "1.0.0",
      "model_name": "LayoutModel",
      "state": {
       "width": "600px"
      }
     },
     "78760654130e4711b31ea8159b906575": {
      "model_module": "@jupyter-widgets/controls",
      "model_module_version": "1.2.0",
      "model_name": "DropdownModel",
      "state": {
       "_options_labels": [
        "kürzeren",
        "längeren",
        " "
       ],
       "index": 2,
       "layout": "IPY_MODEL_71f01fd8420942e6a2a473976da9011e",
       "style": "IPY_MODEL_4ece0852c08544cab4c6f8dd260982ce"
      }
     },
     "78c5e84de3d34018ad0d3c606cd8fb13": {
      "model_module": "@jupyter-widgets/base",
      "model_module_version": "1.0.0",
      "model_name": "LayoutModel",
      "state": {
       "width": "600px"
      }
     },
     "78ca958f45c44986b7add71ed13a451a": {
      "model_module": "@jupyter-widgets/base",
      "model_module_version": "1.0.0",
      "model_name": "LayoutModel",
      "state": {
       "width": "250px"
      }
     },
     "7938c49fe2ef44b0996df8d02c133b6c": {
      "model_module": "@jupyter-widgets/controls",
      "model_module_version": "1.2.0",
      "model_name": "HTMLModel",
      "state": {
       "layout": "IPY_MODEL_619be2329f98424a8f80ca0d98f88191",
       "style": "IPY_MODEL_f0c29bde4afb45c6a728e3848d7a3797",
       "value": "<h4 style=\"font-size:14px;\">Was ist der Input eines Part-of-Speech-Taggers?</h4>"
      }
     },
     "7a015c724de54480b1b70414b7d0e4a8": {
      "model_module": "@jupyter-widgets/base",
      "model_module_version": "1.0.0",
      "model_name": "LayoutModel",
      "state": {
       "justify_content": "center"
      }
     },
     "7a055aaa20b74fb3a6d2aa7ca2f9dfc4": {
      "model_module": "@jupyter-widgets/controls",
      "model_module_version": "1.2.0",
      "model_name": "HTMLModel",
      "state": {
       "layout": "IPY_MODEL_a9d1071c794548e7b4ec7c2330492715",
       "style": "IPY_MODEL_57224642c41c4effa771b36f8ca613d3",
       "value": "<h4 style=\"font-size:14px;\">Ersetzbarkeit einer</h4>"
      }
     },
     "7a5fe69fd1ba49e39fea9378f190a0ca": {
      "model_module": "@jupyter-widgets/controls",
      "model_module_version": "1.2.0",
      "model_name": "VBoxModel",
      "state": {
       "children": [
        "IPY_MODEL_b834d0a56fea4f83852f343c3c2c786a",
        "IPY_MODEL_d880352667df49e2a4e8d0b70862edd5",
        "IPY_MODEL_be8e94cd4ed9432b81bed13a0bbbe91a",
        "IPY_MODEL_97c669e4a4ef4e4d8f60946be1edd3d2"
       ],
       "layout": "IPY_MODEL_a95d81bb3b3643a0ab3b2b0da2f8c396"
      }
     },
     "7a617b2f7d7d483a995ad1bd56662b2f": {
      "model_module": "@jupyter-widgets/base",
      "model_module_version": "1.0.0",
      "model_name": "LayoutModel",
      "state": {}
     },
     "7a69880c7e45446fa45cdcacddd5282e": {
      "model_module": "@jupyter-widgets/controls",
      "model_module_version": "1.2.0",
      "model_name": "DescriptionStyleModel",
      "state": {
       "description_width": ""
      }
     },
     "7a8885312ffb496f9d652cae611266be": {
      "model_module": "@jupyter-widgets/base",
      "model_module_version": "1.0.0",
      "model_name": "LayoutModel",
      "state": {
       "width": "600px"
      }
     },
     "7ae61c39035042bb92d41ba391d33fde": {
      "model_module": "@jupyter-widgets/controls",
      "model_module_version": "1.2.0",
      "model_name": "HTMLModel",
      "state": {
       "layout": "IPY_MODEL_dc1a7f0fc43d46b4afb005de316bf4bf",
       "style": "IPY_MODEL_8ca934535ca44372a680e4741fb46fa0",
       "value": "<h4 style=\"font-size:14px;\">Was leistet die Funktion <code>nltk.similar()</code>?</h4>"
      }
     },
     "7b19a28c40d6438c8e705d9fdcea8aad": {
      "model_module": "@jupyter-widgets/controls",
      "model_module_version": "1.2.0",
      "model_name": "DescriptionStyleModel",
      "state": {
       "description_width": ""
      }
     },
     "7b35cc3bba5443c8b8eebe407ea53811": {
      "model_module": "@jupyter-widgets/base",
      "model_module_version": "1.0.0",
      "model_name": "LayoutModel",
      "state": {
       "justify_content": "center"
      }
     },
     "7b5055db41bb4469b37f5d143e7db016": {
      "model_module": "@jupyter-widgets/controls",
      "model_module_version": "1.2.0",
      "model_name": "ButtonModel",
      "state": {
       "description": "past participle",
       "layout": "IPY_MODEL_5e8e8cd05b0940399c8fe87f722928c9",
       "style": "IPY_MODEL_1413797b1a354be3b82fe7d9605edba7"
      }
     },
     "7bec3c970c3e44cdb9e4d37e2c85ae61": {
      "model_module": "@jupyter-widgets/controls",
      "model_module_version": "1.2.0",
      "model_name": "HTMLModel",
      "state": {
       "layout": "IPY_MODEL_6a509eb142084f44bc269bbf4bcc802b",
       "style": "IPY_MODEL_9f01fb2cefd14f028a1b01c5b50727c9",
       "value": "<h4 style=\"font-size:14px;\">Welcher ist der richtig permutierte Satz?</h4>"
      }
     },
     "7c1eabb5218e439d8eb32db1eec68a32": {
      "model_module": "@jupyter-widgets/controls",
      "model_module_version": "1.2.0",
      "model_name": "ButtonStyleModel",
      "state": {}
     },
     "7c5ba817c45142ab90cbf6d98118c12d": {
      "model_module": "@jupyter-widgets/controls",
      "model_module_version": "1.2.0",
      "model_name": "DropdownModel",
      "state": {
       "_options_labels": [
        "kürzere",
        "längere",
        " "
       ],
       "index": 2,
       "layout": "IPY_MODEL_d4ce864f1b0d4639b068a712665aaa5e",
       "style": "IPY_MODEL_7c9c95db7e894805a0f9296376e1388a"
      }
     },
     "7c9c95db7e894805a0f9296376e1388a": {
      "model_module": "@jupyter-widgets/controls",
      "model_module_version": "1.2.0",
      "model_name": "DescriptionStyleModel",
      "state": {
       "description_width": ""
      }
     },
     "7ca602bb3bc2489198555e95054e57a4": {
      "model_module": "@jupyter-widgets/controls",
      "model_module_version": "1.2.0",
      "model_name": "HTMLModel",
      "state": {
       "layout": "IPY_MODEL_40addfbe80ad4f619d193ba65efbd0a9",
       "style": "IPY_MODEL_61309ee3918a4d918f236bbf8b8b63ea",
       "value": "<h4 style=\"font-size:14px;\">Was bedeutet das Tag <i>VB</i> im Browntagset (siehe 5.7)?</h4>"
      }
     },
     "7cf095a3e2a94606b24ddf04e18b26ff": {
      "model_module": "@jupyter-widgets/controls",
      "model_module_version": "1.2.0",
      "model_name": "HBoxModel",
      "state": {
       "children": [
        "IPY_MODEL_c5436002275e488881522195d5064c43"
       ],
       "layout": "IPY_MODEL_74fe1abecfd84447913cc44614e6fbe8"
      }
     },
     "7d7984507546449781a1f1290a0a03a7": {
      "model_module": "@jupyter-widgets/controls",
      "model_module_version": "1.2.0",
      "model_name": "VBoxModel",
      "state": {
       "children": [
        "IPY_MODEL_d343582035444caaa376fb6b98c97aef",
        "IPY_MODEL_8b38b9db9e02485ca263892135ed6881",
        "IPY_MODEL_5b396dade7874acea91e06bd57012338",
        "IPY_MODEL_26d36400814f4f98a5dec22022caa81c",
        "IPY_MODEL_07be5884405240a890e79c34a0ea27c0"
       ],
       "layout": "IPY_MODEL_365f80064be6488abbfcc62e359690c2"
      }
     },
     "7d8389e78d624545b4b8cff17780f7b9": {
      "model_module": "@jupyter-widgets/controls",
      "model_module_version": "1.2.0",
      "model_name": "DescriptionStyleModel",
      "state": {
       "description_width": ""
      }
     },
     "7d8f57c240534cfc893bf5e2e52a57c5": {
      "model_module": "@jupyter-widgets/controls",
      "model_module_version": "1.2.0",
      "model_name": "ButtonModel",
      "state": {
       "description": "3rd singular present",
       "layout": "IPY_MODEL_3552a1f982264443b3c212cb7f6c394e",
       "style": "IPY_MODEL_740ef1dfc19e48aebc42c095a1729921"
      }
     },
     "7dde43142dc64faab04108b367b11b3b": {
      "model_module": "@jupyter-widgets/controls",
      "model_module_version": "1.2.0",
      "model_name": "ButtonModel",
      "state": {
       "description": "gerund",
       "layout": "IPY_MODEL_2ee1dc4cc2bc45d181c19e5168e622bb",
       "style": "IPY_MODEL_b513a7c9c1e64914ba7842310763b871"
      }
     },
     "7decc960d1cd4ef9b1dd92d2a8432da9": {
      "model_module": "@jupyter-widgets/base",
      "model_module_version": "1.0.0",
      "model_name": "LayoutModel",
      "state": {
       "justify_content": "center"
      }
     },
     "7df7377f258a4c68bf0c5a03a1646f45": {
      "model_module": "@jupyter-widgets/base",
      "model_module_version": "1.0.0",
      "model_name": "LayoutModel",
      "state": {
       "width": "600px"
      }
     },
     "7e19c56926d5407996a1c9e54fe29887": {
      "model_module": "@jupyter-widgets/controls",
      "model_module_version": "1.2.0",
      "model_name": "HTMLModel",
      "state": {
       "layout": "IPY_MODEL_f6bc3c2bc2c54f77afd1fafdefeb238d",
       "style": "IPY_MODEL_1e9e923f86314de4bad395999c210883",
       "value": "<h4 style=\"font-size:14px;\">Welche Eigenschaften hat <i>gut</i> in Satz 2?</h4>"
      }
     },
     "7e291a1e22454ccfa7f8b8d560f2c7d1": {
      "model_module": "@jupyter-widgets/controls",
      "model_module_version": "1.2.0",
      "model_name": "CheckboxModel",
      "state": {
       "description": "Zu einem Wort werden alle Wörter gefunden, die in gleichen Kontexten vorkommen.",
       "disabled": false,
       "layout": "IPY_MODEL_b9937fa91c7f475e9424295c46b2122c",
       "style": "IPY_MODEL_a5c837b55b5f4a22a09678244d51d6fe",
       "value": false
      }
     },
     "7e2d8b04007d4013b0f15ba5137558f9": {
      "model_module": "@jupyter-widgets/base",
      "model_module_version": "1.0.0",
      "model_name": "LayoutModel",
      "state": {
       "justify_content": "center"
      }
     },
     "7e30023dcc7148da9ade46900f852516": {
      "model_module": "@jupyter-widgets/controls",
      "model_module_version": "1.2.0",
      "model_name": "DescriptionStyleModel",
      "state": {
       "description_width": ""
      }
     },
     "7e4c86e140074d8f98cef80c86ee5bf0": {
      "model_module": "@jupyter-widgets/controls",
      "model_module_version": "1.2.0",
      "model_name": "VBoxModel",
      "state": {
       "children": [
        "IPY_MODEL_7e19c56926d5407996a1c9e54fe29887",
        "IPY_MODEL_2ed10ad49beb4f27bca91beec4d005d6",
        "IPY_MODEL_b32d3303f8a24a74bbafd8e8264a4b28",
        "IPY_MODEL_04355424eb3d408a9467f1ae6f2a4320"
       ],
       "layout": "IPY_MODEL_1b7f12e232164c52bacaa48274f7a9ac"
      }
     },
     "7e610a41fc744a7dadc188120830d0a4": {
      "model_module": "@jupyter-widgets/controls",
      "model_module_version": "1.2.0",
      "model_name": "CheckboxModel",
      "state": {
       "description": "Es ist flektierbar.",
       "disabled": false,
       "layout": "IPY_MODEL_fe67e792901e47bbb3c8bd78ec3d471d",
       "style": "IPY_MODEL_2a445f211bfc47ebae5ad7b0051f56a6",
       "value": false
      }
     },
     "7e8c1e60d34f41c987e630b15ad17130": {
      "model_module": "@jupyter-widgets/base",
      "model_module_version": "1.0.0",
      "model_name": "LayoutModel",
      "state": {
       "width": "250px"
      }
     },
     "7ea78d13517f4cfebb9d4b4dde2a52cf": {
      "model_module": "@jupyter-widgets/base",
      "model_module_version": "1.0.0",
      "model_name": "LayoutModel",
      "state": {}
     },
     "7ed22a851cda40a1a79dfdb92a54647d": {
      "model_module": "@jupyter-widgets/controls",
      "model_module_version": "1.2.0",
      "model_name": "ButtonModel",
      "state": {
       "description": "Korrekt?",
       "layout": "IPY_MODEL_7e8c1e60d34f41c987e630b15ad17130",
       "style": "IPY_MODEL_bd072645503549c4885ac54a10e7abef"
      }
     },
     "7f45428e8a844aaebf9b3a48d36cd17e": {
      "model_module": "@jupyter-widgets/base",
      "model_module_version": "1.0.0",
      "model_name": "LayoutModel",
      "state": {}
     },
     "7f512e42c42f423db7e3e69151cfdcb5": {
      "model_module": "@jupyter-widgets/base",
      "model_module_version": "1.0.0",
      "model_name": "LayoutModel",
      "state": {
       "width": "250px"
      }
     },
     "7f8e5f0269094c408de5a5c32731d37e": {
      "model_module": "@jupyter-widgets/controls",
      "model_module_version": "1.2.0",
      "model_name": "ButtonStyleModel",
      "state": {}
     },
     "7f944004cc7744df8e74182a339a8ef5": {
      "model_module": "@jupyter-widgets/base",
      "model_module_version": "1.0.0",
      "model_name": "LayoutModel",
      "state": {
       "width": "250px"
      }
     },
     "8012723aadfd468a9ead9b89cc9bb698": {
      "model_module": "@jupyter-widgets/controls",
      "model_module_version": "1.2.0",
      "model_name": "ButtonStyleModel",
      "state": {}
     },
     "80520c24c67a4ba281ac03b2a06b2d97": {
      "model_module": "@jupyter-widgets/controls",
      "model_module_version": "1.2.0",
      "model_name": "HTMLModel",
      "state": {
       "layout": "IPY_MODEL_4edd7ab4038e4a61a133abd686f85a8d",
       "style": "IPY_MODEL_64ad3e4da37343bc80da9e9c1aa7f2b4",
       "value": "<i>Markieren Sie <ins>alle</ins> passenden Antworten: </i>"
      }
     },
     "80a01342a7904f09b9ecc0795b351ae4": {
      "model_module": "@jupyter-widgets/base",
      "model_module_version": "1.0.0",
      "model_name": "LayoutModel",
      "state": {}
     },
     "811697936d034c2d98f21ebc3da1f973": {
      "model_module": "@jupyter-widgets/base",
      "model_module_version": "1.0.0",
      "model_name": "LayoutModel",
      "state": {
       "width": "500px"
      }
     },
     "813b9ca890fe40839431febed5a2787f": {
      "model_module": "@jupyter-widgets/controls",
      "model_module_version": "1.2.0",
      "model_name": "ButtonModel",
      "state": {
       "description": "simple past",
       "layout": "IPY_MODEL_e920dd9f3c46491faf0f96eb50823103",
       "style": "IPY_MODEL_9734f755820140c89acc6b79d8e55237"
      }
     },
     "817916bd25eb48be99314d869cb8e445": {
      "model_module": "@jupyter-widgets/controls",
      "model_module_version": "1.2.0",
      "model_name": "HBoxModel",
      "state": {
       "children": [
        "IPY_MODEL_93eca29746934f2792b5ac8abc65bc40",
        "IPY_MODEL_c64399322cb646a69c78599384670f44"
       ],
       "layout": "IPY_MODEL_60ce2ed4cdad48c8b8e7295b373fce61"
      }
     },
     "818af010ac324249bfe38ce53ea1198e": {
      "model_module": "@jupyter-widgets/base",
      "model_module_version": "1.0.0",
      "model_name": "LayoutModel",
      "state": {
       "width": "600px"
      }
     },
     "81af7728b5d64833b16080914f22fc3d": {
      "model_module": "@jupyter-widgets/base",
      "model_module_version": "1.0.0",
      "model_name": "LayoutModel",
      "state": {}
     },
     "81dfefc84ec8479d99d959aebeaf5fc6": {
      "model_module": "@jupyter-widgets/controls",
      "model_module_version": "1.2.0",
      "model_name": "VBoxModel",
      "state": {
       "children": [
        "IPY_MODEL_d93d900ff5ae4fbf87cf1ed200b48ba8",
        "IPY_MODEL_cc3ff8213e8145baab83935abdb593ee",
        "IPY_MODEL_a8c505d8e4814e1cb21345836c44a05e"
       ],
       "layout": "IPY_MODEL_ddeb733c6f5a4983bd62d23d69f79d73"
      }
     },
     "81e0e28c7aba49538a99087446cbddd0": {
      "model_module": "@jupyter-widgets/controls",
      "model_module_version": "1.2.0",
      "model_name": "HTMLModel",
      "state": {
       "layout": "IPY_MODEL_5c3544788ee14b86bca8f03064960c45",
       "style": "IPY_MODEL_e2fe23fba3e04c1face022eca228e126",
       "value": "<h4 style=\"font-size:14px;\">Was bedeutet das Tag <i>VBG</i> im Browntagset (siehe 5.7)?</h4>"
      }
     },
     "81e6f6494f5f4fe4ae77948502d69093": {
      "model_module": "@jupyter-widgets/base",
      "model_module_version": "1.0.0",
      "model_name": "LayoutModel",
      "state": {}
     },
     "8207b3c6e8d943a1bf75ab508aa7871f": {
      "model_module": "@jupyter-widgets/base",
      "model_module_version": "1.0.0",
      "model_name": "LayoutModel",
      "state": {}
     },
     "8216ed132bc34f85ab59018d7758a2d6": {
      "model_module": "@jupyter-widgets/controls",
      "model_module_version": "1.2.0",
      "model_name": "DescriptionStyleModel",
      "state": {
       "description_width": ""
      }
     },
     "822e0cf01df146ff93569374ad0fb5f6": {
      "model_module": "@jupyter-widgets/base",
      "model_module_version": "1.0.0",
      "model_name": "LayoutModel",
      "state": {}
     },
     "8249ba5284c1435496773913892bf36c": {
      "model_module": "@jupyter-widgets/controls",
      "model_module_version": "1.2.0",
      "model_name": "DescriptionStyleModel",
      "state": {
       "description_width": ""
      }
     },
     "826977c7b3354fc790fbd53a1ee7d8f4": {
      "model_module": "@jupyter-widgets/controls",
      "model_module_version": "1.2.0",
      "model_name": "ButtonModel",
      "state": {
       "description": "Adverb",
       "layout": "IPY_MODEL_5400ace1c5b94807bc58223754d9b638",
       "style": "IPY_MODEL_efbd4bb72b734f6db35c633742b16863"
      }
     },
     "8292d7e466014593be41031bd345fc3d": {
      "model_module": "@jupyter-widgets/controls",
      "model_module_version": "1.2.0",
      "model_name": "DescriptionStyleModel",
      "state": {
       "description_width": ""
      }
     },
     "82a456f6008247dbb2234cf086c24961": {
      "model_module": "@jupyter-widgets/base",
      "model_module_version": "1.0.0",
      "model_name": "LayoutModel",
      "state": {}
     },
     "82a4c4995fe545de85bb1986d8df5c2d": {
      "model_module": "@jupyter-widgets/controls",
      "model_module_version": "1.2.0",
      "model_name": "ButtonModel",
      "state": {
       "description": "base",
       "layout": "IPY_MODEL_a9c7bd67b32a44dd938372d3a52e6a78",
       "style": "IPY_MODEL_37fcd832afe5493fab69033b045b4b56"
      }
     },
     "82c36ccbc2ff4651872bee5c57ff964b": {
      "model_module": "@jupyter-widgets/controls",
      "model_module_version": "1.2.0",
      "model_name": "DescriptionStyleModel",
      "state": {
       "description_width": "initial"
      }
     },
     "82fcf0e6e3be4e78b72a14c93f722038": {
      "model_module": "@jupyter-widgets/base",
      "model_module_version": "1.0.0",
      "model_name": "LayoutModel",
      "state": {
       "width": "600px"
      }
     },
     "83466017edd64d389d4731137a8751e9": {
      "model_module": "@jupyter-widgets/base",
      "model_module_version": "1.0.0",
      "model_name": "LayoutModel",
      "state": {
       "justify_content": "center"
      }
     },
     "835dee16415a40eb8cdb8c4f2da64e27": {
      "model_module": "@jupyter-widgets/controls",
      "model_module_version": "1.2.0",
      "model_name": "HTMLModel",
      "state": {
       "layout": "IPY_MODEL_9fcf5f0fe09f486aa4302a1908ffd9d3",
       "style": "IPY_MODEL_f7c4782dad9544e89915214dbcb4be4e",
       "value": "<h4 style=\"font-size:14px;\">Was sind syntaktische Kriterien für Wortkategorien?</h4>"
      }
     },
     "8378185547654bd2b397364f365aef91": {
      "model_module": "@jupyter-widgets/controls",
      "model_module_version": "1.2.0",
      "model_name": "ButtonModel",
      "state": {
       "description": "simple past",
       "layout": "IPY_MODEL_bc22d83986764c6a83f58e4c705780cc",
       "style": "IPY_MODEL_cdf71405f08d4656bd8833922ca13f5b"
      }
     },
     "839e63cc59b14fd18624a5a27c8f4b2e": {
      "model_module": "@jupyter-widgets/controls",
      "model_module_version": "1.2.0",
      "model_name": "DescriptionStyleModel",
      "state": {
       "description_width": "initial"
      }
     },
     "83b8962aa53c42b2a4166eb6877cb469": {
      "model_module": "@jupyter-widgets/base",
      "model_module_version": "1.0.0",
      "model_name": "LayoutModel",
      "state": {
       "width": "250px"
      }
     },
     "83ce9b7f611148a186e22119407eeee9": {
      "model_module": "@jupyter-widgets/base",
      "model_module_version": "1.0.0",
      "model_name": "LayoutModel",
      "state": {
       "align_content": "stretch",
       "align_items": "stretch",
       "display": "inline-flex",
       "flex": "flex-grow",
       "flex_flow": "row wrap",
       "justify_content": "flex-start"
      }
     },
     "840b03b0a8ad4dc899d06f0d6e8cd4dc": {
      "model_module": "@jupyter-widgets/base",
      "model_module_version": "1.0.0",
      "model_name": "LayoutModel",
      "state": {
       "justify_content": "center"
      }
     },
     "84103458bcd2455195bad5d6303063c7": {
      "model_module": "@jupyter-widgets/controls",
      "model_module_version": "1.2.0",
      "model_name": "VBoxModel",
      "state": {
       "children": [
        "IPY_MODEL_98efe91024454247a8f4feaef739101e",
        "IPY_MODEL_1de99ae5de9c4452a736351cd1a05ce1",
        "IPY_MODEL_f25d970471e147c484ae0b30185113c2",
        "IPY_MODEL_cbe131fd31d942e98b0228af00322c71"
       ],
       "layout": "IPY_MODEL_cfcf7e7424544566bd9c45034c1f9c6e"
      }
     },
     "842799e4023a4fddbb34b1e1640a73e2": {
      "model_module": "@jupyter-widgets/controls",
      "model_module_version": "1.2.0",
      "model_name": "DescriptionStyleModel",
      "state": {
       "description_width": ""
      }
     },
     "846a08b570934c1eae289a3a5e483d17": {
      "model_module": "@jupyter-widgets/controls",
      "model_module_version": "1.2.0",
      "model_name": "HTMLModel",
      "state": {
       "layout": "IPY_MODEL_8628a6808ea0454f80cbb15b196202b0",
       "style": "IPY_MODEL_ec4841055f5444abbe5fe41d263edfe0",
       "value": "<i>Wählen Sie die <ins>eine</ins> korrekte Antwort aus: </i>"
      }
     },
     "84a34018ab554a4994f0c75de53c8929": {
      "model_module": "@jupyter-widgets/controls",
      "model_module_version": "1.2.0",
      "model_name": "HBoxModel",
      "state": {
       "children": [
        "IPY_MODEL_3507080015a54d729971fd7bbc04ce00"
       ],
       "layout": "IPY_MODEL_943fdf5d6357480980f9bace87b72a38"
      }
     },
     "84b642c8634b428b965a2a9cdef2db56": {
      "model_module": "@jupyter-widgets/controls",
      "model_module_version": "1.2.0",
      "model_name": "ButtonModel",
      "state": {
       "description": "base",
       "layout": "IPY_MODEL_cb584be6e2084ddb85044117b3f2c49e",
       "style": "IPY_MODEL_6b26e38d5c2f40acb5145265ea2f6cce"
      }
     },
     "84c9a07f50494bddb7b0090d1932163c": {
      "model_module": "@jupyter-widgets/controls",
      "model_module_version": "1.2.0",
      "model_name": "HBoxModel",
      "state": {
       "children": [
        "IPY_MODEL_006c7d3505c54186acdbe61c47f88772"
       ],
       "layout": "IPY_MODEL_ab9f962835de478d90b1d940d1a3e2de"
      }
     },
     "852609a3877840c9ad39c48896c5885c": {
      "model_module": "@jupyter-widgets/base",
      "model_module_version": "1.0.0",
      "model_name": "LayoutModel",
      "state": {
       "justify_content": "center"
      }
     },
     "855ee8c5c933415eae8beff736888c29": {
      "model_module": "@jupyter-widgets/base",
      "model_module_version": "1.0.0",
      "model_name": "LayoutModel",
      "state": {
       "width": "600px"
      }
     },
     "85634c894b4f46ecb63b28f20f3b7a34": {
      "model_module": "@jupyter-widgets/controls",
      "model_module_version": "1.2.0",
      "model_name": "ButtonModel",
      "state": {
       "description": "Korrekt?",
       "layout": "IPY_MODEL_187dbd60c5ec4ef48a3555baf56931e2",
       "style": "IPY_MODEL_d271767189d844d8ae6cc2f1342f72d1"
      }
     },
     "857523771127459aaca88662e285a953": {
      "model_module": "@jupyter-widgets/base",
      "model_module_version": "1.0.0",
      "model_name": "LayoutModel",
      "state": {
       "width": "250px"
      }
     },
     "85913090b4ec4ab995ea77e0b01b23b9": {
      "model_module": "@jupyter-widgets/base",
      "model_module_version": "1.0.0",
      "model_name": "LayoutModel",
      "state": {}
     },
     "85a35a669c6c4a95b5fd355826180a66": {
      "model_module": "@jupyter-widgets/controls",
      "model_module_version": "1.2.0",
      "model_name": "DescriptionStyleModel",
      "state": {
       "description_width": ""
      }
     },
     "85c87f052fd84ce6b0f739e67b29399e": {
      "model_module": "@jupyter-widgets/base",
      "model_module_version": "1.0.0",
      "model_name": "LayoutModel",
      "state": {}
     },
     "8628a6808ea0454f80cbb15b196202b0": {
      "model_module": "@jupyter-widgets/base",
      "model_module_version": "1.0.0",
      "model_name": "LayoutModel",
      "state": {
       "justify_content": "center"
      }
     },
     "86423798a0fe47f6a35978c2325f96f9": {
      "model_module": "@jupyter-widgets/base",
      "model_module_version": "1.0.0",
      "model_name": "LayoutModel",
      "state": {
       "width": "600px"
      }
     },
     "868190e9f1b54bf7937002dd4902754b": {
      "model_module": "@jupyter-widgets/base",
      "model_module_version": "1.0.0",
      "model_name": "LayoutModel",
      "state": {
       "width": "600px"
      }
     },
     "8707f75bb5374b5d9bf395f296ee809f": {
      "model_module": "@jupyter-widgets/base",
      "model_module_version": "1.0.0",
      "model_name": "LayoutModel",
      "state": {}
     },
     "8710c2b969134c858372ff203b428783": {
      "model_module": "@jupyter-widgets/base",
      "model_module_version": "1.0.0",
      "model_name": "LayoutModel",
      "state": {}
     },
     "872a38000b6f479daed57582dbb4f902": {
      "model_module": "@jupyter-widgets/base",
      "model_module_version": "1.0.0",
      "model_name": "LayoutModel",
      "state": {}
     },
     "877a1863084e4f68b1e97a98e93d792a": {
      "model_module": "@jupyter-widgets/controls",
      "model_module_version": "1.2.0",
      "model_name": "ButtonModel",
      "state": {
       "description": "3rd singular present",
       "layout": "IPY_MODEL_50cff16d3e5b47448ff2c41204ab033a",
       "style": "IPY_MODEL_a0ea0aa35abb4fadb9b53618ba877811"
      }
     },
     "87948f404df94645ae90b1683fd30b07": {
      "model_module": "@jupyter-widgets/controls",
      "model_module_version": "1.2.0",
      "model_name": "VBoxModel",
      "state": {
       "children": [
        "IPY_MODEL_a98aa2924f144c039c7d390d9d022653",
        "IPY_MODEL_f463af52f86541d89972ea53ed23f639",
        "IPY_MODEL_169cfe56e3824f45896945fa640c9601",
        "IPY_MODEL_5f2e496f850d43e3991e951b1c6c51ca"
       ],
       "layout": "IPY_MODEL_e29fa52688db41fba0eb504c72144413"
      }
     },
     "8797f98100624f9dbccaaee40da5dbce": {
      "model_module": "@jupyter-widgets/controls",
      "model_module_version": "1.2.0",
      "model_name": "CheckboxModel",
      "state": {
       "description": "Permutationstest",
       "disabled": false,
       "layout": "IPY_MODEL_818af010ac324249bfe38ce53ea1198e",
       "style": "IPY_MODEL_6ad141efc2df41e1a6207e1ee780de3d",
       "value": false
      }
     },
     "87c1ce26e73f407f8bd22a414960538c": {
      "model_module": "@jupyter-widgets/controls",
      "model_module_version": "1.2.0",
      "model_name": "ButtonStyleModel",
      "state": {}
     },
     "88526e554f1640f6b5fb6aaba2fc7e0c": {
      "model_module": "@jupyter-widgets/controls",
      "model_module_version": "1.2.0",
      "model_name": "HTMLModel",
      "state": {
       "layout": "IPY_MODEL_5f18aac9a117420ab393fdfee6e73659",
       "style": "IPY_MODEL_b842c17a93fa4abdb3d6bb4a9aa18bc3",
       "value": "<h4 style=\"font-size:14px;\">Kategorie.</h4>"
      }
     },
     "887062aad83e476b99d9b91f1beba8c5": {
      "model_module": "@jupyter-widgets/base",
      "model_module_version": "1.0.0",
      "model_name": "LayoutModel",
      "state": {
       "width": "600px"
      }
     },
     "887077499a6344499cebce5323cc616d": {
      "model_module": "@jupyter-widgets/controls",
      "model_module_version": "1.2.0",
      "model_name": "VBoxModel",
      "state": {
       "children": [
        "IPY_MODEL_44109d0db38a4fd5b6d120a5f3f96878",
        "IPY_MODEL_ceb04bdc33d94df39ed00a84971e96b1",
        "IPY_MODEL_d716d621c8364843a2f0328c18b29b65",
        "IPY_MODEL_f5b0ad85652f4d3da4ad6c60b9bf26cb"
       ],
       "layout": "IPY_MODEL_942ed237a5d24a80ad36a9adf031b6c1"
      }
     },
     "88741e0291ec4e10b464ce34e1219863": {
      "model_module": "@jupyter-widgets/base",
      "model_module_version": "1.0.0",
      "model_name": "LayoutModel",
      "state": {
       "width": "250px"
      }
     },
     "88c21caf1ee74eb7b915c0828a6b593a": {
      "model_module": "@jupyter-widgets/controls",
      "model_module_version": "1.2.0",
      "model_name": "ButtonModel",
      "state": {
       "description": "Korrekt?",
       "layout": "IPY_MODEL_9d63937687a048f39932d82f8fde2867",
       "style": "IPY_MODEL_f74dcfa84dcd4d4b951fa04a355d7d39"
      }
     },
     "88d51b3fa0dc478194c14af854607b79": {
      "model_module": "@jupyter-widgets/controls",
      "model_module_version": "1.2.0",
      "model_name": "VBoxModel",
      "state": {
       "children": [
        "IPY_MODEL_1c70ad80c56b4114b43f633b9a6e0a25",
        "IPY_MODEL_3bd87430520f4e61bd08bb625df6514c",
        "IPY_MODEL_a4eb79f7f3cc482595f4ad3e2fd2b6af",
        "IPY_MODEL_2545bf3e361f4c12a82ce98abe350d89",
        "IPY_MODEL_84a34018ab554a4994f0c75de53c8929"
       ],
       "layout": "IPY_MODEL_1c89534d5b1840d7b61ce99115c9aaf9"
      }
     },
     "88d991090af943a4afed76392e2f510d": {
      "model_module": "@jupyter-widgets/controls",
      "model_module_version": "1.2.0",
      "model_name": "DescriptionStyleModel",
      "state": {
       "description_width": ""
      }
     },
     "88e1da51fb5a46cebef3669698dc492e": {
      "model_module": "@jupyter-widgets/controls",
      "model_module_version": "1.2.0",
      "model_name": "ButtonModel",
      "state": {
       "description": "Folge von Wortklassen",
       "layout": "IPY_MODEL_f04ad26af2ca48a2b3ffc960551fe6e7",
       "style": "IPY_MODEL_3562dd00053e45ad96fc7d08068e9a42"
      }
     },
     "88e769ad24d84b6c8242043930d28736": {
      "model_module": "@jupyter-widgets/controls",
      "model_module_version": "1.2.0",
      "model_name": "DropdownModel",
      "state": {
       "_options_labels": [
        "Bigramm",
        "Trigramm",
        "Unigramm",
        " "
       ],
       "index": 3,
       "layout": "IPY_MODEL_5e5aef5f032640c3bb77ce8e76866a26",
       "style": "IPY_MODEL_94b35fc45f534b66aff4125848a5997b"
      }
     },
     "89011942703446ceba9a86177bab77a3": {
      "model_module": "@jupyter-widgets/controls",
      "model_module_version": "1.2.0",
      "model_name": "HTMLModel",
      "state": {
       "layout": "IPY_MODEL_ac4e38c0282549b1b8cc2f831faa9141",
       "style": "IPY_MODEL_b97d999ee44348b5aa989c28d314b313",
       "value": "<h4 style=\"font-size:14px;\">trägt. Das Ergebnis sind die häufigsten zweistelligen syntaktischen Muster des Englischen mit NOUN als rechtem Kontext, nämlich NOUN+NOUN, DET+NOUN und ADJ+NOUN; diese Ergebnisse geben Hinweis auf die NP-</h4>"
      }
     },
     "890a286528d54667bbc318ea41c9b2a3": {
      "model_module": "@jupyter-widgets/controls",
      "model_module_version": "1.2.0",
      "model_name": "DescriptionStyleModel",
      "state": {
       "description_width": "initial"
      }
     },
     "894d252604e048baae6f0e0a4b0bb4f5": {
      "model_module": "@jupyter-widgets/base",
      "model_module_version": "1.0.0",
      "model_name": "LayoutModel",
      "state": {
       "width": "250px"
      }
     },
     "894e89ee8e6e479a8c967b59af24678f": {
      "model_module": "@jupyter-widgets/base",
      "model_module_version": "1.0.0",
      "model_name": "LayoutModel",
      "state": {}
     },
     "8a289a2f35854a6389cd331029bc8ede": {
      "model_module": "@jupyter-widgets/base",
      "model_module_version": "1.0.0",
      "model_name": "LayoutModel",
      "state": {
       "width": "250px"
      }
     },
     "8a6f97ad0f3049008abc1637a001ce79": {
      "model_module": "@jupyter-widgets/controls",
      "model_module_version": "1.2.0",
      "model_name": "VBoxModel",
      "state": {
       "children": [
        "IPY_MODEL_c22634d2e22d40c79067e27413b70b3b",
        "IPY_MODEL_6f9887c1694143bda2e89505d357799b",
        "IPY_MODEL_ad13fabcb61d41bfb3f00114278ece75"
       ],
       "layout": "IPY_MODEL_4a78bd96d7d94bbcbed8e19bc3c1b3e2"
      }
     },
     "8a9a4bad70694f41aa502e4783f8dbd7": {
      "model_module": "@jupyter-widgets/controls",
      "model_module_version": "1.2.0",
      "model_name": "CheckboxModel",
      "state": {
       "description": "Nur mit beginnt eine Reise von tausend Meilen auch einem Schritt.",
       "disabled": false,
       "layout": "IPY_MODEL_a00384a522734901a715fcbc65fe6f28",
       "style": "IPY_MODEL_063a6930724c4f038893ab38404f5f66",
       "value": false
      }
     },
     "8aeab4f1e69846b896500c35164220fe": {
      "model_module": "@jupyter-widgets/controls",
      "model_module_version": "1.2.0",
      "model_name": "ButtonStyleModel",
      "state": {
       "button_color": "lightgreen"
      }
     },
     "8b38b9db9e02485ca263892135ed6881": {
      "model_module": "@jupyter-widgets/controls",
      "model_module_version": "1.2.0",
      "model_name": "HTMLModel",
      "state": {
       "layout": "IPY_MODEL_26880b9543bb494d8af11d0e8c7072f8",
       "style": "IPY_MODEL_e84fee48a04b45b7acd0f4f3c2a20fc5",
       "value": "<i>Wählen Sie die <ins>eine</ins> korrekte Antwort aus: </i>"
      }
     },
     "8b3dc111004d48908ab24360972cb936": {
      "model_module": "@jupyter-widgets/controls",
      "model_module_version": "1.2.0",
      "model_name": "CheckboxModel",
      "state": {
       "description": "Es ist flektierbar.",
       "disabled": false,
       "layout": "IPY_MODEL_c2773e7e2f7645c99f609d78d50ee6b6",
       "style": "IPY_MODEL_4ba31a175d0c4046ae113f5bad7fde82",
       "value": false
      }
     },
     "8b458c587ba448ea83d2b862ad72cdd8": {
      "model_module": "@jupyter-widgets/controls",
      "model_module_version": "1.2.0",
      "model_name": "DescriptionStyleModel",
      "state": {
       "description_width": ""
      }
     },
     "8b55952b0b5b4efcb2ba79fa82c6f4e1": {
      "model_module": "@jupyter-widgets/controls",
      "model_module_version": "1.2.0",
      "model_name": "ButtonModel",
      "state": {
       "description": "gerund",
       "layout": "IPY_MODEL_f4088182f74d4f398b0df7ea9d58b020",
       "style": "IPY_MODEL_7f8e5f0269094c408de5a5c32731d37e"
      }
     },
     "8b8dd11e35c34b4f90a9ec45a88723bf": {
      "model_module": "@jupyter-widgets/controls",
      "model_module_version": "1.2.0",
      "model_name": "HTMLModel",
      "state": {
       "layout": "IPY_MODEL_e2742897becb4712ae05ab38c4bfb903",
       "style": "IPY_MODEL_d7301dad88434e41969bb79c4bffa1e8",
       "value": "<h4 style=\"font-size:14px;\">Was ist der Output eines Part-of-Speech-Taggers?</h4>"
      }
     },
     "8b8df387bf2d49708a9b82854d298a99": {
      "model_module": "@jupyter-widgets/controls",
      "model_module_version": "1.2.0",
      "model_name": "DescriptionStyleModel",
      "state": {
       "description_width": ""
      }
     },
     "8bc195a845c84074ab3e3303c02b3bca": {
      "model_module": "@jupyter-widgets/base",
      "model_module_version": "1.0.0",
      "model_name": "LayoutModel",
      "state": {
       "width": "150px"
      }
     },
     "8bc43eaeef5f4b5eb8c26fa5fcef1a60": {
      "model_module": "@jupyter-widgets/controls",
      "model_module_version": "1.2.0",
      "model_name": "VBoxModel",
      "state": {
       "children": [
        "IPY_MODEL_7bec3c970c3e44cdb9e4d37e2c85ae61",
        "IPY_MODEL_ef22792d8b9347b892527930d7a7663b",
        "IPY_MODEL_cab5b4c5f6f44f5281622a6a5bab986d",
        "IPY_MODEL_eb8bda4e4fdd47e1b06f662a7cb628df"
       ],
       "layout": "IPY_MODEL_6ab56d1339b84c70836b363a91cd1fb5"
      }
     },
     "8c1808b4306742b3b7d8cabee7952574": {
      "model_module": "@jupyter-widgets/controls",
      "model_module_version": "1.2.0",
      "model_name": "HTMLModel",
      "state": {
       "layout": "IPY_MODEL_e123a55f8de84410a67ad4965881637a",
       "style": "IPY_MODEL_7b19a28c40d6438c8e705d9fdcea8aad",
       "value": "<h4 style=\"font-size:14px;\">Welche Wortart folgt damit für das Wort <i>gut</i> in Satz 2?</h4>"
      }
     },
     "8c27b9756cb346d3a62756f98b13d765": {
      "model_module": "@jupyter-widgets/controls",
      "model_module_version": "1.2.0",
      "model_name": "ButtonModel",
      "state": {
       "description": "3rd singular present",
       "layout": "IPY_MODEL_bffaff9cc41e4098bcebc593e5c4fe93",
       "style": "IPY_MODEL_c5887bf5b0ce4635ad5dc371bae10388"
      }
     },
     "8c6a6c300f53475cbd94e58aa76f6fc2": {
      "model_module": "@jupyter-widgets/controls",
      "model_module_version": "1.2.0",
      "model_name": "HTMLModel",
      "state": {
       "layout": "IPY_MODEL_c9cd3079d1d34b33ac2de64f3c50a69e",
       "style": "IPY_MODEL_e65e3d49ded442619a89ea386db6fe7f",
       "value": "<h4 style=\"font-size:14px;\">Welche Eigenschaften hat <i>gut</i> in Satz 2?</h4>"
      }
     },
     "8ca698d8f3984a96977126993e45ed6b": {
      "model_module": "@jupyter-widgets/base",
      "model_module_version": "1.0.0",
      "model_name": "LayoutModel",
      "state": {
       "width": "250px"
      }
     },
     "8ca934535ca44372a680e4741fb46fa0": {
      "model_module": "@jupyter-widgets/controls",
      "model_module_version": "1.2.0",
      "model_name": "DescriptionStyleModel",
      "state": {
       "description_width": ""
      }
     },
     "8cd94742a894407090babc076f4a5672": {
      "model_module": "@jupyter-widgets/controls",
      "model_module_version": "1.2.0",
      "model_name": "HBoxModel",
      "state": {
       "children": [
        "IPY_MODEL_614ea12753fe477ea0942344310ca20e",
        "IPY_MODEL_af5b104fc15c4167b98815f170379096"
       ],
       "layout": "IPY_MODEL_7031fb56f6a341ba86b4298665c86558"
      }
     },
     "8d02828123154164a772a2bc13c52ff4": {
      "model_module": "@jupyter-widgets/controls",
      "model_module_version": "1.2.0",
      "model_name": "ButtonStyleModel",
      "state": {}
     },
     "8d2d0501cdca49c78d490b2bf41d827a": {
      "model_module": "@jupyter-widgets/controls",
      "model_module_version": "1.2.0",
      "model_name": "DescriptionStyleModel",
      "state": {
       "description_width": ""
      }
     },
     "8d71ca09da4949f09f0e993c729a8be8": {
      "model_module": "@jupyter-widgets/base",
      "model_module_version": "1.0.0",
      "model_name": "LayoutModel",
      "state": {}
     },
     "8d82fc0251864e1b9e35ef2c56419cee": {
      "model_module": "@jupyter-widgets/base",
      "model_module_version": "1.0.0",
      "model_name": "LayoutModel",
      "state": {}
     },
     "8db98b6ae3164ba9adfb0558b6abb3b2": {
      "model_module": "@jupyter-widgets/controls",
      "model_module_version": "1.2.0",
      "model_name": "DescriptionStyleModel",
      "state": {
       "description_width": ""
      }
     },
     "8de9afecce714541a4c2ca4046137a44": {
      "model_module": "@jupyter-widgets/controls",
      "model_module_version": "1.2.0",
      "model_name": "CheckboxModel",
      "state": {
       "description": "Zu einem Wort werden alle Wörter gefunden, die in gleichen Kontexten vorkommen.",
       "disabled": false,
       "layout": "IPY_MODEL_934629635f284bf6b5d76619dbf98631",
       "style": "IPY_MODEL_d8653182893b4c18838300d282d97159",
       "value": false
      }
     },
     "8e366457735449d79015cdd329c3ab47": {
      "model_module": "@jupyter-widgets/controls",
      "model_module_version": "1.2.0",
      "model_name": "ButtonModel",
      "state": {
       "description": "Adjektiv",
       "layout": "IPY_MODEL_e0307d2da82248e296de2bfa81381961",
       "style": "IPY_MODEL_6d442e10eff5428b976c2d6fd2990a45"
      }
     },
     "8eb07ebcd3cb4b7eb9580b7a1200faae": {
      "model_module": "@jupyter-widgets/controls",
      "model_module_version": "1.2.0",
      "model_name": "DescriptionStyleModel",
      "state": {
       "description_width": ""
      }
     },
     "8ed58e5c5a0c4b4c86bf0fc7dd10161c": {
      "model_module": "@jupyter-widgets/controls",
      "model_module_version": "1.2.0",
      "model_name": "VBoxModel",
      "state": {
       "children": [
        "IPY_MODEL_97f0ba8717cd485bbae9954d474c42b9",
        "IPY_MODEL_fb4b81e3fa7b48dc8856ccec314d36f0",
        "IPY_MODEL_74cdecc7e26043e298931f503c052d05",
        "IPY_MODEL_93894aae1c2740e1a4a79d95762c325f"
       ],
       "layout": "IPY_MODEL_373dae6511194a30b2215bc27c18be50"
      }
     },
     "8ef19c331ae84fee96c094e8b69af5e2": {
      "model_module": "@jupyter-widgets/controls",
      "model_module_version": "1.2.0",
      "model_name": "HBoxModel",
      "state": {
       "children": [
        "IPY_MODEL_b3e8c254478e4f4ba77a123b2379659e",
        "IPY_MODEL_826977c7b3354fc790fbd53a1ee7d8f4"
       ],
       "layout": "IPY_MODEL_bdb20d7077ed4bc7bfdfb758486a359a"
      }
     },
     "8f6caeb3185a471783086d3a1197e041": {
      "model_module": "@jupyter-widgets/controls",
      "model_module_version": "1.2.0",
      "model_name": "ButtonStyleModel",
      "state": {}
     },
     "8fd734ea27b34debb52082beb3a9a0d2": {
      "model_module": "@jupyter-widgets/controls",
      "model_module_version": "1.2.0",
      "model_name": "HBoxModel",
      "state": {
       "children": [
        "IPY_MODEL_3c2d5f2f7865404ba7817fcdf4e11ee6",
        "IPY_MODEL_bd9af0a7dbd348ff82d593074e66521d"
       ],
       "layout": "IPY_MODEL_22e9ddaf44e64c449613dbe9cbcf3f70"
      }
     },
     "9034963a026a41ec90c6b70849629404": {
      "model_module": "@jupyter-widgets/controls",
      "model_module_version": "1.2.0",
      "model_name": "ButtonModel",
      "state": {
       "description": "Keine der anderen Möglichkeiten",
       "layout": "IPY_MODEL_b9cf811af8fc483fb57f12ac130bcf82",
       "style": "IPY_MODEL_c87995a81392412681708588591f18fb"
      }
     },
     "9043e36831fd49edb4fa956dc0b17613": {
      "model_module": "@jupyter-widgets/controls",
      "model_module_version": "1.2.0",
      "model_name": "HBoxModel",
      "state": {
       "children": [
        "IPY_MODEL_9515f763c2714bc899885db91fe369b8",
        "IPY_MODEL_22802110620d4b218406f5eb7144641b"
       ],
       "layout": "IPY_MODEL_b3cb07578d314527bede34410538537d"
      }
     },
     "905279fd49c343e58cf92d363a18d10c": {
      "model_module": "@jupyter-widgets/base",
      "model_module_version": "1.0.0",
      "model_name": "LayoutModel",
      "state": {
       "width": "250px"
      }
     },
     "9056b55fc72c48dda632a631bee56d57": {
      "model_module": "@jupyter-widgets/base",
      "model_module_version": "1.0.0",
      "model_name": "LayoutModel",
      "state": {}
     },
     "90580a110abe4535bf3f193946e2ade2": {
      "model_module": "@jupyter-widgets/base",
      "model_module_version": "1.0.0",
      "model_name": "LayoutModel",
      "state": {}
     },
     "905f3253ccf74c009369a48f595401b4": {
      "model_module": "@jupyter-widgets/base",
      "model_module_version": "1.0.0",
      "model_name": "LayoutModel",
      "state": {
       "width": "250px"
      }
     },
     "9070f43b1d3646b7a924f95550d8980f": {
      "model_module": "@jupyter-widgets/base",
      "model_module_version": "1.0.0",
      "model_name": "LayoutModel",
      "state": {
       "width": "250px"
      }
     },
     "9099cc233ac2431191c86c8ab2d63ec1": {
      "model_module": "@jupyter-widgets/controls",
      "model_module_version": "1.2.0",
      "model_name": "DescriptionStyleModel",
      "state": {
       "description_width": ""
      }
     },
     "90bb9845e2574072afd2406335b90527": {
      "model_module": "@jupyter-widgets/controls",
      "model_module_version": "1.2.0",
      "model_name": "ButtonModel",
      "state": {
       "description": "Partikel",
       "layout": "IPY_MODEL_9070f43b1d3646b7a924f95550d8980f",
       "style": "IPY_MODEL_d6d4f43a5f284c7cb3e50f40fe0fd3b2"
      }
     },
     "91608f25f3004d0b91d2a23c326ae698": {
      "model_module": "@jupyter-widgets/controls",
      "model_module_version": "1.2.0",
      "model_name": "DescriptionStyleModel",
      "state": {
       "description_width": ""
      }
     },
     "91b734637afb4bcd85efcedbd0964a7f": {
      "model_module": "@jupyter-widgets/base",
      "model_module_version": "1.0.0",
      "model_name": "LayoutModel",
      "state": {
       "width": "250px"
      }
     },
     "91ee56ff8cf5457e85dd1a8441f95866": {
      "model_module": "@jupyter-widgets/controls",
      "model_module_version": "1.2.0",
      "model_name": "HBoxModel",
      "state": {
       "children": [
        "IPY_MODEL_e053449637b24e6f89cce808cb3b5b6b",
        "IPY_MODEL_b3c326255924482597a88a2fb784d283"
       ],
       "layout": "IPY_MODEL_a139778817904a21aa068690c8e2ca1a"
      }
     },
     "921cc165626745aabd708c6561464936": {
      "model_module": "@jupyter-widgets/controls",
      "model_module_version": "1.2.0",
      "model_name": "ButtonStyleModel",
      "state": {}
     },
     "9224e666d9e445b88dc866ce427dc6f7": {
      "model_module": "@jupyter-widgets/controls",
      "model_module_version": "1.2.0",
      "model_name": "HBoxModel",
      "state": {
       "children": [
        "IPY_MODEL_8c27b9756cb346d3a62756f98b13d765",
        "IPY_MODEL_c41eef214ba74ceda3943ec9e9764241"
       ],
       "layout": "IPY_MODEL_d6bb0606b94a4ff0a9bff2c413bfcf19"
      }
     },
     "923681287aa14f91b3f264d3bdef1a38": {
      "model_module": "@jupyter-widgets/controls",
      "model_module_version": "1.2.0",
      "model_name": "ButtonModel",
      "state": {
       "description": "gerund",
       "layout": "IPY_MODEL_c8c59fc9f2c34d2c951571b063c4f335",
       "style": "IPY_MODEL_bdbd63e02e7e4a65a753fdd05eee30dd"
      }
     },
     "924d381bac4e4fa5a44a7d2001190b0f": {
      "model_module": "@jupyter-widgets/controls",
      "model_module_version": "1.2.0",
      "model_name": "CheckboxModel",
      "state": {
       "description": "Substitutionstest",
       "disabled": false,
       "layout": "IPY_MODEL_3ab910efce7c4262af09c5df675324a2",
       "style": "IPY_MODEL_431baf007ef14cf28b1214fe2dde05d4",
       "value": false
      }
     },
     "925f9f4dace34a6daa5f2e565d0d0bce": {
      "model_module": "@jupyter-widgets/controls",
      "model_module_version": "1.2.0",
      "model_name": "ButtonStyleModel",
      "state": {}
     },
     "92821cf568814e90962cac5cd2d422df": {
      "model_module": "@jupyter-widgets/controls",
      "model_module_version": "1.2.0",
      "model_name": "DescriptionStyleModel",
      "state": {
       "description_width": "initial"
      }
     },
     "934629635f284bf6b5d76619dbf98631": {
      "model_module": "@jupyter-widgets/base",
      "model_module_version": "1.0.0",
      "model_name": "LayoutModel",
      "state": {
       "width": "600px"
      }
     },
     "935e14e8e8e54fa4b4cf422eb755f506": {
      "model_module": "@jupyter-widgets/controls",
      "model_module_version": "1.2.0",
      "model_name": "ButtonStyleModel",
      "state": {}
     },
     "9369259d2fd243d199fb76ae4dc6ec86": {
      "model_module": "@jupyter-widgets/base",
      "model_module_version": "1.0.0",
      "model_name": "LayoutModel",
      "state": {}
     },
     "9371ff5ded0c4cd193d09d1dbf4af018": {
      "model_module": "@jupyter-widgets/base",
      "model_module_version": "1.0.0",
      "model_name": "LayoutModel",
      "state": {}
     },
     "93894aae1c2740e1a4a79d95762c325f": {
      "model_module": "@jupyter-widgets/controls",
      "model_module_version": "1.2.0",
      "model_name": "CheckboxModel",
      "state": {
       "description": "gleicher Kontext",
       "disabled": false,
       "layout": "IPY_MODEL_b37942da45f347c9b668548a3d7538ad",
       "style": "IPY_MODEL_56c08356f16c488ca62d5fa99d1e7ef6",
       "value": false
      }
     },
     "93a40175f5554d308a3ffef692e8e7b9": {
      "model_module": "@jupyter-widgets/controls",
      "model_module_version": "1.2.0",
      "model_name": "CheckboxModel",
      "state": {
       "description": "Zu einem Wort wird ein Index seiner Kontexte aufgebaut.",
       "disabled": false,
       "layout": "IPY_MODEL_716064338d89481f8073d7929e1e3700",
       "style": "IPY_MODEL_5143d1ff9a4a44d7a48fd60e120755e7",
       "value": false
      }
     },
     "93eca29746934f2792b5ac8abc65bc40": {
      "model_module": "@jupyter-widgets/controls",
      "model_module_version": "1.2.0",
      "model_name": "ButtonModel",
      "state": {
       "description": "3rd singular present",
       "layout": "IPY_MODEL_0cbd09a685b941d698732633d7f8f3b1",
       "style": "IPY_MODEL_98182cac339c4532876c3d4452d40006"
      }
     },
     "942ed237a5d24a80ad36a9adf031b6c1": {
      "model_module": "@jupyter-widgets/base",
      "model_module_version": "1.0.0",
      "model_name": "LayoutModel",
      "state": {}
     },
     "943e2c75004e4fd283945c96fe0bc4d1": {
      "model_module": "@jupyter-widgets/controls",
      "model_module_version": "1.2.0",
      "model_name": "CheckboxModel",
      "state": {
       "description": "gleicher Kontext",
       "disabled": false,
       "layout": "IPY_MODEL_60d321595d5245a4b8168fecbf97350e",
       "style": "IPY_MODEL_515531805b6e49e9a77a78325cf10769",
       "value": true
      }
     },
     "943fdf5d6357480980f9bace87b72a38": {
      "model_module": "@jupyter-widgets/base",
      "model_module_version": "1.0.0",
      "model_name": "LayoutModel",
      "state": {}
     },
     "9447416a80f4479eb18c383fd980101d": {
      "model_module": "@jupyter-widgets/controls",
      "model_module_version": "1.2.0",
      "model_name": "DescriptionStyleModel",
      "state": {
       "description_width": ""
      }
     },
     "94865400fd03422c8e69386992e39a23": {
      "model_module": "@jupyter-widgets/base",
      "model_module_version": "1.0.0",
      "model_name": "LayoutModel",
      "state": {}
     },
     "948a35b13c874e719dc9788af82b330d": {
      "model_module": "@jupyter-widgets/base",
      "model_module_version": "1.0.0",
      "model_name": "LayoutModel",
      "state": {
       "width": "600px"
      }
     },
     "94b090fd5e3841f299116056c0f99e60": {
      "model_module": "@jupyter-widgets/base",
      "model_module_version": "1.0.0",
      "model_name": "LayoutModel",
      "state": {}
     },
     "94b35fc45f534b66aff4125848a5997b": {
      "model_module": "@jupyter-widgets/controls",
      "model_module_version": "1.2.0",
      "model_name": "DescriptionStyleModel",
      "state": {
       "description_width": ""
      }
     },
     "94cc180e71cf45e893f13cef9d2429a7": {
      "model_module": "@jupyter-widgets/controls",
      "model_module_version": "1.2.0",
      "model_name": "HBoxModel",
      "state": {
       "children": [
        "IPY_MODEL_1e3bcfdc4b844df38dbf9a3dd710c51f",
        "IPY_MODEL_327e409c05e448d081bd44dc07ec12fe"
       ],
       "layout": "IPY_MODEL_29982c68f6bd4009a799fee3297183e8"
      }
     },
     "9515f763c2714bc899885db91fe369b8": {
      "model_module": "@jupyter-widgets/controls",
      "model_module_version": "1.2.0",
      "model_name": "ButtonModel",
      "state": {
       "description": "3rd singular present",
       "layout": "IPY_MODEL_960f282880594e4cb1c892b8b7039579",
       "style": "IPY_MODEL_76d9e2edd04e4cf0b2868b805d42f7db"
      }
     },
     "9519c5ca015145228021ced50fc16bac": {
      "model_module": "@jupyter-widgets/controls",
      "model_module_version": "1.2.0",
      "model_name": "HBoxModel",
      "state": {
       "children": [
        "IPY_MODEL_ae127b1e7b9e4f7598683eb59399ae03",
        "IPY_MODEL_56e92b4f109d429d9cacc3381440621a"
       ],
       "layout": "IPY_MODEL_b08a15cee843482d9d4d4a38bd591d23"
      }
     },
     "95212f46dc1e498e985b72181b739e2d": {
      "model_module": "@jupyter-widgets/controls",
      "model_module_version": "1.2.0",
      "model_name": "DescriptionStyleModel",
      "state": {
       "description_width": ""
      }
     },
     "953a0e54ba0b4f36bf3956b51c860a27": {
      "model_module": "@jupyter-widgets/base",
      "model_module_version": "1.0.0",
      "model_name": "LayoutModel",
      "state": {}
     },
     "95580bbce87d4b03a1c16450bff36c32": {
      "model_module": "@jupyter-widgets/controls",
      "model_module_version": "1.2.0",
      "model_name": "VBoxModel",
      "state": {
       "children": [
        "IPY_MODEL_a5684580313546f5907d771279bd6691",
        "IPY_MODEL_b8116e76f5ec42d38071fc197eea6700",
        "IPY_MODEL_7e610a41fc744a7dadc188120830d0a4"
       ],
       "layout": "IPY_MODEL_018de17deb80425eb52d01731f39b266"
      }
     },
     "957d33d058314de3870b01a889988fdc": {
      "model_module": "@jupyter-widgets/base",
      "model_module_version": "1.0.0",
      "model_name": "LayoutModel",
      "state": {}
     },
     "95c2f6066b2b492091a46354ab7cc5f0": {
      "model_module": "@jupyter-widgets/controls",
      "model_module_version": "1.2.0",
      "model_name": "ButtonModel",
      "state": {
       "description": "base",
       "layout": "IPY_MODEL_dce0da242a4646e484b782e9ae80bd7e",
       "style": "IPY_MODEL_3240f0a1d80944fbbe7e17acaffb2a6b"
      }
     },
     "95c4cc293ceb41dab45ca6694254030e": {
      "model_module": "@jupyter-widgets/base",
      "model_module_version": "1.0.0",
      "model_name": "LayoutModel",
      "state": {
       "width": "600px"
      }
     },
     "95d6210ebe274cd0baa961fd540ac771": {
      "model_module": "@jupyter-widgets/controls",
      "model_module_version": "1.2.0",
      "model_name": "VBoxModel",
      "state": {
       "children": [
        "IPY_MODEL_c0817a32889f4ca286198f63d79062a0",
        "IPY_MODEL_c02a7784a6834921844937fa2cc1c90c",
        "IPY_MODEL_13debb62345c4cc7863dbcb4a6984a67",
        "IPY_MODEL_5d161c9e3991413d96bd326f64693fd0"
       ],
       "layout": "IPY_MODEL_cd2a067f3dd3464e911ecd80eeac00b3"
      }
     },
     "95fb6ea4bfd04f7d81f0f630a8fe1bc6": {
      "model_module": "@jupyter-widgets/controls",
      "model_module_version": "1.2.0",
      "model_name": "HTMLModel",
      "state": {
       "layout": "IPY_MODEL_497b3ef65fb84a858283a66f132c7843",
       "style": "IPY_MODEL_beb21a545ded4df2904add8aadbc8fe4",
       "value": "<h4 style=\"font-size:14px;\">Das Partizip <i>Verloren<i> ist eine</h4>"
      }
     },
     "960f282880594e4cb1c892b8b7039579": {
      "model_module": "@jupyter-widgets/base",
      "model_module_version": "1.0.0",
      "model_name": "LayoutModel",
      "state": {
       "width": "250px"
      }
     },
     "9625c4a1e2b94d5d8c2e7911f45f7236": {
      "model_module": "@jupyter-widgets/controls",
      "model_module_version": "1.2.0",
      "model_name": "VBoxModel",
      "state": {
       "children": [
        "IPY_MODEL_81e0e28c7aba49538a99087446cbddd0",
        "IPY_MODEL_974c9a9d733341f8b43ccc9682a1d267",
        "IPY_MODEL_2a3ce4723c3740669b00730f403dfb7a",
        "IPY_MODEL_9519c5ca015145228021ced50fc16bac",
        "IPY_MODEL_a4f2c9af8368493682128f663908074e"
       ],
       "layout": "IPY_MODEL_de2e8adf300d42299de225cc6f6f468c"
      }
     },
     "96386b500b884b42ba1d16b5c34304ed": {
      "model_module": "@jupyter-widgets/base",
      "model_module_version": "1.0.0",
      "model_name": "LayoutModel",
      "state": {
       "width": "250px"
      }
     },
     "965f38ff4ba944e89618158124161eb8": {
      "model_module": "@jupyter-widgets/controls",
      "model_module_version": "1.2.0",
      "model_name": "BoxModel",
      "state": {
       "children": [
        "IPY_MODEL_6a6fbb57e0eb4f49b1ee1660dc5049ce",
        "IPY_MODEL_ac294372c26844bcb446dbacc7511f84",
        "IPY_MODEL_af7661ce71474615a4d42db3bdbb4fa5",
        "IPY_MODEL_c720670fbf2146678660801377b2b426",
        "IPY_MODEL_5b024531d0d34720906cc54e7ee89743"
       ],
       "layout": "IPY_MODEL_980d5024beb04ec992c4a163fe0721ef"
      }
     },
     "970c362600424e36a71c96b0084a8f06": {
      "model_module": "@jupyter-widgets/base",
      "model_module_version": "1.0.0",
      "model_name": "LayoutModel",
      "state": {
       "justify_content": "center"
      }
     },
     "9734f755820140c89acc6b79d8e55237": {
      "model_module": "@jupyter-widgets/controls",
      "model_module_version": "1.2.0",
      "model_name": "ButtonStyleModel",
      "state": {}
     },
     "974c9a9d733341f8b43ccc9682a1d267": {
      "model_module": "@jupyter-widgets/controls",
      "model_module_version": "1.2.0",
      "model_name": "HTMLModel",
      "state": {
       "layout": "IPY_MODEL_a852abfa3f624aa598ef1163c99e2e44",
       "style": "IPY_MODEL_8b458c587ba448ea83d2b862ad72cdd8",
       "value": "<i>Wählen Sie die <ins>eine</ins> korrekte Antwort aus: </i>"
      }
     },
     "975b8678658e480b965bd0add327747a": {
      "model_module": "@jupyter-widgets/controls",
      "model_module_version": "1.2.0",
      "model_name": "HTMLModel",
      "state": {
       "layout": "IPY_MODEL_4a0567502ce1486fbaedc50ac3a963dc",
       "style": "IPY_MODEL_77f7a86d48a94baf9988a44b85a9c276",
       "value": "<h4 style=\"font-size:14px;\">Welche Eigenschaften hat <i>gerne</i> in Satz 1?</h4>"
      }
     },
     "97949348cc674b6fb32dd97bd348e4ab": {
      "model_module": "@jupyter-widgets/controls",
      "model_module_version": "1.2.0",
      "model_name": "ButtonStyleModel",
      "state": {}
     },
     "979e69e686294ec1b20344b2f70462ed": {
      "model_module": "@jupyter-widgets/controls",
      "model_module_version": "1.2.0",
      "model_name": "DescriptionStyleModel",
      "state": {
       "description_width": ""
      }
     },
     "97c669e4a4ef4e4d8f60946be1edd3d2": {
      "model_module": "@jupyter-widgets/controls",
      "model_module_version": "1.2.0",
      "model_name": "HBoxModel",
      "state": {
       "children": [
        "IPY_MODEL_3c4ddec7a6a5479ca17a5bf9f6e1acf9",
        "IPY_MODEL_cf8fd5b1d4704480b3ab26f90c9c66ab"
       ],
       "layout": "IPY_MODEL_448b31533c7841a08beb43e63c6a1cf9"
      }
     },
     "97d0736703ef42439cf7235de245e266": {
      "model_module": "@jupyter-widgets/controls",
      "model_module_version": "1.2.0",
      "model_name": "ButtonModel",
      "state": {
       "description": "Korrekt?",
       "layout": "IPY_MODEL_9a2af6e15ec34f088dbad29d759c0f76",
       "style": "IPY_MODEL_5d17d1eb5543452aa544026f5a2bb40b"
      }
     },
     "97f0ba8717cd485bbae9954d474c42b9": {
      "model_module": "@jupyter-widgets/controls",
      "model_module_version": "1.2.0",
      "model_name": "CheckboxModel",
      "state": {
       "description": "Flexionstyp",
       "disabled": false,
       "layout": "IPY_MODEL_56d7280d7c7e47a6abd06fd9f79731fb",
       "style": "IPY_MODEL_e8b1bb6efdec4fa58c3a107b234ecd41",
       "value": false
      }
     },
     "97f12f82cdc0448cb150d2b7582bc25f": {
      "model_module": "@jupyter-widgets/base",
      "model_module_version": "1.0.0",
      "model_name": "LayoutModel",
      "state": {
       "width": "150px"
      }
     },
     "980d5024beb04ec992c4a163fe0721ef": {
      "model_module": "@jupyter-widgets/base",
      "model_module_version": "1.0.0",
      "model_name": "LayoutModel",
      "state": {
       "align_content": "stretch",
       "align_items": "stretch",
       "display": "inline-flex",
       "flex": "flex-grow",
       "flex_flow": "row wrap",
       "justify_content": "flex-start"
      }
     },
     "98182cac339c4532876c3d4452d40006": {
      "model_module": "@jupyter-widgets/controls",
      "model_module_version": "1.2.0",
      "model_name": "ButtonStyleModel",
      "state": {}
     },
     "9844d7b46e514e5782b903bfbecb5a2e": {
      "model_module": "@jupyter-widgets/base",
      "model_module_version": "1.0.0",
      "model_name": "LayoutModel",
      "state": {}
     },
     "98469c8471644f84844fabf13e52064a": {
      "model_module": "@jupyter-widgets/controls",
      "model_module_version": "1.2.0",
      "model_name": "DropdownModel",
      "state": {
       "_options_labels": [
        "morphologischen",
        "syntaktischen",
        " "
       ],
       "index": 2,
       "layout": "IPY_MODEL_c94fcd8a5e504a4c888030f28f7eb72d",
       "style": "IPY_MODEL_ce9cfea70a4f4cd4ac3a546989e0ec80"
      }
     },
     "9875b09a418d461e8614fdc376bdb176": {
      "model_module": "@jupyter-widgets/controls",
      "model_module_version": "1.2.0",
      "model_name": "HTMLModel",
      "state": {
       "layout": "IPY_MODEL_cc4308bf46d44487b4aff3bb60bfd1f7",
       "style": "IPY_MODEL_333eb31a4af54d81ac89c21657e57dc9",
       "value": "<h4 style=\"font-size:14px;\">Welche Wortart folgt damit für das Wort <i>gerne</i> in Satz 1?</h4>"
      }
     },
     "9896c35176f947d790a90ba86769c34f": {
      "model_module": "@jupyter-widgets/controls",
      "model_module_version": "1.2.0",
      "model_name": "DropdownModel",
      "state": {
       "_options_labels": [
        "kürzeren",
        "längeren",
        " "
       ],
       "index": 1,
       "layout": "IPY_MODEL_fb04b8e17f9148098311256821855763",
       "style": "IPY_MODEL_57488b1448f4465fbcc0f6552de88111"
      }
     },
     "98efe91024454247a8f4feaef739101e": {
      "model_module": "@jupyter-widgets/controls",
      "model_module_version": "1.2.0",
      "model_name": "HTMLModel",
      "state": {
       "layout": "IPY_MODEL_23903c442f6f47b3b5c110d9c22a8521",
       "style": "IPY_MODEL_75f44d7a4b1c421da7df16d0710147e2",
       "value": "<h4 style=\"font-size:14px;\">Was leistet die Funktion <code>nltk.similar()</code>?</h4>"
      }
     },
     "9915211ea1e845c3a4518d3c1f149b97": {
      "model_module": "@jupyter-widgets/controls",
      "model_module_version": "1.2.0",
      "model_name": "CheckboxModel",
      "state": {
       "description": "Zu einem Wort werden seine Kookkurrenzpartner gefunden.",
       "disabled": false,
       "layout": "IPY_MODEL_887062aad83e476b99d9b91f1beba8c5",
       "style": "IPY_MODEL_f7affe86730245eea3d847398a44736d",
       "value": false
      }
     },
     "99251492ace94992a863fc56c5a8fe2a": {
      "model_module": "@jupyter-widgets/controls",
      "model_module_version": "1.2.0",
      "model_name": "DescriptionStyleModel",
      "state": {
       "description_width": ""
      }
     },
     "99431b959bbc48348253fec69b95994f": {
      "model_module": "@jupyter-widgets/base",
      "model_module_version": "1.0.0",
      "model_name": "LayoutModel",
      "state": {
       "width": "150px"
      }
     },
     "99608ad66ed84da8ba2132e5a1126009": {
      "model_module": "@jupyter-widgets/base",
      "model_module_version": "1.0.0",
      "model_name": "LayoutModel",
      "state": {
       "width": "250px"
      }
     },
     "9960a7c192114e469aab979c5b6fa57e": {
      "model_module": "@jupyter-widgets/controls",
      "model_module_version": "1.2.0",
      "model_name": "DescriptionStyleModel",
      "state": {
       "description_width": ""
      }
     },
     "99ba7dfdd2e44c4ba5b12b17ea18abea": {
      "model_module": "@jupyter-widgets/base",
      "model_module_version": "1.0.0",
      "model_name": "LayoutModel",
      "state": {
       "width": "150px"
      }
     },
     "99be6cee92d5481ca7e9625688f2a4f2": {
      "model_module": "@jupyter-widgets/base",
      "model_module_version": "1.0.0",
      "model_name": "LayoutModel",
      "state": {}
     },
     "99cd0650322e4dfe955ca12452050210": {
      "model_module": "@jupyter-widgets/base",
      "model_module_version": "1.0.0",
      "model_name": "LayoutModel",
      "state": {
       "width": "150px"
      }
     },
     "9a17fc19364f487eae36c6dce48e8c98": {
      "model_module": "@jupyter-widgets/controls",
      "model_module_version": "1.2.0",
      "model_name": "ButtonModel",
      "state": {
       "description": "Folge von Wortklassen",
       "layout": "IPY_MODEL_b97d64fa535e487aaa7a2a663596f2b6",
       "style": "IPY_MODEL_72f45d3a409b4051ba6aee0d64816d1e"
      }
     },
     "9a2af6e15ec34f088dbad29d759c0f76": {
      "model_module": "@jupyter-widgets/base",
      "model_module_version": "1.0.0",
      "model_name": "LayoutModel",
      "state": {
       "width": "250px"
      }
     },
     "9aab42f023dc406dbec6ad35c0921ad3": {
      "model_module": "@jupyter-widgets/controls",
      "model_module_version": "1.2.0",
      "model_name": "CheckboxModel",
      "state": {
       "description": "Es fungiert als Satzglied mit der syntaktischen Funktion Adverbial.",
       "disabled": false,
       "layout": "IPY_MODEL_ddd33dc397874f7ea2e3b9e347bf6f15",
       "style": "IPY_MODEL_3915d9f5da3b49bfa48eb3f9ed8bb966",
       "value": true
      }
     },
     "9ab00d051d0c412eba33c16476744b67": {
      "model_module": "@jupyter-widgets/controls",
      "model_module_version": "1.2.0",
      "model_name": "HTMLModel",
      "state": {
       "layout": "IPY_MODEL_894e89ee8e6e479a8c967b59af24678f",
       "style": "IPY_MODEL_408a1bf228754387a3a5d64d6b6a5b53",
       "value": "<h4 style=\"font-size:14px;\">Sequenz unter Erhalt der</h4>"
      }
     },
     "9ac3cf8eddb04e9e9c5b034719f8875f": {
      "model_module": "@jupyter-widgets/base",
      "model_module_version": "1.0.0",
      "model_name": "LayoutModel",
      "state": {
       "justify_content": "center"
      }
     },
     "9acd1442a0d549dcb890b090e6547ca7": {
      "model_module": "@jupyter-widgets/controls",
      "model_module_version": "1.2.0",
      "model_name": "ButtonModel",
      "state": {
       "description": "3rd singular present",
       "layout": "IPY_MODEL_f912a84f658b4c91b7a4c92b00f697a9",
       "style": "IPY_MODEL_312d2faecc5240f8a72cd85c4a4cc107"
      }
     },
     "9ba7b8f55e0c4983bd2555c3f2982427": {
      "model_module": "@jupyter-widgets/controls",
      "model_module_version": "1.2.0",
      "model_name": "VBoxModel",
      "state": {
       "children": [
        "IPY_MODEL_24a7ab1bba524b0d9c772f274ce51399",
        "IPY_MODEL_110ec22ca13c452c8479254ce50ab055",
        "IPY_MODEL_e0d98052d25f4c569efe64e95e8acb84",
        "IPY_MODEL_6d7eb85c90c74bfa918fc933e4a57641"
       ],
       "layout": "IPY_MODEL_8707f75bb5374b5d9bf395f296ee809f"
      }
     },
     "9bc7b20150cf4f29ae7972799ebf3fb7": {
      "model_module": "@jupyter-widgets/controls",
      "model_module_version": "1.2.0",
      "model_name": "ButtonStyleModel",
      "state": {}
     },
     "9bdaa5c67dc64ed28676c2f79a73cc24": {
      "model_module": "@jupyter-widgets/base",
      "model_module_version": "1.0.0",
      "model_name": "LayoutModel",
      "state": {
       "align_content": "stretch",
       "align_items": "stretch",
       "display": "inline-flex",
       "flex": "flex-grow",
       "flex_flow": "row wrap",
       "justify_content": "flex-start"
      }
     },
     "9c37984e3e3f4e5599c1deac0fa9ec8d": {
      "model_module": "@jupyter-widgets/controls",
      "model_module_version": "1.2.0",
      "model_name": "DescriptionStyleModel",
      "state": {
       "description_width": ""
      }
     },
     "9ca31b8715364e96a381f54ebc97b86c": {
      "model_module": "@jupyter-widgets/base",
      "model_module_version": "1.0.0",
      "model_name": "LayoutModel",
      "state": {
       "justify_content": "center"
      }
     },
     "9cc438c54ec746868a72abc6bca23d17": {
      "model_module": "@jupyter-widgets/controls",
      "model_module_version": "1.2.0",
      "model_name": "DescriptionStyleModel",
      "state": {
       "description_width": "initial"
      }
     },
     "9d0d691412784a33a151c8c0ad1505fd": {
      "model_module": "@jupyter-widgets/base",
      "model_module_version": "1.0.0",
      "model_name": "LayoutModel",
      "state": {
       "width": "250px"
      }
     },
     "9d21bd5238c24dbc98867fa6689ebe73": {
      "model_module": "@jupyter-widgets/controls",
      "model_module_version": "1.2.0",
      "model_name": "ButtonStyleModel",
      "state": {}
     },
     "9d2ffdc4c57b44a6842247cba840245b": {
      "model_module": "@jupyter-widgets/controls",
      "model_module_version": "1.2.0",
      "model_name": "BoxModel",
      "state": {
       "children": [
        "IPY_MODEL_7a055aaa20b74fb3a6d2aa7ca2f9dfc4",
        "IPY_MODEL_9896c35176f947d790a90ba86769c34f",
        "IPY_MODEL_be2460e50aa34eb7a986ab6f5debdc3d",
        "IPY_MODEL_ef949f66ba734738af31c8a7a438615c",
        "IPY_MODEL_9ab00d051d0c412eba33c16476744b67",
        "IPY_MODEL_acd428bf18b54328ba3c634995b4a17b",
        "IPY_MODEL_33d25bfa4a6d4a159970a05170b11dd7"
       ],
       "layout": "IPY_MODEL_23360c26a6f440829b9dec5ab193f974"
      }
     },
     "9d475df610e24abab1cb79a64c2dfad2": {
      "model_module": "@jupyter-widgets/base",
      "model_module_version": "1.0.0",
      "model_name": "LayoutModel",
      "state": {
       "width": "250px"
      }
     },
     "9d63937687a048f39932d82f8fde2867": {
      "model_module": "@jupyter-widgets/base",
      "model_module_version": "1.0.0",
      "model_name": "LayoutModel",
      "state": {
       "width": "250px"
      }
     },
     "9d65a5dc715a46a79d656ed92d33dd5a": {
      "model_module": "@jupyter-widgets/controls",
      "model_module_version": "1.2.0",
      "model_name": "DescriptionStyleModel",
      "state": {
       "description_width": "initial"
      }
     },
     "9d8abf4945424487bb38463f1e4a3a53": {
      "model_module": "@jupyter-widgets/base",
      "model_module_version": "1.0.0",
      "model_name": "LayoutModel",
      "state": {
       "width": "250px"
      }
     },
     "9d8d242efbd44357bc9cd9a2af41e8f6": {
      "model_module": "@jupyter-widgets/base",
      "model_module_version": "1.0.0",
      "model_name": "LayoutModel",
      "state": {
       "width": "250px"
      }
     },
     "9d9dc51d750c470795edb506be8b46af": {
      "model_module": "@jupyter-widgets/base",
      "model_module_version": "1.0.0",
      "model_name": "LayoutModel",
      "state": {
       "width": "250px"
      }
     },
     "9daa762f50534d748643d3fbc9ec2ba6": {
      "model_module": "@jupyter-widgets/controls",
      "model_module_version": "1.2.0",
      "model_name": "DropdownModel",
      "state": {
       "_options_labels": [
        "gleichartige",
        "unterschiedliche",
        " "
       ],
       "index": 2,
       "layout": "IPY_MODEL_12206ab61c1949c4a6af793e697ed15f",
       "style": "IPY_MODEL_5335f1fafc2841afb9ff31e8b1b58090"
      }
     },
     "9dd02c8cf40d48308ec0529df684731e": {
      "model_module": "@jupyter-widgets/base",
      "model_module_version": "1.0.0",
      "model_name": "LayoutModel",
      "state": {}
     },
     "9df6442c25564065a1986686fd5c7a90": {
      "model_module": "@jupyter-widgets/base",
      "model_module_version": "1.0.0",
      "model_name": "LayoutModel",
      "state": {
       "width": "600px"
      }
     },
     "9e708ed74d3b44e5b791973c4d19ad87": {
      "model_module": "@jupyter-widgets/controls",
      "model_module_version": "1.2.0",
      "model_name": "HTMLModel",
      "state": {
       "layout": "IPY_MODEL_6fa25f80df664cfe90a7b2c43bb3da4e",
       "style": "IPY_MODEL_bba752fb7cb4490b89099e134d8ed851",
       "value": "<h4 style=\"font-size:14px;\">Was bedeutet das Tag <i>VBN</i> im Browntagset (siehe 5.7)?</h4>"
      }
     },
     "9ea6dd00c80c4399a9abeb379fcabc34": {
      "model_module": "@jupyter-widgets/controls",
      "model_module_version": "1.2.0",
      "model_name": "HTMLModel",
      "state": {
       "layout": "IPY_MODEL_ebc301196c9a4c8aa5f6883dd8f6465c",
       "style": "IPY_MODEL_6e9235d02e6549c9a011f9d2b5d8a511",
       "value": "<i>Markieren Sie <ins>alle</ins> passenden Antworten: </i>"
      }
     },
     "9f01fb2cefd14f028a1b01c5b50727c9": {
      "model_module": "@jupyter-widgets/controls",
      "model_module_version": "1.2.0",
      "model_name": "DescriptionStyleModel",
      "state": {
       "description_width": ""
      }
     },
     "9f3a00258d0e4b23a321e46d2ae368db": {
      "model_module": "@jupyter-widgets/base",
      "model_module_version": "1.0.0",
      "model_name": "LayoutModel",
      "state": {
       "justify_content": "center"
      }
     },
     "9f44dedae7534fa2ac90047fa0916d26": {
      "model_module": "@jupyter-widgets/controls",
      "model_module_version": "1.2.0",
      "model_name": "ButtonModel",
      "state": {
       "description": "Korrekt?",
       "layout": "IPY_MODEL_dade54555fa54b309f18f3e149dcf05b",
       "style": "IPY_MODEL_be0d8e99de344502b1ca56ae1657a3d9"
      }
     },
     "9f5034d4a1324dd19bc7ca8c26c1662e": {
      "model_module": "@jupyter-widgets/controls",
      "model_module_version": "1.2.0",
      "model_name": "DropdownModel",
      "state": {
       "_options_labels": [
        "Konstituente",
        "Phrase",
        " "
       ],
       "index": 2,
       "layout": "IPY_MODEL_42b2c86d3dce4f7e8bc9307a0e624239",
       "style": "IPY_MODEL_46787a55e45a45f38d16cef90d6e1601"
      }
     },
     "9f5edb26783541d0b6b8f596ad7ce93a": {
      "model_module": "@jupyter-widgets/controls",
      "model_module_version": "1.2.0",
      "model_name": "DescriptionStyleModel",
      "state": {
       "description_width": ""
      }
     },
     "9fcf5f0fe09f486aa4302a1908ffd9d3": {
      "model_module": "@jupyter-widgets/base",
      "model_module_version": "1.0.0",
      "model_name": "LayoutModel",
      "state": {}
     },
     "9fdf911543e7493e9a8d245f7e161b62": {
      "model_module": "@jupyter-widgets/controls",
      "model_module_version": "1.2.0",
      "model_name": "DropdownModel",
      "state": {
       "_options_labels": [
        "Konstituente",
        "Phrase",
        " "
       ],
       "index": 1,
       "layout": "IPY_MODEL_1ba28cb6f56e42f0a12581332d366652",
       "style": "IPY_MODEL_9c37984e3e3f4e5599c1deac0fa9ec8d"
      }
     },
     "9ff85e78967343b3917420940841fc2b": {
      "model_module": "@jupyter-widgets/controls",
      "model_module_version": "1.2.0",
      "model_name": "HBoxModel",
      "state": {
       "children": [
        "IPY_MODEL_7d8f57c240534cfc893bf5e2e52a57c5",
        "IPY_MODEL_c5afcefe697f415192af98dad00d23c2"
       ],
       "layout": "IPY_MODEL_632f5836396445e192287a8dff71899e"
      }
     },
     "9fff580c54624a6fa04dbad1b19d4a74": {
      "model_module": "@jupyter-widgets/base",
      "model_module_version": "1.0.0",
      "model_name": "LayoutModel",
      "state": {}
     },
     "a00384a522734901a715fcbc65fe6f28": {
      "model_module": "@jupyter-widgets/base",
      "model_module_version": "1.0.0",
      "model_name": "LayoutModel",
      "state": {
       "width": "600px"
      }
     },
     "a01dd47ccc81485f94906194c45cd961": {
      "model_module": "@jupyter-widgets/base",
      "model_module_version": "1.0.0",
      "model_name": "LayoutModel",
      "state": {}
     },
     "a0308cccba1946f1a760641ed81a85c8": {
      "model_module": "@jupyter-widgets/controls",
      "model_module_version": "1.2.0",
      "model_name": "DescriptionStyleModel",
      "state": {
       "description_width": ""
      }
     },
     "a0411c69206a4b8ca0e1077a061fd13c": {
      "model_module": "@jupyter-widgets/base",
      "model_module_version": "1.0.0",
      "model_name": "LayoutModel",
      "state": {}
     },
     "a07a8b95685647209e7504b355b2fff7": {
      "model_module": "@jupyter-widgets/controls",
      "model_module_version": "1.2.0",
      "model_name": "ButtonStyleModel",
      "state": {}
     },
     "a085e0eb1a1c491794a7e25de8a26a99": {
      "model_module": "@jupyter-widgets/controls",
      "model_module_version": "1.2.0",
      "model_name": "DescriptionStyleModel",
      "state": {
       "description_width": ""
      }
     },
     "a0e3b5bfec5241cc83b3ba2110b58500": {
      "model_module": "@jupyter-widgets/controls",
      "model_module_version": "1.2.0",
      "model_name": "HTMLModel",
      "state": {
       "layout": "IPY_MODEL_a3c6b7a5c6884cfc8a9f9a92bec30bbc",
       "style": "IPY_MODEL_0d08405d7fc14696aaab30500c1cd793",
       "value": "<h4 style=\"font-size:14px;\">Was sind morphologische Kriterien für Wortkategorien?</h4>"
      }
     },
     "a0ea0aa35abb4fadb9b53618ba877811": {
      "model_module": "@jupyter-widgets/controls",
      "model_module_version": "1.2.0",
      "model_name": "ButtonStyleModel",
      "state": {}
     },
     "a0ec9e91327e4199b9caa382503f8cab": {
      "model_module": "@jupyter-widgets/controls",
      "model_module_version": "1.2.0",
      "model_name": "HBoxModel",
      "state": {
       "children": [
        "IPY_MODEL_107adb2fabba4d5e888b2ee508aa40df",
        "IPY_MODEL_fef51f513e42420abb532b815ee72055"
       ],
       "layout": "IPY_MODEL_72810f4279134a3ca33f6070e67f7ea6"
      }
     },
     "a0f9f6f6f4654846ba4183d61191aae8": {
      "model_module": "@jupyter-widgets/controls",
      "model_module_version": "1.2.0",
      "model_name": "DescriptionStyleModel",
      "state": {
       "description_width": "initial"
      }
     },
     "a0fbc441f6a34b22a1f2484f6df8c60e": {
      "model_module": "@jupyter-widgets/controls",
      "model_module_version": "1.2.0",
      "model_name": "CheckboxModel",
      "state": {
       "description": "Nur mit einem Schritt beginnt auch eine Reise von tausend Meilen.",
       "disabled": false,
       "layout": "IPY_MODEL_7df7377f258a4c68bf0c5a03a1646f45",
       "style": "IPY_MODEL_6d64b3fef1eb474290c7349b5e607b49",
       "value": true
      }
     },
     "a13403aa845b47d09b1ce5673209eb82": {
      "model_module": "@jupyter-widgets/controls",
      "model_module_version": "1.2.0",
      "model_name": "DescriptionStyleModel",
      "state": {
       "description_width": ""
      }
     },
     "a139778817904a21aa068690c8e2ca1a": {
      "model_module": "@jupyter-widgets/base",
      "model_module_version": "1.0.0",
      "model_name": "LayoutModel",
      "state": {}
     },
     "a1ae0e16e30f4d3a80491c6b28b13927": {
      "model_module": "@jupyter-widgets/controls",
      "model_module_version": "1.2.0",
      "model_name": "ButtonStyleModel",
      "state": {}
     },
     "a1bad026a1ef408082cd97076d411e9f": {
      "model_module": "@jupyter-widgets/base",
      "model_module_version": "1.0.0",
      "model_name": "LayoutModel",
      "state": {
       "justify_content": "center"
      }
     },
     "a1cf010a48a14faeaaeb1bf5ea12b50c": {
      "model_module": "@jupyter-widgets/controls",
      "model_module_version": "1.2.0",
      "model_name": "HTMLModel",
      "state": {
       "layout": "IPY_MODEL_e8932526129b471690bb69344775cd4d",
       "style": "IPY_MODEL_cd353559b18d496e9f0ffa418884ae35",
       "value": "<h4 style=\"font-size:14px;\">Was sind morphologische Kriterien für Wortkategorien?</h4>"
      }
     },
     "a1d1e61d49104db79b21d71fa4fd05cf": {
      "model_module": "@jupyter-widgets/controls",
      "model_module_version": "1.2.0",
      "model_name": "ButtonModel",
      "state": {
       "description": "Folge von Wortklassen",
       "layout": "IPY_MODEL_d3b317f61d7b452c93210ac2e020c4c1",
       "style": "IPY_MODEL_0f956d04b3244c1188e924991751dac1"
      }
     },
     "a1d26aa693814536ade11fc658d2dbdc": {
      "model_module": "@jupyter-widgets/base",
      "model_module_version": "1.0.0",
      "model_name": "LayoutModel",
      "state": {}
     },
     "a1d5ea56b17c42708fd486cc8e7ca583": {
      "model_module": "@jupyter-widgets/controls",
      "model_module_version": "1.2.0",
      "model_name": "DescriptionStyleModel",
      "state": {
       "description_width": "initial"
      }
     },
     "a1ef60fb7c81412a80673800ddd19077": {
      "model_module": "@jupyter-widgets/base",
      "model_module_version": "1.0.0",
      "model_name": "LayoutModel",
      "state": {
       "justify_content": "center"
      }
     },
     "a24418ffb2d54d8b83555858d3237d62": {
      "model_module": "@jupyter-widgets/controls",
      "model_module_version": "1.2.0",
      "model_name": "ButtonStyleModel",
      "state": {}
     },
     "a2510eca390349d9b14efb9406f40a98": {
      "model_module": "@jupyter-widgets/base",
      "model_module_version": "1.0.0",
      "model_name": "LayoutModel",
      "state": {
       "width": "600px"
      }
     },
     "a2534db4857f471ba2dbb0ad10f1b2bd": {
      "model_module": "@jupyter-widgets/controls",
      "model_module_version": "1.2.0",
      "model_name": "ButtonModel",
      "state": {
       "description": "Adverb",
       "layout": "IPY_MODEL_fb45e1d0252840fa8cf132a10ca31347",
       "style": "IPY_MODEL_b46f2160c7534b50adf7d5daa9be7322"
      }
     },
     "a297311eae824144b5d11296dab05807": {
      "model_module": "@jupyter-widgets/controls",
      "model_module_version": "1.2.0",
      "model_name": "ButtonModel",
      "state": {
       "description": "gerund",
       "layout": "IPY_MODEL_f1d91739888d48c5b05f41d6136571f6",
       "style": "IPY_MODEL_513dc43464b84eae936fa53d4865778d"
      }
     },
     "a2aca8518492432282c5b361a4042aa4": {
      "model_module": "@jupyter-widgets/base",
      "model_module_version": "1.0.0",
      "model_name": "LayoutModel",
      "state": {}
     },
     "a2b1361c8cdc4a8e8af3ae6f2dd480f6": {
      "model_module": "@jupyter-widgets/base",
      "model_module_version": "1.0.0",
      "model_name": "LayoutModel",
      "state": {
       "width": "250px"
      }
     },
     "a2c4209a0219469e81d0cf729330f0c1": {
      "model_module": "@jupyter-widgets/controls",
      "model_module_version": "1.2.0",
      "model_name": "VBoxModel",
      "state": {
       "children": [
        "IPY_MODEL_228d0786cc6748e1b39ed66b9f30deb6",
        "IPY_MODEL_fd455bca6079478bad5ad3eece87135c",
        "IPY_MODEL_6a76a58f41c741819c0e736ae10da6ef",
        "IPY_MODEL_a0ec9e91327e4199b9caa382503f8cab"
       ],
       "layout": "IPY_MODEL_58e453a0a77c4909ab3992317ea01d54"
      }
     },
     "a31b6f38a5de432a9f975d884e926a73": {
      "model_module": "@jupyter-widgets/controls",
      "model_module_version": "1.2.0",
      "model_name": "ButtonModel",
      "state": {
       "description": "3rd singular present",
       "layout": "IPY_MODEL_ae63a38d180d48cba4d8320fef50054b",
       "style": "IPY_MODEL_6ba647fe76094e7cacbaeccde9c78c8f"
      }
     },
     "a31e33c0bb8c48d681a77d10307d16de": {
      "model_module": "@jupyter-widgets/base",
      "model_module_version": "1.0.0",
      "model_name": "LayoutModel",
      "state": {}
     },
     "a35cc65f9e404daa93fd8ed45421d64f": {
      "model_module": "@jupyter-widgets/controls",
      "model_module_version": "1.2.0",
      "model_name": "HBoxModel",
      "state": {
       "children": [
        "IPY_MODEL_d6ceedb213224b29a862cdfbf852baf1",
        "IPY_MODEL_686a4b2bbd534007b97e3bcc763623e2"
       ],
       "layout": "IPY_MODEL_ea50b5a43b0f437f8176e73a9de9d4cb"
      }
     },
     "a3bd2d854c5f4198a36aa33caa576686": {
      "model_module": "@jupyter-widgets/controls",
      "model_module_version": "1.2.0",
      "model_name": "DescriptionStyleModel",
      "state": {
       "description_width": ""
      }
     },
     "a3c6b7a5c6884cfc8a9f9a92bec30bbc": {
      "model_module": "@jupyter-widgets/base",
      "model_module_version": "1.0.0",
      "model_name": "LayoutModel",
      "state": {}
     },
     "a3c830fcbb424820b40e6850a6f5f605": {
      "model_module": "@jupyter-widgets/base",
      "model_module_version": "1.0.0",
      "model_name": "LayoutModel",
      "state": {}
     },
     "a457a36f56864d9ca670e171e507e172": {
      "model_module": "@jupyter-widgets/controls",
      "model_module_version": "1.2.0",
      "model_name": "HBoxModel",
      "state": {
       "children": [
        "IPY_MODEL_59ea5ecbea8a48fe8a20be29cb64bd28",
        "IPY_MODEL_75a9e79f7f7e490e8a27bfa52988d344"
       ],
       "layout": "IPY_MODEL_3e6b6f21a76446059f9230d0c8a30057"
      }
     },
     "a4932e13ca3e491893a73bb9a2b7036e": {
      "model_module": "@jupyter-widgets/base",
      "model_module_version": "1.0.0",
      "model_name": "LayoutModel",
      "state": {
       "width": "600px"
      }
     },
     "a497faf506cd4c8ba9332b56f3571a72": {
      "model_module": "@jupyter-widgets/controls",
      "model_module_version": "1.2.0",
      "model_name": "VBoxModel",
      "state": {
       "children": [
        "IPY_MODEL_ff938070930c475e9ab11db698e3851c",
        "IPY_MODEL_3e3e256a04e94464a7ade9bc8f81a708",
        "IPY_MODEL_9ff85e78967343b3917420940841fc2b",
        "IPY_MODEL_2456074304394239a47880da3708ee28",
        "IPY_MODEL_d7fafb27a51643f782e8f43e13f4c696"
       ],
       "layout": "IPY_MODEL_72846f388f384b75a775734aee934eb7"
      }
     },
     "a4a999b95f0c4a628eab927819030f47": {
      "model_module": "@jupyter-widgets/controls",
      "model_module_version": "1.2.0",
      "model_name": "DescriptionStyleModel",
      "state": {
       "description_width": ""
      }
     },
     "a4eb79f7f3cc482595f4ad3e2fd2b6af": {
      "model_module": "@jupyter-widgets/controls",
      "model_module_version": "1.2.0",
      "model_name": "HBoxModel",
      "state": {
       "children": [
        "IPY_MODEL_d45ac15dc9c94889b2600c2e7fa2c618",
        "IPY_MODEL_82a4c4995fe545de85bb1986d8df5c2d"
       ],
       "layout": "IPY_MODEL_f0db64ec57564f5188d61dab2c9b0488"
      }
     },
     "a4f2c9af8368493682128f663908074e": {
      "model_module": "@jupyter-widgets/controls",
      "model_module_version": "1.2.0",
      "model_name": "HBoxModel",
      "state": {
       "children": [
        "IPY_MODEL_4a30b455ae274b75b80efeb2e6950802"
       ],
       "layout": "IPY_MODEL_047a8c43c1ba432c9e0f8398a3a59e08"
      }
     },
     "a504646e5eca4b0399c001ac8a79f2cc": {
      "model_module": "@jupyter-widgets/controls",
      "model_module_version": "1.2.0",
      "model_name": "CheckboxModel",
      "state": {
       "description": "Substitutionstest",
       "disabled": false,
       "layout": "IPY_MODEL_319d30c1e6f945269cf3cb77d05d9725",
       "style": "IPY_MODEL_5e8350bd946147688974bd15f271d685",
       "value": false
      }
     },
     "a55017a22ba24679a977453d19684a76": {
      "model_module": "@jupyter-widgets/controls",
      "model_module_version": "1.2.0",
      "model_name": "DescriptionStyleModel",
      "state": {
       "description_width": ""
      }
     },
     "a5684580313546f5907d771279bd6691": {
      "model_module": "@jupyter-widgets/controls",
      "model_module_version": "1.2.0",
      "model_name": "CheckboxModel",
      "state": {
       "description": "Es bezeichnet die näheren Umstände des im Verb ausgedrückten Geschehens.",
       "disabled": false,
       "layout": "IPY_MODEL_a5922ff3caf64b27873445d31e31272a",
       "style": "IPY_MODEL_1c7ffb10d7a841bfbb42e5fb5fd9b5f7",
       "value": false
      }
     },
     "a580f912d78b40f08b231307311d3cde": {
      "model_module": "@jupyter-widgets/controls",
      "model_module_version": "1.2.0",
      "model_name": "ButtonStyleModel",
      "state": {}
     },
     "a5922ff3caf64b27873445d31e31272a": {
      "model_module": "@jupyter-widgets/base",
      "model_module_version": "1.0.0",
      "model_name": "LayoutModel",
      "state": {
       "width": "600px"
      }
     },
     "a5c5f12cd4604267b719807c475019fb": {
      "model_module": "@jupyter-widgets/controls",
      "model_module_version": "1.2.0",
      "model_name": "VBoxModel",
      "state": {
       "children": [
        "IPY_MODEL_571a91f077ab4f98b369541c85f9b2b1",
        "IPY_MODEL_5b66bd745ac842ac81288433b3a5ecd0",
        "IPY_MODEL_9043e36831fd49edb4fa956dc0b17613",
        "IPY_MODEL_8fd734ea27b34debb52082beb3a9a0d2",
        "IPY_MODEL_e85ebf76e5f04360816c4a77f84a0580"
       ],
       "layout": "IPY_MODEL_f3b02cee7bda432a89c51080d8bf3e58"
      }
     },
     "a5c837b55b5f4a22a09678244d51d6fe": {
      "model_module": "@jupyter-widgets/controls",
      "model_module_version": "1.2.0",
      "model_name": "DescriptionStyleModel",
      "state": {
       "description_width": "initial"
      }
     },
     "a5d150f6ed314c2cb89e52717260a630": {
      "model_module": "@jupyter-widgets/controls",
      "model_module_version": "1.2.0",
      "model_name": "DescriptionStyleModel",
      "state": {
       "description_width": ""
      }
     },
     "a606d227ee21487ab47a96add3d04d5f": {
      "model_module": "@jupyter-widgets/controls",
      "model_module_version": "1.2.0",
      "model_name": "ButtonStyleModel",
      "state": {}
     },
     "a6aaf2b4933640a69e28e8fbc7ca824a": {
      "model_module": "@jupyter-widgets/controls",
      "model_module_version": "1.2.0",
      "model_name": "VBoxModel",
      "state": {
       "children": [
        "IPY_MODEL_212fb9c69fbe4b2ba753f43ca3732e91",
        "IPY_MODEL_c761ba2864154e41ba08dee2184e6100",
        "IPY_MODEL_2f8b83906f564150947bbd97afff9297",
        "IPY_MODEL_ebd044d0df554613bc6c7a16b741f6a1",
        "IPY_MODEL_0c54f809d7d644eca54264ad87fa9f6d"
       ],
       "layout": "IPY_MODEL_fdc43b8848b74115820215d29f90f27e"
      }
     },
     "a6b08ff8748c425582e8d75e534ddd31": {
      "model_module": "@jupyter-widgets/base",
      "model_module_version": "1.0.0",
      "model_name": "LayoutModel",
      "state": {}
     },
     "a6f8ee993dee400d8b52cba737e9f3c8": {
      "model_module": "@jupyter-widgets/controls",
      "model_module_version": "1.2.0",
      "model_name": "CheckboxModel",
      "state": {
       "description": "gleicher Kontext",
       "disabled": false,
       "layout": "IPY_MODEL_e71a3d0e496349949eafba2f4ea81a8b",
       "style": "IPY_MODEL_ba20e4e322654b3895a971861ae645b1",
       "value": false
      }
     },
     "a6ffb11c3a184f6ea6dc5e480ec95f07": {
      "model_module": "@jupyter-widgets/controls",
      "model_module_version": "1.2.0",
      "model_name": "HTMLModel",
      "state": {
       "layout": "IPY_MODEL_852609a3877840c9ad39c48896c5885c",
       "style": "IPY_MODEL_510386b3b3ed466ab4bbebd1d8d4e712",
       "value": "<i>Markieren Sie <ins>alle</ins> passenden Antworten: </i>"
      }
     },
     "a7042366fd1c4dd2bb18e4d03932695b": {
      "model_module": "@jupyter-widgets/base",
      "model_module_version": "1.0.0",
      "model_name": "LayoutModel",
      "state": {
       "align_content": "stretch",
       "align_items": "stretch",
       "display": "inline-flex",
       "flex": "flex-grow",
       "flex_flow": "row wrap",
       "justify_content": "flex-start"
      }
     },
     "a7bb67ef76c743cfa3decf3f9b52db6d": {
      "model_module": "@jupyter-widgets/controls",
      "model_module_version": "1.2.0",
      "model_name": "ButtonModel",
      "state": {
       "description": "gerund",
       "layout": "IPY_MODEL_05837f23126046519bc557c35f02c394",
       "style": "IPY_MODEL_b69d48d6ae8149f98370b268d2cd77bd"
      }
     },
     "a7c581e1bd0b473ebf3290833c892094": {
      "model_module": "@jupyter-widgets/base",
      "model_module_version": "1.0.0",
      "model_name": "LayoutModel",
      "state": {}
     },
     "a809e77ba24a4499bd55985220d2c2aa": {
      "model_module": "@jupyter-widgets/controls",
      "model_module_version": "1.2.0",
      "model_name": "VBoxModel",
      "state": {
       "children": [
        "IPY_MODEL_c1172dc6f58142bdba36e62adc486feb",
        "IPY_MODEL_e115e00398614ce2ad84306e725098f6",
        "IPY_MODEL_9224e666d9e445b88dc866ce427dc6f7",
        "IPY_MODEL_0c22203a7da64bbdbab659bdd3d862c9",
        "IPY_MODEL_0b3275fd41f047e5b030b88b16ba4f4a"
       ],
       "layout": "IPY_MODEL_d22c7c917b2344fabb758c236eb0da22"
      }
     },
     "a8263b3320a049b7b0be86c28e81e94c": {
      "model_module": "@jupyter-widgets/base",
      "model_module_version": "1.0.0",
      "model_name": "LayoutModel",
      "state": {
       "width": "250px"
      }
     },
     "a8312e77973f4bd2ab5dda46af8184aa": {
      "model_module": "@jupyter-widgets/base",
      "model_module_version": "1.0.0",
      "model_name": "LayoutModel",
      "state": {
       "width": "150px"
      }
     },
     "a83814bf9e5942fbb6f6c6cc6ec2c7db": {
      "model_module": "@jupyter-widgets/base",
      "model_module_version": "1.0.0",
      "model_name": "LayoutModel",
      "state": {
       "width": "250px"
      }
     },
     "a83e78f142254d909d6715e59c86e265": {
      "model_module": "@jupyter-widgets/base",
      "model_module_version": "1.0.0",
      "model_name": "LayoutModel",
      "state": {
       "width": "150px"
      }
     },
     "a852abfa3f624aa598ef1163c99e2e44": {
      "model_module": "@jupyter-widgets/base",
      "model_module_version": "1.0.0",
      "model_name": "LayoutModel",
      "state": {
       "justify_content": "center"
      }
     },
     "a88c8f4f5ffd48e9af313a7a231c9947": {
      "model_module": "@jupyter-widgets/controls",
      "model_module_version": "1.2.0",
      "model_name": "VBoxModel",
      "state": {
       "children": [
        "IPY_MODEL_b35d02ccd74d4b0d908bbcd90e40856f",
        "IPY_MODEL_8de9afecce714541a4c2ca4046137a44",
        "IPY_MODEL_51434281aa6c40f59c136b6d976ed822",
        "IPY_MODEL_159f955b6b86413ea29f6cd2038b0fc6"
       ],
       "layout": "IPY_MODEL_2a3b673596b24107b8b2b13256a8c611"
      }
     },
     "a8b19dc2c3fa46c2b55e3c194e7bf7fe": {
      "model_module": "@jupyter-widgets/controls",
      "model_module_version": "1.2.0",
      "model_name": "DescriptionStyleModel",
      "state": {
       "description_width": ""
      }
     },
     "a8ba450e829d492592a256a037e77fd1": {
      "model_module": "@jupyter-widgets/controls",
      "model_module_version": "1.2.0",
      "model_name": "VBoxModel",
      "state": {
       "children": [
        "IPY_MODEL_f5bc0818dec8429dae96d257042aa742",
        "IPY_MODEL_2bfe47de3df04f6b9bdbaf08b63da96a",
        "IPY_MODEL_72ac456ce9aa48fe88951265d6907fa3"
       ],
       "layout": "IPY_MODEL_440165c6f1bf4a19afc6d43ec6f0f8b2"
      }
     },
     "a8c505d8e4814e1cb21345836c44a05e": {
      "model_module": "@jupyter-widgets/controls",
      "model_module_version": "1.2.0",
      "model_name": "ButtonModel",
      "state": {
       "description": "Korrekt?",
       "layout": "IPY_MODEL_529a618f2b844ed9b0c2db7d274a60e1",
       "style": "IPY_MODEL_617f2dc8d6a8453d8da55aab4f3364ca"
      }
     },
     "a90ea2c2312141d48b49bb302701f5ed": {
      "model_module": "@jupyter-widgets/base",
      "model_module_version": "1.0.0",
      "model_name": "LayoutModel",
      "state": {
       "justify_content": "center"
      }
     },
     "a93bd181f41e4a1b8818495f7a5f4482": {
      "model_module": "@jupyter-widgets/controls",
      "model_module_version": "1.2.0",
      "model_name": "ButtonStyleModel",
      "state": {
       "button_color": "lightgreen"
      }
     },
     "a95d81bb3b3643a0ab3b2b0da2f8c396": {
      "model_module": "@jupyter-widgets/base",
      "model_module_version": "1.0.0",
      "model_name": "LayoutModel",
      "state": {}
     },
     "a98aa2924f144c039c7d390d9d022653": {
      "model_module": "@jupyter-widgets/controls",
      "model_module_version": "1.2.0",
      "model_name": "HTMLModel",
      "state": {
       "layout": "IPY_MODEL_7b35cc3bba5443c8b8eebe407ea53811",
       "style": "IPY_MODEL_543349317c644ec097072b380464f8df",
       "value": "<h4 style=\"font-size:14px;\">Welche Wortart folgt damit für das Wort <i>gut</i> in Satz 2?</h4>"
      }
     },
     "a98df545a5d3429db79866651bdf5940": {
      "model_module": "@jupyter-widgets/base",
      "model_module_version": "1.0.0",
      "model_name": "LayoutModel",
      "state": {}
     },
     "a991ffa8e4e44a52ae6ebe26b4aa4f44": {
      "model_module": "@jupyter-widgets/controls",
      "model_module_version": "1.2.0",
      "model_name": "HTMLModel",
      "state": {
       "layout": "IPY_MODEL_bf5333e15c604a58a614bada99d09111",
       "style": "IPY_MODEL_1ceb361b3e1344e8b562053a8d832a5e",
       "value": "<h4 style=\"font-size:14px;\">Welche Wortart könnte man für das Wort <i>gut</i> in Satz 2 vermuten, wenn man Adverbien nicht morphologisch, sondern semantisch charakterisiert (als Wortart, die der Modifizierung des Verbalgeschehens dient)?</h4>"
      }
     },
     "a9bb436647eb464a9f5dae980661f469": {
      "model_module": "@jupyter-widgets/controls",
      "model_module_version": "1.2.0",
      "model_name": "ButtonStyleModel",
      "state": {}
     },
     "a9c7bd67b32a44dd938372d3a52e6a78": {
      "model_module": "@jupyter-widgets/base",
      "model_module_version": "1.0.0",
      "model_name": "LayoutModel",
      "state": {
       "width": "250px"
      }
     },
     "a9d1071c794548e7b4ec7c2330492715": {
      "model_module": "@jupyter-widgets/base",
      "model_module_version": "1.0.0",
      "model_name": "LayoutModel",
      "state": {}
     },
     "a9eb1ceea6aa46fbabbb344f534b372a": {
      "model_module": "@jupyter-widgets/controls",
      "model_module_version": "1.2.0",
      "model_name": "DescriptionStyleModel",
      "state": {
       "description_width": ""
      }
     },
     "aa2c217f98664504955f7dc074917a13": {
      "model_module": "@jupyter-widgets/base",
      "model_module_version": "1.0.0",
      "model_name": "LayoutModel",
      "state": {}
     },
     "aa2fb08f267e4ea8b779e44f10480ee2": {
      "model_module": "@jupyter-widgets/controls",
      "model_module_version": "1.2.0",
      "model_name": "ButtonStyleModel",
      "state": {}
     },
     "aa408d3e29ec473daddf70b9f026f834": {
      "model_module": "@jupyter-widgets/base",
      "model_module_version": "1.0.0",
      "model_name": "LayoutModel",
      "state": {}
     },
     "aa6033ea764f41d4a453e249b2e02e81": {
      "model_module": "@jupyter-widgets/controls",
      "model_module_version": "1.2.0",
      "model_name": "DescriptionStyleModel",
      "state": {
       "description_width": ""
      }
     },
     "aa8ec83ca176499da3c83d195a5afc0c": {
      "model_module": "@jupyter-widgets/controls",
      "model_module_version": "1.2.0",
      "model_name": "DescriptionStyleModel",
      "state": {
       "description_width": ""
      }
     },
     "aaca37cdee5f4337bb349b7e50bf7591": {
      "model_module": "@jupyter-widgets/base",
      "model_module_version": "1.0.0",
      "model_name": "LayoutModel",
      "state": {}
     },
     "aacc2642fb5a4c03945975d803c04809": {
      "model_module": "@jupyter-widgets/controls",
      "model_module_version": "1.2.0",
      "model_name": "VBoxModel",
      "state": {
       "children": [
        "IPY_MODEL_0b0cb93ba8aa425cb7331945578d2b3b",
        "IPY_MODEL_3c0d6db386cb4236afe32d165734547a",
        "IPY_MODEL_6e1fa1fbd80b42c398fe7085bcd6ae11",
        "IPY_MODEL_4505a4655ae0496291833c879a1487d4"
       ],
       "layout": "IPY_MODEL_38213ffa90fd47219f636ac5e6d2def5"
      }
     },
     "ab7caa5cbca64586908ee637b268fb93": {
      "model_module": "@jupyter-widgets/base",
      "model_module_version": "1.0.0",
      "model_name": "LayoutModel",
      "state": {
       "width": "250px"
      }
     },
     "ab9e8d5419994fed9cad0815d9501c4b": {
      "model_module": "@jupyter-widgets/base",
      "model_module_version": "1.0.0",
      "model_name": "LayoutModel",
      "state": {}
     },
     "ab9f962835de478d90b1d940d1a3e2de": {
      "model_module": "@jupyter-widgets/base",
      "model_module_version": "1.0.0",
      "model_name": "LayoutModel",
      "state": {}
     },
     "abf262510ef7400f8f27229df1bcb699": {
      "model_module": "@jupyter-widgets/controls",
      "model_module_version": "1.2.0",
      "model_name": "VBoxModel",
      "state": {
       "children": [
        "IPY_MODEL_65e8c81b47d24d578b796a4295409de1",
        "IPY_MODEL_4be86fd8e7ce46658fb3d70ad11c9e1f",
        "IPY_MODEL_c889b94b962a4deba8faad23b7e6682b",
        "IPY_MODEL_b07166f9ebf148a98c03ae4a2f52cdde",
        "IPY_MODEL_7cf095a3e2a94606b24ddf04e18b26ff"
       ],
       "layout": "IPY_MODEL_e5599948de5444b3bc605cd7f0736f84"
      }
     },
     "ac294372c26844bcb446dbacc7511f84": {
      "model_module": "@jupyter-widgets/controls",
      "model_module_version": "1.2.0",
      "model_name": "DropdownModel",
      "state": {
       "_options_labels": [
        "gleichartige",
        "unterschiedliche",
        " "
       ],
       "index": 0,
       "layout": "IPY_MODEL_97f12f82cdc0448cb150d2b7582bc25f",
       "style": "IPY_MODEL_2855f54797ef45e8b1b6df986c07ffc5"
      }
     },
     "ac4e38c0282549b1b8cc2f831faa9141": {
      "model_module": "@jupyter-widgets/base",
      "model_module_version": "1.0.0",
      "model_name": "LayoutModel",
      "state": {}
     },
     "ac98d6599e124edd85f39868ccc7a104": {
      "model_module": "@jupyter-widgets/base",
      "model_module_version": "1.0.0",
      "model_name": "LayoutModel",
      "state": {
       "width": "150px"
      }
     },
     "acb5f1c2e53c4b0babcdafa213b18499": {
      "model_module": "@jupyter-widgets/base",
      "model_module_version": "1.0.0",
      "model_name": "LayoutModel",
      "state": {
       "justify_content": "center"
      }
     },
     "acd428bf18b54328ba3c634995b4a17b": {
      "model_module": "@jupyter-widgets/controls",
      "model_module_version": "1.2.0",
      "model_name": "DropdownModel",
      "state": {
       "_options_labels": [
        "Bedeutung",
        "Wohlgeformtheit",
        " "
       ],
       "index": 1,
       "layout": "IPY_MODEL_8bc195a845c84074ab3e3303c02b3bca",
       "style": "IPY_MODEL_578082d50aef4b77991ff65e0c4834a7"
      }
     },
     "ad13fabcb61d41bfb3f00114278ece75": {
      "model_module": "@jupyter-widgets/controls",
      "model_module_version": "1.2.0",
      "model_name": "ButtonModel",
      "state": {
       "description": "Korrekt?",
       "layout": "IPY_MODEL_575f336547744f77af10238563cd8261",
       "style": "IPY_MODEL_228044a8cf414f3ab91a5ca6983b9b0d"
      }
     },
     "ad34c3a1d3fd42b9b9f158e6458905f3": {
      "model_module": "@jupyter-widgets/controls",
      "model_module_version": "1.2.0",
      "model_name": "HTMLModel",
      "state": {
       "layout": "IPY_MODEL_33ef6439bcbe4ab0b0149015e75b278a",
       "style": "IPY_MODEL_14acd768cd784530b31872516bfcb329",
       "value": "<i>Vervollständigen Sie den Lückentext: </i>"
      }
     },
     "ad5e1eda0b8d49698d1d32da8c06ae93": {
      "model_module": "@jupyter-widgets/base",
      "model_module_version": "1.0.0",
      "model_name": "LayoutModel",
      "state": {
       "justify_content": "center"
      }
     },
     "ad616d38c4a14eef9e6c64c37c121a4d": {
      "model_module": "@jupyter-widgets/controls",
      "model_module_version": "1.2.0",
      "model_name": "HTMLModel",
      "state": {
       "layout": "IPY_MODEL_94865400fd03422c8e69386992e39a23",
       "style": "IPY_MODEL_595b770c29914a739cc6d4912e5b9f52",
       "value": "<h4 style=\"font-size:14px;\">Kategorie.</h4>"
      }
     },
     "ad7d094b2c314446a31a8c9f1b2deec8": {
      "model_module": "@jupyter-widgets/controls",
      "model_module_version": "1.2.0",
      "model_name": "DescriptionStyleModel",
      "state": {
       "description_width": ""
      }
     },
     "adcb1635b51b45fb97eb7506e3861481": {
      "model_module": "@jupyter-widgets/base",
      "model_module_version": "1.0.0",
      "model_name": "LayoutModel",
      "state": {
       "justify_content": "center"
      }
     },
     "ae127b1e7b9e4f7598683eb59399ae03": {
      "model_module": "@jupyter-widgets/controls",
      "model_module_version": "1.2.0",
      "model_name": "ButtonModel",
      "state": {
       "description": "gerund",
       "layout": "IPY_MODEL_e2f7a463243c4c4691a6b5dd3a0a8126",
       "style": "IPY_MODEL_649ab1fbead34a33aafcd0d2d95dc1fc"
      }
     },
     "ae63a38d180d48cba4d8320fef50054b": {
      "model_module": "@jupyter-widgets/base",
      "model_module_version": "1.0.0",
      "model_name": "LayoutModel",
      "state": {
       "width": "250px"
      }
     },
     "ae7d1e85073742049ab7780d7b0b06dd": {
      "model_module": "@jupyter-widgets/controls",
      "model_module_version": "1.2.0",
      "model_name": "HBoxModel",
      "state": {
       "children": [
        "IPY_MODEL_48b67b67432e4e3c89334baad4b65362",
        "IPY_MODEL_b31300796682499cbc10c94662ee8f15"
       ],
       "layout": "IPY_MODEL_2ff4f732fb1941de811f9d24df2fa383"
      }
     },
     "ae7e2baab9944aee9f13fe85440fb2cd": {
      "model_module": "@jupyter-widgets/base",
      "model_module_version": "1.0.0",
      "model_name": "LayoutModel",
      "state": {}
     },
     "aec47d2591da4471aa5e8ebade263c5b": {
      "model_module": "@jupyter-widgets/controls",
      "model_module_version": "1.2.0",
      "model_name": "HTMLModel",
      "state": {
       "layout": "IPY_MODEL_f11b911326054a4b91583d1c9321131c",
       "style": "IPY_MODEL_dc6802297d46445bad0b6e36eb980535",
       "value": "<i>Wählen Sie die <ins>eine</ins> korrekte Antwort aus: </i>"
      }
     },
     "aec4c34d1f2c4d69a71efafb0d35bc4f": {
      "model_module": "@jupyter-widgets/controls",
      "model_module_version": "1.2.0",
      "model_name": "HBoxModel",
      "state": {
       "children": [
        "IPY_MODEL_fd2fbb21565d4046834e3a50e712a22b"
       ],
       "layout": "IPY_MODEL_d91e76abb2c94ec4882c1b19ba1e6735"
      }
     },
     "aef5f78920aa4084bf495e244d248e3c": {
      "model_module": "@jupyter-widgets/base",
      "model_module_version": "1.0.0",
      "model_name": "LayoutModel",
      "state": {
       "width": "600px"
      }
     },
     "af0d8f2c59e242d4aee560055e27dbd5": {
      "model_module": "@jupyter-widgets/base",
      "model_module_version": "1.0.0",
      "model_name": "LayoutModel",
      "state": {
       "width": "250px"
      }
     },
     "af302bacf0a54712afa9f498a2e08952": {
      "model_module": "@jupyter-widgets/base",
      "model_module_version": "1.0.0",
      "model_name": "LayoutModel",
      "state": {
       "width": "250px"
      }
     },
     "af468f8496e144f9b96bccecfff84345": {
      "model_module": "@jupyter-widgets/controls",
      "model_module_version": "1.2.0",
      "model_name": "ButtonModel",
      "state": {
       "description": "Korrekt?",
       "layout": "IPY_MODEL_88741e0291ec4e10b464ce34e1219863",
       "style": "IPY_MODEL_ff9e8d083f294bd3b7e6922a98b4c862"
      }
     },
     "af5b104fc15c4167b98815f170379096": {
      "model_module": "@jupyter-widgets/controls",
      "model_module_version": "1.2.0",
      "model_name": "ButtonModel",
      "state": {
       "description": "past participle",
       "layout": "IPY_MODEL_01ac87c3c89d427fb34666d8cff76bda",
       "style": "IPY_MODEL_6bf50b0035434cb188705adb69ba99b4"
      }
     },
     "af7661ce71474615a4d42db3bdbb4fa5": {
      "model_module": "@jupyter-widgets/controls",
      "model_module_version": "1.2.0",
      "model_name": "HTMLModel",
      "state": {
       "layout": "IPY_MODEL_d2c2f0a0eb1e4829b3cfcbcaa21e5adb",
       "style": "IPY_MODEL_b12c501447974afe952748bba4e5ea35",
       "value": "<h4 style=\"font-size:14px;\">Phrasen verkettet werden können. Das Ergebnis ist eine Phrase des gleichen Typs, also der gleichen</h4>"
      }
     },
     "aff2430f96384f0eb56ec9c991e31965": {
      "model_module": "@jupyter-widgets/base",
      "model_module_version": "1.0.0",
      "model_name": "LayoutModel",
      "state": {
       "justify_content": "center"
      }
     },
     "b025d65598ba4b5587022c2f7d570aa0": {
      "model_module": "@jupyter-widgets/base",
      "model_module_version": "1.0.0",
      "model_name": "LayoutModel",
      "state": {
       "width": "250px"
      }
     },
     "b07166f9ebf148a98c03ae4a2f52cdde": {
      "model_module": "@jupyter-widgets/controls",
      "model_module_version": "1.2.0",
      "model_name": "HBoxModel",
      "state": {
       "children": [
        "IPY_MODEL_5268f871bf994268a052e68d9bde973b",
        "IPY_MODEL_1bee5ff49fac46c2a96161eff663bdcc"
       ],
       "layout": "IPY_MODEL_f9c485831ec24255bec2e9df4659253e"
      }
     },
     "b07f9127510f4697911800c0dd7448a2": {
      "model_module": "@jupyter-widgets/base",
      "model_module_version": "1.0.0",
      "model_name": "LayoutModel",
      "state": {
       "align_content": "stretch",
       "align_items": "stretch",
       "display": "inline-flex",
       "flex": "flex-grow",
       "flex_flow": "row wrap",
       "justify_content": "flex-start"
      }
     },
     "b0811c360c614ec5896bae21a918db94": {
      "model_module": "@jupyter-widgets/base",
      "model_module_version": "1.0.0",
      "model_name": "LayoutModel",
      "state": {
       "justify_content": "center"
      }
     },
     "b088203a31c04a95887669547fe9484a": {
      "model_module": "@jupyter-widgets/controls",
      "model_module_version": "1.2.0",
      "model_name": "DescriptionStyleModel",
      "state": {
       "description_width": ""
      }
     },
     "b08a15cee843482d9d4d4a38bd591d23": {
      "model_module": "@jupyter-widgets/base",
      "model_module_version": "1.0.0",
      "model_name": "LayoutModel",
      "state": {}
     },
     "b0d293ef048144aaa2d4177c1336fffa": {
      "model_module": "@jupyter-widgets/controls",
      "model_module_version": "1.2.0",
      "model_name": "HBoxModel",
      "state": {
       "children": [
        "IPY_MODEL_43c8c5f40dff464a9297ecc7474a8e53",
        "IPY_MODEL_3dfbfa362f5a4202b8b3f5267db1ed07"
       ],
       "layout": "IPY_MODEL_2283b06b6780471581ee3639db2d40e9"
      }
     },
     "b10d4245e23344f58472346ebae1c650": {
      "model_module": "@jupyter-widgets/controls",
      "model_module_version": "1.2.0",
      "model_name": "CheckboxModel",
      "state": {
       "description": "Koordinationstest",
       "disabled": false,
       "layout": "IPY_MODEL_2dac091edaae4819bef6c336fd331c32",
       "style": "IPY_MODEL_b3cb6fcdb93844b98086f1587ed0eb9c",
       "value": false
      }
     },
     "b112775c976d4b6e8975f40563eb9455": {
      "model_module": "@jupyter-widgets/controls",
      "model_module_version": "1.2.0",
      "model_name": "DropdownModel",
      "state": {
       "_options_labels": [
        "Konstituenten",
        "Phrasen",
        " "
       ],
       "index": 0,
       "layout": "IPY_MODEL_0bc2903f92594af99847458e2d9929a7",
       "style": "IPY_MODEL_5b7cbd3bc0ee40a6bf3a2f20ba9248fd"
      }
     },
     "b129ef6962164cefaa2569a345398217": {
      "model_module": "@jupyter-widgets/base",
      "model_module_version": "1.0.0",
      "model_name": "LayoutModel",
      "state": {}
     },
     "b12c501447974afe952748bba4e5ea35": {
      "model_module": "@jupyter-widgets/controls",
      "model_module_version": "1.2.0",
      "model_name": "DescriptionStyleModel",
      "state": {
       "description_width": ""
      }
     },
     "b1344d4facf246e09a67d70a93a3c194": {
      "model_module": "@jupyter-widgets/base",
      "model_module_version": "1.0.0",
      "model_name": "LayoutModel",
      "state": {}
     },
     "b157706263c44fa0bd7bf057c3ef1cfa": {
      "model_module": "@jupyter-widgets/controls",
      "model_module_version": "1.2.0",
      "model_name": "ButtonModel",
      "state": {
       "description": "Adjektiv",
       "layout": "IPY_MODEL_18c2ec9723bf421c9ad9373982b10e46",
       "style": "IPY_MODEL_f6a550d1b1044d3d91be12030955a007"
      }
     },
     "b18a25409c93461d8671a436be10bc6f": {
      "model_module": "@jupyter-widgets/controls",
      "model_module_version": "1.2.0",
      "model_name": "HTMLModel",
      "state": {
       "layout": "IPY_MODEL_94b090fd5e3841f299116056c0f99e60",
       "style": "IPY_MODEL_6d993776773e4c5c9c9459a3d7ecd8c5",
       "value": "<h4 style=\"font-size:14px;\">, aber keine</h4>"
      }
     },
     "b18ccdddb5c449f0a7727e69e81ae84d": {
      "model_module": "@jupyter-widgets/controls",
      "model_module_version": "1.2.0",
      "model_name": "DescriptionStyleModel",
      "state": {
       "description_width": ""
      }
     },
     "b1c3a1a527f345e4bf51199c7cd44f84": {
      "model_module": "@jupyter-widgets/base",
      "model_module_version": "1.0.0",
      "model_name": "LayoutModel",
      "state": {
       "width": "250px"
      }
     },
     "b1d98a7e1dfc483b92f628fd29de8638": {
      "model_module": "@jupyter-widgets/base",
      "model_module_version": "1.0.0",
      "model_name": "LayoutModel",
      "state": {
       "width": "150px"
      }
     },
     "b2004758f0b3410987aec23ed6f67e71": {
      "model_module": "@jupyter-widgets/base",
      "model_module_version": "1.0.0",
      "model_name": "LayoutModel",
      "state": {
       "width": "600px"
      }
     },
     "b2013aa1a00d4e7fb5aa4e548342ae3f": {
      "model_module": "@jupyter-widgets/controls",
      "model_module_version": "1.2.0",
      "model_name": "DescriptionStyleModel",
      "state": {
       "description_width": ""
      }
     },
     "b23e76178a374acdb8120bd952dbedb9": {
      "model_module": "@jupyter-widgets/controls",
      "model_module_version": "1.2.0",
      "model_name": "DescriptionStyleModel",
      "state": {
       "description_width": ""
      }
     },
     "b2815f904c934844894905544683e9a5": {
      "model_module": "@jupyter-widgets/controls",
      "model_module_version": "1.2.0",
      "model_name": "VBoxModel",
      "state": {
       "children": [
        "IPY_MODEL_9e708ed74d3b44e5b791973c4d19ad87",
        "IPY_MODEL_846a08b570934c1eae289a3a5e483d17",
        "IPY_MODEL_17e14bb48eb24a819056e1049a94584e",
        "IPY_MODEL_d6343b31df324995865e0d76938d9dfb",
        "IPY_MODEL_6a4271b4abb44dc88e531ef8a3360f31"
       ],
       "layout": "IPY_MODEL_f385bab6972e4340a85b5f4c8c8a4537"
      }
     },
     "b291b987a2d24c2d82e47a0d9d8f8529": {
      "model_module": "@jupyter-widgets/base",
      "model_module_version": "1.0.0",
      "model_name": "LayoutModel",
      "state": {
       "width": "250px"
      }
     },
     "b2edddb21b4944d388828df262730bb5": {
      "model_module": "@jupyter-widgets/base",
      "model_module_version": "1.0.0",
      "model_name": "LayoutModel",
      "state": {}
     },
     "b30efb05b15e43999477f7fabd71d7b2": {
      "model_module": "@jupyter-widgets/controls",
      "model_module_version": "1.2.0",
      "model_name": "HTMLModel",
      "state": {
       "layout": "IPY_MODEL_23d7ff799bce4fc68e4141a4a5b12c39",
       "style": "IPY_MODEL_b3695b2ffad54dba99a097e4f3a1a2ee",
       "value": "<h4 style=\"font-size:14px;\"><i>Eine Reise beginnt auch nur mit einem Schritt.</i><br>Welche Tests wurden angewandt?</h4>"
      }
     },
     "b31300796682499cbc10c94662ee8f15": {
      "model_module": "@jupyter-widgets/controls",
      "model_module_version": "1.2.0",
      "model_name": "ButtonModel",
      "state": {
       "description": "Adverb",
       "layout": "IPY_MODEL_12bb3f6f00494bfbb65029f1a72409cf",
       "style": "IPY_MODEL_c468fd97b09c43948f3278c6a4a60715"
      }
     },
     "b3208295a445414ba508ae43358e7f1a": {
      "model_module": "@jupyter-widgets/controls",
      "model_module_version": "1.2.0",
      "model_name": "ButtonModel",
      "state": {
       "description": "Partikel",
       "layout": "IPY_MODEL_ee53e8d2cd6247338d86e816a1f7c7bb",
       "style": "IPY_MODEL_e6c42d0557c644d59ab80d006d35238f"
      }
     },
     "b320d344ac8a45f085f8e6ac2c5b6fd4": {
      "model_module": "@jupyter-widgets/controls",
      "model_module_version": "1.2.0",
      "model_name": "HTMLModel",
      "state": {
       "layout": "IPY_MODEL_4a8320ead6524a2fa7e140c3fb5b4979",
       "style": "IPY_MODEL_a3bd2d854c5f4198a36aa33caa576686",
       "value": "<h4 style=\"font-size:14px;\">. Es gehört zu einer komplexen</h4>"
      }
     },
     "b32d3303f8a24a74bbafd8e8264a4b28": {
      "model_module": "@jupyter-widgets/controls",
      "model_module_version": "1.2.0",
      "model_name": "VBoxModel",
      "state": {
       "children": [
        "IPY_MODEL_cca2795ae83d4c5d94b106a7cce5f309",
        "IPY_MODEL_bd14ec53f4b54719ab2fd283e90da342",
        "IPY_MODEL_8b3dc111004d48908ab24360972cb936"
       ],
       "layout": "IPY_MODEL_59203394d2394d08912f640c38eca752"
      }
     },
     "b34a6b5fb4ca480a809f30c7e5683073": {
      "model_module": "@jupyter-widgets/controls",
      "model_module_version": "1.2.0",
      "model_name": "DescriptionStyleModel",
      "state": {
       "description_width": "initial"
      }
     },
     "b35d02ccd74d4b0d908bbcd90e40856f": {
      "model_module": "@jupyter-widgets/controls",
      "model_module_version": "1.2.0",
      "model_name": "CheckboxModel",
      "state": {
       "description": "Zu einem Wort werden alle Synonyme gefunden.",
       "disabled": false,
       "layout": "IPY_MODEL_ca26450b99a845a9b5522ec2c0c46c30",
       "style": "IPY_MODEL_b79e6bb79ad4416c8015531a8447e5c3",
       "value": false
      }
     },
     "b3695b2ffad54dba99a097e4f3a1a2ee": {
      "model_module": "@jupyter-widgets/controls",
      "model_module_version": "1.2.0",
      "model_name": "DescriptionStyleModel",
      "state": {
       "description_width": ""
      }
     },
     "b37942da45f347c9b668548a3d7538ad": {
      "model_module": "@jupyter-widgets/base",
      "model_module_version": "1.0.0",
      "model_name": "LayoutModel",
      "state": {
       "width": "600px"
      }
     },
     "b3ace42d3eae48b786a956cd5679424b": {
      "model_module": "@jupyter-widgets/base",
      "model_module_version": "1.0.0",
      "model_name": "LayoutModel",
      "state": {
       "width": "250px"
      }
     },
     "b3c326255924482597a88a2fb784d283": {
      "model_module": "@jupyter-widgets/controls",
      "model_module_version": "1.2.0",
      "model_name": "ButtonModel",
      "state": {
       "description": "Wortfolge",
       "layout": "IPY_MODEL_0ec713f6c1214032a5194e567be8ae8a",
       "style": "IPY_MODEL_00627cc1eaff4e7dbea425e0c0a8a85e"
      }
     },
     "b3cb07578d314527bede34410538537d": {
      "model_module": "@jupyter-widgets/base",
      "model_module_version": "1.0.0",
      "model_name": "LayoutModel",
      "state": {}
     },
     "b3cb6fcdb93844b98086f1587ed0eb9c": {
      "model_module": "@jupyter-widgets/controls",
      "model_module_version": "1.2.0",
      "model_name": "DescriptionStyleModel",
      "state": {
       "description_width": "initial"
      }
     },
     "b3e8c254478e4f4ba77a123b2379659e": {
      "model_module": "@jupyter-widgets/controls",
      "model_module_version": "1.2.0",
      "model_name": "ButtonModel",
      "state": {
       "description": "Adjektiv",
       "layout": "IPY_MODEL_8a289a2f35854a6389cd331029bc8ede",
       "style": "IPY_MODEL_ee82ba846cfd4dda81179f96656d51a3"
      }
     },
     "b3fdd26f5d5f43bb8f1e3de88992fee5": {
      "model_module": "@jupyter-widgets/controls",
      "model_module_version": "1.2.0",
      "model_name": "ButtonModel",
      "state": {
       "description": "Korrekt?",
       "layout": "IPY_MODEL_35cc0a1811c44f0595149db292010b95",
       "style": "IPY_MODEL_d6fb3341007e46dbb9496f7c0a4d0feb"
      }
     },
     "b424122e747f438aa78650dd9b3a9de6": {
      "model_module": "@jupyter-widgets/base",
      "model_module_version": "1.0.0",
      "model_name": "LayoutModel",
      "state": {
       "justify_content": "center"
      }
     },
     "b437955957514677b62cc12f26e05389": {
      "model_module": "@jupyter-widgets/base",
      "model_module_version": "1.0.0",
      "model_name": "LayoutModel",
      "state": {}
     },
     "b43b0c1a6c6a457880b3d05e2f23a755": {
      "model_module": "@jupyter-widgets/controls",
      "model_module_version": "1.2.0",
      "model_name": "HTMLModel",
      "state": {
       "layout": "IPY_MODEL_63e717fff5924a04af8620a886c09dae",
       "style": "IPY_MODEL_a8b19dc2c3fa46c2b55e3c194e7bf7fe",
       "value": "<h4 style=\"font-size:14px;\">-Tupeln aus einem englischen Korpus erstellt. Zeile 2 und 3 dienen der Erzeugung einer Frequenzliste von POS-Tags derjenigen Bigramme, deren zweites Element das POS-Tag</h4>"
      }
     },
     "b46f2160c7534b50adf7d5daa9be7322": {
      "model_module": "@jupyter-widgets/controls",
      "model_module_version": "1.2.0",
      "model_name": "ButtonStyleModel",
      "state": {}
     },
     "b510dd98f73744b888d1a3fd2e357c79": {
      "model_module": "@jupyter-widgets/controls",
      "model_module_version": "1.2.0",
      "model_name": "VBoxModel",
      "state": {
       "children": [
        "IPY_MODEL_3c1270415af24c86a5ff22672ef6d2bd",
        "IPY_MODEL_313c19be1bdc44149c376c607a2dec6a",
        "IPY_MODEL_1c1abf07bd004b67a745f8423a23f75b"
       ],
       "layout": "IPY_MODEL_8d82fc0251864e1b9e35ef2c56419cee"
      }
     },
     "b513a7c9c1e64914ba7842310763b871": {
      "model_module": "@jupyter-widgets/controls",
      "model_module_version": "1.2.0",
      "model_name": "ButtonStyleModel",
      "state": {
       "button_color": "lightgreen"
      }
     },
     "b5259aa16a9243b482c600a850178c13": {
      "model_module": "@jupyter-widgets/controls",
      "model_module_version": "1.2.0",
      "model_name": "DescriptionStyleModel",
      "state": {
       "description_width": ""
      }
     },
     "b549c94ab0eb473ead6dac238836f381": {
      "model_module": "@jupyter-widgets/controls",
      "model_module_version": "1.2.0",
      "model_name": "DescriptionStyleModel",
      "state": {
       "description_width": "initial"
      }
     },
     "b56c73eeb6424b71b690fa92eacbc381": {
      "model_module": "@jupyter-widgets/base",
      "model_module_version": "1.0.0",
      "model_name": "LayoutModel",
      "state": {
       "width": "600px"
      }
     },
     "b57383f5eca5466ebcb032975c9b1f76": {
      "model_module": "@jupyter-widgets/controls",
      "model_module_version": "1.2.0",
      "model_name": "ButtonModel",
      "state": {
       "description": "gerund",
       "layout": "IPY_MODEL_9d8d242efbd44357bc9cd9a2af41e8f6",
       "style": "IPY_MODEL_5bc11d42c4f4429abd76ede2d6eacd32"
      }
     },
     "b588747391c14012be83162df25cee22": {
      "model_module": "@jupyter-widgets/base",
      "model_module_version": "1.0.0",
      "model_name": "LayoutModel",
      "state": {
       "width": "600px"
      }
     },
     "b5d44009e1724d6cb01d7e4c5bb98bd7": {
      "model_module": "@jupyter-widgets/controls",
      "model_module_version": "1.2.0",
      "model_name": "DescriptionStyleModel",
      "state": {
       "description_width": "initial"
      }
     },
     "b65eb6a51f79404a81252ed7c1292396": {
      "model_module": "@jupyter-widgets/base",
      "model_module_version": "1.0.0",
      "model_name": "LayoutModel",
      "state": {
       "justify_content": "center"
      }
     },
     "b684c4df5b4c45bba2b6531fa525e8e3": {
      "model_module": "@jupyter-widgets/base",
      "model_module_version": "1.0.0",
      "model_name": "LayoutModel",
      "state": {
       "width": "250px"
      }
     },
     "b69d48d6ae8149f98370b268d2cd77bd": {
      "model_module": "@jupyter-widgets/controls",
      "model_module_version": "1.2.0",
      "model_name": "ButtonStyleModel",
      "state": {}
     },
     "b69e33aaaa044e079ae1a8799f7d8327": {
      "model_module": "@jupyter-widgets/controls",
      "model_module_version": "1.2.0",
      "model_name": "DropdownModel",
      "state": {
       "_options_labels": [
        "morphologischen",
        "syntaktischen",
        " "
       ],
       "index": 2,
       "layout": "IPY_MODEL_ffaca8b0f4ab4f6c94807a68fc7402aa",
       "style": "IPY_MODEL_e8116a518fba47c7a3dc9bb6585696fe"
      }
     },
     "b6c44e85671742dcb070fa369971c494": {
      "model_module": "@jupyter-widgets/controls",
      "model_module_version": "1.2.0",
      "model_name": "DescriptionStyleModel",
      "state": {
       "description_width": ""
      }
     },
     "b6efe2b67c4240069e67dbd07469d3df": {
      "model_module": "@jupyter-widgets/controls",
      "model_module_version": "1.2.0",
      "model_name": "DescriptionStyleModel",
      "state": {
       "description_width": ""
      }
     },
     "b79e6bb79ad4416c8015531a8447e5c3": {
      "model_module": "@jupyter-widgets/controls",
      "model_module_version": "1.2.0",
      "model_name": "DescriptionStyleModel",
      "state": {
       "description_width": "initial"
      }
     },
     "b7edb550d38b4039ab652bf2fe2c8a60": {
      "model_module": "@jupyter-widgets/base",
      "model_module_version": "1.0.0",
      "model_name": "LayoutModel",
      "state": {
       "width": "250px"
      }
     },
     "b8116e76f5ec42d38071fc197eea6700": {
      "model_module": "@jupyter-widgets/controls",
      "model_module_version": "1.2.0",
      "model_name": "CheckboxModel",
      "state": {
       "description": "Es fungiert als Satzglied mit der syntaktischen Funktion Adverbial.",
       "disabled": false,
       "layout": "IPY_MODEL_2bb36b9442ed45449eed23739e19a85a",
       "style": "IPY_MODEL_3860afb26ba446828e8c22a48585d5f9",
       "value": false
      }
     },
     "b834d0a56fea4f83852f343c3c2c786a": {
      "model_module": "@jupyter-widgets/controls",
      "model_module_version": "1.2.0",
      "model_name": "HTMLModel",
      "state": {
       "layout": "IPY_MODEL_408165fd234f4ebabdda7633c1020d29",
       "style": "IPY_MODEL_ba9ac637c226474cbf6cf32908fdd901",
       "value": "<h4 style=\"font-size:14px;\">Wie wirt der POS-Tagger im NLTK aufgerufen?</h4>"
      }
     },
     "b842c17a93fa4abdb3d6bb4a9aa18bc3": {
      "model_module": "@jupyter-widgets/controls",
      "model_module_version": "1.2.0",
      "model_name": "DescriptionStyleModel",
      "state": {
       "description_width": ""
      }
     },
     "b86285c4c1eb43ab97db0021b49027ff": {
      "model_module": "@jupyter-widgets/base",
      "model_module_version": "1.0.0",
      "model_name": "LayoutModel",
      "state": {
       "width": "250px"
      }
     },
     "b920c781948e48ac9f2d0db4685994e8": {
      "model_module": "@jupyter-widgets/controls",
      "model_module_version": "1.2.0",
      "model_name": "HTMLModel",
      "state": {
       "layout": "IPY_MODEL_ce368cf0c98a49ee8d3adc66f6ec2024",
       "style": "IPY_MODEL_4f99a6ba13a44fc28c8d0e7bce6706b6",
       "value": "<i>Wählen Sie die <ins>eine</ins> korrekte Antwort aus: </i>"
      }
     },
     "b9507156973a46889fdb4dd3b6f04fc7": {
      "model_module": "@jupyter-widgets/base",
      "model_module_version": "1.0.0",
      "model_name": "LayoutModel",
      "state": {
       "width": "250px"
      }
     },
     "b95f46a81c514ffcabb274304a6f8243": {
      "model_module": "@jupyter-widgets/base",
      "model_module_version": "1.0.0",
      "model_name": "LayoutModel",
      "state": {
       "width": "250px"
      }
     },
     "b97d64fa535e487aaa7a2a663596f2b6": {
      "model_module": "@jupyter-widgets/base",
      "model_module_version": "1.0.0",
      "model_name": "LayoutModel",
      "state": {
       "width": "250px"
      }
     },
     "b97d999ee44348b5aa989c28d314b313": {
      "model_module": "@jupyter-widgets/controls",
      "model_module_version": "1.2.0",
      "model_name": "DescriptionStyleModel",
      "state": {
       "description_width": ""
      }
     },
     "b9830c67643e469c809d960d46c0a2ac": {
      "model_module": "@jupyter-widgets/controls",
      "model_module_version": "1.2.0",
      "model_name": "ButtonStyleModel",
      "state": {}
     },
     "b9937fa91c7f475e9424295c46b2122c": {
      "model_module": "@jupyter-widgets/base",
      "model_module_version": "1.0.0",
      "model_name": "LayoutModel",
      "state": {
       "width": "600px"
      }
     },
     "b9cf811af8fc483fb57f12ac130bcf82": {
      "model_module": "@jupyter-widgets/base",
      "model_module_version": "1.0.0",
      "model_name": "LayoutModel",
      "state": {
       "width": "250px"
      }
     },
     "b9d01123f04045b7b359e8d411f594ca": {
      "model_module": "@jupyter-widgets/controls",
      "model_module_version": "1.2.0",
      "model_name": "ButtonModel",
      "state": {
       "description": "past participle",
       "layout": "IPY_MODEL_2e2a94f5adcd4ab382684f1fef9b68ea",
       "style": "IPY_MODEL_1e3b49fb6ece41a8b3e84ea950b8e877"
      }
     },
     "b9d8bc23377d4c4a85c9aba974645360": {
      "model_module": "@jupyter-widgets/controls",
      "model_module_version": "1.2.0",
      "model_name": "VBoxModel",
      "state": {
       "children": [
        "IPY_MODEL_06ace604b60b415babc31ab3b058183e",
        "IPY_MODEL_4d767262b706437188d530b19bb6d3c2",
        "IPY_MODEL_8ef19c331ae84fee96c094e8b69af5e2",
        "IPY_MODEL_414e5ba634f34f29b818f582e55d081f"
       ],
       "layout": "IPY_MODEL_a6b08ff8748c425582e8d75e534ddd31"
      }
     },
     "ba00e9cd6b4e4d89a2fe9355700c0e70": {
      "model_module": "@jupyter-widgets/controls",
      "model_module_version": "1.2.0",
      "model_name": "HTMLModel",
      "state": {
       "layout": "IPY_MODEL_c8829303361a4b3daf97fc5bdf808d8a",
       "style": "IPY_MODEL_ee73a0de32194ce68c6197d9e86508e2",
       "value": "<h4 style=\"font-size:14px;\">Was bedeutet das Tag <i>VBD</i> im Browntagset (siehe 5.7)?</h4>"
      }
     },
     "ba20e4e322654b3895a971861ae645b1": {
      "model_module": "@jupyter-widgets/controls",
      "model_module_version": "1.2.0",
      "model_name": "DescriptionStyleModel",
      "state": {
       "description_width": "initial"
      }
     },
     "ba45f030b06e458b9f5b2347dadbd849": {
      "model_module": "@jupyter-widgets/base",
      "model_module_version": "1.0.0",
      "model_name": "LayoutModel",
      "state": {
       "width": "600px"
      }
     },
     "ba4e267992ed4e1898b5568f2b0a5594": {
      "model_module": "@jupyter-widgets/controls",
      "model_module_version": "1.2.0",
      "model_name": "DropdownModel",
      "state": {
       "_options_labels": [
        " ",
        "NP",
        "PP",
        "VP",
        " "
       ],
       "index": 3,
       "layout": "IPY_MODEL_743d1441da76489c98c40ff4e06ede73",
       "style": "IPY_MODEL_2cd6db1900ad40ccbc6e2e6afb6563ae"
      }
     },
     "ba5ebb4b3cc64af0ba6b6058621c2894": {
      "model_module": "@jupyter-widgets/controls",
      "model_module_version": "1.2.0",
      "model_name": "ButtonModel",
      "state": {
       "description": "past participle",
       "layout": "IPY_MODEL_58a605a203ed43a695b576d01cb34fe8",
       "style": "IPY_MODEL_666600ba9a5a4c999a2c1e3c8e3518c6"
      }
     },
     "ba9168ed4dc44252adbf9a68512ab8aa": {
      "model_module": "@jupyter-widgets/controls",
      "model_module_version": "1.2.0",
      "model_name": "DescriptionStyleModel",
      "state": {
       "description_width": ""
      }
     },
     "ba9404185f4e4e929483cf7f842476a3": {
      "model_module": "@jupyter-widgets/base",
      "model_module_version": "1.0.0",
      "model_name": "LayoutModel",
      "state": {
       "width": "250px"
      }
     },
     "ba96041cd42d4e04be64e68939f56d3f": {
      "model_module": "@jupyter-widgets/controls",
      "model_module_version": "1.2.0",
      "model_name": "CheckboxModel",
      "state": {
       "description": "Eliminierungstest",
       "disabled": false,
       "layout": "IPY_MODEL_86423798a0fe47f6a35978c2325f96f9",
       "style": "IPY_MODEL_2fa27ff48062494cb294176642b95545",
       "value": true
      }
     },
     "ba9ac637c226474cbf6cf32908fdd901": {
      "model_module": "@jupyter-widgets/controls",
      "model_module_version": "1.2.0",
      "model_name": "DescriptionStyleModel",
      "state": {
       "description_width": ""
      }
     },
     "bb1ca30bf7f64a9e9050c43e96136293": {
      "model_module": "@jupyter-widgets/controls",
      "model_module_version": "1.2.0",
      "model_name": "HTMLModel",
      "state": {
       "layout": "IPY_MODEL_cdaa3d8126024d13b150043308b94e1f",
       "style": "IPY_MODEL_27fc1c36fd174c9f92ce5ce5190a1133",
       "value": "<h4 style=\"font-size:14px;\">Das Partizip <i>Verloren<i> ist eine</h4>"
      }
     },
     "bb857e0d9c1242f2adba43d8cb32cd71": {
      "model_module": "@jupyter-widgets/base",
      "model_module_version": "1.0.0",
      "model_name": "LayoutModel",
      "state": {
       "width": "600px"
      }
     },
     "bba752fb7cb4490b89099e134d8ed851": {
      "model_module": "@jupyter-widgets/controls",
      "model_module_version": "1.2.0",
      "model_name": "DescriptionStyleModel",
      "state": {
       "description_width": ""
      }
     },
     "bbdccfe76d8f4e94a74d876802f5e7d6": {
      "model_module": "@jupyter-widgets/controls",
      "model_module_version": "1.2.0",
      "model_name": "VBoxModel",
      "state": {
       "children": [
        "IPY_MODEL_7938c49fe2ef44b0996df8d02c133b6c",
        "IPY_MODEL_aec47d2591da4471aa5e8ebade263c5b",
        "IPY_MODEL_f69866e0de6e45459257ebe0d8505e34",
        "IPY_MODEL_0232c899bf074806860515fca4952ed4"
       ],
       "layout": "IPY_MODEL_27e31c9e9bf74800b732c412a2394dd2"
      }
     },
     "bc13f27c314e41bd943bbb22ba620d3e": {
      "model_module": "@jupyter-widgets/controls",
      "model_module_version": "1.2.0",
      "model_name": "VBoxModel",
      "state": {
       "children": [
        "IPY_MODEL_210171bc2cd54f298375ae112772b9ea",
        "IPY_MODEL_d6fd9228571846f7b8e81e81d4c5a00f",
        "IPY_MODEL_69be0a62b4fc4f96b111d0dffaa9ec88",
        "IPY_MODEL_474355e40e384192ab3f362997a96426"
       ],
       "layout": "IPY_MODEL_53624897a0584b5f8b191310f9f556d3"
      }
     },
     "bc1d69b7783841b5b6c07e3ca92e0ab5": {
      "model_module": "@jupyter-widgets/controls",
      "model_module_version": "1.2.0",
      "model_name": "HTMLModel",
      "state": {
       "layout": "IPY_MODEL_7655c7086b1f43ae87772f3df0dcd5c5",
       "style": "IPY_MODEL_355f9663f2d64fa0b426d7f0b03da730",
       "value": "<i>Markieren Sie <ins>alle</ins> passenden Antworten: </i>"
      }
     },
     "bc22d83986764c6a83f58e4c705780cc": {
      "model_module": "@jupyter-widgets/base",
      "model_module_version": "1.0.0",
      "model_name": "LayoutModel",
      "state": {
       "width": "250px"
      }
     },
     "bc3e6cf45d1b414995335d095465d317": {
      "model_module": "@jupyter-widgets/base",
      "model_module_version": "1.0.0",
      "model_name": "LayoutModel",
      "state": {
       "width": "600px"
      }
     },
     "bc960724426343fc874ff910b42f7ce7": {
      "model_module": "@jupyter-widgets/controls",
      "model_module_version": "1.2.0",
      "model_name": "HBoxModel",
      "state": {
       "children": [
        "IPY_MODEL_141e7664153c492cb23a9a30b70f80c2"
       ],
       "layout": "IPY_MODEL_044da98ec9e24d9fbea7077a4fa649e1"
      }
     },
     "bc989d4c9ed8473fa98cb4f4e8e89604": {
      "model_module": "@jupyter-widgets/base",
      "model_module_version": "1.0.0",
      "model_name": "LayoutModel",
      "state": {}
     },
     "bc9bf328e39546a58f7d8d743451d30a": {
      "model_module": "@jupyter-widgets/controls",
      "model_module_version": "1.2.0",
      "model_name": "VBoxModel",
      "state": {
       "children": [
        "IPY_MODEL_a0e3b5bfec5241cc83b3ba2110b58500",
        "IPY_MODEL_d9109d780ff34924b7954a3da431224d",
        "IPY_MODEL_8ed58e5c5a0c4b4c86bf0fc7dd10161c",
        "IPY_MODEL_45e8f7dd26a3402b8e4adbd9ee6295fc"
       ],
       "layout": "IPY_MODEL_8d71ca09da4949f09f0e993c729a8be8"
      }
     },
     "bcd45601e1a245789bfcdb94dcadc019": {
      "model_module": "@jupyter-widgets/controls",
      "model_module_version": "1.2.0",
      "model_name": "HTMLModel",
      "state": {
       "layout": "IPY_MODEL_2ac0d189cf3f4079b7f69a64c93ffb5b",
       "style": "IPY_MODEL_a55017a22ba24679a977453d19684a76",
       "value": "<h4 style=\"font-size:14px;\"><i>Eine Reise beginnt auch nur mit einem Schritt.</i><br>Welche Tests wurden angewandt?</h4>"
      }
     },
     "bd072645503549c4885ac54a10e7abef": {
      "model_module": "@jupyter-widgets/controls",
      "model_module_version": "1.2.0",
      "model_name": "ButtonStyleModel",
      "state": {
       "button_color": "lightgreen"
      }
     },
     "bd14ec53f4b54719ab2fd283e90da342": {
      "model_module": "@jupyter-widgets/controls",
      "model_module_version": "1.2.0",
      "model_name": "CheckboxModel",
      "state": {
       "description": "Es fungiert als Satzglied mit der syntaktischen Funktion Adverbial.",
       "disabled": false,
       "layout": "IPY_MODEL_574000355cd94fb6846f7b76f36765b1",
       "style": "IPY_MODEL_04fcccce86a641e485fac9b516165882",
       "value": false
      }
     },
     "bd1a4ab7912445e682e2eeb113985a34": {
      "model_module": "@jupyter-widgets/controls",
      "model_module_version": "1.2.0",
      "model_name": "VBoxModel",
      "state": {
       "children": [
        "IPY_MODEL_7ae61c39035042bb92d41ba391d33fde",
        "IPY_MODEL_a6ffb11c3a184f6ea6dc5e480ec95f07",
        "IPY_MODEL_185417f5c5ef4cc3b0f690362801fc02",
        "IPY_MODEL_af468f8496e144f9b96bccecfff84345"
       ],
       "layout": "IPY_MODEL_36233ebb21654761bc9666fc06f6be2a"
      }
     },
     "bd9af0a7dbd348ff82d593074e66521d": {
      "model_module": "@jupyter-widgets/controls",
      "model_module_version": "1.2.0",
      "model_name": "ButtonModel",
      "state": {
       "description": "past participle",
       "layout": "IPY_MODEL_6623fcfbfb794b708a5c868e8e799e35",
       "style": "IPY_MODEL_1aaa829ce86b4459a031e7c5002849e9"
      }
     },
     "bda1503424f74412807931ba11654617": {
      "model_module": "@jupyter-widgets/base",
      "model_module_version": "1.0.0",
      "model_name": "LayoutModel",
      "state": {
       "width": "250px"
      }
     },
     "bdb20d7077ed4bc7bfdfb758486a359a": {
      "model_module": "@jupyter-widgets/base",
      "model_module_version": "1.0.0",
      "model_name": "LayoutModel",
      "state": {}
     },
     "bdbd63e02e7e4a65a753fdd05eee30dd": {
      "model_module": "@jupyter-widgets/controls",
      "model_module_version": "1.2.0",
      "model_name": "ButtonStyleModel",
      "state": {}
     },
     "bdd75d1957574048bc6b777c4d3093f7": {
      "model_module": "@jupyter-widgets/base",
      "model_module_version": "1.0.0",
      "model_name": "LayoutModel",
      "state": {
       "width": "150px"
      }
     },
     "be0d8e99de344502b1ca56ae1657a3d9": {
      "model_module": "@jupyter-widgets/controls",
      "model_module_version": "1.2.0",
      "model_name": "ButtonStyleModel",
      "state": {
       "button_color": "lightgreen"
      }
     },
     "be2460e50aa34eb7a986ab6f5debdc3d": {
      "model_module": "@jupyter-widgets/controls",
      "model_module_version": "1.2.0",
      "model_name": "HTMLModel",
      "state": {
       "layout": "IPY_MODEL_14e1f1a762f04f88b105244a5cfd6708",
       "style": "IPY_MODEL_ce42240184704720ab901230d2897378",
       "value": "<h4 style=\"font-size:14px;\">durch eine</h4>"
      }
     },
     "be2ddc3472af43f29de8831f54e71193": {
      "model_module": "@jupyter-widgets/controls",
      "model_module_version": "1.2.0",
      "model_name": "DescriptionStyleModel",
      "state": {
       "description_width": "initial"
      }
     },
     "be8e94cd4ed9432b81bed13a0bbbe91a": {
      "model_module": "@jupyter-widgets/controls",
      "model_module_version": "1.2.0",
      "model_name": "TextareaModel",
      "state": {
       "layout": "IPY_MODEL_76a0b0f5db944610a15c3449b724af14",
       "placeholder": "Type something",
       "style": "IPY_MODEL_4bf68e7eef70417ebe51b1178a19c9dd",
       "value": "nltk.____()"
      }
     },
     "beb21a545ded4df2904add8aadbc8fe4": {
      "model_module": "@jupyter-widgets/controls",
      "model_module_version": "1.2.0",
      "model_name": "DescriptionStyleModel",
      "state": {
       "description_width": ""
      }
     },
     "bec708c5679a47c2954291abee1d8b40": {
      "model_module": "@jupyter-widgets/controls",
      "model_module_version": "1.2.0",
      "model_name": "DescriptionStyleModel",
      "state": {
       "description_width": "initial"
      }
     },
     "beedb6de6d3b426385e19fd9991d5bc7": {
      "model_module": "@jupyter-widgets/controls",
      "model_module_version": "1.2.0",
      "model_name": "DescriptionStyleModel",
      "state": {
       "description_width": "initial"
      }
     },
     "bf0f673d50a94d7183717d08930d033e": {
      "model_module": "@jupyter-widgets/base",
      "model_module_version": "1.0.0",
      "model_name": "LayoutModel",
      "state": {}
     },
     "bf163bb662c04d9f99c0ce2a91c788a9": {
      "model_module": "@jupyter-widgets/base",
      "model_module_version": "1.0.0",
      "model_name": "LayoutModel",
      "state": {
       "width": "600px"
      }
     },
     "bf4d60bd2c0a456a8c36218dd5953ab7": {
      "model_module": "@jupyter-widgets/controls",
      "model_module_version": "1.2.0",
      "model_name": "ButtonModel",
      "state": {
       "description": "Wortfolge",
       "layout": "IPY_MODEL_f28bde1fbe844e5f915df5316521704a",
       "style": "IPY_MODEL_6cb21b0da72d4344a4dd48641ed8134c"
      }
     },
     "bf5333e15c604a58a614bada99d09111": {
      "model_module": "@jupyter-widgets/base",
      "model_module_version": "1.0.0",
      "model_name": "LayoutModel",
      "state": {
       "justify_content": "center"
      }
     },
     "bf62989b53194a519202c7a559495464": {
      "model_module": "@jupyter-widgets/base",
      "model_module_version": "1.0.0",
      "model_name": "LayoutModel",
      "state": {
       "width": "150px"
      }
     },
     "bf652bb379dd4cf7847c490515635476": {
      "model_module": "@jupyter-widgets/base",
      "model_module_version": "1.0.0",
      "model_name": "LayoutModel",
      "state": {
       "width": "250px"
      }
     },
     "bf6c716e9aff48569b32f0885f5212d5": {
      "model_module": "@jupyter-widgets/base",
      "model_module_version": "1.0.0",
      "model_name": "LayoutModel",
      "state": {
       "justify_content": "center"
      }
     },
     "bf86ac3bafe54a21ad7b4f3ff8ad7cd6": {
      "model_module": "@jupyter-widgets/controls",
      "model_module_version": "1.2.0",
      "model_name": "DescriptionStyleModel",
      "state": {
       "description_width": ""
      }
     },
     "bf926b7c6fad409bb57946b4b8a08dd4": {
      "model_module": "@jupyter-widgets/base",
      "model_module_version": "1.0.0",
      "model_name": "LayoutModel",
      "state": {
       "justify_content": "center"
      }
     },
     "bfc6f992989d4959842fdd96c2cce7a1": {
      "model_module": "@jupyter-widgets/base",
      "model_module_version": "1.0.0",
      "model_name": "LayoutModel",
      "state": {
       "width": "250px"
      }
     },
     "bfccfcb639e24318b3d038df9926e46c": {
      "model_module": "@jupyter-widgets/controls",
      "model_module_version": "1.2.0",
      "model_name": "HTMLModel",
      "state": {
       "layout": "IPY_MODEL_2e9dcb70acd7436f97b3adaf4fc9b779",
       "style": "IPY_MODEL_0a8ff7715e6e467dba699731203aaff8",
       "value": "<i>Wählen Sie die <ins>eine</ins> korrekte Antwort aus: </i>"
      }
     },
     "bfd1a409acec447691f827cf4db1524b": {
      "model_module": "@jupyter-widgets/base",
      "model_module_version": "1.0.0",
      "model_name": "LayoutModel",
      "state": {
       "width": "250px"
      }
     },
     "bffaff9cc41e4098bcebc593e5c4fe93": {
      "model_module": "@jupyter-widgets/base",
      "model_module_version": "1.0.0",
      "model_name": "LayoutModel",
      "state": {
       "width": "250px"
      }
     },
     "c02a7784a6834921844937fa2cc1c90c": {
      "model_module": "@jupyter-widgets/controls",
      "model_module_version": "1.2.0",
      "model_name": "HTMLModel",
      "state": {
       "layout": "IPY_MODEL_42ce06315cb74e3bb4acc12c8d6ab66c",
       "style": "IPY_MODEL_2cfd86ac15974b3186a25db76655026f",
       "value": "<i>Wählen Sie die <ins>eine</ins> korrekte Antwort aus: </i>"
      }
     },
     "c0565a5d982b4d2c99bc2c50f398a49e": {
      "model_module": "@jupyter-widgets/controls",
      "model_module_version": "1.2.0",
      "model_name": "HTMLModel",
      "state": {
       "layout": "IPY_MODEL_dc98c4da715043fd849e8900cabdbd45",
       "style": "IPY_MODEL_ff349955172141d1b584ddc18093ac23",
       "value": "<h4 style=\"font-size:14px;\">-Tupel von</h4>"
      }
     },
     "c0817a32889f4ca286198f63d79062a0": {
      "model_module": "@jupyter-widgets/controls",
      "model_module_version": "1.2.0",
      "model_name": "HTMLModel",
      "state": {
       "layout": "IPY_MODEL_4299741124d1494b8eebc46175efa391",
       "style": "IPY_MODEL_586a9e1aaa12409fbb8d9d59dccc820a",
       "value": "<h4 style=\"font-size:14px;\">Was ist der Output eines Part-of-Speech-Taggers?</h4>"
      }
     },
     "c0a7d7a670bc45be8511148b7fb396ed": {
      "model_module": "@jupyter-widgets/controls",
      "model_module_version": "1.2.0",
      "model_name": "DropdownModel",
      "state": {
       "_options_labels": [
        "Mittelfeld",
        "Nachfeld",
        "Vorfeld",
        " "
       ],
       "index": 2,
       "layout": "IPY_MODEL_bdd75d1957574048bc6b777c4d3093f7",
       "style": "IPY_MODEL_cce81e08758042a7acf96f7d047cd4eb"
      }
     },
     "c1172dc6f58142bdba36e62adc486feb": {
      "model_module": "@jupyter-widgets/controls",
      "model_module_version": "1.2.0",
      "model_name": "HTMLModel",
      "state": {
       "layout": "IPY_MODEL_ef78b6649562444392e5971e9f34c186",
       "style": "IPY_MODEL_2a7b5ba425274f8794d757b4ad297afe",
       "value": "<h4 style=\"font-size:14px;\">Was bedeutet das Tag <i>VBZ</i> im Browntagset (siehe 5.7)?</h4>"
      }
     },
     "c16d7b1f08f54a7c81309daba058bcc7": {
      "model_module": "@jupyter-widgets/controls",
      "model_module_version": "1.2.0",
      "model_name": "CheckboxModel",
      "state": {
       "description": "Es ist flektierbar.",
       "disabled": false,
       "layout": "IPY_MODEL_a4932e13ca3e491893a73bb9a2b7036e",
       "style": "IPY_MODEL_030c6d8acd584da696dbb4bf34dd24a6",
       "value": true
      }
     },
     "c17553119cb24287825f293d7fb17a64": {
      "model_module": "@jupyter-widgets/base",
      "model_module_version": "1.0.0",
      "model_name": "LayoutModel",
      "state": {}
     },
     "c182e2f2949e4b03b66e70eea079c890": {
      "model_module": "@jupyter-widgets/base",
      "model_module_version": "1.0.0",
      "model_name": "LayoutModel",
      "state": {}
     },
     "c1b0c96f75fd43eb8f74dec8114f7ddf": {
      "model_module": "@jupyter-widgets/base",
      "model_module_version": "1.0.0",
      "model_name": "LayoutModel",
      "state": {
       "width": "600px"
      }
     },
     "c22634d2e22d40c79067e27413b70b3b": {
      "model_module": "@jupyter-widgets/controls",
      "model_module_version": "1.2.0",
      "model_name": "HTMLModel",
      "state": {
       "layout": "IPY_MODEL_d33ba3f9519c4acf89d9b6b1421cd6dc",
       "style": "IPY_MODEL_4108c333d2384fe08d5e7a34c2f25929",
       "value": "<i>Vervollständigen Sie den Lückentext: </i>"
      }
     },
     "c23f65bcdc18496f9e39a65bf773c863": {
      "model_module": "@jupyter-widgets/controls",
      "model_module_version": "1.2.0",
      "model_name": "ButtonStyleModel",
      "state": {
       "button_color": "lightgreen"
      }
     },
     "c2773e7e2f7645c99f609d78d50ee6b6": {
      "model_module": "@jupyter-widgets/base",
      "model_module_version": "1.0.0",
      "model_name": "LayoutModel",
      "state": {
       "width": "600px"
      }
     },
     "c2a4165e8fba4d1db6406da68cc3227c": {
      "model_module": "@jupyter-widgets/base",
      "model_module_version": "1.0.0",
      "model_name": "LayoutModel",
      "state": {
       "width": "250px"
      }
     },
     "c30162ef6546495cbb763add18751621": {
      "model_module": "@jupyter-widgets/controls",
      "model_module_version": "1.2.0",
      "model_name": "HBoxModel",
      "state": {
       "children": [
        "IPY_MODEL_6d92f31a65054f9f985fe7344f60b2f0",
        "IPY_MODEL_086d4fac36ba4c21aadc2ddd38dfb2c9"
       ],
       "layout": "IPY_MODEL_66eebe8af9934574863ff70c786b9f0a"
      }
     },
     "c353ff5c6f4242a8b028f2e28e8dec02": {
      "model_module": "@jupyter-widgets/base",
      "model_module_version": "1.0.0",
      "model_name": "LayoutModel",
      "state": {
       "width": "250px"
      }
     },
     "c35bf38ab5cb4b8d8b9c68c06700d568": {
      "model_module": "@jupyter-widgets/base",
      "model_module_version": "1.0.0",
      "model_name": "LayoutModel",
      "state": {}
     },
     "c36133527c8e405ebd1cffc817982aa2": {
      "model_module": "@jupyter-widgets/controls",
      "model_module_version": "1.2.0",
      "model_name": "DescriptionStyleModel",
      "state": {
       "description_width": "initial"
      }
     },
     "c38cbcb56ff3498e92f5b122e306dc83": {
      "model_module": "@jupyter-widgets/controls",
      "model_module_version": "1.2.0",
      "model_name": "ButtonStyleModel",
      "state": {}
     },
     "c3eb27617aab461182da24b2fbfcd196": {
      "model_module": "@jupyter-widgets/controls",
      "model_module_version": "1.2.0",
      "model_name": "ButtonModel",
      "state": {
       "description": "Korrekt?",
       "layout": "IPY_MODEL_f1e49c86d030497894755b21f7f2caf7",
       "style": "IPY_MODEL_7622924ec506460fb72b509668ac4147"
      }
     },
     "c40b3fc9f488403d9679333480af1dc6": {
      "model_module": "@jupyter-widgets/base",
      "model_module_version": "1.0.0",
      "model_name": "LayoutModel",
      "state": {
       "width": "250px"
      }
     },
     "c41eef214ba74ceda3943ec9e9764241": {
      "model_module": "@jupyter-widgets/controls",
      "model_module_version": "1.2.0",
      "model_name": "ButtonModel",
      "state": {
       "description": "base",
       "layout": "IPY_MODEL_cbe30fee53a24aa4b1464cd996822c28",
       "style": "IPY_MODEL_a07a8b95685647209e7504b355b2fff7"
      }
     },
     "c4203ce17ba4428bb0c0712c4efb23b1": {
      "model_module": "@jupyter-widgets/base",
      "model_module_version": "1.0.0",
      "model_name": "LayoutModel",
      "state": {
       "width": "600px"
      }
     },
     "c42e2509ce3b4e3a934dd693e1d0e799": {
      "model_module": "@jupyter-widgets/controls",
      "model_module_version": "1.2.0",
      "model_name": "DescriptionStyleModel",
      "state": {
       "description_width": ""
      }
     },
     "c46359d1363741ed901bf188b49cc0df": {
      "model_module": "@jupyter-widgets/controls",
      "model_module_version": "1.2.0",
      "model_name": "HTMLModel",
      "state": {
       "layout": "IPY_MODEL_0f0628744216422aa7e90146bc7eaead",
       "style": "IPY_MODEL_416589d7bf9643d0aee2f5935c91d8b9",
       "value": "<h4 style=\"font-size:14px;\">Welcher ist der richtig permutierte Satz?</h4>"
      }
     },
     "c468fd97b09c43948f3278c6a4a60715": {
      "model_module": "@jupyter-widgets/controls",
      "model_module_version": "1.2.0",
      "model_name": "ButtonStyleModel",
      "state": {}
     },
     "c4ee7ef8e6af4e9ead1962f77a18c6ee": {
      "model_module": "@jupyter-widgets/controls",
      "model_module_version": "1.2.0",
      "model_name": "ButtonModel",
      "state": {
       "description": "Adverb",
       "layout": "IPY_MODEL_cbfba79090ce483287df3dd91d5d7c8e",
       "style": "IPY_MODEL_0626899caa16476ab7b97deda7c9d597"
      }
     },
     "c4fce66319ae4173b6693624762ee9a6": {
      "model_module": "@jupyter-widgets/base",
      "model_module_version": "1.0.0",
      "model_name": "LayoutModel",
      "state": {
       "width": "600px"
      }
     },
     "c52d8f2c5928424795d2b78088df882e": {
      "model_module": "@jupyter-widgets/controls",
      "model_module_version": "1.2.0",
      "model_name": "ButtonModel",
      "state": {
       "description": "Partikel",
       "layout": "IPY_MODEL_c40b3fc9f488403d9679333480af1dc6",
       "style": "IPY_MODEL_b9830c67643e469c809d960d46c0a2ac"
      }
     },
     "c52d9480bdd445f48bf7860b8148fd09": {
      "model_module": "@jupyter-widgets/controls",
      "model_module_version": "1.2.0",
      "model_name": "CheckboxModel",
      "state": {
       "description": "gleiche syntagmatische Position",
       "disabled": false,
       "layout": "IPY_MODEL_c1b0c96f75fd43eb8f74dec8114f7ddf",
       "style": "IPY_MODEL_839e63cc59b14fd18624a5a27c8f4b2e",
       "value": false
      }
     },
     "c5399cebabe74fa6b2de74043d1157ea": {
      "model_module": "@jupyter-widgets/controls",
      "model_module_version": "1.2.0",
      "model_name": "HBoxModel",
      "state": {
       "children": [
        "IPY_MODEL_e33b8d0c7a1b414d8318df1f276cff76",
        "IPY_MODEL_cefdac7be5c8418c91509bca54a95b9a"
       ],
       "layout": "IPY_MODEL_299304545d744eb2b7d979e3f43f5df0"
      }
     },
     "c5436002275e488881522195d5064c43": {
      "model_module": "@jupyter-widgets/controls",
      "model_module_version": "1.2.0",
      "model_name": "ButtonModel",
      "state": {
       "description": "simple past",
       "layout": "IPY_MODEL_39411507b6b14c198417f9fd9f3a0ec2",
       "style": "IPY_MODEL_015c341b869f408e99d8ce557246c748"
      }
     },
     "c55c13f399144e92b139a316e17c5639": {
      "model_module": "@jupyter-widgets/controls",
      "model_module_version": "1.2.0",
      "model_name": "HTMLModel",
      "state": {
       "layout": "IPY_MODEL_f7852f71deae4946bef6c1a5a8b1a7d3",
       "style": "IPY_MODEL_a5d150f6ed314c2cb89e52717260a630",
       "value": "<i>Vervollständigen Sie den Lückentext: </i>"
      }
     },
     "c56e5b8c239740d8ba7f6fe2efaf2e38": {
      "model_module": "@jupyter-widgets/controls",
      "model_module_version": "1.2.0",
      "model_name": "ButtonStyleModel",
      "state": {}
     },
     "c5887bf5b0ce4635ad5dc371bae10388": {
      "model_module": "@jupyter-widgets/controls",
      "model_module_version": "1.2.0",
      "model_name": "ButtonStyleModel",
      "state": {}
     },
     "c59fc0d37c0b4eaebfda353f629e9042": {
      "model_module": "@jupyter-widgets/controls",
      "model_module_version": "1.2.0",
      "model_name": "DescriptionStyleModel",
      "state": {
       "description_width": "initial"
      }
     },
     "c5a27e59c48b4d2f8d501a5dd356bd56": {
      "model_module": "@jupyter-widgets/base",
      "model_module_version": "1.0.0",
      "model_name": "LayoutModel",
      "state": {
       "width": "250px"
      }
     },
     "c5afcefe697f415192af98dad00d23c2": {
      "model_module": "@jupyter-widgets/controls",
      "model_module_version": "1.2.0",
      "model_name": "ButtonModel",
      "state": {
       "description": "base",
       "layout": "IPY_MODEL_f65eff2991f54fbe9996967041a6e116",
       "style": "IPY_MODEL_14d2e51a06fc42d0ae5b94b951116e1f"
      }
     },
     "c5d52cd2b7bb4a43951685d729ba1455": {
      "model_module": "@jupyter-widgets/base",
      "model_module_version": "1.0.0",
      "model_name": "LayoutModel",
      "state": {
       "width": "250px"
      }
     },
     "c5fd2a6efb214e5387d29e8e0f7d08ea": {
      "model_module": "@jupyter-widgets/controls",
      "model_module_version": "1.2.0",
      "model_name": "CheckboxModel",
      "state": {
       "description": "gleiche syntagmatische Position",
       "disabled": false,
       "layout": "IPY_MODEL_bc3e6cf45d1b414995335d095465d317",
       "style": "IPY_MODEL_9cc438c54ec746868a72abc6bca23d17",
       "value": false
      }
     },
     "c60e6cd70ab444c4a67067075355f98e": {
      "model_module": "@jupyter-widgets/controls",
      "model_module_version": "1.2.0",
      "model_name": "VBoxModel",
      "state": {
       "children": [
        "IPY_MODEL_835dee16415a40eb8cdb8c4f2da64e27",
        "IPY_MODEL_63b7c80889d5498f987dd0320cfa1ef0",
        "IPY_MODEL_758ad791cf4645e3ac5fe909131b1636",
        "IPY_MODEL_756d2353e8c7417e948e751cde7aac33"
       ],
       "layout": "IPY_MODEL_110ad4700d094c13b2a1c92e0adc16c2"
      }
     },
     "c62d71fa20794396a69d8c40366dee1f": {
      "model_module": "@jupyter-widgets/controls",
      "model_module_version": "1.2.0",
      "model_name": "VBoxModel",
      "state": {
       "children": [
        "IPY_MODEL_4844c403537040a197d44517e577fa1a",
        "IPY_MODEL_53546110382140cf9bb505702687b03c",
        "IPY_MODEL_698713b366964c0f88aeac9b45a06ac9"
       ],
       "layout": "IPY_MODEL_bc989d4c9ed8473fa98cb4f4e8e89604"
      }
     },
     "c64399322cb646a69c78599384670f44": {
      "model_module": "@jupyter-widgets/controls",
      "model_module_version": "1.2.0",
      "model_name": "ButtonModel",
      "state": {
       "description": "base",
       "layout": "IPY_MODEL_4515f29be5654fa6ae71e7f3be609a73",
       "style": "IPY_MODEL_cc9f8fdcc2314164afeef6ad4a41e87f"
      }
     },
     "c68d816cf54d4ea5b79030fdc90217b2": {
      "model_module": "@jupyter-widgets/base",
      "model_module_version": "1.0.0",
      "model_name": "LayoutModel",
      "state": {
       "width": "600px"
      }
     },
     "c69d69b9baa64f57bee6fe57e126b07a": {
      "model_module": "@jupyter-widgets/base",
      "model_module_version": "1.0.0",
      "model_name": "LayoutModel",
      "state": {
       "width": "250px"
      }
     },
     "c6f9fc20807d4464a8df19a9207e34d0": {
      "model_module": "@jupyter-widgets/base",
      "model_module_version": "1.0.0",
      "model_name": "LayoutModel",
      "state": {
       "justify_content": "center"
      }
     },
     "c702f7f8df78489f854774deb6167988": {
      "model_module": "@jupyter-widgets/controls",
      "model_module_version": "1.2.0",
      "model_name": "ButtonModel",
      "state": {
       "description": "Adverb",
       "layout": "IPY_MODEL_b95f46a81c514ffcabb274304a6f8243",
       "style": "IPY_MODEL_a1ae0e16e30f4d3a80491c6b28b13927"
      }
     },
     "c720670fbf2146678660801377b2b426": {
      "model_module": "@jupyter-widgets/controls",
      "model_module_version": "1.2.0",
      "model_name": "DropdownModel",
      "state": {
       "_options_labels": [
        "morphologischen",
        "syntaktischen",
        " "
       ],
       "index": 1,
       "layout": "IPY_MODEL_35cbea0412e2431e8b75d1972a21f932",
       "style": "IPY_MODEL_31394f2dec8f474fac7e237eb543a553"
      }
     },
     "c761ba2864154e41ba08dee2184e6100": {
      "model_module": "@jupyter-widgets/controls",
      "model_module_version": "1.2.0",
      "model_name": "HTMLModel",
      "state": {
       "layout": "IPY_MODEL_4c6fbf92b7d7424cbf4fab9812d81c92",
       "style": "IPY_MODEL_313d50f5f316450da6ddc1a65a60d53b",
       "value": "<i>Wählen Sie die <ins>eine</ins> korrekte Antwort aus: </i>"
      }
     },
     "c798783044294d328898876f2ede27d2": {
      "model_module": "@jupyter-widgets/controls",
      "model_module_version": "1.2.0",
      "model_name": "ButtonModel",
      "state": {
       "description": "Keine der anderen Möglichkeiten",
       "layout": "IPY_MODEL_83b8962aa53c42b2a4166eb6877cb469",
       "style": "IPY_MODEL_c38cbcb56ff3498e92f5b122e306dc83"
      }
     },
     "c7bb6500846845a88a6c1e93d26153aa": {
      "model_module": "@jupyter-widgets/controls",
      "model_module_version": "1.2.0",
      "model_name": "ButtonStyleModel",
      "state": {}
     },
     "c82d7657554e42c1bea33e6f8489a27e": {
      "model_module": "@jupyter-widgets/base",
      "model_module_version": "1.0.0",
      "model_name": "LayoutModel",
      "state": {}
     },
     "c84755d106344910b5d66eb44001b8c4": {
      "model_module": "@jupyter-widgets/base",
      "model_module_version": "1.0.0",
      "model_name": "LayoutModel",
      "state": {
       "align_content": "stretch",
       "align_items": "stretch",
       "display": "inline-flex",
       "flex": "flex-grow",
       "flex_flow": "row wrap",
       "justify_content": "flex-start"
      }
     },
     "c872f71d60c4481db621c0e6060e46f8": {
      "model_module": "@jupyter-widgets/controls",
      "model_module_version": "1.2.0",
      "model_name": "VBoxModel",
      "state": {
       "children": [
        "IPY_MODEL_d71b3a8ef0e24c4fae411113135a2b98",
        "IPY_MODEL_9aab42f023dc406dbec6ad35c0921ad3",
        "IPY_MODEL_c16d7b1f08f54a7c81309daba058bcc7"
       ],
       "layout": "IPY_MODEL_f7d3f98de0904671a8b33f3c5220ba68"
      }
     },
     "c87995a81392412681708588591f18fb": {
      "model_module": "@jupyter-widgets/controls",
      "model_module_version": "1.2.0",
      "model_name": "ButtonStyleModel",
      "state": {}
     },
     "c87f2d85597c4665b18ace4b37a7bde6": {
      "model_module": "@jupyter-widgets/controls",
      "model_module_version": "1.2.0",
      "model_name": "ButtonStyleModel",
      "state": {}
     },
     "c8829303361a4b3daf97fc5bdf808d8a": {
      "model_module": "@jupyter-widgets/base",
      "model_module_version": "1.0.0",
      "model_name": "LayoutModel",
      "state": {
       "justify_content": "center"
      }
     },
     "c889b94b962a4deba8faad23b7e6682b": {
      "model_module": "@jupyter-widgets/controls",
      "model_module_version": "1.2.0",
      "model_name": "HBoxModel",
      "state": {
       "children": [
        "IPY_MODEL_3400582d6f3040378435130719010ecd",
        "IPY_MODEL_0fc176bfc9274c6dbdd13c3c346a5dee"
       ],
       "layout": "IPY_MODEL_f176163e37ef464ea47692106bdf39f0"
      }
     },
     "c89681242175492297da7c670b65e271": {
      "model_module": "@jupyter-widgets/base",
      "model_module_version": "1.0.0",
      "model_name": "LayoutModel",
      "state": {
       "width": "250px"
      }
     },
     "c8c59fc9f2c34d2c951571b063c4f335": {
      "model_module": "@jupyter-widgets/base",
      "model_module_version": "1.0.0",
      "model_name": "LayoutModel",
      "state": {
       "width": "250px"
      }
     },
     "c8e798c386cd4e0bba904fc52a295799": {
      "model_module": "@jupyter-widgets/controls",
      "model_module_version": "1.2.0",
      "model_name": "ButtonStyleModel",
      "state": {}
     },
     "c9296b8e41394c0aa7073fff37261101": {
      "model_module": "@jupyter-widgets/controls",
      "model_module_version": "1.2.0",
      "model_name": "DescriptionStyleModel",
      "state": {
       "description_width": ""
      }
     },
     "c94fcd8a5e504a4c888030f28f7eb72d": {
      "model_module": "@jupyter-widgets/base",
      "model_module_version": "1.0.0",
      "model_name": "LayoutModel",
      "state": {
       "width": "150px"
      }
     },
     "c9c32dedeab24425826f65c0ff0bd0d5": {
      "model_module": "@jupyter-widgets/base",
      "model_module_version": "1.0.0",
      "model_name": "LayoutModel",
      "state": {}
     },
     "c9cd3079d1d34b33ac2de64f3c50a69e": {
      "model_module": "@jupyter-widgets/base",
      "model_module_version": "1.0.0",
      "model_name": "LayoutModel",
      "state": {}
     },
     "c9e0c5c928844732a564285d4b2990ec": {
      "model_module": "@jupyter-widgets/base",
      "model_module_version": "1.0.0",
      "model_name": "LayoutModel",
      "state": {
       "justify_content": "center"
      }
     },
     "ca21dc24285a412cb7e0627e218bad05": {
      "model_module": "@jupyter-widgets/controls",
      "model_module_version": "1.2.0",
      "model_name": "HBoxModel",
      "state": {
       "children": [
        "IPY_MODEL_2ce06bc3d155458482f7020b37548989"
       ],
       "layout": "IPY_MODEL_4eb30e3ff71c431cbe0ec3906cb262ba"
      }
     },
     "ca26450b99a845a9b5522ec2c0c46c30": {
      "model_module": "@jupyter-widgets/base",
      "model_module_version": "1.0.0",
      "model_name": "LayoutModel",
      "state": {
       "width": "600px"
      }
     },
     "ca4ec6107ae944c49be31959d84c0236": {
      "model_module": "@jupyter-widgets/controls",
      "model_module_version": "1.2.0",
      "model_name": "ButtonModel",
      "state": {
       "description": "Lösung zeigen",
       "layout": "IPY_MODEL_a83e78f142254d909d6715e59c86e265",
       "style": "IPY_MODEL_ca91322692d54a1a93798aa50abd4173"
      }
     },
     "ca6102f821394803a6a4088da754ca1a": {
      "model_module": "@jupyter-widgets/controls",
      "model_module_version": "1.2.0",
      "model_name": "CheckboxModel",
      "state": {
       "description": "gleiche Endungen",
       "disabled": false,
       "layout": "IPY_MODEL_2374f225bcc047bf8dfecd055158a847",
       "style": "IPY_MODEL_24b93bc2e192487f8436c6d43ed72698",
       "value": true
      }
     },
     "ca63bacfdea64bbe9f9898e2fedf1f2c": {
      "model_module": "@jupyter-widgets/controls",
      "model_module_version": "1.2.0",
      "model_name": "HBoxModel",
      "state": {
       "children": [
        "IPY_MODEL_a297311eae824144b5d11296dab05807",
        "IPY_MODEL_2a912c0865b74f0d9d29627e91278fe9"
       ],
       "layout": "IPY_MODEL_3a679ce2f2a14d8293dd2ebb45d949a3"
      }
     },
     "ca70948b8b1845edab942eedba323997": {
      "model_module": "@jupyter-widgets/base",
      "model_module_version": "1.0.0",
      "model_name": "LayoutModel",
      "state": {
       "justify_content": "center"
      }
     },
     "ca78a92e0b6f408aa72d16dbe5c4491b": {
      "model_module": "@jupyter-widgets/base",
      "model_module_version": "1.0.0",
      "model_name": "LayoutModel",
      "state": {
       "width": "600px"
      }
     },
     "ca91322692d54a1a93798aa50abd4173": {
      "model_module": "@jupyter-widgets/controls",
      "model_module_version": "1.2.0",
      "model_name": "ButtonStyleModel",
      "state": {}
     },
     "caaffa157186429ca53d17151d0c94db": {
      "model_module": "@jupyter-widgets/controls",
      "model_module_version": "1.2.0",
      "model_name": "HTMLModel",
      "state": {
       "layout": "IPY_MODEL_34003e9011bc4a57928a1c7e159adfa1",
       "style": "IPY_MODEL_aa6033ea764f41d4a453e249b2e02e81",
       "value": "<h4 style=\"font-size:14px;\">Das Partizip <i>Verloren<i> ist eine</h4>"
      }
     },
     "cab5b4c5f6f44f5281622a6a5bab986d": {
      "model_module": "@jupyter-widgets/controls",
      "model_module_version": "1.2.0",
      "model_name": "VBoxModel",
      "state": {
       "children": [
        "IPY_MODEL_6f91b26711ad4b63888165b44d53cfda",
        "IPY_MODEL_2a20fa3354794266af3c916c9564c5fd",
        "IPY_MODEL_635201f6b700434da95c45c7bf099264",
        "IPY_MODEL_d55f8c6b0b8241e0afd421669aced8ac"
       ],
       "layout": "IPY_MODEL_e124b82aedb54f019ba217ebaa673748"
      }
     },
     "caf32f002bad4ecdb888d02e59aaa36a": {
      "model_module": "@jupyter-widgets/controls",
      "model_module_version": "1.2.0",
      "model_name": "HTMLModel",
      "state": {
       "layout": "IPY_MODEL_957d33d058314de3870b01a889988fdc",
       "style": "IPY_MODEL_7e30023dcc7148da9ade46900f852516",
       "value": "<h4 style=\"font-size:14px;\">Phrasen verkettet werden können. Das Ergebnis ist eine Phrase des gleichen Typs, also der gleichen</h4>"
      }
     },
     "cafd43b78fb94ae8b6b6ffbddb4862cd": {
      "model_module": "@jupyter-widgets/controls",
      "model_module_version": "1.2.0",
      "model_name": "HTMLModel",
      "state": {
       "layout": "IPY_MODEL_e71f8b4d3e3f4cdab147b142c778c9c1",
       "style": "IPY_MODEL_1172ee71f67c443aab554e32a13b5706",
       "value": "<i>Markieren Sie <ins>alle</ins> passenden Antworten: </i>"
      }
     },
     "cb02825a74d64fb28d6e18041679f4e9": {
      "model_module": "@jupyter-widgets/base",
      "model_module_version": "1.0.0",
      "model_name": "LayoutModel",
      "state": {}
     },
     "cb3a3b539ed84d7fb8a34b596a8f7194": {
      "model_module": "@jupyter-widgets/controls",
      "model_module_version": "1.2.0",
      "model_name": "VBoxModel",
      "state": {
       "children": [
        "IPY_MODEL_9875b09a418d461e8614fdc376bdb176",
        "IPY_MODEL_49075a71e468445bb7b53a6f5c4cf785",
        "IPY_MODEL_d89ba42176e34d7fb17af70cc87bea1e",
        "IPY_MODEL_7249aaa47e4541b18aec9ce419b15c67"
       ],
       "layout": "IPY_MODEL_0560131bf13047079663017638d45a8a"
      }
     },
     "cb584be6e2084ddb85044117b3f2c49e": {
      "model_module": "@jupyter-widgets/base",
      "model_module_version": "1.0.0",
      "model_name": "LayoutModel",
      "state": {
       "width": "250px"
      }
     },
     "cb5dc1f8e85d4037a880cd4ea908bc89": {
      "model_module": "@jupyter-widgets/base",
      "model_module_version": "1.0.0",
      "model_name": "LayoutModel",
      "state": {
       "width": "600px"
      }
     },
     "cbdd1ffe9fbc48099b3d587269c16336": {
      "model_module": "@jupyter-widgets/base",
      "model_module_version": "1.0.0",
      "model_name": "LayoutModel",
      "state": {
       "width": "250px"
      }
     },
     "cbe131fd31d942e98b0228af00322c71": {
      "model_module": "@jupyter-widgets/controls",
      "model_module_version": "1.2.0",
      "model_name": "ButtonModel",
      "state": {
       "description": "Korrekt?",
       "layout": "IPY_MODEL_15cabc956ac842a4a7960f3f69f131f2",
       "style": "IPY_MODEL_399a345439944a98b6586d602f9a07b8"
      }
     },
     "cbe30fee53a24aa4b1464cd996822c28": {
      "model_module": "@jupyter-widgets/base",
      "model_module_version": "1.0.0",
      "model_name": "LayoutModel",
      "state": {
       "width": "250px"
      }
     },
     "cbf826c8299544faa80ce988bfebf7fa": {
      "model_module": "@jupyter-widgets/controls",
      "model_module_version": "1.2.0",
      "model_name": "DescriptionStyleModel",
      "state": {
       "description_width": "initial"
      }
     },
     "cbfba79090ce483287df3dd91d5d7c8e": {
      "model_module": "@jupyter-widgets/base",
      "model_module_version": "1.0.0",
      "model_name": "LayoutModel",
      "state": {
       "width": "250px"
      }
     },
     "cc16cba242bf49b897aba1679ba593a6": {
      "model_module": "@jupyter-widgets/controls",
      "model_module_version": "1.2.0",
      "model_name": "HTMLModel",
      "state": {
       "layout": "IPY_MODEL_234a50084ae248b884006265db37a570",
       "style": "IPY_MODEL_5a95d302f0db4aa4806da5ef467c256a",
       "value": "<h4 style=\"font-size:14px;\">umfasst die</h4>"
      }
     },
     "cc2b0e5cc6824b849ae9a1dcbb737e32": {
      "model_module": "@jupyter-widgets/controls",
      "model_module_version": "1.2.0",
      "model_name": "DescriptionStyleModel",
      "state": {
       "description_width": ""
      }
     },
     "cc3ff8213e8145baab83935abdb593ee": {
      "model_module": "@jupyter-widgets/controls",
      "model_module_version": "1.2.0",
      "model_name": "BoxModel",
      "state": {
       "children": [
        "IPY_MODEL_4b9c7507ce9744b689ba8cdd8f6ca471",
        "IPY_MODEL_1ab71ca3b05649e2be35efc7ea9643dc",
        "IPY_MODEL_3c3ca368bcba4b8fa05d15c8262d4597",
        "IPY_MODEL_7c5ba817c45142ab90cbf6d98118c12d",
        "IPY_MODEL_fe0588b1b6444579a993f1cee287eda5",
        "IPY_MODEL_54f34980103c4e57ab1c338c41961a92",
        "IPY_MODEL_fc6217f964ac4a4f933ff05a9bb7a594"
       ],
       "layout": "IPY_MODEL_df91d53b661c4c7eb474ae818af3ab0e"
      }
     },
     "cc4308bf46d44487b4aff3bb60bfd1f7": {
      "model_module": "@jupyter-widgets/base",
      "model_module_version": "1.0.0",
      "model_name": "LayoutModel",
      "state": {
       "justify_content": "center"
      }
     },
     "cc599d152b3049008aed8cdcf8da4e68": {
      "model_module": "@jupyter-widgets/controls",
      "model_module_version": "1.2.0",
      "model_name": "DropdownModel",
      "state": {
       "_options_labels": [
        "'ADJ'",
        "'DET'",
        "'NOUN'",
        " "
       ],
       "index": 3,
       "layout": "IPY_MODEL_cdde16d1cdc940a1b6b74f0142ca867f",
       "style": "IPY_MODEL_085ba7635a484c40b147651e23f7b845"
      }
     },
     "cc9f8fdcc2314164afeef6ad4a41e87f": {
      "model_module": "@jupyter-widgets/controls",
      "model_module_version": "1.2.0",
      "model_name": "ButtonStyleModel",
      "state": {}
     },
     "cca2795ae83d4c5d94b106a7cce5f309": {
      "model_module": "@jupyter-widgets/controls",
      "model_module_version": "1.2.0",
      "model_name": "CheckboxModel",
      "state": {
       "description": "Es bezeichnet die näheren Umstände des im Verb ausgedrückten Geschehens.",
       "disabled": false,
       "layout": "IPY_MODEL_0f4d913385e747fbba8cef55daf2399f",
       "style": "IPY_MODEL_5f945d734d4449308fd58500c6283565",
       "value": false
      }
     },
     "ccc38651bf584e5da2461f0556973f97": {
      "model_module": "@jupyter-widgets/base",
      "model_module_version": "1.0.0",
      "model_name": "LayoutModel",
      "state": {
       "justify_content": "center"
      }
     },
     "cce81e08758042a7acf96f7d047cd4eb": {
      "model_module": "@jupyter-widgets/controls",
      "model_module_version": "1.2.0",
      "model_name": "DescriptionStyleModel",
      "state": {
       "description_width": ""
      }
     },
     "cd2a067f3dd3464e911ecd80eeac00b3": {
      "model_module": "@jupyter-widgets/base",
      "model_module_version": "1.0.0",
      "model_name": "LayoutModel",
      "state": {}
     },
     "cd353559b18d496e9f0ffa418884ae35": {
      "model_module": "@jupyter-widgets/controls",
      "model_module_version": "1.2.0",
      "model_name": "DescriptionStyleModel",
      "state": {
       "description_width": ""
      }
     },
     "cd456639a1f44672907c041e65c85b35": {
      "model_module": "@jupyter-widgets/controls",
      "model_module_version": "1.2.0",
      "model_name": "DescriptionStyleModel",
      "state": {
       "description_width": ""
      }
     },
     "cd57725ff791415a979d21203aa3525e": {
      "model_module": "@jupyter-widgets/controls",
      "model_module_version": "1.2.0",
      "model_name": "DescriptionStyleModel",
      "state": {
       "description_width": ""
      }
     },
     "cd89fa95cbe247349d806ae0cd8fb867": {
      "model_module": "@jupyter-widgets/controls",
      "model_module_version": "1.2.0",
      "model_name": "ButtonStyleModel",
      "state": {
       "button_color": "lightgreen"
      }
     },
     "cda3583b8fdb40a2bbbac9d9dd977716": {
      "model_module": "@jupyter-widgets/controls",
      "model_module_version": "1.2.0",
      "model_name": "ButtonModel",
      "state": {
       "description": "gerund",
       "layout": "IPY_MODEL_b1c3a1a527f345e4bf51199c7cd44f84",
       "style": "IPY_MODEL_8d02828123154164a772a2bc13c52ff4"
      }
     },
     "cdaa3d8126024d13b150043308b94e1f": {
      "model_module": "@jupyter-widgets/base",
      "model_module_version": "1.0.0",
      "model_name": "LayoutModel",
      "state": {}
     },
     "cdd83d4335cc4e5db79398e0ee74a510": {
      "model_module": "@jupyter-widgets/base",
      "model_module_version": "1.0.0",
      "model_name": "LayoutModel",
      "state": {}
     },
     "cdde16d1cdc940a1b6b74f0142ca867f": {
      "model_module": "@jupyter-widgets/base",
      "model_module_version": "1.0.0",
      "model_name": "LayoutModel",
      "state": {
       "width": "150px"
      }
     },
     "cdf71405f08d4656bd8833922ca13f5b": {
      "model_module": "@jupyter-widgets/controls",
      "model_module_version": "1.2.0",
      "model_name": "ButtonStyleModel",
      "state": {}
     },
     "ce0e454c0c2c45ed89ce6a87b28038ed": {
      "model_module": "@jupyter-widgets/controls",
      "model_module_version": "1.2.0",
      "model_name": "CheckboxModel",
      "state": {
       "description": "Es fungiert als Satzglied mit der syntaktischen Funktion Adverbial.",
       "disabled": false,
       "layout": "IPY_MODEL_a2510eca390349d9b14efb9406f40a98",
       "style": "IPY_MODEL_6864b1eafcae4d37a8bbc1e436db4c06",
       "value": true
      }
     },
     "ce368cf0c98a49ee8d3adc66f6ec2024": {
      "model_module": "@jupyter-widgets/base",
      "model_module_version": "1.0.0",
      "model_name": "LayoutModel",
      "state": {
       "justify_content": "center"
      }
     },
     "ce42240184704720ab901230d2897378": {
      "model_module": "@jupyter-widgets/controls",
      "model_module_version": "1.2.0",
      "model_name": "DescriptionStyleModel",
      "state": {
       "description_width": ""
      }
     },
     "ce59000d09f3423f947c96c25fc04cfb": {
      "model_module": "@jupyter-widgets/controls",
      "model_module_version": "1.2.0",
      "model_name": "VBoxModel",
      "state": {
       "children": [
        "IPY_MODEL_8b8dd11e35c34b4f90a9ec45a88723bf",
        "IPY_MODEL_db346c82e9f44f01abf97e802a9b1202",
        "IPY_MODEL_6f638712326543f8b35bf1e2106e07ff",
        "IPY_MODEL_0f3d9d498ea54c54a4e37fd7a9ae0270"
       ],
       "layout": "IPY_MODEL_f9929a78f684445e868da2fed8bd2eb8"
      }
     },
     "ce705682e78b4d3799842531905a568f": {
      "model_module": "@jupyter-widgets/controls",
      "model_module_version": "1.2.0",
      "model_name": "CheckboxModel",
      "state": {
       "description": "gleiche Endungen",
       "disabled": false,
       "layout": "IPY_MODEL_ba45f030b06e458b9f5b2347dadbd849",
       "style": "IPY_MODEL_017ec6e9135b46a3923cdec0558ebb24",
       "value": false
      }
     },
     "ce9cfea70a4f4cd4ac3a546989e0ec80": {
      "model_module": "@jupyter-widgets/controls",
      "model_module_version": "1.2.0",
      "model_name": "DescriptionStyleModel",
      "state": {
       "description_width": ""
      }
     },
     "ceb04bdc33d94df39ed00a84971e96b1": {
      "model_module": "@jupyter-widgets/controls",
      "model_module_version": "1.2.0",
      "model_name": "HTMLModel",
      "state": {
       "layout": "IPY_MODEL_e28be541c97c4708bedfd52eba414bb1",
       "style": "IPY_MODEL_428ec25e588740388711f1b6222dff6a",
       "value": "<i>Wählen Sie die <ins>eine</ins> korrekte Antwort aus: </i>"
      }
     },
     "cebfbbcf959a41bb9aa8c4e02b8563ab": {
      "model_module": "@jupyter-widgets/controls",
      "model_module_version": "1.2.0",
      "model_name": "DescriptionStyleModel",
      "state": {
       "description_width": ""
      }
     },
     "ced2e5070a9c4f408539e1fbab7d7a55": {
      "model_module": "@jupyter-widgets/base",
      "model_module_version": "1.0.0",
      "model_name": "LayoutModel",
      "state": {}
     },
     "cefdac7be5c8418c91509bca54a95b9a": {
      "model_module": "@jupyter-widgets/controls",
      "model_module_version": "1.2.0",
      "model_name": "ButtonModel",
      "state": {
       "description": "Keine der anderen Möglichkeiten",
       "layout": "IPY_MODEL_7098ecdbaa644eecacaec20a2feaa31b",
       "style": "IPY_MODEL_59e9a6bf9f714aaba7c250105c76b41f"
      }
     },
     "cf5c7d3ab67c4c94929a2de95a5a3194": {
      "model_module": "@jupyter-widgets/controls",
      "model_module_version": "1.2.0",
      "model_name": "DescriptionStyleModel",
      "state": {
       "description_width": ""
      }
     },
     "cf8fd5b1d4704480b3ab26f90c9c66ab": {
      "model_module": "@jupyter-widgets/controls",
      "model_module_version": "1.2.0",
      "model_name": "ButtonModel",
      "state": {
       "description": "Lösung zeigen",
       "layout": "IPY_MODEL_f00de5efc15d422b8ba93cd90998d79f",
       "style": "IPY_MODEL_87c1ce26e73f407f8bd22a414960538c"
      }
     },
     "cfcf7e7424544566bd9c45034c1f9c6e": {
      "model_module": "@jupyter-widgets/base",
      "model_module_version": "1.0.0",
      "model_name": "LayoutModel",
      "state": {}
     },
     "cfffa5bb13624eb59e1ac03c58788953": {
      "model_module": "@jupyter-widgets/controls",
      "model_module_version": "1.2.0",
      "model_name": "HTMLModel",
      "state": {
       "layout": "IPY_MODEL_5c8a2226e5a14a028faa360f3aec5940",
       "style": "IPY_MODEL_99251492ace94992a863fc56c5a8fe2a",
       "value": "<i>Wählen Sie die <ins>eine</ins> korrekte Antwort aus: </i>"
      }
     },
     "d05d4554d5dc46fe8e01d85b206e585f": {
      "model_module": "@jupyter-widgets/controls",
      "model_module_version": "1.2.0",
      "model_name": "DescriptionStyleModel",
      "state": {
       "description_width": ""
      }
     },
     "d05de0fdf27241a68b6cf49fe4e29c12": {
      "model_module": "@jupyter-widgets/controls",
      "model_module_version": "1.2.0",
      "model_name": "ButtonStyleModel",
      "state": {}
     },
     "d14cac6afd524b93a5660f4d8e463386": {
      "model_module": "@jupyter-widgets/controls",
      "model_module_version": "1.2.0",
      "model_name": "ButtonStyleModel",
      "state": {}
     },
     "d1912f7047b4462093463c0ccd8adfde": {
      "model_module": "@jupyter-widgets/controls",
      "model_module_version": "1.2.0",
      "model_name": "HTMLModel",
      "state": {
       "layout": "IPY_MODEL_69bcc5d9e0b34b8c955365a71b424b12",
       "style": "IPY_MODEL_a4a999b95f0c4a628eab927819030f47",
       "value": "<h4 style=\"font-size:14px;\">Die Koordination von Phrasen ist dadurch eingeschränkt, dass nur</h4>"
      }
     },
     "d1b4a3e4f57b4f16a0e19ac79b9fb4d7": {
      "model_module": "@jupyter-widgets/base",
      "model_module_version": "1.0.0",
      "model_name": "LayoutModel",
      "state": {}
     },
     "d1ea0dc01b6f48ada4614ba1d2a472d4": {
      "model_module": "@jupyter-widgets/base",
      "model_module_version": "1.0.0",
      "model_name": "LayoutModel",
      "state": {}
     },
     "d1f9bc0678ec4de5bc7dd3ca2c767219": {
      "model_module": "@jupyter-widgets/controls",
      "model_module_version": "1.2.0",
      "model_name": "ButtonStyleModel",
      "state": {}
     },
     "d20603e256ba4cc3ad7ec15daeff7529": {
      "model_module": "@jupyter-widgets/controls",
      "model_module_version": "1.2.0",
      "model_name": "DescriptionStyleModel",
      "state": {
       "description_width": ""
      }
     },
     "d20ff4a81c2f4a01999c082f6b3a5bda": {
      "model_module": "@jupyter-widgets/controls",
      "model_module_version": "1.2.0",
      "model_name": "DropdownModel",
      "state": {
       "_options_labels": [
        "Bedeutung",
        "Wohlgeformtheit",
        " "
       ],
       "index": 2,
       "layout": "IPY_MODEL_b1d98a7e1dfc483b92f628fd29de8638",
       "style": "IPY_MODEL_6ac3d8d2e8aa4766b4691aa9847364c4"
      }
     },
     "d219451345174d79abbc6518459970c9": {
      "model_module": "@jupyter-widgets/base",
      "model_module_version": "1.0.0",
      "model_name": "LayoutModel",
      "state": {
       "width": "250px"
      }
     },
     "d22c7c917b2344fabb758c236eb0da22": {
      "model_module": "@jupyter-widgets/base",
      "model_module_version": "1.0.0",
      "model_name": "LayoutModel",
      "state": {}
     },
     "d23730edf37f44e589a1c73c7f3e81dc": {
      "model_module": "@jupyter-widgets/controls",
      "model_module_version": "1.2.0",
      "model_name": "HTMLModel",
      "state": {
       "layout": "IPY_MODEL_ddca0d1a29d343ca82ecf4d271c2878a",
       "style": "IPY_MODEL_b6c44e85671742dcb070fa369971c494",
       "value": "<h4 style=\"font-size:14px;\">. Aus dieser wurde es extrahiert und ins</h4>"
      }
     },
     "d271767189d844d8ae6cc2f1342f72d1": {
      "model_module": "@jupyter-widgets/controls",
      "model_module_version": "1.2.0",
      "model_name": "ButtonStyleModel",
      "state": {}
     },
     "d2c2f0a0eb1e4829b3cfcbcaa21e5adb": {
      "model_module": "@jupyter-widgets/base",
      "model_module_version": "1.0.0",
      "model_name": "LayoutModel",
      "state": {}
     },
     "d2e01d1a1bf540b68cb756a400632e5d": {
      "model_module": "@jupyter-widgets/controls",
      "model_module_version": "1.2.0",
      "model_name": "CheckboxModel",
      "state": {
       "description": "Flexionstyp",
       "disabled": false,
       "layout": "IPY_MODEL_5ecb99a95ebc4153afdffeaf27eb3fd1",
       "style": "IPY_MODEL_890a286528d54667bbc318ea41c9b2a3",
       "value": true
      }
     },
     "d304a2a1c682406a920060780393e341": {
      "model_module": "@jupyter-widgets/controls",
      "model_module_version": "1.2.0",
      "model_name": "DescriptionStyleModel",
      "state": {
       "description_width": ""
      }
     },
     "d30b8d95ea44428ca7959255313971c0": {
      "model_module": "@jupyter-widgets/base",
      "model_module_version": "1.0.0",
      "model_name": "LayoutModel",
      "state": {
       "justify_content": "center"
      }
     },
     "d30f5ae0eaf946959fca37afc42bf294": {
      "model_module": "@jupyter-widgets/controls",
      "model_module_version": "1.2.0",
      "model_name": "DescriptionStyleModel",
      "state": {
       "description_width": "initial"
      }
     },
     "d33ba3f9519c4acf89d9b6b1421cd6dc": {
      "model_module": "@jupyter-widgets/base",
      "model_module_version": "1.0.0",
      "model_name": "LayoutModel",
      "state": {
       "justify_content": "center"
      }
     },
     "d343582035444caaa376fb6b98c97aef": {
      "model_module": "@jupyter-widgets/controls",
      "model_module_version": "1.2.0",
      "model_name": "HTMLModel",
      "state": {
       "layout": "IPY_MODEL_41b45a8063fb463c9370b55f44506fa0",
       "style": "IPY_MODEL_b5259aa16a9243b482c600a850178c13",
       "value": "<h4 style=\"font-size:14px;\">Was bedeutet das Tag <i>VBZ</i> im Browntagset (siehe 5.7)?</h4>"
      }
     },
     "d3588fc79e6d4414b962374207b18879": {
      "model_module": "@jupyter-widgets/controls",
      "model_module_version": "1.2.0",
      "model_name": "DescriptionStyleModel",
      "state": {
       "description_width": "initial"
      }
     },
     "d3a41ab63b95412693743159f9416042": {
      "model_module": "@jupyter-widgets/controls",
      "model_module_version": "1.2.0",
      "model_name": "CheckboxModel",
      "state": {
       "description": "Flexionstyp",
       "disabled": false,
       "layout": "IPY_MODEL_3033cb4871574aaf878a2f65dfaafdd8",
       "style": "IPY_MODEL_e51febcb868a4310a0f31c1f97575302",
       "value": false
      }
     },
     "d3af097f749245ef952b2e490b0ea1cc": {
      "model_module": "@jupyter-widgets/controls",
      "model_module_version": "1.2.0",
      "model_name": "DescriptionStyleModel",
      "state": {
       "description_width": "initial"
      }
     },
     "d3b317f61d7b452c93210ac2e020c4c1": {
      "model_module": "@jupyter-widgets/base",
      "model_module_version": "1.0.0",
      "model_name": "LayoutModel",
      "state": {
       "width": "250px"
      }
     },
     "d3d98c6bc09146109a1987a566b3653c": {
      "model_module": "@jupyter-widgets/controls",
      "model_module_version": "1.2.0",
      "model_name": "ButtonModel",
      "state": {
       "description": "past participle",
       "layout": "IPY_MODEL_c89681242175492297da7c670b65e271",
       "style": "IPY_MODEL_0e2b4f860edd4ccaa37453a965de2c7f"
      }
     },
     "d45ac15dc9c94889b2600c2e7fa2c618": {
      "model_module": "@jupyter-widgets/controls",
      "model_module_version": "1.2.0",
      "model_name": "ButtonModel",
      "state": {
       "description": "3rd singular present",
       "layout": "IPY_MODEL_ba9404185f4e4e929483cf7f842476a3",
       "style": "IPY_MODEL_7576eb3ffb86419d87073c92c28316fb"
      }
     },
     "d4ce864f1b0d4639b068a712665aaa5e": {
      "model_module": "@jupyter-widgets/base",
      "model_module_version": "1.0.0",
      "model_name": "LayoutModel",
      "state": {
       "width": "150px"
      }
     },
     "d507645ada814132a5ab22e7e6816990": {
      "model_module": "@jupyter-widgets/controls",
      "model_module_version": "1.2.0",
      "model_name": "CheckboxModel",
      "state": {
       "description": "Es ist flektierbar.",
       "disabled": false,
       "layout": "IPY_MODEL_f22ded2b250145398d775f94159144f3",
       "style": "IPY_MODEL_e98a08725be5455299711a2e10a5c72f",
       "value": false
      }
     },
     "d5287747c94447c29fccdbf28a91126c": {
      "model_module": "@jupyter-widgets/controls",
      "model_module_version": "1.2.0",
      "model_name": "ButtonStyleModel",
      "state": {}
     },
     "d55f8c6b0b8241e0afd421669aced8ac": {
      "model_module": "@jupyter-widgets/controls",
      "model_module_version": "1.2.0",
      "model_name": "CheckboxModel",
      "state": {
       "description": "Nur mit einem Schritt beginnt auch eine Reise von tausend Meilen.",
       "disabled": false,
       "layout": "IPY_MODEL_b2004758f0b3410987aec23ed6f67e71",
       "style": "IPY_MODEL_1eb9713369c7479aa380c3c4368a68de",
       "value": false
      }
     },
     "d571f602453f42498450691e411081d5": {
      "model_module": "@jupyter-widgets/controls",
      "model_module_version": "1.2.0",
      "model_name": "HBoxModel",
      "state": {
       "children": [
        "IPY_MODEL_3ffbfbe5e54e4c5b9253dc658be1922d",
        "IPY_MODEL_04569153505c4da1858865a76d0ef41e"
       ],
       "layout": "IPY_MODEL_fc40e1bf3fe04594ae5d24f45faea7dd"
      }
     },
     "d611859135ad4a39a6643b8581dd2c5a": {
      "model_module": "@jupyter-widgets/controls",
      "model_module_version": "1.2.0",
      "model_name": "HTMLModel",
      "state": {
       "layout": "IPY_MODEL_85913090b4ec4ab995ea77e0b01b23b9",
       "style": "IPY_MODEL_122e74f4c7bb40b0bdb02603a55762d7",
       "value": "<h4 style=\"font-size:14px;\">gestellt. Die gesamte</h4>"
      }
     },
     "d63327a3ddcd4b8785ff34ecf224b8a8": {
      "model_module": "@jupyter-widgets/controls",
      "model_module_version": "1.2.0",
      "model_name": "ButtonModel",
      "state": {
       "description": "Partikel",
       "layout": "IPY_MODEL_b9507156973a46889fdb4dd3b6f04fc7",
       "style": "IPY_MODEL_dc66e1d69f7c48eba7ae863f7f091528"
      }
     },
     "d6343b31df324995865e0d76938d9dfb": {
      "model_module": "@jupyter-widgets/controls",
      "model_module_version": "1.2.0",
      "model_name": "HBoxModel",
      "state": {
       "children": [
        "IPY_MODEL_923681287aa14f91b3f264d3bdef1a38",
        "IPY_MODEL_b9d01123f04045b7b359e8d411f594ca"
       ],
       "layout": "IPY_MODEL_1ec994cba54e4df98495f88d14392d22"
      }
     },
     "d6370f6837a74a98b6aa2b72a67751de": {
      "model_module": "@jupyter-widgets/controls",
      "model_module_version": "1.2.0",
      "model_name": "DescriptionStyleModel",
      "state": {
       "description_width": ""
      }
     },
     "d6717426f59b4b81acd31423b80c5127": {
      "model_module": "@jupyter-widgets/base",
      "model_module_version": "1.0.0",
      "model_name": "LayoutModel",
      "state": {
       "width": "150px"
      }
     },
     "d684ca8bca134b76b5782f30d7a3cc8e": {
      "model_module": "@jupyter-widgets/base",
      "model_module_version": "1.0.0",
      "model_name": "LayoutModel",
      "state": {}
     },
     "d6bb0606b94a4ff0a9bff2c413bfcf19": {
      "model_module": "@jupyter-widgets/base",
      "model_module_version": "1.0.0",
      "model_name": "LayoutModel",
      "state": {}
     },
     "d6ceedb213224b29a862cdfbf852baf1": {
      "model_module": "@jupyter-widgets/controls",
      "model_module_version": "1.2.0",
      "model_name": "ButtonModel",
      "state": {
       "description": "Korrekt?",
       "layout": "IPY_MODEL_12843a4d507a409eb7cde8ff3e866f43",
       "style": "IPY_MODEL_c8e798c386cd4e0bba904fc52a295799"
      }
     },
     "d6d4f43a5f284c7cb3e50f40fe0fd3b2": {
      "model_module": "@jupyter-widgets/controls",
      "model_module_version": "1.2.0",
      "model_name": "ButtonStyleModel",
      "state": {}
     },
     "d6d98ca597844db8a6fef027b35eddd7": {
      "model_module": "@jupyter-widgets/controls",
      "model_module_version": "1.2.0",
      "model_name": "DescriptionStyleModel",
      "state": {
       "description_width": ""
      }
     },
     "d6fb3341007e46dbb9496f7c0a4d0feb": {
      "model_module": "@jupyter-widgets/controls",
      "model_module_version": "1.2.0",
      "model_name": "ButtonStyleModel",
      "state": {}
     },
     "d6fd9228571846f7b8e81e81d4c5a00f": {
      "model_module": "@jupyter-widgets/controls",
      "model_module_version": "1.2.0",
      "model_name": "HTMLModel",
      "state": {
       "layout": "IPY_MODEL_f074e4c04570456da1fe895722a94397",
       "style": "IPY_MODEL_1723c5ebd658478ab1fe04b652d48c47",
       "value": "<i>Wählen Sie die <ins>eine</ins> korrekte Antwort aus: </i>"
      }
     },
     "d70f29365bc6471595da2acdd0e5b42e": {
      "model_module": "@jupyter-widgets/controls",
      "model_module_version": "1.2.0",
      "model_name": "HTMLModel",
      "state": {
       "layout": "IPY_MODEL_12fd0a2474884cdcb49ab10838ff89b9",
       "style": "IPY_MODEL_ecd9ecbe206347d2afbed4649023fa31",
       "value": "<h4 style=\"font-size:14px;\">. Aus dieser wurde es extrahiert und ins</h4>"
      }
     },
     "d716d621c8364843a2f0328c18b29b65": {
      "model_module": "@jupyter-widgets/controls",
      "model_module_version": "1.2.0",
      "model_name": "HBoxModel",
      "state": {
       "children": [
        "IPY_MODEL_f7897cfd451f49b8bd7788595c4ecfd3",
        "IPY_MODEL_729409b8ef924321998819a4b1329dd1"
       ],
       "layout": "IPY_MODEL_c35bf38ab5cb4b8d8b9c68c06700d568"
      }
     },
     "d71b3a8ef0e24c4fae411113135a2b98": {
      "model_module": "@jupyter-widgets/controls",
      "model_module_version": "1.2.0",
      "model_name": "CheckboxModel",
      "state": {
       "description": "Es bezeichnet die näheren Umstände des im Verb ausgedrückten Geschehens.",
       "disabled": false,
       "layout": "IPY_MODEL_ed766e39c8264e03b07154544a6fd9f5",
       "style": "IPY_MODEL_14ab85d9f2fa4f89807ea5d6f0e3e73f",
       "value": true
      }
     },
     "d7301dad88434e41969bb79c4bffa1e8": {
      "model_module": "@jupyter-widgets/controls",
      "model_module_version": "1.2.0",
      "model_name": "DescriptionStyleModel",
      "state": {
       "description_width": ""
      }
     },
     "d7c7b0cfc062459592d71da6b50434b5": {
      "model_module": "@jupyter-widgets/base",
      "model_module_version": "1.0.0",
      "model_name": "LayoutModel",
      "state": {}
     },
     "d7d9b10fd53d4a0a9e4af86ad27e6228": {
      "model_module": "@jupyter-widgets/controls",
      "model_module_version": "1.2.0",
      "model_name": "ButtonStyleModel",
      "state": {}
     },
     "d7e0617d2cf64c1795c86a464d553abd": {
      "model_module": "@jupyter-widgets/base",
      "model_module_version": "1.0.0",
      "model_name": "LayoutModel",
      "state": {}
     },
     "d7fafb27a51643f782e8f43e13f4c696": {
      "model_module": "@jupyter-widgets/controls",
      "model_module_version": "1.2.0",
      "model_name": "HBoxModel",
      "state": {
       "children": [
        "IPY_MODEL_813b9ca890fe40839431febed5a2787f"
       ],
       "layout": "IPY_MODEL_1fd36ddb9dcf4b27ac94350a3be69c69"
      }
     },
     "d8653182893b4c18838300d282d97159": {
      "model_module": "@jupyter-widgets/controls",
      "model_module_version": "1.2.0",
      "model_name": "DescriptionStyleModel",
      "state": {
       "description_width": "initial"
      }
     },
     "d87d56ff72e4467b93c6526741f1fb26": {
      "model_module": "@jupyter-widgets/base",
      "model_module_version": "1.0.0",
      "model_name": "LayoutModel",
      "state": {
       "width": "600px"
      }
     },
     "d880352667df49e2a4e8d0b70862edd5": {
      "model_module": "@jupyter-widgets/controls",
      "model_module_version": "1.2.0",
      "model_name": "HTMLModel",
      "state": {
       "layout": "IPY_MODEL_953a0e54ba0b4f36bf3956b51c860a27",
       "style": "IPY_MODEL_494f3426663a4bea99ca36aa5994ad6b",
       "value": "<i>Geben Sie die entsprechende Funktion anstelle des Unterstrichs ein.</i>"
      }
     },
     "d89ba42176e34d7fb17af70cc87bea1e": {
      "model_module": "@jupyter-widgets/controls",
      "model_module_version": "1.2.0",
      "model_name": "HBoxModel",
      "state": {
       "children": [
        "IPY_MODEL_21fd856100c04af89645bd14942466a8",
        "IPY_MODEL_e27260f019e7413da1b4dbbf03844a28"
       ],
       "layout": "IPY_MODEL_2f2045b3aff84b608bfef9ef001c8783"
      }
     },
     "d9109d780ff34924b7954a3da431224d": {
      "model_module": "@jupyter-widgets/controls",
      "model_module_version": "1.2.0",
      "model_name": "HTMLModel",
      "state": {
       "layout": "IPY_MODEL_ec11276bb8da4cc89e105baae007e6aa",
       "style": "IPY_MODEL_26a65b3a40c64e3a95a1967d8044dfe3",
       "value": "<i>Markieren Sie <ins>alle</ins> passenden Antworten: </i>"
      }
     },
     "d91167ce5b4b4781b56ac3c2737d7ba3": {
      "model_module": "@jupyter-widgets/base",
      "model_module_version": "1.0.0",
      "model_name": "LayoutModel",
      "state": {}
     },
     "d91ba990332b4382bccacee3ed8abdd4": {
      "model_module": "@jupyter-widgets/controls",
      "model_module_version": "1.2.0",
      "model_name": "DescriptionStyleModel",
      "state": {
       "description_width": "initial"
      }
     },
     "d91e76abb2c94ec4882c1b19ba1e6735": {
      "model_module": "@jupyter-widgets/base",
      "model_module_version": "1.0.0",
      "model_name": "LayoutModel",
      "state": {}
     },
     "d93d900ff5ae4fbf87cf1ed200b48ba8": {
      "model_module": "@jupyter-widgets/controls",
      "model_module_version": "1.2.0",
      "model_name": "HTMLModel",
      "state": {
       "layout": "IPY_MODEL_aff2430f96384f0eb56ec9c991e31965",
       "style": "IPY_MODEL_8292d7e466014593be41031bd345fc3d",
       "value": "<i>Vervollständigen Sie den Lückentext: </i>"
      }
     },
     "d98a98306bb24e9b9c5ca8249092a3b8": {
      "model_module": "@jupyter-widgets/controls",
      "model_module_version": "1.2.0",
      "model_name": "DropdownModel",
      "state": {
       "_options_labels": [
        "Konstituente",
        "Phrase",
        " "
       ],
       "index": 0,
       "layout": "IPY_MODEL_335c8a06d7cc41f984287a3d619c97f3",
       "style": "IPY_MODEL_26834ed602b14cb292222945fdc9b2db"
      }
     },
     "da1440e83e4141eb90d4666a97b228dc": {
      "model_module": "@jupyter-widgets/base",
      "model_module_version": "1.0.0",
      "model_name": "LayoutModel",
      "state": {
       "width": "150px"
      }
     },
     "da25896997894f92bed7b29f14b829de": {
      "model_module": "@jupyter-widgets/controls",
      "model_module_version": "1.2.0",
      "model_name": "CheckboxModel",
      "state": {
       "description": "Flexionstyp",
       "disabled": false,
       "layout": "IPY_MODEL_320d3a6907ba49b6a14f9bc76139769d",
       "style": "IPY_MODEL_74ffc37fa7ef407492d5e337ef257e57",
       "value": false
      }
     },
     "da750fa18b8c46dba36676e527cfdc5c": {
      "model_module": "@jupyter-widgets/controls",
      "model_module_version": "1.2.0",
      "model_name": "VBoxModel",
      "state": {
       "children": [
        "IPY_MODEL_6e02b3b5a4d94cd886438efb066b0479",
        "IPY_MODEL_6df2c90e8a74447aadaac30031c4394d",
        "IPY_MODEL_02595e2f41ee4f53893cfa12d3c7b3a8",
        "IPY_MODEL_84c9a07f50494bddb7b0090d1932163c"
       ],
       "layout": "IPY_MODEL_8710c2b969134c858372ff203b428783"
      }
     },
     "da815cbc814a474faa541b9bdd70579f": {
      "model_module": "@jupyter-widgets/controls",
      "model_module_version": "1.2.0",
      "model_name": "DescriptionStyleModel",
      "state": {
       "description_width": ""
      }
     },
     "daa55aff4cc3428e8a8e0fb0f81f8150": {
      "model_module": "@jupyter-widgets/controls",
      "model_module_version": "1.2.0",
      "model_name": "HTMLModel",
      "state": {
       "layout": "IPY_MODEL_e423db3cb1c344a0830c0ec3db729fbe",
       "style": "IPY_MODEL_29c04575ac804bc593dd289b4bcfe719",
       "value": "<i>Markieren Sie <ins>alle</ins> passenden Antworten: </i>"
      }
     },
     "dab5ee34b52341ffa42847ee07b688b3": {
      "model_module": "@jupyter-widgets/controls",
      "model_module_version": "1.2.0",
      "model_name": "HTMLModel",
      "state": {
       "layout": "IPY_MODEL_83466017edd64d389d4731137a8751e9",
       "style": "IPY_MODEL_7a69880c7e45446fa45cdcacddd5282e",
       "value": "<h4 style=\"font-size:14px;\">Was bedeutet das Tag <i>VBN</i> im Browntagset (siehe 5.7)?</h4>"
      }
     },
     "dabf16ff49844e6eb30fd573f35930db": {
      "model_module": "@jupyter-widgets/controls",
      "model_module_version": "1.2.0",
      "model_name": "VBoxModel",
      "state": {
       "children": [
        "IPY_MODEL_c55c13f399144e92b139a316e17c5639",
        "IPY_MODEL_41ac55ad398f41f3813834478f625784",
        "IPY_MODEL_b3fdd26f5d5f43bb8f1e3de88992fee5"
       ],
       "layout": "IPY_MODEL_1953a93102344111b72ad6eff8eb8a60"
      }
     },
     "dadaa320b3ad45cdbdaf7009a6374eb3": {
      "model_module": "@jupyter-widgets/controls",
      "model_module_version": "1.2.0",
      "model_name": "ButtonModel",
      "state": {
       "description": "Richtig!",
       "layout": "IPY_MODEL_e1ef367d3ab84a2385b44aeeb6daac83",
       "style": "IPY_MODEL_c23f65bcdc18496f9e39a65bf773c863"
      }
     },
     "dadba7a3d20d452e82a5dad84a6292f5": {
      "model_module": "@jupyter-widgets/controls",
      "model_module_version": "1.2.0",
      "model_name": "DropdownModel",
      "state": {
       "_options_labels": [
        "Köpfe",
        "Länge",
        "Phrasenstruktur",
        " "
       ],
       "index": 3,
       "layout": "IPY_MODEL_ece581709d7e49dfb407349834317dc6",
       "style": "IPY_MODEL_a085e0eb1a1c491794a7e25de8a26a99"
      }
     },
     "dade54555fa54b309f18f3e149dcf05b": {
      "model_module": "@jupyter-widgets/base",
      "model_module_version": "1.0.0",
      "model_name": "LayoutModel",
      "state": {
       "width": "250px"
      }
     },
     "db22eca5444843ec97bd890b71dd6a8a": {
      "model_module": "@jupyter-widgets/controls",
      "model_module_version": "1.2.0",
      "model_name": "ButtonStyleModel",
      "state": {}
     },
     "db346c82e9f44f01abf97e802a9b1202": {
      "model_module": "@jupyter-widgets/controls",
      "model_module_version": "1.2.0",
      "model_name": "HTMLModel",
      "state": {
       "layout": "IPY_MODEL_fcd1f76f065b40a0af3fbc7175d00933",
       "style": "IPY_MODEL_feaff30cf29b4838bfd4af39759dae33",
       "value": "<i>Wählen Sie die <ins>eine</ins> korrekte Antwort aus: </i>"
      }
     },
     "db6bcaf418154615960f897b3665165e": {
      "model_module": "@jupyter-widgets/controls",
      "model_module_version": "1.2.0",
      "model_name": "ButtonModel",
      "state": {
       "description": "Korrekt?",
       "layout": "IPY_MODEL_43dab183c94c43ecab40715038adae4c",
       "style": "IPY_MODEL_f931965f1d2d4d21b9c3a11a355a488b"
      }
     },
     "db6dbb4bea5546aea9bc070028682be4": {
      "model_module": "@jupyter-widgets/controls",
      "model_module_version": "1.2.0",
      "model_name": "ButtonStyleModel",
      "state": {}
     },
     "db92211cf14e4d0eb3b42d3b80002323": {
      "model_module": "@jupyter-widgets/controls",
      "model_module_version": "1.2.0",
      "model_name": "ButtonStyleModel",
      "state": {}
     },
     "dbc788a3ebd24876a202f8d91d2434b5": {
      "model_module": "@jupyter-widgets/base",
      "model_module_version": "1.0.0",
      "model_name": "LayoutModel",
      "state": {
       "width": "250px"
      }
     },
     "dbc906e379484401a16a0f8095b43964": {
      "model_module": "@jupyter-widgets/base",
      "model_module_version": "1.0.0",
      "model_name": "LayoutModel",
      "state": {
       "width": "250px"
      }
     },
     "dbf7a1f49ff64384bb0d986037a3b643": {
      "model_module": "@jupyter-widgets/controls",
      "model_module_version": "1.2.0",
      "model_name": "VBoxModel",
      "state": {
       "children": [
        "IPY_MODEL_dab5ee34b52341ffa42847ee07b688b3",
        "IPY_MODEL_195dc0c161a2457ca142d8ef5df65cd2",
        "IPY_MODEL_817916bd25eb48be99314d869cb8e445",
        "IPY_MODEL_418e482010154aef832997d78291982c",
        "IPY_MODEL_aec4c34d1f2c4d69a71efafb0d35bc4f"
       ],
       "layout": "IPY_MODEL_d1ea0dc01b6f48ada4614ba1d2a472d4"
      }
     },
     "dc1a7f0fc43d46b4afb005de316bf4bf": {
      "model_module": "@jupyter-widgets/base",
      "model_module_version": "1.0.0",
      "model_name": "LayoutModel",
      "state": {}
     },
     "dc66e1d69f7c48eba7ae863f7f091528": {
      "model_module": "@jupyter-widgets/controls",
      "model_module_version": "1.2.0",
      "model_name": "ButtonStyleModel",
      "state": {}
     },
     "dc6802297d46445bad0b6e36eb980535": {
      "model_module": "@jupyter-widgets/controls",
      "model_module_version": "1.2.0",
      "model_name": "DescriptionStyleModel",
      "state": {
       "description_width": ""
      }
     },
     "dc6fffd3634c4da28a0376202dba9f24": {
      "model_module": "@jupyter-widgets/controls",
      "model_module_version": "1.2.0",
      "model_name": "VBoxModel",
      "state": {
       "children": [
        "IPY_MODEL_6bb9e17956d24fa7a52d1cfb0dfd5391",
        "IPY_MODEL_ce0e454c0c2c45ed89ce6a87b28038ed",
        "IPY_MODEL_04883a4f6ac841939c10c58b550c6054"
       ],
       "layout": "IPY_MODEL_1e52512e83dd413dbb1aa9119d4379a7"
      }
     },
     "dc98c4da715043fd849e8900cabdbd45": {
      "model_module": "@jupyter-widgets/base",
      "model_module_version": "1.0.0",
      "model_name": "LayoutModel",
      "state": {}
     },
     "dca6e718ad874dfbb80f8bf17234f3dc": {
      "model_module": "@jupyter-widgets/controls",
      "model_module_version": "1.2.0",
      "model_name": "HTMLModel",
      "state": {
       "layout": "IPY_MODEL_3f53081f51084d0294ef74501c06807e",
       "style": "IPY_MODEL_6f18843f571149f2960070ea9c5f508a",
       "value": "<h4 style=\"font-size:14px;\"><i>seinen Schlüsselbund zwar noch nie verloren haben.</i></h4>"
      }
     },
     "dce0da242a4646e484b782e9ae80bd7e": {
      "model_module": "@jupyter-widgets/base",
      "model_module_version": "1.0.0",
      "model_name": "LayoutModel",
      "state": {
       "width": "250px"
      }
     },
     "ddca0d1a29d343ca82ecf4d271c2878a": {
      "model_module": "@jupyter-widgets/base",
      "model_module_version": "1.0.0",
      "model_name": "LayoutModel",
      "state": {}
     },
     "ddd33dc397874f7ea2e3b9e347bf6f15": {
      "model_module": "@jupyter-widgets/base",
      "model_module_version": "1.0.0",
      "model_name": "LayoutModel",
      "state": {
       "width": "600px"
      }
     },
     "ddd67b5ea7144198927bac51ed285e7f": {
      "model_module": "@jupyter-widgets/controls",
      "model_module_version": "1.2.0",
      "model_name": "HTMLModel",
      "state": {
       "layout": "IPY_MODEL_cdd83d4335cc4e5db79398e0ee74a510",
       "style": "IPY_MODEL_9447416a80f4479eb18c383fd980101d",
       "value": "<i>Geben Sie die entsprechende Funktion anstelle des Unterstrichs ein.</i>"
      }
     },
     "ddeb733c6f5a4983bd62d23d69f79d73": {
      "model_module": "@jupyter-widgets/base",
      "model_module_version": "1.0.0",
      "model_name": "LayoutModel",
      "state": {}
     },
     "de1055b627784c99aaf6e997d31a0ea4": {
      "model_module": "@jupyter-widgets/base",
      "model_module_version": "1.0.0",
      "model_name": "LayoutModel",
      "state": {}
     },
     "de281eecbe114fc79b248198aeb84865": {
      "model_module": "@jupyter-widgets/controls",
      "model_module_version": "1.2.0",
      "model_name": "HBoxModel",
      "state": {
       "children": [
        "IPY_MODEL_1c203a901957409c93d300d0d6a10f90",
        "IPY_MODEL_0ea65ee73b504261bd18d7f6bbd9b641"
       ],
       "layout": "IPY_MODEL_b437955957514677b62cc12f26e05389"
      }
     },
     "de2e8adf300d42299de225cc6f6f468c": {
      "model_module": "@jupyter-widgets/base",
      "model_module_version": "1.0.0",
      "model_name": "LayoutModel",
      "state": {}
     },
     "deb39b00a4744bd6b0abee7d82ed4cfb": {
      "model_module": "@jupyter-widgets/base",
      "model_module_version": "1.0.0",
      "model_name": "LayoutModel",
      "state": {}
     },
     "dec9f4a76f2243358005d2c3cd007e37": {
      "model_module": "@jupyter-widgets/controls",
      "model_module_version": "1.2.0",
      "model_name": "BoxModel",
      "state": {
       "children": [
        "IPY_MODEL_2b94105375694dfa83c47e5c2dde700f",
        "IPY_MODEL_26e6b4151df24aee9aca77e3e923a894",
        "IPY_MODEL_caf32f002bad4ecdb888d02e59aaa36a",
        "IPY_MODEL_98469c8471644f84844fabf13e52064a",
        "IPY_MODEL_ad616d38c4a14eef9e6c64c37c121a4d"
       ],
       "layout": "IPY_MODEL_c84755d106344910b5d66eb44001b8c4"
      }
     },
     "df4a5bf594674ebebe921c1d6f2cfc6a": {
      "model_module": "@jupyter-widgets/base",
      "model_module_version": "1.0.0",
      "model_name": "LayoutModel",
      "state": {}
     },
     "df91d53b661c4c7eb474ae818af3ab0e": {
      "model_module": "@jupyter-widgets/base",
      "model_module_version": "1.0.0",
      "model_name": "LayoutModel",
      "state": {
       "align_content": "stretch",
       "align_items": "stretch",
       "display": "inline-flex",
       "flex": "flex-grow",
       "flex_flow": "row wrap",
       "justify_content": "flex-start"
      }
     },
     "df98daddc04347649192a59cfdaabdde": {
      "model_module": "@jupyter-widgets/controls",
      "model_module_version": "1.2.0",
      "model_name": "DescriptionStyleModel",
      "state": {
       "description_width": ""
      }
     },
     "df9ace07ef224b948425a022e1ac77c2": {
      "model_module": "@jupyter-widgets/base",
      "model_module_version": "1.0.0",
      "model_name": "LayoutModel",
      "state": {
       "width": "150px"
      }
     },
     "dfd4dc1107194258ab9096992b8d51da": {
      "model_module": "@jupyter-widgets/controls",
      "model_module_version": "1.2.0",
      "model_name": "VBoxModel",
      "state": {
       "children": [
        "IPY_MODEL_b30efb05b15e43999477f7fabd71d7b2",
        "IPY_MODEL_80520c24c67a4ba281ac03b2a06b2d97",
        "IPY_MODEL_18e0dea52473495d81062bb015e57fd1",
        "IPY_MODEL_483d53a10d664f9cb79e1ed8502143e8"
       ],
       "layout": "IPY_MODEL_0007082cf7514f62aac3aa66ee72c7e7"
      }
     },
     "e01edcbf619a4893a830f7f02dd9a975": {
      "model_module": "@jupyter-widgets/controls",
      "model_module_version": "1.2.0",
      "model_name": "ButtonStyleModel",
      "state": {}
     },
     "e0270c2b75244cdca6e33726d5fd5da7": {
      "model_module": "@jupyter-widgets/controls",
      "model_module_version": "1.2.0",
      "model_name": "CheckboxModel",
      "state": {
       "description": "gleiche syntagmatische Position",
       "disabled": false,
       "layout": "IPY_MODEL_c4fce66319ae4173b6693624762ee9a6",
       "style": "IPY_MODEL_37e96685dfd14c71b1fcb1a74587eefb",
       "value": true
      }
     },
     "e0307d2da82248e296de2bfa81381961": {
      "model_module": "@jupyter-widgets/base",
      "model_module_version": "1.0.0",
      "model_name": "LayoutModel",
      "state": {
       "width": "250px"
      }
     },
     "e039361bc1164dcebfa3f4ecd7376edd": {
      "model_module": "@jupyter-widgets/controls",
      "model_module_version": "1.2.0",
      "model_name": "DescriptionStyleModel",
      "state": {
       "description_width": ""
      }
     },
     "e0498aad3fd044a49bf58e6e8e55aa6f": {
      "model_module": "@jupyter-widgets/controls",
      "model_module_version": "1.2.0",
      "model_name": "VBoxModel",
      "state": {
       "children": [
        "IPY_MODEL_372edf4306b64928b8913cd10f0b4ba6",
        "IPY_MODEL_25b14e1bd48643d3807f0bf14b3d73ec",
        "IPY_MODEL_0d03489fe5c04e1ba6fafee762343e82",
        "IPY_MODEL_5ce0eac11b5e4b3aad8616a622790abd",
        "IPY_MODEL_06f337ae496643509db2d61091fdfe80"
       ],
       "layout": "IPY_MODEL_1cb33f26cce4415b9978cdc5689a03e6"
      }
     },
     "e0532a3eea3d4e29a660eb624238a750": {
      "model_module": "@jupyter-widgets/controls",
      "model_module_version": "1.2.0",
      "model_name": "HTMLModel",
      "state": {
       "layout": "IPY_MODEL_ad5e1eda0b8d49698d1d32da8c06ae93",
       "style": "IPY_MODEL_4468f027b89d473395915e9c947c98e3",
       "value": "<i>Vervollständigen Sie den Lückentext: </i>"
      }
     },
     "e053449637b24e6f89cce808cb3b5b6b": {
      "model_module": "@jupyter-widgets/controls",
      "model_module_version": "1.2.0",
      "model_name": "ButtonModel",
      "state": {
       "description": "Folge von Wortklassen",
       "layout": "IPY_MODEL_bfc6f992989d4959842fdd96c2cce7a1",
       "style": "IPY_MODEL_3d45549fa30d4f3aac0ff92e3a9d47cb"
      }
     },
     "e0a2c63bba6948a5b221b798a9281772": {
      "model_module": "@jupyter-widgets/base",
      "model_module_version": "1.0.0",
      "model_name": "LayoutModel",
      "state": {}
     },
     "e0b80fb81f3f486191dbd42f16576e7d": {
      "model_module": "@jupyter-widgets/controls",
      "model_module_version": "1.2.0",
      "model_name": "DescriptionStyleModel",
      "state": {
       "description_width": ""
      }
     },
     "e0d98052d25f4c569efe64e95e8acb84": {
      "model_module": "@jupyter-widgets/controls",
      "model_module_version": "1.2.0",
      "model_name": "TextareaModel",
      "state": {
       "layout": "IPY_MODEL_811697936d034c2d98f21ebc3da1f973",
       "placeholder": "Type something",
       "style": "IPY_MODEL_b18ccdddb5c449f0a7727e69e81ae84d",
       "value": "nltk.pos_tag()"
      }
     },
     "e0dbe23719e3431890154edeae68cdeb": {
      "model_module": "@jupyter-widgets/controls",
      "model_module_version": "1.2.0",
      "model_name": "ButtonModel",
      "state": {
       "description": "base",
       "layout": "IPY_MODEL_67eab9b6d1cf48ffbb5a963c966f61d9",
       "style": "IPY_MODEL_48e3cd86a0e442ecb1d9b6d62fa3c254"
      }
     },
     "e0f81d96e3754f97908cf15a8f5ff4d3": {
      "model_module": "@jupyter-widgets/controls",
      "model_module_version": "1.2.0",
      "model_name": "ButtonStyleModel",
      "state": {}
     },
     "e115e00398614ce2ad84306e725098f6": {
      "model_module": "@jupyter-widgets/controls",
      "model_module_version": "1.2.0",
      "model_name": "HTMLModel",
      "state": {
       "layout": "IPY_MODEL_a1bad026a1ef408082cd97076d411e9f",
       "style": "IPY_MODEL_8216ed132bc34f85ab59018d7758a2d6",
       "value": "<i>Wählen Sie die <ins>eine</ins> korrekte Antwort aus: </i>"
      }
     },
     "e123a55f8de84410a67ad4965881637a": {
      "model_module": "@jupyter-widgets/base",
      "model_module_version": "1.0.0",
      "model_name": "LayoutModel",
      "state": {
       "justify_content": "center"
      }
     },
     "e124b82aedb54f019ba217ebaa673748": {
      "model_module": "@jupyter-widgets/base",
      "model_module_version": "1.0.0",
      "model_name": "LayoutModel",
      "state": {}
     },
     "e16c607027a14d0a962cd05b798fe500": {
      "model_module": "@jupyter-widgets/base",
      "model_module_version": "1.0.0",
      "model_name": "LayoutModel",
      "state": {}
     },
     "e1964a20968940f59da569c7f7a120dd": {
      "model_module": "@jupyter-widgets/controls",
      "model_module_version": "1.2.0",
      "model_name": "HTMLModel",
      "state": {
       "layout": "IPY_MODEL_42b6960abb434872a065c3d925e5a9c2",
       "style": "IPY_MODEL_615b85bc4f7c47ab9dd35b00f6ec92ca",
       "value": "<i>Wählen Sie die <ins>eine</ins> korrekte Antwort aus: </i>"
      }
     },
     "e1b2638b276b4d14bc6e09fabc9538ca": {
      "model_module": "@jupyter-widgets/controls",
      "model_module_version": "1.2.0",
      "model_name": "HTMLModel",
      "state": {
       "layout": "IPY_MODEL_deb39b00a4744bd6b0abee7d82ed4cfb",
       "style": "IPY_MODEL_20e524648a32465aa969bab31d477d99",
       "value": "<h4 style=\"font-size:14px;\">-Tupel von</h4>"
      }
     },
     "e1ef367d3ab84a2385b44aeeb6daac83": {
      "model_module": "@jupyter-widgets/base",
      "model_module_version": "1.0.0",
      "model_name": "LayoutModel",
      "state": {
       "width": "350px"
      }
     },
     "e1f6c06355d7424ca912eff55642ea84": {
      "model_module": "@jupyter-widgets/controls",
      "model_module_version": "1.2.0",
      "model_name": "ButtonStyleModel",
      "state": {}
     },
     "e1f9875b5fdb47b6934b3e5307bc004c": {
      "model_module": "@jupyter-widgets/controls",
      "model_module_version": "1.2.0",
      "model_name": "ButtonModel",
      "state": {
       "description": "Korrekt?",
       "layout": "IPY_MODEL_221958c9d5e04b588c1f2b9448458d22",
       "style": "IPY_MODEL_f825c24507bc4567aaf84c48ed6c963d"
      }
     },
     "e23760e8567f4412977e0463ef0126ff": {
      "model_module": "@jupyter-widgets/base",
      "model_module_version": "1.0.0",
      "model_name": "LayoutModel",
      "state": {
       "width": "150px"
      }
     },
     "e27260f019e7413da1b4dbbf03844a28": {
      "model_module": "@jupyter-widgets/controls",
      "model_module_version": "1.2.0",
      "model_name": "ButtonModel",
      "state": {
       "description": "Adverb",
       "layout": "IPY_MODEL_894d252604e048baae6f0e0a4b0bb4f5",
       "style": "IPY_MODEL_a93bd181f41e4a1b8818495f7a5f4482"
      }
     },
     "e2742897becb4712ae05ab38c4bfb903": {
      "model_module": "@jupyter-widgets/base",
      "model_module_version": "1.0.0",
      "model_name": "LayoutModel",
      "state": {
       "justify_content": "center"
      }
     },
     "e280bebe6db44d82a7083d82212fc528": {
      "model_module": "@jupyter-widgets/controls",
      "model_module_version": "1.2.0",
      "model_name": "HTMLModel",
      "state": {
       "layout": "IPY_MODEL_187f1fa2dd8e4abda3f1019f2be8b5fb",
       "style": "IPY_MODEL_5a539c7352b94037a75844888105ed71",
       "value": "<h4 style=\"font-size:14px;\">umfasst die</h4>"
      }
     },
     "e28be541c97c4708bedfd52eba414bb1": {
      "model_module": "@jupyter-widgets/base",
      "model_module_version": "1.0.0",
      "model_name": "LayoutModel",
      "state": {
       "justify_content": "center"
      }
     },
     "e29fa52688db41fba0eb504c72144413": {
      "model_module": "@jupyter-widgets/base",
      "model_module_version": "1.0.0",
      "model_name": "LayoutModel",
      "state": {}
     },
     "e2a6bc6cad29419ab1e1e207445eed53": {
      "model_module": "@jupyter-widgets/controls",
      "model_module_version": "1.2.0",
      "model_name": "VBoxModel",
      "state": {
       "children": [
        "IPY_MODEL_ba00e9cd6b4e4d89a2fe9355700c0e70",
        "IPY_MODEL_e1964a20968940f59da569c7f7a120dd",
        "IPY_MODEL_0a56fce384204b929bcac098c8ddc7d7",
        "IPY_MODEL_d571f602453f42498450691e411081d5",
        "IPY_MODEL_560b5d58ea824a0789e65e03241d759a"
       ],
       "layout": "IPY_MODEL_d684ca8bca134b76b5782f30d7a3cc8e"
      }
     },
     "e2f09f02190447678d4ec0720307f4c9": {
      "model_module": "@jupyter-widgets/controls",
      "model_module_version": "1.2.0",
      "model_name": "DescriptionStyleModel",
      "state": {
       "description_width": "initial"
      }
     },
     "e2f7a463243c4c4691a6b5dd3a0a8126": {
      "model_module": "@jupyter-widgets/base",
      "model_module_version": "1.0.0",
      "model_name": "LayoutModel",
      "state": {
       "width": "250px"
      }
     },
     "e2fe23fba3e04c1face022eca228e126": {
      "model_module": "@jupyter-widgets/controls",
      "model_module_version": "1.2.0",
      "model_name": "DescriptionStyleModel",
      "state": {
       "description_width": ""
      }
     },
     "e32bd057ecf04f6c981871b2aca82558": {
      "model_module": "@jupyter-widgets/controls",
      "model_module_version": "1.2.0",
      "model_name": "ButtonStyleModel",
      "state": {}
     },
     "e33b8d0c7a1b414d8318df1f276cff76": {
      "model_module": "@jupyter-widgets/controls",
      "model_module_version": "1.2.0",
      "model_name": "ButtonModel",
      "state": {
       "description": "Partikel",
       "layout": "IPY_MODEL_ff713eb299594c2993b06716a5fa70b4",
       "style": "IPY_MODEL_072bcd74b498483fbe0924c3dbd2898f"
      }
     },
     "e37aa04b43794e2fa72c915c2ff9889a": {
      "model_module": "@jupyter-widgets/base",
      "model_module_version": "1.0.0",
      "model_name": "LayoutModel",
      "state": {
       "justify_content": "center"
      }
     },
     "e3918b94ada440189028a59d39b7bbe4": {
      "model_module": "@jupyter-widgets/controls",
      "model_module_version": "1.2.0",
      "model_name": "DescriptionStyleModel",
      "state": {
       "description_width": "initial"
      }
     },
     "e3b681567dde49f396c7e4c531af2547": {
      "model_module": "@jupyter-widgets/base",
      "model_module_version": "1.0.0",
      "model_name": "LayoutModel",
      "state": {
       "width": "250px"
      }
     },
     "e3cd33523bf243dcac8568f0965f8c69": {
      "model_module": "@jupyter-widgets/controls",
      "model_module_version": "1.2.0",
      "model_name": "VBoxModel",
      "state": {
       "children": [
        "IPY_MODEL_440596c4ac6843a98011edd65f62e2fe",
        "IPY_MODEL_6ee9e5a1b88243208bf30dee2a4e7c11",
        "IPY_MODEL_0c008713d2524572913b7fa3e13f4c67",
        "IPY_MODEL_3780a9e9f78648948606ae64a90e3bbd"
       ],
       "layout": "IPY_MODEL_64133fe4b70740c6bdded6a0d209c8a6"
      }
     },
     "e423db3cb1c344a0830c0ec3db729fbe": {
      "model_module": "@jupyter-widgets/base",
      "model_module_version": "1.0.0",
      "model_name": "LayoutModel",
      "state": {
       "justify_content": "center"
      }
     },
     "e43d01ea2b984a2089126a1bbf348173": {
      "model_module": "@jupyter-widgets/controls",
      "model_module_version": "1.2.0",
      "model_name": "HTMLModel",
      "state": {
       "layout": "IPY_MODEL_b0811c360c614ec5896bae21a918db94",
       "style": "IPY_MODEL_979e69e686294ec1b20344b2f70462ed",
       "value": "<h4 style=\"font-size:14px;\">Welche Wortart könnte man für das Wort <i>gut</i> in Satz 2 vermuten, wenn man Adverbien nicht morphologisch, sondern semantisch charakterisiert (als Wortart, die der Modifizierung des Verbalgeschehens dient)?</h4>"
      }
     },
     "e499097b2c9c48e19b48c4d2b766d519": {
      "model_module": "@jupyter-widgets/base",
      "model_module_version": "1.0.0",
      "model_name": "LayoutModel",
      "state": {
       "width": "250px"
      }
     },
     "e4b0c4317c324605bec4271e08a7280c": {
      "model_module": "@jupyter-widgets/controls",
      "model_module_version": "1.2.0",
      "model_name": "ButtonModel",
      "state": {
       "description": "past participle",
       "layout": "IPY_MODEL_9d9dc51d750c470795edb506be8b46af",
       "style": "IPY_MODEL_41f166e2b4d047818f0c3c4de03182b0"
      }
     },
     "e503cf105cf04d1fbf81835064505a71": {
      "model_module": "@jupyter-widgets/controls",
      "model_module_version": "1.2.0",
      "model_name": "VBoxModel",
      "state": {
       "children": [
        "IPY_MODEL_06ea0edfc5354bd6a5fc9d088be61020",
        "IPY_MODEL_0175919d7843437888ac5e96bc52ead1",
        "IPY_MODEL_91ee56ff8cf5457e85dd1a8441f95866",
        "IPY_MODEL_ca21dc24285a412cb7e0627e218bad05"
       ],
       "layout": "IPY_MODEL_3158065894984928857d97d2c4685855"
      }
     },
     "e511d3107f32443bb516dee691785d9a": {
      "model_module": "@jupyter-widgets/controls",
      "model_module_version": "1.2.0",
      "model_name": "VBoxModel",
      "state": {
       "children": [
        "IPY_MODEL_6a1eefda9aaa4c2c86c4b6c0fc8a5a77",
        "IPY_MODEL_9ea6dd00c80c4399a9abeb379fcabc34",
        "IPY_MODEL_5c158ba39c9644e8a1472a65c9c406f0",
        "IPY_MODEL_e86d4c111a0f4610905ccda0b24d0232"
       ],
       "layout": "IPY_MODEL_5502ca37bda547369289f819ce116b65"
      }
     },
     "e51febcb868a4310a0f31c1f97575302": {
      "model_module": "@jupyter-widgets/controls",
      "model_module_version": "1.2.0",
      "model_name": "DescriptionStyleModel",
      "state": {
       "description_width": "initial"
      }
     },
     "e5599948de5444b3bc605cd7f0736f84": {
      "model_module": "@jupyter-widgets/base",
      "model_module_version": "1.0.0",
      "model_name": "LayoutModel",
      "state": {}
     },
     "e596577a59bf42168f62e9a05d6e1ade": {
      "model_module": "@jupyter-widgets/controls",
      "model_module_version": "1.2.0",
      "model_name": "HTMLModel",
      "state": {
       "layout": "IPY_MODEL_f0f8184630ac4656b7d72d5972c4dcb1",
       "style": "IPY_MODEL_ad7d094b2c314446a31a8c9f1b2deec8",
       "value": "<i>Markieren Sie <ins>alle</ins> passenden Antworten: </i>"
      }
     },
     "e5a7e07199bb4a0a8a57f7307e61329f": {
      "model_module": "@jupyter-widgets/controls",
      "model_module_version": "1.2.0",
      "model_name": "DescriptionStyleModel",
      "state": {
       "description_width": ""
      }
     },
     "e5ae54f2c97346699feb4f83150f042e": {
      "model_module": "@jupyter-widgets/base",
      "model_module_version": "1.0.0",
      "model_name": "LayoutModel",
      "state": {
       "width": "150px"
      }
     },
     "e5be040ff002419b9c9a9e56f61492aa": {
      "model_module": "@jupyter-widgets/controls",
      "model_module_version": "1.2.0",
      "model_name": "ButtonModel",
      "state": {
       "description": "Adjektiv",
       "layout": "IPY_MODEL_c353ff5c6f4242a8b028f2e28e8dec02",
       "style": "IPY_MODEL_0b58a199a3f04bcfab1faf52c0d1c968"
      }
     },
     "e5fe3fcd768746ec8ebd979d494d2a7f": {
      "model_module": "@jupyter-widgets/controls",
      "model_module_version": "1.2.0",
      "model_name": "DescriptionStyleModel",
      "state": {
       "description_width": ""
      }
     },
     "e64cca3cfb2844dda36d79999af5b3cc": {
      "model_module": "@jupyter-widgets/base",
      "model_module_version": "1.0.0",
      "model_name": "LayoutModel",
      "state": {
       "width": "250px"
      }
     },
     "e65e3d49ded442619a89ea386db6fe7f": {
      "model_module": "@jupyter-widgets/controls",
      "model_module_version": "1.2.0",
      "model_name": "DescriptionStyleModel",
      "state": {
       "description_width": ""
      }
     },
     "e6c42d0557c644d59ab80d006d35238f": {
      "model_module": "@jupyter-widgets/controls",
      "model_module_version": "1.2.0",
      "model_name": "ButtonStyleModel",
      "state": {}
     },
     "e71a3d0e496349949eafba2f4ea81a8b": {
      "model_module": "@jupyter-widgets/base",
      "model_module_version": "1.0.0",
      "model_name": "LayoutModel",
      "state": {
       "width": "600px"
      }
     },
     "e71f8b4d3e3f4cdab147b142c778c9c1": {
      "model_module": "@jupyter-widgets/base",
      "model_module_version": "1.0.0",
      "model_name": "LayoutModel",
      "state": {
       "justify_content": "center"
      }
     },
     "e74484ecc8b14c338d6ef79e878e0bb8": {
      "model_module": "@jupyter-widgets/controls",
      "model_module_version": "1.2.0",
      "model_name": "DescriptionStyleModel",
      "state": {
       "description_width": ""
      }
     },
     "e76170612d064b899a2fa7b035a8a800": {
      "model_module": "@jupyter-widgets/controls",
      "model_module_version": "1.2.0",
      "model_name": "ButtonStyleModel",
      "state": {}
     },
     "e7aae876db884702acab1528b79736ca": {
      "model_module": "@jupyter-widgets/controls",
      "model_module_version": "1.2.0",
      "model_name": "ButtonStyleModel",
      "state": {}
     },
     "e7e427ee018d44b681e2c3d5e284ed2c": {
      "model_module": "@jupyter-widgets/controls",
      "model_module_version": "1.2.0",
      "model_name": "DescriptionStyleModel",
      "state": {
       "description_width": ""
      }
     },
     "e7ff18db3fb3412a8d978b70526c4f56": {
      "model_module": "@jupyter-widgets/controls",
      "model_module_version": "1.2.0",
      "model_name": "BoxModel",
      "state": {
       "children": [
        "IPY_MODEL_2d9a4a6a640d4889904a387d93a3848c",
        "IPY_MODEL_78760654130e4711b31ea8159b906575",
        "IPY_MODEL_2af3e97c0e7345589954403c051c00b4",
        "IPY_MODEL_13eba5b105f74892a0e770faa9976aef",
        "IPY_MODEL_4565378f525f4dc192240e4a71b85655",
        "IPY_MODEL_d20ff4a81c2f4a01999c082f6b3a5bda",
        "IPY_MODEL_36ba574a7b9a48788f162522a8585e10"
       ],
       "layout": "IPY_MODEL_768ca528220e42e2bf8a81fbf63a8541"
      }
     },
     "e8116a518fba47c7a3dc9bb6585696fe": {
      "model_module": "@jupyter-widgets/controls",
      "model_module_version": "1.2.0",
      "model_name": "DescriptionStyleModel",
      "state": {
       "description_width": ""
      }
     },
     "e84fee48a04b45b7acd0f4f3c2a20fc5": {
      "model_module": "@jupyter-widgets/controls",
      "model_module_version": "1.2.0",
      "model_name": "DescriptionStyleModel",
      "state": {
       "description_width": ""
      }
     },
     "e85ebf76e5f04360816c4a77f84a0580": {
      "model_module": "@jupyter-widgets/controls",
      "model_module_version": "1.2.0",
      "model_name": "HBoxModel",
      "state": {
       "children": [
        "IPY_MODEL_f1eafd12997748e6b3ab36303ba7379a"
       ],
       "layout": "IPY_MODEL_9369259d2fd243d199fb76ae4dc6ec86"
      }
     },
     "e85f654707a04c669ad7f335cca74f05": {
      "model_module": "@jupyter-widgets/controls",
      "model_module_version": "1.2.0",
      "model_name": "DescriptionStyleModel",
      "state": {
       "description_width": "initial"
      }
     },
     "e86d4c111a0f4610905ccda0b24d0232": {
      "model_module": "@jupyter-widgets/controls",
      "model_module_version": "1.2.0",
      "model_name": "ButtonModel",
      "state": {
       "description": "Korrekt?",
       "layout": "IPY_MODEL_1f504295b5e6464d90e4eb3bb23a6802",
       "style": "IPY_MODEL_2e6d96bf8f034016a318211b36479819"
      }
     },
     "e88940ea36664d859d74b0d7926514e8": {
      "model_module": "@jupyter-widgets/base",
      "model_module_version": "1.0.0",
      "model_name": "LayoutModel",
      "state": {}
     },
     "e8932526129b471690bb69344775cd4d": {
      "model_module": "@jupyter-widgets/base",
      "model_module_version": "1.0.0",
      "model_name": "LayoutModel",
      "state": {}
     },
     "e89900bd2c934e0f8f87149f49829d8d": {
      "model_module": "@jupyter-widgets/base",
      "model_module_version": "1.0.0",
      "model_name": "LayoutModel",
      "state": {
       "width": "150px"
      }
     },
     "e8b1bb6efdec4fa58c3a107b234ecd41": {
      "model_module": "@jupyter-widgets/controls",
      "model_module_version": "1.2.0",
      "model_name": "DescriptionStyleModel",
      "state": {
       "description_width": "initial"
      }
     },
     "e8dc860a8ada42fcb8b2ec55967d2637": {
      "model_module": "@jupyter-widgets/controls",
      "model_module_version": "1.2.0",
      "model_name": "DescriptionStyleModel",
      "state": {
       "description_width": ""
      }
     },
     "e909bb12ea0d4cc89d95be21bd79c73f": {
      "model_module": "@jupyter-widgets/controls",
      "model_module_version": "1.2.0",
      "model_name": "VBoxModel",
      "state": {
       "children": [
        "IPY_MODEL_5d10416a814641f2812616abf1c2cd4d",
        "IPY_MODEL_f8e09836fcf54744850453a39dc09fb3",
        "IPY_MODEL_9f44dedae7534fa2ac90047fa0916d26"
       ],
       "layout": "IPY_MODEL_1a63a0560ff74b7ea862dfb81a5556d8"
      }
     },
     "e920dd9f3c46491faf0f96eb50823103": {
      "model_module": "@jupyter-widgets/base",
      "model_module_version": "1.0.0",
      "model_name": "LayoutModel",
      "state": {
       "width": "250px"
      }
     },
     "e93623160672471c9e507472c917cfb6": {
      "model_module": "@jupyter-widgets/controls",
      "model_module_version": "1.2.0",
      "model_name": "DescriptionStyleModel",
      "state": {
       "description_width": ""
      }
     },
     "e9888809b1a34f6ea12432620ef49505": {
      "model_module": "@jupyter-widgets/base",
      "model_module_version": "1.0.0",
      "model_name": "LayoutModel",
      "state": {
       "width": "250px"
      }
     },
     "e98a08725be5455299711a2e10a5c72f": {
      "model_module": "@jupyter-widgets/controls",
      "model_module_version": "1.2.0",
      "model_name": "DescriptionStyleModel",
      "state": {
       "description_width": "initial"
      }
     },
     "e9be386862024545a068b25d4171bddd": {
      "model_module": "@jupyter-widgets/base",
      "model_module_version": "1.0.0",
      "model_name": "LayoutModel",
      "state": {
       "justify_content": "center"
      }
     },
     "e9ffaae571724f5c9d91b445f4bfd780": {
      "model_module": "@jupyter-widgets/controls",
      "model_module_version": "1.2.0",
      "model_name": "DescriptionStyleModel",
      "state": {
       "description_width": ""
      }
     },
     "ea12e4c94dd34a4f8ebd133eda3d8eef": {
      "model_module": "@jupyter-widgets/controls",
      "model_module_version": "1.2.0",
      "model_name": "DescriptionStyleModel",
      "state": {
       "description_width": ""
      }
     },
     "ea50b5a43b0f437f8176e73a9de9d4cb": {
      "model_module": "@jupyter-widgets/base",
      "model_module_version": "1.0.0",
      "model_name": "LayoutModel",
      "state": {}
     },
     "ea66d2bad49b4386b49cd6e88e8abf35": {
      "model_module": "@jupyter-widgets/controls",
      "model_module_version": "1.2.0",
      "model_name": "VBoxModel",
      "state": {
       "children": [
        "IPY_MODEL_d3a41ab63b95412693743159f9416042",
        "IPY_MODEL_f5951c6298a34fa9a25eb330855203fa",
        "IPY_MODEL_e0270c2b75244cdca6e33726d5fd5da7",
        "IPY_MODEL_943e2c75004e4fd283945c96fe0bc4d1"
       ],
       "layout": "IPY_MODEL_4999243c7a5f4c37848176964fee22c3"
      }
     },
     "ea85c9ea3c374cec81d67fae06c509e4": {
      "model_module": "@jupyter-widgets/controls",
      "model_module_version": "1.2.0",
      "model_name": "HTMLModel",
      "state": {
       "layout": "IPY_MODEL_eb6785c7f607438db644d726b8c9ec36",
       "style": "IPY_MODEL_4dd90046538b4d74973e683c2dbd2a5a",
       "value": "<i>Vervollständigen Sie den Lückentext: </i>"
      }
     },
     "eae5c35f5626492589ff72084e42b96e": {
      "model_module": "@jupyter-widgets/base",
      "model_module_version": "1.0.0",
      "model_name": "LayoutModel",
      "state": {
       "width": "250px"
      }
     },
     "eafb3dec8a2446e68180b23f92cfa90c": {
      "model_module": "@jupyter-widgets/controls",
      "model_module_version": "1.2.0",
      "model_name": "ButtonModel",
      "state": {
       "description": "Adjektiv",
       "layout": "IPY_MODEL_b7edb550d38b4039ab652bf2fe2c8a60",
       "style": "IPY_MODEL_f0783420a31c4c26ba98b2baca763518"
      }
     },
     "eb1022e2a4e546a497e1f39b9bce7427": {
      "model_module": "@jupyter-widgets/base",
      "model_module_version": "1.0.0",
      "model_name": "LayoutModel",
      "state": {}
     },
     "eb45cc4a7eae46d98ca4b4a71a809a62": {
      "model_module": "@jupyter-widgets/controls",
      "model_module_version": "1.2.0",
      "model_name": "DescriptionStyleModel",
      "state": {
       "description_width": ""
      }
     },
     "eb511ee71320444687d24f6c065a7ed1": {
      "model_module": "@jupyter-widgets/controls",
      "model_module_version": "1.2.0",
      "model_name": "DescriptionStyleModel",
      "state": {
       "description_width": ""
      }
     },
     "eb6785c7f607438db644d726b8c9ec36": {
      "model_module": "@jupyter-widgets/base",
      "model_module_version": "1.0.0",
      "model_name": "LayoutModel",
      "state": {
       "justify_content": "center"
      }
     },
     "eb8bda4e4fdd47e1b06f662a7cb628df": {
      "model_module": "@jupyter-widgets/controls",
      "model_module_version": "1.2.0",
      "model_name": "ButtonModel",
      "state": {
       "description": "Korrekt?",
       "layout": "IPY_MODEL_fc0db8848cea466ab70f4fff4d511200",
       "style": "IPY_MODEL_53e657368f9e4413bba78d380ebb25e5"
      }
     },
     "ebc301196c9a4c8aa5f6883dd8f6465c": {
      "model_module": "@jupyter-widgets/base",
      "model_module_version": "1.0.0",
      "model_name": "LayoutModel",
      "state": {
       "justify_content": "center"
      }
     },
     "ebc906d6b94a45a999f490fd8828ac2e": {
      "model_module": "@jupyter-widgets/controls",
      "model_module_version": "1.2.0",
      "model_name": "VBoxModel",
      "state": {
       "children": [
        "IPY_MODEL_7ca602bb3bc2489198555e95054e57a4",
        "IPY_MODEL_641e4cd0817e45ba82cfc83e4513e310",
        "IPY_MODEL_5f07b7cb64ef41c5a70c39db240030a5",
        "IPY_MODEL_ca63bacfdea64bbe9f9898e2fedf1f2c",
        "IPY_MODEL_3e5b353e074b483ba98c2dc390330156"
       ],
       "layout": "IPY_MODEL_c82d7657554e42c1bea33e6f8489a27e"
      }
     },
     "ebd044d0df554613bc6c7a16b741f6a1": {
      "model_module": "@jupyter-widgets/controls",
      "model_module_version": "1.2.0",
      "model_name": "HBoxModel",
      "state": {
       "children": [
        "IPY_MODEL_7dde43142dc64faab04108b367b11b3b",
        "IPY_MODEL_7b5055db41bb4469b37f5d143e7db016"
       ],
       "layout": "IPY_MODEL_f28b3f0d487345c5b57606cd72b6e8e7"
      }
     },
     "ebf567cfd92f4900ada24526811e0576": {
      "model_module": "@jupyter-widgets/base",
      "model_module_version": "1.0.0",
      "model_name": "LayoutModel",
      "state": {
       "width": "600px"
      }
     },
     "ec11276bb8da4cc89e105baae007e6aa": {
      "model_module": "@jupyter-widgets/base",
      "model_module_version": "1.0.0",
      "model_name": "LayoutModel",
      "state": {
       "justify_content": "center"
      }
     },
     "ec4841055f5444abbe5fe41d263edfe0": {
      "model_module": "@jupyter-widgets/controls",
      "model_module_version": "1.2.0",
      "model_name": "DescriptionStyleModel",
      "state": {
       "description_width": ""
      }
     },
     "ec68b4abae54492492fa39b0c0620c3b": {
      "model_module": "@jupyter-widgets/controls",
      "model_module_version": "1.2.0",
      "model_name": "DescriptionStyleModel",
      "state": {
       "description_width": ""
      }
     },
     "ecd9ecbe206347d2afbed4649023fa31": {
      "model_module": "@jupyter-widgets/controls",
      "model_module_version": "1.2.0",
      "model_name": "DescriptionStyleModel",
      "state": {
       "description_width": ""
      }
     },
     "ece581709d7e49dfb407349834317dc6": {
      "model_module": "@jupyter-widgets/base",
      "model_module_version": "1.0.0",
      "model_name": "LayoutModel",
      "state": {
       "width": "150px"
      }
     },
     "ed766e39c8264e03b07154544a6fd9f5": {
      "model_module": "@jupyter-widgets/base",
      "model_module_version": "1.0.0",
      "model_name": "LayoutModel",
      "state": {
       "width": "600px"
      }
     },
     "ed798a5ce4174d0c96b5ffcc8dd77f6e": {
      "model_module": "@jupyter-widgets/controls",
      "model_module_version": "1.2.0",
      "model_name": "ButtonModel",
      "state": {
       "description": "Keine der anderen Möglichkeiten",
       "layout": "IPY_MODEL_42831ab997cf472b99f6e843e4f17095",
       "style": "IPY_MODEL_c56e5b8c239740d8ba7f6fe2efaf2e38"
      }
     },
     "eda45b3f02c64ebaaa5bb3d236bbc96c": {
      "model_module": "@jupyter-widgets/controls",
      "model_module_version": "1.2.0",
      "model_name": "ButtonModel",
      "state": {
       "description": "Keine der anderen Möglichkeiten",
       "layout": "IPY_MODEL_e3b681567dde49f396c7e4c531af2547",
       "style": "IPY_MODEL_430805e5c1a44d57aa40644f25a5f695"
      }
     },
     "ee53e8d2cd6247338d86e816a1f7c7bb": {
      "model_module": "@jupyter-widgets/base",
      "model_module_version": "1.0.0",
      "model_name": "LayoutModel",
      "state": {
       "width": "250px"
      }
     },
     "ee7190bb853c49f1b5cc6e21fb0dd078": {
      "model_module": "@jupyter-widgets/controls",
      "model_module_version": "1.2.0",
      "model_name": "DescriptionStyleModel",
      "state": {
       "description_width": "initial"
      }
     },
     "ee73a0de32194ce68c6197d9e86508e2": {
      "model_module": "@jupyter-widgets/controls",
      "model_module_version": "1.2.0",
      "model_name": "DescriptionStyleModel",
      "state": {
       "description_width": ""
      }
     },
     "ee82ba846cfd4dda81179f96656d51a3": {
      "model_module": "@jupyter-widgets/controls",
      "model_module_version": "1.2.0",
      "model_name": "ButtonStyleModel",
      "state": {}
     },
     "ee858f3403c34be4bfa958b935c318c7": {
      "model_module": "@jupyter-widgets/controls",
      "model_module_version": "1.2.0",
      "model_name": "ButtonStyleModel",
      "state": {}
     },
     "ee92a51d37be4feeb09b03681d5c228b": {
      "model_module": "@jupyter-widgets/controls",
      "model_module_version": "1.2.0",
      "model_name": "ButtonModel",
      "state": {
       "description": "Wortfolge",
       "layout": "IPY_MODEL_a83814bf9e5942fbb6f6c6cc6ec2c7db",
       "style": "IPY_MODEL_17565a2c75714ec0860f54c2ada0528a"
      }
     },
     "eeae43964bd5476ba5cb8e1da3b6cd85": {
      "model_module": "@jupyter-widgets/base",
      "model_module_version": "1.0.0",
      "model_name": "LayoutModel",
      "state": {
       "width": "250px"
      }
     },
     "eeaea93794eb4fe2b8ccfb51e9c2a0af": {
      "model_module": "@jupyter-widgets/controls",
      "model_module_version": "1.2.0",
      "model_name": "DescriptionStyleModel",
      "state": {
       "description_width": ""
      }
     },
     "eeb718f2add94907a67c269368bdd109": {
      "model_module": "@jupyter-widgets/base",
      "model_module_version": "1.0.0",
      "model_name": "LayoutModel",
      "state": {}
     },
     "eed353c6e5c24387a364a12a4b687643": {
      "model_module": "@jupyter-widgets/base",
      "model_module_version": "1.0.0",
      "model_name": "LayoutModel",
      "state": {}
     },
     "eeeb8a86dfec4344a4ae8e1760455fea": {
      "model_module": "@jupyter-widgets/controls",
      "model_module_version": "1.2.0",
      "model_name": "DescriptionStyleModel",
      "state": {
       "description_width": ""
      }
     },
     "ef22792d8b9347b892527930d7a7663b": {
      "model_module": "@jupyter-widgets/controls",
      "model_module_version": "1.2.0",
      "model_name": "HTMLModel",
      "state": {
       "layout": "IPY_MODEL_adcb1635b51b45fb97eb7506e3861481",
       "style": "IPY_MODEL_fdae8ad25eda40cfb67247ccf6811111",
       "value": "<i>Wählen Sie die <ins>eine</ins> korrekte Antwort aus: </i>"
      }
     },
     "ef4127283ede415caa7db7fb96ea3cb3": {
      "model_module": "@jupyter-widgets/controls",
      "model_module_version": "1.2.0",
      "model_name": "DescriptionStyleModel",
      "state": {
       "description_width": ""
      }
     },
     "ef78b6649562444392e5971e9f34c186": {
      "model_module": "@jupyter-widgets/base",
      "model_module_version": "1.0.0",
      "model_name": "LayoutModel",
      "state": {
       "justify_content": "center"
      }
     },
     "ef949f66ba734738af31c8a7a438615c": {
      "model_module": "@jupyter-widgets/controls",
      "model_module_version": "1.2.0",
      "model_name": "DropdownModel",
      "state": {
       "_options_labels": [
        "kürzere",
        "längere",
        " "
       ],
       "index": 0,
       "layout": "IPY_MODEL_20f23f5231024e94a786ebbbce737205",
       "style": "IPY_MODEL_1d3a6718db8e464484d7666b33da9362"
      }
     },
     "efbd4bb72b734f6db35c633742b16863": {
      "model_module": "@jupyter-widgets/controls",
      "model_module_version": "1.2.0",
      "model_name": "ButtonStyleModel",
      "state": {}
     },
     "efc11308e96c4223922d377159d22916": {
      "model_module": "@jupyter-widgets/controls",
      "model_module_version": "1.2.0",
      "model_name": "VBoxModel",
      "state": {
       "children": [
        "IPY_MODEL_e43d01ea2b984a2089126a1bbf348173",
        "IPY_MODEL_326b4ca19b004dba93c288bea64240d1",
        "IPY_MODEL_70e69fc5ac6746a9bd35dcd4a0a0aec5",
        "IPY_MODEL_c30162ef6546495cbb763add18751621"
       ],
       "layout": "IPY_MODEL_2fa41c978ac34ed69cf2486517cbd6bd"
      }
     },
     "f00de5efc15d422b8ba93cd90998d79f": {
      "model_module": "@jupyter-widgets/base",
      "model_module_version": "1.0.0",
      "model_name": "LayoutModel",
      "state": {
       "width": "150px"
      }
     },
     "f01f3e02a99f4ca9be7ba6f372beb8e2": {
      "model_module": "@jupyter-widgets/base",
      "model_module_version": "1.0.0",
      "model_name": "LayoutModel",
      "state": {}
     },
     "f048d4adeb924508bb52a41052fb7a97": {
      "model_module": "@jupyter-widgets/base",
      "model_module_version": "1.0.0",
      "model_name": "LayoutModel",
      "state": {}
     },
     "f04ad26af2ca48a2b3ffc960551fe6e7": {
      "model_module": "@jupyter-widgets/base",
      "model_module_version": "1.0.0",
      "model_name": "LayoutModel",
      "state": {
       "width": "250px"
      }
     },
     "f074e4c04570456da1fe895722a94397": {
      "model_module": "@jupyter-widgets/base",
      "model_module_version": "1.0.0",
      "model_name": "LayoutModel",
      "state": {
       "justify_content": "center"
      }
     },
     "f0783420a31c4c26ba98b2baca763518": {
      "model_module": "@jupyter-widgets/controls",
      "model_module_version": "1.2.0",
      "model_name": "ButtonStyleModel",
      "state": {}
     },
     "f0c29bde4afb45c6a728e3848d7a3797": {
      "model_module": "@jupyter-widgets/controls",
      "model_module_version": "1.2.0",
      "model_name": "DescriptionStyleModel",
      "state": {
       "description_width": ""
      }
     },
     "f0db64ec57564f5188d61dab2c9b0488": {
      "model_module": "@jupyter-widgets/base",
      "model_module_version": "1.0.0",
      "model_name": "LayoutModel",
      "state": {}
     },
     "f0f8184630ac4656b7d72d5972c4dcb1": {
      "model_module": "@jupyter-widgets/base",
      "model_module_version": "1.0.0",
      "model_name": "LayoutModel",
      "state": {
       "justify_content": "center"
      }
     },
     "f11b911326054a4b91583d1c9321131c": {
      "model_module": "@jupyter-widgets/base",
      "model_module_version": "1.0.0",
      "model_name": "LayoutModel",
      "state": {
       "justify_content": "center"
      }
     },
     "f176163e37ef464ea47692106bdf39f0": {
      "model_module": "@jupyter-widgets/base",
      "model_module_version": "1.0.0",
      "model_name": "LayoutModel",
      "state": {}
     },
     "f17ce0bc1f8c479c8d2a2c38347bce47": {
      "model_module": "@jupyter-widgets/base",
      "model_module_version": "1.0.0",
      "model_name": "LayoutModel",
      "state": {
       "justify_content": "center"
      }
     },
     "f195119a2a57439fa2437452cfcf43e0": {
      "model_module": "@jupyter-widgets/controls",
      "model_module_version": "1.2.0",
      "model_name": "ButtonModel",
      "state": {
       "description": "simple past",
       "layout": "IPY_MODEL_730e7459aca74840877a262a096b9c00",
       "style": "IPY_MODEL_33dc4486cdc943ebbd4975a2e9bc93da"
      }
     },
     "f1b5821c610c4797b210eb69a0e37b32": {
      "model_module": "@jupyter-widgets/controls",
      "model_module_version": "1.2.0",
      "model_name": "DescriptionStyleModel",
      "state": {
       "description_width": ""
      }
     },
     "f1d91739888d48c5b05f41d6136571f6": {
      "model_module": "@jupyter-widgets/base",
      "model_module_version": "1.0.0",
      "model_name": "LayoutModel",
      "state": {
       "width": "250px"
      }
     },
     "f1e49c86d030497894755b21f7f2caf7": {
      "model_module": "@jupyter-widgets/base",
      "model_module_version": "1.0.0",
      "model_name": "LayoutModel",
      "state": {
       "width": "250px"
      }
     },
     "f1eafd12997748e6b3ab36303ba7379a": {
      "model_module": "@jupyter-widgets/controls",
      "model_module_version": "1.2.0",
      "model_name": "ButtonModel",
      "state": {
       "description": "simple past",
       "layout": "IPY_MODEL_74deb9fac64244249df55707f7c097a5",
       "style": "IPY_MODEL_e76170612d064b899a2fa7b035a8a800"
      }
     },
     "f1f00b6ea53747eb87f581e99b09ba03": {
      "model_module": "@jupyter-widgets/base",
      "model_module_version": "1.0.0",
      "model_name": "LayoutModel",
      "state": {
       "width": "250px"
      }
     },
     "f1faafe6e28242ca900486a9f7f50f8c": {
      "model_module": "@jupyter-widgets/controls",
      "model_module_version": "1.2.0",
      "model_name": "ButtonModel",
      "state": {
       "description": "gerund",
       "layout": "IPY_MODEL_74bdd302737d495285d0532f476a80f9",
       "style": "IPY_MODEL_e7aae876db884702acab1528b79736ca"
      }
     },
     "f22ded2b250145398d775f94159144f3": {
      "model_module": "@jupyter-widgets/base",
      "model_module_version": "1.0.0",
      "model_name": "LayoutModel",
      "state": {
       "width": "600px"
      }
     },
     "f2307be0fe704421beaf86f154d5c25d": {
      "model_module": "@jupyter-widgets/base",
      "model_module_version": "1.0.0",
      "model_name": "LayoutModel",
      "state": {
       "width": "150px"
      }
     },
     "f25d970471e147c484ae0b30185113c2": {
      "model_module": "@jupyter-widgets/controls",
      "model_module_version": "1.2.0",
      "model_name": "VBoxModel",
      "state": {
       "children": [
        "IPY_MODEL_f89a119220c9486aa77f17c846a6a2ea",
        "IPY_MODEL_361a5f01ca684c168713bf26492b6807",
        "IPY_MODEL_9915211ea1e845c3a4518d3c1f149b97",
        "IPY_MODEL_5535db5111c64ce995db1c3a9c64414b"
       ],
       "layout": "IPY_MODEL_5430b6979559420a885edd619d83c57a"
      }
     },
     "f264f31300404961b9e78897e6e93817": {
      "model_module": "@jupyter-widgets/controls",
      "model_module_version": "1.2.0",
      "model_name": "HTMLModel",
      "state": {
       "layout": "IPY_MODEL_605bb7fa83614854bbf4d2eaa1c6195d",
       "style": "IPY_MODEL_cc2b0e5cc6824b849ae9a1dcbb737e32",
       "value": "<h4 style=\"font-size:14px;\">im Englischen.</h4>"
      }
     },
     "f28b3f0d487345c5b57606cd72b6e8e7": {
      "model_module": "@jupyter-widgets/base",
      "model_module_version": "1.0.0",
      "model_name": "LayoutModel",
      "state": {}
     },
     "f28bde1fbe844e5f915df5316521704a": {
      "model_module": "@jupyter-widgets/base",
      "model_module_version": "1.0.0",
      "model_name": "LayoutModel",
      "state": {
       "width": "250px"
      }
     },
     "f29655d1007b41f0a2cfab3ada7d7864": {
      "model_module": "@jupyter-widgets/base",
      "model_module_version": "1.0.0",
      "model_name": "LayoutModel",
      "state": {}
     },
     "f2978c81987145e9a0841a0d196b04cf": {
      "model_module": "@jupyter-widgets/base",
      "model_module_version": "1.0.0",
      "model_name": "LayoutModel",
      "state": {
       "justify_content": "center"
      }
     },
     "f2baa357bf374e36ab05dbaf5fbde2ee": {
      "model_module": "@jupyter-widgets/controls",
      "model_module_version": "1.2.0",
      "model_name": "HTMLModel",
      "state": {
       "layout": "IPY_MODEL_e37aa04b43794e2fa72c915c2ff9889a",
       "style": "IPY_MODEL_0e67fa95c22b4ca28b7773daba77e0d3",
       "value": "<i>Vervollständigen Sie den Lückentext: </i>"
      }
     },
     "f2beb6781f64456b8b8d931a94603d0a": {
      "model_module": "@jupyter-widgets/controls",
      "model_module_version": "1.2.0",
      "model_name": "CheckboxModel",
      "state": {
       "description": "Nur beginnt eine Reise von tausend Meilen auch mit einem Schritt",
       "disabled": false,
       "layout": "IPY_MODEL_70614c0e0a434229acf152996183c286",
       "style": "IPY_MODEL_d30f5ae0eaf946959fca37afc42bf294",
       "value": false
      }
     },
     "f2dca2ebd890405ca01b26de70440939": {
      "model_module": "@jupyter-widgets/controls",
      "model_module_version": "1.2.0",
      "model_name": "HTMLModel",
      "state": {
       "layout": "IPY_MODEL_df4a5bf594674ebebe921c1d6f2cfc6a",
       "style": "IPY_MODEL_8b8df387bf2d49708a9b82854d298a99",
       "value": "<h4 style=\"font-size:14px;\">In der ersten Zeile des Codes werden</h4>"
      }
     },
     "f2ea95375ba945b5b8c22da172318cbb": {
      "model_module": "@jupyter-widgets/controls",
      "model_module_version": "1.2.0",
      "model_name": "ButtonStyleModel",
      "state": {}
     },
     "f3033a5a780f4559997793e353beae77": {
      "model_module": "@jupyter-widgets/base",
      "model_module_version": "1.0.0",
      "model_name": "LayoutModel",
      "state": {
       "justify_content": "center"
      }
     },
     "f32b834185534bc79f6a9a60a4b7aa51": {
      "model_module": "@jupyter-widgets/base",
      "model_module_version": "1.0.0",
      "model_name": "LayoutModel",
      "state": {
       "width": "600px"
      }
     },
     "f37fe49ee6fd4c4d966770632de7d301": {
      "model_module": "@jupyter-widgets/controls",
      "model_module_version": "1.2.0",
      "model_name": "VBoxModel",
      "state": {
       "children": [
        "IPY_MODEL_47338cc8dbad4b56b2e5425b88eea8ac",
        "IPY_MODEL_21f08c2618ec456d947a0c377b92f22d",
        "IPY_MODEL_a88c8f4f5ffd48e9af313a7a231c9947",
        "IPY_MODEL_c3eb27617aab461182da24b2fbfcd196"
       ],
       "layout": "IPY_MODEL_126b9b6145a84884b286a93b2067a267"
      }
     },
     "f385bab6972e4340a85b5f4c8c8a4537": {
      "model_module": "@jupyter-widgets/base",
      "model_module_version": "1.0.0",
      "model_name": "LayoutModel",
      "state": {}
     },
     "f3b02cee7bda432a89c51080d8bf3e58": {
      "model_module": "@jupyter-widgets/base",
      "model_module_version": "1.0.0",
      "model_name": "LayoutModel",
      "state": {}
     },
     "f3c4e53fb8d74b4c80eb9afef54971f0": {
      "model_module": "@jupyter-widgets/base",
      "model_module_version": "1.0.0",
      "model_name": "LayoutModel",
      "state": {
       "width": "250px"
      }
     },
     "f4088182f74d4f398b0df7ea9d58b020": {
      "model_module": "@jupyter-widgets/base",
      "model_module_version": "1.0.0",
      "model_name": "LayoutModel",
      "state": {
       "width": "250px"
      }
     },
     "f453c73a3d824f8fa22cd2607b20c5d0": {
      "model_module": "@jupyter-widgets/controls",
      "model_module_version": "1.2.0",
      "model_name": "ButtonStyleModel",
      "state": {}
     },
     "f463af52f86541d89972ea53ed23f639": {
      "model_module": "@jupyter-widgets/controls",
      "model_module_version": "1.2.0",
      "model_name": "HTMLModel",
      "state": {
       "layout": "IPY_MODEL_5159f3ebdfda467d991ba22ff997379f",
       "style": "IPY_MODEL_cd456639a1f44672907c041e65c85b35",
       "value": "<i>Wählen Sie die <ins>eine</ins> korrekte Antwort aus: </i>"
      }
     },
     "f4956fcff975412a9146bfb489b48724": {
      "model_module": "@jupyter-widgets/controls",
      "model_module_version": "1.2.0",
      "model_name": "DropdownModel",
      "state": {
       "_options_labels": [
        "Bigramm",
        "Trigramm",
        "Unigramm",
        " "
       ],
       "index": 0,
       "layout": "IPY_MODEL_ac98d6599e124edd85f39868ccc7a104",
       "style": "IPY_MODEL_46d99c8ab2b046ed9fa90d9d3554bd28"
      }
     },
     "f5171de0872c40df99626f9cdba0b8fc": {
      "model_module": "@jupyter-widgets/controls",
      "model_module_version": "1.2.0",
      "model_name": "DescriptionStyleModel",
      "state": {
       "description_width": ""
      }
     },
     "f56e5c8b8e2345e5bd462818e18c6e9f": {
      "model_module": "@jupyter-widgets/controls",
      "model_module_version": "1.2.0",
      "model_name": "HTMLModel",
      "state": {
       "layout": "IPY_MODEL_e9be386862024545a068b25d4171bddd",
       "style": "IPY_MODEL_0852dfa2263d4271ba48168197acee98",
       "value": "<i>Vervollständigen Sie den Lückentext: </i>"
      }
     },
     "f58e0c150eb043d48ced327afb6ed445": {
      "model_module": "@jupyter-widgets/controls",
      "model_module_version": "1.2.0",
      "model_name": "HTMLModel",
      "state": {
       "layout": "IPY_MODEL_aa408d3e29ec473daddf70b9f026f834",
       "style": "IPY_MODEL_5edcb65dd9344d22a18e3ba413912d9d",
       "value": "<h4 style=\"font-size:14px;\">In der ersten Zeile des Codes werden</h4>"
      }
     },
     "f5951c6298a34fa9a25eb330855203fa": {
      "model_module": "@jupyter-widgets/controls",
      "model_module_version": "1.2.0",
      "model_name": "CheckboxModel",
      "state": {
       "description": "gleiche Endungen",
       "disabled": false,
       "layout": "IPY_MODEL_16ba2c15958749b8ac772fb3a610f9be",
       "style": "IPY_MODEL_beedb6de6d3b426385e19fd9991d5bc7",
       "value": false
      }
     },
     "f5aabda0ad70457ebcb20dbc08ea2669": {
      "model_module": "@jupyter-widgets/base",
      "model_module_version": "1.0.0",
      "model_name": "LayoutModel",
      "state": {
       "justify_content": "center"
      }
     },
     "f5b0ad85652f4d3da4ad6c60b9bf26cb": {
      "model_module": "@jupyter-widgets/controls",
      "model_module_version": "1.2.0",
      "model_name": "HBoxModel",
      "state": {
       "children": [
        "IPY_MODEL_0d6a4eacad16482987ecb7e8cc1cee2b"
       ],
       "layout": "IPY_MODEL_d7c7b0cfc062459592d71da6b50434b5"
      }
     },
     "f5bc0818dec8429dae96d257042aa742": {
      "model_module": "@jupyter-widgets/controls",
      "model_module_version": "1.2.0",
      "model_name": "HTMLModel",
      "state": {
       "layout": "IPY_MODEL_1fe04214c0b64137b1f202bc6d2d4134",
       "style": "IPY_MODEL_8db98b6ae3164ba9adfb0558b6abb3b2",
       "value": "<i>Vervollständigen Sie den Lückentext: </i>"
      }
     },
     "f5d3448289544e54a6f4fd7efded3775": {
      "model_module": "@jupyter-widgets/base",
      "model_module_version": "1.0.0",
      "model_name": "LayoutModel",
      "state": {}
     },
     "f65eff2991f54fbe9996967041a6e116": {
      "model_module": "@jupyter-widgets/base",
      "model_module_version": "1.0.0",
      "model_name": "LayoutModel",
      "state": {
       "width": "250px"
      }
     },
     "f69866e0de6e45459257ebe0d8505e34": {
      "model_module": "@jupyter-widgets/controls",
      "model_module_version": "1.2.0",
      "model_name": "HBoxModel",
      "state": {
       "children": [
        "IPY_MODEL_9a17fc19364f487eae36c6dce48e8c98",
        "IPY_MODEL_bf4d60bd2c0a456a8c36218dd5953ab7"
       ],
       "layout": "IPY_MODEL_a0411c69206a4b8ca0e1077a061fd13c"
      }
     },
     "f6a26e353f644509898c90bbdadd0a9c": {
      "model_module": "@jupyter-widgets/controls",
      "model_module_version": "1.2.0",
      "model_name": "ButtonModel",
      "state": {
       "description": "base",
       "layout": "IPY_MODEL_3b7fc71374b04ce3bda8c095b5395144",
       "style": "IPY_MODEL_f2ea95375ba945b5b8c22da172318cbb"
      }
     },
     "f6a550d1b1044d3d91be12030955a007": {
      "model_module": "@jupyter-widgets/controls",
      "model_module_version": "1.2.0",
      "model_name": "ButtonStyleModel",
      "state": {}
     },
     "f6bc3c2bc2c54f77afd1fafdefeb238d": {
      "model_module": "@jupyter-widgets/base",
      "model_module_version": "1.0.0",
      "model_name": "LayoutModel",
      "state": {}
     },
     "f70f33e3b8294feb89e1ef4dd49ae169": {
      "model_module": "@jupyter-widgets/controls",
      "model_module_version": "1.2.0",
      "model_name": "ButtonModel",
      "state": {
       "description": "Adverb",
       "layout": "IPY_MODEL_c2a4165e8fba4d1db6406da68cc3227c",
       "style": "IPY_MODEL_d05de0fdf27241a68b6cf49fe4e29c12"
      }
     },
     "f74dcfa84dcd4d4b951fa04a355d7d39": {
      "model_module": "@jupyter-widgets/controls",
      "model_module_version": "1.2.0",
      "model_name": "ButtonStyleModel",
      "state": {
       "button_color": "lightgreen"
      }
     },
     "f7852f71deae4946bef6c1a5a8b1a7d3": {
      "model_module": "@jupyter-widgets/base",
      "model_module_version": "1.0.0",
      "model_name": "LayoutModel",
      "state": {
       "justify_content": "center"
      }
     },
     "f7897cfd451f49b8bd7788595c4ecfd3": {
      "model_module": "@jupyter-widgets/controls",
      "model_module_version": "1.2.0",
      "model_name": "ButtonModel",
      "state": {
       "description": "Folge von Wortklassen",
       "layout": "IPY_MODEL_a8263b3320a049b7b0be86c28e81e94c",
       "style": "IPY_MODEL_74f85f6f60054543b726bd4571d7ddb8"
      }
     },
     "f7a272febe094b559190363b9f368c91": {
      "model_module": "@jupyter-widgets/controls",
      "model_module_version": "1.2.0",
      "model_name": "DropdownModel",
      "state": {
       "_options_labels": [
        " ",
        "NP",
        "PP",
        "VP",
        " "
       ],
       "index": 0,
       "layout": "IPY_MODEL_76c22f475ed7495ca6d7640676b9b4e5",
       "style": "IPY_MODEL_6a26006c833b42638ceb415f03b8b16f"
      }
     },
     "f7af64b85b95458d9bf5d7ec3295463d": {
      "model_module": "@jupyter-widgets/controls",
      "model_module_version": "1.2.0",
      "model_name": "DescriptionStyleModel",
      "state": {
       "description_width": ""
      }
     },
     "f7affe86730245eea3d847398a44736d": {
      "model_module": "@jupyter-widgets/controls",
      "model_module_version": "1.2.0",
      "model_name": "DescriptionStyleModel",
      "state": {
       "description_width": "initial"
      }
     },
     "f7c4782dad9544e89915214dbcb4be4e": {
      "model_module": "@jupyter-widgets/controls",
      "model_module_version": "1.2.0",
      "model_name": "DescriptionStyleModel",
      "state": {
       "description_width": ""
      }
     },
     "f7d3f98de0904671a8b33f3c5220ba68": {
      "model_module": "@jupyter-widgets/base",
      "model_module_version": "1.0.0",
      "model_name": "LayoutModel",
      "state": {}
     },
     "f825c24507bc4567aaf84c48ed6c963d": {
      "model_module": "@jupyter-widgets/controls",
      "model_module_version": "1.2.0",
      "model_name": "ButtonStyleModel",
      "state": {
       "button_color": "lightgreen"
      }
     },
     "f89a119220c9486aa77f17c846a6a2ea": {
      "model_module": "@jupyter-widgets/controls",
      "model_module_version": "1.2.0",
      "model_name": "CheckboxModel",
      "state": {
       "description": "Zu einem Wort werden alle Synonyme gefunden.",
       "disabled": false,
       "layout": "IPY_MODEL_868190e9f1b54bf7937002dd4902754b",
       "style": "IPY_MODEL_297cade4fd7c4850bcddb00ea6b6f587",
       "value": false
      }
     },
     "f8b60976369d41d68ec056209875e30b": {
      "model_module": "@jupyter-widgets/controls",
      "model_module_version": "1.2.0",
      "model_name": "VBoxModel",
      "state": {
       "children": [
        "IPY_MODEL_f2baa357bf374e36ab05dbaf5fbde2ee",
        "IPY_MODEL_e7ff18db3fb3412a8d978b70526c4f56",
        "IPY_MODEL_0634c994f5fa47e5bd97db2c375c5785"
       ],
       "layout": "IPY_MODEL_72da4c153f1d49d2a0bca9b74961aa3b"
      }
     },
     "f8e09836fcf54744850453a39dc09fb3": {
      "model_module": "@jupyter-widgets/controls",
      "model_module_version": "1.2.0",
      "model_name": "BoxModel",
      "state": {
       "children": [
        "IPY_MODEL_95fb6ea4bfd04f7d81f0f630a8fe1bc6",
        "IPY_MODEL_d98a98306bb24e9b9c5ca8249092a3b8",
        "IPY_MODEL_4bbe6c2b0aa5409c94dd86f2bd75293c",
        "IPY_MODEL_6913797f5235403f966fb4e165714c60",
        "IPY_MODEL_68300c9822334c1ab80246acfd474193",
        "IPY_MODEL_2fb3091e60124b06b459ad4ca44bde32",
        "IPY_MODEL_d23730edf37f44e589a1c73c7f3e81dc",
        "IPY_MODEL_136cf970a155452cb4375c13d9c35fcb",
        "IPY_MODEL_2661ca95d6694b4cad5d6df9fb4a2484",
        "IPY_MODEL_2699d0c5f08d496980eca932bc4b97ef",
        "IPY_MODEL_21351fce0b4b40c3a4b3e4427d94ca81",
        "IPY_MODEL_b112775c976d4b6e8975f40563eb9455",
        "IPY_MODEL_11c2b53f6d3e480ca6982d1da499fe69"
       ],
       "layout": "IPY_MODEL_b07f9127510f4697911800c0dd7448a2"
      }
     },
     "f912a84f658b4c91b7a4c92b00f697a9": {
      "model_module": "@jupyter-widgets/base",
      "model_module_version": "1.0.0",
      "model_name": "LayoutModel",
      "state": {
       "width": "250px"
      }
     },
     "f931965f1d2d4d21b9c3a11a355a488b": {
      "model_module": "@jupyter-widgets/controls",
      "model_module_version": "1.2.0",
      "model_name": "ButtonStyleModel",
      "state": {
       "button_color": "lightgreen"
      }
     },
     "f963212db4a9404f83978be987681113": {
      "model_module": "@jupyter-widgets/controls",
      "model_module_version": "1.2.0",
      "model_name": "DescriptionStyleModel",
      "state": {
       "description_width": ""
      }
     },
     "f9929a78f684445e868da2fed8bd2eb8": {
      "model_module": "@jupyter-widgets/base",
      "model_module_version": "1.0.0",
      "model_name": "LayoutModel",
      "state": {}
     },
     "f995367720134f61a86306b972eff809": {
      "model_module": "@jupyter-widgets/controls",
      "model_module_version": "1.2.0",
      "model_name": "DescriptionStyleModel",
      "state": {
       "description_width": ""
      }
     },
     "f9c485831ec24255bec2e9df4659253e": {
      "model_module": "@jupyter-widgets/base",
      "model_module_version": "1.0.0",
      "model_name": "LayoutModel",
      "state": {}
     },
     "fa28752d3c314659a103a6e55db88981": {
      "model_module": "@jupyter-widgets/controls",
      "model_module_version": "1.2.0",
      "model_name": "ButtonStyleModel",
      "state": {}
     },
     "fa40b3de783442a48c7c28dcd3326ece": {
      "model_module": "@jupyter-widgets/controls",
      "model_module_version": "1.2.0",
      "model_name": "DropdownModel",
      "state": {
       "_options_labels": [
        "'ADJ'",
        "'DET'",
        "'NOUN'",
        " "
       ],
       "index": 3,
       "layout": "IPY_MODEL_00258b0b8dcc4221b884fb06947711e3",
       "style": "IPY_MODEL_8249ba5284c1435496773913892bf36c"
      }
     },
     "fa5883d5cad9490da5372c68d0d9d215": {
      "model_module": "@jupyter-widgets/controls",
      "model_module_version": "1.2.0",
      "model_name": "ButtonModel",
      "state": {
       "description": "gerund",
       "layout": "IPY_MODEL_5c5fb5b9a4af446ebc3dffd31761b1ac",
       "style": "IPY_MODEL_082fe7a1bde9428fb7c8b4976e9fddc0"
      }
     },
     "fa9f9b4ff95f4d108564443638d55c57": {
      "model_module": "@jupyter-widgets/base",
      "model_module_version": "1.0.0",
      "model_name": "LayoutModel",
      "state": {
       "width": "250px"
      }
     },
     "fafc2b16df8c41ef9a492f7ac253eac3": {
      "model_module": "@jupyter-widgets/controls",
      "model_module_version": "1.2.0",
      "model_name": "HTMLModel",
      "state": {
       "layout": "IPY_MODEL_de1055b627784c99aaf6e997d31a0ea4",
       "style": "IPY_MODEL_04e06fef356e499e8d6549abc3c7329f",
       "value": "<h4 style=\"font-size:14px;\">Was sind syntaktische Kriterien für Wortkategorien?</h4>"
      }
     },
     "fb04b8e17f9148098311256821855763": {
      "model_module": "@jupyter-widgets/base",
      "model_module_version": "1.0.0",
      "model_name": "LayoutModel",
      "state": {
       "width": "150px"
      }
     },
     "fb250aa7b3554afebea1425c3eb83311": {
      "model_module": "@jupyter-widgets/controls",
      "model_module_version": "1.2.0",
      "model_name": "HTMLModel",
      "state": {
       "layout": "IPY_MODEL_3e7db389f84b47caa2b41fa6ecc3210e",
       "style": "IPY_MODEL_1cedab2a62384fcf8c42347e99c35813",
       "value": "<h4 style=\"font-size:14px;\">im Englischen.</h4>"
      }
     },
     "fb45e1d0252840fa8cf132a10ca31347": {
      "model_module": "@jupyter-widgets/base",
      "model_module_version": "1.0.0",
      "model_name": "LayoutModel",
      "state": {
       "width": "250px"
      }
     },
     "fb4b81e3fa7b48dc8856ccec314d36f0": {
      "model_module": "@jupyter-widgets/controls",
      "model_module_version": "1.2.0",
      "model_name": "CheckboxModel",
      "state": {
       "description": "gleiche Endungen",
       "disabled": false,
       "layout": "IPY_MODEL_7847e6c7707d4690ac00d541f63510ab",
       "style": "IPY_MODEL_658e79f3bc684119b5d15e0e4d7c9c0a",
       "value": false
      }
     },
     "fb4c6152805341a48133735398919e99": {
      "model_module": "@jupyter-widgets/controls",
      "model_module_version": "1.2.0",
      "model_name": "ButtonStyleModel",
      "state": {}
     },
     "fbabcefb3cb04a739c99e687ab397058": {
      "model_module": "@jupyter-widgets/controls",
      "model_module_version": "1.2.0",
      "model_name": "CheckboxModel",
      "state": {
       "description": "Eliminierungstest",
       "disabled": false,
       "layout": "IPY_MODEL_3ef7cb2c35f646f1a14a4676167c143d",
       "style": "IPY_MODEL_e85f654707a04c669ad7f335cca74f05",
       "value": false
      }
     },
     "fbd2cc47dc8349dcb356264f6ece0588": {
      "model_module": "@jupyter-widgets/controls",
      "model_module_version": "1.2.0",
      "model_name": "ButtonStyleModel",
      "state": {}
     },
     "fc0db8848cea466ab70f4fff4d511200": {
      "model_module": "@jupyter-widgets/base",
      "model_module_version": "1.0.0",
      "model_name": "LayoutModel",
      "state": {
       "width": "250px"
      }
     },
     "fc40e1bf3fe04594ae5d24f45faea7dd": {
      "model_module": "@jupyter-widgets/base",
      "model_module_version": "1.0.0",
      "model_name": "LayoutModel",
      "state": {}
     },
     "fc6217f964ac4a4f933ff05a9bb7a594": {
      "model_module": "@jupyter-widgets/controls",
      "model_module_version": "1.2.0",
      "model_name": "HTMLModel",
      "state": {
       "layout": "IPY_MODEL_fd1993e81cf64f469cfac9c2eec33406",
       "style": "IPY_MODEL_01ee330eea60405bb142ce34a9f8d1a4",
       "value": "<h4 style=\"font-size:14px;\">.</h4>"
      }
     },
     "fc8a51882627437282aa97519ff401e9": {
      "model_module": "@jupyter-widgets/base",
      "model_module_version": "1.0.0",
      "model_name": "LayoutModel",
      "state": {}
     },
     "fc8c1a685e694821a9789b31e751518d": {
      "model_module": "@jupyter-widgets/controls",
      "model_module_version": "1.2.0",
      "model_name": "ButtonStyleModel",
      "state": {}
     },
     "fcd1f76f065b40a0af3fbc7175d00933": {
      "model_module": "@jupyter-widgets/base",
      "model_module_version": "1.0.0",
      "model_name": "LayoutModel",
      "state": {
       "justify_content": "center"
      }
     },
     "fd1993e81cf64f469cfac9c2eec33406": {
      "model_module": "@jupyter-widgets/base",
      "model_module_version": "1.0.0",
      "model_name": "LayoutModel",
      "state": {}
     },
     "fd2fbb21565d4046834e3a50e712a22b": {
      "model_module": "@jupyter-widgets/controls",
      "model_module_version": "1.2.0",
      "model_name": "ButtonModel",
      "state": {
       "description": "simple past",
       "layout": "IPY_MODEL_3a8a411806e848b180248c6b0a05c1a6",
       "style": "IPY_MODEL_e1f6c06355d7424ca912eff55642ea84"
      }
     },
     "fd43eba6bf774747a55a7f1c3333a5de": {
      "model_module": "@jupyter-widgets/base",
      "model_module_version": "1.0.0",
      "model_name": "LayoutModel",
      "state": {}
     },
     "fd455bca6079478bad5ad3eece87135c": {
      "model_module": "@jupyter-widgets/controls",
      "model_module_version": "1.2.0",
      "model_name": "HTMLModel",
      "state": {
       "layout": "IPY_MODEL_9ac3cf8eddb04e9e9c5b034719f8875f",
       "style": "IPY_MODEL_07164f4e896147449ccd60e27a79348d",
       "value": "<i>Wählen Sie die <ins>eine</ins> korrekte Antwort aus: </i>"
      }
     },
     "fda69d1566d442b89d9bd374818ed042": {
      "model_module": "@jupyter-widgets/base",
      "model_module_version": "1.0.0",
      "model_name": "LayoutModel",
      "state": {
       "width": "600px"
      }
     },
     "fda87979a23948f39fc26a1ffa798414": {
      "model_module": "@jupyter-widgets/controls",
      "model_module_version": "1.2.0",
      "model_name": "HTMLModel",
      "state": {
       "layout": "IPY_MODEL_7a015c724de54480b1b70414b7d0e4a8",
       "style": "IPY_MODEL_727cef572dd74c4095589327755007ed",
       "value": "<h4 style=\"font-size:14px;\">Welche Wortart folgt damit für das Wort <i>gut</i> in Satz 2?</h4>"
      }
     },
     "fdae8ad25eda40cfb67247ccf6811111": {
      "model_module": "@jupyter-widgets/controls",
      "model_module_version": "1.2.0",
      "model_name": "DescriptionStyleModel",
      "state": {
       "description_width": ""
      }
     },
     "fdc43b8848b74115820215d29f90f27e": {
      "model_module": "@jupyter-widgets/base",
      "model_module_version": "1.0.0",
      "model_name": "LayoutModel",
      "state": {}
     },
     "fdc7bf7ae2d9482684a6f6e2a345f9eb": {
      "model_module": "@jupyter-widgets/base",
      "model_module_version": "1.0.0",
      "model_name": "LayoutModel",
      "state": {}
     },
     "fdcd4caa057843aa9d901edb21497235": {
      "model_module": "@jupyter-widgets/base",
      "model_module_version": "1.0.0",
      "model_name": "LayoutModel",
      "state": {}
     },
     "fdcee4101b8c434bae50a29054c323cf": {
      "model_module": "@jupyter-widgets/base",
      "model_module_version": "1.0.0",
      "model_name": "LayoutModel",
      "state": {}
     },
     "fddbdcb65019461884567d89f2612d23": {
      "model_module": "@jupyter-widgets/controls",
      "model_module_version": "1.2.0",
      "model_name": "ButtonStyleModel",
      "state": {
       "button_color": "lightgreen"
      }
     },
     "fdf8901a0f124bdfb051e01296d7e885": {
      "model_module": "@jupyter-widgets/controls",
      "model_module_version": "1.2.0",
      "model_name": "DropdownModel",
      "state": {
       "_options_labels": [
        "POS",
        "POS+Wort+POS",
        "Wort+POS-Tag",
        " "
       ],
       "index": 3,
       "layout": "IPY_MODEL_655278375cf449568b0346f40e5b2b71",
       "style": "IPY_MODEL_0fb21de7ffad4c6786aa0801e3d3fec1"
      }
     },
     "fe0588b1b6444579a993f1cee287eda5": {
      "model_module": "@jupyter-widgets/controls",
      "model_module_version": "1.2.0",
      "model_name": "HTMLModel",
      "state": {
       "layout": "IPY_MODEL_822e0cf01df146ff93569374ad0fb5f6",
       "style": "IPY_MODEL_30893fd0aa194524885c4e2e18ca3f71",
       "value": "<h4 style=\"font-size:14px;\">Sequenz unter Erhalt der</h4>"
      }
     },
     "fe175aedd3094b6aa2c891aaf12bd19c": {
      "model_module": "@jupyter-widgets/controls",
      "model_module_version": "1.2.0",
      "model_name": "ButtonStyleModel",
      "state": {}
     },
     "fe1c5927f30d4347b4c944bb2588115d": {
      "model_module": "@jupyter-widgets/controls",
      "model_module_version": "1.2.0",
      "model_name": "ButtonStyleModel",
      "state": {}
     },
     "fe666a647bb2413481d709a8a2542cb8": {
      "model_module": "@jupyter-widgets/controls",
      "model_module_version": "1.2.0",
      "model_name": "DescriptionStyleModel",
      "state": {
       "description_width": "initial"
      }
     },
     "fe67e792901e47bbb3c8bd78ec3d471d": {
      "model_module": "@jupyter-widgets/base",
      "model_module_version": "1.0.0",
      "model_name": "LayoutModel",
      "state": {
       "width": "600px"
      }
     },
     "feaff30cf29b4838bfd4af39759dae33": {
      "model_module": "@jupyter-widgets/controls",
      "model_module_version": "1.2.0",
      "model_name": "DescriptionStyleModel",
      "state": {
       "description_width": ""
      }
     },
     "febfffc70e48453eba36358f053eafbe": {
      "model_module": "@jupyter-widgets/controls",
      "model_module_version": "1.2.0",
      "model_name": "VBoxModel",
      "state": {
       "children": [
        "IPY_MODEL_8c1808b4306742b3b7d8cabee7952574",
        "IPY_MODEL_bfccfcb639e24318b3d038df9926e46c",
        "IPY_MODEL_ae7d1e85073742049ab7780d7b0b06dd",
        "IPY_MODEL_0bcf069cc9b5487f93c88537ec283d96"
       ],
       "layout": "IPY_MODEL_a31e33c0bb8c48d681a77d10307d16de"
      }
     },
     "fed1e72c44604bf9b774fb0b423b9959": {
      "model_module": "@jupyter-widgets/base",
      "model_module_version": "1.0.0",
      "model_name": "LayoutModel",
      "state": {}
     },
     "fef51f513e42420abb532b815ee72055": {
      "model_module": "@jupyter-widgets/controls",
      "model_module_version": "1.2.0",
      "model_name": "ButtonModel",
      "state": {
       "description": "Keine der anderen Möglichkeiten",
       "layout": "IPY_MODEL_ff2f4c955e7d47fc8cadc74703e69e78",
       "style": "IPY_MODEL_db22eca5444843ec97bd890b71dd6a8a"
      }
     },
     "ff18f2504a9140dfaeca8566ddf8c0cd": {
      "model_module": "@jupyter-widgets/controls",
      "model_module_version": "1.2.0",
      "model_name": "ButtonStyleModel",
      "state": {
       "button_color": "lightgreen"
      }
     },
     "ff2f4c955e7d47fc8cadc74703e69e78": {
      "model_module": "@jupyter-widgets/base",
      "model_module_version": "1.0.0",
      "model_name": "LayoutModel",
      "state": {
       "width": "250px"
      }
     },
     "ff349955172141d1b584ddc18093ac23": {
      "model_module": "@jupyter-widgets/controls",
      "model_module_version": "1.2.0",
      "model_name": "DescriptionStyleModel",
      "state": {
       "description_width": ""
      }
     },
     "ff5117b1eb514ebc91fb3a1126c78ee4": {
      "model_module": "@jupyter-widgets/base",
      "model_module_version": "1.0.0",
      "model_name": "LayoutModel",
      "state": {}
     },
     "ff713eb299594c2993b06716a5fa70b4": {
      "model_module": "@jupyter-widgets/base",
      "model_module_version": "1.0.0",
      "model_name": "LayoutModel",
      "state": {
       "width": "250px"
      }
     },
     "ff853f244bfa431e904a11802f2bc69f": {
      "model_module": "@jupyter-widgets/controls",
      "model_module_version": "1.2.0",
      "model_name": "VBoxModel",
      "state": {
       "children": [
        "IPY_MODEL_12fd3c124d9c4c90bd02e7e82a208f7b",
        "IPY_MODEL_3b5f46b2a2ad4990970263e7984c3719",
        "IPY_MODEL_37654baef2b545fc82b2ed76c1b179af",
        "IPY_MODEL_0659d9cc8ec44220a6be7e87a8cfe29c"
       ],
       "layout": "IPY_MODEL_3dbe0cadd2af4145b0bb9122654db500"
      }
     },
     "ff938070930c475e9ab11db698e3851c": {
      "model_module": "@jupyter-widgets/controls",
      "model_module_version": "1.2.0",
      "model_name": "HTMLModel",
      "state": {
       "layout": "IPY_MODEL_840b03b0a8ad4dc899d06f0d6e8cd4dc",
       "style": "IPY_MODEL_a0308cccba1946f1a760641ed81a85c8",
       "value": "<h4 style=\"font-size:14px;\">Was bedeutet das Tag <i>VBZ</i> im Browntagset (siehe 5.7)?</h4>"
      }
     },
     "ff9e8d083f294bd3b7e6922a98b4c862": {
      "model_module": "@jupyter-widgets/controls",
      "model_module_version": "1.2.0",
      "model_name": "ButtonStyleModel",
      "state": {}
     },
     "ffaca8b0f4ab4f6c94807a68fc7402aa": {
      "model_module": "@jupyter-widgets/base",
      "model_module_version": "1.0.0",
      "model_name": "LayoutModel",
      "state": {
       "width": "150px"
      }
     },
     "ffd2158be2544316ba54c520252c83ff": {
      "model_module": "@jupyter-widgets/base",
      "model_module_version": "1.0.0",
      "model_name": "LayoutModel",
      "state": {}
     }
    },
    "version_major": 2,
    "version_minor": 0
   }
  }
 },
 "nbformat": 4,
 "nbformat_minor": 2
}
