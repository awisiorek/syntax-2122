{
 "cells": [
  {
   "cell_type": "markdown",
   "metadata": {},
   "source": [
    "***Syntax natürlicher Sprachen, WS 2021/22***\n",
    "\n",
    "---\n",
    "# Übung 10"
   ]
  },
  {
   "cell_type": "code",
   "execution_count": 1,
   "metadata": {},
   "outputs": [],
   "source": [
    "import nltk\n",
    "from nltk.featstruct import FeatStruct\n",
    "from nltk.featstruct import Feature, UnificationFailure\n",
    "import itertools"
   ]
  },
  {
   "cell_type": "markdown",
   "metadata": {},
   "source": [
    "---\n",
    "## Aufgabe 1: Unifikation I\n",
    "\n",
    "#### Gegeben seien folgende Merkmalstrukturen:"
   ]
  },
  {
   "cell_type": "code",
   "execution_count": 2,
   "metadata": {},
   "outputs": [],
   "source": [
    "f1 = FeatStruct(\n",
    "    '[Vorname=Max, Nachname=Mustermann,' + \n",
    "    'Privat=[Strasse=Hauptstrasse, Ort=[Muenchen]]]'\n",
    ")\n",
    "f2 = FeatStruct(\n",
    "    '[Arbeit=[Strasse=\"Oettingenstrasse\", Ort=(1)[\"Muenchen\"]],' +\n",
    "    'Privat=[Ort->(1)]]')\n",
    "f3 = FeatStruct(\n",
    "    '[Strasse=\"Hauptstrasse\"]'\n",
    ")\n",
    "f4 = FeatStruct(\n",
    "    '[Privat=[Strasse=\"Hauptstrasse\", Ort=[\"Passau\"]]]'\n",
    ")"
   ]
  },
  {
   "cell_type": "markdown",
   "metadata": {},
   "source": [
    "#### Unifizieren Sie:\n",
    "- f1 mit f2\n",
    "- f2 mit f4\n",
    "\n",
    "#### Kontrollieren sie am Ende ihre Lösung zuerst mit Hilfe der  Fragen und überdenken Sie diese gegebenenfalls.\n",
    "\n",
    "#### Mit der Ausführung der unteren beiden print-Statements können Sie abschließend die Lösung einsehen."
   ]
  },
  {
   "cell_type": "markdown",
   "metadata": {},
   "source": [
    "### Fragen zu Aufgabe 1:\n",
    "\n",
    "#### Unifizieren f1 und f2?\n",
    "\n",
    "\n",
    "#### Unifizieren f2 und f4?\n",
    "\n"
   ]
  },
  {
   "cell_type": "code",
   "execution_count": null,
   "metadata": {},
   "outputs": [],
   "source": [
    "print(f1.unify(f2).__repr__())"
   ]
  },
  {
   "cell_type": "code",
   "execution_count": null,
   "metadata": {},
   "outputs": [],
   "source": [
    "print(f2.unify(f4).__repr__())"
   ]
  },
  {
   "cell_type": "markdown",
   "metadata": {},
   "source": [
    "---\n",
    "## Aufgabe 2:  Typhierarchie im NLTK\n",
    "\n",
    "#### Gegeben sei folgende Typhierarchie:\n",
    "\n",
    "$$\\bot \\sqsubseteq \\text{Genitiv}$$\n",
    "$$\\bot \\sqsubseteq \\text{nicht-Genitiv}$$\n",
    "$$\\text{nicht-Genitiv} \\sqsubseteq \\text{Nominativ-Akkusativ}$$\n",
    "$$\\text{nicht-Genitiv} \\sqsubseteq \\text{Dativ}$$\n",
    "$$\\text{Nominativ-Akkusativ} \\sqsubseteq \\text{Nominativ}$$\n",
    "$$\\text{Nominativ-Akkusativ} \\sqsubseteq \\text{Akkusativ}$$\n",
    "\n",
    "#### Implementieren Sie mithilfe der Klasse `HierarchicalFeature`, die Sie mit der folgenden Zelle importieren können, ein Feature `CASE`, das der vorgegebenen Typhierarchie entspricht.\n"
   ]
  },
  {
   "cell_type": "code",
   "execution_count": 6,
   "metadata": {},
   "outputs": [],
   "source": [
    "TYPE = nltk.featstruct.TYPE\n",
    "\n",
    "\n",
    "def check_sanity_constraints(th):\n",
    "    for type1, type2 in itertools.product(th, th):\n",
    "        if type1 in th[type2] and type2 in th[type1]:\n",
    "            if type1 != type2:\n",
    "                raise ValueError(\n",
    "                    \"The type hierarchy is not antisymmetric! \" +\n",
    "                    \"{} subsumes {} and vice versa!\".format(\n",
    "                        type1, type2\n",
    "                    )\n",
    "                )\n",
    "\n",
    "\n",
    "def refl_trans_closure(type_hierarchy):\n",
    "    # make everything a set\n",
    "    # and compute reflexive closure\n",
    "    closure = {}\n",
    "    for t in type_hierarchy:\n",
    "        closure[t] = set(type_hierarchy[t])\n",
    "        closure[t].add(t)\n",
    "\n",
    "    # compute transitive closure\n",
    "    still_changes = True\n",
    "    while still_changes:\n",
    "        still_changes = False\n",
    "        for x in closure:\n",
    "            new_for_x = set()\n",
    "            for y in closure[x]:\n",
    "                for z in closure[y]:\n",
    "                    new_for_x.add(z)\n",
    "            len_before = len(closure[x])\n",
    "            closure[x].update(new_for_x)\n",
    "            still_changes |= len(closure[x]) > len_before\n",
    "\n",
    "    return closure\n",
    "\n",
    "\n",
    "class HierarchicalFeature(Feature):\n",
    "    def __init__(self, name, type_hierarchy, **kwargs):\n",
    "        super(HierarchicalFeature, self).__init__(name, **kwargs)\n",
    "\n",
    "        self.hierarchy = refl_trans_closure(type_hierarchy)\n",
    "        check_sanity_constraints(self.hierarchy)\n",
    "\n",
    "    def unify_base_values(self, fval1, fval2, bindings):\n",
    "        candidates = self.hierarchy[fval1].intersection(self.hierarchy[fval2])\n",
    "        score = {t: 0 for t in candidates}\n",
    "        for type1, type2 in itertools.product(candidates, candidates):\n",
    "            if type1 in self.hierarchy[type2]:\n",
    "                score[type1] += 1\n",
    "\n",
    "        return min(candidates, key=score.__getitem__, default=UnificationFailure)\n"
   ]
  },
  {
   "cell_type": "markdown",
   "metadata": {},
   "source": [
    "\n",
    "#### Nutzen Sie dieses Feature dann, um Übergenerierung in folgender Grammatik zu vermeiden:"
   ]
  },
  {
   "cell_type": "code",
   "execution_count": 7,
   "metadata": {},
   "outputs": [],
   "source": [
    "grammar = \"\"\"\n",
    "S -> NP VP\n",
    "NP -> DET NOM\n",
    "NOM -> N NP | N\n",
    "VP -> V\n",
    "\n",
    "V -> \"schläft\"\n",
    "DET[GEN=mask] -> \"der\" | \"des\"\n",
    "DET[GEN=fem] -> \"die\" | \"der\"\n",
    "DET[GEN=neut] -> \"das\" | \"des\"\n",
    "N[GEN=mask] -> \"Mann\" | \"Mannes\"\n",
    "N[GEN=fem] -> \"Frau\"\n",
    "N[GEN=neut] -> \"Kind\" | \"Kindes\"\n",
    "\"\"\""
   ]
  },
  {
   "cell_type": "markdown",
   "metadata": {},
   "source": [
    "#### Hier muss die Typhierarchie in Form eines `Dictionary` definiert werden:"
   ]
  },
  {
   "cell_type": "code",
   "execution_count": 8,
   "metadata": {},
   "outputs": [],
   "source": [
    "type_hierarchy = {\n",
    "    \n",
    "}"
   ]
  },
  {
   "cell_type": "code",
   "execution_count": 9,
   "metadata": {},
   "outputs": [],
   "source": [
    "CASE = HierarchicalFeature(\"CASE\", type_hierarchy)\n",
    "compiled_grammar = nltk.grammar.FeatureGrammar.fromstring(\n",
    "    grammar, features=(CASE, TYPE)\n",
    ")\n",
    "parser = nltk.FeatureEarleyChartParser(compiled_grammar)"
   ]
  },
  {
   "cell_type": "markdown",
   "metadata": {},
   "source": [
    "#### Folgendes sollte funktionieren:"
   ]
  },
  {
   "cell_type": "code",
   "execution_count": null,
   "metadata": {},
   "outputs": [],
   "source": [
    "# from nltk.tree import Tree\n",
    "for t in parser.parse(\"das Kind des Mannes schläft\".split()):\n",
    "#     t = Tree.fromstring(str(t).replace(\", \",\",\"))\n",
    "#     t.pretty_print(unicodelines=True)\n",
    "    display(t)"
   ]
  },
  {
   "cell_type": "markdown",
   "metadata": {},
   "source": [
    "#### Folgendes sollte leer sein:"
   ]
  },
  {
   "cell_type": "code",
   "execution_count": 11,
   "metadata": {},
   "outputs": [
    {
     "data": {
      "text/plain": [
       "[Tree(S[], [Tree(NP[], [Tree(DET[GEN='neut'], ['des']), Tree(NOM[], [Tree(N[GEN='mask'], ['Mannes'])])]), Tree(VP[], [Tree(V[], ['schläft'])])]),\n",
       " Tree(S[], [Tree(NP[], [Tree(DET[GEN='mask'], ['des']), Tree(NOM[], [Tree(N[GEN='mask'], ['Mannes'])])]), Tree(VP[], [Tree(V[], ['schläft'])])])]"
      ]
     },
     "execution_count": 11,
     "metadata": {},
     "output_type": "execute_result"
    }
   ],
   "source": [
    "list(parser.parse(\"des Mannes schläft\".split()))"
   ]
  },
  {
   "cell_type": "markdown",
   "metadata": {},
   "source": [
    "---\n",
    "# Hausaufgaben"
   ]
  },
  {
   "cell_type": "markdown",
   "metadata": {},
   "source": [
    "---\n",
    "## Aufgabe 3: Unifikation II\n",
    "\n",
    "#### Es seien wieder die Merkmalstrukturen aus Aufgabe 1 gegeben.\n",
    "\n",
    "#### Unifizieren Sie:\n",
    "- f1 mit f4\n",
    "- f2 mit f3\n",
    "\n",
    "#### Kontrollieren sie am Ende ihre Lösung zuerst mit Hilfe der  Fragen und überdenken Sie diese gegebenenfalls.\n",
    "\n",
    "#### Mit der Ausführung der unteren beiden print-Statements können Sie abschließend die Lösung einsehen."
   ]
  },
  {
   "cell_type": "markdown",
   "metadata": {},
   "source": [
    "### Fragen zu Aufgabe 3:\n",
    "\n",
    "#### Unifizieren f1 und f4?\n",
    "\n",
    "\n",
    "#### Unifizieren f2 und f3?\n",
    "\n"
   ]
  },
  {
   "cell_type": "code",
   "execution_count": null,
   "metadata": {},
   "outputs": [],
   "source": [
    "print(f1.unify(f4).__repr__())"
   ]
  },
  {
   "cell_type": "code",
   "execution_count": null,
   "metadata": {
    "scrolled": true
   },
   "outputs": [],
   "source": [
    "print(f2.unify(f3).__repr__())"
   ]
  },
  {
   "cell_type": "markdown",
   "metadata": {},
   "source": [
    "---\n",
    "## Aufgabe 4: Weniger Redundanz dank besonderer Merkmale\n",
    "\n",
    "#### Beseitigen Sie die Redundanz in den lexikalischen Regeln (Zeilen 8 - 32) der folgenden Grammatik durch eine Typhierarchie (wo dies nötig ist). Achten Sie darauf, die Menge der akzeptierten Sätze weder zu verkleinern noch zu vergrößern!\n",
    "\n",
    "#### Anzugeben sind die neuen Grammatikregeln, sowie Ihre Typhierarchie (z. B. in graphischer Form)."
   ]
  },
  {
   "cell_type": "code",
   "execution_count": 15,
   "metadata": {},
   "outputs": [],
   "source": [
    "redundant_grammar = \"\"\"\n",
    "S -> NP[KAS=nom] VP\n",
    "\n",
    "NP[KAS=?y] -> DET[GEN=?x,KAS=?y] NOM[GEN=?x,KAS=?y]\n",
    "NOM[GEN=?x,KAS=?y] -> N[GEN=?x,KAS=?y] NP[KAS=gen]\n",
    "NOM[GEN=?x,KAS=?y] -> N[GEN=?x,KAS=?y]\n",
    "\n",
    "DET[GEN=mask,KAS=nom] -> \"der\"\n",
    "DET[GEN=mask,KAS=gen] -> \"des\"\n",
    "DET[GEN=mask,KAS=dat] -> \"dem\"\n",
    "DET[GEN=mask,KAS=akk] -> \"den\"\n",
    "DET[GEN=fem,KAS=nom] -> \"die\"\n",
    "DET[GEN=fem,KAS=gen] -> \"der\"\n",
    "DET[GEN=fem,KAS=dat] -> \"der\"\n",
    "DET[GEN=fem,KAS=akk] -> \"die\"\n",
    "DET[GEN=neut,KAS=nom] -> \"das\"\n",
    "DET[GEN=neut,KAS=gen] -> \"des\"\n",
    "DET[GEN=neut,KAS=dat] -> \"dem\"\n",
    "DET[GEN=neut,KAS=akk] -> \"das\"\n",
    "\n",
    "N[GEN=mask,KAS=nom] -> \"Mann\"\n",
    "N[GEN=mask,KAS=gen] -> \"Mannes\"\n",
    "N[GEN=mask,KAS=dat] -> \"Mann\"\n",
    "N[GEN=mask,KAS=akk] -> \"Mann\"\n",
    "N[GEN=fem,KAS=nom] -> \"Frau\"\n",
    "N[GEN=fem,KAS=gen] -> \"Frau\"\n",
    "N[GEN=fem,KAS=dat] -> \"Frau\"\n",
    "N[GEN=fem,KAS=akk] -> \"Frau\"\n",
    "N[GEN=neut,KAS=nom] -> \"Buch\"\n",
    "N[GEN=neut,KAS=gen] -> \"Buches\"\n",
    "N[GEN=neut,KAS=dat] -> \"Buch\"\n",
    "N[GEN=neut,KAS=akk] -> \"Buch\"\n",
    "\n",
    "VP -> V NP[KAS=dat] NP[KAS=akk]\n",
    "V -> \"gibt\" | \"schenkt\"\n",
    "\"\"\""
   ]
  },
  {
   "cell_type": "code",
   "execution_count": 16,
   "metadata": {},
   "outputs": [],
   "source": [
    "pos_sentences = [\n",
    "    \"der Mann gibt der Frau das Buch\",\n",
    "    \"die Frau des Mannes gibt dem Mann der Frau das Buch des Buches\"\n",
    "]"
   ]
  },
  {
   "cell_type": "markdown",
   "metadata": {},
   "source": [
    "#### Testen Sie mit Ihren eigenen Negativbeispielen!"
   ]
  },
  {
   "cell_type": "code",
   "execution_count": 17,
   "metadata": {},
   "outputs": [],
   "source": [
    "neg_sentences = [\n",
    "    \n",
    "]"
   ]
  },
  {
   "cell_type": "code",
   "execution_count": 18,
   "metadata": {},
   "outputs": [],
   "source": [
    "from IPython.display import display\n",
    "\n",
    "def test_grammar(grammar, sentences):\n",
    "    cfg = nltk.grammar.FeatureGrammar.fromstring(grammar)\n",
    "    parser = nltk.parse.FeatureEarleyChartParser(cfg)\n",
    "    \n",
    "    for i, sent in enumerate(sentences, 1):\n",
    "        print(\"Satz {}: {}\".format(i, sent))\n",
    "        results = parser.parse(sent.split())\n",
    "        analyzed = False\n",
    "        for tree in results:\n",
    "            print(tree)  # oder display(tree)\n",
    "            analyzed = True\n",
    "        if not analyzed:\n",
    "            print(\"Keine Analyse möglich\", file=sys.stderr)"
   ]
  },
  {
   "cell_type": "code",
   "execution_count": 19,
   "metadata": {
    "scrolled": false
   },
   "outputs": [
    {
     "name": "stdout",
     "output_type": "stream",
     "text": [
      "Satz 1: der Mann gibt der Frau das Buch\n",
      "(S[]\n",
      "  (NP[KAS='nom']\n",
      "    (DET[GEN='mask', KAS='nom'] der)\n",
      "    (NOM[GEN='mask', KAS='nom'] (N[GEN='mask', KAS='nom'] Mann)))\n",
      "  (VP[]\n",
      "    (V[] gibt)\n",
      "    (NP[KAS='dat']\n",
      "      (DET[GEN='fem', KAS='dat'] der)\n",
      "      (NOM[GEN='fem', KAS='dat'] (N[GEN='fem', KAS='dat'] Frau)))\n",
      "    (NP[KAS='akk']\n",
      "      (DET[GEN='neut', KAS='akk'] das)\n",
      "      (NOM[GEN='neut', KAS='akk'] (N[GEN='neut', KAS='akk'] Buch)))))\n",
      "Satz 2: die Frau des Mannes gibt dem Mann der Frau das Buch des Buches\n",
      "(S[]\n",
      "  (NP[KAS='nom']\n",
      "    (DET[GEN='fem', KAS='nom'] die)\n",
      "    (NOM[GEN='fem', KAS='nom']\n",
      "      (N[GEN='fem', KAS='nom'] Frau)\n",
      "      (NP[KAS='gen']\n",
      "        (DET[GEN='mask', KAS='gen'] des)\n",
      "        (NOM[GEN='mask', KAS='gen']\n",
      "          (N[GEN='mask', KAS='gen'] Mannes)))))\n",
      "  (VP[]\n",
      "    (V[] gibt)\n",
      "    (NP[KAS='dat']\n",
      "      (DET[GEN='mask', KAS='dat'] dem)\n",
      "      (NOM[GEN='mask', KAS='dat']\n",
      "        (N[GEN='mask', KAS='dat'] Mann)\n",
      "        (NP[KAS='gen']\n",
      "          (DET[GEN='fem', KAS='gen'] der)\n",
      "          (NOM[GEN='fem', KAS='gen'] (N[GEN='fem', KAS='gen'] Frau)))))\n",
      "    (NP[KAS='akk']\n",
      "      (DET[GEN='neut', KAS='akk'] das)\n",
      "      (NOM[GEN='neut', KAS='akk']\n",
      "        (N[GEN='neut', KAS='akk'] Buch)\n",
      "        (NP[KAS='gen']\n",
      "          (DET[GEN='neut', KAS='gen'] des)\n",
      "          (NOM[GEN='neut', KAS='gen']\n",
      "            (N[GEN='neut', KAS='gen'] Buches)))))))\n"
     ]
    }
   ],
   "source": [
    "test_grammar(redundant_grammar, pos_sentences)"
   ]
  }
 ],
 "metadata": {
  "kernelspec": {
   "display_name": "Python 3 (ipykernel)",
   "language": "python",
   "name": "python3"
  },
  "language_info": {
   "codemirror_mode": {
    "name": "ipython",
    "version": 3
   },
   "file_extension": ".py",
   "mimetype": "text/x-python",
   "name": "python",
   "nbconvert_exporter": "python",
   "pygments_lexer": "ipython3",
   "version": "3.9.7"
  },
  "widgets": {
   "application/vnd.jupyter.widget-state+json": {
    "state": {
     "00528c5ef6f946c0a04362c98e15b5e6": {
      "model_module": "@jupyter-widgets/controls",
      "model_module_version": "1.4.0",
      "model_name": "HBoxModel",
      "state": {
       "children": [
        "IPY_MODEL_7fb4c7e5f88b4c45bd8804ab39d47189",
        "IPY_MODEL_8c8420c3ee824fe2ae963312ac480de7"
       ],
       "layout": "IPY_MODEL_11f74a46496440df99035f007b0ca518"
      }
     },
     "0100289e5fd94d7f8d6d6a33da069f90": {
      "model_module": "@jupyter-widgets/controls",
      "model_module_version": "1.4.0",
      "model_name": "ButtonStyleModel",
      "state": {}
     },
     "035748e536c24ef4a494ef217cb3e9ac": {
      "model_module": "@jupyter-widgets/controls",
      "model_module_version": "1.4.0",
      "model_name": "ButtonModel",
      "state": {
       "description": "Nein",
       "layout": "IPY_MODEL_6064c6bf90864eddac3fc63d59fb47c8",
       "style": "IPY_MODEL_33c9b8ec6dca49a2acd35689563133c5"
      }
     },
     "040a878cbddf4beb8887f54e7bd0ad20": {
      "model_module": "@jupyter-widgets/controls",
      "model_module_version": "1.4.0",
      "model_name": "ButtonStyleModel",
      "state": {}
     },
     "05252691bace4668bd9d1e599ebf2b75": {
      "model_module": "@jupyter-widgets/base",
      "model_module_version": "1.1.0",
      "model_name": "LayoutModel",
      "state": {
       "justify_content": "center"
      }
     },
     "05ad098a00d64e2c953edfb6762f6afa": {
      "model_module": "@jupyter-widgets/controls",
      "model_module_version": "1.4.0",
      "model_name": "ButtonStyleModel",
      "state": {}
     },
     "067971efd5094d6193877201baf9ca6a": {
      "model_module": "@jupyter-widgets/base",
      "model_module_version": "1.1.0",
      "model_name": "LayoutModel",
      "state": {}
     },
     "0893a04e40c64f848bb0cbe2aabbce16": {
      "model_module": "@jupyter-widgets/base",
      "model_module_version": "1.1.0",
      "model_name": "LayoutModel",
      "state": {
       "width": "250px"
      }
     },
     "0ce16efe8cc4437984f83e7a37a522be": {
      "model_module": "@jupyter-widgets/controls",
      "model_module_version": "1.4.0",
      "model_name": "HTMLModel",
      "state": {
       "layout": "IPY_MODEL_adadcd0d5fd54469ac92f87ed36804af",
       "style": "IPY_MODEL_70f5d7bb7f454b5d9edfb155b9041a53",
       "value": "<i>Wählen Sie die <ins>eine</ins> korrekte Antwort aus: </i>"
      }
     },
     "0dba7e687fa14c81a28e8e9a99ee0098": {
      "model_module": "@jupyter-widgets/controls",
      "model_module_version": "1.4.0",
      "model_name": "HBoxModel",
      "state": {
       "children": [
        "IPY_MODEL_7243052366b04f0696cb05ef2f47b153",
        "IPY_MODEL_b382fc9f96dc4d459daf66c7fd944677"
       ],
       "layout": "IPY_MODEL_99ab52199c324262b9275d8b042cd5d2"
      }
     },
     "0e73401874ee4e08b178e9d41fa1fa3c": {
      "model_module": "@jupyter-widgets/base",
      "model_module_version": "1.1.0",
      "model_name": "LayoutModel",
      "state": {
       "width": "250px"
      }
     },
     "11f74a46496440df99035f007b0ca518": {
      "model_module": "@jupyter-widgets/base",
      "model_module_version": "1.1.0",
      "model_name": "LayoutModel",
      "state": {}
     },
     "135d0be6666c47a3ac651dc2fbdc521f": {
      "model_module": "@jupyter-widgets/controls",
      "model_module_version": "1.4.0",
      "model_name": "HTMLModel",
      "state": {
       "layout": "IPY_MODEL_244c3cbb6962415d9ccd092269ecd231",
       "style": "IPY_MODEL_e4ce2b78b28f4093ba538bde2db31916",
       "value": "<h4 style=\"font-size:14px;\">Unifizieren f2 und f3?</h4>"
      }
     },
     "1fd3c24258834a02918367cfd015dca6": {
      "model_module": "@jupyter-widgets/controls",
      "model_module_version": "1.4.0",
      "model_name": "ButtonModel",
      "state": {
       "description": "Ja",
       "layout": "IPY_MODEL_0e73401874ee4e08b178e9d41fa1fa3c",
       "style": "IPY_MODEL_eab026e48d2146ae808acab3ab3cdf30"
      }
     },
     "244c3cbb6962415d9ccd092269ecd231": {
      "model_module": "@jupyter-widgets/base",
      "model_module_version": "1.1.0",
      "model_name": "LayoutModel",
      "state": {
       "justify_content": "center"
      }
     },
     "2dde9f6f47b54c6e866992d9dbadeb61": {
      "model_module": "@jupyter-widgets/controls",
      "model_module_version": "1.4.0",
      "model_name": "DescriptionStyleModel",
      "state": {
       "description_width": ""
      }
     },
     "31af88a1bed241da988680296867d8b1": {
      "model_module": "@jupyter-widgets/controls",
      "model_module_version": "1.4.0",
      "model_name": "DescriptionStyleModel",
      "state": {
       "description_width": ""
      }
     },
     "33c9b8ec6dca49a2acd35689563133c5": {
      "model_module": "@jupyter-widgets/controls",
      "model_module_version": "1.4.0",
      "model_name": "ButtonStyleModel",
      "state": {}
     },
     "33fd2cadb60546aa85d52c7aa63f1ffd": {
      "model_module": "@jupyter-widgets/base",
      "model_module_version": "1.1.0",
      "model_name": "LayoutModel",
      "state": {}
     },
     "3e7b5591464247429b47610c6afebed0": {
      "model_module": "@jupyter-widgets/controls",
      "model_module_version": "1.4.0",
      "model_name": "HTMLModel",
      "state": {
       "layout": "IPY_MODEL_7ec0fabc9b7e499ba352b08e56ff5cb1",
       "style": "IPY_MODEL_53aa7ac8a4624cac872251b0d3254b96",
       "value": "<h4 style=\"font-size:14px;\">Unifizieren f1 und f4?</h4>"
      }
     },
     "4899112a68f84c9884a8f884e624d403": {
      "model_module": "@jupyter-widgets/controls",
      "model_module_version": "1.4.0",
      "model_name": "VBoxModel",
      "state": {
       "children": [
        "IPY_MODEL_135d0be6666c47a3ac651dc2fbdc521f",
        "IPY_MODEL_71f6babd81844b44b43bfc1baff2da62",
        "IPY_MODEL_00528c5ef6f946c0a04362c98e15b5e6"
       ],
       "layout": "IPY_MODEL_4b2d19d8710b4a3bb3ab716252fd3d57"
      }
     },
     "4b2d19d8710b4a3bb3ab716252fd3d57": {
      "model_module": "@jupyter-widgets/base",
      "model_module_version": "1.1.0",
      "model_name": "LayoutModel",
      "state": {}
     },
     "53aa7ac8a4624cac872251b0d3254b96": {
      "model_module": "@jupyter-widgets/controls",
      "model_module_version": "1.4.0",
      "model_name": "DescriptionStyleModel",
      "state": {
       "description_width": ""
      }
     },
     "5ab22ef60fb84579be25cf67ebc5d777": {
      "model_module": "@jupyter-widgets/controls",
      "model_module_version": "1.4.0",
      "model_name": "HBoxModel",
      "state": {
       "children": [
        "IPY_MODEL_1fd3c24258834a02918367cfd015dca6",
        "IPY_MODEL_df17b6538f3245c0a0ca45ff5c52e298"
       ],
       "layout": "IPY_MODEL_f8b589e2bc62461b80ae88271deb1000"
      }
     },
     "6064c6bf90864eddac3fc63d59fb47c8": {
      "model_module": "@jupyter-widgets/base",
      "model_module_version": "1.1.0",
      "model_name": "LayoutModel",
      "state": {
       "width": "250px"
      }
     },
     "670f0125ebaf403e973cd3eebd4fd081": {
      "model_module": "@jupyter-widgets/base",
      "model_module_version": "1.1.0",
      "model_name": "LayoutModel",
      "state": {
       "width": "250px"
      }
     },
     "6b82fdf1164a4ba9af77abc87c450fca": {
      "model_module": "@jupyter-widgets/controls",
      "model_module_version": "1.4.0",
      "model_name": "VBoxModel",
      "state": {
       "children": [
        "IPY_MODEL_3e7b5591464247429b47610c6afebed0",
        "IPY_MODEL_944fef3d1378473e91f5ebb21a43a991",
        "IPY_MODEL_0dba7e687fa14c81a28e8e9a99ee0098"
       ],
       "layout": "IPY_MODEL_dbd149e9db2340c0a986ceb8c64dadc0"
      }
     },
     "6bb19c14f3ff4d0aa2e24ae3f2af0edb": {
      "model_module": "@jupyter-widgets/controls",
      "model_module_version": "1.4.0",
      "model_name": "VBoxModel",
      "state": {
       "children": [
        "IPY_MODEL_b56a6c47a97449d9b5f9cbc20ae523ca",
        "IPY_MODEL_0ce16efe8cc4437984f83e7a37a522be",
        "IPY_MODEL_a5b92f4a310c4784b9e89dc64550f907"
       ],
       "layout": "IPY_MODEL_067971efd5094d6193877201baf9ca6a"
      }
     },
     "6d6e854d61b04b3e95eb641b373de5b2": {
      "model_module": "@jupyter-widgets/base",
      "model_module_version": "1.1.0",
      "model_name": "LayoutModel",
      "state": {}
     },
     "70f5d7bb7f454b5d9edfb155b9041a53": {
      "model_module": "@jupyter-widgets/controls",
      "model_module_version": "1.4.0",
      "model_name": "DescriptionStyleModel",
      "state": {
       "description_width": ""
      }
     },
     "71f6babd81844b44b43bfc1baff2da62": {
      "model_module": "@jupyter-widgets/controls",
      "model_module_version": "1.4.0",
      "model_name": "HTMLModel",
      "state": {
       "layout": "IPY_MODEL_efab3c4bd3f44ddd90bcb91aed7b2d6e",
       "style": "IPY_MODEL_a7be52ae01ba408ebcb032ba22d0629a",
       "value": "<i>Wählen Sie die <ins>eine</ins> korrekte Antwort aus: </i>"
      }
     },
     "7243052366b04f0696cb05ef2f47b153": {
      "model_module": "@jupyter-widgets/controls",
      "model_module_version": "1.4.0",
      "model_name": "ButtonModel",
      "state": {
       "description": "Ja",
       "layout": "IPY_MODEL_93a9146b0ad64c47ab097bcf1a0d7da4",
       "style": "IPY_MODEL_d3fce2750481416eb36ba8800f70b0c1"
      }
     },
     "7e23466f34224978bbb371c839930579": {
      "model_module": "@jupyter-widgets/base",
      "model_module_version": "1.1.0",
      "model_name": "LayoutModel",
      "state": {
       "justify_content": "center"
      }
     },
     "7ec0fabc9b7e499ba352b08e56ff5cb1": {
      "model_module": "@jupyter-widgets/base",
      "model_module_version": "1.1.0",
      "model_name": "LayoutModel",
      "state": {
       "justify_content": "center"
      }
     },
     "7fb4c7e5f88b4c45bd8804ab39d47189": {
      "model_module": "@jupyter-widgets/controls",
      "model_module_version": "1.4.0",
      "model_name": "ButtonModel",
      "state": {
       "description": "Ja",
       "layout": "IPY_MODEL_eb321bc643a24486bfd04221a9f2426c",
       "style": "IPY_MODEL_05ad098a00d64e2c953edfb6762f6afa"
      }
     },
     "8c8420c3ee824fe2ae963312ac480de7": {
      "model_module": "@jupyter-widgets/controls",
      "model_module_version": "1.4.0",
      "model_name": "ButtonModel",
      "state": {
       "description": "Nein",
       "layout": "IPY_MODEL_e7dcb4269cd947369f099763f6b070c5",
       "style": "IPY_MODEL_0100289e5fd94d7f8d6d6a33da069f90"
      }
     },
     "93a9146b0ad64c47ab097bcf1a0d7da4": {
      "model_module": "@jupyter-widgets/base",
      "model_module_version": "1.1.0",
      "model_name": "LayoutModel",
      "state": {
       "width": "250px"
      }
     },
     "944fef3d1378473e91f5ebb21a43a991": {
      "model_module": "@jupyter-widgets/controls",
      "model_module_version": "1.4.0",
      "model_name": "HTMLModel",
      "state": {
       "layout": "IPY_MODEL_c1ea92c3882b4e6e909a9f4784759dad",
       "style": "IPY_MODEL_b217ce0ee45c40ae8dc5f2a724a0f567",
       "value": "<i>Wählen Sie die <ins>eine</ins> korrekte Antwort aus: </i>"
      }
     },
     "99ab52199c324262b9275d8b042cd5d2": {
      "model_module": "@jupyter-widgets/base",
      "model_module_version": "1.1.0",
      "model_name": "LayoutModel",
      "state": {}
     },
     "9f85f9446e1946bdb51bf84076043b83": {
      "model_module": "@jupyter-widgets/controls",
      "model_module_version": "1.4.0",
      "model_name": "ButtonStyleModel",
      "state": {}
     },
     "a5b92f4a310c4784b9e89dc64550f907": {
      "model_module": "@jupyter-widgets/controls",
      "model_module_version": "1.4.0",
      "model_name": "HBoxModel",
      "state": {
       "children": [
        "IPY_MODEL_d9ed9a6647504b9cad24a265917671cb",
        "IPY_MODEL_035748e536c24ef4a494ef217cb3e9ac"
       ],
       "layout": "IPY_MODEL_6d6e854d61b04b3e95eb641b373de5b2"
      }
     },
     "a5fe57ff65f84ba3990bab11afa1b77f": {
      "model_module": "@jupyter-widgets/base",
      "model_module_version": "1.1.0",
      "model_name": "LayoutModel",
      "state": {
       "justify_content": "center"
      }
     },
     "a7be52ae01ba408ebcb032ba22d0629a": {
      "model_module": "@jupyter-widgets/controls",
      "model_module_version": "1.4.0",
      "model_name": "DescriptionStyleModel",
      "state": {
       "description_width": ""
      }
     },
     "adadcd0d5fd54469ac92f87ed36804af": {
      "model_module": "@jupyter-widgets/base",
      "model_module_version": "1.1.0",
      "model_name": "LayoutModel",
      "state": {
       "justify_content": "center"
      }
     },
     "b0741082f46b493ab5085dfd2c0c6081": {
      "model_module": "@jupyter-widgets/base",
      "model_module_version": "1.1.0",
      "model_name": "LayoutModel",
      "state": {
       "width": "250px"
      }
     },
     "b217ce0ee45c40ae8dc5f2a724a0f567": {
      "model_module": "@jupyter-widgets/controls",
      "model_module_version": "1.4.0",
      "model_name": "DescriptionStyleModel",
      "state": {
       "description_width": ""
      }
     },
     "b382fc9f96dc4d459daf66c7fd944677": {
      "model_module": "@jupyter-widgets/controls",
      "model_module_version": "1.4.0",
      "model_name": "ButtonModel",
      "state": {
       "description": "Nein",
       "layout": "IPY_MODEL_670f0125ebaf403e973cd3eebd4fd081",
       "style": "IPY_MODEL_9f85f9446e1946bdb51bf84076043b83"
      }
     },
     "b56a6c47a97449d9b5f9cbc20ae523ca": {
      "model_module": "@jupyter-widgets/controls",
      "model_module_version": "1.4.0",
      "model_name": "HTMLModel",
      "state": {
       "layout": "IPY_MODEL_05252691bace4668bd9d1e599ebf2b75",
       "style": "IPY_MODEL_c295f6456492482abddfd244ed2c1613",
       "value": "<h4 style=\"font-size:14px;\">Unifizieren f1 und f2?</h4>"
      }
     },
     "bc4a1c6ed2b6447ab0eac8c133c8f744": {
      "model_module": "@jupyter-widgets/controls",
      "model_module_version": "1.4.0",
      "model_name": "VBoxModel",
      "state": {
       "children": [
        "IPY_MODEL_fb53a1e76de542e8a5d810ad0817f550",
        "IPY_MODEL_c00d24c2418b455c963efc049c7c864e",
        "IPY_MODEL_5ab22ef60fb84579be25cf67ebc5d777"
       ],
       "layout": "IPY_MODEL_33fd2cadb60546aa85d52c7aa63f1ffd"
      }
     },
     "c00d24c2418b455c963efc049c7c864e": {
      "model_module": "@jupyter-widgets/controls",
      "model_module_version": "1.4.0",
      "model_name": "HTMLModel",
      "state": {
       "layout": "IPY_MODEL_a5fe57ff65f84ba3990bab11afa1b77f",
       "style": "IPY_MODEL_31af88a1bed241da988680296867d8b1",
       "value": "<i>Wählen Sie die <ins>eine</ins> korrekte Antwort aus: </i>"
      }
     },
     "c1ea92c3882b4e6e909a9f4784759dad": {
      "model_module": "@jupyter-widgets/base",
      "model_module_version": "1.1.0",
      "model_name": "LayoutModel",
      "state": {
       "justify_content": "center"
      }
     },
     "c295f6456492482abddfd244ed2c1613": {
      "model_module": "@jupyter-widgets/controls",
      "model_module_version": "1.4.0",
      "model_name": "DescriptionStyleModel",
      "state": {
       "description_width": ""
      }
     },
     "d3fce2750481416eb36ba8800f70b0c1": {
      "model_module": "@jupyter-widgets/controls",
      "model_module_version": "1.4.0",
      "model_name": "ButtonStyleModel",
      "state": {}
     },
     "d7226bd8bb694fef8f3a8eec460ba747": {
      "model_module": "@jupyter-widgets/controls",
      "model_module_version": "1.4.0",
      "model_name": "ButtonStyleModel",
      "state": {}
     },
     "d9ed9a6647504b9cad24a265917671cb": {
      "model_module": "@jupyter-widgets/controls",
      "model_module_version": "1.4.0",
      "model_name": "ButtonModel",
      "state": {
       "description": "Ja",
       "layout": "IPY_MODEL_b0741082f46b493ab5085dfd2c0c6081",
       "style": "IPY_MODEL_d7226bd8bb694fef8f3a8eec460ba747"
      }
     },
     "dbd149e9db2340c0a986ceb8c64dadc0": {
      "model_module": "@jupyter-widgets/base",
      "model_module_version": "1.1.0",
      "model_name": "LayoutModel",
      "state": {}
     },
     "df17b6538f3245c0a0ca45ff5c52e298": {
      "model_module": "@jupyter-widgets/controls",
      "model_module_version": "1.4.0",
      "model_name": "ButtonModel",
      "state": {
       "description": "Nein",
       "layout": "IPY_MODEL_0893a04e40c64f848bb0cbe2aabbce16",
       "style": "IPY_MODEL_040a878cbddf4beb8887f54e7bd0ad20"
      }
     },
     "e4ce2b78b28f4093ba538bde2db31916": {
      "model_module": "@jupyter-widgets/controls",
      "model_module_version": "1.4.0",
      "model_name": "DescriptionStyleModel",
      "state": {
       "description_width": ""
      }
     },
     "e7dcb4269cd947369f099763f6b070c5": {
      "model_module": "@jupyter-widgets/base",
      "model_module_version": "1.1.0",
      "model_name": "LayoutModel",
      "state": {
       "width": "250px"
      }
     },
     "eab026e48d2146ae808acab3ab3cdf30": {
      "model_module": "@jupyter-widgets/controls",
      "model_module_version": "1.4.0",
      "model_name": "ButtonStyleModel",
      "state": {}
     },
     "eb321bc643a24486bfd04221a9f2426c": {
      "model_module": "@jupyter-widgets/base",
      "model_module_version": "1.1.0",
      "model_name": "LayoutModel",
      "state": {
       "width": "250px"
      }
     },
     "efab3c4bd3f44ddd90bcb91aed7b2d6e": {
      "model_module": "@jupyter-widgets/base",
      "model_module_version": "1.1.0",
      "model_name": "LayoutModel",
      "state": {
       "justify_content": "center"
      }
     },
     "f8b589e2bc62461b80ae88271deb1000": {
      "model_module": "@jupyter-widgets/base",
      "model_module_version": "1.1.0",
      "model_name": "LayoutModel",
      "state": {}
     },
     "fb53a1e76de542e8a5d810ad0817f550": {
      "model_module": "@jupyter-widgets/controls",
      "model_module_version": "1.4.0",
      "model_name": "HTMLModel",
      "state": {
       "layout": "IPY_MODEL_7e23466f34224978bbb371c839930579",
       "style": "IPY_MODEL_2dde9f6f47b54c6e866992d9dbadeb61",
       "value": "<h4 style=\"font-size:14px;\">Unifizieren f2 und f4?</h4>"
      }
     }
    },
    "version_major": 2,
    "version_minor": 0
   }
  }
 },
 "nbformat": 4,
 "nbformat_minor": 2
}
